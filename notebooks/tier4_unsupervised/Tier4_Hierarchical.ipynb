{
 "cells": [
  {
   "cell_type": "markdown",
   "metadata": {},
   "source": [
    "# Tier 4: Hierarchical Clustering\n",
    "\n",
    "---\n",
    "\n",
    "**Author:** Brandon Deloatch\n",
    "**Affiliation:** Quipu Research Labs, LLC\n",
    "**Date:** 2025-10-02\n",
    "**Version:** v1.3\n",
    "**License:** MIT\n",
    "**Notebook ID:** 626f342d-2fd4-460e-aafa-3fc7c960c4b2\n",
    "\n",
    "---\n",
    "\n",
    "## Citation\n",
    "Brandon Deloatch, \"Tier 4: Hierarchical Clustering,\" Quipu Research Labs, LLC, v1.3, 2025-10-02.\n",
    "\n",
    "Please cite this notebook if used or adapted in publications, presentations, or derivative work.\n",
    "\n",
    "---\n",
    "\n",
    "## Contributors / Acknowledgments\n",
    "- **Primary Author:** Brandon Deloatch (Quipu Research Labs, LLC)\n",
    "- **Institutional Support:** Quipu Research Labs, LLC - Advanced Analytics Division\n",
    "- **Technical Framework:** Built on scikit-learn, pandas, numpy, and plotly ecosystems\n",
    "- **Methodological Foundation:** Statistical learning principles and modern data science best practices\n",
    "\n",
    "---\n",
    "\n",
    "## Version History\n",
    "| Version | Date | Notes |\n",
    "|---------|------|-------|\n",
    "| v1.3 | 2025-10-02 | Enhanced professional formatting, comprehensive documentation, interactive visualizations |\n",
    "| v1.2 | 2024-09-15 | Updated analysis methods, improved data generation algorithms |\n",
    "| v1.0 | 2024-06-10 | Initial release with core analytical framework |\n",
    "\n",
    "---\n",
    "\n",
    "## Environment Dependencies\n",
    "- **Python:** 3.8+\n",
    "- **Core Libraries:** pandas 2.0+, numpy 1.24+, scikit-learn 1.3+\n",
    "- **Visualization:** plotly 5.0+, matplotlib 3.7+\n",
    "- **Statistical:** scipy 1.10+, statsmodels 0.14+\n",
    "- **Development:** jupyter-lab 4.0+, ipywidgets 8.0+\n",
    "\n",
    "> **Reproducibility Note:** Use requirements.txt or environment.yml for exact dependency matching.\n",
    "\n",
    "---\n",
    "\n",
    "## Data Provenance\n",
    "| Dataset | Source | License | Notes |\n",
    "|---------|--------|---------|-------|\n",
    "| Synthetic Data | Generated in-notebook | MIT | Custom algorithms for realistic simulation |\n",
    "| Statistical Distributions | NumPy/SciPy | BSD-3-Clause | Standard library implementations |\n",
    "| ML Algorithms | Scikit-learn | BSD-3-Clause | Industry-standard implementations |\n",
    "| Visualization Schemas | Plotly | MIT | Interactive dashboard frameworks |\n",
    "\n",
    "---\n",
    "\n",
    "## Execution Provenance Logs\n",
    "- **Created:** 2025-10-02\n",
    "- **Notebook ID:** 626f342d-2fd4-460e-aafa-3fc7c960c4b2\n",
    "- **Execution Environment:** Jupyter Lab / VS Code\n",
    "- **Computational Requirements:** Standard laptop/workstation (2GB+ RAM recommended)\n",
    "\n",
    "> **Auto-tracking:** Execution metadata can be programmatically captured for reproducibility.\n",
    "\n",
    "---\n",
    "\n",
    "## Disclaimer & Responsible Use\n",
    "This notebook is provided \"as-is\" for educational, research, and professional development purposes. Users assume full responsibility for any results, applications, or decisions derived from this analysis.\n",
    "\n",
    "**Professional Standards:**\n",
    "- Validate all results against domain expertise and additional data sources\n",
    "- Respect licensing and attribution requirements for all dependencies\n",
    "- Follow ethical guidelines for data analysis and algorithmic decision-making\n",
    "- Credit all methodological sources and derivative frameworks appropriately\n",
    "\n",
    "**Academic & Commercial Use:**\n",
    "- Permitted under MIT license with proper attribution\n",
    "- Suitable for educational curriculum and professional training\n",
    "- Appropriate for commercial adaptation with citation requirements\n",
    "- Recommended for reproducible research and transparent analytics\n",
    "\n",
    "---\n",
    "\n"
   ]
  },
  {
   "cell_type": "code",
   "execution_count": 1,
   "id": "182959ca",
   "metadata": {},
   "outputs": [
    {
     "name": "stdout",
     "output_type": "stream",
     "text": [
      " Tier 4: Hierarchical Clustering - Libraries Loaded!\n",
      "==================================================\n",
      "Hierarchical Techniques:\n",
      "• Agglomerative (bottom-up) clustering\n",
      "• Multiple linkage criteria (Ward, complete, average)\n",
      "• Dendrogram visualization and interpretation\n",
      "• Optimal cluster number determination\n",
      "• Distance matrix analysis\n"
     ]
    }
   ],
   "source": [
    "import pandas as pd\n",
    "import numpy as np\n",
    "import plotly.express as px\n",
    "import plotly.graph_objects as go\n",
    "import plotly.figure_factory as ff\n",
    "from plotly.subplots import make_subplots\n",
    "from sklearn.cluster import AgglomerativeClustering\n",
    "from sklearn.metrics import silhouette_score\n",
    "from sklearn.preprocessing import StandardScaler\n",
    "from scipy.cluster.hierarchy import dendrogram, linkage, fcluster\n",
    "from scipy.spatial.distance import pdist\n",
    "import warnings\n",
    "warnings.filterwarnings('ignore')\n",
    "\n",
    "print(\" Tier 4: Hierarchical Clustering - Libraries Loaded!\")\n",
    "print(\"=\" * 50)\n",
    "print(\"Hierarchical Techniques:\")\n",
    "print(\"• Agglomerative (bottom-up) clustering\")\n",
    "print(\"• Multiple linkage criteria (Ward, complete, average)\")\n",
    "print(\"• Dendrogram visualization and interpretation\")\n",
    "print(\"• Optimal cluster number determination\")\n",
    "print(\"• Distance matrix analysis\")"
   ]
  },
  {
   "cell_type": "code",
   "execution_count": null,
   "id": "39b30e21",
   "metadata": {},
   "outputs": [
    {
     "name": "stdout",
     "output_type": "stream",
     "text": [
      " Hierarchical Clustering Dataset:\n",
      "Products analyzed: 20\n",
      "Features: ['price', 'quality_score', 'brand_strength', 'market_share']\n",
      "Price range: $8 - $44\n",
      "Quality range: 1.6 - 9.8\n"
     ]
    }
   ],
   "source": [
    "# Generate hierarchical clustering datasets\n",
    "np.random.seed(42)\n",
    "\n",
    "# Product similarity data\n",
    "products = [f\"Product_{i:02d}\" for i in range(1, 21)]\n",
    "n_products = len(products)\n",
    "\n",
    "# Create feature matrix (price, quality, brand_strength, market_share)\n",
    "product_features = pd.DataFrame({\n",
    "    'price': np.random.lognormal(3, 0.5, n_products),\n",
    "    'quality_score': np.random.beta(2, 1, n_products) * 10,\n",
    "    'brand_strength': np.random.gamma(2, 2, n_products),\n",
    "    'market_share': np.random.exponential(2, n_products)\n",
    "}, index=products)\n",
    "\n",
    "# Normalize features\n",
    "scaler = StandardScaler()\n",
    "product_features_scaled = scaler.fit_transform(product_features)\n",
    "\n",
    "print(\" Hierarchical Clustering Dataset:\")\n",
    "print(f\"Products analyzed: {n_products}\")\n",
    "print(f\"Features: {list(product_features.columns)}\")\n",
    "print(f\"Price range: ${product_features['price'].min():.0f} - ${product_features['price'].max():.0f}\")\n",
    "print(f\"Quality range: {product_features['quality_score'].min():.1f} - {product_features['quality_score'].max():.1f}\")"
   ]
  },
  {
   "cell_type": "code",
   "execution_count": 4,
   "id": "cb3ac3cd",
   "metadata": {},
   "outputs": [
    {
     "name": "stdout",
     "output_type": "stream",
     "text": [
      " 1. HIERARCHICAL CLUSTERING ANALYSIS\n",
      "=====================================\n",
      "Ward linkage: 4 clusters, silhouette = 0.247\n",
      "Complete linkage: 4 clusters, silhouette = 0.192\n",
      "Average linkage: 4 clusters, silhouette = 0.248\n",
      "Single linkage: 4 clusters, silhouette = 0.194\n",
      "\n",
      "Best linkage method: average (silhouette = 0.248)\n",
      "\n",
      "Cluster Analysis:\n",
      "Cluster 1: 2 products, avg price $44, avg quality 6.9\n",
      "Cluster 2: 3 products, avg price $19, avg quality 8.3\n",
      "Cluster 3: 14 products, avg price $17, avg quality 7.6\n",
      "Cluster 4: 1 products, avg price $28, avg quality 1.6\n"
     ]
    }
   ],
   "source": [
    "# 1. HIERARCHICAL CLUSTERING WITH DIFFERENT LINKAGES\n",
    "print(\" 1. HIERARCHICAL CLUSTERING ANALYSIS\")\n",
    "print(\"=\" * 37)\n",
    "\n",
    "# Test different linkage methods\n",
    "linkage_methods = ['ward', 'complete', 'average', 'single']\n",
    "linkage_results = {}\n",
    "\n",
    "for method in linkage_methods:\n",
    "    # Compute linkage matrix\n",
    "    if method == 'ward':\n",
    "        linkage_matrix = linkage(product_features_scaled, method='ward')\n",
    "    else:\n",
    "        distances = pdist(product_features_scaled)\n",
    "        linkage_matrix = linkage(distances, method=method)\n",
    "\n",
    "    # Get clusters for different numbers\n",
    "    n_clusters = 4\n",
    "    clusters = fcluster(linkage_matrix, n_clusters, criterion='maxclust')\n",
    "\n",
    "    # Calculate silhouette score\n",
    "    silhouette = silhouette_score(product_features_scaled, clusters)\n",
    "\n",
    "    linkage_results[method] = {\n",
    "        'linkage_matrix': linkage_matrix,\n",
    "        'clusters': clusters,\n",
    "        'silhouette': silhouette\n",
    "    }\n",
    "\n",
    "    print(f\"{method.capitalize()} linkage: {n_clusters} clusters, silhouette = {silhouette:.3f}\")\n",
    "\n",
    "# Select best linkage method\n",
    "best_method = max(linkage_results.keys(), key=lambda x: linkage_results[x]['silhouette'])\n",
    "best_linkage = linkage_results[best_method]['linkage_matrix']\n",
    "best_clusters = linkage_results[best_method]['clusters']\n",
    "\n",
    "print(f\"\\nBest linkage method: {best_method} (silhouette = {linkage_results[best_method]['silhouette']:.3f})\")\n",
    "\n",
    "# Analyze cluster composition\n",
    "product_features['cluster'] = best_clusters\n",
    "cluster_analysis = product_features.groupby('cluster').agg({\n",
    "    'price': ['mean', 'std', 'count'],\n",
    "    'quality_score': ['mean', 'std'],\n",
    "    'brand_strength': ['mean', 'std'],\n",
    "    'market_share': ['mean', 'std']\n",
    "}).round(2)\n",
    "\n",
    "print(f\"\\nCluster Analysis:\")\n",
    "for cluster in range(1, n_clusters + 1):\n",
    "    cluster_products = product_features[product_features['cluster'] == cluster]\n",
    "    cluster_size = len(cluster_products)\n",
    "    avg_price = cluster_products['price'].mean()\n",
    "    avg_quality = cluster_products['quality_score'].mean()\n",
    "\n",
    "    print(f\"Cluster {cluster}: {cluster_size} products, avg price ${avg_price:.0f}, avg quality {avg_quality:.1f}\")"
   ]
  },
  {
   "cell_type": "code",
   "execution_count": 5,
   "id": "6c606304",
   "metadata": {},
   "outputs": [
    {
     "name": "stdout",
     "output_type": "stream",
     "text": [
      " 2. INTERACTIVE HIERARCHICAL VISUALIZATIONS\n",
      "============================================\n"
     ]
    },
    {
     "data": {
      "application/vnd.plotly.v1+json": {
       "config": {
        "plotlyServerURL": "https://plot.ly"
       },
       "data": [
        {
         "hoverinfo": "skip",
         "line": {
          "color": "blue",
          "width": 1
         },
         "mode": "lines",
         "showlegend": false,
         "type": "scatter",
         "x": {
          "bdata": "AAAAAAAALkAAAAAAAAAuQAAAAAAAADlAAAAAAAAAOUA=",
          "dtype": "f8"
         },
         "xaxis": "x",
         "y": {
          "bdata": "AAAAAAAAAADaftuhkUsFQNp+26GRSwVAAAAAAAAAAAA=",
          "dtype": "f8"
         },
         "yaxis": "y"
        },
        {
         "hoverinfo": "skip",
         "line": {
          "color": "blue",
          "width": 1
         },
         "mode": "lines",
         "showlegend": false,
         "type": "scatter",
         "x": {
          "bdata": "AAAAAACARkAAAAAAAIBGQAAAAAAAgEtAAAAAAACAS0A=",
          "dtype": "f8"
         },
         "xaxis": "x",
         "y": {
          "bdata": "AAAAAAAAAADT8IWrnLD4P9PwhaucsPg/AAAAAAAAAAA=",
          "dtype": "f8"
         },
         "yaxis": "y"
        },
        {
         "hoverinfo": "skip",
         "line": {
          "color": "blue",
          "width": 1
         },
         "mode": "lines",
         "showlegend": false,
         "type": "scatter",
         "x": {
          "bdata": "AAAAAACAQUAAAAAAAIBBQAAAAAAAAElAAAAAAAAASUA=",
          "dtype": "f8"
         },
         "xaxis": "x",
         "y": {
          "bdata": "AAAAAAAAAAAgJXVQIgf9PyAldVAiB/0/0/CFq5yw+D8=",
          "dtype": "f8"
         },
         "yaxis": "y"
        },
        {
         "hoverinfo": "skip",
         "line": {
          "color": "blue",
          "width": 1
         },
         "mode": "lines",
         "showlegend": false,
         "type": "scatter",
         "x": {
          "bdata": "AAAAAABAUEAAAAAAAEBQQAAAAAAAwFJAAAAAAADAUkA=",
          "dtype": "f8"
         },
         "xaxis": "x",
         "y": {
          "bdata": "AAAAAAAAAAC6IGq7NIb8P7ogars0hvw/AAAAAAAAAAA=",
          "dtype": "f8"
         },
         "yaxis": "y"
        },
        {
         "hoverinfo": "skip",
         "line": {
          "color": "blue",
          "width": 1
         },
         "mode": "lines",
         "showlegend": false,
         "type": "scatter",
         "x": {
          "bdata": "AAAAAABAWkAAAAAAAEBaQAAAAAAAwFxAAAAAAADAXEA=",
          "dtype": "f8"
         },
         "xaxis": "x",
         "y": {
          "bdata": "AAAAAAAAAAAUkGgqkqfmPxSQaCqSp+Y/AAAAAAAAAAA=",
          "dtype": "f8"
         },
         "yaxis": "y"
        },
        {
         "hoverinfo": "skip",
         "line": {
          "color": "blue",
          "width": 1
         },
         "mode": "lines",
         "showlegend": false,
         "type": "scatter",
         "x": {
          "bdata": "AAAAAADAV0AAAAAAAMBXQAAAAAAAgFtAAAAAAACAW0A=",
          "dtype": "f8"
         },
         "xaxis": "x",
         "y": {
          "bdata": "AAAAAAAAAAASVqYelrL0PxJWph6WsvQ/FJBoKpKn5j8=",
          "dtype": "f8"
         },
         "yaxis": "y"
        },
        {
         "hoverinfo": "skip",
         "line": {
          "color": "blue",
          "width": 1
         },
         "mode": "lines",
         "showlegend": false,
         "type": "scatter",
         "x": {
          "bdata": "AAAAAABAVUAAAAAAAEBVQAAAAAAAoFlAAAAAAACgWUA=",
          "dtype": "f8"
         },
         "xaxis": "x",
         "y": {
          "bdata": "AAAAAAAAAAAQWV1UEhn5PxBZXVQSGfk/ElamHpay9D8=",
          "dtype": "f8"
         },
         "yaxis": "y"
        },
        {
         "hoverinfo": "skip",
         "line": {
          "color": "blue",
          "width": 1
         },
         "mode": "lines",
         "showlegend": false,
         "type": "scatter",
         "x": {
          "bdata": "AAAAAADgYEAAAAAAAOBgQAAAAAAAIGJAAAAAAAAgYkA=",
          "dtype": "f8"
         },
         "xaxis": "x",
         "y": {
          "bdata": "AAAAAAAAAADespnb1nXiP96ymdvWdeI/AAAAAAAAAAA=",
          "dtype": "f8"
         },
         "yaxis": "y"
        },
        {
         "hoverinfo": "skip",
         "line": {
          "color": "blue",
          "width": 1
         },
         "mode": "lines",
         "showlegend": false,
         "type": "scatter",
         "x": {
          "bdata": "AAAAAABAX0AAAAAAAEBfQAAAAAAAgGFAAAAAAACAYUA=",
          "dtype": "f8"
         },
         "xaxis": "x",
         "y": {
          "bdata": "AAAAAAAAAABSM2Q0+rPsP1IzZDT6s+w/3rKZ29Z14j8=",
          "dtype": "f8"
         },
         "yaxis": "y"
        },
        {
         "hoverinfo": "skip",
         "line": {
          "color": "blue",
          "width": 1
         },
         "mode": "lines",
         "showlegend": false,
         "type": "scatter",
         "x": {
          "bdata": "AAAAAABgY0AAAAAAAGBjQAAAAAAAoGRAAAAAAACgZEA=",
          "dtype": "f8"
         },
         "xaxis": "x",
         "y": {
          "bdata": "AAAAAAAAAAASksLaV27uPxKSwtpXbu4/AAAAAAAAAAA=",
          "dtype": "f8"
         },
         "yaxis": "y"
        },
        {
         "hoverinfo": "skip",
         "line": {
          "color": "blue",
          "width": 1
         },
         "mode": "lines",
         "showlegend": false,
         "type": "scatter",
         "x": {
          "bdata": "AAAAAACQYEAAAAAAAJBgQAAAAAAAAGRAAAAAAAAAZEA=",
          "dtype": "f8"
         },
         "xaxis": "x",
         "y": {
          "bdata": "UjNkNPqz7D/3xdo1Gl/wP/fF2jUaX/A/EpLC2ldu7j8=",
          "dtype": "f8"
         },
         "yaxis": "y"
        },
        {
         "hoverinfo": "skip",
         "line": {
          "color": "blue",
          "width": 1
         },
         "mode": "lines",
         "showlegend": false,
         "type": "scatter",
         "x": {
          "bdata": "AAAAAAAgZ0AAAAAAACBnQAAAAAAAYGhAAAAAAABgaEA=",
          "dtype": "f8"
         },
         "xaxis": "x",
         "y": {
          "bdata": "AAAAAAAAAADpOSbyRJDvP+k5JvJEkO8/AAAAAAAAAAA=",
          "dtype": "f8"
         },
         "yaxis": "y"
        },
        {
         "hoverinfo": "skip",
         "line": {
          "color": "blue",
          "width": 1
         },
         "mode": "lines",
         "showlegend": false,
         "type": "scatter",
         "x": {
          "bdata": "AAAAAADgZUAAAAAAAOBlQAAAAAAAwGdAAAAAAADAZ0A=",
          "dtype": "f8"
         },
         "xaxis": "x",
         "y": {
          "bdata": "AAAAAAAAAACUK7UtwljxP5QrtS3CWPE/6Tkm8kSQ7z8=",
          "dtype": "f8"
         },
         "yaxis": "y"
        },
        {
         "hoverinfo": "skip",
         "line": {
          "color": "blue",
          "width": 1
         },
         "mode": "lines",
         "showlegend": false,
         "type": "scatter",
         "x": {
          "bdata": "AAAAAABIYkAAAAAAAEhiQAAAAAAA0GZAAAAAAADQZkA=",
          "dtype": "f8"
         },
         "xaxis": "x",
         "y": {
          "bdata": "98XaNRpf8D/gJd33P079P+Al3fc/Tv0/lCu1LcJY8T8=",
          "dtype": "f8"
         },
         "yaxis": "y"
        },
        {
         "hoverinfo": "skip",
         "line": {
          "color": "blue",
          "width": 1
         },
         "mode": "lines",
         "showlegend": false,
         "type": "scatter",
         "x": {
          "bdata": "AAAAAABwV0AAAAAAAHBXQAAAAAAAjGRAAAAAAACMZEA=",
          "dtype": "f8"
         },
         "xaxis": "x",
         "y": {
          "bdata": "EFldVBIZ+T9FlTqCKPsBQEWVOoIo+wFA4CXd9z9O/T8=",
          "dtype": "f8"
         },
         "yaxis": "y"
        },
        {
         "hoverinfo": "skip",
         "line": {
          "color": "blue",
          "width": 1
         },
         "mode": "lines",
         "showlegend": false,
         "type": "scatter",
         "x": {
          "bdata": "AAAAAACAUUAAAAAAAIBRQAAAAAAAImBAAAAAAAAiYEA=",
          "dtype": "f8"
         },
         "xaxis": "x",
         "y": {
          "bdata": "uiBquzSG/D8rZwvTKqUGQCtnC9MqpQZARZU6gij7AUA=",
          "dtype": "f8"
         },
         "yaxis": "y"
        },
        {
         "hoverinfo": "skip",
         "line": {
          "color": "blue",
          "width": 1
         },
         "mode": "lines",
         "showlegend": false,
         "type": "scatter",
         "x": {
          "bdata": "AAAAAABARUAAAAAAAEBFQAAAAAAA4lhAAAAAAADiWEA=",
          "dtype": "f8"
         },
         "xaxis": "x",
         "y": {
          "bdata": "ICV1UCIH/T/w5+98fKQHQPDn73x8pAdAK2cL0yqlBkA=",
          "dtype": "f8"
         },
         "yaxis": "y"
        },
        {
         "hoverinfo": "skip",
         "line": {
          "color": "blue",
          "width": 1
         },
         "mode": "lines",
         "showlegend": false,
         "type": "scatter",
         "x": {
          "bdata": "AAAAAAAANEAAAAAAAAA0QAAAAAAAwVFAAAAAAADBUUA=",
          "dtype": "f8"
         },
         "xaxis": "x",
         "y": {
          "bdata": "2n7boZFLBUCdt38+gPwMQJ23fz6A/AxA8OfvfHykB0A=",
          "dtype": "f8"
         },
         "yaxis": "y"
        },
        {
         "hoverinfo": "skip",
         "line": {
          "color": "blue",
          "width": 1
         },
         "mode": "lines",
         "showlegend": false,
         "type": "scatter",
         "x": {
          "bdata": "AAAAAAAAFEAAAAAAAAAUQAAAAAAAwUZAAAAAAADBRkA=",
          "dtype": "f8"
         },
         "xaxis": "x",
         "y": {
          "bdata": "AAAAAAAAAAAouzc+jkQOQCi7Nz6ORA5Anbd/PoD8DEA=",
          "dtype": "f8"
         },
         "yaxis": "y"
        },
        {
         "marker": {
          "color": "red",
          "opacity": 0.7,
          "size": 10
         },
         "mode": "markers+text",
         "name": "Cluster 1",
         "text": [
          "Product_04",
          "Product_07"
         ],
         "textposition": "top center",
         "type": "scatter",
         "x": {
          "bdata": "0jnxpbuBRUAEejINlx5GQA==",
          "dtype": "f8"
         },
         "xaxis": "x2",
         "y": {
          "bdata": "fgCFei/YFkBmhu8JSwkgQA==",
          "dtype": "f8"
         },
         "yaxis": "y2"
        },
        {
         "marker": {
          "color": "blue",
          "opacity": 0.7,
          "size": 10
         },
         "mode": "markers+text",
         "name": "Cluster 2",
         "text": [
          "Product_01",
          "Product_06",
          "Product_17"
         ],
         "textposition": "top center",
         "type": "scatter",
         "x": {
          "bdata": "39xnIn2/OUCgD861190xQF5McmCMNShA",
          "dtype": "f8"
         },
         "xaxis": "x2",
         "y": {
          "bdata": "nfN2/lApIUCVMPXcfVYaQK6n6bQBZyNA",
          "dtype": "f8"
         },
         "yaxis": "y2"
        },
        {
         "marker": {
          "color": "green",
          "opacity": 0.7,
          "size": 10
         },
         "mode": "markers+text",
         "name": "Cluster 3",
         "text": [
          "Product_02",
          "Product_05",
          "Product_08",
          "Product_09",
          "Product_10",
          "Product_11",
          "Product_12",
          "Product_13",
          "Product_14",
          "Product_15",
          "Product_16",
          "Product_18",
          "Product_19",
          "Product_20"
         ],
         "textposition": "top center",
         "type": "scatter",
         "x": {
          "bdata": "c/B7mG++MkCwpjAZzt0xQAI1q4Prej1AF9DGlDTEL0AiPoeKVFg6QBdDEa/e3C9AyvePGnLTL0CX87EBKqs2QKZBFh+w3R5A/vnAUwb1IEDKsn+7cFMuQIq1MNK9gDdA5jaOYfuCKUCdGLcxdtMjQA==",
          "dtype": "f8"
         },
         "xaxis": "x2",
         "y": {
          "bdata": "ePpNw9BWI0Bv6AjHK10ZQByPZTgP8hxAPPBpcJWPIkCykqy8qZAgQN+Fm8yM3RJA1/QUPRlkFUAMH4B+T0kKQE33+92t6yBAB6ijtyyOI0DjmkTPLkEjQChbZulH2iFA+sM4DJ1wIEAzvUbxxKkeQA==",
          "dtype": "f8"
         },
         "yaxis": "y2"
        },
        {
         "marker": {
          "color": "purple",
          "opacity": 0.7,
          "size": 10
         },
         "mode": "markers+text",
         "name": "Cluster 4",
         "text": [
          "Product_03"
         ],
         "textposition": "top center",
         "type": "scatter",
         "x": {
          "bdata": "QZ8K11LEO0A=",
          "dtype": "f8"
         },
         "xaxis": "x2",
         "y": {
          "bdata": "UtvbIoMP+j8=",
          "dtype": "f8"
         },
         "yaxis": "y2"
        },
        {
         "marker": {
          "color": [
           "lightblue",
           "lightblue",
           "red",
           "lightblue"
          ]
         },
         "name": "Silhouette Scores",
         "type": "bar",
         "x": [
          "ward",
          "complete",
          "average",
          "single"
         ],
         "xaxis": "x3",
         "y": [
          0.24671689696897503,
          0.1917423834166335,
          0.24779855772007559,
          0.19443589278784978
         ],
         "yaxis": "y3"
        }
       ],
       "layout": {
        "annotations": [
         {
          "font": {
           "size": 16
          },
          "showarrow": false,
          "text": "Dendrogram (Ward Linkage)",
          "x": 0.5,
          "xanchor": "center",
          "xref": "paper",
          "y": 1,
          "yanchor": "bottom",
          "yref": "paper"
         },
         {
          "font": {
           "size": 16
          },
          "showarrow": false,
          "text": "Product Clusters (Price vs Quality)",
          "x": 0.225,
          "xanchor": "center",
          "xref": "paper",
          "y": 0.375,
          "yanchor": "bottom",
          "yref": "paper"
         },
         {
          "font": {
           "size": 16
          },
          "showarrow": false,
          "text": "Linkage Method Comparison",
          "x": 0.775,
          "xanchor": "center",
          "xref": "paper",
          "y": 0.375,
          "yanchor": "bottom",
          "yref": "paper"
         }
        ],
        "height": 800,
        "template": {
         "data": {
          "bar": [
           {
            "error_x": {
             "color": "#2a3f5f"
            },
            "error_y": {
             "color": "#2a3f5f"
            },
            "marker": {
             "line": {
              "color": "#E5ECF6",
              "width": 0.5
             },
             "pattern": {
              "fillmode": "overlay",
              "size": 10,
              "solidity": 0.2
             }
            },
            "type": "bar"
           }
          ],
          "barpolar": [
           {
            "marker": {
             "line": {
              "color": "#E5ECF6",
              "width": 0.5
             },
             "pattern": {
              "fillmode": "overlay",
              "size": 10,
              "solidity": 0.2
             }
            },
            "type": "barpolar"
           }
          ],
          "carpet": [
           {
            "aaxis": {
             "endlinecolor": "#2a3f5f",
             "gridcolor": "white",
             "linecolor": "white",
             "minorgridcolor": "white",
             "startlinecolor": "#2a3f5f"
            },
            "baxis": {
             "endlinecolor": "#2a3f5f",
             "gridcolor": "white",
             "linecolor": "white",
             "minorgridcolor": "white",
             "startlinecolor": "#2a3f5f"
            },
            "type": "carpet"
           }
          ],
          "choropleth": [
           {
            "colorbar": {
             "outlinewidth": 0,
             "ticks": ""
            },
            "type": "choropleth"
           }
          ],
          "contour": [
           {
            "colorbar": {
             "outlinewidth": 0,
             "ticks": ""
            },
            "colorscale": [
             [
              0,
              "#0d0887"
             ],
             [
              0.1111111111111111,
              "#46039f"
             ],
             [
              0.2222222222222222,
              "#7201a8"
             ],
             [
              0.3333333333333333,
              "#9c179e"
             ],
             [
              0.4444444444444444,
              "#bd3786"
             ],
             [
              0.5555555555555556,
              "#d8576b"
             ],
             [
              0.6666666666666666,
              "#ed7953"
             ],
             [
              0.7777777777777778,
              "#fb9f3a"
             ],
             [
              0.8888888888888888,
              "#fdca26"
             ],
             [
              1,
              "#f0f921"
             ]
            ],
            "type": "contour"
           }
          ],
          "contourcarpet": [
           {
            "colorbar": {
             "outlinewidth": 0,
             "ticks": ""
            },
            "type": "contourcarpet"
           }
          ],
          "heatmap": [
           {
            "colorbar": {
             "outlinewidth": 0,
             "ticks": ""
            },
            "colorscale": [
             [
              0,
              "#0d0887"
             ],
             [
              0.1111111111111111,
              "#46039f"
             ],
             [
              0.2222222222222222,
              "#7201a8"
             ],
             [
              0.3333333333333333,
              "#9c179e"
             ],
             [
              0.4444444444444444,
              "#bd3786"
             ],
             [
              0.5555555555555556,
              "#d8576b"
             ],
             [
              0.6666666666666666,
              "#ed7953"
             ],
             [
              0.7777777777777778,
              "#fb9f3a"
             ],
             [
              0.8888888888888888,
              "#fdca26"
             ],
             [
              1,
              "#f0f921"
             ]
            ],
            "type": "heatmap"
           }
          ],
          "histogram": [
           {
            "marker": {
             "pattern": {
              "fillmode": "overlay",
              "size": 10,
              "solidity": 0.2
             }
            },
            "type": "histogram"
           }
          ],
          "histogram2d": [
           {
            "colorbar": {
             "outlinewidth": 0,
             "ticks": ""
            },
            "colorscale": [
             [
              0,
              "#0d0887"
             ],
             [
              0.1111111111111111,
              "#46039f"
             ],
             [
              0.2222222222222222,
              "#7201a8"
             ],
             [
              0.3333333333333333,
              "#9c179e"
             ],
             [
              0.4444444444444444,
              "#bd3786"
             ],
             [
              0.5555555555555556,
              "#d8576b"
             ],
             [
              0.6666666666666666,
              "#ed7953"
             ],
             [
              0.7777777777777778,
              "#fb9f3a"
             ],
             [
              0.8888888888888888,
              "#fdca26"
             ],
             [
              1,
              "#f0f921"
             ]
            ],
            "type": "histogram2d"
           }
          ],
          "histogram2dcontour": [
           {
            "colorbar": {
             "outlinewidth": 0,
             "ticks": ""
            },
            "colorscale": [
             [
              0,
              "#0d0887"
             ],
             [
              0.1111111111111111,
              "#46039f"
             ],
             [
              0.2222222222222222,
              "#7201a8"
             ],
             [
              0.3333333333333333,
              "#9c179e"
             ],
             [
              0.4444444444444444,
              "#bd3786"
             ],
             [
              0.5555555555555556,
              "#d8576b"
             ],
             [
              0.6666666666666666,
              "#ed7953"
             ],
             [
              0.7777777777777778,
              "#fb9f3a"
             ],
             [
              0.8888888888888888,
              "#fdca26"
             ],
             [
              1,
              "#f0f921"
             ]
            ],
            "type": "histogram2dcontour"
           }
          ],
          "mesh3d": [
           {
            "colorbar": {
             "outlinewidth": 0,
             "ticks": ""
            },
            "type": "mesh3d"
           }
          ],
          "parcoords": [
           {
            "line": {
             "colorbar": {
              "outlinewidth": 0,
              "ticks": ""
             }
            },
            "type": "parcoords"
           }
          ],
          "pie": [
           {
            "automargin": true,
            "type": "pie"
           }
          ],
          "scatter": [
           {
            "fillpattern": {
             "fillmode": "overlay",
             "size": 10,
             "solidity": 0.2
            },
            "type": "scatter"
           }
          ],
          "scatter3d": [
           {
            "line": {
             "colorbar": {
              "outlinewidth": 0,
              "ticks": ""
             }
            },
            "marker": {
             "colorbar": {
              "outlinewidth": 0,
              "ticks": ""
             }
            },
            "type": "scatter3d"
           }
          ],
          "scattercarpet": [
           {
            "marker": {
             "colorbar": {
              "outlinewidth": 0,
              "ticks": ""
             }
            },
            "type": "scattercarpet"
           }
          ],
          "scattergeo": [
           {
            "marker": {
             "colorbar": {
              "outlinewidth": 0,
              "ticks": ""
             }
            },
            "type": "scattergeo"
           }
          ],
          "scattergl": [
           {
            "marker": {
             "colorbar": {
              "outlinewidth": 0,
              "ticks": ""
             }
            },
            "type": "scattergl"
           }
          ],
          "scattermap": [
           {
            "marker": {
             "colorbar": {
              "outlinewidth": 0,
              "ticks": ""
             }
            },
            "type": "scattermap"
           }
          ],
          "scattermapbox": [
           {
            "marker": {
             "colorbar": {
              "outlinewidth": 0,
              "ticks": ""
             }
            },
            "type": "scattermapbox"
           }
          ],
          "scatterpolar": [
           {
            "marker": {
             "colorbar": {
              "outlinewidth": 0,
              "ticks": ""
             }
            },
            "type": "scatterpolar"
           }
          ],
          "scatterpolargl": [
           {
            "marker": {
             "colorbar": {
              "outlinewidth": 0,
              "ticks": ""
             }
            },
            "type": "scatterpolargl"
           }
          ],
          "scatterternary": [
           {
            "marker": {
             "colorbar": {
              "outlinewidth": 0,
              "ticks": ""
             }
            },
            "type": "scatterternary"
           }
          ],
          "surface": [
           {
            "colorbar": {
             "outlinewidth": 0,
             "ticks": ""
            },
            "colorscale": [
             [
              0,
              "#0d0887"
             ],
             [
              0.1111111111111111,
              "#46039f"
             ],
             [
              0.2222222222222222,
              "#7201a8"
             ],
             [
              0.3333333333333333,
              "#9c179e"
             ],
             [
              0.4444444444444444,
              "#bd3786"
             ],
             [
              0.5555555555555556,
              "#d8576b"
             ],
             [
              0.6666666666666666,
              "#ed7953"
             ],
             [
              0.7777777777777778,
              "#fb9f3a"
             ],
             [
              0.8888888888888888,
              "#fdca26"
             ],
             [
              1,
              "#f0f921"
             ]
            ],
            "type": "surface"
           }
          ],
          "table": [
           {
            "cells": {
             "fill": {
              "color": "#EBF0F8"
             },
             "line": {
              "color": "white"
             }
            },
            "header": {
             "fill": {
              "color": "#C8D4E3"
             },
             "line": {
              "color": "white"
             }
            },
            "type": "table"
           }
          ]
         },
         "layout": {
          "annotationdefaults": {
           "arrowcolor": "#2a3f5f",
           "arrowhead": 0,
           "arrowwidth": 1
          },
          "autotypenumbers": "strict",
          "coloraxis": {
           "colorbar": {
            "outlinewidth": 0,
            "ticks": ""
           }
          },
          "colorscale": {
           "diverging": [
            [
             0,
             "#8e0152"
            ],
            [
             0.1,
             "#c51b7d"
            ],
            [
             0.2,
             "#de77ae"
            ],
            [
             0.3,
             "#f1b6da"
            ],
            [
             0.4,
             "#fde0ef"
            ],
            [
             0.5,
             "#f7f7f7"
            ],
            [
             0.6,
             "#e6f5d0"
            ],
            [
             0.7,
             "#b8e186"
            ],
            [
             0.8,
             "#7fbc41"
            ],
            [
             0.9,
             "#4d9221"
            ],
            [
             1,
             "#276419"
            ]
           ],
           "sequential": [
            [
             0,
             "#0d0887"
            ],
            [
             0.1111111111111111,
             "#46039f"
            ],
            [
             0.2222222222222222,
             "#7201a8"
            ],
            [
             0.3333333333333333,
             "#9c179e"
            ],
            [
             0.4444444444444444,
             "#bd3786"
            ],
            [
             0.5555555555555556,
             "#d8576b"
            ],
            [
             0.6666666666666666,
             "#ed7953"
            ],
            [
             0.7777777777777778,
             "#fb9f3a"
            ],
            [
             0.8888888888888888,
             "#fdca26"
            ],
            [
             1,
             "#f0f921"
            ]
           ],
           "sequentialminus": [
            [
             0,
             "#0d0887"
            ],
            [
             0.1111111111111111,
             "#46039f"
            ],
            [
             0.2222222222222222,
             "#7201a8"
            ],
            [
             0.3333333333333333,
             "#9c179e"
            ],
            [
             0.4444444444444444,
             "#bd3786"
            ],
            [
             0.5555555555555556,
             "#d8576b"
            ],
            [
             0.6666666666666666,
             "#ed7953"
            ],
            [
             0.7777777777777778,
             "#fb9f3a"
            ],
            [
             0.8888888888888888,
             "#fdca26"
            ],
            [
             1,
             "#f0f921"
            ]
           ]
          },
          "colorway": [
           "#636efa",
           "#EF553B",
           "#00cc96",
           "#ab63fa",
           "#FFA15A",
           "#19d3f3",
           "#FF6692",
           "#B6E880",
           "#FF97FF",
           "#FECB52"
          ],
          "font": {
           "color": "#2a3f5f"
          },
          "geo": {
           "bgcolor": "white",
           "lakecolor": "white",
           "landcolor": "#E5ECF6",
           "showlakes": true,
           "showland": true,
           "subunitcolor": "white"
          },
          "hoverlabel": {
           "align": "left"
          },
          "hovermode": "closest",
          "mapbox": {
           "style": "light"
          },
          "paper_bgcolor": "white",
          "plot_bgcolor": "#E5ECF6",
          "polar": {
           "angularaxis": {
            "gridcolor": "white",
            "linecolor": "white",
            "ticks": ""
           },
           "bgcolor": "#E5ECF6",
           "radialaxis": {
            "gridcolor": "white",
            "linecolor": "white",
            "ticks": ""
           }
          },
          "scene": {
           "xaxis": {
            "backgroundcolor": "#E5ECF6",
            "gridcolor": "white",
            "gridwidth": 2,
            "linecolor": "white",
            "showbackground": true,
            "ticks": "",
            "zerolinecolor": "white"
           },
           "yaxis": {
            "backgroundcolor": "#E5ECF6",
            "gridcolor": "white",
            "gridwidth": 2,
            "linecolor": "white",
            "showbackground": true,
            "ticks": "",
            "zerolinecolor": "white"
           },
           "zaxis": {
            "backgroundcolor": "#E5ECF6",
            "gridcolor": "white",
            "gridwidth": 2,
            "linecolor": "white",
            "showbackground": true,
            "ticks": "",
            "zerolinecolor": "white"
           }
          },
          "shapedefaults": {
           "line": {
            "color": "#2a3f5f"
           }
          },
          "ternary": {
           "aaxis": {
            "gridcolor": "white",
            "linecolor": "white",
            "ticks": ""
           },
           "baxis": {
            "gridcolor": "white",
            "linecolor": "white",
            "ticks": ""
           },
           "bgcolor": "#E5ECF6",
           "caxis": {
            "gridcolor": "white",
            "linecolor": "white",
            "ticks": ""
           }
          },
          "title": {
           "x": 0.05
          },
          "xaxis": {
           "automargin": true,
           "gridcolor": "white",
           "linecolor": "white",
           "ticks": "",
           "title": {
            "standoff": 15
           },
           "zerolinecolor": "white",
           "zerolinewidth": 2
          },
          "yaxis": {
           "automargin": true,
           "gridcolor": "white",
           "linecolor": "white",
           "ticks": "",
           "title": {
            "standoff": 15
           },
           "zerolinecolor": "white",
           "zerolinewidth": 2
          }
         }
        },
        "title": {
         "text": "Hierarchical Clustering Analysis Dashboard"
        },
        "xaxis": {
         "anchor": "y",
         "domain": [
          0,
          1
         ],
         "title": {
          "text": "Products"
         }
        },
        "xaxis2": {
         "anchor": "y2",
         "domain": [
          0,
          0.45
         ],
         "title": {
          "text": "Price ($)"
         }
        },
        "xaxis3": {
         "anchor": "y3",
         "domain": [
          0.55,
          1
         ],
         "title": {
          "text": "Linkage Method"
         }
        },
        "yaxis": {
         "anchor": "x",
         "domain": [
          0.625,
          1
         ],
         "title": {
          "text": "Distance"
         }
        },
        "yaxis2": {
         "anchor": "x2",
         "domain": [
          0,
          0.375
         ],
         "title": {
          "text": "Quality Score"
         }
        },
        "yaxis3": {
         "anchor": "x3",
         "domain": [
          0,
          0.375
         ],
         "title": {
          "text": "Silhouette Score"
         }
        }
       }
      }
     },
     "metadata": {},
     "output_type": "display_data"
    },
    {
     "data": {
      "application/vnd.plotly.v1+json": {
       "config": {
        "plotlyServerURL": "https://plot.ly"
       },
       "data": [
        {
         "colorscale": [
          [
           0,
           "#440154"
          ],
          [
           0.1111111111111111,
           "#482878"
          ],
          [
           0.2222222222222222,
           "#3e4989"
          ],
          [
           0.3333333333333333,
           "#31688e"
          ],
          [
           0.4444444444444444,
           "#26828e"
          ],
          [
           0.5555555555555556,
           "#1f9e89"
          ],
          [
           0.6666666666666666,
           "#35b779"
          ],
          [
           0.7777777777777778,
           "#6ece58"
          ],
          [
           0.8888888888888888,
           "#b5de2b"
          ],
          [
           1,
           "#fde725"
          ]
         ],
         "text": {
          "bdata": "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",
          "dtype": "f8",
          "shape": "20, 20"
         },
         "textfont": {
          "size": 8
         },
         "texttemplate": "%{text}",
         "type": "heatmap",
         "x": [
          "Product_01",
          "Product_02",
          "Product_03",
          "Product_04",
          "Product_05",
          "Product_06",
          "Product_07",
          "Product_08",
          "Product_09",
          "Product_10",
          "Product_11",
          "Product_12",
          "Product_13",
          "Product_14",
          "Product_15",
          "Product_16",
          "Product_17",
          "Product_18",
          "Product_19",
          "Product_20"
         ],
         "y": [
          "Product_01",
          "Product_02",
          "Product_03",
          "Product_04",
          "Product_05",
          "Product_06",
          "Product_07",
          "Product_08",
          "Product_09",
          "Product_10",
          "Product_11",
          "Product_12",
          "Product_13",
          "Product_14",
          "Product_15",
          "Product_16",
          "Product_17",
          "Product_18",
          "Product_19",
          "Product_20"
         ],
         "z": {
          "bdata": "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",
          "dtype": "f8",
          "shape": "20, 20"
         }
        }
       ],
       "layout": {
        "height": 600,
        "template": {
         "data": {
          "bar": [
           {
            "error_x": {
             "color": "#2a3f5f"
            },
            "error_y": {
             "color": "#2a3f5f"
            },
            "marker": {
             "line": {
              "color": "#E5ECF6",
              "width": 0.5
             },
             "pattern": {
              "fillmode": "overlay",
              "size": 10,
              "solidity": 0.2
             }
            },
            "type": "bar"
           }
          ],
          "barpolar": [
           {
            "marker": {
             "line": {
              "color": "#E5ECF6",
              "width": 0.5
             },
             "pattern": {
              "fillmode": "overlay",
              "size": 10,
              "solidity": 0.2
             }
            },
            "type": "barpolar"
           }
          ],
          "carpet": [
           {
            "aaxis": {
             "endlinecolor": "#2a3f5f",
             "gridcolor": "white",
             "linecolor": "white",
             "minorgridcolor": "white",
             "startlinecolor": "#2a3f5f"
            },
            "baxis": {
             "endlinecolor": "#2a3f5f",
             "gridcolor": "white",
             "linecolor": "white",
             "minorgridcolor": "white",
             "startlinecolor": "#2a3f5f"
            },
            "type": "carpet"
           }
          ],
          "choropleth": [
           {
            "colorbar": {
             "outlinewidth": 0,
             "ticks": ""
            },
            "type": "choropleth"
           }
          ],
          "contour": [
           {
            "colorbar": {
             "outlinewidth": 0,
             "ticks": ""
            },
            "colorscale": [
             [
              0,
              "#0d0887"
             ],
             [
              0.1111111111111111,
              "#46039f"
             ],
             [
              0.2222222222222222,
              "#7201a8"
             ],
             [
              0.3333333333333333,
              "#9c179e"
             ],
             [
              0.4444444444444444,
              "#bd3786"
             ],
             [
              0.5555555555555556,
              "#d8576b"
             ],
             [
              0.6666666666666666,
              "#ed7953"
             ],
             [
              0.7777777777777778,
              "#fb9f3a"
             ],
             [
              0.8888888888888888,
              "#fdca26"
             ],
             [
              1,
              "#f0f921"
             ]
            ],
            "type": "contour"
           }
          ],
          "contourcarpet": [
           {
            "colorbar": {
             "outlinewidth": 0,
             "ticks": ""
            },
            "type": "contourcarpet"
           }
          ],
          "heatmap": [
           {
            "colorbar": {
             "outlinewidth": 0,
             "ticks": ""
            },
            "colorscale": [
             [
              0,
              "#0d0887"
             ],
             [
              0.1111111111111111,
              "#46039f"
             ],
             [
              0.2222222222222222,
              "#7201a8"
             ],
             [
              0.3333333333333333,
              "#9c179e"
             ],
             [
              0.4444444444444444,
              "#bd3786"
             ],
             [
              0.5555555555555556,
              "#d8576b"
             ],
             [
              0.6666666666666666,
              "#ed7953"
             ],
             [
              0.7777777777777778,
              "#fb9f3a"
             ],
             [
              0.8888888888888888,
              "#fdca26"
             ],
             [
              1,
              "#f0f921"
             ]
            ],
            "type": "heatmap"
           }
          ],
          "histogram": [
           {
            "marker": {
             "pattern": {
              "fillmode": "overlay",
              "size": 10,
              "solidity": 0.2
             }
            },
            "type": "histogram"
           }
          ],
          "histogram2d": [
           {
            "colorbar": {
             "outlinewidth": 0,
             "ticks": ""
            },
            "colorscale": [
             [
              0,
              "#0d0887"
             ],
             [
              0.1111111111111111,
              "#46039f"
             ],
             [
              0.2222222222222222,
              "#7201a8"
             ],
             [
              0.3333333333333333,
              "#9c179e"
             ],
             [
              0.4444444444444444,
              "#bd3786"
             ],
             [
              0.5555555555555556,
              "#d8576b"
             ],
             [
              0.6666666666666666,
              "#ed7953"
             ],
             [
              0.7777777777777778,
              "#fb9f3a"
             ],
             [
              0.8888888888888888,
              "#fdca26"
             ],
             [
              1,
              "#f0f921"
             ]
            ],
            "type": "histogram2d"
           }
          ],
          "histogram2dcontour": [
           {
            "colorbar": {
             "outlinewidth": 0,
             "ticks": ""
            },
            "colorscale": [
             [
              0,
              "#0d0887"
             ],
             [
              0.1111111111111111,
              "#46039f"
             ],
             [
              0.2222222222222222,
              "#7201a8"
             ],
             [
              0.3333333333333333,
              "#9c179e"
             ],
             [
              0.4444444444444444,
              "#bd3786"
             ],
             [
              0.5555555555555556,
              "#d8576b"
             ],
             [
              0.6666666666666666,
              "#ed7953"
             ],
             [
              0.7777777777777778,
              "#fb9f3a"
             ],
             [
              0.8888888888888888,
              "#fdca26"
             ],
             [
              1,
              "#f0f921"
             ]
            ],
            "type": "histogram2dcontour"
           }
          ],
          "mesh3d": [
           {
            "colorbar": {
             "outlinewidth": 0,
             "ticks": ""
            },
            "type": "mesh3d"
           }
          ],
          "parcoords": [
           {
            "line": {
             "colorbar": {
              "outlinewidth": 0,
              "ticks": ""
             }
            },
            "type": "parcoords"
           }
          ],
          "pie": [
           {
            "automargin": true,
            "type": "pie"
           }
          ],
          "scatter": [
           {
            "fillpattern": {
             "fillmode": "overlay",
             "size": 10,
             "solidity": 0.2
            },
            "type": "scatter"
           }
          ],
          "scatter3d": [
           {
            "line": {
             "colorbar": {
              "outlinewidth": 0,
              "ticks": ""
             }
            },
            "marker": {
             "colorbar": {
              "outlinewidth": 0,
              "ticks": ""
             }
            },
            "type": "scatter3d"
           }
          ],
          "scattercarpet": [
           {
            "marker": {
             "colorbar": {
              "outlinewidth": 0,
              "ticks": ""
             }
            },
            "type": "scattercarpet"
           }
          ],
          "scattergeo": [
           {
            "marker": {
             "colorbar": {
              "outlinewidth": 0,
              "ticks": ""
             }
            },
            "type": "scattergeo"
           }
          ],
          "scattergl": [
           {
            "marker": {
             "colorbar": {
              "outlinewidth": 0,
              "ticks": ""
             }
            },
            "type": "scattergl"
           }
          ],
          "scattermap": [
           {
            "marker": {
             "colorbar": {
              "outlinewidth": 0,
              "ticks": ""
             }
            },
            "type": "scattermap"
           }
          ],
          "scattermapbox": [
           {
            "marker": {
             "colorbar": {
              "outlinewidth": 0,
              "ticks": ""
             }
            },
            "type": "scattermapbox"
           }
          ],
          "scatterpolar": [
           {
            "marker": {
             "colorbar": {
              "outlinewidth": 0,
              "ticks": ""
             }
            },
            "type": "scatterpolar"
           }
          ],
          "scatterpolargl": [
           {
            "marker": {
             "colorbar": {
              "outlinewidth": 0,
              "ticks": ""
             }
            },
            "type": "scatterpolargl"
           }
          ],
          "scatterternary": [
           {
            "marker": {
             "colorbar": {
              "outlinewidth": 0,
              "ticks": ""
             }
            },
            "type": "scatterternary"
           }
          ],
          "surface": [
           {
            "colorbar": {
             "outlinewidth": 0,
             "ticks": ""
            },
            "colorscale": [
             [
              0,
              "#0d0887"
             ],
             [
              0.1111111111111111,
              "#46039f"
             ],
             [
              0.2222222222222222,
              "#7201a8"
             ],
             [
              0.3333333333333333,
              "#9c179e"
             ],
             [
              0.4444444444444444,
              "#bd3786"
             ],
             [
              0.5555555555555556,
              "#d8576b"
             ],
             [
              0.6666666666666666,
              "#ed7953"
             ],
             [
              0.7777777777777778,
              "#fb9f3a"
             ],
             [
              0.8888888888888888,
              "#fdca26"
             ],
             [
              1,
              "#f0f921"
             ]
            ],
            "type": "surface"
           }
          ],
          "table": [
           {
            "cells": {
             "fill": {
              "color": "#EBF0F8"
             },
             "line": {
              "color": "white"
             }
            },
            "header": {
             "fill": {
              "color": "#C8D4E3"
             },
             "line": {
              "color": "white"
             }
            },
            "type": "table"
           }
          ]
         },
         "layout": {
          "annotationdefaults": {
           "arrowcolor": "#2a3f5f",
           "arrowhead": 0,
           "arrowwidth": 1
          },
          "autotypenumbers": "strict",
          "coloraxis": {
           "colorbar": {
            "outlinewidth": 0,
            "ticks": ""
           }
          },
          "colorscale": {
           "diverging": [
            [
             0,
             "#8e0152"
            ],
            [
             0.1,
             "#c51b7d"
            ],
            [
             0.2,
             "#de77ae"
            ],
            [
             0.3,
             "#f1b6da"
            ],
            [
             0.4,
             "#fde0ef"
            ],
            [
             0.5,
             "#f7f7f7"
            ],
            [
             0.6,
             "#e6f5d0"
            ],
            [
             0.7,
             "#b8e186"
            ],
            [
             0.8,
             "#7fbc41"
            ],
            [
             0.9,
             "#4d9221"
            ],
            [
             1,
             "#276419"
            ]
           ],
           "sequential": [
            [
             0,
             "#0d0887"
            ],
            [
             0.1111111111111111,
             "#46039f"
            ],
            [
             0.2222222222222222,
             "#7201a8"
            ],
            [
             0.3333333333333333,
             "#9c179e"
            ],
            [
             0.4444444444444444,
             "#bd3786"
            ],
            [
             0.5555555555555556,
             "#d8576b"
            ],
            [
             0.6666666666666666,
             "#ed7953"
            ],
            [
             0.7777777777777778,
             "#fb9f3a"
            ],
            [
             0.8888888888888888,
             "#fdca26"
            ],
            [
             1,
             "#f0f921"
            ]
           ],
           "sequentialminus": [
            [
             0,
             "#0d0887"
            ],
            [
             0.1111111111111111,
             "#46039f"
            ],
            [
             0.2222222222222222,
             "#7201a8"
            ],
            [
             0.3333333333333333,
             "#9c179e"
            ],
            [
             0.4444444444444444,
             "#bd3786"
            ],
            [
             0.5555555555555556,
             "#d8576b"
            ],
            [
             0.6666666666666666,
             "#ed7953"
            ],
            [
             0.7777777777777778,
             "#fb9f3a"
            ],
            [
             0.8888888888888888,
             "#fdca26"
            ],
            [
             1,
             "#f0f921"
            ]
           ]
          },
          "colorway": [
           "#636efa",
           "#EF553B",
           "#00cc96",
           "#ab63fa",
           "#FFA15A",
           "#19d3f3",
           "#FF6692",
           "#B6E880",
           "#FF97FF",
           "#FECB52"
          ],
          "font": {
           "color": "#2a3f5f"
          },
          "geo": {
           "bgcolor": "white",
           "lakecolor": "white",
           "landcolor": "#E5ECF6",
           "showlakes": true,
           "showland": true,
           "subunitcolor": "white"
          },
          "hoverlabel": {
           "align": "left"
          },
          "hovermode": "closest",
          "mapbox": {
           "style": "light"
          },
          "paper_bgcolor": "white",
          "plot_bgcolor": "#E5ECF6",
          "polar": {
           "angularaxis": {
            "gridcolor": "white",
            "linecolor": "white",
            "ticks": ""
           },
           "bgcolor": "#E5ECF6",
           "radialaxis": {
            "gridcolor": "white",
            "linecolor": "white",
            "ticks": ""
           }
          },
          "scene": {
           "xaxis": {
            "backgroundcolor": "#E5ECF6",
            "gridcolor": "white",
            "gridwidth": 2,
            "linecolor": "white",
            "showbackground": true,
            "ticks": "",
            "zerolinecolor": "white"
           },
           "yaxis": {
            "backgroundcolor": "#E5ECF6",
            "gridcolor": "white",
            "gridwidth": 2,
            "linecolor": "white",
            "showbackground": true,
            "ticks": "",
            "zerolinecolor": "white"
           },
           "zaxis": {
            "backgroundcolor": "#E5ECF6",
            "gridcolor": "white",
            "gridwidth": 2,
            "linecolor": "white",
            "showbackground": true,
            "ticks": "",
            "zerolinecolor": "white"
           }
          },
          "shapedefaults": {
           "line": {
            "color": "#2a3f5f"
           }
          },
          "ternary": {
           "aaxis": {
            "gridcolor": "white",
            "linecolor": "white",
            "ticks": ""
           },
           "baxis": {
            "gridcolor": "white",
            "linecolor": "white",
            "ticks": ""
           },
           "bgcolor": "#E5ECF6",
           "caxis": {
            "gridcolor": "white",
            "linecolor": "white",
            "ticks": ""
           }
          },
          "title": {
           "x": 0.05
          },
          "xaxis": {
           "automargin": true,
           "gridcolor": "white",
           "linecolor": "white",
           "ticks": "",
           "title": {
            "standoff": 15
           },
           "zerolinecolor": "white",
           "zerolinewidth": 2
          },
          "yaxis": {
           "automargin": true,
           "gridcolor": "white",
           "linecolor": "white",
           "ticks": "",
           "title": {
            "standoff": 15
           },
           "zerolinecolor": "white",
           "zerolinewidth": 2
          }
         }
        },
        "title": {
         "text": "Product Distance Matrix"
        },
        "xaxis": {
         "title": {
          "text": "Products"
         }
        },
        "yaxis": {
         "title": {
          "text": "Products"
         }
        }
       }
      }
     },
     "metadata": {},
     "output_type": "display_data"
    },
    {
     "name": "stdout",
     "output_type": "stream",
     "text": [
      "\n",
      " BUSINESS INSIGHTS FROM HIERARCHICAL CLUSTERING:\n",
      "\n",
      "Cluster 1: Standard Products\n",
      "• Products: Product_04, Product_07\n",
      "• Average price: $44\n",
      "• Average quality: 6.9/10\n",
      "• Brand strength: 4.4\n",
      "• Market share: 4.5%\n",
      "\n",
      "Cluster 2: Premium Products\n",
      "• Products: Product_01, Product_06, Product_17\n",
      "• Average price: $19\n",
      "• Average quality: 8.3/10\n",
      "• Brand strength: 3.7\n",
      "• Market share: 5.9%\n",
      "\n",
      "Cluster 3: Budget Products\n",
      "• Products: Product_02, Product_05, Product_08, Product_09, Product_10, Product_11, Product_12, Product_13, Product_14, Product_15, Product_16, Product_18, Product_19, Product_20\n",
      "• Average price: $17\n",
      "• Average quality: 7.6/10\n",
      "• Brand strength: 3.8\n",
      "• Market share: 0.8%\n",
      "\n",
      "Cluster 4: Standard Products\n",
      "• Products: Product_03\n",
      "• Average price: $28\n",
      "• Average quality: 1.6/10\n",
      "• Brand strength: 0.1\n",
      "• Market share: 1.5%\n",
      "\n",
      " HIERARCHICAL CLUSTERING ROI:\n",
      "• Total product portfolio value: $16,213\n",
      "• Portfolio optimization improvement: 15%\n",
      "• Estimated annual ROI: $2,432\n",
      "• Use cases: Product categorization, pricing strategy, market positioning\n"
     ]
    }
   ],
   "source": [
    "# 2. INTERACTIVE DENDROGRAM AND CLUSTER VISUALIZATION\n",
    "print(\" 2. INTERACTIVE HIERARCHICAL VISUALIZATIONS\")\n",
    "print(\"=\" * 44)\n",
    "\n",
    "# Create comprehensive visualization\n",
    "fig = make_subplots(\n",
    "    rows=2, cols=2,\n",
    "    subplot_titles=[\n",
    "        'Dendrogram (Ward Linkage)',\n",
    "        'Product Clusters (Price vs Quality)',\n",
    "        'Linkage Method Comparison',\n",
    "        'Cluster Feature Profiles'\n",
    "    ],\n",
    "    specs=[[{\"colspan\": 2}, None],\n",
    "           [{\"secondary_y\": False}, {\"secondary_y\": False}]]\n",
    ")\n",
    "\n",
    "# Create dendrogram using plotly\n",
    "def create_plotly_dendrogram(linkage_matrix, labels):\n",
    "    \"\"\"Create interactive dendrogram with plotly\"\"\"\n",
    "    dendro = dendrogram(linkage_matrix, labels=labels, no_plot=True)\n",
    "\n",
    "    # Extract dendrogram data\n",
    "    icoord = np.array(dendro['icoord'])\n",
    "    dcoord = np.array(dendro['dcoord'])\n",
    "\n",
    "    # Create line traces for dendrogram\n",
    "    dendro_traces = []\n",
    "    for i in range(len(icoord)):\n",
    "        x = icoord[i]\n",
    "        y = dcoord[i]\n",
    "        dendro_traces.append(\n",
    "            go.Scatter(x=x, y=y, mode='lines',\n",
    "                      line=dict(color='blue', width=1),\n",
    "                      showlegend=False, hoverinfo='skip')\n",
    "        )\n",
    "\n",
    "    return dendro_traces\n",
    "\n",
    "# Add dendrogram traces\n",
    "dendro_traces = create_plotly_dendrogram(best_linkage, products)\n",
    "for trace in dendro_traces:\n",
    "    fig.add_trace(trace, row=1, col=1)\n",
    "\n",
    "# Product clusters scatter plot\n",
    "colors = ['red', 'blue', 'green', 'purple', 'orange']\n",
    "for cluster in range(1, n_clusters + 1):\n",
    "    cluster_data = product_features[product_features['cluster'] == cluster]\n",
    "    fig.add_trace(\n",
    "        go.Scatter(x=cluster_data['price'],\n",
    "                  y=cluster_data['quality_score'],\n",
    "                  mode='markers+text',\n",
    "                  text=cluster_data.index,\n",
    "                  textposition='top center',\n",
    "                  name=f'Cluster {cluster}',\n",
    "                  marker=dict(color=colors[cluster-1], size=10, opacity=0.7)),\n",
    "        row=2, col=1\n",
    "    )\n",
    "\n",
    "# Linkage method comparison\n",
    "methods = list(linkage_results.keys())\n",
    "silhouette_values = [linkage_results[method]['silhouette'] for method in methods]\n",
    "\n",
    "fig.add_trace(\n",
    "    go.Bar(x=methods, y=silhouette_values,\n",
    "           marker=dict(color=['red' if m == best_method else 'lightblue' for m in methods]),\n",
    "           name='Silhouette Scores'),\n",
    "    row=2, col=2\n",
    ")\n",
    "\n",
    "fig.update_layout(height=800, title=\"Hierarchical Clustering Analysis Dashboard\")\n",
    "fig.update_xaxes(title_text=\"Products\", row=1, col=1)\n",
    "fig.update_xaxes(title_text=\"Price ($)\", row=2, col=1)\n",
    "fig.update_xaxes(title_text=\"Linkage Method\", row=2, col=2)\n",
    "fig.update_yaxes(title_text=\"Distance\", row=1, col=1)\n",
    "fig.update_yaxes(title_text=\"Quality Score\", row=2, col=1)\n",
    "fig.update_yaxes(title_text=\"Silhouette Score\", row=2, col=2)\n",
    "fig.show()\n",
    "\n",
    "# Distance matrix heatmap\n",
    "distance_matrix = pdist(product_features_scaled)\n",
    "from scipy.spatial.distance import squareform\n",
    "distance_square = squareform(distance_matrix)\n",
    "\n",
    "fig_heatmap = go.Figure(data=go.Heatmap(\n",
    "    z=distance_square,\n",
    "    x=products,\n",
    "    y=products,\n",
    "    colorscale='Viridis',\n",
    "    text=np.round(distance_square, 2),\n",
    "    texttemplate=\"%{text}\",\n",
    "    textfont={\"size\": 8}\n",
    "))\n",
    "\n",
    "fig_heatmap.update_layout(\n",
    "    title=\"Product Distance Matrix\",\n",
    "    xaxis_title=\"Products\",\n",
    "    yaxis_title=\"Products\",\n",
    "    height=600\n",
    ")\n",
    "fig_heatmap.show()\n",
    "\n",
    "# Business insights\n",
    "print(f\"\\n BUSINESS INSIGHTS FROM HIERARCHICAL CLUSTERING:\")\n",
    "\n",
    "for cluster in range(1, n_clusters + 1):\n",
    "    cluster_data = product_features[product_features['cluster'] == cluster]\n",
    "    cluster_products = list(cluster_data.index)\n",
    "\n",
    "    avg_price = cluster_data['price'].mean()\n",
    "    avg_quality = cluster_data['quality_score'].mean()\n",
    "    avg_brand = cluster_data['brand_strength'].mean()\n",
    "    avg_market = cluster_data['market_share'].mean()\n",
    "\n",
    "    # Determine segment characteristics\n",
    "    if avg_price > product_features['price'].median() and avg_quality > product_features['quality_score'].median():\n",
    "        segment = \"Premium Products\"\n",
    "    elif avg_price < product_features['price'].median() and avg_quality < product_features['quality_score'].median():\n",
    "        segment = \"Budget Products\"\n",
    "    elif avg_quality > product_features['quality_score'].median():\n",
    "        segment = \"Value Products\"\n",
    "    else:\n",
    "        segment = \"Standard Products\"\n",
    "\n",
    "    print(f\"\\nCluster {cluster}: {segment}\")\n",
    "    print(f\"• Products: {', '.join(cluster_products)}\")\n",
    "    print(f\"• Average price: ${avg_price:.0f}\")\n",
    "    print(f\"• Average quality: {avg_quality:.1f}/10\")\n",
    "    print(f\"• Brand strength: {avg_brand:.1f}\")\n",
    "    print(f\"• Market share: {avg_market:.1f}%\")\n",
    "\n",
    "# ROI calculation for product portfolio optimization\n",
    "total_revenue = product_features['price'].sum() * product_features['market_share'].sum()\n",
    "portfolio_optimization = 0.15 # 15% improvement in portfolio efficiency\n",
    "hierarchy_roi = total_revenue * portfolio_optimization\n",
    "\n",
    "print(f\"\\n HIERARCHICAL CLUSTERING ROI:\")\n",
    "print(f\"• Total product portfolio value: ${total_revenue:,.0f}\")\n",
    "print(f\"• Portfolio optimization improvement: {portfolio_optimization*100:.0f}%\")\n",
    "print(f\"• Estimated annual ROI: ${hierarchy_roi:,.0f}\")\n",
    "print(f\"• Use cases: Product categorization, pricing strategy, market positioning\")"
   ]
  }
 ],
 "metadata": {
  "kernelspec": {
   "display_name": ".venv",
   "language": "python",
   "name": "python3"
  },
  "language_info": {
   "codemirror_mode": {
    "name": "ipython",
    "version": 3
   },
   "file_extension": ".py",
   "mimetype": "text/x-python",
   "name": "python",
   "nbconvert_exporter": "python",
   "pygments_lexer": "ipython3",
   "version": "3.13.7"
  }
 },
 "nbformat": 4,
 "nbformat_minor": 5
}
