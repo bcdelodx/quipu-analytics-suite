{
 "cells": [
  {
   "cell_type": "markdown",
   "metadata": {},
   "source": [
    "# Tier 4: DBSCAN Clustering\n",
    "\n",
    "---\n",
    "\n",
    "**Author:** Brandon Deloatch\n",
    "**Affiliation:** Quipu Research Labs, LLC\n",
    "**Date:** 2025-10-02\n",
    "**Version:** v1.3\n",
    "**License:** MIT\n",
    "**Notebook ID:** 97cd4a02-d93d-40b1-b75b-fe523d810120\n",
    "\n",
    "---\n",
    "\n",
    "## Citation\n",
    "Brandon Deloatch, \"Tier 4: DBSCAN Clustering,\" Quipu Research Labs, LLC, v1.3, 2025-10-02.\n",
    "\n",
    "Please cite this notebook if used or adapted in publications, presentations, or derivative work.\n",
    "\n",
    "---\n",
    "\n",
    "## Contributors / Acknowledgments\n",
    "- **Primary Author:** Brandon Deloatch (Quipu Research Labs, LLC)\n",
    "- **Institutional Support:** Quipu Research Labs, LLC - Advanced Analytics Division\n",
    "- **Technical Framework:** Built on scikit-learn, pandas, numpy, and plotly ecosystems\n",
    "- **Methodological Foundation:** Statistical learning principles and modern data science best practices\n",
    "\n",
    "---\n",
    "\n",
    "## Version History\n",
    "| Version | Date | Notes |\n",
    "|---------|------|-------|\n",
    "| v1.3 | 2025-10-02 | Enhanced professional formatting, comprehensive documentation, interactive visualizations |\n",
    "| v1.2 | 2024-09-15 | Updated analysis methods, improved data generation algorithms |\n",
    "| v1.0 | 2024-06-10 | Initial release with core analytical framework |\n",
    "\n",
    "---\n",
    "\n",
    "## Environment Dependencies\n",
    "- **Python:** 3.8+\n",
    "- **Core Libraries:** pandas 2.0+, numpy 1.24+, scikit-learn 1.3+\n",
    "- **Visualization:** plotly 5.0+, matplotlib 3.7+\n",
    "- **Statistical:** scipy 1.10+, statsmodels 0.14+\n",
    "- **Development:** jupyter-lab 4.0+, ipywidgets 8.0+\n",
    "\n",
    "> **Reproducibility Note:** Use requirements.txt or environment.yml for exact dependency matching.\n",
    "\n",
    "---\n",
    "\n",
    "## Data Provenance\n",
    "| Dataset | Source | License | Notes |\n",
    "|---------|--------|---------|-------|\n",
    "| Synthetic Data | Generated in-notebook | MIT | Custom algorithms for realistic simulation |\n",
    "| Statistical Distributions | NumPy/SciPy | BSD-3-Clause | Standard library implementations |\n",
    "| ML Algorithms | Scikit-learn | BSD-3-Clause | Industry-standard implementations |\n",
    "| Visualization Schemas | Plotly | MIT | Interactive dashboard frameworks |\n",
    "\n",
    "---\n",
    "\n",
    "## Execution Provenance Logs\n",
    "- **Created:** 2025-10-02\n",
    "- **Notebook ID:** 97cd4a02-d93d-40b1-b75b-fe523d810120\n",
    "- **Execution Environment:** Jupyter Lab / VS Code\n",
    "- **Computational Requirements:** Standard laptop/workstation (2GB+ RAM recommended)\n",
    "\n",
    "> **Auto-tracking:** Execution metadata can be programmatically captured for reproducibility.\n",
    "\n",
    "---\n",
    "\n",
    "## Disclaimer & Responsible Use\n",
    "This notebook is provided \"as-is\" for educational, research, and professional development purposes. Users assume full responsibility for any results, applications, or decisions derived from this analysis.\n",
    "\n",
    "**Professional Standards:**\n",
    "- Validate all results against domain expertise and additional data sources\n",
    "- Respect licensing and attribution requirements for all dependencies\n",
    "- Follow ethical guidelines for data analysis and algorithmic decision-making\n",
    "- Credit all methodological sources and derivative frameworks appropriately\n",
    "\n",
    "**Academic & Commercial Use:**\n",
    "- Permitted under MIT license with proper attribution\n",
    "- Suitable for educational curriculum and professional training\n",
    "- Appropriate for commercial adaptation with citation requirements\n",
    "- Recommended for reproducible research and transparent analytics\n",
    "\n",
    "---\n",
    "\n"
   ]
  },
  {
   "cell_type": "code",
   "execution_count": 1,
   "id": "5491e154",
   "metadata": {},
   "outputs": [
    {
     "name": "stdout",
     "output_type": "stream",
     "text": [
      " Tier 4: DBSCAN Clustering - Libraries Loaded!\n",
      "==================================================\n",
      "DBSCAN Techniques:\n",
      "• Density-based clustering with noise detection\n",
      "• Automatic cluster number determination\n",
      "• Outlier identification and removal\n",
      "• Parameter optimization (eps, min_samples)\n",
      "• Irregular cluster shape handling\n"
     ]
    }
   ],
   "source": [
    "import pandas as pd\n",
    "import numpy as np\n",
    "import plotly.express as px\n",
    "import plotly.graph_objects as go\n",
    "from plotly.subplots import make_subplots\n",
    "from sklearn.cluster import DBSCAN\n",
    "from sklearn.preprocessing import StandardScaler\n",
    "from sklearn.metrics import silhouette_score, adjusted_rand_score\n",
    "from sklearn.neighbors import NearestNeighbors\n",
    "import warnings\n",
    "warnings.filterwarnings('ignore')\n",
    "\n",
    "print(\" Tier 4: DBSCAN Clustering - Libraries Loaded!\")\n",
    "print(\"=\" * 50)\n",
    "print(\"DBSCAN Techniques:\")\n",
    "print(\"• Density-based clustering with noise detection\")\n",
    "print(\"• Automatic cluster number determination\")\n",
    "print(\"• Outlier identification and removal\")\n",
    "print(\"• Parameter optimization (eps, min_samples)\")\n",
    "print(\"• Irregular cluster shape handling\")"
   ]
  },
  {
   "cell_type": "code",
   "execution_count": 3,
   "id": "690a3609",
   "metadata": {},
   "outputs": [
    {
     "name": "stdout",
     "output_type": "stream",
     "text": [
      " DBSCAN Dataset Created:\n",
      "Total locations: 754\n",
      "True clusters: 3\n",
      "Noise points: 200\n",
      "Sales range: $178 - $87,148\n"
     ]
    }
   ],
   "source": [
    "# Generate DBSCAN-optimized datasets\n",
    "np.random.seed(42)\n",
    "\n",
    "# Geospatial store locations with density clusters\n",
    "n_locations = 800\n",
    "city_centers = [(40.7589, -73.9851), (40.6892, -74.0445), (40.8176, -73.9782)] # NYC areas\n",
    "\n",
    "geo_data = []\n",
    "cluster_labels_true = []\n",
    "\n",
    "for i, (lat_center, lon_center) in enumerate(city_centers):\n",
    "    n_cluster = np.random.randint(150, 200)\n",
    "\n",
    "    # Generate clustered points with varying density\n",
    "    lats = np.random.normal(lat_center, 0.02, n_cluster)\n",
    "    lons = np.random.normal(lon_center, 0.02, n_cluster)\n",
    "\n",
    "    for lat, lon in zip(lats, lons):\n",
    "        geo_data.append({\n",
    "            'latitude': lat,\n",
    "            'longitude': lon,\n",
    "            'sales_volume': np.random.lognormal(10, 0.5),\n",
    "            'foot_traffic': np.random.poisson(100),\n",
    "            'competition_nearby': np.random.beta(2, 5)\n",
    "        })\n",
    "        cluster_labels_true.append(i)\n",
    "\n",
    "# Add noise points (outliers)\n",
    "n_noise = 200\n",
    "for _ in range(n_noise):\n",
    "    geo_data.append({\n",
    "        'latitude': np.random.uniform(40.5, 41.0),\n",
    "        'longitude': np.random.uniform(-74.3, -73.7),\n",
    "        'sales_volume': np.random.lognormal(8, 1),\n",
    "        'foot_traffic': np.random.poisson(30),\n",
    "        'competition_nearby': np.random.beta(5, 2)\n",
    "    })\n",
    "    cluster_labels_true.append(-1) # Noise label\n",
    "\n",
    "geo_df = pd.DataFrame(geo_data)\n",
    "geo_df['true_cluster'] = cluster_labels_true\n",
    "\n",
    "print(\" DBSCAN Dataset Created:\")\n",
    "print(f\"Total locations: {len(geo_df)}\")\n",
    "print(f\"True clusters: {len(set(cluster_labels_true)) - (1 if -1 in cluster_labels_true else 0)}\")\n",
    "print(f\"Noise points: {sum(1 for x in cluster_labels_true if x == -1)}\")\n",
    "print(f\"Sales range: ${geo_df['sales_volume'].min():,.0f} - ${geo_df['sales_volume'].max():,.0f}\")"
   ]
  },
  {
   "cell_type": "code",
   "execution_count": 4,
   "id": "1ff32efc",
   "metadata": {},
   "outputs": [
    {
     "name": "stdout",
     "output_type": "stream",
     "text": [
      " 1. DBSCAN PARAMETER OPTIMIZATION\n",
      "===================================\n",
      "Optimal eps estimate: 1.018\n",
      "eps=0.509, min_samples=3: clusters=18, noise=219, silhouette=0.040\n",
      "eps=0.509, min_samples=4: clusters=7, noise=270, silhouette=0.348\n",
      "eps=0.509, min_samples=5: clusters=3, noise=298, silhouette=0.351\n",
      "eps=0.509, min_samples=6: clusters=2, noise=315, silhouette=0.220\n",
      "eps=0.763, min_samples=3: clusters=11, noise=59, silhouette=0.423\n",
      "eps=0.763, min_samples=4: clusters=10, noise=77, silhouette=0.451\n",
      "eps=0.763, min_samples=5: clusters=10, noise=102, silhouette=0.454\n",
      "eps=0.763, min_samples=6: clusters=10, noise=127, silhouette=0.476\n",
      "eps=1.018, min_samples=3: clusters=2, noise=16, silhouette=0.491\n",
      "eps=1.018, min_samples=4: clusters=2, noise=21, silhouette=0.494\n",
      "eps=1.018, min_samples=5: clusters=2, noise=25, silhouette=0.498\n",
      "eps=1.018, min_samples=6: clusters=2, noise=33, silhouette=0.502\n",
      "eps=1.272, min_samples=3: clusters=2, noise=5, silhouette=0.482\n",
      "eps=1.272, min_samples=4: clusters=2, noise=5, silhouette=0.482\n",
      "eps=1.272, min_samples=5: clusters=2, noise=5, silhouette=0.482\n",
      "eps=1.272, min_samples=6: clusters=2, noise=5, silhouette=0.482\n",
      "eps=1.527, min_samples=3: clusters=1, noise=1, silhouette=-1.000\n",
      "eps=1.527, min_samples=4: clusters=1, noise=2, silhouette=-1.000\n",
      "eps=1.527, min_samples=5: clusters=1, noise=2, silhouette=-1.000\n",
      "eps=1.527, min_samples=6: clusters=1, noise=2, silhouette=-1.000\n",
      "\n",
      "Best DBSCAN parameters: eps=1.018, min_samples=6\n",
      "Final results: 2 clusters, 33 noise points\n",
      "Best silhouette score: 0.502\n",
      "Adjusted Rand Index vs true clusters: 0.310\n"
     ]
    }
   ],
   "source": [
    "# 1. DBSCAN PARAMETER OPTIMIZATION\n",
    "print(\" 1. DBSCAN PARAMETER OPTIMIZATION\")\n",
    "print(\"=\" * 35)\n",
    "\n",
    "# Prepare data for clustering\n",
    "features = ['latitude', 'longitude', 'sales_volume', 'foot_traffic', 'competition_nearby']\n",
    "scaler = StandardScaler()\n",
    "geo_scaled = scaler.fit_transform(geo_df[features])\n",
    "\n",
    "# Find optimal eps using k-distance graph\n",
    "def find_optimal_eps(data, k=4):\n",
    "    \"\"\"Find optimal eps parameter using k-distance graph\"\"\"\n",
    "    nbrs = NearestNeighbors(n_neighbors=k).fit(data)\n",
    "    distances, indices = nbrs.kneighbors(data)\n",
    "    distances = np.sort(distances[:, k-1], axis=0)\n",
    "    return distances\n",
    "\n",
    "k_distances = find_optimal_eps(geo_scaled, k=4)\n",
    "# Optimal eps is typically at the \"elbow\" of the k-distance curve\n",
    "eps_optimal = np.percentile(k_distances, 95) # Conservative estimate\n",
    "\n",
    "print(f\"Optimal eps estimate: {eps_optimal:.3f}\")\n",
    "\n",
    "# Test different parameter combinations\n",
    "eps_values = [eps_optimal * 0.5, eps_optimal * 0.75, eps_optimal, eps_optimal * 1.25, eps_optimal * 1.5]\n",
    "min_samples_values = [3, 4, 5, 6]\n",
    "\n",
    "dbscan_results = {}\n",
    "best_score = -1\n",
    "best_params = None\n",
    "\n",
    "for eps in eps_values:\n",
    "    for min_samples in min_samples_values:\n",
    "        dbscan = DBSCAN(eps=eps, min_samples=min_samples)\n",
    "        cluster_labels = dbscan.fit_predict(geo_scaled)\n",
    "\n",
    "        # Calculate metrics (only if we have non-noise clusters)\n",
    "        n_clusters = len(set(cluster_labels)) - (1 if -1 in cluster_labels else 0)\n",
    "        n_noise = list(cluster_labels).count(-1)\n",
    "\n",
    "        if n_clusters > 1 and n_clusters < len(geo_df) - n_noise:\n",
    "            # Only calculate silhouette for non-noise points\n",
    "            non_noise_mask = cluster_labels != -1\n",
    "            if np.sum(non_noise_mask) > n_clusters:\n",
    "                silhouette = silhouette_score(geo_scaled[non_noise_mask],\n",
    "                                            cluster_labels[non_noise_mask])\n",
    "            else:\n",
    "                silhouette = -1\n",
    "        else:\n",
    "            silhouette = -1\n",
    "\n",
    "        dbscan_results[(eps, min_samples)] = {\n",
    "            'labels': cluster_labels,\n",
    "            'n_clusters': n_clusters,\n",
    "            'n_noise': n_noise,\n",
    "            'silhouette': silhouette\n",
    "        }\n",
    "\n",
    "        if silhouette > best_score:\n",
    "            best_score = silhouette\n",
    "            best_params = (eps, min_samples)\n",
    "\n",
    "        print(f\"eps={eps:.3f}, min_samples={min_samples}: \"\n",
    "              f\"clusters={n_clusters}, noise={n_noise}, silhouette={silhouette:.3f}\")\n",
    "\n",
    "# Apply best DBSCAN model\n",
    "best_eps, best_min_samples = best_params\n",
    "final_dbscan = DBSCAN(eps=best_eps, min_samples=best_min_samples)\n",
    "final_labels = final_dbscan.fit_predict(geo_scaled)\n",
    "\n",
    "geo_df['dbscan_cluster'] = final_labels\n",
    "n_clusters_final = len(set(final_labels)) - (1 if -1 in final_labels else 0)\n",
    "n_noise_final = list(final_labels).count(-1)\n",
    "\n",
    "print(f\"\\nBest DBSCAN parameters: eps={best_eps:.3f}, min_samples={best_min_samples}\")\n",
    "print(f\"Final results: {n_clusters_final} clusters, {n_noise_final} noise points\")\n",
    "print(f\"Best silhouette score: {best_score:.3f}\")\n",
    "\n",
    "# Compare with true labels\n",
    "if len(set(cluster_labels_true)) > 1:\n",
    "    ari_score = adjusted_rand_score(cluster_labels_true, final_labels)\n",
    "    print(f\"Adjusted Rand Index vs true clusters: {ari_score:.3f}\")"
   ]
  },
  {
   "cell_type": "code",
   "execution_count": 6,
   "id": "b13447e5",
   "metadata": {},
   "outputs": [
    {
     "name": "stdout",
     "output_type": "stream",
     "text": [
      " 2. INTERACTIVE DBSCAN VISUALIZATIONS\n",
      "=======================================\n"
     ]
    },
    {
     "data": {
      "application/vnd.plotly.v1+json": {
       "config": {
        "plotlyServerURL": "https://plot.ly"
       },
       "data": [
        {
         "line": {
          "color": "blue",
          "width": 2
         },
         "mode": "lines",
         "name": "4-NN Distance",
         "type": "scatter",
         "x": {
          "bdata": "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",
          "dtype": "i2"
         },
         "xaxis": "x",
         "y": {
          "bdata": "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",
          "dtype": "f8"
         },
         "yaxis": "y"
        },
        {
         "hovertemplate": "Noise Point<br>Sales: $%{text:,.0f}<extra></extra>",
         "marker": {
          "color": "black",
          "opacity": 0.6,
          "size": 6
         },
         "mode": "markers",
         "name": "Noise",
         "text": {
          "bdata": "AAAAALDl80AAAAAAoEbxQAAAAACgLPRAAAAAAADe60AAAAAAwEb1QAAAAAAAkIdAAAAAAEBs30AAAAAAAAitQAAAAAAAlqVAAAAAAADokEAAAAAAgAbEQAAAAAAAkJhAAAAAAAANskAAAAAAgEvHQAAAAAAAsLRAAAAAAAD4wEAAAAAAgEDEQAAAAAAAaqFAAAAAAABvv0AAAAAAAPXHQAAAAADAMudAAAAAAEDO1kAAAAAAANCSQAAAAACAO8RAAAAAAAAZ00AAAAAAAJSXQAAAAACg6+ZAAAAAAIBLxkAAAAAAAG/JQAAAAAAAo7lAAAAAAAAcnUAAAAAAACmzQAAAAAAAUbxA",
          "dtype": "f8"
         },
         "type": "scatter",
         "x": {
          "bdata": "1elyA0mBUsBgL3246oRSwC7S0FsyhFLAVRvduSuBUsC2H/qKC39SwP2IPT36gFLAnRv7sCaMUsD72/N9dI5SwLy9aN2Kj1LAQMgvkHaEUsDCFf6lr3lSwBvZLikIgFLAcDFppNGRUsB9FI5NPHlSwISLvHECelLAAsJ5gt97UsCCn8lykXdSwMpsBkXPiVLApGsb1lx3UsAcOrmy63NSwG3pHCANe1LAIm90LYNtUsA6D3HZBZBSwHLTsT5FklLA8LEIy4hzUsBFBYdVyYBSwE5NMJv1jFLASNAd92JvUsACvLe9eoNSwOPh571lbVLA1CN1AcSRUsDm4OhXz2xSwAJ7kw0yklLA",
          "dtype": "f8"
         },
         "xaxis": "x2",
         "y": {
          "bdata": "W+8PBVJeRED1oLNVf1dEQAeZz5tjWERAVX3LSERZREA9zHBgCmhEQEN9x1dETERAxP5+nrtrREDPp2jr/05EQE5YQSNrcERAX2XZDBNgREBPbUdz72pEQPmP+lIaQkRAaxTAs9R1REDJfvkYbX1EQB57pNV3R0RAtt5OuJBkREBU7W3c3V5EQFVcVDwZUURAXkP77ft/RECCqVdz3HdEQGJNsEL3dkRAd97h+MdURECvJVzM/3dEQJXOd4lFeURAbtg1mDZOREClGI7pakBEQC2hEAEcZURAUCWsgP1bREDRknkacXhEQELE2gaGW0RAl7L6GI5+REAQpxbEUHhEQG4/yJk5SERA",
          "dtype": "f8"
         },
         "yaxis": "y2"
        },
        {
         "hovertemplate": "Cluster 0<br>Sales: $%{text:,.0f}<extra></extra>",
         "marker": {
          "color": "red",
          "opacity": 0.8,
          "size": 8
         },
         "mode": "markers",
         "name": "Cluster 0",
         "text": {
          "bdata": "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",
          "dtype": "f8"
         },
         "type": "scatter",
         "x": {
          "bdata": "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",
          "dtype": "f8"
         },
         "xaxis": "x2",
         "y": {
          "bdata": "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",
          "dtype": "f8"
         },
         "yaxis": "y2"
        },
        {
         "hovertemplate": "Cluster 1<br>Sales: $%{text:,.0f}<extra></extra>",
         "marker": {
          "color": "blue",
          "opacity": 0.8,
          "size": 8
         },
         "mode": "markers",
         "name": "Cluster 1",
         "text": {
          "bdata": "AAAAAACohEAAAAAAALihQAAAAAAATK5AAAAAAABOtUAAAAAAALiJQAAAAAAAabtAAAAAAAAUkEAAAAAAAByvQAAAAACAq8FAAAAAAADMmUAAAAAAAAHEQAAAAAAAgJpAAAAAAAACrUAAAAAAANiwQAAAAAAAyIxAAAAAAAB8nkAAAAAAgK3QQAAAAAAAgIRAAAAAAAC8qEAAAAAAAHiIQAAAAAAAi7lAAAAAAADskUAAAAAAAMS+QAAAAAAARqFAAAAAAADiw0AAAAAAAEiTQAAAAAAARJ5AAAAAAAA/wEAAAAAAABqsQAAAAAAAuI9AAAAAAACUo0AAAAAAAKB9QAAAAAAA1KJAAAAAAAA2yUAAAAAAAEjIQAAAAAAA5JBAAAAAAAATw0AAAAAAANmzQAAAAAAAZKdAAAAAAADApEAAAAAAAIKvQAAAAAAAZbhAAAAAAAB8k0AAAAAAAFHLQAAAAAAAwL9AAAAAAACSpEAAAAAAABy4QAAAAAAAiIBAAAAAAABkvkAAAAAAAMiwQAAAAAAAEI9AAAAAAABUqUAAAAAAANa1QAAAAAAAzKNAAAAAAABWqUAAAAAAAKKkQAAAAAAATJpAAAAAAAC8mEAAAAAAAGSjQAAAAAAAdbNAAAAAAAAIkkAAAAAAAP+xQAAAAAAAGr9AAAAAAIDTzUAAAAAAAPCQQAAAAAAA+bJAAAAAAABQjkAAAAAAAJSWQAAAAAAAWrJAAAAAAAA4kEAAAAAAAAiEQAAAAABAqdJAAAAAAACMxEAAAAAAALm4QAAAAAAAmJ1AAAAAAAC4qUAAAAAAAECTQAAAAAAApJNAAAAAAACAiEAAAAAAAPSkQAAAAAAAGItAAAAAAABYrEAAAAAAAIilQAAAAAAAwsBAAAAAAAAgj0AAAAAAAOCWQAAAAAAA9JJAAAAAAACwjUAAAAAAAESQQAAAAAAAUc1AAAAAAACouEAAAAAAAKyjQAAAAAAAPLVAAAAAAADUm0AAAAAAAGB2QAAAAAAAHJJAAAAAAAA4kUAAAAAAAHysQAAAAAAAyJlAAAAAAAB+o0AAAAAAAIiJQAAAAAAAdLhAAAAAAAAksEAAAAAAAACTQAAAAACAY8FAAAAAAADTuUAAAAAAAECxQAAAAAAA1KFAAAAAAABYlUAAAAAAAFSzQAAAAAAAoIhAAAAAAADkkkAAAAAAAO6qQAAAAAAAqIlAAAAAAADIrEAAAAAAAESSQAAAAAAAUs5AAAAAAAAkxUAAAAAAAISSQAAAAAAAZ7tAAAAAAACUpEAAAAAAAFDCQAAAAAAAaI5AAAAAAAC+qkAAAAAAAGCSQAAAAAAAkI9AAAAAAAAOqUAAAAAAAFarQAAAAAAArqFAAAAAAADQvEAAAAAAAL6qQAAAAAAAyKxAAAAAAADEpEAAAAAAALy6QAAAAAAA2bxAAAAAAABwwkAAAAAAAB+wQAAAAAAAMKJAAAAAAIB4xEAAAAAAAPCcQAAAAACAIMdAAAAAAABKs0AAAAAAAFe0QAAAAAAAyJhAAAAAAABCoEAAAAAAAJG3QAAAAAAADb5AAAAAAABKpUAAAAAAADawQAAAAAAA27NAAAAAAAAgrUAAAAAAAOSUQAAAAAAAG8dAAAAAAAC6xUAAAAAAAHqpQAAAAACAUcJAAAAAAAC8kUAAAAAAAI+0QAAAAAAAQGZAAAAAAACMrEAAAAAAABCoQAAAAAAAF8RAAAAAAAD4iUAAAAAAABivQAAAAAAAYLRAAAAAAABWo0AAAAAAAIe8QAAAAACA3c1AAAAAAABUwEAAAAAAAFCLQAAAAAAA4H9AAAAAAABMk0A=",
          "dtype": "f8"
         },
         "type": "scatter",
         "x": {
          "bdata": "hQ0yM7pyUsCCIrOu4GxSwD5HgTvBjlLA1hpNaxaGUsA95yQssohSwOEi+2YUhlLAzZyIoy1yUsDSisoW/5FSwPuXr6gwiVLA45v+34l7UsBwv9LeGIhSwMGpT1DrfVLA8K8SVct9UsCODbnkvIdSwGuYnPhBkFLA4IxcFOx+UsDtEiwsx45SwFyKfhTmjlLAnSXM3fdsUsCuIY4Zcn1SwECkIsMIgFLA9grh1o6LUsB89fm0nW9SwO/j7Z1sb1LAMLFKsaKEUsANM8fds4xSwK2tJ8DCjlLA5CcfK3WBUsA2NOrYdIRSwMChJnIqblLAI5iMiNl/UsBS7bqLu4tSwCDW0eWFeVLADKKTkwODUsC4r55q3HFSwF0QLdLib1LAENBkMQdwUsCwWvM+zm5SwLGTD67PglLAluId/CmCUsC/ikUKUINSwAnzMjsucVLAonNruil3UsDoFIGtTJBSwIYkzcCWi1LAD1FQjymJUsDAt2hbQXZSwAVwc7DjiFLAWsMpX0aEUsAJ8ZNbonFSwOWNK7vDjlLAjzlXAkV/UsBHv5IGRIlSwKjIJjB/c1LAn3tFAS6IUsCdb2fASnBSwLUGR76yi1LAUGRa3feCUsDqOCFjYIJSwP3EwlEteVLAhCzR36aCUsAjWg+IrpBSwKarxZoMhFLAXpdwkgV5UsCe+AWuSY1SwNvHFMX+dFLAZdv2jxRxUsD6ALC9DnBSwHYrWna/e1LAoHb0oyyNUsDP6lOSGnJSwPn7FMZriVLA2ImJUxuRUsA+fDo0HnRSwNN1mDdKb1LAIGvnLZV3UsDADAn1tXhSwOpmNKHIglLAaGmVENOSUsCsKP7NI3NSwPiQ2GCab1LAmALTGBp+UsAwyO3nGI1SwLAs/t8Ek1LAphLbTh5xUsCp8CAzSoNSwAxtymulhFLAzPD4N6eRUsBrBNJkyHBSwPowlghVhFLAQq54eed7UsDxRJ+TFpNSwFedEesPclLA3w8UPP+NUsC7A5IluYFSwMrPwAhMhFLAL9syIEV9UsC+xD4VsYBSwODtJp2fiFLAWdeGBfR0UsAgFhTZCJBSwMvtAd8/fVLAfyDSf22IUsDi1wdDBIBSwN1XnWbLc1LA436Tu2qJUsDDx1DuinBSwF1ZY1ZvflLAyUYMLmSQUsA5pyviQ3VSwHWc86RLglLAMfIaz1WRUsA6mjC08X5SwDY9nzLNcFLA6wIRbcSAUsCFnDTk2W1SwL5eFd+sdlLASIK5zRmQUsCInvHK0n1SwIXR9+00ilLA9in7MIx4UsASxjblj4lSwAO17IF+klLArsFISmyGUsBPVrMtBnJSwClR3B71flLAFUquNM5zUsA6+L/hgG5SwLU3oh8bgFLAtnNrajZzUsCumBFbaXJSwKB5zzJcb1LADZTwdOdxUsDILt9lD4xSwE1taSq8hlLAooWonhlzUsAH4Yuk+IdSwCipvmYoj1LArakwR0CKUsAFcOmNlo9SwKGZI/B0gFLA8JcxGoGHUsCQ5bRFEHxSwF1Eom/si1LANEHnNAx9UsBlAkRdBotSwGEpVt/oi1LASuIX6gqHUsABDKbFAIhSwLKHhk1ce1LAHib7zbtwUsBfitigGZFSwH9R+NcHeFLAgD0nxkKOUsCB2tlSpJJSwGwuJycxhlLAB+JfEv1/UsD5Q2t9xYFSwCa0SpuUe1LAt9LCFm1+UsCeAi8I9XNSwPpGGRMrd1LAZ4vmpqeOUsB+samAlopSwBgx2pcYd1LAMmlhNMZwUsA5xrUbUIdSwLO7LNGrdVLApK9GvxCHUsB4ZstY/21SwJ/W82tMdFLAjzLE8sSHUsA=",
          "dtype": "f8"
         },
         "xaxis": "x2",
         "y": {
          "bdata": "WLLJ+ztzRECGDqDzNFFEQMx8Jt2TSERACLNYjBtsREA5m+RjwX1EQM2UHuRbZkRADGGBb1ZiRECNBtrvCVFEQD63ADYpdERAMM9w1gRBREBSBHE82UJEQNGnzjaMQ0RAIKyK2sZhREA82vqpP0VEQN2lod/IbkRAYWAt/aFuRECKZvL0j25EQC53N7jCbERAYcnlX7hvREB/5J8fGk1EQFKu4QJ/YERAeCTd03VGREA2lR8aG3FEQEHO4veVT0RADO/qtcxzRECO2hzpkVpEQAglgM/5VERAT8zfZTJMREB4tUUW/0NEQJAdE3qnb0RAhosj2TJkREChd89h5lVEQPWLYTlPXERA1BEsxBpRRECulcjf0HREQGeqcxgffURAQaSO0dhDREDynp6KNmVEQAaFHANTdURA4aKiu1Z2REBHhOKHgkFEQPpl64nnU0RAVkE5/5VGREAdH5xvaV9EQIhCwEIJakRAfZAwrtJWRECzZa/QmGlEQD/uw1QxR0RA2b3J0j5PREBGQ1akOU1EQIo2T/viTkRAFyaKeYdVREBmEfDH2lJEQImnDaFifkRAqGQgagRuREC0LfoY+1hEQIF38i4LckRAXfiiW8VlRECimP0ikm9EQDOZw4sNWkRAMd8ObRp5RECGkNLylUlEQJ70ZV6we0RATdAKfghTREAkUisTzkBEQJy3KPTNZERA2AfwYWJLREAalOQbXUtEQLvbKZJJYURATkzKQKJzREDVcI7cPHxEQN5IwnigUERApWqwhmJGRECkrWVLP2ZEQCJZ7zavVERA6lXRtNhlREBtRF/ZtVhEQEsGlPnkUERASyNuFuhBRECncEf1h15EQMKa8dW5Q0RAp+x8pi54REC6aovmvWBEQFJiJWhpYkRAIY6eCfZdRECkSM1vbXZEQEj9Jda3SkRAgm8jcSd4RECVbU9sN0pEQB7OEmIpbERAxjwKRKxKREBfETMKe2dEQDJN/PXVSURAOaQB/+VyREDXayZW0nhEQD5GYMueVURAJHS8cvZ3REA8umBup39EQKDkaefeaURADyO0FSRKREC7R2sNX2VEQIgyxrovXkRA7bJnBFBPRECkCDWlVHdEQDbdO+XqeURA9wMUk0ZJRECJprssY3xEQHINAWkTXERAEROI//BjREAwjgaN9X1EQMHThgSjVERALIjJDBlFRED7+vReYnhEQH3Tf6CcZURAbWGKjbBtREAw6sfIyGpEQOGMydsOdERA4CW8i5lDREBuht/Qv3FEQL4AX/IubURADzV3zMNGREDoOKOTN1dEQAgp16U6SERA7sPHZblfREDlWAy4BmxEQBHxqql5Y0RA2K4pUqBbREB2KP0lO3BEQAHVTJZTa0RA0DRlSWd1REAz+tuwuWxEQLd1jo6PeERAc80eTztgRECPcS9B72NEQHhz0OIrckRARfQAF5ZYREBDJvtKK3VEQKqhFb+jZkRALRBkjrliREA0Taj6625EQBG31auue0RApD96ygdvRECOsGlbkXNEQBiB012LfURAXwEGCzZHRED/GaoAxVZEQMkGtkG1c0RAvAAUBiNTRECwt19rdGFEQF5+amTXSkRAK4RdERF2REBa4q8T8mhEQIZlq776WkRAikzNiPh6REBQklFxzmNEQI/AxVl5aURAzWRPOI52READ/PgTPnNEQL5zuNySWkRAlwyD1gF9REDHTpOWCEhEQB2Ey+0jT0RA7xvIG2t6RECuGFsS41tEQMiUNkegX0RAR8qOquleREDO77e620JEQFr1iVT6ZkRA/6LYQWdCRECAIGlh4XlEQGeslTpQUURASKDTs7F1REA=",
          "dtype": "f8"
         },
         "yaxis": "y2"
        },
        {
         "colorscale": [
          [
           0,
           "#440154"
          ],
          [
           0.1111111111111111,
           "#482878"
          ],
          [
           0.2222222222222222,
           "#3e4989"
          ],
          [
           0.3333333333333333,
           "#31688e"
          ],
          [
           0.4444444444444444,
           "#26828e"
          ],
          [
           0.5555555555555556,
           "#1f9e89"
          ],
          [
           0.6666666666666666,
           "#35b779"
          ],
          [
           0.7777777777777778,
           "#6ece58"
          ],
          [
           0.8888888888888888,
           "#b5de2b"
          ],
          [
           1,
           "#fde725"
          ]
         ],
         "hovertemplate": "eps: %{x}<br>min_samples: %{y}<br>Silhouette: %{z:.3f}<extra></extra>",
         "showscale": true,
         "type": "heatmap",
         "x": [
          "0.509",
          "0.763",
          "1.018",
          "1.272",
          "1.527"
         ],
         "xaxis": "x3",
         "y": [
          "3",
          "4",
          "5",
          "6"
         ],
         "yaxis": "y3",
         "z": {
          "bdata": "xudEGOFUpD9QsggF+xLbP5JZJnv6Zt8/Q5Pq3ETh3j8AAAAAAADwv/PymsPWTNY/QNaEexbf3D8hAj6p4aPfP0OT6txE4d4/AAAAAAAA8L/a18uUiHLWPwMo2gZYFt0/Bi5fVs3f3z9Dk+rcROHePwAAAAAAAPC/L2SFGuU1zD90xbEpg3XeP7kTijRlFOA/Q5Pq3ETh3j8AAAAAAADwvw==",
          "dtype": "f8",
          "shape": "4, 5"
         }
        },
        {
         "marker": {
          "color": "red"
         },
         "name": "Sales Volume",
         "offsetgroup": "0",
         "type": "bar",
         "x": {
          "bdata": "AAE=",
          "dtype": "i1"
         },
         "xaxis": "x4",
         "y": {
          "bdata": "tRytm2au10Bc8DpPHwixQA==",
          "dtype": "f8"
         },
         "yaxis": "y4"
        },
        {
         "marker": {
          "color": "blue"
         },
         "name": "Foot Traffic",
         "offsetgroup": "1",
         "type": "bar",
         "x": {
          "bdata": "AAE=",
          "dtype": "i1"
         },
         "xaxis": "x4",
         "y": {
          "bdata": "XN9NJfD5WEBZU9aUNaU9QA==",
          "dtype": "f8"
         },
         "yaxis": "y4"
        },
        {
         "marker": {
          "color": "green"
         },
         "name": "Competition Nearby",
         "offsetgroup": "2",
         "type": "bar",
         "x": {
          "bdata": "AAE=",
          "dtype": "i1"
         },
         "xaxis": "x4",
         "y": {
          "bdata": "sAJtDZmG0T+YLrk71frnPw==",
          "dtype": "f8"
         },
         "yaxis": "y4"
        }
       ],
       "layout": {
        "annotations": [
         {
          "font": {
           "size": 16
          },
          "showarrow": false,
          "text": "K-Distance Graph (Eps Optimization)",
          "x": 0.225,
          "xanchor": "center",
          "xref": "paper",
          "y": 1,
          "yanchor": "bottom",
          "yref": "paper"
         },
         {
          "font": {
           "size": 16
          },
          "showarrow": false,
          "text": "Geographic Distribution (Latitude vs Longitude)",
          "x": 0.775,
          "xanchor": "center",
          "xref": "paper",
          "y": 1,
          "yanchor": "bottom",
          "yref": "paper"
         },
         {
          "font": {
           "size": 16
          },
          "showarrow": false,
          "text": "Parameter Grid Search Heatmap",
          "x": 0.225,
          "xanchor": "center",
          "xref": "paper",
          "y": 0.375,
          "yanchor": "bottom",
          "yref": "paper"
         },
         {
          "font": {
           "size": 16
          },
          "showarrow": false,
          "text": "Cluster Characteristics Comparison",
          "x": 0.775,
          "xanchor": "center",
          "xref": "paper",
          "y": 0.375,
          "yanchor": "bottom",
          "yref": "paper"
         },
         {
          "showarrow": false,
          "text": "Optimal eps: 1.018",
          "x": 1,
          "xanchor": "right",
          "xref": "x domain",
          "y": 1.0178433898914443,
          "yanchor": "bottom",
          "yref": "y"
         }
        ],
        "height": 800,
        "shapes": [
         {
          "line": {
           "color": "red",
           "dash": "dash"
          },
          "type": "line",
          "x0": 0,
          "x1": 1,
          "xref": "x domain",
          "y0": 1.0178433898914443,
          "y1": 1.0178433898914443,
          "yref": "y"
         }
        ],
        "template": {
         "data": {
          "bar": [
           {
            "error_x": {
             "color": "#2a3f5f"
            },
            "error_y": {
             "color": "#2a3f5f"
            },
            "marker": {
             "line": {
              "color": "#E5ECF6",
              "width": 0.5
             },
             "pattern": {
              "fillmode": "overlay",
              "size": 10,
              "solidity": 0.2
             }
            },
            "type": "bar"
           }
          ],
          "barpolar": [
           {
            "marker": {
             "line": {
              "color": "#E5ECF6",
              "width": 0.5
             },
             "pattern": {
              "fillmode": "overlay",
              "size": 10,
              "solidity": 0.2
             }
            },
            "type": "barpolar"
           }
          ],
          "carpet": [
           {
            "aaxis": {
             "endlinecolor": "#2a3f5f",
             "gridcolor": "white",
             "linecolor": "white",
             "minorgridcolor": "white",
             "startlinecolor": "#2a3f5f"
            },
            "baxis": {
             "endlinecolor": "#2a3f5f",
             "gridcolor": "white",
             "linecolor": "white",
             "minorgridcolor": "white",
             "startlinecolor": "#2a3f5f"
            },
            "type": "carpet"
           }
          ],
          "choropleth": [
           {
            "colorbar": {
             "outlinewidth": 0,
             "ticks": ""
            },
            "type": "choropleth"
           }
          ],
          "contour": [
           {
            "colorbar": {
             "outlinewidth": 0,
             "ticks": ""
            },
            "colorscale": [
             [
              0,
              "#0d0887"
             ],
             [
              0.1111111111111111,
              "#46039f"
             ],
             [
              0.2222222222222222,
              "#7201a8"
             ],
             [
              0.3333333333333333,
              "#9c179e"
             ],
             [
              0.4444444444444444,
              "#bd3786"
             ],
             [
              0.5555555555555556,
              "#d8576b"
             ],
             [
              0.6666666666666666,
              "#ed7953"
             ],
             [
              0.7777777777777778,
              "#fb9f3a"
             ],
             [
              0.8888888888888888,
              "#fdca26"
             ],
             [
              1,
              "#f0f921"
             ]
            ],
            "type": "contour"
           }
          ],
          "contourcarpet": [
           {
            "colorbar": {
             "outlinewidth": 0,
             "ticks": ""
            },
            "type": "contourcarpet"
           }
          ],
          "heatmap": [
           {
            "colorbar": {
             "outlinewidth": 0,
             "ticks": ""
            },
            "colorscale": [
             [
              0,
              "#0d0887"
             ],
             [
              0.1111111111111111,
              "#46039f"
             ],
             [
              0.2222222222222222,
              "#7201a8"
             ],
             [
              0.3333333333333333,
              "#9c179e"
             ],
             [
              0.4444444444444444,
              "#bd3786"
             ],
             [
              0.5555555555555556,
              "#d8576b"
             ],
             [
              0.6666666666666666,
              "#ed7953"
             ],
             [
              0.7777777777777778,
              "#fb9f3a"
             ],
             [
              0.8888888888888888,
              "#fdca26"
             ],
             [
              1,
              "#f0f921"
             ]
            ],
            "type": "heatmap"
           }
          ],
          "histogram": [
           {
            "marker": {
             "pattern": {
              "fillmode": "overlay",
              "size": 10,
              "solidity": 0.2
             }
            },
            "type": "histogram"
           }
          ],
          "histogram2d": [
           {
            "colorbar": {
             "outlinewidth": 0,
             "ticks": ""
            },
            "colorscale": [
             [
              0,
              "#0d0887"
             ],
             [
              0.1111111111111111,
              "#46039f"
             ],
             [
              0.2222222222222222,
              "#7201a8"
             ],
             [
              0.3333333333333333,
              "#9c179e"
             ],
             [
              0.4444444444444444,
              "#bd3786"
             ],
             [
              0.5555555555555556,
              "#d8576b"
             ],
             [
              0.6666666666666666,
              "#ed7953"
             ],
             [
              0.7777777777777778,
              "#fb9f3a"
             ],
             [
              0.8888888888888888,
              "#fdca26"
             ],
             [
              1,
              "#f0f921"
             ]
            ],
            "type": "histogram2d"
           }
          ],
          "histogram2dcontour": [
           {
            "colorbar": {
             "outlinewidth": 0,
             "ticks": ""
            },
            "colorscale": [
             [
              0,
              "#0d0887"
             ],
             [
              0.1111111111111111,
              "#46039f"
             ],
             [
              0.2222222222222222,
              "#7201a8"
             ],
             [
              0.3333333333333333,
              "#9c179e"
             ],
             [
              0.4444444444444444,
              "#bd3786"
             ],
             [
              0.5555555555555556,
              "#d8576b"
             ],
             [
              0.6666666666666666,
              "#ed7953"
             ],
             [
              0.7777777777777778,
              "#fb9f3a"
             ],
             [
              0.8888888888888888,
              "#fdca26"
             ],
             [
              1,
              "#f0f921"
             ]
            ],
            "type": "histogram2dcontour"
           }
          ],
          "mesh3d": [
           {
            "colorbar": {
             "outlinewidth": 0,
             "ticks": ""
            },
            "type": "mesh3d"
           }
          ],
          "parcoords": [
           {
            "line": {
             "colorbar": {
              "outlinewidth": 0,
              "ticks": ""
             }
            },
            "type": "parcoords"
           }
          ],
          "pie": [
           {
            "automargin": true,
            "type": "pie"
           }
          ],
          "scatter": [
           {
            "fillpattern": {
             "fillmode": "overlay",
             "size": 10,
             "solidity": 0.2
            },
            "type": "scatter"
           }
          ],
          "scatter3d": [
           {
            "line": {
             "colorbar": {
              "outlinewidth": 0,
              "ticks": ""
             }
            },
            "marker": {
             "colorbar": {
              "outlinewidth": 0,
              "ticks": ""
             }
            },
            "type": "scatter3d"
           }
          ],
          "scattercarpet": [
           {
            "marker": {
             "colorbar": {
              "outlinewidth": 0,
              "ticks": ""
             }
            },
            "type": "scattercarpet"
           }
          ],
          "scattergeo": [
           {
            "marker": {
             "colorbar": {
              "outlinewidth": 0,
              "ticks": ""
             }
            },
            "type": "scattergeo"
           }
          ],
          "scattergl": [
           {
            "marker": {
             "colorbar": {
              "outlinewidth": 0,
              "ticks": ""
             }
            },
            "type": "scattergl"
           }
          ],
          "scattermap": [
           {
            "marker": {
             "colorbar": {
              "outlinewidth": 0,
              "ticks": ""
             }
            },
            "type": "scattermap"
           }
          ],
          "scattermapbox": [
           {
            "marker": {
             "colorbar": {
              "outlinewidth": 0,
              "ticks": ""
             }
            },
            "type": "scattermapbox"
           }
          ],
          "scatterpolar": [
           {
            "marker": {
             "colorbar": {
              "outlinewidth": 0,
              "ticks": ""
             }
            },
            "type": "scatterpolar"
           }
          ],
          "scatterpolargl": [
           {
            "marker": {
             "colorbar": {
              "outlinewidth": 0,
              "ticks": ""
             }
            },
            "type": "scatterpolargl"
           }
          ],
          "scatterternary": [
           {
            "marker": {
             "colorbar": {
              "outlinewidth": 0,
              "ticks": ""
             }
            },
            "type": "scatterternary"
           }
          ],
          "surface": [
           {
            "colorbar": {
             "outlinewidth": 0,
             "ticks": ""
            },
            "colorscale": [
             [
              0,
              "#0d0887"
             ],
             [
              0.1111111111111111,
              "#46039f"
             ],
             [
              0.2222222222222222,
              "#7201a8"
             ],
             [
              0.3333333333333333,
              "#9c179e"
             ],
             [
              0.4444444444444444,
              "#bd3786"
             ],
             [
              0.5555555555555556,
              "#d8576b"
             ],
             [
              0.6666666666666666,
              "#ed7953"
             ],
             [
              0.7777777777777778,
              "#fb9f3a"
             ],
             [
              0.8888888888888888,
              "#fdca26"
             ],
             [
              1,
              "#f0f921"
             ]
            ],
            "type": "surface"
           }
          ],
          "table": [
           {
            "cells": {
             "fill": {
              "color": "#EBF0F8"
             },
             "line": {
              "color": "white"
             }
            },
            "header": {
             "fill": {
              "color": "#C8D4E3"
             },
             "line": {
              "color": "white"
             }
            },
            "type": "table"
           }
          ]
         },
         "layout": {
          "annotationdefaults": {
           "arrowcolor": "#2a3f5f",
           "arrowhead": 0,
           "arrowwidth": 1
          },
          "autotypenumbers": "strict",
          "coloraxis": {
           "colorbar": {
            "outlinewidth": 0,
            "ticks": ""
           }
          },
          "colorscale": {
           "diverging": [
            [
             0,
             "#8e0152"
            ],
            [
             0.1,
             "#c51b7d"
            ],
            [
             0.2,
             "#de77ae"
            ],
            [
             0.3,
             "#f1b6da"
            ],
            [
             0.4,
             "#fde0ef"
            ],
            [
             0.5,
             "#f7f7f7"
            ],
            [
             0.6,
             "#e6f5d0"
            ],
            [
             0.7,
             "#b8e186"
            ],
            [
             0.8,
             "#7fbc41"
            ],
            [
             0.9,
             "#4d9221"
            ],
            [
             1,
             "#276419"
            ]
           ],
           "sequential": [
            [
             0,
             "#0d0887"
            ],
            [
             0.1111111111111111,
             "#46039f"
            ],
            [
             0.2222222222222222,
             "#7201a8"
            ],
            [
             0.3333333333333333,
             "#9c179e"
            ],
            [
             0.4444444444444444,
             "#bd3786"
            ],
            [
             0.5555555555555556,
             "#d8576b"
            ],
            [
             0.6666666666666666,
             "#ed7953"
            ],
            [
             0.7777777777777778,
             "#fb9f3a"
            ],
            [
             0.8888888888888888,
             "#fdca26"
            ],
            [
             1,
             "#f0f921"
            ]
           ],
           "sequentialminus": [
            [
             0,
             "#0d0887"
            ],
            [
             0.1111111111111111,
             "#46039f"
            ],
            [
             0.2222222222222222,
             "#7201a8"
            ],
            [
             0.3333333333333333,
             "#9c179e"
            ],
            [
             0.4444444444444444,
             "#bd3786"
            ],
            [
             0.5555555555555556,
             "#d8576b"
            ],
            [
             0.6666666666666666,
             "#ed7953"
            ],
            [
             0.7777777777777778,
             "#fb9f3a"
            ],
            [
             0.8888888888888888,
             "#fdca26"
            ],
            [
             1,
             "#f0f921"
            ]
           ]
          },
          "colorway": [
           "#636efa",
           "#EF553B",
           "#00cc96",
           "#ab63fa",
           "#FFA15A",
           "#19d3f3",
           "#FF6692",
           "#B6E880",
           "#FF97FF",
           "#FECB52"
          ],
          "font": {
           "color": "#2a3f5f"
          },
          "geo": {
           "bgcolor": "white",
           "lakecolor": "white",
           "landcolor": "#E5ECF6",
           "showlakes": true,
           "showland": true,
           "subunitcolor": "white"
          },
          "hoverlabel": {
           "align": "left"
          },
          "hovermode": "closest",
          "mapbox": {
           "style": "light"
          },
          "paper_bgcolor": "white",
          "plot_bgcolor": "#E5ECF6",
          "polar": {
           "angularaxis": {
            "gridcolor": "white",
            "linecolor": "white",
            "ticks": ""
           },
           "bgcolor": "#E5ECF6",
           "radialaxis": {
            "gridcolor": "white",
            "linecolor": "white",
            "ticks": ""
           }
          },
          "scene": {
           "xaxis": {
            "backgroundcolor": "#E5ECF6",
            "gridcolor": "white",
            "gridwidth": 2,
            "linecolor": "white",
            "showbackground": true,
            "ticks": "",
            "zerolinecolor": "white"
           },
           "yaxis": {
            "backgroundcolor": "#E5ECF6",
            "gridcolor": "white",
            "gridwidth": 2,
            "linecolor": "white",
            "showbackground": true,
            "ticks": "",
            "zerolinecolor": "white"
           },
           "zaxis": {
            "backgroundcolor": "#E5ECF6",
            "gridcolor": "white",
            "gridwidth": 2,
            "linecolor": "white",
            "showbackground": true,
            "ticks": "",
            "zerolinecolor": "white"
           }
          },
          "shapedefaults": {
           "line": {
            "color": "#2a3f5f"
           }
          },
          "ternary": {
           "aaxis": {
            "gridcolor": "white",
            "linecolor": "white",
            "ticks": ""
           },
           "baxis": {
            "gridcolor": "white",
            "linecolor": "white",
            "ticks": ""
           },
           "bgcolor": "#E5ECF6",
           "caxis": {
            "gridcolor": "white",
            "linecolor": "white",
            "ticks": ""
           }
          },
          "title": {
           "x": 0.05
          },
          "xaxis": {
           "automargin": true,
           "gridcolor": "white",
           "linecolor": "white",
           "ticks": "",
           "title": {
            "standoff": 15
           },
           "zerolinecolor": "white",
           "zerolinewidth": 2
          },
          "yaxis": {
           "automargin": true,
           "gridcolor": "white",
           "linecolor": "white",
           "ticks": "",
           "title": {
            "standoff": 15
           },
           "zerolinecolor": "white",
           "zerolinewidth": 2
          }
         }
        },
        "title": {
         "text": "DBSCAN Clustering Analysis Dashboard"
        },
        "xaxis": {
         "anchor": "y",
         "domain": [
          0,
          0.45
         ],
         "title": {
          "text": "Point Index"
         }
        },
        "xaxis2": {
         "anchor": "y2",
         "domain": [
          0.55,
          1
         ],
         "title": {
          "text": "Longitude"
         }
        },
        "xaxis3": {
         "anchor": "y3",
         "domain": [
          0,
          0.45
         ],
         "title": {
          "text": "Eps Parameter"
         }
        },
        "xaxis4": {
         "anchor": "y4",
         "domain": [
          0.55,
          1
         ],
         "title": {
          "text": "Cluster ID"
         }
        },
        "yaxis": {
         "anchor": "x",
         "domain": [
          0.625,
          1
         ],
         "title": {
          "text": "4-NN Distance"
         }
        },
        "yaxis2": {
         "anchor": "x2",
         "domain": [
          0.625,
          1
         ],
         "title": {
          "text": "Latitude"
         }
        },
        "yaxis3": {
         "anchor": "x3",
         "domain": [
          0,
          0.375
         ],
         "title": {
          "text": "Min Samples"
         }
        },
        "yaxis4": {
         "anchor": "x4",
         "domain": [
          0,
          0.375
         ],
         "title": {
          "text": "Average Values"
         }
        }
       }
      }
     },
     "metadata": {},
     "output_type": "display_data"
    },
    {
     "name": "stdout",
     "output_type": "stream",
     "text": [
      "\n",
      " DBSCAN BUSINESS INSIGHTS:\n",
      "\n",
      "Cluster 0: High-Performance Hub\n",
      "• Locations: 549\n",
      "• Avg sales: $24,250\n",
      "• Avg traffic: 100 visitors\n",
      "• Total revenue: $13,313,032\n",
      "\n",
      "Cluster 1: Standard Zone\n",
      "• Locations: 172\n",
      "• Avg sales: $4,360\n",
      "• Avg traffic: 30 visitors\n",
      "• Total revenue: $749,941\n",
      "\n",
      " DBSCAN CLUSTERING ROI:\n",
      "• Total cluster revenue: $14,062,973\n",
      "• Location optimization gain: $2,812,595\n",
      "• Marketing efficiency savings: $105,472\n",
      "• Investigation costs: $33,000\n",
      "• Net annual benefits: $2,885,067\n",
      "• Implementation cost: $150,000\n",
      "• ROI: 1823%\n",
      "\n",
      " Cross-Reference Learning Path:\n",
      "• Next: Tier4_PCA.ipynb (dimensionality reduction)\n",
      "• Related: Tier6_AnomalyDetection.ipynb (noise detection)\n",
      "• Advanced: Intermediate_Clustering.ipynb (ensemble methods)\n"
     ]
    }
   ],
   "source": [
    "# 2. INTERACTIVE DBSCAN VISUALIZATIONS\n",
    "print(\" 2. INTERACTIVE DBSCAN VISUALIZATIONS\")\n",
    "print(\"=\" * 39)\n",
    "\n",
    "# Create comprehensive DBSCAN dashboard\n",
    "fig = make_subplots(\n",
    "    rows=2, cols=2,\n",
    "    subplot_titles=[\n",
    "        'K-Distance Graph (Eps Optimization)',\n",
    "        'Geographic Distribution (Latitude vs Longitude)',\n",
    "        'Parameter Grid Search Heatmap',\n",
    "        'Cluster Characteristics Comparison'\n",
    "    ],\n",
    "    specs=[[{\"secondary_y\": False}, {\"secondary_y\": False}],\n",
    "           [{\"secondary_y\": False}, {\"secondary_y\": False}]]\n",
    ")\n",
    "\n",
    "# K-distance graph\n",
    "sorted_indices = np.argsort(k_distances)\n",
    "fig.add_trace(\n",
    "    go.Scatter(x=np.arange(len(k_distances)), y=k_distances[sorted_indices],\n",
    "               mode='lines', name='4-NN Distance',\n",
    "               line=dict(color='blue', width=2)),\n",
    "    row=1, col=1\n",
    ")\n",
    "fig.add_hline(y=eps_optimal, line=dict(color='red', dash='dash'),\n",
    "              annotation_text=f\"Optimal eps: {eps_optimal:.3f}\", row=1, col=1)\n",
    "\n",
    "# Geographic visualization with DBSCAN results\n",
    "colors = ['red', 'blue', 'green', 'purple', 'orange', 'yellow', 'pink']\n",
    "unique_clusters = sorted(set(final_labels))\n",
    "\n",
    "for cluster in unique_clusters:\n",
    "    cluster_data = geo_df[geo_df['dbscan_cluster'] == cluster]\n",
    "\n",
    "    if cluster == -1: # Noise points\n",
    "        fig.add_trace(\n",
    "            go.Scatter(\n",
    "                x=cluster_data['longitude'],\n",
    "                y=cluster_data['latitude'],\n",
    "                mode='markers',\n",
    "                marker=dict(size=6, color='black', opacity=0.6),\n",
    "                name='Noise',\n",
    "                text=cluster_data['sales_volume'].round(0),\n",
    "                hovertemplate='Noise Point<br>Sales: $%{text:,.0f}<extra></extra>'\n",
    "            ),\n",
    "            row=1, col=2\n",
    "        )\n",
    "    else:\n",
    "        color = colors[cluster % len(colors)]\n",
    "        fig.add_trace(\n",
    "            go.Scatter(\n",
    "                x=cluster_data['longitude'],\n",
    "                y=cluster_data['latitude'],\n",
    "                mode='markers',\n",
    "                marker=dict(size=8, color=color, opacity=0.8),\n",
    "                name=f'Cluster {cluster}',\n",
    "                text=cluster_data['sales_volume'].round(0),\n",
    "                hovertemplate=f'Cluster {cluster}<br>Sales: $%{{text:,.0f}}<extra></extra>'\n",
    "            ),\n",
    "            row=1, col=2\n",
    "        )\n",
    "\n",
    "# Parameter grid search heatmap\n",
    "eps_grid = []\n",
    "min_samples_grid = []\n",
    "silhouette_grid = []\n",
    "\n",
    "for (eps, min_samples), results in dbscan_results.items():\n",
    "    eps_grid.append(eps)\n",
    "    min_samples_grid.append(min_samples)\n",
    "    silhouette_grid.append(results['silhouette'])\n",
    "\n",
    "# Create parameter performance matrix\n",
    "eps_unique = sorted(set(eps_grid))\n",
    "min_samples_unique = sorted(set(min_samples_grid))\n",
    "performance_matrix = np.full((len(min_samples_unique), len(eps_unique)), -1.0)\n",
    "\n",
    "for i, ms in enumerate(min_samples_unique):\n",
    "    for j, eps in enumerate(eps_unique):\n",
    "        for k, (eps_val, ms_val) in enumerate(zip(eps_grid, min_samples_grid)):\n",
    "            if eps_val == eps and ms_val == ms:\n",
    "                performance_matrix[i, j] = silhouette_grid[k]\n",
    "                break\n",
    "\n",
    "fig.add_trace(\n",
    "    go.Heatmap(\n",
    "        z=performance_matrix,\n",
    "        x=[f\"{eps:.3f}\" for eps in eps_unique],\n",
    "        y=[f\"{ms}\" for ms in min_samples_unique],\n",
    "        colorscale='Viridis',\n",
    "        showscale=True,\n",
    "        hovertemplate='eps: %{x}<br>min_samples: %{y}<br>Silhouette: %{z:.3f}<extra></extra>'\n",
    "    ),\n",
    "    row=2, col=1\n",
    ")\n",
    "\n",
    "# Cluster characteristics comparison\n",
    "cluster_stats = geo_df.groupby('dbscan_cluster').agg({\n",
    " 'sales_volume': 'mean',\n",
    " 'foot_traffic': 'mean',\n",
    " 'competition_nearby': 'mean'\n",
    "}).reset_index()\n",
    "\n",
    "cluster_stats = cluster_stats[cluster_stats['dbscan_cluster'] != -1] # Exclude noise\n",
    "\n",
    "for i, metric in enumerate(['sales_volume', 'foot_traffic', 'competition_nearby']):\n",
    "    fig.add_trace(\n",
    "        go.Bar(\n",
    "            x=cluster_stats['dbscan_cluster'],\n",
    "            y=cluster_stats[metric],\n",
    "            name=metric.replace('_', ' ').title(),\n",
    "            marker_color=colors[i % len(colors)],\n",
    "            yaxis=f'y{4 if i == 0 else 4}',\n",
    "            offsetgroup=i\n",
    "        ),\n",
    "        row=2, col=2\n",
    "    )\n",
    "\n",
    "# Update layout\n",
    "fig.update_layout(\n",
    "    height=800,\n",
    "    title=\"DBSCAN Clustering Analysis Dashboard\"\n",
    ")\n",
    "\n",
    "fig.update_xaxes(title_text=\"Point Index\", row=1, col=1)\n",
    "fig.update_xaxes(title_text=\"Longitude\", row=1, col=2)\n",
    "fig.update_xaxes(title_text=\"Eps Parameter\", row=2, col=1)\n",
    "fig.update_xaxes(title_text=\"Cluster ID\", row=2, col=2)\n",
    "fig.update_yaxes(title_text=\"4-NN Distance\", row=1, col=1)\n",
    "fig.update_yaxes(title_text=\"Latitude\", row=1, col=2)\n",
    "fig.update_yaxes(title_text=\"Min Samples\", row=2, col=1)\n",
    "fig.update_yaxes(title_text=\"Average Values\", row=2, col=2)\n",
    "\n",
    "fig.show()\n",
    "\n",
    "# Business insights and ROI\n",
    "print(f\"\\n DBSCAN BUSINESS INSIGHTS:\")\n",
    "\n",
    "total_revenue = 0\n",
    "for cluster in unique_clusters:\n",
    "    if cluster != -1: # Skip noise\n",
    "        cluster_data = geo_df[geo_df['dbscan_cluster'] == cluster]\n",
    "        cluster_size = len(cluster_data)\n",
    "        avg_sales = cluster_data['sales_volume'].mean()\n",
    "        avg_traffic = cluster_data['foot_traffic'].mean()\n",
    "        cluster_revenue = cluster_size * avg_sales\n",
    "        total_revenue += cluster_revenue\n",
    "\n",
    "        # Determine cluster type\n",
    "        if avg_sales > geo_df['sales_volume'].median() and avg_traffic > geo_df['foot_traffic'].median():\n",
    "            cluster_type = \"High-Performance Hub\"\n",
    "        elif avg_sales > geo_df['sales_volume'].median():\n",
    "            cluster_type = \"High-Revenue Zone\"\n",
    "        elif avg_traffic > geo_df['foot_traffic'].median():\n",
    "            cluster_type = \"High-Traffic Area\"\n",
    "        else:\n",
    "            cluster_type = \"Standard Zone\"\n",
    "\n",
    "        print(f\"\\nCluster {cluster}: {cluster_type}\")\n",
    "        print(f\"• Locations: {cluster_size}\")\n",
    "        print(f\"• Avg sales: ${avg_sales:,.0f}\")\n",
    "        print(f\"• Avg traffic: {avg_traffic:.0f} visitors\")\n",
    "        print(f\"• Total revenue: ${cluster_revenue:,.0f}\")\n",
    "\n",
    "# ROI calculation\n",
    "location_optimization_improvement = 0.20 # 20% improvement from better location strategy\n",
    "marketing_efficiency_gain = 0.15 # 15% marketing efficiency from targeted clusters\n",
    "noise_point_investigation_cost = n_noise_final * 1000 # $1000 per noise point investigation\n",
    "\n",
    "roi_revenue_increase = total_revenue * location_optimization_improvement\n",
    "marketing_savings = total_revenue * 0.05 * marketing_efficiency_gain # 5% of revenue as marketing\n",
    "total_benefits = roi_revenue_increase + marketing_savings - noise_point_investigation_cost\n",
    "\n",
    "implementation_cost = 150_000\n",
    "\n",
    "print(f\"\\n DBSCAN CLUSTERING ROI:\")\n",
    "print(f\"• Total cluster revenue: ${total_revenue:,.0f}\")\n",
    "print(f\"• Location optimization gain: ${roi_revenue_increase:,.0f}\")\n",
    "print(f\"• Marketing efficiency savings: ${marketing_savings:,.0f}\")\n",
    "print(f\"• Investigation costs: ${noise_point_investigation_cost:,.0f}\")\n",
    "print(f\"• Net annual benefits: ${total_benefits:,.0f}\")\n",
    "print(f\"• Implementation cost: ${implementation_cost:,.0f}\")\n",
    "print(f\"• ROI: {(total_benefits - implementation_cost)/implementation_cost*100:.0f}%\")\n",
    "\n",
    "print(f\"\\n Cross-Reference Learning Path:\")\n",
    "print(f\"• Next: Tier4_PCA.ipynb (dimensionality reduction)\")\n",
    "print(f\"• Related: Tier6_AnomalyDetection.ipynb (noise detection)\")\n",
    "print(f\"• Advanced: Intermediate_Clustering.ipynb (ensemble methods)\")"
   ]
  }
 ],
 "metadata": {
  "kernelspec": {
   "display_name": ".venv",
   "language": "python",
   "name": "python3"
  },
  "language_info": {
   "codemirror_mode": {
    "name": "ipython",
    "version": 3
   },
   "file_extension": ".py",
   "mimetype": "text/x-python",
   "name": "python",
   "nbconvert_exporter": "python",
   "pygments_lexer": "ipython3",
   "version": "3.13.7"
  }
 },
 "nbformat": 4,
 "nbformat_minor": 5
}
