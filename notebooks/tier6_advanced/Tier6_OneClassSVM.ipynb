{
 "cells": [
  {
   "cell_type": "markdown",
   "metadata": {},
   "source": [
    "# Tier 6: One-Class SVM Anomaly Detection\n",
    "\n",
    "---\n",
    "\n",
    "**Author:** Brandon Deloatch\n",
    "**Affiliation:** Quipu Research Labs, LLC\n",
    "**Date:** 2025-10-02\n",
    "**Version:** v1.3\n",
    "**License:** MIT\n",
    "**Notebook ID:** 82de510c-aad9-4113-92dd-4f88b7ccac51\n",
    "\n",
    "---\n",
    "\n",
    "## Citation\n",
    "Brandon Deloatch, \"Tier 6: One-Class SVM Anomaly Detection,\" Quipu Research Labs, LLC, v1.3, 2025-10-02.\n",
    "\n",
    "Please cite this notebook if used or adapted in publications, presentations, or derivative work.\n",
    "\n",
    "---\n",
    "\n",
    "## Contributors / Acknowledgments\n",
    "- **Primary Author:** Brandon Deloatch (Quipu Research Labs, LLC)\n",
    "- **Institutional Support:** Quipu Research Labs, LLC - Advanced Analytics Division\n",
    "- **Technical Framework:** Built on scikit-learn, pandas, numpy, and plotly ecosystems\n",
    "- **Methodological Foundation:** Statistical learning principles and modern data science best practices\n",
    "\n",
    "---\n",
    "\n",
    "## Version History\n",
    "| Version | Date | Notes |\n",
    "|---------|------|-------|\n",
    "| v1.3 | 2025-10-02 | Enhanced professional formatting, comprehensive documentation, interactive visualizations |\n",
    "| v1.2 | 2024-09-15 | Updated analysis methods, improved data generation algorithms |\n",
    "| v1.0 | 2024-06-10 | Initial release with core analytical framework |\n",
    "\n",
    "---\n",
    "\n",
    "## Environment Dependencies\n",
    "- **Python:** 3.8+\n",
    "- **Core Libraries:** pandas 2.0+, numpy 1.24+, scikit-learn 1.3+\n",
    "- **Visualization:** plotly 5.0+, matplotlib 3.7+\n",
    "- **Statistical:** scipy 1.10+, statsmodels 0.14+\n",
    "- **Development:** jupyter-lab 4.0+, ipywidgets 8.0+\n",
    "\n",
    "> **Reproducibility Note:** Use requirements.txt or environment.yml for exact dependency matching.\n",
    "\n",
    "---\n",
    "\n",
    "## Data Provenance\n",
    "| Dataset | Source | License | Notes |\n",
    "|---------|--------|---------|-------|\n",
    "| Synthetic Data | Generated in-notebook | MIT | Custom algorithms for realistic simulation |\n",
    "| Statistical Distributions | NumPy/SciPy | BSD-3-Clause | Standard library implementations |\n",
    "| ML Algorithms | Scikit-learn | BSD-3-Clause | Industry-standard implementations |\n",
    "| Visualization Schemas | Plotly | MIT | Interactive dashboard frameworks |\n",
    "\n",
    "---\n",
    "\n",
    "## Execution Provenance Logs\n",
    "- **Created:** 2025-10-02\n",
    "- **Notebook ID:** 82de510c-aad9-4113-92dd-4f88b7ccac51\n",
    "- **Execution Environment:** Jupyter Lab / VS Code\n",
    "- **Computational Requirements:** Standard laptop/workstation (2GB+ RAM recommended)\n",
    "\n",
    "> **Auto-tracking:** Execution metadata can be programmatically captured for reproducibility.\n",
    "\n",
    "---\n",
    "\n",
    "## Disclaimer & Responsible Use\n",
    "This notebook is provided \"as-is\" for educational, research, and professional development purposes. Users assume full responsibility for any results, applications, or decisions derived from this analysis.\n",
    "\n",
    "**Professional Standards:**\n",
    "- Validate all results against domain expertise and additional data sources\n",
    "- Respect licensing and attribution requirements for all dependencies\n",
    "- Follow ethical guidelines for data analysis and algorithmic decision-making\n",
    "- Credit all methodological sources and derivative frameworks appropriately\n",
    "\n",
    "**Academic & Commercial Use:**\n",
    "- Permitted under MIT license with proper attribution\n",
    "- Suitable for educational curriculum and professional training\n",
    "- Appropriate for commercial adaptation with citation requirements\n",
    "- Recommended for reproducible research and transparent analytics\n",
    "\n",
    "---\n",
    "\n"
   ]
  },
  {
   "cell_type": "code",
   "execution_count": 1,
   "id": "fea9a326",
   "metadata": {},
   "outputs": [
    {
     "name": "stdout",
     "output_type": "stream",
     "text": [
      " Tier 6: One-Class SVM Anomaly Detection - Libraries Loaded!\n",
      "============================================================\n",
      "One-Class SVM Techniques:\n",
      "• Boundary-based anomaly detection with support vectors\n",
      "• Kernel trick for non-linear decision boundaries\n",
      "• Nu parameter tuning for outlier fraction control\n",
      "• High-dimensional anomaly detection capabilities\n",
      "• Novelty detection for previously unseen data patterns\n"
     ]
    }
   ],
   "source": [
    "import pandas as pd\n",
    "import numpy as np\n",
    "import plotly.express as px\n",
    "import plotly.graph_objects as go\n",
    "from plotly.subplots import make_subplots\n",
    "from sklearn.svm import OneClassSVM\n",
    "from sklearn.preprocessing import StandardScaler\n",
    "from sklearn.model_selection import train_test_split, GridSearchCV\n",
    "from sklearn.metrics import classification_report, precision_score, recall_score, f1_score\n",
    "from sklearn.datasets import make_blobs, make_moons\n",
    "from sklearn.decomposition import PCA\n",
    "import warnings\n",
    "warnings.filterwarnings('ignore')\n",
    "\n",
    "print(\" Tier 6: One-Class SVM Anomaly Detection - Libraries Loaded!\")\n",
    "print(\"=\" * 60)\n",
    "print(\"One-Class SVM Techniques:\")\n",
    "print(\"• Boundary-based anomaly detection with support vectors\")\n",
    "print(\"• Kernel trick for non-linear decision boundaries\")\n",
    "print(\"• Nu parameter tuning for outlier fraction control\")\n",
    "print(\"• High-dimensional anomaly detection capabilities\")\n",
    "print(\"• Novelty detection for previously unseen data patterns\")"
   ]
  },
  {
   "cell_type": "code",
   "execution_count": 5,
   "id": "21f084c2",
   "metadata": {},
   "outputs": [
    {
     "name": "stdout",
     "output_type": "stream",
     "text": [
      " Network Intrusion Dataset Created:\n",
      "Total connections: 4200\n",
      "Intrusion connections: 200 (4.8%)\n",
      "Intrusion types: {np.str_('DDoS'): 56, np.str_('Port_Scan'): 55, np.str_('Malware_C2'): 45, np.str_('Data_Exfiltration'): 44}\n",
      "\n",
      "Industrial Equipment Dataset Created:\n",
      "Total readings: 3675\n",
      "Fault readings: 175 (4.8%)\n",
      "Fault types: {np.str_('Overheating'): 47, np.str_('Flow_Blockage'): 47, np.str_('Pressure_Leak'): 42, np.str_('Bearing_Wear'): 39}\n",
      "\n",
      "Synthetic 2D Dataset Created:\n",
      "Normal points: 800\n",
      "Outlier points: 40\n"
     ]
    }
   ],
   "source": [
    "# Generate comprehensive One-Class SVM datasets\n",
    "np.random.seed(42)\n",
    "\n",
    "# 1. Network intrusion detection dataset\n",
    "n_normal_connections = 4000\n",
    "n_intrusions = 200\n",
    "\n",
    "# Normal network traffic patterns\n",
    "normal_connections = []\n",
    "for i in range(n_normal_connections):\n",
    "    # Simulate normal network behavior\n",
    "    packet_size = np.random.normal(1500, 300) # Standard MTU size\n",
    "    connection_duration = np.random.exponential(30) # Typical web session\n",
    "    bytes_sent = np.random.lognormal(8, 1.5) # Normal data transfer\n",
    "    bytes_received = bytes_sent * np.random.normal(1.2, 0.3) # Response ratio\n",
    "    port_number = np.random.choice([80, 443, 22, 25, 53], p=[0.4, 0.3, 0.1, 0.1, 0.1])\n",
    "\n",
    "    # Protocol behavior features\n",
    "    tcp_flags = np.random.randint(0, 8) # Normal TCP flag combinations\n",
    "    packet_count = connection_duration * np.random.poisson(5) # Packets per second\n",
    "\n",
    "    normal_connections.append({\n",
    "        'connection_id': f'NORM_{i:06d}',\n",
    "        'packet_size': packet_size,\n",
    "        'duration': connection_duration,\n",
    "        'bytes_sent': bytes_sent,\n",
    "        'bytes_received': bytes_received,\n",
    "        'port': port_number,\n",
    "        'tcp_flags': tcp_flags,\n",
    "        'packet_count': packet_count,\n",
    "        'protocol_anomaly_score': np.random.beta(2, 8), # Low anomaly score\n",
    "        'is_intrusion': 0\n",
    "    })\n",
    "\n",
    "# Intrusion patterns (anomalies)\n",
    "intrusion_connections = []\n",
    "intrusion_types = ['DDoS', 'Port_Scan', 'Data_Exfiltration', 'Malware_C2']\n",
    "\n",
    "for i in range(n_intrusions):\n",
    "    intrusion_type = np.random.choice(intrusion_types)\n",
    "\n",
    "    if intrusion_type == 'DDoS':\n",
    "        # High packet count, short duration, small packets\n",
    "        packet_size = np.random.normal(64, 20) # Small packets\n",
    "        connection_duration = np.random.exponential(2) # Very short\n",
    "        bytes_sent = np.random.normal(500, 100)\n",
    "        bytes_received = bytes_sent * 0.1 # Minimal response\n",
    "        packet_count = np.random.poisson(1000) # Very high packet rate\n",
    "\n",
    "    elif intrusion_type == 'Port_Scan':\n",
    "        # Many different ports, minimal data\n",
    "        packet_size = np.random.normal(100, 30)\n",
    "        connection_duration = np.random.exponential(0.5) # Very quick\n",
    "        bytes_sent = np.random.normal(50, 20)\n",
    "        bytes_received = 0 # No response typically\n",
    "        packet_count = np.random.poisson(2)\n",
    "\n",
    "    elif intrusion_type == 'Data_Exfiltration':\n",
    "        # Large data transfers, unusual patterns\n",
    "        packet_size = np.random.normal(1500, 100)\n",
    "        connection_duration = np.random.exponential(300) # Long sessions\n",
    "        bytes_sent = np.random.lognormal(12, 2) # Very large transfers\n",
    "        bytes_received = bytes_sent * 0.1 # Minimal response\n",
    "        packet_count = connection_duration * np.random.poisson(20)\n",
    "\n",
    "    else: # Malware_C2\n",
    "        # Regular but suspicious patterns\n",
    "        packet_size = np.random.normal(200, 50)\n",
    "        connection_duration = np.random.exponential(60)\n",
    "        bytes_sent = np.random.normal(1000, 300)\n",
    "        bytes_received = bytes_sent * np.random.normal(0.5, 0.2)\n",
    "        packet_count = np.random.poisson(30)\n",
    "\n",
    "    port_number = np.random.randint(1024, 65535) if intrusion_type == 'Port_Scan' else np.random.choice([80, 443])\n",
    "    tcp_flags = np.random.randint(8, 16) # Unusual flag combinations\n",
    "\n",
    "    intrusion_connections.append({\n",
    "        'connection_id': f'{intrusion_type}_{i:06d}',\n",
    "        'packet_size': packet_size,\n",
    "        'duration': connection_duration,\n",
    "        'bytes_sent': bytes_sent,\n",
    "        'bytes_received': bytes_received,\n",
    "        'port': port_number,\n",
    "        'tcp_flags': tcp_flags,\n",
    "        'packet_count': packet_count,\n",
    "        'protocol_anomaly_score': np.random.beta(8, 2), # High anomaly score\n",
    "        'is_intrusion': 1,\n",
    "        'intrusion_type': intrusion_type\n",
    "    })\n",
    "\n",
    "# Combine datasets\n",
    "all_connections = normal_connections + intrusion_connections\n",
    "network_df = pd.DataFrame(all_connections).sample(frac=1).reset_index(drop=True)\n",
    "\n",
    "print(\" Network Intrusion Dataset Created:\")\n",
    "print(f\"Total connections: {len(network_df)}\")\n",
    "print(f\"Intrusion connections: {n_intrusions} ({n_intrusions/len(network_df)*100:.1f}%)\")\n",
    "print(f\"Intrusion types: {network_df[network_df['is_intrusion']==1]['intrusion_type'].value_counts().to_dict()}\")\n",
    "\n",
    "# 2. Industrial equipment sensor dataset\n",
    "n_normal_readings = 3500\n",
    "n_fault_readings = 175\n",
    "\n",
    "# Normal equipment operation\n",
    "normal_readings = []\n",
    "for i in range(n_normal_readings):\n",
    "    # Normal operating parameters with correlations\n",
    "    temperature = np.random.normal(75, 5) # °C\n",
    "    pressure = np.random.normal(100, 8) # PSI\n",
    "    vibration = np.random.normal(2, 0.5) # mm/s\n",
    "    flow_rate = np.random.normal(50, 5) # L/min\n",
    "\n",
    "    # Correlated parameters\n",
    "    power_consumption = 100 + 0.8 * temperature + 0.3 * pressure + np.random.normal(0, 3)\n",
    "    efficiency = 95 - 0.1 * temperature + 0.05 * flow_rate + np.random.normal(0, 2)\n",
    "\n",
    "    normal_readings.append({\n",
    "        'reading_id': f'NORMAL_{i:06d}',\n",
    "        'temperature': temperature,\n",
    "        'pressure': pressure,\n",
    "        'vibration': vibration,\n",
    "        'flow_rate': flow_rate,\n",
    "        'power_consumption': power_consumption,\n",
    "        'efficiency': efficiency,\n",
    "        'is_fault': 0\n",
    "    })\n",
    "\n",
    "# Equipment fault patterns\n",
    "fault_readings = []\n",
    "fault_types = ['Overheating', 'Pressure_Leak', 'Bearing_Wear', 'Flow_Blockage']\n",
    "\n",
    "for i in range(n_fault_readings):\n",
    "    fault_type = np.random.choice(fault_types)\n",
    "\n",
    "    if fault_type == 'Overheating':\n",
    "        temperature = np.random.normal(95, 8) # High temperature\n",
    "        pressure = np.random.normal(100, 8)\n",
    "        vibration = np.random.normal(2.5, 0.8) # Slight increase\n",
    "        flow_rate = np.random.normal(48, 5) # Slight decrease\n",
    "\n",
    "    elif fault_type == 'Pressure_Leak':\n",
    "        temperature = np.random.normal(75, 5)\n",
    "        pressure = np.random.normal(80, 10) # Low pressure\n",
    "        vibration = np.random.normal(3, 1) # Higher vibration\n",
    "        flow_rate = np.random.normal(45, 8) # Reduced flow\n",
    "\n",
    "    elif fault_type == 'Bearing_Wear':\n",
    "        temperature = np.random.normal(80, 6) # Elevated temperature\n",
    "        pressure = np.random.normal(100, 8)\n",
    "        vibration = np.random.normal(8, 2) # Very high vibration\n",
    "        flow_rate = np.random.normal(50, 5)\n",
    "\n",
    "    else: # Flow_Blockage\n",
    "        temperature = np.random.normal(78, 5)\n",
    "        pressure = np.random.normal(120, 15) # High pressure\n",
    "        vibration = np.random.normal(2, 0.5)\n",
    "        flow_rate = np.random.normal(30, 10) # Very low flow\n",
    "\n",
    "    power_consumption = 100 + 0.8 * temperature + 0.3 * pressure + np.random.normal(10, 5) # Higher variance\n",
    "    efficiency = 85 - 0.2 * temperature + 0.02 * flow_rate + np.random.normal(0, 5) # Lower efficiency\n",
    "\n",
    "    fault_readings.append({\n",
    "        'reading_id': f'{fault_type}_{i:06d}',\n",
    "        'temperature': temperature,\n",
    "        'pressure': pressure,\n",
    "        'vibration': vibration,\n",
    "        'flow_rate': flow_rate,\n",
    "        'power_consumption': power_consumption,\n",
    "        'efficiency': efficiency,\n",
    "        'is_fault': 1,\n",
    "        'fault_type': fault_type\n",
    "    })\n",
    "\n",
    "# Combine equipment data\n",
    "all_readings = normal_readings + fault_readings\n",
    "equipment_df = pd.DataFrame(all_readings).sample(frac=1).reset_index(drop=True)\n",
    "\n",
    "print(f\"\\nIndustrial Equipment Dataset Created:\")\n",
    "print(f\"Total readings: {len(equipment_df)}\")\n",
    "print(f\"Fault readings: {n_fault_readings} ({n_fault_readings/len(equipment_df)*100:.1f}%)\")\n",
    "print(f\"Fault types: {equipment_df[equipment_df['is_fault']==1]['fault_type'].value_counts().to_dict()}\")\n",
    "\n",
    "# 3. Create 2D synthetic dataset for visualization\n",
    "X_synthetic, _ = make_blobs(n_samples=800, centers=1, cluster_std=1.0, random_state=42)\n",
    "# Add outliers\n",
    "n_outliers = 40\n",
    "outliers = np.random.uniform(low=-6, high=6, size=(n_outliers, 2))\n",
    "X_synthetic_with_outliers = np.vstack([X_synthetic, outliers])\n",
    "y_synthetic = np.hstack([np.ones(len(X_synthetic)), -np.ones(n_outliers)])\n",
    "\n",
    "print(f\"\\nSynthetic 2D Dataset Created:\")\n",
    "print(f\"Normal points: {len(X_synthetic)}\")\n",
    "print(f\"Outlier points: {n_outliers}\")"
   ]
  },
  {
   "cell_type": "code",
   "execution_count": 13,
   "id": "a75c3d26",
   "metadata": {},
   "outputs": [
    {
     "name": "stdout",
     "output_type": "stream",
     "text": [
      " 1. ONE-CLASS SVM MODEL DEVELOPMENT AND TUNING\n",
      "================================================\n",
      "Network Data Preparation:\n",
      "Training samples (normal only): 4000\n",
      "Test samples (normal + intrusions): 4200\n",
      "\n",
      "Parameter Grid Search:\n",
      "kernel=rbf, gamma=scale, nu=0.01: P=0.772, R=1.000, F1=0.871\n",
      "kernel=rbf, gamma=scale, nu=0.05: P=0.503, R=1.000, F1=0.669\n",
      "kernel=rbf, gamma=scale, nu=0.1: P=0.333, R=1.000, F1=0.499\n",
      "kernel=rbf, gamma=scale, nu=0.2: P=0.200, R=1.000, F1=0.334\n",
      "kernel=rbf, gamma=auto, nu=0.01: P=0.772, R=1.000, F1=0.871\n",
      "kernel=rbf, gamma=auto, nu=0.05: P=0.503, R=1.000, F1=0.669\n",
      "kernel=rbf, gamma=auto, nu=0.1: P=0.333, R=1.000, F1=0.499\n",
      "kernel=rbf, gamma=scale, nu=0.2: P=0.200, R=1.000, F1=0.334\n",
      "kernel=rbf, gamma=auto, nu=0.01: P=0.772, R=1.000, F1=0.871\n",
      "kernel=rbf, gamma=auto, nu=0.05: P=0.503, R=1.000, F1=0.669\n",
      "kernel=rbf, gamma=auto, nu=0.1: P=0.333, R=1.000, F1=0.499\n",
      "kernel=rbf, gamma=auto, nu=0.2: P=0.200, R=1.000, F1=0.334\n",
      "kernel=rbf, gamma=0.001, nu=0.01: P=0.833, R=0.995, F1=0.907\n",
      "kernel=rbf, gamma=0.001, nu=0.05: P=0.499, R=1.000, F1=0.666\n",
      "kernel=rbf, gamma=0.001, nu=0.1: P=0.334, R=1.000, F1=0.501\n",
      "kernel=rbf, gamma=auto, nu=0.2: P=0.200, R=1.000, F1=0.334\n",
      "kernel=rbf, gamma=0.001, nu=0.01: P=0.833, R=0.995, F1=0.907\n",
      "kernel=rbf, gamma=0.001, nu=0.05: P=0.499, R=1.000, F1=0.666\n",
      "kernel=rbf, gamma=0.001, nu=0.1: P=0.334, R=1.000, F1=0.501\n",
      "kernel=rbf, gamma=0.001, nu=0.2: P=0.200, R=1.000, F1=0.333\n",
      "kernel=rbf, gamma=0.01, nu=0.01: P=0.823, R=1.000, F1=0.903\n",
      "kernel=rbf, gamma=0.01, nu=0.05: P=0.500, R=1.000, F1=0.667\n",
      "kernel=rbf, gamma=0.01, nu=0.1: P=0.334, R=1.000, F1=0.501\n",
      "kernel=rbf, gamma=0.001, nu=0.2: P=0.200, R=1.000, F1=0.333\n",
      "kernel=rbf, gamma=0.01, nu=0.01: P=0.823, R=1.000, F1=0.903\n",
      "kernel=rbf, gamma=0.01, nu=0.05: P=0.500, R=1.000, F1=0.667\n",
      "kernel=rbf, gamma=0.01, nu=0.1: P=0.334, R=1.000, F1=0.501\n",
      "kernel=rbf, gamma=0.01, nu=0.2: P=0.200, R=1.000, F1=0.333\n",
      "kernel=rbf, gamma=0.1, nu=0.01: P=0.826, R=1.000, F1=0.905\n",
      "kernel=rbf, gamma=0.1, nu=0.05: P=0.496, R=1.000, F1=0.663\n",
      "kernel=rbf, gamma=0.1, nu=0.1: P=0.334, R=1.000, F1=0.501\n",
      "kernel=rbf, gamma=0.01, nu=0.2: P=0.200, R=1.000, F1=0.333\n",
      "kernel=rbf, gamma=0.1, nu=0.01: P=0.826, R=1.000, F1=0.905\n",
      "kernel=rbf, gamma=0.1, nu=0.05: P=0.496, R=1.000, F1=0.663\n",
      "kernel=rbf, gamma=0.1, nu=0.1: P=0.334, R=1.000, F1=0.501\n",
      "kernel=rbf, gamma=0.1, nu=0.2: P=0.200, R=1.000, F1=0.334\n",
      "kernel=rbf, gamma=1, nu=0.01: P=0.364, R=1.000, F1=0.533\n",
      "kernel=rbf, gamma=0.1, nu=0.2: P=0.200, R=1.000, F1=0.334\n",
      "kernel=rbf, gamma=1, nu=0.01: P=0.364, R=1.000, F1=0.533\n",
      "kernel=rbf, gamma=1, nu=0.05: P=0.365, R=1.000, F1=0.535\n",
      "kernel=rbf, gamma=1, nu=0.1: P=0.303, R=1.000, F1=0.465\n",
      "kernel=rbf, gamma=1, nu=0.05: P=0.365, R=1.000, F1=0.535\n",
      "kernel=rbf, gamma=1, nu=0.1: P=0.303, R=1.000, F1=0.465\n",
      "kernel=rbf, gamma=1, nu=0.2: P=0.199, R=1.000, F1=0.332\n",
      "kernel=linear, gamma=scale, nu=0.01: P=0.061, R=0.690, F1=0.112\n",
      "kernel=linear, gamma=scale, nu=0.05: P=0.044, R=0.775, F1=0.083\n",
      "kernel=linear, gamma=scale, nu=0.1: P=0.088, R=0.205, F1=0.123\n",
      "kernel=linear, gamma=scale, nu=0.2: P=0.039, R=0.765, F1=0.073\n",
      "kernel=linear, gamma=auto, nu=0.01: P=0.061, R=0.690, F1=0.112\n",
      "kernel=linear, gamma=auto, nu=0.05: P=0.044, R=0.775, F1=0.083\n",
      "kernel=linear, gamma=auto, nu=0.1: P=0.088, R=0.205, F1=0.123\n",
      "kernel=rbf, gamma=1, nu=0.2: P=0.199, R=1.000, F1=0.332\n",
      "kernel=linear, gamma=scale, nu=0.01: P=0.061, R=0.690, F1=0.112\n",
      "kernel=linear, gamma=scale, nu=0.05: P=0.044, R=0.775, F1=0.083\n",
      "kernel=linear, gamma=scale, nu=0.1: P=0.088, R=0.205, F1=0.123\n",
      "kernel=linear, gamma=scale, nu=0.2: P=0.039, R=0.765, F1=0.073\n",
      "kernel=linear, gamma=auto, nu=0.01: P=0.061, R=0.690, F1=0.112\n",
      "kernel=linear, gamma=auto, nu=0.05: P=0.044, R=0.775, F1=0.083\n",
      "kernel=linear, gamma=auto, nu=0.1: P=0.088, R=0.205, F1=0.123\n",
      "kernel=linear, gamma=auto, nu=0.2: P=0.039, R=0.765, F1=0.073\n",
      "kernel=linear, gamma=0.001, nu=0.01: P=0.061, R=0.690, F1=0.112\n",
      "kernel=linear, gamma=0.001, nu=0.05: P=0.044, R=0.775, F1=0.083\n",
      "kernel=linear, gamma=0.001, nu=0.1: P=0.088, R=0.205, F1=0.123\n",
      "kernel=linear, gamma=0.001, nu=0.2: P=0.039, R=0.765, F1=0.073\n",
      "kernel=linear, gamma=0.01, nu=0.01: P=0.061, R=0.690, F1=0.112\n",
      "kernel=linear, gamma=0.01, nu=0.05: P=0.044, R=0.775, F1=0.083\n",
      "kernel=linear, gamma=0.01, nu=0.1: P=0.088, R=0.205, F1=0.123\n",
      "kernel=linear, gamma=auto, nu=0.2: P=0.039, R=0.765, F1=0.073\n",
      "kernel=linear, gamma=0.001, nu=0.01: P=0.061, R=0.690, F1=0.112\n",
      "kernel=linear, gamma=0.001, nu=0.05: P=0.044, R=0.775, F1=0.083\n",
      "kernel=linear, gamma=0.001, nu=0.1: P=0.088, R=0.205, F1=0.123\n",
      "kernel=linear, gamma=0.001, nu=0.2: P=0.039, R=0.765, F1=0.073\n",
      "kernel=linear, gamma=0.01, nu=0.01: P=0.061, R=0.690, F1=0.112\n",
      "kernel=linear, gamma=0.01, nu=0.05: P=0.044, R=0.775, F1=0.083\n",
      "kernel=linear, gamma=0.01, nu=0.1: P=0.088, R=0.205, F1=0.123\n",
      "kernel=linear, gamma=0.01, nu=0.2: P=0.039, R=0.765, F1=0.073\n",
      "kernel=linear, gamma=0.1, nu=0.01: P=0.061, R=0.690, F1=0.112\n",
      "kernel=linear, gamma=0.1, nu=0.05: P=0.044, R=0.775, F1=0.083\n",
      "kernel=linear, gamma=0.1, nu=0.1: P=0.088, R=0.205, F1=0.123\n",
      "kernel=linear, gamma=0.1, nu=0.2: P=0.039, R=0.765, F1=0.073\n",
      "kernel=linear, gamma=1, nu=0.01: P=0.061, R=0.690, F1=0.112\n",
      "kernel=linear, gamma=1, nu=0.05: P=0.044, R=0.775, F1=0.083\n",
      "kernel=linear, gamma=1, nu=0.1: P=0.088, R=0.205, F1=0.123\n",
      "kernel=linear, gamma=0.01, nu=0.2: P=0.039, R=0.765, F1=0.073\n",
      "kernel=linear, gamma=0.1, nu=0.01: P=0.061, R=0.690, F1=0.112\n",
      "kernel=linear, gamma=0.1, nu=0.05: P=0.044, R=0.775, F1=0.083\n",
      "kernel=linear, gamma=0.1, nu=0.1: P=0.088, R=0.205, F1=0.123\n",
      "kernel=linear, gamma=0.1, nu=0.2: P=0.039, R=0.765, F1=0.073\n",
      "kernel=linear, gamma=1, nu=0.01: P=0.061, R=0.690, F1=0.112\n",
      "kernel=linear, gamma=1, nu=0.05: P=0.044, R=0.775, F1=0.083\n",
      "kernel=linear, gamma=1, nu=0.1: P=0.088, R=0.205, F1=0.123\n",
      "kernel=linear, gamma=1, nu=0.2: P=0.039, R=0.765, F1=0.073\n",
      "kernel=poly, gamma=scale, nu=0.01: P=0.024, R=0.240, F1=0.044\n",
      "kernel=poly, gamma=scale, nu=0.05: P=0.021, R=0.230, F1=0.039\n",
      "kernel=linear, gamma=1, nu=0.2: P=0.039, R=0.765, F1=0.073\n",
      "kernel=poly, gamma=scale, nu=0.01: P=0.024, R=0.240, F1=0.044\n",
      "kernel=poly, gamma=scale, nu=0.05: P=0.021, R=0.230, F1=0.039\n",
      "kernel=poly, gamma=scale, nu=0.1: P=0.000, R=0.000, F1=0.000\n",
      "kernel=poly, gamma=scale, nu=0.1: P=0.000, R=0.000, F1=0.000\n",
      "kernel=poly, gamma=scale, nu=0.2: P=0.010, R=0.090, F1=0.018\n",
      "kernel=poly, gamma=auto, nu=0.01: P=0.024, R=0.240, F1=0.044\n",
      "kernel=poly, gamma=auto, nu=0.05: P=0.021, R=0.230, F1=0.039\n",
      "kernel=poly, gamma=scale, nu=0.2: P=0.010, R=0.090, F1=0.018\n",
      "kernel=poly, gamma=auto, nu=0.01: P=0.024, R=0.240, F1=0.044\n",
      "kernel=poly, gamma=auto, nu=0.05: P=0.021, R=0.230, F1=0.039\n",
      "kernel=poly, gamma=auto, nu=0.1: P=0.002, R=0.020, F1=0.004\n",
      "kernel=poly, gamma=auto, nu=0.1: P=0.002, R=0.020, F1=0.004\n",
      "kernel=poly, gamma=auto, nu=0.2: P=0.010, R=0.090, F1=0.018\n",
      "kernel=poly, gamma=0.001, nu=0.01: P=0.002, R=0.035, F1=0.004\n",
      "kernel=poly, gamma=0.001, nu=0.05: P=0.522, R=0.175, F1=0.262\n",
      "kernel=poly, gamma=0.001, nu=0.1: P=0.032, R=0.015, F1=0.020\n",
      "kernel=poly, gamma=0.001, nu=0.2: P=0.000, R=0.000, F1=0.000\n",
      "kernel=poly, gamma=0.01, nu=0.01: P=0.022, R=0.350, F1=0.041\n",
      "kernel=poly, gamma=0.01, nu=0.05: P=0.008, R=0.140, F1=0.016\n",
      "kernel=poly, gamma=0.01, nu=0.1: P=0.015, R=0.250, F1=0.028\n",
      "kernel=poly, gamma=auto, nu=0.2: P=0.010, R=0.090, F1=0.018\n",
      "kernel=poly, gamma=0.001, nu=0.01: P=0.002, R=0.035, F1=0.004\n",
      "kernel=poly, gamma=0.001, nu=0.05: P=0.522, R=0.175, F1=0.262\n",
      "kernel=poly, gamma=0.001, nu=0.1: P=0.032, R=0.015, F1=0.020\n",
      "kernel=poly, gamma=0.001, nu=0.2: P=0.000, R=0.000, F1=0.000\n",
      "kernel=poly, gamma=0.01, nu=0.01: P=0.022, R=0.350, F1=0.041\n",
      "kernel=poly, gamma=0.01, nu=0.05: P=0.008, R=0.140, F1=0.016\n",
      "kernel=poly, gamma=0.01, nu=0.1: P=0.015, R=0.250, F1=0.028\n",
      "kernel=poly, gamma=0.01, nu=0.2: P=0.000, R=0.005, F1=0.001\n",
      "kernel=poly, gamma=0.1, nu=0.01: P=0.004, R=0.040, F1=0.007\n",
      "kernel=poly, gamma=0.1, nu=0.05: P=0.000, R=0.005, F1=0.001\n",
      "kernel=poly, gamma=0.1, nu=0.1: P=0.000, R=0.000, F1=0.000\n",
      "kernel=poly, gamma=0.01, nu=0.2: P=0.000, R=0.005, F1=0.001\n",
      "kernel=poly, gamma=0.1, nu=0.01: P=0.004, R=0.040, F1=0.007\n",
      "kernel=poly, gamma=0.1, nu=0.05: P=0.000, R=0.005, F1=0.001\n",
      "kernel=poly, gamma=0.1, nu=0.1: P=0.000, R=0.000, F1=0.000\n",
      "kernel=poly, gamma=0.1, nu=0.2: P=0.000, R=0.000, F1=0.000\n",
      "kernel=poly, gamma=0.1, nu=0.2: P=0.000, R=0.000, F1=0.000\n",
      "kernel=poly, gamma=1, nu=0.01: P=0.000, R=0.000, F1=0.000\n",
      "kernel=poly, gamma=1, nu=0.01: P=0.000, R=0.000, F1=0.000\n",
      "kernel=poly, gamma=1, nu=0.05: P=0.000, R=0.000, F1=0.000\n",
      "kernel=poly, gamma=1, nu=0.05: P=0.000, R=0.000, F1=0.000\n",
      "kernel=poly, gamma=1, nu=0.1: P=0.000, R=0.000, F1=0.000\n",
      "kernel=poly, gamma=1, nu=0.1: P=0.000, R=0.000, F1=0.000\n",
      "kernel=poly, gamma=1, nu=0.2: P=0.000, R=0.000, F1=0.000\n",
      "kernel=sigmoid, gamma=scale, nu=0.01: P=0.071, R=0.015, F1=0.025\n",
      "kernel=sigmoid, gamma=scale, nu=0.05: P=0.304, R=0.435, F1=0.358\n",
      "kernel=sigmoid, gamma=scale, nu=0.1: P=0.057, R=0.120, F1=0.077\n",
      "kernel=poly, gamma=1, nu=0.2: P=0.000, R=0.000, F1=0.000\n",
      "kernel=sigmoid, gamma=scale, nu=0.01: P=0.071, R=0.015, F1=0.025\n",
      "kernel=sigmoid, gamma=scale, nu=0.05: P=0.304, R=0.435, F1=0.358\n",
      "kernel=sigmoid, gamma=scale, nu=0.1: P=0.057, R=0.120, F1=0.077\n",
      "kernel=sigmoid, gamma=scale, nu=0.2: P=0.123, R=0.560, F1=0.202\n",
      "kernel=sigmoid, gamma=auto, nu=0.01: P=0.071, R=0.015, F1=0.025\n",
      "kernel=sigmoid, gamma=auto, nu=0.05: P=0.304, R=0.435, F1=0.358\n",
      "kernel=sigmoid, gamma=auto, nu=0.1: P=0.057, R=0.120, F1=0.077\n",
      "kernel=sigmoid, gamma=scale, nu=0.2: P=0.123, R=0.560, F1=0.202\n",
      "kernel=sigmoid, gamma=auto, nu=0.01: P=0.071, R=0.015, F1=0.025\n",
      "kernel=sigmoid, gamma=auto, nu=0.05: P=0.304, R=0.435, F1=0.358\n",
      "kernel=sigmoid, gamma=auto, nu=0.1: P=0.057, R=0.120, F1=0.077\n",
      "kernel=sigmoid, gamma=auto, nu=0.2: P=0.123, R=0.560, F1=0.202\n",
      "kernel=sigmoid, gamma=0.001, nu=0.01: P=0.125, R=0.590, F1=0.206\n",
      "kernel=sigmoid, gamma=0.001, nu=0.05: P=0.139, R=0.940, F1=0.242\n",
      "kernel=sigmoid, gamma=0.001, nu=0.1: P=0.062, R=0.685, F1=0.114\n",
      "kernel=sigmoid, gamma=0.001, nu=0.2: P=0.027, R=0.280, F1=0.050\n",
      "kernel=sigmoid, gamma=0.01, nu=0.01: P=0.699, R=0.475, F1=0.565\n",
      "kernel=sigmoid, gamma=auto, nu=0.2: P=0.123, R=0.560, F1=0.202\n",
      "kernel=sigmoid, gamma=0.001, nu=0.01: P=0.125, R=0.590, F1=0.206\n",
      "kernel=sigmoid, gamma=0.001, nu=0.05: P=0.139, R=0.940, F1=0.242\n",
      "kernel=sigmoid, gamma=0.001, nu=0.1: P=0.062, R=0.685, F1=0.114\n",
      "kernel=sigmoid, gamma=0.001, nu=0.2: P=0.027, R=0.280, F1=0.050\n",
      "kernel=sigmoid, gamma=0.01, nu=0.01: P=0.699, R=0.475, F1=0.565\n",
      "kernel=sigmoid, gamma=0.01, nu=0.05: P=0.399, R=0.665, F1=0.499\n",
      "kernel=sigmoid, gamma=0.01, nu=0.1: P=0.251, R=0.680, F1=0.367\n",
      "kernel=sigmoid, gamma=0.01, nu=0.2: P=0.150, R=0.705, F1=0.248\n",
      "kernel=sigmoid, gamma=0.1, nu=0.01: P=0.180, R=0.045, F1=0.072\n",
      "kernel=sigmoid, gamma=0.01, nu=0.05: P=0.399, R=0.665, F1=0.499\n",
      "kernel=sigmoid, gamma=0.01, nu=0.1: P=0.251, R=0.680, F1=0.367\n",
      "kernel=sigmoid, gamma=0.01, nu=0.2: P=0.150, R=0.705, F1=0.248\n",
      "kernel=sigmoid, gamma=0.1, nu=0.01: P=0.180, R=0.045, F1=0.072\n",
      "kernel=sigmoid, gamma=0.1, nu=0.05: P=0.157, R=0.185, F1=0.170\n",
      "kernel=sigmoid, gamma=0.1, nu=0.1: P=0.091, R=0.200, F1=0.125\n",
      "kernel=sigmoid, gamma=0.1, nu=0.05: P=0.157, R=0.185, F1=0.170\n",
      "kernel=sigmoid, gamma=0.1, nu=0.1: P=0.091, R=0.200, F1=0.125\n",
      "kernel=sigmoid, gamma=0.1, nu=0.2: P=0.132, R=0.610, F1=0.217\n",
      "kernel=sigmoid, gamma=1, nu=0.01: P=0.089, R=0.020, F1=0.033\n",
      "kernel=sigmoid, gamma=1, nu=0.05: P=0.024, R=0.025, F1=0.025\n",
      "kernel=sigmoid, gamma=1, nu=0.1: P=0.017, R=0.035, F1=0.023\n",
      "kernel=sigmoid, gamma=0.1, nu=0.2: P=0.132, R=0.610, F1=0.217\n",
      "kernel=sigmoid, gamma=1, nu=0.01: P=0.089, R=0.020, F1=0.033\n",
      "kernel=sigmoid, gamma=1, nu=0.05: P=0.024, R=0.025, F1=0.025\n",
      "kernel=sigmoid, gamma=1, nu=0.1: P=0.017, R=0.035, F1=0.023\n",
      "kernel=sigmoid, gamma=1, nu=0.2: P=0.068, R=0.290, F1=0.110\n",
      "\n",
      "Best One-Class SVM parameters: {'kernel': 'rbf', 'gamma': 0.001, 'nu': 0.01}\n",
      "Best F1 score: 0.907\n",
      "\n",
      "Equipment Fault Detection Performance:\n",
      "Precision: 0.833\n",
      "Recall: 1.000\n",
      "F1-Score: 0.909\n",
      "\n",
      "Synthetic Data Results:\n",
      "Normal points detected as normal: 761\n",
      "Outliers detected as anomalies: 40\n",
      "kernel=sigmoid, gamma=1, nu=0.2: P=0.068, R=0.290, F1=0.110\n",
      "\n",
      "Best One-Class SVM parameters: {'kernel': 'rbf', 'gamma': 0.001, 'nu': 0.01}\n",
      "Best F1 score: 0.907\n",
      "\n",
      "Equipment Fault Detection Performance:\n",
      "Precision: 0.833\n",
      "Recall: 1.000\n",
      "F1-Score: 0.909\n",
      "\n",
      "Synthetic Data Results:\n",
      "Normal points detected as normal: 761\n",
      "Outliers detected as anomalies: 40\n"
     ]
    }
   ],
   "source": [
    "# 1. ONE-CLASS SVM MODEL DEVELOPMENT AND TUNING\n",
    "print(\" 1. ONE-CLASS SVM MODEL DEVELOPMENT AND TUNING\")\n",
    "print(\"=\" * 48)\n",
    "\n",
    "# Prepare network intrusion data\n",
    "network_features = ['packet_size', 'duration', 'bytes_sent', 'bytes_received',\n",
    " 'packet_count', 'protocol_anomaly_score']\n",
    "X_network = network_df[network_features].values\n",
    "y_network = network_df['is_intrusion'].values\n",
    "\n",
    "# Split into normal training data and test data\n",
    "X_normal = X_network[y_network == 0] # Only normal data for training\n",
    "X_test = X_network # Full dataset for testing\n",
    "y_test = y_network\n",
    "\n",
    "# Standardize features\n",
    "scaler_network = StandardScaler()\n",
    "X_normal_scaled = scaler_network.fit_transform(X_normal)\n",
    "X_test_scaled = scaler_network.transform(X_test)\n",
    "\n",
    "print(f\"Network Data Preparation:\")\n",
    "print(f\"Training samples (normal only): {len(X_normal_scaled)}\")\n",
    "print(f\"Test samples (normal + intrusions): {len(X_test_scaled)}\")\n",
    "\n",
    "# One-Class SVM parameter tuning\n",
    "param_grid = {\n",
    " 'kernel': ['rbf', 'linear', 'poly', 'sigmoid'],\n",
    " 'gamma': ['scale', 'auto', 0.001, 0.01, 0.1, 1],\n",
    " 'nu': [0.01, 0.05, 0.1, 0.2] # Expected fraction of outliers\n",
    "}\n",
    "\n",
    "print(f\"\\nParameter Grid Search:\")\n",
    "best_score = -1\n",
    "best_params = None\n",
    "best_model = None\n",
    "\n",
    "# Manual grid search (since One-Class SVM doesn't work well with standard CV)\n",
    "results = []\n",
    "\n",
    "for kernel in param_grid['kernel']:\n",
    "    for gamma in param_grid['gamma']:\n",
    "        for nu in param_grid['nu']:\n",
    "            try:\n",
    "                # Train One-Class SVM\n",
    "                ocsvm = OneClassSVM(kernel=kernel, gamma=gamma, nu=nu)\n",
    "                ocsvm.fit(X_normal_scaled)\n",
    "\n",
    "                # Predict on test set\n",
    "                predictions = ocsvm.predict(X_test_scaled)\n",
    "                predictions_binary = (predictions == -1).astype(int) # Convert to binary (1 = anomaly)\n",
    "\n",
    "                # Calculate performance metrics\n",
    "                precision = precision_score(y_test, predictions_binary, zero_division=0)\n",
    "                recall = recall_score(y_test, predictions_binary, zero_division=0)\n",
    "                f1 = f1_score(y_test, predictions_binary, zero_division=0)\n",
    "\n",
    "                results.append({\n",
    "                    'kernel': kernel,\n",
    "                    'gamma': gamma,\n",
    "                    'nu': nu,\n",
    "                    'precision': precision,\n",
    "                    'recall': recall,\n",
    "                    'f1': f1\n",
    "                })\n",
    "\n",
    "                if f1 > best_score:\n",
    "                    best_score = f1\n",
    "                    best_params = {'kernel': kernel, 'gamma': gamma, 'nu': nu}\n",
    "                    best_model = ocsvm\n",
    "\n",
    "                print(f\"kernel={kernel}, gamma={gamma}, nu={nu}: P={precision:.3f}, R={recall:.3f}, F1={f1:.3f}\")\n",
    "\n",
    "            except Exception as e:\n",
    "                print(f\"Error with kernel={kernel}, gamma={gamma}, nu={nu}: {str(e)}\")\n",
    "\n",
    "print(f\"\\nBest One-Class SVM parameters: {best_params}\")\n",
    "print(f\"Best F1 score: {best_score:.3f}\")\n",
    "\n",
    "# Handle case where no good model was found\n",
    "if best_model is None:\n",
    "    print(\"No valid model found in grid search. Using default parameters.\")\n",
    "    best_model = OneClassSVM(kernel='rbf', gamma='scale', nu=0.1)\n",
    "    best_model.fit(X_normal_scaled)\n",
    "    best_params = {'kernel': 'rbf', 'gamma': 'scale', 'nu': 0.1}\n",
    "\n",
    "# Apply best model to network data\n",
    "best_predictions = best_model.predict(X_test_scaled)\n",
    "best_predictions_binary = (best_predictions == -1).astype(int)\n",
    "decision_scores = best_model.decision_function(X_test_scaled)\n",
    "\n",
    "network_df['ocsvm_prediction'] = best_predictions_binary\n",
    "network_df['decision_score'] = decision_scores\n",
    "\n",
    "# Equipment fault detection\n",
    "equipment_features = ['temperature', 'pressure', 'vibration', 'flow_rate',\n",
    " 'power_consumption', 'efficiency']\n",
    "X_equipment = equipment_df[equipment_features].values\n",
    "y_equipment = equipment_df['is_fault'].values\n",
    "\n",
    "X_equipment_normal = X_equipment[y_equipment == 0]\n",
    "scaler_equipment = StandardScaler()\n",
    "X_equipment_normal_scaled = scaler_equipment.fit_transform(X_equipment_normal)\n",
    "X_equipment_scaled = scaler_equipment.transform(X_equipment)\n",
    "\n",
    "# Train equipment One-Class SVM with best parameters from network analysis\n",
    "equipment_ocsvm = OneClassSVM(**best_params)\n",
    "equipment_ocsvm.fit(X_equipment_normal_scaled)\n",
    "\n",
    "equipment_predictions = equipment_ocsvm.predict(X_equipment_scaled)\n",
    "equipment_predictions_binary = (equipment_predictions == -1).astype(int)\n",
    "equipment_decision_scores = equipment_ocsvm.decision_function(X_equipment_scaled)\n",
    "\n",
    "equipment_df['ocsvm_prediction'] = equipment_predictions_binary\n",
    "equipment_df['decision_score'] = equipment_decision_scores\n",
    "\n",
    "# Equipment performance\n",
    "equipment_precision = precision_score(y_equipment, equipment_predictions_binary, zero_division=0)\n",
    "equipment_recall = recall_score(y_equipment, equipment_predictions_binary, zero_division=0)\n",
    "equipment_f1 = f1_score(y_equipment, equipment_predictions_binary, zero_division=0)\n",
    "\n",
    "print(f\"\\nEquipment Fault Detection Performance:\")\n",
    "print(f\"Precision: {equipment_precision:.3f}\")\n",
    "print(f\"Recall: {equipment_recall:.3f}\")\n",
    "print(f\"F1-Score: {equipment_f1:.3f}\")\n",
    "\n",
    "# Synthetic 2D data for visualization\n",
    "scaler_synthetic = StandardScaler()\n",
    "X_synthetic_scaled = scaler_synthetic.fit_transform(X_synthetic_with_outliers)\n",
    "X_normal_synthetic = X_synthetic_scaled[y_synthetic == 1]\n",
    "\n",
    "synthetic_ocsvm = OneClassSVM(kernel='rbf', gamma=0.1, nu=0.05)\n",
    "synthetic_ocsvm.fit(X_normal_synthetic)\n",
    "\n",
    "synthetic_predictions = synthetic_ocsvm.predict(X_synthetic_scaled)\n",
    "synthetic_decision_scores = synthetic_ocsvm.decision_function(X_synthetic_scaled)\n",
    "\n",
    "print(f\"\\nSynthetic Data Results:\")\n",
    "print(f\"Normal points detected as normal: {np.sum((y_synthetic == 1) & (synthetic_predictions == 1))}\")\n",
    "print(f\"Outliers detected as anomalies: {np.sum((y_synthetic == -1) & (synthetic_predictions == -1))}\")"
   ]
  },
  {
   "cell_type": "code",
   "execution_count": 15,
   "id": "56983784",
   "metadata": {},
   "outputs": [
    {
     "name": "stdout",
     "output_type": "stream",
     "text": [
      " 2. INTERACTIVE ONE-CLASS SVM VISUALIZATIONS\n",
      "============================================\n"
     ]
    },
    {
     "data": {
      "application/vnd.plotly.v1+json": {
       "config": {
        "plotlyServerURL": "https://plot.ly"
       },
       "data": [
        {
         "contours": {
          "coloring": "lines",
          "end": 0,
          "size": 0.1,
          "start": 0
         },
         "line": {
          "color": "red",
          "width": 3
         },
         "name": "Decision Boundary",
         "showscale": false,
         "type": "contour",
         "x": {
          "bdata": "5w2TDbr9DcAaQcZA7TANwE10+XMgZAzAgKcsp1OXC8Cz2l/ahsoKwOYNkw26/QnAGUHGQO0wCcBMdPlzIGQIwH+nLKdTlwfAstpf2obKBsDlDZMNuv0FwBhBxkDtMAXAS3T5cyBkBMB+pyynU5cDwLHaX9qGygLA5A2TDbr9AcAXQcZA7TABwEp0+XMgZADA+k5ZTqcu/79gtb+0DZX9v8YbJht0+/u/LIKMgdph+r+S6PLnQMj4v/hOWU6nLve/XrW/tA2V9b/EGyYbdPvzvyqCjIHaYfK/kOjy50DI8L/snbKcTl3uv7hqf2kbKuu/hDdMNuj2579QBBkDtcPkvxzR5c+BkOG/0DtlOZ263L9o1f7SNlTWvwDeMNmg28+/MBFkDNQOw7+AEV3+HAipv8Ah1jQWK6o/QFUCWpJXwz8IkWeTLxLQP3D3zfmVeNY/2F00YPze3D8gYk1jsaLhP1SVgJbk1eQ/iMizyRcJ6D+8++b8SjzrP/AuGjB+b+4/ErGmsVjR8D+sSkBL8mryP0bk2eSLBPQ/4H1zfiWe9T96Fw0Yvzf3PxSxprFY0fg/rkpAS/Jq+j9I5NnkiwT8P+J9c34lnv0/fBcNGL83/z+LWNNYrGgAQFgloCV5NQFAJfJs8kUCAkDyvjm/Es8CQL+LBozfmwNAjFjTWKxoBEBZJaAleTUFQCbybPJFAgZA8745vxLPBkDAiwaM35sHQI1Y01isaAhAWiWgJXk1CUAn8mzyRQIKQPS+Ob8SzwpAwYsGjN+bC0COWNNYrGgMQFsloCV5NQ1AKPJs8kUCDkD1vjm/Es8OQMKLBozfmw9ASKxpLFY0EECuEtCSvJoQQBR5NvkiARFAe9+cX4lnEUDiRQPG780RQEisaSxWNBJArhLQkryaEkAVeTb5IgETQHzfnF+JZxNA4kUDxu/NE0BIrGksVjQUQK8S0JK8mhRAFnk2+SIBFUB835xfiWcVQOJFA8bvzRVASaxpLFY0FkCwEtCSvJoWQBZ5NvkiARdAfN+cX4lnF0DjRQPG780XQEqsaSxWNBhAsBLQkryaGEAWeTb5IgEZQH3fnF+JZxlA5EUDxu/NGUBKrGksVjQaQLAS0JK8mhpAF3k2+SIBG0B+35xfiWcbQORFA8bvzRtASqxpLFY0HECxEtCSvJocQBh5NvkiAR1Aft+cX4lnHUA=",
          "dtype": "f8"
         },
         "xaxis": "x",
         "y": {
          "bdata": "qN5adv4uH8BCePQPmMgewNwRjqkxYh7AdqsnQ8v7HcAQRcHcZJUdwKreWnb+Lh3ARHj0D5jIHMDeEY6pMWIcwHirJ0PL+xvAEkXB3GSVG8Cs3lp2/i4bwEZ49A+YyBrA4BGOqTFiGsB6qydDy/sZwBRFwdxklRnArt5adv4uGcBIePQPmMgYwOIRjqkxYhjAfKsnQ8v7F8AWRcHcZJUXwLDeWnb+LhfASnj0D5jIFsDkEY6pMWIWwH6rJ0PL+xXAGEXB3GSVFcCy3lp2/i4VwEx49A+YyBTA5hGOqTFiFMCAqydDy/sTwBpFwdxklRPAtN5adv4uE8BOePQPmMgSwOgRjqkxYhLAgqsnQ8v7EcAcRcHcZJURwLbeWnb+LhHAUHj0D5jIEMDqEY6pMWIQwAhXT4aW9w/APIqCuckqD8BwvbXs/F0OwKTw6B8wkQ3A2CMcU2PEDMAMV0+GlvcLwECKgrnJKgvAdL217PxdCsCo8OgfMJEJwNwjHFNjxAjAEFdPhpb3B8BEioK5ySoHwHi9tez8XQbArPDoHzCRBcDgIxxTY8QEwBRXT4aW9wPASIqCuckqA8B8vbXs/F0CwLDw6B8wkQHA5CMcU2PEAMAwrp4MLe//v5gUBXOTVf6/AHtr2fm7/L9o4dE/YCL7v9BHOKbGiPm/OK6eDC3v97+gFAVzk1X2vwh7a9n5u/S/cOHRP2Ai87/YRzimxojxv4BcPRla3u+/UCkK5iar7L8g9tay83fpv/DCo3/AROa/wI9wTI0R478guXoytLzfv8BSFMxNVtm/YOytZefv0r8ADI/+ARPJv4B+hGNqjLi/ALBRYfPScD+AtK7PyKa6PwAnpDQxIMo/4Hm4AH920z9A4B5n5dzZP1CjwualIeA/gNb1GdlU4z+wCSlNDIjmP+A8XIA/u+k/EHCPs3Lu7D+gUWHz0hDwPzjr+oxsqvE/0ISUJgZE8z9oHi7An930PwC4x1k5d/Y/mFFh89IQ+D8w6/qMbKr5P8iElCYGRPs/YB4uwJ/d/D/4t8dZOXf+P8iosHlpCABAlHV9RjbVAEBgQkoTA6IBQCwPF+DPbgJA+NvjrJw7A0DEqLB5aQgEQJB1fUY21QRAXEJKEwOiBUAoDxfgz24GQPTb46ycOwdA",
          "dtype": "f8"
         },
         "yaxis": "y",
         "z": {
          "bdata": "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",
          "dtype": "f8",
          "shape": "108, 112"
         }
        },
        {
         "hovertemplate": "Normal<br>X: %{x:.2f}<br>Y: %{y:.2f}<extra></extra>",
         "marker": {
          "color": "blue",
          "opacity": 0.7,
          "size": 6
         },
         "mode": "markers",
         "name": "Normal Points",
         "type": "scatter",
         "x": {
          "bdata": "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",
          "dtype": "f8"
         },
         "xaxis": "x",
         "y": {
          "bdata": "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",
          "dtype": "f8"
         },
         "yaxis": "y"
        },
        {
         "hovertemplate": "Outlier<br>X: %{x:.2f}<br>Y: %{y:.2f}<extra></extra>",
         "marker": {
          "color": "red",
          "opacity": 0.8,
          "size": 8,
          "symbol": "x"
         },
         "mode": "markers",
         "name": "True Outliers",
         "type": "scatter",
         "x": {
          "bdata": "hKUsIO/YDkAYn+pJ/bsIQA3b8AnhtQ9Ad1dbCZHO+r9rx9VfH6MFwHda0FdgQgJAjd39yuhW6r9LbOB3bjrmP0it6ZjOcw5AfZAdvGpCAsBo2mDSJJLzvzb4hxWmZO0/DxcCzvbfBEBmkQqQpxEWQIebSo04HBNA1Lk/vr59+T/E3EFiRx31v3eaaaS2lgxA01sFErP68j/7PGMqLTwFwN6qNLq/ohJAfjILgL7u5T/nDZMNuv0FwHaInLMC4xdAj6B3WlP8FUCyZbuRGIgHQNkrI8YNQsG/rQbWVXRG/7+9phPJf4oZQOYz/t372RZAn7GSMTt2AEDCQxoX5XsPQDylHItLM7A/i3WltxPY8L9W4VHVt2EFQB5896ddWPm/n35BE6ku+T8GPFMrSfL1P5b8LN5Dnw1AVIFR0iQ1AMA=",
          "dtype": "f8"
         },
         "xaxis": "x",
         "y": {
          "bdata": "fV/UvPYkBsD/SO4BzYEDwB4sjAqNCxPAQPvVH+Bw/L+6FS/jO7cWwJGO8HeeXwPAwvw+6WQxCsCo3lp2/i4bwC7t6ByHoQrAASLO+Ohv/7++g6tWuKACwGYn6VJ1ZBbAvySXCOoxEcD0R+aFAsYJwEeZJl0WUhrA88Yrg8j/E8Cj1pCHxhf2v4j2vWkyXRTAE5P6NOR9D8APXTGV1/cDwC6mbjVrHQbAcL+6rBMKGcD2Y13x/YURwJoqX7gz3RDA4966LEP4C8BVdxzIl70CwIYmAsF44g7AbAn1Z1TN979TCtwKUhINwBRyuBqpPgHAssOvnhnVCsAtrWKnE90TwK32Jk4oigHAFzGzN6P8FcD77cmJ02QSwA8CDYbdOvW/MeLSZEvj879O4m490XsDwFtNxGRr+xPAgpRvGBXgF8A=",
          "dtype": "f8"
         },
         "yaxis": "y"
        },
        {
         "hovertemplate": "Normal<br>Bytes Sent: %{x:,.0f}<br>Duration: %{y:.1f}s<extra></extra>",
         "marker": {
          "color": "green",
          "opacity": 0.6,
          "size": 4
         },
         "mode": "markers",
         "name": "Normal Connections",
         "type": "scatter",
         "x": {
          "bdata": "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",
          "dtype": "f8"
         },
         "xaxis": "x2",
         "y": {
          "bdata": "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",
          "dtype": "f8"
         },
         "yaxis": "y2"
        },
        {
         "hovertemplate": "%{text}<br>Bytes Sent: %{x:,.0f}<br>Duration: %{y:.1f}s<extra></extra>",
         "marker": {
          "color": "red",
          "opacity": 0.8,
          "size": 6
         },
         "mode": "markers",
         "name": "Intrusions",
         "text": [
          "Port_Scan",
          "Port_Scan",
          "Data_Exfiltration",
          "Malware_C2",
          "Malware_C2",
          "DDoS",
          "DDoS",
          "Malware_C2",
          "Malware_C2",
          "Data_Exfiltration",
          "Data_Exfiltration",
          "Malware_C2",
          "Port_Scan",
          "Port_Scan",
          "DDoS",
          "Data_Exfiltration",
          "Malware_C2",
          "Data_Exfiltration",
          "Data_Exfiltration",
          "Data_Exfiltration",
          "DDoS",
          "Malware_C2",
          "Malware_C2",
          "DDoS",
          "Malware_C2",
          "Data_Exfiltration",
          "Port_Scan",
          "Data_Exfiltration",
          "Port_Scan",
          "Port_Scan",
          "DDoS",
          "DDoS",
          "DDoS",
          "DDoS",
          "DDoS",
          "Data_Exfiltration",
          "Malware_C2",
          "DDoS",
          "Data_Exfiltration",
          "DDoS",
          "DDoS",
          "Malware_C2",
          "Malware_C2",
          "Malware_C2",
          "DDoS",
          "Port_Scan",
          "Port_Scan",
          "DDoS",
          "Port_Scan",
          "Port_Scan",
          "Port_Scan",
          "DDoS",
          "Port_Scan",
          "Data_Exfiltration",
          "DDoS",
          "Malware_C2",
          "Data_Exfiltration",
          "DDoS",
          "Malware_C2",
          "Data_Exfiltration",
          "Data_Exfiltration",
          "DDoS",
          "DDoS",
          "Data_Exfiltration",
          "Data_Exfiltration",
          "Malware_C2",
          "Malware_C2",
          "DDoS",
          "Data_Exfiltration",
          "Malware_C2",
          "DDoS",
          "DDoS",
          "DDoS",
          "Malware_C2",
          "Port_Scan",
          "Port_Scan",
          "Port_Scan",
          "Malware_C2",
          "DDoS",
          "Port_Scan",
          "DDoS",
          "Port_Scan",
          "Malware_C2",
          "Data_Exfiltration",
          "DDoS",
          "DDoS",
          "Data_Exfiltration",
          "Malware_C2",
          "DDoS",
          "Port_Scan",
          "Port_Scan",
          "Port_Scan",
          "DDoS",
          "Data_Exfiltration",
          "Data_Exfiltration",
          "Malware_C2",
          "Data_Exfiltration",
          "Data_Exfiltration",
          "Data_Exfiltration",
          "Malware_C2",
          "Port_Scan",
          "Data_Exfiltration",
          "Data_Exfiltration",
          "Malware_C2",
          "Port_Scan",
          "Data_Exfiltration",
          "Port_Scan",
          "Port_Scan",
          "Port_Scan",
          "Malware_C2",
          "Malware_C2",
          "Port_Scan",
          "DDoS",
          "Port_Scan",
          "Port_Scan",
          "DDoS",
          "Port_Scan",
          "Data_Exfiltration",
          "Port_Scan",
          "Malware_C2",
          "DDoS",
          "Data_Exfiltration",
          "Port_Scan",
          "Port_Scan",
          "Malware_C2",
          "Port_Scan",
          "Data_Exfiltration",
          "Port_Scan",
          "Malware_C2",
          "Data_Exfiltration",
          "DDoS",
          "DDoS",
          "Malware_C2",
          "Data_Exfiltration",
          "DDoS",
          "Data_Exfiltration",
          "DDoS",
          "DDoS",
          "DDoS",
          "Port_Scan",
          "Port_Scan",
          "Malware_C2",
          "Port_Scan",
          "DDoS",
          "Port_Scan",
          "DDoS",
          "DDoS",
          "Port_Scan",
          "Malware_C2",
          "DDoS",
          "DDoS",
          "Malware_C2",
          "Data_Exfiltration",
          "DDoS",
          "Malware_C2",
          "Data_Exfiltration",
          "DDoS",
          "DDoS",
          "DDoS",
          "Port_Scan",
          "Port_Scan",
          "Data_Exfiltration",
          "Malware_C2",
          "Port_Scan",
          "Malware_C2",
          "Port_Scan",
          "DDoS",
          "Port_Scan",
          "DDoS",
          "Data_Exfiltration",
          "Data_Exfiltration",
          "Malware_C2",
          "DDoS",
          "Malware_C2",
          "Port_Scan",
          "Data_Exfiltration",
          "Port_Scan",
          "Malware_C2",
          "Malware_C2",
          "Data_Exfiltration",
          "DDoS",
          "Malware_C2",
          "Data_Exfiltration",
          "Port_Scan",
          "Port_Scan",
          "Port_Scan",
          "Malware_C2",
          "Data_Exfiltration",
          "DDoS",
          "Port_Scan",
          "Port_Scan",
          "Malware_C2",
          "Port_Scan",
          "DDoS",
          "Data_Exfiltration",
          "DDoS",
          "Port_Scan",
          "Malware_C2",
          "Port_Scan",
          "DDoS"
         ],
         "type": "scatter",
         "x": {
          "bdata": "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",
          "dtype": "f8"
         },
         "xaxis": "x2",
         "y": {
          "bdata": "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",
          "dtype": "f8"
         },
         "yaxis": "y2"
        },
        {
         "colorscale": [
          [
           0,
           "#440154"
          ],
          [
           0.1111111111111111,
           "#482878"
          ],
          [
           0.2222222222222222,
           "#3e4989"
          ],
          [
           0.3333333333333333,
           "#31688e"
          ],
          [
           0.4444444444444444,
           "#26828e"
          ],
          [
           0.5555555555555556,
           "#1f9e89"
          ],
          [
           0.6666666666666666,
           "#35b779"
          ],
          [
           0.7777777777777778,
           "#6ece58"
          ],
          [
           0.8888888888888888,
           "#b5de2b"
          ],
          [
           1,
           "#fde725"
          ]
         ],
         "hovertemplate": "Gamma: %{x}<br>Nu: %{y}<br>F1-Score: %{z:.3f}<extra></extra>",
         "showscale": true,
         "type": "heatmap",
         "x": [
          0.001,
          0.01,
          0.1,
          1,
          "auto",
          "scale"
         ],
         "xaxis": "x3",
         "y": {
          "bdata": "exSuR+F6hD+amZmZmZmpP5qZmZmZmbk/mpmZmZmZyT8=",
          "dtype": "f8"
         },
         "yaxis": "y3",
         "z": {
          "bdata": "FvZ2bOoC7T9Z0nz41uTsPx2T9RyT9ew/ERERERER4T/HVDhx/+LrP8dUOHH/4us/hR+mCj9M5T9VVVVVVVXlP+ti9ZopOuU/HZFiqL8c4T/0Ke1BmWflP/Qp7UGZZ+U/9XxGXCAF4D+kAJECRArgP/V8RlwgBeA/cUfcEXfE3T+qbCzVxfXfP6psLNXF9d8/VVVVVVVV1T/jWA84yVDVP1geb2RzXtU/UcV4ejBD1T+1srVj41nVP7WytWPjWdU/",
          "dtype": "f8",
          "shape": "4, 6"
         }
        },
        {
         "hovertemplate": "Overheating<br>Temperature: %{x:.1f}°C<br>Vibration: %{y:.1f} mm/s<extra></extra>",
         "marker": {
          "color": "red",
          "opacity": 0.8,
          "size": 8
         },
         "mode": "markers",
         "name": "Overheating",
         "type": "scatter",
         "x": {
          "bdata": "u9ycHFIXWEDXOxBfbydYQIxqk4tdI1pAIfy3cQN3WUBw2/UI+d9XQLNpTUEsg1lA4ddnlCbZWEBnFhf0l5JYQJSUsyw9u1RAAZ6G0RKnV0AXGxS3cylXQJ7pg+4w3FtAB/pesmJpWUAkdNnCqypZQMK06EPUblpA8Zc+PLzEWUC03AZJKptaQI+credSIFxADte5GeANV0Dj9AFtgXJYQOkbdtVnhFlAUyOdh43jVUAbQXCZXk1XQD1rCscoLFhAscQpktQyWECC1yGPTcpXQC7xR+s6zFxA4siAwRiUUkCJdfErCeRYQDp+qpVnCllA3TZ+XmuYWEA6k5Sg8rxSQAGOhXWZ8VlAYK9e1Wd0WUDRNBkBhbtTQPbC07P931dALLkNI70YVkABaDHp4NxaQIMt1clDpFlASU2o4HncVEBcybwxNfBWQO1un8hJAFdAdXPh1Q+lWUDxwtfMzWlWQBQWmoFqpltA4hp55q91WUA3sFNYKkRZQA==",
          "dtype": "f8"
         },
         "xaxis": "x4",
         "y": {
          "bdata": "NBA6o0IY8z+prTjT3BQBQJSPrK5q3gBAVUgqSLJXDkB+d5Jf2esEQFuXZxvIfP8/wXOsTtbf+z9zfc7Ug10QQPeW9ehpSPk/VyWXCi2aA0A3UOZZCOf4PzmefkIfvQZAGoWOiMCeEkAKuiwsH9gMQOTlKViPxfc/AZDgI5SM/D9JdWQR3XH9P0FPPcdMiQFAbTDAW7MWDEDVxl0HInIJQBdhOAhg1Ps/Rpdfho+mAEApdke6H/4HQIKMZq7rBAVAPlTxTCIT9T8WzpIHHfwBQEWbohoOGQtACsLFTfswC0C5vqlz+lkDQIiaY0xPRwpARCjPz7dk+j/p99H8NtEEQKorCw5fZwxAE8e/DjJU/T+KOxNVA9v9P/WoHY7GtwBAHhul+NxvBUAmb9irWKwBQObwzIceQ+8/gVOO+W2Q+z//AiBLXJECQP/Jx+UQkQdAIQNmLNba/z8AVURxS1MCQHdFL/h32ApAWYSNSkwVA0AMLZV7S4AIQA==",
          "dtype": "f8"
         },
         "yaxis": "y4"
        },
        {
         "hovertemplate": "Bearing_Wear<br>Temperature: %{x:.1f}°C<br>Vibration: %{y:.1f} mm/s<extra></extra>",
         "marker": {
          "color": "orange",
          "opacity": 0.8,
          "size": 8
         },
         "mode": "markers",
         "name": "Bearing_Wear",
         "type": "scatter",
         "x": {
          "bdata": "XRUxNZ+GVECXMBTs8hFUQDm2vx9mtlVAMtrYBN68VkBJU6UxnsZUQNNK9H0koFJALG34ed+pUUALVXM4syJWQMBpaLcVWFZAKKMF3+mJU0C8bIIv3ohUQEw2pgs8pVRAUb7AhGboVUAw1RtSSiZVQPeIaDpk7VJAWooxQzQoUUA+FRGWFfpTQN8tV3WDAFhA3UbnnF7rU0Bv9as4TR5SQCR0hvtwilNASN7n1MS4UEDKCqcjHRlSQJo3bkCX/1NAWD0JB5osUUCU6JgFo/pTQEkkGaGzeFFAPGhxCAehVUAzP3X3VhdTQFIyVo3LOVRA7jJHKjtNVUD2DoOrRGFVQArOmztHOVNA0i/bGYtDVkBgh+ydTjFUQAh4poM4nVRANswShhPuVEDV32sGETtWQAOzXtzoylJA",
          "dtype": "f8"
         },
         "xaxis": "x4",
         "y": {
          "bdata": "5o0wiHgjI0D46TzKjDsOQN1PbA3KUB5Al4BS0LBeIkDzOpr42K0dQKqYtUuH6RVA/A34qaDDJUAMN6AbNaIgQFypHsEDKx1AEPivtBu4GUDK9e5AVFoUQH8UJc5nOSFAFeNM1NedIUCMep4wuEIcQEe/7RKHDiZAoNf8fpCxFUBHwFeAEwMjQLZE1B/pjB9AgG6hyzW9EECsypeEh03+P0tXvoJGgyFASMDN7WQ/HkCEZJWUX5QfQJ4rBDEo/xJAAII4lRobJkAOEYPlv5glQLsyJ+YJax5A6jpHQOg+JUCEsBBtC9weQEg+eb4L6iFAK50bqj5/E0B6Xv0TphseQLItwVh87SRAwwHTq5/4JEAj0KjSN+ggQJiUbLZF3hRA8Plz7QHuI0AgG7l0Cl0dQK9F2rr4iSNA",
          "dtype": "f8"
         },
         "yaxis": "y4"
        },
        {
         "hovertemplate": "Flow_Blockage<br>Temperature: %{x:.1f}°C<br>Vibration: %{y:.1f} mm/s<extra></extra>",
         "marker": {
          "color": "purple",
          "opacity": 0.8,
          "size": 8
         },
         "mode": "markers",
         "name": "Flow_Blockage",
         "type": "scatter",
         "x": {
          "bdata": "VpZ5loXaVEBOwU8bJFJTQAK6gc4ykVJAXoIohMKhU0BGEEVCdqtTQEdu1+HZAFRA+X/1KCruU0ALnSttLqFUQPDsVBHz+1FADNErm8IsU0ArxflMGAlUQCtoNdmJ8lNAgOmS68cIVkC8sC8YGaJSQO6+ALfpv1RAhGhYCLCHU0D4z4Dcyt5RQC3DFBNqf1NAgHrJ3QKgUkDXla3wh11UQLXg7HkrxlFAmSoAAtu4UkD4UZ+qRsZSQJtl2vSvjVRA6865bUBiVEBC7zkW6uhSQIbw39leS1JAzfd495T6U0AXcVBi83xUQPqZNVn3nFFABhf+4K+LUkANldjhI65TQJtkoS2qyFJANwoLzM93VkBFXQMEQv5UQATDjyMJQVRAQWZy1cJWUUBYMyE4h5pTQCyrOniA31NAzSTFg+onVEDitLU6NPpQQJliMupeXFJANesImh/KUUC8i2+un69UQPObJEduX1VAyE0Rw6UJUkAs+GuP6G9TQA==",
          "dtype": "f8"
         },
         "xaxis": "x4",
         "y": {
          "bdata": "euVqtje8AkC2fy3nIVMFQCVBTFJF7ABAuFQT38q29z8mPIEDTlYBQDVtRHw7GAFAM/VbC4H8AUC/kcw7KxH4P/bb34duQQJAMzCb0jhe/z8BqJUdNx//Pxuv6ivFGQNAYfZblk5E/j/SPXMcxlUDQKNGwGh6AP4/5yt87V/VBUCtTukwqm4AQJIQoVmFuvs/ylEX4dp5+j+JgHZaYNkAQJHB9ksjTQFAxKi8nwgQ/D8GR3TIhSP7P84crvHNlQJAOp4tybMLAEDH3xfo76b/P4YZauufYgRA5zZvD4Js/z/M5+MuJQICQAGbb9iV+wBAE2N3jh5g/T+eOntWPBj3P5SkzJrc+v4/plXaeUks4z/ikCONXK7/P/KujH8Js/I/JRVk3wwCAUCeE59f2jn7P1Hw3uhWAwVAeP5iYTsp/z81nWm4G6AEQD+gublAIABAYluajBNZ7D/ej0g+dbj3P9vnZGs0LwNASI/S5g5VAkBqWwb7RIgGQA==",
          "dtype": "f8"
         },
         "yaxis": "y4"
        },
        {
         "hovertemplate": "Pressure_Leak<br>Temperature: %{x:.1f}°C<br>Vibration: %{y:.1f} mm/s<extra></extra>",
         "marker": {
          "color": "brown",
          "opacity": 0.8,
          "size": 8
         },
         "mode": "markers",
         "name": "Pressure_Leak",
         "type": "scatter",
         "x": {
          "bdata": "IgwZIlw3VEB+xeMTVQ1QQItuO2JdoFFAkPkg03hUU0A4s2jAM/FTQNpYnAySuVJA/Z7eTQWIVEBQKq5OrtdUQObvOKvXwlNAynKr0OmFUEB/0dGaryZRQGaR0OvIYFJAyr8qzpQZU0CGl70otZVTQDtAZu928FJAFi67VhVfVkCNgpdnVUNSQGQT6O86UFJA3utLgPOoU0CcHEl7p/NSQC0ILjYED1NAPpo/tFCDUkCa/VLQ3+BQQNYrI/+Xu1VAGxmY4LoeUkCkUI1l4P9UQByWLEOBEFRAIaAIJ9bdU0DwJ5ILRvpRQBl6oKgZR1JAEgnasa/aUkBX54UC2d9SQOFR1K/NpFNArYpaf/SAUkAuG0jfLzBSQEPr60w27FFAnsuhfhRVUUAXGSThmLhTQHN3fCbdF1NAH/qBrkXvUUAXYEnL8/5SQKAZSTPSXlFA",
          "dtype": "f8"
         },
         "xaxis": "x4",
         "y": {
          "bdata": "xGHjtBrnCED3GZRm6IrwP+GftVVZJgxAn2N8ds4hC0DOhK098rIOQLaYISt0CQ5AKHxnOqztBkBt8fkhXQL0P/7Lr0x4VAZA06UQW+DQCUDSwFjpo2oPQA+3uPbmdgBAs25VHPXLEEDhDJG4V7EIQCAfEjq/tw1ANE8DgsmrCUDHzK371OQDQI496DLlUQVA1/G5kqbxEEA6P95cS08HQCcc/vrrJ/0/tnNE9/So+j+w6js6IvYSQFnCfpTPkwlAu6GthKjABUBLU0OlfhIGQLs3LBgBOQRAun8LLXRLA0DQwtytjzYKQHmaKoqBcRBAnquopWKE+T8Q9IxgpvH4P+Ittxeo6Pk/lnx4lRRNBEBnArKXNm8LQJq1Qkt2gRNASRc8d4tzB0ARaVxxrEH8PwmOy9Pzwvs/8OUQRjS5BEDOI90PC/gNQIw2tgo6WBFA",
          "dtype": "f8"
         },
         "yaxis": "y4"
        },
        {
         "hovertemplate": "Normal<br>Temperature: %{x:.1f}°C<br>Vibration: %{y:.1f} mm/s<extra></extra>",
         "marker": {
          "color": "green",
          "opacity": 0.5,
          "size": 4
         },
         "mode": "markers",
         "name": "Normal Operation",
         "type": "scatter",
         "x": {
          "bdata": "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",
          "dtype": "f8"
         },
         "xaxis": "x4",
         "y": {
          "bdata": "RzMD+qc7BEBLxHhF+6cEQJu/4kvtSgRAZG1RB0E6AkCIyo+vMRjzP6FCxu6k8f4/0Dy9IXVaAUCJ1ijlC2wAQLII50HWlfc/mLqj2M999D+Pe/sMxR/0P5wKC0CQye4/fsl0APluA0Cbb5Grn0v7P44sS8PA3v4/VT07XQMH+j/uBvCi7Fn8P5hyFVhCp/Q/TvXteiGY+z938tiEeHT0PwAAaGmuxQJASpHbIrghAECS04l32MMCQBQ89FsBzv4/3iAn7+wk6j9rowpUhTQFQKOXQtUcawJAWSBqG/mKAkAiw77Q0aEDQE4Tq9R7oAJARuy6ei7jAEA327bBdegJQGwVdVFCPfM/CRjog9Ru/z/J0h/GRqwGQHVOxBni9AdAPHmuBHa43j/KR5IgSgTuP+58ZoSE1AJASQOQ6vvF+D8fkEQ9SrD5P6uoqyK2tgBAaIXSxeXJAEAuQ+P/sDP9P6YptHjrUvU/6TS1f6Q9+T+N2iRJXQYCQF2KpHXY1vo/oG6xLqIp+T8Nr9glhDj8PwQZTcQB9QJA0Fu8QA8x/T8vsedXcusDQPqjEJ3uU/s/Sx99kfLoAECBYed0+bT4Pwq3qbh/i/Q/lAZxo5DY8D9MQ8u6BoTqP2CbL3T7E+Y/zzQBnV1d/j/B+GjqhHMAQLqpFpjuH/w/7pZiLEsm/z82YEVcMTIBQBxYKbz5XARA0HD/DZQBBEDaG6Cu0DEFQKe8X5cAYgBAgh94FYcx+T9xlsjfb5sDQOUnuO0ShQVAtneVTGtF/z8AiTKLeEQEQO4mPy97P/s/3i1ZtPEn8j9/mdjy2tb7P1vizZEpBAJAjX5F/fh1+D9GDeiGlR4EQAuiRqK6zgFA0i50nVgj/j+mpGBdAyD9P9E0kaLm8P4/ULkoK0+Q8z/jf8QW75UFQKB9dGMfIgVAIJOU1zQF9T8KqsDizDT3P8OYmQ2NQ/w/stC+4nq1BkC4tzFtpkbwP9NQh4QgqQdADP+1YQbA8D8it/1aihYFQBxrafr3ugBA+/AAUuBX+T9hMLRHCOf6P8/Y9Y8MzP4/0DBxycX7BEBxXHQ60Ef7P0VfNbgB2P8/m/EHzG2NB0COS6AzFPfuP5oZOnTeOeM/6DXJ4LohA0DwcGib92sAQLrsTlNPlQRAvvNtK1o/+D9QAdrvZdAAQOBM6ODbTgJAmDB6tWE++j/EtvYua1v8P2wUO3QHFv0/MVaExVpTBEBbIb/+bcgAQC3ebd+YBf0/Q2nWALq6BUCtvAx2wev2PxQmgt8U7gBAo6bA1cms+D8gCoSOEiP5P80ScIwsrv0/VKiGGTrLBUCs2EdSv98EQFjzLyRIE/o/4q2gUTthAECiuRaTXEv0P/TANubtPvI/eGwlya4qBECT/sNT3ocBQBx1spT4awNAsfuZVf7r/z+jCmJwQaUBQCJrY1r8hQNAOtCSjH/d8T/p/MbrAaj/Pyqiu2JQQABAOMLhQgVB8T+SWCaBkCsIQDK8w8yPQfk/v9Pl0zlp+z/dZmd1CC0BQC8uk4ro+wFAfiE0vz8+A0BtZmxzgEsBQOEfOHqj9v4/5uV67ateAkCkJaKs4aIHQHoreyXjmvk/Ht3bPjK6A0CGniJYtvX9P1OBBcUnPQNA6DzOeXCj9j/Y3/bd+hQHQEmO+g3u9Pg/LkaV/4f/9j/+u63ohAT4P+wpa9/v3wZAhh6ZrAK+AEBJWiz+Fc4DQOsf7dyFmv8/DmFHCk6X/T8CSo/s6NzzP0RmRSHWTwdAFLOaom+iAUAeXz2ZFDv7Pw2Qx/1DRPk/5oIVrdld9T8ryuvJADkBQOhpxeEKSQdAaYIn79TAAkCay/5IWHv5P/qw2wTAcARAKIO6NXDN/z8u1apmdCj6P1hgh2AlBPc/nikK1SFT9T/Og+XHJ40BQCm3QJjzpwNAJip6cfjwAUDWYrLq4Mv0P/TlS9os9ANAdk+JCSPR7j9Mnu3e2HYDQMfXiZQ88/k/uZuLh/nn+z/E1xcg8HYDQMOuFnydlgBApXJeAFbG+z90Sh8/HOkAQBYUn6KHS/I/8oNhG8yJBEBqdG1Nd3sBQO4HtEYslAJAFkjRQF3EAEDwaW5IXO77P0AsP8knPwNAgJE4vilaAUBOSquCxLQCQMk91snN1vo/WoN22H8CAEBcSKScruP5P5iaQbdGyAVAhM3bxTi78D86l1ONlPoDQNKlrCp0VwZAP9oCOs8PAECbftfd5nX4P/xEbyhvJglAOfp17AuRB0DK/ARGB/z2P+gLM4zApOs/K+IZ5ZtT/T++Jzyg29X+P0SDPgQ1oQBAG//2b7JKAkDhNpEj/tcDQOVnIBoO+gJA+AcNYNsCAkDsG8uJB+X4PwKCj30s7f0/ivPFTkseBEBAvmR2rNv3P1mCnNXn4P8/eFVXDl6zAEAvVCXyNsn6P052L0RO4PI/vpKfu3nE9j9xobjPsTEAQFTpiYN8mQVAAphAKhKRBEBWtU2G/7T3P+ZMMb2+RO4/kbPosvGsAUCQJLpBLc0BQCdEU8HNXAJA9C97d1ISBEA9bEdrh0kAQOKgYjUhJ/w/AqC56Pvb8z+Mpay3GPwGQBBRPTMenvY/40IbQsArBEA0L63pgV0AQGhG6q4vA/4/OMyOTrAyAUCs15tiyRwCQF8Yyd6kSAVAclssbs2u/j+yXldlXTj8P5JPQILzlvc/UGv1J2sw9j9UQNLNA1L2P9INV6RuCfc/rpCU4UHi8T+1Mh/I8m8AQFAXfTWImgNAS1QYw5qwAUDRfyA1T28JQPNvvL5w8vg/FA6zxNmR/T8GkDCH7goEQB6/BYiTh/s/o3ZEbF4//z8OU5PHwfADQBpLnLS2A/Y/coPKpK8t+j9PiDD8K6AEQBcSx9zRbPk/brrYquVmAkCKzK8bwpjrP+g7yY+ji/Q/usJUpIx49T9rl75jXwECQFBJxZtcYARA5FQIaLEl9z+CEJRMKtgDQP+LNvPhIQJAVGANe2H/+j903ffdDVv0PzS7RMR0egBAEZH0kAjl+T+Sp8673Xb4P7pmO5fwf/o/W8jsrWhtAUAiytKiWtv3P1e27Kfprf0/aAo2uVJc9D9mIcDWClQEQGSm0xWKkvk/2Hb8xSSG7z9boHMKCI36P2vBbDvw7gBArKlreb6HAEA8wrABjmQEQHOBIMo1Uf4/scUNsFLH+D9na4OgT1EBQD3HvLFKBwVAQSgP707n/j99A9IGLigDQPBD7HysBAFA7elr+6OgAEDbaXdkBLQEQJepa0/e5gNAzLselRP3BECI41hjpGIAQGK9j1TaWQBAAE0qCz+m+z/MwdXP+K36P9AGsL2si/s/dV+WJ8h0AkBIvdpq8DICQLulay2Q9fs//OgnyEHuA0A86ADWZjf3P5MCyHhAGvw/AmVrBMFkAUAUQeTbt+4DQCnBNyVXmfk/8BWerWri9T+MAluyb14IQEucKDT7qfw/1S/qsq3BBkDuKaZjqaj+P4ZnJIOi2/4/vo9iRq0J6T+sx2PnDx78P6vOi4+P4gBATvdg1p9UBEAqDrEuk8ACQA5gmWwpr/s/4tF1+1V/AkDm5/bIeLngPwwklFhs+wBABRfz8qns+z8YgclzSSwBQK9yDK3LJABAgSbKDRx9AUBkH1cSSNwAQDDgmsfGwwZAo9bIevEkAUBoQv11IuYEQDS/KZ8FTv0/UA+TMBbIAEB/+r77Z5v8P/zT1TWwHQBABH1AEGK4AECZtNrVThgBQPdWHL609fo/UIauGnOh/D8HBfUdMdQAQE/YvHVzmPQ/xyLLy8dyAECEBU9J14AAQEoz5QLC2wJAAX8Xza4TAkCbDvHriyb+PwLdRAsuCgZApKfn3cBi/D+GHclGEr70P9CCb6ZsOwFAJPWJ2PLgAUBmwpIEgY8CQGir9xjYUQBAw9LCkFSD/T9yB3TPl+oAQIm6ApR7XvA/jo52yQxg/T/dRHhcrNwBQGaNRCxr4wFAVijY6XRDA0AgnK8C4Vv5PywvF9Jmq/w/b9jRcuzI/j8e2ia38DIAQH9J32NQuAVAn5hP4AwE+T/KYLFYLNMHQFAjz3/0W/s/FNEatUAuBkAYdDhLgU0DQHNC1zyB2/o/HsdoIRLHB0CIaTnt4JnAP+xyJGDmIwBA6iZSQsVr/D8Ut12wB3P7PySOZ1sBPQdA+JlSntPUA0DvJifjWs37P8lCc3MoPgJABGqd3rsu+z/PWfgcGU0BQK2UNNxIc/g/5NkG9nUV5j8AMVXAUM/7P5Yakt0S2vg/dg1jZ8YgBUDWYhxzLQ0FQPeXq729ZwJANkqPC3fOAUDMfnDC6xMAQGJ1nNbip/8/wiRr3s59AkCJjE3wN/P9P1wkDNGNsgRAKOHaOy58B0D71SuZ6GUCQO4QZUk71fU/ybu1VjHgAEA6AtjPAGP1Px9Gq1mpBANAkpRfrSrY/T/g2u/EIcYAQPV5G0kuYgJAEUFLFaQl/j/YGqt0l3v9P+YdiE6TigFA4s+YDgBc8T+FB5Z6s/UBQGf1TN9gEwVAUIKdISEh/z/nx0ntM3T9P3+7CZSVqvY/qnq4U1gsA0CQ3FOhXVIIQMoG/88LyQFAvs0OLVJZ+j84P2BplCQCQBj16YevGABAyKO9qlS+B0AD+h10IEkFQE6tb23ffwNAzlBj7LNgAkCFsqMIhFv8PxTTMAdwaQJAFs20Fog++D9iFwVzZGr6P19uWHm9HPM/1O2kE7efBUCjdH9y4mYAQHtTep2WTAFAglQHLI8X+z8E3Eb2BCABQPnnWohgUvk/RsBYKKmiBUCXnsMax7EAQDVrTxsUYPg/Iq3BTZl8BEC7SMDjx2X5P+Ow9kFoM/s/AflAYAkpAUBlGbJHjq0CQG5ot70rl/0/Fc/Nlb6A8T/mLx8F90cFQPLiKNAC1PI/PU7phTVgA0Co1nPOgCoJQN6Sf3sdsQBAqCkPDhP/1T+ERwMSBlUAQFjPuzTyAAFAnkeneeA2AUCRHzirCNIAQMR7xi4zBv8/AeoQXcHz/z9Zz8ADtSH+P6gmRPThsQJAITDINk5V/D/3rcrEcEABQAQaPq8W/vg/cNOR6i5n/j91ovDAcFgCQE7LPr1YwgNAWAjg3Jds9D+kXClovIoBQMJ1MRWaegFAaNCu4GEGA0AWuX1/nBv6P/MaNRR2w/0/jNGD61uyA0AMdxrq5mX+P8ziy8sergJARVlxxjqcA0BpF1AODmn/PwXuGsug6PU/+MYnwoe8+z9xW5xCeb/8Pw3LRK5VhAFAiJ0dfoQt7T8QwJoaxZ8FQM3dsFta7/k/GTs0xWdNAEAhe4dm06EDQCAy2pMluABAw+cAkNulAEDokipAjn/6PyEnvWkZvwFAkhrVM6kXBkDYUzFQzLj+P5SPKPEkMvs/iJeygo2fBEBmEk6TaiH0P+RqoJ9H+AJAJdcZCrAVAUDuRknhsobtP2Rh2DJefPM/ouV6hm3NA0DcQ8KwaKf4PzA2HxEeEvY/2E+oqyF69T8pVV7HIGkDQNSnK6TGUPw/dN9vwfK89T+7goOgStUCQF+7g+4wVAJAog+ByMUfAkACK7VAE/j4P7BKSh1+yQFANgiGVbd98j98os/zta/3P9zfSUiu0gBAXRkv3C1t/T/cl7HxkZwHQETQOtG4rPo/lqkXkaSl/T8n3LrxOJ39P2uB6d1cJfY/Wxu4gf7dAEDimSFCbn37P+6esJGKgwFAmwxmyO2v/j/K6SX99UwCQPqkqau7GANAUg+Udfis8D98FrMHjYnsP4qTMJFmA/c/q2dFjpJV/T8Pe4yB7csAQD5yTpd/sgpAVAhcf2Yy/j/S4F3MDVT9Pwx/DlbNv/Q/4ypGa0QF+T+elUXIK5gGQEQL21qiTgFA+gNx/j2WAEC/3WHPl63+P5A5ZXyJ4P0/dg9hf5jPBEBQVtwv0MUAQHI967eejvo/qVdyPzg5/D9I78+6RBf7Pw3BQjq6TgJAiEmCxwtI8T8i+kI5Q4X0Pw8Ggx/b4vU/zg4t3G73AUDe/UpiH40EQKF7ziCBEv0/xnNxtjEnBEDkM1XG4m0FQDqbiQ9+hvY/KNjbTkxX8z8oHUXDMoX5PycNNfqgoAJAgr9iYNLz+T+xah8sV8EGQEElKDGTawRAnJC/ps4Y+z+YSQ3Z0i4BQHzs+dA5vvQ/X8UpyBha/j+mvNKjveMBQDpFnaxzGPM/rCDhEjSoBkBdIxbpvjgBQLF6Ha0DawBApCn6bRkuAUB05MFLAXAFQGlfaBXwFf4/qR+YW5RxBECKeJ9tYk0CQNQFPUG+jPw/3ImAOlsl+z/sPHd6TKT3PwEUiEjnHP0//oWp6W6xB0AMAlxJHNP9P/gtXXQULAFAsjW4ZmHL7z9AAtGVUF4FQHvXLxodcvs/1hHn5UBN/D/27bB2EIX9P8kvPbTiyQNAPgNbtU7ZBECAp5M3j/38P8YS+dqB7/Y/nv0SuLgIAUB63MaY6hAFQM/dw8g1v/4/MKGYDNTiA0AY4b7xq/n2P3xhuyC76P4/fqYzvHRR+j8sIOZ891YFQKfZNiybh/o/myBW+LMn9z/KIfiACZwJQM8dFGOnYgJAdr8GUTxBAkA3oGmtoWf0P4AObvAxJ+s/92rprUTX/D8iC7/PVLgDQNYAH1zZrvo/u54NuOkJA0BWHf7w0vX7PyZ1UrKXYQNA6vahF50CAEAb43CYbyT8P5qVg5ll7QJAZtEZArR59j94GUPPqnH2Pwsii+7BSwNAFDns1wZE/T8YHSuTwGAAQI7qVD7eNvs/I81j6/XyAUD57LIT+Ov9P7SxSQwG8QZArAcJcgk+AUAvXET+h6ACQLKJKqkwu/8/XFOTirZQBEBam0FyRoABQNjyHF7yMwBAogPC0PMh+z8FIpEZ3uH+P7COi6GMC/A/QwPwd/0GAEAZC/Jrj28FQMoxumj92ANABPZuunaWBUD0h69SzxP5P4j8T7FVkgJALsW4LgAkAUAeHS6SnYv6Pz3EEj9tswBAuoWD86nlA0BF+hNXasj+P2qF8Z4KBvU/PRYsSCHr8T/gI1jVTrICQKVIq4LqB/w/htvYpx6Q9T/aEUYPxsr7P/ho0Og+MfU/3GxfFGj69j/K1ci+a48BQBy9gdAWRQBAARyavkBuAEBA+ZyMlub7P6Aw5xGRRwRALxhY4CigA0CsbTgzaBoFQERW7XguLwVAPIoWSCEz/T8C2HFa7Qr3P3ZvLYiX0wBAt1Gkh8Z9+j8Rd8jZ6IQDQJBxlxLqFvo/4PBIBeNO/D8tsMIq7Tb5PypwJa1xigJAL2Tysfz18z9OMYWZTy8EQB8k8c/WxgNAlCEHiYDx8z/lfnyVGEz8P0S5JEVAZgRATO06oUFg7j/zKPj3JNICQA4YQtzeygNAftMjhrkM+j8WlFjCiKn8P8AwqFP2OwRAA/ZJAG2X/j/y87t6ZZ8GQDFXzK3ABP0/4BMmEOk89j9M9NLJG230P01FAjpsYgRAfzDWfWqiA0Da5YhipD8DQF4phYFPEwNA67rszHdQAUA2jlXbDJz7P80fOnvuXPU/YoBuUO15/z+Y/UwNy/cAQKwNe+wSL+U/d/FtC8c8AUA+8JFhz9oAQGJ2/JQkdvA//WHzFie69T/7o53Xb2oEQAKCYZm/zfg/jkCKhwPYAEBaErLKnXn4P7rGdZVQzvk/HI40FgtAAkA+iHDp+XAAQLIgrayZG/c/6kviODru+j/8UT4RxJLxP/FL4vT/MQZA/XwsNlE8/T/HasqXxXb3P3ASBqw47+I/US6xJ+sS/T8+Uxt8fw0AQDTuAgxgBvQ/0FdgPEvy/T9IBtUrp8L2P2bMRwxYduY/nRjbXphP/D9t/xjxWmEAQLC09eu2gAhAd/rPV8bzAkCwkwb1x8wGQGLj/l9GkvY/fpDWtV8kCECES8BsSl3/P2bjdn0qRP0/7rCGEk1mAEBeJOSwrDoEQNJ/1Q8dofA/PY9pnQUVBkCQuTeJTzEDQNSk+dSdUAdAurpc/6WZ+z8TUlBjHl4HQIy6Phkoc/w/7f1D9fEaAEDgkqq1emcDQMKqzoBIigJA9NAOib4ECEBigGxzjknsP1/uyo6XBv8/+fOJnE4LA0A28qGAtHrmP5iSHr2nUPE/IkpJMURgAED4TglvyfH7P65TEf8argNAgD9Mm8H4AEDoWK0Za6sJQHcCzipGTP4/zO6XR0fF6z/MRNU2jzb/P6hwgcjSXwlAeHqC7c8t6z+TteqysEAHQMjCq2gpDvI/+bHUM3+/CUANOS1dcGUGQOOWn5lO0QNA64A2wJMa/T/W/h9YQe70P0yCq7xF3/g/Sl7KdXxTBUC0Ye0uDKIFQPSz0gwbIANAjKphS8AG9j+8GHSJ5C/0P0FypiANuv0/YPV2TOcT+j9Yw2y24tkDQKT6m96+KAZAAJQO2Z/4AUCYfkvfrmgHQJ854SJeFvs/WLuE6JBQ/j9X9XIBpxUBQIZT/zajE/c/X6TJ+Vt6A0DENPYOTb72P2XRvHt0cwNADIh+1y7xAkDx5ZCRtI0AQMblQF+FyAVAJJ2qjdYFAEDKg86q4twFQGvsNEqnqvw/U082ogG/AkC0MAfybvP3P0QG9AE2if0/msjYoCSoB0CryyWExToBQLp1kaFwIuw/yf5smilb8T/cbUUXN3b6P6SwJJuClf4/mpli3vJW+z+A+Z5WRPn9P1KFJ/3bt/4/8BxvS8Sr/j+spd4GhQsAQCzxsigaKPs/JFTLffSzAUC+H6Azk/vpPz6c5mM36P0/WnLvkHBe9T8AGgziP+ACQOT5xfLp0wNAdqDA0K07BkB+3MdfzNEAQOGsEsCFDgJA69+Q1PXw/T9iRTuZjEQAQDis9mShzgBA1g6/haNvAUBks4RTNQwFQBQu6JCknv4/xsUagUqxBEA2Clua6f4DQH5XVDf7XPo/Dl1Rrx0u/D/C1Ah+1mf8P2zIOougz/4/StiCLIdXCEDonO0SgDQDQPqXWZyPoP4/BD/1RiKwAkCqRioQm6n8PyOqQUPgt/w/9DYQT+Fv/j8k6Qs3f2AEQKV9guLmsgFAAqAX+dBz+z/qXGFYVWYEQEszu+HS+v4/GYdeHj4//j8UFih1S9P/P29vhsmZCvk/2+kDPRcuAkDmLaa6CHj+P5BmhHX80fU/Wp78mYp1/z/M13wAoH4EQNPyhhV3ZP4/tj7IA+HlAUD5CISV2i36PzIubSPxRQBAJl9lr5iLB0B2ud5Jyaj6P2wYJLNO+Po/rgBf/LkV8j9ujepzoqkBQMRnMRqIWAFASaVNiNA8A0Aw7YJpfcgFQMCxHoktLPg/PrILz6Yh+D+7b3IIT/QAQHdylVDnBv8/TknV8e0iBUBW2ow6/dn+P8JRMuaRJP8/xramDCXK+j9BFNtmxC4AQHl7xD76lgJAVpPsfYy28T+8fWZ3Tbr+P+uY7HhAaAFA0cKwjdq/AECE8J7bbFwBQI7YpOkCdgZAicHlgeZA/j8bRS8vQaMCQOlWyt/I6/w/Bqg4S3yaAECYRDTs8QX8P8UDugeYvANA5dL31tp//T9Ifgw5mUT+PyF9ar5Y3gBAJhdnHoW1AUBQx0AvqAz8P/ydSdbIqgFAbLMMZmJ3BkAX3GLJG3EDQPQOzknTyAJAPPynDLp2+j9+9vaIr0T9P5YeJCF6dAZACvoIVzC4AkCmRhmX8rwAQFr4y+bPpvA/5N6schOp9z9piEiLKZ0CQInd7xuXigJAti7CdBxZAEDifnWAOT4AQAs3hnSlvwFAkTlpEibv9T+i3k5fZI/7P1xbqfRATfo/YeeJdc0c/T/6B9f45JYBQCJSjo2X/wJAGO5P3paTAECL1g2a60sCQKTASvpNGgNATy7+rSrH9z8Ub/tzg+H2P3ihL8Alhf0/uGl3grYn+j81xFwvQd78Pz2x4Xlw3Po/aXmeVGSK/T9gF9LWj9j9Pxt9McQ+QQRAdT4qxBwpAUBSuvDurQr1P3zwD+JATfs/kAAWbS2Q/z+4M3Qyh2LsP+b1dZcWBQFAqD8sGUx+AUCjphxb0GD7Pz8u4DDy5/c/H9Mj+dT+/j82dvKlwZH5P3ocQIU1NAhArNEhsdqhBkAYRD2aALH4P5IOAxNJiQBAhYzD4QDl/j9SpiBJ6dH0PzBuQQDhWgRA7kyPFkHEA0Dme2euSmn5P2Rt9+MK+gFA5I/HGxFYBkDyPEFw6wUEQLgS9GoHi/U/WZdFJi6K8z++hsQRUqrzP2y13J6yvfk/ArNfXYYW/D/gpx17N4n7P4cIgNsn+f0/YRz9ozfXBkBCy+lYHN3pP0+OYvLlLQdAzaAGjUdXAUCEBCpEN/4CQCg8aU2ITgNAOFs0Qxba+D8YkrY3pET7P/fFH0CFCf8/ZJLSMNXPA0BctIQpKIv4P49b0WqiLwFAwaHWPcjV9D8KxcDGMYQIQJxeHWvaiP4/9ESYJGSt8D/m4vzgWcYAQKyelM+EDf0/73lavqa7AkCiC8jMUN4DQBaaBHQqLwBAjHTFN0DS9j8ifGXgvFP1P3roqly5UQNAYaeFHWtWAUC1AcbvAoQAQA8gVraNUf0/uMbRGe1HB0BhleWPfo0BQOAJx/PnTARA6gyFD78M+z+jOP15dNQCQHjqTmGX3Pg/k0SipJtF+j+k51aYbhb9P9SGgjA83QBAgy1LEc7s/T8Y1ak32oUFQIC1GJNbzfk/ofN/SyJA/j/oObboF4zxP8iR5JqotAFAhJbxY+Lq9j+5XlYFps4AQHjuPLDf+Pw/lJCw8rCnAUDQ1W9SkAz2P8jY48IAwv4/MJ6uNJ+vAkB+0DMbPK8DQDNITTs2Wvc/dxLDCESIAED8RuIgfwL3P/b5l8AwIP0/OJUaHOEYBkDUG/n0zXbjP9iBH3Gm0/s/eMt4Q3GP9T8+tqaY2vMFQCgJIpkyfP0/Nv+gdQmp/D8riXTJOScCQFjNRRtrZP0/fPvW0eHl9T/kjmJvCUsDQOh3cubJDfo/5xjwql2U+T/EMTq5MYL1P0h4lH1VYwBAVWKj1eiFAEB1OAN/t7b+PzpUDxLV0fc/JdmzbXzFAUDeiJmDKIgGQFlJlvs2L/4/XMirAGqY2D9t1uGoEWj/P2rYOSPWZgdA0YoFTmcAAECzLB9LNKoHQDzXMIqm/gtAJNoT4L2w/D88pgMfxFn8P27AKx2UF/0/KgF08fSD/j+7wdk/9nIBQPiDIKU0NfY/OJzNqrWEAEDXvRWOeI4FQC79F3g2Ufo/QjLYNnSv5T/SQUs04RsEQPwGGTVfdvQ/1On1v9VjBEBWIPsmHWgIQBm59nOdmfw/6oq6omlU/D+xCfJR+DMDQJ5224gacfY/WI0aGJXDAUBYh9zl7zX7P/edNlP2MgNAbO6lJthFCUDRbO5Z7rL6PxvNaXa2egFAIazZtHlUAUBgl3ivDrX1P5yLMxF+reQ/WLm7uvWO9z/iF7ACq7oDQJMpBfKKwgBARTxnA+28AEAaCHoW/2IIQDC5e087iQRAPBlvk6919j+a0pV/QbH1Px6u0ULonAFALaGhjPfK9j+JryO89Rv9P7CirtRQbQlAtolGWDleBUCla2NNhRMAQCPxXQeg1QBAOrk6fhAQBEB7h2B8/NUCQEKpb+vRqgNATj47wowVBkDsEXjaTML3P4eIYiz3/Pk/1ttxtNd+AkACt7cVoMnxP9AazwXGQgFAgZnh9O+M+T/nFEkYna79P9DyruZesvw/++bYMsDi/D8IrEbHr1f4P+lisYqu7QFA+gM4ffVt+j+0CKaj7CcMQIwJXqHbh/U/9ewGN5sb/j+ROjP8GCz/P8EKQyVViAJANGFuIlbBA0Ag9XHeiskAQKkqpQg55PM/dOwZRQkvAECom0ZrfsIAQJTFS+NKNQhA6up0fbOH+z9yRBfI0aj5P4dmDMULYAFA43T5K3fAA0A9Tm1pL8P7P3IOBBWgdAFAeoDDXnQxCEBIR+IsYdj8P+rLNZO1X/8/HB1MVViB/T96tmR5hgP7P3+eglcWwP4/MIFY5Pht+j8MB5Tme3vrP/TnppKRBf0/qK0gD9xn6T8CATCYHizuP5N+9mrn6/s/TGKi+cSUA0BS4gukix3+P/SsSSrFkQBAEkiT475uBUC6bz/23pH1P+jSMhQiWAJAFZWtl7R48T/M6Agr4YH9P84PdCSmhv8/GXjogE0PCUAFUeTjXacAQNwGcfP29/o/5zpgLxeQ/z/ZBoxmgT4AQItd8Upaif0/ELGB3HmS+D8itkGYTpX1P+bROG7Sk/w/fn7kKH69AECUoMYpaDwAQIZZLEAIoAFAwSwXBkbMAEDIrU1Ew+X/Pw6+xUy3m/U/hhiH2VJr/D8gugmS/8f6P2s2ICa8efg/0LkVdk0M9z/9j5jEeAAGQEzgrGKQZQJAgssGMhv0BkDIuGaECnX2P66ySl6PT/E/EG+I8y9l9T/I9LukUKgAQNObc+n7/Pw/Fqdn6VhWB0DWPlvDcKIBQBY6OrwXx/c/mp+ms2mrB0A8xSGM4gL3P6ieJbwDHPc/llpUtPYjBEBgyOghPzf/Pw/gdRJko/4/mJ6vqrBTAEDFZwpIP2IBQJScoxJ5wwhAy4TKWZ42+D+aTqH1SpX4P8K8WjsoTQdAux4vz9HS+T+q0h+cg20BQA9Wsd5KAfE/v08WtBbi+j8ACb+rbTj6PwpOqKBgowlAZqUpskO/BkBC1j1EHSP3PyA9P56YxARABo5bZ943BECKXAJlqGrzP6gQN3VZnAJA63cnqeoa/z/TQ56G/wXzP0BWjcMe0wRAsYBKMBDE9j+6Sp4tpcEGQPbW0VofIARAFOHAV2lv+T8opY/hg7IEQAt+DVTVc/Q/ptWYgkw+AUAw9ut9ZFP/PzurHP0O6gVAVStgbB0+9D87fYTsyzf9PzsHjw/CSvg/2vXplMcZ+z9alB/ZqRj4P+jUdgTNa/o/oqWZrMZ1+T9UK0rFkaT8Py/DkUWSEwNAHO4IM3LE9T9502meY3/7P4e/px9B9/4/khFd9GmiAUC6bYTCU5YCQARkWUCUTgBAOFhSoeFr/z8YwQJYLycCQGDfTvs+EgBAfDnLybQr9j+Uf9lEcawGQFzsTWPvHf4/mH+UYMS6/j+E2t6Lp+MCQCOcstpXUgRATlX3s/lM+j/ovjTsacDwP9iiZyOvOwRAsXRGG2dU/D+u/IVgqqgHQATJEY/XyAFAIK2D69Vm/D/o8fsM0L33PxRKme4uzvk/lS4y8lT6+D8/e5Ec4j0DQOhsMWXdj/o/nIe6sZB4/D8OPBhP12j9PxnjTsUvoAJAFiwefNvCAkAAy6J9nmACQFlfRgDdVgBAk8/lnwuu9z/reVl46EwFQIHVgmUX4AZA7g1oWqBN8z+rhGtlp5MAQIe6CpSt7ANA0C8huSjTAUDGkRUQL7/7P/A4jbBLL/4/4KudG9GqAUDXpvp5fJ37P6ZNTOfi9/w/a49B9O6C/T/gVcwN1FwJQKZrwqGyaf8/ovVDsCENBEDv53RABPf6PwQ6p8qtTQdAQuawn1MnAkD8zFFYJ0H5P1UAkMhORPo/jIX1AtW5AECiOLGFNnb6P9UW6WM9HvQ/gUMCIR4F+D+sAWTS1/ECQPP3hPXaKApAru+ygmoaAECSi455DSP2PywfTVct1QZAgpHTTtwi5D+MUmMvU/kEQPiZ+oNqs+o/fn2xuBAiAUAXEKzDcEgBQMgs3vD1NAFAV/4Prs4ZAUDy90LKk4P4P5wZf7xCuARAyw2Ozu03A0D7OXLlxs/7P7xjzWB4VfU/nbsLmf41+D940Bni6MX6P+rEw9waYvA/5TTukynAAEAUIbYquxf+P0g3j4qu1wBALwXzWgZwA0Ch0lkJ2Vv3P/iKghmPy/Q/oE6KFG1W/z8Q92vSMan0P5aTtUFvaQBAJIjro8aX/T+DOdpvRbj7PzB+IGEOzP4/Pgu1ixEzAUBkSYpcAoYFQAr8rDWspfg/09QzvoqvAkDO5GgRxJz6P4Xv8KlMHgBAd+XwGS1D/j8KYPLrY+kAQArrCs72neg/AmdrBQPm9T+38NroJ+X6PwTK2WkDfARARAjsETifAUBG7uHZxswBQAdtFTfu7fg/XlCLx4Aj+j/O80XgSLkIQKzT1ef4zQdABqxsAh90AEAPGbLyQYcBQDToyPmTDQNA1kIGbzvOCUAFXJULTDcCQBCNnKY7FPc/EJtQBetAB0BlS+5n+0z5Pwyhpjuwkf8/gK1xvr0p9D+0ZGy1I9b6PxWcGgUR7wFAs/RaHyht+T/y9qAPsIwGQLAe/w1f0vI/8OoSUC9K9z+cVdLhJFcCQPziftaeLfc/vOsuqm79/D+UeOPUHdz2P7c2ixvp0P8/XAX+IQcF+z8jBDyyodv5P8RESI7zS/w/JzREWzoT/j/XsQF70FP4P/V/EKHNkP4/9U1pqxzh+D9b3SSUbmj/P4oWf+xz9vk/LsETNRvXB0AkwfhPF5wCQEKB69B/6vo/Rp/tyv6F9j+bsLOzxpr8P2CRDiL9gfg/5UlkZ2769j+w/GXiiDH+P1RozwWObPc/GGK/DpQ4BEDmR2RnA7H4PzcqSka3OABAYPq+PFcj9z9BiQtysLL1P2YWPWWvGf8/zVhU+0SI+D8G4S7bOn4AQFUDTAmbOP0/PMzYoLyT9T+iYXT+3Gb1P67iSo/HFf4/Mofgjqmx8T/6ctNyY4YBQMequIzgd/0/D/rgvn9yAUA2Q9JTR9/2P1z2zlNVU/Y/Olw+Opv+9T8P0e20nwAFQDLcQ/yMO/4/VyEY5Dq0A0BxXTljTPADQBrRmW4uPvI/o+RtmOUWAEDkzv+wlDz/P9o4p1PqpPc/F1D3+6VKAECPYl3hnhT/P/A2q9AGN/M/gCnlJEvN/D9P9TS9qBMEQNul2ljab/8/2OkRgTEBAUCc/FjueQwGQLp02n6Lh/k/6u+kObEhAEC+O/ngqnUFQDSFgzO2zgFAAB/65CgN/z8G65t1Gwb4P1JgiykG1wJAGETG9rUb8z/SfOG/Ipj6P4x21/QeqAFAAgF1fbsi/T+VpQuexBMFQMYHGypdTPo/Y50vdvHUBkB+yTG5AlX3P6uSgV7rgPA/07vW6bJHAUA7Id1/TBP/Px2E/6exVfQ/hEWrJACV+T9C2/puoLgBQD1H+UGyHf8/IbrmDUxIAECAnMgxlh38P2AK5l9Oafs/xb9Su6TKAUAa1mJufbrgP/KGF+GIXQhA4shCeHh2A0AaT7SDx2MBQEmeebj3vfI/PHDY2nRx8D8JjrDQiKwAQLJNDf5CCgBAcQDRJkU1AUDLhspyrjUAQNhv5evC3/Q/21tQDpRV+j+MwUPBhV73P+YansMj3gNAqNMXl3Mw6j9xUEf4wo75P3C6JGTviPk/VD9G8G33+j+WcvbhN1vzPxJ2W1Y4Fv0/jL4BwODg9z+w/ms3Ysz3PxO+oLaao/o/FgKhj+VACUCMwbjjyX/3P4K9zfQFnPY/Q7HyvAQBBUAg4ejfCsMEQLDwpVR8UvE/cyNm63tP/D+BCjVdZZLxP2d8xcmT9gVA0l6kXRifA0B+P+tcNI0AQGAqG9ZIfABAcKPykSfP/j9tO+RmKH4BQI8bDLyDIwJAgKZtbCy/A0Bxw8P3O+T+P/s6TSK85fc/xTF9jGxlBkDd8coTQ5v/P747UHCTafA/S6qUz5p0/D9ogUHWhiD6P1rwgLwFOgFAIjoAE+vv+D9YZxGrK2/8PwTxWiAZwfY/QF7JnuRG+z/6K0qaXw/0P8/WcWV+/AFAtQnocJAEBEAgAiNZuIHxP+X99jgMfwBAu2xZk9x//D+M7JUNY+ECQMJ39MvyIQZA5sD+nSy06j+pA6165uMBQNQTrH440vg/+h7HyRGv5z8R6dVWIG4CQOGP5vcS4/4/ZV8pmX5cAUA8rtKqDSQAQAEd3sgBEf8/beuq8aLQAEC5NuiXcEQAQGwQgCJJ8gJAjRkqjagM/D/JjC7mYcQEQAnOxcGj1wVAb24mLvWX/T9wWowjkv/2P0L+S2o37P8/24F3du/6AUDtMjVXBhUAQHAB7R3u4/k/5LbRsXFl+T9ZxEfSmBv+P6w6woM7lf8/Fohdwbl/BEDWPV1BEtcEQJm+8zSN5f8/UFJokUr+/T/QnTsdFuf/P9oBDlAQA/s/jbftGZ0jBEDN+nX79tr8Pw57CbQt0gJAyedOolCP+z9kPk3JzpLzP2/fyxAi8vo/zoAzq5q1BUCwQLJAIpj+P4bw4uxJ/fk/YLX0ob1LAEB7McQTUd8BQPedmy8idfY/Zo5v5/GV/D82tL9nSnwDQMEYUVIq0QJA4un+o/Z9+j+eDAD+F67/P+584r/OL/8/En+YZblE+z+aajrQ3vX+P9aSJTyQHfw/xagVrFFE+z/5CupcSEgDQFuNNOdHkvA/+qSALGxyBkCG0SRfAVcAQD5Y1j4/CfI/qBtgmjNh9z/uyirmdn0FQCM9Qjfs3fg/MIQn5/BhAUBXH7mfa9YCQHS3Ke6ddgVAcX11HHGw/z/G8zrOJrwAQDtE8gPhDgVA/YJu0aSc9j8cjTRINPsHQAoVnng1kvY//waoWFT19D93uwyOpVgCQMSBTyAZGPw/ab8vagjtAUAxwIgbQH0HQEOClYsMNAFAwCyfq/V5AUAyF3hfGbICQBeMlFcfRQBAW3tonoDtAUAdPfgh+uQFQHj6D7UoQv0/0zp2x2lXAUBElK716L8AQIzDpLzKkvs/Rs4Mu9AG9T/uBwkG3f/1P6o7waZAb/Y/bBMUf08VA0DCIM7LI4T/P7ZNvAff8ABAoXa0UI6NBkCSYR7ljnUBQCfTu/cgtvU/Nkmk+E4mAED+d4HOKHv1P56y6wIDGfI/lOyw61Dk9z88v/91T7kCQAWRV9RB1gVAGyIJq8Yl/T8BaSZgDkL2P8xU9UIuYARADYkXSFyFBUBX9RH5wgEAQP4MgUHY1vU/TmEBFIuXA0BDokFe8/0BQIl11M2lOwhATwUSZHp5+T9Fq56613/8P3RBbU9KHvE/AtoH3ZSvBEAYKftDu0vhP+Ce9Bg+X/s/l7aljCAbAkC0UbiQhB0AQLbTbFUkSgFAnEzh9BdbBEAN+BpLFb/0PxxMsVFaowFAuImp0Vmm/z/6ebujsRUIQNrm2VtbBQJAxtZX3qof+z+kS/XqtjwCQLorZDg+PvU/YsQOWCtC+T93C1qk6eUBQKq3jE81eQJAWBz+pm9G9T8SdpgF7tz7P/VVbNXA0vQ/+lI+PCPj9D8AtZZv0//1P+576WXqAv4/cFgU0wz+AkCQMkusYiH9P8nqo7EV4gRAKNXLw0pj+T+gnh4lBn7+P26VBcLRWQVAztjOs3h5BUDToZ4KUdn/P8C1aEIZYwBAOFFKjUTw/j84h4iGYNj3PyNCEXh5R/0/hmUo76ef8z/bGBvLqCr8P4zomG9fvgFASokuxNAi/j9SK3Fe03n+P9Qa/js/zN0/aqsEwz9GA0DS+CmeOtDyP7YbPl2u/gRAegb4HXiA9D/HGj/9mBIAQE+r4auktQNA3LjLYlBxAUCVSQ4K9sIGQHvRRWrbNvw/+LHBPrciAEDxoj0e0/gEQIIpA5RMWQZA5ISXcBqJ/T+oj/7Xvv/9P3GfHwCC5QNA7JAXg1FL+j+q+hWHSUQCQMs98uDH0P0/ugJAWn6N+T8JvB0p2+0AQHNP732F7wJAY2U9TUSN/D8Y1ONGaRf6PzpcbLycdQNA6pSES9Mw9T8+nnGYLZoCQIOzb+sNeQFA/B4h4Mxn+T9MkbXQq5kAQHzcHxLIVwJAhTBUiL0HB0AE1yOUVmH3P6JQTSZ0tfQ/eCmVSxA8AEBCF28rYE77P1e1guYGdf0/23yKW/SD9D+3wZHm8QoAQMCwhID+nf0/8NNrWI7N/j/a3u28az4DQE09YB+9Kv8/puC6mCDF+j+KY9tzhvLsP/XSGBBv7wJAOd1UXAyM8j9+ED675Z36PzRVwwSMQQJABEnb2+p7BkBVI2HLCngEQA9V0wDOpvg/Qo4W3/p7BECfbWOSGJ39P3yqQdDVHf4/E5LIFgaP9j98SNMi6WkAQBgNXcRwLPk/QIZgEq3oAEDj2HlEWY/6PwgFXAE0ZAJArjU6rZrZAUDdFKLohoABQCyRjx82awVAMtMkmPdj/D+vPD5HjZT1P9aTNAo6AvU/mF0hl5/LAkC0QVPsUZX3P8YAfG6VQgRAGg6E7r2t8z9mvb6PnxwCQPpshfeP5vc/Ws1VD8CK6D9adAtBmtH3Pz0BdeFQAwNA2NpRGrEDBEDF3nUHEzEBQJb9A6BYDfo/hWJm7Ezl/j+sH80Y3Cb6P5Ti+RpIiPs/AnuR0eMK/D+62QJbcicAQKr9IgHMifo/I1LTVwzY+j8PquOy9McAQKDH4LzMeQNAV7fewNGRB0BZGDhyHBP5P4Ekhw/e1wNAdLwm5e7bAEAmCaXYVJADQLoYJKZ5Ufg/NEpSQb/0A0CgCpKiNqP1PxRAGofFgQFAeAhknh8I8j8TbdyzKXIBQGH4ikeeY/w/veijaoO5AUD8dHaRR9L9P5kQSgE2AwNAHj8FcsBqA0C3B63KO24CQGbXhzTrygNAlvNuBsk4A0CDFHsg9j8AQELtBUB62wBARLyhsToI+D9kx8yevrYHQNHgQerHYANAuDofeeNS9D/Fzak5In77Pz0HUSkYawFAUi+CSVBF5z+8j6Mkftf7PxCS5pL+dwFAizsZkQk7+j/1eHRtcgoAQJn36pb/igRAhACKa+siA0C9YxjgjgsEQKbAhF2ZogZAFD1lvf9yCUCoG0HU3lL9P9Tr0zSArfw/3YxsnppEBkCdAv4Y6IQEQMSHKnp5mABATSQKVztK+j9yDP+8B3DpP/Te8ipjegVAMlX43TuE9z8yuhuUw3kBQKDfJNWmRwNADB+FfWVpAUBo2zjBUjr5P17z37Ie1ANAKuLoWnUCAkBgCeSI5IUBQP5Ikx6VQgJAPh8HChNc9D82V+Y0qz0AQD2QxTgB9AZA/wYVJwsU/D8ahZZSd50EQKDJrFhqEvU/FsJQTSyJ8z/43qvgMLTnP1uYDMYkl/Y/RlMsqEizAECYx7F/i+4CQPZYro3ZRfo/AJBFj6WzAkBpOeQJzOf9P0ia4xlwUgBAyrjPdDFD/D88FcLt4DrrP17G2eh4DANAjjGDFdE9AUD5/XfefyP6P5XMwCcukv0/UZsVICwuAkAfOfL28VQCQBuCzLxFcPg/P7R3Cet3BkBMxSOgsMIAQOP6xquUefs/2COSxfYGAEC6ZAyuMM8CQHp1tHLgBgFAzsZrxtXt+z/mzJq2/Rn9P7wwoJ8Xx/I/dia6V5mPA0C5o17VI0EBQAJry1JEcvw/LcJPgjeWAkDs4um8tyv2P3Z05LWQVQRA/G1KWINL6z/+A14i/aT5P1vBApdzuwRAStlBzv8h9z9z3bifk/cCQI3uC33tbAFATaHqdtA+AUAJNrulKZn4PygoISaFOfc/BRUGhu2PAkC2qyO8d8vyP/La2URcQQJAiHwbDHJkAUC2WNCcgWX6P00uDlOugwBAMPTI6Zi8AEC80DwxplYAQByyl8apcwVAuaVHd9gy/z/RceTh1WIAQGBGXSN3LQRA/gzKDOULAUD1VCX55LIFQKbiZal0BPQ/MWWHUsBRAkCsI02SR7oCQLTap5kg7Pc/eikCnTDSAkAMKHtQRk3/PzWso1v/IAFAlgp5yjSWBECDG5SQY5n+P5y2BauFHQFAllWrrCMFBED/yAwDd6kAQKLrpqgY6wBAeOP69Yy99D+1lnvrUWcCQCFVln+SqgNAPw1gg2XN9T/DakpdQf/+P2kljQbvZPY/JOiAMADb/D8xbvw00uYAQE9I/oNpu/w/ZHSLhQMPBUCX3iX8PPv+P8amUb6kVv8/hnSOTpN08z8NLNyNuZwGQDRtUxXNFAFAQ/4UypSM/D+goOXsXrcCQN80yqPm0v8/L+inpqCSA0DIP5zsVWr8P++fH2UjWgBACy4r/jME+z+FRRX5Xor8P7fx+96EL/0/AU1vGkWb+D+SOCYndhYAQNkxiy96xABAkCpj+iJyBkBsCSESaVMBQOx7Ayd4ywJADGeKkBiO/D+jR9h+sPYGQK65IwGPSfg/G59LfQ7l8z9w2YZldjcCQH+kncAfvQRAkz70XRdW9T8h+fxBofMJQLdi73xKjQRAtp2c1Bc8BECCCsJT87EHQIoQqSSblQNAAs6TX/Zm+T8mKMVHVXkGQD/OykYRyvM/UEuOm2AgBUAVT1Xj4doBQM3FEwxFHQZAZiaPCyF2AEARtYSIpPr3Pz5qHsoDAwNA++0MlcU1AUAh9kk3ZlYCQBp1GoTH8ANAkw6t/Fi1+T+L0qCBTvQEQDxvogUj4fg/W0H4En2p/D8gcUigGub+P1OHWml54f4/aoPtzWhZAUBapyxquS8BQEpuXssOYPk/5LDSEgfCCED4xDgyy8jqPy9bi+fOZfg/jS4rDRM69j/CUcBKT2X/PyhQTDrxs/c/+2Zfe5u+AEDD6FdJCdL5PxSr0DY2QwBAIn44nx6++T9gisnMrHECQNTrZQV2AgFA2rDLHTkW+z8HwDIemJD+PyErG1LQpPk/xfOCqcOG/z8HaCp+nLEEQBINuphtTgVABjC/yWTWAUCo0jY/wiD3P7YRhY4AaQRAoYdCluRF/T+crkWqBhz/PzLvbENtSQBApCA/In908j8iO6ZOF5rzP/Y9lmItEwBAKVBfSUflBUCX4NRJ+qUBQAu03rWHZABAgKdIYkoKAkCTby5oriwCQNsdzhHOwgZAMjfXoRTcAUDl+bl1sQsEQLQEp3bv3/M/j0xLwFgEBECefX/7/Lj+PxJk8Bdne/s/0HiOdvjY+T9rLSWvvMwCQNMnT5Ei/fw/y6XcPP929D/qib0hk7EAQEMZNsVn/gFAMKIOVOez/T8OPfFPtIrzPwjwz7bwVPo/NN2Vt2wz1j/WaXeuOHUBQDqZS008UfY/r/fvxYWdBUCBy9sTHzL5P3LDJ0hXc/Q/uCY1lnjb+j+JX1RwjjUDQIcQ/tDpjgZAqu/ZCdtu5z+FryY46yIGQFf57uaYB/4/3t9L96BG/T/H46kzk437P8lEjL1DLvk/oB1QaxSLA0BP/A2OVwf4P6/5Ph/gmQJAkoUP2/E1+z8K4a0HF/0CQLTOXLmqIvg/5CbSXLIjAkDU7msG5iT1P9qib/3GQ/8/WVGdTSJjAUCjR97KkocAQEPNUwXKRv8//LJnMh27BECvpBa4Lu4BQM3o7jMU+QVANjwVlsUF/z9cOMp/T+gFQDf1tuDsyv4/GD1xoredBkD6LICkF3LzP1rE8MYncwFAmwwtGbUWAUCuco1pMTwCQJxVLYq6wuo/Io5/W+fOB0BuAJk/ulkFQEb6o47giPU/nwdysTBhBUCdkSCh+fj8P5gTXX0O4fY/5NQ7zMVAAUAXc+gthOEGQPhtrVHJswlAZU8dFJWx/z/ashJCU9ADQOiwr6/QLQVAMF4jvzE1AEBUxIqhlVX8P0QbLIg3wAZA33B/0hTwAkDAYv5y9Cv+P9xhAeBZawBAJKQB2/Dj+z84nWqww4EBQCKColKdNPc/Zbb3UW4yAUBUJJnld9fwP24gvrkKGwJARyes387N/T9Xaq15CIwCQGreDaWnGfg/NBXYhU8c+D9udaxP0Kz9PyizAh3K/QVAJMKmSP1m/z/qGvOLrQHzP1wvaTneEPc/peT83eFh9T+C9JC1o/b9P9y2idMrnfI/L7q2/Boa+T/cMvBZIq0HQL6wm+WNnvU/Rv0nekE9BEBklq68KOIAQE9s2CJBAwBAaA5xmiqk+j/Fij4BbvABQMNHJTepU/0/MHoNGYR3BECA6SiA5k0FQAghcMyfKwlANPR3kYOoAUCB13D1QQwCQBR9l7iUqP0/LgfHGRDJ7j8Q2HuYO3P8P5yQIii8hQFAyCC5S9jX+j/HJhFvxhUAQAmOyJiA8gBAhZen4vhcAEBtrT3ZeE//Pwf1jeqQQf4/KJeebBpb+z9AR+zuQFgEQPRHqLgaUwZAaVoseGpL+T/Vx6DJy8b/P1sR0mZA1QNAxg+4Ie6d+z+1G8DugD8AQNVC4wq7tgFAqsb6a5FMBEAW39x+vpMHQJ9NYVAMjgBA40V0ZCo0/T90bIsc7lD6P5Mbk3fFjgJAsoCN/zZK+z+3Z7OAYH0CQAfiKnJcTwJAR+JmkYSaBUCb7yfRiSEAQJOR50kn6wJAxXlwtVJx/D/2zb+SuiIBQB0zarUMdP4/LHg5mbfv8z/YUCOKuBEAQLx21D4HTAVAN9PMIf1WAEDFwSwEfjwAQCegYxClifo/yb9uThP08z85xy4JZdwGQCq8BkwRZPk/K6d1GdhD+j8Fu7mLM5kFQLIt9V1a7fs/15i3BP3w/z9hlm0yjFj9P1yMoH+b+/s/Yb9X08D/AEByVI8o+CgAQGvQzDS2P/0/6HgSIhOxAED2gK818pQBQAxs8KM1VwBA9G68qUPiBEACGCjSV+X6PxrcJAn8gQNAete7tDLE9z9+zGvtFTsGQHy9VuJLgQhAxIqZJk5W+D/I1ATO2BIIQLlNY6KM8Po/5bu1p3Sr/j9bF5xnZb0DQC0R8pfwdvs/wt73G7+98T/+y5mFo88AQChmyu4f/ghAXRE1h0RU/j/22688shsCQEAm6AbgigRA/6JwWFsjAUDSp5iMIMHzP6W/9AGGpgBAZk1qcSQQ+j+MHXk9zwH4PwJwFWmc1wFATIlUbGDf9j9UoncJ7Z32P4KHaxh7NwBA/XZfN9rw/D++EDBZa2sEQHqnDXUmtf0/bgIWPgQnAkA8xhai8K8AQKL7WygGovs/LVDlHq2lCECMZgoefQH9PwDfphkxQ/4/FN+Pv83w/T8T848R49oCQCQ6Lv32yfk/Khp64VWB9j9WPPctAy0AQHdUS5vpMQRAmH3N7GP9+D+EfRM2TPD4PwuCTsbDQQNAQd+GODsf+j8GFB2AxGj0P/wSFogycPQ/j+KGC/3C+z9LR+CIXpQCQAuBWXnD/Pw/o3IOWS1ZAEDojRR386L6P6Ic5L3rmf4/TYP3We3V/D+lMHA7qvsAQHBu1e1Fx/g/zd1C9h4Y/T/IqoABrTgGQETnoI7Ln/o/ICqF8zb1/z/snsY0QXj9P/ypd6auMAZAiBwe2pY3/j+Z94PXjRkAQB8YmLzgzf8/U0LhEA2C/z8FMjKmz3r+PxEowzBrXAJAcDyrHZjJAkD6zITKlzv1PzRSWMlO0QBAuyzWOgUv+T+Ed3UcEj0CQDC04dfj9Pc/4Nr8ddBb+z+OHZwsmzH+P/bol+Z+WABAw+KkOuAtA0BR10zJ+h0FQPZWx5lb8wZA0Onr4tUr8j/PBLIdPPcDQEHlilTs1QBAzgGcpZpgBUBoR4VYuSoFQCsuRZH2wP8/Qbc0yHTbBEBaUDtsGVr1PwwLNc50xPc/7HhTGbPY6D9rp+ZdL8kBQCtS/lJ42v4/aHhUNSEj+D9HxQvwPbMBQKjvpYJbwgFA4ykP8O2oC0AlPeqDpgsBQOTTNlnf9gBAvh5KmF6o+T9GXNtJaVQJQEmSFLhtbvQ/il4emcTE+j8RR2o174oBQLqcYeZHSAZADIZVcOouAEAApLzsBk/5P/cCtQOJlf8/iTumpHie9j9vZG0EG4D/PyCV5jeFmPs/yvdgvnTj+D/nCH1Go4b3P5uS/eLtPQJAhhqv7nS2A0DhIwZH0X0BQHPmkm2DUfE/F3caWgPVBEB7ulH62wACQLvM+9rlIwFAAAILvrXBAkD+o4cVmQQBQBwVLSFv9/0/uG/ir0zyAUClPye04FcHQBQyVbPTvwNA54JnApPI/D8k4Jcl0wD2P9pXgjcWLglAKA3RggDW/z+nPOhxNtUBQBYFiC1A+fo/HlrsmXxnAEBaymGvBoPzP9yvET6eHQNA1TyCc009AED7kwQB50b5P9t5ArXoEfY/jqltwyo5AEAJf3Sakib3P6yffu0Wrfs/ZRki89+C+j9exX9wKLn8P2FCXDRC0wRAAiG59S3cBEAPg38kjMQAQL6QhqwicABAyhfaDNUtAkAczdZat1wAQGDZcLBqnvo/tJJwM7foAkDnExpemeMFQKgMD4TAuAdAFJqABgxaA0BeBzwqNYIDQFLqxgHCtQNAXNSuEBQh/z8gJHniN4f+P+KE5OfX+ARAQ4sqEd4N/T+zVZs3zD4AQLH33/DvKQBAyK3y6sla3z8W+0mmHEL2PybQe0KAtf0/m2w6uhTABED4+92wSRcDQKkRa0n43/8/KOlQ5/OA6T9agD7l2/D2P5ro7WNezP0/SoF5i30fA0AXukexSzT9P94/Z/fP4fE/LoGAU8D/9T8w5KeS8agHQPjrsgLExQhAmhUoI+B1/T9pYeF2UBv1Pz4HsEbfm/w/B+Lz/+T/A0DkE1f5WdAHQBimCbk1dAlAGC4lJf+C8j+1C+ezRr79P5klxPdgEfs/wmnMtY5v/T+l2W63Gvf9P/781kLptO4/V1yO9zwEAECnVlDj26MDQEx0arIMXgJAOW4LUyrD+z+EPICDRN/+Pyg00hhrcfI/OkX8CquG8T8j0XkbOxj2PxEYvYF37QNAnrgcNuu/BUBGYrxRBBv1P1XtYjB/ufo/jtfaGDRc/z8ypZowGSf8P+Cf1zulfwZAO9Yp3s0tDEDPhb3DIJkBQGJUm8lJMwBANIEApMWs+D/R/VRhy5gCQKHM3/qxvvg/+CYXTybKAkDjuxJ3bEj9P75yhRoTqeo/PaAn2Oh/AUDTIQ1uYXr2P+xQBappvfE/7mUTxsg3+D+3syLspmn/P9NjY8UXJwBAYrZ+NtUGAUA6w0ktb7D6P+S+05DzKgFA6LKhV3Ew9T/OQGxuQfsCQEcAa/K0kv4/vtZUFGeT/j9IK0z+fnUHQNAtr6qHov4/y4ZZX5h6+T/xVJZ5V7YAQGhtB7ncZPs/UPcVsS4qCUBFJ44LuekAQBZboI+klfU/eWKCzy0x9z/lxWQAbdz8P7hENhLSleg/KoQvFpXg8z8wfc1ErMMJQFEy3W+c3wRAGHy7DBVG+z8EeZjzyu4DQK3Uh9cUswRAnVW237gnB0BuOVuBTwD/P2ZlToCI3/8/GMwS92JX9z+rbwnZdSgDQEGLVt6bE/g/TmtVkxn1A0BFbWF57AkAQFjZWED3mvw/nnU+bqFYAECYNTud6kT9P7ll9Yq2Ev0/7PJULsMW7z8KF/YmfrcCQPrPA0GwXfk/eZIaTH1gAEB7yw5haL8CQHphA4g4Zv4/3wez7I1z+z/Y0ab3Nab2P5VEydVPSQNAVuoczibj8j9jq7Ma+Yn4P5bv8aTAvfc/vLlL7qL+BEBoPeAw1tj3P3/5lGW63fg/D5gWyf4b/z9arLSnFjABQMCI4V12ZvM/RwLB1o5zA0Cim28+mN//P1odmm22+/s/xElrBmtI/z9o80mc/WP7P9x4HN37jgZAQUXcuyhJBEArDs9DwzgDQFaI/tGk+AZA1oUg1qsrAUBgtm+NMTL5P48kydcHbP0/Jv2WDZmNCkCrISYGqrQIQJ7TI6rcYPs/PjY3crRc+z/07aOJT6nzP4yx1RyVoABA9ombqtle/D8cd3ZsGWjzP3bZNf7gi/E/tYHcqIJ3AkCVPs5yc2wCQBdHBFpygwNAt4YAuMo1A0AA3FDG0lAEQG9I94kWu/s/IKpfjmBI9j/4Dba4wyfyP2MxYIBCKgVAGI+FskOtAkCw3pL6EiH3P3YzyCbCVQVAa6DGw8kq+j+wHnf/0JUDQIgeb0kvcPs/ETPVbgKe+j+dJ8bc9oL9P+hx1C/n4whA8uZUe60k/T/2Wk62LosDQIlmqEzjoQJA55ffntd5A0CbYKCp7FAIQGESJOvuBABAXL/wlkuLAUAOm+RKTXT5P4WRumAtWvk/JyjMF1+0AkAfWgNyM4cBQHIP5i3t2gBAdUPt0RvAA0DCxS4eKKfyP/mud8hgkfc/kuletEmp+D9p11gDLN8AQLkUHw7MZgBA6GzvGypTA0Cy1i9MZzDzPz+oa6a0XgpAYoOWZQhkBkDQzFqYK7/2P6mWRZMGavc/RPrsE9h6+T/D+Bncqt33P4JNQmTBEwFAxsg5412iBUAuuuRQXqj+P4mgnTUfqPc/jSTfEIRHBUBws/wspznvP4/0SOptpf8/rmTnqv6w8T/tc0cnLQn8PzGFljj9Jfw/axjBFkW6AEDz+R2C9vX3P4pMP1KPxABAvpSkz+8hBEBjNmjXs70FQKh/GO6JVgZAcFJj3oqV+z/qDkaP49P3P7k2ms/0QP8/GKIPq+vU6T9qPYELuIIBQA+FRvi7lABAL5R56v859j9VrD5vJe0DQDf9lNf81v8/Jo951KC48D9ncAk43uT6P0G+jyAfiQJAk5G+D+BH/D9UQww0B1T7P0nBGAYSNQBAlGYpfHyTAUCijQx/QcD9P40a+wVFMQBA2+q8FIo8AkBmsbvlizsFQOLfzBuTjwRAEeY0LTLqBEB6FDxHytMIQOrch3+N9v4/i3naOGUM8j9uP0+FNtL+PyoNXuiqg/c/wCJi3I8b9j/TuJwCC1P9P4IokE0jYQJAX4G+fYQN/z+FQu6cMlL/Pzl9+G3QIAhAe8Bg0QoBBEBeGa+e6egEQPAUNkuCm+w/3NWX0zKiB0AOdto/dXUCQGSPexMbavY/wJRNEYC3BUCN53zggdH8P6dR8y83jABAWPT9ETXkB0CqOzVj1G4AQCKECmxXsgVACN+VroNxA0DLT0olYTMBQBaKWE2Zevs/ItHpUC5r+j8uOL4mttwEQB0KL2asyP0/5QE3H9mZAEAD6qLVJmADQOxXaav0SwBAng4q3ACsAUCFg6VRqrH8P2pryHLxT/Q/1jmo59ZHAUAC0OrMp4T8PwAjcJhDMghAcO4yumiO+z8a8V83Y2QHQEYzwME1UQdA82Yj0O4ZAUBeie/o11f4P80FKRz3nvA/jAnmyY+VA0C6TR21YMb4PyKlErSVigVA2cn6e5rvBEC+rhqbNcz6P3Az5SpLVABAFdz5iZg4AEBsPOL63+sAQDInnW2XeARAdSQGyyps9j80CMzMhU77PxgEkuMNl/U/TO+ge/W99j+c9blypvH0P20iJrr0KgJA5o9cV0sfAUCRyK/g68v/P8TwumMcOQBAZWSWEZAT+z8/wBh8o5MCQGb7uYLHXQJAQKZ7mRndAEDzV1z7Oh38P8wBX4F54QhAYbsx6HiV/T8gVOS6Qyb4Pz2AX6TruAZAYYo+4RRiAEARdaJIB1X7P2yMNYNFOQFA4qd2mokL/j/IEnDEpAECQEo2tswZjOM/QErfXZvE9j8il9HUTi0DQL7JHdIFcgJAw7q8UuErCkDvo9qXgD3wP4AvoZQX0wBAQHcNK4/T+j97UMh79r8AQB9x31qybvQ/tj8ZOEJS9j+/DnFOK9YDQNZbJxc6rPU/PikSucs++T/yM+IVsnICQFY00SETXQNAZsek0T5v9T+CR09NQdgBQHAQMg4fVQJAy8up2ATB8D/uH+5fbe8DQJlei1e8Tfw/9yAKTk9CAkCP7ols3M4AQNRcTMCRzv8/KLCJ2yKG/T/RrzcPuHgAQLbCdCGiIQVAhPHcIzWeAECR2lqJtsIDQDTwbMHPJwZAc7ffCwZ6/z9M2Meb3Or+P3Q5xFyaAP0/y9gKi9nWBUAeUb9iao39P03Sw+PargNARpR7CkwrBUDiNHrZegwDQKV/+lnHYwBAzI9boZ7hAEA0SdHmfzsAQAB3F8gBAQNAuj9j9VfIBkDnFrcgGz0DQJ0YtkK0dPY/SEM8VgePAEAGovTR+7MCQN9k8NtdHfU/kUBCbA8dAUA6aZZU95oIQMXLrSICSv8/yliAs6bnA0DoJJkIJ9bwP1Di2i885fw/+NTvqAYfAED8RPAp4JwFQITmEOarNfg/6g0j1k+8AkCSPuT7GnwAQDHtyS67+f0/U/qR6/uiBkBevpt+ZI/8PyUNwSrSQQJAYjcV+suPA0BsBQfE3Cj5P8gJbW6pW/I/wUD/53fNAkDFQ1VwRuT/PzHnP872KAZAgMcmCqTI/D+TOsi7qIYJQJ9ad3oNPPo/hp4WKNnu+z+JtGPQPfcHQGsvcMlZRQJAY+CDwjEM/z961rbMTdcBQM6f+9ogfv4/9IiYhtlbAEAbTRcsZIr9P+Yk3y/eZwVA5hqkFd2Q+T91ggkrGdwAQGw4YGTGJPY/RhYqnSHH/z9kNH7ayVAEQOsKXhuyvvg/HBXFJlPJ/T/wETXQhA4BQO6Ssa+KB+s/V7O+EnReAEC/3pOAwtADQFmnwYMSFwRAFkLPjC5UAEAtzmdT/8z+P8xdC0nM2vQ/gB+bxBwmAEBuoWQPmov6PzQra55MKAFAtwBkwKoyAEAE9Ssopw37P0y8SdsBIgVAUKpm01f4AUBVTdbTaKkHQBTcCBKzuQNATuPLBwiW+j/6V2CL/YIAQDe1Qh61NQNAbbV21UT/+T+dZ953uDP/P0hM2Ow7tAJAymzn3FDE+z+d3G7TO2X6P8egS+vFGgRAFKoxotXzAUCUmCHIdm8CQEJNt8V6gQlAyG3oehssAEBYtADw1iL7P0a627Uji/g/3F10MIbi+z/UyeZIOQX/P+ThXrNqIvE/yfzhkFQoBECchukuYzsEQDoYWzu6WQRAEdMHibh6+D9NO6Iihhn3P9CrTUt1ZvY/6K+oYmI7AkCwqucarCj/PxgL1LBPq/0/bwrPUvlIAkB17loF4W0AQNBFLCS51P0/p+/ywJm+/z+5C+POs/EAQCfbjH/BA/o/9M6NMLNb/z/2ZYGmiLv+Py99QoNExfo/7KNOTDuA+T+Af4eSjZT3PyHvWgneQgBAigaqA71H9j9KLAfrUHn+P1JZYEuW2PU/ojWOva5Y4z+Jjy88tcP6P5V/9kHTmARA4HXch6QP9D9qnFeVZyAEQFIZnbTjzfE/2YZ3e2KTAEDxGrPERmQBQNns3/2OAQJAerjx0E+hA0BqyXJDeLLvPzLSOomcjQBAwb4hpMAABEBSsuwcGFb3P8I61TyN//U/gUGO7EZ7AkCN2CFiwdL/P15+Oj20nfw/ep6Rfff/9z/ICEUqtsT6P9h7EC9n4fY/I0L3loIhBUC+moL+dJn6P58xRY1QNgFACN8MmK6z8T/cuy8zoGEJQKM96+6VPANA7DAQvCv3AkCMrpL0ZzwAQO/XYCuVoQJAoRG3pPsk/T+cbdjcWhUGQHZ0Id38hPc/Nz0bmh+rAEDcL7xGpCf4PxMFulgyof4/TKTdXT149z/MrdBxXa/6PwR4Gbpxv/s/QppbhIZi/D9RV+qiq235P3r/E7Z/bfk/Kk9ZKXAd9D92jYQyNpn3P01KA1RNiARAchue8qwNAECzGyKYnegCQAbCQeTluAFA78o45Q6K/D8PgrvSKGMAQFq68FJHowJAEr0EcismAUDsPuaBYWABQPLq5oiQDAJA8mYLzlWyAUAboVhTPIv8P6AFitvPMARARgb6WyOp+D/DpTtUxVgEQHl2DGQKawFAQy8t5AV99z/eoSh/3r3/P/asJI536vw/wKy2LY6gBEDFpMrsbXMCQBg37n4b8/g/YqBe3Qp0A0BhbKzZRQv7P3j3LN1OivE/JmEqjfPeBUDUzDcvF2AEQHhCY3uPXgBAdieKL9MzBUC9MnacYGH+P7YkwgGLavU/QtdK6tmGA0CQBb3itWIEQD0OZNW4VAJA2DA3FNBD/z904rYNQzMGQDqRSRO7ggVAmgmxA/sGAUAUZ4txWbj2P3KkCymWzgJA4QyX5ty8+j/A4FXSygwAQHD9W4XtHAVA+ftOxcDsAUCJa8LOfIv/P0GDe984RfI/0DH8+OlE/T+hjzxVGG0AQM4zG6ERhwVAGEbXSreW/D8MxWNfDcHvP7oVCtzh1gNAA0nYEy8a+j/hz2ELA5gAQH+U5fCxCPU/174lOSujA0DfzGrAnR8AQBlFliQC7PQ/QBjp9kgJ/T+tcqvh9vYCQLQkE16vWQFAvwUpVlHCAUBqrRCMyNf6P8FcxJdgZfg/tAuucvDB+D/7zyAiL7H5P9BUdcAEDAdAPts4+IM18z8IyheiVL75PyKp2tc0rQBAvGiJ5mNBBUDwOev92oUAQCLxL6Rdkvw/q6blZZUSB0B2IwZMJ1UEQEvVRD3nwABA7liqxewmA0Bu9eU3LkEDQDg6DG2q4vw/fs4Uu06h9T9WwiD5YcgDQGjNFWGyEwVAl7JmC5d1/D+0+5+gS5z/P0untV/BEQBA4EUCPlUE9z/k61zi7wP+P5rdTTfIOPo/qHh/DDck9T9mrLF1snP5PzHEq99U/wVAL4nJuPv8+T8+SpRKOWT1Pz95M7iCR/4/vOBL/dul1z9nvtNy7Iz4P2Z6t/AxawNArPkYlese/T+QRhA0qlQGQBVR3iNqzwBA8Amfbm1PBEBDavdDxHX9P9v3qOHkBgBAykpel2548T+0vsM5rZv8P+TbuXekXv4/gCFYo4mFBUCOZLS1MakAQLoUvwRJ3/k/2gsxkap7AEASEq8X0mgFQGRiNtzewABAuPlmJILR9D8KDrBJopAEQB25iJgcl/4/kDVPFjXn9z81OZp54XMHQKEIqsn9f/w/DmOS6AvHAUCK1TiwWfD5P+uyDZLKwvw//+GWqaaKAEAS6Q+fw3n9P0E8/1Qr1PE/bvfPOz4b/z/CCDkuUUEAQHjyR7yOJ/c/Th3RnIOu/z/lJ0t0V74DQOiUaNMtQP8/mz1nCgwy9j8aub5USNLwP2lEwHFwiPw/3CdHBaOt/T+y16KYta7+P0Z3Xz+A8v0/vEtvbnYa8j/e3fxWFdIIQIC6rZ9tggdAdPHj76t0+T/tOU6tJRcDQNwa4WYtl/0/NpCIKH+E8z8bOaCLxz4BQG5Feax3xvo/9aQXbmf49T+Nyvb51zMEQI0xHiTH9f4/gTBpz9hhAEADhr9ZnE8AQFV4aSR8KQdACn2SoVkb+D84ZE6Dxu/0P67+T69dV/s/Q2aFxUNIAEAbNos1BOP7P7DgkGqnYwBAtCRTJKCO9z9E+JFAVY8EQFcaTeBYmP4/MOhfv8iR/D9Izz5v5dP/P97KeLA4jwFArscCqszo/T/ConJ4tFX7P1/11HBXbQFA0UQ0I4Df/j8JdJ8RXM0GQNfht8KvOgJA6RlFrQlr+D+1kwVh8eb0P7oHW3yXwfs/AA1bYrg8/z+esqJzXwL/P/cRslIptwZA3Hg0rXUi/D/OF6Eo78QHQIiwN5OhZAdAtmxeeoa/8j8PTo5TuJAHQKU9XRNFXP0/tUfzfyd/AUAq1pxCi1T2P18Sdxzldf8/KXJJ24M8/j8UIS/2P3QCQFyPgyhysQFAqcrzW1Gu9j+Lp3qLr7cCQBZ8oESv8ARAxEVxIbjt/T8nMwl9jjgAQDoG8NW3pQJAI7GoshHMAkB9SQZF3B0AQKw4fIIwsPY/Qq5AgnwOA0AQnRQXZWACQMDHYDoByABA5pgCZeLTBkBcer1LnAYAQFQ8JxMpBQJAAeiC0AOe/T9pzD3btrb3P7aVcRvd7QFAcKlsi4iy/j+EiC3HnpQDQFiXQJ9/tANAcnNg8BvW9z927w6XYnf7PwR7fV/dFvc/MAF2Bt49+j9Mn7RTefj/P6nYPCO5rfc/zHbnG+x1/z83oLW4yDwEQC6fs6iHuABAGukSb1ut8T8TRwfGgjH9P/R/qZg3Q/4/oPMQliR3/z/nzw6nel0IQHhNE/teLgRAGCuqFSraB0Banne3hCX/P7al/+SgXvg/WLQjOoO0/D8g+wmG8lT4P0e7fzWNjvM/IutfFlShBkDcn+LgVvMBQAtmwIz0/QRA2hKuM7E/+z/FGIASe4UAQHK2/1+kCvM/6An0Xw4mA0CN1khQGmgDQP/kSXXusQRAFPJLjfaJA0DPeuv0f70AQDeiibIXkARA0DYeNXhfA0B+8mQ6JeQDQP5jxUjduvs//NHoI3ia+T+mP83uts8BQAU1NBoS2f0/P+ZE+AIZBkCg39vBfw8FQGSO2PrNkQZAPZMVJGRY+j/6vQszduf6P0BLLN+G8vo/6OKHkXu9AEADqUXgABn6P2RVdX3nMPI/e6ISMAjXA0CfG+xl1EPzP7IBZJrB6uk/htsYSlbn/j8I+sgzZBgGQEYuLqDZPANA2hYVLkyZA0CWTX9dciz5P8nItTsHGgRA/qSzcZ0x/T87ddHSrNcEQGQg3yDptgBA+KRiTpw+/z+aNbzqDKz8P4DugVunawFA7rNPU4Zh+D8YhXiw88gCQPvHOJuGkQFAXWok2jMCAUD6+2z+No/4PwIVFOYRf/s/ZDIzcHqH/z85NuqhQccDQERGeg0NGvA/tTzmw1TK/D+lCfd4ENnyPzsudVpTVgFAS+QY405d/z/+cT2juR4EQF1WYIGVugFAh4MjTIi4AkDjOUFlMDj9P1cy45z2uwBA5QlDiaOD9z/JL+teGJ7wP5LVCLT74v4/bL7j7w5R/T+4EL6AKJEAQLofmgtkLwFAXtedgKZhAUBS3L4I/YYBQPqFYI9CeP0/77BkmT7e+D9CnCUwtV0CQIil4V8rcPo/dek716lIA0CX5zwtZ1v7P3CI0msprAFAQYsHVZ/g+T+j/eGS3Nb+P3IDhPfHtQlAbntcfl7H/D/rNOtVEt8EQIpKjfTVGgFA3Z46a5+iAEAQd0mhXYP+P/9RJu/MC/Y/1p1mSR6L7T8rZ+wL2pIAQNxI9AH3uARA7ESi7WlVA0BXXGy/+Hj+PzQOMKcSXfM/YLjr7IJIBkCjdV9AqKv+PxRC24zTy/s/+bmynM7VAkAvt1q3g/n5P8HDskHveAVAROmsP4iR+z8GctoepR8EQNzdjvzLuwdALNruz9GKAEAepHAFgmkCQGY6n0Dm3PE/vnYP9Tg8BECAP2/BK0r9PyWxnJEnAQhAXBQdMOcd/j9fQjp4Qvb8P5/kjaJH3fY/+OL7zgP2A0BAFILIlSQEQEExRwInbAdA3VSpj7ybAUDSBiNMIwH5P1F0p0JHbgJAPtBlxaV1BEB32LoeNL8EQJPW4SamoQFAYBbBDKmI/D+dvJ9ZFrkDQIuaIQD48AFAvruHH9+0BUAIcT0ef+7+PyBiqYEnHfw/nMb+/R5K/T9pDEQ8dH4AQF5tpAe/0f8/4tZF+meyBUAIuWJ9JUzuP7kwLe3+TgFAWHV72kWp9z/wp5Kx890EQB9vkaEqmAFAvOcJWN/k/j8Z19+eC/35P6bFp7GZIwNA5G9G2eQjBkB/Wfj9mlf2P2F1Km19gwNAMO3iUgPkAECOR0XmLS0EQNHKaa0VrQZA+SqKSe/m/T/z1otPeo/+PxB418s2twFAf9F7hZT5/D+E+f7x9wb8P2ydtlRPrvY/17/sf0prAkA+XdZX5Mj/P4KBCBgh0ec/EmlB3jfeBkByM/3xyRsFQDHWouveL/s/ivJypOn6AEBmZILqmN73PxOLUYyygwBAtwcEg79z+T+Wep9RxboBQC+zFSgMAPc/jkhzG/XK/D9u67nqp+P8Px5GEiLI2gFAAiUT3kvu9T/StCPRmtbzP6D5ucgamAZA0hBWlayj8z/gXPRrJMH6PwwS3IXB4fo/aQvPD0qV/z80BawvUCj8Px29NWyiVgRALSr5WjnR/z/qALhlGUUBQL9/2TaSVgdAAjKktQzCAEAyoywn+sACQBe6UEyUowFAU0I5gePT/z8ypDaXnib0P9LlvVZgdvE/79nAj3vr+j9dUdAyJ4H+P+8XzzF4pPw/VuiqDGVD/D/J002oMd/7P/xiiJvHAwNAnHXjw0MWAUC6OEoV3lL2P9lrqYivkAhASErR5pd79z+iZMDI8eb/P8DEb0b+P/w/UlDkkK4HBkBNcuO/ftwDQG8hG0hV5QJAGkTYwpl2AECu5FIDYnv5PwFjiLdGyARAgsOoG81LAUCA43oLToDwP6S0XZvIO/0/4rawjgXk/D8jQxkHbAsDQMqLZkQxrf8/7Y5EaGO0BEC7vAtmufX6P7x+vQusagJAjryQ5hZNA0At+jt8a5gBQGJhIiQ4zwRAwBQN7yAbBUD+dAfvzfz/P1WzLlTLK/Y/lXSaI7bk+j/g+i24tRYFQCwX56eqFf8/imjWsVIZ/D/oD4lwZhn1P0q/4t14wv4/ROEGZ8LFAkD6Te74jmwGQO1YvtBRTANAHNjyuaTf9z+EWw+ZXhYGQKyH3jwtNv0/4NHSEwIp/j82Y1GiHzYHQK0q01FOBf4/aBVKD8PKA0CWTM23krMBQKZ7eNlBzQJAAjPNmOZK9j8LghXimhz+P7Jm5nMaawBAYZeW1VUsAEChkDV46/T+PxhD+HVRvANAW1YV+BD9AEBSPZTwGAsHQDkwFnnzSAFA1D94ikQyBECyckMT7LP3Pw6A70U+QQhA/Etuxv6A/D8A7tNU9AQDQO34gGpLBf8/wTxvdHHCAkBZxHyAxtICQFBuMVvfRgBAgN24r2kIAkBHm+dajzcBQLJg7IrcPABAXNRkbm1u+T/bZupaRVEAQGBbUEovP/U/vwrjPBrQ/T+aXqqTxk4AQEliLt/BYABAdSGwgH6mAkDvPSNku0r5P5e999c3VwBAaiAuxPYDAEAHIFdGf68FQBXKRCjMU/k/x00EnJ83/T+mVYrg5voDQEYSahsw5gFATdvYywndAEBznbB77r8AQKvesJLEsQNAVB+PeHTKAUCLHGduy94BQJpnIsqoHwZAtMX8NFAQAUCKTt0GJLb6PwdAtxQ0cwdA6C8YwD+Z/D8zKgChUgwAQENhcFEbDQFAWRR2RqqyAEBoaWgfvfX1Pz0URYm+LQVAVgXkJEVNCUBng/qGEdL2P7uhla6ojQNAnAPcI6gV9D88he8a83j9P1NhTGcsighAZXcWcS/hAECgmO+RuCcBQKTPCyyuI/s/WdbWfk5JAUDO8k92M1gFQCYW4QtnHwRAJ0WKJ/gW+j9AtiuneBb6PxSjr6eyxfw/VhdoYKEiCUDFsIXpAOkAQAQXES2yL/s/UgHop+Zm/z8gcgCAHr/8P/qVDmBZKgJARFJ5L/DzAUBhzDsNh9oDQP6Wy4OQTPQ/BKZCP05Y+D/lP6xW5l3yP9xXNUT/9gdAKQ/o7q2/AUA/dAxGCogHQKYIUXn7ev4/pn8CCrtXAUAG8s0iZokCQKpzwFm3Ofc/5jqHkRYv+z+h82QzXT0BQHAQfUZTsvo/s0I5roejAEA0V4zpvlYDQLivt+HrcQZA3dWtA94ZAEBGEIVTUSntPx2rJU0v2gRAZnRGCs726T/2NIJM6x8BQDzDkMFaAwNAmM/bFURR/z9r2lIxj03yP/zrcCLiyf0/u3QT6h/SBkAGA3LRWyX9P2XBPwBXxQFASNMGEHQ18z8EUKe02AH0P7Nks8GeKQJAEQY2n1cT+z/gjo/ZtKj0P83d3JEOdARAHNN8qq1y+j/ArTyEE7IAQKT32EqOWgJAqVI1LS6q+j9UTudO0zMFQGbiktKMTQFApkp4XKqx+T/Nb2PBvugEQKTc0x9/3fs/ZGZa5ZQDAUAKKS9aAYQBQGwm/cvmYv4/TpQGx5lf+z+lolVxj1oEQHcJnQ28qwVAfD3qW9zw+z/X12RmRJQBQBSTz/uOKgNABHyMvrNq/z+ugGAqXJH1Py+dhdVfsPw/glcmVIpcAECUwE5LjAL3P9IPRWGafv0/3mQ6SbRR/j9XHTbN8R0AQESqths9J/o/5ttMaF+/AUDqVPEhGSQDQET9SRQQufU/6C6X7OG/+D+GpARDu2/2Pzpu0YUpPPg/qrqrVtph+j9b95sBEeD/P/oigu2v/gFAqbBuUbV+BEBu32dLLwQAQJBJFyeuNgBAzttAk26x/T/iNIlC/73yP3nq/0uqvAJAA5JSfwlK/z9MRKcs/TIBQIY3je21NgFAmPO55fKxB0Ba2ysMbd8BQABFYn3PVwNA4nV3QTx67z+qUjlymVj4P/20Jc8mqvk/lVRdlojh+j/CMmenK0cEQDvQ2Gsa/fk/1Li1zsOtAkAj55e/kvACQNBhGv+mmQJADyIuR0fn/j8MS4BlWJ34PwAw40Rpjf0/NjLKzRT3AUAEU7e6To8JQNT9IirQNPo/en3TDOJ2/D+K4K2sClv7Px7IStSglwBAHfT5fyAd/j9iOLEQPQH2PwgAStq3AAVAOnXnmuvXAECyDBiH4WIAQCRjhoy9G/w/yv47c4fP/D+5/A6RTo4CQMVYXJHppwRAI+nei9YnAkDfpj/7hGv8Px6rIBs7XQNAtTfw+LdEAUDNx+cYyz/7Pzt5Gj/5gQZALms3cwtI9z+CST1PnUTxP6Ugo3Bf4QBAJdByhD5U9j+wWej+/V33P2sqeb22RgdAMEgOTvLu/D+Mo85gF9MDQCh6wLwjGQFA3fY+IkGG9T8U9m4u19cFQDubvPc43AVAOpeZG0O9AUB0WjxMBGT4Pw3ZZfzFywZAmAMfIYbJ9T+tjODf+6MJQPHmUBdw5/k/DqEPV/kYAkBUV/qA29/9P3ihcuMO3PU/c+awo8DoAkDCtTwUzJn6P+IbgyuoRfw/ZWPnb+S8AkBoMEdOo+b2P/6/14jFZgBAp3mP17Ya/D+8UpGGBZ73P7BKOoMKwPw/1AhXRUqP9j9wmEYikb70P0qRQTCWs/c//5lr9R7NAEB6ea3MO9UBQHzmQdHdO/A/29PnGHKU/D/9qdj12M8GQDTFzYLTjvo/LvQ+8cUZAEAHZ1tjprr9P4cU6AX43QBAvS8/POmD/T9xGAwDOnAJQJ0Jmg3EjwFATLMhqrAu/T82Nh3htnT4Pz1c7Qd13wBAo42SIEs2AkAYTuNYFYoOQD8liNayiPY/nrM6tfFWAkBKeUsFWSACQFKPfuTD4/o/YesR2bd7AEC+VBiW6Uj2P/JikphG3v0/gCiAUPc5A0CbCn3V67MBQPAXkZrdPAJALUvgQGew/z8VY9xpLh0CQMQdNN9Ogv0//VqybcKMAkCiQTzLhXECQAIkU7btawFAlIcNysizAkCoBQEQfvzyP190MUyldAJAEbFLsl5SAUArpQSiLTX/P9qirg/eKvg/yDQYsGNG9j/OFBYz1WcBQEW2G3gKfQBAo0C9uMl5AkBmW498RirvP+VEDe4fIQdAIbG8QSr1AECGP/JbXMgFQLJRm4pGhvQ/KzKArPvsAEBe9PL3/foBQPJgb4TVxwJA2LsKXvoNAEBeOSJWtbbyPz+oSYxrMP8/u33+8k+YAkAlKEE559YDQGmg8PYK6ANABGmY+gqNAkB4gY9xFXf+P9+eZgagKgJAdhy9DP/h/D+k+lL2SlYEQPwjW/XF4fI/WmzOOgIeAkA/AXpStT4BQBhuf2Q6H/8/p4j8qwZTAkCVcjKZXOIBQFXV4zS+UQFAMCDXznGhAUD2pBuHprL/Pw==",
          "dtype": "f8"
         },
         "yaxis": "y4"
        },
        {
         "marker": {
          "color": "blue"
         },
         "name": "Normal Scores",
         "nbinsx": 30,
         "opacity": 0.7,
         "type": "histogram",
         "x": {
          "bdata": "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",
          "dtype": "f8"
         },
         "xaxis": "x5",
         "yaxis": "y5"
        },
        {
         "marker": {
          "color": "red"
         },
         "name": "Intrusion Scores",
         "nbinsx": 30,
         "opacity": 0.7,
         "type": "histogram",
         "x": {
          "bdata": "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",
          "dtype": "f8"
         },
         "xaxis": "x5",
         "yaxis": "y5"
        },
        {
         "line": {
          "color": "blue",
          "width": 2
         },
         "mode": "lines",
         "name": "Precision",
         "type": "scatter",
         "x": {
          "bdata": "AAAAAAAAAMDByyl4OQX/v4OXU/ByCv6/RGN9aKwP/b8FL6fg5RT8v8b60FgfGvu/iMb60Fgf+r9JkiRJkiT5vwpeTsHLKfi/zCl4OQUv97+N9aGxPjT2v07Byyl4OfW/EI31obE+9L/RWB8a60Pzv5IkSZIkSfK/VPByCl5O8b8VvJyCl1Pwv6wPjfWhse6/MKfg5RS87L+yPjTWh8bqvzTWh8b60Oi/uG3btm3b5r86BS+n4OXkv7ycgpdT8OK/QDTWh8b64L+El1Pwcgrev4jG+tBYH9q/jPWhsT401r+UJEmSJEnSvzCn4OUUvMy/OAUvp+DlxL+QxvrQWB+6v0AFL6fg5aS/AAUvp+DllD9ABS+n4OW0P5AkSZIkScI/gMb60Fgfyj9ANNaHxvrQPzgFL6fg5dQ/MNaHxvrQ2D8wp+DlFLzcPxS8nIKXU+A/kCRJkiRJ4j8QjfWhsT7kP4z1obE+NOY/CF5Owcsp6D+IxvrQWB/qPwQvp+DlFOw/gJdT8HIK7j8AAAAAAADwPw==",
          "dtype": "f8"
         },
         "xaxis": "x6",
         "y": [
          0.8780487804878049,
          0.8780487804878049,
          0.8780487804878049,
          0.8837209302325582,
          0.8888888888888888,
          0.8979591836734694,
          0.9090909090909091,
          0.9206349206349206,
          0.935064935064935,
          0.9302325581395349,
          0.9340659340659341,
          0.9423076923076923,
          0.9482758620689655,
          0.9523809523809523,
          0.9548872180451128,
          0.9574468085106383,
          0.9605263157894737,
          0.9629629629629629,
          0.9644970414201184,
          0.9649122807017544,
          0.9664804469273743,
          0.9623655913978495,
          0.9635416666666666,
          0.9587628865979382,
          0.9545454545454546,
          0.9502487562189055,
          0.9504950495049505,
          0.9420289855072463,
          0.937799043062201,
          0.9252336448598131,
          0.9128440366972477,
          0.8844444444444445,
          0.8577586206896551,
          0.8122448979591836,
          0.7713178294573644,
          0.6172839506172839,
          0.40816326530612246,
          0.24691358024691357,
          0.1646090534979424,
          0.12077294685990338,
          0.0946073793755913,
          0.07861635220125786,
          0.06856359273225918,
          0.06108735491753207,
          0.05592841163310962,
          0.05312084993359894,
          0.05148005148005148,
          0.050352467270896276,
          0.04940711462450593,
          0.04880429477794046
         ],
         "yaxis": "y6"
        },
        {
         "line": {
          "color": "red",
          "width": 2
         },
         "mode": "lines",
         "name": "Recall",
         "type": "scatter",
         "x": {
          "bdata": "AAAAAAAAAMDByyl4OQX/v4OXU/ByCv6/RGN9aKwP/b8FL6fg5RT8v8b60FgfGvu/iMb60Fgf+r9JkiRJkiT5vwpeTsHLKfi/zCl4OQUv97+N9aGxPjT2v07Byyl4OfW/EI31obE+9L/RWB8a60Pzv5IkSZIkSfK/VPByCl5O8b8VvJyCl1Pwv6wPjfWhse6/MKfg5RS87L+yPjTWh8bqvzTWh8b60Oi/uG3btm3b5r86BS+n4OXkv7ycgpdT8OK/QDTWh8b64L+El1Pwcgrev4jG+tBYH9q/jPWhsT401r+UJEmSJEnSvzCn4OUUvMy/OAUvp+DlxL+QxvrQWB+6v0AFL6fg5aS/AAUvp+DllD9ABS+n4OW0P5AkSZIkScI/gMb60Fgfyj9ANNaHxvrQPzgFL6fg5dQ/MNaHxvrQ2D8wp+DlFLzcPxS8nIKXU+A/kCRJkiRJ4j8QjfWhsT7kP4z1obE+NOY/CF5Owcsp6D+IxvrQWB/qPwQvp+DlFOw/gJdT8HIK7j8AAAAAAADwPw==",
          "dtype": "f8"
         },
         "xaxis": "x6",
         "y": [
          0.18,
          0.18,
          0.18,
          0.19,
          0.2,
          0.22,
          0.25,
          0.29,
          0.36,
          0.4,
          0.425,
          0.49,
          0.55,
          0.6,
          0.635,
          0.675,
          0.73,
          0.78,
          0.815,
          0.825,
          0.865,
          0.895,
          0.925,
          0.93,
          0.945,
          0.955,
          0.96,
          0.975,
          0.98,
          0.99,
          0.995,
          0.995,
          0.995,
          0.995,
          0.995,
          1,
          1,
          1,
          1,
          1,
          1,
          1,
          1,
          1,
          1,
          1,
          1,
          1,
          1,
          1
         ],
         "yaxis": "y6"
        },
        {
         "line": {
          "color": "green",
          "width": 3
         },
         "mode": "lines",
         "name": "F1-Score",
         "type": "scatter",
         "x": {
          "bdata": "AAAAAAAAAMDByyl4OQX/v4OXU/ByCv6/RGN9aKwP/b8FL6fg5RT8v8b60FgfGvu/iMb60Fgf+r9JkiRJkiT5vwpeTsHLKfi/zCl4OQUv97+N9aGxPjT2v07Byyl4OfW/EI31obE+9L/RWB8a60Pzv5IkSZIkSfK/VPByCl5O8b8VvJyCl1Pwv6wPjfWhse6/MKfg5RS87L+yPjTWh8bqvzTWh8b60Oi/uG3btm3b5r86BS+n4OXkv7ycgpdT8OK/QDTWh8b64L+El1Pwcgrev4jG+tBYH9q/jPWhsT401r+UJEmSJEnSvzCn4OUUvMy/OAUvp+DlxL+QxvrQWB+6v0AFL6fg5aS/AAUvp+DllD9ABS+n4OW0P5AkSZIkScI/gMb60Fgfyj9ANNaHxvrQPzgFL6fg5dQ/MNaHxvrQ2D8wp+DlFLzcPxS8nIKXU+A/kCRJkiRJ4j8QjfWhsT7kP4z1obE+NOY/CF5Owcsp6D+IxvrQWB/qPwQvp+DlFOw/gJdT8HIK7j8AAAAAAADwPw==",
          "dtype": "f8"
         },
         "xaxis": "x6",
         "y": [
          0.2987551867219917,
          0.2987551867219917,
          0.2987551867219917,
          0.31275720164609055,
          0.32653061224489793,
          0.3534136546184739,
          0.39215686274509803,
          0.44106463878326996,
          0.51985559566787,
          0.5594405594405595,
          0.584192439862543,
          0.6447368421052632,
          0.6962025316455697,
          0.7361963190184049,
          0.7627627627627628,
          0.7917888563049853,
          0.8295454545454546,
          0.861878453038674,
          0.8834688346883469,
          0.889487870619946,
          0.9129287598944591,
          0.927461139896373,
          0.9438775510204082,
          0.9441624365482234,
          0.949748743718593,
          0.9526184538653366,
          0.9552238805970149,
          0.9582309582309583,
          0.9584352078239609,
          0.9565217391304348,
          0.9521531100478469,
          0.9364705882352942,
          0.9212962962962963,
          0.8943820224719101,
          0.868995633187773,
          0.7633587786259542,
          0.5797101449275363,
          0.39603960396039606,
          0.2826855123674912,
          0.21551724137931033,
          0.17286084701815038,
          0.1457725947521866,
          0.12832852101379533,
          0.11514104778353483,
          0.1059322033898305,
          0.1008827238335435,
          0.09791921664626684,
          0.09587727708533078,
          0.09416195856873823,
          0.09306654257794322
         ],
         "yaxis": "y6"
        }
       ],
       "layout": {
        "annotations": [
         {
          "font": {
           "size": 16
          },
          "showarrow": false,
          "text": "One-Class SVM Decision Boundary (2D Synthetic)",
          "x": 0.225,
          "xanchor": "center",
          "xref": "paper",
          "y": 1,
          "yanchor": "bottom",
          "yref": "paper"
         },
         {
          "font": {
           "size": 16
          },
          "showarrow": false,
          "text": "Network Intrusion Detection Results",
          "x": 0.775,
          "xanchor": "center",
          "xref": "paper",
          "y": 1,
          "yanchor": "bottom",
          "yref": "paper"
         },
         {
          "font": {
           "size": 16
          },
          "showarrow": false,
          "text": "Parameter Tuning Performance Heatmap",
          "x": 0.225,
          "xanchor": "center",
          "xref": "paper",
          "y": 0.6111111111111112,
          "yanchor": "bottom",
          "yref": "paper"
         },
         {
          "font": {
           "size": 16
          },
          "showarrow": false,
          "text": "Equipment Fault Detection by Sensor Type",
          "x": 0.775,
          "xanchor": "center",
          "xref": "paper",
          "y": 0.6111111111111112,
          "yanchor": "bottom",
          "yref": "paper"
         },
         {
          "font": {
           "size": 16
          },
          "showarrow": false,
          "text": "Decision Score Distributions",
          "x": 0.225,
          "xanchor": "center",
          "xref": "paper",
          "y": 0.22222222222222224,
          "yanchor": "bottom",
          "yref": "paper"
         },
         {
          "font": {
           "size": 16
          },
          "showarrow": false,
          "text": "ROC-Style Performance Analysis",
          "x": 0.775,
          "xanchor": "center",
          "xref": "paper",
          "y": 0.22222222222222224,
          "yanchor": "bottom",
          "yref": "paper"
         }
        ],
        "height": 1200,
        "showlegend": true,
        "template": {
         "data": {
          "bar": [
           {
            "error_x": {
             "color": "#2a3f5f"
            },
            "error_y": {
             "color": "#2a3f5f"
            },
            "marker": {
             "line": {
              "color": "#E5ECF6",
              "width": 0.5
             },
             "pattern": {
              "fillmode": "overlay",
              "size": 10,
              "solidity": 0.2
             }
            },
            "type": "bar"
           }
          ],
          "barpolar": [
           {
            "marker": {
             "line": {
              "color": "#E5ECF6",
              "width": 0.5
             },
             "pattern": {
              "fillmode": "overlay",
              "size": 10,
              "solidity": 0.2
             }
            },
            "type": "barpolar"
           }
          ],
          "carpet": [
           {
            "aaxis": {
             "endlinecolor": "#2a3f5f",
             "gridcolor": "white",
             "linecolor": "white",
             "minorgridcolor": "white",
             "startlinecolor": "#2a3f5f"
            },
            "baxis": {
             "endlinecolor": "#2a3f5f",
             "gridcolor": "white",
             "linecolor": "white",
             "minorgridcolor": "white",
             "startlinecolor": "#2a3f5f"
            },
            "type": "carpet"
           }
          ],
          "choropleth": [
           {
            "colorbar": {
             "outlinewidth": 0,
             "ticks": ""
            },
            "type": "choropleth"
           }
          ],
          "contour": [
           {
            "colorbar": {
             "outlinewidth": 0,
             "ticks": ""
            },
            "colorscale": [
             [
              0,
              "#0d0887"
             ],
             [
              0.1111111111111111,
              "#46039f"
             ],
             [
              0.2222222222222222,
              "#7201a8"
             ],
             [
              0.3333333333333333,
              "#9c179e"
             ],
             [
              0.4444444444444444,
              "#bd3786"
             ],
             [
              0.5555555555555556,
              "#d8576b"
             ],
             [
              0.6666666666666666,
              "#ed7953"
             ],
             [
              0.7777777777777778,
              "#fb9f3a"
             ],
             [
              0.8888888888888888,
              "#fdca26"
             ],
             [
              1,
              "#f0f921"
             ]
            ],
            "type": "contour"
           }
          ],
          "contourcarpet": [
           {
            "colorbar": {
             "outlinewidth": 0,
             "ticks": ""
            },
            "type": "contourcarpet"
           }
          ],
          "heatmap": [
           {
            "colorbar": {
             "outlinewidth": 0,
             "ticks": ""
            },
            "colorscale": [
             [
              0,
              "#0d0887"
             ],
             [
              0.1111111111111111,
              "#46039f"
             ],
             [
              0.2222222222222222,
              "#7201a8"
             ],
             [
              0.3333333333333333,
              "#9c179e"
             ],
             [
              0.4444444444444444,
              "#bd3786"
             ],
             [
              0.5555555555555556,
              "#d8576b"
             ],
             [
              0.6666666666666666,
              "#ed7953"
             ],
             [
              0.7777777777777778,
              "#fb9f3a"
             ],
             [
              0.8888888888888888,
              "#fdca26"
             ],
             [
              1,
              "#f0f921"
             ]
            ],
            "type": "heatmap"
           }
          ],
          "histogram": [
           {
            "marker": {
             "pattern": {
              "fillmode": "overlay",
              "size": 10,
              "solidity": 0.2
             }
            },
            "type": "histogram"
           }
          ],
          "histogram2d": [
           {
            "colorbar": {
             "outlinewidth": 0,
             "ticks": ""
            },
            "colorscale": [
             [
              0,
              "#0d0887"
             ],
             [
              0.1111111111111111,
              "#46039f"
             ],
             [
              0.2222222222222222,
              "#7201a8"
             ],
             [
              0.3333333333333333,
              "#9c179e"
             ],
             [
              0.4444444444444444,
              "#bd3786"
             ],
             [
              0.5555555555555556,
              "#d8576b"
             ],
             [
              0.6666666666666666,
              "#ed7953"
             ],
             [
              0.7777777777777778,
              "#fb9f3a"
             ],
             [
              0.8888888888888888,
              "#fdca26"
             ],
             [
              1,
              "#f0f921"
             ]
            ],
            "type": "histogram2d"
           }
          ],
          "histogram2dcontour": [
           {
            "colorbar": {
             "outlinewidth": 0,
             "ticks": ""
            },
            "colorscale": [
             [
              0,
              "#0d0887"
             ],
             [
              0.1111111111111111,
              "#46039f"
             ],
             [
              0.2222222222222222,
              "#7201a8"
             ],
             [
              0.3333333333333333,
              "#9c179e"
             ],
             [
              0.4444444444444444,
              "#bd3786"
             ],
             [
              0.5555555555555556,
              "#d8576b"
             ],
             [
              0.6666666666666666,
              "#ed7953"
             ],
             [
              0.7777777777777778,
              "#fb9f3a"
             ],
             [
              0.8888888888888888,
              "#fdca26"
             ],
             [
              1,
              "#f0f921"
             ]
            ],
            "type": "histogram2dcontour"
           }
          ],
          "mesh3d": [
           {
            "colorbar": {
             "outlinewidth": 0,
             "ticks": ""
            },
            "type": "mesh3d"
           }
          ],
          "parcoords": [
           {
            "line": {
             "colorbar": {
              "outlinewidth": 0,
              "ticks": ""
             }
            },
            "type": "parcoords"
           }
          ],
          "pie": [
           {
            "automargin": true,
            "type": "pie"
           }
          ],
          "scatter": [
           {
            "fillpattern": {
             "fillmode": "overlay",
             "size": 10,
             "solidity": 0.2
            },
            "type": "scatter"
           }
          ],
          "scatter3d": [
           {
            "line": {
             "colorbar": {
              "outlinewidth": 0,
              "ticks": ""
             }
            },
            "marker": {
             "colorbar": {
              "outlinewidth": 0,
              "ticks": ""
             }
            },
            "type": "scatter3d"
           }
          ],
          "scattercarpet": [
           {
            "marker": {
             "colorbar": {
              "outlinewidth": 0,
              "ticks": ""
             }
            },
            "type": "scattercarpet"
           }
          ],
          "scattergeo": [
           {
            "marker": {
             "colorbar": {
              "outlinewidth": 0,
              "ticks": ""
             }
            },
            "type": "scattergeo"
           }
          ],
          "scattergl": [
           {
            "marker": {
             "colorbar": {
              "outlinewidth": 0,
              "ticks": ""
             }
            },
            "type": "scattergl"
           }
          ],
          "scattermap": [
           {
            "marker": {
             "colorbar": {
              "outlinewidth": 0,
              "ticks": ""
             }
            },
            "type": "scattermap"
           }
          ],
          "scattermapbox": [
           {
            "marker": {
             "colorbar": {
              "outlinewidth": 0,
              "ticks": ""
             }
            },
            "type": "scattermapbox"
           }
          ],
          "scatterpolar": [
           {
            "marker": {
             "colorbar": {
              "outlinewidth": 0,
              "ticks": ""
             }
            },
            "type": "scatterpolar"
           }
          ],
          "scatterpolargl": [
           {
            "marker": {
             "colorbar": {
              "outlinewidth": 0,
              "ticks": ""
             }
            },
            "type": "scatterpolargl"
           }
          ],
          "scatterternary": [
           {
            "marker": {
             "colorbar": {
              "outlinewidth": 0,
              "ticks": ""
             }
            },
            "type": "scatterternary"
           }
          ],
          "surface": [
           {
            "colorbar": {
             "outlinewidth": 0,
             "ticks": ""
            },
            "colorscale": [
             [
              0,
              "#0d0887"
             ],
             [
              0.1111111111111111,
              "#46039f"
             ],
             [
              0.2222222222222222,
              "#7201a8"
             ],
             [
              0.3333333333333333,
              "#9c179e"
             ],
             [
              0.4444444444444444,
              "#bd3786"
             ],
             [
              0.5555555555555556,
              "#d8576b"
             ],
             [
              0.6666666666666666,
              "#ed7953"
             ],
             [
              0.7777777777777778,
              "#fb9f3a"
             ],
             [
              0.8888888888888888,
              "#fdca26"
             ],
             [
              1,
              "#f0f921"
             ]
            ],
            "type": "surface"
           }
          ],
          "table": [
           {
            "cells": {
             "fill": {
              "color": "#EBF0F8"
             },
             "line": {
              "color": "white"
             }
            },
            "header": {
             "fill": {
              "color": "#C8D4E3"
             },
             "line": {
              "color": "white"
             }
            },
            "type": "table"
           }
          ]
         },
         "layout": {
          "annotationdefaults": {
           "arrowcolor": "#2a3f5f",
           "arrowhead": 0,
           "arrowwidth": 1
          },
          "autotypenumbers": "strict",
          "coloraxis": {
           "colorbar": {
            "outlinewidth": 0,
            "ticks": ""
           }
          },
          "colorscale": {
           "diverging": [
            [
             0,
             "#8e0152"
            ],
            [
             0.1,
             "#c51b7d"
            ],
            [
             0.2,
             "#de77ae"
            ],
            [
             0.3,
             "#f1b6da"
            ],
            [
             0.4,
             "#fde0ef"
            ],
            [
             0.5,
             "#f7f7f7"
            ],
            [
             0.6,
             "#e6f5d0"
            ],
            [
             0.7,
             "#b8e186"
            ],
            [
             0.8,
             "#7fbc41"
            ],
            [
             0.9,
             "#4d9221"
            ],
            [
             1,
             "#276419"
            ]
           ],
           "sequential": [
            [
             0,
             "#0d0887"
            ],
            [
             0.1111111111111111,
             "#46039f"
            ],
            [
             0.2222222222222222,
             "#7201a8"
            ],
            [
             0.3333333333333333,
             "#9c179e"
            ],
            [
             0.4444444444444444,
             "#bd3786"
            ],
            [
             0.5555555555555556,
             "#d8576b"
            ],
            [
             0.6666666666666666,
             "#ed7953"
            ],
            [
             0.7777777777777778,
             "#fb9f3a"
            ],
            [
             0.8888888888888888,
             "#fdca26"
            ],
            [
             1,
             "#f0f921"
            ]
           ],
           "sequentialminus": [
            [
             0,
             "#0d0887"
            ],
            [
             0.1111111111111111,
             "#46039f"
            ],
            [
             0.2222222222222222,
             "#7201a8"
            ],
            [
             0.3333333333333333,
             "#9c179e"
            ],
            [
             0.4444444444444444,
             "#bd3786"
            ],
            [
             0.5555555555555556,
             "#d8576b"
            ],
            [
             0.6666666666666666,
             "#ed7953"
            ],
            [
             0.7777777777777778,
             "#fb9f3a"
            ],
            [
             0.8888888888888888,
             "#fdca26"
            ],
            [
             1,
             "#f0f921"
            ]
           ]
          },
          "colorway": [
           "#636efa",
           "#EF553B",
           "#00cc96",
           "#ab63fa",
           "#FFA15A",
           "#19d3f3",
           "#FF6692",
           "#B6E880",
           "#FF97FF",
           "#FECB52"
          ],
          "font": {
           "color": "#2a3f5f"
          },
          "geo": {
           "bgcolor": "white",
           "lakecolor": "white",
           "landcolor": "#E5ECF6",
           "showlakes": true,
           "showland": true,
           "subunitcolor": "white"
          },
          "hoverlabel": {
           "align": "left"
          },
          "hovermode": "closest",
          "mapbox": {
           "style": "light"
          },
          "paper_bgcolor": "white",
          "plot_bgcolor": "#E5ECF6",
          "polar": {
           "angularaxis": {
            "gridcolor": "white",
            "linecolor": "white",
            "ticks": ""
           },
           "bgcolor": "#E5ECF6",
           "radialaxis": {
            "gridcolor": "white",
            "linecolor": "white",
            "ticks": ""
           }
          },
          "scene": {
           "xaxis": {
            "backgroundcolor": "#E5ECF6",
            "gridcolor": "white",
            "gridwidth": 2,
            "linecolor": "white",
            "showbackground": true,
            "ticks": "",
            "zerolinecolor": "white"
           },
           "yaxis": {
            "backgroundcolor": "#E5ECF6",
            "gridcolor": "white",
            "gridwidth": 2,
            "linecolor": "white",
            "showbackground": true,
            "ticks": "",
            "zerolinecolor": "white"
           },
           "zaxis": {
            "backgroundcolor": "#E5ECF6",
            "gridcolor": "white",
            "gridwidth": 2,
            "linecolor": "white",
            "showbackground": true,
            "ticks": "",
            "zerolinecolor": "white"
           }
          },
          "shapedefaults": {
           "line": {
            "color": "#2a3f5f"
           }
          },
          "ternary": {
           "aaxis": {
            "gridcolor": "white",
            "linecolor": "white",
            "ticks": ""
           },
           "baxis": {
            "gridcolor": "white",
            "linecolor": "white",
            "ticks": ""
           },
           "bgcolor": "#E5ECF6",
           "caxis": {
            "gridcolor": "white",
            "linecolor": "white",
            "ticks": ""
           }
          },
          "title": {
           "x": 0.05
          },
          "xaxis": {
           "automargin": true,
           "gridcolor": "white",
           "linecolor": "white",
           "ticks": "",
           "title": {
            "standoff": 15
           },
           "zerolinecolor": "white",
           "zerolinewidth": 2
          },
          "yaxis": {
           "automargin": true,
           "gridcolor": "white",
           "linecolor": "white",
           "ticks": "",
           "title": {
            "standoff": 15
           },
           "zerolinecolor": "white",
           "zerolinewidth": 2
          }
         }
        },
        "title": {
         "text": "One-Class SVM Anomaly Detection Dashboard"
        },
        "xaxis": {
         "anchor": "y",
         "domain": [
          0,
          0.45
         ],
         "title": {
          "text": "Feature 1"
         }
        },
        "xaxis2": {
         "anchor": "y2",
         "domain": [
          0.55,
          1
         ],
         "title": {
          "text": "Bytes Sent"
         }
        },
        "xaxis3": {
         "anchor": "y3",
         "domain": [
          0,
          0.45
         ],
         "title": {
          "text": "Gamma Parameter"
         }
        },
        "xaxis4": {
         "anchor": "y4",
         "domain": [
          0.55,
          1
         ],
         "title": {
          "text": "Temperature (°C)"
         }
        },
        "xaxis5": {
         "anchor": "y5",
         "domain": [
          0,
          0.45
         ],
         "title": {
          "text": "Decision Score"
         }
        },
        "xaxis6": {
         "anchor": "y6",
         "domain": [
          0.55,
          1
         ],
         "title": {
          "text": "Decision Threshold"
         }
        },
        "yaxis": {
         "anchor": "x",
         "domain": [
          0.7777777777777778,
          1
         ],
         "title": {
          "text": "Feature 2"
         }
        },
        "yaxis2": {
         "anchor": "x2",
         "domain": [
          0.7777777777777778,
          1
         ],
         "title": {
          "text": "Connection Duration (s)"
         }
        },
        "yaxis3": {
         "anchor": "x3",
         "domain": [
          0.3888888888888889,
          0.6111111111111112
         ],
         "title": {
          "text": "Nu Parameter"
         }
        },
        "yaxis4": {
         "anchor": "x4",
         "domain": [
          0.3888888888888889,
          0.6111111111111112
         ],
         "title": {
          "text": "Vibration (mm/s)"
         }
        },
        "yaxis5": {
         "anchor": "x5",
         "domain": [
          0,
          0.22222222222222224
         ],
         "title": {
          "text": "Frequency"
         }
        },
        "yaxis6": {
         "anchor": "x6",
         "domain": [
          0,
          0.22222222222222224
         ],
         "title": {
          "text": "Performance Score"
         }
        }
       }
      }
     },
     "metadata": {},
     "output_type": "display_data"
    },
    {
     "name": "stdout",
     "output_type": "stream",
     "text": [
      "\n",
      " ONE-CLASS SVM BUSINESS INSIGHTS:\n",
      "\n",
      "Network Security Analysis:\n",
      "• Total connections analyzed: 4,200\n",
      "• Actual intrusions: 200\n",
      "• Detected as anomalous: 239\n",
      "• Detection rate: 99.5%\n",
      "• False positive rate: 0.93%\n",
      "• Prevented intrusion cost: $9,950,000\n",
      "\n",
      "Equipment Maintenance Analysis:\n",
      "• Total sensor readings: 3,675\n",
      "• Actual faults: 175\n",
      "• Detected as anomalous: 210\n",
      "• Fault detection rate: 100.0%\n",
      "• Prevented downtime events: 175\n",
      "• Maintenance cost savings: $16,625,000\n",
      "\n",
      " ONE-CLASS SVM IMPLEMENTATION ROI:\n",
      "• Security savings: $9,950,000\n",
      "• Maintenance savings: $16,625,000\n",
      "• Total annual benefits: $26,575,000\n",
      "• Implementation cost: $200,000\n",
      "• Annual operational cost: $75,000\n",
      "• Net annual benefits: $26,500,000\n",
      "• ROI: 13150%\n",
      "• Payback period: 0.1 months\n",
      "\n",
      "Kernel Performance Ranking:\n",
      "• rbf: 0.907\n",
      "• sigmoid: 0.565\n",
      "• poly: 0.262\n",
      "• linear: 0.123\n",
      "\n",
      " Cross-Reference Learning Path:\n",
      "• Foundation: Tier5_SVM.ipynb (support vector machine concepts)\n",
      "• Comparison: Tier6_IsolationForest.ipynb (tree-based anomaly detection)\n",
      "• Comparison: Tier6_StatAnomaly.ipynb (statistical methods)\n",
      "• Advanced: Advanced_EnsembleAnomalyDetection.ipynb (combining methods)\n",
      "• Application: Advanced_RealtimeAnomalyDetection.ipynb (streaming data)\n"
     ]
    }
   ],
   "source": [
    "# 2. INTERACTIVE ONE-CLASS SVM VISUALIZATIONS\n",
    "print(\" 2. INTERACTIVE ONE-CLASS SVM VISUALIZATIONS\")\n",
    "print(\"=\" * 44)\n",
    "\n",
    "# Create comprehensive One-Class SVM dashboard\n",
    "fig = make_subplots(\n",
    " rows=3, cols=2,\n",
    " subplot_titles=[\n",
    " 'One-Class SVM Decision Boundary (2D Synthetic)',\n",
    " 'Network Intrusion Detection Results',\n",
    " 'Parameter Tuning Performance Heatmap',\n",
    " 'Equipment Fault Detection by Sensor Type',\n",
    " 'Decision Score Distributions',\n",
    " 'ROC-Style Performance Analysis'\n",
    " ],\n",
    " specs=[[{\"secondary_y\": False}, {\"secondary_y\": False}],\n",
    " [{\"secondary_y\": False}, {\"secondary_y\": False}],\n",
    " [{\"secondary_y\": False}, {\"secondary_y\": False}]]\n",
    ")\n",
    "\n",
    "# 1. 2D Decision boundary visualization\n",
    "# Create decision boundary mesh\n",
    "h = 0.1\n",
    "x_min, x_max = X_synthetic_scaled[:, 0].min() - 1, X_synthetic_scaled[:, 0].max() + 1\n",
    "y_min, y_max = X_synthetic_scaled[:, 1].min() - 1, X_synthetic_scaled[:, 1].max() + 1\n",
    "xx, yy = np.meshgrid(np.arange(x_min, x_max, h), np.arange(y_min, y_max, h))\n",
    "\n",
    "# Get decision function values for the mesh\n",
    "mesh_points = np.c_[xx.ravel(), yy.ravel()]\n",
    "Z = synthetic_ocsvm.decision_function(mesh_points)\n",
    "Z = Z.reshape(xx.shape)\n",
    "\n",
    "# Plot decision boundary contour\n",
    "fig.add_trace(\n",
    "    go.Contour(\n",
    "        x=np.arange(x_min, x_max, h),\n",
    "        y=np.arange(y_min, y_max, h),\n",
    "        z=Z,\n",
    "        contours=dict(\n",
    "            start=0,\n",
    "            end=0,\n",
    "            size=0.1,\n",
    "            coloring='lines'\n",
    "        ),\n",
    "        line=dict(color='red', width=3),\n",
    "        showscale=False,\n",
    "        name='Decision Boundary'\n",
    "    ),\n",
    "    row=1, col=1\n",
    ")\n",
    "\n",
    "# Plot normal points\n",
    "normal_mask = y_synthetic == 1\n",
    "fig.add_trace(\n",
    " go.Scatter(\n",
    " x=X_synthetic_scaled[normal_mask, 0],\n",
    " y=X_synthetic_scaled[normal_mask, 1],\n",
    " mode='markers',\n",
    " name='Normal Points',\n",
    " marker=dict(color='blue', size=6, opacity=0.7),\n",
    " hovertemplate='Normal<br>X: %{x:.2f}<br>Y: %{y:.2f}<extra></extra>'\n",
    " ),\n",
    " row=1, col=1\n",
    ")\n",
    "\n",
    "# Plot outliers\n",
    "outlier_mask = y_synthetic == -1\n",
    "fig.add_trace(\n",
    " go.Scatter(\n",
    " x=X_synthetic_scaled[outlier_mask, 0],\n",
    " y=X_synthetic_scaled[outlier_mask, 1],\n",
    " mode='markers',\n",
    " name='True Outliers',\n",
    " marker=dict(color='red', size=8, opacity=0.8, symbol='x'),\n",
    " hovertemplate='Outlier<br>X: %{x:.2f}<br>Y: %{y:.2f}<extra></extra>'\n",
    " ),\n",
    " row=1, col=1\n",
    ")\n",
    "\n",
    "# 2. Network intrusion detection results\n",
    "normal_connections = network_df[network_df['is_intrusion'] == 0]\n",
    "intrusion_connections = network_df[network_df['is_intrusion'] == 1]\n",
    "\n",
    "fig.add_trace(\n",
    " go.Scatter(\n",
    " x=normal_connections['bytes_sent'],\n",
    " y=normal_connections['duration'],\n",
    " mode='markers',\n",
    " name='Normal Connections',\n",
    " marker=dict(color='green', size=4, opacity=0.6),\n",
    " hovertemplate='Normal<br>Bytes Sent: %{x:,.0f}<br>Duration: %{y:.1f}s<extra></extra>'\n",
    " ),\n",
    " row=1, col=2\n",
    ")\n",
    "\n",
    "fig.add_trace(\n",
    " go.Scatter(\n",
    " x=intrusion_connections['bytes_sent'],\n",
    " y=intrusion_connections['duration'],\n",
    " mode='markers',\n",
    " name='Intrusions',\n",
    " marker=dict(color='red', size=6, opacity=0.8),\n",
    " text=intrusion_connections['intrusion_type'],\n",
    " hovertemplate='%{text}<br>Bytes Sent: %{x:,.0f}<br>Duration: %{y:.1f}s<extra></extra>'\n",
    " ),\n",
    " row=1, col=2\n",
    ")\n",
    "\n",
    "# 3. Parameter tuning heatmap\n",
    "results_df = pd.DataFrame(results)\n",
    "# Create pivot table for heatmap\n",
    "heatmap_data = results_df.pivot_table(values='f1', index='nu', columns='gamma', aggfunc='max')\n",
    "\n",
    "fig.add_trace(\n",
    " go.Heatmap(\n",
    " z=heatmap_data.values,\n",
    " x=heatmap_data.columns,\n",
    " y=heatmap_data.index,\n",
    " colorscale='Viridis',\n",
    " showscale=True,\n",
    " hovertemplate='Gamma: %{x}<br>Nu: %{y}<br>F1-Score: %{z:.3f}<extra></extra>'\n",
    " ),\n",
    " row=2, col=1\n",
    ")\n",
    "\n",
    "# 4. Equipment fault detection by sensor type\n",
    "fault_types = equipment_df[equipment_df['is_fault'] == 1]['fault_type'].unique()\n",
    "colors = ['red', 'orange', 'purple', 'brown']\n",
    "\n",
    "for i, fault_type in enumerate(fault_types):\n",
    " fault_data = equipment_df[equipment_df.get('fault_type') == fault_type]\n",
    "\n",
    " fig.add_trace(\n",
    " go.Scatter(\n",
    " x=fault_data['temperature'],\n",
    " y=fault_data['vibration'],\n",
    " mode='markers',\n",
    " name=f'{fault_type}',\n",
    " marker=dict(color=colors[i % len(colors)], size=8, opacity=0.8),\n",
    " hovertemplate=f'{fault_type}<br>Temperature: %{{x:.1f}}°C<br>Vibration: %{{y:.1f}} mm/s<extra></extra>'\n",
    " ),\n",
    " row=2, col=2\n",
    " )\n",
    "\n",
    "# Normal equipment data\n",
    "normal_equipment = equipment_df[equipment_df['is_fault'] == 0]\n",
    "fig.add_trace(\n",
    " go.Scatter(\n",
    " x=normal_equipment['temperature'],\n",
    " y=normal_equipment['vibration'],\n",
    " mode='markers',\n",
    " name='Normal Operation',\n",
    " marker=dict(color='green', size=4, opacity=0.5),\n",
    " hovertemplate='Normal<br>Temperature: %{x:.1f}°C<br>Vibration: %{y:.1f} mm/s<extra></extra>'\n",
    " ),\n",
    " row=2, col=2\n",
    ")\n",
    "\n",
    "# 5. Decision score distributions\n",
    "fig.add_trace(\n",
    " go.Histogram(\n",
    " x=network_df[network_df['is_intrusion'] == 0]['decision_score'],\n",
    " name='Normal Scores',\n",
    " opacity=0.7,\n",
    " nbinsx=30,\n",
    " marker_color='blue'\n",
    " ),\n",
    " row=3, col=1\n",
    ")\n",
    "\n",
    "fig.add_trace(\n",
    " go.Histogram(\n",
    " x=network_df[network_df['is_intrusion'] == 1]['decision_score'],\n",
    " name='Intrusion Scores',\n",
    " opacity=0.7,\n",
    " nbinsx=30,\n",
    " marker_color='red'\n",
    " ),\n",
    " row=3, col=1\n",
    ")\n",
    "\n",
    "# 6. Performance analysis across different thresholds\n",
    "thresholds = np.linspace(-2, 1, 50)\n",
    "precisions = []\n",
    "recalls = []\n",
    "f1_scores = []\n",
    "\n",
    "for threshold in thresholds:\n",
    " threshold_predictions = (network_df['decision_score'] < threshold).astype(int)\n",
    "\n",
    " precision = precision_score(network_df['is_intrusion'], threshold_predictions, zero_division=0)\n",
    " recall = recall_score(network_df['is_intrusion'], threshold_predictions, zero_division=0)\n",
    " f1 = f1_score(network_df['is_intrusion'], threshold_predictions, zero_division=0)\n",
    "\n",
    " precisions.append(precision)\n",
    " recalls.append(recall)\n",
    " f1_scores.append(f1)\n",
    "\n",
    "fig.add_trace(\n",
    " go.Scatter(\n",
    " x=thresholds,\n",
    " y=precisions,\n",
    " mode='lines',\n",
    " name='Precision',\n",
    " line=dict(color='blue', width=2)\n",
    " ),\n",
    " row=3, col=2\n",
    ")\n",
    "\n",
    "fig.add_trace(\n",
    " go.Scatter(\n",
    " x=thresholds,\n",
    " y=recalls,\n",
    " mode='lines',\n",
    " name='Recall',\n",
    " line=dict(color='red', width=2)\n",
    " ),\n",
    " row=3, col=2\n",
    ")\n",
    "\n",
    "fig.add_trace(\n",
    " go.Scatter(\n",
    " x=thresholds,\n",
    " y=f1_scores,\n",
    " mode='lines',\n",
    " name='F1-Score',\n",
    " line=dict(color='green', width=3)\n",
    " ),\n",
    " row=3, col=2\n",
    ")\n",
    "\n",
    "# Update layout\n",
    "fig.update_layout(\n",
    " height=1200,\n",
    " title=\"One-Class SVM Anomaly Detection Dashboard\",\n",
    " showlegend=True\n",
    ")\n",
    "\n",
    "# Update axis labels\n",
    "fig.update_xaxes(title_text=\"Feature 1\", row=1, col=1)\n",
    "fig.update_xaxes(title_text=\"Bytes Sent\", row=1, col=2)\n",
    "fig.update_xaxes(title_text=\"Gamma Parameter\", row=2, col=1)\n",
    "fig.update_xaxes(title_text=\"Temperature (°C)\", row=2, col=2)\n",
    "fig.update_xaxes(title_text=\"Decision Score\", row=3, col=1)\n",
    "fig.update_xaxes(title_text=\"Decision Threshold\", row=3, col=2)\n",
    "\n",
    "fig.update_yaxes(title_text=\"Feature 2\", row=1, col=1)\n",
    "fig.update_yaxes(title_text=\"Connection Duration (s)\", row=1, col=2)\n",
    "fig.update_yaxes(title_text=\"Nu Parameter\", row=2, col=1)\n",
    "fig.update_yaxes(title_text=\"Vibration (mm/s)\", row=2, col=2)\n",
    "fig.update_yaxes(title_text=\"Frequency\", row=3, col=1)\n",
    "fig.update_yaxes(title_text=\"Performance Score\", row=3, col=2)\n",
    "\n",
    "fig.show()\n",
    "\n",
    "# Business insights and applications\n",
    "print(f\"\\n ONE-CLASS SVM BUSINESS INSIGHTS:\")\n",
    "\n",
    "# Network security analysis\n",
    "total_connections = len(network_df)\n",
    "detected_intrusions = np.sum(network_df['ocsvm_prediction'])\n",
    "actual_intrusions = np.sum(network_df['is_intrusion'])\n",
    "detection_rate = np.sum((network_df['is_intrusion'] == 1) & (network_df['ocsvm_prediction'] == 1)) / actual_intrusions\n",
    "\n",
    "print(f\"\\nNetwork Security Analysis:\")\n",
    "print(f\"• Total connections analyzed: {total_connections:,}\")\n",
    "print(f\"• Actual intrusions: {actual_intrusions}\")\n",
    "print(f\"• Detected as anomalous: {detected_intrusions}\")\n",
    "print(f\"• Detection rate: {detection_rate*100:.1f}%\")\n",
    "print(f\"• False positive rate: {(detected_intrusions - actual_intrusions)/total_connections*100:.2f}%\")\n",
    "\n",
    "# Calculate security ROI\n",
    "avg_intrusion_cost = 50_000 # Average cost per successful intrusion\n",
    "prevented_intrusions = actual_intrusions * detection_rate\n",
    "security_savings = prevented_intrusions * avg_intrusion_cost\n",
    "\n",
    "print(f\"• Prevented intrusion cost: ${security_savings:,.0f}\")\n",
    "\n",
    "# Equipment maintenance analysis\n",
    "total_readings = len(equipment_df)\n",
    "detected_faults = np.sum(equipment_df['ocsvm_prediction'])\n",
    "actual_faults = np.sum(equipment_df['is_fault'])\n",
    "fault_detection_rate = np.sum((equipment_df['is_fault'] == 1) & (equipment_df['ocsvm_prediction'] == 1)) / actual_faults\n",
    "\n",
    "print(f\"\\nEquipment Maintenance Analysis:\")\n",
    "print(f\"• Total sensor readings: {total_readings:,}\")\n",
    "print(f\"• Actual faults: {actual_faults}\")\n",
    "print(f\"• Detected as anomalous: {detected_faults}\")\n",
    "print(f\"• Fault detection rate: {fault_detection_rate*100:.1f}%\")\n",
    "\n",
    "# Calculate maintenance ROI\n",
    "avg_unplanned_downtime_cost = 100_000 # Cost per unplanned downtime event\n",
    "avg_planned_maintenance_cost = 5_000 # Cost per planned maintenance\n",
    "prevented_downtime = actual_faults * fault_detection_rate\n",
    "maintenance_savings = prevented_downtime * (avg_unplanned_downtime_cost - avg_planned_maintenance_cost)\n",
    "\n",
    "print(f\"• Prevented downtime events: {prevented_downtime:.0f}\")\n",
    "print(f\"• Maintenance cost savings: ${maintenance_savings:,.0f}\")\n",
    "\n",
    "# System implementation costs\n",
    "ocsvm_implementation_cost = 200_000 # Initial setup\n",
    "annual_operational_cost = 75_000 # Annual monitoring and maintenance\n",
    "\n",
    "total_annual_benefits = security_savings + maintenance_savings\n",
    "net_annual_benefits = total_annual_benefits - annual_operational_cost\n",
    "roi = (net_annual_benefits - ocsvm_implementation_cost) / ocsvm_implementation_cost\n",
    "\n",
    "print(f\"\\n ONE-CLASS SVM IMPLEMENTATION ROI:\")\n",
    "print(f\"• Security savings: ${security_savings:,.0f}\")\n",
    "print(f\"• Maintenance savings: ${maintenance_savings:,.0f}\")\n",
    "print(f\"• Total annual benefits: ${total_annual_benefits:,.0f}\")\n",
    "print(f\"• Implementation cost: ${ocsvm_implementation_cost:,.0f}\")\n",
    "print(f\"• Annual operational cost: ${annual_operational_cost:,.0f}\")\n",
    "print(f\"• Net annual benefits: ${net_annual_benefits:,.0f}\")\n",
    "print(f\"• ROI: {roi*100:.0f}%\")\n",
    "print(f\"• Payback period: {ocsvm_implementation_cost/net_annual_benefits*12:.1f} months\")\n",
    "\n",
    "# Kernel comparison insights\n",
    "kernel_performance = results_df.groupby('kernel')['f1'].max().sort_values(ascending=False)\n",
    "print(f\"\\nKernel Performance Ranking:\")\n",
    "for kernel, f1_score in kernel_performance.items():\n",
    " print(f\"• {kernel}: {f1_score:.3f}\")\n",
    "\n",
    "print(f\"\\n Cross-Reference Learning Path:\")\n",
    "print(f\"• Foundation: Tier5_SVM.ipynb (support vector machine concepts)\")\n",
    "print(f\"• Comparison: Tier6_IsolationForest.ipynb (tree-based anomaly detection)\")\n",
    "print(f\"• Comparison: Tier6_StatAnomaly.ipynb (statistical methods)\")\n",
    "print(f\"• Advanced: Advanced_EnsembleAnomalyDetection.ipynb (combining methods)\")\n",
    "print(f\"• Application: Advanced_RealtimeAnomalyDetection.ipynb (streaming data)\")"
   ]
  }
 ],
 "metadata": {
  "kernelspec": {
   "display_name": ".venv",
   "language": "python",
   "name": "python3"
  },
  "language_info": {
   "codemirror_mode": {
    "name": "ipython",
    "version": 3
   },
   "file_extension": ".py",
   "mimetype": "text/x-python",
   "name": "python",
   "nbconvert_exporter": "python",
   "pygments_lexer": "ipython3",
   "version": "3.13.7"
  }
 },
 "nbformat": 4,
 "nbformat_minor": 5
}
