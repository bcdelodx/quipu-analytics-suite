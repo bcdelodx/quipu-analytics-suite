{
 "cells": [
  {
   "cell_type": "markdown",
   "metadata": {},
   "source": [
    "# Tier 6: Advanced Anomaly Detection & Outlier Analysis\n",
    "\n",
    "---\n",
    "\n",
    "**Author:** Brandon Deloatch\n",
    "**Affiliation:** Quipu Research Labs, LLC\n",
    "**Date:** 2025-10-02\n",
    "**Version:** v1.3\n",
    "**License:** MIT\n",
    "**Notebook ID:** f8bf2d16-b5d6-4a48-97f4-1d58238ec1c7\n",
    "\n",
    "---\n",
    "\n",
    "## Citation\n",
    "Brandon Deloatch, \"Tier 6: Advanced Anomaly Detection & Outlier Analysis,\" Quipu Research Labs, LLC, v1.3, 2025-10-02.\n",
    "\n",
    "Please cite this notebook if used or adapted in publications, presentations, or derivative work.\n",
    "\n",
    "---\n",
    "\n",
    "## Contributors / Acknowledgments\n",
    "- **Primary Author:** Brandon Deloatch (Quipu Research Labs, LLC)\n",
    "- **Institutional Support:** Quipu Research Labs, LLC - Advanced Analytics Division\n",
    "- **Technical Framework:** Built on scikit-learn, pandas, numpy, and plotly ecosystems\n",
    "- **Methodological Foundation:** Statistical learning principles and modern data science best practices\n",
    "\n",
    "---\n",
    "\n",
    "## Version History\n",
    "| Version | Date | Notes |\n",
    "|---------|------|-------|\n",
    "| v1.3 | 2025-10-02 | Enhanced professional formatting, comprehensive documentation, interactive visualizations |\n",
    "| v1.2 | 2024-09-15 | Updated analysis methods, improved data generation algorithms |\n",
    "| v1.0 | 2024-06-10 | Initial release with core analytical framework |\n",
    "\n",
    "---\n",
    "\n",
    "## Environment Dependencies\n",
    "- **Python:** 3.8+\n",
    "- **Core Libraries:** pandas 2.0+, numpy 1.24+, scikit-learn 1.3+\n",
    "- **Visualization:** plotly 5.0+, matplotlib 3.7+\n",
    "- **Statistical:** scipy 1.10+, statsmodels 0.14+\n",
    "- **Development:** jupyter-lab 4.0+, ipywidgets 8.0+\n",
    "\n",
    "> **Reproducibility Note:** Use requirements.txt or environment.yml for exact dependency matching.\n",
    "\n",
    "---\n",
    "\n",
    "## Data Provenance\n",
    "| Dataset | Source | License | Notes |\n",
    "|---------|--------|---------|-------|\n",
    "| Synthetic Data | Generated in-notebook | MIT | Custom algorithms for realistic simulation |\n",
    "| Statistical Distributions | NumPy/SciPy | BSD-3-Clause | Standard library implementations |\n",
    "| ML Algorithms | Scikit-learn | BSD-3-Clause | Industry-standard implementations |\n",
    "| Visualization Schemas | Plotly | MIT | Interactive dashboard frameworks |\n",
    "\n",
    "---\n",
    "\n",
    "## Execution Provenance Logs\n",
    "- **Created:** 2025-10-02\n",
    "- **Notebook ID:** f8bf2d16-b5d6-4a48-97f4-1d58238ec1c7\n",
    "- **Execution Environment:** Jupyter Lab / VS Code\n",
    "- **Computational Requirements:** Standard laptop/workstation (2GB+ RAM recommended)\n",
    "\n",
    "> **Auto-tracking:** Execution metadata can be programmatically captured for reproducibility.\n",
    "\n",
    "---\n",
    "\n",
    "## Disclaimer & Responsible Use\n",
    "This notebook is provided \"as-is\" for educational, research, and professional development purposes. Users assume full responsibility for any results, applications, or decisions derived from this analysis.\n",
    "\n",
    "**Professional Standards:**\n",
    "- Validate all results against domain expertise and additional data sources\n",
    "- Respect licensing and attribution requirements for all dependencies\n",
    "- Follow ethical guidelines for data analysis and algorithmic decision-making\n",
    "- Credit all methodological sources and derivative frameworks appropriately\n",
    "\n",
    "**Academic & Commercial Use:**\n",
    "- Permitted under MIT license with proper attribution\n",
    "- Suitable for educational curriculum and professional training\n",
    "- Appropriate for commercial adaptation with citation requirements\n",
    "- Recommended for reproducible research and transparent analytics\n",
    "\n",
    "---\n",
    "\n"
   ]
  },
  {
   "cell_type": "code",
   "execution_count": 13,
   "id": "81967f45",
   "metadata": {},
   "outputs": [
    {
     "name": "stdout",
     "output_type": "stream",
     "text": [
      " Tier 6: Advanced Anomaly Detection & Outlier Analysis\n",
      "=======================================================\n",
      " CROSS-REFERENCES:\n",
      "• Prerequisites: Tier1_Descriptive.ipynb, Tier2_LogisticRegression.ipynb, Tier5_Classification.ipynb\n",
      "• Builds On: Tier4_SVM.ipynb (one-class SVM), Tier4_KMeans.ipynb (clustering-based)\n",
      "• Complements: Tier6_RealTimeAnalytics.ipynb, Tier3_TimeSeries.ipynb\n",
      "• Advanced: Tier6_DeepLearning.ipynb, Tier6_EnsembleMethods.ipynb\n",
      "=======================================================\n",
      "Anomaly Detection Techniques:\n",
      "• Statistical methods (Z-score, IQR, Grubbs' test)\n",
      "• Machine learning approaches (Isolation Forest, One-Class SVM)\n",
      "• Clustering-based detection (DBSCAN, LOF)\n",
      "• Ensemble methods and real-time detection\n",
      "• Performance evaluation and business impact analysis\n"
     ]
    }
   ],
   "source": [
    "import pandas as pd\n",
    "import numpy as np\n",
    "import matplotlib.pyplot as plt\n",
    "import seaborn as sns\n",
    "import plotly.express as px\n",
    "import plotly.graph_objects as go\n",
    "from plotly.subplots import make_subplots\n",
    "from sklearn.ensemble import IsolationForest\n",
    "from sklearn.svm import OneClassSVM\n",
    "from sklearn.neighbors import LocalOutlierFactor\n",
    "from sklearn.preprocessing import StandardScaler, MinMaxScaler\n",
    "from sklearn.metrics import classification_report, confusion_matrix, roc_auc_score, roc_curve\n",
    "from sklearn.covariance import EllipticEnvelope\n",
    "from sklearn.cluster import DBSCAN\n",
    "from scipy import stats\n",
    "import warnings\n",
    "warnings.filterwarnings('ignore')\n",
    "\n",
    "print(\" Tier 6: Advanced Anomaly Detection & Outlier Analysis\")\n",
    "print(\"=\" * 55)\n",
    "print(\" CROSS-REFERENCES:\")\n",
    "print(\"• Prerequisites: Tier1_Descriptive.ipynb, Tier2_LogisticRegression.ipynb, Tier5_Classification.ipynb\")\n",
    "print(\"• Builds On: Tier4_SVM.ipynb (one-class SVM), Tier4_KMeans.ipynb (clustering-based)\")\n",
    "print(\"• Complements: Tier6_RealTimeAnalytics.ipynb, Tier3_TimeSeries.ipynb\")\n",
    "print(\"• Advanced: Tier6_DeepLearning.ipynb, Tier6_EnsembleMethods.ipynb\")\n",
    "print(\"=\" * 55)\n",
    "print(\"Anomaly Detection Techniques:\")\n",
    "print(\"• Statistical methods (Z-score, IQR, Grubbs' test)\")\n",
    "print(\"• Machine learning approaches (Isolation Forest, One-Class SVM)\")\n",
    "print(\"• Clustering-based detection (DBSCAN, LOF)\")\n",
    "print(\"• Ensemble methods and real-time detection\")\n",
    "print(\"• Performance evaluation and business impact analysis\")"
   ]
  },
  {
   "cell_type": "code",
   "execution_count": 14,
   "id": "2eb88f33",
   "metadata": {},
   "outputs": [
    {
     "name": "stdout",
     "output_type": "stream",
     "text": [
      " Anomaly Detection Datasets Created:\n",
      "\n",
      "1. Financial Transactions Dataset:\n",
      " • Total transactions: 8,200\n",
      " • Fraudulent transactions: 200 (2.4%)\n",
      " • Average transaction: $85.68\n",
      " • Fraud rate: 1 in 41 transactions\n",
      "\n",
      "2. Manufacturing Quality Control:\n",
      " • Total parts inspected: 5,150\n",
      " • Defective parts: 150 (2.9%)\n",
      " • Average temperature: 250.0°C\n",
      " • Quality rate: 97.1%\n",
      "   transaction_amount  account_age_days  daily_transaction_count  \\\n",
      "0           11.141399        147.097318                        4   \n",
      "1           17.430864        698.559587                        1   \n",
      "2           31.187409        490.375413                        5   \n",
      "3           38.291027        318.098493                        2   \n",
      "4           13.333950        332.909991                        1   \n",
      "\n",
      "   time_since_last_transaction  merchant_risk_score  is_weekend  customer_id  \\\n",
      "0                     2.159092             0.126949           0          752   \n",
      "1                     3.427894             0.165478           0         1205   \n",
      "2                     9.994416             0.107008           0          292   \n",
      "3                     2.924775             0.579333           1         1508   \n",
      "4                     1.061845             0.420423           0          219   \n",
      "\n",
      "   is_fraud  \n",
      "0       0.0  \n",
      "1       0.0  \n",
      "2       0.0  \n",
      "3       0.0  \n",
      "4       0.0  \n"
     ]
    }
   ],
   "source": [
    "# Generate comprehensive synthetic datasets with known anomalies\n",
    "np.random.seed(42)\n",
    "\n",
    "def generate_anomaly_datasets():\n",
    "    \"\"\"Generate multiple datasets with different types of anomalies.\"\"\"\n",
    "\n",
    "    # Dataset 1: Financial Transactions (fraud detection)\n",
    "    n_normal = 8000\n",
    "    n_fraud = 200\n",
    "\n",
    "    # Normal transactions\n",
    "    normal_amounts = np.random.lognormal(mean=3, sigma=1, size=n_normal)\n",
    "    normal_amounts = np.clip(normal_amounts, 1, 1000) # Realistic transaction amounts\n",
    "\n",
    "    normal_features = {\n",
    "        'transaction_amount': normal_amounts,\n",
    "        'account_age_days': np.random.normal(365, 200, n_normal),\n",
    "        'daily_transaction_count': np.random.poisson(3, n_normal),\n",
    "        'time_since_last_transaction': np.random.exponential(2, n_normal),\n",
    "        'merchant_risk_score': np.random.beta(2, 5, n_normal),\n",
    "        'is_weekend': np.random.choice([0, 1], n_normal, p=[0.7, 0.3]),\n",
    "        'customer_id': np.random.randint(1, 2000, n_normal)\n",
    "    }\n",
    "\n",
    "    # Fraudulent transactions (anomalies)\n",
    "    # Fix: Generate arrays separately then concatenate\n",
    "    high_value_fraud = np.random.uniform(2000, 10000, n_fraud//3)\n",
    "    micro_fraud = np.random.uniform(0.1, 5, n_fraud//3)\n",
    "    remaining_fraud = n_fraud - 2*(n_fraud//3)\n",
    "    large_random_fraud = np.random.lognormal(5, 0.5, remaining_fraud)\n",
    "    fraud_amounts = np.concatenate([high_value_fraud, micro_fraud, large_random_fraud])\n",
    "\n",
    "    # Fix similar issue with account_age_days\n",
    "    new_accounts = np.random.uniform(0, 30, n_fraud//2)\n",
    "    remaining_fraud_accounts = n_fraud - (n_fraud//2)\n",
    "    old_dormant_accounts = np.random.uniform(1000, 2000, remaining_fraud_accounts)\n",
    "    fraud_account_ages = np.concatenate([new_accounts, old_dormant_accounts])\n",
    "\n",
    "    # Fix similar issue with daily_transaction_count\n",
    "    high_frequency = np.random.poisson(15, n_fraud//2)\n",
    "    remaining_fraud_txns = n_fraud - (n_fraud//2)\n",
    "    low_frequency = np.random.poisson(0.5, remaining_fraud_txns)\n",
    "    fraud_transaction_counts = np.concatenate([high_frequency, low_frequency])\n",
    "\n",
    "    fraud_features = {\n",
    "        'transaction_amount': fraud_amounts,\n",
    "        'account_age_days': fraud_account_ages,\n",
    "        'daily_transaction_count': fraud_transaction_counts,\n",
    "        'time_since_last_transaction': np.random.exponential(0.1, n_fraud), # Rapid succession\n",
    "        'merchant_risk_score': np.random.beta(5, 2, n_fraud), # Higher risk merchants\n",
    "        'is_weekend': np.random.choice([0, 1], n_fraud, p=[0.4, 0.6]), # More weekend activity\n",
    "        'customer_id': np.random.randint(1, 2000, n_fraud)\n",
    "    }\n",
    "\n",
    "    # Combine normal and fraudulent transactions\n",
    "    financial_df = pd.DataFrame({\n",
    "        key: np.concatenate([normal_features[key], fraud_features[key]])\n",
    "        for key in normal_features.keys()\n",
    "    })\n",
    "    financial_df['is_fraud'] = np.concatenate([np.zeros(n_normal), np.ones(n_fraud)])\n",
    "    financial_df = financial_df.sample(frac=1).reset_index(drop=True) # Shuffle\n",
    "\n",
    "    # Dataset 2: Manufacturing Quality Control\n",
    "    n_normal_parts = 5000\n",
    "    n_defective = 150\n",
    "\n",
    "    # Normal parts (multivariate normal distribution)\n",
    "    normal_temp = np.random.normal(250, 10, n_normal_parts)\n",
    "    normal_pressure = np.random.normal(15, 2, n_normal_parts)\n",
    "    normal_vibration = np.random.normal(0.5, 0.1, n_normal_parts)\n",
    "    normal_thickness = np.random.normal(5.0, 0.1, n_normal_parts)\n",
    "\n",
    "    # Defective parts (various anomaly patterns)\n",
    "    defective_temp = np.concatenate([\n",
    "        np.random.normal(300, 15, n_defective//3), # Overheating\n",
    "        np.random.normal(200, 10, n_defective//3), # Underheating\n",
    "        np.random.normal(250, 50, n_defective - 2*(n_defective//3)) # Unstable temperature\n",
    "    ])\n",
    "\n",
    "    defective_pressure = np.concatenate([\n",
    "        np.random.normal(25, 5, n_defective//2), # High pressure\n",
    "        np.random.normal(5, 2, n_defective - (n_defective//2)) # Low pressure\n",
    "    ])\n",
    "\n",
    "    defective_vibration = np.random.uniform(1.0, 3.0, n_defective) # High vibration\n",
    "    defective_thickness = np.concatenate([\n",
    "        np.random.normal(5.5, 0.2, n_defective//2), # Too thick\n",
    "        np.random.normal(4.5, 0.2, n_defective - (n_defective//2)) # Too thin\n",
    "    ])\n",
    "\n",
    "    manufacturing_df = pd.DataFrame({\n",
    "        'temperature': np.concatenate([normal_temp, defective_temp]),\n",
    "        'pressure': np.concatenate([normal_pressure, defective_pressure]),\n",
    "        'vibration': np.concatenate([normal_vibration, defective_vibration]),\n",
    "        'thickness': np.concatenate([normal_thickness, defective_thickness]),\n",
    "        'is_defective': np.concatenate([np.zeros(n_normal_parts), np.ones(n_defective)])\n",
    "    })\n",
    "    manufacturing_df = manufacturing_df.sample(frac=1).reset_index(drop=True)\n",
    "\n",
    "    return financial_df, manufacturing_df\n",
    "\n",
    "# Generate datasets\n",
    "financial_df, manufacturing_df = generate_anomaly_datasets()\n",
    "\n",
    "print(\" Anomaly Detection Datasets Created:\")\n",
    "print(f\"\\n1. Financial Transactions Dataset:\")\n",
    "print(f\" • Total transactions: {len(financial_df):,}\")\n",
    "print(f\" • Fraudulent transactions: {financial_df['is_fraud'].sum():.0f} ({financial_df['is_fraud'].mean()*100:.1f}%)\")\n",
    "print(f\" • Average transaction: ${financial_df['transaction_amount'].mean():.2f}\")\n",
    "print(f\" • Fraud rate: 1 in {len(financial_df) / financial_df['is_fraud'].sum():.0f} transactions\")\n",
    "\n",
    "print(f\"\\n2. Manufacturing Quality Control:\")\n",
    "print(f\" • Total parts inspected: {len(manufacturing_df):,}\")\n",
    "print(f\" • Defective parts: {manufacturing_df['is_defective'].sum():.0f} ({manufacturing_df['is_defective'].mean()*100:.1f}%)\")\n",
    "print(f\" • Average temperature: {manufacturing_df['temperature'].mean():.1f}°C\")\n",
    "print(f\" • Quality rate: {(1-manufacturing_df['is_defective'].mean())*100:.1f}%\")\n",
    "\n",
    "print(financial_df.head())\n",
    "\n",
    "# Display sample dataprint(f\"\\nSample Financial Data:\")"
   ]
  },
  {
   "cell_type": "code",
   "execution_count": 15,
   "id": "dfb14f17",
   "metadata": {},
   "outputs": [
    {
     "name": "stdout",
     "output_type": "stream",
     "text": [
      " 1. STATISTICAL ANOMALY DETECTION METHODS\n",
      "===========================================\n",
      "Financial Transaction Amount Analysis:\n",
      "\n",
      "ZSCORE Method:\n",
      " • Anomalies detected: 66 (0.8%)\n",
      " • Precision: 1.000\n",
      " • Recall: 0.330\n",
      " • F1-Score: 0.496\n",
      "\n",
      "IQR Method:\n",
      " • Anomalies detected: 715 (8.7%)\n",
      " • Precision: 0.168\n",
      " • Recall: 0.600\n",
      " • F1-Score: 0.262\n",
      "\n",
      "GRUBBS Method:\n",
      " • Anomalies detected: 62 (0.8%)\n",
      " • Precision: 1.000\n",
      " • Recall: 0.310\n",
      " • F1-Score: 0.473\n",
      "\n",
      "MODIFIED_ZSCORE Method:\n",
      " • Anomalies detected: 889 (10.8%)\n",
      " • Precision: 0.143\n",
      " • Recall: 0.635\n",
      " • F1-Score: 0.233\n",
      "\n",
      " Best Statistical Method: ZSCORE (F1: 0.496)\n"
     ]
    }
   ],
   "source": [
    "# 1. STATISTICAL ANOMALY DETECTION METHODS\n",
    "print(\" 1. STATISTICAL ANOMALY DETECTION METHODS\")\n",
    "print(\"=\" * 43)\n",
    "\n",
    "def statistical_anomaly_detection(data, column, method='zscore', threshold=3):\n",
    "    \"\"\"Apply various statistical methods for anomaly detection.\"\"\"\n",
    "\n",
    "    if method == 'zscore':\n",
    "        z_scores = np.abs(stats.zscore(data[column]))\n",
    "        anomalies = z_scores > threshold\n",
    "        scores = z_scores\n",
    "\n",
    "    elif method == 'iqr':\n",
    "        Q1 = data[column].quantile(0.25)\n",
    "        Q3 = data[column].quantile(0.75)\n",
    "        IQR = Q3 - Q1\n",
    "        lower_bound = Q1 - 1.5 * IQR\n",
    "        upper_bound = Q3 + 1.5 * IQR\n",
    "        anomalies = (data[column] < lower_bound) | (data[column] > upper_bound)\n",
    "        scores = np.abs(data[column] - data[column].median()) / IQR\n",
    "\n",
    "    elif method == 'grubbs':\n",
    "        # Simplified Grubbs test (single outlier)\n",
    "        mean_val = data[column].mean()\n",
    "        std_val = data[column].std()\n",
    "        z_scores = np.abs((data[column] - mean_val) / std_val)\n",
    "\n",
    "        n = len(data)\n",
    "        t_critical = stats.t.ppf(1 - 0.05/(2*n), n-2) # Two-tailed test\n",
    "        grubbs_critical = ((n-1)/np.sqrt(n)) * np.sqrt(t_critical**2/(n-2+t_critical**2))\n",
    "\n",
    "        anomalies = z_scores > grubbs_critical\n",
    "        scores = z_scores\n",
    "\n",
    "    elif method == 'modified_zscore':\n",
    "        # Using median absolute deviation (more robust)\n",
    "        median = data[column].median()\n",
    "        mad = np.median(np.abs(data[column] - median))\n",
    "        modified_z_scores = 0.6745 * (data[column] - median) / mad\n",
    "        anomalies = np.abs(modified_z_scores) > threshold\n",
    "        scores = np.abs(modified_z_scores)\n",
    "\n",
    "    return anomalies, scores\n",
    "\n",
    "# Apply statistical methods to financial transaction amounts\n",
    "print(\"Financial Transaction Amount Analysis:\")\n",
    "\n",
    "stat_methods = ['zscore', 'iqr', 'grubbs', 'modified_zscore']\n",
    "stat_results = {}\n",
    "\n",
    "for method in stat_methods:\n",
    "    threshold = 3 if method in ['zscore', 'modified_zscore'] else None\n",
    "    anomalies, scores = statistical_anomaly_detection(\n",
    "        financial_df, 'transaction_amount', method, threshold\n",
    "    )\n",
    "\n",
    "    stat_results[method] = {\n",
    "        'anomalies': anomalies,\n",
    "        'scores': scores,\n",
    "        'count': anomalies.sum(),\n",
    "        'percentage': anomalies.mean() * 100\n",
    "    }\n",
    "\n",
    "    # Calculate precision, recall, F1 for fraud detection\n",
    "    if 'is_fraud' in financial_df.columns:\n",
    "        true_positives = ((anomalies) & (financial_df['is_fraud'] == 1)).sum()\n",
    "        false_positives = ((anomalies) & (financial_df['is_fraud'] == 0)).sum()\n",
    "        false_negatives = ((~anomalies) & (financial_df['is_fraud'] == 1)).sum()\n",
    "\n",
    "        precision = true_positives / (true_positives + false_positives) if (true_positives + false_positives) > 0 else 0\n",
    "        recall = true_positives / (true_positives + false_negatives) if (true_positives + false_negatives) > 0 else 0\n",
    "        f1 = 2 * (precision * recall) / (precision + recall) if (precision + recall) > 0 else 0\n",
    "\n",
    "        stat_results[method].update({\n",
    "            'precision': precision,\n",
    "            'recall': recall,\n",
    "            'f1': f1\n",
    "        })\n",
    "\n",
    "    print(f\"\\n{method.upper()} Method:\")\n",
    "    print(f\" • Anomalies detected: {anomalies.sum()} ({anomalies.mean()*100:.1f}%)\")\n",
    "    if 'precision' in stat_results[method]:\n",
    "        print(f\" • Precision: {precision:.3f}\")\n",
    "        print(f\" • Recall: {recall:.3f}\")\n",
    "        print(f\" • F1-Score: {f1:.3f}\")\n",
    "\n",
    "# Find best statistical method\n",
    "best_stat_method = max(stat_methods, key=lambda x: stat_results[x].get('f1', 0))\n",
    "print(f\"\\n Best Statistical Method: {best_stat_method.upper()} (F1: {stat_results[best_stat_method]['f1']:.3f})\")"
   ]
  },
  {
   "cell_type": "code",
   "execution_count": 16,
   "id": "bbd93367",
   "metadata": {},
   "outputs": [
    {
     "name": "stdout",
     "output_type": "stream",
     "text": [
      " 2. MACHINE LEARNING ANOMALY DETECTION\n",
      "=========================================\n",
      "\n",
      "Financial Fraud Detection Dataset Evaluation:\n",
      "=============================================\n",
      "\n",
      "Isolation Forest:\n",
      " • Anomalies detected: 820 (10.0%)\n",
      " • Precision: 0.244\n",
      " • Recall: 1.000\n",
      " • F1-Score: 0.392\n",
      " • AUC: 0.998\n",
      "\n",
      "Isolation Forest:\n",
      " • Anomalies detected: 820 (10.0%)\n",
      " • Precision: 0.244\n",
      " • Recall: 1.000\n",
      " • F1-Score: 0.392\n",
      " • AUC: 0.998\n",
      "\n",
      "One-Class SVM:\n",
      " • Anomalies detected: 819 (10.0%)\n",
      " • Precision: 0.244\n",
      " • Recall: 1.000\n",
      " • F1-Score: 0.393\n",
      " • AUC: 0.996\n",
      "\n",
      "Local Outlier Factor:\n",
      " • Anomalies detected: 820 (10.0%)\n",
      " • Precision: 0.061\n",
      " • Recall: 0.250\n",
      " • F1-Score: 0.098\n",
      "\n",
      "One-Class SVM:\n",
      " • Anomalies detected: 819 (10.0%)\n",
      " • Precision: 0.244\n",
      " • Recall: 1.000\n",
      " • F1-Score: 0.393\n",
      " • AUC: 0.996\n",
      "\n",
      "Local Outlier Factor:\n",
      " • Anomalies detected: 820 (10.0%)\n",
      " • Precision: 0.061\n",
      " • Recall: 0.250\n",
      " • F1-Score: 0.098\n",
      "\n",
      "Elliptic Envelope:\n",
      " • Anomalies detected: 820 (10.0%)\n",
      " • Precision: 0.232\n",
      " • Recall: 0.950\n",
      " • F1-Score: 0.373\n",
      " • AUC: 0.977\n",
      "\n",
      "DBSCAN:\n",
      " • Anomalies detected: 1337 (16.3%)\n",
      " • Precision: 0.129\n",
      " • Recall: 0.860\n",
      " • F1-Score: 0.224\n",
      "\n",
      "Manufacturing Quality Control Dataset Evaluation:\n",
      "=================================================\n",
      "\n",
      "Elliptic Envelope:\n",
      " • Anomalies detected: 820 (10.0%)\n",
      " • Precision: 0.232\n",
      " • Recall: 0.950\n",
      " • F1-Score: 0.373\n",
      " • AUC: 0.977\n",
      "\n",
      "DBSCAN:\n",
      " • Anomalies detected: 1337 (16.3%)\n",
      " • Precision: 0.129\n",
      " • Recall: 0.860\n",
      " • F1-Score: 0.224\n",
      "\n",
      "Manufacturing Quality Control Dataset Evaluation:\n",
      "=================================================\n",
      "\n",
      "Isolation Forest:\n",
      " • Anomalies detected: 515 (10.0%)\n",
      " • Precision: 0.291\n",
      " • Recall: 1.000\n",
      " • F1-Score: 0.451\n",
      " • AUC: 1.000\n",
      "\n",
      "Isolation Forest:\n",
      " • Anomalies detected: 515 (10.0%)\n",
      " • Precision: 0.291\n",
      " • Recall: 1.000\n",
      " • F1-Score: 0.451\n",
      " • AUC: 1.000\n",
      "\n",
      "One-Class SVM:\n",
      " • Anomalies detected: 517 (10.0%)\n",
      " • Precision: 0.290\n",
      " • Recall: 1.000\n",
      " • F1-Score: 0.450\n",
      " • AUC: 1.000\n",
      "\n",
      "Local Outlier Factor:\n",
      " • Anomalies detected: 515 (10.0%)\n",
      " • Precision: 0.047\n",
      " • Recall: 0.160\n",
      " • F1-Score: 0.072\n",
      "\n",
      "One-Class SVM:\n",
      " • Anomalies detected: 517 (10.0%)\n",
      " • Precision: 0.290\n",
      " • Recall: 1.000\n",
      " • F1-Score: 0.450\n",
      " • AUC: 1.000\n",
      "\n",
      "Local Outlier Factor:\n",
      " • Anomalies detected: 515 (10.0%)\n",
      " • Precision: 0.047\n",
      " • Recall: 0.160\n",
      " • F1-Score: 0.072\n",
      "\n",
      "Elliptic Envelope:\n",
      " • Anomalies detected: 515 (10.0%)\n",
      " • Precision: 0.291\n",
      " • Recall: 1.000\n",
      " • F1-Score: 0.451\n",
      " • AUC: 1.000\n",
      "\n",
      "DBSCAN:\n",
      " • Anomalies detected: 283 (5.5%)\n",
      " • Precision: 0.530\n",
      " • Recall: 1.000\n",
      " • F1-Score: 0.693\n",
      "\n",
      "\n",
      " BEST PERFORMING MODELS:\n",
      "==========================\n",
      "• Financial: One-Class SVM (F1: 0.393)\n",
      "• Manufacturing: DBSCAN (F1: 0.693)\n",
      "\n",
      "Elliptic Envelope:\n",
      " • Anomalies detected: 515 (10.0%)\n",
      " • Precision: 0.291\n",
      " • Recall: 1.000\n",
      " • F1-Score: 0.451\n",
      " • AUC: 1.000\n",
      "\n",
      "DBSCAN:\n",
      " • Anomalies detected: 283 (5.5%)\n",
      " • Precision: 0.530\n",
      " • Recall: 1.000\n",
      " • F1-Score: 0.693\n",
      "\n",
      "\n",
      " BEST PERFORMING MODELS:\n",
      "==========================\n",
      "• Financial: One-Class SVM (F1: 0.393)\n",
      "• Manufacturing: DBSCAN (F1: 0.693)\n"
     ]
    }
   ],
   "source": [
    "# 2. MACHINE LEARNING ANOMALY DETECTION\n",
    "print(\" 2. MACHINE LEARNING ANOMALY DETECTION\")\n",
    "print(\"=\" * 41)\n",
    "\n",
    "# Prepare data for ML models\n",
    "scaler = StandardScaler()\n",
    "\n",
    "# Financial data preparation\n",
    "financial_features = ['transaction_amount', 'account_age_days', 'daily_transaction_count',\n",
    " 'time_since_last_transaction', 'merchant_risk_score', 'is_weekend']\n",
    "X_financial = financial_df[financial_features].copy()\n",
    "X_financial_scaled = scaler.fit_transform(X_financial)\n",
    "\n",
    "# Manufacturing data preparation\n",
    "manufacturing_features = ['temperature', 'pressure', 'vibration', 'thickness']\n",
    "X_manufacturing = manufacturing_df[manufacturing_features].copy()\n",
    "X_manufacturing_scaled = StandardScaler().fit_transform(X_manufacturing)\n",
    "\n",
    "# Initialize ML anomaly detection models\n",
    "ml_models = {\n",
    " 'Isolation Forest': IsolationForest(contamination=0.1, random_state=42),\n",
    " 'One-Class SVM': OneClassSVM(gamma='scale', nu=0.1),\n",
    " 'Local Outlier Factor': LocalOutlierFactor(contamination=0.1),\n",
    " 'Elliptic Envelope': EllipticEnvelope(contamination=0.1),\n",
    " 'DBSCAN': DBSCAN(eps=0.5, min_samples=5)\n",
    "}\n",
    "\n",
    "def evaluate_ml_anomaly_detection(X, y_true, models, dataset_name):\n",
    "    \"\"\"Evaluate multiple ML anomaly detection models.\"\"\"\n",
    "\n",
    "    print(f\"\\n{dataset_name} Dataset Evaluation:\")\n",
    "    print(\"=\" * (len(dataset_name) + 20))\n",
    "\n",
    "    results = {}\n",
    "\n",
    "    for model_name, model in models.items():\n",
    "        try:\n",
    "            if model_name == 'Local Outlier Factor':\n",
    "                # LOF returns 1 for inliers, -1 for outliers\n",
    "                predictions = model.fit_predict(X)\n",
    "                anomaly_mask = predictions == -1\n",
    "\n",
    "            elif model_name == 'DBSCAN':\n",
    "                # DBSCAN labels: -1 for noise (anomalies), 0+ for clusters\n",
    "                predictions = model.fit_predict(X)\n",
    "                anomaly_mask = predictions == -1\n",
    "\n",
    "            else:\n",
    "                # Standard sklearn anomaly detection interface\n",
    "                model.fit(X)\n",
    "                predictions = model.predict(X)\n",
    "                anomaly_mask = predictions == -1\n",
    "\n",
    "            # Calculate performance metrics\n",
    "            if y_true is not None:\n",
    "                true_positives = ((anomaly_mask) & (y_true == 1)).sum()\n",
    "                false_positives = ((anomaly_mask) & (y_true == 0)).sum()\n",
    "                false_negatives = ((~anomaly_mask) & (y_true == 1)).sum()\n",
    "                true_negatives = ((~anomaly_mask) & (y_true == 0)).sum()\n",
    "\n",
    "                precision = true_positives / (true_positives + false_positives) if (true_positives + false_positives) > 0 else 0\n",
    "                recall = true_positives / (true_positives + false_negatives) if (true_positives + false_negatives) > 0 else 0\n",
    "                f1 = 2 * (precision * recall) / (precision + recall) if (precision + recall) > 0 else 0\n",
    "\n",
    "                # Calculate AUC if possible\n",
    "                try:\n",
    "                    if hasattr(model, 'decision_function'):\n",
    "                        scores = model.decision_function(X)\n",
    "                        auc = roc_auc_score(y_true, -scores) # Negative because anomalies have lower scores\n",
    "                    else:\n",
    "                        auc = None\n",
    "                except:\n",
    "                    auc = None\n",
    "            else:\n",
    "                precision = recall = f1 = auc = None\n",
    "\n",
    "            results[model_name] = {\n",
    "                'anomaly_mask': anomaly_mask,\n",
    "                'anomaly_count': anomaly_mask.sum(),\n",
    "                'anomaly_percentage': anomaly_mask.mean() * 100,\n",
    "                'precision': precision,\n",
    "                'recall': recall,\n",
    "                'f1': f1,\n",
    "                'auc': auc,\n",
    "                'model': model\n",
    "            }\n",
    "\n",
    "            print(f\"\\n{model_name}:\")\n",
    "            print(f\" • Anomalies detected: {anomaly_mask.sum()} ({anomaly_mask.mean()*100:.1f}%)\")\n",
    "            if precision is not None:\n",
    "                print(f\" • Precision: {precision:.3f}\")\n",
    "                print(f\" • Recall: {recall:.3f}\")\n",
    "                print(f\" • F1-Score: {f1:.3f}\")\n",
    "            if auc is not None:\n",
    "                print(f\" • AUC: {auc:.3f}\")\n",
    "\n",
    "        except Exception as e:\n",
    "            print(f\"\\n{model_name}: Error - {str(e)}\")\n",
    "            results[model_name] = None\n",
    "\n",
    "    return results\n",
    "\n",
    "# Evaluate models on both datasets\n",
    "financial_results = evaluate_ml_anomaly_detection(\n",
    " X_financial_scaled, financial_df['is_fraud'], ml_models, \"Financial Fraud Detection\"\n",
    ")\n",
    "\n",
    "manufacturing_results = evaluate_ml_anomaly_detection(\n",
    " X_manufacturing_scaled, manufacturing_df['is_defective'], ml_models, \"Manufacturing Quality Control\"\n",
    ")\n",
    "\n",
    "# Find best models for each dataset\n",
    "def find_best_model(results):\n",
    "    \"\"\"Find best performing model based on F1 score.\"\"\"\n",
    "    valid_results = {k: v for k, v in results.items() if v is not None and v['f1'] is not None}\n",
    "    if valid_results:\n",
    "        return max(valid_results.keys(), key=lambda x: valid_results[x]['f1'])\n",
    "    return None\n",
    "\n",
    "best_financial_model = find_best_model(financial_results)\n",
    "best_manufacturing_model = find_best_model(manufacturing_results)\n",
    "\n",
    "print(f\"\\n\\n BEST PERFORMING MODELS:\")\n",
    "print(\"=\" * 26)\n",
    "if best_financial_model:\n",
    " print(f\"• Financial: {best_financial_model} (F1: {financial_results[best_financial_model]['f1']:.3f})\")\n",
    "if best_manufacturing_model:\n",
    " print(f\"• Manufacturing: {best_manufacturing_model} (F1: {manufacturing_results[best_manufacturing_model]['f1']:.3f})\")"
   ]
  },
  {
   "cell_type": "code",
   "execution_count": 17,
   "id": "f30c0e7a",
   "metadata": {},
   "outputs": [
    {
     "name": "stdout",
     "output_type": "stream",
     "text": [
      " 3. ENSEMBLE ANOMALY DETECTION\n",
      "===============================\n",
      "Financial Data Ensemble Detection:\n",
      "• Ensemble Anomalies detected: 758 (9.2%)\n",
      "• Ensemble Precision: 0.264\n",
      "• Ensemble Recall: 1.000\n",
      "• Ensemble F1-Score: 0.418\n",
      "• Ensemble Anomalies detected: 758 (9.2%)\n",
      "• Ensemble Precision: 0.264\n",
      "• Ensemble Recall: 1.000\n",
      "• Ensemble F1-Score: 0.418\n"
     ]
    }
   ],
   "source": [
    "# 3. ENSEMBLE ANOMALY DETECTION\n",
    "print(\" 3. ENSEMBLE ANOMALY DETECTION\")\n",
    "print(\"=\" * 31)\n",
    "\n",
    "class EnsembleAnomalyDetector:\n",
    "    \"\"\"Ensemble anomaly detector combining multiple methods.\"\"\"\n",
    "\n",
    "    def __init__(self, models=None, voting='majority', weights=None):\n",
    "        self.models = models or [\n",
    "            IsolationForest(contamination=0.1, random_state=42),\n",
    "            OneClassSVM(gamma='scale', nu=0.1),\n",
    "            EllipticEnvelope(contamination=0.1)\n",
    "        ]\n",
    "        self.voting = voting\n",
    "        self.weights = weights or [1.0] * len(self.models)\n",
    "        self.fitted_models = []\n",
    "\n",
    "    def fit(self, X):\n",
    "        \"\"\"Fit all models in the ensemble.\"\"\"\n",
    "        self.fitted_models = []\n",
    "        for model in self.models:\n",
    "            fitted_model = model.fit(X)\n",
    "            self.fitted_models.append(fitted_model)\n",
    "        return self\n",
    "\n",
    "    def predict(self, X):\n",
    "        \"\"\"Predict anomalies using ensemble voting.\"\"\"\n",
    "        predictions = []\n",
    "\n",
    "        for model in self.fitted_models:\n",
    "            pred = model.predict(X)\n",
    "            # Convert to binary (1 for normal, 0 for anomaly)\n",
    "            pred_binary = (pred == 1).astype(int)\n",
    "            predictions.append(pred_binary)\n",
    "\n",
    "        predictions = np.array(predictions)\n",
    "\n",
    "        if self.voting == 'majority':\n",
    "            # Majority vote (anomaly if majority says anomaly)\n",
    "            ensemble_pred = (np.mean(predictions, axis=0) < 0.5).astype(int)\n",
    "        elif self.voting == 'weighted':\n",
    "            # Weighted vote\n",
    "            weighted_pred = np.average(predictions, axis=0, weights=self.weights)\n",
    "            ensemble_pred = (weighted_pred < 0.5).astype(int)\n",
    "\n",
    "        return ensemble_pred\n",
    "\n",
    "    def get_anomaly_scores(self, X):\n",
    "        \"\"\"Get ensemble anomaly scores.\"\"\"\n",
    "        scores = []\n",
    "\n",
    "        for model in self.fitted_models:\n",
    "            if hasattr(model, 'decision_function'):\n",
    "                score = -model.decision_function(X) # Negative for anomaly scores\n",
    "            elif hasattr(model, 'score_samples'):\n",
    "                score = -model.score_samples(X)\n",
    "            else:\n",
    "                # Fallback to prediction confidence\n",
    "                pred = model.predict(X)\n",
    "                score = (pred == -1).astype(float)\n",
    "            scores.append(score)\n",
    "\n",
    "        # Average scores\n",
    "        ensemble_scores = np.mean(scores, axis=0)\n",
    "        return ensemble_scores\n",
    "\n",
    "# Test ensemble detector on financial data\n",
    "print(\"Financial Data Ensemble Detection:\")\n",
    "\n",
    "ensemble_detector = EnsembleAnomalyDetector(voting='majority')\n",
    "ensemble_detector.fit(X_financial_scaled)\n",
    "ensemble_predictions = ensemble_detector.predict(X_financial_scaled)\n",
    "ensemble_scores = ensemble_detector.get_anomaly_scores(X_financial_scaled)\n",
    "\n",
    "# Evaluate ensemble performance\n",
    "ensemble_anomalies = ensemble_predictions == 1\n",
    "true_positives = ((ensemble_anomalies) & (financial_df['is_fraud'] == 1)).sum()\n",
    "false_positives = ((ensemble_anomalies) & (financial_df['is_fraud'] == 0)).sum()\n",
    "false_negatives = ((~ensemble_anomalies) & (financial_df['is_fraud'] == 1)).sum()\n",
    "\n",
    "ensemble_precision = true_positives / (true_positives + false_positives) if (true_positives + false_positives) > 0 else 0\n",
    "ensemble_recall = true_positives / (true_positives + false_negatives) if (true_positives + false_negatives) > 0 else 0\n",
    "ensemble_f1 = 2 * (ensemble_precision * ensemble_recall) / (ensemble_precision + ensemble_recall) if (ensemble_precision + ensemble_recall) > 0 else 0\n",
    "\n",
    "print(f\"• Ensemble Anomalies detected: {ensemble_anomalies.sum()} ({ensemble_anomalies.mean()*100:.1f}%)\")\n",
    "print(f\"• Ensemble Precision: {ensemble_precision:.3f}\")\n",
    "print(f\"• Ensemble Recall: {ensemble_recall:.3f}\")\n",
    "print(f\"• Ensemble F1-Score: {ensemble_f1:.3f}\")"
   ]
  },
  {
   "cell_type": "code",
   "execution_count": 21,
   "id": "5e7bee24",
   "metadata": {},
   "outputs": [
    {
     "name": "stdout",
     "output_type": "stream",
     "text": [
      " 4. COMPREHENSIVE ANOMALY DETECTION DASHBOARD\n",
      "=================================================\n"
     ]
    },
    {
     "data": {
      "application/vnd.plotly.v1+json": {
       "config": {
        "plotlyServerURL": "https://plot.ly"
       },
       "data": [
        {
         "marker": {
          "color": "blue",
          "opacity": 0.6,
          "size": 4
         },
         "mode": "markers",
         "name": "Normal Transactions",
         "type": "scatter",
         "x": {
          "bdata": "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",
          "dtype": "f8"
         },
         "xaxis": "x",
         "y": {
          "bdata": "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",
          "dtype": "f8"
         },
         "yaxis": "y"
        },
        {
         "marker": {
          "color": "red",
          "size": 6,
          "symbol": "x"
         },
         "mode": "markers",
         "name": "Fraudulent Transactions",
         "type": "scatter",
         "x": {
          "bdata": "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",
          "dtype": "f8"
         },
         "xaxis": "x",
         "y": {
          "bdata": "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",
          "dtype": "f8"
         },
         "yaxis": "y"
        },
        {
         "marker": {
          "color": "green",
          "opacity": 0.6,
          "size": 4
         },
         "mode": "markers",
         "name": "Normal Parts",
         "type": "scatter",
         "x": {
          "bdata": "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",
          "dtype": "f8"
         },
         "xaxis": "x2",
         "y": {
          "bdata": "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",
          "dtype": "f8"
         },
         "yaxis": "y2"
        },
        {
         "marker": {
          "color": "red",
          "size": 6,
          "symbol": "x"
         },
         "mode": "markers",
         "name": "Defective Parts",
         "type": "scatter",
         "x": {
          "bdata": "IluCKJV6a0DGuJIQWu5oQMmcx7YVYWhA8m2yLqEGakBxirUwG7VxQHIqSq8T8HBAIPc7nOaAakA2oY/UzD5pQAetTkSpIWtAl9S4HFGhaEBsgCHlb5VnQCT8mPBganBAR3OFs5RsbUDPbATMbwJpQHvS6Iabv3NAgFoQOZw7aEBXHuQTyDVnQNthKlNnq3RAOlMn+5c3b0CFfvUSZTBnQOUyPL0tz2tAze6eRZiVY0BTLoRE/ehyQGB4rzuJaXJAQoceknXycUAkQ5P40hxrQOjJNA8jE2dAtPXWoSnKdEApbtfMiX1xQHprv1WDG3JA7fRE0q4cdEB4WeKQIsVpQFG52BYQSXJAcAznxPljaUB7yYlPYldoQLre42pL8XRAkqtBwBehaUDlxYFaQRBoQF/Un6MsFmlA6k3ubQkTaUD8GxqdRKhwQPli4JTQpWdAn77/SiSQb0BmZz6oT/pyQB3cuclMinNACgegnVq5c0BfolrxsnJrQPM3sd+28GZARyU9Tv2Vc0Aji+4pT+lwQLWvK7hJ2WVAJzy7ISobaUDxfl9w74hyQHhEVCbRPWpAfChxuED/ZkD6ai/1a59qQEcEXTuZSnJARNAAvKlWdEDnsYxlnJ5yQHz2vZ0wGWtAVLL2mnvmckDve3JG3L1oQJiEXkpjfmlA0mpAySsdakCzTIGd2IpyQGf4a5cRLWlA0K6bHtsLc0DrUWo8+mNyQEMvgXHr729A7FxJmfXxaECefeZ6nXVyQCCdMXWYZW9AQSPC2GbQa0As/EYyxz1tQJfB8SGBNWtAOjZR7sxKakAdoJlI/1hyQEQCaPLQ5mJACAQ9R6odaECWMiRc0phxQF9snapSBXFA9z4FTkrJZ0Av9141UJdyQA0Ea4uZ1nFAYlJidOiKcUCU/75e7DdzQHLb9iS1d25ADnp0iHwPcECf5jhdaxBoQAWoCQ7SAnFAmUIlm/rxc0DCptZK8UV0QApts2jfXHJAJj70ccpKa0DnWnbFw89wQObp+g+wz2dAH31tPap1akDTrhD8n5dnQJShWTTCCnRAiM1BczTxckDNT5ryUNZ3QBeJJ6inoXBATreWtZl5c0DQfdrSHhpmQN/bb7IkoHFAq3QVSrY6akCPw7TtPDxvQMZ+JqA6Y3NAaQN5/b41c0CiYxMfZjZzQOz2VQ07l2hAPtB3PZGhaUAol/f7bvNoQIVlAL6eiHNA1tIZuEXPaECLyLFFbqRqQJ3IeM/f8mdAMgTYf2DRbEChiMkgO41xQEU+BJYGnGhA37Ti4FcUb0Ccb07DUPZyQKQOYbhrgXJApgTA8ek2akAZZipITRxxQGEhCaPnSHNAPo8YN4sVcUAlzfyVWRhvQNUOQaI9lnBAt+C2Cjkga0DwpVddknFqQI7v8q+I6HBAhq3CgvbSdUBIos5io79xQHqUl15WQGlASDx3lQZ6ckB/3WGdeHFqQEqmacv/dnJAr6/BteMaaEBAdihOhelwQCK8P3n5TnJAv913Em2CY0Daq2DB07dyQB1QP8HKxmhAQe3Q3nU1cUD71VL/NohsQKBhHDGPVHRA7nwVVnXNcUC6D31/GfpxQFsFvuoLlXVA",
          "dtype": "f8"
         },
         "xaxis": "x2",
         "y": {
          "bdata": "WKdE5O0HFUCy4IaHZVAUQKUMYFO2ozZAMKeLgZMLGkAKt0deREI+QN66r7dXEDxAFC1J25TJEUBMu0+zHuX3P9Y6htMX5jBAH+tI9bqiIUDgOolNmzIgQBg6XbKa1hRA/LDw+jpeHUA1ignug7MvQO9joaupUThAKNetSFcKPkD6Nm3hTnIXQLtKJHjW7TVAxdB5TAVAGEA0iumfDbcZQD4KphqdYxxAqMr93TIYHUC3iYRm1/E8QEbE+2zHPTZAXX+4ZC94NED/1sCjRjgZQMQEAqbXqwpAmmZp5FFpF0DJnXosukw7QPewlvopWzlATS/bVxLoO0B04c89b6g3QD54WnijoDdA+EQLAPYQIECGrH0qgvkRQLIOZwhrjj5AAMweNDO5M0AOIPFypK4HQDbdcfQ8qhNAol/zCLZEMUBPU+lZrvwCQAx9NfEWCjhAdVPHznkXB0Aawu4nGW85QIQPonqBSzpA3qK92CUAEED2zWnV9D4cQGQEb+sdyBdAd/6jKgqzQEDuYniGSY8PQFd2EG4IYilAafP2VZQ2FkD8+NFGv108QEDYqhvWnDdA8iOU2etjOEDEtVaC1K0cQBGjYFx5UDhA73TaoX+mOUCw2KpxHZs4QF7bf0KQMBdAPhbztnnHOECv2qTZ+506QC+USHNrRzRAt6RJRoL4O0B0jvGhMuk9QH7fT83Fdvs/DmjMEZSnDUD58Es/DxAzQFK8Xby3JQ9A0pDECYkDOkDQ3t4dIZAzQPOjnDzJ2xtArvxE2vGuHkAtTjcaYHMQQKKaGqEXQgJAClRI+hKvO0B027TX0no4QObuZDLQkiJAvpKertUyF0D1yM9hYvY9QAjtIFZGEgNAAtkGe4bmHEAMixkpZ2Y1QHz5E3GPLR9A4Cjy7Lz6EEBtWY4OSKI5QMlxEF6uhg9AsEULtDL99T9EtQ71aHs0QCBje9gO7RBA+s/KYlV2PED0c+op5Yo0QI5lVIob5zRAgG9I8dapIEANdFPPNFA3QJigRwCRsDhA1khnH1EbEUCHEOCUTvgSQLG6VIBBHTlActzQoel/GUD0RBwsqrQRQGDYqpqyjv0/nIetReYbNUAhCPL3GLI5QIejZ7QdkzBASZqOmM0VOUBYhECm6eY7QLM7ti4ZljZAkRX1nNAKPEDI9xwdZVoaQAcsT/7/ExZAw0uHAI8xJUBDSBuLGLQ8QMR3yggTdTRAFKOC6z9VIEDfWGkDKscWQAYS1DwZVzhAqUK3uWU8HkCn1aJU/NA3QPOUSZmLi0BAvbHjMykPFkBm13alOMw9QEL7H2ufmTlA56ffiUUyPkBPnuc+7uABQMQosFD+y0BAbEUqdjS9DEBC++vQUN8iQNU+2OScNDFAKHaBeCY0EUA9h1UTvHYBQH68g44foBhAwP6KLmfRDkDYiJaFT2gsQKQeLXEH6DhAoXqtT0qnO0DfshSsdkATQPTXUTWIaRpAn5ztb5C0F0ClNNkgdTc7QGm77BEQ0z5AiXkvaBDfDEAcNdOUo2MvQAgIZnMRGThAs1AcN3+DE0BZOAKX+NIUQAlWjrHQBTlANSq+kGt8OECCl1t6kOcEQA9SLoX6YxpA",
          "dtype": "f8"
         },
         "yaxis": "y2"
        },
        {
         "marker": {
          "color": "lightcoral"
         },
         "name": "F1 Scores",
         "type": "bar",
         "x": [
          "Stat: zscore",
          "Stat: iqr",
          "Stat: grubbs",
          "Stat: modified_zscore",
          "ML: Isolation Forest",
          "ML: One-Class SVM",
          "ML: Local Outlier Factor",
          "ML: Elliptic Envelope",
          "ML: DBSCAN"
         ],
         "xaxis": "x3",
         "y": [
          0.49624060150375937,
          0.26229508196721313,
          0.47328244274809156,
          0.23324150596877868,
          0.39215686274509803,
          0.39254170755642787,
          0.09803921568627451,
          0.37254901960784315,
          0.22381262199089136
         ],
         "yaxis": "y3"
        },
        {
         "marker": {
          "color": "blue"
         },
         "name": "Normal Scores",
         "nbinsx": 30,
         "opacity": 0.7,
         "type": "histogram",
         "x": {
          "bdata": "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",
          "dtype": "f8"
         },
         "xaxis": "x4",
         "yaxis": "y4"
        },
        {
         "marker": {
          "color": "red"
         },
         "name": "Anomaly Scores",
         "nbinsx": 30,
         "opacity": 0.7,
         "type": "histogram",
         "x": {
          "bdata": "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",
          "dtype": "f8"
         },
         "xaxis": "x4",
         "yaxis": "y4"
        },
        {
         "marker": {
          "color": "lightgreen"
         },
         "name": "Model F1 Scores",
         "type": "bar",
         "x": [
          "Isolation Forest",
          "One-Class SVM",
          "Local Outlier Factor",
          "Elliptic Envelope",
          "DBSCAN"
         ],
         "xaxis": "x5",
         "y": [
          0.39215686274509803,
          0.39254170755642787,
          0.09803921568627451,
          0.37254901960784315,
          0.22381262199089136
         ],
         "yaxis": "y5"
        },
        {
         "line": {
          "color": "purple",
          "width": 2
         },
         "mode": "lines",
         "name": "ROC (One-Class SVM)",
         "type": "scatter",
         "x": {
          "bdata": "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",
          "dtype": "f8"
         },
         "xaxis": "x6",
         "y": {
          "bdata": "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",
          "dtype": "f8"
         },
         "yaxis": "y6"
        },
        {
         "line": {
          "color": "gray",
          "dash": "dash",
          "width": 1
         },
         "mode": "lines",
         "name": "Random Classifier",
         "type": "scatter",
         "x": [
          0,
          1
         ],
         "xaxis": "x6",
         "y": [
          0,
          1
         ],
         "yaxis": "y6"
        }
       ],
       "layout": {
        "annotations": [
         {
          "font": {
           "size": 16
          },
          "showarrow": false,
          "text": "Financial Transaction Anomalies",
          "x": 0.14444444444444446,
          "xanchor": "center",
          "xref": "paper",
          "y": 1,
          "yanchor": "bottom",
          "yref": "paper"
         },
         {
          "font": {
           "size": 16
          },
          "showarrow": false,
          "text": "Manufacturing Quality Control",
          "x": 0.5,
          "xanchor": "center",
          "xref": "paper",
          "y": 1,
          "yanchor": "bottom",
          "yref": "paper"
         },
         {
          "font": {
           "size": 16
          },
          "showarrow": false,
          "text": "Statistical vs ML Methods",
          "x": 0.8555555555555556,
          "xanchor": "center",
          "xref": "paper",
          "y": 1,
          "yanchor": "bottom",
          "yref": "paper"
         },
         {
          "font": {
           "size": 16
          },
          "showarrow": false,
          "text": "Anomaly Score Distribution",
          "x": 0.14444444444444446,
          "xanchor": "center",
          "xref": "paper",
          "y": 0.375,
          "yanchor": "bottom",
          "yref": "paper"
         },
         {
          "font": {
           "size": 16
          },
          "showarrow": false,
          "text": "Model Performance Comparison",
          "x": 0.5,
          "xanchor": "center",
          "xref": "paper",
          "y": 0.375,
          "yanchor": "bottom",
          "yref": "paper"
         },
         {
          "font": {
           "size": 16
          },
          "showarrow": false,
          "text": "ROC Curves",
          "x": 0.8555555555555556,
          "xanchor": "center",
          "xref": "paper",
          "y": 0.375,
          "yanchor": "bottom",
          "yref": "paper"
         }
        ],
        "height": 800,
        "showlegend": true,
        "template": {
         "data": {
          "bar": [
           {
            "error_x": {
             "color": "#2a3f5f"
            },
            "error_y": {
             "color": "#2a3f5f"
            },
            "marker": {
             "line": {
              "color": "#E5ECF6",
              "width": 0.5
             },
             "pattern": {
              "fillmode": "overlay",
              "size": 10,
              "solidity": 0.2
             }
            },
            "type": "bar"
           }
          ],
          "barpolar": [
           {
            "marker": {
             "line": {
              "color": "#E5ECF6",
              "width": 0.5
             },
             "pattern": {
              "fillmode": "overlay",
              "size": 10,
              "solidity": 0.2
             }
            },
            "type": "barpolar"
           }
          ],
          "carpet": [
           {
            "aaxis": {
             "endlinecolor": "#2a3f5f",
             "gridcolor": "white",
             "linecolor": "white",
             "minorgridcolor": "white",
             "startlinecolor": "#2a3f5f"
            },
            "baxis": {
             "endlinecolor": "#2a3f5f",
             "gridcolor": "white",
             "linecolor": "white",
             "minorgridcolor": "white",
             "startlinecolor": "#2a3f5f"
            },
            "type": "carpet"
           }
          ],
          "choropleth": [
           {
            "colorbar": {
             "outlinewidth": 0,
             "ticks": ""
            },
            "type": "choropleth"
           }
          ],
          "contour": [
           {
            "colorbar": {
             "outlinewidth": 0,
             "ticks": ""
            },
            "colorscale": [
             [
              0,
              "#0d0887"
             ],
             [
              0.1111111111111111,
              "#46039f"
             ],
             [
              0.2222222222222222,
              "#7201a8"
             ],
             [
              0.3333333333333333,
              "#9c179e"
             ],
             [
              0.4444444444444444,
              "#bd3786"
             ],
             [
              0.5555555555555556,
              "#d8576b"
             ],
             [
              0.6666666666666666,
              "#ed7953"
             ],
             [
              0.7777777777777778,
              "#fb9f3a"
             ],
             [
              0.8888888888888888,
              "#fdca26"
             ],
             [
              1,
              "#f0f921"
             ]
            ],
            "type": "contour"
           }
          ],
          "contourcarpet": [
           {
            "colorbar": {
             "outlinewidth": 0,
             "ticks": ""
            },
            "type": "contourcarpet"
           }
          ],
          "heatmap": [
           {
            "colorbar": {
             "outlinewidth": 0,
             "ticks": ""
            },
            "colorscale": [
             [
              0,
              "#0d0887"
             ],
             [
              0.1111111111111111,
              "#46039f"
             ],
             [
              0.2222222222222222,
              "#7201a8"
             ],
             [
              0.3333333333333333,
              "#9c179e"
             ],
             [
              0.4444444444444444,
              "#bd3786"
             ],
             [
              0.5555555555555556,
              "#d8576b"
             ],
             [
              0.6666666666666666,
              "#ed7953"
             ],
             [
              0.7777777777777778,
              "#fb9f3a"
             ],
             [
              0.8888888888888888,
              "#fdca26"
             ],
             [
              1,
              "#f0f921"
             ]
            ],
            "type": "heatmap"
           }
          ],
          "histogram": [
           {
            "marker": {
             "pattern": {
              "fillmode": "overlay",
              "size": 10,
              "solidity": 0.2
             }
            },
            "type": "histogram"
           }
          ],
          "histogram2d": [
           {
            "colorbar": {
             "outlinewidth": 0,
             "ticks": ""
            },
            "colorscale": [
             [
              0,
              "#0d0887"
             ],
             [
              0.1111111111111111,
              "#46039f"
             ],
             [
              0.2222222222222222,
              "#7201a8"
             ],
             [
              0.3333333333333333,
              "#9c179e"
             ],
             [
              0.4444444444444444,
              "#bd3786"
             ],
             [
              0.5555555555555556,
              "#d8576b"
             ],
             [
              0.6666666666666666,
              "#ed7953"
             ],
             [
              0.7777777777777778,
              "#fb9f3a"
             ],
             [
              0.8888888888888888,
              "#fdca26"
             ],
             [
              1,
              "#f0f921"
             ]
            ],
            "type": "histogram2d"
           }
          ],
          "histogram2dcontour": [
           {
            "colorbar": {
             "outlinewidth": 0,
             "ticks": ""
            },
            "colorscale": [
             [
              0,
              "#0d0887"
             ],
             [
              0.1111111111111111,
              "#46039f"
             ],
             [
              0.2222222222222222,
              "#7201a8"
             ],
             [
              0.3333333333333333,
              "#9c179e"
             ],
             [
              0.4444444444444444,
              "#bd3786"
             ],
             [
              0.5555555555555556,
              "#d8576b"
             ],
             [
              0.6666666666666666,
              "#ed7953"
             ],
             [
              0.7777777777777778,
              "#fb9f3a"
             ],
             [
              0.8888888888888888,
              "#fdca26"
             ],
             [
              1,
              "#f0f921"
             ]
            ],
            "type": "histogram2dcontour"
           }
          ],
          "mesh3d": [
           {
            "colorbar": {
             "outlinewidth": 0,
             "ticks": ""
            },
            "type": "mesh3d"
           }
          ],
          "parcoords": [
           {
            "line": {
             "colorbar": {
              "outlinewidth": 0,
              "ticks": ""
             }
            },
            "type": "parcoords"
           }
          ],
          "pie": [
           {
            "automargin": true,
            "type": "pie"
           }
          ],
          "scatter": [
           {
            "fillpattern": {
             "fillmode": "overlay",
             "size": 10,
             "solidity": 0.2
            },
            "type": "scatter"
           }
          ],
          "scatter3d": [
           {
            "line": {
             "colorbar": {
              "outlinewidth": 0,
              "ticks": ""
             }
            },
            "marker": {
             "colorbar": {
              "outlinewidth": 0,
              "ticks": ""
             }
            },
            "type": "scatter3d"
           }
          ],
          "scattercarpet": [
           {
            "marker": {
             "colorbar": {
              "outlinewidth": 0,
              "ticks": ""
             }
            },
            "type": "scattercarpet"
           }
          ],
          "scattergeo": [
           {
            "marker": {
             "colorbar": {
              "outlinewidth": 0,
              "ticks": ""
             }
            },
            "type": "scattergeo"
           }
          ],
          "scattergl": [
           {
            "marker": {
             "colorbar": {
              "outlinewidth": 0,
              "ticks": ""
             }
            },
            "type": "scattergl"
           }
          ],
          "scattermap": [
           {
            "marker": {
             "colorbar": {
              "outlinewidth": 0,
              "ticks": ""
             }
            },
            "type": "scattermap"
           }
          ],
          "scattermapbox": [
           {
            "marker": {
             "colorbar": {
              "outlinewidth": 0,
              "ticks": ""
             }
            },
            "type": "scattermapbox"
           }
          ],
          "scatterpolar": [
           {
            "marker": {
             "colorbar": {
              "outlinewidth": 0,
              "ticks": ""
             }
            },
            "type": "scatterpolar"
           }
          ],
          "scatterpolargl": [
           {
            "marker": {
             "colorbar": {
              "outlinewidth": 0,
              "ticks": ""
             }
            },
            "type": "scatterpolargl"
           }
          ],
          "scatterternary": [
           {
            "marker": {
             "colorbar": {
              "outlinewidth": 0,
              "ticks": ""
             }
            },
            "type": "scatterternary"
           }
          ],
          "surface": [
           {
            "colorbar": {
             "outlinewidth": 0,
             "ticks": ""
            },
            "colorscale": [
             [
              0,
              "#0d0887"
             ],
             [
              0.1111111111111111,
              "#46039f"
             ],
             [
              0.2222222222222222,
              "#7201a8"
             ],
             [
              0.3333333333333333,
              "#9c179e"
             ],
             [
              0.4444444444444444,
              "#bd3786"
             ],
             [
              0.5555555555555556,
              "#d8576b"
             ],
             [
              0.6666666666666666,
              "#ed7953"
             ],
             [
              0.7777777777777778,
              "#fb9f3a"
             ],
             [
              0.8888888888888888,
              "#fdca26"
             ],
             [
              1,
              "#f0f921"
             ]
            ],
            "type": "surface"
           }
          ],
          "table": [
           {
            "cells": {
             "fill": {
              "color": "#EBF0F8"
             },
             "line": {
              "color": "white"
             }
            },
            "header": {
             "fill": {
              "color": "#C8D4E3"
             },
             "line": {
              "color": "white"
             }
            },
            "type": "table"
           }
          ]
         },
         "layout": {
          "annotationdefaults": {
           "arrowcolor": "#2a3f5f",
           "arrowhead": 0,
           "arrowwidth": 1
          },
          "autotypenumbers": "strict",
          "coloraxis": {
           "colorbar": {
            "outlinewidth": 0,
            "ticks": ""
           }
          },
          "colorscale": {
           "diverging": [
            [
             0,
             "#8e0152"
            ],
            [
             0.1,
             "#c51b7d"
            ],
            [
             0.2,
             "#de77ae"
            ],
            [
             0.3,
             "#f1b6da"
            ],
            [
             0.4,
             "#fde0ef"
            ],
            [
             0.5,
             "#f7f7f7"
            ],
            [
             0.6,
             "#e6f5d0"
            ],
            [
             0.7,
             "#b8e186"
            ],
            [
             0.8,
             "#7fbc41"
            ],
            [
             0.9,
             "#4d9221"
            ],
            [
             1,
             "#276419"
            ]
           ],
           "sequential": [
            [
             0,
             "#0d0887"
            ],
            [
             0.1111111111111111,
             "#46039f"
            ],
            [
             0.2222222222222222,
             "#7201a8"
            ],
            [
             0.3333333333333333,
             "#9c179e"
            ],
            [
             0.4444444444444444,
             "#bd3786"
            ],
            [
             0.5555555555555556,
             "#d8576b"
            ],
            [
             0.6666666666666666,
             "#ed7953"
            ],
            [
             0.7777777777777778,
             "#fb9f3a"
            ],
            [
             0.8888888888888888,
             "#fdca26"
            ],
            [
             1,
             "#f0f921"
            ]
           ],
           "sequentialminus": [
            [
             0,
             "#0d0887"
            ],
            [
             0.1111111111111111,
             "#46039f"
            ],
            [
             0.2222222222222222,
             "#7201a8"
            ],
            [
             0.3333333333333333,
             "#9c179e"
            ],
            [
             0.4444444444444444,
             "#bd3786"
            ],
            [
             0.5555555555555556,
             "#d8576b"
            ],
            [
             0.6666666666666666,
             "#ed7953"
            ],
            [
             0.7777777777777778,
             "#fb9f3a"
            ],
            [
             0.8888888888888888,
             "#fdca26"
            ],
            [
             1,
             "#f0f921"
            ]
           ]
          },
          "colorway": [
           "#636efa",
           "#EF553B",
           "#00cc96",
           "#ab63fa",
           "#FFA15A",
           "#19d3f3",
           "#FF6692",
           "#B6E880",
           "#FF97FF",
           "#FECB52"
          ],
          "font": {
           "color": "#2a3f5f"
          },
          "geo": {
           "bgcolor": "white",
           "lakecolor": "white",
           "landcolor": "#E5ECF6",
           "showlakes": true,
           "showland": true,
           "subunitcolor": "white"
          },
          "hoverlabel": {
           "align": "left"
          },
          "hovermode": "closest",
          "mapbox": {
           "style": "light"
          },
          "paper_bgcolor": "white",
          "plot_bgcolor": "#E5ECF6",
          "polar": {
           "angularaxis": {
            "gridcolor": "white",
            "linecolor": "white",
            "ticks": ""
           },
           "bgcolor": "#E5ECF6",
           "radialaxis": {
            "gridcolor": "white",
            "linecolor": "white",
            "ticks": ""
           }
          },
          "scene": {
           "xaxis": {
            "backgroundcolor": "#E5ECF6",
            "gridcolor": "white",
            "gridwidth": 2,
            "linecolor": "white",
            "showbackground": true,
            "ticks": "",
            "zerolinecolor": "white"
           },
           "yaxis": {
            "backgroundcolor": "#E5ECF6",
            "gridcolor": "white",
            "gridwidth": 2,
            "linecolor": "white",
            "showbackground": true,
            "ticks": "",
            "zerolinecolor": "white"
           },
           "zaxis": {
            "backgroundcolor": "#E5ECF6",
            "gridcolor": "white",
            "gridwidth": 2,
            "linecolor": "white",
            "showbackground": true,
            "ticks": "",
            "zerolinecolor": "white"
           }
          },
          "shapedefaults": {
           "line": {
            "color": "#2a3f5f"
           }
          },
          "ternary": {
           "aaxis": {
            "gridcolor": "white",
            "linecolor": "white",
            "ticks": ""
           },
           "baxis": {
            "gridcolor": "white",
            "linecolor": "white",
            "ticks": ""
           },
           "bgcolor": "#E5ECF6",
           "caxis": {
            "gridcolor": "white",
            "linecolor": "white",
            "ticks": ""
           }
          },
          "title": {
           "x": 0.05
          },
          "xaxis": {
           "automargin": true,
           "gridcolor": "white",
           "linecolor": "white",
           "ticks": "",
           "title": {
            "standoff": 15
           },
           "zerolinecolor": "white",
           "zerolinewidth": 2
          },
          "yaxis": {
           "automargin": true,
           "gridcolor": "white",
           "linecolor": "white",
           "ticks": "",
           "title": {
            "standoff": 15
           },
           "zerolinecolor": "white",
           "zerolinewidth": 2
          }
         }
        },
        "title": {
         "text": "Comprehensive Anomaly Detection Dashboard"
        },
        "xaxis": {
         "anchor": "y",
         "domain": [
          0,
          0.2888888888888889
         ],
         "title": {
          "text": "Transaction Amount"
         }
        },
        "xaxis2": {
         "anchor": "y2",
         "domain": [
          0.35555555555555557,
          0.6444444444444445
         ],
         "title": {
          "text": "Temperature"
         }
        },
        "xaxis3": {
         "anchor": "y3",
         "domain": [
          0.7111111111111111,
          1
         ],
         "title": {
          "text": "Method"
         }
        },
        "xaxis4": {
         "anchor": "y4",
         "domain": [
          0,
          0.2888888888888889
         ],
         "title": {
          "text": "Anomaly Score"
         }
        },
        "xaxis5": {
         "anchor": "y5",
         "domain": [
          0.35555555555555557,
          0.6444444444444445
         ],
         "title": {
          "text": "Model"
         }
        },
        "xaxis6": {
         "anchor": "y6",
         "domain": [
          0.7111111111111111,
          1
         ],
         "title": {
          "text": "False Positive Rate"
         }
        },
        "yaxis": {
         "anchor": "x",
         "domain": [
          0.625,
          1
         ],
         "title": {
          "text": "Account Age"
         }
        },
        "yaxis2": {
         "anchor": "x2",
         "domain": [
          0.625,
          1
         ],
         "title": {
          "text": "Pressure"
         }
        },
        "yaxis3": {
         "anchor": "x3",
         "domain": [
          0.625,
          1
         ],
         "title": {
          "text": "F1 Score"
         }
        },
        "yaxis4": {
         "anchor": "x4",
         "domain": [
          0,
          0.375
         ],
         "title": {
          "text": "Frequency"
         }
        },
        "yaxis5": {
         "anchor": "x5",
         "domain": [
          0,
          0.375
         ],
         "title": {
          "text": "F1 Score"
         }
        },
        "yaxis6": {
         "anchor": "x6",
         "domain": [
          0,
          0.375
         ],
         "title": {
          "text": "True Positive Rate"
         }
        }
       }
      }
     },
     "metadata": {},
     "output_type": "display_data"
    }
   ],
   "source": [
    "# 4. COMPREHENSIVE ANOMALY DETECTION DASHBOARD\n",
    "print(\" 4. COMPREHENSIVE ANOMALY DETECTION DASHBOARD\")\n",
    "print(\"=\" * 49)\n",
    "\n",
    "# Create comprehensive anomaly detection dashboard\n",
    "fig = make_subplots(\n",
    " rows=2, cols=3,\n",
    " subplot_titles=[\n",
    " 'Financial Transaction Anomalies',\n",
    " 'Manufacturing Quality Control',\n",
    " 'Statistical vs ML Methods',\n",
    " 'Anomaly Score Distribution',\n",
    " 'Model Performance Comparison',\n",
    " 'ROC Curves'\n",
    " ],\n",
    " specs=[[{\"secondary_y\": False}, {\"secondary_y\": False}, {\"secondary_y\": False}],\n",
    " [{\"secondary_y\": False}, {\"secondary_y\": False}, {\"secondary_y\": False}]]\n",
    ")\n",
    "\n",
    "# 1. Financial Transaction Anomalies (Scatter plot)\n",
    "fraud_mask = financial_df['is_fraud'] == 1\n",
    "normal_mask = financial_df['is_fraud'] == 0\n",
    "\n",
    "fig.add_trace(\n",
    " go.Scatter(\n",
    " x=financial_df[normal_mask]['transaction_amount'],\n",
    " y=financial_df[normal_mask]['account_age_days'],\n",
    " mode='markers',\n",
    " name='Normal Transactions',\n",
    " marker=dict(color='blue', size=4, opacity=0.6)\n",
    " ),\n",
    " row=1, col=1\n",
    ")\n",
    "\n",
    "fig.add_trace(\n",
    " go.Scatter(\n",
    " x=financial_df[fraud_mask]['transaction_amount'],\n",
    " y=financial_df[fraud_mask]['account_age_days'],\n",
    " mode='markers',\n",
    " name='Fraudulent Transactions',\n",
    " marker=dict(color='red', size=6, symbol='x')\n",
    " ),\n",
    " row=1, col=1\n",
    ")\n",
    "\n",
    "# 2. Manufacturing Quality Control\n",
    "defective_mask = manufacturing_df['is_defective'] == 1\n",
    "normal_parts_mask = manufacturing_df['is_defective'] == 0\n",
    "\n",
    "fig.add_trace(\n",
    " go.Scatter(\n",
    " x=manufacturing_df[normal_parts_mask]['temperature'],\n",
    " y=manufacturing_df[normal_parts_mask]['pressure'],\n",
    " mode='markers',\n",
    " name='Normal Parts',\n",
    " marker=dict(color='green', size=4, opacity=0.6)\n",
    " ),\n",
    " row=1, col=2\n",
    ")\n",
    "\n",
    "fig.add_trace(\n",
    " go.Scatter(\n",
    " x=manufacturing_df[defective_mask]['temperature'],\n",
    " y=manufacturing_df[defective_mask]['pressure'],\n",
    " mode='markers',\n",
    " name='Defective Parts',\n",
    " marker=dict(color='red', size=6, symbol='x')\n",
    " ),\n",
    " row=1, col=2\n",
    ")\n",
    "\n",
    "# 3. Statistical vs ML Methods Comparison\n",
    "methods = []\n",
    "f1_scores = []\n",
    "\n",
    "# Add statistical methods\n",
    "for method, results in stat_results.items():\n",
    "    if 'f1' in results:\n",
    "        methods.append(f\"Stat: {method}\")\n",
    "        f1_scores.append(results['f1'])\n",
    "\n",
    "# Add ML methods\n",
    "for method, results in financial_results.items():\n",
    "    if results and results['f1'] is not None:\n",
    "        methods.append(f\"ML: {method}\")\n",
    "        f1_scores.append(results['f1'])\n",
    "\n",
    "fig.add_trace(\n",
    " go.Bar(\n",
    " x=methods,\n",
    " y=f1_scores,\n",
    " name='F1 Scores',\n",
    " marker_color='lightcoral'\n",
    " ),\n",
    " row=1, col=3\n",
    ")\n",
    "\n",
    "# 4. Anomaly Score Distribution\n",
    "if best_financial_model and financial_results[best_financial_model]:\n",
    "    # Get scores from the best financial model\n",
    "    best_model = financial_results[best_financial_model]['model']\n",
    "    try:\n",
    "        if hasattr(best_model, 'decision_function'):\n",
    "            all_scores = -best_model.decision_function(X_financial_scaled)\n",
    "        elif hasattr(best_model, 'score_samples'):\n",
    "            all_scores = -best_model.score_samples(X_financial_scaled)\n",
    "        else:\n",
    "            all_scores = ensemble_scores\n",
    "\n",
    "        normal_scores = all_scores[financial_df['is_fraud'] == 0]\n",
    "        anomaly_scores = all_scores[financial_df['is_fraud'] == 1]\n",
    "\n",
    "        fig.add_trace(\n",
    "            go.Histogram(\n",
    "                x=normal_scores,\n",
    "                name='Normal Scores',\n",
    "                opacity=0.7,\n",
    "                marker_color='blue',\n",
    "                nbinsx=30\n",
    "            ),\n",
    "            row=2, col=1\n",
    "        )\n",
    "\n",
    "        fig.add_trace(\n",
    "            go.Histogram(\n",
    "                x=anomaly_scores,\n",
    "                name='Anomaly Scores',\n",
    "                opacity=0.7,\n",
    "                marker_color='red',\n",
    "                nbinsx=30\n",
    "            ),\n",
    "            row=2, col=1\n",
    "        )\n",
    "    except Exception as e:\n",
    "        # Fallback to ensemble scores if model fails\n",
    "        all_scores = ensemble_scores\n",
    "        normal_scores = all_scores[financial_df['is_fraud'] == 0]\n",
    "        anomaly_scores = all_scores[financial_df['is_fraud'] == 1]\n",
    "\n",
    "        fig.add_trace(\n",
    "            go.Histogram(\n",
    "                x=normal_scores,\n",
    "                name='Normal Scores',\n",
    "                opacity=0.7,\n",
    "                marker_color='blue',\n",
    "                nbinsx=30\n",
    "            ),\n",
    "            row=2, col=1\n",
    "        )\n",
    "\n",
    "        fig.add_trace(\n",
    "            go.Histogram(\n",
    "                x=anomaly_scores,\n",
    "                name='Anomaly Scores',\n",
    "                opacity=0.7,\n",
    "                marker_color='red',\n",
    "                nbinsx=30\n",
    "            ),\n",
    "            row=2, col=1\n",
    "        )\n",
    "\n",
    "# 5. Model Performance Comparison\n",
    "model_names = []\n",
    "model_f1_scores = []\n",
    "\n",
    "for method, results in financial_results.items():\n",
    "    if results and results['f1'] is not None:\n",
    "        model_names.append(method)\n",
    "        model_f1_scores.append(results['f1'])\n",
    "\n",
    "fig.add_trace(\n",
    "    go.Bar(\n",
    "        x=model_names,\n",
    "        y=model_f1_scores,\n",
    "        name='Model F1 Scores',\n",
    "        marker_color='lightgreen'\n",
    "    ),\n",
    "    row=2, col=2\n",
    ")\n",
    "\n",
    "# 6. ROC Curve\n",
    "if best_financial_model and financial_results[best_financial_model]:\n",
    "    y_true = financial_df['is_fraud']\n",
    "    try:\n",
    "        fpr, tpr, _ = roc_curve(y_true, all_scores)\n",
    "\n",
    "        fig.add_trace(\n",
    "            go.Scatter(\n",
    "                x=fpr,\n",
    "                y=tpr,\n",
    "                mode='lines',\n",
    "                name=f'ROC ({best_financial_model})',\n",
    "                line=dict(color='purple', width=2)\n",
    "            ),\n",
    "            row=2, col=3\n",
    "        )\n",
    "\n",
    "        # Add diagonal reference line\n",
    "        fig.add_trace(\n",
    "            go.Scatter(\n",
    "                x=[0, 1],\n",
    "                y=[0, 1],\n",
    "                mode='lines',\n",
    "                name='Random Classifier',\n",
    "                line=dict(color='gray', width=1, dash='dash')\n",
    "            ),\n",
    "            row=2, col=3\n",
    "        )\n",
    "    except Exception as e:\n",
    "        print(f\"ROC curve error: {e}\")\n",
    "        pass\n",
    "\n",
    "# Update layout\n",
    "fig.update_layout(\n",
    " height=800,\n",
    " title=\"Comprehensive Anomaly Detection Dashboard\",\n",
    " showlegend=True\n",
    ")\n",
    "\n",
    "# Update axis labels\n",
    "fig.update_xaxes(title_text=\"Transaction Amount\", row=1, col=1)\n",
    "fig.update_xaxes(title_text=\"Temperature\", row=1, col=2)\n",
    "fig.update_xaxes(title_text=\"Method\", row=1, col=3)\n",
    "fig.update_xaxes(title_text=\"Anomaly Score\", row=2, col=1)\n",
    "fig.update_xaxes(title_text=\"Model\", row=2, col=2)\n",
    "fig.update_xaxes(title_text=\"False Positive Rate\", row=2, col=3)\n",
    "\n",
    "fig.update_yaxes(title_text=\"Account Age\", row=1, col=1)\n",
    "fig.update_yaxes(title_text=\"Pressure\", row=1, col=2)\n",
    "fig.update_yaxes(title_text=\"F1 Score\", row=1, col=3)\n",
    "fig.update_yaxes(title_text=\"Frequency\", row=2, col=1)\n",
    "fig.update_yaxes(title_text=\"F1 Score\", row=2, col=2)\n",
    "fig.update_yaxes(title_text=\"True Positive Rate\", row=2, col=3)\n",
    "\n",
    "fig.show()"
   ]
  },
  {
   "cell_type": "code",
   "execution_count": null,
   "id": "f74cd8db",
   "metadata": {},
   "outputs": [
    {
     "name": "stdout",
     "output_type": "stream",
     "text": [
      " 5. BUSINESS INSIGHTS AND ROI ANALYSIS\n",
      "========================================\n",
      "Financial Fraud Detection System ROI:\n",
      "• Monthly transactions: 1,000,000\n",
      "• Fraud rate: 2.4%\n",
      "• Expected monthly fraud value: $60,000,000\n",
      "• System detection rate: 39.3%\n",
      "• Prevented fraud losses: $23,580,000/month\n",
      "• System operational cost: $25,000/month\n",
      "• Manual review cost: $250,000/month\n",
      "• Net monthly benefit: $23,305,000\n",
      "• Annual benefit: $279,660,000\n",
      "• ROI: 93220%\n",
      "\n",
      "Manufacturing Quality Control ROI:\n",
      "• Daily parts produced: 10,000\n",
      "• Monthly defects expected: 8700\n",
      "• Current detection rate: 85.0%\n",
      "• Advanced detection rate: 69.3%\n",
      "• Current defect cost: $65,250/month\n",
      "• Advanced defect cost: $133,545/month\n",
      "• Defect cost savings: $-68,295/month\n",
      "• System cost: $75,000/month\n",
      "• Net monthly savings: $-143,295\n",
      "• Manufacturing ROI: -191%\n",
      "\n",
      "Ensemble Method Analysis:\n",
      "• Best single model F1: 0.393\n",
      "• Ensemble model F1: 0.418\n",
      "• Performance improvement: 6.4%\n",
      "• Additional fraud detection: $1,500,000/month\n",
      "\n",
      "Combined Anomaly Detection Systems:\n",
      "• Total annual investment: $1,200,000\n",
      "• Total annual benefits: $277,940,460\n",
      "• Combined ROI: 23162%\n",
      "• Payback period: 0.1 months\n"
     ]
    }
   ],
   "source": [
    "# 5. BUSINESS INSIGHTS AND ROI ANALYSIS\n",
    "print(\" 5. BUSINESS INSIGHTS AND ROI ANALYSIS\")\n",
    "print(\"=\" * 40)\n",
    "\n",
    "# Financial Fraud Detection ROI\n",
    "print(\"Financial Fraud Detection System ROI:\")\n",
    "\n",
    "# Business parameters\n",
    "monthly_transactions = 1_000_000  # Transactions processed per month\n",
    "fraud_rate = 0.024  # 2.4% observed fraud rate\n",
    "avg_transaction_value = 85.68\n",
    "avg_fraud_value = 2_500  # Higher value for fraudulent transactions\n",
    "\n",
    "# Current manual review costs\n",
    "manual_review_rate = 0.05  # 5% of transactions manually reviewed\n",
    "manual_cost_per_review = 2.50  # Cost per manual review\n",
    "monthly_manual_cost = monthly_transactions * manual_review_rate * manual_cost_per_review\n",
    "\n",
    "# Expected fraud losses without detection\n",
    "monthly_fraud_transactions = monthly_transactions * fraud_rate\n",
    "total_fraud_value = monthly_fraud_transactions * avg_fraud_value\n",
    "fraud_loss_rate = 0.80  # 80% of undetected fraud results in losses\n",
    "monthly_fraud_losses = total_fraud_value * fraud_loss_rate\n",
    "\n",
    "# With anomaly detection system\n",
    "system_detection_rate = 0.393  # F1-score from best model (One-Class SVM)\n",
    "system_monthly_cost = 25_000  # System operational cost\n",
    "\n",
    "# Detected fraud (prevented losses)\n",
    "detected_fraud = monthly_fraud_transactions * system_detection_rate\n",
    "prevented_losses = detected_fraud * avg_fraud_value\n",
    "\n",
    "# False positives require manual review\n",
    "false_positive_rate = 0.10  # Estimated false positive rate\n",
    "false_positives = monthly_transactions * false_positive_rate\n",
    "manual_review_cost = false_positives * manual_cost_per_review\n",
    "\n",
    "total_system_cost = system_monthly_cost + manual_review_cost\n",
    "net_monthly_benefit = prevented_losses - total_system_cost\n",
    "annual_benefit = net_monthly_benefit * 12\n",
    "roi = net_monthly_benefit / system_monthly_cost\n",
    "\n",
    "print(f\"• Monthly transactions: {monthly_transactions:,}\")\n",
    "print(f\"• Fraud rate: {fraud_rate:.1%}\")\n",
    "print(f\"• Expected monthly fraud value: ${total_fraud_value:,.0f}\")\n",
    "print(f\"• System detection rate: {system_detection_rate:.1%}\")\n",
    "print(f\"• Prevented fraud losses: ${prevented_losses:,.0f}/month\")\n",
    "print(f\"• System operational cost: ${system_monthly_cost:,.0f}/month\")\n",
    "print(f\"• Manual review cost: ${manual_review_cost:,.0f}/month\")\n",
    "print(f\"• Net monthly benefit: ${net_monthly_benefit:,.0f}\")\n",
    "print(f\"• Annual benefit: ${annual_benefit:,.0f}\")\n",
    "print(f\"• ROI: {roi*100:.0f}%\")\n",
    "\n",
    "# Manufacturing Quality Control ROI\n",
    "print(f\"\\nManufacturing Quality Control ROI:\")\n",
    "\n",
    "daily_parts = 10_000  # Parts produced per day\n",
    "defect_rate = 0.029  # 2.9% observed defect rate\n",
    "cost_per_defective_part = 50  # Cost if defective part reaches customer\n",
    "production_cost_per_part = 5  # Cost to produce one part\n",
    "\n",
    "# Current quality control\n",
    "current_detection_rate = 0.85  # 85% of defects caught by current methods\n",
    "monthly_parts = daily_parts * 30\n",
    "monthly_defects = monthly_parts * defect_rate\n",
    "\n",
    "# Losses from undetected defects\n",
    "current_detected_defects = monthly_defects * current_detection_rate\n",
    "current_missed_defects = monthly_defects - current_detected_defects\n",
    "current_defect_cost = current_missed_defects * cost_per_defective_part\n",
    "\n",
    "# With advanced anomaly detection\n",
    "advanced_detection_rate = 0.693  # F1-score from best model (DBSCAN)\n",
    "system_cost_per_part = 0.25  # Additional cost per part for advanced detection\n",
    "advanced_system_monthly_cost = monthly_parts * system_cost_per_part\n",
    "\n",
    "# Improved defect detection\n",
    "advanced_detected_defects = monthly_defects * advanced_detection_rate\n",
    "advanced_missed_defects = monthly_defects - advanced_detected_defects\n",
    "advanced_defect_cost = advanced_missed_defects * cost_per_defective_part\n",
    "\n",
    "# Calculate savings\n",
    "defect_cost_savings = current_defect_cost - advanced_defect_cost\n",
    "net_monthly_savings = defect_cost_savings - advanced_system_monthly_cost\n",
    "manufacturing_roi = net_monthly_savings / advanced_system_monthly_cost\n",
    "\n",
    "print(f\"• Daily parts produced: {daily_parts:,}\")\n",
    "print(f\"• Monthly defects expected: {monthly_defects:.0f}\")\n",
    "print(f\"• Current detection rate: {current_detection_rate:.1%}\")\n",
    "print(f\"• Advanced detection rate: {advanced_detection_rate:.1%}\")\n",
    "print(f\"• Current defect cost: ${current_defect_cost:,.0f}/month\")\n",
    "print(f\"• Advanced defect cost: ${advanced_defect_cost:,.0f}/month\")\n",
    "print(f\"• Defect cost savings: ${defect_cost_savings:,.0f}/month\")\n",
    "print(f\"• System cost: ${advanced_system_monthly_cost:,.0f}/month\")\n",
    "print(f\"• Net monthly savings: ${net_monthly_savings:,.0f}\")\n",
    "print(f\"• Manufacturing ROI: {manufacturing_roi*100:.0f}%\")\n",
    "\n",
    "# Ensemble method benefits\n",
    "print(f\"\\nEnsemble Method Analysis:\")\n",
    "ensemble_f1 = 0.418  # Ensemble F1-score\n",
    "single_best_f1 = 0.393  # Best single model F1-score\n",
    "ensemble_improvement = (ensemble_f1 - single_best_f1) / single_best_f1\n",
    "\n",
    "print(f\"• Best single model F1: {single_best_f1:.3f}\")\n",
    "print(f\"• Ensemble model F1: {ensemble_f1:.3f}\")\n",
    "print(f\"• Performance improvement: {ensemble_improvement:.1%}\")\n",
    "print(f\"• Additional fraud detection: ${prevented_losses * ensemble_improvement:,.0f}/month\")\n",
    "\n",
    "# Combined systems summary\n",
    "total_annual_investment = (system_monthly_cost * 12) + (advanced_system_monthly_cost * 12)\n",
    "total_annual_benefits = annual_benefit + (net_monthly_savings * 12)\n",
    "combined_roi = total_annual_benefits / total_annual_investment\n",
    "\n",
    "print(f\"\\nCombined Anomaly Detection Systems:\")\n",
    "print(f\"• Total annual investment: ${total_annual_investment:,.0f}\")\n",
    "print(f\"• Total annual benefits: ${total_annual_benefits:,.0f}\")\n",
    "print(f\"• Combined ROI: {combined_roi*100:.0f}%\")\n",
    "print(f\"• Payback period: {total_annual_investment/total_annual_benefits*12:.1f} months\")"
   ]
  },
  {
   "cell_type": "code",
   "execution_count": null,
   "id": "a2acf884",
   "metadata": {},
   "outputs": [
    {
     "name": "stdout",
     "output_type": "stream",
     "text": [
      " 6. IMPLEMENTATION GUIDELINES AND RECOMMENDATIONS\n",
      "=====================================================\n",
      "Anomaly Detection Method Selection Guide:\n",
      "==========================================\n",
      "\n",
      "Statistical Methods:\n",
      "  Best For: Small datasets, Interpretable results, Simple baseline\n",
      "  • Z-Score: Normal distributions, few outliers\n",
      "  • IQR: Skewed distributions, robust to outliers\n",
      "  • Grubbs Test: Single outlier detection, normal data\n",
      "  • Modified Z-Score: Non-normal distributions, median-based\n",
      "\n",
      "Machine Learning Methods:\n",
      "  Best For: Large datasets, Complex patterns, High accuracy\n",
      "  • Isolation Forest: High-dimensional data, fast training\n",
      "  • One-Class SVM: Non-linear patterns, small datasets\n",
      "  • Local Outlier Factor: Local density-based anomalies\n",
      "  • Elliptic Envelope: Gaussian distributed data\n",
      "  • DBSCAN: Cluster-based anomalies, varying densities\n",
      "\n",
      "Ensemble Methods:\n",
      "  Best For: Critical applications, Robust detection, Reduced false positives\n",
      "  • Voting: Combine multiple weak detectors\n",
      "  • Weighted: Emphasize best-performing models\n",
      "  • Stacking: Meta-learning for optimal combination\n",
      "\n",
      "Performance Summary:\n",
      "• Best Statistical Method: Z-Score (F1: 0.496)\n",
      "• Best ML Method - Financial: One-Class SVM (F1: 0.393)\n",
      "• Best ML Method - Manufacturing: DBSCAN (F1: 0.693)\n",
      "• Ensemble Improvement: 6.4% better than single models\n",
      "\n",
      "Implementation Checklist:\n",
      " 1. Data Quality: Ensure clean, preprocessed data\n",
      " 2. Feature Engineering: Create relevant domain-specific features\n",
      " 3. Baseline: Start with simple statistical methods\n",
      " 4. Model Selection: Test multiple algorithms on validation set\n",
      " 5. Hyperparameter Tuning: Optimize contamination rates and model parameters\n",
      " 6. Ensemble: Combine complementary methods for robustness\n",
      " 7. Evaluation: Use domain-relevant metrics (precision vs recall trade-offs)\n",
      " 8. Monitoring: Implement continuous model performance tracking\n",
      " 9. Feedback Loop: Collect expert feedback to improve detection\n",
      "10. Scalability: Design for real-time or batch processing needs\n",
      "\n",
      "Real-Time Considerations:\n",
      "• Latency Requirements: Choose fast algorithms (Isolation Forest > SVM)\n",
      "• Memory Usage: Consider model size for edge deployment\n",
      "• Incremental Learning: Update models with new data streams\n",
      "• Alert Systems: Define escalation procedures for detected anomalies\n",
      "• False Positive Management: Balance sensitivity vs operational burden\n",
      "\n",
      "Cross-Reference Learning Path:\n",
      "• Prerequisites: Tier1_Descriptive.ipynb (statistical foundations)\n",
      "• Building On: Tier2_LogisticRegression.ipynb (classification metrics)\n",
      "• Advanced: Tier5_Classification.ipynb (ensemble methods)\n",
      "• Specialized: Tier6_IsolationForest.ipynb, Tier6_OneClassSVM.ipynb\n",
      "• Integration: Tier6_RealTimeAnalytics.ipynb (deployment patterns)\n",
      "• Domain-Specific: Tier3_TimeSeries.ipynb (temporal anomalies)\n",
      "\n",
      "Next Steps:\n",
      "• Experiment with domain-specific feature engineering\n",
      "• Implement online learning for concept drift adaptation\n",
      "• Develop custom ensemble methods for your use case\n",
      "• Create automated hyperparameter optimization pipelines\n",
      "• Build interpretability tools for anomaly explanations\n"
     ]
    }
   ],
   "source": [
    "# 6. IMPLEMENTATION GUIDELINES AND RECOMMENDATIONS\n",
    "print(\" 6. IMPLEMENTATION GUIDELINES AND RECOMMENDATIONS\")\n",
    "print(\"=\" * 53)\n",
    "\n",
    "print(\"Anomaly Detection Method Selection Guide:\")\n",
    "print(\"=\" * 42)\n",
    "\n",
    "# Method selection recommendations\n",
    "recommendations = {\n",
    "    \"Statistical Methods\": {\n",
    "        \"Best For\": [\"Small datasets\", \"Interpretable results\", \"Simple baseline\"],\n",
    "        \"Z-Score\": \"Normal distributions, few outliers\",\n",
    "        \"IQR\": \"Skewed distributions, robust to outliers\", \n",
    "        \"Grubbs Test\": \"Single outlier detection, normal data\",\n",
    "        \"Modified Z-Score\": \"Non-normal distributions, median-based\"\n",
    "    },\n",
    "    \"Machine Learning Methods\": {\n",
    "        \"Best For\": [\"Large datasets\", \"Complex patterns\", \"High accuracy\"],\n",
    "        \"Isolation Forest\": \"High-dimensional data, fast training\",\n",
    "        \"One-Class SVM\": \"Non-linear patterns, small datasets\",\n",
    "        \"Local Outlier Factor\": \"Local density-based anomalies\",\n",
    "        \"Elliptic Envelope\": \"Gaussian distributed data\",\n",
    "        \"DBSCAN\": \"Cluster-based anomalies, varying densities\"\n",
    "    },\n",
    "    \"Ensemble Methods\": {\n",
    "        \"Best For\": [\"Critical applications\", \"Robust detection\", \"Reduced false positives\"],\n",
    "        \"Voting\": \"Combine multiple weak detectors\",\n",
    "        \"Weighted\": \"Emphasize best-performing models\",\n",
    "        \"Stacking\": \"Meta-learning for optimal combination\"\n",
    "    }\n",
    "}\n",
    "\n",
    "for category, details in recommendations.items():\n",
    "    print(f\"\\n{category}:\")\n",
    "    best_for = details.pop(\"Best For\")\n",
    "    print(f\"  Best For: {', '.join(best_for)}\")\n",
    "    for method, description in details.items():\n",
    "        print(f\"  • {method}: {description}\")\n",
    "\n",
    "print(f\"\\nPerformance Summary:\")\n",
    "print(f\"• Best Statistical Method: Z-Score (F1: 0.496)\")\n",
    "print(f\"• Best ML Method - Financial: One-Class SVM (F1: 0.393)\")\n",
    "print(f\"• Best ML Method - Manufacturing: DBSCAN (F1: 0.693)\")\n",
    "print(f\"• Ensemble Improvement: 6.4% better than single models\")\n",
    "\n",
    "print(f\"\\nImplementation Checklist:\")\n",
    "implementation_steps = [\n",
    "    \"Data Quality: Ensure clean, preprocessed data\",\n",
    "    \"Feature Engineering: Create relevant domain-specific features\",\n",
    "    \"Baseline: Start with simple statistical methods\",\n",
    "    \"Model Selection: Test multiple algorithms on validation set\",\n",
    "    \"Hyperparameter Tuning: Optimize contamination rates and model parameters\",\n",
    "    \"Ensemble: Combine complementary methods for robustness\",\n",
    "    \"Evaluation: Use domain-relevant metrics (precision vs recall trade-offs)\",\n",
    "    \"Monitoring: Implement continuous model performance tracking\",\n",
    "    \"Feedback Loop: Collect expert feedback to improve detection\",\n",
    "    \"Scalability: Design for real-time or batch processing needs\"\n",
    "]\n",
    "\n",
    "for i, step in enumerate(implementation_steps, 1):\n",
    "    print(f\"{i:2d}. {step}\")\n",
    "\n",
    "print(f\"\\nReal-Time Considerations:\")\n",
    "realtime_factors = [\n",
    "    \"Latency Requirements: Choose fast algorithms (Isolation Forest > SVM)\",\n",
    "    \"Memory Usage: Consider model size for edge deployment\",\n",
    "    \"Incremental Learning: Update models with new data streams\",\n",
    "    \"Alert Systems: Define escalation procedures for detected anomalies\",\n",
    "    \"False Positive Management: Balance sensitivity vs operational burden\"\n",
    "]\n",
    "\n",
    "for factor in realtime_factors:\n",
    "    print(f\"• {factor}\")\n",
    "\n",
    "print(f\"\\nCross-Reference Learning Path:\")\n",
    "learning_path = [\n",
    "    \"Prerequisites: Tier1_Descriptive.ipynb (statistical foundations)\",\n",
    "    \"Building On: Tier2_LogisticRegression.ipynb (classification metrics)\",\n",
    "    \"Advanced: Tier5_Classification.ipynb (ensemble methods)\",\n",
    "    \"Specialized: Tier6_IsolationForest.ipynb, Tier6_OneClassSVM.ipynb\",\n",
    "    \"Integration: Tier6_RealTimeAnalytics.ipynb (deployment patterns)\",\n",
    "    \"Domain-Specific: Tier3_TimeSeries.ipynb (temporal anomalies)\"\n",
    "]\n",
    "\n",
    "for path in learning_path:\n",
    "    print(f\"• {path}\")\n",
    "\n",
    "print(f\"\\nNext Steps:\")\n",
    "print(f\"• Experiment with domain-specific feature engineering\")\n",
    "print(f\"• Implement online learning for concept drift adaptation\") \n",
    "print(f\"• Develop custom ensemble methods for your use case\")\n",
    "print(f\"• Create automated hyperparameter optimization pipelines\")\n",
    "print(f\"• Build interpretability tools for anomaly explanations\")"
   ]
  },
  {
   "cell_type": "code",
   "execution_count": 29,
   "id": "5d812030",
   "metadata": {},
   "outputs": [
    {
     "name": "stdout",
     "output_type": "stream",
     "text": [
      " ADDITIONAL ANOMALY DETECTION VISUALIZATIONS\n",
      "==============================================\n",
      "\n",
      "Performance Summary Table:\n",
      "============================================================\n",
      "Method                    Type            F1-Score   Precision  Recall    \n",
      "============================================================\n",
      "Zscore                    Statistical     0.496      1.000      0.330     \n",
      "Iqr                       Statistical     0.262      0.168      0.600     \n",
      "Grubbs                    Statistical     0.473      1.000      0.310     \n",
      "Modified_Zscore           Statistical     0.233      0.143      0.635     \n",
      "Isolation Forest          ML              0.392      0.244      1.000     \n",
      "One-Class SVM             ML              0.393      0.244      1.000     \n",
      "Local Outlier Factor      ML              0.098      0.061      0.250     \n",
      "Elliptic Envelope         ML              0.373      0.232      0.950     \n",
      "DBSCAN                    ML              0.224      0.129      0.860     \n",
      "Ensemble                  Ensemble        0.418      0.264      1.000     \n",
      "============================================================\n",
      "Best Overall Method: Statistical: Zscore (F1: 0.496)\n"
     ]
    },
    {
     "data": {
      "application/vnd.plotly.v1+json": {
       "config": {
        "plotlyServerURL": "https://plot.ly"
       },
       "data": [
        {
         "marker": {
          "color": [
           "lightblue",
           "lightcoral",
           "gold"
          ]
         },
         "text": [
          "0.496",
          "0.393",
          "0.418"
         ],
         "textposition": "auto",
         "type": "bar",
         "x": [
          "Best Statistical",
          "Best ML",
          "Ensemble"
         ],
         "y": [
          0.49624060150375937,
          0.39254170755642787,
          0.418
         ]
        }
       ],
       "layout": {
        "height": 400,
        "template": {
         "data": {
          "bar": [
           {
            "error_x": {
             "color": "#2a3f5f"
            },
            "error_y": {
             "color": "#2a3f5f"
            },
            "marker": {
             "line": {
              "color": "#E5ECF6",
              "width": 0.5
             },
             "pattern": {
              "fillmode": "overlay",
              "size": 10,
              "solidity": 0.2
             }
            },
            "type": "bar"
           }
          ],
          "barpolar": [
           {
            "marker": {
             "line": {
              "color": "#E5ECF6",
              "width": 0.5
             },
             "pattern": {
              "fillmode": "overlay",
              "size": 10,
              "solidity": 0.2
             }
            },
            "type": "barpolar"
           }
          ],
          "carpet": [
           {
            "aaxis": {
             "endlinecolor": "#2a3f5f",
             "gridcolor": "white",
             "linecolor": "white",
             "minorgridcolor": "white",
             "startlinecolor": "#2a3f5f"
            },
            "baxis": {
             "endlinecolor": "#2a3f5f",
             "gridcolor": "white",
             "linecolor": "white",
             "minorgridcolor": "white",
             "startlinecolor": "#2a3f5f"
            },
            "type": "carpet"
           }
          ],
          "choropleth": [
           {
            "colorbar": {
             "outlinewidth": 0,
             "ticks": ""
            },
            "type": "choropleth"
           }
          ],
          "contour": [
           {
            "colorbar": {
             "outlinewidth": 0,
             "ticks": ""
            },
            "colorscale": [
             [
              0,
              "#0d0887"
             ],
             [
              0.1111111111111111,
              "#46039f"
             ],
             [
              0.2222222222222222,
              "#7201a8"
             ],
             [
              0.3333333333333333,
              "#9c179e"
             ],
             [
              0.4444444444444444,
              "#bd3786"
             ],
             [
              0.5555555555555556,
              "#d8576b"
             ],
             [
              0.6666666666666666,
              "#ed7953"
             ],
             [
              0.7777777777777778,
              "#fb9f3a"
             ],
             [
              0.8888888888888888,
              "#fdca26"
             ],
             [
              1,
              "#f0f921"
             ]
            ],
            "type": "contour"
           }
          ],
          "contourcarpet": [
           {
            "colorbar": {
             "outlinewidth": 0,
             "ticks": ""
            },
            "type": "contourcarpet"
           }
          ],
          "heatmap": [
           {
            "colorbar": {
             "outlinewidth": 0,
             "ticks": ""
            },
            "colorscale": [
             [
              0,
              "#0d0887"
             ],
             [
              0.1111111111111111,
              "#46039f"
             ],
             [
              0.2222222222222222,
              "#7201a8"
             ],
             [
              0.3333333333333333,
              "#9c179e"
             ],
             [
              0.4444444444444444,
              "#bd3786"
             ],
             [
              0.5555555555555556,
              "#d8576b"
             ],
             [
              0.6666666666666666,
              "#ed7953"
             ],
             [
              0.7777777777777778,
              "#fb9f3a"
             ],
             [
              0.8888888888888888,
              "#fdca26"
             ],
             [
              1,
              "#f0f921"
             ]
            ],
            "type": "heatmap"
           }
          ],
          "histogram": [
           {
            "marker": {
             "pattern": {
              "fillmode": "overlay",
              "size": 10,
              "solidity": 0.2
             }
            },
            "type": "histogram"
           }
          ],
          "histogram2d": [
           {
            "colorbar": {
             "outlinewidth": 0,
             "ticks": ""
            },
            "colorscale": [
             [
              0,
              "#0d0887"
             ],
             [
              0.1111111111111111,
              "#46039f"
             ],
             [
              0.2222222222222222,
              "#7201a8"
             ],
             [
              0.3333333333333333,
              "#9c179e"
             ],
             [
              0.4444444444444444,
              "#bd3786"
             ],
             [
              0.5555555555555556,
              "#d8576b"
             ],
             [
              0.6666666666666666,
              "#ed7953"
             ],
             [
              0.7777777777777778,
              "#fb9f3a"
             ],
             [
              0.8888888888888888,
              "#fdca26"
             ],
             [
              1,
              "#f0f921"
             ]
            ],
            "type": "histogram2d"
           }
          ],
          "histogram2dcontour": [
           {
            "colorbar": {
             "outlinewidth": 0,
             "ticks": ""
            },
            "colorscale": [
             [
              0,
              "#0d0887"
             ],
             [
              0.1111111111111111,
              "#46039f"
             ],
             [
              0.2222222222222222,
              "#7201a8"
             ],
             [
              0.3333333333333333,
              "#9c179e"
             ],
             [
              0.4444444444444444,
              "#bd3786"
             ],
             [
              0.5555555555555556,
              "#d8576b"
             ],
             [
              0.6666666666666666,
              "#ed7953"
             ],
             [
              0.7777777777777778,
              "#fb9f3a"
             ],
             [
              0.8888888888888888,
              "#fdca26"
             ],
             [
              1,
              "#f0f921"
             ]
            ],
            "type": "histogram2dcontour"
           }
          ],
          "mesh3d": [
           {
            "colorbar": {
             "outlinewidth": 0,
             "ticks": ""
            },
            "type": "mesh3d"
           }
          ],
          "parcoords": [
           {
            "line": {
             "colorbar": {
              "outlinewidth": 0,
              "ticks": ""
             }
            },
            "type": "parcoords"
           }
          ],
          "pie": [
           {
            "automargin": true,
            "type": "pie"
           }
          ],
          "scatter": [
           {
            "fillpattern": {
             "fillmode": "overlay",
             "size": 10,
             "solidity": 0.2
            },
            "type": "scatter"
           }
          ],
          "scatter3d": [
           {
            "line": {
             "colorbar": {
              "outlinewidth": 0,
              "ticks": ""
             }
            },
            "marker": {
             "colorbar": {
              "outlinewidth": 0,
              "ticks": ""
             }
            },
            "type": "scatter3d"
           }
          ],
          "scattercarpet": [
           {
            "marker": {
             "colorbar": {
              "outlinewidth": 0,
              "ticks": ""
             }
            },
            "type": "scattercarpet"
           }
          ],
          "scattergeo": [
           {
            "marker": {
             "colorbar": {
              "outlinewidth": 0,
              "ticks": ""
             }
            },
            "type": "scattergeo"
           }
          ],
          "scattergl": [
           {
            "marker": {
             "colorbar": {
              "outlinewidth": 0,
              "ticks": ""
             }
            },
            "type": "scattergl"
           }
          ],
          "scattermap": [
           {
            "marker": {
             "colorbar": {
              "outlinewidth": 0,
              "ticks": ""
             }
            },
            "type": "scattermap"
           }
          ],
          "scattermapbox": [
           {
            "marker": {
             "colorbar": {
              "outlinewidth": 0,
              "ticks": ""
             }
            },
            "type": "scattermapbox"
           }
          ],
          "scatterpolar": [
           {
            "marker": {
             "colorbar": {
              "outlinewidth": 0,
              "ticks": ""
             }
            },
            "type": "scatterpolar"
           }
          ],
          "scatterpolargl": [
           {
            "marker": {
             "colorbar": {
              "outlinewidth": 0,
              "ticks": ""
             }
            },
            "type": "scatterpolargl"
           }
          ],
          "scatterternary": [
           {
            "marker": {
             "colorbar": {
              "outlinewidth": 0,
              "ticks": ""
             }
            },
            "type": "scatterternary"
           }
          ],
          "surface": [
           {
            "colorbar": {
             "outlinewidth": 0,
             "ticks": ""
            },
            "colorscale": [
             [
              0,
              "#0d0887"
             ],
             [
              0.1111111111111111,
              "#46039f"
             ],
             [
              0.2222222222222222,
              "#7201a8"
             ],
             [
              0.3333333333333333,
              "#9c179e"
             ],
             [
              0.4444444444444444,
              "#bd3786"
             ],
             [
              0.5555555555555556,
              "#d8576b"
             ],
             [
              0.6666666666666666,
              "#ed7953"
             ],
             [
              0.7777777777777778,
              "#fb9f3a"
             ],
             [
              0.8888888888888888,
              "#fdca26"
             ],
             [
              1,
              "#f0f921"
             ]
            ],
            "type": "surface"
           }
          ],
          "table": [
           {
            "cells": {
             "fill": {
              "color": "#EBF0F8"
             },
             "line": {
              "color": "white"
             }
            },
            "header": {
             "fill": {
              "color": "#C8D4E3"
             },
             "line": {
              "color": "white"
             }
            },
            "type": "table"
           }
          ]
         },
         "layout": {
          "annotationdefaults": {
           "arrowcolor": "#2a3f5f",
           "arrowhead": 0,
           "arrowwidth": 1
          },
          "autotypenumbers": "strict",
          "coloraxis": {
           "colorbar": {
            "outlinewidth": 0,
            "ticks": ""
           }
          },
          "colorscale": {
           "diverging": [
            [
             0,
             "#8e0152"
            ],
            [
             0.1,
             "#c51b7d"
            ],
            [
             0.2,
             "#de77ae"
            ],
            [
             0.3,
             "#f1b6da"
            ],
            [
             0.4,
             "#fde0ef"
            ],
            [
             0.5,
             "#f7f7f7"
            ],
            [
             0.6,
             "#e6f5d0"
            ],
            [
             0.7,
             "#b8e186"
            ],
            [
             0.8,
             "#7fbc41"
            ],
            [
             0.9,
             "#4d9221"
            ],
            [
             1,
             "#276419"
            ]
           ],
           "sequential": [
            [
             0,
             "#0d0887"
            ],
            [
             0.1111111111111111,
             "#46039f"
            ],
            [
             0.2222222222222222,
             "#7201a8"
            ],
            [
             0.3333333333333333,
             "#9c179e"
            ],
            [
             0.4444444444444444,
             "#bd3786"
            ],
            [
             0.5555555555555556,
             "#d8576b"
            ],
            [
             0.6666666666666666,
             "#ed7953"
            ],
            [
             0.7777777777777778,
             "#fb9f3a"
            ],
            [
             0.8888888888888888,
             "#fdca26"
            ],
            [
             1,
             "#f0f921"
            ]
           ],
           "sequentialminus": [
            [
             0,
             "#0d0887"
            ],
            [
             0.1111111111111111,
             "#46039f"
            ],
            [
             0.2222222222222222,
             "#7201a8"
            ],
            [
             0.3333333333333333,
             "#9c179e"
            ],
            [
             0.4444444444444444,
             "#bd3786"
            ],
            [
             0.5555555555555556,
             "#d8576b"
            ],
            [
             0.6666666666666666,
             "#ed7953"
            ],
            [
             0.7777777777777778,
             "#fb9f3a"
            ],
            [
             0.8888888888888888,
             "#fdca26"
            ],
            [
             1,
             "#f0f921"
            ]
           ]
          },
          "colorway": [
           "#636efa",
           "#EF553B",
           "#00cc96",
           "#ab63fa",
           "#FFA15A",
           "#19d3f3",
           "#FF6692",
           "#B6E880",
           "#FF97FF",
           "#FECB52"
          ],
          "font": {
           "color": "#2a3f5f"
          },
          "geo": {
           "bgcolor": "white",
           "lakecolor": "white",
           "landcolor": "#E5ECF6",
           "showlakes": true,
           "showland": true,
           "subunitcolor": "white"
          },
          "hoverlabel": {
           "align": "left"
          },
          "hovermode": "closest",
          "mapbox": {
           "style": "light"
          },
          "paper_bgcolor": "white",
          "plot_bgcolor": "#E5ECF6",
          "polar": {
           "angularaxis": {
            "gridcolor": "white",
            "linecolor": "white",
            "ticks": ""
           },
           "bgcolor": "#E5ECF6",
           "radialaxis": {
            "gridcolor": "white",
            "linecolor": "white",
            "ticks": ""
           }
          },
          "scene": {
           "xaxis": {
            "backgroundcolor": "#E5ECF6",
            "gridcolor": "white",
            "gridwidth": 2,
            "linecolor": "white",
            "showbackground": true,
            "ticks": "",
            "zerolinecolor": "white"
           },
           "yaxis": {
            "backgroundcolor": "#E5ECF6",
            "gridcolor": "white",
            "gridwidth": 2,
            "linecolor": "white",
            "showbackground": true,
            "ticks": "",
            "zerolinecolor": "white"
           },
           "zaxis": {
            "backgroundcolor": "#E5ECF6",
            "gridcolor": "white",
            "gridwidth": 2,
            "linecolor": "white",
            "showbackground": true,
            "ticks": "",
            "zerolinecolor": "white"
           }
          },
          "shapedefaults": {
           "line": {
            "color": "#2a3f5f"
           }
          },
          "ternary": {
           "aaxis": {
            "gridcolor": "white",
            "linecolor": "white",
            "ticks": ""
           },
           "baxis": {
            "gridcolor": "white",
            "linecolor": "white",
            "ticks": ""
           },
           "bgcolor": "#E5ECF6",
           "caxis": {
            "gridcolor": "white",
            "linecolor": "white",
            "ticks": ""
           }
          },
          "title": {
           "x": 0.05
          },
          "xaxis": {
           "automargin": true,
           "gridcolor": "white",
           "linecolor": "white",
           "ticks": "",
           "title": {
            "standoff": 15
           },
           "zerolinecolor": "white",
           "zerolinewidth": 2
          },
          "yaxis": {
           "automargin": true,
           "gridcolor": "white",
           "linecolor": "white",
           "ticks": "",
           "title": {
            "standoff": 15
           },
           "zerolinecolor": "white",
           "zerolinewidth": 2
          }
         }
        },
        "title": {
         "text": "Top Anomaly Detection Methods Comparison"
        },
        "xaxis": {
         "title": {
          "text": "Method Category"
         }
        },
        "yaxis": {
         "title": {
          "text": "F1-Score"
         }
        }
       }
      }
     },
     "metadata": {},
     "output_type": "display_data"
    }
   ],
   "source": [
    "# Additional Simple Visualizations\n",
    "print(\" ADDITIONAL ANOMALY DETECTION VISUALIZATIONS\")\n",
    "print(\"=\" * 46)\n",
    "\n",
    "# Print summary table\n",
    "print(f\"\\nPerformance Summary Table:\")\n",
    "print(\"=\" * 60)\n",
    "print(f\"{'Method':<25} {'Type':<15} {'F1-Score':<10} {'Precision':<10} {'Recall':<10}\")\n",
    "print(\"=\" * 60)\n",
    "\n",
    "# Statistical methods\n",
    "for method, results in stat_results.items():\n",
    "    if 'f1' in results:\n",
    "        print(f\"{method.title():<25} {'Statistical':<15} {results['f1']:<10.3f} {results['precision']:<10.3f} {results['recall']:<10.3f}\")\n",
    "\n",
    "# ML methods\n",
    "for method, results in financial_results.items():\n",
    "    if results and results['f1'] is not None:\n",
    "        print(f\"{method:<25} {'ML':<15} {results['f1']:<10.3f} {results['precision']:<10.3f} {results['recall']:<10.3f}\")\n",
    "\n",
    "# Ensemble (using the correct variable names from ensemble cell)\n",
    "# Note: Ensemble results from previous cell: F1=0.418, Precision=0.264, Recall=1.000\n",
    "print(f\"{'Ensemble':<25} {'Ensemble':<15} {'0.418':<10} {'0.264':<10} {'1.000':<10}\")\n",
    "\n",
    "print(\"=\" * 60)\n",
    "\n",
    "# Find best method\n",
    "best_stat_f1 = max([results['f1'] for results in stat_results.values() if 'f1' in results])\n",
    "best_ml_f1 = max([results['f1'] for results in financial_results.values() if results and results['f1'] is not None])\n",
    "ensemble_score = 0.418  # Fixed ensemble F1 score from earlier analysis\n",
    "all_f1_scores = [best_stat_f1, best_ml_f1, ensemble_score]\n",
    "best_overall_f1 = max(all_f1_scores)\n",
    "\n",
    "if best_overall_f1 == ensemble_score:\n",
    "    best_method = \"Ensemble Method\"\n",
    "elif best_overall_f1 == best_stat_f1:\n",
    "    best_method = f\"Statistical: {best_stat_method.title()}\"\n",
    "else:\n",
    "    best_method = f\"ML: {best_financial_model}\"\n",
    "\n",
    "print(f\"Best Overall Method: {best_method} (F1: {best_overall_f1:.3f})\")\n",
    "\n",
    "# Create simple comparison chart\n",
    "methods_simple = ['Best Statistical', 'Best ML', 'Ensemble']\n",
    "scores_simple = [best_stat_f1, best_ml_f1, ensemble_score]\n",
    "\n",
    "fig_simple = go.Figure(data=[\n",
    "    go.Bar(x=methods_simple, \n",
    "           y=scores_simple,\n",
    "           marker_color=['lightblue', 'lightcoral', 'gold'],\n",
    "           text=[f'{score:.3f}' for score in scores_simple],\n",
    "           textposition='auto')\n",
    "])\n",
    "\n",
    "fig_simple.update_layout(\n",
    "    title=\"Top Anomaly Detection Methods Comparison\",\n",
    "    xaxis_title=\"Method Category\",\n",
    "    yaxis_title=\"F1-Score\",\n",
    "    height=400\n",
    ")\n",
    "\n",
    "fig_simple.show()"
   ]
  }
 ],
 "metadata": {
  "kernelspec": {
   "display_name": ".venv",
   "language": "python",
   "name": "python3"
  },
  "language_info": {
   "codemirror_mode": {
    "name": "ipython",
    "version": 3
   },
   "file_extension": ".py",
   "mimetype": "text/x-python",
   "name": "python",
   "nbconvert_exporter": "python",
   "pygments_lexer": "ipython3",
   "version": "3.13.7"
  }
 },
 "nbformat": 4,
 "nbformat_minor": 5
}
