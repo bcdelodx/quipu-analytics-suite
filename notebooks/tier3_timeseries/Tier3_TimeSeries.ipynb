{
 "cells": [
  {
   "cell_type": "markdown",
   "metadata": {},
   "source": [
    "# Tier 3: Time Series Analysis & Forecasting\n",
    "\n",
    "---\n",
    "\n",
    "**Author:** Brandon Deloatch\n",
    "**Affiliation:** Quipu Research Labs, LLC\n",
    "**Date:** 2025-10-02\n",
    "**Version:** v1.3\n",
    "**License:** MIT\n",
    "**Notebook ID:** d285be7b-652a-451c-8633-4a3473e9272a\n",
    "\n",
    "---\n",
    "\n",
    "## Citation\n",
    "Brandon Deloatch, \"Tier 3: Time Series Analysis & Forecasting,\" Quipu Research Labs, LLC, v1.3, 2025-10-02.\n",
    "\n",
    "Please cite this notebook if used or adapted in publications, presentations, or derivative work.\n",
    "\n",
    "---\n",
    "\n",
    "## Contributors / Acknowledgments\n",
    "- **Primary Author:** Brandon Deloatch (Quipu Research Labs, LLC)\n",
    "- **Institutional Support:** Quipu Research Labs, LLC - Advanced Analytics Division\n",
    "- **Technical Framework:** Built on scikit-learn, pandas, numpy, and plotly ecosystems\n",
    "- **Methodological Foundation:** Statistical learning principles and modern data science best practices\n",
    "\n",
    "---\n",
    "\n",
    "## Version History\n",
    "| Version | Date | Notes |\n",
    "|---------|------|-------|\n",
    "| v1.3 | 2025-10-02 | Enhanced professional formatting, comprehensive documentation, interactive visualizations |\n",
    "| v1.2 | 2024-09-15 | Updated analysis methods, improved data generation algorithms |\n",
    "| v1.0 | 2024-06-10 | Initial release with core analytical framework |\n",
    "\n",
    "---\n",
    "\n",
    "## Environment Dependencies\n",
    "- **Python:** 3.8+\n",
    "- **Core Libraries:** pandas 2.0+, numpy 1.24+, scikit-learn 1.3+\n",
    "- **Visualization:** plotly 5.0+, matplotlib 3.7+\n",
    "- **Statistical:** scipy 1.10+, statsmodels 0.14+\n",
    "- **Development:** jupyter-lab 4.0+, ipywidgets 8.0+\n",
    "\n",
    "> **Reproducibility Note:** Use requirements.txt or environment.yml for exact dependency matching.\n",
    "\n",
    "---\n",
    "\n",
    "## Data Provenance\n",
    "| Dataset | Source | License | Notes |\n",
    "|---------|--------|---------|-------|\n",
    "| Synthetic Data | Generated in-notebook | MIT | Custom algorithms for realistic simulation |\n",
    "| Statistical Distributions | NumPy/SciPy | BSD-3-Clause | Standard library implementations |\n",
    "| ML Algorithms | Scikit-learn | BSD-3-Clause | Industry-standard implementations |\n",
    "| Visualization Schemas | Plotly | MIT | Interactive dashboard frameworks |\n",
    "\n",
    "---\n",
    "\n",
    "## Execution Provenance Logs\n",
    "- **Created:** 2025-10-02\n",
    "- **Notebook ID:** d285be7b-652a-451c-8633-4a3473e9272a\n",
    "- **Execution Environment:** Jupyter Lab / VS Code\n",
    "- **Computational Requirements:** Standard laptop/workstation (2GB+ RAM recommended)\n",
    "\n",
    "> **Auto-tracking:** Execution metadata can be programmatically captured for reproducibility.\n",
    "\n",
    "---\n",
    "\n",
    "## Disclaimer & Responsible Use\n",
    "This notebook is provided \"as-is\" for educational, research, and professional development purposes. Users assume full responsibility for any results, applications, or decisions derived from this analysis.\n",
    "\n",
    "**Professional Standards:**\n",
    "- Validate all results against domain expertise and additional data sources\n",
    "- Respect licensing and attribution requirements for all dependencies\n",
    "- Follow ethical guidelines for data analysis and algorithmic decision-making\n",
    "- Credit all methodological sources and derivative frameworks appropriately\n",
    "\n",
    "**Academic & Commercial Use:**\n",
    "- Permitted under MIT license with proper attribution\n",
    "- Suitable for educational curriculum and professional training\n",
    "- Appropriate for commercial adaptation with citation requirements\n",
    "- Recommended for reproducible research and transparent analytics\n",
    "\n",
    "---\n",
    "\n"
   ]
  },
  {
   "cell_type": "code",
   "execution_count": 1,
   "id": "db39fd32",
   "metadata": {},
   "outputs": [
    {
     "name": "stdout",
     "output_type": "stream",
     "text": [
      " Tier 3: Time Series Analysis & Forecasting\n",
      "===============================================\n",
      " CROSS-REFERENCES:\n",
      "• Prerequisites: Tier1_Descriptive.ipynb, Tier1_Pivot.ipynb\n",
      "• Builds On: Tier3_TimeSeriesDecomposition.ipynb, Tier3_ARIMA.ipynb\n",
      "• Complements: Tier3_ExponentialSmoothing.ipynb, Tier3_MovingAverages.ipynb\n",
      "• Advanced: Tier3_FourierAnalysis.ipynb, Tier3_WaveletAnalysis.ipynb\n",
      "===============================================\n",
      "Time Series Techniques:\n",
      "• Seasonal decomposition and trend analysis\n",
      "• Multiple forecasting methods comparison\n",
      "• Stationarity testing and differencing\n",
      "• Autocorrelation and partial autocorrelation analysis\n",
      "• Forecast accuracy evaluation and confidence intervals\n"
     ]
    }
   ],
   "source": [
    "import pandas as pd\n",
    "import numpy as np\n",
    "import matplotlib.pyplot as plt\n",
    "import seaborn as sns\n",
    "import plotly.express as px\n",
    "import plotly.graph_objects as go\n",
    "from plotly.subplots import make_subplots\n",
    "from statsmodels.tsa.holtwinters import ExponentialSmoothing\n",
    "from statsmodels.tsa.arima.model import ARIMA\n",
    "from statsmodels.tsa.seasonal import seasonal_decompose\n",
    "from statsmodels.tsa.stattools import adfuller, acf, pacf\n",
    "from statsmodels.graphics.tsaplots import plot_acf, plot_pacf\n",
    "from sklearn.metrics import mean_absolute_error, mean_squared_error\n",
    "import warnings\n",
    "warnings.filterwarnings('ignore')\n",
    "\n",
    "print(\" Tier 3: Time Series Analysis & Forecasting\")\n",
    "print(\"=\" * 47)\n",
    "print(\" CROSS-REFERENCES:\")\n",
    "print(\"• Prerequisites: Tier1_Descriptive.ipynb, Tier1_Pivot.ipynb\")\n",
    "print(\"• Builds On: Tier3_TimeSeriesDecomposition.ipynb, Tier3_ARIMA.ipynb\")\n",
    "print(\"• Complements: Tier3_ExponentialSmoothing.ipynb, Tier3_MovingAverages.ipynb\")\n",
    "print(\"• Advanced: Tier3_FourierAnalysis.ipynb, Tier3_WaveletAnalysis.ipynb\")\n",
    "print(\"=\" * 47)\n",
    "print(\"Time Series Techniques:\")\n",
    "print(\"• Seasonal decomposition and trend analysis\")\n",
    "print(\"• Multiple forecasting methods comparison\")\n",
    "print(\"• Stationarity testing and differencing\")\n",
    "print(\"• Autocorrelation and partial autocorrelation analysis\")\n",
    "print(\"• Forecast accuracy evaluation and confidence intervals\")"
   ]
  },
  {
   "cell_type": "code",
   "execution_count": 3,
   "id": "8bdfd102",
   "metadata": {},
   "outputs": [
    {
     "name": "stdout",
     "output_type": "stream",
     "text": [
      " Time Series Datasets Created:\n",
      "\n",
      "1. Monthly Sales Data:\n",
      " • Period: 2020-01-31 00:00:00 to 2023-12-31 00:00:00\n",
      " • Data points: 48\n",
      " • Sales range: $89,023 - $158,314\n",
      "\n",
      "2. Daily Website Traffic:\n",
      " • Period: 2023-01-01 00:00:00 to 2023-12-31 00:00:00\n",
      " • Data points: 365\n",
      " • Traffic range: 3,034 - 22,798 visits\n",
      "\n",
      "3. Hourly Temperature Data:\n",
      " • Period: 2023-01-01 00:00:00 to 2023-03-31 23:00:00\n",
      " • Data points: 2160\n",
      " • Temperature range: -13.3°C - 33.1°C\n",
      "\n",
      "Sample Sales Data:\n",
      "        date          sales  month  quarter  year\n",
      "0 2020-01-31   98829.233126      1        1  2020\n",
      "1 2020-02-29  109223.272021      2        1  2020\n",
      "2 2020-03-31  123014.104709      3        1  2020\n",
      "3 2020-04-30  117028.663007      4        2  2020\n",
      "4 2020-05-31  106238.074238      5        2  2020\n"
     ]
    }
   ],
   "source": [
    "# Generate comprehensive synthetic time series datasets\n",
    "np.random.seed(42)\n",
    "\n",
    "def generate_time_series_datasets():\n",
    "    \"\"\"Generate multiple realistic time series for analysis.\"\"\"\n",
    "\n",
    "    # Dataset 1: Monthly Sales Data (with trend and seasonality)\n",
    "    dates_monthly = pd.date_range('2020-01-01', periods=48, freq='M')\n",
    "    n_months = len(dates_monthly)\n",
    "\n",
    "    # Base trend component\n",
    "    trend = np.linspace(100000, 150000, n_months)\n",
    "\n",
    "    # Seasonal component (stronger in Q4, weaker in Q1)\n",
    "    seasonal = 10000 * np.sin(2 * np.pi * np.arange(n_months) / 12) + \\\n",
    "               5000 * np.sin(4 * np.pi * np.arange(n_months) / 12)\n",
    "\n",
    "    # Add holiday spikes and random noise\n",
    "    holiday_spikes = np.zeros(n_months)\n",
    "    holiday_months = [11, 23, 35, 47] # December months\n",
    "    for month in holiday_months:\n",
    "        if month < n_months:\n",
    "            holiday_spikes[month] = np.random.normal(15000, 3000)\n",
    "\n",
    "    noise = np.random.normal(0, 5000, n_months)\n",
    "\n",
    "    sales_data = trend + seasonal + holiday_spikes + noise\n",
    "    sales_data = np.maximum(sales_data, 50000) # Minimum sales floor\n",
    "\n",
    "    # Dataset 2: Daily Website Traffic (with weekly patterns)\n",
    "    dates_daily = pd.date_range('2023-01-01', periods=365, freq='D')\n",
    "    n_days = len(dates_daily)\n",
    "\n",
    "    # Weekly seasonality (lower on weekends)\n",
    "    day_of_week = np.array([d.weekday() for d in dates_daily])\n",
    "    weekly_pattern = np.where(day_of_week < 5, 1.0, 0.6) # Weekdays vs weekends\n",
    "\n",
    "    # Base traffic with growth trend\n",
    "    base_traffic = 10000 + np.linspace(0, 5000, n_days)\n",
    "\n",
    "    # Seasonal component (higher in winter months)\n",
    "    yearly_seasonal = 2000 * np.sin(2 * np.pi * np.arange(n_days) / 365.25 + np.pi)\n",
    "\n",
    "    # Random events and noise\n",
    "    random_events = np.random.poisson(0.05, n_days) * np.random.normal(5000, 1000, n_days)\n",
    "    daily_noise = np.random.normal(0, 1000, n_days)\n",
    "\n",
    "    traffic_data = base_traffic * weekly_pattern + yearly_seasonal + random_events + daily_noise\n",
    "    traffic_data = np.maximum(traffic_data, 1000)\n",
    "\n",
    "    # Dataset 3: Hourly Temperature Data (with daily and seasonal cycles)\n",
    "    dates_hourly = pd.date_range('2023-01-01', periods=24*90, freq='H') # 90 days\n",
    "    n_hours = len(dates_hourly)\n",
    "\n",
    "    # Daily temperature cycle\n",
    "    hour_of_day = np.array([d.hour for d in dates_hourly])\n",
    "    daily_cycle = 10 * np.sin(2 * np.pi * (hour_of_day - 6) / 24) # Peak at 2 PM\n",
    "\n",
    "    # Seasonal trend (winter to spring)\n",
    "    day_of_year = np.array([d.dayofyear for d in dates_hourly])\n",
    "    seasonal_trend = 15 * np.sin(2 * np.pi * day_of_year / 365.25 - np.pi/2) + 20\n",
    "\n",
    "    # Weather noise\n",
    "    weather_noise = np.random.normal(0, 3, n_hours)\n",
    "\n",
    "    temperature_data = seasonal_trend + daily_cycle + weather_noise\n",
    "\n",
    "    # Create DataFrames\n",
    "    sales_df = pd.DataFrame({\n",
    "        'date': dates_monthly,\n",
    "        'sales': sales_data,\n",
    "        'month': dates_monthly.month,\n",
    "        'quarter': dates_monthly.quarter,\n",
    "        'year': dates_monthly.year\n",
    "    })\n",
    "\n",
    "    traffic_df = pd.DataFrame({\n",
    "        'date': dates_daily,\n",
    "        'traffic': traffic_data,\n",
    "        'day_of_week': day_of_week,\n",
    "        'is_weekend': day_of_week >= 5,\n",
    "        'month': dates_daily.month\n",
    "    })\n",
    "\n",
    "    temperature_df = pd.DataFrame({\n",
    "        'datetime': dates_hourly,\n",
    "        'temperature': temperature_data,\n",
    "        'hour': hour_of_day,\n",
    "        'day': dates_hourly.day\n",
    "    })\n",
    "\n",
    "    return sales_df, traffic_df, temperature_df\n",
    "\n",
    "# Generate datasets\n",
    "sales_df, traffic_df, temperature_df = generate_time_series_datasets()\n",
    "\n",
    "print(\" Time Series Datasets Created:\")\n",
    "print(f\"\\n1. Monthly Sales Data:\")\n",
    "print(f\" • Period: {sales_df['date'].min()} to {sales_df['date'].max()}\")\n",
    "print(f\" • Data points: {len(sales_df)}\")\n",
    "print(f\" • Sales range: ${sales_df['sales'].min():,.0f} - ${sales_df['sales'].max():,.0f}\")\n",
    "\n",
    "print(f\"\\n2. Daily Website Traffic:\")\n",
    "print(f\" • Period: {traffic_df['date'].min()} to {traffic_df['date'].max()}\")\n",
    "print(f\" • Data points: {len(traffic_df)}\")\n",
    "print(f\" • Traffic range: {traffic_df['traffic'].min():,.0f} - {traffic_df['traffic'].max():,.0f} visits\")\n",
    "\n",
    "print(f\"\\n3. Hourly Temperature Data:\")\n",
    "print(f\" • Period: {temperature_df['datetime'].min()} to {temperature_df['datetime'].max()}\")\n",
    "print(f\" • Data points: {len(temperature_df)}\")\n",
    "print(f\" • Temperature range: {temperature_df['temperature'].min():.1f}°C - {temperature_df['temperature'].max():.1f}°C\")\n",
    "\n",
    "# Display sample data\n",
    "print(f\"\\nSample Sales Data:\")\n",
    "print(sales_df.head())"
   ]
  },
  {
   "cell_type": "code",
   "execution_count": 5,
   "id": "b61c7bd3",
   "metadata": {},
   "outputs": [
    {
     "name": "stdout",
     "output_type": "stream",
     "text": [
      " 1. TIME SERIES DECOMPOSITION AND ANALYSIS\n",
      "=============================================\n",
      "Sales Time Series Decomposition:\n",
      "• Original series: 48 monthly observations\n",
      "• Decomposition model: Additive\n",
      "• Seasonal period: 12 months\n",
      "\n",
      "Component Analysis:\n",
      "• Trend variation: 11557 ($106,372 to $144,181)\n",
      "• Seasonal amplitude: ±19162\n",
      "• Residual std: 3474\n",
      "\n",
      "Original Sales Series - Stationarity Test (Augmented Dickey-Fuller):\n",
      "• ADF Statistic: -0.466426\n",
      "• p-value: 0.898403\n",
      "• Critical Values:\n",
      " - 1%: -3.621\n",
      " - 5%: -2.944\n",
      " - 10%: -2.610\n",
      " Series is non-stationary (fail to reject null hypothesis)\n",
      "\n",
      "First Differenced Series - Stationarity Test (Augmented Dickey-Fuller):\n",
      "• ADF Statistic: -8.361074\n",
      "• p-value: 0.000000\n",
      "• Critical Values:\n",
      " - 1%: -3.627\n",
      " - 5%: -2.946\n",
      " - 10%: -2.612\n",
      " Series is stationary (reject null hypothesis)\n",
      "\n",
      "Autocorrelation Analysis:\n",
      "• Lag 1 autocorrelation: 0.722\n",
      "• Lag 12 autocorrelation: 0.333\n",
      "• Significant lags (>0.5): 4\n"
     ]
    }
   ],
   "source": [
    "# 1. TIME SERIES DECOMPOSITION AND ANALYSIS\n",
    "print(\" 1. TIME SERIES DECOMPOSITION AND ANALYSIS\")\n",
    "print(\"=\" * 45)\n",
    "\n",
    "# Decompose the monthly sales time series\n",
    "sales_ts = sales_df.set_index('date')['sales']\n",
    "\n",
    "# Perform seasonal decomposition\n",
    "decomposition = seasonal_decompose(sales_ts, model='additive', period=12)\n",
    "\n",
    "print(\"Sales Time Series Decomposition:\")\n",
    "print(f\"• Original series: {len(sales_ts)} monthly observations\")\n",
    "print(f\"• Decomposition model: Additive\")\n",
    "print(f\"• Seasonal period: 12 months\")\n",
    "\n",
    "# Calculate component statistics\n",
    "trend_component = decomposition.trend.dropna()\n",
    "seasonal_component = decomposition.seasonal\n",
    "residual_component = decomposition.resid.dropna()\n",
    "\n",
    "print(f\"\\nComponent Analysis:\")\n",
    "print(f\"• Trend variation: {trend_component.std():.0f} (${trend_component.min():,.0f} to ${trend_component.max():,.0f})\")\n",
    "print(f\"• Seasonal amplitude: ±{seasonal_component.abs().max():.0f}\")\n",
    "print(f\"• Residual std: {residual_component.std():.0f}\")\n",
    "\n",
    "# Stationarity test\n",
    "def test_stationarity(timeseries, title=\"Time Series\"):\n",
    "    \"\"\"Perform Augmented Dickey-Fuller test for stationarity.\"\"\"\n",
    "    result = adfuller(timeseries.dropna())\n",
    "\n",
    "    print(f\"\\n{title} - Stationarity Test (Augmented Dickey-Fuller):\")\n",
    "    print(f\"• ADF Statistic: {result[0]:.6f}\")\n",
    "    print(f\"• p-value: {result[1]:.6f}\")\n",
    "    print(f\"• Critical Values:\")\n",
    "    for key, value in result[4].items():\n",
    "        print(f\" - {key}: {value:.3f}\")\n",
    "\n",
    "    if result[1] <= 0.05:\n",
    "        print(\" Series is stationary (reject null hypothesis)\")\n",
    "    else:\n",
    "        print(\" Series is non-stationary (fail to reject null hypothesis)\")\n",
    "\n",
    "    return result[1] <= 0.05\n",
    "\n",
    "# Test stationarity of original and differenced series\n",
    "is_stationary_original = test_stationarity(sales_ts, \"Original Sales Series\")\n",
    "\n",
    "# First difference\n",
    "sales_diff = sales_ts.diff().dropna()\n",
    "is_stationary_diff = test_stationarity(sales_diff, \"First Differenced Series\")\n",
    "\n",
    "# Autocorrelation analysis\n",
    "sales_autocorr = acf(sales_ts.dropna(), nlags=24, fft=False)\n",
    "sales_partial_autocorr = pacf(sales_ts.dropna(), nlags=24)\n",
    "\n",
    "print(f\"\\nAutocorrelation Analysis:\")\n",
    "print(f\"• Lag 1 autocorrelation: {sales_autocorr[1]:.3f}\")\n",
    "print(f\"• Lag 12 autocorrelation: {sales_autocorr[12]:.3f}\")\n",
    "print(f\"• Significant lags (>0.5): {np.sum(np.abs(sales_autocorr) > 0.5)}\")"
   ]
  },
  {
   "cell_type": "code",
   "execution_count": 6,
   "id": "97b08acd",
   "metadata": {},
   "outputs": [
    {
     "name": "stdout",
     "output_type": "stream",
     "text": [
      " 2. MULTIPLE FORECASTING METHODS COMPARISON\n",
      "===============================================\n",
      "Data Split:\n",
      "• Training period: 2020-01-31 00:00:00 to 2023-02-28 00:00:00 (38 months)\n",
      "• Testing period: 2023-03-31 00:00:00 to 2023-12-31 00:00:00 (10 months)\n",
      "\n",
      "Best ARIMA parameters: (0, 1, 0) (AIC: 798.82)\n",
      "\n",
      "Moving Average (3):\n",
      " • MAE: 7,240\n",
      " • RMSE: 8,434\n",
      " • MAPE: 5.1%\n",
      "\n",
      "Exponential Smoothing:\n",
      " • MAE: 4,237\n",
      " • RMSE: 5,363\n",
      " • MAPE: 3.0%\n",
      "\n",
      "ARIMA:\n",
      " • MAE: 7,722\n",
      " • RMSE: 9,548\n",
      " • MAPE: 5.5%\n",
      "\n",
      "Naive:\n",
      " • MAE: 7,722\n",
      " • RMSE: 9,548\n",
      " • MAPE: 5.5%\n",
      "\n",
      "Seasonal Naive:\n",
      " • MAE: 12,830\n",
      " • RMSE: 14,370\n",
      " • MAPE: 8.9%\n",
      "\n",
      " Best Performing Method: Exponential Smoothing (MAPE: 3.0%)\n",
      "\n",
      "Best ARIMA parameters: (0, 1, 0) (AIC: 798.82)\n",
      "\n",
      "Moving Average (3):\n",
      " • MAE: 7,240\n",
      " • RMSE: 8,434\n",
      " • MAPE: 5.1%\n",
      "\n",
      "Exponential Smoothing:\n",
      " • MAE: 4,237\n",
      " • RMSE: 5,363\n",
      " • MAPE: 3.0%\n",
      "\n",
      "ARIMA:\n",
      " • MAE: 7,722\n",
      " • RMSE: 9,548\n",
      " • MAPE: 5.5%\n",
      "\n",
      "Naive:\n",
      " • MAE: 7,722\n",
      " • RMSE: 9,548\n",
      " • MAPE: 5.5%\n",
      "\n",
      "Seasonal Naive:\n",
      " • MAE: 12,830\n",
      " • RMSE: 14,370\n",
      " • MAPE: 8.9%\n",
      "\n",
      " Best Performing Method: Exponential Smoothing (MAPE: 3.0%)\n"
     ]
    }
   ],
   "source": [
    "# 2. MULTIPLE FORECASTING METHODS COMPARISON\n",
    "print(\" 2. MULTIPLE FORECASTING METHODS COMPARISON\")\n",
    "print(\"=\" * 47)\n",
    "\n",
    "# Split data for train/test\n",
    "train_size = int(len(sales_ts) * 0.8)\n",
    "train_data = sales_ts[:train_size]\n",
    "test_data = sales_ts[train_size:]\n",
    "\n",
    "print(f\"Data Split:\")\n",
    "print(f\"• Training period: {train_data.index[0]} to {train_data.index[-1]} ({len(train_data)} months)\")\n",
    "print(f\"• Testing period: {test_data.index[0]} to {test_data.index[-1]} ({len(test_data)} months)\")\n",
    "\n",
    "# Method 1: Simple Moving Average\n",
    "def moving_average_forecast(data, window=3, horizon=None):\n",
    "    \"\"\"Simple moving average forecast.\"\"\"\n",
    "    if horizon is None:\n",
    "        horizon = len(test_data)\n",
    "\n",
    "    forecasts = []\n",
    "    last_values = data.tail(window).values\n",
    "\n",
    "    for _ in range(horizon):\n",
    "        forecast = np.mean(last_values)\n",
    "        forecasts.append(forecast)\n",
    "        # Update rolling window\n",
    "        last_values = np.append(last_values[1:], forecast)\n",
    "\n",
    "    return np.array(forecasts)\n",
    "# Method 2: Exponential Smoothing (Holt-Winters)\n",
    "exp_smoothing_model = ExponentialSmoothing(\n",
    "    train_data,\n",
    "    trend='add',\n",
    "    seasonal='add',\n",
    "    seasonal_periods=12\n",
    ").fit()\n",
    "exp_smoothing_forecast = exp_smoothing_model.forecast(len(test_data))\n",
    "\n",
    "# Method 3: ARIMA Model\n",
    "# Find optimal ARIMA parameters (simplified grid search)\n",
    "def find_best_arima(data, max_p=3, max_d=2, max_q=3):\n",
    "    \"\"\"Find best ARIMA parameters using AIC.\"\"\"\n",
    "    best_aic = np.inf\n",
    "    best_params = None\n",
    "\n",
    "    for p in range(max_p + 1):\n",
    "        for d in range(max_d + 1):\n",
    "            for q in range(max_q + 1):\n",
    "                try:\n",
    "                    model = ARIMA(data, order=(p, d, q))\n",
    "                    fitted_model = model.fit()\n",
    "                    if fitted_model.aic < best_aic:\n",
    "                        best_aic = fitted_model.aic\n",
    "                        best_params = (p, d, q)\n",
    "                except:\n",
    "                    continue\n",
    "\n",
    "    return best_params, best_aic\n",
    "# Find best ARIMA parameters\n",
    "best_arima_params, best_aic = find_best_arima(train_data)\n",
    "print(f\"\\nBest ARIMA parameters: {best_arima_params} (AIC: {best_aic:.2f})\")\n",
    "\n",
    "# Fit best ARIMA model\n",
    "arima_model = ARIMA(train_data, order=best_arima_params).fit()\n",
    "arima_forecast = arima_model.forecast(len(test_data))\n",
    "\n",
    "# Method 4: Naive forecasts (baseline)\n",
    "naive_forecast = np.full(len(test_data), train_data.iloc[-1])\n",
    "seasonal_naive_forecast = np.tile(train_data.iloc[-12:].values, (len(test_data) // 12 + 1))[:len(test_data)]\n",
    "\n",
    "# Generate forecasts\n",
    "ma_forecast = moving_average_forecast(train_data, window=3)\n",
    "\n",
    "# Compile all forecasts\n",
    "forecasts = {\n",
    "    'Moving Average (3)': ma_forecast,\n",
    "    'Exponential Smoothing': exp_smoothing_forecast.values,\n",
    "    'ARIMA': arima_forecast.values,\n",
    "    'Naive': naive_forecast,\n",
    "    'Seasonal Naive': seasonal_naive_forecast\n",
    "}\n",
    "# Calculate accuracy metrics\n",
    "def calculate_accuracy_metrics(actual, predicted):\n",
    "    \"\"\"Calculate comprehensive accuracy metrics.\"\"\"\n",
    "    mae = mean_absolute_error(actual, predicted)\n",
    "    mse = mean_squared_error(actual, predicted)\n",
    "    rmse = np.sqrt(mse)\n",
    "    mape = np.mean(np.abs((actual - predicted) / actual)) * 100\n",
    "\n",
    "    return {\n",
    "        'MAE': mae,\n",
    "        'MSE': mse,\n",
    "        'RMSE': rmse,\n",
    "        'MAPE': mape\n",
    "    }\n",
    "# Evaluate all methods\n",
    "accuracy_results = {}\n",
    "for method_name, forecast_values in forecasts.items():\n",
    "    metrics = calculate_accuracy_metrics(test_data.values, forecast_values)\n",
    "    accuracy_results[method_name] = metrics\n",
    "\n",
    "    print(f\"\\n{method_name}:\")\n",
    "    print(f\" • MAE: {metrics['MAE']:,.0f}\")\n",
    "    print(f\" • RMSE: {metrics['RMSE']:,.0f}\")\n",
    "    print(f\" • MAPE: {metrics['MAPE']:.1f}%\")\n",
    "# Find best performing method\n",
    "best_method = min(accuracy_results.keys(), key=lambda x: accuracy_results[x]['MAPE'])\n",
    "best_mape = accuracy_results[best_method]['MAPE']\n",
    "print(f\"\\n Best Performing Method: {best_method} (MAPE: {best_mape:.1f}%)\")"
   ]
  },
  {
   "cell_type": "code",
   "execution_count": 7,
   "id": "182bb746",
   "metadata": {},
   "outputs": [
    {
     "name": "stdout",
     "output_type": "stream",
     "text": [
      " 3. INTERACTIVE TIME SERIES VISUALIZATIONS\n",
      "===============================================\n"
     ]
    },
    {
     "data": {
      "application/vnd.plotly.v1+json": {
       "config": {
        "plotlyServerURL": "https://plot.ly"
       },
       "data": [
        {
         "line": {
          "color": "blue",
          "width": 2
         },
         "mode": "lines",
         "name": "Original",
         "type": "scatter",
         "x": [
          "2020-01-31T00:00:00.000000000",
          "2020-02-29T00:00:00.000000000",
          "2020-03-31T00:00:00.000000000",
          "2020-04-30T00:00:00.000000000",
          "2020-05-31T00:00:00.000000000",
          "2020-06-30T00:00:00.000000000",
          "2020-07-31T00:00:00.000000000",
          "2020-08-31T00:00:00.000000000",
          "2020-09-30T00:00:00.000000000",
          "2020-10-31T00:00:00.000000000",
          "2020-11-30T00:00:00.000000000",
          "2020-12-31T00:00:00.000000000",
          "2021-01-31T00:00:00.000000000",
          "2021-02-28T00:00:00.000000000",
          "2021-03-31T00:00:00.000000000",
          "2021-04-30T00:00:00.000000000",
          "2021-05-31T00:00:00.000000000",
          "2021-06-30T00:00:00.000000000",
          "2021-07-31T00:00:00.000000000",
          "2021-08-31T00:00:00.000000000",
          "2021-09-30T00:00:00.000000000",
          "2021-10-31T00:00:00.000000000",
          "2021-11-30T00:00:00.000000000",
          "2021-12-31T00:00:00.000000000",
          "2022-01-31T00:00:00.000000000",
          "2022-02-28T00:00:00.000000000",
          "2022-03-31T00:00:00.000000000",
          "2022-04-30T00:00:00.000000000",
          "2022-05-31T00:00:00.000000000",
          "2022-06-30T00:00:00.000000000",
          "2022-07-31T00:00:00.000000000",
          "2022-08-31T00:00:00.000000000",
          "2022-09-30T00:00:00.000000000",
          "2022-10-31T00:00:00.000000000",
          "2022-11-30T00:00:00.000000000",
          "2022-12-31T00:00:00.000000000",
          "2023-01-31T00:00:00.000000000",
          "2023-02-28T00:00:00.000000000",
          "2023-03-31T00:00:00.000000000",
          "2023-04-30T00:00:00.000000000",
          "2023-05-31T00:00:00.000000000",
          "2023-06-30T00:00:00.000000000",
          "2023-07-31T00:00:00.000000000",
          "2023-08-31T00:00:00.000000000",
          "2023-09-30T00:00:00.000000000",
          "2023-10-31T00:00:00.000000000",
          "2023-11-30T00:00:00.000000000",
          "2023-12-31T00:00:00.000000000"
         ],
         "xaxis": "x",
         "y": {
          "bdata": "A7viutMg+EBUHzNadKr6QNsa46xhCP5Apretm0qS/ECrYBQw4e/5QFs3dyfdifpAapSAPh5o+UAtcpOWBID5QEAvhSnluvlAcLLdEYH59UDMFBE+9bv1QOOWiUkrVfxA1JBb1FxL+kB51SZqsnP+QBGdDwv+HP5AKwZT2v4G/UCiQf5bemr/QJ9Z15Cht/xAR2kvPOkr/UDmDcduMnL7QJDSs+EI4/tA9rCdnfCP+0AjW4OALo35QGMsAT6NEABBSeMIiwvq/UDMRT45G2oAQZumNGFLzQBBPjaGXIYQAkG9Yd//Dl0AQXAvWh2G0f5AjBAH8tyaAEETxmEdys/+QOpNB+hL7P9ABzaLhMAm/EB3P2ZsrnP8QDWUckw6zQFBhhRVpDFVAUFMpUpdZUECQbKzWl8tqAJBzlHsvv5OAkFxpB+rFQcBQbbpvmJ9LAFB8c72QU1hAUERPR1aw1oCQaYK8MwjmgFBXEsAPBKC/0A6wAms8coAQexlwGhMUwNB",
          "dtype": "f8"
         },
         "yaxis": "y"
        },
        {
         "line": {
          "color": "red",
          "width": 2
         },
         "mode": "lines",
         "name": "Trend",
         "type": "scatter",
         "x": [
          "2020-07-31T00:00:00.000000000",
          "2020-08-31T00:00:00.000000000",
          "2020-09-30T00:00:00.000000000",
          "2020-10-31T00:00:00.000000000",
          "2020-11-30T00:00:00.000000000",
          "2020-12-31T00:00:00.000000000",
          "2021-01-31T00:00:00.000000000",
          "2021-02-28T00:00:00.000000000",
          "2021-03-31T00:00:00.000000000",
          "2021-04-30T00:00:00.000000000",
          "2021-05-31T00:00:00.000000000",
          "2021-06-30T00:00:00.000000000",
          "2021-07-31T00:00:00.000000000",
          "2021-08-31T00:00:00.000000000",
          "2021-09-30T00:00:00.000000000",
          "2021-10-31T00:00:00.000000000",
          "2021-11-30T00:00:00.000000000",
          "2021-12-31T00:00:00.000000000",
          "2022-01-31T00:00:00.000000000",
          "2022-02-28T00:00:00.000000000",
          "2022-03-31T00:00:00.000000000",
          "2022-04-30T00:00:00.000000000",
          "2022-05-31T00:00:00.000000000",
          "2022-06-30T00:00:00.000000000",
          "2022-07-31T00:00:00.000000000",
          "2022-08-31T00:00:00.000000000",
          "2022-09-30T00:00:00.000000000",
          "2022-10-31T00:00:00.000000000",
          "2022-11-30T00:00:00.000000000",
          "2022-12-31T00:00:00.000000000",
          "2023-01-31T00:00:00.000000000",
          "2023-02-28T00:00:00.000000000",
          "2023-03-31T00:00:00.000000000",
          "2023-04-30T00:00:00.000000000",
          "2023-05-31T00:00:00.000000000",
          "2023-06-30T00:00:00.000000000"
         ],
         "xaxis": "x",
         "y": {
          "bdata": "T7AqEjj4+UB6i+SztTf6QCjjJSP0YPpA20tZ1Kxm+kDV7cm4+qX6QEwDrUmp9/pA7qJNQw83+0CfZ4yh+XP7QJR/kAe9n/tA/nC6f1jy+0Ayifwyqlb8QImp2zfhp/xADZWSIf32/EBptTKU9Db9QKxZLxyLdf1ARSVwYofm/UCcOTUdRED+QJiy4smpZP5A1W0RrCam/kAqfVZaIPX+QPpp4CEURP9AqnQYQWp1/0C5I+Hpopr/QI5g6VSh3v9ADsasCS8bAEHSUMtJKUgAQVkVOMuVbwBBX+w9j/mFAEH42iSFqY8AQX9GyI+RqQBB2QHzq6jEAEHdgsFHYewAQcWKmh5VHQFBCCrMELxAAUGANjI0BG4BQe1lng+mmQFB",
          "dtype": "f8"
         },
         "yaxis": "y"
        },
        {
         "line": {
          "color": "green",
          "width": 2
         },
         "mode": "lines",
         "name": "Seasonal",
         "type": "scatter",
         "x": [
          "2020-01-31T00:00:00.000000000",
          "2020-02-29T00:00:00.000000000",
          "2020-03-31T00:00:00.000000000",
          "2020-04-30T00:00:00.000000000",
          "2020-05-31T00:00:00.000000000",
          "2020-06-30T00:00:00.000000000",
          "2020-07-31T00:00:00.000000000",
          "2020-08-31T00:00:00.000000000",
          "2020-09-30T00:00:00.000000000",
          "2020-10-31T00:00:00.000000000",
          "2020-11-30T00:00:00.000000000",
          "2020-12-31T00:00:00.000000000",
          "2021-01-31T00:00:00.000000000",
          "2021-02-28T00:00:00.000000000",
          "2021-03-31T00:00:00.000000000",
          "2021-04-30T00:00:00.000000000",
          "2021-05-31T00:00:00.000000000",
          "2021-06-30T00:00:00.000000000",
          "2021-07-31T00:00:00.000000000",
          "2021-08-31T00:00:00.000000000",
          "2021-09-30T00:00:00.000000000",
          "2021-10-31T00:00:00.000000000",
          "2021-11-30T00:00:00.000000000",
          "2021-12-31T00:00:00.000000000",
          "2022-01-31T00:00:00.000000000",
          "2022-02-28T00:00:00.000000000",
          "2022-03-31T00:00:00.000000000",
          "2022-04-30T00:00:00.000000000",
          "2022-05-31T00:00:00.000000000",
          "2022-06-30T00:00:00.000000000",
          "2022-07-31T00:00:00.000000000",
          "2022-08-31T00:00:00.000000000",
          "2022-09-30T00:00:00.000000000",
          "2022-10-31T00:00:00.000000000",
          "2022-11-30T00:00:00.000000000",
          "2022-12-31T00:00:00.000000000",
          "2023-01-31T00:00:00.000000000",
          "2023-02-28T00:00:00.000000000",
          "2023-03-31T00:00:00.000000000",
          "2023-04-30T00:00:00.000000000",
          "2023-05-31T00:00:00.000000000",
          "2023-06-30T00:00:00.000000000",
          "2023-07-31T00:00:00.000000000",
          "2023-08-31T00:00:00.000000000",
          "2023-09-30T00:00:00.000000000",
          "2023-10-31T00:00:00.000000000",
          "2023-11-30T00:00:00.000000000",
          "2023-12-31T00:00:00.000000000"
         ],
         "xaxis": "x",
         "y": {
          "bdata": "LTJtWxyed8Cf1+eP68HEQGxbIX+Ow8VAAnYt7dOhxUDYvkzPp3GzQAZomOzJ/aDANWtKJkgBk0CTQ/JO4kW1wEZWtK77Ja/A9AGcPYptzsCy/TfkfbbSwM3EGh0dBr5ALTJtWxyed8Cf1+eP68HEQGxbIX+Ow8VAAnYt7dOhxUDYvkzPp3GzQAZomOzJ/aDANWtKJkgBk0CTQ/JO4kW1wEZWtK77Ja/A9AGcPYptzsCy/TfkfbbSwM3EGh0dBr5ALTJtWxyed8Cf1+eP68HEQGxbIX+Ow8VAAnYt7dOhxUDYvkzPp3GzQAZomOzJ/aDANWtKJkgBk0CTQ/JO4kW1wEZWtK77Ja/A9AGcPYptzsCy/TfkfbbSwM3EGh0dBr5ALTJtWxyed8Cf1+eP68HEQGxbIX+Ow8VAAnYt7dOhxUDYvkzPp3GzQAZomOzJ/aDANWtKJkgBk0CTQ/JO4kW1wEZWtK77Ja/A9AGcPYptzsCy/TfkfbbSwM3EGh0dBr5A",
          "dtype": "f8"
         },
         "yaxis": "y"
        },
        {
         "marker": {
          "color": "lightblue"
         },
         "name": "ACF",
         "type": "bar",
         "x": {
          "bdata": "AAECAwQFBgcICQoLDA0ODxAREhMUFRYXGA==",
          "dtype": "i1"
         },
         "xaxis": "x2",
         "y": {
          "bdata": "AAAAAAAA8D/PCEPfAxvnPyohWgWXiuM/gehrFu5t4j/aoJkhP9veP2QSUKVvn9o/WdOA3/gP1D92s1EYjnLTP/6lugLKGdQ/kHoZOdkR1z+g3H4Mop3UP7juMqvD5tI/QXWcVaxU1T8W7lNN2X7BP+dkWxsht7w/0CP110f6rj+HHYIRLKRlv6iWP+oFtqu/jGgBGC1ivr9pwqCK2ky1v05rOHdlirq/ZNZxkgjuvL9tjR1yb+3AvydUPP8xDca/YohdRiv1vr8=",
          "dtype": "f8"
         },
         "yaxis": "y2"
        },
        {
         "marker": {
          "color": "lightcoral"
         },
         "name": "PACF",
         "type": "bar",
         "x": {
          "bdata": "AAECAwQFBgcICQoLDA0ODxAREhMUFRYXGA==",
          "dtype": "i1"
         },
         "xaxis": "x2",
         "y": {
          "bdata": "AAAAAAAA8D8086vT3ZjnP2YEc/yMN8o/JeS2dGc/yj//LllNm5Wgv1U32vYwMXw/iC+gKFHBwr8BAsZjjavAP9TMI8/qcsE/7EgDqCoi0z9nIqDQRzOyv6CJlQ0G9J2/b7OfwBzrrj/TK2CYEOrkvwKW7Spmb8E/BRfgiXX5yb94AtiMUPLLP1vsne5/OtG/F5uNCKDhl79XXwLrq1mmv2IQ2SIyJtm/R8hfetC4gb+yTYHZH7iVPzOCdItKEtS/tTeQgUxT6D8=",
          "dtype": "f8"
         },
         "yaxis": "y2"
        },
        {
         "line": {
          "color": "black",
          "width": 2
         },
         "mode": "lines",
         "name": "Training Data",
         "type": "scatter",
         "x": [
          "2020-01-31T00:00:00.000000000",
          "2020-02-29T00:00:00.000000000",
          "2020-03-31T00:00:00.000000000",
          "2020-04-30T00:00:00.000000000",
          "2020-05-31T00:00:00.000000000",
          "2020-06-30T00:00:00.000000000",
          "2020-07-31T00:00:00.000000000",
          "2020-08-31T00:00:00.000000000",
          "2020-09-30T00:00:00.000000000",
          "2020-10-31T00:00:00.000000000",
          "2020-11-30T00:00:00.000000000",
          "2020-12-31T00:00:00.000000000",
          "2021-01-31T00:00:00.000000000",
          "2021-02-28T00:00:00.000000000",
          "2021-03-31T00:00:00.000000000",
          "2021-04-30T00:00:00.000000000",
          "2021-05-31T00:00:00.000000000",
          "2021-06-30T00:00:00.000000000",
          "2021-07-31T00:00:00.000000000",
          "2021-08-31T00:00:00.000000000",
          "2021-09-30T00:00:00.000000000",
          "2021-10-31T00:00:00.000000000",
          "2021-11-30T00:00:00.000000000",
          "2021-12-31T00:00:00.000000000",
          "2022-01-31T00:00:00.000000000",
          "2022-02-28T00:00:00.000000000",
          "2022-03-31T00:00:00.000000000",
          "2022-04-30T00:00:00.000000000",
          "2022-05-31T00:00:00.000000000",
          "2022-06-30T00:00:00.000000000",
          "2022-07-31T00:00:00.000000000",
          "2022-08-31T00:00:00.000000000",
          "2022-09-30T00:00:00.000000000",
          "2022-10-31T00:00:00.000000000",
          "2022-11-30T00:00:00.000000000",
          "2022-12-31T00:00:00.000000000",
          "2023-01-31T00:00:00.000000000",
          "2023-02-28T00:00:00.000000000"
         ],
         "xaxis": "x3",
         "y": {
          "bdata": "A7viutMg+EBUHzNadKr6QNsa46xhCP5Apretm0qS/ECrYBQw4e/5QFs3dyfdifpAapSAPh5o+UAtcpOWBID5QEAvhSnluvlAcLLdEYH59UDMFBE+9bv1QOOWiUkrVfxA1JBb1FxL+kB51SZqsnP+QBGdDwv+HP5AKwZT2v4G/UCiQf5bemr/QJ9Z15Cht/xAR2kvPOkr/UDmDcduMnL7QJDSs+EI4/tA9rCdnfCP+0AjW4OALo35QGMsAT6NEABBSeMIiwvq/UDMRT45G2oAQZumNGFLzQBBPjaGXIYQAkG9Yd//Dl0AQXAvWh2G0f5AjBAH8tyaAEETxmEdys/+QOpNB+hL7P9ABzaLhMAm/EB3P2ZsrnP8QDWUckw6zQFBhhRVpDFVAUFMpUpdZUECQQ==",
          "dtype": "f8"
         },
         "yaxis": "y3"
        },
        {
         "line": {
          "color": "blue",
          "width": 3
         },
         "mode": "lines",
         "name": "Actual Test",
         "type": "scatter",
         "x": [
          "2023-03-31T00:00:00.000000000",
          "2023-04-30T00:00:00.000000000",
          "2023-05-31T00:00:00.000000000",
          "2023-06-30T00:00:00.000000000",
          "2023-07-31T00:00:00.000000000",
          "2023-08-31T00:00:00.000000000",
          "2023-09-30T00:00:00.000000000",
          "2023-10-31T00:00:00.000000000",
          "2023-11-30T00:00:00.000000000",
          "2023-12-31T00:00:00.000000000"
         ],
         "xaxis": "x3",
         "y": {
          "bdata": "srNaXy2oAkHOUey+/k4CQXGkH6sVBwFBtum+Yn0sAUHxzvZBTWEBQRE9HVrDWgJBpgrwzCOaAUFcSwA8EoL/QDrACazxygBB7GXAaExTA0E=",
          "dtype": "f8"
         },
         "yaxis": "y3"
        },
        {
         "line": {
          "color": "red",
          "dash": "dash",
          "width": 2
         },
         "mode": "lines",
         "name": "Moving Average (3)",
         "type": "scatter",
         "x": [
          "2023-03-31T00:00:00.000000000",
          "2023-04-30T00:00:00.000000000",
          "2023-05-31T00:00:00.000000000",
          "2023-06-30T00:00:00.000000000",
          "2023-07-31T00:00:00.000000000",
          "2023-08-31T00:00:00.000000000",
          "2023-09-30T00:00:00.000000000",
          "2023-10-31T00:00:00.000000000",
          "2023-11-30T00:00:00.000000000",
          "2023-12-31T00:00:00.000000000"
         ],
         "xaxis": "x3",
         "y": {
          "bdata": "WG9bb/DLAUEOY/56gssBQeYnjMLy8gFBb1P3jszYAUHM9NXuFd0BQQvQHcDx4gFBw7KjFJzdAUGJ0oeWNt8BQXMcwyPs3wFB6zX6ROreAUE=",
          "dtype": "f8"
         },
         "yaxis": "y3"
        },
        {
         "line": {
          "color": "green",
          "dash": "dash",
          "width": 2
         },
         "mode": "lines",
         "name": "Exponential Smoothing",
         "type": "scatter",
         "x": [
          "2023-03-31T00:00:00.000000000",
          "2023-04-30T00:00:00.000000000",
          "2023-05-31T00:00:00.000000000",
          "2023-06-30T00:00:00.000000000",
          "2023-07-31T00:00:00.000000000",
          "2023-08-31T00:00:00.000000000",
          "2023-09-30T00:00:00.000000000",
          "2023-10-31T00:00:00.000000000",
          "2023-11-30T00:00:00.000000000",
          "2023-12-31T00:00:00.000000000"
         ],
         "xaxis": "x3",
         "y": {
          "bdata": "1PCqHvbMAkGrFW88aa4CQRmfCwpd9gFBz66zUKx/AUErrS/UicsBQYvoP0BrCQFBMi1DjIZiAUG4YzsMNu//QIPTBSZOef9AmbSPk/UlA0E=",
          "dtype": "f8"
         },
         "yaxis": "y3"
        },
        {
         "line": {
          "color": "orange",
          "dash": "dash",
          "width": 2
         },
         "mode": "lines",
         "name": "ARIMA",
         "type": "scatter",
         "x": [
          "2023-03-31T00:00:00.000000000",
          "2023-04-30T00:00:00.000000000",
          "2023-05-31T00:00:00.000000000",
          "2023-06-30T00:00:00.000000000",
          "2023-07-31T00:00:00.000000000",
          "2023-08-31T00:00:00.000000000",
          "2023-09-30T00:00:00.000000000",
          "2023-10-31T00:00:00.000000000",
          "2023-11-30T00:00:00.000000000",
          "2023-12-31T00:00:00.000000000"
         ],
         "xaxis": "x3",
         "y": {
          "bdata": "TKVKXWVBAkFMpUpdZUECQUylSl1lQQJBTKVKXWVBAkFMpUpdZUECQUylSl1lQQJBTKVKXWVBAkFMpUpdZUECQUylSl1lQQJBTKVKXWVBAkE=",
          "dtype": "f8"
         },
         "yaxis": "y3"
        },
        {
         "line": {
          "color": "purple",
          "dash": "dash",
          "width": 2
         },
         "mode": "lines",
         "name": "Naive",
         "type": "scatter",
         "x": [
          "2023-03-31T00:00:00.000000000",
          "2023-04-30T00:00:00.000000000",
          "2023-05-31T00:00:00.000000000",
          "2023-06-30T00:00:00.000000000",
          "2023-07-31T00:00:00.000000000",
          "2023-08-31T00:00:00.000000000",
          "2023-09-30T00:00:00.000000000",
          "2023-10-31T00:00:00.000000000",
          "2023-11-30T00:00:00.000000000",
          "2023-12-31T00:00:00.000000000"
         ],
         "xaxis": "x3",
         "y": {
          "bdata": "TKVKXWVBAkFMpUpdZUECQUylSl1lQQJBTKVKXWVBAkFMpUpdZUECQUylSl1lQQJBTKVKXWVBAkFMpUpdZUECQUylSl1lQQJBTKVKXWVBAkE=",
          "dtype": "f8"
         },
         "yaxis": "y3"
        },
        {
         "line": {
          "color": "brown",
          "dash": "dash",
          "width": 2
         },
         "mode": "lines",
         "name": "Seasonal Naive",
         "type": "scatter",
         "x": [
          "2023-03-31T00:00:00.000000000",
          "2023-04-30T00:00:00.000000000",
          "2023-05-31T00:00:00.000000000",
          "2023-06-30T00:00:00.000000000",
          "2023-07-31T00:00:00.000000000",
          "2023-08-31T00:00:00.000000000",
          "2023-09-30T00:00:00.000000000",
          "2023-10-31T00:00:00.000000000",
          "2023-11-30T00:00:00.000000000",
          "2023-12-31T00:00:00.000000000"
         ],
         "xaxis": "x3",
         "y": {
          "bdata": "m6Y0YUvNAEE+NoZchhACQb1h3/8OXQBBcC9aHYbR/kCMEAfy3JoAQRPGYR3Kz/5A6k0H6Evs/0AHNouEwCb8QHc/Zmyuc/xANZRyTDrNAUE=",
          "dtype": "f8"
         },
         "yaxis": "y3"
        },
        {
         "marker": {
          "color": "lightgreen"
         },
         "name": "Avg Traffic by Day",
         "type": "bar",
         "x": [
          "Mon",
          "Tue",
          "Wed",
          "Thu",
          "Fri",
          "Sat",
          "Sun"
         ],
         "xaxis": "x4",
         "y": {
          "bdata": "Nw+8r4VsyUD5V78Kw5nIQMDanNvNkshAZo2dXnExyUBbKWNLkpHIQBEe4imkwb1AUfEF5Vnuv0A=",
          "dtype": "f8"
         },
         "yaxis": "y4"
        },
        {
         "line": {
          "color": "red",
          "width": 2
         },
         "marker": {
          "size": 4
         },
         "mode": "lines+markers",
         "name": "Temperature",
         "type": "scatter",
         "x": [
          "2023-01-01T00:00:00.000000000",
          "2023-01-01T01:00:00.000000000",
          "2023-01-01T02:00:00.000000000",
          "2023-01-01T03:00:00.000000000",
          "2023-01-01T04:00:00.000000000",
          "2023-01-01T05:00:00.000000000",
          "2023-01-01T06:00:00.000000000",
          "2023-01-01T07:00:00.000000000",
          "2023-01-01T08:00:00.000000000",
          "2023-01-01T09:00:00.000000000",
          "2023-01-01T10:00:00.000000000",
          "2023-01-01T11:00:00.000000000",
          "2023-01-01T12:00:00.000000000",
          "2023-01-01T13:00:00.000000000",
          "2023-01-01T14:00:00.000000000",
          "2023-01-01T15:00:00.000000000",
          "2023-01-01T16:00:00.000000000",
          "2023-01-01T17:00:00.000000000",
          "2023-01-01T18:00:00.000000000",
          "2023-01-01T19:00:00.000000000",
          "2023-01-01T20:00:00.000000000",
          "2023-01-01T21:00:00.000000000",
          "2023-01-01T22:00:00.000000000",
          "2023-01-01T23:00:00.000000000",
          "2023-01-02T00:00:00.000000000",
          "2023-01-02T01:00:00.000000000",
          "2023-01-02T02:00:00.000000000",
          "2023-01-02T03:00:00.000000000",
          "2023-01-02T04:00:00.000000000",
          "2023-01-02T05:00:00.000000000",
          "2023-01-02T06:00:00.000000000",
          "2023-01-02T07:00:00.000000000",
          "2023-01-02T08:00:00.000000000",
          "2023-01-02T09:00:00.000000000",
          "2023-01-02T10:00:00.000000000",
          "2023-01-02T11:00:00.000000000",
          "2023-01-02T12:00:00.000000000",
          "2023-01-02T13:00:00.000000000",
          "2023-01-02T14:00:00.000000000",
          "2023-01-02T15:00:00.000000000",
          "2023-01-02T16:00:00.000000000",
          "2023-01-02T17:00:00.000000000",
          "2023-01-02T18:00:00.000000000",
          "2023-01-02T19:00:00.000000000",
          "2023-01-02T20:00:00.000000000",
          "2023-01-02T21:00:00.000000000",
          "2023-01-02T22:00:00.000000000",
          "2023-01-02T23:00:00.000000000",
          "2023-01-03T00:00:00.000000000",
          "2023-01-03T01:00:00.000000000",
          "2023-01-03T02:00:00.000000000",
          "2023-01-03T03:00:00.000000000",
          "2023-01-03T04:00:00.000000000",
          "2023-01-03T05:00:00.000000000",
          "2023-01-03T06:00:00.000000000",
          "2023-01-03T07:00:00.000000000",
          "2023-01-03T08:00:00.000000000",
          "2023-01-03T09:00:00.000000000",
          "2023-01-03T10:00:00.000000000",
          "2023-01-03T11:00:00.000000000",
          "2023-01-03T12:00:00.000000000",
          "2023-01-03T13:00:00.000000000",
          "2023-01-03T14:00:00.000000000",
          "2023-01-03T15:00:00.000000000",
          "2023-01-03T16:00:00.000000000",
          "2023-01-03T17:00:00.000000000",
          "2023-01-03T18:00:00.000000000",
          "2023-01-03T19:00:00.000000000",
          "2023-01-03T20:00:00.000000000",
          "2023-01-03T21:00:00.000000000",
          "2023-01-03T22:00:00.000000000",
          "2023-01-03T23:00:00.000000000",
          "2023-01-04T00:00:00.000000000",
          "2023-01-04T01:00:00.000000000",
          "2023-01-04T02:00:00.000000000",
          "2023-01-04T03:00:00.000000000",
          "2023-01-04T04:00:00.000000000",
          "2023-01-04T05:00:00.000000000",
          "2023-01-04T06:00:00.000000000",
          "2023-01-04T07:00:00.000000000",
          "2023-01-04T08:00:00.000000000",
          "2023-01-04T09:00:00.000000000",
          "2023-01-04T10:00:00.000000000",
          "2023-01-04T11:00:00.000000000",
          "2023-01-04T12:00:00.000000000",
          "2023-01-04T13:00:00.000000000",
          "2023-01-04T14:00:00.000000000",
          "2023-01-04T15:00:00.000000000",
          "2023-01-04T16:00:00.000000000",
          "2023-01-04T17:00:00.000000000",
          "2023-01-04T18:00:00.000000000",
          "2023-01-04T19:00:00.000000000",
          "2023-01-04T20:00:00.000000000",
          "2023-01-04T21:00:00.000000000",
          "2023-01-04T22:00:00.000000000",
          "2023-01-04T23:00:00.000000000",
          "2023-01-05T00:00:00.000000000",
          "2023-01-05T01:00:00.000000000",
          "2023-01-05T02:00:00.000000000",
          "2023-01-05T03:00:00.000000000",
          "2023-01-05T04:00:00.000000000",
          "2023-01-05T05:00:00.000000000",
          "2023-01-05T06:00:00.000000000",
          "2023-01-05T07:00:00.000000000",
          "2023-01-05T08:00:00.000000000",
          "2023-01-05T09:00:00.000000000",
          "2023-01-05T10:00:00.000000000",
          "2023-01-05T11:00:00.000000000",
          "2023-01-05T12:00:00.000000000",
          "2023-01-05T13:00:00.000000000",
          "2023-01-05T14:00:00.000000000",
          "2023-01-05T15:00:00.000000000",
          "2023-01-05T16:00:00.000000000",
          "2023-01-05T17:00:00.000000000",
          "2023-01-05T18:00:00.000000000",
          "2023-01-05T19:00:00.000000000",
          "2023-01-05T20:00:00.000000000",
          "2023-01-05T21:00:00.000000000",
          "2023-01-05T22:00:00.000000000",
          "2023-01-05T23:00:00.000000000",
          "2023-02-01T00:00:00.000000000",
          "2023-02-01T01:00:00.000000000",
          "2023-02-01T02:00:00.000000000",
          "2023-02-01T03:00:00.000000000",
          "2023-02-01T04:00:00.000000000",
          "2023-02-01T05:00:00.000000000",
          "2023-02-01T06:00:00.000000000",
          "2023-02-01T07:00:00.000000000",
          "2023-02-01T08:00:00.000000000",
          "2023-02-01T09:00:00.000000000",
          "2023-02-01T10:00:00.000000000",
          "2023-02-01T11:00:00.000000000",
          "2023-02-01T12:00:00.000000000",
          "2023-02-01T13:00:00.000000000",
          "2023-02-01T14:00:00.000000000",
          "2023-02-01T15:00:00.000000000",
          "2023-02-01T16:00:00.000000000",
          "2023-02-01T17:00:00.000000000",
          "2023-02-01T18:00:00.000000000",
          "2023-02-01T19:00:00.000000000",
          "2023-02-01T20:00:00.000000000",
          "2023-02-01T21:00:00.000000000",
          "2023-02-01T22:00:00.000000000",
          "2023-02-01T23:00:00.000000000",
          "2023-02-02T00:00:00.000000000",
          "2023-02-02T01:00:00.000000000",
          "2023-02-02T02:00:00.000000000",
          "2023-02-02T03:00:00.000000000",
          "2023-02-02T04:00:00.000000000",
          "2023-02-02T05:00:00.000000000",
          "2023-02-02T06:00:00.000000000",
          "2023-02-02T07:00:00.000000000",
          "2023-02-02T08:00:00.000000000",
          "2023-02-02T09:00:00.000000000",
          "2023-02-02T10:00:00.000000000",
          "2023-02-02T11:00:00.000000000",
          "2023-02-02T12:00:00.000000000",
          "2023-02-02T13:00:00.000000000",
          "2023-02-02T14:00:00.000000000",
          "2023-02-02T15:00:00.000000000",
          "2023-02-02T16:00:00.000000000",
          "2023-02-02T17:00:00.000000000",
          "2023-02-02T18:00:00.000000000",
          "2023-02-02T19:00:00.000000000",
          "2023-02-02T20:00:00.000000000",
          "2023-02-02T21:00:00.000000000",
          "2023-02-02T22:00:00.000000000",
          "2023-02-02T23:00:00.000000000",
          "2023-02-03T00:00:00.000000000",
          "2023-02-03T01:00:00.000000000",
          "2023-02-03T02:00:00.000000000",
          "2023-02-03T03:00:00.000000000",
          "2023-02-03T04:00:00.000000000",
          "2023-02-03T05:00:00.000000000",
          "2023-02-03T06:00:00.000000000",
          "2023-02-03T07:00:00.000000000",
          "2023-02-03T08:00:00.000000000",
          "2023-02-03T09:00:00.000000000",
          "2023-02-03T10:00:00.000000000",
          "2023-02-03T11:00:00.000000000",
          "2023-02-03T12:00:00.000000000",
          "2023-02-03T13:00:00.000000000",
          "2023-02-03T14:00:00.000000000",
          "2023-02-03T15:00:00.000000000",
          "2023-02-03T16:00:00.000000000",
          "2023-02-03T17:00:00.000000000",
          "2023-02-03T18:00:00.000000000",
          "2023-02-03T19:00:00.000000000",
          "2023-02-03T20:00:00.000000000",
          "2023-02-03T21:00:00.000000000",
          "2023-02-03T22:00:00.000000000",
          "2023-02-03T23:00:00.000000000",
          "2023-02-04T00:00:00.000000000",
          "2023-02-04T01:00:00.000000000",
          "2023-02-04T02:00:00.000000000",
          "2023-02-04T03:00:00.000000000",
          "2023-02-04T04:00:00.000000000",
          "2023-02-04T05:00:00.000000000",
          "2023-02-04T06:00:00.000000000",
          "2023-02-04T07:00:00.000000000",
          "2023-02-04T08:00:00.000000000",
          "2023-02-04T09:00:00.000000000",
          "2023-02-04T10:00:00.000000000",
          "2023-02-04T11:00:00.000000000",
          "2023-02-04T12:00:00.000000000",
          "2023-02-04T13:00:00.000000000",
          "2023-02-04T14:00:00.000000000",
          "2023-02-04T15:00:00.000000000",
          "2023-02-04T16:00:00.000000000",
          "2023-02-04T17:00:00.000000000",
          "2023-02-04T18:00:00.000000000",
          "2023-02-04T19:00:00.000000000",
          "2023-02-04T20:00:00.000000000",
          "2023-02-04T21:00:00.000000000",
          "2023-02-04T22:00:00.000000000",
          "2023-02-04T23:00:00.000000000",
          "2023-02-05T00:00:00.000000000",
          "2023-02-05T01:00:00.000000000",
          "2023-02-05T02:00:00.000000000",
          "2023-02-05T03:00:00.000000000",
          "2023-02-05T04:00:00.000000000",
          "2023-02-05T05:00:00.000000000",
          "2023-02-05T06:00:00.000000000",
          "2023-02-05T07:00:00.000000000",
          "2023-02-05T08:00:00.000000000",
          "2023-02-05T09:00:00.000000000",
          "2023-02-05T10:00:00.000000000",
          "2023-02-05T11:00:00.000000000",
          "2023-02-05T12:00:00.000000000",
          "2023-02-05T13:00:00.000000000",
          "2023-02-05T14:00:00.000000000",
          "2023-02-05T15:00:00.000000000",
          "2023-02-05T16:00:00.000000000",
          "2023-02-05T17:00:00.000000000",
          "2023-02-05T18:00:00.000000000",
          "2023-02-05T19:00:00.000000000",
          "2023-02-05T20:00:00.000000000",
          "2023-02-05T21:00:00.000000000",
          "2023-02-05T22:00:00.000000000",
          "2023-02-05T23:00:00.000000000",
          "2023-03-01T00:00:00.000000000",
          "2023-03-01T01:00:00.000000000",
          "2023-03-01T02:00:00.000000000",
          "2023-03-01T03:00:00.000000000",
          "2023-03-01T04:00:00.000000000",
          "2023-03-01T05:00:00.000000000",
          "2023-03-01T06:00:00.000000000",
          "2023-03-01T07:00:00.000000000",
          "2023-03-01T08:00:00.000000000",
          "2023-03-01T09:00:00.000000000",
          "2023-03-01T10:00:00.000000000",
          "2023-03-01T11:00:00.000000000",
          "2023-03-01T12:00:00.000000000",
          "2023-03-01T13:00:00.000000000",
          "2023-03-01T14:00:00.000000000",
          "2023-03-01T15:00:00.000000000",
          "2023-03-01T16:00:00.000000000",
          "2023-03-01T17:00:00.000000000",
          "2023-03-01T18:00:00.000000000",
          "2023-03-01T19:00:00.000000000",
          "2023-03-01T20:00:00.000000000",
          "2023-03-01T21:00:00.000000000",
          "2023-03-01T22:00:00.000000000",
          "2023-03-01T23:00:00.000000000",
          "2023-03-02T00:00:00.000000000",
          "2023-03-02T01:00:00.000000000",
          "2023-03-02T02:00:00.000000000",
          "2023-03-02T03:00:00.000000000",
          "2023-03-02T04:00:00.000000000",
          "2023-03-02T05:00:00.000000000",
          "2023-03-02T06:00:00.000000000",
          "2023-03-02T07:00:00.000000000",
          "2023-03-02T08:00:00.000000000",
          "2023-03-02T09:00:00.000000000",
          "2023-03-02T10:00:00.000000000",
          "2023-03-02T11:00:00.000000000",
          "2023-03-02T12:00:00.000000000",
          "2023-03-02T13:00:00.000000000",
          "2023-03-02T14:00:00.000000000",
          "2023-03-02T15:00:00.000000000",
          "2023-03-02T16:00:00.000000000",
          "2023-03-02T17:00:00.000000000",
          "2023-03-02T18:00:00.000000000",
          "2023-03-02T19:00:00.000000000",
          "2023-03-02T20:00:00.000000000",
          "2023-03-02T21:00:00.000000000",
          "2023-03-02T22:00:00.000000000",
          "2023-03-02T23:00:00.000000000",
          "2023-03-03T00:00:00.000000000",
          "2023-03-03T01:00:00.000000000",
          "2023-03-03T02:00:00.000000000",
          "2023-03-03T03:00:00.000000000",
          "2023-03-03T04:00:00.000000000",
          "2023-03-03T05:00:00.000000000",
          "2023-03-03T06:00:00.000000000",
          "2023-03-03T07:00:00.000000000",
          "2023-03-03T08:00:00.000000000",
          "2023-03-03T09:00:00.000000000",
          "2023-03-03T10:00:00.000000000",
          "2023-03-03T11:00:00.000000000",
          "2023-03-03T12:00:00.000000000",
          "2023-03-03T13:00:00.000000000",
          "2023-03-03T14:00:00.000000000",
          "2023-03-03T15:00:00.000000000",
          "2023-03-03T16:00:00.000000000",
          "2023-03-03T17:00:00.000000000",
          "2023-03-03T18:00:00.000000000",
          "2023-03-03T19:00:00.000000000",
          "2023-03-03T20:00:00.000000000",
          "2023-03-03T21:00:00.000000000",
          "2023-03-03T22:00:00.000000000",
          "2023-03-03T23:00:00.000000000",
          "2023-03-04T00:00:00.000000000",
          "2023-03-04T01:00:00.000000000",
          "2023-03-04T02:00:00.000000000",
          "2023-03-04T03:00:00.000000000",
          "2023-03-04T04:00:00.000000000",
          "2023-03-04T05:00:00.000000000",
          "2023-03-04T06:00:00.000000000",
          "2023-03-04T07:00:00.000000000",
          "2023-03-04T08:00:00.000000000",
          "2023-03-04T09:00:00.000000000",
          "2023-03-04T10:00:00.000000000",
          "2023-03-04T11:00:00.000000000",
          "2023-03-04T12:00:00.000000000",
          "2023-03-04T13:00:00.000000000",
          "2023-03-04T14:00:00.000000000",
          "2023-03-04T15:00:00.000000000",
          "2023-03-04T16:00:00.000000000",
          "2023-03-04T17:00:00.000000000",
          "2023-03-04T18:00:00.000000000",
          "2023-03-04T19:00:00.000000000",
          "2023-03-04T20:00:00.000000000",
          "2023-03-04T21:00:00.000000000",
          "2023-03-04T22:00:00.000000000",
          "2023-03-04T23:00:00.000000000",
          "2023-03-05T00:00:00.000000000",
          "2023-03-05T01:00:00.000000000",
          "2023-03-05T02:00:00.000000000",
          "2023-03-05T03:00:00.000000000",
          "2023-03-05T04:00:00.000000000",
          "2023-03-05T05:00:00.000000000",
          "2023-03-05T06:00:00.000000000",
          "2023-03-05T07:00:00.000000000",
          "2023-03-05T08:00:00.000000000",
          "2023-03-05T09:00:00.000000000",
          "2023-03-05T10:00:00.000000000",
          "2023-03-05T11:00:00.000000000",
          "2023-03-05T12:00:00.000000000",
          "2023-03-05T13:00:00.000000000",
          "2023-03-05T14:00:00.000000000",
          "2023-03-05T15:00:00.000000000",
          "2023-03-05T16:00:00.000000000",
          "2023-03-05T17:00:00.000000000",
          "2023-03-05T18:00:00.000000000",
          "2023-03-05T19:00:00.000000000",
          "2023-03-05T20:00:00.000000000",
          "2023-03-05T21:00:00.000000000",
          "2023-03-05T22:00:00.000000000",
          "2023-03-05T23:00:00.000000000"
         ],
         "xaxis": "x5",
         "y": {
          "bdata": "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",
          "dtype": "f8"
         },
         "yaxis": "y5"
        },
        {
         "marker": {
          "color": "lightcoral"
         },
         "name": "MAPE (%)",
         "type": "bar",
         "x": [
          "Moving Average (3)",
          "Exponential Smoothing",
          "ARIMA",
          "Naive",
          "Seasonal Naive"
         ],
         "xaxis": "x6",
         "y": [
          5.098934827962305,
          2.954539172533873,
          5.536376340083545,
          5.536376340083545,
          8.911975191618435
         ],
         "yaxis": "y6"
        }
       ],
       "layout": {
        "annotations": [
         {
          "font": {
           "size": 16
          },
          "showarrow": false,
          "text": "Time Series Decomposition (Sales Data)",
          "x": 0.225,
          "xanchor": "center",
          "xref": "paper",
          "y": 1,
          "yanchor": "bottom",
          "yref": "paper"
         },
         {
          "font": {
           "size": 16
          },
          "showarrow": false,
          "text": "Autocorrelation and Partial Autocorrelation",
          "x": 0.775,
          "xanchor": "center",
          "xref": "paper",
          "y": 1,
          "yanchor": "bottom",
          "yref": "paper"
         },
         {
          "font": {
           "size": 16
          },
          "showarrow": false,
          "text": "Forecast Comparison (Multiple Methods)",
          "x": 0.225,
          "xanchor": "center",
          "xref": "paper",
          "y": 0.6111111111111112,
          "yanchor": "bottom",
          "yref": "paper"
         },
         {
          "font": {
           "size": 16
          },
          "showarrow": false,
          "text": "Daily Traffic Patterns",
          "x": 0.775,
          "xanchor": "center",
          "xref": "paper",
          "y": 0.6111111111111112,
          "yanchor": "bottom",
          "yref": "paper"
         },
         {
          "font": {
           "size": 16
          },
          "showarrow": false,
          "text": "Hourly Temperature Cycles",
          "x": 0.225,
          "xanchor": "center",
          "xref": "paper",
          "y": 0.22222222222222224,
          "yanchor": "bottom",
          "yref": "paper"
         },
         {
          "font": {
           "size": 16
          },
          "showarrow": false,
          "text": "Forecast Accuracy Comparison",
          "x": 0.775,
          "xanchor": "center",
          "xref": "paper",
          "y": 0.22222222222222224,
          "yanchor": "bottom",
          "yref": "paper"
         }
        ],
        "height": 1200,
        "showlegend": true,
        "template": {
         "data": {
          "bar": [
           {
            "error_x": {
             "color": "#2a3f5f"
            },
            "error_y": {
             "color": "#2a3f5f"
            },
            "marker": {
             "line": {
              "color": "#E5ECF6",
              "width": 0.5
             },
             "pattern": {
              "fillmode": "overlay",
              "size": 10,
              "solidity": 0.2
             }
            },
            "type": "bar"
           }
          ],
          "barpolar": [
           {
            "marker": {
             "line": {
              "color": "#E5ECF6",
              "width": 0.5
             },
             "pattern": {
              "fillmode": "overlay",
              "size": 10,
              "solidity": 0.2
             }
            },
            "type": "barpolar"
           }
          ],
          "carpet": [
           {
            "aaxis": {
             "endlinecolor": "#2a3f5f",
             "gridcolor": "white",
             "linecolor": "white",
             "minorgridcolor": "white",
             "startlinecolor": "#2a3f5f"
            },
            "baxis": {
             "endlinecolor": "#2a3f5f",
             "gridcolor": "white",
             "linecolor": "white",
             "minorgridcolor": "white",
             "startlinecolor": "#2a3f5f"
            },
            "type": "carpet"
           }
          ],
          "choropleth": [
           {
            "colorbar": {
             "outlinewidth": 0,
             "ticks": ""
            },
            "type": "choropleth"
           }
          ],
          "contour": [
           {
            "colorbar": {
             "outlinewidth": 0,
             "ticks": ""
            },
            "colorscale": [
             [
              0,
              "#0d0887"
             ],
             [
              0.1111111111111111,
              "#46039f"
             ],
             [
              0.2222222222222222,
              "#7201a8"
             ],
             [
              0.3333333333333333,
              "#9c179e"
             ],
             [
              0.4444444444444444,
              "#bd3786"
             ],
             [
              0.5555555555555556,
              "#d8576b"
             ],
             [
              0.6666666666666666,
              "#ed7953"
             ],
             [
              0.7777777777777778,
              "#fb9f3a"
             ],
             [
              0.8888888888888888,
              "#fdca26"
             ],
             [
              1,
              "#f0f921"
             ]
            ],
            "type": "contour"
           }
          ],
          "contourcarpet": [
           {
            "colorbar": {
             "outlinewidth": 0,
             "ticks": ""
            },
            "type": "contourcarpet"
           }
          ],
          "heatmap": [
           {
            "colorbar": {
             "outlinewidth": 0,
             "ticks": ""
            },
            "colorscale": [
             [
              0,
              "#0d0887"
             ],
             [
              0.1111111111111111,
              "#46039f"
             ],
             [
              0.2222222222222222,
              "#7201a8"
             ],
             [
              0.3333333333333333,
              "#9c179e"
             ],
             [
              0.4444444444444444,
              "#bd3786"
             ],
             [
              0.5555555555555556,
              "#d8576b"
             ],
             [
              0.6666666666666666,
              "#ed7953"
             ],
             [
              0.7777777777777778,
              "#fb9f3a"
             ],
             [
              0.8888888888888888,
              "#fdca26"
             ],
             [
              1,
              "#f0f921"
             ]
            ],
            "type": "heatmap"
           }
          ],
          "histogram": [
           {
            "marker": {
             "pattern": {
              "fillmode": "overlay",
              "size": 10,
              "solidity": 0.2
             }
            },
            "type": "histogram"
           }
          ],
          "histogram2d": [
           {
            "colorbar": {
             "outlinewidth": 0,
             "ticks": ""
            },
            "colorscale": [
             [
              0,
              "#0d0887"
             ],
             [
              0.1111111111111111,
              "#46039f"
             ],
             [
              0.2222222222222222,
              "#7201a8"
             ],
             [
              0.3333333333333333,
              "#9c179e"
             ],
             [
              0.4444444444444444,
              "#bd3786"
             ],
             [
              0.5555555555555556,
              "#d8576b"
             ],
             [
              0.6666666666666666,
              "#ed7953"
             ],
             [
              0.7777777777777778,
              "#fb9f3a"
             ],
             [
              0.8888888888888888,
              "#fdca26"
             ],
             [
              1,
              "#f0f921"
             ]
            ],
            "type": "histogram2d"
           }
          ],
          "histogram2dcontour": [
           {
            "colorbar": {
             "outlinewidth": 0,
             "ticks": ""
            },
            "colorscale": [
             [
              0,
              "#0d0887"
             ],
             [
              0.1111111111111111,
              "#46039f"
             ],
             [
              0.2222222222222222,
              "#7201a8"
             ],
             [
              0.3333333333333333,
              "#9c179e"
             ],
             [
              0.4444444444444444,
              "#bd3786"
             ],
             [
              0.5555555555555556,
              "#d8576b"
             ],
             [
              0.6666666666666666,
              "#ed7953"
             ],
             [
              0.7777777777777778,
              "#fb9f3a"
             ],
             [
              0.8888888888888888,
              "#fdca26"
             ],
             [
              1,
              "#f0f921"
             ]
            ],
            "type": "histogram2dcontour"
           }
          ],
          "mesh3d": [
           {
            "colorbar": {
             "outlinewidth": 0,
             "ticks": ""
            },
            "type": "mesh3d"
           }
          ],
          "parcoords": [
           {
            "line": {
             "colorbar": {
              "outlinewidth": 0,
              "ticks": ""
             }
            },
            "type": "parcoords"
           }
          ],
          "pie": [
           {
            "automargin": true,
            "type": "pie"
           }
          ],
          "scatter": [
           {
            "fillpattern": {
             "fillmode": "overlay",
             "size": 10,
             "solidity": 0.2
            },
            "type": "scatter"
           }
          ],
          "scatter3d": [
           {
            "line": {
             "colorbar": {
              "outlinewidth": 0,
              "ticks": ""
             }
            },
            "marker": {
             "colorbar": {
              "outlinewidth": 0,
              "ticks": ""
             }
            },
            "type": "scatter3d"
           }
          ],
          "scattercarpet": [
           {
            "marker": {
             "colorbar": {
              "outlinewidth": 0,
              "ticks": ""
             }
            },
            "type": "scattercarpet"
           }
          ],
          "scattergeo": [
           {
            "marker": {
             "colorbar": {
              "outlinewidth": 0,
              "ticks": ""
             }
            },
            "type": "scattergeo"
           }
          ],
          "scattergl": [
           {
            "marker": {
             "colorbar": {
              "outlinewidth": 0,
              "ticks": ""
             }
            },
            "type": "scattergl"
           }
          ],
          "scattermap": [
           {
            "marker": {
             "colorbar": {
              "outlinewidth": 0,
              "ticks": ""
             }
            },
            "type": "scattermap"
           }
          ],
          "scattermapbox": [
           {
            "marker": {
             "colorbar": {
              "outlinewidth": 0,
              "ticks": ""
             }
            },
            "type": "scattermapbox"
           }
          ],
          "scatterpolar": [
           {
            "marker": {
             "colorbar": {
              "outlinewidth": 0,
              "ticks": ""
             }
            },
            "type": "scatterpolar"
           }
          ],
          "scatterpolargl": [
           {
            "marker": {
             "colorbar": {
              "outlinewidth": 0,
              "ticks": ""
             }
            },
            "type": "scatterpolargl"
           }
          ],
          "scatterternary": [
           {
            "marker": {
             "colorbar": {
              "outlinewidth": 0,
              "ticks": ""
             }
            },
            "type": "scatterternary"
           }
          ],
          "surface": [
           {
            "colorbar": {
             "outlinewidth": 0,
             "ticks": ""
            },
            "colorscale": [
             [
              0,
              "#0d0887"
             ],
             [
              0.1111111111111111,
              "#46039f"
             ],
             [
              0.2222222222222222,
              "#7201a8"
             ],
             [
              0.3333333333333333,
              "#9c179e"
             ],
             [
              0.4444444444444444,
              "#bd3786"
             ],
             [
              0.5555555555555556,
              "#d8576b"
             ],
             [
              0.6666666666666666,
              "#ed7953"
             ],
             [
              0.7777777777777778,
              "#fb9f3a"
             ],
             [
              0.8888888888888888,
              "#fdca26"
             ],
             [
              1,
              "#f0f921"
             ]
            ],
            "type": "surface"
           }
          ],
          "table": [
           {
            "cells": {
             "fill": {
              "color": "#EBF0F8"
             },
             "line": {
              "color": "white"
             }
            },
            "header": {
             "fill": {
              "color": "#C8D4E3"
             },
             "line": {
              "color": "white"
             }
            },
            "type": "table"
           }
          ]
         },
         "layout": {
          "annotationdefaults": {
           "arrowcolor": "#2a3f5f",
           "arrowhead": 0,
           "arrowwidth": 1
          },
          "autotypenumbers": "strict",
          "coloraxis": {
           "colorbar": {
            "outlinewidth": 0,
            "ticks": ""
           }
          },
          "colorscale": {
           "diverging": [
            [
             0,
             "#8e0152"
            ],
            [
             0.1,
             "#c51b7d"
            ],
            [
             0.2,
             "#de77ae"
            ],
            [
             0.3,
             "#f1b6da"
            ],
            [
             0.4,
             "#fde0ef"
            ],
            [
             0.5,
             "#f7f7f7"
            ],
            [
             0.6,
             "#e6f5d0"
            ],
            [
             0.7,
             "#b8e186"
            ],
            [
             0.8,
             "#7fbc41"
            ],
            [
             0.9,
             "#4d9221"
            ],
            [
             1,
             "#276419"
            ]
           ],
           "sequential": [
            [
             0,
             "#0d0887"
            ],
            [
             0.1111111111111111,
             "#46039f"
            ],
            [
             0.2222222222222222,
             "#7201a8"
            ],
            [
             0.3333333333333333,
             "#9c179e"
            ],
            [
             0.4444444444444444,
             "#bd3786"
            ],
            [
             0.5555555555555556,
             "#d8576b"
            ],
            [
             0.6666666666666666,
             "#ed7953"
            ],
            [
             0.7777777777777778,
             "#fb9f3a"
            ],
            [
             0.8888888888888888,
             "#fdca26"
            ],
            [
             1,
             "#f0f921"
            ]
           ],
           "sequentialminus": [
            [
             0,
             "#0d0887"
            ],
            [
             0.1111111111111111,
             "#46039f"
            ],
            [
             0.2222222222222222,
             "#7201a8"
            ],
            [
             0.3333333333333333,
             "#9c179e"
            ],
            [
             0.4444444444444444,
             "#bd3786"
            ],
            [
             0.5555555555555556,
             "#d8576b"
            ],
            [
             0.6666666666666666,
             "#ed7953"
            ],
            [
             0.7777777777777778,
             "#fb9f3a"
            ],
            [
             0.8888888888888888,
             "#fdca26"
            ],
            [
             1,
             "#f0f921"
            ]
           ]
          },
          "colorway": [
           "#636efa",
           "#EF553B",
           "#00cc96",
           "#ab63fa",
           "#FFA15A",
           "#19d3f3",
           "#FF6692",
           "#B6E880",
           "#FF97FF",
           "#FECB52"
          ],
          "font": {
           "color": "#2a3f5f"
          },
          "geo": {
           "bgcolor": "white",
           "lakecolor": "white",
           "landcolor": "#E5ECF6",
           "showlakes": true,
           "showland": true,
           "subunitcolor": "white"
          },
          "hoverlabel": {
           "align": "left"
          },
          "hovermode": "closest",
          "mapbox": {
           "style": "light"
          },
          "paper_bgcolor": "white",
          "plot_bgcolor": "#E5ECF6",
          "polar": {
           "angularaxis": {
            "gridcolor": "white",
            "linecolor": "white",
            "ticks": ""
           },
           "bgcolor": "#E5ECF6",
           "radialaxis": {
            "gridcolor": "white",
            "linecolor": "white",
            "ticks": ""
           }
          },
          "scene": {
           "xaxis": {
            "backgroundcolor": "#E5ECF6",
            "gridcolor": "white",
            "gridwidth": 2,
            "linecolor": "white",
            "showbackground": true,
            "ticks": "",
            "zerolinecolor": "white"
           },
           "yaxis": {
            "backgroundcolor": "#E5ECF6",
            "gridcolor": "white",
            "gridwidth": 2,
            "linecolor": "white",
            "showbackground": true,
            "ticks": "",
            "zerolinecolor": "white"
           },
           "zaxis": {
            "backgroundcolor": "#E5ECF6",
            "gridcolor": "white",
            "gridwidth": 2,
            "linecolor": "white",
            "showbackground": true,
            "ticks": "",
            "zerolinecolor": "white"
           }
          },
          "shapedefaults": {
           "line": {
            "color": "#2a3f5f"
           }
          },
          "ternary": {
           "aaxis": {
            "gridcolor": "white",
            "linecolor": "white",
            "ticks": ""
           },
           "baxis": {
            "gridcolor": "white",
            "linecolor": "white",
            "ticks": ""
           },
           "bgcolor": "#E5ECF6",
           "caxis": {
            "gridcolor": "white",
            "linecolor": "white",
            "ticks": ""
           }
          },
          "title": {
           "x": 0.05
          },
          "xaxis": {
           "automargin": true,
           "gridcolor": "white",
           "linecolor": "white",
           "ticks": "",
           "title": {
            "standoff": 15
           },
           "zerolinecolor": "white",
           "zerolinewidth": 2
          },
          "yaxis": {
           "automargin": true,
           "gridcolor": "white",
           "linecolor": "white",
           "ticks": "",
           "title": {
            "standoff": 15
           },
           "zerolinecolor": "white",
           "zerolinewidth": 2
          }
         }
        },
        "title": {
         "text": "Time Series Analysis & Forecasting Dashboard"
        },
        "xaxis": {
         "anchor": "y",
         "domain": [
          0,
          0.45
         ],
         "title": {
          "text": "Date"
         }
        },
        "xaxis2": {
         "anchor": "y2",
         "domain": [
          0.55,
          1
         ],
         "title": {
          "text": "Lag"
         }
        },
        "xaxis3": {
         "anchor": "y3",
         "domain": [
          0,
          0.45
         ],
         "title": {
          "text": "Date"
         }
        },
        "xaxis4": {
         "anchor": "y4",
         "domain": [
          0.55,
          1
         ],
         "title": {
          "text": "Day of Week"
         }
        },
        "xaxis5": {
         "anchor": "y5",
         "domain": [
          0,
          0.45
         ],
         "title": {
          "text": "DateTime"
         }
        },
        "xaxis6": {
         "anchor": "y6",
         "domain": [
          0.55,
          1
         ],
         "title": {
          "text": "Forecast Method"
         }
        },
        "yaxis": {
         "anchor": "x",
         "domain": [
          0.7777777777777778,
          1
         ],
         "title": {
          "text": "Sales ($)"
         }
        },
        "yaxis2": {
         "anchor": "x2",
         "domain": [
          0.7777777777777778,
          1
         ],
         "title": {
          "text": "Correlation"
         }
        },
        "yaxis3": {
         "anchor": "x3",
         "domain": [
          0.3888888888888889,
          0.6111111111111112
         ],
         "title": {
          "text": "Sales ($)"
         }
        },
        "yaxis4": {
         "anchor": "x4",
         "domain": [
          0.3888888888888889,
          0.6111111111111112
         ],
         "title": {
          "text": "Average Traffic"
         }
        },
        "yaxis5": {
         "anchor": "x5",
         "domain": [
          0,
          0.22222222222222224
         ],
         "title": {
          "text": "Temperature (°C)"
         }
        },
        "yaxis6": {
         "anchor": "x6",
         "domain": [
          0,
          0.22222222222222224
         ],
         "title": {
          "text": "MAPE (%)"
         }
        }
       }
      }
     },
     "metadata": {},
     "output_type": "display_data"
    },
    {
     "name": "stdout",
     "output_type": "stream",
     "text": [
      "\n",
      " TIME SERIES BUSINESS INSIGHTS:\n",
      "===================================\n",
      "\n",
      "1. Sales Forecasting Analysis:\n",
      " • Current monthly sales: $149,549\n",
      " • Next month forecast (Exponential Smoothing): $154,015\n",
      " • Projected growth: +3.0%\n",
      " • Seasonal peak month: 12\n",
      " • Seasonal low month: 10\n",
      " • Current annual run rate: $1,794,584\n",
      " • Projected annual sales: $1,730,270\n",
      "\n",
      "2. Website Traffic Patterns:\n",
      " • Average weekday traffic: 12,734 visits\n",
      " • Average weekend traffic: 7,899 visits\n",
      " • Weekend/Weekday ratio: 0.62\n",
      " • Peak traffic day: Mon\n",
      " • Lowest traffic day: Sat\n",
      "\n",
      " FORECASTING ROI ANALYSIS:\n",
      "===========================\n",
      "• Forecast accuracy improvement: 46.6%\n",
      "• Inventory cost savings: $10,086\n",
      "• Planning efficiency gain: $69,951\n",
      "• Total annual benefits: $80,037\n",
      "• Implementation cost: $125,000\n",
      "• Annual maintenance: $25,000\n",
      "• Net annual benefits: $55,037\n",
      "• ROI: -56%\n",
      "\n",
      " Cross-Reference Learning Path:\n",
      "• Foundation: Tier3_TimeSeriesDecomposition.ipynb (seasonal analysis)\n",
      "• Advanced: Tier3_ARIMA.ipynb (autoregressive modeling)\n",
      "• Comparison: Tier3_ExponentialSmoothing.ipynb (smoothing methods)\n",
      "• Specialized: Tier3_FourierAnalysis.ipynb (frequency domain)\n",
      "• Complete Guide: CROSS_REFERENCE_GUIDE.md\n"
     ]
    }
   ],
   "source": [
    "# 3. INTERACTIVE TIME SERIES VISUALIZATIONS\n",
    "print(\" 3. INTERACTIVE TIME SERIES VISUALIZATIONS\")\n",
    "print(\"=\" * 47)\n",
    "\n",
    "# Create comprehensive time series dashboard\n",
    "fig = make_subplots(\n",
    "    rows=3, cols=2,\n",
    "    subplot_titles=[\n",
    "        'Time Series Decomposition (Sales Data)',\n",
    "        'Autocorrelation and Partial Autocorrelation',\n",
    "        'Forecast Comparison (Multiple Methods)',\n",
    "        'Daily Traffic Patterns',\n",
    "        'Hourly Temperature Cycles',\n",
    "        'Forecast Accuracy Comparison'\n",
    "    ],\n",
    "    specs=[[{\"secondary_y\": False}, {\"secondary_y\": False}],\n",
    "           [{\"secondary_y\": False}, {\"secondary_y\": False}],\n",
    "           [{\"secondary_y\": False}, {\"secondary_y\": False}]]\n",
    ")\n",
    "\n",
    "# 1. Time Series Decomposition\n",
    "fig.add_trace(\n",
    "    go.Scatter(\n",
    "        x=sales_ts.index,\n",
    "        y=sales_ts.values,\n",
    "        mode='lines',\n",
    "        name='Original',\n",
    "        line=dict(color='blue', width=2)\n",
    "    ),\n",
    "    row=1, col=1\n",
    ")\n",
    "\n",
    "fig.add_trace(\n",
    "    go.Scatter(\n",
    "        x=trend_component.index,\n",
    "        y=trend_component.values,\n",
    "        mode='lines',\n",
    "        name='Trend',\n",
    "        line=dict(color='red', width=2)\n",
    "    ),\n",
    "    row=1, col=1\n",
    ")\n",
    "\n",
    "fig.add_trace(\n",
    "    go.Scatter(\n",
    "        x=seasonal_component.index,\n",
    "        y=seasonal_component.values,\n",
    "        mode='lines',\n",
    "        name='Seasonal',\n",
    "        line=dict(color='green', width=2)\n",
    "    ),\n",
    "    row=1, col=1\n",
    ")\n",
    "\n",
    "# 2. Autocorrelation plots\n",
    "lags = np.arange(len(sales_autocorr))\n",
    "fig.add_trace(\n",
    "    go.Bar(\n",
    "        x=lags,\n",
    "        y=sales_autocorr,\n",
    "        name='ACF',\n",
    "        marker_color='lightblue'\n",
    "    ),\n",
    "    row=1, col=2\n",
    ")\n",
    "\n",
    "fig.add_trace(\n",
    "    go.Bar(\n",
    "        x=lags,\n",
    "        y=sales_partial_autocorr,\n",
    "        name='PACF',\n",
    "        marker_color='lightcoral'\n",
    "    ),\n",
    "    row=1, col=2\n",
    ")\n",
    "\n",
    "# 3. Forecast Comparison\n",
    "# Plot historical data\n",
    "fig.add_trace(\n",
    "    go.Scatter(\n",
    "        x=train_data.index,\n",
    "        y=train_data.values,\n",
    "        mode='lines',\n",
    "        name='Training Data',\n",
    "        line=dict(color='black', width=2)\n",
    "    ),\n",
    "    row=2, col=1\n",
    ")\n",
    "\n",
    "fig.add_trace(\n",
    "    go.Scatter(\n",
    "        x=test_data.index,\n",
    "        y=test_data.values,\n",
    "        mode='lines',\n",
    "        name='Actual Test',\n",
    "        line=dict(color='blue', width=3)\n",
    "    ),\n",
    "    row=2, col=1\n",
    ")\n",
    "\n",
    "# Plot forecasts\n",
    "colors = ['red', 'green', 'orange', 'purple', 'brown']\n",
    "for i, (method, forecast_vals) in enumerate(forecasts.items()):\n",
    "    fig.add_trace(\n",
    "        go.Scatter(\n",
    "            x=test_data.index,\n",
    "            y=forecast_vals,\n",
    "            mode='lines',\n",
    "            name=f'{method}',\n",
    "            line=dict(color=colors[i % len(colors)], width=2, dash='dash')\n",
    "        ),\n",
    "        row=2, col=1\n",
    "    )\n",
    "\n",
    "# 4. Daily Traffic Patterns\n",
    "# Aggregate by day of week\n",
    "traffic_by_day = traffic_df.groupby('day_of_week')['traffic'].mean()\n",
    "day_names = ['Mon', 'Tue', 'Wed', 'Thu', 'Fri', 'Sat', 'Sun']\n",
    "\n",
    "fig.add_trace(\n",
    "    go.Bar(\n",
    "        x=day_names,\n",
    "        y=traffic_by_day.values,\n",
    "        name='Avg Traffic by Day',\n",
    "        marker_color='lightgreen'\n",
    "    ),\n",
    "    row=2, col=2\n",
    ")\n",
    "\n",
    "# 5. Hourly Temperature Cycles\n",
    "# Sample a few days for clarity\n",
    "sample_days = temperature_df[temperature_df['datetime'].dt.day <= 5]\n",
    "\n",
    "fig.add_trace(\n",
    "    go.Scatter(\n",
    "        x=sample_days['datetime'],\n",
    "        y=sample_days['temperature'],\n",
    "        mode='lines+markers',\n",
    "        name='Temperature',\n",
    "        line=dict(color='red', width=2),\n",
    "        marker=dict(size=4)\n",
    "    ),\n",
    "    row=3, col=1\n",
    ")\n",
    "\n",
    "# 6. Forecast Accuracy Comparison\n",
    "methods = list(accuracy_results.keys())\n",
    "mape_values = [accuracy_results[method]['MAPE'] for method in methods]\n",
    "rmse_values = [accuracy_results[method]['RMSE'] for method in methods]\n",
    "\n",
    "fig.add_trace(\n",
    "    go.Bar(\n",
    "        x=methods,\n",
    "        y=mape_values,\n",
    "        name='MAPE (%)',\n",
    "        marker_color='lightcoral',\n",
    "        yaxis='y6'\n",
    "    ),\n",
    "    row=3, col=2\n",
    ")\n",
    "\n",
    "# Update layout\n",
    "fig.update_layout(\n",
    "    height=1200,\n",
    "    title=\"Time Series Analysis & Forecasting Dashboard\",\n",
    "    showlegend=True\n",
    ")\n",
    "\n",
    "# Update axis labels\n",
    "fig.update_xaxes(title_text=\"Date\", row=1, col=1)\n",
    "fig.update_xaxes(title_text=\"Lag\", row=1, col=2)\n",
    "fig.update_xaxes(title_text=\"Date\", row=2, col=1)\n",
    "fig.update_xaxes(title_text=\"Day of Week\", row=2, col=2)\n",
    "fig.update_xaxes(title_text=\"DateTime\", row=3, col=1)\n",
    "fig.update_xaxes(title_text=\"Forecast Method\", row=3, col=2)\n",
    "\n",
    "fig.update_yaxes(title_text=\"Sales ($)\", row=1, col=1)\n",
    "fig.update_yaxes(title_text=\"Correlation\", row=1, col=2)\n",
    "fig.update_yaxes(title_text=\"Sales ($)\", row=2, col=1)\n",
    "fig.update_yaxes(title_text=\"Average Traffic\", row=2, col=2)\n",
    "fig.update_yaxes(title_text=\"Temperature (°C)\", row=3, col=1)\n",
    "fig.update_yaxes(title_text=\"MAPE (%)\", row=3, col=2)\n",
    "\n",
    "fig.show()\n",
    "\n",
    "# Business insights and applications\n",
    "print(f\"\\n TIME SERIES BUSINESS INSIGHTS:\")\n",
    "print(\"=\" * 35)\n",
    "\n",
    "# Sales forecasting insights\n",
    "current_sales = train_data.iloc[-1]\n",
    "best_forecast_next = forecasts[best_method][0]\n",
    "forecast_growth = (best_forecast_next - current_sales) / current_sales\n",
    "\n",
    "print(f\"\\n1. Sales Forecasting Analysis:\")\n",
    "print(f\" • Current monthly sales: ${current_sales:,.0f}\")\n",
    "print(f\" • Next month forecast ({best_method}): ${best_forecast_next:,.0f}\")\n",
    "print(f\" • Projected growth: {forecast_growth*100:+.1f}%\")\n",
    "print(f\" • Seasonal peak month: {sales_df.groupby('month')['sales'].mean().idxmax()}\")\n",
    "print(f\" • Seasonal low month: {sales_df.groupby('month')['sales'].mean().idxmin()}\")\n",
    "\n",
    "# Annual projections\n",
    "annual_forecast = forecasts[best_method]\n",
    "projected_annual_sales = np.sum(annual_forecast) * (12 / len(annual_forecast))\n",
    "current_annual_run_rate = current_sales * 12\n",
    "\n",
    "print(f\" • Current annual run rate: ${current_annual_run_rate:,.0f}\")\n",
    "print(f\" • Projected annual sales: ${projected_annual_sales:,.0f}\")\n",
    "\n",
    "# Traffic patterns insights\n",
    "weekend_traffic = traffic_df[traffic_df['is_weekend']]['traffic'].mean()\n",
    "weekday_traffic = traffic_df[~traffic_df['is_weekend']]['traffic'].mean()\n",
    "traffic_weekend_ratio = weekend_traffic / weekday_traffic\n",
    "\n",
    "print(f\"\\n2. Website Traffic Patterns:\")\n",
    "print(f\" • Average weekday traffic: {weekday_traffic:,.0f} visits\")\n",
    "print(f\" • Average weekend traffic: {weekend_traffic:,.0f} visits\")\n",
    "print(f\" • Weekend/Weekday ratio: {traffic_weekend_ratio:.2f}\")\n",
    "print(f\" • Peak traffic day: {day_names[traffic_by_day.idxmax()]}\")\n",
    "print(f\" • Lowest traffic day: {day_names[traffic_by_day.idxmin()]}\")\n",
    "\n",
    "# ROI of forecasting accuracy\n",
    "forecast_improvement = (accuracy_results['Naive']['MAPE'] - accuracy_results[best_method]['MAPE']) / accuracy_results['Naive']['MAPE']\n",
    "inventory_cost_savings = projected_annual_sales * 0.25 * 0.05 * forecast_improvement # 25% inventory cost, 5% improvement\n",
    "planning_efficiency_gain = 150_000 * forecast_improvement # Annual planning cost improvement\n",
    "\n",
    "print(f\"\\n FORECASTING ROI ANALYSIS:\")\n",
    "print(\"=\" * 27)\n",
    "print(f\"• Forecast accuracy improvement: {forecast_improvement*100:.1f}%\")\n",
    "print(f\"• Inventory cost savings: ${inventory_cost_savings:,.0f}\")\n",
    "print(f\"• Planning efficiency gain: ${planning_efficiency_gain:,.0f}\")\n",
    "print(f\"• Total annual benefits: ${inventory_cost_savings + planning_efficiency_gain:,.0f}\")\n",
    "\n",
    "implementation_cost = 125_000\n",
    "annual_maintenance = 25_000\n",
    "total_benefits = inventory_cost_savings + planning_efficiency_gain\n",
    "net_benefits = total_benefits - annual_maintenance\n",
    "roi = (net_benefits - implementation_cost) / implementation_cost\n",
    "\n",
    "print(f\"• Implementation cost: ${implementation_cost:,.0f}\")\n",
    "print(f\"• Annual maintenance: ${annual_maintenance:,.0f}\")\n",
    "print(f\"• Net annual benefits: ${net_benefits:,.0f}\")\n",
    "print(f\"• ROI: {roi*100:.0f}%\")\n",
    "\n",
    "print(f\"\\n Cross-Reference Learning Path:\")\n",
    "print(f\"• Foundation: Tier3_TimeSeriesDecomposition.ipynb (seasonal analysis)\")\n",
    "print(f\"• Advanced: Tier3_ARIMA.ipynb (autoregressive modeling)\")\n",
    "print(f\"• Comparison: Tier3_ExponentialSmoothing.ipynb (smoothing methods)\")\n",
    "print(f\"• Specialized: Tier3_FourierAnalysis.ipynb (frequency domain)\")\n",
    "print(f\"• Complete Guide: CROSS_REFERENCE_GUIDE.md\")"
   ]
  }
 ],
 "metadata": {
  "kernelspec": {
   "display_name": ".venv",
   "language": "python",
   "name": "python3"
  },
  "language_info": {
   "codemirror_mode": {
    "name": "ipython",
    "version": 3
   },
   "file_extension": ".py",
   "mimetype": "text/x-python",
   "name": "python",
   "nbconvert_exporter": "python",
   "pygments_lexer": "ipython3",
   "version": "3.13.7"
  }
 },
 "nbformat": 4,
 "nbformat_minor": 5
}
