{
 "cells": [
  {
   "cell_type": "markdown",
   "id": "b87dc04c",
   "metadata": {},
   "source": [
    "# Tier 1: Correlation Analysis\n",
    "\n",
    "---\n",
    "\n",
    "**Author:** Brandon Deloatch\n",
    "**Affiliation:** Quipu Research Labs, LLC\n",
    "**Date:** 2025-10-02\n",
    "**Version:** v1.3\n",
    "**License:** MIT\n",
    "**Notebook ID:** 2497f608-0610-4ae4-bc4e-27d77a0f0af0\n",
    "\n",
    "---\n",
    "\n",
    "## Citation\n",
    "Brandon Deloatch, \"Tier 1: Correlation Analysis,\" Quipu Research Labs, LLC, v1.3, 2025-10-02.\n",
    "\n",
    "Please cite this notebook if used or adapted in publications, presentations, or derivative work.\n",
    "\n",
    "---\n",
    "\n",
    "## Contributors / Acknowledgments\n",
    "- **Primary Author:** Brandon Deloatch (Quipu Research Labs, LLC)\n",
    "- **Institutional Support:** Quipu Research Labs, LLC - Advanced Analytics Division\n",
    "- **Technical Framework:** Built on scikit-learn, pandas, numpy, and plotly ecosystems\n",
    "- **Methodological Foundation:** Statistical learning principles and modern data science best practices\n",
    "\n",
    "---\n",
    "\n",
    "## Version History\n",
    "| Version | Date | Notes |\n",
    "|---------|------|-------|\n",
    "| v1.3 | 2025-10-02 | Enhanced professional formatting, comprehensive documentation, interactive visualizations |\n",
    "| v1.2 | 2024-09-15 | Updated analysis methods, improved data generation algorithms |\n",
    "| v1.0 | 2024-06-10 | Initial release with core analytical framework |\n",
    "\n",
    "---\n",
    "\n",
    "## Environment Dependencies\n",
    "- **Python:** 3.8+\n",
    "- **Core Libraries:** pandas 2.0+, numpy 1.24+, scikit-learn 1.3+\n",
    "- **Visualization:** plotly 5.0+, matplotlib 3.7+\n",
    "- **Statistical:** scipy 1.10+, statsmodels 0.14+\n",
    "- **Development:** jupyter-lab 4.0+, ipywidgets 8.0+\n",
    "\n",
    "> **Reproducibility Note:** Use requirements.txt or environment.yml for exact dependency matching.\n",
    "\n",
    "---\n",
    "\n",
    "## Data Provenance\n",
    "| Dataset | Source | License | Notes |\n",
    "|---------|--------|---------|-------|\n",
    "| Synthetic Data | Generated in-notebook | MIT | Custom algorithms for realistic simulation |\n",
    "| Statistical Distributions | NumPy/SciPy | BSD-3-Clause | Standard library implementations |\n",
    "| ML Algorithms | Scikit-learn | BSD-3-Clause | Industry-standard implementations |\n",
    "| Visualization Schemas | Plotly | MIT | Interactive dashboard frameworks |\n",
    "\n",
    "---\n",
    "\n",
    "## Execution Provenance Logs\n",
    "- **Created:** 2025-10-02\n",
    "- **Notebook ID:** 2497f608-0610-4ae4-bc4e-27d77a0f0af0\n",
    "- **Execution Environment:** Jupyter Lab / VS Code\n",
    "- **Computational Requirements:** Standard laptop/workstation (2GB+ RAM recommended)\n",
    "\n",
    "> **Auto-tracking:** Execution metadata can be programmatically captured for reproducibility.\n",
    "\n",
    "---\n",
    "\n",
    "## Disclaimer & Responsible Use\n",
    "This notebook is provided \"as-is\" for educational, research, and professional development purposes. Users assume full responsibility for any results, applications, or decisions derived from this analysis.\n",
    "\n",
    "**Professional Standards:**\n",
    "- Validate all results against domain expertise and additional data sources\n",
    "- Respect licensing and attribution requirements for all dependencies\n",
    "- Follow ethical guidelines for data analysis and algorithmic decision-making\n",
    "- Credit all methodological sources and derivative frameworks appropriately\n",
    "\n",
    "**Academic & Commercial Use:**\n",
    "- Permitted under MIT license with proper attribution\n",
    "- Suitable for educational curriculum and professional training\n",
    "- Appropriate for commercial adaptation with citation requirements\n",
    "- Recommended for reproducible research and transparent analytics\n",
    "\n",
    "---\n",
    "\n"
   ]
  },
  {
   "cell_type": "code",
   "execution_count": 9,
   "id": "858e6960",
   "metadata": {},
   "outputs": [
    {
     "name": "stdout",
     "output_type": "stream",
     "text": [
      " Tier 1: Correlation Analysis - Libraries Loaded Successfully!\n",
      "============================================================\n",
      "Available Correlation Methods:\n",
      "• Pearson Correlation - Linear relationships (parametric)\n",
      "• Spearman Correlation - Monotonic relationships (non-parametric)\n",
      "• Kendall's Tau - Rank-based relationships (robust)\n",
      "• Partial Correlation - Controlling for confounders\n",
      "• Point-Biserial - Continuous vs Binary variables\n"
     ]
    }
   ],
   "source": [
    "# Import Essential Libraries\n",
    "import pandas as pd\n",
    "import numpy as np\n",
    "import matplotlib.pyplot as plt\n",
    "import seaborn as sns\n",
    "import plotly.express as px\n",
    "import plotly.graph_objects as go\n",
    "from plotly.subplots import make_subplots\n",
    "import plotly.figure_factory as ff\n",
    "from scipy import stats\n",
    "from scipy.stats import pearsonr, spearmanr, kendalltau\n",
    "import warnings\n",
    "warnings.filterwarnings('ignore')\n",
    "\n",
    "print(\" Tier 1: Correlation Analysis - Libraries Loaded Successfully!\")\n",
    "print(\"=\" * 60)\n",
    "print(\"Available Correlation Methods:\")\n",
    "print(\"• Pearson Correlation - Linear relationships (parametric)\")\n",
    "print(\"• Spearman Correlation - Monotonic relationships (non-parametric)\")\n",
    "print(\"• Kendall's Tau - Rank-based relationships (robust)\")\n",
    "print(\"• Partial Correlation - Controlling for confounders\")\n",
    "print(\"• Point-Biserial - Continuous vs Binary variables\")"
   ]
  },
  {
   "cell_type": "code",
   "execution_count": 10,
   "id": "3699b81f",
   "metadata": {},
   "outputs": [
    {
     "name": "stdout",
     "output_type": "stream",
     "text": [
      " Economic Dataset Generated Successfully!\n",
      "Dataset Shape: (1000, 10)\n",
      "\n",
      "Dataset Overview:\n",
      "   GDP_Growth  Unemployment_Rate  Inflation_Rate  Consumer_Confidence  \\\n",
      "0    3.096057           7.571456        2.591228            40.798335   \n",
      "1    2.334083           7.572666        2.627966            42.223158   \n",
      "2    3.277226           6.409091        2.586958            51.499921   \n",
      "3    4.327636           5.318633        3.144310            70.439352   \n",
      "4    2.219016           7.449071        1.718897            48.979704   \n",
      "\n",
      "   Stock_Returns  Interest_Rates  Retail_Sales_Index  Housing_Price_Index  \\\n",
      "0     -32.539242        4.427609          147.365969           276.723685   \n",
      "1     -50.558049        4.440755          148.846126           213.931583   \n",
      "2      11.177479        4.013482          160.349571           281.345452   \n",
      "3      81.822235        4.787559          187.693565           271.939585   \n",
      "4     -72.723651        4.251187          158.361581           263.424896   \n",
      "\n",
      "   Tech_Investment  Productivity_Index  \n",
      "0        41.898961          112.206803  \n",
      "1        13.078111          107.982686  \n",
      "2        85.671540          119.627758  \n",
      "3       173.590639          125.005639  \n",
      "4         7.807043          100.784296  \n",
      "\n",
      "Basic Statistics:\n",
      "       GDP_Growth  Unemployment_Rate  Inflation_Rate  Consumer_Confidence  \\\n",
      "count     1000.00            1000.00         1000.00              1000.00   \n",
      "mean         2.52               6.80            2.76                48.93   \n",
      "std          1.18               1.01            0.61                 8.91   \n",
      "min         -1.39               3.88            1.01                20.28   \n",
      "25%          1.72               6.09            2.34                42.54   \n",
      "50%          2.53               6.79            2.74                48.60   \n",
      "75%          3.28               7.51            3.18                55.30   \n",
      "max          7.12               9.75            4.95                78.36   \n",
      "\n",
      "       Stock_Returns  Interest_Rates  Retail_Sales_Index  Housing_Price_Index  \\\n",
      "count        1000.00         1000.00             1000.00              1000.00   \n",
      "mean          -27.71            4.64              161.32               251.10   \n",
      "std            62.91            0.48               16.06                26.95   \n",
      "min          -218.70            3.25              112.07               171.30   \n",
      "25%           -70.70            4.32              150.23               232.21   \n",
      "50%           -27.31            4.65              160.67               251.19   \n",
      "75%            11.80            4.96              172.92               269.98   \n",
      "max           159.28            6.27              217.00               343.14   \n",
      "\n",
      "       Tech_Investment  Productivity_Index  \n",
      "count          1000.00             1000.00  \n",
      "mean             42.66              108.47  \n",
      "std              72.27               15.30  \n",
      "min            -184.63               62.59  \n",
      "25%              -5.16               97.96  \n",
      "50%              41.78              108.48  \n",
      "75%              87.52              118.58  \n",
      "max             272.72              158.37  \n"
     ]
    }
   ],
   "source": [
    "# Generate Comprehensive Sample Dataset\n",
    "np.random.seed(42)\n",
    "\n",
    "# Create realistic economic/business dataset\n",
    "n_samples = 1000\n",
    "\n",
    "# Base economic indicators\n",
    "gdp_growth = np.random.normal(2.5, 1.2, n_samples)\n",
    "unemployment = 8 - 0.5 * gdp_growth + np.random.normal(0, 0.8, n_samples)\n",
    "inflation = 2 + 0.3 * gdp_growth + np.random.normal(0, 0.5, n_samples)\n",
    "\n",
    "# Consumer and business metrics\n",
    "consumer_confidence = 50 + 5 * gdp_growth - 2 * unemployment + np.random.normal(0, 5, n_samples)\n",
    "stock_returns = 0.08 + 0.4 * gdp_growth - 0.2 * unemployment + np.random.normal(0, 0.15, n_samples)\n",
    "interest_rates = 3 + 0.6 * inflation + np.random.normal(0, 0.3, n_samples)\n",
    "\n",
    "# Retail and housing\n",
    "retail_sales = 100 + 10 * consumer_confidence/10 + 5 * gdp_growth + np.random.normal(0, 8, n_samples)\n",
    "housing_prices = 250000 + 15000 * gdp_growth - 8000 * interest_rates + np.random.normal(0, 20000, n_samples)\n",
    "\n",
    "# Technology and innovation metrics\n",
    "tech_investment = 50 + 8 * gdp_growth + 0.1 * stock_returns * 1000 + np.random.normal(0, 10, n_samples)\n",
    "productivity = 100 + 2 * tech_investment/10 + np.random.normal(0, 5, n_samples)\n",
    "\n",
    "# Create DataFrame\n",
    "df = pd.DataFrame({\n",
    " 'GDP_Growth': gdp_growth,\n",
    " 'Unemployment_Rate': unemployment,\n",
    " 'Inflation_Rate': inflation,\n",
    " 'Consumer_Confidence': consumer_confidence,\n",
    " 'Stock_Returns': stock_returns * 100, # Convert to percentage\n",
    " 'Interest_Rates': interest_rates,\n",
    " 'Retail_Sales_Index': retail_sales,\n",
    " 'Housing_Price_Index': housing_prices / 1000, # In thousands\n",
    " 'Tech_Investment': tech_investment,\n",
    " 'Productivity_Index': productivity\n",
    "})\n",
    "\n",
    "# Ensure realistic bounds\n",
    "df['Unemployment_Rate'] = np.clip(df['Unemployment_Rate'], 1, 15)\n",
    "df['Inflation_Rate'] = np.clip(df['Inflation_Rate'], -2, 8)\n",
    "df['Consumer_Confidence'] = np.clip(df['Consumer_Confidence'], 0, 100)\n",
    "df['Interest_Rates'] = np.clip(df['Interest_Rates'], 0, 10)\n",
    "\n",
    "print(\" Economic Dataset Generated Successfully!\")\n",
    "print(f\"Dataset Shape: {df.shape}\")\n",
    "print(\"\\nDataset Overview:\")\n",
    "print(df.head())\n",
    "print(\"\\nBasic Statistics:\")\n",
    "print(df.describe().round(2))"
   ]
  },
  {
   "cell_type": "code",
   "execution_count": 7,
   "id": "15ae52f2",
   "metadata": {},
   "outputs": [
    {
     "name": "stdout",
     "output_type": "stream",
     "text": [
      " 1. PEARSON CORRELATION ANALYSIS\n",
      "==================================================\n",
      "Pearson Correlation Matrix:\n",
      "                     GDP_Growth  Unemployment_Rate  Inflation_Rate  \\\n",
      "GDP_Growth                1.000             -0.614           0.594   \n",
      "Unemployment_Rate        -0.614              1.000          -0.371   \n",
      "Inflation_Rate            0.594             -0.371           1.000   \n",
      "Consumer_Confidence       0.790             -0.651           0.481   \n",
      "Stock_Returns             0.937             -0.779           0.566   \n",
      "Interest_Rates            0.455             -0.273           0.772   \n",
      "Retail_Sales_Index        0.788             -0.577           0.463   \n",
      "Housing_Price_Index       0.625             -0.349           0.276   \n",
      "Tech_Investment           0.943             -0.755           0.569   \n",
      "Productivity_Index        0.898             -0.709           0.543   \n",
      "\n",
      "                     Consumer_Confidence  Stock_Returns  Interest_Rates  \\\n",
      "GDP_Growth                         0.790          0.937           0.455   \n",
      "Unemployment_Rate                 -0.651         -0.779          -0.273   \n",
      "Inflation_Rate                     0.481          0.566           0.772   \n",
      "Consumer_Confidence                1.000          0.797           0.379   \n",
      "Stock_Returns                      0.797          1.000           0.424   \n",
      "Interest_Rates                     0.379          0.424           1.000   \n",
      "Retail_Sales_Index                 0.834          0.770           0.365   \n",
      "Housing_Price_Index                0.481          0.579           0.181   \n",
      "Tech_Investment                    0.795          0.989           0.429   \n",
      "Productivity_Index                 0.745          0.941           0.405   \n",
      "\n",
      "                     Retail_Sales_Index  Housing_Price_Index  Tech_Investment  \\\n",
      "GDP_Growth                        0.788                0.625            0.943   \n",
      "Unemployment_Rate                -0.577               -0.349           -0.755   \n",
      "Inflation_Rate                    0.463                0.276            0.569   \n",
      "Consumer_Confidence               0.834                0.481            0.795   \n",
      "Stock_Returns                     0.770                0.579            0.989   \n",
      "Interest_Rates                    0.365                0.181            0.429   \n",
      "Retail_Sales_Index                1.000                0.485            0.771   \n",
      "Housing_Price_Index               0.485                1.000            0.587   \n",
      "Tech_Investment                   0.771                0.587            1.000   \n",
      "Productivity_Index                0.727                0.550            0.949   \n",
      "\n",
      "                     Productivity_Index  \n",
      "GDP_Growth                        0.898  \n",
      "Unemployment_Rate                -0.709  \n",
      "Inflation_Rate                    0.543  \n",
      "Consumer_Confidence               0.745  \n",
      "Stock_Returns                     0.941  \n",
      "Interest_Rates                    0.405  \n",
      "Retail_Sales_Index                0.727  \n",
      "Housing_Price_Index               0.550  \n",
      "Tech_Investment                   0.949  \n",
      "Productivity_Index                1.000  \n"
     ]
    },
    {
     "data": {
      "application/vnd.plotly.v1+json": {
       "config": {
        "plotlyServerURL": "https://plot.ly"
       },
       "data": [
        {
         "colorscale": [
          [
           0,
           "rgb(5,48,97)"
          ],
          [
           0.1,
           "rgb(33,102,172)"
          ],
          [
           0.2,
           "rgb(67,147,195)"
          ],
          [
           0.3,
           "rgb(146,197,222)"
          ],
          [
           0.4,
           "rgb(209,229,240)"
          ],
          [
           0.5,
           "rgb(247,247,247)"
          ],
          [
           0.6,
           "rgb(253,219,199)"
          ],
          [
           0.7,
           "rgb(244,165,130)"
          ],
          [
           0.8,
           "rgb(214,96,77)"
          ],
          [
           0.9,
           "rgb(178,24,43)"
          ],
          [
           1,
           "rgb(103,0,31)"
          ]
         ],
         "hoverongaps": false,
         "text": {
          "bdata": "AAAAAAAA8D/ZzvdT46XjvzVeukkMAuM/SOF6FK5H6T+WQ4ts5/vtPx+F61G4Ht0/nu+nxks36T8AAAAAAADkP5MYBFYOLe4/I9v5fmq87D/ZzvdT46XjvwAAAAAAAPA/WDm0yHa+17+iRbbz/dTkvyGwcmiR7ei/Rrbz/dR40b8QWDm0yHbiv7x0kxgEVta/KVyPwvUo6L/jpZvEILDmvzVeukkMAuM/WDm0yHa+178AAAAAAADwP2IQWDm0yN4/6SYxCKwc4j9OYhBYObToP28Sg8DKod0/RIts5/up0T9oke18PzXiP8dLN4lBYOE/SOF6FK5H6T+iRbbz/dTkv2IQWDm0yN4/AAAAAAAA8D8bL90kBoHpP6jGSzeJQdg/46WbxCCw6j9iEFg5tMjeP3E9CtejcOk/16NwPQrX5z+WQ4ts5/vtPyGwcmiR7ei/6SYxCKwc4j8bL90kBoHpPwAAAAAAAPA/iUFg5dAi2z+kcD0K16PoP7pJDAIrh+I/2c73U+Ol7z/pJjEIrBzuPx+F61G4Ht0/Rrbz/dR40b9OYhBYObToP6jGSzeJQdg/iUFg5dAi2z8AAAAAAADwP1yPwvUoXNc/XrpJDAIrxz/b+X5qvHTbP+xRuB6F69k/nu+nxks36T8QWDm0yHbiv28Sg8DKod0/46WbxCCw6j+kcD0K16PoP1yPwvUoXNc/AAAAAAAA8D8K16NwPQrfP3npJjEIrOg/3SQGgZVD5z8AAAAAAADkP7x0kxgEVta/RIts5/up0T9iEFg5tMjeP7pJDAIrh+I/XrpJDAIrxz8K16NwPQrfPwAAAAAAAPA/YhBYObTI4j+amZmZmZnhP5MYBFYOLe4/KVyPwvUo6L9oke18PzXiP3E9CtejcOk/2c73U+Ol7z/b+X5qvHTbP3npJjEIrOg/YhBYObTI4j8AAAAAAADwP5HtfD81Xu4/I9v5fmq87D/jpZvEILDmv8dLN4lBYOE/16NwPQrX5z/pJjEIrBzuP+xRuB6F69k/3SQGgZVD5z+amZmZmZnhP5HtfD81Xu4/AAAAAAAA8D8=",
          "dtype": "f8",
          "shape": "10, 10"
         },
         "textfont": {
          "size": 10
         },
         "texttemplate": "%{text}",
         "type": "heatmap",
         "x": [
          "GDP_Growth",
          "Unemployment_Rate",
          "Inflation_Rate",
          "Consumer_Confidence",
          "Stock_Returns",
          "Interest_Rates",
          "Retail_Sales_Index",
          "Housing_Price_Index",
          "Tech_Investment",
          "Productivity_Index"
         ],
         "xaxis": "x",
         "y": [
          "GDP_Growth",
          "Unemployment_Rate",
          "Inflation_Rate",
          "Consumer_Confidence",
          "Stock_Returns",
          "Interest_Rates",
          "Retail_Sales_Index",
          "Housing_Price_Index",
          "Tech_Investment",
          "Productivity_Index"
         ],
         "yaxis": "y",
         "z": {
          "bdata": "AAAAAAAA8D8MNv45j6Pjvz5aQ9OTBeM/hOQKKjpL6T/U6xLQk/ntP/z9fcWsI90/TZ02vQc06T8QwtGWsvzjPzneBYe6Lu4/Z5+FWSm77D8MNv45j6PjvwAAAAAAAPA/hWt8cGLE17/8aPNv39jkvyIHG3NH6+i/yL49feB/0b+3ubxBsnTivy8tOZ5MTta/oYOfPQ8p6L+loVK8G6zmvz5aQ9OTBeM/hWt8cGLE178AAAAAAADwP3LtbQiV0N4/pwNCptwb4j8fQp691bDoPzosdjNhod0/G7Pofyek0T9D4srHwjPiP9mDnSD2XeE/hOQKKjpL6T/8aPNv39jkv3LtbQiV0N4/AAAAAAAA8D8qNL334oLpP0AASHo2SNg/G82awhay6j9qS1MfF8/eP1+YmQxRcek/VDmUoO3V5z/U6xLQk/ntPyIHG3NH6+i/pwNCptwb4j8qNL334oLpPwAAAAAAAPA/XSticEIb2z9m0ItFv6PoP7pGXhTXiuI/4GcRm+Kl7z/jKm7XYRnuP/z9fcWsI90/yL49feB/0b8fQp691bDoP0AASHo2SNg/XSticEIb2z8AAAAAAADwP+d3XEc7X9c/cGkXapIwxz8XjxsN2W7bP0tIodiq49k/TZ02vQc06T+3ubxBsnTivzosdjNhod0/G82awhay6j9m0ItFv6PoP+d3XEc7X9c/AAAAAAAA8D+BzRuT2A7fPxTdfJ3lqug/5+ZoblVG5z8QwtGWsvzjPy8tOZ5MTta/G7Pofyek0T9qS1MfF8/eP7pGXhTXiuI/cGkXapIwxz+BzRuT2A7fPwAAAAAAAPA/iQxC/CLI4j9pcdHtkZXhPzneBYe6Lu4/oYOfPQ8p6L9D4srHwjPiP1+YmQxRcek/4GcRm+Kl7z8XjxsN2W7bPxTdfJ3lqug/iQxC/CLI4j8AAAAAAADwP3OeXP4eXu4/Z5+FWSm77D+loVK8G6zmv9mDnSD2XeE/VDmUoO3V5z/jKm7XYRnuP0tIodiq49k/5+ZoblVG5z9pcdHtkZXhP3OeXP4eXu4/AAAAAAAA8D8=",
          "dtype": "f8",
          "shape": "10, 10"
         },
         "zmid": 0
        },
        {
         "marker": {
          "color": "steelblue"
         },
         "name": "Correlation Distribution",
         "nbinsx": 20,
         "opacity": 0.7,
         "type": "histogram",
         "x": {
          "bdata": "DDb+OY+j478+WkPTkwXjP4TkCio6S+k/1OsS0JP57T/8/X3FrCPdP02dNr0HNOk/EMLRlrL84z853gWHui7uP2efhVkpu+w/hWt8cGLE17/8aPNv39jkvyIHG3NH6+i/yL49feB/0b+3ubxBsnTivy8tOZ5MTta/oYOfPQ8p6L+loVK8G6zmv3LtbQiV0N4/pwNCptwb4j8fQp691bDoPzosdjNhod0/G7Pofyek0T9D4srHwjPiP9mDnSD2XeE/KjS99+KC6T9AAEh6NkjYPxvNmsIWsuo/aktTHxfP3j9fmJkMUXHpP1Q5lKDt1ec/XSticEIb2z9m0ItFv6PoP7pGXhTXiuI/4GcRm+Kl7z/jKm7XYRnuP+d3XEc7X9c/cGkXapIwxz8XjxsN2W7bP0tIodiq49k/gc0bk9gO3z8U3Xyd5aroP+fmaG5VRuc/iQxC/CLI4j9pcdHtkZXhP3OeXP4eXu4/",
          "dtype": "f8"
         },
         "xaxis": "x2",
         "yaxis": "y2"
        }
       ],
       "layout": {
        "annotations": [
         {
          "font": {
           "size": 16
          },
          "showarrow": false,
          "text": "Pearson Correlation Heatmap",
          "x": 0.225,
          "xanchor": "center",
          "xref": "paper",
          "y": 1,
          "yanchor": "bottom",
          "yref": "paper"
         },
         {
          "font": {
           "size": 16
          },
          "showarrow": false,
          "text": "Correlation Strength Distribution",
          "x": 0.775,
          "xanchor": "center",
          "xref": "paper",
          "y": 1,
          "yanchor": "bottom",
          "yref": "paper"
         }
        ],
        "height": 500,
        "showlegend": false,
        "template": {
         "data": {
          "bar": [
           {
            "error_x": {
             "color": "#2a3f5f"
            },
            "error_y": {
             "color": "#2a3f5f"
            },
            "marker": {
             "line": {
              "color": "#E5ECF6",
              "width": 0.5
             },
             "pattern": {
              "fillmode": "overlay",
              "size": 10,
              "solidity": 0.2
             }
            },
            "type": "bar"
           }
          ],
          "barpolar": [
           {
            "marker": {
             "line": {
              "color": "#E5ECF6",
              "width": 0.5
             },
             "pattern": {
              "fillmode": "overlay",
              "size": 10,
              "solidity": 0.2
             }
            },
            "type": "barpolar"
           }
          ],
          "carpet": [
           {
            "aaxis": {
             "endlinecolor": "#2a3f5f",
             "gridcolor": "white",
             "linecolor": "white",
             "minorgridcolor": "white",
             "startlinecolor": "#2a3f5f"
            },
            "baxis": {
             "endlinecolor": "#2a3f5f",
             "gridcolor": "white",
             "linecolor": "white",
             "minorgridcolor": "white",
             "startlinecolor": "#2a3f5f"
            },
            "type": "carpet"
           }
          ],
          "choropleth": [
           {
            "colorbar": {
             "outlinewidth": 0,
             "ticks": ""
            },
            "type": "choropleth"
           }
          ],
          "contour": [
           {
            "colorbar": {
             "outlinewidth": 0,
             "ticks": ""
            },
            "colorscale": [
             [
              0,
              "#0d0887"
             ],
             [
              0.1111111111111111,
              "#46039f"
             ],
             [
              0.2222222222222222,
              "#7201a8"
             ],
             [
              0.3333333333333333,
              "#9c179e"
             ],
             [
              0.4444444444444444,
              "#bd3786"
             ],
             [
              0.5555555555555556,
              "#d8576b"
             ],
             [
              0.6666666666666666,
              "#ed7953"
             ],
             [
              0.7777777777777778,
              "#fb9f3a"
             ],
             [
              0.8888888888888888,
              "#fdca26"
             ],
             [
              1,
              "#f0f921"
             ]
            ],
            "type": "contour"
           }
          ],
          "contourcarpet": [
           {
            "colorbar": {
             "outlinewidth": 0,
             "ticks": ""
            },
            "type": "contourcarpet"
           }
          ],
          "heatmap": [
           {
            "colorbar": {
             "outlinewidth": 0,
             "ticks": ""
            },
            "colorscale": [
             [
              0,
              "#0d0887"
             ],
             [
              0.1111111111111111,
              "#46039f"
             ],
             [
              0.2222222222222222,
              "#7201a8"
             ],
             [
              0.3333333333333333,
              "#9c179e"
             ],
             [
              0.4444444444444444,
              "#bd3786"
             ],
             [
              0.5555555555555556,
              "#d8576b"
             ],
             [
              0.6666666666666666,
              "#ed7953"
             ],
             [
              0.7777777777777778,
              "#fb9f3a"
             ],
             [
              0.8888888888888888,
              "#fdca26"
             ],
             [
              1,
              "#f0f921"
             ]
            ],
            "type": "heatmap"
           }
          ],
          "histogram": [
           {
            "marker": {
             "pattern": {
              "fillmode": "overlay",
              "size": 10,
              "solidity": 0.2
             }
            },
            "type": "histogram"
           }
          ],
          "histogram2d": [
           {
            "colorbar": {
             "outlinewidth": 0,
             "ticks": ""
            },
            "colorscale": [
             [
              0,
              "#0d0887"
             ],
             [
              0.1111111111111111,
              "#46039f"
             ],
             [
              0.2222222222222222,
              "#7201a8"
             ],
             [
              0.3333333333333333,
              "#9c179e"
             ],
             [
              0.4444444444444444,
              "#bd3786"
             ],
             [
              0.5555555555555556,
              "#d8576b"
             ],
             [
              0.6666666666666666,
              "#ed7953"
             ],
             [
              0.7777777777777778,
              "#fb9f3a"
             ],
             [
              0.8888888888888888,
              "#fdca26"
             ],
             [
              1,
              "#f0f921"
             ]
            ],
            "type": "histogram2d"
           }
          ],
          "histogram2dcontour": [
           {
            "colorbar": {
             "outlinewidth": 0,
             "ticks": ""
            },
            "colorscale": [
             [
              0,
              "#0d0887"
             ],
             [
              0.1111111111111111,
              "#46039f"
             ],
             [
              0.2222222222222222,
              "#7201a8"
             ],
             [
              0.3333333333333333,
              "#9c179e"
             ],
             [
              0.4444444444444444,
              "#bd3786"
             ],
             [
              0.5555555555555556,
              "#d8576b"
             ],
             [
              0.6666666666666666,
              "#ed7953"
             ],
             [
              0.7777777777777778,
              "#fb9f3a"
             ],
             [
              0.8888888888888888,
              "#fdca26"
             ],
             [
              1,
              "#f0f921"
             ]
            ],
            "type": "histogram2dcontour"
           }
          ],
          "mesh3d": [
           {
            "colorbar": {
             "outlinewidth": 0,
             "ticks": ""
            },
            "type": "mesh3d"
           }
          ],
          "parcoords": [
           {
            "line": {
             "colorbar": {
              "outlinewidth": 0,
              "ticks": ""
             }
            },
            "type": "parcoords"
           }
          ],
          "pie": [
           {
            "automargin": true,
            "type": "pie"
           }
          ],
          "scatter": [
           {
            "fillpattern": {
             "fillmode": "overlay",
             "size": 10,
             "solidity": 0.2
            },
            "type": "scatter"
           }
          ],
          "scatter3d": [
           {
            "line": {
             "colorbar": {
              "outlinewidth": 0,
              "ticks": ""
             }
            },
            "marker": {
             "colorbar": {
              "outlinewidth": 0,
              "ticks": ""
             }
            },
            "type": "scatter3d"
           }
          ],
          "scattercarpet": [
           {
            "marker": {
             "colorbar": {
              "outlinewidth": 0,
              "ticks": ""
             }
            },
            "type": "scattercarpet"
           }
          ],
          "scattergeo": [
           {
            "marker": {
             "colorbar": {
              "outlinewidth": 0,
              "ticks": ""
             }
            },
            "type": "scattergeo"
           }
          ],
          "scattergl": [
           {
            "marker": {
             "colorbar": {
              "outlinewidth": 0,
              "ticks": ""
             }
            },
            "type": "scattergl"
           }
          ],
          "scattermap": [
           {
            "marker": {
             "colorbar": {
              "outlinewidth": 0,
              "ticks": ""
             }
            },
            "type": "scattermap"
           }
          ],
          "scattermapbox": [
           {
            "marker": {
             "colorbar": {
              "outlinewidth": 0,
              "ticks": ""
             }
            },
            "type": "scattermapbox"
           }
          ],
          "scatterpolar": [
           {
            "marker": {
             "colorbar": {
              "outlinewidth": 0,
              "ticks": ""
             }
            },
            "type": "scatterpolar"
           }
          ],
          "scatterpolargl": [
           {
            "marker": {
             "colorbar": {
              "outlinewidth": 0,
              "ticks": ""
             }
            },
            "type": "scatterpolargl"
           }
          ],
          "scatterternary": [
           {
            "marker": {
             "colorbar": {
              "outlinewidth": 0,
              "ticks": ""
             }
            },
            "type": "scatterternary"
           }
          ],
          "surface": [
           {
            "colorbar": {
             "outlinewidth": 0,
             "ticks": ""
            },
            "colorscale": [
             [
              0,
              "#0d0887"
             ],
             [
              0.1111111111111111,
              "#46039f"
             ],
             [
              0.2222222222222222,
              "#7201a8"
             ],
             [
              0.3333333333333333,
              "#9c179e"
             ],
             [
              0.4444444444444444,
              "#bd3786"
             ],
             [
              0.5555555555555556,
              "#d8576b"
             ],
             [
              0.6666666666666666,
              "#ed7953"
             ],
             [
              0.7777777777777778,
              "#fb9f3a"
             ],
             [
              0.8888888888888888,
              "#fdca26"
             ],
             [
              1,
              "#f0f921"
             ]
            ],
            "type": "surface"
           }
          ],
          "table": [
           {
            "cells": {
             "fill": {
              "color": "#EBF0F8"
             },
             "line": {
              "color": "white"
             }
            },
            "header": {
             "fill": {
              "color": "#C8D4E3"
             },
             "line": {
              "color": "white"
             }
            },
            "type": "table"
           }
          ]
         },
         "layout": {
          "annotationdefaults": {
           "arrowcolor": "#2a3f5f",
           "arrowhead": 0,
           "arrowwidth": 1
          },
          "autotypenumbers": "strict",
          "coloraxis": {
           "colorbar": {
            "outlinewidth": 0,
            "ticks": ""
           }
          },
          "colorscale": {
           "diverging": [
            [
             0,
             "#8e0152"
            ],
            [
             0.1,
             "#c51b7d"
            ],
            [
             0.2,
             "#de77ae"
            ],
            [
             0.3,
             "#f1b6da"
            ],
            [
             0.4,
             "#fde0ef"
            ],
            [
             0.5,
             "#f7f7f7"
            ],
            [
             0.6,
             "#e6f5d0"
            ],
            [
             0.7,
             "#b8e186"
            ],
            [
             0.8,
             "#7fbc41"
            ],
            [
             0.9,
             "#4d9221"
            ],
            [
             1,
             "#276419"
            ]
           ],
           "sequential": [
            [
             0,
             "#0d0887"
            ],
            [
             0.1111111111111111,
             "#46039f"
            ],
            [
             0.2222222222222222,
             "#7201a8"
            ],
            [
             0.3333333333333333,
             "#9c179e"
            ],
            [
             0.4444444444444444,
             "#bd3786"
            ],
            [
             0.5555555555555556,
             "#d8576b"
            ],
            [
             0.6666666666666666,
             "#ed7953"
            ],
            [
             0.7777777777777778,
             "#fb9f3a"
            ],
            [
             0.8888888888888888,
             "#fdca26"
            ],
            [
             1,
             "#f0f921"
            ]
           ],
           "sequentialminus": [
            [
             0,
             "#0d0887"
            ],
            [
             0.1111111111111111,
             "#46039f"
            ],
            [
             0.2222222222222222,
             "#7201a8"
            ],
            [
             0.3333333333333333,
             "#9c179e"
            ],
            [
             0.4444444444444444,
             "#bd3786"
            ],
            [
             0.5555555555555556,
             "#d8576b"
            ],
            [
             0.6666666666666666,
             "#ed7953"
            ],
            [
             0.7777777777777778,
             "#fb9f3a"
            ],
            [
             0.8888888888888888,
             "#fdca26"
            ],
            [
             1,
             "#f0f921"
            ]
           ]
          },
          "colorway": [
           "#636efa",
           "#EF553B",
           "#00cc96",
           "#ab63fa",
           "#FFA15A",
           "#19d3f3",
           "#FF6692",
           "#B6E880",
           "#FF97FF",
           "#FECB52"
          ],
          "font": {
           "color": "#2a3f5f"
          },
          "geo": {
           "bgcolor": "white",
           "lakecolor": "white",
           "landcolor": "#E5ECF6",
           "showlakes": true,
           "showland": true,
           "subunitcolor": "white"
          },
          "hoverlabel": {
           "align": "left"
          },
          "hovermode": "closest",
          "mapbox": {
           "style": "light"
          },
          "paper_bgcolor": "white",
          "plot_bgcolor": "#E5ECF6",
          "polar": {
           "angularaxis": {
            "gridcolor": "white",
            "linecolor": "white",
            "ticks": ""
           },
           "bgcolor": "#E5ECF6",
           "radialaxis": {
            "gridcolor": "white",
            "linecolor": "white",
            "ticks": ""
           }
          },
          "scene": {
           "xaxis": {
            "backgroundcolor": "#E5ECF6",
            "gridcolor": "white",
            "gridwidth": 2,
            "linecolor": "white",
            "showbackground": true,
            "ticks": "",
            "zerolinecolor": "white"
           },
           "yaxis": {
            "backgroundcolor": "#E5ECF6",
            "gridcolor": "white",
            "gridwidth": 2,
            "linecolor": "white",
            "showbackground": true,
            "ticks": "",
            "zerolinecolor": "white"
           },
           "zaxis": {
            "backgroundcolor": "#E5ECF6",
            "gridcolor": "white",
            "gridwidth": 2,
            "linecolor": "white",
            "showbackground": true,
            "ticks": "",
            "zerolinecolor": "white"
           }
          },
          "shapedefaults": {
           "line": {
            "color": "#2a3f5f"
           }
          },
          "ternary": {
           "aaxis": {
            "gridcolor": "white",
            "linecolor": "white",
            "ticks": ""
           },
           "baxis": {
            "gridcolor": "white",
            "linecolor": "white",
            "ticks": ""
           },
           "bgcolor": "#E5ECF6",
           "caxis": {
            "gridcolor": "white",
            "linecolor": "white",
            "ticks": ""
           }
          },
          "title": {
           "x": 0.05
          },
          "xaxis": {
           "automargin": true,
           "gridcolor": "white",
           "linecolor": "white",
           "ticks": "",
           "title": {
            "standoff": 15
           },
           "zerolinecolor": "white",
           "zerolinewidth": 2
          },
          "yaxis": {
           "automargin": true,
           "gridcolor": "white",
           "linecolor": "white",
           "ticks": "",
           "title": {
            "standoff": 15
           },
           "zerolinecolor": "white",
           "zerolinewidth": 2
          }
         }
        },
        "title": {
         "text": "Pearson Correlation Analysis"
        },
        "xaxis": {
         "anchor": "y",
         "domain": [
          0,
          0.45
         ]
        },
        "xaxis2": {
         "anchor": "y2",
         "domain": [
          0.55,
          1
         ]
        },
        "yaxis": {
         "anchor": "x",
         "domain": [
          0,
          1
         ]
        },
        "yaxis2": {
         "anchor": "x2",
         "domain": [
          0,
          1
         ]
        }
       }
      }
     },
     "metadata": {},
     "output_type": "display_data"
    },
    {
     "name": "stdout",
     "output_type": "stream",
     "text": [
      "\n",
      "✓ Strong Correlations (|r| >= 0.5):\n",
      "             Variable_1           Variable_2  Correlation  Strength\n",
      "23        Stock_Returns      Tech_Investment     0.989000    Strong\n",
      "29      Tech_Investment   Productivity_Index     0.948989    Strong\n",
      "6            GDP_Growth      Tech_Investment     0.943204    Strong\n",
      "24        Stock_Returns   Productivity_Index     0.940598    Strong\n",
      "3            GDP_Growth        Stock_Returns     0.936716    Strong\n",
      "7            GDP_Growth   Productivity_Index     0.897847    Strong\n",
      "18  Consumer_Confidence   Retail_Sales_Index     0.834239    Strong\n",
      "17  Consumer_Confidence        Stock_Returns     0.797227    Strong\n",
      "19  Consumer_Confidence      Tech_Investment     0.795083    Strong\n",
      "2            GDP_Growth  Consumer_Confidence     0.790433    Strong\n",
      "4            GDP_Growth   Retail_Sales_Index     0.787601    Strong\n",
      "9     Unemployment_Rate        Stock_Returns    -0.778721    Strong\n",
      "14       Inflation_Rate       Interest_Rates     0.771586    Strong\n",
      "25   Retail_Sales_Index      Tech_Investment     0.770861    Strong\n",
      "21        Stock_Returns   Retail_Sales_Index     0.769989    Strong\n",
      "11    Unemployment_Rate      Tech_Investment    -0.755012    Strong\n",
      "20  Consumer_Confidence   Productivity_Index     0.744864    Strong\n",
      "26   Retail_Sales_Index   Productivity_Index     0.727336    Strong\n",
      "12    Unemployment_Rate   Productivity_Index    -0.708509    Strong\n",
      "8     Unemployment_Rate  Consumer_Confidence    -0.651474  Moderate\n",
      "5            GDP_Growth  Housing_Price_Index     0.624597  Moderate\n",
      "0            GDP_Growth    Unemployment_Rate    -0.613716  Moderate\n",
      "1            GDP_Growth       Inflation_Rate     0.594431  Moderate\n",
      "27  Housing_Price_Index      Tech_Investment     0.586931  Moderate\n",
      "22        Stock_Returns  Housing_Price_Index     0.579448  Moderate\n",
      "10    Unemployment_Rate   Retail_Sales_Index    -0.576745  Moderate\n",
      "15       Inflation_Rate      Tech_Investment     0.568818  Moderate\n",
      "13       Inflation_Rate        Stock_Returns     0.565901  Moderate\n",
      "28  Housing_Price_Index   Productivity_Index     0.549508  Moderate\n",
      "16       Inflation_Rate   Productivity_Index     0.542720  Moderate\n"
     ]
    }
   ],
   "source": [
    "# 1. PEARSON CORRELATION ANALYSIS\n",
    "print(\" 1. PEARSON CORRELATION ANALYSIS\")\n",
    "print(\"=\" * 50)\n",
    "\n",
    "# Calculate Pearson correlation matrix\n",
    "pearson_corr = df.corr(method='pearson')\n",
    "\n",
    "print(\"Pearson Correlation Matrix:\")\n",
    "print(pearson_corr.round(3))\n",
    "\n",
    "# Create enhanced correlation heatmap\n",
    "fig = make_subplots(\n",
    " rows=1, cols=2,\n",
    " subplot_titles=(\"Pearson Correlation Heatmap\", \"Correlation Strength Distribution\"),\n",
    " specs=[[{\"type\": \"heatmap\"}, {\"type\": \"histogram\"}]]\n",
    ")\n",
    "\n",
    "# Correlation heatmap\n",
    "fig.add_trace(\n",
    " go.Heatmap(\n",
    " z=pearson_corr.values,\n",
    " x=pearson_corr.columns,\n",
    " y=pearson_corr.columns,\n",
    " colorscale='RdBu_r',\n",
    " zmid=0,\n",
    " text=pearson_corr.round(3).values,\n",
    " texttemplate=\"%{text}\",\n",
    " textfont={\"size\": 10},\n",
    " hoverongaps=False\n",
    " ),\n",
    " row=1, col=1\n",
    ")\n",
    "\n",
    "# Correlation distribution\n",
    "corr_values = pearson_corr.values[np.triu_indices_from(pearson_corr.values, k=1)]\n",
    "fig.add_trace(\n",
    " go.Histogram(\n",
    " x=corr_values,\n",
    " nbinsx=20,\n",
    " name=\"Correlation Distribution\",\n",
    " marker_color=\"steelblue\",\n",
    " opacity=0.7\n",
    " ),\n",
    " row=1, col=2\n",
    ")\n",
    "\n",
    "fig.update_layout(\n",
    " title=\"Pearson Correlation Analysis\",\n",
    " height=500,\n",
    " showlegend=False\n",
    ")\n",
    "\n",
    "fig.show()\n",
    "\n",
    "# Identify strongest correlations\n",
    "def get_correlation_pairs(corr_matrix, threshold=0.5):\n",
    "    \"\"\"Extract correlation pairs above threshold\"\"\"\n",
    "    pairs = []\n",
    "    for i in range(len(corr_matrix.columns)):\n",
    "        for j in range(i+1, len(corr_matrix.columns)):\n",
    "            corr_val = corr_matrix.iloc[i, j]\n",
    "            if abs(corr_val) >= threshold:\n",
    "                pairs.append({\n",
    "                    'Variable_1': corr_matrix.columns[i],\n",
    "                    'Variable_2': corr_matrix.columns[j],\n",
    "                    'Correlation': corr_val,\n",
    "                    'Strength': 'Strong' if abs(corr_val) >= 0.7 else 'Moderate'\n",
    "                })\n",
    "    return pd.DataFrame(pairs).sort_values('Correlation', key=abs, ascending=False)\n",
    "\n",
    "strong_correlations = get_correlation_pairs(pearson_corr, threshold=0.5)\n",
    "print(f\"\\n✓ Strong Correlations (|r| >= 0.5):\")\n",
    "print(strong_correlations)"
   ]
  },
  {
   "cell_type": "code",
   "execution_count": 12,
   "id": "0757f5f2",
   "metadata": {},
   "outputs": [
    {
     "name": "stdout",
     "output_type": "stream",
     "text": [
      "\n",
      " 2. SPEARMAN RANK CORRELATION ANALYSIS\n",
      "==================================================\n"
     ]
    },
    {
     "data": {
      "application/vnd.plotly.v1+json": {
       "config": {
        "plotlyServerURL": "https://plot.ly"
       },
       "data": [
        {
         "colorscale": [
          [
           0,
           "#440154"
          ],
          [
           0.1111111111111111,
           "#482878"
          ],
          [
           0.2222222222222222,
           "#3e4989"
          ],
          [
           0.3333333333333333,
           "#31688e"
          ],
          [
           0.4444444444444444,
           "#26828e"
          ],
          [
           0.5555555555555556,
           "#1f9e89"
          ],
          [
           0.6666666666666666,
           "#35b779"
          ],
          [
           0.7777777777777778,
           "#6ece58"
          ],
          [
           0.8888888888888888,
           "#b5de2b"
          ],
          [
           1,
           "#fde725"
          ]
         ],
         "text": {
          "bdata": "AAAAAAAA8D/dJAaBlUPjv7bz/dR46eI/dZMYBFYO6T/ufD81XrrtPyGwcmiR7dw/SgwCK4cW6T8v3SQGgZXjP2q8dJMYBO4/exSuR+F67D/dJAaBlUPjvwAAAAAAAPA/sHJoke1817+kcD0K16Pkv05iEFg5tOi/nu+nxks30b8UrkfhehTiv8UgsHJokdW/K4cW2c73578QWDm0yHbmv7bz/dR46eI/sHJoke18178AAAAAAADwP1yPwvUoXN8/lkOLbOf74T99PzVeuknoPxKDwMqhRd4/nMQgsHJo0T9qvHSTGATiP3Noke18P+E/dZMYBFYO6T+kcD0K16Pkv1yPwvUoXN8/AAAAAAAA8D+e76fGSzfpP05iEFg5tNg/EFg5tMh26j8bL90kBoHdP/T91HjpJuk/MQisHFpk5z/ufD81XrrtP05iEFg5tOi/lkOLbOf74T+e76fGSzfpPwAAAAAAAPA/jZduEoPA2j+mm8QgsHLoPz81XrpJDOI/L90kBoGV7z/ByqFFtvPtPyGwcmiR7dw/nu+nxks30b99PzVeuknoP05iEFg5tNg/jZduEoPA2j8AAAAAAADwP65H4XoUrtc/bxKDwMqhxT+Nl24Sg8DaP+58PzVeutk/SgwCK4cW6T8UrkfhehTivxKDwMqhRd4/EFg5tMh26j+mm8QgsHLoP65H4XoUrtc/AAAAAAAA8D8X2c73U+PdP9Ei2/l+aug/i2zn+6nx5j8v3SQGgZXjP8UgsHJokdW/nMQgsHJo0T8bL90kBoHdPz81XrpJDOI/bxKDwMqhxT8X2c73U+PdPwAAAAAAAPA/ke18PzVe4j/Jdr6fGi/hP2q8dJMYBO4/K4cW2c73579qvHSTGATiP/T91HjpJuk/L90kBoGV7z+Nl24Sg8DaP9Ei2/l+aug/ke18PzVe4j8AAAAAAADwP2iR7Xw/Ne4/exSuR+F67D8QWDm0yHbmv3Noke18P+E/MQisHFpk5z/ByqFFtvPtP+58PzVeutk/i2zn+6nx5j/Jdr6fGi/hP2iR7Xw/Ne4/AAAAAAAA8D8=",
          "dtype": "f8",
          "shape": "10, 10"
         },
         "textfont": {
          "size": 8
         },
         "texttemplate": "%{text}",
         "type": "heatmap",
         "x": [
          "GDP_Growth",
          "Unemployment_Rate",
          "Inflation_Rate",
          "Consumer_Confidence",
          "Stock_Returns",
          "Interest_Rates",
          "Retail_Sales_Index",
          "Housing_Price_Index",
          "Tech_Investment",
          "Productivity_Index"
         ],
         "xaxis": "x",
         "y": [
          "GDP_Growth",
          "Unemployment_Rate",
          "Inflation_Rate",
          "Consumer_Confidence",
          "Stock_Returns",
          "Interest_Rates",
          "Retail_Sales_Index",
          "Housing_Price_Index",
          "Tech_Investment",
          "Productivity_Index"
         ],
         "yaxis": "y",
         "z": {
          "bdata": "AAAAAAAA8D9/rV4WqEfjvwMq7I6n6uI/pGmWzs4L6T8t81yacb7tP/BOEuCP59w/szw2gpwW6T9dKbz1DJPjP8UNkOl6Au4/4YyzW2Z47D9/rV4WqEfjvwAAAAAAAPA/w03GfnJ6179XjVZ1BqXkv/+PKVBztei/SbiS3T440b/WaaosmxPiv1QMiTiVitW/WKfUUQL1579a7Jy9r3PmvwMq7I6n6uI/w03GfnJ6178AAAAAAADwP2JhdGhdVt8/55QiWb/54T8xH8+clEroP8YPFadPQN4/sLwfJMVv0T9dOBKxiwLiPzNSlgY7PeE/pGmWzs4L6T9XjVZ1BqXkv2JhdGhdVt8/AAAAAAAA8D/rFvdekTrpP77t318Osdg/c5zt0eZ56j+DZdRPNoDdP6rsG1/WJek/yJc59klk5z8t81yacb7tP/+PKVBztei/55QiWb/54T/rFvdekTrpPwAAAAAAAPA/ySUV+2O92j/SxHIEF3boPzIMWB/VCuI//L131QCZ7z/A46PggfHtP/BOEuCP59w/SbiS3T440b8xH8+clEroP77t318Osdg/ySUV+2O92j8AAAAAAADwP0aQjK7Mrdc/0+k3RHKnxT/ywBq7h7jaP9p0ZQstv9k/szw2gpwW6T/WaaosmxPiv8YPFadPQN4/c5zt0eZ56j/SxHIEF3boP0aQjK7Mrdc/AAAAAAAA8D/rqHw9sN/dP5lgn7hAbOg/+m6qaJ/v5j9dKbz1DJPjP1QMiTiVitW/sLwfJMVv0T+DZdRPNoDdPzIMWB/VCuI/0+k3RHKnxT/rqHw9sN/dPwAAAAAAAPA/86zgAXtf4j+6FBdJ0y3hP8UNkOl6Au4/WKfUUQL1579dOBKxiwLiP6rsG1/WJek//L131QCZ7z/ywBq7h7jaP5lgn7hAbOg/86zgAXtf4j8AAAAAAADwPw5jG6FLOO4/4YyzW2Z47D9a7Jy9r3PmvzNSlgY7PeE/yJc59klk5z/A46PggfHtP9p0ZQstv9k/+m6qaJ/v5j+6FBdJ0y3hPw5jG6FLOO4/AAAAAAAA8D8=",
          "dtype": "f8",
          "shape": "10, 10"
         }
        },
        {
         "marker": {
          "color": {
           "bdata": "cF7u9wzulD9gSfJZhfKSPwBRx6A+AJA/AGOolupojD/ALGZFaGmKP4DlV5j+KYo/wCuXLqnviT+Au8gzSJCJP9D5910Ckog/YBsEtux2iD9A+JNExUWIP0Aj4ufI+YY/oMQZQCrKhj9A+51vga2FP4Bx3HPO3YM/QO1qX6vegj/AT4cxZhSCPwB+zgAMuYA/gKGEdL+wgD8AcD26rbV/P4A9vm5yUn8/gFP82hqRfT+Apdpa/zV8PwBUmFb4F3w/gJG7eBHqej+AX/tl+TV6P4AkbuV1Bno/gNJtTn3seT8A81Rci5t4PwBlQVOdd3c/AMqFjCDUdj8AOui6zh92P4CRI2X773M/wBcGzFmkcz+Asp2grulyP4Bwh238e3I/wJ/B6mfocT8AYLePpg5xPwDTmAONXXA/AIbXtXIObj8AmmAAO2ttPwA7MFdE7Go/gDV75C0xaj+AuOmd5j5iPwDIUzOLw1k/",
           "dtype": "f8"
          },
          "colorscale": [
           [
            0,
            "rgb(255,245,240)"
           ],
           [
            0.125,
            "rgb(254,224,210)"
           ],
           [
            0.25,
            "rgb(252,187,161)"
           ],
           [
            0.375,
            "rgb(252,146,114)"
           ],
           [
            0.5,
            "rgb(251,106,74)"
           ],
           [
            0.625,
            "rgb(239,59,44)"
           ],
           [
            0.75,
            "rgb(203,24,29)"
           ],
           [
            0.875,
            "rgb(165,15,21)"
           ],
           [
            1,
            "rgb(103,0,13)"
           ]
          ],
          "showscale": true,
          "size": 8
         },
         "mode": "markers+text",
         "name": "Correlations",
         "text": [
          "Consumer_Confid...",
          "Retail_Sales_In...",
          "Stock_Returns v...",
          "Consumer_Confid...",
          "GDP_Growth vs H...",
          "Housing_Price_I...",
          "Housing_Price_I...",
          "Inflation_Rate ...",
          "Interest_Rates ...",
          "Unemployment_Ra...",
          "Unemployment_Ra...",
          "GDP_Growth vs U...",
          "Interest_Rates ...",
          "Retail_Sales_In...",
          "Inflation_Rate ...",
          "Consumer_Confid...",
          "Consumer_Confid...",
          "Inflation_Rate ...",
          "GDP_Growth vs P...",
          "GDP_Growth vs C...",
          "Retail_Sales_In...",
          "GDP_Growth vs S...",
          "Unemployment_Ra...",
          "Consumer_Confid...",
          "Unemployment_Ra...",
          "Consumer_Confid...",
          "Unemployment_Ra...",
          "Unemployment_Ra...",
          "Inflation_Rate ...",
          "Stock_Returns v...",
          "Stock_Returns v...",
          "GDP_Growth vs T...",
          "Stock_Returns v...",
          "Interest_Rates ...",
          "Tech_Investment...",
          "Unemployment_Ra...",
          "Unemployment_Ra...",
          "Inflation_Rate ...",
          "Inflation_Rate ...",
          "GDP_Growth vs I...",
          "GDP_Growth vs R...",
          "GDP_Growth vs I...",
          "Inflation_Rate ...",
          "Interest_Rates ...",
          "Stock_Returns v..."
         ],
         "textposition": "top center",
         "type": "scatter",
         "x": {
          "bdata": "aktTHxfP3j+BzRuT2A7fP7pGXhTXiuI/VDmUoO3V5z8QwtGWsvzjP4kMQvwiyOI/aXHR7ZGV4T8fQp691bDoP3BpF2qSMMc/Ly05nkxO1r+3ubxBsnTivww2/jmPo+O/F48bDdlu2z/n5mhuVUbnPzosdjNhod0/X5iZDFFx6T8qNL334oLpP3LtbQiV0N4/Z5+FWSm77D+E5AoqOkvpPxTdfJ3lqug/1OsS0JP57T+loVK8G6zmvxvNmsIWsuo/Igcbc0fr6L9AAEh6NkjYP6GDnz0PKei//Gjzb9/Y5L9D4srHwjPiP10rYnBCG9s/ZtCLRb+j6D853gWHui7uP+MqbtdhGe4/53dcRztf1z9znlz+Hl7uP4VrfHBixNe/yL49feB/0b+nA0Km3BviP9mDnSD2XeE//P19xawj3T9NnTa9BzTpPz5aQ9OTBeM/G7Pofyek0T9LSKHYquPZP+BnEZvipe8/",
          "dtype": "f8"
         },
         "xaxis": "x2",
         "y": {
          "bdata": "g2XUTzaA3T/rqHw9sN/dPzIMWB/VCuI/yJc59klk5z9dKbz1DJPjP/Os4AF7X+I/uhQXSdMt4T8xH8+clEroP9PpN0Ryp8U/VAyJOJWK1b/WaaosmxPiv3+tXhaoR+O/8sAau4e42j/6bqpon+/mP8YPFadPQN4/quwbX9Yl6T/rFvdekTrpP2JhdGhdVt8/4YyzW2Z47D+kaZbOzgvpP5lgn7hAbOg/LfNcmnG+7T9a7Jy9r3Pmv3Oc7dHmeeo//48pUHO16L++7d9fDrHYP1in1FEC9ee/V41WdQal5L9dOBKxiwLiP8klFftjvdo/0sRyBBd26D/FDZDpegLuP8Djo+CB8e0/RpCMrsyt1z8OYxuhSzjuP8NNxn5yete/SbiS3T440b/nlCJZv/nhPzNSlgY7PeE/8E4S4I/n3D+zPDaCnBbpPwMq7I6n6uI/sLwfJMVv0T/adGULLb/ZP/y9d9UAme8/",
          "dtype": "f8"
         },
         "yaxis": "y2"
        },
        {
         "line": {
          "color": "gray",
          "dash": "dash"
         },
         "mode": "lines",
         "name": "Perfect Agreement",
         "type": "scatter",
         "x": [
          -1,
          1
         ],
         "xaxis": "x2",
         "y": [
          -1,
          1
         ],
         "yaxis": "y2"
        },
        {
         "marker": {
          "color": "coral"
         },
         "name": "Correlation Differences",
         "orientation": "h",
         "type": "bar",
         "x": {
          "bdata": "cF7u9wzulD9gSfJZhfKSPwBRx6A+AJA/AGOolupojD/ALGZFaGmKP4DlV5j+KYo/wCuXLqnviT+Au8gzSJCJPw==",
          "dtype": "f8"
         },
         "xaxis": "x3",
         "y": [
          "Consumer_Confidence vs Housing_Price_Index",
          "Retail_Sales_Index vs Housing_Price_Index",
          "Stock_Returns vs Housing_Price_Index",
          "Consumer_Confidence vs Productivity_Index",
          "GDP_Growth vs Housing_Price_Index",
          "Housing_Price_Index vs Tech_Investment",
          "Housing_Price_Index vs Productivity_Index",
          "Inflation_Rate vs Interest_Rates"
         ],
         "yaxis": "y3"
        },
        {
         "marker": {
          "color": "purple",
          "size": 6
         },
         "mode": "markers",
         "name": "Quadratic Relationship",
         "type": "scatter",
         "x": {
          "bdata": "AAAAAAAACMCEDz744IMHwAgffPDBBwfAjC666KKLBsAQPvjggw8GwJNNNtlkkwXAF1100UUXBcCbbLLJJpsEwB988MEHHwTAo4suuuiiA8Anm2yyySYDwKqqqqqqqgLALrrooosuAsCyySabbLIBwDbZZJNNNgHAuuiiiy66AMA++OCDDz4AwIQPPvjgg/+/jC666KKL/r+TTTbZZJP9v5tssskmm/y/o4suuuii+7+qqqqqqqr6v7LJJptssvm/uuiiiy66+L/CBx988MH3v8omm2yyyfa/0UUXXXTR9b/ZZJNNNtn0v+GDDz744PO/6KKLLrro8r/wwQcffPDxv/jggw8++PC/AAAAAAAA8L8QPvjggw/uvyB88MEHH+y/MLrooosu6r88+OCDDz7ov0w22WSTTea/XHTRRRdd5L9ssskmm2ziv3zwwQcffOC/GF100UUX3b842WSTTTbZv1BVVVVVVdW/cNFFF1100b8gm2yyySbLv2CTTTbZZMO/QBdddNFFt78AH3zwwQefvwAffPDBB58/QBdddNFFtz9gk0022WTDPzCbbLLJJss/eNFFF1100T9YVVVVVVXVPzjZZJNNNtk/GF100UUX3T988MEHH3zgP2yyySabbOI/YHTRRRdd5D9QNtlkk03mP0D44IMPPug/MLrooosu6j8gfPDBBx/sPxA++OCDD+4/AAAAAAAA8D/44IMPPvjwP/DBBx988PE/6KKLLrro8j/ggw8++ODzP9hkk0022fQ/0EUXXXTR9T/MJptsssn2P8QHH3zwwfc/vOiiiy66+D+0ySabbLL5P6yqqqqqqvo/pIsuuuii+z+cbLLJJpv8P5RNNtlkk/0/jC666KKL/j+EDz744IP/Pz744IMPPgBAuuiiiy66AEA22WSTTTYBQLLJJptssgFALrrooosuAkCsqqqqqqoCQCibbLLJJgNApIsuuuiiA0AgfPDBBx8EQJxssskmmwRAGF100UUXBUCUTTbZZJMFQBA++OCDDwZAjC666KKLBkAIH3zwwQcHQIQPPvjggwdAAAAAAAAACEA=",
          "dtype": "f8"
         },
         "xaxis": "x4",
         "y": {
          "bdata": "jgxaK05SIUCGinyuffkgQAstFWh19B9AA2TfW0v9H0Ba2Ocl12cgQKLzH4BwjRtACXYSq6TNHUAlHrolivkYQLK9QmHTmxdAXMiWRYK8GUAtIUEbhcQYQJLhmnIIexdAXheOY5EHEkBqCKdcW6QSQJKbEOl7KRRAMgvZihiSEUD1nuxcqa4MQBCYqlZ6bxBAdQS/VzxMCkDTWb3OskERQPaPgwxfwA9AyWAvmb5ICkBoYRNMj6oLQLukAjYF5QRA+DqF508rBkAE7qiYkIwHQDieUqSwNQFAa0VL1ee1+z8Kbpt69w7rPxOqSOBmCPg/ii967Trv/D9QiIGTzq37P6p9DTF4CPY/RoacwtZW5z8QObXdhh+7v5jVx/8EyuA/P8FR4k2N4D9gWO6nm7faP6AnZhQCcek/lkK8Q2Bd9j+xOfLOMSvZP8AL1d4SGcQ/vBKPxFC2sz8TZ1rjINPLPyY6aSPwZNO/HYVnWJ82wT9agEhqQk7RP7gpUwm/W8A/28GETS1Xzj+CEdtenODLP6BieZMqUuy/IZ4iMqXo1D9cyK0n1ADUv2oNW2/0F+C/xsS7VQaV3r+4WupuBPzUP5Y/FdIpeqY/VK5bO8hM5L9bL0RzCyTgP57RaMYG2ti/euZ8cUJk3j+DQYX6SlzjPw6+20BxRPA/TS5VQtf2+D+AwcSUpgW3PyTkGPgvZus/i98QcSGU6z+dRDhl2Xf1P26zxd3W1vU/eG2/RNiG8z9DhDMPsSv1P7gsbMoOPPI/OVRrsNXTAkBMLKVBhhACQEZ0gIMsTwVAdnizkqjdAUD8r/cREwICQAIQEbux6AFARbN4LK5NCUCRZNGStGkFQAED+89qXRFArKa9HiztB0D5o2fe7hAQQMEtyYdKnxNA7JSSdo+vEkDZLPUND94SQAjtYmYPoxFAg/jvVcrlEUCURstzYFEXQKQ87Mqi7xlAqPH3fbI4F0CYzAWBnAYXQC2AH0ksnxVAbhp7UBLXGUAiePZOBd4cQANpHf+8ziBAXybdz7OOIECkut6+QuEgQPSG+6ZE4SBAvzzMprVqIUA=",
          "dtype": "f8"
         },
         "yaxis": "y4"
        }
       ],
       "layout": {
        "annotations": [
         {
          "font": {
           "size": 16
          },
          "showarrow": false,
          "text": "Spearman Correlation Matrix",
          "x": 0.225,
          "xanchor": "center",
          "xref": "paper",
          "y": 1,
          "yanchor": "bottom",
          "yref": "paper"
         },
         {
          "font": {
           "size": 16
          },
          "showarrow": false,
          "text": "Pearson vs Spearman Scatter",
          "x": 0.775,
          "xanchor": "center",
          "xref": "paper",
          "y": 1,
          "yanchor": "bottom",
          "yref": "paper"
         },
         {
          "font": {
           "size": 16
          },
          "showarrow": false,
          "text": "Correlation Method Differences",
          "x": 0.225,
          "xanchor": "center",
          "xref": "paper",
          "y": 0.375,
          "yanchor": "bottom",
          "yref": "paper"
         },
         {
          "font": {
           "size": 16
          },
          "showarrow": false,
          "text": "Non-linear Relationship Example",
          "x": 0.775,
          "xanchor": "center",
          "xref": "paper",
          "y": 0.375,
          "yanchor": "bottom",
          "yref": "paper"
         }
        ],
        "height": 800,
        "showlegend": true,
        "template": {
         "data": {
          "bar": [
           {
            "error_x": {
             "color": "#2a3f5f"
            },
            "error_y": {
             "color": "#2a3f5f"
            },
            "marker": {
             "line": {
              "color": "#E5ECF6",
              "width": 0.5
             },
             "pattern": {
              "fillmode": "overlay",
              "size": 10,
              "solidity": 0.2
             }
            },
            "type": "bar"
           }
          ],
          "barpolar": [
           {
            "marker": {
             "line": {
              "color": "#E5ECF6",
              "width": 0.5
             },
             "pattern": {
              "fillmode": "overlay",
              "size": 10,
              "solidity": 0.2
             }
            },
            "type": "barpolar"
           }
          ],
          "carpet": [
           {
            "aaxis": {
             "endlinecolor": "#2a3f5f",
             "gridcolor": "white",
             "linecolor": "white",
             "minorgridcolor": "white",
             "startlinecolor": "#2a3f5f"
            },
            "baxis": {
             "endlinecolor": "#2a3f5f",
             "gridcolor": "white",
             "linecolor": "white",
             "minorgridcolor": "white",
             "startlinecolor": "#2a3f5f"
            },
            "type": "carpet"
           }
          ],
          "choropleth": [
           {
            "colorbar": {
             "outlinewidth": 0,
             "ticks": ""
            },
            "type": "choropleth"
           }
          ],
          "contour": [
           {
            "colorbar": {
             "outlinewidth": 0,
             "ticks": ""
            },
            "colorscale": [
             [
              0,
              "#0d0887"
             ],
             [
              0.1111111111111111,
              "#46039f"
             ],
             [
              0.2222222222222222,
              "#7201a8"
             ],
             [
              0.3333333333333333,
              "#9c179e"
             ],
             [
              0.4444444444444444,
              "#bd3786"
             ],
             [
              0.5555555555555556,
              "#d8576b"
             ],
             [
              0.6666666666666666,
              "#ed7953"
             ],
             [
              0.7777777777777778,
              "#fb9f3a"
             ],
             [
              0.8888888888888888,
              "#fdca26"
             ],
             [
              1,
              "#f0f921"
             ]
            ],
            "type": "contour"
           }
          ],
          "contourcarpet": [
           {
            "colorbar": {
             "outlinewidth": 0,
             "ticks": ""
            },
            "type": "contourcarpet"
           }
          ],
          "heatmap": [
           {
            "colorbar": {
             "outlinewidth": 0,
             "ticks": ""
            },
            "colorscale": [
             [
              0,
              "#0d0887"
             ],
             [
              0.1111111111111111,
              "#46039f"
             ],
             [
              0.2222222222222222,
              "#7201a8"
             ],
             [
              0.3333333333333333,
              "#9c179e"
             ],
             [
              0.4444444444444444,
              "#bd3786"
             ],
             [
              0.5555555555555556,
              "#d8576b"
             ],
             [
              0.6666666666666666,
              "#ed7953"
             ],
             [
              0.7777777777777778,
              "#fb9f3a"
             ],
             [
              0.8888888888888888,
              "#fdca26"
             ],
             [
              1,
              "#f0f921"
             ]
            ],
            "type": "heatmap"
           }
          ],
          "histogram": [
           {
            "marker": {
             "pattern": {
              "fillmode": "overlay",
              "size": 10,
              "solidity": 0.2
             }
            },
            "type": "histogram"
           }
          ],
          "histogram2d": [
           {
            "colorbar": {
             "outlinewidth": 0,
             "ticks": ""
            },
            "colorscale": [
             [
              0,
              "#0d0887"
             ],
             [
              0.1111111111111111,
              "#46039f"
             ],
             [
              0.2222222222222222,
              "#7201a8"
             ],
             [
              0.3333333333333333,
              "#9c179e"
             ],
             [
              0.4444444444444444,
              "#bd3786"
             ],
             [
              0.5555555555555556,
              "#d8576b"
             ],
             [
              0.6666666666666666,
              "#ed7953"
             ],
             [
              0.7777777777777778,
              "#fb9f3a"
             ],
             [
              0.8888888888888888,
              "#fdca26"
             ],
             [
              1,
              "#f0f921"
             ]
            ],
            "type": "histogram2d"
           }
          ],
          "histogram2dcontour": [
           {
            "colorbar": {
             "outlinewidth": 0,
             "ticks": ""
            },
            "colorscale": [
             [
              0,
              "#0d0887"
             ],
             [
              0.1111111111111111,
              "#46039f"
             ],
             [
              0.2222222222222222,
              "#7201a8"
             ],
             [
              0.3333333333333333,
              "#9c179e"
             ],
             [
              0.4444444444444444,
              "#bd3786"
             ],
             [
              0.5555555555555556,
              "#d8576b"
             ],
             [
              0.6666666666666666,
              "#ed7953"
             ],
             [
              0.7777777777777778,
              "#fb9f3a"
             ],
             [
              0.8888888888888888,
              "#fdca26"
             ],
             [
              1,
              "#f0f921"
             ]
            ],
            "type": "histogram2dcontour"
           }
          ],
          "mesh3d": [
           {
            "colorbar": {
             "outlinewidth": 0,
             "ticks": ""
            },
            "type": "mesh3d"
           }
          ],
          "parcoords": [
           {
            "line": {
             "colorbar": {
              "outlinewidth": 0,
              "ticks": ""
             }
            },
            "type": "parcoords"
           }
          ],
          "pie": [
           {
            "automargin": true,
            "type": "pie"
           }
          ],
          "scatter": [
           {
            "fillpattern": {
             "fillmode": "overlay",
             "size": 10,
             "solidity": 0.2
            },
            "type": "scatter"
           }
          ],
          "scatter3d": [
           {
            "line": {
             "colorbar": {
              "outlinewidth": 0,
              "ticks": ""
             }
            },
            "marker": {
             "colorbar": {
              "outlinewidth": 0,
              "ticks": ""
             }
            },
            "type": "scatter3d"
           }
          ],
          "scattercarpet": [
           {
            "marker": {
             "colorbar": {
              "outlinewidth": 0,
              "ticks": ""
             }
            },
            "type": "scattercarpet"
           }
          ],
          "scattergeo": [
           {
            "marker": {
             "colorbar": {
              "outlinewidth": 0,
              "ticks": ""
             }
            },
            "type": "scattergeo"
           }
          ],
          "scattergl": [
           {
            "marker": {
             "colorbar": {
              "outlinewidth": 0,
              "ticks": ""
             }
            },
            "type": "scattergl"
           }
          ],
          "scattermap": [
           {
            "marker": {
             "colorbar": {
              "outlinewidth": 0,
              "ticks": ""
             }
            },
            "type": "scattermap"
           }
          ],
          "scattermapbox": [
           {
            "marker": {
             "colorbar": {
              "outlinewidth": 0,
              "ticks": ""
             }
            },
            "type": "scattermapbox"
           }
          ],
          "scatterpolar": [
           {
            "marker": {
             "colorbar": {
              "outlinewidth": 0,
              "ticks": ""
             }
            },
            "type": "scatterpolar"
           }
          ],
          "scatterpolargl": [
           {
            "marker": {
             "colorbar": {
              "outlinewidth": 0,
              "ticks": ""
             }
            },
            "type": "scatterpolargl"
           }
          ],
          "scatterternary": [
           {
            "marker": {
             "colorbar": {
              "outlinewidth": 0,
              "ticks": ""
             }
            },
            "type": "scatterternary"
           }
          ],
          "surface": [
           {
            "colorbar": {
             "outlinewidth": 0,
             "ticks": ""
            },
            "colorscale": [
             [
              0,
              "#0d0887"
             ],
             [
              0.1111111111111111,
              "#46039f"
             ],
             [
              0.2222222222222222,
              "#7201a8"
             ],
             [
              0.3333333333333333,
              "#9c179e"
             ],
             [
              0.4444444444444444,
              "#bd3786"
             ],
             [
              0.5555555555555556,
              "#d8576b"
             ],
             [
              0.6666666666666666,
              "#ed7953"
             ],
             [
              0.7777777777777778,
              "#fb9f3a"
             ],
             [
              0.8888888888888888,
              "#fdca26"
             ],
             [
              1,
              "#f0f921"
             ]
            ],
            "type": "surface"
           }
          ],
          "table": [
           {
            "cells": {
             "fill": {
              "color": "#EBF0F8"
             },
             "line": {
              "color": "white"
             }
            },
            "header": {
             "fill": {
              "color": "#C8D4E3"
             },
             "line": {
              "color": "white"
             }
            },
            "type": "table"
           }
          ]
         },
         "layout": {
          "annotationdefaults": {
           "arrowcolor": "#2a3f5f",
           "arrowhead": 0,
           "arrowwidth": 1
          },
          "autotypenumbers": "strict",
          "coloraxis": {
           "colorbar": {
            "outlinewidth": 0,
            "ticks": ""
           }
          },
          "colorscale": {
           "diverging": [
            [
             0,
             "#8e0152"
            ],
            [
             0.1,
             "#c51b7d"
            ],
            [
             0.2,
             "#de77ae"
            ],
            [
             0.3,
             "#f1b6da"
            ],
            [
             0.4,
             "#fde0ef"
            ],
            [
             0.5,
             "#f7f7f7"
            ],
            [
             0.6,
             "#e6f5d0"
            ],
            [
             0.7,
             "#b8e186"
            ],
            [
             0.8,
             "#7fbc41"
            ],
            [
             0.9,
             "#4d9221"
            ],
            [
             1,
             "#276419"
            ]
           ],
           "sequential": [
            [
             0,
             "#0d0887"
            ],
            [
             0.1111111111111111,
             "#46039f"
            ],
            [
             0.2222222222222222,
             "#7201a8"
            ],
            [
             0.3333333333333333,
             "#9c179e"
            ],
            [
             0.4444444444444444,
             "#bd3786"
            ],
            [
             0.5555555555555556,
             "#d8576b"
            ],
            [
             0.6666666666666666,
             "#ed7953"
            ],
            [
             0.7777777777777778,
             "#fb9f3a"
            ],
            [
             0.8888888888888888,
             "#fdca26"
            ],
            [
             1,
             "#f0f921"
            ]
           ],
           "sequentialminus": [
            [
             0,
             "#0d0887"
            ],
            [
             0.1111111111111111,
             "#46039f"
            ],
            [
             0.2222222222222222,
             "#7201a8"
            ],
            [
             0.3333333333333333,
             "#9c179e"
            ],
            [
             0.4444444444444444,
             "#bd3786"
            ],
            [
             0.5555555555555556,
             "#d8576b"
            ],
            [
             0.6666666666666666,
             "#ed7953"
            ],
            [
             0.7777777777777778,
             "#fb9f3a"
            ],
            [
             0.8888888888888888,
             "#fdca26"
            ],
            [
             1,
             "#f0f921"
            ]
           ]
          },
          "colorway": [
           "#636efa",
           "#EF553B",
           "#00cc96",
           "#ab63fa",
           "#FFA15A",
           "#19d3f3",
           "#FF6692",
           "#B6E880",
           "#FF97FF",
           "#FECB52"
          ],
          "font": {
           "color": "#2a3f5f"
          },
          "geo": {
           "bgcolor": "white",
           "lakecolor": "white",
           "landcolor": "#E5ECF6",
           "showlakes": true,
           "showland": true,
           "subunitcolor": "white"
          },
          "hoverlabel": {
           "align": "left"
          },
          "hovermode": "closest",
          "mapbox": {
           "style": "light"
          },
          "paper_bgcolor": "white",
          "plot_bgcolor": "#E5ECF6",
          "polar": {
           "angularaxis": {
            "gridcolor": "white",
            "linecolor": "white",
            "ticks": ""
           },
           "bgcolor": "#E5ECF6",
           "radialaxis": {
            "gridcolor": "white",
            "linecolor": "white",
            "ticks": ""
           }
          },
          "scene": {
           "xaxis": {
            "backgroundcolor": "#E5ECF6",
            "gridcolor": "white",
            "gridwidth": 2,
            "linecolor": "white",
            "showbackground": true,
            "ticks": "",
            "zerolinecolor": "white"
           },
           "yaxis": {
            "backgroundcolor": "#E5ECF6",
            "gridcolor": "white",
            "gridwidth": 2,
            "linecolor": "white",
            "showbackground": true,
            "ticks": "",
            "zerolinecolor": "white"
           },
           "zaxis": {
            "backgroundcolor": "#E5ECF6",
            "gridcolor": "white",
            "gridwidth": 2,
            "linecolor": "white",
            "showbackground": true,
            "ticks": "",
            "zerolinecolor": "white"
           }
          },
          "shapedefaults": {
           "line": {
            "color": "#2a3f5f"
           }
          },
          "ternary": {
           "aaxis": {
            "gridcolor": "white",
            "linecolor": "white",
            "ticks": ""
           },
           "baxis": {
            "gridcolor": "white",
            "linecolor": "white",
            "ticks": ""
           },
           "bgcolor": "#E5ECF6",
           "caxis": {
            "gridcolor": "white",
            "linecolor": "white",
            "ticks": ""
           }
          },
          "title": {
           "x": 0.05
          },
          "xaxis": {
           "automargin": true,
           "gridcolor": "white",
           "linecolor": "white",
           "ticks": "",
           "title": {
            "standoff": 15
           },
           "zerolinecolor": "white",
           "zerolinewidth": 2
          },
          "yaxis": {
           "automargin": true,
           "gridcolor": "white",
           "linecolor": "white",
           "ticks": "",
           "title": {
            "standoff": 15
           },
           "zerolinecolor": "white",
           "zerolinewidth": 2
          }
         }
        },
        "title": {
         "text": "Spearman vs Pearson Correlation Comparison"
        },
        "xaxis": {
         "anchor": "y",
         "domain": [
          0,
          0.45
         ]
        },
        "xaxis2": {
         "anchor": "y2",
         "domain": [
          0.55,
          1
         ]
        },
        "xaxis3": {
         "anchor": "y3",
         "domain": [
          0,
          0.45
         ]
        },
        "xaxis4": {
         "anchor": "y4",
         "domain": [
          0.55,
          1
         ]
        },
        "yaxis": {
         "anchor": "x",
         "domain": [
          0.625,
          1
         ]
        },
        "yaxis2": {
         "anchor": "x2",
         "domain": [
          0.625,
          1
         ]
        },
        "yaxis3": {
         "anchor": "x3",
         "domain": [
          0,
          0.375
         ]
        },
        "yaxis4": {
         "anchor": "x4",
         "domain": [
          0,
          0.375
         ]
        }
       }
      }
     },
     "metadata": {},
     "output_type": "display_data"
    },
    {
     "name": "stdout",
     "output_type": "stream",
     "text": [
      "Top differences between Pearson and Spearman correlations:\n",
      "                                 Variable_Pair   Pearson  Spearman  Difference\n",
      "27  Consumer_Confidence vs Housing_Price_Index  0.481390  0.460950    0.020439\n",
      "39   Retail_Sales_Index vs Housing_Price_Index  0.485281  0.466778    0.018503\n",
      "32        Stock_Returns vs Housing_Price_Index  0.579448  0.563822    0.015626\n",
      "29   Consumer_Confidence vs Productivity_Index  0.744864  0.730992    0.013872\n",
      "6            GDP_Growth vs Housing_Price_Index  0.624597  0.611701    0.012896\n",
      "\n",
      " Statistical Significance Testing:\n",
      "GDP_Growth vs Unemployment_Rate:\n",
      "  Pearson: r=-0.614, p=0.0000\n",
      "  Spearman: ρ=-0.602, p=0.0000\n",
      "GDP_Growth vs Consumer_Confidence:\n",
      "  Pearson: r=0.790, p=0.0000\n",
      "  Spearman: ρ=0.783, p=0.0000\n",
      "Unemployment_Rate vs Consumer_Confidence:\n",
      "  Pearson: r=-0.651, p=0.0000\n",
      "  Spearman: ρ=-0.645, p=0.0000\n"
     ]
    }
   ],
   "source": [
    "# 2. SPEARMAN RANK CORRELATION\n",
    "print(\"\\n 2. SPEARMAN RANK CORRELATION ANALYSIS\")\n",
    "print(\"=\" * 50)\n",
    "\n",
    "# Calculate Spearman correlation\n",
    "spearman_corr = df.corr(method='spearman')\n",
    "\n",
    "# Compare Pearson vs Spearman\n",
    "comparison_data = []\n",
    "for i in range(len(df.columns)):\n",
    "    for j in range(i+1, len(df.columns)):\n",
    "        var1, var2 = df.columns[i], df.columns[j]\n",
    "        pearson_val = pearson_corr.iloc[i, j]\n",
    "        spearman_val = spearman_corr.iloc[i, j]\n",
    "\n",
    "        comparison_data.append({\n",
    "            'Variable_Pair': f\"{var1} vs {var2}\",\n",
    "            'Pearson': pearson_val,\n",
    "            'Spearman': spearman_val,\n",
    "            'Difference': abs(pearson_val - spearman_val)\n",
    "        })\n",
    "\n",
    "comparison_df = pd.DataFrame(comparison_data)\n",
    "comparison_df = comparison_df.sort_values('Difference', ascending=False)\n",
    "\n",
    "# Visualize Pearson vs Spearman comparison\n",
    "fig = make_subplots(\n",
    " rows=2, cols=2,\n",
    " subplot_titles=(\"Spearman Correlation Matrix\", \"Pearson vs Spearman Scatter\",\n",
    " \"Correlation Method Differences\", \"Non-linear Relationship Example\"),\n",
    " specs=[[{\"type\": \"heatmap\"}, {\"type\": \"scatter\"}],\n",
    " [{\"type\": \"bar\"}, {\"type\": \"scatter\"}]]\n",
    ")\n",
    "\n",
    "# Spearman heatmap\n",
    "fig.add_trace(\n",
    " go.Heatmap(\n",
    " z=spearman_corr.values,\n",
    " x=spearman_corr.columns,\n",
    " y=spearman_corr.columns,\n",
    " colorscale='Viridis',\n",
    " text=spearman_corr.round(3).values,\n",
    " texttemplate=\"%{text}\",\n",
    " textfont={\"size\": 8}\n",
    " ),\n",
    " row=1, col=1\n",
    ")\n",
    "\n",
    "# Pearson vs Spearman scatter\n",
    "fig.add_trace(\n",
    " go.Scatter(\n",
    " x=comparison_df['Pearson'],\n",
    " y=comparison_df['Spearman'],\n",
    " mode='markers+text',\n",
    " text=comparison_df['Variable_Pair'].str[:15] + '...',\n",
    " textposition=\"top center\",\n",
    " marker=dict(size=8, color=comparison_df['Difference'],\n",
    " colorscale='Reds', showscale=True),\n",
    " name=\"Correlations\"\n",
    " ),\n",
    " row=1, col=2\n",
    ")\n",
    "\n",
    "# Add diagonal line\n",
    "fig.add_trace(\n",
    " go.Scatter(\n",
    " x=[-1, 1], y=[-1, 1],\n",
    " mode='lines',\n",
    " line=dict(dash='dash', color='gray'),\n",
    " name=\"Perfect Agreement\"\n",
    " ),\n",
    " row=1, col=2\n",
    ")\n",
    "\n",
    "# Differences bar chart\n",
    "top_diffs = comparison_df.head(8)\n",
    "fig.add_trace(\n",
    " go.Bar(\n",
    " x=top_diffs['Difference'],\n",
    " y=top_diffs['Variable_Pair'],\n",
    " orientation='h',\n",
    " marker_color='coral',\n",
    " name=\"Correlation Differences\"\n",
    " ),\n",
    " row=2, col=1\n",
    ")\n",
    "\n",
    "# Example of non-linear relationship\n",
    "# Create quadratic relationship for demonstration\n",
    "x_nonlinear = np.linspace(-3, 3, 100)\n",
    "y_nonlinear = x_nonlinear**2 + np.random.normal(0, 0.5, 100)\n",
    "\n",
    "fig.add_trace(\n",
    " go.Scatter(\n",
    " x=x_nonlinear,\n",
    " y=y_nonlinear,\n",
    " mode='markers',\n",
    " marker=dict(color='purple', size=6),\n",
    " name=\"Quadratic Relationship\"\n",
    " ),\n",
    " row=2, col=2\n",
    ")\n",
    "\n",
    "fig.update_layout(\n",
    " title=\"Spearman vs Pearson Correlation Comparison\",\n",
    " height=800,\n",
    " showlegend=True\n",
    ")\n",
    "\n",
    "fig.show()\n",
    "\n",
    "print(\"Top differences between Pearson and Spearman correlations:\")\n",
    "print(comparison_df.head(5))\n",
    "\n",
    "# Statistical significance testing\n",
    "print(f\"\\n Statistical Significance Testing:\")\n",
    "sample_vars = ['GDP_Growth', 'Unemployment_Rate', 'Consumer_Confidence']\n",
    "for i in range(len(sample_vars)):\n",
    "    for j in range(i+1, len(sample_vars)):\n",
    "        var1, var2 = sample_vars[i], sample_vars[j]\n",
    "\n",
    "        # Pearson correlation with p-value\n",
    "        pearson_r, pearson_p = pearsonr(df[var1], df[var2])\n",
    "\n",
    "        # Spearman correlation with p-value\n",
    "        spearman_r, spearman_p = spearmanr(df[var1], df[var2])\n",
    "\n",
    "        print(f\"{var1} vs {var2}:\")\n",
    "        print(f\"  Pearson: r={pearson_r:.3f}, p={pearson_p:.4f}\")\n",
    "        print(f\"  Spearman: ρ={spearman_r:.3f}, p={spearman_p:.4f}\")"
   ]
  },
  {
   "cell_type": "code",
   "execution_count": 13,
   "id": "7d215c96",
   "metadata": {},
   "outputs": [
    {
     "name": "stdout",
     "output_type": "stream",
     "text": [
      "\n",
      " 3. KENDALL'S TAU CORRELATION\n",
      "==================================================\n"
     ]
    },
    {
     "data": {
      "application/vnd.plotly.v1+json": {
       "config": {
        "plotlyServerURL": "https://plot.ly"
       },
       "data": [
        {
         "marker": {
          "color": {
           "bdata": "bzLVzJxu1D8vKyiib57UP2nRV6F2P9k/fd9bs/oq4T+cSDKQ+pPbPwnkuiyvxdk/oSKMkaHs1z9n7nrpmhniP6ATVOTtYr0/7aoNPzE+zb+DOkatwmrZv/Dgj2ukf9u/TILuezFi0j92KitA0bvgP01e08AfndQ/PxiqD5XL4j8NvZJyENviP+uqX2Lqj9U/joo63Fq95j8TnFRY87biP7ErQO41F+I/5IrOFkGu6D/CxvUQLUPgvzy+0jOjNeQ/czsLq4Jv4r/Rc9NlrtbQPyB3jM5tr+G/MIRDzq5h3b988MyAPEXZP0kmhxGOZNI/XUoNZ2wW4j/VAo44FyPpP5rhJn7g+ug/8njqbvjgzz9CrFjeX3zpP4Nup+jz3c+/MUvRHGVCx7+w+RfTkjTZP6oaOXP5ENg/aKSXag/g0z8eF1y1irniP2o4RjnakNo/SKokCTxxxz+kTnjpCbfRP4DFSrXN++w/",
           "dtype": "f8"
          },
          "colorbar": {
           "title": {
            "text": "Kendall's Tau"
           }
          },
          "colorscale": [
           [
            0,
            "rgb(49,54,149)"
           ],
           [
            0.1,
            "rgb(69,117,180)"
           ],
           [
            0.2,
            "rgb(116,173,209)"
           ],
           [
            0.3,
            "rgb(171,217,233)"
           ],
           [
            0.4,
            "rgb(224,243,248)"
           ],
           [
            0.5,
            "rgb(255,255,191)"
           ],
           [
            0.6,
            "rgb(254,224,144)"
           ],
           [
            0.7,
            "rgb(253,174,97)"
           ],
           [
            0.8,
            "rgb(244,109,67)"
           ],
           [
            0.9,
            "rgb(215,48,39)"
           ],
           [
            1,
            "rgb(165,0,38)"
           ]
          ],
          "showscale": true,
          "size": {
           "bdata": "C38KAESKGUD7NbKKC8YZQMPFrUlUjx9AXNcyYLl1JUBibR+afDwhQIbO9HuNGyBASSvv9cnnHUABqtmjAaAmQESMtK7UXQJA1Ipox95GEkAkyZdYc8UfQJbsOcPGLyFA3yLq2r36FkAU9TWQxeokQOA1CLFnxBlAT56UU3p+J0BQbDeP1JEnQKaV9/rk8xpAMi1Jk7FsLEAYw2kusGQnQJ020GkDnSZAnS2CXNHZLkByODNV+FMkQMttxwAMQylAUArOVWMLJ0DFUEj/WQwVQOiUL0JJGyZAnjLqQA1dIkCbLAChi5YfQNvv6JWx/RZA9JzQgAecJkCKg7EG3WsvQACasJ2YOS9Al4tSRZvsE0BS1+7Vd9svQBKlaHG46hNA/Z0FZP4SDUAc+N2Ht4EfQFRhB9A3FR5Ago09RRPYGEDmHLNi7WcnQELjy2OImiBA2tRtC4tNDUBNYtZjzCQWQHC7TpFgHTJA",
           "dtype": "f8"
          }
         },
         "mode": "markers+text",
         "name": "All Methods",
         "text": [
          "Consumer_Confidence vs Housing_Price_Index",
          "Retail_Sales_Index vs Housing_Price_Index",
          "Stock_Returns vs Housing_Price_Index",
          "Consumer_Confidence vs Productivity_Index",
          "GDP_Growth vs Housing_Price_Index",
          "Housing_Price_Index vs Tech_Investment",
          "Housing_Price_Index vs Productivity_Index",
          "Inflation_Rate vs Interest_Rates",
          "Interest_Rates vs Housing_Price_Index",
          "Unemployment_Rate vs Housing_Price_Index",
          "Unemployment_Rate vs Retail_Sales_Index",
          "GDP_Growth vs Unemployment_Rate",
          "Interest_Rates vs Tech_Investment",
          "Retail_Sales_Index vs Productivity_Index",
          "Inflation_Rate vs Retail_Sales_Index",
          "Consumer_Confidence vs Tech_Investment",
          "Consumer_Confidence vs Stock_Returns",
          "Inflation_Rate vs Consumer_Confidence",
          "GDP_Growth vs Productivity_Index",
          "GDP_Growth vs Consumer_Confidence",
          "Retail_Sales_Index vs Tech_Investment",
          "GDP_Growth vs Stock_Returns",
          "Unemployment_Rate vs Productivity_Index",
          "Consumer_Confidence vs Retail_Sales_Index",
          "Unemployment_Rate vs Stock_Returns",
          "Consumer_Confidence vs Interest_Rates",
          "Unemployment_Rate vs Tech_Investment",
          "Unemployment_Rate vs Consumer_Confidence",
          "Inflation_Rate vs Tech_Investment",
          "Stock_Returns vs Interest_Rates",
          "Stock_Returns vs Retail_Sales_Index",
          "GDP_Growth vs Tech_Investment",
          "Stock_Returns vs Productivity_Index",
          "Interest_Rates vs Retail_Sales_Index",
          "Tech_Investment vs Productivity_Index",
          "Unemployment_Rate vs Inflation_Rate",
          "Unemployment_Rate vs Interest_Rates",
          "Inflation_Rate vs Stock_Returns",
          "Inflation_Rate vs Productivity_Index",
          "GDP_Growth vs Interest_Rates",
          "GDP_Growth vs Retail_Sales_Index",
          "GDP_Growth vs Inflation_Rate",
          "Inflation_Rate vs Housing_Price_Index",
          "Interest_Rates vs Productivity_Index",
          "Stock_Returns vs Tech_Investment"
         ],
         "type": "scatter",
         "x": {
          "bdata": "aktTHxfP3j+BzRuT2A7fP7pGXhTXiuI/VDmUoO3V5z8QwtGWsvzjP4kMQvwiyOI/aXHR7ZGV4T8fQp691bDoP3BpF2qSMMc/Ly05nkxO1r+3ubxBsnTivww2/jmPo+O/F48bDdlu2z/n5mhuVUbnPzosdjNhod0/X5iZDFFx6T8qNL334oLpP3LtbQiV0N4/Z5+FWSm77D+E5AoqOkvpPxTdfJ3lqug/1OsS0JP57T+loVK8G6zmvxvNmsIWsuo/Igcbc0fr6L9AAEh6NkjYP6GDnz0PKei//Gjzb9/Y5L9D4srHwjPiP10rYnBCG9s/ZtCLRb+j6D853gWHui7uP+MqbtdhGe4/53dcRztf1z9znlz+Hl7uP4VrfHBixNe/yL49feB/0b+nA0Km3BviP9mDnSD2XeE//P19xawj3T9NnTa9BzTpPz5aQ9OTBeM/G7Pofyek0T9LSKHYquPZP+BnEZvipe8/",
          "dtype": "f8"
         },
         "xaxis": "x",
         "y": {
          "bdata": "g2XUTzaA3T/rqHw9sN/dPzIMWB/VCuI/yJc59klk5z9dKbz1DJPjP/Os4AF7X+I/uhQXSdMt4T8xH8+clEroP9PpN0Ryp8U/VAyJOJWK1b/WaaosmxPiv3+tXhaoR+O/8sAau4e42j/6bqpon+/mP8YPFadPQN4/quwbX9Yl6T/rFvdekTrpP2JhdGhdVt8/4YyzW2Z47D+kaZbOzgvpP5lgn7hAbOg/LfNcmnG+7T9a7Jy9r3Pmv3Oc7dHmeeo//48pUHO16L++7d9fDrHYP1in1FEC9ee/V41WdQal5L9dOBKxiwLiP8klFftjvdo/0sRyBBd26D/FDZDpegLuP8Djo+CB8e0/RpCMrsyt1z8OYxuhSzjuP8NNxn5yete/SbiS3T440b/nlCJZv/nhPzNSlgY7PeE/8E4S4I/n3D+zPDaCnBbpPwMq7I6n6uI/sLwfJMVv0T/adGULLb/ZP/y9d9UAme8/",
          "dtype": "f8"
         },
         "yaxis": "y"
        },
        {
         "marker": {
          "color": [
           "skyblue",
           "lightcoral",
           "lightgreen"
          ]
         },
         "name": "Method Correlations",
         "type": "bar",
         "x": [
          "Pearson-Spearman",
          "Pearson-Kendall",
          "Spearman-Kendall"
         ],
         "xaxis": "x2",
         "y": [
          0.9999264599027721,
          0.9941775801712325,
          0.9946644477996189
         ],
         "yaxis": "y2"
        },
        {
         "colorscale": [
          [
           0,
           "#0d0887"
          ],
          [
           0.1111111111111111,
           "#46039f"
          ],
          [
           0.2222222222222222,
           "#7201a8"
          ],
          [
           0.3333333333333333,
           "#9c179e"
          ],
          [
           0.4444444444444444,
           "#bd3786"
          ],
          [
           0.5555555555555556,
           "#d8576b"
          ],
          [
           0.6666666666666666,
           "#ed7953"
          ],
          [
           0.7777777777777778,
           "#fb9f3a"
          ],
          [
           0.8888888888888888,
           "#fdca26"
          ],
          [
           1,
           "#f0f921"
          ]
         ],
         "text": {
          "bdata": "AAAAAAAA8D+F61G4HoXbv4/C9Shcj9o/uB6F61G44j956SYxCKzoP4GVQ4ts59M/uB6F61G44j8v3SQGgZXbP/T91HjpJuk/jZduEoPA5j+F61G4HoXbvwAAAAAAAPA/rBxaZDvfz7/HSzeJQWDdvzvfT42XbuK/sp3vp8ZLx7+cxCCwcmjZv8l2vp8aL82/GQRWDi2y4b+oxks3iUHgv4/C9Shcj9o/rBxaZDvfz78AAAAAAADwP8UgsHJokdU/nu+nxks32T/pJjEIrBziP8/3U+Olm9Q/BoGVQ4tsxz9I4XoUrkfZP6rx0k1iENg/uB6F61G44j/HSzeJQWDdv8UgsHJokdU/AAAAAAAA8D8MAiuHFtniP6JFtvP91NA/001iEFg55D/RItv5fmrUP2IQWDm0yOI/9P3UeOkm4T956SYxCKzoPzvfT42XbuK/nu+nxks32T8MAiuHFtniPwAAAAAAAPA/ke18PzVe0j8UrkfhehTiP57vp8ZLN9k/y6FFtvP97D/LoUW28/3oP4GVQ4ts59M/sp3vp8ZLx7/pJjEIrBziP6JFtvP91NA/ke18PzVe0j8AAAAAAADwP6wcWmQ7388/cT0K16NwvT+R7Xw/NV7SP+58PzVeutE/uB6F61G44j+cxCCwcmjZv8/3U+Olm9Q/001iEFg55D8UrkfhehTiP6wcWmQ7388/AAAAAAAA8D/P91PjpZvUPxSuR+F6FOI/I9v5fmq84D8v3SQGgZXbP8l2vp8aL82/BoGVQ4tsxz/RItv5fmrUP57vp8ZLN9k/cT0K16NwvT/P91PjpZvUPwAAAAAAAPA/mG4Sg8DK2T9WDi2yne/XP/T91HjpJuk/GQRWDi2y4b9I4XoUrkfZP2IQWDm0yOI/y6FFtvP97D+R7Xw/NV7SPxSuR+F6FOI/mG4Sg8DK2T8AAAAAAADwP0a28/3UeOk/jZduEoPA5j+oxks3iUHgv6rx0k1iENg/9P3UeOkm4T/LoUW28/3oP+58PzVeutE/I9v5fmq84D9WDi2yne/XP0a28/3UeOk/AAAAAAAA8D8=",
          "dtype": "f8",
          "shape": "10, 10"
         },
         "textfont": {
          "size": 8
         },
         "texttemplate": "%{text}",
         "type": "heatmap",
         "x": [
          "GDP_Growth",
          "Unemployment_Rate",
          "Inflation_Rate",
          "Consumer_Confidence",
          "Stock_Returns",
          "Interest_Rates",
          "Retail_Sales_Index",
          "Housing_Price_Index",
          "Tech_Investment",
          "Productivity_Index"
         ],
         "xaxis": "x3",
         "y": [
          "GDP_Growth",
          "Unemployment_Rate",
          "Inflation_Rate",
          "Consumer_Confidence",
          "Stock_Returns",
          "Interest_Rates",
          "Retail_Sales_Index",
          "Housing_Price_Index",
          "Tech_Investment",
          "Productivity_Index"
         ],
         "yaxis": "y3",
         "z": {
          "bdata": "AAAAAAAA8D/w4I9rpH/bv2o4RjnakNo/E5xUWPO24j/kis4WQa7oP2ikl2oP4NM/HhdctYq54j+cSDKQ+pPbP9UCjjgXI+k/joo63Fq95j/w4I9rpH/bvwAAAAAAAPA/g26n6PPdz78whEPOrmHdv3M7C6uCb+K/MUvRHGVCx7+DOkatwmrZv+2qDT8xPs2/IHeMzm2v4b/CxvUQLUPgv2o4RjnakNo/g26n6PPdz78AAAAAAADwP+uqX2Lqj9U/sPkX05I02T9n7nrpmhniP01e08AfndQ/SKokCTxxxz988MyAPEXZP6oaOXP5ENg/E5xUWPO24j8whEPOrmHdv+uqX2Lqj9U/AAAAAAAA8D8NvZJyENviP9Fz02Wu1tA/PL7SM6M15D9vMtXMnG7UPz8Yqg+Vy+I/fd9bs/oq4T/kis4WQa7oP3M7C6uCb+K/sPkX05I02T8NvZJyENviPwAAAAAAAPA/SSaHEY5k0j9dSg1nbBbiP2nRV6F2P9k/gMVKtc377D+a4SZ+4ProP2ikl2oP4NM/MUvRHGVCx79n7nrpmhniP9Fz02Wu1tA/SSaHEY5k0j8AAAAAAADwP/J46m744M8/oBNU5O1ivT9Mgu57MWLSP6ROeOkJt9E/HhdctYq54j+DOkatwmrZv01e08AfndQ/PL7SM6M15D9dSg1nbBbiP/J46m744M8/AAAAAAAA8D8vKyiib57UP7ErQO41F+I/diorQNG74D+cSDKQ+pPbP+2qDT8xPs2/SKokCTxxxz9vMtXMnG7UP2nRV6F2P9k/oBNU5O1ivT8vKyiib57UPwAAAAAAAPA/CeS6LK/F2T+hIoyRoezXP9UCjjgXI+k/IHeMzm2v4b988MyAPEXZPz8Yqg+Vy+I/gMVKtc377D9Mgu57MWLSP7ErQO41F+I/CeS6LK/F2T8AAAAAAADwP0KsWN5ffOk/joo63Fq95j/CxvUQLUPgv6oaOXP5ENg/fd9bs/oq4T+a4SZ+4ProP6ROeOkJt9E/diorQNG74D+hIoyRoezXP0KsWN5ffOk/AAAAAAAA8D8=",
          "dtype": "f8",
          "shape": "10, 10"
         }
        },
        {
         "boxpoints": "outliers",
         "marker": {
          "color": "blue"
         },
         "name": "Pearson",
         "type": "box",
         "xaxis": "x4",
         "y": {
          "bdata": "aktTHxfP3j+BzRuT2A7fP7pGXhTXiuI/VDmUoO3V5z8QwtGWsvzjP4kMQvwiyOI/aXHR7ZGV4T8fQp691bDoP3BpF2qSMMc/Ly05nkxO1r+3ubxBsnTivww2/jmPo+O/F48bDdlu2z/n5mhuVUbnPzosdjNhod0/X5iZDFFx6T8qNL334oLpP3LtbQiV0N4/Z5+FWSm77D+E5AoqOkvpPxTdfJ3lqug/1OsS0JP57T+loVK8G6zmvxvNmsIWsuo/Igcbc0fr6L9AAEh6NkjYP6GDnz0PKei//Gjzb9/Y5L9D4srHwjPiP10rYnBCG9s/ZtCLRb+j6D853gWHui7uP+MqbtdhGe4/53dcRztf1z9znlz+Hl7uP4VrfHBixNe/yL49feB/0b+nA0Km3BviP9mDnSD2XeE//P19xawj3T9NnTa9BzTpPz5aQ9OTBeM/G7Pofyek0T9LSKHYquPZP+BnEZvipe8/",
          "dtype": "f8"
         },
         "yaxis": "y4"
        },
        {
         "boxpoints": "outliers",
         "marker": {
          "color": "red"
         },
         "name": "Spearman",
         "type": "box",
         "xaxis": "x4",
         "y": {
          "bdata": "g2XUTzaA3T/rqHw9sN/dPzIMWB/VCuI/yJc59klk5z9dKbz1DJPjP/Os4AF7X+I/uhQXSdMt4T8xH8+clEroP9PpN0Ryp8U/VAyJOJWK1b/WaaosmxPiv3+tXhaoR+O/8sAau4e42j/6bqpon+/mP8YPFadPQN4/quwbX9Yl6T/rFvdekTrpP2JhdGhdVt8/4YyzW2Z47D+kaZbOzgvpP5lgn7hAbOg/LfNcmnG+7T9a7Jy9r3Pmv3Oc7dHmeeo//48pUHO16L++7d9fDrHYP1in1FEC9ee/V41WdQal5L9dOBKxiwLiP8klFftjvdo/0sRyBBd26D/FDZDpegLuP8Djo+CB8e0/RpCMrsyt1z8OYxuhSzjuP8NNxn5yete/SbiS3T440b/nlCJZv/nhPzNSlgY7PeE/8E4S4I/n3D+zPDaCnBbpPwMq7I6n6uI/sLwfJMVv0T/adGULLb/ZP/y9d9UAme8/",
          "dtype": "f8"
         },
         "yaxis": "y4"
        },
        {
         "boxpoints": "outliers",
         "marker": {
          "color": "green"
         },
         "name": "Kendall",
         "type": "box",
         "xaxis": "x4",
         "y": {
          "bdata": "bzLVzJxu1D8vKyiib57UP2nRV6F2P9k/fd9bs/oq4T+cSDKQ+pPbPwnkuiyvxdk/oSKMkaHs1z9n7nrpmhniP6ATVOTtYr0/7aoNPzE+zb+DOkatwmrZv/Dgj2ukf9u/TILuezFi0j92KitA0bvgP01e08AfndQ/PxiqD5XL4j8NvZJyENviP+uqX2Lqj9U/joo63Fq95j8TnFRY87biP7ErQO41F+I/5IrOFkGu6D/CxvUQLUPgvzy+0jOjNeQ/czsLq4Jv4r/Rc9NlrtbQPyB3jM5tr+G/MIRDzq5h3b988MyAPEXZP0kmhxGOZNI/XUoNZ2wW4j/VAo44FyPpP5rhJn7g+ug/8njqbvjgzz9CrFjeX3zpP4Nup+jz3c+/MUvRHGVCx7+w+RfTkjTZP6oaOXP5ENg/aKSXag/g0z8eF1y1irniP2o4RjnakNo/SKokCTxxxz+kTnjpCbfRP4DFSrXN++w/",
          "dtype": "f8"
         },
         "yaxis": "y4"
        }
       ],
       "layout": {
        "annotations": [
         {
          "font": {
           "size": 16
          },
          "showarrow": false,
          "text": "Three Correlation Methods Comparison",
          "x": 0.225,
          "xanchor": "center",
          "xref": "paper",
          "y": 1,
          "yanchor": "bottom",
          "yref": "paper"
         },
         {
          "font": {
           "size": 16
          },
          "showarrow": false,
          "text": "Method Correlations",
          "x": 0.775,
          "xanchor": "center",
          "xref": "paper",
          "y": 1,
          "yanchor": "bottom",
          "yref": "paper"
         },
         {
          "font": {
           "size": 16
          },
          "showarrow": false,
          "text": "Kendall's Tau Matrix",
          "x": 0.225,
          "xanchor": "center",
          "xref": "paper",
          "y": 0.375,
          "yanchor": "bottom",
          "yref": "paper"
         },
         {
          "font": {
           "size": 16
          },
          "showarrow": false,
          "text": "Correlation Method Stability",
          "x": 0.775,
          "xanchor": "center",
          "xref": "paper",
          "y": 0.375,
          "yanchor": "bottom",
          "yref": "paper"
         }
        ],
        "height": 800,
        "showlegend": true,
        "template": {
         "data": {
          "bar": [
           {
            "error_x": {
             "color": "#2a3f5f"
            },
            "error_y": {
             "color": "#2a3f5f"
            },
            "marker": {
             "line": {
              "color": "#E5ECF6",
              "width": 0.5
             },
             "pattern": {
              "fillmode": "overlay",
              "size": 10,
              "solidity": 0.2
             }
            },
            "type": "bar"
           }
          ],
          "barpolar": [
           {
            "marker": {
             "line": {
              "color": "#E5ECF6",
              "width": 0.5
             },
             "pattern": {
              "fillmode": "overlay",
              "size": 10,
              "solidity": 0.2
             }
            },
            "type": "barpolar"
           }
          ],
          "carpet": [
           {
            "aaxis": {
             "endlinecolor": "#2a3f5f",
             "gridcolor": "white",
             "linecolor": "white",
             "minorgridcolor": "white",
             "startlinecolor": "#2a3f5f"
            },
            "baxis": {
             "endlinecolor": "#2a3f5f",
             "gridcolor": "white",
             "linecolor": "white",
             "minorgridcolor": "white",
             "startlinecolor": "#2a3f5f"
            },
            "type": "carpet"
           }
          ],
          "choropleth": [
           {
            "colorbar": {
             "outlinewidth": 0,
             "ticks": ""
            },
            "type": "choropleth"
           }
          ],
          "contour": [
           {
            "colorbar": {
             "outlinewidth": 0,
             "ticks": ""
            },
            "colorscale": [
             [
              0,
              "#0d0887"
             ],
             [
              0.1111111111111111,
              "#46039f"
             ],
             [
              0.2222222222222222,
              "#7201a8"
             ],
             [
              0.3333333333333333,
              "#9c179e"
             ],
             [
              0.4444444444444444,
              "#bd3786"
             ],
             [
              0.5555555555555556,
              "#d8576b"
             ],
             [
              0.6666666666666666,
              "#ed7953"
             ],
             [
              0.7777777777777778,
              "#fb9f3a"
             ],
             [
              0.8888888888888888,
              "#fdca26"
             ],
             [
              1,
              "#f0f921"
             ]
            ],
            "type": "contour"
           }
          ],
          "contourcarpet": [
           {
            "colorbar": {
             "outlinewidth": 0,
             "ticks": ""
            },
            "type": "contourcarpet"
           }
          ],
          "heatmap": [
           {
            "colorbar": {
             "outlinewidth": 0,
             "ticks": ""
            },
            "colorscale": [
             [
              0,
              "#0d0887"
             ],
             [
              0.1111111111111111,
              "#46039f"
             ],
             [
              0.2222222222222222,
              "#7201a8"
             ],
             [
              0.3333333333333333,
              "#9c179e"
             ],
             [
              0.4444444444444444,
              "#bd3786"
             ],
             [
              0.5555555555555556,
              "#d8576b"
             ],
             [
              0.6666666666666666,
              "#ed7953"
             ],
             [
              0.7777777777777778,
              "#fb9f3a"
             ],
             [
              0.8888888888888888,
              "#fdca26"
             ],
             [
              1,
              "#f0f921"
             ]
            ],
            "type": "heatmap"
           }
          ],
          "histogram": [
           {
            "marker": {
             "pattern": {
              "fillmode": "overlay",
              "size": 10,
              "solidity": 0.2
             }
            },
            "type": "histogram"
           }
          ],
          "histogram2d": [
           {
            "colorbar": {
             "outlinewidth": 0,
             "ticks": ""
            },
            "colorscale": [
             [
              0,
              "#0d0887"
             ],
             [
              0.1111111111111111,
              "#46039f"
             ],
             [
              0.2222222222222222,
              "#7201a8"
             ],
             [
              0.3333333333333333,
              "#9c179e"
             ],
             [
              0.4444444444444444,
              "#bd3786"
             ],
             [
              0.5555555555555556,
              "#d8576b"
             ],
             [
              0.6666666666666666,
              "#ed7953"
             ],
             [
              0.7777777777777778,
              "#fb9f3a"
             ],
             [
              0.8888888888888888,
              "#fdca26"
             ],
             [
              1,
              "#f0f921"
             ]
            ],
            "type": "histogram2d"
           }
          ],
          "histogram2dcontour": [
           {
            "colorbar": {
             "outlinewidth": 0,
             "ticks": ""
            },
            "colorscale": [
             [
              0,
              "#0d0887"
             ],
             [
              0.1111111111111111,
              "#46039f"
             ],
             [
              0.2222222222222222,
              "#7201a8"
             ],
             [
              0.3333333333333333,
              "#9c179e"
             ],
             [
              0.4444444444444444,
              "#bd3786"
             ],
             [
              0.5555555555555556,
              "#d8576b"
             ],
             [
              0.6666666666666666,
              "#ed7953"
             ],
             [
              0.7777777777777778,
              "#fb9f3a"
             ],
             [
              0.8888888888888888,
              "#fdca26"
             ],
             [
              1,
              "#f0f921"
             ]
            ],
            "type": "histogram2dcontour"
           }
          ],
          "mesh3d": [
           {
            "colorbar": {
             "outlinewidth": 0,
             "ticks": ""
            },
            "type": "mesh3d"
           }
          ],
          "parcoords": [
           {
            "line": {
             "colorbar": {
              "outlinewidth": 0,
              "ticks": ""
             }
            },
            "type": "parcoords"
           }
          ],
          "pie": [
           {
            "automargin": true,
            "type": "pie"
           }
          ],
          "scatter": [
           {
            "fillpattern": {
             "fillmode": "overlay",
             "size": 10,
             "solidity": 0.2
            },
            "type": "scatter"
           }
          ],
          "scatter3d": [
           {
            "line": {
             "colorbar": {
              "outlinewidth": 0,
              "ticks": ""
             }
            },
            "marker": {
             "colorbar": {
              "outlinewidth": 0,
              "ticks": ""
             }
            },
            "type": "scatter3d"
           }
          ],
          "scattercarpet": [
           {
            "marker": {
             "colorbar": {
              "outlinewidth": 0,
              "ticks": ""
             }
            },
            "type": "scattercarpet"
           }
          ],
          "scattergeo": [
           {
            "marker": {
             "colorbar": {
              "outlinewidth": 0,
              "ticks": ""
             }
            },
            "type": "scattergeo"
           }
          ],
          "scattergl": [
           {
            "marker": {
             "colorbar": {
              "outlinewidth": 0,
              "ticks": ""
             }
            },
            "type": "scattergl"
           }
          ],
          "scattermap": [
           {
            "marker": {
             "colorbar": {
              "outlinewidth": 0,
              "ticks": ""
             }
            },
            "type": "scattermap"
           }
          ],
          "scattermapbox": [
           {
            "marker": {
             "colorbar": {
              "outlinewidth": 0,
              "ticks": ""
             }
            },
            "type": "scattermapbox"
           }
          ],
          "scatterpolar": [
           {
            "marker": {
             "colorbar": {
              "outlinewidth": 0,
              "ticks": ""
             }
            },
            "type": "scatterpolar"
           }
          ],
          "scatterpolargl": [
           {
            "marker": {
             "colorbar": {
              "outlinewidth": 0,
              "ticks": ""
             }
            },
            "type": "scatterpolargl"
           }
          ],
          "scatterternary": [
           {
            "marker": {
             "colorbar": {
              "outlinewidth": 0,
              "ticks": ""
             }
            },
            "type": "scatterternary"
           }
          ],
          "surface": [
           {
            "colorbar": {
             "outlinewidth": 0,
             "ticks": ""
            },
            "colorscale": [
             [
              0,
              "#0d0887"
             ],
             [
              0.1111111111111111,
              "#46039f"
             ],
             [
              0.2222222222222222,
              "#7201a8"
             ],
             [
              0.3333333333333333,
              "#9c179e"
             ],
             [
              0.4444444444444444,
              "#bd3786"
             ],
             [
              0.5555555555555556,
              "#d8576b"
             ],
             [
              0.6666666666666666,
              "#ed7953"
             ],
             [
              0.7777777777777778,
              "#fb9f3a"
             ],
             [
              0.8888888888888888,
              "#fdca26"
             ],
             [
              1,
              "#f0f921"
             ]
            ],
            "type": "surface"
           }
          ],
          "table": [
           {
            "cells": {
             "fill": {
              "color": "#EBF0F8"
             },
             "line": {
              "color": "white"
             }
            },
            "header": {
             "fill": {
              "color": "#C8D4E3"
             },
             "line": {
              "color": "white"
             }
            },
            "type": "table"
           }
          ]
         },
         "layout": {
          "annotationdefaults": {
           "arrowcolor": "#2a3f5f",
           "arrowhead": 0,
           "arrowwidth": 1
          },
          "autotypenumbers": "strict",
          "coloraxis": {
           "colorbar": {
            "outlinewidth": 0,
            "ticks": ""
           }
          },
          "colorscale": {
           "diverging": [
            [
             0,
             "#8e0152"
            ],
            [
             0.1,
             "#c51b7d"
            ],
            [
             0.2,
             "#de77ae"
            ],
            [
             0.3,
             "#f1b6da"
            ],
            [
             0.4,
             "#fde0ef"
            ],
            [
             0.5,
             "#f7f7f7"
            ],
            [
             0.6,
             "#e6f5d0"
            ],
            [
             0.7,
             "#b8e186"
            ],
            [
             0.8,
             "#7fbc41"
            ],
            [
             0.9,
             "#4d9221"
            ],
            [
             1,
             "#276419"
            ]
           ],
           "sequential": [
            [
             0,
             "#0d0887"
            ],
            [
             0.1111111111111111,
             "#46039f"
            ],
            [
             0.2222222222222222,
             "#7201a8"
            ],
            [
             0.3333333333333333,
             "#9c179e"
            ],
            [
             0.4444444444444444,
             "#bd3786"
            ],
            [
             0.5555555555555556,
             "#d8576b"
            ],
            [
             0.6666666666666666,
             "#ed7953"
            ],
            [
             0.7777777777777778,
             "#fb9f3a"
            ],
            [
             0.8888888888888888,
             "#fdca26"
            ],
            [
             1,
             "#f0f921"
            ]
           ],
           "sequentialminus": [
            [
             0,
             "#0d0887"
            ],
            [
             0.1111111111111111,
             "#46039f"
            ],
            [
             0.2222222222222222,
             "#7201a8"
            ],
            [
             0.3333333333333333,
             "#9c179e"
            ],
            [
             0.4444444444444444,
             "#bd3786"
            ],
            [
             0.5555555555555556,
             "#d8576b"
            ],
            [
             0.6666666666666666,
             "#ed7953"
            ],
            [
             0.7777777777777778,
             "#fb9f3a"
            ],
            [
             0.8888888888888888,
             "#fdca26"
            ],
            [
             1,
             "#f0f921"
            ]
           ]
          },
          "colorway": [
           "#636efa",
           "#EF553B",
           "#00cc96",
           "#ab63fa",
           "#FFA15A",
           "#19d3f3",
           "#FF6692",
           "#B6E880",
           "#FF97FF",
           "#FECB52"
          ],
          "font": {
           "color": "#2a3f5f"
          },
          "geo": {
           "bgcolor": "white",
           "lakecolor": "white",
           "landcolor": "#E5ECF6",
           "showlakes": true,
           "showland": true,
           "subunitcolor": "white"
          },
          "hoverlabel": {
           "align": "left"
          },
          "hovermode": "closest",
          "mapbox": {
           "style": "light"
          },
          "paper_bgcolor": "white",
          "plot_bgcolor": "#E5ECF6",
          "polar": {
           "angularaxis": {
            "gridcolor": "white",
            "linecolor": "white",
            "ticks": ""
           },
           "bgcolor": "#E5ECF6",
           "radialaxis": {
            "gridcolor": "white",
            "linecolor": "white",
            "ticks": ""
           }
          },
          "scene": {
           "xaxis": {
            "backgroundcolor": "#E5ECF6",
            "gridcolor": "white",
            "gridwidth": 2,
            "linecolor": "white",
            "showbackground": true,
            "ticks": "",
            "zerolinecolor": "white"
           },
           "yaxis": {
            "backgroundcolor": "#E5ECF6",
            "gridcolor": "white",
            "gridwidth": 2,
            "linecolor": "white",
            "showbackground": true,
            "ticks": "",
            "zerolinecolor": "white"
           },
           "zaxis": {
            "backgroundcolor": "#E5ECF6",
            "gridcolor": "white",
            "gridwidth": 2,
            "linecolor": "white",
            "showbackground": true,
            "ticks": "",
            "zerolinecolor": "white"
           }
          },
          "shapedefaults": {
           "line": {
            "color": "#2a3f5f"
           }
          },
          "ternary": {
           "aaxis": {
            "gridcolor": "white",
            "linecolor": "white",
            "ticks": ""
           },
           "baxis": {
            "gridcolor": "white",
            "linecolor": "white",
            "ticks": ""
           },
           "bgcolor": "#E5ECF6",
           "caxis": {
            "gridcolor": "white",
            "linecolor": "white",
            "ticks": ""
           }
          },
          "title": {
           "x": 0.05
          },
          "xaxis": {
           "automargin": true,
           "gridcolor": "white",
           "linecolor": "white",
           "ticks": "",
           "title": {
            "standoff": 15
           },
           "zerolinecolor": "white",
           "zerolinewidth": 2
          },
          "yaxis": {
           "automargin": true,
           "gridcolor": "white",
           "linecolor": "white",
           "ticks": "",
           "title": {
            "standoff": 15
           },
           "zerolinecolor": "white",
           "zerolinewidth": 2
          }
         }
        },
        "title": {
         "text": "Comprehensive Correlation Method Analysis"
        },
        "xaxis": {
         "anchor": "y",
         "domain": [
          0,
          0.45
         ]
        },
        "xaxis2": {
         "anchor": "y2",
         "domain": [
          0.55,
          1
         ]
        },
        "xaxis3": {
         "anchor": "y3",
         "domain": [
          0,
          0.45
         ]
        },
        "xaxis4": {
         "anchor": "y4",
         "domain": [
          0.55,
          1
         ]
        },
        "yaxis": {
         "anchor": "x",
         "domain": [
          0.625,
          1
         ]
        },
        "yaxis2": {
         "anchor": "x2",
         "domain": [
          0.625,
          1
         ]
        },
        "yaxis3": {
         "anchor": "x3",
         "domain": [
          0,
          0.375
         ]
        },
        "yaxis4": {
         "anchor": "x4",
         "domain": [
          0,
          0.375
         ]
        }
       }
      }
     },
     "metadata": {},
     "output_type": "display_data"
    },
    {
     "name": "stdout",
     "output_type": "stream",
     "text": [
      "Correlation between different methods:\n",
      "Pearson-Spearman correlation: 1.000\n",
      "Pearson-Kendall correlation: 0.994\n",
      "Spearman-Kendall correlation: 0.995\n"
     ]
    }
   ],
   "source": [
    "# 3. KENDALL'S TAU CORRELATION\n",
    "print(\"\\n 3. KENDALL'S TAU CORRELATION\")\n",
    "print(\"=\" * 50)\n",
    "\n",
    "# Calculate Kendall's tau\n",
    "kendall_corr = df.corr(method='kendall')\n",
    "\n",
    "# Compare all three methods\n",
    "method_comparison = pd.DataFrame({\n",
    " 'Variable_Pair': comparison_df['Variable_Pair'],\n",
    " 'Pearson': comparison_df['Pearson'],\n",
    " 'Spearman': comparison_df['Spearman'],\n",
    " 'Kendall': [kendalltau(df[pair.split(' vs ')[0]], df[pair.split(' vs ')[1]])[0]\n",
    " for pair in comparison_df['Variable_Pair']]\n",
    "})\n",
    "\n",
    "# Create comprehensive comparison plot\n",
    "fig = make_subplots(\n",
    " rows=2, cols=2,\n",
    " subplot_titles=(\"Three Correlation Methods Comparison\", \"Method Correlations\",\n",
    " \"Kendall's Tau Matrix\", \"Correlation Method Stability\"),\n",
    " specs=[[{\"type\": \"scatter\"}, {\"type\": \"bar\"}],\n",
    " [{\"type\": \"heatmap\"}, {\"type\": \"box\"}]]\n",
    ")\n",
    "\n",
    "# 3D-like scatter showing all three methods\n",
    "fig.add_trace(\n",
    " go.Scatter(\n",
    " x=method_comparison['Pearson'],\n",
    " y=method_comparison['Spearman'],\n",
    " text=method_comparison['Variable_Pair'],\n",
    " mode='markers+text',\n",
    " marker=dict(\n",
    " size=abs(method_comparison['Kendall']) * 20,\n",
    " color=method_comparison['Kendall'],\n",
    " colorscale='RdYlBu_r',\n",
    " showscale=True,\n",
    " colorbar=dict(title=\"Kendall's Tau\")\n",
    " ),\n",
    " name=\"All Methods\"\n",
    " ),\n",
    " row=1, col=1\n",
    ")\n",
    "\n",
    "# Method correlations bar chart\n",
    "method_corrs = [\n",
    " stats.pearsonr(method_comparison['Pearson'], method_comparison['Spearman'])[0],\n",
    " stats.pearsonr(method_comparison['Pearson'], method_comparison['Kendall'])[0],\n",
    " stats.pearsonr(method_comparison['Spearman'], method_comparison['Kendall'])[0]\n",
    "]\n",
    "\n",
    "fig.add_trace(\n",
    " go.Bar(\n",
    " x=['Pearson-Spearman', 'Pearson-Kendall', 'Spearman-Kendall'],\n",
    " y=method_corrs,\n",
    " marker_color=['skyblue', 'lightcoral', 'lightgreen'],\n",
    " name=\"Method Correlations\"\n",
    " ),\n",
    " row=1, col=2\n",
    ")\n",
    "\n",
    "# Kendall's tau heatmap\n",
    "fig.add_trace(\n",
    " go.Heatmap(\n",
    " z=kendall_corr.values,\n",
    " x=kendall_corr.columns,\n",
    " y=kendall_corr.columns,\n",
    " colorscale='Plasma',\n",
    " text=kendall_corr.round(3).values,\n",
    " texttemplate=\"%{text}\",\n",
    " textfont={\"size\": 8}\n",
    " ),\n",
    " row=2, col=1\n",
    ")\n",
    "\n",
    "# Box plot of correlation values by method\n",
    "correlation_values = []\n",
    "methods = []\n",
    "for method in ['Pearson', 'Spearman', 'Kendall']:\n",
    " values = method_comparison[method].values\n",
    " correlation_values.extend(values)\n",
    " methods.extend([method] * len(values))\n",
    "\n",
    "for i, method in enumerate(['Pearson', 'Spearman', 'Kendall']):\n",
    " fig.add_trace(\n",
    " go.Box(\n",
    " y=method_comparison[method],\n",
    " name=method,\n",
    " boxpoints='outliers',\n",
    " marker_color=['blue', 'red', 'green'][i]\n",
    " ),\n",
    " row=2, col=2\n",
    " )\n",
    "\n",
    "fig.update_layout(\n",
    " title=\"Comprehensive Correlation Method Analysis\",\n",
    " height=800,\n",
    " showlegend=True\n",
    ")\n",
    "\n",
    "fig.show()\n",
    "\n",
    "print(\"Correlation between different methods:\")\n",
    "print(f\"Pearson-Spearman correlation: {method_corrs[0]:.3f}\")\n",
    "print(f\"Pearson-Kendall correlation: {method_corrs[1]:.3f}\")\n",
    "print(f\"Spearman-Kendall correlation: {method_corrs[2]:.3f}\")"
   ]
  },
  {
   "cell_type": "code",
   "execution_count": 15,
   "id": "11e429e7",
   "metadata": {},
   "outputs": [
    {
     "name": "stdout",
     "output_type": "stream",
     "text": [
      "\n",
      " 4. INTERACTIVE CORRELATION EXPLORER\n",
      "==================================================\n"
     ]
    },
    {
     "data": {
      "application/vnd.plotly.v1+json": {
       "config": {
        "plotlyServerURL": "https://plot.ly"
       },
       "data": [
        {
         "colorscale": [
          [
           0,
           "rgb(5,48,97)"
          ],
          [
           0.1,
           "rgb(33,102,172)"
          ],
          [
           0.2,
           "rgb(67,147,195)"
          ],
          [
           0.3,
           "rgb(146,197,222)"
          ],
          [
           0.4,
           "rgb(209,229,240)"
          ],
          [
           0.5,
           "rgb(247,247,247)"
          ],
          [
           0.6,
           "rgb(253,219,199)"
          ],
          [
           0.7,
           "rgb(244,165,130)"
          ],
          [
           0.8,
           "rgb(214,96,77)"
          ],
          [
           0.9,
           "rgb(178,24,43)"
          ],
          [
           1,
           "rgb(103,0,31)"
          ]
         ],
         "hovertemplate": "%{hovertext}<extra></extra>",
         "hovertext": [
          [
           "Variable: GDP_Growth<br>Perfect correlation: 1.000",
           "Variables: GDP_Growth vs Unemployment_Rate<br>Correlation: -0.6137<br>R-squared: 0.3766<br>Sample size: 1000<br>Strength: Moderate",
           "Variables: GDP_Growth vs Inflation_Rate<br>Correlation: 0.5944<br>R-squared: 0.3533<br>Sample size: 1000<br>Strength: Moderate",
           "Variables: GDP_Growth vs Consumer_Confidence<br>Correlation: 0.7904<br>R-squared: 0.6248<br>Sample size: 1000<br>Strength: Strong",
           "Variables: GDP_Growth vs Stock_Returns<br>Correlation: 0.9367<br>R-squared: 0.8774<br>Sample size: 1000<br>Strength: Strong",
           "Variables: GDP_Growth vs Interest_Rates<br>Correlation: 0.4553<br>R-squared: 0.2073<br>Sample size: 1000<br>Strength: Moderate",
           "Variables: GDP_Growth vs Retail_Sales_Index<br>Correlation: 0.7876<br>R-squared: 0.6203<br>Sample size: 1000<br>Strength: Strong",
           "Variables: GDP_Growth vs Housing_Price_Index<br>Correlation: 0.6246<br>R-squared: 0.3901<br>Sample size: 1000<br>Strength: Moderate",
           "Variables: GDP_Growth vs Tech_Investment<br>Correlation: 0.9432<br>R-squared: 0.8896<br>Sample size: 1000<br>Strength: Strong",
           "Variables: GDP_Growth vs Productivity_Index<br>Correlation: 0.8978<br>R-squared: 0.8061<br>Sample size: 1000<br>Strength: Strong"
          ],
          [
           "Variables: Unemployment_Rate vs GDP_Growth<br>Correlation: -0.6137<br>R-squared: 0.3766<br>Sample size: 1000<br>Strength: Moderate",
           "Variable: Unemployment_Rate<br>Perfect correlation: 1.000",
           "Variables: Unemployment_Rate vs Inflation_Rate<br>Correlation: -0.3714<br>R-squared: 0.1379<br>Sample size: 1000<br>Strength: Moderate",
           "Variables: Unemployment_Rate vs Consumer_Confidence<br>Correlation: -0.6515<br>R-squared: 0.4244<br>Sample size: 1000<br>Strength: Moderate",
           "Variables: Unemployment_Rate vs Stock_Returns<br>Correlation: -0.7787<br>R-squared: 0.6064<br>Sample size: 1000<br>Strength: Strong",
           "Variables: Unemployment_Rate vs Interest_Rates<br>Correlation: -0.2734<br>R-squared: 0.0748<br>Sample size: 1000<br>Strength: Weak",
           "Variables: Unemployment_Rate vs Retail_Sales_Index<br>Correlation: -0.5767<br>R-squared: 0.3326<br>Sample size: 1000<br>Strength: Moderate",
           "Variables: Unemployment_Rate vs Housing_Price_Index<br>Correlation: -0.3485<br>R-squared: 0.1215<br>Sample size: 1000<br>Strength: Moderate",
           "Variables: Unemployment_Rate vs Tech_Investment<br>Correlation: -0.7550<br>R-squared: 0.5700<br>Sample size: 1000<br>Strength: Strong",
           "Variables: Unemployment_Rate vs Productivity_Index<br>Correlation: -0.7085<br>R-squared: 0.5020<br>Sample size: 1000<br>Strength: Strong"
          ],
          [
           "Variables: Inflation_Rate vs GDP_Growth<br>Correlation: 0.5944<br>R-squared: 0.3533<br>Sample size: 1000<br>Strength: Moderate",
           "Variables: Inflation_Rate vs Unemployment_Rate<br>Correlation: -0.3714<br>R-squared: 0.1379<br>Sample size: 1000<br>Strength: Moderate",
           "Variable: Inflation_Rate<br>Perfect correlation: 1.000",
           "Variables: Inflation_Rate vs Consumer_Confidence<br>Correlation: 0.4815<br>R-squared: 0.2318<br>Sample size: 1000<br>Strength: Moderate",
           "Variables: Inflation_Rate vs Stock_Returns<br>Correlation: 0.5659<br>R-squared: 0.3202<br>Sample size: 1000<br>Strength: Moderate",
           "Variables: Inflation_Rate vs Interest_Rates<br>Correlation: 0.7716<br>R-squared: 0.5953<br>Sample size: 1000<br>Strength: Strong",
           "Variables: Inflation_Rate vs Retail_Sales_Index<br>Correlation: 0.4630<br>R-squared: 0.2143<br>Sample size: 1000<br>Strength: Moderate",
           "Variables: Inflation_Rate vs Housing_Price_Index<br>Correlation: 0.2756<br>R-squared: 0.0760<br>Sample size: 1000<br>Strength: Weak",
           "Variables: Inflation_Rate vs Tech_Investment<br>Correlation: 0.5688<br>R-squared: 0.3236<br>Sample size: 1000<br>Strength: Moderate",
           "Variables: Inflation_Rate vs Productivity_Index<br>Correlation: 0.5427<br>R-squared: 0.2945<br>Sample size: 1000<br>Strength: Moderate"
          ],
          [
           "Variables: Consumer_Confidence vs GDP_Growth<br>Correlation: 0.7904<br>R-squared: 0.6248<br>Sample size: 1000<br>Strength: Strong",
           "Variables: Consumer_Confidence vs Unemployment_Rate<br>Correlation: -0.6515<br>R-squared: 0.4244<br>Sample size: 1000<br>Strength: Moderate",
           "Variables: Consumer_Confidence vs Inflation_Rate<br>Correlation: 0.4815<br>R-squared: 0.2318<br>Sample size: 1000<br>Strength: Moderate",
           "Variable: Consumer_Confidence<br>Perfect correlation: 1.000",
           "Variables: Consumer_Confidence vs Stock_Returns<br>Correlation: 0.7972<br>R-squared: 0.6356<br>Sample size: 1000<br>Strength: Strong",
           "Variables: Consumer_Confidence vs Interest_Rates<br>Correlation: 0.3794<br>R-squared: 0.1440<br>Sample size: 1000<br>Strength: Moderate",
           "Variables: Consumer_Confidence vs Retail_Sales_Index<br>Correlation: 0.8342<br>R-squared: 0.6960<br>Sample size: 1000<br>Strength: Strong",
           "Variables: Consumer_Confidence vs Housing_Price_Index<br>Correlation: 0.4814<br>R-squared: 0.2317<br>Sample size: 1000<br>Strength: Moderate",
           "Variables: Consumer_Confidence vs Tech_Investment<br>Correlation: 0.7951<br>R-squared: 0.6322<br>Sample size: 1000<br>Strength: Strong",
           "Variables: Consumer_Confidence vs Productivity_Index<br>Correlation: 0.7449<br>R-squared: 0.5548<br>Sample size: 1000<br>Strength: Strong"
          ],
          [
           "Variables: Stock_Returns vs GDP_Growth<br>Correlation: 0.9367<br>R-squared: 0.8774<br>Sample size: 1000<br>Strength: Strong",
           "Variables: Stock_Returns vs Unemployment_Rate<br>Correlation: -0.7787<br>R-squared: 0.6064<br>Sample size: 1000<br>Strength: Strong",
           "Variables: Stock_Returns vs Inflation_Rate<br>Correlation: 0.5659<br>R-squared: 0.3202<br>Sample size: 1000<br>Strength: Moderate",
           "Variables: Stock_Returns vs Consumer_Confidence<br>Correlation: 0.7972<br>R-squared: 0.6356<br>Sample size: 1000<br>Strength: Strong",
           "Variable: Stock_Returns<br>Perfect correlation: 1.000",
           "Variables: Stock_Returns vs Interest_Rates<br>Correlation: 0.4235<br>R-squared: 0.1794<br>Sample size: 1000<br>Strength: Moderate",
           "Variables: Stock_Returns vs Retail_Sales_Index<br>Correlation: 0.7700<br>R-squared: 0.5929<br>Sample size: 1000<br>Strength: Strong",
           "Variables: Stock_Returns vs Housing_Price_Index<br>Correlation: 0.5794<br>R-squared: 0.3358<br>Sample size: 1000<br>Strength: Moderate",
           "Variables: Stock_Returns vs Tech_Investment<br>Correlation: 0.9890<br>R-squared: 0.9781<br>Sample size: 1000<br>Strength: Strong",
           "Variables: Stock_Returns vs Productivity_Index<br>Correlation: 0.9406<br>R-squared: 0.8847<br>Sample size: 1000<br>Strength: Strong"
          ],
          [
           "Variables: Interest_Rates vs GDP_Growth<br>Correlation: 0.4553<br>R-squared: 0.2073<br>Sample size: 1000<br>Strength: Moderate",
           "Variables: Interest_Rates vs Unemployment_Rate<br>Correlation: -0.2734<br>R-squared: 0.0748<br>Sample size: 1000<br>Strength: Weak",
           "Variables: Interest_Rates vs Inflation_Rate<br>Correlation: 0.7716<br>R-squared: 0.5953<br>Sample size: 1000<br>Strength: Strong",
           "Variables: Interest_Rates vs Consumer_Confidence<br>Correlation: 0.3794<br>R-squared: 0.1440<br>Sample size: 1000<br>Strength: Moderate",
           "Variables: Interest_Rates vs Stock_Returns<br>Correlation: 0.4235<br>R-squared: 0.1794<br>Sample size: 1000<br>Strength: Moderate",
           "Variable: Interest_Rates<br>Perfect correlation: 1.000",
           "Variables: Interest_Rates vs Retail_Sales_Index<br>Correlation: 0.3652<br>R-squared: 0.1334<br>Sample size: 1000<br>Strength: Moderate",
           "Variables: Interest_Rates vs Housing_Price_Index<br>Correlation: 0.1812<br>R-squared: 0.0328<br>Sample size: 1000<br>Strength: Weak",
           "Variables: Interest_Rates vs Tech_Investment<br>Correlation: 0.4286<br>R-squared: 0.1837<br>Sample size: 1000<br>Strength: Moderate",
           "Variables: Interest_Rates vs Productivity_Index<br>Correlation: 0.4045<br>R-squared: 0.1636<br>Sample size: 1000<br>Strength: Moderate"
          ],
          [
           "Variables: Retail_Sales_Index vs GDP_Growth<br>Correlation: 0.7876<br>R-squared: 0.6203<br>Sample size: 1000<br>Strength: Strong",
           "Variables: Retail_Sales_Index vs Unemployment_Rate<br>Correlation: -0.5767<br>R-squared: 0.3326<br>Sample size: 1000<br>Strength: Moderate",
           "Variables: Retail_Sales_Index vs Inflation_Rate<br>Correlation: 0.4630<br>R-squared: 0.2143<br>Sample size: 1000<br>Strength: Moderate",
           "Variables: Retail_Sales_Index vs Consumer_Confidence<br>Correlation: 0.8342<br>R-squared: 0.6960<br>Sample size: 1000<br>Strength: Strong",
           "Variables: Retail_Sales_Index vs Stock_Returns<br>Correlation: 0.7700<br>R-squared: 0.5929<br>Sample size: 1000<br>Strength: Strong",
           "Variables: Retail_Sales_Index vs Interest_Rates<br>Correlation: 0.3652<br>R-squared: 0.1334<br>Sample size: 1000<br>Strength: Moderate",
           "Variable: Retail_Sales_Index<br>Perfect correlation: 1.000",
           "Variables: Retail_Sales_Index vs Housing_Price_Index<br>Correlation: 0.4853<br>R-squared: 0.2355<br>Sample size: 1000<br>Strength: Moderate",
           "Variables: Retail_Sales_Index vs Tech_Investment<br>Correlation: 0.7709<br>R-squared: 0.5942<br>Sample size: 1000<br>Strength: Strong",
           "Variables: Retail_Sales_Index vs Productivity_Index<br>Correlation: 0.7273<br>R-squared: 0.5290<br>Sample size: 1000<br>Strength: Strong"
          ],
          [
           "Variables: Housing_Price_Index vs GDP_Growth<br>Correlation: 0.6246<br>R-squared: 0.3901<br>Sample size: 1000<br>Strength: Moderate",
           "Variables: Housing_Price_Index vs Unemployment_Rate<br>Correlation: -0.3485<br>R-squared: 0.1215<br>Sample size: 1000<br>Strength: Moderate",
           "Variables: Housing_Price_Index vs Inflation_Rate<br>Correlation: 0.2756<br>R-squared: 0.0760<br>Sample size: 1000<br>Strength: Weak",
           "Variables: Housing_Price_Index vs Consumer_Confidence<br>Correlation: 0.4814<br>R-squared: 0.2317<br>Sample size: 1000<br>Strength: Moderate",
           "Variables: Housing_Price_Index vs Stock_Returns<br>Correlation: 0.5794<br>R-squared: 0.3358<br>Sample size: 1000<br>Strength: Moderate",
           "Variables: Housing_Price_Index vs Interest_Rates<br>Correlation: 0.1812<br>R-squared: 0.0328<br>Sample size: 1000<br>Strength: Weak",
           "Variables: Housing_Price_Index vs Retail_Sales_Index<br>Correlation: 0.4853<br>R-squared: 0.2355<br>Sample size: 1000<br>Strength: Moderate",
           "Variable: Housing_Price_Index<br>Perfect correlation: 1.000",
           "Variables: Housing_Price_Index vs Tech_Investment<br>Correlation: 0.5869<br>R-squared: 0.3445<br>Sample size: 1000<br>Strength: Moderate",
           "Variables: Housing_Price_Index vs Productivity_Index<br>Correlation: 0.5495<br>R-squared: 0.3020<br>Sample size: 1000<br>Strength: Moderate"
          ],
          [
           "Variables: Tech_Investment vs GDP_Growth<br>Correlation: 0.9432<br>R-squared: 0.8896<br>Sample size: 1000<br>Strength: Strong",
           "Variables: Tech_Investment vs Unemployment_Rate<br>Correlation: -0.7550<br>R-squared: 0.5700<br>Sample size: 1000<br>Strength: Strong",
           "Variables: Tech_Investment vs Inflation_Rate<br>Correlation: 0.5688<br>R-squared: 0.3236<br>Sample size: 1000<br>Strength: Moderate",
           "Variables: Tech_Investment vs Consumer_Confidence<br>Correlation: 0.7951<br>R-squared: 0.6322<br>Sample size: 1000<br>Strength: Strong",
           "Variables: Tech_Investment vs Stock_Returns<br>Correlation: 0.9890<br>R-squared: 0.9781<br>Sample size: 1000<br>Strength: Strong",
           "Variables: Tech_Investment vs Interest_Rates<br>Correlation: 0.4286<br>R-squared: 0.1837<br>Sample size: 1000<br>Strength: Moderate",
           "Variables: Tech_Investment vs Retail_Sales_Index<br>Correlation: 0.7709<br>R-squared: 0.5942<br>Sample size: 1000<br>Strength: Strong",
           "Variables: Tech_Investment vs Housing_Price_Index<br>Correlation: 0.5869<br>R-squared: 0.3445<br>Sample size: 1000<br>Strength: Moderate",
           "Variable: Tech_Investment<br>Perfect correlation: 1.000",
           "Variables: Tech_Investment vs Productivity_Index<br>Correlation: 0.9490<br>R-squared: 0.9006<br>Sample size: 1000<br>Strength: Strong"
          ],
          [
           "Variables: Productivity_Index vs GDP_Growth<br>Correlation: 0.8978<br>R-squared: 0.8061<br>Sample size: 1000<br>Strength: Strong",
           "Variables: Productivity_Index vs Unemployment_Rate<br>Correlation: -0.7085<br>R-squared: 0.5020<br>Sample size: 1000<br>Strength: Strong",
           "Variables: Productivity_Index vs Inflation_Rate<br>Correlation: 0.5427<br>R-squared: 0.2945<br>Sample size: 1000<br>Strength: Moderate",
           "Variables: Productivity_Index vs Consumer_Confidence<br>Correlation: 0.7449<br>R-squared: 0.5548<br>Sample size: 1000<br>Strength: Strong",
           "Variables: Productivity_Index vs Stock_Returns<br>Correlation: 0.9406<br>R-squared: 0.8847<br>Sample size: 1000<br>Strength: Strong",
           "Variables: Productivity_Index vs Interest_Rates<br>Correlation: 0.4045<br>R-squared: 0.1636<br>Sample size: 1000<br>Strength: Moderate",
           "Variables: Productivity_Index vs Retail_Sales_Index<br>Correlation: 0.7273<br>R-squared: 0.5290<br>Sample size: 1000<br>Strength: Strong",
           "Variables: Productivity_Index vs Housing_Price_Index<br>Correlation: 0.5495<br>R-squared: 0.3020<br>Sample size: 1000<br>Strength: Moderate",
           "Variables: Productivity_Index vs Tech_Investment<br>Correlation: 0.9490<br>R-squared: 0.9006<br>Sample size: 1000<br>Strength: Strong",
           "Variable: Productivity_Index<br>Perfect correlation: 1.000"
          ]
         ],
         "text": {
          "bdata": "AAAAAAAA8D/ZzvdT46XjvzVeukkMAuM/SOF6FK5H6T+WQ4ts5/vtPx+F61G4Ht0/nu+nxks36T8AAAAAAADkP5MYBFYOLe4/I9v5fmq87D/ZzvdT46XjvwAAAAAAAPA/WDm0yHa+17+iRbbz/dTkvyGwcmiR7ei/Rrbz/dR40b8QWDm0yHbiv7x0kxgEVta/KVyPwvUo6L/jpZvEILDmvzVeukkMAuM/WDm0yHa+178AAAAAAADwP2IQWDm0yN4/6SYxCKwc4j9OYhBYObToP28Sg8DKod0/RIts5/up0T9oke18PzXiP8dLN4lBYOE/SOF6FK5H6T+iRbbz/dTkv2IQWDm0yN4/AAAAAAAA8D8bL90kBoHpP6jGSzeJQdg/46WbxCCw6j9iEFg5tMjeP3E9CtejcOk/16NwPQrX5z+WQ4ts5/vtPyGwcmiR7ei/6SYxCKwc4j8bL90kBoHpPwAAAAAAAPA/iUFg5dAi2z+kcD0K16PoP7pJDAIrh+I/2c73U+Ol7z/pJjEIrBzuPx+F61G4Ht0/Rrbz/dR40b9OYhBYObToP6jGSzeJQdg/iUFg5dAi2z8AAAAAAADwP1yPwvUoXNc/XrpJDAIrxz/b+X5qvHTbP+xRuB6F69k/nu+nxks36T8QWDm0yHbiv28Sg8DKod0/46WbxCCw6j+kcD0K16PoP1yPwvUoXNc/AAAAAAAA8D8K16NwPQrfP3npJjEIrOg/3SQGgZVD5z8AAAAAAADkP7x0kxgEVta/RIts5/up0T9iEFg5tMjeP7pJDAIrh+I/XrpJDAIrxz8K16NwPQrfPwAAAAAAAPA/YhBYObTI4j+amZmZmZnhP5MYBFYOLe4/KVyPwvUo6L9oke18PzXiP3E9CtejcOk/2c73U+Ol7z/b+X5qvHTbP3npJjEIrOg/YhBYObTI4j8AAAAAAADwP5HtfD81Xu4/I9v5fmq87D/jpZvEILDmv8dLN4lBYOE/16NwPQrX5z/pJjEIrBzuP+xRuB6F69k/3SQGgZVD5z+amZmZmZnhP5HtfD81Xu4/AAAAAAAA8D8=",
          "dtype": "f8",
          "shape": "10, 10"
         },
         "textfont": {
          "size": 10
         },
         "texttemplate": "%{text}",
         "type": "heatmap",
         "x": [
          "GDP_Growth",
          "Unemployment_Rate",
          "Inflation_Rate",
          "Consumer_Confidence",
          "Stock_Returns",
          "Interest_Rates",
          "Retail_Sales_Index",
          "Housing_Price_Index",
          "Tech_Investment",
          "Productivity_Index"
         ],
         "y": [
          "GDP_Growth",
          "Unemployment_Rate",
          "Inflation_Rate",
          "Consumer_Confidence",
          "Stock_Returns",
          "Interest_Rates",
          "Retail_Sales_Index",
          "Housing_Price_Index",
          "Tech_Investment",
          "Productivity_Index"
         ],
         "z": {
          "bdata": "AAAAAAAA8D8MNv45j6Pjvz5aQ9OTBeM/hOQKKjpL6T/U6xLQk/ntP/z9fcWsI90/TZ02vQc06T8QwtGWsvzjPzneBYe6Lu4/Z5+FWSm77D8MNv45j6PjvwAAAAAAAPA/hWt8cGLE17/8aPNv39jkvyIHG3NH6+i/yL49feB/0b+3ubxBsnTivy8tOZ5MTta/oYOfPQ8p6L+loVK8G6zmvz5aQ9OTBeM/hWt8cGLE178AAAAAAADwP3LtbQiV0N4/pwNCptwb4j8fQp691bDoPzosdjNhod0/G7Pofyek0T9D4srHwjPiP9mDnSD2XeE/hOQKKjpL6T/8aPNv39jkv3LtbQiV0N4/AAAAAAAA8D8qNL334oLpP0AASHo2SNg/G82awhay6j9qS1MfF8/eP1+YmQxRcek/VDmUoO3V5z/U6xLQk/ntPyIHG3NH6+i/pwNCptwb4j8qNL334oLpPwAAAAAAAPA/XSticEIb2z9m0ItFv6PoP7pGXhTXiuI/4GcRm+Kl7z/jKm7XYRnuP/z9fcWsI90/yL49feB/0b8fQp691bDoP0AASHo2SNg/XSticEIb2z8AAAAAAADwP+d3XEc7X9c/cGkXapIwxz8XjxsN2W7bP0tIodiq49k/TZ02vQc06T+3ubxBsnTivzosdjNhod0/G82awhay6j9m0ItFv6PoP+d3XEc7X9c/AAAAAAAA8D+BzRuT2A7fPxTdfJ3lqug/5+ZoblVG5z8QwtGWsvzjPy8tOZ5MTta/G7Pofyek0T9qS1MfF8/eP7pGXhTXiuI/cGkXapIwxz+BzRuT2A7fPwAAAAAAAPA/iQxC/CLI4j9pcdHtkZXhPzneBYe6Lu4/oYOfPQ8p6L9D4srHwjPiP1+YmQxRcek/4GcRm+Kl7z8XjxsN2W7bPxTdfJ3lqug/iQxC/CLI4j8AAAAAAADwP3OeXP4eXu4/Z5+FWSm77D+loVK8G6zmv9mDnSD2XeE/VDmUoO3V5z/jKm7XYRnuP0tIodiq49k/5+ZoblVG5z9pcdHtkZXhP3OeXP4eXu4/AAAAAAAA8D8=",
          "dtype": "f8",
          "shape": "10, 10"
         },
         "zmid": 0
        }
       ],
       "layout": {
        "height": 600,
        "template": {
         "data": {
          "bar": [
           {
            "error_x": {
             "color": "#2a3f5f"
            },
            "error_y": {
             "color": "#2a3f5f"
            },
            "marker": {
             "line": {
              "color": "#E5ECF6",
              "width": 0.5
             },
             "pattern": {
              "fillmode": "overlay",
              "size": 10,
              "solidity": 0.2
             }
            },
            "type": "bar"
           }
          ],
          "barpolar": [
           {
            "marker": {
             "line": {
              "color": "#E5ECF6",
              "width": 0.5
             },
             "pattern": {
              "fillmode": "overlay",
              "size": 10,
              "solidity": 0.2
             }
            },
            "type": "barpolar"
           }
          ],
          "carpet": [
           {
            "aaxis": {
             "endlinecolor": "#2a3f5f",
             "gridcolor": "white",
             "linecolor": "white",
             "minorgridcolor": "white",
             "startlinecolor": "#2a3f5f"
            },
            "baxis": {
             "endlinecolor": "#2a3f5f",
             "gridcolor": "white",
             "linecolor": "white",
             "minorgridcolor": "white",
             "startlinecolor": "#2a3f5f"
            },
            "type": "carpet"
           }
          ],
          "choropleth": [
           {
            "colorbar": {
             "outlinewidth": 0,
             "ticks": ""
            },
            "type": "choropleth"
           }
          ],
          "contour": [
           {
            "colorbar": {
             "outlinewidth": 0,
             "ticks": ""
            },
            "colorscale": [
             [
              0,
              "#0d0887"
             ],
             [
              0.1111111111111111,
              "#46039f"
             ],
             [
              0.2222222222222222,
              "#7201a8"
             ],
             [
              0.3333333333333333,
              "#9c179e"
             ],
             [
              0.4444444444444444,
              "#bd3786"
             ],
             [
              0.5555555555555556,
              "#d8576b"
             ],
             [
              0.6666666666666666,
              "#ed7953"
             ],
             [
              0.7777777777777778,
              "#fb9f3a"
             ],
             [
              0.8888888888888888,
              "#fdca26"
             ],
             [
              1,
              "#f0f921"
             ]
            ],
            "type": "contour"
           }
          ],
          "contourcarpet": [
           {
            "colorbar": {
             "outlinewidth": 0,
             "ticks": ""
            },
            "type": "contourcarpet"
           }
          ],
          "heatmap": [
           {
            "colorbar": {
             "outlinewidth": 0,
             "ticks": ""
            },
            "colorscale": [
             [
              0,
              "#0d0887"
             ],
             [
              0.1111111111111111,
              "#46039f"
             ],
             [
              0.2222222222222222,
              "#7201a8"
             ],
             [
              0.3333333333333333,
              "#9c179e"
             ],
             [
              0.4444444444444444,
              "#bd3786"
             ],
             [
              0.5555555555555556,
              "#d8576b"
             ],
             [
              0.6666666666666666,
              "#ed7953"
             ],
             [
              0.7777777777777778,
              "#fb9f3a"
             ],
             [
              0.8888888888888888,
              "#fdca26"
             ],
             [
              1,
              "#f0f921"
             ]
            ],
            "type": "heatmap"
           }
          ],
          "histogram": [
           {
            "marker": {
             "pattern": {
              "fillmode": "overlay",
              "size": 10,
              "solidity": 0.2
             }
            },
            "type": "histogram"
           }
          ],
          "histogram2d": [
           {
            "colorbar": {
             "outlinewidth": 0,
             "ticks": ""
            },
            "colorscale": [
             [
              0,
              "#0d0887"
             ],
             [
              0.1111111111111111,
              "#46039f"
             ],
             [
              0.2222222222222222,
              "#7201a8"
             ],
             [
              0.3333333333333333,
              "#9c179e"
             ],
             [
              0.4444444444444444,
              "#bd3786"
             ],
             [
              0.5555555555555556,
              "#d8576b"
             ],
             [
              0.6666666666666666,
              "#ed7953"
             ],
             [
              0.7777777777777778,
              "#fb9f3a"
             ],
             [
              0.8888888888888888,
              "#fdca26"
             ],
             [
              1,
              "#f0f921"
             ]
            ],
            "type": "histogram2d"
           }
          ],
          "histogram2dcontour": [
           {
            "colorbar": {
             "outlinewidth": 0,
             "ticks": ""
            },
            "colorscale": [
             [
              0,
              "#0d0887"
             ],
             [
              0.1111111111111111,
              "#46039f"
             ],
             [
              0.2222222222222222,
              "#7201a8"
             ],
             [
              0.3333333333333333,
              "#9c179e"
             ],
             [
              0.4444444444444444,
              "#bd3786"
             ],
             [
              0.5555555555555556,
              "#d8576b"
             ],
             [
              0.6666666666666666,
              "#ed7953"
             ],
             [
              0.7777777777777778,
              "#fb9f3a"
             ],
             [
              0.8888888888888888,
              "#fdca26"
             ],
             [
              1,
              "#f0f921"
             ]
            ],
            "type": "histogram2dcontour"
           }
          ],
          "mesh3d": [
           {
            "colorbar": {
             "outlinewidth": 0,
             "ticks": ""
            },
            "type": "mesh3d"
           }
          ],
          "parcoords": [
           {
            "line": {
             "colorbar": {
              "outlinewidth": 0,
              "ticks": ""
             }
            },
            "type": "parcoords"
           }
          ],
          "pie": [
           {
            "automargin": true,
            "type": "pie"
           }
          ],
          "scatter": [
           {
            "fillpattern": {
             "fillmode": "overlay",
             "size": 10,
             "solidity": 0.2
            },
            "type": "scatter"
           }
          ],
          "scatter3d": [
           {
            "line": {
             "colorbar": {
              "outlinewidth": 0,
              "ticks": ""
             }
            },
            "marker": {
             "colorbar": {
              "outlinewidth": 0,
              "ticks": ""
             }
            },
            "type": "scatter3d"
           }
          ],
          "scattercarpet": [
           {
            "marker": {
             "colorbar": {
              "outlinewidth": 0,
              "ticks": ""
             }
            },
            "type": "scattercarpet"
           }
          ],
          "scattergeo": [
           {
            "marker": {
             "colorbar": {
              "outlinewidth": 0,
              "ticks": ""
             }
            },
            "type": "scattergeo"
           }
          ],
          "scattergl": [
           {
            "marker": {
             "colorbar": {
              "outlinewidth": 0,
              "ticks": ""
             }
            },
            "type": "scattergl"
           }
          ],
          "scattermap": [
           {
            "marker": {
             "colorbar": {
              "outlinewidth": 0,
              "ticks": ""
             }
            },
            "type": "scattermap"
           }
          ],
          "scattermapbox": [
           {
            "marker": {
             "colorbar": {
              "outlinewidth": 0,
              "ticks": ""
             }
            },
            "type": "scattermapbox"
           }
          ],
          "scatterpolar": [
           {
            "marker": {
             "colorbar": {
              "outlinewidth": 0,
              "ticks": ""
             }
            },
            "type": "scatterpolar"
           }
          ],
          "scatterpolargl": [
           {
            "marker": {
             "colorbar": {
              "outlinewidth": 0,
              "ticks": ""
             }
            },
            "type": "scatterpolargl"
           }
          ],
          "scatterternary": [
           {
            "marker": {
             "colorbar": {
              "outlinewidth": 0,
              "ticks": ""
             }
            },
            "type": "scatterternary"
           }
          ],
          "surface": [
           {
            "colorbar": {
             "outlinewidth": 0,
             "ticks": ""
            },
            "colorscale": [
             [
              0,
              "#0d0887"
             ],
             [
              0.1111111111111111,
              "#46039f"
             ],
             [
              0.2222222222222222,
              "#7201a8"
             ],
             [
              0.3333333333333333,
              "#9c179e"
             ],
             [
              0.4444444444444444,
              "#bd3786"
             ],
             [
              0.5555555555555556,
              "#d8576b"
             ],
             [
              0.6666666666666666,
              "#ed7953"
             ],
             [
              0.7777777777777778,
              "#fb9f3a"
             ],
             [
              0.8888888888888888,
              "#fdca26"
             ],
             [
              1,
              "#f0f921"
             ]
            ],
            "type": "surface"
           }
          ],
          "table": [
           {
            "cells": {
             "fill": {
              "color": "#EBF0F8"
             },
             "line": {
              "color": "white"
             }
            },
            "header": {
             "fill": {
              "color": "#C8D4E3"
             },
             "line": {
              "color": "white"
             }
            },
            "type": "table"
           }
          ]
         },
         "layout": {
          "annotationdefaults": {
           "arrowcolor": "#2a3f5f",
           "arrowhead": 0,
           "arrowwidth": 1
          },
          "autotypenumbers": "strict",
          "coloraxis": {
           "colorbar": {
            "outlinewidth": 0,
            "ticks": ""
           }
          },
          "colorscale": {
           "diverging": [
            [
             0,
             "#8e0152"
            ],
            [
             0.1,
             "#c51b7d"
            ],
            [
             0.2,
             "#de77ae"
            ],
            [
             0.3,
             "#f1b6da"
            ],
            [
             0.4,
             "#fde0ef"
            ],
            [
             0.5,
             "#f7f7f7"
            ],
            [
             0.6,
             "#e6f5d0"
            ],
            [
             0.7,
             "#b8e186"
            ],
            [
             0.8,
             "#7fbc41"
            ],
            [
             0.9,
             "#4d9221"
            ],
            [
             1,
             "#276419"
            ]
           ],
           "sequential": [
            [
             0,
             "#0d0887"
            ],
            [
             0.1111111111111111,
             "#46039f"
            ],
            [
             0.2222222222222222,
             "#7201a8"
            ],
            [
             0.3333333333333333,
             "#9c179e"
            ],
            [
             0.4444444444444444,
             "#bd3786"
            ],
            [
             0.5555555555555556,
             "#d8576b"
            ],
            [
             0.6666666666666666,
             "#ed7953"
            ],
            [
             0.7777777777777778,
             "#fb9f3a"
            ],
            [
             0.8888888888888888,
             "#fdca26"
            ],
            [
             1,
             "#f0f921"
            ]
           ],
           "sequentialminus": [
            [
             0,
             "#0d0887"
            ],
            [
             0.1111111111111111,
             "#46039f"
            ],
            [
             0.2222222222222222,
             "#7201a8"
            ],
            [
             0.3333333333333333,
             "#9c179e"
            ],
            [
             0.4444444444444444,
             "#bd3786"
            ],
            [
             0.5555555555555556,
             "#d8576b"
            ],
            [
             0.6666666666666666,
             "#ed7953"
            ],
            [
             0.7777777777777778,
             "#fb9f3a"
            ],
            [
             0.8888888888888888,
             "#fdca26"
            ],
            [
             1,
             "#f0f921"
            ]
           ]
          },
          "colorway": [
           "#636efa",
           "#EF553B",
           "#00cc96",
           "#ab63fa",
           "#FFA15A",
           "#19d3f3",
           "#FF6692",
           "#B6E880",
           "#FF97FF",
           "#FECB52"
          ],
          "font": {
           "color": "#2a3f5f"
          },
          "geo": {
           "bgcolor": "white",
           "lakecolor": "white",
           "landcolor": "#E5ECF6",
           "showlakes": true,
           "showland": true,
           "subunitcolor": "white"
          },
          "hoverlabel": {
           "align": "left"
          },
          "hovermode": "closest",
          "mapbox": {
           "style": "light"
          },
          "paper_bgcolor": "white",
          "plot_bgcolor": "#E5ECF6",
          "polar": {
           "angularaxis": {
            "gridcolor": "white",
            "linecolor": "white",
            "ticks": ""
           },
           "bgcolor": "#E5ECF6",
           "radialaxis": {
            "gridcolor": "white",
            "linecolor": "white",
            "ticks": ""
           }
          },
          "scene": {
           "xaxis": {
            "backgroundcolor": "#E5ECF6",
            "gridcolor": "white",
            "gridwidth": 2,
            "linecolor": "white",
            "showbackground": true,
            "ticks": "",
            "zerolinecolor": "white"
           },
           "yaxis": {
            "backgroundcolor": "#E5ECF6",
            "gridcolor": "white",
            "gridwidth": 2,
            "linecolor": "white",
            "showbackground": true,
            "ticks": "",
            "zerolinecolor": "white"
           },
           "zaxis": {
            "backgroundcolor": "#E5ECF6",
            "gridcolor": "white",
            "gridwidth": 2,
            "linecolor": "white",
            "showbackground": true,
            "ticks": "",
            "zerolinecolor": "white"
           }
          },
          "shapedefaults": {
           "line": {
            "color": "#2a3f5f"
           }
          },
          "ternary": {
           "aaxis": {
            "gridcolor": "white",
            "linecolor": "white",
            "ticks": ""
           },
           "baxis": {
            "gridcolor": "white",
            "linecolor": "white",
            "ticks": ""
           },
           "bgcolor": "#E5ECF6",
           "caxis": {
            "gridcolor": "white",
            "linecolor": "white",
            "ticks": ""
           }
          },
          "title": {
           "x": 0.05
          },
          "xaxis": {
           "automargin": true,
           "gridcolor": "white",
           "linecolor": "white",
           "ticks": "",
           "title": {
            "standoff": 15
           },
           "zerolinecolor": "white",
           "zerolinewidth": 2
          },
          "yaxis": {
           "automargin": true,
           "gridcolor": "white",
           "linecolor": "white",
           "ticks": "",
           "title": {
            "standoff": 15
           },
           "zerolinecolor": "white",
           "zerolinewidth": 2
          }
         }
        },
        "title": {
         "text": "Interactive Pearson Correlation Matrix<br><sub>Hover for detailed statistics</sub>"
        },
        "width": 800,
        "xaxis": {
         "title": {
          "text": "Variables"
         }
        },
        "yaxis": {
         "title": {
          "text": "Variables"
         }
        }
       }
      }
     },
     "metadata": {},
     "output_type": "display_data"
    },
    {
     "data": {
      "application/vnd.plotly.v1+json": {
       "config": {
        "plotlyServerURL": "https://plot.ly"
       },
       "data": [
        {
         "colorscale": [
          [
           0,
           "rgb(5,48,97)"
          ],
          [
           0.1,
           "rgb(33,102,172)"
          ],
          [
           0.2,
           "rgb(67,147,195)"
          ],
          [
           0.3,
           "rgb(146,197,222)"
          ],
          [
           0.4,
           "rgb(209,229,240)"
          ],
          [
           0.5,
           "rgb(247,247,247)"
          ],
          [
           0.6,
           "rgb(253,219,199)"
          ],
          [
           0.7,
           "rgb(244,165,130)"
          ],
          [
           0.8,
           "rgb(214,96,77)"
          ],
          [
           0.9,
           "rgb(178,24,43)"
          ],
          [
           1,
           "rgb(103,0,31)"
          ]
         ],
         "hovertemplate": "%{hovertext}<extra></extra>",
         "hovertext": [
          [
           "Variable: GDP_Growth<br>Perfect correlation: 1.000",
           "Variables: GDP_Growth vs Unemployment_Rate<br>Correlation: -0.6025<br>R-squared: 0.3630<br>Sample size: 1000<br>Strength: Moderate",
           "Variables: GDP_Growth vs Inflation_Rate<br>Correlation: 0.5911<br>R-squared: 0.3495<br>Sample size: 1000<br>Strength: Moderate",
           "Variables: GDP_Growth vs Consumer_Confidence<br>Correlation: 0.7827<br>R-squared: 0.6126<br>Sample size: 1000<br>Strength: Strong",
           "Variables: GDP_Growth vs Stock_Returns<br>Correlation: 0.9295<br>R-squared: 0.8640<br>Sample size: 1000<br>Strength: Strong",
           "Variables: GDP_Growth vs Interest_Rates<br>Correlation: 0.4516<br>R-squared: 0.2040<br>Sample size: 1000<br>Strength: Moderate",
           "Variables: GDP_Growth vs Retail_Sales_Index<br>Correlation: 0.7840<br>R-squared: 0.6147<br>Sample size: 1000<br>Strength: Strong",
           "Variables: GDP_Growth vs Housing_Price_Index<br>Correlation: 0.6117<br>R-squared: 0.3742<br>Sample size: 1000<br>Strength: Moderate",
           "Variables: GDP_Growth vs Tech_Investment<br>Correlation: 0.9378<br>R-squared: 0.8795<br>Sample size: 1000<br>Strength: Strong",
           "Variables: GDP_Growth vs Productivity_Index<br>Correlation: 0.8897<br>R-squared: 0.7916<br>Sample size: 1000<br>Strength: Strong"
          ],
          [
           "Variables: Unemployment_Rate vs GDP_Growth<br>Correlation: -0.6025<br>R-squared: 0.3630<br>Sample size: 1000<br>Strength: Moderate",
           "Variable: Unemployment_Rate<br>Perfect correlation: 1.000",
           "Variables: Unemployment_Rate vs Inflation_Rate<br>Correlation: -0.3668<br>R-squared: 0.1346<br>Sample size: 1000<br>Strength: Moderate",
           "Variables: Unemployment_Rate vs Consumer_Confidence<br>Correlation: -0.6451<br>R-squared: 0.4162<br>Sample size: 1000<br>Strength: Moderate",
           "Variables: Unemployment_Rate vs Stock_Returns<br>Correlation: -0.7721<br>R-squared: 0.5962<br>Sample size: 1000<br>Strength: Strong",
           "Variables: Unemployment_Rate vs Interest_Rates<br>Correlation: -0.2691<br>R-squared: 0.0724<br>Sample size: 1000<br>Strength: Weak",
           "Variables: Unemployment_Rate vs Retail_Sales_Index<br>Correlation: -0.5649<br>R-squared: 0.3191<br>Sample size: 1000<br>Strength: Moderate",
           "Variables: Unemployment_Rate vs Housing_Price_Index<br>Correlation: -0.3366<br>R-squared: 0.1133<br>Sample size: 1000<br>Strength: Moderate",
           "Variables: Unemployment_Rate vs Tech_Investment<br>Correlation: -0.7487<br>R-squared: 0.5605<br>Sample size: 1000<br>Strength: Strong",
           "Variables: Unemployment_Rate vs Productivity_Index<br>Correlation: -0.7016<br>R-squared: 0.4923<br>Sample size: 1000<br>Strength: Strong"
          ],
          [
           "Variables: Inflation_Rate vs GDP_Growth<br>Correlation: 0.5911<br>R-squared: 0.3495<br>Sample size: 1000<br>Strength: Moderate",
           "Variables: Inflation_Rate vs Unemployment_Rate<br>Correlation: -0.3668<br>R-squared: 0.1346<br>Sample size: 1000<br>Strength: Moderate",
           "Variable: Inflation_Rate<br>Perfect correlation: 1.000",
           "Variables: Inflation_Rate vs Consumer_Confidence<br>Correlation: 0.4896<br>R-squared: 0.2398<br>Sample size: 1000<br>Strength: Moderate",
           "Variables: Inflation_Rate vs Stock_Returns<br>Correlation: 0.5617<br>R-squared: 0.3155<br>Sample size: 1000<br>Strength: Moderate",
           "Variables: Inflation_Rate vs Interest_Rates<br>Correlation: 0.7591<br>R-squared: 0.5762<br>Sample size: 1000<br>Strength: Strong",
           "Variables: Inflation_Rate vs Retail_Sales_Index<br>Correlation: 0.4727<br>R-squared: 0.2234<br>Sample size: 1000<br>Strength: Moderate",
           "Variables: Inflation_Rate vs Housing_Price_Index<br>Correlation: 0.2724<br>R-squared: 0.0742<br>Sample size: 1000<br>Strength: Weak",
           "Variables: Inflation_Rate vs Tech_Investment<br>Correlation: 0.5628<br>R-squared: 0.3168<br>Sample size: 1000<br>Strength: Moderate",
           "Variables: Inflation_Rate vs Productivity_Index<br>Correlation: 0.5387<br>R-squared: 0.2902<br>Sample size: 1000<br>Strength: Moderate"
          ],
          [
           "Variables: Consumer_Confidence vs GDP_Growth<br>Correlation: 0.7827<br>R-squared: 0.6126<br>Sample size: 1000<br>Strength: Strong",
           "Variables: Consumer_Confidence vs Unemployment_Rate<br>Correlation: -0.6451<br>R-squared: 0.4162<br>Sample size: 1000<br>Strength: Moderate",
           "Variables: Consumer_Confidence vs Inflation_Rate<br>Correlation: 0.4896<br>R-squared: 0.2398<br>Sample size: 1000<br>Strength: Moderate",
           "Variable: Consumer_Confidence<br>Perfect correlation: 1.000",
           "Variables: Consumer_Confidence vs Stock_Returns<br>Correlation: 0.7884<br>R-squared: 0.6216<br>Sample size: 1000<br>Strength: Strong",
           "Variables: Consumer_Confidence vs Interest_Rates<br>Correlation: 0.3858<br>R-squared: 0.1488<br>Sample size: 1000<br>Strength: Moderate",
           "Variables: Consumer_Confidence vs Retail_Sales_Index<br>Correlation: 0.8274<br>R-squared: 0.6846<br>Sample size: 1000<br>Strength: Strong",
           "Variables: Consumer_Confidence vs Housing_Price_Index<br>Correlation: 0.4610<br>R-squared: 0.2125<br>Sample size: 1000<br>Strength: Moderate",
           "Variables: Consumer_Confidence vs Tech_Investment<br>Correlation: 0.7859<br>R-squared: 0.6176<br>Sample size: 1000<br>Strength: Strong",
           "Variables: Consumer_Confidence vs Productivity_Index<br>Correlation: 0.7310<br>R-squared: 0.5343<br>Sample size: 1000<br>Strength: Strong"
          ],
          [
           "Variables: Stock_Returns vs GDP_Growth<br>Correlation: 0.9295<br>R-squared: 0.8640<br>Sample size: 1000<br>Strength: Strong",
           "Variables: Stock_Returns vs Unemployment_Rate<br>Correlation: -0.7721<br>R-squared: 0.5962<br>Sample size: 1000<br>Strength: Strong",
           "Variables: Stock_Returns vs Inflation_Rate<br>Correlation: 0.5617<br>R-squared: 0.3155<br>Sample size: 1000<br>Strength: Moderate",
           "Variables: Stock_Returns vs Consumer_Confidence<br>Correlation: 0.7884<br>R-squared: 0.6216<br>Sample size: 1000<br>Strength: Strong",
           "Variable: Stock_Returns<br>Perfect correlation: 1.000",
           "Variables: Stock_Returns vs Interest_Rates<br>Correlation: 0.4178<br>R-squared: 0.1746<br>Sample size: 1000<br>Strength: Moderate",
           "Variables: Stock_Returns vs Retail_Sales_Index<br>Correlation: 0.7644<br>R-squared: 0.5843<br>Sample size: 1000<br>Strength: Strong",
           "Variables: Stock_Returns vs Housing_Price_Index<br>Correlation: 0.5638<br>R-squared: 0.3179<br>Sample size: 1000<br>Strength: Moderate",
           "Variables: Stock_Returns vs Tech_Investment<br>Correlation: 0.9874<br>R-squared: 0.9750<br>Sample size: 1000<br>Strength: Strong",
           "Variables: Stock_Returns vs Productivity_Index<br>Correlation: 0.9357<br>R-squared: 0.8756<br>Sample size: 1000<br>Strength: Strong"
          ],
          [
           "Variables: Interest_Rates vs GDP_Growth<br>Correlation: 0.4516<br>R-squared: 0.2040<br>Sample size: 1000<br>Strength: Moderate",
           "Variables: Interest_Rates vs Unemployment_Rate<br>Correlation: -0.2691<br>R-squared: 0.0724<br>Sample size: 1000<br>Strength: Weak",
           "Variables: Interest_Rates vs Inflation_Rate<br>Correlation: 0.7591<br>R-squared: 0.5762<br>Sample size: 1000<br>Strength: Strong",
           "Variables: Interest_Rates vs Consumer_Confidence<br>Correlation: 0.3858<br>R-squared: 0.1488<br>Sample size: 1000<br>Strength: Moderate",
           "Variables: Interest_Rates vs Stock_Returns<br>Correlation: 0.4178<br>R-squared: 0.1746<br>Sample size: 1000<br>Strength: Moderate",
           "Variable: Interest_Rates<br>Perfect correlation: 1.000",
           "Variables: Interest_Rates vs Retail_Sales_Index<br>Correlation: 0.3700<br>R-squared: 0.1369<br>Sample size: 1000<br>Strength: Moderate",
           "Variables: Interest_Rates vs Housing_Price_Index<br>Correlation: 0.1692<br>R-squared: 0.0286<br>Sample size: 1000<br>Strength: Weak",
           "Variables: Interest_Rates vs Tech_Investment<br>Correlation: 0.4175<br>R-squared: 0.1743<br>Sample size: 1000<br>Strength: Moderate",
           "Variables: Interest_Rates vs Productivity_Index<br>Correlation: 0.4023<br>R-squared: 0.1618<br>Sample size: 1000<br>Strength: Moderate"
          ],
          [
           "Variables: Retail_Sales_Index vs GDP_Growth<br>Correlation: 0.7840<br>R-squared: 0.6147<br>Sample size: 1000<br>Strength: Strong",
           "Variables: Retail_Sales_Index vs Unemployment_Rate<br>Correlation: -0.5649<br>R-squared: 0.3191<br>Sample size: 1000<br>Strength: Moderate",
           "Variables: Retail_Sales_Index vs Inflation_Rate<br>Correlation: 0.4727<br>R-squared: 0.2234<br>Sample size: 1000<br>Strength: Moderate",
           "Variables: Retail_Sales_Index vs Consumer_Confidence<br>Correlation: 0.8274<br>R-squared: 0.6846<br>Sample size: 1000<br>Strength: Strong",
           "Variables: Retail_Sales_Index vs Stock_Returns<br>Correlation: 0.7644<br>R-squared: 0.5843<br>Sample size: 1000<br>Strength: Strong",
           "Variables: Retail_Sales_Index vs Interest_Rates<br>Correlation: 0.3700<br>R-squared: 0.1369<br>Sample size: 1000<br>Strength: Moderate",
           "Variable: Retail_Sales_Index<br>Perfect correlation: 1.000",
           "Variables: Retail_Sales_Index vs Housing_Price_Index<br>Correlation: 0.4668<br>R-squared: 0.2179<br>Sample size: 1000<br>Strength: Moderate",
           "Variables: Retail_Sales_Index vs Tech_Investment<br>Correlation: 0.7632<br>R-squared: 0.5825<br>Sample size: 1000<br>Strength: Strong",
           "Variables: Retail_Sales_Index vs Productivity_Index<br>Correlation: 0.7168<br>R-squared: 0.5137<br>Sample size: 1000<br>Strength: Strong"
          ],
          [
           "Variables: Housing_Price_Index vs GDP_Growth<br>Correlation: 0.6117<br>R-squared: 0.3742<br>Sample size: 1000<br>Strength: Moderate",
           "Variables: Housing_Price_Index vs Unemployment_Rate<br>Correlation: -0.3366<br>R-squared: 0.1133<br>Sample size: 1000<br>Strength: Moderate",
           "Variables: Housing_Price_Index vs Inflation_Rate<br>Correlation: 0.2724<br>R-squared: 0.0742<br>Sample size: 1000<br>Strength: Weak",
           "Variables: Housing_Price_Index vs Consumer_Confidence<br>Correlation: 0.4610<br>R-squared: 0.2125<br>Sample size: 1000<br>Strength: Moderate",
           "Variables: Housing_Price_Index vs Stock_Returns<br>Correlation: 0.5638<br>R-squared: 0.3179<br>Sample size: 1000<br>Strength: Moderate",
           "Variables: Housing_Price_Index vs Interest_Rates<br>Correlation: 0.1692<br>R-squared: 0.0286<br>Sample size: 1000<br>Strength: Weak",
           "Variables: Housing_Price_Index vs Retail_Sales_Index<br>Correlation: 0.4668<br>R-squared: 0.2179<br>Sample size: 1000<br>Strength: Moderate",
           "Variable: Housing_Price_Index<br>Perfect correlation: 1.000",
           "Variables: Housing_Price_Index vs Tech_Investment<br>Correlation: 0.5742<br>R-squared: 0.3297<br>Sample size: 1000<br>Strength: Moderate",
           "Variables: Housing_Price_Index vs Productivity_Index<br>Correlation: 0.5368<br>R-squared: 0.2882<br>Sample size: 1000<br>Strength: Moderate"
          ],
          [
           "Variables: Tech_Investment vs GDP_Growth<br>Correlation: 0.9378<br>R-squared: 0.8795<br>Sample size: 1000<br>Strength: Strong",
           "Variables: Tech_Investment vs Unemployment_Rate<br>Correlation: -0.7487<br>R-squared: 0.5605<br>Sample size: 1000<br>Strength: Strong",
           "Variables: Tech_Investment vs Inflation_Rate<br>Correlation: 0.5628<br>R-squared: 0.3168<br>Sample size: 1000<br>Strength: Moderate",
           "Variables: Tech_Investment vs Consumer_Confidence<br>Correlation: 0.7859<br>R-squared: 0.6176<br>Sample size: 1000<br>Strength: Strong",
           "Variables: Tech_Investment vs Stock_Returns<br>Correlation: 0.9874<br>R-squared: 0.9750<br>Sample size: 1000<br>Strength: Strong",
           "Variables: Tech_Investment vs Interest_Rates<br>Correlation: 0.4175<br>R-squared: 0.1743<br>Sample size: 1000<br>Strength: Moderate",
           "Variables: Tech_Investment vs Retail_Sales_Index<br>Correlation: 0.7632<br>R-squared: 0.5825<br>Sample size: 1000<br>Strength: Strong",
           "Variables: Tech_Investment vs Housing_Price_Index<br>Correlation: 0.5742<br>R-squared: 0.3297<br>Sample size: 1000<br>Strength: Moderate",
           "Variable: Tech_Investment<br>Perfect correlation: 1.000",
           "Variables: Tech_Investment vs Productivity_Index<br>Correlation: 0.9444<br>R-squared: 0.8918<br>Sample size: 1000<br>Strength: Strong"
          ],
          [
           "Variables: Productivity_Index vs GDP_Growth<br>Correlation: 0.8897<br>R-squared: 0.7916<br>Sample size: 1000<br>Strength: Strong",
           "Variables: Productivity_Index vs Unemployment_Rate<br>Correlation: -0.7016<br>R-squared: 0.4923<br>Sample size: 1000<br>Strength: Strong",
           "Variables: Productivity_Index vs Inflation_Rate<br>Correlation: 0.5387<br>R-squared: 0.2902<br>Sample size: 1000<br>Strength: Moderate",
           "Variables: Productivity_Index vs Consumer_Confidence<br>Correlation: 0.7310<br>R-squared: 0.5343<br>Sample size: 1000<br>Strength: Strong",
           "Variables: Productivity_Index vs Stock_Returns<br>Correlation: 0.9357<br>R-squared: 0.8756<br>Sample size: 1000<br>Strength: Strong",
           "Variables: Productivity_Index vs Interest_Rates<br>Correlation: 0.4023<br>R-squared: 0.1618<br>Sample size: 1000<br>Strength: Moderate",
           "Variables: Productivity_Index vs Retail_Sales_Index<br>Correlation: 0.7168<br>R-squared: 0.5137<br>Sample size: 1000<br>Strength: Strong",
           "Variables: Productivity_Index vs Housing_Price_Index<br>Correlation: 0.5368<br>R-squared: 0.2882<br>Sample size: 1000<br>Strength: Moderate",
           "Variables: Productivity_Index vs Tech_Investment<br>Correlation: 0.9444<br>R-squared: 0.8918<br>Sample size: 1000<br>Strength: Strong",
           "Variable: Productivity_Index<br>Perfect correlation: 1.000"
          ]
         ],
         "text": {
          "bdata": "AAAAAAAA8D/dJAaBlUPjv7bz/dR46eI/dZMYBFYO6T/ufD81XrrtPyGwcmiR7dw/SgwCK4cW6T8v3SQGgZXjP2q8dJMYBO4/exSuR+F67D/dJAaBlUPjvwAAAAAAAPA/sHJoke1817+kcD0K16Pkv05iEFg5tOi/nu+nxks30b8UrkfhehTiv8UgsHJokdW/K4cW2c73578QWDm0yHbmv7bz/dR46eI/sHJoke18178AAAAAAADwP1yPwvUoXN8/lkOLbOf74T99PzVeuknoPxKDwMqhRd4/nMQgsHJo0T9qvHSTGATiP3Noke18P+E/dZMYBFYO6T+kcD0K16Pkv1yPwvUoXN8/AAAAAAAA8D+e76fGSzfpP05iEFg5tNg/EFg5tMh26j8bL90kBoHdP/T91HjpJuk/MQisHFpk5z/ufD81XrrtP05iEFg5tOi/lkOLbOf74T+e76fGSzfpPwAAAAAAAPA/jZduEoPA2j+mm8QgsHLoPz81XrpJDOI/L90kBoGV7z/ByqFFtvPtPyGwcmiR7dw/nu+nxks30b99PzVeuknoP05iEFg5tNg/jZduEoPA2j8AAAAAAADwP65H4XoUrtc/bxKDwMqhxT+Nl24Sg8DaP+58PzVeutk/SgwCK4cW6T8UrkfhehTivxKDwMqhRd4/EFg5tMh26j+mm8QgsHLoP65H4XoUrtc/AAAAAAAA8D8X2c73U+PdP9Ei2/l+aug/i2zn+6nx5j8v3SQGgZXjP8UgsHJokdW/nMQgsHJo0T8bL90kBoHdPz81XrpJDOI/bxKDwMqhxT8X2c73U+PdPwAAAAAAAPA/ke18PzVe4j/Jdr6fGi/hP2q8dJMYBO4/K4cW2c73579qvHSTGATiP/T91HjpJuk/L90kBoGV7z+Nl24Sg8DaP9Ei2/l+aug/ke18PzVe4j8AAAAAAADwP2iR7Xw/Ne4/exSuR+F67D8QWDm0yHbmv3Noke18P+E/MQisHFpk5z/ByqFFtvPtP+58PzVeutk/i2zn+6nx5j/Jdr6fGi/hP2iR7Xw/Ne4/AAAAAAAA8D8=",
          "dtype": "f8",
          "shape": "10, 10"
         },
         "textfont": {
          "size": 10
         },
         "texttemplate": "%{text}",
         "type": "heatmap",
         "x": [
          "GDP_Growth",
          "Unemployment_Rate",
          "Inflation_Rate",
          "Consumer_Confidence",
          "Stock_Returns",
          "Interest_Rates",
          "Retail_Sales_Index",
          "Housing_Price_Index",
          "Tech_Investment",
          "Productivity_Index"
         ],
         "y": [
          "GDP_Growth",
          "Unemployment_Rate",
          "Inflation_Rate",
          "Consumer_Confidence",
          "Stock_Returns",
          "Interest_Rates",
          "Retail_Sales_Index",
          "Housing_Price_Index",
          "Tech_Investment",
          "Productivity_Index"
         ],
         "z": {
          "bdata": "AAAAAAAA8D9/rV4WqEfjvwMq7I6n6uI/pGmWzs4L6T8t81yacb7tP/BOEuCP59w/szw2gpwW6T9dKbz1DJPjP8UNkOl6Au4/4YyzW2Z47D9/rV4WqEfjvwAAAAAAAPA/w03GfnJ6179XjVZ1BqXkv/+PKVBztei/SbiS3T440b/WaaosmxPiv1QMiTiVitW/WKfUUQL1579a7Jy9r3PmvwMq7I6n6uI/w03GfnJ6178AAAAAAADwP2JhdGhdVt8/55QiWb/54T8xH8+clEroP8YPFadPQN4/sLwfJMVv0T9dOBKxiwLiPzNSlgY7PeE/pGmWzs4L6T9XjVZ1BqXkv2JhdGhdVt8/AAAAAAAA8D/rFvdekTrpP77t318Osdg/c5zt0eZ56j+DZdRPNoDdP6rsG1/WJek/yJc59klk5z8t81yacb7tP/+PKVBztei/55QiWb/54T/rFvdekTrpPwAAAAAAAPA/ySUV+2O92j/SxHIEF3boPzIMWB/VCuI//L131QCZ7z/A46PggfHtP/BOEuCP59w/SbiS3T440b8xH8+clEroP77t318Osdg/ySUV+2O92j8AAAAAAADwP0aQjK7Mrdc/0+k3RHKnxT/ywBq7h7jaP9p0ZQstv9k/szw2gpwW6T/WaaosmxPiv8YPFadPQN4/c5zt0eZ56j/SxHIEF3boP0aQjK7Mrdc/AAAAAAAA8D/rqHw9sN/dP5lgn7hAbOg/+m6qaJ/v5j9dKbz1DJPjP1QMiTiVitW/sLwfJMVv0T+DZdRPNoDdPzIMWB/VCuI/0+k3RHKnxT/rqHw9sN/dPwAAAAAAAPA/86zgAXtf4j+6FBdJ0y3hP8UNkOl6Au4/WKfUUQL1579dOBKxiwLiP6rsG1/WJek//L131QCZ7z/ywBq7h7jaP5lgn7hAbOg/86zgAXtf4j8AAAAAAADwPw5jG6FLOO4/4YyzW2Z47D9a7Jy9r3PmvzNSlgY7PeE/yJc59klk5z/A46PggfHtP9p0ZQstv9k/+m6qaJ/v5j+6FBdJ0y3hPw5jG6FLOO4/AAAAAAAA8D8=",
          "dtype": "f8",
          "shape": "10, 10"
         },
         "zmid": 0
        }
       ],
       "layout": {
        "height": 600,
        "template": {
         "data": {
          "bar": [
           {
            "error_x": {
             "color": "#2a3f5f"
            },
            "error_y": {
             "color": "#2a3f5f"
            },
            "marker": {
             "line": {
              "color": "#E5ECF6",
              "width": 0.5
             },
             "pattern": {
              "fillmode": "overlay",
              "size": 10,
              "solidity": 0.2
             }
            },
            "type": "bar"
           }
          ],
          "barpolar": [
           {
            "marker": {
             "line": {
              "color": "#E5ECF6",
              "width": 0.5
             },
             "pattern": {
              "fillmode": "overlay",
              "size": 10,
              "solidity": 0.2
             }
            },
            "type": "barpolar"
           }
          ],
          "carpet": [
           {
            "aaxis": {
             "endlinecolor": "#2a3f5f",
             "gridcolor": "white",
             "linecolor": "white",
             "minorgridcolor": "white",
             "startlinecolor": "#2a3f5f"
            },
            "baxis": {
             "endlinecolor": "#2a3f5f",
             "gridcolor": "white",
             "linecolor": "white",
             "minorgridcolor": "white",
             "startlinecolor": "#2a3f5f"
            },
            "type": "carpet"
           }
          ],
          "choropleth": [
           {
            "colorbar": {
             "outlinewidth": 0,
             "ticks": ""
            },
            "type": "choropleth"
           }
          ],
          "contour": [
           {
            "colorbar": {
             "outlinewidth": 0,
             "ticks": ""
            },
            "colorscale": [
             [
              0,
              "#0d0887"
             ],
             [
              0.1111111111111111,
              "#46039f"
             ],
             [
              0.2222222222222222,
              "#7201a8"
             ],
             [
              0.3333333333333333,
              "#9c179e"
             ],
             [
              0.4444444444444444,
              "#bd3786"
             ],
             [
              0.5555555555555556,
              "#d8576b"
             ],
             [
              0.6666666666666666,
              "#ed7953"
             ],
             [
              0.7777777777777778,
              "#fb9f3a"
             ],
             [
              0.8888888888888888,
              "#fdca26"
             ],
             [
              1,
              "#f0f921"
             ]
            ],
            "type": "contour"
           }
          ],
          "contourcarpet": [
           {
            "colorbar": {
             "outlinewidth": 0,
             "ticks": ""
            },
            "type": "contourcarpet"
           }
          ],
          "heatmap": [
           {
            "colorbar": {
             "outlinewidth": 0,
             "ticks": ""
            },
            "colorscale": [
             [
              0,
              "#0d0887"
             ],
             [
              0.1111111111111111,
              "#46039f"
             ],
             [
              0.2222222222222222,
              "#7201a8"
             ],
             [
              0.3333333333333333,
              "#9c179e"
             ],
             [
              0.4444444444444444,
              "#bd3786"
             ],
             [
              0.5555555555555556,
              "#d8576b"
             ],
             [
              0.6666666666666666,
              "#ed7953"
             ],
             [
              0.7777777777777778,
              "#fb9f3a"
             ],
             [
              0.8888888888888888,
              "#fdca26"
             ],
             [
              1,
              "#f0f921"
             ]
            ],
            "type": "heatmap"
           }
          ],
          "histogram": [
           {
            "marker": {
             "pattern": {
              "fillmode": "overlay",
              "size": 10,
              "solidity": 0.2
             }
            },
            "type": "histogram"
           }
          ],
          "histogram2d": [
           {
            "colorbar": {
             "outlinewidth": 0,
             "ticks": ""
            },
            "colorscale": [
             [
              0,
              "#0d0887"
             ],
             [
              0.1111111111111111,
              "#46039f"
             ],
             [
              0.2222222222222222,
              "#7201a8"
             ],
             [
              0.3333333333333333,
              "#9c179e"
             ],
             [
              0.4444444444444444,
              "#bd3786"
             ],
             [
              0.5555555555555556,
              "#d8576b"
             ],
             [
              0.6666666666666666,
              "#ed7953"
             ],
             [
              0.7777777777777778,
              "#fb9f3a"
             ],
             [
              0.8888888888888888,
              "#fdca26"
             ],
             [
              1,
              "#f0f921"
             ]
            ],
            "type": "histogram2d"
           }
          ],
          "histogram2dcontour": [
           {
            "colorbar": {
             "outlinewidth": 0,
             "ticks": ""
            },
            "colorscale": [
             [
              0,
              "#0d0887"
             ],
             [
              0.1111111111111111,
              "#46039f"
             ],
             [
              0.2222222222222222,
              "#7201a8"
             ],
             [
              0.3333333333333333,
              "#9c179e"
             ],
             [
              0.4444444444444444,
              "#bd3786"
             ],
             [
              0.5555555555555556,
              "#d8576b"
             ],
             [
              0.6666666666666666,
              "#ed7953"
             ],
             [
              0.7777777777777778,
              "#fb9f3a"
             ],
             [
              0.8888888888888888,
              "#fdca26"
             ],
             [
              1,
              "#f0f921"
             ]
            ],
            "type": "histogram2dcontour"
           }
          ],
          "mesh3d": [
           {
            "colorbar": {
             "outlinewidth": 0,
             "ticks": ""
            },
            "type": "mesh3d"
           }
          ],
          "parcoords": [
           {
            "line": {
             "colorbar": {
              "outlinewidth": 0,
              "ticks": ""
             }
            },
            "type": "parcoords"
           }
          ],
          "pie": [
           {
            "automargin": true,
            "type": "pie"
           }
          ],
          "scatter": [
           {
            "fillpattern": {
             "fillmode": "overlay",
             "size": 10,
             "solidity": 0.2
            },
            "type": "scatter"
           }
          ],
          "scatter3d": [
           {
            "line": {
             "colorbar": {
              "outlinewidth": 0,
              "ticks": ""
             }
            },
            "marker": {
             "colorbar": {
              "outlinewidth": 0,
              "ticks": ""
             }
            },
            "type": "scatter3d"
           }
          ],
          "scattercarpet": [
           {
            "marker": {
             "colorbar": {
              "outlinewidth": 0,
              "ticks": ""
             }
            },
            "type": "scattercarpet"
           }
          ],
          "scattergeo": [
           {
            "marker": {
             "colorbar": {
              "outlinewidth": 0,
              "ticks": ""
             }
            },
            "type": "scattergeo"
           }
          ],
          "scattergl": [
           {
            "marker": {
             "colorbar": {
              "outlinewidth": 0,
              "ticks": ""
             }
            },
            "type": "scattergl"
           }
          ],
          "scattermap": [
           {
            "marker": {
             "colorbar": {
              "outlinewidth": 0,
              "ticks": ""
             }
            },
            "type": "scattermap"
           }
          ],
          "scattermapbox": [
           {
            "marker": {
             "colorbar": {
              "outlinewidth": 0,
              "ticks": ""
             }
            },
            "type": "scattermapbox"
           }
          ],
          "scatterpolar": [
           {
            "marker": {
             "colorbar": {
              "outlinewidth": 0,
              "ticks": ""
             }
            },
            "type": "scatterpolar"
           }
          ],
          "scatterpolargl": [
           {
            "marker": {
             "colorbar": {
              "outlinewidth": 0,
              "ticks": ""
             }
            },
            "type": "scatterpolargl"
           }
          ],
          "scatterternary": [
           {
            "marker": {
             "colorbar": {
              "outlinewidth": 0,
              "ticks": ""
             }
            },
            "type": "scatterternary"
           }
          ],
          "surface": [
           {
            "colorbar": {
             "outlinewidth": 0,
             "ticks": ""
            },
            "colorscale": [
             [
              0,
              "#0d0887"
             ],
             [
              0.1111111111111111,
              "#46039f"
             ],
             [
              0.2222222222222222,
              "#7201a8"
             ],
             [
              0.3333333333333333,
              "#9c179e"
             ],
             [
              0.4444444444444444,
              "#bd3786"
             ],
             [
              0.5555555555555556,
              "#d8576b"
             ],
             [
              0.6666666666666666,
              "#ed7953"
             ],
             [
              0.7777777777777778,
              "#fb9f3a"
             ],
             [
              0.8888888888888888,
              "#fdca26"
             ],
             [
              1,
              "#f0f921"
             ]
            ],
            "type": "surface"
           }
          ],
          "table": [
           {
            "cells": {
             "fill": {
              "color": "#EBF0F8"
             },
             "line": {
              "color": "white"
             }
            },
            "header": {
             "fill": {
              "color": "#C8D4E3"
             },
             "line": {
              "color": "white"
             }
            },
            "type": "table"
           }
          ]
         },
         "layout": {
          "annotationdefaults": {
           "arrowcolor": "#2a3f5f",
           "arrowhead": 0,
           "arrowwidth": 1
          },
          "autotypenumbers": "strict",
          "coloraxis": {
           "colorbar": {
            "outlinewidth": 0,
            "ticks": ""
           }
          },
          "colorscale": {
           "diverging": [
            [
             0,
             "#8e0152"
            ],
            [
             0.1,
             "#c51b7d"
            ],
            [
             0.2,
             "#de77ae"
            ],
            [
             0.3,
             "#f1b6da"
            ],
            [
             0.4,
             "#fde0ef"
            ],
            [
             0.5,
             "#f7f7f7"
            ],
            [
             0.6,
             "#e6f5d0"
            ],
            [
             0.7,
             "#b8e186"
            ],
            [
             0.8,
             "#7fbc41"
            ],
            [
             0.9,
             "#4d9221"
            ],
            [
             1,
             "#276419"
            ]
           ],
           "sequential": [
            [
             0,
             "#0d0887"
            ],
            [
             0.1111111111111111,
             "#46039f"
            ],
            [
             0.2222222222222222,
             "#7201a8"
            ],
            [
             0.3333333333333333,
             "#9c179e"
            ],
            [
             0.4444444444444444,
             "#bd3786"
            ],
            [
             0.5555555555555556,
             "#d8576b"
            ],
            [
             0.6666666666666666,
             "#ed7953"
            ],
            [
             0.7777777777777778,
             "#fb9f3a"
            ],
            [
             0.8888888888888888,
             "#fdca26"
            ],
            [
             1,
             "#f0f921"
            ]
           ],
           "sequentialminus": [
            [
             0,
             "#0d0887"
            ],
            [
             0.1111111111111111,
             "#46039f"
            ],
            [
             0.2222222222222222,
             "#7201a8"
            ],
            [
             0.3333333333333333,
             "#9c179e"
            ],
            [
             0.4444444444444444,
             "#bd3786"
            ],
            [
             0.5555555555555556,
             "#d8576b"
            ],
            [
             0.6666666666666666,
             "#ed7953"
            ],
            [
             0.7777777777777778,
             "#fb9f3a"
            ],
            [
             0.8888888888888888,
             "#fdca26"
            ],
            [
             1,
             "#f0f921"
            ]
           ]
          },
          "colorway": [
           "#636efa",
           "#EF553B",
           "#00cc96",
           "#ab63fa",
           "#FFA15A",
           "#19d3f3",
           "#FF6692",
           "#B6E880",
           "#FF97FF",
           "#FECB52"
          ],
          "font": {
           "color": "#2a3f5f"
          },
          "geo": {
           "bgcolor": "white",
           "lakecolor": "white",
           "landcolor": "#E5ECF6",
           "showlakes": true,
           "showland": true,
           "subunitcolor": "white"
          },
          "hoverlabel": {
           "align": "left"
          },
          "hovermode": "closest",
          "mapbox": {
           "style": "light"
          },
          "paper_bgcolor": "white",
          "plot_bgcolor": "#E5ECF6",
          "polar": {
           "angularaxis": {
            "gridcolor": "white",
            "linecolor": "white",
            "ticks": ""
           },
           "bgcolor": "#E5ECF6",
           "radialaxis": {
            "gridcolor": "white",
            "linecolor": "white",
            "ticks": ""
           }
          },
          "scene": {
           "xaxis": {
            "backgroundcolor": "#E5ECF6",
            "gridcolor": "white",
            "gridwidth": 2,
            "linecolor": "white",
            "showbackground": true,
            "ticks": "",
            "zerolinecolor": "white"
           },
           "yaxis": {
            "backgroundcolor": "#E5ECF6",
            "gridcolor": "white",
            "gridwidth": 2,
            "linecolor": "white",
            "showbackground": true,
            "ticks": "",
            "zerolinecolor": "white"
           },
           "zaxis": {
            "backgroundcolor": "#E5ECF6",
            "gridcolor": "white",
            "gridwidth": 2,
            "linecolor": "white",
            "showbackground": true,
            "ticks": "",
            "zerolinecolor": "white"
           }
          },
          "shapedefaults": {
           "line": {
            "color": "#2a3f5f"
           }
          },
          "ternary": {
           "aaxis": {
            "gridcolor": "white",
            "linecolor": "white",
            "ticks": ""
           },
           "baxis": {
            "gridcolor": "white",
            "linecolor": "white",
            "ticks": ""
           },
           "bgcolor": "#E5ECF6",
           "caxis": {
            "gridcolor": "white",
            "linecolor": "white",
            "ticks": ""
           }
          },
          "title": {
           "x": 0.05
          },
          "xaxis": {
           "automargin": true,
           "gridcolor": "white",
           "linecolor": "white",
           "ticks": "",
           "title": {
            "standoff": 15
           },
           "zerolinecolor": "white",
           "zerolinewidth": 2
          },
          "yaxis": {
           "automargin": true,
           "gridcolor": "white",
           "linecolor": "white",
           "ticks": "",
           "title": {
            "standoff": 15
           },
           "zerolinecolor": "white",
           "zerolinewidth": 2
          }
         }
        },
        "title": {
         "text": "Interactive Spearman Correlation Matrix<br><sub>Hover for detailed statistics</sub>"
        },
        "width": 800,
        "xaxis": {
         "title": {
          "text": "Variables"
         }
        },
        "yaxis": {
         "title": {
          "text": "Variables"
         }
        }
       }
      }
     },
     "metadata": {},
     "output_type": "display_data"
    },
    {
     "data": {
      "application/vnd.plotly.v1+json": {
       "config": {
        "plotlyServerURL": "https://plot.ly"
       },
       "data": [
        {
         "colorscale": [
          [
           0,
           "rgb(5,48,97)"
          ],
          [
           0.1,
           "rgb(33,102,172)"
          ],
          [
           0.2,
           "rgb(67,147,195)"
          ],
          [
           0.3,
           "rgb(146,197,222)"
          ],
          [
           0.4,
           "rgb(209,229,240)"
          ],
          [
           0.5,
           "rgb(247,247,247)"
          ],
          [
           0.6,
           "rgb(253,219,199)"
          ],
          [
           0.7,
           "rgb(244,165,130)"
          ],
          [
           0.8,
           "rgb(214,96,77)"
          ],
          [
           0.9,
           "rgb(178,24,43)"
          ],
          [
           1,
           "rgb(103,0,31)"
          ]
         ],
         "hovertemplate": "%{hovertext}<extra></extra>",
         "hovertext": [
          [
           "Variable: GDP_Growth<br>Perfect correlation: 1.000",
           "Variables: GDP_Growth vs Unemployment_Rate<br>Correlation: -0.4297<br>R-squared: 0.1846<br>Sample size: 1000<br>Strength: Moderate",
           "Variables: GDP_Growth vs Inflation_Rate<br>Correlation: 0.4151<br>R-squared: 0.1723<br>Sample size: 1000<br>Strength: Moderate",
           "Variables: GDP_Growth vs Consumer_Confidence<br>Correlation: 0.5848<br>R-squared: 0.3420<br>Sample size: 1000<br>Strength: Moderate",
           "Variables: GDP_Growth vs Stock_Returns<br>Correlation: 0.7713<br>R-squared: 0.5949<br>Sample size: 1000<br>Strength: Strong",
           "Variables: GDP_Growth vs Interest_Rates<br>Correlation: 0.3106<br>R-squared: 0.0964<br>Sample size: 1000<br>Strength: Moderate",
           "Variables: GDP_Growth vs Retail_Sales_Index<br>Correlation: 0.5851<br>R-squared: 0.3424<br>Sample size: 1000<br>Strength: Moderate",
           "Variables: GDP_Growth vs Housing_Price_Index<br>Correlation: 0.4309<br>R-squared: 0.1857<br>Sample size: 1000<br>Strength: Moderate",
           "Variables: GDP_Growth vs Tech_Investment<br>Correlation: 0.7855<br>R-squared: 0.6171<br>Sample size: 1000<br>Strength: Strong",
           "Variables: GDP_Growth vs Productivity_Index<br>Correlation: 0.7106<br>R-squared: 0.5050<br>Sample size: 1000<br>Strength: Strong"
          ],
          [
           "Variables: Unemployment_Rate vs GDP_Growth<br>Correlation: -0.4297<br>R-squared: 0.1846<br>Sample size: 1000<br>Strength: Moderate",
           "Variable: Unemployment_Rate<br>Perfect correlation: 1.000",
           "Variables: Unemployment_Rate vs Inflation_Rate<br>Correlation: -0.2490<br>R-squared: 0.0620<br>Sample size: 1000<br>Strength: Weak",
           "Variables: Unemployment_Rate vs Consumer_Confidence<br>Correlation: -0.4591<br>R-squared: 0.2108<br>Sample size: 1000<br>Strength: Moderate",
           "Variables: Unemployment_Rate vs Stock_Returns<br>Correlation: -0.5761<br>R-squared: 0.3319<br>Sample size: 1000<br>Strength: Moderate",
           "Variables: Unemployment_Rate vs Interest_Rates<br>Correlation: -0.1817<br>R-squared: 0.0330<br>Sample size: 1000<br>Strength: Weak",
           "Variables: Unemployment_Rate vs Retail_Sales_Index<br>Correlation: -0.3971<br>R-squared: 0.1577<br>Sample size: 1000<br>Strength: Moderate",
           "Variables: Unemployment_Rate vs Housing_Price_Index<br>Correlation: -0.2285<br>R-squared: 0.0522<br>Sample size: 1000<br>Strength: Weak",
           "Variables: Unemployment_Rate vs Tech_Investment<br>Correlation: -0.5527<br>R-squared: 0.3054<br>Sample size: 1000<br>Strength: Moderate",
           "Variables: Unemployment_Rate vs Productivity_Index<br>Correlation: -0.5082<br>R-squared: 0.2583<br>Sample size: 1000<br>Strength: Moderate"
          ],
          [
           "Variables: Inflation_Rate vs GDP_Growth<br>Correlation: 0.4151<br>R-squared: 0.1723<br>Sample size: 1000<br>Strength: Moderate",
           "Variables: Inflation_Rate vs Unemployment_Rate<br>Correlation: -0.2490<br>R-squared: 0.0620<br>Sample size: 1000<br>Strength: Weak",
           "Variable: Inflation_Rate<br>Perfect correlation: 1.000",
           "Variables: Inflation_Rate vs Consumer_Confidence<br>Correlation: 0.3369<br>R-squared: 0.1135<br>Sample size: 1000<br>Strength: Moderate",
           "Variables: Inflation_Rate vs Stock_Returns<br>Correlation: 0.3938<br>R-squared: 0.1551<br>Sample size: 1000<br>Strength: Moderate",
           "Variables: Inflation_Rate vs Interest_Rates<br>Correlation: 0.5656<br>R-squared: 0.3199<br>Sample size: 1000<br>Strength: Moderate",
           "Variables: Inflation_Rate vs Retail_Sales_Index<br>Correlation: 0.3221<br>R-squared: 0.1037<br>Sample size: 1000<br>Strength: Moderate",
           "Variables: Inflation_Rate vs Housing_Price_Index<br>Correlation: 0.1831<br>R-squared: 0.0335<br>Sample size: 1000<br>Strength: Weak",
           "Variables: Inflation_Rate vs Tech_Investment<br>Correlation: 0.3949<br>R-squared: 0.1559<br>Sample size: 1000<br>Strength: Moderate",
           "Variables: Inflation_Rate vs Productivity_Index<br>Correlation: 0.3760<br>R-squared: 0.1414<br>Sample size: 1000<br>Strength: Moderate"
          ],
          [
           "Variables: Consumer_Confidence vs GDP_Growth<br>Correlation: 0.5848<br>R-squared: 0.3420<br>Sample size: 1000<br>Strength: Moderate",
           "Variables: Consumer_Confidence vs Unemployment_Rate<br>Correlation: -0.4591<br>R-squared: 0.2108<br>Sample size: 1000<br>Strength: Moderate",
           "Variables: Consumer_Confidence vs Inflation_Rate<br>Correlation: 0.3369<br>R-squared: 0.1135<br>Sample size: 1000<br>Strength: Moderate",
           "Variable: Consumer_Confidence<br>Perfect correlation: 1.000",
           "Variables: Consumer_Confidence vs Stock_Returns<br>Correlation: 0.5892<br>R-squared: 0.3472<br>Sample size: 1000<br>Strength: Moderate",
           "Variables: Consumer_Confidence vs Interest_Rates<br>Correlation: 0.2631<br>R-squared: 0.0692<br>Sample size: 1000<br>Strength: Weak",
           "Variables: Consumer_Confidence vs Retail_Sales_Index<br>Correlation: 0.6315<br>R-squared: 0.3989<br>Sample size: 1000<br>Strength: Moderate",
           "Variables: Consumer_Confidence vs Housing_Price_Index<br>Correlation: 0.3193<br>R-squared: 0.1019<br>Sample size: 1000<br>Strength: Moderate",
           "Variables: Consumer_Confidence vs Tech_Investment<br>Correlation: 0.5874<br>R-squared: 0.3450<br>Sample size: 1000<br>Strength: Moderate",
           "Variables: Consumer_Confidence vs Productivity_Index<br>Correlation: 0.5365<br>R-squared: 0.2878<br>Sample size: 1000<br>Strength: Moderate"
          ],
          [
           "Variables: Stock_Returns vs GDP_Growth<br>Correlation: 0.7713<br>R-squared: 0.5949<br>Sample size: 1000<br>Strength: Strong",
           "Variables: Stock_Returns vs Unemployment_Rate<br>Correlation: -0.5761<br>R-squared: 0.3319<br>Sample size: 1000<br>Strength: Moderate",
           "Variables: Stock_Returns vs Inflation_Rate<br>Correlation: 0.3938<br>R-squared: 0.1551<br>Sample size: 1000<br>Strength: Moderate",
           "Variables: Stock_Returns vs Consumer_Confidence<br>Correlation: 0.5892<br>R-squared: 0.3472<br>Sample size: 1000<br>Strength: Moderate",
           "Variable: Stock_Returns<br>Perfect correlation: 1.000",
           "Variables: Stock_Returns vs Interest_Rates<br>Correlation: 0.2874<br>R-squared: 0.0826<br>Sample size: 1000<br>Strength: Weak",
           "Variables: Stock_Returns vs Retail_Sales_Index<br>Correlation: 0.5652<br>R-squared: 0.3195<br>Sample size: 1000<br>Strength: Moderate",
           "Variables: Stock_Returns vs Housing_Price_Index<br>Correlation: 0.3945<br>R-squared: 0.1556<br>Sample size: 1000<br>Strength: Moderate",
           "Variables: Stock_Returns vs Tech_Investment<br>Correlation: 0.9057<br>R-squared: 0.8204<br>Sample size: 1000<br>Strength: Strong",
           "Variables: Stock_Returns vs Productivity_Index<br>Correlation: 0.7806<br>R-squared: 0.6094<br>Sample size: 1000<br>Strength: Strong"
          ],
          [
           "Variables: Interest_Rates vs GDP_Growth<br>Correlation: 0.3106<br>R-squared: 0.0964<br>Sample size: 1000<br>Strength: Moderate",
           "Variables: Interest_Rates vs Unemployment_Rate<br>Correlation: -0.1817<br>R-squared: 0.0330<br>Sample size: 1000<br>Strength: Weak",
           "Variables: Interest_Rates vs Inflation_Rate<br>Correlation: 0.5656<br>R-squared: 0.3199<br>Sample size: 1000<br>Strength: Moderate",
           "Variables: Interest_Rates vs Consumer_Confidence<br>Correlation: 0.2631<br>R-squared: 0.0692<br>Sample size: 1000<br>Strength: Weak",
           "Variables: Interest_Rates vs Stock_Returns<br>Correlation: 0.2874<br>R-squared: 0.0826<br>Sample size: 1000<br>Strength: Weak",
           "Variable: Interest_Rates<br>Perfect correlation: 1.000",
           "Variables: Interest_Rates vs Retail_Sales_Index<br>Correlation: 0.2491<br>R-squared: 0.0620<br>Sample size: 1000<br>Strength: Weak",
           "Variables: Interest_Rates vs Housing_Price_Index<br>Correlation: 0.1148<br>R-squared: 0.0132<br>Sample size: 1000<br>Strength: Weak",
           "Variables: Interest_Rates vs Tech_Investment<br>Correlation: 0.2872<br>R-squared: 0.0825<br>Sample size: 1000<br>Strength: Weak",
           "Variables: Interest_Rates vs Productivity_Index<br>Correlation: 0.2768<br>R-squared: 0.0766<br>Sample size: 1000<br>Strength: Weak"
          ],
          [
           "Variables: Retail_Sales_Index vs GDP_Growth<br>Correlation: 0.5851<br>R-squared: 0.3424<br>Sample size: 1000<br>Strength: Moderate",
           "Variables: Retail_Sales_Index vs Unemployment_Rate<br>Correlation: -0.3971<br>R-squared: 0.1577<br>Sample size: 1000<br>Strength: Moderate",
           "Variables: Retail_Sales_Index vs Inflation_Rate<br>Correlation: 0.3221<br>R-squared: 0.1037<br>Sample size: 1000<br>Strength: Moderate",
           "Variables: Retail_Sales_Index vs Consumer_Confidence<br>Correlation: 0.6315<br>R-squared: 0.3989<br>Sample size: 1000<br>Strength: Moderate",
           "Variables: Retail_Sales_Index vs Stock_Returns<br>Correlation: 0.5652<br>R-squared: 0.3195<br>Sample size: 1000<br>Strength: Moderate",
           "Variables: Retail_Sales_Index vs Interest_Rates<br>Correlation: 0.2491<br>R-squared: 0.0620<br>Sample size: 1000<br>Strength: Weak",
           "Variable: Retail_Sales_Index<br>Perfect correlation: 1.000",
           "Variables: Retail_Sales_Index vs Housing_Price_Index<br>Correlation: 0.3222<br>R-squared: 0.1038<br>Sample size: 1000<br>Strength: Moderate",
           "Variables: Retail_Sales_Index vs Tech_Investment<br>Correlation: 0.5653<br>R-squared: 0.3196<br>Sample size: 1000<br>Strength: Moderate",
           "Variables: Retail_Sales_Index vs Productivity_Index<br>Correlation: 0.5229<br>R-squared: 0.2735<br>Sample size: 1000<br>Strength: Moderate"
          ],
          [
           "Variables: Housing_Price_Index vs GDP_Growth<br>Correlation: 0.4309<br>R-squared: 0.1857<br>Sample size: 1000<br>Strength: Moderate",
           "Variables: Housing_Price_Index vs Unemployment_Rate<br>Correlation: -0.2285<br>R-squared: 0.0522<br>Sample size: 1000<br>Strength: Weak",
           "Variables: Housing_Price_Index vs Inflation_Rate<br>Correlation: 0.1831<br>R-squared: 0.0335<br>Sample size: 1000<br>Strength: Weak",
           "Variables: Housing_Price_Index vs Consumer_Confidence<br>Correlation: 0.3193<br>R-squared: 0.1019<br>Sample size: 1000<br>Strength: Moderate",
           "Variables: Housing_Price_Index vs Stock_Returns<br>Correlation: 0.3945<br>R-squared: 0.1556<br>Sample size: 1000<br>Strength: Moderate",
           "Variables: Housing_Price_Index vs Interest_Rates<br>Correlation: 0.1148<br>R-squared: 0.0132<br>Sample size: 1000<br>Strength: Weak",
           "Variables: Housing_Price_Index vs Retail_Sales_Index<br>Correlation: 0.3222<br>R-squared: 0.1038<br>Sample size: 1000<br>Strength: Moderate",
           "Variable: Housing_Price_Index<br>Perfect correlation: 1.000",
           "Variables: Housing_Price_Index vs Tech_Investment<br>Correlation: 0.4027<br>R-squared: 0.1622<br>Sample size: 1000<br>Strength: Moderate",
           "Variables: Housing_Price_Index vs Productivity_Index<br>Correlation: 0.3738<br>R-squared: 0.1397<br>Sample size: 1000<br>Strength: Moderate"
          ],
          [
           "Variables: Tech_Investment vs GDP_Growth<br>Correlation: 0.7855<br>R-squared: 0.6171<br>Sample size: 1000<br>Strength: Strong",
           "Variables: Tech_Investment vs Unemployment_Rate<br>Correlation: -0.5527<br>R-squared: 0.3054<br>Sample size: 1000<br>Strength: Moderate",
           "Variables: Tech_Investment vs Inflation_Rate<br>Correlation: 0.3949<br>R-squared: 0.1559<br>Sample size: 1000<br>Strength: Moderate",
           "Variables: Tech_Investment vs Consumer_Confidence<br>Correlation: 0.5874<br>R-squared: 0.3450<br>Sample size: 1000<br>Strength: Moderate",
           "Variables: Tech_Investment vs Stock_Returns<br>Correlation: 0.9057<br>R-squared: 0.8204<br>Sample size: 1000<br>Strength: Strong",
           "Variables: Tech_Investment vs Interest_Rates<br>Correlation: 0.2872<br>R-squared: 0.0825<br>Sample size: 1000<br>Strength: Weak",
           "Variables: Tech_Investment vs Retail_Sales_Index<br>Correlation: 0.5653<br>R-squared: 0.3196<br>Sample size: 1000<br>Strength: Moderate",
           "Variables: Tech_Investment vs Housing_Price_Index<br>Correlation: 0.4027<br>R-squared: 0.1622<br>Sample size: 1000<br>Strength: Moderate",
           "Variable: Tech_Investment<br>Perfect correlation: 1.000",
           "Variables: Tech_Investment vs Productivity_Index<br>Correlation: 0.7964<br>R-squared: 0.6343<br>Sample size: 1000<br>Strength: Strong"
          ],
          [
           "Variables: Productivity_Index vs GDP_Growth<br>Correlation: 0.7106<br>R-squared: 0.5050<br>Sample size: 1000<br>Strength: Strong",
           "Variables: Productivity_Index vs Unemployment_Rate<br>Correlation: -0.5082<br>R-squared: 0.2583<br>Sample size: 1000<br>Strength: Moderate",
           "Variables: Productivity_Index vs Inflation_Rate<br>Correlation: 0.3760<br>R-squared: 0.1414<br>Sample size: 1000<br>Strength: Moderate",
           "Variables: Productivity_Index vs Consumer_Confidence<br>Correlation: 0.5365<br>R-squared: 0.2878<br>Sample size: 1000<br>Strength: Moderate",
           "Variables: Productivity_Index vs Stock_Returns<br>Correlation: 0.7806<br>R-squared: 0.6094<br>Sample size: 1000<br>Strength: Strong",
           "Variables: Productivity_Index vs Interest_Rates<br>Correlation: 0.2768<br>R-squared: 0.0766<br>Sample size: 1000<br>Strength: Weak",
           "Variables: Productivity_Index vs Retail_Sales_Index<br>Correlation: 0.5229<br>R-squared: 0.2735<br>Sample size: 1000<br>Strength: Moderate",
           "Variables: Productivity_Index vs Housing_Price_Index<br>Correlation: 0.3738<br>R-squared: 0.1397<br>Sample size: 1000<br>Strength: Moderate",
           "Variables: Productivity_Index vs Tech_Investment<br>Correlation: 0.7964<br>R-squared: 0.6343<br>Sample size: 1000<br>Strength: Strong",
           "Variable: Productivity_Index<br>Perfect correlation: 1.000"
          ]
         ],
         "text": {
          "bdata": "AAAAAAAA8D+F61G4HoXbv4/C9Shcj9o/uB6F61G44j956SYxCKzoP4GVQ4ts59M/uB6F61G44j8v3SQGgZXbP/T91HjpJuk/jZduEoPA5j+F61G4HoXbvwAAAAAAAPA/rBxaZDvfz7/HSzeJQWDdvzvfT42XbuK/sp3vp8ZLx7+cxCCwcmjZv8l2vp8aL82/GQRWDi2y4b+oxks3iUHgv4/C9Shcj9o/rBxaZDvfz78AAAAAAADwP8UgsHJokdU/nu+nxks32T/pJjEIrBziP8/3U+Olm9Q/BoGVQ4tsxz9I4XoUrkfZP6rx0k1iENg/uB6F61G44j/HSzeJQWDdv8UgsHJokdU/AAAAAAAA8D8MAiuHFtniP6JFtvP91NA/001iEFg55D/RItv5fmrUP2IQWDm0yOI/9P3UeOkm4T956SYxCKzoPzvfT42XbuK/nu+nxks32T8MAiuHFtniPwAAAAAAAPA/ke18PzVe0j8UrkfhehTiP57vp8ZLN9k/y6FFtvP97D/LoUW28/3oP4GVQ4ts59M/sp3vp8ZLx7/pJjEIrBziP6JFtvP91NA/ke18PzVe0j8AAAAAAADwP6wcWmQ7388/cT0K16NwvT+R7Xw/NV7SP+58PzVeutE/uB6F61G44j+cxCCwcmjZv8/3U+Olm9Q/001iEFg55D8UrkfhehTiP6wcWmQ7388/AAAAAAAA8D/P91PjpZvUPxSuR+F6FOI/I9v5fmq84D8v3SQGgZXbP8l2vp8aL82/BoGVQ4tsxz/RItv5fmrUP57vp8ZLN9k/cT0K16NwvT/P91PjpZvUPwAAAAAAAPA/mG4Sg8DK2T9WDi2yne/XP/T91HjpJuk/GQRWDi2y4b9I4XoUrkfZP2IQWDm0yOI/y6FFtvP97D+R7Xw/NV7SPxSuR+F6FOI/mG4Sg8DK2T8AAAAAAADwP0a28/3UeOk/jZduEoPA5j+oxks3iUHgv6rx0k1iENg/9P3UeOkm4T/LoUW28/3oP+58PzVeutE/I9v5fmq84D9WDi2yne/XP0a28/3UeOk/AAAAAAAA8D8=",
          "dtype": "f8",
          "shape": "10, 10"
         },
         "textfont": {
          "size": 10
         },
         "texttemplate": "%{text}",
         "type": "heatmap",
         "x": [
          "GDP_Growth",
          "Unemployment_Rate",
          "Inflation_Rate",
          "Consumer_Confidence",
          "Stock_Returns",
          "Interest_Rates",
          "Retail_Sales_Index",
          "Housing_Price_Index",
          "Tech_Investment",
          "Productivity_Index"
         ],
         "y": [
          "GDP_Growth",
          "Unemployment_Rate",
          "Inflation_Rate",
          "Consumer_Confidence",
          "Stock_Returns",
          "Interest_Rates",
          "Retail_Sales_Index",
          "Housing_Price_Index",
          "Tech_Investment",
          "Productivity_Index"
         ],
         "z": {
          "bdata": "AAAAAAAA8D/w4I9rpH/bv2o4RjnakNo/E5xUWPO24j/kis4WQa7oP2ikl2oP4NM/HhdctYq54j+cSDKQ+pPbP9UCjjgXI+k/joo63Fq95j/w4I9rpH/bvwAAAAAAAPA/g26n6PPdz78whEPOrmHdv3M7C6uCb+K/MUvRHGVCx7+DOkatwmrZv+2qDT8xPs2/IHeMzm2v4b/CxvUQLUPgv2o4RjnakNo/g26n6PPdz78AAAAAAADwP+uqX2Lqj9U/sPkX05I02T9n7nrpmhniP01e08AfndQ/SKokCTxxxz988MyAPEXZP6oaOXP5ENg/E5xUWPO24j8whEPOrmHdv+uqX2Lqj9U/AAAAAAAA8D8NvZJyENviP9Fz02Wu1tA/PL7SM6M15D9vMtXMnG7UPz8Yqg+Vy+I/fd9bs/oq4T/kis4WQa7oP3M7C6uCb+K/sPkX05I02T8NvZJyENviPwAAAAAAAPA/SSaHEY5k0j9dSg1nbBbiP2nRV6F2P9k/gMVKtc377D+a4SZ+4ProP2ikl2oP4NM/MUvRHGVCx79n7nrpmhniP9Fz02Wu1tA/SSaHEY5k0j8AAAAAAADwP/J46m744M8/oBNU5O1ivT9Mgu57MWLSP6ROeOkJt9E/HhdctYq54j+DOkatwmrZv01e08AfndQ/PL7SM6M15D9dSg1nbBbiP/J46m744M8/AAAAAAAA8D8vKyiib57UP7ErQO41F+I/diorQNG74D+cSDKQ+pPbP+2qDT8xPs2/SKokCTxxxz9vMtXMnG7UP2nRV6F2P9k/oBNU5O1ivT8vKyiib57UPwAAAAAAAPA/CeS6LK/F2T+hIoyRoezXP9UCjjgXI+k/IHeMzm2v4b988MyAPEXZPz8Yqg+Vy+I/gMVKtc377D9Mgu57MWLSP7ErQO41F+I/CeS6LK/F2T8AAAAAAADwP0KsWN5ffOk/joo63Fq95j/CxvUQLUPgv6oaOXP5ENg/fd9bs/oq4T+a4SZ+4ProP6ROeOkJt9E/diorQNG74D+hIoyRoezXP0KsWN5ffOk/AAAAAAAA8D8=",
          "dtype": "f8",
          "shape": "10, 10"
         },
         "zmid": 0
        }
       ],
       "layout": {
        "height": 600,
        "template": {
         "data": {
          "bar": [
           {
            "error_x": {
             "color": "#2a3f5f"
            },
            "error_y": {
             "color": "#2a3f5f"
            },
            "marker": {
             "line": {
              "color": "#E5ECF6",
              "width": 0.5
             },
             "pattern": {
              "fillmode": "overlay",
              "size": 10,
              "solidity": 0.2
             }
            },
            "type": "bar"
           }
          ],
          "barpolar": [
           {
            "marker": {
             "line": {
              "color": "#E5ECF6",
              "width": 0.5
             },
             "pattern": {
              "fillmode": "overlay",
              "size": 10,
              "solidity": 0.2
             }
            },
            "type": "barpolar"
           }
          ],
          "carpet": [
           {
            "aaxis": {
             "endlinecolor": "#2a3f5f",
             "gridcolor": "white",
             "linecolor": "white",
             "minorgridcolor": "white",
             "startlinecolor": "#2a3f5f"
            },
            "baxis": {
             "endlinecolor": "#2a3f5f",
             "gridcolor": "white",
             "linecolor": "white",
             "minorgridcolor": "white",
             "startlinecolor": "#2a3f5f"
            },
            "type": "carpet"
           }
          ],
          "choropleth": [
           {
            "colorbar": {
             "outlinewidth": 0,
             "ticks": ""
            },
            "type": "choropleth"
           }
          ],
          "contour": [
           {
            "colorbar": {
             "outlinewidth": 0,
             "ticks": ""
            },
            "colorscale": [
             [
              0,
              "#0d0887"
             ],
             [
              0.1111111111111111,
              "#46039f"
             ],
             [
              0.2222222222222222,
              "#7201a8"
             ],
             [
              0.3333333333333333,
              "#9c179e"
             ],
             [
              0.4444444444444444,
              "#bd3786"
             ],
             [
              0.5555555555555556,
              "#d8576b"
             ],
             [
              0.6666666666666666,
              "#ed7953"
             ],
             [
              0.7777777777777778,
              "#fb9f3a"
             ],
             [
              0.8888888888888888,
              "#fdca26"
             ],
             [
              1,
              "#f0f921"
             ]
            ],
            "type": "contour"
           }
          ],
          "contourcarpet": [
           {
            "colorbar": {
             "outlinewidth": 0,
             "ticks": ""
            },
            "type": "contourcarpet"
           }
          ],
          "heatmap": [
           {
            "colorbar": {
             "outlinewidth": 0,
             "ticks": ""
            },
            "colorscale": [
             [
              0,
              "#0d0887"
             ],
             [
              0.1111111111111111,
              "#46039f"
             ],
             [
              0.2222222222222222,
              "#7201a8"
             ],
             [
              0.3333333333333333,
              "#9c179e"
             ],
             [
              0.4444444444444444,
              "#bd3786"
             ],
             [
              0.5555555555555556,
              "#d8576b"
             ],
             [
              0.6666666666666666,
              "#ed7953"
             ],
             [
              0.7777777777777778,
              "#fb9f3a"
             ],
             [
              0.8888888888888888,
              "#fdca26"
             ],
             [
              1,
              "#f0f921"
             ]
            ],
            "type": "heatmap"
           }
          ],
          "histogram": [
           {
            "marker": {
             "pattern": {
              "fillmode": "overlay",
              "size": 10,
              "solidity": 0.2
             }
            },
            "type": "histogram"
           }
          ],
          "histogram2d": [
           {
            "colorbar": {
             "outlinewidth": 0,
             "ticks": ""
            },
            "colorscale": [
             [
              0,
              "#0d0887"
             ],
             [
              0.1111111111111111,
              "#46039f"
             ],
             [
              0.2222222222222222,
              "#7201a8"
             ],
             [
              0.3333333333333333,
              "#9c179e"
             ],
             [
              0.4444444444444444,
              "#bd3786"
             ],
             [
              0.5555555555555556,
              "#d8576b"
             ],
             [
              0.6666666666666666,
              "#ed7953"
             ],
             [
              0.7777777777777778,
              "#fb9f3a"
             ],
             [
              0.8888888888888888,
              "#fdca26"
             ],
             [
              1,
              "#f0f921"
             ]
            ],
            "type": "histogram2d"
           }
          ],
          "histogram2dcontour": [
           {
            "colorbar": {
             "outlinewidth": 0,
             "ticks": ""
            },
            "colorscale": [
             [
              0,
              "#0d0887"
             ],
             [
              0.1111111111111111,
              "#46039f"
             ],
             [
              0.2222222222222222,
              "#7201a8"
             ],
             [
              0.3333333333333333,
              "#9c179e"
             ],
             [
              0.4444444444444444,
              "#bd3786"
             ],
             [
              0.5555555555555556,
              "#d8576b"
             ],
             [
              0.6666666666666666,
              "#ed7953"
             ],
             [
              0.7777777777777778,
              "#fb9f3a"
             ],
             [
              0.8888888888888888,
              "#fdca26"
             ],
             [
              1,
              "#f0f921"
             ]
            ],
            "type": "histogram2dcontour"
           }
          ],
          "mesh3d": [
           {
            "colorbar": {
             "outlinewidth": 0,
             "ticks": ""
            },
            "type": "mesh3d"
           }
          ],
          "parcoords": [
           {
            "line": {
             "colorbar": {
              "outlinewidth": 0,
              "ticks": ""
             }
            },
            "type": "parcoords"
           }
          ],
          "pie": [
           {
            "automargin": true,
            "type": "pie"
           }
          ],
          "scatter": [
           {
            "fillpattern": {
             "fillmode": "overlay",
             "size": 10,
             "solidity": 0.2
            },
            "type": "scatter"
           }
          ],
          "scatter3d": [
           {
            "line": {
             "colorbar": {
              "outlinewidth": 0,
              "ticks": ""
             }
            },
            "marker": {
             "colorbar": {
              "outlinewidth": 0,
              "ticks": ""
             }
            },
            "type": "scatter3d"
           }
          ],
          "scattercarpet": [
           {
            "marker": {
             "colorbar": {
              "outlinewidth": 0,
              "ticks": ""
             }
            },
            "type": "scattercarpet"
           }
          ],
          "scattergeo": [
           {
            "marker": {
             "colorbar": {
              "outlinewidth": 0,
              "ticks": ""
             }
            },
            "type": "scattergeo"
           }
          ],
          "scattergl": [
           {
            "marker": {
             "colorbar": {
              "outlinewidth": 0,
              "ticks": ""
             }
            },
            "type": "scattergl"
           }
          ],
          "scattermap": [
           {
            "marker": {
             "colorbar": {
              "outlinewidth": 0,
              "ticks": ""
             }
            },
            "type": "scattermap"
           }
          ],
          "scattermapbox": [
           {
            "marker": {
             "colorbar": {
              "outlinewidth": 0,
              "ticks": ""
             }
            },
            "type": "scattermapbox"
           }
          ],
          "scatterpolar": [
           {
            "marker": {
             "colorbar": {
              "outlinewidth": 0,
              "ticks": ""
             }
            },
            "type": "scatterpolar"
           }
          ],
          "scatterpolargl": [
           {
            "marker": {
             "colorbar": {
              "outlinewidth": 0,
              "ticks": ""
             }
            },
            "type": "scatterpolargl"
           }
          ],
          "scatterternary": [
           {
            "marker": {
             "colorbar": {
              "outlinewidth": 0,
              "ticks": ""
             }
            },
            "type": "scatterternary"
           }
          ],
          "surface": [
           {
            "colorbar": {
             "outlinewidth": 0,
             "ticks": ""
            },
            "colorscale": [
             [
              0,
              "#0d0887"
             ],
             [
              0.1111111111111111,
              "#46039f"
             ],
             [
              0.2222222222222222,
              "#7201a8"
             ],
             [
              0.3333333333333333,
              "#9c179e"
             ],
             [
              0.4444444444444444,
              "#bd3786"
             ],
             [
              0.5555555555555556,
              "#d8576b"
             ],
             [
              0.6666666666666666,
              "#ed7953"
             ],
             [
              0.7777777777777778,
              "#fb9f3a"
             ],
             [
              0.8888888888888888,
              "#fdca26"
             ],
             [
              1,
              "#f0f921"
             ]
            ],
            "type": "surface"
           }
          ],
          "table": [
           {
            "cells": {
             "fill": {
              "color": "#EBF0F8"
             },
             "line": {
              "color": "white"
             }
            },
            "header": {
             "fill": {
              "color": "#C8D4E3"
             },
             "line": {
              "color": "white"
             }
            },
            "type": "table"
           }
          ]
         },
         "layout": {
          "annotationdefaults": {
           "arrowcolor": "#2a3f5f",
           "arrowhead": 0,
           "arrowwidth": 1
          },
          "autotypenumbers": "strict",
          "coloraxis": {
           "colorbar": {
            "outlinewidth": 0,
            "ticks": ""
           }
          },
          "colorscale": {
           "diverging": [
            [
             0,
             "#8e0152"
            ],
            [
             0.1,
             "#c51b7d"
            ],
            [
             0.2,
             "#de77ae"
            ],
            [
             0.3,
             "#f1b6da"
            ],
            [
             0.4,
             "#fde0ef"
            ],
            [
             0.5,
             "#f7f7f7"
            ],
            [
             0.6,
             "#e6f5d0"
            ],
            [
             0.7,
             "#b8e186"
            ],
            [
             0.8,
             "#7fbc41"
            ],
            [
             0.9,
             "#4d9221"
            ],
            [
             1,
             "#276419"
            ]
           ],
           "sequential": [
            [
             0,
             "#0d0887"
            ],
            [
             0.1111111111111111,
             "#46039f"
            ],
            [
             0.2222222222222222,
             "#7201a8"
            ],
            [
             0.3333333333333333,
             "#9c179e"
            ],
            [
             0.4444444444444444,
             "#bd3786"
            ],
            [
             0.5555555555555556,
             "#d8576b"
            ],
            [
             0.6666666666666666,
             "#ed7953"
            ],
            [
             0.7777777777777778,
             "#fb9f3a"
            ],
            [
             0.8888888888888888,
             "#fdca26"
            ],
            [
             1,
             "#f0f921"
            ]
           ],
           "sequentialminus": [
            [
             0,
             "#0d0887"
            ],
            [
             0.1111111111111111,
             "#46039f"
            ],
            [
             0.2222222222222222,
             "#7201a8"
            ],
            [
             0.3333333333333333,
             "#9c179e"
            ],
            [
             0.4444444444444444,
             "#bd3786"
            ],
            [
             0.5555555555555556,
             "#d8576b"
            ],
            [
             0.6666666666666666,
             "#ed7953"
            ],
            [
             0.7777777777777778,
             "#fb9f3a"
            ],
            [
             0.8888888888888888,
             "#fdca26"
            ],
            [
             1,
             "#f0f921"
            ]
           ]
          },
          "colorway": [
           "#636efa",
           "#EF553B",
           "#00cc96",
           "#ab63fa",
           "#FFA15A",
           "#19d3f3",
           "#FF6692",
           "#B6E880",
           "#FF97FF",
           "#FECB52"
          ],
          "font": {
           "color": "#2a3f5f"
          },
          "geo": {
           "bgcolor": "white",
           "lakecolor": "white",
           "landcolor": "#E5ECF6",
           "showlakes": true,
           "showland": true,
           "subunitcolor": "white"
          },
          "hoverlabel": {
           "align": "left"
          },
          "hovermode": "closest",
          "mapbox": {
           "style": "light"
          },
          "paper_bgcolor": "white",
          "plot_bgcolor": "#E5ECF6",
          "polar": {
           "angularaxis": {
            "gridcolor": "white",
            "linecolor": "white",
            "ticks": ""
           },
           "bgcolor": "#E5ECF6",
           "radialaxis": {
            "gridcolor": "white",
            "linecolor": "white",
            "ticks": ""
           }
          },
          "scene": {
           "xaxis": {
            "backgroundcolor": "#E5ECF6",
            "gridcolor": "white",
            "gridwidth": 2,
            "linecolor": "white",
            "showbackground": true,
            "ticks": "",
            "zerolinecolor": "white"
           },
           "yaxis": {
            "backgroundcolor": "#E5ECF6",
            "gridcolor": "white",
            "gridwidth": 2,
            "linecolor": "white",
            "showbackground": true,
            "ticks": "",
            "zerolinecolor": "white"
           },
           "zaxis": {
            "backgroundcolor": "#E5ECF6",
            "gridcolor": "white",
            "gridwidth": 2,
            "linecolor": "white",
            "showbackground": true,
            "ticks": "",
            "zerolinecolor": "white"
           }
          },
          "shapedefaults": {
           "line": {
            "color": "#2a3f5f"
           }
          },
          "ternary": {
           "aaxis": {
            "gridcolor": "white",
            "linecolor": "white",
            "ticks": ""
           },
           "baxis": {
            "gridcolor": "white",
            "linecolor": "white",
            "ticks": ""
           },
           "bgcolor": "#E5ECF6",
           "caxis": {
            "gridcolor": "white",
            "linecolor": "white",
            "ticks": ""
           }
          },
          "title": {
           "x": 0.05
          },
          "xaxis": {
           "automargin": true,
           "gridcolor": "white",
           "linecolor": "white",
           "ticks": "",
           "title": {
            "standoff": 15
           },
           "zerolinecolor": "white",
           "zerolinewidth": 2
          },
          "yaxis": {
           "automargin": true,
           "gridcolor": "white",
           "linecolor": "white",
           "ticks": "",
           "title": {
            "standoff": 15
           },
           "zerolinecolor": "white",
           "zerolinewidth": 2
          }
         }
        },
        "title": {
         "text": "Interactive Kendall Correlation Matrix<br><sub>Hover for detailed statistics</sub>"
        },
        "width": 800,
        "xaxis": {
         "title": {
          "text": "Variables"
         }
        },
        "yaxis": {
         "title": {
          "text": "Variables"
         }
        }
       }
      }
     },
     "metadata": {},
     "output_type": "display_data"
    }
   ],
   "source": [
    "# 4. INTERACTIVE CORRELATION EXPLORER\n",
    "print(\"\\n 4. INTERACTIVE CORRELATION EXPLORER\")\n",
    "print(\"=\" * 50)\n",
    "\n",
    "# Create interactive correlation matrix with drill-down capability\n",
    "def create_interactive_correlation_matrix(dataframe, method='pearson'):\n",
    "    \"\"\"Create an interactive correlation matrix with detailed hover information\"\"\"\n",
    "\n",
    "    # Calculate correlation matrix\n",
    "    corr_matrix = dataframe.corr(method=method)\n",
    "\n",
    "    # Create mask for upper triangle (optional)\n",
    "    mask = np.triu(np.ones_like(corr_matrix, dtype=bool))\n",
    "\n",
    "    # Create hover text with detailed statistics\n",
    "    hover_text = []\n",
    "    for i in range(len(corr_matrix.columns)):\n",
    "        hover_text.append([])\n",
    "        for j in range(len(corr_matrix.columns)):\n",
    "            if i != j:\n",
    "                var1, var2 = corr_matrix.columns[i], corr_matrix.columns[j]\n",
    "                corr_val = corr_matrix.iloc[i, j]\n",
    "\n",
    "                # Calculate additional statistics\n",
    "                x_data, y_data = dataframe[var1], dataframe[var2]\n",
    "                r_squared = corr_val ** 2\n",
    "\n",
    "                hover_info = (\n",
    "                    f\"Variables: {var1} vs {var2}<br>\"\n",
    "                    f\"Correlation: {corr_val:.4f}<br>\"\n",
    "                    f\"R-squared: {r_squared:.4f}<br>\"\n",
    "                    f\"Sample size: {len(x_data)}<br>\"\n",
    "                    f\"Strength: {'Strong' if abs(corr_val) >= 0.7 else 'Moderate' if abs(corr_val) >= 0.3 else 'Weak'}\"\n",
    "                )\n",
    "            else:\n",
    "                hover_info = f\"Variable: {corr_matrix.columns[i]}<br>Perfect correlation: 1.000\"\n",
    "\n",
    "            hover_text[i].append(hover_info)\n",
    "\n",
    "    # Create the heatmap\n",
    "    fig = go.Figure(data=go.Heatmap(\n",
    "        z=corr_matrix.values,\n",
    "        x=corr_matrix.columns,\n",
    "        y=corr_matrix.columns,\n",
    "        colorscale='RdBu_r',\n",
    "        zmid=0,\n",
    "        text=corr_matrix.round(3).values,\n",
    "        texttemplate=\"%{text}\",\n",
    "        textfont={\"size\": 10},\n",
    "        hovertemplate='%{hovertext}<extra></extra>',\n",
    "        hovertext=hover_text\n",
    "    ))\n",
    "\n",
    "    fig.update_layout(\n",
    "        title=f\"Interactive {method.title()} Correlation Matrix<br><sub>Hover for detailed statistics</sub>\",\n",
    "        xaxis_title=\"Variables\",\n",
    "        yaxis_title=\"Variables\",\n",
    "        width=800,\n",
    "        height=600\n",
    "    )\n",
    "\n",
    "    return fig\n",
    "\n",
    "# Create interactive matrices for all methods\n",
    "for method in ['pearson', 'spearman', 'kendall']:\n",
    "    fig = create_interactive_correlation_matrix(df, method)\n",
    "    fig.show()"
   ]
  },
  {
   "cell_type": "code",
   "execution_count": 18,
   "id": "67cfc3a1",
   "metadata": {},
   "outputs": [
    {
     "name": "stdout",
     "output_type": "stream",
     "text": [
      "\n",
      " 5. CORRELATION SIGNIFICANCE & CONFIDENCE INTERVALS\n",
      "==================================================\n"
     ]
    },
    {
     "data": {
      "application/vnd.plotly.v1+json": {
       "config": {
        "plotlyServerURL": "https://plot.ly"
       },
       "data": [
        {
         "error_x": {
          "array": {
           "bdata": "IEawSmuRpD8grdbx1bSWP+SJgVOSW64/gI2VgZvXdz9gaH2r5IOYPw==",
           "dtype": "f8"
          },
          "arrayminus": {
           "bdata": "IMX3O3IPoz+Aj6ng3AuZP4qwGbEfDK8/gJDKg6jSej8AxCa0cfqaPw==",
           "dtype": "f8"
          },
          "symmetric": false,
          "type": "data"
         },
         "hovertemplate": "<b>%{text}</b><br>Correlation: %{x:.3f}<br>CI: [%{error_x.arrayminus:.3f}, %{error_x.array:.3f}]<extra></extra>",
         "marker": {
          "size": 8
         },
         "mode": "markers",
         "name": "Pearson CI",
         "text": [
          "GDP_Growth vs Unemployment_Rate",
          "GDP_Growth vs Consumer_Confidence",
          "Interest_Rates vs Housing_Price_Index",
          "Tech_Investment vs Productivity_Index",
          "Inflation_Rate vs Interest_Rates"
         ],
         "type": "scatter",
         "x": {
          "bdata": "Djb+OY+j479+5AoqOkvpP2BpF2qSMMc/d55c/h5e7j8UQp691bDoPw==",
          "dtype": "f8"
         },
         "xaxis": "x",
         "y": [
          0,
          1,
          2,
          3,
          4
         ],
         "yaxis": "y"
        },
        {
         "error_x": {
          "array": {
           "bdata": "4Ev3l/3Hrz/gS/eX/cevP9xL95f9x68/0Ev3l/3Hrz/gS/eX/cevPw==",
           "dtype": "f8"
          },
          "arrayminus": {
           "bdata": "4Ev3l/3Hrz/gS/eX/cevP9pL95f9x68/4Ev3l/3Hrz/gS/eX/cevPw==",
           "dtype": "f8"
          },
          "symmetric": false,
          "type": "data"
         },
         "hovertemplate": "<b>%{text}</b><br>Correlation: %{x:.3f}<br>CI: [%{error_x.arrayminus:.3f}, %{error_x.array:.3f}]<extra></extra>",
         "marker": {
          "size": 8
         },
         "mode": "markers",
         "name": "Spearman CI",
         "text": [
          "GDP_Growth vs Unemployment_Rate",
          "GDP_Growth vs Consumer_Confidence",
          "Interest_Rates vs Housing_Price_Index",
          "Tech_Investment vs Productivity_Index",
          "Inflation_Rate vs Interest_Rates"
         ],
         "type": "scatter",
         "x": {
          "bdata": "gK1eFqhH47+kaZbOzgvpP9PpN0Ryp8U/DWMboUs47j8xH8+clEroPw==",
          "dtype": "f8"
         },
         "xaxis": "x",
         "y": [
          0,
          1,
          2,
          3,
          4
         ],
         "yaxis": "y"
        },
        {
         "error_x": {
          "array": {
           "bdata": "2Ev3l/3Hrz/gS/eX/cevP9hL95f9x68/4Ev3l/3Hrz/gS/eX/cevPw==",
           "dtype": "f8"
          },
          "arrayminus": {
           "bdata": "2Ev3l/3Hrz/gS/eX/cevP9pL95f9x68/4Ev3l/3Hrz/gS/eX/cevPw==",
           "dtype": "f8"
          },
          "symmetric": false,
          "type": "data"
         },
         "hovertemplate": "<b>%{text}</b><br>Correlation: %{x:.3f}<br>CI: [%{error_x.arrayminus:.3f}, %{error_x.array:.3f}]<extra></extra>",
         "marker": {
          "size": 8
         },
         "mode": "markers",
         "name": "Kendall CI",
         "text": [
          "GDP_Growth vs Unemployment_Rate",
          "GDP_Growth vs Consumer_Confidence",
          "Interest_Rates vs Housing_Price_Index",
          "Tech_Investment vs Productivity_Index",
          "Inflation_Rate vs Interest_Rates"
         ],
         "type": "scatter",
         "x": {
          "bdata": "8OCPa6R/278TnFRY87biP6ATVOTtYr0/QqxY3l986T9n7nrpmhniPw==",
          "dtype": "f8"
         },
         "xaxis": "x",
         "y": [
          0,
          1,
          2,
          3,
          4
         ],
         "yaxis": "y"
        },
        {
         "marker": {
          "color": "lightblue"
         },
         "name": "P-Values",
         "nbinsx": 20,
         "opacity": 0.7,
         "type": "histogram",
         "x": {
          "bdata": "xWV64L6XYSonj/7OYu1aKxL8ZtpEsPos+6BiXklEhBPWcgOiiWX0FFAqlI/n4wkdUgCxYtMMQT6HpWi1QspzPiVrT3ppVm0+AAAAAAAAAAAAAAAAAAAAAAAAAAAAAAAA0LA2nUzz6hZpwtGmOML/GJVntVipVkYf",
          "dtype": "f8"
         },
         "xaxis": "x2",
         "yaxis": "y2"
        },
        {
         "marker": {
          "color": [
           "blue",
           "red",
           "green"
          ]
         },
         "name": "Significant Correlations",
         "type": "bar",
         "x": [
          "Kendall",
          "Pearson",
          "Spearman"
         ],
         "xaxis": "x3",
         "y": {
          "bdata": "BQUF",
          "dtype": "i1"
         },
         "yaxis": "y3"
        },
        {
         "boxpoints": "outliers",
         "name": "Pearson",
         "type": "box",
         "xaxis": "x4",
         "y": {
          "bdata": "oAVUw27Qsz9QHkBpWeCnPzedTQLZs74/AA+wAiJViT8wFtIvK7+pPw==",
          "dtype": "f8"
         },
         "yaxis": "y4"
        },
        {
         "boxpoints": "outliers",
         "name": "Spearman",
         "type": "box",
         "xaxis": "x4",
         "y": {
          "bdata": "4Ev3l/3Hvz/gS/eX/ce/P9tL95f9x78/2Ev3l/3Hvz/gS/eX/ce/Pw==",
          "dtype": "f8"
         },
         "yaxis": "y4"
        },
        {
         "boxpoints": "outliers",
         "name": "Kendall",
         "type": "box",
         "xaxis": "x4",
         "y": {
          "bdata": "2Ev3l/3Hvz/gS/eX/ce/P9lL95f9x78/4Ev3l/3Hvz/gS/eX/ce/Pw==",
          "dtype": "f8"
         },
         "yaxis": "y4"
        }
       ],
       "layout": {
        "annotations": [
         {
          "font": {
           "size": 16
          },
          "showarrow": false,
          "text": "Correlation Confidence Intervals",
          "x": 0.225,
          "xanchor": "center",
          "xref": "paper",
          "y": 1,
          "yanchor": "bottom",
          "yref": "paper"
         },
         {
          "font": {
           "size": 16
          },
          "showarrow": false,
          "text": "P-Value Distribution",
          "x": 0.775,
          "xanchor": "center",
          "xref": "paper",
          "y": 1,
          "yanchor": "bottom",
          "yref": "paper"
         },
         {
          "font": {
           "size": 16
          },
          "showarrow": false,
          "text": "Significance by Method",
          "x": 0.225,
          "xanchor": "center",
          "xref": "paper",
          "y": 0.375,
          "yanchor": "bottom",
          "yref": "paper"
         },
         {
          "font": {
           "size": 16
          },
          "showarrow": false,
          "text": "Confidence Interval Widths",
          "x": 0.775,
          "xanchor": "center",
          "xref": "paper",
          "y": 0.375,
          "yanchor": "bottom",
          "yref": "paper"
         }
        ],
        "height": 800,
        "shapes": [
         {
          "line": {
           "color": "red",
           "dash": "dash"
          },
          "type": "line",
          "x0": 0.05,
          "x1": 0.05,
          "xref": "x2",
          "y0": 0,
          "y1": 1,
          "yref": "y2 domain"
         }
        ],
        "showlegend": true,
        "template": {
         "data": {
          "bar": [
           {
            "error_x": {
             "color": "#2a3f5f"
            },
            "error_y": {
             "color": "#2a3f5f"
            },
            "marker": {
             "line": {
              "color": "#E5ECF6",
              "width": 0.5
             },
             "pattern": {
              "fillmode": "overlay",
              "size": 10,
              "solidity": 0.2
             }
            },
            "type": "bar"
           }
          ],
          "barpolar": [
           {
            "marker": {
             "line": {
              "color": "#E5ECF6",
              "width": 0.5
             },
             "pattern": {
              "fillmode": "overlay",
              "size": 10,
              "solidity": 0.2
             }
            },
            "type": "barpolar"
           }
          ],
          "carpet": [
           {
            "aaxis": {
             "endlinecolor": "#2a3f5f",
             "gridcolor": "white",
             "linecolor": "white",
             "minorgridcolor": "white",
             "startlinecolor": "#2a3f5f"
            },
            "baxis": {
             "endlinecolor": "#2a3f5f",
             "gridcolor": "white",
             "linecolor": "white",
             "minorgridcolor": "white",
             "startlinecolor": "#2a3f5f"
            },
            "type": "carpet"
           }
          ],
          "choropleth": [
           {
            "colorbar": {
             "outlinewidth": 0,
             "ticks": ""
            },
            "type": "choropleth"
           }
          ],
          "contour": [
           {
            "colorbar": {
             "outlinewidth": 0,
             "ticks": ""
            },
            "colorscale": [
             [
              0,
              "#0d0887"
             ],
             [
              0.1111111111111111,
              "#46039f"
             ],
             [
              0.2222222222222222,
              "#7201a8"
             ],
             [
              0.3333333333333333,
              "#9c179e"
             ],
             [
              0.4444444444444444,
              "#bd3786"
             ],
             [
              0.5555555555555556,
              "#d8576b"
             ],
             [
              0.6666666666666666,
              "#ed7953"
             ],
             [
              0.7777777777777778,
              "#fb9f3a"
             ],
             [
              0.8888888888888888,
              "#fdca26"
             ],
             [
              1,
              "#f0f921"
             ]
            ],
            "type": "contour"
           }
          ],
          "contourcarpet": [
           {
            "colorbar": {
             "outlinewidth": 0,
             "ticks": ""
            },
            "type": "contourcarpet"
           }
          ],
          "heatmap": [
           {
            "colorbar": {
             "outlinewidth": 0,
             "ticks": ""
            },
            "colorscale": [
             [
              0,
              "#0d0887"
             ],
             [
              0.1111111111111111,
              "#46039f"
             ],
             [
              0.2222222222222222,
              "#7201a8"
             ],
             [
              0.3333333333333333,
              "#9c179e"
             ],
             [
              0.4444444444444444,
              "#bd3786"
             ],
             [
              0.5555555555555556,
              "#d8576b"
             ],
             [
              0.6666666666666666,
              "#ed7953"
             ],
             [
              0.7777777777777778,
              "#fb9f3a"
             ],
             [
              0.8888888888888888,
              "#fdca26"
             ],
             [
              1,
              "#f0f921"
             ]
            ],
            "type": "heatmap"
           }
          ],
          "histogram": [
           {
            "marker": {
             "pattern": {
              "fillmode": "overlay",
              "size": 10,
              "solidity": 0.2
             }
            },
            "type": "histogram"
           }
          ],
          "histogram2d": [
           {
            "colorbar": {
             "outlinewidth": 0,
             "ticks": ""
            },
            "colorscale": [
             [
              0,
              "#0d0887"
             ],
             [
              0.1111111111111111,
              "#46039f"
             ],
             [
              0.2222222222222222,
              "#7201a8"
             ],
             [
              0.3333333333333333,
              "#9c179e"
             ],
             [
              0.4444444444444444,
              "#bd3786"
             ],
             [
              0.5555555555555556,
              "#d8576b"
             ],
             [
              0.6666666666666666,
              "#ed7953"
             ],
             [
              0.7777777777777778,
              "#fb9f3a"
             ],
             [
              0.8888888888888888,
              "#fdca26"
             ],
             [
              1,
              "#f0f921"
             ]
            ],
            "type": "histogram2d"
           }
          ],
          "histogram2dcontour": [
           {
            "colorbar": {
             "outlinewidth": 0,
             "ticks": ""
            },
            "colorscale": [
             [
              0,
              "#0d0887"
             ],
             [
              0.1111111111111111,
              "#46039f"
             ],
             [
              0.2222222222222222,
              "#7201a8"
             ],
             [
              0.3333333333333333,
              "#9c179e"
             ],
             [
              0.4444444444444444,
              "#bd3786"
             ],
             [
              0.5555555555555556,
              "#d8576b"
             ],
             [
              0.6666666666666666,
              "#ed7953"
             ],
             [
              0.7777777777777778,
              "#fb9f3a"
             ],
             [
              0.8888888888888888,
              "#fdca26"
             ],
             [
              1,
              "#f0f921"
             ]
            ],
            "type": "histogram2dcontour"
           }
          ],
          "mesh3d": [
           {
            "colorbar": {
             "outlinewidth": 0,
             "ticks": ""
            },
            "type": "mesh3d"
           }
          ],
          "parcoords": [
           {
            "line": {
             "colorbar": {
              "outlinewidth": 0,
              "ticks": ""
             }
            },
            "type": "parcoords"
           }
          ],
          "pie": [
           {
            "automargin": true,
            "type": "pie"
           }
          ],
          "scatter": [
           {
            "fillpattern": {
             "fillmode": "overlay",
             "size": 10,
             "solidity": 0.2
            },
            "type": "scatter"
           }
          ],
          "scatter3d": [
           {
            "line": {
             "colorbar": {
              "outlinewidth": 0,
              "ticks": ""
             }
            },
            "marker": {
             "colorbar": {
              "outlinewidth": 0,
              "ticks": ""
             }
            },
            "type": "scatter3d"
           }
          ],
          "scattercarpet": [
           {
            "marker": {
             "colorbar": {
              "outlinewidth": 0,
              "ticks": ""
             }
            },
            "type": "scattercarpet"
           }
          ],
          "scattergeo": [
           {
            "marker": {
             "colorbar": {
              "outlinewidth": 0,
              "ticks": ""
             }
            },
            "type": "scattergeo"
           }
          ],
          "scattergl": [
           {
            "marker": {
             "colorbar": {
              "outlinewidth": 0,
              "ticks": ""
             }
            },
            "type": "scattergl"
           }
          ],
          "scattermap": [
           {
            "marker": {
             "colorbar": {
              "outlinewidth": 0,
              "ticks": ""
             }
            },
            "type": "scattermap"
           }
          ],
          "scattermapbox": [
           {
            "marker": {
             "colorbar": {
              "outlinewidth": 0,
              "ticks": ""
             }
            },
            "type": "scattermapbox"
           }
          ],
          "scatterpolar": [
           {
            "marker": {
             "colorbar": {
              "outlinewidth": 0,
              "ticks": ""
             }
            },
            "type": "scatterpolar"
           }
          ],
          "scatterpolargl": [
           {
            "marker": {
             "colorbar": {
              "outlinewidth": 0,
              "ticks": ""
             }
            },
            "type": "scatterpolargl"
           }
          ],
          "scatterternary": [
           {
            "marker": {
             "colorbar": {
              "outlinewidth": 0,
              "ticks": ""
             }
            },
            "type": "scatterternary"
           }
          ],
          "surface": [
           {
            "colorbar": {
             "outlinewidth": 0,
             "ticks": ""
            },
            "colorscale": [
             [
              0,
              "#0d0887"
             ],
             [
              0.1111111111111111,
              "#46039f"
             ],
             [
              0.2222222222222222,
              "#7201a8"
             ],
             [
              0.3333333333333333,
              "#9c179e"
             ],
             [
              0.4444444444444444,
              "#bd3786"
             ],
             [
              0.5555555555555556,
              "#d8576b"
             ],
             [
              0.6666666666666666,
              "#ed7953"
             ],
             [
              0.7777777777777778,
              "#fb9f3a"
             ],
             [
              0.8888888888888888,
              "#fdca26"
             ],
             [
              1,
              "#f0f921"
             ]
            ],
            "type": "surface"
           }
          ],
          "table": [
           {
            "cells": {
             "fill": {
              "color": "#EBF0F8"
             },
             "line": {
              "color": "white"
             }
            },
            "header": {
             "fill": {
              "color": "#C8D4E3"
             },
             "line": {
              "color": "white"
             }
            },
            "type": "table"
           }
          ]
         },
         "layout": {
          "annotationdefaults": {
           "arrowcolor": "#2a3f5f",
           "arrowhead": 0,
           "arrowwidth": 1
          },
          "autotypenumbers": "strict",
          "coloraxis": {
           "colorbar": {
            "outlinewidth": 0,
            "ticks": ""
           }
          },
          "colorscale": {
           "diverging": [
            [
             0,
             "#8e0152"
            ],
            [
             0.1,
             "#c51b7d"
            ],
            [
             0.2,
             "#de77ae"
            ],
            [
             0.3,
             "#f1b6da"
            ],
            [
             0.4,
             "#fde0ef"
            ],
            [
             0.5,
             "#f7f7f7"
            ],
            [
             0.6,
             "#e6f5d0"
            ],
            [
             0.7,
             "#b8e186"
            ],
            [
             0.8,
             "#7fbc41"
            ],
            [
             0.9,
             "#4d9221"
            ],
            [
             1,
             "#276419"
            ]
           ],
           "sequential": [
            [
             0,
             "#0d0887"
            ],
            [
             0.1111111111111111,
             "#46039f"
            ],
            [
             0.2222222222222222,
             "#7201a8"
            ],
            [
             0.3333333333333333,
             "#9c179e"
            ],
            [
             0.4444444444444444,
             "#bd3786"
            ],
            [
             0.5555555555555556,
             "#d8576b"
            ],
            [
             0.6666666666666666,
             "#ed7953"
            ],
            [
             0.7777777777777778,
             "#fb9f3a"
            ],
            [
             0.8888888888888888,
             "#fdca26"
            ],
            [
             1,
             "#f0f921"
            ]
           ],
           "sequentialminus": [
            [
             0,
             "#0d0887"
            ],
            [
             0.1111111111111111,
             "#46039f"
            ],
            [
             0.2222222222222222,
             "#7201a8"
            ],
            [
             0.3333333333333333,
             "#9c179e"
            ],
            [
             0.4444444444444444,
             "#bd3786"
            ],
            [
             0.5555555555555556,
             "#d8576b"
            ],
            [
             0.6666666666666666,
             "#ed7953"
            ],
            [
             0.7777777777777778,
             "#fb9f3a"
            ],
            [
             0.8888888888888888,
             "#fdca26"
            ],
            [
             1,
             "#f0f921"
            ]
           ]
          },
          "colorway": [
           "#636efa",
           "#EF553B",
           "#00cc96",
           "#ab63fa",
           "#FFA15A",
           "#19d3f3",
           "#FF6692",
           "#B6E880",
           "#FF97FF",
           "#FECB52"
          ],
          "font": {
           "color": "#2a3f5f"
          },
          "geo": {
           "bgcolor": "white",
           "lakecolor": "white",
           "landcolor": "#E5ECF6",
           "showlakes": true,
           "showland": true,
           "subunitcolor": "white"
          },
          "hoverlabel": {
           "align": "left"
          },
          "hovermode": "closest",
          "mapbox": {
           "style": "light"
          },
          "paper_bgcolor": "white",
          "plot_bgcolor": "#E5ECF6",
          "polar": {
           "angularaxis": {
            "gridcolor": "white",
            "linecolor": "white",
            "ticks": ""
           },
           "bgcolor": "#E5ECF6",
           "radialaxis": {
            "gridcolor": "white",
            "linecolor": "white",
            "ticks": ""
           }
          },
          "scene": {
           "xaxis": {
            "backgroundcolor": "#E5ECF6",
            "gridcolor": "white",
            "gridwidth": 2,
            "linecolor": "white",
            "showbackground": true,
            "ticks": "",
            "zerolinecolor": "white"
           },
           "yaxis": {
            "backgroundcolor": "#E5ECF6",
            "gridcolor": "white",
            "gridwidth": 2,
            "linecolor": "white",
            "showbackground": true,
            "ticks": "",
            "zerolinecolor": "white"
           },
           "zaxis": {
            "backgroundcolor": "#E5ECF6",
            "gridcolor": "white",
            "gridwidth": 2,
            "linecolor": "white",
            "showbackground": true,
            "ticks": "",
            "zerolinecolor": "white"
           }
          },
          "shapedefaults": {
           "line": {
            "color": "#2a3f5f"
           }
          },
          "ternary": {
           "aaxis": {
            "gridcolor": "white",
            "linecolor": "white",
            "ticks": ""
           },
           "baxis": {
            "gridcolor": "white",
            "linecolor": "white",
            "ticks": ""
           },
           "bgcolor": "#E5ECF6",
           "caxis": {
            "gridcolor": "white",
            "linecolor": "white",
            "ticks": ""
           }
          },
          "title": {
           "x": 0.05
          },
          "xaxis": {
           "automargin": true,
           "gridcolor": "white",
           "linecolor": "white",
           "ticks": "",
           "title": {
            "standoff": 15
           },
           "zerolinecolor": "white",
           "zerolinewidth": 2
          },
          "yaxis": {
           "automargin": true,
           "gridcolor": "white",
           "linecolor": "white",
           "ticks": "",
           "title": {
            "standoff": 15
           },
           "zerolinecolor": "white",
           "zerolinewidth": 2
          }
         }
        },
        "title": {
         "text": "Correlation Statistical Significance Analysis"
        },
        "xaxis": {
         "anchor": "y",
         "domain": [
          0,
          0.45
         ]
        },
        "xaxis2": {
         "anchor": "y2",
         "domain": [
          0.55,
          1
         ]
        },
        "xaxis3": {
         "anchor": "y3",
         "domain": [
          0,
          0.45
         ]
        },
        "xaxis4": {
         "anchor": "y4",
         "domain": [
          0.55,
          1
         ]
        },
        "yaxis": {
         "anchor": "x",
         "domain": [
          0.625,
          1
         ]
        },
        "yaxis2": {
         "anchor": "x2",
         "domain": [
          0.625,
          1
         ]
        },
        "yaxis3": {
         "anchor": "x3",
         "domain": [
          0,
          0.375
         ]
        },
        "yaxis4": {
         "anchor": "x4",
         "domain": [
          0,
          0.375
         ]
        }
       }
      }
     },
     "metadata": {},
     "output_type": "display_data"
    },
    {
     "name": "stdout",
     "output_type": "stream",
     "text": [
      " Significance Summary:\n",
      "Significant  True\n",
      "Method           \n",
      "Kendall         5\n",
      "Pearson         5\n",
      "Spearman        5\n",
      "\n",
      " Key Findings:\n",
      "• 11 relationships show strong significant correlations\n",
      "• Average p-value: 0.0000\n",
      "• Most precise method (narrowest CI): Pearson\n"
     ]
    }
   ],
   "source": [
    "# 5. CORRELATION SIGNIFICANCE AND CONFIDENCE INTERVALS\n",
    "print(\"\\n 5. CORRELATION SIGNIFICANCE & CONFIDENCE INTERVALS\")\n",
    "print(\"=\" * 50)\n",
    "\n",
    "def correlation_with_confidence(x, y, method='pearson', confidence=0.95):\n",
    "    \"\"\"Calculate correlation with confidence intervals\"\"\"\n",
    "    n = len(x)\n",
    "\n",
    "    if method == 'pearson':\n",
    "        r, p_value = pearsonr(x, y)\n",
    "    elif method == 'spearman':\n",
    "        r, p_value = spearmanr(x, y)\n",
    "    elif method == 'kendall':\n",
    "        r, p_value = kendalltau(x, y)\n",
    "\n",
    "    # Fisher's z-transformation for confidence intervals (works best for Pearson)\n",
    "    if method == 'pearson' and abs(r) < 0.999:\n",
    "        z = np.arctanh(r)\n",
    "        se = 1 / np.sqrt(n - 3)\n",
    "        alpha = 1 - confidence\n",
    "        z_critical = stats.norm.ppf(1 - alpha/2)\n",
    "\n",
    "        z_lower = z - z_critical * se\n",
    "        z_upper = z + z_critical * se\n",
    "\n",
    "        ci_lower = np.tanh(z_lower)\n",
    "        ci_upper = np.tanh(z_upper)\n",
    "    else:\n",
    "        # Approximate CI for non-parametric methods\n",
    "        se = 1 / np.sqrt(n - 3)\n",
    "        alpha = 1 - confidence\n",
    "        z_critical = stats.norm.ppf(1 - alpha/2)\n",
    "\n",
    "        ci_lower = r - z_critical * se\n",
    "        ci_upper = r + z_critical * se\n",
    "\n",
    "    return {\n",
    "        'correlation': r,\n",
    "        'p_value': p_value,\n",
    "        'ci_lower': ci_lower,\n",
    "        'ci_upper': ci_upper,\n",
    "        'significant': p_value < 0.05\n",
    "    }\n",
    "\n",
    "# Analyze key relationships with confidence intervals\n",
    "key_relationships = [\n",
    " ('GDP_Growth', 'Unemployment_Rate'),\n",
    " ('GDP_Growth', 'Consumer_Confidence'),\n",
    " ('Interest_Rates', 'Housing_Price_Index'),\n",
    " ('Tech_Investment', 'Productivity_Index'),\n",
    " ('Inflation_Rate', 'Interest_Rates')\n",
    "]\n",
    "\n",
    "significance_results = []\n",
    "\n",
    "for var1, var2 in key_relationships:\n",
    "    x, y = df[var1], df[var2]\n",
    "\n",
    "    # Calculate for all three methods\n",
    "    for method in ['pearson', 'spearman', 'kendall']:\n",
    "        result = correlation_with_confidence(x, y, method)\n",
    "        significance_results.append({\n",
    "            'Variable_1': var1,\n",
    "            'Variable_2': var2,\n",
    "            'Method': method.title(),\n",
    "            'Correlation': result['correlation'],\n",
    "            'P_Value': result['p_value'],\n",
    "            'CI_Lower': result['ci_lower'],\n",
    "            'CI_Upper': result['ci_upper'],\n",
    "            'Significant': result['significant'],\n",
    "            'CI_Width': result['ci_upper'] - result['ci_lower']\n",
    "        })\n",
    "\n",
    "significance_df = pd.DataFrame(significance_results)\n",
    "\n",
    "# Visualize confidence intervals\n",
    "fig = make_subplots(\n",
    " rows=2, cols=2,\n",
    " subplot_titles=(\"Correlation Confidence Intervals\", \"P-Value Distribution\",\n",
    " \"Significance by Method\", \"Confidence Interval Widths\"),\n",
    " specs=[[{\"type\": \"scatter\"}, {\"type\": \"histogram\"}],\n",
    " [{\"type\": \"bar\"}, {\"type\": \"box\"}]]\n",
    ")\n",
    "\n",
    "# Confidence interval plot\n",
    "for i, method in enumerate(['Pearson', 'Spearman', 'Kendall']):\n",
    "    method_data = significance_df[significance_df['Method'] == method]\n",
    "\n",
    "    fig.add_trace(\n",
    "        go.Scatter(\n",
    "            x=method_data['Correlation'],\n",
    "            y=list(range(len(method_data))),\n",
    "            error_x=dict(\n",
    "                type='data',\n",
    "                symmetric=False,\n",
    "                array=method_data['CI_Upper'] - method_data['Correlation'],\n",
    "                arrayminus=method_data['Correlation'] - method_data['CI_Lower']\n",
    "            ),\n",
    "            mode='markers',\n",
    "            name=f\"{method} CI\",\n",
    "            marker=dict(size=8),\n",
    "            text=method_data['Variable_1'] + ' vs ' + method_data['Variable_2'],\n",
    "            hovertemplate=\"<b>%{text}</b><br>Correlation: %{x:.3f}<br>CI: [%{error_x.arrayminus:.3f}, %{error_x.array:.3f}]<extra></extra>\"\n",
    "        ),\n",
    "        row=1, col=1\n",
    "    )\n",
    "\n",
    "# P-value distribution\n",
    "fig.add_trace(\n",
    " go.Histogram(\n",
    " x=significance_df['P_Value'],\n",
    " nbinsx=20,\n",
    " name=\"P-Values\",\n",
    " marker_color=\"lightblue\",\n",
    " opacity=0.7\n",
    " ),\n",
    " row=1, col=2\n",
    ")\n",
    "\n",
    "# Add significance threshold line\n",
    "fig.add_vline(x=0.05, line_dash=\"dash\", line_color=\"red\", row=1, col=2)\n",
    "\n",
    "# Significance by method\n",
    "sig_by_method = significance_df.groupby('Method')['Significant'].sum()\n",
    "fig.add_trace(\n",
    " go.Bar(\n",
    " x=sig_by_method.index,\n",
    " y=sig_by_method.values,\n",
    " marker_color=['blue', 'red', 'green'],\n",
    " name=\"Significant Correlations\"\n",
    " ),\n",
    " row=2, col=1\n",
    ")\n",
    "\n",
    "# CI width by method\n",
    "for method in ['Pearson', 'Spearman', 'Kendall']:\n",
    " method_data = significance_df[significance_df['Method'] == method]\n",
    " fig.add_trace(\n",
    " go.Box(\n",
    " y=method_data['CI_Width'],\n",
    " name=method,\n",
    " boxpoints='outliers'\n",
    " ),\n",
    " row=2, col=2\n",
    " )\n",
    "\n",
    "fig.update_layout(\n",
    " title=\"Correlation Statistical Significance Analysis\",\n",
    " height=800,\n",
    " showlegend=True\n",
    ")\n",
    "\n",
    "fig.show()\n",
    "\n",
    "# Print significance summary\n",
    "print(\" Significance Summary:\")\n",
    "print(significance_df.groupby(['Method', 'Significant']).size().unstack(fill_value=0))\n",
    "\n",
    "print(f\"\\n Key Findings:\")\n",
    "significant_strong = significance_df[\n",
    " (significance_df['Significant']) &\n",
    " (abs(significance_df['Correlation']) > 0.5)\n",
    "]\n",
    "print(f\"• {len(significant_strong)} relationships show strong significant correlations\")\n",
    "print(f\"• Average p-value: {significance_df['P_Value'].mean():.4f}\")\n",
    "print(f\"• Most precise method (narrowest CI): {significance_df.groupby('Method')['CI_Width'].mean().idxmin()}\")"
   ]
  },
  {
   "cell_type": "code",
   "execution_count": 20,
   "id": "abfe188e",
   "metadata": {},
   "outputs": [
    {
     "name": "stdout",
     "output_type": "stream",
     "text": [
      "\n",
      " 6. PARTIAL CORRELATION ANALYSIS\n",
      "==================================================\n"
     ]
    },
    {
     "data": {
      "application/vnd.plotly.v1+json": {
       "config": {
        "plotlyServerURL": "https://plot.ly"
       },
       "data": [
        {
         "hovertemplate": "<b>Partial Correlation</b><br>%{text}<br>X residual: %{x:.2f}<br>Y residual: %{y:.2f}<extra></extra>",
         "marker": {
          "opacity": 0.6,
          "size": 4
         },
         "mode": "markers",
         "name": "Partial r=0.652",
         "text": "Simple r=0.790<br>Partial r=0.652",
         "type": "scatter",
         "x": {
          "bdata": "HkydSlsJ8j9g8m4pZW/XP+A8ZUwLnt4/aKLBa8wA6D+gbAsbKdjEPwCZyEzYAYe/mGF17IfK+j8IhawIZsnsP+gEJ/6/S8c/gBvorJJprT9AyvAdbr3VPxhZfRERUdO/qP1nR+gR9T+g52AH5s3+v0VQdowiP9m/aO/d0LgS2L/vglTE6lfzv6BNdCjr4La/bNApXwAM7r9kZOZi7uLsv1QbQkFU/PU/RABcfpzV4b+A/lBE9puRv7ggQaAcubE/Bm559Xpe4D/A2tgNveLRP7gpK+iVfu2/OAmOzjdl0z8YMAFI3IrFv4hXC/b8q+u/FK3auT9V5b/QV/Bu8ujaP1ByEBVsxcQ//IsiifsN4L8wnT8/m2fTP2Aoc3lYHbm/5MDEmS0G478s8sjjNzsDwL8/JHnvde6/0DKNs/U65j/iDsDXPZ/3P6ArvmmkuMe/iL0eDikv3j9QVFIHCNLTv5SlZWE5t/S/cJ+ZhwYfu79gCvBCCoSjv/BAz1kY98G/LLvLzyfa8D+A/M5//xHkvyAyMXz208S/wL78KtwswL/A0+MfHujSvxjMqPJKGOI/cFCS3mg+2z/g4OyeVuLRP3yxpRp89ea/aIJbK6UQ2D+8qwHLEFjgP0Dat6JTE98/QC3onMgokD86rTXcJzf9v1xPt/TrK9C/BaNs/weO/7/QPB9yIlPXP+DM9b91fNY/lChiUPA367/czXdU2Rz2P0AivOeuTaa/MG6jCvW61r8Q7i2QgivJP8QTF/7tdfY/QDlaWLwJpL9gmQc0J87aP9h+H/uBHvi/yGf3soz80j8EvHyhUxTsv6TtQdAf++C/fNRLN9Ht6z8C86EBc6bxv+jRbmqcI9u/ABzQN9cblT9w62nt7tXsP77UUKvMZec/3GMmoH6A3b/gR4sBpjHJv6zhU+Ld1PM/uG9xE1hr1T9qwlxSUJbjv9CAPnDCPc0/gDys9y3nlb84jvtsU3blP4hwtrecNse/mKt3ZhnT0b/ARCaCXQyvP8A091e6sPO/oJkrw6Xnyz9AbZe5TNvvvxi1X6IPNt4/gFUB1xyto78r0UwVunjiv7J0PCu0RgDA7IXyi8vx6z9UshWTsSHov/BZ961nAt0/2Gsp3WKd1b/8YXlJxP/7P6BkM69HuOC/MIGauHVEy7+MDMAcb2HvPzhqMsO/UPq/QHp/MerEqD9AhIDNyT3fP2zW2UyxBgFAIAbwZk4svr+Q25Azb7DYPz41z4Fxp/Q/gGqM196t77+Mcqbwih7uP9wLxIbw//E/sJIqOeb78j+A0s7PwjC0v8jpw9LjRPY//Lk7apyj/L8kaLLU9kn1P6Ca92/3We8/jIjMR/Sx5L90q8km8IrtvwAtTAvyAY+/SOmFoYVi0L+YQIBOSBfxv8A66HXviM4/gDiJu3QEqD+8AeVUIjbiP+Br/p177+y/nO4okDcP+z+AloOUZFGUP1Sh8886FfC/wEayBeM77T9yhKkvxVfjv8B8Uz+Hiqm/MKfN1iLT+z98vqQm8xn2v9A+zOPUU8Q/gB71Ljaupz/8bDsXpdDhPzApqx8lLfq/pBgisnlZ/r88oSLtuiH0Pyip4hnU2NO/wIaAXmVs27/AnOof70rwv6CB6pQRPu6/bG9X6dE55L/0dSKlob3xP4D4XnPiV56/HPjC/TO27z+UZRIaQY35P/ACawAdedq/ML18sYv/0D8KGqOx0uEBwCY8/mBMxf0/ABYw7k7epj8pGGoXmg76v0LnigBtWvQ/fuCZaqOC+j82ZdbYOOr1P7gHm5fxrvs/4JqeWWFWuD9geuHEhx7Dv7ywwlYCuNO/VpZTNvnF4L/ARsJ+pFWsvzAMSRpUBsY/yGu+Auly0b/wvaeJvgnbP/BbGjJHM/C/EClMyn4o8D+MhfWMCmHqvwAFtp4Im/Y/9KKqaaz24D+gF4skTBq0P+jhFxbn2Na/1M5lFTiS4r90ZvsUiGHpv67dZkTwhvA/iCbHZV8Z0L8AdMJQKbXOv5jfOmIRP9m/9DH5Dv9v/L+EKBGrZL3Vv3A+ecyaEMS/cFIs5cLrzb8+NSbcsK7qv7CGg1hVnuq/iEp7xSmW3z9SHWZX8PPnvyD8gc8cP9g/QCeSYfYQvj/4+ToDOzbEv+h3hsVrs9I/gKgQkETkwD+Y2syq+DPrP2TmL2yxFvE/3idtuzpy8b9KuFRzKS/ovwBtYK2gPK6/AB0A69lLo7/YyMc8KWXdv8zachZIVQ9AaBxSMHDV1L+AY09GeTHbP3jcFEKpS9E/cDihOpmr7j8YZcs6YuXdv2xDnDhc4/M/DuVYnhmV8L/AtLdeXya0v25zOIfQBu2/Kodx/Ii78z+I45se9dTwPxLzH5TNGvW/DGf7i9DB6j8R5OQVEQPxvx7r9wSlz+C/2HXHV1i95j+AcFGioLOTP+JbROtyEe+/gOqs3xP8rL8oUwXFb7X7P0LGx3b4/u2/5Opn3ER45b8AM0oYnhayvzr4YBX1TO0/8h4lxtg78j+2rXYs/uv1PwzOMHvHGeW/UBIWwBkozb/AiZafd9bOv+wkKvB0hfg/AnbB8xBF7L8wUFqDRafQvwCQ483fg18/gJpnwJfSoD9zrfYbVqP1vz4vS671M/C/cCwjphHA2b96kLXSefrvvwjBiyVmC/c/7E0e66M35L/If3p1edrqv+Ttnyo8EPI/8H8nRQFZ3D/Q9eW6eo7uPyN0NaQ91+C/7TQ4ca/r8b+wPoREqQr+P0wQtAPlKte/YCxoZ0qgvb8Mh8mzTFXgPyy8vdGb5ty/wEJApICjrb9ccRjcm/wBwP889ud+8vW/MECe77Glw7/9br+ELzb9vwCxHAehP/I/yOfz2YbN+r+6nj9uPBXqvySLV9GLDeg/PMvGEofh+j/kiF0nKRbqv/DgQzfE58s/kF12/EA3zb/AFZVSep++v3jFvOxtdNg/yIZ6a3LF9j8w30aaK83Sv8C4g3sisrs/+DbQabPv4L8gG074+MW7PzBRx/RYk9c/uMyfX0Eq+T/4LBtNp6/dv0YJSva/QvI/iIrWJXaTAsD8KfpSPYvzv/TDbXsZCuY/kKZXPvEC3r9KzW9+d0D8vwAyMiUmt3g/iD5KUZGh7z/sClQ9Im/gv1BVVH0hRPE/ECBaTHwT0T+YKCZg+K/kv9rzHE20nvI/ANrub1JCkD/M4SOUTy/nP5ihhjtap+M/OwzGtfg58b8Q73GX5EO0P4A2ya1e9do/ACqjQ5iZkL/AcwvfOxTOP1At2GHxmd6/QDzwKItJ7j9QPuJ3WIvgv7DR0f8plu8/AIkwwCqfrj+wtydfomrOvwi4NO8TJ/Q/dBFuLrcC9j8AcL0Tj4LsPygEx7Pmpe4/IKNOWlY86b/Av/VG2aDBv/gU54pSBt6/oNfhNGqlw7/oXqgUkM7Qv4BMJHiah6o/EOJ3f+Sa5j9OMukPHkPnv/DHsXbtY/0/SJRU0mRu6b82MP5zQvcAwKj+KNLgS9M/SN81xjFH3j8ARQ+WwvTQv9yWIn9cteg/ZL7XRM7o6T/gUetafU6qv+D3BQn5a76/gJSP1+uF0T8kROxPNgXpP5g03C9yIde/2fhByPKu8L84p1/zFnnevwAZkUlsOKU/dH8DbDwm2b8Wm6Ev+iLjv1DPmN0GM8E/+P/U8+mG2D9IUUGuv+nNP6ClRXN6qL8/SJMsol4w57+9iYg7oQ0FwPZ1NFfScOO/AHC2vcU/9r+IQJKcWE3Wv3ioAbGH+d6/AKqzsRZeqz/0iSISGU3tPwjC74+JUNA/IB97BeqP2b8eDuw3CnkCwABzNAhEbti/ABbgKvLHq7+YYniLStfkvzybLAEC2OK/oMAC+kGK1T/UHw9XdFT3P8BTij7GK7K/YJ1ZYlxJ07/MSwefHpLyP1COgxz8Jt2/AKF07vQWuj8srIRszYXivzAFFSyh282/PGZqQyeE8r9AepLksFDBv6w9WwpS6PQ/2GYj+Tvz0T+gUrRevljOvwJzOIkWkgNAiiFQb0eL6L8AbfJ/1SHOPyhQesHYw+U/pIffUTqc9D9c7MKMgE7XPzwcy53GONS/SuR1voZ96b/bZk0wwYrdv25gvFdt0+m/AJMoEODKy7+AnJzUJqbNP1SpLTZ7du4/AvhcohRGAkAMLjvjI0fmP6Ru19r0ye2/SE6/Bb8W37/gOWKrOyKwv9g08hdYhLM/fBpIm2v49j+QUjXBIavkPwjKFtiM9dO/K7djjXwsAcB4dLI9VcjbP+TGOuNLWOE/zBqogIjH4D943/kBVSP+v4gXKz/UCcu/JPvn84gI5D/gov5N3w/ZPzAbwy3TTMU/AMz9jSJrfb+pCp+3xw/7v3AjOXKkKOY/oEkHcRjOwr9wdnQ4c1/JP+TKdP/3CfQ/bOKKF7xe479mEbU/XVDvvxJSn/N7VgFAoF5ufQVUxb+QlzITK1G6v6DJyz+DyPI/QMatta/5xz+cYNGTlKT7P8h+ra5tW9I/ECHiySN5/T8giU60C5b+P4hgKFN2Lt2/8ICMcxR+yz8g4yamecHDv0B45pKJb7+/3IfW20f91z/AXOZjXQLEv5yc7n+AUOQ/yhi7FpAg+b+0qffftF3pv1Q1ZMdomvK/UNyA0zc6zT+gO+hsniLFP5D9te/VIfA/MECoc1TkxD/8cw8w9/HwP5xEnFR92Mm/JfZO+v9s8b+4DKag4pTUP8jj5+cH1OM/CF45z4Lf4j94chHKysD4v3xPOP0kruu/CTEDw+6r6r+gjHr0aNS2P4Do4zCcFLO/SLrGCd+D3L/YtKGeO1vQP55UjNLNiOu/wH0iztibsj9MDEnJxXb6PzAJPgcpteW/pnumPfkd/T+IuKWvOhrCvxfeCYWrxPq/oKLHqOy20j9AmA/rBl3kv1TkCYUbRtA/tu0lTkgK4782keXpFhr2PyBuaVmISOe/VO3HeXne5r+AZHt+YxPYvxhsiVADUd6/oH+J/tRBvD+ghEdfnfX1P1TurnodJeg/6ncjebRd8r8Q5WDRc3HPvyCfZMswoNo/SV2cJCNwAcAWZM0TwtD0v/y3kCkeH/A/fJT6y9V96D+A1PcB8nG/P/iP33mrgNQ/2ATRx98p2z9Arwk0TQL9PyRkKu0o3+E/OGXo6hqN0D+kiWeS+hbwv3ZsRqDMudO/sL08vxg4wL90iizTnVbgv/LWWl5k1uO/fAGcyB/V9b8xO6+fDFX+v0BFyZhK+9c/ULbUDcGJ9T/QosHRkR3Yvwy714UgYgRA4AWkssFa1L8IZEOVqanjvxwFSSSIAQBAhCKfDnga+D/EuUlwo5zUPzC+a0/ePN8/SIN+X2Wtwr8YqwpyhhTpv1SZg9RrqfE/Ql+FOYSl8T+wSvZVMKH5v7B6JTJmIdg/tugTZHzy5L8ez05UohXmvwAe0CY1Vr2/SDWRH5KOxr+AOi3XhqugP2DIyVzL5MI/cJHE7s/u379w78nPMzbKv8iGz5KsxuS/H8dzc6Am/b9EAmFgEobhv8DBO/HLTd0/Tp14nJ4h8z94rnPiFsDcv2DS5kkSC+K/kpfSOEJW+T9iV7nTk6rkvxD5CFPFSOY/NtdzeLFF5r8gc3Uf1+XEvxIgiS27a+u/rpKJcPBt6r/8NMprQALOv4Aj35yXoOs/MJ0CXdovwb/jQYFVk0j2v+DbMPnOkeA/2mds1N3HAsBg8mBilgi0P5OstFZLL/G/jK6zl51i6r/YdFXUU8Htv5yu1PFrQNu/UEjvsEgB5b9AuQQXR/SqP74yr1yEIQHAhBaAx3Bb4j/wogPr2uG1PxQlQUHI1vQ/lMxSSWJ26T85TM+VdXMCwGjYS0kSwdm/oOjw3kAbx7+Ad7xBSUqkv7BYB1dYZeU/6NCQeqn7xj9Aa1GnNnKnv7gMzZKrrdK/AJGdSmQE1j/QZn1a6TbVv6DrUAxQYbM/UKp34KHmxL9A+2qrDSC3P5yzx06EIuu/EmSAZ5ag8T8cnT9BWR/hvyBmE/kt98M/rAVx+lvn8T/YxAKlR5Xov7CNAXEfXMk/IEZy93Ct9D9szxIsg/3gv8U124r5bvm/1simvJ064b9TWKlNpCEDwBS0+xdfH+S/wNfrqbxn2j+EsoSH/K/gP1hAUA7tVNc/6GoKd037778sOV0zXjvrP/3Aaf/hgfy//DjAelV76b86WzZHukbzP5p5UkNs2vm/aJFXtpxO1z8YRB82y4DUP9CSrmhE8tE/kC77ATvhwr9crfqbU7X7PxDVA6JBHdU/yNMv9+IG4T/8Eac1mcbTv2iOnEG/du2/YMjZnuPJvD9WaLMnV1XlvzQ90PL6muO/NR+QYSa+AMCgNCF3vgjiPzhwc3OX/eY/sMdsVoxa479+ftFtX2nwv4BKnMvHEbc/qJDdOWNa1z+oH5mV/rjYvyD7DGs+EMe/kFLXn6Il2z8ALcIMagiTP/DqYyjLjc8/cM/jfUIW4T8AHvKLQ/eIv1jOVRvUIus/PukeAEOi4r/wEWO4aWe2v0rmAU314/O/2LuaROOM7j+4SJXQ9BjSPyw8IQy/uO+/hOcYGMRI5T+m0J5Qhfvuv9SgoCLlp/s/tDSj+GHl/T9QqpJSh4/JP8Cn4Dd0OLM/gNHei/R4sj+g9EltD8DoP55HsPW1N+O/mB4rtPds4L8IX49iuL/+P3jrVqX7OuM/Sg/VKrrzAUCQHVbwVWfFPy7T+cHuMPG/JDW9/22K4j+AgDx6KgKbP3QxgCeBavQ/Sq6IoRpZ8b98FmfXuYTkPzQMS04vcOG/yDhlPdERyj8EK0tMrXDwv3imoP8QAfm/QFhU5pBxoT9wURA1kSDPP8R9toJcV8A/pas/sJWh+r+I6/VGSz3Tv74E+AoYUABAQPcDMUlG0793hi+HEZ3uv8RJ18vkQuu/gFt8TUeelb/c/wtIvPEBwECwtI6y0N0/wHiib1R33D8qWX+24GD/PxADnlWQPPs/HDpSsl7/7z+wRxWD3W3Dv05ma1AaxvG/FglomsT8AECAnUTEktfGv4DpJzjGa6o/rFYDUiy45T9Qvc6qrpDev2CBFcIGAd8/JNxi8j1J0D86pE/joG7hv1rpop1+r/S/Omfo1PdM6r+AN5HVCVvBPwBgdIBp/Ys/IJgWff1V6r/oK7mEyyHqP1RjiLpl7fm/Nhi4D+OV8T88xGeZ25/oP3E/tV6M1f2/IGui3Axl4b+om+ePO87rvyydnwkk98u/JrKG10Xe6r8A2IIdv8LLv2AB1vhGUwFArMwZyyDK8z/QZ7e2DrvlP5i3UXUDbec/2t5fAP8W7r+8X3V6Mz7vvwS5dEFYPeA/Z+9xkfi/+r/aLRFlicXyP8QSG4cPM+C/8HypOCplzb+U0s60o/XkP3Bx/m4x2sE/AAjNHiUmVT9czjS+LiviPwx79hSSEdm/YFSJZ9dX1r/IXMUPylzeP5BpnXAGCOo/YJahg+kD2L9oU+Xliob2v1hm7hqcb+4/gFUJcE5vuL8wx0CJJInQv7xNXWXtiPA/oP/Qp8I7zr+X+p9HWULgv6M/R78iW/C/yGcBBuKO0T++YDB44hblvyAht9QvEgNAKUDxKIfM+78klXWkykvmP4zWWnEmrec/QNMlbmVxyb9bvn2c8nj7vzgxFaTukuc/4P39Ms352L+seIZ+6s/nPyBiwlm6d8w/cL6VHzmvxT8AfMBs3MKxP4DRhmNjR9a/kGUsQSFq3j+BXlcgql74v6F2H2wkjeW/xK+9P/LT6z9I/fV/OU/dv4AMqbmwE9s/wL7btf461r8wcHhg3ZTlP5jmRJ6WxNC/2C2m1Jc72T9ADZNIMFugv3rypvYaKPC/gC1ouPPOzz+EETLoy6z4v5Djzw1aIfM/QDDO+AWn478wevmmcG3dv+AE4Mblv7c/oOCaQxpc/D+2r2mzmEX7P2ttDh3LkPi/jrZ445w58r8cbYay69Xfv9hFdC7LHOQ/kEFSlZbHx7/QoqeQQKrev2B7aOepquQ/DA6d3c6F1r9seJk9/s7av/CralR4M+K/2BmmnQF/AsDOxRRXb8Dmv6v+HXxX6fK/CCANKzxz0r/Iy5j6tbvfvzi+Ks4uFQZAMFmEIQmUzz9USTNC/TXkPxDVRn1eCso/PLN9ECvH8z/sj8anIv7bPxAHw082nd0/vHz32gto/z+qA1s2BLfwv+DXMQOZGuY/9RdegzlG8b9oDUIqlYbyP8hc+tKpXfM/SJ1wG5L/3b985QesU4f6P6BxVeCif+A/PJ/kzDyo3j9gd6il/aqzP4heNWP/y+k/AEDBzM8OKj9y3fuY9ioAwOYZbKaT6O6/IDgK9uUe0b8wlCyIkOrWvwAc8X1nlZw/IPGexh4Y57+nnbj4RSHyv4zM4bvI5OO/ROvI7IEy6z8wMSD1bxzbP8DituUYwau/2D+J89lT2j9QQD1PWb7Av2C7UC58pLI/m0Gc71VG4r+044F0JHLpv0Bh5aIq1cU/wNGhre4KsD+bGHPeZAXlv5ogZuKmkOi/MJSCr9721D+olHpwwCnRv4Bh2vdNCJA/sFC1k/6Y4j8AxRFmf7yUvwSkPWsZE/w/hP6NlGc+379YgHUYCrPYv4tt64zSbfS/QZxbM0q79r+0rw2kxS7zv+j+Y57aMNE/CCD9rQErwb8A2qxtxM2EPziDdDbN/M2/WO+AbA5v3r94VpTC+OPTv6zs/Dd8tv8/RHs4p8954z8EEeroP8viPxJz7GnoXvu/FK+GpylC8b9wLtxk9C3MP2C74VvEzby/oC2vTUTyyT+yHVP0c/Hgvxwm+fXNNvE/BAjuqPdv+T88x6bo/pzmv7z8z3hNYNO/LLymFUcY9T8Y4+kcxErhP/AWCKaMOdY/qGIB3q7l278ol6l888TQv++mecG5BOa/fgnqlH8w5L+AhJUdMUfSv3CrpEZ/9d6/KNsZUUGm27/wRVYh7zzVP2D+gMLmMt8/2osVr6Nv6L88xZ3bGOzlPxhgiP9cuNW/QDy/x4pfxb8o6HtAnoPjv1kNO4bkwvO/YLZeRpi70j+wlWbu4wnFPxjzCjJ0zdC/DF1FxniB7D8koNQ7i4H1PwC5Mz3QSno/qC33ey5KzL/g7Epfivjsv+qfJH/p9+A/jYRo3zqq878AeBY6gDH2PzATviCXy/k/blsL74sf7L+AwmdfsxG5P3Czu8t5LsU/RHFBk8VB1L9w1lg+/ZziP4DgqGdNCZk/XmY/Jztf6L98QwgSV3j5PxBXFPGvM9U/UA3vZifGyz+aYsA7S970vwiLZeRlKeg/JP3fwi0V6z/gGgcvn9TFv/SFwdd+LPQ/KHzNvcVa6r9yAxzNFmnpv2qM512TuvS/UO5P8aVCxr8MgdaDKl3lP36ccyAbAwFAGBm9+SfU6L8AsHfWhW1iv8ikUif+efC/4OzeKOir2T8aevAKQpADQBiSkuzWT90/ktBZofM18r+QXDK1K1raPxjXcGYZKd0/lIV9b7F4+D9gNNTo2T+xv+BNpnm5H7e/oI0XAaOXwD9EsLynHVbpP6Sgp66veOw/cDyPeRC91T/glyz905XgP7xpUKO+F+k/oMmx5Y+87j/wgFPmBuvNPzi+/Ho8QtW/vB50IUET7z/SIyb+giLzP7aqB5/oV+u/pDxCZDUS5D8sO52UCJbhv9S9VwwzYuQ/eM8K9EZG8j+AEblDYX6fP0Aw9KRyPM4/HfYq8g4EAMCgSJoZxZK/v0DvPngvps6/5oRT1vQf+z+sa2QVL03mP7jUFN/yNvY/nNyLN5UM4D8Ip+DkMSr3P66Hksp5hvK/oNYy0Yg3w7/A90ILAqaiv7D1SgCkB9G/3LMnK4G8379Af4REbHHGv3C3xEgR5ta/tLGUGfHi2r8YnFVwthniv0gMuNMjXt2/sybGUYtpAEC0dO0NyRf8v8nHtlwG6v6/oDGZZnR/sj98YirJw4D8P2wc8orlM/A/FBhMVYn68r805ImQQuD6PyI1fM+wA/e/YVw4BHD//L8u0kS9cbf8PxPFNQtk0vS/pGTB9cxY5r+gTEBVM0ToP4Rc7iuyGOg//L3+XK/Q27+AYjz3D8Drv9jbLG9VN9k/AOzOrFgz4z+QbB8UV/3Uv9R8uBxfl/s/gvm2pWt58b8HuXnKZkXwv2zm12fJY+O//JLCMhew4T8A1mUrP166P7pulxkZEvS/SKexpDj97T/4P+DeYJ34v8QcohLZ6+U/YKNZQT5h3b9QvSF+Nnj5P3j0zW8+LfC/xZKAcHS3AEDQBl83zZnvPzCBlvmCudo/kFytPlMv2j8UmjZBvCHyPyiNxkJ9Ntk/RAGmohiH6z+gUtPDcq3IPwijxh3UtfE/PuLdc1AU5r/iBHMlgfbzP3CHItm8Tsm/C3Tgc7te4L+wdEaToXvYPwLmkc7OFQLASDRXiR757j+8xG+FXKbcv3SF0nGhQtq/paN1nE/D+7+I3kOAjHHOP2HO3LuVJfa/hCmMd9WA+7/MJUAdbnHoPwAIT0QwPXG/5LKsHD994L9/KanRNI3yv3jnujZ9odk/mHQInU4g3z962fuqyv3kv2i9yQDqTPg/NM2vq0tT7T/YtHMWavTiv1BxK/qAJss/1AwrI0cB4j8Y4IoBGjLzv6gXBIZNuNs/AFCILgSlxr9igLFlkBPkv3Cc9x3es9U/YDSMHCQQ9T/gTuVT5JOwv4BPOPvu2uK/QGZ1RDkOpL8=",
          "dtype": "f8"
         },
         "xaxis": "x",
         "y": {
          "bdata": "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",
          "dtype": "f8"
         },
         "yaxis": "y"
        },
        {
         "line": {
          "color": "red",
          "dash": "dash"
         },
         "mode": "lines",
         "name": "Trend (r=0.652)",
         "showlegend": false,
         "type": "scatter",
         "x": {
          "bdata": "vYmIO6ENBcCA+huDKoYEwENrr8qz/gPABtxCEj13A8DKTNZZxu8CwI29aaFPaALAUC796NjgAcATn5AwYlkBwNYPJHjr0QDAmoC3v3RKAMC54pUO/IX/v0DEvJ0Od/6/xqXjLCFo/b9Mhwq8M1n8v9JoMUtGSvu/WEpY2lg7+r/fK39payz5v2UNpvh9Hfi/7O7Mh5AO979y0PMWo//1v/ixGqa18PS/f5NBNcjh878FdWjE2tLyv4tWj1Ptw/G/Eji24v+08L8wM7rjJEzvvzz2BwJKLu2/SLlVIG8Q679WfKM+lPLov2I/8Vy51Oa/bgI/e9625L98xYyZA5niv4iI2rcoe+C/KJdQrJu63L9AHezo5X7Yv1ijhyUwQ9S/eCkjYnoH0L8gX309iZfHv6DWaG07QL6/AN6tv8iiqr8AxddtleuMP0DgTLtJjLQ/4GNvZJC9wj+wVzjr+zTLP8ClALkz1tE/qB9lfOkR1j+Qmck/n03aP3gTLgNVid4/rEZJY4Vi4T+gg/tEYIDjP5TArSY7nuU/iP1fCBa85z98OhLq8NnpP3B3xMvL9+s/ZLR2raYV7j+qeJTHwBnwPySXbTiuKPE/nrVGqZs38j8Y1B8aiUbzP5Ly+Ip2VfQ/DBHS+2Nk9T+GL6tsUXP2P/5NhN0+gvc/emxdTiyR+D/yija/GaD5P2qpDzAHr/o/5sfooPS9+z9e5sER4sz8P9oEm4LP2/0/UiN087zq/j/OQU1kqvn/PyMwk+pLhABAX7//osILAUCdTmxbOZMBQNnd2BOwGgJAF21FzCaiAkBT/LGEnSkDQI+LHj0UsQNAzRqL9Yo4BEAJqvetAcAEQEc5ZGZ4RwVAg8jQHu/OBUDBVz3XZVYGQP3mqY/c3QZAOXYWSFNlB0B3BYMAyuwHQLOU77hAdAhA8SNccbf7CEAts8gpLoMJQGtCNeKkCgpAp9GhmhuSCkDjYA5TkhkLQCHwegsJoQtAXX/nw38oDECbDlR89q8MQNedwDRtNw1AEy0t7eO+DUBRvJmlWkYOQI1LBl7RzQ5AzNpyFkhVD0A=",
          "dtype": "f8"
         },
         "xaxis": "x",
         "y": {
          "bdata": "f56PZ4kFKcAqu+P9iWQowNbXN5SKwyfAgfSLKosiJ8AuEeDAi4EmwNktNFeM4CXAhUqI7Yw/JcAwZ9yDjZ4kwNyDMBqO/SPAiaCEsI5cI8A0vdhGj7siwODZLN2PGiLAi/aAc5B5IcA3E9UJkdggwOIvKaCRNyDAG5n6bCQtH8B00qKZJesdwMsLS8YmqRzAI0Xz8idnG8B6fpsfKSUawNG3Q0wq4xjAKfHreCuhF8CAKpSlLF8WwNdjPNItHRXAL53k/i7bE8CG1owrMJkSwN0PNVgxVxHANEndhDIVEMAaBQtjZ6YNwMh3W7xpIgvAduqrFWyeCMAmXfxubhoGwNTPTMhwlgPAgkKdIXMSAcBhatv16hz9v71PfKjvFPi/IzUdW/QM87/9NHwb8gnsv7X/vYD7+eG/tCn/lxOoz7/WVvOljS+xP0VA+Z7Qa9g/V9U66t5F5j9PhXzC6irwP/Of2w/mMvU/l7o6XeE6+j871Zmq3EL/P/B3/PtrJQJAPQWsommpBECPkltJZy0HQOEfC/BksQlAM626lmI1DECFOmo9YLkOQOzjDPKunhBAlapkxa3gEUA7cbyYrCITQOQ3FGyrZBRAjf5rP6qmFUA2xcMSqegWQN+LG+anKhhAiFJzuaZsGUAxGcuMpa4aQNjfImCk8BtAg6Z6M6MyHUAqbdIGonQeQNEzKtqgth9APv3A1k98IECR4GxATx0hQOfDGKpOviFAOqfEE05fIkCQinB9TQAjQONtHOdMoSNAN1HIUExCJECMNHS6S+MkQOAXICRLhCVANfvLjUolJkCI3nf3ScYmQNzBI2FJZydAMaXPykgIKECFiHs0SKkoQNprJ55HSilALk/TB0frKUCDMn9xRowqQNcVK9tFLStAKvnWREXOK0CA3IKuRG8sQNO/LhhEEC1AKaPagUOxLUB8hobrQlIuQNJpMlVC8y5AJU3evkGUL0A8GEWUoBowQOcJG0kgazBAkfvw/Z+7MEA77cayHwwxQOXenGefXDFAj9ByHB+tMUA6wkjRnv0xQOOzHoYeTjJAj6X0Op6eMkA=",
          "dtype": "f8"
         },
         "yaxis": "y"
        },
        {
         "hovertemplate": "<b>Partial Correlation</b><br>%{text}<br>X residual: %{x:.2f}<br>Y residual: %{y:.2f}<extra></extra>",
         "marker": {
          "opacity": 0.6,
          "size": 4
         },
         "mode": "markers",
         "name": "Partial r=0.264",
         "text": "Simple r=0.797<br>Partial r=0.264",
         "type": "scatter",
         "x": {
          "bdata": "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",
          "dtype": "f8"
         },
         "xaxis": "x2",
         "y": {
          "bdata": "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",
          "dtype": "f8"
         },
         "yaxis": "y2"
        },
        {
         "line": {
          "color": "red",
          "dash": "dash"
         },
         "mode": "lines",
         "name": "Trend (r=0.264)",
         "showlegend": false,
         "type": "scatter",
         "x": {
          "bdata": "IOgsPARyUcCvmCx+MxhRwD5JLMBivlDAzPkrApJkUMBbqitEwQpQwNS1VgzhYU/A8hZWkD+uTsAQeFUUnvpNwC3ZVJj8Rk3ASzpUHFuTTMBom1Ogud9LwIb8UiQYLEvApF1SqHZ4SsDCvlEs1cRJwN8fUbAzEUnA/YBQNJJdSMAa4k+48KlHwDhDTzxP9kbAVqROwK1CRsB0BU5EDI9FwJFmTchq20TAr8dMTMknRMDMKEzQJ3RDwOqJS1SGwELACOtK2OQMQsAlTEpcQ1lBwEOtSeChpUDAwhySyADkP8D83pDQvXw+wDihj9h6FT3AdGOO4DeuO8CuJY3o9EY6wOrni/Cx3zjAJqqK+G54N8BgbIkALBE2wJwuiAjpqTTA2PCGEKZCM8ASs4UYY9sxwE51hCAgdDDAFG8GUboZLsCI8wNhNEsrwAB4AXGufCjAePz+gCiuJcDsgPyQot8iwGQF+qAcESDAuBPvYS2FGsCgHOqBIegUwCBLykMrlg7AAF3AgxNcA8DA3WyH90PwvwD7m+LfwNg/ANu6eGek/D+gW2d8S4wJQOCkOJ4xYxJA8Js9fj0AGEAAk0JeSZ0dQBDFI58qnSFAmEAmj7BrJEAgvCh/NjonQKg3K2+8CCpAMLMtX0LXLEC4LjBPyKUvQCRVmR8nOjFA6JKaF2qhMkCs0JsPrQg0QHAOnQfwbzVANEye/zLXNkD8iZ/3dT44QMDHoO+4pTlAhAWi5/sMO0BIQ6PfPnQ8QAyBpNeB2z1A0L6lz8RCP0BMftPjA1VAQC4d1F+lCEFAELzU20a8QUDyWtVX6G9CQNT51dOJI0NAtpjWTyvXQ0CaN9fLzIpEQHzW10duPkVAXnXYww/yRUBAFNk/saVGQCKz2btSWUdABFLaN/QMSEDo8NqzlcBIQMqP2y83dElArC7cq9gnSkCOzdwnettKQHBs3aMbj0tAUgveH71CTEA2qt6bXvZMQBhJ3xcAqk1A+Offk6FdTkDchuAPQxFPQMAl4YvkxE9AUOLwA0M8UEDCMfHBE5ZQQDKB8X/k71BApNDxPbVJUUA=",
          "dtype": "f8"
         },
         "xaxis": "x2",
         "y": {
          "bdata": "3qLA0f5MEsCgUPWwxu4RwGP+KZCOkBHAJKxeb1YyEcDmWZNOHtQQwKkHyC3mdRDAa7X8DK4XEMBaxmLY63IPwN4hzJZ7tg7AYn01VQv6DcDm2J4Tmz0NwGo0CNIqgQzA749xkLrEC8Bz69pOSggLwPdGRA3aSwrAe6Kty2mPCcD//RaK+dIIwIRZgEiJFgjACLXpBhlaB8CNEFPFqJ0GwBBsvIM44QXAlcclQsgkBcAYI48AWGgEwJ1++L7nqwPAIdphfXfvAsClNcs7BzMCwCmRNPqWdgHAruyduCa6AMBjkA7ubPv/v2xH4WqMgv6/df6z56sJ/b98tYZky5D7v4VsWeHqF/q/jiMsXgqf+L+V2v7aKSb3v56R0VdJrfW/qEik1Gg09L+v/3ZRiLvyv7i2Sc6nQvG/gts4lo6T77+QSd6PzaHsv6K3g4kMsOm/tCUpg0u+5r/Ck858iszjv9QBdHbJ2uC/zN8y4BDS27/ou33Tju7Vvw2YyMYMC9C/Y+gmdBVPxL9YQXm1IhCxv2U5bfWV95k/x90vsO0Lvj+bNoLx+szKPyk/doX/SdM/BWMrkoEt2T/ghuCeAxHfP2bVytVCeuI/VGcl3ANs5T9B+X/ixF3oPy+L2uiFT+s/HR0170ZB7j+F18f6g5nwP4Ag9X1kEvI/d2kiAUWL8z9usk+EJQT1P2X7fAcGffY/XESqiub19z9XjdcNx275P07WBJGn5/o/RR8yFIhg/D88aF+XaNn9PzOxjBpJUv8/Ff3czpRlAECSoXMQBSIBQA5GClJ13gFAieqgk+WaAkAFjzfVVVcDQIAzzhbGEwRA+9dkWDbQBEB5fPuZpowFQPQgktsWSQZAcMUoHYcFB0Drab9e98EHQGcOVqBnfghA4rLs4dc6CUBgV4MjSPcJQNv7GWW4swpAV6CwpihwC0DSREfomCwMQE7p3SkJ6QxAyY10a3mlDUBHMgut6WEOQMLWoe5ZHg9AO3s4MMraD0Dcj+c4nUsQQBvislnVqRBAWDR+eg0IEUCXhkmbRWYRQNPYFLx9xBFAEivg3LUiEkA=",
          "dtype": "f8"
         },
         "yaxis": "y2"
        },
        {
         "hovertemplate": "<b>Partial Correlation</b><br>%{text}<br>X residual: %{x:.2f}<br>Y residual: %{y:.2f}<extra></extra>",
         "marker": {
          "opacity": 0.6,
          "size": 4
         },
         "mode": "markers",
         "name": "Partial r=-0.059",
         "text": "Simple r=0.181<br>Partial r=-0.059",
         "type": "scatter",
         "x": {
          "bdata": "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",
          "dtype": "f8"
         },
         "xaxis": "x3",
         "y": {
          "bdata": "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",
          "dtype": "f8"
         },
         "yaxis": "y3"
        },
        {
         "line": {
          "color": "red",
          "dash": "dash"
         },
         "mode": "lines",
         "name": "Trend (r=-0.059)",
         "showlegend": false,
         "type": "scatter",
         "x": {
          "bdata": "zvlCYGPaU8CQybFsrnxTwFKZIHn5HlPAFGmPhUTBUsDWOP6Rj2NSwJkIbZ7aBVLAW9jbqiWoUcAdqEq3cEpRwN93ucO77FDAoUco0AaPUMBjF5fcUTFQwEvOC9I5p0/Az23p6s/rTsBTDccDZjBOwNispBz8dE3AXEyCNZK5TMDg619OKP5LwGSLPWe+QkvA6CobgFSHSsBtyviY6stJwPFp1rGAEEnAdQm0yhZVSMD6qJHjrJlHwH5Ib/xC3kbAAuhMFdkiRsCGhyoub2dFwAonCEcFrETAj8blX5vwQ8ATZsN4MTVDwJcFoZHHeULAHKV+ql2+QcCgRFzD8wJBwCTkOdyJR0DAUAcv6j8YP8BYRuobbKE9wGKFpU2YKjzAasRgf8SzOsByAxyx8Dw5wHxC1+IcxjfAhIGSFElPNsCMwE1Gddg0wJT/CHihYTPAnD7Eqc3qMcCmfX/b+XMwwGB5dRpM+i3AcPfrfaQMK8CAdWLh/B4owJDz2ERVMSXAoHFPqK1DIsBg34sXDKwewIDbeN680BjAoNdlpW31EsCAp6XYPDQKwMA//8w8+/y/AMHMov831r9A35j7PN/xP2B38u88pgRAkD8MsW0uEEBwQx/qvAkWQFBHMiMM5RtAkKUiri3gIECAJ6xK1c0jQHCpNed8uyZAYCu/gySpKUBQrUggzJYsQEAv0rxzhC9AmNitrA05MUCQmfJ64a8yQIhaN0m1JjRAfBt8F4mdNUB03MDlXBQ3QGydBbQwizhAZF5KggQCOkBcH49Q2Hg7QFTg0x6s7zxATKEY7X9mPkBAYl27U90/QJwR0cQTqkBAGHLzq31lQUCU0hWT5yBCQBAzOHpR3EJAjJNaYbuXQ0AI9HxIJVNEQIRUny+PDkVAALXBFvnJRUB6FeT9YoVGQPZ1BuXMQEdActYozDb8R0DsNkuzoLdIQGiXbZoKc0lA5PePgXQuSkBgWLJo3ulKQNy41E9IpUtAWBn3NrJgTEDUeRkeHBxNQFDaOwWG101AzDpe7O+STkBIm4DTWU5PQOJ9Ud3hBFBAIK7i0JZiUEA=",
          "dtype": "f8"
         },
         "xaxis": "x3",
         "y": {
          "bdata": "wUSSWaGFsT/7auga7TKxPzWRPtw44LA/b7eUnYSNsD+p3epe0DqwP8kHgkA40K8/PVQuw88qrz+xoNpFZ4WuPyXthsj+360/mTkzS5Y6rT8Nht/NLZWsP4LSi1DF76s/9h4401xKqz9qa+RV9KSqP9+3kNiL/6k/UwQ9WyNaqT/HUOndurSoPzudlWBSD6g/r+lB4+lppz8kNu5lgcSmP5iCmugYH6Y/DM9Ga7B5pT+AG/PtR9SkP/Rnn3DfLqQ/aLRL83aJoz/cAPh1DuSiP1BNpPilPqI/xZlQez2ZoT855vz91POgP60yqYBsTqA/Q/6qBghSnz8rlwMMNweePxMwXBFmvJw/+8i0FpVxmz/kYQ0cxCaaP836ZSHz25g/tZO+JiKRlz+dLBcsUUaWP4fFbzGA+5Q/b17INq+wkz9X9yA83mWSPz+QeUENG5E/TlKkjXigjz8ihFWY1gqNP/W1BqM0dYo/xee3rZLfhz+VGWm48EmFP2VLGsNOtII/NX3LzawegD8MXvmwFRJ7P6zBW8bR5nU/TCW+2427cD/WEUHikyBnP2WyCxoYlFk/lwNVviGcMz80YcJ1DoxPvw3Rq3KLOWK/zQnnRxOQbL9GIZGOTXNzv6a9LnmRnni/+FnMY9XJfb8s+zSnjHqBv1zJg5wuEIS/jJfSkdClhr+8ZSGHcjuJv+wzcHwU0Yu/HAK/cbZmjr8m6IYzLH6Qvz5PLi79yJG/U7bVKM4Tk79rHX0jn16Uv4OEJB5wqZW/m+vLGEH0lr+zUnMTEj+Yv8u5Gg7jiZm/4yDCCLTUmr/3h2kDhR+cvw/vEP5Vap2/J1a4+Ca1nr8/vV/z9/+fvyuSA3dkpaC/t0VX9MxKob9D+apxNfChv8+s/u6dlaK/W2BSbAY7o7/lE6bpbuCjv3HH+WbXhaS//XpN5D8rpb+HLqFhqNClvxPi9N4Qdqa/n5VIXHkbp78rSZzZ4cCnv7f871ZKZqi/Q7BD1LILqb/PY5dRG7Gpv1sX686DVqq/58o+TOz7qr9zfpLJVKGrv/8x5ka9Rqy/i+U5xCXsrL8=",
          "dtype": "f8"
         },
         "yaxis": "y3"
        },
        {
         "hovertemplate": "<b>Partial Correlation</b><br>%{text}<br>X residual: %{x:.2f}<br>Y residual: %{y:.2f}<extra></extra>",
         "marker": {
          "opacity": 0.6,
          "size": 4
         },
         "mode": "markers",
         "name": "Partial r=0.698",
         "text": "Simple r=0.949<br>Partial r=0.698",
         "type": "scatter",
         "x": {
          "bdata": "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",
          "dtype": "f8"
         },
         "xaxis": "x4",
         "y": {
          "bdata": "QI2VVmyzB8CAizt7y5D7PwChx0RGuAJAkHqql91BEsBATBlQNoUQwCCGOx3kig3AQOT7dkMgJ8DQYfyjeycRQAAVw5xwxAvAkFDZgXGCJ0Ags3DN24EEwKCYEsygDSTA6IOO+9ANNsCwnzMFADAQQJCF8PkmGRzAEJ9vG3VpEMA4Y2dpz6AhwMBZZfrubvK/wM3/DDDxCUAgLhO1HOIQQABLgndX8vM/ICOgWnmZE0DAJ/1JIcYrwMCGH9HgEfe/yNIA4KlJKsAAtgTegcfzPzCteCP4nBnAwLMZ5S6xEkBA6V34VWf4P4AY5eNPCwdAYCzgvkLmB0CAjHA3ILoIQIAPAft8Du4/+JziDRTMLMCAwaV2Pfn1v3BZ1oxFRBFA4JICOBdGB0BoFFgKdiIhQMD2waIUuQtAAGdZ3/Ew4r9A3+DLfTgOwBD88rotCRVACFCc+OuBIcAw5eBEWB8XwDBsHuKmQBFAkApnHqTfIsCAASylamUWQDjCUOhAGyhAON1vw0F1IMCAZls4BxgAQABoJq+YPbo/CHKFKT+OIMCA7eTe9aXtv0D3I5vjkgTAuMMkYmmfJcAA0S0EBnvhPyDfbNInzxBAYE5sS5n8CMCQflueRiQWwABkNCbCKhJAALCn/vTzsL/4Opp8z7klQHB2r5mXCBzAwA1AB4BtFECAAbIdy5LvvwCyjfGu1tE/wPbGfVi4B0BAM/l3EXkBQJBHln1yQxdAEJigsGqyFUDYyuRJ03ghQEBT8f6BqRLA8A5n1ctbK8DQCxYO94MjQMAoKx+DWQJAsKkQZBmAJEBAr4Inr4ADQMAnMGYM4R7AkNGNQi5gJMBQNzmiZoghwACzsBB3J/g/sFx9GU9gI0CgpJUelSMSQBjoZ7k2tiHAgG9e3MmlHEDgQ4ytgCUJwPAZwPNLJxdAGCzRwLCHIkBwN+3tN7oTQFCMbNNBexDAADw3L2is9L+wTBY7noISQPiX4aFNXCDAoJk1N8xyGUCg1+oH4+AfQCAupZf6NQ5AIE15eajXAMCAWeowPMXyP8BwXP3oWfi/4IjNlXcOBcCgI1PDvEQrwDgVl/K4QiZAANv+ZC1u4D+QGM9JR/EaQBA1d0L9KiXAQPAOiBI/9L8AJYcVoAnxP6j1/bYLZidAULlGJapIJ0CAK1oEqLUAwKBcEj2T8ydAQB9wmJJPDsDA3XjFqlQQQMDlY5YOaiTA4APodJj7CEDgNhcN9IYCQED/ofjJp/+/ADeX7pYz5L/AiPHnSOwEwAAnjoQnxOc/MLEIgrJ0K8Ag+t4GhlwqwLAGYAysRhVAsP6KmEqEE0AA0K4ZlLz5v8CoGWKECwVAgPVt4P0y+D/gEzV+2HYCQICNRW6wDuw/iD9h8YPQI0Ag7cp133wRQEDX22T2kiRAADZdFV1N1j9wg04ZYvweQJimmzg+cyPAUJGPzkuyG8DwEio7oBMZwCBRAxoQrSdAkMFYlMDeFMDgKIwY3NcHQADR4DnJpf4/AKioxyJj+b8AsS3jl7/hP4CMJ3Rekv+/YIY4QO/cDMCMkgI9BzQwwIDhSCYN6BRAoH3B7XIzF0CQJ1EJ2LYgwDANb2FOGRNAMMZ96FldHkAIRTnRkWolQACgEDP//BpA4AuJl7akAUBAfWCLkKD4v0C88qkx9RnAIFk8fR+cF0CAerPRnfsdwCAsdBb5awpAkJ2R3zo0GEAgZko6uzcWQPCnpfViVRHAUMzq/2uyIUBgBXSHpywWQODFTAPT8wjAAJdCO4sH4z+QNinPjiofwEDWD7OsnRfAAJQ1kCZx9T+gOSRX5TAHwOB/esWxRirAwMibiLfB/T8AogOlWG4CQCgMD0JMUiPAMJTSvIJbG0BgbskuoUgIQGB2KXaXjS5AAOKBKWjQ/T/gqUTeL6gVQAAM+utTDcm/YIa+vb15GcBwE49VnVYbwBBsIocIKxjAoPn8qrZEFkBAru2i4IT2P8BSJ+G6YBLAwI7XBdLbCEAAYCYoaZ0BQEA+Y0xIjfm/gH2F/mvYKkCAtNdFfYQBwDD36a0e/RHAUHIXAAo0IkAQy/bUK2UXwICPaatVCRrAMHU0BGpiIMAABE0nuKcpQJDEXPrKkhRAOJflmL9eMcDQZosGUgYRwECJp9lTafU/gIEs1INy978gfoampmgawABIO0fehh3AYKKKd8mwFsDYWUWezNclwIjyRYMHHiVAdP7zeuZuMsDAwghdznb1PwAdEa0dFw/AwB4eyM+yA8Bg4O6k37ADwDhh1LjX9CJAQIzGG/WfHcAgnMzTWqwEwODqJO6d9BFAoCtBxgM3MUBgrCVJEKUSwIDQ4qd97uq/iK+m2h2eMMBgFLZUI2wUwGC27a5sIglAAD/qNYhAEEBA1/Xn/qsPwKC2PjVkaCHAAFZh8oKXAUCASwi2OEoEQCAsVSP+4gtAyGdvfXg3JsCglKZXQJ8UwECr7dQFlgXAkIuTyETLIEAwmDjmU5kTwKDVhG8NLiDAwBfwfFsqGECoxjMdJOEqwDCIWvf/SRBA6Evm4RVxIsDgCt0EKWwAQJDvjx1KRCrAgCwgK/Rb4D/At4wWeiQLQACwbj/j2pQ/YMxGmxtTBkAA8jKpcV7Mv1DM+sbrKhvAQJtkUkhaBkCAvMCjoikOQLCyLk0qrSxAgM1zTPXQ/b+Ag/k6ESYBwNC9thdXJRJAgFkD5YjH8z9Qsb4jeZ8pwECwoubwUfW/8GdosrmiH0C4aAz1FBMjwEB3Gt0Pwfm/wHnit+sNL0BgMaTl5yAHwHBV6mc+6SHAiL9JbbhqJEDwid7QcvAPQMCPv+I0uPa/iHwczuXHIsBId489SAojQAAzQou5Kv4/6LkHkaeZLMDwrNatz34bQIAs5uAD3PW/AIPnp2AF7D8gwxJtbjAWQBBPIzoVhBnAwBI0KiZ9BEAAxlgcw+ItwAhl5e/a+CHAoDtF+HMrGMAA/vQf4/PBvyDHvO0Q4BHAQFDcRLMUCkBYHJMeAqYmQABu+0bTJty/AFTqeWyt8r8ACSevkK//vwDICLXOu+W/oMy+NcLtFMDQ2Okj1HUdQIDAyxukT+q/AK7NJrQKHUAgmoZuoaQjQIC/ksEQqgbAgIXK2latBcCwIxqmRWIkwED4QH1mTgtA6DZ8VDZ/LkAglAIJF9QawCBQDLLuoBbAQM2yS3Tz8b+AcaJxnssJwGClpYqoThnAUFfbfGF+GUDAiMMh7EYMwACM3c1bJOq/gJqSwcOgDcBAh2uXDnD2P/DhXW6dARNAANQojfTe2r9IwHZvxMEgQCCVbb0eQw/AQIfRaikiAUBgHeppSuYgQPA6j/taxxvAYN1eZ3S/CUBAD2YEQ6oDwABUw5P5wLI/QAzMEUuB9z8A8QC8TzD3v4Dc3IkP1/c/QC8/XvIR879gKVxA3OQZwEA2oz1VdxjAcAMD2QtyGcBAv/yiEPQgQLAQNCAs0iLAQDvdhdInIsAQSea1xTMuQGCbdv/iiAbAOE8kCpe4IEBIfXEuKBQlQABA47fagoa/AIPCpFauEEBQaPTr0H0YwAC4zGY+ieg/ANXktQmyAEBAp/BUmGEXQIB40kQVQuO/IFMnQ0DoA0CA6slx8E7rv7AFykeehxDAwO98aJxV9L+AK9oMMSb7vwA7FStot/Q/+J/CHXz4MEAAQPUjXtfmvwjHL0+bviDAsKJY3l5BFEDo8jEfivwiQGCpnoODYwbA8KpAms38GEAAgiPu6KnXP0CpikBQHQvAgIYWcli5HUAAOR/CKWoZwDA7MOeClxLAwBC54N2tB8DIwlRvrIwuQECy/+3iExhAAOwMvwDixD/AcfdsUSMOQGD5CH+VcgJAgOVOPM98I0AAXz2o4uALQIAMNAe/8P6/EHHl0pyFG0DgcQhbyBwAQAArT4yBftw/AGADnod6+b/YctHnKtolQBDnvCE8rR9AEFJ8yRk5GUAQLGZzcScpwCj8WH4ytCHAgPUVzX+R8b/gUVHBrRcFQEAuH7u96hfAgKikaD6TA8Bor7VNY7kxwKBvCoYSuR1AgEowkizOBEBwC0dj7L0ZwAAALcsdMfC/4JMPd4ZXAcDwoScJQ8EswAB/tuA4ytw/8PoL/W1THMAAwK7xcPcGwIAmkJ6TUhrAAOiMpGSn1z/QAMLnxVgSQOBPsqcqqhhAgJS6xmqG6D/Q36o9L58oQOASJCxu6gbAALqDYdN+BcCgj2KDUA4JQACgrCa9bvE/YCVwMVjwHEDA/606NSj5v0ALPnknAvi/MCORY0SiIECARGAS+t0iQACfbMvsoAJACEcubYpvKcAgpFW2deEBwEDFbON7rQVAYGzJpF8uI0Agg3gFF7MGQBg5+oz/LCbAADDoOTlfxL8wINp8RvEkQDB9dO2kmxnAYKS8PHqxD8BgvMFjcBULwKC59D/0VC/AkKEhf68EEcCAnBhfSiESwFBqk7dqviJA4NLYaCPbEMBA1UiPe/EYwJikEo5uUCTAoFnDxdReEkAAV3kjFpMJwLAroYA4gRZAkIAuS2ibEkDgD+39zykaQABTaI/UiQlAaBRGkvR/IMBAlc5FzmsMwFg485j2TyjAOBkYW9wzIkAg58Z4OR0IwDiLn40U9ynAABd1shVOEcAArG1v5zbzvwBJSnS/+hhAsAnXxJHkFMDgqBEoy7AVQJDsmiSQPRbAAJoqPXmpAEAA+Eo7l9KsP+iPmuuMNzDAgLYbwtk38r8ACe0fmAQNwFCmtOpqgBFAwCBlrrUM8D/omMQGF4wkwIAYTNndCArAAAEr5Gyu4j+QIu8hTS0WwGDXSDpmnCJAAGZjJnXHGcDAJMuJ9EUNwEApiUisY/u/UDWLF0XEHMAgsqSZOo4QQMBTqfrRKhNAAJkYK9Pj3D9AXXVik5QRwJAvGSVBSRPAQNPKJZJMBEDgeh42AGISQGATorP+VhVA4CxS1pxyEECgzwSnuK8WQIDrCb0dxBRAYPhSV0rgJ8AACXIQ2acXQGAa6g3ywRjAgB0HDCe887/AxR5AyWT2vwAadq1al+C/HCyOQ0JqMUAgeimICucWwIAtWDUaTf6/0EQwrqSlEcBAeGrQ4pzxv8AUojgcDPA/YFSKQwiTGEBAleekUvcNQIBSGbhzch1AwP9w8h2kCcAAwBCrgTXUP6j5/96KZyXAgJhbjaFVAEBgSXFY6aIOwADe4Rz79+g/IHWuGPovGUDYolQRHtsgQKC/+86Y6hlAIFMzljCyDsCAW2XJsrsbQGCR+YJU+ynAgJHxcC9e/78Aoe1Jwczjv2AV+ofUeiHAIOf7wm5yFsCAk6p9EmPzv+D5BegWWxdA0O8+o5YJKcAQa4qiJx4WQAAtiTMZXva/wGz3ZjfVDEBAa3+LRrsIQKAc2HFQQBDA4Lq8izZ7G0DwG7aDb4odQMDhrqw/zvw/AJgWcg8MyT+A/NplKCXyvwAH2OOwcOw/wOuOzj/5JsAARQVSQjnRP2ALTk/9TBlAQP1FDaoGC0AAwMm/sZHXPxD1kKFDmyDAwDtTfGMj+j9QX2PFohogQACQGOImhANAMDjWM9gmIMAAnEd03Im6v0CGPaRXCChAkBklkendGUBQtbwxhHUyQKByqLfyEwfAUC2WIXShFsB84/OcnDQwwAB6NtHiWtg/0GWDnDOzEkAA52sAcvDoP2CkxiMuUQVAYBip+Tu2KEDgW/oLWisXwIAdxqjRi/2/kNFEEkemJUAg+41Un1QFQGCv3CgssQnA8KwpUnBzI0BAiu5fu0MDwDBgTK4zeidAgJdeqYeU+78g8poPmZwTwEDjPf9mjx/A4N4jZmSgB8D4TFI0WMElQIDoA/1suQ9A8HzLUiz+GkAwGZltlH0VQIDC4xGweRPAmKIsCOwVLsAAdptnKyUQQIA9BE1htgNAABdKDgIQI0AAqDl73fDvv4CgB0PUpuI/GPMivTqMIUBQXQL65horwJCRHSNuIShAALx/QjEwIsBgeNHwW2wPQBDjVbkkphTAoLzrUTl6FEAANzq29CokQIDufIvXihZAADV8SymZAMAA1OpVaPnHPwBmwZpq698/QMbhoXj+8r/EvYoMZ6M1QGA0QfbvYgnAgGZ41LUDHcCADBohRY31PwBwMca8xsw/CDw+V+SRIMDA7iFFfyj7v4DofIw5kArAYKOcr0oHGMAA5zEuF7oOQDgpSfIwaSHAsAAjr9wdEkBYGIFc7Q4gQLj06js97izAsOVgIgBbHcCgzhTE1KETQKD4cw2YRA1AIFO2tqAYFMBYkDYvfG8hQGAl/CmBYghACNU9pGY8JMCAbthQSrrhP6gcsifEjCJAoPdN4AQ8FkBAn5lz+HAlQKAuSOP4uAjAwBLovWJKIEAAFnJ1tiT4P4AMxFinPSDAAN30/Ru70r/Acif7keECQOAgyLzJwBZAIFPzFlUBJ8BAbBi+F+ENQDAlYcMhzCpAQLzMwRS6FkAg2zDyB4oQQBBHbABcwihAHLEPzkXLMcDgoIzH790DQGjWeYhADiXAAFN8KG+P4L9AwiXtnfryP4DXak/Shg1AADoMoRRQyL+IYgAqyOwkwID9vgrccfa/iBY2ZatdJcDAHaQHZM8TQGAeKzgbYyTAqJAXRB5eIEAglJXBSIANwIA4yMByDPC/iK/yAhPuIUDA1QNWF0cUwJhcIpidFidAUNX5s5iWIcDguBIXiogBwADYqi+Ry8c/cDRM520XIEAAd6jz6lfcP7BzECL/oB5AwLgfeyVO/D8AvELkqW3QP5Be2NKGtBRAQISrWVoJ+L+Arc1egScIwKD7WUFiPDDAoODugjZpHEAAHPS5BdbiP5hcgKFZSizAMOQW/a/jG8BAmcnn3cEDwADUi/MltwzA4G6126jtDECAP0PaHs0PQDAzDI0zoxRAgFyb3/ft979gB+nt9hkTwGAcMCUGfwvAYO/PdP2eGMCIqjuXuacjwACf4vzbiPA/0OD4lNR6FkDAn4FMKEcAQOAMmC05riVAIECtWuM1E0DIC1i2xfUnQMBfZCmOyPM/uCkB680ZKcCIAWQSBv8lQEAi9WHG1hLAQOFNvFowFEBA6moiwnH2v7CrIgaxdRVAIECx6bzRFUDAv5ihvX8UwKBMG/ReKCBAgLsc4RCV6r/AgLtzI3YMQHiJF08C1iDAgIA5bJs6+T8wUvysMqQYQECXFmLC3/8/wJ4+DJQbAcDgwXtrMZAVwACFrrScJ9M/YIMfUChuH0AA4Jd23wkYwKAtYY3H+B1AAAh5VIU8/z8Ao/Y0RDvrvzBIZi+qmxfAkME7eMdfH8Bw6YDztKciQGDqvDqIBhTAgMWR1ieo7r8QpzlSaIUQQKid9vSMQyjAALJJVJejH8CAywaFtdftv4BQMnpB2/c/gDXtXOEm/D8A2hkG/aH2P6A66rj+mCxAEDGk3AFdE0AAwFNZA9v9v0iEF559EyHAAN01+vLPJEAA44JZwzMbQNBqSH4yXhNAINYgnsO8JsDA0s5q9gL7vyC8bv4GPRLAACtUlwqw3z8AWMSO4wupP3BP9lp8xxxAgLRlFXj7/7+om7iv5Z4lQIAHNU1Xu/i/APDZM7TLmz9AetUVX0gPwKgN4SQT5iTA0Gq5xZM7FEAAuCZuPPy9v2B8dXCkxgzAIOneKZRmG0BA2CHdfBf0P2glCD+CJSJAANBpugxa+7/wmSqJZXARQGAQzZ0mQQTAANAdGxXK37+QfBgb1TASQABHoz5aR+W/wMlVhMHV/L8AVaohtLzsv0DWG0IFoy3AiLmcgZIkIkBAnVfj04AhwKAt5Fa+nARA4GZ5zlrsDsD4+jO+soYjwNAwD516/htAoImynUrZEEAA15zUvQYcwOBTmu3D+wFAAFuZDzabGUDASKAYYgUPQAAZAUxmIus/AAlw1T7O5D9QsPL19xAQwABa7W3dngjAANpEf4CZy78QlOvT1ScbwIC7ZfD+QOQ/ABBfUwMtLkCA3Lt+vlznP6CH9JY76QjAeCnetT1qJcAYW4evJyAkwCDbTFVOTQZAyPKb1KibJ0CASwC4pdriv+AFFXri9wHAwDIW5ZNoF0CwGEzs9lYZwMAev+tCeRFAgLeelH6s6r+AVJVDKfPmv0AdApy63RvAQA2dD+TU+L/QnBLx+34rwED2RqIWcBvAACjYIfct4D9YOatom/IiQEAGPzwl9PS/wCYee1Qa+D8AIN2IHioLwAASpkgdaOY/wA7qSu4jG0BgfBbQHfEZwEhw9M2EIjTA4HbbYI+jCsDgjXr1hMMRwABQLyI4n5W/oHYTbewsB8BgrV/vl6goQMAyyp1Mbw1AoLItmK4RHUAgOimSuPsTQEChTGht7xXAwOxs4Y5c/z/wFOzR0+ohQCD2UTxdpQjAEMZzb4/+FsCALo9cYuX8vzAE4axX/RVA4IrvhnPaFkBIE1llGS0hQFAkKkGCsyrA+Gb89qJHIcBQwJ9npMIVQADbZMmcKde/AIGdMvkP+T+gpkVQF5UYwHCzgeSdiBfAgMoOpZDb9z8AffQmz5L5P4AbGFwEQuY/4BjMWh4LHcAAOkcXes3vv0AvewhUrfO/AMRT3ikG5j/oRW7pnvslQIC6U+jQWeS/YPxYU+CvJEA49R8uT70jwIANu+DrJQ3AYDWvay9sFkAA/vjx/aDLP0CW4Lbw5gjAwBB5PaZW+z/oyaBd3DghwIDtODdwEeu/4EEIeM6RAEAgLpHSKTUAQOCh2uriqQ5AoJBicSmBJkAADln6HErDP0CK6EYrc/i/wMlc6rtbIUDgxmOAox8FQGD/w58qbBBAoHrjtqezFMAAYQINltrxv4C7Z+LceeM/GKABU9W1JcBgLcNtJYsawKChTYQr9Q/AkLE27pa2HEDA6kc+rRIhwNCEHBEg4RPAQMhDKVEtIsDQj3YeORkQwED7Shjhs/g/CHC1a629IUAwyODamOwSQCDDggZGDhpAAOzzOrB/8D/AwNPIqV0CQNA7X6DfMRfAqPkyGYcZIcCoxTRzG18tQECvtQ7UYfc/IC7hTCvIHMCAUCVlTq0AQIDXnuACaARAYElAV/IfI8CALQeai3YGQGjYrQm36SLAgEvUy98vFUDgXp+x8C0TwAA4LmGjqsE/cO02VR3zF0BwBESwAOEiwCBOJsKrgATAeA6R/ZSLJkCgRJEEL+UUwKC3jHEUrwJAANQh5B3d378guCWW4dkWQAA/ueyf/QdAwLnsY5nr/b8ALPLcPo8EwPC3o/DUvhvAoLAXUZVMA8DA3DVFddUIQABkBc8of8m/sHDe1RTbEcDQ1ozrP/wYQGDkYBu5dRHAGBRS/PwxL0CABQGI3/zmv4Anv1wHUh3AwEWBBeomFECgeWrShL0IwIjasV3tKCDAEPwrMUOpHEAAUJ5keKUbwADqgVt7a+W/iCQjcJIIKkCAsiBZFEgQwGCeeTjIWgTAYCZwi6Z9AcBAW3ZoNkgUQCAsiIk8AiFAsNsiG7z0GsAAEWVbNcbiPwDKY1cYo/8/AAPHMm5pDUAAgrOLQiMPwACKzMao/vs/wLigLvByAkDAAfyhjr4NwOAX+Dm04QfAEBMR2lBeFsDATW6tSOr6P+BjqJh+5hPAiGUKKTOrIcBQvZL3VrsZQPCJgqqbdCJAQFOMTiZL9j8AAkoR95PnPwAIZfhS9SvAQAcJgGjo/r9AIAqsaqQaQKBhoRlZTRjAeASVrrd6IUAQmC+q8P8hQFD75FgzyCZAoFEKLoquFkBgY05p+VMdwACLYf84RNo/IIsuHG/JCcAANG+SBB0NQIBPFEtkTBVAgBJmttw5FED436a7uCUwQGDxC0fuwgPAAKwMB12e5T/gAKJzIpYfQGhfxzn5pSNAAL6GmMqf7j8QLT3lasIUwJjx8tpQ4iFAAOA8jWEgHMAAr8HLVQ7mPwAncfRItdU/AF6iL9Khyz/QTfbl6vEWwADaIf+eXwrAYOxBtfRnC0AQTvHmv7InwBD+eTZE9yNAAMwlZo6+879gzQQLNr8fwLDztnzxqh1AAIKQBi6T5r9gY4MbYZMmQCBGa6nKDxbAQDbVC4nTK8CANKn0Sv30PxBCegnqQitAmLWvbQkSI0Do8JBZ4lkiQAAJCj5ASuA/gOMKgPeHEcA4UCDTV/AtwCDOqsbIiBjAYKk8GFa4EsAIvCWNd+0iQGCZNhtwRSdAQKFD33Q887+Ah3FJgZjgv4DnRB4vAuW/MA6lmisCEEAAIDn7zqAFwKCufKFm+BhAQDwJK1DMKMBAFNN63GT/P8DhW6lrZgVAYHeGFLeJE8Ag4FBdi84fwAAeZyOcXwJAQCzHAQWRA8DQ9nuGrMcXQIC9FS0mavW/gKOexyx8E8AgdK9YnVUSQACPJHHRd/g/AN2magBG5D8A/UPxkS0CwBC1/zujGzBAgHBsTqqM/r+Aj/c3gGvnv0CaffBmOBVAoDkGw9w2G8Bw+ksvxfIjQMAX2/GufBrAAIWV0h//2T9IgWAcCeUwwECVsjmHHwjAgEbBqO+XHkBguRrtKjkXQADA+WKZk7M/4NqO52V7HcDQNUH/OagUQNBQSrbD2xfAcCxEj65/JsCAXcgUaTHzP8CfUjNiKPc/wMGzz5M0/j+gfFl4uwgIQADlbd0VCOe/wIxQGoJrJsCAGf0ySMcKQGDgLb/wjAxAwNkci9zzFMDgyaACmkcoQHCWDnHuEhJAsAS26TQAFEA=",
          "dtype": "f8"
         },
         "yaxis": "y4"
        },
        {
         "line": {
          "color": "red",
          "dash": "dash"
         },
         "mode": "lines",
         "name": "Trend (r=0.698)",
         "showlegend": false,
         "type": "scatter",
         "x": {
          "bdata": "dLnBLzRBUsBh0tcrVt9RwE3r7Sd4fVHAOgQEJJobUcAmHRogvLlQwBM2MBzeV1DAAJ6MMADsT8DZz7goRChPwLIB5SCIZE7AizMRGcygTcBkZT0REN1MwD6XaQlUGUzAF8mVAZhVS8Dw+sH525FKwMos7vEfzknAo14a6mMKScB8kEbip0ZIwFXCctrrgkfALvSe0i+/RsAIJsvKc/tFwOFX98K3N0XAuokju/tzRMCUu0+zP7BDwG3te6uD7ELARh+oo8coQsAfUdSbC2VBwPiCAJRPoUDApGlZGCe7P8BWzbEIrzM+wAgxCvk2rDzAvJRi6b4kO8Bu+LrZRp05wCBcE8rOFTjA0r9rulaONsCEI8Sq3gY1wDiHHJtmfzPA6up0i+73McCcTs17dnAwwKBkS9j80S3ABCz8uAzDKsBo86yZHLQnwMy6XXospSTAMIIOWzyWIcAwk353mA4dwAAi4Di48BbAwLBB+tfSEMAgf0Z372kFwEA5E/RdXPK/AC6aGYxs2D9AUOAApJL+P6AKrX0ShQtAgPZ0fWngE0DAZxO8Sf4ZQHjsWP0UDiBAECWoHAUdI0CwXfc79SsmQEiWRlvlOilA4M6VetVJLECAB+WZxVgvQAwgmtzaMzFAWLxB7FK7MkCoWOn7ykI0QPT0kAtDyjVARJE4G7tRN0CQLeAqM9k4QNzJhzqrYDpALGYvSiPoO0B4AtdZm289QMiefmkT9z5Aih2TvEU/QECw62bEAQNBQNi5Osy9xkFA/ocO1HmKQkAkVuLbNU5DQEwktuPxEURAcvKJ663VRECYwF3zaZlFQMCOMfslXUZA5lwFA+IgR0AOK9kKnuRHQDT5rBJaqEhAWseAGhZsSUCClVQi0i9KQKhjKCqO80pA0DH8MUq3S0D0/885BntMQBzOo0HCPk1ARJx3SX4CTkBoaktROsZOQJA4H1n2iU9AXIN5MNkmUEBwamM0t4hQQIJRTTiV6lBAljg3PHNMUUCqHyFAUa5RQLwGC0QvEFJA0O30Rw1yUkDk1N5L69NSQPa7yE/JNVNACqOyU6eXU0A=",
          "dtype": "f8"
         },
         "xaxis": "x4",
         "y": {
          "bdata": "uNvvTv+dLMCIGfodkwQswFhXBO0mayvAKZUOvLrRKsD40hiLTjgqwMkQI1rininAmk4tKXYFKcBqjDf4CWwowDrKQced0ifACghMljE5J8DaRVZlxZ8mwKuDYDRZBibAe8FqA+1sJcBL/3TSgNMkwBw9f6EUOiTA7HqJcKigI8C8uJM/PAcjwIz2nQ7QbSLAXDSo3WPUIcAtcrKs9zohwP2vvHuLoSDAze3GSh8IIMA9V6IzZt0ewN3SttGNqh3AfU7Lb7V3HMAdyt8N3UQbwL1F9KsEEhrAX8EISizfGMD/PB3oU6wXwJ+4MYZ7eRbAQTRGJKNGFcDhr1rCyhMUwIErb2Dy4BLAIqeD/hmuEcDCIpicQXsQwMc8WXXSkA7ABzSCsSErDMBHK6vtcMUJwIsi1CnAXwfAyxn9ZQ/6BMAMESaiXpQCwEwIT96tLgDAGP/vNPqR+7+f7UGtmMb2vybckyU3+/G/QJXLO6tf6r9Ncm8s6Mjgvwk9TXSUyMy/gJ1Gku8ksz9E7UkDwvbXP64ZAREkkuU/oDxdIOco7z/Vr9wX1V/0P07Bip82K/k/yNI4J5j2/T8ncnPX/GABQON6SputxgNAoIMhX14sBkBjjPgiD5IIQB+Vz+a/9wpA3J2mqnBdDUCfpn1uIcMPQK5XKhlpFBFAD9wVe0FHEkBtYAHdGXoTQMzk7D7yrBRALWnYoMrfFUCL7cMCoxIXQO1xr2R7RRhAS/aaxlN4GUCpeoYoLKsaQAv/cYoE3htAaYNd7NwQHUDHB0lOtUMeQCmMNLCNdh9ARAgQCbNUIEBzygU6H+4gQKSM+2qLhyFA007xm/cgIkAEEefMY7oiQDPT3P3PUyNAYpXSLjztI0CTV8hfqIYkQMIZvpAUICVA89uzwYC5JUAgnqny7FImQFFgnyNZ7CZAgSKVVMWFJ0Cv5IqFMR8oQOCmgLaduChAEGl25wlSKUBBK2wYduspQG/tYUnihCpAn69Xek4eK0DQcU2rurcrQP4zQ9wmUSxALvY4DZPqLEBfuC4+/4MtQI16JG9rHS5AvTwaoNe2LkA=",
          "dtype": "f8"
         },
         "yaxis": "y4"
        }
       ],
       "layout": {
        "annotations": [
         {
          "font": {
           "size": 16
          },
          "showarrow": false,
          "text": "GDP_Growth vs Consumer_Confidence<br>Controlling for Unemployment_Rate",
          "x": 0.225,
          "xanchor": "center",
          "xref": "paper",
          "y": 1,
          "yanchor": "bottom",
          "yref": "paper"
         },
         {
          "font": {
           "size": 16
          },
          "showarrow": false,
          "text": "Stock_Returns vs Consumer_Confidence<br>Controlling for GDP_Growth, Inflation_Rate",
          "x": 0.775,
          "xanchor": "center",
          "xref": "paper",
          "y": 1,
          "yanchor": "bottom",
          "yref": "paper"
         },
         {
          "font": {
           "size": 16
          },
          "showarrow": false,
          "text": "Housing_Price_Index vs Interest_Rates<br>Controlling for GDP_Growth, Inflation_Rate",
          "x": 0.225,
          "xanchor": "center",
          "xref": "paper",
          "y": 0.375,
          "yanchor": "bottom",
          "yref": "paper"
         },
         {
          "font": {
           "size": 16
          },
          "showarrow": false,
          "text": "Tech_Investment vs Productivity_Index<br>Controlling for GDP_Growth",
          "x": 0.775,
          "xanchor": "center",
          "xref": "paper",
          "y": 0.375,
          "yanchor": "bottom",
          "yref": "paper"
         }
        ],
        "height": 600,
        "showlegend": true,
        "template": {
         "data": {
          "bar": [
           {
            "error_x": {
             "color": "#2a3f5f"
            },
            "error_y": {
             "color": "#2a3f5f"
            },
            "marker": {
             "line": {
              "color": "#E5ECF6",
              "width": 0.5
             },
             "pattern": {
              "fillmode": "overlay",
              "size": 10,
              "solidity": 0.2
             }
            },
            "type": "bar"
           }
          ],
          "barpolar": [
           {
            "marker": {
             "line": {
              "color": "#E5ECF6",
              "width": 0.5
             },
             "pattern": {
              "fillmode": "overlay",
              "size": 10,
              "solidity": 0.2
             }
            },
            "type": "barpolar"
           }
          ],
          "carpet": [
           {
            "aaxis": {
             "endlinecolor": "#2a3f5f",
             "gridcolor": "white",
             "linecolor": "white",
             "minorgridcolor": "white",
             "startlinecolor": "#2a3f5f"
            },
            "baxis": {
             "endlinecolor": "#2a3f5f",
             "gridcolor": "white",
             "linecolor": "white",
             "minorgridcolor": "white",
             "startlinecolor": "#2a3f5f"
            },
            "type": "carpet"
           }
          ],
          "choropleth": [
           {
            "colorbar": {
             "outlinewidth": 0,
             "ticks": ""
            },
            "type": "choropleth"
           }
          ],
          "contour": [
           {
            "colorbar": {
             "outlinewidth": 0,
             "ticks": ""
            },
            "colorscale": [
             [
              0,
              "#0d0887"
             ],
             [
              0.1111111111111111,
              "#46039f"
             ],
             [
              0.2222222222222222,
              "#7201a8"
             ],
             [
              0.3333333333333333,
              "#9c179e"
             ],
             [
              0.4444444444444444,
              "#bd3786"
             ],
             [
              0.5555555555555556,
              "#d8576b"
             ],
             [
              0.6666666666666666,
              "#ed7953"
             ],
             [
              0.7777777777777778,
              "#fb9f3a"
             ],
             [
              0.8888888888888888,
              "#fdca26"
             ],
             [
              1,
              "#f0f921"
             ]
            ],
            "type": "contour"
           }
          ],
          "contourcarpet": [
           {
            "colorbar": {
             "outlinewidth": 0,
             "ticks": ""
            },
            "type": "contourcarpet"
           }
          ],
          "heatmap": [
           {
            "colorbar": {
             "outlinewidth": 0,
             "ticks": ""
            },
            "colorscale": [
             [
              0,
              "#0d0887"
             ],
             [
              0.1111111111111111,
              "#46039f"
             ],
             [
              0.2222222222222222,
              "#7201a8"
             ],
             [
              0.3333333333333333,
              "#9c179e"
             ],
             [
              0.4444444444444444,
              "#bd3786"
             ],
             [
              0.5555555555555556,
              "#d8576b"
             ],
             [
              0.6666666666666666,
              "#ed7953"
             ],
             [
              0.7777777777777778,
              "#fb9f3a"
             ],
             [
              0.8888888888888888,
              "#fdca26"
             ],
             [
              1,
              "#f0f921"
             ]
            ],
            "type": "heatmap"
           }
          ],
          "histogram": [
           {
            "marker": {
             "pattern": {
              "fillmode": "overlay",
              "size": 10,
              "solidity": 0.2
             }
            },
            "type": "histogram"
           }
          ],
          "histogram2d": [
           {
            "colorbar": {
             "outlinewidth": 0,
             "ticks": ""
            },
            "colorscale": [
             [
              0,
              "#0d0887"
             ],
             [
              0.1111111111111111,
              "#46039f"
             ],
             [
              0.2222222222222222,
              "#7201a8"
             ],
             [
              0.3333333333333333,
              "#9c179e"
             ],
             [
              0.4444444444444444,
              "#bd3786"
             ],
             [
              0.5555555555555556,
              "#d8576b"
             ],
             [
              0.6666666666666666,
              "#ed7953"
             ],
             [
              0.7777777777777778,
              "#fb9f3a"
             ],
             [
              0.8888888888888888,
              "#fdca26"
             ],
             [
              1,
              "#f0f921"
             ]
            ],
            "type": "histogram2d"
           }
          ],
          "histogram2dcontour": [
           {
            "colorbar": {
             "outlinewidth": 0,
             "ticks": ""
            },
            "colorscale": [
             [
              0,
              "#0d0887"
             ],
             [
              0.1111111111111111,
              "#46039f"
             ],
             [
              0.2222222222222222,
              "#7201a8"
             ],
             [
              0.3333333333333333,
              "#9c179e"
             ],
             [
              0.4444444444444444,
              "#bd3786"
             ],
             [
              0.5555555555555556,
              "#d8576b"
             ],
             [
              0.6666666666666666,
              "#ed7953"
             ],
             [
              0.7777777777777778,
              "#fb9f3a"
             ],
             [
              0.8888888888888888,
              "#fdca26"
             ],
             [
              1,
              "#f0f921"
             ]
            ],
            "type": "histogram2dcontour"
           }
          ],
          "mesh3d": [
           {
            "colorbar": {
             "outlinewidth": 0,
             "ticks": ""
            },
            "type": "mesh3d"
           }
          ],
          "parcoords": [
           {
            "line": {
             "colorbar": {
              "outlinewidth": 0,
              "ticks": ""
             }
            },
            "type": "parcoords"
           }
          ],
          "pie": [
           {
            "automargin": true,
            "type": "pie"
           }
          ],
          "scatter": [
           {
            "fillpattern": {
             "fillmode": "overlay",
             "size": 10,
             "solidity": 0.2
            },
            "type": "scatter"
           }
          ],
          "scatter3d": [
           {
            "line": {
             "colorbar": {
              "outlinewidth": 0,
              "ticks": ""
             }
            },
            "marker": {
             "colorbar": {
              "outlinewidth": 0,
              "ticks": ""
             }
            },
            "type": "scatter3d"
           }
          ],
          "scattercarpet": [
           {
            "marker": {
             "colorbar": {
              "outlinewidth": 0,
              "ticks": ""
             }
            },
            "type": "scattercarpet"
           }
          ],
          "scattergeo": [
           {
            "marker": {
             "colorbar": {
              "outlinewidth": 0,
              "ticks": ""
             }
            },
            "type": "scattergeo"
           }
          ],
          "scattergl": [
           {
            "marker": {
             "colorbar": {
              "outlinewidth": 0,
              "ticks": ""
             }
            },
            "type": "scattergl"
           }
          ],
          "scattermap": [
           {
            "marker": {
             "colorbar": {
              "outlinewidth": 0,
              "ticks": ""
             }
            },
            "type": "scattermap"
           }
          ],
          "scattermapbox": [
           {
            "marker": {
             "colorbar": {
              "outlinewidth": 0,
              "ticks": ""
             }
            },
            "type": "scattermapbox"
           }
          ],
          "scatterpolar": [
           {
            "marker": {
             "colorbar": {
              "outlinewidth": 0,
              "ticks": ""
             }
            },
            "type": "scatterpolar"
           }
          ],
          "scatterpolargl": [
           {
            "marker": {
             "colorbar": {
              "outlinewidth": 0,
              "ticks": ""
             }
            },
            "type": "scatterpolargl"
           }
          ],
          "scatterternary": [
           {
            "marker": {
             "colorbar": {
              "outlinewidth": 0,
              "ticks": ""
             }
            },
            "type": "scatterternary"
           }
          ],
          "surface": [
           {
            "colorbar": {
             "outlinewidth": 0,
             "ticks": ""
            },
            "colorscale": [
             [
              0,
              "#0d0887"
             ],
             [
              0.1111111111111111,
              "#46039f"
             ],
             [
              0.2222222222222222,
              "#7201a8"
             ],
             [
              0.3333333333333333,
              "#9c179e"
             ],
             [
              0.4444444444444444,
              "#bd3786"
             ],
             [
              0.5555555555555556,
              "#d8576b"
             ],
             [
              0.6666666666666666,
              "#ed7953"
             ],
             [
              0.7777777777777778,
              "#fb9f3a"
             ],
             [
              0.8888888888888888,
              "#fdca26"
             ],
             [
              1,
              "#f0f921"
             ]
            ],
            "type": "surface"
           }
          ],
          "table": [
           {
            "cells": {
             "fill": {
              "color": "#EBF0F8"
             },
             "line": {
              "color": "white"
             }
            },
            "header": {
             "fill": {
              "color": "#C8D4E3"
             },
             "line": {
              "color": "white"
             }
            },
            "type": "table"
           }
          ]
         },
         "layout": {
          "annotationdefaults": {
           "arrowcolor": "#2a3f5f",
           "arrowhead": 0,
           "arrowwidth": 1
          },
          "autotypenumbers": "strict",
          "coloraxis": {
           "colorbar": {
            "outlinewidth": 0,
            "ticks": ""
           }
          },
          "colorscale": {
           "diverging": [
            [
             0,
             "#8e0152"
            ],
            [
             0.1,
             "#c51b7d"
            ],
            [
             0.2,
             "#de77ae"
            ],
            [
             0.3,
             "#f1b6da"
            ],
            [
             0.4,
             "#fde0ef"
            ],
            [
             0.5,
             "#f7f7f7"
            ],
            [
             0.6,
             "#e6f5d0"
            ],
            [
             0.7,
             "#b8e186"
            ],
            [
             0.8,
             "#7fbc41"
            ],
            [
             0.9,
             "#4d9221"
            ],
            [
             1,
             "#276419"
            ]
           ],
           "sequential": [
            [
             0,
             "#0d0887"
            ],
            [
             0.1111111111111111,
             "#46039f"
            ],
            [
             0.2222222222222222,
             "#7201a8"
            ],
            [
             0.3333333333333333,
             "#9c179e"
            ],
            [
             0.4444444444444444,
             "#bd3786"
            ],
            [
             0.5555555555555556,
             "#d8576b"
            ],
            [
             0.6666666666666666,
             "#ed7953"
            ],
            [
             0.7777777777777778,
             "#fb9f3a"
            ],
            [
             0.8888888888888888,
             "#fdca26"
            ],
            [
             1,
             "#f0f921"
            ]
           ],
           "sequentialminus": [
            [
             0,
             "#0d0887"
            ],
            [
             0.1111111111111111,
             "#46039f"
            ],
            [
             0.2222222222222222,
             "#7201a8"
            ],
            [
             0.3333333333333333,
             "#9c179e"
            ],
            [
             0.4444444444444444,
             "#bd3786"
            ],
            [
             0.5555555555555556,
             "#d8576b"
            ],
            [
             0.6666666666666666,
             "#ed7953"
            ],
            [
             0.7777777777777778,
             "#fb9f3a"
            ],
            [
             0.8888888888888888,
             "#fdca26"
            ],
            [
             1,
             "#f0f921"
            ]
           ]
          },
          "colorway": [
           "#636efa",
           "#EF553B",
           "#00cc96",
           "#ab63fa",
           "#FFA15A",
           "#19d3f3",
           "#FF6692",
           "#B6E880",
           "#FF97FF",
           "#FECB52"
          ],
          "font": {
           "color": "#2a3f5f"
          },
          "geo": {
           "bgcolor": "white",
           "lakecolor": "white",
           "landcolor": "#E5ECF6",
           "showlakes": true,
           "showland": true,
           "subunitcolor": "white"
          },
          "hoverlabel": {
           "align": "left"
          },
          "hovermode": "closest",
          "mapbox": {
           "style": "light"
          },
          "paper_bgcolor": "white",
          "plot_bgcolor": "#E5ECF6",
          "polar": {
           "angularaxis": {
            "gridcolor": "white",
            "linecolor": "white",
            "ticks": ""
           },
           "bgcolor": "#E5ECF6",
           "radialaxis": {
            "gridcolor": "white",
            "linecolor": "white",
            "ticks": ""
           }
          },
          "scene": {
           "xaxis": {
            "backgroundcolor": "#E5ECF6",
            "gridcolor": "white",
            "gridwidth": 2,
            "linecolor": "white",
            "showbackground": true,
            "ticks": "",
            "zerolinecolor": "white"
           },
           "yaxis": {
            "backgroundcolor": "#E5ECF6",
            "gridcolor": "white",
            "gridwidth": 2,
            "linecolor": "white",
            "showbackground": true,
            "ticks": "",
            "zerolinecolor": "white"
           },
           "zaxis": {
            "backgroundcolor": "#E5ECF6",
            "gridcolor": "white",
            "gridwidth": 2,
            "linecolor": "white",
            "showbackground": true,
            "ticks": "",
            "zerolinecolor": "white"
           }
          },
          "shapedefaults": {
           "line": {
            "color": "#2a3f5f"
           }
          },
          "ternary": {
           "aaxis": {
            "gridcolor": "white",
            "linecolor": "white",
            "ticks": ""
           },
           "baxis": {
            "gridcolor": "white",
            "linecolor": "white",
            "ticks": ""
           },
           "bgcolor": "#E5ECF6",
           "caxis": {
            "gridcolor": "white",
            "linecolor": "white",
            "ticks": ""
           }
          },
          "title": {
           "x": 0.05
          },
          "xaxis": {
           "automargin": true,
           "gridcolor": "white",
           "linecolor": "white",
           "ticks": "",
           "title": {
            "standoff": 15
           },
           "zerolinecolor": "white",
           "zerolinewidth": 2
          },
          "yaxis": {
           "automargin": true,
           "gridcolor": "white",
           "linecolor": "white",
           "ticks": "",
           "title": {
            "standoff": 15
           },
           "zerolinecolor": "white",
           "zerolinewidth": 2
          }
         }
        },
        "title": {
         "text": "Partial Correlation Analysis - Residual Plots"
        },
        "xaxis": {
         "anchor": "y",
         "domain": [
          0,
          0.45
         ]
        },
        "xaxis2": {
         "anchor": "y2",
         "domain": [
          0.55,
          1
         ]
        },
        "xaxis3": {
         "anchor": "y3",
         "domain": [
          0,
          0.45
         ]
        },
        "xaxis4": {
         "anchor": "y4",
         "domain": [
          0.55,
          1
         ]
        },
        "yaxis": {
         "anchor": "x",
         "domain": [
          0.625,
          1
         ]
        },
        "yaxis2": {
         "anchor": "x2",
         "domain": [
          0.625,
          1
         ]
        },
        "yaxis3": {
         "anchor": "x3",
         "domain": [
          0,
          0.375
         ]
        },
        "yaxis4": {
         "anchor": "x4",
         "domain": [
          0,
          0.375
         ]
        }
       }
      }
     },
     "metadata": {},
     "output_type": "display_data"
    },
    {
     "name": "stdout",
     "output_type": "stream",
     "text": [
      " Partial Correlation Results:\n",
      "            X_Variable           Y_Variable           Control_Variables  \\\n",
      "0           GDP_Growth  Consumer_Confidence           Unemployment_Rate   \n",
      "1        Stock_Returns  Consumer_Confidence  GDP_Growth, Inflation_Rate   \n",
      "2  Housing_Price_Index       Interest_Rates  GDP_Growth, Inflation_Rate   \n",
      "3      Tech_Investment   Productivity_Index                  GDP_Growth   \n",
      "\n",
      "   Simple_Correlation  Partial_Correlation  Difference  Control_Effect  \n",
      "0               0.790                0.652       0.138           0.138  \n",
      "1               0.797                0.264       0.533           0.533  \n",
      "2               0.181               -0.059       0.240           0.240  \n",
      "3               0.949                0.698       0.251           0.251  \n"
     ]
    },
    {
     "data": {
      "application/vnd.plotly.v1+json": {
       "config": {
        "plotlyServerURL": "https://plot.ly"
       },
       "data": [
        {
         "marker": {
          "color": "lightblue"
         },
         "name": "Simple Correlation",
         "text": {
          "bdata": "SOF6FK5H6T8bL90kBoHpP166SQwCK8c/ke18PzVe7j8=",
          "dtype": "f8"
         },
         "textposition": "auto",
         "type": "bar",
         "x": [
          0,
          1,
          2,
          3
         ],
         "y": {
          "bdata": "fOQKKjpL6T8sNL334oLpP2BpF2qSMMc/eZ5c/h5e7j8=",
          "dtype": "f8"
         }
        },
        {
         "marker": {
          "color": "lightcoral"
         },
         "name": "Partial Correlation",
         "text": {
          "bdata": "d76fGi/d5D9MN4lBYOXQP2iR7Xw/Na6/vHSTGARW5j8=",
          "dtype": "f8"
         },
         "textposition": "auto",
         "type": "bar",
         "x": [
          0,
          1,
          2,
          3
         ],
         "y": {
          "bdata": "ihmiVife5D9t4NDjy+vQP+GG6WdGX66/dy8MIgNY5j8=",
          "dtype": "f8"
         }
        }
       ],
       "layout": {
        "barmode": "group",
        "height": 500,
        "template": {
         "data": {
          "bar": [
           {
            "error_x": {
             "color": "#2a3f5f"
            },
            "error_y": {
             "color": "#2a3f5f"
            },
            "marker": {
             "line": {
              "color": "#E5ECF6",
              "width": 0.5
             },
             "pattern": {
              "fillmode": "overlay",
              "size": 10,
              "solidity": 0.2
             }
            },
            "type": "bar"
           }
          ],
          "barpolar": [
           {
            "marker": {
             "line": {
              "color": "#E5ECF6",
              "width": 0.5
             },
             "pattern": {
              "fillmode": "overlay",
              "size": 10,
              "solidity": 0.2
             }
            },
            "type": "barpolar"
           }
          ],
          "carpet": [
           {
            "aaxis": {
             "endlinecolor": "#2a3f5f",
             "gridcolor": "white",
             "linecolor": "white",
             "minorgridcolor": "white",
             "startlinecolor": "#2a3f5f"
            },
            "baxis": {
             "endlinecolor": "#2a3f5f",
             "gridcolor": "white",
             "linecolor": "white",
             "minorgridcolor": "white",
             "startlinecolor": "#2a3f5f"
            },
            "type": "carpet"
           }
          ],
          "choropleth": [
           {
            "colorbar": {
             "outlinewidth": 0,
             "ticks": ""
            },
            "type": "choropleth"
           }
          ],
          "contour": [
           {
            "colorbar": {
             "outlinewidth": 0,
             "ticks": ""
            },
            "colorscale": [
             [
              0,
              "#0d0887"
             ],
             [
              0.1111111111111111,
              "#46039f"
             ],
             [
              0.2222222222222222,
              "#7201a8"
             ],
             [
              0.3333333333333333,
              "#9c179e"
             ],
             [
              0.4444444444444444,
              "#bd3786"
             ],
             [
              0.5555555555555556,
              "#d8576b"
             ],
             [
              0.6666666666666666,
              "#ed7953"
             ],
             [
              0.7777777777777778,
              "#fb9f3a"
             ],
             [
              0.8888888888888888,
              "#fdca26"
             ],
             [
              1,
              "#f0f921"
             ]
            ],
            "type": "contour"
           }
          ],
          "contourcarpet": [
           {
            "colorbar": {
             "outlinewidth": 0,
             "ticks": ""
            },
            "type": "contourcarpet"
           }
          ],
          "heatmap": [
           {
            "colorbar": {
             "outlinewidth": 0,
             "ticks": ""
            },
            "colorscale": [
             [
              0,
              "#0d0887"
             ],
             [
              0.1111111111111111,
              "#46039f"
             ],
             [
              0.2222222222222222,
              "#7201a8"
             ],
             [
              0.3333333333333333,
              "#9c179e"
             ],
             [
              0.4444444444444444,
              "#bd3786"
             ],
             [
              0.5555555555555556,
              "#d8576b"
             ],
             [
              0.6666666666666666,
              "#ed7953"
             ],
             [
              0.7777777777777778,
              "#fb9f3a"
             ],
             [
              0.8888888888888888,
              "#fdca26"
             ],
             [
              1,
              "#f0f921"
             ]
            ],
            "type": "heatmap"
           }
          ],
          "histogram": [
           {
            "marker": {
             "pattern": {
              "fillmode": "overlay",
              "size": 10,
              "solidity": 0.2
             }
            },
            "type": "histogram"
           }
          ],
          "histogram2d": [
           {
            "colorbar": {
             "outlinewidth": 0,
             "ticks": ""
            },
            "colorscale": [
             [
              0,
              "#0d0887"
             ],
             [
              0.1111111111111111,
              "#46039f"
             ],
             [
              0.2222222222222222,
              "#7201a8"
             ],
             [
              0.3333333333333333,
              "#9c179e"
             ],
             [
              0.4444444444444444,
              "#bd3786"
             ],
             [
              0.5555555555555556,
              "#d8576b"
             ],
             [
              0.6666666666666666,
              "#ed7953"
             ],
             [
              0.7777777777777778,
              "#fb9f3a"
             ],
             [
              0.8888888888888888,
              "#fdca26"
             ],
             [
              1,
              "#f0f921"
             ]
            ],
            "type": "histogram2d"
           }
          ],
          "histogram2dcontour": [
           {
            "colorbar": {
             "outlinewidth": 0,
             "ticks": ""
            },
            "colorscale": [
             [
              0,
              "#0d0887"
             ],
             [
              0.1111111111111111,
              "#46039f"
             ],
             [
              0.2222222222222222,
              "#7201a8"
             ],
             [
              0.3333333333333333,
              "#9c179e"
             ],
             [
              0.4444444444444444,
              "#bd3786"
             ],
             [
              0.5555555555555556,
              "#d8576b"
             ],
             [
              0.6666666666666666,
              "#ed7953"
             ],
             [
              0.7777777777777778,
              "#fb9f3a"
             ],
             [
              0.8888888888888888,
              "#fdca26"
             ],
             [
              1,
              "#f0f921"
             ]
            ],
            "type": "histogram2dcontour"
           }
          ],
          "mesh3d": [
           {
            "colorbar": {
             "outlinewidth": 0,
             "ticks": ""
            },
            "type": "mesh3d"
           }
          ],
          "parcoords": [
           {
            "line": {
             "colorbar": {
              "outlinewidth": 0,
              "ticks": ""
             }
            },
            "type": "parcoords"
           }
          ],
          "pie": [
           {
            "automargin": true,
            "type": "pie"
           }
          ],
          "scatter": [
           {
            "fillpattern": {
             "fillmode": "overlay",
             "size": 10,
             "solidity": 0.2
            },
            "type": "scatter"
           }
          ],
          "scatter3d": [
           {
            "line": {
             "colorbar": {
              "outlinewidth": 0,
              "ticks": ""
             }
            },
            "marker": {
             "colorbar": {
              "outlinewidth": 0,
              "ticks": ""
             }
            },
            "type": "scatter3d"
           }
          ],
          "scattercarpet": [
           {
            "marker": {
             "colorbar": {
              "outlinewidth": 0,
              "ticks": ""
             }
            },
            "type": "scattercarpet"
           }
          ],
          "scattergeo": [
           {
            "marker": {
             "colorbar": {
              "outlinewidth": 0,
              "ticks": ""
             }
            },
            "type": "scattergeo"
           }
          ],
          "scattergl": [
           {
            "marker": {
             "colorbar": {
              "outlinewidth": 0,
              "ticks": ""
             }
            },
            "type": "scattergl"
           }
          ],
          "scattermap": [
           {
            "marker": {
             "colorbar": {
              "outlinewidth": 0,
              "ticks": ""
             }
            },
            "type": "scattermap"
           }
          ],
          "scattermapbox": [
           {
            "marker": {
             "colorbar": {
              "outlinewidth": 0,
              "ticks": ""
             }
            },
            "type": "scattermapbox"
           }
          ],
          "scatterpolar": [
           {
            "marker": {
             "colorbar": {
              "outlinewidth": 0,
              "ticks": ""
             }
            },
            "type": "scatterpolar"
           }
          ],
          "scatterpolargl": [
           {
            "marker": {
             "colorbar": {
              "outlinewidth": 0,
              "ticks": ""
             }
            },
            "type": "scatterpolargl"
           }
          ],
          "scatterternary": [
           {
            "marker": {
             "colorbar": {
              "outlinewidth": 0,
              "ticks": ""
             }
            },
            "type": "scatterternary"
           }
          ],
          "surface": [
           {
            "colorbar": {
             "outlinewidth": 0,
             "ticks": ""
            },
            "colorscale": [
             [
              0,
              "#0d0887"
             ],
             [
              0.1111111111111111,
              "#46039f"
             ],
             [
              0.2222222222222222,
              "#7201a8"
             ],
             [
              0.3333333333333333,
              "#9c179e"
             ],
             [
              0.4444444444444444,
              "#bd3786"
             ],
             [
              0.5555555555555556,
              "#d8576b"
             ],
             [
              0.6666666666666666,
              "#ed7953"
             ],
             [
              0.7777777777777778,
              "#fb9f3a"
             ],
             [
              0.8888888888888888,
              "#fdca26"
             ],
             [
              1,
              "#f0f921"
             ]
            ],
            "type": "surface"
           }
          ],
          "table": [
           {
            "cells": {
             "fill": {
              "color": "#EBF0F8"
             },
             "line": {
              "color": "white"
             }
            },
            "header": {
             "fill": {
              "color": "#C8D4E3"
             },
             "line": {
              "color": "white"
             }
            },
            "type": "table"
           }
          ]
         },
         "layout": {
          "annotationdefaults": {
           "arrowcolor": "#2a3f5f",
           "arrowhead": 0,
           "arrowwidth": 1
          },
          "autotypenumbers": "strict",
          "coloraxis": {
           "colorbar": {
            "outlinewidth": 0,
            "ticks": ""
           }
          },
          "colorscale": {
           "diverging": [
            [
             0,
             "#8e0152"
            ],
            [
             0.1,
             "#c51b7d"
            ],
            [
             0.2,
             "#de77ae"
            ],
            [
             0.3,
             "#f1b6da"
            ],
            [
             0.4,
             "#fde0ef"
            ],
            [
             0.5,
             "#f7f7f7"
            ],
            [
             0.6,
             "#e6f5d0"
            ],
            [
             0.7,
             "#b8e186"
            ],
            [
             0.8,
             "#7fbc41"
            ],
            [
             0.9,
             "#4d9221"
            ],
            [
             1,
             "#276419"
            ]
           ],
           "sequential": [
            [
             0,
             "#0d0887"
            ],
            [
             0.1111111111111111,
             "#46039f"
            ],
            [
             0.2222222222222222,
             "#7201a8"
            ],
            [
             0.3333333333333333,
             "#9c179e"
            ],
            [
             0.4444444444444444,
             "#bd3786"
            ],
            [
             0.5555555555555556,
             "#d8576b"
            ],
            [
             0.6666666666666666,
             "#ed7953"
            ],
            [
             0.7777777777777778,
             "#fb9f3a"
            ],
            [
             0.8888888888888888,
             "#fdca26"
            ],
            [
             1,
             "#f0f921"
            ]
           ],
           "sequentialminus": [
            [
             0,
             "#0d0887"
            ],
            [
             0.1111111111111111,
             "#46039f"
            ],
            [
             0.2222222222222222,
             "#7201a8"
            ],
            [
             0.3333333333333333,
             "#9c179e"
            ],
            [
             0.4444444444444444,
             "#bd3786"
            ],
            [
             0.5555555555555556,
             "#d8576b"
            ],
            [
             0.6666666666666666,
             "#ed7953"
            ],
            [
             0.7777777777777778,
             "#fb9f3a"
            ],
            [
             0.8888888888888888,
             "#fdca26"
            ],
            [
             1,
             "#f0f921"
            ]
           ]
          },
          "colorway": [
           "#636efa",
           "#EF553B",
           "#00cc96",
           "#ab63fa",
           "#FFA15A",
           "#19d3f3",
           "#FF6692",
           "#B6E880",
           "#FF97FF",
           "#FECB52"
          ],
          "font": {
           "color": "#2a3f5f"
          },
          "geo": {
           "bgcolor": "white",
           "lakecolor": "white",
           "landcolor": "#E5ECF6",
           "showlakes": true,
           "showland": true,
           "subunitcolor": "white"
          },
          "hoverlabel": {
           "align": "left"
          },
          "hovermode": "closest",
          "mapbox": {
           "style": "light"
          },
          "paper_bgcolor": "white",
          "plot_bgcolor": "#E5ECF6",
          "polar": {
           "angularaxis": {
            "gridcolor": "white",
            "linecolor": "white",
            "ticks": ""
           },
           "bgcolor": "#E5ECF6",
           "radialaxis": {
            "gridcolor": "white",
            "linecolor": "white",
            "ticks": ""
           }
          },
          "scene": {
           "xaxis": {
            "backgroundcolor": "#E5ECF6",
            "gridcolor": "white",
            "gridwidth": 2,
            "linecolor": "white",
            "showbackground": true,
            "ticks": "",
            "zerolinecolor": "white"
           },
           "yaxis": {
            "backgroundcolor": "#E5ECF6",
            "gridcolor": "white",
            "gridwidth": 2,
            "linecolor": "white",
            "showbackground": true,
            "ticks": "",
            "zerolinecolor": "white"
           },
           "zaxis": {
            "backgroundcolor": "#E5ECF6",
            "gridcolor": "white",
            "gridwidth": 2,
            "linecolor": "white",
            "showbackground": true,
            "ticks": "",
            "zerolinecolor": "white"
           }
          },
          "shapedefaults": {
           "line": {
            "color": "#2a3f5f"
           }
          },
          "ternary": {
           "aaxis": {
            "gridcolor": "white",
            "linecolor": "white",
            "ticks": ""
           },
           "baxis": {
            "gridcolor": "white",
            "linecolor": "white",
            "ticks": ""
           },
           "bgcolor": "#E5ECF6",
           "caxis": {
            "gridcolor": "white",
            "linecolor": "white",
            "ticks": ""
           }
          },
          "title": {
           "x": 0.05
          },
          "xaxis": {
           "automargin": true,
           "gridcolor": "white",
           "linecolor": "white",
           "ticks": "",
           "title": {
            "standoff": 15
           },
           "zerolinecolor": "white",
           "zerolinewidth": 2
          },
          "yaxis": {
           "automargin": true,
           "gridcolor": "white",
           "linecolor": "white",
           "ticks": "",
           "title": {
            "standoff": 15
           },
           "zerolinecolor": "white",
           "zerolinewidth": 2
          }
         }
        },
        "title": {
         "text": "Simple vs Partial Correlations Comparison"
        },
        "xaxis": {
         "tickmode": "array",
         "ticktext": [
          "GDP_Growth vs<br>Consumer_Confidence",
          "Stock_Returns vs<br>Consumer_Confidence",
          "Housing_Price_Index vs<br>Interest_Rates",
          "Tech_Investment vs<br>Productivity_Index"
         ],
         "tickvals": [
          0,
          1,
          2,
          3
         ],
         "title": {
          "text": "Variable Pairs"
         }
        },
        "yaxis": {
         "title": {
          "text": "Correlation Coefficient"
         }
        }
       }
      }
     },
     "metadata": {},
     "output_type": "display_data"
    },
    {
     "name": "stdout",
     "output_type": "stream",
     "text": [
      "\n",
      " Partial Correlation Insights:\n",
      "• Largest control effect: Stock_Returns vs Consumer_Confidence\n",
      "• Average control effect: 0.291\n",
      "• Cases where partial > simple: 0\n"
     ]
    }
   ],
   "source": [
    "# 6. PARTIAL CORRELATION ANALYSIS\n",
    "print(\"\\n 6. PARTIAL CORRELATION ANALYSIS\")\n",
    "print(\"=\" * 50)\n",
    "\n",
    "from sklearn.linear_model import LinearRegression\n",
    "\n",
    "def partial_correlation(data, x_var, y_var, control_vars):\n",
    " \"\"\"\n",
    " Calculate partial correlation between x_var and y_var, controlling for control_vars\n",
    " \"\"\"\n",
    " # Fit linear regression to remove effect of control variables\n",
    " X_control = data[control_vars].values\n",
    "\n",
    " # Residuals after removing control variable effects\n",
    " reg_x = LinearRegression().fit(X_control, data[x_var])\n",
    " residuals_x = data[x_var] - reg_x.predict(X_control)\n",
    "\n",
    " reg_y = LinearRegression().fit(X_control, data[y_var])\n",
    " residuals_y = data[y_var] - reg_y.predict(X_control)\n",
    "\n",
    " # Correlation of residuals is the partial correlation\n",
    " partial_corr = np.corrcoef(residuals_x, residuals_y)[0, 1]\n",
    "\n",
    " return partial_corr, residuals_x, residuals_y\n",
    "\n",
    "# Example: GDP Growth vs Consumer Confidence, controlling for Unemployment\n",
    "target_relationships = [\n",
    " ('GDP_Growth', 'Consumer_Confidence', ['Unemployment_Rate']),\n",
    " ('Stock_Returns', 'Consumer_Confidence', ['GDP_Growth', 'Inflation_Rate']),\n",
    " ('Housing_Price_Index', 'Interest_Rates', ['GDP_Growth', 'Inflation_Rate']),\n",
    " ('Tech_Investment', 'Productivity_Index', ['GDP_Growth'])\n",
    "]\n",
    "\n",
    "partial_results = []\n",
    "\n",
    "fig = make_subplots(\n",
    " rows=2, cols=2,\n",
    " subplot_titles=[f\"{x} vs {y}<br>Controlling for {', '.join(controls)}\"\n",
    " for x, y, controls in target_relationships],\n",
    " specs=[[{\"type\": \"scatter\"}, {\"type\": \"scatter\"}],\n",
    " [{\"type\": \"scatter\"}, {\"type\": \"scatter\"}]]\n",
    ")\n",
    "\n",
    "for idx, (x_var, y_var, control_vars) in enumerate(target_relationships):\n",
    " # Calculate simple correlation\n",
    " simple_corr = df[x_var].corr(df[y_var])\n",
    "\n",
    " # Calculate partial correlation\n",
    " partial_corr, residuals_x, residuals_y = partial_correlation(df, x_var, y_var, control_vars)\n",
    "\n",
    " partial_results.append({\n",
    " 'X_Variable': x_var,\n",
    " 'Y_Variable': y_var,\n",
    " 'Control_Variables': ', '.join(control_vars),\n",
    " 'Simple_Correlation': simple_corr,\n",
    " 'Partial_Correlation': partial_corr,\n",
    " 'Difference': simple_corr - partial_corr,\n",
    " 'Control_Effect': abs(simple_corr - partial_corr)\n",
    " })\n",
    "\n",
    " # Plot partial correlation (residuals)\n",
    " row = (idx // 2) + 1\n",
    " col = (idx % 2) + 1\n",
    "\n",
    " fig.add_trace(\n",
    " go.Scatter(\n",
    " x=residuals_x,\n",
    " y=residuals_y,\n",
    " mode='markers',\n",
    " marker=dict(size=4, opacity=0.6),\n",
    " name=f\"Partial r={partial_corr:.3f}\",\n",
    " text=f\"Simple r={simple_corr:.3f}<br>Partial r={partial_corr:.3f}\",\n",
    " hovertemplate=\"<b>Partial Correlation</b><br>%{text}<br>X residual: %{x:.2f}<br>Y residual: %{y:.2f}<extra></extra>\"\n",
    " ),\n",
    " row=row, col=col\n",
    " )\n",
    "\n",
    " # Add trend line for partial correlation\n",
    " z = np.polyfit(residuals_x, residuals_y, 1)\n",
    " x_trend = np.linspace(residuals_x.min(), residuals_x.max(), 100)\n",
    " y_trend = np.poly1d(z)(x_trend)\n",
    "\n",
    " fig.add_trace(\n",
    " go.Scatter(\n",
    " x=x_trend,\n",
    " y=y_trend,\n",
    " mode='lines',\n",
    " line=dict(dash='dash', color='red'),\n",
    " name=f\"Trend (r={partial_corr:.3f})\",\n",
    " showlegend=False\n",
    " ),\n",
    " row=row, col=col\n",
    " )\n",
    "\n",
    "fig.update_layout(\n",
    " title=\"Partial Correlation Analysis - Residual Plots\",\n",
    " height=600,\n",
    " showlegend=True\n",
    ")\n",
    "\n",
    "fig.show()\n",
    "\n",
    "# Display partial correlation results\n",
    "partial_df = pd.DataFrame(partial_results)\n",
    "print(\" Partial Correlation Results:\")\n",
    "print(partial_df.round(3))\n",
    "\n",
    "# Visualize the comparison\n",
    "fig2 = go.Figure()\n",
    "\n",
    "x_pos = list(range(len(partial_df)))\n",
    "fig2.add_trace(go.Bar(\n",
    "    x=x_pos,\n",
    "    y=partial_df['Simple_Correlation'],\n",
    "    name='Simple Correlation',\n",
    "    marker_color='lightblue',\n",
    "    text=partial_df['Simple_Correlation'].round(3),\n",
    "    textposition='auto'\n",
    "))\n",
    "\n",
    "fig2.add_trace(go.Bar(\n",
    "    x=x_pos,\n",
    "    y=partial_df['Partial_Correlation'],\n",
    "    name='Partial Correlation',\n",
    "    marker_color='lightcoral',\n",
    "    text=partial_df['Partial_Correlation'].round(3),\n",
    "    textposition='auto'\n",
    "))\n",
    "\n",
    "fig2.update_layout(\n",
    " title=\"Simple vs Partial Correlations Comparison\",\n",
    " xaxis_title=\"Variable Pairs\",\n",
    " yaxis_title=\"Correlation Coefficient\",\n",
    " xaxis=dict(\n",
    " tickmode='array',\n",
    " tickvals=x_pos,\n",
    " ticktext=[f\"{row.X_Variable} vs<br>{row.Y_Variable}\" for _, row in partial_df.iterrows()]\n",
    " ),\n",
    " barmode='group',\n",
    " height=500\n",
    ")\n",
    "\n",
    "fig2.show()\n",
    "\n",
    "print(f\"\\n Partial Correlation Insights:\")\n",
    "print(f\"• Largest control effect: {partial_df.loc[partial_df['Control_Effect'].idxmax(), 'X_Variable']} vs {partial_df.loc[partial_df['Control_Effect'].idxmax(), 'Y_Variable']}\")\n",
    "print(f\"• Average control effect: {partial_df['Control_Effect'].mean():.3f}\")\n",
    "print(f\"• Cases where partial > simple: {sum(partial_df['Partial_Correlation'] > partial_df['Simple_Correlation'])}\")"
   ]
  },
  {
   "cell_type": "code",
   "execution_count": 21,
   "id": "050601f9",
   "metadata": {},
   "outputs": [
    {
     "name": "stdout",
     "output_type": "stream",
     "text": [
      "\n",
      " 7. SPURIOUS CORRELATION DETECTION\n",
      "==================================================\n"
     ]
    },
    {
     "data": {
      "application/vnd.plotly.v1+json": {
       "config": {
        "plotlyServerURL": "https://plot.ly"
       },
       "data": [
        {
         "hovertemplate": "<b>%{text}</b><br>X: %{x:.2f}<br>Y: %{y:.2f}<extra></extra>",
         "marker": {
          "opacity": 0.7,
          "size": 4
         },
         "mode": "markers",
         "name": "Trend_Series_1 vs Trend_Series_2",
         "text": "r = 0.965",
         "type": "scatter",
         "x": {
          "bdata": "0kCOvm22JcAA0q2faPInQCMuaCezURtAUVGAmzogIsCqBZtPRLYBQH6E7nKtgzpABhuVBJmIKMA6bZyj92sjQM+bi/zLqDxAdv0aBUqqIkAEheVXGmwqQB/ItYeLDTVAyPx8jfp0Q0A65/wvaZwzQMMPoftnjzdABW1KjA+oOUCO12QrlwdLQGdzzRAW70tANg6aYTAFR0B9FC2PUe5EQL7cWO/Ur0dAhAksEiN0TEDhnD/1IVJBQFkhUakP4UxAIaj+YQi7QUBO8HGWrc9FQEj4BTsYiU5A8oN86EnbQ0BL/CFItkxLQOaS3Sf0sEhAIrwIpc64TEB/hWlSzgFBQIq+RQhwJEdAZO9OOiiATUDqrd9xk1FTQFV+nIffEFFAikJdRtIBUkA2X7NodjhUQOvU+8MYzVBAwwIwgIU1VEB3Ceu/kPxRQEgjTaFKLlBAkYVQ+tIFVED+ND1aPO9WQM8RHG6y2FZAf8sYsW14VkDiOAsgHftcQAaeQYdDiFhA4ktyG2RyWkC9hZJnaRheQNz4hg/Jw1VAlj+M8CznVkCQWJvP+VteQFX1xWY9gVhAKXvqTP8SW0CYa3q6XCxeQBpbzFUNOl5Ak8OpRpBxYEAgxO4qm15gQNm1wqU0FmBAbW99Z3cRXECeulUmWz5gQKQj1lIiyV9AdlrDqjAvXEBslkwjicVhQGwwIdFQQmFA88AijI6OYEC1ZC4ZaXVgQHzgJ1cWAV9AsF8ZA9l/YUCMu1yI5hViQKz1n8gHtmBAmrN1wedzY0DR2l0g5eBgQJkaGD03sV9AzC97cbYMZED/ihBB7H5iQLHwB6irF2NAQgRMof5zYkD2J9iHF75hQGBytQutkWVAl+9T2o9jY0CsAVM6gZNmQND1xa9WwmVAqR87A0ebZEDqoxPgguRjQC/Xy7aclWRA3+DnGv47ZEBNGJBT4JtoQFpwjAafdGZACCWK1hDwZ0BlOiiFciplQM1O12XuOWdAhfs0c+q4aECwHBvryxRnQIVgf+X0CWlAJ45XMvCkZkC0iztpsItmQI4yhn9o+WhAC5/R3alGaEA=",
          "dtype": "f8"
         },
         "xaxis": "x",
         "y": {
          "bdata": "h0+VRraLFEDfiNDQbaUswIAXN5pvZSFAQ4XFkVNJOUAs1uOSQzYXQKms4juxFx9AqJbIR2/fJECugfkVTpURwKVSjCN/0S5AII7F9N0D5T/3RA5wOSgnQDzwJZdlcTpAOl4hJY08KECeworUjoI3QCr/4O4WGj1AT+5nfNy6OEAtFEdWmBAqQL8Y7TMX1zZAaOBL7W9WRUAkXDCdaZkoQC0BzrMwyztAvs4IXUgVO0BhUl4ypftAQNSzGDwsPkRA6Blkr0xvSEDVACgzSKtBQCPC1WfWv0ZA4sZq4bs/RkCuOE1Mu+VGQPKlkrmKfkNACAkwKb6CQkCPalxMjtlCQPGcMIZo+URAc6GrNGgJSkDCllVRNotMQNlH62o7i0tAkHcbt97NSEBQbT8dqHxRQD8IScGoSVFArdST/oDVS0BIK8NlzrRKQAY8phFXRU9AEIw1XttIUkAJH80rYMpQQIlwrPPznFFAlmP1O2pzUEA8BbpWnClSQNtxxIfOtlRAtFwrIkqFUUA9xZChX6lSQObuszv0QVNARyooc0SxU0AyYLfmHK1QQK9EUBILH1BAWmFCxe81UkANu1SI/PVUQO5XDwmTG1ZA++eRbEtQVEA4LI7kJ4FYQGZkgaOx1lVAsQHI22aKVkDRvX7EsHxWQPdE5yifhFdAWMtp07AIWUBbmwSH0FRZQBk2iOgBlFZAdyaUqB3MW0B8MTKxWO9WQDT1dHGQqFlAkCzVSoJTWUAmSBiQ6iZYQM7KVsuJeVpAypCeDrSEWUA6BiMZVIVbQOvTeUhhjlxANIbruaARX0Bdn9x2YR1dQAHP4XgNp1tAufywm313XEAN1tc1q+ddQHP+CxnaL15ANqJspKelYEAUr3/ZNcVgQCzc3ow5aF5AAncEYRhnXkB44iq9ycJaQDlZUefzJl9A0Yg1BTyrXkBuqWw5KiVgQM2Fat0+FGFAAAP7eVwNYUD0zUUEVAhhQOf9L9AXc2FAT4fgvrZPYUCR9y/Vb9JhQK7RciizKV1Aq370lA+7YUDdVoJJnxNiQBGEeRKjCGJAgPt7rDRYYkA=",
          "dtype": "f8"
         },
         "yaxis": "y"
        },
        {
         "hovertemplate": "<b>%{text}</b><br>X: %{x:.2f}<br>Y: %{y:.2f}<extra></extra>",
         "marker": {
          "opacity": 0.7,
          "size": 4
         },
         "mode": "markers",
         "name": "Random_Walk_1 vs Random_Walk_2",
         "text": "r = 0.765",
         "type": "scatter",
         "x": {
          "bdata": "Q6BdOISB5j8Q9EBts+66P+gJLU9/cgJAm/dWISH0B0DIvnNQNucHQDxZp7/3PwZA2kH0JsWOBUDwMzVHcXj8Pzh0Ky5+8vo/ruIPB/tn/z8taHQ65FYEQPJojp8Y+ghArCrHnyXHBkDf411iBeb2P4PjkNvAYug/NfcxrnX+AkDrMy1NlikKQHlNRmqRHg1A1kdn+m8HB0CNfdIW5w4HQGh5bCGWBvo/X1aDXtox8T/Un1kPAIvqP6XEoE7k8N0/IgI753bK9j8AULCO9Vx3P6SPxBnlguu/uhmfrhXgAcAC3I8fL8YLwOLx/hoeyArAgSaS7+jKE8Bn0TfC8sYQwIY2oAiwwxHA/AfGlT99EcATcFUH7jIQwMBuSy2E7xHA6k/voIOcC8C+ZSswhyoNwAgsPUjfaQjAToreg6cBCsDpqnSQ8a0HwGi+QsgxcQXA2i/rikFxA8DnDN50ozwLwAgXQQX3vwfAdjKpVzBNCsBuaK0I80EFwPofKcIgPRPAoGJzL2gZGcBuZqYcPaUXwPoGs9KZMRDA4bWnXQC1CcCo0YMzqSoPwPKSLv39WRbAFEKSQHthE8CZYQ+p/7MTwMiECRgeVxHA3drEOQ3hEMDBDb2CssIQwAafQGhCtPO/3xUkI17N879Ar4DXoln2v7K6EAIXS/i/vI9azaDQAMCIL50DrMnxv3a7g1Gmcve/IYWrHqiL6r8E/H5OMHDhv/CoBVW+keU/dQM7aO2B8T8gKPILjIG+v7y8NAJkIfe/4JJmiL0Wo78dLZ7s+qvkv9hxAqItd/+//hcb0PcWBcDUoaLmB/L1vwUFUJWcVQbAn1PinjFEDcBLMt1l6EwRwLzP61AgThbAC3o2n+AKG8DEWG7CtY4gwEnYH4TWeiHAhp1iII0wIsAhxHfEAo4jwA9uJ0C03CbAcCJaAP9aJMDYVYwFfAMnwBqwQ5YhdSbA5z7UZGmbKMCjNPjDO0UnwAFnNOjYWyXAnpWeeS8dJ8DISEK+IPYqwJru+IHikSnAKgYVlHnRJcC3GOmpo/wkwKx5CclwqiTAYtNnH7kGI8A=",
          "dtype": "f8"
         },
         "xaxis": "x2",
         "y": {
          "bdata": "JIPmTFR76D8gmYxS+l2wv09ro8eDI+e/eCHNb4apvL8eqlpe5WHQv0TE6K9X+PA/5N7bqW3N1j+sBcf12rXxP0WYjOxMMfc/rrF6h2kr9T90st2r+P0DQPOL4gPCbglAZOfXy5VkAUCfb43EwIMGQI8Dke3dwRBAsIKsoko8EEDqHg7+VXsOQDg2VgfmHwlAWZ61rAkECUCxVr51YIEOQGQBUcjK9gdAJJfgVudi+j9YUC4A1V/0P2BE6/lXOLu/hnQDNVOu2j/gcdvc7BGEv7KnVBhEPvy/h9zByBTpAMCfgIeCjnMCwDRs4TF0t/2/SLxvdW4FAMCYwlWieSTBvxTbajpX4uS/Ay4aeILh5r8Tmm+rjSzqvx7+9izsm/G/YSs2QBip7r9+Dirop67avwk0DrnCiu0/UWo455Ws5L9aHKg9qIDyv1imZ5y6qvm/sIBYmJZS5b+ERZyfL17wv6rCEaJpWAfAzWaImr2kBsCb96V2vOkGwJTT4t+aeQXA+GKFytvLDcAEzkWJRgsAwBeWpFWKogLA7PEtHiwkBMCvi5nPY1cLwOdhqX4KZRHA9k4Apx9JFsBsjna739sXwJde2RBwsBvAsPO5fZ12E8Bo+gtwbgQbwGgNWoXXhx/Ay8HR83GRIMBGOA01PHEewJCnqgt2DCDAXFjsV7xkHcDCTvaHnKsgwEBEpB9BjSDAeioqV5wgGsAE1TO6lP8dwEMdGpTxURzAHUJaxQx+G8BUXUKUzz8iwIUpaSBdbSPAsve4yDYqIcACfCXiDeUgwFusoGa8USPAEbCY1w7wIcDmduJxXuUiwLZyNuAFLSLACgXdMwpsIcDhN1ffz6gjwDnsQYhrFCLAsWXRuUMYJMATbuCw07QmwETiHNrVeCjANraekAgqKcAVudjfBPIowD6lKPiUfSrAIlAwAzwAKcDcJVMZfH8owOGKybA44ynAxaZinA4cKMCWoCEPl8klwM5zFNwd/CXAyBQLHjBqJsBxt0zgW/YpwJHG3l0BxyrAUdcIvEFcK8CwQWZdn94qwLyGpVrbNCvAozZYQeq3KsA=",
          "dtype": "f8"
         },
         "yaxis": "y2"
        },
        {
         "hovertemplate": "<b>%{text}</b><br>X: %{x:.2f}<br>Y: %{y:.2f}<extra></extra>",
         "marker": {
          "opacity": 0.7,
          "size": 4
         },
         "mode": "markers",
         "name": "Seasonal_1 vs Seasonal_2",
         "text": "r = 0.918",
         "type": "scatter",
         "x": {
          "bdata": "0kCOvm22JcAA6dZPNPk1QHM7EZt5JjhAr65/ZMXfJUCgkCpb1YgzQD9Cd7nWQUJABRuVBJmIKMCAWHKMC4HSv8zXqFZ+rSZAigLl+rVVJcCgtRGV/m8QwDmQaw8XGyZAx/x8jfp0Q0A65/wvaZw9QNYfbGa6cERAgjYlxgfURkDCNwDKTthRQLO5ZgiLd1BANw6aYTAFR0D+KFoeo9w/QJGJeg2dDT5AhAksEiN0QkDVCUgZN1IxQFUhUakP4UdAIKj+YQi7QUBQ8HGWrc9KQB/I0FEPmVNA8oN86EnbTUAhyl5Y3vpRQOaS3Sf0sE1AKbwIpc64TEAEC9OknAM4QC9NVD/T9jxAZO9OOiiAQ0DgwyN7IPpNQKr8OA+/IU1AiUJdRtIBUkA0X7NodrhWQOSgSfibIVVAwwIwgIU1WUBy1Tj0E1FWQE0jTaFKrlJAkoVQ+tIFVEAANT1aPG9UQNZFzjkvhFJAf8sYsW14UUDlbL3rmaZYQAaeQYdDCFZA4UtyG2RyWkDeQsmzNExgQNjE1ENMGFpAlj+M8CznW0BFkvSBPlhhQFb1xWY9AVtAK3vqTP8SW0CWa3q6XKxbQCGPfiGK5VlAJodTjSDjW0BGvI8hs2hcQLFrhUtprF1AZm99Z3cRXECdulUmW35hQM73kcPSDmJAO61hVZiXYEBrfHO9yu9jQGwwIdFQgmJA8cAijI6OYEBsyVwy0mpeQIEU2iKTrFpAYL8yBrL/XUAdq2vcSddfQFvrP5EP7F5AmbN1wedzY0DO2l0g5SBiQEnzsjjdAmJAzC97cbaMZkD+cDfbLalkQLLwB6irV2RARgRMof5zYkD3J9iHF35gQGKMjnFrZ2NAl+9T2o/jYECsGyygP2lkQNL1xa9WgmRAqB87A0ebZEDroxPggiRlQCu98lDev2ZA3+DnGv67ZkBM/rbtIcZqQFtwjAaftGdAByWK1hDwZ0BmOiiFcupjQNJosMusD2VAhfs0c+o4ZkCyNvRQiupkQIZgf+X0yWdAJo5XMvCkZkCwiztpsMtnQIoYrRmqI2tAC5/R3anGakA=",
          "dtype": "f8"
         },
         "xaxis": "x3",
         "y": {
          "bdata": "4lOlke0iNED4B+631FL1v8CLG823MjBAQ4XFkVNJOUBEp3C08Sb7vxfjwjd13hTAsNJucCFBEsBcxGci3WIxwEKlGEf+oh9AB47F9N0D5T98Ige4HBQzQBaqB5p3t0NAHa+QkkYeO0BHE7o4DEBCQJZ/cHcLTUJAVO5nfNy6OEBnKI6sMCEWQJ1pBy4bsyNA0MCX2t+sO0AAvCbKmRrmvy4BzrMwSzRAvM4IXUgVO0BfUl4ypbtEQMpljQrxvEpA6Blkr0zvT0DMspwBDSpIQCPC1WfWf0pA48Zq4bs/RkCwOE1MuyVDQPTnO9aL/zlAEBJgUnwFNkAscc/7krU4QO6cMIZoOUFAdaGrNGgJSkBiy6oomyVQQOj8rxwABVFAyLuNW+8mUEBNxnmECrxUQEEIScGoKVNAstST/oDVS0BHK8NlzvRGQBKKMUOSxkhAIBhrvLYRTUAYjCWJ+xVLQA7hWOfneU9Al2P1O2pzUEA5BbpWnAlUQNfK/u4w9ldAtFwrIkpFVUA6HssIwuhVQOXuszv0IVVASiooc0SxU0BkwG7NOZpNQGbXK1ZRv0lAtMKEit/rTEASYhohmrZRQOxXDwmTO1RA+OeRbEtQVEA4LI7kJ2FaQGK9uwoUFllAsQHI22ZKWkDOFrkrE7xZQPlE5yifZFlAV8tp07AIWUBemwSH0HRXQB3dTYGfVFNAdyaUqB0MWEB/2PdJ9q9TQDX1dHGQyFdAjSzVSoJTWUAmSBiQ6gZaQMwjkTLsuF1AypCeDrREXUA5X12AtsReQO3TeUhhbl5ANIbruaARX0Bhn9x2YT1bQAZ2pxGrZ1hAufywm323WEAQfZ3OSKhaQHT+CxnaT1xANKJspKelYEARr3/ZNbVhQJWaDPrN02BAgTuCMIwTYUBzO2UkLAJeQJ6sqPN5g2BA2Ig1BTyrXkDgUtlyVGpeQJ+ymlMb6V5AAAb287haXkDrQlGhRdFeQOT9L9AXg2BATYfgvrZPYUCR9y/Vb8JiQFaV1seKNGBAq370lA+bY0Bdgx99ULNjQBKEeRKj+GJAgPt7rDRYYkA=",
          "dtype": "f8"
         },
         "yaxis": "y3"
        },
        {
         "hovertemplate": "<b>%{text}</b><br>X: %{x:.2f}<br>Y: %{y:.2f}<extra></extra>",
         "marker": {
          "color": "red",
          "opacity": 0.7,
          "size": 4
         },
         "mode": "markers",
         "name": "Detrended r=-0.019",
         "text": "Detrended r = -0.019",
         "type": "scatter",
         "x": {
          "bdata": "v0g9ul/5JcB8tj8JA64jQNyfG4oBjAVAA5RsZ4dnLsC9KYmlXrYXwI5POXKTXjBAPkxfUCBqOMCoR5gmR8IRwPqSbycJAylAxrpLZ7ilIcCcjYBet8obwFB5ypOUvvG/IABQ+Yx/LUBIcNLu/DkawEz1v/XocBLAeKeY6DEREsBujvmCGOI1QFY8a4BcsDVAUNBJqa63I0BQV1sT/2oNQIjGjVWzvhxAxIJUmx5vLUBgQxxzWRojwOy6asLpHydAjD2e9aZ5KcDgYCB9C1EawODbADmxuyFAEAnkq/v8LMDg2WlA7sX5v2j03eM5qSHAQIzBJw4tBsCcKJY3XDQ8wFRAPZnS7zHAsKEpCnDkHMBYze0FTxgiQEAXVjcfdv+/ADbt6GIoyr/gOZzYF5YaQABJLdRUESLAoEjUynXCBEDIyzEqfJggwGwI8FwQhjHAUCQIGaOiEMBQq0SwC/EVQGCiaHELCwlAALDjz9Qa2L8EnSqbmKk3QEA+JVXD6w5A2KoP3IEKI0AMMylRnBw2QIgUybg9bSrAUPJdS5JTJcD04C2JsCgxQIhrDs/1hSDAAAC+Wh2Xij9gHxeZHdAkQOiH59guPCFAWOowfapBMUDoyfKjj1ItQODRcrazyiRA4COMBE8OIMAA7kkUaZQeQKBa7YKEsAZAaAaaut8kK8AgeVWJubgrQAALwJeBBx9AAJh+TjiKwT+AdCujhzYFwBA4MV30nCjAgFs1A6yz+j9Aq7pztGsRQAAcrlyFSSHAUK/ulQaTJkDg8E0Wl54mwFzuFGdRkjXAoDcJxpYbJECAUcC2/4QRwAAKRzXov/m/wLsmDUF0IcAQypEfE2owwPD+8WO+YyhAYILKmRD/HMBIZiYMDT8wQGD2ean70x5AQOu9OsIhDMBgSuZbJnYmwEBTRBb5yx7AQKIg5FkBKcCI4NEFq300QAByUQVtLvQ/kGXGBXc7JkBAWBer4R8qwIDV1ihGs/Y/oJI2ALbEJkBAuZlwmPoNwHC7Xu910iNAEH7d3Uh/JsDQuFwKuRQswMCEOv5SFQtAIFXz7BHQEMA=",
          "dtype": "f8"
         },
         "xaxis": "x4",
         "y": {
          "bdata": "IIxKI5dfDkD2mPTg9CExwESU+yTarBFAa4yYAo+JM0BYV0Vcb6f2v8g/ntraS+2/gACXsUzK0T/moexBJQYwwICtPFBUfQJAtXLRxnLSK8DiVWCZ+9URwEDM7FoN3yFApLS8iW5vG8B4odShSoEIQFD6AY24vRxAALlxVwZ/9T+jNTtuxqUnwIjyIs3b4gvALu9rw1PCLUBQ7Zl1RPcwwOhio91eiAfA2MMn9918FMAAuWSmz6HSP5AO+BpIXRVARPsIRJ+CKEBwNSAO5fcFwBinHPFxxxdA0AgHISHLC0BglKt0/WgKQFAUwAgT5hPAJCKLXMLSIMBYQHpmCGgiwEg2lCtMshnAUEoFNkjZAUAABxHTBxoXQDCO+uRGcgJA2INCWc+SEsAEpkvK13MsQCjZ91NW6ydAsOmGSsnxB8CgCAqZht8awIClacaMHe4/bGbZ4NAiJECgZ9XbwvkEQDCDnr4QxRFAwFJOqF/S+r9Aeuop+ZoNQDhfLTzJ3yhAwHLfOQTn/L8AjXXqJpr0P2BqHV+MnQFAIEUi83jFA0CwY169ZCAmwBjkN/d5gS3AIEaP7LV1H8CAMVRdJKj6P+CRvfVjIhNA4Gu1/kXmDsCgIpSpy9wmQAAELFfPdua/AFwYYmNb5D+A7EnWCMTwv4C60o5bs/k/EMybXuTMGECQgwdr0q0XQDAZAKokQBrACNK+FEWwKUAgevE8aSYgwMD6H3RxlvU/AFHX6Ewx97+AY0UT3HYewADML2xOQco/gGpjhV5cFMBAj4rWUzL3P0A2zr1afBBAGAnUU6JnKUAguPCShlQLQKDk64YTOA/A4L6IhynsAMBg2s9ib1cBQICrpN1iNv0/8CB+Q++RKUCASg7+S5ooQIBNs0xePvu/QN0o/G6FCcD8vzu6KzozwAC5kecyDgnAsCvHwqQjGsCATi9XrEz4v6Bvrjxc7hFAwJr5QgViBkCAjFP2mrvyP8AxMxumTAhAANaXZjuS3T8Aeiymcp4IQLg4P/4mUTjAAInbdkj34r8AZPKsApDmP4BW9eJOuvG/ABjsa2lbt78=",
          "dtype": "f8"
         },
         "yaxis": "y4"
        },
        {
         "hovertemplate": "<b>%{text}</b><br>X: %{x:.2f}<br>Y: %{y:.2f}<extra></extra>",
         "marker": {
          "color": "green",
          "opacity": 0.7,
          "size": 4
         },
         "mode": "markers",
         "name": "Differenced r=0.180",
         "text": "Differenced r = 0.180",
         "type": "scatter",
         "x": {
          "bdata": "wYG1yq0j479IAsOzCZsBQMy2p0iHBuY/AKZxxqHVeb/AWMYM6XPKv0DsYhZTJra/iJ9mDTJK7b+A+5uQMV+4v9i5kWPz1dE/WNux25qL4j8UA2iU0YziPzDyOf6Xl9G/eXEw3UWo9r875CrpSWnlv6h8m+6Ky/k/2PLse4Ks7D9wzMjo2KfXP4wWfL+FXOi/ANzWrHHcbT+ygTgMOBf0vxJG0oV3qeG/qDO0ttJiz78DexLQGyXXv/KhJad7nO4/0lGs8Rmz9r9E8OEEn7Hrv6LrW9C4/vW/kITh4TLM878ARB2SIMK/P0C2Sohnm/m/0KjSarEf6D/gowzNqJfPv4Cii7YcnLE/kH4J5xil1D/Q6l9fYsnbvywbT3MJhfA/QF3B8zjgyL/Y5rifnwLjP2DkFbqDfMm/KPtOm6+d0j8IZI9B/uXRP+DoeNUD/88/NHTLp4ct77/4rud8Y+XbP3DbQJPKadS/ICjvO/Us5D+G16R7TjgBwJgKKbUdcfe/IMPPLLFC1z/Qfc0njc79P0xg+R7NuOo/HG9wV6PW5b94qLKNpRL7v/CG4uQVxOc/QOFHHxqhtL+I5i6IDOfiP8B6KpE3hL0/ABzNB7danj//y1nRQ6sHQADZduO6G3m/CMvkoiVixL8gtwCpQhe/v4zJSDFVrOK/4N8vLiuv7z+4L5o36aPWv8vxW4SkWeQ/OhJZoO820j96UsJR94DzP/S74PY45No/9yX6KAZq8786mnVBSzn1vyWI8RWuiPY/78MXFI96479KW7MrMCH1v0h8Z/yDbeW/KI6Tuec79D82aP1DMbn2v2g6SSZUuuu/3ENgs3xW5b/EdTqs3wT0vzypKjkB8/K/9N2YlitK+L+g8C82GITdv6CnWIjTtta/sGlSQVrX5b9wT33di3X6v/hcav6pDfQ/QJuRKehD9b/AtxTpTcvRP2h2hHQ+MvG/QKTADdpi5T8g2jy8LZbuP9DpohZpFey/UJkdJYrH/r/gopXE40PmP4BDH29HA/4/YK59Rb2a2j/Awuc3uIzEP6BkGpp6O+o/",
          "dtype": "f8"
         },
         "xaxis": "x5",
         "y": {
          "bdata": "SBY4lxOH6r8r2FF9xBflvyDHqflSjuM/gMPOhAdvwr/Mbn8H0RD1PxaZ44r4iea/5hugFv8E6D9kShbbx+3VP7g0jygbL8C/OrNA0IfQ8j/8ZRNgJcPlPx5JFXBYFPC/7CDW4qt85D/+Likt9v/1P+AbkFxpssC/YGeudPTTz7/Iot/av23lvwDfl6Ba3Iu/YOEiJFv15T80VbW1Virqv6RrwTmuivW/MBvJWkkM2L+eBM1/WhP2v88iv5k0vuA/FVDqm+JO27/O8Jo+IBb8v3BFvOSVT9a/gEFanJunyL8oVLZMo77cP+Bi8MdFm8K/PcCUtk3m/T9uatXROJngv/Au9dqz8q+/gGCrmllYur9SxPxclRbSv2xD32YAO8I/IiQhTMRR4T+knZFWC3H1Py1PI1CsG/m/Y84XlLpU4L/4J/56SajcvwDMdqDeAu4/sBTATZHT1r/QP4eko1L+v6B7K/GAdbY/gDNkB7c/ob9wQDJsGQLHP8geRdWBpPC/6Cl/giqB+z+YQPZiHrrUv1C9lYgcGsi/DGeuxd7M7L984OS2xMrtvzy0W6FUkPO/YPdjRwEs2b9YgRargqTuv87VPialcwBA4BpIyUM3/r8ATDhVpA3yv+BilyTGsNm/gFqylD2N5T+gbYEk/nravyC2R/t9oeU/QCkCwOWT778AggpSaFuuPxh4eaCX5/s/UFRNGMP37r8QfJthMtraP8Bk+9eZfMo/FvFUxiQDAsAQw2zC2Njiv5iOgb0yGfI/AOzepDlKwT/IgtkjdGXzv6DEf/DYGuY/oNo4SfOp3r8AhoA1EgvXP4C1LYt1H9g/uJbRWy3m8b+AulRxRUbpP8DLe4zBHvC/EEN4uH/k9L8QQ8eTIkDsv0B+OtBWJta/gJD+YtgBvD+Qwv6EAbnov8BRhU+P1ec/wEilO/0X0D9QUGZ3yTvmv8BBbkahcuw/eDEIaryT8j8AnGl5ZkO5v4A+qH2QhMu/SBUNEl5h/L8A5EGyrxTavwAYQsULqNK/QGilqJdozz8AQ9FP/47Fv0AGVFNGPM8/",
          "dtype": "f8"
         },
         "yaxis": "y5"
        },
        {
         "colorscale": [
          [
           0,
           "rgb(5,48,97)"
          ],
          [
           0.1,
           "rgb(33,102,172)"
          ],
          [
           0.2,
           "rgb(67,147,195)"
          ],
          [
           0.3,
           "rgb(146,197,222)"
          ],
          [
           0.4,
           "rgb(209,229,240)"
          ],
          [
           0.5,
           "rgb(247,247,247)"
          ],
          [
           0.6,
           "rgb(253,219,199)"
          ],
          [
           0.7,
           "rgb(244,165,130)"
          ],
          [
           0.8,
           "rgb(214,96,77)"
          ],
          [
           0.9,
           "rgb(178,24,43)"
          ],
          [
           1,
           "rgb(103,0,31)"
          ]
         ],
         "text": {
          "bdata": "AAAAAAAA8D/hehSuR+HuP6JFtvP91Oi/7nw/NV667b+0yHa+nxrvP8HKoUW28+0/4XoUrkfh7j8AAAAAAADwP6RwPQrXo+i/bef7qfHS7b8Sg8DKoUXuP7TIdr6fGu8/okW28/3U6L+kcD0K16PovwAAAAAAAPA/exSuR+F66D/+1HjpJjHov6rx0k1iEOi/7nw/NV667b9t5/up8dLtv3sUrkfheug/AAAAAAAA8D/HSzeJQWDtv57vp8ZLN+2/tMh2vp8a7z8Sg8DKoUXuP/7UeOkmMei/x0s3iUFg7b8AAAAAAADwP8dLN4lBYO0/wcqhRbbz7T+0yHa+nxrvP6rx0k1iEOi/nu+nxks37b/HSzeJQWDtPwAAAAAAAPA/",
          "dtype": "f8",
          "shape": "6, 6"
         },
         "textfont": {
          "size": 8
         },
         "texttemplate": "%{text}",
         "type": "heatmap",
         "x": [
          "Trend_Series_1",
          "Trend_Series_2",
          "Random_Walk_1",
          "Random_Walk_2",
          "Seasonal_1",
          "Seasonal_2"
         ],
         "xaxis": "x6",
         "y": [
          "Trend_Series_1",
          "Trend_Series_2",
          "Random_Walk_1",
          "Random_Walk_2",
          "Seasonal_1",
          "Seasonal_2"
         ],
         "yaxis": "y6",
         "z": {
          "bdata": "AAAAAAAA8D9oUMezg+HuP1m549VS0+i/jiU5wFS47b9gA1mpcxjvPxf3JMWJ8u0/aFDHs4Ph7j8AAAAAAADwP4qxEiHQo+i/Fcu/IJDV7b8g1V0NjUPuP6tylqb/GO8/Wbnj1VLT6L+KsRIh0KPovwAAAAAAAPA/lmQwr01+6D/z4CEASy7ov32jN9ZyE+i/jiU5wFS47b8Vy78gkNXtv5ZkMK9Nfug/AAAAAAAA8D84Qon6OFztvwXCFQGEOu2/YANZqXMY7z8g1V0NjUPuP/PgIQBLLui/OEKJ+jhc7b8AAAAAAADwP5edOJUtYe0/F/ckxYny7T+rcpam/xjvP32jN9ZyE+i/BcIVAYQ67b+XnTiVLWHtPwAAAAAAAPA/",
          "dtype": "f8",
          "shape": "6, 6"
         },
         "zmid": 0
        }
       ],
       "layout": {
        "annotations": [
         {
          "font": {
           "size": 16
          },
          "showarrow": false,
          "text": "Trending Series",
          "x": 0.14444444444444446,
          "xanchor": "center",
          "xref": "paper",
          "y": 1,
          "yanchor": "bottom",
          "yref": "paper"
         },
         {
          "font": {
           "size": 16
          },
          "showarrow": false,
          "text": "Random Walks",
          "x": 0.5,
          "xanchor": "center",
          "xref": "paper",
          "y": 1,
          "yanchor": "bottom",
          "yref": "paper"
         },
         {
          "font": {
           "size": 16
          },
          "showarrow": false,
          "text": "Seasonal Series",
          "x": 0.8555555555555556,
          "xanchor": "center",
          "xref": "paper",
          "y": 1,
          "yanchor": "bottom",
          "yref": "paper"
         },
         {
          "font": {
           "size": 16
          },
          "showarrow": false,
          "text": "Detrended Series",
          "x": 0.14444444444444446,
          "xanchor": "center",
          "xref": "paper",
          "y": 0.375,
          "yanchor": "bottom",
          "yref": "paper"
         },
         {
          "font": {
           "size": 16
          },
          "showarrow": false,
          "text": "Differenced Random Walks",
          "x": 0.5,
          "xanchor": "center",
          "xref": "paper",
          "y": 0.375,
          "yanchor": "bottom",
          "yref": "paper"
         },
         {
          "font": {
           "size": 16
          },
          "showarrow": false,
          "text": "Correlation Matrix",
          "x": 0.8555555555555556,
          "xanchor": "center",
          "xref": "paper",
          "y": 0.375,
          "yanchor": "bottom",
          "yref": "paper"
         }
        ],
        "height": 600,
        "showlegend": true,
        "template": {
         "data": {
          "bar": [
           {
            "error_x": {
             "color": "#2a3f5f"
            },
            "error_y": {
             "color": "#2a3f5f"
            },
            "marker": {
             "line": {
              "color": "#E5ECF6",
              "width": 0.5
             },
             "pattern": {
              "fillmode": "overlay",
              "size": 10,
              "solidity": 0.2
             }
            },
            "type": "bar"
           }
          ],
          "barpolar": [
           {
            "marker": {
             "line": {
              "color": "#E5ECF6",
              "width": 0.5
             },
             "pattern": {
              "fillmode": "overlay",
              "size": 10,
              "solidity": 0.2
             }
            },
            "type": "barpolar"
           }
          ],
          "carpet": [
           {
            "aaxis": {
             "endlinecolor": "#2a3f5f",
             "gridcolor": "white",
             "linecolor": "white",
             "minorgridcolor": "white",
             "startlinecolor": "#2a3f5f"
            },
            "baxis": {
             "endlinecolor": "#2a3f5f",
             "gridcolor": "white",
             "linecolor": "white",
             "minorgridcolor": "white",
             "startlinecolor": "#2a3f5f"
            },
            "type": "carpet"
           }
          ],
          "choropleth": [
           {
            "colorbar": {
             "outlinewidth": 0,
             "ticks": ""
            },
            "type": "choropleth"
           }
          ],
          "contour": [
           {
            "colorbar": {
             "outlinewidth": 0,
             "ticks": ""
            },
            "colorscale": [
             [
              0,
              "#0d0887"
             ],
             [
              0.1111111111111111,
              "#46039f"
             ],
             [
              0.2222222222222222,
              "#7201a8"
             ],
             [
              0.3333333333333333,
              "#9c179e"
             ],
             [
              0.4444444444444444,
              "#bd3786"
             ],
             [
              0.5555555555555556,
              "#d8576b"
             ],
             [
              0.6666666666666666,
              "#ed7953"
             ],
             [
              0.7777777777777778,
              "#fb9f3a"
             ],
             [
              0.8888888888888888,
              "#fdca26"
             ],
             [
              1,
              "#f0f921"
             ]
            ],
            "type": "contour"
           }
          ],
          "contourcarpet": [
           {
            "colorbar": {
             "outlinewidth": 0,
             "ticks": ""
            },
            "type": "contourcarpet"
           }
          ],
          "heatmap": [
           {
            "colorbar": {
             "outlinewidth": 0,
             "ticks": ""
            },
            "colorscale": [
             [
              0,
              "#0d0887"
             ],
             [
              0.1111111111111111,
              "#46039f"
             ],
             [
              0.2222222222222222,
              "#7201a8"
             ],
             [
              0.3333333333333333,
              "#9c179e"
             ],
             [
              0.4444444444444444,
              "#bd3786"
             ],
             [
              0.5555555555555556,
              "#d8576b"
             ],
             [
              0.6666666666666666,
              "#ed7953"
             ],
             [
              0.7777777777777778,
              "#fb9f3a"
             ],
             [
              0.8888888888888888,
              "#fdca26"
             ],
             [
              1,
              "#f0f921"
             ]
            ],
            "type": "heatmap"
           }
          ],
          "histogram": [
           {
            "marker": {
             "pattern": {
              "fillmode": "overlay",
              "size": 10,
              "solidity": 0.2
             }
            },
            "type": "histogram"
           }
          ],
          "histogram2d": [
           {
            "colorbar": {
             "outlinewidth": 0,
             "ticks": ""
            },
            "colorscale": [
             [
              0,
              "#0d0887"
             ],
             [
              0.1111111111111111,
              "#46039f"
             ],
             [
              0.2222222222222222,
              "#7201a8"
             ],
             [
              0.3333333333333333,
              "#9c179e"
             ],
             [
              0.4444444444444444,
              "#bd3786"
             ],
             [
              0.5555555555555556,
              "#d8576b"
             ],
             [
              0.6666666666666666,
              "#ed7953"
             ],
             [
              0.7777777777777778,
              "#fb9f3a"
             ],
             [
              0.8888888888888888,
              "#fdca26"
             ],
             [
              1,
              "#f0f921"
             ]
            ],
            "type": "histogram2d"
           }
          ],
          "histogram2dcontour": [
           {
            "colorbar": {
             "outlinewidth": 0,
             "ticks": ""
            },
            "colorscale": [
             [
              0,
              "#0d0887"
             ],
             [
              0.1111111111111111,
              "#46039f"
             ],
             [
              0.2222222222222222,
              "#7201a8"
             ],
             [
              0.3333333333333333,
              "#9c179e"
             ],
             [
              0.4444444444444444,
              "#bd3786"
             ],
             [
              0.5555555555555556,
              "#d8576b"
             ],
             [
              0.6666666666666666,
              "#ed7953"
             ],
             [
              0.7777777777777778,
              "#fb9f3a"
             ],
             [
              0.8888888888888888,
              "#fdca26"
             ],
             [
              1,
              "#f0f921"
             ]
            ],
            "type": "histogram2dcontour"
           }
          ],
          "mesh3d": [
           {
            "colorbar": {
             "outlinewidth": 0,
             "ticks": ""
            },
            "type": "mesh3d"
           }
          ],
          "parcoords": [
           {
            "line": {
             "colorbar": {
              "outlinewidth": 0,
              "ticks": ""
             }
            },
            "type": "parcoords"
           }
          ],
          "pie": [
           {
            "automargin": true,
            "type": "pie"
           }
          ],
          "scatter": [
           {
            "fillpattern": {
             "fillmode": "overlay",
             "size": 10,
             "solidity": 0.2
            },
            "type": "scatter"
           }
          ],
          "scatter3d": [
           {
            "line": {
             "colorbar": {
              "outlinewidth": 0,
              "ticks": ""
             }
            },
            "marker": {
             "colorbar": {
              "outlinewidth": 0,
              "ticks": ""
             }
            },
            "type": "scatter3d"
           }
          ],
          "scattercarpet": [
           {
            "marker": {
             "colorbar": {
              "outlinewidth": 0,
              "ticks": ""
             }
            },
            "type": "scattercarpet"
           }
          ],
          "scattergeo": [
           {
            "marker": {
             "colorbar": {
              "outlinewidth": 0,
              "ticks": ""
             }
            },
            "type": "scattergeo"
           }
          ],
          "scattergl": [
           {
            "marker": {
             "colorbar": {
              "outlinewidth": 0,
              "ticks": ""
             }
            },
            "type": "scattergl"
           }
          ],
          "scattermap": [
           {
            "marker": {
             "colorbar": {
              "outlinewidth": 0,
              "ticks": ""
             }
            },
            "type": "scattermap"
           }
          ],
          "scattermapbox": [
           {
            "marker": {
             "colorbar": {
              "outlinewidth": 0,
              "ticks": ""
             }
            },
            "type": "scattermapbox"
           }
          ],
          "scatterpolar": [
           {
            "marker": {
             "colorbar": {
              "outlinewidth": 0,
              "ticks": ""
             }
            },
            "type": "scatterpolar"
           }
          ],
          "scatterpolargl": [
           {
            "marker": {
             "colorbar": {
              "outlinewidth": 0,
              "ticks": ""
             }
            },
            "type": "scatterpolargl"
           }
          ],
          "scatterternary": [
           {
            "marker": {
             "colorbar": {
              "outlinewidth": 0,
              "ticks": ""
             }
            },
            "type": "scatterternary"
           }
          ],
          "surface": [
           {
            "colorbar": {
             "outlinewidth": 0,
             "ticks": ""
            },
            "colorscale": [
             [
              0,
              "#0d0887"
             ],
             [
              0.1111111111111111,
              "#46039f"
             ],
             [
              0.2222222222222222,
              "#7201a8"
             ],
             [
              0.3333333333333333,
              "#9c179e"
             ],
             [
              0.4444444444444444,
              "#bd3786"
             ],
             [
              0.5555555555555556,
              "#d8576b"
             ],
             [
              0.6666666666666666,
              "#ed7953"
             ],
             [
              0.7777777777777778,
              "#fb9f3a"
             ],
             [
              0.8888888888888888,
              "#fdca26"
             ],
             [
              1,
              "#f0f921"
             ]
            ],
            "type": "surface"
           }
          ],
          "table": [
           {
            "cells": {
             "fill": {
              "color": "#EBF0F8"
             },
             "line": {
              "color": "white"
             }
            },
            "header": {
             "fill": {
              "color": "#C8D4E3"
             },
             "line": {
              "color": "white"
             }
            },
            "type": "table"
           }
          ]
         },
         "layout": {
          "annotationdefaults": {
           "arrowcolor": "#2a3f5f",
           "arrowhead": 0,
           "arrowwidth": 1
          },
          "autotypenumbers": "strict",
          "coloraxis": {
           "colorbar": {
            "outlinewidth": 0,
            "ticks": ""
           }
          },
          "colorscale": {
           "diverging": [
            [
             0,
             "#8e0152"
            ],
            [
             0.1,
             "#c51b7d"
            ],
            [
             0.2,
             "#de77ae"
            ],
            [
             0.3,
             "#f1b6da"
            ],
            [
             0.4,
             "#fde0ef"
            ],
            [
             0.5,
             "#f7f7f7"
            ],
            [
             0.6,
             "#e6f5d0"
            ],
            [
             0.7,
             "#b8e186"
            ],
            [
             0.8,
             "#7fbc41"
            ],
            [
             0.9,
             "#4d9221"
            ],
            [
             1,
             "#276419"
            ]
           ],
           "sequential": [
            [
             0,
             "#0d0887"
            ],
            [
             0.1111111111111111,
             "#46039f"
            ],
            [
             0.2222222222222222,
             "#7201a8"
            ],
            [
             0.3333333333333333,
             "#9c179e"
            ],
            [
             0.4444444444444444,
             "#bd3786"
            ],
            [
             0.5555555555555556,
             "#d8576b"
            ],
            [
             0.6666666666666666,
             "#ed7953"
            ],
            [
             0.7777777777777778,
             "#fb9f3a"
            ],
            [
             0.8888888888888888,
             "#fdca26"
            ],
            [
             1,
             "#f0f921"
            ]
           ],
           "sequentialminus": [
            [
             0,
             "#0d0887"
            ],
            [
             0.1111111111111111,
             "#46039f"
            ],
            [
             0.2222222222222222,
             "#7201a8"
            ],
            [
             0.3333333333333333,
             "#9c179e"
            ],
            [
             0.4444444444444444,
             "#bd3786"
            ],
            [
             0.5555555555555556,
             "#d8576b"
            ],
            [
             0.6666666666666666,
             "#ed7953"
            ],
            [
             0.7777777777777778,
             "#fb9f3a"
            ],
            [
             0.8888888888888888,
             "#fdca26"
            ],
            [
             1,
             "#f0f921"
            ]
           ]
          },
          "colorway": [
           "#636efa",
           "#EF553B",
           "#00cc96",
           "#ab63fa",
           "#FFA15A",
           "#19d3f3",
           "#FF6692",
           "#B6E880",
           "#FF97FF",
           "#FECB52"
          ],
          "font": {
           "color": "#2a3f5f"
          },
          "geo": {
           "bgcolor": "white",
           "lakecolor": "white",
           "landcolor": "#E5ECF6",
           "showlakes": true,
           "showland": true,
           "subunitcolor": "white"
          },
          "hoverlabel": {
           "align": "left"
          },
          "hovermode": "closest",
          "mapbox": {
           "style": "light"
          },
          "paper_bgcolor": "white",
          "plot_bgcolor": "#E5ECF6",
          "polar": {
           "angularaxis": {
            "gridcolor": "white",
            "linecolor": "white",
            "ticks": ""
           },
           "bgcolor": "#E5ECF6",
           "radialaxis": {
            "gridcolor": "white",
            "linecolor": "white",
            "ticks": ""
           }
          },
          "scene": {
           "xaxis": {
            "backgroundcolor": "#E5ECF6",
            "gridcolor": "white",
            "gridwidth": 2,
            "linecolor": "white",
            "showbackground": true,
            "ticks": "",
            "zerolinecolor": "white"
           },
           "yaxis": {
            "backgroundcolor": "#E5ECF6",
            "gridcolor": "white",
            "gridwidth": 2,
            "linecolor": "white",
            "showbackground": true,
            "ticks": "",
            "zerolinecolor": "white"
           },
           "zaxis": {
            "backgroundcolor": "#E5ECF6",
            "gridcolor": "white",
            "gridwidth": 2,
            "linecolor": "white",
            "showbackground": true,
            "ticks": "",
            "zerolinecolor": "white"
           }
          },
          "shapedefaults": {
           "line": {
            "color": "#2a3f5f"
           }
          },
          "ternary": {
           "aaxis": {
            "gridcolor": "white",
            "linecolor": "white",
            "ticks": ""
           },
           "baxis": {
            "gridcolor": "white",
            "linecolor": "white",
            "ticks": ""
           },
           "bgcolor": "#E5ECF6",
           "caxis": {
            "gridcolor": "white",
            "linecolor": "white",
            "ticks": ""
           }
          },
          "title": {
           "x": 0.05
          },
          "xaxis": {
           "automargin": true,
           "gridcolor": "white",
           "linecolor": "white",
           "ticks": "",
           "title": {
            "standoff": 15
           },
           "zerolinecolor": "white",
           "zerolinewidth": 2
          },
          "yaxis": {
           "automargin": true,
           "gridcolor": "white",
           "linecolor": "white",
           "ticks": "",
           "title": {
            "standoff": 15
           },
           "zerolinecolor": "white",
           "zerolinewidth": 2
          }
         }
        },
        "title": {
         "text": "Spurious Correlation Detection and Correction"
        },
        "xaxis": {
         "anchor": "y",
         "domain": [
          0,
          0.2888888888888889
         ]
        },
        "xaxis2": {
         "anchor": "y2",
         "domain": [
          0.35555555555555557,
          0.6444444444444445
         ]
        },
        "xaxis3": {
         "anchor": "y3",
         "domain": [
          0.7111111111111111,
          1
         ]
        },
        "xaxis4": {
         "anchor": "y4",
         "domain": [
          0,
          0.2888888888888889
         ]
        },
        "xaxis5": {
         "anchor": "y5",
         "domain": [
          0.35555555555555557,
          0.6444444444444445
         ]
        },
        "xaxis6": {
         "anchor": "y6",
         "domain": [
          0.7111111111111111,
          1
         ]
        },
        "yaxis": {
         "anchor": "x",
         "domain": [
          0.625,
          1
         ]
        },
        "yaxis2": {
         "anchor": "x2",
         "domain": [
          0.625,
          1
         ]
        },
        "yaxis3": {
         "anchor": "x3",
         "domain": [
          0.625,
          1
         ]
        },
        "yaxis4": {
         "anchor": "x4",
         "domain": [
          0,
          0.375
         ]
        },
        "yaxis5": {
         "anchor": "x5",
         "domain": [
          0,
          0.375
         ]
        },
        "yaxis6": {
         "anchor": "x6",
         "domain": [
          0,
          0.375
         ]
        }
       }
      }
     },
     "metadata": {},
     "output_type": "display_data"
    },
    {
     "name": "stdout",
     "output_type": "stream",
     "text": [
      " Spurious Correlation Analysis:\n",
      "Original correlations (potentially spurious):\n",
      "After correction:\n",
      "• Trending Series: 0.965\n",
      "• Random Walks: 0.765\n",
      "• Seasonal Series: 0.918\n",
      "\n",
      "After removing trends/patterns:\n",
      "• Detrended Series: -0.019\n",
      "• Differenced Random Walks: 0.180\n",
      "• Deseasonalized: 0.048\n"
     ]
    }
   ],
   "source": [
    "# 7. SPURIOUS CORRELATION DETECTION\n",
    "print(\"\\n 7. SPURIOUS CORRELATION DETECTION\")\n",
    "print(\"=\" * 50)\n",
    "\n",
    "# Create examples of potentially spurious correlations\n",
    "np.random.seed(123)\n",
    "\n",
    "# Time series that might show spurious correlation\n",
    "time = np.arange(100)\n",
    "trend1 = 2 * time + np.random.normal(0, 10, 100) # Linear trend\n",
    "trend2 = 1.5 * time + np.random.normal(0, 8, 100) # Similar trend\n",
    "random1 = np.cumsum(np.random.normal(0, 1, 100)) # Random walk\n",
    "random2 = np.cumsum(np.random.normal(0, 1, 100)) # Another random walk\n",
    "\n",
    "# Add some seasonal patterns\n",
    "seasonal1 = 20 * np.sin(2 * np.pi * time / 12) + trend1\n",
    "seasonal2 = 15 * np.cos(2 * np.pi * time / 12) + trend2\n",
    "\n",
    "spurious_data = pd.DataFrame({\n",
    " 'Time': time,\n",
    " 'Trend_Series_1': trend1,\n",
    " 'Trend_Series_2': trend2,\n",
    " 'Random_Walk_1': random1,\n",
    " 'Random_Walk_2': random2,\n",
    " 'Seasonal_1': seasonal1,\n",
    " 'Seasonal_2': seasonal2\n",
    "})\n",
    "\n",
    "# Calculate correlations\n",
    "spurious_corr = spurious_data.drop('Time', axis=1).corr()\n",
    "\n",
    "fig = make_subplots(\n",
    " rows=2, cols=3,\n",
    " subplot_titles=(\"Trending Series\", \"Random Walks\", \"Seasonal Series\",\n",
    " \"Detrended Series\", \"Differenced Random Walks\", \"Correlation Matrix\"),\n",
    " specs=[[{\"type\": \"scatter\"}, {\"type\": \"scatter\"}, {\"type\": \"scatter\"}],\n",
    " [{\"type\": \"scatter\"}, {\"type\": \"scatter\"}, {\"type\": \"heatmap\"}]]\n",
    ")\n",
    "\n",
    "# Plot original series\n",
    "series_pairs = [\n",
    " ('Trend_Series_1', 'Trend_Series_2', 1, 1),\n",
    " ('Random_Walk_1', 'Random_Walk_2', 1, 2),\n",
    " ('Seasonal_1', 'Seasonal_2', 1, 3)\n",
    "]\n",
    "\n",
    "for var1, var2, row, col in series_pairs:\n",
    " # Original series\n",
    " fig.add_trace(\n",
    " go.Scatter(\n",
    " x=spurious_data[var1],\n",
    " y=spurious_data[var2],\n",
    " mode='markers',\n",
    " marker=dict(size=4, opacity=0.7),\n",
    " name=f\"{var1} vs {var2}\",\n",
    " text=f\"r = {spurious_data[var1].corr(spurious_data[var2]):.3f}\",\n",
    " hovertemplate=\"<b>%{text}</b><br>X: %{x:.2f}<br>Y: %{y:.2f}<extra></extra>\"\n",
    " ),\n",
    " row=row, col=col\n",
    " )\n",
    "\n",
    "# Detrending and differencing to remove spurious correlations\n",
    "from scipy import signal\n",
    "\n",
    "# Detrend the trending series\n",
    "detrended_1 = signal.detrend(spurious_data['Trend_Series_1'])\n",
    "detrended_2 = signal.detrend(spurious_data['Trend_Series_2'])\n",
    "\n",
    "fig.add_trace(\n",
    " go.Scatter(\n",
    " x=detrended_1,\n",
    " y=detrended_2,\n",
    " mode='markers',\n",
    " marker=dict(size=4, color='red', opacity=0.7),\n",
    " name=f\"Detrended r={np.corrcoef(detrended_1, detrended_2)[0,1]:.3f}\",\n",
    " text=f\"Detrended r = {np.corrcoef(detrended_1, detrended_2)[0,1]:.3f}\",\n",
    " hovertemplate=\"<b>%{text}</b><br>X: %{x:.2f}<br>Y: %{y:.2f}<extra></extra>\"\n",
    " ),\n",
    " row=2, col=1\n",
    ")\n",
    "\n",
    "# Difference the random walks\n",
    "diff_random1 = np.diff(spurious_data['Random_Walk_1'])\n",
    "diff_random2 = np.diff(spurious_data['Random_Walk_2'])\n",
    "\n",
    "fig.add_trace(\n",
    " go.Scatter(\n",
    " x=diff_random1,\n",
    " y=diff_random2,\n",
    " mode='markers',\n",
    " marker=dict(size=4, color='green', opacity=0.7),\n",
    " name=f\"Differenced r={np.corrcoef(diff_random1, diff_random2)[0,1]:.3f}\",\n",
    " text=f\"Differenced r = {np.corrcoef(diff_random1, diff_random2)[0,1]:.3f}\",\n",
    " hovertemplate=\"<b>%{text}</b><br>X: %{x:.2f}<br>Y: %{y:.2f}<extra></extra>\"\n",
    " ),\n",
    " row=2, col=2\n",
    ")\n",
    "\n",
    "# Correlation matrix\n",
    "fig.add_trace(\n",
    " go.Heatmap(\n",
    " z=spurious_corr.values,\n",
    " x=spurious_corr.columns,\n",
    " y=spurious_corr.columns,\n",
    " colorscale='RdBu_r',\n",
    " zmid=0,\n",
    " text=spurious_corr.round(3).values,\n",
    " texttemplate=\"%{text}\",\n",
    " textfont={\"size\": 8}\n",
    " ),\n",
    " row=2, col=3\n",
    ")\n",
    "\n",
    "fig.update_layout(\n",
    " title=\"Spurious Correlation Detection and Correction\",\n",
    " height=600,\n",
    " showlegend=True\n",
    ")\n",
    "\n",
    "fig.show()\n",
    "\n",
    "# Spurious correlation tests\n",
    "print(\" Spurious Correlation Analysis:\")\n",
    "print(\"Original correlations (potentially spurious):\")\n",
    "original_corrs = {\n",
    " 'Trending Series': spurious_data['Trend_Series_1'].corr(spurious_data['Trend_Series_2']),\n",
    " 'Random Walks': spurious_data['Random_Walk_1'].corr(spurious_data['Random_Walk_2']),\n",
    " 'Seasonal Series': spurious_data['Seasonal_1'].corr(spurious_data['Seasonal_2'])\n",
    "}\n",
    "\n",
    "print(\"After correction:\")\n",
    "corrected_corrs = {\n",
    " 'Detrended Series': np.corrcoef(detrended_1, detrended_2)[0,1],\n",
    " 'Differenced Random Walks': np.corrcoef(diff_random1, diff_random2)[0,1],\n",
    " 'Deseasonalized': np.corrcoef(\n",
    " signal.detrend(spurious_data['Seasonal_1']),\n",
    " signal.detrend(spurious_data['Seasonal_2'])\n",
    " )[0,1]\n",
    "}\n",
    "\n",
    "for name, corr in original_corrs.items():\n",
    " print(f\"• {name}: {corr:.3f}\")\n",
    "\n",
    "print(\"\\nAfter removing trends/patterns:\")\n",
    "for name, corr in corrected_corrs.items():\n",
    " print(f\"• {name}: {corr:.3f}\")"
   ]
  },
  {
   "cell_type": "code",
   "execution_count": 23,
   "id": "aaf11816",
   "metadata": {},
   "outputs": [
    {
     "name": "stdout",
     "output_type": "stream",
     "text": [
      "\n",
      " 8. BUSINESS INSIGHTS & INTERPRETATION\n",
      "==================================================\n"
     ]
    },
    {
     "data": {
      "application/vnd.plotly.v1+json": {
       "config": {
        "plotlyServerURL": "https://plot.ly"
       },
       "data": [
        {
         "marker": {
          "color": "lightblue"
         },
         "name": "Correlation Strengths",
         "nbinsx": 15,
         "opacity": 0.7,
         "type": "histogram",
         "x": {
          "bdata": "DTb+OY+j4z985AoqOkvpP19pF2qSMMc/eZ5c/h5e7j8WQp691bDoPyPNmsIWsuo/LDS99+KC6T8=",
          "dtype": "f8"
         },
         "xaxis": "x",
         "yaxis": "y"
        },
        {
         "customdata": [
          "Primary focus for policy/strategy",
          "Primary focus for policy/strategy",
          "Investigate other factors",
          "Primary focus for policy/strategy",
          "Primary focus for policy/strategy",
          "Primary focus for policy/strategy",
          "Primary focus for policy/strategy"
         ],
         "hovertemplate": "<b>%{text}</b><br>Correlation: %{x:.3f}<br>Action: %{customdata}<extra></extra>",
         "marker": {
          "color": [
           "red",
           "red",
           "gray",
           "red",
           "red",
           "red",
           "red"
          ],
          "opacity": 0.8,
          "size": {
           "bdata": "rFJeRlZpMkA0NmqHhrY3QMnydUOJvRVAkdR2Dj14PED1XcRhyCU3QFEgcVb1BjlA6WBByLTqN0A=",
           "dtype": "f8"
          }
         },
         "mode": "markers+text",
         "name": "Action Priority",
         "text": [
          "GDP_Growth ↔ Unemployment_Rate",
          "GDP_Growth ↔ Consumer_Confidence",
          "Interest_Rates ↔ Housing_Price_Index",
          "Tech_Investment ↔ Productivity_Index",
          "Inflation_Rate ↔ Interest_Rates",
          "Consumer_Confidence ↔ Retail_Sales_Index",
          "Stock_Returns ↔ Consumer_Confidence"
         ],
         "textposition": "middle right",
         "type": "scatter",
         "x": {
          "bdata": "DTb+OY+j47985AoqOkvpP19pF2qSMMc/eZ5c/h5e7j8WQp691bDoPyPNmsIWsuo/LDS99+KC6T8=",
          "dtype": "f8"
         },
         "xaxis": "x2",
         "y": [
          0,
          1,
          2,
          3,
          4,
          5,
          6
         ],
         "yaxis": "y2"
        },
        {
         "customdata": [
          "Strong",
          "Strong",
          "Very Weak",
          "Very Strong",
          "Strong",
          "Very Strong",
          "Strong"
         ],
         "hovertemplate": "<b>%{text}</b><br>|Correlation|: %{x:.3f}<br>Strength: %{customdata}<extra></extra>",
         "marker": {
          "color": "purple",
          "opacity": 0.7,
          "size": 10
         },
         "mode": "markers",
         "name": "Strength Assessment",
         "text": [
          "GDP_Growth ↔ Unemployment_Rate",
          "GDP_Growth ↔ Consumer_Confidence",
          "Interest_Rates ↔ Housing_Price_Index",
          "Tech_Investment ↔ Productivity_Index",
          "Inflation_Rate ↔ Interest_Rates",
          "Consumer_Confidence ↔ Retail_Sales_Index",
          "Stock_Returns ↔ Consumer_Confidence"
         ],
         "type": "scatter",
         "x": {
          "bdata": "DTb+OY+j4z985AoqOkvpP19pF2qSMMc/eZ5c/h5e7j8WQp691bDoPyPNmsIWsuo/LDS99+KC6T8=",
          "dtype": "f8"
         },
         "xaxis": "x3",
         "y": [
          4,
          4,
          1,
          5,
          4,
          5,
          4
         ],
         "yaxis": "y3"
        },
        {
         "marker": {
          "color": "steelblue"
         },
         "name": "Top Correlations",
         "orientation": "h",
         "text": [
          "Tech_Investment ↔ Productivity_Index",
          "Consumer_Confidence ↔ Retail_Sales_Index",
          "Stock_Returns ↔ Consumer_Confidence",
          "GDP_Growth ↔ Consumer_Confidence",
          "Inflation_Rate ↔ Interest_Rates",
          "Interest_Rates ↔ Housing_Price_Index",
          "GDP_Growth ↔ Unemployment_Rate"
         ],
         "textposition": "auto",
         "type": "bar",
         "x": {
          "bdata": "eZ5c/h5e7j8jzZrCFrLqPyw0vffiguk/fOQKKjpL6T8WQp691bDoP19pF2qSMMc/DTb+OY+j478=",
          "dtype": "f8"
         },
         "xaxis": "x4",
         "y": [
          0,
          1,
          2,
          3,
          4,
          5,
          6
         ],
         "yaxis": "y4"
        }
       ],
       "layout": {
        "annotations": [
         {
          "font": {
           "size": 16
          },
          "showarrow": false,
          "text": "Correlation Strength Distribution",
          "x": 0.225,
          "xanchor": "center",
          "xref": "paper",
          "y": 1,
          "yanchor": "bottom",
          "yref": "paper"
         },
         {
          "font": {
           "size": 16
          },
          "showarrow": false,
          "text": "Business Action Matrix",
          "x": 0.775,
          "xanchor": "center",
          "xref": "paper",
          "y": 1,
          "yanchor": "bottom",
          "yref": "paper"
         },
         {
          "font": {
           "size": 16
          },
          "showarrow": false,
          "text": "Reliability vs Correlation",
          "x": 0.225,
          "xanchor": "center",
          "xref": "paper",
          "y": 0.375,
          "yanchor": "bottom",
          "yref": "paper"
         },
         {
          "font": {
           "size": 16
          },
          "showarrow": false,
          "text": "Key Economic Relationships",
          "x": 0.775,
          "xanchor": "center",
          "xref": "paper",
          "y": 0.375,
          "yanchor": "bottom",
          "yref": "paper"
         }
        ],
        "height": 700,
        "showlegend": true,
        "template": {
         "data": {
          "bar": [
           {
            "error_x": {
             "color": "#2a3f5f"
            },
            "error_y": {
             "color": "#2a3f5f"
            },
            "marker": {
             "line": {
              "color": "#E5ECF6",
              "width": 0.5
             },
             "pattern": {
              "fillmode": "overlay",
              "size": 10,
              "solidity": 0.2
             }
            },
            "type": "bar"
           }
          ],
          "barpolar": [
           {
            "marker": {
             "line": {
              "color": "#E5ECF6",
              "width": 0.5
             },
             "pattern": {
              "fillmode": "overlay",
              "size": 10,
              "solidity": 0.2
             }
            },
            "type": "barpolar"
           }
          ],
          "carpet": [
           {
            "aaxis": {
             "endlinecolor": "#2a3f5f",
             "gridcolor": "white",
             "linecolor": "white",
             "minorgridcolor": "white",
             "startlinecolor": "#2a3f5f"
            },
            "baxis": {
             "endlinecolor": "#2a3f5f",
             "gridcolor": "white",
             "linecolor": "white",
             "minorgridcolor": "white",
             "startlinecolor": "#2a3f5f"
            },
            "type": "carpet"
           }
          ],
          "choropleth": [
           {
            "colorbar": {
             "outlinewidth": 0,
             "ticks": ""
            },
            "type": "choropleth"
           }
          ],
          "contour": [
           {
            "colorbar": {
             "outlinewidth": 0,
             "ticks": ""
            },
            "colorscale": [
             [
              0,
              "#0d0887"
             ],
             [
              0.1111111111111111,
              "#46039f"
             ],
             [
              0.2222222222222222,
              "#7201a8"
             ],
             [
              0.3333333333333333,
              "#9c179e"
             ],
             [
              0.4444444444444444,
              "#bd3786"
             ],
             [
              0.5555555555555556,
              "#d8576b"
             ],
             [
              0.6666666666666666,
              "#ed7953"
             ],
             [
              0.7777777777777778,
              "#fb9f3a"
             ],
             [
              0.8888888888888888,
              "#fdca26"
             ],
             [
              1,
              "#f0f921"
             ]
            ],
            "type": "contour"
           }
          ],
          "contourcarpet": [
           {
            "colorbar": {
             "outlinewidth": 0,
             "ticks": ""
            },
            "type": "contourcarpet"
           }
          ],
          "heatmap": [
           {
            "colorbar": {
             "outlinewidth": 0,
             "ticks": ""
            },
            "colorscale": [
             [
              0,
              "#0d0887"
             ],
             [
              0.1111111111111111,
              "#46039f"
             ],
             [
              0.2222222222222222,
              "#7201a8"
             ],
             [
              0.3333333333333333,
              "#9c179e"
             ],
             [
              0.4444444444444444,
              "#bd3786"
             ],
             [
              0.5555555555555556,
              "#d8576b"
             ],
             [
              0.6666666666666666,
              "#ed7953"
             ],
             [
              0.7777777777777778,
              "#fb9f3a"
             ],
             [
              0.8888888888888888,
              "#fdca26"
             ],
             [
              1,
              "#f0f921"
             ]
            ],
            "type": "heatmap"
           }
          ],
          "histogram": [
           {
            "marker": {
             "pattern": {
              "fillmode": "overlay",
              "size": 10,
              "solidity": 0.2
             }
            },
            "type": "histogram"
           }
          ],
          "histogram2d": [
           {
            "colorbar": {
             "outlinewidth": 0,
             "ticks": ""
            },
            "colorscale": [
             [
              0,
              "#0d0887"
             ],
             [
              0.1111111111111111,
              "#46039f"
             ],
             [
              0.2222222222222222,
              "#7201a8"
             ],
             [
              0.3333333333333333,
              "#9c179e"
             ],
             [
              0.4444444444444444,
              "#bd3786"
             ],
             [
              0.5555555555555556,
              "#d8576b"
             ],
             [
              0.6666666666666666,
              "#ed7953"
             ],
             [
              0.7777777777777778,
              "#fb9f3a"
             ],
             [
              0.8888888888888888,
              "#fdca26"
             ],
             [
              1,
              "#f0f921"
             ]
            ],
            "type": "histogram2d"
           }
          ],
          "histogram2dcontour": [
           {
            "colorbar": {
             "outlinewidth": 0,
             "ticks": ""
            },
            "colorscale": [
             [
              0,
              "#0d0887"
             ],
             [
              0.1111111111111111,
              "#46039f"
             ],
             [
              0.2222222222222222,
              "#7201a8"
             ],
             [
              0.3333333333333333,
              "#9c179e"
             ],
             [
              0.4444444444444444,
              "#bd3786"
             ],
             [
              0.5555555555555556,
              "#d8576b"
             ],
             [
              0.6666666666666666,
              "#ed7953"
             ],
             [
              0.7777777777777778,
              "#fb9f3a"
             ],
             [
              0.8888888888888888,
              "#fdca26"
             ],
             [
              1,
              "#f0f921"
             ]
            ],
            "type": "histogram2dcontour"
           }
          ],
          "mesh3d": [
           {
            "colorbar": {
             "outlinewidth": 0,
             "ticks": ""
            },
            "type": "mesh3d"
           }
          ],
          "parcoords": [
           {
            "line": {
             "colorbar": {
              "outlinewidth": 0,
              "ticks": ""
             }
            },
            "type": "parcoords"
           }
          ],
          "pie": [
           {
            "automargin": true,
            "type": "pie"
           }
          ],
          "scatter": [
           {
            "fillpattern": {
             "fillmode": "overlay",
             "size": 10,
             "solidity": 0.2
            },
            "type": "scatter"
           }
          ],
          "scatter3d": [
           {
            "line": {
             "colorbar": {
              "outlinewidth": 0,
              "ticks": ""
             }
            },
            "marker": {
             "colorbar": {
              "outlinewidth": 0,
              "ticks": ""
             }
            },
            "type": "scatter3d"
           }
          ],
          "scattercarpet": [
           {
            "marker": {
             "colorbar": {
              "outlinewidth": 0,
              "ticks": ""
             }
            },
            "type": "scattercarpet"
           }
          ],
          "scattergeo": [
           {
            "marker": {
             "colorbar": {
              "outlinewidth": 0,
              "ticks": ""
             }
            },
            "type": "scattergeo"
           }
          ],
          "scattergl": [
           {
            "marker": {
             "colorbar": {
              "outlinewidth": 0,
              "ticks": ""
             }
            },
            "type": "scattergl"
           }
          ],
          "scattermap": [
           {
            "marker": {
             "colorbar": {
              "outlinewidth": 0,
              "ticks": ""
             }
            },
            "type": "scattermap"
           }
          ],
          "scattermapbox": [
           {
            "marker": {
             "colorbar": {
              "outlinewidth": 0,
              "ticks": ""
             }
            },
            "type": "scattermapbox"
           }
          ],
          "scatterpolar": [
           {
            "marker": {
             "colorbar": {
              "outlinewidth": 0,
              "ticks": ""
             }
            },
            "type": "scatterpolar"
           }
          ],
          "scatterpolargl": [
           {
            "marker": {
             "colorbar": {
              "outlinewidth": 0,
              "ticks": ""
             }
            },
            "type": "scatterpolargl"
           }
          ],
          "scatterternary": [
           {
            "marker": {
             "colorbar": {
              "outlinewidth": 0,
              "ticks": ""
             }
            },
            "type": "scatterternary"
           }
          ],
          "surface": [
           {
            "colorbar": {
             "outlinewidth": 0,
             "ticks": ""
            },
            "colorscale": [
             [
              0,
              "#0d0887"
             ],
             [
              0.1111111111111111,
              "#46039f"
             ],
             [
              0.2222222222222222,
              "#7201a8"
             ],
             [
              0.3333333333333333,
              "#9c179e"
             ],
             [
              0.4444444444444444,
              "#bd3786"
             ],
             [
              0.5555555555555556,
              "#d8576b"
             ],
             [
              0.6666666666666666,
              "#ed7953"
             ],
             [
              0.7777777777777778,
              "#fb9f3a"
             ],
             [
              0.8888888888888888,
              "#fdca26"
             ],
             [
              1,
              "#f0f921"
             ]
            ],
            "type": "surface"
           }
          ],
          "table": [
           {
            "cells": {
             "fill": {
              "color": "#EBF0F8"
             },
             "line": {
              "color": "white"
             }
            },
            "header": {
             "fill": {
              "color": "#C8D4E3"
             },
             "line": {
              "color": "white"
             }
            },
            "type": "table"
           }
          ]
         },
         "layout": {
          "annotationdefaults": {
           "arrowcolor": "#2a3f5f",
           "arrowhead": 0,
           "arrowwidth": 1
          },
          "autotypenumbers": "strict",
          "coloraxis": {
           "colorbar": {
            "outlinewidth": 0,
            "ticks": ""
           }
          },
          "colorscale": {
           "diverging": [
            [
             0,
             "#8e0152"
            ],
            [
             0.1,
             "#c51b7d"
            ],
            [
             0.2,
             "#de77ae"
            ],
            [
             0.3,
             "#f1b6da"
            ],
            [
             0.4,
             "#fde0ef"
            ],
            [
             0.5,
             "#f7f7f7"
            ],
            [
             0.6,
             "#e6f5d0"
            ],
            [
             0.7,
             "#b8e186"
            ],
            [
             0.8,
             "#7fbc41"
            ],
            [
             0.9,
             "#4d9221"
            ],
            [
             1,
             "#276419"
            ]
           ],
           "sequential": [
            [
             0,
             "#0d0887"
            ],
            [
             0.1111111111111111,
             "#46039f"
            ],
            [
             0.2222222222222222,
             "#7201a8"
            ],
            [
             0.3333333333333333,
             "#9c179e"
            ],
            [
             0.4444444444444444,
             "#bd3786"
            ],
            [
             0.5555555555555556,
             "#d8576b"
            ],
            [
             0.6666666666666666,
             "#ed7953"
            ],
            [
             0.7777777777777778,
             "#fb9f3a"
            ],
            [
             0.8888888888888888,
             "#fdca26"
            ],
            [
             1,
             "#f0f921"
            ]
           ],
           "sequentialminus": [
            [
             0,
             "#0d0887"
            ],
            [
             0.1111111111111111,
             "#46039f"
            ],
            [
             0.2222222222222222,
             "#7201a8"
            ],
            [
             0.3333333333333333,
             "#9c179e"
            ],
            [
             0.4444444444444444,
             "#bd3786"
            ],
            [
             0.5555555555555556,
             "#d8576b"
            ],
            [
             0.6666666666666666,
             "#ed7953"
            ],
            [
             0.7777777777777778,
             "#fb9f3a"
            ],
            [
             0.8888888888888888,
             "#fdca26"
            ],
            [
             1,
             "#f0f921"
            ]
           ]
          },
          "colorway": [
           "#636efa",
           "#EF553B",
           "#00cc96",
           "#ab63fa",
           "#FFA15A",
           "#19d3f3",
           "#FF6692",
           "#B6E880",
           "#FF97FF",
           "#FECB52"
          ],
          "font": {
           "color": "#2a3f5f"
          },
          "geo": {
           "bgcolor": "white",
           "lakecolor": "white",
           "landcolor": "#E5ECF6",
           "showlakes": true,
           "showland": true,
           "subunitcolor": "white"
          },
          "hoverlabel": {
           "align": "left"
          },
          "hovermode": "closest",
          "mapbox": {
           "style": "light"
          },
          "paper_bgcolor": "white",
          "plot_bgcolor": "#E5ECF6",
          "polar": {
           "angularaxis": {
            "gridcolor": "white",
            "linecolor": "white",
            "ticks": ""
           },
           "bgcolor": "#E5ECF6",
           "radialaxis": {
            "gridcolor": "white",
            "linecolor": "white",
            "ticks": ""
           }
          },
          "scene": {
           "xaxis": {
            "backgroundcolor": "#E5ECF6",
            "gridcolor": "white",
            "gridwidth": 2,
            "linecolor": "white",
            "showbackground": true,
            "ticks": "",
            "zerolinecolor": "white"
           },
           "yaxis": {
            "backgroundcolor": "#E5ECF6",
            "gridcolor": "white",
            "gridwidth": 2,
            "linecolor": "white",
            "showbackground": true,
            "ticks": "",
            "zerolinecolor": "white"
           },
           "zaxis": {
            "backgroundcolor": "#E5ECF6",
            "gridcolor": "white",
            "gridwidth": 2,
            "linecolor": "white",
            "showbackground": true,
            "ticks": "",
            "zerolinecolor": "white"
           }
          },
          "shapedefaults": {
           "line": {
            "color": "#2a3f5f"
           }
          },
          "ternary": {
           "aaxis": {
            "gridcolor": "white",
            "linecolor": "white",
            "ticks": ""
           },
           "baxis": {
            "gridcolor": "white",
            "linecolor": "white",
            "ticks": ""
           },
           "bgcolor": "#E5ECF6",
           "caxis": {
            "gridcolor": "white",
            "linecolor": "white",
            "ticks": ""
           }
          },
          "title": {
           "x": 0.05
          },
          "xaxis": {
           "automargin": true,
           "gridcolor": "white",
           "linecolor": "white",
           "ticks": "",
           "title": {
            "standoff": 15
           },
           "zerolinecolor": "white",
           "zerolinewidth": 2
          },
          "yaxis": {
           "automargin": true,
           "gridcolor": "white",
           "linecolor": "white",
           "ticks": "",
           "title": {
            "standoff": 15
           },
           "zerolinecolor": "white",
           "zerolinewidth": 2
          }
         }
        },
        "title": {
         "text": "Business Correlation Analysis Dashboard"
        },
        "xaxis": {
         "anchor": "y",
         "domain": [
          0,
          0.45
         ]
        },
        "xaxis2": {
         "anchor": "y2",
         "domain": [
          0.55,
          1
         ]
        },
        "xaxis3": {
         "anchor": "y3",
         "domain": [
          0,
          0.45
         ]
        },
        "xaxis4": {
         "anchor": "y4",
         "domain": [
          0.55,
          1
         ]
        },
        "yaxis": {
         "anchor": "x",
         "domain": [
          0.625,
          1
         ]
        },
        "yaxis2": {
         "anchor": "x2",
         "domain": [
          0.625,
          1
         ]
        },
        "yaxis3": {
         "anchor": "x3",
         "domain": [
          0,
          0.375
         ]
        },
        "yaxis4": {
         "anchor": "x4",
         "domain": [
          0,
          0.375
         ]
        }
       }
      }
     },
     "metadata": {},
     "output_type": "display_data"
    },
    {
     "name": "stdout",
     "output_type": "stream",
     "text": [
      " Business Insights Summary:\n",
      "                               Relationship  Correlation     Strength  \\\n",
      "0            GDP_Growth ↔ Unemployment_Rate       -0.614       Strong   \n",
      "1          GDP_Growth ↔ Consumer_Confidence        0.790       Strong   \n",
      "2      Interest_Rates ↔ Housing_Price_Index        0.181    Very Weak   \n",
      "3      Tech_Investment ↔ Productivity_Index        0.949  Very Strong   \n",
      "4           Inflation_Rate ↔ Interest_Rates        0.772       Strong   \n",
      "5  Consumer_Confidence ↔ Retail_Sales_Index        0.834  Very Strong   \n",
      "6       Stock_Returns ↔ Consumer_Confidence        0.797       Strong   \n",
      "\n",
      "                  Recommended_Action  \n",
      "0  Primary focus for policy/strategy  \n",
      "1  Primary focus for policy/strategy  \n",
      "2          Investigate other factors  \n",
      "3  Primary focus for policy/strategy  \n",
      "4  Primary focus for policy/strategy  \n",
      "5  Primary focus for policy/strategy  \n",
      "6  Primary focus for policy/strategy  \n",
      "\n",
      " Strategic Recommendations:\n",
      "• 6 relationships require primary strategic focus\n",
      "• Strongest relationship: Tech_Investment ↔ Productivity_Index (r=0.949)\n",
      "• 0 relationships are secondary considerations\n",
      "• 1 relationships need further investigation\n",
      "\n",
      " Business Intelligence:\n",
      "• GDP_Growth ↔ Unemployment_Rate: Economic health indicator - inverse relationship expected. Strong predictive relationship.\n",
      "• GDP_Growth ↔ Consumer_Confidence: Economic sentiment alignment - positive relationship. Strong predictive relationship.\n",
      "• Tech_Investment ↔ Productivity_Index: Innovation-productivity nexus. Strong predictive relationship.\n",
      "• Inflation_Rate ↔ Interest_Rates: Central bank policy response mechanism. Strong predictive relationship.\n",
      "• Consumer_Confidence ↔ Retail_Sales_Index: Economic relationship. Strong predictive relationship.\n",
      "• Stock_Returns ↔ Consumer_Confidence: Economic relationship. Strong predictive relationship.\n"
     ]
    }
   ],
   "source": [
    "# 8. BUSINESS INSIGHTS AND INTERPRETATION\n",
    "print(\"\\n 8. BUSINESS INSIGHTS & INTERPRETATION\")\n",
    "print(\"=\" * 50)\n",
    "\n",
    "# Create business-focused correlation insights\n",
    "business_insights = []\n",
    "\n",
    "# Define business-relevant thresholds and interpretations\n",
    "def interpret_correlation(r, var1, var2):\n",
    "    \"\"\"Provide business interpretation of correlation\"\"\"\n",
    "    abs_r = abs(r)\n",
    "\n",
    "    strength = \"Very Strong\" if abs_r >= 0.8 else \"Strong\" if abs_r >= 0.6 else \"Moderate\" if abs_r >= 0.4 else \"Weak\" if abs_r >= 0.2 else \"Very Weak\"\n",
    "    direction = \"Positive\" if r > 0 else \"Negative\"\n",
    "\n",
    "    # Business implications\n",
    "    if abs_r >= 0.6:\n",
    "        reliability = \"High - suitable for strategic decisions\"\n",
    "        action = \"Primary focus for policy/strategy\"\n",
    "    elif abs_r >= 0.4:\n",
    "        reliability = \"Moderate - consider in planning\"\n",
    "        action = \"Secondary consideration\"\n",
    "    else:\n",
    "        reliability = \"Low - monitor but don't rely on\"\n",
    "        action = \"Investigate other factors\"\n",
    "\n",
    "    return {\n",
    "        'strength': strength,\n",
    "        'direction': direction,\n",
    "        'reliability': reliability,\n",
    "        'action': action,\n",
    "        'business_impact': get_business_meaning(var1, var2, r)\n",
    "    }\n",
    "\n",
    "def get_business_meaning(var1, var2, correlation):\n",
    "    \"\"\"Generate business-specific interpretations\"\"\"\n",
    "    relationships = {\n",
    "        ('GDP_Growth', 'Unemployment_Rate'): \"Economic health indicator - inverse relationship expected\",\n",
    "        ('GDP_Growth', 'Consumer_Confidence'): \"Economic sentiment alignment - positive relationship\",\n",
    "        ('Interest_Rates', 'Housing_Price_Index'): \"Monetary policy impact on real estate\",\n",
    "        ('Tech_Investment', 'Productivity_Index'): \"Innovation-productivity nexus\",\n",
    "        ('Inflation_Rate', 'Interest_Rates'): \"Central bank policy response mechanism\"\n",
    "    }\n",
    "\n",
    "    key = (var1, var2) if (var1, var2) in relationships else (var2, var1)\n",
    "    base_meaning = relationships.get(key, \"Economic relationship\")\n",
    "\n",
    "    if abs(correlation) >= 0.6:\n",
    "        strength_comment = \"Strong predictive relationship\"\n",
    "    elif abs(correlation) >= 0.4:\n",
    "        strength_comment = \"Moderate predictive power\"\n",
    "    else:\n",
    "        strength_comment = \"Limited predictive value\"\n",
    "\n",
    "    return f\"{base_meaning}. {strength_comment}.\"\n",
    "\n",
    "# Analyze key business relationships\n",
    "key_business_pairs = [\n",
    " ('GDP_Growth', 'Unemployment_Rate'),\n",
    " ('GDP_Growth', 'Consumer_Confidence'),\n",
    " ('Interest_Rates', 'Housing_Price_Index'),\n",
    " ('Tech_Investment', 'Productivity_Index'),\n",
    " ('Inflation_Rate', 'Interest_Rates'),\n",
    " ('Consumer_Confidence', 'Retail_Sales_Index'),\n",
    " ('Stock_Returns', 'Consumer_Confidence')\n",
    "]\n",
    "\n",
    "for var1, var2 in key_business_pairs:\n",
    " correlation = df[var1].corr(df[var2])\n",
    " interpretation = interpret_correlation(correlation, var1, var2)\n",
    "\n",
    " business_insights.append({\n",
    " 'Relationship': f\"{var1} ↔ {var2}\",\n",
    " 'Correlation': correlation,\n",
    " 'Strength': interpretation['strength'],\n",
    " 'Direction': interpretation['direction'],\n",
    " 'Business_Reliability': interpretation['reliability'],\n",
    " 'Recommended_Action': interpretation['action'],\n",
    " 'Business_Meaning': interpretation['business_impact']\n",
    " })\n",
    "\n",
    "insights_df = pd.DataFrame(business_insights)\n",
    "\n",
    "# Create business dashboard\n",
    "fig = make_subplots(\n",
    " rows=2, cols=2,\n",
    " subplot_titles=(\"Correlation Strength Distribution\", \"Business Action Matrix\",\n",
    " \"Reliability vs Correlation\", \"Key Economic Relationships\"),\n",
    " specs=[[{\"type\": \"histogram\"}, {\"type\": \"scatter\"}],\n",
    " [{\"type\": \"scatter\"}, {\"type\": \"bar\"}]]\n",
    ")\n",
    "\n",
    "# Correlation strength distribution\n",
    "fig.add_trace(\n",
    " go.Histogram(\n",
    " x=abs(insights_df['Correlation']),\n",
    " nbinsx=15,\n",
    " name=\"Correlation Strengths\",\n",
    " marker_color=\"lightblue\",\n",
    " opacity=0.7\n",
    " ),\n",
    " row=1, col=1\n",
    ")\n",
    "\n",
    "# Business action matrix\n",
    "action_colors = {\n",
    " 'Primary focus for policy/strategy': 'red',\n",
    " 'Secondary consideration': 'orange',\n",
    " 'Investigate other factors': 'gray'\n",
    "}\n",
    "\n",
    "fig.add_trace(\n",
    "    go.Scatter(\n",
    "        x=insights_df['Correlation'],\n",
    "        y=list(range(len(insights_df))),\n",
    "        mode='markers+text',\n",
    "        marker=dict(\n",
    "            size=abs(insights_df['Correlation']) * 30,\n",
    "            color=[action_colors[action] for action in insights_df['Recommended_Action']],\n",
    "            opacity=0.8\n",
    "        ),\n",
    "        text=insights_df['Relationship'],\n",
    "        textposition=\"middle right\",\n",
    "        name=\"Action Priority\",\n",
    "        hovertemplate=\"<b>%{text}</b><br>Correlation: %{x:.3f}<br>Action: %{customdata}<extra></extra>\",\n",
    "        customdata=insights_df['Recommended_Action']\n",
    "    ),\n",
    "    row=1, col=2\n",
    ")\n",
    "\n",
    "# Reliability analysis (correlation vs strength)\n",
    "strength_numeric = {\n",
    " 'Very Strong': 5, 'Strong': 4, 'Moderate': 3, 'Weak': 2, 'Very Weak': 1\n",
    "}\n",
    "\n",
    "fig.add_trace(\n",
    " go.Scatter(\n",
    " x=abs(insights_df['Correlation']),\n",
    " y=[strength_numeric[s] for s in insights_df['Strength']],\n",
    " mode='markers',\n",
    " marker=dict(size=10, opacity=0.7, color='purple'),\n",
    " text=insights_df['Relationship'],\n",
    " name=\"Strength Assessment\",\n",
    " hovertemplate=\"<b>%{text}</b><br>|Correlation|: %{x:.3f}<br>Strength: %{customdata}<extra></extra>\",\n",
    " customdata=insights_df['Strength']\n",
    " ),\n",
    " row=2, col=1\n",
    ")\n",
    "\n",
    "# Key relationships bar chart\n",
    "top_relationships = insights_df.nlargest(7, 'Correlation', keep='all')\n",
    "fig.add_trace(\n",
    "    go.Bar(\n",
    "        x=top_relationships['Correlation'],\n",
    "        y=list(range(len(top_relationships))),\n",
    "        orientation='h',\n",
    "        marker_color='steelblue',\n",
    "        text=top_relationships['Relationship'],\n",
    "        textposition='auto',\n",
    "        name=\"Top Correlations\"\n",
    "    ),\n",
    "    row=2, col=2\n",
    ")\n",
    "\n",
    "fig.update_layout(\n",
    " title=\"Business Correlation Analysis Dashboard\",\n",
    " height=700,\n",
    " showlegend=True\n",
    ")\n",
    "\n",
    "fig.show()\n",
    "\n",
    "print(\" Business Insights Summary:\")\n",
    "print(insights_df[['Relationship', 'Correlation', 'Strength', 'Recommended_Action']].round(3))\n",
    "\n",
    "print(f\"\\n Strategic Recommendations:\")\n",
    "high_priority = insights_df[insights_df['Recommended_Action'] == 'Primary focus for policy/strategy']\n",
    "print(f\"• {len(high_priority)} relationships require primary strategic focus\")\n",
    "print(f\"• Strongest relationship: {insights_df.loc[insights_df['Correlation'].abs().idxmax(), 'Relationship']} (r={insights_df['Correlation'].abs().max():.3f})\")\n",
    "\n",
    "moderate_priority = insights_df[insights_df['Recommended_Action'] == 'Secondary consideration']\n",
    "print(f\"• {len(moderate_priority)} relationships are secondary considerations\")\n",
    "\n",
    "low_priority = insights_df[insights_df['Recommended_Action'] == 'Investigate other factors']\n",
    "print(f\"• {len(low_priority)} relationships need further investigation\")\n",
    "\n",
    "print(f\"\\n Business Intelligence:\")\n",
    "for _, row in high_priority.iterrows():\n",
    " print(f\"• {row['Relationship']}: {row['Business_Meaning']}\")"
   ]
  },
  {
   "cell_type": "markdown",
   "id": "2e2a2797",
   "metadata": {},
   "source": [
    "# LEARNING SUMMARY: Correlation Analysis\n",
    "\n",
    "## Key Concepts Mastered\n",
    "\n",
    "### 1. **Correlation Methods**\n",
    "- **Pearson Correlation**: Measures linear relationships, assumes normal distribution\n",
    "- **Spearman Correlation**: Rank-based, captures monotonic relationships, non-parametric\n",
    "- **Kendall's Tau**: Also rank-based, more robust to outliers than Spearman\n",
    "\n",
    "### 2. **Statistical Significance**\n",
    "- P-values indicate whether correlations are statistically significant\n",
    "- Confidence intervals provide range of plausible correlation values\n",
    "- Sample size affects both significance and precision\n",
    "\n",
    "### 3. **Advanced Techniques**\n",
    "- **Partial Correlation**: Controls for confounding variables\n",
    "- **Spurious Correlation**: Relationships that appear meaningful but aren't causal\n",
    "- **Detrending**: Removes artificial correlations due to common trends\n",
    "\n",
    "## Business Applications\n",
    "\n",
    "### Strategic Decision Making\n",
    "- **Strong correlations (|r| > 0.6)**: Primary focus for strategic planning\n",
    "- **Moderate correlations (0.3 < |r| < 0.6)**: Secondary considerations\n",
    "- **Weak correlations (|r| < 0.3)**: Monitor but investigate other factors\n",
    "\n",
    "### Risk Management\n",
    "- Understanding correlation helps in:\n",
    " - Portfolio diversification\n",
    " - Risk factor identification\n",
    " - Scenario planning\n",
    " - Economic forecasting\n",
    "\n",
    "## Next Steps\n",
    "\n",
    "1. **Tier 2: Predictive Models** - Use correlation insights for feature selection\n",
    "2. **Causality Analysis** - Move beyond correlation to understand causation\n",
    "3. **Multivariate Analysis** - Explore relationships among multiple variables simultaneously\n",
    "4. **Time Series Analysis** - Understand how correlations change over time\n",
    "\n",
    "## Pro Tips\n",
    "\n",
    "- Always check for outliers that might inflate correlations\n",
    "- Consider non-linear relationships that correlation might miss\n",
    "- Use domain knowledge to interpret correlation strength\n",
    "- Be cautious of spurious correlations in time series data\n",
    "- Combine multiple correlation methods for robust analysis\n",
    "\n",
    "**Remember**: *Correlation does not imply causation, but it's the first step in understanding relationships in your data!*"
   ]
  }
 ],
 "metadata": {
  "kernelspec": {
   "display_name": ".venv",
   "language": "python",
   "name": "python3"
  },
  "language_info": {
   "codemirror_mode": {
    "name": "ipython",
    "version": 3
   },
   "file_extension": ".py",
   "mimetype": "text/x-python",
   "name": "python",
   "nbconvert_exporter": "python",
   "pygments_lexer": "ipython3",
   "version": "3.13.7"
  }
 },
 "nbformat": 4,
 "nbformat_minor": 5
}
