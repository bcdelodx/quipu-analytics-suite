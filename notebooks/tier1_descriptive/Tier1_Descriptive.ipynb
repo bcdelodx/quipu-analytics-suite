{
 "cells": [
  {
   "cell_type": "markdown",
   "id": "d54c55df",
   "metadata": {},
   "source": [
    "# Tier 1: Descriptive Statistics\n",
    "\n",
    "---\n",
    "\n",
    "**Author:** Brandon Deloatch\n",
    "**Affiliation:** Quipu Research Labs, LLC\n",
    "**Date:** 2025-10-02\n",
    "**Version:** v1.3\n",
    "**License:** MIT\n",
    "\n",
    "---\n",
    "\n",
    "> **Citation:**\n",
    "> Brandon Deloatch, \"Tier 1: Descriptive Statistics,\" Quipu Research Labs, LLC, v1.3, 2025-10-02.\n",
    "\n",
    "---\n",
    "\n",
    "*This notebook is provided \"as-is\" for educational and research purposes. Users assume full responsibility for any results or applications derived from it.*\n",
    "\n",
    "---\n",
    "\n",
    "## Comprehensive Descriptive Statistics and Exploratory Analytics\n",
    "\n",
    "**Learning Objectives:**\n",
    "- Master fundamental descriptive statistics calculations\n",
    "- Understand measures of central tendency and variability\n",
    "- Learn distribution characteristics and data summarization\n",
    "- Apply statistical measures to real-world datasets\n",
    "\n",
    "**Cross-References:**\n",
    "- **Foundation For:** `Tier1_Distribution.ipynb` (distribution analysis)\n",
    "- **Complements:** `Tier1_Correlation.ipynb` (relationship analysis)\n",
    "- **Advanced:** `Tier3_Statistics.ipynb` (advanced statistical methods)\n",
    "\n",
    "**Key Applications:**\n",
    "- Data quality assessment and validation\n",
    "- Business intelligence and reporting\n",
    "- Research data summarization\n",
    "- Exploratory data analysis foundations"
   ]
  },
  {
   "cell_type": "markdown",
   "id": "b8f5e4bf",
   "metadata": {},
   "source": [
    "# Tier 1: Descriptive Statistics\n",
    "\n",
    "---\n",
    "\n",
    "**Author:** Brandon Deloatch\n",
    "**Affiliation:** Quipu Research Labs, LLC\n",
    "**Date:** 2025-10-02\n",
    "**Version:** v1.3\n",
    "**License:** MIT\n",
    "\n",
    "---\n",
    "\n",
    "> **Citation:**\n",
    "> Brandon Deloatch, \"Tier 1: Descriptive Statistics,\" Quipu Research Labs, LLC, v1.3, 2025-10-02.\n",
    "\n",
    "---\n",
    "\n",
    "*This notebook is provided \"as-is\" for educational and research purposes. Users assume full responsibility for any results or applications derived from it.*\n",
    "\n",
    "---\n",
    "\n",
    "## Comprehensive Descriptive Statistics and Exploratory Analytics\n",
    "\n",
    "**Learning Objectives:**\n",
    "- Master fundamental descriptive statistics calculations\n",
    "- Understand measures of central tendency and variability\n",
    "- Learn distribution characteristics and data summarization\n",
    "- Apply statistical measures to real-world datasets\n",
    "\n",
    "**Cross-References:**\n",
    "- **Foundation For:** `Tier1_Distribution.ipynb` (distribution analysis)\n",
    "- **Complements:** `Tier1_Correlation.ipynb` (relationship analysis)\n",
    "- **Advanced:** `Tier3_Statistics.ipynb` (advanced statistical methods)\n",
    "\n",
    "**Key Applications:**\n",
    "- Data quality assessment and validation\n",
    "- Business intelligence and reporting\n",
    "- Research data summarization\n",
    "- Exploratory data analysis foundations"
   ]
  },
  {
   "cell_type": "code",
   "execution_count": 4,
   "id": "d311bdc2",
   "metadata": {},
   "outputs": [
    {
     "name": "stdout",
     "output_type": "stream",
     "text": [
      "Tier 1: Descriptive & Exploratory Analytics\n",
      "==================================================\n",
      "CROSS-REFERENCES:\n",
      "• Prerequisites: None (Entry point to analytics suite)\n",
      "• Next Steps: Tier1_Pivot.ipynb (data aggregation)\n",
      "• Next Steps: Tier1_Scatter.ipynb (relationship analysis)\n",
      "• Feeds Into: ALL subsequent notebooks (foundational concepts)\n",
      "• Compare With: Advanced statistical analysis in Tier3_Statistics.ipynb\n",
      "• Full Guide: See CROSS_REFERENCE_GUIDE.md for complete learning paths\n",
      "==================================================\n",
      "Purpose: Understand data structure, distributions, and relationships\n",
      "Techniques: Summary stats, distributions, correlations, pivot analysis\n",
      "Output: Comprehensive data profiling with professional visualizations\n",
      "\n",
      "Generating synthetic business dataset...\n",
      "Generated dataset with 1000 records and 11 variables\n",
      "\n",
      "Dataset Overview:\n",
      "--------------------\n",
      "Shape: (1000, 11)\n",
      "Memory usage: 72.7 KB\n",
      "\n",
      "Data Types:\n",
      "sales_amount              float64\n",
      "marketing_spend           float64\n",
      "customer_satisfaction     float64\n",
      "product_price             float64\n",
      "region                     object\n",
      "product_category           object\n",
      "quarter                    object\n",
      "employee_count              int64\n",
      "years_in_business         float64\n",
      "business_size            category\n",
      "performance_tier         category\n",
      "dtype: object\n",
      "\n",
      "First 5 rows:\n",
      "   sales_amount  marketing_spend  customer_satisfaction  product_price region  \\\n",
      "0  57450.712295      3572.213333               6.832393      88.372637  South   \n",
      "1  47926.035482      2858.618616               6.780687      89.322185  North   \n",
      "2  59715.328072      3015.581589               6.851830     105.579273   West   \n",
      "3  72845.447846      3318.804003               7.895903     141.722324  South   \n",
      "4  46487.699379      2673.496626               5.309493     102.053231   East   \n",
      "\n",
      "  product_category quarter  employee_count  years_in_business business_size  \\\n",
      "0      Electronics      Q4              15           4.135811        Medium   \n",
      "1         Clothing      Q2              21           0.525308        Medium   \n",
      "2      Electronics      Q3              26          12.752389         Large   \n",
      "3      Electronics      Q1              22           0.758596        Medium   \n",
      "4      Electronics      Q2              20           1.273796        Medium   \n",
      "\n",
      "  performance_tier  \n",
      "0           Medium  \n",
      "1           Medium  \n",
      "2           Medium  \n",
      "3           Medium  \n",
      "4           Medium  \n"
     ]
    }
   ],
   "source": [
    "# Tier 1: Descriptive & Exploratory Analytics\n",
    "# ============================================\n",
    "# Professional implementation with comprehensive visualizations and synthetic data\n",
    "\n",
    "import pandas as pd\n",
    "import numpy as np\n",
    "import matplotlib.pyplot as plt\n",
    "import seaborn as sns\n",
    "import plotly.express as px\n",
    "import plotly.graph_objects as go\n",
    "from plotly.subplots import make_subplots\n",
    "import warnings\n",
    "warnings.filterwarnings('ignore')\n",
    "\n",
    "# Set style for better visualizations\n",
    "plt.style.use('seaborn-v0_8')\n",
    "sns.set_palette(\"husl\")\n",
    "\n",
    "print(\"Tier 1: Descriptive & Exploratory Analytics\")\n",
    "print(\"=\" * 50)\n",
    "print(\"CROSS-REFERENCES:\")\n",
    "print(\"• Prerequisites: None (Entry point to analytics suite)\")\n",
    "print(\"• Next Steps: Tier1_Pivot.ipynb (data aggregation)\")\n",
    "print(\"• Next Steps: Tier1_Scatter.ipynb (relationship analysis)\")\n",
    "print(\"• Feeds Into: ALL subsequent notebooks (foundational concepts)\")\n",
    "print(\"• Compare With: Advanced statistical analysis in Tier3_Statistics.ipynb\")\n",
    "print(\"• Full Guide: See CROSS_REFERENCE_GUIDE.md for complete learning paths\")\n",
    "print(\"=\" * 50)\n",
    "print(\"Purpose: Understand data structure, distributions, and relationships\")\n",
    "print(\"Techniques: Summary stats, distributions, correlations, pivot analysis\")\n",
    "print(\"Output: Comprehensive data profiling with professional visualizations\")\n",
    "print()\n",
    "\n",
    "def generate_synthetic_dataset(n_samples=1000, seed=42):\n",
    " \"\"\"Generate realistic synthetic business dataset for analysis.\"\"\"\n",
    " np.random.seed(seed)\n",
    "\n",
    " # Generate correlated business metrics\n",
    " base_sales = np.random.normal(50000, 15000, n_samples)\n",
    " base_sales = np.maximum(base_sales, 10000) # Minimum sales\n",
    "\n",
    " # Create related variables with realistic relationships\n",
    " data = {\n",
    " 'sales_amount': base_sales,\n",
    " 'marketing_spend': base_sales * 0.05 + np.random.normal(0, 500, n_samples),\n",
    " 'customer_satisfaction': 7 + (base_sales - 50000) / 20000 + np.random.normal(0, 0.8, n_samples),\n",
    " 'product_price': 100 + (base_sales - 50000) / 1000 + np.random.normal(0, 10, n_samples),\n",
    " 'region': np.random.choice(['North', 'South', 'East', 'West'], n_samples, p=[0.3, 0.25, 0.25, 0.2]),\n",
    " 'product_category': np.random.choice(['Electronics', 'Clothing', 'Home', 'Books'], n_samples, p=[0.4, 0.3, 0.2, 0.1]),\n",
    " 'quarter': np.random.choice(['Q1', 'Q2', 'Q3', 'Q4'], n_samples),\n",
    " 'employee_count': np.random.poisson(15, n_samples) + 5,\n",
    " 'years_in_business': np.random.exponential(5, n_samples),\n",
    " }\n",
    "\n",
    " # Ensure realistic ranges\n",
    " data['customer_satisfaction'] = np.clip(data['customer_satisfaction'], 1, 10)\n",
    " data['marketing_spend'] = np.maximum(data['marketing_spend'], 500)\n",
    " data['product_price'] = np.maximum(data['product_price'], 20)\n",
    " data['years_in_business'] = np.clip(data['years_in_business'], 0.5, 20)\n",
    "\n",
    " # Add some categorical derived variables\n",
    " data['business_size'] = pd.cut(data['employee_count'],\n",
    " bins=[0, 10, 25, 50, np.inf],\n",
    " labels=['Small', 'Medium', 'Large', 'Enterprise'])\n",
    "\n",
    " data['performance_tier'] = pd.cut(data['sales_amount'],\n",
    " bins=3,\n",
    " labels=['Low', 'Medium', 'High'])\n",
    "\n",
    " return pd.DataFrame(data)\n",
    "\n",
    "# Generate and load data\n",
    "print(\"Generating synthetic business dataset...\")\n",
    "df = generate_synthetic_dataset(1000)\n",
    "print(f\"Generated dataset with {len(df)} records and {len(df.columns)} variables\")\n",
    "print()\n",
    "\n",
    "# Display basic information\n",
    "print(\"Dataset Overview:\")\n",
    "print(\"-\" * 20)\n",
    "print(f\"Shape: {df.shape}\")\n",
    "print(f\"Memory usage: {df.memory_usage().sum() / 1024:.1f} KB\")\n",
    "print()\n",
    "print(\"Data Types:\")\n",
    "print(df.dtypes)\n",
    "print()\n",
    "print(\"First 5 rows:\")\n",
    "print(df.head())"
   ]
  },
  {
   "cell_type": "code",
   "execution_count": 5,
   "id": "44c18518",
   "metadata": {},
   "outputs": [
    {
     "name": "stdout",
     "output_type": "stream",
     "text": [
      "COMPREHENSIVE SUMMARY STATISTICS\n",
      "========================================\n",
      "\n",
      "1.1 Numerical Variables Summary:\n",
      "-----------------------------------\n",
      "       sales_amount  marketing_spend  customer_satisfaction  product_price  \\\n",
      "count       1000.00          1000.00                1000.00        1000.00   \n",
      "mean       50299.05          2551.75                   7.02         100.11   \n",
      "std        14660.76           866.45                   1.09          17.78   \n",
      "min        10000.00           500.00                   4.09          50.95   \n",
      "25%        40286.15          2001.05                   6.25          87.21   \n",
      "50%        50379.51          2531.53                   7.00          99.51   \n",
      "75%        59719.16          3095.02                   7.76         112.18   \n",
      "max       107790.97          6264.34                  10.00         162.30   \n",
      "\n",
      "       employee_count  years_in_business  \n",
      "count         1000.00            1000.00  \n",
      "mean            19.97               4.97  \n",
      "std              3.79               4.48  \n",
      "min              9.00               0.50  \n",
      "25%             17.00               1.47  \n",
      "50%             20.00               3.56  \n",
      "75%             22.00               7.04  \n",
      "max             32.00              20.00  \n",
      "\n",
      "1.2 Additional Statistical Measures:\n",
      "--------------------------------------\n",
      "                       Skewness  Kurtosis      Variance    Std_Dev      Range  \\\n",
      "sales_amount              0.133     0.025  2.149379e+08  14660.762  97790.972   \n",
      "marketing_spend           0.139     0.162  7.507275e+05    866.445   5764.337   \n",
      "customer_satisfaction     0.063    -0.239  1.179000e+00      1.086      5.912   \n",
      "product_price             0.150    -0.229  3.162680e+02     17.784    111.349   \n",
      "employee_count            0.224    -0.052  1.436600e+01      3.790     23.000   \n",
      "years_in_business         1.361     1.461  2.008700e+01      4.482     19.500   \n",
      "\n",
      "                             IQR  Missing_Count  Missing_Pct  \n",
      "sales_amount           19433.013              0          0.0  \n",
      "marketing_spend         1093.966              0          0.0  \n",
      "customer_satisfaction      1.512              0          0.0  \n",
      "product_price             24.972              0          0.0  \n",
      "employee_count             5.000              0          0.0  \n",
      "years_in_business          5.573              0          0.0  \n",
      "\n",
      "1.3 Categorical Variables Summary:\n",
      "-------------------------------------\n",
      "\n",
      "REGION:\n",
      "        Count  Percentage\n",
      "region                   \n",
      "North     304        30.4\n",
      "South     252        25.2\n",
      "East      239        23.9\n",
      "West      205        20.5\n",
      "\n",
      "PRODUCT_CATEGORY:\n",
      "                  Count  Percentage\n",
      "product_category                   \n",
      "Electronics         414        41.4\n",
      "Clothing            291        29.1\n",
      "Home                188        18.8\n",
      "Books               107        10.7\n",
      "\n",
      "QUARTER:\n",
      "         Count  Percentage\n",
      "quarter                   \n",
      "Q1         276        27.6\n",
      "Q3         243        24.3\n",
      "Q4         241        24.1\n",
      "Q2         240        24.0\n",
      "\n",
      "BUSINESS_SIZE:\n",
      "               Count  Percentage\n",
      "business_size                   \n",
      "Medium           911        91.1\n",
      "Large             84         8.4\n",
      "Small              5         0.5\n",
      "Enterprise         0         0.0\n",
      "\n",
      "PERFORMANCE_TIER:\n",
      "                  Count  Percentage\n",
      "performance_tier                   \n",
      "Medium              637        63.7\n",
      "Low                 313        31.3\n",
      "High                 50         5.0\n",
      "\n",
      " Summary statistics complete!\n"
     ]
    }
   ],
   "source": [
    "# 1. COMPREHENSIVE SUMMARY STATISTICS\n",
    "# ====================================\n",
    "\n",
    "print(\"COMPREHENSIVE SUMMARY STATISTICS\")\n",
    "print(\"=\" * 40)\n",
    "\n",
    "# Basic descriptive statistics\n",
    "print(\"\\n1.1 Numerical Variables Summary:\")\n",
    "print(\"-\" * 35)\n",
    "numeric_cols = df.select_dtypes(include=[np.number]).columns\n",
    "summary_stats = df[numeric_cols].describe()\n",
    "print(summary_stats.round(2))\n",
    "\n",
    "# Additional statistics\n",
    "print(\"\\n1.2 Additional Statistical Measures:\")\n",
    "print(\"-\" * 38)\n",
    "additional_stats = pd.DataFrame({\n",
    " 'Skewness': df[numeric_cols].skew(),\n",
    " 'Kurtosis': df[numeric_cols].kurtosis(),\n",
    " 'Variance': df[numeric_cols].var(),\n",
    " 'Std_Dev': df[numeric_cols].std(),\n",
    " 'Range': df[numeric_cols].max() - df[numeric_cols].min(),\n",
    " 'IQR': df[numeric_cols].quantile(0.75) - df[numeric_cols].quantile(0.25),\n",
    " 'Missing_Count': df[numeric_cols].isnull().sum(),\n",
    " 'Missing_Pct': (df[numeric_cols].isnull().sum() / len(df) * 100).round(2)\n",
    "})\n",
    "print(additional_stats.round(3))\n",
    "\n",
    "# Categorical variables summary\n",
    "print(\"\\n1.3 Categorical Variables Summary:\")\n",
    "print(\"-\" * 37)\n",
    "categorical_cols = df.select_dtypes(include=['object', 'category']).columns\n",
    "for col in categorical_cols:\n",
    "    print(f\"\\n{col.upper()}:\")\n",
    "    value_counts = df[col].value_counts()\n",
    "    percentages = (df[col].value_counts(normalize=True) * 100).round(2)\n",
    "    summary_cat = pd.DataFrame({\n",
    "        'Count': value_counts,\n",
    "        'Percentage': percentages\n",
    "    })\n",
    "    print(summary_cat)\n",
    "\n",
    "print(\"\\n Summary statistics complete!\")"
   ]
  },
  {
   "cell_type": "code",
   "execution_count": 8,
   "id": "a3d6a0ca",
   "metadata": {},
   "outputs": [
    {
     "name": "stdout",
     "output_type": "stream",
     "text": [
      "DISTRIBUTION ANALYSIS\n",
      "=========================\n"
     ]
    },
    {
     "data": {
      "application/vnd.plotly.v1+json": {
       "config": {
        "plotlyServerURL": "https://plot.ly"
       },
       "data": [
        {
         "marker": {
          "color": "lightblue"
         },
         "name": "sales_amount Histogram",
         "nbinsx": 30,
         "opacity": 0.7,
         "type": "histogram",
         "x": {
          "bdata": "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",
          "dtype": "f8"
         },
         "xaxis": "x",
         "yaxis": "y"
        },
        {
         "marker": {
          "color": "lightblue"
         },
         "name": "customer_satisfaction Histogram",
         "nbinsx": 30,
         "opacity": 0.7,
         "type": "histogram",
         "x": {
          "bdata": "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",
          "dtype": "f8"
         },
         "xaxis": "x2",
         "yaxis": "y3"
        },
        {
         "marker": {
          "color": "lightblue"
         },
         "name": "marketing_spend Histogram",
         "nbinsx": 30,
         "opacity": 0.7,
         "type": "histogram",
         "x": {
          "bdata": "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",
          "dtype": "f8"
         },
         "xaxis": "x3",
         "yaxis": "y5"
        },
        {
         "marker": {
          "color": "lightblue"
         },
         "name": "product_price Histogram",
         "nbinsx": 30,
         "opacity": 0.7,
         "type": "histogram",
         "x": {
          "bdata": "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",
          "dtype": "f8"
         },
         "xaxis": "x4",
         "yaxis": "y7"
        },
        {
         "marker": {
          "color": "lightblue"
         },
         "name": "employee_count Histogram",
         "nbinsx": 30,
         "opacity": 0.7,
         "type": "histogram",
         "x": {
          "bdata": "DxUaFhQTFBAQFhIQEhIaERIZDxQaFBYSDBMTDxQSDRcXFBcSFhkXGRQNHBUOFxIRGxMSFgsVFBEaDhsUDhoWFRcUEBIPDxERGhUTFhEOFBESEhoTGRwSFRMXGxEKDhEQDhEaEhMTHBUQDxUTFQ0YGA8SGBQTDwwQEhgUFhYMEBIPGBQWERURDxMZFBYOFhAcFxURFBISGhMVGx0VGhYPGQ8VERMUFxAWExgWEQ4QGhcVFxYYFhYUExQYERgUEhEYERMWGQ8YEhQVHB8UExMXGBUSEhAWGRQNExMYEBQTFxARERkXFhMUDxYdEhIUGBcTHhMSDBMUFhEKERQZEhIWFRAbFg8SEBMVERkSEhUQGA4WFRYSEBoTFQ0XGBYVEg0UFBMZFRMNDRUYFgoQExQTGQ8QDxkXGBgcExgQGBQYGRARDBgRFBMVDxMVEBUUERUVFRUTFBIPFxcVEQ8SEB4TFhEWEBUWFhwWHRETERATGQ4RGBATDxoQFxITEw8UExYaFRQUFRgTGBMaFhMNEBQTExEZFhIRGRQZFBkTFxQUExkTFhMdFBERFhEYFRgRFBMXEBESFBMVFhEcFAwPFBASEhATERQeFBIRFw0YFhQZEhAZExIQERMOFRMUDw8VEREQFBgTERUcIBcSFRQOGg8TDw8XFhMKEBkWFRUPGRYTEhccFBsVERsTGxQQFRQZExYaFhsOEhUYFxIREhIXFRYZDRQTFBUPFRMQFQ4TExIRERIVERMVFRUOERMSFhcWGBESERoXFRIUEQ0RERQUFRISExcPExMdGBkQFxQRGRMSFxISEhATFBQRGxUSDxAcFBIaExMRFBcWFBMeFxITFA8QGxYaFxkREQkRERUTDhYXGhsYFhwVGxQYDBQZDhQTExQbFxQSFhQUEBEXERcTFhgRDxIWFxETFxUTFBQcHBEZFxEPERYVGBYVFxIWExMSFg4ZGBQTERQYFw0WGRUUGhMREhQWFRAREA8XFBUUGxUcERMYFhEXEBEUEhMPGRMWFhcUFBkRDhUaDhQSFhQdFBIOERQNFRQUEhwNGhITFhASEg8XDhYYFhMVFBMMEwsRDxASFBcRFBEQFhgQFhoXExMTFQsPDhEbExQSEhcVEREUHBYVERILFhMTExwUFBIVERMfExMRFBcSEhARFBAQFxgQDxQXFhIRGBIUEBAbGRYXEBgTEhQOFBEUGxMYDxUXER0VEhYWFBQXEw8aEQ4ZFQwZDRIZGxYTGhERFQwXExAXGBcXGA8bGRASDhMPFRQYERIUGRwREhQUExAXFhUUFBcXHRMUEhIZEhMUDxMSEBQXGRsUDhAaFxYWGg==",
          "dtype": "i1"
         },
         "xaxis": "x5",
         "yaxis": "y9"
        },
        {
         "marker": {
          "color": "lightblue"
         },
         "name": "years_in_business Histogram",
         "nbinsx": 30,
         "opacity": 0.7,
         "type": "histogram",
         "x": {
          "bdata": "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",
          "dtype": "f8"
         },
         "xaxis": "x6",
         "yaxis": "y11"
        }
       ],
       "layout": {
        "annotations": [
         {
          "font": {
           "size": 16
          },
          "showarrow": false,
          "text": "Sales Amount Distribution",
          "x": 0.185,
          "xanchor": "center",
          "xref": "paper",
          "y": 1,
          "yanchor": "bottom",
          "yref": "paper"
         },
         {
          "font": {
           "size": 16
          },
          "showarrow": false,
          "text": "Customer Satisfaction Distribution",
          "x": 0.7550000000000001,
          "xanchor": "center",
          "xref": "paper",
          "y": 1,
          "yanchor": "bottom",
          "yref": "paper"
         },
         {
          "font": {
           "size": 16
          },
          "showarrow": false,
          "text": "Marketing Spend Distribution",
          "x": 0.185,
          "xanchor": "center",
          "xref": "paper",
          "y": 0.6111111111111112,
          "yanchor": "bottom",
          "yref": "paper"
         },
         {
          "font": {
           "size": 16
          },
          "showarrow": false,
          "text": "Product Price Distribution",
          "x": 0.7550000000000001,
          "xanchor": "center",
          "xref": "paper",
          "y": 0.6111111111111112,
          "yanchor": "bottom",
          "yref": "paper"
         },
         {
          "font": {
           "size": 16
          },
          "showarrow": false,
          "text": "Employee Count Distribution",
          "x": 0.185,
          "xanchor": "center",
          "xref": "paper",
          "y": 0.22222222222222224,
          "yanchor": "bottom",
          "yref": "paper"
         },
         {
          "font": {
           "size": 16
          },
          "showarrow": false,
          "text": "Years in Business Distribution",
          "x": 0.7550000000000001,
          "xanchor": "center",
          "xref": "paper",
          "y": 0.22222222222222224,
          "yanchor": "bottom",
          "yref": "paper"
         },
         {
          "showarrow": false,
          "text": "Mean: 50299.1",
          "x": 50299.05314708005,
          "xanchor": "left",
          "xref": "x",
          "y": 1,
          "yanchor": "top",
          "yref": "y domain"
         },
         {
          "showarrow": false,
          "text": "Mean: 7.0",
          "x": 7.01899250641798,
          "xanchor": "left",
          "xref": "x2",
          "y": 1,
          "yanchor": "top",
          "yref": "y3 domain"
         },
         {
          "showarrow": false,
          "text": "Mean: 2551.8",
          "x": 2551.7513518744095,
          "xanchor": "left",
          "xref": "x3",
          "y": 1,
          "yanchor": "top",
          "yref": "y5 domain"
         },
         {
          "showarrow": false,
          "text": "Mean: 100.1",
          "x": 100.11186096921232,
          "xanchor": "left",
          "xref": "x4",
          "y": 1,
          "yanchor": "top",
          "yref": "y7 domain"
         },
         {
          "showarrow": false,
          "text": "Mean: 20.0",
          "x": 19.967,
          "xanchor": "left",
          "xref": "x5",
          "y": 1,
          "yanchor": "top",
          "yref": "y9 domain"
         },
         {
          "showarrow": false,
          "text": "Mean: 5.0",
          "x": 4.969736835558499,
          "xanchor": "left",
          "xref": "x6",
          "y": 1,
          "yanchor": "top",
          "yref": "y11 domain"
         }
        ],
        "height": 900,
        "shapes": [
         {
          "line": {
           "color": "red",
           "dash": "dash"
          },
          "type": "line",
          "x0": 50299.05314708005,
          "x1": 50299.05314708005,
          "xref": "x",
          "y0": 0,
          "y1": 1,
          "yref": "y domain"
         },
         {
          "line": {
           "color": "red",
           "dash": "dash"
          },
          "type": "line",
          "x0": 7.01899250641798,
          "x1": 7.01899250641798,
          "xref": "x2",
          "y0": 0,
          "y1": 1,
          "yref": "y3 domain"
         },
         {
          "line": {
           "color": "red",
           "dash": "dash"
          },
          "type": "line",
          "x0": 2551.7513518744095,
          "x1": 2551.7513518744095,
          "xref": "x3",
          "y0": 0,
          "y1": 1,
          "yref": "y5 domain"
         },
         {
          "line": {
           "color": "red",
           "dash": "dash"
          },
          "type": "line",
          "x0": 100.11186096921232,
          "x1": 100.11186096921232,
          "xref": "x4",
          "y0": 0,
          "y1": 1,
          "yref": "y7 domain"
         },
         {
          "line": {
           "color": "red",
           "dash": "dash"
          },
          "type": "line",
          "x0": 19.967,
          "x1": 19.967,
          "xref": "x5",
          "y0": 0,
          "y1": 1,
          "yref": "y9 domain"
         },
         {
          "line": {
           "color": "red",
           "dash": "dash"
          },
          "type": "line",
          "x0": 4.969736835558499,
          "x1": 4.969736835558499,
          "xref": "x6",
          "y0": 0,
          "y1": 1,
          "yref": "y11 domain"
         }
        ],
        "showlegend": false,
        "template": {
         "data": {
          "bar": [
           {
            "error_x": {
             "color": "#2a3f5f"
            },
            "error_y": {
             "color": "#2a3f5f"
            },
            "marker": {
             "line": {
              "color": "#E5ECF6",
              "width": 0.5
             },
             "pattern": {
              "fillmode": "overlay",
              "size": 10,
              "solidity": 0.2
             }
            },
            "type": "bar"
           }
          ],
          "barpolar": [
           {
            "marker": {
             "line": {
              "color": "#E5ECF6",
              "width": 0.5
             },
             "pattern": {
              "fillmode": "overlay",
              "size": 10,
              "solidity": 0.2
             }
            },
            "type": "barpolar"
           }
          ],
          "carpet": [
           {
            "aaxis": {
             "endlinecolor": "#2a3f5f",
             "gridcolor": "white",
             "linecolor": "white",
             "minorgridcolor": "white",
             "startlinecolor": "#2a3f5f"
            },
            "baxis": {
             "endlinecolor": "#2a3f5f",
             "gridcolor": "white",
             "linecolor": "white",
             "minorgridcolor": "white",
             "startlinecolor": "#2a3f5f"
            },
            "type": "carpet"
           }
          ],
          "choropleth": [
           {
            "colorbar": {
             "outlinewidth": 0,
             "ticks": ""
            },
            "type": "choropleth"
           }
          ],
          "contour": [
           {
            "colorbar": {
             "outlinewidth": 0,
             "ticks": ""
            },
            "colorscale": [
             [
              0,
              "#0d0887"
             ],
             [
              0.1111111111111111,
              "#46039f"
             ],
             [
              0.2222222222222222,
              "#7201a8"
             ],
             [
              0.3333333333333333,
              "#9c179e"
             ],
             [
              0.4444444444444444,
              "#bd3786"
             ],
             [
              0.5555555555555556,
              "#d8576b"
             ],
             [
              0.6666666666666666,
              "#ed7953"
             ],
             [
              0.7777777777777778,
              "#fb9f3a"
             ],
             [
              0.8888888888888888,
              "#fdca26"
             ],
             [
              1,
              "#f0f921"
             ]
            ],
            "type": "contour"
           }
          ],
          "contourcarpet": [
           {
            "colorbar": {
             "outlinewidth": 0,
             "ticks": ""
            },
            "type": "contourcarpet"
           }
          ],
          "heatmap": [
           {
            "colorbar": {
             "outlinewidth": 0,
             "ticks": ""
            },
            "colorscale": [
             [
              0,
              "#0d0887"
             ],
             [
              0.1111111111111111,
              "#46039f"
             ],
             [
              0.2222222222222222,
              "#7201a8"
             ],
             [
              0.3333333333333333,
              "#9c179e"
             ],
             [
              0.4444444444444444,
              "#bd3786"
             ],
             [
              0.5555555555555556,
              "#d8576b"
             ],
             [
              0.6666666666666666,
              "#ed7953"
             ],
             [
              0.7777777777777778,
              "#fb9f3a"
             ],
             [
              0.8888888888888888,
              "#fdca26"
             ],
             [
              1,
              "#f0f921"
             ]
            ],
            "type": "heatmap"
           }
          ],
          "histogram": [
           {
            "marker": {
             "pattern": {
              "fillmode": "overlay",
              "size": 10,
              "solidity": 0.2
             }
            },
            "type": "histogram"
           }
          ],
          "histogram2d": [
           {
            "colorbar": {
             "outlinewidth": 0,
             "ticks": ""
            },
            "colorscale": [
             [
              0,
              "#0d0887"
             ],
             [
              0.1111111111111111,
              "#46039f"
             ],
             [
              0.2222222222222222,
              "#7201a8"
             ],
             [
              0.3333333333333333,
              "#9c179e"
             ],
             [
              0.4444444444444444,
              "#bd3786"
             ],
             [
              0.5555555555555556,
              "#d8576b"
             ],
             [
              0.6666666666666666,
              "#ed7953"
             ],
             [
              0.7777777777777778,
              "#fb9f3a"
             ],
             [
              0.8888888888888888,
              "#fdca26"
             ],
             [
              1,
              "#f0f921"
             ]
            ],
            "type": "histogram2d"
           }
          ],
          "histogram2dcontour": [
           {
            "colorbar": {
             "outlinewidth": 0,
             "ticks": ""
            },
            "colorscale": [
             [
              0,
              "#0d0887"
             ],
             [
              0.1111111111111111,
              "#46039f"
             ],
             [
              0.2222222222222222,
              "#7201a8"
             ],
             [
              0.3333333333333333,
              "#9c179e"
             ],
             [
              0.4444444444444444,
              "#bd3786"
             ],
             [
              0.5555555555555556,
              "#d8576b"
             ],
             [
              0.6666666666666666,
              "#ed7953"
             ],
             [
              0.7777777777777778,
              "#fb9f3a"
             ],
             [
              0.8888888888888888,
              "#fdca26"
             ],
             [
              1,
              "#f0f921"
             ]
            ],
            "type": "histogram2dcontour"
           }
          ],
          "mesh3d": [
           {
            "colorbar": {
             "outlinewidth": 0,
             "ticks": ""
            },
            "type": "mesh3d"
           }
          ],
          "parcoords": [
           {
            "line": {
             "colorbar": {
              "outlinewidth": 0,
              "ticks": ""
             }
            },
            "type": "parcoords"
           }
          ],
          "pie": [
           {
            "automargin": true,
            "type": "pie"
           }
          ],
          "scatter": [
           {
            "fillpattern": {
             "fillmode": "overlay",
             "size": 10,
             "solidity": 0.2
            },
            "type": "scatter"
           }
          ],
          "scatter3d": [
           {
            "line": {
             "colorbar": {
              "outlinewidth": 0,
              "ticks": ""
             }
            },
            "marker": {
             "colorbar": {
              "outlinewidth": 0,
              "ticks": ""
             }
            },
            "type": "scatter3d"
           }
          ],
          "scattercarpet": [
           {
            "marker": {
             "colorbar": {
              "outlinewidth": 0,
              "ticks": ""
             }
            },
            "type": "scattercarpet"
           }
          ],
          "scattergeo": [
           {
            "marker": {
             "colorbar": {
              "outlinewidth": 0,
              "ticks": ""
             }
            },
            "type": "scattergeo"
           }
          ],
          "scattergl": [
           {
            "marker": {
             "colorbar": {
              "outlinewidth": 0,
              "ticks": ""
             }
            },
            "type": "scattergl"
           }
          ],
          "scattermap": [
           {
            "marker": {
             "colorbar": {
              "outlinewidth": 0,
              "ticks": ""
             }
            },
            "type": "scattermap"
           }
          ],
          "scattermapbox": [
           {
            "marker": {
             "colorbar": {
              "outlinewidth": 0,
              "ticks": ""
             }
            },
            "type": "scattermapbox"
           }
          ],
          "scatterpolar": [
           {
            "marker": {
             "colorbar": {
              "outlinewidth": 0,
              "ticks": ""
             }
            },
            "type": "scatterpolar"
           }
          ],
          "scatterpolargl": [
           {
            "marker": {
             "colorbar": {
              "outlinewidth": 0,
              "ticks": ""
             }
            },
            "type": "scatterpolargl"
           }
          ],
          "scatterternary": [
           {
            "marker": {
             "colorbar": {
              "outlinewidth": 0,
              "ticks": ""
             }
            },
            "type": "scatterternary"
           }
          ],
          "surface": [
           {
            "colorbar": {
             "outlinewidth": 0,
             "ticks": ""
            },
            "colorscale": [
             [
              0,
              "#0d0887"
             ],
             [
              0.1111111111111111,
              "#46039f"
             ],
             [
              0.2222222222222222,
              "#7201a8"
             ],
             [
              0.3333333333333333,
              "#9c179e"
             ],
             [
              0.4444444444444444,
              "#bd3786"
             ],
             [
              0.5555555555555556,
              "#d8576b"
             ],
             [
              0.6666666666666666,
              "#ed7953"
             ],
             [
              0.7777777777777778,
              "#fb9f3a"
             ],
             [
              0.8888888888888888,
              "#fdca26"
             ],
             [
              1,
              "#f0f921"
             ]
            ],
            "type": "surface"
           }
          ],
          "table": [
           {
            "cells": {
             "fill": {
              "color": "#EBF0F8"
             },
             "line": {
              "color": "white"
             }
            },
            "header": {
             "fill": {
              "color": "#C8D4E3"
             },
             "line": {
              "color": "white"
             }
            },
            "type": "table"
           }
          ]
         },
         "layout": {
          "annotationdefaults": {
           "arrowcolor": "#2a3f5f",
           "arrowhead": 0,
           "arrowwidth": 1
          },
          "autotypenumbers": "strict",
          "coloraxis": {
           "colorbar": {
            "outlinewidth": 0,
            "ticks": ""
           }
          },
          "colorscale": {
           "diverging": [
            [
             0,
             "#8e0152"
            ],
            [
             0.1,
             "#c51b7d"
            ],
            [
             0.2,
             "#de77ae"
            ],
            [
             0.3,
             "#f1b6da"
            ],
            [
             0.4,
             "#fde0ef"
            ],
            [
             0.5,
             "#f7f7f7"
            ],
            [
             0.6,
             "#e6f5d0"
            ],
            [
             0.7,
             "#b8e186"
            ],
            [
             0.8,
             "#7fbc41"
            ],
            [
             0.9,
             "#4d9221"
            ],
            [
             1,
             "#276419"
            ]
           ],
           "sequential": [
            [
             0,
             "#0d0887"
            ],
            [
             0.1111111111111111,
             "#46039f"
            ],
            [
             0.2222222222222222,
             "#7201a8"
            ],
            [
             0.3333333333333333,
             "#9c179e"
            ],
            [
             0.4444444444444444,
             "#bd3786"
            ],
            [
             0.5555555555555556,
             "#d8576b"
            ],
            [
             0.6666666666666666,
             "#ed7953"
            ],
            [
             0.7777777777777778,
             "#fb9f3a"
            ],
            [
             0.8888888888888888,
             "#fdca26"
            ],
            [
             1,
             "#f0f921"
            ]
           ],
           "sequentialminus": [
            [
             0,
             "#0d0887"
            ],
            [
             0.1111111111111111,
             "#46039f"
            ],
            [
             0.2222222222222222,
             "#7201a8"
            ],
            [
             0.3333333333333333,
             "#9c179e"
            ],
            [
             0.4444444444444444,
             "#bd3786"
            ],
            [
             0.5555555555555556,
             "#d8576b"
            ],
            [
             0.6666666666666666,
             "#ed7953"
            ],
            [
             0.7777777777777778,
             "#fb9f3a"
            ],
            [
             0.8888888888888888,
             "#fdca26"
            ],
            [
             1,
             "#f0f921"
            ]
           ]
          },
          "colorway": [
           "#636efa",
           "#EF553B",
           "#00cc96",
           "#ab63fa",
           "#FFA15A",
           "#19d3f3",
           "#FF6692",
           "#B6E880",
           "#FF97FF",
           "#FECB52"
          ],
          "font": {
           "color": "#2a3f5f"
          },
          "geo": {
           "bgcolor": "white",
           "lakecolor": "white",
           "landcolor": "#E5ECF6",
           "showlakes": true,
           "showland": true,
           "subunitcolor": "white"
          },
          "hoverlabel": {
           "align": "left"
          },
          "hovermode": "closest",
          "mapbox": {
           "style": "light"
          },
          "paper_bgcolor": "white",
          "plot_bgcolor": "#E5ECF6",
          "polar": {
           "angularaxis": {
            "gridcolor": "white",
            "linecolor": "white",
            "ticks": ""
           },
           "bgcolor": "#E5ECF6",
           "radialaxis": {
            "gridcolor": "white",
            "linecolor": "white",
            "ticks": ""
           }
          },
          "scene": {
           "xaxis": {
            "backgroundcolor": "#E5ECF6",
            "gridcolor": "white",
            "gridwidth": 2,
            "linecolor": "white",
            "showbackground": true,
            "ticks": "",
            "zerolinecolor": "white"
           },
           "yaxis": {
            "backgroundcolor": "#E5ECF6",
            "gridcolor": "white",
            "gridwidth": 2,
            "linecolor": "white",
            "showbackground": true,
            "ticks": "",
            "zerolinecolor": "white"
           },
           "zaxis": {
            "backgroundcolor": "#E5ECF6",
            "gridcolor": "white",
            "gridwidth": 2,
            "linecolor": "white",
            "showbackground": true,
            "ticks": "",
            "zerolinecolor": "white"
           }
          },
          "shapedefaults": {
           "line": {
            "color": "#2a3f5f"
           }
          },
          "ternary": {
           "aaxis": {
            "gridcolor": "white",
            "linecolor": "white",
            "ticks": ""
           },
           "baxis": {
            "gridcolor": "white",
            "linecolor": "white",
            "ticks": ""
           },
           "bgcolor": "#E5ECF6",
           "caxis": {
            "gridcolor": "white",
            "linecolor": "white",
            "ticks": ""
           }
          },
          "title": {
           "x": 0.05
          },
          "xaxis": {
           "automargin": true,
           "gridcolor": "white",
           "linecolor": "white",
           "ticks": "",
           "title": {
            "standoff": 15
           },
           "zerolinecolor": "white",
           "zerolinewidth": 2
          },
          "yaxis": {
           "automargin": true,
           "gridcolor": "white",
           "linecolor": "white",
           "ticks": "",
           "title": {
            "standoff": 15
           },
           "zerolinecolor": "white",
           "zerolinewidth": 2
          }
         }
        },
        "title": {
         "text": "Distribution Analysis Dashboard"
        },
        "xaxis": {
         "anchor": "y",
         "domain": [
          0,
          0.37
         ]
        },
        "xaxis2": {
         "anchor": "y3",
         "domain": [
          0.5700000000000001,
          0.9400000000000001
         ]
        },
        "xaxis3": {
         "anchor": "y5",
         "domain": [
          0,
          0.37
         ]
        },
        "xaxis4": {
         "anchor": "y7",
         "domain": [
          0.5700000000000001,
          0.9400000000000001
         ]
        },
        "xaxis5": {
         "anchor": "y9",
         "domain": [
          0,
          0.37
         ]
        },
        "xaxis6": {
         "anchor": "y11",
         "domain": [
          0.5700000000000001,
          0.9400000000000001
         ]
        },
        "yaxis": {
         "anchor": "x",
         "domain": [
          0.7777777777777778,
          1
         ]
        },
        "yaxis10": {
         "anchor": "x5",
         "overlaying": "y9",
         "side": "right"
        },
        "yaxis11": {
         "anchor": "x6",
         "domain": [
          0,
          0.22222222222222224
         ]
        },
        "yaxis12": {
         "anchor": "x6",
         "overlaying": "y11",
         "side": "right"
        },
        "yaxis2": {
         "anchor": "x",
         "overlaying": "y",
         "side": "right"
        },
        "yaxis3": {
         "anchor": "x2",
         "domain": [
          0.7777777777777778,
          1
         ]
        },
        "yaxis4": {
         "anchor": "x2",
         "overlaying": "y3",
         "side": "right"
        },
        "yaxis5": {
         "anchor": "x3",
         "domain": [
          0.3888888888888889,
          0.6111111111111112
         ]
        },
        "yaxis6": {
         "anchor": "x3",
         "overlaying": "y5",
         "side": "right"
        },
        "yaxis7": {
         "anchor": "x4",
         "domain": [
          0.3888888888888889,
          0.6111111111111112
         ]
        },
        "yaxis8": {
         "anchor": "x4",
         "overlaying": "y7",
         "side": "right"
        },
        "yaxis9": {
         "anchor": "x5",
         "domain": [
          0,
          0.22222222222222224
         ]
        }
       }
      }
     },
     "metadata": {},
     "output_type": "display_data"
    },
    {
     "name": "stdout",
     "output_type": "stream",
     "text": [
      "\n",
      "2.1 Distribution Shape Analysis:\n",
      "--------------------------------\n",
      "             Variable         Test  Statistic  P-Value Normal?  Skewness  Kurtosis\n",
      "         sales_amount Shapiro-Wilk     0.9981   0.3337     Yes     0.133     0.025\n",
      "customer_satisfaction Shapiro-Wilk     0.9975   0.1368     Yes     0.063    -0.239\n",
      "      marketing_spend Shapiro-Wilk     0.9949   0.0018      No     0.139     0.162\n",
      "        product_price Shapiro-Wilk     0.9969   0.0487      No     0.150    -0.229\n",
      "       employee_count Shapiro-Wilk     0.9893   0.0000      No     0.224    -0.052\n",
      "    years_in_business Shapiro-Wilk     0.8541   0.0000      No     1.361     1.461\n",
      "\n",
      " Distribution analysis complete!\n"
     ]
    }
   ],
   "source": [
    "# 2. DISTRIBUTION ANALYSIS WITH PROFESSIONAL VISUALIZATIONS\n",
    "# ==========================================================\n",
    "\n",
    "print(\"DISTRIBUTION ANALYSIS\")\n",
    "print(\"=\" * 25)\n",
    "\n",
    "# Create subplots for multiple distribution visualizations\n",
    "fig = make_subplots(\n",
    " rows=3, cols=2,\n",
    " subplot_titles=[\n",
    " 'Sales Amount Distribution', 'Customer Satisfaction Distribution',\n",
    " 'Marketing Spend Distribution', 'Product Price Distribution',\n",
    " 'Employee Count Distribution', 'Years in Business Distribution'\n",
    " ],\n",
    " specs=[[{\"secondary_y\": True}, {\"secondary_y\": True}],\n",
    " [{\"secondary_y\": True}, {\"secondary_y\": True}],\n",
    " [{\"secondary_y\": True}, {\"secondary_y\": True}]]\n",
    ")\n",
    "\n",
    "# Variables to analyze\n",
    "dist_vars = ['sales_amount', 'customer_satisfaction', 'marketing_spend',\n",
    " 'product_price', 'employee_count', 'years_in_business']\n",
    "\n",
    "positions = [(1,1), (1,2), (2,1), (2,2), (3,1), (3,2)]\n",
    "\n",
    "for var, (row, col) in zip(dist_vars, positions):\n",
    "    # Histogram\n",
    "    fig.add_trace(\n",
    "        go.Histogram(x=df[var], name=f'{var} Histogram',\n",
    "                    opacity=0.7, nbinsx=30,\n",
    "                    marker_color='lightblue'),\n",
    "        row=row, col=col\n",
    "    )\n",
    "\n",
    "    # Add mean line\n",
    "    mean_val = df[var].mean()\n",
    "    fig.add_vline(x=mean_val, line_dash=\"dash\", line_color=\"red\",\n",
    "                 annotation_text=f\"Mean: {mean_val:.1f}\",\n",
    "                 row=row, col=col)\n",
    "\n",
    "fig.update_layout(height=900, title_text=\"Distribution Analysis Dashboard\",\n",
    " showlegend=False)\n",
    "fig.show()\n",
    "\n",
    "# Statistical normality tests\n",
    "print(\"\\n2.1 Distribution Shape Analysis:\")\n",
    "print(\"-\" * 32)\n",
    "from scipy import stats\n",
    "\n",
    "normality_results = []\n",
    "for var in dist_vars:\n",
    "    # Shapiro-Wilk test (small samples)\n",
    "    if len(df[var]) < 5000:\n",
    "        stat, p_value = stats.shapiro(df[var].dropna())\n",
    "        test_name = \"Shapiro-Wilk\"\n",
    "    else:\n",
    "        # Kolmogorov-Smirnov test (large samples)\n",
    "        stat, p_value = stats.kstest(df[var].dropna(), 'norm')\n",
    "        test_name = \"Kolmogorov-Smirnov\"\n",
    "\n",
    "    is_normal = \"Yes\" if p_value > 0.05 else \"No\"\n",
    "    normality_results.append({\n",
    "        'Variable': var,\n",
    "        'Test': test_name,\n",
    "        'Statistic': round(stat, 4),\n",
    "        'P-Value': round(p_value, 4),\n",
    "        'Normal?': is_normal,\n",
    "        'Skewness': round(df[var].skew(), 3),\n",
    "        'Kurtosis': round(df[var].kurtosis(), 3)\n",
    "    })\n",
    "\n",
    "normality_df = pd.DataFrame(normality_results)\n",
    "print(normality_df.to_string(index=False))\n",
    "\n",
    "print(\"\\n Distribution analysis complete!\")"
   ]
  },
  {
   "cell_type": "code",
   "execution_count": 9,
   "id": "3308aba2",
   "metadata": {},
   "outputs": [
    {
     "name": "stdout",
     "output_type": "stream",
     "text": [
      "CORRELATION ANALYSIS\n",
      "======================\n"
     ]
    },
    {
     "data": {
      "application/vnd.plotly.v1+json": {
       "config": {
        "plotlyServerURL": "https://plot.ly"
       },
       "data": [
        {
         "colorscale": [
          [
           0,
           "rgb(103,0,31)"
          ],
          [
           0.1,
           "rgb(178,24,43)"
          ],
          [
           0.2,
           "rgb(214,96,77)"
          ],
          [
           0.3,
           "rgb(244,165,130)"
          ],
          [
           0.4,
           "rgb(253,219,199)"
          ],
          [
           0.5,
           "rgb(247,247,247)"
          ],
          [
           0.6,
           "rgb(209,229,240)"
          ],
          [
           0.7,
           "rgb(146,197,222)"
          ],
          [
           0.8,
           "rgb(67,147,195)"
          ],
          [
           0.9,
           "rgb(33,102,172)"
          ],
          [
           1,
           "rgb(5,48,97)"
          ]
         ],
         "hoverongaps": false,
         "text": {
          "bdata": "AAAAAAAA8D89CtejcD3qP+kmMQisHOY/6SYxCKwc6j/6fmq8dJNoPxsv3SQGgZU/PQrXo3A96j8AAAAAAADwP2q8dJMYBOI/okW28/3U5D956SYxCKx8v/p+arx0k4i/6SYxCKwc5j9qvHSTGATiPwAAAAAAAPA/vHSTGARW4j+6SQwCK4eGv/p+arx0k3g/6SYxCKwc6j+iRbbz/dTkP7x0kxgEVuI/AAAAAAAA8D/6fmq8dJN4vxsv3SQGgZW/+n5qvHSTaD956SYxCKx8v7pJDAIrh4a/+n5qvHSTeL8AAAAAAADwP2iR7Xw/Na4/Gy/dJAaBlT/6fmq8dJOIv/p+arx0k3g/Gy/dJAaBlb9oke18PzWuPwAAAAAAAPA/",
          "dtype": "f8",
          "shape": "6, 6"
         },
         "textfont": {
          "size": 10
         },
         "texttemplate": "%{text}",
         "type": "heatmap",
         "x": [
          "sales_amount",
          "marketing_spend",
          "customer_satisfaction",
          "product_price",
          "employee_count",
          "years_in_business"
         ],
         "y": [
          "sales_amount",
          "marketing_spend",
          "customer_satisfaction",
          "product_price",
          "employee_count",
          "years_in_business"
         ],
         "z": {
          "bdata": "AAAAAAAA8D/gq73+UzzqP0ebgN84IOY/6LmQYtUf6j/3H2463/FqP4weYump4ZU/4Ku9/lM86j8AAAAAAADwP1csKR2HBOI/xbVKjdPX5D918K7YRSF8v6j7f2zJdom/R5uA3zgg5j9XLCkdhwTiPwAAAAAAAPA/efxOyYxY4j9asK5Ac8OGv8xifCrDt3Y/6LmQYtUf6j/FtUqN09fkP3n8TsmMWOI/AAAAAAAA8D+HlgJ/tpx4v1smcLgewpW/9x9uOt/xaj918K7YRSF8v1qwrkBzw4a/h5YCf7aceL8AAAAAAADwP7qCZVYWUK4/jB5i6anhlT+o+39syXaJv8xifCrDt3Y/WyZwuB7Clb+6gmVWFlCuPwAAAAAAAPA/",
          "dtype": "f8",
          "shape": "6, 6"
         },
         "zmid": 0
        }
       ],
       "layout": {
        "height": 600,
        "template": {
         "data": {
          "bar": [
           {
            "error_x": {
             "color": "#2a3f5f"
            },
            "error_y": {
             "color": "#2a3f5f"
            },
            "marker": {
             "line": {
              "color": "#E5ECF6",
              "width": 0.5
             },
             "pattern": {
              "fillmode": "overlay",
              "size": 10,
              "solidity": 0.2
             }
            },
            "type": "bar"
           }
          ],
          "barpolar": [
           {
            "marker": {
             "line": {
              "color": "#E5ECF6",
              "width": 0.5
             },
             "pattern": {
              "fillmode": "overlay",
              "size": 10,
              "solidity": 0.2
             }
            },
            "type": "barpolar"
           }
          ],
          "carpet": [
           {
            "aaxis": {
             "endlinecolor": "#2a3f5f",
             "gridcolor": "white",
             "linecolor": "white",
             "minorgridcolor": "white",
             "startlinecolor": "#2a3f5f"
            },
            "baxis": {
             "endlinecolor": "#2a3f5f",
             "gridcolor": "white",
             "linecolor": "white",
             "minorgridcolor": "white",
             "startlinecolor": "#2a3f5f"
            },
            "type": "carpet"
           }
          ],
          "choropleth": [
           {
            "colorbar": {
             "outlinewidth": 0,
             "ticks": ""
            },
            "type": "choropleth"
           }
          ],
          "contour": [
           {
            "colorbar": {
             "outlinewidth": 0,
             "ticks": ""
            },
            "colorscale": [
             [
              0,
              "#0d0887"
             ],
             [
              0.1111111111111111,
              "#46039f"
             ],
             [
              0.2222222222222222,
              "#7201a8"
             ],
             [
              0.3333333333333333,
              "#9c179e"
             ],
             [
              0.4444444444444444,
              "#bd3786"
             ],
             [
              0.5555555555555556,
              "#d8576b"
             ],
             [
              0.6666666666666666,
              "#ed7953"
             ],
             [
              0.7777777777777778,
              "#fb9f3a"
             ],
             [
              0.8888888888888888,
              "#fdca26"
             ],
             [
              1,
              "#f0f921"
             ]
            ],
            "type": "contour"
           }
          ],
          "contourcarpet": [
           {
            "colorbar": {
             "outlinewidth": 0,
             "ticks": ""
            },
            "type": "contourcarpet"
           }
          ],
          "heatmap": [
           {
            "colorbar": {
             "outlinewidth": 0,
             "ticks": ""
            },
            "colorscale": [
             [
              0,
              "#0d0887"
             ],
             [
              0.1111111111111111,
              "#46039f"
             ],
             [
              0.2222222222222222,
              "#7201a8"
             ],
             [
              0.3333333333333333,
              "#9c179e"
             ],
             [
              0.4444444444444444,
              "#bd3786"
             ],
             [
              0.5555555555555556,
              "#d8576b"
             ],
             [
              0.6666666666666666,
              "#ed7953"
             ],
             [
              0.7777777777777778,
              "#fb9f3a"
             ],
             [
              0.8888888888888888,
              "#fdca26"
             ],
             [
              1,
              "#f0f921"
             ]
            ],
            "type": "heatmap"
           }
          ],
          "histogram": [
           {
            "marker": {
             "pattern": {
              "fillmode": "overlay",
              "size": 10,
              "solidity": 0.2
             }
            },
            "type": "histogram"
           }
          ],
          "histogram2d": [
           {
            "colorbar": {
             "outlinewidth": 0,
             "ticks": ""
            },
            "colorscale": [
             [
              0,
              "#0d0887"
             ],
             [
              0.1111111111111111,
              "#46039f"
             ],
             [
              0.2222222222222222,
              "#7201a8"
             ],
             [
              0.3333333333333333,
              "#9c179e"
             ],
             [
              0.4444444444444444,
              "#bd3786"
             ],
             [
              0.5555555555555556,
              "#d8576b"
             ],
             [
              0.6666666666666666,
              "#ed7953"
             ],
             [
              0.7777777777777778,
              "#fb9f3a"
             ],
             [
              0.8888888888888888,
              "#fdca26"
             ],
             [
              1,
              "#f0f921"
             ]
            ],
            "type": "histogram2d"
           }
          ],
          "histogram2dcontour": [
           {
            "colorbar": {
             "outlinewidth": 0,
             "ticks": ""
            },
            "colorscale": [
             [
              0,
              "#0d0887"
             ],
             [
              0.1111111111111111,
              "#46039f"
             ],
             [
              0.2222222222222222,
              "#7201a8"
             ],
             [
              0.3333333333333333,
              "#9c179e"
             ],
             [
              0.4444444444444444,
              "#bd3786"
             ],
             [
              0.5555555555555556,
              "#d8576b"
             ],
             [
              0.6666666666666666,
              "#ed7953"
             ],
             [
              0.7777777777777778,
              "#fb9f3a"
             ],
             [
              0.8888888888888888,
              "#fdca26"
             ],
             [
              1,
              "#f0f921"
             ]
            ],
            "type": "histogram2dcontour"
           }
          ],
          "mesh3d": [
           {
            "colorbar": {
             "outlinewidth": 0,
             "ticks": ""
            },
            "type": "mesh3d"
           }
          ],
          "parcoords": [
           {
            "line": {
             "colorbar": {
              "outlinewidth": 0,
              "ticks": ""
             }
            },
            "type": "parcoords"
           }
          ],
          "pie": [
           {
            "automargin": true,
            "type": "pie"
           }
          ],
          "scatter": [
           {
            "fillpattern": {
             "fillmode": "overlay",
             "size": 10,
             "solidity": 0.2
            },
            "type": "scatter"
           }
          ],
          "scatter3d": [
           {
            "line": {
             "colorbar": {
              "outlinewidth": 0,
              "ticks": ""
             }
            },
            "marker": {
             "colorbar": {
              "outlinewidth": 0,
              "ticks": ""
             }
            },
            "type": "scatter3d"
           }
          ],
          "scattercarpet": [
           {
            "marker": {
             "colorbar": {
              "outlinewidth": 0,
              "ticks": ""
             }
            },
            "type": "scattercarpet"
           }
          ],
          "scattergeo": [
           {
            "marker": {
             "colorbar": {
              "outlinewidth": 0,
              "ticks": ""
             }
            },
            "type": "scattergeo"
           }
          ],
          "scattergl": [
           {
            "marker": {
             "colorbar": {
              "outlinewidth": 0,
              "ticks": ""
             }
            },
            "type": "scattergl"
           }
          ],
          "scattermap": [
           {
            "marker": {
             "colorbar": {
              "outlinewidth": 0,
              "ticks": ""
             }
            },
            "type": "scattermap"
           }
          ],
          "scattermapbox": [
           {
            "marker": {
             "colorbar": {
              "outlinewidth": 0,
              "ticks": ""
             }
            },
            "type": "scattermapbox"
           }
          ],
          "scatterpolar": [
           {
            "marker": {
             "colorbar": {
              "outlinewidth": 0,
              "ticks": ""
             }
            },
            "type": "scatterpolar"
           }
          ],
          "scatterpolargl": [
           {
            "marker": {
             "colorbar": {
              "outlinewidth": 0,
              "ticks": ""
             }
            },
            "type": "scatterpolargl"
           }
          ],
          "scatterternary": [
           {
            "marker": {
             "colorbar": {
              "outlinewidth": 0,
              "ticks": ""
             }
            },
            "type": "scatterternary"
           }
          ],
          "surface": [
           {
            "colorbar": {
             "outlinewidth": 0,
             "ticks": ""
            },
            "colorscale": [
             [
              0,
              "#0d0887"
             ],
             [
              0.1111111111111111,
              "#46039f"
             ],
             [
              0.2222222222222222,
              "#7201a8"
             ],
             [
              0.3333333333333333,
              "#9c179e"
             ],
             [
              0.4444444444444444,
              "#bd3786"
             ],
             [
              0.5555555555555556,
              "#d8576b"
             ],
             [
              0.6666666666666666,
              "#ed7953"
             ],
             [
              0.7777777777777778,
              "#fb9f3a"
             ],
             [
              0.8888888888888888,
              "#fdca26"
             ],
             [
              1,
              "#f0f921"
             ]
            ],
            "type": "surface"
           }
          ],
          "table": [
           {
            "cells": {
             "fill": {
              "color": "#EBF0F8"
             },
             "line": {
              "color": "white"
             }
            },
            "header": {
             "fill": {
              "color": "#C8D4E3"
             },
             "line": {
              "color": "white"
             }
            },
            "type": "table"
           }
          ]
         },
         "layout": {
          "annotationdefaults": {
           "arrowcolor": "#2a3f5f",
           "arrowhead": 0,
           "arrowwidth": 1
          },
          "autotypenumbers": "strict",
          "coloraxis": {
           "colorbar": {
            "outlinewidth": 0,
            "ticks": ""
           }
          },
          "colorscale": {
           "diverging": [
            [
             0,
             "#8e0152"
            ],
            [
             0.1,
             "#c51b7d"
            ],
            [
             0.2,
             "#de77ae"
            ],
            [
             0.3,
             "#f1b6da"
            ],
            [
             0.4,
             "#fde0ef"
            ],
            [
             0.5,
             "#f7f7f7"
            ],
            [
             0.6,
             "#e6f5d0"
            ],
            [
             0.7,
             "#b8e186"
            ],
            [
             0.8,
             "#7fbc41"
            ],
            [
             0.9,
             "#4d9221"
            ],
            [
             1,
             "#276419"
            ]
           ],
           "sequential": [
            [
             0,
             "#0d0887"
            ],
            [
             0.1111111111111111,
             "#46039f"
            ],
            [
             0.2222222222222222,
             "#7201a8"
            ],
            [
             0.3333333333333333,
             "#9c179e"
            ],
            [
             0.4444444444444444,
             "#bd3786"
            ],
            [
             0.5555555555555556,
             "#d8576b"
            ],
            [
             0.6666666666666666,
             "#ed7953"
            ],
            [
             0.7777777777777778,
             "#fb9f3a"
            ],
            [
             0.8888888888888888,
             "#fdca26"
            ],
            [
             1,
             "#f0f921"
            ]
           ],
           "sequentialminus": [
            [
             0,
             "#0d0887"
            ],
            [
             0.1111111111111111,
             "#46039f"
            ],
            [
             0.2222222222222222,
             "#7201a8"
            ],
            [
             0.3333333333333333,
             "#9c179e"
            ],
            [
             0.4444444444444444,
             "#bd3786"
            ],
            [
             0.5555555555555556,
             "#d8576b"
            ],
            [
             0.6666666666666666,
             "#ed7953"
            ],
            [
             0.7777777777777778,
             "#fb9f3a"
            ],
            [
             0.8888888888888888,
             "#fdca26"
            ],
            [
             1,
             "#f0f921"
            ]
           ]
          },
          "colorway": [
           "#636efa",
           "#EF553B",
           "#00cc96",
           "#ab63fa",
           "#FFA15A",
           "#19d3f3",
           "#FF6692",
           "#B6E880",
           "#FF97FF",
           "#FECB52"
          ],
          "font": {
           "color": "#2a3f5f"
          },
          "geo": {
           "bgcolor": "white",
           "lakecolor": "white",
           "landcolor": "#E5ECF6",
           "showlakes": true,
           "showland": true,
           "subunitcolor": "white"
          },
          "hoverlabel": {
           "align": "left"
          },
          "hovermode": "closest",
          "mapbox": {
           "style": "light"
          },
          "paper_bgcolor": "white",
          "plot_bgcolor": "#E5ECF6",
          "polar": {
           "angularaxis": {
            "gridcolor": "white",
            "linecolor": "white",
            "ticks": ""
           },
           "bgcolor": "#E5ECF6",
           "radialaxis": {
            "gridcolor": "white",
            "linecolor": "white",
            "ticks": ""
           }
          },
          "scene": {
           "xaxis": {
            "backgroundcolor": "#E5ECF6",
            "gridcolor": "white",
            "gridwidth": 2,
            "linecolor": "white",
            "showbackground": true,
            "ticks": "",
            "zerolinecolor": "white"
           },
           "yaxis": {
            "backgroundcolor": "#E5ECF6",
            "gridcolor": "white",
            "gridwidth": 2,
            "linecolor": "white",
            "showbackground": true,
            "ticks": "",
            "zerolinecolor": "white"
           },
           "zaxis": {
            "backgroundcolor": "#E5ECF6",
            "gridcolor": "white",
            "gridwidth": 2,
            "linecolor": "white",
            "showbackground": true,
            "ticks": "",
            "zerolinecolor": "white"
           }
          },
          "shapedefaults": {
           "line": {
            "color": "#2a3f5f"
           }
          },
          "ternary": {
           "aaxis": {
            "gridcolor": "white",
            "linecolor": "white",
            "ticks": ""
           },
           "baxis": {
            "gridcolor": "white",
            "linecolor": "white",
            "ticks": ""
           },
           "bgcolor": "#E5ECF6",
           "caxis": {
            "gridcolor": "white",
            "linecolor": "white",
            "ticks": ""
           }
          },
          "title": {
           "x": 0.05
          },
          "xaxis": {
           "automargin": true,
           "gridcolor": "white",
           "linecolor": "white",
           "ticks": "",
           "title": {
            "standoff": 15
           },
           "zerolinecolor": "white",
           "zerolinewidth": 2
          },
          "yaxis": {
           "automargin": true,
           "gridcolor": "white",
           "linecolor": "white",
           "ticks": "",
           "title": {
            "standoff": 15
           },
           "zerolinecolor": "white",
           "zerolinewidth": 2
          }
         }
        },
        "title": {
         "text": "Correlation Matrix Heatmap"
        },
        "width": 800,
        "xaxis": {
         "title": {
          "text": "Variables"
         }
        },
        "yaxis": {
         "title": {
          "text": "Variables"
         }
        }
       }
      }
     },
     "metadata": {},
     "output_type": "display_data"
    },
    {
     "name": "stdout",
     "output_type": "stream",
     "text": [
      "\n",
      "3.1 Strong Correlations (|r| > 0.5):\n",
      "-----------------------------------\n",
      "           Variable_1            Variable_2  Correlation Strength\n",
      "         sales_amount       marketing_spend        0.820   Strong\n",
      "         sales_amount         product_price        0.816   Strong\n",
      "         sales_amount customer_satisfaction        0.691 Moderate\n",
      "      marketing_spend         product_price        0.651 Moderate\n",
      "customer_satisfaction         product_price        0.573 Moderate\n",
      "      marketing_spend customer_satisfaction        0.563 Moderate\n",
      "\n",
      "3.2 Creating pairplot for key variables...\n"
     ]
    },
    {
     "data": {
      "application/vnd.plotly.v1+json": {
       "config": {
        "plotlyServerURL": "https://plot.ly"
       },
       "data": [
        {
         "name": "sales_amount",
         "showlegend": false,
         "type": "histogram",
         "x": {
          "bdata": "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",
          "dtype": "f8"
         },
         "xaxis": "x",
         "yaxis": "y"
        },
        {
         "marker": {
          "opacity": 0.6,
          "size": 4
         },
         "mode": "markers",
         "name": "sales_amount vs marketing_spend",
         "showlegend": false,
         "type": "scatter",
         "x": {
          "bdata": "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",
          "dtype": "f8"
         },
         "xaxis": "x2",
         "y": {
          "bdata": "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",
          "dtype": "f8"
         },
         "yaxis": "y2"
        },
        {
         "marker": {
          "opacity": 0.6,
          "size": 4
         },
         "mode": "markers",
         "name": "sales_amount vs customer_satisfaction",
         "showlegend": false,
         "type": "scatter",
         "x": {
          "bdata": "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",
          "dtype": "f8"
         },
         "xaxis": "x3",
         "y": {
          "bdata": "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",
          "dtype": "f8"
         },
         "yaxis": "y3"
        },
        {
         "marker": {
          "opacity": 0.6,
          "size": 4
         },
         "mode": "markers",
         "name": "sales_amount vs product_price",
         "showlegend": false,
         "type": "scatter",
         "x": {
          "bdata": "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",
          "dtype": "f8"
         },
         "xaxis": "x4",
         "y": {
          "bdata": "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",
          "dtype": "f8"
         },
         "yaxis": "y4"
        },
        {
         "marker": {
          "opacity": 0.6,
          "size": 4
         },
         "mode": "markers",
         "name": "marketing_spend vs sales_amount",
         "showlegend": false,
         "type": "scatter",
         "x": {
          "bdata": "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",
          "dtype": "f8"
         },
         "xaxis": "x5",
         "y": {
          "bdata": "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",
          "dtype": "f8"
         },
         "yaxis": "y5"
        },
        {
         "name": "marketing_spend",
         "showlegend": false,
         "type": "histogram",
         "x": {
          "bdata": "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",
          "dtype": "f8"
         },
         "xaxis": "x6",
         "yaxis": "y6"
        },
        {
         "marker": {
          "opacity": 0.6,
          "size": 4
         },
         "mode": "markers",
         "name": "marketing_spend vs customer_satisfaction",
         "showlegend": false,
         "type": "scatter",
         "x": {
          "bdata": "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",
          "dtype": "f8"
         },
         "xaxis": "x7",
         "y": {
          "bdata": "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",
          "dtype": "f8"
         },
         "yaxis": "y7"
        },
        {
         "marker": {
          "opacity": 0.6,
          "size": 4
         },
         "mode": "markers",
         "name": "marketing_spend vs product_price",
         "showlegend": false,
         "type": "scatter",
         "x": {
          "bdata": "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",
          "dtype": "f8"
         },
         "xaxis": "x8",
         "y": {
          "bdata": "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",
          "dtype": "f8"
         },
         "yaxis": "y8"
        },
        {
         "marker": {
          "opacity": 0.6,
          "size": 4
         },
         "mode": "markers",
         "name": "customer_satisfaction vs sales_amount",
         "showlegend": false,
         "type": "scatter",
         "x": {
          "bdata": "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",
          "dtype": "f8"
         },
         "xaxis": "x9",
         "y": {
          "bdata": "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",
          "dtype": "f8"
         },
         "yaxis": "y9"
        },
        {
         "marker": {
          "opacity": 0.6,
          "size": 4
         },
         "mode": "markers",
         "name": "customer_satisfaction vs marketing_spend",
         "showlegend": false,
         "type": "scatter",
         "x": {
          "bdata": "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",
          "dtype": "f8"
         },
         "xaxis": "x10",
         "y": {
          "bdata": "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",
          "dtype": "f8"
         },
         "yaxis": "y10"
        },
        {
         "name": "customer_satisfaction",
         "showlegend": false,
         "type": "histogram",
         "x": {
          "bdata": "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",
          "dtype": "f8"
         },
         "xaxis": "x11",
         "yaxis": "y11"
        },
        {
         "marker": {
          "opacity": 0.6,
          "size": 4
         },
         "mode": "markers",
         "name": "customer_satisfaction vs product_price",
         "showlegend": false,
         "type": "scatter",
         "x": {
          "bdata": "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",
          "dtype": "f8"
         },
         "xaxis": "x12",
         "y": {
          "bdata": "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",
          "dtype": "f8"
         },
         "yaxis": "y12"
        },
        {
         "marker": {
          "opacity": 0.6,
          "size": 4
         },
         "mode": "markers",
         "name": "product_price vs sales_amount",
         "showlegend": false,
         "type": "scatter",
         "x": {
          "bdata": "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",
          "dtype": "f8"
         },
         "xaxis": "x13",
         "y": {
          "bdata": "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",
          "dtype": "f8"
         },
         "yaxis": "y13"
        },
        {
         "marker": {
          "opacity": 0.6,
          "size": 4
         },
         "mode": "markers",
         "name": "product_price vs marketing_spend",
         "showlegend": false,
         "type": "scatter",
         "x": {
          "bdata": "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",
          "dtype": "f8"
         },
         "xaxis": "x14",
         "y": {
          "bdata": "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",
          "dtype": "f8"
         },
         "yaxis": "y14"
        },
        {
         "marker": {
          "opacity": 0.6,
          "size": 4
         },
         "mode": "markers",
         "name": "product_price vs customer_satisfaction",
         "showlegend": false,
         "type": "scatter",
         "x": {
          "bdata": "1vpH1F5UG0AQxM5ebB8bQE0m8j5GaBtAUv3lo2eVH0DwaHHL6zwVQHW00bvp+htATacBV+leIEB8ysvmB7AbQDhUyWp/sxxApRNPLV9QIECws8KiLncVQDCYO9N+KRhAXCZn4L5DGkDJL7HUoUATQGnaT9bEehlA8wlqfGGxGUCinyiEdB0YQOZ0niTHhxZACuOXBSxPG0D2OsV4JswTQOMKQodbSyBAnJ6uu9Q1HECORvqvQUcgQJLCq5ObiRNAbsXXZ1S0EEC1TARQzOscQBZYawQETx5AVL8gj72LIEBUWQhldt4aQOxYIBg7jRlAXJsMixXHHEAmR/hFBXEeQFVZcc3dex1ArEFfWMJxGkCB03yFHu4gQPMWq4ONlSBAJBbD2N/hHUB9tYnEB34UQAeX4KwA7xdAxqz7YvbtFkBLy7yICP4bQH/5bKBTNBtAXgS+Udn5GUDXFbG8j5UbQMLAtMnE7hRAAuZcCoJtHUCl8DwoZp4aQL4HmERAJB9A0Fs/mUn7G0B4XeMLHjUXQLTfDSbRnB9AI+c8W+cRGECsHDCw/twXQBI0p3z03BxAQeEKKkXJGkCCrLZLFiwcQJxvjl1c9RdAmAo7E9PeHUDJvXAkgNUdQLhlLLnOix9A40ltvwxJHUAopAEC4QAbQCTahhs07hlAChaZCcEUGEBaQFaYZ0kfQDbThUoyNB5AADC2NNH6E0AgUvI2tpQeQHnxBjmg0SBAikZdvk0HHUBjM5rlMxYgQFaE79jsSCJABfGUKB0tHECo5A3IpKkgQMhi7ikOKhJAxAxLU0t0HUCeKka4SjseQAcH3KCV9B5AaE8v5jzUG0CbLeWEwJgUQETvcHi5VxtAXDbOYcX+HkAj3aV9N9AbQGjrj+HvGBNAxHSFvhPQF0BtAsOZpJYWQA59CKjCHh1APlWtUWuDHEDKZTrT1/UYQKt4YYAGGCFAGNEEkTlWHUC/UwxlEd4fQHY8fQqJ4htAzvi3YmxfF0DewMHvGSYeQGN/oFT0XRdAt7aYl60IH0D6VgvNbFoZQC06IIQWCxdALbqjL9rpHUB36JOWWfUYQE+nndf72RdAqZhuBF4wGEC7M8ymzjEdQK72kC/EtRdAlIUTj/47IUCbG1NhzcYeQA84juILkR5AFtSHLZi4G0DJ7v7o9LQdQIdZi0ClgBRAjtdbA0dmG0DFHTodx08cQOCczZRjFyBAjdPTaybLHUD+NCTvKUMbQFYt7IISKhtAVXDTXuJPFUChTc3KnzoXQMztzp/+pB1AVs7XqvYLI0BnoLCYVsgbQAoF27HIEiBAtPTVqQT0FkBflRs9HNUdQP//rCU8KSJAIvQLPfI/FUCOUHWI790dQB/tWpeSlh5A67InH6vJHED54/8wSsAYQODuzfC5RBxAXLLz0Vv3GkDixOJ6iFAfQE6gJB/aGxhAwNIzfnTQHkAwVDXz5vkZQKKkRjOd/R9ApT6mZ7R5GkBWb7Xff5wTQK8YrEupNR1AZqfXUskKIEB0fWpRdLsXQJIP9i+lVR1AdE+FIb4QHECvNPHRd44hQFzyVLKPKhNAhwA5Py9jFUBzp27LQzwdQBCoeOT7oRdAV36FjlEwHECMc9IEky0hQFpb4unZBhpAJL/la1xvHUAmxOOvwNgYQHcHwXB04hdAmbTT58YyIECrNWmooWccQPShBmMAhxxAYiL2+xfBH0A6IpAo8IQVQI0hvu1qJh9AuzWn6viIIEAFeNjfuS8dQO5eG25T+SFAHMjcWXP9GUAk/3N1Ft8bQPR2h3uHqh1AyhY0NtWDGkA+f0XhKzsbQGj+EmetfRxAIIteFj1PGUBiIMBMxL4aQE/6RypTgh1AObjKdlkoGkCGDwVwg5UiQPm4dlL95BZAXOHqqtN5IEBAY4mqPdcgQNAjb4ZUFyJAq4i1IdVEHUCCk5M64kgYQEk9EhfHNRhAzsuEkJbrIEDLr5ddbEAUQFZsQUhFhiFAKSsI2PDcGEC4uOI0oO0aQApcUIAGFhhAPZjIe71WGUBH/cae5IsVQL1pXr4pBiBASV4qhV6PIUBsEi97j+YTQDfSuAVpIB1A/DIswaAJG0CaMuuTFbYaQJ3DZCq/hRxA+rKJvjIfGkAlnyUh3SEaQDTXgIpzbCFA+q0bTEsSHUBjGBxctMYgQGx/tereBRtAL4dS72/OFEDUISHfvrIaQGkSLd+qJSFAzLbq8+etHkCEldB3GYscQDMYbJ0oxyNA+A8uIhy2GUClKMWrqqsgQKbERIS91yBAjdY9hOqBHEDy7LKP0IwZQBCBaSCyIB9AfukJnbVIGEC4coiN8hMbQBJg+ZuqoSBAFQkKEYR0G0Ad3eWBDeYgQMn9oF15UxRAlpFKTlg4IECPaLux+ZQWQNh/6wWXgRhAPhkc+Fy/IUBFAaIlJ14gQDWSeM5s2BZA2zHlxJPhE0DTKASlpKEgQAg948s6nhdA/EkvsustH0AARHgSF9UVQPWvX2PJ5hxAHtBoZVuOHkDHuH/yvh4gQGlVrAti+BVAYqRU0LqBGUDyRvPITbYYQFwWElBzYCBA2Y1Swhf2GUA74csuooYdQAny8BV36yFA9tCeJ3mXGUCtHL8u/pIdQN7zRmiXVBtAv6ObRvWyF0BRnRZCc8gVQAt124B4WCBAephEVwUVIECqJGIjJ88XQI2gfpRtyyFAswwXSQO5HUB76p6xBw8fQE2Tn8QpbxNAnP4j1/61G0ByKhpRw1EhQIPqw2DShxhA5HBoOHv/FECUoc6z5fUeQPbUPcTknRpAL+kcmHsdHUBOVjxPWvQXQEbMPfXcfxVAeQ7MvEJrHUAwIq/LmhIcQD6bT0WsNBtA3fpNnIK7GEAABDmPBREZQCmUhxmgIRxANex3c9u3IEBhBEbHHiIWQJvwRAvFUx1Agw/HLtYjHEAYoDCMh5MVQG46rzRj6RlACvXtoWvFHkA6lEf98IUWQJiz+YFzVx5AodWZsAhTHEAyKNKDZtEWQGSTwZR00RtAuKtEPiNKIkAW6Ks+liUVQJ4mgGXddCBAUEdTHVGfF0C4+b27Lg0eQHkHb1fE9RxAYF12R1LuGkBCmnHf+K4eQNn5fphVeCBAFfDve0GnHUD5KGmvQoEaQDT+LPZc9htAdsYtSeNpGkBnBZSU45cbQLBh23/SBCBARHtmCRm0IEByDb07kEIgQFA3AEg7FBlABlmbWhbhHED+kiVxKyAXQKh//UlfAx1AqgikdrqhHkBE720xZikhQJhh2VjgJiNA+LwAGCPjIEDScoM3maMZQPrCTq4JWh9Awn9kJOI7HkCOqT5CIVIaQFM2xLY/hSJASj32ymQ2H0CZiaFlQwQgQA457AERBiFAaMbGpH5pHUB/LAj+f10gQAiPs7IPGBlA3M+QVZkvG0BfU/XEzRYYQLQSa0WIsh1A5YuBupcjIEDT+zIynQIbQL5B6UtZ0SNAN5tMXcv2GEDiemMYVn8aQHteVJgb+xtAnlwEh+IiHUC4ivvkjQwgQFbjua8TTSBAxzBp2cYFG0DTWT4pQRQZQJBYEpbGXhdAZxPVI3bTGECNO6ScJeMgQOz9y5NEZh1Aaxrp2ykgG0CsxG1F8zEbQCHRC+HqQh1AFMwA3R8yGEALupnVA8UbQL8fz0cDFB5AFT3+NzJPHkCi8vdpvcsYQBBGFVw5shNAxhq7PIAaIEAUj3qKmx8WQH8imytIBBVAdP/vL1UQHEB5F76S7xoaQC3/u9eJKSBA8mk8LkMzIUC9cG3PVGEgQPaoXSEtJhdAErYwVjjSH0A8ewHqEtQZQIYv5yNFwxpAqIm3JMaXG0DRbQqGwUgXQKfwF3x00xpASgfo05hDGkCtDnI2CUUcQPOUBQZbzRZAujShswNiIECDDUG7iQ4cQK584NtKtB9A8eXmqSz1GkDAPefZAJMWQN5bk8FbuBhAjMnOkrSiHUAbNMStHJMbQFnsm0ROvRtAKM0sWchuIEAEhonk4z0gQIRs1TSCBCNA+lbUoklVHkA2GCJDOHcdQML6PCaCThhAuS9ObIefIEAEWoTecmgaQIiFdBKVZRZAU0Xlg5EjF0AplV2neroWQAAkFDhdRBpAM4tgedrTGUCE2umeJAYaQO2PUW25SRxApi8pdcSrHkCq5K2IltkgQL+puKUDlR1AvhDf1J5lE0ACHkOwVoAaQDlHWKgaQBNAjkmuiw9qH0CtexkndUUfQIBJHK0f9BVA11ULCCDpE0CSDscEVdkcQFjO16jTURxAjkqmJnPvH0CstXduO+gUQOYBnRmIxBpA4G591C9EGkACcgaOikUbQP82De+eACBASgYlKzoUIUBiQ/ZXc6MUQLMl3o1eOh5AhSw2RhX1HkCQk2iGbt4ZQBxOy6WhYCBAqlVFESaMHUDQgy0sNs4TQAD0bTKj5RxAGsXtVXEgIEAfOZ9Akp8aQJ6rJ+yGNSFAFWNMS9lvHUC+oiUR4WQgQGAcUE419RdAE4oz/E7EIkBI+P5sHYEiQGAhUe7ghBpAQgUk2IzGHkBC1/6OXQkZQCUR5Hkx4CBAiIAUeJHvGkBLBsvN8NsdQJAfClv4YiFAf2p6rJynFUAgDeJayEEaQMNzfoePnhJAgmiRN80dG0BKeEzPPZgdQMk2o/QwnSBAiUN6NjAKG0DCApGFiTsgQNuOB6nHgBpAPyo3SQF+FUA92nE9O7EWQGpZzlYcYCFACoVH70kpIEBGPss2lakRQFsPYn+Q8B1A9F3lZyF6FkDgmClBKNoeQKUNh2uTCh5A8Yp6PCVuGEBoFG4USvMXQLMJaDHVnBZAwuHQalHhGEDNVk/cHjQcQGp6oBDu0xhAcGL708E4G0ACZ6jLf5ccQP8ZrftsYR5AEsFT/p7SGUD5UxbXDakZQMHMIq4j8BtA/leHrLHqGUBO6ZnTkBEhQAGFaeN8ex5AoeyJTatxG0BdLzSKca4YQEzQCaW+cR5AFLX/+yktHkBCInljZWYbQEd0czfYZB5ASnjutFuYHEB58+A8TZoZQIdpGnG+mx5A+KRq4JuoHEDdGf0YdPAUQJmx7V5orhtAj/VJmBz0IEA7qLwl2I8dQLmBDIar/RxADGd+j8bKIEDLnrdO/3kgQCyW1Hm8ySBAyYqsJ3CtGUBVDFrJqKIeQEDGwo6Ejh1AbDD0CTcoGkCQ3HLo7PgXQHJcNDDiexpAeLGuakvSGECramOWK5wYQIoErfBCkiBAfz4ZyoCAGEDVr3yHiu4bQP+FjHWSOx5A3eZ84HOnGkC0vsc1KAkeQFTcsMhtjBxASObSwQccIEDWkWNX3v4XQIFH+e6jiBpAjH9acv/mG0CmAY1vlPAYQO4sKhFgTSBAOnMz0MhpIkAFe8kFfr4WQCzvDejQuhtAWr3z51mTFkCnh0AetuUXQGLLckV41CFALPveuhhkHUBJEcjodtIXQIGqTQZ5RhVAT730nHRaHkAiFD+IvJkdQDArii8iCh1ANbdIniF2GEC9eR16RN4ZQFxbMke9UB9A3ho6ZRHHHUB0oAHML/cRQFFQ6AwJkBtARiVS2ZeHG0AZjnIQbo0XQDVdIpNplyNAXZ7lWyUwG0CdQHtSYLUcQC/mGu70qBxA4LEMukQhGEBIBiJWMHYYQGWQwK0PFh5Ai2G6+xeuIUBBXWGfD6sVQGqJWjtwbh9AN6LeqA8NFEBGBvGgU5QdQHOIYgBabRVArlRIpHu1GEDKOxoeqjIbQAHqkXKXihxA29M0KQ/JHUCkQg9ZVwgbQGHIHfbycRpAf2HYEoY8HEDERlX8apUUQEmzNvcb5RxAHAzJZGpWH0C6gFtAvlkcQLOMI0aq/hpA6i7GqqVSGUBk4aH1ZZUZQIUky+zgMCBAnybm735vIEB3SfpvQy8XQBLHReRnhBVAKs/VkMa+IkD8xDMwkQIeQMxSRDP5OxpAItIGiqV5HEBILuxZUBoSQB6Crn6PthpAHjWWh307HkA0nJKU2LEdQBB2o6n2nxlA9t9zJg1AIUBSpaN56qYbQGszUgXT1htAOIajiBC9HECNL/8qSHgZQIeUZcnyshJAO5ZxVTMPG0ApvPCWeSIZQAkGHiPWMRpAjc8ZSngtHEA+eU5Z0WQcQG4/98mVBRxA8h50aZouG0BHWLr1928jQECQ0rjszhFAuuP59jOyIECqR71ZU8AgQH8byNVXdhhA7HgcUoiHIkCXonlGyzQeQMrGIKzb/xtA3W/NxHW6HUBwUuivHl0jQEULC1DzBiBAAZiUHRS+GkB/lnLIe2YWQMqAWawJzRhAqHWrak7uG0CQxZUAfToZQDJmUwpWFiBApL7cnYkaGUAA6jWNxkwdQK5UfePILx1AxoC0wO7pIEAQdozZp0cTQE5Ysie6PxlAp94JoGS9GUBq7Wcw44EeQMCeC+DMjhtAtnZSZBhEGECyRmzUcTcbQA44jlRekxxA68QZEY5CHEAGYyTkDT4bQPALQKYbhSBAmF1ytFK+F0DaSYkzTjURQGcyRMnRiBlAh90keqtIIkAjLznLIwYgQKiDkKFRMRhAc+39O/QxHECGgP86SJoYQN8vXlhvoCJAC9fQE7+GHkBbeZp8lPoZQJTNKD2PcB5AyIEf6gToHkA/ate6RqogQMtizyAM4htAkkq7oXvwH0BLuyZlCPUgQEgEeIhdRiJA0C6LXJ8LIUB0aVuv+7UXQFDhGcqfhR1AlvenNR7bHUD39ubl2r8aQL6GrteJvx1A7ypYUCTfF0Beyk9cEQkhQI/t7JFFKBxAkltk7S23G0BhPHMVT2ceQOahcNPgdhpAKzxzGl0UH0BrIR0JbjsfQFbqFWl30xRAjATvgFxjGUCp9NuKJmQgQMuTBbmXJyBAqQdzi0CCGEAlilseZWcVQLqCWVakxhdA4non3aurGEBHsOvRetASQC7UJG3cVhdAwgJv029bG0B6jk196nwgQInggUpdpB5A/rGKUOYeIkAoT4Qy79McQLYBWZFw+htAp70NnLjOIEBllSy/gekeQBSTUnkvjBhAxyZgP8PGHkDwp8Je5iQdQMMHRMdaVh1Avgj+ZmGEFkCH2wJoxX4XQDDTwEcY0B1AMabpWcNVF0CAtG83/lcbQJSJqHTH8RdABfHAdgDzHUAl9xYuYpEcQNCJ3tF/0BVAGY3TpWWjIEAYDCCtMoIdQKEvC7ZupBdAw0gvlCvOG0AaPzRtUCkZQPx5hbHSjBRA7nfFk9piE0B9OHLVgskZQKQlEHbbPxxArIJB/LQcH0D+8QzPvPgeQPH3NYhMKyBA209m23OlF0DeyzzpSF8ZQB1TZ11jzx9AVc1GqOJnGUCz+7fnkyYfQPWyi6baxxxA07RtajL2FUBkJN9A/UYgQMtInbztSh9ARh0oQumpF0Cete0garIeQMOfMfeKoRhAQnMH2dtqHUCrtTf2/9geQBGbiBDYph9AW5+4pFM4IEARbFrALAwUQPzefFGgYSBA/CYUR6iyH0BUxUEZbKsbQLMOWGSvUSFAJPMdDMIpIEAo75Kx7AwbQKTNrg2+IBhAIVDjq8aUIEB9vNmGUp8YQOTx+LOhqyBAr4LCHTOhFEBKci040AsjQGK0c8qaAxpAvdW9HYVOIEBcEyKn/fYbQCI3MJQ5uBhAlgSHXEYQHUBqHlN//pYYQFQRwJskWB5A+Ea2Bp1IH0DIkunhfAMZQBkBVd15ORxAnkVTZ56WIUDmFwFxSEAVQFp5svEikRRAAMp7gE18IUCdXknwfGUhQOguWXG6dRtA1yt1br9KH0BPv+6d8KogQHcpD7M4ARhAAIvhDbMcGEDLv1frXkMgQNGl/zD5dB5AmhASbqYGH0AHyOf/qxMUQDcOM5MYuSJArngdx/u3G0BUu9cBFrIbQH18ni2TBSBAyHfeVCD8IkDaUZiBTuMgQD5IIQARzhdAnPcWlM+kGUDQfkRbyUMaQATNkgxE3R1AsOUDtVh1FUBWCifepd8YQNa0xrcgVR1AgFYQhvQMFkBc3mOU1GYbQF2yunMuIBdAelIm5QrZHkBBjKsjhvocQCMp3gDxlBdASzQMcqGtHkAY7J2nSOoYQDUgAMLVOSFALAQL86EaHkCktyD8xCAaQCY+wMWUzhVA2BhORPsLIEBkasHrnkkcQDw1gN3OyhlAhsM/X89FI0D/Z8tn1rAZQChq3nYEISBAmViCf/yDHEA+Gcnql8kbQP32i9M/YiFAMp1ZHW53GEBqfbrtgWcgQOIhP9fpdh1ADgJytG3sF0B4/Rgx4FQdQAbWXzBL9hlAGQsgaDJLHECVPoaJsmAWQNUC4jmy/xhAm83CKxJ8GkAAx53mPJQbQLo8C0ZvZR9ALaQk9uBUH0AZRsn4KuoVQEAcWm5UShlAjzBpfUl/GkCFrR1szR4cQKaxKOO+HR5AxwRQ46sJHEDpkY4c3zoZQFl4pWN1VBpAYeNztgGZF0DVwy0aZTEfQKRnRvnc1hpAafWxpj5+G0Dar3lLTjQVQG4GIl3+pxhAFmA+5clxHEAeJhnBILcdQEYJ/SNpVBhATiKEzyPvGkDsF7gUhQ0dQLyjsP4yZx9AwqonyeeIIUBpZO5+YGgdQL/qLXhzZhdA4G8VQxpkGkBhl5xudGMVQKIqtkiSaBxA1RRjrOHlF0DmND96J1khQDGAUxnCjhdAloXQ89MQG0AnrV03o6UYQEcbU37f8yJAWGYkwMqPG0CDCaP613oiQIYCIPIKJhpAJMFV8ABYHkBS7Sl6TdkfQBx2P/jKgR1ABB2euSMHGUCWYZndQo4ZQChaLLpddyFAQHPMo79eIUCwItZdNWoWQCFuZKHsfhpATZoW7BnoIkDKLT1VSF0iQLwjQVqmOxpA8SQjSbnIHUDQVG3MWPsZQEqj2YCmgxJAtW7HGydJFkB3WTxsI/0dQO1EpVfg0RhARk+PWvsdG0AWw+LcP74bQA6J4pdTXyNA5Cxr6D81HkBIvZzMygYjQOvQGeJd2RpAfoXd/C/MHECjU0bq0ysZQFLro3enWx1ArF53sQtpGUDPDGr3ajEdQNxczdZK9xlAL7Rdi677GkB37fB+5FcgQJ38CYk+JBhAgJhwhouuGECY/pJJSWAYQGFf44oPAB1AcB3vEWKNFkDZkJuG6iIgQO6k8IVZFCJAqqlrokGlGEC3aFK7oTQXQPwVRY0zrRxAcU/41lIeHkA3fYvHGoUeQEt2xpOs6BpATdSl3kwAGUBm6uR7fB0dQDQEia6zyCFA2i8gARx4G0D6FRioFtoZQIYo+zuTLBpAH4niaX4qGkBy5qJl4q8fQEhjyRdP+yJAEkNLowVuGUAl0tgIaxIbQPJaQIT9LhFAGhYYFbrvF0CIsxlxHc0bQBmvIf4BeR5AcLQk20lzF0DHeXX60ogaQF+3OmLA4hxATUTU4Tn3HkCsVQcFIGscQEvpSOUDnxNA1LQccPeWGEAebpobbUwgQKLBXcvvQBVABRiJa+TwH0Aw5jbHWhEcQN9V39VjXR9AnpLoiTaKHEAhDHRNnUYgQLX8SyHZ6R5A4mwQ9Tm0FkBMD/TAQtQgQL4N82Q8GSBAH4tQlu/iIEAAAAAAAAAkQEQxJxZZ1BRA0qb5F8b6IEBxAGwzH7MeQNTcdib5dxpAgx0lg9v1HECKt6GiYXYZQHcz7NVEQxpA+/ZVbeRxIECcvmc45bcXQI43N6iJih5AqdhoHK+WFkAQ+yK0Xp8aQOcRP9EUfxxAYnX2PZ5BI0DNu5NuFF0ZQM4rPuHzzR1AwUSML7poGkBrrljVL5QhQCp1TIdh6B1AkHYfnlVgIUCQEpjjCkMdQD9FL+wTsx5AUmRl1Xn5GkBHoN7TUV0gQAlQXYOu6xxA1Nl10fFNG0BYQFfrn8YbQDAOEWm5sRlAwmJFnvXgH0BimQnq0zwYQFrfFX+I8xlA0VqQfZfRHUB6Uzryjt8iQKr9JcDI9B5AFxy6Qp4dHUC6vK97xhcgQIgMn5B1zxRA3r3DNOZ1GEB0AjtYyw8gQCcsYYzVNB9AUGhfiukAF0BC0sSz+GMdQF4G9GssfBdA41bZeEYNGUA83I/lHVkbQKJKLOvkHx1ACVn/jAQAIEAAZbXVxRcbQA6dP6XXSSFA+ojlcfwdFUA3UpNDM7IXQHzC6qhGWhBA/DiVdeJDG0Dk+MV1M4MXQMpjP3GuIh9AUsS9CzuLH0AaD9BVHb0ZQECv8OVomSJAg/sCNI63GEDTyu/1wngiQCasgqRuASBA7XX4GACdHEBe60zO8KsgQHpe9ISQzRlA1sG5SCtKG0ABW0+BOwoeQIni4feW5RpAvV4Infu+GkAbWcpaCKUfQOlw99z0fR9AAqIgg00ZG0DjEB3y45MfQDRrunC4DRZAhuM4TWWSGECXNg5r3UMWQHAfajG6vBlAI8jryLAkGkB6LrRxYTMgQKDiE2Lrkx1AHzF8WnerFkCWZTR1268eQAEV35soBRJANRCX68f8GEDY7MjjruseQDMzK5/HMx9A6JtRHYisIEDg/3Z7a3EbQGdLb07hxxxAP1qOqYyxFkBFcTLv53MVQLqsNRoLDyBAJq0mDU7uHkD8gYrGb7gXQO4GG50l5iFAJgkKTiK9IECMJnn0M80XQP3phywufRtAD1SR/mRGGUBC1Q258fIVQEpyq0aWZxtAKYTOFuMbIUAyWg3E6vIZQCBH7oMXWxtAc8dJLI44HUA=",
          "dtype": "f8"
         },
         "xaxis": "x15",
         "y": {
          "bdata": "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",
          "dtype": "f8"
         },
         "yaxis": "y15"
        },
        {
         "name": "product_price",
         "showlegend": false,
         "type": "histogram",
         "x": {
          "bdata": "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",
          "dtype": "f8"
         },
         "xaxis": "x16",
         "yaxis": "y16"
        }
       ],
       "layout": {
        "annotations": [
         {
          "font": {
           "size": 16
          },
          "showarrow": false,
          "text": "sales_amount vs sales_amount",
          "x": 0.10625,
          "xanchor": "center",
          "xref": "paper",
          "y": 1,
          "yanchor": "bottom",
          "yref": "paper"
         },
         {
          "font": {
           "size": 16
          },
          "showarrow": false,
          "text": "sales_amount vs marketing_spend",
          "x": 0.36875,
          "xanchor": "center",
          "xref": "paper",
          "y": 1,
          "yanchor": "bottom",
          "yref": "paper"
         },
         {
          "font": {
           "size": 16
          },
          "showarrow": false,
          "text": "sales_amount vs customer_satisfaction",
          "x": 0.6312500000000001,
          "xanchor": "center",
          "xref": "paper",
          "y": 1,
          "yanchor": "bottom",
          "yref": "paper"
         },
         {
          "font": {
           "size": 16
          },
          "showarrow": false,
          "text": "sales_amount vs product_price",
          "x": 0.89375,
          "xanchor": "center",
          "xref": "paper",
          "y": 1,
          "yanchor": "bottom",
          "yref": "paper"
         },
         {
          "font": {
           "size": 16
          },
          "showarrow": false,
          "text": "marketing_spend vs sales_amount",
          "x": 0.10625,
          "xanchor": "center",
          "xref": "paper",
          "y": 0.71875,
          "yanchor": "bottom",
          "yref": "paper"
         },
         {
          "font": {
           "size": 16
          },
          "showarrow": false,
          "text": "marketing_spend vs marketing_spend",
          "x": 0.36875,
          "xanchor": "center",
          "xref": "paper",
          "y": 0.71875,
          "yanchor": "bottom",
          "yref": "paper"
         },
         {
          "font": {
           "size": 16
          },
          "showarrow": false,
          "text": "marketing_spend vs customer_satisfaction",
          "x": 0.6312500000000001,
          "xanchor": "center",
          "xref": "paper",
          "y": 0.71875,
          "yanchor": "bottom",
          "yref": "paper"
         },
         {
          "font": {
           "size": 16
          },
          "showarrow": false,
          "text": "marketing_spend vs product_price",
          "x": 0.89375,
          "xanchor": "center",
          "xref": "paper",
          "y": 0.71875,
          "yanchor": "bottom",
          "yref": "paper"
         },
         {
          "font": {
           "size": 16
          },
          "showarrow": false,
          "text": "customer_satisfaction vs sales_amount",
          "x": 0.10625,
          "xanchor": "center",
          "xref": "paper",
          "y": 0.4375,
          "yanchor": "bottom",
          "yref": "paper"
         },
         {
          "font": {
           "size": 16
          },
          "showarrow": false,
          "text": "customer_satisfaction vs marketing_spend",
          "x": 0.36875,
          "xanchor": "center",
          "xref": "paper",
          "y": 0.4375,
          "yanchor": "bottom",
          "yref": "paper"
         },
         {
          "font": {
           "size": 16
          },
          "showarrow": false,
          "text": "customer_satisfaction vs customer_satisfaction",
          "x": 0.6312500000000001,
          "xanchor": "center",
          "xref": "paper",
          "y": 0.4375,
          "yanchor": "bottom",
          "yref": "paper"
         },
         {
          "font": {
           "size": 16
          },
          "showarrow": false,
          "text": "customer_satisfaction vs product_price",
          "x": 0.89375,
          "xanchor": "center",
          "xref": "paper",
          "y": 0.4375,
          "yanchor": "bottom",
          "yref": "paper"
         },
         {
          "font": {
           "size": 16
          },
          "showarrow": false,
          "text": "product_price vs sales_amount",
          "x": 0.10625,
          "xanchor": "center",
          "xref": "paper",
          "y": 0.15625,
          "yanchor": "bottom",
          "yref": "paper"
         },
         {
          "font": {
           "size": 16
          },
          "showarrow": false,
          "text": "product_price vs marketing_spend",
          "x": 0.36875,
          "xanchor": "center",
          "xref": "paper",
          "y": 0.15625,
          "yanchor": "bottom",
          "yref": "paper"
         },
         {
          "font": {
           "size": 16
          },
          "showarrow": false,
          "text": "product_price vs customer_satisfaction",
          "x": 0.6312500000000001,
          "xanchor": "center",
          "xref": "paper",
          "y": 0.15625,
          "yanchor": "bottom",
          "yref": "paper"
         },
         {
          "font": {
           "size": 16
          },
          "showarrow": false,
          "text": "product_price vs product_price",
          "x": 0.89375,
          "xanchor": "center",
          "xref": "paper",
          "y": 0.15625,
          "yanchor": "bottom",
          "yref": "paper"
         }
        ],
        "height": 800,
        "template": {
         "data": {
          "bar": [
           {
            "error_x": {
             "color": "#2a3f5f"
            },
            "error_y": {
             "color": "#2a3f5f"
            },
            "marker": {
             "line": {
              "color": "#E5ECF6",
              "width": 0.5
             },
             "pattern": {
              "fillmode": "overlay",
              "size": 10,
              "solidity": 0.2
             }
            },
            "type": "bar"
           }
          ],
          "barpolar": [
           {
            "marker": {
             "line": {
              "color": "#E5ECF6",
              "width": 0.5
             },
             "pattern": {
              "fillmode": "overlay",
              "size": 10,
              "solidity": 0.2
             }
            },
            "type": "barpolar"
           }
          ],
          "carpet": [
           {
            "aaxis": {
             "endlinecolor": "#2a3f5f",
             "gridcolor": "white",
             "linecolor": "white",
             "minorgridcolor": "white",
             "startlinecolor": "#2a3f5f"
            },
            "baxis": {
             "endlinecolor": "#2a3f5f",
             "gridcolor": "white",
             "linecolor": "white",
             "minorgridcolor": "white",
             "startlinecolor": "#2a3f5f"
            },
            "type": "carpet"
           }
          ],
          "choropleth": [
           {
            "colorbar": {
             "outlinewidth": 0,
             "ticks": ""
            },
            "type": "choropleth"
           }
          ],
          "contour": [
           {
            "colorbar": {
             "outlinewidth": 0,
             "ticks": ""
            },
            "colorscale": [
             [
              0,
              "#0d0887"
             ],
             [
              0.1111111111111111,
              "#46039f"
             ],
             [
              0.2222222222222222,
              "#7201a8"
             ],
             [
              0.3333333333333333,
              "#9c179e"
             ],
             [
              0.4444444444444444,
              "#bd3786"
             ],
             [
              0.5555555555555556,
              "#d8576b"
             ],
             [
              0.6666666666666666,
              "#ed7953"
             ],
             [
              0.7777777777777778,
              "#fb9f3a"
             ],
             [
              0.8888888888888888,
              "#fdca26"
             ],
             [
              1,
              "#f0f921"
             ]
            ],
            "type": "contour"
           }
          ],
          "contourcarpet": [
           {
            "colorbar": {
             "outlinewidth": 0,
             "ticks": ""
            },
            "type": "contourcarpet"
           }
          ],
          "heatmap": [
           {
            "colorbar": {
             "outlinewidth": 0,
             "ticks": ""
            },
            "colorscale": [
             [
              0,
              "#0d0887"
             ],
             [
              0.1111111111111111,
              "#46039f"
             ],
             [
              0.2222222222222222,
              "#7201a8"
             ],
             [
              0.3333333333333333,
              "#9c179e"
             ],
             [
              0.4444444444444444,
              "#bd3786"
             ],
             [
              0.5555555555555556,
              "#d8576b"
             ],
             [
              0.6666666666666666,
              "#ed7953"
             ],
             [
              0.7777777777777778,
              "#fb9f3a"
             ],
             [
              0.8888888888888888,
              "#fdca26"
             ],
             [
              1,
              "#f0f921"
             ]
            ],
            "type": "heatmap"
           }
          ],
          "histogram": [
           {
            "marker": {
             "pattern": {
              "fillmode": "overlay",
              "size": 10,
              "solidity": 0.2
             }
            },
            "type": "histogram"
           }
          ],
          "histogram2d": [
           {
            "colorbar": {
             "outlinewidth": 0,
             "ticks": ""
            },
            "colorscale": [
             [
              0,
              "#0d0887"
             ],
             [
              0.1111111111111111,
              "#46039f"
             ],
             [
              0.2222222222222222,
              "#7201a8"
             ],
             [
              0.3333333333333333,
              "#9c179e"
             ],
             [
              0.4444444444444444,
              "#bd3786"
             ],
             [
              0.5555555555555556,
              "#d8576b"
             ],
             [
              0.6666666666666666,
              "#ed7953"
             ],
             [
              0.7777777777777778,
              "#fb9f3a"
             ],
             [
              0.8888888888888888,
              "#fdca26"
             ],
             [
              1,
              "#f0f921"
             ]
            ],
            "type": "histogram2d"
           }
          ],
          "histogram2dcontour": [
           {
            "colorbar": {
             "outlinewidth": 0,
             "ticks": ""
            },
            "colorscale": [
             [
              0,
              "#0d0887"
             ],
             [
              0.1111111111111111,
              "#46039f"
             ],
             [
              0.2222222222222222,
              "#7201a8"
             ],
             [
              0.3333333333333333,
              "#9c179e"
             ],
             [
              0.4444444444444444,
              "#bd3786"
             ],
             [
              0.5555555555555556,
              "#d8576b"
             ],
             [
              0.6666666666666666,
              "#ed7953"
             ],
             [
              0.7777777777777778,
              "#fb9f3a"
             ],
             [
              0.8888888888888888,
              "#fdca26"
             ],
             [
              1,
              "#f0f921"
             ]
            ],
            "type": "histogram2dcontour"
           }
          ],
          "mesh3d": [
           {
            "colorbar": {
             "outlinewidth": 0,
             "ticks": ""
            },
            "type": "mesh3d"
           }
          ],
          "parcoords": [
           {
            "line": {
             "colorbar": {
              "outlinewidth": 0,
              "ticks": ""
             }
            },
            "type": "parcoords"
           }
          ],
          "pie": [
           {
            "automargin": true,
            "type": "pie"
           }
          ],
          "scatter": [
           {
            "fillpattern": {
             "fillmode": "overlay",
             "size": 10,
             "solidity": 0.2
            },
            "type": "scatter"
           }
          ],
          "scatter3d": [
           {
            "line": {
             "colorbar": {
              "outlinewidth": 0,
              "ticks": ""
             }
            },
            "marker": {
             "colorbar": {
              "outlinewidth": 0,
              "ticks": ""
             }
            },
            "type": "scatter3d"
           }
          ],
          "scattercarpet": [
           {
            "marker": {
             "colorbar": {
              "outlinewidth": 0,
              "ticks": ""
             }
            },
            "type": "scattercarpet"
           }
          ],
          "scattergeo": [
           {
            "marker": {
             "colorbar": {
              "outlinewidth": 0,
              "ticks": ""
             }
            },
            "type": "scattergeo"
           }
          ],
          "scattergl": [
           {
            "marker": {
             "colorbar": {
              "outlinewidth": 0,
              "ticks": ""
             }
            },
            "type": "scattergl"
           }
          ],
          "scattermap": [
           {
            "marker": {
             "colorbar": {
              "outlinewidth": 0,
              "ticks": ""
             }
            },
            "type": "scattermap"
           }
          ],
          "scattermapbox": [
           {
            "marker": {
             "colorbar": {
              "outlinewidth": 0,
              "ticks": ""
             }
            },
            "type": "scattermapbox"
           }
          ],
          "scatterpolar": [
           {
            "marker": {
             "colorbar": {
              "outlinewidth": 0,
              "ticks": ""
             }
            },
            "type": "scatterpolar"
           }
          ],
          "scatterpolargl": [
           {
            "marker": {
             "colorbar": {
              "outlinewidth": 0,
              "ticks": ""
             }
            },
            "type": "scatterpolargl"
           }
          ],
          "scatterternary": [
           {
            "marker": {
             "colorbar": {
              "outlinewidth": 0,
              "ticks": ""
             }
            },
            "type": "scatterternary"
           }
          ],
          "surface": [
           {
            "colorbar": {
             "outlinewidth": 0,
             "ticks": ""
            },
            "colorscale": [
             [
              0,
              "#0d0887"
             ],
             [
              0.1111111111111111,
              "#46039f"
             ],
             [
              0.2222222222222222,
              "#7201a8"
             ],
             [
              0.3333333333333333,
              "#9c179e"
             ],
             [
              0.4444444444444444,
              "#bd3786"
             ],
             [
              0.5555555555555556,
              "#d8576b"
             ],
             [
              0.6666666666666666,
              "#ed7953"
             ],
             [
              0.7777777777777778,
              "#fb9f3a"
             ],
             [
              0.8888888888888888,
              "#fdca26"
             ],
             [
              1,
              "#f0f921"
             ]
            ],
            "type": "surface"
           }
          ],
          "table": [
           {
            "cells": {
             "fill": {
              "color": "#EBF0F8"
             },
             "line": {
              "color": "white"
             }
            },
            "header": {
             "fill": {
              "color": "#C8D4E3"
             },
             "line": {
              "color": "white"
             }
            },
            "type": "table"
           }
          ]
         },
         "layout": {
          "annotationdefaults": {
           "arrowcolor": "#2a3f5f",
           "arrowhead": 0,
           "arrowwidth": 1
          },
          "autotypenumbers": "strict",
          "coloraxis": {
           "colorbar": {
            "outlinewidth": 0,
            "ticks": ""
           }
          },
          "colorscale": {
           "diverging": [
            [
             0,
             "#8e0152"
            ],
            [
             0.1,
             "#c51b7d"
            ],
            [
             0.2,
             "#de77ae"
            ],
            [
             0.3,
             "#f1b6da"
            ],
            [
             0.4,
             "#fde0ef"
            ],
            [
             0.5,
             "#f7f7f7"
            ],
            [
             0.6,
             "#e6f5d0"
            ],
            [
             0.7,
             "#b8e186"
            ],
            [
             0.8,
             "#7fbc41"
            ],
            [
             0.9,
             "#4d9221"
            ],
            [
             1,
             "#276419"
            ]
           ],
           "sequential": [
            [
             0,
             "#0d0887"
            ],
            [
             0.1111111111111111,
             "#46039f"
            ],
            [
             0.2222222222222222,
             "#7201a8"
            ],
            [
             0.3333333333333333,
             "#9c179e"
            ],
            [
             0.4444444444444444,
             "#bd3786"
            ],
            [
             0.5555555555555556,
             "#d8576b"
            ],
            [
             0.6666666666666666,
             "#ed7953"
            ],
            [
             0.7777777777777778,
             "#fb9f3a"
            ],
            [
             0.8888888888888888,
             "#fdca26"
            ],
            [
             1,
             "#f0f921"
            ]
           ],
           "sequentialminus": [
            [
             0,
             "#0d0887"
            ],
            [
             0.1111111111111111,
             "#46039f"
            ],
            [
             0.2222222222222222,
             "#7201a8"
            ],
            [
             0.3333333333333333,
             "#9c179e"
            ],
            [
             0.4444444444444444,
             "#bd3786"
            ],
            [
             0.5555555555555556,
             "#d8576b"
            ],
            [
             0.6666666666666666,
             "#ed7953"
            ],
            [
             0.7777777777777778,
             "#fb9f3a"
            ],
            [
             0.8888888888888888,
             "#fdca26"
            ],
            [
             1,
             "#f0f921"
            ]
           ]
          },
          "colorway": [
           "#636efa",
           "#EF553B",
           "#00cc96",
           "#ab63fa",
           "#FFA15A",
           "#19d3f3",
           "#FF6692",
           "#B6E880",
           "#FF97FF",
           "#FECB52"
          ],
          "font": {
           "color": "#2a3f5f"
          },
          "geo": {
           "bgcolor": "white",
           "lakecolor": "white",
           "landcolor": "#E5ECF6",
           "showlakes": true,
           "showland": true,
           "subunitcolor": "white"
          },
          "hoverlabel": {
           "align": "left"
          },
          "hovermode": "closest",
          "mapbox": {
           "style": "light"
          },
          "paper_bgcolor": "white",
          "plot_bgcolor": "#E5ECF6",
          "polar": {
           "angularaxis": {
            "gridcolor": "white",
            "linecolor": "white",
            "ticks": ""
           },
           "bgcolor": "#E5ECF6",
           "radialaxis": {
            "gridcolor": "white",
            "linecolor": "white",
            "ticks": ""
           }
          },
          "scene": {
           "xaxis": {
            "backgroundcolor": "#E5ECF6",
            "gridcolor": "white",
            "gridwidth": 2,
            "linecolor": "white",
            "showbackground": true,
            "ticks": "",
            "zerolinecolor": "white"
           },
           "yaxis": {
            "backgroundcolor": "#E5ECF6",
            "gridcolor": "white",
            "gridwidth": 2,
            "linecolor": "white",
            "showbackground": true,
            "ticks": "",
            "zerolinecolor": "white"
           },
           "zaxis": {
            "backgroundcolor": "#E5ECF6",
            "gridcolor": "white",
            "gridwidth": 2,
            "linecolor": "white",
            "showbackground": true,
            "ticks": "",
            "zerolinecolor": "white"
           }
          },
          "shapedefaults": {
           "line": {
            "color": "#2a3f5f"
           }
          },
          "ternary": {
           "aaxis": {
            "gridcolor": "white",
            "linecolor": "white",
            "ticks": ""
           },
           "baxis": {
            "gridcolor": "white",
            "linecolor": "white",
            "ticks": ""
           },
           "bgcolor": "#E5ECF6",
           "caxis": {
            "gridcolor": "white",
            "linecolor": "white",
            "ticks": ""
           }
          },
          "title": {
           "x": 0.05
          },
          "xaxis": {
           "automargin": true,
           "gridcolor": "white",
           "linecolor": "white",
           "ticks": "",
           "title": {
            "standoff": 15
           },
           "zerolinecolor": "white",
           "zerolinewidth": 2
          },
          "yaxis": {
           "automargin": true,
           "gridcolor": "white",
           "linecolor": "white",
           "ticks": "",
           "title": {
            "standoff": 15
           },
           "zerolinecolor": "white",
           "zerolinewidth": 2
          }
         }
        },
        "title": {
         "text": "Pairplot of Key Variables"
        },
        "xaxis": {
         "anchor": "y",
         "domain": [
          0,
          0.2125
         ]
        },
        "xaxis10": {
         "anchor": "y10",
         "domain": [
          0.2625,
          0.475
         ]
        },
        "xaxis11": {
         "anchor": "y11",
         "domain": [
          0.525,
          0.7375
         ]
        },
        "xaxis12": {
         "anchor": "y12",
         "domain": [
          0.7875,
          1
         ]
        },
        "xaxis13": {
         "anchor": "y13",
         "domain": [
          0,
          0.2125
         ]
        },
        "xaxis14": {
         "anchor": "y14",
         "domain": [
          0.2625,
          0.475
         ]
        },
        "xaxis15": {
         "anchor": "y15",
         "domain": [
          0.525,
          0.7375
         ]
        },
        "xaxis16": {
         "anchor": "y16",
         "domain": [
          0.7875,
          1
         ]
        },
        "xaxis2": {
         "anchor": "y2",
         "domain": [
          0.2625,
          0.475
         ]
        },
        "xaxis3": {
         "anchor": "y3",
         "domain": [
          0.525,
          0.7375
         ]
        },
        "xaxis4": {
         "anchor": "y4",
         "domain": [
          0.7875,
          1
         ]
        },
        "xaxis5": {
         "anchor": "y5",
         "domain": [
          0,
          0.2125
         ]
        },
        "xaxis6": {
         "anchor": "y6",
         "domain": [
          0.2625,
          0.475
         ]
        },
        "xaxis7": {
         "anchor": "y7",
         "domain": [
          0.525,
          0.7375
         ]
        },
        "xaxis8": {
         "anchor": "y8",
         "domain": [
          0.7875,
          1
         ]
        },
        "xaxis9": {
         "anchor": "y9",
         "domain": [
          0,
          0.2125
         ]
        },
        "yaxis": {
         "anchor": "x",
         "domain": [
          0.84375,
          1
         ]
        },
        "yaxis10": {
         "anchor": "x10",
         "domain": [
          0.28125,
          0.4375
         ]
        },
        "yaxis11": {
         "anchor": "x11",
         "domain": [
          0.28125,
          0.4375
         ]
        },
        "yaxis12": {
         "anchor": "x12",
         "domain": [
          0.28125,
          0.4375
         ]
        },
        "yaxis13": {
         "anchor": "x13",
         "domain": [
          0,
          0.15625
         ]
        },
        "yaxis14": {
         "anchor": "x14",
         "domain": [
          0,
          0.15625
         ]
        },
        "yaxis15": {
         "anchor": "x15",
         "domain": [
          0,
          0.15625
         ]
        },
        "yaxis16": {
         "anchor": "x16",
         "domain": [
          0,
          0.15625
         ]
        },
        "yaxis2": {
         "anchor": "x2",
         "domain": [
          0.84375,
          1
         ]
        },
        "yaxis3": {
         "anchor": "x3",
         "domain": [
          0.84375,
          1
         ]
        },
        "yaxis4": {
         "anchor": "x4",
         "domain": [
          0.84375,
          1
         ]
        },
        "yaxis5": {
         "anchor": "x5",
         "domain": [
          0.5625,
          0.71875
         ]
        },
        "yaxis6": {
         "anchor": "x6",
         "domain": [
          0.5625,
          0.71875
         ]
        },
        "yaxis7": {
         "anchor": "x7",
         "domain": [
          0.5625,
          0.71875
         ]
        },
        "yaxis8": {
         "anchor": "x8",
         "domain": [
          0.5625,
          0.71875
         ]
        },
        "yaxis9": {
         "anchor": "x9",
         "domain": [
          0.28125,
          0.4375
         ]
        }
       }
      }
     },
     "metadata": {},
     "output_type": "display_data"
    },
    {
     "name": "stdout",
     "output_type": "stream",
     "text": [
      "\n",
      " Correlation analysis complete!\n"
     ]
    }
   ],
   "source": [
    "# 3. CORRELATION ANALYSIS AND HEATMAPS\n",
    "# ====================================\n",
    "\n",
    "print(\"CORRELATION ANALYSIS\")\n",
    "print(\"=\" * 22)\n",
    "\n",
    "# Calculate correlation matrices\n",
    "numeric_data = df[numeric_cols]\n",
    "correlation_matrix = numeric_data.corr()\n",
    "\n",
    "# Create interactive correlation heatmap\n",
    "fig = go.Figure(data=go.Heatmap(\n",
    " z=correlation_matrix.values,\n",
    " x=correlation_matrix.columns,\n",
    " y=correlation_matrix.columns,\n",
    " colorscale='RdBu',\n",
    " zmid=0,\n",
    " text=correlation_matrix.round(3).values,\n",
    " texttemplate=\"%{text}\",\n",
    " textfont={\"size\": 10},\n",
    " hoverongaps=False\n",
    "))\n",
    "\n",
    "fig.update_layout(\n",
    " title=\"Correlation Matrix Heatmap\",\n",
    " width=800, height=600,\n",
    " xaxis_title=\"Variables\",\n",
    " yaxis_title=\"Variables\"\n",
    ")\n",
    "fig.show()\n",
    "\n",
    "# Correlation strength analysis\n",
    "print(\"\\n3.1 Strong Correlations (|r| > 0.5):\")\n",
    "print(\"-\" * 35)\n",
    "strong_corrs = []\n",
    "for i in range(len(correlation_matrix.columns)):\n",
    "    for j in range(i+1, len(correlation_matrix.columns)):\n",
    "        corr_val = correlation_matrix.iloc[i, j]\n",
    "        if abs(corr_val) > 0.5:\n",
    "            strong_corrs.append({\n",
    "                'Variable_1': correlation_matrix.columns[i],\n",
    "                'Variable_2': correlation_matrix.columns[j],\n",
    "                'Correlation': round(corr_val, 3),\n",
    "                'Strength': 'Strong' if abs(corr_val) > 0.7 else 'Moderate'\n",
    "            })\n",
    "\n",
    "if strong_corrs:\n",
    " strong_corr_df = pd.DataFrame(strong_corrs)\n",
    " strong_corr_df = strong_corr_df.sort_values('Correlation', key=abs, ascending=False)\n",
    " print(strong_corr_df.to_string(index=False))\n",
    "else:\n",
    " print(\"No strong correlations found (|r| > 0.5)\")\n",
    "\n",
    "# Pairplot for key relationships\n",
    "print(\"\\n3.2 Creating pairplot for key variables...\")\n",
    "key_vars = ['sales_amount', 'marketing_spend', 'customer_satisfaction', 'product_price']\n",
    "pairplot_data = df[key_vars + ['region']].copy()\n",
    "\n",
    "# Create pairplot with Plotly\n",
    "from plotly.graph_objects import Scatter\n",
    "fig_pair = make_subplots(rows=len(key_vars), cols=len(key_vars),\n",
    " subplot_titles=[f\"{x} vs {y}\" for x in key_vars for y in key_vars])\n",
    "\n",
    "for i, var1 in enumerate(key_vars):\n",
    "    for j, var2 in enumerate(key_vars):\n",
    "        if i == j:\n",
    "            # Diagonal: histogram\n",
    "            fig_pair.add_trace(\n",
    "                go.Histogram(x=df[var1], name=var1, showlegend=False),\n",
    "                row=i+1, col=j+1\n",
    "            )\n",
    "        else:\n",
    "            # Off-diagonal: scatter plot\n",
    "            fig_pair.add_trace(\n",
    "                go.Scatter(x=df[var2], y=df[var1], mode='markers',\n",
    "                          name=f'{var1} vs {var2}', showlegend=False,\n",
    "                          marker=dict(size=4, opacity=0.6)),\n",
    "                row=i+1, col=j+1\n",
    "            )\n",
    "\n",
    "fig_pair.update_layout(height=800, title_text=\"Pairplot of Key Variables\")\n",
    "fig_pair.show()\n",
    "\n",
    "print(\"\\n Correlation analysis complete!\")"
   ]
  },
  {
   "cell_type": "code",
   "execution_count": 10,
   "id": "9baab053",
   "metadata": {},
   "outputs": [
    {
     "name": "stdout",
     "output_type": "stream",
     "text": [
      "PIVOT TABLES & CROSS-TABULATION\n",
      "===================================\n",
      "\n",
      "4.1 Sales Analysis by Region and Product Category:\n",
      "--------------------------------------------------\n",
      "Average Sales by Region and Category:\n",
      "product_category    Books  Clothing  Electronics     Home\n",
      "region                                                   \n",
      "East              48042.0   53472.0      48758.0  48510.0\n",
      "North             49705.0   51515.0      49309.0  51230.0\n",
      "South             52930.0   52301.0      51800.0  52986.0\n",
      "West              44333.0   48549.0      47542.0  50793.0\n",
      "\n",
      "Total Marketing Spend by Region and Category:\n",
      "product_category    Books  Clothing  Electronics      Home\n",
      "region                                                    \n",
      "East              60875.0  192115.0     233719.0  116439.0\n",
      "North             70437.0  228237.0     318527.0  147857.0\n",
      "South             79435.0  236144.0     282411.0   79763.0\n",
      "West              53799.0  121286.0     210715.0  119993.0\n"
     ]
    },
    {
     "data": {
      "application/vnd.plotly.v1+json": {
       "config": {
        "plotlyServerURL": "https://plot.ly"
       },
       "data": [
        {
         "branchvalues": "total",
         "domain": {
          "x": [
           0,
           1
          ],
          "y": [
           0,
           1
          ]
         },
         "hovertemplate": "labels=%{label}<br>sales_amount=%{value}<br>parent=%{parent}<br>id=%{id}<extra></extra>",
         "ids": [
          "South/Electronics",
          "North/Clothing",
          "West/Electronics",
          "East/Electronics",
          "South/Clothing",
          "North/Books",
          "North/Electronics",
          "East/Home",
          "North/Home",
          "South/Home",
          "South/Books",
          "West/Books",
          "East/Books",
          "East/Clothing",
          "West/Home",
          "West/Clothing",
          "South",
          "North",
          "West",
          "East"
         ],
         "labels": [
          "Electronics",
          "Clothing",
          "Electronics",
          "Electronics",
          "Clothing",
          "Books",
          "Electronics",
          "Home",
          "Home",
          "Home",
          "Books",
          "Books",
          "Books",
          "Clothing",
          "Home",
          "Clothing",
          "South",
          "North",
          "West",
          "East"
         ],
         "name": "",
         "parents": [
          "South",
          "North",
          "West",
          "East",
          "South",
          "North",
          "North",
          "East",
          "North",
          "South",
          "South",
          "West",
          "East",
          "East",
          "West",
          "West",
          "",
          "",
          "",
          ""
         ],
         "type": "sunburst",
         "values": {
          "bdata": "zCb+R6YkVUEKrg+haH1RQba1J2jA1E5B9md8nRHbUUGIe6BUScJQQTAqEZuq/jVBok0CFVezV0EGUiDhhSJCQft+xEOGc0dB6arX20XfOUG8itAO7ms3QUNywi45PDBBr2zeiqVTMkECoTaVNiZMQfFxY3ScNkJB2b8lfFYmQkHeV6RL3hxpQdtCXL8WNW1BKIgE/PPTYkFTvq+dLMpmQQ==",
          "dtype": "f8"
         }
        }
       ],
       "layout": {
        "legend": {
         "tracegroupgap": 0
        },
        "template": {
         "data": {
          "bar": [
           {
            "error_x": {
             "color": "#2a3f5f"
            },
            "error_y": {
             "color": "#2a3f5f"
            },
            "marker": {
             "line": {
              "color": "#E5ECF6",
              "width": 0.5
             },
             "pattern": {
              "fillmode": "overlay",
              "size": 10,
              "solidity": 0.2
             }
            },
            "type": "bar"
           }
          ],
          "barpolar": [
           {
            "marker": {
             "line": {
              "color": "#E5ECF6",
              "width": 0.5
             },
             "pattern": {
              "fillmode": "overlay",
              "size": 10,
              "solidity": 0.2
             }
            },
            "type": "barpolar"
           }
          ],
          "carpet": [
           {
            "aaxis": {
             "endlinecolor": "#2a3f5f",
             "gridcolor": "white",
             "linecolor": "white",
             "minorgridcolor": "white",
             "startlinecolor": "#2a3f5f"
            },
            "baxis": {
             "endlinecolor": "#2a3f5f",
             "gridcolor": "white",
             "linecolor": "white",
             "minorgridcolor": "white",
             "startlinecolor": "#2a3f5f"
            },
            "type": "carpet"
           }
          ],
          "choropleth": [
           {
            "colorbar": {
             "outlinewidth": 0,
             "ticks": ""
            },
            "type": "choropleth"
           }
          ],
          "contour": [
           {
            "colorbar": {
             "outlinewidth": 0,
             "ticks": ""
            },
            "colorscale": [
             [
              0,
              "#0d0887"
             ],
             [
              0.1111111111111111,
              "#46039f"
             ],
             [
              0.2222222222222222,
              "#7201a8"
             ],
             [
              0.3333333333333333,
              "#9c179e"
             ],
             [
              0.4444444444444444,
              "#bd3786"
             ],
             [
              0.5555555555555556,
              "#d8576b"
             ],
             [
              0.6666666666666666,
              "#ed7953"
             ],
             [
              0.7777777777777778,
              "#fb9f3a"
             ],
             [
              0.8888888888888888,
              "#fdca26"
             ],
             [
              1,
              "#f0f921"
             ]
            ],
            "type": "contour"
           }
          ],
          "contourcarpet": [
           {
            "colorbar": {
             "outlinewidth": 0,
             "ticks": ""
            },
            "type": "contourcarpet"
           }
          ],
          "heatmap": [
           {
            "colorbar": {
             "outlinewidth": 0,
             "ticks": ""
            },
            "colorscale": [
             [
              0,
              "#0d0887"
             ],
             [
              0.1111111111111111,
              "#46039f"
             ],
             [
              0.2222222222222222,
              "#7201a8"
             ],
             [
              0.3333333333333333,
              "#9c179e"
             ],
             [
              0.4444444444444444,
              "#bd3786"
             ],
             [
              0.5555555555555556,
              "#d8576b"
             ],
             [
              0.6666666666666666,
              "#ed7953"
             ],
             [
              0.7777777777777778,
              "#fb9f3a"
             ],
             [
              0.8888888888888888,
              "#fdca26"
             ],
             [
              1,
              "#f0f921"
             ]
            ],
            "type": "heatmap"
           }
          ],
          "histogram": [
           {
            "marker": {
             "pattern": {
              "fillmode": "overlay",
              "size": 10,
              "solidity": 0.2
             }
            },
            "type": "histogram"
           }
          ],
          "histogram2d": [
           {
            "colorbar": {
             "outlinewidth": 0,
             "ticks": ""
            },
            "colorscale": [
             [
              0,
              "#0d0887"
             ],
             [
              0.1111111111111111,
              "#46039f"
             ],
             [
              0.2222222222222222,
              "#7201a8"
             ],
             [
              0.3333333333333333,
              "#9c179e"
             ],
             [
              0.4444444444444444,
              "#bd3786"
             ],
             [
              0.5555555555555556,
              "#d8576b"
             ],
             [
              0.6666666666666666,
              "#ed7953"
             ],
             [
              0.7777777777777778,
              "#fb9f3a"
             ],
             [
              0.8888888888888888,
              "#fdca26"
             ],
             [
              1,
              "#f0f921"
             ]
            ],
            "type": "histogram2d"
           }
          ],
          "histogram2dcontour": [
           {
            "colorbar": {
             "outlinewidth": 0,
             "ticks": ""
            },
            "colorscale": [
             [
              0,
              "#0d0887"
             ],
             [
              0.1111111111111111,
              "#46039f"
             ],
             [
              0.2222222222222222,
              "#7201a8"
             ],
             [
              0.3333333333333333,
              "#9c179e"
             ],
             [
              0.4444444444444444,
              "#bd3786"
             ],
             [
              0.5555555555555556,
              "#d8576b"
             ],
             [
              0.6666666666666666,
              "#ed7953"
             ],
             [
              0.7777777777777778,
              "#fb9f3a"
             ],
             [
              0.8888888888888888,
              "#fdca26"
             ],
             [
              1,
              "#f0f921"
             ]
            ],
            "type": "histogram2dcontour"
           }
          ],
          "mesh3d": [
           {
            "colorbar": {
             "outlinewidth": 0,
             "ticks": ""
            },
            "type": "mesh3d"
           }
          ],
          "parcoords": [
           {
            "line": {
             "colorbar": {
              "outlinewidth": 0,
              "ticks": ""
             }
            },
            "type": "parcoords"
           }
          ],
          "pie": [
           {
            "automargin": true,
            "type": "pie"
           }
          ],
          "scatter": [
           {
            "fillpattern": {
             "fillmode": "overlay",
             "size": 10,
             "solidity": 0.2
            },
            "type": "scatter"
           }
          ],
          "scatter3d": [
           {
            "line": {
             "colorbar": {
              "outlinewidth": 0,
              "ticks": ""
             }
            },
            "marker": {
             "colorbar": {
              "outlinewidth": 0,
              "ticks": ""
             }
            },
            "type": "scatter3d"
           }
          ],
          "scattercarpet": [
           {
            "marker": {
             "colorbar": {
              "outlinewidth": 0,
              "ticks": ""
             }
            },
            "type": "scattercarpet"
           }
          ],
          "scattergeo": [
           {
            "marker": {
             "colorbar": {
              "outlinewidth": 0,
              "ticks": ""
             }
            },
            "type": "scattergeo"
           }
          ],
          "scattergl": [
           {
            "marker": {
             "colorbar": {
              "outlinewidth": 0,
              "ticks": ""
             }
            },
            "type": "scattergl"
           }
          ],
          "scattermap": [
           {
            "marker": {
             "colorbar": {
              "outlinewidth": 0,
              "ticks": ""
             }
            },
            "type": "scattermap"
           }
          ],
          "scattermapbox": [
           {
            "marker": {
             "colorbar": {
              "outlinewidth": 0,
              "ticks": ""
             }
            },
            "type": "scattermapbox"
           }
          ],
          "scatterpolar": [
           {
            "marker": {
             "colorbar": {
              "outlinewidth": 0,
              "ticks": ""
             }
            },
            "type": "scatterpolar"
           }
          ],
          "scatterpolargl": [
           {
            "marker": {
             "colorbar": {
              "outlinewidth": 0,
              "ticks": ""
             }
            },
            "type": "scatterpolargl"
           }
          ],
          "scatterternary": [
           {
            "marker": {
             "colorbar": {
              "outlinewidth": 0,
              "ticks": ""
             }
            },
            "type": "scatterternary"
           }
          ],
          "surface": [
           {
            "colorbar": {
             "outlinewidth": 0,
             "ticks": ""
            },
            "colorscale": [
             [
              0,
              "#0d0887"
             ],
             [
              0.1111111111111111,
              "#46039f"
             ],
             [
              0.2222222222222222,
              "#7201a8"
             ],
             [
              0.3333333333333333,
              "#9c179e"
             ],
             [
              0.4444444444444444,
              "#bd3786"
             ],
             [
              0.5555555555555556,
              "#d8576b"
             ],
             [
              0.6666666666666666,
              "#ed7953"
             ],
             [
              0.7777777777777778,
              "#fb9f3a"
             ],
             [
              0.8888888888888888,
              "#fdca26"
             ],
             [
              1,
              "#f0f921"
             ]
            ],
            "type": "surface"
           }
          ],
          "table": [
           {
            "cells": {
             "fill": {
              "color": "#EBF0F8"
             },
             "line": {
              "color": "white"
             }
            },
            "header": {
             "fill": {
              "color": "#C8D4E3"
             },
             "line": {
              "color": "white"
             }
            },
            "type": "table"
           }
          ]
         },
         "layout": {
          "annotationdefaults": {
           "arrowcolor": "#2a3f5f",
           "arrowhead": 0,
           "arrowwidth": 1
          },
          "autotypenumbers": "strict",
          "coloraxis": {
           "colorbar": {
            "outlinewidth": 0,
            "ticks": ""
           }
          },
          "colorscale": {
           "diverging": [
            [
             0,
             "#8e0152"
            ],
            [
             0.1,
             "#c51b7d"
            ],
            [
             0.2,
             "#de77ae"
            ],
            [
             0.3,
             "#f1b6da"
            ],
            [
             0.4,
             "#fde0ef"
            ],
            [
             0.5,
             "#f7f7f7"
            ],
            [
             0.6,
             "#e6f5d0"
            ],
            [
             0.7,
             "#b8e186"
            ],
            [
             0.8,
             "#7fbc41"
            ],
            [
             0.9,
             "#4d9221"
            ],
            [
             1,
             "#276419"
            ]
           ],
           "sequential": [
            [
             0,
             "#0d0887"
            ],
            [
             0.1111111111111111,
             "#46039f"
            ],
            [
             0.2222222222222222,
             "#7201a8"
            ],
            [
             0.3333333333333333,
             "#9c179e"
            ],
            [
             0.4444444444444444,
             "#bd3786"
            ],
            [
             0.5555555555555556,
             "#d8576b"
            ],
            [
             0.6666666666666666,
             "#ed7953"
            ],
            [
             0.7777777777777778,
             "#fb9f3a"
            ],
            [
             0.8888888888888888,
             "#fdca26"
            ],
            [
             1,
             "#f0f921"
            ]
           ],
           "sequentialminus": [
            [
             0,
             "#0d0887"
            ],
            [
             0.1111111111111111,
             "#46039f"
            ],
            [
             0.2222222222222222,
             "#7201a8"
            ],
            [
             0.3333333333333333,
             "#9c179e"
            ],
            [
             0.4444444444444444,
             "#bd3786"
            ],
            [
             0.5555555555555556,
             "#d8576b"
            ],
            [
             0.6666666666666666,
             "#ed7953"
            ],
            [
             0.7777777777777778,
             "#fb9f3a"
            ],
            [
             0.8888888888888888,
             "#fdca26"
            ],
            [
             1,
             "#f0f921"
            ]
           ]
          },
          "colorway": [
           "#636efa",
           "#EF553B",
           "#00cc96",
           "#ab63fa",
           "#FFA15A",
           "#19d3f3",
           "#FF6692",
           "#B6E880",
           "#FF97FF",
           "#FECB52"
          ],
          "font": {
           "color": "#2a3f5f"
          },
          "geo": {
           "bgcolor": "white",
           "lakecolor": "white",
           "landcolor": "#E5ECF6",
           "showlakes": true,
           "showland": true,
           "subunitcolor": "white"
          },
          "hoverlabel": {
           "align": "left"
          },
          "hovermode": "closest",
          "mapbox": {
           "style": "light"
          },
          "paper_bgcolor": "white",
          "plot_bgcolor": "#E5ECF6",
          "polar": {
           "angularaxis": {
            "gridcolor": "white",
            "linecolor": "white",
            "ticks": ""
           },
           "bgcolor": "#E5ECF6",
           "radialaxis": {
            "gridcolor": "white",
            "linecolor": "white",
            "ticks": ""
           }
          },
          "scene": {
           "xaxis": {
            "backgroundcolor": "#E5ECF6",
            "gridcolor": "white",
            "gridwidth": 2,
            "linecolor": "white",
            "showbackground": true,
            "ticks": "",
            "zerolinecolor": "white"
           },
           "yaxis": {
            "backgroundcolor": "#E5ECF6",
            "gridcolor": "white",
            "gridwidth": 2,
            "linecolor": "white",
            "showbackground": true,
            "ticks": "",
            "zerolinecolor": "white"
           },
           "zaxis": {
            "backgroundcolor": "#E5ECF6",
            "gridcolor": "white",
            "gridwidth": 2,
            "linecolor": "white",
            "showbackground": true,
            "ticks": "",
            "zerolinecolor": "white"
           }
          },
          "shapedefaults": {
           "line": {
            "color": "#2a3f5f"
           }
          },
          "ternary": {
           "aaxis": {
            "gridcolor": "white",
            "linecolor": "white",
            "ticks": ""
           },
           "baxis": {
            "gridcolor": "white",
            "linecolor": "white",
            "ticks": ""
           },
           "bgcolor": "#E5ECF6",
           "caxis": {
            "gridcolor": "white",
            "linecolor": "white",
            "ticks": ""
           }
          },
          "title": {
           "x": 0.05
          },
          "xaxis": {
           "automargin": true,
           "gridcolor": "white",
           "linecolor": "white",
           "ticks": "",
           "title": {
            "standoff": 15
           },
           "zerolinecolor": "white",
           "zerolinewidth": 2
          },
          "yaxis": {
           "automargin": true,
           "gridcolor": "white",
           "linecolor": "white",
           "ticks": "",
           "title": {
            "standoff": 15
           },
           "zerolinecolor": "white",
           "zerolinewidth": 2
          }
         }
        },
        "title": {
         "text": "Sales Distribution: Region → Product Category"
        }
       }
      }
     },
     "metadata": {},
     "output_type": "display_data"
    },
    {
     "name": "stdout",
     "output_type": "stream",
     "text": [
      "\n",
      "4.2 Cross-Tabulation Analysis:\n",
      "-------------------------------\n",
      "Business Size vs Performance Tier (Row Percentages):\n",
      "performance_tier    Low  Medium   High\n",
      "business_size                         \n",
      "Small             0.400   0.400  0.200\n",
      "Medium            0.312   0.638  0.050\n",
      "Large             0.321   0.643  0.036\n",
      "All               0.313   0.637  0.050\n"
     ]
    },
    {
     "data": {
      "application/vnd.plotly.v1+json": {
       "config": {
        "plotlyServerURL": "https://plot.ly"
       },
       "data": [
        {
         "coloraxis": "coloraxis",
         "hovertemplate": "business_size=%{x}<br>performance_tier=%{y}<br>count=%{z}<extra></extra>",
         "name": "",
         "type": "histogram2d",
         "x": [
          "Medium",
          "Medium",
          "Large",
          "Medium",
          "Medium",
          "Medium",
          "Medium",
          "Medium",
          "Medium",
          "Medium",
          "Medium",
          "Medium",
          "Medium",
          "Medium",
          "Large",
          "Medium",
          "Medium",
          "Medium",
          "Medium",
          "Medium",
          "Large",
          "Medium",
          "Medium",
          "Medium",
          "Medium",
          "Medium",
          "Medium",
          "Medium",
          "Medium",
          "Medium",
          "Medium",
          "Medium",
          "Medium",
          "Medium",
          "Medium",
          "Medium",
          "Medium",
          "Medium",
          "Medium",
          "Medium",
          "Medium",
          "Medium",
          "Large",
          "Medium",
          "Medium",
          "Medium",
          "Medium",
          "Medium",
          "Large",
          "Medium",
          "Medium",
          "Medium",
          "Medium",
          "Medium",
          "Medium",
          "Medium",
          "Large",
          "Medium",
          "Large",
          "Medium",
          "Medium",
          "Large",
          "Medium",
          "Medium",
          "Medium",
          "Medium",
          "Medium",
          "Medium",
          "Medium",
          "Medium",
          "Medium",
          "Medium",
          "Large",
          "Medium",
          "Medium",
          "Medium",
          "Medium",
          "Medium",
          "Medium",
          "Medium",
          "Medium",
          "Medium",
          "Large",
          "Medium",
          "Medium",
          "Large",
          "Medium",
          "Medium",
          "Medium",
          "Medium",
          "Large",
          "Medium",
          "Small",
          "Medium",
          "Medium",
          "Medium",
          "Medium",
          "Medium",
          "Large",
          "Medium",
          "Medium",
          "Medium",
          "Large",
          "Medium",
          "Medium",
          "Medium",
          "Medium",
          "Medium",
          "Medium",
          "Medium",
          "Medium",
          "Medium",
          "Medium",
          "Medium",
          "Medium",
          "Medium",
          "Medium",
          "Medium",
          "Medium",
          "Medium",
          "Medium",
          "Medium",
          "Medium",
          "Medium",
          "Medium",
          "Medium",
          "Medium",
          "Medium",
          "Medium",
          "Medium",
          "Medium",
          "Medium",
          "Medium",
          "Medium",
          "Medium",
          "Medium",
          "Medium",
          "Medium",
          "Medium",
          "Medium",
          "Medium",
          "Medium",
          "Medium",
          "Large",
          "Medium",
          "Medium",
          "Medium",
          "Medium",
          "Medium",
          "Medium",
          "Large",
          "Medium",
          "Medium",
          "Large",
          "Large",
          "Medium",
          "Large",
          "Medium",
          "Medium",
          "Medium",
          "Medium",
          "Medium",
          "Medium",
          "Medium",
          "Medium",
          "Medium",
          "Medium",
          "Medium",
          "Medium",
          "Medium",
          "Medium",
          "Medium",
          "Medium",
          "Medium",
          "Large",
          "Medium",
          "Medium",
          "Medium",
          "Medium",
          "Medium",
          "Medium",
          "Medium",
          "Medium",
          "Medium",
          "Medium",
          "Medium",
          "Medium",
          "Medium",
          "Medium",
          "Medium",
          "Medium",
          "Medium",
          "Medium",
          "Medium",
          "Medium",
          "Medium",
          "Medium",
          "Medium",
          "Medium",
          "Medium",
          "Medium",
          "Large",
          "Large",
          "Medium",
          "Medium",
          "Medium",
          "Medium",
          "Medium",
          "Medium",
          "Medium",
          "Medium",
          "Medium",
          "Medium",
          "Medium",
          "Medium",
          "Medium",
          "Medium",
          "Medium",
          "Medium",
          "Medium",
          "Medium",
          "Medium",
          "Medium",
          "Medium",
          "Medium",
          "Medium",
          "Medium",
          "Medium",
          "Medium",
          "Medium",
          "Medium",
          "Medium",
          "Medium",
          "Large",
          "Medium",
          "Medium",
          "Medium",
          "Medium",
          "Medium",
          "Medium",
          "Large",
          "Medium",
          "Medium",
          "Medium",
          "Medium",
          "Medium",
          "Medium",
          "Medium",
          "Small",
          "Medium",
          "Medium",
          "Medium",
          "Medium",
          "Medium",
          "Medium",
          "Medium",
          "Medium",
          "Large",
          "Medium",
          "Medium",
          "Medium",
          "Medium",
          "Medium",
          "Medium",
          "Medium",
          "Medium",
          "Medium",
          "Medium",
          "Medium",
          "Medium",
          "Medium",
          "Medium",
          "Medium",
          "Medium",
          "Medium",
          "Medium",
          "Medium",
          "Large",
          "Medium",
          "Medium",
          "Medium",
          "Medium",
          "Medium",
          "Medium",
          "Medium",
          "Medium",
          "Medium",
          "Medium",
          "Medium",
          "Medium",
          "Medium",
          "Medium",
          "Medium",
          "Medium",
          "Medium",
          "Medium",
          "Medium",
          "Medium",
          "Small",
          "Medium",
          "Medium",
          "Medium",
          "Medium",
          "Medium",
          "Medium",
          "Medium",
          "Medium",
          "Medium",
          "Medium",
          "Medium",
          "Medium",
          "Large",
          "Medium",
          "Medium",
          "Medium",
          "Medium",
          "Medium",
          "Medium",
          "Medium",
          "Medium",
          "Medium",
          "Medium",
          "Medium",
          "Medium",
          "Medium",
          "Medium",
          "Medium",
          "Medium",
          "Medium",
          "Medium",
          "Medium",
          "Medium",
          "Medium",
          "Medium",
          "Medium",
          "Medium",
          "Medium",
          "Medium",
          "Medium",
          "Medium",
          "Medium",
          "Medium",
          "Medium",
          "Medium",
          "Medium",
          "Medium",
          "Medium",
          "Medium",
          "Medium",
          "Large",
          "Medium",
          "Medium",
          "Medium",
          "Medium",
          "Medium",
          "Medium",
          "Medium",
          "Medium",
          "Large",
          "Medium",
          "Large",
          "Medium",
          "Medium",
          "Medium",
          "Medium",
          "Medium",
          "Medium",
          "Medium",
          "Medium",
          "Medium",
          "Medium",
          "Medium",
          "Medium",
          "Large",
          "Medium",
          "Medium",
          "Medium",
          "Medium",
          "Medium",
          "Medium",
          "Medium",
          "Medium",
          "Medium",
          "Large",
          "Medium",
          "Medium",
          "Medium",
          "Medium",
          "Medium",
          "Medium",
          "Medium",
          "Medium",
          "Large",
          "Medium",
          "Medium",
          "Medium",
          "Medium",
          "Medium",
          "Medium",
          "Medium",
          "Medium",
          "Medium",
          "Medium",
          "Medium",
          "Medium",
          "Medium",
          "Medium",
          "Medium",
          "Medium",
          "Medium",
          "Medium",
          "Medium",
          "Medium",
          "Medium",
          "Medium",
          "Medium",
          "Medium",
          "Medium",
          "Medium",
          "Large",
          "Medium",
          "Medium",
          "Medium",
          "Medium",
          "Medium",
          "Medium",
          "Medium",
          "Medium",
          "Medium",
          "Medium",
          "Medium",
          "Medium",
          "Medium",
          "Medium",
          "Medium",
          "Medium",
          "Medium",
          "Medium",
          "Medium",
          "Medium",
          "Large",
          "Medium",
          "Medium",
          "Medium",
          "Medium",
          "Medium",
          "Medium",
          "Medium",
          "Medium",
          "Medium",
          "Medium",
          "Medium",
          "Large",
          "Medium",
          "Medium",
          "Medium",
          "Medium",
          "Medium",
          "Medium",
          "Medium",
          "Medium",
          "Medium",
          "Medium",
          "Medium",
          "Medium",
          "Medium",
          "Medium",
          "Medium",
          "Medium",
          "Medium",
          "Medium",
          "Medium",
          "Medium",
          "Medium",
          "Medium",
          "Medium",
          "Medium",
          "Medium",
          "Medium",
          "Medium",
          "Medium",
          "Medium",
          "Medium",
          "Medium",
          "Medium",
          "Large",
          "Large",
          "Medium",
          "Medium",
          "Medium",
          "Medium",
          "Medium",
          "Large",
          "Medium",
          "Medium",
          "Medium",
          "Medium",
          "Medium",
          "Medium",
          "Medium",
          "Small",
          "Medium",
          "Medium",
          "Medium",
          "Medium",
          "Medium",
          "Medium",
          "Medium",
          "Medium",
          "Medium",
          "Medium",
          "Medium",
          "Large",
          "Medium",
          "Large",
          "Medium",
          "Medium",
          "Large",
          "Medium",
          "Large",
          "Medium",
          "Medium",
          "Medium",
          "Medium",
          "Medium",
          "Medium",
          "Medium",
          "Large",
          "Medium",
          "Large",
          "Medium",
          "Medium",
          "Medium",
          "Medium",
          "Medium",
          "Medium",
          "Medium",
          "Medium",
          "Medium",
          "Medium",
          "Medium",
          "Medium",
          "Medium",
          "Medium",
          "Medium",
          "Medium",
          "Medium",
          "Medium",
          "Medium",
          "Medium",
          "Medium",
          "Medium",
          "Medium",
          "Medium",
          "Medium",
          "Medium",
          "Medium",
          "Medium",
          "Medium",
          "Medium",
          "Medium",
          "Medium",
          "Medium",
          "Medium",
          "Medium",
          "Medium",
          "Medium",
          "Medium",
          "Medium",
          "Medium",
          "Medium",
          "Medium",
          "Medium",
          "Medium",
          "Medium",
          "Medium",
          "Medium",
          "Large",
          "Medium",
          "Medium",
          "Medium",
          "Medium",
          "Medium",
          "Medium",
          "Medium",
          "Medium",
          "Medium",
          "Medium",
          "Medium",
          "Medium",
          "Medium",
          "Medium",
          "Medium",
          "Medium",
          "Medium",
          "Medium",
          "Large",
          "Medium",
          "Medium",
          "Medium",
          "Medium",
          "Medium",
          "Medium",
          "Medium",
          "Medium",
          "Medium",
          "Medium",
          "Medium",
          "Medium",
          "Medium",
          "Medium",
          "Medium",
          "Medium",
          "Medium",
          "Medium",
          "Large",
          "Medium",
          "Medium",
          "Medium",
          "Medium",
          "Large",
          "Medium",
          "Medium",
          "Large",
          "Medium",
          "Medium",
          "Medium",
          "Medium",
          "Medium",
          "Medium",
          "Medium",
          "Medium",
          "Large",
          "Medium",
          "Medium",
          "Medium",
          "Medium",
          "Medium",
          "Medium",
          "Large",
          "Medium",
          "Large",
          "Medium",
          "Medium",
          "Medium",
          "Medium",
          "Small",
          "Medium",
          "Medium",
          "Medium",
          "Medium",
          "Medium",
          "Medium",
          "Medium",
          "Large",
          "Large",
          "Medium",
          "Medium",
          "Large",
          "Medium",
          "Large",
          "Medium",
          "Medium",
          "Medium",
          "Medium",
          "Medium",
          "Medium",
          "Medium",
          "Medium",
          "Medium",
          "Medium",
          "Large",
          "Medium",
          "Medium",
          "Medium",
          "Medium",
          "Medium",
          "Medium",
          "Medium",
          "Medium",
          "Medium",
          "Medium",
          "Medium",
          "Medium",
          "Medium",
          "Medium",
          "Medium",
          "Medium",
          "Medium",
          "Medium",
          "Medium",
          "Medium",
          "Medium",
          "Medium",
          "Medium",
          "Medium",
          "Medium",
          "Medium",
          "Large",
          "Large",
          "Medium",
          "Medium",
          "Medium",
          "Medium",
          "Medium",
          "Medium",
          "Medium",
          "Medium",
          "Medium",
          "Medium",
          "Medium",
          "Medium",
          "Medium",
          "Medium",
          "Medium",
          "Medium",
          "Medium",
          "Medium",
          "Medium",
          "Medium",
          "Medium",
          "Medium",
          "Medium",
          "Medium",
          "Medium",
          "Medium",
          "Medium",
          "Medium",
          "Medium",
          "Medium",
          "Medium",
          "Medium",
          "Large",
          "Medium",
          "Medium",
          "Medium",
          "Medium",
          "Medium",
          "Medium",
          "Medium",
          "Medium",
          "Medium",
          "Medium",
          "Medium",
          "Medium",
          "Medium",
          "Medium",
          "Large",
          "Medium",
          "Large",
          "Medium",
          "Medium",
          "Medium",
          "Medium",
          "Medium",
          "Medium",
          "Medium",
          "Medium",
          "Medium",
          "Medium",
          "Medium",
          "Medium",
          "Medium",
          "Medium",
          "Medium",
          "Medium",
          "Medium",
          "Medium",
          "Medium",
          "Medium",
          "Medium",
          "Medium",
          "Medium",
          "Large",
          "Medium",
          "Medium",
          "Medium",
          "Medium",
          "Medium",
          "Large",
          "Medium",
          "Medium",
          "Medium",
          "Medium",
          "Medium",
          "Medium",
          "Medium",
          "Medium",
          "Medium",
          "Medium",
          "Large",
          "Medium",
          "Large",
          "Medium",
          "Medium",
          "Medium",
          "Medium",
          "Medium",
          "Medium",
          "Medium",
          "Medium",
          "Medium",
          "Medium",
          "Medium",
          "Medium",
          "Medium",
          "Medium",
          "Medium",
          "Medium",
          "Medium",
          "Medium",
          "Medium",
          "Medium",
          "Medium",
          "Medium",
          "Medium",
          "Medium",
          "Medium",
          "Medium",
          "Medium",
          "Medium",
          "Medium",
          "Medium",
          "Medium",
          "Medium",
          "Medium",
          "Large",
          "Medium",
          "Medium",
          "Medium",
          "Medium",
          "Medium",
          "Medium",
          "Medium",
          "Medium",
          "Medium",
          "Large",
          "Medium",
          "Medium",
          "Medium",
          "Medium",
          "Medium",
          "Medium",
          "Medium",
          "Medium",
          "Medium",
          "Large",
          "Medium",
          "Medium",
          "Medium",
          "Medium",
          "Medium",
          "Medium",
          "Medium",
          "Medium",
          "Medium",
          "Large",
          "Medium",
          "Medium",
          "Medium",
          "Medium",
          "Medium",
          "Medium",
          "Large",
          "Medium",
          "Medium",
          "Medium",
          "Medium",
          "Medium",
          "Medium",
          "Medium",
          "Medium",
          "Medium",
          "Medium",
          "Medium",
          "Medium",
          "Medium",
          "Medium",
          "Medium",
          "Medium",
          "Medium",
          "Medium",
          "Medium",
          "Medium",
          "Medium",
          "Medium",
          "Medium",
          "Medium",
          "Medium",
          "Medium",
          "Large",
          "Medium",
          "Medium",
          "Medium",
          "Medium",
          "Medium",
          "Medium",
          "Medium",
          "Medium",
          "Medium",
          "Medium",
          "Medium",
          "Medium",
          "Large",
          "Medium",
          "Medium",
          "Medium",
          "Medium",
          "Medium",
          "Medium",
          "Large",
          "Medium",
          "Medium",
          "Medium",
          "Medium",
          "Medium",
          "Medium",
          "Medium",
          "Medium",
          "Medium",
          "Large",
          "Medium",
          "Medium",
          "Medium",
          "Medium",
          "Medium",
          "Medium",
          "Medium",
          "Medium",
          "Medium",
          "Large",
          "Medium",
          "Medium",
          "Large",
          "Medium",
          "Medium",
          "Medium",
          "Medium",
          "Medium",
          "Medium",
          "Medium",
          "Medium",
          "Medium",
          "Medium",
          "Medium",
          "Medium",
          "Medium",
          "Large",
          "Medium",
          "Medium",
          "Medium",
          "Medium",
          "Medium",
          "Medium",
          "Medium",
          "Medium",
          "Medium",
          "Medium",
          "Medium",
          "Medium",
          "Medium",
          "Large",
          "Medium",
          "Medium",
          "Medium",
          "Medium",
          "Medium",
          "Medium",
          "Medium",
          "Medium",
          "Medium",
          "Medium",
          "Medium",
          "Medium",
          "Medium",
          "Large",
          "Medium",
          "Medium",
          "Medium",
          "Medium",
          "Medium",
          "Medium",
          "Medium",
          "Medium",
          "Medium",
          "Medium",
          "Medium",
          "Medium",
          "Medium",
          "Medium",
          "Medium",
          "Large",
          "Medium",
          "Medium",
          "Medium",
          "Large",
          "Medium",
          "Medium",
          "Medium",
          "Large"
         ],
         "xaxis": "x",
         "xbingroup": "x",
         "y": [
          "Medium",
          "Medium",
          "Medium",
          "Medium",
          "Medium",
          "Medium",
          "Medium",
          "Medium",
          "Medium",
          "Medium",
          "Medium",
          "Medium",
          "Medium",
          "Low",
          "Low",
          "Low",
          "Low",
          "Medium",
          "Low",
          "Low",
          "Medium",
          "Medium",
          "Medium",
          "Low",
          "Low",
          "Medium",
          "Low",
          "Medium",
          "Low",
          "Medium",
          "Low",
          "High",
          "Medium",
          "Low",
          "Medium",
          "Low",
          "Medium",
          "Low",
          "Low",
          "Medium",
          "Medium",
          "Medium",
          "Medium",
          "Medium",
          "Low",
          "Low",
          "Medium",
          "Medium",
          "Medium",
          "Low",
          "Medium",
          "Medium",
          "Low",
          "Medium",
          "Medium",
          "Medium",
          "Low",
          "Medium",
          "Medium",
          "Medium",
          "Medium",
          "Medium",
          "Low",
          "Low",
          "Medium",
          "Medium",
          "Medium",
          "Medium",
          "Medium",
          "Low",
          "Medium",
          "Medium",
          "Medium",
          "Medium",
          "Low",
          "Medium",
          "Medium",
          "Medium",
          "Medium",
          "Low",
          "Medium",
          "Medium",
          "Medium",
          "Low",
          "Low",
          "Low",
          "Medium",
          "Medium",
          "Low",
          "Medium",
          "Medium",
          "Medium",
          "Low",
          "Medium",
          "Medium",
          "Low",
          "Medium",
          "Medium",
          "Medium",
          "Medium",
          "Low",
          "Medium",
          "Medium",
          "Low",
          "Medium",
          "Medium",
          "High",
          "Medium",
          "Medium",
          "Medium",
          "Low",
          "Medium",
          "Medium",
          "High",
          "Medium",
          "Medium",
          "Medium",
          "Low",
          "Medium",
          "Medium",
          "Medium",
          "Low",
          "Medium",
          "Low",
          "Medium",
          "High",
          "Low",
          "Low",
          "Medium",
          "Low",
          "Low",
          "Medium",
          "Low",
          "Medium",
          "Low",
          "Medium",
          "Low",
          "Medium",
          "Medium",
          "Low",
          "Medium",
          "Medium",
          "Low",
          "Medium",
          "Medium",
          "Medium",
          "Low",
          "Low",
          "Medium",
          "Medium",
          "Medium",
          "Medium",
          "Low",
          "Medium",
          "Medium",
          "Low",
          "High",
          "Medium",
          "Low",
          "Medium",
          "Low",
          "Medium",
          "Medium",
          "Low",
          "Medium",
          "Medium",
          "Medium",
          "High",
          "Medium",
          "Low",
          "Low",
          "Low",
          "Medium",
          "Medium",
          "Medium",
          "Medium",
          "Medium",
          "Medium",
          "Medium",
          "High",
          "Medium",
          "Low",
          "Low",
          "Medium",
          "Medium",
          "Medium",
          "Medium",
          "Medium",
          "Low",
          "Low",
          "Medium",
          "Medium",
          "Medium",
          "Low",
          "Medium",
          "Medium",
          "Low",
          "Medium",
          "Medium",
          "Low",
          "Medium",
          "Medium",
          "Medium",
          "Medium",
          "Low",
          "Low",
          "Medium",
          "Medium",
          "Medium",
          "High",
          "Medium",
          "Medium",
          "Medium",
          "Medium",
          "Medium",
          "Medium",
          "Low",
          "Medium",
          "Medium",
          "Medium",
          "High",
          "Low",
          "Medium",
          "Low",
          "Medium",
          "Medium",
          "Medium",
          "Low",
          "Low",
          "Medium",
          "Low",
          "Medium",
          "Medium",
          "Low",
          "High",
          "Medium",
          "Low",
          "Medium",
          "Low",
          "Medium",
          "Low",
          "Medium",
          "Medium",
          "Medium",
          "Low",
          "Medium",
          "Medium",
          "Low",
          "High",
          "Medium",
          "Low",
          "Medium",
          "High",
          "Medium",
          "Low",
          "Medium",
          "Medium",
          "Low",
          "Medium",
          "Medium",
          "Low",
          "Medium",
          "Low",
          "Low",
          "Medium",
          "Low",
          "Medium",
          "Low",
          "Medium",
          "Medium",
          "Medium",
          "Low",
          "Medium",
          "Medium",
          "Low",
          "Medium",
          "Medium",
          "Low",
          "Medium",
          "Medium",
          "Medium",
          "Medium",
          "Medium",
          "Low",
          "High",
          "Low",
          "Medium",
          "Medium",
          "Medium",
          "Low",
          "Medium",
          "Medium",
          "Low",
          "Medium",
          "Medium",
          "Low",
          "Medium",
          "Medium",
          "Medium",
          "Medium",
          "Low",
          "Low",
          "Medium",
          "Medium",
          "Medium",
          "Medium",
          "Medium",
          "Low",
          "Medium",
          "Medium",
          "Medium",
          "Medium",
          "Medium",
          "Medium",
          "Medium",
          "Medium",
          "Medium",
          "Medium",
          "Medium",
          "Medium",
          "Medium",
          "Medium",
          "Low",
          "High",
          "Low",
          "Low",
          "Medium",
          "Medium",
          "Medium",
          "Medium",
          "Medium",
          "Low",
          "Medium",
          "Low",
          "Medium",
          "Medium",
          "Low",
          "Medium",
          "Medium",
          "Low",
          "Low",
          "Medium",
          "Medium",
          "Low",
          "Medium",
          "Medium",
          "Low",
          "Low",
          "Low",
          "Medium",
          "Medium",
          "Medium",
          "Medium",
          "Medium",
          "Medium",
          "Low",
          "Medium",
          "Medium",
          "Medium",
          "Low",
          "Medium",
          "Medium",
          "Medium",
          "Medium",
          "Medium",
          "Medium",
          "Medium",
          "Medium",
          "Medium",
          "Low",
          "Medium",
          "Medium",
          "Medium",
          "Medium",
          "High",
          "Low",
          "Medium",
          "Medium",
          "High",
          "Low",
          "Low",
          "Low",
          "Low",
          "Low",
          "Low",
          "Medium",
          "Medium",
          "High",
          "Medium",
          "Low",
          "Low",
          "Medium",
          "Low",
          "High",
          "Medium",
          "Medium",
          "Low",
          "Medium",
          "Medium",
          "Medium",
          "Low",
          "Low",
          "Medium",
          "Medium",
          "Medium",
          "Medium",
          "Low",
          "Medium",
          "Medium",
          "Medium",
          "Medium",
          "Low",
          "Low",
          "Medium",
          "Medium",
          "Low",
          "Medium",
          "Medium",
          "Medium",
          "Medium",
          "High",
          "High",
          "Medium",
          "Medium",
          "Medium",
          "Medium",
          "Low",
          "Medium",
          "Medium",
          "Low",
          "Low",
          "Low",
          "Medium",
          "Medium",
          "Medium",
          "Medium",
          "Medium",
          "Low",
          "Low",
          "Medium",
          "Medium",
          "Medium",
          "Low",
          "Medium",
          "Low",
          "Medium",
          "Medium",
          "Low",
          "Low",
          "Low",
          "Medium",
          "Medium",
          "Low",
          "Medium",
          "Low",
          "Low",
          "Medium",
          "Low",
          "Low",
          "Low",
          "High",
          "Medium",
          "Low",
          "Medium",
          "Medium",
          "Medium",
          "Medium",
          "Medium",
          "Low",
          "Low",
          "Medium",
          "Low",
          "Low",
          "Medium",
          "Medium",
          "Medium",
          "Medium",
          "Medium",
          "High",
          "Medium",
          "Medium",
          "Low",
          "Low",
          "Medium",
          "Low",
          "Low",
          "Low",
          "Low",
          "High",
          "Medium",
          "Medium",
          "Medium",
          "Medium",
          "Low",
          "Medium",
          "Medium",
          "Low",
          "Medium",
          "Low",
          "Low",
          "Medium",
          "High",
          "Low",
          "Medium",
          "Low",
          "Medium",
          "Low",
          "Low",
          "Medium",
          "Low",
          "Medium",
          "Medium",
          "Medium",
          "Low",
          "Low",
          "Medium",
          "Medium",
          "Low",
          "Medium",
          "Medium",
          "Low",
          "Medium",
          "Low",
          "Medium",
          "Low",
          "Low",
          "Low",
          "Medium",
          "Medium",
          "Low",
          "Medium",
          "Low",
          "Medium",
          "Low",
          "Low",
          "Medium",
          "Low",
          "Medium",
          "Medium",
          "Low",
          "Medium",
          "Low",
          "Medium",
          "Medium",
          "Low",
          "Low",
          "Medium",
          "Medium",
          "Medium",
          "Low",
          "Medium",
          "Medium",
          "Medium",
          "Medium",
          "Medium",
          "Medium",
          "Medium",
          "Medium",
          "Medium",
          "Medium",
          "Medium",
          "High",
          "Medium",
          "Medium",
          "Medium",
          "Medium",
          "Low",
          "Low",
          "Low",
          "Medium",
          "Medium",
          "Medium",
          "Medium",
          "Medium",
          "Medium",
          "Low",
          "Medium",
          "Medium",
          "Low",
          "Medium",
          "Medium",
          "Medium",
          "Medium",
          "High",
          "Medium",
          "Medium",
          "Medium",
          "Low",
          "Medium",
          "Low",
          "Medium",
          "Medium",
          "Medium",
          "Medium",
          "Medium",
          "Low",
          "Medium",
          "Low",
          "Medium",
          "Medium",
          "Medium",
          "Low",
          "Medium",
          "Medium",
          "Medium",
          "High",
          "Low",
          "Low",
          "Low",
          "Medium",
          "Medium",
          "Medium",
          "Medium",
          "Low",
          "High",
          "Medium",
          "Medium",
          "Medium",
          "Medium",
          "Medium",
          "Low",
          "Medium",
          "High",
          "Medium",
          "Medium",
          "Low",
          "Low",
          "Medium",
          "Medium",
          "Medium",
          "Low",
          "Medium",
          "Medium",
          "Medium",
          "Low",
          "Low",
          "Medium",
          "Medium",
          "Low",
          "Low",
          "Medium",
          "Medium",
          "Medium",
          "Low",
          "Medium",
          "Medium",
          "Low",
          "Medium",
          "Medium",
          "Medium",
          "High",
          "Medium",
          "Medium",
          "Low",
          "High",
          "Medium",
          "Medium",
          "Medium",
          "Medium",
          "Medium",
          "Low",
          "Low",
          "Medium",
          "Low",
          "Low",
          "Medium",
          "Medium",
          "Medium",
          "Low",
          "Medium",
          "Medium",
          "Low",
          "Medium",
          "Medium",
          "Low",
          "Low",
          "Low",
          "High",
          "Medium",
          "Medium",
          "Medium",
          "Low",
          "Low",
          "Medium",
          "Low",
          "Medium",
          "Medium",
          "Medium",
          "Medium",
          "Medium",
          "Medium",
          "Medium",
          "Low",
          "Medium",
          "Medium",
          "Medium",
          "Medium",
          "Low",
          "Medium",
          "Medium",
          "Low",
          "Medium",
          "Low",
          "Low",
          "Low",
          "Medium",
          "Low",
          "High",
          "Low",
          "High",
          "Medium",
          "Medium",
          "Low",
          "Medium",
          "Medium",
          "Medium",
          "Medium",
          "Medium",
          "Medium",
          "Medium",
          "Medium",
          "Low",
          "Low",
          "Medium",
          "Medium",
          "Medium",
          "Medium",
          "Medium",
          "Low",
          "Low",
          "Medium",
          "Low",
          "Medium",
          "Low",
          "Medium",
          "Medium",
          "Medium",
          "Medium",
          "Medium",
          "Medium",
          "Low",
          "Low",
          "Low",
          "Medium",
          "Medium",
          "Low",
          "Medium",
          "Low",
          "Low",
          "Low",
          "Low",
          "Low",
          "Low",
          "Medium",
          "Low",
          "High",
          "Medium",
          "Medium",
          "Low",
          "Medium",
          "Low",
          "Medium",
          "High",
          "Medium",
          "Medium",
          "Low",
          "Medium",
          "High",
          "Low",
          "High",
          "Medium",
          "Low",
          "Medium",
          "Medium",
          "Medium",
          "Low",
          "Low",
          "Medium",
          "Medium",
          "Medium",
          "Medium",
          "Low",
          "Medium",
          "Medium",
          "Medium",
          "Medium",
          "Medium",
          "Medium",
          "Medium",
          "Low",
          "Medium",
          "Medium",
          "Medium",
          "Low",
          "Low",
          "Medium",
          "Medium",
          "Medium",
          "Medium",
          "Medium",
          "Medium",
          "Low",
          "Medium",
          "Medium",
          "Medium",
          "Medium",
          "Medium",
          "Medium",
          "Medium",
          "Low",
          "Medium",
          "Medium",
          "Medium",
          "Medium",
          "Medium",
          "Low",
          "Medium",
          "Medium",
          "Medium",
          "Medium",
          "Low",
          "Medium",
          "High",
          "Medium",
          "Medium",
          "Medium",
          "Medium",
          "Low",
          "Medium",
          "Medium",
          "Low",
          "Low",
          "Low",
          "Low",
          "Medium",
          "Medium",
          "Medium",
          "Low",
          "Medium",
          "Medium",
          "Medium",
          "Medium",
          "Low",
          "Medium",
          "Medium",
          "Medium",
          "Medium",
          "High",
          "Low",
          "Low",
          "Low",
          "Low",
          "Low",
          "Medium",
          "Medium",
          "Low",
          "Low",
          "Medium",
          "Low",
          "Medium",
          "Medium",
          "Low",
          "Medium",
          "High",
          "Low",
          "Medium",
          "Medium",
          "Medium",
          "Medium",
          "High",
          "Medium",
          "Low",
          "Low",
          "Low",
          "Medium",
          "High",
          "Low",
          "Medium",
          "Medium",
          "Medium",
          "High",
          "Low",
          "Medium",
          "Medium",
          "Medium",
          "High",
          "Medium",
          "Medium",
          "Medium",
          "Medium",
          "Medium",
          "Medium",
          "Medium",
          "Medium",
          "Medium",
          "Medium",
          "Medium",
          "Medium",
          "Medium",
          "Low",
          "Medium",
          "Medium",
          "Medium",
          "Medium",
          "Medium",
          "Medium",
          "Low",
          "Medium",
          "Medium",
          "High",
          "Medium",
          "Medium",
          "Medium",
          "Medium",
          "Medium",
          "Medium",
          "Medium",
          "Medium",
          "Medium",
          "Medium",
          "Medium",
          "Low",
          "Medium",
          "Low",
          "Medium",
          "Low",
          "Low",
          "Medium",
          "Medium",
          "Medium",
          "Low",
          "High",
          "Low",
          "Low",
          "Medium",
          "Low",
          "Low",
          "Medium",
          "Medium",
          "Low",
          "Low",
          "Medium",
          "Medium",
          "Medium",
          "High",
          "Low",
          "Low",
          "Low",
          "Medium",
          "Medium",
          "Medium",
          "Medium",
          "Low",
          "Medium",
          "Medium",
          "Medium",
          "Medium",
          "Medium",
          "Medium",
          "Medium",
          "Medium",
          "Medium",
          "Medium",
          "Medium",
          "Medium",
          "Medium",
          "Low",
          "High",
          "Medium",
          "Low",
          "Medium",
          "Low",
          "Medium",
          "Low",
          "Medium",
          "Low",
          "Medium",
          "Low",
          "Low",
          "Medium",
          "Medium",
          "Medium",
          "Low",
          "Medium",
          "Medium",
          "Low",
          "Medium",
          "Medium",
          "Medium",
          "Medium",
          "Medium",
          "Low",
          "Medium",
          "Low",
          "Low",
          "Medium",
          "High",
          "Medium",
          "Low",
          "Medium"
         ],
         "yaxis": "y",
         "ybingroup": "y"
        }
       ],
       "layout": {
        "coloraxis": {
         "colorbar": {
          "title": {
           "text": "count"
          }
         },
         "colorscale": [
          [
           0,
           "#0d0887"
          ],
          [
           0.1111111111111111,
           "#46039f"
          ],
          [
           0.2222222222222222,
           "#7201a8"
          ],
          [
           0.3333333333333333,
           "#9c179e"
          ],
          [
           0.4444444444444444,
           "#bd3786"
          ],
          [
           0.5555555555555556,
           "#d8576b"
          ],
          [
           0.6666666666666666,
           "#ed7953"
          ],
          [
           0.7777777777777778,
           "#fb9f3a"
          ],
          [
           0.8888888888888888,
           "#fdca26"
          ],
          [
           1,
           "#f0f921"
          ]
         ]
        },
        "legend": {
         "tracegroupgap": 0
        },
        "template": {
         "data": {
          "bar": [
           {
            "error_x": {
             "color": "#2a3f5f"
            },
            "error_y": {
             "color": "#2a3f5f"
            },
            "marker": {
             "line": {
              "color": "#E5ECF6",
              "width": 0.5
             },
             "pattern": {
              "fillmode": "overlay",
              "size": 10,
              "solidity": 0.2
             }
            },
            "type": "bar"
           }
          ],
          "barpolar": [
           {
            "marker": {
             "line": {
              "color": "#E5ECF6",
              "width": 0.5
             },
             "pattern": {
              "fillmode": "overlay",
              "size": 10,
              "solidity": 0.2
             }
            },
            "type": "barpolar"
           }
          ],
          "carpet": [
           {
            "aaxis": {
             "endlinecolor": "#2a3f5f",
             "gridcolor": "white",
             "linecolor": "white",
             "minorgridcolor": "white",
             "startlinecolor": "#2a3f5f"
            },
            "baxis": {
             "endlinecolor": "#2a3f5f",
             "gridcolor": "white",
             "linecolor": "white",
             "minorgridcolor": "white",
             "startlinecolor": "#2a3f5f"
            },
            "type": "carpet"
           }
          ],
          "choropleth": [
           {
            "colorbar": {
             "outlinewidth": 0,
             "ticks": ""
            },
            "type": "choropleth"
           }
          ],
          "contour": [
           {
            "colorbar": {
             "outlinewidth": 0,
             "ticks": ""
            },
            "colorscale": [
             [
              0,
              "#0d0887"
             ],
             [
              0.1111111111111111,
              "#46039f"
             ],
             [
              0.2222222222222222,
              "#7201a8"
             ],
             [
              0.3333333333333333,
              "#9c179e"
             ],
             [
              0.4444444444444444,
              "#bd3786"
             ],
             [
              0.5555555555555556,
              "#d8576b"
             ],
             [
              0.6666666666666666,
              "#ed7953"
             ],
             [
              0.7777777777777778,
              "#fb9f3a"
             ],
             [
              0.8888888888888888,
              "#fdca26"
             ],
             [
              1,
              "#f0f921"
             ]
            ],
            "type": "contour"
           }
          ],
          "contourcarpet": [
           {
            "colorbar": {
             "outlinewidth": 0,
             "ticks": ""
            },
            "type": "contourcarpet"
           }
          ],
          "heatmap": [
           {
            "colorbar": {
             "outlinewidth": 0,
             "ticks": ""
            },
            "colorscale": [
             [
              0,
              "#0d0887"
             ],
             [
              0.1111111111111111,
              "#46039f"
             ],
             [
              0.2222222222222222,
              "#7201a8"
             ],
             [
              0.3333333333333333,
              "#9c179e"
             ],
             [
              0.4444444444444444,
              "#bd3786"
             ],
             [
              0.5555555555555556,
              "#d8576b"
             ],
             [
              0.6666666666666666,
              "#ed7953"
             ],
             [
              0.7777777777777778,
              "#fb9f3a"
             ],
             [
              0.8888888888888888,
              "#fdca26"
             ],
             [
              1,
              "#f0f921"
             ]
            ],
            "type": "heatmap"
           }
          ],
          "histogram": [
           {
            "marker": {
             "pattern": {
              "fillmode": "overlay",
              "size": 10,
              "solidity": 0.2
             }
            },
            "type": "histogram"
           }
          ],
          "histogram2d": [
           {
            "colorbar": {
             "outlinewidth": 0,
             "ticks": ""
            },
            "colorscale": [
             [
              0,
              "#0d0887"
             ],
             [
              0.1111111111111111,
              "#46039f"
             ],
             [
              0.2222222222222222,
              "#7201a8"
             ],
             [
              0.3333333333333333,
              "#9c179e"
             ],
             [
              0.4444444444444444,
              "#bd3786"
             ],
             [
              0.5555555555555556,
              "#d8576b"
             ],
             [
              0.6666666666666666,
              "#ed7953"
             ],
             [
              0.7777777777777778,
              "#fb9f3a"
             ],
             [
              0.8888888888888888,
              "#fdca26"
             ],
             [
              1,
              "#f0f921"
             ]
            ],
            "type": "histogram2d"
           }
          ],
          "histogram2dcontour": [
           {
            "colorbar": {
             "outlinewidth": 0,
             "ticks": ""
            },
            "colorscale": [
             [
              0,
              "#0d0887"
             ],
             [
              0.1111111111111111,
              "#46039f"
             ],
             [
              0.2222222222222222,
              "#7201a8"
             ],
             [
              0.3333333333333333,
              "#9c179e"
             ],
             [
              0.4444444444444444,
              "#bd3786"
             ],
             [
              0.5555555555555556,
              "#d8576b"
             ],
             [
              0.6666666666666666,
              "#ed7953"
             ],
             [
              0.7777777777777778,
              "#fb9f3a"
             ],
             [
              0.8888888888888888,
              "#fdca26"
             ],
             [
              1,
              "#f0f921"
             ]
            ],
            "type": "histogram2dcontour"
           }
          ],
          "mesh3d": [
           {
            "colorbar": {
             "outlinewidth": 0,
             "ticks": ""
            },
            "type": "mesh3d"
           }
          ],
          "parcoords": [
           {
            "line": {
             "colorbar": {
              "outlinewidth": 0,
              "ticks": ""
             }
            },
            "type": "parcoords"
           }
          ],
          "pie": [
           {
            "automargin": true,
            "type": "pie"
           }
          ],
          "scatter": [
           {
            "fillpattern": {
             "fillmode": "overlay",
             "size": 10,
             "solidity": 0.2
            },
            "type": "scatter"
           }
          ],
          "scatter3d": [
           {
            "line": {
             "colorbar": {
              "outlinewidth": 0,
              "ticks": ""
             }
            },
            "marker": {
             "colorbar": {
              "outlinewidth": 0,
              "ticks": ""
             }
            },
            "type": "scatter3d"
           }
          ],
          "scattercarpet": [
           {
            "marker": {
             "colorbar": {
              "outlinewidth": 0,
              "ticks": ""
             }
            },
            "type": "scattercarpet"
           }
          ],
          "scattergeo": [
           {
            "marker": {
             "colorbar": {
              "outlinewidth": 0,
              "ticks": ""
             }
            },
            "type": "scattergeo"
           }
          ],
          "scattergl": [
           {
            "marker": {
             "colorbar": {
              "outlinewidth": 0,
              "ticks": ""
             }
            },
            "type": "scattergl"
           }
          ],
          "scattermap": [
           {
            "marker": {
             "colorbar": {
              "outlinewidth": 0,
              "ticks": ""
             }
            },
            "type": "scattermap"
           }
          ],
          "scattermapbox": [
           {
            "marker": {
             "colorbar": {
              "outlinewidth": 0,
              "ticks": ""
             }
            },
            "type": "scattermapbox"
           }
          ],
          "scatterpolar": [
           {
            "marker": {
             "colorbar": {
              "outlinewidth": 0,
              "ticks": ""
             }
            },
            "type": "scatterpolar"
           }
          ],
          "scatterpolargl": [
           {
            "marker": {
             "colorbar": {
              "outlinewidth": 0,
              "ticks": ""
             }
            },
            "type": "scatterpolargl"
           }
          ],
          "scatterternary": [
           {
            "marker": {
             "colorbar": {
              "outlinewidth": 0,
              "ticks": ""
             }
            },
            "type": "scatterternary"
           }
          ],
          "surface": [
           {
            "colorbar": {
             "outlinewidth": 0,
             "ticks": ""
            },
            "colorscale": [
             [
              0,
              "#0d0887"
             ],
             [
              0.1111111111111111,
              "#46039f"
             ],
             [
              0.2222222222222222,
              "#7201a8"
             ],
             [
              0.3333333333333333,
              "#9c179e"
             ],
             [
              0.4444444444444444,
              "#bd3786"
             ],
             [
              0.5555555555555556,
              "#d8576b"
             ],
             [
              0.6666666666666666,
              "#ed7953"
             ],
             [
              0.7777777777777778,
              "#fb9f3a"
             ],
             [
              0.8888888888888888,
              "#fdca26"
             ],
             [
              1,
              "#f0f921"
             ]
            ],
            "type": "surface"
           }
          ],
          "table": [
           {
            "cells": {
             "fill": {
              "color": "#EBF0F8"
             },
             "line": {
              "color": "white"
             }
            },
            "header": {
             "fill": {
              "color": "#C8D4E3"
             },
             "line": {
              "color": "white"
             }
            },
            "type": "table"
           }
          ]
         },
         "layout": {
          "annotationdefaults": {
           "arrowcolor": "#2a3f5f",
           "arrowhead": 0,
           "arrowwidth": 1
          },
          "autotypenumbers": "strict",
          "coloraxis": {
           "colorbar": {
            "outlinewidth": 0,
            "ticks": ""
           }
          },
          "colorscale": {
           "diverging": [
            [
             0,
             "#8e0152"
            ],
            [
             0.1,
             "#c51b7d"
            ],
            [
             0.2,
             "#de77ae"
            ],
            [
             0.3,
             "#f1b6da"
            ],
            [
             0.4,
             "#fde0ef"
            ],
            [
             0.5,
             "#f7f7f7"
            ],
            [
             0.6,
             "#e6f5d0"
            ],
            [
             0.7,
             "#b8e186"
            ],
            [
             0.8,
             "#7fbc41"
            ],
            [
             0.9,
             "#4d9221"
            ],
            [
             1,
             "#276419"
            ]
           ],
           "sequential": [
            [
             0,
             "#0d0887"
            ],
            [
             0.1111111111111111,
             "#46039f"
            ],
            [
             0.2222222222222222,
             "#7201a8"
            ],
            [
             0.3333333333333333,
             "#9c179e"
            ],
            [
             0.4444444444444444,
             "#bd3786"
            ],
            [
             0.5555555555555556,
             "#d8576b"
            ],
            [
             0.6666666666666666,
             "#ed7953"
            ],
            [
             0.7777777777777778,
             "#fb9f3a"
            ],
            [
             0.8888888888888888,
             "#fdca26"
            ],
            [
             1,
             "#f0f921"
            ]
           ],
           "sequentialminus": [
            [
             0,
             "#0d0887"
            ],
            [
             0.1111111111111111,
             "#46039f"
            ],
            [
             0.2222222222222222,
             "#7201a8"
            ],
            [
             0.3333333333333333,
             "#9c179e"
            ],
            [
             0.4444444444444444,
             "#bd3786"
            ],
            [
             0.5555555555555556,
             "#d8576b"
            ],
            [
             0.6666666666666666,
             "#ed7953"
            ],
            [
             0.7777777777777778,
             "#fb9f3a"
            ],
            [
             0.8888888888888888,
             "#fdca26"
            ],
            [
             1,
             "#f0f921"
            ]
           ]
          },
          "colorway": [
           "#636efa",
           "#EF553B",
           "#00cc96",
           "#ab63fa",
           "#FFA15A",
           "#19d3f3",
           "#FF6692",
           "#B6E880",
           "#FF97FF",
           "#FECB52"
          ],
          "font": {
           "color": "#2a3f5f"
          },
          "geo": {
           "bgcolor": "white",
           "lakecolor": "white",
           "landcolor": "#E5ECF6",
           "showlakes": true,
           "showland": true,
           "subunitcolor": "white"
          },
          "hoverlabel": {
           "align": "left"
          },
          "hovermode": "closest",
          "mapbox": {
           "style": "light"
          },
          "paper_bgcolor": "white",
          "plot_bgcolor": "#E5ECF6",
          "polar": {
           "angularaxis": {
            "gridcolor": "white",
            "linecolor": "white",
            "ticks": ""
           },
           "bgcolor": "#E5ECF6",
           "radialaxis": {
            "gridcolor": "white",
            "linecolor": "white",
            "ticks": ""
           }
          },
          "scene": {
           "xaxis": {
            "backgroundcolor": "#E5ECF6",
            "gridcolor": "white",
            "gridwidth": 2,
            "linecolor": "white",
            "showbackground": true,
            "ticks": "",
            "zerolinecolor": "white"
           },
           "yaxis": {
            "backgroundcolor": "#E5ECF6",
            "gridcolor": "white",
            "gridwidth": 2,
            "linecolor": "white",
            "showbackground": true,
            "ticks": "",
            "zerolinecolor": "white"
           },
           "zaxis": {
            "backgroundcolor": "#E5ECF6",
            "gridcolor": "white",
            "gridwidth": 2,
            "linecolor": "white",
            "showbackground": true,
            "ticks": "",
            "zerolinecolor": "white"
           }
          },
          "shapedefaults": {
           "line": {
            "color": "#2a3f5f"
           }
          },
          "ternary": {
           "aaxis": {
            "gridcolor": "white",
            "linecolor": "white",
            "ticks": ""
           },
           "baxis": {
            "gridcolor": "white",
            "linecolor": "white",
            "ticks": ""
           },
           "bgcolor": "#E5ECF6",
           "caxis": {
            "gridcolor": "white",
            "linecolor": "white",
            "ticks": ""
           }
          },
          "title": {
           "x": 0.05
          },
          "xaxis": {
           "automargin": true,
           "gridcolor": "white",
           "linecolor": "white",
           "ticks": "",
           "title": {
            "standoff": 15
           },
           "zerolinecolor": "white",
           "zerolinewidth": 2
          },
          "yaxis": {
           "automargin": true,
           "gridcolor": "white",
           "linecolor": "white",
           "ticks": "",
           "title": {
            "standoff": 15
           },
           "zerolinecolor": "white",
           "zerolinewidth": 2
          }
         }
        },
        "title": {
         "text": "Business Size vs Performance Tier Distribution"
        },
        "xaxis": {
         "anchor": "y",
         "domain": [
          0,
          1
         ],
         "title": {
          "text": "business_size"
         }
        },
        "yaxis": {
         "anchor": "x",
         "domain": [
          0,
          1
         ],
         "title": {
          "text": "performance_tier"
         }
        }
       }
      }
     },
     "metadata": {},
     "output_type": "display_data"
    },
    {
     "name": "stdout",
     "output_type": "stream",
     "text": [
      "\n",
      "4.3 Key Metrics by Categories:\n",
      "--------------------------------\n",
      "Regional Summary:\n",
      "        sales_amount_count  sales_amount_mean  sales_amount_median  \\\n",
      "region                                                               \n",
      "East                   239           49993.26             50528.95   \n",
      "North                  304           50371.97             50408.07   \n",
      "South                  252           52247.31             51627.34   \n",
      "West                   205           48152.51             48278.95   \n",
      "\n",
      "        sales_amount_std  customer_satisfaction_mean  marketing_spend_sum  \\\n",
      "region                                                                      \n",
      "East            14478.41                        6.96            603147.97   \n",
      "North           15067.46                        7.03            765058.48   \n",
      "South           14301.18                        7.09            677752.31   \n",
      "West            14481.60                        6.98            505792.59   \n",
      "\n",
      "        employee_count_mean  \n",
      "region                       \n",
      "East                  20.44  \n",
      "North                 19.46  \n",
      "South                 20.33  \n",
      "West                  19.72  \n",
      "\n",
      "Product Category Summary:\n",
      "                  sales_amount_count  sales_amount_mean  sales_amount_sum  \\\n",
      "product_category                                                            \n",
      "Books                            107           48985.64        5241463.39   \n",
      "Clothing                         291           51706.62       15046625.97   \n",
      "Electronics                      414           49462.25       20477372.73   \n",
      "Home                             188           50710.59        9533591.06   \n",
      "\n",
      "                  product_price_mean  customer_satisfaction_mean  \n",
      "product_category                                                  \n",
      "Books                          99.28                        6.98  \n",
      "Clothing                      102.18                        7.09  \n",
      "Electronics                    98.50                        6.98  \n",
      "Home                          100.92                        7.03  \n",
      "\n",
      " Pivot analysis complete!\n"
     ]
    }
   ],
   "source": [
    "# 4. PIVOT TABLES AND CROSS-TABULATION ANALYSIS\n",
    "# ==============================================\n",
    "\n",
    "print(\"PIVOT TABLES & CROSS-TABULATION\")\n",
    "print(\"=\" * 35)\n",
    "\n",
    "# 4.1 Sales analysis by region and category\n",
    "print(\"\\n4.1 Sales Analysis by Region and Product Category:\")\n",
    "print(\"-\" * 50)\n",
    "pivot_sales = df.pivot_table(\n",
    " values=['sales_amount', 'marketing_spend', 'customer_satisfaction'],\n",
    " index='region',\n",
    " columns='product_category',\n",
    " aggfunc={'sales_amount': 'mean', 'marketing_spend': 'sum', 'customer_satisfaction': 'mean'}\n",
    ")\n",
    "\n",
    "print(\"Average Sales by Region and Category:\")\n",
    "print(pivot_sales['sales_amount'].round(0))\n",
    "print(\"\\nTotal Marketing Spend by Region and Category:\")\n",
    "print(pivot_sales['marketing_spend'].round(0))\n",
    "\n",
    "# Interactive pivot visualization\n",
    "fig = px.sunburst(\n",
    " df,\n",
    " path=['region', 'product_category'],\n",
    " values='sales_amount',\n",
    " title=\"Sales Distribution: Region → Product Category\"\n",
    ")\n",
    "fig.show()\n",
    "\n",
    "# 4.2 Cross-tabulation analysis\n",
    "print(\"\\n4.2 Cross-Tabulation Analysis:\")\n",
    "print(\"-\" * 31)\n",
    "\n",
    "# Business size vs Performance tier\n",
    "crosstab = pd.crosstab(df['business_size'], df['performance_tier'],\n",
    " margins=True, normalize='index')\n",
    "print(\"Business Size vs Performance Tier (Row Percentages):\")\n",
    "print(crosstab.round(3))\n",
    "\n",
    "# Visualization of cross-tab\n",
    "fig = px.density_heatmap(\n",
    " df, x='business_size', y='performance_tier',\n",
    " title=\"Business Size vs Performance Tier Distribution\"\n",
    ")\n",
    "fig.show()\n",
    "\n",
    "# 4.3 Aggregated metrics by categories\n",
    "print(\"\\n4.3 Key Metrics by Categories:\")\n",
    "print(\"-\" * 32)\n",
    "\n",
    "# Group by region\n",
    "region_summary = df.groupby('region').agg({\n",
    " 'sales_amount': ['count', 'mean', 'median', 'std'],\n",
    " 'customer_satisfaction': 'mean',\n",
    " 'marketing_spend': 'sum',\n",
    " 'employee_count': 'mean'\n",
    "}).round(2)\n",
    "\n",
    "region_summary.columns = ['_'.join(col).strip() for col in region_summary.columns]\n",
    "print(\"Regional Summary:\")\n",
    "print(region_summary)\n",
    "\n",
    "# Group by product category\n",
    "category_summary = df.groupby('product_category').agg({\n",
    " 'sales_amount': ['count', 'mean', 'sum'],\n",
    " 'product_price': 'mean',\n",
    " 'customer_satisfaction': 'mean'\n",
    "}).round(2)\n",
    "\n",
    "category_summary.columns = ['_'.join(col).strip() for col in category_summary.columns]\n",
    "print(\"\\nProduct Category Summary:\")\n",
    "print(category_summary)\n",
    "\n",
    "print(\"\\n Pivot analysis complete!\")"
   ]
  }
 ],
 "metadata": {
  "kernelspec": {
   "display_name": ".venv",
   "language": "python",
   "name": "python3"
  },
  "language_info": {
   "codemirror_mode": {
    "name": "ipython",
    "version": 3
   },
   "file_extension": ".py",
   "mimetype": "text/x-python",
   "name": "python",
   "nbconvert_exporter": "python",
   "pygments_lexer": "ipython3",
   "version": "3.13.7"
  }
 },
 "nbformat": 4,
 "nbformat_minor": 5
}
