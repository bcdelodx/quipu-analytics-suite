{
 "cells": [
  {
   "cell_type": "markdown",
   "id": "d34728ba",
   "metadata": {},
   "source": [
    "# Tier 5: Naive Bayes Classification\n",
    "\n",
    "---\n",
    "\n",
    "**Author:** Brandon Deloatch\n",
    "**Affiliation:** Quipu Research Labs, LLC\n",
    "**Date:** 2025-10-02\n",
    "**Version:** v1.3\n",
    "**License:** MIT\n",
    "**Notebook ID:** b0b14187-df8b-4626-823d-a105acb62f35\n",
    "\n",
    "---\n",
    "\n",
    "## Citation\n",
    "Brandon Deloatch, \"Tier 5: Naive Bayes Classification,\" Quipu Research Labs, LLC, v1.3, 2025-10-02.\n",
    "\n",
    "Please cite this notebook if used or adapted in publications, presentations, or derivative work.\n",
    "\n",
    "---\n",
    "\n",
    "## Contributors / Acknowledgments\n",
    "- **Primary Author:** Brandon Deloatch (Quipu Research Labs, LLC)\n",
    "- **Institutional Support:** Quipu Research Labs, LLC - Advanced Analytics Division\n",
    "- **Technical Framework:** Built on scikit-learn, pandas, numpy, and plotly ecosystems\n",
    "- **Methodological Foundation:** Statistical learning principles and modern data science best practices\n",
    "\n",
    "---\n",
    "\n",
    "## Version History\n",
    "| Version | Date | Notes |\n",
    "|---------|------|-------|\n",
    "| v1.3 | 2025-10-02 | Enhanced professional formatting, comprehensive documentation, interactive visualizations |\n",
    "| v1.2 | 2024-09-15 | Updated analysis methods, improved data generation algorithms |\n",
    "| v1.0 | 2024-06-10 | Initial release with core analytical framework |\n",
    "\n",
    "---\n",
    "\n",
    "## Environment Dependencies\n",
    "- **Python:** 3.8+\n",
    "- **Core Libraries:** pandas 2.0+, numpy 1.24+, scikit-learn 1.3+\n",
    "- **Visualization:** plotly 5.0+, matplotlib 3.7+\n",
    "- **Statistical:** scipy 1.10+, statsmodels 0.14+\n",
    "- **Development:** jupyter-lab 4.0+, ipywidgets 8.0+\n",
    "\n",
    "> **Reproducibility Note:** Use requirements.txt or environment.yml for exact dependency matching.\n",
    "\n",
    "---\n",
    "\n",
    "## Data Provenance\n",
    "| Dataset | Source | License | Notes |\n",
    "|---------|--------|---------|-------|\n",
    "| Synthetic Data | Generated in-notebook | MIT | Custom algorithms for realistic simulation |\n",
    "| Statistical Distributions | NumPy/SciPy | BSD-3-Clause | Standard library implementations |\n",
    "| ML Algorithms | Scikit-learn | BSD-3-Clause | Industry-standard implementations |\n",
    "| Visualization Schemas | Plotly | MIT | Interactive dashboard frameworks |\n",
    "\n",
    "---\n",
    "\n",
    "## Execution Provenance Logs\n",
    "- **Created:** 2025-10-02\n",
    "- **Notebook ID:** b0b14187-df8b-4626-823d-a105acb62f35\n",
    "- **Execution Environment:** Jupyter Lab / VS Code\n",
    "- **Computational Requirements:** Standard laptop/workstation (2GB+ RAM recommended)\n",
    "\n",
    "> **Auto-tracking:** Execution metadata can be programmatically captured for reproducibility.\n",
    "\n",
    "---\n",
    "\n",
    "## Disclaimer & Responsible Use\n",
    "This notebook is provided \"as-is\" for educational, research, and professional development purposes. Users assume full responsibility for any results, applications, or decisions derived from this analysis.\n",
    "\n",
    "**Professional Standards:**\n",
    "- Validate all results against domain expertise and additional data sources\n",
    "- Respect licensing and attribution requirements for all dependencies\n",
    "- Follow ethical guidelines for data analysis and algorithmic decision-making\n",
    "- Credit all methodological sources and derivative frameworks appropriately\n",
    "\n",
    "**Academic & Commercial Use:**\n",
    "- Permitted under MIT license with proper attribution\n",
    "- Suitable for educational curriculum and professional training\n",
    "- Appropriate for commercial adaptation with citation requirements\n",
    "- Recommended for reproducible research and transparent analytics\n",
    "\n",
    "---\n",
    "\n"
   ]
  },
  {
   "cell_type": "code",
   "execution_count": 6,
   "id": "0c91d6ab",
   "metadata": {},
   "outputs": [
    {
     "name": "stdout",
     "output_type": "stream",
     "text": [
      " Tier 5: Naive Bayes Classification - Libraries Loaded!\n",
      "=======================================================\n",
      "Naive Bayes Classification Techniques:\n",
      "• Gaussian Naive Bayes for continuous features\n",
      "• Multinomial Naive Bayes for count data\n",
      "• Bernoulli Naive Bayes for binary features\n",
      "• Text classification and document analysis\n",
      "• Probability estimation and feature independence\n",
      "• Real-time classification applications\n"
     ]
    }
   ],
   "source": [
    "import pandas as pd\n",
    "import numpy as np\n",
    "import plotly.express as px\n",
    "import plotly.graph_objects as go\n",
    "from plotly.subplots import make_subplots\n",
    "from sklearn.naive_bayes import GaussianNB, MultinomialNB, BernoulliNB, ComplementNB\n",
    "from sklearn.model_selection import train_test_split, cross_val_score, GridSearchCV\n",
    "from sklearn.metrics import classification_report, confusion_matrix, accuracy_score, roc_curve, auc\n",
    "from sklearn.preprocessing import StandardScaler, LabelEncoder\n",
    "from sklearn.feature_extraction.text import CountVectorizer, TfidfVectorizer\n",
    "from sklearn.datasets import make_classification, fetch_20newsgroups\n",
    "import warnings\n",
    "warnings.filterwarnings('ignore')\n",
    "\n",
    "print(\" Tier 5: Naive Bayes Classification - Libraries Loaded!\")\n",
    "print(\"=\"*55)\n",
    "print(\"Naive Bayes Classification Techniques:\")\n",
    "print(\"• Gaussian Naive Bayes for continuous features\")\n",
    "print(\"• Multinomial Naive Bayes for count data\")\n",
    "print(\"• Bernoulli Naive Bayes for binary features\")\n",
    "print(\"• Text classification and document analysis\")\n",
    "print(\"• Probability estimation and feature independence\")\n",
    "print(\"• Real-time classification applications\")"
   ]
  },
  {
   "cell_type": "code",
   "execution_count": 7,
   "id": "4958665e",
   "metadata": {},
   "outputs": [
    {
     "name": "stdout",
     "output_type": "stream",
     "text": [
      " Naive Bayes Datasets Created:\n",
      "Medical diagnosis dataset: (2000, 9)\n",
      "Disease distribution: {'Healthy': 811, 'Flu': 610, 'COVID-19': 404, 'Pneumonia': 175}\n",
      "\n",
      "Email spam dataset: (3000, 7)\n",
      "Spam distribution: {0: 2121, 1: 879}\n",
      "Sample email text: 'money deal free credit offer buy money deal offer ...'\n"
     ]
    }
   ],
   "source": [
    "# Generate comprehensive Naive Bayes datasets\n",
    "np.random.seed(42)\n",
    "\n",
    "# 1. Medical diagnosis dataset (Gaussian NB)\n",
    "def generate_medical_dataset(n_samples=2000):\n",
    "    \"\"\"Generate realistic medical diagnosis dataset.\"\"\"\n",
    "\n",
    "    # Define disease classes\n",
    "    diseases = ['Healthy', 'Flu', 'COVID-19', 'Pneumonia']\n",
    "    n_classes = len(diseases)\n",
    "\n",
    "    data = []\n",
    "\n",
    "    for i in range(n_samples):\n",
    "        # Random disease assignment\n",
    "        disease_idx = np.random.choice(n_classes, p=[0.4, 0.3, 0.2, 0.1])\n",
    "        disease = diseases[disease_idx]\n",
    "\n",
    "        # Generate symptoms based on disease\n",
    "        if disease == 'Healthy':\n",
    "            temperature = np.random.normal(98.6, 0.5)\n",
    "            heart_rate = np.random.normal(70, 8)\n",
    "            blood_pressure = np.random.normal(120, 10)\n",
    "            oxygen_saturation = np.random.normal(98, 1)\n",
    "            white_cell_count = np.random.normal(7000, 1000)\n",
    "\n",
    "        elif disease == 'Flu':\n",
    "            temperature = np.random.normal(101.5, 1.2)\n",
    "            heart_rate = np.random.normal(85, 12)\n",
    "            blood_pressure = np.random.normal(125, 12)\n",
    "            oxygen_saturation = np.random.normal(97, 1.5)\n",
    "            white_cell_count = np.random.normal(9000, 1500)\n",
    "\n",
    "        elif disease == 'COVID-19':\n",
    "            temperature = np.random.normal(102.2, 1.5)\n",
    "            heart_rate = np.random.normal(90, 15)\n",
    "            blood_pressure = np.random.normal(118, 15)\n",
    "            oxygen_saturation = np.random.normal(94, 3)\n",
    "            white_cell_count = np.random.normal(6000, 2000)\n",
    "\n",
    "        else: # Pneumonia\n",
    "            temperature = np.random.normal(103.1, 1.8)\n",
    "            heart_rate = np.random.normal(95, 18)\n",
    "            blood_pressure = np.random.normal(115, 18)\n",
    "            oxygen_saturation = np.random.normal(91, 4)\n",
    "            white_cell_count = np.random.normal(12000, 2500)\n",
    "\n",
    "        data.append({\n",
    "            'patient_id': f'PAT_{i:06d}',\n",
    "            'temperature': temperature,\n",
    "            'heart_rate': heart_rate,\n",
    "            'blood_pressure': blood_pressure,\n",
    "            'oxygen_saturation': oxygen_saturation,\n",
    "            'white_cell_count': white_cell_count,\n",
    "            'age': np.random.normal(45, 15),\n",
    "            'diagnosis': disease,\n",
    "            'diagnosis_code': disease_idx\n",
    "        })\n",
    "\n",
    "    return pd.DataFrame(data)\n",
    "\n",
    "# 2. Email spam detection dataset (Multinomial/Bernoulli NB)\n",
    "def generate_email_dataset(n_samples=3000):\n",
    "    \"\"\"Generate email spam detection dataset.\"\"\"\n",
    "\n",
    "    # Common words in spam vs ham emails\n",
    "    spam_words = ['free', 'money', 'win', 'prize', 'urgent', 'limited', 'offer', 'click',\n",
    "                  'buy', 'discount', 'sale', 'deal', 'cash', 'credit', 'loan']\n",
    "    ham_words = ['meeting', 'project', 'report', 'team', 'schedule', 'work', 'office',\n",
    "                 'client', 'proposal', 'budget', 'deadline', 'presentation', 'conference']\n",
    "\n",
    "    emails = []\n",
    "\n",
    "    for i in range(n_samples):\n",
    "        is_spam = np.random.choice([0, 1], p=[0.7, 0.3]) # 30% spam\n",
    "\n",
    "        if is_spam:\n",
    "            # Generate spam email\n",
    "            email_words = np.random.choice(spam_words, size=np.random.randint(10, 30))\n",
    "            # Add some random normal words\n",
    "            normal_words = np.random.choice(ham_words, size=np.random.randint(2, 8))\n",
    "            all_words = list(email_words) + list(normal_words)\n",
    "        else:\n",
    "            # Generate ham email\n",
    "            email_words = np.random.choice(ham_words, size=np.random.randint(15, 40))\n",
    "            # Add occasional spam words (false positives)\n",
    "            occasional_spam = np.random.choice(spam_words, size=np.random.randint(0, 3))\n",
    "            all_words = list(email_words) + list(occasional_spam)\n",
    "\n",
    "        # Create email text\n",
    "        email_text = ' '.join(all_words)\n",
    "\n",
    "        # Email features\n",
    "        emails.append({\n",
    "            'email_id': f'EMAIL_{i:06d}',\n",
    "            'text': email_text,\n",
    "            'word_count': len(all_words),\n",
    "            'exclamation_count': email_text.count('!'),\n",
    "            'capital_ratio': sum(1 for c in email_text if c.isupper()) / len(email_text),\n",
    "            'spam_word_count': sum(1 for word in all_words if word in spam_words),\n",
    "            'is_spam': is_spam\n",
    "        })\n",
    "\n",
    "    return pd.DataFrame(emails)\n",
    "\n",
    "# Generate datasets\n",
    "medical_df = generate_medical_dataset()\n",
    "email_df = generate_email_dataset()\n",
    "\n",
    "print(\" Naive Bayes Datasets Created:\")\n",
    "print(f\"Medical diagnosis dataset: {medical_df.shape}\")\n",
    "print(f\"Disease distribution: {medical_df['diagnosis'].value_counts().to_dict()}\")\n",
    "print(f\"\\nEmail spam dataset: {email_df.shape}\")\n",
    "print(f\"Spam distribution: {email_df['is_spam'].value_counts().to_dict()}\")\n",
    "print(f\"Sample email text: '{email_df['text'].iloc[0][:50]}...'\")"
   ]
  },
  {
   "cell_type": "code",
   "execution_count": 8,
   "id": "86a9bf11",
   "metadata": {},
   "outputs": [
    {
     "name": "stdout",
     "output_type": "stream",
     "text": [
      " 1. GAUSSIAN NAIVE BAYES FOR MEDICAL DIAGNOSIS\n",
      "================================================\n",
      "Medical Diagnosis Performance:\n",
      "Accuracy: 0.925\n",
      "Cross-validation: 0.922 ± 0.008\n",
      "\n",
      "Feature Analysis (class means):\n",
      "Healthy:\n",
      " temperature: 98.6\n",
      " heart_rate: 69.6\n",
      " blood_pressure: 120.5\n",
      " oxygen_saturation: 98.0\n",
      " white_cell_count: 6997.8\n",
      " age: 45.7\n",
      "Flu:\n",
      " temperature: 101.5\n",
      " heart_rate: 84.7\n",
      " blood_pressure: 125.6\n",
      " oxygen_saturation: 97.1\n",
      " white_cell_count: 8990.2\n",
      " age: 44.8\n",
      "COVID-19:\n",
      " temperature: 102.0\n",
      " heart_rate: 88.5\n",
      " blood_pressure: 115.7\n",
      " oxygen_saturation: 94.1\n",
      " white_cell_count: 6019.8\n",
      " age: 44.5\n",
      "Pneumonia:\n",
      " temperature: 102.9\n",
      " heart_rate: 94.5\n",
      " blood_pressure: 116.4\n",
      " oxygen_saturation: 90.9\n",
      " white_cell_count: 12150.4\n",
      " age: 41.8\n",
      "\n",
      "Sample Predictions (with probabilities):\n",
      "Patient 1: Actual=Healthy, Predicted=Healthy (confidence: 0.99)\n",
      "Patient 2: Actual=Healthy, Predicted=Healthy (confidence: 1.00)\n",
      "Patient 3: Actual=Healthy, Predicted=Healthy (confidence: 0.99)\n",
      "Patient 4: Actual=Healthy, Predicted=Healthy (confidence: 1.00)\n",
      "Patient 5: Actual=COVID-19, Predicted=COVID-19 (confidence: 0.85)\n"
     ]
    }
   ],
   "source": [
    "# 1. GAUSSIAN NAIVE BAYES FOR MEDICAL DIAGNOSIS\n",
    "print(\" 1. GAUSSIAN NAIVE BAYES FOR MEDICAL DIAGNOSIS\")\n",
    "print(\"=\"*48)\n",
    "\n",
    "# Prepare medical data\n",
    "medical_features = ['temperature', 'heart_rate', 'blood_pressure', 'oxygen_saturation', 'white_cell_count', 'age']\n",
    "X_medical = medical_df[medical_features].values\n",
    "y_medical = medical_df['diagnosis_code'].values\n",
    "\n",
    "# Split the data\n",
    "X_med_train, X_med_test, y_med_train, y_med_test = train_test_split(\n",
    " X_medical, y_medical, test_size=0.2, random_state=42, stratify=y_medical\n",
    ")\n",
    "\n",
    "# Train Gaussian Naive Bayes\n",
    "gnb = GaussianNB()\n",
    "gnb.fit(X_med_train, y_med_train)\n",
    "\n",
    "# Predictions and evaluation\n",
    "y_med_pred = gnb.predict(X_med_test)\n",
    "y_med_proba = gnb.predict_proba(X_med_test)\n",
    "\n",
    "# Performance metrics\n",
    "med_accuracy = accuracy_score(y_med_test, y_med_pred)\n",
    "med_cv_scores = cross_val_score(gnb, X_med_train, y_med_train, cv=5)\n",
    "\n",
    "print(f\"Medical Diagnosis Performance:\")\n",
    "print(f\"Accuracy: {med_accuracy:.3f}\")\n",
    "print(f\"Cross-validation: {med_cv_scores.mean():.3f} ± {med_cv_scores.std():.3f}\")\n",
    "\n",
    "# Feature analysis\n",
    "print(f\"\\nFeature Analysis (class means):\")\n",
    "diseases = ['Healthy', 'Flu', 'COVID-19', 'Pneumonia']\n",
    "for i, disease in enumerate(diseases):\n",
    "    class_means = gnb.theta_[i]\n",
    "    print(f\"{disease}:\")\n",
    "    for j, feature in enumerate(medical_features):\n",
    "        print(f\" {feature}: {class_means[j]:.1f}\")\n",
    "\n",
    "# Sample predictions with probabilities\n",
    "print(f\"\\nSample Predictions (with probabilities):\")\n",
    "for i in range(5):\n",
    "    actual = diseases[y_med_test[i]]\n",
    "    predicted = diseases[y_med_pred[i]]\n",
    "    proba = y_med_proba[i]\n",
    "    max_proba = np.max(proba)\n",
    "    print(f\"Patient {i+1}: Actual={actual}, Predicted={predicted} (confidence: {max_proba:.2f})\")"
   ]
  },
  {
   "cell_type": "code",
   "execution_count": 9,
   "id": "9fd440bb",
   "metadata": {},
   "outputs": [
    {
     "name": "stdout",
     "output_type": "stream",
     "text": [
      " 2. MULTINOMIAL AND BERNOULLI NAIVE BAYES FOR TEXT CLASSIFICATION\n",
      "==================================================================\n",
      "Hyperparameter Optimization:\n",
      "Best alpha for Multinomial NB: 0.01 (CV score: 1.000)\n",
      "Best alpha for Bernoulli NB: 0.01 (CV score: 1.000)\n",
      "\n",
      "Email Spam Detection Performance:\n",
      "Multinomial NB: 1.000\n",
      "Bernoulli NB: 1.000\n",
      "\n",
      "Top spam-indicating words (Multinomial NB):\n",
      " prize: 2.784\n",
      " cash: 2.729\n",
      " free: 2.721\n",
      " urgent: 2.700\n",
      " sale: 2.697\n",
      " win: 2.678\n",
      " limited: 2.655\n",
      " deal: 2.623\n",
      " discount: 2.615\n",
      " loan: 2.605\n",
      "Hyperparameter Optimization:\n",
      "Best alpha for Multinomial NB: 0.01 (CV score: 1.000)\n",
      "Best alpha for Bernoulli NB: 0.01 (CV score: 1.000)\n",
      "\n",
      "Email Spam Detection Performance:\n",
      "Multinomial NB: 1.000\n",
      "Bernoulli NB: 1.000\n",
      "\n",
      "Top spam-indicating words (Multinomial NB):\n",
      " prize: 2.784\n",
      " cash: 2.729\n",
      " free: 2.721\n",
      " urgent: 2.700\n",
      " sale: 2.697\n",
      " win: 2.678\n",
      " limited: 2.655\n",
      " deal: 2.623\n",
      " discount: 2.615\n",
      " loan: 2.605\n"
     ]
    }
   ],
   "source": [
    "# 2. MULTINOMIAL AND BERNOULLI NAIVE BAYES FOR TEXT CLASSIFICATION\n",
    "print(\" 2. MULTINOMIAL AND BERNOULLI NAIVE BAYES FOR TEXT CLASSIFICATION\")\n",
    "print(\"=\"*66)\n",
    "\n",
    "# Prepare email text data\n",
    "# Create TF-IDF features for Multinomial NB\n",
    "tfidf_vectorizer = TfidfVectorizer(max_features=1000, stop_words='english')\n",
    "X_email_tfidf = tfidf_vectorizer.fit_transform(email_df['text'])\n",
    "\n",
    "# Create binary features for Bernoulli NB\n",
    "binary_vectorizer = CountVectorizer(max_features=500, binary=True, stop_words='english')\n",
    "X_email_binary = binary_vectorizer.fit_transform(email_df['text'])\n",
    "\n",
    "y_email = email_df['is_spam'].values\n",
    "\n",
    "# Split data\n",
    "X_email_tfidf_train, X_email_tfidf_test, y_email_train, y_email_test = train_test_split(\n",
    " X_email_tfidf, y_email, test_size=0.2, random_state=42, stratify=y_email\n",
    ")\n",
    "\n",
    "X_email_bin_train, X_email_bin_test, _, _ = train_test_split(\n",
    " X_email_binary, y_email, test_size=0.2, random_state=42, stratify=y_email\n",
    ")\n",
    "\n",
    "# Train Multinomial Naive Bayes\n",
    "mnb = MultinomialNB()\n",
    "mnb.fit(X_email_tfidf_train, y_email_train)\n",
    "y_email_pred_mnb = mnb.predict(X_email_tfidf_test)\n",
    "mnb_accuracy = accuracy_score(y_email_test, y_email_pred_mnb)\n",
    "\n",
    "# Train Bernoulli Naive Bayes\n",
    "bnb = BernoulliNB()\n",
    "bnb.fit(X_email_bin_train, y_email_train)\n",
    "y_email_pred_bnb = bnb.predict(X_email_bin_test)\n",
    "bnb_accuracy = accuracy_score(y_email_test, y_email_pred_bnb)\n",
    "\n",
    "# Hyperparameter tuning\n",
    "print(\"Hyperparameter Optimization:\")\n",
    "\n",
    "# Multinomial NB alpha tuning\n",
    "alpha_values = [0.01, 0.1, 0.5, 1.0, 2.0, 5.0]\n",
    "mnb_scores = []\n",
    "\n",
    "for alpha in alpha_values:\n",
    "    mnb_temp = MultinomialNB(alpha=alpha)\n",
    "    scores = cross_val_score(mnb_temp, X_email_tfidf_train, y_email_train, cv=5)\n",
    "    mnb_scores.append(scores.mean())\n",
    "\n",
    "best_alpha_mnb = alpha_values[np.argmax(mnb_scores)]\n",
    "print(f\"Best alpha for Multinomial NB: {best_alpha_mnb} (CV score: {max(mnb_scores):.3f})\")\n",
    "\n",
    "# Bernoulli NB alpha tuning\n",
    "bnb_scores = []\n",
    "for alpha in alpha_values:\n",
    "    bnb_temp = BernoulliNB(alpha=alpha)\n",
    "    scores = cross_val_score(bnb_temp, X_email_bin_train, y_email_train, cv=5)\n",
    "    bnb_scores.append(scores.mean())\n",
    "\n",
    "best_alpha_bnb = alpha_values[np.argmax(bnb_scores)]\n",
    "print(f\"Best alpha for Bernoulli NB: {best_alpha_bnb} (CV score: {max(bnb_scores):.3f})\")\n",
    "\n",
    "# Retrain with optimal parameters\n",
    "mnb_best = MultinomialNB(alpha=best_alpha_mnb)\n",
    "mnb_best.fit(X_email_tfidf_train, y_email_train)\n",
    "y_email_pred_mnb_best = mnb_best.predict(X_email_tfidf_test)\n",
    "\n",
    "bnb_best = BernoulliNB(alpha=best_alpha_bnb)\n",
    "bnb_best.fit(X_email_bin_train, y_email_train)\n",
    "y_email_pred_bnb_best = bnb_best.predict(X_email_bin_test)\n",
    "\n",
    "print(f\"\\nEmail Spam Detection Performance:\")\n",
    "print(f\"Multinomial NB: {accuracy_score(y_email_test, y_email_pred_mnb_best):.3f}\")\n",
    "print(f\"Bernoulli NB: {accuracy_score(y_email_test, y_email_pred_bnb_best):.3f}\")\n",
    "\n",
    "# Feature importance analysis\n",
    "print(f\"\\nTop spam-indicating words (Multinomial NB):\")\n",
    "feature_names = tfidf_vectorizer.get_feature_names_out()\n",
    "spam_log_prob = mnb_best.feature_log_prob_[1] # Spam class\n",
    "ham_log_prob = mnb_best.feature_log_prob_[0] # Ham class\n",
    "\n",
    "# Calculate feature importance as difference in log probabilities\n",
    "feature_importance = spam_log_prob - ham_log_prob\n",
    "top_spam_indices = np.argsort(feature_importance)[-10:]\n",
    "\n",
    "for idx in reversed(top_spam_indices):\n",
    "    word = feature_names[idx]\n",
    "    importance = feature_importance[idx]\n",
    "    print(f\" {word}: {importance:.3f}\")"
   ]
  },
  {
   "cell_type": "code",
   "execution_count": 10,
   "id": "bb67a236",
   "metadata": {},
   "outputs": [
    {
     "name": "stdout",
     "output_type": "stream",
     "text": [
      " 3. COMPREHENSIVE NAIVE BAYES VISUALIZATION DASHBOARD\n",
      "==========================================================\n"
     ]
    },
    {
     "data": {
      "application/vnd.plotly.v1+json": {
       "config": {
        "plotlyServerURL": "https://plot.ly"
       },
       "data": [
        {
         "box": {
          "visible": true
         },
         "line": {
          "color": "blue"
         },
         "meanline": {
          "visible": true
         },
         "name": "Healthy",
         "type": "violin",
         "xaxis": "x",
         "y": {
          "bdata": "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",
          "dtype": "f8"
         },
         "yaxis": "y"
        },
        {
         "box": {
          "visible": true
         },
         "line": {
          "color": "green"
         },
         "meanline": {
          "visible": true
         },
         "name": "Flu",
         "type": "violin",
         "xaxis": "x",
         "y": {
          "bdata": "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",
          "dtype": "f8"
         },
         "yaxis": "y"
        },
        {
         "box": {
          "visible": true
         },
         "line": {
          "color": "red"
         },
         "meanline": {
          "visible": true
         },
         "name": "COVID-19",
         "type": "violin",
         "xaxis": "x",
         "y": {
          "bdata": "IdTRw9BLWUCF0LxsBPxYQMp0TFqK0FpA9HOmJGdJWUBGaoDQr0RZQAd6QZLmAFpAMonEi/4lWUA5arQPjuBZQAkDqJw+vllAviF6WiceWUDxjzEwj8FZQHdU4VDBE1lAR9aC+y7hWEBMLkY/IApaQCfvKiu3yFlAlaAGkJRfWUAavC+fPclYQM/DSc5W6FhAcovYpyUpWkBP7I1YoElZQPCGkEMmxFlA0yJBP5pWWUDT449OnqhZQOMphUVs3FlAWzDQ2Ij8WEAAXIZ7ulVZQNFMDJkaElpAs3b+XCDHWUBmZEDscIlZQEp96H5fJFlApk17ihlJWUDZbbfn+FFZQDGm4FjkC1pACnqUSGSmWUA2Fmg3gFdZQFsyh5uO8VlAUWXmCG/3WECdx7Bsna9ZQBD6yy1VwVlAEB39NF6YWUCZuSKF4VJZQOpO9DI4VVlAMdr7pmhJWUCOvQDp4NlZQNvTk1I+o1lA2uKX5fEKWkAj4IykdGtaQFqMoN8FJllAMiZtnXb6WUDwzHNdGwxZQGwwHK5yqllAz8/VfEmVWUDksA66DndZQHhjaK2/illAr8CnB0fWWUDo72L7ez9ZQCcsFLClAVpAUe1ozXHgWUACQlrjDr5ZQKvIvrwZzFlAWSf1BOu1WUCn2SPjg8tZQJ/WWHZQQ1pATq2x2PG9WUCS6xC8g6hZQC8D14Jr/VlAMPhVawCxWUAFR5y5h4dZQM8g7kTtalhAgN4jSViKWUBpv8ONr1BZQPDImGh66VlARxse0L1iWUAzTUZuuGZZQD81K5E/JFlAoPY9jKaEWUA6qIFIhDZZQGG3uw1kMVlAlkXRmTdgWUBig8wQWZ9ZQHgUkT4UvlhAKohO8oxwWUB5TYXhvcFZQIXdI44Aw1lAZig347tJWUA1nkbHnZtZQNHyY/5K5VlAuK16l+jUWUAGw9WMRGJZQIDmO1ltO1lAHdPfcdAKWUDrUWw3+pBZQGGMrnM66VhA+vwaTLi+WUAESuDEQlNZQG4c/czR+VlANIo8rBpEWkAj7VJ5v0BZQJtTDO/bf1lAUJpPGPbPWEDhi+NiHTxZQI8Mcvlqf1lAc+GFUJYsWUANtAahpPxZQJtQtWjaVllA/pwu38mMWUBYGBfARCpZQNxl63FxPllAiRq0PPMDWkCfTqIuivhYQJIUBiHCzllAVXceeMXVWUCygfdnAQlZQKtpFiarXFlA8vx0tPTXWUDy+08OWEpZQKhhyaX57FlA0o/ZEW9PWUCk6lNCZrFZQCYVftKYHlpA1Oyl+kBrWUCyv098ut5ZQJKJ/5mIkVlA4NN93vGJWUBeMMeU5zlZQIH1tB0x+VhAurWUlffFWUD6Fl6acSJaQJfSiqdqTllAL9hEZ3oxWUA7boN/UBhaQHCwMFDqoFlAwRVAgw6HWUAlud2yv/VYQMJTl59U/lhAysX90Y+WWUCwkLJi5IpZQFT4r98XYFlAzNj1yO+rWUDKoAENz+FYQMh+W0D/3VlAjP9WU/SoWUBTJneNfPVZQCZGaPHJd1lApyAoan2ZWUAM2nd+xxBaQFMecmPeLFpAlg5W6iZ2WUAaqFAORMxZQBJF0Yv+jllAjIofFLG7WEB39LKmH19ZQNExAKhBNllAPIfViTDFWUDssBuP07pZQEdOhbgzsllAnFTYQSk/WkCt4kGE649ZQCMKXpZVSllAKVH4M1k5WUDc4piMu6hZQBvwbRIe6llAbZTLoFpDWUA6GkOljgxZQMptDUWq91lA/x0CIDQoWkBbgUjK1qVZQMJWDMjDQllAEEXI5fRoWUB8TmJGSshZQEpr3IaXe1lAMRwUAyFuWUAFTrejWutYQCn7J5GKh1lADUlWJ/pGWUC2KQ315ndZQKeghiWwVVlASmLBsfJnWUAYIIxzXqpZQG15DxiLZllAzlH6ZpgCWkBYWTfJd6VZQMX9oomEK1pAQvASqyPEWUChuzZYCwJaQFiypt/JwVlAUh28ly9AWkDVqri+5XxYQK8XvGbM5lhA72Ey4P4oWUBFwxObcIRZQNCqYMQm6lhArisSLylQWkC8k8prpUxZQF+MRrR/EVlATg5aG7GGWUBUdh15QkNZQHTVrCSVwFlA6hkmAAZaWUCipt+XByNZQA6eGS1rgllAfBtWC6HPWUBLNdHJuY9ZQPffz1h3IVlAduYPA5XoWEDBpDv8bqBZQPEW61Fnc1lAB9hrl8h8WUATQOrz6dtZQFTcaqeUeVlAMQvBkeFHWUDitMVoN2RaQKmSTHpY8FhA8YwkzprxWUDqL8IttQhaQEU3ZgjUVllAZhapF6M4WUBPC+w4+/RZQE6TH7Pb0llAfOogYownWUDSAnWisN9ZQI7jRo7HiFlAL1N1N70IWUAokduint9ZQGqDiklhGllAhMfE39/FWUB9oBAcGRZZQD9tSz3cpFlA11/UE879WECTx1XutoZZQCMJN/zyKVlAs7jZngl6WUBTcJBfzyxZQP60LKp3E1lAA+WGDhfWWUAaB/zjJQxZQC32db16z1hAZoyk1gIcWkBSO3uM8GVZQIRa2OQjKlpAU+njv5CWWUD46ZHwcW1ZQKepo0XvhllAwdId21DqWUAZwa4bYFxZQEZe4+n/hVlAPHIsqjVLWUDxyj8AS19ZQOCoCZ0hmVlAkfcc6XPUWUDUHXNAP1haQG1QvU/K+FhARHEc0e+BWUAyFPyjGcpZQByjfLbj5VlAZ2v9Tjh0WEB6NvZfp8pZQL2kCykhmFlAXpyjSEXBWUA1M8p6DS5ZQOq/+h8DzllA9kFygRs2WkBviRC9ZGRZQBTR3ISlM1pAEQNvZ7sxWUCNUchRRydZQK5hZhC8RFlAk5nEopATWUBdufy5wgRZQIrgQlCT+lhAJS/RsMWTWUBm4FzmhwVaQI1i4/uPLFpAw2ALuT9fWUA1fnp2PfxYQLryYjZgR1lArhgr2kiPWEBz65HHbRZaQG6KTAryMVpAKfnZI33aWUAWKOuR5lBZQDMfXQgHFFpAF0w43x7HWEAX/bXVXu1YQC6eO1gFYFlAx9tm8qJtWUCeqOPfDgxZQH87ZoMPm1lAWAiFj1wZWUCHX5ZBFVBZQBheF1oVXllAU5eenilqWUBdSOSU2FJZQEgM5TyyJ1lAUz1rEzi9WUCKl9veo2tZQGhijnVjZllAF+gcVzFqWUAAOtHq4kBZQC4Bp8unX1lAwP9jtRSNWUDAkC2ELDFZQC4nEKAcLVlAE5r5Oz5uWUCYUCyZGr9ZQOZS+fH6tFlAXIdZ1Nc2WUCXSB6A10FZQDk3Zf7DXllAgoD15uz+WUCwK21BQJ5ZQFGOyw4iwllAYsqIb5YJWkAi23qrS45ZQOIXSo+o9llAF99FO8ZbWUAMP7xoQQVaQCtTZ3IfqllAKYxKgfe1WUDpCHyC0XpZQPB6LoMzaFlAHKC6murOWUD1r4Zsq85ZQA78AIhtTFlAIlpoDeyrWEARzBcsAWBZQGo7Y5PjellATw4rG6Z4WUDba0pHgLdZQKThHcykollAPVvCTB7FWUAEQxrEKMFZQCdGGYsUeFlA+9l9F191WUC2IsS3SjpZQAqDHe7Z41lA7ew8zyjaWUAJ2DpPQA9ZQC1kMnGkNlpAskXpCmBVWUCIzkKVzodZQIJ8Dmt02FlAhJsZSNQkWUBEJBEVu/dZQFKYAOPTfllAT9LCkwLFWUDslQpqVe1ZQBg1/an+5llAJzu8vRA/WUClXNJW0kBaQD90XCn/6llAyF1DjqiZWUBnRhtlfVlaQNyJSE8od1lAzsAJHiG4WUBEJvu7o3xZQEO6ALxp/FhALoxcaZfZWUBGtYqL7G5ZQP5O3ecQFFlAAqTuFE9lWUC+Zb+QMDpZQCWod2xEX1lAEC8zHGZ/WUCDLMbZEVJZQCQYQJUASllASCTKOTuYWUAatgoyjhdZQAJw6qEO0FlAEpXm59FYWUDuPnYMk41ZQM1ZucgChllAUX2PZ0rsWEAe/PpuhYNZQAsIxqi4jllA76+tSXV+WUA9xCgOJENaQE9baZXqSVlAnJ2OHj+WWUAF12LewLpZQBOi0FZLjFlA9XJ6gsHWWUAl4PgzB8BZQE+KpMQODVlAs0aIMDRLWkBkvTKowTJZQCKpMhouv1lA2UD/rAFcWUDSoFzqUJZZQDSuzAT7LVlA/noLfvwVWUBL62/Qlb1ZQBSlqZ8EhVlA8IphCvaeWUB5mHp3DxRZQFMooqt31VlAgtqNq7W0WUBKVIofhrFZQELNrqwVUFlAl17WKcBSWUCVyXrfQ8ZZQNyfWqFgV1lA+thiDuG2WECOx2OkbSJaQA==",
          "dtype": "f8"
         },
         "yaxis": "y"
        },
        {
         "box": {
          "visible": true
         },
         "line": {
          "color": "purple"
         },
         "meanline": {
          "visible": true
         },
         "name": "Pneumonia",
         "type": "violin",
         "xaxis": "x",
         "y": {
          "bdata": "lHCJtioAWkDMoe2+RpJZQOun04Ma3VhAyIv86VyOWUC+miXxsqJaQH3kF1xWa1lAz45YegG8WUCp6Pze18FZQND6qz/LN1pAoSdcqtlMWkCh83eJ+JJZQL0Dfq1ICllAirqBp7PrWUAQpFVlSqlZQFoJ8vV2BFpALLV68xCaWUDIIcwyw/ZYQHLAu7Z3hVlAiV6LQ4e7WUDq+p9stpBZQI5jXeFy01lAVUTRZ+ETWkAuwWVIpGxZQNmsBj5WH1pAVDG7PR/NWUBUtgSoPsRZQLDHQJvbq1lAytpTfkFzWUDcjdVOcw1ZQHKOsB933FlA/6XcmzjuWEBDohptTShZQE73yzFHUVlAIhubJqfnWUC9BFGhk+RZQKsn+UWsfFlAvvtDuW+QWUAek3b0nAdaQN7XibVZ4FlA/L10EtzOWUD+9de+prlZQKDtOdJGgVpAf70iE30MWkA2xStZxaxZQFUzOuQujllAoWh8sLdDWUC41BDRgCRaQLIL7UQVtVlA0p8CIu0JWkBL+LTV3F1aQN2pXsmNTlpAnJSQtutrWECnotjd5PxZQAvIRApWHlpABhwc2/q3WUDzGNRWfc9ZQPaAs/zkZlpAKkDzvttTWkBGJ3D63G9aQOGGD8gptFlAIJDMNagBWUBUqf2BsopZQFTE3/mUdllASjjn7uWbWUC12vKEXK5ZQJkDkBzBillAf1gWvB/4WUAAZMt5CWJaQLMQc5Ja7FhAxNtgC4hVWUAIVCYOIFBaQIWaPV+O+1lAGKtwPYDyWEAn6LsfB8pZQBrNM4L8M1lAJPpJi0nRWUA1RtSebNBZQN+dFTizmVpAZX/eaK7vWUA+Cr4WNCZZQE9zWRhHV1pAQyZVsob8WED/zchQxyNaQNKBxjLdxFlAU7Fna/96WUAjxPRYd6ZZQCwE9gbo/FlAknEl7I/FWUCNw40H/5ZZQJBj27Xn7VlAl7l3we+SWkBtuRlTx1daQMCUzlYip1lAroW+cROZWUBjDUm8sQVaQAVLc9kL6VlA3HMQPonbWUAxQCi2NDRaQEA5YDgFyllANFgNlakrWkC2oXMQ9NFZQKANA6desllASqMbHAuXWUBis7DgvXtaQPOWvjExYlpA8F2n6449WkAERCdVznVZQM7oVFRRYVlAFY4QVSlLWUDZGdB6bmlaQCJwOq3ypllAIeIb00bvWkA+FXG4z3FZQCGbtv43H1lAFChP2EV2WUCT7WxZGnFZQMItzKKRhFlAQ8TdrxIIWUBfRgi5HixaQKsdas+9VVlAqkDbtdr7WEBBxWdMr+pZQKepUSDoUllAT3X6TT/8WEChxD4i4wRaQDmdfPQ6QllAWkpnFr1RWUDrtrKn1FZZQH4P4s6CDFpAx5ht1BKpWECBJYN0VMZZQJ03040kbVlAhnqddoiFWUB9fsuLOgxaQOPvsY7gBllALb1nQtBdWUBhta/KyzZZQFWuC89ITFpAS7hYS3VWWUCF6pCCxWpaQCqPSTBhtllALpSFqOpyWEBGVH+WHxJaQDxFu6OCKVpAF6bMHbIhWUBIeT4q03FZQOy4lcOunVlA8/9O4WPjWUDYHnqNM71ZQBBtLtMXm1lAZaZnI4aHWkDzULppqOlYQJHwpQLseVpAzGKEokvNWUA0IYZ/wv5ZQN5i6B7er1lAaYSFYwZvWUApBdbLb8ZZQPHoA8n38FlA11dqcOpVWUA/1fY7AElaQEKd62C/cFpAq6BPQ87rWUBvMqhZRMpZQGZMrXz5DFpAiz5igcRRWkB1Fv/WvYdZQNBAGmsq01pA7cUrNQbhWUAGWVfkY2VaQCeF3S29+llArKDyNHXAWUCipcyiXplZQIyLBcUT5VlAk83K/8MeWkA=",
          "dtype": "f8"
         },
         "yaxis": "y"
        },
        {
         "marker": {
          "color": [
           "lightblue",
           "lightcoral"
          ]
         },
         "text": [
          "1.000",
          "1.000"
         ],
         "textposition": "auto",
         "type": "bar",
         "x": [
          "Multinomial NB",
          "Bernoulli NB"
         ],
         "xaxis": "x2",
         "y": [
          1,
          1
         ],
         "yaxis": "y2"
        },
        {
         "line": {
          "color": "blue"
         },
         "mode": "lines+markers",
         "name": "Multinomial NB",
         "type": "scatter",
         "x": [
          0.01,
          0.1,
          0.5,
          1,
          2,
          5
         ],
         "xaxis": "x3",
         "y": [
          1,
          1,
          1,
          1,
          1,
          1
         ],
         "yaxis": "y3"
        },
        {
         "line": {
          "color": "red"
         },
         "mode": "lines+markers",
         "name": "Bernoulli NB",
         "type": "scatter",
         "x": [
          0.01,
          0.1,
          0.5,
          1,
          2,
          5
         ],
         "xaxis": "x3",
         "y": [
          1,
          1,
          1,
          1,
          1,
          1
         ],
         "yaxis": "y3"
        },
        {
         "colorscale": [
          [
           0,
           "rgb(247,251,255)"
          ],
          [
           0.125,
           "rgb(222,235,247)"
          ],
          [
           0.25,
           "rgb(198,219,239)"
          ],
          [
           0.375,
           "rgb(158,202,225)"
          ],
          [
           0.5,
           "rgb(107,174,214)"
          ],
          [
           0.625,
           "rgb(66,146,198)"
          ],
          [
           0.75,
           "rgb(33,113,181)"
          ],
          [
           0.875,
           "rgb(8,81,156)"
          ],
          [
           1,
           "rgb(8,48,107)"
          ]
         ],
         "hovertemplate": "Predicted: %{x}<br>Actual: %{y}<br>Count: %{z}<extra></extra>",
         "text": {
          "bdata": "nwADAAAAAAACAHQABAAAAAAACwBEAAIAAAAFAAMAGwA=",
          "dtype": "i2",
          "shape": "4, 4"
         },
         "texttemplate": "%{text}",
         "type": "heatmap",
         "x": [
          "Healthy",
          "Flu",
          "COVID-19",
          "Pneumonia"
         ],
         "xaxis": "x4",
         "y": [
          "Healthy",
          "Flu",
          "COVID-19",
          "Pneumonia"
         ],
         "yaxis": "y4",
         "z": {
          "bdata": "nwADAAAAAAACAHQABAAAAAAACwBEAAIAAAAFAAMAGwA=",
          "dtype": "i2",
          "shape": "4, 4"
         }
        },
        {
         "line": {
          "color": "blue"
         },
         "mode": "lines",
         "name": "Multinomial NB (AUC = 1.000)",
         "type": "scatter",
         "x": {
          "bdata": "AAAAAAAAAAAAAAAAAAAAAAAAAAAAAAAAAAAAAAAA8D8=",
          "dtype": "f8"
         },
         "xaxis": "x5",
         "y": {
          "bdata": "AAAAAAAAAABGF1100UV3PwAAAAAAAPA/AAAAAAAA8D8=",
          "dtype": "f8"
         },
         "yaxis": "y5"
        },
        {
         "line": {
          "color": "red"
         },
         "mode": "lines",
         "name": "Bernoulli NB (AUC = 1.000)",
         "type": "scatter",
         "x": {
          "bdata": "AAAAAAAAAAAAAAAAAAAAAAAAAAAAAAAAAAAAAAAAAAAAAAAAAAAAAAAAAAAAAAAAAAAAAAAAAAAAAAAAAAAAAAAAAAAAAAAAAAAAAAAAAAAAAAAAAAAAAAAAAAAAAAAAh9QE463s0z9qgvFW9jnUP7yVfQ6pCd4/n0NqgvFW3j8AAAAAAADgP/JW9jmkJuA/E4y3ss8h4T8F463sc0jhP3RITTDeyuI/V/Y5pCYY4z+kJhhvZZ/jP5Z9DqkJxuM/h9QE463s4z95K/scUhPkP2qC8Vb2OeQ/XNnnkJpg5D+4ss8hNcHkP6kJxlvZ5+Q/0CE1wXgr5z+zzyE1wXjnPw6pCcZb2ec/8lb2OaQm6D9c2eeQmmDoPz+H1ATjreg/IjXBeCv76D+Mt7LPITXpP29ln0Nqguk/YbyVfQ6p6T/LPofUBOPpP67sc0hNMOo/n0NqgvFW6j8Yb2WfQ2rqP4LxVvY5pOo/+xxSE4y36j/tc0hNMN7qP1f2OaQmGOs/SE0w3so+6z/BeCv7HFLrP6QmGG9ln+s/DqkJxlvZ6z/yVvY5pCbsP8Zb2eeQmuw/qQnGW9nn7D+Mt7LPITXtP1ITjLeyz+0/GG9ln0Nq7j8KxlvZ55DuPwAAAAAAAPA/",
          "dtype": "f8"
         },
         "xaxis": "x5",
         "y": {
          "bdata": "AAAAAAAAAAAAAAAAAADYP9FFF1100dk/6aKLLrro2j+MLrroooveP+miiy666N4/o4suuuii3z8vuuiiiy7gP+miiy666OA/L7rooosu4j+MLrroooviPwAAAAAAAPA/AAAAAAAA8D8AAAAAAADwPwAAAAAAAPA/AAAAAAAA8D8AAAAAAADwPwAAAAAAAPA/AAAAAAAA8D8AAAAAAADwPwAAAAAAAPA/AAAAAAAA8D8AAAAAAADwPwAAAAAAAPA/AAAAAAAA8D8AAAAAAADwPwAAAAAAAPA/AAAAAAAA8D8AAAAAAADwPwAAAAAAAPA/AAAAAAAA8D8AAAAAAADwPwAAAAAAAPA/AAAAAAAA8D8AAAAAAADwPwAAAAAAAPA/AAAAAAAA8D8AAAAAAADwPwAAAAAAAPA/AAAAAAAA8D8AAAAAAADwPwAAAAAAAPA/AAAAAAAA8D8AAAAAAADwPwAAAAAAAPA/AAAAAAAA8D8AAAAAAADwPwAAAAAAAPA/AAAAAAAA8D8AAAAAAADwPwAAAAAAAPA/AAAAAAAA8D8AAAAAAADwPwAAAAAAAPA/AAAAAAAA8D8AAAAAAADwPwAAAAAAAPA/AAAAAAAA8D8AAAAAAADwPwAAAAAAAPA/",
          "dtype": "f8"
         },
         "yaxis": "y5"
        },
        {
         "line": {
          "color": "black",
          "dash": "dash"
         },
         "mode": "lines",
         "name": "Random Classifier",
         "showlegend": false,
         "type": "scatter",
         "x": [
          0,
          1
         ],
         "xaxis": "x5",
         "y": [
          0,
          1
         ],
         "yaxis": "y5"
        },
        {
         "marker": {
          "color": "orange"
         },
         "orientation": "h",
         "type": "bar",
         "x": [
          2.783740706531824,
          2.728725922001865,
          2.7213931909384277,
          2.699631945668062,
          2.697226762941507,
          2.6776104595576165,
          2.6548676122482187,
          2.622759318180229,
          2.6154248847677772,
          2.6047447745519285
         ],
         "xaxis": "x6",
         "y": [
          "prize",
          "cash",
          "free",
          "urgent",
          "sale",
          "win",
          "limited",
          "deal",
          "discount",
          "loan"
         ],
         "yaxis": "y6"
        }
       ],
       "layout": {
        "annotations": [
         {
          "font": {
           "size": 16
          },
          "showarrow": false,
          "text": "Medical Diagnosis: Feature Distributions by Class",
          "x": 0.225,
          "xanchor": "center",
          "xref": "paper",
          "y": 1,
          "yanchor": "bottom",
          "yref": "paper"
         },
         {
          "font": {
           "size": 16
          },
          "showarrow": false,
          "text": "Email Classification: Algorithm Comparison",
          "x": 0.775,
          "xanchor": "center",
          "xref": "paper",
          "y": 1,
          "yanchor": "bottom",
          "yref": "paper"
         },
         {
          "font": {
           "size": 16
          },
          "showarrow": false,
          "text": "Hyperparameter Tuning: Alpha vs Performance",
          "x": 0.225,
          "xanchor": "center",
          "xref": "paper",
          "y": 0.6111111111111112,
          "yanchor": "bottom",
          "yref": "paper"
         },
         {
          "font": {
           "size": 16
          },
          "showarrow": false,
          "text": "Confusion Matrix: Medical Diagnosis",
          "x": 0.775,
          "xanchor": "center",
          "xref": "paper",
          "y": 0.6111111111111112,
          "yanchor": "bottom",
          "yref": "paper"
         },
         {
          "font": {
           "size": 16
          },
          "showarrow": false,
          "text": "ROC Curves: Binary Classification (Spam Detection)",
          "x": 0.225,
          "xanchor": "center",
          "xref": "paper",
          "y": 0.22222222222222224,
          "yanchor": "bottom",
          "yref": "paper"
         },
         {
          "font": {
           "size": 16
          },
          "showarrow": false,
          "text": "Feature Importance: Top Spam Indicators",
          "x": 0.775,
          "xanchor": "center",
          "xref": "paper",
          "y": 0.22222222222222224,
          "yanchor": "bottom",
          "yref": "paper"
         }
        ],
        "height": 1200,
        "showlegend": true,
        "template": {
         "data": {
          "bar": [
           {
            "error_x": {
             "color": "#2a3f5f"
            },
            "error_y": {
             "color": "#2a3f5f"
            },
            "marker": {
             "line": {
              "color": "#E5ECF6",
              "width": 0.5
             },
             "pattern": {
              "fillmode": "overlay",
              "size": 10,
              "solidity": 0.2
             }
            },
            "type": "bar"
           }
          ],
          "barpolar": [
           {
            "marker": {
             "line": {
              "color": "#E5ECF6",
              "width": 0.5
             },
             "pattern": {
              "fillmode": "overlay",
              "size": 10,
              "solidity": 0.2
             }
            },
            "type": "barpolar"
           }
          ],
          "carpet": [
           {
            "aaxis": {
             "endlinecolor": "#2a3f5f",
             "gridcolor": "white",
             "linecolor": "white",
             "minorgridcolor": "white",
             "startlinecolor": "#2a3f5f"
            },
            "baxis": {
             "endlinecolor": "#2a3f5f",
             "gridcolor": "white",
             "linecolor": "white",
             "minorgridcolor": "white",
             "startlinecolor": "#2a3f5f"
            },
            "type": "carpet"
           }
          ],
          "choropleth": [
           {
            "colorbar": {
             "outlinewidth": 0,
             "ticks": ""
            },
            "type": "choropleth"
           }
          ],
          "contour": [
           {
            "colorbar": {
             "outlinewidth": 0,
             "ticks": ""
            },
            "colorscale": [
             [
              0,
              "#0d0887"
             ],
             [
              0.1111111111111111,
              "#46039f"
             ],
             [
              0.2222222222222222,
              "#7201a8"
             ],
             [
              0.3333333333333333,
              "#9c179e"
             ],
             [
              0.4444444444444444,
              "#bd3786"
             ],
             [
              0.5555555555555556,
              "#d8576b"
             ],
             [
              0.6666666666666666,
              "#ed7953"
             ],
             [
              0.7777777777777778,
              "#fb9f3a"
             ],
             [
              0.8888888888888888,
              "#fdca26"
             ],
             [
              1,
              "#f0f921"
             ]
            ],
            "type": "contour"
           }
          ],
          "contourcarpet": [
           {
            "colorbar": {
             "outlinewidth": 0,
             "ticks": ""
            },
            "type": "contourcarpet"
           }
          ],
          "heatmap": [
           {
            "colorbar": {
             "outlinewidth": 0,
             "ticks": ""
            },
            "colorscale": [
             [
              0,
              "#0d0887"
             ],
             [
              0.1111111111111111,
              "#46039f"
             ],
             [
              0.2222222222222222,
              "#7201a8"
             ],
             [
              0.3333333333333333,
              "#9c179e"
             ],
             [
              0.4444444444444444,
              "#bd3786"
             ],
             [
              0.5555555555555556,
              "#d8576b"
             ],
             [
              0.6666666666666666,
              "#ed7953"
             ],
             [
              0.7777777777777778,
              "#fb9f3a"
             ],
             [
              0.8888888888888888,
              "#fdca26"
             ],
             [
              1,
              "#f0f921"
             ]
            ],
            "type": "heatmap"
           }
          ],
          "histogram": [
           {
            "marker": {
             "pattern": {
              "fillmode": "overlay",
              "size": 10,
              "solidity": 0.2
             }
            },
            "type": "histogram"
           }
          ],
          "histogram2d": [
           {
            "colorbar": {
             "outlinewidth": 0,
             "ticks": ""
            },
            "colorscale": [
             [
              0,
              "#0d0887"
             ],
             [
              0.1111111111111111,
              "#46039f"
             ],
             [
              0.2222222222222222,
              "#7201a8"
             ],
             [
              0.3333333333333333,
              "#9c179e"
             ],
             [
              0.4444444444444444,
              "#bd3786"
             ],
             [
              0.5555555555555556,
              "#d8576b"
             ],
             [
              0.6666666666666666,
              "#ed7953"
             ],
             [
              0.7777777777777778,
              "#fb9f3a"
             ],
             [
              0.8888888888888888,
              "#fdca26"
             ],
             [
              1,
              "#f0f921"
             ]
            ],
            "type": "histogram2d"
           }
          ],
          "histogram2dcontour": [
           {
            "colorbar": {
             "outlinewidth": 0,
             "ticks": ""
            },
            "colorscale": [
             [
              0,
              "#0d0887"
             ],
             [
              0.1111111111111111,
              "#46039f"
             ],
             [
              0.2222222222222222,
              "#7201a8"
             ],
             [
              0.3333333333333333,
              "#9c179e"
             ],
             [
              0.4444444444444444,
              "#bd3786"
             ],
             [
              0.5555555555555556,
              "#d8576b"
             ],
             [
              0.6666666666666666,
              "#ed7953"
             ],
             [
              0.7777777777777778,
              "#fb9f3a"
             ],
             [
              0.8888888888888888,
              "#fdca26"
             ],
             [
              1,
              "#f0f921"
             ]
            ],
            "type": "histogram2dcontour"
           }
          ],
          "mesh3d": [
           {
            "colorbar": {
             "outlinewidth": 0,
             "ticks": ""
            },
            "type": "mesh3d"
           }
          ],
          "parcoords": [
           {
            "line": {
             "colorbar": {
              "outlinewidth": 0,
              "ticks": ""
             }
            },
            "type": "parcoords"
           }
          ],
          "pie": [
           {
            "automargin": true,
            "type": "pie"
           }
          ],
          "scatter": [
           {
            "fillpattern": {
             "fillmode": "overlay",
             "size": 10,
             "solidity": 0.2
            },
            "type": "scatter"
           }
          ],
          "scatter3d": [
           {
            "line": {
             "colorbar": {
              "outlinewidth": 0,
              "ticks": ""
             }
            },
            "marker": {
             "colorbar": {
              "outlinewidth": 0,
              "ticks": ""
             }
            },
            "type": "scatter3d"
           }
          ],
          "scattercarpet": [
           {
            "marker": {
             "colorbar": {
              "outlinewidth": 0,
              "ticks": ""
             }
            },
            "type": "scattercarpet"
           }
          ],
          "scattergeo": [
           {
            "marker": {
             "colorbar": {
              "outlinewidth": 0,
              "ticks": ""
             }
            },
            "type": "scattergeo"
           }
          ],
          "scattergl": [
           {
            "marker": {
             "colorbar": {
              "outlinewidth": 0,
              "ticks": ""
             }
            },
            "type": "scattergl"
           }
          ],
          "scattermap": [
           {
            "marker": {
             "colorbar": {
              "outlinewidth": 0,
              "ticks": ""
             }
            },
            "type": "scattermap"
           }
          ],
          "scattermapbox": [
           {
            "marker": {
             "colorbar": {
              "outlinewidth": 0,
              "ticks": ""
             }
            },
            "type": "scattermapbox"
           }
          ],
          "scatterpolar": [
           {
            "marker": {
             "colorbar": {
              "outlinewidth": 0,
              "ticks": ""
             }
            },
            "type": "scatterpolar"
           }
          ],
          "scatterpolargl": [
           {
            "marker": {
             "colorbar": {
              "outlinewidth": 0,
              "ticks": ""
             }
            },
            "type": "scatterpolargl"
           }
          ],
          "scatterternary": [
           {
            "marker": {
             "colorbar": {
              "outlinewidth": 0,
              "ticks": ""
             }
            },
            "type": "scatterternary"
           }
          ],
          "surface": [
           {
            "colorbar": {
             "outlinewidth": 0,
             "ticks": ""
            },
            "colorscale": [
             [
              0,
              "#0d0887"
             ],
             [
              0.1111111111111111,
              "#46039f"
             ],
             [
              0.2222222222222222,
              "#7201a8"
             ],
             [
              0.3333333333333333,
              "#9c179e"
             ],
             [
              0.4444444444444444,
              "#bd3786"
             ],
             [
              0.5555555555555556,
              "#d8576b"
             ],
             [
              0.6666666666666666,
              "#ed7953"
             ],
             [
              0.7777777777777778,
              "#fb9f3a"
             ],
             [
              0.8888888888888888,
              "#fdca26"
             ],
             [
              1,
              "#f0f921"
             ]
            ],
            "type": "surface"
           }
          ],
          "table": [
           {
            "cells": {
             "fill": {
              "color": "#EBF0F8"
             },
             "line": {
              "color": "white"
             }
            },
            "header": {
             "fill": {
              "color": "#C8D4E3"
             },
             "line": {
              "color": "white"
             }
            },
            "type": "table"
           }
          ]
         },
         "layout": {
          "annotationdefaults": {
           "arrowcolor": "#2a3f5f",
           "arrowhead": 0,
           "arrowwidth": 1
          },
          "autotypenumbers": "strict",
          "coloraxis": {
           "colorbar": {
            "outlinewidth": 0,
            "ticks": ""
           }
          },
          "colorscale": {
           "diverging": [
            [
             0,
             "#8e0152"
            ],
            [
             0.1,
             "#c51b7d"
            ],
            [
             0.2,
             "#de77ae"
            ],
            [
             0.3,
             "#f1b6da"
            ],
            [
             0.4,
             "#fde0ef"
            ],
            [
             0.5,
             "#f7f7f7"
            ],
            [
             0.6,
             "#e6f5d0"
            ],
            [
             0.7,
             "#b8e186"
            ],
            [
             0.8,
             "#7fbc41"
            ],
            [
             0.9,
             "#4d9221"
            ],
            [
             1,
             "#276419"
            ]
           ],
           "sequential": [
            [
             0,
             "#0d0887"
            ],
            [
             0.1111111111111111,
             "#46039f"
            ],
            [
             0.2222222222222222,
             "#7201a8"
            ],
            [
             0.3333333333333333,
             "#9c179e"
            ],
            [
             0.4444444444444444,
             "#bd3786"
            ],
            [
             0.5555555555555556,
             "#d8576b"
            ],
            [
             0.6666666666666666,
             "#ed7953"
            ],
            [
             0.7777777777777778,
             "#fb9f3a"
            ],
            [
             0.8888888888888888,
             "#fdca26"
            ],
            [
             1,
             "#f0f921"
            ]
           ],
           "sequentialminus": [
            [
             0,
             "#0d0887"
            ],
            [
             0.1111111111111111,
             "#46039f"
            ],
            [
             0.2222222222222222,
             "#7201a8"
            ],
            [
             0.3333333333333333,
             "#9c179e"
            ],
            [
             0.4444444444444444,
             "#bd3786"
            ],
            [
             0.5555555555555556,
             "#d8576b"
            ],
            [
             0.6666666666666666,
             "#ed7953"
            ],
            [
             0.7777777777777778,
             "#fb9f3a"
            ],
            [
             0.8888888888888888,
             "#fdca26"
            ],
            [
             1,
             "#f0f921"
            ]
           ]
          },
          "colorway": [
           "#636efa",
           "#EF553B",
           "#00cc96",
           "#ab63fa",
           "#FFA15A",
           "#19d3f3",
           "#FF6692",
           "#B6E880",
           "#FF97FF",
           "#FECB52"
          ],
          "font": {
           "color": "#2a3f5f"
          },
          "geo": {
           "bgcolor": "white",
           "lakecolor": "white",
           "landcolor": "#E5ECF6",
           "showlakes": true,
           "showland": true,
           "subunitcolor": "white"
          },
          "hoverlabel": {
           "align": "left"
          },
          "hovermode": "closest",
          "mapbox": {
           "style": "light"
          },
          "paper_bgcolor": "white",
          "plot_bgcolor": "#E5ECF6",
          "polar": {
           "angularaxis": {
            "gridcolor": "white",
            "linecolor": "white",
            "ticks": ""
           },
           "bgcolor": "#E5ECF6",
           "radialaxis": {
            "gridcolor": "white",
            "linecolor": "white",
            "ticks": ""
           }
          },
          "scene": {
           "xaxis": {
            "backgroundcolor": "#E5ECF6",
            "gridcolor": "white",
            "gridwidth": 2,
            "linecolor": "white",
            "showbackground": true,
            "ticks": "",
            "zerolinecolor": "white"
           },
           "yaxis": {
            "backgroundcolor": "#E5ECF6",
            "gridcolor": "white",
            "gridwidth": 2,
            "linecolor": "white",
            "showbackground": true,
            "ticks": "",
            "zerolinecolor": "white"
           },
           "zaxis": {
            "backgroundcolor": "#E5ECF6",
            "gridcolor": "white",
            "gridwidth": 2,
            "linecolor": "white",
            "showbackground": true,
            "ticks": "",
            "zerolinecolor": "white"
           }
          },
          "shapedefaults": {
           "line": {
            "color": "#2a3f5f"
           }
          },
          "ternary": {
           "aaxis": {
            "gridcolor": "white",
            "linecolor": "white",
            "ticks": ""
           },
           "baxis": {
            "gridcolor": "white",
            "linecolor": "white",
            "ticks": ""
           },
           "bgcolor": "#E5ECF6",
           "caxis": {
            "gridcolor": "white",
            "linecolor": "white",
            "ticks": ""
           }
          },
          "title": {
           "x": 0.05
          },
          "xaxis": {
           "automargin": true,
           "gridcolor": "white",
           "linecolor": "white",
           "ticks": "",
           "title": {
            "standoff": 15
           },
           "zerolinecolor": "white",
           "zerolinewidth": 2
          },
          "yaxis": {
           "automargin": true,
           "gridcolor": "white",
           "linecolor": "white",
           "ticks": "",
           "title": {
            "standoff": 15
           },
           "zerolinecolor": "white",
           "zerolinewidth": 2
          }
         }
        },
        "title": {
         "text": "Naive Bayes Classification - Comprehensive Analysis Dashboard"
        },
        "xaxis": {
         "anchor": "y",
         "domain": [
          0,
          0.45
         ],
         "title": {
          "text": "Disease Class"
         }
        },
        "xaxis2": {
         "anchor": "y2",
         "domain": [
          0.55,
          1
         ],
         "title": {
          "text": "Algorithm"
         }
        },
        "xaxis3": {
         "anchor": "y3",
         "domain": [
          0,
          0.45
         ],
         "title": {
          "text": "Alpha (Smoothing Parameter)"
         }
        },
        "xaxis4": {
         "anchor": "y4",
         "domain": [
          0.55,
          1
         ],
         "title": {
          "text": "Predicted"
         }
        },
        "xaxis5": {
         "anchor": "y5",
         "domain": [
          0,
          0.45
         ],
         "title": {
          "text": "False Positive Rate"
         }
        },
        "xaxis6": {
         "anchor": "y6",
         "domain": [
          0.55,
          1
         ],
         "title": {
          "text": "Log Probability Difference"
         }
        },
        "yaxis": {
         "anchor": "x",
         "domain": [
          0.7777777777777778,
          1
         ],
         "title": {
          "text": "Temperature (°F)"
         }
        },
        "yaxis2": {
         "anchor": "x2",
         "domain": [
          0.7777777777777778,
          1
         ],
         "title": {
          "text": "Accuracy"
         }
        },
        "yaxis3": {
         "anchor": "x3",
         "domain": [
          0.3888888888888889,
          0.6111111111111112
         ],
         "title": {
          "text": "CV Score"
         }
        },
        "yaxis4": {
         "anchor": "x4",
         "domain": [
          0.3888888888888889,
          0.6111111111111112
         ],
         "title": {
          "text": "Actual"
         }
        },
        "yaxis5": {
         "anchor": "x5",
         "domain": [
          0,
          0.22222222222222224
         ],
         "title": {
          "text": "True Positive Rate"
         }
        },
        "yaxis6": {
         "anchor": "x6",
         "domain": [
          0,
          0.22222222222222224
         ],
         "title": {
          "text": "Words"
         }
        }
       }
      }
     },
     "metadata": {},
     "output_type": "display_data"
    }
   ],
   "source": [
    "# 3. COMPREHENSIVE NAIVE BAYES VISUALIZATION DASHBOARD\n",
    "print(\" 3. COMPREHENSIVE NAIVE BAYES VISUALIZATION DASHBOARD\")\n",
    "print(\"=\"*58)\n",
    "\n",
    "# Create comprehensive dashboard\n",
    "fig = make_subplots(\n",
    " rows=3, cols=2,\n",
    " subplot_titles=[\n",
    " 'Medical Diagnosis: Feature Distributions by Class',\n",
    " 'Email Classification: Algorithm Comparison',\n",
    " 'Hyperparameter Tuning: Alpha vs Performance',\n",
    " 'Confusion Matrix: Medical Diagnosis',\n",
    " 'ROC Curves: Binary Classification (Spam Detection)',\n",
    " 'Feature Importance: Top Spam Indicators'\n",
    " ],\n",
    " specs=[[{\"secondary_y\": False}, {\"secondary_y\": False}],\n",
    " [{\"secondary_y\": False}, {\"type\": \"heatmap\"}],\n",
    " [{\"secondary_y\": False}, {\"secondary_y\": False}]]\n",
    ")\n",
    "\n",
    "# 1. Medical feature distributions\n",
    "colors = ['blue', 'green', 'red', 'purple']\n",
    "diseases = ['Healthy', 'Flu', 'COVID-19', 'Pneumonia']\n",
    "\n",
    "for i, disease in enumerate(diseases):\n",
    "    disease_data = medical_df[medical_df['diagnosis'] == disease]\n",
    "    fig.add_trace(\n",
    "        go.Violin(\n",
    "            y=disease_data['temperature'],\n",
    "            name=disease,\n",
    "            line_color=colors[i],\n",
    "            box_visible=True,\n",
    "            meanline_visible=True\n",
    "        ),\n",
    "        row=1, col=1\n",
    "    )\n",
    "\n",
    "# 2. Algorithm comparison\n",
    "algorithms = ['Multinomial NB', 'Bernoulli NB']\n",
    "accuracies = [\n",
    " accuracy_score(y_email_test, y_email_pred_mnb_best),\n",
    " accuracy_score(y_email_test, y_email_pred_bnb_best)\n",
    "]\n",
    "\n",
    "fig.add_trace(\n",
    " go.Bar(\n",
    " x=algorithms,\n",
    " y=accuracies,\n",
    " marker_color=['lightblue', 'lightcoral'],\n",
    " text=[f'{acc:.3f}' for acc in accuracies],\n",
    " textposition='auto'\n",
    " ),\n",
    " row=1, col=2\n",
    ")\n",
    "\n",
    "# 3. Hyperparameter tuning curves\n",
    "fig.add_trace(\n",
    " go.Scatter(\n",
    " x=alpha_values,\n",
    " y=mnb_scores,\n",
    " mode='lines+markers',\n",
    " name='Multinomial NB',\n",
    " line=dict(color='blue')\n",
    " ),\n",
    " row=2, col=1\n",
    ")\n",
    "\n",
    "fig.add_trace(\n",
    " go.Scatter(\n",
    " x=alpha_values,\n",
    " y=bnb_scores,\n",
    " mode='lines+markers',\n",
    " name='Bernoulli NB',\n",
    " line=dict(color='red')\n",
    " ),\n",
    " row=2, col=1\n",
    ")\n",
    "\n",
    "# 4. Confusion matrix for medical diagnosis\n",
    "cm_medical = confusion_matrix(y_med_test, y_med_pred)\n",
    "fig.add_trace(\n",
    " go.Heatmap(\n",
    " z=cm_medical,\n",
    " x=diseases,\n",
    " y=diseases,\n",
    " colorscale='Blues',\n",
    " text=cm_medical,\n",
    " texttemplate='%{text}',\n",
    " hovertemplate='Predicted: %{x}<br>Actual: %{y}<br>Count: %{z}<extra></extra>'\n",
    " ),\n",
    " row=2, col=2\n",
    ")\n",
    "\n",
    "# 5. ROC curves for spam detection\n",
    "# Multinomial NB ROC\n",
    "y_score_mnb = mnb_best.predict_proba(X_email_tfidf_test)[:, 1]\n",
    "fpr_mnb, tpr_mnb, _ = roc_curve(y_email_test, y_score_mnb)\n",
    "auc_mnb = auc(fpr_mnb, tpr_mnb)\n",
    "\n",
    "fig.add_trace(\n",
    " go.Scatter(\n",
    " x=fpr_mnb,\n",
    " y=tpr_mnb,\n",
    " mode='lines',\n",
    " name=f'Multinomial NB (AUC = {auc_mnb:.3f})',\n",
    " line=dict(color='blue')\n",
    " ),\n",
    " row=3, col=1\n",
    ")\n",
    "\n",
    "# Bernoulli NB ROC\n",
    "y_score_bnb = bnb_best.predict_proba(X_email_bin_test)[:, 1]\n",
    "fpr_bnb, tpr_bnb, _ = roc_curve(y_email_test, y_score_bnb)\n",
    "auc_bnb = auc(fpr_bnb, tpr_bnb)\n",
    "\n",
    "fig.add_trace(\n",
    " go.Scatter(\n",
    " x=fpr_bnb,\n",
    " y=tpr_bnb,\n",
    " mode='lines',\n",
    " name=f'Bernoulli NB (AUC = {auc_bnb:.3f})',\n",
    " line=dict(color='red')\n",
    " ),\n",
    " row=3, col=1\n",
    ")\n",
    "\n",
    "# Diagonal line\n",
    "fig.add_trace(\n",
    " go.Scatter(\n",
    " x=[0, 1],\n",
    " y=[0, 1],\n",
    " mode='lines',\n",
    " line=dict(dash='dash', color='black'),\n",
    " name='Random Classifier',\n",
    " showlegend=False\n",
    " ),\n",
    " row=3, col=1\n",
    ")\n",
    "\n",
    "# 6. Feature importance for spam detection\n",
    "top_words = [feature_names[idx] for idx in reversed(top_spam_indices[-10:])]\n",
    "top_importance = [feature_importance[idx] for idx in reversed(top_spam_indices[-10:])]\n",
    "\n",
    "fig.add_trace(\n",
    " go.Bar(\n",
    " x=top_importance,\n",
    " y=top_words,\n",
    " orientation='h',\n",
    " marker_color='orange'\n",
    " ),\n",
    " row=3, col=2\n",
    ")\n",
    "\n",
    "# Update layout\n",
    "fig.update_layout(\n",
    " height=1200,\n",
    " title=\"Naive Bayes Classification - Comprehensive Analysis Dashboard\",\n",
    " showlegend=True\n",
    ")\n",
    "\n",
    "# Update axis labels\n",
    "fig.update_yaxes(title_text=\"Temperature (°F)\", row=1, col=1)\n",
    "fig.update_yaxes(title_text=\"Accuracy\", row=1, col=2)\n",
    "fig.update_yaxes(title_text=\"CV Score\", row=2, col=1)\n",
    "fig.update_yaxes(title_text=\"Actual\", row=2, col=2)\n",
    "fig.update_yaxes(title_text=\"True Positive Rate\", row=3, col=1)\n",
    "fig.update_yaxes(title_text=\"Words\", row=3, col=2)\n",
    "\n",
    "fig.update_xaxes(title_text=\"Disease Class\", row=1, col=1)\n",
    "fig.update_xaxes(title_text=\"Algorithm\", row=1, col=2)\n",
    "fig.update_xaxes(title_text=\"Alpha (Smoothing Parameter)\", row=2, col=1)\n",
    "fig.update_xaxes(title_text=\"Predicted\", row=2, col=2)\n",
    "fig.update_xaxes(title_text=\"False Positive Rate\", row=3, col=1)\n",
    "fig.update_xaxes(title_text=\"Log Probability Difference\", row=3, col=2)\n",
    "\n",
    "fig.show()"
   ]
  },
  {
   "cell_type": "code",
   "execution_count": 11,
   "id": "1dcd438e",
   "metadata": {},
   "outputs": [
    {
     "name": "stdout",
     "output_type": "stream",
     "text": [
      " 4. BUSINESS INSIGHTS AND ROI ANALYSIS\n",
      "========================================\n",
      "Medical Diagnosis System ROI:\n",
      "• Diagnostic accuracy improvement: 17.5%\n",
      "• Prevented misdiagnoses: 8750 cases/year\n",
      "• Cost savings: $218,750,000/year\n",
      "• Net benefit: $218,600,000/year\n",
      "• ROI: 145733%\n",
      "\n",
      "Email Spam Detection System ROI:\n",
      "• Spam detection accuracy: 100.0%\n",
      "• Emails correctly filtered: 10,950,000/year\n",
      "• Time saved: 91,250 hours/year\n",
      "• Labor cost savings: $2,737,500/year\n",
      "• Net benefit: $2,662,500/year\n",
      "• ROI: 3550%\n",
      "\n",
      "Combined Naive Bayes Systems ROI:\n",
      "• Total investment: $225,000\n",
      "• Total annual benefits: $221,262,500\n",
      "• Combined ROI: 98339%\n",
      "• Payback period: 0.0 months\n",
      "\n",
      "Naive Bayes Algorithm Selection Guide:\n",
      "• Gaussian NB: Continuous features (medical data, sensor readings)\n",
      "• Multinomial NB: Count data (text classification, word frequencies)\n",
      "• Bernoulli NB: Binary features (presence/absence, yes/no data)\n",
      "• Complement NB: Imbalanced datasets with many classes\n",
      "\n",
      "Implementation Considerations:\n",
      "• Feature independence assumption: Monitor correlation matrices\n",
      "• Smoothing parameter (alpha): Use cross-validation for optimization\n",
      "• Real-time performance: Naive Bayes excels in streaming applications\n",
      "• Interpretability: Clear probability outputs aid decision-making\n",
      "• Scalability: Linear time complexity enables big data processing\n",
      "\n",
      "Cross-Reference Learning Path:\n",
      "• Foundation: Tier1_Distribution.ipynb (probability distributions)\n",
      "• Building On: Tier2_LogisticRegression.ipynb (probabilistic classification)\n",
      "• Comparison: Tier5_Classification.ipynb (algorithm comparison)\n",
      "• Advanced: Advanced_TextClassification.ipynb, Advanced_BayesianMethods.ipynb\n"
     ]
    }
   ],
   "source": [
    "# 4. BUSINESS INSIGHTS AND ROI ANALYSIS\n",
    "print(\" 4. BUSINESS INSIGHTS AND ROI ANALYSIS\")\n",
    "print(\"=\"*40)\n",
    "\n",
    "# Medical diagnosis business impact\n",
    "print(\"Medical Diagnosis System ROI:\")\n",
    "total_patients = 50000 # Annual patient volume\n",
    "diagnosis_accuracy = med_accuracy\n",
    "misdiagnosis_cost = 25000 # Average cost of misdiagnosis\n",
    "system_cost = 150000 # Annual system cost\n",
    "\n",
    "# Calculate prevented misdiagnoses\n",
    "baseline_accuracy = 0.75 # Human doctor baseline\n",
    "improvement = diagnosis_accuracy - baseline_accuracy\n",
    "prevented_misdiagnoses = total_patients * improvement\n",
    "cost_savings = prevented_misdiagnoses * misdiagnosis_cost\n",
    "net_benefit = cost_savings - system_cost\n",
    "\n",
    "print(f\"• Diagnostic accuracy improvement: {improvement*100:.1f}%\")\n",
    "print(f\"• Prevented misdiagnoses: {prevented_misdiagnoses:.0f} cases/year\")\n",
    "print(f\"• Cost savings: ${cost_savings:,.0f}/year\")\n",
    "print(f\"• Net benefit: ${net_benefit:,.0f}/year\")\n",
    "print(f\"• ROI: {(net_benefit/system_cost)*100:.0f}%\")\n",
    "\n",
    "# Email spam detection business impact\n",
    "print(f\"\\nEmail Spam Detection System ROI:\")\n",
    "daily_emails = 100000 # Emails processed per day\n",
    "spam_accuracy = max(accuracy_score(y_email_test, y_email_pred_mnb_best),\n",
    " accuracy_score(y_email_test, y_email_pred_bnb_best))\n",
    "time_saved_per_spam = 0.5 # Minutes saved per correctly filtered spam\n",
    "hourly_wage = 30 # Average employee hourly wage\n",
    "system_cost_email = 75000 # Annual system cost\n",
    "\n",
    "# Calculate time and cost savings\n",
    "annual_emails = daily_emails * 365\n",
    "spam_emails = annual_emails * 0.3 # 30% spam rate\n",
    "correctly_filtered = spam_emails * spam_accuracy\n",
    "time_saved_hours = (correctly_filtered * time_saved_per_spam) / 60\n",
    "labor_cost_savings = time_saved_hours * hourly_wage\n",
    "net_benefit_email = labor_cost_savings - system_cost_email\n",
    "\n",
    "print(f\"• Spam detection accuracy: {spam_accuracy*100:.1f}%\")\n",
    "print(f\"• Emails correctly filtered: {correctly_filtered:,.0f}/year\")\n",
    "print(f\"• Time saved: {time_saved_hours:,.0f} hours/year\")\n",
    "print(f\"• Labor cost savings: ${labor_cost_savings:,.0f}/year\")\n",
    "print(f\"• Net benefit: ${net_benefit_email:,.0f}/year\")\n",
    "print(f\"• ROI: {(net_benefit_email/system_cost_email)*100:.0f}%\")\n",
    "\n",
    "# Combined system benefits\n",
    "total_investment = system_cost + system_cost_email\n",
    "total_benefits = net_benefit + net_benefit_email\n",
    "combined_roi = (total_benefits / total_investment) * 100\n",
    "\n",
    "print(f\"\\nCombined Naive Bayes Systems ROI:\")\n",
    "print(f\"• Total investment: ${total_investment:,.0f}\")\n",
    "print(f\"• Total annual benefits: ${total_benefits:,.0f}\")\n",
    "print(f\"• Combined ROI: {combined_roi:.0f}%\")\n",
    "print(f\"• Payback period: {total_investment/total_benefits*12:.1f} months\")\n",
    "\n",
    "# Algorithm selection recommendations\n",
    "print(f\"\\nNaive Bayes Algorithm Selection Guide:\")\n",
    "print(f\"• Gaussian NB: Continuous features (medical data, sensor readings)\")\n",
    "print(f\"• Multinomial NB: Count data (text classification, word frequencies)\")\n",
    "print(f\"• Bernoulli NB: Binary features (presence/absence, yes/no data)\")\n",
    "print(f\"• Complement NB: Imbalanced datasets with many classes\")\n",
    "\n",
    "print(f\"\\nImplementation Considerations:\")\n",
    "print(f\"• Feature independence assumption: Monitor correlation matrices\")\n",
    "print(f\"• Smoothing parameter (alpha): Use cross-validation for optimization\")\n",
    "print(f\"• Real-time performance: Naive Bayes excels in streaming applications\")\n",
    "print(f\"• Interpretability: Clear probability outputs aid decision-making\")\n",
    "print(f\"• Scalability: Linear time complexity enables big data processing\")\n",
    "\n",
    "print(f\"\\nCross-Reference Learning Path:\")\n",
    "print(f\"• Foundation: Tier1_Distribution.ipynb (probability distributions)\")\n",
    "print(f\"• Building On: Tier2_LogisticRegression.ipynb (probabilistic classification)\")\n",
    "print(f\"• Comparison: Tier5_Classification.ipynb (algorithm comparison)\")\n",
    "print(f\"• Advanced: Advanced_TextClassification.ipynb, Advanced_BayesianMethods.ipynb\")"
   ]
  }
 ],
 "metadata": {
  "kernelspec": {
   "display_name": ".venv",
   "language": "python",
   "name": "python3"
  },
  "language_info": {
   "codemirror_mode": {
    "name": "ipython",
    "version": 3
   },
   "file_extension": ".py",
   "mimetype": "text/x-python",
   "name": "python",
   "nbconvert_exporter": "python",
   "pygments_lexer": "ipython3",
   "version": "3.13.7"
  }
 },
 "nbformat": 4,
 "nbformat_minor": 5
}
