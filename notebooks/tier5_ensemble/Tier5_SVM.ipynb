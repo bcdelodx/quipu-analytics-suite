{
 "cells": [
  {
   "cell_type": "markdown",
   "metadata": {},
   "source": [
    "# Tier 5: Support Vector Machine Classification\n",
    "\n",
    "---\n",
    "\n",
    "**Author:** Brandon Deloatch\n",
    "**Affiliation:** Quipu Research Labs, LLC\n",
    "**Date:** 2025-10-02\n",
    "**Version:** v1.3\n",
    "**License:** MIT\n",
    "**Notebook ID:** e874fd9d-091e-4438-9a00-597b6ec197a2\n",
    "\n",
    "---\n",
    "\n",
    "## Citation\n",
    "Brandon Deloatch, \"Tier 5: Support Vector Machine Classification,\" Quipu Research Labs, LLC, v1.3, 2025-10-02.\n",
    "\n",
    "Please cite this notebook if used or adapted in publications, presentations, or derivative work.\n",
    "\n",
    "---\n",
    "\n",
    "## Contributors / Acknowledgments\n",
    "- **Primary Author:** Brandon Deloatch (Quipu Research Labs, LLC)\n",
    "- **Institutional Support:** Quipu Research Labs, LLC - Advanced Analytics Division\n",
    "- **Technical Framework:** Built on scikit-learn, pandas, numpy, and plotly ecosystems\n",
    "- **Methodological Foundation:** Statistical learning principles and modern data science best practices\n",
    "\n",
    "---\n",
    "\n",
    "## Version History\n",
    "| Version | Date | Notes |\n",
    "|---------|------|-------|\n",
    "| v1.3 | 2025-10-02 | Enhanced professional formatting, comprehensive documentation, interactive visualizations |\n",
    "| v1.2 | 2024-09-15 | Updated analysis methods, improved data generation algorithms |\n",
    "| v1.0 | 2024-06-10 | Initial release with core analytical framework |\n",
    "\n",
    "---\n",
    "\n",
    "## Environment Dependencies\n",
    "- **Python:** 3.8+\n",
    "- **Core Libraries:** pandas 2.0+, numpy 1.24+, scikit-learn 1.3+\n",
    "- **Visualization:** plotly 5.0+, matplotlib 3.7+\n",
    "- **Statistical:** scipy 1.10+, statsmodels 0.14+\n",
    "- **Development:** jupyter-lab 4.0+, ipywidgets 8.0+\n",
    "\n",
    "> **Reproducibility Note:** Use requirements.txt or environment.yml for exact dependency matching.\n",
    "\n",
    "---\n",
    "\n",
    "## Data Provenance\n",
    "| Dataset | Source | License | Notes |\n",
    "|---------|--------|---------|-------|\n",
    "| Synthetic Data | Generated in-notebook | MIT | Custom algorithms for realistic simulation |\n",
    "| Statistical Distributions | NumPy/SciPy | BSD-3-Clause | Standard library implementations |\n",
    "| ML Algorithms | Scikit-learn | BSD-3-Clause | Industry-standard implementations |\n",
    "| Visualization Schemas | Plotly | MIT | Interactive dashboard frameworks |\n",
    "\n",
    "---\n",
    "\n",
    "## Execution Provenance Logs\n",
    "- **Created:** 2025-10-02\n",
    "- **Notebook ID:** e874fd9d-091e-4438-9a00-597b6ec197a2\n",
    "- **Execution Environment:** Jupyter Lab / VS Code\n",
    "- **Computational Requirements:** Standard laptop/workstation (2GB+ RAM recommended)\n",
    "\n",
    "> **Auto-tracking:** Execution metadata can be programmatically captured for reproducibility.\n",
    "\n",
    "---\n",
    "\n",
    "## Disclaimer & Responsible Use\n",
    "This notebook is provided \"as-is\" for educational, research, and professional development purposes. Users assume full responsibility for any results, applications, or decisions derived from this analysis.\n",
    "\n",
    "**Professional Standards:**\n",
    "- Validate all results against domain expertise and additional data sources\n",
    "- Respect licensing and attribution requirements for all dependencies\n",
    "- Follow ethical guidelines for data analysis and algorithmic decision-making\n",
    "- Credit all methodological sources and derivative frameworks appropriately\n",
    "\n",
    "**Academic & Commercial Use:**\n",
    "- Permitted under MIT license with proper attribution\n",
    "- Suitable for educational curriculum and professional training\n",
    "- Appropriate for commercial adaptation with citation requirements\n",
    "- Recommended for reproducible research and transparent analytics\n",
    "\n",
    "---\n",
    "\n"
   ]
  },
  {
   "cell_type": "code",
   "execution_count": 1,
   "id": "115fd829",
   "metadata": {},
   "outputs": [
    {
     "name": "stdout",
     "output_type": "stream",
     "text": [
      " Tier 5: Support Vector Machine Classification - Libraries Loaded!\n",
      "====================================================================\n",
      "Support Vector Machine Techniques:\n",
      "• Linear SVM (Support Vector Classifier)\n",
      "• RBF Kernel SVM (Radial Basis Function)\n",
      "• Polynomial Kernel SVM\n",
      "• Sigmoid Kernel SVM\n",
      "• Linear SVC (Large scale linear classification)\n",
      "• Hyperparameter optimization (C, gamma, kernel parameters)\n",
      "• Decision boundary visualization and analysis\n",
      "• High-dimensional sparse data classification\n"
     ]
    }
   ],
   "source": [
    "import pandas as pd\n",
    "import numpy as np\n",
    "import plotly.express as px\n",
    "import plotly.graph_objects as go\n",
    "from plotly.subplots import make_subplots\n",
    "from sklearn.svm import SVC, LinearSVC\n",
    "from sklearn.model_selection import train_test_split, cross_val_score, GridSearchCV, validation_curve\n",
    "from sklearn.metrics import classification_report, confusion_matrix, accuracy_score, roc_curve, auc\n",
    "from sklearn.preprocessing import StandardScaler, LabelEncoder\n",
    "from sklearn.datasets import make_classification, make_circles, make_moons\n",
    "from sklearn.pipeline import Pipeline\n",
    "from sklearn.feature_extraction.text import TfidfVectorizer\n",
    "import warnings\n",
    "warnings.filterwarnings('ignore')\n",
    "\n",
    "print(\" Tier 5: Support Vector Machine Classification - Libraries Loaded!\")\n",
    "print(\"=\"*68)\n",
    "print(\"Support Vector Machine Techniques:\")\n",
    "print(\"• Linear SVM (Support Vector Classifier)\")\n",
    "print(\"• RBF Kernel SVM (Radial Basis Function)\")\n",
    "print(\"• Polynomial Kernel SVM\")\n",
    "print(\"• Sigmoid Kernel SVM\")\n",
    "print(\"• Linear SVC (Large scale linear classification)\")\n",
    "print(\"• Hyperparameter optimization (C, gamma, kernel parameters)\")\n",
    "print(\"• Decision boundary visualization and analysis\")\n",
    "print(\"• High-dimensional sparse data classification\")"
   ]
  },
  {
   "cell_type": "code",
   "execution_count": 3,
   "id": "8846efad",
   "metadata": {},
   "outputs": [
    {
     "name": "stdout",
     "output_type": "stream",
     "text": [
      " Support Vector Machine Datasets Created:\n",
      "Text classification: (3000, 7)\n",
      "Category distribution: {'Technology': 771, 'Healthcare': 617, 'Finance': 602, 'Education': 574, 'Sports': 436}\n",
      "\n",
      "Image classification: (2500, 156)\n",
      "Object type distribution: {'Circle': 1007, 'Square': 926, 'Triangle': 567}\n",
      "\n",
      "Non-linear datasets:\n",
      "Circles: (1000, 2), Moons: (1000, 2), Complex: (1500, 20)\n",
      "\n",
      "Sample text documents:\n",
      "• Technology: university to be from this cloud an an and and as be be the by...\n",
      "• Healthcare: be to by with an an the are are for is is as to will...\n",
      "• Finance: as economy bank that the is is trading student an at bank is are capital...\n"
     ]
    }
   ],
   "source": [
    "# Generate comprehensive SVM datasets\n",
    "np.random.seed(42)\n",
    "\n",
    "# 1. Text classification dataset (high-dimensional sparse)\n",
    "def generate_text_dataset(n_samples=3000):\n",
    "    \"\"\"Generate realistic text classification dataset.\"\"\"\n",
    "\n",
    "    categories = ['Technology', 'Healthcare', 'Finance', 'Education', 'Sports']\n",
    "\n",
    "    # Technology keywords\n",
    "    tech_words = ['algorithm', 'software', 'computer', 'data', 'programming', 'AI', 'machine learning',\n",
    "                  'cloud', 'database', 'network', 'security', 'innovation', 'digital', 'technology']\n",
    "\n",
    "    # Healthcare keywords\n",
    "    health_words = ['patient', 'medical', 'treatment', 'diagnosis', 'hospital', 'doctor', 'surgery',\n",
    "                    'medicine', 'health', 'disease', 'therapy', 'clinical', 'research', 'pharmaceutical']\n",
    "\n",
    "    # Finance keywords\n",
    "    finance_words = ['investment', 'bank', 'market', 'stock', 'profit', 'revenue', 'financial',\n",
    "                     'economy', 'trading', 'currency', 'portfolio', 'asset', 'risk', 'capital']\n",
    "\n",
    "    # Education keywords\n",
    "    education_words = ['student', 'school', 'learning', 'education', 'teacher', 'university', 'course',\n",
    "                       'study', 'academic', 'research', 'knowledge', 'curriculum', 'degree', 'classroom']\n",
    "\n",
    "    # Sports keywords\n",
    "    sports_words = ['game', 'player', 'team', 'sport', 'competition', 'championship', 'training',\n",
    "                    'coach', 'athlete', 'performance', 'fitness', 'exercise', 'match', 'score']\n",
    "\n",
    "    keyword_sets = [tech_words, health_words, finance_words, education_words, sports_words]\n",
    "\n",
    "    data = []\n",
    "\n",
    "    for i in range(n_samples):\n",
    "        # Choose category\n",
    "        category_idx = np.random.choice(5, p=[0.25, 0.20, 0.20, 0.20, 0.15])\n",
    "        category = categories[category_idx]\n",
    "\n",
    "        # Generate text document\n",
    "        doc_length = np.random.randint(50, 200) # Document length in words\n",
    "\n",
    "        # Primary keywords (from chosen category)\n",
    "        primary_keywords = np.random.choice(keyword_sets[category_idx],\n",
    "                                             size=min(8, len(keyword_sets[category_idx])),\n",
    "                                             replace=False).tolist()\n",
    "\n",
    "        # Add some noise keywords from other categories\n",
    "        noise_keywords = []\n",
    "        for other_idx in range(5):\n",
    "            if other_idx != category_idx and np.random.random() < 0.3:\n",
    "                noise_keywords.extend(np.random.choice(keyword_sets[other_idx],\n",
    "                                                        size=np.random.randint(0, 3)).tolist())\n",
    "\n",
    "        # Common words\n",
    "        common_words = ['the', 'and', 'to', 'of', 'in', 'is', 'for', 'with', 'on', 'as',\n",
    "                        'this', 'that', 'can', 'will', 'from', 'by', 'at', 'an', 'are', 'be']\n",
    "\n",
    "        # Build document\n",
    "        all_keywords = primary_keywords + noise_keywords + common_words\n",
    "        document = ' '.join(np.random.choice(all_keywords, size=doc_length, replace=True))\n",
    "\n",
    "        # Add some numerical features (document stats)\n",
    "        data.append({\n",
    "            'document_id': f'DOC_{i:06d}',\n",
    "            'text': document,\n",
    "            'word_count': doc_length,\n",
    "            'unique_words': len(set(document.split())),\n",
    "            'avg_word_length': np.mean([len(word) for word in document.split()]),\n",
    "            'category': category,\n",
    "            'category_code': category_idx\n",
    "        })\n",
    "\n",
    "    return pd.DataFrame(data)\n",
    "\n",
    "# 2. Image-like high-dimensional dataset\n",
    "def generate_image_dataset(n_samples=2500):\n",
    "    \"\"\"Generate high-dimensional dataset simulating image features.\"\"\"\n",
    "\n",
    "    object_types = ['Circle', 'Square', 'Triangle']\n",
    "    data = []\n",
    "\n",
    "    for i in range(n_samples):\n",
    "        # Choose object type\n",
    "        object_idx = np.random.choice(3, p=[0.4, 0.35, 0.25])\n",
    "        object_type = object_types[object_idx]\n",
    "\n",
    "        # Generate features based on object type\n",
    "        if object_type == 'Circle':\n",
    "            # Circular patterns - higher values in center, lower at edges\n",
    "            center_features = np.random.normal(0.8, 0.1, 25) # Center pixels\n",
    "            edge_features = np.random.normal(0.2, 0.05, 75) # Edge pixels\n",
    "            texture_features = np.random.beta(2, 5, 50) # Smooth texture\n",
    "\n",
    "        elif object_type == 'Square':\n",
    "            # Square patterns - uniform intensity in regions\n",
    "            center_features = np.random.normal(0.6, 0.15, 25)\n",
    "            edge_features = np.random.normal(0.7, 0.1, 75) # Sharp edges\n",
    "            texture_features = np.random.beta(5, 2, 50) # Angular texture\n",
    "\n",
    "        else: # Triangle\n",
    "            # Triangular patterns - gradient features\n",
    "            center_features = np.random.normal(0.5, 0.2, 25)\n",
    "            edge_features = np.random.normal(0.4, 0.15, 75)\n",
    "            texture_features = np.random.beta(3, 3, 50) # Mixed texture\n",
    "\n",
    "        # Combine all features\n",
    "        pixel_features = np.concatenate([center_features, edge_features])\n",
    "        all_features = np.concatenate([pixel_features, texture_features])\n",
    "\n",
    "        # Add noise\n",
    "        noise = np.random.normal(0, 0.05, len(all_features))\n",
    "        final_features = np.clip(all_features + noise, 0, 1)\n",
    "\n",
    "        # Create feature dictionary\n",
    "        feature_dict = {f'feature_{j:03d}': final_features[j] for j in range(len(final_features))}\n",
    "        feature_dict.update({\n",
    "            'image_id': f'IMG_{i:06d}',\n",
    "            'brightness': np.mean(final_features),\n",
    "            'contrast': np.std(final_features),\n",
    "            'symmetry': 1 - np.abs(np.mean(final_features[:50]) - np.mean(final_features[50:])),\n",
    "            'object_type': object_type,\n",
    "            'type_code': object_idx\n",
    "        })\n",
    "\n",
    "        data.append(feature_dict)\n",
    "\n",
    "    return pd.DataFrame(data)\n",
    "\n",
    "# 3. Non-linear separable dataset\n",
    "def generate_nonlinear_dataset():\n",
    "    \"\"\"Generate non-linearly separable datasets for kernel demonstration.\"\"\"\n",
    "\n",
    "    # Circles dataset\n",
    "    X_circles, y_circles = make_circles(n_samples=1000, factor=0.3, noise=0.1, random_state=42)\n",
    "\n",
    "    # Moons dataset\n",
    "    X_moons, y_moons = make_moons(n_samples=1000, noise=0.1, random_state=42)\n",
    "\n",
    "    # Complex multi-class dataset\n",
    "    X_complex, y_complex = make_classification(\n",
    "        n_samples=1500, n_features=20, n_informative=15,\n",
    "        n_redundant=5, n_classes=4, n_clusters_per_class=2,\n",
    "        class_sep=0.8, random_state=42\n",
    "    )\n",
    "\n",
    "    return (X_circles, y_circles), (X_moons, y_moons), (X_complex, y_complex)\n",
    "\n",
    "# Generate datasets\n",
    "text_df = generate_text_dataset()\n",
    "image_df = generate_image_dataset()\n",
    "(X_circles, y_circles), (X_moons, y_moons), (X_complex, y_complex) = generate_nonlinear_dataset()\n",
    "\n",
    "print(\" Support Vector Machine Datasets Created:\")\n",
    "print(f\"Text classification: {text_df.shape}\")\n",
    "print(f\"Category distribution: {text_df['category'].value_counts().to_dict()}\")\n",
    "print(f\"\\nImage classification: {image_df.shape}\")\n",
    "print(f\"Object type distribution: {image_df['object_type'].value_counts().to_dict()}\")\n",
    "print(f\"\\nNon-linear datasets:\")\n",
    "print(f\"Circles: {X_circles.shape}, Moons: {X_moons.shape}, Complex: {X_complex.shape}\")\n",
    "\n",
    "# Show some text examples\n",
    "print(f\"\\nSample text documents:\")\n",
    "for category in ['Technology', 'Healthcare', 'Finance']:\n",
    "    sample = text_df[text_df['category'] == category].iloc[0]\n",
    "    text_preview = ' '.join(sample['text'].split()[:15]) + '...'\n",
    "    print(f\"• {category}: {text_preview}\")"
   ]
  },
  {
   "cell_type": "code",
   "execution_count": 4,
   "id": "a4a8aa6a",
   "metadata": {},
   "outputs": [
    {
     "name": "stdout",
     "output_type": "stream",
     "text": [
      " 1. KERNEL COMPARISON AND HYPERPARAMETER OPTIMIZATION\n",
      "========================================================\n",
      "Text Classification with Different SVM Kernels:\n",
      "\n",
      "Kernel performance on text classification:\n",
      "Training Linear SVM...\n",
      " Train: 1.000, Test: 0.998, CV: 1.000 ± 0.000\n",
      "Training RBF SVM...\n",
      " Train: 1.000, Test: 0.997, CV: 0.996 ± 0.001\n",
      "Training Polynomial SVM...\n",
      " Train: 1.000, Test: 0.997, CV: 0.996 ± 0.001\n",
      "Training Polynomial SVM...\n",
      " Train: 0.995, Test: 0.993, CV: 0.983 ± 0.008\n",
      "Training Sigmoid SVM...\n",
      " Train: 0.995, Test: 0.993, CV: 0.983 ± 0.008\n",
      "Training Sigmoid SVM...\n",
      " Train: 0.778, Test: 0.802, CV: 0.768 ± 0.029\n",
      "\n",
      "Best kernel for text: Linear\n",
      "Optimizing hyperparameters for Linear kernel...\n",
      " Train: 0.778, Test: 0.802, CV: 0.768 ± 0.029\n",
      "\n",
      "Best kernel for text: Linear\n",
      "Optimizing hyperparameters for Linear kernel...\n",
      "Best parameters: {'C': 1}\n",
      "Optimized accuracy: 0.998\n",
      "Improvement: +0.000\n",
      "Best parameters: {'C': 1}\n",
      "Optimized accuracy: 0.998\n",
      "Improvement: +0.000\n"
     ]
    }
   ],
   "source": [
    "# 1. KERNEL COMPARISON AND HYPERPARAMETER OPTIMIZATION\n",
    "print(\" 1. KERNEL COMPARISON AND HYPERPARAMETER OPTIMIZATION\")\n",
    "print(\"=\"*56)\n",
    "\n",
    "# Text classification with TF-IDF\n",
    "print(\"Text Classification with Different SVM Kernels:\")\n",
    "\n",
    "# Prepare text data\n",
    "vectorizer = TfidfVectorizer(max_features=1000, stop_words='english')\n",
    "X_text_tfidf = vectorizer.fit_transform(text_df['text']).toarray()\n",
    "y_text = text_df['category_code'].values\n",
    "\n",
    "# Add numerical features\n",
    "numerical_features = text_df[['word_count', 'unique_words', 'avg_word_length']].values\n",
    "scaler_text = StandardScaler()\n",
    "numerical_features_scaled = scaler_text.fit_transform(numerical_features)\n",
    "\n",
    "# Combine TF-IDF and numerical features\n",
    "X_text_combined = np.hstack([X_text_tfidf, numerical_features_scaled])\n",
    "\n",
    "# Split data\n",
    "X_text_train, X_text_test, y_text_train, y_text_test = train_test_split(\n",
    " X_text_combined, y_text, test_size=0.2, random_state=42, stratify=y_text\n",
    ")\n",
    "\n",
    "# Define SVM kernels to compare\n",
    "svm_kernels = {\n",
    " 'Linear': SVC(kernel='linear', random_state=42),\n",
    " 'RBF': SVC(kernel='rbf', random_state=42),\n",
    " 'Polynomial': SVC(kernel='poly', degree=3, random_state=42),\n",
    " 'Sigmoid': SVC(kernel='sigmoid', random_state=42)\n",
    "}\n",
    "\n",
    "# Compare kernels on text data\n",
    "text_results = {}\n",
    "print(\"\\nKernel performance on text classification:\")\n",
    "\n",
    "for kernel_name, svm_model in svm_kernels.items():\n",
    "    print(f\"Training {kernel_name} SVM...\")\n",
    "\n",
    "    # Train model\n",
    "    svm_model.fit(X_text_train, y_text_train)\n",
    "\n",
    "    # Evaluate\n",
    "    train_score = svm_model.score(X_text_train, y_text_train)\n",
    "    test_score = svm_model.score(X_text_test, y_text_test)\n",
    "    cv_scores = cross_val_score(svm_model, X_text_train, y_text_train, cv=3)\n",
    "\n",
    "    text_results[kernel_name] = {\n",
    "        'train_score': train_score,\n",
    "        'test_score': test_score,\n",
    "        'cv_mean': cv_scores.mean(),\n",
    "        'cv_std': cv_scores.std(),\n",
    "        'model': svm_model\n",
    "    }\n",
    "\n",
    "    print(f\" Train: {train_score:.3f}, Test: {test_score:.3f}, CV: {cv_scores.mean():.3f} ± {cv_scores.std():.3f}\")\n",
    "\n",
    "# Hyperparameter optimization for best kernel\n",
    "best_text_kernel = max(text_results.keys(), key=lambda x: text_results[x]['test_score'])\n",
    "print(f\"\\nBest kernel for text: {best_text_kernel}\")\n",
    "print(f\"Optimizing hyperparameters for {best_text_kernel} kernel...\")\n",
    "\n",
    "if best_text_kernel == 'Linear':\n",
    " param_grid = {'C': [0.1, 1, 10, 100]}\n",
    " base_model = SVC(kernel='linear', random_state=42)\n",
    "elif best_text_kernel == 'RBF':\n",
    " param_grid = {'C': [0.1, 1, 10, 100], 'gamma': ['scale', 'auto', 0.001, 0.01, 0.1, 1]}\n",
    " base_model = SVC(kernel='rbf', random_state=42)\n",
    "elif best_text_kernel == 'Polynomial':\n",
    " param_grid = {'C': [0.1, 1, 10], 'degree': [2, 3, 4], 'gamma': ['scale', 'auto']}\n",
    " base_model = SVC(kernel='poly', random_state=42)\n",
    "else: # Sigmoid\n",
    " param_grid = {'C': [0.1, 1, 10], 'gamma': ['scale', 'auto', 0.01, 0.1]}\n",
    " base_model = SVC(kernel='sigmoid', random_state=42)\n",
    "\n",
    "# Grid search\n",
    "grid_search_text = GridSearchCV(base_model, param_grid, cv=3, scoring='accuracy', n_jobs=-1)\n",
    "grid_search_text.fit(X_text_train, y_text_train)\n",
    "\n",
    "optimized_text_score = grid_search_text.score(X_text_test, y_text_test)\n",
    "print(f\"Best parameters: {grid_search_text.best_params_}\")\n",
    "print(f\"Optimized accuracy: {optimized_text_score:.3f}\")\n",
    "print(f\"Improvement: {optimized_text_score - text_results[best_text_kernel]['test_score']:+.3f}\")"
   ]
  },
  {
   "cell_type": "code",
   "execution_count": 5,
   "id": "555cb567",
   "metadata": {},
   "outputs": [
    {
     "name": "stdout",
     "output_type": "stream",
     "text": [
      " 2. HIGH-DIMENSIONAL IMAGE CLASSIFICATION\n",
      "==========================================\n",
      "Image dataset: 2500 samples, 153 features\n",
      "\n",
      "Kernel performance on image classification:\n",
      "Training Linear SVM on image data...\n",
      " Train: 1.000, Test: 1.000 (trained on 2000 samples)\n",
      "Training RBF SVM on image data...\n",
      " Train: 1.000, Test: 1.000 (trained on 1000 samples)\n",
      "Training Polynomial SVM on image data...\n",
      " Train: 1.000, Test: 1.000 (trained on 1000 samples)\n",
      "Training Sigmoid SVM on image data...\n",
      " Train: 1.000, Test: 1.000 (trained on 2000 samples)\n",
      "\n",
      "C Parameter Analysis for Linear SVM:\n",
      "C=  0.01: Train=1.000, Test=1.000\n",
      "C=  0.10: Train=1.000, Test=1.000\n",
      "C=  1.00: Train=1.000, Test=1.000\n",
      "C= 10.00: Train=1.000, Test=1.000\n",
      "C=100.00: Train=1.000, Test=1.000\n",
      "C=1000.00: Train=1.000, Test=1.000\n",
      "Best C value: 0.01 (Test accuracy: 1.000)\n",
      "\n",
      "Linear SVC (optimized for large datasets):\n",
      "LinearSVC - Train: 1.000, Test: 1.000\n",
      "Number of support vectors (Linear SVM): [22 25 43]\n",
      "Total support vectors: 90\n"
     ]
    }
   ],
   "source": [
    "# 2. HIGH-DIMENSIONAL IMAGE CLASSIFICATION\n",
    "print(\" 2. HIGH-DIMENSIONAL IMAGE CLASSIFICATION\")\n",
    "print(\"=\"*42)\n",
    "\n",
    "# Prepare image data\n",
    "image_feature_cols = [col for col in image_df.columns\n",
    " if col.startswith('feature_') or col in ['brightness', 'contrast', 'symmetry']]\n",
    "X_image = image_df[image_feature_cols].values\n",
    "y_image = image_df['type_code'].values\n",
    "\n",
    "# Scale features\n",
    "scaler_image = StandardScaler()\n",
    "X_image_scaled = scaler_image.fit_transform(X_image)\n",
    "\n",
    "# Split data\n",
    "X_img_train, X_img_test, y_img_train, y_img_test = train_test_split(\n",
    " X_image_scaled, y_image, test_size=0.2, random_state=42, stratify=y_image\n",
    ")\n",
    "\n",
    "print(f\"Image dataset: {X_image_scaled.shape[0]} samples, {X_image_scaled.shape[1]} features\")\n",
    "\n",
    "# Compare SVM performance on high-dimensional data\n",
    "image_results = {}\n",
    "print(\"\\nKernel performance on image classification:\")\n",
    "\n",
    "for kernel_name, svm_model in svm_kernels.items():\n",
    "    print(f\"Training {kernel_name} SVM on image data...\")\n",
    "\n",
    "    # For high-dimensional data, use smaller subset for complex kernels\n",
    "    if kernel_name in ['RBF', 'Polynomial'] and X_img_train.shape[0] > 1000:\n",
    "        # Use subset for expensive kernels\n",
    "        subset_indices = np.random.choice(len(X_img_train), 1000, replace=False)\n",
    "        X_train_subset = X_img_train[subset_indices]\n",
    "        y_train_subset = y_img_train[subset_indices]\n",
    "    else:\n",
    "        X_train_subset = X_img_train\n",
    "        y_train_subset = y_img_train\n",
    "\n",
    "    # Train model\n",
    "    svm_model.fit(X_train_subset, y_train_subset)\n",
    "\n",
    "    # Evaluate\n",
    "    train_score = svm_model.score(X_train_subset, y_train_subset)\n",
    "    test_score = svm_model.score(X_img_test, y_img_test)\n",
    "\n",
    "    image_results[kernel_name] = {\n",
    "        'train_score': train_score,\n",
    "        'test_score': test_score,\n",
    "        'model': svm_model,\n",
    "        'training_size': len(X_train_subset)\n",
    "    }\n",
    "\n",
    "    print(f\" Train: {train_score:.3f}, Test: {test_score:.3f} (trained on {len(X_train_subset)} samples)\")\n",
    "\n",
    "# C parameter analysis for Linear SVM (most suitable for high-dimensional)\n",
    "print(f\"\\nC Parameter Analysis for Linear SVM:\")\n",
    "C_values = [0.01, 0.1, 1, 10, 100, 1000]\n",
    "C_train_scores = []\n",
    "C_test_scores = []\n",
    "\n",
    "for C in C_values:\n",
    "    linear_svm_c = SVC(kernel='linear', C=C, random_state=42)\n",
    "    linear_svm_c.fit(X_img_train, y_img_train)\n",
    "\n",
    "    train_score = linear_svm_c.score(X_img_train, y_img_train)\n",
    "    test_score = linear_svm_c.score(X_img_test, y_img_test)\n",
    "\n",
    "    C_train_scores.append(train_score)\n",
    "    C_test_scores.append(test_score)\n",
    "\n",
    "    print(f\"C={C:6.2f}: Train={train_score:.3f}, Test={test_score:.3f}\")\n",
    "\n",
    "best_C_idx = np.argmax(C_test_scores)\n",
    "best_C = C_values[best_C_idx]\n",
    "print(f\"Best C value: {best_C} (Test accuracy: {C_test_scores[best_C_idx]:.3f})\")\n",
    "\n",
    "# Linear SVC for large-scale classification\n",
    "print(f\"\\nLinear SVC (optimized for large datasets):\")\n",
    "linear_svc = LinearSVC(C=best_C, random_state=42, max_iter=2000)\n",
    "linear_svc.fit(X_img_train, y_img_train)\n",
    "\n",
    "svc_train_score = linear_svc.score(X_img_train, y_img_train)\n",
    "svc_test_score = linear_svc.score(X_img_test, y_img_test)\n",
    "\n",
    "print(f\"LinearSVC - Train: {svc_train_score:.3f}, Test: {svc_test_score:.3f}\")\n",
    "print(f\"Number of support vectors (Linear SVM): {image_results['Linear']['model'].n_support_}\")\n",
    "print(f\"Total support vectors: {sum(image_results['Linear']['model'].n_support_)}\")"
   ]
  },
  {
   "cell_type": "code",
   "execution_count": 6,
   "id": "e6b493ab",
   "metadata": {},
   "outputs": [
    {
     "name": "stdout",
     "output_type": "stream",
     "text": [
      " 3. NON-LINEAR KERNEL ANALYSIS AND DECISION BOUNDARIES\n",
      "==========================================================\n",
      "\n",
      "Circles Dataset Analysis:\n",
      " Linear: 0.680 (Support vectors: 800)\n",
      " RBF: 1.000 (Support vectors: 36)\n",
      " Polynomial: 0.625 (Support vectors: 794)\n",
      "\n",
      "Moons Dataset Analysis:\n",
      " Linear: 0.895 (Support vectors: 242)\n",
      " RBF: 1.000 (Support vectors: 65)\n",
      " Polynomial: 0.945 (Support vectors: 204)\n",
      "\n",
      "RBF Kernel Gamma Analysis on Circles Dataset:\n",
      "Gamma= 0.001: Accuracy=0.705, Support Vectors=800\n",
      "Gamma= 0.010: Accuracy=0.745, Support Vectors=800\n",
      "Gamma= 0.100: Accuracy=1.000, Support Vectors=393\n",
      "Gamma= 1.000: Accuracy=1.000, Support Vectors=46\n",
      "Gamma=10.000: Accuracy=1.000, Support Vectors=52\n",
      "Gamma=100.000: Accuracy=1.000, Support Vectors=406\n",
      "Best gamma: 0.1 (Accuracy: 1.000)\n",
      "\n",
      "Complex Multi-class Dataset (4 classes, 20 features):\n",
      "Linear: Train=0.613, Test=0.590\n",
      "RBF: Train=0.968, Test=0.840\n",
      "Polynomial: Train=0.892, Test=0.743\n",
      "\n",
      "Best multi-class kernel: RBF\n",
      "Classification report:\n",
      "              precision    recall  f1-score   support\n",
      "\n",
      "     Class_0       0.86      0.89      0.88        75\n",
      "     Class_1       0.79      0.83      0.81        75\n",
      "     Class_2       0.90      0.81      0.85        74\n",
      "     Class_3       0.82      0.83      0.82        76\n",
      "\n",
      "    accuracy                           0.84       300\n",
      "   macro avg       0.84      0.84      0.84       300\n",
      "weighted avg       0.84      0.84      0.84       300\n",
      "\n",
      "RBF: Train=0.968, Test=0.840\n",
      "Polynomial: Train=0.892, Test=0.743\n",
      "\n",
      "Best multi-class kernel: RBF\n",
      "Classification report:\n",
      "              precision    recall  f1-score   support\n",
      "\n",
      "     Class_0       0.86      0.89      0.88        75\n",
      "     Class_1       0.79      0.83      0.81        75\n",
      "     Class_2       0.90      0.81      0.85        74\n",
      "     Class_3       0.82      0.83      0.82        76\n",
      "\n",
      "    accuracy                           0.84       300\n",
      "   macro avg       0.84      0.84      0.84       300\n",
      "weighted avg       0.84      0.84      0.84       300\n",
      "\n"
     ]
    }
   ],
   "source": [
    "# 3. NON-LINEAR KERNEL ANALYSIS AND DECISION BOUNDARIES\n",
    "print(\" 3. NON-LINEAR KERNEL ANALYSIS AND DECISION BOUNDARIES\")\n",
    "print(\"=\"*58)\n",
    "\n",
    "# Analyze non-linear datasets\n",
    "nonlinear_datasets = {\n",
    " 'Circles': (X_circles, y_circles),\n",
    " 'Moons': (X_moons, y_moons)\n",
    "}\n",
    "\n",
    "nonlinear_results = {}\n",
    "\n",
    "for dataset_name, (X_data, y_data) in nonlinear_datasets.items():\n",
    "    print(f\"\\n{dataset_name} Dataset Analysis:\")\n",
    "\n",
    "    # Split data\n",
    "    X_train, X_test, y_train, y_test = train_test_split(\n",
    "        X_data, y_data, test_size=0.2, random_state=42, stratify=y_data\n",
    "    )\n",
    "\n",
    "    # Test different kernels\n",
    "    kernel_performance = {}\n",
    "\n",
    "    for kernel_name in ['Linear', 'RBF', 'Polynomial']:\n",
    "        if kernel_name == 'Linear':\n",
    "            svm = SVC(kernel='linear', C=1.0, random_state=42)\n",
    "        elif kernel_name == 'RBF':\n",
    "            svm = SVC(kernel='rbf', C=1.0, gamma='scale', random_state=42)\n",
    "        else: # Polynomial\n",
    "            svm = SVC(kernel='poly', degree=3, C=1.0, gamma='scale', random_state=42)\n",
    "\n",
    "        svm.fit(X_train, y_train)\n",
    "        test_score = svm.score(X_test, y_test)\n",
    "\n",
    "        kernel_performance[kernel_name] = {\n",
    "            'score': test_score,\n",
    "            'model': svm,\n",
    "            'n_support': sum(svm.n_support_) if hasattr(svm, 'n_support_') else 0\n",
    "        }\n",
    "\n",
    "        print(f\" {kernel_name}: {test_score:.3f} (Support vectors: {sum(svm.n_support_)})\")\n",
    "\n",
    "    nonlinear_results[dataset_name] = kernel_performance\n",
    "\n",
    "# RBF kernel gamma analysis\n",
    "print(f\"\\nRBF Kernel Gamma Analysis on Circles Dataset:\")\n",
    "gamma_values = [0.001, 0.01, 0.1, 1, 10, 100]\n",
    "gamma_scores = []\n",
    "gamma_support_vectors = []\n",
    "\n",
    "X_circles_train, X_circles_test, y_circles_train, y_circles_test = train_test_split(\n",
    " X_circles, y_circles, test_size=0.2, random_state=42, stratify=y_circles\n",
    ")\n",
    "\n",
    "for gamma in gamma_values:\n",
    "    rbf_svm = SVC(kernel='rbf', C=1.0, gamma=gamma, random_state=42)\n",
    "    rbf_svm.fit(X_circles_train, y_circles_train)\n",
    "\n",
    "    test_score = rbf_svm.score(X_circles_test, y_circles_test)\n",
    "    n_sv = sum(rbf_svm.n_support_)\n",
    "\n",
    "    gamma_scores.append(test_score)\n",
    "    gamma_support_vectors.append(n_sv)\n",
    "\n",
    "    print(f\"Gamma={gamma:6.3f}: Accuracy={test_score:.3f}, Support Vectors={n_sv}\")\n",
    "\n",
    "best_gamma_idx = np.argmax(gamma_scores)\n",
    "best_gamma = gamma_values[best_gamma_idx]\n",
    "print(f\"Best gamma: {best_gamma} (Accuracy: {gamma_scores[best_gamma_idx]:.3f})\")\n",
    "\n",
    "# Complex multi-class analysis\n",
    "print(f\"\\nComplex Multi-class Dataset (4 classes, 20 features):\")\n",
    "\n",
    "# Scale the complex dataset\n",
    "scaler_complex = StandardScaler()\n",
    "X_complex_scaled = scaler_complex.fit_transform(X_complex)\n",
    "\n",
    "X_comp_train, X_comp_test, y_comp_train, y_comp_test = train_test_split(\n",
    " X_complex_scaled, y_complex, test_size=0.2, random_state=42, stratify=y_complex\n",
    ")\n",
    "\n",
    "# Multi-class SVM comparison\n",
    "multiclass_kernels = ['Linear', 'RBF', 'Polynomial']\n",
    "multiclass_results = {}\n",
    "\n",
    "for kernel_name in multiclass_kernels:\n",
    "    if kernel_name == 'Linear':\n",
    "        svm = SVC(kernel='linear', C=1.0, random_state=42)\n",
    "    elif kernel_name == 'RBF':\n",
    "        svm = SVC(kernel='rbf', C=1.0, gamma=best_gamma, random_state=42)\n",
    "    else: # Polynomial\n",
    "        svm = SVC(kernel='poly', degree=3, C=1.0, gamma='scale', random_state=42)\n",
    "\n",
    "    svm.fit(X_comp_train, y_comp_train)\n",
    "\n",
    "    train_score = svm.score(X_comp_train, y_comp_train)\n",
    "    test_score = svm.score(X_comp_test, y_comp_test)\n",
    "\n",
    "    # Get per-class performance\n",
    "    y_pred = svm.predict(X_comp_test)\n",
    "\n",
    "    multiclass_results[kernel_name] = {\n",
    "        'train_score': train_score,\n",
    "        'test_score': test_score,\n",
    "        'model': svm,\n",
    "        'y_pred': y_pred\n",
    "    }\n",
    "\n",
    "    print(f\"{kernel_name}: Train={train_score:.3f}, Test={test_score:.3f}\")\n",
    "\n",
    "# Best performing model detailed analysis\n",
    "best_multiclass_kernel = max(multiclass_results.keys(),\n",
    " key=lambda x: multiclass_results[x]['test_score'])\n",
    "best_multiclass_model = multiclass_results[best_multiclass_kernel]['model']\n",
    "\n",
    "print(f\"\\nBest multi-class kernel: {best_multiclass_kernel}\")\n",
    "print(f\"Classification report:\")\n",
    "y_pred_best = multiclass_results[best_multiclass_kernel]['y_pred']\n",
    "print(classification_report(y_comp_test, y_pred_best,\n",
    " target_names=[f'Class_{i}' for i in range(4)]))"
   ]
  },
  {
   "cell_type": "code",
   "execution_count": 8,
   "id": "1046f25b",
   "metadata": {},
   "outputs": [
    {
     "name": "stdout",
     "output_type": "stream",
     "text": [
      " 4. COMPREHENSIVE SVM VISUALIZATION DASHBOARD\n",
      "=================================================\n"
     ]
    },
    {
     "data": {
      "application/vnd.plotly.v1+json": {
       "config": {
        "plotlyServerURL": "https://plot.ly"
       },
       "data": [
        {
         "marker": {
          "color": "lightblue"
         },
         "name": "Test Accuracy",
         "text": [
          "0.998",
          "0.997",
          "0.993",
          "0.802"
         ],
         "textposition": "auto",
         "type": "bar",
         "x": [
          "Linear",
          "RBF",
          "Polynomial",
          "Sigmoid"
         ],
         "xaxis": "x",
         "y": [
          0.9983333333333333,
          0.9966666666666667,
          0.9933333333333333,
          0.8016666666666666
         ],
         "yaxis": "y"
        },
        {
         "marker": {
          "color": "lightcoral"
         },
         "name": "CV Mean",
         "text": [
          "1.000",
          "0.996",
          "0.983",
          "0.768"
         ],
         "textposition": "auto",
         "type": "bar",
         "x": [
          "Linear",
          "RBF",
          "Polynomial",
          "Sigmoid"
         ],
         "xaxis": "x",
         "y": [
          1,
          0.99625,
          0.9833333333333334,
          0.7679166666666667
         ],
         "yaxis": "y"
        },
        {
         "line": {
          "color": "blue"
         },
         "mode": "lines+markers",
         "name": "Training Score",
         "type": "scatter",
         "x": [
          0.01,
          0.1,
          1,
          10,
          100,
          1000
         ],
         "xaxis": "x2",
         "y": [
          1,
          1,
          1,
          1,
          1,
          1
         ],
         "yaxis": "y2"
        },
        {
         "line": {
          "color": "red"
         },
         "mode": "lines+markers",
         "name": "Test Score",
         "type": "scatter",
         "x": [
          0.01,
          0.1,
          1,
          10,
          100,
          1000
         ],
         "xaxis": "x2",
         "y": [
          1,
          1,
          1,
          1,
          1,
          1
         ],
         "yaxis": "y2"
        },
        {
         "line": {
          "color": "green"
         },
         "mode": "lines+markers",
         "name": "RBF Accuracy",
         "type": "scatter",
         "x": [
          0.001,
          0.01,
          0.1,
          1,
          10,
          100
         ],
         "xaxis": "x3",
         "y": [
          0.705,
          0.745,
          1,
          1,
          1,
          1
         ],
         "yaxis": "y3"
        },
        {
         "line": {
          "color": "purple",
          "dash": "dash"
         },
         "mode": "lines+markers",
         "name": "Support Vectors",
         "type": "scatter",
         "x": [
          0.001,
          0.01,
          0.1,
          1,
          10,
          100
         ],
         "xaxis": "x3",
         "y": [
          800,
          800,
          393,
          46,
          52,
          406
         ],
         "yaxis": "y3"
        },
        {
         "marker": {
          "color": "red",
          "size": 4
         },
         "mode": "markers",
         "name": "Class 0",
         "type": "scatter",
         "x": {
          "bdata": "ZUO5B8oP3T+y/WcLdFy1v+X60QEgnuE/fY7KBKqE7r+smXPuWi3kv+VFpWox2uC/dJgm4Oi6pz8A2XJ4xYjvv6JjAK4Xmuq/QpK0alfJ0D8DtXiRk+HLv8IBXczNpdW/mm2/To1F8D+34AWdonDDv0FCrH161Oi/zCTCELVm6D/DBJ9A1hzmv+QHUAm6/Nc/h9jFlNAO57/enhw9NgHsvzSgAECev+q//PgqJUId6z8MkwsN3R7tv7SwNjrtaus/YhfX+xgy6z+rPHJlV5TtP1WYW4+KM/C/0i4Q4r6T4r+CcbeUsFrtPz3QtjItne+/RA7gIlnz5T/bShglf7DDP+pfZAqcGPA/xdIGF4sK6b+e4si3gHvrv/fYS/5SIeo/DcR2eN0b7L/Vb0f47QfoP3aQPz3Dceq/DENp3A1n3z9Dihkkoubhv7LuUqEHXue/9BBrWUl10j8i85cVIJ/oP2CSTqxoVPC/1Uk6GKps5z9KAa8+P4TTP8Vz1KCim+E/0IgTONDCtr8EUInGAfftv0DKBkixSNS/JKoM7Rl44j8u+kw5yp/nP5BwPnidfuG/FCj0Ftic6L/VjlIKEmzmP8fzs1xBH/K/bfCeqXd08b/jlqLbFZPmP3oWNEdJiPC/qBJIey/d5T9OkRWpMcWgP6PjSNRGFvC/GsL2V/w+6D86qfcGfVjgP24+4SKWs+o/1vVP8g2W6L+zEsQHLFDxv+wyYqROjfC/zkgJJ4784r+ylsKGyWXFv36MohYP7eI/qIgWg9ay6T+Cf2D9HTLtv0TPfajWouQ/MgYJ3BgO6b+RE2hFOvjiv2CBsE2HZ+m/kp0Gl6Eky7/oucPyiK/sP4wwOhGkVs0/1sfhHboP8T9rIs5J2OnCv2rwvtmLjO2/mlqzrNkC678MyArWj+PxPxw/U8NAmHo/hMGfYeNfyb+GNZpGJiLLv/5jQllOuMG/QVVRJaNc6r86gnioOPjsv5ChnQN67tE/SMOaC3ot279/xQtfm+vtv4EKNLCT3OQ/pLNAOSGE7z+43PLO47bivzxiR6Ijl+s/e+OeliHQ4D8kYo8DydfQv9IZcwKGD9u/cIZAWZQJ8L9qi6A7Dvrmvy66OvbNjOk/J+oOuMCT8T93/M+1iQPSvxTZBn6xA9y/v8UEp3F17j9EX02O8RrsP+18qEsqTeo/9aJ1dccc7b/sFl4APdvqv5hUaeqYueO/gmcWQrte7j/AuRenPk/nvxaJo3lcZe2/AqfYlb82yD9MiGQpIFjeP3yXLdzVtuQ/ffzi8vB44T8qt/rmDGDov4HLz95Mv+E/NNUQc/iGrz8TzYpszibnvzAVJSc+9eo/2Yu0Gvcf7D/UN4C70zXaP1sipsrjBPG/+dScHzLdwb/y3dTmjZ6gP/7WUdi2hbQ/ydK7QihU7z8cqCnQRKCxP6fcd73Zje+/Aw/vU5cS6T/GHqPDy7Lrvy103cfLsOE/8wa7pv+c7L9KmevTdXrtv/imDTjimeu/DJ3T1jzB079vIBSeUS7nP0qCCjbMdOu/efBN9/MW7z/Y2mrtFDyhvzSDbLtA1e0/ylV4SGHw4D94GIQfVejqP/98gr4K1t+/tAbPTF3Q6j+E5H1r3fznP7xVm9BfAuI/1rom+7lI1r9X+aV0+UnjP75VaTTvbO8/1WZXMJZb8L+zfpSOvRnTv+195Hvbgua//eEATIb/4T8b8BZzdpjCv8w8hvKnQuu/9FT0FZ2W1r+8JvY6QI7xP+B9ELu7Qpq/WJ4CYy064b9uG1Frx9bwP18q101pvua/E4g8m83/7z/cnKctqz7LPyVJeoMkZN2/0Wj3/bb+nj/E+oSaZ/6yP+79sCx4P9s/ND2HSS5F1z8qlvHtsjnjv8XKe2hsJ/G/i4omMkjf4z9+Ex/8i4nrv5domw2cUsa/YIiCbgDR7L8+LkNvpoznPwg7D/sTjty/cBGrZY6N0r/07I+93WLiP3Zdf3bUocm/NVnpRV0z6D/KZ5Qssebav7uqaK4Tneo/vBE4emfb579GyOFXfeyzPzxjHXU6Qty/FEjeKSnpzL9RkGidW47jv08TK0Ay3fA/VFIe4sr76j81PZmDACPgP/4paq3Ov+e/XAjh/CsU1L+HABJqvUXwvxDblB3GIOy/SrrD5JF5rr+MbvI39xvov9KdPNXNCuo/6hBpvx0Czz+2mPMXCH3jP/oqRRbHwdo/n4z4/YaH5D/eLbwH2DXxP49WpGC4DPA/QMrnr+qe5L9oI5f/FNXlP3YJqNfB2eu/RXlNtV5Z5T+OCkqK8XfvP27Q8xrzA/A/e85z0mYs4j9SIsd+PI6gv1SEOODFV90/Ed8qLzv05z84sqKikdfsv0iLs2g7e/C/IxHN4b1ixL9FtaK1kizJv9wP5L51Xek/VsfqOKph6b8lt9Br/wLxP2QZsqghvue/UCEHTHh4oL9y6sGSTFLsv3A2avAYSuC/22weA8cYzT/csXwMqT/avy+TW7zqoOi/YlOlrqLdr79vM2Sb8RfbP4O/riK1yOU/wt0ky4bb0T/ZYNzFu2XBP5BSCR8TedI/oH8PUeN4fb8DoKfmN1PdP1dJCPBpU+0/MyydUHhLzz+aAQWmwkXiP042yS1yIt0/pXV0913oz79ZQmHvN1/eP7Zei97B0eY/jHHwlVjcyz81u26IH/rsP9u7+7LIQOw/QTetDL4N17+FN+xkFTzhv4zu8IsR0/E/FyzmjTlm0D9GcWT4uSHaP9CmVEhNd+C/2JIPiMg35z+EljsLF07ePzj8XHG9kuC/RsmC3s0v0j/AF5Vyv7mQP1NHEj0Pje+/VjNRmT1A3b+MUdeAJ9fwP5RuWMjHe+O/af03n9/L8L/3L7aLK1rov5wLkVSsMuw/wHHymP/d0b/XNyzELiTdv/y+A9yN6+U/2gme/40D7L8u6+S9wX/UP4pYVu6H8OI/LVIKtG1k778tTQeFqPvgP2PyArI6Xdi/X/grtTXT4z/CAJrrcC3pP5OA7QtZ4um/wM0JIcKR679tHGSx1FDrv07EEW4qt+k/yOoth7l8wT/DOfJq6SCyP6YdsUfeF7Y/OoSulEdt7D8TLZKYX3/nP8TFJt8GwZe/NbPosjBW7r/WDfJ5EnruPz8zTotqJty/T2WYkDyN6L9COoJK68npv+0VuloRKuc/TdqiUtkz6b82r45+pbXdv5aeS1DkoNa/L26sFkR/q7+2CajIjQflP1v9H3XWINK/6g9itqdexr+ngNb4s8nwPxbHpK37b9A/Hgf641X9378YqyifiuXoP5OVhOENy9o/W2HV/fre7D+6o6RS7v/hvx0qpkC7RPC/lZ5pgR+X0r+WzoL7N4TrvwxVDvoDUfE/8m82ekMgkj/rnYMCNOLgv4RjzuVKlu2/WdTSnAM35r+uEYnxx2/DP19o9xF2XN+/uPBcbMnQ5r/MpsaWtizxP8urVQF93Nu/Ub7Yu8EJ4L/noIDWVX7sP2QPCOPI0u0/e2Wt5HRT7z9Hm2TA21jtv97XWH8Dxuu/E8Vh4Yhj8D9wiKC9yPLmP+f1h3JfSsy/bQX5Ev3d8L81bjzcVrzwP5QiHjzXLbw/nEPsp+Cu8D++xmj6Cqjfvwq51UiIK+S/LJAZAvxNxr/gKWBPnQnHPxaRlhDBifG/BP9w9SmT2D9SF87uWYvYP2Echc6n2+Y/sPVP96Tkur9UcyvQu9zoP7MQ2mHRAdO/FqCQfhRoyD/8TsXmstrqvyvWLkNBzes/HLleQ4bb7z+5HuzAls3pPyGIfhEWC++/KT+DmBPj4r9r0f+xGeLwv5m10hhHn+q/5P3yzUDC3z8TQjQUbgvdv0EX9hwIr/E/B0C2K6VV0r84Z9MHby2cv9O1c+M3Btu/dWNrEpPj6j/CgHy9Ninhv3Emjqo22eS/RMXhjnVHuD9RSQ3mVZrTv/HzaPbHxem/p/jlV0rN7b/pzqVIXuzsv5giW1nXFt0/8G2+NFw+lD9mgXuuKNTlv7q1ow/3i+2/9izv4/6P6T/5CvyfSDrwv4o9ZaTvDN0/hC9uvY6RxT98kCAgz3PMP9VoAIMNvPG/msT9t2Z7vT/V8p9c9Zntv/Pd42giOeQ/Wfc0dhlO8D9mbeiIZGu+P9XivbHcH/S/H115tn2WsL8HC/akYirsv9lwKGIv3+G/bax0TgV73D9+IR93m1TXvwLa+nmgRPC/b11CFnj95r+YlBRyezC+P2v/gj+M+78/WNuXYlkR77+0qxJFA5rwP/GwdZeKxNG/Qka0DjAm3T+u3hTeP8juvywV/bcYR9q/KBCA2zdC6z+2E4ibvUrUvw6kJD3+mdg/9yoo6Iup779YPCfw4sjsP8+HV4NgOOm/QX38Fnk7wj8aVjQVBHzQPw/Ln1iatu+/m2mW+I2o6z/jbztVv+LGPxPKyE8Vq+A/pFBUQFHj6z9OchZ0Y6/rP5qKStup1uW/eAzCRT+SxL/S07CIQ7/wP/l/wnb0pO6/ujHMLJDc7T/5aV4B9yeiv02n3BVWt++/4qqIo49b5D8UofyYUu63PxIYMnddhO4/SGnRnFwQkb8KOS10q9rkP7Sp75Qt1fE/mK2Z3hyekz8JHvAcvKjpP1eiPmozfvE/TqnHV74C278O3/yGpVPqP4S7HgJnrus/K6KlTPD5wz921YnRDXXkv2A/YXGFq+u/NbPcCPs26T/aE8WUNC3cv+rp4Hr6NO6/dXRvH93K7r/djCDAVcrvPztz0/jePes/OE4by3ak8L96ggKM4l/sv/grVNS4XtC/ZCBJ/zhr3T/2qCEr27XxPwabr0TlqL0/xEDN2u9ZvD+tDIH7d3PsP1cp7Lc8beE/WyeV8gpJ67+S0j0VPcHtP0Ji4jXi09w/CpBQMBnm7D9ubW/YSzLBv+A/6Sv5leI/nRpXxxrB4L/PL2LzMkPYv2nBWvLiR/G/AsUN3B5L8D+SzsHDAQvrv3/DZehjbsM/Wr8ULIKn6b/knZQ1yV3avxm7zniNVPA/dxKvuPQ78L8m9FXsjDLgvwKFE2cGFPA/IZ0so4No6j9J51z9HR3vP7lwEHI7ju+/YRMrnZar7D+0/MuutbXpv3y5T3EkKuw/0P7engF95L9VQMgpUPPqv5H5teIhROu/y59+0rMZyT8ASzZl5HLUP5iGMjzpkPA/6YfmP9jt179ITOS/WGbrv+DHO3GeT8W/UvWnCucZzz8QP3qZGMSbv8QB7xIfV9Q/ajNgGJYt6z9TJmBwO4Hjv2QtKu25a+y/k3nc3rtt5j8Ps5YQ5JrHP62cWYr//u4/5PIibrDX5T9eiaKtaL/QP+aNzQDVCPC/v5OhM3Nk5D8yT4kgWGXRPw==",
          "dtype": "f8"
         },
         "xaxis": "x4",
         "y": {
          "bdata": "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",
          "dtype": "f8"
         },
         "yaxis": "y4"
        },
        {
         "marker": {
          "color": "blue",
          "size": 4
         },
         "mode": "markers",
         "name": "Class 1",
         "type": "scatter",
         "x": {
          "bdata": "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",
          "dtype": "f8"
         },
         "xaxis": "x4",
         "y": {
          "bdata": "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",
          "dtype": "f8"
         },
         "yaxis": "y4"
        },
        {
         "marker": {
          "color": "orange"
         },
         "name": "Multi-class Accuracy",
         "text": [
          "0.590",
          "0.840",
          "0.743"
         ],
         "textposition": "auto",
         "type": "bar",
         "x": [
          "Linear",
          "RBF",
          "Polynomial"
         ],
         "xaxis": "x5",
         "y": [
          0.59,
          0.84,
          0.7433333333333333
         ],
         "yaxis": "y5"
        },
        {
         "marker": {
          "color": "lightblue"
         },
         "name": "Linear SV",
         "type": "bar",
         "x": [
          "Text",
          "Image",
          "Circles",
          "Moons"
         ],
         "xaxis": "x6",
         "y": [
          90,
          90,
          800,
          242
         ],
         "yaxis": "y6"
        },
        {
         "marker": {
          "color": "lightgreen"
         },
         "name": "RBF SV",
         "type": "bar",
         "x": [
          "Text",
          "Image",
          "Circles",
          "Moons"
         ],
         "xaxis": "x6",
         "y": [
          209,
          209,
          36,
          65
         ],
         "yaxis": "y6"
        }
       ],
       "layout": {
        "annotations": [
         {
          "font": {
           "size": 16
          },
          "showarrow": false,
          "text": "Kernel Performance: Text Classification",
          "x": 0.225,
          "xanchor": "center",
          "xref": "paper",
          "y": 1,
          "yanchor": "bottom",
          "yref": "paper"
         },
         {
          "font": {
           "size": 16
          },
          "showarrow": false,
          "text": "C Parameter Analysis: High-Dimensional Data",
          "x": 0.775,
          "xanchor": "center",
          "xref": "paper",
          "y": 1,
          "yanchor": "bottom",
          "yref": "paper"
         },
         {
          "font": {
           "size": 16
          },
          "showarrow": false,
          "text": "Gamma Parameter Analysis: RBF Kernel",
          "x": 0.225,
          "xanchor": "center",
          "xref": "paper",
          "y": 0.6111111111111112,
          "yanchor": "bottom",
          "yref": "paper"
         },
         {
          "font": {
           "size": 16
          },
          "showarrow": false,
          "text": "Decision Boundaries: Non-linear Data",
          "x": 0.775,
          "xanchor": "center",
          "xref": "paper",
          "y": 0.6111111111111112,
          "yanchor": "bottom",
          "yref": "paper"
         },
         {
          "font": {
           "size": 16
          },
          "showarrow": false,
          "text": "Multi-class Performance Comparison",
          "x": 0.225,
          "xanchor": "center",
          "xref": "paper",
          "y": 0.22222222222222224,
          "yanchor": "bottom",
          "yref": "paper"
         },
         {
          "font": {
           "size": 16
          },
          "showarrow": false,
          "text": "Support Vector Analysis",
          "x": 0.775,
          "xanchor": "center",
          "xref": "paper",
          "y": 0.22222222222222224,
          "yanchor": "bottom",
          "yref": "paper"
         }
        ],
        "height": 1200,
        "showlegend": true,
        "template": {
         "data": {
          "bar": [
           {
            "error_x": {
             "color": "#2a3f5f"
            },
            "error_y": {
             "color": "#2a3f5f"
            },
            "marker": {
             "line": {
              "color": "#E5ECF6",
              "width": 0.5
             },
             "pattern": {
              "fillmode": "overlay",
              "size": 10,
              "solidity": 0.2
             }
            },
            "type": "bar"
           }
          ],
          "barpolar": [
           {
            "marker": {
             "line": {
              "color": "#E5ECF6",
              "width": 0.5
             },
             "pattern": {
              "fillmode": "overlay",
              "size": 10,
              "solidity": 0.2
             }
            },
            "type": "barpolar"
           }
          ],
          "carpet": [
           {
            "aaxis": {
             "endlinecolor": "#2a3f5f",
             "gridcolor": "white",
             "linecolor": "white",
             "minorgridcolor": "white",
             "startlinecolor": "#2a3f5f"
            },
            "baxis": {
             "endlinecolor": "#2a3f5f",
             "gridcolor": "white",
             "linecolor": "white",
             "minorgridcolor": "white",
             "startlinecolor": "#2a3f5f"
            },
            "type": "carpet"
           }
          ],
          "choropleth": [
           {
            "colorbar": {
             "outlinewidth": 0,
             "ticks": ""
            },
            "type": "choropleth"
           }
          ],
          "contour": [
           {
            "colorbar": {
             "outlinewidth": 0,
             "ticks": ""
            },
            "colorscale": [
             [
              0,
              "#0d0887"
             ],
             [
              0.1111111111111111,
              "#46039f"
             ],
             [
              0.2222222222222222,
              "#7201a8"
             ],
             [
              0.3333333333333333,
              "#9c179e"
             ],
             [
              0.4444444444444444,
              "#bd3786"
             ],
             [
              0.5555555555555556,
              "#d8576b"
             ],
             [
              0.6666666666666666,
              "#ed7953"
             ],
             [
              0.7777777777777778,
              "#fb9f3a"
             ],
             [
              0.8888888888888888,
              "#fdca26"
             ],
             [
              1,
              "#f0f921"
             ]
            ],
            "type": "contour"
           }
          ],
          "contourcarpet": [
           {
            "colorbar": {
             "outlinewidth": 0,
             "ticks": ""
            },
            "type": "contourcarpet"
           }
          ],
          "heatmap": [
           {
            "colorbar": {
             "outlinewidth": 0,
             "ticks": ""
            },
            "colorscale": [
             [
              0,
              "#0d0887"
             ],
             [
              0.1111111111111111,
              "#46039f"
             ],
             [
              0.2222222222222222,
              "#7201a8"
             ],
             [
              0.3333333333333333,
              "#9c179e"
             ],
             [
              0.4444444444444444,
              "#bd3786"
             ],
             [
              0.5555555555555556,
              "#d8576b"
             ],
             [
              0.6666666666666666,
              "#ed7953"
             ],
             [
              0.7777777777777778,
              "#fb9f3a"
             ],
             [
              0.8888888888888888,
              "#fdca26"
             ],
             [
              1,
              "#f0f921"
             ]
            ],
            "type": "heatmap"
           }
          ],
          "histogram": [
           {
            "marker": {
             "pattern": {
              "fillmode": "overlay",
              "size": 10,
              "solidity": 0.2
             }
            },
            "type": "histogram"
           }
          ],
          "histogram2d": [
           {
            "colorbar": {
             "outlinewidth": 0,
             "ticks": ""
            },
            "colorscale": [
             [
              0,
              "#0d0887"
             ],
             [
              0.1111111111111111,
              "#46039f"
             ],
             [
              0.2222222222222222,
              "#7201a8"
             ],
             [
              0.3333333333333333,
              "#9c179e"
             ],
             [
              0.4444444444444444,
              "#bd3786"
             ],
             [
              0.5555555555555556,
              "#d8576b"
             ],
             [
              0.6666666666666666,
              "#ed7953"
             ],
             [
              0.7777777777777778,
              "#fb9f3a"
             ],
             [
              0.8888888888888888,
              "#fdca26"
             ],
             [
              1,
              "#f0f921"
             ]
            ],
            "type": "histogram2d"
           }
          ],
          "histogram2dcontour": [
           {
            "colorbar": {
             "outlinewidth": 0,
             "ticks": ""
            },
            "colorscale": [
             [
              0,
              "#0d0887"
             ],
             [
              0.1111111111111111,
              "#46039f"
             ],
             [
              0.2222222222222222,
              "#7201a8"
             ],
             [
              0.3333333333333333,
              "#9c179e"
             ],
             [
              0.4444444444444444,
              "#bd3786"
             ],
             [
              0.5555555555555556,
              "#d8576b"
             ],
             [
              0.6666666666666666,
              "#ed7953"
             ],
             [
              0.7777777777777778,
              "#fb9f3a"
             ],
             [
              0.8888888888888888,
              "#fdca26"
             ],
             [
              1,
              "#f0f921"
             ]
            ],
            "type": "histogram2dcontour"
           }
          ],
          "mesh3d": [
           {
            "colorbar": {
             "outlinewidth": 0,
             "ticks": ""
            },
            "type": "mesh3d"
           }
          ],
          "parcoords": [
           {
            "line": {
             "colorbar": {
              "outlinewidth": 0,
              "ticks": ""
             }
            },
            "type": "parcoords"
           }
          ],
          "pie": [
           {
            "automargin": true,
            "type": "pie"
           }
          ],
          "scatter": [
           {
            "fillpattern": {
             "fillmode": "overlay",
             "size": 10,
             "solidity": 0.2
            },
            "type": "scatter"
           }
          ],
          "scatter3d": [
           {
            "line": {
             "colorbar": {
              "outlinewidth": 0,
              "ticks": ""
             }
            },
            "marker": {
             "colorbar": {
              "outlinewidth": 0,
              "ticks": ""
             }
            },
            "type": "scatter3d"
           }
          ],
          "scattercarpet": [
           {
            "marker": {
             "colorbar": {
              "outlinewidth": 0,
              "ticks": ""
             }
            },
            "type": "scattercarpet"
           }
          ],
          "scattergeo": [
           {
            "marker": {
             "colorbar": {
              "outlinewidth": 0,
              "ticks": ""
             }
            },
            "type": "scattergeo"
           }
          ],
          "scattergl": [
           {
            "marker": {
             "colorbar": {
              "outlinewidth": 0,
              "ticks": ""
             }
            },
            "type": "scattergl"
           }
          ],
          "scattermap": [
           {
            "marker": {
             "colorbar": {
              "outlinewidth": 0,
              "ticks": ""
             }
            },
            "type": "scattermap"
           }
          ],
          "scattermapbox": [
           {
            "marker": {
             "colorbar": {
              "outlinewidth": 0,
              "ticks": ""
             }
            },
            "type": "scattermapbox"
           }
          ],
          "scatterpolar": [
           {
            "marker": {
             "colorbar": {
              "outlinewidth": 0,
              "ticks": ""
             }
            },
            "type": "scatterpolar"
           }
          ],
          "scatterpolargl": [
           {
            "marker": {
             "colorbar": {
              "outlinewidth": 0,
              "ticks": ""
             }
            },
            "type": "scatterpolargl"
           }
          ],
          "scatterternary": [
           {
            "marker": {
             "colorbar": {
              "outlinewidth": 0,
              "ticks": ""
             }
            },
            "type": "scatterternary"
           }
          ],
          "surface": [
           {
            "colorbar": {
             "outlinewidth": 0,
             "ticks": ""
            },
            "colorscale": [
             [
              0,
              "#0d0887"
             ],
             [
              0.1111111111111111,
              "#46039f"
             ],
             [
              0.2222222222222222,
              "#7201a8"
             ],
             [
              0.3333333333333333,
              "#9c179e"
             ],
             [
              0.4444444444444444,
              "#bd3786"
             ],
             [
              0.5555555555555556,
              "#d8576b"
             ],
             [
              0.6666666666666666,
              "#ed7953"
             ],
             [
              0.7777777777777778,
              "#fb9f3a"
             ],
             [
              0.8888888888888888,
              "#fdca26"
             ],
             [
              1,
              "#f0f921"
             ]
            ],
            "type": "surface"
           }
          ],
          "table": [
           {
            "cells": {
             "fill": {
              "color": "#EBF0F8"
             },
             "line": {
              "color": "white"
             }
            },
            "header": {
             "fill": {
              "color": "#C8D4E3"
             },
             "line": {
              "color": "white"
             }
            },
            "type": "table"
           }
          ]
         },
         "layout": {
          "annotationdefaults": {
           "arrowcolor": "#2a3f5f",
           "arrowhead": 0,
           "arrowwidth": 1
          },
          "autotypenumbers": "strict",
          "coloraxis": {
           "colorbar": {
            "outlinewidth": 0,
            "ticks": ""
           }
          },
          "colorscale": {
           "diverging": [
            [
             0,
             "#8e0152"
            ],
            [
             0.1,
             "#c51b7d"
            ],
            [
             0.2,
             "#de77ae"
            ],
            [
             0.3,
             "#f1b6da"
            ],
            [
             0.4,
             "#fde0ef"
            ],
            [
             0.5,
             "#f7f7f7"
            ],
            [
             0.6,
             "#e6f5d0"
            ],
            [
             0.7,
             "#b8e186"
            ],
            [
             0.8,
             "#7fbc41"
            ],
            [
             0.9,
             "#4d9221"
            ],
            [
             1,
             "#276419"
            ]
           ],
           "sequential": [
            [
             0,
             "#0d0887"
            ],
            [
             0.1111111111111111,
             "#46039f"
            ],
            [
             0.2222222222222222,
             "#7201a8"
            ],
            [
             0.3333333333333333,
             "#9c179e"
            ],
            [
             0.4444444444444444,
             "#bd3786"
            ],
            [
             0.5555555555555556,
             "#d8576b"
            ],
            [
             0.6666666666666666,
             "#ed7953"
            ],
            [
             0.7777777777777778,
             "#fb9f3a"
            ],
            [
             0.8888888888888888,
             "#fdca26"
            ],
            [
             1,
             "#f0f921"
            ]
           ],
           "sequentialminus": [
            [
             0,
             "#0d0887"
            ],
            [
             0.1111111111111111,
             "#46039f"
            ],
            [
             0.2222222222222222,
             "#7201a8"
            ],
            [
             0.3333333333333333,
             "#9c179e"
            ],
            [
             0.4444444444444444,
             "#bd3786"
            ],
            [
             0.5555555555555556,
             "#d8576b"
            ],
            [
             0.6666666666666666,
             "#ed7953"
            ],
            [
             0.7777777777777778,
             "#fb9f3a"
            ],
            [
             0.8888888888888888,
             "#fdca26"
            ],
            [
             1,
             "#f0f921"
            ]
           ]
          },
          "colorway": [
           "#636efa",
           "#EF553B",
           "#00cc96",
           "#ab63fa",
           "#FFA15A",
           "#19d3f3",
           "#FF6692",
           "#B6E880",
           "#FF97FF",
           "#FECB52"
          ],
          "font": {
           "color": "#2a3f5f"
          },
          "geo": {
           "bgcolor": "white",
           "lakecolor": "white",
           "landcolor": "#E5ECF6",
           "showlakes": true,
           "showland": true,
           "subunitcolor": "white"
          },
          "hoverlabel": {
           "align": "left"
          },
          "hovermode": "closest",
          "mapbox": {
           "style": "light"
          },
          "paper_bgcolor": "white",
          "plot_bgcolor": "#E5ECF6",
          "polar": {
           "angularaxis": {
            "gridcolor": "white",
            "linecolor": "white",
            "ticks": ""
           },
           "bgcolor": "#E5ECF6",
           "radialaxis": {
            "gridcolor": "white",
            "linecolor": "white",
            "ticks": ""
           }
          },
          "scene": {
           "xaxis": {
            "backgroundcolor": "#E5ECF6",
            "gridcolor": "white",
            "gridwidth": 2,
            "linecolor": "white",
            "showbackground": true,
            "ticks": "",
            "zerolinecolor": "white"
           },
           "yaxis": {
            "backgroundcolor": "#E5ECF6",
            "gridcolor": "white",
            "gridwidth": 2,
            "linecolor": "white",
            "showbackground": true,
            "ticks": "",
            "zerolinecolor": "white"
           },
           "zaxis": {
            "backgroundcolor": "#E5ECF6",
            "gridcolor": "white",
            "gridwidth": 2,
            "linecolor": "white",
            "showbackground": true,
            "ticks": "",
            "zerolinecolor": "white"
           }
          },
          "shapedefaults": {
           "line": {
            "color": "#2a3f5f"
           }
          },
          "ternary": {
           "aaxis": {
            "gridcolor": "white",
            "linecolor": "white",
            "ticks": ""
           },
           "baxis": {
            "gridcolor": "white",
            "linecolor": "white",
            "ticks": ""
           },
           "bgcolor": "#E5ECF6",
           "caxis": {
            "gridcolor": "white",
            "linecolor": "white",
            "ticks": ""
           }
          },
          "title": {
           "x": 0.05
          },
          "xaxis": {
           "automargin": true,
           "gridcolor": "white",
           "linecolor": "white",
           "ticks": "",
           "title": {
            "standoff": 15
           },
           "zerolinecolor": "white",
           "zerolinewidth": 2
          },
          "yaxis": {
           "automargin": true,
           "gridcolor": "white",
           "linecolor": "white",
           "ticks": "",
           "title": {
            "standoff": 15
           },
           "zerolinecolor": "white",
           "zerolinewidth": 2
          }
         }
        },
        "title": {
         "text": "Support Vector Machine Classification - Comprehensive Analysis Dashboard"
        },
        "xaxis": {
         "anchor": "y",
         "domain": [
          0,
          0.45
         ],
         "title": {
          "text": "Kernel Type"
         }
        },
        "xaxis2": {
         "anchor": "y2",
         "domain": [
          0.55,
          1
         ],
         "title": {
          "text": "C Parameter (log scale)"
         },
         "type": "log"
        },
        "xaxis3": {
         "anchor": "y3",
         "domain": [
          0,
          0.45
         ],
         "title": {
          "text": "Gamma Parameter (log scale)"
         },
         "type": "log"
        },
        "xaxis4": {
         "anchor": "y4",
         "domain": [
          0.55,
          1
         ],
         "title": {
          "text": "Feature 1"
         }
        },
        "xaxis5": {
         "anchor": "y5",
         "domain": [
          0,
          0.45
         ],
         "title": {
          "text": "Kernel Type"
         }
        },
        "xaxis6": {
         "anchor": "y6",
         "domain": [
          0.55,
          1
         ],
         "title": {
          "text": "Dataset"
         }
        },
        "yaxis": {
         "anchor": "x",
         "domain": [
          0.7777777777777778,
          1
         ],
         "title": {
          "text": "Accuracy"
         }
        },
        "yaxis2": {
         "anchor": "x2",
         "domain": [
          0.7777777777777778,
          1
         ],
         "title": {
          "text": "Accuracy"
         }
        },
        "yaxis3": {
         "anchor": "x3",
         "domain": [
          0.3888888888888889,
          0.6111111111111112
         ],
         "title": {
          "text": "Accuracy"
         }
        },
        "yaxis4": {
         "anchor": "x4",
         "domain": [
          0.3888888888888889,
          0.6111111111111112
         ],
         "title": {
          "text": "Feature 2"
         }
        },
        "yaxis5": {
         "anchor": "x5",
         "domain": [
          0,
          0.22222222222222224
         ],
         "title": {
          "text": "Accuracy"
         }
        },
        "yaxis6": {
         "anchor": "x6",
         "domain": [
          0,
          0.22222222222222224
         ],
         "title": {
          "text": "Support Vectors"
         }
        }
       }
      }
     },
     "metadata": {},
     "output_type": "display_data"
    }
   ],
   "source": [
    "# 4. COMPREHENSIVE SVM VISUALIZATION DASHBOARD\n",
    "print(\" 4. COMPREHENSIVE SVM VISUALIZATION DASHBOARD\")\n",
    "print(\"=\"*49)\n",
    "\n",
    "# Create comprehensive dashboard\n",
    "fig = make_subplots(\n",
    " rows=3, cols=2,\n",
    " subplot_titles=[\n",
    " 'Kernel Performance: Text Classification',\n",
    " 'C Parameter Analysis: High-Dimensional Data',\n",
    " 'Gamma Parameter Analysis: RBF Kernel',\n",
    " 'Decision Boundaries: Non-linear Data',\n",
    " 'Multi-class Performance Comparison',\n",
    " 'Support Vector Analysis'\n",
    " ],\n",
    " specs=[[{\"secondary_y\": False}, {\"secondary_y\": False}],\n",
    " [{\"secondary_y\": False}, {\"secondary_y\": False}],\n",
    " [{\"secondary_y\": False}, {\"secondary_y\": False}]]\n",
    ")\n",
    "\n",
    "# 1. Text classification kernel comparison\n",
    "text_kernels = list(text_results.keys())\n",
    "text_scores = [text_results[k]['test_score'] for k in text_kernels]\n",
    "text_cv_scores = [text_results[k]['cv_mean'] for k in text_kernels]\n",
    "\n",
    "fig.add_trace(\n",
    " go.Bar(\n",
    " x=text_kernels,\n",
    " y=text_scores,\n",
    " name='Test Accuracy',\n",
    " marker_color='lightblue',\n",
    " text=[f'{score:.3f}' for score in text_scores],\n",
    " textposition='auto'\n",
    " ),\n",
    " row=1, col=1\n",
    ")\n",
    "\n",
    "fig.add_trace(\n",
    " go.Bar(\n",
    " x=text_kernels,\n",
    " y=text_cv_scores,\n",
    " name='CV Mean',\n",
    " marker_color='lightcoral',\n",
    " text=[f'{score:.3f}' for score in text_cv_scores],\n",
    " textposition='auto'\n",
    " ),\n",
    " row=1, col=1\n",
    ")\n",
    "\n",
    "# 2. C parameter analysis\n",
    "fig.add_trace(\n",
    "    go.Scatter(\n",
    "        x=C_values,\n",
    "        y=C_train_scores,\n",
    "        mode='lines+markers',\n",
    "        name='Training Score',\n",
    "        line=dict(color='blue')\n",
    "    ),\n",
    "    row=1, col=2\n",
    ")\n",
    "\n",
    "fig.add_trace(\n",
    "    go.Scatter(\n",
    "        x=C_values,\n",
    "        y=C_test_scores,\n",
    "        mode='lines+markers',\n",
    "        name='Test Score',\n",
    "        line=dict(color='red')\n",
    "    ),\n",
    "    row=1, col=2\n",
    ")\n",
    "# 3. Gamma analysis\n",
    "fig.add_trace(\n",
    "    go.Scatter(\n",
    "        x=gamma_values,\n",
    "        y=gamma_scores,\n",
    "        mode='lines+markers',\n",
    "        name='RBF Accuracy',\n",
    "        line=dict(color='green')\n",
    "    ),\n",
    "    row=2, col=1\n",
    ")\n",
    "\n",
    "# Secondary y-axis for support vectors\n",
    "fig.add_trace(\n",
    "    go.Scatter(\n",
    "        x=gamma_values,\n",
    "        y=gamma_support_vectors,\n",
    "        mode='lines+markers',\n",
    "        name='Support Vectors',\n",
    "        line=dict(color='purple', dash='dash')\n",
    "    ),\n",
    "    row=2, col=1\n",
    ")\n",
    "# 4. Non-linear dataset visualization (circles)\n",
    "# Plot circles dataset with decision boundary\n",
    "colors = ['red', 'blue']\n",
    "for class_idx in [0, 1]:\n",
    "    mask = y_circles == class_idx\n",
    "    fig.add_trace(\n",
    "        go.Scatter(\n",
    "            x=X_circles[mask, 0],\n",
    "            y=X_circles[mask, 1],\n",
    "            mode='markers',\n",
    "            name=f'Class {class_idx}',\n",
    "            marker=dict(color=colors[class_idx], size=4)\n",
    "        ),\n",
    "        row=2, col=2\n",
    "    )\n",
    "\n",
    "# 5. Multi-class performance\n",
    "multiclass_kernel_names = list(multiclass_results.keys())\n",
    "multiclass_scores = [multiclass_results[k]['test_score'] for k in multiclass_kernel_names]\n",
    "\n",
    "fig.add_trace(\n",
    " go.Bar(\n",
    " x=multiclass_kernel_names,\n",
    " y=multiclass_scores,\n",
    " name='Multi-class Accuracy',\n",
    " marker_color='orange',\n",
    " text=[f'{score:.3f}' for score in multiclass_scores],\n",
    " textposition='auto'\n",
    " ),\n",
    " row=3, col=1\n",
    ")\n",
    "\n",
    "# 6. Support vector analysis across datasets\n",
    "datasets = ['Text', 'Image', 'Circles', 'Moons']\n",
    "linear_sv = [\n",
    " sum(text_results['Linear']['model'].n_support_),\n",
    " sum(image_results['Linear']['model'].n_support_),\n",
    " nonlinear_results['Circles']['Linear']['n_support'],\n",
    " nonlinear_results['Moons']['Linear']['n_support']\n",
    "]\n",
    "rbf_sv = [\n",
    " sum(text_results['RBF']['model'].n_support_),\n",
    " sum(image_results['RBF']['model'].n_support_),\n",
    " nonlinear_results['Circles']['RBF']['n_support'],\n",
    " nonlinear_results['Moons']['RBF']['n_support']\n",
    "]\n",
    "\n",
    "fig.add_trace(\n",
    " go.Bar(\n",
    " x=datasets,\n",
    " y=linear_sv,\n",
    " name='Linear SV',\n",
    " marker_color='lightblue'\n",
    " ),\n",
    " row=3, col=2\n",
    ")\n",
    "\n",
    "fig.add_trace(\n",
    " go.Bar(\n",
    " x=datasets,\n",
    " y=rbf_sv,\n",
    " name='RBF SV',\n",
    " marker_color='lightgreen'\n",
    " ),\n",
    " row=3, col=2\n",
    ")\n",
    "\n",
    "# Update layout\n",
    "fig.update_layout(\n",
    " height=1200,\n",
    " title=\"Support Vector Machine Classification - Comprehensive Analysis Dashboard\",\n",
    " showlegend=True\n",
    ")\n",
    "\n",
    "# Update axis labels\n",
    "fig.update_xaxes(title_text=\"Kernel Type\", row=1, col=1)\n",
    "fig.update_xaxes(title_text=\"C Parameter (log scale)\", type=\"log\", row=1, col=2)\n",
    "fig.update_xaxes(title_text=\"Gamma Parameter (log scale)\", type=\"log\", row=2, col=1)\n",
    "fig.update_xaxes(title_text=\"Feature 1\", row=2, col=2)\n",
    "fig.update_xaxes(title_text=\"Kernel Type\", row=3, col=1)\n",
    "fig.update_xaxes(title_text=\"Dataset\", row=3, col=2)\n",
    "\n",
    "fig.update_yaxes(title_text=\"Accuracy\", row=1, col=1)\n",
    "fig.update_yaxes(title_text=\"Accuracy\", row=1, col=2)\n",
    "fig.update_yaxes(title_text=\"Accuracy\", row=2, col=1)\n",
    "fig.update_yaxes(title_text=\"Feature 2\", row=2, col=2)\n",
    "fig.update_yaxes(title_text=\"Accuracy\", row=3, col=1)\n",
    "fig.update_yaxes(title_text=\"Support Vectors\", row=3, col=2)\n",
    "\n",
    "fig.show()"
   ]
  },
  {
   "cell_type": "code",
   "execution_count": 9,
   "id": "c5331723",
   "metadata": {},
   "outputs": [
    {
     "name": "stdout",
     "output_type": "stream",
     "text": [
      " 5. BUSINESS INSIGHTS AND ROI ANALYSIS\n",
      "========================================\n",
      "Document Classification System ROI:\n",
      "\n",
      "Document Classification Impact:\n",
      "• Monthly documents: 100,000\n",
      "• Classification accuracy: 99.8%\n",
      "• Manual processing cost: $50,000/month\n",
      "• Automated system cost: $8,083/month\n",
      "• Monthly cost savings: $41,917\n",
      "• Annual cost savings: $503,000\n",
      "• Additional productivity value: $103,993/month\n",
      "\n",
      "Image Recognition System ROI:\n",
      "• Daily images processed: 50,000\n",
      "• Detection accuracy: 100.0%\n",
      "• Expected monthly defects: 30000\n",
      "• Defects caught: 30000\n",
      "• Cost avoidance: $4,500,000/month\n",
      "• System cost: $15,000/month\n",
      "• Net monthly benefit: $4,485,000\n",
      "• ROI: 29900%\n",
      "\n",
      "High-Dimensional Analysis ROI:\n",
      "• Research projects per year: 50\n",
      "• Time savings: 2,000 hours/year\n",
      "• Cost savings: $150,000/year\n",
      "• Additional discoveries: 7.5/year\n",
      "• Discovery value: $3,750,000/year\n",
      "• Total benefit: $3,900,000/year\n",
      "• System cost: $25,000/year\n",
      "• ROI: 15500%\n",
      "\n",
      "Combined SVM Systems Summary:\n",
      "• Total annual investment: $301,000\n",
      "• Total annual benefits: $58,198,000\n",
      "• Combined ROI: 19335%\n",
      "• Payback period: 0.1 months\n",
      "\n",
      "SVM Implementation Guidelines:\n",
      "• Use Linear SVM for high-dimensional sparse data (text, genes)\n",
      "• Use RBF kernel for non-linear problems with moderate dimensions\n",
      "• Scale features when using RBF or polynomial kernels\n",
      "• Start with C=1.0, optimize via cross-validation\n",
      "• Use LinearSVC for large-scale linear problems\n",
      "• Consider kernel approximation for very large datasets\n",
      "\n",
      "Cross-Reference Learning Path:\n",
      "• Foundation: Tier2_SVM.ipynb (basic SVM concepts)\n",
      "• Building On: Tier2_LinearRegression.ipynb (linear methods)\n",
      "• Comparison: Tier5_Classification.ipynb (algorithm comparison)\n",
      "• Advanced: Advanced_KernelMethods.ipynb, Advanced_HighDimensionalClassification.ipynb\n"
     ]
    }
   ],
   "source": [
    "# 5. BUSINESS INSIGHTS AND ROI ANALYSIS\n",
    "print(\" 5. BUSINESS INSIGHTS AND ROI ANALYSIS\")\n",
    "print(\"=\"*40)\n",
    "\n",
    "# Text classification business impact\n",
    "print(\"Document Classification System ROI:\")\n",
    "monthly_documents = 100_000 # Documents processed per month\n",
    "classification_accuracy = optimized_text_score\n",
    "\n",
    "# Manual processing costs\n",
    "manual_cost_per_doc = 0.50 # $0.50 per document for manual classification\n",
    "manual_monthly_cost = monthly_documents * manual_cost_per_doc\n",
    "\n",
    "# Automated system costs\n",
    "system_monthly_cost = 8_000 # System operational cost\n",
    "manual_review_rate = 1 - classification_accuracy # Documents requiring manual review\n",
    "manual_review_cost = monthly_documents * manual_review_rate * manual_cost_per_doc\n",
    "\n",
    "total_automated_cost = system_monthly_cost + manual_review_cost\n",
    "monthly_savings = manual_monthly_cost - total_automated_cost\n",
    "annual_savings = monthly_savings * 12\n",
    "\n",
    "# Productivity improvements\n",
    "time_saved_per_doc = 2.5 # minutes saved per document\n",
    "correctly_classified = monthly_documents * classification_accuracy\n",
    "total_time_saved = correctly_classified * time_saved_per_doc / 60 # hours\n",
    "hourly_rate = 25 # average hourly rate\n",
    "productivity_value = total_time_saved * hourly_rate\n",
    "\n",
    "print(f\"\\nDocument Classification Impact:\")\n",
    "print(f\"• Monthly documents: {monthly_documents:,}\")\n",
    "print(f\"• Classification accuracy: {classification_accuracy:.1%}\")\n",
    "print(f\"• Manual processing cost: ${manual_monthly_cost:,.0f}/month\")\n",
    "print(f\"• Automated system cost: ${total_automated_cost:,.0f}/month\")\n",
    "print(f\"• Monthly cost savings: ${monthly_savings:,.0f}\")\n",
    "print(f\"• Annual cost savings: ${annual_savings:,.0f}\")\n",
    "print(f\"• Additional productivity value: ${productivity_value:,.0f}/month\")\n",
    "\n",
    "# Image classification ROI\n",
    "print(f\"\\nImage Recognition System ROI:\")\n",
    "daily_images = 50_000 # Images processed per day\n",
    "image_accuracy = max([image_results[k]['test_score'] for k in image_results.keys()])\n",
    "\n",
    "# Quality control improvements\n",
    "defect_detection_rate = image_accuracy\n",
    "defect_rate = 0.02 # 2% defect rate\n",
    "cost_per_defect = 150 # Cost if defect reaches customer\n",
    "\n",
    "monthly_images = daily_images * 30\n",
    "expected_defects = monthly_images * defect_rate\n",
    "defects_caught = expected_defects * defect_detection_rate\n",
    "defects_missed = expected_defects - defects_caught\n",
    "\n",
    "cost_avoidance = defects_caught * cost_per_defect\n",
    "remaining_defect_cost = defects_missed * cost_per_defect\n",
    "\n",
    "# System costs\n",
    "image_system_cost = 15_000 # Monthly system cost\n",
    "net_monthly_benefit = cost_avoidance - image_system_cost\n",
    "image_roi = net_monthly_benefit / image_system_cost\n",
    "\n",
    "print(f\"• Daily images processed: {daily_images:,}\")\n",
    "print(f\"• Detection accuracy: {image_accuracy:.1%}\")\n",
    "print(f\"• Expected monthly defects: {expected_defects:.0f}\")\n",
    "print(f\"• Defects caught: {defects_caught:.0f}\")\n",
    "print(f\"• Cost avoidance: ${cost_avoidance:,.0f}/month\")\n",
    "print(f\"• System cost: ${image_system_cost:,.0f}/month\")\n",
    "print(f\"• Net monthly benefit: ${net_monthly_benefit:,.0f}\")\n",
    "print(f\"• ROI: {image_roi*100:.0f}%\")\n",
    "\n",
    "# High-dimensional analysis ROI\n",
    "print(f\"\\nHigh-Dimensional Analysis ROI:\")\n",
    "research_projects = 50 # Number of research projects per year\n",
    "analysis_time_saved = 40 # Hours saved per project\n",
    "researcher_hourly_rate = 75 # PhD researcher hourly rate\n",
    "\n",
    "annual_time_savings = research_projects * analysis_time_saved\n",
    "annual_cost_savings_research = annual_time_savings * researcher_hourly_rate\n",
    "\n",
    "# Accuracy improvements leading to better research outcomes\n",
    "improved_discovery_rate = 0.15 # 15% improvement in discovery rate\n",
    "avg_discovery_value = 500_000 # Average value of a research discovery\n",
    "additional_discoveries = research_projects * improved_discovery_rate\n",
    "discovery_value = additional_discoveries * avg_discovery_value\n",
    "\n",
    "research_system_cost = 25_000 # Annual system cost\n",
    "total_research_benefit = annual_cost_savings_research + discovery_value\n",
    "research_roi = (total_research_benefit - research_system_cost) / research_system_cost\n",
    "\n",
    "print(f\"• Research projects per year: {research_projects}\")\n",
    "print(f\"• Time savings: {annual_time_savings:,} hours/year\")\n",
    "print(f\"• Cost savings: ${annual_cost_savings_research:,.0f}/year\")\n",
    "print(f\"• Additional discoveries: {additional_discoveries:.1f}/year\")\n",
    "print(f\"• Discovery value: ${discovery_value:,.0f}/year\")\n",
    "print(f\"• Total benefit: ${total_research_benefit:,.0f}/year\")\n",
    "print(f\"• System cost: ${research_system_cost:,.0f}/year\")\n",
    "print(f\"• ROI: {research_roi*100:.0f}%\")\n",
    "\n",
    "# Combined systems summary\n",
    "total_annual_investment = (system_monthly_cost * 12) + (image_system_cost * 12) + research_system_cost\n",
    "total_annual_benefits = annual_savings + (net_monthly_benefit * 12) + (total_research_benefit - research_system_cost)\n",
    "combined_roi = total_annual_benefits / total_annual_investment\n",
    "\n",
    "print(f\"\\nCombined SVM Systems Summary:\")\n",
    "print(f\"• Total annual investment: ${total_annual_investment:,.0f}\")\n",
    "print(f\"• Total annual benefits: ${total_annual_benefits:,.0f}\")\n",
    "print(f\"• Combined ROI: {combined_roi*100:.0f}%\")\n",
    "print(f\"• Payback period: {total_annual_investment/total_annual_benefits*12:.1f} months\")\n",
    "\n",
    "# Implementation guidelines\n",
    "print(f\"\\nSVM Implementation Guidelines:\")\n",
    "print(f\"• Use Linear SVM for high-dimensional sparse data (text, genes)\")\n",
    "print(f\"• Use RBF kernel for non-linear problems with moderate dimensions\")\n",
    "print(f\"• Scale features when using RBF or polynomial kernels\")\n",
    "print(f\"• Start with C=1.0, optimize via cross-validation\")\n",
    "print(f\"• Use LinearSVC for large-scale linear problems\")\n",
    "print(f\"• Consider kernel approximation for very large datasets\")\n",
    "\n",
    "print(f\"\\nCross-Reference Learning Path:\")\n",
    "print(f\"• Foundation: Tier2_SVM.ipynb (basic SVM concepts)\")\n",
    "print(f\"• Building On: Tier2_LinearRegression.ipynb (linear methods)\")\n",
    "print(f\"• Comparison: Tier5_Classification.ipynb (algorithm comparison)\")\n",
    "print(f\"• Advanced: Advanced_KernelMethods.ipynb, Advanced_HighDimensionalClassification.ipynb\")"
   ]
  }
 ],
 "metadata": {
  "kernelspec": {
   "display_name": ".venv",
   "language": "python",
   "name": "python3"
  },
  "language_info": {
   "codemirror_mode": {
    "name": "ipython",
    "version": 3
   },
   "file_extension": ".py",
   "mimetype": "text/x-python",
   "name": "python",
   "nbconvert_exporter": "python",
   "pygments_lexer": "ipython3",
   "version": "3.13.7"
  }
 },
 "nbformat": 4,
 "nbformat_minor": 5
}
