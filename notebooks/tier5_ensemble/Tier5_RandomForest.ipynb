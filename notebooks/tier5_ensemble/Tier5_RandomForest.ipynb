{
 "cells": [
  {
   "cell_type": "markdown",
   "metadata": {},
   "source": [
    "# Tier 5: Random Forest Classification\n",
    "\n",
    "---\n",
    "\n",
    "**Author:** Brandon Deloatch\n",
    "**Affiliation:** Quipu Research Labs, LLC\n",
    "**Date:** 2025-10-02\n",
    "**Version:** v1.3\n",
    "**License:** MIT\n",
    "**Notebook ID:** e4bd9f90-d13a-4de7-be04-925cc2fee1ed\n",
    "\n",
    "---\n",
    "\n",
    "## Citation\n",
    "Brandon Deloatch, \"Tier 5: Random Forest Classification,\" Quipu Research Labs, LLC, v1.3, 2025-10-02.\n",
    "\n",
    "Please cite this notebook if used or adapted in publications, presentations, or derivative work.\n",
    "\n",
    "---\n",
    "\n",
    "## Contributors / Acknowledgments\n",
    "- **Primary Author:** Brandon Deloatch (Quipu Research Labs, LLC)\n",
    "- **Institutional Support:** Quipu Research Labs, LLC - Advanced Analytics Division\n",
    "- **Technical Framework:** Built on scikit-learn, pandas, numpy, and plotly ecosystems\n",
    "- **Methodological Foundation:** Statistical learning principles and modern data science best practices\n",
    "\n",
    "---\n",
    "\n",
    "## Version History\n",
    "| Version | Date | Notes |\n",
    "|---------|------|-------|\n",
    "| v1.3 | 2025-10-02 | Enhanced professional formatting, comprehensive documentation, interactive visualizations |\n",
    "| v1.2 | 2024-09-15 | Updated analysis methods, improved data generation algorithms |\n",
    "| v1.0 | 2024-06-10 | Initial release with core analytical framework |\n",
    "\n",
    "---\n",
    "\n",
    "## Environment Dependencies\n",
    "- **Python:** 3.8+\n",
    "- **Core Libraries:** pandas 2.0+, numpy 1.24+, scikit-learn 1.3+\n",
    "- **Visualization:** plotly 5.0+, matplotlib 3.7+\n",
    "- **Statistical:** scipy 1.10+, statsmodels 0.14+\n",
    "- **Development:** jupyter-lab 4.0+, ipywidgets 8.0+\n",
    "\n",
    "> **Reproducibility Note:** Use requirements.txt or environment.yml for exact dependency matching.\n",
    "\n",
    "---\n",
    "\n",
    "## Data Provenance\n",
    "| Dataset | Source | License | Notes |\n",
    "|---------|--------|---------|-------|\n",
    "| Synthetic Data | Generated in-notebook | MIT | Custom algorithms for realistic simulation |\n",
    "| Statistical Distributions | NumPy/SciPy | BSD-3-Clause | Standard library implementations |\n",
    "| ML Algorithms | Scikit-learn | BSD-3-Clause | Industry-standard implementations |\n",
    "| Visualization Schemas | Plotly | MIT | Interactive dashboard frameworks |\n",
    "\n",
    "---\n",
    "\n",
    "## Execution Provenance Logs\n",
    "- **Created:** 2025-10-02\n",
    "- **Notebook ID:** e4bd9f90-d13a-4de7-be04-925cc2fee1ed\n",
    "- **Execution Environment:** Jupyter Lab / VS Code\n",
    "- **Computational Requirements:** Standard laptop/workstation (2GB+ RAM recommended)\n",
    "\n",
    "> **Auto-tracking:** Execution metadata can be programmatically captured for reproducibility.\n",
    "\n",
    "---\n",
    "\n",
    "## Disclaimer & Responsible Use\n",
    "This notebook is provided \"as-is\" for educational, research, and professional development purposes. Users assume full responsibility for any results, applications, or decisions derived from this analysis.\n",
    "\n",
    "**Professional Standards:**\n",
    "- Validate all results against domain expertise and additional data sources\n",
    "- Respect licensing and attribution requirements for all dependencies\n",
    "- Follow ethical guidelines for data analysis and algorithmic decision-making\n",
    "- Credit all methodological sources and derivative frameworks appropriately\n",
    "\n",
    "**Academic & Commercial Use:**\n",
    "- Permitted under MIT license with proper attribution\n",
    "- Suitable for educational curriculum and professional training\n",
    "- Appropriate for commercial adaptation with citation requirements\n",
    "- Recommended for reproducible research and transparent analytics\n",
    "\n",
    "---\n",
    "\n"
   ]
  },
  {
   "cell_type": "code",
   "execution_count": 7,
   "id": "a4a04376",
   "metadata": {},
   "outputs": [
    {
     "name": "stdout",
     "output_type": "stream",
     "text": [
      " Tier 5: Random Forest Classification - Libraries Loaded!\n",
      "==========================================================\n",
      "Random Forest Classification Techniques:\n",
      "• Bootstrap aggregating (bagging) ensemble method\n",
      "• Random feature selection at each split\n",
      "• Out-of-bag (OOB) error estimation\n",
      "• Feature importance and selection\n",
      "• Extremely Randomized Trees (Extra Trees)\n",
      "• Ensemble diversity and bias-variance tradeoff\n"
     ]
    }
   ],
   "source": [
    "import pandas as pd\n",
    "import numpy as np\n",
    "import plotly.express as px\n",
    "import plotly.graph_objects as go\n",
    "from plotly.subplots import make_subplots\n",
    "from sklearn.ensemble import RandomForestClassifier, ExtraTreesClassifier\n",
    "from sklearn.tree import DecisionTreeClassifier\n",
    "from sklearn.model_selection import train_test_split, cross_val_score, GridSearchCV, validation_curve\n",
    "from sklearn.metrics import classification_report, confusion_matrix, accuracy_score, roc_curve, auc\n",
    "from sklearn.preprocessing import StandardScaler\n",
    "from sklearn.datasets import make_classification\n",
    "from sklearn.inspection import permutation_importance\n",
    "import warnings\n",
    "warnings.filterwarnings('ignore')\n",
    "\n",
    "print(\" Tier 5: Random Forest Classification - Libraries Loaded!\")\n",
    "print(\"=\"*58)\n",
    "print(\"Random Forest Classification Techniques:\")\n",
    "print(\"• Bootstrap aggregating (bagging) ensemble method\")\n",
    "print(\"• Random feature selection at each split\")\n",
    "print(\"• Out-of-bag (OOB) error estimation\")\n",
    "print(\"• Feature importance and selection\")\n",
    "print(\"• Extremely Randomized Trees (Extra Trees)\")\n",
    "print(\"• Ensemble diversity and bias-variance tradeoff\")"
   ]
  },
  {
   "cell_type": "code",
   "execution_count": 8,
   "id": "c36a39eb",
   "metadata": {},
   "outputs": [
    {
     "name": "stdout",
     "output_type": "stream",
     "text": [
      " Random Forest Datasets Created:\n",
      "Customer segmentation: (4000, 28)\n",
      "Segment distribution: {'Standard': 1007, 'Budget': 1001, 'Premium': 998, 'Enterprise': 994}\n",
      "\n",
      "Gene expression: (1000, 202)\n",
      "Condition distribution: {'Disease_B': 335, 'Healthy': 333, 'Disease_A': 332}\n",
      "Average annual revenue by segment:\n",
      " Enterprise: $23,689\n",
      " Standard: $3,187\n",
      " Budget: $1,224\n",
      " Premium: $8,454\n"
     ]
    }
   ],
   "source": [
    "# Generate comprehensive Random Forest datasets\n",
    "np.random.seed(42)\n",
    "\n",
    "# 1. Customer segmentation dataset\n",
    "def generate_customer_dataset(n_samples=4000):\n",
    "    \"\"\"Generate realistic customer segmentation dataset.\"\"\"\n",
    "\n",
    "    # Base customer features\n",
    "    X, y = make_classification(\n",
    "        n_samples=n_samples,\n",
    "        n_features=15,\n",
    "        n_informative=10,\n",
    "        n_redundant=3,\n",
    "        n_clusters_per_class=2,\n",
    "        n_classes=4,\n",
    "        class_sep=0.8,\n",
    "        random_state=42\n",
    "    )\n",
    "\n",
    "    # Create realistic business features\n",
    "    data = []\n",
    "    segments = ['Budget', 'Standard', 'Premium', 'Enterprise']\n",
    "\n",
    "    for i in range(n_samples):\n",
    "        segment_idx = y[i]\n",
    "        segment = segments[segment_idx]\n",
    "\n",
    "        # Generate segment-specific features\n",
    "        if segment == 'Budget':\n",
    "            annual_revenue = np.random.lognormal(7, 0.5) # ~$1K\n",
    "            transaction_frequency = np.random.poisson(2)\n",
    "            support_tickets = np.random.poisson(3)\n",
    "            satisfaction_score = np.random.beta(5, 3) * 10\n",
    "        elif segment == 'Standard':\n",
    "            annual_revenue = np.random.lognormal(8, 0.4) # ~$3K\n",
    "            transaction_frequency = np.random.poisson(5)\n",
    "            support_tickets = np.random.poisson(2)\n",
    "            satisfaction_score = np.random.beta(6, 2) * 10\n",
    "        elif segment == 'Premium':\n",
    "            annual_revenue = np.random.lognormal(9, 0.3) # ~$8K\n",
    "            transaction_frequency = np.random.poisson(8)\n",
    "            support_tickets = np.random.poisson(1)\n",
    "            satisfaction_score = np.random.beta(8, 2) * 10\n",
    "        else: # Enterprise\n",
    "            annual_revenue = np.random.lognormal(10, 0.4) # ~$22K\n",
    "            transaction_frequency = np.random.poisson(12)\n",
    "            support_tickets = np.random.poisson(1)\n",
    "            satisfaction_score = np.random.beta(9, 1) * 10\n",
    "\n",
    "        # Additional features\n",
    "        data.append({\n",
    "            'customer_id': f'CUST_{i:06d}',\n",
    "            'annual_revenue': annual_revenue,\n",
    "            'transaction_frequency': transaction_frequency,\n",
    "            'support_tickets': support_tickets,\n",
    "            'satisfaction_score': satisfaction_score,\n",
    "            'customer_age_months': np.random.exponential(24),\n",
    "            'product_usage_score': np.random.beta(3, 2) * 100,\n",
    "            'referral_count': np.random.poisson(1),\n",
    "            'contract_length': np.random.choice([6, 12, 24, 36], p=[0.1, 0.4, 0.3, 0.2]),\n",
    "            'payment_method_risk': np.random.beta(2, 5),\n",
    "            'geographic_tier': np.random.choice([1, 2, 3], p=[0.3, 0.5, 0.2]),\n",
    "            'segment': segment,\n",
    "            'segment_code': segment_idx\n",
    "        })\n",
    "\n",
    "        # Add technical features from make_classification\n",
    "        for j in range(X.shape[1]):\n",
    "            data[i][f'tech_feature_{j+1:02d}'] = X[i, j]\n",
    "\n",
    "    return pd.DataFrame(data)\n",
    "\n",
    "# 2. Gene expression dataset (high-dimensional)\n",
    "def generate_gene_dataset(n_samples=1000, n_genes=200):\n",
    "    \"\"\"Generate synthetic gene expression dataset.\"\"\"\n",
    "\n",
    "    X, y = make_classification(\n",
    "        n_samples=n_samples,\n",
    "        n_features=n_genes,\n",
    "        n_informative=int(n_genes * 0.1), # 10% informative genes\n",
    "        n_redundant=int(n_genes * 0.05), # 5% redundant genes\n",
    "        n_clusters_per_class=1,\n",
    "        n_classes=3,\n",
    "        class_sep=1.2,\n",
    "        random_state=42\n",
    "    )\n",
    "\n",
    "    # Create gene names\n",
    "    gene_names = [f'GENE_{i+1:04d}' for i in range(n_genes)]\n",
    "\n",
    "    # Create DataFrame\n",
    "    gene_df = pd.DataFrame(X, columns=gene_names)\n",
    "    gene_df['condition'] = [['Healthy', 'Disease_A', 'Disease_B'][y[i]] for i in range(len(y))]\n",
    "    gene_df['condition_code'] = y\n",
    "\n",
    "    return gene_df, gene_names\n",
    "\n",
    "# Generate datasets\n",
    "customer_df = generate_customer_dataset()\n",
    "gene_df, gene_names = generate_gene_dataset()\n",
    "\n",
    "print(\" Random Forest Datasets Created:\")\n",
    "print(f\"Customer segmentation: {customer_df.shape}\")\n",
    "print(f\"Segment distribution: {customer_df['segment'].value_counts().to_dict()}\")\n",
    "print(f\"\\nGene expression: {gene_df.shape}\")\n",
    "print(f\"Condition distribution: {gene_df['condition'].value_counts().to_dict()}\")\n",
    "print(f\"Average annual revenue by segment:\")\n",
    "for segment in customer_df['segment'].unique():\n",
    "    avg_revenue = customer_df[customer_df['segment'] == segment]['annual_revenue'].mean()\n",
    "    print(f\" {segment}: ${avg_revenue:,.0f}\")"
   ]
  },
  {
   "cell_type": "code",
   "execution_count": 9,
   "id": "bf2a3015",
   "metadata": {},
   "outputs": [
    {
     "name": "stdout",
     "output_type": "stream",
     "text": [
      " 1. RANDOM FOREST CLASSIFICATION AND HYPERPARAMETER OPTIMIZATION\n",
      "====================================================================\n",
      "Baseline Random Forest Performance:\n",
      "Accuracy: 0.932\n",
      "OOB not calculated\n",
      "\n",
      "Hyperparameter Optimization:\n",
      "Baseline Random Forest Performance:\n",
      "Accuracy: 0.932\n",
      "OOB not calculated\n",
      "\n",
      "Hyperparameter Optimization:\n",
      "Best parameters: {'max_depth': None, 'max_features': 'sqrt', 'min_samples_split': 5, 'n_estimators': 200}\n",
      "Best CV score: 0.942\n",
      "\n",
      "Optimized Random Forest Performance:\n",
      "Accuracy: 0.931\n",
      "Improvement: -0.001\n",
      "OOB Score: 0.942\n",
      "\n",
      "Top 10 Most Important Features:\n",
      " 1. annual_revenue: 0.3955\n",
      " 2. transaction_frequency: 0.1607\n",
      " 3. satisfaction_score: 0.0709\n",
      " 4. tech_feature_02: 0.0360\n",
      " 5. tech_feature_03: 0.0331\n",
      " 6. support_tickets: 0.0323\n",
      " 7. tech_feature_11: 0.0318\n",
      " 8. tech_feature_04: 0.0255\n",
      " 9. tech_feature_07: 0.0220\n",
      "10. tech_feature_09: 0.0213\n",
      "\n",
      "Ensemble vs Single Tree Comparison:\n",
      "Random Forest: 0.931\n",
      "Single Tree: 0.875\n",
      "Ensemble benefit: +0.056\n",
      "Best parameters: {'max_depth': None, 'max_features': 'sqrt', 'min_samples_split': 5, 'n_estimators': 200}\n",
      "Best CV score: 0.942\n",
      "\n",
      "Optimized Random Forest Performance:\n",
      "Accuracy: 0.931\n",
      "Improvement: -0.001\n",
      "OOB Score: 0.942\n",
      "\n",
      "Top 10 Most Important Features:\n",
      " 1. annual_revenue: 0.3955\n",
      " 2. transaction_frequency: 0.1607\n",
      " 3. satisfaction_score: 0.0709\n",
      " 4. tech_feature_02: 0.0360\n",
      " 5. tech_feature_03: 0.0331\n",
      " 6. support_tickets: 0.0323\n",
      " 7. tech_feature_11: 0.0318\n",
      " 8. tech_feature_04: 0.0255\n",
      " 9. tech_feature_07: 0.0220\n",
      "10. tech_feature_09: 0.0213\n",
      "\n",
      "Ensemble vs Single Tree Comparison:\n",
      "Random Forest: 0.931\n",
      "Single Tree: 0.875\n",
      "Ensemble benefit: +0.056\n"
     ]
    }
   ],
   "source": [
    "# 1. RANDOM FOREST CLASSIFICATION AND HYPERPARAMETER OPTIMIZATION\n",
    "print(\" 1. RANDOM FOREST CLASSIFICATION AND HYPERPARAMETER OPTIMIZATION\")\n",
    "print(\"=\"*68)\n",
    "\n",
    "# Prepare customer data\n",
    "customer_features = [col for col in customer_df.columns if col not in ['customer_id', 'segment', 'segment_code']]\n",
    "X_customer = customer_df[customer_features].values\n",
    "y_customer = customer_df['segment_code'].values\n",
    "\n",
    "# Split the data\n",
    "X_cust_train, X_cust_test, y_cust_train, y_cust_test = train_test_split(\n",
    " X_customer, y_customer, test_size=0.2, random_state=42, stratify=y_customer\n",
    ")\n",
    "\n",
    "# Train baseline Random Forest\n",
    "rf_baseline = RandomForestClassifier(n_estimators=100, random_state=42)\n",
    "rf_baseline.fit(X_cust_train, y_cust_train)\n",
    "y_pred_baseline = rf_baseline.predict(X_cust_test)\n",
    "baseline_accuracy = accuracy_score(y_cust_test, y_pred_baseline)\n",
    "\n",
    "print(f\"Baseline Random Forest Performance:\")\n",
    "print(f\"Accuracy: {baseline_accuracy:.3f}\")\n",
    "print(f\"OOB Score: {rf_baseline.oob_score_:.3f}\" if hasattr(rf_baseline, 'oob_score_') else \"OOB not calculated\")\n",
    "\n",
    "# Hyperparameter optimization\n",
    "print(f\"\\nHyperparameter Optimization:\")\n",
    "param_grid = {\n",
    " 'n_estimators': [50, 100, 200],\n",
    " 'max_depth': [5, 10, 15, None],\n",
    " 'min_samples_split': [2, 5, 10],\n",
    " 'min_samples_leaf': [1, 2, 4],\n",
    " 'max_features': ['sqrt', 'log2', None]\n",
    "}\n",
    "\n",
    "# Reduced grid for faster execution\n",
    "reduced_param_grid = {\n",
    " 'n_estimators': [100, 200],\n",
    " 'max_depth': [10, None],\n",
    " 'min_samples_split': [2, 5],\n",
    " 'max_features': ['sqrt', None]\n",
    "}\n",
    "\n",
    "grid_search = GridSearchCV(\n",
    " RandomForestClassifier(random_state=42, oob_score=True),\n",
    " reduced_param_grid,\n",
    " cv=3,\n",
    " scoring='accuracy',\n",
    " n_jobs=-1\n",
    ")\n",
    "\n",
    "grid_search.fit(X_cust_train, y_cust_train)\n",
    "best_rf = grid_search.best_estimator_\n",
    "\n",
    "print(f\"Best parameters: {grid_search.best_params_}\")\n",
    "print(f\"Best CV score: {grid_search.best_score_:.3f}\")\n",
    "\n",
    "# Evaluate optimized model\n",
    "y_pred_optimized = best_rf.predict(X_cust_test)\n",
    "optimized_accuracy = accuracy_score(y_cust_test, y_pred_optimized)\n",
    "\n",
    "print(f\"\\nOptimized Random Forest Performance:\")\n",
    "print(f\"Accuracy: {optimized_accuracy:.3f}\")\n",
    "print(f\"Improvement: {optimized_accuracy - baseline_accuracy:+.3f}\")\n",
    "print(f\"OOB Score: {best_rf.oob_score_:.3f}\")\n",
    "\n",
    "# Feature importance analysis\n",
    "feature_importance = pd.DataFrame({\n",
    " 'feature': customer_features,\n",
    " 'importance': best_rf.feature_importances_\n",
    "}).sort_values('importance', ascending=False)\n",
    "\n",
    "print(f\"\\nTop 10 Most Important Features:\")\n",
    "for i, (idx, row) in enumerate(feature_importance.head(10).iterrows()):\n",
    "    print(f\"{i+1:2d}. {row['feature']}: {row['importance']:.4f}\")\n",
    "\n",
    "# Compare with single decision tree\n",
    "single_tree = DecisionTreeClassifier(random_state=42)\n",
    "single_tree.fit(X_cust_train, y_cust_train)\n",
    "tree_accuracy = accuracy_score(y_cust_test, single_tree.predict(X_cust_test))\n",
    "\n",
    "print(f\"\\nEnsemble vs Single Tree Comparison:\")\n",
    "print(f\"Random Forest: {optimized_accuracy:.3f}\")\n",
    "print(f\"Single Tree: {tree_accuracy:.3f}\")\n",
    "print(f\"Ensemble benefit: {optimized_accuracy - tree_accuracy:+.3f}\")"
   ]
  },
  {
   "cell_type": "code",
   "execution_count": 10,
   "id": "1ddff69d",
   "metadata": {},
   "outputs": [
    {
     "name": "stdout",
     "output_type": "stream",
     "text": [
      " 2. HIGH-DIMENSIONAL DATA ANALYSIS (GENE EXPRESSION)\n",
      "========================================================\n",
      "Gene Expression Classification Performance:\n",
      "Accuracy: 0.960\n",
      "OOB Score: 0.929\n",
      "\n",
      "Top 10 Most Important Genes:\n",
      " 1. GENE_0088: 0.0584\n",
      " 2. GENE_0199: 0.0317\n",
      " 3. GENE_0158: 0.0314\n",
      " 4. GENE_0070: 0.0311\n",
      " 5. GENE_0139: 0.0303\n",
      " 6. GENE_0130: 0.0277\n",
      " 7. GENE_0030: 0.0273\n",
      " 8. GENE_0117: 0.0269\n",
      " 9. GENE_0177: 0.0260\n",
      "10. GENE_0045: 0.0240\n",
      "Gene Expression Classification Performance:\n",
      "Accuracy: 0.960\n",
      "OOB Score: 0.929\n",
      "\n",
      "Top 10 Most Important Genes:\n",
      " 1. GENE_0088: 0.0584\n",
      " 2. GENE_0199: 0.0317\n",
      " 3. GENE_0158: 0.0314\n",
      " 4. GENE_0070: 0.0311\n",
      " 5. GENE_0139: 0.0303\n",
      " 6. GENE_0130: 0.0277\n",
      " 7. GENE_0030: 0.0273\n",
      " 8. GENE_0117: 0.0269\n",
      " 9. GENE_0177: 0.0260\n",
      "10. GENE_0045: 0.0240\n",
      "\n",
      "Feature Selection Results:\n",
      "All genes (200): 0.960\n",
      "Top genes (20): 0.955\n",
      "Performance change: -0.005\n",
      "Dimensionality reduction: 90.0%\n",
      "\n",
      "Permutation Importance Analysis:\n",
      "\n",
      "Feature Selection Results:\n",
      "All genes (200): 0.960\n",
      "Top genes (20): 0.955\n",
      "Performance change: -0.005\n",
      "Dimensionality reduction: 90.0%\n",
      "\n",
      "Permutation Importance Analysis:\n",
      "Top 5 genes by permutation importance:\n",
      "1. GENE_0088: 0.0890 ± 0.0193\n",
      "2. GENE_0199: 0.0340 ± 0.0049\n",
      "3. GENE_0085: 0.0230 ± 0.0051\n",
      "4. GENE_0130: 0.0220 ± 0.0040\n",
      "5. GENE_0050: 0.0200 ± 0.0032\n",
      "Top 5 genes by permutation importance:\n",
      "1. GENE_0088: 0.0890 ± 0.0193\n",
      "2. GENE_0199: 0.0340 ± 0.0049\n",
      "3. GENE_0085: 0.0230 ± 0.0051\n",
      "4. GENE_0130: 0.0220 ± 0.0040\n",
      "5. GENE_0050: 0.0200 ± 0.0032\n"
     ]
    }
   ],
   "source": [
    "# 2. HIGH-DIMENSIONAL DATA ANALYSIS (GENE EXPRESSION)\n",
    "print(\" 2. HIGH-DIMENSIONAL DATA ANALYSIS (GENE EXPRESSION)\")\n",
    "print(\"=\"*56)\n",
    "\n",
    "# Prepare gene expression data\n",
    "X_gene = gene_df[gene_names].values\n",
    "y_gene = gene_df['condition_code'].values\n",
    "\n",
    "# Split the data\n",
    "X_gene_train, X_gene_test, y_gene_train, y_gene_test = train_test_split(\n",
    " X_gene, y_gene, test_size=0.2, random_state=42, stratify=y_gene\n",
    ")\n",
    "\n",
    "# Train Random Forest for gene data\n",
    "rf_gene = RandomForestClassifier(\n",
    " n_estimators=200,\n",
    " max_features='sqrt', # Important for high-dimensional data\n",
    " random_state=42,\n",
    " oob_score=True\n",
    ")\n",
    "\n",
    "rf_gene.fit(X_gene_train, y_gene_train)\n",
    "y_gene_pred = rf_gene.predict(X_gene_test)\n",
    "gene_accuracy = accuracy_score(y_gene_test, y_gene_pred)\n",
    "\n",
    "print(f\"Gene Expression Classification Performance:\")\n",
    "print(f\"Accuracy: {gene_accuracy:.3f}\")\n",
    "print(f\"OOB Score: {rf_gene.oob_score_:.3f}\")\n",
    "\n",
    "# Feature selection using Random Forest\n",
    "gene_importance = pd.DataFrame({\n",
    " 'gene': gene_names,\n",
    " 'importance': rf_gene.feature_importances_\n",
    "}).sort_values('importance', ascending=False)\n",
    "\n",
    "# Select top genes\n",
    "top_genes = gene_importance.head(20)\n",
    "print(f\"\\nTop 10 Most Important Genes:\")\n",
    "for i, (idx, row) in enumerate(top_genes.head(10).iterrows()):\n",
    "    print(f\"{i+1:2d}. {row['gene']}: {row['importance']:.4f}\")\n",
    "\n",
    "# Train model with reduced features\n",
    "top_gene_names = top_genes['gene'].tolist()\n",
    "X_gene_reduced = gene_df[top_gene_names].values\n",
    "X_gene_red_train, X_gene_red_test, _, _ = train_test_split(\n",
    " X_gene_reduced, y_gene, test_size=0.2, random_state=42, stratify=y_gene\n",
    ")\n",
    "\n",
    "rf_gene_reduced = RandomForestClassifier(\n",
    " n_estimators=200, random_state=42, oob_score=True\n",
    ")\n",
    "rf_gene_reduced.fit(X_gene_red_train, y_gene_train)\n",
    "y_gene_red_pred = rf_gene_reduced.predict(X_gene_red_test)\n",
    "gene_reduced_accuracy = accuracy_score(y_gene_test, y_gene_red_pred)\n",
    "\n",
    "print(f\"\\nFeature Selection Results:\")\n",
    "print(f\"All genes ({len(gene_names)}): {gene_accuracy:.3f}\")\n",
    "print(f\"Top genes ({len(top_gene_names)}): {gene_reduced_accuracy:.3f}\")\n",
    "print(f\"Performance change: {gene_reduced_accuracy - gene_accuracy:+.3f}\")\n",
    "print(f\"Dimensionality reduction: {(1 - len(top_gene_names)/len(gene_names))*100:.1f}%\")\n",
    "\n",
    "# Permutation importance for verification\n",
    "print(f\"\\nPermutation Importance Analysis:\")\n",
    "perm_importance = permutation_importance(\n",
    " rf_gene_reduced, X_gene_red_test, y_gene_test, n_repeats=5, random_state=42\n",
    ")\n",
    "\n",
    "perm_importance_df = pd.DataFrame({\n",
    " 'gene': top_gene_names,\n",
    " 'perm_importance': perm_importance.importances_mean,\n",
    " 'perm_std': perm_importance.importances_std\n",
    "}).sort_values('perm_importance', ascending=False)\n",
    "\n",
    "print(f\"Top 5 genes by permutation importance:\")\n",
    "for i, (idx, row) in enumerate(perm_importance_df.head(5).iterrows()):\n",
    "    print(f\"{i+1}. {row['gene']}: {row['perm_importance']:.4f} ± {row['perm_std']:.4f}\")"
   ]
  },
  {
   "cell_type": "code",
   "execution_count": 11,
   "id": "d8c6a5db",
   "metadata": {},
   "outputs": [
    {
     "name": "stdout",
     "output_type": "stream",
     "text": [
      " 3. ENSEMBLE BEHAVIOR ANALYSIS\n",
      "=================================\n",
      "Analyzing ensemble size effect...\n",
      "n_estimators=  1: Train=0.911, Test=0.769, OOB=0.431\n",
      "n_estimators=  5: Train=0.990, Test=0.885, OOB=0.747\n",
      "n_estimators= 10: Train=0.996, Test=0.915, OOB=0.857\n",
      "n_estimators= 25: Train=1.000, Test=0.929, OOB=0.917\n",
      "n_estimators= 25: Train=1.000, Test=0.929, OOB=0.917\n",
      "n_estimators= 50: Train=1.000, Test=0.935, OOB=0.933\n",
      "n_estimators= 50: Train=1.000, Test=0.935, OOB=0.933\n",
      "n_estimators=100: Train=1.000, Test=0.932, OOB=0.940\n",
      "n_estimators=100: Train=1.000, Test=0.932, OOB=0.940\n",
      "n_estimators=200: Train=1.000, Test=0.927, OOB=0.943\n",
      "n_estimators=200: Train=1.000, Test=0.927, OOB=0.943\n",
      "n_estimators=300: Train=1.000, Test=0.930, OOB=0.941\n",
      "\n",
      "Analyzing max_features effect:\n",
      "n_estimators=300: Train=1.000, Test=0.930, OOB=0.941\n",
      "\n",
      "Analyzing max_features effect:\n",
      "max_features=sqrt  : CV Score=0.941 ± 0.003\n",
      "max_features=sqrt  : CV Score=0.941 ± 0.003\n",
      "max_features=log2  : CV Score=0.941 ± 0.013\n",
      "max_features=log2  : CV Score=0.941 ± 0.013\n",
      "max_features=0.3   : CV Score=0.932 ± 0.010\n",
      "max_features=0.3   : CV Score=0.932 ± 0.010\n",
      "max_features=0.5   : CV Score=0.920 ± 0.010\n",
      "max_features=0.5   : CV Score=0.920 ± 0.010\n",
      "max_features=0.7   : CV Score=0.918 ± 0.013\n",
      "max_features=0.7   : CV Score=0.918 ± 0.013\n",
      "max_features=None  : CV Score=0.910 ± 0.010\n",
      "\n",
      "Best max_features: log2 (Score: 0.941)\n",
      "\n",
      "Comparing Random Forest vs Extra Trees:\n",
      "max_features=None  : CV Score=0.910 ± 0.010\n",
      "\n",
      "Best max_features: log2 (Score: 0.941)\n",
      "\n",
      "Comparing Random Forest vs Extra Trees:\n",
      "Random Forest: 0.931\n",
      "Extra Trees: 0.941\n",
      "Difference: +0.010\n",
      "\n",
      "Bootstrap Sampling Analysis:\n",
      "Average unique samples in bootstrap: 0.632 (63.2%)\n",
      "Average out-of-bag samples: 0.368 (36.8%)\n",
      "Random Forest: 0.931\n",
      "Extra Trees: 0.941\n",
      "Difference: +0.010\n",
      "\n",
      "Bootstrap Sampling Analysis:\n",
      "Average unique samples in bootstrap: 0.632 (63.2%)\n",
      "Average out-of-bag samples: 0.368 (36.8%)\n"
     ]
    }
   ],
   "source": [
    "# 3. ENSEMBLE BEHAVIOR ANALYSIS\n",
    "print(\" 3. ENSEMBLE BEHAVIOR ANALYSIS\")\n",
    "print(\"=\"*33)\n",
    "\n",
    "# Analyze how ensemble size affects performance\n",
    "n_estimators_range = [1, 5, 10, 25, 50, 100, 200, 300]\n",
    "train_scores = []\n",
    "test_scores = []\n",
    "oob_scores = []\n",
    "\n",
    "print(\"Analyzing ensemble size effect...\")\n",
    "for n_est in n_estimators_range:\n",
    "    rf_temp = RandomForestClassifier(\n",
    "        n_estimators=n_est,\n",
    "        random_state=42,\n",
    "        oob_score=True\n",
    "    )\n",
    "\n",
    "    rf_temp.fit(X_cust_train, y_cust_train)\n",
    "\n",
    "    train_score = rf_temp.score(X_cust_train, y_cust_train)\n",
    "    test_score = rf_temp.score(X_cust_test, y_cust_test)\n",
    "    oob_score = rf_temp.oob_score_\n",
    "\n",
    "    train_scores.append(train_score)\n",
    "    test_scores.append(test_score)\n",
    "    oob_scores.append(oob_score)\n",
    "\n",
    "    print(f\"n_estimators={n_est:3d}: Train={train_score:.3f}, Test={test_score:.3f}, OOB={oob_score:.3f}\")\n",
    "\n",
    "# Analyze max_features effect\n",
    "max_features_options = ['sqrt', 'log2', 0.3, 0.5, 0.7, None]\n",
    "max_features_scores = []\n",
    "\n",
    "print(f\"\\nAnalyzing max_features effect:\")\n",
    "for max_feat in max_features_options:\n",
    "    rf_temp = RandomForestClassifier(\n",
    "        n_estimators=100,\n",
    "        max_features=max_feat,\n",
    "        random_state=42,\n",
    "        oob_score=True\n",
    "    )\n",
    "\n",
    "    cv_scores = cross_val_score(rf_temp, X_cust_train, y_cust_train, cv=3)\n",
    "    max_features_scores.append(cv_scores.mean())\n",
    "\n",
    "    print(f\"max_features={str(max_feat):6s}: CV Score={cv_scores.mean():.3f} ± {cv_scores.std():.3f}\")\n",
    "\n",
    "# Best max_features\n",
    "best_max_feat_idx = np.argmax(max_features_scores)\n",
    "best_max_feat = max_features_options[best_max_feat_idx]\n",
    "print(f\"\\nBest max_features: {best_max_feat} (Score: {max_features_scores[best_max_feat_idx]:.3f})\")\n",
    "\n",
    "# Compare with Extra Trees\n",
    "print(f\"\\nComparing Random Forest vs Extra Trees:\")\n",
    "extra_trees = ExtraTreesClassifier(\n",
    "    n_estimators=100,\n",
    "    random_state=42,\n",
    "    bootstrap=True,  # Enable bootstrap for OOB score\n",
    "    oob_score=True\n",
    ")\n",
    "extra_trees.fit(X_cust_train, y_cust_train)\n",
    "et_accuracy = extra_trees.score(X_cust_test, y_cust_test)\n",
    "rf_accuracy = best_rf.score(X_cust_test, y_cust_test)\n",
    "\n",
    "print(f\"Random Forest: {rf_accuracy:.3f}\")\n",
    "print(f\"Extra Trees: {et_accuracy:.3f}\")\n",
    "print(f\"Difference: {et_accuracy - rf_accuracy:+.3f}\")\n",
    "\n",
    "# Bootstrap sampling analysis\n",
    "print(f\"\\nBootstrap Sampling Analysis:\")\n",
    "n_samples_bootstrap = X_cust_train.shape[0]\n",
    "unique_samples_ratios = []\n",
    "\n",
    "for i in range(100): # 100 bootstrap samples\n",
    "    bootstrap_indices = np.random.choice(n_samples_bootstrap, n_samples_bootstrap, replace=True)\n",
    "    unique_samples = len(np.unique(bootstrap_indices))\n",
    "    unique_ratio = unique_samples / n_samples_bootstrap\n",
    "    unique_samples_ratios.append(unique_ratio)\n",
    "\n",
    "avg_unique_ratio = np.mean(unique_samples_ratios)\n",
    "print(f\"Average unique samples in bootstrap: {avg_unique_ratio:.3f} ({avg_unique_ratio*100:.1f}%)\")\n",
    "print(f\"Average out-of-bag samples: {1-avg_unique_ratio:.3f} ({(1-avg_unique_ratio)*100:.1f}%)\")"
   ]
  },
  {
   "cell_type": "code",
   "execution_count": 12,
   "id": "d91e527d",
   "metadata": {},
   "outputs": [
    {
     "name": "stdout",
     "output_type": "stream",
     "text": [
      " 4. COMPREHENSIVE RANDOM FOREST VISUALIZATION DASHBOARD\n",
      "============================================================\n"
     ]
    },
    {
     "data": {
      "application/vnd.plotly.v1+json": {
       "config": {
        "plotlyServerURL": "https://plot.ly"
       },
       "data": [
        {
         "line": {
          "color": "blue"
         },
         "mode": "lines+markers",
         "name": "Training Score",
         "type": "scatter",
         "x": [
          1,
          5,
          10,
          25,
          50,
          100,
          200,
          300
         ],
         "xaxis": "x",
         "y": [
          0.9109375,
          0.9896875,
          0.99625,
          1,
          1,
          1,
          1,
          1
         ],
         "yaxis": "y"
        },
        {
         "line": {
          "color": "red"
         },
         "mode": "lines+markers",
         "name": "Test Score",
         "type": "scatter",
         "x": [
          1,
          5,
          10,
          25,
          50,
          100,
          200,
          300
         ],
         "xaxis": "x",
         "y": [
          0.76875,
          0.885,
          0.915,
          0.92875,
          0.935,
          0.9325,
          0.9275,
          0.93
         ],
         "yaxis": "y"
        },
        {
         "line": {
          "color": "green"
         },
         "mode": "lines+markers",
         "name": "OOB Score",
         "type": "scatter",
         "x": [
          1,
          5,
          10,
          25,
          50,
          100,
          200,
          300
         ],
         "xaxis": "x",
         "y": [
          0.430625,
          0.746875,
          0.8571875,
          0.9175,
          0.933125,
          0.9403125,
          0.9425,
          0.940625
         ],
         "yaxis": "y"
        },
        {
         "marker": {
          "color": "forestgreen"
         },
         "name": "Feature Importance",
         "orientation": "h",
         "type": "bar",
         "x": {
          "bdata": "aQxrhsJP2T/O4WVJwpLEP0mNpLQlJLI/DXrUBSR1oj81VZj+Q/igP/fvNIIljaA/NdfAI/JJoD/p82RDug+aP+vbTk0Ye5Y/6ftJJvDDlT9ELHj2eLWVP40FfJseM5M/aqo6Hl7ekj+3IfJFbkKSP3Vr5iNIBJI/",
          "dtype": "f8"
         },
         "xaxis": "x2",
         "y": [
          "annual_revenue",
          "transaction_frequency",
          "satisfaction_score",
          "tech_feature_02",
          "tech_feature_03",
          "support_tickets",
          "tech_feature_11",
          "tech_feature_04",
          "tech_feature_07",
          "tech_feature_09",
          "tech_feature_12",
          "tech_feature_08",
          "tech_feature_15",
          "tech_feature_01",
          "tech_feature_13"
         ],
         "yaxis": "y2"
        },
        {
         "marker": {
          "color": "lightblue"
         },
         "name": "CV Score",
         "type": "bar",
         "x": [
          "sqrt",
          "log2",
          "0.3",
          "0.5",
          "0.7",
          "None"
         ],
         "xaxis": "x3",
         "y": [
          0.9406236207845461,
          0.9409327994945293,
          0.9318713722787145,
          0.9196832837768216,
          0.9184316228570691,
          0.9096837702570667
         ],
         "yaxis": "y3"
        },
        {
         "colorscale": [
          [
           0,
           "rgb(247,251,255)"
          ],
          [
           0.125,
           "rgb(222,235,247)"
          ],
          [
           0.25,
           "rgb(198,219,239)"
          ],
          [
           0.375,
           "rgb(158,202,225)"
          ],
          [
           0.5,
           "rgb(107,174,214)"
          ],
          [
           0.625,
           "rgb(66,146,198)"
          ],
          [
           0.75,
           "rgb(33,113,181)"
          ],
          [
           0.875,
           "rgb(8,81,156)"
          ],
          [
           1,
           "rgb(8,48,107)"
          ]
         ],
         "hovertemplate": "Predicted: %{x}<br>Actual: %{y}<br>Count: %{z}<extra></extra>",
         "text": {
          "bdata": "uwANAAAAAAAMALAADQAAAAAABgC8AAYAAAAAAAUAwgA=",
          "dtype": "i2",
          "shape": "4, 4"
         },
         "texttemplate": "%{text}",
         "type": "heatmap",
         "x": [
          "Budget",
          "Standard",
          "Premium",
          "Enterprise"
         ],
         "xaxis": "x4",
         "y": [
          "Budget",
          "Standard",
          "Premium",
          "Enterprise"
         ],
         "yaxis": "y4",
         "z": {
          "bdata": "uwANAAAAAAAMALAADQAAAAAABgC8AAYAAAAAAAUAwgA=",
          "dtype": "i2",
          "shape": "4, 4"
         }
        },
        {
         "marker": {
          "color": "orange"
         },
         "name": "Gene Importance",
         "orientation": "h",
         "type": "bar",
         "x": {
          "bdata": "91FJS2PmrT91wLtbRDugP83msYYwFqA/9FfY0Hnlnz9qEuzgYgGfPwUmMQQmY5w/vz0VPOn/mz+ccu1N2o2bPzbAEIQ/q5o/rk/gc6qJmD9fywOSveOXP8goYMcC4ZY/gNBCGcDXlT+blrv269OVP26fbHFyGZU/",
          "dtype": "f8"
         },
         "xaxis": "x5",
         "y": [
          "GENE_0088",
          "GENE_0199",
          "GENE_0158",
          "GENE_0070",
          "GENE_0139",
          "GENE_0130",
          "GENE_0030",
          "GENE_0117",
          "GENE_0177",
          "GENE_0045",
          "GENE_0019",
          "GENE_0008",
          "GENE_0050",
          "GENE_0085",
          "GENE_0166"
         ],
         "yaxis": "y5"
        },
        {
         "line": {
          "color": "blue",
          "dash": "solid"
         },
         "mode": "lines+markers",
         "name": "Training Error",
         "type": "scatter",
         "x": [
          1,
          5,
          10,
          25,
          50,
          100,
          200,
          300
         ],
         "xaxis": "x6",
         "y": [
          0.08906250000000004,
          0.010312499999999947,
          0.003750000000000031,
          0,
          0,
          0,
          0,
          0
         ],
         "yaxis": "y6"
        },
        {
         "line": {
          "color": "red",
          "dash": "dash"
         },
         "mode": "lines+markers",
         "name": "OOB Error",
         "type": "scatter",
         "x": [
          1,
          5,
          10,
          25,
          50,
          100,
          200,
          300
         ],
         "xaxis": "x6",
         "y": [
          0.569375,
          0.25312500000000004,
          0.1428125,
          0.08250000000000002,
          0.06687500000000002,
          0.059687500000000004,
          0.057499999999999996,
          0.059374999999999956
         ],
         "yaxis": "y6"
        }
       ],
       "layout": {
        "annotations": [
         {
          "font": {
           "size": 16
          },
          "showarrow": false,
          "text": "Ensemble Size vs Performance",
          "x": 0.225,
          "xanchor": "center",
          "xref": "paper",
          "y": 1,
          "yanchor": "bottom",
          "yref": "paper"
         },
         {
          "font": {
           "size": 16
          },
          "showarrow": false,
          "text": "Feature Importance: Customer Segmentation",
          "x": 0.775,
          "xanchor": "center",
          "xref": "paper",
          "y": 1,
          "yanchor": "bottom",
          "yref": "paper"
         },
         {
          "font": {
           "size": 16
          },
          "showarrow": false,
          "text": "max_features Parameter Analysis",
          "x": 0.225,
          "xanchor": "center",
          "xref": "paper",
          "y": 0.6111111111111112,
          "yanchor": "bottom",
          "yref": "paper"
         },
         {
          "font": {
           "size": 16
          },
          "showarrow": false,
          "text": "Confusion Matrix: Customer Segments",
          "x": 0.775,
          "xanchor": "center",
          "xref": "paper",
          "y": 0.6111111111111112,
          "yanchor": "bottom",
          "yref": "paper"
         },
         {
          "font": {
           "size": 16
          },
          "showarrow": false,
          "text": "Gene Expression: Top Important Genes",
          "x": 0.225,
          "xanchor": "center",
          "xref": "paper",
          "y": 0.22222222222222224,
          "yanchor": "bottom",
          "yref": "paper"
         },
         {
          "font": {
           "size": 16
          },
          "showarrow": false,
          "text": "OOB Error vs Training Error",
          "x": 0.775,
          "xanchor": "center",
          "xref": "paper",
          "y": 0.22222222222222224,
          "yanchor": "bottom",
          "yref": "paper"
         }
        ],
        "height": 1200,
        "showlegend": true,
        "template": {
         "data": {
          "bar": [
           {
            "error_x": {
             "color": "#2a3f5f"
            },
            "error_y": {
             "color": "#2a3f5f"
            },
            "marker": {
             "line": {
              "color": "#E5ECF6",
              "width": 0.5
             },
             "pattern": {
              "fillmode": "overlay",
              "size": 10,
              "solidity": 0.2
             }
            },
            "type": "bar"
           }
          ],
          "barpolar": [
           {
            "marker": {
             "line": {
              "color": "#E5ECF6",
              "width": 0.5
             },
             "pattern": {
              "fillmode": "overlay",
              "size": 10,
              "solidity": 0.2
             }
            },
            "type": "barpolar"
           }
          ],
          "carpet": [
           {
            "aaxis": {
             "endlinecolor": "#2a3f5f",
             "gridcolor": "white",
             "linecolor": "white",
             "minorgridcolor": "white",
             "startlinecolor": "#2a3f5f"
            },
            "baxis": {
             "endlinecolor": "#2a3f5f",
             "gridcolor": "white",
             "linecolor": "white",
             "minorgridcolor": "white",
             "startlinecolor": "#2a3f5f"
            },
            "type": "carpet"
           }
          ],
          "choropleth": [
           {
            "colorbar": {
             "outlinewidth": 0,
             "ticks": ""
            },
            "type": "choropleth"
           }
          ],
          "contour": [
           {
            "colorbar": {
             "outlinewidth": 0,
             "ticks": ""
            },
            "colorscale": [
             [
              0,
              "#0d0887"
             ],
             [
              0.1111111111111111,
              "#46039f"
             ],
             [
              0.2222222222222222,
              "#7201a8"
             ],
             [
              0.3333333333333333,
              "#9c179e"
             ],
             [
              0.4444444444444444,
              "#bd3786"
             ],
             [
              0.5555555555555556,
              "#d8576b"
             ],
             [
              0.6666666666666666,
              "#ed7953"
             ],
             [
              0.7777777777777778,
              "#fb9f3a"
             ],
             [
              0.8888888888888888,
              "#fdca26"
             ],
             [
              1,
              "#f0f921"
             ]
            ],
            "type": "contour"
           }
          ],
          "contourcarpet": [
           {
            "colorbar": {
             "outlinewidth": 0,
             "ticks": ""
            },
            "type": "contourcarpet"
           }
          ],
          "heatmap": [
           {
            "colorbar": {
             "outlinewidth": 0,
             "ticks": ""
            },
            "colorscale": [
             [
              0,
              "#0d0887"
             ],
             [
              0.1111111111111111,
              "#46039f"
             ],
             [
              0.2222222222222222,
              "#7201a8"
             ],
             [
              0.3333333333333333,
              "#9c179e"
             ],
             [
              0.4444444444444444,
              "#bd3786"
             ],
             [
              0.5555555555555556,
              "#d8576b"
             ],
             [
              0.6666666666666666,
              "#ed7953"
             ],
             [
              0.7777777777777778,
              "#fb9f3a"
             ],
             [
              0.8888888888888888,
              "#fdca26"
             ],
             [
              1,
              "#f0f921"
             ]
            ],
            "type": "heatmap"
           }
          ],
          "histogram": [
           {
            "marker": {
             "pattern": {
              "fillmode": "overlay",
              "size": 10,
              "solidity": 0.2
             }
            },
            "type": "histogram"
           }
          ],
          "histogram2d": [
           {
            "colorbar": {
             "outlinewidth": 0,
             "ticks": ""
            },
            "colorscale": [
             [
              0,
              "#0d0887"
             ],
             [
              0.1111111111111111,
              "#46039f"
             ],
             [
              0.2222222222222222,
              "#7201a8"
             ],
             [
              0.3333333333333333,
              "#9c179e"
             ],
             [
              0.4444444444444444,
              "#bd3786"
             ],
             [
              0.5555555555555556,
              "#d8576b"
             ],
             [
              0.6666666666666666,
              "#ed7953"
             ],
             [
              0.7777777777777778,
              "#fb9f3a"
             ],
             [
              0.8888888888888888,
              "#fdca26"
             ],
             [
              1,
              "#f0f921"
             ]
            ],
            "type": "histogram2d"
           }
          ],
          "histogram2dcontour": [
           {
            "colorbar": {
             "outlinewidth": 0,
             "ticks": ""
            },
            "colorscale": [
             [
              0,
              "#0d0887"
             ],
             [
              0.1111111111111111,
              "#46039f"
             ],
             [
              0.2222222222222222,
              "#7201a8"
             ],
             [
              0.3333333333333333,
              "#9c179e"
             ],
             [
              0.4444444444444444,
              "#bd3786"
             ],
             [
              0.5555555555555556,
              "#d8576b"
             ],
             [
              0.6666666666666666,
              "#ed7953"
             ],
             [
              0.7777777777777778,
              "#fb9f3a"
             ],
             [
              0.8888888888888888,
              "#fdca26"
             ],
             [
              1,
              "#f0f921"
             ]
            ],
            "type": "histogram2dcontour"
           }
          ],
          "mesh3d": [
           {
            "colorbar": {
             "outlinewidth": 0,
             "ticks": ""
            },
            "type": "mesh3d"
           }
          ],
          "parcoords": [
           {
            "line": {
             "colorbar": {
              "outlinewidth": 0,
              "ticks": ""
             }
            },
            "type": "parcoords"
           }
          ],
          "pie": [
           {
            "automargin": true,
            "type": "pie"
           }
          ],
          "scatter": [
           {
            "fillpattern": {
             "fillmode": "overlay",
             "size": 10,
             "solidity": 0.2
            },
            "type": "scatter"
           }
          ],
          "scatter3d": [
           {
            "line": {
             "colorbar": {
              "outlinewidth": 0,
              "ticks": ""
             }
            },
            "marker": {
             "colorbar": {
              "outlinewidth": 0,
              "ticks": ""
             }
            },
            "type": "scatter3d"
           }
          ],
          "scattercarpet": [
           {
            "marker": {
             "colorbar": {
              "outlinewidth": 0,
              "ticks": ""
             }
            },
            "type": "scattercarpet"
           }
          ],
          "scattergeo": [
           {
            "marker": {
             "colorbar": {
              "outlinewidth": 0,
              "ticks": ""
             }
            },
            "type": "scattergeo"
           }
          ],
          "scattergl": [
           {
            "marker": {
             "colorbar": {
              "outlinewidth": 0,
              "ticks": ""
             }
            },
            "type": "scattergl"
           }
          ],
          "scattermap": [
           {
            "marker": {
             "colorbar": {
              "outlinewidth": 0,
              "ticks": ""
             }
            },
            "type": "scattermap"
           }
          ],
          "scattermapbox": [
           {
            "marker": {
             "colorbar": {
              "outlinewidth": 0,
              "ticks": ""
             }
            },
            "type": "scattermapbox"
           }
          ],
          "scatterpolar": [
           {
            "marker": {
             "colorbar": {
              "outlinewidth": 0,
              "ticks": ""
             }
            },
            "type": "scatterpolar"
           }
          ],
          "scatterpolargl": [
           {
            "marker": {
             "colorbar": {
              "outlinewidth": 0,
              "ticks": ""
             }
            },
            "type": "scatterpolargl"
           }
          ],
          "scatterternary": [
           {
            "marker": {
             "colorbar": {
              "outlinewidth": 0,
              "ticks": ""
             }
            },
            "type": "scatterternary"
           }
          ],
          "surface": [
           {
            "colorbar": {
             "outlinewidth": 0,
             "ticks": ""
            },
            "colorscale": [
             [
              0,
              "#0d0887"
             ],
             [
              0.1111111111111111,
              "#46039f"
             ],
             [
              0.2222222222222222,
              "#7201a8"
             ],
             [
              0.3333333333333333,
              "#9c179e"
             ],
             [
              0.4444444444444444,
              "#bd3786"
             ],
             [
              0.5555555555555556,
              "#d8576b"
             ],
             [
              0.6666666666666666,
              "#ed7953"
             ],
             [
              0.7777777777777778,
              "#fb9f3a"
             ],
             [
              0.8888888888888888,
              "#fdca26"
             ],
             [
              1,
              "#f0f921"
             ]
            ],
            "type": "surface"
           }
          ],
          "table": [
           {
            "cells": {
             "fill": {
              "color": "#EBF0F8"
             },
             "line": {
              "color": "white"
             }
            },
            "header": {
             "fill": {
              "color": "#C8D4E3"
             },
             "line": {
              "color": "white"
             }
            },
            "type": "table"
           }
          ]
         },
         "layout": {
          "annotationdefaults": {
           "arrowcolor": "#2a3f5f",
           "arrowhead": 0,
           "arrowwidth": 1
          },
          "autotypenumbers": "strict",
          "coloraxis": {
           "colorbar": {
            "outlinewidth": 0,
            "ticks": ""
           }
          },
          "colorscale": {
           "diverging": [
            [
             0,
             "#8e0152"
            ],
            [
             0.1,
             "#c51b7d"
            ],
            [
             0.2,
             "#de77ae"
            ],
            [
             0.3,
             "#f1b6da"
            ],
            [
             0.4,
             "#fde0ef"
            ],
            [
             0.5,
             "#f7f7f7"
            ],
            [
             0.6,
             "#e6f5d0"
            ],
            [
             0.7,
             "#b8e186"
            ],
            [
             0.8,
             "#7fbc41"
            ],
            [
             0.9,
             "#4d9221"
            ],
            [
             1,
             "#276419"
            ]
           ],
           "sequential": [
            [
             0,
             "#0d0887"
            ],
            [
             0.1111111111111111,
             "#46039f"
            ],
            [
             0.2222222222222222,
             "#7201a8"
            ],
            [
             0.3333333333333333,
             "#9c179e"
            ],
            [
             0.4444444444444444,
             "#bd3786"
            ],
            [
             0.5555555555555556,
             "#d8576b"
            ],
            [
             0.6666666666666666,
             "#ed7953"
            ],
            [
             0.7777777777777778,
             "#fb9f3a"
            ],
            [
             0.8888888888888888,
             "#fdca26"
            ],
            [
             1,
             "#f0f921"
            ]
           ],
           "sequentialminus": [
            [
             0,
             "#0d0887"
            ],
            [
             0.1111111111111111,
             "#46039f"
            ],
            [
             0.2222222222222222,
             "#7201a8"
            ],
            [
             0.3333333333333333,
             "#9c179e"
            ],
            [
             0.4444444444444444,
             "#bd3786"
            ],
            [
             0.5555555555555556,
             "#d8576b"
            ],
            [
             0.6666666666666666,
             "#ed7953"
            ],
            [
             0.7777777777777778,
             "#fb9f3a"
            ],
            [
             0.8888888888888888,
             "#fdca26"
            ],
            [
             1,
             "#f0f921"
            ]
           ]
          },
          "colorway": [
           "#636efa",
           "#EF553B",
           "#00cc96",
           "#ab63fa",
           "#FFA15A",
           "#19d3f3",
           "#FF6692",
           "#B6E880",
           "#FF97FF",
           "#FECB52"
          ],
          "font": {
           "color": "#2a3f5f"
          },
          "geo": {
           "bgcolor": "white",
           "lakecolor": "white",
           "landcolor": "#E5ECF6",
           "showlakes": true,
           "showland": true,
           "subunitcolor": "white"
          },
          "hoverlabel": {
           "align": "left"
          },
          "hovermode": "closest",
          "mapbox": {
           "style": "light"
          },
          "paper_bgcolor": "white",
          "plot_bgcolor": "#E5ECF6",
          "polar": {
           "angularaxis": {
            "gridcolor": "white",
            "linecolor": "white",
            "ticks": ""
           },
           "bgcolor": "#E5ECF6",
           "radialaxis": {
            "gridcolor": "white",
            "linecolor": "white",
            "ticks": ""
           }
          },
          "scene": {
           "xaxis": {
            "backgroundcolor": "#E5ECF6",
            "gridcolor": "white",
            "gridwidth": 2,
            "linecolor": "white",
            "showbackground": true,
            "ticks": "",
            "zerolinecolor": "white"
           },
           "yaxis": {
            "backgroundcolor": "#E5ECF6",
            "gridcolor": "white",
            "gridwidth": 2,
            "linecolor": "white",
            "showbackground": true,
            "ticks": "",
            "zerolinecolor": "white"
           },
           "zaxis": {
            "backgroundcolor": "#E5ECF6",
            "gridcolor": "white",
            "gridwidth": 2,
            "linecolor": "white",
            "showbackground": true,
            "ticks": "",
            "zerolinecolor": "white"
           }
          },
          "shapedefaults": {
           "line": {
            "color": "#2a3f5f"
           }
          },
          "ternary": {
           "aaxis": {
            "gridcolor": "white",
            "linecolor": "white",
            "ticks": ""
           },
           "baxis": {
            "gridcolor": "white",
            "linecolor": "white",
            "ticks": ""
           },
           "bgcolor": "#E5ECF6",
           "caxis": {
            "gridcolor": "white",
            "linecolor": "white",
            "ticks": ""
           }
          },
          "title": {
           "x": 0.05
          },
          "xaxis": {
           "automargin": true,
           "gridcolor": "white",
           "linecolor": "white",
           "ticks": "",
           "title": {
            "standoff": 15
           },
           "zerolinecolor": "white",
           "zerolinewidth": 2
          },
          "yaxis": {
           "automargin": true,
           "gridcolor": "white",
           "linecolor": "white",
           "ticks": "",
           "title": {
            "standoff": 15
           },
           "zerolinecolor": "white",
           "zerolinewidth": 2
          }
         }
        },
        "title": {
         "text": "Random Forest Classification - Comprehensive Analysis Dashboard"
        },
        "xaxis": {
         "anchor": "y",
         "domain": [
          0,
          0.45
         ],
         "title": {
          "text": "Number of Estimators"
         }
        },
        "xaxis2": {
         "anchor": "y2",
         "domain": [
          0.55,
          1
         ],
         "title": {
          "text": "Feature Importance"
         }
        },
        "xaxis3": {
         "anchor": "y3",
         "domain": [
          0,
          0.45
         ],
         "title": {
          "text": "max_features Parameter"
         }
        },
        "xaxis4": {
         "anchor": "y4",
         "domain": [
          0.55,
          1
         ],
         "title": {
          "text": "Predicted Segment"
         }
        },
        "xaxis5": {
         "anchor": "y5",
         "domain": [
          0,
          0.45
         ],
         "title": {
          "text": "Gene Importance"
         }
        },
        "xaxis6": {
         "anchor": "y6",
         "domain": [
          0.55,
          1
         ],
         "title": {
          "text": "Number of Estimators"
         }
        },
        "yaxis": {
         "anchor": "x",
         "domain": [
          0.7777777777777778,
          1
         ],
         "title": {
          "text": "Accuracy Score"
         }
        },
        "yaxis2": {
         "anchor": "x2",
         "domain": [
          0.7777777777777778,
          1
         ],
         "title": {
          "text": "Features"
         }
        },
        "yaxis3": {
         "anchor": "x3",
         "domain": [
          0.3888888888888889,
          0.6111111111111112
         ],
         "title": {
          "text": "CV Score"
         }
        },
        "yaxis4": {
         "anchor": "x4",
         "domain": [
          0.3888888888888889,
          0.6111111111111112
         ],
         "title": {
          "text": "Actual Segment"
         }
        },
        "yaxis5": {
         "anchor": "x5",
         "domain": [
          0,
          0.22222222222222224
         ],
         "title": {
          "text": "Gene Names"
         }
        },
        "yaxis6": {
         "anchor": "x6",
         "domain": [
          0,
          0.22222222222222224
         ],
         "title": {
          "text": "Error Rate"
         }
        }
       }
      }
     },
     "metadata": {},
     "output_type": "display_data"
    }
   ],
   "source": [
    "# 4. COMPREHENSIVE RANDOM FOREST VISUALIZATION DASHBOARD\n",
    "print(\" 4. COMPREHENSIVE RANDOM FOREST VISUALIZATION DASHBOARD\")\n",
    "print(\"=\"*60)\n",
    "\n",
    "# Create comprehensive dashboard\n",
    "fig = make_subplots(\n",
    " rows=3, cols=2,\n",
    " subplot_titles=[\n",
    " 'Ensemble Size vs Performance',\n",
    " 'Feature Importance: Customer Segmentation',\n",
    " 'max_features Parameter Analysis',\n",
    " 'Confusion Matrix: Customer Segments',\n",
    " 'Gene Expression: Top Important Genes',\n",
    " 'OOB Error vs Training Error'\n",
    " ],\n",
    " specs=[[{\"secondary_y\": False}, {\"secondary_y\": False}],\n",
    " [{\"secondary_y\": False}, {\"type\": \"heatmap\"}],\n",
    " [{\"secondary_y\": False}, {\"secondary_y\": False}]]\n",
    ")\n",
    "\n",
    "# 1. Ensemble size analysis\n",
    "fig.add_trace(\n",
    " go.Scatter(\n",
    " x=n_estimators_range,\n",
    " y=train_scores,\n",
    " mode='lines+markers',\n",
    " name='Training Score',\n",
    " line=dict(color='blue')\n",
    " ),\n",
    " row=1, col=1\n",
    ")\n",
    "\n",
    "fig.add_trace(\n",
    " go.Scatter(\n",
    " x=n_estimators_range,\n",
    " y=test_scores,\n",
    " mode='lines+markers',\n",
    " name='Test Score',\n",
    " line=dict(color='red')\n",
    " ),\n",
    " row=1, col=1\n",
    ")\n",
    "\n",
    "fig.add_trace(\n",
    " go.Scatter(\n",
    " x=n_estimators_range,\n",
    " y=oob_scores,\n",
    " mode='lines+markers',\n",
    " name='OOB Score',\n",
    " line=dict(color='green')\n",
    " ),\n",
    " row=1, col=1\n",
    ")\n",
    "\n",
    "# 2. Feature importance\n",
    "top_features = feature_importance.head(15)\n",
    "fig.add_trace(\n",
    " go.Bar(\n",
    " x=top_features['importance'],\n",
    " y=top_features['feature'],\n",
    " orientation='h',\n",
    " marker_color='forestgreen',\n",
    " name='Feature Importance'\n",
    " ),\n",
    " row=1, col=2\n",
    ")\n",
    "\n",
    "# 3. max_features analysis\n",
    "fig.add_trace(\n",
    " go.Bar(\n",
    " x=[str(x) for x in max_features_options],\n",
    " y=max_features_scores,\n",
    " marker_color='lightblue',\n",
    " name='CV Score'\n",
    " ),\n",
    " row=2, col=1\n",
    ")\n",
    "\n",
    "# 4. Confusion matrix\n",
    "cm_customer = confusion_matrix(y_cust_test, y_pred_optimized)\n",
    "segments = ['Budget', 'Standard', 'Premium', 'Enterprise']\n",
    "\n",
    "fig.add_trace(\n",
    " go.Heatmap(\n",
    " z=cm_customer,\n",
    " x=segments,\n",
    " y=segments,\n",
    " colorscale='Blues',\n",
    " text=cm_customer,\n",
    " texttemplate='%{text}',\n",
    " hovertemplate='Predicted: %{x}<br>Actual: %{y}<br>Count: %{z}<extra></extra>'\n",
    " ),\n",
    " row=2, col=2\n",
    ")\n",
    "\n",
    "# 5. Gene importance\n",
    "top_genes_plot = gene_importance.head(15)\n",
    "fig.add_trace(\n",
    " go.Bar(\n",
    " x=top_genes_plot['importance'],\n",
    " y=top_genes_plot['gene'],\n",
    " orientation='h',\n",
    " marker_color='orange',\n",
    " name='Gene Importance'\n",
    " ),\n",
    " row=3, col=1\n",
    ")\n",
    "\n",
    "# 6. Training vs OOB error comparison\n",
    "error_train = [1 - score for score in train_scores]\n",
    "error_oob = [1 - score for score in oob_scores]\n",
    "\n",
    "fig.add_trace(\n",
    " go.Scatter(\n",
    " x=n_estimators_range,\n",
    " y=error_train,\n",
    " mode='lines+markers',\n",
    " name='Training Error',\n",
    " line=dict(color='blue', dash='solid')\n",
    " ),\n",
    " row=3, col=2\n",
    ")\n",
    "\n",
    "fig.add_trace(\n",
    " go.Scatter(\n",
    " x=n_estimators_range,\n",
    " y=error_oob,\n",
    " mode='lines+markers',\n",
    " name='OOB Error',\n",
    " line=dict(color='red', dash='dash')\n",
    " ),\n",
    " row=3, col=2\n",
    ")\n",
    "\n",
    "# Update layout\n",
    "fig.update_layout(\n",
    " height=1200,\n",
    " title=\"Random Forest Classification - Comprehensive Analysis Dashboard\",\n",
    " showlegend=True\n",
    ")\n",
    "\n",
    "# Update axis labels\n",
    "fig.update_xaxes(title_text=\"Number of Estimators\", row=1, col=1)\n",
    "fig.update_xaxes(title_text=\"Feature Importance\", row=1, col=2)\n",
    "fig.update_xaxes(title_text=\"max_features Parameter\", row=2, col=1)\n",
    "fig.update_xaxes(title_text=\"Predicted Segment\", row=2, col=2)\n",
    "fig.update_xaxes(title_text=\"Gene Importance\", row=3, col=1)\n",
    "fig.update_xaxes(title_text=\"Number of Estimators\", row=3, col=2)\n",
    "\n",
    "fig.update_yaxes(title_text=\"Accuracy Score\", row=1, col=1)\n",
    "fig.update_yaxes(title_text=\"Features\", row=1, col=2)\n",
    "fig.update_yaxes(title_text=\"CV Score\", row=2, col=1)\n",
    "fig.update_yaxes(title_text=\"Actual Segment\", row=2, col=2)\n",
    "fig.update_yaxes(title_text=\"Gene Names\", row=3, col=1)\n",
    "fig.update_yaxes(title_text=\"Error Rate\", row=3, col=2)\n",
    "\n",
    "fig.show()"
   ]
  },
  {
   "cell_type": "code",
   "execution_count": 13,
   "id": "e77520fe",
   "metadata": {},
   "outputs": [
    {
     "name": "stdout",
     "output_type": "stream",
     "text": [
      " 5. BUSINESS INSIGHTS AND ROI ANALYSIS\n",
      "========================================\n",
      "Customer Segmentation System ROI:\n",
      "• Standard: 25,175 customers, $2,109,980 additional revenue\n",
      "• Budget: 25,025 customers, $466,091 additional revenue\n",
      "• Premium: 24,950 customers, $9,293,875 additional revenue\n",
      "• Enterprise: 24,850 customers, $40,729,150 additional revenue\n",
      "\n",
      "Customer Segmentation ROI Summary:\n",
      "• Total revenue improvement: $52,599,095/year\n",
      "• Implementation cost: $250,000\n",
      "• Annual operational cost: $80,000\n",
      "• Net annual benefit: $52,519,095\n",
      "• ROI: 20908%\n",
      "• Payback period: 0.1 months\n",
      "\n",
      "Biomedical Research Cost Savings:\n",
      "• Genes reduced from 200 to 20\n",
      "• Cost per gene analysis: $500\n",
      "• Analysis cost savings: $90,000 per study\n",
      "• Accuracy maintained: 0.955 vs 0.960\n",
      "• Dimensionality reduction: 90.0%\n",
      "\n",
      "Random Forest Key Advantages:\n",
      "• Handles high-dimensional data effectively\n",
      "• Provides feature importance for interpretability\n",
      "• Built-in cross-validation through OOB error\n",
      "• Resistant to overfitting with large ensembles\n",
      "• Handles missing values and categorical features\n",
      "• Parallelizable for fast training on large datasets\n",
      "\n",
      "Implementation Guidelines:\n",
      "• n_estimators: Start with 100, increase until OOB error stabilizes\n",
      "• max_features: Use 'sqrt' for classification, 'None' for small datasets\n",
      "• max_depth: Start with None, add constraints if overfitting occurs\n",
      "• min_samples_split: Increase (5-10) for noisy data\n",
      "• Feature selection: Use importance scores for dimensionality reduction\n",
      "\n",
      "Cross-Reference Learning Path:\n",
      "• Foundation: Tier2_DecisionTree.ipynb (tree fundamentals)\n",
      "• Building On: Tier2_RandomForest.ipynb (basic implementation)\n",
      "• Comparison: Tier5_GradientBoosting.ipynb (boosting vs bagging)\n",
      "• Advanced: Advanced_EnsembleClassification.ipynb, Advanced_FeatureSelection.ipynb\n"
     ]
    }
   ],
   "source": [
    "# 5. BUSINESS INSIGHTS AND ROI ANALYSIS\n",
    "print(\" 5. BUSINESS INSIGHTS AND ROI ANALYSIS\")\n",
    "print(\"=\"*40)\n",
    "\n",
    "# Customer segmentation business impact\n",
    "print(\"Customer Segmentation System ROI:\")\n",
    "total_customers = 100000 # Total customer base\n",
    "segmentation_accuracy = optimized_accuracy\n",
    "\n",
    "# Revenue impact by segment\n",
    "segment_revenues = {\n",
    " 'Budget': 1000,\n",
    " 'Standard': 3000,\n",
    " 'Premium': 8000,\n",
    " 'Enterprise': 22000\n",
    "}\n",
    "\n",
    "# Calculate improved targeting efficiency\n",
    "baseline_conversion = 0.05 # 5% conversion without segmentation\n",
    "segment_conversion_improvement = {\n",
    " 'Budget': 0.02, # 2% improvement\n",
    " 'Standard': 0.03, # 3% improvement\n",
    " 'Premium': 0.05, # 5% improvement\n",
    " 'Enterprise': 0.08 # 8% improvement\n",
    "}\n",
    "\n",
    "# Calculate segment distribution\n",
    "segment_distribution = customer_df['segment'].value_counts(normalize=True).to_dict()\n",
    "\n",
    "total_revenue_improvement = 0\n",
    "for segment, proportion in segment_distribution.items():\n",
    "    customers_in_segment = total_customers * proportion\n",
    "    correctly_identified = customers_in_segment * segmentation_accuracy\n",
    "\n",
    "    base_revenue = correctly_identified * baseline_conversion * segment_revenues[segment]\n",
    "    improved_conversion = baseline_conversion + segment_conversion_improvement[segment]\n",
    "    improved_revenue = correctly_identified * improved_conversion * segment_revenues[segment]\n",
    "\n",
    "    segment_improvement = improved_revenue - base_revenue\n",
    "    total_revenue_improvement += segment_improvement\n",
    "\n",
    "    print(f\"• {segment}: {customers_in_segment:,.0f} customers, \"\n",
    "          f\"${segment_improvement:,.0f} additional revenue\")\n",
    "\n",
    "# System costs\n",
    "implementation_cost = 250000 # Initial development\n",
    "annual_operational_cost = 80000 # Maintenance and updates\n",
    "net_annual_benefit = total_revenue_improvement - annual_operational_cost\n",
    "roi = (net_annual_benefit - implementation_cost) / implementation_cost\n",
    "\n",
    "print(f\"\\nCustomer Segmentation ROI Summary:\")\n",
    "print(f\"• Total revenue improvement: ${total_revenue_improvement:,.0f}/year\")\n",
    "print(f\"• Implementation cost: ${implementation_cost:,.0f}\")\n",
    "print(f\"• Annual operational cost: ${annual_operational_cost:,.0f}\")\n",
    "print(f\"• Net annual benefit: ${net_annual_benefit:,.0f}\")\n",
    "print(f\"• ROI: {roi*100:.0f}%\")\n",
    "print(f\"• Payback period: {implementation_cost/net_annual_benefit*12:.1f} months\")\n",
    "\n",
    "# Gene expression analysis business impact\n",
    "print(f\"\\nBiomedical Research Cost Savings:\")\n",
    "total_genes_analyzed = len(gene_names)\n",
    "genes_selected = len(top_gene_names)\n",
    "cost_per_gene_analysis = 500 # Cost to analyze each gene\n",
    "\n",
    "baseline_analysis_cost = total_genes_analyzed * cost_per_gene_analysis\n",
    "reduced_analysis_cost = genes_selected * cost_per_gene_analysis\n",
    "cost_savings = baseline_analysis_cost - reduced_analysis_cost\n",
    "\n",
    "print(f\"• Genes reduced from {total_genes_analyzed} to {genes_selected}\")\n",
    "print(f\"• Cost per gene analysis: ${cost_per_gene_analysis}\")\n",
    "print(f\"• Analysis cost savings: ${cost_savings:,.0f} per study\")\n",
    "print(f\"• Accuracy maintained: {gene_reduced_accuracy:.3f} vs {gene_accuracy:.3f}\")\n",
    "print(f\"• Dimensionality reduction: {(1-genes_selected/total_genes_analyzed)*100:.1f}%\")\n",
    "\n",
    "# Random Forest advantages summary\n",
    "print(f\"\\nRandom Forest Key Advantages:\")\n",
    "print(f\"• Handles high-dimensional data effectively\")\n",
    "print(f\"• Provides feature importance for interpretability\")\n",
    "print(f\"• Built-in cross-validation through OOB error\")\n",
    "print(f\"• Resistant to overfitting with large ensembles\")\n",
    "print(f\"• Handles missing values and categorical features\")\n",
    "print(f\"• Parallelizable for fast training on large datasets\")\n",
    "\n",
    "print(f\"\\nImplementation Guidelines:\")\n",
    "print(f\"• n_estimators: Start with 100, increase until OOB error stabilizes\")\n",
    "print(f\"• max_features: Use 'sqrt' for classification, 'None' for small datasets\")\n",
    "print(f\"• max_depth: Start with None, add constraints if overfitting occurs\")\n",
    "print(f\"• min_samples_split: Increase (5-10) for noisy data\")\n",
    "print(f\"• Feature selection: Use importance scores for dimensionality reduction\")\n",
    "\n",
    "print(f\"\\nCross-Reference Learning Path:\")\n",
    "print(f\"• Foundation: Tier2_DecisionTree.ipynb (tree fundamentals)\")\n",
    "print(f\"• Building On: Tier2_RandomForest.ipynb (basic implementation)\")\n",
    "print(f\"• Comparison: Tier5_GradientBoosting.ipynb (boosting vs bagging)\")\n",
    "print(f\"• Advanced: Advanced_EnsembleClassification.ipynb, Advanced_FeatureSelection.ipynb\")"
   ]
  }
 ],
 "metadata": {
  "kernelspec": {
   "display_name": ".venv",
   "language": "python",
   "name": "python3"
  },
  "language_info": {
   "codemirror_mode": {
    "name": "ipython",
    "version": 3
   },
   "file_extension": ".py",
   "mimetype": "text/x-python",
   "name": "python",
   "nbconvert_exporter": "python",
   "pygments_lexer": "ipython3",
   "version": "3.13.7"
  }
 },
 "nbformat": 4,
 "nbformat_minor": 5
}
