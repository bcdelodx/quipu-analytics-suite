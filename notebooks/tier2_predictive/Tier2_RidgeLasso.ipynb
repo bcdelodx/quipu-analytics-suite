{
 "cells": [
  {
   "cell_type": "markdown",
   "metadata": {},
   "source": [
    "# Tier 2: Ridge & Lasso Regression\n",
    "\n",
    "---\n",
    "\n",
    "**Author:** Brandon Deloatch\n",
    "**Affiliation:** Quipu Research Labs, LLC\n",
    "**Date:** 2025-10-02\n",
    "**Version:** v1.3\n",
    "**License:** MIT\n",
    "**Notebook ID:** 56f0a5c5-f6a1-4ea3-ba51-bf3222d84127\n",
    "\n",
    "---\n",
    "\n",
    "## Citation\n",
    "Brandon Deloatch, \"Tier 2: Ridge & Lasso Regression,\" Quipu Research Labs, LLC, v1.3, 2025-10-02.\n",
    "\n",
    "Please cite this notebook if used or adapted in publications, presentations, or derivative work.\n",
    "\n",
    "---\n",
    "\n",
    "## Contributors / Acknowledgments\n",
    "- **Primary Author:** Brandon Deloatch (Quipu Research Labs, LLC)\n",
    "- **Institutional Support:** Quipu Research Labs, LLC - Advanced Analytics Division\n",
    "- **Technical Framework:** Built on scikit-learn, pandas, numpy, and plotly ecosystems\n",
    "- **Methodological Foundation:** Statistical learning principles and modern data science best practices\n",
    "\n",
    "---\n",
    "\n",
    "## Version History\n",
    "| Version | Date | Notes |\n",
    "|---------|------|-------|\n",
    "| v1.3 | 2025-10-02 | Enhanced professional formatting, comprehensive documentation, interactive visualizations |\n",
    "| v1.2 | 2024-09-15 | Updated analysis methods, improved data generation algorithms |\n",
    "| v1.0 | 2024-06-10 | Initial release with core analytical framework |\n",
    "\n",
    "---\n",
    "\n",
    "## Environment Dependencies\n",
    "- **Python:** 3.8+\n",
    "- **Core Libraries:** pandas 2.0+, numpy 1.24+, scikit-learn 1.3+\n",
    "- **Visualization:** plotly 5.0+, matplotlib 3.7+\n",
    "- **Statistical:** scipy 1.10+, statsmodels 0.14+\n",
    "- **Development:** jupyter-lab 4.0+, ipywidgets 8.0+\n",
    "\n",
    "> **Reproducibility Note:** Use requirements.txt or environment.yml for exact dependency matching.\n",
    "\n",
    "---\n",
    "\n",
    "## Data Provenance\n",
    "| Dataset | Source | License | Notes |\n",
    "|---------|--------|---------|-------|\n",
    "| Synthetic Data | Generated in-notebook | MIT | Custom algorithms for realistic simulation |\n",
    "| Statistical Distributions | NumPy/SciPy | BSD-3-Clause | Standard library implementations |\n",
    "| ML Algorithms | Scikit-learn | BSD-3-Clause | Industry-standard implementations |\n",
    "| Visualization Schemas | Plotly | MIT | Interactive dashboard frameworks |\n",
    "\n",
    "---\n",
    "\n",
    "## Execution Provenance Logs\n",
    "- **Created:** 2025-10-02\n",
    "- **Notebook ID:** 56f0a5c5-f6a1-4ea3-ba51-bf3222d84127\n",
    "- **Execution Environment:** Jupyter Lab / VS Code\n",
    "- **Computational Requirements:** Standard laptop/workstation (2GB+ RAM recommended)\n",
    "\n",
    "> **Auto-tracking:** Execution metadata can be programmatically captured for reproducibility.\n",
    "\n",
    "---\n",
    "\n",
    "## Disclaimer & Responsible Use\n",
    "This notebook is provided \"as-is\" for educational, research, and professional development purposes. Users assume full responsibility for any results, applications, or decisions derived from this analysis.\n",
    "\n",
    "**Professional Standards:**\n",
    "- Validate all results against domain expertise and additional data sources\n",
    "- Respect licensing and attribution requirements for all dependencies\n",
    "- Follow ethical guidelines for data analysis and algorithmic decision-making\n",
    "- Credit all methodological sources and derivative frameworks appropriately\n",
    "\n",
    "**Academic & Commercial Use:**\n",
    "- Permitted under MIT license with proper attribution\n",
    "- Suitable for educational curriculum and professional training\n",
    "- Appropriate for commercial adaptation with citation requirements\n",
    "- Recommended for reproducible research and transparent analytics\n",
    "\n",
    "---\n",
    "\n"
   ]
  },
  {
   "cell_type": "code",
   "execution_count": 1,
   "id": "8f180bc9",
   "metadata": {},
   "outputs": [
    {
     "name": "stdout",
     "output_type": "stream",
     "text": [
      " Tier 2: Ridge & Lasso Regression - Libraries Loaded Successfully!\n",
      "======================================================================\n",
      "Available Regularization Techniques:\n",
      "• Ridge Regression (L2) - Shrinks coefficients toward zero\n",
      "• Lasso Regression (L1) - Automatic feature selection\n",
      "• Elastic Net - Combines L1 + L2 regularization\n",
      "• Cross-Validation - Optimal hyperparameter selection\n",
      "• Regularization Path - Coefficient evolution analysis\n",
      "• Feature Importance - Variable significance ranking\n"
     ]
    }
   ],
   "source": [
    "# Import Essential Libraries\n",
    "import pandas as pd\n",
    "import numpy as np\n",
    "import matplotlib.pyplot as plt\n",
    "import seaborn as sns\n",
    "import plotly.express as px\n",
    "import plotly.graph_objects as go\n",
    "from plotly.subplots import make_subplots\n",
    "import plotly.figure_factory as ff\n",
    "\n",
    "# Scikit-learn imports\n",
    "from sklearn.linear_model import LinearRegression, Ridge, Lasso, ElasticNet\n",
    "from sklearn.model_selection import train_test_split, cross_val_score, GridSearchCV\n",
    "from sklearn.preprocessing import StandardScaler, PolynomialFeatures\n",
    "from sklearn.metrics import mean_squared_error, r2_score, mean_absolute_error\n",
    "from sklearn.pipeline import Pipeline\n",
    "from sklearn.feature_selection import SelectKBest, f_regression\n",
    "\n",
    "# Statistical libraries\n",
    "import scipy.stats as stats\n",
    "from scipy.optimize import minimize_scalar\n",
    "\n",
    "import warnings\n",
    "warnings.filterwarnings('ignore')\n",
    "\n",
    "print(\" Tier 2: Ridge & Lasso Regression - Libraries Loaded Successfully!\")\n",
    "print(\"=\" * 70)\n",
    "print(\"Available Regularization Techniques:\")\n",
    "print(\"• Ridge Regression (L2) - Shrinks coefficients toward zero\")\n",
    "print(\"• Lasso Regression (L1) - Automatic feature selection\")\n",
    "print(\"• Elastic Net - Combines L1 + L2 regularization\")\n",
    "print(\"• Cross-Validation - Optimal hyperparameter selection\")\n",
    "print(\"• Regularization Path - Coefficient evolution analysis\")\n",
    "print(\"• Feature Importance - Variable significance ranking\")"
   ]
  },
  {
   "cell_type": "code",
   "execution_count": 2,
   "id": "0d81efba",
   "metadata": {},
   "outputs": [
    {
     "name": "stdout",
     "output_type": "stream",
     "text": [
      " Generating regularization demonstration dataset...\n",
      "Dataset Shape: (1000, 55)\n",
      "Informative Features: 15\n",
      "Noise Features: 35\n",
      "\n",
      "Dataset Overview:\n",
      "   Important_1  Important_2  Important_3  Important_4  Important_5  \\\n",
      "0     0.496714    -0.138264     0.647689     1.523030    -0.234153   \n",
      "1    -0.562288    -1.012831     0.314247    -0.908024    -1.412304   \n",
      "2    -0.601707     1.852278    -0.013497    -1.057711     0.822545   \n",
      "3    -0.719844    -0.460639     1.057122     0.343618    -1.763040   \n",
      "4    -0.479174    -0.185659    -1.106335    -1.196207     0.812526   \n",
      "\n",
      "   Important_6  Important_7  Important_8  Important_9  Important_10  ...  \\\n",
      "0    -0.234137     1.579213     0.767435    -0.469474      0.542560  ...   \n",
      "1     1.465649    -0.225776     0.067528    -1.424748     -0.544383  ...   \n",
      "2    -1.220844     0.208864    -1.959670    -1.328186      0.196861  ...   \n",
      "3     0.324084    -0.385082    -0.676922     0.611676      1.031000  ...   \n",
      "4     1.356240    -0.072010     1.003533     0.361636     -0.645120  ...   \n",
      "\n",
      "   Noise_31  Noise_32  Noise_33  Noise_34  Noise_35     target  \\\n",
      "0 -0.959732 -1.663690  0.557030  1.744010 -0.996045  17.206619   \n",
      "1  0.650490  0.664552  0.774773 -0.368333 -0.480360 -20.375267   \n",
      "2  1.472984 -1.420302  0.917367 -1.517073  0.601237   1.148406   \n",
      "3  1.780453 -0.537406  0.774626  0.305960  1.295998  -6.521342   \n",
      "4 -0.141584  1.770642 -1.133946  0.080385  2.203310  -8.406500   \n",
      "\n",
      "   marketing_spend  product_quality  customer_satisfaction  competition_index  \n",
      "0      5480.140402         7.416591               8.462853           5.040765  \n",
      "1      3927.992163         6.163409               7.869565           5.021759  \n",
      "2      4233.161368         7.573954               7.661749           5.314566  \n",
      "3      4627.245330         6.970567               8.582708           4.673105  \n",
      "4      4749.767720         7.166134               7.544627           4.813574  \n",
      "\n",
      "[5 rows x 55 columns]\n",
      "\n",
      "Basic Statistics:\n",
      "       Important_1  Important_2  Important_3  Important_4  Important_5  \\\n",
      "count     1000.000     1000.000     1000.000     1000.000     1000.000   \n",
      "mean        -0.019       -0.008       -0.002       -0.000        0.006   \n",
      "std          1.037        1.021        0.972        0.989        0.988   \n",
      "min         -3.221       -3.330       -3.034       -2.967       -2.929   \n",
      "25%         -0.706       -0.717       -0.638       -0.649       -0.658   \n",
      "50%         -0.004       -0.013       -0.032        0.022       -0.001   \n",
      "75%          0.660        0.666        0.625        0.638        0.713   \n",
      "max          3.926        2.985        3.140        3.284        3.288   \n",
      "\n",
      "       Important_6  Important_7  Important_8  Important_9  Important_10  ...  \\\n",
      "count     1000.000     1000.000     1000.000     1000.000      1000.000  ...   \n",
      "mean         0.005        0.014       -0.026       -0.072         0.027  ...   \n",
      "std          1.024        0.990        1.027        0.966         0.968  ...   \n",
      "min         -3.922       -3.688       -3.241       -2.703        -3.177  ...   \n",
      "25%         -0.649       -0.612       -0.733       -0.755        -0.630  ...   \n",
      "50%          0.019        0.018       -0.011       -0.051        -0.012  ...   \n",
      "75%          0.712        0.619        0.643        0.561         0.710  ...   \n",
      "max          2.993        3.529        3.152        3.118         2.621  ...   \n",
      "\n",
      "       Noise_31  Noise_32  Noise_33  Noise_34  Noise_35    target  \\\n",
      "count  1000.000  1000.000  1000.000  1000.000  1000.000  1000.000   \n",
      "mean      0.027    -0.033    -0.016    -0.001     0.026    -0.249   \n",
      "std       0.997     0.974     1.018     1.002     1.025    16.005   \n",
      "min      -3.067    -2.895    -3.339    -3.308    -3.533   -54.422   \n",
      "25%      -0.699    -0.673    -0.682    -0.687    -0.650   -11.200   \n",
      "50%       0.028    -0.034    -0.010    -0.006     0.019    -0.554   \n",
      "75%       0.724     0.623     0.693     0.691     0.736    10.338   \n",
      "max       2.956     2.824     2.936     2.801     3.066    45.530   \n",
      "\n",
      "       marketing_spend  product_quality  customer_satisfaction  \\\n",
      "count         1000.000         1000.000               1000.000   \n",
      "mean          4979.533            7.003                  7.998   \n",
      "std           1054.501            0.600                  0.363   \n",
      "min           1511.997            5.227                  6.927   \n",
      "25%           4252.855            6.597                  7.755   \n",
      "50%           4999.639            7.008                  7.998   \n",
      "75%           5696.446            7.424                  8.225   \n",
      "max           8785.431            8.924                  9.171   \n",
      "\n",
      "       competition_index  \n",
      "count           1000.000  \n",
      "mean               5.027  \n",
      "std                0.551  \n",
      "min                3.168  \n",
      "25%                4.649  \n",
      "50%                5.032  \n",
      "75%                5.381  \n",
      "max                6.635  \n",
      "\n",
      "[8 rows x 55 columns]\n"
     ]
    }
   ],
   "source": [
    "# Generate Comprehensive Dataset for Regularization Demonstration\n",
    "np.random.seed(42)\n",
    "\n",
    "def generate_regularization_dataset(n_samples=1000, n_features=50, n_informative=15, noise_level=0.1):\n",
    " \"\"\"\n",
    " Generate dataset with varying feature importance levels for regularization analysis\n",
    " \"\"\"\n",
    "\n",
    " # Create informative features with different importance levels\n",
    " X_informative = np.random.randn(n_samples, n_informative)\n",
    "\n",
    " # True coefficients with decreasing importance\n",
    " true_coefficients = np.array([10, 8, 6, 5, 4, 3, 2, 1.5, 1, 0.8, 0.6, 0.4, 0.3, 0.2, 0.1])\n",
    "\n",
    " # Generate target variable from informative features\n",
    " y_signal = X_informative @ true_coefficients\n",
    "\n",
    " # Add noise features (should be eliminated by Lasso)\n",
    " X_noise = np.random.randn(n_samples, n_features - n_informative)\n",
    "\n",
    " # Combine informative and noise features\n",
    " X = np.hstack([X_informative, X_noise])\n",
    "\n",
    " # Add noise to target\n",
    " noise = np.random.normal(0, noise_level * np.std(y_signal), n_samples)\n",
    " y = y_signal + noise\n",
    "\n",
    " # Create feature names\n",
    " feature_names = ([f'Important_{i+1}' for i in range(n_informative)] +\n",
    " [f'Noise_{i+1}' for i in range(n_features - n_informative)])\n",
    "\n",
    " # Create DataFrame\n",
    " df = pd.DataFrame(X, columns=feature_names)\n",
    " df['target'] = y\n",
    "\n",
    " # Add some business context variables\n",
    " df['marketing_spend'] = df['Important_1'] * 1000 + 5000 + np.random.normal(0, 200, n_samples)\n",
    " df['product_quality'] = df['Important_2'] * 0.5 + 7 + np.random.normal(0, 0.3, n_samples)\n",
    " df['customer_satisfaction'] = df['Important_3'] * 0.3 + 8 + np.random.normal(0, 0.2, n_samples)\n",
    " df['competition_index'] = -df['Important_4'] * 0.2 + 5 + np.random.normal(0, 0.5, n_samples)\n",
    "\n",
    " return df, true_coefficients, feature_names\n",
    "\n",
    "# Generate dataset\n",
    "print(\" Generating regularization demonstration dataset...\")\n",
    "df, true_coefficients, feature_names = generate_regularization_dataset()\n",
    "\n",
    "print(f\"Dataset Shape: {df.shape}\")\n",
    "print(f\"Informative Features: {len([f for f in feature_names if 'Important' in f])}\")\n",
    "print(f\"Noise Features: {len([f for f in feature_names if 'Noise' in f])}\")\n",
    "\n",
    "print(\"\\nDataset Overview:\")\n",
    "print(df.head())\n",
    "print(\"\\nBasic Statistics:\")\n",
    "print(df.describe().round(3))"
   ]
  },
  {
   "cell_type": "code",
   "execution_count": 3,
   "id": "4efcb990",
   "metadata": {},
   "outputs": [
    {
     "name": "stdout",
     "output_type": "stream",
     "text": [
      " 1. DATA PREPARATION AND FEATURE ANALYSIS\n",
      "=============================================\n",
      "Training set: (800, 54)\n",
      "Test set: (200, 54)\n"
     ]
    },
    {
     "data": {
      "application/vnd.plotly.v1+json": {
       "config": {
        "plotlyServerURL": "https://plot.ly"
       },
       "data": [
        {
         "colorscale": [
          [
           0,
           "rgb(5,48,97)"
          ],
          [
           0.1,
           "rgb(33,102,172)"
          ],
          [
           0.2,
           "rgb(67,147,195)"
          ],
          [
           0.3,
           "rgb(146,197,222)"
          ],
          [
           0.4,
           "rgb(209,229,240)"
          ],
          [
           0.5,
           "rgb(247,247,247)"
          ],
          [
           0.6,
           "rgb(253,219,199)"
          ],
          [
           0.7,
           "rgb(244,165,130)"
          ],
          [
           0.8,
           "rgb(214,96,77)"
          ],
          [
           0.9,
           "rgb(178,24,43)"
          ],
          [
           1,
           "rgb(103,0,31)"
          ]
         ],
         "hoverongaps": false,
         "text": {
          "bdata": "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",
          "dtype": "f8",
          "shape": "20, 20"
         },
         "textfont": {
          "size": 8
         },
         "texttemplate": "%{text}",
         "type": "heatmap",
         "x": [
          "Important_1",
          "Important_2",
          "Important_3",
          "Important_4",
          "Important_5",
          "Important_6",
          "Important_7",
          "Important_8",
          "Important_9",
          "Important_10",
          "Important_11",
          "Important_12",
          "Important_13",
          "Important_14",
          "Important_15",
          "Noise_1",
          "Noise_2",
          "Noise_3",
          "Noise_4",
          "Noise_5"
         ],
         "y": [
          "Important_1",
          "Important_2",
          "Important_3",
          "Important_4",
          "Important_5",
          "Important_6",
          "Important_7",
          "Important_8",
          "Important_9",
          "Important_10",
          "Important_11",
          "Important_12",
          "Important_13",
          "Important_14",
          "Important_15",
          "Noise_1",
          "Noise_2",
          "Noise_3",
          "Noise_4",
          "Noise_5"
         ],
         "z": {
          "bdata": "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",
          "dtype": "f8",
          "shape": "20, 20"
         },
         "zmid": 0
        }
       ],
       "layout": {
        "height": 600,
        "template": {
         "data": {
          "bar": [
           {
            "error_x": {
             "color": "#2a3f5f"
            },
            "error_y": {
             "color": "#2a3f5f"
            },
            "marker": {
             "line": {
              "color": "#E5ECF6",
              "width": 0.5
             },
             "pattern": {
              "fillmode": "overlay",
              "size": 10,
              "solidity": 0.2
             }
            },
            "type": "bar"
           }
          ],
          "barpolar": [
           {
            "marker": {
             "line": {
              "color": "#E5ECF6",
              "width": 0.5
             },
             "pattern": {
              "fillmode": "overlay",
              "size": 10,
              "solidity": 0.2
             }
            },
            "type": "barpolar"
           }
          ],
          "carpet": [
           {
            "aaxis": {
             "endlinecolor": "#2a3f5f",
             "gridcolor": "white",
             "linecolor": "white",
             "minorgridcolor": "white",
             "startlinecolor": "#2a3f5f"
            },
            "baxis": {
             "endlinecolor": "#2a3f5f",
             "gridcolor": "white",
             "linecolor": "white",
             "minorgridcolor": "white",
             "startlinecolor": "#2a3f5f"
            },
            "type": "carpet"
           }
          ],
          "choropleth": [
           {
            "colorbar": {
             "outlinewidth": 0,
             "ticks": ""
            },
            "type": "choropleth"
           }
          ],
          "contour": [
           {
            "colorbar": {
             "outlinewidth": 0,
             "ticks": ""
            },
            "colorscale": [
             [
              0,
              "#0d0887"
             ],
             [
              0.1111111111111111,
              "#46039f"
             ],
             [
              0.2222222222222222,
              "#7201a8"
             ],
             [
              0.3333333333333333,
              "#9c179e"
             ],
             [
              0.4444444444444444,
              "#bd3786"
             ],
             [
              0.5555555555555556,
              "#d8576b"
             ],
             [
              0.6666666666666666,
              "#ed7953"
             ],
             [
              0.7777777777777778,
              "#fb9f3a"
             ],
             [
              0.8888888888888888,
              "#fdca26"
             ],
             [
              1,
              "#f0f921"
             ]
            ],
            "type": "contour"
           }
          ],
          "contourcarpet": [
           {
            "colorbar": {
             "outlinewidth": 0,
             "ticks": ""
            },
            "type": "contourcarpet"
           }
          ],
          "heatmap": [
           {
            "colorbar": {
             "outlinewidth": 0,
             "ticks": ""
            },
            "colorscale": [
             [
              0,
              "#0d0887"
             ],
             [
              0.1111111111111111,
              "#46039f"
             ],
             [
              0.2222222222222222,
              "#7201a8"
             ],
             [
              0.3333333333333333,
              "#9c179e"
             ],
             [
              0.4444444444444444,
              "#bd3786"
             ],
             [
              0.5555555555555556,
              "#d8576b"
             ],
             [
              0.6666666666666666,
              "#ed7953"
             ],
             [
              0.7777777777777778,
              "#fb9f3a"
             ],
             [
              0.8888888888888888,
              "#fdca26"
             ],
             [
              1,
              "#f0f921"
             ]
            ],
            "type": "heatmap"
           }
          ],
          "histogram": [
           {
            "marker": {
             "pattern": {
              "fillmode": "overlay",
              "size": 10,
              "solidity": 0.2
             }
            },
            "type": "histogram"
           }
          ],
          "histogram2d": [
           {
            "colorbar": {
             "outlinewidth": 0,
             "ticks": ""
            },
            "colorscale": [
             [
              0,
              "#0d0887"
             ],
             [
              0.1111111111111111,
              "#46039f"
             ],
             [
              0.2222222222222222,
              "#7201a8"
             ],
             [
              0.3333333333333333,
              "#9c179e"
             ],
             [
              0.4444444444444444,
              "#bd3786"
             ],
             [
              0.5555555555555556,
              "#d8576b"
             ],
             [
              0.6666666666666666,
              "#ed7953"
             ],
             [
              0.7777777777777778,
              "#fb9f3a"
             ],
             [
              0.8888888888888888,
              "#fdca26"
             ],
             [
              1,
              "#f0f921"
             ]
            ],
            "type": "histogram2d"
           }
          ],
          "histogram2dcontour": [
           {
            "colorbar": {
             "outlinewidth": 0,
             "ticks": ""
            },
            "colorscale": [
             [
              0,
              "#0d0887"
             ],
             [
              0.1111111111111111,
              "#46039f"
             ],
             [
              0.2222222222222222,
              "#7201a8"
             ],
             [
              0.3333333333333333,
              "#9c179e"
             ],
             [
              0.4444444444444444,
              "#bd3786"
             ],
             [
              0.5555555555555556,
              "#d8576b"
             ],
             [
              0.6666666666666666,
              "#ed7953"
             ],
             [
              0.7777777777777778,
              "#fb9f3a"
             ],
             [
              0.8888888888888888,
              "#fdca26"
             ],
             [
              1,
              "#f0f921"
             ]
            ],
            "type": "histogram2dcontour"
           }
          ],
          "mesh3d": [
           {
            "colorbar": {
             "outlinewidth": 0,
             "ticks": ""
            },
            "type": "mesh3d"
           }
          ],
          "parcoords": [
           {
            "line": {
             "colorbar": {
              "outlinewidth": 0,
              "ticks": ""
             }
            },
            "type": "parcoords"
           }
          ],
          "pie": [
           {
            "automargin": true,
            "type": "pie"
           }
          ],
          "scatter": [
           {
            "fillpattern": {
             "fillmode": "overlay",
             "size": 10,
             "solidity": 0.2
            },
            "type": "scatter"
           }
          ],
          "scatter3d": [
           {
            "line": {
             "colorbar": {
              "outlinewidth": 0,
              "ticks": ""
             }
            },
            "marker": {
             "colorbar": {
              "outlinewidth": 0,
              "ticks": ""
             }
            },
            "type": "scatter3d"
           }
          ],
          "scattercarpet": [
           {
            "marker": {
             "colorbar": {
              "outlinewidth": 0,
              "ticks": ""
             }
            },
            "type": "scattercarpet"
           }
          ],
          "scattergeo": [
           {
            "marker": {
             "colorbar": {
              "outlinewidth": 0,
              "ticks": ""
             }
            },
            "type": "scattergeo"
           }
          ],
          "scattergl": [
           {
            "marker": {
             "colorbar": {
              "outlinewidth": 0,
              "ticks": ""
             }
            },
            "type": "scattergl"
           }
          ],
          "scattermap": [
           {
            "marker": {
             "colorbar": {
              "outlinewidth": 0,
              "ticks": ""
             }
            },
            "type": "scattermap"
           }
          ],
          "scattermapbox": [
           {
            "marker": {
             "colorbar": {
              "outlinewidth": 0,
              "ticks": ""
             }
            },
            "type": "scattermapbox"
           }
          ],
          "scatterpolar": [
           {
            "marker": {
             "colorbar": {
              "outlinewidth": 0,
              "ticks": ""
             }
            },
            "type": "scatterpolar"
           }
          ],
          "scatterpolargl": [
           {
            "marker": {
             "colorbar": {
              "outlinewidth": 0,
              "ticks": ""
             }
            },
            "type": "scatterpolargl"
           }
          ],
          "scatterternary": [
           {
            "marker": {
             "colorbar": {
              "outlinewidth": 0,
              "ticks": ""
             }
            },
            "type": "scatterternary"
           }
          ],
          "surface": [
           {
            "colorbar": {
             "outlinewidth": 0,
             "ticks": ""
            },
            "colorscale": [
             [
              0,
              "#0d0887"
             ],
             [
              0.1111111111111111,
              "#46039f"
             ],
             [
              0.2222222222222222,
              "#7201a8"
             ],
             [
              0.3333333333333333,
              "#9c179e"
             ],
             [
              0.4444444444444444,
              "#bd3786"
             ],
             [
              0.5555555555555556,
              "#d8576b"
             ],
             [
              0.6666666666666666,
              "#ed7953"
             ],
             [
              0.7777777777777778,
              "#fb9f3a"
             ],
             [
              0.8888888888888888,
              "#fdca26"
             ],
             [
              1,
              "#f0f921"
             ]
            ],
            "type": "surface"
           }
          ],
          "table": [
           {
            "cells": {
             "fill": {
              "color": "#EBF0F8"
             },
             "line": {
              "color": "white"
             }
            },
            "header": {
             "fill": {
              "color": "#C8D4E3"
             },
             "line": {
              "color": "white"
             }
            },
            "type": "table"
           }
          ]
         },
         "layout": {
          "annotationdefaults": {
           "arrowcolor": "#2a3f5f",
           "arrowhead": 0,
           "arrowwidth": 1
          },
          "autotypenumbers": "strict",
          "coloraxis": {
           "colorbar": {
            "outlinewidth": 0,
            "ticks": ""
           }
          },
          "colorscale": {
           "diverging": [
            [
             0,
             "#8e0152"
            ],
            [
             0.1,
             "#c51b7d"
            ],
            [
             0.2,
             "#de77ae"
            ],
            [
             0.3,
             "#f1b6da"
            ],
            [
             0.4,
             "#fde0ef"
            ],
            [
             0.5,
             "#f7f7f7"
            ],
            [
             0.6,
             "#e6f5d0"
            ],
            [
             0.7,
             "#b8e186"
            ],
            [
             0.8,
             "#7fbc41"
            ],
            [
             0.9,
             "#4d9221"
            ],
            [
             1,
             "#276419"
            ]
           ],
           "sequential": [
            [
             0,
             "#0d0887"
            ],
            [
             0.1111111111111111,
             "#46039f"
            ],
            [
             0.2222222222222222,
             "#7201a8"
            ],
            [
             0.3333333333333333,
             "#9c179e"
            ],
            [
             0.4444444444444444,
             "#bd3786"
            ],
            [
             0.5555555555555556,
             "#d8576b"
            ],
            [
             0.6666666666666666,
             "#ed7953"
            ],
            [
             0.7777777777777778,
             "#fb9f3a"
            ],
            [
             0.8888888888888888,
             "#fdca26"
            ],
            [
             1,
             "#f0f921"
            ]
           ],
           "sequentialminus": [
            [
             0,
             "#0d0887"
            ],
            [
             0.1111111111111111,
             "#46039f"
            ],
            [
             0.2222222222222222,
             "#7201a8"
            ],
            [
             0.3333333333333333,
             "#9c179e"
            ],
            [
             0.4444444444444444,
             "#bd3786"
            ],
            [
             0.5555555555555556,
             "#d8576b"
            ],
            [
             0.6666666666666666,
             "#ed7953"
            ],
            [
             0.7777777777777778,
             "#fb9f3a"
            ],
            [
             0.8888888888888888,
             "#fdca26"
            ],
            [
             1,
             "#f0f921"
            ]
           ]
          },
          "colorway": [
           "#636efa",
           "#EF553B",
           "#00cc96",
           "#ab63fa",
           "#FFA15A",
           "#19d3f3",
           "#FF6692",
           "#B6E880",
           "#FF97FF",
           "#FECB52"
          ],
          "font": {
           "color": "#2a3f5f"
          },
          "geo": {
           "bgcolor": "white",
           "lakecolor": "white",
           "landcolor": "#E5ECF6",
           "showlakes": true,
           "showland": true,
           "subunitcolor": "white"
          },
          "hoverlabel": {
           "align": "left"
          },
          "hovermode": "closest",
          "mapbox": {
           "style": "light"
          },
          "paper_bgcolor": "white",
          "plot_bgcolor": "#E5ECF6",
          "polar": {
           "angularaxis": {
            "gridcolor": "white",
            "linecolor": "white",
            "ticks": ""
           },
           "bgcolor": "#E5ECF6",
           "radialaxis": {
            "gridcolor": "white",
            "linecolor": "white",
            "ticks": ""
           }
          },
          "scene": {
           "xaxis": {
            "backgroundcolor": "#E5ECF6",
            "gridcolor": "white",
            "gridwidth": 2,
            "linecolor": "white",
            "showbackground": true,
            "ticks": "",
            "zerolinecolor": "white"
           },
           "yaxis": {
            "backgroundcolor": "#E5ECF6",
            "gridcolor": "white",
            "gridwidth": 2,
            "linecolor": "white",
            "showbackground": true,
            "ticks": "",
            "zerolinecolor": "white"
           },
           "zaxis": {
            "backgroundcolor": "#E5ECF6",
            "gridcolor": "white",
            "gridwidth": 2,
            "linecolor": "white",
            "showbackground": true,
            "ticks": "",
            "zerolinecolor": "white"
           }
          },
          "shapedefaults": {
           "line": {
            "color": "#2a3f5f"
           }
          },
          "ternary": {
           "aaxis": {
            "gridcolor": "white",
            "linecolor": "white",
            "ticks": ""
           },
           "baxis": {
            "gridcolor": "white",
            "linecolor": "white",
            "ticks": ""
           },
           "bgcolor": "#E5ECF6",
           "caxis": {
            "gridcolor": "white",
            "linecolor": "white",
            "ticks": ""
           }
          },
          "title": {
           "x": 0.05
          },
          "xaxis": {
           "automargin": true,
           "gridcolor": "white",
           "linecolor": "white",
           "ticks": "",
           "title": {
            "standoff": 15
           },
           "zerolinecolor": "white",
           "zerolinewidth": 2
          },
          "yaxis": {
           "automargin": true,
           "gridcolor": "white",
           "linecolor": "white",
           "ticks": "",
           "title": {
            "standoff": 15
           },
           "zerolinecolor": "white",
           "zerolinewidth": 2
          }
         }
        },
        "title": {
         "text": "Feature Correlation Matrix (First 20 Features)"
        },
        "width": 800,
        "xaxis": {
         "title": {
          "text": "Features"
         }
        },
        "yaxis": {
         "title": {
          "text": "Features"
         }
        }
       }
      }
     },
     "metadata": {},
     "output_type": "display_data"
    },
    {
     "data": {
      "application/vnd.plotly.v1+json": {
       "config": {
        "plotlyServerURL": "https://plot.ly"
       },
       "data": [
        {
         "hovertemplate": "<b>%{x}</b><br>Correlation: %{y:.3f}<extra></extra>",
         "marker": {
          "color": [
           "red",
           "blue",
           "red",
           "blue",
           "red",
           "red",
           "red",
           "blue",
           "red",
           "blue",
           "red",
           "blue",
           "blue",
           "blue",
           "blue",
           "red",
           "blue",
           "blue",
           "red",
           "blue"
          ]
         },
         "name": "Feature Importance",
         "type": "bar",
         "x": [
          "Important_1",
          "marketing_spend",
          "Important_2",
          "product_quality",
          "Important_4",
          "Important_3",
          "Important_5",
          "customer_satisfaction",
          "Important_6",
          "competition_index",
          "Important_8",
          "Noise_24",
          "Noise_25",
          "Noise_10",
          "Noise_28",
          "Important_9",
          "Noise_8",
          "Noise_22",
          "Important_7",
          "Noise_18"
         ],
         "y": {
          "bdata": "BlKAkkqi5D8H387eWyjkPy6Ir+Y/7d0/eQOp8qSV2T9sjdZIiL/UP0OJ/ivYVtQ/WM+nKKKM0T829caP8AjQP5KHIuPDOcM/j+a6vd/Tvz/Tq8hGT0S4P8fZKmjVfbA/8bRubZUDrz/XSW+PBHauP4lH2VVq6qs/EnQc4qm1qz/H8RCcvGepP9eqU9RXWqY/ie+EEcP9pT8LvxDbQ9OlPw==",
          "dtype": "f8"
         }
        }
       ],
       "layout": {
        "height": 500,
        "template": {
         "data": {
          "bar": [
           {
            "error_x": {
             "color": "#2a3f5f"
            },
            "error_y": {
             "color": "#2a3f5f"
            },
            "marker": {
             "line": {
              "color": "#E5ECF6",
              "width": 0.5
             },
             "pattern": {
              "fillmode": "overlay",
              "size": 10,
              "solidity": 0.2
             }
            },
            "type": "bar"
           }
          ],
          "barpolar": [
           {
            "marker": {
             "line": {
              "color": "#E5ECF6",
              "width": 0.5
             },
             "pattern": {
              "fillmode": "overlay",
              "size": 10,
              "solidity": 0.2
             }
            },
            "type": "barpolar"
           }
          ],
          "carpet": [
           {
            "aaxis": {
             "endlinecolor": "#2a3f5f",
             "gridcolor": "white",
             "linecolor": "white",
             "minorgridcolor": "white",
             "startlinecolor": "#2a3f5f"
            },
            "baxis": {
             "endlinecolor": "#2a3f5f",
             "gridcolor": "white",
             "linecolor": "white",
             "minorgridcolor": "white",
             "startlinecolor": "#2a3f5f"
            },
            "type": "carpet"
           }
          ],
          "choropleth": [
           {
            "colorbar": {
             "outlinewidth": 0,
             "ticks": ""
            },
            "type": "choropleth"
           }
          ],
          "contour": [
           {
            "colorbar": {
             "outlinewidth": 0,
             "ticks": ""
            },
            "colorscale": [
             [
              0,
              "#0d0887"
             ],
             [
              0.1111111111111111,
              "#46039f"
             ],
             [
              0.2222222222222222,
              "#7201a8"
             ],
             [
              0.3333333333333333,
              "#9c179e"
             ],
             [
              0.4444444444444444,
              "#bd3786"
             ],
             [
              0.5555555555555556,
              "#d8576b"
             ],
             [
              0.6666666666666666,
              "#ed7953"
             ],
             [
              0.7777777777777778,
              "#fb9f3a"
             ],
             [
              0.8888888888888888,
              "#fdca26"
             ],
             [
              1,
              "#f0f921"
             ]
            ],
            "type": "contour"
           }
          ],
          "contourcarpet": [
           {
            "colorbar": {
             "outlinewidth": 0,
             "ticks": ""
            },
            "type": "contourcarpet"
           }
          ],
          "heatmap": [
           {
            "colorbar": {
             "outlinewidth": 0,
             "ticks": ""
            },
            "colorscale": [
             [
              0,
              "#0d0887"
             ],
             [
              0.1111111111111111,
              "#46039f"
             ],
             [
              0.2222222222222222,
              "#7201a8"
             ],
             [
              0.3333333333333333,
              "#9c179e"
             ],
             [
              0.4444444444444444,
              "#bd3786"
             ],
             [
              0.5555555555555556,
              "#d8576b"
             ],
             [
              0.6666666666666666,
              "#ed7953"
             ],
             [
              0.7777777777777778,
              "#fb9f3a"
             ],
             [
              0.8888888888888888,
              "#fdca26"
             ],
             [
              1,
              "#f0f921"
             ]
            ],
            "type": "heatmap"
           }
          ],
          "histogram": [
           {
            "marker": {
             "pattern": {
              "fillmode": "overlay",
              "size": 10,
              "solidity": 0.2
             }
            },
            "type": "histogram"
           }
          ],
          "histogram2d": [
           {
            "colorbar": {
             "outlinewidth": 0,
             "ticks": ""
            },
            "colorscale": [
             [
              0,
              "#0d0887"
             ],
             [
              0.1111111111111111,
              "#46039f"
             ],
             [
              0.2222222222222222,
              "#7201a8"
             ],
             [
              0.3333333333333333,
              "#9c179e"
             ],
             [
              0.4444444444444444,
              "#bd3786"
             ],
             [
              0.5555555555555556,
              "#d8576b"
             ],
             [
              0.6666666666666666,
              "#ed7953"
             ],
             [
              0.7777777777777778,
              "#fb9f3a"
             ],
             [
              0.8888888888888888,
              "#fdca26"
             ],
             [
              1,
              "#f0f921"
             ]
            ],
            "type": "histogram2d"
           }
          ],
          "histogram2dcontour": [
           {
            "colorbar": {
             "outlinewidth": 0,
             "ticks": ""
            },
            "colorscale": [
             [
              0,
              "#0d0887"
             ],
             [
              0.1111111111111111,
              "#46039f"
             ],
             [
              0.2222222222222222,
              "#7201a8"
             ],
             [
              0.3333333333333333,
              "#9c179e"
             ],
             [
              0.4444444444444444,
              "#bd3786"
             ],
             [
              0.5555555555555556,
              "#d8576b"
             ],
             [
              0.6666666666666666,
              "#ed7953"
             ],
             [
              0.7777777777777778,
              "#fb9f3a"
             ],
             [
              0.8888888888888888,
              "#fdca26"
             ],
             [
              1,
              "#f0f921"
             ]
            ],
            "type": "histogram2dcontour"
           }
          ],
          "mesh3d": [
           {
            "colorbar": {
             "outlinewidth": 0,
             "ticks": ""
            },
            "type": "mesh3d"
           }
          ],
          "parcoords": [
           {
            "line": {
             "colorbar": {
              "outlinewidth": 0,
              "ticks": ""
             }
            },
            "type": "parcoords"
           }
          ],
          "pie": [
           {
            "automargin": true,
            "type": "pie"
           }
          ],
          "scatter": [
           {
            "fillpattern": {
             "fillmode": "overlay",
             "size": 10,
             "solidity": 0.2
            },
            "type": "scatter"
           }
          ],
          "scatter3d": [
           {
            "line": {
             "colorbar": {
              "outlinewidth": 0,
              "ticks": ""
             }
            },
            "marker": {
             "colorbar": {
              "outlinewidth": 0,
              "ticks": ""
             }
            },
            "type": "scatter3d"
           }
          ],
          "scattercarpet": [
           {
            "marker": {
             "colorbar": {
              "outlinewidth": 0,
              "ticks": ""
             }
            },
            "type": "scattercarpet"
           }
          ],
          "scattergeo": [
           {
            "marker": {
             "colorbar": {
              "outlinewidth": 0,
              "ticks": ""
             }
            },
            "type": "scattergeo"
           }
          ],
          "scattergl": [
           {
            "marker": {
             "colorbar": {
              "outlinewidth": 0,
              "ticks": ""
             }
            },
            "type": "scattergl"
           }
          ],
          "scattermap": [
           {
            "marker": {
             "colorbar": {
              "outlinewidth": 0,
              "ticks": ""
             }
            },
            "type": "scattermap"
           }
          ],
          "scattermapbox": [
           {
            "marker": {
             "colorbar": {
              "outlinewidth": 0,
              "ticks": ""
             }
            },
            "type": "scattermapbox"
           }
          ],
          "scatterpolar": [
           {
            "marker": {
             "colorbar": {
              "outlinewidth": 0,
              "ticks": ""
             }
            },
            "type": "scatterpolar"
           }
          ],
          "scatterpolargl": [
           {
            "marker": {
             "colorbar": {
              "outlinewidth": 0,
              "ticks": ""
             }
            },
            "type": "scatterpolargl"
           }
          ],
          "scatterternary": [
           {
            "marker": {
             "colorbar": {
              "outlinewidth": 0,
              "ticks": ""
             }
            },
            "type": "scatterternary"
           }
          ],
          "surface": [
           {
            "colorbar": {
             "outlinewidth": 0,
             "ticks": ""
            },
            "colorscale": [
             [
              0,
              "#0d0887"
             ],
             [
              0.1111111111111111,
              "#46039f"
             ],
             [
              0.2222222222222222,
              "#7201a8"
             ],
             [
              0.3333333333333333,
              "#9c179e"
             ],
             [
              0.4444444444444444,
              "#bd3786"
             ],
             [
              0.5555555555555556,
              "#d8576b"
             ],
             [
              0.6666666666666666,
              "#ed7953"
             ],
             [
              0.7777777777777778,
              "#fb9f3a"
             ],
             [
              0.8888888888888888,
              "#fdca26"
             ],
             [
              1,
              "#f0f921"
             ]
            ],
            "type": "surface"
           }
          ],
          "table": [
           {
            "cells": {
             "fill": {
              "color": "#EBF0F8"
             },
             "line": {
              "color": "white"
             }
            },
            "header": {
             "fill": {
              "color": "#C8D4E3"
             },
             "line": {
              "color": "white"
             }
            },
            "type": "table"
           }
          ]
         },
         "layout": {
          "annotationdefaults": {
           "arrowcolor": "#2a3f5f",
           "arrowhead": 0,
           "arrowwidth": 1
          },
          "autotypenumbers": "strict",
          "coloraxis": {
           "colorbar": {
            "outlinewidth": 0,
            "ticks": ""
           }
          },
          "colorscale": {
           "diverging": [
            [
             0,
             "#8e0152"
            ],
            [
             0.1,
             "#c51b7d"
            ],
            [
             0.2,
             "#de77ae"
            ],
            [
             0.3,
             "#f1b6da"
            ],
            [
             0.4,
             "#fde0ef"
            ],
            [
             0.5,
             "#f7f7f7"
            ],
            [
             0.6,
             "#e6f5d0"
            ],
            [
             0.7,
             "#b8e186"
            ],
            [
             0.8,
             "#7fbc41"
            ],
            [
             0.9,
             "#4d9221"
            ],
            [
             1,
             "#276419"
            ]
           ],
           "sequential": [
            [
             0,
             "#0d0887"
            ],
            [
             0.1111111111111111,
             "#46039f"
            ],
            [
             0.2222222222222222,
             "#7201a8"
            ],
            [
             0.3333333333333333,
             "#9c179e"
            ],
            [
             0.4444444444444444,
             "#bd3786"
            ],
            [
             0.5555555555555556,
             "#d8576b"
            ],
            [
             0.6666666666666666,
             "#ed7953"
            ],
            [
             0.7777777777777778,
             "#fb9f3a"
            ],
            [
             0.8888888888888888,
             "#fdca26"
            ],
            [
             1,
             "#f0f921"
            ]
           ],
           "sequentialminus": [
            [
             0,
             "#0d0887"
            ],
            [
             0.1111111111111111,
             "#46039f"
            ],
            [
             0.2222222222222222,
             "#7201a8"
            ],
            [
             0.3333333333333333,
             "#9c179e"
            ],
            [
             0.4444444444444444,
             "#bd3786"
            ],
            [
             0.5555555555555556,
             "#d8576b"
            ],
            [
             0.6666666666666666,
             "#ed7953"
            ],
            [
             0.7777777777777778,
             "#fb9f3a"
            ],
            [
             0.8888888888888888,
             "#fdca26"
            ],
            [
             1,
             "#f0f921"
            ]
           ]
          },
          "colorway": [
           "#636efa",
           "#EF553B",
           "#00cc96",
           "#ab63fa",
           "#FFA15A",
           "#19d3f3",
           "#FF6692",
           "#B6E880",
           "#FF97FF",
           "#FECB52"
          ],
          "font": {
           "color": "#2a3f5f"
          },
          "geo": {
           "bgcolor": "white",
           "lakecolor": "white",
           "landcolor": "#E5ECF6",
           "showlakes": true,
           "showland": true,
           "subunitcolor": "white"
          },
          "hoverlabel": {
           "align": "left"
          },
          "hovermode": "closest",
          "mapbox": {
           "style": "light"
          },
          "paper_bgcolor": "white",
          "plot_bgcolor": "#E5ECF6",
          "polar": {
           "angularaxis": {
            "gridcolor": "white",
            "linecolor": "white",
            "ticks": ""
           },
           "bgcolor": "#E5ECF6",
           "radialaxis": {
            "gridcolor": "white",
            "linecolor": "white",
            "ticks": ""
           }
          },
          "scene": {
           "xaxis": {
            "backgroundcolor": "#E5ECF6",
            "gridcolor": "white",
            "gridwidth": 2,
            "linecolor": "white",
            "showbackground": true,
            "ticks": "",
            "zerolinecolor": "white"
           },
           "yaxis": {
            "backgroundcolor": "#E5ECF6",
            "gridcolor": "white",
            "gridwidth": 2,
            "linecolor": "white",
            "showbackground": true,
            "ticks": "",
            "zerolinecolor": "white"
           },
           "zaxis": {
            "backgroundcolor": "#E5ECF6",
            "gridcolor": "white",
            "gridwidth": 2,
            "linecolor": "white",
            "showbackground": true,
            "ticks": "",
            "zerolinecolor": "white"
           }
          },
          "shapedefaults": {
           "line": {
            "color": "#2a3f5f"
           }
          },
          "ternary": {
           "aaxis": {
            "gridcolor": "white",
            "linecolor": "white",
            "ticks": ""
           },
           "baxis": {
            "gridcolor": "white",
            "linecolor": "white",
            "ticks": ""
           },
           "bgcolor": "#E5ECF6",
           "caxis": {
            "gridcolor": "white",
            "linecolor": "white",
            "ticks": ""
           }
          },
          "title": {
           "x": 0.05
          },
          "xaxis": {
           "automargin": true,
           "gridcolor": "white",
           "linecolor": "white",
           "ticks": "",
           "title": {
            "standoff": 15
           },
           "zerolinecolor": "white",
           "zerolinewidth": 2
          },
          "yaxis": {
           "automargin": true,
           "gridcolor": "white",
           "linecolor": "white",
           "ticks": "",
           "title": {
            "standoff": 15
           },
           "zerolinecolor": "white",
           "zerolinewidth": 2
          }
         }
        },
        "title": {
         "text": "Feature Importance: Correlation with Target (Top 20)"
        },
        "xaxis": {
         "tickangle": -45,
         "title": {
          "text": "Features"
         }
        },
        "yaxis": {
         "title": {
          "text": "Absolute Correlation with Target"
         }
        }
       }
      }
     },
     "metadata": {},
     "output_type": "display_data"
    },
    {
     "name": "stdout",
     "output_type": "stream",
     "text": [
      " Feature Analysis Summary:\n",
      "• Strongest predictor: Important_1 (r=0.645)\n",
      "• Number of features with |r| > 0.1: 10\n",
      "• Number of features with |r| < 0.05: 38\n",
      "\n",
      " True vs Discovered Important Features:\n",
      "• True important features: 15\n",
      "• Discovered important features: 6\n",
      "• Discovery accuracy: 40.0%\n"
     ]
    }
   ],
   "source": [
    "# 1. DATA PREPARATION AND FEATURE ANALYSIS\n",
    "print(\" 1. DATA PREPARATION AND FEATURE ANALYSIS\")\n",
    "print(\"=\" * 45)\n",
    "\n",
    "# Prepare features and target\n",
    "feature_cols = [col for col in df.columns if col not in ['target']]\n",
    "X = df[feature_cols].values\n",
    "y = df['target'].values\n",
    "\n",
    "# Split data\n",
    "X_train, X_test, y_train, y_test = train_test_split(X, y, test_size=0.2, random_state=42)\n",
    "\n",
    "# Scale features (important for regularization)\n",
    "scaler = StandardScaler()\n",
    "X_train_scaled = scaler.fit_transform(X_train)\n",
    "X_test_scaled = scaler.transform(X_test)\n",
    "\n",
    "print(f\"Training set: {X_train.shape}\")\n",
    "print(f\"Test set: {X_test.shape}\")\n",
    "\n",
    "# Analyze feature correlations\n",
    "correlation_matrix = df[feature_cols].corr()\n",
    "\n",
    "# Create correlation heatmap\n",
    "fig_corr = go.Figure(data=go.Heatmap(\n",
    " z=correlation_matrix.values,\n",
    " x=correlation_matrix.columns,\n",
    " y=correlation_matrix.columns,\n",
    " colorscale='RdBu_r',\n",
    " zmid=0,\n",
    " text=correlation_matrix.round(2).values,\n",
    " texttemplate=\"%{text}\",\n",
    " textfont={\"size\": 8},\n",
    " hoverongaps=False\n",
    "))\n",
    "\n",
    "fig_corr.update_layout(\n",
    " title=\"Feature Correlation Matrix (First 20 Features)\",\n",
    " width=800,\n",
    " height=600,\n",
    " xaxis_title=\"Features\",\n",
    " yaxis_title=\"Features\"\n",
    ")\n",
    "\n",
    "# Show only first 20 features for readability\n",
    "if len(feature_cols) > 20:\n",
    " corr_subset = correlation_matrix.iloc[:20, :20]\n",
    " fig_corr.data[0].z = corr_subset.values\n",
    " fig_corr.data[0].x = corr_subset.columns\n",
    " fig_corr.data[0].y = corr_subset.columns\n",
    " fig_corr.data[0].text = corr_subset.round(2).values\n",
    "\n",
    "fig_corr.show()\n",
    "\n",
    "# Feature importance analysis using basic correlation with target\n",
    "feature_importance = pd.DataFrame({\n",
    " 'feature': feature_cols,\n",
    " 'correlation_with_target': [np.corrcoef(df[col], df['target'])[0,1] for col in feature_cols],\n",
    " 'abs_correlation': [abs(np.corrcoef(df[col], df['target'])[0,1]) for col in feature_cols]\n",
    "})\n",
    "\n",
    "feature_importance = feature_importance.sort_values('abs_correlation', ascending=False)\n",
    "\n",
    "# Plot feature importance\n",
    "fig_importance = go.Figure()\n",
    "\n",
    "# Color by feature type\n",
    "colors = ['red' if 'Important' in feat else 'blue' for feat in feature_importance['feature']]\n",
    "\n",
    "fig_importance.add_trace(\n",
    " go.Bar(\n",
    " x=feature_importance['feature'][:20], # Top 20 features\n",
    " y=feature_importance['abs_correlation'][:20],\n",
    " marker_color=colors[:20],\n",
    " name='Feature Importance',\n",
    " hovertemplate=\"<b>%{x}</b><br>Correlation: %{y:.3f}<extra></extra>\"\n",
    " )\n",
    ")\n",
    "\n",
    "fig_importance.update_layout(\n",
    " title=\"Feature Importance: Correlation with Target (Top 20)\",\n",
    " xaxis_title=\"Features\",\n",
    " yaxis_title=\"Absolute Correlation with Target\",\n",
    " height=500,\n",
    " xaxis_tickangle=-45\n",
    ")\n",
    "fig_importance.show()\n",
    "\n",
    "print(\" Feature Analysis Summary:\")\n",
    "print(f\"• Strongest predictor: {feature_importance.iloc[0]['feature']} (r={feature_importance.iloc[0]['correlation_with_target']:.3f})\")\n",
    "print(f\"• Number of features with |r| > 0.1: {(feature_importance['abs_correlation'] > 0.1).sum()}\")\n",
    "print(f\"• Number of features with |r| < 0.05: {(feature_importance['abs_correlation'] < 0.05).sum()}\")\n",
    "\n",
    "# Show true vs discovered important features\n",
    "print(f\"\\n True vs Discovered Important Features:\")\n",
    "important_features = feature_importance[feature_importance['abs_correlation'] > 0.1]['feature'].tolist()\n",
    "true_important = [f for f in feature_cols if 'Important' in f]\n",
    "discovered_important = [f for f in important_features if 'Important' in f]\n",
    "\n",
    "print(f\"• True important features: {len(true_important)}\")\n",
    "print(f\"• Discovered important features: {len(discovered_important)}\")\n",
    "print(f\"• Discovery accuracy: {len(discovered_important)/len(true_important):.1%}\")"
   ]
  },
  {
   "cell_type": "code",
   "execution_count": 5,
   "id": "abaa6d70",
   "metadata": {},
   "outputs": [
    {
     "name": "stdout",
     "output_type": "stream",
     "text": [
      "\n",
      " 2. BASELINE LINEAR REGRESSION ANALYSIS\n",
      "===========================================\n",
      " Linear Regression Performance:\n",
      "• Training MSE: 2.3493\n",
      "• Test MSE: 2.3528\n",
      "• Training R²: 0.9909\n",
      "• Test R²: 0.9903\n",
      "• Overfitting indicator: 0.0007\n"
     ]
    },
    {
     "data": {
      "application/vnd.plotly.v1+json": {
       "config": {
        "plotlyServerURL": "https://plot.ly"
       },
       "data": [
        {
         "hovertemplate": "<b>%{x}</b><br>|Coefficient|: %{y:.3f}<extra></extra>",
         "marker": {
          "color": [
           "red",
           "red",
           "red",
           "red",
           "red",
           "red",
           "red",
           "red",
           "red",
           "red",
           "red",
           "red",
           "red",
           "lightblue",
           "red",
           "lightblue",
           "lightblue",
           "lightblue",
           "lightblue",
           "lightblue"
          ]
         },
         "name": "Coefficient Magnitude",
         "type": "bar",
         "x": [
          "Important_1",
          "Important_2",
          "Important_3",
          "Important_4",
          "Important_5",
          "Important_6",
          "Important_7",
          "Important_8",
          "Important_9",
          "Important_10",
          "Important_11",
          "Important_12",
          "Important_13",
          "marketing_spend",
          "Important_14",
          "Noise_14",
          "Noise_6",
          "Noise_26",
          "Noise_25",
          "Noise_30"
         ],
         "y": {
          "bdata": "cTUK0HdqJECkNHBDv0YgQBL7f0LN8BdAMSJaZ40oFEBJWIktnPUOQI54ZU3W0QhAid5RhKdxAEDkOepXfu33P1Fe1uJPOPA/mKetdHlc6z+4WUk7Sx7jP3kUaPv3wNs/yM8mNW2z1D+usnPnyGvUP+S6amzXCdQ/8AZgXftxvT9gFBhaL4C5P+D4amNWJrg/0DbxPDtltz+YE69mfvC1Pw==",
          "dtype": "f8"
         }
        }
       ],
       "layout": {
        "height": 500,
        "template": {
         "data": {
          "bar": [
           {
            "error_x": {
             "color": "#2a3f5f"
            },
            "error_y": {
             "color": "#2a3f5f"
            },
            "marker": {
             "line": {
              "color": "#E5ECF6",
              "width": 0.5
             },
             "pattern": {
              "fillmode": "overlay",
              "size": 10,
              "solidity": 0.2
             }
            },
            "type": "bar"
           }
          ],
          "barpolar": [
           {
            "marker": {
             "line": {
              "color": "#E5ECF6",
              "width": 0.5
             },
             "pattern": {
              "fillmode": "overlay",
              "size": 10,
              "solidity": 0.2
             }
            },
            "type": "barpolar"
           }
          ],
          "carpet": [
           {
            "aaxis": {
             "endlinecolor": "#2a3f5f",
             "gridcolor": "white",
             "linecolor": "white",
             "minorgridcolor": "white",
             "startlinecolor": "#2a3f5f"
            },
            "baxis": {
             "endlinecolor": "#2a3f5f",
             "gridcolor": "white",
             "linecolor": "white",
             "minorgridcolor": "white",
             "startlinecolor": "#2a3f5f"
            },
            "type": "carpet"
           }
          ],
          "choropleth": [
           {
            "colorbar": {
             "outlinewidth": 0,
             "ticks": ""
            },
            "type": "choropleth"
           }
          ],
          "contour": [
           {
            "colorbar": {
             "outlinewidth": 0,
             "ticks": ""
            },
            "colorscale": [
             [
              0,
              "#0d0887"
             ],
             [
              0.1111111111111111,
              "#46039f"
             ],
             [
              0.2222222222222222,
              "#7201a8"
             ],
             [
              0.3333333333333333,
              "#9c179e"
             ],
             [
              0.4444444444444444,
              "#bd3786"
             ],
             [
              0.5555555555555556,
              "#d8576b"
             ],
             [
              0.6666666666666666,
              "#ed7953"
             ],
             [
              0.7777777777777778,
              "#fb9f3a"
             ],
             [
              0.8888888888888888,
              "#fdca26"
             ],
             [
              1,
              "#f0f921"
             ]
            ],
            "type": "contour"
           }
          ],
          "contourcarpet": [
           {
            "colorbar": {
             "outlinewidth": 0,
             "ticks": ""
            },
            "type": "contourcarpet"
           }
          ],
          "heatmap": [
           {
            "colorbar": {
             "outlinewidth": 0,
             "ticks": ""
            },
            "colorscale": [
             [
              0,
              "#0d0887"
             ],
             [
              0.1111111111111111,
              "#46039f"
             ],
             [
              0.2222222222222222,
              "#7201a8"
             ],
             [
              0.3333333333333333,
              "#9c179e"
             ],
             [
              0.4444444444444444,
              "#bd3786"
             ],
             [
              0.5555555555555556,
              "#d8576b"
             ],
             [
              0.6666666666666666,
              "#ed7953"
             ],
             [
              0.7777777777777778,
              "#fb9f3a"
             ],
             [
              0.8888888888888888,
              "#fdca26"
             ],
             [
              1,
              "#f0f921"
             ]
            ],
            "type": "heatmap"
           }
          ],
          "histogram": [
           {
            "marker": {
             "pattern": {
              "fillmode": "overlay",
              "size": 10,
              "solidity": 0.2
             }
            },
            "type": "histogram"
           }
          ],
          "histogram2d": [
           {
            "colorbar": {
             "outlinewidth": 0,
             "ticks": ""
            },
            "colorscale": [
             [
              0,
              "#0d0887"
             ],
             [
              0.1111111111111111,
              "#46039f"
             ],
             [
              0.2222222222222222,
              "#7201a8"
             ],
             [
              0.3333333333333333,
              "#9c179e"
             ],
             [
              0.4444444444444444,
              "#bd3786"
             ],
             [
              0.5555555555555556,
              "#d8576b"
             ],
             [
              0.6666666666666666,
              "#ed7953"
             ],
             [
              0.7777777777777778,
              "#fb9f3a"
             ],
             [
              0.8888888888888888,
              "#fdca26"
             ],
             [
              1,
              "#f0f921"
             ]
            ],
            "type": "histogram2d"
           }
          ],
          "histogram2dcontour": [
           {
            "colorbar": {
             "outlinewidth": 0,
             "ticks": ""
            },
            "colorscale": [
             [
              0,
              "#0d0887"
             ],
             [
              0.1111111111111111,
              "#46039f"
             ],
             [
              0.2222222222222222,
              "#7201a8"
             ],
             [
              0.3333333333333333,
              "#9c179e"
             ],
             [
              0.4444444444444444,
              "#bd3786"
             ],
             [
              0.5555555555555556,
              "#d8576b"
             ],
             [
              0.6666666666666666,
              "#ed7953"
             ],
             [
              0.7777777777777778,
              "#fb9f3a"
             ],
             [
              0.8888888888888888,
              "#fdca26"
             ],
             [
              1,
              "#f0f921"
             ]
            ],
            "type": "histogram2dcontour"
           }
          ],
          "mesh3d": [
           {
            "colorbar": {
             "outlinewidth": 0,
             "ticks": ""
            },
            "type": "mesh3d"
           }
          ],
          "parcoords": [
           {
            "line": {
             "colorbar": {
              "outlinewidth": 0,
              "ticks": ""
             }
            },
            "type": "parcoords"
           }
          ],
          "pie": [
           {
            "automargin": true,
            "type": "pie"
           }
          ],
          "scatter": [
           {
            "fillpattern": {
             "fillmode": "overlay",
             "size": 10,
             "solidity": 0.2
            },
            "type": "scatter"
           }
          ],
          "scatter3d": [
           {
            "line": {
             "colorbar": {
              "outlinewidth": 0,
              "ticks": ""
             }
            },
            "marker": {
             "colorbar": {
              "outlinewidth": 0,
              "ticks": ""
             }
            },
            "type": "scatter3d"
           }
          ],
          "scattercarpet": [
           {
            "marker": {
             "colorbar": {
              "outlinewidth": 0,
              "ticks": ""
             }
            },
            "type": "scattercarpet"
           }
          ],
          "scattergeo": [
           {
            "marker": {
             "colorbar": {
              "outlinewidth": 0,
              "ticks": ""
             }
            },
            "type": "scattergeo"
           }
          ],
          "scattergl": [
           {
            "marker": {
             "colorbar": {
              "outlinewidth": 0,
              "ticks": ""
             }
            },
            "type": "scattergl"
           }
          ],
          "scattermap": [
           {
            "marker": {
             "colorbar": {
              "outlinewidth": 0,
              "ticks": ""
             }
            },
            "type": "scattermap"
           }
          ],
          "scattermapbox": [
           {
            "marker": {
             "colorbar": {
              "outlinewidth": 0,
              "ticks": ""
             }
            },
            "type": "scattermapbox"
           }
          ],
          "scatterpolar": [
           {
            "marker": {
             "colorbar": {
              "outlinewidth": 0,
              "ticks": ""
             }
            },
            "type": "scatterpolar"
           }
          ],
          "scatterpolargl": [
           {
            "marker": {
             "colorbar": {
              "outlinewidth": 0,
              "ticks": ""
             }
            },
            "type": "scatterpolargl"
           }
          ],
          "scatterternary": [
           {
            "marker": {
             "colorbar": {
              "outlinewidth": 0,
              "ticks": ""
             }
            },
            "type": "scatterternary"
           }
          ],
          "surface": [
           {
            "colorbar": {
             "outlinewidth": 0,
             "ticks": ""
            },
            "colorscale": [
             [
              0,
              "#0d0887"
             ],
             [
              0.1111111111111111,
              "#46039f"
             ],
             [
              0.2222222222222222,
              "#7201a8"
             ],
             [
              0.3333333333333333,
              "#9c179e"
             ],
             [
              0.4444444444444444,
              "#bd3786"
             ],
             [
              0.5555555555555556,
              "#d8576b"
             ],
             [
              0.6666666666666666,
              "#ed7953"
             ],
             [
              0.7777777777777778,
              "#fb9f3a"
             ],
             [
              0.8888888888888888,
              "#fdca26"
             ],
             [
              1,
              "#f0f921"
             ]
            ],
            "type": "surface"
           }
          ],
          "table": [
           {
            "cells": {
             "fill": {
              "color": "#EBF0F8"
             },
             "line": {
              "color": "white"
             }
            },
            "header": {
             "fill": {
              "color": "#C8D4E3"
             },
             "line": {
              "color": "white"
             }
            },
            "type": "table"
           }
          ]
         },
         "layout": {
          "annotationdefaults": {
           "arrowcolor": "#2a3f5f",
           "arrowhead": 0,
           "arrowwidth": 1
          },
          "autotypenumbers": "strict",
          "coloraxis": {
           "colorbar": {
            "outlinewidth": 0,
            "ticks": ""
           }
          },
          "colorscale": {
           "diverging": [
            [
             0,
             "#8e0152"
            ],
            [
             0.1,
             "#c51b7d"
            ],
            [
             0.2,
             "#de77ae"
            ],
            [
             0.3,
             "#f1b6da"
            ],
            [
             0.4,
             "#fde0ef"
            ],
            [
             0.5,
             "#f7f7f7"
            ],
            [
             0.6,
             "#e6f5d0"
            ],
            [
             0.7,
             "#b8e186"
            ],
            [
             0.8,
             "#7fbc41"
            ],
            [
             0.9,
             "#4d9221"
            ],
            [
             1,
             "#276419"
            ]
           ],
           "sequential": [
            [
             0,
             "#0d0887"
            ],
            [
             0.1111111111111111,
             "#46039f"
            ],
            [
             0.2222222222222222,
             "#7201a8"
            ],
            [
             0.3333333333333333,
             "#9c179e"
            ],
            [
             0.4444444444444444,
             "#bd3786"
            ],
            [
             0.5555555555555556,
             "#d8576b"
            ],
            [
             0.6666666666666666,
             "#ed7953"
            ],
            [
             0.7777777777777778,
             "#fb9f3a"
            ],
            [
             0.8888888888888888,
             "#fdca26"
            ],
            [
             1,
             "#f0f921"
            ]
           ],
           "sequentialminus": [
            [
             0,
             "#0d0887"
            ],
            [
             0.1111111111111111,
             "#46039f"
            ],
            [
             0.2222222222222222,
             "#7201a8"
            ],
            [
             0.3333333333333333,
             "#9c179e"
            ],
            [
             0.4444444444444444,
             "#bd3786"
            ],
            [
             0.5555555555555556,
             "#d8576b"
            ],
            [
             0.6666666666666666,
             "#ed7953"
            ],
            [
             0.7777777777777778,
             "#fb9f3a"
            ],
            [
             0.8888888888888888,
             "#fdca26"
            ],
            [
             1,
             "#f0f921"
            ]
           ]
          },
          "colorway": [
           "#636efa",
           "#EF553B",
           "#00cc96",
           "#ab63fa",
           "#FFA15A",
           "#19d3f3",
           "#FF6692",
           "#B6E880",
           "#FF97FF",
           "#FECB52"
          ],
          "font": {
           "color": "#2a3f5f"
          },
          "geo": {
           "bgcolor": "white",
           "lakecolor": "white",
           "landcolor": "#E5ECF6",
           "showlakes": true,
           "showland": true,
           "subunitcolor": "white"
          },
          "hoverlabel": {
           "align": "left"
          },
          "hovermode": "closest",
          "mapbox": {
           "style": "light"
          },
          "paper_bgcolor": "white",
          "plot_bgcolor": "#E5ECF6",
          "polar": {
           "angularaxis": {
            "gridcolor": "white",
            "linecolor": "white",
            "ticks": ""
           },
           "bgcolor": "#E5ECF6",
           "radialaxis": {
            "gridcolor": "white",
            "linecolor": "white",
            "ticks": ""
           }
          },
          "scene": {
           "xaxis": {
            "backgroundcolor": "#E5ECF6",
            "gridcolor": "white",
            "gridwidth": 2,
            "linecolor": "white",
            "showbackground": true,
            "ticks": "",
            "zerolinecolor": "white"
           },
           "yaxis": {
            "backgroundcolor": "#E5ECF6",
            "gridcolor": "white",
            "gridwidth": 2,
            "linecolor": "white",
            "showbackground": true,
            "ticks": "",
            "zerolinecolor": "white"
           },
           "zaxis": {
            "backgroundcolor": "#E5ECF6",
            "gridcolor": "white",
            "gridwidth": 2,
            "linecolor": "white",
            "showbackground": true,
            "ticks": "",
            "zerolinecolor": "white"
           }
          },
          "shapedefaults": {
           "line": {
            "color": "#2a3f5f"
           }
          },
          "ternary": {
           "aaxis": {
            "gridcolor": "white",
            "linecolor": "white",
            "ticks": ""
           },
           "baxis": {
            "gridcolor": "white",
            "linecolor": "white",
            "ticks": ""
           },
           "bgcolor": "#E5ECF6",
           "caxis": {
            "gridcolor": "white",
            "linecolor": "white",
            "ticks": ""
           }
          },
          "title": {
           "x": 0.05
          },
          "xaxis": {
           "automargin": true,
           "gridcolor": "white",
           "linecolor": "white",
           "ticks": "",
           "title": {
            "standoff": 15
           },
           "zerolinecolor": "white",
           "zerolinewidth": 2
          },
          "yaxis": {
           "automargin": true,
           "gridcolor": "white",
           "linecolor": "white",
           "ticks": "",
           "title": {
            "standoff": 15
           },
           "zerolinecolor": "white",
           "zerolinewidth": 2
          }
         }
        },
        "title": {
         "text": "Linear Regression: Coefficient Magnitudes (Top 20)"
        },
        "xaxis": {
         "tickangle": -45,
         "title": {
          "text": "Features"
         }
        },
        "yaxis": {
         "title": {
          "text": "Absolute Coefficient Value"
         }
        }
       }
      }
     },
     "metadata": {},
     "output_type": "display_data"
    },
    {
     "name": "stdout",
     "output_type": "stream",
     "text": [
      "\n",
      " Overfitting Analysis:\n",
      "• Coefficient variance: 4.2550\n",
      "• Number of large coefficients (|coef| > 1): 9\n",
      "• Max coefficient magnitude: 10.2079\n",
      " Model appears reasonably stable\n"
     ]
    },
    {
     "data": {
      "application/vnd.plotly.v1+json": {
       "config": {
        "plotlyServerURL": "https://plot.ly"
       },
       "data": [
        {
         "hovertemplate": "Predicted: %{x:.2f}<br>Residual: %{y:.2f}<extra></extra>",
         "marker": {
          "color": "blue",
          "opacity": 0.6
         },
         "mode": "markers",
         "name": "Training",
         "type": "scatter",
         "x": {
          "bdata": "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",
          "dtype": "f8"
         },
         "xaxis": "x",
         "y": {
          "bdata": "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",
          "dtype": "f8"
         },
         "yaxis": "y"
        },
        {
         "hovertemplate": "Predicted: %{x:.2f}<br>Residual: %{y:.2f}<extra></extra>",
         "marker": {
          "color": "red",
          "opacity": 0.6
         },
         "mode": "markers",
         "name": "Test",
         "type": "scatter",
         "x": {
          "bdata": "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",
          "dtype": "f8"
         },
         "xaxis": "x2",
         "y": {
          "bdata": "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",
          "dtype": "f8"
         },
         "yaxis": "y2"
        }
       ],
       "layout": {
        "annotations": [
         {
          "font": {
           "size": 16
          },
          "showarrow": false,
          "text": "Training Residuals",
          "x": 0.225,
          "xanchor": "center",
          "xref": "paper",
          "y": 1,
          "yanchor": "bottom",
          "yref": "paper"
         },
         {
          "font": {
           "size": 16
          },
          "showarrow": false,
          "text": "Test Residuals",
          "x": 0.775,
          "xanchor": "center",
          "xref": "paper",
          "y": 1,
          "yanchor": "bottom",
          "yref": "paper"
         }
        ],
        "height": 400,
        "shapes": [
         {
          "line": {
           "color": "black",
           "dash": "dash"
          },
          "type": "line",
          "x0": 0,
          "x1": 1,
          "xref": "x domain",
          "y0": 0,
          "y1": 0,
          "yref": "y"
         },
         {
          "line": {
           "color": "black",
           "dash": "dash"
          },
          "type": "line",
          "x0": 0,
          "x1": 1,
          "xref": "x2 domain",
          "y0": 0,
          "y1": 0,
          "yref": "y2"
         }
        ],
        "template": {
         "data": {
          "bar": [
           {
            "error_x": {
             "color": "#2a3f5f"
            },
            "error_y": {
             "color": "#2a3f5f"
            },
            "marker": {
             "line": {
              "color": "#E5ECF6",
              "width": 0.5
             },
             "pattern": {
              "fillmode": "overlay",
              "size": 10,
              "solidity": 0.2
             }
            },
            "type": "bar"
           }
          ],
          "barpolar": [
           {
            "marker": {
             "line": {
              "color": "#E5ECF6",
              "width": 0.5
             },
             "pattern": {
              "fillmode": "overlay",
              "size": 10,
              "solidity": 0.2
             }
            },
            "type": "barpolar"
           }
          ],
          "carpet": [
           {
            "aaxis": {
             "endlinecolor": "#2a3f5f",
             "gridcolor": "white",
             "linecolor": "white",
             "minorgridcolor": "white",
             "startlinecolor": "#2a3f5f"
            },
            "baxis": {
             "endlinecolor": "#2a3f5f",
             "gridcolor": "white",
             "linecolor": "white",
             "minorgridcolor": "white",
             "startlinecolor": "#2a3f5f"
            },
            "type": "carpet"
           }
          ],
          "choropleth": [
           {
            "colorbar": {
             "outlinewidth": 0,
             "ticks": ""
            },
            "type": "choropleth"
           }
          ],
          "contour": [
           {
            "colorbar": {
             "outlinewidth": 0,
             "ticks": ""
            },
            "colorscale": [
             [
              0,
              "#0d0887"
             ],
             [
              0.1111111111111111,
              "#46039f"
             ],
             [
              0.2222222222222222,
              "#7201a8"
             ],
             [
              0.3333333333333333,
              "#9c179e"
             ],
             [
              0.4444444444444444,
              "#bd3786"
             ],
             [
              0.5555555555555556,
              "#d8576b"
             ],
             [
              0.6666666666666666,
              "#ed7953"
             ],
             [
              0.7777777777777778,
              "#fb9f3a"
             ],
             [
              0.8888888888888888,
              "#fdca26"
             ],
             [
              1,
              "#f0f921"
             ]
            ],
            "type": "contour"
           }
          ],
          "contourcarpet": [
           {
            "colorbar": {
             "outlinewidth": 0,
             "ticks": ""
            },
            "type": "contourcarpet"
           }
          ],
          "heatmap": [
           {
            "colorbar": {
             "outlinewidth": 0,
             "ticks": ""
            },
            "colorscale": [
             [
              0,
              "#0d0887"
             ],
             [
              0.1111111111111111,
              "#46039f"
             ],
             [
              0.2222222222222222,
              "#7201a8"
             ],
             [
              0.3333333333333333,
              "#9c179e"
             ],
             [
              0.4444444444444444,
              "#bd3786"
             ],
             [
              0.5555555555555556,
              "#d8576b"
             ],
             [
              0.6666666666666666,
              "#ed7953"
             ],
             [
              0.7777777777777778,
              "#fb9f3a"
             ],
             [
              0.8888888888888888,
              "#fdca26"
             ],
             [
              1,
              "#f0f921"
             ]
            ],
            "type": "heatmap"
           }
          ],
          "histogram": [
           {
            "marker": {
             "pattern": {
              "fillmode": "overlay",
              "size": 10,
              "solidity": 0.2
             }
            },
            "type": "histogram"
           }
          ],
          "histogram2d": [
           {
            "colorbar": {
             "outlinewidth": 0,
             "ticks": ""
            },
            "colorscale": [
             [
              0,
              "#0d0887"
             ],
             [
              0.1111111111111111,
              "#46039f"
             ],
             [
              0.2222222222222222,
              "#7201a8"
             ],
             [
              0.3333333333333333,
              "#9c179e"
             ],
             [
              0.4444444444444444,
              "#bd3786"
             ],
             [
              0.5555555555555556,
              "#d8576b"
             ],
             [
              0.6666666666666666,
              "#ed7953"
             ],
             [
              0.7777777777777778,
              "#fb9f3a"
             ],
             [
              0.8888888888888888,
              "#fdca26"
             ],
             [
              1,
              "#f0f921"
             ]
            ],
            "type": "histogram2d"
           }
          ],
          "histogram2dcontour": [
           {
            "colorbar": {
             "outlinewidth": 0,
             "ticks": ""
            },
            "colorscale": [
             [
              0,
              "#0d0887"
             ],
             [
              0.1111111111111111,
              "#46039f"
             ],
             [
              0.2222222222222222,
              "#7201a8"
             ],
             [
              0.3333333333333333,
              "#9c179e"
             ],
             [
              0.4444444444444444,
              "#bd3786"
             ],
             [
              0.5555555555555556,
              "#d8576b"
             ],
             [
              0.6666666666666666,
              "#ed7953"
             ],
             [
              0.7777777777777778,
              "#fb9f3a"
             ],
             [
              0.8888888888888888,
              "#fdca26"
             ],
             [
              1,
              "#f0f921"
             ]
            ],
            "type": "histogram2dcontour"
           }
          ],
          "mesh3d": [
           {
            "colorbar": {
             "outlinewidth": 0,
             "ticks": ""
            },
            "type": "mesh3d"
           }
          ],
          "parcoords": [
           {
            "line": {
             "colorbar": {
              "outlinewidth": 0,
              "ticks": ""
             }
            },
            "type": "parcoords"
           }
          ],
          "pie": [
           {
            "automargin": true,
            "type": "pie"
           }
          ],
          "scatter": [
           {
            "fillpattern": {
             "fillmode": "overlay",
             "size": 10,
             "solidity": 0.2
            },
            "type": "scatter"
           }
          ],
          "scatter3d": [
           {
            "line": {
             "colorbar": {
              "outlinewidth": 0,
              "ticks": ""
             }
            },
            "marker": {
             "colorbar": {
              "outlinewidth": 0,
              "ticks": ""
             }
            },
            "type": "scatter3d"
           }
          ],
          "scattercarpet": [
           {
            "marker": {
             "colorbar": {
              "outlinewidth": 0,
              "ticks": ""
             }
            },
            "type": "scattercarpet"
           }
          ],
          "scattergeo": [
           {
            "marker": {
             "colorbar": {
              "outlinewidth": 0,
              "ticks": ""
             }
            },
            "type": "scattergeo"
           }
          ],
          "scattergl": [
           {
            "marker": {
             "colorbar": {
              "outlinewidth": 0,
              "ticks": ""
             }
            },
            "type": "scattergl"
           }
          ],
          "scattermap": [
           {
            "marker": {
             "colorbar": {
              "outlinewidth": 0,
              "ticks": ""
             }
            },
            "type": "scattermap"
           }
          ],
          "scattermapbox": [
           {
            "marker": {
             "colorbar": {
              "outlinewidth": 0,
              "ticks": ""
             }
            },
            "type": "scattermapbox"
           }
          ],
          "scatterpolar": [
           {
            "marker": {
             "colorbar": {
              "outlinewidth": 0,
              "ticks": ""
             }
            },
            "type": "scatterpolar"
           }
          ],
          "scatterpolargl": [
           {
            "marker": {
             "colorbar": {
              "outlinewidth": 0,
              "ticks": ""
             }
            },
            "type": "scatterpolargl"
           }
          ],
          "scatterternary": [
           {
            "marker": {
             "colorbar": {
              "outlinewidth": 0,
              "ticks": ""
             }
            },
            "type": "scatterternary"
           }
          ],
          "surface": [
           {
            "colorbar": {
             "outlinewidth": 0,
             "ticks": ""
            },
            "colorscale": [
             [
              0,
              "#0d0887"
             ],
             [
              0.1111111111111111,
              "#46039f"
             ],
             [
              0.2222222222222222,
              "#7201a8"
             ],
             [
              0.3333333333333333,
              "#9c179e"
             ],
             [
              0.4444444444444444,
              "#bd3786"
             ],
             [
              0.5555555555555556,
              "#d8576b"
             ],
             [
              0.6666666666666666,
              "#ed7953"
             ],
             [
              0.7777777777777778,
              "#fb9f3a"
             ],
             [
              0.8888888888888888,
              "#fdca26"
             ],
             [
              1,
              "#f0f921"
             ]
            ],
            "type": "surface"
           }
          ],
          "table": [
           {
            "cells": {
             "fill": {
              "color": "#EBF0F8"
             },
             "line": {
              "color": "white"
             }
            },
            "header": {
             "fill": {
              "color": "#C8D4E3"
             },
             "line": {
              "color": "white"
             }
            },
            "type": "table"
           }
          ]
         },
         "layout": {
          "annotationdefaults": {
           "arrowcolor": "#2a3f5f",
           "arrowhead": 0,
           "arrowwidth": 1
          },
          "autotypenumbers": "strict",
          "coloraxis": {
           "colorbar": {
            "outlinewidth": 0,
            "ticks": ""
           }
          },
          "colorscale": {
           "diverging": [
            [
             0,
             "#8e0152"
            ],
            [
             0.1,
             "#c51b7d"
            ],
            [
             0.2,
             "#de77ae"
            ],
            [
             0.3,
             "#f1b6da"
            ],
            [
             0.4,
             "#fde0ef"
            ],
            [
             0.5,
             "#f7f7f7"
            ],
            [
             0.6,
             "#e6f5d0"
            ],
            [
             0.7,
             "#b8e186"
            ],
            [
             0.8,
             "#7fbc41"
            ],
            [
             0.9,
             "#4d9221"
            ],
            [
             1,
             "#276419"
            ]
           ],
           "sequential": [
            [
             0,
             "#0d0887"
            ],
            [
             0.1111111111111111,
             "#46039f"
            ],
            [
             0.2222222222222222,
             "#7201a8"
            ],
            [
             0.3333333333333333,
             "#9c179e"
            ],
            [
             0.4444444444444444,
             "#bd3786"
            ],
            [
             0.5555555555555556,
             "#d8576b"
            ],
            [
             0.6666666666666666,
             "#ed7953"
            ],
            [
             0.7777777777777778,
             "#fb9f3a"
            ],
            [
             0.8888888888888888,
             "#fdca26"
            ],
            [
             1,
             "#f0f921"
            ]
           ],
           "sequentialminus": [
            [
             0,
             "#0d0887"
            ],
            [
             0.1111111111111111,
             "#46039f"
            ],
            [
             0.2222222222222222,
             "#7201a8"
            ],
            [
             0.3333333333333333,
             "#9c179e"
            ],
            [
             0.4444444444444444,
             "#bd3786"
            ],
            [
             0.5555555555555556,
             "#d8576b"
            ],
            [
             0.6666666666666666,
             "#ed7953"
            ],
            [
             0.7777777777777778,
             "#fb9f3a"
            ],
            [
             0.8888888888888888,
             "#fdca26"
            ],
            [
             1,
             "#f0f921"
            ]
           ]
          },
          "colorway": [
           "#636efa",
           "#EF553B",
           "#00cc96",
           "#ab63fa",
           "#FFA15A",
           "#19d3f3",
           "#FF6692",
           "#B6E880",
           "#FF97FF",
           "#FECB52"
          ],
          "font": {
           "color": "#2a3f5f"
          },
          "geo": {
           "bgcolor": "white",
           "lakecolor": "white",
           "landcolor": "#E5ECF6",
           "showlakes": true,
           "showland": true,
           "subunitcolor": "white"
          },
          "hoverlabel": {
           "align": "left"
          },
          "hovermode": "closest",
          "mapbox": {
           "style": "light"
          },
          "paper_bgcolor": "white",
          "plot_bgcolor": "#E5ECF6",
          "polar": {
           "angularaxis": {
            "gridcolor": "white",
            "linecolor": "white",
            "ticks": ""
           },
           "bgcolor": "#E5ECF6",
           "radialaxis": {
            "gridcolor": "white",
            "linecolor": "white",
            "ticks": ""
           }
          },
          "scene": {
           "xaxis": {
            "backgroundcolor": "#E5ECF6",
            "gridcolor": "white",
            "gridwidth": 2,
            "linecolor": "white",
            "showbackground": true,
            "ticks": "",
            "zerolinecolor": "white"
           },
           "yaxis": {
            "backgroundcolor": "#E5ECF6",
            "gridcolor": "white",
            "gridwidth": 2,
            "linecolor": "white",
            "showbackground": true,
            "ticks": "",
            "zerolinecolor": "white"
           },
           "zaxis": {
            "backgroundcolor": "#E5ECF6",
            "gridcolor": "white",
            "gridwidth": 2,
            "linecolor": "white",
            "showbackground": true,
            "ticks": "",
            "zerolinecolor": "white"
           }
          },
          "shapedefaults": {
           "line": {
            "color": "#2a3f5f"
           }
          },
          "ternary": {
           "aaxis": {
            "gridcolor": "white",
            "linecolor": "white",
            "ticks": ""
           },
           "baxis": {
            "gridcolor": "white",
            "linecolor": "white",
            "ticks": ""
           },
           "bgcolor": "#E5ECF6",
           "caxis": {
            "gridcolor": "white",
            "linecolor": "white",
            "ticks": ""
           }
          },
          "title": {
           "x": 0.05
          },
          "xaxis": {
           "automargin": true,
           "gridcolor": "white",
           "linecolor": "white",
           "ticks": "",
           "title": {
            "standoff": 15
           },
           "zerolinecolor": "white",
           "zerolinewidth": 2
          },
          "yaxis": {
           "automargin": true,
           "gridcolor": "white",
           "linecolor": "white",
           "ticks": "",
           "title": {
            "standoff": 15
           },
           "zerolinecolor": "white",
           "zerolinewidth": 2
          }
         }
        },
        "title": {
         "text": "Linear Regression: Residual Analysis"
        },
        "xaxis": {
         "anchor": "y",
         "domain": [
          0,
          0.45
         ]
        },
        "xaxis2": {
         "anchor": "y2",
         "domain": [
          0.55,
          1
         ]
        },
        "yaxis": {
         "anchor": "x",
         "domain": [
          0,
          1
         ]
        },
        "yaxis2": {
         "anchor": "x2",
         "domain": [
          0,
          1
         ]
        }
       }
      }
     },
     "metadata": {},
     "output_type": "display_data"
    },
    {
     "name": "stdout",
     "output_type": "stream",
     "text": [
      "\n",
      " Residual Analysis:\n",
      "• Training residual std: 1.5328\n",
      "• Test residual std: 1.5336\n",
      "• Mean training residual: -0.0000\n",
      "• Mean test residual: 0.0300\n",
      "• Residual variance ratio (test/train): 1.0011\n"
     ]
    }
   ],
   "source": [
    "# 2. BASELINE LINEAR REGRESSION ANALYSIS\n",
    "print(\"\\n 2. BASELINE LINEAR REGRESSION ANALYSIS\")\n",
    "print(\"=\" * 43)\n",
    "\n",
    "# Fit standard linear regression\n",
    "lr = LinearRegression()\n",
    "lr.fit(X_train_scaled, y_train)\n",
    "\n",
    "# Predictions\n",
    "y_train_pred_lr = lr.predict(X_train_scaled)\n",
    "y_test_pred_lr = lr.predict(X_test_scaled)\n",
    "\n",
    "# Calculate metrics\n",
    "train_mse_lr = mean_squared_error(y_train, y_train_pred_lr)\n",
    "test_mse_lr = mean_squared_error(y_test, y_test_pred_lr)\n",
    "train_r2_lr = r2_score(y_train, y_train_pred_lr)\n",
    "test_r2_lr = r2_score(y_test, y_test_pred_lr)\n",
    "\n",
    "print(\" Linear Regression Performance:\")\n",
    "print(f\"• Training MSE: {train_mse_lr:.4f}\")\n",
    "print(f\"• Test MSE: {test_mse_lr:.4f}\")\n",
    "print(f\"• Training R²: {train_r2_lr:.4f}\")\n",
    "print(f\"• Test R²: {test_r2_lr:.4f}\")\n",
    "print(f\"• Overfitting indicator: {train_r2_lr - test_r2_lr:.4f}\")\n",
    "\n",
    "# Analyze coefficient magnitudes\n",
    "lr_coefficients = pd.DataFrame({\n",
    " 'feature': feature_cols,\n",
    " 'coefficient': lr.coef_,\n",
    " 'abs_coefficient': np.abs(lr.coef_)\n",
    "})\n",
    "lr_coefficients = lr_coefficients.sort_values('abs_coefficient', ascending=False)\n",
    "\n",
    "# Plot coefficient magnitudes\n",
    "fig_coef = go.Figure()\n",
    "\n",
    "colors_coef = ['red' if 'Important' in feat else 'lightblue' for feat in lr_coefficients['feature']]\n",
    "\n",
    "fig_coef.add_trace(\n",
    " go.Bar(\n",
    " x=lr_coefficients['feature'][:20],\n",
    " y=lr_coefficients['abs_coefficient'][:20],\n",
    " marker_color=colors_coef[:20],\n",
    " name='Coefficient Magnitude',\n",
    " hovertemplate=\"<b>%{x}</b><br>|Coefficient|: %{y:.3f}<extra></extra>\"\n",
    " )\n",
    ")\n",
    "\n",
    "fig_coef.update_layout(\n",
    " title=\"Linear Regression: Coefficient Magnitudes (Top 20)\",\n",
    " xaxis_title=\"Features\",\n",
    " yaxis_title=\"Absolute Coefficient Value\",\n",
    " height=500,\n",
    " xaxis_tickangle=-45\n",
    ")\n",
    "fig_coef.show()\n",
    "\n",
    "# Check for overfitting indicators\n",
    "print(f\"\\n Overfitting Analysis:\")\n",
    "coefficient_variance = np.var(lr.coef_)\n",
    "large_coefficients = (np.abs(lr.coef_) > 1).sum()\n",
    "print(f\"• Coefficient variance: {coefficient_variance:.4f}\")\n",
    "print(f\"• Number of large coefficients (|coef| > 1): {large_coefficients}\")\n",
    "print(f\"• Max coefficient magnitude: {np.max(np.abs(lr.coef_)):.4f}\")\n",
    "\n",
    "if train_r2_lr - test_r2_lr > 0.1:\n",
    " print(\" High overfitting detected - regularization recommended!\")\n",
    "elif large_coefficients > 10:\n",
    " print(\" Many large coefficients - potential instability!\")\n",
    "else:\n",
    " print(\" Model appears reasonably stable\")\n",
    "\n",
    "# Residual analysis\n",
    "residuals_train = y_train - y_train_pred_lr\n",
    "residuals_test = y_test - y_test_pred_lr\n",
    "\n",
    "# Create residual plots\n",
    "fig_residuals = make_subplots(\n",
    " rows=1, cols=2,\n",
    " subplot_titles=(\"Training Residuals\", \"Test Residuals\")\n",
    ")\n",
    "\n",
    "# Training residuals\n",
    "fig_residuals.add_trace(\n",
    " go.Scatter(\n",
    " x=y_train_pred_lr,\n",
    " y=residuals_train,\n",
    " mode='markers',\n",
    " marker=dict(color='blue', opacity=0.6),\n",
    " name='Training',\n",
    " hovertemplate=\"Predicted: %{x:.2f}<br>Residual: %{y:.2f}<extra></extra>\"\n",
    " ),\n",
    " row=1, col=1\n",
    ")\n",
    "\n",
    "# Test residuals\n",
    "fig_residuals.add_trace(\n",
    " go.Scatter(\n",
    " x=y_test_pred_lr,\n",
    " y=residuals_test,\n",
    " mode='markers',\n",
    " marker=dict(color='red', opacity=0.6),\n",
    " name='Test',\n",
    " hovertemplate=\"Predicted: %{x:.2f}<br>Residual: %{y:.2f}<extra></extra>\"\n",
    " ),\n",
    " row=1, col=2\n",
    ")\n",
    "\n",
    "# Add zero lines\n",
    "for col in [1, 2]:\n",
    " fig_residuals.add_hline(y=0, line_dash=\"dash\", line_color=\"black\", row=1, col=col)\n",
    "\n",
    "fig_residuals.update_layout(\n",
    " title=\"Linear Regression: Residual Analysis\",\n",
    " height=400\n",
    ")\n",
    "fig_residuals.show()\n",
    "\n",
    "print(f\"\\n Residual Analysis:\")\n",
    "print(f\"• Training residual std: {np.std(residuals_train):.4f}\")\n",
    "print(f\"• Test residual std: {np.std(residuals_test):.4f}\")\n",
    "print(f\"• Mean training residual: {np.mean(residuals_train):.4f}\")\n",
    "print(f\"• Mean test residual: {np.mean(residuals_test):.4f}\")\n",
    "print(f\"• Residual variance ratio (test/train): {np.var(residuals_test)/np.var(residuals_train):.4f}\")"
   ]
  },
  {
   "cell_type": "code",
   "execution_count": 6,
   "id": "ceabf65c",
   "metadata": {},
   "outputs": [
    {
     "name": "stdout",
     "output_type": "stream",
     "text": [
      "\n",
      " 3. RIDGE REGRESSION (L2 REGULARIZATION)\n",
      "==========================================\n",
      " Optimal Ridge alpha: 0.184207\n",
      " Ridge Regression Performance:\n",
      "• Training MSE: 2.3495\n",
      "• Test MSE: 2.3494\n",
      "• Training R²: 0.9909\n",
      "• Test R²: 0.9903\n",
      "• Overfitting indicator: 0.0006\n",
      "\n",
      " Improvement over Linear Regression:\n",
      "• Test MSE improvement: 0.15%\n",
      "• Test R² improvement: 0.0000\n",
      "• Overfitting reduction: 0.0000\n"
     ]
    },
    {
     "data": {
      "application/vnd.plotly.v1+json": {
       "config": {
        "plotlyServerURL": "https://plot.ly"
       },
       "data": [
        {
         "hovertemplate": "<b>Important_1</b><br>Alpha: %{x:.6f}<br>Coefficient: %{y:.3f}<extra></extra>",
         "line": {
          "width": 2
         },
         "mode": "lines",
         "name": "Important_1",
         "type": "scatter",
         "x": {
          "bdata": "LUMc6+I2Gj+75UhTSZMfP6qoX24sBCM/rKwid7vnJj/T73Lk4pYrP31TLcKinTA/0Kgm9IQDND9f1wwVTBs4PzG3Fm1ZCT0/VMfubr98QT+SGdUwQhBFP9pJCZn+Xkk/+R0AcD6PTj+sQAH/j2dSP2eQRfwXK1Y/JMFCoquzWj8EhZBsyxRgP62eXpaxXmM/kmI1ncNUZz+aA6EsNxpsP7WpAKK67HA/SSwLl8lidD+iFO9HDI54P1OiWimRk30/jfzBWf3PgT/9rsIPhnSFPySfmaPD14k/nmOHH7Ygjz/T+aepK7+SP3WWczCelJY/EL+FVsYymz+4ZY/qV2GgP2AKr6HluqM/+j/WxNLDpz+PNteZ/J+sP6LsaQBLPbE/OhYat9PDtD/bV3K17gK5P0zO7NRaIL4/+ICigsckwj9/aC41p9rFP7ywaI/HUso/LhjvQOK0zz8o1f5aaBjTPyJW2bMaANc/G29cEz602z+As3nKUK/gP2F8ZpPQGOQ/Eg6PlPI06D8SLdvLPijtP74Wk91aj/E/YV/+wqsm9T/rIraF/Xn5P/+8qKvCr/4/+AC7RyV7AkBdQf2ArkIGQAnB9wwV0ApAOj0s2uclEEA6bx/UTXMTQKYtht2WbRdAkyDRGB44HEBG09HSvP4gQKL0vZR6eCRAqK3Z4CyoKEAinseZCbMtQCoT+Vrx4jFAa4yGUVqLNUCP5jIRQ/M5QJ3/pSPVQT9AsZBIKh7TQkBUulL9pKxGQGQzqv+2T0tA5GaXy8VyUED8uwz7489TQBA//zAc3VdAP4N73HG+XED3qFrqok9hQLdtx/Xr2WRAesL6rIsdaUC8thMTaUBuQBBeCrwVOHJAPr9jIujxdUBbJqDhyW56QMlqTe6e1n9Af55Bz7ksg0Do71nfkxiHQFDCt3640YtAeoylohHBkEDAumLbMi6UQCATE1+0TphAdZF/CkVHnUCQHbEYCqKhQDnIJi4tPaVAEnDgKxmVqUCZY5+AadCuQP+XyGbPjrJARFXsHl5atkC+496ynOy6QG25uXwWN8BAAAAAAACIw0A=",
          "dtype": "f8"
         },
         "y": {
          "bdata": "GF0i83JqJECUhoz0cWokQNOr5sFwaiRArUuLUG9qJECMkqeTbWokQIllyXtraiRAWShW9mhqJECcb+XsZWokQOjueURiaiRAhLiR3F1qJEDGgQWOWGokQJHwrClSaiRAouK7dkpqJEALO8owQWokQHbRdAU2aiRAs36CkShqJEDZL3RdGGokQD6kYdkEaiRAYYX+V+1pJEDrJZwI0WkkQFaB8++uaSRA5Zl434VpJEA79etqVGkkQPQJ0NsYaSRAc/pWItFoJEBVGkjDemgkQHg+RMISaCRAHzCzh5VnJEA0GoPB/mYkQBYuvD1JZiRAO5i+vW5lJEDnGc/AZ2QkQLaFX0QrYyRACg5FeK5hJEAc3NBk5F8kQANug4C9XSRAOhjfMidbJECTQ7tBC1gkQLNrdyZPVCRAIe6fSNNPJEAgiB4cckokQGLXFyL/QyRAdCpZzUU8JEABrAJOCDMkQIxGSkz+JyRAX/48oNMaJEAI08EcJwskQDHnQI+J+CNA2F5uI33iI0Ah9JRrdcgjQCTBPWDYqSNAC4G2uwCGI0B+8TQiQlwjQA5hIYfvKyNAXffcKWT0IkAU+zBND7UiQOiTGWuCbSJAoHg5GIEdIkDoxiUaEcUhQJONQoGIZCFA4+36Fpf8IEDlTu1kSI4gQHPWRDj8GiBATroCuKlIH0B3JO1COFgeQAQ4jHNEaB1AA4zzkDV8HEAbPXT9+ZYbQMSP3afVuhpApnuhqkPpGUB1K6ck7CIZQNLHd+WrZxhAwQzrVam2F0A7ctZXcQ4XQMtdcG8XbRZAMi1m6VXQFUBLx/ZQrDUVQFMJA/57mhRAmKykiSP8E0D7PlpzGlgTQKtXCC4OrBJAb/GENwH2EUAjn1beazQRQN4FnRJdZhBAZPw/iDAXD0DFHb5RWEkNQCB71mH7ZQtA8W8WioVxCUChQc/u03EHQEnrFALebQVACGVmpT5tA0DS5kGZqncBQAmltILLKP8/Q30vyZKT+z8K+OU31Dn4P1zoEU/LIvU/SMfFtLJS8j8t4MY67ZXvP7mUegoyFes/xZSP6GId5z8=",
          "dtype": "f8"
         }
        },
        {
         "hovertemplate": "<b>Important_2</b><br>Alpha: %{x:.6f}<br>Coefficient: %{y:.3f}<extra></extra>",
         "line": {
          "width": 2
         },
         "mode": "lines",
         "name": "Important_2",
         "type": "scatter",
         "x": {
          "bdata": "LUMc6+I2Gj+75UhTSZMfP6qoX24sBCM/rKwid7vnJj/T73Lk4pYrP31TLcKinTA/0Kgm9IQDND9f1wwVTBs4PzG3Fm1ZCT0/VMfubr98QT+SGdUwQhBFP9pJCZn+Xkk/+R0AcD6PTj+sQAH/j2dSP2eQRfwXK1Y/JMFCoquzWj8EhZBsyxRgP62eXpaxXmM/kmI1ncNUZz+aA6EsNxpsP7WpAKK67HA/SSwLl8lidD+iFO9HDI54P1OiWimRk30/jfzBWf3PgT/9rsIPhnSFPySfmaPD14k/nmOHH7Ygjz/T+aepK7+SP3WWczCelJY/EL+FVsYymz+4ZY/qV2GgP2AKr6HluqM/+j/WxNLDpz+PNteZ/J+sP6LsaQBLPbE/OhYat9PDtD/bV3K17gK5P0zO7NRaIL4/+ICigsckwj9/aC41p9rFP7ywaI/HUso/LhjvQOK0zz8o1f5aaBjTPyJW2bMaANc/G29cEz602z+As3nKUK/gP2F8ZpPQGOQ/Eg6PlPI06D8SLdvLPijtP74Wk91aj/E/YV/+wqsm9T/rIraF/Xn5P/+8qKvCr/4/+AC7RyV7AkBdQf2ArkIGQAnB9wwV0ApAOj0s2uclEEA6bx/UTXMTQKYtht2WbRdAkyDRGB44HEBG09HSvP4gQKL0vZR6eCRAqK3Z4CyoKEAinseZCbMtQCoT+Vrx4jFAa4yGUVqLNUCP5jIRQ/M5QJ3/pSPVQT9AsZBIKh7TQkBUulL9pKxGQGQzqv+2T0tA5GaXy8VyUED8uwz7489TQBA//zAc3VdAP4N73HG+XED3qFrqok9hQLdtx/Xr2WRAesL6rIsdaUC8thMTaUBuQBBeCrwVOHJAPr9jIujxdUBbJqDhyW56QMlqTe6e1n9Af55Bz7ksg0Do71nfkxiHQFDCt3640YtAeoylohHBkEDAumLbMi6UQCATE1+0TphAdZF/CkVHnUCQHbEYCqKhQDnIJi4tPaVAEnDgKxmVqUCZY5+AadCuQP+XyGbPjrJARFXsHl5atkC+496ynOy6QG25uXwWN8BAAAAAAACIw0A=",
          "dtype": "f8"
         },
         "y": {
          "bdata": "SHP4vr5GIEAZYOGjvkYgQJYNQIO+RiBAOHLyW75GIEBNNJssvkYgQJ6IlfO9RiBADpbmrr1GIECb3CtcvUYgQIQChvi8RiBAcUx/gLxGIEAo3Ozvu0YgQGilyUG7RiBAyc8JcLpGIEBI+GRzuUYgQMF0FUO4RiBAcluK1LZGIEDIlgkbtUYgQNfEPgezRiBAC/SyhrBGIEAJgSiDrUYgQElj1eGpRiBAVwt1gqVGIEDTiyk+oEYgQGcYIuaZRiBAw9n6QZJGIEBGoscNiUYgQM4YuPd9RiBADWBAnXBGIEBl9KyHYEYgQM9OAyhNRiBAKaAK0jVGIECwdVC2GUYgQBIN9Nr3RSBAqTj4Es9FIEBYls7znUUgQJgQv8hiRSBA3p67gxtFIECrYBmrxUQgQBW9jENeRCBA00qlteFDIEB27t6tS0MgQPjELvaWQiBAifi6R71BIEDNfSsTt0AgQGgxtj17PyBA2t6y0P49IECBqySZNDwgQEUBQrQMOiBAID2iBXQ3IEDHkGeTUzQgQOA/lMSPMCBATcLjfQcsIEDIUjUakyYgQKmhKT0DICBApGl3gR8YIEAzKTAJpQ4gQKDNRP1EAyBAI8AOJ0brH0BkXqx+qMofQMCIW4G7ox9AxVW/rGl1H0CmHsjQfj4fQAKxoxas/R5AyigDg4+xHkDO2Vynv1geQEzjLvfb8R1AcUnywKF7HUD3CzcUBfUcQNXLNuhLXRxAtZCttyi0G0D/0ia50PkaQOImJToJLxpALnH62ydVGUCahOfVAm4YQOBNbfXQexdAftwga/yAFkC8sxWs7n8VQBKRc8zdehRAWd7k96NzE0C7FFbop2sSQG+PRPLZYxFAgUTpWMVcEECA17YYZK0OQH3ABcGgowxA/Gts+M2cCkBo7sJk9pkIQHMZNhXanAZAqpa+lgSoBEAy3cZSvb4CQIhii/TU5ABARv5UeLE8/j9timxOct76P4z7QAXmtfc/0N6/vJDI9D998QIIJRryP/uN9mzBWO8/ZDnwzjz+6j8qFWcEICHnP5l0sRUlu+M/iGYcFBjE4D8=",
          "dtype": "f8"
         }
        },
        {
         "hovertemplate": "<b>Important_3</b><br>Alpha: %{x:.6f}<br>Coefficient: %{y:.3f}<extra></extra>",
         "line": {
          "width": 2
         },
         "mode": "lines",
         "name": "Important_3",
         "type": "scatter",
         "x": {
          "bdata": "LUMc6+I2Gj+75UhTSZMfP6qoX24sBCM/rKwid7vnJj/T73Lk4pYrP31TLcKinTA/0Kgm9IQDND9f1wwVTBs4PzG3Fm1ZCT0/VMfubr98QT+SGdUwQhBFP9pJCZn+Xkk/+R0AcD6PTj+sQAH/j2dSP2eQRfwXK1Y/JMFCoquzWj8EhZBsyxRgP62eXpaxXmM/kmI1ncNUZz+aA6EsNxpsP7WpAKK67HA/SSwLl8lidD+iFO9HDI54P1OiWimRk30/jfzBWf3PgT/9rsIPhnSFPySfmaPD14k/nmOHH7Ygjz/T+aepK7+SP3WWczCelJY/EL+FVsYymz+4ZY/qV2GgP2AKr6HluqM/+j/WxNLDpz+PNteZ/J+sP6LsaQBLPbE/OhYat9PDtD/bV3K17gK5P0zO7NRaIL4/+ICigsckwj9/aC41p9rFP7ywaI/HUso/LhjvQOK0zz8o1f5aaBjTPyJW2bMaANc/G29cEz602z+As3nKUK/gP2F8ZpPQGOQ/Eg6PlPI06D8SLdvLPijtP74Wk91aj/E/YV/+wqsm9T/rIraF/Xn5P/+8qKvCr/4/+AC7RyV7AkBdQf2ArkIGQAnB9wwV0ApAOj0s2uclEEA6bx/UTXMTQKYtht2WbRdAkyDRGB44HEBG09HSvP4gQKL0vZR6eCRAqK3Z4CyoKEAinseZCbMtQCoT+Vrx4jFAa4yGUVqLNUCP5jIRQ/M5QJ3/pSPVQT9AsZBIKh7TQkBUulL9pKxGQGQzqv+2T0tA5GaXy8VyUED8uwz7489TQBA//zAc3VdAP4N73HG+XED3qFrqok9hQLdtx/Xr2WRAesL6rIsdaUC8thMTaUBuQBBeCrwVOHJAPr9jIujxdUBbJqDhyW56QMlqTe6e1n9Af55Bz7ksg0Do71nfkxiHQFDCt3640YtAeoylohHBkEDAumLbMi6UQCATE1+0TphAdZF/CkVHnUCQHbEYCqKhQDnIJi4tPaVAEnDgKxmVqUCZY5+AadCuQP+XyGbPjrJARFXsHl5atkC+496ynOy6QG25uXwWN8BAAAAAAACIw0A=",
          "dtype": "f8"
         },
         "y": {
          "bdata": "USe3u8zwF0DfyCagzPAXQOxb837M8BdAv8P1VszwF0CDicomzPAXQECExezL8BdAbPvipsvwF0ARvrVSy/AXQDmRUe3K8BdAUDQxc8rwF0DMFRfgyfAXQC+g5y7J8BdAutF7WcjwF0C7impYx/AXQLWpxiLG8BdAA6/PrcTwF0BaIpLswvAXQPVodM/A8BdAmAqsQ77wF0AokpYyu/AXQGI48IC38BdAwlbhDbPwF0AWLtqxrfAXQEHSMj2n8BdAVfCCdp/wF0C6n6IYlvAXQKdcQtCK8BdA45oEOX3wF0BE5f7ZbPAXQAYWgyFZ8BdAKKgKYEHwF0DnKxbCJPAXQItHyUgC8BdAVPH/wNjvF0DlTIu4pu8XQL0uM3Fq7xdAFBEE0SHvF0DWSFdPyu4XQHyB491g7hdAron8zOHtF0DvpvmpSO0XQP4AfxaQ7BdArNwel7HrF0Ags29XpeoXQCTcSeFh6RdArNpfxNvnF0DWl80qBeYXQKE2jVbN4xdAV/z/AiDhF0Cik/Kk5N0XQDIEzYL92RdAmGAhnkbVF0Bw9MpnlM8XQFCwrTiyyBdAp/lpi2DAF0AHYqv3UrYXQLn+zfYtqhdARSAKhISbF0DBBnK41YkXQNhQhZSKdBdAY0ThPPRaF0D1CMsDSzwXQEqNjquuFxdA87E5WyjsFkBTYwbFrrgWQJ/WrPcsfBZAtktXO4w1FkBdTkMmweMVQDAagLjbhRVAmaQmwRkbFUCgFdwV+qIUQEelmVpOHRRA2hnoc0iKE0CCCcmPgOoSQAU9AEbxPhJAL84yyuiIEUDE16Nc8MkQQDpevImtAxBAd+ssOoVvDkC15ZCHaM8MQLI7CMiyKQtAz6lyya+ACUAUu2tJXNYHQMvcBQyMLAZARZXi0hiFBEAebrdMDuICQH/BPxPIRQFAujXKIPRl/z/OtRDdQFn8PwbI+Qmza/k/ifthp2Gj9j9WXM0EygX0Pw/I5p5ml/E/a40ys8O27j9sGnXB3KbqP7ilaGyN/+Y/D7bDx5y+4z/0V0u/ld/gP1uqeTqjuNw/yD/OrA1b2D8=",
          "dtype": "f8"
         }
        },
        {
         "hovertemplate": "<b>Important_4</b><br>Alpha: %{x:.6f}<br>Coefficient: %{y:.3f}<extra></extra>",
         "line": {
          "width": 2
         },
         "mode": "lines",
         "name": "Important_4",
         "type": "scatter",
         "x": {
          "bdata": "LUMc6+I2Gj+75UhTSZMfP6qoX24sBCM/rKwid7vnJj/T73Lk4pYrP31TLcKinTA/0Kgm9IQDND9f1wwVTBs4PzG3Fm1ZCT0/VMfubr98QT+SGdUwQhBFP9pJCZn+Xkk/+R0AcD6PTj+sQAH/j2dSP2eQRfwXK1Y/JMFCoquzWj8EhZBsyxRgP62eXpaxXmM/kmI1ncNUZz+aA6EsNxpsP7WpAKK67HA/SSwLl8lidD+iFO9HDI54P1OiWimRk30/jfzBWf3PgT/9rsIPhnSFPySfmaPD14k/nmOHH7Ygjz/T+aepK7+SP3WWczCelJY/EL+FVsYymz+4ZY/qV2GgP2AKr6HluqM/+j/WxNLDpz+PNteZ/J+sP6LsaQBLPbE/OhYat9PDtD/bV3K17gK5P0zO7NRaIL4/+ICigsckwj9/aC41p9rFP7ywaI/HUso/LhjvQOK0zz8o1f5aaBjTPyJW2bMaANc/G29cEz602z+As3nKUK/gP2F8ZpPQGOQ/Eg6PlPI06D8SLdvLPijtP74Wk91aj/E/YV/+wqsm9T/rIraF/Xn5P/+8qKvCr/4/+AC7RyV7AkBdQf2ArkIGQAnB9wwV0ApAOj0s2uclEEA6bx/UTXMTQKYtht2WbRdAkyDRGB44HEBG09HSvP4gQKL0vZR6eCRAqK3Z4CyoKEAinseZCbMtQCoT+Vrx4jFAa4yGUVqLNUCP5jIRQ/M5QJ3/pSPVQT9AsZBIKh7TQkBUulL9pKxGQGQzqv+2T0tA5GaXy8VyUED8uwz7489TQBA//zAc3VdAP4N73HG+XED3qFrqok9hQLdtx/Xr2WRAesL6rIsdaUC8thMTaUBuQBBeCrwVOHJAPr9jIujxdUBbJqDhyW56QMlqTe6e1n9Af55Bz7ksg0Do71nfkxiHQFDCt3640YtAeoylohHBkEDAumLbMi6UQCATE1+0TphAdZF/CkVHnUCQHbEYCqKhQDnIJi4tPaVAEnDgKxmVqUCZY5+AadCuQP+XyGbPjrJARFXsHl5atkC+496ynOy6QG25uXwWN8BAAAAAAACIw0A=",
          "dtype": "f8"
         },
         "y": {
          "bdata": "n2DXG40oFECiLWYMjSgUQD2KzPmMKBRAtCJl44woFEA+1GjIjCgUQALD56eMKBRARgbBgIwoFEC4oJhRjCgUQLFryxiMKBRAJYpg1IsoFEDV4feBiygUQHj/tB6LKBRA/Kklp4ooFEA5QyMXiigUQKPmrWmJKBRABv6/mIgoFEDZwhidhygUQFTR+22GKBRAYZLjAIUoFEAXzSNJgygUQJUkeTeBKBRAxZ6BuX4oFEA6hxm5eygUQB8Olxt4KBRAUODdwHMoFEDQmEKCbigUQI1INDFoKBRAZV2glWAoFEBP2QJsVygUQJgAEmNMKBRA2FDxGD8oFEBzntMXLygUQDuE79EbKBRA/MWjnAQoFEDAv6Kq6CcUQEJW9ATHJxRATPeUgp4nFEBO7m2+bScUQOaJVwszJxRA0DXIZewmFEBxxMRilyYUQEXDlRsxJhRAvCC0FbYlFEA5CE0mIiUUQJRQqlBwJBRABf26npojFEB9EOfymSIUQGEmTNJlIRRAMS11JvQfFEApMZb1OB4UQB/SSRAmHBRA4i65s6oZFEAsb+sesxYUQDqFoxkoExRAmyqXau4OFECYfM455gkUQByNj1rqAxRAL8tqds/8E0Ds9xIRY/QTQMYAPVtq6hNAeaXAyqDeE0C/tMJwttATQHd06QxOwBNAPzsP5/qsE0B+BU2HPpYTQKsMXHWGexNAeXx6OipcE0A0/6XyaTcTQC+AQcptDBNAvOLU00baEkCLMO+t8Z8SQED+7nhbXBJAMU0DmmkOEkCaktWyBLURQAcaPwAnTxFAieC+8+3bEECfZ19QrloQQIRI9tESlg9AaW2i6AJaDkCnVTrrFAINQL/JSFcqkAtAEeBg6CMHCkCC540U1WoIQNE57HjlvwZAM4dfrKILBUAfza1nxlMDQNAyLoU1ngFAod2fqHjh/z/VPwsxmaH8P9uQwxmDhvk/tHbblVyY9j9PN0Mhdd3zP0nUk3UhWvE/emZsd3ch7j/h0655igPqP79Ww31FWOY/H4LCStQa4z9KQp+gbkTgP4msQkr9mds/xEuiZm1X1z8=",
          "dtype": "f8"
         }
        },
        {
         "hovertemplate": "<b>Important_5</b><br>Alpha: %{x:.6f}<br>Coefficient: %{y:.3f}<extra></extra>",
         "line": {
          "width": 2
         },
         "mode": "lines",
         "name": "Important_5",
         "type": "scatter",
         "x": {
          "bdata": "LUMc6+I2Gj+75UhTSZMfP6qoX24sBCM/rKwid7vnJj/T73Lk4pYrP31TLcKinTA/0Kgm9IQDND9f1wwVTBs4PzG3Fm1ZCT0/VMfubr98QT+SGdUwQhBFP9pJCZn+Xkk/+R0AcD6PTj+sQAH/j2dSP2eQRfwXK1Y/JMFCoquzWj8EhZBsyxRgP62eXpaxXmM/kmI1ncNUZz+aA6EsNxpsP7WpAKK67HA/SSwLl8lidD+iFO9HDI54P1OiWimRk30/jfzBWf3PgT/9rsIPhnSFPySfmaPD14k/nmOHH7Ygjz/T+aepK7+SP3WWczCelJY/EL+FVsYymz+4ZY/qV2GgP2AKr6HluqM/+j/WxNLDpz+PNteZ/J+sP6LsaQBLPbE/OhYat9PDtD/bV3K17gK5P0zO7NRaIL4/+ICigsckwj9/aC41p9rFP7ywaI/HUso/LhjvQOK0zz8o1f5aaBjTPyJW2bMaANc/G29cEz602z+As3nKUK/gP2F8ZpPQGOQ/Eg6PlPI06D8SLdvLPijtP74Wk91aj/E/YV/+wqsm9T/rIraF/Xn5P/+8qKvCr/4/+AC7RyV7AkBdQf2ArkIGQAnB9wwV0ApAOj0s2uclEEA6bx/UTXMTQKYtht2WbRdAkyDRGB44HEBG09HSvP4gQKL0vZR6eCRAqK3Z4CyoKEAinseZCbMtQCoT+Vrx4jFAa4yGUVqLNUCP5jIRQ/M5QJ3/pSPVQT9AsZBIKh7TQkBUulL9pKxGQGQzqv+2T0tA5GaXy8VyUED8uwz7489TQBA//zAc3VdAP4N73HG+XED3qFrqok9hQLdtx/Xr2WRAesL6rIsdaUC8thMTaUBuQBBeCrwVOHJAPr9jIujxdUBbJqDhyW56QMlqTe6e1n9Af55Bz7ksg0Do71nfkxiHQFDCt3640YtAeoylohHBkEDAumLbMi6UQCATE1+0TphAdZF/CkVHnUCQHbEYCqKhQDnIJi4tPaVAEnDgKxmVqUCZY5+AadCuQP+XyGbPjrJARFXsHl5atkC+496ynOy6QG25uXwWN8BAAAAAAACIw0A=",
          "dtype": "f8"
         },
         "y": {
          "bdata": "Usz7G5z1DkBa1GQYnPUOQCTrERSc9Q5AKaDcDpz1DkD4pZYInPUOQF02CAGc9Q5A6SHu95v1DkBuevfsm/UOQFTCwt+b9Q5Ax4jaz5v1DkDBU7G8m/UOQEKznKWb9Q5AM1LPiZv1DkDZzlFom/UOQG0a+j+b9Q5AuBJhD5v1DkAN9tXUmvUOQHlAT46a9Q5AOGdYOZr1DkAhyvvSmfUOQBMPqFeZ9Q5AQu4Pw5j1DkCXPwMQmPUOQLrVPziX9Q5A7144NJb1DkC5Gs/6lPUOQHGvAYGT9Q5AycOCuZH1DkDILD2Uj/UOQEhxu/2M9Q5A0wVt3on1DkC03cAZhvUOQM2aCo2B9Q5A25UkDnz1DkDX5rxpdfUOQKcmNmFt9Q5AxVX9p2P1DkB+eCzgV/UOQNYgRJZJ9Q5AeP+zOzj1DkAY+9EfI/UOQOvuvWYJ9Q5A+RCD/en0DkC0WouKw/QOQM5uKFmU9A5A8fCKPlr0DkD2Lvd1EvQOQCTiVnG58w5A00dwmkrzDkCsOgwAwPIOQD+vOekR8g5AmfK9RzbxDkAHaMwBIPAOQP7ingq+7g5AzdfcQfrsDkCNuV8TuOoOQCkONtTS5w5Amn713hvkDkBGRBp4WN8OQMEhQIo/2Q5A2hSAT3fRDkBMmM/+kscOQIbs+I8Quw5AZ2ZunlarDkAHhk9lspcOQP/CsMJVfw5AdbFCLFVhDkC2wKiJpTwOQFIPFQQaEA5AiSFVBmLaDUBBGtDgB5oNQFWKGMVwTQ1AuXvWDt/yDECvEfkLeIgMQPczc59ODAxAD14pHHR8C0DtOi92ENcKQJbEI0qCGgpAjIHZKIZFCUBTDrISY1cIQOw2CkIYUAdA/c+MpYYwBkCnsGg6j/oEQDk96mAfsQNAtCQ/tSVYAkDROGL2bPQAQCqGfkK9Fv8/5mgVaGZF/D+MvnjlMoD5P7d+7DK/0fY/Wbo5l1FD9D+tOlUEbdzxP1osIBMoRe8/8KwOM3gy6z+x9HaZ1YPnPztdSAXlOOQ/N9hXKYRO4T8lUKSM737dP8/9LpsqCtk/WJ6URLUv1T8=",
          "dtype": "f8"
         }
        },
        {
         "hovertemplate": "<b>Important_6</b><br>Alpha: %{x:.6f}<br>Coefficient: %{y:.3f}<extra></extra>",
         "line": {
          "width": 2
         },
         "mode": "lines",
         "name": "Important_6",
         "type": "scatter",
         "x": {
          "bdata": "LUMc6+I2Gj+75UhTSZMfP6qoX24sBCM/rKwid7vnJj/T73Lk4pYrP31TLcKinTA/0Kgm9IQDND9f1wwVTBs4PzG3Fm1ZCT0/VMfubr98QT+SGdUwQhBFP9pJCZn+Xkk/+R0AcD6PTj+sQAH/j2dSP2eQRfwXK1Y/JMFCoquzWj8EhZBsyxRgP62eXpaxXmM/kmI1ncNUZz+aA6EsNxpsP7WpAKK67HA/SSwLl8lidD+iFO9HDI54P1OiWimRk30/jfzBWf3PgT/9rsIPhnSFPySfmaPD14k/nmOHH7Ygjz/T+aepK7+SP3WWczCelJY/EL+FVsYymz+4ZY/qV2GgP2AKr6HluqM/+j/WxNLDpz+PNteZ/J+sP6LsaQBLPbE/OhYat9PDtD/bV3K17gK5P0zO7NRaIL4/+ICigsckwj9/aC41p9rFP7ywaI/HUso/LhjvQOK0zz8o1f5aaBjTPyJW2bMaANc/G29cEz602z+As3nKUK/gP2F8ZpPQGOQ/Eg6PlPI06D8SLdvLPijtP74Wk91aj/E/YV/+wqsm9T/rIraF/Xn5P/+8qKvCr/4/+AC7RyV7AkBdQf2ArkIGQAnB9wwV0ApAOj0s2uclEEA6bx/UTXMTQKYtht2WbRdAkyDRGB44HEBG09HSvP4gQKL0vZR6eCRAqK3Z4CyoKEAinseZCbMtQCoT+Vrx4jFAa4yGUVqLNUCP5jIRQ/M5QJ3/pSPVQT9AsZBIKh7TQkBUulL9pKxGQGQzqv+2T0tA5GaXy8VyUED8uwz7489TQBA//zAc3VdAP4N73HG+XED3qFrqok9hQLdtx/Xr2WRAesL6rIsdaUC8thMTaUBuQBBeCrwVOHJAPr9jIujxdUBbJqDhyW56QMlqTe6e1n9Af55Bz7ksg0Do71nfkxiHQFDCt3640YtAeoylohHBkEDAumLbMi6UQCATE1+0TphAdZF/CkVHnUCQHbEYCqKhQDnIJi4tPaVAEnDgKxmVqUCZY5+AadCuQP+XyGbPjrJARFXsHl5atkC+496ynOy6QG25uXwWN8BAAAAAAACIw0A=",
          "dtype": "f8"
         },
         "y": {
          "bdata": "gJtp89XRCEB3sALh1dEIQOte2MrV0QhA5KElsNXRCEDcKf2P1dEIQFUfQWnV0QhA9zWZOtXRCEBeuGYC1dEIQI4htr7U0QhAA8UtbdTRCEBH6vgK1NEIQNOirpTT0QhAmXozBtPRCEBQ9ZRa0tEIQBKU3YvR0QhAkNzfktDRCEBAivZmz9EIQH2yt/3N0QhA4y+YSszRCEBOHXw+ytEIQGOAMMfH0QhAZ3jJzsTRCEAJUd86wdEIQNyxo+u80QhAcb/GurfRCEAkViJ6sdEIQDmBH/Kp0QhAruHH36DRCEArx3HyldEIQOox8siI0QhAP6w77njRCEB7vkvVZdEIQD+CQtRO0QhAEEx4HjPRCECPQly9EdEIQMqt24fp0AhAdmoEGLnQCEDzuIS+ftAIQO79lnM40AhAjj3QxOPPCEDMPSu/fc8IQOFFh9QCzwhA1R2nu27OCEDu2IlJvM0IQDaBuULlzAhAVEviIuLLCEAEEa7YqcoIQHpyenMxyQhAn00MwGvHCEAAbuPQSMUIQK0vS261wghA7HzDaZq/CEBQGvTP27sIQKraJ/RXtwhACSF3UOaxCECqR4U2VqsIQMbvPU5towhANGyN4uWZCEAfm8f/bI4IQKNwVWyggAhAzJwqigxwCECE2CU2KlwIQGo0hMFcRAhAHdbGKPAnCEDXldSyFwYIQC1i2Srt3QdAHhdS73CuB0A9uTIYi3YHQD5ZAfwNNQdAyJkKX7roBkCQ8oWYRZAGQKbmTvlhKgZAWBMywcm1BUDNkXnyTDEFQKjSc0/imwRAkXaMr7v0A0DeS9CDXTsDQGw3mLm4bwJAPEWwJ0WSAUDqkUZ7GaQAQP77yQn5Tf8/3Hxdk9Y6/T9wYt+MHxX7P8sGGhxM5Pg/ElRMTKCw9j/5HgxMuIL0PwUL4bkFY/I/lD0Z2E1Z8D8JdHJ5cdjsP2nIGFz9Qek/lLA0I3f25T+aVR7V0/niP45Lv7EBTeA/276kg7Dc2z9vUabOTLTXP2hHWPORFtQ//2cHO3H30D/k1NC6DZTMPxQjRhO0Asg/+gwJstAhxD8=",
          "dtype": "f8"
         }
        },
        {
         "hovertemplate": "<b>Important_7</b><br>Alpha: %{x:.6f}<br>Coefficient: %{y:.3f}<extra></extra>",
         "line": {
          "width": 2
         },
         "mode": "lines",
         "name": "Important_7",
         "type": "scatter",
         "x": {
          "bdata": "LUMc6+I2Gj+75UhTSZMfP6qoX24sBCM/rKwid7vnJj/T73Lk4pYrP31TLcKinTA/0Kgm9IQDND9f1wwVTBs4PzG3Fm1ZCT0/VMfubr98QT+SGdUwQhBFP9pJCZn+Xkk/+R0AcD6PTj+sQAH/j2dSP2eQRfwXK1Y/JMFCoquzWj8EhZBsyxRgP62eXpaxXmM/kmI1ncNUZz+aA6EsNxpsP7WpAKK67HA/SSwLl8lidD+iFO9HDI54P1OiWimRk30/jfzBWf3PgT/9rsIPhnSFPySfmaPD14k/nmOHH7Ygjz/T+aepK7+SP3WWczCelJY/EL+FVsYymz+4ZY/qV2GgP2AKr6HluqM/+j/WxNLDpz+PNteZ/J+sP6LsaQBLPbE/OhYat9PDtD/bV3K17gK5P0zO7NRaIL4/+ICigsckwj9/aC41p9rFP7ywaI/HUso/LhjvQOK0zz8o1f5aaBjTPyJW2bMaANc/G29cEz602z+As3nKUK/gP2F8ZpPQGOQ/Eg6PlPI06D8SLdvLPijtP74Wk91aj/E/YV/+wqsm9T/rIraF/Xn5P/+8qKvCr/4/+AC7RyV7AkBdQf2ArkIGQAnB9wwV0ApAOj0s2uclEEA6bx/UTXMTQKYtht2WbRdAkyDRGB44HEBG09HSvP4gQKL0vZR6eCRAqK3Z4CyoKEAinseZCbMtQCoT+Vrx4jFAa4yGUVqLNUCP5jIRQ/M5QJ3/pSPVQT9AsZBIKh7TQkBUulL9pKxGQGQzqv+2T0tA5GaXy8VyUED8uwz7489TQBA//zAc3VdAP4N73HG+XED3qFrqok9hQLdtx/Xr2WRAesL6rIsdaUC8thMTaUBuQBBeCrwVOHJAPr9jIujxdUBbJqDhyW56QMlqTe6e1n9Af55Bz7ksg0Do71nfkxiHQFDCt3640YtAeoylohHBkEDAumLbMi6UQCATE1+0TphAdZF/CkVHnUCQHbEYCqKhQDnIJi4tPaVAEnDgKxmVqUCZY5+AadCuQP+XyGbPjrJARFXsHl5atkC+496ynOy6QG25uXwWN8BAAAAAAACIw0A=",
          "dtype": "f8"
         },
         "y": {
          "bdata": "mZwcGqdxAEDrVGQEp3EAQKr2OuqmcQBA9vi3yqZxAECPRcOkpnEAQHB/C3emcQBAp0z6P6ZxAEDyOqb9pXEAQCLCwa2lcQBAQc2GTaVxAEC0FJ7ZpHEAQK1uAU6kcQBARg7YpaNxAED4c0vbonEAQMORU+ehcQBAv1Z4waBxAEAHeYZfn3EAQHbjNLWdcQBA46W3s5txAEAoozxJmXEAQEN1TWCWcQBAMxQR35JxAEBPs2amjnEAQOX10ZCJcQBA6QcvcYNxAECqQiMRfHEAQDbCPC9zcQBAup6wfGhxAEC2RaSaW3EAQHKf6hZMcQBAyygZaDlxAECR1tPoInEAQCdWKNIHcQBAtPLJNOdwAECY7/bwv3AAQMxvxqyQcABATvaSyFdwAEA6LilRE3AAQP4VVe/AbwBAIyJZ1F1vAEAZ8sui5m4AQN6RSlNXbgBAnztgFKttAECm2fok3GwAQImEv6jjawBA7c2WdblqAEBRJNnZU2kAQB80o1qnZwBA2+wKaqZlAEDL6C4VQWMAQBLsZKpkYABAcFERWPtcAECjddPE61gAQBUrhaEYVABAv0nQNGBOAEAdRZPem0cAQOkTxI6fPwBAPDsCKDk2AEDqdhDCLysAQBNRF71CHgBAsJKdlSgPAEBq0lnZGvv/P+Mjv4Ii0v8/v6QE04ui/z88BbbYWWv/P7RsY/JqK/8/OLRVjHXh/j/m2ypfBoz+P8sziOaAKf4/Rk6dwyK4/T+uGJu8Cjb9P9obXBNEofw/NOD3BNf3+z+pyLNc3zf7P8i3Qv2pX/o/Amzf6Nlt+T9leBNulGH4P8nLX5WyOvc/djNe0fP59T+PakulK6H0P3a2ixZiM/M/7e+/Dd608T8VMsDwESvwP62jbQPMOO0/k4UkYMIf6j9hAbJfbhnnP+A0WRaRM+Q/5HWg40p64T9FktvSk+7dPw2ZKdV9Ytk/6s1zA1NX1T8WaPmI+M3RP4Z5EQEnhM0/+YN18IFWyD+aDCRm4vzDP8qSIQ9kXsA/XYNhABDDuj/QS3kAotu1P0PKDJ+d2bE/icAVJa0qrT8=",
          "dtype": "f8"
         }
        },
        {
         "hovertemplate": "<b>Important_8</b><br>Alpha: %{x:.6f}<br>Coefficient: %{y:.3f}<extra></extra>",
         "line": {
          "width": 2
         },
         "mode": "lines",
         "name": "Important_8",
         "type": "scatter",
         "x": {
          "bdata": "LUMc6+I2Gj+75UhTSZMfP6qoX24sBCM/rKwid7vnJj/T73Lk4pYrP31TLcKinTA/0Kgm9IQDND9f1wwVTBs4PzG3Fm1ZCT0/VMfubr98QT+SGdUwQhBFP9pJCZn+Xkk/+R0AcD6PTj+sQAH/j2dSP2eQRfwXK1Y/JMFCoquzWj8EhZBsyxRgP62eXpaxXmM/kmI1ncNUZz+aA6EsNxpsP7WpAKK67HA/SSwLl8lidD+iFO9HDI54P1OiWimRk30/jfzBWf3PgT/9rsIPhnSFPySfmaPD14k/nmOHH7Ygjz/T+aepK7+SP3WWczCelJY/EL+FVsYymz+4ZY/qV2GgP2AKr6HluqM/+j/WxNLDpz+PNteZ/J+sP6LsaQBLPbE/OhYat9PDtD/bV3K17gK5P0zO7NRaIL4/+ICigsckwj9/aC41p9rFP7ywaI/HUso/LhjvQOK0zz8o1f5aaBjTPyJW2bMaANc/G29cEz602z+As3nKUK/gP2F8ZpPQGOQ/Eg6PlPI06D8SLdvLPijtP74Wk91aj/E/YV/+wqsm9T/rIraF/Xn5P/+8qKvCr/4/+AC7RyV7AkBdQf2ArkIGQAnB9wwV0ApAOj0s2uclEEA6bx/UTXMTQKYtht2WbRdAkyDRGB44HEBG09HSvP4gQKL0vZR6eCRAqK3Z4CyoKEAinseZCbMtQCoT+Vrx4jFAa4yGUVqLNUCP5jIRQ/M5QJ3/pSPVQT9AsZBIKh7TQkBUulL9pKxGQGQzqv+2T0tA5GaXy8VyUED8uwz7489TQBA//zAc3VdAP4N73HG+XED3qFrqok9hQLdtx/Xr2WRAesL6rIsdaUC8thMTaUBuQBBeCrwVOHJAPr9jIujxdUBbJqDhyW56QMlqTe6e1n9Af55Bz7ksg0Do71nfkxiHQFDCt3640YtAeoylohHBkEDAumLbMi6UQCATE1+0TphAdZF/CkVHnUCQHbEYCqKhQDnIJi4tPaVAEnDgKxmVqUCZY5+AadCuQP+XyGbPjrJARFXsHl5atkC+496ynOy6QG25uXwWN8BAAAAAAACIw0A=",
          "dtype": "f8"
         },
         "y": {
          "bdata": "UlF0Q37t9z88IUU/fu33P2/fOjp+7fc/G74oNH7t9z9kxdgsfu33P6PzCSR+7fc/2/ptGX7t9z+JiKYMfu33P0f+Qf197fc/63636n3t9z9fLGLUfe33P9Vre7l97fc/QP0TmX3t9z/Zpwtyfe33PyIxB0N97fc/oERkCn3t9z913irGfO33Pyq2+3N87fc/1wn7EHzt9z/RCLeZe+33PzP0CAp77fc/S9rvXHrt9z9sk2OMee33P79dHpF47fc/sRhbYnft9z+1roX1de33P7iw2j107fc/WHXyK3Lt9z+GMzOtb+33P1J7JKts7fc/GxCdCmnt9z84acKqZO33PznezmNf7fc/2p2QBVnt9z/nxI9VUe33P/D2xAxI7fc/8U3D1Dzt9z8PyS9EL+33P3bQVNoe7fc/ieyQ+Qrt9z9WE0vg8uz3Pz0o+5/V7Pc/IB+wEbLs9z/StEvHhuz3P6ExavhR7Pc/jPmWaRHs9z8LLQBMwuv3P0wNUBNh6/c/LnqnPunq9z8roeoQVer3Pz6CrzOd6fc/HQQ4P7jo9z9vlxkhmuf3PzVowVoz5vc/T34wEXDk9z8qNm3oNuL3P124iqdn3/c/cUfkpdnb9z8C3PEGWtf3P0j9BM+p0fc/bo+93nvK9z/+WDzjcsH3P/Xpf0Qftvc/Zt/KEf2n9z/qk47fcZb3P82/u3/KgPc/JbX0ejhm9z/vU6U9z0X3P+lO/QyBHvc/HPljEBzv9j/nqjUMSLb2P+qxi82FcvY/PcebrzEi9j8Usp75isP1P3g1yPPBVPU/aHLbTw7U9D9eZii6zj/0P8XuvA2xlvM/Wlof0+DX8j/S8ZmmNwPyP3Ktf0hpGfE/JaXZ6yMc8D8RWsGqOhzuP9Qxac0N5us/QI8zwcue6T/XyEw9o1DnPyiTX988BuU/F3FAe//J4j8rqMyCXKXgP8VfA0J5QN0/EZwHITyB2T+9Kr6b2BTWPzEhC6gc/9I/6gmmf0BA0D+x1c+oIqvLPwA5VQlmdMc/6UJuLrvPwz/zVISTB6/AP0AN+cxjB7w/I62Prc9+tz8=",
          "dtype": "f8"
         }
        },
        {
         "hovertemplate": "<b>Important_9</b><br>Alpha: %{x:.6f}<br>Coefficient: %{y:.3f}<extra></extra>",
         "line": {
          "width": 2
         },
         "mode": "lines",
         "name": "Important_9",
         "type": "scatter",
         "x": {
          "bdata": "LUMc6+I2Gj+75UhTSZMfP6qoX24sBCM/rKwid7vnJj/T73Lk4pYrP31TLcKinTA/0Kgm9IQDND9f1wwVTBs4PzG3Fm1ZCT0/VMfubr98QT+SGdUwQhBFP9pJCZn+Xkk/+R0AcD6PTj+sQAH/j2dSP2eQRfwXK1Y/JMFCoquzWj8EhZBsyxRgP62eXpaxXmM/kmI1ncNUZz+aA6EsNxpsP7WpAKK67HA/SSwLl8lidD+iFO9HDI54P1OiWimRk30/jfzBWf3PgT/9rsIPhnSFPySfmaPD14k/nmOHH7Ygjz/T+aepK7+SP3WWczCelJY/EL+FVsYymz+4ZY/qV2GgP2AKr6HluqM/+j/WxNLDpz+PNteZ/J+sP6LsaQBLPbE/OhYat9PDtD/bV3K17gK5P0zO7NRaIL4/+ICigsckwj9/aC41p9rFP7ywaI/HUso/LhjvQOK0zz8o1f5aaBjTPyJW2bMaANc/G29cEz602z+As3nKUK/gP2F8ZpPQGOQ/Eg6PlPI06D8SLdvLPijtP74Wk91aj/E/YV/+wqsm9T/rIraF/Xn5P/+8qKvCr/4/+AC7RyV7AkBdQf2ArkIGQAnB9wwV0ApAOj0s2uclEEA6bx/UTXMTQKYtht2WbRdAkyDRGB44HEBG09HSvP4gQKL0vZR6eCRAqK3Z4CyoKEAinseZCbMtQCoT+Vrx4jFAa4yGUVqLNUCP5jIRQ/M5QJ3/pSPVQT9AsZBIKh7TQkBUulL9pKxGQGQzqv+2T0tA5GaXy8VyUED8uwz7489TQBA//zAc3VdAP4N73HG+XED3qFrqok9hQLdtx/Xr2WRAesL6rIsdaUC8thMTaUBuQBBeCrwVOHJAPr9jIujxdUBbJqDhyW56QMlqTe6e1n9Af55Bz7ksg0Do71nfkxiHQFDCt3640YtAeoylohHBkEDAumLbMi6UQCATE1+0TphAdZF/CkVHnUCQHbEYCqKhQDnIJi4tPaVAEnDgKxmVqUCZY5+AadCuQP+XyGbPjrJARFXsHl5atkC+496ynOy6QG25uXwWN8BAAAAAAACIw0A=",
          "dtype": "f8"
         },
         "y": {
          "bdata": "V6Ytjk848D9AhN18TzjwP84AA2hPOPA/GsHkTk848D/CgqMwTzjwP4tbMgxPOPA/g2NN4E448D9ddm6rTjjwPzuov2tOOPA/tfUKH0448D8enqbCTTjwP795XVNNOPA/unlSzUw48D/hVN4rTDjwP/gwZmlLOPA/idkpf0o48D91ywdlSTjwP6QBNRFIOPA/8QPmd0Y48D86N+aKRDjwP47RGTlCOPA/shnmbT848D8kuXoQPDjwP7HY9QI4OPA/zn1bITM48D8BG1dALTjwPx53vCsmOPA/mue6pB048D/BR7NfEzjwPxgJngEHOPA/whrrHPg38D+nH8Et5jfwPwRkfJXQN/A/OSJIlbY38D/C0aVHlzfwP/harphxN/A/Wg/QPEQ38D+gKcKlDTfwP0VqW/XLNvA/kk3t7Xw28D8qr7jfHTbwPwMDBJOrNfA/I4BPLiI18D+u6hkYfTTwP+XOotO2M/A/DxAX2Mgy8D9nFJ1hqzHwP7/hyDtVMPA/kJ8fhbsu8D9icHxr0SzwP899WeGHKvA/co8rTM0n8D+qyw4sjSTwP3Z71ryvIPA/U9r6jxkc8D96mq4dqxbwPwb3d0lAEPA/Yy8L1K8I8D/peXNilf/vP1t55Wy26u8/OYviK0jS7z8CB/Y7vrXvP0JS3Hd3lO8/NbqWobpt7z91VpnuskDvPxoMd99sDO8/OZP579PP7j9UzCLHsYnuPzfRQZyvOO4/rGkQiFrb7T8BwYBxK3DtPwoZ2zWT9ew/W84tjAtq7D/h8b/jLMzrP2hFOQLJGus/HFKrVglV6j/xqtfKjnrpP50LQXaPi+g/SQ/UVe2I5z9vBKymQHTmPybWiF7RT+U/u9/B1X0e5D/FbE3FkOPiP+yPGieNouE/Sd/go/le4D8QS475ajjeP88Mu3u7uts/t+YK8YdK2T+n/BL84+zWP4mK3/BkptQ/u55OYix70j+7hPcD4m7QP+thkXI4Cc0/chk6mn19yT9i2Cpwtj3GPzHPZOI5S8M/KojP6I+lwD95Xd8uKZW8P6wXTvhzbbg/Ot5teLnKtD8=",
          "dtype": "f8"
         }
        },
        {
         "hovertemplate": "<b>Important_10</b><br>Alpha: %{x:.6f}<br>Coefficient: %{y:.3f}<extra></extra>",
         "line": {
          "width": 2
         },
         "mode": "lines",
         "name": "Important_10",
         "type": "scatter",
         "x": {
          "bdata": "LUMc6+I2Gj+75UhTSZMfP6qoX24sBCM/rKwid7vnJj/T73Lk4pYrP31TLcKinTA/0Kgm9IQDND9f1wwVTBs4PzG3Fm1ZCT0/VMfubr98QT+SGdUwQhBFP9pJCZn+Xkk/+R0AcD6PTj+sQAH/j2dSP2eQRfwXK1Y/JMFCoquzWj8EhZBsyxRgP62eXpaxXmM/kmI1ncNUZz+aA6EsNxpsP7WpAKK67HA/SSwLl8lidD+iFO9HDI54P1OiWimRk30/jfzBWf3PgT/9rsIPhnSFPySfmaPD14k/nmOHH7Ygjz/T+aepK7+SP3WWczCelJY/EL+FVsYymz+4ZY/qV2GgP2AKr6HluqM/+j/WxNLDpz+PNteZ/J+sP6LsaQBLPbE/OhYat9PDtD/bV3K17gK5P0zO7NRaIL4/+ICigsckwj9/aC41p9rFP7ywaI/HUso/LhjvQOK0zz8o1f5aaBjTPyJW2bMaANc/G29cEz602z+As3nKUK/gP2F8ZpPQGOQ/Eg6PlPI06D8SLdvLPijtP74Wk91aj/E/YV/+wqsm9T/rIraF/Xn5P/+8qKvCr/4/+AC7RyV7AkBdQf2ArkIGQAnB9wwV0ApAOj0s2uclEEA6bx/UTXMTQKYtht2WbRdAkyDRGB44HEBG09HSvP4gQKL0vZR6eCRAqK3Z4CyoKEAinseZCbMtQCoT+Vrx4jFAa4yGUVqLNUCP5jIRQ/M5QJ3/pSPVQT9AsZBIKh7TQkBUulL9pKxGQGQzqv+2T0tA5GaXy8VyUED8uwz7489TQBA//zAc3VdAP4N73HG+XED3qFrqok9hQLdtx/Xr2WRAesL6rIsdaUC8thMTaUBuQBBeCrwVOHJAPr9jIujxdUBbJqDhyW56QMlqTe6e1n9Af55Bz7ksg0Do71nfkxiHQFDCt3640YtAeoylohHBkEDAumLbMi6UQCATE1+0TphAdZF/CkVHnUCQHbEYCqKhQDnIJi4tPaVAEnDgKxmVqUCZY5+AadCuQP+XyGbPjrJARFXsHl5atkC+496ynOy6QG25uXwWN8BAAAAAAACIw0A=",
          "dtype": "f8"
         },
         "y": {
          "bdata": "MP/q+Hhc6z+fx5vfeFzrPxKKH8F4XOs/p01nnHhc6z9AryxweFzrP2GM5jp4XOs/zFy7+ndc6z9TwXCtd1zrPw+2V1B3XOs/o7c04HZc6z/HByNZdlzrPz8RcrZ1XOs/Rrh78nRc6z9VJHIGdFzrP8ZEI+pyXOs/e/evk3Fc6z/lSDT3b1zrP+nBXQZuXOs/2Rfsr2tc6z8+0hffaFzrP0GT2XplXOs/A5gLZWFc6z/9tV15XFzrP/iFEoxWXOs/9IR6aE9c6z9kpx/PRlzrP88WkXM8XOs/GXy7+S9c6z/FM7byIFzrP13x6NgOXOs/VYBnC/lb6z+pRVrI3lvrP46pQSa/W+s/C1LYC5lb6z8pwEsma1vrP4X6c90zW+s/a/qgRfFa6z/S4X4OoVrrP3Lcd25AWus/iQfbCcxZ6z+1vOnUP1nrP1zivu+WWOs/qu7MestX6z9Rcm1i1lbrP1Vtrh+vVes/roUsbEtU6z8wwFvmnlLrP8J1IaOaUOs/B/oRqSxO6z/EFwVRP0vrPzo2DIe4R+s/+Iwv5nhD6z8RhcmoWj7rPyvF/2YwOOs/z2PlnMMw6z83aHzy0ifrP7KjXEEQHes/pqWFVh4Q6z/EQRRzjgDrP2t7aJTd7eo/ugPRk3HX6j9MsAg3lrzqP2ejrlV6nOo/RYVpRC126j+x4qnEnEjqP7uv3seTEuo/4wSnZbrS6T9aulR0l4fpP2dIND+UL+k/FLrY2wLJ6D9yBUSeJ1LoPxqj1SVGyec/w7FbeLIs5z++QEai5nrmP45hSVWdsuU/Ys2I5vHS5D9dz4mkhdvjP9Af832pzOI/kmzmKomn4T8v2L6SUm7gPwX+XBqjSN4/I1dVzuyb2z8HP3b6e+HYPy+xRVrrJdY/WfwypLd20z9wVXlIS+HQP5kg/D/r48w/hMwIP+1lyD9Zc/n+jFfEPxKiIv5pwcA/el8rBKZLuz82xE+t5wK2P21JusX9mLE/BXo3tkzwqz+aPC9UiA6mP6zqNoeaWKE/6zQaXKI4mz/Mw8lssFeVP2xdbmomvpA/GmwmRUBQij8=",
          "dtype": "f8"
         }
        }
       ],
       "layout": {
        "height": 500,
        "showlegend": true,
        "template": {
         "data": {
          "bar": [
           {
            "error_x": {
             "color": "#2a3f5f"
            },
            "error_y": {
             "color": "#2a3f5f"
            },
            "marker": {
             "line": {
              "color": "#E5ECF6",
              "width": 0.5
             },
             "pattern": {
              "fillmode": "overlay",
              "size": 10,
              "solidity": 0.2
             }
            },
            "type": "bar"
           }
          ],
          "barpolar": [
           {
            "marker": {
             "line": {
              "color": "#E5ECF6",
              "width": 0.5
             },
             "pattern": {
              "fillmode": "overlay",
              "size": 10,
              "solidity": 0.2
             }
            },
            "type": "barpolar"
           }
          ],
          "carpet": [
           {
            "aaxis": {
             "endlinecolor": "#2a3f5f",
             "gridcolor": "white",
             "linecolor": "white",
             "minorgridcolor": "white",
             "startlinecolor": "#2a3f5f"
            },
            "baxis": {
             "endlinecolor": "#2a3f5f",
             "gridcolor": "white",
             "linecolor": "white",
             "minorgridcolor": "white",
             "startlinecolor": "#2a3f5f"
            },
            "type": "carpet"
           }
          ],
          "choropleth": [
           {
            "colorbar": {
             "outlinewidth": 0,
             "ticks": ""
            },
            "type": "choropleth"
           }
          ],
          "contour": [
           {
            "colorbar": {
             "outlinewidth": 0,
             "ticks": ""
            },
            "colorscale": [
             [
              0,
              "#0d0887"
             ],
             [
              0.1111111111111111,
              "#46039f"
             ],
             [
              0.2222222222222222,
              "#7201a8"
             ],
             [
              0.3333333333333333,
              "#9c179e"
             ],
             [
              0.4444444444444444,
              "#bd3786"
             ],
             [
              0.5555555555555556,
              "#d8576b"
             ],
             [
              0.6666666666666666,
              "#ed7953"
             ],
             [
              0.7777777777777778,
              "#fb9f3a"
             ],
             [
              0.8888888888888888,
              "#fdca26"
             ],
             [
              1,
              "#f0f921"
             ]
            ],
            "type": "contour"
           }
          ],
          "contourcarpet": [
           {
            "colorbar": {
             "outlinewidth": 0,
             "ticks": ""
            },
            "type": "contourcarpet"
           }
          ],
          "heatmap": [
           {
            "colorbar": {
             "outlinewidth": 0,
             "ticks": ""
            },
            "colorscale": [
             [
              0,
              "#0d0887"
             ],
             [
              0.1111111111111111,
              "#46039f"
             ],
             [
              0.2222222222222222,
              "#7201a8"
             ],
             [
              0.3333333333333333,
              "#9c179e"
             ],
             [
              0.4444444444444444,
              "#bd3786"
             ],
             [
              0.5555555555555556,
              "#d8576b"
             ],
             [
              0.6666666666666666,
              "#ed7953"
             ],
             [
              0.7777777777777778,
              "#fb9f3a"
             ],
             [
              0.8888888888888888,
              "#fdca26"
             ],
             [
              1,
              "#f0f921"
             ]
            ],
            "type": "heatmap"
           }
          ],
          "histogram": [
           {
            "marker": {
             "pattern": {
              "fillmode": "overlay",
              "size": 10,
              "solidity": 0.2
             }
            },
            "type": "histogram"
           }
          ],
          "histogram2d": [
           {
            "colorbar": {
             "outlinewidth": 0,
             "ticks": ""
            },
            "colorscale": [
             [
              0,
              "#0d0887"
             ],
             [
              0.1111111111111111,
              "#46039f"
             ],
             [
              0.2222222222222222,
              "#7201a8"
             ],
             [
              0.3333333333333333,
              "#9c179e"
             ],
             [
              0.4444444444444444,
              "#bd3786"
             ],
             [
              0.5555555555555556,
              "#d8576b"
             ],
             [
              0.6666666666666666,
              "#ed7953"
             ],
             [
              0.7777777777777778,
              "#fb9f3a"
             ],
             [
              0.8888888888888888,
              "#fdca26"
             ],
             [
              1,
              "#f0f921"
             ]
            ],
            "type": "histogram2d"
           }
          ],
          "histogram2dcontour": [
           {
            "colorbar": {
             "outlinewidth": 0,
             "ticks": ""
            },
            "colorscale": [
             [
              0,
              "#0d0887"
             ],
             [
              0.1111111111111111,
              "#46039f"
             ],
             [
              0.2222222222222222,
              "#7201a8"
             ],
             [
              0.3333333333333333,
              "#9c179e"
             ],
             [
              0.4444444444444444,
              "#bd3786"
             ],
             [
              0.5555555555555556,
              "#d8576b"
             ],
             [
              0.6666666666666666,
              "#ed7953"
             ],
             [
              0.7777777777777778,
              "#fb9f3a"
             ],
             [
              0.8888888888888888,
              "#fdca26"
             ],
             [
              1,
              "#f0f921"
             ]
            ],
            "type": "histogram2dcontour"
           }
          ],
          "mesh3d": [
           {
            "colorbar": {
             "outlinewidth": 0,
             "ticks": ""
            },
            "type": "mesh3d"
           }
          ],
          "parcoords": [
           {
            "line": {
             "colorbar": {
              "outlinewidth": 0,
              "ticks": ""
             }
            },
            "type": "parcoords"
           }
          ],
          "pie": [
           {
            "automargin": true,
            "type": "pie"
           }
          ],
          "scatter": [
           {
            "fillpattern": {
             "fillmode": "overlay",
             "size": 10,
             "solidity": 0.2
            },
            "type": "scatter"
           }
          ],
          "scatter3d": [
           {
            "line": {
             "colorbar": {
              "outlinewidth": 0,
              "ticks": ""
             }
            },
            "marker": {
             "colorbar": {
              "outlinewidth": 0,
              "ticks": ""
             }
            },
            "type": "scatter3d"
           }
          ],
          "scattercarpet": [
           {
            "marker": {
             "colorbar": {
              "outlinewidth": 0,
              "ticks": ""
             }
            },
            "type": "scattercarpet"
           }
          ],
          "scattergeo": [
           {
            "marker": {
             "colorbar": {
              "outlinewidth": 0,
              "ticks": ""
             }
            },
            "type": "scattergeo"
           }
          ],
          "scattergl": [
           {
            "marker": {
             "colorbar": {
              "outlinewidth": 0,
              "ticks": ""
             }
            },
            "type": "scattergl"
           }
          ],
          "scattermap": [
           {
            "marker": {
             "colorbar": {
              "outlinewidth": 0,
              "ticks": ""
             }
            },
            "type": "scattermap"
           }
          ],
          "scattermapbox": [
           {
            "marker": {
             "colorbar": {
              "outlinewidth": 0,
              "ticks": ""
             }
            },
            "type": "scattermapbox"
           }
          ],
          "scatterpolar": [
           {
            "marker": {
             "colorbar": {
              "outlinewidth": 0,
              "ticks": ""
             }
            },
            "type": "scatterpolar"
           }
          ],
          "scatterpolargl": [
           {
            "marker": {
             "colorbar": {
              "outlinewidth": 0,
              "ticks": ""
             }
            },
            "type": "scatterpolargl"
           }
          ],
          "scatterternary": [
           {
            "marker": {
             "colorbar": {
              "outlinewidth": 0,
              "ticks": ""
             }
            },
            "type": "scatterternary"
           }
          ],
          "surface": [
           {
            "colorbar": {
             "outlinewidth": 0,
             "ticks": ""
            },
            "colorscale": [
             [
              0,
              "#0d0887"
             ],
             [
              0.1111111111111111,
              "#46039f"
             ],
             [
              0.2222222222222222,
              "#7201a8"
             ],
             [
              0.3333333333333333,
              "#9c179e"
             ],
             [
              0.4444444444444444,
              "#bd3786"
             ],
             [
              0.5555555555555556,
              "#d8576b"
             ],
             [
              0.6666666666666666,
              "#ed7953"
             ],
             [
              0.7777777777777778,
              "#fb9f3a"
             ],
             [
              0.8888888888888888,
              "#fdca26"
             ],
             [
              1,
              "#f0f921"
             ]
            ],
            "type": "surface"
           }
          ],
          "table": [
           {
            "cells": {
             "fill": {
              "color": "#EBF0F8"
             },
             "line": {
              "color": "white"
             }
            },
            "header": {
             "fill": {
              "color": "#C8D4E3"
             },
             "line": {
              "color": "white"
             }
            },
            "type": "table"
           }
          ]
         },
         "layout": {
          "annotationdefaults": {
           "arrowcolor": "#2a3f5f",
           "arrowhead": 0,
           "arrowwidth": 1
          },
          "autotypenumbers": "strict",
          "coloraxis": {
           "colorbar": {
            "outlinewidth": 0,
            "ticks": ""
           }
          },
          "colorscale": {
           "diverging": [
            [
             0,
             "#8e0152"
            ],
            [
             0.1,
             "#c51b7d"
            ],
            [
             0.2,
             "#de77ae"
            ],
            [
             0.3,
             "#f1b6da"
            ],
            [
             0.4,
             "#fde0ef"
            ],
            [
             0.5,
             "#f7f7f7"
            ],
            [
             0.6,
             "#e6f5d0"
            ],
            [
             0.7,
             "#b8e186"
            ],
            [
             0.8,
             "#7fbc41"
            ],
            [
             0.9,
             "#4d9221"
            ],
            [
             1,
             "#276419"
            ]
           ],
           "sequential": [
            [
             0,
             "#0d0887"
            ],
            [
             0.1111111111111111,
             "#46039f"
            ],
            [
             0.2222222222222222,
             "#7201a8"
            ],
            [
             0.3333333333333333,
             "#9c179e"
            ],
            [
             0.4444444444444444,
             "#bd3786"
            ],
            [
             0.5555555555555556,
             "#d8576b"
            ],
            [
             0.6666666666666666,
             "#ed7953"
            ],
            [
             0.7777777777777778,
             "#fb9f3a"
            ],
            [
             0.8888888888888888,
             "#fdca26"
            ],
            [
             1,
             "#f0f921"
            ]
           ],
           "sequentialminus": [
            [
             0,
             "#0d0887"
            ],
            [
             0.1111111111111111,
             "#46039f"
            ],
            [
             0.2222222222222222,
             "#7201a8"
            ],
            [
             0.3333333333333333,
             "#9c179e"
            ],
            [
             0.4444444444444444,
             "#bd3786"
            ],
            [
             0.5555555555555556,
             "#d8576b"
            ],
            [
             0.6666666666666666,
             "#ed7953"
            ],
            [
             0.7777777777777778,
             "#fb9f3a"
            ],
            [
             0.8888888888888888,
             "#fdca26"
            ],
            [
             1,
             "#f0f921"
            ]
           ]
          },
          "colorway": [
           "#636efa",
           "#EF553B",
           "#00cc96",
           "#ab63fa",
           "#FFA15A",
           "#19d3f3",
           "#FF6692",
           "#B6E880",
           "#FF97FF",
           "#FECB52"
          ],
          "font": {
           "color": "#2a3f5f"
          },
          "geo": {
           "bgcolor": "white",
           "lakecolor": "white",
           "landcolor": "#E5ECF6",
           "showlakes": true,
           "showland": true,
           "subunitcolor": "white"
          },
          "hoverlabel": {
           "align": "left"
          },
          "hovermode": "closest",
          "mapbox": {
           "style": "light"
          },
          "paper_bgcolor": "white",
          "plot_bgcolor": "#E5ECF6",
          "polar": {
           "angularaxis": {
            "gridcolor": "white",
            "linecolor": "white",
            "ticks": ""
           },
           "bgcolor": "#E5ECF6",
           "radialaxis": {
            "gridcolor": "white",
            "linecolor": "white",
            "ticks": ""
           }
          },
          "scene": {
           "xaxis": {
            "backgroundcolor": "#E5ECF6",
            "gridcolor": "white",
            "gridwidth": 2,
            "linecolor": "white",
            "showbackground": true,
            "ticks": "",
            "zerolinecolor": "white"
           },
           "yaxis": {
            "backgroundcolor": "#E5ECF6",
            "gridcolor": "white",
            "gridwidth": 2,
            "linecolor": "white",
            "showbackground": true,
            "ticks": "",
            "zerolinecolor": "white"
           },
           "zaxis": {
            "backgroundcolor": "#E5ECF6",
            "gridcolor": "white",
            "gridwidth": 2,
            "linecolor": "white",
            "showbackground": true,
            "ticks": "",
            "zerolinecolor": "white"
           }
          },
          "shapedefaults": {
           "line": {
            "color": "#2a3f5f"
           }
          },
          "ternary": {
           "aaxis": {
            "gridcolor": "white",
            "linecolor": "white",
            "ticks": ""
           },
           "baxis": {
            "gridcolor": "white",
            "linecolor": "white",
            "ticks": ""
           },
           "bgcolor": "#E5ECF6",
           "caxis": {
            "gridcolor": "white",
            "linecolor": "white",
            "ticks": ""
           }
          },
          "title": {
           "x": 0.05
          },
          "xaxis": {
           "automargin": true,
           "gridcolor": "white",
           "linecolor": "white",
           "ticks": "",
           "title": {
            "standoff": 15
           },
           "zerolinecolor": "white",
           "zerolinewidth": 2
          },
          "yaxis": {
           "automargin": true,
           "gridcolor": "white",
           "linecolor": "white",
           "ticks": "",
           "title": {
            "standoff": 15
           },
           "zerolinecolor": "white",
           "zerolinewidth": 2
          }
         }
        },
        "title": {
         "text": "Ridge Regression: Regularization Path (Important Features)"
        },
        "xaxis": {
         "title": {
          "text": "Alpha (log scale)"
         },
         "type": "log"
        },
        "yaxis": {
         "title": {
          "text": "Coefficient Value"
         }
        }
       }
      }
     },
     "metadata": {},
     "output_type": "display_data"
    },
    {
     "data": {
      "application/vnd.plotly.v1+json": {
       "config": {
        "plotlyServerURL": "https://plot.ly"
       },
       "data": [
        {
         "hovertemplate": "Alpha: %{x:.6f}<br>R² Score: %{y:.4f}<extra></extra>",
         "line": {
          "color": "blue",
          "width": 3
         },
         "mode": "lines",
         "name": "Test R² Score",
         "type": "scatter",
         "x": {
          "bdata": "LUMc6+I2Gj+75UhTSZMfP6qoX24sBCM/rKwid7vnJj/T73Lk4pYrP31TLcKinTA/0Kgm9IQDND9f1wwVTBs4PzG3Fm1ZCT0/VMfubr98QT+SGdUwQhBFP9pJCZn+Xkk/+R0AcD6PTj+sQAH/j2dSP2eQRfwXK1Y/JMFCoquzWj8EhZBsyxRgP62eXpaxXmM/kmI1ncNUZz+aA6EsNxpsP7WpAKK67HA/SSwLl8lidD+iFO9HDI54P1OiWimRk30/jfzBWf3PgT/9rsIPhnSFPySfmaPD14k/nmOHH7Ygjz/T+aepK7+SP3WWczCelJY/EL+FVsYymz+4ZY/qV2GgP2AKr6HluqM/+j/WxNLDpz+PNteZ/J+sP6LsaQBLPbE/OhYat9PDtD/bV3K17gK5P0zO7NRaIL4/+ICigsckwj9/aC41p9rFP7ywaI/HUso/LhjvQOK0zz8o1f5aaBjTPyJW2bMaANc/G29cEz602z+As3nKUK/gP2F8ZpPQGOQ/Eg6PlPI06D8SLdvLPijtP74Wk91aj/E/YV/+wqsm9T/rIraF/Xn5P/+8qKvCr/4/+AC7RyV7AkBdQf2ArkIGQAnB9wwV0ApAOj0s2uclEEA6bx/UTXMTQKYtht2WbRdAkyDRGB44HEBG09HSvP4gQKL0vZR6eCRAqK3Z4CyoKEAinseZCbMtQCoT+Vrx4jFAa4yGUVqLNUCP5jIRQ/M5QJ3/pSPVQT9AsZBIKh7TQkBUulL9pKxGQGQzqv+2T0tA5GaXy8VyUED8uwz7489TQBA//zAc3VdAP4N73HG+XED3qFrqok9hQLdtx/Xr2WRAesL6rIsdaUC8thMTaUBuQBBeCrwVOHJAPr9jIujxdUBbJqDhyW56QMlqTe6e1n9Af55Bz7ksg0Do71nfkxiHQFDCt3640YtAeoylohHBkEDAumLbMi6UQCATE1+0TphAdZF/CkVHnUCQHbEYCqKhQDnIJi4tPaVAEnDgKxmVqUCZY5+AadCuQP+XyGbPjrJARFXsHl5atkC+496ynOy6QG25uXwWN8BAAAAAAACIw0A=",
          "dtype": "f8"
         },
         "y": [
          0.9902809014034765,
          0.99028090308657,
          0.9902809051138297,
          0.990280907555624,
          0.9902809104967053,
          0.9902809140391489,
          0.9902809183058905,
          0.9902809234449866,
          0.9902809296347427,
          0.9902809370898855,
          0.9902809460689929,
          0.9902809568834328,
          0.9902809699081194,
          0.9902809855944507,
          0.9902810044858626,
          0.9902810272365309,
          0.9902810546338371,
          0.9902810876253518,
          0.9902811273512182,
          0.9902811751829895,
          0.9902812327701634,
          0.9902813020958786,
          0.9902813855434854,
          0.9902814859759868,
          0.9902816068306421,
          0.9902817522313565,
          0.9902819271217885,
          0.9902821374224032,
          0.9902823902149075,
          0.9902826939575586,
          0.990283058734625,
          0.9902834965426102,
          0.9902840216144863,
          0.9902846507807049,
          0.9902854038616442,
          0.9902863040795722,
          0.9902873784680656,
          0.9902886582415243,
          0.9902901790648283,
          0.9902919811303936,
          0.990294108903112,
          0.9902966103280846,
          0.9902995352058866,
          0.990302932318746,
          0.9903068447319803,
          0.9903113024934144,
          0.9903163117089769,
          0.9903218386941891,
          0.9903277876138857,
          0.990333969776103,
          0.9903400626237531,
          0.9903455565892196,
          0.9903496884873015,
          0.9903513611496308,
          0.9903490505716841,
          0.9903407037206401,
          0.9903236316646575,
          0.9902944025643671,
          0.990248735504491,
          0.9901813872505402,
          0.9900860088594303,
          0.989954929100156,
          0.9897788018121827,
          0.9895460428562904,
          0.9892419881126259,
          0.9888477321574503,
          0.98833865454281,
          0.98768269351889,
          0.9868384643273144,
          0.985753318160895,
          0.9843613827097577,
          0.9825815158433384,
          0.980314964619711,
          0.9774424060672555,
          0.9738200321749406,
          0.9692745100084847,
          0.963597044180492,
          0.9565373639918253,
          0.9477991326736609,
          0.9370388479884633,
          0.9238705816811575,
          0.9078787501578669,
          0.8886404550924358,
          0.8657577747713645,
          0.838898758069451,
          0.8078438668109507,
          0.7725324647096653,
          0.733102130445147,
          0.6899127722804457,
          0.6435484612610695,
          0.5947929484106518,
          0.5445796316416025,
          0.49392210571556583,
          0.44383570222888935,
          0.3952621715465109,
          0.34900834087976074,
          0.3057058021947363,
          0.2657938343003301,
          0.22952336019416575,
          0.19697682044345644
         ]
        }
       ],
       "layout": {
        "annotations": [
         {
          "showarrow": false,
          "text": "Optimal α = 0.184207",
          "x": 0.18420699693267145,
          "xanchor": "left",
          "xref": "x",
          "y": 1,
          "yanchor": "top",
          "yref": "y domain"
         }
        ],
        "height": 500,
        "shapes": [
         {
          "line": {
           "color": "red",
           "dash": "dash"
          },
          "type": "line",
          "x0": 0.18420699693267145,
          "x1": 0.18420699693267145,
          "xref": "x",
          "y0": 0,
          "y1": 1,
          "yref": "y domain"
         }
        ],
        "template": {
         "data": {
          "bar": [
           {
            "error_x": {
             "color": "#2a3f5f"
            },
            "error_y": {
             "color": "#2a3f5f"
            },
            "marker": {
             "line": {
              "color": "#E5ECF6",
              "width": 0.5
             },
             "pattern": {
              "fillmode": "overlay",
              "size": 10,
              "solidity": 0.2
             }
            },
            "type": "bar"
           }
          ],
          "barpolar": [
           {
            "marker": {
             "line": {
              "color": "#E5ECF6",
              "width": 0.5
             },
             "pattern": {
              "fillmode": "overlay",
              "size": 10,
              "solidity": 0.2
             }
            },
            "type": "barpolar"
           }
          ],
          "carpet": [
           {
            "aaxis": {
             "endlinecolor": "#2a3f5f",
             "gridcolor": "white",
             "linecolor": "white",
             "minorgridcolor": "white",
             "startlinecolor": "#2a3f5f"
            },
            "baxis": {
             "endlinecolor": "#2a3f5f",
             "gridcolor": "white",
             "linecolor": "white",
             "minorgridcolor": "white",
             "startlinecolor": "#2a3f5f"
            },
            "type": "carpet"
           }
          ],
          "choropleth": [
           {
            "colorbar": {
             "outlinewidth": 0,
             "ticks": ""
            },
            "type": "choropleth"
           }
          ],
          "contour": [
           {
            "colorbar": {
             "outlinewidth": 0,
             "ticks": ""
            },
            "colorscale": [
             [
              0,
              "#0d0887"
             ],
             [
              0.1111111111111111,
              "#46039f"
             ],
             [
              0.2222222222222222,
              "#7201a8"
             ],
             [
              0.3333333333333333,
              "#9c179e"
             ],
             [
              0.4444444444444444,
              "#bd3786"
             ],
             [
              0.5555555555555556,
              "#d8576b"
             ],
             [
              0.6666666666666666,
              "#ed7953"
             ],
             [
              0.7777777777777778,
              "#fb9f3a"
             ],
             [
              0.8888888888888888,
              "#fdca26"
             ],
             [
              1,
              "#f0f921"
             ]
            ],
            "type": "contour"
           }
          ],
          "contourcarpet": [
           {
            "colorbar": {
             "outlinewidth": 0,
             "ticks": ""
            },
            "type": "contourcarpet"
           }
          ],
          "heatmap": [
           {
            "colorbar": {
             "outlinewidth": 0,
             "ticks": ""
            },
            "colorscale": [
             [
              0,
              "#0d0887"
             ],
             [
              0.1111111111111111,
              "#46039f"
             ],
             [
              0.2222222222222222,
              "#7201a8"
             ],
             [
              0.3333333333333333,
              "#9c179e"
             ],
             [
              0.4444444444444444,
              "#bd3786"
             ],
             [
              0.5555555555555556,
              "#d8576b"
             ],
             [
              0.6666666666666666,
              "#ed7953"
             ],
             [
              0.7777777777777778,
              "#fb9f3a"
             ],
             [
              0.8888888888888888,
              "#fdca26"
             ],
             [
              1,
              "#f0f921"
             ]
            ],
            "type": "heatmap"
           }
          ],
          "histogram": [
           {
            "marker": {
             "pattern": {
              "fillmode": "overlay",
              "size": 10,
              "solidity": 0.2
             }
            },
            "type": "histogram"
           }
          ],
          "histogram2d": [
           {
            "colorbar": {
             "outlinewidth": 0,
             "ticks": ""
            },
            "colorscale": [
             [
              0,
              "#0d0887"
             ],
             [
              0.1111111111111111,
              "#46039f"
             ],
             [
              0.2222222222222222,
              "#7201a8"
             ],
             [
              0.3333333333333333,
              "#9c179e"
             ],
             [
              0.4444444444444444,
              "#bd3786"
             ],
             [
              0.5555555555555556,
              "#d8576b"
             ],
             [
              0.6666666666666666,
              "#ed7953"
             ],
             [
              0.7777777777777778,
              "#fb9f3a"
             ],
             [
              0.8888888888888888,
              "#fdca26"
             ],
             [
              1,
              "#f0f921"
             ]
            ],
            "type": "histogram2d"
           }
          ],
          "histogram2dcontour": [
           {
            "colorbar": {
             "outlinewidth": 0,
             "ticks": ""
            },
            "colorscale": [
             [
              0,
              "#0d0887"
             ],
             [
              0.1111111111111111,
              "#46039f"
             ],
             [
              0.2222222222222222,
              "#7201a8"
             ],
             [
              0.3333333333333333,
              "#9c179e"
             ],
             [
              0.4444444444444444,
              "#bd3786"
             ],
             [
              0.5555555555555556,
              "#d8576b"
             ],
             [
              0.6666666666666666,
              "#ed7953"
             ],
             [
              0.7777777777777778,
              "#fb9f3a"
             ],
             [
              0.8888888888888888,
              "#fdca26"
             ],
             [
              1,
              "#f0f921"
             ]
            ],
            "type": "histogram2dcontour"
           }
          ],
          "mesh3d": [
           {
            "colorbar": {
             "outlinewidth": 0,
             "ticks": ""
            },
            "type": "mesh3d"
           }
          ],
          "parcoords": [
           {
            "line": {
             "colorbar": {
              "outlinewidth": 0,
              "ticks": ""
             }
            },
            "type": "parcoords"
           }
          ],
          "pie": [
           {
            "automargin": true,
            "type": "pie"
           }
          ],
          "scatter": [
           {
            "fillpattern": {
             "fillmode": "overlay",
             "size": 10,
             "solidity": 0.2
            },
            "type": "scatter"
           }
          ],
          "scatter3d": [
           {
            "line": {
             "colorbar": {
              "outlinewidth": 0,
              "ticks": ""
             }
            },
            "marker": {
             "colorbar": {
              "outlinewidth": 0,
              "ticks": ""
             }
            },
            "type": "scatter3d"
           }
          ],
          "scattercarpet": [
           {
            "marker": {
             "colorbar": {
              "outlinewidth": 0,
              "ticks": ""
             }
            },
            "type": "scattercarpet"
           }
          ],
          "scattergeo": [
           {
            "marker": {
             "colorbar": {
              "outlinewidth": 0,
              "ticks": ""
             }
            },
            "type": "scattergeo"
           }
          ],
          "scattergl": [
           {
            "marker": {
             "colorbar": {
              "outlinewidth": 0,
              "ticks": ""
             }
            },
            "type": "scattergl"
           }
          ],
          "scattermap": [
           {
            "marker": {
             "colorbar": {
              "outlinewidth": 0,
              "ticks": ""
             }
            },
            "type": "scattermap"
           }
          ],
          "scattermapbox": [
           {
            "marker": {
             "colorbar": {
              "outlinewidth": 0,
              "ticks": ""
             }
            },
            "type": "scattermapbox"
           }
          ],
          "scatterpolar": [
           {
            "marker": {
             "colorbar": {
              "outlinewidth": 0,
              "ticks": ""
             }
            },
            "type": "scatterpolar"
           }
          ],
          "scatterpolargl": [
           {
            "marker": {
             "colorbar": {
              "outlinewidth": 0,
              "ticks": ""
             }
            },
            "type": "scatterpolargl"
           }
          ],
          "scatterternary": [
           {
            "marker": {
             "colorbar": {
              "outlinewidth": 0,
              "ticks": ""
             }
            },
            "type": "scatterternary"
           }
          ],
          "surface": [
           {
            "colorbar": {
             "outlinewidth": 0,
             "ticks": ""
            },
            "colorscale": [
             [
              0,
              "#0d0887"
             ],
             [
              0.1111111111111111,
              "#46039f"
             ],
             [
              0.2222222222222222,
              "#7201a8"
             ],
             [
              0.3333333333333333,
              "#9c179e"
             ],
             [
              0.4444444444444444,
              "#bd3786"
             ],
             [
              0.5555555555555556,
              "#d8576b"
             ],
             [
              0.6666666666666666,
              "#ed7953"
             ],
             [
              0.7777777777777778,
              "#fb9f3a"
             ],
             [
              0.8888888888888888,
              "#fdca26"
             ],
             [
              1,
              "#f0f921"
             ]
            ],
            "type": "surface"
           }
          ],
          "table": [
           {
            "cells": {
             "fill": {
              "color": "#EBF0F8"
             },
             "line": {
              "color": "white"
             }
            },
            "header": {
             "fill": {
              "color": "#C8D4E3"
             },
             "line": {
              "color": "white"
             }
            },
            "type": "table"
           }
          ]
         },
         "layout": {
          "annotationdefaults": {
           "arrowcolor": "#2a3f5f",
           "arrowhead": 0,
           "arrowwidth": 1
          },
          "autotypenumbers": "strict",
          "coloraxis": {
           "colorbar": {
            "outlinewidth": 0,
            "ticks": ""
           }
          },
          "colorscale": {
           "diverging": [
            [
             0,
             "#8e0152"
            ],
            [
             0.1,
             "#c51b7d"
            ],
            [
             0.2,
             "#de77ae"
            ],
            [
             0.3,
             "#f1b6da"
            ],
            [
             0.4,
             "#fde0ef"
            ],
            [
             0.5,
             "#f7f7f7"
            ],
            [
             0.6,
             "#e6f5d0"
            ],
            [
             0.7,
             "#b8e186"
            ],
            [
             0.8,
             "#7fbc41"
            ],
            [
             0.9,
             "#4d9221"
            ],
            [
             1,
             "#276419"
            ]
           ],
           "sequential": [
            [
             0,
             "#0d0887"
            ],
            [
             0.1111111111111111,
             "#46039f"
            ],
            [
             0.2222222222222222,
             "#7201a8"
            ],
            [
             0.3333333333333333,
             "#9c179e"
            ],
            [
             0.4444444444444444,
             "#bd3786"
            ],
            [
             0.5555555555555556,
             "#d8576b"
            ],
            [
             0.6666666666666666,
             "#ed7953"
            ],
            [
             0.7777777777777778,
             "#fb9f3a"
            ],
            [
             0.8888888888888888,
             "#fdca26"
            ],
            [
             1,
             "#f0f921"
            ]
           ],
           "sequentialminus": [
            [
             0,
             "#0d0887"
            ],
            [
             0.1111111111111111,
             "#46039f"
            ],
            [
             0.2222222222222222,
             "#7201a8"
            ],
            [
             0.3333333333333333,
             "#9c179e"
            ],
            [
             0.4444444444444444,
             "#bd3786"
            ],
            [
             0.5555555555555556,
             "#d8576b"
            ],
            [
             0.6666666666666666,
             "#ed7953"
            ],
            [
             0.7777777777777778,
             "#fb9f3a"
            ],
            [
             0.8888888888888888,
             "#fdca26"
            ],
            [
             1,
             "#f0f921"
            ]
           ]
          },
          "colorway": [
           "#636efa",
           "#EF553B",
           "#00cc96",
           "#ab63fa",
           "#FFA15A",
           "#19d3f3",
           "#FF6692",
           "#B6E880",
           "#FF97FF",
           "#FECB52"
          ],
          "font": {
           "color": "#2a3f5f"
          },
          "geo": {
           "bgcolor": "white",
           "lakecolor": "white",
           "landcolor": "#E5ECF6",
           "showlakes": true,
           "showland": true,
           "subunitcolor": "white"
          },
          "hoverlabel": {
           "align": "left"
          },
          "hovermode": "closest",
          "mapbox": {
           "style": "light"
          },
          "paper_bgcolor": "white",
          "plot_bgcolor": "#E5ECF6",
          "polar": {
           "angularaxis": {
            "gridcolor": "white",
            "linecolor": "white",
            "ticks": ""
           },
           "bgcolor": "#E5ECF6",
           "radialaxis": {
            "gridcolor": "white",
            "linecolor": "white",
            "ticks": ""
           }
          },
          "scene": {
           "xaxis": {
            "backgroundcolor": "#E5ECF6",
            "gridcolor": "white",
            "gridwidth": 2,
            "linecolor": "white",
            "showbackground": true,
            "ticks": "",
            "zerolinecolor": "white"
           },
           "yaxis": {
            "backgroundcolor": "#E5ECF6",
            "gridcolor": "white",
            "gridwidth": 2,
            "linecolor": "white",
            "showbackground": true,
            "ticks": "",
            "zerolinecolor": "white"
           },
           "zaxis": {
            "backgroundcolor": "#E5ECF6",
            "gridcolor": "white",
            "gridwidth": 2,
            "linecolor": "white",
            "showbackground": true,
            "ticks": "",
            "zerolinecolor": "white"
           }
          },
          "shapedefaults": {
           "line": {
            "color": "#2a3f5f"
           }
          },
          "ternary": {
           "aaxis": {
            "gridcolor": "white",
            "linecolor": "white",
            "ticks": ""
           },
           "baxis": {
            "gridcolor": "white",
            "linecolor": "white",
            "ticks": ""
           },
           "bgcolor": "#E5ECF6",
           "caxis": {
            "gridcolor": "white",
            "linecolor": "white",
            "ticks": ""
           }
          },
          "title": {
           "x": 0.05
          },
          "xaxis": {
           "automargin": true,
           "gridcolor": "white",
           "linecolor": "white",
           "ticks": "",
           "title": {
            "standoff": 15
           },
           "zerolinecolor": "white",
           "zerolinewidth": 2
          },
          "yaxis": {
           "automargin": true,
           "gridcolor": "white",
           "linecolor": "white",
           "ticks": "",
           "title": {
            "standoff": 15
           },
           "zerolinecolor": "white",
           "zerolinewidth": 2
          }
         }
        },
        "title": {
         "text": "Ridge Regression: Alpha vs Model Performance"
        },
        "xaxis": {
         "title": {
          "text": "Alpha (log scale)"
         },
         "type": "log"
        },
        "yaxis": {
         "title": {
          "text": "Test R² Score"
         }
        }
       }
      }
     },
     "metadata": {},
     "output_type": "display_data"
    },
    {
     "data": {
      "application/vnd.plotly.v1+json": {
       "config": {
        "plotlyServerURL": "https://plot.ly"
       },
       "data": [
        {
         "hovertemplate": "<b>%{text}</b><br>Linear: %{x:.3f}<br>Ridge: %{y:.3f}<extra></extra>",
         "marker": {
          "color": "blue",
          "size": 8
         },
         "mode": "markers",
         "name": "Ridge vs Linear",
         "text": [
          "Important_1",
          "Important_2",
          "Important_3",
          "Important_4",
          "Important_5",
          "Important_6",
          "Important_7",
          "Important_8",
          "Important_9",
          "Important_10",
          "Important_11",
          "Important_12",
          "Important_13",
          "marketing_spend",
          "Important_14",
          "Noise_14",
          "Noise_6",
          "Noise_26",
          "Noise_25",
          "Noise_30"
         ],
         "type": "scatter",
         "x": {
          "bdata": "cTUK0HdqJECkNHBDv0YgQBL7f0LN8BdAMSJaZ40oFEBJWIktnPUOQI54ZU3W0QhAid5RhKdxAEDkOepXfu33P1Fe1uJPOPA/mKetdHlc6z+4WUk7Sx7jP3kUaPv3wNs/yM8mNW2z1D+usnPnyGvUP+S6amzXCdQ/8AZgXftxvT9gFBhaL4C5P+D4amNWJrg/0DbxPDtltz+YE69mfvC1Pw==",
          "dtype": "f8"
         },
         "xaxis": "x",
         "y": {
          "bdata": "dh3zGPRHJECR/vrzBUMgQNWc03YB7RdAenOA6G8mFEDM3uU8GfUOQL43T1NOzwhAdsoAT69uAEDBbnae5+z3P1yDh7/xNfA/ufQYq/5Y6z9vB/R4whvjP+PlDxRCv9s/E0WmviG11D8BZpvkYKfYP5+i8x1hBNQ/OXMLLd9IvT+gXk9tXl65P78ru3C1G7g/rYzSyQZttz9mLlp2xPm1Pw==",
          "dtype": "f8"
         },
         "yaxis": "y"
        },
        {
         "line": {
          "color": "red",
          "dash": "dash"
         },
         "mode": "lines",
         "name": "No Shrinkage",
         "showlegend": false,
         "type": "scatter",
         "x": [
          0,
          10.207945348020731
         ],
         "xaxis": "x",
         "y": [
          0,
          10.207945348020731
         ],
         "yaxis": "y"
        },
        {
         "hovertemplate": "<b>%{x}</b><br>Shrinkage: %{y:.3f}<extra></extra>",
         "marker": {
          "color": [
           "red",
           "red",
           "red",
           "red",
           "red",
           "red",
           "red",
           "red",
           "red",
           "red",
           "red",
           "red",
           "red",
           "lightblue",
           "red",
           "lightblue",
           "lightblue",
           "lightblue",
           "lightblue",
           "lightblue"
          ]
         },
         "name": "Shrinkage",
         "showlegend": false,
         "type": "bar",
         "x": [
          "Important_1",
          "Important_2",
          "Important_3",
          "Important_4",
          "Important_5",
          "Important_6",
          "Important_7",
          "Important_8",
          "Important_9",
          "Important_10",
          "Important_11",
          "Important_12",
          "Important_13",
          "marketing_spend",
          "Important_14",
          "Noise_14",
          "Noise_6",
          "Noise_26",
          "Noise_25",
          "Noise_30"
         ],
         "xaxis": "x2",
         "y": {
          "bdata": "gP2Li9tBsT8AmLCpe8p9PwDo8WJdXm4/ALh1zfbrYD8AoC9vFF4wPwCABrLQP1Q/AJigiKrBVz8AYGR5LtciPwCo13Ya8UI/APiWpUzWOz8ASJKqEkY0PwBg6YJ1Xhs/ALBU95dIG79MzZ70X+6wvwAUYdw52TU/gNtJKhiORD8A4FpkduhAPwBCml/lQSU/AHRXhTMuH78AnDVWH4wivw==",
          "dtype": "f8"
         },
         "yaxis": "y2"
        }
       ],
       "layout": {
        "annotations": [
         {
          "font": {
           "size": 16
          },
          "showarrow": false,
          "text": "Coefficient Comparison",
          "x": 0.225,
          "xanchor": "center",
          "xref": "paper",
          "y": 1,
          "yanchor": "bottom",
          "yref": "paper"
         },
         {
          "font": {
           "size": 16
          },
          "showarrow": false,
          "text": "Shrinkage Effect",
          "x": 0.775,
          "xanchor": "center",
          "xref": "paper",
          "y": 1,
          "yanchor": "bottom",
          "yref": "paper"
         }
        ],
        "height": 500,
        "template": {
         "data": {
          "bar": [
           {
            "error_x": {
             "color": "#2a3f5f"
            },
            "error_y": {
             "color": "#2a3f5f"
            },
            "marker": {
             "line": {
              "color": "#E5ECF6",
              "width": 0.5
             },
             "pattern": {
              "fillmode": "overlay",
              "size": 10,
              "solidity": 0.2
             }
            },
            "type": "bar"
           }
          ],
          "barpolar": [
           {
            "marker": {
             "line": {
              "color": "#E5ECF6",
              "width": 0.5
             },
             "pattern": {
              "fillmode": "overlay",
              "size": 10,
              "solidity": 0.2
             }
            },
            "type": "barpolar"
           }
          ],
          "carpet": [
           {
            "aaxis": {
             "endlinecolor": "#2a3f5f",
             "gridcolor": "white",
             "linecolor": "white",
             "minorgridcolor": "white",
             "startlinecolor": "#2a3f5f"
            },
            "baxis": {
             "endlinecolor": "#2a3f5f",
             "gridcolor": "white",
             "linecolor": "white",
             "minorgridcolor": "white",
             "startlinecolor": "#2a3f5f"
            },
            "type": "carpet"
           }
          ],
          "choropleth": [
           {
            "colorbar": {
             "outlinewidth": 0,
             "ticks": ""
            },
            "type": "choropleth"
           }
          ],
          "contour": [
           {
            "colorbar": {
             "outlinewidth": 0,
             "ticks": ""
            },
            "colorscale": [
             [
              0,
              "#0d0887"
             ],
             [
              0.1111111111111111,
              "#46039f"
             ],
             [
              0.2222222222222222,
              "#7201a8"
             ],
             [
              0.3333333333333333,
              "#9c179e"
             ],
             [
              0.4444444444444444,
              "#bd3786"
             ],
             [
              0.5555555555555556,
              "#d8576b"
             ],
             [
              0.6666666666666666,
              "#ed7953"
             ],
             [
              0.7777777777777778,
              "#fb9f3a"
             ],
             [
              0.8888888888888888,
              "#fdca26"
             ],
             [
              1,
              "#f0f921"
             ]
            ],
            "type": "contour"
           }
          ],
          "contourcarpet": [
           {
            "colorbar": {
             "outlinewidth": 0,
             "ticks": ""
            },
            "type": "contourcarpet"
           }
          ],
          "heatmap": [
           {
            "colorbar": {
             "outlinewidth": 0,
             "ticks": ""
            },
            "colorscale": [
             [
              0,
              "#0d0887"
             ],
             [
              0.1111111111111111,
              "#46039f"
             ],
             [
              0.2222222222222222,
              "#7201a8"
             ],
             [
              0.3333333333333333,
              "#9c179e"
             ],
             [
              0.4444444444444444,
              "#bd3786"
             ],
             [
              0.5555555555555556,
              "#d8576b"
             ],
             [
              0.6666666666666666,
              "#ed7953"
             ],
             [
              0.7777777777777778,
              "#fb9f3a"
             ],
             [
              0.8888888888888888,
              "#fdca26"
             ],
             [
              1,
              "#f0f921"
             ]
            ],
            "type": "heatmap"
           }
          ],
          "histogram": [
           {
            "marker": {
             "pattern": {
              "fillmode": "overlay",
              "size": 10,
              "solidity": 0.2
             }
            },
            "type": "histogram"
           }
          ],
          "histogram2d": [
           {
            "colorbar": {
             "outlinewidth": 0,
             "ticks": ""
            },
            "colorscale": [
             [
              0,
              "#0d0887"
             ],
             [
              0.1111111111111111,
              "#46039f"
             ],
             [
              0.2222222222222222,
              "#7201a8"
             ],
             [
              0.3333333333333333,
              "#9c179e"
             ],
             [
              0.4444444444444444,
              "#bd3786"
             ],
             [
              0.5555555555555556,
              "#d8576b"
             ],
             [
              0.6666666666666666,
              "#ed7953"
             ],
             [
              0.7777777777777778,
              "#fb9f3a"
             ],
             [
              0.8888888888888888,
              "#fdca26"
             ],
             [
              1,
              "#f0f921"
             ]
            ],
            "type": "histogram2d"
           }
          ],
          "histogram2dcontour": [
           {
            "colorbar": {
             "outlinewidth": 0,
             "ticks": ""
            },
            "colorscale": [
             [
              0,
              "#0d0887"
             ],
             [
              0.1111111111111111,
              "#46039f"
             ],
             [
              0.2222222222222222,
              "#7201a8"
             ],
             [
              0.3333333333333333,
              "#9c179e"
             ],
             [
              0.4444444444444444,
              "#bd3786"
             ],
             [
              0.5555555555555556,
              "#d8576b"
             ],
             [
              0.6666666666666666,
              "#ed7953"
             ],
             [
              0.7777777777777778,
              "#fb9f3a"
             ],
             [
              0.8888888888888888,
              "#fdca26"
             ],
             [
              1,
              "#f0f921"
             ]
            ],
            "type": "histogram2dcontour"
           }
          ],
          "mesh3d": [
           {
            "colorbar": {
             "outlinewidth": 0,
             "ticks": ""
            },
            "type": "mesh3d"
           }
          ],
          "parcoords": [
           {
            "line": {
             "colorbar": {
              "outlinewidth": 0,
              "ticks": ""
             }
            },
            "type": "parcoords"
           }
          ],
          "pie": [
           {
            "automargin": true,
            "type": "pie"
           }
          ],
          "scatter": [
           {
            "fillpattern": {
             "fillmode": "overlay",
             "size": 10,
             "solidity": 0.2
            },
            "type": "scatter"
           }
          ],
          "scatter3d": [
           {
            "line": {
             "colorbar": {
              "outlinewidth": 0,
              "ticks": ""
             }
            },
            "marker": {
             "colorbar": {
              "outlinewidth": 0,
              "ticks": ""
             }
            },
            "type": "scatter3d"
           }
          ],
          "scattercarpet": [
           {
            "marker": {
             "colorbar": {
              "outlinewidth": 0,
              "ticks": ""
             }
            },
            "type": "scattercarpet"
           }
          ],
          "scattergeo": [
           {
            "marker": {
             "colorbar": {
              "outlinewidth": 0,
              "ticks": ""
             }
            },
            "type": "scattergeo"
           }
          ],
          "scattergl": [
           {
            "marker": {
             "colorbar": {
              "outlinewidth": 0,
              "ticks": ""
             }
            },
            "type": "scattergl"
           }
          ],
          "scattermap": [
           {
            "marker": {
             "colorbar": {
              "outlinewidth": 0,
              "ticks": ""
             }
            },
            "type": "scattermap"
           }
          ],
          "scattermapbox": [
           {
            "marker": {
             "colorbar": {
              "outlinewidth": 0,
              "ticks": ""
             }
            },
            "type": "scattermapbox"
           }
          ],
          "scatterpolar": [
           {
            "marker": {
             "colorbar": {
              "outlinewidth": 0,
              "ticks": ""
             }
            },
            "type": "scatterpolar"
           }
          ],
          "scatterpolargl": [
           {
            "marker": {
             "colorbar": {
              "outlinewidth": 0,
              "ticks": ""
             }
            },
            "type": "scatterpolargl"
           }
          ],
          "scatterternary": [
           {
            "marker": {
             "colorbar": {
              "outlinewidth": 0,
              "ticks": ""
             }
            },
            "type": "scatterternary"
           }
          ],
          "surface": [
           {
            "colorbar": {
             "outlinewidth": 0,
             "ticks": ""
            },
            "colorscale": [
             [
              0,
              "#0d0887"
             ],
             [
              0.1111111111111111,
              "#46039f"
             ],
             [
              0.2222222222222222,
              "#7201a8"
             ],
             [
              0.3333333333333333,
              "#9c179e"
             ],
             [
              0.4444444444444444,
              "#bd3786"
             ],
             [
              0.5555555555555556,
              "#d8576b"
             ],
             [
              0.6666666666666666,
              "#ed7953"
             ],
             [
              0.7777777777777778,
              "#fb9f3a"
             ],
             [
              0.8888888888888888,
              "#fdca26"
             ],
             [
              1,
              "#f0f921"
             ]
            ],
            "type": "surface"
           }
          ],
          "table": [
           {
            "cells": {
             "fill": {
              "color": "#EBF0F8"
             },
             "line": {
              "color": "white"
             }
            },
            "header": {
             "fill": {
              "color": "#C8D4E3"
             },
             "line": {
              "color": "white"
             }
            },
            "type": "table"
           }
          ]
         },
         "layout": {
          "annotationdefaults": {
           "arrowcolor": "#2a3f5f",
           "arrowhead": 0,
           "arrowwidth": 1
          },
          "autotypenumbers": "strict",
          "coloraxis": {
           "colorbar": {
            "outlinewidth": 0,
            "ticks": ""
           }
          },
          "colorscale": {
           "diverging": [
            [
             0,
             "#8e0152"
            ],
            [
             0.1,
             "#c51b7d"
            ],
            [
             0.2,
             "#de77ae"
            ],
            [
             0.3,
             "#f1b6da"
            ],
            [
             0.4,
             "#fde0ef"
            ],
            [
             0.5,
             "#f7f7f7"
            ],
            [
             0.6,
             "#e6f5d0"
            ],
            [
             0.7,
             "#b8e186"
            ],
            [
             0.8,
             "#7fbc41"
            ],
            [
             0.9,
             "#4d9221"
            ],
            [
             1,
             "#276419"
            ]
           ],
           "sequential": [
            [
             0,
             "#0d0887"
            ],
            [
             0.1111111111111111,
             "#46039f"
            ],
            [
             0.2222222222222222,
             "#7201a8"
            ],
            [
             0.3333333333333333,
             "#9c179e"
            ],
            [
             0.4444444444444444,
             "#bd3786"
            ],
            [
             0.5555555555555556,
             "#d8576b"
            ],
            [
             0.6666666666666666,
             "#ed7953"
            ],
            [
             0.7777777777777778,
             "#fb9f3a"
            ],
            [
             0.8888888888888888,
             "#fdca26"
            ],
            [
             1,
             "#f0f921"
            ]
           ],
           "sequentialminus": [
            [
             0,
             "#0d0887"
            ],
            [
             0.1111111111111111,
             "#46039f"
            ],
            [
             0.2222222222222222,
             "#7201a8"
            ],
            [
             0.3333333333333333,
             "#9c179e"
            ],
            [
             0.4444444444444444,
             "#bd3786"
            ],
            [
             0.5555555555555556,
             "#d8576b"
            ],
            [
             0.6666666666666666,
             "#ed7953"
            ],
            [
             0.7777777777777778,
             "#fb9f3a"
            ],
            [
             0.8888888888888888,
             "#fdca26"
            ],
            [
             1,
             "#f0f921"
            ]
           ]
          },
          "colorway": [
           "#636efa",
           "#EF553B",
           "#00cc96",
           "#ab63fa",
           "#FFA15A",
           "#19d3f3",
           "#FF6692",
           "#B6E880",
           "#FF97FF",
           "#FECB52"
          ],
          "font": {
           "color": "#2a3f5f"
          },
          "geo": {
           "bgcolor": "white",
           "lakecolor": "white",
           "landcolor": "#E5ECF6",
           "showlakes": true,
           "showland": true,
           "subunitcolor": "white"
          },
          "hoverlabel": {
           "align": "left"
          },
          "hovermode": "closest",
          "mapbox": {
           "style": "light"
          },
          "paper_bgcolor": "white",
          "plot_bgcolor": "#E5ECF6",
          "polar": {
           "angularaxis": {
            "gridcolor": "white",
            "linecolor": "white",
            "ticks": ""
           },
           "bgcolor": "#E5ECF6",
           "radialaxis": {
            "gridcolor": "white",
            "linecolor": "white",
            "ticks": ""
           }
          },
          "scene": {
           "xaxis": {
            "backgroundcolor": "#E5ECF6",
            "gridcolor": "white",
            "gridwidth": 2,
            "linecolor": "white",
            "showbackground": true,
            "ticks": "",
            "zerolinecolor": "white"
           },
           "yaxis": {
            "backgroundcolor": "#E5ECF6",
            "gridcolor": "white",
            "gridwidth": 2,
            "linecolor": "white",
            "showbackground": true,
            "ticks": "",
            "zerolinecolor": "white"
           },
           "zaxis": {
            "backgroundcolor": "#E5ECF6",
            "gridcolor": "white",
            "gridwidth": 2,
            "linecolor": "white",
            "showbackground": true,
            "ticks": "",
            "zerolinecolor": "white"
           }
          },
          "shapedefaults": {
           "line": {
            "color": "#2a3f5f"
           }
          },
          "ternary": {
           "aaxis": {
            "gridcolor": "white",
            "linecolor": "white",
            "ticks": ""
           },
           "baxis": {
            "gridcolor": "white",
            "linecolor": "white",
            "ticks": ""
           },
           "bgcolor": "#E5ECF6",
           "caxis": {
            "gridcolor": "white",
            "linecolor": "white",
            "ticks": ""
           }
          },
          "title": {
           "x": 0.05
          },
          "xaxis": {
           "automargin": true,
           "gridcolor": "white",
           "linecolor": "white",
           "ticks": "",
           "title": {
            "standoff": 15
           },
           "zerolinecolor": "white",
           "zerolinewidth": 2
          },
          "yaxis": {
           "automargin": true,
           "gridcolor": "white",
           "linecolor": "white",
           "ticks": "",
           "title": {
            "standoff": 15
           },
           "zerolinecolor": "white",
           "zerolinewidth": 2
          }
         }
        },
        "title": {
         "text": "Ridge Regression: Coefficient Shrinkage Analysis"
        },
        "xaxis": {
         "anchor": "y",
         "domain": [
          0,
          0.45
         ],
         "title": {
          "text": "Linear Regression |Coef|"
         }
        },
        "xaxis2": {
         "anchor": "y2",
         "domain": [
          0.55,
          1
         ],
         "tickangle": -45,
         "title": {
          "text": "Features"
         }
        },
        "yaxis": {
         "anchor": "x",
         "domain": [
          0,
          1
         ],
         "title": {
          "text": "Ridge Regression |Coef|"
         }
        },
        "yaxis2": {
         "anchor": "x2",
         "domain": [
          0,
          1
         ],
         "title": {
          "text": "Shrinkage Amount"
         }
        }
       }
      }
     },
     "metadata": {},
     "output_type": "display_data"
    },
    {
     "name": "stdout",
     "output_type": "stream",
     "text": [
      "\n",
      " Ridge Coefficient Analysis:\n",
      "• Average coefficient shrinkage: 0.0002\n",
      "• Maximum coefficient shrinkage: 0.0674\n",
      "• Coefficient variance reduction: 0.0279\n"
     ]
    }
   ],
   "source": [
    "# 3. RIDGE REGRESSION (L2 REGULARIZATION)\n",
    "print(\"\\n 3. RIDGE REGRESSION (L2 REGULARIZATION)\")\n",
    "print(\"=\" * 42)\n",
    "\n",
    "# Ridge regression with cross-validation for alpha selection\n",
    "from sklearn.linear_model import RidgeCV\n",
    "\n",
    "# Define alpha range for Ridge\n",
    "alphas_ridge = np.logspace(-4, 4, 50) # From 0.0001 to 10000\n",
    "\n",
    "# Fit Ridge with cross-validation\n",
    "ridge_cv = RidgeCV(alphas=alphas_ridge, cv=5, scoring='neg_mean_squared_error')\n",
    "ridge_cv.fit(X_train_scaled, y_train)\n",
    "\n",
    "optimal_alpha_ridge = ridge_cv.alpha_\n",
    "print(f\" Optimal Ridge alpha: {optimal_alpha_ridge:.6f}\")\n",
    "\n",
    "# Fit Ridge with optimal alpha\n",
    "ridge = Ridge(alpha=optimal_alpha_ridge)\n",
    "ridge.fit(X_train_scaled, y_train)\n",
    "\n",
    "# Predictions\n",
    "y_train_pred_ridge = ridge.predict(X_train_scaled)\n",
    "y_test_pred_ridge = ridge.predict(X_test_scaled)\n",
    "\n",
    "# Calculate metrics\n",
    "train_mse_ridge = mean_squared_error(y_train, y_train_pred_ridge)\n",
    "test_mse_ridge = mean_squared_error(y_test, y_test_pred_ridge)\n",
    "train_r2_ridge = r2_score(y_train, y_train_pred_ridge)\n",
    "test_r2_ridge = r2_score(y_test, y_test_pred_ridge)\n",
    "\n",
    "print(\" Ridge Regression Performance:\")\n",
    "print(f\"• Training MSE: {train_mse_ridge:.4f}\")\n",
    "print(f\"• Test MSE: {test_mse_ridge:.4f}\")\n",
    "print(f\"• Training R²: {train_r2_ridge:.4f}\")\n",
    "print(f\"• Test R²: {test_r2_ridge:.4f}\")\n",
    "print(f\"• Overfitting indicator: {train_r2_ridge - test_r2_ridge:.4f}\")\n",
    "\n",
    "# Compare with linear regression\n",
    "print(f\"\\n Improvement over Linear Regression:\")\n",
    "print(f\"• Test MSE improvement: {((test_mse_lr - test_mse_ridge) / test_mse_lr * 100):.2f}%\")\n",
    "print(f\"• Test R² improvement: {test_r2_ridge - test_r2_lr:.4f}\")\n",
    "print(f\"• Overfitting reduction: {(train_r2_lr - test_r2_lr) - (train_r2_ridge - test_r2_ridge):.4f}\")\n",
    "\n",
    "# Ridge regularization path analysis\n",
    "alphas_path = np.logspace(-4, 4, 100)\n",
    "ridge_coefficients = []\n",
    "ridge_scores = []\n",
    "\n",
    "for alpha in alphas_path:\n",
    " ridge_temp = Ridge(alpha=alpha)\n",
    " ridge_temp.fit(X_train_scaled, y_train)\n",
    " ridge_coefficients.append(ridge_temp.coef_)\n",
    " ridge_scores.append(ridge_temp.score(X_test_scaled, y_test))\n",
    "\n",
    "ridge_coefficients = np.array(ridge_coefficients)\n",
    "\n",
    "# Plot regularization path\n",
    "fig_path = go.Figure()\n",
    "\n",
    "# Plot coefficient paths for important features\n",
    "important_indices = [i for i, name in enumerate(feature_cols) if 'Important' in name][:10]\n",
    "\n",
    "for idx in important_indices:\n",
    " fig_path.add_trace(\n",
    " go.Scatter(\n",
    " x=alphas_path,\n",
    " y=ridge_coefficients[:, idx],\n",
    " mode='lines',\n",
    " name=feature_cols[idx],\n",
    " line=dict(width=2),\n",
    " hovertemplate=f\"<b>{feature_cols[idx]}</b><br>Alpha: %{{x:.6f}}<br>Coefficient: %{{y:.3f}}<extra></extra>\"\n",
    " )\n",
    " )\n",
    "\n",
    "fig_path.update_layout(\n",
    " title=\"Ridge Regression: Regularization Path (Important Features)\",\n",
    " xaxis_title=\"Alpha (log scale)\",\n",
    " yaxis_title=\"Coefficient Value\",\n",
    " xaxis_type=\"log\",\n",
    " height=500,\n",
    " showlegend=True\n",
    ")\n",
    "fig_path.show()\n",
    "\n",
    "# Plot alpha vs model performance\n",
    "fig_alpha = go.Figure()\n",
    "\n",
    "fig_alpha.add_trace(\n",
    " go.Scatter(\n",
    " x=alphas_path,\n",
    " y=ridge_scores,\n",
    " mode='lines',\n",
    " name='Test R² Score',\n",
    " line=dict(color='blue', width=3),\n",
    " hovertemplate=\"Alpha: %{x:.6f}<br>R² Score: %{y:.4f}<extra></extra>\"\n",
    " )\n",
    ")\n",
    "\n",
    "# Mark optimal alpha\n",
    "fig_alpha.add_vline(\n",
    " x=optimal_alpha_ridge,\n",
    " line_dash=\"dash\",\n",
    " line_color=\"red\",\n",
    " annotation_text=f\"Optimal α = {optimal_alpha_ridge:.6f}\"\n",
    ")\n",
    "\n",
    "fig_alpha.update_layout(\n",
    " title=\"Ridge Regression: Alpha vs Model Performance\",\n",
    " xaxis_title=\"Alpha (log scale)\",\n",
    " yaxis_title=\"Test R² Score\",\n",
    " xaxis_type=\"log\",\n",
    " height=500\n",
    ")\n",
    "fig_alpha.show()\n",
    "\n",
    "# Coefficient comparison\n",
    "ridge_coefficients_df = pd.DataFrame({\n",
    " 'feature': feature_cols,\n",
    " 'linear_coef': lr.coef_,\n",
    " 'ridge_coef': ridge.coef_,\n",
    " 'abs_linear': np.abs(lr.coef_),\n",
    " 'abs_ridge': np.abs(ridge.coef_),\n",
    " 'shrinkage': np.abs(lr.coef_) - np.abs(ridge.coef_)\n",
    "})\n",
    "ridge_coefficients_df = ridge_coefficients_df.sort_values('abs_linear', ascending=False)\n",
    "\n",
    "# Plot coefficient shrinkage\n",
    "fig_shrink = make_subplots(\n",
    " rows=1, cols=2,\n",
    " subplot_titles=(\"Coefficient Comparison\", \"Shrinkage Effect\")\n",
    ")\n",
    "\n",
    "# Coefficient comparison\n",
    "fig_shrink.add_trace(\n",
    " go.Scatter(\n",
    " x=ridge_coefficients_df['abs_linear'][:20],\n",
    " y=ridge_coefficients_df['abs_ridge'][:20],\n",
    " mode='markers',\n",
    " marker=dict(size=8, color='blue'),\n",
    " name='Ridge vs Linear',\n",
    " text=ridge_coefficients_df['feature'][:20],\n",
    " hovertemplate=\"<b>%{text}</b><br>Linear: %{x:.3f}<br>Ridge: %{y:.3f}<extra></extra>\"\n",
    " ),\n",
    " row=1, col=1\n",
    ")\n",
    "\n",
    "# Add diagonal line (no shrinkage)\n",
    "max_coef = max(ridge_coefficients_df['abs_linear'].max(), ridge_coefficients_df['abs_ridge'].max())\n",
    "fig_shrink.add_trace(\n",
    " go.Scatter(\n",
    " x=[0, max_coef],\n",
    " y=[0, max_coef],\n",
    " mode='lines',\n",
    " line=dict(color='red', dash='dash'),\n",
    " name='No Shrinkage',\n",
    " showlegend=False\n",
    " ),\n",
    " row=1, col=1\n",
    ")\n",
    "\n",
    "# Shrinkage magnitude\n",
    "colors_shrink = ['red' if 'Important' in feat else 'lightblue'\n",
    " for feat in ridge_coefficients_df['feature'][:20]]\n",
    "\n",
    "fig_shrink.add_trace(\n",
    " go.Bar(\n",
    " x=ridge_coefficients_df['feature'][:20],\n",
    " y=ridge_coefficients_df['shrinkage'][:20],\n",
    " marker_color=colors_shrink,\n",
    " name='Shrinkage',\n",
    " showlegend=False,\n",
    " hovertemplate=\"<b>%{x}</b><br>Shrinkage: %{y:.3f}<extra></extra>\"\n",
    " ),\n",
    " row=1, col=2\n",
    ")\n",
    "\n",
    "fig_shrink.update_layout(\n",
    " title=\"Ridge Regression: Coefficient Shrinkage Analysis\",\n",
    " height=500\n",
    ")\n",
    "fig_shrink.update_xaxes(title_text=\"Linear Regression |Coef|\", row=1, col=1)\n",
    "fig_shrink.update_yaxes(title_text=\"Ridge Regression |Coef|\", row=1, col=1)\n",
    "fig_shrink.update_xaxes(title_text=\"Features\", row=1, col=2, tickangle=-45)\n",
    "fig_shrink.update_yaxes(title_text=\"Shrinkage Amount\", row=1, col=2)\n",
    "\n",
    "fig_shrink.show()\n",
    "\n",
    "print(f\"\\n Ridge Coefficient Analysis:\")\n",
    "avg_shrinkage = ridge_coefficients_df['shrinkage'].mean()\n",
    "max_shrinkage = ridge_coefficients_df['shrinkage'].max()\n",
    "print(f\"• Average coefficient shrinkage: {avg_shrinkage:.4f}\")\n",
    "print(f\"• Maximum coefficient shrinkage: {max_shrinkage:.4f}\")\n",
    "print(f\"• Coefficient variance reduction: {np.var(lr.coef_) - np.var(ridge.coef_):.4f}\")"
   ]
  },
  {
   "cell_type": "code",
   "execution_count": 7,
   "id": "5c7a1ab7",
   "metadata": {},
   "outputs": [
    {
     "name": "stdout",
     "output_type": "stream",
     "text": [
      "\n",
      " 4. LASSO REGRESSION (L1 REGULARIZATION)\n",
      "===========================================\n",
      " Optimal Lasso alpha: 0.065513\n",
      " Lasso Regression Performance:\n",
      "• Training MSE: 2.4887\n",
      "• Test MSE: 2.2848\n",
      "• Training R²: 0.9904\n",
      "• Test R²: 0.9906\n",
      "• Overfitting indicator: -0.0002\n",
      "\n",
      " Lasso Feature Selection:\n",
      "• Selected features: 24/54\n",
      "• Eliminated features: 30/54\n",
      "• Feature selection rate: 55.6%\n",
      "\n",
      " Feature Selection Accuracy:\n",
      "• Important features selected: 15/15\n",
      "• Noise features eliminated: 27/35\n",
      "• Important features incorrectly eliminated: 0\n",
      "• Noise features incorrectly selected: 8\n"
     ]
    },
    {
     "data": {
      "application/vnd.plotly.v1+json": {
       "config": {
        "plotlyServerURL": "https://plot.ly"
       },
       "data": [
        {
         "hovertemplate": "<b>Important_1</b><br>Alpha: %{x:.6f}<br>Coefficient: %{y:.3f}<extra></extra>",
         "line": {
          "width": 2
         },
         "mode": "lines",
         "name": "Important_1",
         "type": "scatter",
         "x": {
          "bdata": "LUMc6+I2Gj8g/zh64yMeP3d3y8yyUyE/+UnHrfnrIz+srCJ3u+cmP9mn2AHeVSo/heZhTYJHLj89oywELWgxP9CoJvSEAzQ/NXzpXc0CNz/sZby1/XQ6P+4oZDlLaz4/VMfubr98QT/MIrQNLBtEPwFknUL/HUc/QOkMMkKUSj/5HQBwPo9OPye9qylqkVE/4BBSG+8yVD/bcQ1LUTlXPyTBQqKrs1o/dekwI1yzXj9UKx9RLaZhPxOpCT7OSmQ/kmI1ncNUZz8E3QkyOtNqP8rALIWk124/gq0mAgm7cT9JLAuXyWJ0P6HWPV9WcHc/7shBDe7yej+7MGXIF/x+P438wVn9z4E/exSuR+F6hD9Rh3y3CYyHP6rq/V/HEos/lWOHH7Ygjz/sFhN1CuWRPyJDcXEVk5Q/GHx0zN2nlz8Qv4VWxjKbP8RnfL1/RZ8/CWlecTD6oT+gL/s1ZqukP/o/1sTSw6c/dBdVHetSqz9edmnVdGqvPyH2CmxvD7I/OhYat9PDtD9rF4DH6N+3P41XHOE1c7s/XjqwmpWPvz/zgKKCxyTCP+omxBZe3MQ/ajZ++x/8xz+0s8DOppPLPy4Y70DitM8/ArXR0jg60j+rtBd3BfXUP572Coh4GNg/G29cEz602z8ydQH8WtrfP65PaHrDT+I/+mRb+skN5T8SDo+U8jToP5waP9z71Os/AAAAAAAA8D+3SVmXZ2XyP1Rf/sKrJvU/zcWhSI5R+D/I0+1W4PX7P258oMDoEgBA7QC7RyV7AkBLfZjzqj8FQBgxCcxLbghAJ4QjsesWDEA6PSza5yUQQPthx6n8kBJAU3rqrsdYFUB6ZLpGK4sYQJMg0RgeOBxAXWEMZ/04IEBLEtzb7aYiQGYk3hcCciVAmq3Z4CyoKEB86R28d1ksQGI+yYEpTDBAfpp6/Pi8MkBrjIZRWos1QOvKusJQxThA26pnyfh6PEAqhQpFbF9AQLGQSCoe00JAzTYgf9CkRUCPI+EUl+JIQH/8Qm+hnExA5GaXy8VyUED+wg+EXelSQMpMEcRkvlVAAAAAAAAAWUA=",
          "dtype": "f8"
         },
         "y": {
          "bdata": "u+qAP79tJEBHaxbsVm4kQEqJk6XjbiRAefPTV4RvJED3PrXXO3AkQJA1n2ANcSRAGzryovxxJEDsXBZOWHMkQCaR8s6adCRA+UfzBwt2JEBX6q2KQHckQGghUUiWeCRAbsMEtIx5JEBlcWqHiXkkQNp8vLCFeSRAcFvRPIF5JEBOBZccfHkkQELI1zR2eSRAYVvpl295JEBwsvupaHkkQLCPQNRgeSRAGmY33Vd5JEDOKkSYTXkkQNiTEcxBeSRA5NmwQTR5JEB2gKO9JHkkQODn2H6ZeSRA7NSR9I95JEDDBeBwhnkkQHZQw0x8eSRAC/VnaHJ5JEBsR73AfnkkQIaWngWOeSRAeTLhFSZ6JEBAV88DDXokQINlko39eSRA4/a5nvR5JEDhc0COoXokQLukQU/beiRAyqrdrHl7JEDlU4gDtnskQDeirS+eeyRApF2P/st7JEBwGkade3skQOFvPCVJeyRA5U70u1V6JECA/1rEOHgkQK4F80pxdCRAlAB77LFwJED4M9mVo20kQJu0X78paiRAmaPqAAdoJEAH7gdFvmUkQB307msNYiRArlwfWHxeJEDi+e/RyVkkQH7KdoANVSRAz2Y88BBPJEDO7vKocUIkQOCEwNZ9KiRA3MzMv3oOJEB03ByRUukjQKJZYvG3viNANiE74ceOI0Cr0wm4WVkjQKZFq0qpHSNAQZba/FXWIkBoUNtf14MiQGzBK5L7JCJAUmW68by6IUD5kK8IdEkhQF5VqdqFyCBApVt7lUk0IEDnCMIJLRQfQBWCY027kx1AVFZz0rbZG0CtFAtegN0ZQKvzH//YhhdA8NILCkC4FEAc1l85D3QRQPxlmiKwZQtAp5MEkm3fAkDin4t9V0/yPwAAAAAAAAAAAAAAAAAAAAAAAAAAAAAAAAAAAAAAAAAAAAAAAAAAAAAAAAAAAAAAAAAAAAAAAAAAAAAAAAAAAAAAAAAAAAAAAAAAAAAAAAAAAAAAAAAAAAAAAAAAAAAAAAAAAAAAAAAAAAAAAAAAAAAAAAAAAAAAAAAAAAAAAAAAAAAAAAAAAAA=",
          "dtype": "f8"
         }
        },
        {
         "hovertemplate": "<b>Important_2</b><br>Alpha: %{x:.6f}<br>Coefficient: %{y:.3f}<extra></extra>",
         "line": {
          "width": 2
         },
         "mode": "lines",
         "name": "Important_2",
         "type": "scatter",
         "x": {
          "bdata": "LUMc6+I2Gj8g/zh64yMeP3d3y8yyUyE/+UnHrfnrIz+srCJ3u+cmP9mn2AHeVSo/heZhTYJHLj89oywELWgxP9CoJvSEAzQ/NXzpXc0CNz/sZby1/XQ6P+4oZDlLaz4/VMfubr98QT/MIrQNLBtEPwFknUL/HUc/QOkMMkKUSj/5HQBwPo9OPye9qylqkVE/4BBSG+8yVD/bcQ1LUTlXPyTBQqKrs1o/dekwI1yzXj9UKx9RLaZhPxOpCT7OSmQ/kmI1ncNUZz8E3QkyOtNqP8rALIWk124/gq0mAgm7cT9JLAuXyWJ0P6HWPV9WcHc/7shBDe7yej+7MGXIF/x+P438wVn9z4E/exSuR+F6hD9Rh3y3CYyHP6rq/V/HEos/lWOHH7Ygjz/sFhN1CuWRPyJDcXEVk5Q/GHx0zN2nlz8Qv4VWxjKbP8RnfL1/RZ8/CWlecTD6oT+gL/s1ZqukP/o/1sTSw6c/dBdVHetSqz9edmnVdGqvPyH2CmxvD7I/OhYat9PDtD9rF4DH6N+3P41XHOE1c7s/XjqwmpWPvz/zgKKCxyTCP+omxBZe3MQ/ajZ++x/8xz+0s8DOppPLPy4Y70DitM8/ArXR0jg60j+rtBd3BfXUP572Coh4GNg/G29cEz602z8ydQH8WtrfP65PaHrDT+I/+mRb+skN5T8SDo+U8jToP5waP9z71Os/AAAAAAAA8D+3SVmXZ2XyP1Rf/sKrJvU/zcWhSI5R+D/I0+1W4PX7P258oMDoEgBA7QC7RyV7AkBLfZjzqj8FQBgxCcxLbghAJ4QjsesWDEA6PSza5yUQQPthx6n8kBJAU3rqrsdYFUB6ZLpGK4sYQJMg0RgeOBxAXWEMZ/04IEBLEtzb7aYiQGYk3hcCciVAmq3Z4CyoKEB86R28d1ksQGI+yYEpTDBAfpp6/Pi8MkBrjIZRWos1QOvKusJQxThA26pnyfh6PEAqhQpFbF9AQLGQSCoe00JAzTYgf9CkRUCPI+EUl+JIQH/8Qm+hnExA5GaXy8VyUED+wg+EXelSQMpMEcRkvlVAAAAAAAAAWUA=",
          "dtype": "f8"
         },
         "y": {
          "bdata": "gxWqPKZGIEAvHf/1oUYgQDJXtbqdRiBAJ9/u4phGIEDb1RBYk0YgQIsHPQCNRiBATZjZvYVGIEBChS3re0YgQBtvHDJyRiBAnqSxEWdGIEDXip6XXEYgQFZVXNVQRiBAw0I1S0ZGIECgaBQBQEYgQKTjC3E4RiBAh1aJjy9GIEAGyZVZJUYgQJbOPJwZRiBAMYrdUwxGIEA7GnZX/UUgQMxy3RvsRSBA2fhfS9hFIEB7KQuDwUUgQF3JOlGnRSBAz0YMM4lFIECaAfCRZkUgQFZCFV0+RSBABMqSnBNFIEAPsxtk4kQgQOPeOsipRCBAcpyB42hEIEBlEK0yHkQgQP0ch0HIQyBAVzEwCGFDIED72HSe80IgQMI22YtfQiBAzWJtG69BIEAT9gRi8EAgQIEv0tUXQCBAVTxEBB0/IEDzG/gV8j0gQLQtbxlsPCBAFI3sJKY6IEAsUzD3uzggQIfOwDlWNiBAPiWEZJszIECd6cmMPDAgQDWUBAP/KiBAXqhumm0kIEA2c8WYrRwgQKyROTgmFCBAY1rM/SIKIEAouw/2Cv0fQNvgQwfc4R9ABAnooZfCH0ClwXVxp54fQNLqMzRSdR9AW4u/AM9FH0A7nBwsRw8fQI5F9rxy0h5A7f9RlfWMHkDbhFIBOz0eQAXW91Gr4R1Aef2MlVh5HUARiUAR7wEdQEY+PTkweRxAAnNLczTdG0BBrIY0GCobQEuQ50wnXBpAODJXK35uGUDpcg+CsmIYQFLjffHtMBdA4NCEz1/RFUANMjCv0z4UQLtEeo9biBJApYSsfjmQEECK3X0pMJkMQHxBQMSyYQdAT3SAiLx8AUAMPKktFOP1P5UxXjHeeNs/AAAAAAAAAAAAAAAAAAAAAAAAAAAAAAAAAAAAAAAAAAAAAAAAAAAAAAAAAAAAAAAAAAAAAAAAAAAAAAAAAAAAAAAAAAAAAAAAAAAAAAAAAAAAAAAAAAAAAAAAAAAAAAAAAAAAAAAAAAAAAAAAAAAAAAAAAAAAAAAAAAAAAAAAAAAAAAAAAAAAAAAAAAAAAAAAAAAAAAAAAAA=",
          "dtype": "f8"
         }
        },
        {
         "hovertemplate": "<b>Important_3</b><br>Alpha: %{x:.6f}<br>Coefficient: %{y:.3f}<extra></extra>",
         "line": {
          "width": 2
         },
         "mode": "lines",
         "name": "Important_3",
         "type": "scatter",
         "x": {
          "bdata": "LUMc6+I2Gj8g/zh64yMeP3d3y8yyUyE/+UnHrfnrIz+srCJ3u+cmP9mn2AHeVSo/heZhTYJHLj89oywELWgxP9CoJvSEAzQ/NXzpXc0CNz/sZby1/XQ6P+4oZDlLaz4/VMfubr98QT/MIrQNLBtEPwFknUL/HUc/QOkMMkKUSj/5HQBwPo9OPye9qylqkVE/4BBSG+8yVD/bcQ1LUTlXPyTBQqKrs1o/dekwI1yzXj9UKx9RLaZhPxOpCT7OSmQ/kmI1ncNUZz8E3QkyOtNqP8rALIWk124/gq0mAgm7cT9JLAuXyWJ0P6HWPV9WcHc/7shBDe7yej+7MGXIF/x+P438wVn9z4E/exSuR+F6hD9Rh3y3CYyHP6rq/V/HEos/lWOHH7Ygjz/sFhN1CuWRPyJDcXEVk5Q/GHx0zN2nlz8Qv4VWxjKbP8RnfL1/RZ8/CWlecTD6oT+gL/s1ZqukP/o/1sTSw6c/dBdVHetSqz9edmnVdGqvPyH2CmxvD7I/OhYat9PDtD9rF4DH6N+3P41XHOE1c7s/XjqwmpWPvz/zgKKCxyTCP+omxBZe3MQ/ajZ++x/8xz+0s8DOppPLPy4Y70DitM8/ArXR0jg60j+rtBd3BfXUP572Coh4GNg/G29cEz602z8ydQH8WtrfP65PaHrDT+I/+mRb+skN5T8SDo+U8jToP5waP9z71Os/AAAAAAAA8D+3SVmXZ2XyP1Rf/sKrJvU/zcWhSI5R+D/I0+1W4PX7P258oMDoEgBA7QC7RyV7AkBLfZjzqj8FQBgxCcxLbghAJ4QjsesWDEA6PSza5yUQQPthx6n8kBJAU3rqrsdYFUB6ZLpGK4sYQJMg0RgeOBxAXWEMZ/04IEBLEtzb7aYiQGYk3hcCciVAmq3Z4CyoKEB86R28d1ksQGI+yYEpTDBAfpp6/Pi8MkBrjIZRWos1QOvKusJQxThA26pnyfh6PEAqhQpFbF9AQLGQSCoe00JAzTYgf9CkRUCPI+EUl+JIQH/8Qm+hnExA5GaXy8VyUED+wg+EXelSQMpMEcRkvlVAAAAAAAAAWUA=",
          "dtype": "f8"
         },
         "y": {
          "bdata": "l3KNm5rwF0BVHJBJkvAXQEb6e6yJ8BdAxEkrzX/wF0Di2YN8dPAXQIpCiYRn8BdAqbZbp1jwF0BH4ICCRfAXQMcUP68x8BdAYvOe9hrwF0CKx80PBPAXQJiSVCHq7xdAIOASdtDvF0BGXoUOu+8XQCk3LWSk7xdA/o4dhIvvF0Ae6m/qbu8XQDy7XghO7xdABWKBjijvF0BwZ2Xh/e4XQFyDOM/M7hdAEF92Y5TuF0DPcWCEU+4XQJL3Me4I7hdAQP5aLLPtF0BKJGaSUO0XQBBIls7D7BdAr7vXNPTrF0Bz5bGCBesXQAxJVhDz6RdAAEqvALroF0CODE+WZOcXQDOh3Szc5RdATmLI3hvkF0BB7jGUGOIXQGdUk9zH3xdAN1ijtxjdF0DwlD8G59kXQCVEd5w71hdAQpfyCQPSF0C1BLNnG80XQOQYMiqZxxdA61EdTkzBF0Cu2QBx8rkXQKyd5VmIsRdAQuDATfinF0Ck+lJWIJ0XQGkSfI0GkRdAmDOtq2aEF0AcvkxVsHUXQBJzr2zTZBdAG3Hfs2NRF0AO6Gr5DjsXQOeb78ZuIRdAQ0MK+PYDF0C1InB1FuIWQFOCLQYiuxZAXnGyFlmOFkDs+ovj31oWQIBpU7aXHhZApSPFI63YFUBS8CyNPIgVQDG+o2F6KxVA8ToiLJC+FECaFfxezEIUQDjQ0xoBthNAcXnfsjwUE0CIREBgRloSQBXmnu1yhBFAsNhAAxmPEEBGW4LAAwsPQFvgkKD+sQxAKUn6HPn+CUDugUzRl+gGQLCitmWZmANAG0e3iDmT/z+ObDOXOtH2P12vK93YGOk/kXLI8HBUrT8AAAAAAAAAAAAAAAAAAAAAAAAAAAAAAAAAAAAAAAAAAAAAAAAAAAAAAAAAAAAAAAAAAAAAAAAAAAAAAAAAAAAAAAAAAAAAAAAAAAAAAAAAAAAAAAAAAAAAAAAAAAAAAAAAAAAAAAAAAAAAAAAAAAAAAAAAAAAAAAAAAAAAAAAAAAAAAAAAAAAAAAAAAAAAAAAAAAAAAAAAAAAAAAAAAAAAAAAAAAAAAAA=",
          "dtype": "f8"
         }
        },
        {
         "hovertemplate": "<b>Important_4</b><br>Alpha: %{x:.6f}<br>Coefficient: %{y:.3f}<extra></extra>",
         "line": {
          "width": 2
         },
         "mode": "lines",
         "name": "Important_4",
         "type": "scatter",
         "x": {
          "bdata": "LUMc6+I2Gj8g/zh64yMeP3d3y8yyUyE/+UnHrfnrIz+srCJ3u+cmP9mn2AHeVSo/heZhTYJHLj89oywELWgxP9CoJvSEAzQ/NXzpXc0CNz/sZby1/XQ6P+4oZDlLaz4/VMfubr98QT/MIrQNLBtEPwFknUL/HUc/QOkMMkKUSj/5HQBwPo9OPye9qylqkVE/4BBSG+8yVD/bcQ1LUTlXPyTBQqKrs1o/dekwI1yzXj9UKx9RLaZhPxOpCT7OSmQ/kmI1ncNUZz8E3QkyOtNqP8rALIWk124/gq0mAgm7cT9JLAuXyWJ0P6HWPV9WcHc/7shBDe7yej+7MGXIF/x+P438wVn9z4E/exSuR+F6hD9Rh3y3CYyHP6rq/V/HEos/lWOHH7Ygjz/sFhN1CuWRPyJDcXEVk5Q/GHx0zN2nlz8Qv4VWxjKbP8RnfL1/RZ8/CWlecTD6oT+gL/s1ZqukP/o/1sTSw6c/dBdVHetSqz9edmnVdGqvPyH2CmxvD7I/OhYat9PDtD9rF4DH6N+3P41XHOE1c7s/XjqwmpWPvz/zgKKCxyTCP+omxBZe3MQ/ajZ++x/8xz+0s8DOppPLPy4Y70DitM8/ArXR0jg60j+rtBd3BfXUP572Coh4GNg/G29cEz602z8ydQH8WtrfP65PaHrDT+I/+mRb+skN5T8SDo+U8jToP5waP9z71Os/AAAAAAAA8D+3SVmXZ2XyP1Rf/sKrJvU/zcWhSI5R+D/I0+1W4PX7P258oMDoEgBA7QC7RyV7AkBLfZjzqj8FQBgxCcxLbghAJ4QjsesWDEA6PSza5yUQQPthx6n8kBJAU3rqrsdYFUB6ZLpGK4sYQJMg0RgeOBxAXWEMZ/04IEBLEtzb7aYiQGYk3hcCciVAmq3Z4CyoKEB86R28d1ksQGI+yYEpTDBAfpp6/Pi8MkBrjIZRWos1QOvKusJQxThA26pnyfh6PEAqhQpFbF9AQLGQSCoe00JAzTYgf9CkRUCPI+EUl+JIQH/8Qm+hnExA5GaXy8VyUED+wg+EXelSQMpMEcRkvlVAAAAAAAAAWUA=",
          "dtype": "f8"
         },
         "y": {
          "bdata": "M5DEeHkoFEDN/WLgdigUQFOaJmNzKBRA+rboW28oFEB1rmG1aigUQLPsAldlKBRA9b11JF8oFEDeBDUbWSgUQFbPxAFRKBRAQ5Hpp0coFEC4UQwyOygUQDzoNqgsKBRAKu4QvhkoFEA3mNqx/ycUQHh47qzgJxRAoawUPrwnFEBp+nFakicUQO9s0zBiJxRAOCyJ0ysnFEAlH8Z67iYUQNV+m/KnJhRA7JaQ2lYmFEAT+7Od+SUUQDcZWWqOJRRAjGg/KRMlFEDSpwtzhSQUQFFE/V7nIxRALuo0kTAjFECGlE5oXiIUQPOaPslsIRRAA7yQ4WMgFEA6eezOyh8UQMHCQqIaHxRAE1/VN0weFEDlMKuIUh0UQPs0qkcgHBRAOMUdTbcaFEBI+Kv2IRkUQG8OSkhOFxRAYXSyoTUVFEBesoHRxxIUQEUuOL7rDxRADIXiZ3sMFEByJPydnwgUQEeKzX3CAxRAv12shYv9E0BKJOpfuvUTQHkv1aST7BNAeTsAvQDhE0AQ1+w+L9QTQND7z5E1xhNAueLTnfq1E0AJbeLjO6MTQErQb051jRNAuKkyFm50E0AALJ5npVcTQNd9016PNhNAvgNuIYMQE0A5mf71sOQSQO2XqlgQshJA9gsmp5p3EkAyZs7kyjMSQFblQ3AK5hFA81oX2HuOEUBshNDhlyYRQFB7N1bOqxBAmUO3jHsgEEB/Sq01RQEPQAhM0EOykQ1ADctKouTlC0CLkN2gA/0JQIF5ytB3zgdATJg4okZMBUCxjY/6XWoCQD38o3dUQf4/U1UT+tKx9j/UsSPw7ADsP7Q4bU0BANA/AAAAAAAAAAAAAAAAAAAAAAAAAAAAAAAAAAAAAAAAAAAAAAAAAAAAAAAAAAAAAAAAAAAAAAAAAAAAAAAAAAAAAAAAAAAAAAAAAAAAAAAAAAAAAAAAAAAAAAAAAAAAAAAAAAAAAAAAAAAAAAAAAAAAAAAAAAAAAAAAAAAAAAAAAAAAAAAAAAAAAAAAAAAAAAAAAAAAAAAAAAAAAAAAAAAAAAAAAAAAAAAAAAAAAAAAAAA=",
          "dtype": "f8"
         }
        },
        {
         "hovertemplate": "<b>Important_5</b><br>Alpha: %{x:.6f}<br>Coefficient: %{y:.3f}<extra></extra>",
         "line": {
          "width": 2
         },
         "mode": "lines",
         "name": "Important_5",
         "type": "scatter",
         "x": {
          "bdata": "LUMc6+I2Gj8g/zh64yMeP3d3y8yyUyE/+UnHrfnrIz+srCJ3u+cmP9mn2AHeVSo/heZhTYJHLj89oywELWgxP9CoJvSEAzQ/NXzpXc0CNz/sZby1/XQ6P+4oZDlLaz4/VMfubr98QT/MIrQNLBtEPwFknUL/HUc/QOkMMkKUSj/5HQBwPo9OPye9qylqkVE/4BBSG+8yVD/bcQ1LUTlXPyTBQqKrs1o/dekwI1yzXj9UKx9RLaZhPxOpCT7OSmQ/kmI1ncNUZz8E3QkyOtNqP8rALIWk124/gq0mAgm7cT9JLAuXyWJ0P6HWPV9WcHc/7shBDe7yej+7MGXIF/x+P438wVn9z4E/exSuR+F6hD9Rh3y3CYyHP6rq/V/HEos/lWOHH7Ygjz/sFhN1CuWRPyJDcXEVk5Q/GHx0zN2nlz8Qv4VWxjKbP8RnfL1/RZ8/CWlecTD6oT+gL/s1ZqukP/o/1sTSw6c/dBdVHetSqz9edmnVdGqvPyH2CmxvD7I/OhYat9PDtD9rF4DH6N+3P41XHOE1c7s/XjqwmpWPvz/zgKKCxyTCP+omxBZe3MQ/ajZ++x/8xz+0s8DOppPLPy4Y70DitM8/ArXR0jg60j+rtBd3BfXUP572Coh4GNg/G29cEz602z8ydQH8WtrfP65PaHrDT+I/+mRb+skN5T8SDo+U8jToP5waP9z71Os/AAAAAAAA8D+3SVmXZ2XyP1Rf/sKrJvU/zcWhSI5R+D/I0+1W4PX7P258oMDoEgBA7QC7RyV7AkBLfZjzqj8FQBgxCcxLbghAJ4QjsesWDEA6PSza5yUQQPthx6n8kBJAU3rqrsdYFUB6ZLpGK4sYQJMg0RgeOBxAXWEMZ/04IEBLEtzb7aYiQGYk3hcCciVAmq3Z4CyoKEB86R28d1ksQGI+yYEpTDBAfpp6/Pi8MkBrjIZRWos1QOvKusJQxThA26pnyfh6PEAqhQpFbF9AQLGQSCoe00JAzTYgf9CkRUCPI+EUl+JIQH/8Qm+hnExA5GaXy8VyUED+wg+EXelSQMpMEcRkvlVAAAAAAAAAWUA=",
          "dtype": "f8"
         },
         "y": {
          "bdata": "hqlkuFf1DkDvw6CCTPUOQB0IGN1A9Q5AdJx4gzP1DkBlTPU1JPUOQPeua6sS9Q5A8RUHkP70DkCNSC3E5PQOQLEb5vTJ9A5AyZslOqv0DkDOCc8YjPQOQGKmZdNo9A5ABXyhrUX0DkDv97vWJ/QOQHQtdl8F9A5Agrkin93zDkDGh+Tqr/MOQLhFkV578w5AzvrupD7zDkDCoP97+PIOQEluCtCn8g5A4k/mDkvyDkBPlGVp4PEOQE5aNstl8Q5AuRDnz9jwDkDczyu3NvAOQGR0GXR37w5Ae6/S16DuDkDXeLMJqu0OQI5oEj6O7A5Asom2UkbrDkBKZvrhtukOQI32Q6Hr5w5AThUk5dflDkDOq2tLp+MOQPlcb8r34A5AtmlUa8DdDkD8c/A85tkOQOYrmN181Q5AaO+9bWfQDkA9jmHaLsoOQP8hFLi6wg5Aq2vhna+6DkDz72J6mbEOQNMKUhpPpw5AxY03BR6bDkCG2NgB8Y0OQHsv3FPKfg5AidVMxkJsDkAyLBJNylcOQH9MdKXrPg5AD3GRfOAgDkCLWng1yP0NQDeA+ssi1A1AikttOTukDUCLFWX6K20NQNItC23YLQ1AGY6wgw3lDEChR0iJi5EMQDBTuPKaMAxAQrvcHwPFC0BUAdAjtEwLQKrXOPKdwgpAZ4Cc0OQlCkD2O4shX3IJQAgXcy6ppAhAp+PqVTC7B0BF/S7RTq8GQKByoaZQewVAG7uQFiURBECFherHemsCQKfs19gciQBA4vm5TQO9/D/7QqBijr/3PyNrHvpm4/E/sRg59i1N5j8swFHgyzvLPwAAAAAAAAAAAAAAAAAAAAAAAAAAAAAAAAAAAAAAAAAAAAAAAAAAAAAAAAAAAAAAAAAAAAAAAAAAAAAAAAAAAAAAAAAAAAAAAAAAAAAAAAAAAAAAAAAAAAAAAAAAAAAAAAAAAAAAAAAAAAAAAAAAAAAAAAAAAAAAAAAAAAAAAAAAAAAAAAAAAAAAAAAAAAAAAAAAAAAAAAAAAAAAAAAAAAAAAAAAAAAAAAAAAAAAAAAAAAAAAAAAAAA=",
          "dtype": "f8"
         }
        },
        {
         "hovertemplate": "<b>Important_6</b><br>Alpha: %{x:.6f}<br>Coefficient: %{y:.3f}<extra></extra>",
         "line": {
          "width": 2
         },
         "mode": "lines",
         "name": "Important_6",
         "type": "scatter",
         "x": {
          "bdata": "LUMc6+I2Gj8g/zh64yMeP3d3y8yyUyE/+UnHrfnrIz+srCJ3u+cmP9mn2AHeVSo/heZhTYJHLj89oywELWgxP9CoJvSEAzQ/NXzpXc0CNz/sZby1/XQ6P+4oZDlLaz4/VMfubr98QT/MIrQNLBtEPwFknUL/HUc/QOkMMkKUSj/5HQBwPo9OPye9qylqkVE/4BBSG+8yVD/bcQ1LUTlXPyTBQqKrs1o/dekwI1yzXj9UKx9RLaZhPxOpCT7OSmQ/kmI1ncNUZz8E3QkyOtNqP8rALIWk124/gq0mAgm7cT9JLAuXyWJ0P6HWPV9WcHc/7shBDe7yej+7MGXIF/x+P438wVn9z4E/exSuR+F6hD9Rh3y3CYyHP6rq/V/HEos/lWOHH7Ygjz/sFhN1CuWRPyJDcXEVk5Q/GHx0zN2nlz8Qv4VWxjKbP8RnfL1/RZ8/CWlecTD6oT+gL/s1ZqukP/o/1sTSw6c/dBdVHetSqz9edmnVdGqvPyH2CmxvD7I/OhYat9PDtD9rF4DH6N+3P41XHOE1c7s/XjqwmpWPvz/zgKKCxyTCP+omxBZe3MQ/ajZ++x/8xz+0s8DOppPLPy4Y70DitM8/ArXR0jg60j+rtBd3BfXUP572Coh4GNg/G29cEz602z8ydQH8WtrfP65PaHrDT+I/+mRb+skN5T8SDo+U8jToP5waP9z71Os/AAAAAAAA8D+3SVmXZ2XyP1Rf/sKrJvU/zcWhSI5R+D/I0+1W4PX7P258oMDoEgBA7QC7RyV7AkBLfZjzqj8FQBgxCcxLbghAJ4QjsesWDEA6PSza5yUQQPthx6n8kBJAU3rqrsdYFUB6ZLpGK4sYQJMg0RgeOBxAXWEMZ/04IEBLEtzb7aYiQGYk3hcCciVAmq3Z4CyoKEB86R28d1ksQGI+yYEpTDBAfpp6/Pi8MkBrjIZRWos1QOvKusJQxThA26pnyfh6PEAqhQpFbF9AQLGQSCoe00JAzTYgf9CkRUCPI+EUl+JIQH/8Qm+hnExA5GaXy8VyUED+wg+EXelSQMpMEcRkvlVAAAAAAAAAWUA=",
          "dtype": "f8"
         },
         "y": {
          "bdata": "mKddk47RCEC9HbGUg9EIQCv2j0R30QhAbxEiH2nRCECnaoXeWNEIQH/ZbzJG0QhABWiivjDRCEA2HilfF9EIQHTry/P60AhAMyxVTdrQCEAlOHDftdAIQKf9LyCM0AhAnq9Djl3QCEArkGDOKtAIQNwcvezuzwhAL1cf6qjPCEBKL3xrWM8IQNTW4977zghA2p12NpPOCEBF0EfYHM4IQGjLx7+UzQhAtFeORfjMCEDs3jpcRMwIQOeweIF1ywhAK69NrIfKCECm3AM5dskIQLeCEuU+yAhA5y3IVNfGCEDIGPfnOcUIQGq7io9ewwhANNspiEHBCEA9Rn2/+b4IQOikWBtZvAhAPldGKSm5CEA5VE/Wh7UIQKel4xFRsQhAZkCE+XmsCEBClpC7yqYIQD5gG9dBoAhAlSCYO76YCEBjBYN7to8IQOz0AAP4hAhADIlZnNB4CEAPArcHMWsIQKagGWwnWwhAdQwsgNpICEDOKdC/bDQIQNz1xB9VHQhACo4NjTUECEAdeig3I+cHQATvrDpRxQdApLPAyeacB0Bg4fMUHW4HQO6Q25qMNwdAA1LCU8/4BkCd3CaTrbAGQBtC/4m9XQZAcY7EmGL+BUBg5pbMwJAFQHlqcbo8FwVATOtzyX+IBEBZghhAUuADQK41Y1XrHgNAToxUQE1AAkBB3AHO9UoBQMJSNlTeOwBAj2wmnugJ/j+YU1+nQD/7Py9ZC3+OCfg/8I1nHLNU9D+v0pcD8yTwP53QDkRtueY/0Nss9pB01z8AAAAAAAAAAAAAAAAAAAAAAAAAAAAAAAAAAAAAAAAAAAAAAAAAAAAAAAAAAAAAAAAAAAAAAAAAAAAAAAAAAAAAAAAAAAAAAAAAAAAAAAAAAAAAAAAAAAAAAAAAAAAAAAAAAAAAAAAAAAAAAAAAAAAAAAAAAAAAAAAAAAAAAAAAAAAAAAAAAAAAAAAAAAAAAAAAAAAAAAAAAAAAAAAAAAAAAAAAAAAAAAAAAAAAAAAAAAAAAAAAAAAAAAAAAAAAAAAAAAAAAAAAAAAAAAAAAAAAAAAAAAAAAAA=",
          "dtype": "f8"
         }
        },
        {
         "hovertemplate": "<b>Important_7</b><br>Alpha: %{x:.6f}<br>Coefficient: %{y:.3f}<extra></extra>",
         "line": {
          "width": 2
         },
         "mode": "lines",
         "name": "Important_7",
         "type": "scatter",
         "x": {
          "bdata": "LUMc6+I2Gj8g/zh64yMeP3d3y8yyUyE/+UnHrfnrIz+srCJ3u+cmP9mn2AHeVSo/heZhTYJHLj89oywELWgxP9CoJvSEAzQ/NXzpXc0CNz/sZby1/XQ6P+4oZDlLaz4/VMfubr98QT/MIrQNLBtEPwFknUL/HUc/QOkMMkKUSj/5HQBwPo9OPye9qylqkVE/4BBSG+8yVD/bcQ1LUTlXPyTBQqKrs1o/dekwI1yzXj9UKx9RLaZhPxOpCT7OSmQ/kmI1ncNUZz8E3QkyOtNqP8rALIWk124/gq0mAgm7cT9JLAuXyWJ0P6HWPV9WcHc/7shBDe7yej+7MGXIF/x+P438wVn9z4E/exSuR+F6hD9Rh3y3CYyHP6rq/V/HEos/lWOHH7Ygjz/sFhN1CuWRPyJDcXEVk5Q/GHx0zN2nlz8Qv4VWxjKbP8RnfL1/RZ8/CWlecTD6oT+gL/s1ZqukP/o/1sTSw6c/dBdVHetSqz9edmnVdGqvPyH2CmxvD7I/OhYat9PDtD9rF4DH6N+3P41XHOE1c7s/XjqwmpWPvz/zgKKCxyTCP+omxBZe3MQ/ajZ++x/8xz+0s8DOppPLPy4Y70DitM8/ArXR0jg60j+rtBd3BfXUP572Coh4GNg/G29cEz602z8ydQH8WtrfP65PaHrDT+I/+mRb+skN5T8SDo+U8jToP5waP9z71Os/AAAAAAAA8D+3SVmXZ2XyP1Rf/sKrJvU/zcWhSI5R+D/I0+1W4PX7P258oMDoEgBA7QC7RyV7AkBLfZjzqj8FQBgxCcxLbghAJ4QjsesWDEA6PSza5yUQQPthx6n8kBJAU3rqrsdYFUB6ZLpGK4sYQJMg0RgeOBxAXWEMZ/04IEBLEtzb7aYiQGYk3hcCciVAmq3Z4CyoKEB86R28d1ksQGI+yYEpTDBAfpp6/Pi8MkBrjIZRWos1QOvKusJQxThA26pnyfh6PEAqhQpFbF9AQLGQSCoe00JAzTYgf9CkRUCPI+EUl+JIQH/8Qm+hnExA5GaXy8VyUED+wg+EXelSQMpMEcRkvlVAAAAAAAAAWUA=",
          "dtype": "f8"
         },
         "y": {
          "bdata": "2KuqVGxxAED3ugkwZHEAQDaxE+RZcQBAGkGHBU5xAEDfNvhWQHEAQAjWnJEwcQBAqjngYx5xAEAfEM2AC3EAQAh//6TzcABAb4cxJNhwAEAtpSdctXAAQPloWfqMcABAXrSse1pwAECSC+N5GHAAQMiEEa7MbwBAHs6conVvAEDhQAKOEW8AQL//dHyebgBA5KRfdhpuAEAPBbLygm0AQFK4O7/UbABANHqYdQxsAEATraQtJmsAQK2wSmkdagBA7SuH/uxoAEB1uXX9jmcAQDzLsYsEZgBAxjCrJT5kAEAIMM67M2IAQGN/JRvbXwBA30z4By5dAEAIqKHbR1oAQC0cipjwVgBAVyW/EORSAECvph8XK04AQA/73ULFSABAI7d1q4lCAED6iF6EQDsAQHYH1lfcMgBAMYnY3jgpAEBj7KA86h0AQJ1VcEAlEQBAndtUsaECAEDkoHjj5ub/P63+WyILxP8/yhQrsWWd/z+Az/mxA2//P5O8bFgYOv8/KV7++3YH/z/JvAA9G87+P9+XvMpVif4/broZT8U4/j/h+xTbS9z9P5u3xmFJcv0/5+abLW74/D/MES+2TGz8P6TK1UI2y/s/3WSGGvoR+z8dObHBxTz6PyMgJ2o+Pfk/2RbiJNoG+D8OsgttKJn2P6/hN0d18vQ/y78cOlv58j8D7zdbEr7wP6wA3tcNbuw/+YohnFMH5z8Wj0mM1uTgPwRzmLQ0rtM/Wgtmypchrj8AAAAAAAAAAAAAAAAAAAAAAAAAAAAAAAAAAAAAAAAAAAAAAAAAAAAAAAAAAAAAAAAAAAAAAAAAAAAAAAAAAAAAAAAAAAAAAAAAAAAAAAAAAAAAAAAAAAAAAAAAAAAAAAAAAAAAAAAAAAAAAAAAAAAAAAAAAAAAAAAAAAAAAAAAAAAAAAAAAAAAAAAAAAAAAAAAAAAAAAAAAAAAAAAAAAAAAAAAAAAAAAAAAAAAAAAAAAAAAAAAAAAAAAAAAAAAAAAAAAAAAAAAAAAAAAAAAAAAAAAAAAAAAAAAAAAAAAAAAAAAAAAAAAAAAAAAAAAAAAA=",
          "dtype": "f8"
         }
        },
        {
         "hovertemplate": "<b>Important_8</b><br>Alpha: %{x:.6f}<br>Coefficient: %{y:.3f}<extra></extra>",
         "line": {
          "width": 2
         },
         "mode": "lines",
         "name": "Important_8",
         "type": "scatter",
         "x": {
          "bdata": "LUMc6+I2Gj8g/zh64yMeP3d3y8yyUyE/+UnHrfnrIz+srCJ3u+cmP9mn2AHeVSo/heZhTYJHLj89oywELWgxP9CoJvSEAzQ/NXzpXc0CNz/sZby1/XQ6P+4oZDlLaz4/VMfubr98QT/MIrQNLBtEPwFknUL/HUc/QOkMMkKUSj/5HQBwPo9OPye9qylqkVE/4BBSG+8yVD/bcQ1LUTlXPyTBQqKrs1o/dekwI1yzXj9UKx9RLaZhPxOpCT7OSmQ/kmI1ncNUZz8E3QkyOtNqP8rALIWk124/gq0mAgm7cT9JLAuXyWJ0P6HWPV9WcHc/7shBDe7yej+7MGXIF/x+P438wVn9z4E/exSuR+F6hD9Rh3y3CYyHP6rq/V/HEos/lWOHH7Ygjz/sFhN1CuWRPyJDcXEVk5Q/GHx0zN2nlz8Qv4VWxjKbP8RnfL1/RZ8/CWlecTD6oT+gL/s1ZqukP/o/1sTSw6c/dBdVHetSqz9edmnVdGqvPyH2CmxvD7I/OhYat9PDtD9rF4DH6N+3P41XHOE1c7s/XjqwmpWPvz/zgKKCxyTCP+omxBZe3MQ/ajZ++x/8xz+0s8DOppPLPy4Y70DitM8/ArXR0jg60j+rtBd3BfXUP572Coh4GNg/G29cEz602z8ydQH8WtrfP65PaHrDT+I/+mRb+skN5T8SDo+U8jToP5waP9z71Os/AAAAAAAA8D+3SVmXZ2XyP1Rf/sKrJvU/zcWhSI5R+D/I0+1W4PX7P258oMDoEgBA7QC7RyV7AkBLfZjzqj8FQBgxCcxLbghAJ4QjsesWDEA6PSza5yUQQPthx6n8kBJAU3rqrsdYFUB6ZLpGK4sYQJMg0RgeOBxAXWEMZ/04IEBLEtzb7aYiQGYk3hcCciVAmq3Z4CyoKEB86R28d1ksQGI+yYEpTDBAfpp6/Pi8MkBrjIZRWos1QOvKusJQxThA26pnyfh6PEAqhQpFbF9AQLGQSCoe00JAzTYgf9CkRUCPI+EUl+JIQH/8Qm+hnExA5GaXy8VyUED+wg+EXelSQMpMEcRkvlVAAAAAAAAAWUA=",
          "dtype": "f8"
         },
         "y": {
          "bdata": "dBalZAPt9z+tozDq7+z3P0Vxtuba7Pc/3GM1ycLs9z8qCHEcp+z3P5SG3VmH7Pc/5rQR52Ls9z/kY0YENuz3PwBgLpQF7Pc/15Mq/s3r9z98HHrBkuv3Pwr0IDpP6/c/+xlAmQfr9z+dbr8Awer3P6OgYhxt6vc/N/Hjtgrq9z8btyiVmen3P8i3VIIX6fc/RM0OxoLo9z/S54O42Of3P7PRHDIV5/c/wP4/YzTm9z+XdlXpMeX3P1Q56LkI5Pc/LljMCLPi9z+pxmorKuH3PzJWtNFe3/c/93OMgV/d9z/xEgKLE9v3P81fnn1v2Pc/rvg3m2LV9z/Y5q0EztH3P5gI6buxzfc/YJ8Cjx/J9z8seiQ7u8P3P/ZxA1ZVvfc/+wLZggC29z/X8JZ8rq33P4rO81IjpPc/29wYdSaZ9z9ywHCXH4z3P/g59hrYfPc/tAUG7R5q9z/fThdSc1X3P+1qM9DpPPc/Dve8m4wf9z9yVGh2fP32P6/F+UhF1fY/o055m9Kk9j9gx5kY4Gz2P1fPXoibLPY/8f3X4fji9T9um2noHY71P4grmDknLPU/BYp74Xy79D+KpAA0+jn0P/08ZpAKpfM/JOsMadP58j8aUWLUOTXyPxGKm6kpW/E/THK7GKZx8D8AFP3bAsvuP0ObwZ/7Yuw/aAByu6ej6T9poVyS2XzmPwpCbE0h3+I/zWe2FOUh3T+9gsX2ji3TP4/krABE7r4/AAAAAAAAAAAAAAAAAAAAAAAAAAAAAAAAAAAAAAAAAAAAAAAAAAAAAAAAAAAAAAAAAAAAAAAAAAAAAAAAAAAAAAAAAAAAAAAAAAAAAAAAAAAAAAAAAAAAAAAAAAAAAAAAAAAAAAAAAAAAAAAAAAAAAAAAAAAAAAAAAAAAAAAAAAAAAAAAAAAAAAAAAAAAAAAAAAAAAAAAAAAAAAAAAAAAAAAAAAAAAAAAAAAAAAAAAAAAAAAAAAAAAAAAAAAAAAAAAAAAAAAAAAAAAAAAAAAAAAAAAAAAAAAAAAAAAAAAAAAAAAAAAAAAAAAAAAAAAAAAAAAAAAAAAAA=",
          "dtype": "f8"
         }
        },
        {
         "hovertemplate": "<b>Important_9</b><br>Alpha: %{x:.6f}<br>Coefficient: %{y:.3f}<extra></extra>",
         "line": {
          "width": 2
         },
         "mode": "lines",
         "name": "Important_9",
         "type": "scatter",
         "x": {
          "bdata": "LUMc6+I2Gj8g/zh64yMeP3d3y8yyUyE/+UnHrfnrIz+srCJ3u+cmP9mn2AHeVSo/heZhTYJHLj89oywELWgxP9CoJvSEAzQ/NXzpXc0CNz/sZby1/XQ6P+4oZDlLaz4/VMfubr98QT/MIrQNLBtEPwFknUL/HUc/QOkMMkKUSj/5HQBwPo9OPye9qylqkVE/4BBSG+8yVD/bcQ1LUTlXPyTBQqKrs1o/dekwI1yzXj9UKx9RLaZhPxOpCT7OSmQ/kmI1ncNUZz8E3QkyOtNqP8rALIWk124/gq0mAgm7cT9JLAuXyWJ0P6HWPV9WcHc/7shBDe7yej+7MGXIF/x+P438wVn9z4E/exSuR+F6hD9Rh3y3CYyHP6rq/V/HEos/lWOHH7Ygjz/sFhN1CuWRPyJDcXEVk5Q/GHx0zN2nlz8Qv4VWxjKbP8RnfL1/RZ8/CWlecTD6oT+gL/s1ZqukP/o/1sTSw6c/dBdVHetSqz9edmnVdGqvPyH2CmxvD7I/OhYat9PDtD9rF4DH6N+3P41XHOE1c7s/XjqwmpWPvz/zgKKCxyTCP+omxBZe3MQ/ajZ++x/8xz+0s8DOppPLPy4Y70DitM8/ArXR0jg60j+rtBd3BfXUP572Coh4GNg/G29cEz602z8ydQH8WtrfP65PaHrDT+I/+mRb+skN5T8SDo+U8jToP5waP9z71Os/AAAAAAAA8D+3SVmXZ2XyP1Rf/sKrJvU/zcWhSI5R+D/I0+1W4PX7P258oMDoEgBA7QC7RyV7AkBLfZjzqj8FQBgxCcxLbghAJ4QjsesWDEA6PSza5yUQQPthx6n8kBJAU3rqrsdYFUB6ZLpGK4sYQJMg0RgeOBxAXWEMZ/04IEBLEtzb7aYiQGYk3hcCciVAmq3Z4CyoKEB86R28d1ksQGI+yYEpTDBAfpp6/Pi8MkBrjIZRWos1QOvKusJQxThA26pnyfh6PEAqhQpFbF9AQLGQSCoe00JAzTYgf9CkRUCPI+EUl+JIQH/8Qm+hnExA5GaXy8VyUED+wg+EXelSQMpMEcRkvlVAAAAAAAAAWUA=",
          "dtype": "f8"
         },
         "y": {
          "bdata": "QS6FMBQ48D/aCsr1CzjwP7m7s5MBOPA/w1HSm/U38D8/rULQ5zfwP03tsunXN/A/JVTylcU38D+3BhSAsjfwP6YwanGaN/A/GOlitn438D+IWYW2WzfwP41k6RUzN/A/vZ9UXQA38D+vQ+80vjbwP8WjWxlvNvA/qgfU5RE28D/A1R+9pjXwPyLZGYgrNfA/BLLHw5o08D+xUqPf8DPwP41/K4stM/A/90h89kwy8D8QBiPASjHwPwXvkN4hMPA/BlJlh8wu8D/bDFoSRC3wP6ugboNbK/A/e20V9hwp8D/Sy0toiCbwP8KaYvSQI/A/q2pIOCcg8D+S8VCtSxzwPwqvQoXaF/A/CrAd/I8S8D8Y/pDDLwzwP2msqbW0BPA/1jaWPAH47z+cihT/EuPvP3WktCn4yu8/Spx50Uev7z/btgKTJ4/vP0V5M3+caO8/eFLYrec67z83GPWtLgfvP/ogJ1p9y+4/rtw84fKI7j+tXENLqzvuP1BArm1j3+0/wj5oewh/7T/t6UnXcQ/tPwUPShzfjew/IitI7wr26z9C+r2eAUfrP5s3UYJ/fOo/YQnRLreT6T+wmniWBojoP2t5vaBMVOc/nqv4TnLy5T/nSwc3KlvkP0NWoJnReeI/5U7AKkVf4D+VD1rnZdDbP5BPIg/KLtY/NeIbxxwH0D86nY4UVivCP/J4pfSZ15M/AAAAAAAAAAAAAAAAAAAAAAAAAAAAAAAAAAAAAAAAAAAAAAAAAAAAAAAAAAAAAAAAAAAAAAAAAAAAAAAAAAAAAAAAAAAAAAAAAAAAAAAAAAAAAAAAAAAAAAAAAAAAAAAAAAAAAAAAAAAAAAAAAAAAAAAAAAAAAAAAAAAAAAAAAAAAAAAAAAAAAAAAAAAAAAAAAAAAAAAAAAAAAAAAAAAAAAAAAAAAAAAAAAAAAAAAAAAAAAAAAAAAAAAAAAAAAAAAAAAAAAAAAAAAAAAAAAAAAAAAAAAAAAAAAAAAAAAAAAAAAAAAAAAAAAAAAAAAAAAAAAAAAAAAAAAAAAAAAAAAAAAAAAAAAAAAAAAAAAAAAAA=",
          "dtype": "f8"
         }
        },
        {
         "hovertemplate": "<b>Important_10</b><br>Alpha: %{x:.6f}<br>Coefficient: %{y:.3f}<extra></extra>",
         "line": {
          "width": 2
         },
         "mode": "lines",
         "name": "Important_10",
         "type": "scatter",
         "x": {
          "bdata": "LUMc6+I2Gj8g/zh64yMeP3d3y8yyUyE/+UnHrfnrIz+srCJ3u+cmP9mn2AHeVSo/heZhTYJHLj89oywELWgxP9CoJvSEAzQ/NXzpXc0CNz/sZby1/XQ6P+4oZDlLaz4/VMfubr98QT/MIrQNLBtEPwFknUL/HUc/QOkMMkKUSj/5HQBwPo9OPye9qylqkVE/4BBSG+8yVD/bcQ1LUTlXPyTBQqKrs1o/dekwI1yzXj9UKx9RLaZhPxOpCT7OSmQ/kmI1ncNUZz8E3QkyOtNqP8rALIWk124/gq0mAgm7cT9JLAuXyWJ0P6HWPV9WcHc/7shBDe7yej+7MGXIF/x+P438wVn9z4E/exSuR+F6hD9Rh3y3CYyHP6rq/V/HEos/lWOHH7Ygjz/sFhN1CuWRPyJDcXEVk5Q/GHx0zN2nlz8Qv4VWxjKbP8RnfL1/RZ8/CWlecTD6oT+gL/s1ZqukP/o/1sTSw6c/dBdVHetSqz9edmnVdGqvPyH2CmxvD7I/OhYat9PDtD9rF4DH6N+3P41XHOE1c7s/XjqwmpWPvz/zgKKCxyTCP+omxBZe3MQ/ajZ++x/8xz+0s8DOppPLPy4Y70DitM8/ArXR0jg60j+rtBd3BfXUP572Coh4GNg/G29cEz602z8ydQH8WtrfP65PaHrDT+I/+mRb+skN5T8SDo+U8jToP5waP9z71Os/AAAAAAAA8D+3SVmXZ2XyP1Rf/sKrJvU/zcWhSI5R+D/I0+1W4PX7P258oMDoEgBA7QC7RyV7AkBLfZjzqj8FQBgxCcxLbghAJ4QjsesWDEA6PSza5yUQQPthx6n8kBJAU3rqrsdYFUB6ZLpGK4sYQJMg0RgeOBxAXWEMZ/04IEBLEtzb7aYiQGYk3hcCciVAmq3Z4CyoKEB86R28d1ksQGI+yYEpTDBAfpp6/Pi8MkBrjIZRWos1QOvKusJQxThA26pnyfh6PEAqhQpFbF9AQLGQSCoe00JAzTYgf9CkRUCPI+EUl+JIQH/8Qm+hnExA5GaXy8VyUED+wg+EXelSQMpMEcRkvlVAAAAAAAAAWUA=",
          "dtype": "f8"
         },
         "y": {
          "bdata": "skva3Uxb6z9lt849H1vrP2HPBZPrWus/ecUQMrBa6z/hkj/0a1rrP5Gv5IYdWus/TSfEZMNZ6z/bxbEOWlnrP8yjrMLiWOs/+dyTqFlY6z9gZfGyvlfrP/8Qbt0MV+s/e6gV10NW6z8zjrVwY1XrP45J/y5oVOs/cjmLOExT6z+nap+7BVLrP+Cm8FmOUOs/ygpAYN9O6z8ZR1KA8EzrP4zYPIO3Sus/DZgkUClI6z8TzkMkOUXrP3IivlPYQes/JKMBAPY96z9lLqvDfjnrP0ga613ENOs/BB9xLGUv6z+ws+kAOCnrP5f4AwYeIus/zc1XDPsZ6z9CRMdepRDrP9wnm3rmBes/C7JNxyj56j+5DTITQOrqP+J+gZTh2Oo/rqyk4ZfE6j90wdOLdazqP31QVR+5kOo/m2sMTdNw6j8j3Pe5kUzqP41L8nCDJeo/yAHNWxr26T8G6k9W87/pP3WjssEdgek/ICawUWg46T/QSIrxD+boP/LOPGFBiOg/I/1cjgYg6D/S6jWYhabnP9mCTZTtGOc/z2vRvCt65j/Q/Ho1ycLlP75mJzjt7eQ/RmG3RSn54z8deR8VxN/iP+zZvYsznOE/kz5vLjQo4D/Q//SNb/ncP9UvJIodPNk/O7zzOG/71D/Tn57joADQP63cpLJrisQ/r4DYPPT8rD8AAAAAAAAAAAAAAAAAAAAAAAAAAAAAAAAAAAAAAAAAAAAAAAAAAAAAAAAAAAAAAAAAAAAAAAAAAAAAAAAAAAAAAAAAAAAAAAAAAAAAAAAAAAAAAAAAAAAAAAAAAAAAAAAAAAAAAAAAAAAAAAAAAAAAAAAAAAAAAAAAAAAAAAAAAAAAAAAAAAAAAAAAAAAAAAAAAAAAAAAAAAAAAAAAAAAAAAAAAAAAAAAAAAAAAAAAAAAAAAAAAAAAAAAAAAAAAAAAAAAAAAAAAAAAAAAAAAAAAAAAAAAAAAAAAAAAAAAAAAAAAAAAAAAAAAAAAAAAAAAAAAAAAAAAAAAAAAAAAAAAAAAAAAAAAAAAAAAAAAAAAAAAAAAAAAAAAAAAAAAAAAA=",
          "dtype": "f8"
         }
        }
       ],
       "layout": {
        "height": 500,
        "showlegend": true,
        "template": {
         "data": {
          "bar": [
           {
            "error_x": {
             "color": "#2a3f5f"
            },
            "error_y": {
             "color": "#2a3f5f"
            },
            "marker": {
             "line": {
              "color": "#E5ECF6",
              "width": 0.5
             },
             "pattern": {
              "fillmode": "overlay",
              "size": 10,
              "solidity": 0.2
             }
            },
            "type": "bar"
           }
          ],
          "barpolar": [
           {
            "marker": {
             "line": {
              "color": "#E5ECF6",
              "width": 0.5
             },
             "pattern": {
              "fillmode": "overlay",
              "size": 10,
              "solidity": 0.2
             }
            },
            "type": "barpolar"
           }
          ],
          "carpet": [
           {
            "aaxis": {
             "endlinecolor": "#2a3f5f",
             "gridcolor": "white",
             "linecolor": "white",
             "minorgridcolor": "white",
             "startlinecolor": "#2a3f5f"
            },
            "baxis": {
             "endlinecolor": "#2a3f5f",
             "gridcolor": "white",
             "linecolor": "white",
             "minorgridcolor": "white",
             "startlinecolor": "#2a3f5f"
            },
            "type": "carpet"
           }
          ],
          "choropleth": [
           {
            "colorbar": {
             "outlinewidth": 0,
             "ticks": ""
            },
            "type": "choropleth"
           }
          ],
          "contour": [
           {
            "colorbar": {
             "outlinewidth": 0,
             "ticks": ""
            },
            "colorscale": [
             [
              0,
              "#0d0887"
             ],
             [
              0.1111111111111111,
              "#46039f"
             ],
             [
              0.2222222222222222,
              "#7201a8"
             ],
             [
              0.3333333333333333,
              "#9c179e"
             ],
             [
              0.4444444444444444,
              "#bd3786"
             ],
             [
              0.5555555555555556,
              "#d8576b"
             ],
             [
              0.6666666666666666,
              "#ed7953"
             ],
             [
              0.7777777777777778,
              "#fb9f3a"
             ],
             [
              0.8888888888888888,
              "#fdca26"
             ],
             [
              1,
              "#f0f921"
             ]
            ],
            "type": "contour"
           }
          ],
          "contourcarpet": [
           {
            "colorbar": {
             "outlinewidth": 0,
             "ticks": ""
            },
            "type": "contourcarpet"
           }
          ],
          "heatmap": [
           {
            "colorbar": {
             "outlinewidth": 0,
             "ticks": ""
            },
            "colorscale": [
             [
              0,
              "#0d0887"
             ],
             [
              0.1111111111111111,
              "#46039f"
             ],
             [
              0.2222222222222222,
              "#7201a8"
             ],
             [
              0.3333333333333333,
              "#9c179e"
             ],
             [
              0.4444444444444444,
              "#bd3786"
             ],
             [
              0.5555555555555556,
              "#d8576b"
             ],
             [
              0.6666666666666666,
              "#ed7953"
             ],
             [
              0.7777777777777778,
              "#fb9f3a"
             ],
             [
              0.8888888888888888,
              "#fdca26"
             ],
             [
              1,
              "#f0f921"
             ]
            ],
            "type": "heatmap"
           }
          ],
          "histogram": [
           {
            "marker": {
             "pattern": {
              "fillmode": "overlay",
              "size": 10,
              "solidity": 0.2
             }
            },
            "type": "histogram"
           }
          ],
          "histogram2d": [
           {
            "colorbar": {
             "outlinewidth": 0,
             "ticks": ""
            },
            "colorscale": [
             [
              0,
              "#0d0887"
             ],
             [
              0.1111111111111111,
              "#46039f"
             ],
             [
              0.2222222222222222,
              "#7201a8"
             ],
             [
              0.3333333333333333,
              "#9c179e"
             ],
             [
              0.4444444444444444,
              "#bd3786"
             ],
             [
              0.5555555555555556,
              "#d8576b"
             ],
             [
              0.6666666666666666,
              "#ed7953"
             ],
             [
              0.7777777777777778,
              "#fb9f3a"
             ],
             [
              0.8888888888888888,
              "#fdca26"
             ],
             [
              1,
              "#f0f921"
             ]
            ],
            "type": "histogram2d"
           }
          ],
          "histogram2dcontour": [
           {
            "colorbar": {
             "outlinewidth": 0,
             "ticks": ""
            },
            "colorscale": [
             [
              0,
              "#0d0887"
             ],
             [
              0.1111111111111111,
              "#46039f"
             ],
             [
              0.2222222222222222,
              "#7201a8"
             ],
             [
              0.3333333333333333,
              "#9c179e"
             ],
             [
              0.4444444444444444,
              "#bd3786"
             ],
             [
              0.5555555555555556,
              "#d8576b"
             ],
             [
              0.6666666666666666,
              "#ed7953"
             ],
             [
              0.7777777777777778,
              "#fb9f3a"
             ],
             [
              0.8888888888888888,
              "#fdca26"
             ],
             [
              1,
              "#f0f921"
             ]
            ],
            "type": "histogram2dcontour"
           }
          ],
          "mesh3d": [
           {
            "colorbar": {
             "outlinewidth": 0,
             "ticks": ""
            },
            "type": "mesh3d"
           }
          ],
          "parcoords": [
           {
            "line": {
             "colorbar": {
              "outlinewidth": 0,
              "ticks": ""
             }
            },
            "type": "parcoords"
           }
          ],
          "pie": [
           {
            "automargin": true,
            "type": "pie"
           }
          ],
          "scatter": [
           {
            "fillpattern": {
             "fillmode": "overlay",
             "size": 10,
             "solidity": 0.2
            },
            "type": "scatter"
           }
          ],
          "scatter3d": [
           {
            "line": {
             "colorbar": {
              "outlinewidth": 0,
              "ticks": ""
             }
            },
            "marker": {
             "colorbar": {
              "outlinewidth": 0,
              "ticks": ""
             }
            },
            "type": "scatter3d"
           }
          ],
          "scattercarpet": [
           {
            "marker": {
             "colorbar": {
              "outlinewidth": 0,
              "ticks": ""
             }
            },
            "type": "scattercarpet"
           }
          ],
          "scattergeo": [
           {
            "marker": {
             "colorbar": {
              "outlinewidth": 0,
              "ticks": ""
             }
            },
            "type": "scattergeo"
           }
          ],
          "scattergl": [
           {
            "marker": {
             "colorbar": {
              "outlinewidth": 0,
              "ticks": ""
             }
            },
            "type": "scattergl"
           }
          ],
          "scattermap": [
           {
            "marker": {
             "colorbar": {
              "outlinewidth": 0,
              "ticks": ""
             }
            },
            "type": "scattermap"
           }
          ],
          "scattermapbox": [
           {
            "marker": {
             "colorbar": {
              "outlinewidth": 0,
              "ticks": ""
             }
            },
            "type": "scattermapbox"
           }
          ],
          "scatterpolar": [
           {
            "marker": {
             "colorbar": {
              "outlinewidth": 0,
              "ticks": ""
             }
            },
            "type": "scatterpolar"
           }
          ],
          "scatterpolargl": [
           {
            "marker": {
             "colorbar": {
              "outlinewidth": 0,
              "ticks": ""
             }
            },
            "type": "scatterpolargl"
           }
          ],
          "scatterternary": [
           {
            "marker": {
             "colorbar": {
              "outlinewidth": 0,
              "ticks": ""
             }
            },
            "type": "scatterternary"
           }
          ],
          "surface": [
           {
            "colorbar": {
             "outlinewidth": 0,
             "ticks": ""
            },
            "colorscale": [
             [
              0,
              "#0d0887"
             ],
             [
              0.1111111111111111,
              "#46039f"
             ],
             [
              0.2222222222222222,
              "#7201a8"
             ],
             [
              0.3333333333333333,
              "#9c179e"
             ],
             [
              0.4444444444444444,
              "#bd3786"
             ],
             [
              0.5555555555555556,
              "#d8576b"
             ],
             [
              0.6666666666666666,
              "#ed7953"
             ],
             [
              0.7777777777777778,
              "#fb9f3a"
             ],
             [
              0.8888888888888888,
              "#fdca26"
             ],
             [
              1,
              "#f0f921"
             ]
            ],
            "type": "surface"
           }
          ],
          "table": [
           {
            "cells": {
             "fill": {
              "color": "#EBF0F8"
             },
             "line": {
              "color": "white"
             }
            },
            "header": {
             "fill": {
              "color": "#C8D4E3"
             },
             "line": {
              "color": "white"
             }
            },
            "type": "table"
           }
          ]
         },
         "layout": {
          "annotationdefaults": {
           "arrowcolor": "#2a3f5f",
           "arrowhead": 0,
           "arrowwidth": 1
          },
          "autotypenumbers": "strict",
          "coloraxis": {
           "colorbar": {
            "outlinewidth": 0,
            "ticks": ""
           }
          },
          "colorscale": {
           "diverging": [
            [
             0,
             "#8e0152"
            ],
            [
             0.1,
             "#c51b7d"
            ],
            [
             0.2,
             "#de77ae"
            ],
            [
             0.3,
             "#f1b6da"
            ],
            [
             0.4,
             "#fde0ef"
            ],
            [
             0.5,
             "#f7f7f7"
            ],
            [
             0.6,
             "#e6f5d0"
            ],
            [
             0.7,
             "#b8e186"
            ],
            [
             0.8,
             "#7fbc41"
            ],
            [
             0.9,
             "#4d9221"
            ],
            [
             1,
             "#276419"
            ]
           ],
           "sequential": [
            [
             0,
             "#0d0887"
            ],
            [
             0.1111111111111111,
             "#46039f"
            ],
            [
             0.2222222222222222,
             "#7201a8"
            ],
            [
             0.3333333333333333,
             "#9c179e"
            ],
            [
             0.4444444444444444,
             "#bd3786"
            ],
            [
             0.5555555555555556,
             "#d8576b"
            ],
            [
             0.6666666666666666,
             "#ed7953"
            ],
            [
             0.7777777777777778,
             "#fb9f3a"
            ],
            [
             0.8888888888888888,
             "#fdca26"
            ],
            [
             1,
             "#f0f921"
            ]
           ],
           "sequentialminus": [
            [
             0,
             "#0d0887"
            ],
            [
             0.1111111111111111,
             "#46039f"
            ],
            [
             0.2222222222222222,
             "#7201a8"
            ],
            [
             0.3333333333333333,
             "#9c179e"
            ],
            [
             0.4444444444444444,
             "#bd3786"
            ],
            [
             0.5555555555555556,
             "#d8576b"
            ],
            [
             0.6666666666666666,
             "#ed7953"
            ],
            [
             0.7777777777777778,
             "#fb9f3a"
            ],
            [
             0.8888888888888888,
             "#fdca26"
            ],
            [
             1,
             "#f0f921"
            ]
           ]
          },
          "colorway": [
           "#636efa",
           "#EF553B",
           "#00cc96",
           "#ab63fa",
           "#FFA15A",
           "#19d3f3",
           "#FF6692",
           "#B6E880",
           "#FF97FF",
           "#FECB52"
          ],
          "font": {
           "color": "#2a3f5f"
          },
          "geo": {
           "bgcolor": "white",
           "lakecolor": "white",
           "landcolor": "#E5ECF6",
           "showlakes": true,
           "showland": true,
           "subunitcolor": "white"
          },
          "hoverlabel": {
           "align": "left"
          },
          "hovermode": "closest",
          "mapbox": {
           "style": "light"
          },
          "paper_bgcolor": "white",
          "plot_bgcolor": "#E5ECF6",
          "polar": {
           "angularaxis": {
            "gridcolor": "white",
            "linecolor": "white",
            "ticks": ""
           },
           "bgcolor": "#E5ECF6",
           "radialaxis": {
            "gridcolor": "white",
            "linecolor": "white",
            "ticks": ""
           }
          },
          "scene": {
           "xaxis": {
            "backgroundcolor": "#E5ECF6",
            "gridcolor": "white",
            "gridwidth": 2,
            "linecolor": "white",
            "showbackground": true,
            "ticks": "",
            "zerolinecolor": "white"
           },
           "yaxis": {
            "backgroundcolor": "#E5ECF6",
            "gridcolor": "white",
            "gridwidth": 2,
            "linecolor": "white",
            "showbackground": true,
            "ticks": "",
            "zerolinecolor": "white"
           },
           "zaxis": {
            "backgroundcolor": "#E5ECF6",
            "gridcolor": "white",
            "gridwidth": 2,
            "linecolor": "white",
            "showbackground": true,
            "ticks": "",
            "zerolinecolor": "white"
           }
          },
          "shapedefaults": {
           "line": {
            "color": "#2a3f5f"
           }
          },
          "ternary": {
           "aaxis": {
            "gridcolor": "white",
            "linecolor": "white",
            "ticks": ""
           },
           "baxis": {
            "gridcolor": "white",
            "linecolor": "white",
            "ticks": ""
           },
           "bgcolor": "#E5ECF6",
           "caxis": {
            "gridcolor": "white",
            "linecolor": "white",
            "ticks": ""
           }
          },
          "title": {
           "x": 0.05
          },
          "xaxis": {
           "automargin": true,
           "gridcolor": "white",
           "linecolor": "white",
           "ticks": "",
           "title": {
            "standoff": 15
           },
           "zerolinecolor": "white",
           "zerolinewidth": 2
          },
          "yaxis": {
           "automargin": true,
           "gridcolor": "white",
           "linecolor": "white",
           "ticks": "",
           "title": {
            "standoff": 15
           },
           "zerolinecolor": "white",
           "zerolinewidth": 2
          }
         }
        },
        "title": {
         "text": "Lasso Regression: Regularization Path (Important Features)"
        },
        "xaxis": {
         "title": {
          "text": "Alpha (log scale)"
         },
         "type": "log"
        },
        "yaxis": {
         "title": {
          "text": "Coefficient Value"
         }
        }
       }
      }
     },
     "metadata": {},
     "output_type": "display_data"
    },
    {
     "data": {
      "application/vnd.plotly.v1+json": {
       "config": {
        "plotlyServerURL": "https://plot.ly"
       },
       "data": [
        {
         "hovertemplate": "Alpha: %{x:.6f}<br>R² Score: %{y:.4f}<extra></extra>",
         "line": {
          "color": "blue",
          "width": 3
         },
         "mode": "lines",
         "name": "Test R² Score",
         "type": "scatter",
         "x": {
          "bdata": "LUMc6+I2Gj8g/zh64yMeP3d3y8yyUyE/+UnHrfnrIz+srCJ3u+cmP9mn2AHeVSo/heZhTYJHLj89oywELWgxP9CoJvSEAzQ/NXzpXc0CNz/sZby1/XQ6P+4oZDlLaz4/VMfubr98QT/MIrQNLBtEPwFknUL/HUc/QOkMMkKUSj/5HQBwPo9OPye9qylqkVE/4BBSG+8yVD/bcQ1LUTlXPyTBQqKrs1o/dekwI1yzXj9UKx9RLaZhPxOpCT7OSmQ/kmI1ncNUZz8E3QkyOtNqP8rALIWk124/gq0mAgm7cT9JLAuXyWJ0P6HWPV9WcHc/7shBDe7yej+7MGXIF/x+P438wVn9z4E/exSuR+F6hD9Rh3y3CYyHP6rq/V/HEos/lWOHH7Ygjz/sFhN1CuWRPyJDcXEVk5Q/GHx0zN2nlz8Qv4VWxjKbP8RnfL1/RZ8/CWlecTD6oT+gL/s1ZqukP/o/1sTSw6c/dBdVHetSqz9edmnVdGqvPyH2CmxvD7I/OhYat9PDtD9rF4DH6N+3P41XHOE1c7s/XjqwmpWPvz/zgKKCxyTCP+omxBZe3MQ/ajZ++x/8xz+0s8DOppPLPy4Y70DitM8/ArXR0jg60j+rtBd3BfXUP572Coh4GNg/G29cEz602z8ydQH8WtrfP65PaHrDT+I/+mRb+skN5T8SDo+U8jToP5waP9z71Os/AAAAAAAA8D+3SVmXZ2XyP1Rf/sKrJvU/zcWhSI5R+D/I0+1W4PX7P258oMDoEgBA7QC7RyV7AkBLfZjzqj8FQBgxCcxLbghAJ4QjsesWDEA6PSza5yUQQPthx6n8kBJAU3rqrsdYFUB6ZLpGK4sYQJMg0RgeOBxAXWEMZ/04IEBLEtzb7aYiQGYk3hcCciVAmq3Z4CyoKEB86R28d1ksQGI+yYEpTDBAfpp6/Pi8MkBrjIZRWos1QOvKusJQxThA26pnyfh6PEAqhQpFbF9AQLGQSCoe00JAzTYgf9CkRUCPI+EUl+JIQH/8Qm+hnExA5GaXy8VyUED+wg+EXelSQMpMEcRkvlVAAAAAAAAAWUA=",
          "dtype": "f8"
         },
         "xaxis": "x",
         "y": [
          0.9902806862128615,
          0.990280610812412,
          0.990280579366849,
          0.9902805444681464,
          0.990280505689913,
          0.9902804625276842,
          0.9902804143768554,
          0.9902802355687701,
          0.9902801568776223,
          0.9902800677179134,
          0.9902801543401413,
          0.9902802744457475,
          0.99028065808555,
          0.990281584470108,
          0.990282616021602,
          0.9902837749251122,
          0.9902851014235258,
          0.9902866187028534,
          0.9902884744638458,
          0.9902907216391122,
          0.9902932868770199,
          0.9902962120917727,
          0.990299543438972,
          0.9903033315283287,
          0.9903076311708041,
          0.9903125009938688,
          0.9903173318704693,
          0.9903230403095024,
          0.9903294429575908,
          0.990336594230362,
          0.9903445269257727,
          0.9903529672155629,
          0.9903623294692644,
          0.990374268056538,
          0.9903897295290945,
          0.990407451982691,
          0.9904275161532857,
          0.9904500640562962,
          0.9904742687057708,
          0.9904993663443352,
          0.9905286177074648,
          0.9905536304226724,
          0.9905752395359598,
          0.990583571392613,
          0.9905896924458868,
          0.9905888745912192,
          0.990578725865491,
          0.990537926809214,
          0.990498559772262,
          0.9904132025675586,
          0.9902891953577679,
          0.9901133605448356,
          0.9898620476974238,
          0.9895096325952,
          0.9890235532572611,
          0.9883584499523221,
          0.9874526004961215,
          0.9862252310832554,
          0.9845711875719184,
          0.9825666421700019,
          0.9801896597811808,
          0.977070506268778,
          0.9729498946158891,
          0.9677774542213948,
          0.9614386412949887,
          0.9536757521407623,
          0.9443503538699145,
          0.9321723569059193,
          0.9160360151538638,
          0.8959439295579098,
          0.8750425697934882,
          0.8486399015153945,
          0.8138687628994049,
          0.7689471418756793,
          0.7240347478631027,
          0.6652408453026583,
          0.5881829108951648,
          0.49767700285157146,
          0.40636977052174006,
          0.3304499240215327,
          0.23355217730456623,
          0.1501775147297414,
          0.07600164740746751,
          -0.003268467216536619,
          -0.003268467216536619,
          -0.003268467216536619,
          -0.003268467216536619,
          -0.003268467216536619,
          -0.003268467216536619,
          -0.003268467216536619,
          -0.003268467216536619,
          -0.003268467216536619,
          -0.003268467216536619,
          -0.003268467216536619,
          -0.003268467216536619,
          -0.003268467216536619,
          -0.003268467216536619,
          -0.003268467216536619,
          -0.003268467216536619,
          -0.003268467216536619
         ],
         "yaxis": "y"
        },
        {
         "hovertemplate": "Alpha: %{x:.6f}<br>Features: %{y}<extra></extra>",
         "line": {
          "color": "green",
          "width": 3
         },
         "mode": "lines",
         "name": "Selected Features",
         "type": "scatter",
         "x": {
          "bdata": "LUMc6+I2Gj8g/zh64yMeP3d3y8yyUyE/+UnHrfnrIz+srCJ3u+cmP9mn2AHeVSo/heZhTYJHLj89oywELWgxP9CoJvSEAzQ/NXzpXc0CNz/sZby1/XQ6P+4oZDlLaz4/VMfubr98QT/MIrQNLBtEPwFknUL/HUc/QOkMMkKUSj/5HQBwPo9OPye9qylqkVE/4BBSG+8yVD/bcQ1LUTlXPyTBQqKrs1o/dekwI1yzXj9UKx9RLaZhPxOpCT7OSmQ/kmI1ncNUZz8E3QkyOtNqP8rALIWk124/gq0mAgm7cT9JLAuXyWJ0P6HWPV9WcHc/7shBDe7yej+7MGXIF/x+P438wVn9z4E/exSuR+F6hD9Rh3y3CYyHP6rq/V/HEos/lWOHH7Ygjz/sFhN1CuWRPyJDcXEVk5Q/GHx0zN2nlz8Qv4VWxjKbP8RnfL1/RZ8/CWlecTD6oT+gL/s1ZqukP/o/1sTSw6c/dBdVHetSqz9edmnVdGqvPyH2CmxvD7I/OhYat9PDtD9rF4DH6N+3P41XHOE1c7s/XjqwmpWPvz/zgKKCxyTCP+omxBZe3MQ/ajZ++x/8xz+0s8DOppPLPy4Y70DitM8/ArXR0jg60j+rtBd3BfXUP572Coh4GNg/G29cEz602z8ydQH8WtrfP65PaHrDT+I/+mRb+skN5T8SDo+U8jToP5waP9z71Os/AAAAAAAA8D+3SVmXZ2XyP1Rf/sKrJvU/zcWhSI5R+D/I0+1W4PX7P258oMDoEgBA7QC7RyV7AkBLfZjzqj8FQBgxCcxLbghAJ4QjsesWDEA6PSza5yUQQPthx6n8kBJAU3rqrsdYFUB6ZLpGK4sYQJMg0RgeOBxAXWEMZ/04IEBLEtzb7aYiQGYk3hcCciVAmq3Z4CyoKEB86R28d1ksQGI+yYEpTDBAfpp6/Pi8MkBrjIZRWos1QOvKusJQxThA26pnyfh6PEAqhQpFbF9AQLGQSCoe00JAzTYgf9CkRUCPI+EUl+JIQH/8Qm+hnExA5GaXy8VyUED+wg+EXelSQMpMEcRkvlVAAAAAAAAAWUA=",
          "dtype": "f8"
         },
         "xaxis": "x2",
         "y": [
          54,
          54,
          54,
          54,
          54,
          54,
          54,
          54,
          54,
          54,
          54,
          54,
          54,
          54,
          53,
          53,
          53,
          53,
          52,
          52,
          52,
          52,
          52,
          52,
          52,
          52,
          50,
          50,
          50,
          50,
          48,
          48,
          47,
          47,
          45,
          44,
          41,
          41,
          41,
          41,
          39,
          38,
          37,
          35,
          33,
          30,
          26,
          21,
          19,
          18,
          16,
          16,
          15,
          15,
          15,
          15,
          15,
          15,
          15,
          13,
          11,
          11,
          10,
          10,
          9,
          9,
          8,
          8,
          8,
          7,
          6,
          6,
          6,
          5,
          5,
          5,
          5,
          4,
          3,
          2,
          2,
          1,
          1,
          0,
          0,
          0,
          0,
          0,
          0,
          0,
          0,
          0,
          0,
          0,
          0,
          0,
          0,
          0,
          0,
          0
         ],
         "yaxis": "y2"
        }
       ],
       "layout": {
        "annotations": [
         {
          "font": {
           "size": 16
          },
          "showarrow": false,
          "text": "Alpha vs Performance",
          "x": 0.225,
          "xanchor": "center",
          "xref": "paper",
          "y": 1,
          "yanchor": "bottom",
          "yref": "paper"
         },
         {
          "font": {
           "size": 16
          },
          "showarrow": false,
          "text": "Alpha vs Feature Count",
          "x": 0.775,
          "xanchor": "center",
          "xref": "paper",
          "y": 1,
          "yanchor": "bottom",
          "yref": "paper"
         },
         {
          "showarrow": false,
          "text": "Optimal α = 0.065513",
          "x": 0.0655128556859551,
          "xanchor": "left",
          "xref": "x",
          "y": 1,
          "yanchor": "top",
          "yref": "y domain"
         }
        ],
        "height": 500,
        "shapes": [
         {
          "line": {
           "color": "red",
           "dash": "dash"
          },
          "type": "line",
          "x0": 0.0655128556859551,
          "x1": 0.0655128556859551,
          "xref": "x",
          "y0": 0,
          "y1": 1,
          "yref": "y domain"
         },
         {
          "line": {
           "color": "red",
           "dash": "dash"
          },
          "type": "line",
          "x0": 0.0655128556859551,
          "x1": 0.0655128556859551,
          "xref": "x2",
          "y0": 0,
          "y1": 1,
          "yref": "y2 domain"
         }
        ],
        "template": {
         "data": {
          "bar": [
           {
            "error_x": {
             "color": "#2a3f5f"
            },
            "error_y": {
             "color": "#2a3f5f"
            },
            "marker": {
             "line": {
              "color": "#E5ECF6",
              "width": 0.5
             },
             "pattern": {
              "fillmode": "overlay",
              "size": 10,
              "solidity": 0.2
             }
            },
            "type": "bar"
           }
          ],
          "barpolar": [
           {
            "marker": {
             "line": {
              "color": "#E5ECF6",
              "width": 0.5
             },
             "pattern": {
              "fillmode": "overlay",
              "size": 10,
              "solidity": 0.2
             }
            },
            "type": "barpolar"
           }
          ],
          "carpet": [
           {
            "aaxis": {
             "endlinecolor": "#2a3f5f",
             "gridcolor": "white",
             "linecolor": "white",
             "minorgridcolor": "white",
             "startlinecolor": "#2a3f5f"
            },
            "baxis": {
             "endlinecolor": "#2a3f5f",
             "gridcolor": "white",
             "linecolor": "white",
             "minorgridcolor": "white",
             "startlinecolor": "#2a3f5f"
            },
            "type": "carpet"
           }
          ],
          "choropleth": [
           {
            "colorbar": {
             "outlinewidth": 0,
             "ticks": ""
            },
            "type": "choropleth"
           }
          ],
          "contour": [
           {
            "colorbar": {
             "outlinewidth": 0,
             "ticks": ""
            },
            "colorscale": [
             [
              0,
              "#0d0887"
             ],
             [
              0.1111111111111111,
              "#46039f"
             ],
             [
              0.2222222222222222,
              "#7201a8"
             ],
             [
              0.3333333333333333,
              "#9c179e"
             ],
             [
              0.4444444444444444,
              "#bd3786"
             ],
             [
              0.5555555555555556,
              "#d8576b"
             ],
             [
              0.6666666666666666,
              "#ed7953"
             ],
             [
              0.7777777777777778,
              "#fb9f3a"
             ],
             [
              0.8888888888888888,
              "#fdca26"
             ],
             [
              1,
              "#f0f921"
             ]
            ],
            "type": "contour"
           }
          ],
          "contourcarpet": [
           {
            "colorbar": {
             "outlinewidth": 0,
             "ticks": ""
            },
            "type": "contourcarpet"
           }
          ],
          "heatmap": [
           {
            "colorbar": {
             "outlinewidth": 0,
             "ticks": ""
            },
            "colorscale": [
             [
              0,
              "#0d0887"
             ],
             [
              0.1111111111111111,
              "#46039f"
             ],
             [
              0.2222222222222222,
              "#7201a8"
             ],
             [
              0.3333333333333333,
              "#9c179e"
             ],
             [
              0.4444444444444444,
              "#bd3786"
             ],
             [
              0.5555555555555556,
              "#d8576b"
             ],
             [
              0.6666666666666666,
              "#ed7953"
             ],
             [
              0.7777777777777778,
              "#fb9f3a"
             ],
             [
              0.8888888888888888,
              "#fdca26"
             ],
             [
              1,
              "#f0f921"
             ]
            ],
            "type": "heatmap"
           }
          ],
          "histogram": [
           {
            "marker": {
             "pattern": {
              "fillmode": "overlay",
              "size": 10,
              "solidity": 0.2
             }
            },
            "type": "histogram"
           }
          ],
          "histogram2d": [
           {
            "colorbar": {
             "outlinewidth": 0,
             "ticks": ""
            },
            "colorscale": [
             [
              0,
              "#0d0887"
             ],
             [
              0.1111111111111111,
              "#46039f"
             ],
             [
              0.2222222222222222,
              "#7201a8"
             ],
             [
              0.3333333333333333,
              "#9c179e"
             ],
             [
              0.4444444444444444,
              "#bd3786"
             ],
             [
              0.5555555555555556,
              "#d8576b"
             ],
             [
              0.6666666666666666,
              "#ed7953"
             ],
             [
              0.7777777777777778,
              "#fb9f3a"
             ],
             [
              0.8888888888888888,
              "#fdca26"
             ],
             [
              1,
              "#f0f921"
             ]
            ],
            "type": "histogram2d"
           }
          ],
          "histogram2dcontour": [
           {
            "colorbar": {
             "outlinewidth": 0,
             "ticks": ""
            },
            "colorscale": [
             [
              0,
              "#0d0887"
             ],
             [
              0.1111111111111111,
              "#46039f"
             ],
             [
              0.2222222222222222,
              "#7201a8"
             ],
             [
              0.3333333333333333,
              "#9c179e"
             ],
             [
              0.4444444444444444,
              "#bd3786"
             ],
             [
              0.5555555555555556,
              "#d8576b"
             ],
             [
              0.6666666666666666,
              "#ed7953"
             ],
             [
              0.7777777777777778,
              "#fb9f3a"
             ],
             [
              0.8888888888888888,
              "#fdca26"
             ],
             [
              1,
              "#f0f921"
             ]
            ],
            "type": "histogram2dcontour"
           }
          ],
          "mesh3d": [
           {
            "colorbar": {
             "outlinewidth": 0,
             "ticks": ""
            },
            "type": "mesh3d"
           }
          ],
          "parcoords": [
           {
            "line": {
             "colorbar": {
              "outlinewidth": 0,
              "ticks": ""
             }
            },
            "type": "parcoords"
           }
          ],
          "pie": [
           {
            "automargin": true,
            "type": "pie"
           }
          ],
          "scatter": [
           {
            "fillpattern": {
             "fillmode": "overlay",
             "size": 10,
             "solidity": 0.2
            },
            "type": "scatter"
           }
          ],
          "scatter3d": [
           {
            "line": {
             "colorbar": {
              "outlinewidth": 0,
              "ticks": ""
             }
            },
            "marker": {
             "colorbar": {
              "outlinewidth": 0,
              "ticks": ""
             }
            },
            "type": "scatter3d"
           }
          ],
          "scattercarpet": [
           {
            "marker": {
             "colorbar": {
              "outlinewidth": 0,
              "ticks": ""
             }
            },
            "type": "scattercarpet"
           }
          ],
          "scattergeo": [
           {
            "marker": {
             "colorbar": {
              "outlinewidth": 0,
              "ticks": ""
             }
            },
            "type": "scattergeo"
           }
          ],
          "scattergl": [
           {
            "marker": {
             "colorbar": {
              "outlinewidth": 0,
              "ticks": ""
             }
            },
            "type": "scattergl"
           }
          ],
          "scattermap": [
           {
            "marker": {
             "colorbar": {
              "outlinewidth": 0,
              "ticks": ""
             }
            },
            "type": "scattermap"
           }
          ],
          "scattermapbox": [
           {
            "marker": {
             "colorbar": {
              "outlinewidth": 0,
              "ticks": ""
             }
            },
            "type": "scattermapbox"
           }
          ],
          "scatterpolar": [
           {
            "marker": {
             "colorbar": {
              "outlinewidth": 0,
              "ticks": ""
             }
            },
            "type": "scatterpolar"
           }
          ],
          "scatterpolargl": [
           {
            "marker": {
             "colorbar": {
              "outlinewidth": 0,
              "ticks": ""
             }
            },
            "type": "scatterpolargl"
           }
          ],
          "scatterternary": [
           {
            "marker": {
             "colorbar": {
              "outlinewidth": 0,
              "ticks": ""
             }
            },
            "type": "scatterternary"
           }
          ],
          "surface": [
           {
            "colorbar": {
             "outlinewidth": 0,
             "ticks": ""
            },
            "colorscale": [
             [
              0,
              "#0d0887"
             ],
             [
              0.1111111111111111,
              "#46039f"
             ],
             [
              0.2222222222222222,
              "#7201a8"
             ],
             [
              0.3333333333333333,
              "#9c179e"
             ],
             [
              0.4444444444444444,
              "#bd3786"
             ],
             [
              0.5555555555555556,
              "#d8576b"
             ],
             [
              0.6666666666666666,
              "#ed7953"
             ],
             [
              0.7777777777777778,
              "#fb9f3a"
             ],
             [
              0.8888888888888888,
              "#fdca26"
             ],
             [
              1,
              "#f0f921"
             ]
            ],
            "type": "surface"
           }
          ],
          "table": [
           {
            "cells": {
             "fill": {
              "color": "#EBF0F8"
             },
             "line": {
              "color": "white"
             }
            },
            "header": {
             "fill": {
              "color": "#C8D4E3"
             },
             "line": {
              "color": "white"
             }
            },
            "type": "table"
           }
          ]
         },
         "layout": {
          "annotationdefaults": {
           "arrowcolor": "#2a3f5f",
           "arrowhead": 0,
           "arrowwidth": 1
          },
          "autotypenumbers": "strict",
          "coloraxis": {
           "colorbar": {
            "outlinewidth": 0,
            "ticks": ""
           }
          },
          "colorscale": {
           "diverging": [
            [
             0,
             "#8e0152"
            ],
            [
             0.1,
             "#c51b7d"
            ],
            [
             0.2,
             "#de77ae"
            ],
            [
             0.3,
             "#f1b6da"
            ],
            [
             0.4,
             "#fde0ef"
            ],
            [
             0.5,
             "#f7f7f7"
            ],
            [
             0.6,
             "#e6f5d0"
            ],
            [
             0.7,
             "#b8e186"
            ],
            [
             0.8,
             "#7fbc41"
            ],
            [
             0.9,
             "#4d9221"
            ],
            [
             1,
             "#276419"
            ]
           ],
           "sequential": [
            [
             0,
             "#0d0887"
            ],
            [
             0.1111111111111111,
             "#46039f"
            ],
            [
             0.2222222222222222,
             "#7201a8"
            ],
            [
             0.3333333333333333,
             "#9c179e"
            ],
            [
             0.4444444444444444,
             "#bd3786"
            ],
            [
             0.5555555555555556,
             "#d8576b"
            ],
            [
             0.6666666666666666,
             "#ed7953"
            ],
            [
             0.7777777777777778,
             "#fb9f3a"
            ],
            [
             0.8888888888888888,
             "#fdca26"
            ],
            [
             1,
             "#f0f921"
            ]
           ],
           "sequentialminus": [
            [
             0,
             "#0d0887"
            ],
            [
             0.1111111111111111,
             "#46039f"
            ],
            [
             0.2222222222222222,
             "#7201a8"
            ],
            [
             0.3333333333333333,
             "#9c179e"
            ],
            [
             0.4444444444444444,
             "#bd3786"
            ],
            [
             0.5555555555555556,
             "#d8576b"
            ],
            [
             0.6666666666666666,
             "#ed7953"
            ],
            [
             0.7777777777777778,
             "#fb9f3a"
            ],
            [
             0.8888888888888888,
             "#fdca26"
            ],
            [
             1,
             "#f0f921"
            ]
           ]
          },
          "colorway": [
           "#636efa",
           "#EF553B",
           "#00cc96",
           "#ab63fa",
           "#FFA15A",
           "#19d3f3",
           "#FF6692",
           "#B6E880",
           "#FF97FF",
           "#FECB52"
          ],
          "font": {
           "color": "#2a3f5f"
          },
          "geo": {
           "bgcolor": "white",
           "lakecolor": "white",
           "landcolor": "#E5ECF6",
           "showlakes": true,
           "showland": true,
           "subunitcolor": "white"
          },
          "hoverlabel": {
           "align": "left"
          },
          "hovermode": "closest",
          "mapbox": {
           "style": "light"
          },
          "paper_bgcolor": "white",
          "plot_bgcolor": "#E5ECF6",
          "polar": {
           "angularaxis": {
            "gridcolor": "white",
            "linecolor": "white",
            "ticks": ""
           },
           "bgcolor": "#E5ECF6",
           "radialaxis": {
            "gridcolor": "white",
            "linecolor": "white",
            "ticks": ""
           }
          },
          "scene": {
           "xaxis": {
            "backgroundcolor": "#E5ECF6",
            "gridcolor": "white",
            "gridwidth": 2,
            "linecolor": "white",
            "showbackground": true,
            "ticks": "",
            "zerolinecolor": "white"
           },
           "yaxis": {
            "backgroundcolor": "#E5ECF6",
            "gridcolor": "white",
            "gridwidth": 2,
            "linecolor": "white",
            "showbackground": true,
            "ticks": "",
            "zerolinecolor": "white"
           },
           "zaxis": {
            "backgroundcolor": "#E5ECF6",
            "gridcolor": "white",
            "gridwidth": 2,
            "linecolor": "white",
            "showbackground": true,
            "ticks": "",
            "zerolinecolor": "white"
           }
          },
          "shapedefaults": {
           "line": {
            "color": "#2a3f5f"
           }
          },
          "ternary": {
           "aaxis": {
            "gridcolor": "white",
            "linecolor": "white",
            "ticks": ""
           },
           "baxis": {
            "gridcolor": "white",
            "linecolor": "white",
            "ticks": ""
           },
           "bgcolor": "#E5ECF6",
           "caxis": {
            "gridcolor": "white",
            "linecolor": "white",
            "ticks": ""
           }
          },
          "title": {
           "x": 0.05
          },
          "xaxis": {
           "automargin": true,
           "gridcolor": "white",
           "linecolor": "white",
           "ticks": "",
           "title": {
            "standoff": 15
           },
           "zerolinecolor": "white",
           "zerolinewidth": 2
          },
          "yaxis": {
           "automargin": true,
           "gridcolor": "white",
           "linecolor": "white",
           "ticks": "",
           "title": {
            "standoff": 15
           },
           "zerolinecolor": "white",
           "zerolinewidth": 2
          }
         }
        },
        "title": {
         "text": "Lasso Regression: Alpha Analysis"
        },
        "xaxis": {
         "anchor": "y",
         "domain": [
          0,
          0.45
         ],
         "title": {
          "text": "Alpha (log scale)"
         },
         "type": "log"
        },
        "xaxis2": {
         "anchor": "y2",
         "domain": [
          0.55,
          1
         ],
         "title": {
          "text": "Alpha (log scale)"
         },
         "type": "log"
        },
        "yaxis": {
         "anchor": "x",
         "domain": [
          0,
          1
         ],
         "title": {
          "text": "Test R² Score"
         }
        },
        "yaxis2": {
         "anchor": "x2",
         "domain": [
          0,
          1
         ],
         "title": {
          "text": "Number of Selected Features"
         }
        }
       }
      }
     },
     "metadata": {},
     "output_type": "display_data"
    },
    {
     "data": {
      "application/vnd.plotly.v1+json": {
       "config": {
        "plotlyServerURL": "https://plot.ly"
       },
       "data": [
        {
         "hovertemplate": "<b>%{x}</b><br>|Coefficient|: %{y:.3f}<extra></extra>",
         "marker": {
          "color": [
           "red",
           "red",
           "red",
           "red",
           "red",
           "red",
           "red",
           "red",
           "red",
           "red",
           "red",
           "red",
           "red",
           "red",
           "lightblue",
           "lightblue",
           "lightblue",
           "lightblue",
           "lightblue",
           "lightblue"
          ]
         },
         "name": "Selected Features",
         "type": "bar",
         "x": [
          "Important_1",
          "Important_2",
          "Important_3",
          "Important_4",
          "Important_5",
          "Important_6",
          "Important_7",
          "Important_8",
          "Important_9",
          "Important_10",
          "Important_11",
          "Important_12",
          "Important_14",
          "Important_13",
          "marketing_spend",
          "Noise_25",
          "Noise_14",
          "Noise_26",
          "Noise_23",
          "Noise_30"
         ],
         "y": {
          "bdata": "fRzmoIJ2JEBNsgdEGS4gQBTsqqCXlxdAAHOe/p/xE0CQF4ufIocOQLdBMa/gKQhAgMxGiLpW/z/s9mgNe+v2P75JWmXtEe4/ENg79U676D9aCysYfL/gPxsOoBL549Y/qZI842R20D9zZccgk2HQP83TvxXHp80/yzaHIxZ3pz+B4jkFO8qjPy2ftY8DkJ4/kDygw78Ojz+ukdCGQuyEPw==",
          "dtype": "f8"
         }
        }
       ],
       "layout": {
        "height": 500,
        "template": {
         "data": {
          "bar": [
           {
            "error_x": {
             "color": "#2a3f5f"
            },
            "error_y": {
             "color": "#2a3f5f"
            },
            "marker": {
             "line": {
              "color": "#E5ECF6",
              "width": 0.5
             },
             "pattern": {
              "fillmode": "overlay",
              "size": 10,
              "solidity": 0.2
             }
            },
            "type": "bar"
           }
          ],
          "barpolar": [
           {
            "marker": {
             "line": {
              "color": "#E5ECF6",
              "width": 0.5
             },
             "pattern": {
              "fillmode": "overlay",
              "size": 10,
              "solidity": 0.2
             }
            },
            "type": "barpolar"
           }
          ],
          "carpet": [
           {
            "aaxis": {
             "endlinecolor": "#2a3f5f",
             "gridcolor": "white",
             "linecolor": "white",
             "minorgridcolor": "white",
             "startlinecolor": "#2a3f5f"
            },
            "baxis": {
             "endlinecolor": "#2a3f5f",
             "gridcolor": "white",
             "linecolor": "white",
             "minorgridcolor": "white",
             "startlinecolor": "#2a3f5f"
            },
            "type": "carpet"
           }
          ],
          "choropleth": [
           {
            "colorbar": {
             "outlinewidth": 0,
             "ticks": ""
            },
            "type": "choropleth"
           }
          ],
          "contour": [
           {
            "colorbar": {
             "outlinewidth": 0,
             "ticks": ""
            },
            "colorscale": [
             [
              0,
              "#0d0887"
             ],
             [
              0.1111111111111111,
              "#46039f"
             ],
             [
              0.2222222222222222,
              "#7201a8"
             ],
             [
              0.3333333333333333,
              "#9c179e"
             ],
             [
              0.4444444444444444,
              "#bd3786"
             ],
             [
              0.5555555555555556,
              "#d8576b"
             ],
             [
              0.6666666666666666,
              "#ed7953"
             ],
             [
              0.7777777777777778,
              "#fb9f3a"
             ],
             [
              0.8888888888888888,
              "#fdca26"
             ],
             [
              1,
              "#f0f921"
             ]
            ],
            "type": "contour"
           }
          ],
          "contourcarpet": [
           {
            "colorbar": {
             "outlinewidth": 0,
             "ticks": ""
            },
            "type": "contourcarpet"
           }
          ],
          "heatmap": [
           {
            "colorbar": {
             "outlinewidth": 0,
             "ticks": ""
            },
            "colorscale": [
             [
              0,
              "#0d0887"
             ],
             [
              0.1111111111111111,
              "#46039f"
             ],
             [
              0.2222222222222222,
              "#7201a8"
             ],
             [
              0.3333333333333333,
              "#9c179e"
             ],
             [
              0.4444444444444444,
              "#bd3786"
             ],
             [
              0.5555555555555556,
              "#d8576b"
             ],
             [
              0.6666666666666666,
              "#ed7953"
             ],
             [
              0.7777777777777778,
              "#fb9f3a"
             ],
             [
              0.8888888888888888,
              "#fdca26"
             ],
             [
              1,
              "#f0f921"
             ]
            ],
            "type": "heatmap"
           }
          ],
          "histogram": [
           {
            "marker": {
             "pattern": {
              "fillmode": "overlay",
              "size": 10,
              "solidity": 0.2
             }
            },
            "type": "histogram"
           }
          ],
          "histogram2d": [
           {
            "colorbar": {
             "outlinewidth": 0,
             "ticks": ""
            },
            "colorscale": [
             [
              0,
              "#0d0887"
             ],
             [
              0.1111111111111111,
              "#46039f"
             ],
             [
              0.2222222222222222,
              "#7201a8"
             ],
             [
              0.3333333333333333,
              "#9c179e"
             ],
             [
              0.4444444444444444,
              "#bd3786"
             ],
             [
              0.5555555555555556,
              "#d8576b"
             ],
             [
              0.6666666666666666,
              "#ed7953"
             ],
             [
              0.7777777777777778,
              "#fb9f3a"
             ],
             [
              0.8888888888888888,
              "#fdca26"
             ],
             [
              1,
              "#f0f921"
             ]
            ],
            "type": "histogram2d"
           }
          ],
          "histogram2dcontour": [
           {
            "colorbar": {
             "outlinewidth": 0,
             "ticks": ""
            },
            "colorscale": [
             [
              0,
              "#0d0887"
             ],
             [
              0.1111111111111111,
              "#46039f"
             ],
             [
              0.2222222222222222,
              "#7201a8"
             ],
             [
              0.3333333333333333,
              "#9c179e"
             ],
             [
              0.4444444444444444,
              "#bd3786"
             ],
             [
              0.5555555555555556,
              "#d8576b"
             ],
             [
              0.6666666666666666,
              "#ed7953"
             ],
             [
              0.7777777777777778,
              "#fb9f3a"
             ],
             [
              0.8888888888888888,
              "#fdca26"
             ],
             [
              1,
              "#f0f921"
             ]
            ],
            "type": "histogram2dcontour"
           }
          ],
          "mesh3d": [
           {
            "colorbar": {
             "outlinewidth": 0,
             "ticks": ""
            },
            "type": "mesh3d"
           }
          ],
          "parcoords": [
           {
            "line": {
             "colorbar": {
              "outlinewidth": 0,
              "ticks": ""
             }
            },
            "type": "parcoords"
           }
          ],
          "pie": [
           {
            "automargin": true,
            "type": "pie"
           }
          ],
          "scatter": [
           {
            "fillpattern": {
             "fillmode": "overlay",
             "size": 10,
             "solidity": 0.2
            },
            "type": "scatter"
           }
          ],
          "scatter3d": [
           {
            "line": {
             "colorbar": {
              "outlinewidth": 0,
              "ticks": ""
             }
            },
            "marker": {
             "colorbar": {
              "outlinewidth": 0,
              "ticks": ""
             }
            },
            "type": "scatter3d"
           }
          ],
          "scattercarpet": [
           {
            "marker": {
             "colorbar": {
              "outlinewidth": 0,
              "ticks": ""
             }
            },
            "type": "scattercarpet"
           }
          ],
          "scattergeo": [
           {
            "marker": {
             "colorbar": {
              "outlinewidth": 0,
              "ticks": ""
             }
            },
            "type": "scattergeo"
           }
          ],
          "scattergl": [
           {
            "marker": {
             "colorbar": {
              "outlinewidth": 0,
              "ticks": ""
             }
            },
            "type": "scattergl"
           }
          ],
          "scattermap": [
           {
            "marker": {
             "colorbar": {
              "outlinewidth": 0,
              "ticks": ""
             }
            },
            "type": "scattermap"
           }
          ],
          "scattermapbox": [
           {
            "marker": {
             "colorbar": {
              "outlinewidth": 0,
              "ticks": ""
             }
            },
            "type": "scattermapbox"
           }
          ],
          "scatterpolar": [
           {
            "marker": {
             "colorbar": {
              "outlinewidth": 0,
              "ticks": ""
             }
            },
            "type": "scatterpolar"
           }
          ],
          "scatterpolargl": [
           {
            "marker": {
             "colorbar": {
              "outlinewidth": 0,
              "ticks": ""
             }
            },
            "type": "scatterpolargl"
           }
          ],
          "scatterternary": [
           {
            "marker": {
             "colorbar": {
              "outlinewidth": 0,
              "ticks": ""
             }
            },
            "type": "scatterternary"
           }
          ],
          "surface": [
           {
            "colorbar": {
             "outlinewidth": 0,
             "ticks": ""
            },
            "colorscale": [
             [
              0,
              "#0d0887"
             ],
             [
              0.1111111111111111,
              "#46039f"
             ],
             [
              0.2222222222222222,
              "#7201a8"
             ],
             [
              0.3333333333333333,
              "#9c179e"
             ],
             [
              0.4444444444444444,
              "#bd3786"
             ],
             [
              0.5555555555555556,
              "#d8576b"
             ],
             [
              0.6666666666666666,
              "#ed7953"
             ],
             [
              0.7777777777777778,
              "#fb9f3a"
             ],
             [
              0.8888888888888888,
              "#fdca26"
             ],
             [
              1,
              "#f0f921"
             ]
            ],
            "type": "surface"
           }
          ],
          "table": [
           {
            "cells": {
             "fill": {
              "color": "#EBF0F8"
             },
             "line": {
              "color": "white"
             }
            },
            "header": {
             "fill": {
              "color": "#C8D4E3"
             },
             "line": {
              "color": "white"
             }
            },
            "type": "table"
           }
          ]
         },
         "layout": {
          "annotationdefaults": {
           "arrowcolor": "#2a3f5f",
           "arrowhead": 0,
           "arrowwidth": 1
          },
          "autotypenumbers": "strict",
          "coloraxis": {
           "colorbar": {
            "outlinewidth": 0,
            "ticks": ""
           }
          },
          "colorscale": {
           "diverging": [
            [
             0,
             "#8e0152"
            ],
            [
             0.1,
             "#c51b7d"
            ],
            [
             0.2,
             "#de77ae"
            ],
            [
             0.3,
             "#f1b6da"
            ],
            [
             0.4,
             "#fde0ef"
            ],
            [
             0.5,
             "#f7f7f7"
            ],
            [
             0.6,
             "#e6f5d0"
            ],
            [
             0.7,
             "#b8e186"
            ],
            [
             0.8,
             "#7fbc41"
            ],
            [
             0.9,
             "#4d9221"
            ],
            [
             1,
             "#276419"
            ]
           ],
           "sequential": [
            [
             0,
             "#0d0887"
            ],
            [
             0.1111111111111111,
             "#46039f"
            ],
            [
             0.2222222222222222,
             "#7201a8"
            ],
            [
             0.3333333333333333,
             "#9c179e"
            ],
            [
             0.4444444444444444,
             "#bd3786"
            ],
            [
             0.5555555555555556,
             "#d8576b"
            ],
            [
             0.6666666666666666,
             "#ed7953"
            ],
            [
             0.7777777777777778,
             "#fb9f3a"
            ],
            [
             0.8888888888888888,
             "#fdca26"
            ],
            [
             1,
             "#f0f921"
            ]
           ],
           "sequentialminus": [
            [
             0,
             "#0d0887"
            ],
            [
             0.1111111111111111,
             "#46039f"
            ],
            [
             0.2222222222222222,
             "#7201a8"
            ],
            [
             0.3333333333333333,
             "#9c179e"
            ],
            [
             0.4444444444444444,
             "#bd3786"
            ],
            [
             0.5555555555555556,
             "#d8576b"
            ],
            [
             0.6666666666666666,
             "#ed7953"
            ],
            [
             0.7777777777777778,
             "#fb9f3a"
            ],
            [
             0.8888888888888888,
             "#fdca26"
            ],
            [
             1,
             "#f0f921"
            ]
           ]
          },
          "colorway": [
           "#636efa",
           "#EF553B",
           "#00cc96",
           "#ab63fa",
           "#FFA15A",
           "#19d3f3",
           "#FF6692",
           "#B6E880",
           "#FF97FF",
           "#FECB52"
          ],
          "font": {
           "color": "#2a3f5f"
          },
          "geo": {
           "bgcolor": "white",
           "lakecolor": "white",
           "landcolor": "#E5ECF6",
           "showlakes": true,
           "showland": true,
           "subunitcolor": "white"
          },
          "hoverlabel": {
           "align": "left"
          },
          "hovermode": "closest",
          "mapbox": {
           "style": "light"
          },
          "paper_bgcolor": "white",
          "plot_bgcolor": "#E5ECF6",
          "polar": {
           "angularaxis": {
            "gridcolor": "white",
            "linecolor": "white",
            "ticks": ""
           },
           "bgcolor": "#E5ECF6",
           "radialaxis": {
            "gridcolor": "white",
            "linecolor": "white",
            "ticks": ""
           }
          },
          "scene": {
           "xaxis": {
            "backgroundcolor": "#E5ECF6",
            "gridcolor": "white",
            "gridwidth": 2,
            "linecolor": "white",
            "showbackground": true,
            "ticks": "",
            "zerolinecolor": "white"
           },
           "yaxis": {
            "backgroundcolor": "#E5ECF6",
            "gridcolor": "white",
            "gridwidth": 2,
            "linecolor": "white",
            "showbackground": true,
            "ticks": "",
            "zerolinecolor": "white"
           },
           "zaxis": {
            "backgroundcolor": "#E5ECF6",
            "gridcolor": "white",
            "gridwidth": 2,
            "linecolor": "white",
            "showbackground": true,
            "ticks": "",
            "zerolinecolor": "white"
           }
          },
          "shapedefaults": {
           "line": {
            "color": "#2a3f5f"
           }
          },
          "ternary": {
           "aaxis": {
            "gridcolor": "white",
            "linecolor": "white",
            "ticks": ""
           },
           "baxis": {
            "gridcolor": "white",
            "linecolor": "white",
            "ticks": ""
           },
           "bgcolor": "#E5ECF6",
           "caxis": {
            "gridcolor": "white",
            "linecolor": "white",
            "ticks": ""
           }
          },
          "title": {
           "x": 0.05
          },
          "xaxis": {
           "automargin": true,
           "gridcolor": "white",
           "linecolor": "white",
           "ticks": "",
           "title": {
            "standoff": 15
           },
           "zerolinecolor": "white",
           "zerolinewidth": 2
          },
          "yaxis": {
           "automargin": true,
           "gridcolor": "white",
           "linecolor": "white",
           "ticks": "",
           "title": {
            "standoff": 15
           },
           "zerolinecolor": "white",
           "zerolinewidth": 2
          }
         }
        },
        "title": {
         "text": "Lasso Regression: Selected Features and Coefficients"
        },
        "xaxis": {
         "tickangle": -45,
         "title": {
          "text": "Features"
         }
        },
        "yaxis": {
         "title": {
          "text": "Absolute Coefficient Value"
         }
        }
       }
      }
     },
     "metadata": {},
     "output_type": "display_data"
    },
    {
     "name": "stdout",
     "output_type": "stream",
     "text": [
      "\n",
      " Lasso vs Other Methods Comparison:\n",
      "• Lasso vs Linear - Test MSE improvement: 2.89%\n",
      "• Lasso vs Ridge - Test MSE: 2.2848 vs 2.3494\n",
      "• Feature reduction: 55.6%\n"
     ]
    }
   ],
   "source": [
    "# 4. LASSO REGRESSION (L1 REGULARIZATION)\n",
    "print(\"\\n 4. LASSO REGRESSION (L1 REGULARIZATION)\")\n",
    "print(\"=\" * 43)\n",
    "\n",
    "# Lasso regression with cross-validation for alpha selection\n",
    "from sklearn.linear_model import LassoCV\n",
    "\n",
    "# Define alpha range for Lasso\n",
    "alphas_lasso = np.logspace(-4, 2, 50) # From 0.0001 to 100\n",
    "\n",
    "# Fit Lasso with cross-validation\n",
    "lasso_cv = LassoCV(alphas=alphas_lasso, cv=5, random_state=42, max_iter=2000)\n",
    "lasso_cv.fit(X_train_scaled, y_train)\n",
    "\n",
    "optimal_alpha_lasso = lasso_cv.alpha_\n",
    "print(f\" Optimal Lasso alpha: {optimal_alpha_lasso:.6f}\")\n",
    "\n",
    "# Fit Lasso with optimal alpha\n",
    "lasso = Lasso(alpha=optimal_alpha_lasso, random_state=42, max_iter=2000)\n",
    "lasso.fit(X_train_scaled, y_train)\n",
    "\n",
    "# Predictions\n",
    "y_train_pred_lasso = lasso.predict(X_train_scaled)\n",
    "y_test_pred_lasso = lasso.predict(X_test_scaled)\n",
    "\n",
    "# Calculate metrics\n",
    "train_mse_lasso = mean_squared_error(y_train, y_train_pred_lasso)\n",
    "test_mse_lasso = mean_squared_error(y_test, y_test_pred_lasso)\n",
    "train_r2_lasso = r2_score(y_train, y_train_pred_lasso)\n",
    "test_r2_lasso = r2_score(y_test, y_test_pred_lasso)\n",
    "\n",
    "print(\" Lasso Regression Performance:\")\n",
    "print(f\"• Training MSE: {train_mse_lasso:.4f}\")\n",
    "print(f\"• Test MSE: {test_mse_lasso:.4f}\")\n",
    "print(f\"• Training R²: {train_r2_lasso:.4f}\")\n",
    "print(f\"• Test R²: {test_r2_lasso:.4f}\")\n",
    "print(f\"• Overfitting indicator: {train_r2_lasso - test_r2_lasso:.4f}\")\n",
    "\n",
    "# Feature selection analysis\n",
    "n_selected_features = np.sum(lasso.coef_ != 0)\n",
    "n_zero_coefficients = np.sum(lasso.coef_ == 0)\n",
    "\n",
    "print(f\"\\n Lasso Feature Selection:\")\n",
    "print(f\"• Selected features: {n_selected_features}/{len(feature_cols)}\")\n",
    "print(f\"• Eliminated features: {n_zero_coefficients}/{len(feature_cols)}\")\n",
    "print(f\"• Feature selection rate: {n_zero_coefficients/len(feature_cols):.1%}\")\n",
    "\n",
    "# Analyze which features were selected\n",
    "selected_features = [feature_cols[i] for i, coef in enumerate(lasso.coef_) if coef != 0]\n",
    "eliminated_features = [feature_cols[i] for i, coef in enumerate(lasso.coef_) if coef == 0]\n",
    "\n",
    "selected_important = [f for f in selected_features if 'Important' in f]\n",
    "eliminated_important = [f for f in eliminated_features if 'Important' in f]\n",
    "selected_noise = [f for f in selected_features if 'Noise' in f]\n",
    "eliminated_noise = [f for f in eliminated_features if 'Noise' in f]\n",
    "\n",
    "print(f\"\\n Feature Selection Accuracy:\")\n",
    "print(f\"• Important features selected: {len(selected_important)}/{len([f for f in feature_cols if 'Important' in f])}\")\n",
    "print(f\"• Noise features eliminated: {len(eliminated_noise)}/{len([f for f in feature_cols if 'Noise' in f])}\")\n",
    "print(f\"• Important features incorrectly eliminated: {len(eliminated_important)}\")\n",
    "print(f\"• Noise features incorrectly selected: {len(selected_noise)}\")\n",
    "\n",
    "# Lasso regularization path\n",
    "alphas_lasso_path = np.logspace(-4, 2, 100)\n",
    "lasso_coefficients = []\n",
    "lasso_scores = []\n",
    "n_features_selected = []\n",
    "\n",
    "for alpha in alphas_lasso_path:\n",
    " lasso_temp = Lasso(alpha=alpha, random_state=42, max_iter=2000)\n",
    " lasso_temp.fit(X_train_scaled, y_train)\n",
    " lasso_coefficients.append(lasso_temp.coef_)\n",
    " lasso_scores.append(lasso_temp.score(X_test_scaled, y_test))\n",
    " n_features_selected.append(np.sum(lasso_temp.coef_ != 0))\n",
    "\n",
    "lasso_coefficients = np.array(lasso_coefficients)\n",
    "\n",
    "# Plot Lasso regularization path\n",
    "fig_lasso_path = go.Figure()\n",
    "\n",
    "# Plot coefficient paths for important features\n",
    "for idx in important_indices[:10]:\n",
    " fig_lasso_path.add_trace(\n",
    " go.Scatter(\n",
    " x=alphas_lasso_path,\n",
    " y=lasso_coefficients[:, idx],\n",
    " mode='lines',\n",
    " name=feature_cols[idx],\n",
    " line=dict(width=2),\n",
    " hovertemplate=f\"<b>{feature_cols[idx]}</b><br>Alpha: %{{x:.6f}}<br>Coefficient: %{{y:.3f}}<extra></extra>\"\n",
    " )\n",
    " )\n",
    "\n",
    "fig_lasso_path.update_layout(\n",
    " title=\"Lasso Regression: Regularization Path (Important Features)\",\n",
    " xaxis_title=\"Alpha (log scale)\",\n",
    " yaxis_title=\"Coefficient Value\",\n",
    " xaxis_type=\"log\",\n",
    " height=500,\n",
    " showlegend=True\n",
    ")\n",
    "fig_lasso_path.show()\n",
    "\n",
    "# Plot alpha vs number of features and performance\n",
    "fig_lasso_analysis = make_subplots(\n",
    " rows=1, cols=2,\n",
    " subplot_titles=(\"Alpha vs Performance\", \"Alpha vs Feature Count\")\n",
    ")\n",
    "\n",
    "# Performance vs alpha\n",
    "fig_lasso_analysis.add_trace(\n",
    " go.Scatter(\n",
    " x=alphas_lasso_path,\n",
    " y=lasso_scores,\n",
    " mode='lines',\n",
    " name='Test R² Score',\n",
    " line=dict(color='blue', width=3),\n",
    " hovertemplate=\"Alpha: %{x:.6f}<br>R² Score: %{y:.4f}<extra></extra>\"\n",
    " ),\n",
    " row=1, col=1\n",
    ")\n",
    "\n",
    "# Mark optimal alpha\n",
    "fig_lasso_analysis.add_vline(\n",
    " x=optimal_alpha_lasso,\n",
    " line_dash=\"dash\",\n",
    " line_color=\"red\",\n",
    " annotation_text=f\"Optimal α = {optimal_alpha_lasso:.6f}\",\n",
    " row=1, col=1\n",
    ")\n",
    "\n",
    "# Feature count vs alpha\n",
    "fig_lasso_analysis.add_trace(\n",
    " go.Scatter(\n",
    " x=alphas_lasso_path,\n",
    " y=n_features_selected,\n",
    " mode='lines',\n",
    " name='Selected Features',\n",
    " line=dict(color='green', width=3),\n",
    " hovertemplate=\"Alpha: %{x:.6f}<br>Features: %{y}<extra></extra>\"\n",
    " ),\n",
    " row=1, col=2\n",
    ")\n",
    "\n",
    "fig_lasso_analysis.add_vline(\n",
    " x=optimal_alpha_lasso,\n",
    " line_dash=\"dash\",\n",
    " line_color=\"red\",\n",
    " row=1, col=2\n",
    ")\n",
    "\n",
    "fig_lasso_analysis.update_layout(\n",
    " title=\"Lasso Regression: Alpha Analysis\",\n",
    " height=500\n",
    ")\n",
    "fig_lasso_analysis.update_xaxes(title_text=\"Alpha (log scale)\", type=\"log\")\n",
    "fig_lasso_analysis.update_yaxes(title_text=\"Test R² Score\", row=1, col=1)\n",
    "fig_lasso_analysis.update_yaxes(title_text=\"Number of Selected Features\", row=1, col=2)\n",
    "\n",
    "fig_lasso_analysis.show()\n",
    "\n",
    "# Feature selection visualization\n",
    "lasso_coefficients_df = pd.DataFrame({\n",
    " 'feature': feature_cols,\n",
    " 'lasso_coef': lasso.coef_,\n",
    " 'abs_lasso': np.abs(lasso.coef_),\n",
    " 'selected': lasso.coef_ != 0,\n",
    " 'feature_type': ['Important' if 'Important' in f else 'Noise' for f in feature_cols]\n",
    "})\n",
    "\n",
    "# Sort by absolute coefficient value\n",
    "lasso_coefficients_df = lasso_coefficients_df.sort_values('abs_lasso', ascending=False)\n",
    "\n",
    "# Plot selected features\n",
    "selected_df = lasso_coefficients_df[lasso_coefficients_df['selected']].head(20)\n",
    "\n",
    "fig_selected = go.Figure()\n",
    "\n",
    "colors_selected = ['red' if ft == 'Important' else 'lightblue' for ft in selected_df['feature_type']]\n",
    "\n",
    "fig_selected.add_trace(\n",
    " go.Bar(\n",
    " x=selected_df['feature'],\n",
    " y=selected_df['abs_lasso'],\n",
    " marker_color=colors_selected,\n",
    " name='Selected Features',\n",
    " hovertemplate=\"<b>%{x}</b><br>|Coefficient|: %{y:.3f}<extra></extra>\"\n",
    " )\n",
    ")\n",
    "\n",
    "fig_selected.update_layout(\n",
    " title=\"Lasso Regression: Selected Features and Coefficients\",\n",
    " xaxis_title=\"Features\",\n",
    " yaxis_title=\"Absolute Coefficient Value\",\n",
    " height=500,\n",
    " xaxis_tickangle=-45\n",
    ")\n",
    "fig_selected.show()\n",
    "\n",
    "print(f\"\\n Lasso vs Other Methods Comparison:\")\n",
    "print(f\"• Lasso vs Linear - Test MSE improvement: {((test_mse_lr - test_mse_lasso) / test_mse_lr * 100):.2f}%\")\n",
    "print(f\"• Lasso vs Ridge - Test MSE: {test_mse_lasso:.4f} vs {test_mse_ridge:.4f}\")\n",
    "print(f\"• Feature reduction: {(1 - n_selected_features/len(feature_cols)):.1%}\")"
   ]
  },
  {
   "cell_type": "code",
   "execution_count": 8,
   "id": "481b31f5",
   "metadata": {},
   "outputs": [
    {
     "name": "stdout",
     "output_type": "stream",
     "text": [
      "\n",
      " 5. ELASTIC NET REGRESSION (L1 + L2 REGULARIZATION)\n",
      "====================================================\n",
      " Optimal Elastic Net parameters:\n",
      "• Alpha: 0.037276\n",
      "• L1 ratio: 0.900\n",
      "• Effective L1 penalty: 0.033548\n",
      "• Effective L2 penalty: 0.003728\n",
      " Elastic Net Performance:\n",
      "• Training MSE: 2.4344\n",
      "• Test MSE: 2.2859\n",
      "• Training R²: 0.9906\n",
      "• Test R²: 0.9906\n",
      "• Overfitting indicator: 0.0001\n",
      "\n",
      " Elastic Net Feature Selection:\n",
      "• Selected features: 38/54\n",
      "• Feature selection rate: 29.6%\n",
      "\n",
      " MODEL COMPARISON SUMMARY:\n",
      "========================================\n",
      "              Method  Train_MSE  Test_MSE  Train_R2  Test_R2  Overfitting  \\\n",
      "0  Linear Regression     2.3493    2.3528    0.9909   0.9903       0.0007   \n",
      "1              Ridge     2.3495    2.3494    0.9909   0.9903       0.0006   \n",
      "2              Lasso     2.4887    2.2848    0.9904   0.9906      -0.0002   \n",
      "3        Elastic Net     2.4344    2.2859    0.9906   0.9906       0.0001   \n",
      "\n",
      "   Features_Used  \n",
      "0             54  \n",
      "1             54  \n",
      "2             24  \n",
      "3             38  \n"
     ]
    },
    {
     "data": {
      "application/vnd.plotly.v1+json": {
       "config": {
        "plotlyServerURL": "https://plot.ly"
       },
       "data": [
        {
         "marker": {
          "color": [
           "blue",
           "green",
           "red",
           "purple"
          ]
         },
         "name": "Test R²",
         "text": {
          "bdata": "rkfhehSu7z+uR+F6FK7vP4PAyqFFtu8/g8DKoUW27z8=",
          "dtype": "f8"
         },
         "textposition": "auto",
         "type": "bar",
         "x": [
          "Linear Regression",
          "Ridge",
          "Lasso",
          "Elastic Net"
         ],
         "xaxis": "x",
         "y": {
          "bdata": "/wJBjmGw7z9disxPf7DvP11a3FSusu8/s068I6Wy7z8=",
          "dtype": "f8"
         },
         "yaxis": "y"
        },
        {
         "marker": {
          "color": [
           "blue",
           "green",
           "red",
           "purple"
          ]
         },
         "name": "Overfitting",
         "text": {
          "bdata": "/Knx0k1iUD/8qfHSTWJQPwAAAAAAAACAAAAAAAAAAAA=",
          "dtype": "f8"
         },
         "textposition": "auto",
         "type": "bar",
         "x": [
          "Linear Regression",
          "Ridge",
          "Lasso",
          "Elastic Net"
         ],
         "xaxis": "x2",
         "y": {
          "bdata": "APylriJ5RT8A/BjxdPxEPwAAt8cvZyW/AIDp3ACVCj8=",
          "dtype": "f8"
         },
         "yaxis": "y2"
        },
        {
         "marker": {
          "color": [
           "blue",
           "green",
           "red",
           "purple"
          ]
         },
         "name": "Features Used",
         "text": {
          "bdata": "AAAAAAAAS0AAAAAAAABLQAAAAAAAADhAAAAAAAAAQ0A=",
          "dtype": "f8"
         },
         "textposition": "auto",
         "type": "bar",
         "x": [
          "Linear Regression",
          "Ridge",
          "Lasso",
          "Elastic Net"
         ],
         "xaxis": "x3",
         "y": {
          "bdata": "NjYYJg==",
          "dtype": "i1"
         },
         "yaxis": "y3"
        },
        {
         "hovertemplate": "<b>%{text}</b><br>Train R²: %{x:.3f}<br>Test R²: %{y:.3f}<extra></extra>",
         "marker": {
          "color": [
           "blue",
           "green",
           "red",
           "purple"
          ],
          "size": 12
         },
         "mode": "markers+text",
         "name": "Methods",
         "text": [
          "Linear Regression",
          "Ridge",
          "Lasso",
          "Elastic Net"
         ],
         "textposition": "top center",
         "type": "scatter",
         "x": {
          "bdata": "fqzs1r+17z+c0AhtvrXvP+3e3+FXse8/WcK/dw+z7z8=",
          "dtype": "f8"
         },
         "xaxis": "x4",
         "y": {
          "bdata": "/wJBjmGw7z9disxPf7DvP11a3FSusu8/s068I6Wy7z8=",
          "dtype": "f8"
         },
         "yaxis": "y4"
        },
        {
         "line": {
          "color": "black",
          "dash": "dash"
         },
         "mode": "lines",
         "name": "Perfect Generalization",
         "showlegend": false,
         "type": "scatter",
         "x": [
          0,
          1
         ],
         "xaxis": "x4",
         "y": [
          0,
          1
         ],
         "yaxis": "y4"
        }
       ],
       "layout": {
        "annotations": [
         {
          "font": {
           "size": 16
          },
          "showarrow": false,
          "text": "Test Performance",
          "x": 0.225,
          "xanchor": "center",
          "xref": "paper",
          "y": 1,
          "yanchor": "bottom",
          "yref": "paper"
         },
         {
          "font": {
           "size": 16
          },
          "showarrow": false,
          "text": "Overfitting Analysis",
          "x": 0.775,
          "xanchor": "center",
          "xref": "paper",
          "y": 1,
          "yanchor": "bottom",
          "yref": "paper"
         },
         {
          "font": {
           "size": 16
          },
          "showarrow": false,
          "text": "Feature Usage",
          "x": 0.225,
          "xanchor": "center",
          "xref": "paper",
          "y": 0.375,
          "yanchor": "bottom",
          "yref": "paper"
         },
         {
          "font": {
           "size": 16
          },
          "showarrow": false,
          "text": "Train vs Test R²",
          "x": 0.775,
          "xanchor": "center",
          "xref": "paper",
          "y": 0.375,
          "yanchor": "bottom",
          "yref": "paper"
         }
        ],
        "height": 700,
        "showlegend": false,
        "template": {
         "data": {
          "bar": [
           {
            "error_x": {
             "color": "#2a3f5f"
            },
            "error_y": {
             "color": "#2a3f5f"
            },
            "marker": {
             "line": {
              "color": "#E5ECF6",
              "width": 0.5
             },
             "pattern": {
              "fillmode": "overlay",
              "size": 10,
              "solidity": 0.2
             }
            },
            "type": "bar"
           }
          ],
          "barpolar": [
           {
            "marker": {
             "line": {
              "color": "#E5ECF6",
              "width": 0.5
             },
             "pattern": {
              "fillmode": "overlay",
              "size": 10,
              "solidity": 0.2
             }
            },
            "type": "barpolar"
           }
          ],
          "carpet": [
           {
            "aaxis": {
             "endlinecolor": "#2a3f5f",
             "gridcolor": "white",
             "linecolor": "white",
             "minorgridcolor": "white",
             "startlinecolor": "#2a3f5f"
            },
            "baxis": {
             "endlinecolor": "#2a3f5f",
             "gridcolor": "white",
             "linecolor": "white",
             "minorgridcolor": "white",
             "startlinecolor": "#2a3f5f"
            },
            "type": "carpet"
           }
          ],
          "choropleth": [
           {
            "colorbar": {
             "outlinewidth": 0,
             "ticks": ""
            },
            "type": "choropleth"
           }
          ],
          "contour": [
           {
            "colorbar": {
             "outlinewidth": 0,
             "ticks": ""
            },
            "colorscale": [
             [
              0,
              "#0d0887"
             ],
             [
              0.1111111111111111,
              "#46039f"
             ],
             [
              0.2222222222222222,
              "#7201a8"
             ],
             [
              0.3333333333333333,
              "#9c179e"
             ],
             [
              0.4444444444444444,
              "#bd3786"
             ],
             [
              0.5555555555555556,
              "#d8576b"
             ],
             [
              0.6666666666666666,
              "#ed7953"
             ],
             [
              0.7777777777777778,
              "#fb9f3a"
             ],
             [
              0.8888888888888888,
              "#fdca26"
             ],
             [
              1,
              "#f0f921"
             ]
            ],
            "type": "contour"
           }
          ],
          "contourcarpet": [
           {
            "colorbar": {
             "outlinewidth": 0,
             "ticks": ""
            },
            "type": "contourcarpet"
           }
          ],
          "heatmap": [
           {
            "colorbar": {
             "outlinewidth": 0,
             "ticks": ""
            },
            "colorscale": [
             [
              0,
              "#0d0887"
             ],
             [
              0.1111111111111111,
              "#46039f"
             ],
             [
              0.2222222222222222,
              "#7201a8"
             ],
             [
              0.3333333333333333,
              "#9c179e"
             ],
             [
              0.4444444444444444,
              "#bd3786"
             ],
             [
              0.5555555555555556,
              "#d8576b"
             ],
             [
              0.6666666666666666,
              "#ed7953"
             ],
             [
              0.7777777777777778,
              "#fb9f3a"
             ],
             [
              0.8888888888888888,
              "#fdca26"
             ],
             [
              1,
              "#f0f921"
             ]
            ],
            "type": "heatmap"
           }
          ],
          "histogram": [
           {
            "marker": {
             "pattern": {
              "fillmode": "overlay",
              "size": 10,
              "solidity": 0.2
             }
            },
            "type": "histogram"
           }
          ],
          "histogram2d": [
           {
            "colorbar": {
             "outlinewidth": 0,
             "ticks": ""
            },
            "colorscale": [
             [
              0,
              "#0d0887"
             ],
             [
              0.1111111111111111,
              "#46039f"
             ],
             [
              0.2222222222222222,
              "#7201a8"
             ],
             [
              0.3333333333333333,
              "#9c179e"
             ],
             [
              0.4444444444444444,
              "#bd3786"
             ],
             [
              0.5555555555555556,
              "#d8576b"
             ],
             [
              0.6666666666666666,
              "#ed7953"
             ],
             [
              0.7777777777777778,
              "#fb9f3a"
             ],
             [
              0.8888888888888888,
              "#fdca26"
             ],
             [
              1,
              "#f0f921"
             ]
            ],
            "type": "histogram2d"
           }
          ],
          "histogram2dcontour": [
           {
            "colorbar": {
             "outlinewidth": 0,
             "ticks": ""
            },
            "colorscale": [
             [
              0,
              "#0d0887"
             ],
             [
              0.1111111111111111,
              "#46039f"
             ],
             [
              0.2222222222222222,
              "#7201a8"
             ],
             [
              0.3333333333333333,
              "#9c179e"
             ],
             [
              0.4444444444444444,
              "#bd3786"
             ],
             [
              0.5555555555555556,
              "#d8576b"
             ],
             [
              0.6666666666666666,
              "#ed7953"
             ],
             [
              0.7777777777777778,
              "#fb9f3a"
             ],
             [
              0.8888888888888888,
              "#fdca26"
             ],
             [
              1,
              "#f0f921"
             ]
            ],
            "type": "histogram2dcontour"
           }
          ],
          "mesh3d": [
           {
            "colorbar": {
             "outlinewidth": 0,
             "ticks": ""
            },
            "type": "mesh3d"
           }
          ],
          "parcoords": [
           {
            "line": {
             "colorbar": {
              "outlinewidth": 0,
              "ticks": ""
             }
            },
            "type": "parcoords"
           }
          ],
          "pie": [
           {
            "automargin": true,
            "type": "pie"
           }
          ],
          "scatter": [
           {
            "fillpattern": {
             "fillmode": "overlay",
             "size": 10,
             "solidity": 0.2
            },
            "type": "scatter"
           }
          ],
          "scatter3d": [
           {
            "line": {
             "colorbar": {
              "outlinewidth": 0,
              "ticks": ""
             }
            },
            "marker": {
             "colorbar": {
              "outlinewidth": 0,
              "ticks": ""
             }
            },
            "type": "scatter3d"
           }
          ],
          "scattercarpet": [
           {
            "marker": {
             "colorbar": {
              "outlinewidth": 0,
              "ticks": ""
             }
            },
            "type": "scattercarpet"
           }
          ],
          "scattergeo": [
           {
            "marker": {
             "colorbar": {
              "outlinewidth": 0,
              "ticks": ""
             }
            },
            "type": "scattergeo"
           }
          ],
          "scattergl": [
           {
            "marker": {
             "colorbar": {
              "outlinewidth": 0,
              "ticks": ""
             }
            },
            "type": "scattergl"
           }
          ],
          "scattermap": [
           {
            "marker": {
             "colorbar": {
              "outlinewidth": 0,
              "ticks": ""
             }
            },
            "type": "scattermap"
           }
          ],
          "scattermapbox": [
           {
            "marker": {
             "colorbar": {
              "outlinewidth": 0,
              "ticks": ""
             }
            },
            "type": "scattermapbox"
           }
          ],
          "scatterpolar": [
           {
            "marker": {
             "colorbar": {
              "outlinewidth": 0,
              "ticks": ""
             }
            },
            "type": "scatterpolar"
           }
          ],
          "scatterpolargl": [
           {
            "marker": {
             "colorbar": {
              "outlinewidth": 0,
              "ticks": ""
             }
            },
            "type": "scatterpolargl"
           }
          ],
          "scatterternary": [
           {
            "marker": {
             "colorbar": {
              "outlinewidth": 0,
              "ticks": ""
             }
            },
            "type": "scatterternary"
           }
          ],
          "surface": [
           {
            "colorbar": {
             "outlinewidth": 0,
             "ticks": ""
            },
            "colorscale": [
             [
              0,
              "#0d0887"
             ],
             [
              0.1111111111111111,
              "#46039f"
             ],
             [
              0.2222222222222222,
              "#7201a8"
             ],
             [
              0.3333333333333333,
              "#9c179e"
             ],
             [
              0.4444444444444444,
              "#bd3786"
             ],
             [
              0.5555555555555556,
              "#d8576b"
             ],
             [
              0.6666666666666666,
              "#ed7953"
             ],
             [
              0.7777777777777778,
              "#fb9f3a"
             ],
             [
              0.8888888888888888,
              "#fdca26"
             ],
             [
              1,
              "#f0f921"
             ]
            ],
            "type": "surface"
           }
          ],
          "table": [
           {
            "cells": {
             "fill": {
              "color": "#EBF0F8"
             },
             "line": {
              "color": "white"
             }
            },
            "header": {
             "fill": {
              "color": "#C8D4E3"
             },
             "line": {
              "color": "white"
             }
            },
            "type": "table"
           }
          ]
         },
         "layout": {
          "annotationdefaults": {
           "arrowcolor": "#2a3f5f",
           "arrowhead": 0,
           "arrowwidth": 1
          },
          "autotypenumbers": "strict",
          "coloraxis": {
           "colorbar": {
            "outlinewidth": 0,
            "ticks": ""
           }
          },
          "colorscale": {
           "diverging": [
            [
             0,
             "#8e0152"
            ],
            [
             0.1,
             "#c51b7d"
            ],
            [
             0.2,
             "#de77ae"
            ],
            [
             0.3,
             "#f1b6da"
            ],
            [
             0.4,
             "#fde0ef"
            ],
            [
             0.5,
             "#f7f7f7"
            ],
            [
             0.6,
             "#e6f5d0"
            ],
            [
             0.7,
             "#b8e186"
            ],
            [
             0.8,
             "#7fbc41"
            ],
            [
             0.9,
             "#4d9221"
            ],
            [
             1,
             "#276419"
            ]
           ],
           "sequential": [
            [
             0,
             "#0d0887"
            ],
            [
             0.1111111111111111,
             "#46039f"
            ],
            [
             0.2222222222222222,
             "#7201a8"
            ],
            [
             0.3333333333333333,
             "#9c179e"
            ],
            [
             0.4444444444444444,
             "#bd3786"
            ],
            [
             0.5555555555555556,
             "#d8576b"
            ],
            [
             0.6666666666666666,
             "#ed7953"
            ],
            [
             0.7777777777777778,
             "#fb9f3a"
            ],
            [
             0.8888888888888888,
             "#fdca26"
            ],
            [
             1,
             "#f0f921"
            ]
           ],
           "sequentialminus": [
            [
             0,
             "#0d0887"
            ],
            [
             0.1111111111111111,
             "#46039f"
            ],
            [
             0.2222222222222222,
             "#7201a8"
            ],
            [
             0.3333333333333333,
             "#9c179e"
            ],
            [
             0.4444444444444444,
             "#bd3786"
            ],
            [
             0.5555555555555556,
             "#d8576b"
            ],
            [
             0.6666666666666666,
             "#ed7953"
            ],
            [
             0.7777777777777778,
             "#fb9f3a"
            ],
            [
             0.8888888888888888,
             "#fdca26"
            ],
            [
             1,
             "#f0f921"
            ]
           ]
          },
          "colorway": [
           "#636efa",
           "#EF553B",
           "#00cc96",
           "#ab63fa",
           "#FFA15A",
           "#19d3f3",
           "#FF6692",
           "#B6E880",
           "#FF97FF",
           "#FECB52"
          ],
          "font": {
           "color": "#2a3f5f"
          },
          "geo": {
           "bgcolor": "white",
           "lakecolor": "white",
           "landcolor": "#E5ECF6",
           "showlakes": true,
           "showland": true,
           "subunitcolor": "white"
          },
          "hoverlabel": {
           "align": "left"
          },
          "hovermode": "closest",
          "mapbox": {
           "style": "light"
          },
          "paper_bgcolor": "white",
          "plot_bgcolor": "#E5ECF6",
          "polar": {
           "angularaxis": {
            "gridcolor": "white",
            "linecolor": "white",
            "ticks": ""
           },
           "bgcolor": "#E5ECF6",
           "radialaxis": {
            "gridcolor": "white",
            "linecolor": "white",
            "ticks": ""
           }
          },
          "scene": {
           "xaxis": {
            "backgroundcolor": "#E5ECF6",
            "gridcolor": "white",
            "gridwidth": 2,
            "linecolor": "white",
            "showbackground": true,
            "ticks": "",
            "zerolinecolor": "white"
           },
           "yaxis": {
            "backgroundcolor": "#E5ECF6",
            "gridcolor": "white",
            "gridwidth": 2,
            "linecolor": "white",
            "showbackground": true,
            "ticks": "",
            "zerolinecolor": "white"
           },
           "zaxis": {
            "backgroundcolor": "#E5ECF6",
            "gridcolor": "white",
            "gridwidth": 2,
            "linecolor": "white",
            "showbackground": true,
            "ticks": "",
            "zerolinecolor": "white"
           }
          },
          "shapedefaults": {
           "line": {
            "color": "#2a3f5f"
           }
          },
          "ternary": {
           "aaxis": {
            "gridcolor": "white",
            "linecolor": "white",
            "ticks": ""
           },
           "baxis": {
            "gridcolor": "white",
            "linecolor": "white",
            "ticks": ""
           },
           "bgcolor": "#E5ECF6",
           "caxis": {
            "gridcolor": "white",
            "linecolor": "white",
            "ticks": ""
           }
          },
          "title": {
           "x": 0.05
          },
          "xaxis": {
           "automargin": true,
           "gridcolor": "white",
           "linecolor": "white",
           "ticks": "",
           "title": {
            "standoff": 15
           },
           "zerolinecolor": "white",
           "zerolinewidth": 2
          },
          "yaxis": {
           "automargin": true,
           "gridcolor": "white",
           "linecolor": "white",
           "ticks": "",
           "title": {
            "standoff": 15
           },
           "zerolinecolor": "white",
           "zerolinewidth": 2
          }
         }
        },
        "title": {
         "text": "Regularization Methods: Comprehensive Comparison"
        },
        "xaxis": {
         "anchor": "y",
         "domain": [
          0,
          0.45
         ]
        },
        "xaxis2": {
         "anchor": "y2",
         "domain": [
          0.55,
          1
         ]
        },
        "xaxis3": {
         "anchor": "y3",
         "domain": [
          0,
          0.45
         ]
        },
        "xaxis4": {
         "anchor": "y4",
         "domain": [
          0.55,
          1
         ]
        },
        "yaxis": {
         "anchor": "x",
         "domain": [
          0.625,
          1
         ]
        },
        "yaxis2": {
         "anchor": "x2",
         "domain": [
          0.625,
          1
         ]
        },
        "yaxis3": {
         "anchor": "x3",
         "domain": [
          0,
          0.375
         ]
        },
        "yaxis4": {
         "anchor": "x4",
         "domain": [
          0,
          0.375
         ]
        }
       }
      }
     },
     "metadata": {},
     "output_type": "display_data"
    },
    {
     "name": "stdout",
     "output_type": "stream",
     "text": [
      "\n",
      " RECOMMENDATION:\n",
      "• Best performing method: Lasso\n",
      "• Test R²: 0.9906\n",
      "• Overfitting level: -0.0002\n",
      "• Features eliminated: 30\n",
      "• Advantage: Automatic feature selection\n"
     ]
    }
   ],
   "source": [
    "# 5. ELASTIC NET REGRESSION (L1 + L2 REGULARIZATION)\n",
    "print(\"\\n 5. ELASTIC NET REGRESSION (L1 + L2 REGULARIZATION)\")\n",
    "print(\"=\" * 52)\n",
    "\n",
    "# Elastic Net with cross-validation\n",
    "from sklearn.linear_model import ElasticNetCV\n",
    "\n",
    "# Define parameter ranges\n",
    "l1_ratios = [0.1, 0.3, 0.5, 0.7, 0.9] # Mix of L1 and L2\n",
    "alphas_elasticnet = np.logspace(-4, 2, 50)\n",
    "\n",
    "# Fit Elastic Net with cross-validation\n",
    "elasticnet_cv = ElasticNetCV(\n",
    " l1_ratio=l1_ratios,\n",
    " alphas=alphas_elasticnet,\n",
    " cv=5,\n",
    " random_state=42,\n",
    " max_iter=2000\n",
    ")\n",
    "elasticnet_cv.fit(X_train_scaled, y_train)\n",
    "\n",
    "optimal_alpha_en = elasticnet_cv.alpha_\n",
    "optimal_l1_ratio_en = elasticnet_cv.l1_ratio_\n",
    "\n",
    "print(f\" Optimal Elastic Net parameters:\")\n",
    "print(f\"• Alpha: {optimal_alpha_en:.6f}\")\n",
    "print(f\"• L1 ratio: {optimal_l1_ratio_en:.3f}\")\n",
    "print(f\"• Effective L1 penalty: {optimal_alpha_en * optimal_l1_ratio_en:.6f}\")\n",
    "print(f\"• Effective L2 penalty: {optimal_alpha_en * (1 - optimal_l1_ratio_en):.6f}\")\n",
    "\n",
    "# Fit Elastic Net with optimal parameters\n",
    "elasticnet = ElasticNet(\n",
    " alpha=optimal_alpha_en,\n",
    " l1_ratio=optimal_l1_ratio_en,\n",
    " random_state=42,\n",
    " max_iter=2000\n",
    ")\n",
    "elasticnet.fit(X_train_scaled, y_train)\n",
    "\n",
    "# Predictions\n",
    "y_train_pred_en = elasticnet.predict(X_train_scaled)\n",
    "y_test_pred_en = elasticnet.predict(X_test_scaled)\n",
    "\n",
    "# Calculate metrics\n",
    "train_mse_en = mean_squared_error(y_train, y_train_pred_en)\n",
    "test_mse_en = mean_squared_error(y_test, y_test_pred_en)\n",
    "train_r2_en = r2_score(y_train, y_train_pred_en)\n",
    "test_r2_en = r2_score(y_test, y_test_pred_en)\n",
    "\n",
    "print(\" Elastic Net Performance:\")\n",
    "print(f\"• Training MSE: {train_mse_en:.4f}\")\n",
    "print(f\"• Test MSE: {test_mse_en:.4f}\")\n",
    "print(f\"• Training R²: {train_r2_en:.4f}\")\n",
    "print(f\"• Test R²: {test_r2_en:.4f}\")\n",
    "print(f\"• Overfitting indicator: {train_r2_en - test_r2_en:.4f}\")\n",
    "\n",
    "# Feature selection analysis\n",
    "n_selected_en = np.sum(elasticnet.coef_ != 0)\n",
    "print(f\"\\n Elastic Net Feature Selection:\")\n",
    "print(f\"• Selected features: {n_selected_en}/{len(feature_cols)}\")\n",
    "print(f\"• Feature selection rate: {(1 - n_selected_en/len(feature_cols)):.1%}\")\n",
    "\n",
    "# Compare all methods\n",
    "comparison_df = pd.DataFrame({\n",
    " 'Method': ['Linear Regression', 'Ridge', 'Lasso', 'Elastic Net'],\n",
    " 'Train_MSE': [train_mse_lr, train_mse_ridge, train_mse_lasso, train_mse_en],\n",
    " 'Test_MSE': [test_mse_lr, test_mse_ridge, test_mse_lasso, test_mse_en],\n",
    " 'Train_R2': [train_r2_lr, train_r2_ridge, train_r2_lasso, train_r2_en],\n",
    " 'Test_R2': [test_r2_lr, test_r2_ridge, test_r2_lasso, test_r2_en],\n",
    " 'Overfitting': [train_r2_lr - test_r2_lr, train_r2_ridge - test_r2_ridge,\n",
    " train_r2_lasso - test_r2_lasso, train_r2_en - test_r2_en],\n",
    " 'Features_Used': [len(feature_cols), len(feature_cols), n_selected_features, n_selected_en]\n",
    "})\n",
    "\n",
    "print(f\"\\n MODEL COMPARISON SUMMARY:\")\n",
    "print(\"=\" * 40)\n",
    "print(comparison_df.round(4))\n",
    "\n",
    "# Visualize model comparison\n",
    "fig_comparison = make_subplots(\n",
    " rows=2, cols=2,\n",
    " subplot_titles=(\"Test Performance\", \"Overfitting Analysis\",\n",
    " \"Feature Usage\", \"Train vs Test R²\")\n",
    ")\n",
    "\n",
    "# Test performance\n",
    "fig_comparison.add_trace(\n",
    " go.Bar(\n",
    " x=comparison_df['Method'],\n",
    " y=comparison_df['Test_R2'],\n",
    " name='Test R²',\n",
    " marker_color=['blue', 'green', 'red', 'purple'],\n",
    " text=comparison_df['Test_R2'].round(3),\n",
    " textposition='auto'\n",
    " ),\n",
    " row=1, col=1\n",
    ")\n",
    "\n",
    "# Overfitting\n",
    "fig_comparison.add_trace(\n",
    " go.Bar(\n",
    " x=comparison_df['Method'],\n",
    " y=comparison_df['Overfitting'],\n",
    " name='Overfitting',\n",
    " marker_color=['blue', 'green', 'red', 'purple'],\n",
    " text=comparison_df['Overfitting'].round(3),\n",
    " textposition='auto'\n",
    " ),\n",
    " row=1, col=2\n",
    ")\n",
    "\n",
    "# Feature usage\n",
    "fig_comparison.add_trace(\n",
    " go.Bar(\n",
    " x=comparison_df['Method'],\n",
    " y=comparison_df['Features_Used'],\n",
    " name='Features Used',\n",
    " marker_color=['blue', 'green', 'red', 'purple'],\n",
    " text=comparison_df['Features_Used'],\n",
    " textposition='auto'\n",
    " ),\n",
    " row=2, col=1\n",
    ")\n",
    "\n",
    "# Train vs Test R²\n",
    "fig_comparison.add_trace(\n",
    " go.Scatter(\n",
    " x=comparison_df['Train_R2'],\n",
    " y=comparison_df['Test_R2'],\n",
    " mode='markers+text',\n",
    " text=comparison_df['Method'],\n",
    " textposition=\"top center\",\n",
    " marker=dict(size=12, color=['blue', 'green', 'red', 'purple']),\n",
    " name='Methods',\n",
    " hovertemplate=\"<b>%{text}</b><br>Train R²: %{x:.3f}<br>Test R²: %{y:.3f}<extra></extra>\"\n",
    " ),\n",
    " row=2, col=2\n",
    ")\n",
    "\n",
    "# Add diagonal line for perfect generalization\n",
    "fig_comparison.add_trace(\n",
    " go.Scatter(\n",
    " x=[0, 1],\n",
    " y=[0, 1],\n",
    " mode='lines',\n",
    " line=dict(color='black', dash='dash'),\n",
    " name='Perfect Generalization',\n",
    " showlegend=False\n",
    " ),\n",
    " row=2, col=2\n",
    ")\n",
    "\n",
    "fig_comparison.update_layout(\n",
    " title=\"Regularization Methods: Comprehensive Comparison\",\n",
    " height=700,\n",
    " showlegend=False\n",
    ")\n",
    "\n",
    "fig_comparison.show()\n",
    "\n",
    "# Best method recommendation\n",
    "best_method_idx = comparison_df['Test_R2'].idxmax()\n",
    "best_method = comparison_df.loc[best_method_idx, 'Method']\n",
    "best_r2 = comparison_df.loc[best_method_idx, 'Test_R2']\n",
    "best_overfitting = comparison_df.loc[best_method_idx, 'Overfitting']\n",
    "\n",
    "print(f\"\\n RECOMMENDATION:\")\n",
    "print(f\"• Best performing method: {best_method}\")\n",
    "print(f\"• Test R²: {best_r2:.4f}\")\n",
    "print(f\"• Overfitting level: {best_overfitting:.4f}\")\n",
    "\n",
    "# Additional analysis\n",
    "if best_method == 'Lasso':\n",
    " print(f\"• Features eliminated: {len(feature_cols) - n_selected_features}\")\n",
    " print(\"• Advantage: Automatic feature selection\")\n",
    "elif best_method == 'Ridge':\n",
    " print(\"• Advantage: Handles multicollinearity well\")\n",
    " print(\"• All features retained with shrinkage\")\n",
    "elif best_method == 'Elastic Net':\n",
    " print(f\"• Features eliminated: {len(feature_cols) - n_selected_en}\")\n",
    " print(\"• Advantage: Balanced L1/L2 regularization\")"
   ]
  },
  {
   "cell_type": "code",
   "execution_count": 9,
   "id": "6c10fc4b",
   "metadata": {},
   "outputs": [
    {
     "name": "stdout",
     "output_type": "stream",
     "text": [
      "\n",
      " 6. ADVANCED CROSS-VALIDATION AND HYPERPARAMETER TUNING\n",
      "============================================================\n",
      "6.1 Validation Curves Analysis:\n"
     ]
    },
    {
     "data": {
      "application/vnd.plotly.v1+json": {
       "config": {
        "plotlyServerURL": "https://plot.ly"
       },
       "data": [
        {
         "hovertemplate": "Alpha: %{x:.6f}<br>R²: %{y:.3f}<extra></extra>",
         "line": {
          "color": "blue"
         },
         "mode": "lines",
         "name": "Training",
         "type": "scatter",
         "x": {
          "bdata": "LUMc6+I2Gj8AbSfwkEcxP1G/eCmzx0Y/DilDDRQIXj9YoxjVsctzP+EsLe/eGIo/Rasz8cczoT8mplfZna22Pw6IHS6x5c0/m4S6Tge14z8jI21R/fr5P1w4r5kVIBFAMW3BZqaTJkDlFkiudcM9QIC8RLx2nlNA5jOC6j3daUCjtanPeQyBQGrpg6/MeZZA//2tYGGhrUAAAAAAAIjDQA==",
          "dtype": "f8"
         },
         "xaxis": "x",
         "y": {
          "bdata": "IykNEzW37z9l5QwTNbfvP4IOCxM1t+8/mkX+EjW37z8VcaUSNbfvP2XKPBA1t+8/0x2O/zS37z/wE7uMNLfvP77S84Ixt+8/8NX1vx237z8TQygFqbbvP6pT0RZytO8/9r+c/EOs7z+F80prOJLvP6LpU9YHPe8/W7nvEYwr7j8Afjp+GxDrPxY0SKbQe+Q/xolv6wND2D+BTeG0ECTHPw==",
          "dtype": "f8"
         },
         "yaxis": "y"
        },
        {
         "hovertemplate": "Alpha: %{x:.6f}<br>R²: %{y:.3f}<extra></extra>",
         "line": {
          "color": "red"
         },
         "mode": "lines",
         "name": "Validation",
         "type": "scatter",
         "x": {
          "bdata": "LUMc6+I2Gj8AbSfwkEcxP1G/eCmzx0Y/DilDDRQIXj9YoxjVsctzP+EsLe/eGIo/Rasz8cczoT8mplfZna22Pw6IHS6x5c0/m4S6Tge14z8jI21R/fr5P1w4r5kVIBFAMW3BZqaTJkDlFkiudcM9QIC8RLx2nlNA5jOC6j3daUCjtanPeQyBQGrpg6/MeZZA//2tYGGhrUAAAAAAAIjDQA==",
          "dtype": "f8"
         },
         "xaxis": "x",
         "y": {
          "bdata": "bv+P412l7z9WwrrjXaXvP/4sKuRdpe8/sLJG5V2l7z91qvTnXaXvP+vGR+1dpe8/RrFI712l7z946guiXaXvP/h7Jq1ape8/3RqpM0Wl7z828cJzwaTvP+45ScI5ou8/asjvuduY7z9K72PNBHvvPxgDLc4FGu8/SmwkpvHp7T++FveZtZbqP2gjJ5yk1OM/nukBwekH1z9iYblWRUDFPw==",
          "dtype": "f8"
         },
         "yaxis": "y"
        },
        {
         "hovertemplate": "Alpha: %{x:.6f}<br>R²: %{y:.3f}<extra></extra>",
         "line": {
          "color": "blue"
         },
         "mode": "lines",
         "name": "Training",
         "showlegend": false,
         "type": "scatter",
         "x": {
          "bdata": "LUMc6+I2Gj9ale4T4B4rPwsDekPiDjw/9LVbcjAHTT8OKUMNFAheP/5iqArZEW8/mSqhAGcSgD8CAqIfoqCQP0WrM/HHM6E/eFVm+APMsT/IRFs5g2nCP46JlEZ0DNM/m4S6Tge14z8KS9sqbmP0P4ggKG3cFwVAYGM1cIfSFUAxbcFmppMmQEsSB2xyWzdAZZOglCYqSEAAAAAAAABZQA==",
          "dtype": "f8"
         },
         "xaxis": "x2",
         "y": {
          "bdata": "zaW9DzW37z/W41cFNbfvP6Bsu940t+8/RcPncTS37z/moXwGM7fvP8NfKVgtt+8/8OX1Sxe37z9AA+kUxLbvP86V9mWWte8/Un2MkAey7z/G6q3vzqjvP0Bqgswkh+8/Yxq6K2kR7z86FH0w3p/tP0BhenC0Rek/eHs1lYmK2j8AAAAAAAAAAAAAAAAAAAAAAAAAAAAAAAAAAAAAAAAAAA==",
          "dtype": "f8"
         },
         "yaxis": "y2"
        },
        {
         "hovertemplate": "Alpha: %{x:.6f}<br>R²: %{y:.3f}<extra></extra>",
         "line": {
          "color": "red"
         },
         "mode": "lines",
         "name": "Validation",
         "showlegend": false,
         "type": "scatter",
         "x": {
          "bdata": "LUMc6+I2Gj9ale4T4B4rPwsDekPiDjw/9LVbcjAHTT8OKUMNFAheP/5iqArZEW8/mSqhAGcSgD8CAqIfoqCQP0WrM/HHM6E/eFVm+APMsT/IRFs5g2nCP46JlEZ0DNM/m4S6Tge14z8KS9sqbmP0P4ggKG3cFwVAYGM1cIfSFUAxbcFmppMmQEsSB2xyWzdAZZOglCYqSEAAAAAAAABZQA==",
          "dtype": "f8"
         },
         "xaxis": "x2",
         "y": {
          "bdata": "8FJtb2Sl7z+9jjRZa6XvP9OOA1R5pe8//kwtlJSl7z/as5PnyaXvP3aVOvoxpu8/RXi4Qu6m7z+ah3/9FajvPw5/xnCwqe8/+8GHn0mq7z8CNeSnyqPvP5PjlxwQge8/htnTk60H7z8DNUasRIztP9FjsDa3Fek/Qls7ljLd2T8a6yIOBg+CvxrrIg4GD4K/GusiDgYPgr8a6yIOBg+Cvw==",
          "dtype": "f8"
         },
         "yaxis": "y2"
        }
       ],
       "layout": {
        "annotations": [
         {
          "font": {
           "size": 16
          },
          "showarrow": false,
          "text": "Ridge Validation Curve",
          "x": 0.225,
          "xanchor": "center",
          "xref": "paper",
          "y": 1,
          "yanchor": "bottom",
          "yref": "paper"
         },
         {
          "font": {
           "size": 16
          },
          "showarrow": false,
          "text": "Lasso Validation Curve",
          "x": 0.775,
          "xanchor": "center",
          "xref": "paper",
          "y": 1,
          "yanchor": "bottom",
          "yref": "paper"
         }
        ],
        "height": 500,
        "template": {
         "data": {
          "bar": [
           {
            "error_x": {
             "color": "#2a3f5f"
            },
            "error_y": {
             "color": "#2a3f5f"
            },
            "marker": {
             "line": {
              "color": "#E5ECF6",
              "width": 0.5
             },
             "pattern": {
              "fillmode": "overlay",
              "size": 10,
              "solidity": 0.2
             }
            },
            "type": "bar"
           }
          ],
          "barpolar": [
           {
            "marker": {
             "line": {
              "color": "#E5ECF6",
              "width": 0.5
             },
             "pattern": {
              "fillmode": "overlay",
              "size": 10,
              "solidity": 0.2
             }
            },
            "type": "barpolar"
           }
          ],
          "carpet": [
           {
            "aaxis": {
             "endlinecolor": "#2a3f5f",
             "gridcolor": "white",
             "linecolor": "white",
             "minorgridcolor": "white",
             "startlinecolor": "#2a3f5f"
            },
            "baxis": {
             "endlinecolor": "#2a3f5f",
             "gridcolor": "white",
             "linecolor": "white",
             "minorgridcolor": "white",
             "startlinecolor": "#2a3f5f"
            },
            "type": "carpet"
           }
          ],
          "choropleth": [
           {
            "colorbar": {
             "outlinewidth": 0,
             "ticks": ""
            },
            "type": "choropleth"
           }
          ],
          "contour": [
           {
            "colorbar": {
             "outlinewidth": 0,
             "ticks": ""
            },
            "colorscale": [
             [
              0,
              "#0d0887"
             ],
             [
              0.1111111111111111,
              "#46039f"
             ],
             [
              0.2222222222222222,
              "#7201a8"
             ],
             [
              0.3333333333333333,
              "#9c179e"
             ],
             [
              0.4444444444444444,
              "#bd3786"
             ],
             [
              0.5555555555555556,
              "#d8576b"
             ],
             [
              0.6666666666666666,
              "#ed7953"
             ],
             [
              0.7777777777777778,
              "#fb9f3a"
             ],
             [
              0.8888888888888888,
              "#fdca26"
             ],
             [
              1,
              "#f0f921"
             ]
            ],
            "type": "contour"
           }
          ],
          "contourcarpet": [
           {
            "colorbar": {
             "outlinewidth": 0,
             "ticks": ""
            },
            "type": "contourcarpet"
           }
          ],
          "heatmap": [
           {
            "colorbar": {
             "outlinewidth": 0,
             "ticks": ""
            },
            "colorscale": [
             [
              0,
              "#0d0887"
             ],
             [
              0.1111111111111111,
              "#46039f"
             ],
             [
              0.2222222222222222,
              "#7201a8"
             ],
             [
              0.3333333333333333,
              "#9c179e"
             ],
             [
              0.4444444444444444,
              "#bd3786"
             ],
             [
              0.5555555555555556,
              "#d8576b"
             ],
             [
              0.6666666666666666,
              "#ed7953"
             ],
             [
              0.7777777777777778,
              "#fb9f3a"
             ],
             [
              0.8888888888888888,
              "#fdca26"
             ],
             [
              1,
              "#f0f921"
             ]
            ],
            "type": "heatmap"
           }
          ],
          "histogram": [
           {
            "marker": {
             "pattern": {
              "fillmode": "overlay",
              "size": 10,
              "solidity": 0.2
             }
            },
            "type": "histogram"
           }
          ],
          "histogram2d": [
           {
            "colorbar": {
             "outlinewidth": 0,
             "ticks": ""
            },
            "colorscale": [
             [
              0,
              "#0d0887"
             ],
             [
              0.1111111111111111,
              "#46039f"
             ],
             [
              0.2222222222222222,
              "#7201a8"
             ],
             [
              0.3333333333333333,
              "#9c179e"
             ],
             [
              0.4444444444444444,
              "#bd3786"
             ],
             [
              0.5555555555555556,
              "#d8576b"
             ],
             [
              0.6666666666666666,
              "#ed7953"
             ],
             [
              0.7777777777777778,
              "#fb9f3a"
             ],
             [
              0.8888888888888888,
              "#fdca26"
             ],
             [
              1,
              "#f0f921"
             ]
            ],
            "type": "histogram2d"
           }
          ],
          "histogram2dcontour": [
           {
            "colorbar": {
             "outlinewidth": 0,
             "ticks": ""
            },
            "colorscale": [
             [
              0,
              "#0d0887"
             ],
             [
              0.1111111111111111,
              "#46039f"
             ],
             [
              0.2222222222222222,
              "#7201a8"
             ],
             [
              0.3333333333333333,
              "#9c179e"
             ],
             [
              0.4444444444444444,
              "#bd3786"
             ],
             [
              0.5555555555555556,
              "#d8576b"
             ],
             [
              0.6666666666666666,
              "#ed7953"
             ],
             [
              0.7777777777777778,
              "#fb9f3a"
             ],
             [
              0.8888888888888888,
              "#fdca26"
             ],
             [
              1,
              "#f0f921"
             ]
            ],
            "type": "histogram2dcontour"
           }
          ],
          "mesh3d": [
           {
            "colorbar": {
             "outlinewidth": 0,
             "ticks": ""
            },
            "type": "mesh3d"
           }
          ],
          "parcoords": [
           {
            "line": {
             "colorbar": {
              "outlinewidth": 0,
              "ticks": ""
             }
            },
            "type": "parcoords"
           }
          ],
          "pie": [
           {
            "automargin": true,
            "type": "pie"
           }
          ],
          "scatter": [
           {
            "fillpattern": {
             "fillmode": "overlay",
             "size": 10,
             "solidity": 0.2
            },
            "type": "scatter"
           }
          ],
          "scatter3d": [
           {
            "line": {
             "colorbar": {
              "outlinewidth": 0,
              "ticks": ""
             }
            },
            "marker": {
             "colorbar": {
              "outlinewidth": 0,
              "ticks": ""
             }
            },
            "type": "scatter3d"
           }
          ],
          "scattercarpet": [
           {
            "marker": {
             "colorbar": {
              "outlinewidth": 0,
              "ticks": ""
             }
            },
            "type": "scattercarpet"
           }
          ],
          "scattergeo": [
           {
            "marker": {
             "colorbar": {
              "outlinewidth": 0,
              "ticks": ""
             }
            },
            "type": "scattergeo"
           }
          ],
          "scattergl": [
           {
            "marker": {
             "colorbar": {
              "outlinewidth": 0,
              "ticks": ""
             }
            },
            "type": "scattergl"
           }
          ],
          "scattermap": [
           {
            "marker": {
             "colorbar": {
              "outlinewidth": 0,
              "ticks": ""
             }
            },
            "type": "scattermap"
           }
          ],
          "scattermapbox": [
           {
            "marker": {
             "colorbar": {
              "outlinewidth": 0,
              "ticks": ""
             }
            },
            "type": "scattermapbox"
           }
          ],
          "scatterpolar": [
           {
            "marker": {
             "colorbar": {
              "outlinewidth": 0,
              "ticks": ""
             }
            },
            "type": "scatterpolar"
           }
          ],
          "scatterpolargl": [
           {
            "marker": {
             "colorbar": {
              "outlinewidth": 0,
              "ticks": ""
             }
            },
            "type": "scatterpolargl"
           }
          ],
          "scatterternary": [
           {
            "marker": {
             "colorbar": {
              "outlinewidth": 0,
              "ticks": ""
             }
            },
            "type": "scatterternary"
           }
          ],
          "surface": [
           {
            "colorbar": {
             "outlinewidth": 0,
             "ticks": ""
            },
            "colorscale": [
             [
              0,
              "#0d0887"
             ],
             [
              0.1111111111111111,
              "#46039f"
             ],
             [
              0.2222222222222222,
              "#7201a8"
             ],
             [
              0.3333333333333333,
              "#9c179e"
             ],
             [
              0.4444444444444444,
              "#bd3786"
             ],
             [
              0.5555555555555556,
              "#d8576b"
             ],
             [
              0.6666666666666666,
              "#ed7953"
             ],
             [
              0.7777777777777778,
              "#fb9f3a"
             ],
             [
              0.8888888888888888,
              "#fdca26"
             ],
             [
              1,
              "#f0f921"
             ]
            ],
            "type": "surface"
           }
          ],
          "table": [
           {
            "cells": {
             "fill": {
              "color": "#EBF0F8"
             },
             "line": {
              "color": "white"
             }
            },
            "header": {
             "fill": {
              "color": "#C8D4E3"
             },
             "line": {
              "color": "white"
             }
            },
            "type": "table"
           }
          ]
         },
         "layout": {
          "annotationdefaults": {
           "arrowcolor": "#2a3f5f",
           "arrowhead": 0,
           "arrowwidth": 1
          },
          "autotypenumbers": "strict",
          "coloraxis": {
           "colorbar": {
            "outlinewidth": 0,
            "ticks": ""
           }
          },
          "colorscale": {
           "diverging": [
            [
             0,
             "#8e0152"
            ],
            [
             0.1,
             "#c51b7d"
            ],
            [
             0.2,
             "#de77ae"
            ],
            [
             0.3,
             "#f1b6da"
            ],
            [
             0.4,
             "#fde0ef"
            ],
            [
             0.5,
             "#f7f7f7"
            ],
            [
             0.6,
             "#e6f5d0"
            ],
            [
             0.7,
             "#b8e186"
            ],
            [
             0.8,
             "#7fbc41"
            ],
            [
             0.9,
             "#4d9221"
            ],
            [
             1,
             "#276419"
            ]
           ],
           "sequential": [
            [
             0,
             "#0d0887"
            ],
            [
             0.1111111111111111,
             "#46039f"
            ],
            [
             0.2222222222222222,
             "#7201a8"
            ],
            [
             0.3333333333333333,
             "#9c179e"
            ],
            [
             0.4444444444444444,
             "#bd3786"
            ],
            [
             0.5555555555555556,
             "#d8576b"
            ],
            [
             0.6666666666666666,
             "#ed7953"
            ],
            [
             0.7777777777777778,
             "#fb9f3a"
            ],
            [
             0.8888888888888888,
             "#fdca26"
            ],
            [
             1,
             "#f0f921"
            ]
           ],
           "sequentialminus": [
            [
             0,
             "#0d0887"
            ],
            [
             0.1111111111111111,
             "#46039f"
            ],
            [
             0.2222222222222222,
             "#7201a8"
            ],
            [
             0.3333333333333333,
             "#9c179e"
            ],
            [
             0.4444444444444444,
             "#bd3786"
            ],
            [
             0.5555555555555556,
             "#d8576b"
            ],
            [
             0.6666666666666666,
             "#ed7953"
            ],
            [
             0.7777777777777778,
             "#fb9f3a"
            ],
            [
             0.8888888888888888,
             "#fdca26"
            ],
            [
             1,
             "#f0f921"
            ]
           ]
          },
          "colorway": [
           "#636efa",
           "#EF553B",
           "#00cc96",
           "#ab63fa",
           "#FFA15A",
           "#19d3f3",
           "#FF6692",
           "#B6E880",
           "#FF97FF",
           "#FECB52"
          ],
          "font": {
           "color": "#2a3f5f"
          },
          "geo": {
           "bgcolor": "white",
           "lakecolor": "white",
           "landcolor": "#E5ECF6",
           "showlakes": true,
           "showland": true,
           "subunitcolor": "white"
          },
          "hoverlabel": {
           "align": "left"
          },
          "hovermode": "closest",
          "mapbox": {
           "style": "light"
          },
          "paper_bgcolor": "white",
          "plot_bgcolor": "#E5ECF6",
          "polar": {
           "angularaxis": {
            "gridcolor": "white",
            "linecolor": "white",
            "ticks": ""
           },
           "bgcolor": "#E5ECF6",
           "radialaxis": {
            "gridcolor": "white",
            "linecolor": "white",
            "ticks": ""
           }
          },
          "scene": {
           "xaxis": {
            "backgroundcolor": "#E5ECF6",
            "gridcolor": "white",
            "gridwidth": 2,
            "linecolor": "white",
            "showbackground": true,
            "ticks": "",
            "zerolinecolor": "white"
           },
           "yaxis": {
            "backgroundcolor": "#E5ECF6",
            "gridcolor": "white",
            "gridwidth": 2,
            "linecolor": "white",
            "showbackground": true,
            "ticks": "",
            "zerolinecolor": "white"
           },
           "zaxis": {
            "backgroundcolor": "#E5ECF6",
            "gridcolor": "white",
            "gridwidth": 2,
            "linecolor": "white",
            "showbackground": true,
            "ticks": "",
            "zerolinecolor": "white"
           }
          },
          "shapedefaults": {
           "line": {
            "color": "#2a3f5f"
           }
          },
          "ternary": {
           "aaxis": {
            "gridcolor": "white",
            "linecolor": "white",
            "ticks": ""
           },
           "baxis": {
            "gridcolor": "white",
            "linecolor": "white",
            "ticks": ""
           },
           "bgcolor": "#E5ECF6",
           "caxis": {
            "gridcolor": "white",
            "linecolor": "white",
            "ticks": ""
           }
          },
          "title": {
           "x": 0.05
          },
          "xaxis": {
           "automargin": true,
           "gridcolor": "white",
           "linecolor": "white",
           "ticks": "",
           "title": {
            "standoff": 15
           },
           "zerolinecolor": "white",
           "zerolinewidth": 2
          },
          "yaxis": {
           "automargin": true,
           "gridcolor": "white",
           "linecolor": "white",
           "ticks": "",
           "title": {
            "standoff": 15
           },
           "zerolinecolor": "white",
           "zerolinewidth": 2
          }
         }
        },
        "title": {
         "text": "Validation Curves: Optimal Regularization Strength"
        },
        "xaxis": {
         "anchor": "y",
         "domain": [
          0,
          0.45
         ],
         "title": {
          "text": "Alpha"
         },
         "type": "log"
        },
        "xaxis2": {
         "anchor": "y2",
         "domain": [
          0.55,
          1
         ],
         "title": {
          "text": "Alpha"
         },
         "type": "log"
        },
        "yaxis": {
         "anchor": "x",
         "domain": [
          0,
          1
         ],
         "title": {
          "text": "R² Score"
         }
        },
        "yaxis2": {
         "anchor": "x2",
         "domain": [
          0,
          1
         ],
         "title": {
          "text": "R² Score"
         }
        }
       }
      }
     },
     "metadata": {},
     "output_type": "display_data"
    },
    {
     "name": "stdout",
     "output_type": "stream",
     "text": [
      "\n",
      "6.2 Learning Curves Analysis:\n"
     ]
    },
    {
     "data": {
      "application/vnd.plotly.v1+json": {
       "config": {
        "plotlyServerURL": "https://plot.ly"
       },
       "data": [
        {
         "hovertemplate": "<b>Linear Training</b><br>Size: %{x}<br>R²: %{y:.3f}<extra></extra>",
         "line": {
          "color": "blue",
          "dash": "solid"
         },
         "mode": "lines",
         "name": "Linear (Train)",
         "type": "scatter",
         "x": {
          "bdata": "QACAAMAAAAFAAYABwAEAAkACgAI=",
          "dtype": "i2"
         },
         "y": {
          "bdata": "IhXMXrr17z/9vdHn5tnvP90YIy56zO8/NR+uD8LD7z/TquyZbcDvPzqf5hBUue8/LYnPFS257z+7HMBRQ7fvPy2z3DOzte8/gzQNEzW37z8=",
          "dtype": "f8"
         }
        },
        {
         "hovertemplate": "<b>Linear Validation</b><br>Size: %{x}<br>R²: %{y:.3f}<extra></extra>",
         "line": {
          "color": "blue",
          "dash": "dash"
         },
         "mode": "lines",
         "name": "Linear (Val)",
         "type": "scatter",
         "x": {
          "bdata": "QACAAMAAAAFAAYABwAEAAkACgAI=",
          "dtype": "i2"
         },
         "y": {
          "bdata": "8wwRZj//7T+dOnQhBGbvPwKkJrlohu8/UnGRyAOV7z9bLdvPx5nvP9h3KSbMnu8/epBtFKCg7z/L4Cumt6PvPxabExu/pO8/3rt1412l7z8=",
          "dtype": "f8"
         }
        },
        {
         "hovertemplate": "<b>Ridge Training</b><br>Size: %{x}<br>R²: %{y:.3f}<extra></extra>",
         "line": {
          "color": "green",
          "dash": "solid"
         },
         "mode": "lines",
         "name": "Ridge (Train)",
         "type": "scatter",
         "x": {
          "bdata": "QACAAMAAAAFAAYABwAEAAkACgAI=",
          "dtype": "i2"
         },
         "y": {
          "bdata": "lrU9Cd707z91NUOho9nvP2MU8WdazO8/i4S1F7LD7z/oYF5fY8DvP6M5CU9Nue8/wxc0Qii57z/tALiGP7fvPwYn6zWwte8/TXo41zK37z8=",
          "dtype": "f8"
         }
        },
        {
         "hovertemplate": "<b>Ridge Validation</b><br>Size: %{x}<br>R²: %{y:.3f}<extra></extra>",
         "line": {
          "color": "green",
          "dash": "dash"
         },
         "mode": "lines",
         "name": "Ridge (Val)",
         "type": "scatter",
         "x": {
          "bdata": "QACAAMAAAAFAAYABwAEAAkACgAI=",
          "dtype": "i2"
         },
         "y": {
          "bdata": "NkflzJb/7T+tsFLZRGTvP5UY4tsrh+8/m+zpdB6V7z+tu3fJ55nvP9aAdaLOnu8/9bctyJig7z/291bXxqPvPx0J+2/EpO8/A124Blyl7z8=",
          "dtype": "f8"
         }
        },
        {
         "hovertemplate": "<b>Lasso Training</b><br>Size: %{x}<br>R²: %{y:.3f}<extra></extra>",
         "line": {
          "color": "red",
          "dash": "solid"
         },
         "mode": "lines",
         "name": "Lasso (Train)",
         "type": "scatter",
         "x": {
          "bdata": "QACAAMAAAAFAAYABwAEAAkACgAI=",
          "dtype": "i2"
         },
         "y": {
          "bdata": "RZ8Zv97n7z+gLILHRdHvP62w1kGKxO8/vb+U8/S97z97zQ9pmLrvP/tsx0t9s+8/KlLi4rSz7z/YMQWz/LHvPyD3CP+JsO8/C0nwe3Sy7z8=",
          "dtype": "f8"
         }
        },
        {
         "hovertemplate": "<b>Lasso Validation</b><br>Size: %{x}<br>R²: %{y:.3f}<extra></extra>",
         "line": {
          "color": "red",
          "dash": "dash"
         },
         "mode": "lines",
         "name": "Lasso (Val)",
         "type": "scatter",
         "x": {
          "bdata": "QACAAMAAAAFAAYABwAEAAkACgAI=",
          "dtype": "i2"
         },
         "y": {
          "bdata": "IGk0Wspa7z9K2sj274zvPwtseyOAoO8/6t4oM3Kj7z8VkJUVBabvP1phySNsp+8/7kNWDg6o7z+1yIKMnKnvP8jkZd8jqu8/FYeWPWSq7z8=",
          "dtype": "f8"
         }
        }
       ],
       "layout": {
        "height": 500,
        "template": {
         "data": {
          "bar": [
           {
            "error_x": {
             "color": "#2a3f5f"
            },
            "error_y": {
             "color": "#2a3f5f"
            },
            "marker": {
             "line": {
              "color": "#E5ECF6",
              "width": 0.5
             },
             "pattern": {
              "fillmode": "overlay",
              "size": 10,
              "solidity": 0.2
             }
            },
            "type": "bar"
           }
          ],
          "barpolar": [
           {
            "marker": {
             "line": {
              "color": "#E5ECF6",
              "width": 0.5
             },
             "pattern": {
              "fillmode": "overlay",
              "size": 10,
              "solidity": 0.2
             }
            },
            "type": "barpolar"
           }
          ],
          "carpet": [
           {
            "aaxis": {
             "endlinecolor": "#2a3f5f",
             "gridcolor": "white",
             "linecolor": "white",
             "minorgridcolor": "white",
             "startlinecolor": "#2a3f5f"
            },
            "baxis": {
             "endlinecolor": "#2a3f5f",
             "gridcolor": "white",
             "linecolor": "white",
             "minorgridcolor": "white",
             "startlinecolor": "#2a3f5f"
            },
            "type": "carpet"
           }
          ],
          "choropleth": [
           {
            "colorbar": {
             "outlinewidth": 0,
             "ticks": ""
            },
            "type": "choropleth"
           }
          ],
          "contour": [
           {
            "colorbar": {
             "outlinewidth": 0,
             "ticks": ""
            },
            "colorscale": [
             [
              0,
              "#0d0887"
             ],
             [
              0.1111111111111111,
              "#46039f"
             ],
             [
              0.2222222222222222,
              "#7201a8"
             ],
             [
              0.3333333333333333,
              "#9c179e"
             ],
             [
              0.4444444444444444,
              "#bd3786"
             ],
             [
              0.5555555555555556,
              "#d8576b"
             ],
             [
              0.6666666666666666,
              "#ed7953"
             ],
             [
              0.7777777777777778,
              "#fb9f3a"
             ],
             [
              0.8888888888888888,
              "#fdca26"
             ],
             [
              1,
              "#f0f921"
             ]
            ],
            "type": "contour"
           }
          ],
          "contourcarpet": [
           {
            "colorbar": {
             "outlinewidth": 0,
             "ticks": ""
            },
            "type": "contourcarpet"
           }
          ],
          "heatmap": [
           {
            "colorbar": {
             "outlinewidth": 0,
             "ticks": ""
            },
            "colorscale": [
             [
              0,
              "#0d0887"
             ],
             [
              0.1111111111111111,
              "#46039f"
             ],
             [
              0.2222222222222222,
              "#7201a8"
             ],
             [
              0.3333333333333333,
              "#9c179e"
             ],
             [
              0.4444444444444444,
              "#bd3786"
             ],
             [
              0.5555555555555556,
              "#d8576b"
             ],
             [
              0.6666666666666666,
              "#ed7953"
             ],
             [
              0.7777777777777778,
              "#fb9f3a"
             ],
             [
              0.8888888888888888,
              "#fdca26"
             ],
             [
              1,
              "#f0f921"
             ]
            ],
            "type": "heatmap"
           }
          ],
          "histogram": [
           {
            "marker": {
             "pattern": {
              "fillmode": "overlay",
              "size": 10,
              "solidity": 0.2
             }
            },
            "type": "histogram"
           }
          ],
          "histogram2d": [
           {
            "colorbar": {
             "outlinewidth": 0,
             "ticks": ""
            },
            "colorscale": [
             [
              0,
              "#0d0887"
             ],
             [
              0.1111111111111111,
              "#46039f"
             ],
             [
              0.2222222222222222,
              "#7201a8"
             ],
             [
              0.3333333333333333,
              "#9c179e"
             ],
             [
              0.4444444444444444,
              "#bd3786"
             ],
             [
              0.5555555555555556,
              "#d8576b"
             ],
             [
              0.6666666666666666,
              "#ed7953"
             ],
             [
              0.7777777777777778,
              "#fb9f3a"
             ],
             [
              0.8888888888888888,
              "#fdca26"
             ],
             [
              1,
              "#f0f921"
             ]
            ],
            "type": "histogram2d"
           }
          ],
          "histogram2dcontour": [
           {
            "colorbar": {
             "outlinewidth": 0,
             "ticks": ""
            },
            "colorscale": [
             [
              0,
              "#0d0887"
             ],
             [
              0.1111111111111111,
              "#46039f"
             ],
             [
              0.2222222222222222,
              "#7201a8"
             ],
             [
              0.3333333333333333,
              "#9c179e"
             ],
             [
              0.4444444444444444,
              "#bd3786"
             ],
             [
              0.5555555555555556,
              "#d8576b"
             ],
             [
              0.6666666666666666,
              "#ed7953"
             ],
             [
              0.7777777777777778,
              "#fb9f3a"
             ],
             [
              0.8888888888888888,
              "#fdca26"
             ],
             [
              1,
              "#f0f921"
             ]
            ],
            "type": "histogram2dcontour"
           }
          ],
          "mesh3d": [
           {
            "colorbar": {
             "outlinewidth": 0,
             "ticks": ""
            },
            "type": "mesh3d"
           }
          ],
          "parcoords": [
           {
            "line": {
             "colorbar": {
              "outlinewidth": 0,
              "ticks": ""
             }
            },
            "type": "parcoords"
           }
          ],
          "pie": [
           {
            "automargin": true,
            "type": "pie"
           }
          ],
          "scatter": [
           {
            "fillpattern": {
             "fillmode": "overlay",
             "size": 10,
             "solidity": 0.2
            },
            "type": "scatter"
           }
          ],
          "scatter3d": [
           {
            "line": {
             "colorbar": {
              "outlinewidth": 0,
              "ticks": ""
             }
            },
            "marker": {
             "colorbar": {
              "outlinewidth": 0,
              "ticks": ""
             }
            },
            "type": "scatter3d"
           }
          ],
          "scattercarpet": [
           {
            "marker": {
             "colorbar": {
              "outlinewidth": 0,
              "ticks": ""
             }
            },
            "type": "scattercarpet"
           }
          ],
          "scattergeo": [
           {
            "marker": {
             "colorbar": {
              "outlinewidth": 0,
              "ticks": ""
             }
            },
            "type": "scattergeo"
           }
          ],
          "scattergl": [
           {
            "marker": {
             "colorbar": {
              "outlinewidth": 0,
              "ticks": ""
             }
            },
            "type": "scattergl"
           }
          ],
          "scattermap": [
           {
            "marker": {
             "colorbar": {
              "outlinewidth": 0,
              "ticks": ""
             }
            },
            "type": "scattermap"
           }
          ],
          "scattermapbox": [
           {
            "marker": {
             "colorbar": {
              "outlinewidth": 0,
              "ticks": ""
             }
            },
            "type": "scattermapbox"
           }
          ],
          "scatterpolar": [
           {
            "marker": {
             "colorbar": {
              "outlinewidth": 0,
              "ticks": ""
             }
            },
            "type": "scatterpolar"
           }
          ],
          "scatterpolargl": [
           {
            "marker": {
             "colorbar": {
              "outlinewidth": 0,
              "ticks": ""
             }
            },
            "type": "scatterpolargl"
           }
          ],
          "scatterternary": [
           {
            "marker": {
             "colorbar": {
              "outlinewidth": 0,
              "ticks": ""
             }
            },
            "type": "scatterternary"
           }
          ],
          "surface": [
           {
            "colorbar": {
             "outlinewidth": 0,
             "ticks": ""
            },
            "colorscale": [
             [
              0,
              "#0d0887"
             ],
             [
              0.1111111111111111,
              "#46039f"
             ],
             [
              0.2222222222222222,
              "#7201a8"
             ],
             [
              0.3333333333333333,
              "#9c179e"
             ],
             [
              0.4444444444444444,
              "#bd3786"
             ],
             [
              0.5555555555555556,
              "#d8576b"
             ],
             [
              0.6666666666666666,
              "#ed7953"
             ],
             [
              0.7777777777777778,
              "#fb9f3a"
             ],
             [
              0.8888888888888888,
              "#fdca26"
             ],
             [
              1,
              "#f0f921"
             ]
            ],
            "type": "surface"
           }
          ],
          "table": [
           {
            "cells": {
             "fill": {
              "color": "#EBF0F8"
             },
             "line": {
              "color": "white"
             }
            },
            "header": {
             "fill": {
              "color": "#C8D4E3"
             },
             "line": {
              "color": "white"
             }
            },
            "type": "table"
           }
          ]
         },
         "layout": {
          "annotationdefaults": {
           "arrowcolor": "#2a3f5f",
           "arrowhead": 0,
           "arrowwidth": 1
          },
          "autotypenumbers": "strict",
          "coloraxis": {
           "colorbar": {
            "outlinewidth": 0,
            "ticks": ""
           }
          },
          "colorscale": {
           "diverging": [
            [
             0,
             "#8e0152"
            ],
            [
             0.1,
             "#c51b7d"
            ],
            [
             0.2,
             "#de77ae"
            ],
            [
             0.3,
             "#f1b6da"
            ],
            [
             0.4,
             "#fde0ef"
            ],
            [
             0.5,
             "#f7f7f7"
            ],
            [
             0.6,
             "#e6f5d0"
            ],
            [
             0.7,
             "#b8e186"
            ],
            [
             0.8,
             "#7fbc41"
            ],
            [
             0.9,
             "#4d9221"
            ],
            [
             1,
             "#276419"
            ]
           ],
           "sequential": [
            [
             0,
             "#0d0887"
            ],
            [
             0.1111111111111111,
             "#46039f"
            ],
            [
             0.2222222222222222,
             "#7201a8"
            ],
            [
             0.3333333333333333,
             "#9c179e"
            ],
            [
             0.4444444444444444,
             "#bd3786"
            ],
            [
             0.5555555555555556,
             "#d8576b"
            ],
            [
             0.6666666666666666,
             "#ed7953"
            ],
            [
             0.7777777777777778,
             "#fb9f3a"
            ],
            [
             0.8888888888888888,
             "#fdca26"
            ],
            [
             1,
             "#f0f921"
            ]
           ],
           "sequentialminus": [
            [
             0,
             "#0d0887"
            ],
            [
             0.1111111111111111,
             "#46039f"
            ],
            [
             0.2222222222222222,
             "#7201a8"
            ],
            [
             0.3333333333333333,
             "#9c179e"
            ],
            [
             0.4444444444444444,
             "#bd3786"
            ],
            [
             0.5555555555555556,
             "#d8576b"
            ],
            [
             0.6666666666666666,
             "#ed7953"
            ],
            [
             0.7777777777777778,
             "#fb9f3a"
            ],
            [
             0.8888888888888888,
             "#fdca26"
            ],
            [
             1,
             "#f0f921"
            ]
           ]
          },
          "colorway": [
           "#636efa",
           "#EF553B",
           "#00cc96",
           "#ab63fa",
           "#FFA15A",
           "#19d3f3",
           "#FF6692",
           "#B6E880",
           "#FF97FF",
           "#FECB52"
          ],
          "font": {
           "color": "#2a3f5f"
          },
          "geo": {
           "bgcolor": "white",
           "lakecolor": "white",
           "landcolor": "#E5ECF6",
           "showlakes": true,
           "showland": true,
           "subunitcolor": "white"
          },
          "hoverlabel": {
           "align": "left"
          },
          "hovermode": "closest",
          "mapbox": {
           "style": "light"
          },
          "paper_bgcolor": "white",
          "plot_bgcolor": "#E5ECF6",
          "polar": {
           "angularaxis": {
            "gridcolor": "white",
            "linecolor": "white",
            "ticks": ""
           },
           "bgcolor": "#E5ECF6",
           "radialaxis": {
            "gridcolor": "white",
            "linecolor": "white",
            "ticks": ""
           }
          },
          "scene": {
           "xaxis": {
            "backgroundcolor": "#E5ECF6",
            "gridcolor": "white",
            "gridwidth": 2,
            "linecolor": "white",
            "showbackground": true,
            "ticks": "",
            "zerolinecolor": "white"
           },
           "yaxis": {
            "backgroundcolor": "#E5ECF6",
            "gridcolor": "white",
            "gridwidth": 2,
            "linecolor": "white",
            "showbackground": true,
            "ticks": "",
            "zerolinecolor": "white"
           },
           "zaxis": {
            "backgroundcolor": "#E5ECF6",
            "gridcolor": "white",
            "gridwidth": 2,
            "linecolor": "white",
            "showbackground": true,
            "ticks": "",
            "zerolinecolor": "white"
           }
          },
          "shapedefaults": {
           "line": {
            "color": "#2a3f5f"
           }
          },
          "ternary": {
           "aaxis": {
            "gridcolor": "white",
            "linecolor": "white",
            "ticks": ""
           },
           "baxis": {
            "gridcolor": "white",
            "linecolor": "white",
            "ticks": ""
           },
           "bgcolor": "#E5ECF6",
           "caxis": {
            "gridcolor": "white",
            "linecolor": "white",
            "ticks": ""
           }
          },
          "title": {
           "x": 0.05
          },
          "xaxis": {
           "automargin": true,
           "gridcolor": "white",
           "linecolor": "white",
           "ticks": "",
           "title": {
            "standoff": 15
           },
           "zerolinecolor": "white",
           "zerolinewidth": 2
          },
          "yaxis": {
           "automargin": true,
           "gridcolor": "white",
           "linecolor": "white",
           "ticks": "",
           "title": {
            "standoff": 15
           },
           "zerolinecolor": "white",
           "zerolinewidth": 2
          }
         }
        },
        "title": {
         "text": "Learning Curves: Model Performance vs Training Set Size"
        },
        "xaxis": {
         "title": {
          "text": "Training Set Size"
         }
        },
        "yaxis": {
         "title": {
          "text": "R² Score"
         }
        }
       }
      }
     },
     "metadata": {},
     "output_type": "display_data"
    },
    {
     "name": "stdout",
     "output_type": "stream",
     "text": [
      "\n",
      "6.3 Grid Search Optimization:\n",
      "Grid Search Results:\n",
      "• Ridge - Best alpha: 0.033598, CV Score: 0.9889\n",
      "• Lasso - Best alpha: 0.069519, CV Score: 0.9895\n",
      "• Elastic Net - Best params: α=0.046416, l1_ratio=0.900, CV Score: 0.9892\n",
      "\n",
      " Grid Search Performance Summary:\n",
      "               Method  CV_Score  Best_Alpha  Test_Score\n",
      "0        Ridge (Grid)  0.988936    0.033598    0.990284\n",
      "1        Lasso (Grid)  0.989537    0.069519    0.990541\n",
      "2  Elastic Net (Grid)  0.989203    0.046416    0.990511\n",
      "Grid Search Results:\n",
      "• Ridge - Best alpha: 0.033598, CV Score: 0.9889\n",
      "• Lasso - Best alpha: 0.069519, CV Score: 0.9895\n",
      "• Elastic Net - Best params: α=0.046416, l1_ratio=0.900, CV Score: 0.9892\n",
      "\n",
      " Grid Search Performance Summary:\n",
      "               Method  CV_Score  Best_Alpha  Test_Score\n",
      "0        Ridge (Grid)  0.988936    0.033598    0.990284\n",
      "1        Lasso (Grid)  0.989537    0.069519    0.990541\n",
      "2  Elastic Net (Grid)  0.989203    0.046416    0.990511\n"
     ]
    },
    {
     "data": {
      "application/vnd.plotly.v1+json": {
       "config": {
        "plotlyServerURL": "https://plot.ly"
       },
       "data": [
        {
         "hovertemplate": "<b>%{x}</b><br>Test R²: %{y:.4f}<extra></extra>",
         "marker": {
          "color": [
           "green",
           "red",
           "purple"
          ]
         },
         "name": "Test Score",
         "text": {
          "bdata": "VFInoImw7z8ZBFYOLbLvPxkEVg4tsu8/",
          "dtype": "f8"
         },
         "textposition": "auto",
         "type": "bar",
         "x": [
          "Ridge (Grid)",
          "Lasso (Grid)",
          "Elastic Net (Grid)"
         ],
         "y": {
          "bdata": "lc05SWew7z+9y6wZgrLvP4pWHp5Dsu8/",
          "dtype": "f8"
         }
        }
       ],
       "layout": {
        "height": 400,
        "template": {
         "data": {
          "bar": [
           {
            "error_x": {
             "color": "#2a3f5f"
            },
            "error_y": {
             "color": "#2a3f5f"
            },
            "marker": {
             "line": {
              "color": "#E5ECF6",
              "width": 0.5
             },
             "pattern": {
              "fillmode": "overlay",
              "size": 10,
              "solidity": 0.2
             }
            },
            "type": "bar"
           }
          ],
          "barpolar": [
           {
            "marker": {
             "line": {
              "color": "#E5ECF6",
              "width": 0.5
             },
             "pattern": {
              "fillmode": "overlay",
              "size": 10,
              "solidity": 0.2
             }
            },
            "type": "barpolar"
           }
          ],
          "carpet": [
           {
            "aaxis": {
             "endlinecolor": "#2a3f5f",
             "gridcolor": "white",
             "linecolor": "white",
             "minorgridcolor": "white",
             "startlinecolor": "#2a3f5f"
            },
            "baxis": {
             "endlinecolor": "#2a3f5f",
             "gridcolor": "white",
             "linecolor": "white",
             "minorgridcolor": "white",
             "startlinecolor": "#2a3f5f"
            },
            "type": "carpet"
           }
          ],
          "choropleth": [
           {
            "colorbar": {
             "outlinewidth": 0,
             "ticks": ""
            },
            "type": "choropleth"
           }
          ],
          "contour": [
           {
            "colorbar": {
             "outlinewidth": 0,
             "ticks": ""
            },
            "colorscale": [
             [
              0,
              "#0d0887"
             ],
             [
              0.1111111111111111,
              "#46039f"
             ],
             [
              0.2222222222222222,
              "#7201a8"
             ],
             [
              0.3333333333333333,
              "#9c179e"
             ],
             [
              0.4444444444444444,
              "#bd3786"
             ],
             [
              0.5555555555555556,
              "#d8576b"
             ],
             [
              0.6666666666666666,
              "#ed7953"
             ],
             [
              0.7777777777777778,
              "#fb9f3a"
             ],
             [
              0.8888888888888888,
              "#fdca26"
             ],
             [
              1,
              "#f0f921"
             ]
            ],
            "type": "contour"
           }
          ],
          "contourcarpet": [
           {
            "colorbar": {
             "outlinewidth": 0,
             "ticks": ""
            },
            "type": "contourcarpet"
           }
          ],
          "heatmap": [
           {
            "colorbar": {
             "outlinewidth": 0,
             "ticks": ""
            },
            "colorscale": [
             [
              0,
              "#0d0887"
             ],
             [
              0.1111111111111111,
              "#46039f"
             ],
             [
              0.2222222222222222,
              "#7201a8"
             ],
             [
              0.3333333333333333,
              "#9c179e"
             ],
             [
              0.4444444444444444,
              "#bd3786"
             ],
             [
              0.5555555555555556,
              "#d8576b"
             ],
             [
              0.6666666666666666,
              "#ed7953"
             ],
             [
              0.7777777777777778,
              "#fb9f3a"
             ],
             [
              0.8888888888888888,
              "#fdca26"
             ],
             [
              1,
              "#f0f921"
             ]
            ],
            "type": "heatmap"
           }
          ],
          "histogram": [
           {
            "marker": {
             "pattern": {
              "fillmode": "overlay",
              "size": 10,
              "solidity": 0.2
             }
            },
            "type": "histogram"
           }
          ],
          "histogram2d": [
           {
            "colorbar": {
             "outlinewidth": 0,
             "ticks": ""
            },
            "colorscale": [
             [
              0,
              "#0d0887"
             ],
             [
              0.1111111111111111,
              "#46039f"
             ],
             [
              0.2222222222222222,
              "#7201a8"
             ],
             [
              0.3333333333333333,
              "#9c179e"
             ],
             [
              0.4444444444444444,
              "#bd3786"
             ],
             [
              0.5555555555555556,
              "#d8576b"
             ],
             [
              0.6666666666666666,
              "#ed7953"
             ],
             [
              0.7777777777777778,
              "#fb9f3a"
             ],
             [
              0.8888888888888888,
              "#fdca26"
             ],
             [
              1,
              "#f0f921"
             ]
            ],
            "type": "histogram2d"
           }
          ],
          "histogram2dcontour": [
           {
            "colorbar": {
             "outlinewidth": 0,
             "ticks": ""
            },
            "colorscale": [
             [
              0,
              "#0d0887"
             ],
             [
              0.1111111111111111,
              "#46039f"
             ],
             [
              0.2222222222222222,
              "#7201a8"
             ],
             [
              0.3333333333333333,
              "#9c179e"
             ],
             [
              0.4444444444444444,
              "#bd3786"
             ],
             [
              0.5555555555555556,
              "#d8576b"
             ],
             [
              0.6666666666666666,
              "#ed7953"
             ],
             [
              0.7777777777777778,
              "#fb9f3a"
             ],
             [
              0.8888888888888888,
              "#fdca26"
             ],
             [
              1,
              "#f0f921"
             ]
            ],
            "type": "histogram2dcontour"
           }
          ],
          "mesh3d": [
           {
            "colorbar": {
             "outlinewidth": 0,
             "ticks": ""
            },
            "type": "mesh3d"
           }
          ],
          "parcoords": [
           {
            "line": {
             "colorbar": {
              "outlinewidth": 0,
              "ticks": ""
             }
            },
            "type": "parcoords"
           }
          ],
          "pie": [
           {
            "automargin": true,
            "type": "pie"
           }
          ],
          "scatter": [
           {
            "fillpattern": {
             "fillmode": "overlay",
             "size": 10,
             "solidity": 0.2
            },
            "type": "scatter"
           }
          ],
          "scatter3d": [
           {
            "line": {
             "colorbar": {
              "outlinewidth": 0,
              "ticks": ""
             }
            },
            "marker": {
             "colorbar": {
              "outlinewidth": 0,
              "ticks": ""
             }
            },
            "type": "scatter3d"
           }
          ],
          "scattercarpet": [
           {
            "marker": {
             "colorbar": {
              "outlinewidth": 0,
              "ticks": ""
             }
            },
            "type": "scattercarpet"
           }
          ],
          "scattergeo": [
           {
            "marker": {
             "colorbar": {
              "outlinewidth": 0,
              "ticks": ""
             }
            },
            "type": "scattergeo"
           }
          ],
          "scattergl": [
           {
            "marker": {
             "colorbar": {
              "outlinewidth": 0,
              "ticks": ""
             }
            },
            "type": "scattergl"
           }
          ],
          "scattermap": [
           {
            "marker": {
             "colorbar": {
              "outlinewidth": 0,
              "ticks": ""
             }
            },
            "type": "scattermap"
           }
          ],
          "scattermapbox": [
           {
            "marker": {
             "colorbar": {
              "outlinewidth": 0,
              "ticks": ""
             }
            },
            "type": "scattermapbox"
           }
          ],
          "scatterpolar": [
           {
            "marker": {
             "colorbar": {
              "outlinewidth": 0,
              "ticks": ""
             }
            },
            "type": "scatterpolar"
           }
          ],
          "scatterpolargl": [
           {
            "marker": {
             "colorbar": {
              "outlinewidth": 0,
              "ticks": ""
             }
            },
            "type": "scatterpolargl"
           }
          ],
          "scatterternary": [
           {
            "marker": {
             "colorbar": {
              "outlinewidth": 0,
              "ticks": ""
             }
            },
            "type": "scatterternary"
           }
          ],
          "surface": [
           {
            "colorbar": {
             "outlinewidth": 0,
             "ticks": ""
            },
            "colorscale": [
             [
              0,
              "#0d0887"
             ],
             [
              0.1111111111111111,
              "#46039f"
             ],
             [
              0.2222222222222222,
              "#7201a8"
             ],
             [
              0.3333333333333333,
              "#9c179e"
             ],
             [
              0.4444444444444444,
              "#bd3786"
             ],
             [
              0.5555555555555556,
              "#d8576b"
             ],
             [
              0.6666666666666666,
              "#ed7953"
             ],
             [
              0.7777777777777778,
              "#fb9f3a"
             ],
             [
              0.8888888888888888,
              "#fdca26"
             ],
             [
              1,
              "#f0f921"
             ]
            ],
            "type": "surface"
           }
          ],
          "table": [
           {
            "cells": {
             "fill": {
              "color": "#EBF0F8"
             },
             "line": {
              "color": "white"
             }
            },
            "header": {
             "fill": {
              "color": "#C8D4E3"
             },
             "line": {
              "color": "white"
             }
            },
            "type": "table"
           }
          ]
         },
         "layout": {
          "annotationdefaults": {
           "arrowcolor": "#2a3f5f",
           "arrowhead": 0,
           "arrowwidth": 1
          },
          "autotypenumbers": "strict",
          "coloraxis": {
           "colorbar": {
            "outlinewidth": 0,
            "ticks": ""
           }
          },
          "colorscale": {
           "diverging": [
            [
             0,
             "#8e0152"
            ],
            [
             0.1,
             "#c51b7d"
            ],
            [
             0.2,
             "#de77ae"
            ],
            [
             0.3,
             "#f1b6da"
            ],
            [
             0.4,
             "#fde0ef"
            ],
            [
             0.5,
             "#f7f7f7"
            ],
            [
             0.6,
             "#e6f5d0"
            ],
            [
             0.7,
             "#b8e186"
            ],
            [
             0.8,
             "#7fbc41"
            ],
            [
             0.9,
             "#4d9221"
            ],
            [
             1,
             "#276419"
            ]
           ],
           "sequential": [
            [
             0,
             "#0d0887"
            ],
            [
             0.1111111111111111,
             "#46039f"
            ],
            [
             0.2222222222222222,
             "#7201a8"
            ],
            [
             0.3333333333333333,
             "#9c179e"
            ],
            [
             0.4444444444444444,
             "#bd3786"
            ],
            [
             0.5555555555555556,
             "#d8576b"
            ],
            [
             0.6666666666666666,
             "#ed7953"
            ],
            [
             0.7777777777777778,
             "#fb9f3a"
            ],
            [
             0.8888888888888888,
             "#fdca26"
            ],
            [
             1,
             "#f0f921"
            ]
           ],
           "sequentialminus": [
            [
             0,
             "#0d0887"
            ],
            [
             0.1111111111111111,
             "#46039f"
            ],
            [
             0.2222222222222222,
             "#7201a8"
            ],
            [
             0.3333333333333333,
             "#9c179e"
            ],
            [
             0.4444444444444444,
             "#bd3786"
            ],
            [
             0.5555555555555556,
             "#d8576b"
            ],
            [
             0.6666666666666666,
             "#ed7953"
            ],
            [
             0.7777777777777778,
             "#fb9f3a"
            ],
            [
             0.8888888888888888,
             "#fdca26"
            ],
            [
             1,
             "#f0f921"
            ]
           ]
          },
          "colorway": [
           "#636efa",
           "#EF553B",
           "#00cc96",
           "#ab63fa",
           "#FFA15A",
           "#19d3f3",
           "#FF6692",
           "#B6E880",
           "#FF97FF",
           "#FECB52"
          ],
          "font": {
           "color": "#2a3f5f"
          },
          "geo": {
           "bgcolor": "white",
           "lakecolor": "white",
           "landcolor": "#E5ECF6",
           "showlakes": true,
           "showland": true,
           "subunitcolor": "white"
          },
          "hoverlabel": {
           "align": "left"
          },
          "hovermode": "closest",
          "mapbox": {
           "style": "light"
          },
          "paper_bgcolor": "white",
          "plot_bgcolor": "#E5ECF6",
          "polar": {
           "angularaxis": {
            "gridcolor": "white",
            "linecolor": "white",
            "ticks": ""
           },
           "bgcolor": "#E5ECF6",
           "radialaxis": {
            "gridcolor": "white",
            "linecolor": "white",
            "ticks": ""
           }
          },
          "scene": {
           "xaxis": {
            "backgroundcolor": "#E5ECF6",
            "gridcolor": "white",
            "gridwidth": 2,
            "linecolor": "white",
            "showbackground": true,
            "ticks": "",
            "zerolinecolor": "white"
           },
           "yaxis": {
            "backgroundcolor": "#E5ECF6",
            "gridcolor": "white",
            "gridwidth": 2,
            "linecolor": "white",
            "showbackground": true,
            "ticks": "",
            "zerolinecolor": "white"
           },
           "zaxis": {
            "backgroundcolor": "#E5ECF6",
            "gridcolor": "white",
            "gridwidth": 2,
            "linecolor": "white",
            "showbackground": true,
            "ticks": "",
            "zerolinecolor": "white"
           }
          },
          "shapedefaults": {
           "line": {
            "color": "#2a3f5f"
           }
          },
          "ternary": {
           "aaxis": {
            "gridcolor": "white",
            "linecolor": "white",
            "ticks": ""
           },
           "baxis": {
            "gridcolor": "white",
            "linecolor": "white",
            "ticks": ""
           },
           "bgcolor": "#E5ECF6",
           "caxis": {
            "gridcolor": "white",
            "linecolor": "white",
            "ticks": ""
           }
          },
          "title": {
           "x": 0.05
          },
          "xaxis": {
           "automargin": true,
           "gridcolor": "white",
           "linecolor": "white",
           "ticks": "",
           "title": {
            "standoff": 15
           },
           "zerolinecolor": "white",
           "zerolinewidth": 2
          },
          "yaxis": {
           "automargin": true,
           "gridcolor": "white",
           "linecolor": "white",
           "ticks": "",
           "title": {
            "standoff": 15
           },
           "zerolinecolor": "white",
           "zerolinewidth": 2
          }
         }
        },
        "title": {
         "text": "Grid Search Results: Test Set Performance"
        },
        "xaxis": {
         "title": {
          "text": "Method"
         }
        },
        "yaxis": {
         "title": {
          "text": "Test R² Score"
         }
        }
       }
      }
     },
     "metadata": {},
     "output_type": "display_data"
    },
    {
     "name": "stdout",
     "output_type": "stream",
     "text": [
      "\n",
      " FINAL MODEL RECOMMENDATION:\n",
      "• Best method: Lasso (Grid)\n",
      "• Test R² score: 0.9905\n",
      "• Improvement over linear regression: 0.0%\n"
     ]
    }
   ],
   "source": [
    "# 6. ADVANCED CROSS-VALIDATION AND HYPERPARAMETER TUNING\n",
    "print(\"\\n 6. ADVANCED CROSS-VALIDATION AND HYPERPARAMETER TUNING\")\n",
    "print(\"=\" * 60)\n",
    "\n",
    "from sklearn.model_selection import validation_curve, learning_curve\n",
    "from sklearn.metrics import make_scorer\n",
    "\n",
    "# 6.1 Validation curves for different regularization strengths\n",
    "print(\"6.1 Validation Curves Analysis:\")\n",
    "\n",
    "# Ridge validation curve\n",
    "ridge_alphas = np.logspace(-4, 4, 20)\n",
    "ridge_train_scores, ridge_val_scores = validation_curve(\n",
    " Ridge(), X_train_scaled, y_train,\n",
    " param_name='alpha', param_range=ridge_alphas,\n",
    " cv=5, scoring='r2', n_jobs=-1\n",
    ")\n",
    "\n",
    "# Lasso validation curve\n",
    "lasso_alphas = np.logspace(-4, 2, 20)\n",
    "lasso_train_scores, lasso_val_scores = validation_curve(\n",
    " Lasso(max_iter=2000), X_train_scaled, y_train,\n",
    " param_name='alpha', param_range=lasso_alphas,\n",
    " cv=5, scoring='r2', n_jobs=-1\n",
    ")\n",
    "\n",
    "# Plot validation curves\n",
    "fig_validation = make_subplots(\n",
    " rows=1, cols=2,\n",
    " subplot_titles=(\"Ridge Validation Curve\", \"Lasso Validation Curve\")\n",
    ")\n",
    "\n",
    "# Ridge validation curve\n",
    "ridge_train_mean = np.mean(ridge_train_scores, axis=1)\n",
    "ridge_train_std = np.std(ridge_train_scores, axis=1)\n",
    "ridge_val_mean = np.mean(ridge_val_scores, axis=1)\n",
    "ridge_val_std = np.std(ridge_val_scores, axis=1)\n",
    "\n",
    "fig_validation.add_trace(\n",
    " go.Scatter(\n",
    " x=ridge_alphas,\n",
    " y=ridge_train_mean,\n",
    " mode='lines',\n",
    " name='Training',\n",
    " line=dict(color='blue'),\n",
    " hovertemplate=\"Alpha: %{x:.6f}<br>R²: %{y:.3f}<extra></extra>\"\n",
    " ),\n",
    " row=1, col=1\n",
    ")\n",
    "\n",
    "fig_validation.add_trace(\n",
    " go.Scatter(\n",
    " x=ridge_alphas,\n",
    " y=ridge_val_mean,\n",
    " mode='lines',\n",
    " name='Validation',\n",
    " line=dict(color='red'),\n",
    " hovertemplate=\"Alpha: %{x:.6f}<br>R²: %{y:.3f}<extra></extra>\"\n",
    " ),\n",
    " row=1, col=1\n",
    ")\n",
    "\n",
    "# Lasso validation curve\n",
    "lasso_train_mean = np.mean(lasso_train_scores, axis=1)\n",
    "lasso_val_mean = np.mean(lasso_val_scores, axis=1)\n",
    "\n",
    "fig_validation.add_trace(\n",
    " go.Scatter(\n",
    " x=lasso_alphas,\n",
    " y=lasso_train_mean,\n",
    " mode='lines',\n",
    " name='Training',\n",
    " line=dict(color='blue'),\n",
    " showlegend=False,\n",
    " hovertemplate=\"Alpha: %{x:.6f}<br>R²: %{y:.3f}<extra></extra>\"\n",
    " ),\n",
    " row=1, col=2\n",
    ")\n",
    "\n",
    "fig_validation.add_trace(\n",
    " go.Scatter(\n",
    " x=lasso_alphas,\n",
    " y=lasso_val_mean,\n",
    " mode='lines',\n",
    " name='Validation',\n",
    " line=dict(color='red'),\n",
    " showlegend=False,\n",
    " hovertemplate=\"Alpha: %{x:.6f}<br>R²: %{y:.3f}<extra></extra>\"\n",
    " ),\n",
    " row=1, col=2\n",
    ")\n",
    "\n",
    "fig_validation.update_layout(\n",
    " title=\"Validation Curves: Optimal Regularization Strength\",\n",
    " height=500\n",
    ")\n",
    "fig_validation.update_xaxes(type=\"log\", title_text=\"Alpha\")\n",
    "fig_validation.update_yaxes(title_text=\"R² Score\")\n",
    "\n",
    "fig_validation.show()\n",
    "\n",
    "# 6.2 Learning curves to assess model complexity\n",
    "print(\"\\n6.2 Learning Curves Analysis:\")\n",
    "\n",
    "train_sizes = np.linspace(0.1, 1.0, 10)\n",
    "\n",
    "# Linear regression learning curve\n",
    "lr_train_sizes, lr_train_scores, lr_val_scores = learning_curve(\n",
    " LinearRegression(), X_train_scaled, y_train,\n",
    " train_sizes=train_sizes, cv=5, scoring='r2', n_jobs=-1\n",
    ")\n",
    "\n",
    "# Ridge learning curve\n",
    "ridge_train_sizes, ridge_train_scores_lc, ridge_val_scores_lc = learning_curve(\n",
    " Ridge(alpha=optimal_alpha_ridge), X_train_scaled, y_train,\n",
    " train_sizes=train_sizes, cv=5, scoring='r2', n_jobs=-1\n",
    ")\n",
    "\n",
    "# Lasso learning curve\n",
    "lasso_train_sizes, lasso_train_scores_lc, lasso_val_scores_lc = learning_curve(\n",
    " Lasso(alpha=optimal_alpha_lasso, max_iter=2000), X_train_scaled, y_train,\n",
    " train_sizes=train_sizes, cv=5, scoring='r2', n_jobs=-1\n",
    ")\n",
    "\n",
    "# Plot learning curves\n",
    "fig_learning = go.Figure()\n",
    "\n",
    "methods = ['Linear', 'Ridge', 'Lasso']\n",
    "colors = ['blue', 'green', 'red']\n",
    "train_scores_all = [lr_train_scores, ridge_train_scores_lc, lasso_train_scores_lc]\n",
    "val_scores_all = [lr_val_scores, ridge_val_scores_lc, lasso_val_scores_lc]\n",
    "\n",
    "for i, (method, color) in enumerate(zip(methods, colors)):\n",
    " train_mean = np.mean(train_scores_all[i], axis=1)\n",
    " val_mean = np.mean(val_scores_all[i], axis=1)\n",
    "\n",
    " # Training scores\n",
    " fig_learning.add_trace(\n",
    " go.Scatter(\n",
    " x=lr_train_sizes,\n",
    " y=train_mean,\n",
    " mode='lines',\n",
    " name=f'{method} (Train)',\n",
    " line=dict(color=color, dash='solid'),\n",
    " hovertemplate=f\"<b>{method} Training</b><br>Size: %{{x}}<br>R²: %{{y:.3f}}<extra></extra>\"\n",
    " )\n",
    " )\n",
    "\n",
    " # Validation scores\n",
    " fig_learning.add_trace(\n",
    " go.Scatter(\n",
    " x=lr_train_sizes,\n",
    " y=val_mean,\n",
    " mode='lines',\n",
    " name=f'{method} (Val)',\n",
    " line=dict(color=color, dash='dash'),\n",
    " hovertemplate=f\"<b>{method} Validation</b><br>Size: %{{x}}<br>R²: %{{y:.3f}}<extra></extra>\"\n",
    " )\n",
    " )\n",
    "\n",
    "fig_learning.update_layout(\n",
    " title=\"Learning Curves: Model Performance vs Training Set Size\",\n",
    " xaxis_title=\"Training Set Size\",\n",
    " yaxis_title=\"R² Score\",\n",
    " height=500\n",
    ")\n",
    "fig_learning.show()\n",
    "\n",
    "# 6.3 Grid search for optimal hyperparameters\n",
    "print(\"\\n6.3 Grid Search Optimization:\")\n",
    "\n",
    "# Define parameter grids\n",
    "ridge_param_grid = {'alpha': np.logspace(-4, 4, 20)}\n",
    "lasso_param_grid = {'alpha': np.logspace(-4, 2, 20)}\n",
    "elasticnet_param_grid = {\n",
    " 'alpha': np.logspace(-4, 2, 10),\n",
    " 'l1_ratio': [0.1, 0.3, 0.5, 0.7, 0.9]\n",
    "}\n",
    "\n",
    "# Grid search for each method\n",
    "ridge_grid = GridSearchCV(Ridge(), ridge_param_grid, cv=5, scoring='r2', n_jobs=-1)\n",
    "lasso_grid = GridSearchCV(Lasso(max_iter=2000), lasso_param_grid, cv=5, scoring='r2', n_jobs=-1)\n",
    "elasticnet_grid = GridSearchCV(ElasticNet(max_iter=2000), elasticnet_param_grid, cv=5, scoring='r2', n_jobs=-1)\n",
    "\n",
    "# Fit grid searches\n",
    "ridge_grid.fit(X_train_scaled, y_train)\n",
    "lasso_grid.fit(X_train_scaled, y_train)\n",
    "elasticnet_grid.fit(X_train_scaled, y_train)\n",
    "\n",
    "print(\"Grid Search Results:\")\n",
    "print(f\"• Ridge - Best alpha: {ridge_grid.best_params_['alpha']:.6f}, CV Score: {ridge_grid.best_score_:.4f}\")\n",
    "print(f\"• Lasso - Best alpha: {lasso_grid.best_params_['alpha']:.6f}, CV Score: {lasso_grid.best_score_:.4f}\")\n",
    "print(f\"• Elastic Net - Best params: α={elasticnet_grid.best_params_['alpha']:.6f}, \"\n",
    " f\"l1_ratio={elasticnet_grid.best_params_['l1_ratio']:.3f}, CV Score: {elasticnet_grid.best_score_:.4f}\")\n",
    "\n",
    "# Compare grid search results\n",
    "grid_comparison = pd.DataFrame({\n",
    " 'Method': ['Ridge (Grid)', 'Lasso (Grid)', 'Elastic Net (Grid)'],\n",
    " 'CV_Score': [ridge_grid.best_score_, lasso_grid.best_score_, elasticnet_grid.best_score_],\n",
    " 'Best_Alpha': [ridge_grid.best_params_['alpha'],\n",
    " lasso_grid.best_params_['alpha'],\n",
    " elasticnet_grid.best_params_['alpha']],\n",
    " 'Test_Score': [ridge_grid.score(X_test_scaled, y_test),\n",
    " lasso_grid.score(X_test_scaled, y_test),\n",
    " elasticnet_grid.score(X_test_scaled, y_test)]\n",
    "})\n",
    "\n",
    "print(f\"\\n Grid Search Performance Summary:\")\n",
    "print(grid_comparison.round(6))\n",
    "\n",
    "# Visualize grid search results\n",
    "fig_grid = go.Figure()\n",
    "\n",
    "fig_grid.add_trace(\n",
    " go.Bar(\n",
    " x=grid_comparison['Method'],\n",
    " y=grid_comparison['Test_Score'],\n",
    " name='Test Score',\n",
    " marker_color=['green', 'red', 'purple'],\n",
    " text=grid_comparison['Test_Score'].round(4),\n",
    " textposition='auto',\n",
    " hovertemplate=\"<b>%{x}</b><br>Test R²: %{y:.4f}<extra></extra>\"\n",
    " )\n",
    ")\n",
    "\n",
    "fig_grid.update_layout(\n",
    " title=\"Grid Search Results: Test Set Performance\",\n",
    " xaxis_title=\"Method\",\n",
    " yaxis_title=\"Test R² Score\",\n",
    " height=400\n",
    ")\n",
    "fig_grid.show()\n",
    "\n",
    "# Final model selection\n",
    "best_grid_idx = grid_comparison['Test_Score'].idxmax()\n",
    "best_grid_method = grid_comparison.loc[best_grid_idx, 'Method']\n",
    "best_grid_score = grid_comparison.loc[best_grid_idx, 'Test_Score']\n",
    "\n",
    "print(f\"\\n FINAL MODEL RECOMMENDATION:\")\n",
    "print(f\"• Best method: {best_grid_method}\")\n",
    "print(f\"• Test R² score: {best_grid_score:.4f}\")\n",
    "print(f\"• Improvement over linear regression: {((best_grid_score - test_r2_lr) / test_r2_lr * 100):.1f}%\")"
   ]
  },
  {
   "cell_type": "code",
   "execution_count": 11,
   "id": "fae9d553",
   "metadata": {},
   "outputs": [
    {
     "name": "stdout",
     "output_type": "stream",
     "text": [
      "\n",
      " 7. BUSINESS INSIGHTS AND FEATURE IMPORTANCE ANALYSIS\n",
      "==========================================================\n",
      " Lasso Regression - Key Business Insights:\n",
      "========================================\n",
      "• Marketing Spend: positive impact (coef: 0.230)\n",
      " - 1 unit increase increases target by 0.230\n",
      "• Product Quality: negative impact (coef: 0.000)\n",
      " - 1 unit increase decreases target by 0.000\n",
      "• Customer Satisfaction: negative impact (coef: 0.000)\n",
      " - 1 unit increase decreases target by 0.000\n",
      "• Competition Index: negative impact (coef: -0.000)\n",
      " - 1 unit increase decreases target by 0.000\n"
     ]
    },
    {
     "data": {
      "application/vnd.plotly.v1+json": {
       "config": {
        "plotlyServerURL": "https://plot.ly"
       },
       "data": [
        {
         "hovertemplate": "<b>%{x}</b><br>Coefficient: %{y:.3f}<extra></extra>",
         "marker": {
          "color": [
           "green",
           "green",
           "green",
           "green"
          ]
         },
         "name": "Coefficient",
         "text": {
          "bdata": "cT0K16NwzT8AAAAAAAAAAAAAAAAAAAAAAAAAAAAAAIA=",
          "dtype": "f8"
         },
         "textposition": "auto",
         "type": "bar",
         "x": [
          "marketing_spend",
          "product_quality",
          "customer_satisfaction",
          "competition_index"
         ],
         "y": {
          "bdata": "UUO94vl1zT8AAAAAAAAAAAAAAAAAAAAAAAAAAAAAAIA=",
          "dtype": "f8"
         }
        }
       ],
       "layout": {
        "height": 400,
        "template": {
         "data": {
          "bar": [
           {
            "error_x": {
             "color": "#2a3f5f"
            },
            "error_y": {
             "color": "#2a3f5f"
            },
            "marker": {
             "line": {
              "color": "#E5ECF6",
              "width": 0.5
             },
             "pattern": {
              "fillmode": "overlay",
              "size": 10,
              "solidity": 0.2
             }
            },
            "type": "bar"
           }
          ],
          "barpolar": [
           {
            "marker": {
             "line": {
              "color": "#E5ECF6",
              "width": 0.5
             },
             "pattern": {
              "fillmode": "overlay",
              "size": 10,
              "solidity": 0.2
             }
            },
            "type": "barpolar"
           }
          ],
          "carpet": [
           {
            "aaxis": {
             "endlinecolor": "#2a3f5f",
             "gridcolor": "white",
             "linecolor": "white",
             "minorgridcolor": "white",
             "startlinecolor": "#2a3f5f"
            },
            "baxis": {
             "endlinecolor": "#2a3f5f",
             "gridcolor": "white",
             "linecolor": "white",
             "minorgridcolor": "white",
             "startlinecolor": "#2a3f5f"
            },
            "type": "carpet"
           }
          ],
          "choropleth": [
           {
            "colorbar": {
             "outlinewidth": 0,
             "ticks": ""
            },
            "type": "choropleth"
           }
          ],
          "contour": [
           {
            "colorbar": {
             "outlinewidth": 0,
             "ticks": ""
            },
            "colorscale": [
             [
              0,
              "#0d0887"
             ],
             [
              0.1111111111111111,
              "#46039f"
             ],
             [
              0.2222222222222222,
              "#7201a8"
             ],
             [
              0.3333333333333333,
              "#9c179e"
             ],
             [
              0.4444444444444444,
              "#bd3786"
             ],
             [
              0.5555555555555556,
              "#d8576b"
             ],
             [
              0.6666666666666666,
              "#ed7953"
             ],
             [
              0.7777777777777778,
              "#fb9f3a"
             ],
             [
              0.8888888888888888,
              "#fdca26"
             ],
             [
              1,
              "#f0f921"
             ]
            ],
            "type": "contour"
           }
          ],
          "contourcarpet": [
           {
            "colorbar": {
             "outlinewidth": 0,
             "ticks": ""
            },
            "type": "contourcarpet"
           }
          ],
          "heatmap": [
           {
            "colorbar": {
             "outlinewidth": 0,
             "ticks": ""
            },
            "colorscale": [
             [
              0,
              "#0d0887"
             ],
             [
              0.1111111111111111,
              "#46039f"
             ],
             [
              0.2222222222222222,
              "#7201a8"
             ],
             [
              0.3333333333333333,
              "#9c179e"
             ],
             [
              0.4444444444444444,
              "#bd3786"
             ],
             [
              0.5555555555555556,
              "#d8576b"
             ],
             [
              0.6666666666666666,
              "#ed7953"
             ],
             [
              0.7777777777777778,
              "#fb9f3a"
             ],
             [
              0.8888888888888888,
              "#fdca26"
             ],
             [
              1,
              "#f0f921"
             ]
            ],
            "type": "heatmap"
           }
          ],
          "histogram": [
           {
            "marker": {
             "pattern": {
              "fillmode": "overlay",
              "size": 10,
              "solidity": 0.2
             }
            },
            "type": "histogram"
           }
          ],
          "histogram2d": [
           {
            "colorbar": {
             "outlinewidth": 0,
             "ticks": ""
            },
            "colorscale": [
             [
              0,
              "#0d0887"
             ],
             [
              0.1111111111111111,
              "#46039f"
             ],
             [
              0.2222222222222222,
              "#7201a8"
             ],
             [
              0.3333333333333333,
              "#9c179e"
             ],
             [
              0.4444444444444444,
              "#bd3786"
             ],
             [
              0.5555555555555556,
              "#d8576b"
             ],
             [
              0.6666666666666666,
              "#ed7953"
             ],
             [
              0.7777777777777778,
              "#fb9f3a"
             ],
             [
              0.8888888888888888,
              "#fdca26"
             ],
             [
              1,
              "#f0f921"
             ]
            ],
            "type": "histogram2d"
           }
          ],
          "histogram2dcontour": [
           {
            "colorbar": {
             "outlinewidth": 0,
             "ticks": ""
            },
            "colorscale": [
             [
              0,
              "#0d0887"
             ],
             [
              0.1111111111111111,
              "#46039f"
             ],
             [
              0.2222222222222222,
              "#7201a8"
             ],
             [
              0.3333333333333333,
              "#9c179e"
             ],
             [
              0.4444444444444444,
              "#bd3786"
             ],
             [
              0.5555555555555556,
              "#d8576b"
             ],
             [
              0.6666666666666666,
              "#ed7953"
             ],
             [
              0.7777777777777778,
              "#fb9f3a"
             ],
             [
              0.8888888888888888,
              "#fdca26"
             ],
             [
              1,
              "#f0f921"
             ]
            ],
            "type": "histogram2dcontour"
           }
          ],
          "mesh3d": [
           {
            "colorbar": {
             "outlinewidth": 0,
             "ticks": ""
            },
            "type": "mesh3d"
           }
          ],
          "parcoords": [
           {
            "line": {
             "colorbar": {
              "outlinewidth": 0,
              "ticks": ""
             }
            },
            "type": "parcoords"
           }
          ],
          "pie": [
           {
            "automargin": true,
            "type": "pie"
           }
          ],
          "scatter": [
           {
            "fillpattern": {
             "fillmode": "overlay",
             "size": 10,
             "solidity": 0.2
            },
            "type": "scatter"
           }
          ],
          "scatter3d": [
           {
            "line": {
             "colorbar": {
              "outlinewidth": 0,
              "ticks": ""
             }
            },
            "marker": {
             "colorbar": {
              "outlinewidth": 0,
              "ticks": ""
             }
            },
            "type": "scatter3d"
           }
          ],
          "scattercarpet": [
           {
            "marker": {
             "colorbar": {
              "outlinewidth": 0,
              "ticks": ""
             }
            },
            "type": "scattercarpet"
           }
          ],
          "scattergeo": [
           {
            "marker": {
             "colorbar": {
              "outlinewidth": 0,
              "ticks": ""
             }
            },
            "type": "scattergeo"
           }
          ],
          "scattergl": [
           {
            "marker": {
             "colorbar": {
              "outlinewidth": 0,
              "ticks": ""
             }
            },
            "type": "scattergl"
           }
          ],
          "scattermap": [
           {
            "marker": {
             "colorbar": {
              "outlinewidth": 0,
              "ticks": ""
             }
            },
            "type": "scattermap"
           }
          ],
          "scattermapbox": [
           {
            "marker": {
             "colorbar": {
              "outlinewidth": 0,
              "ticks": ""
             }
            },
            "type": "scattermapbox"
           }
          ],
          "scatterpolar": [
           {
            "marker": {
             "colorbar": {
              "outlinewidth": 0,
              "ticks": ""
             }
            },
            "type": "scatterpolar"
           }
          ],
          "scatterpolargl": [
           {
            "marker": {
             "colorbar": {
              "outlinewidth": 0,
              "ticks": ""
             }
            },
            "type": "scatterpolargl"
           }
          ],
          "scatterternary": [
           {
            "marker": {
             "colorbar": {
              "outlinewidth": 0,
              "ticks": ""
             }
            },
            "type": "scatterternary"
           }
          ],
          "surface": [
           {
            "colorbar": {
             "outlinewidth": 0,
             "ticks": ""
            },
            "colorscale": [
             [
              0,
              "#0d0887"
             ],
             [
              0.1111111111111111,
              "#46039f"
             ],
             [
              0.2222222222222222,
              "#7201a8"
             ],
             [
              0.3333333333333333,
              "#9c179e"
             ],
             [
              0.4444444444444444,
              "#bd3786"
             ],
             [
              0.5555555555555556,
              "#d8576b"
             ],
             [
              0.6666666666666666,
              "#ed7953"
             ],
             [
              0.7777777777777778,
              "#fb9f3a"
             ],
             [
              0.8888888888888888,
              "#fdca26"
             ],
             [
              1,
              "#f0f921"
             ]
            ],
            "type": "surface"
           }
          ],
          "table": [
           {
            "cells": {
             "fill": {
              "color": "#EBF0F8"
             },
             "line": {
              "color": "white"
             }
            },
            "header": {
             "fill": {
              "color": "#C8D4E3"
             },
             "line": {
              "color": "white"
             }
            },
            "type": "table"
           }
          ]
         },
         "layout": {
          "annotationdefaults": {
           "arrowcolor": "#2a3f5f",
           "arrowhead": 0,
           "arrowwidth": 1
          },
          "autotypenumbers": "strict",
          "coloraxis": {
           "colorbar": {
            "outlinewidth": 0,
            "ticks": ""
           }
          },
          "colorscale": {
           "diverging": [
            [
             0,
             "#8e0152"
            ],
            [
             0.1,
             "#c51b7d"
            ],
            [
             0.2,
             "#de77ae"
            ],
            [
             0.3,
             "#f1b6da"
            ],
            [
             0.4,
             "#fde0ef"
            ],
            [
             0.5,
             "#f7f7f7"
            ],
            [
             0.6,
             "#e6f5d0"
            ],
            [
             0.7,
             "#b8e186"
            ],
            [
             0.8,
             "#7fbc41"
            ],
            [
             0.9,
             "#4d9221"
            ],
            [
             1,
             "#276419"
            ]
           ],
           "sequential": [
            [
             0,
             "#0d0887"
            ],
            [
             0.1111111111111111,
             "#46039f"
            ],
            [
             0.2222222222222222,
             "#7201a8"
            ],
            [
             0.3333333333333333,
             "#9c179e"
            ],
            [
             0.4444444444444444,
             "#bd3786"
            ],
            [
             0.5555555555555556,
             "#d8576b"
            ],
            [
             0.6666666666666666,
             "#ed7953"
            ],
            [
             0.7777777777777778,
             "#fb9f3a"
            ],
            [
             0.8888888888888888,
             "#fdca26"
            ],
            [
             1,
             "#f0f921"
            ]
           ],
           "sequentialminus": [
            [
             0,
             "#0d0887"
            ],
            [
             0.1111111111111111,
             "#46039f"
            ],
            [
             0.2222222222222222,
             "#7201a8"
            ],
            [
             0.3333333333333333,
             "#9c179e"
            ],
            [
             0.4444444444444444,
             "#bd3786"
            ],
            [
             0.5555555555555556,
             "#d8576b"
            ],
            [
             0.6666666666666666,
             "#ed7953"
            ],
            [
             0.7777777777777778,
             "#fb9f3a"
            ],
            [
             0.8888888888888888,
             "#fdca26"
            ],
            [
             1,
             "#f0f921"
            ]
           ]
          },
          "colorway": [
           "#636efa",
           "#EF553B",
           "#00cc96",
           "#ab63fa",
           "#FFA15A",
           "#19d3f3",
           "#FF6692",
           "#B6E880",
           "#FF97FF",
           "#FECB52"
          ],
          "font": {
           "color": "#2a3f5f"
          },
          "geo": {
           "bgcolor": "white",
           "lakecolor": "white",
           "landcolor": "#E5ECF6",
           "showlakes": true,
           "showland": true,
           "subunitcolor": "white"
          },
          "hoverlabel": {
           "align": "left"
          },
          "hovermode": "closest",
          "mapbox": {
           "style": "light"
          },
          "paper_bgcolor": "white",
          "plot_bgcolor": "#E5ECF6",
          "polar": {
           "angularaxis": {
            "gridcolor": "white",
            "linecolor": "white",
            "ticks": ""
           },
           "bgcolor": "#E5ECF6",
           "radialaxis": {
            "gridcolor": "white",
            "linecolor": "white",
            "ticks": ""
           }
          },
          "scene": {
           "xaxis": {
            "backgroundcolor": "#E5ECF6",
            "gridcolor": "white",
            "gridwidth": 2,
            "linecolor": "white",
            "showbackground": true,
            "ticks": "",
            "zerolinecolor": "white"
           },
           "yaxis": {
            "backgroundcolor": "#E5ECF6",
            "gridcolor": "white",
            "gridwidth": 2,
            "linecolor": "white",
            "showbackground": true,
            "ticks": "",
            "zerolinecolor": "white"
           },
           "zaxis": {
            "backgroundcolor": "#E5ECF6",
            "gridcolor": "white",
            "gridwidth": 2,
            "linecolor": "white",
            "showbackground": true,
            "ticks": "",
            "zerolinecolor": "white"
           }
          },
          "shapedefaults": {
           "line": {
            "color": "#2a3f5f"
           }
          },
          "ternary": {
           "aaxis": {
            "gridcolor": "white",
            "linecolor": "white",
            "ticks": ""
           },
           "baxis": {
            "gridcolor": "white",
            "linecolor": "white",
            "ticks": ""
           },
           "bgcolor": "#E5ECF6",
           "caxis": {
            "gridcolor": "white",
            "linecolor": "white",
            "ticks": ""
           }
          },
          "title": {
           "x": 0.05
          },
          "xaxis": {
           "automargin": true,
           "gridcolor": "white",
           "linecolor": "white",
           "ticks": "",
           "title": {
            "standoff": 15
           },
           "zerolinecolor": "white",
           "zerolinewidth": 2
          },
          "yaxis": {
           "automargin": true,
           "gridcolor": "white",
           "linecolor": "white",
           "ticks": "",
           "title": {
            "standoff": 15
           },
           "zerolinecolor": "white",
           "zerolinewidth": 2
          }
         }
        },
        "title": {
         "text": "Lasso Regression: Business Feature Impact Analysis"
        },
        "xaxis": {
         "title": {
          "text": "Business Features"
         }
        },
        "yaxis": {
         "title": {
          "text": "Coefficient Value"
         }
        }
       }
      }
     },
     "metadata": {},
     "output_type": "display_data"
    },
    {
     "name": "stdout",
     "output_type": "stream",
     "text": [
      "\n",
      " Business ROI Analysis:\n",
      "• Increase Marketing: Expected target change = 230.163\n",
      "• Improve Quality: Expected target change = 0.000\n",
      "• Boost Satisfaction: Expected target change = 0.000\n",
      "• Reduce Competition: Expected target change = 0.000\n",
      "\n",
      " Model Stability Analysis:\n",
      "• Cross-validation R² mean: 0.9895 ± 0.0020\n",
      "• Coefficient of variation: 0.002\n",
      "• Model stability: High\n",
      "• Feature selection rate: 42.6%\n",
      "• Features eliminated: 31\n",
      "• Important features retained: 15\n",
      "• Noise features eliminated: 28\n",
      "\n",
      " Model Risk Assessment:\n",
      "• HIGH RISK: Very large coefficients detected\n",
      "• MEDIUM RISK: Moderate coefficient range\n",
      "• Lasso provides automatic feature selection\n"
     ]
    }
   ],
   "source": [
    "# 7. BUSINESS INSIGHTS AND FEATURE IMPORTANCE ANALYSIS\n",
    "print(\"\\n 7. BUSINESS INSIGHTS AND FEATURE IMPORTANCE ANALYSIS\")\n",
    "print(\"=\" * 58)\n",
    "\n",
    "# Use the best performing model for business insights\n",
    "if best_grid_method == 'Ridge (Grid)':\n",
    " best_model = ridge_grid.best_estimator_\n",
    " model_name = \"Ridge Regression\"\n",
    "elif best_grid_method == 'Lasso (Grid)':\n",
    " best_model = lasso_grid.best_estimator_\n",
    " model_name = \"Lasso Regression\"\n",
    "else:\n",
    " best_model = elasticnet_grid.best_estimator_\n",
    " model_name = \"Elastic Net\"\n",
    "\n",
    "# Feature importance analysis\n",
    "feature_importance_final = pd.DataFrame({\n",
    " 'feature': feature_cols,\n",
    " 'coefficient': best_model.coef_,\n",
    " 'abs_coefficient': np.abs(best_model.coef_),\n",
    " 'selected': best_model.coef_ != 0\n",
    "})\n",
    "\n",
    "# Add business context for key features\n",
    "business_features = ['marketing_spend', 'product_quality', 'customer_satisfaction', 'competition_index']\n",
    "business_importance = feature_importance_final[\n",
    " feature_importance_final['feature'].isin(business_features)\n",
    "].sort_values('abs_coefficient', ascending=False)\n",
    "\n",
    "print(f\" {model_name} - Key Business Insights:\")\n",
    "print(\"=\" * 40)\n",
    "\n",
    "for _, row in business_importance.iterrows():\n",
    "    feature = row['feature']\n",
    "    coef = row['coefficient']\n",
    "\n",
    "    if coef > 0:\n",
    "        direction = \"increases\"\n",
    "        impact = \"positive\"\n",
    "    else:\n",
    "        direction = \"decreases\"\n",
    "        impact = \"negative\"\n",
    "\n",
    "    print(f\"• {feature.replace('_', ' ').title()}: {impact} impact (coef: {coef:.3f})\")\n",
    "    print(f\" - 1 unit increase {direction} target by {abs(coef):.3f}\")\n",
    "\n",
    "# Create feature importance visualization for business features\n",
    "fig_business = go.Figure()\n",
    "\n",
    "fig_business.add_trace(\n",
    " go.Bar(\n",
    " x=business_importance['feature'],\n",
    " y=business_importance['coefficient'],\n",
    " marker_color=['red' if c < 0 else 'green' for c in business_importance['coefficient']],\n",
    " name='Coefficient',\n",
    " text=business_importance['coefficient'].round(3),\n",
    " textposition='auto',\n",
    " hovertemplate=\"<b>%{x}</b><br>Coefficient: %{y:.3f}<extra></extra>\"\n",
    " )\n",
    ")\n",
    "\n",
    "fig_business.update_layout(\n",
    " title=f\"{model_name}: Business Feature Impact Analysis\",\n",
    " xaxis_title=\"Business Features\",\n",
    " yaxis_title=\"Coefficient Value\",\n",
    " height=400\n",
    ")\n",
    "fig_business.show()\n",
    "\n",
    "# ROI and actionability analysis\n",
    "print(f\"\\n Business ROI Analysis:\")\n",
    "\n",
    "# Simulate business scenarios\n",
    "scenarios = {\n",
    " 'Increase Marketing': {'marketing_spend': 1000, 'others': 0},\n",
    " 'Improve Quality': {'product_quality': 1, 'others': 0},\n",
    " 'Boost Satisfaction': {'customer_satisfaction': 1, 'others': 0},\n",
    " 'Reduce Competition': {'competition_index': -1, 'others': 0}\n",
    "}\n",
    "\n",
    "for scenario_name, changes in scenarios.items():\n",
    "    total_impact = 0\n",
    "\n",
    "    for feature, change in changes.items():\n",
    "        if feature != 'others' and feature in business_features:\n",
    "            # Find coefficient for this feature\n",
    "            feature_coef = business_importance[\n",
    "                business_importance['feature'] == feature\n",
    "            ]['coefficient'].iloc[0] if not business_importance[\n",
    "                business_importance['feature'] == feature\n",
    "            ].empty else 0\n",
    "\n",
    "            total_impact += feature_coef * change\n",
    "\n",
    "    print(f\"• {scenario_name}: Expected target change = {total_impact:.3f}\")\n",
    "\n",
    "# Model stability analysis\n",
    "print(f\"\\n Model Stability Analysis:\")\n",
    "\n",
    "# Check coefficient stability across CV folds\n",
    "cv_scores = cross_val_score(best_model, X_train_scaled, y_train, cv=5, scoring='r2')\n",
    "cv_mean = cv_scores.mean()\n",
    "cv_std = cv_scores.std()\n",
    "\n",
    "print(f\"• Cross-validation R² mean: {cv_mean:.4f} ± {cv_std:.4f}\")\n",
    "print(f\"• Coefficient of variation: {cv_std/cv_mean:.3f}\")\n",
    "print(f\"• Model stability: {'High' if cv_std < 0.02 else 'Medium' if cv_std < 0.05 else 'Low'}\")\n",
    "\n",
    "# Feature selection stability (for Lasso/Elastic Net)\n",
    "if hasattr(best_model, 'l1_ratio') or 'Lasso' in model_name:\n",
    "    selected_features_count = np.sum(best_model.coef_ != 0)\n",
    "    selection_rate = selected_features_count / len(feature_cols)\n",
    "\n",
    "    print(f\"• Feature selection rate: {selection_rate:.1%}\")\n",
    "    print(f\"• Features eliminated: {len(feature_cols) - selected_features_count}\")\n",
    "\n",
    "    # Identify most stable features\n",
    "    important_selected = [f for f in feature_cols if 'Important' in f and\n",
    "                         feature_importance_final[feature_importance_final['feature'] == f]['selected'].iloc[0]]\n",
    "    noise_eliminated = [f for f in feature_cols if 'Noise' in f and\n",
    "                       not feature_importance_final[feature_importance_final['feature'] == f]['selected'].iloc[0]]\n",
    "\n",
    "    print(f\"• Important features retained: {len(important_selected)}\")\n",
    "    print(f\"• Noise features eliminated: {len(noise_eliminated)}\")\n",
    "\n",
    "# Risk assessment\n",
    "print(f\"\\n Model Risk Assessment:\")\n",
    "\n",
    "# Check for potential issues\n",
    "max_coef = np.max(np.abs(best_model.coef_))\n",
    "coef_range = np.max(best_model.coef_) - np.min(best_model.coef_)\n",
    "\n",
    "if max_coef > 10:\n",
    " print(\"• HIGH RISK: Very large coefficients detected\")\n",
    "elif max_coef > 5:\n",
    " print(\"• MEDIUM RISK: Moderately large coefficients\")\n",
    "else:\n",
    " print(\"• LOW RISK: Coefficients well-controlled\")\n",
    "\n",
    "if coef_range > 20:\n",
    " print(\"• HIGH RISK: Very wide coefficient range\")\n",
    "elif coef_range > 10:\n",
    " print(\"• MEDIUM RISK: Moderate coefficient range\")\n",
    "else:\n",
    " print(\"• LOW RISK: Narrow coefficient range\")\n",
    "\n",
    "# Multicollinearity check\n",
    "if 'Ridge' in model_name:\n",
    " print(\"• Ridge handles multicollinearity well\")\n",
    "elif 'Lasso' in model_name:\n",
    " print(\"• Lasso provides automatic feature selection\")\n",
    "else:\n",
    " print(\"• Elastic Net balances feature selection and multicollinearity\")"
   ]
  },
  {
   "cell_type": "markdown",
   "id": "2da6abb3",
   "metadata": {},
   "source": [
    "# LEARNING SUMMARY: Ridge & Lasso Regression\n",
    "\n",
    "## Key Concepts Mastered\n",
    "\n",
    "### 1. **Regularization Fundamentals**\n",
    "- **Ridge (L2)**: Shrinks coefficients toward zero, handles multicollinearity\n",
    "- **Lasso (L1)**: Forces coefficients to exactly zero, automatic feature selection\n",
    "- **Elastic Net**: Combines L1 + L2 benefits, balanced approach\n",
    "- **Bias-Variance Tradeoff**: Understanding the regularization effect\n",
    "\n",
    "### 2. **Hyperparameter Optimization**\n",
    "- **Cross-Validation**: Robust parameter selection methodology\n",
    "- **Regularization Path**: Understanding coefficient evolution with alpha\n",
    "- **Grid Search**: Systematic hyperparameter optimization\n",
    "- **Validation Curves**: Visualizing model complexity vs performance\n",
    "\n",
    "### 3. **Feature Selection & Interpretation**\n",
    "- **Automatic Selection**: Lasso's ability to eliminate irrelevant features\n",
    "- **Coefficient Stability**: Measuring feature importance reliability\n",
    "- **Business Impact**: Translating coefficients to actionable insights\n",
    "- **Model Interpretability**: Understanding feature contributions\n",
    "\n",
    "## Business Applications\n",
    "\n",
    "### Predictive Modeling\n",
    "- **High-Dimensional Data**: Genomics, text analysis, sensor data\n",
    "- **Feature Engineering**: Automated selection from large feature sets\n",
    "- **Risk Modeling**: Financial credit scoring, insurance pricing\n",
    "- **Marketing Analytics**: Attribution modeling, budget optimization\n",
    "\n",
    "### Decision Support\n",
    "- Regularized models provide:\n",
    " - Stable predictions with many variables\n",
    " - Clear feature importance rankings\n",
    " - Reduced overfitting risk\n",
    " - Interpretable business insights\n",
    "\n",
    "## Next Steps\n",
    "\n",
    "1. **Tier 3: Time Series Models** - Apply regularization to temporal data\n",
    "2. **Advanced Regularization** - Group Lasso, adaptive methods\n",
    "3. **Ensemble Methods** - Combine regularized models\n",
    "4. **Deep Learning** - Regularization in neural networks\n",
    "\n",
    "## Pro Tips\n",
    "\n",
    "- **Always scale features** before applying regularization\n",
    "- **Use cross-validation** for reliable hyperparameter selection\n",
    "- **Ridge for multicollinearity**, Lasso for feature selection\n",
    "- **Elastic Net for best of both worlds**\n",
    "- **Monitor coefficient paths** to understand model behavior\n",
    "\n",
    "## Common Pitfalls\n",
    "\n",
    "- **Scale Sensitivity**: Regularization severely affected by feature scales\n",
    "- **Alpha Selection**: Too high causes underfitting, too low allows overfitting\n",
    "- **Feature Leakage**: Ensure temporal validity in time series data\n",
    "- **Interpretation Limits**: Coefficients don't always imply causation\n",
    "- **Stability Issues**: Feature selection can be unstable with small datasets\n",
    "\n",
    "## Advanced Considerations\n",
    "\n",
    "### When to Use Each Method:\n",
    "- **Ridge**: Multicollinear features, all features potentially useful\n",
    "- **Lasso**: Need feature selection, sparse solutions preferred\n",
    "- **Elastic Net**: Grouped variables, balanced selection and shrinkage\n",
    "- **Linear Regression**: Small datasets, well-understood feature relationships\n",
    "\n",
    "### Performance Optimization:\n",
    "- Use warm starts for regularization path computation\n",
    "- Consider coordinate descent algorithms for large datasets\n",
    "- Implement early stopping for convergence efficiency\n",
    "- Use cross-validation strategically to balance accuracy and speed\n",
    "\n",
    "**Remember**: *Regularization is about finding the sweet spot between model complexity and generalization - let the data guide your choice of regularization strength!*"
   ]
  }
 ],
 "metadata": {
  "kernelspec": {
   "display_name": ".venv",
   "language": "python",
   "name": "python3"
  },
  "language_info": {
   "codemirror_mode": {
    "name": "ipython",
    "version": 3
   },
   "file_extension": ".py",
   "mimetype": "text/x-python",
   "name": "python",
   "nbconvert_exporter": "python",
   "pygments_lexer": "ipython3",
   "version": "3.13.7"
  }
 },
 "nbformat": 4,
 "nbformat_minor": 5
}
