{
 "cells": [
  {
   "cell_type": "markdown",
   "metadata": {},
   "source": [
    "# Tier 2: k-Nearest Neighbors (k-NN)\n",
    "\n",
    "---\n",
    "\n",
    "**Author:** Brandon Deloatch\n",
    "**Affiliation:** Quipu Research Labs, LLC\n",
    "**Date:** 2025-10-02\n",
    "**Version:** v1.3\n",
    "**License:** MIT\n",
    "**Notebook ID:** f14d64a5-c6b6-4cca-b462-101d78787dab\n",
    "\n",
    "---\n",
    "\n",
    "## Citation\n",
    "Brandon Deloatch, \"Tier 2: k-Nearest Neighbors (k-NN),\" Quipu Research Labs, LLC, v1.3, 2025-10-02.\n",
    "\n",
    "Please cite this notebook if used or adapted in publications, presentations, or derivative work.\n",
    "\n",
    "---\n",
    "\n",
    "## Contributors / Acknowledgments\n",
    "- **Primary Author:** Brandon Deloatch (Quipu Research Labs, LLC)\n",
    "- **Institutional Support:** Quipu Research Labs, LLC - Advanced Analytics Division\n",
    "- **Technical Framework:** Built on scikit-learn, pandas, numpy, and plotly ecosystems\n",
    "- **Methodological Foundation:** Statistical learning principles and modern data science best practices\n",
    "\n",
    "---\n",
    "\n",
    "## Version History\n",
    "| Version | Date | Notes |\n",
    "|---------|------|-------|\n",
    "| v1.3 | 2025-10-02 | Enhanced professional formatting, comprehensive documentation, interactive visualizations |\n",
    "| v1.2 | 2024-09-15 | Updated analysis methods, improved data generation algorithms |\n",
    "| v1.0 | 2024-06-10 | Initial release with core analytical framework |\n",
    "\n",
    "---\n",
    "\n",
    "## Environment Dependencies\n",
    "- **Python:** 3.8+\n",
    "- **Core Libraries:** pandas 2.0+, numpy 1.24+, scikit-learn 1.3+\n",
    "- **Visualization:** plotly 5.0+, matplotlib 3.7+\n",
    "- **Statistical:** scipy 1.10+, statsmodels 0.14+\n",
    "- **Development:** jupyter-lab 4.0+, ipywidgets 8.0+\n",
    "\n",
    "> **Reproducibility Note:** Use requirements.txt or environment.yml for exact dependency matching.\n",
    "\n",
    "---\n",
    "\n",
    "## Data Provenance\n",
    "| Dataset | Source | License | Notes |\n",
    "|---------|--------|---------|-------|\n",
    "| Synthetic Data | Generated in-notebook | MIT | Custom algorithms for realistic simulation |\n",
    "| Statistical Distributions | NumPy/SciPy | BSD-3-Clause | Standard library implementations |\n",
    "| ML Algorithms | Scikit-learn | BSD-3-Clause | Industry-standard implementations |\n",
    "| Visualization Schemas | Plotly | MIT | Interactive dashboard frameworks |\n",
    "\n",
    "---\n",
    "\n",
    "## Execution Provenance Logs\n",
    "- **Created:** 2025-10-02\n",
    "- **Notebook ID:** f14d64a5-c6b6-4cca-b462-101d78787dab\n",
    "- **Execution Environment:** Jupyter Lab / VS Code\n",
    "- **Computational Requirements:** Standard laptop/workstation (2GB+ RAM recommended)\n",
    "\n",
    "> **Auto-tracking:** Execution metadata can be programmatically captured for reproducibility.\n",
    "\n",
    "---\n",
    "\n",
    "## Disclaimer & Responsible Use\n",
    "This notebook is provided \"as-is\" for educational, research, and professional development purposes. Users assume full responsibility for any results, applications, or decisions derived from this analysis.\n",
    "\n",
    "**Professional Standards:**\n",
    "- Validate all results against domain expertise and additional data sources\n",
    "- Respect licensing and attribution requirements for all dependencies\n",
    "- Follow ethical guidelines for data analysis and algorithmic decision-making\n",
    "- Credit all methodological sources and derivative frameworks appropriately\n",
    "\n",
    "**Academic & Commercial Use:**\n",
    "- Permitted under MIT license with proper attribution\n",
    "- Suitable for educational curriculum and professional training\n",
    "- Appropriate for commercial adaptation with citation requirements\n",
    "- Recommended for reproducible research and transparent analytics\n",
    "\n",
    "---\n",
    "\n"
   ]
  },
  {
   "cell_type": "code",
   "execution_count": 1,
   "id": "8aed6a26",
   "metadata": {},
   "outputs": [
    {
     "name": "stdout",
     "output_type": "stream",
     "text": [
      " Tier 2: k-Nearest Neighbors (k-NN) - Libraries Loaded Successfully!\n",
      "===========================================================================\n",
      "Available k-NN Techniques:\n",
      "• k-NN Classification - Instance-based categorical prediction\n",
      "• k-NN Regression - Local averaging for continuous targets\n",
      "• Distance Metrics - Euclidean, Manhattan, Minkowski analysis\n",
      "• Optimal k Selection - Cross-validation and elbow method\n",
      "• Feature Scaling - Standardization and normalization impact\n",
      "• Neighborhood Analysis - Local pattern and density exploration\n"
     ]
    }
   ],
   "source": [
    "# Import Essential Libraries\n",
    "import pandas as pd\n",
    "import numpy as np\n",
    "import matplotlib.pyplot as plt\n",
    "import seaborn as sns\n",
    "import plotly.express as px\n",
    "import plotly.graph_objects as go\n",
    "from plotly.subplots import make_subplots\n",
    "import plotly.figure_factory as ff\n",
    "\n",
    "# Scikit-learn imports\n",
    "from sklearn.neighbors import KNeighborsClassifier, KNeighborsRegressor\n",
    "from sklearn.model_selection import train_test_split, cross_val_score, GridSearchCV\n",
    "from sklearn.preprocessing import StandardScaler, MinMaxScaler, LabelEncoder\n",
    "from sklearn.metrics import accuracy_score, classification_report, confusion_matrix\n",
    "from sklearn.metrics import mean_squared_error, r2_score, roc_curve, auc\n",
    "from sklearn.metrics import precision_recall_curve, mean_absolute_error\n",
    "from sklearn.datasets import make_classification, make_regression\n",
    "\n",
    "# Distance metrics\n",
    "from sklearn.metrics.pairwise import euclidean_distances, manhattan_distances\n",
    "from sklearn.neighbors import NearestNeighbors\n",
    "\n",
    "import warnings\n",
    "warnings.filterwarnings('ignore')\n",
    "\n",
    "print(\" Tier 2: k-Nearest Neighbors (k-NN) - Libraries Loaded Successfully!\")\n",
    "print(\"=\" * 75)\n",
    "print(\"Available k-NN Techniques:\")\n",
    "print(\"• k-NN Classification - Instance-based categorical prediction\")\n",
    "print(\"• k-NN Regression - Local averaging for continuous targets\")\n",
    "print(\"• Distance Metrics - Euclidean, Manhattan, Minkowski analysis\")\n",
    "print(\"• Optimal k Selection - Cross-validation and elbow method\")\n",
    "print(\"• Feature Scaling - Standardization and normalization impact\")\n",
    "print(\"• Neighborhood Analysis - Local pattern and density exploration\")"
   ]
  },
  {
   "cell_type": "code",
   "execution_count": 4,
   "id": "992d3691",
   "metadata": {},
   "outputs": [
    {
     "name": "stdout",
     "output_type": "stream",
     "text": [
      " Generating k-NN optimized datasets...\n",
      "Regression Dataset Shape: (1000, 9)\n",
      "Classification Dataset Shape: (1000, 9)\n",
      "\n",
      "Regression Dataset (House Price Prediction):\n",
      "    latitude  longitude   house_size  bedrooms  bathrooms  age_years  \\\n",
      "0  37.173493  18.260941  1724.876868         4          3   5.784113   \n",
      "1  95.075462  54.073995  1773.031403         5          4   6.406421   \n",
      "2  73.095408  87.304912  4575.424578         3          5  15.213369   \n",
      "3  59.696013  73.179075  1795.921752         4          3   9.652686   \n",
      "4  15.213426  80.641091  2767.080219         3          3  20.459690   \n",
      "\n",
      "   neighborhood_quality  school_rating         price  \n",
      "0              6.495781       7.961903  6.323413e+05  \n",
      "1              4.600409       6.409431  5.936042e+05  \n",
      "2              4.810393       8.277374  1.083134e+06  \n",
      "3              7.856057       7.794546  6.735220e+05  \n",
      "4              5.764633       4.388408  6.840693e+05  \n",
      "\n",
      "Regression Target Statistics:\n",
      "count    1.000000e+03\n",
      "mean     8.031014e+05\n",
      "std      2.700506e+05\n",
      "min      2.369048e+05\n",
      "25%      6.162477e+05\n",
      "50%      7.604875e+05\n",
      "75%      9.307167e+05\n",
      "max      3.007327e+06\n",
      "Name: price, dtype: float64\n",
      "\n",
      "Classification Dataset (Customer Segmentation):\n",
      "   customer_age  annual_income  spending_score  years_customer  \\\n",
      "0     38.999138  116647.304822       40.872357        3.545552   \n",
      "1     44.173478   69407.256966       50.407024        3.688414   \n",
      "2     31.465243  124888.523982       60.667344        0.765346   \n",
      "3     40.004403   30000.000000       74.795045        9.500704   \n",
      "4     39.500492   64649.584476       58.931735        0.839291   \n",
      "\n",
      "   monthly_purchases  electronics_purchases  clothing_purchases  \\\n",
      "0                 10                    1.0                 4.0   \n",
      "1                  5                    4.0                 7.0   \n",
      "2                 11                    5.0                 2.0   \n",
      "3                  4                    3.0                 3.0   \n",
      "4                  7                    3.0                 7.0   \n",
      "\n",
      "   grocery_purchases  segment  \n",
      "0                7.0        3  \n",
      "1               13.0        1  \n",
      "2                6.0        0  \n",
      "3                9.0        3  \n",
      "4               10.0        1  \n",
      "\n",
      "Segment Distribution:\n",
      "• Premium Young: 37 (3.7%)\n",
      "• Family Focused: 158 (15.8%)\n",
      "• Conservative Savers: 72 (7.2%)\n",
      "• Budget Conscious: 733 (73.3%)\n"
     ]
    }
   ],
   "source": [
    "# Generate Comprehensive Datasets for k-NN Analysis\n",
    "np.random.seed(42)\n",
    "\n",
    "def generate_knn_datasets():\n",
    "    \"\"\"Generate datasets optimized for k-NN analysis with local patterns\"\"\"\n",
    "\n",
    "    # 1. REGRESSION DATASET - House Price Prediction with Spatial Components\n",
    "    n_samples = 1000\n",
    "\n",
    "    # Geographic coordinates (normalized to 0-100 range)\n",
    "    latitude = np.random.uniform(40.0, 45.0, n_samples)\n",
    "    longitude = np.random.uniform(-75.0, -70.0, n_samples)\n",
    "\n",
    "    # Normalize coordinates\n",
    "    lat_norm = (latitude - latitude.min()) / (latitude.max() - latitude.min()) * 100\n",
    "    lon_norm = (longitude - longitude.min()) / (longitude.max() - longitude.min()) * 100\n",
    "\n",
    "    # House characteristics\n",
    "    house_size = np.random.gamma(shape=2, scale=1200, size=n_samples) + 800\n",
    "    bedrooms = np.random.poisson(lam=3, size=n_samples) + 1\n",
    "    bathrooms = np.random.poisson(lam=2, size=n_samples) + 1\n",
    "    age_years = np.random.exponential(scale=15, size=n_samples) + 1\n",
    "\n",
    "    # Neighborhood quality (spatially correlated)\n",
    "    neighborhood_centers = [(20, 20), (50, 80), (80, 30), (30, 70)]\n",
    "    neighborhood_quality = np.zeros(n_samples)\n",
    "\n",
    "    for i in range(n_samples):\n",
    "        # Distance to nearest high-quality neighborhood center\n",
    "        distances = [np.sqrt((lat_norm[i] - center[0])**2 + (lon_norm[i] - center[1])**2)\n",
    "                     for center in neighborhood_centers]\n",
    "        min_distance = min(distances)\n",
    "\n",
    "        # Quality decreases with distance (local similarity)\n",
    "        neighborhood_quality[i] = max(0, 10 - min_distance/5) + np.random.normal(0, 1)\n",
    "        neighborhood_quality[i] = np.clip(neighborhood_quality[i], 1, 10)\n",
    "\n",
    "    # School district ratings (spatially clustered)\n",
    "    school_rating = np.zeros(n_samples)\n",
    "    school_centers = [(40, 40), (70, 70)]\n",
    "\n",
    "    for i in range(n_samples):\n",
    "        distances = [np.sqrt((lat_norm[i] - center[0])**2 + (lon_norm[i] - center[1])**2)\n",
    "                     for center in school_centers]\n",
    "        min_distance = min(distances)\n",
    "\n",
    "        school_rating[i] = max(1, 10 - min_distance/8) + np.random.normal(0, 0.5)\n",
    "        school_rating[i] = np.clip(school_rating[i], 1, 10)\n",
    "\n",
    "    # Generate prices with local effects (perfect for k-NN)\n",
    "    price = (house_size * 150 +\n",
    "             bedrooms * 15000 +\n",
    "             bathrooms * 10000 -\n",
    "             age_years * 2000 +\n",
    "             neighborhood_quality * 25000 +\n",
    "             school_rating * 20000 +\n",
    "             np.random.normal(0, 30000, n_samples))\n",
    "\n",
    "    price = np.maximum(price, 100000) # Minimum price\n",
    "\n",
    "    # Create regression DataFrame\n",
    "    regression_df = pd.DataFrame({\n",
    "        'latitude': lat_norm,\n",
    "        'longitude': lon_norm,\n",
    "        'house_size': house_size,\n",
    "        'bedrooms': bedrooms,\n",
    "        'bathrooms': bathrooms,\n",
    "        'age_years': age_years,\n",
    "        'neighborhood_quality': neighborhood_quality,\n",
    "        'school_rating': school_rating,\n",
    "        'price': price\n",
    "    })\n",
    "\n",
    "    # 2. CLASSIFICATION DATASET - Customer Segment Prediction\n",
    "    # Generate customer features with local clustering patterns\n",
    "    customer_age = np.random.normal(45, 15, n_samples)\n",
    "    customer_age = np.clip(customer_age, 18, 80)\n",
    "\n",
    "    annual_income = np.random.lognormal(mean=10.8, sigma=0.6, size=n_samples)\n",
    "    annual_income = np.clip(annual_income, 30000, 200000)\n",
    "\n",
    "    spending_score = np.random.beta(a=2, b=2, size=n_samples) * 100\n",
    "\n",
    "    # Create clustered segments based on age and income\n",
    "    segments = np.zeros(n_samples, dtype=int)\n",
    "\n",
    "    for i in range(n_samples):\n",
    "        # Young, high income, high spending\n",
    "        if customer_age[i] < 35 and annual_income[i] > 70000 and spending_score[i] > 60:\n",
    "            segments[i] = 0 # \"Premium Young\"\n",
    "        # Middle age, moderate income, family-oriented\n",
    "        elif 35 <= customer_age[i] <= 55 and 50000 <= annual_income[i] <= 90000:\n",
    "            segments[i] = 1 # \"Family Focused\"\n",
    "        # Older, high income, conservative spending\n",
    "        elif customer_age[i] > 55 and annual_income[i] > 60000 and spending_score[i] < 50:\n",
    "            segments[i] = 2 # \"Conservative Savers\"\n",
    "        # Budget conscious across all ages\n",
    "        else:\n",
    "            segments[i] = 3 # \"Budget Conscious\"\n",
    "\n",
    "    # Add some noise to make it more realistic\n",
    "    flip_probability = 0.1\n",
    "    noise_mask = np.random.random(n_samples) < flip_probability\n",
    "    segments[noise_mask] = np.random.randint(0, 4, size=noise_mask.sum())\n",
    "\n",
    "    # Additional features\n",
    "    years_customer = np.random.exponential(scale=3, size=n_samples) + 0.5\n",
    "    monthly_purchases = np.random.poisson(lam=8, size=n_samples) + 1\n",
    "\n",
    "    # Purchase categories (related to segments)\n",
    "    electronics_purchases = np.zeros(n_samples)\n",
    "    clothing_purchases = np.zeros(n_samples)\n",
    "    grocery_purchases = np.zeros(n_samples)\n",
    "\n",
    "    for i in range(n_samples):\n",
    "        if segments[i] == 0: # Premium Young\n",
    "            electronics_purchases[i] = np.random.poisson(5) + 2\n",
    "            clothing_purchases[i] = np.random.poisson(4) + 1\n",
    "            grocery_purchases[i] = np.random.poisson(3) + 1\n",
    "        elif segments[i] == 1: # Family Focused\n",
    "            electronics_purchases[i] = np.random.poisson(2) + 1\n",
    "            clothing_purchases[i] = np.random.poisson(6) + 2\n",
    "            grocery_purchases[i] = np.random.poisson(8) + 3\n",
    "        elif segments[i] == 2: # Conservative Savers\n",
    "            electronics_purchases[i] = np.random.poisson(1) + 1\n",
    "            clothing_purchases[i] = np.random.poisson(2) + 1\n",
    "            grocery_purchases[i] = np.random.poisson(4) + 2\n",
    "        else: # Budget Conscious\n",
    "            electronics_purchases[i] = np.random.poisson(1) + 1\n",
    "            clothing_purchases[i] = np.random.poisson(3) + 1\n",
    "            grocery_purchases[i] = np.random.poisson(6) + 2\n",
    "\n",
    "    # Create classification DataFrame\n",
    "    classification_df = pd.DataFrame({\n",
    "        'customer_age': customer_age,\n",
    "        'annual_income': annual_income,\n",
    "        'spending_score': spending_score,\n",
    "        'years_customer': years_customer,\n",
    "        'monthly_purchases': monthly_purchases,\n",
    "        'electronics_purchases': electronics_purchases,\n",
    "        'clothing_purchases': clothing_purchases,\n",
    "        'grocery_purchases': grocery_purchases,\n",
    "        'segment': segments\n",
    "    })\n",
    "\n",
    "    return regression_df, classification_df\n",
    "\n",
    "# Generate datasets\n",
    "print(\" Generating k-NN optimized datasets...\")\n",
    "regression_df, classification_df = generate_knn_datasets()\n",
    "\n",
    "print(f\"Regression Dataset Shape: {regression_df.shape}\")\n",
    "print(f\"Classification Dataset Shape: {classification_df.shape}\")\n",
    "\n",
    "print(\"\\nRegression Dataset (House Price Prediction):\")\n",
    "print(regression_df.head())\n",
    "print(\"\\nRegression Target Statistics:\")\n",
    "print(regression_df['price'].describe())\n",
    "\n",
    "print(\"\\nClassification Dataset (Customer Segmentation):\")\n",
    "print(classification_df.head())\n",
    "print(\"\\nSegment Distribution:\")\n",
    "segment_names = ['Premium Young', 'Family Focused', 'Conservative Savers', 'Budget Conscious']\n",
    "segment_counts = classification_df['segment'].value_counts().sort_index()\n",
    "for i, count in enumerate(segment_counts):\n",
    " print(f\"• {segment_names[i]}: {count} ({count/len(classification_df):.1%})\")"
   ]
  },
  {
   "cell_type": "code",
   "execution_count": 6,
   "id": "73ff4437",
   "metadata": {},
   "outputs": [
    {
     "name": "stdout",
     "output_type": "stream",
     "text": [
      " 1. k-NN REGRESSION ANALYSIS\n",
      "=================================\n",
      "Training set: (800, 8)\n",
      "Test set: (200, 8)\n",
      " Feature Scaling Impact on k-NN Regression:\n",
      "                         MSE      R2          MAE         RMSE\n",
      "StandardScaler  1.412389e+10  0.8020   93426.0394  118843.9618\n",
      "MinMaxScaler    3.494309e+10  0.5100  143271.4442  186930.7152\n",
      "No Scaling      6.454660e+09  0.9095   61705.2943   80340.8977\n",
      "\n",
      " Best scaling method: No Scaling\n"
     ]
    },
    {
     "data": {
      "application/vnd.plotly.v1+json": {
       "config": {
        "plotlyServerURL": "https://plot.ly"
       },
       "data": [
        {
         "marker": {
          "color": "blue"
         },
         "name": "R2",
         "offsetgroup": "0",
         "opacity": 0.7,
         "type": "bar",
         "x": [
          "StandardScaler",
          "MinMaxScaler",
          "No Scaling"
         ],
         "y": {
          "bdata": "yv/ZrZ6p6T+WQ/LBKVLgP953rDmRGu0/",
          "dtype": "f8"
         },
         "yaxis": "y"
        },
        {
         "marker": {
          "color": "red"
         },
         "name": "MSE",
         "offsetgroup": "1",
         "opacity": 0.7,
         "type": "bar",
         "x": [
          "StandardScaler",
          "MinMaxScaler",
          "No Scaling"
         ],
         "y": {
          "bdata": "5oZJoPDJ5j8AAAAAAADgP8+6sv63Aus/",
          "dtype": "f8"
         },
         "yaxis": "y2"
        },
        {
         "marker": {
          "color": "green"
         },
         "name": "MAE",
         "offsetgroup": "2",
         "opacity": 0.7,
         "type": "bar",
         "x": [
          "StandardScaler",
          "MinMaxScaler",
          "No Scaling"
         ],
         "y": {
          "bdata": "aAghcJBe4z8AAAAAAADgPzzH2ZnqXeY/",
          "dtype": "f8"
         },
         "yaxis": "y3"
        }
       ],
       "layout": {
        "barmode": "group",
        "height": 500,
        "template": {
         "data": {
          "bar": [
           {
            "error_x": {
             "color": "#2a3f5f"
            },
            "error_y": {
             "color": "#2a3f5f"
            },
            "marker": {
             "line": {
              "color": "#E5ECF6",
              "width": 0.5
             },
             "pattern": {
              "fillmode": "overlay",
              "size": 10,
              "solidity": 0.2
             }
            },
            "type": "bar"
           }
          ],
          "barpolar": [
           {
            "marker": {
             "line": {
              "color": "#E5ECF6",
              "width": 0.5
             },
             "pattern": {
              "fillmode": "overlay",
              "size": 10,
              "solidity": 0.2
             }
            },
            "type": "barpolar"
           }
          ],
          "carpet": [
           {
            "aaxis": {
             "endlinecolor": "#2a3f5f",
             "gridcolor": "white",
             "linecolor": "white",
             "minorgridcolor": "white",
             "startlinecolor": "#2a3f5f"
            },
            "baxis": {
             "endlinecolor": "#2a3f5f",
             "gridcolor": "white",
             "linecolor": "white",
             "minorgridcolor": "white",
             "startlinecolor": "#2a3f5f"
            },
            "type": "carpet"
           }
          ],
          "choropleth": [
           {
            "colorbar": {
             "outlinewidth": 0,
             "ticks": ""
            },
            "type": "choropleth"
           }
          ],
          "contour": [
           {
            "colorbar": {
             "outlinewidth": 0,
             "ticks": ""
            },
            "colorscale": [
             [
              0,
              "#0d0887"
             ],
             [
              0.1111111111111111,
              "#46039f"
             ],
             [
              0.2222222222222222,
              "#7201a8"
             ],
             [
              0.3333333333333333,
              "#9c179e"
             ],
             [
              0.4444444444444444,
              "#bd3786"
             ],
             [
              0.5555555555555556,
              "#d8576b"
             ],
             [
              0.6666666666666666,
              "#ed7953"
             ],
             [
              0.7777777777777778,
              "#fb9f3a"
             ],
             [
              0.8888888888888888,
              "#fdca26"
             ],
             [
              1,
              "#f0f921"
             ]
            ],
            "type": "contour"
           }
          ],
          "contourcarpet": [
           {
            "colorbar": {
             "outlinewidth": 0,
             "ticks": ""
            },
            "type": "contourcarpet"
           }
          ],
          "heatmap": [
           {
            "colorbar": {
             "outlinewidth": 0,
             "ticks": ""
            },
            "colorscale": [
             [
              0,
              "#0d0887"
             ],
             [
              0.1111111111111111,
              "#46039f"
             ],
             [
              0.2222222222222222,
              "#7201a8"
             ],
             [
              0.3333333333333333,
              "#9c179e"
             ],
             [
              0.4444444444444444,
              "#bd3786"
             ],
             [
              0.5555555555555556,
              "#d8576b"
             ],
             [
              0.6666666666666666,
              "#ed7953"
             ],
             [
              0.7777777777777778,
              "#fb9f3a"
             ],
             [
              0.8888888888888888,
              "#fdca26"
             ],
             [
              1,
              "#f0f921"
             ]
            ],
            "type": "heatmap"
           }
          ],
          "histogram": [
           {
            "marker": {
             "pattern": {
              "fillmode": "overlay",
              "size": 10,
              "solidity": 0.2
             }
            },
            "type": "histogram"
           }
          ],
          "histogram2d": [
           {
            "colorbar": {
             "outlinewidth": 0,
             "ticks": ""
            },
            "colorscale": [
             [
              0,
              "#0d0887"
             ],
             [
              0.1111111111111111,
              "#46039f"
             ],
             [
              0.2222222222222222,
              "#7201a8"
             ],
             [
              0.3333333333333333,
              "#9c179e"
             ],
             [
              0.4444444444444444,
              "#bd3786"
             ],
             [
              0.5555555555555556,
              "#d8576b"
             ],
             [
              0.6666666666666666,
              "#ed7953"
             ],
             [
              0.7777777777777778,
              "#fb9f3a"
             ],
             [
              0.8888888888888888,
              "#fdca26"
             ],
             [
              1,
              "#f0f921"
             ]
            ],
            "type": "histogram2d"
           }
          ],
          "histogram2dcontour": [
           {
            "colorbar": {
             "outlinewidth": 0,
             "ticks": ""
            },
            "colorscale": [
             [
              0,
              "#0d0887"
             ],
             [
              0.1111111111111111,
              "#46039f"
             ],
             [
              0.2222222222222222,
              "#7201a8"
             ],
             [
              0.3333333333333333,
              "#9c179e"
             ],
             [
              0.4444444444444444,
              "#bd3786"
             ],
             [
              0.5555555555555556,
              "#d8576b"
             ],
             [
              0.6666666666666666,
              "#ed7953"
             ],
             [
              0.7777777777777778,
              "#fb9f3a"
             ],
             [
              0.8888888888888888,
              "#fdca26"
             ],
             [
              1,
              "#f0f921"
             ]
            ],
            "type": "histogram2dcontour"
           }
          ],
          "mesh3d": [
           {
            "colorbar": {
             "outlinewidth": 0,
             "ticks": ""
            },
            "type": "mesh3d"
           }
          ],
          "parcoords": [
           {
            "line": {
             "colorbar": {
              "outlinewidth": 0,
              "ticks": ""
             }
            },
            "type": "parcoords"
           }
          ],
          "pie": [
           {
            "automargin": true,
            "type": "pie"
           }
          ],
          "scatter": [
           {
            "fillpattern": {
             "fillmode": "overlay",
             "size": 10,
             "solidity": 0.2
            },
            "type": "scatter"
           }
          ],
          "scatter3d": [
           {
            "line": {
             "colorbar": {
              "outlinewidth": 0,
              "ticks": ""
             }
            },
            "marker": {
             "colorbar": {
              "outlinewidth": 0,
              "ticks": ""
             }
            },
            "type": "scatter3d"
           }
          ],
          "scattercarpet": [
           {
            "marker": {
             "colorbar": {
              "outlinewidth": 0,
              "ticks": ""
             }
            },
            "type": "scattercarpet"
           }
          ],
          "scattergeo": [
           {
            "marker": {
             "colorbar": {
              "outlinewidth": 0,
              "ticks": ""
             }
            },
            "type": "scattergeo"
           }
          ],
          "scattergl": [
           {
            "marker": {
             "colorbar": {
              "outlinewidth": 0,
              "ticks": ""
             }
            },
            "type": "scattergl"
           }
          ],
          "scattermap": [
           {
            "marker": {
             "colorbar": {
              "outlinewidth": 0,
              "ticks": ""
             }
            },
            "type": "scattermap"
           }
          ],
          "scattermapbox": [
           {
            "marker": {
             "colorbar": {
              "outlinewidth": 0,
              "ticks": ""
             }
            },
            "type": "scattermapbox"
           }
          ],
          "scatterpolar": [
           {
            "marker": {
             "colorbar": {
              "outlinewidth": 0,
              "ticks": ""
             }
            },
            "type": "scatterpolar"
           }
          ],
          "scatterpolargl": [
           {
            "marker": {
             "colorbar": {
              "outlinewidth": 0,
              "ticks": ""
             }
            },
            "type": "scatterpolargl"
           }
          ],
          "scatterternary": [
           {
            "marker": {
             "colorbar": {
              "outlinewidth": 0,
              "ticks": ""
             }
            },
            "type": "scatterternary"
           }
          ],
          "surface": [
           {
            "colorbar": {
             "outlinewidth": 0,
             "ticks": ""
            },
            "colorscale": [
             [
              0,
              "#0d0887"
             ],
             [
              0.1111111111111111,
              "#46039f"
             ],
             [
              0.2222222222222222,
              "#7201a8"
             ],
             [
              0.3333333333333333,
              "#9c179e"
             ],
             [
              0.4444444444444444,
              "#bd3786"
             ],
             [
              0.5555555555555556,
              "#d8576b"
             ],
             [
              0.6666666666666666,
              "#ed7953"
             ],
             [
              0.7777777777777778,
              "#fb9f3a"
             ],
             [
              0.8888888888888888,
              "#fdca26"
             ],
             [
              1,
              "#f0f921"
             ]
            ],
            "type": "surface"
           }
          ],
          "table": [
           {
            "cells": {
             "fill": {
              "color": "#EBF0F8"
             },
             "line": {
              "color": "white"
             }
            },
            "header": {
             "fill": {
              "color": "#C8D4E3"
             },
             "line": {
              "color": "white"
             }
            },
            "type": "table"
           }
          ]
         },
         "layout": {
          "annotationdefaults": {
           "arrowcolor": "#2a3f5f",
           "arrowhead": 0,
           "arrowwidth": 1
          },
          "autotypenumbers": "strict",
          "coloraxis": {
           "colorbar": {
            "outlinewidth": 0,
            "ticks": ""
           }
          },
          "colorscale": {
           "diverging": [
            [
             0,
             "#8e0152"
            ],
            [
             0.1,
             "#c51b7d"
            ],
            [
             0.2,
             "#de77ae"
            ],
            [
             0.3,
             "#f1b6da"
            ],
            [
             0.4,
             "#fde0ef"
            ],
            [
             0.5,
             "#f7f7f7"
            ],
            [
             0.6,
             "#e6f5d0"
            ],
            [
             0.7,
             "#b8e186"
            ],
            [
             0.8,
             "#7fbc41"
            ],
            [
             0.9,
             "#4d9221"
            ],
            [
             1,
             "#276419"
            ]
           ],
           "sequential": [
            [
             0,
             "#0d0887"
            ],
            [
             0.1111111111111111,
             "#46039f"
            ],
            [
             0.2222222222222222,
             "#7201a8"
            ],
            [
             0.3333333333333333,
             "#9c179e"
            ],
            [
             0.4444444444444444,
             "#bd3786"
            ],
            [
             0.5555555555555556,
             "#d8576b"
            ],
            [
             0.6666666666666666,
             "#ed7953"
            ],
            [
             0.7777777777777778,
             "#fb9f3a"
            ],
            [
             0.8888888888888888,
             "#fdca26"
            ],
            [
             1,
             "#f0f921"
            ]
           ],
           "sequentialminus": [
            [
             0,
             "#0d0887"
            ],
            [
             0.1111111111111111,
             "#46039f"
            ],
            [
             0.2222222222222222,
             "#7201a8"
            ],
            [
             0.3333333333333333,
             "#9c179e"
            ],
            [
             0.4444444444444444,
             "#bd3786"
            ],
            [
             0.5555555555555556,
             "#d8576b"
            ],
            [
             0.6666666666666666,
             "#ed7953"
            ],
            [
             0.7777777777777778,
             "#fb9f3a"
            ],
            [
             0.8888888888888888,
             "#fdca26"
            ],
            [
             1,
             "#f0f921"
            ]
           ]
          },
          "colorway": [
           "#636efa",
           "#EF553B",
           "#00cc96",
           "#ab63fa",
           "#FFA15A",
           "#19d3f3",
           "#FF6692",
           "#B6E880",
           "#FF97FF",
           "#FECB52"
          ],
          "font": {
           "color": "#2a3f5f"
          },
          "geo": {
           "bgcolor": "white",
           "lakecolor": "white",
           "landcolor": "#E5ECF6",
           "showlakes": true,
           "showland": true,
           "subunitcolor": "white"
          },
          "hoverlabel": {
           "align": "left"
          },
          "hovermode": "closest",
          "mapbox": {
           "style": "light"
          },
          "paper_bgcolor": "white",
          "plot_bgcolor": "#E5ECF6",
          "polar": {
           "angularaxis": {
            "gridcolor": "white",
            "linecolor": "white",
            "ticks": ""
           },
           "bgcolor": "#E5ECF6",
           "radialaxis": {
            "gridcolor": "white",
            "linecolor": "white",
            "ticks": ""
           }
          },
          "scene": {
           "xaxis": {
            "backgroundcolor": "#E5ECF6",
            "gridcolor": "white",
            "gridwidth": 2,
            "linecolor": "white",
            "showbackground": true,
            "ticks": "",
            "zerolinecolor": "white"
           },
           "yaxis": {
            "backgroundcolor": "#E5ECF6",
            "gridcolor": "white",
            "gridwidth": 2,
            "linecolor": "white",
            "showbackground": true,
            "ticks": "",
            "zerolinecolor": "white"
           },
           "zaxis": {
            "backgroundcolor": "#E5ECF6",
            "gridcolor": "white",
            "gridwidth": 2,
            "linecolor": "white",
            "showbackground": true,
            "ticks": "",
            "zerolinecolor": "white"
           }
          },
          "shapedefaults": {
           "line": {
            "color": "#2a3f5f"
           }
          },
          "ternary": {
           "aaxis": {
            "gridcolor": "white",
            "linecolor": "white",
            "ticks": ""
           },
           "baxis": {
            "gridcolor": "white",
            "linecolor": "white",
            "ticks": ""
           },
           "bgcolor": "#E5ECF6",
           "caxis": {
            "gridcolor": "white",
            "linecolor": "white",
            "ticks": ""
           }
          },
          "title": {
           "x": 0.05
          },
          "xaxis": {
           "automargin": true,
           "gridcolor": "white",
           "linecolor": "white",
           "ticks": "",
           "title": {
            "standoff": 15
           },
           "zerolinecolor": "white",
           "zerolinewidth": 2
          },
          "yaxis": {
           "automargin": true,
           "gridcolor": "white",
           "linecolor": "white",
           "ticks": "",
           "title": {
            "standoff": 15
           },
           "zerolinecolor": "white",
           "zerolinewidth": 2
          }
         }
        },
        "title": {
         "text": "Feature Scaling Impact on k-NN Performance"
        },
        "xaxis": {
         "title": {
          "text": "Scaling Method"
         }
        }
       }
      }
     },
     "metadata": {},
     "output_type": "display_data"
    },
    {
     "name": "stdout",
     "output_type": "stream",
     "text": [
      "\n",
      " Optimal k Selection:\n",
      "• Optimal k (CV): 4 (R² = 0.8743)\n",
      "• Optimal k (Test): 3 (R² = 0.9105)\n",
      "• Optimal k (CV): 4 (R² = 0.8743)\n",
      "• Optimal k (Test): 3 (R² = 0.9105)\n"
     ]
    },
    {
     "data": {
      "application/vnd.plotly.v1+json": {
       "config": {
        "plotlyServerURL": "https://plot.ly"
       },
       "data": [
        {
         "hovertemplate": "k: %{x}<br>Training R²: %{y:.4f}<extra></extra>",
         "line": {
          "color": "blue"
         },
         "mode": "lines+markers",
         "name": "Training R²",
         "type": "scatter",
         "x": [
          1,
          2,
          3,
          4,
          5,
          6,
          7,
          8,
          9,
          10,
          11,
          12,
          13,
          14,
          15,
          16,
          17,
          18,
          19,
          20,
          21,
          22,
          23,
          24,
          25,
          26,
          27,
          28,
          29,
          30
         ],
         "y": [
          1,
          0.9621924641756937,
          0.9410074795499457,
          0.9289408838279029,
          0.9211910423440921,
          0.9154030662774262,
          0.9085613432441032,
          0.9039047013812587,
          0.8984346162373208,
          0.8945360624163847,
          0.891762675739482,
          0.8890782696835267,
          0.8868074944212789,
          0.8841261002882059,
          0.8825763999878724,
          0.8812108998532483,
          0.8797319361645741,
          0.8791230985471173,
          0.8782353590482833,
          0.8771101456347268,
          0.8767777272957988,
          0.8755845985707068,
          0.8751386909921762,
          0.8740813954769416,
          0.8738098102618626,
          0.873034435451308,
          0.8725962871195797,
          0.8720088440702507,
          0.8710420675418814,
          0.8700688882548715
         ]
        },
        {
         "hovertemplate": "k: %{x}<br>CV R²: %{y:.4f}<extra></extra>",
         "line": {
          "color": "green"
         },
         "mode": "lines+markers",
         "name": "CV R²",
         "type": "scatter",
         "x": [
          1,
          2,
          3,
          4,
          5,
          6,
          7,
          8,
          9,
          10,
          11,
          12,
          13,
          14,
          15,
          16,
          17,
          18,
          19,
          20,
          21,
          22,
          23,
          24,
          25,
          26,
          27,
          28,
          29,
          30
         ],
         "y": [
          0.8425148289563916,
          0.8661758504641428,
          0.8692233518219155,
          0.8742515086873432,
          0.8712870135365334,
          0.8713711734251912,
          0.8694522424950042,
          0.8692009988842674,
          0.8666497521194142,
          0.8654680072560745,
          0.865207833221508,
          0.865398587055827,
          0.8657693548097439,
          0.8654594834178271,
          0.8658250692348822,
          0.8648790180215906,
          0.8654371125872846,
          0.8651509868473963,
          0.8651007143880303,
          0.8652165906219617,
          0.8654572782908991,
          0.8648859615171413,
          0.8651032650874046,
          0.8645622691955577,
          0.8637837344669723,
          0.8633658606911554,
          0.8622254134000995,
          0.8619440379999418,
          0.86113041453102,
          0.8608878051604993
         ]
        },
        {
         "hovertemplate": "k: %{x}<br>Test R²: %{y:.4f}<extra></extra>",
         "line": {
          "color": "red"
         },
         "mode": "lines+markers",
         "name": "Test R²",
         "type": "scatter",
         "x": [
          1,
          2,
          3,
          4,
          5,
          6,
          7,
          8,
          9,
          10,
          11,
          12,
          13,
          14,
          15,
          16,
          17,
          18,
          19,
          20,
          21,
          22,
          23,
          24,
          25,
          26,
          27,
          28,
          29,
          30
         ],
         "y": [
          0.8638441113990512,
          0.9032626651082987,
          0.9104938192887939,
          0.9101364106006753,
          0.9094930769385845,
          0.9065021964791101,
          0.9060649715565955,
          0.905809476436303,
          0.9013576793108647,
          0.8996834239006386,
          0.9008277649200294,
          0.8978705910789203,
          0.8981711372994411,
          0.8968465439285149,
          0.8966657169882171,
          0.8964816005696586,
          0.896786635195526,
          0.8976416290686078,
          0.8973301912112759,
          0.8978325317778716,
          0.898132989600435,
          0.8973533502970368,
          0.8961051471757523,
          0.8960161707181024,
          0.896017966542024,
          0.8957501468093623,
          0.8961487405344636,
          0.8955689185205289,
          0.8949490279292538,
          0.8952345090925903
         ]
        }
       ],
       "layout": {
        "annotations": [
         {
          "showarrow": false,
          "text": "Optimal k (CV) = 4",
          "x": 4,
          "xanchor": "left",
          "xref": "x",
          "y": 1,
          "yanchor": "top",
          "yref": "y domain"
         }
        ],
        "height": 500,
        "shapes": [
         {
          "line": {
           "color": "green",
           "dash": "dash"
          },
          "type": "line",
          "x0": 4,
          "x1": 4,
          "xref": "x",
          "y0": 0,
          "y1": 1,
          "yref": "y domain"
         }
        ],
        "template": {
         "data": {
          "bar": [
           {
            "error_x": {
             "color": "#2a3f5f"
            },
            "error_y": {
             "color": "#2a3f5f"
            },
            "marker": {
             "line": {
              "color": "#E5ECF6",
              "width": 0.5
             },
             "pattern": {
              "fillmode": "overlay",
              "size": 10,
              "solidity": 0.2
             }
            },
            "type": "bar"
           }
          ],
          "barpolar": [
           {
            "marker": {
             "line": {
              "color": "#E5ECF6",
              "width": 0.5
             },
             "pattern": {
              "fillmode": "overlay",
              "size": 10,
              "solidity": 0.2
             }
            },
            "type": "barpolar"
           }
          ],
          "carpet": [
           {
            "aaxis": {
             "endlinecolor": "#2a3f5f",
             "gridcolor": "white",
             "linecolor": "white",
             "minorgridcolor": "white",
             "startlinecolor": "#2a3f5f"
            },
            "baxis": {
             "endlinecolor": "#2a3f5f",
             "gridcolor": "white",
             "linecolor": "white",
             "minorgridcolor": "white",
             "startlinecolor": "#2a3f5f"
            },
            "type": "carpet"
           }
          ],
          "choropleth": [
           {
            "colorbar": {
             "outlinewidth": 0,
             "ticks": ""
            },
            "type": "choropleth"
           }
          ],
          "contour": [
           {
            "colorbar": {
             "outlinewidth": 0,
             "ticks": ""
            },
            "colorscale": [
             [
              0,
              "#0d0887"
             ],
             [
              0.1111111111111111,
              "#46039f"
             ],
             [
              0.2222222222222222,
              "#7201a8"
             ],
             [
              0.3333333333333333,
              "#9c179e"
             ],
             [
              0.4444444444444444,
              "#bd3786"
             ],
             [
              0.5555555555555556,
              "#d8576b"
             ],
             [
              0.6666666666666666,
              "#ed7953"
             ],
             [
              0.7777777777777778,
              "#fb9f3a"
             ],
             [
              0.8888888888888888,
              "#fdca26"
             ],
             [
              1,
              "#f0f921"
             ]
            ],
            "type": "contour"
           }
          ],
          "contourcarpet": [
           {
            "colorbar": {
             "outlinewidth": 0,
             "ticks": ""
            },
            "type": "contourcarpet"
           }
          ],
          "heatmap": [
           {
            "colorbar": {
             "outlinewidth": 0,
             "ticks": ""
            },
            "colorscale": [
             [
              0,
              "#0d0887"
             ],
             [
              0.1111111111111111,
              "#46039f"
             ],
             [
              0.2222222222222222,
              "#7201a8"
             ],
             [
              0.3333333333333333,
              "#9c179e"
             ],
             [
              0.4444444444444444,
              "#bd3786"
             ],
             [
              0.5555555555555556,
              "#d8576b"
             ],
             [
              0.6666666666666666,
              "#ed7953"
             ],
             [
              0.7777777777777778,
              "#fb9f3a"
             ],
             [
              0.8888888888888888,
              "#fdca26"
             ],
             [
              1,
              "#f0f921"
             ]
            ],
            "type": "heatmap"
           }
          ],
          "histogram": [
           {
            "marker": {
             "pattern": {
              "fillmode": "overlay",
              "size": 10,
              "solidity": 0.2
             }
            },
            "type": "histogram"
           }
          ],
          "histogram2d": [
           {
            "colorbar": {
             "outlinewidth": 0,
             "ticks": ""
            },
            "colorscale": [
             [
              0,
              "#0d0887"
             ],
             [
              0.1111111111111111,
              "#46039f"
             ],
             [
              0.2222222222222222,
              "#7201a8"
             ],
             [
              0.3333333333333333,
              "#9c179e"
             ],
             [
              0.4444444444444444,
              "#bd3786"
             ],
             [
              0.5555555555555556,
              "#d8576b"
             ],
             [
              0.6666666666666666,
              "#ed7953"
             ],
             [
              0.7777777777777778,
              "#fb9f3a"
             ],
             [
              0.8888888888888888,
              "#fdca26"
             ],
             [
              1,
              "#f0f921"
             ]
            ],
            "type": "histogram2d"
           }
          ],
          "histogram2dcontour": [
           {
            "colorbar": {
             "outlinewidth": 0,
             "ticks": ""
            },
            "colorscale": [
             [
              0,
              "#0d0887"
             ],
             [
              0.1111111111111111,
              "#46039f"
             ],
             [
              0.2222222222222222,
              "#7201a8"
             ],
             [
              0.3333333333333333,
              "#9c179e"
             ],
             [
              0.4444444444444444,
              "#bd3786"
             ],
             [
              0.5555555555555556,
              "#d8576b"
             ],
             [
              0.6666666666666666,
              "#ed7953"
             ],
             [
              0.7777777777777778,
              "#fb9f3a"
             ],
             [
              0.8888888888888888,
              "#fdca26"
             ],
             [
              1,
              "#f0f921"
             ]
            ],
            "type": "histogram2dcontour"
           }
          ],
          "mesh3d": [
           {
            "colorbar": {
             "outlinewidth": 0,
             "ticks": ""
            },
            "type": "mesh3d"
           }
          ],
          "parcoords": [
           {
            "line": {
             "colorbar": {
              "outlinewidth": 0,
              "ticks": ""
             }
            },
            "type": "parcoords"
           }
          ],
          "pie": [
           {
            "automargin": true,
            "type": "pie"
           }
          ],
          "scatter": [
           {
            "fillpattern": {
             "fillmode": "overlay",
             "size": 10,
             "solidity": 0.2
            },
            "type": "scatter"
           }
          ],
          "scatter3d": [
           {
            "line": {
             "colorbar": {
              "outlinewidth": 0,
              "ticks": ""
             }
            },
            "marker": {
             "colorbar": {
              "outlinewidth": 0,
              "ticks": ""
             }
            },
            "type": "scatter3d"
           }
          ],
          "scattercarpet": [
           {
            "marker": {
             "colorbar": {
              "outlinewidth": 0,
              "ticks": ""
             }
            },
            "type": "scattercarpet"
           }
          ],
          "scattergeo": [
           {
            "marker": {
             "colorbar": {
              "outlinewidth": 0,
              "ticks": ""
             }
            },
            "type": "scattergeo"
           }
          ],
          "scattergl": [
           {
            "marker": {
             "colorbar": {
              "outlinewidth": 0,
              "ticks": ""
             }
            },
            "type": "scattergl"
           }
          ],
          "scattermap": [
           {
            "marker": {
             "colorbar": {
              "outlinewidth": 0,
              "ticks": ""
             }
            },
            "type": "scattermap"
           }
          ],
          "scattermapbox": [
           {
            "marker": {
             "colorbar": {
              "outlinewidth": 0,
              "ticks": ""
             }
            },
            "type": "scattermapbox"
           }
          ],
          "scatterpolar": [
           {
            "marker": {
             "colorbar": {
              "outlinewidth": 0,
              "ticks": ""
             }
            },
            "type": "scatterpolar"
           }
          ],
          "scatterpolargl": [
           {
            "marker": {
             "colorbar": {
              "outlinewidth": 0,
              "ticks": ""
             }
            },
            "type": "scatterpolargl"
           }
          ],
          "scatterternary": [
           {
            "marker": {
             "colorbar": {
              "outlinewidth": 0,
              "ticks": ""
             }
            },
            "type": "scatterternary"
           }
          ],
          "surface": [
           {
            "colorbar": {
             "outlinewidth": 0,
             "ticks": ""
            },
            "colorscale": [
             [
              0,
              "#0d0887"
             ],
             [
              0.1111111111111111,
              "#46039f"
             ],
             [
              0.2222222222222222,
              "#7201a8"
             ],
             [
              0.3333333333333333,
              "#9c179e"
             ],
             [
              0.4444444444444444,
              "#bd3786"
             ],
             [
              0.5555555555555556,
              "#d8576b"
             ],
             [
              0.6666666666666666,
              "#ed7953"
             ],
             [
              0.7777777777777778,
              "#fb9f3a"
             ],
             [
              0.8888888888888888,
              "#fdca26"
             ],
             [
              1,
              "#f0f921"
             ]
            ],
            "type": "surface"
           }
          ],
          "table": [
           {
            "cells": {
             "fill": {
              "color": "#EBF0F8"
             },
             "line": {
              "color": "white"
             }
            },
            "header": {
             "fill": {
              "color": "#C8D4E3"
             },
             "line": {
              "color": "white"
             }
            },
            "type": "table"
           }
          ]
         },
         "layout": {
          "annotationdefaults": {
           "arrowcolor": "#2a3f5f",
           "arrowhead": 0,
           "arrowwidth": 1
          },
          "autotypenumbers": "strict",
          "coloraxis": {
           "colorbar": {
            "outlinewidth": 0,
            "ticks": ""
           }
          },
          "colorscale": {
           "diverging": [
            [
             0,
             "#8e0152"
            ],
            [
             0.1,
             "#c51b7d"
            ],
            [
             0.2,
             "#de77ae"
            ],
            [
             0.3,
             "#f1b6da"
            ],
            [
             0.4,
             "#fde0ef"
            ],
            [
             0.5,
             "#f7f7f7"
            ],
            [
             0.6,
             "#e6f5d0"
            ],
            [
             0.7,
             "#b8e186"
            ],
            [
             0.8,
             "#7fbc41"
            ],
            [
             0.9,
             "#4d9221"
            ],
            [
             1,
             "#276419"
            ]
           ],
           "sequential": [
            [
             0,
             "#0d0887"
            ],
            [
             0.1111111111111111,
             "#46039f"
            ],
            [
             0.2222222222222222,
             "#7201a8"
            ],
            [
             0.3333333333333333,
             "#9c179e"
            ],
            [
             0.4444444444444444,
             "#bd3786"
            ],
            [
             0.5555555555555556,
             "#d8576b"
            ],
            [
             0.6666666666666666,
             "#ed7953"
            ],
            [
             0.7777777777777778,
             "#fb9f3a"
            ],
            [
             0.8888888888888888,
             "#fdca26"
            ],
            [
             1,
             "#f0f921"
            ]
           ],
           "sequentialminus": [
            [
             0,
             "#0d0887"
            ],
            [
             0.1111111111111111,
             "#46039f"
            ],
            [
             0.2222222222222222,
             "#7201a8"
            ],
            [
             0.3333333333333333,
             "#9c179e"
            ],
            [
             0.4444444444444444,
             "#bd3786"
            ],
            [
             0.5555555555555556,
             "#d8576b"
            ],
            [
             0.6666666666666666,
             "#ed7953"
            ],
            [
             0.7777777777777778,
             "#fb9f3a"
            ],
            [
             0.8888888888888888,
             "#fdca26"
            ],
            [
             1,
             "#f0f921"
            ]
           ]
          },
          "colorway": [
           "#636efa",
           "#EF553B",
           "#00cc96",
           "#ab63fa",
           "#FFA15A",
           "#19d3f3",
           "#FF6692",
           "#B6E880",
           "#FF97FF",
           "#FECB52"
          ],
          "font": {
           "color": "#2a3f5f"
          },
          "geo": {
           "bgcolor": "white",
           "lakecolor": "white",
           "landcolor": "#E5ECF6",
           "showlakes": true,
           "showland": true,
           "subunitcolor": "white"
          },
          "hoverlabel": {
           "align": "left"
          },
          "hovermode": "closest",
          "mapbox": {
           "style": "light"
          },
          "paper_bgcolor": "white",
          "plot_bgcolor": "#E5ECF6",
          "polar": {
           "angularaxis": {
            "gridcolor": "white",
            "linecolor": "white",
            "ticks": ""
           },
           "bgcolor": "#E5ECF6",
           "radialaxis": {
            "gridcolor": "white",
            "linecolor": "white",
            "ticks": ""
           }
          },
          "scene": {
           "xaxis": {
            "backgroundcolor": "#E5ECF6",
            "gridcolor": "white",
            "gridwidth": 2,
            "linecolor": "white",
            "showbackground": true,
            "ticks": "",
            "zerolinecolor": "white"
           },
           "yaxis": {
            "backgroundcolor": "#E5ECF6",
            "gridcolor": "white",
            "gridwidth": 2,
            "linecolor": "white",
            "showbackground": true,
            "ticks": "",
            "zerolinecolor": "white"
           },
           "zaxis": {
            "backgroundcolor": "#E5ECF6",
            "gridcolor": "white",
            "gridwidth": 2,
            "linecolor": "white",
            "showbackground": true,
            "ticks": "",
            "zerolinecolor": "white"
           }
          },
          "shapedefaults": {
           "line": {
            "color": "#2a3f5f"
           }
          },
          "ternary": {
           "aaxis": {
            "gridcolor": "white",
            "linecolor": "white",
            "ticks": ""
           },
           "baxis": {
            "gridcolor": "white",
            "linecolor": "white",
            "ticks": ""
           },
           "bgcolor": "#E5ECF6",
           "caxis": {
            "gridcolor": "white",
            "linecolor": "white",
            "ticks": ""
           }
          },
          "title": {
           "x": 0.05
          },
          "xaxis": {
           "automargin": true,
           "gridcolor": "white",
           "linecolor": "white",
           "ticks": "",
           "title": {
            "standoff": 15
           },
           "zerolinecolor": "white",
           "zerolinewidth": 2
          },
          "yaxis": {
           "automargin": true,
           "gridcolor": "white",
           "linecolor": "white",
           "ticks": "",
           "title": {
            "standoff": 15
           },
           "zerolinecolor": "white",
           "zerolinewidth": 2
          }
         }
        },
        "title": {
         "text": "k-NN Regression: Optimal k Selection"
        },
        "xaxis": {
         "title": {
          "text": "Number of Neighbors (k)"
         }
        },
        "yaxis": {
         "title": {
          "text": "R² Score"
         }
        }
       }
      }
     },
     "metadata": {},
     "output_type": "display_data"
    },
    {
     "name": "stdout",
     "output_type": "stream",
     "text": [
      "\n",
      " Final k-NN Regression Performance:\n",
      "• k = 4\n",
      "• Test R²: 0.9101\n",
      "• Test RMSE: $80,055\n",
      "• Test MAE: $62,340\n"
     ]
    },
    {
     "data": {
      "application/vnd.plotly.v1+json": {
       "config": {
        "plotlyServerURL": "https://plot.ly"
       },
       "data": [
        {
         "hovertemplate": "Actual: $%{x:,.0f}<br>Predicted: $%{y:,.0f}<extra></extra>",
         "marker": {
          "color": "blue",
          "opacity": 0.6
         },
         "mode": "markers",
         "name": "Predictions",
         "type": "scatter",
         "x": {
          "bdata": "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",
          "dtype": "f8"
         },
         "y": {
          "bdata": "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",
          "dtype": "f8"
         }
        },
        {
         "hovertemplate": "Perfect Line<extra></extra>",
         "line": {
          "color": "red",
          "dash": "dash"
         },
         "mode": "lines",
         "name": "Perfect Prediction",
         "type": "scatter",
         "x": [
          315137.9142274853,
          2102581.0990308104
         ],
         "y": [
          315137.9142274853,
          2102581.0990308104
         ]
        }
       ],
       "layout": {
        "height": 500,
        "template": {
         "data": {
          "bar": [
           {
            "error_x": {
             "color": "#2a3f5f"
            },
            "error_y": {
             "color": "#2a3f5f"
            },
            "marker": {
             "line": {
              "color": "#E5ECF6",
              "width": 0.5
             },
             "pattern": {
              "fillmode": "overlay",
              "size": 10,
              "solidity": 0.2
             }
            },
            "type": "bar"
           }
          ],
          "barpolar": [
           {
            "marker": {
             "line": {
              "color": "#E5ECF6",
              "width": 0.5
             },
             "pattern": {
              "fillmode": "overlay",
              "size": 10,
              "solidity": 0.2
             }
            },
            "type": "barpolar"
           }
          ],
          "carpet": [
           {
            "aaxis": {
             "endlinecolor": "#2a3f5f",
             "gridcolor": "white",
             "linecolor": "white",
             "minorgridcolor": "white",
             "startlinecolor": "#2a3f5f"
            },
            "baxis": {
             "endlinecolor": "#2a3f5f",
             "gridcolor": "white",
             "linecolor": "white",
             "minorgridcolor": "white",
             "startlinecolor": "#2a3f5f"
            },
            "type": "carpet"
           }
          ],
          "choropleth": [
           {
            "colorbar": {
             "outlinewidth": 0,
             "ticks": ""
            },
            "type": "choropleth"
           }
          ],
          "contour": [
           {
            "colorbar": {
             "outlinewidth": 0,
             "ticks": ""
            },
            "colorscale": [
             [
              0,
              "#0d0887"
             ],
             [
              0.1111111111111111,
              "#46039f"
             ],
             [
              0.2222222222222222,
              "#7201a8"
             ],
             [
              0.3333333333333333,
              "#9c179e"
             ],
             [
              0.4444444444444444,
              "#bd3786"
             ],
             [
              0.5555555555555556,
              "#d8576b"
             ],
             [
              0.6666666666666666,
              "#ed7953"
             ],
             [
              0.7777777777777778,
              "#fb9f3a"
             ],
             [
              0.8888888888888888,
              "#fdca26"
             ],
             [
              1,
              "#f0f921"
             ]
            ],
            "type": "contour"
           }
          ],
          "contourcarpet": [
           {
            "colorbar": {
             "outlinewidth": 0,
             "ticks": ""
            },
            "type": "contourcarpet"
           }
          ],
          "heatmap": [
           {
            "colorbar": {
             "outlinewidth": 0,
             "ticks": ""
            },
            "colorscale": [
             [
              0,
              "#0d0887"
             ],
             [
              0.1111111111111111,
              "#46039f"
             ],
             [
              0.2222222222222222,
              "#7201a8"
             ],
             [
              0.3333333333333333,
              "#9c179e"
             ],
             [
              0.4444444444444444,
              "#bd3786"
             ],
             [
              0.5555555555555556,
              "#d8576b"
             ],
             [
              0.6666666666666666,
              "#ed7953"
             ],
             [
              0.7777777777777778,
              "#fb9f3a"
             ],
             [
              0.8888888888888888,
              "#fdca26"
             ],
             [
              1,
              "#f0f921"
             ]
            ],
            "type": "heatmap"
           }
          ],
          "histogram": [
           {
            "marker": {
             "pattern": {
              "fillmode": "overlay",
              "size": 10,
              "solidity": 0.2
             }
            },
            "type": "histogram"
           }
          ],
          "histogram2d": [
           {
            "colorbar": {
             "outlinewidth": 0,
             "ticks": ""
            },
            "colorscale": [
             [
              0,
              "#0d0887"
             ],
             [
              0.1111111111111111,
              "#46039f"
             ],
             [
              0.2222222222222222,
              "#7201a8"
             ],
             [
              0.3333333333333333,
              "#9c179e"
             ],
             [
              0.4444444444444444,
              "#bd3786"
             ],
             [
              0.5555555555555556,
              "#d8576b"
             ],
             [
              0.6666666666666666,
              "#ed7953"
             ],
             [
              0.7777777777777778,
              "#fb9f3a"
             ],
             [
              0.8888888888888888,
              "#fdca26"
             ],
             [
              1,
              "#f0f921"
             ]
            ],
            "type": "histogram2d"
           }
          ],
          "histogram2dcontour": [
           {
            "colorbar": {
             "outlinewidth": 0,
             "ticks": ""
            },
            "colorscale": [
             [
              0,
              "#0d0887"
             ],
             [
              0.1111111111111111,
              "#46039f"
             ],
             [
              0.2222222222222222,
              "#7201a8"
             ],
             [
              0.3333333333333333,
              "#9c179e"
             ],
             [
              0.4444444444444444,
              "#bd3786"
             ],
             [
              0.5555555555555556,
              "#d8576b"
             ],
             [
              0.6666666666666666,
              "#ed7953"
             ],
             [
              0.7777777777777778,
              "#fb9f3a"
             ],
             [
              0.8888888888888888,
              "#fdca26"
             ],
             [
              1,
              "#f0f921"
             ]
            ],
            "type": "histogram2dcontour"
           }
          ],
          "mesh3d": [
           {
            "colorbar": {
             "outlinewidth": 0,
             "ticks": ""
            },
            "type": "mesh3d"
           }
          ],
          "parcoords": [
           {
            "line": {
             "colorbar": {
              "outlinewidth": 0,
              "ticks": ""
             }
            },
            "type": "parcoords"
           }
          ],
          "pie": [
           {
            "automargin": true,
            "type": "pie"
           }
          ],
          "scatter": [
           {
            "fillpattern": {
             "fillmode": "overlay",
             "size": 10,
             "solidity": 0.2
            },
            "type": "scatter"
           }
          ],
          "scatter3d": [
           {
            "line": {
             "colorbar": {
              "outlinewidth": 0,
              "ticks": ""
             }
            },
            "marker": {
             "colorbar": {
              "outlinewidth": 0,
              "ticks": ""
             }
            },
            "type": "scatter3d"
           }
          ],
          "scattercarpet": [
           {
            "marker": {
             "colorbar": {
              "outlinewidth": 0,
              "ticks": ""
             }
            },
            "type": "scattercarpet"
           }
          ],
          "scattergeo": [
           {
            "marker": {
             "colorbar": {
              "outlinewidth": 0,
              "ticks": ""
             }
            },
            "type": "scattergeo"
           }
          ],
          "scattergl": [
           {
            "marker": {
             "colorbar": {
              "outlinewidth": 0,
              "ticks": ""
             }
            },
            "type": "scattergl"
           }
          ],
          "scattermap": [
           {
            "marker": {
             "colorbar": {
              "outlinewidth": 0,
              "ticks": ""
             }
            },
            "type": "scattermap"
           }
          ],
          "scattermapbox": [
           {
            "marker": {
             "colorbar": {
              "outlinewidth": 0,
              "ticks": ""
             }
            },
            "type": "scattermapbox"
           }
          ],
          "scatterpolar": [
           {
            "marker": {
             "colorbar": {
              "outlinewidth": 0,
              "ticks": ""
             }
            },
            "type": "scatterpolar"
           }
          ],
          "scatterpolargl": [
           {
            "marker": {
             "colorbar": {
              "outlinewidth": 0,
              "ticks": ""
             }
            },
            "type": "scatterpolargl"
           }
          ],
          "scatterternary": [
           {
            "marker": {
             "colorbar": {
              "outlinewidth": 0,
              "ticks": ""
             }
            },
            "type": "scatterternary"
           }
          ],
          "surface": [
           {
            "colorbar": {
             "outlinewidth": 0,
             "ticks": ""
            },
            "colorscale": [
             [
              0,
              "#0d0887"
             ],
             [
              0.1111111111111111,
              "#46039f"
             ],
             [
              0.2222222222222222,
              "#7201a8"
             ],
             [
              0.3333333333333333,
              "#9c179e"
             ],
             [
              0.4444444444444444,
              "#bd3786"
             ],
             [
              0.5555555555555556,
              "#d8576b"
             ],
             [
              0.6666666666666666,
              "#ed7953"
             ],
             [
              0.7777777777777778,
              "#fb9f3a"
             ],
             [
              0.8888888888888888,
              "#fdca26"
             ],
             [
              1,
              "#f0f921"
             ]
            ],
            "type": "surface"
           }
          ],
          "table": [
           {
            "cells": {
             "fill": {
              "color": "#EBF0F8"
             },
             "line": {
              "color": "white"
             }
            },
            "header": {
             "fill": {
              "color": "#C8D4E3"
             },
             "line": {
              "color": "white"
             }
            },
            "type": "table"
           }
          ]
         },
         "layout": {
          "annotationdefaults": {
           "arrowcolor": "#2a3f5f",
           "arrowhead": 0,
           "arrowwidth": 1
          },
          "autotypenumbers": "strict",
          "coloraxis": {
           "colorbar": {
            "outlinewidth": 0,
            "ticks": ""
           }
          },
          "colorscale": {
           "diverging": [
            [
             0,
             "#8e0152"
            ],
            [
             0.1,
             "#c51b7d"
            ],
            [
             0.2,
             "#de77ae"
            ],
            [
             0.3,
             "#f1b6da"
            ],
            [
             0.4,
             "#fde0ef"
            ],
            [
             0.5,
             "#f7f7f7"
            ],
            [
             0.6,
             "#e6f5d0"
            ],
            [
             0.7,
             "#b8e186"
            ],
            [
             0.8,
             "#7fbc41"
            ],
            [
             0.9,
             "#4d9221"
            ],
            [
             1,
             "#276419"
            ]
           ],
           "sequential": [
            [
             0,
             "#0d0887"
            ],
            [
             0.1111111111111111,
             "#46039f"
            ],
            [
             0.2222222222222222,
             "#7201a8"
            ],
            [
             0.3333333333333333,
             "#9c179e"
            ],
            [
             0.4444444444444444,
             "#bd3786"
            ],
            [
             0.5555555555555556,
             "#d8576b"
            ],
            [
             0.6666666666666666,
             "#ed7953"
            ],
            [
             0.7777777777777778,
             "#fb9f3a"
            ],
            [
             0.8888888888888888,
             "#fdca26"
            ],
            [
             1,
             "#f0f921"
            ]
           ],
           "sequentialminus": [
            [
             0,
             "#0d0887"
            ],
            [
             0.1111111111111111,
             "#46039f"
            ],
            [
             0.2222222222222222,
             "#7201a8"
            ],
            [
             0.3333333333333333,
             "#9c179e"
            ],
            [
             0.4444444444444444,
             "#bd3786"
            ],
            [
             0.5555555555555556,
             "#d8576b"
            ],
            [
             0.6666666666666666,
             "#ed7953"
            ],
            [
             0.7777777777777778,
             "#fb9f3a"
            ],
            [
             0.8888888888888888,
             "#fdca26"
            ],
            [
             1,
             "#f0f921"
            ]
           ]
          },
          "colorway": [
           "#636efa",
           "#EF553B",
           "#00cc96",
           "#ab63fa",
           "#FFA15A",
           "#19d3f3",
           "#FF6692",
           "#B6E880",
           "#FF97FF",
           "#FECB52"
          ],
          "font": {
           "color": "#2a3f5f"
          },
          "geo": {
           "bgcolor": "white",
           "lakecolor": "white",
           "landcolor": "#E5ECF6",
           "showlakes": true,
           "showland": true,
           "subunitcolor": "white"
          },
          "hoverlabel": {
           "align": "left"
          },
          "hovermode": "closest",
          "mapbox": {
           "style": "light"
          },
          "paper_bgcolor": "white",
          "plot_bgcolor": "#E5ECF6",
          "polar": {
           "angularaxis": {
            "gridcolor": "white",
            "linecolor": "white",
            "ticks": ""
           },
           "bgcolor": "#E5ECF6",
           "radialaxis": {
            "gridcolor": "white",
            "linecolor": "white",
            "ticks": ""
           }
          },
          "scene": {
           "xaxis": {
            "backgroundcolor": "#E5ECF6",
            "gridcolor": "white",
            "gridwidth": 2,
            "linecolor": "white",
            "showbackground": true,
            "ticks": "",
            "zerolinecolor": "white"
           },
           "yaxis": {
            "backgroundcolor": "#E5ECF6",
            "gridcolor": "white",
            "gridwidth": 2,
            "linecolor": "white",
            "showbackground": true,
            "ticks": "",
            "zerolinecolor": "white"
           },
           "zaxis": {
            "backgroundcolor": "#E5ECF6",
            "gridcolor": "white",
            "gridwidth": 2,
            "linecolor": "white",
            "showbackground": true,
            "ticks": "",
            "zerolinecolor": "white"
           }
          },
          "shapedefaults": {
           "line": {
            "color": "#2a3f5f"
           }
          },
          "ternary": {
           "aaxis": {
            "gridcolor": "white",
            "linecolor": "white",
            "ticks": ""
           },
           "baxis": {
            "gridcolor": "white",
            "linecolor": "white",
            "ticks": ""
           },
           "bgcolor": "#E5ECF6",
           "caxis": {
            "gridcolor": "white",
            "linecolor": "white",
            "ticks": ""
           }
          },
          "title": {
           "x": 0.05
          },
          "xaxis": {
           "automargin": true,
           "gridcolor": "white",
           "linecolor": "white",
           "ticks": "",
           "title": {
            "standoff": 15
           },
           "zerolinecolor": "white",
           "zerolinewidth": 2
          },
          "yaxis": {
           "automargin": true,
           "gridcolor": "white",
           "linecolor": "white",
           "ticks": "",
           "title": {
            "standoff": 15
           },
           "zerolinecolor": "white",
           "zerolinewidth": 2
          }
         }
        },
        "title": {
         "text": "k-NN Regression: Actual vs Predicted (k=4)"
        },
        "xaxis": {
         "title": {
          "text": "Actual Price ($)"
         }
        },
        "yaxis": {
         "title": {
          "text": "Predicted Price ($)"
         }
        }
       }
      }
     },
     "metadata": {},
     "output_type": "display_data"
    }
   ],
   "source": [
    "# 1. k-NN REGRESSION ANALYSIS\n",
    "print(\" 1. k-NN REGRESSION ANALYSIS\")\n",
    "print(\"=\" * 33)\n",
    "\n",
    "# Prepare regression data\n",
    "reg_features = ['latitude', 'longitude', 'house_size', 'bedrooms', 'bathrooms',\n",
    " 'age_years', 'neighborhood_quality', 'school_rating']\n",
    "X_reg = regression_df[reg_features]\n",
    "y_reg = regression_df['price']\n",
    "\n",
    "# Split data\n",
    "X_reg_train, X_reg_test, y_reg_train, y_reg_test = train_test_split(\n",
    " X_reg, y_reg, test_size=0.2, random_state=42\n",
    ")\n",
    "\n",
    "print(f\"Training set: {X_reg_train.shape}\")\n",
    "print(f\"Test set: {X_reg_test.shape}\")\n",
    "\n",
    "# Feature scaling comparison\n",
    "scalers = {\n",
    " 'StandardScaler': StandardScaler(),\n",
    " 'MinMaxScaler': MinMaxScaler(),\n",
    " 'No Scaling': None\n",
    "}\n",
    "\n",
    "scaling_results = {}\n",
    "\n",
    "for scaler_name, scaler in scalers.items():\n",
    "    if scaler is not None:\n",
    "        X_reg_train_scaled = scaler.fit_transform(X_reg_train)\n",
    "        X_reg_test_scaled = scaler.transform(X_reg_test)\n",
    "    else:\n",
    "        X_reg_train_scaled = X_reg_train.values\n",
    "        X_reg_test_scaled = X_reg_test.values\n",
    "\n",
    "    # Fit k-NN with default k=5\n",
    "    knn_reg = KNeighborsRegressor(n_neighbors=5)\n",
    "    knn_reg.fit(X_reg_train_scaled, y_reg_train)\n",
    "\n",
    "    # Predictions\n",
    "    y_reg_pred = knn_reg.predict(X_reg_test_scaled)\n",
    "\n",
    "    # Metrics\n",
    "    mse = mean_squared_error(y_reg_test, y_reg_pred)\n",
    "    r2 = r2_score(y_reg_test, y_reg_pred)\n",
    "    mae = mean_absolute_error(y_reg_test, y_reg_pred)\n",
    "\n",
    "    scaling_results[scaler_name] = {\n",
    "        'MSE': mse,\n",
    "        'R2': r2,\n",
    "        'MAE': mae,\n",
    "        'RMSE': np.sqrt(mse)\n",
    "    }\n",
    "\n",
    "print(\" Feature Scaling Impact on k-NN Regression:\")\n",
    "scaling_df = pd.DataFrame(scaling_results).T\n",
    "print(scaling_df.round(4))\n",
    "\n",
    "# Choose best scaling method\n",
    "best_scaler_name = scaling_df['R2'].idxmax()\n",
    "best_scaler = scalers[best_scaler_name]\n",
    "\n",
    "print(f\"\\n Best scaling method: {best_scaler_name}\")\n",
    "\n",
    "# Scale data with best scaler\n",
    "if best_scaler is not None:\n",
    "    X_reg_train_final = best_scaler.fit_transform(X_reg_train)\n",
    "    X_reg_test_final = best_scaler.transform(X_reg_test)\n",
    "else:\n",
    "    X_reg_train_final = X_reg_train.values\n",
    "    X_reg_test_final = X_reg_test.values\n",
    "\n",
    "# Visualize scaling impact\n",
    "fig_scaling = go.Figure()\n",
    "\n",
    "metrics = ['R2', 'MSE', 'MAE']\n",
    "colors = ['blue', 'red', 'green']\n",
    "\n",
    "for i, metric in enumerate(metrics):\n",
    "    # Normalize metrics for comparison (R2 is already 0-1, others need normalization)\n",
    "    if metric == 'R2':\n",
    "        values = scaling_df[metric]\n",
    "    else:\n",
    "        values = 1 / (1 + scaling_df[metric] / scaling_df[metric].max()) # Inverse normalization\n",
    "\n",
    "    fig_scaling.add_trace(\n",
    "        go.Bar(\n",
    "            x=scaling_df.index,\n",
    "            y=values,\n",
    "            name=metric,\n",
    "            marker_color=colors[i],\n",
    "            opacity=0.7,\n",
    "            yaxis=f'y{i+1}' if i > 0 else 'y',\n",
    "            offsetgroup=i\n",
    "        )\n",
    "    )\n",
    "\n",
    "fig_scaling.update_layout(\n",
    " title=\"Feature Scaling Impact on k-NN Performance\",\n",
    " xaxis_title=\"Scaling Method\",\n",
    " barmode='group',\n",
    " height=500\n",
    ")\n",
    "fig_scaling.show()\n",
    "\n",
    "# k-value optimization\n",
    "print(f\"\\n Optimal k Selection:\")\n",
    "\n",
    "k_values = range(1, 31)\n",
    "k_scores_cv = []\n",
    "k_scores_train = []\n",
    "k_scores_test = []\n",
    "\n",
    "for k in k_values:\n",
    "    knn_reg = KNeighborsRegressor(n_neighbors=k)\n",
    "\n",
    "    # Cross-validation score\n",
    "    cv_scores = cross_val_score(knn_reg, X_reg_train_final, y_reg_train, cv=5, scoring='r2')\n",
    "    k_scores_cv.append(cv_scores.mean())\n",
    "\n",
    "    # Training and test scores\n",
    "    knn_reg.fit(X_reg_train_final, y_reg_train)\n",
    "    k_scores_train.append(knn_reg.score(X_reg_train_final, y_reg_train))\n",
    "    k_scores_test.append(knn_reg.score(X_reg_test_final, y_reg_test))\n",
    "\n",
    "# Find optimal k\n",
    "optimal_k_cv = k_values[np.argmax(k_scores_cv)]\n",
    "optimal_k_test = k_values[np.argmax(k_scores_test)]\n",
    "\n",
    "print(f\"• Optimal k (CV): {optimal_k_cv} (R² = {max(k_scores_cv):.4f})\")\n",
    "print(f\"• Optimal k (Test): {optimal_k_test} (R² = {max(k_scores_test):.4f})\")\n",
    "\n",
    "# Plot k optimization\n",
    "fig_k_opt = go.Figure()\n",
    "\n",
    "fig_k_opt.add_trace(\n",
    "    go.Scatter(\n",
    "        x=list(k_values),\n",
    "        y=k_scores_train,\n",
    "        mode='lines+markers',\n",
    "        name='Training R²',\n",
    "        line=dict(color='blue'),\n",
    "        hovertemplate=\"k: %{x}<br>Training R²: %{y:.4f}<extra></extra>\"\n",
    "    )\n",
    ")\n",
    "\n",
    "fig_k_opt.add_trace(\n",
    "    go.Scatter(\n",
    "        x=list(k_values),\n",
    "        y=k_scores_cv,\n",
    "        mode='lines+markers',\n",
    "        name='CV R²',\n",
    "        line=dict(color='green'),\n",
    "        hovertemplate=\"k: %{x}<br>CV R²: %{y:.4f}<extra></extra>\"\n",
    "    )\n",
    ")\n",
    "\n",
    "fig_k_opt.add_trace(\n",
    "    go.Scatter(\n",
    "        x=list(k_values),\n",
    "        y=k_scores_test,\n",
    "        mode='lines+markers',\n",
    "        name='Test R²',\n",
    "        line=dict(color='red'),\n",
    "        hovertemplate=\"k: %{x}<br>Test R²: %{y:.4f}<extra></extra>\"\n",
    "    )\n",
    ")\n",
    "\n",
    "# Mark optimal k\n",
    "fig_k_opt.add_vline(\n",
    "    x=optimal_k_cv,\n",
    "    line_dash=\"dash\",\n",
    "    line_color=\"green\",\n",
    "    annotation_text=f\"Optimal k (CV) = {optimal_k_cv}\"\n",
    ")\n",
    "\n",
    "fig_k_opt.update_layout(\n",
    "    title=\"k-NN Regression: Optimal k Selection\",\n",
    "    xaxis_title=\"Number of Neighbors (k)\",\n",
    "    yaxis_title=\"R² Score\",\n",
    "    height=500\n",
    ")\n",
    "fig_k_opt.show()\n",
    "\n",
    "# Fit final model with optimal k\n",
    "knn_reg_optimal = KNeighborsRegressor(n_neighbors=optimal_k_cv)\n",
    "knn_reg_optimal.fit(X_reg_train_final, y_reg_train)\n",
    "\n",
    "# Final predictions\n",
    "y_reg_pred_optimal = knn_reg_optimal.predict(X_reg_test_final)\n",
    "\n",
    "# Final metrics\n",
    "final_mse = mean_squared_error(y_reg_test, y_reg_pred_optimal)\n",
    "final_r2 = r2_score(y_reg_test, y_reg_pred_optimal)\n",
    "final_mae = mean_absolute_error(y_reg_test, y_reg_pred_optimal)\n",
    "\n",
    "print(f\"\\n Final k-NN Regression Performance:\")\n",
    "print(f\"• k = {optimal_k_cv}\")\n",
    "print(f\"• Test R²: {final_r2:.4f}\")\n",
    "print(f\"• Test RMSE: ${np.sqrt(final_mse):,.0f}\")\n",
    "print(f\"• Test MAE: ${final_mae:,.0f}\")\n",
    "\n",
    "# Actual vs Predicted plot\n",
    "fig_pred_reg = go.Figure()\n",
    "\n",
    "fig_pred_reg.add_trace(\n",
    " go.Scatter(\n",
    " x=y_reg_test,\n",
    " y=y_reg_pred_optimal,\n",
    " mode='markers',\n",
    " marker=dict(color='blue', opacity=0.6),\n",
    " name='Predictions',\n",
    " hovertemplate=\"Actual: $%{x:,.0f}<br>Predicted: $%{y:,.0f}<extra></extra>\"\n",
    " )\n",
    ")\n",
    "\n",
    "# Perfect prediction line\n",
    "min_price = min(y_reg_test.min(), y_reg_pred_optimal.min())\n",
    "max_price = max(y_reg_test.max(), y_reg_pred_optimal.max())\n",
    "\n",
    "fig_pred_reg.add_trace(\n",
    " go.Scatter(\n",
    " x=[min_price, max_price],\n",
    " y=[min_price, max_price],\n",
    " mode='lines',\n",
    " line=dict(color='red', dash='dash'),\n",
    " name='Perfect Prediction',\n",
    " hovertemplate=\"Perfect Line<extra></extra>\"\n",
    " )\n",
    ")\n",
    "\n",
    "fig_pred_reg.update_layout(\n",
    " title=f\"k-NN Regression: Actual vs Predicted (k={optimal_k_cv})\",\n",
    " xaxis_title=\"Actual Price ($)\",\n",
    " yaxis_title=\"Predicted Price ($)\",\n",
    " height=500\n",
    ")\n",
    "fig_pred_reg.show()"
   ]
  },
  {
   "cell_type": "code",
   "execution_count": 7,
   "id": "b2ae98de",
   "metadata": {},
   "outputs": [
    {
     "name": "stdout",
     "output_type": "stream",
     "text": [
      " 2. k-NN CLASSIFICATION ANALYSIS\n",
      "===================================\n",
      "Training set: (800, 8)\n",
      "Test set: (200, 8)\n",
      "\n",
      "Class distribution (training):\n",
      "• Premium Young: 30 (3.8%)\n",
      "• Family Focused: 126 (15.8%)\n",
      "• Conservative Savers: 58 (7.2%)\n",
      "• Budget Conscious: 586 (73.2%)\n",
      "\n",
      " Optimal k Selection for Classification:\n",
      "• Optimal k (CV): 10 (Accuracy = 0.8700)\n",
      "• Optimal k (Test): 4 (Accuracy = 0.9100)\n",
      "• Optimal k (CV): 10 (Accuracy = 0.8700)\n",
      "• Optimal k (Test): 4 (Accuracy = 0.9100)\n"
     ]
    },
    {
     "data": {
      "application/vnd.plotly.v1+json": {
       "config": {
        "plotlyServerURL": "https://plot.ly"
       },
       "data": [
        {
         "hovertemplate": "k: %{x}<br>Training Accuracy: %{y:.4f}<extra></extra>",
         "line": {
          "color": "blue"
         },
         "mode": "lines+markers",
         "name": "Training Accuracy",
         "type": "scatter",
         "x": [
          1,
          2,
          3,
          4,
          5,
          6,
          7,
          8,
          9,
          10,
          11,
          12,
          13,
          14,
          15,
          16,
          17,
          18,
          19,
          20,
          21,
          22,
          23,
          24,
          25,
          26,
          27,
          28,
          29,
          30
         ],
         "y": [
          1,
          0.92875,
          0.92,
          0.9125,
          0.9,
          0.89875,
          0.88625,
          0.89,
          0.88,
          0.885,
          0.875,
          0.885,
          0.8725,
          0.8775,
          0.87,
          0.87375,
          0.87,
          0.8675,
          0.87,
          0.86875,
          0.86375,
          0.86625,
          0.8625,
          0.865,
          0.8625,
          0.8625,
          0.855,
          0.85875,
          0.8575,
          0.8525
         ]
        },
        {
         "hovertemplate": "k: %{x}<br>CV Accuracy: %{y:.4f}<extra></extra>",
         "line": {
          "color": "green"
         },
         "mode": "lines+markers",
         "name": "CV Accuracy",
         "type": "scatter",
         "x": [
          1,
          2,
          3,
          4,
          5,
          6,
          7,
          8,
          9,
          10,
          11,
          12,
          13,
          14,
          15,
          16,
          17,
          18,
          19,
          20,
          21,
          22,
          23,
          24,
          25,
          26,
          27,
          28,
          29,
          30
         ],
         "y": [
          0.82,
          0.79,
          0.85,
          0.8550000000000001,
          0.8625,
          0.8675,
          0.86,
          0.8675,
          0.8649999999999999,
          0.8699999999999999,
          0.8612500000000001,
          0.8625,
          0.85625,
          0.8625,
          0.86,
          0.8575000000000002,
          0.85875,
          0.8625,
          0.8550000000000001,
          0.85875,
          0.85125,
          0.85625,
          0.85125,
          0.8550000000000001,
          0.85125,
          0.8512500000000001,
          0.8487500000000001,
          0.8474999999999999,
          0.8474999999999999,
          0.845
         ]
        },
        {
         "hovertemplate": "k: %{x}<br>Test Accuracy: %{y:.4f}<extra></extra>",
         "line": {
          "color": "red"
         },
         "mode": "lines+markers",
         "name": "Test Accuracy",
         "type": "scatter",
         "x": [
          1,
          2,
          3,
          4,
          5,
          6,
          7,
          8,
          9,
          10,
          11,
          12,
          13,
          14,
          15,
          16,
          17,
          18,
          19,
          20,
          21,
          22,
          23,
          24,
          25,
          26,
          27,
          28,
          29,
          30
         ],
         "y": [
          0.865,
          0.825,
          0.88,
          0.91,
          0.9,
          0.905,
          0.89,
          0.895,
          0.885,
          0.885,
          0.88,
          0.88,
          0.875,
          0.875,
          0.865,
          0.87,
          0.87,
          0.87,
          0.87,
          0.87,
          0.865,
          0.865,
          0.87,
          0.865,
          0.86,
          0.86,
          0.855,
          0.855,
          0.855,
          0.855
         ]
        }
       ],
       "layout": {
        "annotations": [
         {
          "showarrow": false,
          "text": "Optimal k (CV) = 10",
          "x": 10,
          "xanchor": "left",
          "xref": "x",
          "y": 1,
          "yanchor": "top",
          "yref": "y domain"
         }
        ],
        "height": 500,
        "shapes": [
         {
          "line": {
           "color": "green",
           "dash": "dash"
          },
          "type": "line",
          "x0": 10,
          "x1": 10,
          "xref": "x",
          "y0": 0,
          "y1": 1,
          "yref": "y domain"
         }
        ],
        "template": {
         "data": {
          "bar": [
           {
            "error_x": {
             "color": "#2a3f5f"
            },
            "error_y": {
             "color": "#2a3f5f"
            },
            "marker": {
             "line": {
              "color": "#E5ECF6",
              "width": 0.5
             },
             "pattern": {
              "fillmode": "overlay",
              "size": 10,
              "solidity": 0.2
             }
            },
            "type": "bar"
           }
          ],
          "barpolar": [
           {
            "marker": {
             "line": {
              "color": "#E5ECF6",
              "width": 0.5
             },
             "pattern": {
              "fillmode": "overlay",
              "size": 10,
              "solidity": 0.2
             }
            },
            "type": "barpolar"
           }
          ],
          "carpet": [
           {
            "aaxis": {
             "endlinecolor": "#2a3f5f",
             "gridcolor": "white",
             "linecolor": "white",
             "minorgridcolor": "white",
             "startlinecolor": "#2a3f5f"
            },
            "baxis": {
             "endlinecolor": "#2a3f5f",
             "gridcolor": "white",
             "linecolor": "white",
             "minorgridcolor": "white",
             "startlinecolor": "#2a3f5f"
            },
            "type": "carpet"
           }
          ],
          "choropleth": [
           {
            "colorbar": {
             "outlinewidth": 0,
             "ticks": ""
            },
            "type": "choropleth"
           }
          ],
          "contour": [
           {
            "colorbar": {
             "outlinewidth": 0,
             "ticks": ""
            },
            "colorscale": [
             [
              0,
              "#0d0887"
             ],
             [
              0.1111111111111111,
              "#46039f"
             ],
             [
              0.2222222222222222,
              "#7201a8"
             ],
             [
              0.3333333333333333,
              "#9c179e"
             ],
             [
              0.4444444444444444,
              "#bd3786"
             ],
             [
              0.5555555555555556,
              "#d8576b"
             ],
             [
              0.6666666666666666,
              "#ed7953"
             ],
             [
              0.7777777777777778,
              "#fb9f3a"
             ],
             [
              0.8888888888888888,
              "#fdca26"
             ],
             [
              1,
              "#f0f921"
             ]
            ],
            "type": "contour"
           }
          ],
          "contourcarpet": [
           {
            "colorbar": {
             "outlinewidth": 0,
             "ticks": ""
            },
            "type": "contourcarpet"
           }
          ],
          "heatmap": [
           {
            "colorbar": {
             "outlinewidth": 0,
             "ticks": ""
            },
            "colorscale": [
             [
              0,
              "#0d0887"
             ],
             [
              0.1111111111111111,
              "#46039f"
             ],
             [
              0.2222222222222222,
              "#7201a8"
             ],
             [
              0.3333333333333333,
              "#9c179e"
             ],
             [
              0.4444444444444444,
              "#bd3786"
             ],
             [
              0.5555555555555556,
              "#d8576b"
             ],
             [
              0.6666666666666666,
              "#ed7953"
             ],
             [
              0.7777777777777778,
              "#fb9f3a"
             ],
             [
              0.8888888888888888,
              "#fdca26"
             ],
             [
              1,
              "#f0f921"
             ]
            ],
            "type": "heatmap"
           }
          ],
          "histogram": [
           {
            "marker": {
             "pattern": {
              "fillmode": "overlay",
              "size": 10,
              "solidity": 0.2
             }
            },
            "type": "histogram"
           }
          ],
          "histogram2d": [
           {
            "colorbar": {
             "outlinewidth": 0,
             "ticks": ""
            },
            "colorscale": [
             [
              0,
              "#0d0887"
             ],
             [
              0.1111111111111111,
              "#46039f"
             ],
             [
              0.2222222222222222,
              "#7201a8"
             ],
             [
              0.3333333333333333,
              "#9c179e"
             ],
             [
              0.4444444444444444,
              "#bd3786"
             ],
             [
              0.5555555555555556,
              "#d8576b"
             ],
             [
              0.6666666666666666,
              "#ed7953"
             ],
             [
              0.7777777777777778,
              "#fb9f3a"
             ],
             [
              0.8888888888888888,
              "#fdca26"
             ],
             [
              1,
              "#f0f921"
             ]
            ],
            "type": "histogram2d"
           }
          ],
          "histogram2dcontour": [
           {
            "colorbar": {
             "outlinewidth": 0,
             "ticks": ""
            },
            "colorscale": [
             [
              0,
              "#0d0887"
             ],
             [
              0.1111111111111111,
              "#46039f"
             ],
             [
              0.2222222222222222,
              "#7201a8"
             ],
             [
              0.3333333333333333,
              "#9c179e"
             ],
             [
              0.4444444444444444,
              "#bd3786"
             ],
             [
              0.5555555555555556,
              "#d8576b"
             ],
             [
              0.6666666666666666,
              "#ed7953"
             ],
             [
              0.7777777777777778,
              "#fb9f3a"
             ],
             [
              0.8888888888888888,
              "#fdca26"
             ],
             [
              1,
              "#f0f921"
             ]
            ],
            "type": "histogram2dcontour"
           }
          ],
          "mesh3d": [
           {
            "colorbar": {
             "outlinewidth": 0,
             "ticks": ""
            },
            "type": "mesh3d"
           }
          ],
          "parcoords": [
           {
            "line": {
             "colorbar": {
              "outlinewidth": 0,
              "ticks": ""
             }
            },
            "type": "parcoords"
           }
          ],
          "pie": [
           {
            "automargin": true,
            "type": "pie"
           }
          ],
          "scatter": [
           {
            "fillpattern": {
             "fillmode": "overlay",
             "size": 10,
             "solidity": 0.2
            },
            "type": "scatter"
           }
          ],
          "scatter3d": [
           {
            "line": {
             "colorbar": {
              "outlinewidth": 0,
              "ticks": ""
             }
            },
            "marker": {
             "colorbar": {
              "outlinewidth": 0,
              "ticks": ""
             }
            },
            "type": "scatter3d"
           }
          ],
          "scattercarpet": [
           {
            "marker": {
             "colorbar": {
              "outlinewidth": 0,
              "ticks": ""
             }
            },
            "type": "scattercarpet"
           }
          ],
          "scattergeo": [
           {
            "marker": {
             "colorbar": {
              "outlinewidth": 0,
              "ticks": ""
             }
            },
            "type": "scattergeo"
           }
          ],
          "scattergl": [
           {
            "marker": {
             "colorbar": {
              "outlinewidth": 0,
              "ticks": ""
             }
            },
            "type": "scattergl"
           }
          ],
          "scattermap": [
           {
            "marker": {
             "colorbar": {
              "outlinewidth": 0,
              "ticks": ""
             }
            },
            "type": "scattermap"
           }
          ],
          "scattermapbox": [
           {
            "marker": {
             "colorbar": {
              "outlinewidth": 0,
              "ticks": ""
             }
            },
            "type": "scattermapbox"
           }
          ],
          "scatterpolar": [
           {
            "marker": {
             "colorbar": {
              "outlinewidth": 0,
              "ticks": ""
             }
            },
            "type": "scatterpolar"
           }
          ],
          "scatterpolargl": [
           {
            "marker": {
             "colorbar": {
              "outlinewidth": 0,
              "ticks": ""
             }
            },
            "type": "scatterpolargl"
           }
          ],
          "scatterternary": [
           {
            "marker": {
             "colorbar": {
              "outlinewidth": 0,
              "ticks": ""
             }
            },
            "type": "scatterternary"
           }
          ],
          "surface": [
           {
            "colorbar": {
             "outlinewidth": 0,
             "ticks": ""
            },
            "colorscale": [
             [
              0,
              "#0d0887"
             ],
             [
              0.1111111111111111,
              "#46039f"
             ],
             [
              0.2222222222222222,
              "#7201a8"
             ],
             [
              0.3333333333333333,
              "#9c179e"
             ],
             [
              0.4444444444444444,
              "#bd3786"
             ],
             [
              0.5555555555555556,
              "#d8576b"
             ],
             [
              0.6666666666666666,
              "#ed7953"
             ],
             [
              0.7777777777777778,
              "#fb9f3a"
             ],
             [
              0.8888888888888888,
              "#fdca26"
             ],
             [
              1,
              "#f0f921"
             ]
            ],
            "type": "surface"
           }
          ],
          "table": [
           {
            "cells": {
             "fill": {
              "color": "#EBF0F8"
             },
             "line": {
              "color": "white"
             }
            },
            "header": {
             "fill": {
              "color": "#C8D4E3"
             },
             "line": {
              "color": "white"
             }
            },
            "type": "table"
           }
          ]
         },
         "layout": {
          "annotationdefaults": {
           "arrowcolor": "#2a3f5f",
           "arrowhead": 0,
           "arrowwidth": 1
          },
          "autotypenumbers": "strict",
          "coloraxis": {
           "colorbar": {
            "outlinewidth": 0,
            "ticks": ""
           }
          },
          "colorscale": {
           "diverging": [
            [
             0,
             "#8e0152"
            ],
            [
             0.1,
             "#c51b7d"
            ],
            [
             0.2,
             "#de77ae"
            ],
            [
             0.3,
             "#f1b6da"
            ],
            [
             0.4,
             "#fde0ef"
            ],
            [
             0.5,
             "#f7f7f7"
            ],
            [
             0.6,
             "#e6f5d0"
            ],
            [
             0.7,
             "#b8e186"
            ],
            [
             0.8,
             "#7fbc41"
            ],
            [
             0.9,
             "#4d9221"
            ],
            [
             1,
             "#276419"
            ]
           ],
           "sequential": [
            [
             0,
             "#0d0887"
            ],
            [
             0.1111111111111111,
             "#46039f"
            ],
            [
             0.2222222222222222,
             "#7201a8"
            ],
            [
             0.3333333333333333,
             "#9c179e"
            ],
            [
             0.4444444444444444,
             "#bd3786"
            ],
            [
             0.5555555555555556,
             "#d8576b"
            ],
            [
             0.6666666666666666,
             "#ed7953"
            ],
            [
             0.7777777777777778,
             "#fb9f3a"
            ],
            [
             0.8888888888888888,
             "#fdca26"
            ],
            [
             1,
             "#f0f921"
            ]
           ],
           "sequentialminus": [
            [
             0,
             "#0d0887"
            ],
            [
             0.1111111111111111,
             "#46039f"
            ],
            [
             0.2222222222222222,
             "#7201a8"
            ],
            [
             0.3333333333333333,
             "#9c179e"
            ],
            [
             0.4444444444444444,
             "#bd3786"
            ],
            [
             0.5555555555555556,
             "#d8576b"
            ],
            [
             0.6666666666666666,
             "#ed7953"
            ],
            [
             0.7777777777777778,
             "#fb9f3a"
            ],
            [
             0.8888888888888888,
             "#fdca26"
            ],
            [
             1,
             "#f0f921"
            ]
           ]
          },
          "colorway": [
           "#636efa",
           "#EF553B",
           "#00cc96",
           "#ab63fa",
           "#FFA15A",
           "#19d3f3",
           "#FF6692",
           "#B6E880",
           "#FF97FF",
           "#FECB52"
          ],
          "font": {
           "color": "#2a3f5f"
          },
          "geo": {
           "bgcolor": "white",
           "lakecolor": "white",
           "landcolor": "#E5ECF6",
           "showlakes": true,
           "showland": true,
           "subunitcolor": "white"
          },
          "hoverlabel": {
           "align": "left"
          },
          "hovermode": "closest",
          "mapbox": {
           "style": "light"
          },
          "paper_bgcolor": "white",
          "plot_bgcolor": "#E5ECF6",
          "polar": {
           "angularaxis": {
            "gridcolor": "white",
            "linecolor": "white",
            "ticks": ""
           },
           "bgcolor": "#E5ECF6",
           "radialaxis": {
            "gridcolor": "white",
            "linecolor": "white",
            "ticks": ""
           }
          },
          "scene": {
           "xaxis": {
            "backgroundcolor": "#E5ECF6",
            "gridcolor": "white",
            "gridwidth": 2,
            "linecolor": "white",
            "showbackground": true,
            "ticks": "",
            "zerolinecolor": "white"
           },
           "yaxis": {
            "backgroundcolor": "#E5ECF6",
            "gridcolor": "white",
            "gridwidth": 2,
            "linecolor": "white",
            "showbackground": true,
            "ticks": "",
            "zerolinecolor": "white"
           },
           "zaxis": {
            "backgroundcolor": "#E5ECF6",
            "gridcolor": "white",
            "gridwidth": 2,
            "linecolor": "white",
            "showbackground": true,
            "ticks": "",
            "zerolinecolor": "white"
           }
          },
          "shapedefaults": {
           "line": {
            "color": "#2a3f5f"
           }
          },
          "ternary": {
           "aaxis": {
            "gridcolor": "white",
            "linecolor": "white",
            "ticks": ""
           },
           "baxis": {
            "gridcolor": "white",
            "linecolor": "white",
            "ticks": ""
           },
           "bgcolor": "#E5ECF6",
           "caxis": {
            "gridcolor": "white",
            "linecolor": "white",
            "ticks": ""
           }
          },
          "title": {
           "x": 0.05
          },
          "xaxis": {
           "automargin": true,
           "gridcolor": "white",
           "linecolor": "white",
           "ticks": "",
           "title": {
            "standoff": 15
           },
           "zerolinecolor": "white",
           "zerolinewidth": 2
          },
          "yaxis": {
           "automargin": true,
           "gridcolor": "white",
           "linecolor": "white",
           "ticks": "",
           "title": {
            "standoff": 15
           },
           "zerolinecolor": "white",
           "zerolinewidth": 2
          }
         }
        },
        "title": {
         "text": "k-NN Classification: Optimal k Selection"
        },
        "xaxis": {
         "title": {
          "text": "Number of Neighbors (k)"
         }
        },
        "yaxis": {
         "title": {
          "text": "Accuracy Score"
         }
        }
       }
      }
     },
     "metadata": {},
     "output_type": "display_data"
    },
    {
     "name": "stdout",
     "output_type": "stream",
     "text": [
      "\n",
      " Final k-NN Classification Performance:\n",
      "• k = 10\n",
      "• Test Accuracy: 0.8850\n",
      "\n",
      "Detailed Classification Report:\n",
      "                     precision    recall  f1-score   support\n",
      "\n",
      "      Premium Young       0.83      0.71      0.77         7\n",
      "     Family Focused       0.83      0.78      0.81        32\n",
      "Conservative Savers       1.00      0.36      0.53        14\n",
      "   Budget Conscious       0.89      0.97      0.93       147\n",
      "\n",
      "           accuracy                           0.89       200\n",
      "          macro avg       0.89      0.70      0.76       200\n",
      "       weighted avg       0.89      0.89      0.87       200\n",
      "\n"
     ]
    },
    {
     "data": {
      "application/vnd.plotly.v1+json": {
       "config": {
        "plotlyServerURL": "https://plot.ly"
       },
       "data": [
        {
         "colorscale": [
          [
           0,
           "rgb(247,251,255)"
          ],
          [
           0.125,
           "rgb(222,235,247)"
          ],
          [
           0.25,
           "rgb(198,219,239)"
          ],
          [
           0.375,
           "rgb(158,202,225)"
          ],
          [
           0.5,
           "rgb(107,174,214)"
          ],
          [
           0.625,
           "rgb(66,146,198)"
          ],
          [
           0.75,
           "rgb(33,113,181)"
          ],
          [
           0.875,
           "rgb(8,81,156)"
          ],
          [
           1,
           "rgb(8,48,107)"
          ]
         ],
         "reversescale": false,
         "showscale": true,
         "type": "heatmap",
         "x": [
          "Premium Young",
          "Family Focused",
          "Conservative Savers",
          "Budget Conscious"
         ],
         "y": [
          "Premium Young",
          "Family Focused",
          "Conservative Savers",
          "Budget Conscious"
         ],
         "z": {
          "bdata": "BQAAAAAAAgABABkAAAAGAAAAAAAFAAkAAAAFAAAAjgA=",
          "dtype": "i2",
          "shape": "4, 4"
         }
        }
       ],
       "layout": {
        "annotations": [
         {
          "font": {
           "color": "#000000"
          },
          "showarrow": false,
          "text": "5",
          "x": "Premium Young",
          "xref": "x",
          "y": "Premium Young",
          "yref": "y"
         },
         {
          "font": {
           "color": "#000000"
          },
          "showarrow": false,
          "text": "0",
          "x": "Family Focused",
          "xref": "x",
          "y": "Premium Young",
          "yref": "y"
         },
         {
          "font": {
           "color": "#000000"
          },
          "showarrow": false,
          "text": "0",
          "x": "Conservative Savers",
          "xref": "x",
          "y": "Premium Young",
          "yref": "y"
         },
         {
          "font": {
           "color": "#000000"
          },
          "showarrow": false,
          "text": "2",
          "x": "Budget Conscious",
          "xref": "x",
          "y": "Premium Young",
          "yref": "y"
         },
         {
          "font": {
           "color": "#000000"
          },
          "showarrow": false,
          "text": "1",
          "x": "Premium Young",
          "xref": "x",
          "y": "Family Focused",
          "yref": "y"
         },
         {
          "font": {
           "color": "#000000"
          },
          "showarrow": false,
          "text": "25",
          "x": "Family Focused",
          "xref": "x",
          "y": "Family Focused",
          "yref": "y"
         },
         {
          "font": {
           "color": "#000000"
          },
          "showarrow": false,
          "text": "0",
          "x": "Conservative Savers",
          "xref": "x",
          "y": "Family Focused",
          "yref": "y"
         },
         {
          "font": {
           "color": "#000000"
          },
          "showarrow": false,
          "text": "6",
          "x": "Budget Conscious",
          "xref": "x",
          "y": "Family Focused",
          "yref": "y"
         },
         {
          "font": {
           "color": "#000000"
          },
          "showarrow": false,
          "text": "0",
          "x": "Premium Young",
          "xref": "x",
          "y": "Conservative Savers",
          "yref": "y"
         },
         {
          "font": {
           "color": "#000000"
          },
          "showarrow": false,
          "text": "0",
          "x": "Family Focused",
          "xref": "x",
          "y": "Conservative Savers",
          "yref": "y"
         },
         {
          "font": {
           "color": "#000000"
          },
          "showarrow": false,
          "text": "5",
          "x": "Conservative Savers",
          "xref": "x",
          "y": "Conservative Savers",
          "yref": "y"
         },
         {
          "font": {
           "color": "#000000"
          },
          "showarrow": false,
          "text": "9",
          "x": "Budget Conscious",
          "xref": "x",
          "y": "Conservative Savers",
          "yref": "y"
         },
         {
          "font": {
           "color": "#000000"
          },
          "showarrow": false,
          "text": "0",
          "x": "Premium Young",
          "xref": "x",
          "y": "Budget Conscious",
          "yref": "y"
         },
         {
          "font": {
           "color": "#000000"
          },
          "showarrow": false,
          "text": "5",
          "x": "Family Focused",
          "xref": "x",
          "y": "Budget Conscious",
          "yref": "y"
         },
         {
          "font": {
           "color": "#000000"
          },
          "showarrow": false,
          "text": "0",
          "x": "Conservative Savers",
          "xref": "x",
          "y": "Budget Conscious",
          "yref": "y"
         },
         {
          "font": {
           "color": "#FFFFFF"
          },
          "showarrow": false,
          "text": "142",
          "x": "Budget Conscious",
          "xref": "x",
          "y": "Budget Conscious",
          "yref": "y"
         }
        ],
        "height": 500,
        "template": {
         "data": {
          "bar": [
           {
            "error_x": {
             "color": "#2a3f5f"
            },
            "error_y": {
             "color": "#2a3f5f"
            },
            "marker": {
             "line": {
              "color": "#E5ECF6",
              "width": 0.5
             },
             "pattern": {
              "fillmode": "overlay",
              "size": 10,
              "solidity": 0.2
             }
            },
            "type": "bar"
           }
          ],
          "barpolar": [
           {
            "marker": {
             "line": {
              "color": "#E5ECF6",
              "width": 0.5
             },
             "pattern": {
              "fillmode": "overlay",
              "size": 10,
              "solidity": 0.2
             }
            },
            "type": "barpolar"
           }
          ],
          "carpet": [
           {
            "aaxis": {
             "endlinecolor": "#2a3f5f",
             "gridcolor": "white",
             "linecolor": "white",
             "minorgridcolor": "white",
             "startlinecolor": "#2a3f5f"
            },
            "baxis": {
             "endlinecolor": "#2a3f5f",
             "gridcolor": "white",
             "linecolor": "white",
             "minorgridcolor": "white",
             "startlinecolor": "#2a3f5f"
            },
            "type": "carpet"
           }
          ],
          "choropleth": [
           {
            "colorbar": {
             "outlinewidth": 0,
             "ticks": ""
            },
            "type": "choropleth"
           }
          ],
          "contour": [
           {
            "colorbar": {
             "outlinewidth": 0,
             "ticks": ""
            },
            "colorscale": [
             [
              0,
              "#0d0887"
             ],
             [
              0.1111111111111111,
              "#46039f"
             ],
             [
              0.2222222222222222,
              "#7201a8"
             ],
             [
              0.3333333333333333,
              "#9c179e"
             ],
             [
              0.4444444444444444,
              "#bd3786"
             ],
             [
              0.5555555555555556,
              "#d8576b"
             ],
             [
              0.6666666666666666,
              "#ed7953"
             ],
             [
              0.7777777777777778,
              "#fb9f3a"
             ],
             [
              0.8888888888888888,
              "#fdca26"
             ],
             [
              1,
              "#f0f921"
             ]
            ],
            "type": "contour"
           }
          ],
          "contourcarpet": [
           {
            "colorbar": {
             "outlinewidth": 0,
             "ticks": ""
            },
            "type": "contourcarpet"
           }
          ],
          "heatmap": [
           {
            "colorbar": {
             "outlinewidth": 0,
             "ticks": ""
            },
            "colorscale": [
             [
              0,
              "#0d0887"
             ],
             [
              0.1111111111111111,
              "#46039f"
             ],
             [
              0.2222222222222222,
              "#7201a8"
             ],
             [
              0.3333333333333333,
              "#9c179e"
             ],
             [
              0.4444444444444444,
              "#bd3786"
             ],
             [
              0.5555555555555556,
              "#d8576b"
             ],
             [
              0.6666666666666666,
              "#ed7953"
             ],
             [
              0.7777777777777778,
              "#fb9f3a"
             ],
             [
              0.8888888888888888,
              "#fdca26"
             ],
             [
              1,
              "#f0f921"
             ]
            ],
            "type": "heatmap"
           }
          ],
          "histogram": [
           {
            "marker": {
             "pattern": {
              "fillmode": "overlay",
              "size": 10,
              "solidity": 0.2
             }
            },
            "type": "histogram"
           }
          ],
          "histogram2d": [
           {
            "colorbar": {
             "outlinewidth": 0,
             "ticks": ""
            },
            "colorscale": [
             [
              0,
              "#0d0887"
             ],
             [
              0.1111111111111111,
              "#46039f"
             ],
             [
              0.2222222222222222,
              "#7201a8"
             ],
             [
              0.3333333333333333,
              "#9c179e"
             ],
             [
              0.4444444444444444,
              "#bd3786"
             ],
             [
              0.5555555555555556,
              "#d8576b"
             ],
             [
              0.6666666666666666,
              "#ed7953"
             ],
             [
              0.7777777777777778,
              "#fb9f3a"
             ],
             [
              0.8888888888888888,
              "#fdca26"
             ],
             [
              1,
              "#f0f921"
             ]
            ],
            "type": "histogram2d"
           }
          ],
          "histogram2dcontour": [
           {
            "colorbar": {
             "outlinewidth": 0,
             "ticks": ""
            },
            "colorscale": [
             [
              0,
              "#0d0887"
             ],
             [
              0.1111111111111111,
              "#46039f"
             ],
             [
              0.2222222222222222,
              "#7201a8"
             ],
             [
              0.3333333333333333,
              "#9c179e"
             ],
             [
              0.4444444444444444,
              "#bd3786"
             ],
             [
              0.5555555555555556,
              "#d8576b"
             ],
             [
              0.6666666666666666,
              "#ed7953"
             ],
             [
              0.7777777777777778,
              "#fb9f3a"
             ],
             [
              0.8888888888888888,
              "#fdca26"
             ],
             [
              1,
              "#f0f921"
             ]
            ],
            "type": "histogram2dcontour"
           }
          ],
          "mesh3d": [
           {
            "colorbar": {
             "outlinewidth": 0,
             "ticks": ""
            },
            "type": "mesh3d"
           }
          ],
          "parcoords": [
           {
            "line": {
             "colorbar": {
              "outlinewidth": 0,
              "ticks": ""
             }
            },
            "type": "parcoords"
           }
          ],
          "pie": [
           {
            "automargin": true,
            "type": "pie"
           }
          ],
          "scatter": [
           {
            "fillpattern": {
             "fillmode": "overlay",
             "size": 10,
             "solidity": 0.2
            },
            "type": "scatter"
           }
          ],
          "scatter3d": [
           {
            "line": {
             "colorbar": {
              "outlinewidth": 0,
              "ticks": ""
             }
            },
            "marker": {
             "colorbar": {
              "outlinewidth": 0,
              "ticks": ""
             }
            },
            "type": "scatter3d"
           }
          ],
          "scattercarpet": [
           {
            "marker": {
             "colorbar": {
              "outlinewidth": 0,
              "ticks": ""
             }
            },
            "type": "scattercarpet"
           }
          ],
          "scattergeo": [
           {
            "marker": {
             "colorbar": {
              "outlinewidth": 0,
              "ticks": ""
             }
            },
            "type": "scattergeo"
           }
          ],
          "scattergl": [
           {
            "marker": {
             "colorbar": {
              "outlinewidth": 0,
              "ticks": ""
             }
            },
            "type": "scattergl"
           }
          ],
          "scattermap": [
           {
            "marker": {
             "colorbar": {
              "outlinewidth": 0,
              "ticks": ""
             }
            },
            "type": "scattermap"
           }
          ],
          "scattermapbox": [
           {
            "marker": {
             "colorbar": {
              "outlinewidth": 0,
              "ticks": ""
             }
            },
            "type": "scattermapbox"
           }
          ],
          "scatterpolar": [
           {
            "marker": {
             "colorbar": {
              "outlinewidth": 0,
              "ticks": ""
             }
            },
            "type": "scatterpolar"
           }
          ],
          "scatterpolargl": [
           {
            "marker": {
             "colorbar": {
              "outlinewidth": 0,
              "ticks": ""
             }
            },
            "type": "scatterpolargl"
           }
          ],
          "scatterternary": [
           {
            "marker": {
             "colorbar": {
              "outlinewidth": 0,
              "ticks": ""
             }
            },
            "type": "scatterternary"
           }
          ],
          "surface": [
           {
            "colorbar": {
             "outlinewidth": 0,
             "ticks": ""
            },
            "colorscale": [
             [
              0,
              "#0d0887"
             ],
             [
              0.1111111111111111,
              "#46039f"
             ],
             [
              0.2222222222222222,
              "#7201a8"
             ],
             [
              0.3333333333333333,
              "#9c179e"
             ],
             [
              0.4444444444444444,
              "#bd3786"
             ],
             [
              0.5555555555555556,
              "#d8576b"
             ],
             [
              0.6666666666666666,
              "#ed7953"
             ],
             [
              0.7777777777777778,
              "#fb9f3a"
             ],
             [
              0.8888888888888888,
              "#fdca26"
             ],
             [
              1,
              "#f0f921"
             ]
            ],
            "type": "surface"
           }
          ],
          "table": [
           {
            "cells": {
             "fill": {
              "color": "#EBF0F8"
             },
             "line": {
              "color": "white"
             }
            },
            "header": {
             "fill": {
              "color": "#C8D4E3"
             },
             "line": {
              "color": "white"
             }
            },
            "type": "table"
           }
          ]
         },
         "layout": {
          "annotationdefaults": {
           "arrowcolor": "#2a3f5f",
           "arrowhead": 0,
           "arrowwidth": 1
          },
          "autotypenumbers": "strict",
          "coloraxis": {
           "colorbar": {
            "outlinewidth": 0,
            "ticks": ""
           }
          },
          "colorscale": {
           "diverging": [
            [
             0,
             "#8e0152"
            ],
            [
             0.1,
             "#c51b7d"
            ],
            [
             0.2,
             "#de77ae"
            ],
            [
             0.3,
             "#f1b6da"
            ],
            [
             0.4,
             "#fde0ef"
            ],
            [
             0.5,
             "#f7f7f7"
            ],
            [
             0.6,
             "#e6f5d0"
            ],
            [
             0.7,
             "#b8e186"
            ],
            [
             0.8,
             "#7fbc41"
            ],
            [
             0.9,
             "#4d9221"
            ],
            [
             1,
             "#276419"
            ]
           ],
           "sequential": [
            [
             0,
             "#0d0887"
            ],
            [
             0.1111111111111111,
             "#46039f"
            ],
            [
             0.2222222222222222,
             "#7201a8"
            ],
            [
             0.3333333333333333,
             "#9c179e"
            ],
            [
             0.4444444444444444,
             "#bd3786"
            ],
            [
             0.5555555555555556,
             "#d8576b"
            ],
            [
             0.6666666666666666,
             "#ed7953"
            ],
            [
             0.7777777777777778,
             "#fb9f3a"
            ],
            [
             0.8888888888888888,
             "#fdca26"
            ],
            [
             1,
             "#f0f921"
            ]
           ],
           "sequentialminus": [
            [
             0,
             "#0d0887"
            ],
            [
             0.1111111111111111,
             "#46039f"
            ],
            [
             0.2222222222222222,
             "#7201a8"
            ],
            [
             0.3333333333333333,
             "#9c179e"
            ],
            [
             0.4444444444444444,
             "#bd3786"
            ],
            [
             0.5555555555555556,
             "#d8576b"
            ],
            [
             0.6666666666666666,
             "#ed7953"
            ],
            [
             0.7777777777777778,
             "#fb9f3a"
            ],
            [
             0.8888888888888888,
             "#fdca26"
            ],
            [
             1,
             "#f0f921"
            ]
           ]
          },
          "colorway": [
           "#636efa",
           "#EF553B",
           "#00cc96",
           "#ab63fa",
           "#FFA15A",
           "#19d3f3",
           "#FF6692",
           "#B6E880",
           "#FF97FF",
           "#FECB52"
          ],
          "font": {
           "color": "#2a3f5f"
          },
          "geo": {
           "bgcolor": "white",
           "lakecolor": "white",
           "landcolor": "#E5ECF6",
           "showlakes": true,
           "showland": true,
           "subunitcolor": "white"
          },
          "hoverlabel": {
           "align": "left"
          },
          "hovermode": "closest",
          "mapbox": {
           "style": "light"
          },
          "paper_bgcolor": "white",
          "plot_bgcolor": "#E5ECF6",
          "polar": {
           "angularaxis": {
            "gridcolor": "white",
            "linecolor": "white",
            "ticks": ""
           },
           "bgcolor": "#E5ECF6",
           "radialaxis": {
            "gridcolor": "white",
            "linecolor": "white",
            "ticks": ""
           }
          },
          "scene": {
           "xaxis": {
            "backgroundcolor": "#E5ECF6",
            "gridcolor": "white",
            "gridwidth": 2,
            "linecolor": "white",
            "showbackground": true,
            "ticks": "",
            "zerolinecolor": "white"
           },
           "yaxis": {
            "backgroundcolor": "#E5ECF6",
            "gridcolor": "white",
            "gridwidth": 2,
            "linecolor": "white",
            "showbackground": true,
            "ticks": "",
            "zerolinecolor": "white"
           },
           "zaxis": {
            "backgroundcolor": "#E5ECF6",
            "gridcolor": "white",
            "gridwidth": 2,
            "linecolor": "white",
            "showbackground": true,
            "ticks": "",
            "zerolinecolor": "white"
           }
          },
          "shapedefaults": {
           "line": {
            "color": "#2a3f5f"
           }
          },
          "ternary": {
           "aaxis": {
            "gridcolor": "white",
            "linecolor": "white",
            "ticks": ""
           },
           "baxis": {
            "gridcolor": "white",
            "linecolor": "white",
            "ticks": ""
           },
           "bgcolor": "#E5ECF6",
           "caxis": {
            "gridcolor": "white",
            "linecolor": "white",
            "ticks": ""
           }
          },
          "title": {
           "x": 0.05
          },
          "xaxis": {
           "automargin": true,
           "gridcolor": "white",
           "linecolor": "white",
           "ticks": "",
           "title": {
            "standoff": 15
           },
           "zerolinecolor": "white",
           "zerolinewidth": 2
          },
          "yaxis": {
           "automargin": true,
           "gridcolor": "white",
           "linecolor": "white",
           "ticks": "",
           "title": {
            "standoff": 15
           },
           "zerolinecolor": "white",
           "zerolinewidth": 2
          }
         }
        },
        "title": {
         "text": "k-NN Classification Confusion Matrix (k=10)"
        },
        "xaxis": {
         "dtick": 1,
         "gridcolor": "rgb(0, 0, 0)",
         "side": "top",
         "ticks": "",
         "title": {
          "text": "Predicted Segment"
         }
        },
        "yaxis": {
         "dtick": 1,
         "ticks": "",
         "ticksuffix": "  ",
         "title": {
          "text": "Actual Segment"
         }
        }
       }
      }
     },
     "metadata": {},
     "output_type": "display_data"
    },
    {
     "name": "stdout",
     "output_type": "stream",
     "text": [
      "\n",
      " Feature Impact Analysis:\n",
      "Feature Impact (based on standard deviation):\n",
      "• annual_income: 0.125\n",
      "• spending_score: 0.125\n",
      "• monthly_purchases: 0.125\n",
      "• electronics_purchases: 0.125\n",
      "• clothing_purchases: 0.125\n",
      "• grocery_purchases: 0.125\n",
      "• years_customer: 0.125\n",
      "• customer_age: 0.125\n"
     ]
    },
    {
     "data": {
      "application/vnd.plotly.v1+json": {
       "config": {
        "plotlyServerURL": "https://plot.ly"
       },
       "data": [
        {
         "hovertemplate": "Feature: %{x}<br>Importance: %{y:.3f}<extra></extra>",
         "marker": {
          "color": "skyblue"
         },
         "type": "bar",
         "x": [
          "annual_income",
          "spending_score",
          "monthly_purchases",
          "electronics_purchases",
          "clothing_purchases",
          "grocery_purchases",
          "years_customer",
          "customer_age"
         ],
         "y": {
          "bdata": "AAAAAAAAwD8AAAAAAADAPwAAAAAAAMA/AAAAAAAAwD8AAAAAAADAPwAAAAAAAMA/////////vz/+//////+/Pw==",
          "dtype": "f8"
         }
        }
       ],
       "layout": {
        "height": 500,
        "template": {
         "data": {
          "bar": [
           {
            "error_x": {
             "color": "#2a3f5f"
            },
            "error_y": {
             "color": "#2a3f5f"
            },
            "marker": {
             "line": {
              "color": "#E5ECF6",
              "width": 0.5
             },
             "pattern": {
              "fillmode": "overlay",
              "size": 10,
              "solidity": 0.2
             }
            },
            "type": "bar"
           }
          ],
          "barpolar": [
           {
            "marker": {
             "line": {
              "color": "#E5ECF6",
              "width": 0.5
             },
             "pattern": {
              "fillmode": "overlay",
              "size": 10,
              "solidity": 0.2
             }
            },
            "type": "barpolar"
           }
          ],
          "carpet": [
           {
            "aaxis": {
             "endlinecolor": "#2a3f5f",
             "gridcolor": "white",
             "linecolor": "white",
             "minorgridcolor": "white",
             "startlinecolor": "#2a3f5f"
            },
            "baxis": {
             "endlinecolor": "#2a3f5f",
             "gridcolor": "white",
             "linecolor": "white",
             "minorgridcolor": "white",
             "startlinecolor": "#2a3f5f"
            },
            "type": "carpet"
           }
          ],
          "choropleth": [
           {
            "colorbar": {
             "outlinewidth": 0,
             "ticks": ""
            },
            "type": "choropleth"
           }
          ],
          "contour": [
           {
            "colorbar": {
             "outlinewidth": 0,
             "ticks": ""
            },
            "colorscale": [
             [
              0,
              "#0d0887"
             ],
             [
              0.1111111111111111,
              "#46039f"
             ],
             [
              0.2222222222222222,
              "#7201a8"
             ],
             [
              0.3333333333333333,
              "#9c179e"
             ],
             [
              0.4444444444444444,
              "#bd3786"
             ],
             [
              0.5555555555555556,
              "#d8576b"
             ],
             [
              0.6666666666666666,
              "#ed7953"
             ],
             [
              0.7777777777777778,
              "#fb9f3a"
             ],
             [
              0.8888888888888888,
              "#fdca26"
             ],
             [
              1,
              "#f0f921"
             ]
            ],
            "type": "contour"
           }
          ],
          "contourcarpet": [
           {
            "colorbar": {
             "outlinewidth": 0,
             "ticks": ""
            },
            "type": "contourcarpet"
           }
          ],
          "heatmap": [
           {
            "colorbar": {
             "outlinewidth": 0,
             "ticks": ""
            },
            "colorscale": [
             [
              0,
              "#0d0887"
             ],
             [
              0.1111111111111111,
              "#46039f"
             ],
             [
              0.2222222222222222,
              "#7201a8"
             ],
             [
              0.3333333333333333,
              "#9c179e"
             ],
             [
              0.4444444444444444,
              "#bd3786"
             ],
             [
              0.5555555555555556,
              "#d8576b"
             ],
             [
              0.6666666666666666,
              "#ed7953"
             ],
             [
              0.7777777777777778,
              "#fb9f3a"
             ],
             [
              0.8888888888888888,
              "#fdca26"
             ],
             [
              1,
              "#f0f921"
             ]
            ],
            "type": "heatmap"
           }
          ],
          "histogram": [
           {
            "marker": {
             "pattern": {
              "fillmode": "overlay",
              "size": 10,
              "solidity": 0.2
             }
            },
            "type": "histogram"
           }
          ],
          "histogram2d": [
           {
            "colorbar": {
             "outlinewidth": 0,
             "ticks": ""
            },
            "colorscale": [
             [
              0,
              "#0d0887"
             ],
             [
              0.1111111111111111,
              "#46039f"
             ],
             [
              0.2222222222222222,
              "#7201a8"
             ],
             [
              0.3333333333333333,
              "#9c179e"
             ],
             [
              0.4444444444444444,
              "#bd3786"
             ],
             [
              0.5555555555555556,
              "#d8576b"
             ],
             [
              0.6666666666666666,
              "#ed7953"
             ],
             [
              0.7777777777777778,
              "#fb9f3a"
             ],
             [
              0.8888888888888888,
              "#fdca26"
             ],
             [
              1,
              "#f0f921"
             ]
            ],
            "type": "histogram2d"
           }
          ],
          "histogram2dcontour": [
           {
            "colorbar": {
             "outlinewidth": 0,
             "ticks": ""
            },
            "colorscale": [
             [
              0,
              "#0d0887"
             ],
             [
              0.1111111111111111,
              "#46039f"
             ],
             [
              0.2222222222222222,
              "#7201a8"
             ],
             [
              0.3333333333333333,
              "#9c179e"
             ],
             [
              0.4444444444444444,
              "#bd3786"
             ],
             [
              0.5555555555555556,
              "#d8576b"
             ],
             [
              0.6666666666666666,
              "#ed7953"
             ],
             [
              0.7777777777777778,
              "#fb9f3a"
             ],
             [
              0.8888888888888888,
              "#fdca26"
             ],
             [
              1,
              "#f0f921"
             ]
            ],
            "type": "histogram2dcontour"
           }
          ],
          "mesh3d": [
           {
            "colorbar": {
             "outlinewidth": 0,
             "ticks": ""
            },
            "type": "mesh3d"
           }
          ],
          "parcoords": [
           {
            "line": {
             "colorbar": {
              "outlinewidth": 0,
              "ticks": ""
             }
            },
            "type": "parcoords"
           }
          ],
          "pie": [
           {
            "automargin": true,
            "type": "pie"
           }
          ],
          "scatter": [
           {
            "fillpattern": {
             "fillmode": "overlay",
             "size": 10,
             "solidity": 0.2
            },
            "type": "scatter"
           }
          ],
          "scatter3d": [
           {
            "line": {
             "colorbar": {
              "outlinewidth": 0,
              "ticks": ""
             }
            },
            "marker": {
             "colorbar": {
              "outlinewidth": 0,
              "ticks": ""
             }
            },
            "type": "scatter3d"
           }
          ],
          "scattercarpet": [
           {
            "marker": {
             "colorbar": {
              "outlinewidth": 0,
              "ticks": ""
             }
            },
            "type": "scattercarpet"
           }
          ],
          "scattergeo": [
           {
            "marker": {
             "colorbar": {
              "outlinewidth": 0,
              "ticks": ""
             }
            },
            "type": "scattergeo"
           }
          ],
          "scattergl": [
           {
            "marker": {
             "colorbar": {
              "outlinewidth": 0,
              "ticks": ""
             }
            },
            "type": "scattergl"
           }
          ],
          "scattermap": [
           {
            "marker": {
             "colorbar": {
              "outlinewidth": 0,
              "ticks": ""
             }
            },
            "type": "scattermap"
           }
          ],
          "scattermapbox": [
           {
            "marker": {
             "colorbar": {
              "outlinewidth": 0,
              "ticks": ""
             }
            },
            "type": "scattermapbox"
           }
          ],
          "scatterpolar": [
           {
            "marker": {
             "colorbar": {
              "outlinewidth": 0,
              "ticks": ""
             }
            },
            "type": "scatterpolar"
           }
          ],
          "scatterpolargl": [
           {
            "marker": {
             "colorbar": {
              "outlinewidth": 0,
              "ticks": ""
             }
            },
            "type": "scatterpolargl"
           }
          ],
          "scatterternary": [
           {
            "marker": {
             "colorbar": {
              "outlinewidth": 0,
              "ticks": ""
             }
            },
            "type": "scatterternary"
           }
          ],
          "surface": [
           {
            "colorbar": {
             "outlinewidth": 0,
             "ticks": ""
            },
            "colorscale": [
             [
              0,
              "#0d0887"
             ],
             [
              0.1111111111111111,
              "#46039f"
             ],
             [
              0.2222222222222222,
              "#7201a8"
             ],
             [
              0.3333333333333333,
              "#9c179e"
             ],
             [
              0.4444444444444444,
              "#bd3786"
             ],
             [
              0.5555555555555556,
              "#d8576b"
             ],
             [
              0.6666666666666666,
              "#ed7953"
             ],
             [
              0.7777777777777778,
              "#fb9f3a"
             ],
             [
              0.8888888888888888,
              "#fdca26"
             ],
             [
              1,
              "#f0f921"
             ]
            ],
            "type": "surface"
           }
          ],
          "table": [
           {
            "cells": {
             "fill": {
              "color": "#EBF0F8"
             },
             "line": {
              "color": "white"
             }
            },
            "header": {
             "fill": {
              "color": "#C8D4E3"
             },
             "line": {
              "color": "white"
             }
            },
            "type": "table"
           }
          ]
         },
         "layout": {
          "annotationdefaults": {
           "arrowcolor": "#2a3f5f",
           "arrowhead": 0,
           "arrowwidth": 1
          },
          "autotypenumbers": "strict",
          "coloraxis": {
           "colorbar": {
            "outlinewidth": 0,
            "ticks": ""
           }
          },
          "colorscale": {
           "diverging": [
            [
             0,
             "#8e0152"
            ],
            [
             0.1,
             "#c51b7d"
            ],
            [
             0.2,
             "#de77ae"
            ],
            [
             0.3,
             "#f1b6da"
            ],
            [
             0.4,
             "#fde0ef"
            ],
            [
             0.5,
             "#f7f7f7"
            ],
            [
             0.6,
             "#e6f5d0"
            ],
            [
             0.7,
             "#b8e186"
            ],
            [
             0.8,
             "#7fbc41"
            ],
            [
             0.9,
             "#4d9221"
            ],
            [
             1,
             "#276419"
            ]
           ],
           "sequential": [
            [
             0,
             "#0d0887"
            ],
            [
             0.1111111111111111,
             "#46039f"
            ],
            [
             0.2222222222222222,
             "#7201a8"
            ],
            [
             0.3333333333333333,
             "#9c179e"
            ],
            [
             0.4444444444444444,
             "#bd3786"
            ],
            [
             0.5555555555555556,
             "#d8576b"
            ],
            [
             0.6666666666666666,
             "#ed7953"
            ],
            [
             0.7777777777777778,
             "#fb9f3a"
            ],
            [
             0.8888888888888888,
             "#fdca26"
            ],
            [
             1,
             "#f0f921"
            ]
           ],
           "sequentialminus": [
            [
             0,
             "#0d0887"
            ],
            [
             0.1111111111111111,
             "#46039f"
            ],
            [
             0.2222222222222222,
             "#7201a8"
            ],
            [
             0.3333333333333333,
             "#9c179e"
            ],
            [
             0.4444444444444444,
             "#bd3786"
            ],
            [
             0.5555555555555556,
             "#d8576b"
            ],
            [
             0.6666666666666666,
             "#ed7953"
            ],
            [
             0.7777777777777778,
             "#fb9f3a"
            ],
            [
             0.8888888888888888,
             "#fdca26"
            ],
            [
             1,
             "#f0f921"
            ]
           ]
          },
          "colorway": [
           "#636efa",
           "#EF553B",
           "#00cc96",
           "#ab63fa",
           "#FFA15A",
           "#19d3f3",
           "#FF6692",
           "#B6E880",
           "#FF97FF",
           "#FECB52"
          ],
          "font": {
           "color": "#2a3f5f"
          },
          "geo": {
           "bgcolor": "white",
           "lakecolor": "white",
           "landcolor": "#E5ECF6",
           "showlakes": true,
           "showland": true,
           "subunitcolor": "white"
          },
          "hoverlabel": {
           "align": "left"
          },
          "hovermode": "closest",
          "mapbox": {
           "style": "light"
          },
          "paper_bgcolor": "white",
          "plot_bgcolor": "#E5ECF6",
          "polar": {
           "angularaxis": {
            "gridcolor": "white",
            "linecolor": "white",
            "ticks": ""
           },
           "bgcolor": "#E5ECF6",
           "radialaxis": {
            "gridcolor": "white",
            "linecolor": "white",
            "ticks": ""
           }
          },
          "scene": {
           "xaxis": {
            "backgroundcolor": "#E5ECF6",
            "gridcolor": "white",
            "gridwidth": 2,
            "linecolor": "white",
            "showbackground": true,
            "ticks": "",
            "zerolinecolor": "white"
           },
           "yaxis": {
            "backgroundcolor": "#E5ECF6",
            "gridcolor": "white",
            "gridwidth": 2,
            "linecolor": "white",
            "showbackground": true,
            "ticks": "",
            "zerolinecolor": "white"
           },
           "zaxis": {
            "backgroundcolor": "#E5ECF6",
            "gridcolor": "white",
            "gridwidth": 2,
            "linecolor": "white",
            "showbackground": true,
            "ticks": "",
            "zerolinecolor": "white"
           }
          },
          "shapedefaults": {
           "line": {
            "color": "#2a3f5f"
           }
          },
          "ternary": {
           "aaxis": {
            "gridcolor": "white",
            "linecolor": "white",
            "ticks": ""
           },
           "baxis": {
            "gridcolor": "white",
            "linecolor": "white",
            "ticks": ""
           },
           "bgcolor": "#E5ECF6",
           "caxis": {
            "gridcolor": "white",
            "linecolor": "white",
            "ticks": ""
           }
          },
          "title": {
           "x": 0.05
          },
          "xaxis": {
           "automargin": true,
           "gridcolor": "white",
           "linecolor": "white",
           "ticks": "",
           "title": {
            "standoff": 15
           },
           "zerolinecolor": "white",
           "zerolinewidth": 2
          },
          "yaxis": {
           "automargin": true,
           "gridcolor": "white",
           "linecolor": "white",
           "ticks": "",
           "title": {
            "standoff": 15
           },
           "zerolinecolor": "white",
           "zerolinewidth": 2
          }
         }
        },
        "title": {
         "text": "k-NN Feature Impact Analysis"
        },
        "xaxis": {
         "tickangle": -45,
         "title": {
          "text": "Features"
         }
        },
        "yaxis": {
         "title": {
          "text": "Importance Proxy (Std. Deviation)"
         }
        }
       }
      }
     },
     "metadata": {},
     "output_type": "display_data"
    }
   ],
   "source": [
    "# 2. k-NN CLASSIFICATION ANALYSIS\n",
    "print(\" 2. k-NN CLASSIFICATION ANALYSIS\")\n",
    "print(\"=\" * 35)\n",
    "\n",
    "# Prepare classification data\n",
    "class_features = ['customer_age', 'annual_income', 'spending_score', 'years_customer',\n",
    " 'monthly_purchases', 'electronics_purchases', 'clothing_purchases', 'grocery_purchases']\n",
    "X_class = classification_df[class_features]\n",
    "y_class = classification_df['segment']\n",
    "\n",
    "# Split data\n",
    "X_class_train, X_class_test, y_class_train, y_class_test = train_test_split(\n",
    " X_class, y_class, test_size=0.2, random_state=42, stratify=y_class\n",
    ")\n",
    "\n",
    "print(f\"Training set: {X_class_train.shape}\")\n",
    "print(f\"Test set: {X_class_test.shape}\")\n",
    "\n",
    "# Check class distribution\n",
    "print(\"\\nClass distribution (training):\")\n",
    "train_distribution = y_class_train.value_counts().sort_index()\n",
    "segment_names = ['Premium Young', 'Family Focused', 'Conservative Savers', 'Budget Conscious']\n",
    "for i, count in enumerate(train_distribution):\n",
    " print(f\"• {segment_names[i]}: {count} ({count/len(y_class_train):.1%})\")\n",
    "\n",
    "# Scale features for classification\n",
    "scaler_class = StandardScaler()\n",
    "X_class_train_scaled = scaler_class.fit_transform(X_class_train)\n",
    "X_class_test_scaled = scaler_class.transform(X_class_test)\n",
    "\n",
    "# k-value optimization for classification\n",
    "print(f\"\\n Optimal k Selection for Classification:\")\n",
    "\n",
    "k_values = range(1, 31)\n",
    "k_accuracy_cv = []\n",
    "k_accuracy_train = []\n",
    "k_accuracy_test = []\n",
    "\n",
    "for k in k_values:\n",
    " knn_class = KNeighborsClassifier(n_neighbors=k)\n",
    "\n",
    " # Cross-validation score\n",
    " cv_scores = cross_val_score(knn_class, X_class_train_scaled, y_class_train, cv=5, scoring='accuracy')\n",
    " k_accuracy_cv.append(cv_scores.mean())\n",
    "\n",
    " # Training and test scores\n",
    " knn_class.fit(X_class_train_scaled, y_class_train)\n",
    " k_accuracy_train.append(knn_class.score(X_class_train_scaled, y_class_train))\n",
    " k_accuracy_test.append(knn_class.score(X_class_test_scaled, y_class_test))\n",
    "\n",
    "# Find optimal k\n",
    "optimal_k_class_cv = k_values[np.argmax(k_accuracy_cv)]\n",
    "optimal_k_class_test = k_values[np.argmax(k_accuracy_test)]\n",
    "\n",
    "print(f\"• Optimal k (CV): {optimal_k_class_cv} (Accuracy = {max(k_accuracy_cv):.4f})\")\n",
    "print(f\"• Optimal k (Test): {optimal_k_class_test} (Accuracy = {max(k_accuracy_test):.4f})\")\n",
    "\n",
    "# Plot k optimization for classification\n",
    "fig_k_class = go.Figure()\n",
    "\n",
    "fig_k_class.add_trace(\n",
    " go.Scatter(\n",
    " x=list(k_values),\n",
    " y=k_accuracy_train,\n",
    " mode='lines+markers',\n",
    " name='Training Accuracy',\n",
    " line=dict(color='blue'),\n",
    " hovertemplate=\"k: %{x}<br>Training Accuracy: %{y:.4f}<extra></extra>\"\n",
    " )\n",
    ")\n",
    "\n",
    "fig_k_class.add_trace(\n",
    " go.Scatter(\n",
    " x=list(k_values),\n",
    " y=k_accuracy_cv,\n",
    " mode='lines+markers',\n",
    " name='CV Accuracy',\n",
    " line=dict(color='green'),\n",
    " hovertemplate=\"k: %{x}<br>CV Accuracy: %{y:.4f}<extra></extra>\"\n",
    " )\n",
    ")\n",
    "\n",
    "fig_k_class.add_trace(\n",
    " go.Scatter(\n",
    " x=list(k_values),\n",
    " y=k_accuracy_test,\n",
    " mode='lines+markers',\n",
    " name='Test Accuracy',\n",
    " line=dict(color='red'),\n",
    " hovertemplate=\"k: %{x}<br>Test Accuracy: %{y:.4f}<extra></extra>\"\n",
    " )\n",
    ")\n",
    "\n",
    "# Mark optimal k\n",
    "fig_k_class.add_vline(\n",
    " x=optimal_k_class_cv,\n",
    " line_dash=\"dash\",\n",
    " line_color=\"green\",\n",
    " annotation_text=f\"Optimal k (CV) = {optimal_k_class_cv}\"\n",
    ")\n",
    "\n",
    "fig_k_class.update_layout(\n",
    " title=\"k-NN Classification: Optimal k Selection\",\n",
    " xaxis_title=\"Number of Neighbors (k)\",\n",
    " yaxis_title=\"Accuracy Score\",\n",
    " height=500\n",
    ")\n",
    "fig_k_class.show()\n",
    "\n",
    "# Fit final classification model\n",
    "knn_class_optimal = KNeighborsClassifier(n_neighbors=optimal_k_class_cv)\n",
    "knn_class_optimal.fit(X_class_train_scaled, y_class_train)\n",
    "\n",
    "# Predictions\n",
    "y_class_pred = knn_class_optimal.predict(X_class_test_scaled)\n",
    "y_class_proba = knn_class_optimal.predict_proba(X_class_test_scaled)\n",
    "\n",
    "# Classification metrics\n",
    "class_accuracy = accuracy_score(y_class_test, y_class_pred)\n",
    "print(f\"\\n Final k-NN Classification Performance:\")\n",
    "print(f\"• k = {optimal_k_class_cv}\")\n",
    "print(f\"• Test Accuracy: {class_accuracy:.4f}\")\n",
    "\n",
    "print(f\"\\nDetailed Classification Report:\")\n",
    "print(classification_report(y_class_test, y_class_pred, target_names=segment_names))\n",
    "\n",
    "# Confusion Matrix\n",
    "cm = confusion_matrix(y_class_test, y_class_pred)\n",
    "\n",
    "# Create interactive confusion matrix\n",
    "fig_cm = ff.create_annotated_heatmap(\n",
    " z=cm,\n",
    " x=segment_names,\n",
    " y=segment_names,\n",
    " annotation_text=cm,\n",
    " colorscale='Blues',\n",
    " showscale=True\n",
    ")\n",
    "\n",
    "fig_cm.update_layout(\n",
    " title=f\"k-NN Classification Confusion Matrix (k={optimal_k_class_cv})\",\n",
    " xaxis_title=\"Predicted Segment\",\n",
    " yaxis_title=\"Actual Segment\",\n",
    " height=500\n",
    ")\n",
    "fig_cm.show()\n",
    "\n",
    "# Feature importance analysis (using distance-based importance)\n",
    "print(f\"\\n Feature Impact Analysis:\")\n",
    "\n",
    "# Calculate feature ranges for importance estimation\n",
    "feature_ranges = X_class_train_scaled.std(axis=0)\n",
    "feature_importance_proxy = feature_ranges / feature_ranges.sum()\n",
    "\n",
    "feature_importance_df = pd.DataFrame({\n",
    " 'Feature': class_features,\n",
    " 'Importance_Proxy': feature_importance_proxy\n",
    "}).sort_values('Importance_Proxy', ascending=False)\n",
    "\n",
    "print(\"Feature Impact (based on standard deviation):\")\n",
    "for _, row in feature_importance_df.iterrows():\n",
    " print(f\"• {row['Feature']}: {row['Importance_Proxy']:.3f}\")\n",
    "\n",
    "# Plot feature importance\n",
    "fig_feat_imp = go.Figure()\n",
    "\n",
    "fig_feat_imp.add_trace(\n",
    " go.Bar(\n",
    " x=feature_importance_df['Feature'],\n",
    " y=feature_importance_df['Importance_Proxy'],\n",
    " marker_color='skyblue',\n",
    " hovertemplate=\"Feature: %{x}<br>Importance: %{y:.3f}<extra></extra>\"\n",
    " )\n",
    ")\n",
    "\n",
    "fig_feat_imp.update_layout(\n",
    " title=\"k-NN Feature Impact Analysis\",\n",
    " xaxis_title=\"Features\",\n",
    " yaxis_title=\"Importance Proxy (Std. Deviation)\",\n",
    " xaxis_tickangle=-45,\n",
    " height=500\n",
    ")\n",
    "fig_feat_imp.show()"
   ]
  },
  {
   "cell_type": "code",
   "execution_count": 9,
   "id": "6984f66f",
   "metadata": {},
   "outputs": [
    {
     "name": "stdout",
     "output_type": "stream",
     "text": [
      " 3. DISTANCE METRICS COMPARISON\n",
      "=================================\n",
      "Testing different distance metrics on classification task:\n",
      "• euclidean: 0.8850\n",
      "• manhattan: 0.9000\n",
      "• chebyshev: 0.8450\n",
      "• minkowski_p1: 0.9000\n",
      "• minkowski_p2: 0.8850\n",
      "• minkowski_p3: 0.8850\n",
      "\n",
      " Best distance metric: manhattan (Accuracy: 0.9000)\n"
     ]
    },
    {
     "data": {
      "application/vnd.plotly.v1+json": {
       "config": {
        "plotlyServerURL": "https://plot.ly"
       },
       "data": [
        {
         "hovertemplate": "Metric: %{x}<br>Accuracy: %{y:.4f}<extra></extra>",
         "marker": {
          "color": "lightcoral"
         },
         "type": "bar",
         "x": [
          "euclidean",
          "manhattan",
          "chebyshev",
          "minkowski_p1",
          "minkowski_p2",
          "minkowski_p3"
         ],
         "y": [
          0.885,
          0.9,
          0.845,
          0.9,
          0.885,
          0.885
         ]
        }
       ],
       "layout": {
        "height": 500,
        "template": {
         "data": {
          "bar": [
           {
            "error_x": {
             "color": "#2a3f5f"
            },
            "error_y": {
             "color": "#2a3f5f"
            },
            "marker": {
             "line": {
              "color": "#E5ECF6",
              "width": 0.5
             },
             "pattern": {
              "fillmode": "overlay",
              "size": 10,
              "solidity": 0.2
             }
            },
            "type": "bar"
           }
          ],
          "barpolar": [
           {
            "marker": {
             "line": {
              "color": "#E5ECF6",
              "width": 0.5
             },
             "pattern": {
              "fillmode": "overlay",
              "size": 10,
              "solidity": 0.2
             }
            },
            "type": "barpolar"
           }
          ],
          "carpet": [
           {
            "aaxis": {
             "endlinecolor": "#2a3f5f",
             "gridcolor": "white",
             "linecolor": "white",
             "minorgridcolor": "white",
             "startlinecolor": "#2a3f5f"
            },
            "baxis": {
             "endlinecolor": "#2a3f5f",
             "gridcolor": "white",
             "linecolor": "white",
             "minorgridcolor": "white",
             "startlinecolor": "#2a3f5f"
            },
            "type": "carpet"
           }
          ],
          "choropleth": [
           {
            "colorbar": {
             "outlinewidth": 0,
             "ticks": ""
            },
            "type": "choropleth"
           }
          ],
          "contour": [
           {
            "colorbar": {
             "outlinewidth": 0,
             "ticks": ""
            },
            "colorscale": [
             [
              0,
              "#0d0887"
             ],
             [
              0.1111111111111111,
              "#46039f"
             ],
             [
              0.2222222222222222,
              "#7201a8"
             ],
             [
              0.3333333333333333,
              "#9c179e"
             ],
             [
              0.4444444444444444,
              "#bd3786"
             ],
             [
              0.5555555555555556,
              "#d8576b"
             ],
             [
              0.6666666666666666,
              "#ed7953"
             ],
             [
              0.7777777777777778,
              "#fb9f3a"
             ],
             [
              0.8888888888888888,
              "#fdca26"
             ],
             [
              1,
              "#f0f921"
             ]
            ],
            "type": "contour"
           }
          ],
          "contourcarpet": [
           {
            "colorbar": {
             "outlinewidth": 0,
             "ticks": ""
            },
            "type": "contourcarpet"
           }
          ],
          "heatmap": [
           {
            "colorbar": {
             "outlinewidth": 0,
             "ticks": ""
            },
            "colorscale": [
             [
              0,
              "#0d0887"
             ],
             [
              0.1111111111111111,
              "#46039f"
             ],
             [
              0.2222222222222222,
              "#7201a8"
             ],
             [
              0.3333333333333333,
              "#9c179e"
             ],
             [
              0.4444444444444444,
              "#bd3786"
             ],
             [
              0.5555555555555556,
              "#d8576b"
             ],
             [
              0.6666666666666666,
              "#ed7953"
             ],
             [
              0.7777777777777778,
              "#fb9f3a"
             ],
             [
              0.8888888888888888,
              "#fdca26"
             ],
             [
              1,
              "#f0f921"
             ]
            ],
            "type": "heatmap"
           }
          ],
          "histogram": [
           {
            "marker": {
             "pattern": {
              "fillmode": "overlay",
              "size": 10,
              "solidity": 0.2
             }
            },
            "type": "histogram"
           }
          ],
          "histogram2d": [
           {
            "colorbar": {
             "outlinewidth": 0,
             "ticks": ""
            },
            "colorscale": [
             [
              0,
              "#0d0887"
             ],
             [
              0.1111111111111111,
              "#46039f"
             ],
             [
              0.2222222222222222,
              "#7201a8"
             ],
             [
              0.3333333333333333,
              "#9c179e"
             ],
             [
              0.4444444444444444,
              "#bd3786"
             ],
             [
              0.5555555555555556,
              "#d8576b"
             ],
             [
              0.6666666666666666,
              "#ed7953"
             ],
             [
              0.7777777777777778,
              "#fb9f3a"
             ],
             [
              0.8888888888888888,
              "#fdca26"
             ],
             [
              1,
              "#f0f921"
             ]
            ],
            "type": "histogram2d"
           }
          ],
          "histogram2dcontour": [
           {
            "colorbar": {
             "outlinewidth": 0,
             "ticks": ""
            },
            "colorscale": [
             [
              0,
              "#0d0887"
             ],
             [
              0.1111111111111111,
              "#46039f"
             ],
             [
              0.2222222222222222,
              "#7201a8"
             ],
             [
              0.3333333333333333,
              "#9c179e"
             ],
             [
              0.4444444444444444,
              "#bd3786"
             ],
             [
              0.5555555555555556,
              "#d8576b"
             ],
             [
              0.6666666666666666,
              "#ed7953"
             ],
             [
              0.7777777777777778,
              "#fb9f3a"
             ],
             [
              0.8888888888888888,
              "#fdca26"
             ],
             [
              1,
              "#f0f921"
             ]
            ],
            "type": "histogram2dcontour"
           }
          ],
          "mesh3d": [
           {
            "colorbar": {
             "outlinewidth": 0,
             "ticks": ""
            },
            "type": "mesh3d"
           }
          ],
          "parcoords": [
           {
            "line": {
             "colorbar": {
              "outlinewidth": 0,
              "ticks": ""
             }
            },
            "type": "parcoords"
           }
          ],
          "pie": [
           {
            "automargin": true,
            "type": "pie"
           }
          ],
          "scatter": [
           {
            "fillpattern": {
             "fillmode": "overlay",
             "size": 10,
             "solidity": 0.2
            },
            "type": "scatter"
           }
          ],
          "scatter3d": [
           {
            "line": {
             "colorbar": {
              "outlinewidth": 0,
              "ticks": ""
             }
            },
            "marker": {
             "colorbar": {
              "outlinewidth": 0,
              "ticks": ""
             }
            },
            "type": "scatter3d"
           }
          ],
          "scattercarpet": [
           {
            "marker": {
             "colorbar": {
              "outlinewidth": 0,
              "ticks": ""
             }
            },
            "type": "scattercarpet"
           }
          ],
          "scattergeo": [
           {
            "marker": {
             "colorbar": {
              "outlinewidth": 0,
              "ticks": ""
             }
            },
            "type": "scattergeo"
           }
          ],
          "scattergl": [
           {
            "marker": {
             "colorbar": {
              "outlinewidth": 0,
              "ticks": ""
             }
            },
            "type": "scattergl"
           }
          ],
          "scattermap": [
           {
            "marker": {
             "colorbar": {
              "outlinewidth": 0,
              "ticks": ""
             }
            },
            "type": "scattermap"
           }
          ],
          "scattermapbox": [
           {
            "marker": {
             "colorbar": {
              "outlinewidth": 0,
              "ticks": ""
             }
            },
            "type": "scattermapbox"
           }
          ],
          "scatterpolar": [
           {
            "marker": {
             "colorbar": {
              "outlinewidth": 0,
              "ticks": ""
             }
            },
            "type": "scatterpolar"
           }
          ],
          "scatterpolargl": [
           {
            "marker": {
             "colorbar": {
              "outlinewidth": 0,
              "ticks": ""
             }
            },
            "type": "scatterpolargl"
           }
          ],
          "scatterternary": [
           {
            "marker": {
             "colorbar": {
              "outlinewidth": 0,
              "ticks": ""
             }
            },
            "type": "scatterternary"
           }
          ],
          "surface": [
           {
            "colorbar": {
             "outlinewidth": 0,
             "ticks": ""
            },
            "colorscale": [
             [
              0,
              "#0d0887"
             ],
             [
              0.1111111111111111,
              "#46039f"
             ],
             [
              0.2222222222222222,
              "#7201a8"
             ],
             [
              0.3333333333333333,
              "#9c179e"
             ],
             [
              0.4444444444444444,
              "#bd3786"
             ],
             [
              0.5555555555555556,
              "#d8576b"
             ],
             [
              0.6666666666666666,
              "#ed7953"
             ],
             [
              0.7777777777777778,
              "#fb9f3a"
             ],
             [
              0.8888888888888888,
              "#fdca26"
             ],
             [
              1,
              "#f0f921"
             ]
            ],
            "type": "surface"
           }
          ],
          "table": [
           {
            "cells": {
             "fill": {
              "color": "#EBF0F8"
             },
             "line": {
              "color": "white"
             }
            },
            "header": {
             "fill": {
              "color": "#C8D4E3"
             },
             "line": {
              "color": "white"
             }
            },
            "type": "table"
           }
          ]
         },
         "layout": {
          "annotationdefaults": {
           "arrowcolor": "#2a3f5f",
           "arrowhead": 0,
           "arrowwidth": 1
          },
          "autotypenumbers": "strict",
          "coloraxis": {
           "colorbar": {
            "outlinewidth": 0,
            "ticks": ""
           }
          },
          "colorscale": {
           "diverging": [
            [
             0,
             "#8e0152"
            ],
            [
             0.1,
             "#c51b7d"
            ],
            [
             0.2,
             "#de77ae"
            ],
            [
             0.3,
             "#f1b6da"
            ],
            [
             0.4,
             "#fde0ef"
            ],
            [
             0.5,
             "#f7f7f7"
            ],
            [
             0.6,
             "#e6f5d0"
            ],
            [
             0.7,
             "#b8e186"
            ],
            [
             0.8,
             "#7fbc41"
            ],
            [
             0.9,
             "#4d9221"
            ],
            [
             1,
             "#276419"
            ]
           ],
           "sequential": [
            [
             0,
             "#0d0887"
            ],
            [
             0.1111111111111111,
             "#46039f"
            ],
            [
             0.2222222222222222,
             "#7201a8"
            ],
            [
             0.3333333333333333,
             "#9c179e"
            ],
            [
             0.4444444444444444,
             "#bd3786"
            ],
            [
             0.5555555555555556,
             "#d8576b"
            ],
            [
             0.6666666666666666,
             "#ed7953"
            ],
            [
             0.7777777777777778,
             "#fb9f3a"
            ],
            [
             0.8888888888888888,
             "#fdca26"
            ],
            [
             1,
             "#f0f921"
            ]
           ],
           "sequentialminus": [
            [
             0,
             "#0d0887"
            ],
            [
             0.1111111111111111,
             "#46039f"
            ],
            [
             0.2222222222222222,
             "#7201a8"
            ],
            [
             0.3333333333333333,
             "#9c179e"
            ],
            [
             0.4444444444444444,
             "#bd3786"
            ],
            [
             0.5555555555555556,
             "#d8576b"
            ],
            [
             0.6666666666666666,
             "#ed7953"
            ],
            [
             0.7777777777777778,
             "#fb9f3a"
            ],
            [
             0.8888888888888888,
             "#fdca26"
            ],
            [
             1,
             "#f0f921"
            ]
           ]
          },
          "colorway": [
           "#636efa",
           "#EF553B",
           "#00cc96",
           "#ab63fa",
           "#FFA15A",
           "#19d3f3",
           "#FF6692",
           "#B6E880",
           "#FF97FF",
           "#FECB52"
          ],
          "font": {
           "color": "#2a3f5f"
          },
          "geo": {
           "bgcolor": "white",
           "lakecolor": "white",
           "landcolor": "#E5ECF6",
           "showlakes": true,
           "showland": true,
           "subunitcolor": "white"
          },
          "hoverlabel": {
           "align": "left"
          },
          "hovermode": "closest",
          "mapbox": {
           "style": "light"
          },
          "paper_bgcolor": "white",
          "plot_bgcolor": "#E5ECF6",
          "polar": {
           "angularaxis": {
            "gridcolor": "white",
            "linecolor": "white",
            "ticks": ""
           },
           "bgcolor": "#E5ECF6",
           "radialaxis": {
            "gridcolor": "white",
            "linecolor": "white",
            "ticks": ""
           }
          },
          "scene": {
           "xaxis": {
            "backgroundcolor": "#E5ECF6",
            "gridcolor": "white",
            "gridwidth": 2,
            "linecolor": "white",
            "showbackground": true,
            "ticks": "",
            "zerolinecolor": "white"
           },
           "yaxis": {
            "backgroundcolor": "#E5ECF6",
            "gridcolor": "white",
            "gridwidth": 2,
            "linecolor": "white",
            "showbackground": true,
            "ticks": "",
            "zerolinecolor": "white"
           },
           "zaxis": {
            "backgroundcolor": "#E5ECF6",
            "gridcolor": "white",
            "gridwidth": 2,
            "linecolor": "white",
            "showbackground": true,
            "ticks": "",
            "zerolinecolor": "white"
           }
          },
          "shapedefaults": {
           "line": {
            "color": "#2a3f5f"
           }
          },
          "ternary": {
           "aaxis": {
            "gridcolor": "white",
            "linecolor": "white",
            "ticks": ""
           },
           "baxis": {
            "gridcolor": "white",
            "linecolor": "white",
            "ticks": ""
           },
           "bgcolor": "#E5ECF6",
           "caxis": {
            "gridcolor": "white",
            "linecolor": "white",
            "ticks": ""
           }
          },
          "title": {
           "x": 0.05
          },
          "xaxis": {
           "automargin": true,
           "gridcolor": "white",
           "linecolor": "white",
           "ticks": "",
           "title": {
            "standoff": 15
           },
           "zerolinecolor": "white",
           "zerolinewidth": 2
          },
          "yaxis": {
           "automargin": true,
           "gridcolor": "white",
           "linecolor": "white",
           "ticks": "",
           "title": {
            "standoff": 15
           },
           "zerolinecolor": "white",
           "zerolinewidth": 2
          }
         }
        },
        "title": {
         "text": "Distance Metrics Comparison (k-NN Classification)"
        },
        "xaxis": {
         "tickangle": -45,
         "title": {
          "text": "Distance Metric"
         }
        },
        "yaxis": {
         "title": {
          "text": "Test Accuracy"
         }
        }
       }
      }
     },
     "metadata": {},
     "output_type": "display_data"
    },
    {
     "name": "stdout",
     "output_type": "stream",
     "text": [
      "\n",
      " Distance Calculation Examples:\n",
      "\n",
      "Sample 1 (True segment: Budget Conscious):\n",
      " Euclidean - 3 nearest neighbors: [3 3 3]\n",
      " Manhattan - 3 nearest neighbors: [3 3 3]\n",
      " Euclidean prediction: Budget Conscious\n",
      " Manhattan prediction: Budget Conscious\n",
      "\n",
      "Sample 2 (True segment: Budget Conscious):\n",
      " Euclidean - 3 nearest neighbors: [3 3 3]\n",
      " Manhattan - 3 nearest neighbors: [3 3 3]\n",
      " Euclidean prediction: Budget Conscious\n",
      " Manhattan prediction: Budget Conscious\n",
      "\n",
      "Sample 3 (True segment: Premium Young):\n",
      " Euclidean - 3 nearest neighbors: [0 0 3]\n",
      " Manhattan - 3 nearest neighbors: [0 0 0]\n",
      " Euclidean prediction: Premium Young\n",
      " Manhattan prediction: Premium Young\n",
      "\n",
      "Sample 4 (True segment: Budget Conscious):\n",
      " Euclidean - 3 nearest neighbors: [3 3 1]\n",
      " Manhattan - 3 nearest neighbors: [3 1 3]\n",
      " Euclidean prediction: Budget Conscious\n",
      " Manhattan prediction: Budget Conscious\n",
      "\n",
      "Sample 5 (True segment: Budget Conscious):\n",
      " Euclidean - 3 nearest neighbors: [3 3 3]\n",
      " Manhattan - 3 nearest neighbors: [3 3 3]\n",
      " Euclidean prediction: Budget Conscious\n",
      " Manhattan prediction: Budget Conscious\n"
     ]
    }
   ],
   "source": [
    "# 3. DISTANCE METRICS COMPARISON\n",
    "print(\" 3. DISTANCE METRICS COMPARISON\")\n",
    "print(\"=\" * 33)\n",
    "\n",
    "# Test different distance metrics\n",
    "distance_metrics = ['euclidean', 'manhattan', 'chebyshev', 'minkowski']\n",
    "metric_results = {}\n",
    "\n",
    "print(\"Testing different distance metrics on classification task:\")\n",
    "\n",
    "for metric in distance_metrics:\n",
    "    if metric == 'minkowski':\n",
    "        # Test different p values for Minkowski distance\n",
    "        for p in [1, 2, 3]:\n",
    "            knn_metric = KNeighborsClassifier(\n",
    "                n_neighbors=optimal_k_class_cv,\n",
    "                metric='minkowski',\n",
    "                p=p\n",
    "            )\n",
    "\n",
    "            knn_metric.fit(X_class_train_scaled, y_class_train)\n",
    "            accuracy = knn_metric.score(X_class_test_scaled, y_class_test)\n",
    "\n",
    "            metric_name = f'minkowski_p{p}'\n",
    "            metric_results[metric_name] = accuracy\n",
    "            print(f\"• {metric_name}: {accuracy:.4f}\")\n",
    "    else:\n",
    "        knn_metric = KNeighborsClassifier(\n",
    "            n_neighbors=optimal_k_class_cv,\n",
    "            metric=metric\n",
    "        )\n",
    "\n",
    "        knn_metric.fit(X_class_train_scaled, y_class_train)\n",
    "        accuracy = knn_metric.score(X_class_test_scaled, y_class_test)\n",
    "\n",
    "        metric_results[metric] = accuracy\n",
    "        print(f\"• {metric}: {accuracy:.4f}\")\n",
    "\n",
    "# Find best metric\n",
    "best_metric = max(metric_results, key=metric_results.get)\n",
    "print(f\"\\n Best distance metric: {best_metric} (Accuracy: {metric_results[best_metric]:.4f})\")\n",
    "\n",
    "# Visualize distance metrics comparison\n",
    "fig_metrics = go.Figure()\n",
    "\n",
    "fig_metrics.add_trace(\n",
    "    go.Bar(\n",
    "        x=list(metric_results.keys()),\n",
    "        y=list(metric_results.values()),\n",
    "        marker_color='lightcoral',\n",
    "        hovertemplate=\"Metric: %{x}<br>Accuracy: %{y:.4f}<extra></extra>\"\n",
    "    )\n",
    ")\n",
    "\n",
    "fig_metrics.update_layout(\n",
    "    title=\"Distance Metrics Comparison (k-NN Classification)\",\n",
    "    xaxis_title=\"Distance Metric\",\n",
    "    yaxis_title=\"Test Accuracy\",\n",
    "    xaxis_tickangle=-45,\n",
    "    height=500\n",
    ")\n",
    "fig_metrics.show()\n",
    "\n",
    "# Distance visualization for a sample of points\n",
    "print(f\"\\n Distance Calculation Examples:\")\n",
    "\n",
    "# Take first 5 test samples\n",
    "sample_X = X_class_test_scaled[:5]\n",
    "sample_y = y_class_test.iloc[:5]\n",
    "\n",
    "# Calculate distances to all training points for each metric\n",
    "distance_examples = {}\n",
    "\n",
    "for i, (idx, y_true) in enumerate(zip(sample_X, sample_y)):\n",
    " print(f\"\\nSample {i+1} (True segment: {segment_names[y_true]}):\")\n",
    "\n",
    " # Euclidean distances\n",
    " euclidean_dist = euclidean_distances([idx], X_class_train_scaled)[0]\n",
    " nearest_euclidean = np.argsort(euclidean_dist)[:3]\n",
    "\n",
    " # Manhattan distances\n",
    " manhattan_dist = manhattan_distances([idx], X_class_train_scaled)[0]\n",
    " nearest_manhattan = np.argsort(manhattan_dist)[:3]\n",
    "\n",
    " print(f\" Euclidean - 3 nearest neighbors: {y_class_train.iloc[nearest_euclidean].values}\")\n",
    " print(f\" Manhattan - 3 nearest neighbors: {y_class_train.iloc[nearest_manhattan].values}\")\n",
    "\n",
    " # Prediction with each metric\n",
    " knn_euclidean = KNeighborsClassifier(n_neighbors=3, metric='euclidean')\n",
    " knn_manhattan = KNeighborsClassifier(n_neighbors=3, metric='manhattan')\n",
    "\n",
    " knn_euclidean.fit(X_class_train_scaled, y_class_train)\n",
    " knn_manhattan.fit(X_class_train_scaled, y_class_train)\n",
    "\n",
    " pred_euclidean = knn_euclidean.predict([idx])[0]\n",
    " pred_manhattan = knn_manhattan.predict([idx])[0]\n",
    "\n",
    " print(f\" Euclidean prediction: {segment_names[pred_euclidean]}\")\n",
    " print(f\" Manhattan prediction: {segment_names[pred_manhattan]}\")"
   ]
  },
  {
   "cell_type": "code",
   "execution_count": 11,
   "id": "03f48822",
   "metadata": {},
   "outputs": [
    {
     "name": "stdout",
     "output_type": "stream",
     "text": [
      " 4. DIMENSIONALITY ANALYSIS\n",
      "=============================\n",
      "Testing k-NN performance across different dimensionalities:\n",
      "• 2D: Test Acc = 0.7400, CV = 0.7300 ± 0.0127\n",
      "• 3D: Test Acc = 0.8700, CV = 0.8450 ± 0.0083\n",
      "• 4D: Test Acc = 0.8600, CV = 0.8225 ± 0.0064\n",
      "• 6D: Test Acc = 0.8400, CV = 0.8138 ± 0.0165\n",
      "• Full (8D): Test Acc = 0.8850, CV = 0.8700 ± 0.0073\n"
     ]
    },
    {
     "data": {
      "application/vnd.plotly.v1+json": {
       "config": {
        "plotlyServerURL": "https://plot.ly"
       },
       "data": [
        {
         "hovertemplate": "Dimensions: %{x}<br>Accuracy: %{y:.4f}<extra></extra>",
         "line": {
          "color": "blue"
         },
         "mode": "lines+markers",
         "name": "Test Accuracy",
         "type": "scatter",
         "x": {
          "bdata": "AAAAAAAAAEAAAAAAAAAIQAAAAAAAABBAAAAAAAAAGEAAAAAAAAAgQA==",
          "dtype": "f8"
         },
         "xaxis": "x",
         "y": {
          "bdata": "rkfhehSu5z/Xo3A9CtfrP4XrUbgehes/4XoUrkfh6j9SuB6F61HsPw==",
          "dtype": "f8"
         },
         "yaxis": "y"
        },
        {
         "error_y": {
          "array": {
           "bdata": "LQoNCWMbij9YUSecKvuAPzoKDQljG3o/pRp6ZGXikD+dstvJvtp9Pw==",
           "dtype": "f8"
          },
          "type": "data",
          "visible": true
         },
         "hovertemplate": "Dimensions: %{x}<br>CV Mean: %{y:.4f}<extra></extra>",
         "line": {
          "color": "red"
         },
         "mode": "lines+markers",
         "name": "CV Mean ± Std",
         "type": "scatter",
         "x": {
          "bdata": "AAAAAAAAAEAAAAAAAAAIQAAAAAAAABBAAAAAAAAAGEAAAAAAAAAgQA==",
          "dtype": "f8"
         },
         "xaxis": "x2",
         "y": {
          "bdata": "XI/C9Shc5z8K16NwPQrrP1K4HoXrUeo/C9ejcD0K6j/Wo3A9CtfrPw==",
          "dtype": "f8"
         },
         "yaxis": "y2"
        }
       ],
       "layout": {
        "annotations": [
         {
          "font": {
           "size": 16
          },
          "showarrow": false,
          "text": "Test Accuracy vs Dimensions",
          "x": 0.225,
          "xanchor": "center",
          "xref": "paper",
          "y": 1,
          "yanchor": "bottom",
          "yref": "paper"
         },
         {
          "font": {
           "size": 16
          },
          "showarrow": false,
          "text": "Cross-Validation Performance",
          "x": 0.775,
          "xanchor": "center",
          "xref": "paper",
          "y": 1,
          "yanchor": "bottom",
          "yref": "paper"
         }
        ],
        "height": 500,
        "template": {
         "data": {
          "bar": [
           {
            "error_x": {
             "color": "#2a3f5f"
            },
            "error_y": {
             "color": "#2a3f5f"
            },
            "marker": {
             "line": {
              "color": "#E5ECF6",
              "width": 0.5
             },
             "pattern": {
              "fillmode": "overlay",
              "size": 10,
              "solidity": 0.2
             }
            },
            "type": "bar"
           }
          ],
          "barpolar": [
           {
            "marker": {
             "line": {
              "color": "#E5ECF6",
              "width": 0.5
             },
             "pattern": {
              "fillmode": "overlay",
              "size": 10,
              "solidity": 0.2
             }
            },
            "type": "barpolar"
           }
          ],
          "carpet": [
           {
            "aaxis": {
             "endlinecolor": "#2a3f5f",
             "gridcolor": "white",
             "linecolor": "white",
             "minorgridcolor": "white",
             "startlinecolor": "#2a3f5f"
            },
            "baxis": {
             "endlinecolor": "#2a3f5f",
             "gridcolor": "white",
             "linecolor": "white",
             "minorgridcolor": "white",
             "startlinecolor": "#2a3f5f"
            },
            "type": "carpet"
           }
          ],
          "choropleth": [
           {
            "colorbar": {
             "outlinewidth": 0,
             "ticks": ""
            },
            "type": "choropleth"
           }
          ],
          "contour": [
           {
            "colorbar": {
             "outlinewidth": 0,
             "ticks": ""
            },
            "colorscale": [
             [
              0,
              "#0d0887"
             ],
             [
              0.1111111111111111,
              "#46039f"
             ],
             [
              0.2222222222222222,
              "#7201a8"
             ],
             [
              0.3333333333333333,
              "#9c179e"
             ],
             [
              0.4444444444444444,
              "#bd3786"
             ],
             [
              0.5555555555555556,
              "#d8576b"
             ],
             [
              0.6666666666666666,
              "#ed7953"
             ],
             [
              0.7777777777777778,
              "#fb9f3a"
             ],
             [
              0.8888888888888888,
              "#fdca26"
             ],
             [
              1,
              "#f0f921"
             ]
            ],
            "type": "contour"
           }
          ],
          "contourcarpet": [
           {
            "colorbar": {
             "outlinewidth": 0,
             "ticks": ""
            },
            "type": "contourcarpet"
           }
          ],
          "heatmap": [
           {
            "colorbar": {
             "outlinewidth": 0,
             "ticks": ""
            },
            "colorscale": [
             [
              0,
              "#0d0887"
             ],
             [
              0.1111111111111111,
              "#46039f"
             ],
             [
              0.2222222222222222,
              "#7201a8"
             ],
             [
              0.3333333333333333,
              "#9c179e"
             ],
             [
              0.4444444444444444,
              "#bd3786"
             ],
             [
              0.5555555555555556,
              "#d8576b"
             ],
             [
              0.6666666666666666,
              "#ed7953"
             ],
             [
              0.7777777777777778,
              "#fb9f3a"
             ],
             [
              0.8888888888888888,
              "#fdca26"
             ],
             [
              1,
              "#f0f921"
             ]
            ],
            "type": "heatmap"
           }
          ],
          "histogram": [
           {
            "marker": {
             "pattern": {
              "fillmode": "overlay",
              "size": 10,
              "solidity": 0.2
             }
            },
            "type": "histogram"
           }
          ],
          "histogram2d": [
           {
            "colorbar": {
             "outlinewidth": 0,
             "ticks": ""
            },
            "colorscale": [
             [
              0,
              "#0d0887"
             ],
             [
              0.1111111111111111,
              "#46039f"
             ],
             [
              0.2222222222222222,
              "#7201a8"
             ],
             [
              0.3333333333333333,
              "#9c179e"
             ],
             [
              0.4444444444444444,
              "#bd3786"
             ],
             [
              0.5555555555555556,
              "#d8576b"
             ],
             [
              0.6666666666666666,
              "#ed7953"
             ],
             [
              0.7777777777777778,
              "#fb9f3a"
             ],
             [
              0.8888888888888888,
              "#fdca26"
             ],
             [
              1,
              "#f0f921"
             ]
            ],
            "type": "histogram2d"
           }
          ],
          "histogram2dcontour": [
           {
            "colorbar": {
             "outlinewidth": 0,
             "ticks": ""
            },
            "colorscale": [
             [
              0,
              "#0d0887"
             ],
             [
              0.1111111111111111,
              "#46039f"
             ],
             [
              0.2222222222222222,
              "#7201a8"
             ],
             [
              0.3333333333333333,
              "#9c179e"
             ],
             [
              0.4444444444444444,
              "#bd3786"
             ],
             [
              0.5555555555555556,
              "#d8576b"
             ],
             [
              0.6666666666666666,
              "#ed7953"
             ],
             [
              0.7777777777777778,
              "#fb9f3a"
             ],
             [
              0.8888888888888888,
              "#fdca26"
             ],
             [
              1,
              "#f0f921"
             ]
            ],
            "type": "histogram2dcontour"
           }
          ],
          "mesh3d": [
           {
            "colorbar": {
             "outlinewidth": 0,
             "ticks": ""
            },
            "type": "mesh3d"
           }
          ],
          "parcoords": [
           {
            "line": {
             "colorbar": {
              "outlinewidth": 0,
              "ticks": ""
             }
            },
            "type": "parcoords"
           }
          ],
          "pie": [
           {
            "automargin": true,
            "type": "pie"
           }
          ],
          "scatter": [
           {
            "fillpattern": {
             "fillmode": "overlay",
             "size": 10,
             "solidity": 0.2
            },
            "type": "scatter"
           }
          ],
          "scatter3d": [
           {
            "line": {
             "colorbar": {
              "outlinewidth": 0,
              "ticks": ""
             }
            },
            "marker": {
             "colorbar": {
              "outlinewidth": 0,
              "ticks": ""
             }
            },
            "type": "scatter3d"
           }
          ],
          "scattercarpet": [
           {
            "marker": {
             "colorbar": {
              "outlinewidth": 0,
              "ticks": ""
             }
            },
            "type": "scattercarpet"
           }
          ],
          "scattergeo": [
           {
            "marker": {
             "colorbar": {
              "outlinewidth": 0,
              "ticks": ""
             }
            },
            "type": "scattergeo"
           }
          ],
          "scattergl": [
           {
            "marker": {
             "colorbar": {
              "outlinewidth": 0,
              "ticks": ""
             }
            },
            "type": "scattergl"
           }
          ],
          "scattermap": [
           {
            "marker": {
             "colorbar": {
              "outlinewidth": 0,
              "ticks": ""
             }
            },
            "type": "scattermap"
           }
          ],
          "scattermapbox": [
           {
            "marker": {
             "colorbar": {
              "outlinewidth": 0,
              "ticks": ""
             }
            },
            "type": "scattermapbox"
           }
          ],
          "scatterpolar": [
           {
            "marker": {
             "colorbar": {
              "outlinewidth": 0,
              "ticks": ""
             }
            },
            "type": "scatterpolar"
           }
          ],
          "scatterpolargl": [
           {
            "marker": {
             "colorbar": {
              "outlinewidth": 0,
              "ticks": ""
             }
            },
            "type": "scatterpolargl"
           }
          ],
          "scatterternary": [
           {
            "marker": {
             "colorbar": {
              "outlinewidth": 0,
              "ticks": ""
             }
            },
            "type": "scatterternary"
           }
          ],
          "surface": [
           {
            "colorbar": {
             "outlinewidth": 0,
             "ticks": ""
            },
            "colorscale": [
             [
              0,
              "#0d0887"
             ],
             [
              0.1111111111111111,
              "#46039f"
             ],
             [
              0.2222222222222222,
              "#7201a8"
             ],
             [
              0.3333333333333333,
              "#9c179e"
             ],
             [
              0.4444444444444444,
              "#bd3786"
             ],
             [
              0.5555555555555556,
              "#d8576b"
             ],
             [
              0.6666666666666666,
              "#ed7953"
             ],
             [
              0.7777777777777778,
              "#fb9f3a"
             ],
             [
              0.8888888888888888,
              "#fdca26"
             ],
             [
              1,
              "#f0f921"
             ]
            ],
            "type": "surface"
           }
          ],
          "table": [
           {
            "cells": {
             "fill": {
              "color": "#EBF0F8"
             },
             "line": {
              "color": "white"
             }
            },
            "header": {
             "fill": {
              "color": "#C8D4E3"
             },
             "line": {
              "color": "white"
             }
            },
            "type": "table"
           }
          ]
         },
         "layout": {
          "annotationdefaults": {
           "arrowcolor": "#2a3f5f",
           "arrowhead": 0,
           "arrowwidth": 1
          },
          "autotypenumbers": "strict",
          "coloraxis": {
           "colorbar": {
            "outlinewidth": 0,
            "ticks": ""
           }
          },
          "colorscale": {
           "diverging": [
            [
             0,
             "#8e0152"
            ],
            [
             0.1,
             "#c51b7d"
            ],
            [
             0.2,
             "#de77ae"
            ],
            [
             0.3,
             "#f1b6da"
            ],
            [
             0.4,
             "#fde0ef"
            ],
            [
             0.5,
             "#f7f7f7"
            ],
            [
             0.6,
             "#e6f5d0"
            ],
            [
             0.7,
             "#b8e186"
            ],
            [
             0.8,
             "#7fbc41"
            ],
            [
             0.9,
             "#4d9221"
            ],
            [
             1,
             "#276419"
            ]
           ],
           "sequential": [
            [
             0,
             "#0d0887"
            ],
            [
             0.1111111111111111,
             "#46039f"
            ],
            [
             0.2222222222222222,
             "#7201a8"
            ],
            [
             0.3333333333333333,
             "#9c179e"
            ],
            [
             0.4444444444444444,
             "#bd3786"
            ],
            [
             0.5555555555555556,
             "#d8576b"
            ],
            [
             0.6666666666666666,
             "#ed7953"
            ],
            [
             0.7777777777777778,
             "#fb9f3a"
            ],
            [
             0.8888888888888888,
             "#fdca26"
            ],
            [
             1,
             "#f0f921"
            ]
           ],
           "sequentialminus": [
            [
             0,
             "#0d0887"
            ],
            [
             0.1111111111111111,
             "#46039f"
            ],
            [
             0.2222222222222222,
             "#7201a8"
            ],
            [
             0.3333333333333333,
             "#9c179e"
            ],
            [
             0.4444444444444444,
             "#bd3786"
            ],
            [
             0.5555555555555556,
             "#d8576b"
            ],
            [
             0.6666666666666666,
             "#ed7953"
            ],
            [
             0.7777777777777778,
             "#fb9f3a"
            ],
            [
             0.8888888888888888,
             "#fdca26"
            ],
            [
             1,
             "#f0f921"
            ]
           ]
          },
          "colorway": [
           "#636efa",
           "#EF553B",
           "#00cc96",
           "#ab63fa",
           "#FFA15A",
           "#19d3f3",
           "#FF6692",
           "#B6E880",
           "#FF97FF",
           "#FECB52"
          ],
          "font": {
           "color": "#2a3f5f"
          },
          "geo": {
           "bgcolor": "white",
           "lakecolor": "white",
           "landcolor": "#E5ECF6",
           "showlakes": true,
           "showland": true,
           "subunitcolor": "white"
          },
          "hoverlabel": {
           "align": "left"
          },
          "hovermode": "closest",
          "mapbox": {
           "style": "light"
          },
          "paper_bgcolor": "white",
          "plot_bgcolor": "#E5ECF6",
          "polar": {
           "angularaxis": {
            "gridcolor": "white",
            "linecolor": "white",
            "ticks": ""
           },
           "bgcolor": "#E5ECF6",
           "radialaxis": {
            "gridcolor": "white",
            "linecolor": "white",
            "ticks": ""
           }
          },
          "scene": {
           "xaxis": {
            "backgroundcolor": "#E5ECF6",
            "gridcolor": "white",
            "gridwidth": 2,
            "linecolor": "white",
            "showbackground": true,
            "ticks": "",
            "zerolinecolor": "white"
           },
           "yaxis": {
            "backgroundcolor": "#E5ECF6",
            "gridcolor": "white",
            "gridwidth": 2,
            "linecolor": "white",
            "showbackground": true,
            "ticks": "",
            "zerolinecolor": "white"
           },
           "zaxis": {
            "backgroundcolor": "#E5ECF6",
            "gridcolor": "white",
            "gridwidth": 2,
            "linecolor": "white",
            "showbackground": true,
            "ticks": "",
            "zerolinecolor": "white"
           }
          },
          "shapedefaults": {
           "line": {
            "color": "#2a3f5f"
           }
          },
          "ternary": {
           "aaxis": {
            "gridcolor": "white",
            "linecolor": "white",
            "ticks": ""
           },
           "baxis": {
            "gridcolor": "white",
            "linecolor": "white",
            "ticks": ""
           },
           "bgcolor": "#E5ECF6",
           "caxis": {
            "gridcolor": "white",
            "linecolor": "white",
            "ticks": ""
           }
          },
          "title": {
           "x": 0.05
          },
          "xaxis": {
           "automargin": true,
           "gridcolor": "white",
           "linecolor": "white",
           "ticks": "",
           "title": {
            "standoff": 15
           },
           "zerolinecolor": "white",
           "zerolinewidth": 2
          },
          "yaxis": {
           "automargin": true,
           "gridcolor": "white",
           "linecolor": "white",
           "ticks": "",
           "title": {
            "standoff": 15
           },
           "zerolinecolor": "white",
           "zerolinewidth": 2
          }
         }
        },
        "title": {
         "text": "k-NN Performance vs Dimensionality"
        },
        "xaxis": {
         "anchor": "y",
         "domain": [
          0,
          0.45
         ],
         "title": {
          "text": "Number of Features"
         }
        },
        "xaxis2": {
         "anchor": "y2",
         "domain": [
          0.55,
          1
         ],
         "title": {
          "text": "Number of Features"
         }
        },
        "yaxis": {
         "anchor": "x",
         "domain": [
          0,
          1
         ],
         "title": {
          "text": "Accuracy"
         }
        },
        "yaxis2": {
         "anchor": "x2",
         "domain": [
          0,
          1
         ],
         "title": {
          "text": "CV Accuracy"
         }
        }
       }
      }
     },
     "metadata": {},
     "output_type": "display_data"
    },
    {
     "name": "stdout",
     "output_type": "stream",
     "text": [
      "\n",
      " Curse of Dimensionality Analysis:\n",
      "As dimensions increase:\n",
      "• 2D performance: 0.7400\n",
      "• Full dimensional performance: 0.8850\n",
      "• Performance change: +19.6%\n",
      "• Result: Adding dimensions IMPROVED performance\n",
      "• Interpretation: Additional features contain valuable signal\n",
      "\n",
      " Distance Concentration in High Dimensions:\n",
      "• 2D: Mean distance = 1.699, CV = 0.578\n",
      "• 3D: Mean distance = 2.255, CV = 0.431\n",
      "• 4D: Mean distance = 2.690, CV = 0.398\n",
      "• 6D: Mean distance = 3.280, CV = 0.358\n",
      "• Full (8D): Mean distance = 3.804, CV = 0.303\n",
      "\n",
      "Note: Lower CV indicates distance concentration (curse of dimensionality)\n"
     ]
    }
   ],
   "source": [
    "# 4. DIMENSIONALITY AND CURSE OF DIMENSIONALITY\n",
    "print(\" 4. DIMENSIONALITY ANALYSIS\")\n",
    "print(\"=\" * 29)\n",
    "\n",
    "# Test performance with different numbers of features\n",
    "feature_subsets = {\n",
    " '2D': ['annual_income', 'spending_score'],\n",
    " '3D': ['annual_income', 'spending_score', 'customer_age'],\n",
    " '4D': ['annual_income', 'spending_score', 'customer_age', 'years_customer'],\n",
    " '6D': ['annual_income', 'spending_score', 'customer_age', 'years_customer',\n",
    " 'monthly_purchases', 'electronics_purchases'],\n",
    " 'Full (8D)': class_features\n",
    "}\n",
    "\n",
    "dimensionality_results = {}\n",
    "\n",
    "print(\"Testing k-NN performance across different dimensionalities:\")\n",
    "\n",
    "for dim_name, features in feature_subsets.items():\n",
    " # Prepare data\n",
    " X_dim = X_class_train[features]\n",
    " X_dim_test = X_class_test[features]\n",
    "\n",
    " # Scale\n",
    " scaler_dim = StandardScaler()\n",
    " X_dim_scaled = scaler_dim.fit_transform(X_dim)\n",
    " X_dim_test_scaled = scaler_dim.transform(X_dim_test)\n",
    "\n",
    " # Fit k-NN\n",
    " knn_dim = KNeighborsClassifier(n_neighbors=optimal_k_class_cv)\n",
    " knn_dim.fit(X_dim_scaled, y_class_train)\n",
    "\n",
    " # Evaluate\n",
    " accuracy = knn_dim.score(X_dim_test_scaled, y_class_test)\n",
    "\n",
    " # Cross-validation for robustness\n",
    " cv_scores = cross_val_score(knn_dim, X_dim_scaled, y_class_train, cv=5)\n",
    "\n",
    " dimensionality_results[dim_name] = {\n",
    " 'test_accuracy': accuracy,\n",
    " 'cv_mean': cv_scores.mean(),\n",
    " 'cv_std': cv_scores.std(),\n",
    " 'n_features': len(features)\n",
    " }\n",
    "\n",
    " print(f\"• {dim_name}: Test Acc = {accuracy:.4f}, CV = {cv_scores.mean():.4f} ± {cv_scores.std():.4f}\")\n",
    "\n",
    "# Visualize dimensionality impact\n",
    "dim_df = pd.DataFrame(dimensionality_results).T\n",
    "dim_df['dimension_label'] = dim_df.index\n",
    "\n",
    "fig_dim = make_subplots(\n",
    " rows=1, cols=2,\n",
    " subplot_titles=['Test Accuracy vs Dimensions', 'Cross-Validation Performance'],\n",
    " specs=[[{\"secondary_y\": False}, {\"secondary_y\": False}]]\n",
    ")\n",
    "\n",
    "# Test accuracy plot\n",
    "fig_dim.add_trace(\n",
    " go.Scatter(\n",
    " x=dim_df['n_features'],\n",
    " y=dim_df['test_accuracy'],\n",
    " mode='lines+markers',\n",
    " name='Test Accuracy',\n",
    " line=dict(color='blue'),\n",
    " hovertemplate=\"Dimensions: %{x}<br>Accuracy: %{y:.4f}<extra></extra>\"\n",
    " ),\n",
    " row=1, col=1\n",
    ")\n",
    "\n",
    "# CV performance with error bars\n",
    "fig_dim.add_trace(\n",
    " go.Scatter(\n",
    " x=dim_df['n_features'],\n",
    " y=dim_df['cv_mean'],\n",
    " error_y=dict(type='data', array=dim_df['cv_std'], visible=True),\n",
    " mode='lines+markers',\n",
    " name='CV Mean ± Std',\n",
    " line=dict(color='red'),\n",
    " hovertemplate=\"Dimensions: %{x}<br>CV Mean: %{y:.4f}<extra></extra>\"\n",
    " ),\n",
    " row=1, col=2\n",
    ")\n",
    "\n",
    "fig_dim.update_layout(\n",
    " title=\"k-NN Performance vs Dimensionality\",\n",
    " height=500\n",
    ")\n",
    "\n",
    "fig_dim.update_xaxes(title_text=\"Number of Features\", row=1, col=1)\n",
    "fig_dim.update_xaxes(title_text=\"Number of Features\", row=1, col=2)\n",
    "fig_dim.update_yaxes(title_text=\"Accuracy\", row=1, col=1)\n",
    "fig_dim.update_yaxes(title_text=\"CV Accuracy\", row=1, col=2)\n",
    "\n",
    "fig_dim.show()\n",
    "\n",
    "# Analyze curse of dimensionality\n",
    "print(f\"\\n Curse of Dimensionality Analysis:\")\n",
    "print(\"As dimensions increase:\")\n",
    "\n",
    "best_2d_acc = dimensionality_results['2D']['test_accuracy']\n",
    "best_full_acc = dimensionality_results['Full (8D)']['test_accuracy']\n",
    "performance_change = ((best_full_acc - best_2d_acc) / best_2d_acc) * 100\n",
    "\n",
    "print(f\"• 2D performance: {best_2d_acc:.4f}\")\n",
    "print(f\"• Full dimensional performance: {best_full_acc:.4f}\")\n",
    "print(f\"• Performance change: {performance_change:+.1f}%\")\n",
    "\n",
    "if performance_change > 5:\n",
    " print(\"• Result: Adding dimensions IMPROVED performance\")\n",
    " print(\"• Interpretation: Additional features contain valuable signal\")\n",
    "elif performance_change < -5:\n",
    " print(\"• Result: Adding dimensions HURT performance\")\n",
    " print(\"• Interpretation: Curse of dimensionality effect observed\")\n",
    "else:\n",
    " print(\"• Result: Minimal impact from additional dimensions\")\n",
    " print(\"• Interpretation: Marginal information in extra features\")\n",
    "\n",
    "# Distance concentration analysis\n",
    "print(f\"\\n Distance Concentration in High Dimensions:\")\n",
    "\n",
    "# Calculate average distances in different dimensions\n",
    "for dim_name, features in feature_subsets.items():\n",
    "    if len(features) >= 2: # Skip if too few features\n",
    "        X_sample = X_class_train_scaled[:100, :len(features)] # First 100 samples\n",
    "\n",
    "        # Calculate pairwise distances\n",
    "        distances = euclidean_distances(X_sample, X_sample)\n",
    "        # Remove diagonal (zero distances)\n",
    "        distances = distances[np.triu_indices_from(distances, k=1)]\n",
    "\n",
    "        mean_dist = distances.mean()\n",
    "        std_dist = distances.std()\n",
    "        cv_dist = std_dist / mean_dist # Coefficient of variation\n",
    "\n",
    "        print(f\"• {dim_name}: Mean distance = {mean_dist:.3f}, CV = {cv_dist:.3f}\")\n",
    "\n",
    "print(\"\\nNote: Lower CV indicates distance concentration (curse of dimensionality)\")"
   ]
  },
  {
   "cell_type": "code",
   "execution_count": 14,
   "id": "fb60e076",
   "metadata": {},
   "outputs": [
    {
     "name": "stdout",
     "output_type": "stream",
     "text": [
      " 5. NEIGHBORHOOD ANALYSIS AND VISUALIZATION\n",
      "============================================\n",
      "Analyzing neighborhood composition for customer segmentation:\n",
      "Analyzing 4 representative samples...\n",
      "\n",
      "Sample 1 - True Segment: Premium Young\n",
      " k=1: Pre(1)\n",
      " Prediction: Premium Young \n",
      " k=3: Pre(2) | Bud(1)\n",
      " Prediction: Premium Young \n",
      " k=5: Pre(4) | Bud(1)\n",
      " Prediction: Premium Young \n",
      " k=10: Pre(6) | Fam(3) | Bud(1)\n",
      " Prediction: Premium Young \n",
      " k=15: Pre(10) | Fam(3) | Bud(2)\n",
      " Prediction: Premium Young \n",
      "\n",
      "Sample 2 - True Segment: Family Focused\n",
      " k=1: Fam(1)\n",
      " Prediction: Family Focused \n",
      " k=3: Fam(3)\n",
      " Prediction: Family Focused \n",
      " k=5: Fam(5)\n",
      " Prediction: Family Focused \n",
      " k=10: Fam(10)\n",
      " Prediction: Family Focused \n",
      " k=15: Fam(13) | Bud(2)\n",
      " Prediction: Family Focused \n",
      "\n",
      "Sample 3 - True Segment: Conservative Savers\n",
      " k=1: Con(1)\n",
      " Prediction: Conservative Savers \n",
      " k=3: Con(1) | Bud(2)\n",
      " Prediction: Budget Conscious \n",
      " k=5: Con(3) | Bud(2)\n",
      " Prediction: Conservative Savers \n",
      " k=10: Fam(1) | Con(4) | Bud(5)\n",
      " Prediction: Budget Conscious \n",
      " k=15: Fam(1) | Con(5) | Bud(9)\n",
      " Prediction: Budget Conscious \n",
      "\n",
      "Sample 4 - True Segment: Budget Conscious\n",
      " k=1: Bud(1)\n",
      " Prediction: Budget Conscious \n",
      " k=3: Bud(3)\n",
      " Prediction: Budget Conscious \n",
      " k=5: Bud(5)\n",
      " Prediction: Budget Conscious \n",
      " k=10: Bud(10)\n",
      " Prediction: Budget Conscious \n",
      " k=15: Bud(15)\n",
      " Prediction: Budget Conscious \n",
      "\n",
      " Neighborhood Diversity Analysis:\n",
      "• k=1: Average neighborhood purity = 1.000\n",
      "• k=3: Average neighborhood purity = 0.890\n",
      "• k=5: Average neighborhood purity = 0.890\n",
      "• k=7: Average neighborhood purity = 0.866\n",
      "• k=10: Average neighborhood purity = 0.849\n",
      "• k=15: Average neighborhood purity = 0.844\n",
      "• k=20: Average neighborhood purity = 0.831\n"
     ]
    },
    {
     "data": {
      "application/vnd.plotly.v1+json": {
       "config": {
        "plotlyServerURL": "https://plot.ly"
       },
       "data": [
        {
         "hovertemplate": "k: %{x}<br>Purity: %{y:.3f}<extra></extra>",
         "line": {
          "color": "purple"
         },
         "mode": "lines+markers",
         "name": "Neighborhood Purity",
         "type": "scatter",
         "x": [
          1,
          3,
          5,
          7,
          10,
          15,
          20
         ],
         "y": [
          1,
          0.8900000000000002,
          0.8899999999999992,
          0.8657142857142854,
          0.8490000000000003,
          0.8439999999999996,
          0.8310000000000006
         ]
        }
       ],
       "layout": {
        "height": 400,
        "template": {
         "data": {
          "bar": [
           {
            "error_x": {
             "color": "#2a3f5f"
            },
            "error_y": {
             "color": "#2a3f5f"
            },
            "marker": {
             "line": {
              "color": "#E5ECF6",
              "width": 0.5
             },
             "pattern": {
              "fillmode": "overlay",
              "size": 10,
              "solidity": 0.2
             }
            },
            "type": "bar"
           }
          ],
          "barpolar": [
           {
            "marker": {
             "line": {
              "color": "#E5ECF6",
              "width": 0.5
             },
             "pattern": {
              "fillmode": "overlay",
              "size": 10,
              "solidity": 0.2
             }
            },
            "type": "barpolar"
           }
          ],
          "carpet": [
           {
            "aaxis": {
             "endlinecolor": "#2a3f5f",
             "gridcolor": "white",
             "linecolor": "white",
             "minorgridcolor": "white",
             "startlinecolor": "#2a3f5f"
            },
            "baxis": {
             "endlinecolor": "#2a3f5f",
             "gridcolor": "white",
             "linecolor": "white",
             "minorgridcolor": "white",
             "startlinecolor": "#2a3f5f"
            },
            "type": "carpet"
           }
          ],
          "choropleth": [
           {
            "colorbar": {
             "outlinewidth": 0,
             "ticks": ""
            },
            "type": "choropleth"
           }
          ],
          "contour": [
           {
            "colorbar": {
             "outlinewidth": 0,
             "ticks": ""
            },
            "colorscale": [
             [
              0,
              "#0d0887"
             ],
             [
              0.1111111111111111,
              "#46039f"
             ],
             [
              0.2222222222222222,
              "#7201a8"
             ],
             [
              0.3333333333333333,
              "#9c179e"
             ],
             [
              0.4444444444444444,
              "#bd3786"
             ],
             [
              0.5555555555555556,
              "#d8576b"
             ],
             [
              0.6666666666666666,
              "#ed7953"
             ],
             [
              0.7777777777777778,
              "#fb9f3a"
             ],
             [
              0.8888888888888888,
              "#fdca26"
             ],
             [
              1,
              "#f0f921"
             ]
            ],
            "type": "contour"
           }
          ],
          "contourcarpet": [
           {
            "colorbar": {
             "outlinewidth": 0,
             "ticks": ""
            },
            "type": "contourcarpet"
           }
          ],
          "heatmap": [
           {
            "colorbar": {
             "outlinewidth": 0,
             "ticks": ""
            },
            "colorscale": [
             [
              0,
              "#0d0887"
             ],
             [
              0.1111111111111111,
              "#46039f"
             ],
             [
              0.2222222222222222,
              "#7201a8"
             ],
             [
              0.3333333333333333,
              "#9c179e"
             ],
             [
              0.4444444444444444,
              "#bd3786"
             ],
             [
              0.5555555555555556,
              "#d8576b"
             ],
             [
              0.6666666666666666,
              "#ed7953"
             ],
             [
              0.7777777777777778,
              "#fb9f3a"
             ],
             [
              0.8888888888888888,
              "#fdca26"
             ],
             [
              1,
              "#f0f921"
             ]
            ],
            "type": "heatmap"
           }
          ],
          "histogram": [
           {
            "marker": {
             "pattern": {
              "fillmode": "overlay",
              "size": 10,
              "solidity": 0.2
             }
            },
            "type": "histogram"
           }
          ],
          "histogram2d": [
           {
            "colorbar": {
             "outlinewidth": 0,
             "ticks": ""
            },
            "colorscale": [
             [
              0,
              "#0d0887"
             ],
             [
              0.1111111111111111,
              "#46039f"
             ],
             [
              0.2222222222222222,
              "#7201a8"
             ],
             [
              0.3333333333333333,
              "#9c179e"
             ],
             [
              0.4444444444444444,
              "#bd3786"
             ],
             [
              0.5555555555555556,
              "#d8576b"
             ],
             [
              0.6666666666666666,
              "#ed7953"
             ],
             [
              0.7777777777777778,
              "#fb9f3a"
             ],
             [
              0.8888888888888888,
              "#fdca26"
             ],
             [
              1,
              "#f0f921"
             ]
            ],
            "type": "histogram2d"
           }
          ],
          "histogram2dcontour": [
           {
            "colorbar": {
             "outlinewidth": 0,
             "ticks": ""
            },
            "colorscale": [
             [
              0,
              "#0d0887"
             ],
             [
              0.1111111111111111,
              "#46039f"
             ],
             [
              0.2222222222222222,
              "#7201a8"
             ],
             [
              0.3333333333333333,
              "#9c179e"
             ],
             [
              0.4444444444444444,
              "#bd3786"
             ],
             [
              0.5555555555555556,
              "#d8576b"
             ],
             [
              0.6666666666666666,
              "#ed7953"
             ],
             [
              0.7777777777777778,
              "#fb9f3a"
             ],
             [
              0.8888888888888888,
              "#fdca26"
             ],
             [
              1,
              "#f0f921"
             ]
            ],
            "type": "histogram2dcontour"
           }
          ],
          "mesh3d": [
           {
            "colorbar": {
             "outlinewidth": 0,
             "ticks": ""
            },
            "type": "mesh3d"
           }
          ],
          "parcoords": [
           {
            "line": {
             "colorbar": {
              "outlinewidth": 0,
              "ticks": ""
             }
            },
            "type": "parcoords"
           }
          ],
          "pie": [
           {
            "automargin": true,
            "type": "pie"
           }
          ],
          "scatter": [
           {
            "fillpattern": {
             "fillmode": "overlay",
             "size": 10,
             "solidity": 0.2
            },
            "type": "scatter"
           }
          ],
          "scatter3d": [
           {
            "line": {
             "colorbar": {
              "outlinewidth": 0,
              "ticks": ""
             }
            },
            "marker": {
             "colorbar": {
              "outlinewidth": 0,
              "ticks": ""
             }
            },
            "type": "scatter3d"
           }
          ],
          "scattercarpet": [
           {
            "marker": {
             "colorbar": {
              "outlinewidth": 0,
              "ticks": ""
             }
            },
            "type": "scattercarpet"
           }
          ],
          "scattergeo": [
           {
            "marker": {
             "colorbar": {
              "outlinewidth": 0,
              "ticks": ""
             }
            },
            "type": "scattergeo"
           }
          ],
          "scattergl": [
           {
            "marker": {
             "colorbar": {
              "outlinewidth": 0,
              "ticks": ""
             }
            },
            "type": "scattergl"
           }
          ],
          "scattermap": [
           {
            "marker": {
             "colorbar": {
              "outlinewidth": 0,
              "ticks": ""
             }
            },
            "type": "scattermap"
           }
          ],
          "scattermapbox": [
           {
            "marker": {
             "colorbar": {
              "outlinewidth": 0,
              "ticks": ""
             }
            },
            "type": "scattermapbox"
           }
          ],
          "scatterpolar": [
           {
            "marker": {
             "colorbar": {
              "outlinewidth": 0,
              "ticks": ""
             }
            },
            "type": "scatterpolar"
           }
          ],
          "scatterpolargl": [
           {
            "marker": {
             "colorbar": {
              "outlinewidth": 0,
              "ticks": ""
             }
            },
            "type": "scatterpolargl"
           }
          ],
          "scatterternary": [
           {
            "marker": {
             "colorbar": {
              "outlinewidth": 0,
              "ticks": ""
             }
            },
            "type": "scatterternary"
           }
          ],
          "surface": [
           {
            "colorbar": {
             "outlinewidth": 0,
             "ticks": ""
            },
            "colorscale": [
             [
              0,
              "#0d0887"
             ],
             [
              0.1111111111111111,
              "#46039f"
             ],
             [
              0.2222222222222222,
              "#7201a8"
             ],
             [
              0.3333333333333333,
              "#9c179e"
             ],
             [
              0.4444444444444444,
              "#bd3786"
             ],
             [
              0.5555555555555556,
              "#d8576b"
             ],
             [
              0.6666666666666666,
              "#ed7953"
             ],
             [
              0.7777777777777778,
              "#fb9f3a"
             ],
             [
              0.8888888888888888,
              "#fdca26"
             ],
             [
              1,
              "#f0f921"
             ]
            ],
            "type": "surface"
           }
          ],
          "table": [
           {
            "cells": {
             "fill": {
              "color": "#EBF0F8"
             },
             "line": {
              "color": "white"
             }
            },
            "header": {
             "fill": {
              "color": "#C8D4E3"
             },
             "line": {
              "color": "white"
             }
            },
            "type": "table"
           }
          ]
         },
         "layout": {
          "annotationdefaults": {
           "arrowcolor": "#2a3f5f",
           "arrowhead": 0,
           "arrowwidth": 1
          },
          "autotypenumbers": "strict",
          "coloraxis": {
           "colorbar": {
            "outlinewidth": 0,
            "ticks": ""
           }
          },
          "colorscale": {
           "diverging": [
            [
             0,
             "#8e0152"
            ],
            [
             0.1,
             "#c51b7d"
            ],
            [
             0.2,
             "#de77ae"
            ],
            [
             0.3,
             "#f1b6da"
            ],
            [
             0.4,
             "#fde0ef"
            ],
            [
             0.5,
             "#f7f7f7"
            ],
            [
             0.6,
             "#e6f5d0"
            ],
            [
             0.7,
             "#b8e186"
            ],
            [
             0.8,
             "#7fbc41"
            ],
            [
             0.9,
             "#4d9221"
            ],
            [
             1,
             "#276419"
            ]
           ],
           "sequential": [
            [
             0,
             "#0d0887"
            ],
            [
             0.1111111111111111,
             "#46039f"
            ],
            [
             0.2222222222222222,
             "#7201a8"
            ],
            [
             0.3333333333333333,
             "#9c179e"
            ],
            [
             0.4444444444444444,
             "#bd3786"
            ],
            [
             0.5555555555555556,
             "#d8576b"
            ],
            [
             0.6666666666666666,
             "#ed7953"
            ],
            [
             0.7777777777777778,
             "#fb9f3a"
            ],
            [
             0.8888888888888888,
             "#fdca26"
            ],
            [
             1,
             "#f0f921"
            ]
           ],
           "sequentialminus": [
            [
             0,
             "#0d0887"
            ],
            [
             0.1111111111111111,
             "#46039f"
            ],
            [
             0.2222222222222222,
             "#7201a8"
            ],
            [
             0.3333333333333333,
             "#9c179e"
            ],
            [
             0.4444444444444444,
             "#bd3786"
            ],
            [
             0.5555555555555556,
             "#d8576b"
            ],
            [
             0.6666666666666666,
             "#ed7953"
            ],
            [
             0.7777777777777778,
             "#fb9f3a"
            ],
            [
             0.8888888888888888,
             "#fdca26"
            ],
            [
             1,
             "#f0f921"
            ]
           ]
          },
          "colorway": [
           "#636efa",
           "#EF553B",
           "#00cc96",
           "#ab63fa",
           "#FFA15A",
           "#19d3f3",
           "#FF6692",
           "#B6E880",
           "#FF97FF",
           "#FECB52"
          ],
          "font": {
           "color": "#2a3f5f"
          },
          "geo": {
           "bgcolor": "white",
           "lakecolor": "white",
           "landcolor": "#E5ECF6",
           "showlakes": true,
           "showland": true,
           "subunitcolor": "white"
          },
          "hoverlabel": {
           "align": "left"
          },
          "hovermode": "closest",
          "mapbox": {
           "style": "light"
          },
          "paper_bgcolor": "white",
          "plot_bgcolor": "#E5ECF6",
          "polar": {
           "angularaxis": {
            "gridcolor": "white",
            "linecolor": "white",
            "ticks": ""
           },
           "bgcolor": "#E5ECF6",
           "radialaxis": {
            "gridcolor": "white",
            "linecolor": "white",
            "ticks": ""
           }
          },
          "scene": {
           "xaxis": {
            "backgroundcolor": "#E5ECF6",
            "gridcolor": "white",
            "gridwidth": 2,
            "linecolor": "white",
            "showbackground": true,
            "ticks": "",
            "zerolinecolor": "white"
           },
           "yaxis": {
            "backgroundcolor": "#E5ECF6",
            "gridcolor": "white",
            "gridwidth": 2,
            "linecolor": "white",
            "showbackground": true,
            "ticks": "",
            "zerolinecolor": "white"
           },
           "zaxis": {
            "backgroundcolor": "#E5ECF6",
            "gridcolor": "white",
            "gridwidth": 2,
            "linecolor": "white",
            "showbackground": true,
            "ticks": "",
            "zerolinecolor": "white"
           }
          },
          "shapedefaults": {
           "line": {
            "color": "#2a3f5f"
           }
          },
          "ternary": {
           "aaxis": {
            "gridcolor": "white",
            "linecolor": "white",
            "ticks": ""
           },
           "baxis": {
            "gridcolor": "white",
            "linecolor": "white",
            "ticks": ""
           },
           "bgcolor": "#E5ECF6",
           "caxis": {
            "gridcolor": "white",
            "linecolor": "white",
            "ticks": ""
           }
          },
          "title": {
           "x": 0.05
          },
          "xaxis": {
           "automargin": true,
           "gridcolor": "white",
           "linecolor": "white",
           "ticks": "",
           "title": {
            "standoff": 15
           },
           "zerolinecolor": "white",
           "zerolinewidth": 2
          },
          "yaxis": {
           "automargin": true,
           "gridcolor": "white",
           "linecolor": "white",
           "ticks": "",
           "title": {
            "standoff": 15
           },
           "zerolinecolor": "white",
           "zerolinewidth": 2
          }
         }
        },
        "title": {
         "text": "Neighborhood Purity vs k Value"
        },
        "xaxis": {
         "title": {
          "text": "Number of Neighbors (k)"
         }
        },
        "yaxis": {
         "title": {
          "text": "Average Neighborhood Purity"
         }
        }
       }
      }
     },
     "metadata": {},
     "output_type": "display_data"
    },
    {
     "name": "stdout",
     "output_type": "stream",
     "text": [
      "\n",
      " Distance Distribution Analysis:\n"
     ]
    },
    {
     "data": {
      "application/vnd.plotly.v1+json": {
       "config": {
        "plotlyServerURL": "https://plot.ly"
       },
       "data": [
        {
         "marker": {
          "color": "blue"
         },
         "name": "Premium Young",
         "nbinsx": 30,
         "opacity": 0.7,
         "type": "histogram",
         "x": {
          "bdata": "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",
          "dtype": "f8"
         }
        },
        {
         "marker": {
          "color": "red"
         },
         "name": "Family Focused",
         "nbinsx": 30,
         "opacity": 0.7,
         "type": "histogram",
         "x": {
          "bdata": "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",
          "dtype": "f8"
         }
        },
        {
         "marker": {
          "color": "green"
         },
         "name": "Conservative Savers",
         "nbinsx": 30,
         "opacity": 0.7,
         "type": "histogram",
         "x": {
          "bdata": "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",
          "dtype": "f8"
         }
        },
        {
         "marker": {
          "color": "orange"
         },
         "name": "Budget Conscious",
         "nbinsx": 30,
         "opacity": 0.7,
         "type": "histogram",
         "x": {
          "bdata": "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",
          "dtype": "f8"
         }
        }
       ],
       "layout": {
        "barmode": "overlay",
        "height": 500,
        "template": {
         "data": {
          "bar": [
           {
            "error_x": {
             "color": "#2a3f5f"
            },
            "error_y": {
             "color": "#2a3f5f"
            },
            "marker": {
             "line": {
              "color": "#E5ECF6",
              "width": 0.5
             },
             "pattern": {
              "fillmode": "overlay",
              "size": 10,
              "solidity": 0.2
             }
            },
            "type": "bar"
           }
          ],
          "barpolar": [
           {
            "marker": {
             "line": {
              "color": "#E5ECF6",
              "width": 0.5
             },
             "pattern": {
              "fillmode": "overlay",
              "size": 10,
              "solidity": 0.2
             }
            },
            "type": "barpolar"
           }
          ],
          "carpet": [
           {
            "aaxis": {
             "endlinecolor": "#2a3f5f",
             "gridcolor": "white",
             "linecolor": "white",
             "minorgridcolor": "white",
             "startlinecolor": "#2a3f5f"
            },
            "baxis": {
             "endlinecolor": "#2a3f5f",
             "gridcolor": "white",
             "linecolor": "white",
             "minorgridcolor": "white",
             "startlinecolor": "#2a3f5f"
            },
            "type": "carpet"
           }
          ],
          "choropleth": [
           {
            "colorbar": {
             "outlinewidth": 0,
             "ticks": ""
            },
            "type": "choropleth"
           }
          ],
          "contour": [
           {
            "colorbar": {
             "outlinewidth": 0,
             "ticks": ""
            },
            "colorscale": [
             [
              0,
              "#0d0887"
             ],
             [
              0.1111111111111111,
              "#46039f"
             ],
             [
              0.2222222222222222,
              "#7201a8"
             ],
             [
              0.3333333333333333,
              "#9c179e"
             ],
             [
              0.4444444444444444,
              "#bd3786"
             ],
             [
              0.5555555555555556,
              "#d8576b"
             ],
             [
              0.6666666666666666,
              "#ed7953"
             ],
             [
              0.7777777777777778,
              "#fb9f3a"
             ],
             [
              0.8888888888888888,
              "#fdca26"
             ],
             [
              1,
              "#f0f921"
             ]
            ],
            "type": "contour"
           }
          ],
          "contourcarpet": [
           {
            "colorbar": {
             "outlinewidth": 0,
             "ticks": ""
            },
            "type": "contourcarpet"
           }
          ],
          "heatmap": [
           {
            "colorbar": {
             "outlinewidth": 0,
             "ticks": ""
            },
            "colorscale": [
             [
              0,
              "#0d0887"
             ],
             [
              0.1111111111111111,
              "#46039f"
             ],
             [
              0.2222222222222222,
              "#7201a8"
             ],
             [
              0.3333333333333333,
              "#9c179e"
             ],
             [
              0.4444444444444444,
              "#bd3786"
             ],
             [
              0.5555555555555556,
              "#d8576b"
             ],
             [
              0.6666666666666666,
              "#ed7953"
             ],
             [
              0.7777777777777778,
              "#fb9f3a"
             ],
             [
              0.8888888888888888,
              "#fdca26"
             ],
             [
              1,
              "#f0f921"
             ]
            ],
            "type": "heatmap"
           }
          ],
          "histogram": [
           {
            "marker": {
             "pattern": {
              "fillmode": "overlay",
              "size": 10,
              "solidity": 0.2
             }
            },
            "type": "histogram"
           }
          ],
          "histogram2d": [
           {
            "colorbar": {
             "outlinewidth": 0,
             "ticks": ""
            },
            "colorscale": [
             [
              0,
              "#0d0887"
             ],
             [
              0.1111111111111111,
              "#46039f"
             ],
             [
              0.2222222222222222,
              "#7201a8"
             ],
             [
              0.3333333333333333,
              "#9c179e"
             ],
             [
              0.4444444444444444,
              "#bd3786"
             ],
             [
              0.5555555555555556,
              "#d8576b"
             ],
             [
              0.6666666666666666,
              "#ed7953"
             ],
             [
              0.7777777777777778,
              "#fb9f3a"
             ],
             [
              0.8888888888888888,
              "#fdca26"
             ],
             [
              1,
              "#f0f921"
             ]
            ],
            "type": "histogram2d"
           }
          ],
          "histogram2dcontour": [
           {
            "colorbar": {
             "outlinewidth": 0,
             "ticks": ""
            },
            "colorscale": [
             [
              0,
              "#0d0887"
             ],
             [
              0.1111111111111111,
              "#46039f"
             ],
             [
              0.2222222222222222,
              "#7201a8"
             ],
             [
              0.3333333333333333,
              "#9c179e"
             ],
             [
              0.4444444444444444,
              "#bd3786"
             ],
             [
              0.5555555555555556,
              "#d8576b"
             ],
             [
              0.6666666666666666,
              "#ed7953"
             ],
             [
              0.7777777777777778,
              "#fb9f3a"
             ],
             [
              0.8888888888888888,
              "#fdca26"
             ],
             [
              1,
              "#f0f921"
             ]
            ],
            "type": "histogram2dcontour"
           }
          ],
          "mesh3d": [
           {
            "colorbar": {
             "outlinewidth": 0,
             "ticks": ""
            },
            "type": "mesh3d"
           }
          ],
          "parcoords": [
           {
            "line": {
             "colorbar": {
              "outlinewidth": 0,
              "ticks": ""
             }
            },
            "type": "parcoords"
           }
          ],
          "pie": [
           {
            "automargin": true,
            "type": "pie"
           }
          ],
          "scatter": [
           {
            "fillpattern": {
             "fillmode": "overlay",
             "size": 10,
             "solidity": 0.2
            },
            "type": "scatter"
           }
          ],
          "scatter3d": [
           {
            "line": {
             "colorbar": {
              "outlinewidth": 0,
              "ticks": ""
             }
            },
            "marker": {
             "colorbar": {
              "outlinewidth": 0,
              "ticks": ""
             }
            },
            "type": "scatter3d"
           }
          ],
          "scattercarpet": [
           {
            "marker": {
             "colorbar": {
              "outlinewidth": 0,
              "ticks": ""
             }
            },
            "type": "scattercarpet"
           }
          ],
          "scattergeo": [
           {
            "marker": {
             "colorbar": {
              "outlinewidth": 0,
              "ticks": ""
             }
            },
            "type": "scattergeo"
           }
          ],
          "scattergl": [
           {
            "marker": {
             "colorbar": {
              "outlinewidth": 0,
              "ticks": ""
             }
            },
            "type": "scattergl"
           }
          ],
          "scattermap": [
           {
            "marker": {
             "colorbar": {
              "outlinewidth": 0,
              "ticks": ""
             }
            },
            "type": "scattermap"
           }
          ],
          "scattermapbox": [
           {
            "marker": {
             "colorbar": {
              "outlinewidth": 0,
              "ticks": ""
             }
            },
            "type": "scattermapbox"
           }
          ],
          "scatterpolar": [
           {
            "marker": {
             "colorbar": {
              "outlinewidth": 0,
              "ticks": ""
             }
            },
            "type": "scatterpolar"
           }
          ],
          "scatterpolargl": [
           {
            "marker": {
             "colorbar": {
              "outlinewidth": 0,
              "ticks": ""
             }
            },
            "type": "scatterpolargl"
           }
          ],
          "scatterternary": [
           {
            "marker": {
             "colorbar": {
              "outlinewidth": 0,
              "ticks": ""
             }
            },
            "type": "scatterternary"
           }
          ],
          "surface": [
           {
            "colorbar": {
             "outlinewidth": 0,
             "ticks": ""
            },
            "colorscale": [
             [
              0,
              "#0d0887"
             ],
             [
              0.1111111111111111,
              "#46039f"
             ],
             [
              0.2222222222222222,
              "#7201a8"
             ],
             [
              0.3333333333333333,
              "#9c179e"
             ],
             [
              0.4444444444444444,
              "#bd3786"
             ],
             [
              0.5555555555555556,
              "#d8576b"
             ],
             [
              0.6666666666666666,
              "#ed7953"
             ],
             [
              0.7777777777777778,
              "#fb9f3a"
             ],
             [
              0.8888888888888888,
              "#fdca26"
             ],
             [
              1,
              "#f0f921"
             ]
            ],
            "type": "surface"
           }
          ],
          "table": [
           {
            "cells": {
             "fill": {
              "color": "#EBF0F8"
             },
             "line": {
              "color": "white"
             }
            },
            "header": {
             "fill": {
              "color": "#C8D4E3"
             },
             "line": {
              "color": "white"
             }
            },
            "type": "table"
           }
          ]
         },
         "layout": {
          "annotationdefaults": {
           "arrowcolor": "#2a3f5f",
           "arrowhead": 0,
           "arrowwidth": 1
          },
          "autotypenumbers": "strict",
          "coloraxis": {
           "colorbar": {
            "outlinewidth": 0,
            "ticks": ""
           }
          },
          "colorscale": {
           "diverging": [
            [
             0,
             "#8e0152"
            ],
            [
             0.1,
             "#c51b7d"
            ],
            [
             0.2,
             "#de77ae"
            ],
            [
             0.3,
             "#f1b6da"
            ],
            [
             0.4,
             "#fde0ef"
            ],
            [
             0.5,
             "#f7f7f7"
            ],
            [
             0.6,
             "#e6f5d0"
            ],
            [
             0.7,
             "#b8e186"
            ],
            [
             0.8,
             "#7fbc41"
            ],
            [
             0.9,
             "#4d9221"
            ],
            [
             1,
             "#276419"
            ]
           ],
           "sequential": [
            [
             0,
             "#0d0887"
            ],
            [
             0.1111111111111111,
             "#46039f"
            ],
            [
             0.2222222222222222,
             "#7201a8"
            ],
            [
             0.3333333333333333,
             "#9c179e"
            ],
            [
             0.4444444444444444,
             "#bd3786"
            ],
            [
             0.5555555555555556,
             "#d8576b"
            ],
            [
             0.6666666666666666,
             "#ed7953"
            ],
            [
             0.7777777777777778,
             "#fb9f3a"
            ],
            [
             0.8888888888888888,
             "#fdca26"
            ],
            [
             1,
             "#f0f921"
            ]
           ],
           "sequentialminus": [
            [
             0,
             "#0d0887"
            ],
            [
             0.1111111111111111,
             "#46039f"
            ],
            [
             0.2222222222222222,
             "#7201a8"
            ],
            [
             0.3333333333333333,
             "#9c179e"
            ],
            [
             0.4444444444444444,
             "#bd3786"
            ],
            [
             0.5555555555555556,
             "#d8576b"
            ],
            [
             0.6666666666666666,
             "#ed7953"
            ],
            [
             0.7777777777777778,
             "#fb9f3a"
            ],
            [
             0.8888888888888888,
             "#fdca26"
            ],
            [
             1,
             "#f0f921"
            ]
           ]
          },
          "colorway": [
           "#636efa",
           "#EF553B",
           "#00cc96",
           "#ab63fa",
           "#FFA15A",
           "#19d3f3",
           "#FF6692",
           "#B6E880",
           "#FF97FF",
           "#FECB52"
          ],
          "font": {
           "color": "#2a3f5f"
          },
          "geo": {
           "bgcolor": "white",
           "lakecolor": "white",
           "landcolor": "#E5ECF6",
           "showlakes": true,
           "showland": true,
           "subunitcolor": "white"
          },
          "hoverlabel": {
           "align": "left"
          },
          "hovermode": "closest",
          "mapbox": {
           "style": "light"
          },
          "paper_bgcolor": "white",
          "plot_bgcolor": "#E5ECF6",
          "polar": {
           "angularaxis": {
            "gridcolor": "white",
            "linecolor": "white",
            "ticks": ""
           },
           "bgcolor": "#E5ECF6",
           "radialaxis": {
            "gridcolor": "white",
            "linecolor": "white",
            "ticks": ""
           }
          },
          "scene": {
           "xaxis": {
            "backgroundcolor": "#E5ECF6",
            "gridcolor": "white",
            "gridwidth": 2,
            "linecolor": "white",
            "showbackground": true,
            "ticks": "",
            "zerolinecolor": "white"
           },
           "yaxis": {
            "backgroundcolor": "#E5ECF6",
            "gridcolor": "white",
            "gridwidth": 2,
            "linecolor": "white",
            "showbackground": true,
            "ticks": "",
            "zerolinecolor": "white"
           },
           "zaxis": {
            "backgroundcolor": "#E5ECF6",
            "gridcolor": "white",
            "gridwidth": 2,
            "linecolor": "white",
            "showbackground": true,
            "ticks": "",
            "zerolinecolor": "white"
           }
          },
          "shapedefaults": {
           "line": {
            "color": "#2a3f5f"
           }
          },
          "ternary": {
           "aaxis": {
            "gridcolor": "white",
            "linecolor": "white",
            "ticks": ""
           },
           "baxis": {
            "gridcolor": "white",
            "linecolor": "white",
            "ticks": ""
           },
           "bgcolor": "#E5ECF6",
           "caxis": {
            "gridcolor": "white",
            "linecolor": "white",
            "ticks": ""
           }
          },
          "title": {
           "x": 0.05
          },
          "xaxis": {
           "automargin": true,
           "gridcolor": "white",
           "linecolor": "white",
           "ticks": "",
           "title": {
            "standoff": 15
           },
           "zerolinecolor": "white",
           "zerolinewidth": 2
          },
          "yaxis": {
           "automargin": true,
           "gridcolor": "white",
           "linecolor": "white",
           "ticks": "",
           "title": {
            "standoff": 15
           },
           "zerolinecolor": "white",
           "zerolinewidth": 2
          }
         }
        },
        "title": {
         "text": "Intra-Segment Distance Distributions"
        },
        "xaxis": {
         "title": {
          "text": "Euclidean Distance"
         }
        },
        "yaxis": {
         "title": {
          "text": "Frequency"
         }
        }
       }
      }
     },
     "metadata": {},
     "output_type": "display_data"
    },
    {
     "name": "stdout",
     "output_type": "stream",
     "text": [
      "\n",
      "Intra-segment distance statistics:\n",
      "• Premium Young: Mean = 3.731, Std = 1.091\n",
      "• Family Focused: Mean = 3.603, Std = 1.027\n",
      "• Conservative Savers: Mean = 3.261, Std = 0.966\n",
      "• Budget Conscious: Mean = 3.564, Std = 0.980\n"
     ]
    }
   ],
   "source": [
    "# 5. NEIGHBORHOOD ANALYSIS AND VISUALIZATION\n",
    "print(\" 5. NEIGHBORHOOD ANALYSIS AND VISUALIZATION\")\n",
    "print(\"=\" * 44)\n",
    "\n",
    "# Analyze neighborhood composition for different values of k\n",
    "print(\"Analyzing neighborhood composition for customer segmentation:\")\n",
    "\n",
    "# Select a few interesting test samples for analysis\n",
    "interesting_samples = []\n",
    "for segment in range(4):\n",
    "    # Find samples of each segment\n",
    "    segment_indices = np.where(y_class_test == segment)[0]\n",
    "    if len(segment_indices) > 0:\n",
    "        interesting_samples.append(segment_indices[0])\n",
    "\n",
    "print(f\"Analyzing {len(interesting_samples)} representative samples...\")\n",
    "\n",
    "# Fit nearest neighbors model for analysis\n",
    "nn_analyzer = NearestNeighbors(n_neighbors=15, metric='euclidean')\n",
    "nn_analyzer.fit(X_class_train_scaled)\n",
    "\n",
    "neighborhood_analysis = {}\n",
    "\n",
    "for i, sample_idx in enumerate(interesting_samples):\n",
    "    sample = X_class_test_scaled[sample_idx:sample_idx+1]\n",
    "    true_segment = y_class_test.iloc[sample_idx]\n",
    "\n",
    "    # Find nearest neighbors\n",
    "    distances, indices = nn_analyzer.kneighbors(sample)\n",
    "    neighbor_segments = y_class_train.iloc[indices[0]]\n",
    "\n",
    "    print(f\"\\nSample {i+1} - True Segment: {segment_names[true_segment]}\")\n",
    "\n",
    "    # Analyze neighborhood composition for different k values\n",
    "    for k in [1, 3, 5, 10, 15]:\n",
    "        k_neighbors = neighbor_segments[:k]\n",
    "        segment_counts = k_neighbors.value_counts().sort_index()\n",
    "\n",
    "        print(f\" k={k}: \", end=\"\")\n",
    "        composition = []\n",
    "        for seg in range(4):\n",
    "            count = segment_counts.get(seg, 0)\n",
    "            if count > 0:\n",
    "                composition.append(f\"{segment_names[seg][:3]}({count})\")\n",
    "        print(\" | \".join(composition))\n",
    "\n",
    "        # Make prediction for this k\n",
    "        majority_vote = k_neighbors.mode()[0] if len(k_neighbors.mode()) > 0 else k_neighbors.iloc[0]\n",
    "        correct = \"\" if majority_vote == true_segment else \"\"\n",
    "        print(f\" Prediction: {segment_names[majority_vote]} {correct}\")\n",
    "\n",
    "    neighborhood_analysis[f\"Sample_{i+1}\"] = {\n",
    "        'true_segment': true_segment,\n",
    "        'neighbors': neighbor_segments,\n",
    "        'distances': distances[0]\n",
    "    }\n",
    "\n",
    "# Visualize neighborhood diversity\n",
    "print(f\"\\n Neighborhood Diversity Analysis:\")\n",
    "\n",
    "# Calculate neighborhood purity for different k values\n",
    "k_values_analysis = [1, 3, 5, 7, 10, 15, 20]\n",
    "purity_scores = []\n",
    "\n",
    "for k in k_values_analysis:\n",
    "    total_purity = 0\n",
    "    n_samples = min(100, len(X_class_test_scaled)) # Limit for performance\n",
    "\n",
    "    for i in range(n_samples):\n",
    "        sample = X_class_test_scaled[i:i+1]\n",
    "        true_segment = y_class_test.iloc[i]\n",
    "\n",
    "        # Find k nearest neighbors\n",
    "        distances, indices = nn_analyzer.kneighbors(sample, n_neighbors=k)\n",
    "        neighbor_segments = y_class_train.iloc[indices[0]]\n",
    "\n",
    "        # Calculate purity (fraction of neighbors with same segment as majority)\n",
    "        majority_segment = neighbor_segments.mode()[0]\n",
    "        purity = (neighbor_segments == majority_segment).sum() / k\n",
    "        total_purity += purity\n",
    "\n",
    "    avg_purity = total_purity / n_samples\n",
    "    purity_scores.append(avg_purity)\n",
    "    print(f\"• k={k}: Average neighborhood purity = {avg_purity:.3f}\")\n",
    "\n",
    "# Plot neighborhood purity\n",
    "fig_purity = go.Figure()\n",
    "\n",
    "fig_purity.add_trace(\n",
    " go.Scatter(\n",
    " x=k_values_analysis,\n",
    " y=purity_scores,\n",
    " mode='lines+markers',\n",
    " name='Neighborhood Purity',\n",
    " line=dict(color='purple'),\n",
    " hovertemplate=\"k: %{x}<br>Purity: %{y:.3f}<extra></extra>\"\n",
    " )\n",
    ")\n",
    "\n",
    "fig_purity.update_layout(\n",
    " title=\"Neighborhood Purity vs k Value\",\n",
    " xaxis_title=\"Number of Neighbors (k)\",\n",
    " yaxis_title=\"Average Neighborhood Purity\",\n",
    " height=400\n",
    ")\n",
    "fig_purity.show()\n",
    "\n",
    "# Distance distribution analysis\n",
    "print(f\"\\n Distance Distribution Analysis:\")\n",
    "\n",
    "# Analyze distance distributions for each segment\n",
    "segment_distances = {seg: [] for seg in range(4)}\n",
    "\n",
    "# Sample 50 points from each segment for analysis\n",
    "for segment in range(4):\n",
    "    segment_mask = y_class_train == segment\n",
    "    segment_data = X_class_train_scaled[segment_mask]\n",
    "\n",
    "    if len(segment_data) > 1:\n",
    "        # Sample points\n",
    "        sample_size = min(50, len(segment_data))\n",
    "        sampled_indices = np.random.choice(len(segment_data), sample_size, replace=False)\n",
    "        sampled_data = segment_data[sampled_indices]\n",
    "\n",
    "        # Calculate pairwise distances within segment\n",
    "        distances = euclidean_distances(sampled_data, sampled_data)\n",
    "        # Get upper triangle (avoid duplicates and zeros)\n",
    "        distances = distances[np.triu_indices_from(distances, k=1)]\n",
    "        segment_distances[segment] = distances\n",
    "\n",
    "# Plot distance distributions\n",
    "fig_dist = go.Figure()\n",
    "\n",
    "colors = ['blue', 'red', 'green', 'orange']\n",
    "for segment in range(4):\n",
    "    if len(segment_distances[segment]) > 0:\n",
    "        fig_dist.add_trace(\n",
    "            go.Histogram(\n",
    "                x=segment_distances[segment],\n",
    "                name=segment_names[segment],\n",
    "                opacity=0.7,\n",
    "                marker_color=colors[segment],\n",
    "                nbinsx=30\n",
    "            )\n",
    "        )\n",
    "\n",
    "fig_dist.update_layout(\n",
    "    title=\"Intra-Segment Distance Distributions\",\n",
    "    xaxis_title=\"Euclidean Distance\",\n",
    "    yaxis_title=\"Frequency\",\n",
    "    barmode='overlay',\n",
    "    height=500\n",
    ")\n",
    "fig_dist.show()\n",
    "\n",
    "# Calculate and display statistics\n",
    "print(f\"\\nIntra-segment distance statistics:\")\n",
    "for segment in range(4):\n",
    "    if len(segment_distances[segment]) > 0:\n",
    "        distances = segment_distances[segment]\n",
    "        mean_dist = distances.mean()\n",
    "        std_dist = distances.std()\n",
    "        print(f\"• {segment_names[segment]}: Mean = {mean_dist:.3f}, Std = {std_dist:.3f}\")"
   ]
  },
  {
   "cell_type": "code",
   "execution_count": 16,
   "id": "3586a290",
   "metadata": {},
   "outputs": [
    {
     "name": "stdout",
     "output_type": "stream",
     "text": [
      " 6. BUSINESS INSIGHTS AND STRATEGIC RECOMMENDATIONS\n",
      "======================================================\n",
      " k-NN Model Interpretability Analysis:\n",
      "Feature Sensitivity Analysis (prediction change rate with 10% noise):\n",
      "• customer_age: 0.010\n",
      "• annual_income: 0.010\n",
      "• spending_score: 0.010\n",
      "• years_customer: 0.010\n",
      "• monthly_purchases: 0.010\n",
      "• clothing_purchases: 0.010\n",
      "• grocery_purchases: 0.010\n",
      "• electronics_purchases: 0.000\n"
     ]
    },
    {
     "data": {
      "application/vnd.plotly.v1+json": {
       "config": {
        "plotlyServerURL": "https://plot.ly"
       },
       "data": [
        {
         "hovertemplate": "Feature: %{x}<br>Sensitivity: %{y:.3f}<extra></extra>",
         "marker": {
          "color": "lightgreen"
         },
         "type": "bar",
         "x": [
          "customer_age",
          "annual_income",
          "spending_score",
          "years_customer",
          "monthly_purchases",
          "clothing_purchases",
          "grocery_purchases",
          "electronics_purchases"
         ],
         "y": {
          "bdata": "exSuR+F6hD97FK5H4XqEP3sUrkfheoQ/exSuR+F6hD97FK5H4XqEP3sUrkfheoQ/exSuR+F6hD8AAAAAAAAAAA==",
          "dtype": "f8"
         }
        }
       ],
       "layout": {
        "height": 500,
        "template": {
         "data": {
          "bar": [
           {
            "error_x": {
             "color": "#2a3f5f"
            },
            "error_y": {
             "color": "#2a3f5f"
            },
            "marker": {
             "line": {
              "color": "#E5ECF6",
              "width": 0.5
             },
             "pattern": {
              "fillmode": "overlay",
              "size": 10,
              "solidity": 0.2
             }
            },
            "type": "bar"
           }
          ],
          "barpolar": [
           {
            "marker": {
             "line": {
              "color": "#E5ECF6",
              "width": 0.5
             },
             "pattern": {
              "fillmode": "overlay",
              "size": 10,
              "solidity": 0.2
             }
            },
            "type": "barpolar"
           }
          ],
          "carpet": [
           {
            "aaxis": {
             "endlinecolor": "#2a3f5f",
             "gridcolor": "white",
             "linecolor": "white",
             "minorgridcolor": "white",
             "startlinecolor": "#2a3f5f"
            },
            "baxis": {
             "endlinecolor": "#2a3f5f",
             "gridcolor": "white",
             "linecolor": "white",
             "minorgridcolor": "white",
             "startlinecolor": "#2a3f5f"
            },
            "type": "carpet"
           }
          ],
          "choropleth": [
           {
            "colorbar": {
             "outlinewidth": 0,
             "ticks": ""
            },
            "type": "choropleth"
           }
          ],
          "contour": [
           {
            "colorbar": {
             "outlinewidth": 0,
             "ticks": ""
            },
            "colorscale": [
             [
              0,
              "#0d0887"
             ],
             [
              0.1111111111111111,
              "#46039f"
             ],
             [
              0.2222222222222222,
              "#7201a8"
             ],
             [
              0.3333333333333333,
              "#9c179e"
             ],
             [
              0.4444444444444444,
              "#bd3786"
             ],
             [
              0.5555555555555556,
              "#d8576b"
             ],
             [
              0.6666666666666666,
              "#ed7953"
             ],
             [
              0.7777777777777778,
              "#fb9f3a"
             ],
             [
              0.8888888888888888,
              "#fdca26"
             ],
             [
              1,
              "#f0f921"
             ]
            ],
            "type": "contour"
           }
          ],
          "contourcarpet": [
           {
            "colorbar": {
             "outlinewidth": 0,
             "ticks": ""
            },
            "type": "contourcarpet"
           }
          ],
          "heatmap": [
           {
            "colorbar": {
             "outlinewidth": 0,
             "ticks": ""
            },
            "colorscale": [
             [
              0,
              "#0d0887"
             ],
             [
              0.1111111111111111,
              "#46039f"
             ],
             [
              0.2222222222222222,
              "#7201a8"
             ],
             [
              0.3333333333333333,
              "#9c179e"
             ],
             [
              0.4444444444444444,
              "#bd3786"
             ],
             [
              0.5555555555555556,
              "#d8576b"
             ],
             [
              0.6666666666666666,
              "#ed7953"
             ],
             [
              0.7777777777777778,
              "#fb9f3a"
             ],
             [
              0.8888888888888888,
              "#fdca26"
             ],
             [
              1,
              "#f0f921"
             ]
            ],
            "type": "heatmap"
           }
          ],
          "histogram": [
           {
            "marker": {
             "pattern": {
              "fillmode": "overlay",
              "size": 10,
              "solidity": 0.2
             }
            },
            "type": "histogram"
           }
          ],
          "histogram2d": [
           {
            "colorbar": {
             "outlinewidth": 0,
             "ticks": ""
            },
            "colorscale": [
             [
              0,
              "#0d0887"
             ],
             [
              0.1111111111111111,
              "#46039f"
             ],
             [
              0.2222222222222222,
              "#7201a8"
             ],
             [
              0.3333333333333333,
              "#9c179e"
             ],
             [
              0.4444444444444444,
              "#bd3786"
             ],
             [
              0.5555555555555556,
              "#d8576b"
             ],
             [
              0.6666666666666666,
              "#ed7953"
             ],
             [
              0.7777777777777778,
              "#fb9f3a"
             ],
             [
              0.8888888888888888,
              "#fdca26"
             ],
             [
              1,
              "#f0f921"
             ]
            ],
            "type": "histogram2d"
           }
          ],
          "histogram2dcontour": [
           {
            "colorbar": {
             "outlinewidth": 0,
             "ticks": ""
            },
            "colorscale": [
             [
              0,
              "#0d0887"
             ],
             [
              0.1111111111111111,
              "#46039f"
             ],
             [
              0.2222222222222222,
              "#7201a8"
             ],
             [
              0.3333333333333333,
              "#9c179e"
             ],
             [
              0.4444444444444444,
              "#bd3786"
             ],
             [
              0.5555555555555556,
              "#d8576b"
             ],
             [
              0.6666666666666666,
              "#ed7953"
             ],
             [
              0.7777777777777778,
              "#fb9f3a"
             ],
             [
              0.8888888888888888,
              "#fdca26"
             ],
             [
              1,
              "#f0f921"
             ]
            ],
            "type": "histogram2dcontour"
           }
          ],
          "mesh3d": [
           {
            "colorbar": {
             "outlinewidth": 0,
             "ticks": ""
            },
            "type": "mesh3d"
           }
          ],
          "parcoords": [
           {
            "line": {
             "colorbar": {
              "outlinewidth": 0,
              "ticks": ""
             }
            },
            "type": "parcoords"
           }
          ],
          "pie": [
           {
            "automargin": true,
            "type": "pie"
           }
          ],
          "scatter": [
           {
            "fillpattern": {
             "fillmode": "overlay",
             "size": 10,
             "solidity": 0.2
            },
            "type": "scatter"
           }
          ],
          "scatter3d": [
           {
            "line": {
             "colorbar": {
              "outlinewidth": 0,
              "ticks": ""
             }
            },
            "marker": {
             "colorbar": {
              "outlinewidth": 0,
              "ticks": ""
             }
            },
            "type": "scatter3d"
           }
          ],
          "scattercarpet": [
           {
            "marker": {
             "colorbar": {
              "outlinewidth": 0,
              "ticks": ""
             }
            },
            "type": "scattercarpet"
           }
          ],
          "scattergeo": [
           {
            "marker": {
             "colorbar": {
              "outlinewidth": 0,
              "ticks": ""
             }
            },
            "type": "scattergeo"
           }
          ],
          "scattergl": [
           {
            "marker": {
             "colorbar": {
              "outlinewidth": 0,
              "ticks": ""
             }
            },
            "type": "scattergl"
           }
          ],
          "scattermap": [
           {
            "marker": {
             "colorbar": {
              "outlinewidth": 0,
              "ticks": ""
             }
            },
            "type": "scattermap"
           }
          ],
          "scattermapbox": [
           {
            "marker": {
             "colorbar": {
              "outlinewidth": 0,
              "ticks": ""
             }
            },
            "type": "scattermapbox"
           }
          ],
          "scatterpolar": [
           {
            "marker": {
             "colorbar": {
              "outlinewidth": 0,
              "ticks": ""
             }
            },
            "type": "scatterpolar"
           }
          ],
          "scatterpolargl": [
           {
            "marker": {
             "colorbar": {
              "outlinewidth": 0,
              "ticks": ""
             }
            },
            "type": "scatterpolargl"
           }
          ],
          "scatterternary": [
           {
            "marker": {
             "colorbar": {
              "outlinewidth": 0,
              "ticks": ""
             }
            },
            "type": "scatterternary"
           }
          ],
          "surface": [
           {
            "colorbar": {
             "outlinewidth": 0,
             "ticks": ""
            },
            "colorscale": [
             [
              0,
              "#0d0887"
             ],
             [
              0.1111111111111111,
              "#46039f"
             ],
             [
              0.2222222222222222,
              "#7201a8"
             ],
             [
              0.3333333333333333,
              "#9c179e"
             ],
             [
              0.4444444444444444,
              "#bd3786"
             ],
             [
              0.5555555555555556,
              "#d8576b"
             ],
             [
              0.6666666666666666,
              "#ed7953"
             ],
             [
              0.7777777777777778,
              "#fb9f3a"
             ],
             [
              0.8888888888888888,
              "#fdca26"
             ],
             [
              1,
              "#f0f921"
             ]
            ],
            "type": "surface"
           }
          ],
          "table": [
           {
            "cells": {
             "fill": {
              "color": "#EBF0F8"
             },
             "line": {
              "color": "white"
             }
            },
            "header": {
             "fill": {
              "color": "#C8D4E3"
             },
             "line": {
              "color": "white"
             }
            },
            "type": "table"
           }
          ]
         },
         "layout": {
          "annotationdefaults": {
           "arrowcolor": "#2a3f5f",
           "arrowhead": 0,
           "arrowwidth": 1
          },
          "autotypenumbers": "strict",
          "coloraxis": {
           "colorbar": {
            "outlinewidth": 0,
            "ticks": ""
           }
          },
          "colorscale": {
           "diverging": [
            [
             0,
             "#8e0152"
            ],
            [
             0.1,
             "#c51b7d"
            ],
            [
             0.2,
             "#de77ae"
            ],
            [
             0.3,
             "#f1b6da"
            ],
            [
             0.4,
             "#fde0ef"
            ],
            [
             0.5,
             "#f7f7f7"
            ],
            [
             0.6,
             "#e6f5d0"
            ],
            [
             0.7,
             "#b8e186"
            ],
            [
             0.8,
             "#7fbc41"
            ],
            [
             0.9,
             "#4d9221"
            ],
            [
             1,
             "#276419"
            ]
           ],
           "sequential": [
            [
             0,
             "#0d0887"
            ],
            [
             0.1111111111111111,
             "#46039f"
            ],
            [
             0.2222222222222222,
             "#7201a8"
            ],
            [
             0.3333333333333333,
             "#9c179e"
            ],
            [
             0.4444444444444444,
             "#bd3786"
            ],
            [
             0.5555555555555556,
             "#d8576b"
            ],
            [
             0.6666666666666666,
             "#ed7953"
            ],
            [
             0.7777777777777778,
             "#fb9f3a"
            ],
            [
             0.8888888888888888,
             "#fdca26"
            ],
            [
             1,
             "#f0f921"
            ]
           ],
           "sequentialminus": [
            [
             0,
             "#0d0887"
            ],
            [
             0.1111111111111111,
             "#46039f"
            ],
            [
             0.2222222222222222,
             "#7201a8"
            ],
            [
             0.3333333333333333,
             "#9c179e"
            ],
            [
             0.4444444444444444,
             "#bd3786"
            ],
            [
             0.5555555555555556,
             "#d8576b"
            ],
            [
             0.6666666666666666,
             "#ed7953"
            ],
            [
             0.7777777777777778,
             "#fb9f3a"
            ],
            [
             0.8888888888888888,
             "#fdca26"
            ],
            [
             1,
             "#f0f921"
            ]
           ]
          },
          "colorway": [
           "#636efa",
           "#EF553B",
           "#00cc96",
           "#ab63fa",
           "#FFA15A",
           "#19d3f3",
           "#FF6692",
           "#B6E880",
           "#FF97FF",
           "#FECB52"
          ],
          "font": {
           "color": "#2a3f5f"
          },
          "geo": {
           "bgcolor": "white",
           "lakecolor": "white",
           "landcolor": "#E5ECF6",
           "showlakes": true,
           "showland": true,
           "subunitcolor": "white"
          },
          "hoverlabel": {
           "align": "left"
          },
          "hovermode": "closest",
          "mapbox": {
           "style": "light"
          },
          "paper_bgcolor": "white",
          "plot_bgcolor": "#E5ECF6",
          "polar": {
           "angularaxis": {
            "gridcolor": "white",
            "linecolor": "white",
            "ticks": ""
           },
           "bgcolor": "#E5ECF6",
           "radialaxis": {
            "gridcolor": "white",
            "linecolor": "white",
            "ticks": ""
           }
          },
          "scene": {
           "xaxis": {
            "backgroundcolor": "#E5ECF6",
            "gridcolor": "white",
            "gridwidth": 2,
            "linecolor": "white",
            "showbackground": true,
            "ticks": "",
            "zerolinecolor": "white"
           },
           "yaxis": {
            "backgroundcolor": "#E5ECF6",
            "gridcolor": "white",
            "gridwidth": 2,
            "linecolor": "white",
            "showbackground": true,
            "ticks": "",
            "zerolinecolor": "white"
           },
           "zaxis": {
            "backgroundcolor": "#E5ECF6",
            "gridcolor": "white",
            "gridwidth": 2,
            "linecolor": "white",
            "showbackground": true,
            "ticks": "",
            "zerolinecolor": "white"
           }
          },
          "shapedefaults": {
           "line": {
            "color": "#2a3f5f"
           }
          },
          "ternary": {
           "aaxis": {
            "gridcolor": "white",
            "linecolor": "white",
            "ticks": ""
           },
           "baxis": {
            "gridcolor": "white",
            "linecolor": "white",
            "ticks": ""
           },
           "bgcolor": "#E5ECF6",
           "caxis": {
            "gridcolor": "white",
            "linecolor": "white",
            "ticks": ""
           }
          },
          "title": {
           "x": 0.05
          },
          "xaxis": {
           "automargin": true,
           "gridcolor": "white",
           "linecolor": "white",
           "ticks": "",
           "title": {
            "standoff": 15
           },
           "zerolinecolor": "white",
           "zerolinewidth": 2
          },
          "yaxis": {
           "automargin": true,
           "gridcolor": "white",
           "linecolor": "white",
           "ticks": "",
           "title": {
            "standoff": 15
           },
           "zerolinecolor": "white",
           "zerolinewidth": 2
          }
         }
        },
        "title": {
         "text": "k-NN Feature Sensitivity Analysis"
        },
        "xaxis": {
         "tickangle": -45,
         "title": {
          "text": "Features"
         }
        },
        "yaxis": {
         "title": {
          "text": "Prediction Change Rate"
         }
        }
       }
      }
     },
     "metadata": {},
     "output_type": "display_data"
    },
    {
     "name": "stdout",
     "output_type": "stream",
     "text": [
      "\n",
      " Segment-Specific Business Insights:\n",
      "Segment Prediction Performance:\n",
      "\n",
      "• Premium Young:\n",
      " - Accuracy: 0.714\n",
      " - Avg Confidence: 0.714\n",
      " - Confidence Range: 0.500 - 0.900\n",
      "\n",
      "• Family Focused:\n",
      " - Accuracy: 0.781\n",
      " - Avg Confidence: 0.766\n",
      " - Confidence Range: 0.400 - 1.000\n",
      "\n",
      "• Conservative Savers:\n",
      " - Accuracy: 0.357\n",
      " - Avg Confidence: 0.707\n",
      " - Confidence Range: 0.500 - 1.000\n",
      "\n",
      "• Budget Conscious:\n",
      " - Accuracy: 0.966\n",
      " - Avg Confidence: 0.880\n",
      " - Confidence Range: 0.500 - 1.000\n",
      "\n",
      " STRATEGIC RECOMMENDATIONS:\n",
      "\n",
      "1. OPTIMAL MODEL CONFIGURATION:\n",
      " • Use k = 10 neighbors for customer segmentation\n",
      " • Apply StandardScaler for feature preprocessing\n",
      " • Expected classification accuracy: 88.5%\n",
      " • Use manhattan distance metric for optimal performance\n",
      "\n",
      "2. FEATURE ENGINEERING INSIGHTS:\n",
      " • Most impactful feature: customer_age\n",
      " • Least impactful feature: electronics_purchases\n",
      " • Consider feature selection to reduce dimensionality\n",
      " • Focus data collection efforts on high-sensitivity features\n",
      "\n",
      "3. SEGMENT-SPECIFIC STRATEGIES:\n",
      " • Most predictable segment: Budget Conscious (96.6% accuracy)\n",
      " - Implement automated targeting for this segment\n",
      " - High confidence in model recommendations\n",
      " • Least predictable segment: Conservative Savers (35.7% accuracy)\n",
      " - Requires additional data collection\n",
      " - Consider manual review for predictions\n",
      "\n",
      "4. IMPLEMENTATION RECOMMENDATIONS:\n",
      " • Real-time prediction latency: Very fast (simple distance calculation)\n",
      " • Memory requirements: Store all training data (800 samples)\n",
      " • Model updates: Retrain when significant data drift detected\n",
      " • Scalability: Consider approximate nearest neighbors for large datasets\n",
      "\n",
      "5. BUSINESS VALUE DRIVERS:\n",
      " • Model improves over random assignment by 15.2 percentage points\n",
      " • Enables personalized marketing campaigns\n",
      " • Supports customer lifetime value prediction\n",
      " • Facilitates inventory planning by segment\n",
      "\n",
      "6. ROI ESTIMATION:\n",
      " • If applied to customer base of 10,000:\n",
      " - Correctly classified customers: ~8850\n",
      " - Misclassified customers: ~1150\n",
      " • Assuming $50 value per correct classification:\n",
      " - Annual value: $442,500\n",
      " • Model development cost amortized over high-volume predictions\n",
      "\n",
      "7. NEXT STEPS:\n",
      " • Deploy model for A/B testing on customer subset\n",
      " • Monitor prediction confidence and flag low-confidence cases\n",
      " • Collect feedback to validate segment assignments\n",
      " • Consider ensemble methods combining k-NN with other algorithms\n",
      " • Implement automated model retraining pipeline\n",
      "\n",
      "===========================================================================\n",
      " k-NN LEARNING SUMMARY:\n",
      " Mastered instance-based learning principles\n",
      " Optimized k-value selection through cross-validation\n",
      " Analyzed impact of distance metrics and scaling\n",
      " Understood curse of dimensionality effects\n",
      " Performed neighborhood analysis and interpretability\n",
      " Generated actionable business insights and ROI estimates\n",
      "===========================================================================\n"
     ]
    }
   ],
   "source": [
    "# 6. BUSINESS INSIGHTS AND STRATEGIC RECOMMENDATIONS\n",
    "print(\" 6. BUSINESS INSIGHTS AND STRATEGIC RECOMMENDATIONS\")\n",
    "print(\"=\" * 54)\n",
    "\n",
    "# Model interpretability analysis\n",
    "print(\" k-NN Model Interpretability Analysis:\")\n",
    "\n",
    "# Feature importance based on prediction sensitivity\n",
    "def calculate_feature_sensitivity(model, X_baseline, feature_names, n_samples=100):\n",
    "    \"\"\"Calculate feature sensitivity by perturbing each feature\"\"\"\n",
    "\n",
    "    # Sample baseline predictions\n",
    "    sample_indices = np.random.choice(len(X_baseline), n_samples, replace=False)\n",
    "    X_sample = X_baseline[sample_indices]\n",
    "    baseline_predictions = model.predict(X_sample)\n",
    "\n",
    "    sensitivities = {}\n",
    "\n",
    "    for i, feature in enumerate(feature_names):\n",
    "        # Perturb this feature by adding noise\n",
    "        X_perturbed = X_sample.copy()\n",
    "        noise_std = X_sample[:, i].std() * 0.1 # 10% of feature std\n",
    "        X_perturbed[:, i] += np.random.normal(0, noise_std, len(X_sample))\n",
    "\n",
    "        # Get new predictions\n",
    "        perturbed_predictions = model.predict(X_perturbed)\n",
    "\n",
    "        # Calculate sensitivity (prediction change rate)\n",
    "        change_rate = (baseline_predictions != perturbed_predictions).mean()\n",
    "        sensitivities[feature] = change_rate\n",
    "\n",
    "    return sensitivities\n",
    "\n",
    "# Calculate feature sensitivities\n",
    "sensitivities = calculate_feature_sensitivity(\n",
    "    knn_class_optimal, X_class_train_scaled, class_features\n",
    ")\n",
    "\n",
    "print(\"Feature Sensitivity Analysis (prediction change rate with 10% noise):\")\n",
    "sensitivity_df = pd.DataFrame(list(sensitivities.items()),\n",
    "    columns=['Feature', 'Sensitivity']).sort_values('Sensitivity', ascending=False)\n",
    "\n",
    "for _, row in sensitivity_df.iterrows():\n",
    "    print(f\"• {row['Feature']}: {row['Sensitivity']:.3f}\")\n",
    "\n",
    "# Visualize feature sensitivity\n",
    "fig_sensitivity = go.Figure()\n",
    "\n",
    "fig_sensitivity.add_trace(\n",
    "    go.Bar(\n",
    "        x=sensitivity_df['Feature'],\n",
    "        y=sensitivity_df['Sensitivity'],\n",
    "        marker_color='lightgreen',\n",
    "        hovertemplate=\"Feature: %{x}<br>Sensitivity: %{y:.3f}<extra></extra>\"\n",
    "    )\n",
    ")\n",
    "\n",
    "fig_sensitivity.update_layout(\n",
    "    title=\"k-NN Feature Sensitivity Analysis\",\n",
    "    xaxis_title=\"Features\",\n",
    "    yaxis_title=\"Prediction Change Rate\",\n",
    "    xaxis_tickangle=-45,\n",
    "    height=500\n",
    ")\n",
    "fig_sensitivity.show()\n",
    "\n",
    "# Segment-specific insights\n",
    "print(f\"\\n Segment-Specific Business Insights:\")\n",
    "\n",
    "# Analyze prediction confidence by segment\n",
    "segment_confidence = {}\n",
    "segment_sample_analysis = {}\n",
    "\n",
    "for segment in range(4):\n",
    "    # Get test samples for this segment\n",
    "    segment_mask = y_class_test == segment\n",
    "    if segment_mask.sum() > 0:\n",
    "        segment_X = X_class_test_scaled[segment_mask]\n",
    "        segment_predictions = knn_class_optimal.predict(segment_X)\n",
    "        segment_probabilities = knn_class_optimal.predict_proba(segment_X)\n",
    "\n",
    "        # Calculate confidence (max probability)\n",
    "        confidences = segment_probabilities.max(axis=1)\n",
    "        accuracy = (segment_predictions == segment).mean()\n",
    "\n",
    "        segment_confidence[segment] = {\n",
    "            'accuracy': accuracy,\n",
    "            'avg_confidence': confidences.mean(),\n",
    "            'min_confidence': confidences.min(),\n",
    "            'max_confidence': confidences.max()\n",
    "        }\n",
    "\n",
    "        # Sample characteristics analysis\n",
    "        segment_features = X_class_test[segment_mask].mean()\n",
    "        segment_sample_analysis[segment] = segment_features\n",
    "\n",
    "print(\"Segment Prediction Performance:\")\n",
    "for segment in range(4):\n",
    "    if segment in segment_confidence:\n",
    "        conf = segment_confidence[segment]\n",
    "        print(f\"\\n• {segment_names[segment]}:\")\n",
    "        print(f\" - Accuracy: {conf['accuracy']:.3f}\")\n",
    "        print(f\" - Avg Confidence: {conf['avg_confidence']:.3f}\")\n",
    "        print(f\" - Confidence Range: {conf['min_confidence']:.3f} - {conf['max_confidence']:.3f}\")\n",
    "\n",
    "# Strategic recommendations based on analysis\n",
    "print(f\"\\n STRATEGIC RECOMMENDATIONS:\")\n",
    "\n",
    "print(f\"\\n1. OPTIMAL MODEL CONFIGURATION:\")\n",
    "print(f\" • Use k = {optimal_k_class_cv} neighbors for customer segmentation\")\n",
    "print(f\" • Apply StandardScaler for feature preprocessing\")\n",
    "print(f\" • Expected classification accuracy: {class_accuracy:.1%}\")\n",
    "print(f\" • Use {best_metric} distance metric for optimal performance\")\n",
    "\n",
    "print(f\"\\n2. FEATURE ENGINEERING INSIGHTS:\")\n",
    "most_sensitive = sensitivity_df.iloc[0]['Feature']\n",
    "least_sensitive = sensitivity_df.iloc[-1]['Feature']\n",
    "print(f\" • Most impactful feature: {most_sensitive}\")\n",
    "print(f\" • Least impactful feature: {least_sensitive}\")\n",
    "print(f\" • Consider feature selection to reduce dimensionality\")\n",
    "print(f\" • Focus data collection efforts on high-sensitivity features\")\n",
    "\n",
    "print(f\"\\n3. SEGMENT-SPECIFIC STRATEGIES:\")\n",
    "\n",
    "# Find most/least predictable segments\n",
    "if segment_confidence:\n",
    " segment_accuracies = {seg: conf['accuracy'] for seg, conf in segment_confidence.items()}\n",
    " most_predictable = max(segment_accuracies, key=segment_accuracies.get)\n",
    " least_predictable = min(segment_accuracies, key=segment_accuracies.get)\n",
    "\n",
    " print(f\" • Most predictable segment: {segment_names[most_predictable]} ({segment_accuracies[most_predictable]:.1%} accuracy)\")\n",
    " print(f\" - Implement automated targeting for this segment\")\n",
    " print(f\" - High confidence in model recommendations\")\n",
    "\n",
    " print(f\" • Least predictable segment: {segment_names[least_predictable]} ({segment_accuracies[least_predictable]:.1%} accuracy)\")\n",
    " print(f\" - Requires additional data collection\")\n",
    " print(f\" - Consider manual review for predictions\")\n",
    "\n",
    "print(f\"\\n4. IMPLEMENTATION RECOMMENDATIONS:\")\n",
    "print(f\" • Real-time prediction latency: Very fast (simple distance calculation)\")\n",
    "print(f\" • Memory requirements: Store all training data ({len(X_class_train)} samples)\")\n",
    "print(f\" • Model updates: Retrain when significant data drift detected\")\n",
    "print(f\" • Scalability: Consider approximate nearest neighbors for large datasets\")\n",
    "\n",
    "print(f\"\\n5. BUSINESS VALUE DRIVERS:\")\n",
    "\n",
    "# Calculate potential business impact\n",
    "baseline_accuracy = max(y_class_train.value_counts()) / len(y_class_train) # Majority class baseline\n",
    "improvement = (class_accuracy - baseline_accuracy) * 100\n",
    "\n",
    "print(f\" • Model improves over random assignment by {improvement:.1f} percentage points\")\n",
    "print(f\" • Enables personalized marketing campaigns\")\n",
    "print(f\" • Supports customer lifetime value prediction\")\n",
    "print(f\" • Facilitates inventory planning by segment\")\n",
    "\n",
    "# ROI estimation\n",
    "print(f\"\\n6. ROI ESTIMATION:\")\n",
    "print(f\" • If applied to customer base of 10,000:\")\n",
    "print(f\" - Correctly classified customers: ~{int(class_accuracy * 10000)}\")\n",
    "print(f\" - Misclassified customers: ~{int((1-class_accuracy) * 10000)}\")\n",
    "print(f\" • Assuming $50 value per correct classification:\")\n",
    "print(f\" - Annual value: ${int(class_accuracy * 10000 * 50):,}\")\n",
    "print(f\" • Model development cost amortized over high-volume predictions\")\n",
    "\n",
    "print(f\"\\n7. NEXT STEPS:\")\n",
    "print(f\" • Deploy model for A/B testing on customer subset\")\n",
    "print(f\" • Monitor prediction confidence and flag low-confidence cases\")\n",
    "print(f\" • Collect feedback to validate segment assignments\")\n",
    "print(f\" • Consider ensemble methods combining k-NN with other algorithms\")\n",
    "print(f\" • Implement automated model retraining pipeline\")\n",
    "\n",
    "print(f\"\\n\" + \"=\"*75)\n",
    "print(f\" k-NN LEARNING SUMMARY:\")\n",
    "print(f\" Mastered instance-based learning principles\")\n",
    "print(f\" Optimized k-value selection through cross-validation\")\n",
    "print(f\" Analyzed impact of distance metrics and scaling\")\n",
    "print(f\" Understood curse of dimensionality effects\")\n",
    "print(f\" Performed neighborhood analysis and interpretability\")\n",
    "print(f\" Generated actionable business insights and ROI estimates\")\n",
    "print(f\"=\"*75)"
   ]
  }
 ],
 "metadata": {
  "kernelspec": {
   "display_name": ".venv",
   "language": "python",
   "name": "python3"
  },
  "language_info": {
   "codemirror_mode": {
    "name": "ipython",
    "version": 3
   },
   "file_extension": ".py",
   "mimetype": "text/x-python",
   "name": "python",
   "nbconvert_exporter": "python",
   "pygments_lexer": "ipython3",
   "version": "3.13.7"
  }
 },
 "nbformat": 4,
 "nbformat_minor": 5
}
