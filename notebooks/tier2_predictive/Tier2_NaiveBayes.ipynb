{
 "cells": [
  {
   "cell_type": "markdown",
   "metadata": {},
   "source": [
    "# Tier 2: Naive Bayes Classification\n",
    "\n",
    "---\n",
    "\n",
    "**Author:** Brandon Deloatch\n",
    "**Affiliation:** Quipu Research Labs, LLC\n",
    "**Date:** 2025-10-02\n",
    "**Version:** v1.3\n",
    "**License:** MIT\n",
    "**Notebook ID:** dc5e0d95-8fab-4735-bcc0-fbc7b6c5ed53\n",
    "\n",
    "---\n",
    "\n",
    "## Citation\n",
    "Brandon Deloatch, \"Tier 2: Naive Bayes Classification,\" Quipu Research Labs, LLC, v1.3, 2025-10-02.\n",
    "\n",
    "Please cite this notebook if used or adapted in publications, presentations, or derivative work.\n",
    "\n",
    "---\n",
    "\n",
    "## Contributors / Acknowledgments\n",
    "- **Primary Author:** Brandon Deloatch (Quipu Research Labs, LLC)\n",
    "- **Institutional Support:** Quipu Research Labs, LLC - Advanced Analytics Division\n",
    "- **Technical Framework:** Built on scikit-learn, pandas, numpy, and plotly ecosystems\n",
    "- **Methodological Foundation:** Statistical learning principles and modern data science best practices\n",
    "\n",
    "---\n",
    "\n",
    "## Version History\n",
    "| Version | Date | Notes |\n",
    "|---------|------|-------|\n",
    "| v1.3 | 2025-10-02 | Enhanced professional formatting, comprehensive documentation, interactive visualizations |\n",
    "| v1.2 | 2024-09-15 | Updated analysis methods, improved data generation algorithms |\n",
    "| v1.0 | 2024-06-10 | Initial release with core analytical framework |\n",
    "\n",
    "---\n",
    "\n",
    "## Environment Dependencies\n",
    "- **Python:** 3.8+\n",
    "- **Core Libraries:** pandas 2.0+, numpy 1.24+, scikit-learn 1.3+\n",
    "- **Visualization:** plotly 5.0+, matplotlib 3.7+\n",
    "- **Statistical:** scipy 1.10+, statsmodels 0.14+\n",
    "- **Development:** jupyter-lab 4.0+, ipywidgets 8.0+\n",
    "\n",
    "> **Reproducibility Note:** Use requirements.txt or environment.yml for exact dependency matching.\n",
    "\n",
    "---\n",
    "\n",
    "## Data Provenance\n",
    "| Dataset | Source | License | Notes |\n",
    "|---------|--------|---------|-------|\n",
    "| Synthetic Data | Generated in-notebook | MIT | Custom algorithms for realistic simulation |\n",
    "| Statistical Distributions | NumPy/SciPy | BSD-3-Clause | Standard library implementations |\n",
    "| ML Algorithms | Scikit-learn | BSD-3-Clause | Industry-standard implementations |\n",
    "| Visualization Schemas | Plotly | MIT | Interactive dashboard frameworks |\n",
    "\n",
    "---\n",
    "\n",
    "## Execution Provenance Logs\n",
    "- **Created:** 2025-10-02\n",
    "- **Notebook ID:** dc5e0d95-8fab-4735-bcc0-fbc7b6c5ed53\n",
    "- **Execution Environment:** Jupyter Lab / VS Code\n",
    "- **Computational Requirements:** Standard laptop/workstation (2GB+ RAM recommended)\n",
    "\n",
    "> **Auto-tracking:** Execution metadata can be programmatically captured for reproducibility.\n",
    "\n",
    "---\n",
    "\n",
    "## Disclaimer & Responsible Use\n",
    "This notebook is provided \"as-is\" for educational, research, and professional development purposes. Users assume full responsibility for any results, applications, or decisions derived from this analysis.\n",
    "\n",
    "**Professional Standards:**\n",
    "- Validate all results against domain expertise and additional data sources\n",
    "- Respect licensing and attribution requirements for all dependencies\n",
    "- Follow ethical guidelines for data analysis and algorithmic decision-making\n",
    "- Credit all methodological sources and derivative frameworks appropriately\n",
    "\n",
    "**Academic & Commercial Use:**\n",
    "- Permitted under MIT license with proper attribution\n",
    "- Suitable for educational curriculum and professional training\n",
    "- Appropriate for commercial adaptation with citation requirements\n",
    "- Recommended for reproducible research and transparent analytics\n",
    "\n",
    "---\n",
    "\n"
   ]
  },
  {
   "cell_type": "code",
   "execution_count": 3,
   "id": "6c779c29",
   "metadata": {},
   "outputs": [
    {
     "name": "stdout",
     "output_type": "stream",
     "text": [
      " Tier 2: Naive Bayes Classification - Libraries Loaded Successfully!\n",
      "===========================================================================\n",
      "Available Naive Bayes Techniques:\n",
      "• Gaussian Naive Bayes - Continuous features with normal distribution\n",
      "• Multinomial Naive Bayes - Discrete count features (text classification)\n",
      "• Bernoulli Naive Bayes - Binary features and document classification\n",
      "• Probability Analysis - Conditional probabilities and feature independence\n",
      "• Text Classification - Email spam detection and sentiment analysis\n",
      "• Medical Diagnosis - Risk assessment with categorical features\n"
     ]
    }
   ],
   "source": [
    "# Import Essential Libraries\n",
    "import pandas as pd\n",
    "import numpy as np\n",
    "import matplotlib.pyplot as plt\n",
    "import seaborn as sns\n",
    "import plotly.express as px\n",
    "import plotly.graph_objects as go\n",
    "from plotly.subplots import make_subplots\n",
    "import plotly.figure_factory as ff\n",
    "\n",
    "# Scikit-learn imports\n",
    "from sklearn.naive_bayes import GaussianNB, MultinomialNB, BernoulliNB\n",
    "from sklearn.model_selection import train_test_split, cross_val_score, GridSearchCV\n",
    "from sklearn.preprocessing import StandardScaler, LabelEncoder\n",
    "from sklearn.metrics import accuracy_score, classification_report, confusion_matrix\n",
    "from sklearn.metrics import roc_curve, auc, precision_recall_curve\n",
    "from sklearn.feature_extraction.text import CountVectorizer, TfidfVectorizer\n",
    "\n",
    "# Text processing\n",
    "import re\n",
    "from collections import Counter\n",
    "import string\n",
    "\n",
    "# Additional utilities\n",
    "from sklearn.datasets import make_classification\n",
    "import warnings\n",
    "warnings.filterwarnings('ignore')\n",
    "\n",
    "print(\" Tier 2: Naive Bayes Classification - Libraries Loaded Successfully!\")\n",
    "print(\"=\" * 75)\n",
    "print(\"Available Naive Bayes Techniques:\")\n",
    "print(\"• Gaussian Naive Bayes - Continuous features with normal distribution\")\n",
    "print(\"• Multinomial Naive Bayes - Discrete count features (text classification)\")\n",
    "print(\"• Bernoulli Naive Bayes - Binary features and document classification\")\n",
    "print(\"• Probability Analysis - Conditional probabilities and feature independence\")\n",
    "print(\"• Text Classification - Email spam detection and sentiment analysis\")\n",
    "print(\"• Medical Diagnosis - Risk assessment with categorical features\")"
   ]
  },
  {
   "cell_type": "code",
   "execution_count": 6,
   "id": "927ba147",
   "metadata": {},
   "outputs": [
    {
     "name": "stdout",
     "output_type": "stream",
     "text": [
      " Generating Naive Bayes optimized datasets...\n",
      "Medical Dataset (Gaussian NB): (1000, 7)\n",
      "Text Dataset (Multinomial NB): (800, 2)\n",
      "Email Dataset (Bernoulli NB): (1000, 33)\n",
      "\n",
      "Medical Dataset (Health Risk Assessment):\n",
      "         age        bmi  blood_pressure  cholesterol  exercise_hours  smoking  \\\n",
      "0  52.450712  23.072373      112.300039   186.327166        7.599271        0   \n",
      "1  42.926035  21.743531      107.038833   162.295026        3.919770        0   \n",
      "2  54.715328  24.957524      132.940165   193.613927        3.754801        1   \n",
      "3  67.845448  32.438352      150.299823   187.305062        1.000303        1   \n",
      "4  41.487699  28.021351      121.814266   206.065561        4.403785        0   \n",
      "\n",
      "   health_risk  \n",
      "0            0  \n",
      "1            0  \n",
      "2            1  \n",
      "3            1  \n",
      "4            0  \n",
      "High Risk Rate: 26.5%\n",
      "\n",
      "Text Dataset (Document Classification):\n",
      "                                            document       topic\n",
      "0  television artificial programming artist intel...  technology\n",
      "1  court algorithm code network server app softwa...  technology\n",
      "2  citizen database learning cloud artificial ref...  technology\n",
      "3  software network match programming intelligenc...  technology\n",
      "4  innovation system security algorithm tournamen...  technology\n",
      "Topic Distribution:\n",
      "topic\n",
      "technology       200\n",
      "sports           200\n",
      "politics         200\n",
      "entertainment    200\n",
      "Name: count, dtype: int64\n",
      "\n",
      "Email Dataset (Spam Detection):\n",
      "   has_free  has_money  has_offer  has_click  has_urgent  has_limited  \\\n",
      "0         1          0          1          1           1            0   \n",
      "1         0          1          0          1           0            0   \n",
      "2         0          1          0          1           1            1   \n",
      "3         1          1          1          1           0            0   \n",
      "4         1          0          0          0           1            1   \n",
      "\n",
      "   has_win  has_prize  has_discount  has_deal  ...  has_client  has_business  \\\n",
      "0        1          0             1         0  ...           0             0   \n",
      "1        0          1             1         1  ...           0             1   \n",
      "2        0          1             1         0  ...           0             1   \n",
      "3        1          1             1         1  ...           0             0   \n",
      "4        1          0             1         0  ...           0             1   \n",
      "\n",
      "   has_professional  has_conference  has_presentation  has_exclamation  \\\n",
      "0                 0               0                 0                1   \n",
      "1                 0               0                 0                1   \n",
      "2                 0               0                 0                0   \n",
      "3                 0               0                 0                1   \n",
      "4                 1               0                 0                1   \n",
      "\n",
      "   has_all_caps  has_numbers  length_short  is_spam  \n",
      "0             1            1             1        1  \n",
      "1             1            1             1        1  \n",
      "2             1            1             1        1  \n",
      "3             0            1             0        1  \n",
      "4             1            1             1        1  \n",
      "\n",
      "[5 rows x 33 columns]\n",
      "Spam Rate: 40.0%\n"
     ]
    }
   ],
   "source": [
    "# Generate Comprehensive Datasets for Naive Bayes Analysis\n",
    "np.random.seed(42)\n",
    "\n",
    "def generate_naive_bayes_datasets():\n",
    " \"\"\"Generate datasets optimized for different Naive Bayes variants\"\"\"\n",
    "\n",
    " # 1. GAUSSIAN NAIVE BAYES DATASET - Medical Diagnosis\n",
    " n_patients = 1000\n",
    "\n",
    " # Generate patient features with realistic distributions\n",
    " age = np.random.normal(45, 15, n_patients)\n",
    " age = np.clip(age, 18, 90)\n",
    "\n",
    " # BMI with different distributions by health status\n",
    " healthy_mask = np.random.random(n_patients) < 0.7 # 70% healthy\n",
    "\n",
    " bmi = np.zeros(n_patients)\n",
    " bmi[healthy_mask] = np.random.normal(24, 3, healthy_mask.sum()) # Healthy BMI\n",
    " bmi[~healthy_mask] = np.random.normal(29, 4, (~healthy_mask).sum()) # Higher BMI for at-risk\n",
    " bmi = np.clip(bmi, 16, 45)\n",
    "\n",
    " # Blood pressure (systolic)\n",
    " blood_pressure = np.zeros(n_patients)\n",
    " blood_pressure[healthy_mask] = np.random.normal(120, 10, healthy_mask.sum())\n",
    " blood_pressure[~healthy_mask] = np.random.normal(140, 15, (~healthy_mask).sum())\n",
    " blood_pressure = np.clip(blood_pressure, 90, 200)\n",
    "\n",
    " # Cholesterol levels\n",
    " cholesterol = np.zeros(n_patients)\n",
    " cholesterol[healthy_mask] = np.random.normal(180, 20, healthy_mask.sum())\n",
    " cholesterol[~healthy_mask] = np.random.normal(220, 25, (~healthy_mask).sum())\n",
    " cholesterol = np.clip(cholesterol, 120, 350)\n",
    "\n",
    " # Exercise hours per week\n",
    " exercise_hours = np.zeros(n_patients)\n",
    " exercise_hours[healthy_mask] = np.random.gamma(2, 2, healthy_mask.sum()) + 2\n",
    " exercise_hours[~healthy_mask] = np.random.gamma(1, 1, (~healthy_mask).sum()) + 0.5\n",
    " exercise_hours = np.clip(exercise_hours, 0, 20)\n",
    "\n",
    " # Smoking history (binary, but affects continuous features)\n",
    " smoking = np.random.binomial(1, 0.25, n_patients) # 25% smokers\n",
    "\n",
    " # Adjust features for smokers\n",
    " blood_pressure[smoking == 1] += np.random.normal(10, 5, (smoking == 1).sum())\n",
    " cholesterol[smoking == 1] += np.random.normal(15, 8, (smoking == 1).sum())\n",
    " exercise_hours[smoking == 1] *= 0.8 # Smokers exercise less\n",
    "\n",
    " # Create health risk target (influenced by all factors)\n",
    " risk_score = (\n",
    " (age - 45) / 15 * 0.3 +\n",
    " (bmi - 25) / 5 * 0.25 +\n",
    " (blood_pressure - 120) / 20 * 0.2 +\n",
    " (cholesterol - 200) / 30 * 0.15 +\n",
    " (5 - exercise_hours) / 5 * 0.1 +\n",
    " smoking * 0.3 +\n",
    " np.random.normal(0, 0.1, n_patients) # Add noise\n",
    " )\n",
    "\n",
    " health_risk = (risk_score > 0.5).astype(int) # Binary: 0=Low Risk, 1=High Risk\n",
    "\n",
    " medical_df = pd.DataFrame({\n",
    " 'age': age,\n",
    " 'bmi': bmi,\n",
    " 'blood_pressure': blood_pressure,\n",
    " 'cholesterol': cholesterol,\n",
    " 'exercise_hours': exercise_hours,\n",
    " 'smoking': smoking,\n",
    " 'health_risk': health_risk\n",
    " })\n",
    "\n",
    " # 2. MULTINOMIAL NAIVE BAYES DATASET - Document Classification\n",
    " # Generate synthetic text documents\n",
    " topics = ['technology', 'sports', 'politics', 'entertainment']\n",
    "\n",
    " # Word vocabularies for each topic\n",
    " vocab = {\n",
    " 'technology': ['computer', 'software', 'data', 'algorithm', 'artificial', 'intelligence',\n",
    " 'programming', 'code', 'system', 'digital', 'innovation', 'tech', 'app',\n",
    " 'database', 'machine', 'learning', 'cloud', 'server', 'network', 'security'],\n",
    " 'sports': ['game', 'team', 'player', 'score', 'win', 'match', 'championship', 'league',\n",
    " 'football', 'basketball', 'soccer', 'baseball', 'tennis', 'golf', 'olympic',\n",
    " 'coach', 'training', 'competition', 'tournament', 'athletic'],\n",
    " 'politics': ['government', 'election', 'vote', 'president', 'congress', 'policy', 'law',\n",
    " 'democracy', 'republican', 'democrat', 'campaign', 'senator', 'governor',\n",
    " 'bill', 'constitution', 'court', 'justice', 'reform', 'debate', 'citizen'],\n",
    " 'entertainment': ['movie', 'film', 'actor', 'actress', 'director', 'music', 'song',\n",
    " 'concert', 'album', 'artist', 'show', 'television', 'celebrity',\n",
    " 'theater', 'performance', 'award', 'oscar', 'grammy', 'festival', 'star']\n",
    " }\n",
    "\n",
    " documents = []\n",
    " labels = []\n",
    "\n",
    " n_docs_per_topic = 200\n",
    "\n",
    " for topic in topics:\n",
    "     for _ in range(n_docs_per_topic):\n",
    "         # Generate document with 10-30 words\n",
    "         doc_length = np.random.randint(10, 31)\n",
    "\n",
    "         # 70% words from topic vocabulary, 30% from other topics (noise)\n",
    "         topic_words = np.random.choice(vocab[topic],\n",
    "                                      size=int(doc_length * 0.7),\n",
    "                                      replace=True)\n",
    "\n",
    "         # Add some noise from other topics\n",
    "         other_topics = [t for t in topics if t != topic]\n",
    "         noise_topic = np.random.choice(other_topics)\n",
    "         noise_words = np.random.choice(vocab[noise_topic],\n",
    "                                      size=int(doc_length * 0.3),\n",
    "                                      replace=True)\n",
    "\n",
    "         # Combine and shuffle\n",
    "         all_words = np.concatenate([topic_words, noise_words])\n",
    "         np.random.shuffle(all_words)\n",
    "\n",
    "         documents.append(' '.join(all_words))\n",
    "         labels.append(topic)\n",
    "\n",
    " text_df = pd.DataFrame({\n",
    " 'document': documents,\n",
    " 'topic': labels\n",
    " })\n",
    "\n",
    " # 3. BERNOULLI NAIVE BAYES DATASET - Email Spam Detection\n",
    " n_emails = 1000\n",
    "\n",
    " # Define spam and ham indicators\n",
    " spam_indicators = [\n",
    " 'free', 'money', 'offer', 'click', 'urgent', 'limited', 'win', 'prize',\n",
    " 'discount', 'deal', 'sale', 'buy', 'cheap', 'save', 'cash', 'bonus'\n",
    " ]\n",
    "\n",
    " ham_indicators = [\n",
    " 'meeting', 'schedule', 'report', 'project', 'team', 'work', 'office',\n",
    " 'client', 'business', 'professional', 'conference', 'presentation'\n",
    " ]\n",
    "\n",
    " emails = []\n",
    " spam_labels = []\n",
    "\n",
    " # Generate spam emails (40% of dataset)\n",
    " n_spam = int(n_emails * 0.4)\n",
    " for _ in range(n_spam):\n",
    "     # Spam emails have higher probability of spam indicators\n",
    "     features = {}\n",
    "     for indicator in spam_indicators:\n",
    "         features[f'has_{indicator}'] = np.random.binomial(1, 0.6) # 60% chance\n",
    "     for indicator in ham_indicators:\n",
    "         features[f'has_{indicator}'] = np.random.binomial(1, 0.1) # 10% chance\n",
    "\n",
    "     # Additional spam features\n",
    "     features['has_exclamation'] = np.random.binomial(1, 0.8)\n",
    "     features['has_all_caps'] = np.random.binomial(1, 0.7)\n",
    "     features['has_numbers'] = np.random.binomial(1, 0.9)\n",
    "     features['length_short'] = np.random.binomial(1, 0.6) # Spam tends to be shorter\n",
    "\n",
    "     emails.append(features)\n",
    "     spam_labels.append(1) # Spam\n",
    "\n",
    " # Generate ham emails (60% of dataset)\n",
    " n_ham = n_emails - n_spam\n",
    " for _ in range(n_ham):\n",
    "     features = {}\n",
    "     for indicator in spam_indicators:\n",
    "         features[f'has_{indicator}'] = np.random.binomial(1, 0.05) # 5% chance\n",
    "     for indicator in ham_indicators:\n",
    "         features[f'has_{indicator}'] = np.random.binomial(1, 0.4) # 40% chance\n",
    "\n",
    "     # Additional ham features\n",
    "     features['has_exclamation'] = np.random.binomial(1, 0.2)\n",
    "     features['has_all_caps'] = np.random.binomial(1, 0.1)\n",
    "     features['has_numbers'] = np.random.binomial(1, 0.3)\n",
    "     features['length_short'] = np.random.binomial(1, 0.2) # Ham tends to be longer\n",
    "\n",
    "     emails.append(features)\n",
    "     spam_labels.append(0) # Ham\n",
    "\n",
    " # Convert to DataFrame\n",
    " email_features = list(emails[0].keys())\n",
    " email_data = {feature: [email[feature] for email in emails] for feature in email_features}\n",
    " email_data['is_spam'] = spam_labels\n",
    "\n",
    " email_df = pd.DataFrame(email_data)\n",
    "\n",
    " return medical_df, text_df, email_df\n",
    "\n",
    "# Generate datasets\n",
    "print(\" Generating Naive Bayes optimized datasets...\")\n",
    "medical_df, text_df, email_df = generate_naive_bayes_datasets()\n",
    "\n",
    "print(f\"Medical Dataset (Gaussian NB): {medical_df.shape}\")\n",
    "print(f\"Text Dataset (Multinomial NB): {text_df.shape}\")\n",
    "print(f\"Email Dataset (Bernoulli NB): {email_df.shape}\")\n",
    "\n",
    "print(\"\\nMedical Dataset (Health Risk Assessment):\")\n",
    "print(medical_df.head())\n",
    "print(f\"High Risk Rate: {medical_df['health_risk'].mean():.1%}\")\n",
    "\n",
    "print(\"\\nText Dataset (Document Classification):\")\n",
    "print(text_df.head())\n",
    "print(\"Topic Distribution:\")\n",
    "print(text_df['topic'].value_counts())\n",
    "\n",
    "print(\"\\nEmail Dataset (Spam Detection):\")\n",
    "print(email_df.head())\n",
    "print(f\"Spam Rate: {email_df['is_spam'].mean():.1%}\")"
   ]
  },
  {
   "cell_type": "code",
   "execution_count": 8,
   "id": "772b5235",
   "metadata": {},
   "outputs": [
    {
     "name": "stdout",
     "output_type": "stream",
     "text": [
      "🩺 1. GAUSSIAN NAIVE BAYES ANALYSIS\n",
      "==================================\n",
      "Training set: (800, 6)\n",
      "Test set: (200, 6)\n",
      "Class distribution: {0: 588, 1: 212}\n",
      "\n",
      " Gaussian Naive Bayes Performance:\n",
      "• Test Accuracy: 0.8700\n",
      "• Cross-validation: 0.8875 ± 0.0282\n",
      "\n",
      "Classification Report:\n",
      "              precision    recall  f1-score   support\n",
      "\n",
      "    Low Risk       0.92      0.90      0.91       147\n",
      "   High Risk       0.75      0.77      0.76        53\n",
      "\n",
      "    accuracy                           0.87       200\n",
      "   macro avg       0.83      0.84      0.84       200\n",
      "weighted avg       0.87      0.87      0.87       200\n",
      "\n",
      "\n",
      " Feature Distribution Analysis:\n",
      "• age:\n",
      " Low Risk: μ=42.73, σ=13.39\n",
      " High Risk: μ=53.44, σ=13.36\n",
      "• bmi:\n",
      " Low Risk: μ=24.26, σ=3.18\n",
      " High Risk: μ=29.09, σ=4.00\n",
      "• blood_pressure:\n",
      " Low Risk: μ=122.76, σ=12.39\n",
      " High Risk: μ=143.43, σ=15.94\n",
      "• cholesterol:\n",
      " Low Risk: μ=183.40, σ=23.94\n",
      " High Risk: μ=222.01, σ=28.06\n",
      "• exercise_hours:\n",
      " Low Risk: μ=5.17, σ=2.96\n",
      " High Risk: μ=2.14, σ=1.97\n",
      "• smoking:\n",
      " Low Risk: μ=0.16, σ=0.36\n",
      " High Risk: μ=0.44, σ=0.50\n"
     ]
    },
    {
     "data": {
      "application/vnd.plotly.v1+json": {
       "config": {
        "plotlyServerURL": "https://plot.ly"
       },
       "data": [
        {
         "marker": {
          "color": "blue"
         },
         "name": "Low Risk",
         "nbinsx": 20,
         "opacity": 0.7,
         "showlegend": true,
         "type": "histogram",
         "x": {
          "bdata": "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",
          "dtype": "f8"
         },
         "xaxis": "x",
         "yaxis": "y"
        },
        {
         "marker": {
          "color": "red"
         },
         "name": "High Risk",
         "nbinsx": 20,
         "opacity": 0.7,
         "showlegend": true,
         "type": "histogram",
         "x": {
          "bdata": "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",
          "dtype": "f8"
         },
         "xaxis": "x",
         "yaxis": "y"
        },
        {
         "marker": {
          "color": "blue"
         },
         "name": "Low Risk",
         "nbinsx": 20,
         "opacity": 0.7,
         "showlegend": false,
         "type": "histogram",
         "x": {
          "bdata": "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",
          "dtype": "f8"
         },
         "xaxis": "x2",
         "yaxis": "y2"
        },
        {
         "marker": {
          "color": "red"
         },
         "name": "High Risk",
         "nbinsx": 20,
         "opacity": 0.7,
         "showlegend": false,
         "type": "histogram",
         "x": {
          "bdata": "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",
          "dtype": "f8"
         },
         "xaxis": "x2",
         "yaxis": "y2"
        },
        {
         "marker": {
          "color": "blue"
         },
         "name": "Low Risk",
         "nbinsx": 20,
         "opacity": 0.7,
         "showlegend": false,
         "type": "histogram",
         "x": {
          "bdata": "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",
          "dtype": "f8"
         },
         "xaxis": "x3",
         "yaxis": "y3"
        },
        {
         "marker": {
          "color": "red"
         },
         "name": "High Risk",
         "nbinsx": 20,
         "opacity": 0.7,
         "showlegend": false,
         "type": "histogram",
         "x": {
          "bdata": "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",
          "dtype": "f8"
         },
         "xaxis": "x3",
         "yaxis": "y3"
        },
        {
         "marker": {
          "color": "blue"
         },
         "name": "Low Risk",
         "nbinsx": 20,
         "opacity": 0.7,
         "showlegend": false,
         "type": "histogram",
         "x": {
          "bdata": "U0GQXb8/ZEC/hhMs+oBoQAts1dfYVGxAyl4O0xlfZ0D8g3vz2VhlQNFDzDNZOm5AJ64XjorWaEDCAccW+KFkQNYhBZViDGVACLdPfylqaEDY589OBKZlQGK474zQZmdApAYJrMoDaUDfZqM+CfVlQOggmNaEW2hAgy0nIyCtakDh4o5eDnpvQAZ5OlRNEWdAmFn0anoCYUA4/sbkhRtnQHnYXvvHs2dArveBmApIZkCdQnqDBKtjQNC9V1Mg02RAlb6BpuWzYkBRUJQVDflkQLpoEIb+w2dACRWrjcCMaECHB3IVl8FmQGfv8Kdb+GVA4heuzPAbZ0DLJAZA6YZoQDk3vSFcxWNAQ1cS+LL8ZkCyG+vPjLhhQE0sE4rtA2RAn4w4AL1EZ0DSC+eXAuBoQEtPBERGxWVAtv07xLzMZ0B9I2ZEVBVoQLmgOKCh/2ZAZlFFALIIakDKf3wJYUhrQM2B8a5PfWdAmJ3rg9I1ZkABlTN7SaJlQF7zLnDKvGlAIDAxrcBOZkBRq2AwXRNkQL640rlB2mpAnmSrmmtNY0AtbeoNJulmQO3sDts4Q2VAI4OtdZf2Z0ATXSqXKEpoQJetkazGiWtAYe9tX2krZkAbAvJYmRtnQPJ1iUkAiGdAKXHWVFo9aEAiB0mu/qFiQKX6ZuaTT2dAB6pNO/+KZUDjFhJJO9NqQAzPQkr+mWpARvQ2VCkwZEANh9sX6FhiQPvv3TZ5PmlAvpBlAp0ZakB57KZo0vVrQAhfugKmxGdAsuOsUVOvY0DZbyel3/JmQAigySIX62JA+bpo/sEPZkDwC308coRlQBch7JIsOmdAACn6aF2IYEBKxjAyb7poQOvhQQmrVmVAwToQ2citZECuRT5uYv5lQJvgQzUVpW1AAUtwHQssa0DTF8j4Qp9jQB1Ggd3oH2lAr2/n/vKHaEDgaxj92xtnQFTxivDV+WlAqu7MuI1BZUAUZvJjnVtkQLrBJFH9p2dApsFMSFvdaECRNnV3JYxrQEooTxLvsmhAu/xDh4bJZ0CwTYZIFdhnQJw5CUv5vGRAWUAPmxUSY0C+BR2ktvhkQCJQi6YjpmJAym0ta1AFZEBEB0IFZbhiQG2wwSk0jWNAxl7RgANdaEBpVbduM7xnQO1VMdMBzGhAwUlscTjgY0BFw2xyqHJnQNKRmnarS2VAssRNWLrZZUD2FwoHbFdhQO3+0E6vw2VA9/dNAbjmZUAqZx+tjxtjQA4g1OGF+mdA4+Pd19NHZEDe9bpU+AFmQHCujp1/xmhA/K68Hof9YUB9LvdqzQFrQGZZX6Ix0mZA9Sa11NQYaUCqot44PvtnQKrkCu7gumFAxym2tM/QZkBS1bCvw8RmQBNuzR+H2WZAPavZEhnCaUCEPA3Z/JdkQFnGBvjM9GZABQKrrHq8ZkALcHiQKbdoQBSMzUIcR2dAQLdQ5fTqZED4gRc/sQhxQL8D0Xsgn2dAwfak9lO0ZUDquhImZFJlQD3znLvvAWVAHUbjUjJGZEBzH5w5ocBiQPXbjwfiwGNAUSz6bu5cZUDT199SwKVoQOIZ5ad9/2hAci1XdxPIZ0BOoqtED2pkQPgBV/6BGWdAyQlaeBQ5ZkCtMFx4YttoQLDvHlO8QXBAxQd0qGZUZkCO7U0zx5JnQDRNt1dQnWhARgI+G77GZkCwtwc5G/tkQBU27x6rzWRAREwGJxGSaEC6yGemALhoQOs6vdWd1mZAWA9hG/KnYkBy3DtMCuhpQNuDneKbr2VAhFfaLCk/aEDyVFFeHVtlQPaeOVo2sW5A9JNtIZ9HZkA04XUG2EVqQFgdK1TXW2RAsexHiZ/IaEAqinebWG1mQK+BgPITEWdAGsb4lJhiZUAC+f+h0WhhQI2Z+Hg3aGlABsPX+Hq9aUAETS2UdV1pQIfofAjlPWpA19inHfFmaEBE9tK89rBjQJ0nyrtkxmFApLs3uqSnZEA+f/Fr4y9mQF8lRhLugWlAIPwf9kpYZ0BNZmSO2wJlQMKim9sPBmlAz5SGUzAbY0DlgQAx3c9pQPAfbY6/sGhA3ZpsBYREZkAydHDgjxBkQGlauRPDm2pAD01jhNjKZ0B/c8Z//VZmQFC968A9lmlAAjZoWsbPaEBoANtmGjtoQBNUoJ0WiGVAFFQiLb62ZEDibS8gjL5jQA5ZjjfX9mZAOICZHZ1sa0BmA7679pRrQKz1jp869mJAMi+8O4MaY0ATLorp01ZmQMNb6wgKkmdAd8lMFQnxaEBlcxFWjpFkQLJWZSrPPWdAKV2MUbHrYkDKa8GDEGZnQJu5WG1ru2NAIp00NHVHZ0BnsIWGceFqQI3dv7sUrWtAMeDmFguFZkCzrSB82PRnQC/5TU5cDWVADtnwJzTKYkDGd83ALXhlQN5buDcLfGhAQPrAIisfZkDsE7YS3IJhQBRct3R7jmRA4mA1yKKSYkA6zZxnJfdnQEr4HFQljWNAL1jDMAD0ZkBtLmAnOEVmQCsyacd3RGdAa5g2563BZUAo+UFVjtBpQGNsl0Q6e2FAjrVQS78iYkBABnIf3rVmQILzA4h9Om9AUzobpxqfZUC3uVZOSwBnQJay5+vCLGZA5ed3mX8GakACJBveezZiQDaHPuUlhWBAOxfWdekWZEAwunKAPD5nQD7ZTlK6cWZAVNyzIelXZkAy4HpKWploQAdx5m2d8GxA6D1jCWl0aUAQQVv0+/tkQMVn3zOBrGJAVCa4PsODakBX1XaNu5hkQGrFbD1iFWRAY4yHSygCZUDRc8Xg8YFoQPBiq/geKGZAiKtpl6O/akBjp8MqLj9mQNMV7JlXk2lAuBP7HppsZUBOoBa22yhlQDSQh/23V2VA6eEOPmm+akA3AelbAU9rQKocM2r7bG1AnQQ2ghXuZ0DuqwB0jOtjQD+BMn+vYWtAcXORqN2haUCkuEYjL81nQBsWvkmB3WRA/BGaseQOZ0DKoMlgYQJmQMfqtaCYL2VA9pQjMa2zZ0CbS4cyMhlmQPSWiocWQWdAQnVM5gp6ZUAnNoZ67b9mQECpvbcxO2RAd5yKvTf7ZEAf2uJR0xZmQHu8+2CaGGVA1vmeAyEyZUD/PlQcQARkQLx8qKlFPmlALD0kHFx1ZUAlwD572ktnQEAwuk8zTmFA2PlZRDvyZUCt8yzTqbFpQI6aiJd9ImlAtceR6bsGZ0BK8rIUK2liQAfyUxU/kGRA/lyObKWwZEDmyClczwBkQPZ3B1ASBGdAsDurFbZZZkDMQa/GJjppQBsqLQCSP2RARu+tMOz3aUAn32J4tz1mQL9jHg+jkmFAZkaipHcGZUB7R//adoFmQMZQWWfwdGNAFmVv7GoGakBhiB5BDitlQF7qah5l82NAej7L0iv2ZkDXCCeAN5ZmQI6EYuKHi2ZAqGMGulyBaEDVYrUFixVoQDCWFTKYTWVAKxbP3ArFY0Cob2QVsI9hQIyRGq46hGlAQx5+vh4NbUDYYt2BE5ZlQF/DBN3PMGVAhO6PRBcVakBI6dFGnz9kQAOl5Fy2qGVAmgU+7Uf3aEAO+hoxQQlkQDuV/YKIImVABjCAL2e5ZUDreC4QWVFiQC91jlyBg2NAO0lwVGWeZkBXU+SwSWpmQJCZ2Av/eWRAGVRgqj2lZUCMFnb1T+hlQFPANtbX8GJAKspkGy//akBfsXG0+s1eQJysWNSb7GlA2HNqg6lraUDeLf9o4fpnQEPNyU1XM2hAeSixPUBpbEBO6+sjzA1nQMk9mYylu2tAkJxBWelNZEA0RMIfygxlQDsoxL1uK2ZAkGdFiLT8aUD3gb42iX1jQOTu+TQGWm1ArK1AQCviZ0C7vfVod6BnQCySc45Ffm5ATsfjzkegYUBJrhMZhuZjQAZNbDj+RWdAk5z/SZnbaUBjc5Xa5OZrQF2DcIaWA2hAS0rj4Q4wZUAzbi9BRMZjQIom81ud9WJAcVyWkrYnaEBUPkScJ6BkQG2M0b5jnGZAJvKxNoFHZUCjBLtUXzdmQEDc7XPC/mZA1bphGhN7aEByDGT+NVxmQEDhwFQWDGhA3nOdnZ7CZ0A7tGepQTZmQJGKItC66GFA7i0AqDxgZ0DXKTzo5rFlQI4o+nsQf2pAl+VAqJF6a0CbDuahc8hlQM4dJQW1gmZAqVqnB3VOZUB4bO9uOIpjQP6Tq35wXmdAtarmqHb6Z0D2AhZPQk1kQMOErE83MGVA1gPcnoIPZ0DLyxHnOddnQOikgFPYP2hAdqtmBZSdbECKCanmH+1nQChDd302kmZA5JdpyXz5bUAwdbrIrmFmQNRf22X6JGJAU9Ncj07AaEAepnkyph5sQAoyGCbi0WlAkraGsZ1EZEDBTgiOY1tnQFVuqiMPtWpAfUS2k+toZEBh7JK5nn5oQNhf3kAIPGtAD++Ur5a8ZkAhbQNnvLFoQNh/HGnC7GtASIXSBkR8aEC+y8UtEgJnQDsDMMtYVmFAqn4u+J81aUA4Q50x47BmQPJLlEBZLGdAkka2PKzkZUB+cC3nkqZnQFOIGwp8/mhAc2HLzZh4YkDulrIdQSRrQHFd0oYC9mVA9BUiMURMZUBIyzAEnw1pQPmAp907F2lADsPQO8b/ZUCnkBFyYY1kQHuQKudB9GBA3XPbP9AwZkDGWga33+xkQFhDr5NoX2xAVVj9P1FMZEASAhVjnh5pQFRALr7pRGdACZsekZyMZ0D+YF4uE71jQLjfsETea2pAmgT8OfyVYkC0/pkQQrhkQMFUl6oiB25A5Q4TjXy3ZkClbsJWi41kQAcdCUUolGFA51t70RTCZ0Cxhn1hCo9kQL620J4HbGZAFJ73nyGgbEBA+gqUrzxnQGe5pbX5aWVAy8bOU3WjaUAGPXNOVrhkQJKODZXTf2JAImOXPgEWY0DScTrJah9kQERRW/XIhGRA/D+etdZOZ0CQCmy2CSBmQOsmbI4zZGhAQelEK7z6ZECwcrlp1vVjQDNzPfNgel9ApNf80FiNbECnybHv9qFqQOH6Jh0DMWdA7bNk7RVWYUDxQBKw7N5nQGGHrWCWm2hAXakZM5X9a0CQUmZdZ7xlQMC2DjEZmGlAJHtPYhZSa0CVMU8JJFpwQPLlzvJ0S2FAgcSe/P8AZUANA8IGyMhkQCr/RIAPgWtAsvk37TbHaUBC3imEx1FpQIXPBUmQumdAjiwXk73faEDFpTvd5ddlQHwkJGwfDWpANJXKmRgXaUDUHIHRnK5iQGsj0q49QWBAJSpnaBE9cEDLzwfirp9pQHThJSfkhmNAumBphtD6ZkD2YpfWj+RmQGYy3W7lt2hAxG7KyUvxYkC5CbwleEpnQHo6hFWG6mlAonFU7BtvYEAjsDynUKJqQMPsKIEVHGVAqQhD4hl/akD+4eBTRbZrQJCKnJs9GGZAo5IFCmeuY0BxosOQOMFoQGjMARBN3GdAoynJVg+MZEBZjXtWmOZoQMDXxfDC8GZAfEUT1XyRZUBQPMJSQtRkQDk+t+5oyGZACIKvwwUeZUD+kYqSni9rQKl5AkszcWhA5zT1KPhyZ0AeHb6b5XBlQCFeVxjcfW1AKJwxQwAAakAnzTG6jqRlQDI5PG6CzGZAIOgyAgDJZ0AVKlD5DpRlQLWYHZ8Oi2RAVmCQexo6ZUAVcKgA6NdrQIw96Cu8uWRAUjkAYWdQaUA7cz8qrChnQIWusALqNmdA3moHYnMUZEAtABchwtRoQAgUerP9GWpAHFpfYFDXaED2wMEF2kppQDlxTsAFK2NAHUFlhz9wZEADxldlgsVnQCfsMOIREGlA/7nOGaFyZkAcrmLvE7peQK2Dccs8Y2RAUqCP4k5FZkCzeGA8soJnQCePO/KCi2pA/1xYvHCjZkD+gpB8xIRpQOmf9WxnsmNAW9w1Za0PakA1wAFauYFlQGhOP4z3JGVAa4bIp56FakA2yU0m2axqQGEkc9vnrGpAeUPiVlfAaEBY6Rs+uzJnQOidDzHo0GpAfJZIWarYX0DuHE3X37RoQB1JiS9CrmZAFHpqncBeZUAwQ9fqWDNoQBhWX2gCs2VA+9cn3J/GYUBug9e5RGNmQARhKhaZ2mNAM/9XQaYnZUBikh+R9cZqQFzd3OvTBmdAkh3Z7hwZZUB/4XYitGBoQFRTk15N52pAnK4vNaOGakA3zPhEBjFnQC+ZfSkOemZAB25GzeE5a0CD/n4Oo51jQKMDrLvdBGdAkcQ9wp1vcEDwsesKeAZlQBEzXAeNImlAniHbSCsRa0A9H5xL5bRlQGtb+HNXWWZA1SI6DeZhZ0Chtl7JbTtoQACRXsiv4GlA",
          "dtype": "f8"
         },
         "xaxis": "x4",
         "yaxis": "y4"
        },
        {
         "marker": {
          "color": "red"
         },
         "name": "High Risk",
         "nbinsx": 20,
         "opacity": 0.7,
         "showlegend": false,
         "type": "histogram",
         "x": {
          "bdata": "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",
          "dtype": "f8"
         },
         "xaxis": "x4",
         "yaxis": "y4"
        },
        {
         "marker": {
          "color": "blue"
         },
         "name": "Low Risk",
         "nbinsx": 20,
         "opacity": 0.7,
         "showlegend": false,
         "type": "histogram",
         "x": {
          "bdata": "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",
          "dtype": "f8"
         },
         "xaxis": "x5",
         "yaxis": "y5"
        },
        {
         "marker": {
          "color": "red"
         },
         "name": "High Risk",
         "nbinsx": 20,
         "opacity": 0.7,
         "showlegend": false,
         "type": "histogram",
         "x": {
          "bdata": "VEjXYuX5D0CtM/ZYCPsAQBLrPYMI4fA/ZK0t0EyxDkBw0vmYL0cCQKhmEGsrlOQ/gMds3AnLEUDkj8lumlTpPwUlnVM7XOg/ck+Z5t8F4D9GdGvP6WH2Pyl+7qfdceE/Dp/JVgDwBUCNy3qfQDDcPxvE1oBWQ/E/bXOwCf2HHUCJ+0S9AzLvP5pSlDoQct0/stTsAOWnDEBUlDQ6SqTlP4EqrMYcN/M/mGpccvln8D9K1Lxxm6sKQLAacOt8wQ1APtC+vXGF8D8/hHL7ydUYQJgz/K0pVvY/LQXM8cw2+z8w4WJvJWT4P2c3iywFlQFA7CA6wJ9k5D9ZRgtMpYnjP7mDG/be9QBADD5Nsdw7+T/7i0sS3tX6PwTaNS0sx+E/BCwKwaH/5j8k/1mKmsUVQKwyLCNQiwNANVQ7c7wA6D+/UhjEITjlP6THVJuRlO0/Xuo2znhoAkDEoeHSFwUTQP0JuDA3phlAF5hPYjITB0C8lhZdG63gP/Q4B6KryfI/oJB2cwE5EEA1Rh6aVingP+jT8r8SfuM/WkX0hAiq6T+syjwqOxbpP9h+aG5KCfE/uKdFEFer9j+v3cC6M+/1P6q52/en3ABAN2CFbWWoGkBgpK0cl2sbQGgMGlI2ugBAjSbMJ7ApDkDHPaP8EC0TQB0r8i+XphRAnmz+eymq8z+IDYIiIyfxPxgKWFvoYf8/7/5NHjqXD0ACjaEXcInmP553dK3sHew/hAH8mRb86D/9MgzlgFTqP+XDMMwEcxJAnoc2T+tY7T9XL0h+rvPyP3Iyv7uSiBdA7hKptRZS8j/Zy9eTEvDiP4WKyyq+fgBAooblSh9o4j9agpLRpJgIQMzhQ2hY3eM/zA04rbO59T/w+trZXRfiPz/eYwIaNQZAVonYaNvX8j83JQ3pVy7sP9T2u9te+us/ASWyBYH9CUCvd6dWPQHwP3YL9+3yY+0/ejgHV+wj6z84z9xdXKMEQCB5y7yPDO8/wLey0+3/C0DPtjzzuafpP7AXGCGiowlAIKz0zA9cFUDw8vmXmPLqP4L9B8DxxvE/h/LA9ZLc4T85sewdP0rmP4ixXtS9jvg/o6Ty4MPt8D9vK8GYwRLaP1ckppURphtA84MOPuvwEkBf2Dl6sZzcP4+Myc+f//E/tvF7L47A5T+YAYNTM7MCQGxANQjbfg9ACtQuib0THUACRHfhwEjkP1IW0QE9COo/Ery7XIchEkAJpBLp5+PmPxQPv/P0Nds/EEPAuR2D3T/XOJ/kGhkLQOvpsswXde4/8sFSzvOj2T/fTWJjOkQEQEzmrfJNdeo/4iIllXi+6T+WZnY54dDkPwSN0jspI/o/RaWU/IMiAkBC1MbCdMriP3jHtjScOQVA4zgvuTlYEkBQtHPl7NMJQPqc8h19E/Q/rWGiNj7i6T+MCfegcn3tPxIAKmgfB+A/fi8BzEAT4D+4dK4ynonyP1Y9an4DnwJA1kTXyHd2/z+hKghwR2vgP9NusnSXRBBAzR9oPnKd2z8PuWPTbxUiQPQEXUqEDOY/bbi75wux5D/snnWWNHfhPyreD6AleOQ/+jMc8N93FkA4ZAkslhzyP4U/qUnE8fI/HnX5pFPE9T+qF93orLbrPzi87O/vbgFAOesJ2Z/hGUC7nQIzd/7zP7+mOyQh8wRAXK+A49QJDkBEAJLV0FgEQABPQESnIOA/JwN6YwEIEkCFEonFFYDqPyoG5D+6ZgZA1MuGI+7h/D+y0GRg9yndPx9Rr94nVAJAHEg1ctO2BUArYdnfkT8FQBca6bFNeOs/0mDOIlZECECFk8/YQrgAQFIodUl/p/0/iqVVzYHMAUDtdAOH5kkgQIQ7vQkdRxFATtPpXFLuA0CADyOebLwEQMTa4Kjbd/A/ATZEmbV5GUAhJIWGkwv3P4zFLR2WXuw/1dtaGY02EEAKW0AHbu/aP8lMMdoQoOo/lFoiVuu58T9gf0N6hh8SQP88/BTPP/I/K6beZIdF4D8L84SiSZQKQFtLMA6HEhBALU9FmF6k+j9etsYiUskIQMwdEqLenu4/yFSR2jLUAEDcIDRjIUPjP3BUQvMfRfA/hcKgNg5ZCEC+qEYnsEoBQCXbYgv3sP8/huecroQu7D+1B+9PDyP+P1BwsI37vPQ/+I7HOoeL5z8KwEWzHzfbP5ahvCj2nOE/cHxJr/hj6j+CJfXHG7YDQLXuPf/ogytAjFtvsL8w9j8P6JeV7Oz0P+rkWuKB5wpAK8LdPK858j8cu4lcRCQgQA==",
          "dtype": "f8"
         },
         "xaxis": "x5",
         "yaxis": "y5"
        },
        {
         "marker": {
          "color": "blue"
         },
         "name": "Low Risk",
         "nbinsx": 20,
         "opacity": 0.7,
         "showlegend": false,
         "type": "histogram",
         "x": {
          "bdata": "AAABAAABAQAAAAAAAAAAAQAAAAAAAAAAAAAAAAABAAAAAAAAAAAAAAAAAAEAAQAAAQABAAAAAAAAAAAAAAAAAAAAAQABAQAAAAEAAAAAAAAAAAAAAAABAAAAAAAAAAAAAAAAAAAAAAAAAQABAAAAAAAAAAAAAAABAAAAAQAAAAAAAAAAAQAAAAEAAAAAAAAAAAABAQABAAAAAAAAAAAAAAAAAAAAAAAAAAAAAAEAAAAAAAAAAAAAAAAAAAAAAAEAAAAAAAAAAQAAAAAAAAAAAAEAAQAAAQAAAAABAAAAAAAAAAAAAAAAAAAAAAAAAAAAAQAAAQEAAAAAAAEBAAEAAAAAAAAAAAAAAAEAAQABAAAAAAEAAAAAAAAAAAABAAAAAAAAAAAAAAAAAQEAAAEAAAAAAQEAAAAAAQAAAQAAAAAAAAAAAAAAAAAAAAAAAAAAAAAAAQAAAAAAAAEAAAAAAAAAAAEAAAEAAAAAAQAAAAAAAAEAAAABAAAAAQAAAAAAAQAAAAAAAAAAAAAAAAAAAAAAAQEAAAEAAAABAQAAAQAAAAEAAAAAAAAAAAEAAAAAAAAAAAEAAAEAAAAAAAAAAAAAAAEBAAAAAAAAAAAAAAAAAQAAAQAAAAAAAAAAAAAAAAAAAAAAAAAAAAAAAAABAAABAAAAAQAAAAAAAAAAAAAAAAAAAAAAAQABAAEBAAEAAAAAAAABAQEAAAAAAAAAAAAAAQEAAAEBAAEBAAAAAAEAAAAAAAAAAAAAAAAAAQAAAAAAAAAAAQAAAQAA",
          "dtype": "i1"
         },
         "xaxis": "x6",
         "yaxis": "y6"
        },
        {
         "marker": {
          "color": "red"
         },
         "name": "High Risk",
         "nbinsx": 20,
         "opacity": 0.7,
         "showlegend": false,
         "type": "histogram",
         "x": {
          "bdata": "AAEAAQABAAEAAAAAAAEAAQABAAAAAQEAAAABAQABAQABAAAAAAEAAQAAAQEBAQAAAQEAAAAAAQABAAEBAQABAAEAAQEAAAEBAAAAAAAAAQAAAQAAAAEBAAEAAQEBAAEAAAEAAAAAAQEAAAEAAAAAAAEAAQABAQEAAQABAAAAAQEBAQEAAQABAAAAAAAAAQABAAAAAQABAAEBAAABAQEBAQEBAAEBAAEAAQAAAAEBAAAAAQEBAQEAAAABAAABAAAAAQEBAQAAAAAAAAEAAAEAAQAAAQA=",
          "dtype": "i1"
         },
         "xaxis": "x6",
         "yaxis": "y6"
        }
       ],
       "layout": {
        "annotations": [
         {
          "font": {
           "size": 16
          },
          "showarrow": false,
          "text": "age",
          "x": 0.14444444444444446,
          "xanchor": "center",
          "xref": "paper",
          "y": 1,
          "yanchor": "bottom",
          "yref": "paper"
         },
         {
          "font": {
           "size": 16
          },
          "showarrow": false,
          "text": "bmi",
          "x": 0.5,
          "xanchor": "center",
          "xref": "paper",
          "y": 1,
          "yanchor": "bottom",
          "yref": "paper"
         },
         {
          "font": {
           "size": 16
          },
          "showarrow": false,
          "text": "blood_pressure",
          "x": 0.8555555555555556,
          "xanchor": "center",
          "xref": "paper",
          "y": 1,
          "yanchor": "bottom",
          "yref": "paper"
         },
         {
          "font": {
           "size": 16
          },
          "showarrow": false,
          "text": "cholesterol",
          "x": 0.14444444444444446,
          "xanchor": "center",
          "xref": "paper",
          "y": 0.375,
          "yanchor": "bottom",
          "yref": "paper"
         },
         {
          "font": {
           "size": 16
          },
          "showarrow": false,
          "text": "exercise_hours",
          "x": 0.5,
          "xanchor": "center",
          "xref": "paper",
          "y": 0.375,
          "yanchor": "bottom",
          "yref": "paper"
         },
         {
          "font": {
           "size": 16
          },
          "showarrow": false,
          "text": "smoking",
          "x": 0.8555555555555556,
          "xanchor": "center",
          "xref": "paper",
          "y": 0.375,
          "yanchor": "bottom",
          "yref": "paper"
         }
        ],
        "barmode": "overlay",
        "height": 600,
        "template": {
         "data": {
          "bar": [
           {
            "error_x": {
             "color": "#2a3f5f"
            },
            "error_y": {
             "color": "#2a3f5f"
            },
            "marker": {
             "line": {
              "color": "#E5ECF6",
              "width": 0.5
             },
             "pattern": {
              "fillmode": "overlay",
              "size": 10,
              "solidity": 0.2
             }
            },
            "type": "bar"
           }
          ],
          "barpolar": [
           {
            "marker": {
             "line": {
              "color": "#E5ECF6",
              "width": 0.5
             },
             "pattern": {
              "fillmode": "overlay",
              "size": 10,
              "solidity": 0.2
             }
            },
            "type": "barpolar"
           }
          ],
          "carpet": [
           {
            "aaxis": {
             "endlinecolor": "#2a3f5f",
             "gridcolor": "white",
             "linecolor": "white",
             "minorgridcolor": "white",
             "startlinecolor": "#2a3f5f"
            },
            "baxis": {
             "endlinecolor": "#2a3f5f",
             "gridcolor": "white",
             "linecolor": "white",
             "minorgridcolor": "white",
             "startlinecolor": "#2a3f5f"
            },
            "type": "carpet"
           }
          ],
          "choropleth": [
           {
            "colorbar": {
             "outlinewidth": 0,
             "ticks": ""
            },
            "type": "choropleth"
           }
          ],
          "contour": [
           {
            "colorbar": {
             "outlinewidth": 0,
             "ticks": ""
            },
            "colorscale": [
             [
              0,
              "#0d0887"
             ],
             [
              0.1111111111111111,
              "#46039f"
             ],
             [
              0.2222222222222222,
              "#7201a8"
             ],
             [
              0.3333333333333333,
              "#9c179e"
             ],
             [
              0.4444444444444444,
              "#bd3786"
             ],
             [
              0.5555555555555556,
              "#d8576b"
             ],
             [
              0.6666666666666666,
              "#ed7953"
             ],
             [
              0.7777777777777778,
              "#fb9f3a"
             ],
             [
              0.8888888888888888,
              "#fdca26"
             ],
             [
              1,
              "#f0f921"
             ]
            ],
            "type": "contour"
           }
          ],
          "contourcarpet": [
           {
            "colorbar": {
             "outlinewidth": 0,
             "ticks": ""
            },
            "type": "contourcarpet"
           }
          ],
          "heatmap": [
           {
            "colorbar": {
             "outlinewidth": 0,
             "ticks": ""
            },
            "colorscale": [
             [
              0,
              "#0d0887"
             ],
             [
              0.1111111111111111,
              "#46039f"
             ],
             [
              0.2222222222222222,
              "#7201a8"
             ],
             [
              0.3333333333333333,
              "#9c179e"
             ],
             [
              0.4444444444444444,
              "#bd3786"
             ],
             [
              0.5555555555555556,
              "#d8576b"
             ],
             [
              0.6666666666666666,
              "#ed7953"
             ],
             [
              0.7777777777777778,
              "#fb9f3a"
             ],
             [
              0.8888888888888888,
              "#fdca26"
             ],
             [
              1,
              "#f0f921"
             ]
            ],
            "type": "heatmap"
           }
          ],
          "histogram": [
           {
            "marker": {
             "pattern": {
              "fillmode": "overlay",
              "size": 10,
              "solidity": 0.2
             }
            },
            "type": "histogram"
           }
          ],
          "histogram2d": [
           {
            "colorbar": {
             "outlinewidth": 0,
             "ticks": ""
            },
            "colorscale": [
             [
              0,
              "#0d0887"
             ],
             [
              0.1111111111111111,
              "#46039f"
             ],
             [
              0.2222222222222222,
              "#7201a8"
             ],
             [
              0.3333333333333333,
              "#9c179e"
             ],
             [
              0.4444444444444444,
              "#bd3786"
             ],
             [
              0.5555555555555556,
              "#d8576b"
             ],
             [
              0.6666666666666666,
              "#ed7953"
             ],
             [
              0.7777777777777778,
              "#fb9f3a"
             ],
             [
              0.8888888888888888,
              "#fdca26"
             ],
             [
              1,
              "#f0f921"
             ]
            ],
            "type": "histogram2d"
           }
          ],
          "histogram2dcontour": [
           {
            "colorbar": {
             "outlinewidth": 0,
             "ticks": ""
            },
            "colorscale": [
             [
              0,
              "#0d0887"
             ],
             [
              0.1111111111111111,
              "#46039f"
             ],
             [
              0.2222222222222222,
              "#7201a8"
             ],
             [
              0.3333333333333333,
              "#9c179e"
             ],
             [
              0.4444444444444444,
              "#bd3786"
             ],
             [
              0.5555555555555556,
              "#d8576b"
             ],
             [
              0.6666666666666666,
              "#ed7953"
             ],
             [
              0.7777777777777778,
              "#fb9f3a"
             ],
             [
              0.8888888888888888,
              "#fdca26"
             ],
             [
              1,
              "#f0f921"
             ]
            ],
            "type": "histogram2dcontour"
           }
          ],
          "mesh3d": [
           {
            "colorbar": {
             "outlinewidth": 0,
             "ticks": ""
            },
            "type": "mesh3d"
           }
          ],
          "parcoords": [
           {
            "line": {
             "colorbar": {
              "outlinewidth": 0,
              "ticks": ""
             }
            },
            "type": "parcoords"
           }
          ],
          "pie": [
           {
            "automargin": true,
            "type": "pie"
           }
          ],
          "scatter": [
           {
            "fillpattern": {
             "fillmode": "overlay",
             "size": 10,
             "solidity": 0.2
            },
            "type": "scatter"
           }
          ],
          "scatter3d": [
           {
            "line": {
             "colorbar": {
              "outlinewidth": 0,
              "ticks": ""
             }
            },
            "marker": {
             "colorbar": {
              "outlinewidth": 0,
              "ticks": ""
             }
            },
            "type": "scatter3d"
           }
          ],
          "scattercarpet": [
           {
            "marker": {
             "colorbar": {
              "outlinewidth": 0,
              "ticks": ""
             }
            },
            "type": "scattercarpet"
           }
          ],
          "scattergeo": [
           {
            "marker": {
             "colorbar": {
              "outlinewidth": 0,
              "ticks": ""
             }
            },
            "type": "scattergeo"
           }
          ],
          "scattergl": [
           {
            "marker": {
             "colorbar": {
              "outlinewidth": 0,
              "ticks": ""
             }
            },
            "type": "scattergl"
           }
          ],
          "scattermap": [
           {
            "marker": {
             "colorbar": {
              "outlinewidth": 0,
              "ticks": ""
             }
            },
            "type": "scattermap"
           }
          ],
          "scattermapbox": [
           {
            "marker": {
             "colorbar": {
              "outlinewidth": 0,
              "ticks": ""
             }
            },
            "type": "scattermapbox"
           }
          ],
          "scatterpolar": [
           {
            "marker": {
             "colorbar": {
              "outlinewidth": 0,
              "ticks": ""
             }
            },
            "type": "scatterpolar"
           }
          ],
          "scatterpolargl": [
           {
            "marker": {
             "colorbar": {
              "outlinewidth": 0,
              "ticks": ""
             }
            },
            "type": "scatterpolargl"
           }
          ],
          "scatterternary": [
           {
            "marker": {
             "colorbar": {
              "outlinewidth": 0,
              "ticks": ""
             }
            },
            "type": "scatterternary"
           }
          ],
          "surface": [
           {
            "colorbar": {
             "outlinewidth": 0,
             "ticks": ""
            },
            "colorscale": [
             [
              0,
              "#0d0887"
             ],
             [
              0.1111111111111111,
              "#46039f"
             ],
             [
              0.2222222222222222,
              "#7201a8"
             ],
             [
              0.3333333333333333,
              "#9c179e"
             ],
             [
              0.4444444444444444,
              "#bd3786"
             ],
             [
              0.5555555555555556,
              "#d8576b"
             ],
             [
              0.6666666666666666,
              "#ed7953"
             ],
             [
              0.7777777777777778,
              "#fb9f3a"
             ],
             [
              0.8888888888888888,
              "#fdca26"
             ],
             [
              1,
              "#f0f921"
             ]
            ],
            "type": "surface"
           }
          ],
          "table": [
           {
            "cells": {
             "fill": {
              "color": "#EBF0F8"
             },
             "line": {
              "color": "white"
             }
            },
            "header": {
             "fill": {
              "color": "#C8D4E3"
             },
             "line": {
              "color": "white"
             }
            },
            "type": "table"
           }
          ]
         },
         "layout": {
          "annotationdefaults": {
           "arrowcolor": "#2a3f5f",
           "arrowhead": 0,
           "arrowwidth": 1
          },
          "autotypenumbers": "strict",
          "coloraxis": {
           "colorbar": {
            "outlinewidth": 0,
            "ticks": ""
           }
          },
          "colorscale": {
           "diverging": [
            [
             0,
             "#8e0152"
            ],
            [
             0.1,
             "#c51b7d"
            ],
            [
             0.2,
             "#de77ae"
            ],
            [
             0.3,
             "#f1b6da"
            ],
            [
             0.4,
             "#fde0ef"
            ],
            [
             0.5,
             "#f7f7f7"
            ],
            [
             0.6,
             "#e6f5d0"
            ],
            [
             0.7,
             "#b8e186"
            ],
            [
             0.8,
             "#7fbc41"
            ],
            [
             0.9,
             "#4d9221"
            ],
            [
             1,
             "#276419"
            ]
           ],
           "sequential": [
            [
             0,
             "#0d0887"
            ],
            [
             0.1111111111111111,
             "#46039f"
            ],
            [
             0.2222222222222222,
             "#7201a8"
            ],
            [
             0.3333333333333333,
             "#9c179e"
            ],
            [
             0.4444444444444444,
             "#bd3786"
            ],
            [
             0.5555555555555556,
             "#d8576b"
            ],
            [
             0.6666666666666666,
             "#ed7953"
            ],
            [
             0.7777777777777778,
             "#fb9f3a"
            ],
            [
             0.8888888888888888,
             "#fdca26"
            ],
            [
             1,
             "#f0f921"
            ]
           ],
           "sequentialminus": [
            [
             0,
             "#0d0887"
            ],
            [
             0.1111111111111111,
             "#46039f"
            ],
            [
             0.2222222222222222,
             "#7201a8"
            ],
            [
             0.3333333333333333,
             "#9c179e"
            ],
            [
             0.4444444444444444,
             "#bd3786"
            ],
            [
             0.5555555555555556,
             "#d8576b"
            ],
            [
             0.6666666666666666,
             "#ed7953"
            ],
            [
             0.7777777777777778,
             "#fb9f3a"
            ],
            [
             0.8888888888888888,
             "#fdca26"
            ],
            [
             1,
             "#f0f921"
            ]
           ]
          },
          "colorway": [
           "#636efa",
           "#EF553B",
           "#00cc96",
           "#ab63fa",
           "#FFA15A",
           "#19d3f3",
           "#FF6692",
           "#B6E880",
           "#FF97FF",
           "#FECB52"
          ],
          "font": {
           "color": "#2a3f5f"
          },
          "geo": {
           "bgcolor": "white",
           "lakecolor": "white",
           "landcolor": "#E5ECF6",
           "showlakes": true,
           "showland": true,
           "subunitcolor": "white"
          },
          "hoverlabel": {
           "align": "left"
          },
          "hovermode": "closest",
          "mapbox": {
           "style": "light"
          },
          "paper_bgcolor": "white",
          "plot_bgcolor": "#E5ECF6",
          "polar": {
           "angularaxis": {
            "gridcolor": "white",
            "linecolor": "white",
            "ticks": ""
           },
           "bgcolor": "#E5ECF6",
           "radialaxis": {
            "gridcolor": "white",
            "linecolor": "white",
            "ticks": ""
           }
          },
          "scene": {
           "xaxis": {
            "backgroundcolor": "#E5ECF6",
            "gridcolor": "white",
            "gridwidth": 2,
            "linecolor": "white",
            "showbackground": true,
            "ticks": "",
            "zerolinecolor": "white"
           },
           "yaxis": {
            "backgroundcolor": "#E5ECF6",
            "gridcolor": "white",
            "gridwidth": 2,
            "linecolor": "white",
            "showbackground": true,
            "ticks": "",
            "zerolinecolor": "white"
           },
           "zaxis": {
            "backgroundcolor": "#E5ECF6",
            "gridcolor": "white",
            "gridwidth": 2,
            "linecolor": "white",
            "showbackground": true,
            "ticks": "",
            "zerolinecolor": "white"
           }
          },
          "shapedefaults": {
           "line": {
            "color": "#2a3f5f"
           }
          },
          "ternary": {
           "aaxis": {
            "gridcolor": "white",
            "linecolor": "white",
            "ticks": ""
           },
           "baxis": {
            "gridcolor": "white",
            "linecolor": "white",
            "ticks": ""
           },
           "bgcolor": "#E5ECF6",
           "caxis": {
            "gridcolor": "white",
            "linecolor": "white",
            "ticks": ""
           }
          },
          "title": {
           "x": 0.05
          },
          "xaxis": {
           "automargin": true,
           "gridcolor": "white",
           "linecolor": "white",
           "ticks": "",
           "title": {
            "standoff": 15
           },
           "zerolinecolor": "white",
           "zerolinewidth": 2
          },
          "yaxis": {
           "automargin": true,
           "gridcolor": "white",
           "linecolor": "white",
           "ticks": "",
           "title": {
            "standoff": 15
           },
           "zerolinecolor": "white",
           "zerolinewidth": 2
          }
         }
        },
        "title": {
         "text": "Feature Distributions by Health Risk Class"
        },
        "xaxis": {
         "anchor": "y",
         "domain": [
          0,
          0.2888888888888889
         ]
        },
        "xaxis2": {
         "anchor": "y2",
         "domain": [
          0.35555555555555557,
          0.6444444444444445
         ]
        },
        "xaxis3": {
         "anchor": "y3",
         "domain": [
          0.7111111111111111,
          1
         ]
        },
        "xaxis4": {
         "anchor": "y4",
         "domain": [
          0,
          0.2888888888888889
         ]
        },
        "xaxis5": {
         "anchor": "y5",
         "domain": [
          0.35555555555555557,
          0.6444444444444445
         ]
        },
        "xaxis6": {
         "anchor": "y6",
         "domain": [
          0.7111111111111111,
          1
         ]
        },
        "yaxis": {
         "anchor": "x",
         "domain": [
          0.625,
          1
         ]
        },
        "yaxis2": {
         "anchor": "x2",
         "domain": [
          0.625,
          1
         ]
        },
        "yaxis3": {
         "anchor": "x3",
         "domain": [
          0.625,
          1
         ]
        },
        "yaxis4": {
         "anchor": "x4",
         "domain": [
          0,
          0.375
         ]
        },
        "yaxis5": {
         "anchor": "x5",
         "domain": [
          0,
          0.375
         ]
        },
        "yaxis6": {
         "anchor": "x6",
         "domain": [
          0,
          0.375
         ]
        }
       }
      }
     },
     "metadata": {},
     "output_type": "display_data"
    },
    {
     "name": "stdout",
     "output_type": "stream",
     "text": [
      "\n",
      " Probability Analysis (Sample Predictions):\n",
      "Patient 1: Actual=Low Risk, Predicted=Low Risk (P(Low)=0.793, P(High)=0.207)\n",
      "Patient 2: Actual=Low Risk, Predicted=Low Risk (P(Low)=0.997, P(High)=0.003)\n",
      "Patient 3: Actual=Low Risk, Predicted=Low Risk (P(Low)=0.998, P(High)=0.002)\n",
      "Patient 4: Actual=Low Risk, Predicted=Low Risk (P(Low)=1.000, P(High)=0.000)\n",
      "Patient 5: Actual=Low Risk, Predicted=Low Risk (P(Low)=1.000, P(High)=0.000)\n",
      "Patient 6: Actual=Low Risk, Predicted=Low Risk (P(Low)=0.995, P(High)=0.005)\n",
      "Patient 7: Actual=High Risk, Predicted=High Risk (P(Low)=0.018, P(High)=0.982)\n",
      "Patient 8: Actual=Low Risk, Predicted=Low Risk (P(Low)=1.000, P(High)=0.000)\n",
      "Patient 9: Actual=Low Risk, Predicted=Low Risk (P(Low)=0.965, P(High)=0.035)\n",
      "Patient 10: Actual=Low Risk, Predicted=Low Risk (P(Low)=0.999, P(High)=0.001)\n"
     ]
    },
    {
     "data": {
      "application/vnd.plotly.v1+json": {
       "config": {
        "plotlyServerURL": "https://plot.ly"
       },
       "data": [
        {
         "colorscale": [
          [
           0,
           "rgb(247,251,255)"
          ],
          [
           0.125,
           "rgb(222,235,247)"
          ],
          [
           0.25,
           "rgb(198,219,239)"
          ],
          [
           0.375,
           "rgb(158,202,225)"
          ],
          [
           0.5,
           "rgb(107,174,214)"
          ],
          [
           0.625,
           "rgb(66,146,198)"
          ],
          [
           0.75,
           "rgb(33,113,181)"
          ],
          [
           0.875,
           "rgb(8,81,156)"
          ],
          [
           1,
           "rgb(8,48,107)"
          ]
         ],
         "reversescale": false,
         "showscale": true,
         "type": "heatmap",
         "x": [
          "Low Risk",
          "High Risk"
         ],
         "y": [
          "Low Risk",
          "High Risk"
         ],
         "z": {
          "bdata": "hQAOAAwAKQA=",
          "dtype": "i2",
          "shape": "2, 2"
         }
        }
       ],
       "layout": {
        "annotations": [
         {
          "font": {
           "color": "#FFFFFF"
          },
          "showarrow": false,
          "text": "133",
          "x": "Low Risk",
          "xref": "x",
          "y": "Low Risk",
          "yref": "y"
         },
         {
          "font": {
           "color": "#000000"
          },
          "showarrow": false,
          "text": "14",
          "x": "High Risk",
          "xref": "x",
          "y": "Low Risk",
          "yref": "y"
         },
         {
          "font": {
           "color": "#000000"
          },
          "showarrow": false,
          "text": "12",
          "x": "Low Risk",
          "xref": "x",
          "y": "High Risk",
          "yref": "y"
         },
         {
          "font": {
           "color": "#000000"
          },
          "showarrow": false,
          "text": "41",
          "x": "High Risk",
          "xref": "x",
          "y": "High Risk",
          "yref": "y"
         }
        ],
        "height": 400,
        "template": {
         "data": {
          "bar": [
           {
            "error_x": {
             "color": "#2a3f5f"
            },
            "error_y": {
             "color": "#2a3f5f"
            },
            "marker": {
             "line": {
              "color": "#E5ECF6",
              "width": 0.5
             },
             "pattern": {
              "fillmode": "overlay",
              "size": 10,
              "solidity": 0.2
             }
            },
            "type": "bar"
           }
          ],
          "barpolar": [
           {
            "marker": {
             "line": {
              "color": "#E5ECF6",
              "width": 0.5
             },
             "pattern": {
              "fillmode": "overlay",
              "size": 10,
              "solidity": 0.2
             }
            },
            "type": "barpolar"
           }
          ],
          "carpet": [
           {
            "aaxis": {
             "endlinecolor": "#2a3f5f",
             "gridcolor": "white",
             "linecolor": "white",
             "minorgridcolor": "white",
             "startlinecolor": "#2a3f5f"
            },
            "baxis": {
             "endlinecolor": "#2a3f5f",
             "gridcolor": "white",
             "linecolor": "white",
             "minorgridcolor": "white",
             "startlinecolor": "#2a3f5f"
            },
            "type": "carpet"
           }
          ],
          "choropleth": [
           {
            "colorbar": {
             "outlinewidth": 0,
             "ticks": ""
            },
            "type": "choropleth"
           }
          ],
          "contour": [
           {
            "colorbar": {
             "outlinewidth": 0,
             "ticks": ""
            },
            "colorscale": [
             [
              0,
              "#0d0887"
             ],
             [
              0.1111111111111111,
              "#46039f"
             ],
             [
              0.2222222222222222,
              "#7201a8"
             ],
             [
              0.3333333333333333,
              "#9c179e"
             ],
             [
              0.4444444444444444,
              "#bd3786"
             ],
             [
              0.5555555555555556,
              "#d8576b"
             ],
             [
              0.6666666666666666,
              "#ed7953"
             ],
             [
              0.7777777777777778,
              "#fb9f3a"
             ],
             [
              0.8888888888888888,
              "#fdca26"
             ],
             [
              1,
              "#f0f921"
             ]
            ],
            "type": "contour"
           }
          ],
          "contourcarpet": [
           {
            "colorbar": {
             "outlinewidth": 0,
             "ticks": ""
            },
            "type": "contourcarpet"
           }
          ],
          "heatmap": [
           {
            "colorbar": {
             "outlinewidth": 0,
             "ticks": ""
            },
            "colorscale": [
             [
              0,
              "#0d0887"
             ],
             [
              0.1111111111111111,
              "#46039f"
             ],
             [
              0.2222222222222222,
              "#7201a8"
             ],
             [
              0.3333333333333333,
              "#9c179e"
             ],
             [
              0.4444444444444444,
              "#bd3786"
             ],
             [
              0.5555555555555556,
              "#d8576b"
             ],
             [
              0.6666666666666666,
              "#ed7953"
             ],
             [
              0.7777777777777778,
              "#fb9f3a"
             ],
             [
              0.8888888888888888,
              "#fdca26"
             ],
             [
              1,
              "#f0f921"
             ]
            ],
            "type": "heatmap"
           }
          ],
          "histogram": [
           {
            "marker": {
             "pattern": {
              "fillmode": "overlay",
              "size": 10,
              "solidity": 0.2
             }
            },
            "type": "histogram"
           }
          ],
          "histogram2d": [
           {
            "colorbar": {
             "outlinewidth": 0,
             "ticks": ""
            },
            "colorscale": [
             [
              0,
              "#0d0887"
             ],
             [
              0.1111111111111111,
              "#46039f"
             ],
             [
              0.2222222222222222,
              "#7201a8"
             ],
             [
              0.3333333333333333,
              "#9c179e"
             ],
             [
              0.4444444444444444,
              "#bd3786"
             ],
             [
              0.5555555555555556,
              "#d8576b"
             ],
             [
              0.6666666666666666,
              "#ed7953"
             ],
             [
              0.7777777777777778,
              "#fb9f3a"
             ],
             [
              0.8888888888888888,
              "#fdca26"
             ],
             [
              1,
              "#f0f921"
             ]
            ],
            "type": "histogram2d"
           }
          ],
          "histogram2dcontour": [
           {
            "colorbar": {
             "outlinewidth": 0,
             "ticks": ""
            },
            "colorscale": [
             [
              0,
              "#0d0887"
             ],
             [
              0.1111111111111111,
              "#46039f"
             ],
             [
              0.2222222222222222,
              "#7201a8"
             ],
             [
              0.3333333333333333,
              "#9c179e"
             ],
             [
              0.4444444444444444,
              "#bd3786"
             ],
             [
              0.5555555555555556,
              "#d8576b"
             ],
             [
              0.6666666666666666,
              "#ed7953"
             ],
             [
              0.7777777777777778,
              "#fb9f3a"
             ],
             [
              0.8888888888888888,
              "#fdca26"
             ],
             [
              1,
              "#f0f921"
             ]
            ],
            "type": "histogram2dcontour"
           }
          ],
          "mesh3d": [
           {
            "colorbar": {
             "outlinewidth": 0,
             "ticks": ""
            },
            "type": "mesh3d"
           }
          ],
          "parcoords": [
           {
            "line": {
             "colorbar": {
              "outlinewidth": 0,
              "ticks": ""
             }
            },
            "type": "parcoords"
           }
          ],
          "pie": [
           {
            "automargin": true,
            "type": "pie"
           }
          ],
          "scatter": [
           {
            "fillpattern": {
             "fillmode": "overlay",
             "size": 10,
             "solidity": 0.2
            },
            "type": "scatter"
           }
          ],
          "scatter3d": [
           {
            "line": {
             "colorbar": {
              "outlinewidth": 0,
              "ticks": ""
             }
            },
            "marker": {
             "colorbar": {
              "outlinewidth": 0,
              "ticks": ""
             }
            },
            "type": "scatter3d"
           }
          ],
          "scattercarpet": [
           {
            "marker": {
             "colorbar": {
              "outlinewidth": 0,
              "ticks": ""
             }
            },
            "type": "scattercarpet"
           }
          ],
          "scattergeo": [
           {
            "marker": {
             "colorbar": {
              "outlinewidth": 0,
              "ticks": ""
             }
            },
            "type": "scattergeo"
           }
          ],
          "scattergl": [
           {
            "marker": {
             "colorbar": {
              "outlinewidth": 0,
              "ticks": ""
             }
            },
            "type": "scattergl"
           }
          ],
          "scattermap": [
           {
            "marker": {
             "colorbar": {
              "outlinewidth": 0,
              "ticks": ""
             }
            },
            "type": "scattermap"
           }
          ],
          "scattermapbox": [
           {
            "marker": {
             "colorbar": {
              "outlinewidth": 0,
              "ticks": ""
             }
            },
            "type": "scattermapbox"
           }
          ],
          "scatterpolar": [
           {
            "marker": {
             "colorbar": {
              "outlinewidth": 0,
              "ticks": ""
             }
            },
            "type": "scatterpolar"
           }
          ],
          "scatterpolargl": [
           {
            "marker": {
             "colorbar": {
              "outlinewidth": 0,
              "ticks": ""
             }
            },
            "type": "scatterpolargl"
           }
          ],
          "scatterternary": [
           {
            "marker": {
             "colorbar": {
              "outlinewidth": 0,
              "ticks": ""
             }
            },
            "type": "scatterternary"
           }
          ],
          "surface": [
           {
            "colorbar": {
             "outlinewidth": 0,
             "ticks": ""
            },
            "colorscale": [
             [
              0,
              "#0d0887"
             ],
             [
              0.1111111111111111,
              "#46039f"
             ],
             [
              0.2222222222222222,
              "#7201a8"
             ],
             [
              0.3333333333333333,
              "#9c179e"
             ],
             [
              0.4444444444444444,
              "#bd3786"
             ],
             [
              0.5555555555555556,
              "#d8576b"
             ],
             [
              0.6666666666666666,
              "#ed7953"
             ],
             [
              0.7777777777777778,
              "#fb9f3a"
             ],
             [
              0.8888888888888888,
              "#fdca26"
             ],
             [
              1,
              "#f0f921"
             ]
            ],
            "type": "surface"
           }
          ],
          "table": [
           {
            "cells": {
             "fill": {
              "color": "#EBF0F8"
             },
             "line": {
              "color": "white"
             }
            },
            "header": {
             "fill": {
              "color": "#C8D4E3"
             },
             "line": {
              "color": "white"
             }
            },
            "type": "table"
           }
          ]
         },
         "layout": {
          "annotationdefaults": {
           "arrowcolor": "#2a3f5f",
           "arrowhead": 0,
           "arrowwidth": 1
          },
          "autotypenumbers": "strict",
          "coloraxis": {
           "colorbar": {
            "outlinewidth": 0,
            "ticks": ""
           }
          },
          "colorscale": {
           "diverging": [
            [
             0,
             "#8e0152"
            ],
            [
             0.1,
             "#c51b7d"
            ],
            [
             0.2,
             "#de77ae"
            ],
            [
             0.3,
             "#f1b6da"
            ],
            [
             0.4,
             "#fde0ef"
            ],
            [
             0.5,
             "#f7f7f7"
            ],
            [
             0.6,
             "#e6f5d0"
            ],
            [
             0.7,
             "#b8e186"
            ],
            [
             0.8,
             "#7fbc41"
            ],
            [
             0.9,
             "#4d9221"
            ],
            [
             1,
             "#276419"
            ]
           ],
           "sequential": [
            [
             0,
             "#0d0887"
            ],
            [
             0.1111111111111111,
             "#46039f"
            ],
            [
             0.2222222222222222,
             "#7201a8"
            ],
            [
             0.3333333333333333,
             "#9c179e"
            ],
            [
             0.4444444444444444,
             "#bd3786"
            ],
            [
             0.5555555555555556,
             "#d8576b"
            ],
            [
             0.6666666666666666,
             "#ed7953"
            ],
            [
             0.7777777777777778,
             "#fb9f3a"
            ],
            [
             0.8888888888888888,
             "#fdca26"
            ],
            [
             1,
             "#f0f921"
            ]
           ],
           "sequentialminus": [
            [
             0,
             "#0d0887"
            ],
            [
             0.1111111111111111,
             "#46039f"
            ],
            [
             0.2222222222222222,
             "#7201a8"
            ],
            [
             0.3333333333333333,
             "#9c179e"
            ],
            [
             0.4444444444444444,
             "#bd3786"
            ],
            [
             0.5555555555555556,
             "#d8576b"
            ],
            [
             0.6666666666666666,
             "#ed7953"
            ],
            [
             0.7777777777777778,
             "#fb9f3a"
            ],
            [
             0.8888888888888888,
             "#fdca26"
            ],
            [
             1,
             "#f0f921"
            ]
           ]
          },
          "colorway": [
           "#636efa",
           "#EF553B",
           "#00cc96",
           "#ab63fa",
           "#FFA15A",
           "#19d3f3",
           "#FF6692",
           "#B6E880",
           "#FF97FF",
           "#FECB52"
          ],
          "font": {
           "color": "#2a3f5f"
          },
          "geo": {
           "bgcolor": "white",
           "lakecolor": "white",
           "landcolor": "#E5ECF6",
           "showlakes": true,
           "showland": true,
           "subunitcolor": "white"
          },
          "hoverlabel": {
           "align": "left"
          },
          "hovermode": "closest",
          "mapbox": {
           "style": "light"
          },
          "paper_bgcolor": "white",
          "plot_bgcolor": "#E5ECF6",
          "polar": {
           "angularaxis": {
            "gridcolor": "white",
            "linecolor": "white",
            "ticks": ""
           },
           "bgcolor": "#E5ECF6",
           "radialaxis": {
            "gridcolor": "white",
            "linecolor": "white",
            "ticks": ""
           }
          },
          "scene": {
           "xaxis": {
            "backgroundcolor": "#E5ECF6",
            "gridcolor": "white",
            "gridwidth": 2,
            "linecolor": "white",
            "showbackground": true,
            "ticks": "",
            "zerolinecolor": "white"
           },
           "yaxis": {
            "backgroundcolor": "#E5ECF6",
            "gridcolor": "white",
            "gridwidth": 2,
            "linecolor": "white",
            "showbackground": true,
            "ticks": "",
            "zerolinecolor": "white"
           },
           "zaxis": {
            "backgroundcolor": "#E5ECF6",
            "gridcolor": "white",
            "gridwidth": 2,
            "linecolor": "white",
            "showbackground": true,
            "ticks": "",
            "zerolinecolor": "white"
           }
          },
          "shapedefaults": {
           "line": {
            "color": "#2a3f5f"
           }
          },
          "ternary": {
           "aaxis": {
            "gridcolor": "white",
            "linecolor": "white",
            "ticks": ""
           },
           "baxis": {
            "gridcolor": "white",
            "linecolor": "white",
            "ticks": ""
           },
           "bgcolor": "#E5ECF6",
           "caxis": {
            "gridcolor": "white",
            "linecolor": "white",
            "ticks": ""
           }
          },
          "title": {
           "x": 0.05
          },
          "xaxis": {
           "automargin": true,
           "gridcolor": "white",
           "linecolor": "white",
           "ticks": "",
           "title": {
            "standoff": 15
           },
           "zerolinecolor": "white",
           "zerolinewidth": 2
          },
          "yaxis": {
           "automargin": true,
           "gridcolor": "white",
           "linecolor": "white",
           "ticks": "",
           "title": {
            "standoff": 15
           },
           "zerolinecolor": "white",
           "zerolinewidth": 2
          }
         }
        },
        "title": {
         "text": "Gaussian Naive Bayes Confusion Matrix (Medical Diagnosis)"
        },
        "xaxis": {
         "dtick": 1,
         "gridcolor": "rgb(0, 0, 0)",
         "side": "top",
         "ticks": "",
         "title": {
          "text": "Predicted"
         }
        },
        "yaxis": {
         "dtick": 1,
         "ticks": "",
         "ticksuffix": "  ",
         "title": {
          "text": "Actual"
         }
        }
       }
      }
     },
     "metadata": {},
     "output_type": "display_data"
    },
    {
     "data": {
      "application/vnd.plotly.v1+json": {
       "config": {
        "plotlyServerURL": "https://plot.ly"
       },
       "data": [
        {
         "line": {
          "color": "blue",
          "width": 2
         },
         "mode": "lines",
         "name": "ROC Curve (AUC = 0.927)",
         "type": "scatter",
         "x": {
          "bdata": "AAAAAAAAAAAAAAAAAAAAAAAAAAAAAAAA9waUiSvdez/3BpSJK917P/cGlIkr3Ys/9waUiSvdiz85BS+n4OWUPzkFL6fg5ZQ/W4T8NTtqoT9bhPw1O2qhPzkFL6fg5aQ/OQUvp+DlpD8YhmEYhmGoPxiGYRiGYag/9waUiSvdqz/3BpSJK92rP8rEle4NKLM/ysSV7g0osz85BS+n4OW0PzkFL6fg5bQ/qUXIX7Ojtj+pRchfs6O2PxiGYRiGYbg/GIZhGIZhuD9bhPw1O2rBP1uE/DU7asE/OQUvp+DlxD85BS+n4OXEP3GlewPKxMU/caV7A8rExT/h5RS8nILHP+HlFLycgsc/L6fg5RS8zD8vp+DlFLzMPweUiSvdG9A/B5SJK90b0D9bhPw1O2rRP1uE/DU7atE/4eUUvJyC1z/h5RS8nILXP0L+mh21COk/Qv6aHbUI6T8AAAAAAADwPw==",
          "dtype": "f8"
         },
         "y": {
          "bdata": "AAAAAAAAAADBeCv7HFKTP2WfQ2qC8dY/ZZ9DaoLx1j/yVvY5pCbYP/JW9jmkJtg/463sc0hN4D/jrexzSE3gP/scUhOMt+I/+xxSE4y34j9NMN7KPofkP00w3so+h+Q/E4y3ss8h5T8TjLeyzyHlP9nnkJpgvOU/2eeQmmC85T+fQ2qC8VbmP59DaoLxVuY/ZZ9DaoLx5j9ln0NqgvHmPyv7HFITjOc/K/scUhOM5z/yVvY5pCboP/JW9jmkJug/uLLPITXB6D+4ss8hNcHoP0RqgvFW9uk/RGqC8Vb26T8KxlvZ55DqPwrGW9nnkOo/0CE1wXgr6z/QITXBeCvrP1zZ55CaYOw/XNnnkJpg7D8iNcF4K/vsPyI1wXgr++w/ruxzSE0w7j+u7HNITTDuP3RITTDeyu4/dEhNMN7K7j86pCYYb2XvPzqkJhhvZe8/AAAAAAAA8D8AAAAAAADwPw==",
          "dtype": "f8"
         }
        },
        {
         "line": {
          "color": "red",
          "dash": "dash"
         },
         "mode": "lines",
         "name": "Random Classifier",
         "type": "scatter",
         "x": [
          0,
          1
         ],
         "y": [
          0,
          1
         ]
        }
       ],
       "layout": {
        "height": 500,
        "template": {
         "data": {
          "bar": [
           {
            "error_x": {
             "color": "#2a3f5f"
            },
            "error_y": {
             "color": "#2a3f5f"
            },
            "marker": {
             "line": {
              "color": "#E5ECF6",
              "width": 0.5
             },
             "pattern": {
              "fillmode": "overlay",
              "size": 10,
              "solidity": 0.2
             }
            },
            "type": "bar"
           }
          ],
          "barpolar": [
           {
            "marker": {
             "line": {
              "color": "#E5ECF6",
              "width": 0.5
             },
             "pattern": {
              "fillmode": "overlay",
              "size": 10,
              "solidity": 0.2
             }
            },
            "type": "barpolar"
           }
          ],
          "carpet": [
           {
            "aaxis": {
             "endlinecolor": "#2a3f5f",
             "gridcolor": "white",
             "linecolor": "white",
             "minorgridcolor": "white",
             "startlinecolor": "#2a3f5f"
            },
            "baxis": {
             "endlinecolor": "#2a3f5f",
             "gridcolor": "white",
             "linecolor": "white",
             "minorgridcolor": "white",
             "startlinecolor": "#2a3f5f"
            },
            "type": "carpet"
           }
          ],
          "choropleth": [
           {
            "colorbar": {
             "outlinewidth": 0,
             "ticks": ""
            },
            "type": "choropleth"
           }
          ],
          "contour": [
           {
            "colorbar": {
             "outlinewidth": 0,
             "ticks": ""
            },
            "colorscale": [
             [
              0,
              "#0d0887"
             ],
             [
              0.1111111111111111,
              "#46039f"
             ],
             [
              0.2222222222222222,
              "#7201a8"
             ],
             [
              0.3333333333333333,
              "#9c179e"
             ],
             [
              0.4444444444444444,
              "#bd3786"
             ],
             [
              0.5555555555555556,
              "#d8576b"
             ],
             [
              0.6666666666666666,
              "#ed7953"
             ],
             [
              0.7777777777777778,
              "#fb9f3a"
             ],
             [
              0.8888888888888888,
              "#fdca26"
             ],
             [
              1,
              "#f0f921"
             ]
            ],
            "type": "contour"
           }
          ],
          "contourcarpet": [
           {
            "colorbar": {
             "outlinewidth": 0,
             "ticks": ""
            },
            "type": "contourcarpet"
           }
          ],
          "heatmap": [
           {
            "colorbar": {
             "outlinewidth": 0,
             "ticks": ""
            },
            "colorscale": [
             [
              0,
              "#0d0887"
             ],
             [
              0.1111111111111111,
              "#46039f"
             ],
             [
              0.2222222222222222,
              "#7201a8"
             ],
             [
              0.3333333333333333,
              "#9c179e"
             ],
             [
              0.4444444444444444,
              "#bd3786"
             ],
             [
              0.5555555555555556,
              "#d8576b"
             ],
             [
              0.6666666666666666,
              "#ed7953"
             ],
             [
              0.7777777777777778,
              "#fb9f3a"
             ],
             [
              0.8888888888888888,
              "#fdca26"
             ],
             [
              1,
              "#f0f921"
             ]
            ],
            "type": "heatmap"
           }
          ],
          "histogram": [
           {
            "marker": {
             "pattern": {
              "fillmode": "overlay",
              "size": 10,
              "solidity": 0.2
             }
            },
            "type": "histogram"
           }
          ],
          "histogram2d": [
           {
            "colorbar": {
             "outlinewidth": 0,
             "ticks": ""
            },
            "colorscale": [
             [
              0,
              "#0d0887"
             ],
             [
              0.1111111111111111,
              "#46039f"
             ],
             [
              0.2222222222222222,
              "#7201a8"
             ],
             [
              0.3333333333333333,
              "#9c179e"
             ],
             [
              0.4444444444444444,
              "#bd3786"
             ],
             [
              0.5555555555555556,
              "#d8576b"
             ],
             [
              0.6666666666666666,
              "#ed7953"
             ],
             [
              0.7777777777777778,
              "#fb9f3a"
             ],
             [
              0.8888888888888888,
              "#fdca26"
             ],
             [
              1,
              "#f0f921"
             ]
            ],
            "type": "histogram2d"
           }
          ],
          "histogram2dcontour": [
           {
            "colorbar": {
             "outlinewidth": 0,
             "ticks": ""
            },
            "colorscale": [
             [
              0,
              "#0d0887"
             ],
             [
              0.1111111111111111,
              "#46039f"
             ],
             [
              0.2222222222222222,
              "#7201a8"
             ],
             [
              0.3333333333333333,
              "#9c179e"
             ],
             [
              0.4444444444444444,
              "#bd3786"
             ],
             [
              0.5555555555555556,
              "#d8576b"
             ],
             [
              0.6666666666666666,
              "#ed7953"
             ],
             [
              0.7777777777777778,
              "#fb9f3a"
             ],
             [
              0.8888888888888888,
              "#fdca26"
             ],
             [
              1,
              "#f0f921"
             ]
            ],
            "type": "histogram2dcontour"
           }
          ],
          "mesh3d": [
           {
            "colorbar": {
             "outlinewidth": 0,
             "ticks": ""
            },
            "type": "mesh3d"
           }
          ],
          "parcoords": [
           {
            "line": {
             "colorbar": {
              "outlinewidth": 0,
              "ticks": ""
             }
            },
            "type": "parcoords"
           }
          ],
          "pie": [
           {
            "automargin": true,
            "type": "pie"
           }
          ],
          "scatter": [
           {
            "fillpattern": {
             "fillmode": "overlay",
             "size": 10,
             "solidity": 0.2
            },
            "type": "scatter"
           }
          ],
          "scatter3d": [
           {
            "line": {
             "colorbar": {
              "outlinewidth": 0,
              "ticks": ""
             }
            },
            "marker": {
             "colorbar": {
              "outlinewidth": 0,
              "ticks": ""
             }
            },
            "type": "scatter3d"
           }
          ],
          "scattercarpet": [
           {
            "marker": {
             "colorbar": {
              "outlinewidth": 0,
              "ticks": ""
             }
            },
            "type": "scattercarpet"
           }
          ],
          "scattergeo": [
           {
            "marker": {
             "colorbar": {
              "outlinewidth": 0,
              "ticks": ""
             }
            },
            "type": "scattergeo"
           }
          ],
          "scattergl": [
           {
            "marker": {
             "colorbar": {
              "outlinewidth": 0,
              "ticks": ""
             }
            },
            "type": "scattergl"
           }
          ],
          "scattermap": [
           {
            "marker": {
             "colorbar": {
              "outlinewidth": 0,
              "ticks": ""
             }
            },
            "type": "scattermap"
           }
          ],
          "scattermapbox": [
           {
            "marker": {
             "colorbar": {
              "outlinewidth": 0,
              "ticks": ""
             }
            },
            "type": "scattermapbox"
           }
          ],
          "scatterpolar": [
           {
            "marker": {
             "colorbar": {
              "outlinewidth": 0,
              "ticks": ""
             }
            },
            "type": "scatterpolar"
           }
          ],
          "scatterpolargl": [
           {
            "marker": {
             "colorbar": {
              "outlinewidth": 0,
              "ticks": ""
             }
            },
            "type": "scatterpolargl"
           }
          ],
          "scatterternary": [
           {
            "marker": {
             "colorbar": {
              "outlinewidth": 0,
              "ticks": ""
             }
            },
            "type": "scatterternary"
           }
          ],
          "surface": [
           {
            "colorbar": {
             "outlinewidth": 0,
             "ticks": ""
            },
            "colorscale": [
             [
              0,
              "#0d0887"
             ],
             [
              0.1111111111111111,
              "#46039f"
             ],
             [
              0.2222222222222222,
              "#7201a8"
             ],
             [
              0.3333333333333333,
              "#9c179e"
             ],
             [
              0.4444444444444444,
              "#bd3786"
             ],
             [
              0.5555555555555556,
              "#d8576b"
             ],
             [
              0.6666666666666666,
              "#ed7953"
             ],
             [
              0.7777777777777778,
              "#fb9f3a"
             ],
             [
              0.8888888888888888,
              "#fdca26"
             ],
             [
              1,
              "#f0f921"
             ]
            ],
            "type": "surface"
           }
          ],
          "table": [
           {
            "cells": {
             "fill": {
              "color": "#EBF0F8"
             },
             "line": {
              "color": "white"
             }
            },
            "header": {
             "fill": {
              "color": "#C8D4E3"
             },
             "line": {
              "color": "white"
             }
            },
            "type": "table"
           }
          ]
         },
         "layout": {
          "annotationdefaults": {
           "arrowcolor": "#2a3f5f",
           "arrowhead": 0,
           "arrowwidth": 1
          },
          "autotypenumbers": "strict",
          "coloraxis": {
           "colorbar": {
            "outlinewidth": 0,
            "ticks": ""
           }
          },
          "colorscale": {
           "diverging": [
            [
             0,
             "#8e0152"
            ],
            [
             0.1,
             "#c51b7d"
            ],
            [
             0.2,
             "#de77ae"
            ],
            [
             0.3,
             "#f1b6da"
            ],
            [
             0.4,
             "#fde0ef"
            ],
            [
             0.5,
             "#f7f7f7"
            ],
            [
             0.6,
             "#e6f5d0"
            ],
            [
             0.7,
             "#b8e186"
            ],
            [
             0.8,
             "#7fbc41"
            ],
            [
             0.9,
             "#4d9221"
            ],
            [
             1,
             "#276419"
            ]
           ],
           "sequential": [
            [
             0,
             "#0d0887"
            ],
            [
             0.1111111111111111,
             "#46039f"
            ],
            [
             0.2222222222222222,
             "#7201a8"
            ],
            [
             0.3333333333333333,
             "#9c179e"
            ],
            [
             0.4444444444444444,
             "#bd3786"
            ],
            [
             0.5555555555555556,
             "#d8576b"
            ],
            [
             0.6666666666666666,
             "#ed7953"
            ],
            [
             0.7777777777777778,
             "#fb9f3a"
            ],
            [
             0.8888888888888888,
             "#fdca26"
            ],
            [
             1,
             "#f0f921"
            ]
           ],
           "sequentialminus": [
            [
             0,
             "#0d0887"
            ],
            [
             0.1111111111111111,
             "#46039f"
            ],
            [
             0.2222222222222222,
             "#7201a8"
            ],
            [
             0.3333333333333333,
             "#9c179e"
            ],
            [
             0.4444444444444444,
             "#bd3786"
            ],
            [
             0.5555555555555556,
             "#d8576b"
            ],
            [
             0.6666666666666666,
             "#ed7953"
            ],
            [
             0.7777777777777778,
             "#fb9f3a"
            ],
            [
             0.8888888888888888,
             "#fdca26"
            ],
            [
             1,
             "#f0f921"
            ]
           ]
          },
          "colorway": [
           "#636efa",
           "#EF553B",
           "#00cc96",
           "#ab63fa",
           "#FFA15A",
           "#19d3f3",
           "#FF6692",
           "#B6E880",
           "#FF97FF",
           "#FECB52"
          ],
          "font": {
           "color": "#2a3f5f"
          },
          "geo": {
           "bgcolor": "white",
           "lakecolor": "white",
           "landcolor": "#E5ECF6",
           "showlakes": true,
           "showland": true,
           "subunitcolor": "white"
          },
          "hoverlabel": {
           "align": "left"
          },
          "hovermode": "closest",
          "mapbox": {
           "style": "light"
          },
          "paper_bgcolor": "white",
          "plot_bgcolor": "#E5ECF6",
          "polar": {
           "angularaxis": {
            "gridcolor": "white",
            "linecolor": "white",
            "ticks": ""
           },
           "bgcolor": "#E5ECF6",
           "radialaxis": {
            "gridcolor": "white",
            "linecolor": "white",
            "ticks": ""
           }
          },
          "scene": {
           "xaxis": {
            "backgroundcolor": "#E5ECF6",
            "gridcolor": "white",
            "gridwidth": 2,
            "linecolor": "white",
            "showbackground": true,
            "ticks": "",
            "zerolinecolor": "white"
           },
           "yaxis": {
            "backgroundcolor": "#E5ECF6",
            "gridcolor": "white",
            "gridwidth": 2,
            "linecolor": "white",
            "showbackground": true,
            "ticks": "",
            "zerolinecolor": "white"
           },
           "zaxis": {
            "backgroundcolor": "#E5ECF6",
            "gridcolor": "white",
            "gridwidth": 2,
            "linecolor": "white",
            "showbackground": true,
            "ticks": "",
            "zerolinecolor": "white"
           }
          },
          "shapedefaults": {
           "line": {
            "color": "#2a3f5f"
           }
          },
          "ternary": {
           "aaxis": {
            "gridcolor": "white",
            "linecolor": "white",
            "ticks": ""
           },
           "baxis": {
            "gridcolor": "white",
            "linecolor": "white",
            "ticks": ""
           },
           "bgcolor": "#E5ECF6",
           "caxis": {
            "gridcolor": "white",
            "linecolor": "white",
            "ticks": ""
           }
          },
          "title": {
           "x": 0.05
          },
          "xaxis": {
           "automargin": true,
           "gridcolor": "white",
           "linecolor": "white",
           "ticks": "",
           "title": {
            "standoff": 15
           },
           "zerolinecolor": "white",
           "zerolinewidth": 2
          },
          "yaxis": {
           "automargin": true,
           "gridcolor": "white",
           "linecolor": "white",
           "ticks": "",
           "title": {
            "standoff": 15
           },
           "zerolinecolor": "white",
           "zerolinewidth": 2
          }
         }
        },
        "title": {
         "text": "ROC Curve - Gaussian Naive Bayes (Medical Diagnosis)"
        },
        "xaxis": {
         "title": {
          "text": "False Positive Rate"
         }
        },
        "yaxis": {
         "title": {
          "text": "True Positive Rate"
         }
        }
       }
      }
     },
     "metadata": {},
     "output_type": "display_data"
    }
   ],
   "source": [
    "# 1. GAUSSIAN NAIVE BAYES ANALYSIS\n",
    "print(\"🩺 1. GAUSSIAN NAIVE BAYES ANALYSIS\")\n",
    "print(\"=\" * 34)\n",
    "\n",
    "# Prepare medical data\n",
    "medical_features = ['age', 'bmi', 'blood_pressure', 'cholesterol', 'exercise_hours', 'smoking']\n",
    "X_medical = medical_df[medical_features]\n",
    "y_medical = medical_df['health_risk']\n",
    "\n",
    "# Split data\n",
    "X_med_train, X_med_test, y_med_train, y_med_test = train_test_split(\n",
    " X_medical, y_medical, test_size=0.2, random_state=42, stratify=y_medical\n",
    ")\n",
    "\n",
    "print(f\"Training set: {X_med_train.shape}\")\n",
    "print(f\"Test set: {X_med_test.shape}\")\n",
    "print(f\"Class distribution: {y_med_train.value_counts().to_dict()}\")\n",
    "\n",
    "# Train Gaussian Naive Bayes\n",
    "gnb = GaussianNB()\n",
    "gnb.fit(X_med_train, y_med_train)\n",
    "\n",
    "# Predictions and probabilities\n",
    "y_med_pred = gnb.predict(X_med_test)\n",
    "y_med_proba = gnb.predict_proba(X_med_test)\n",
    "\n",
    "# Performance metrics\n",
    "med_accuracy = accuracy_score(y_med_test, y_med_pred)\n",
    "print(f\"\\n Gaussian Naive Bayes Performance:\")\n",
    "print(f\"• Test Accuracy: {med_accuracy:.4f}\")\n",
    "\n",
    "# Cross-validation\n",
    "cv_scores = cross_val_score(gnb, X_med_train, y_med_train, cv=5)\n",
    "print(f\"• Cross-validation: {cv_scores.mean():.4f} ± {cv_scores.std():.4f}\")\n",
    "\n",
    "print(f\"\\nClassification Report:\")\n",
    "print(classification_report(y_med_test, y_med_pred, target_names=['Low Risk', 'High Risk']))\n",
    "\n",
    "# Feature distribution analysis by class\n",
    "print(f\"\\n Feature Distribution Analysis:\")\n",
    "\n",
    "feature_stats = {}\n",
    "for feature in medical_features:\n",
    " low_risk_values = X_med_train[y_med_train == 0][feature]\n",
    " high_risk_values = X_med_train[y_med_train == 1][feature]\n",
    "\n",
    " feature_stats[feature] = {\n",
    " 'low_risk_mean': low_risk_values.mean(),\n",
    " 'low_risk_std': low_risk_values.std(),\n",
    " 'high_risk_mean': high_risk_values.mean(),\n",
    " 'high_risk_std': high_risk_values.std()\n",
    " }\n",
    "\n",
    " print(f\"• {feature}:\")\n",
    " print(f\" Low Risk: μ={low_risk_values.mean():.2f}, σ={low_risk_values.std():.2f}\")\n",
    " print(f\" High Risk: μ={high_risk_values.mean():.2f}, σ={high_risk_values.std():.2f}\")\n",
    "\n",
    "# Visualize feature distributions\n",
    "fig_distributions = make_subplots(\n",
    " rows=2, cols=3,\n",
    " subplot_titles=medical_features,\n",
    " specs=[[{\"secondary_y\": False}, {\"secondary_y\": False}, {\"secondary_y\": False}],\n",
    " [{\"secondary_y\": False}, {\"secondary_y\": False}, {\"secondary_y\": False}]]\n",
    ")\n",
    "\n",
    "colors = ['blue', 'red']\n",
    "risk_labels = ['Low Risk', 'High Risk']\n",
    "\n",
    "for i, feature in enumerate(medical_features):\n",
    "    row = i // 3 + 1\n",
    "    col = i % 3 + 1\n",
    "\n",
    "    for risk_level in [0, 1]:\n",
    "        feature_data = X_med_train[y_med_train == risk_level][feature]\n",
    "\n",
    "        fig_distributions.add_trace(\n",
    "            go.Histogram(\n",
    "                x=feature_data,\n",
    "                name=f'{risk_labels[risk_level]}',\n",
    "                opacity=0.7,\n",
    "                marker_color=colors[risk_level],\n",
    "                nbinsx=20,\n",
    "                showlegend=(i == 0) # Only show legend for first subplot\n",
    "            ),\n",
    "            row=row, col=col\n",
    "        )\n",
    "\n",
    "fig_distributions.update_layout(\n",
    " title=\"Feature Distributions by Health Risk Class\",\n",
    " height=600,\n",
    " barmode='overlay'\n",
    ")\n",
    "fig_distributions.show()\n",
    "\n",
    "# Probability analysis\n",
    "print(f\"\\n Probability Analysis (Sample Predictions):\")\n",
    "\n",
    "# Show probability predictions for first 10 test samples\n",
    "sample_indices = range(min(10, len(X_med_test)))\n",
    "for i in sample_indices:\n",
    " actual = y_med_test.iloc[i]\n",
    " predicted = y_med_pred[i]\n",
    " prob_low = y_med_proba[i][0]\n",
    " prob_high = y_med_proba[i][1]\n",
    "\n",
    " print(f\"Patient {i+1}: Actual={risk_labels[actual]}, \"\n",
    " f\"Predicted={risk_labels[predicted]} \"\n",
    " f\"(P(Low)={prob_low:.3f}, P(High)={prob_high:.3f})\")\n",
    "\n",
    "# Confusion Matrix\n",
    "cm_medical = confusion_matrix(y_med_test, y_med_pred)\n",
    "\n",
    "fig_cm_medical = ff.create_annotated_heatmap(\n",
    " z=cm_medical,\n",
    " x=['Low Risk', 'High Risk'],\n",
    " y=['Low Risk', 'High Risk'],\n",
    " annotation_text=cm_medical,\n",
    " colorscale='Blues',\n",
    " showscale=True\n",
    ")\n",
    "\n",
    "fig_cm_medical.update_layout(\n",
    " title=\"Gaussian Naive Bayes Confusion Matrix (Medical Diagnosis)\",\n",
    " xaxis_title=\"Predicted\",\n",
    " yaxis_title=\"Actual\",\n",
    " height=400\n",
    ")\n",
    "fig_cm_medical.show()\n",
    "\n",
    "# ROC Curve\n",
    "fpr, tpr, _ = roc_curve(y_med_test, y_med_proba[:, 1])\n",
    "roc_auc = auc(fpr, tpr)\n",
    "\n",
    "fig_roc = go.Figure()\n",
    "\n",
    "fig_roc.add_trace(\n",
    " go.Scatter(\n",
    " x=fpr,\n",
    " y=tpr,\n",
    " mode='lines',\n",
    " name=f'ROC Curve (AUC = {roc_auc:.3f})',\n",
    " line=dict(color='blue', width=2)\n",
    " )\n",
    ")\n",
    "\n",
    "fig_roc.add_trace(\n",
    " go.Scatter(\n",
    " x=[0, 1],\n",
    " y=[0, 1],\n",
    " mode='lines',\n",
    " name='Random Classifier',\n",
    " line=dict(color='red', dash='dash')\n",
    " )\n",
    ")\n",
    "\n",
    "fig_roc.update_layout(\n",
    " title=\"ROC Curve - Gaussian Naive Bayes (Medical Diagnosis)\",\n",
    " xaxis_title=\"False Positive Rate\",\n",
    " yaxis_title=\"True Positive Rate\",\n",
    " height=500\n",
    ")\n",
    "fig_roc.show()"
   ]
  },
  {
   "cell_type": "code",
   "execution_count": 11,
   "id": "e1def0a6",
   "metadata": {},
   "outputs": [
    {
     "name": "stdout",
     "output_type": "stream",
     "text": [
      " 2. MULTINOMIAL NAIVE BAYES ANALYSIS\n",
      "=====================================\n",
      "Processing text documents...\n",
      "TF-IDF Matrix shape: (800, 1000)\n",
      "Vocabulary size: 1000\n",
      "Training set: (640, 1000)\n",
      "Test set: (160, 1000)\n",
      "\n",
      " Alpha Parameter Optimization:\n",
      "• α=0.1: Test Acc=1.0000, CV=1.0000±0.0000\n",
      "• α=0.5: Test Acc=1.0000, CV=1.0000±0.0000\n",
      "• α=1.0: Test Acc=1.0000, CV=1.0000±0.0000\n",
      "• α=2.0: Test Acc=1.0000, CV=1.0000±0.0000\n",
      "• α=5.0: Test Acc=1.0000, CV=1.0000±0.0000\n",
      "\n",
      " Optimal α: 0.1\n",
      "\n",
      " Final Multinomial Naive Bayes Performance:\n",
      "• α = 0.1\n",
      "• Test Accuracy: 1.0000\n",
      "\n",
      "Classification Report:\n",
      "               precision    recall  f1-score   support\n",
      "\n",
      "entertainment       1.00      1.00      1.00        40\n",
      "     politics       1.00      1.00      1.00        40\n",
      "       sports       1.00      1.00      1.00        40\n",
      "   technology       1.00      1.00      1.00        40\n",
      "\n",
      "     accuracy                           1.00       160\n",
      "    macro avg       1.00      1.00      1.00       160\n",
      " weighted avg       1.00      1.00      1.00       160\n",
      "\n"
     ]
    },
    {
     "data": {
      "application/vnd.plotly.v1+json": {
       "config": {
        "plotlyServerURL": "https://plot.ly"
       },
       "data": [
        {
         "error_y": {
          "array": {
           "bdata": "AAAAAAAAAAAAAAAAAAAAAAAAAAAAAAAAAAAAAAAAAAAAAAAAAAAAAA==",
           "dtype": "f8"
          },
          "type": "data"
         },
         "line": {
          "color": "blue"
         },
         "mode": "lines+markers",
         "name": "CV Mean",
         "type": "scatter",
         "x": [
          0.1,
          0.5,
          1,
          2,
          5
         ],
         "y": {
          "bdata": "AAAAAAAA8D8AAAAAAADwPwAAAAAAAPA/AAAAAAAA8D8AAAAAAADwPw==",
          "dtype": "f8"
         }
        },
        {
         "line": {
          "color": "red"
         },
         "mode": "lines+markers",
         "name": "Test Accuracy",
         "type": "scatter",
         "x": [
          0.1,
          0.5,
          1,
          2,
          5
         ],
         "y": {
          "bdata": "AAAAAAAA8D8AAAAAAADwPwAAAAAAAPA/AAAAAAAA8D8AAAAAAADwPw==",
          "dtype": "f8"
         }
        }
       ],
       "layout": {
        "height": 500,
        "template": {
         "data": {
          "bar": [
           {
            "error_x": {
             "color": "#2a3f5f"
            },
            "error_y": {
             "color": "#2a3f5f"
            },
            "marker": {
             "line": {
              "color": "#E5ECF6",
              "width": 0.5
             },
             "pattern": {
              "fillmode": "overlay",
              "size": 10,
              "solidity": 0.2
             }
            },
            "type": "bar"
           }
          ],
          "barpolar": [
           {
            "marker": {
             "line": {
              "color": "#E5ECF6",
              "width": 0.5
             },
             "pattern": {
              "fillmode": "overlay",
              "size": 10,
              "solidity": 0.2
             }
            },
            "type": "barpolar"
           }
          ],
          "carpet": [
           {
            "aaxis": {
             "endlinecolor": "#2a3f5f",
             "gridcolor": "white",
             "linecolor": "white",
             "minorgridcolor": "white",
             "startlinecolor": "#2a3f5f"
            },
            "baxis": {
             "endlinecolor": "#2a3f5f",
             "gridcolor": "white",
             "linecolor": "white",
             "minorgridcolor": "white",
             "startlinecolor": "#2a3f5f"
            },
            "type": "carpet"
           }
          ],
          "choropleth": [
           {
            "colorbar": {
             "outlinewidth": 0,
             "ticks": ""
            },
            "type": "choropleth"
           }
          ],
          "contour": [
           {
            "colorbar": {
             "outlinewidth": 0,
             "ticks": ""
            },
            "colorscale": [
             [
              0,
              "#0d0887"
             ],
             [
              0.1111111111111111,
              "#46039f"
             ],
             [
              0.2222222222222222,
              "#7201a8"
             ],
             [
              0.3333333333333333,
              "#9c179e"
             ],
             [
              0.4444444444444444,
              "#bd3786"
             ],
             [
              0.5555555555555556,
              "#d8576b"
             ],
             [
              0.6666666666666666,
              "#ed7953"
             ],
             [
              0.7777777777777778,
              "#fb9f3a"
             ],
             [
              0.8888888888888888,
              "#fdca26"
             ],
             [
              1,
              "#f0f921"
             ]
            ],
            "type": "contour"
           }
          ],
          "contourcarpet": [
           {
            "colorbar": {
             "outlinewidth": 0,
             "ticks": ""
            },
            "type": "contourcarpet"
           }
          ],
          "heatmap": [
           {
            "colorbar": {
             "outlinewidth": 0,
             "ticks": ""
            },
            "colorscale": [
             [
              0,
              "#0d0887"
             ],
             [
              0.1111111111111111,
              "#46039f"
             ],
             [
              0.2222222222222222,
              "#7201a8"
             ],
             [
              0.3333333333333333,
              "#9c179e"
             ],
             [
              0.4444444444444444,
              "#bd3786"
             ],
             [
              0.5555555555555556,
              "#d8576b"
             ],
             [
              0.6666666666666666,
              "#ed7953"
             ],
             [
              0.7777777777777778,
              "#fb9f3a"
             ],
             [
              0.8888888888888888,
              "#fdca26"
             ],
             [
              1,
              "#f0f921"
             ]
            ],
            "type": "heatmap"
           }
          ],
          "histogram": [
           {
            "marker": {
             "pattern": {
              "fillmode": "overlay",
              "size": 10,
              "solidity": 0.2
             }
            },
            "type": "histogram"
           }
          ],
          "histogram2d": [
           {
            "colorbar": {
             "outlinewidth": 0,
             "ticks": ""
            },
            "colorscale": [
             [
              0,
              "#0d0887"
             ],
             [
              0.1111111111111111,
              "#46039f"
             ],
             [
              0.2222222222222222,
              "#7201a8"
             ],
             [
              0.3333333333333333,
              "#9c179e"
             ],
             [
              0.4444444444444444,
              "#bd3786"
             ],
             [
              0.5555555555555556,
              "#d8576b"
             ],
             [
              0.6666666666666666,
              "#ed7953"
             ],
             [
              0.7777777777777778,
              "#fb9f3a"
             ],
             [
              0.8888888888888888,
              "#fdca26"
             ],
             [
              1,
              "#f0f921"
             ]
            ],
            "type": "histogram2d"
           }
          ],
          "histogram2dcontour": [
           {
            "colorbar": {
             "outlinewidth": 0,
             "ticks": ""
            },
            "colorscale": [
             [
              0,
              "#0d0887"
             ],
             [
              0.1111111111111111,
              "#46039f"
             ],
             [
              0.2222222222222222,
              "#7201a8"
             ],
             [
              0.3333333333333333,
              "#9c179e"
             ],
             [
              0.4444444444444444,
              "#bd3786"
             ],
             [
              0.5555555555555556,
              "#d8576b"
             ],
             [
              0.6666666666666666,
              "#ed7953"
             ],
             [
              0.7777777777777778,
              "#fb9f3a"
             ],
             [
              0.8888888888888888,
              "#fdca26"
             ],
             [
              1,
              "#f0f921"
             ]
            ],
            "type": "histogram2dcontour"
           }
          ],
          "mesh3d": [
           {
            "colorbar": {
             "outlinewidth": 0,
             "ticks": ""
            },
            "type": "mesh3d"
           }
          ],
          "parcoords": [
           {
            "line": {
             "colorbar": {
              "outlinewidth": 0,
              "ticks": ""
             }
            },
            "type": "parcoords"
           }
          ],
          "pie": [
           {
            "automargin": true,
            "type": "pie"
           }
          ],
          "scatter": [
           {
            "fillpattern": {
             "fillmode": "overlay",
             "size": 10,
             "solidity": 0.2
            },
            "type": "scatter"
           }
          ],
          "scatter3d": [
           {
            "line": {
             "colorbar": {
              "outlinewidth": 0,
              "ticks": ""
             }
            },
            "marker": {
             "colorbar": {
              "outlinewidth": 0,
              "ticks": ""
             }
            },
            "type": "scatter3d"
           }
          ],
          "scattercarpet": [
           {
            "marker": {
             "colorbar": {
              "outlinewidth": 0,
              "ticks": ""
             }
            },
            "type": "scattercarpet"
           }
          ],
          "scattergeo": [
           {
            "marker": {
             "colorbar": {
              "outlinewidth": 0,
              "ticks": ""
             }
            },
            "type": "scattergeo"
           }
          ],
          "scattergl": [
           {
            "marker": {
             "colorbar": {
              "outlinewidth": 0,
              "ticks": ""
             }
            },
            "type": "scattergl"
           }
          ],
          "scattermap": [
           {
            "marker": {
             "colorbar": {
              "outlinewidth": 0,
              "ticks": ""
             }
            },
            "type": "scattermap"
           }
          ],
          "scattermapbox": [
           {
            "marker": {
             "colorbar": {
              "outlinewidth": 0,
              "ticks": ""
             }
            },
            "type": "scattermapbox"
           }
          ],
          "scatterpolar": [
           {
            "marker": {
             "colorbar": {
              "outlinewidth": 0,
              "ticks": ""
             }
            },
            "type": "scatterpolar"
           }
          ],
          "scatterpolargl": [
           {
            "marker": {
             "colorbar": {
              "outlinewidth": 0,
              "ticks": ""
             }
            },
            "type": "scatterpolargl"
           }
          ],
          "scatterternary": [
           {
            "marker": {
             "colorbar": {
              "outlinewidth": 0,
              "ticks": ""
             }
            },
            "type": "scatterternary"
           }
          ],
          "surface": [
           {
            "colorbar": {
             "outlinewidth": 0,
             "ticks": ""
            },
            "colorscale": [
             [
              0,
              "#0d0887"
             ],
             [
              0.1111111111111111,
              "#46039f"
             ],
             [
              0.2222222222222222,
              "#7201a8"
             ],
             [
              0.3333333333333333,
              "#9c179e"
             ],
             [
              0.4444444444444444,
              "#bd3786"
             ],
             [
              0.5555555555555556,
              "#d8576b"
             ],
             [
              0.6666666666666666,
              "#ed7953"
             ],
             [
              0.7777777777777778,
              "#fb9f3a"
             ],
             [
              0.8888888888888888,
              "#fdca26"
             ],
             [
              1,
              "#f0f921"
             ]
            ],
            "type": "surface"
           }
          ],
          "table": [
           {
            "cells": {
             "fill": {
              "color": "#EBF0F8"
             },
             "line": {
              "color": "white"
             }
            },
            "header": {
             "fill": {
              "color": "#C8D4E3"
             },
             "line": {
              "color": "white"
             }
            },
            "type": "table"
           }
          ]
         },
         "layout": {
          "annotationdefaults": {
           "arrowcolor": "#2a3f5f",
           "arrowhead": 0,
           "arrowwidth": 1
          },
          "autotypenumbers": "strict",
          "coloraxis": {
           "colorbar": {
            "outlinewidth": 0,
            "ticks": ""
           }
          },
          "colorscale": {
           "diverging": [
            [
             0,
             "#8e0152"
            ],
            [
             0.1,
             "#c51b7d"
            ],
            [
             0.2,
             "#de77ae"
            ],
            [
             0.3,
             "#f1b6da"
            ],
            [
             0.4,
             "#fde0ef"
            ],
            [
             0.5,
             "#f7f7f7"
            ],
            [
             0.6,
             "#e6f5d0"
            ],
            [
             0.7,
             "#b8e186"
            ],
            [
             0.8,
             "#7fbc41"
            ],
            [
             0.9,
             "#4d9221"
            ],
            [
             1,
             "#276419"
            ]
           ],
           "sequential": [
            [
             0,
             "#0d0887"
            ],
            [
             0.1111111111111111,
             "#46039f"
            ],
            [
             0.2222222222222222,
             "#7201a8"
            ],
            [
             0.3333333333333333,
             "#9c179e"
            ],
            [
             0.4444444444444444,
             "#bd3786"
            ],
            [
             0.5555555555555556,
             "#d8576b"
            ],
            [
             0.6666666666666666,
             "#ed7953"
            ],
            [
             0.7777777777777778,
             "#fb9f3a"
            ],
            [
             0.8888888888888888,
             "#fdca26"
            ],
            [
             1,
             "#f0f921"
            ]
           ],
           "sequentialminus": [
            [
             0,
             "#0d0887"
            ],
            [
             0.1111111111111111,
             "#46039f"
            ],
            [
             0.2222222222222222,
             "#7201a8"
            ],
            [
             0.3333333333333333,
             "#9c179e"
            ],
            [
             0.4444444444444444,
             "#bd3786"
            ],
            [
             0.5555555555555556,
             "#d8576b"
            ],
            [
             0.6666666666666666,
             "#ed7953"
            ],
            [
             0.7777777777777778,
             "#fb9f3a"
            ],
            [
             0.8888888888888888,
             "#fdca26"
            ],
            [
             1,
             "#f0f921"
            ]
           ]
          },
          "colorway": [
           "#636efa",
           "#EF553B",
           "#00cc96",
           "#ab63fa",
           "#FFA15A",
           "#19d3f3",
           "#FF6692",
           "#B6E880",
           "#FF97FF",
           "#FECB52"
          ],
          "font": {
           "color": "#2a3f5f"
          },
          "geo": {
           "bgcolor": "white",
           "lakecolor": "white",
           "landcolor": "#E5ECF6",
           "showlakes": true,
           "showland": true,
           "subunitcolor": "white"
          },
          "hoverlabel": {
           "align": "left"
          },
          "hovermode": "closest",
          "mapbox": {
           "style": "light"
          },
          "paper_bgcolor": "white",
          "plot_bgcolor": "#E5ECF6",
          "polar": {
           "angularaxis": {
            "gridcolor": "white",
            "linecolor": "white",
            "ticks": ""
           },
           "bgcolor": "#E5ECF6",
           "radialaxis": {
            "gridcolor": "white",
            "linecolor": "white",
            "ticks": ""
           }
          },
          "scene": {
           "xaxis": {
            "backgroundcolor": "#E5ECF6",
            "gridcolor": "white",
            "gridwidth": 2,
            "linecolor": "white",
            "showbackground": true,
            "ticks": "",
            "zerolinecolor": "white"
           },
           "yaxis": {
            "backgroundcolor": "#E5ECF6",
            "gridcolor": "white",
            "gridwidth": 2,
            "linecolor": "white",
            "showbackground": true,
            "ticks": "",
            "zerolinecolor": "white"
           },
           "zaxis": {
            "backgroundcolor": "#E5ECF6",
            "gridcolor": "white",
            "gridwidth": 2,
            "linecolor": "white",
            "showbackground": true,
            "ticks": "",
            "zerolinecolor": "white"
           }
          },
          "shapedefaults": {
           "line": {
            "color": "#2a3f5f"
           }
          },
          "ternary": {
           "aaxis": {
            "gridcolor": "white",
            "linecolor": "white",
            "ticks": ""
           },
           "baxis": {
            "gridcolor": "white",
            "linecolor": "white",
            "ticks": ""
           },
           "bgcolor": "#E5ECF6",
           "caxis": {
            "gridcolor": "white",
            "linecolor": "white",
            "ticks": ""
           }
          },
          "title": {
           "x": 0.05
          },
          "xaxis": {
           "automargin": true,
           "gridcolor": "white",
           "linecolor": "white",
           "ticks": "",
           "title": {
            "standoff": 15
           },
           "zerolinecolor": "white",
           "zerolinewidth": 2
          },
          "yaxis": {
           "automargin": true,
           "gridcolor": "white",
           "linecolor": "white",
           "ticks": "",
           "title": {
            "standoff": 15
           },
           "zerolinecolor": "white",
           "zerolinewidth": 2
          }
         }
        },
        "title": {
         "text": "Multinomial Naive Bayes: Alpha Parameter Effect"
        },
        "xaxis": {
         "title": {
          "text": "Alpha (Smoothing Parameter)"
         }
        },
        "yaxis": {
         "title": {
          "text": "Accuracy"
         }
        }
       }
      }
     },
     "metadata": {},
     "output_type": "display_data"
    },
    {
     "name": "stdout",
     "output_type": "stream",
     "text": [
      "\n",
      " Top Words per Topic:\n",
      "\n",
      "ENTERTAINMENT:\n",
      " • album: 0.0306\n",
      " • star: 0.0301\n",
      " • actress: 0.0299\n",
      " • artist: 0.0289\n",
      " • song: 0.0277\n",
      " • music: 0.0275\n",
      " • film: 0.0263\n",
      " • celebrity: 0.0256\n",
      " • movie: 0.0254\n",
      " • theater: 0.0254\n",
      "\n",
      "POLITICS:\n",
      " • policy: 0.0305\n",
      " • constitution: 0.0301\n",
      " • democrat: 0.0284\n",
      " • debate: 0.0279\n",
      " • vote: 0.0277\n",
      " • court: 0.0265\n",
      " • government: 0.0262\n",
      " • citizen: 0.0260\n",
      " • democracy: 0.0257\n",
      " • republican: 0.0255\n",
      "\n",
      "SPORTS:\n",
      " • olympic: 0.0298\n",
      " • score: 0.0291\n",
      " • championship: 0.0286\n",
      " • coach: 0.0275\n",
      " • competition: 0.0275\n",
      " • basketball: 0.0265\n",
      " • tournament: 0.0258\n",
      " • baseball: 0.0258\n",
      " • win: 0.0256\n",
      " • football: 0.0256\n",
      "\n",
      "TECHNOLOGY:\n",
      " • digital: 0.0313\n",
      " • computer: 0.0288\n",
      " • algorithm: 0.0277\n",
      " • security: 0.0272\n",
      " • intelligence: 0.0272\n",
      " • database: 0.0270\n",
      " • code: 0.0263\n",
      " • machine: 0.0261\n",
      " • learning: 0.0252\n",
      " • cloud: 0.0248\n"
     ]
    },
    {
     "data": {
      "application/vnd.plotly.v1+json": {
       "config": {
        "plotlyServerURL": "https://plot.ly"
       },
       "data": [
        {
         "marker": {
          "color": "rgb(228,26,28)"
         },
         "name": "entertainment",
         "orientation": "h",
         "showlegend": false,
         "type": "bar",
         "x": [
          0.030616634799235203,
          0.030138623326959862,
          0.029899617590822193,
          0.02894359464627153,
          0.02774856596558319,
          0.027509560229445514,
          0.026314531548757167,
          0.02559751434034417,
          0.025358508604206496,
          0.025358508604206496
         ],
         "xaxis": "x",
         "y": [
          "album",
          "star",
          "actress",
          "artist",
          "song",
          "music",
          "film",
          "celebrity",
          "movie",
          "theater"
         ],
         "yaxis": "y"
        },
        {
         "marker": {
          "color": "rgb(55,126,184)"
         },
         "name": "politics",
         "orientation": "h",
         "showlegend": false,
         "type": "bar",
         "x": [
          0.03053820278712156,
          0.030057664584334443,
          0.028375780874579506,
          0.0278952426717924,
          0.02765497357039883,
          0.026453628063431017,
          0.026213358962037456,
          0.025973089860643898,
          0.02573282075925034,
          0.025492551657856775
         ],
         "xaxis": "x2",
         "y": [
          "policy",
          "constitution",
          "democrat",
          "debate",
          "vote",
          "court",
          "government",
          "citizen",
          "democracy",
          "republican"
         ],
         "yaxis": "y2"
        },
        {
         "marker": {
          "color": "rgb(77,175,74)"
         },
         "name": "sports",
         "orientation": "h",
         "showlegend": false,
         "type": "bar",
         "x": [
          0.02980456026058633,
          0.02910656119125175,
          0.028641228478362035,
          0.027477896696137732,
          0.027477896696137732,
          0.026547231270358306,
          0.02584923220102374,
          0.02584923220102374,
          0.025616565844578866,
          0.025616565844578866
         ],
         "xaxis": "x3",
         "y": [
          "olympic",
          "score",
          "championship",
          "coach",
          "competition",
          "basketball",
          "tournament",
          "baseball",
          "win",
          "football"
         ],
         "yaxis": "y3"
        },
        {
         "marker": {
          "color": "rgb(152,78,163)"
         },
         "name": "technology",
         "orientation": "h",
         "showlegend": false,
         "type": "bar",
         "x": [
          0.03127248201438848,
          0.02879946043165468,
          0.027675359712230216,
          0.027225719424460434,
          0.027225719424460434,
          0.02700089928057553,
          0.026326438848920847,
          0.026101618705035974,
          0.025202338129496394,
          0.024752697841726606
         ],
         "xaxis": "x4",
         "y": [
          "digital",
          "computer",
          "algorithm",
          "security",
          "intelligence",
          "database",
          "code",
          "machine",
          "learning",
          "cloud"
         ],
         "yaxis": "y4"
        }
       ],
       "layout": {
        "annotations": [
         {
          "font": {
           "size": 16
          },
          "showarrow": false,
          "text": "Entertainment",
          "x": 0.225,
          "xanchor": "center",
          "xref": "paper",
          "y": 1,
          "yanchor": "bottom",
          "yref": "paper"
         },
         {
          "font": {
           "size": 16
          },
          "showarrow": false,
          "text": "Politics",
          "x": 0.775,
          "xanchor": "center",
          "xref": "paper",
          "y": 1,
          "yanchor": "bottom",
          "yref": "paper"
         },
         {
          "font": {
           "size": 16
          },
          "showarrow": false,
          "text": "Sports",
          "x": 0.225,
          "xanchor": "center",
          "xref": "paper",
          "y": 0.375,
          "yanchor": "bottom",
          "yref": "paper"
         },
         {
          "font": {
           "size": 16
          },
          "showarrow": false,
          "text": "Technology",
          "x": 0.775,
          "xanchor": "center",
          "xref": "paper",
          "y": 0.375,
          "yanchor": "bottom",
          "yref": "paper"
         }
        ],
        "height": 600,
        "template": {
         "data": {
          "bar": [
           {
            "error_x": {
             "color": "#2a3f5f"
            },
            "error_y": {
             "color": "#2a3f5f"
            },
            "marker": {
             "line": {
              "color": "#E5ECF6",
              "width": 0.5
             },
             "pattern": {
              "fillmode": "overlay",
              "size": 10,
              "solidity": 0.2
             }
            },
            "type": "bar"
           }
          ],
          "barpolar": [
           {
            "marker": {
             "line": {
              "color": "#E5ECF6",
              "width": 0.5
             },
             "pattern": {
              "fillmode": "overlay",
              "size": 10,
              "solidity": 0.2
             }
            },
            "type": "barpolar"
           }
          ],
          "carpet": [
           {
            "aaxis": {
             "endlinecolor": "#2a3f5f",
             "gridcolor": "white",
             "linecolor": "white",
             "minorgridcolor": "white",
             "startlinecolor": "#2a3f5f"
            },
            "baxis": {
             "endlinecolor": "#2a3f5f",
             "gridcolor": "white",
             "linecolor": "white",
             "minorgridcolor": "white",
             "startlinecolor": "#2a3f5f"
            },
            "type": "carpet"
           }
          ],
          "choropleth": [
           {
            "colorbar": {
             "outlinewidth": 0,
             "ticks": ""
            },
            "type": "choropleth"
           }
          ],
          "contour": [
           {
            "colorbar": {
             "outlinewidth": 0,
             "ticks": ""
            },
            "colorscale": [
             [
              0,
              "#0d0887"
             ],
             [
              0.1111111111111111,
              "#46039f"
             ],
             [
              0.2222222222222222,
              "#7201a8"
             ],
             [
              0.3333333333333333,
              "#9c179e"
             ],
             [
              0.4444444444444444,
              "#bd3786"
             ],
             [
              0.5555555555555556,
              "#d8576b"
             ],
             [
              0.6666666666666666,
              "#ed7953"
             ],
             [
              0.7777777777777778,
              "#fb9f3a"
             ],
             [
              0.8888888888888888,
              "#fdca26"
             ],
             [
              1,
              "#f0f921"
             ]
            ],
            "type": "contour"
           }
          ],
          "contourcarpet": [
           {
            "colorbar": {
             "outlinewidth": 0,
             "ticks": ""
            },
            "type": "contourcarpet"
           }
          ],
          "heatmap": [
           {
            "colorbar": {
             "outlinewidth": 0,
             "ticks": ""
            },
            "colorscale": [
             [
              0,
              "#0d0887"
             ],
             [
              0.1111111111111111,
              "#46039f"
             ],
             [
              0.2222222222222222,
              "#7201a8"
             ],
             [
              0.3333333333333333,
              "#9c179e"
             ],
             [
              0.4444444444444444,
              "#bd3786"
             ],
             [
              0.5555555555555556,
              "#d8576b"
             ],
             [
              0.6666666666666666,
              "#ed7953"
             ],
             [
              0.7777777777777778,
              "#fb9f3a"
             ],
             [
              0.8888888888888888,
              "#fdca26"
             ],
             [
              1,
              "#f0f921"
             ]
            ],
            "type": "heatmap"
           }
          ],
          "histogram": [
           {
            "marker": {
             "pattern": {
              "fillmode": "overlay",
              "size": 10,
              "solidity": 0.2
             }
            },
            "type": "histogram"
           }
          ],
          "histogram2d": [
           {
            "colorbar": {
             "outlinewidth": 0,
             "ticks": ""
            },
            "colorscale": [
             [
              0,
              "#0d0887"
             ],
             [
              0.1111111111111111,
              "#46039f"
             ],
             [
              0.2222222222222222,
              "#7201a8"
             ],
             [
              0.3333333333333333,
              "#9c179e"
             ],
             [
              0.4444444444444444,
              "#bd3786"
             ],
             [
              0.5555555555555556,
              "#d8576b"
             ],
             [
              0.6666666666666666,
              "#ed7953"
             ],
             [
              0.7777777777777778,
              "#fb9f3a"
             ],
             [
              0.8888888888888888,
              "#fdca26"
             ],
             [
              1,
              "#f0f921"
             ]
            ],
            "type": "histogram2d"
           }
          ],
          "histogram2dcontour": [
           {
            "colorbar": {
             "outlinewidth": 0,
             "ticks": ""
            },
            "colorscale": [
             [
              0,
              "#0d0887"
             ],
             [
              0.1111111111111111,
              "#46039f"
             ],
             [
              0.2222222222222222,
              "#7201a8"
             ],
             [
              0.3333333333333333,
              "#9c179e"
             ],
             [
              0.4444444444444444,
              "#bd3786"
             ],
             [
              0.5555555555555556,
              "#d8576b"
             ],
             [
              0.6666666666666666,
              "#ed7953"
             ],
             [
              0.7777777777777778,
              "#fb9f3a"
             ],
             [
              0.8888888888888888,
              "#fdca26"
             ],
             [
              1,
              "#f0f921"
             ]
            ],
            "type": "histogram2dcontour"
           }
          ],
          "mesh3d": [
           {
            "colorbar": {
             "outlinewidth": 0,
             "ticks": ""
            },
            "type": "mesh3d"
           }
          ],
          "parcoords": [
           {
            "line": {
             "colorbar": {
              "outlinewidth": 0,
              "ticks": ""
             }
            },
            "type": "parcoords"
           }
          ],
          "pie": [
           {
            "automargin": true,
            "type": "pie"
           }
          ],
          "scatter": [
           {
            "fillpattern": {
             "fillmode": "overlay",
             "size": 10,
             "solidity": 0.2
            },
            "type": "scatter"
           }
          ],
          "scatter3d": [
           {
            "line": {
             "colorbar": {
              "outlinewidth": 0,
              "ticks": ""
             }
            },
            "marker": {
             "colorbar": {
              "outlinewidth": 0,
              "ticks": ""
             }
            },
            "type": "scatter3d"
           }
          ],
          "scattercarpet": [
           {
            "marker": {
             "colorbar": {
              "outlinewidth": 0,
              "ticks": ""
             }
            },
            "type": "scattercarpet"
           }
          ],
          "scattergeo": [
           {
            "marker": {
             "colorbar": {
              "outlinewidth": 0,
              "ticks": ""
             }
            },
            "type": "scattergeo"
           }
          ],
          "scattergl": [
           {
            "marker": {
             "colorbar": {
              "outlinewidth": 0,
              "ticks": ""
             }
            },
            "type": "scattergl"
           }
          ],
          "scattermap": [
           {
            "marker": {
             "colorbar": {
              "outlinewidth": 0,
              "ticks": ""
             }
            },
            "type": "scattermap"
           }
          ],
          "scattermapbox": [
           {
            "marker": {
             "colorbar": {
              "outlinewidth": 0,
              "ticks": ""
             }
            },
            "type": "scattermapbox"
           }
          ],
          "scatterpolar": [
           {
            "marker": {
             "colorbar": {
              "outlinewidth": 0,
              "ticks": ""
             }
            },
            "type": "scatterpolar"
           }
          ],
          "scatterpolargl": [
           {
            "marker": {
             "colorbar": {
              "outlinewidth": 0,
              "ticks": ""
             }
            },
            "type": "scatterpolargl"
           }
          ],
          "scatterternary": [
           {
            "marker": {
             "colorbar": {
              "outlinewidth": 0,
              "ticks": ""
             }
            },
            "type": "scatterternary"
           }
          ],
          "surface": [
           {
            "colorbar": {
             "outlinewidth": 0,
             "ticks": ""
            },
            "colorscale": [
             [
              0,
              "#0d0887"
             ],
             [
              0.1111111111111111,
              "#46039f"
             ],
             [
              0.2222222222222222,
              "#7201a8"
             ],
             [
              0.3333333333333333,
              "#9c179e"
             ],
             [
              0.4444444444444444,
              "#bd3786"
             ],
             [
              0.5555555555555556,
              "#d8576b"
             ],
             [
              0.6666666666666666,
              "#ed7953"
             ],
             [
              0.7777777777777778,
              "#fb9f3a"
             ],
             [
              0.8888888888888888,
              "#fdca26"
             ],
             [
              1,
              "#f0f921"
             ]
            ],
            "type": "surface"
           }
          ],
          "table": [
           {
            "cells": {
             "fill": {
              "color": "#EBF0F8"
             },
             "line": {
              "color": "white"
             }
            },
            "header": {
             "fill": {
              "color": "#C8D4E3"
             },
             "line": {
              "color": "white"
             }
            },
            "type": "table"
           }
          ]
         },
         "layout": {
          "annotationdefaults": {
           "arrowcolor": "#2a3f5f",
           "arrowhead": 0,
           "arrowwidth": 1
          },
          "autotypenumbers": "strict",
          "coloraxis": {
           "colorbar": {
            "outlinewidth": 0,
            "ticks": ""
           }
          },
          "colorscale": {
           "diverging": [
            [
             0,
             "#8e0152"
            ],
            [
             0.1,
             "#c51b7d"
            ],
            [
             0.2,
             "#de77ae"
            ],
            [
             0.3,
             "#f1b6da"
            ],
            [
             0.4,
             "#fde0ef"
            ],
            [
             0.5,
             "#f7f7f7"
            ],
            [
             0.6,
             "#e6f5d0"
            ],
            [
             0.7,
             "#b8e186"
            ],
            [
             0.8,
             "#7fbc41"
            ],
            [
             0.9,
             "#4d9221"
            ],
            [
             1,
             "#276419"
            ]
           ],
           "sequential": [
            [
             0,
             "#0d0887"
            ],
            [
             0.1111111111111111,
             "#46039f"
            ],
            [
             0.2222222222222222,
             "#7201a8"
            ],
            [
             0.3333333333333333,
             "#9c179e"
            ],
            [
             0.4444444444444444,
             "#bd3786"
            ],
            [
             0.5555555555555556,
             "#d8576b"
            ],
            [
             0.6666666666666666,
             "#ed7953"
            ],
            [
             0.7777777777777778,
             "#fb9f3a"
            ],
            [
             0.8888888888888888,
             "#fdca26"
            ],
            [
             1,
             "#f0f921"
            ]
           ],
           "sequentialminus": [
            [
             0,
             "#0d0887"
            ],
            [
             0.1111111111111111,
             "#46039f"
            ],
            [
             0.2222222222222222,
             "#7201a8"
            ],
            [
             0.3333333333333333,
             "#9c179e"
            ],
            [
             0.4444444444444444,
             "#bd3786"
            ],
            [
             0.5555555555555556,
             "#d8576b"
            ],
            [
             0.6666666666666666,
             "#ed7953"
            ],
            [
             0.7777777777777778,
             "#fb9f3a"
            ],
            [
             0.8888888888888888,
             "#fdca26"
            ],
            [
             1,
             "#f0f921"
            ]
           ]
          },
          "colorway": [
           "#636efa",
           "#EF553B",
           "#00cc96",
           "#ab63fa",
           "#FFA15A",
           "#19d3f3",
           "#FF6692",
           "#B6E880",
           "#FF97FF",
           "#FECB52"
          ],
          "font": {
           "color": "#2a3f5f"
          },
          "geo": {
           "bgcolor": "white",
           "lakecolor": "white",
           "landcolor": "#E5ECF6",
           "showlakes": true,
           "showland": true,
           "subunitcolor": "white"
          },
          "hoverlabel": {
           "align": "left"
          },
          "hovermode": "closest",
          "mapbox": {
           "style": "light"
          },
          "paper_bgcolor": "white",
          "plot_bgcolor": "#E5ECF6",
          "polar": {
           "angularaxis": {
            "gridcolor": "white",
            "linecolor": "white",
            "ticks": ""
           },
           "bgcolor": "#E5ECF6",
           "radialaxis": {
            "gridcolor": "white",
            "linecolor": "white",
            "ticks": ""
           }
          },
          "scene": {
           "xaxis": {
            "backgroundcolor": "#E5ECF6",
            "gridcolor": "white",
            "gridwidth": 2,
            "linecolor": "white",
            "showbackground": true,
            "ticks": "",
            "zerolinecolor": "white"
           },
           "yaxis": {
            "backgroundcolor": "#E5ECF6",
            "gridcolor": "white",
            "gridwidth": 2,
            "linecolor": "white",
            "showbackground": true,
            "ticks": "",
            "zerolinecolor": "white"
           },
           "zaxis": {
            "backgroundcolor": "#E5ECF6",
            "gridcolor": "white",
            "gridwidth": 2,
            "linecolor": "white",
            "showbackground": true,
            "ticks": "",
            "zerolinecolor": "white"
           }
          },
          "shapedefaults": {
           "line": {
            "color": "#2a3f5f"
           }
          },
          "ternary": {
           "aaxis": {
            "gridcolor": "white",
            "linecolor": "white",
            "ticks": ""
           },
           "baxis": {
            "gridcolor": "white",
            "linecolor": "white",
            "ticks": ""
           },
           "bgcolor": "#E5ECF6",
           "caxis": {
            "gridcolor": "white",
            "linecolor": "white",
            "ticks": ""
           }
          },
          "title": {
           "x": 0.05
          },
          "xaxis": {
           "automargin": true,
           "gridcolor": "white",
           "linecolor": "white",
           "ticks": "",
           "title": {
            "standoff": 15
           },
           "zerolinecolor": "white",
           "zerolinewidth": 2
          },
          "yaxis": {
           "automargin": true,
           "gridcolor": "white",
           "linecolor": "white",
           "ticks": "",
           "title": {
            "standoff": 15
           },
           "zerolinecolor": "white",
           "zerolinewidth": 2
          }
         }
        },
        "title": {
         "text": "Top Words by Topic (Multinomial Naive Bayes)"
        },
        "xaxis": {
         "anchor": "y",
         "domain": [
          0,
          0.45
         ]
        },
        "xaxis2": {
         "anchor": "y2",
         "domain": [
          0.55,
          1
         ]
        },
        "xaxis3": {
         "anchor": "y3",
         "domain": [
          0,
          0.45
         ]
        },
        "xaxis4": {
         "anchor": "y4",
         "domain": [
          0.55,
          1
         ]
        },
        "yaxis": {
         "anchor": "x",
         "domain": [
          0.625,
          1
         ]
        },
        "yaxis2": {
         "anchor": "x2",
         "domain": [
          0.625,
          1
         ]
        },
        "yaxis3": {
         "anchor": "x3",
         "domain": [
          0,
          0.375
         ]
        },
        "yaxis4": {
         "anchor": "x4",
         "domain": [
          0,
          0.375
         ]
        }
       }
      }
     },
     "metadata": {},
     "output_type": "display_data"
    },
    {
     "data": {
      "application/vnd.plotly.v1+json": {
       "config": {
        "plotlyServerURL": "https://plot.ly"
       },
       "data": [
        {
         "colorscale": [
          [
           0,
           "rgb(247,251,255)"
          ],
          [
           0.125,
           "rgb(222,235,247)"
          ],
          [
           0.25,
           "rgb(198,219,239)"
          ],
          [
           0.375,
           "rgb(158,202,225)"
          ],
          [
           0.5,
           "rgb(107,174,214)"
          ],
          [
           0.625,
           "rgb(66,146,198)"
          ],
          [
           0.75,
           "rgb(33,113,181)"
          ],
          [
           0.875,
           "rgb(8,81,156)"
          ],
          [
           1,
           "rgb(8,48,107)"
          ]
         ],
         "reversescale": false,
         "showscale": true,
         "type": "heatmap",
         "x": [
          "entertainment",
          "politics",
          "sports",
          "technology"
         ],
         "y": [
          "entertainment",
          "politics",
          "sports",
          "technology"
         ],
         "z": {
          "bdata": "KAAAAAAoAAAAACgAAAAAKA==",
          "dtype": "i1",
          "shape": "4, 4"
         }
        }
       ],
       "layout": {
        "annotations": [
         {
          "font": {
           "color": "#FFFFFF"
          },
          "showarrow": false,
          "text": "40",
          "x": "entertainment",
          "xref": "x",
          "y": "entertainment",
          "yref": "y"
         },
         {
          "font": {
           "color": "#000000"
          },
          "showarrow": false,
          "text": "0",
          "x": "politics",
          "xref": "x",
          "y": "entertainment",
          "yref": "y"
         },
         {
          "font": {
           "color": "#000000"
          },
          "showarrow": false,
          "text": "0",
          "x": "sports",
          "xref": "x",
          "y": "entertainment",
          "yref": "y"
         },
         {
          "font": {
           "color": "#000000"
          },
          "showarrow": false,
          "text": "0",
          "x": "technology",
          "xref": "x",
          "y": "entertainment",
          "yref": "y"
         },
         {
          "font": {
           "color": "#000000"
          },
          "showarrow": false,
          "text": "0",
          "x": "entertainment",
          "xref": "x",
          "y": "politics",
          "yref": "y"
         },
         {
          "font": {
           "color": "#FFFFFF"
          },
          "showarrow": false,
          "text": "40",
          "x": "politics",
          "xref": "x",
          "y": "politics",
          "yref": "y"
         },
         {
          "font": {
           "color": "#000000"
          },
          "showarrow": false,
          "text": "0",
          "x": "sports",
          "xref": "x",
          "y": "politics",
          "yref": "y"
         },
         {
          "font": {
           "color": "#000000"
          },
          "showarrow": false,
          "text": "0",
          "x": "technology",
          "xref": "x",
          "y": "politics",
          "yref": "y"
         },
         {
          "font": {
           "color": "#000000"
          },
          "showarrow": false,
          "text": "0",
          "x": "entertainment",
          "xref": "x",
          "y": "sports",
          "yref": "y"
         },
         {
          "font": {
           "color": "#000000"
          },
          "showarrow": false,
          "text": "0",
          "x": "politics",
          "xref": "x",
          "y": "sports",
          "yref": "y"
         },
         {
          "font": {
           "color": "#FFFFFF"
          },
          "showarrow": false,
          "text": "40",
          "x": "sports",
          "xref": "x",
          "y": "sports",
          "yref": "y"
         },
         {
          "font": {
           "color": "#000000"
          },
          "showarrow": false,
          "text": "0",
          "x": "technology",
          "xref": "x",
          "y": "sports",
          "yref": "y"
         },
         {
          "font": {
           "color": "#000000"
          },
          "showarrow": false,
          "text": "0",
          "x": "entertainment",
          "xref": "x",
          "y": "technology",
          "yref": "y"
         },
         {
          "font": {
           "color": "#000000"
          },
          "showarrow": false,
          "text": "0",
          "x": "politics",
          "xref": "x",
          "y": "technology",
          "yref": "y"
         },
         {
          "font": {
           "color": "#000000"
          },
          "showarrow": false,
          "text": "0",
          "x": "sports",
          "xref": "x",
          "y": "technology",
          "yref": "y"
         },
         {
          "font": {
           "color": "#FFFFFF"
          },
          "showarrow": false,
          "text": "40",
          "x": "technology",
          "xref": "x",
          "y": "technology",
          "yref": "y"
         }
        ],
        "height": 500,
        "template": {
         "data": {
          "bar": [
           {
            "error_x": {
             "color": "#2a3f5f"
            },
            "error_y": {
             "color": "#2a3f5f"
            },
            "marker": {
             "line": {
              "color": "#E5ECF6",
              "width": 0.5
             },
             "pattern": {
              "fillmode": "overlay",
              "size": 10,
              "solidity": 0.2
             }
            },
            "type": "bar"
           }
          ],
          "barpolar": [
           {
            "marker": {
             "line": {
              "color": "#E5ECF6",
              "width": 0.5
             },
             "pattern": {
              "fillmode": "overlay",
              "size": 10,
              "solidity": 0.2
             }
            },
            "type": "barpolar"
           }
          ],
          "carpet": [
           {
            "aaxis": {
             "endlinecolor": "#2a3f5f",
             "gridcolor": "white",
             "linecolor": "white",
             "minorgridcolor": "white",
             "startlinecolor": "#2a3f5f"
            },
            "baxis": {
             "endlinecolor": "#2a3f5f",
             "gridcolor": "white",
             "linecolor": "white",
             "minorgridcolor": "white",
             "startlinecolor": "#2a3f5f"
            },
            "type": "carpet"
           }
          ],
          "choropleth": [
           {
            "colorbar": {
             "outlinewidth": 0,
             "ticks": ""
            },
            "type": "choropleth"
           }
          ],
          "contour": [
           {
            "colorbar": {
             "outlinewidth": 0,
             "ticks": ""
            },
            "colorscale": [
             [
              0,
              "#0d0887"
             ],
             [
              0.1111111111111111,
              "#46039f"
             ],
             [
              0.2222222222222222,
              "#7201a8"
             ],
             [
              0.3333333333333333,
              "#9c179e"
             ],
             [
              0.4444444444444444,
              "#bd3786"
             ],
             [
              0.5555555555555556,
              "#d8576b"
             ],
             [
              0.6666666666666666,
              "#ed7953"
             ],
             [
              0.7777777777777778,
              "#fb9f3a"
             ],
             [
              0.8888888888888888,
              "#fdca26"
             ],
             [
              1,
              "#f0f921"
             ]
            ],
            "type": "contour"
           }
          ],
          "contourcarpet": [
           {
            "colorbar": {
             "outlinewidth": 0,
             "ticks": ""
            },
            "type": "contourcarpet"
           }
          ],
          "heatmap": [
           {
            "colorbar": {
             "outlinewidth": 0,
             "ticks": ""
            },
            "colorscale": [
             [
              0,
              "#0d0887"
             ],
             [
              0.1111111111111111,
              "#46039f"
             ],
             [
              0.2222222222222222,
              "#7201a8"
             ],
             [
              0.3333333333333333,
              "#9c179e"
             ],
             [
              0.4444444444444444,
              "#bd3786"
             ],
             [
              0.5555555555555556,
              "#d8576b"
             ],
             [
              0.6666666666666666,
              "#ed7953"
             ],
             [
              0.7777777777777778,
              "#fb9f3a"
             ],
             [
              0.8888888888888888,
              "#fdca26"
             ],
             [
              1,
              "#f0f921"
             ]
            ],
            "type": "heatmap"
           }
          ],
          "histogram": [
           {
            "marker": {
             "pattern": {
              "fillmode": "overlay",
              "size": 10,
              "solidity": 0.2
             }
            },
            "type": "histogram"
           }
          ],
          "histogram2d": [
           {
            "colorbar": {
             "outlinewidth": 0,
             "ticks": ""
            },
            "colorscale": [
             [
              0,
              "#0d0887"
             ],
             [
              0.1111111111111111,
              "#46039f"
             ],
             [
              0.2222222222222222,
              "#7201a8"
             ],
             [
              0.3333333333333333,
              "#9c179e"
             ],
             [
              0.4444444444444444,
              "#bd3786"
             ],
             [
              0.5555555555555556,
              "#d8576b"
             ],
             [
              0.6666666666666666,
              "#ed7953"
             ],
             [
              0.7777777777777778,
              "#fb9f3a"
             ],
             [
              0.8888888888888888,
              "#fdca26"
             ],
             [
              1,
              "#f0f921"
             ]
            ],
            "type": "histogram2d"
           }
          ],
          "histogram2dcontour": [
           {
            "colorbar": {
             "outlinewidth": 0,
             "ticks": ""
            },
            "colorscale": [
             [
              0,
              "#0d0887"
             ],
             [
              0.1111111111111111,
              "#46039f"
             ],
             [
              0.2222222222222222,
              "#7201a8"
             ],
             [
              0.3333333333333333,
              "#9c179e"
             ],
             [
              0.4444444444444444,
              "#bd3786"
             ],
             [
              0.5555555555555556,
              "#d8576b"
             ],
             [
              0.6666666666666666,
              "#ed7953"
             ],
             [
              0.7777777777777778,
              "#fb9f3a"
             ],
             [
              0.8888888888888888,
              "#fdca26"
             ],
             [
              1,
              "#f0f921"
             ]
            ],
            "type": "histogram2dcontour"
           }
          ],
          "mesh3d": [
           {
            "colorbar": {
             "outlinewidth": 0,
             "ticks": ""
            },
            "type": "mesh3d"
           }
          ],
          "parcoords": [
           {
            "line": {
             "colorbar": {
              "outlinewidth": 0,
              "ticks": ""
             }
            },
            "type": "parcoords"
           }
          ],
          "pie": [
           {
            "automargin": true,
            "type": "pie"
           }
          ],
          "scatter": [
           {
            "fillpattern": {
             "fillmode": "overlay",
             "size": 10,
             "solidity": 0.2
            },
            "type": "scatter"
           }
          ],
          "scatter3d": [
           {
            "line": {
             "colorbar": {
              "outlinewidth": 0,
              "ticks": ""
             }
            },
            "marker": {
             "colorbar": {
              "outlinewidth": 0,
              "ticks": ""
             }
            },
            "type": "scatter3d"
           }
          ],
          "scattercarpet": [
           {
            "marker": {
             "colorbar": {
              "outlinewidth": 0,
              "ticks": ""
             }
            },
            "type": "scattercarpet"
           }
          ],
          "scattergeo": [
           {
            "marker": {
             "colorbar": {
              "outlinewidth": 0,
              "ticks": ""
             }
            },
            "type": "scattergeo"
           }
          ],
          "scattergl": [
           {
            "marker": {
             "colorbar": {
              "outlinewidth": 0,
              "ticks": ""
             }
            },
            "type": "scattergl"
           }
          ],
          "scattermap": [
           {
            "marker": {
             "colorbar": {
              "outlinewidth": 0,
              "ticks": ""
             }
            },
            "type": "scattermap"
           }
          ],
          "scattermapbox": [
           {
            "marker": {
             "colorbar": {
              "outlinewidth": 0,
              "ticks": ""
             }
            },
            "type": "scattermapbox"
           }
          ],
          "scatterpolar": [
           {
            "marker": {
             "colorbar": {
              "outlinewidth": 0,
              "ticks": ""
             }
            },
            "type": "scatterpolar"
           }
          ],
          "scatterpolargl": [
           {
            "marker": {
             "colorbar": {
              "outlinewidth": 0,
              "ticks": ""
             }
            },
            "type": "scatterpolargl"
           }
          ],
          "scatterternary": [
           {
            "marker": {
             "colorbar": {
              "outlinewidth": 0,
              "ticks": ""
             }
            },
            "type": "scatterternary"
           }
          ],
          "surface": [
           {
            "colorbar": {
             "outlinewidth": 0,
             "ticks": ""
            },
            "colorscale": [
             [
              0,
              "#0d0887"
             ],
             [
              0.1111111111111111,
              "#46039f"
             ],
             [
              0.2222222222222222,
              "#7201a8"
             ],
             [
              0.3333333333333333,
              "#9c179e"
             ],
             [
              0.4444444444444444,
              "#bd3786"
             ],
             [
              0.5555555555555556,
              "#d8576b"
             ],
             [
              0.6666666666666666,
              "#ed7953"
             ],
             [
              0.7777777777777778,
              "#fb9f3a"
             ],
             [
              0.8888888888888888,
              "#fdca26"
             ],
             [
              1,
              "#f0f921"
             ]
            ],
            "type": "surface"
           }
          ],
          "table": [
           {
            "cells": {
             "fill": {
              "color": "#EBF0F8"
             },
             "line": {
              "color": "white"
             }
            },
            "header": {
             "fill": {
              "color": "#C8D4E3"
             },
             "line": {
              "color": "white"
             }
            },
            "type": "table"
           }
          ]
         },
         "layout": {
          "annotationdefaults": {
           "arrowcolor": "#2a3f5f",
           "arrowhead": 0,
           "arrowwidth": 1
          },
          "autotypenumbers": "strict",
          "coloraxis": {
           "colorbar": {
            "outlinewidth": 0,
            "ticks": ""
           }
          },
          "colorscale": {
           "diverging": [
            [
             0,
             "#8e0152"
            ],
            [
             0.1,
             "#c51b7d"
            ],
            [
             0.2,
             "#de77ae"
            ],
            [
             0.3,
             "#f1b6da"
            ],
            [
             0.4,
             "#fde0ef"
            ],
            [
             0.5,
             "#f7f7f7"
            ],
            [
             0.6,
             "#e6f5d0"
            ],
            [
             0.7,
             "#b8e186"
            ],
            [
             0.8,
             "#7fbc41"
            ],
            [
             0.9,
             "#4d9221"
            ],
            [
             1,
             "#276419"
            ]
           ],
           "sequential": [
            [
             0,
             "#0d0887"
            ],
            [
             0.1111111111111111,
             "#46039f"
            ],
            [
             0.2222222222222222,
             "#7201a8"
            ],
            [
             0.3333333333333333,
             "#9c179e"
            ],
            [
             0.4444444444444444,
             "#bd3786"
            ],
            [
             0.5555555555555556,
             "#d8576b"
            ],
            [
             0.6666666666666666,
             "#ed7953"
            ],
            [
             0.7777777777777778,
             "#fb9f3a"
            ],
            [
             0.8888888888888888,
             "#fdca26"
            ],
            [
             1,
             "#f0f921"
            ]
           ],
           "sequentialminus": [
            [
             0,
             "#0d0887"
            ],
            [
             0.1111111111111111,
             "#46039f"
            ],
            [
             0.2222222222222222,
             "#7201a8"
            ],
            [
             0.3333333333333333,
             "#9c179e"
            ],
            [
             0.4444444444444444,
             "#bd3786"
            ],
            [
             0.5555555555555556,
             "#d8576b"
            ],
            [
             0.6666666666666666,
             "#ed7953"
            ],
            [
             0.7777777777777778,
             "#fb9f3a"
            ],
            [
             0.8888888888888888,
             "#fdca26"
            ],
            [
             1,
             "#f0f921"
            ]
           ]
          },
          "colorway": [
           "#636efa",
           "#EF553B",
           "#00cc96",
           "#ab63fa",
           "#FFA15A",
           "#19d3f3",
           "#FF6692",
           "#B6E880",
           "#FF97FF",
           "#FECB52"
          ],
          "font": {
           "color": "#2a3f5f"
          },
          "geo": {
           "bgcolor": "white",
           "lakecolor": "white",
           "landcolor": "#E5ECF6",
           "showlakes": true,
           "showland": true,
           "subunitcolor": "white"
          },
          "hoverlabel": {
           "align": "left"
          },
          "hovermode": "closest",
          "mapbox": {
           "style": "light"
          },
          "paper_bgcolor": "white",
          "plot_bgcolor": "#E5ECF6",
          "polar": {
           "angularaxis": {
            "gridcolor": "white",
            "linecolor": "white",
            "ticks": ""
           },
           "bgcolor": "#E5ECF6",
           "radialaxis": {
            "gridcolor": "white",
            "linecolor": "white",
            "ticks": ""
           }
          },
          "scene": {
           "xaxis": {
            "backgroundcolor": "#E5ECF6",
            "gridcolor": "white",
            "gridwidth": 2,
            "linecolor": "white",
            "showbackground": true,
            "ticks": "",
            "zerolinecolor": "white"
           },
           "yaxis": {
            "backgroundcolor": "#E5ECF6",
            "gridcolor": "white",
            "gridwidth": 2,
            "linecolor": "white",
            "showbackground": true,
            "ticks": "",
            "zerolinecolor": "white"
           },
           "zaxis": {
            "backgroundcolor": "#E5ECF6",
            "gridcolor": "white",
            "gridwidth": 2,
            "linecolor": "white",
            "showbackground": true,
            "ticks": "",
            "zerolinecolor": "white"
           }
          },
          "shapedefaults": {
           "line": {
            "color": "#2a3f5f"
           }
          },
          "ternary": {
           "aaxis": {
            "gridcolor": "white",
            "linecolor": "white",
            "ticks": ""
           },
           "baxis": {
            "gridcolor": "white",
            "linecolor": "white",
            "ticks": ""
           },
           "bgcolor": "#E5ECF6",
           "caxis": {
            "gridcolor": "white",
            "linecolor": "white",
            "ticks": ""
           }
          },
          "title": {
           "x": 0.05
          },
          "xaxis": {
           "automargin": true,
           "gridcolor": "white",
           "linecolor": "white",
           "ticks": "",
           "title": {
            "standoff": 15
           },
           "zerolinecolor": "white",
           "zerolinewidth": 2
          },
          "yaxis": {
           "automargin": true,
           "gridcolor": "white",
           "linecolor": "white",
           "ticks": "",
           "title": {
            "standoff": 15
           },
           "zerolinecolor": "white",
           "zerolinewidth": 2
          }
         }
        },
        "title": {
         "text": "Multinomial Naive Bayes Confusion Matrix (α=0.1)"
        },
        "xaxis": {
         "dtick": 1,
         "gridcolor": "rgb(0, 0, 0)",
         "side": "top",
         "ticks": "",
         "title": {
          "text": "Predicted Topic"
         }
        },
        "yaxis": {
         "dtick": 1,
         "ticks": "",
         "ticksuffix": "  ",
         "title": {
          "text": "Actual Topic"
         }
        }
       }
      }
     },
     "metadata": {},
     "output_type": "display_data"
    }
   ],
   "source": [
    "# 2. MULTINOMIAL NAIVE BAYES ANALYSIS (TEXT CLASSIFICATION)\n",
    "print(\" 2. MULTINOMIAL NAIVE BAYES ANALYSIS\")\n",
    "print(\"=\" * 37)\n",
    "\n",
    "# Prepare text data using TF-IDF vectorization\n",
    "print(\"Processing text documents...\")\n",
    "\n",
    "# Create TF-IDF features\n",
    "tfidf_vectorizer = TfidfVectorizer(\n",
    " max_features=1000, # Limit vocabulary size\n",
    " stop_words='english',\n",
    " ngram_range=(1, 2), # Include unigrams and bigrams\n",
    " min_df=2, # Ignore terms that appear in less than 2 documents\n",
    " max_df=0.95 # Ignore terms that appear in more than 95% of documents\n",
    ")\n",
    "\n",
    "# Transform documents to TF-IDF features\n",
    "X_text_tfidf = tfidf_vectorizer.fit_transform(text_df['document'])\n",
    "y_text = text_df['topic']\n",
    "\n",
    "print(f\"TF-IDF Matrix shape: {X_text_tfidf.shape}\")\n",
    "print(f\"Vocabulary size: {len(tfidf_vectorizer.vocabulary_)}\")\n",
    "\n",
    "# Split data\n",
    "X_text_train, X_text_test, y_text_train, y_text_test = train_test_split(\n",
    " X_text_tfidf, y_text, test_size=0.2, random_state=42, stratify=y_text\n",
    ")\n",
    "\n",
    "print(f\"Training set: {X_text_train.shape}\")\n",
    "print(f\"Test set: {X_text_test.shape}\")\n",
    "\n",
    "# Also create count-based features for Multinomial NB\n",
    "count_vectorizer = CountVectorizer(\n",
    " max_features=1000,\n",
    " stop_words='english',\n",
    " ngram_range=(1, 2),\n",
    " min_df=2,\n",
    " max_df=0.95\n",
    ")\n",
    "\n",
    "X_text_counts = count_vectorizer.fit_transform(text_df['document'])\n",
    "X_counts_train, X_counts_test, _, _ = train_test_split(\n",
    " X_text_counts, y_text, test_size=0.2, random_state=42, stratify=y_text\n",
    ")\n",
    "\n",
    "# Train Multinomial Naive Bayes with different alpha values\n",
    "alpha_values = [0.1, 0.5, 1.0, 2.0, 5.0]\n",
    "mnb_results = {}\n",
    "\n",
    "print(f\"\\n Alpha Parameter Optimization:\")\n",
    "\n",
    "for alpha in alpha_values:\n",
    " mnb = MultinomialNB(alpha=alpha)\n",
    " mnb.fit(X_counts_train, y_text_train)\n",
    "\n",
    " # Cross-validation\n",
    " cv_scores = cross_val_score(mnb, X_counts_train, y_text_train, cv=5)\n",
    " test_score = mnb.score(X_counts_test, y_text_test)\n",
    "\n",
    " mnb_results[alpha] = {\n",
    " 'cv_mean': cv_scores.mean(),\n",
    " 'cv_std': cv_scores.std(),\n",
    " 'test_accuracy': test_score\n",
    " }\n",
    "\n",
    " print(f\"• α={alpha}: Test Acc={test_score:.4f}, CV={cv_scores.mean():.4f}±{cv_scores.std():.4f}\")\n",
    "\n",
    "# Find optimal alpha\n",
    "mnb_df = pd.DataFrame(mnb_results).T\n",
    "optimal_alpha = mnb_df['cv_mean'].idxmax()\n",
    "print(f\"\\n Optimal α: {optimal_alpha}\")\n",
    "\n",
    "# Train final model with optimal alpha\n",
    "mnb_final = MultinomialNB(alpha=optimal_alpha)\n",
    "mnb_final.fit(X_counts_train, y_text_train)\n",
    "\n",
    "# Predictions\n",
    "y_text_pred = mnb_final.predict(X_counts_test)\n",
    "y_text_proba = mnb_final.predict_proba(X_counts_test)\n",
    "\n",
    "text_accuracy = accuracy_score(y_text_test, y_text_pred)\n",
    "print(f\"\\n Final Multinomial Naive Bayes Performance:\")\n",
    "print(f\"• α = {optimal_alpha}\")\n",
    "print(f\"• Test Accuracy: {text_accuracy:.4f}\")\n",
    "\n",
    "print(f\"\\nClassification Report:\")\n",
    "print(classification_report(y_text_test, y_text_pred))\n",
    "\n",
    "# Visualize alpha parameter effect\n",
    "fig_alpha = go.Figure()\n",
    "\n",
    "fig_alpha.add_trace(\n",
    " go.Scatter(\n",
    " x=list(alpha_values),\n",
    " y=mnb_df['cv_mean'],\n",
    " mode='lines+markers',\n",
    " name='CV Mean',\n",
    " line=dict(color='blue'),\n",
    " error_y=dict(type='data', array=mnb_df['cv_std'])\n",
    " )\n",
    ")\n",
    "\n",
    "fig_alpha.add_trace(\n",
    " go.Scatter(\n",
    " x=list(alpha_values),\n",
    " y=mnb_df['test_accuracy'],\n",
    " mode='lines+markers',\n",
    " name='Test Accuracy',\n",
    " line=dict(color='red')\n",
    " )\n",
    ")\n",
    "\n",
    "fig_alpha.update_layout(\n",
    " title=\"Multinomial Naive Bayes: Alpha Parameter Effect\",\n",
    " xaxis_title=\"Alpha (Smoothing Parameter)\",\n",
    " yaxis_title=\"Accuracy\",\n",
    " height=500\n",
    ")\n",
    "fig_alpha.show()\n",
    "\n",
    "# Feature importance analysis (top words per topic)\n",
    "print(f\"\\n Top Words per Topic:\")\n",
    "\n",
    "feature_names = count_vectorizer.get_feature_names_out()\n",
    "topics = mnb_final.classes_\n",
    "\n",
    "for i, topic in enumerate(topics):\n",
    " # Get log probabilities for this topic\n",
    " log_probs = mnb_final.feature_log_prob_[i]\n",
    "\n",
    " # Get top 10 features\n",
    " top_indices = log_probs.argsort()[-10:][::-1]\n",
    " top_words = [feature_names[idx] for idx in top_indices]\n",
    " top_probs = [np.exp(log_probs[idx]) for idx in top_indices]\n",
    "\n",
    " print(f\"\\n{topic.upper()}:\")\n",
    " for word, prob in zip(top_words, top_probs):\n",
    "     print(f\" • {word}: {prob:.4f}\")\n",
    "\n",
    "# Visualize top words for each topic\n",
    "fig_words = make_subplots(\n",
    " rows=2, cols=2,\n",
    " subplot_titles=[topic.title() for topic in topics]\n",
    ")\n",
    "\n",
    "positions = [(1, 1), (1, 2), (2, 1), (2, 2)]\n",
    "\n",
    "for i, topic in enumerate(topics):\n",
    "    row, col = positions[i]\n",
    "\n",
    "    log_probs = mnb_final.feature_log_prob_[i]\n",
    "    top_indices = log_probs.argsort()[-10:][::-1]\n",
    "    top_words = [feature_names[idx] for idx in top_indices]\n",
    "    top_probs = [np.exp(log_probs[idx]) for idx in top_indices]\n",
    "\n",
    "    fig_words.add_trace(\n",
    "        go.Bar(\n",
    "            x=top_probs,\n",
    "            y=top_words,\n",
    "            orientation='h',\n",
    "            name=topic,\n",
    "            showlegend=False,\n",
    "            marker_color=px.colors.qualitative.Set1[i]\n",
    "        ),\n",
    "        row=row, col=col\n",
    "    )\n",
    "\n",
    "fig_words.update_layout(\n",
    " title=\"Top Words by Topic (Multinomial Naive Bayes)\",\n",
    " height=600\n",
    ")\n",
    "fig_words.show()\n",
    "\n",
    "# Confusion Matrix\n",
    "cm_text = confusion_matrix(y_text_test, y_text_pred)\n",
    "\n",
    "fig_cm_text = ff.create_annotated_heatmap(\n",
    "    z=cm_text,\n",
    "    x=list(topics),\n",
    "    y=list(topics),\n",
    "    annotation_text=cm_text,\n",
    "    colorscale='Blues',\n",
    "    showscale=True\n",
    ")\n",
    "\n",
    "fig_cm_text.update_layout(\n",
    " title=f\"Multinomial Naive Bayes Confusion Matrix (α={optimal_alpha})\",\n",
    " xaxis_title=\"Predicted Topic\",\n",
    " yaxis_title=\"Actual Topic\",\n",
    " height=500\n",
    ")\n",
    "fig_cm_text.show()"
   ]
  },
  {
   "cell_type": "code",
   "execution_count": 12,
   "id": "f6199e65",
   "metadata": {},
   "outputs": [
    {
     "name": "stdout",
     "output_type": "stream",
     "text": [
      " 3. BERNOULLI NAIVE BAYES ANALYSIS\n",
      "==================================\n",
      "Email features: 32\n",
      "Feature sample: ['has_free', 'has_money', 'has_offer', 'has_click', 'has_urgent']\n",
      "Training set: (800, 32)\n",
      "Test set: (200, 32)\n",
      "Class distribution: {0: 480, 1: 320}\n",
      "\n",
      " Alpha Parameter Optimization (Bernoulli NB):\n",
      "• α=0.1: Test Acc=1.0000, CV=0.9988±0.0025\n",
      "• α=0.5: Test Acc=1.0000, CV=0.9988±0.0025\n",
      "• α=1.0: Test Acc=1.0000, CV=0.9988±0.0025\n",
      "• α=2.0: Test Acc=1.0000, CV=0.9988±0.0025\n",
      "• α=5.0: Test Acc=1.0000, CV=0.9988±0.0025\n",
      "\n",
      " Optimal α: 0.1\n",
      "\n",
      " Final Bernoulli Naive Bayes Performance:\n",
      "• α = 0.1\n",
      "• Test Accuracy: 1.0000\n",
      "\n",
      "Classification Report:\n",
      "              precision    recall  f1-score   support\n",
      "\n",
      "         Ham       1.00      1.00      1.00       120\n",
      "        Spam       1.00      1.00      1.00        80\n",
      "\n",
      "    accuracy                           1.00       200\n",
      "   macro avg       1.00      1.00      1.00       200\n",
      "weighted avg       1.00      1.00      1.00       200\n",
      "\n",
      "\n",
      " Feature Analysis for Spam Detection:\n",
      "Top 10 Spam Indicators:\n",
      "• has_save: 2.890\n",
      "• has_free: 2.803\n",
      "• has_limited: 2.757\n",
      "• has_deal: 2.693\n",
      "• has_cheap: 2.683\n",
      "• has_urgent: 2.603\n",
      "• has_cash: 2.593\n",
      "• has_bonus: 2.569\n",
      "• has_buy: 2.549\n",
      "• has_offer: 2.511\n",
      "\n",
      "Top 10 Ham Indicators:\n",
      "• has_conference: -1.651\n",
      "• has_project: -1.604\n",
      "• has_professional: -1.503\n",
      "• has_presentation: -1.485\n",
      "• has_business: -1.438\n",
      "• has_client: -1.410\n",
      "• has_report: -1.384\n",
      "• has_schedule: -1.352\n",
      "• has_meeting: -1.302\n",
      "• has_work: -1.277\n"
     ]
    },
    {
     "data": {
      "application/vnd.plotly.v1+json": {
       "config": {
        "plotlyServerURL": "https://plot.ly"
       },
       "data": [
        {
         "marker": {
          "color": "red"
         },
         "name": "Spam Indicators",
         "opacity": 0.7,
         "orientation": "h",
         "type": "bar",
         "x": {
          "bdata": "HszBfg4eB0BrpJ4J22wGQEYzVREfDgZAL3n3m1OKBUCnzdWIHXcFQO/zUOzZ0wRAsUU7g0O/BEBJxe6nxo0EQH9reCShZARA6r0JXwQWBEA=",
          "dtype": "f8"
         },
         "y": [
          "has_save",
          "has_free",
          "has_limited",
          "has_deal",
          "has_cheap",
          "has_urgent",
          "has_cash",
          "has_bonus",
          "has_buy",
          "has_offer"
         ]
        },
        {
         "marker": {
          "color": "blue"
         },
         "name": "Ham Indicators",
         "opacity": 0.7,
         "orientation": "h",
         "type": "bar",
         "x": {
          "bdata": "BKcosXJo+r84H82O3qn5v6T7OGrFCvi/TsMSlZ3D978+vOo4GQH3v7YAfHG4kPa/Di1iFsok9r++OylSfqL1v3w7Asy11vS/cqZPu95t9L8=",
          "dtype": "f8"
         },
         "y": [
          "has_conference",
          "has_project",
          "has_professional",
          "has_presentation",
          "has_business",
          "has_client",
          "has_report",
          "has_schedule",
          "has_meeting",
          "has_work"
         ]
        }
       ],
       "layout": {
        "height": 600,
        "template": {
         "data": {
          "bar": [
           {
            "error_x": {
             "color": "#2a3f5f"
            },
            "error_y": {
             "color": "#2a3f5f"
            },
            "marker": {
             "line": {
              "color": "#E5ECF6",
              "width": 0.5
             },
             "pattern": {
              "fillmode": "overlay",
              "size": 10,
              "solidity": 0.2
             }
            },
            "type": "bar"
           }
          ],
          "barpolar": [
           {
            "marker": {
             "line": {
              "color": "#E5ECF6",
              "width": 0.5
             },
             "pattern": {
              "fillmode": "overlay",
              "size": 10,
              "solidity": 0.2
             }
            },
            "type": "barpolar"
           }
          ],
          "carpet": [
           {
            "aaxis": {
             "endlinecolor": "#2a3f5f",
             "gridcolor": "white",
             "linecolor": "white",
             "minorgridcolor": "white",
             "startlinecolor": "#2a3f5f"
            },
            "baxis": {
             "endlinecolor": "#2a3f5f",
             "gridcolor": "white",
             "linecolor": "white",
             "minorgridcolor": "white",
             "startlinecolor": "#2a3f5f"
            },
            "type": "carpet"
           }
          ],
          "choropleth": [
           {
            "colorbar": {
             "outlinewidth": 0,
             "ticks": ""
            },
            "type": "choropleth"
           }
          ],
          "contour": [
           {
            "colorbar": {
             "outlinewidth": 0,
             "ticks": ""
            },
            "colorscale": [
             [
              0,
              "#0d0887"
             ],
             [
              0.1111111111111111,
              "#46039f"
             ],
             [
              0.2222222222222222,
              "#7201a8"
             ],
             [
              0.3333333333333333,
              "#9c179e"
             ],
             [
              0.4444444444444444,
              "#bd3786"
             ],
             [
              0.5555555555555556,
              "#d8576b"
             ],
             [
              0.6666666666666666,
              "#ed7953"
             ],
             [
              0.7777777777777778,
              "#fb9f3a"
             ],
             [
              0.8888888888888888,
              "#fdca26"
             ],
             [
              1,
              "#f0f921"
             ]
            ],
            "type": "contour"
           }
          ],
          "contourcarpet": [
           {
            "colorbar": {
             "outlinewidth": 0,
             "ticks": ""
            },
            "type": "contourcarpet"
           }
          ],
          "heatmap": [
           {
            "colorbar": {
             "outlinewidth": 0,
             "ticks": ""
            },
            "colorscale": [
             [
              0,
              "#0d0887"
             ],
             [
              0.1111111111111111,
              "#46039f"
             ],
             [
              0.2222222222222222,
              "#7201a8"
             ],
             [
              0.3333333333333333,
              "#9c179e"
             ],
             [
              0.4444444444444444,
              "#bd3786"
             ],
             [
              0.5555555555555556,
              "#d8576b"
             ],
             [
              0.6666666666666666,
              "#ed7953"
             ],
             [
              0.7777777777777778,
              "#fb9f3a"
             ],
             [
              0.8888888888888888,
              "#fdca26"
             ],
             [
              1,
              "#f0f921"
             ]
            ],
            "type": "heatmap"
           }
          ],
          "histogram": [
           {
            "marker": {
             "pattern": {
              "fillmode": "overlay",
              "size": 10,
              "solidity": 0.2
             }
            },
            "type": "histogram"
           }
          ],
          "histogram2d": [
           {
            "colorbar": {
             "outlinewidth": 0,
             "ticks": ""
            },
            "colorscale": [
             [
              0,
              "#0d0887"
             ],
             [
              0.1111111111111111,
              "#46039f"
             ],
             [
              0.2222222222222222,
              "#7201a8"
             ],
             [
              0.3333333333333333,
              "#9c179e"
             ],
             [
              0.4444444444444444,
              "#bd3786"
             ],
             [
              0.5555555555555556,
              "#d8576b"
             ],
             [
              0.6666666666666666,
              "#ed7953"
             ],
             [
              0.7777777777777778,
              "#fb9f3a"
             ],
             [
              0.8888888888888888,
              "#fdca26"
             ],
             [
              1,
              "#f0f921"
             ]
            ],
            "type": "histogram2d"
           }
          ],
          "histogram2dcontour": [
           {
            "colorbar": {
             "outlinewidth": 0,
             "ticks": ""
            },
            "colorscale": [
             [
              0,
              "#0d0887"
             ],
             [
              0.1111111111111111,
              "#46039f"
             ],
             [
              0.2222222222222222,
              "#7201a8"
             ],
             [
              0.3333333333333333,
              "#9c179e"
             ],
             [
              0.4444444444444444,
              "#bd3786"
             ],
             [
              0.5555555555555556,
              "#d8576b"
             ],
             [
              0.6666666666666666,
              "#ed7953"
             ],
             [
              0.7777777777777778,
              "#fb9f3a"
             ],
             [
              0.8888888888888888,
              "#fdca26"
             ],
             [
              1,
              "#f0f921"
             ]
            ],
            "type": "histogram2dcontour"
           }
          ],
          "mesh3d": [
           {
            "colorbar": {
             "outlinewidth": 0,
             "ticks": ""
            },
            "type": "mesh3d"
           }
          ],
          "parcoords": [
           {
            "line": {
             "colorbar": {
              "outlinewidth": 0,
              "ticks": ""
             }
            },
            "type": "parcoords"
           }
          ],
          "pie": [
           {
            "automargin": true,
            "type": "pie"
           }
          ],
          "scatter": [
           {
            "fillpattern": {
             "fillmode": "overlay",
             "size": 10,
             "solidity": 0.2
            },
            "type": "scatter"
           }
          ],
          "scatter3d": [
           {
            "line": {
             "colorbar": {
              "outlinewidth": 0,
              "ticks": ""
             }
            },
            "marker": {
             "colorbar": {
              "outlinewidth": 0,
              "ticks": ""
             }
            },
            "type": "scatter3d"
           }
          ],
          "scattercarpet": [
           {
            "marker": {
             "colorbar": {
              "outlinewidth": 0,
              "ticks": ""
             }
            },
            "type": "scattercarpet"
           }
          ],
          "scattergeo": [
           {
            "marker": {
             "colorbar": {
              "outlinewidth": 0,
              "ticks": ""
             }
            },
            "type": "scattergeo"
           }
          ],
          "scattergl": [
           {
            "marker": {
             "colorbar": {
              "outlinewidth": 0,
              "ticks": ""
             }
            },
            "type": "scattergl"
           }
          ],
          "scattermap": [
           {
            "marker": {
             "colorbar": {
              "outlinewidth": 0,
              "ticks": ""
             }
            },
            "type": "scattermap"
           }
          ],
          "scattermapbox": [
           {
            "marker": {
             "colorbar": {
              "outlinewidth": 0,
              "ticks": ""
             }
            },
            "type": "scattermapbox"
           }
          ],
          "scatterpolar": [
           {
            "marker": {
             "colorbar": {
              "outlinewidth": 0,
              "ticks": ""
             }
            },
            "type": "scatterpolar"
           }
          ],
          "scatterpolargl": [
           {
            "marker": {
             "colorbar": {
              "outlinewidth": 0,
              "ticks": ""
             }
            },
            "type": "scatterpolargl"
           }
          ],
          "scatterternary": [
           {
            "marker": {
             "colorbar": {
              "outlinewidth": 0,
              "ticks": ""
             }
            },
            "type": "scatterternary"
           }
          ],
          "surface": [
           {
            "colorbar": {
             "outlinewidth": 0,
             "ticks": ""
            },
            "colorscale": [
             [
              0,
              "#0d0887"
             ],
             [
              0.1111111111111111,
              "#46039f"
             ],
             [
              0.2222222222222222,
              "#7201a8"
             ],
             [
              0.3333333333333333,
              "#9c179e"
             ],
             [
              0.4444444444444444,
              "#bd3786"
             ],
             [
              0.5555555555555556,
              "#d8576b"
             ],
             [
              0.6666666666666666,
              "#ed7953"
             ],
             [
              0.7777777777777778,
              "#fb9f3a"
             ],
             [
              0.8888888888888888,
              "#fdca26"
             ],
             [
              1,
              "#f0f921"
             ]
            ],
            "type": "surface"
           }
          ],
          "table": [
           {
            "cells": {
             "fill": {
              "color": "#EBF0F8"
             },
             "line": {
              "color": "white"
             }
            },
            "header": {
             "fill": {
              "color": "#C8D4E3"
             },
             "line": {
              "color": "white"
             }
            },
            "type": "table"
           }
          ]
         },
         "layout": {
          "annotationdefaults": {
           "arrowcolor": "#2a3f5f",
           "arrowhead": 0,
           "arrowwidth": 1
          },
          "autotypenumbers": "strict",
          "coloraxis": {
           "colorbar": {
            "outlinewidth": 0,
            "ticks": ""
           }
          },
          "colorscale": {
           "diverging": [
            [
             0,
             "#8e0152"
            ],
            [
             0.1,
             "#c51b7d"
            ],
            [
             0.2,
             "#de77ae"
            ],
            [
             0.3,
             "#f1b6da"
            ],
            [
             0.4,
             "#fde0ef"
            ],
            [
             0.5,
             "#f7f7f7"
            ],
            [
             0.6,
             "#e6f5d0"
            ],
            [
             0.7,
             "#b8e186"
            ],
            [
             0.8,
             "#7fbc41"
            ],
            [
             0.9,
             "#4d9221"
            ],
            [
             1,
             "#276419"
            ]
           ],
           "sequential": [
            [
             0,
             "#0d0887"
            ],
            [
             0.1111111111111111,
             "#46039f"
            ],
            [
             0.2222222222222222,
             "#7201a8"
            ],
            [
             0.3333333333333333,
             "#9c179e"
            ],
            [
             0.4444444444444444,
             "#bd3786"
            ],
            [
             0.5555555555555556,
             "#d8576b"
            ],
            [
             0.6666666666666666,
             "#ed7953"
            ],
            [
             0.7777777777777778,
             "#fb9f3a"
            ],
            [
             0.8888888888888888,
             "#fdca26"
            ],
            [
             1,
             "#f0f921"
            ]
           ],
           "sequentialminus": [
            [
             0,
             "#0d0887"
            ],
            [
             0.1111111111111111,
             "#46039f"
            ],
            [
             0.2222222222222222,
             "#7201a8"
            ],
            [
             0.3333333333333333,
             "#9c179e"
            ],
            [
             0.4444444444444444,
             "#bd3786"
            ],
            [
             0.5555555555555556,
             "#d8576b"
            ],
            [
             0.6666666666666666,
             "#ed7953"
            ],
            [
             0.7777777777777778,
             "#fb9f3a"
            ],
            [
             0.8888888888888888,
             "#fdca26"
            ],
            [
             1,
             "#f0f921"
            ]
           ]
          },
          "colorway": [
           "#636efa",
           "#EF553B",
           "#00cc96",
           "#ab63fa",
           "#FFA15A",
           "#19d3f3",
           "#FF6692",
           "#B6E880",
           "#FF97FF",
           "#FECB52"
          ],
          "font": {
           "color": "#2a3f5f"
          },
          "geo": {
           "bgcolor": "white",
           "lakecolor": "white",
           "landcolor": "#E5ECF6",
           "showlakes": true,
           "showland": true,
           "subunitcolor": "white"
          },
          "hoverlabel": {
           "align": "left"
          },
          "hovermode": "closest",
          "mapbox": {
           "style": "light"
          },
          "paper_bgcolor": "white",
          "plot_bgcolor": "#E5ECF6",
          "polar": {
           "angularaxis": {
            "gridcolor": "white",
            "linecolor": "white",
            "ticks": ""
           },
           "bgcolor": "#E5ECF6",
           "radialaxis": {
            "gridcolor": "white",
            "linecolor": "white",
            "ticks": ""
           }
          },
          "scene": {
           "xaxis": {
            "backgroundcolor": "#E5ECF6",
            "gridcolor": "white",
            "gridwidth": 2,
            "linecolor": "white",
            "showbackground": true,
            "ticks": "",
            "zerolinecolor": "white"
           },
           "yaxis": {
            "backgroundcolor": "#E5ECF6",
            "gridcolor": "white",
            "gridwidth": 2,
            "linecolor": "white",
            "showbackground": true,
            "ticks": "",
            "zerolinecolor": "white"
           },
           "zaxis": {
            "backgroundcolor": "#E5ECF6",
            "gridcolor": "white",
            "gridwidth": 2,
            "linecolor": "white",
            "showbackground": true,
            "ticks": "",
            "zerolinecolor": "white"
           }
          },
          "shapedefaults": {
           "line": {
            "color": "#2a3f5f"
           }
          },
          "ternary": {
           "aaxis": {
            "gridcolor": "white",
            "linecolor": "white",
            "ticks": ""
           },
           "baxis": {
            "gridcolor": "white",
            "linecolor": "white",
            "ticks": ""
           },
           "bgcolor": "#E5ECF6",
           "caxis": {
            "gridcolor": "white",
            "linecolor": "white",
            "ticks": ""
           }
          },
          "title": {
           "x": 0.05
          },
          "xaxis": {
           "automargin": true,
           "gridcolor": "white",
           "linecolor": "white",
           "ticks": "",
           "title": {
            "standoff": 15
           },
           "zerolinecolor": "white",
           "zerolinewidth": 2
          },
          "yaxis": {
           "automargin": true,
           "gridcolor": "white",
           "linecolor": "white",
           "ticks": "",
           "title": {
            "standoff": 15
           },
           "zerolinecolor": "white",
           "zerolinewidth": 2
          }
         }
        },
        "title": {
         "text": "Feature Importance for Spam Detection (Bernoulli Naive Bayes)"
        },
        "xaxis": {
         "title": {
          "text": "Log Odds Ratio (Spam vs Ham)"
         }
        },
        "yaxis": {
         "title": {
          "text": "Features"
         }
        }
       }
      }
     },
     "metadata": {},
     "output_type": "display_data"
    },
    {
     "data": {
      "application/vnd.plotly.v1+json": {
       "config": {
        "plotlyServerURL": "https://plot.ly"
       },
       "data": [
        {
         "line": {
          "color": "blue"
         },
         "mode": "lines",
         "name": "ROC (AUC = 1.000)",
         "type": "scatter",
         "x": {
          "bdata": "AAAAAAAAAAAAAAAAAAAAAAAAAAAAAAAAAAAAAAAAAAAAAAAAAAAAAAAAAAAAAAAAmpmZmZmZyT+8u7u7u7vLPwAAAAAAAPA/",
          "dtype": "f8"
         },
         "xaxis": "x",
         "y": {
          "bdata": "AAAAAAAAAAAzMzMzMzPDP83MzMzMzMQ/mpmZmZmZyT8AAAAAAADQPwAAAAAAAPA/AAAAAAAA8D8AAAAAAADwPwAAAAAAAPA/",
          "dtype": "f8"
         },
         "yaxis": "y"
        },
        {
         "line": {
          "color": "red",
          "dash": "dash"
         },
         "mode": "lines",
         "name": "Random",
         "showlegend": false,
         "type": "scatter",
         "x": [
          0,
          1
         ],
         "xaxis": "x",
         "y": [
          0,
          1
         ],
         "yaxis": "y"
        },
        {
         "line": {
          "color": "green"
         },
         "mode": "lines",
         "name": "Precision-Recall",
         "showlegend": false,
         "type": "scatter",
         "x": {
          "bdata": "AAAAAAAA8D8AAAAAAADwPwAAAAAAAPA/AAAAAAAA8D8AAAAAAADwPwAAAAAAAPA/AAAAAAAA8D8AAAAAAADwPwAAAAAAAPA/AAAAAAAA8D8AAAAAAADwPwAAAAAAAPA/AAAAAAAA8D8AAAAAAADwPwAAAAAAAPA/AAAAAAAA8D8AAAAAAADwPwAAAAAAAPA/AAAAAAAA8D8AAAAAAADwPwAAAAAAAPA/AAAAAAAA8D8AAAAAAADwPwAAAAAAAPA/AAAAAAAA8D8AAAAAAADwPwAAAAAAAPA/AAAAAAAA8D8AAAAAAADwPwAAAAAAAPA/AAAAAAAA8D8AAAAAAADwPwAAAAAAAPA/AAAAAAAA8D8AAAAAAADwPwAAAAAAAPA/AAAAAAAA8D8AAAAAAADwPwAAAAAAAPA/AAAAAAAA8D8AAAAAAADwPwAAAAAAAPA/AAAAAAAA8D8AAAAAAADwPwAAAAAAAPA/AAAAAAAA8D8AAAAAAADwPwAAAAAAAPA/AAAAAAAA8D8AAAAAAADwPwAAAAAAAPA/AAAAAAAA8D8AAAAAAADwPwAAAAAAAPA/AAAAAAAA8D8AAAAAAADwPwAAAAAAAPA/AAAAAAAA8D8AAAAAAADwPwAAAAAAAPA/AAAAAAAA8D8AAAAAAADwPwAAAAAAAPA/AAAAAAAA8D8AAAAAAADwPwAAAAAAAPA/AAAAAAAA8D8AAAAAAADwPwAAAAAAAPA/AAAAAAAA8D8AAAAAAADwPwAAAAAAAPA/AAAAAAAA8D8AAAAAAADwPwAAAAAAAPA/AAAAAAAA8D8AAAAAAADwPwAAAAAAAPA/AAAAAAAA8D8AAAAAAADwPwAAAAAAAPA/AAAAAAAA8D8AAAAAAADwPwAAAAAAAPA/AAAAAAAA8D8AAAAAAADwPwAAAAAAAPA/AAAAAAAA8D8AAAAAAADwPwAAAAAAAPA/AAAAAAAA8D8AAAAAAADwPwAAAAAAAPA/AAAAAAAA8D8AAAAAAADwPwAAAAAAAPA/AAAAAAAA8D8AAAAAAADwPwAAAAAAAPA/AAAAAAAA8D8AAAAAAADwPwAAAAAAAPA/AAAAAAAA8D8AAAAAAADwPwAAAAAAAPA/AAAAAAAA8D8AAAAAAADwPwAAAAAAAPA/AAAAAAAA8D8AAAAAAADwPwAAAAAAAPA/AAAAAAAA8D8AAAAAAADwPwAAAAAAAPA/AAAAAAAA8D8AAAAAAADwPwAAAAAAAPA/AAAAAAAA8D8AAAAAAADwPwAAAAAAAPA/mpmZmZmZ7z8zMzMzMzPvP83MzMzMzO4/ZmZmZmZm7j8AAAAAAADuP5qZmZmZme0/MzMzMzMz7T/NzMzMzMzsP2ZmZmZmZuw/AAAAAAAA7D+amZmZmZnrPzMzMzMzM+s/zczMzMzM6j9mZmZmZmbqPwAAAAAAAOo/mpmZmZmZ6T8zMzMzMzPpP83MzMzMzOg/ZmZmZmZm6D8AAAAAAADoP5qZmZmZmec/MzMzMzMz5z/NzMzMzMzmP2ZmZmZmZuY/AAAAAAAA5j+amZmZmZnlPzMzMzMzM+U/zczMzMzM5D9mZmZmZmbkPwAAAAAAAOQ/mpmZmZmZ4z8zMzMzMzPjP83MzMzMzOI/ZmZmZmZm4j8AAAAAAADiP5qZmZmZmeE/MzMzMzMz4T/NzMzMzMzgP2ZmZmZmZuA/AAAAAAAA4D8zMzMzMzPfP2ZmZmZmZt4/mpmZmZmZ3T/NzMzMzMzcPwAAAAAAANw/MzMzMzMz2z9mZmZmZmbaP5qZmZmZmdk/zczMzMzM2D8AAAAAAADYPzMzMzMzM9c/ZmZmZmZm1j+amZmZmZnVP83MzMzMzNQ/AAAAAAAA1D8zMzMzMzPTP2ZmZmZmZtI/mpmZmZmZ0T/NzMzMzMzQPwAAAAAAANA/zczMzMzMzD+amZmZmZnJP83MzMzMzMQ/MzMzMzMzwz8AAAAAAAAAAA==",
          "dtype": "f8"
         },
         "xaxis": "x2",
         "y": {
          "bdata": "mpmZmZmZ2T+BhJ9ciLrZPzFvZ0jM29k/ShvvqGb92T+IxvrQWB/aPxqkQRqkQdo/Grab5Ulk2j/lEzGbS4faP6uqqqqqqto/CIZki2jO2j8or6G8hvLaP3CxwcUGF9s/bdR3Nuo72z9hGwSnMmHbP4cbbrjhhts/0LrBFPms2z+96U1vetPbP7dr5YRn+ts/HMIhHMIh3D80T6gFjEncPxzHcRzHcdw/uAUURnWa3D/MYQ5zmMPcP2uWGJ8y7dw/F1100UUX3T8d1EEd1EHdP/rN1qHfbN0/9CcZi2qY3T9xR9wRd8TdPxDfQXwH8d0/Hh4eHh4e3j+Ubl9ZvUveP57neZ7ned4/XJzWbJ+o3j+U8EZT59fePwgffPDBB98/OB+D8zE43z+zGkUcOmnfP1ikDDzdmt8/j+YPNh7N3z8AAAAAAADgP6HkTtHCGeA/aCAqHdkz4D/hbux7RE7gP5AGaZAGaeA/hBBCCCGE4D9WfkKclZ/gPxFmuxBmu+A/eQ3lNZTX4D+I0EPoIfTgPxEREREREeE/N2CopmMu4T/CFPmsG0zhP1uE/DU7auE/jBgxYsSI4T+WexphuafhP3Icx3Ecx+E/+0xb4+/m4T/nQKIVNgfiP0k4pXnxJ+I/kiRJkiRJ4j+gG/P00WriPynxM0r8jOI/FlR7Tqav4j/T0tLS0tLiP2gvob2E9uI/oHJ2C78a4z/4M+HPhD/jP2WTTTbZZOM/h2nugr+K4z8UO7ETO7HjP/aEPWFP2OM/AAAAAAAA5D8KhUKhUCjkPxRFURRFUeQ/exSuR+F65D+llFJKKaXkP9AUAk0h0OQ/yRCso8375D+0Q+DGMijlP1VVVVVVVeU/FjqDFTqD5T/QcFL35bHlPxZe4RVe4eU/fBphuacR5j9kIQtZyELmP0xnMZ3FdOY/VnpqYaWn5j+3bdu2bdvmPwJxoeYkEOc/RhdddNFF5z/Id+EgenznP0J7Ce0ltOc/79S1HNzs5z/yVvY5pCboP9mJndiJneg/Q9Md7Lfa6D8ZGRkZGRnpP3qQu362WOk/mpmZmZmZ6T8xb2dIzNvpP4jG+tBYH+o/Grab5Ulk6j+rqqqqqqrqPyivobyG8uo/bdR3Nuo76z+HG2644YbrP73pTW960+s/HMIhHMIh7D8cx3Ecx3HsP8xhDnOYw+w/F1100UUX7T/6zdah32ztP3FH3BF3xO0/Hh4eHh4e7j+e53me53nuP5TwRlPn1+4/OB+D8zE47z9YpAw83ZrvPwAAAAAAAPA/AAAAAAAA8D8AAAAAAADwPwAAAAAAAPA/AAAAAAAA8D8AAAAAAADwPwAAAAAAAPA/AAAAAAAA8D8AAAAAAADwPwAAAAAAAPA/AAAAAAAA8D8AAAAAAADwPwAAAAAAAPA/AAAAAAAA8D8AAAAAAADwPwAAAAAAAPA/AAAAAAAA8D8AAAAAAADwPwAAAAAAAPA/AAAAAAAA8D8AAAAAAADwPwAAAAAAAPA/AAAAAAAA8D8AAAAAAADwPwAAAAAAAPA/AAAAAAAA8D8AAAAAAADwPwAAAAAAAPA/AAAAAAAA8D8AAAAAAADwPwAAAAAAAPA/AAAAAAAA8D8AAAAAAADwPwAAAAAAAPA/AAAAAAAA8D8AAAAAAADwPwAAAAAAAPA/AAAAAAAA8D8AAAAAAADwPwAAAAAAAPA/AAAAAAAA8D8AAAAAAADwPwAAAAAAAPA/AAAAAAAA8D8AAAAAAADwPwAAAAAAAPA/AAAAAAAA8D8AAAAAAADwPwAAAAAAAPA/AAAAAAAA8D8AAAAAAADwPwAAAAAAAPA/AAAAAAAA8D8AAAAAAADwPwAAAAAAAPA/AAAAAAAA8D8AAAAAAADwPwAAAAAAAPA/AAAAAAAA8D8AAAAAAADwPwAAAAAAAPA/AAAAAAAA8D8AAAAAAADwPwAAAAAAAPA/AAAAAAAA8D8AAAAAAADwPw==",
          "dtype": "f8"
         },
         "yaxis": "y2"
        }
       ],
       "layout": {
        "annotations": [
         {
          "font": {
           "size": 16
          },
          "showarrow": false,
          "text": "ROC Curve",
          "x": 0.225,
          "xanchor": "center",
          "xref": "paper",
          "y": 1,
          "yanchor": "bottom",
          "yref": "paper"
         },
         {
          "font": {
           "size": 16
          },
          "showarrow": false,
          "text": "Precision-Recall Curve",
          "x": 0.775,
          "xanchor": "center",
          "xref": "paper",
          "y": 1,
          "yanchor": "bottom",
          "yref": "paper"
         }
        ],
        "height": 500,
        "template": {
         "data": {
          "bar": [
           {
            "error_x": {
             "color": "#2a3f5f"
            },
            "error_y": {
             "color": "#2a3f5f"
            },
            "marker": {
             "line": {
              "color": "#E5ECF6",
              "width": 0.5
             },
             "pattern": {
              "fillmode": "overlay",
              "size": 10,
              "solidity": 0.2
             }
            },
            "type": "bar"
           }
          ],
          "barpolar": [
           {
            "marker": {
             "line": {
              "color": "#E5ECF6",
              "width": 0.5
             },
             "pattern": {
              "fillmode": "overlay",
              "size": 10,
              "solidity": 0.2
             }
            },
            "type": "barpolar"
           }
          ],
          "carpet": [
           {
            "aaxis": {
             "endlinecolor": "#2a3f5f",
             "gridcolor": "white",
             "linecolor": "white",
             "minorgridcolor": "white",
             "startlinecolor": "#2a3f5f"
            },
            "baxis": {
             "endlinecolor": "#2a3f5f",
             "gridcolor": "white",
             "linecolor": "white",
             "minorgridcolor": "white",
             "startlinecolor": "#2a3f5f"
            },
            "type": "carpet"
           }
          ],
          "choropleth": [
           {
            "colorbar": {
             "outlinewidth": 0,
             "ticks": ""
            },
            "type": "choropleth"
           }
          ],
          "contour": [
           {
            "colorbar": {
             "outlinewidth": 0,
             "ticks": ""
            },
            "colorscale": [
             [
              0,
              "#0d0887"
             ],
             [
              0.1111111111111111,
              "#46039f"
             ],
             [
              0.2222222222222222,
              "#7201a8"
             ],
             [
              0.3333333333333333,
              "#9c179e"
             ],
             [
              0.4444444444444444,
              "#bd3786"
             ],
             [
              0.5555555555555556,
              "#d8576b"
             ],
             [
              0.6666666666666666,
              "#ed7953"
             ],
             [
              0.7777777777777778,
              "#fb9f3a"
             ],
             [
              0.8888888888888888,
              "#fdca26"
             ],
             [
              1,
              "#f0f921"
             ]
            ],
            "type": "contour"
           }
          ],
          "contourcarpet": [
           {
            "colorbar": {
             "outlinewidth": 0,
             "ticks": ""
            },
            "type": "contourcarpet"
           }
          ],
          "heatmap": [
           {
            "colorbar": {
             "outlinewidth": 0,
             "ticks": ""
            },
            "colorscale": [
             [
              0,
              "#0d0887"
             ],
             [
              0.1111111111111111,
              "#46039f"
             ],
             [
              0.2222222222222222,
              "#7201a8"
             ],
             [
              0.3333333333333333,
              "#9c179e"
             ],
             [
              0.4444444444444444,
              "#bd3786"
             ],
             [
              0.5555555555555556,
              "#d8576b"
             ],
             [
              0.6666666666666666,
              "#ed7953"
             ],
             [
              0.7777777777777778,
              "#fb9f3a"
             ],
             [
              0.8888888888888888,
              "#fdca26"
             ],
             [
              1,
              "#f0f921"
             ]
            ],
            "type": "heatmap"
           }
          ],
          "histogram": [
           {
            "marker": {
             "pattern": {
              "fillmode": "overlay",
              "size": 10,
              "solidity": 0.2
             }
            },
            "type": "histogram"
           }
          ],
          "histogram2d": [
           {
            "colorbar": {
             "outlinewidth": 0,
             "ticks": ""
            },
            "colorscale": [
             [
              0,
              "#0d0887"
             ],
             [
              0.1111111111111111,
              "#46039f"
             ],
             [
              0.2222222222222222,
              "#7201a8"
             ],
             [
              0.3333333333333333,
              "#9c179e"
             ],
             [
              0.4444444444444444,
              "#bd3786"
             ],
             [
              0.5555555555555556,
              "#d8576b"
             ],
             [
              0.6666666666666666,
              "#ed7953"
             ],
             [
              0.7777777777777778,
              "#fb9f3a"
             ],
             [
              0.8888888888888888,
              "#fdca26"
             ],
             [
              1,
              "#f0f921"
             ]
            ],
            "type": "histogram2d"
           }
          ],
          "histogram2dcontour": [
           {
            "colorbar": {
             "outlinewidth": 0,
             "ticks": ""
            },
            "colorscale": [
             [
              0,
              "#0d0887"
             ],
             [
              0.1111111111111111,
              "#46039f"
             ],
             [
              0.2222222222222222,
              "#7201a8"
             ],
             [
              0.3333333333333333,
              "#9c179e"
             ],
             [
              0.4444444444444444,
              "#bd3786"
             ],
             [
              0.5555555555555556,
              "#d8576b"
             ],
             [
              0.6666666666666666,
              "#ed7953"
             ],
             [
              0.7777777777777778,
              "#fb9f3a"
             ],
             [
              0.8888888888888888,
              "#fdca26"
             ],
             [
              1,
              "#f0f921"
             ]
            ],
            "type": "histogram2dcontour"
           }
          ],
          "mesh3d": [
           {
            "colorbar": {
             "outlinewidth": 0,
             "ticks": ""
            },
            "type": "mesh3d"
           }
          ],
          "parcoords": [
           {
            "line": {
             "colorbar": {
              "outlinewidth": 0,
              "ticks": ""
             }
            },
            "type": "parcoords"
           }
          ],
          "pie": [
           {
            "automargin": true,
            "type": "pie"
           }
          ],
          "scatter": [
           {
            "fillpattern": {
             "fillmode": "overlay",
             "size": 10,
             "solidity": 0.2
            },
            "type": "scatter"
           }
          ],
          "scatter3d": [
           {
            "line": {
             "colorbar": {
              "outlinewidth": 0,
              "ticks": ""
             }
            },
            "marker": {
             "colorbar": {
              "outlinewidth": 0,
              "ticks": ""
             }
            },
            "type": "scatter3d"
           }
          ],
          "scattercarpet": [
           {
            "marker": {
             "colorbar": {
              "outlinewidth": 0,
              "ticks": ""
             }
            },
            "type": "scattercarpet"
           }
          ],
          "scattergeo": [
           {
            "marker": {
             "colorbar": {
              "outlinewidth": 0,
              "ticks": ""
             }
            },
            "type": "scattergeo"
           }
          ],
          "scattergl": [
           {
            "marker": {
             "colorbar": {
              "outlinewidth": 0,
              "ticks": ""
             }
            },
            "type": "scattergl"
           }
          ],
          "scattermap": [
           {
            "marker": {
             "colorbar": {
              "outlinewidth": 0,
              "ticks": ""
             }
            },
            "type": "scattermap"
           }
          ],
          "scattermapbox": [
           {
            "marker": {
             "colorbar": {
              "outlinewidth": 0,
              "ticks": ""
             }
            },
            "type": "scattermapbox"
           }
          ],
          "scatterpolar": [
           {
            "marker": {
             "colorbar": {
              "outlinewidth": 0,
              "ticks": ""
             }
            },
            "type": "scatterpolar"
           }
          ],
          "scatterpolargl": [
           {
            "marker": {
             "colorbar": {
              "outlinewidth": 0,
              "ticks": ""
             }
            },
            "type": "scatterpolargl"
           }
          ],
          "scatterternary": [
           {
            "marker": {
             "colorbar": {
              "outlinewidth": 0,
              "ticks": ""
             }
            },
            "type": "scatterternary"
           }
          ],
          "surface": [
           {
            "colorbar": {
             "outlinewidth": 0,
             "ticks": ""
            },
            "colorscale": [
             [
              0,
              "#0d0887"
             ],
             [
              0.1111111111111111,
              "#46039f"
             ],
             [
              0.2222222222222222,
              "#7201a8"
             ],
             [
              0.3333333333333333,
              "#9c179e"
             ],
             [
              0.4444444444444444,
              "#bd3786"
             ],
             [
              0.5555555555555556,
              "#d8576b"
             ],
             [
              0.6666666666666666,
              "#ed7953"
             ],
             [
              0.7777777777777778,
              "#fb9f3a"
             ],
             [
              0.8888888888888888,
              "#fdca26"
             ],
             [
              1,
              "#f0f921"
             ]
            ],
            "type": "surface"
           }
          ],
          "table": [
           {
            "cells": {
             "fill": {
              "color": "#EBF0F8"
             },
             "line": {
              "color": "white"
             }
            },
            "header": {
             "fill": {
              "color": "#C8D4E3"
             },
             "line": {
              "color": "white"
             }
            },
            "type": "table"
           }
          ]
         },
         "layout": {
          "annotationdefaults": {
           "arrowcolor": "#2a3f5f",
           "arrowhead": 0,
           "arrowwidth": 1
          },
          "autotypenumbers": "strict",
          "coloraxis": {
           "colorbar": {
            "outlinewidth": 0,
            "ticks": ""
           }
          },
          "colorscale": {
           "diverging": [
            [
             0,
             "#8e0152"
            ],
            [
             0.1,
             "#c51b7d"
            ],
            [
             0.2,
             "#de77ae"
            ],
            [
             0.3,
             "#f1b6da"
            ],
            [
             0.4,
             "#fde0ef"
            ],
            [
             0.5,
             "#f7f7f7"
            ],
            [
             0.6,
             "#e6f5d0"
            ],
            [
             0.7,
             "#b8e186"
            ],
            [
             0.8,
             "#7fbc41"
            ],
            [
             0.9,
             "#4d9221"
            ],
            [
             1,
             "#276419"
            ]
           ],
           "sequential": [
            [
             0,
             "#0d0887"
            ],
            [
             0.1111111111111111,
             "#46039f"
            ],
            [
             0.2222222222222222,
             "#7201a8"
            ],
            [
             0.3333333333333333,
             "#9c179e"
            ],
            [
             0.4444444444444444,
             "#bd3786"
            ],
            [
             0.5555555555555556,
             "#d8576b"
            ],
            [
             0.6666666666666666,
             "#ed7953"
            ],
            [
             0.7777777777777778,
             "#fb9f3a"
            ],
            [
             0.8888888888888888,
             "#fdca26"
            ],
            [
             1,
             "#f0f921"
            ]
           ],
           "sequentialminus": [
            [
             0,
             "#0d0887"
            ],
            [
             0.1111111111111111,
             "#46039f"
            ],
            [
             0.2222222222222222,
             "#7201a8"
            ],
            [
             0.3333333333333333,
             "#9c179e"
            ],
            [
             0.4444444444444444,
             "#bd3786"
            ],
            [
             0.5555555555555556,
             "#d8576b"
            ],
            [
             0.6666666666666666,
             "#ed7953"
            ],
            [
             0.7777777777777778,
             "#fb9f3a"
            ],
            [
             0.8888888888888888,
             "#fdca26"
            ],
            [
             1,
             "#f0f921"
            ]
           ]
          },
          "colorway": [
           "#636efa",
           "#EF553B",
           "#00cc96",
           "#ab63fa",
           "#FFA15A",
           "#19d3f3",
           "#FF6692",
           "#B6E880",
           "#FF97FF",
           "#FECB52"
          ],
          "font": {
           "color": "#2a3f5f"
          },
          "geo": {
           "bgcolor": "white",
           "lakecolor": "white",
           "landcolor": "#E5ECF6",
           "showlakes": true,
           "showland": true,
           "subunitcolor": "white"
          },
          "hoverlabel": {
           "align": "left"
          },
          "hovermode": "closest",
          "mapbox": {
           "style": "light"
          },
          "paper_bgcolor": "white",
          "plot_bgcolor": "#E5ECF6",
          "polar": {
           "angularaxis": {
            "gridcolor": "white",
            "linecolor": "white",
            "ticks": ""
           },
           "bgcolor": "#E5ECF6",
           "radialaxis": {
            "gridcolor": "white",
            "linecolor": "white",
            "ticks": ""
           }
          },
          "scene": {
           "xaxis": {
            "backgroundcolor": "#E5ECF6",
            "gridcolor": "white",
            "gridwidth": 2,
            "linecolor": "white",
            "showbackground": true,
            "ticks": "",
            "zerolinecolor": "white"
           },
           "yaxis": {
            "backgroundcolor": "#E5ECF6",
            "gridcolor": "white",
            "gridwidth": 2,
            "linecolor": "white",
            "showbackground": true,
            "ticks": "",
            "zerolinecolor": "white"
           },
           "zaxis": {
            "backgroundcolor": "#E5ECF6",
            "gridcolor": "white",
            "gridwidth": 2,
            "linecolor": "white",
            "showbackground": true,
            "ticks": "",
            "zerolinecolor": "white"
           }
          },
          "shapedefaults": {
           "line": {
            "color": "#2a3f5f"
           }
          },
          "ternary": {
           "aaxis": {
            "gridcolor": "white",
            "linecolor": "white",
            "ticks": ""
           },
           "baxis": {
            "gridcolor": "white",
            "linecolor": "white",
            "ticks": ""
           },
           "bgcolor": "#E5ECF6",
           "caxis": {
            "gridcolor": "white",
            "linecolor": "white",
            "ticks": ""
           }
          },
          "title": {
           "x": 0.05
          },
          "xaxis": {
           "automargin": true,
           "gridcolor": "white",
           "linecolor": "white",
           "ticks": "",
           "title": {
            "standoff": 15
           },
           "zerolinecolor": "white",
           "zerolinewidth": 2
          },
          "yaxis": {
           "automargin": true,
           "gridcolor": "white",
           "linecolor": "white",
           "ticks": "",
           "title": {
            "standoff": 15
           },
           "zerolinecolor": "white",
           "zerolinewidth": 2
          }
         }
        },
        "title": {
         "text": "Bernoulli Naive Bayes Performance Curves (Spam Detection)"
        },
        "xaxis": {
         "anchor": "y",
         "domain": [
          0,
          0.45
         ],
         "title": {
          "text": "False Positive Rate"
         }
        },
        "xaxis2": {
         "anchor": "y2",
         "domain": [
          0.55,
          1
         ],
         "title": {
          "text": "Recall"
         }
        },
        "yaxis": {
         "anchor": "x",
         "domain": [
          0,
          1
         ],
         "title": {
          "text": "True Positive Rate"
         }
        },
        "yaxis2": {
         "anchor": "x2",
         "domain": [
          0,
          1
         ],
         "title": {
          "text": "Precision"
         }
        }
       }
      }
     },
     "metadata": {},
     "output_type": "display_data"
    },
    {
     "data": {
      "application/vnd.plotly.v1+json": {
       "config": {
        "plotlyServerURL": "https://plot.ly"
       },
       "data": [
        {
         "colorscale": [
          [
           0,
           "rgb(247,251,255)"
          ],
          [
           0.125,
           "rgb(222,235,247)"
          ],
          [
           0.25,
           "rgb(198,219,239)"
          ],
          [
           0.375,
           "rgb(158,202,225)"
          ],
          [
           0.5,
           "rgb(107,174,214)"
          ],
          [
           0.625,
           "rgb(66,146,198)"
          ],
          [
           0.75,
           "rgb(33,113,181)"
          ],
          [
           0.875,
           "rgb(8,81,156)"
          ],
          [
           1,
           "rgb(8,48,107)"
          ]
         ],
         "reversescale": false,
         "showscale": true,
         "type": "heatmap",
         "x": [
          "Ham",
          "Spam"
         ],
         "y": [
          "Ham",
          "Spam"
         ],
         "z": {
          "bdata": "eAAAUA==",
          "dtype": "i1",
          "shape": "2, 2"
         }
        }
       ],
       "layout": {
        "annotations": [
         {
          "font": {
           "color": "#FFFFFF"
          },
          "showarrow": false,
          "text": "120",
          "x": "Ham",
          "xref": "x",
          "y": "Ham",
          "yref": "y"
         },
         {
          "font": {
           "color": "#000000"
          },
          "showarrow": false,
          "text": "0",
          "x": "Spam",
          "xref": "x",
          "y": "Ham",
          "yref": "y"
         },
         {
          "font": {
           "color": "#000000"
          },
          "showarrow": false,
          "text": "0",
          "x": "Ham",
          "xref": "x",
          "y": "Spam",
          "yref": "y"
         },
         {
          "font": {
           "color": "#FFFFFF"
          },
          "showarrow": false,
          "text": "80",
          "x": "Spam",
          "xref": "x",
          "y": "Spam",
          "yref": "y"
         }
        ],
        "height": 400,
        "template": {
         "data": {
          "bar": [
           {
            "error_x": {
             "color": "#2a3f5f"
            },
            "error_y": {
             "color": "#2a3f5f"
            },
            "marker": {
             "line": {
              "color": "#E5ECF6",
              "width": 0.5
             },
             "pattern": {
              "fillmode": "overlay",
              "size": 10,
              "solidity": 0.2
             }
            },
            "type": "bar"
           }
          ],
          "barpolar": [
           {
            "marker": {
             "line": {
              "color": "#E5ECF6",
              "width": 0.5
             },
             "pattern": {
              "fillmode": "overlay",
              "size": 10,
              "solidity": 0.2
             }
            },
            "type": "barpolar"
           }
          ],
          "carpet": [
           {
            "aaxis": {
             "endlinecolor": "#2a3f5f",
             "gridcolor": "white",
             "linecolor": "white",
             "minorgridcolor": "white",
             "startlinecolor": "#2a3f5f"
            },
            "baxis": {
             "endlinecolor": "#2a3f5f",
             "gridcolor": "white",
             "linecolor": "white",
             "minorgridcolor": "white",
             "startlinecolor": "#2a3f5f"
            },
            "type": "carpet"
           }
          ],
          "choropleth": [
           {
            "colorbar": {
             "outlinewidth": 0,
             "ticks": ""
            },
            "type": "choropleth"
           }
          ],
          "contour": [
           {
            "colorbar": {
             "outlinewidth": 0,
             "ticks": ""
            },
            "colorscale": [
             [
              0,
              "#0d0887"
             ],
             [
              0.1111111111111111,
              "#46039f"
             ],
             [
              0.2222222222222222,
              "#7201a8"
             ],
             [
              0.3333333333333333,
              "#9c179e"
             ],
             [
              0.4444444444444444,
              "#bd3786"
             ],
             [
              0.5555555555555556,
              "#d8576b"
             ],
             [
              0.6666666666666666,
              "#ed7953"
             ],
             [
              0.7777777777777778,
              "#fb9f3a"
             ],
             [
              0.8888888888888888,
              "#fdca26"
             ],
             [
              1,
              "#f0f921"
             ]
            ],
            "type": "contour"
           }
          ],
          "contourcarpet": [
           {
            "colorbar": {
             "outlinewidth": 0,
             "ticks": ""
            },
            "type": "contourcarpet"
           }
          ],
          "heatmap": [
           {
            "colorbar": {
             "outlinewidth": 0,
             "ticks": ""
            },
            "colorscale": [
             [
              0,
              "#0d0887"
             ],
             [
              0.1111111111111111,
              "#46039f"
             ],
             [
              0.2222222222222222,
              "#7201a8"
             ],
             [
              0.3333333333333333,
              "#9c179e"
             ],
             [
              0.4444444444444444,
              "#bd3786"
             ],
             [
              0.5555555555555556,
              "#d8576b"
             ],
             [
              0.6666666666666666,
              "#ed7953"
             ],
             [
              0.7777777777777778,
              "#fb9f3a"
             ],
             [
              0.8888888888888888,
              "#fdca26"
             ],
             [
              1,
              "#f0f921"
             ]
            ],
            "type": "heatmap"
           }
          ],
          "histogram": [
           {
            "marker": {
             "pattern": {
              "fillmode": "overlay",
              "size": 10,
              "solidity": 0.2
             }
            },
            "type": "histogram"
           }
          ],
          "histogram2d": [
           {
            "colorbar": {
             "outlinewidth": 0,
             "ticks": ""
            },
            "colorscale": [
             [
              0,
              "#0d0887"
             ],
             [
              0.1111111111111111,
              "#46039f"
             ],
             [
              0.2222222222222222,
              "#7201a8"
             ],
             [
              0.3333333333333333,
              "#9c179e"
             ],
             [
              0.4444444444444444,
              "#bd3786"
             ],
             [
              0.5555555555555556,
              "#d8576b"
             ],
             [
              0.6666666666666666,
              "#ed7953"
             ],
             [
              0.7777777777777778,
              "#fb9f3a"
             ],
             [
              0.8888888888888888,
              "#fdca26"
             ],
             [
              1,
              "#f0f921"
             ]
            ],
            "type": "histogram2d"
           }
          ],
          "histogram2dcontour": [
           {
            "colorbar": {
             "outlinewidth": 0,
             "ticks": ""
            },
            "colorscale": [
             [
              0,
              "#0d0887"
             ],
             [
              0.1111111111111111,
              "#46039f"
             ],
             [
              0.2222222222222222,
              "#7201a8"
             ],
             [
              0.3333333333333333,
              "#9c179e"
             ],
             [
              0.4444444444444444,
              "#bd3786"
             ],
             [
              0.5555555555555556,
              "#d8576b"
             ],
             [
              0.6666666666666666,
              "#ed7953"
             ],
             [
              0.7777777777777778,
              "#fb9f3a"
             ],
             [
              0.8888888888888888,
              "#fdca26"
             ],
             [
              1,
              "#f0f921"
             ]
            ],
            "type": "histogram2dcontour"
           }
          ],
          "mesh3d": [
           {
            "colorbar": {
             "outlinewidth": 0,
             "ticks": ""
            },
            "type": "mesh3d"
           }
          ],
          "parcoords": [
           {
            "line": {
             "colorbar": {
              "outlinewidth": 0,
              "ticks": ""
             }
            },
            "type": "parcoords"
           }
          ],
          "pie": [
           {
            "automargin": true,
            "type": "pie"
           }
          ],
          "scatter": [
           {
            "fillpattern": {
             "fillmode": "overlay",
             "size": 10,
             "solidity": 0.2
            },
            "type": "scatter"
           }
          ],
          "scatter3d": [
           {
            "line": {
             "colorbar": {
              "outlinewidth": 0,
              "ticks": ""
             }
            },
            "marker": {
             "colorbar": {
              "outlinewidth": 0,
              "ticks": ""
             }
            },
            "type": "scatter3d"
           }
          ],
          "scattercarpet": [
           {
            "marker": {
             "colorbar": {
              "outlinewidth": 0,
              "ticks": ""
             }
            },
            "type": "scattercarpet"
           }
          ],
          "scattergeo": [
           {
            "marker": {
             "colorbar": {
              "outlinewidth": 0,
              "ticks": ""
             }
            },
            "type": "scattergeo"
           }
          ],
          "scattergl": [
           {
            "marker": {
             "colorbar": {
              "outlinewidth": 0,
              "ticks": ""
             }
            },
            "type": "scattergl"
           }
          ],
          "scattermap": [
           {
            "marker": {
             "colorbar": {
              "outlinewidth": 0,
              "ticks": ""
             }
            },
            "type": "scattermap"
           }
          ],
          "scattermapbox": [
           {
            "marker": {
             "colorbar": {
              "outlinewidth": 0,
              "ticks": ""
             }
            },
            "type": "scattermapbox"
           }
          ],
          "scatterpolar": [
           {
            "marker": {
             "colorbar": {
              "outlinewidth": 0,
              "ticks": ""
             }
            },
            "type": "scatterpolar"
           }
          ],
          "scatterpolargl": [
           {
            "marker": {
             "colorbar": {
              "outlinewidth": 0,
              "ticks": ""
             }
            },
            "type": "scatterpolargl"
           }
          ],
          "scatterternary": [
           {
            "marker": {
             "colorbar": {
              "outlinewidth": 0,
              "ticks": ""
             }
            },
            "type": "scatterternary"
           }
          ],
          "surface": [
           {
            "colorbar": {
             "outlinewidth": 0,
             "ticks": ""
            },
            "colorscale": [
             [
              0,
              "#0d0887"
             ],
             [
              0.1111111111111111,
              "#46039f"
             ],
             [
              0.2222222222222222,
              "#7201a8"
             ],
             [
              0.3333333333333333,
              "#9c179e"
             ],
             [
              0.4444444444444444,
              "#bd3786"
             ],
             [
              0.5555555555555556,
              "#d8576b"
             ],
             [
              0.6666666666666666,
              "#ed7953"
             ],
             [
              0.7777777777777778,
              "#fb9f3a"
             ],
             [
              0.8888888888888888,
              "#fdca26"
             ],
             [
              1,
              "#f0f921"
             ]
            ],
            "type": "surface"
           }
          ],
          "table": [
           {
            "cells": {
             "fill": {
              "color": "#EBF0F8"
             },
             "line": {
              "color": "white"
             }
            },
            "header": {
             "fill": {
              "color": "#C8D4E3"
             },
             "line": {
              "color": "white"
             }
            },
            "type": "table"
           }
          ]
         },
         "layout": {
          "annotationdefaults": {
           "arrowcolor": "#2a3f5f",
           "arrowhead": 0,
           "arrowwidth": 1
          },
          "autotypenumbers": "strict",
          "coloraxis": {
           "colorbar": {
            "outlinewidth": 0,
            "ticks": ""
           }
          },
          "colorscale": {
           "diverging": [
            [
             0,
             "#8e0152"
            ],
            [
             0.1,
             "#c51b7d"
            ],
            [
             0.2,
             "#de77ae"
            ],
            [
             0.3,
             "#f1b6da"
            ],
            [
             0.4,
             "#fde0ef"
            ],
            [
             0.5,
             "#f7f7f7"
            ],
            [
             0.6,
             "#e6f5d0"
            ],
            [
             0.7,
             "#b8e186"
            ],
            [
             0.8,
             "#7fbc41"
            ],
            [
             0.9,
             "#4d9221"
            ],
            [
             1,
             "#276419"
            ]
           ],
           "sequential": [
            [
             0,
             "#0d0887"
            ],
            [
             0.1111111111111111,
             "#46039f"
            ],
            [
             0.2222222222222222,
             "#7201a8"
            ],
            [
             0.3333333333333333,
             "#9c179e"
            ],
            [
             0.4444444444444444,
             "#bd3786"
            ],
            [
             0.5555555555555556,
             "#d8576b"
            ],
            [
             0.6666666666666666,
             "#ed7953"
            ],
            [
             0.7777777777777778,
             "#fb9f3a"
            ],
            [
             0.8888888888888888,
             "#fdca26"
            ],
            [
             1,
             "#f0f921"
            ]
           ],
           "sequentialminus": [
            [
             0,
             "#0d0887"
            ],
            [
             0.1111111111111111,
             "#46039f"
            ],
            [
             0.2222222222222222,
             "#7201a8"
            ],
            [
             0.3333333333333333,
             "#9c179e"
            ],
            [
             0.4444444444444444,
             "#bd3786"
            ],
            [
             0.5555555555555556,
             "#d8576b"
            ],
            [
             0.6666666666666666,
             "#ed7953"
            ],
            [
             0.7777777777777778,
             "#fb9f3a"
            ],
            [
             0.8888888888888888,
             "#fdca26"
            ],
            [
             1,
             "#f0f921"
            ]
           ]
          },
          "colorway": [
           "#636efa",
           "#EF553B",
           "#00cc96",
           "#ab63fa",
           "#FFA15A",
           "#19d3f3",
           "#FF6692",
           "#B6E880",
           "#FF97FF",
           "#FECB52"
          ],
          "font": {
           "color": "#2a3f5f"
          },
          "geo": {
           "bgcolor": "white",
           "lakecolor": "white",
           "landcolor": "#E5ECF6",
           "showlakes": true,
           "showland": true,
           "subunitcolor": "white"
          },
          "hoverlabel": {
           "align": "left"
          },
          "hovermode": "closest",
          "mapbox": {
           "style": "light"
          },
          "paper_bgcolor": "white",
          "plot_bgcolor": "#E5ECF6",
          "polar": {
           "angularaxis": {
            "gridcolor": "white",
            "linecolor": "white",
            "ticks": ""
           },
           "bgcolor": "#E5ECF6",
           "radialaxis": {
            "gridcolor": "white",
            "linecolor": "white",
            "ticks": ""
           }
          },
          "scene": {
           "xaxis": {
            "backgroundcolor": "#E5ECF6",
            "gridcolor": "white",
            "gridwidth": 2,
            "linecolor": "white",
            "showbackground": true,
            "ticks": "",
            "zerolinecolor": "white"
           },
           "yaxis": {
            "backgroundcolor": "#E5ECF6",
            "gridcolor": "white",
            "gridwidth": 2,
            "linecolor": "white",
            "showbackground": true,
            "ticks": "",
            "zerolinecolor": "white"
           },
           "zaxis": {
            "backgroundcolor": "#E5ECF6",
            "gridcolor": "white",
            "gridwidth": 2,
            "linecolor": "white",
            "showbackground": true,
            "ticks": "",
            "zerolinecolor": "white"
           }
          },
          "shapedefaults": {
           "line": {
            "color": "#2a3f5f"
           }
          },
          "ternary": {
           "aaxis": {
            "gridcolor": "white",
            "linecolor": "white",
            "ticks": ""
           },
           "baxis": {
            "gridcolor": "white",
            "linecolor": "white",
            "ticks": ""
           },
           "bgcolor": "#E5ECF6",
           "caxis": {
            "gridcolor": "white",
            "linecolor": "white",
            "ticks": ""
           }
          },
          "title": {
           "x": 0.05
          },
          "xaxis": {
           "automargin": true,
           "gridcolor": "white",
           "linecolor": "white",
           "ticks": "",
           "title": {
            "standoff": 15
           },
           "zerolinecolor": "white",
           "zerolinewidth": 2
          },
          "yaxis": {
           "automargin": true,
           "gridcolor": "white",
           "linecolor": "white",
           "ticks": "",
           "title": {
            "standoff": 15
           },
           "zerolinecolor": "white",
           "zerolinewidth": 2
          }
         }
        },
        "title": {
         "text": "Bernoulli Naive Bayes Confusion Matrix (α=0.1)"
        },
        "xaxis": {
         "dtick": 1,
         "gridcolor": "rgb(0, 0, 0)",
         "side": "top",
         "ticks": "",
         "title": {
          "text": "Predicted"
         }
        },
        "yaxis": {
         "dtick": 1,
         "ticks": "",
         "ticksuffix": "  ",
         "title": {
          "text": "Actual"
         }
        }
       }
      }
     },
     "metadata": {},
     "output_type": "display_data"
    },
    {
     "name": "stdout",
     "output_type": "stream",
     "text": [
      "\n",
      " Prediction Confidence Analysis:\n",
      "Spam detection confidence: 1.000 ± 0.000\n",
      "Ham detection confidence: 1.000 ± 0.000\n",
      "\n",
      "Sample Email Predictions:\n",
      "Email 1: Actual=Ham, Predicted=Ham (P(Ham)=1.000, P(Spam)=0.000)\n",
      "Email 2: Actual=Spam, Predicted=Spam (P(Ham)=0.000, P(Spam)=1.000)\n",
      "Email 3: Actual=Spam, Predicted=Spam (P(Ham)=0.000, P(Spam)=1.000)\n",
      "Email 4: Actual=Spam, Predicted=Spam (P(Ham)=0.000, P(Spam)=1.000)\n",
      "Email 5: Actual=Ham, Predicted=Ham (P(Ham)=1.000, P(Spam)=0.000)\n"
     ]
    }
   ],
   "source": [
    "# 3. BERNOULLI NAIVE BAYES ANALYSIS (SPAM DETECTION)\n",
    "print(\" 3. BERNOULLI NAIVE BAYES ANALYSIS\")\n",
    "print(\"=\" * 34)\n",
    "\n",
    "# Prepare email data\n",
    "email_features = [col for col in email_df.columns if col != 'is_spam']\n",
    "X_email = email_df[email_features]\n",
    "y_email = email_df['is_spam']\n",
    "\n",
    "print(f\"Email features: {len(email_features)}\")\n",
    "print(f\"Feature sample: {email_features[:5]}\")\n",
    "\n",
    "# Split data\n",
    "X_email_train, X_email_test, y_email_train, y_email_test = train_test_split(\n",
    " X_email, y_email, test_size=0.2, random_state=42, stratify=y_email\n",
    ")\n",
    "\n",
    "print(f\"Training set: {X_email_train.shape}\")\n",
    "print(f\"Test set: {X_email_test.shape}\")\n",
    "print(f\"Class distribution: {y_email_train.value_counts().to_dict()}\")\n",
    "\n",
    "# Train Bernoulli Naive Bayes with different alpha values\n",
    "bnb_results = {}\n",
    "\n",
    "print(f\"\\n Alpha Parameter Optimization (Bernoulli NB):\")\n",
    "\n",
    "for alpha in alpha_values:\n",
    " bnb = BernoulliNB(alpha=alpha)\n",
    " bnb.fit(X_email_train, y_email_train)\n",
    "\n",
    " # Cross-validation\n",
    " cv_scores = cross_val_score(bnb, X_email_train, y_email_train, cv=5)\n",
    " test_score = bnb.score(X_email_test, y_email_test)\n",
    "\n",
    " bnb_results[alpha] = {\n",
    " 'cv_mean': cv_scores.mean(),\n",
    " 'cv_std': cv_scores.std(),\n",
    " 'test_accuracy': test_score\n",
    " }\n",
    "\n",
    " print(f\"• α={alpha}: Test Acc={test_score:.4f}, CV={cv_scores.mean():.4f}±{cv_scores.std():.4f}\")\n",
    "\n",
    "# Find optimal alpha\n",
    "bnb_df = pd.DataFrame(bnb_results).T\n",
    "optimal_alpha_bnb = bnb_df['cv_mean'].idxmax()\n",
    "print(f\"\\n Optimal α: {optimal_alpha_bnb}\")\n",
    "\n",
    "# Train final model\n",
    "bnb_final = BernoulliNB(alpha=optimal_alpha_bnb)\n",
    "bnb_final.fit(X_email_train, y_email_train)\n",
    "\n",
    "# Predictions\n",
    "y_email_pred = bnb_final.predict(X_email_test)\n",
    "y_email_proba = bnb_final.predict_proba(X_email_test)\n",
    "\n",
    "email_accuracy = accuracy_score(y_email_test, y_email_pred)\n",
    "print(f\"\\n Final Bernoulli Naive Bayes Performance:\")\n",
    "print(f\"• α = {optimal_alpha_bnb}\")\n",
    "print(f\"• Test Accuracy: {email_accuracy:.4f}\")\n",
    "\n",
    "print(f\"\\nClassification Report:\")\n",
    "print(classification_report(y_email_test, y_email_pred, target_names=['Ham', 'Spam']))\n",
    "\n",
    "# Feature importance analysis for spam detection\n",
    "print(f\"\\n Feature Analysis for Spam Detection:\")\n",
    "\n",
    "# Calculate feature importance based on log probability ratios\n",
    "spam_log_probs = bnb_final.feature_log_prob_[1] # Spam class\n",
    "ham_log_probs = bnb_final.feature_log_prob_[0] # Ham class\n",
    "\n",
    "# Log odds ratio\n",
    "log_odds_ratio = spam_log_probs - ham_log_probs\n",
    "\n",
    "# Sort features by importance\n",
    "feature_importance = pd.DataFrame({\n",
    " 'feature': email_features,\n",
    " 'log_odds_ratio': log_odds_ratio,\n",
    " 'spam_indicator': log_odds_ratio > 0\n",
    "}).sort_values('log_odds_ratio', key=abs, ascending=False)\n",
    "\n",
    "print(f\"Top 10 Spam Indicators:\")\n",
    "spam_indicators = feature_importance[feature_importance['spam_indicator'] == True].head(10)\n",
    "for _, row in spam_indicators.iterrows():\n",
    " print(f\"• {row['feature']}: {row['log_odds_ratio']:.3f}\")\n",
    "\n",
    "print(f\"\\nTop 10 Ham Indicators:\")\n",
    "ham_indicators = feature_importance[feature_importance['spam_indicator'] == False].head(10)\n",
    "for _, row in ham_indicators.iterrows():\n",
    " print(f\"• {row['feature']}: {row['log_odds_ratio']:.3f}\")\n",
    "\n",
    "# Visualize feature importance\n",
    "fig_feat_importance = go.Figure()\n",
    "\n",
    "# Top spam features\n",
    "top_spam = feature_importance[feature_importance['spam_indicator'] == True].head(10)\n",
    "fig_feat_importance.add_trace(\n",
    " go.Bar(\n",
    " x=top_spam['log_odds_ratio'],\n",
    " y=top_spam['feature'],\n",
    " orientation='h',\n",
    " name='Spam Indicators',\n",
    " marker_color='red',\n",
    " opacity=0.7\n",
    " )\n",
    ")\n",
    "\n",
    "# Top ham features\n",
    "top_ham = feature_importance[feature_importance['spam_indicator'] == False].head(10)\n",
    "fig_feat_importance.add_trace(\n",
    " go.Bar(\n",
    " x=top_ham['log_odds_ratio'],\n",
    " y=top_ham['feature'],\n",
    " orientation='h',\n",
    " name='Ham Indicators',\n",
    " marker_color='blue',\n",
    " opacity=0.7\n",
    " )\n",
    ")\n",
    "\n",
    "fig_feat_importance.update_layout(\n",
    " title=\"Feature Importance for Spam Detection (Bernoulli Naive Bayes)\",\n",
    " xaxis_title=\"Log Odds Ratio (Spam vs Ham)\",\n",
    " yaxis_title=\"Features\",\n",
    " height=600\n",
    ")\n",
    "fig_feat_importance.show()\n",
    "\n",
    "# ROC and Precision-Recall curves\n",
    "fpr_email, tpr_email, _ = roc_curve(y_email_test, y_email_proba[:, 1])\n",
    "roc_auc_email = auc(fpr_email, tpr_email)\n",
    "\n",
    "precision, recall, _ = precision_recall_curve(y_email_test, y_email_proba[:, 1])\n",
    "\n",
    "fig_curves = make_subplots(\n",
    " rows=1, cols=2,\n",
    " subplot_titles=['ROC Curve', 'Precision-Recall Curve']\n",
    ")\n",
    "\n",
    "# ROC Curve\n",
    "fig_curves.add_trace(\n",
    " go.Scatter(\n",
    " x=fpr_email,\n",
    " y=tpr_email,\n",
    " mode='lines',\n",
    " name=f'ROC (AUC = {roc_auc_email:.3f})',\n",
    " line=dict(color='blue')\n",
    " ),\n",
    " row=1, col=1\n",
    ")\n",
    "\n",
    "fig_curves.add_trace(\n",
    " go.Scatter(\n",
    " x=[0, 1],\n",
    " y=[0, 1],\n",
    " mode='lines',\n",
    " name='Random',\n",
    " line=dict(color='red', dash='dash'),\n",
    " showlegend=False\n",
    " ),\n",
    " row=1, col=1\n",
    ")\n",
    "\n",
    "# Precision-Recall Curve\n",
    "fig_curves.add_trace(\n",
    " go.Scatter(\n",
    " x=recall,\n",
    " y=precision,\n",
    " mode='lines',\n",
    " name='Precision-Recall',\n",
    " line=dict(color='green'),\n",
    " showlegend=False\n",
    " ),\n",
    " row=1, col=2\n",
    ")\n",
    "\n",
    "fig_curves.update_xaxes(title_text=\"False Positive Rate\", row=1, col=1)\n",
    "fig_curves.update_yaxes(title_text=\"True Positive Rate\", row=1, col=1)\n",
    "fig_curves.update_xaxes(title_text=\"Recall\", row=1, col=2)\n",
    "fig_curves.update_yaxes(title_text=\"Precision\", row=1, col=2)\n",
    "\n",
    "fig_curves.update_layout(\n",
    " title=\"Bernoulli Naive Bayes Performance Curves (Spam Detection)\",\n",
    " height=500\n",
    ")\n",
    "fig_curves.show()\n",
    "\n",
    "# Confusion Matrix\n",
    "cm_email = confusion_matrix(y_email_test, y_email_pred)\n",
    "\n",
    "fig_cm_email = ff.create_annotated_heatmap(\n",
    " z=cm_email,\n",
    " x=['Ham', 'Spam'],\n",
    " y=['Ham', 'Spam'],\n",
    " annotation_text=cm_email,\n",
    " colorscale='Blues',\n",
    " showscale=True\n",
    ")\n",
    "\n",
    "fig_cm_email.update_layout(\n",
    " title=f\"Bernoulli Naive Bayes Confusion Matrix (α={optimal_alpha_bnb})\",\n",
    " xaxis_title=\"Predicted\",\n",
    " yaxis_title=\"Actual\",\n",
    " height=400\n",
    ")\n",
    "fig_cm_email.show()\n",
    "\n",
    "# Prediction confidence analysis\n",
    "print(f\"\\n Prediction Confidence Analysis:\")\n",
    "\n",
    "# Analyze prediction confidence for both classes\n",
    "spam_confidences = y_email_proba[y_email_test == 1][:, 1] # Spam predictions\n",
    "ham_confidences = y_email_proba[y_email_test == 0][:, 0] # Ham predictions\n",
    "\n",
    "print(f\"Spam detection confidence: {spam_confidences.mean():.3f} ± {spam_confidences.std():.3f}\")\n",
    "print(f\"Ham detection confidence: {ham_confidences.mean():.3f} ± {ham_confidences.std():.3f}\")\n",
    "\n",
    "# Show some example predictions\n",
    "print(f\"\\nSample Email Predictions:\")\n",
    "sample_size = min(5, len(X_email_test))\n",
    "for i in range(sample_size):\n",
    " actual = y_email_test.iloc[i]\n",
    " predicted = y_email_pred[i]\n",
    " prob_ham = y_email_proba[i][0]\n",
    " prob_spam = y_email_proba[i][1]\n",
    "\n",
    " actual_label = 'Spam' if actual == 1 else 'Ham'\n",
    " pred_label = 'Spam' if predicted == 1 else 'Ham'\n",
    "\n",
    " print(f\"Email {i+1}: Actual={actual_label}, Predicted={pred_label} \"\n",
    " f\"(P(Ham)={prob_ham:.3f}, P(Spam)={prob_spam:.3f})\")"
   ]
  },
  {
   "cell_type": "code",
   "execution_count": 17,
   "id": "9599bc9a",
   "metadata": {},
   "outputs": [
    {
     "name": "stdout",
     "output_type": "stream",
     "text": [
      " 4. NAIVE BAYES VARIANTS COMPARISON\n",
      "=====================================\n",
      "Comparing Naive Bayes variants across different problem types:\n",
      "\n",
      " Performance Comparison:\n",
      "\n",
      "Gaussian NB (Medical):\n",
      " • Dataset: Medical Diagnosis\n",
      " • Test Accuracy: 0.8700\n",
      " • Best for: Continuous features with normal distributions\n",
      " • Feature types: Age, BMI, Blood Pressure, etc.\n",
      " • Test samples: 200\n",
      "\n",
      "Multinomial NB (Text):\n",
      " • Dataset: Document Classification\n",
      " • Test Accuracy: 1.0000\n",
      " • Best for: Discrete count features (text, documents)\n",
      " • Feature types: Word counts, TF-IDF scores\n",
      " • Test samples: 160\n",
      "\n",
      "Bernoulli NB (Spam):\n",
      " • Dataset: Email Spam Detection\n",
      " • Test Accuracy: 1.0000\n",
      " • Best for: Binary/boolean features\n",
      " • Feature types: Presence/absence of keywords\n",
      " • Test samples: 200\n"
     ]
    },
    {
     "data": {
      "application/vnd.plotly.v1+json": {
       "config": {
        "plotlyServerURL": "https://plot.ly"
       },
       "data": [
        {
         "hovertemplate": "Variant: %{x}<br>Accuracy: %{y:.4f}<extra></extra>",
         "marker": {
          "color": [
           "lightblue",
           "lightgreen",
           "lightcoral"
          ]
         },
         "text": [
          "0.870",
          "1.000",
          "1.000"
         ],
         "textposition": "outside",
         "type": "bar",
         "x": [
          "Gaussian NB (Medical)",
          "Multinomial NB (Text)",
          "Bernoulli NB (Spam)"
         ],
         "y": [
          0.87,
          1,
          1
         ]
        }
       ],
       "layout": {
        "height": 500,
        "template": {
         "data": {
          "bar": [
           {
            "error_x": {
             "color": "#2a3f5f"
            },
            "error_y": {
             "color": "#2a3f5f"
            },
            "marker": {
             "line": {
              "color": "#E5ECF6",
              "width": 0.5
             },
             "pattern": {
              "fillmode": "overlay",
              "size": 10,
              "solidity": 0.2
             }
            },
            "type": "bar"
           }
          ],
          "barpolar": [
           {
            "marker": {
             "line": {
              "color": "#E5ECF6",
              "width": 0.5
             },
             "pattern": {
              "fillmode": "overlay",
              "size": 10,
              "solidity": 0.2
             }
            },
            "type": "barpolar"
           }
          ],
          "carpet": [
           {
            "aaxis": {
             "endlinecolor": "#2a3f5f",
             "gridcolor": "white",
             "linecolor": "white",
             "minorgridcolor": "white",
             "startlinecolor": "#2a3f5f"
            },
            "baxis": {
             "endlinecolor": "#2a3f5f",
             "gridcolor": "white",
             "linecolor": "white",
             "minorgridcolor": "white",
             "startlinecolor": "#2a3f5f"
            },
            "type": "carpet"
           }
          ],
          "choropleth": [
           {
            "colorbar": {
             "outlinewidth": 0,
             "ticks": ""
            },
            "type": "choropleth"
           }
          ],
          "contour": [
           {
            "colorbar": {
             "outlinewidth": 0,
             "ticks": ""
            },
            "colorscale": [
             [
              0,
              "#0d0887"
             ],
             [
              0.1111111111111111,
              "#46039f"
             ],
             [
              0.2222222222222222,
              "#7201a8"
             ],
             [
              0.3333333333333333,
              "#9c179e"
             ],
             [
              0.4444444444444444,
              "#bd3786"
             ],
             [
              0.5555555555555556,
              "#d8576b"
             ],
             [
              0.6666666666666666,
              "#ed7953"
             ],
             [
              0.7777777777777778,
              "#fb9f3a"
             ],
             [
              0.8888888888888888,
              "#fdca26"
             ],
             [
              1,
              "#f0f921"
             ]
            ],
            "type": "contour"
           }
          ],
          "contourcarpet": [
           {
            "colorbar": {
             "outlinewidth": 0,
             "ticks": ""
            },
            "type": "contourcarpet"
           }
          ],
          "heatmap": [
           {
            "colorbar": {
             "outlinewidth": 0,
             "ticks": ""
            },
            "colorscale": [
             [
              0,
              "#0d0887"
             ],
             [
              0.1111111111111111,
              "#46039f"
             ],
             [
              0.2222222222222222,
              "#7201a8"
             ],
             [
              0.3333333333333333,
              "#9c179e"
             ],
             [
              0.4444444444444444,
              "#bd3786"
             ],
             [
              0.5555555555555556,
              "#d8576b"
             ],
             [
              0.6666666666666666,
              "#ed7953"
             ],
             [
              0.7777777777777778,
              "#fb9f3a"
             ],
             [
              0.8888888888888888,
              "#fdca26"
             ],
             [
              1,
              "#f0f921"
             ]
            ],
            "type": "heatmap"
           }
          ],
          "histogram": [
           {
            "marker": {
             "pattern": {
              "fillmode": "overlay",
              "size": 10,
              "solidity": 0.2
             }
            },
            "type": "histogram"
           }
          ],
          "histogram2d": [
           {
            "colorbar": {
             "outlinewidth": 0,
             "ticks": ""
            },
            "colorscale": [
             [
              0,
              "#0d0887"
             ],
             [
              0.1111111111111111,
              "#46039f"
             ],
             [
              0.2222222222222222,
              "#7201a8"
             ],
             [
              0.3333333333333333,
              "#9c179e"
             ],
             [
              0.4444444444444444,
              "#bd3786"
             ],
             [
              0.5555555555555556,
              "#d8576b"
             ],
             [
              0.6666666666666666,
              "#ed7953"
             ],
             [
              0.7777777777777778,
              "#fb9f3a"
             ],
             [
              0.8888888888888888,
              "#fdca26"
             ],
             [
              1,
              "#f0f921"
             ]
            ],
            "type": "histogram2d"
           }
          ],
          "histogram2dcontour": [
           {
            "colorbar": {
             "outlinewidth": 0,
             "ticks": ""
            },
            "colorscale": [
             [
              0,
              "#0d0887"
             ],
             [
              0.1111111111111111,
              "#46039f"
             ],
             [
              0.2222222222222222,
              "#7201a8"
             ],
             [
              0.3333333333333333,
              "#9c179e"
             ],
             [
              0.4444444444444444,
              "#bd3786"
             ],
             [
              0.5555555555555556,
              "#d8576b"
             ],
             [
              0.6666666666666666,
              "#ed7953"
             ],
             [
              0.7777777777777778,
              "#fb9f3a"
             ],
             [
              0.8888888888888888,
              "#fdca26"
             ],
             [
              1,
              "#f0f921"
             ]
            ],
            "type": "histogram2dcontour"
           }
          ],
          "mesh3d": [
           {
            "colorbar": {
             "outlinewidth": 0,
             "ticks": ""
            },
            "type": "mesh3d"
           }
          ],
          "parcoords": [
           {
            "line": {
             "colorbar": {
              "outlinewidth": 0,
              "ticks": ""
             }
            },
            "type": "parcoords"
           }
          ],
          "pie": [
           {
            "automargin": true,
            "type": "pie"
           }
          ],
          "scatter": [
           {
            "fillpattern": {
             "fillmode": "overlay",
             "size": 10,
             "solidity": 0.2
            },
            "type": "scatter"
           }
          ],
          "scatter3d": [
           {
            "line": {
             "colorbar": {
              "outlinewidth": 0,
              "ticks": ""
             }
            },
            "marker": {
             "colorbar": {
              "outlinewidth": 0,
              "ticks": ""
             }
            },
            "type": "scatter3d"
           }
          ],
          "scattercarpet": [
           {
            "marker": {
             "colorbar": {
              "outlinewidth": 0,
              "ticks": ""
             }
            },
            "type": "scattercarpet"
           }
          ],
          "scattergeo": [
           {
            "marker": {
             "colorbar": {
              "outlinewidth": 0,
              "ticks": ""
             }
            },
            "type": "scattergeo"
           }
          ],
          "scattergl": [
           {
            "marker": {
             "colorbar": {
              "outlinewidth": 0,
              "ticks": ""
             }
            },
            "type": "scattergl"
           }
          ],
          "scattermap": [
           {
            "marker": {
             "colorbar": {
              "outlinewidth": 0,
              "ticks": ""
             }
            },
            "type": "scattermap"
           }
          ],
          "scattermapbox": [
           {
            "marker": {
             "colorbar": {
              "outlinewidth": 0,
              "ticks": ""
             }
            },
            "type": "scattermapbox"
           }
          ],
          "scatterpolar": [
           {
            "marker": {
             "colorbar": {
              "outlinewidth": 0,
              "ticks": ""
             }
            },
            "type": "scatterpolar"
           }
          ],
          "scatterpolargl": [
           {
            "marker": {
             "colorbar": {
              "outlinewidth": 0,
              "ticks": ""
             }
            },
            "type": "scatterpolargl"
           }
          ],
          "scatterternary": [
           {
            "marker": {
             "colorbar": {
              "outlinewidth": 0,
              "ticks": ""
             }
            },
            "type": "scatterternary"
           }
          ],
          "surface": [
           {
            "colorbar": {
             "outlinewidth": 0,
             "ticks": ""
            },
            "colorscale": [
             [
              0,
              "#0d0887"
             ],
             [
              0.1111111111111111,
              "#46039f"
             ],
             [
              0.2222222222222222,
              "#7201a8"
             ],
             [
              0.3333333333333333,
              "#9c179e"
             ],
             [
              0.4444444444444444,
              "#bd3786"
             ],
             [
              0.5555555555555556,
              "#d8576b"
             ],
             [
              0.6666666666666666,
              "#ed7953"
             ],
             [
              0.7777777777777778,
              "#fb9f3a"
             ],
             [
              0.8888888888888888,
              "#fdca26"
             ],
             [
              1,
              "#f0f921"
             ]
            ],
            "type": "surface"
           }
          ],
          "table": [
           {
            "cells": {
             "fill": {
              "color": "#EBF0F8"
             },
             "line": {
              "color": "white"
             }
            },
            "header": {
             "fill": {
              "color": "#C8D4E3"
             },
             "line": {
              "color": "white"
             }
            },
            "type": "table"
           }
          ]
         },
         "layout": {
          "annotationdefaults": {
           "arrowcolor": "#2a3f5f",
           "arrowhead": 0,
           "arrowwidth": 1
          },
          "autotypenumbers": "strict",
          "coloraxis": {
           "colorbar": {
            "outlinewidth": 0,
            "ticks": ""
           }
          },
          "colorscale": {
           "diverging": [
            [
             0,
             "#8e0152"
            ],
            [
             0.1,
             "#c51b7d"
            ],
            [
             0.2,
             "#de77ae"
            ],
            [
             0.3,
             "#f1b6da"
            ],
            [
             0.4,
             "#fde0ef"
            ],
            [
             0.5,
             "#f7f7f7"
            ],
            [
             0.6,
             "#e6f5d0"
            ],
            [
             0.7,
             "#b8e186"
            ],
            [
             0.8,
             "#7fbc41"
            ],
            [
             0.9,
             "#4d9221"
            ],
            [
             1,
             "#276419"
            ]
           ],
           "sequential": [
            [
             0,
             "#0d0887"
            ],
            [
             0.1111111111111111,
             "#46039f"
            ],
            [
             0.2222222222222222,
             "#7201a8"
            ],
            [
             0.3333333333333333,
             "#9c179e"
            ],
            [
             0.4444444444444444,
             "#bd3786"
            ],
            [
             0.5555555555555556,
             "#d8576b"
            ],
            [
             0.6666666666666666,
             "#ed7953"
            ],
            [
             0.7777777777777778,
             "#fb9f3a"
            ],
            [
             0.8888888888888888,
             "#fdca26"
            ],
            [
             1,
             "#f0f921"
            ]
           ],
           "sequentialminus": [
            [
             0,
             "#0d0887"
            ],
            [
             0.1111111111111111,
             "#46039f"
            ],
            [
             0.2222222222222222,
             "#7201a8"
            ],
            [
             0.3333333333333333,
             "#9c179e"
            ],
            [
             0.4444444444444444,
             "#bd3786"
            ],
            [
             0.5555555555555556,
             "#d8576b"
            ],
            [
             0.6666666666666666,
             "#ed7953"
            ],
            [
             0.7777777777777778,
             "#fb9f3a"
            ],
            [
             0.8888888888888888,
             "#fdca26"
            ],
            [
             1,
             "#f0f921"
            ]
           ]
          },
          "colorway": [
           "#636efa",
           "#EF553B",
           "#00cc96",
           "#ab63fa",
           "#FFA15A",
           "#19d3f3",
           "#FF6692",
           "#B6E880",
           "#FF97FF",
           "#FECB52"
          ],
          "font": {
           "color": "#2a3f5f"
          },
          "geo": {
           "bgcolor": "white",
           "lakecolor": "white",
           "landcolor": "#E5ECF6",
           "showlakes": true,
           "showland": true,
           "subunitcolor": "white"
          },
          "hoverlabel": {
           "align": "left"
          },
          "hovermode": "closest",
          "mapbox": {
           "style": "light"
          },
          "paper_bgcolor": "white",
          "plot_bgcolor": "#E5ECF6",
          "polar": {
           "angularaxis": {
            "gridcolor": "white",
            "linecolor": "white",
            "ticks": ""
           },
           "bgcolor": "#E5ECF6",
           "radialaxis": {
            "gridcolor": "white",
            "linecolor": "white",
            "ticks": ""
           }
          },
          "scene": {
           "xaxis": {
            "backgroundcolor": "#E5ECF6",
            "gridcolor": "white",
            "gridwidth": 2,
            "linecolor": "white",
            "showbackground": true,
            "ticks": "",
            "zerolinecolor": "white"
           },
           "yaxis": {
            "backgroundcolor": "#E5ECF6",
            "gridcolor": "white",
            "gridwidth": 2,
            "linecolor": "white",
            "showbackground": true,
            "ticks": "",
            "zerolinecolor": "white"
           },
           "zaxis": {
            "backgroundcolor": "#E5ECF6",
            "gridcolor": "white",
            "gridwidth": 2,
            "linecolor": "white",
            "showbackground": true,
            "ticks": "",
            "zerolinecolor": "white"
           }
          },
          "shapedefaults": {
           "line": {
            "color": "#2a3f5f"
           }
          },
          "ternary": {
           "aaxis": {
            "gridcolor": "white",
            "linecolor": "white",
            "ticks": ""
           },
           "baxis": {
            "gridcolor": "white",
            "linecolor": "white",
            "ticks": ""
           },
           "bgcolor": "#E5ECF6",
           "caxis": {
            "gridcolor": "white",
            "linecolor": "white",
            "ticks": ""
           }
          },
          "title": {
           "x": 0.05
          },
          "xaxis": {
           "automargin": true,
           "gridcolor": "white",
           "linecolor": "white",
           "ticks": "",
           "title": {
            "standoff": 15
           },
           "zerolinecolor": "white",
           "zerolinewidth": 2
          },
          "yaxis": {
           "automargin": true,
           "gridcolor": "white",
           "linecolor": "white",
           "ticks": "",
           "title": {
            "standoff": 15
           },
           "zerolinecolor": "white",
           "zerolinewidth": 2
          }
         }
        },
        "title": {
         "text": "Naive Bayes Variants Performance Comparison"
        },
        "xaxis": {
         "title": {
          "text": "Naive Bayes Variant"
         }
        },
        "yaxis": {
         "title": {
          "text": "Test Accuracy"
         }
        }
       }
      }
     },
     "metadata": {},
     "output_type": "display_data"
    },
    {
     "name": "stdout",
     "output_type": "stream",
     "text": [
      "\n",
      " Feature Independence Analysis:\n",
      "\n",
      "1. Medical Dataset Feature Correlations:\n",
      "Strong correlations (|r| > 0.3):\n",
      " • bmi ↔ blood_pressure: 0.365\n",
      " • bmi ↔ cholesterol: 0.385\n",
      " • bmi ↔ exercise_hours: -0.395\n",
      " • blood_pressure ↔ cholesterol: 0.445\n",
      " • blood_pressure ↔ exercise_hours: -0.410\n",
      " • cholesterol ↔ exercise_hours: -0.443\n",
      "\n",
      "2. Email Dataset Feature Correlations:\n",
      "Strong correlations (|r| > 0.3):\n",
      " • has_free ↔ has_money: 0.394\n",
      " • has_free ↔ has_offer: 0.414\n",
      " • has_free ↔ has_click: 0.399\n",
      " • has_free ↔ has_urgent: 0.444\n",
      " • has_free ↔ has_limited: 0.380\n",
      " • ... (showing first 5 correlations)\n",
      "\n",
      "3. Independence Assumption Impact:\n",
      " • Medical data: Some correlations exist (e.g., BMI vs blood pressure)\n",
      " • Impact: Moderate - correlations are expected in medical data\n",
      " • Recommendation: Monitor performance; consider feature selection\n",
      " \n",
      " • Email data: Binary features may have logical correlations\n",
      " • Impact: Low - Naive Bayes often robust to moderate violations\n",
      " • Recommendation: Current performance suggests assumption is reasonable\n",
      "\n",
      " Training Speed Comparison:\n",
      " • Gaussian NB: 0.0059 seconds\n",
      " • Multinomial NB: 0.0048 seconds\n",
      " • Bernoulli NB: 0.0026 seconds\n",
      "\n",
      "All Naive Bayes variants demonstrate excellent scalability!\n",
      "\n",
      " Memory Usage Characteristics:\n",
      " • Gaussian NB: Stores mean and variance for each feature-class pair\n",
      " Memory: O(features × classes) = O(6 × 2) parameters\n",
      " \n",
      " • Multinomial NB: Stores probability for each feature-class pair\n",
      " Memory: O(vocabulary × classes) = O(1000 × 4) parameters\n",
      " \n",
      " • Bernoulli NB: Stores probability for each binary feature-class pair\n",
      " Memory: O(features × classes) = O(32 × 2) parameters\n",
      " \n",
      "All variants have minimal memory requirements compared to other algorithms!\n"
     ]
    }
   ],
   "source": [
    "# 4. NAIVE BAYES VARIANTS COMPARISON\n",
    "print(\" 4. NAIVE BAYES VARIANTS COMPARISON\")\n",
    "print(\"=\" * 37)\n",
    "\n",
    "# Compare all three Naive Bayes variants on appropriate datasets\n",
    "print(\"Comparing Naive Bayes variants across different problem types:\")\n",
    "\n",
    "# Create comparison results\n",
    "comparison_results = {\n",
    "    'Gaussian NB (Medical)': {\n",
    "        'dataset': 'Medical Diagnosis',\n",
    "        'accuracy': med_accuracy,\n",
    "        'best_for': 'Continuous features with normal distributions',\n",
    "        'features': 'Age, BMI, Blood Pressure, etc.',\n",
    "        'sample_size': X_med_test.shape[0]\n",
    "    },\n",
    "    'Multinomial NB (Text)': {\n",
    "        'dataset': 'Document Classification',\n",
    "        'accuracy': text_accuracy,\n",
    "        'best_for': 'Discrete count features (text, documents)',\n",
    "        'features': 'Word counts, TF-IDF scores',\n",
    "        'sample_size': X_text_test.shape[0]\n",
    "    },\n",
    "    'Bernoulli NB (Spam)': {\n",
    "        'dataset': 'Email Spam Detection',\n",
    "        'accuracy': email_accuracy,\n",
    "        'best_for': 'Binary/boolean features',\n",
    "        'features': 'Presence/absence of keywords',\n",
    "        'sample_size': X_email_test.shape[0]\n",
    "    }\n",
    "}\n",
    "print(f\"\\n Performance Comparison:\")\n",
    "for variant, results in comparison_results.items():\n",
    " print(f\"\\n{variant}:\")\n",
    " print(f\" • Dataset: {results['dataset']}\")\n",
    " print(f\" • Test Accuracy: {results['accuracy']:.4f}\")\n",
    " print(f\" • Best for: {results['best_for']}\")\n",
    " print(f\" • Feature types: {results['features']}\")\n",
    " print(f\" • Test samples: {results['sample_size']}\")\n",
    "\n",
    "# Visualize comparison\n",
    "variants = list(comparison_results.keys())\n",
    "accuracies = [results['accuracy'] for results in comparison_results.values()]\n",
    "datasets = [results['dataset'] for results in comparison_results.values()]\n",
    "\n",
    "fig_comparison = go.Figure()\n",
    "\n",
    "fig_comparison.add_trace(\n",
    " go.Bar(\n",
    " x=variants,\n",
    " y=accuracies,\n",
    " text=[f\"{acc:.3f}\" for acc in accuracies],\n",
    " textposition='outside',\n",
    " marker_color=['lightblue', 'lightgreen', 'lightcoral'],\n",
    " hovertemplate=\"Variant: %{x}<br>Accuracy: %{y:.4f}<extra></extra>\"\n",
    " )\n",
    ")\n",
    "\n",
    "fig_comparison.update_layout(\n",
    " title=\"Naive Bayes Variants Performance Comparison\",\n",
    " xaxis_title=\"Naive Bayes Variant\",\n",
    " yaxis_title=\"Test Accuracy\",\n",
    " height=500\n",
    ")\n",
    "fig_comparison.show()\n",
    "\n",
    "# Feature independence analysis\n",
    "print(f\"\\n Feature Independence Analysis:\")\n",
    "\n",
    "# Analyze feature correlations for each dataset\n",
    "print(f\"\\n1. Medical Dataset Feature Correlations:\")\n",
    "medical_corr = X_medical.corr()\n",
    "print(\"Strong correlations (|r| > 0.3):\")\n",
    "for i in range(len(medical_corr.columns)):\n",
    "    for j in range(i+1, len(medical_corr.columns)):\n",
    "        corr_val = medical_corr.iloc[i, j]\n",
    "        if abs(corr_val) > 0.3:\n",
    "            print(f\" • {medical_corr.columns[i]} ↔ {medical_corr.columns[j]}: {corr_val:.3f}\")\n",
    "\n",
    "print(f\"\\n2. Email Dataset Feature Correlations:\")\n",
    "email_corr = X_email.corr()\n",
    "print(\"Strong correlations (|r| > 0.3):\")\n",
    "strong_corr_count = 0\n",
    "for i in range(len(email_corr.columns)):\n",
    "    for j in range(i+1, len(email_corr.columns)):\n",
    "        corr_val = email_corr.iloc[i, j]\n",
    "        if abs(corr_val) > 0.3:\n",
    "            print(f\" • {email_corr.columns[i]} ↔ {email_corr.columns[j]}: {corr_val:.3f}\")\n",
    "            strong_corr_count += 1\n",
    "            if strong_corr_count >= 5: # Limit output\n",
    "                break\n",
    "    if strong_corr_count >= 5:\n",
    "        break\n",
    "\n",
    "if strong_corr_count >= 5:\n",
    "    print(\" • ... (showing first 5 correlations)\")\n",
    "\n",
    "# Independence assumption violation impact\n",
    "print(f\"\\n3. Independence Assumption Impact:\")\n",
    "print(f\" • Medical data: Some correlations exist (e.g., BMI vs blood pressure)\")\n",
    "print(f\" • Impact: Moderate - correlations are expected in medical data\")\n",
    "print(f\" • Recommendation: Monitor performance; consider feature selection\")\n",
    "print(f\" \")\n",
    "print(f\" • Email data: Binary features may have logical correlations\")\n",
    "print(f\" • Impact: Low - Naive Bayes often robust to moderate violations\")\n",
    "print(f\" • Recommendation: Current performance suggests assumption is reasonable\")\n",
    "\n",
    "# Training speed comparison\n",
    "import time\n",
    "\n",
    "print(f\"\\n Training Speed Comparison:\")\n",
    "\n",
    "training_times = {}\n",
    "\n",
    "# Gaussian NB timing\n",
    "start_time = time.time()\n",
    "gnb_timing = GaussianNB()\n",
    "gnb_timing.fit(X_med_train, y_med_train)\n",
    "training_times['Gaussian NB'] = time.time() - start_time\n",
    "\n",
    "# Multinomial NB timing\n",
    "start_time = time.time()\n",
    "mnb_timing = MultinomialNB(alpha=optimal_alpha)\n",
    "mnb_timing.fit(X_counts_train, y_text_train)\n",
    "training_times['Multinomial NB'] = time.time() - start_time\n",
    "\n",
    "# Bernoulli NB timing\n",
    "start_time = time.time()\n",
    "bnb_timing = BernoulliNB(alpha=optimal_alpha_bnb)\n",
    "bnb_timing.fit(X_email_train, y_email_train)\n",
    "training_times['Bernoulli NB'] = time.time() - start_time\n",
    "\n",
    "for variant, time_taken in training_times.items():\n",
    " print(f\" • {variant}: {time_taken:.4f} seconds\")\n",
    "\n",
    "print(f\"\\nAll Naive Bayes variants demonstrate excellent scalability!\")\n",
    "\n",
    "# Memory usage estimation\n",
    "print(f\"\\n Memory Usage Characteristics:\")\n",
    "print(f\" • Gaussian NB: Stores mean and variance for each feature-class pair\")\n",
    "print(f\" Memory: O(features × classes) = O({len(medical_features)} × 2) parameters\")\n",
    "print(f\" \")\n",
    "print(f\" • Multinomial NB: Stores probability for each feature-class pair\")\n",
    "print(f\" Memory: O(vocabulary × classes) = O({X_counts_train.shape[1]} × {len(mnb_final.classes_)}) parameters\")\n",
    "print(f\" \")\n",
    "print(f\" • Bernoulli NB: Stores probability for each binary feature-class pair\")\n",
    "print(f\" Memory: O(features × classes) = O({len(email_features)} × 2) parameters\")\n",
    "print(f\" \")\n",
    "print(f\"All variants have minimal memory requirements compared to other algorithms!\")"
   ]
  },
  {
   "cell_type": "code",
   "execution_count": 18,
   "id": "a8fdce30",
   "metadata": {},
   "outputs": [
    {
     "name": "stdout",
     "output_type": "stream",
     "text": [
      " 5. BUSINESS INSIGHTS AND STRATEGIC RECOMMENDATIONS\n",
      "======================================================\n",
      " Probabilistic Decision Making Insights:\n",
      "\n",
      "1. MODEL PERFORMANCE SUMMARY:\n",
      " • Medical Diagnosis (Gaussian NB): 87.0% accuracy\n",
      " • Document Classification (Multinomial NB): 100.0% accuracy\n",
      " • Spam Detection (Bernoulli NB): 100.0% accuracy\n",
      "\n",
      "2. ROI ANALYSIS BY APPLICATION:\n",
      "\n",
      " Medical Diagnosis System:\n",
      " • Daily patient volume: 1,000\n",
      " • Automated screening cost: $50,000/day\n",
      " • Manual diagnosis cost: $200,000/day\n",
      " • Daily cost savings: $150,000\n",
      " • Annual savings: $54,750,000\n",
      " • Risk mitigation: Early detection of 265 high-risk patients/day\n",
      "\n",
      " Document Classification System:\n",
      " • Daily document volume: 10,000\n",
      " • Cost savings per document: $1.90\n",
      " • Daily cost savings: $19,000.0\n",
      " • Annual savings: $6,935,000.0\n",
      " • Accuracy: 100.0% automated classification\n",
      "\n",
      " Spam Detection System:\n",
      " • Daily email volume: 100,000\n",
      " • Spam rate: 40.0%\n",
      " • False positive cost: $0/day\n",
      " • False negative cost: $0/day\n",
      " • Total error cost: $0/day\n",
      " • Annual error cost: $0\n",
      "\n",
      "3. STRATEGIC IMPLEMENTATION RECOMMENDATIONS:\n",
      "\n",
      " Gaussian Naive Bayes (Medical Diagnosis):\n",
      " • Deploy as preliminary screening tool\n",
      " • Use probability scores to prioritize urgent cases\n",
      " • Integrate with electronic health records\n",
      " • Maintain human oversight for final diagnosis\n",
      " • Regular model updates with new patient data\n",
      "\n",
      " Multinomial Naive Bayes (Document Classification):\n",
      " • Implement for content management systems\n",
      " • Use for automated news categorization\n",
      " • Apply to customer support ticket routing\n",
      " • Enable real-time document processing\n",
      " • Continuously update vocabulary and categories\n",
      "\n",
      " Bernoulli Naive Bayes (Spam Detection):\n",
      " • Deploy as first-line email defense\n",
      " • Combine with other security measures\n",
      " • Implement user feedback loop\n",
      " • Regular feature engineering for new spam patterns\n",
      " • Monitor false positive rates closely\n",
      "\n",
      "4. NAIVE BAYES ADVANTAGES:\n",
      " • Fast training and prediction (real-time capable)\n",
      " • Minimal memory requirements\n",
      " • Excellent baseline performance\n",
      " • Handles multiple classes naturally\n",
      " • Probabilistic output enables confidence scoring\n",
      " • Robust to irrelevant features\n",
      " • Works well with small datasets\n",
      "\n",
      "5. LIMITATIONS AND MITIGATION:\n",
      " • Independence assumption rarely holds perfectly\n",
      " → Monitor feature correlations and performance\n",
      " • Can be outperformed by more complex models\n",
      " → Use as baseline; ensemble with other methods\n",
      " • Sensitive to skewed features\n",
      " → Apply appropriate preprocessing and smoothing\n",
      " • Zero probability problem\n",
      " → Use Laplace smoothing (alpha parameter)\n",
      "\n",
      "6. MONITORING AND MAINTENANCE:\n",
      " • Track prediction confidence distributions\n",
      " • Monitor feature importance changes over time\n",
      " • Set up automated retraining pipelines\n",
      " • Implement A/B testing for model updates\n",
      " • Regular validation against ground truth\n",
      "\n",
      "7. ADVANCED TECHNIQUES:\n",
      " • Complement Naive Bayes for dependent features\n",
      " • Ensemble methods combining multiple NB variants\n",
      " • Online learning for streaming data\n",
      " • Feature selection to improve independence\n",
      " • Calibration for better probability estimates\n",
      "\n",
      "8. NEXT STEPS:\n",
      " • Pilot deployment in production environment\n",
      " • Collect user feedback and performance metrics\n",
      " • Experiment with feature engineering\n",
      " • Compare against ensemble methods\n",
      " • Develop domain-specific variants\n",
      "\n",
      "================================================================================\n",
      " NAIVE BAYES LEARNING SUMMARY:\n",
      " Mastered Bayes' theorem and conditional probability\n",
      " Applied three NB variants to appropriate problem types\n",
      " Optimized hyperparameters and analyzed feature importance\n",
      " Understood independence assumptions and their violations\n",
      " Analyzed probabilistic outputs and prediction confidence\n",
      " Generated comprehensive business applications and ROI analysis\n",
      "================================================================================\n"
     ]
    }
   ],
   "source": [
    "# 5. BUSINESS INSIGHTS AND STRATEGIC RECOMMENDATIONS\n",
    "print(\" 5. BUSINESS INSIGHTS AND STRATEGIC RECOMMENDATIONS\")\n",
    "print(\"=\" * 54)\n",
    "\n",
    "# Probabilistic insights and business applications\n",
    "print(\" Probabilistic Decision Making Insights:\")\n",
    "\n",
    "print(f\"\\n1. MODEL PERFORMANCE SUMMARY:\")\n",
    "print(f\" • Medical Diagnosis (Gaussian NB): {med_accuracy:.1%} accuracy\")\n",
    "print(f\" • Document Classification (Multinomial NB): {text_accuracy:.1%} accuracy\")\n",
    "print(f\" • Spam Detection (Bernoulli NB): {email_accuracy:.1%} accuracy\")\n",
    "\n",
    "# ROI Analysis for each application\n",
    "print(f\"\\n2. ROI ANALYSIS BY APPLICATION:\")\n",
    "\n",
    "# Medical diagnosis ROI\n",
    "medical_volume = 1000 # Daily patients\n",
    "misdiagnosis_cost = 5000 # Cost of misdiagnosis\n",
    "screening_cost = 50 # Cost per automated screening\n",
    "manual_diagnosis_cost = 200 # Cost per manual diagnosis\n",
    "\n",
    "automated_daily_cost = medical_volume * screening_cost\n",
    "manual_daily_cost = medical_volume * manual_diagnosis_cost\n",
    "daily_savings = manual_daily_cost - automated_daily_cost\n",
    "\n",
    "# Assume 5% of high-risk patients would have serious conditions if missed\n",
    "high_risk_patients = medical_volume * (medical_df['health_risk'].mean())\n",
    "false_negative_rate = 1 - med_accuracy # Simplified\n",
    "potential_misdiagnosis_cost = high_risk_patients * false_negative_rate * misdiagnosis_cost * 0.05\n",
    "\n",
    "print(f\"\\n Medical Diagnosis System:\")\n",
    "print(f\" • Daily patient volume: {medical_volume:,}\")\n",
    "print(f\" • Automated screening cost: ${automated_daily_cost:,}/day\")\n",
    "print(f\" • Manual diagnosis cost: ${manual_daily_cost:,}/day\")\n",
    "print(f\" • Daily cost savings: ${daily_savings:,}\")\n",
    "print(f\" • Annual savings: ${daily_savings * 365:,}\")\n",
    "print(f\" • Risk mitigation: Early detection of {high_risk_patients:.0f} high-risk patients/day\")\n",
    "\n",
    "# Document classification ROI\n",
    "doc_volume = 10000 # Daily documents\n",
    "manual_classification_cost = 2 # Cost per manual classification\n",
    "automated_classification_cost = 0.1 # Cost per automated classification\n",
    "\n",
    "doc_daily_savings = doc_volume * (manual_classification_cost - automated_classification_cost)\n",
    "\n",
    "print(f\"\\n Document Classification System:\")\n",
    "print(f\" • Daily document volume: {doc_volume:,}\")\n",
    "print(f\" • Cost savings per document: ${manual_classification_cost - automated_classification_cost:.2f}\")\n",
    "print(f\" • Daily cost savings: ${doc_daily_savings:,}\")\n",
    "print(f\" • Annual savings: ${doc_daily_savings * 365:,}\")\n",
    "print(f\" • Accuracy: {text_accuracy:.1%} automated classification\")\n",
    "\n",
    "# Spam detection ROI\n",
    "email_volume = 100000 # Daily emails\n",
    "spam_rate = 0.4 # 40% spam\n",
    "false_positive_cost = 10 # Cost of blocking legitimate email\n",
    "false_negative_cost = 1 # Cost of letting spam through\n",
    "manual_review_cost = 0.5 # Cost per manual review\n",
    "\n",
    "spam_emails = email_volume * spam_rate\n",
    "ham_emails = email_volume * (1 - spam_rate)\n",
    "\n",
    "# Calculate costs with current system\n",
    "fp_rate = cm_email[0][1] / (cm_email[0][0] + cm_email[0][1]) # Ham classified as spam\n",
    "fn_rate = cm_email[1][0] / (cm_email[1][0] + cm_email[1][1]) # Spam classified as ham\n",
    "\n",
    "daily_fp_cost = ham_emails * fp_rate * false_positive_cost\n",
    "daily_fn_cost = spam_emails * fn_rate * false_negative_cost\n",
    "total_daily_cost = daily_fp_cost + daily_fn_cost\n",
    "\n",
    "print(f\"\\n Spam Detection System:\")\n",
    "print(f\" • Daily email volume: {email_volume:,}\")\n",
    "print(f\" • Spam rate: {spam_rate:.1%}\")\n",
    "print(f\" • False positive cost: ${daily_fp_cost:,.0f}/day\")\n",
    "print(f\" • False negative cost: ${daily_fn_cost:,.0f}/day\")\n",
    "print(f\" • Total error cost: ${total_daily_cost:,.0f}/day\")\n",
    "print(f\" • Annual error cost: ${total_daily_cost * 365:,.0f}\")\n",
    "\n",
    "print(f\"\\n3. STRATEGIC IMPLEMENTATION RECOMMENDATIONS:\")\n",
    "\n",
    "print(f\"\\n Gaussian Naive Bayes (Medical Diagnosis):\")\n",
    "print(f\" • Deploy as preliminary screening tool\")\n",
    "print(f\" • Use probability scores to prioritize urgent cases\")\n",
    "print(f\" • Integrate with electronic health records\")\n",
    "print(f\" • Maintain human oversight for final diagnosis\")\n",
    "print(f\" • Regular model updates with new patient data\")\n",
    "\n",
    "print(f\"\\n Multinomial Naive Bayes (Document Classification):\")\n",
    "print(f\" • Implement for content management systems\")\n",
    "print(f\" • Use for automated news categorization\")\n",
    "print(f\" • Apply to customer support ticket routing\")\n",
    "print(f\" • Enable real-time document processing\")\n",
    "print(f\" • Continuously update vocabulary and categories\")\n",
    "\n",
    "print(f\"\\n Bernoulli Naive Bayes (Spam Detection):\")\n",
    "print(f\" • Deploy as first-line email defense\")\n",
    "print(f\" • Combine with other security measures\")\n",
    "print(f\" • Implement user feedback loop\")\n",
    "print(f\" • Regular feature engineering for new spam patterns\")\n",
    "print(f\" • Monitor false positive rates closely\")\n",
    "\n",
    "print(f\"\\n4. NAIVE BAYES ADVANTAGES:\")\n",
    "print(f\" • Fast training and prediction (real-time capable)\")\n",
    "print(f\" • Minimal memory requirements\")\n",
    "print(f\" • Excellent baseline performance\")\n",
    "print(f\" • Handles multiple classes naturally\")\n",
    "print(f\" • Probabilistic output enables confidence scoring\")\n",
    "print(f\" • Robust to irrelevant features\")\n",
    "print(f\" • Works well with small datasets\")\n",
    "\n",
    "print(f\"\\n5. LIMITATIONS AND MITIGATION:\")\n",
    "print(f\" • Independence assumption rarely holds perfectly\")\n",
    "print(f\" → Monitor feature correlations and performance\")\n",
    "print(f\" • Can be outperformed by more complex models\")\n",
    "print(f\" → Use as baseline; ensemble with other methods\")\n",
    "print(f\" • Sensitive to skewed features\")\n",
    "print(f\" → Apply appropriate preprocessing and smoothing\")\n",
    "print(f\" • Zero probability problem\")\n",
    "print(f\" → Use Laplace smoothing (alpha parameter)\")\n",
    "\n",
    "print(f\"\\n6. MONITORING AND MAINTENANCE:\")\n",
    "print(f\" • Track prediction confidence distributions\")\n",
    "print(f\" • Monitor feature importance changes over time\")\n",
    "print(f\" • Set up automated retraining pipelines\")\n",
    "print(f\" • Implement A/B testing for model updates\")\n",
    "print(f\" • Regular validation against ground truth\")\n",
    "\n",
    "print(f\"\\n7. ADVANCED TECHNIQUES:\")\n",
    "print(f\" • Complement Naive Bayes for dependent features\")\n",
    "print(f\" • Ensemble methods combining multiple NB variants\")\n",
    "print(f\" • Online learning for streaming data\")\n",
    "print(f\" • Feature selection to improve independence\")\n",
    "print(f\" • Calibration for better probability estimates\")\n",
    "\n",
    "print(f\"\\n8. NEXT STEPS:\")\n",
    "print(f\" • Pilot deployment in production environment\")\n",
    "print(f\" • Collect user feedback and performance metrics\")\n",
    "print(f\" • Experiment with feature engineering\")\n",
    "print(f\" • Compare against ensemble methods\")\n",
    "print(f\" • Develop domain-specific variants\")\n",
    "\n",
    "print(f\"\\n\" + \"=\"*80)\n",
    "print(f\" NAIVE BAYES LEARNING SUMMARY:\")\n",
    "print(f\" Mastered Bayes' theorem and conditional probability\")\n",
    "print(f\" Applied three NB variants to appropriate problem types\")\n",
    "print(f\" Optimized hyperparameters and analyzed feature importance\")\n",
    "print(f\" Understood independence assumptions and their violations\")\n",
    "print(f\" Analyzed probabilistic outputs and prediction confidence\")\n",
    "print(f\" Generated comprehensive business applications and ROI analysis\")\n",
    "print(f\"=\"*80)"
   ]
  }
 ],
 "metadata": {
  "kernelspec": {
   "display_name": ".venv",
   "language": "python",
   "name": "python3"
  },
  "language_info": {
   "codemirror_mode": {
    "name": "ipython",
    "version": 3
   },
   "file_extension": ".py",
   "mimetype": "text/x-python",
   "name": "python",
   "nbconvert_exporter": "python",
   "pygments_lexer": "ipython3",
   "version": "3.13.7"
  }
 },
 "nbformat": 4,
 "nbformat_minor": 5
}
