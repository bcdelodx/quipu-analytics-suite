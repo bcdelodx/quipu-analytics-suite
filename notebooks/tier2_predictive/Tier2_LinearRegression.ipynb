{
 "cells": [
  {
   "cell_type": "markdown",
   "metadata": {},
   "source": [
    "# Tier 2: Linear Regression Analysis\n",
    "\n",
    "---\n",
    "\n",
    "**Author:** Brandon Deloatch\n",
    "**Affiliation:** Quipu Research Labs, LLC\n",
    "**Date:** 2025-10-02\n",
    "**Version:** v1.3\n",
    "**License:** MIT\n",
    "**Notebook ID:** a1bfe82d-bfd5-42d9-b4a8-92be0badcb4b\n",
    "\n",
    "---\n",
    "\n",
    "## Citation\n",
    "Brandon Deloatch, \"Tier 2: Linear Regression Analysis,\" Quipu Research Labs, LLC, v1.3, 2025-10-02.\n",
    "\n",
    "Please cite this notebook if used or adapted in publications, presentations, or derivative work.\n",
    "\n",
    "---\n",
    "\n",
    "## Contributors / Acknowledgments\n",
    "- **Primary Author:** Brandon Deloatch (Quipu Research Labs, LLC)\n",
    "- **Institutional Support:** Quipu Research Labs, LLC - Advanced Analytics Division\n",
    "- **Technical Framework:** Built on scikit-learn, pandas, numpy, and plotly ecosystems\n",
    "- **Methodological Foundation:** Statistical learning principles and modern data science best practices\n",
    "\n",
    "---\n",
    "\n",
    "## Version History\n",
    "| Version | Date | Notes |\n",
    "|---------|------|-------|\n",
    "| v1.3 | 2025-10-02 | Enhanced professional formatting, comprehensive documentation, interactive visualizations |\n",
    "| v1.2 | 2024-09-15 | Updated analysis methods, improved data generation algorithms |\n",
    "| v1.0 | 2024-06-10 | Initial release with core analytical framework |\n",
    "\n",
    "---\n",
    "\n",
    "## Environment Dependencies\n",
    "- **Python:** 3.8+\n",
    "- **Core Libraries:** pandas 2.0+, numpy 1.24+, scikit-learn 1.3+\n",
    "- **Visualization:** plotly 5.0+, matplotlib 3.7+\n",
    "- **Statistical:** scipy 1.10+, statsmodels 0.14+\n",
    "- **Development:** jupyter-lab 4.0+, ipywidgets 8.0+\n",
    "\n",
    "> **Reproducibility Note:** Use requirements.txt or environment.yml for exact dependency matching.\n",
    "\n",
    "---\n",
    "\n",
    "## Data Provenance\n",
    "| Dataset | Source | License | Notes |\n",
    "|---------|--------|---------|-------|\n",
    "| Synthetic Data | Generated in-notebook | MIT | Custom algorithms for realistic simulation |\n",
    "| Statistical Distributions | NumPy/SciPy | BSD-3-Clause | Standard library implementations |\n",
    "| ML Algorithms | Scikit-learn | BSD-3-Clause | Industry-standard implementations |\n",
    "| Visualization Schemas | Plotly | MIT | Interactive dashboard frameworks |\n",
    "\n",
    "---\n",
    "\n",
    "## Execution Provenance Logs\n",
    "- **Created:** 2025-10-02\n",
    "- **Notebook ID:** a1bfe82d-bfd5-42d9-b4a8-92be0badcb4b\n",
    "- **Execution Environment:** Jupyter Lab / VS Code\n",
    "- **Computational Requirements:** Standard laptop/workstation (2GB+ RAM recommended)\n",
    "\n",
    "> **Auto-tracking:** Execution metadata can be programmatically captured for reproducibility.\n",
    "\n",
    "---\n",
    "\n",
    "## Disclaimer & Responsible Use\n",
    "This notebook is provided \"as-is\" for educational, research, and professional development purposes. Users assume full responsibility for any results, applications, or decisions derived from this analysis.\n",
    "\n",
    "**Professional Standards:**\n",
    "- Validate all results against domain expertise and additional data sources\n",
    "- Respect licensing and attribution requirements for all dependencies\n",
    "- Follow ethical guidelines for data analysis and algorithmic decision-making\n",
    "- Credit all methodological sources and derivative frameworks appropriately\n",
    "\n",
    "**Academic & Commercial Use:**\n",
    "- Permitted under MIT license with proper attribution\n",
    "- Suitable for educational curriculum and professional training\n",
    "- Appropriate for commercial adaptation with citation requirements\n",
    "- Recommended for reproducible research and transparent analytics\n",
    "\n",
    "---\n",
    "\n"
   ]
  },
  {
   "cell_type": "code",
   "execution_count": 1,
   "id": "240257ca",
   "metadata": {},
   "outputs": [
    {
     "name": "stdout",
     "output_type": "stream",
     "text": [
      " Tier 2: Linear Regression Analysis\n",
      "=====================================\n",
      " Comprehensive predictive modeling with business insights\n",
      " Interactive visualizations and cross-validation\n",
      " Real-world applications and ROI analysis\n",
      " CROSS-REFERENCES:\n",
      "• Prerequisites: Tier1_Descriptive.ipynb, Tier1_Scatter.ipynb\n",
      "• Next Steps: Tier2_RidgeLasso.ipynb (regularization)\n",
      "• Next Steps: Tier2_LogisticRegression.ipynb (classification)\n",
      "• Compare With: Tier2_DecisionTree.ipynb (linear vs non-linear)\n",
      "• Foundation For: Tier5_NeuralNetworks.ipynb (linear layers)\n",
      "• Related: Tier3_ARIMA.ipynb (linear time series modeling)\n",
      "================================================\n",
      "Purpose: Predict numeric/categorical outcomes and identify key features\n",
      "Models: Linear/Logistic Regression, Ridge/Lasso, Decision Trees, k-NN\n",
      "Output: Model performance, feature importance, prediction insights\n",
      "\n",
      " Generating prediction dataset...\n",
      " Generated dataset with 1000 samples\n",
      "\n",
      " Dataset Overview:\n",
      "--------------------\n",
      "Shape: (1000, 8)\n",
      "\n",
      "First 5 rows:\n",
      "   marketing_spend  advertising_reach  competitor_price  economic_index  \\\n",
      "0      2393.679390         169.052066        117.490341       48.496795   \n",
      "1      1494.464730         145.291194         87.004695       46.733038   \n",
      "2      1382.283584          62.992340         75.935983       39.574223   \n",
      "3      1382.302294         176.233028         79.159112       38.277662   \n",
      "4      4649.714412         469.093429         90.255942       54.643699   \n",
      "\n",
      "  region product_type         sales  high_performer  \n",
      "0  South       Budget  18020.463356               1  \n",
      "1  North     Standard  18355.923269               1  \n",
      "2  North       Budget   7079.296769               0  \n",
      "3  North     Standard  11253.849064               0  \n",
      "4   East     Standard  43245.927459               1  \n",
      "\n",
      "Target variable statistics:\n",
      "Sales - Mean: $18,118, Std: $8,233\n",
      "High Performer - Distribution: {1: 500, 0: 500}\n",
      "\n"
     ]
    },
    {
     "data": {
      "application/vnd.plotly.v1+json": {
       "config": {
        "plotlyServerURL": "https://plot.ly"
       },
       "data": [
        {
         "name": "Sales",
         "nbinsx": 30,
         "type": "histogram",
         "x": {
          "bdata": "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",
          "dtype": "f8"
         },
         "xaxis": "x",
         "yaxis": "y"
        },
        {
         "name": "Performance",
         "type": "bar",
         "x": [
          "Low",
          "High"
         ],
         "xaxis": "x2",
         "y": {
          "bdata": "9AH0AQ==",
          "dtype": "i2"
         },
         "yaxis": "y2"
        }
       ],
       "layout": {
        "annotations": [
         {
          "font": {
           "size": 16
          },
          "showarrow": false,
          "text": "Sales Distribution",
          "x": 0.225,
          "xanchor": "center",
          "xref": "paper",
          "y": 1,
          "yanchor": "bottom",
          "yref": "paper"
         },
         {
          "font": {
           "size": 16
          },
          "showarrow": false,
          "text": "High Performer Distribution",
          "x": 0.775,
          "xanchor": "center",
          "xref": "paper",
          "y": 1,
          "yanchor": "bottom",
          "yref": "paper"
         }
        ],
        "height": 400,
        "showlegend": false,
        "template": {
         "data": {
          "bar": [
           {
            "error_x": {
             "color": "#2a3f5f"
            },
            "error_y": {
             "color": "#2a3f5f"
            },
            "marker": {
             "line": {
              "color": "#E5ECF6",
              "width": 0.5
             },
             "pattern": {
              "fillmode": "overlay",
              "size": 10,
              "solidity": 0.2
             }
            },
            "type": "bar"
           }
          ],
          "barpolar": [
           {
            "marker": {
             "line": {
              "color": "#E5ECF6",
              "width": 0.5
             },
             "pattern": {
              "fillmode": "overlay",
              "size": 10,
              "solidity": 0.2
             }
            },
            "type": "barpolar"
           }
          ],
          "carpet": [
           {
            "aaxis": {
             "endlinecolor": "#2a3f5f",
             "gridcolor": "white",
             "linecolor": "white",
             "minorgridcolor": "white",
             "startlinecolor": "#2a3f5f"
            },
            "baxis": {
             "endlinecolor": "#2a3f5f",
             "gridcolor": "white",
             "linecolor": "white",
             "minorgridcolor": "white",
             "startlinecolor": "#2a3f5f"
            },
            "type": "carpet"
           }
          ],
          "choropleth": [
           {
            "colorbar": {
             "outlinewidth": 0,
             "ticks": ""
            },
            "type": "choropleth"
           }
          ],
          "contour": [
           {
            "colorbar": {
             "outlinewidth": 0,
             "ticks": ""
            },
            "colorscale": [
             [
              0,
              "#0d0887"
             ],
             [
              0.1111111111111111,
              "#46039f"
             ],
             [
              0.2222222222222222,
              "#7201a8"
             ],
             [
              0.3333333333333333,
              "#9c179e"
             ],
             [
              0.4444444444444444,
              "#bd3786"
             ],
             [
              0.5555555555555556,
              "#d8576b"
             ],
             [
              0.6666666666666666,
              "#ed7953"
             ],
             [
              0.7777777777777778,
              "#fb9f3a"
             ],
             [
              0.8888888888888888,
              "#fdca26"
             ],
             [
              1,
              "#f0f921"
             ]
            ],
            "type": "contour"
           }
          ],
          "contourcarpet": [
           {
            "colorbar": {
             "outlinewidth": 0,
             "ticks": ""
            },
            "type": "contourcarpet"
           }
          ],
          "heatmap": [
           {
            "colorbar": {
             "outlinewidth": 0,
             "ticks": ""
            },
            "colorscale": [
             [
              0,
              "#0d0887"
             ],
             [
              0.1111111111111111,
              "#46039f"
             ],
             [
              0.2222222222222222,
              "#7201a8"
             ],
             [
              0.3333333333333333,
              "#9c179e"
             ],
             [
              0.4444444444444444,
              "#bd3786"
             ],
             [
              0.5555555555555556,
              "#d8576b"
             ],
             [
              0.6666666666666666,
              "#ed7953"
             ],
             [
              0.7777777777777778,
              "#fb9f3a"
             ],
             [
              0.8888888888888888,
              "#fdca26"
             ],
             [
              1,
              "#f0f921"
             ]
            ],
            "type": "heatmap"
           }
          ],
          "histogram": [
           {
            "marker": {
             "pattern": {
              "fillmode": "overlay",
              "size": 10,
              "solidity": 0.2
             }
            },
            "type": "histogram"
           }
          ],
          "histogram2d": [
           {
            "colorbar": {
             "outlinewidth": 0,
             "ticks": ""
            },
            "colorscale": [
             [
              0,
              "#0d0887"
             ],
             [
              0.1111111111111111,
              "#46039f"
             ],
             [
              0.2222222222222222,
              "#7201a8"
             ],
             [
              0.3333333333333333,
              "#9c179e"
             ],
             [
              0.4444444444444444,
              "#bd3786"
             ],
             [
              0.5555555555555556,
              "#d8576b"
             ],
             [
              0.6666666666666666,
              "#ed7953"
             ],
             [
              0.7777777777777778,
              "#fb9f3a"
             ],
             [
              0.8888888888888888,
              "#fdca26"
             ],
             [
              1,
              "#f0f921"
             ]
            ],
            "type": "histogram2d"
           }
          ],
          "histogram2dcontour": [
           {
            "colorbar": {
             "outlinewidth": 0,
             "ticks": ""
            },
            "colorscale": [
             [
              0,
              "#0d0887"
             ],
             [
              0.1111111111111111,
              "#46039f"
             ],
             [
              0.2222222222222222,
              "#7201a8"
             ],
             [
              0.3333333333333333,
              "#9c179e"
             ],
             [
              0.4444444444444444,
              "#bd3786"
             ],
             [
              0.5555555555555556,
              "#d8576b"
             ],
             [
              0.6666666666666666,
              "#ed7953"
             ],
             [
              0.7777777777777778,
              "#fb9f3a"
             ],
             [
              0.8888888888888888,
              "#fdca26"
             ],
             [
              1,
              "#f0f921"
             ]
            ],
            "type": "histogram2dcontour"
           }
          ],
          "mesh3d": [
           {
            "colorbar": {
             "outlinewidth": 0,
             "ticks": ""
            },
            "type": "mesh3d"
           }
          ],
          "parcoords": [
           {
            "line": {
             "colorbar": {
              "outlinewidth": 0,
              "ticks": ""
             }
            },
            "type": "parcoords"
           }
          ],
          "pie": [
           {
            "automargin": true,
            "type": "pie"
           }
          ],
          "scatter": [
           {
            "fillpattern": {
             "fillmode": "overlay",
             "size": 10,
             "solidity": 0.2
            },
            "type": "scatter"
           }
          ],
          "scatter3d": [
           {
            "line": {
             "colorbar": {
              "outlinewidth": 0,
              "ticks": ""
             }
            },
            "marker": {
             "colorbar": {
              "outlinewidth": 0,
              "ticks": ""
             }
            },
            "type": "scatter3d"
           }
          ],
          "scattercarpet": [
           {
            "marker": {
             "colorbar": {
              "outlinewidth": 0,
              "ticks": ""
             }
            },
            "type": "scattercarpet"
           }
          ],
          "scattergeo": [
           {
            "marker": {
             "colorbar": {
              "outlinewidth": 0,
              "ticks": ""
             }
            },
            "type": "scattergeo"
           }
          ],
          "scattergl": [
           {
            "marker": {
             "colorbar": {
              "outlinewidth": 0,
              "ticks": ""
             }
            },
            "type": "scattergl"
           }
          ],
          "scattermap": [
           {
            "marker": {
             "colorbar": {
              "outlinewidth": 0,
              "ticks": ""
             }
            },
            "type": "scattermap"
           }
          ],
          "scattermapbox": [
           {
            "marker": {
             "colorbar": {
              "outlinewidth": 0,
              "ticks": ""
             }
            },
            "type": "scattermapbox"
           }
          ],
          "scatterpolar": [
           {
            "marker": {
             "colorbar": {
              "outlinewidth": 0,
              "ticks": ""
             }
            },
            "type": "scatterpolar"
           }
          ],
          "scatterpolargl": [
           {
            "marker": {
             "colorbar": {
              "outlinewidth": 0,
              "ticks": ""
             }
            },
            "type": "scatterpolargl"
           }
          ],
          "scatterternary": [
           {
            "marker": {
             "colorbar": {
              "outlinewidth": 0,
              "ticks": ""
             }
            },
            "type": "scatterternary"
           }
          ],
          "surface": [
           {
            "colorbar": {
             "outlinewidth": 0,
             "ticks": ""
            },
            "colorscale": [
             [
              0,
              "#0d0887"
             ],
             [
              0.1111111111111111,
              "#46039f"
             ],
             [
              0.2222222222222222,
              "#7201a8"
             ],
             [
              0.3333333333333333,
              "#9c179e"
             ],
             [
              0.4444444444444444,
              "#bd3786"
             ],
             [
              0.5555555555555556,
              "#d8576b"
             ],
             [
              0.6666666666666666,
              "#ed7953"
             ],
             [
              0.7777777777777778,
              "#fb9f3a"
             ],
             [
              0.8888888888888888,
              "#fdca26"
             ],
             [
              1,
              "#f0f921"
             ]
            ],
            "type": "surface"
           }
          ],
          "table": [
           {
            "cells": {
             "fill": {
              "color": "#EBF0F8"
             },
             "line": {
              "color": "white"
             }
            },
            "header": {
             "fill": {
              "color": "#C8D4E3"
             },
             "line": {
              "color": "white"
             }
            },
            "type": "table"
           }
          ]
         },
         "layout": {
          "annotationdefaults": {
           "arrowcolor": "#2a3f5f",
           "arrowhead": 0,
           "arrowwidth": 1
          },
          "autotypenumbers": "strict",
          "coloraxis": {
           "colorbar": {
            "outlinewidth": 0,
            "ticks": ""
           }
          },
          "colorscale": {
           "diverging": [
            [
             0,
             "#8e0152"
            ],
            [
             0.1,
             "#c51b7d"
            ],
            [
             0.2,
             "#de77ae"
            ],
            [
             0.3,
             "#f1b6da"
            ],
            [
             0.4,
             "#fde0ef"
            ],
            [
             0.5,
             "#f7f7f7"
            ],
            [
             0.6,
             "#e6f5d0"
            ],
            [
             0.7,
             "#b8e186"
            ],
            [
             0.8,
             "#7fbc41"
            ],
            [
             0.9,
             "#4d9221"
            ],
            [
             1,
             "#276419"
            ]
           ],
           "sequential": [
            [
             0,
             "#0d0887"
            ],
            [
             0.1111111111111111,
             "#46039f"
            ],
            [
             0.2222222222222222,
             "#7201a8"
            ],
            [
             0.3333333333333333,
             "#9c179e"
            ],
            [
             0.4444444444444444,
             "#bd3786"
            ],
            [
             0.5555555555555556,
             "#d8576b"
            ],
            [
             0.6666666666666666,
             "#ed7953"
            ],
            [
             0.7777777777777778,
             "#fb9f3a"
            ],
            [
             0.8888888888888888,
             "#fdca26"
            ],
            [
             1,
             "#f0f921"
            ]
           ],
           "sequentialminus": [
            [
             0,
             "#0d0887"
            ],
            [
             0.1111111111111111,
             "#46039f"
            ],
            [
             0.2222222222222222,
             "#7201a8"
            ],
            [
             0.3333333333333333,
             "#9c179e"
            ],
            [
             0.4444444444444444,
             "#bd3786"
            ],
            [
             0.5555555555555556,
             "#d8576b"
            ],
            [
             0.6666666666666666,
             "#ed7953"
            ],
            [
             0.7777777777777778,
             "#fb9f3a"
            ],
            [
             0.8888888888888888,
             "#fdca26"
            ],
            [
             1,
             "#f0f921"
            ]
           ]
          },
          "colorway": [
           "#636efa",
           "#EF553B",
           "#00cc96",
           "#ab63fa",
           "#FFA15A",
           "#19d3f3",
           "#FF6692",
           "#B6E880",
           "#FF97FF",
           "#FECB52"
          ],
          "font": {
           "color": "#2a3f5f"
          },
          "geo": {
           "bgcolor": "white",
           "lakecolor": "white",
           "landcolor": "#E5ECF6",
           "showlakes": true,
           "showland": true,
           "subunitcolor": "white"
          },
          "hoverlabel": {
           "align": "left"
          },
          "hovermode": "closest",
          "mapbox": {
           "style": "light"
          },
          "paper_bgcolor": "white",
          "plot_bgcolor": "#E5ECF6",
          "polar": {
           "angularaxis": {
            "gridcolor": "white",
            "linecolor": "white",
            "ticks": ""
           },
           "bgcolor": "#E5ECF6",
           "radialaxis": {
            "gridcolor": "white",
            "linecolor": "white",
            "ticks": ""
           }
          },
          "scene": {
           "xaxis": {
            "backgroundcolor": "#E5ECF6",
            "gridcolor": "white",
            "gridwidth": 2,
            "linecolor": "white",
            "showbackground": true,
            "ticks": "",
            "zerolinecolor": "white"
           },
           "yaxis": {
            "backgroundcolor": "#E5ECF6",
            "gridcolor": "white",
            "gridwidth": 2,
            "linecolor": "white",
            "showbackground": true,
            "ticks": "",
            "zerolinecolor": "white"
           },
           "zaxis": {
            "backgroundcolor": "#E5ECF6",
            "gridcolor": "white",
            "gridwidth": 2,
            "linecolor": "white",
            "showbackground": true,
            "ticks": "",
            "zerolinecolor": "white"
           }
          },
          "shapedefaults": {
           "line": {
            "color": "#2a3f5f"
           }
          },
          "ternary": {
           "aaxis": {
            "gridcolor": "white",
            "linecolor": "white",
            "ticks": ""
           },
           "baxis": {
            "gridcolor": "white",
            "linecolor": "white",
            "ticks": ""
           },
           "bgcolor": "#E5ECF6",
           "caxis": {
            "gridcolor": "white",
            "linecolor": "white",
            "ticks": ""
           }
          },
          "title": {
           "x": 0.05
          },
          "xaxis": {
           "automargin": true,
           "gridcolor": "white",
           "linecolor": "white",
           "ticks": "",
           "title": {
            "standoff": 15
           },
           "zerolinecolor": "white",
           "zerolinewidth": 2
          },
          "yaxis": {
           "automargin": true,
           "gridcolor": "white",
           "linecolor": "white",
           "ticks": "",
           "title": {
            "standoff": 15
           },
           "zerolinecolor": "white",
           "zerolinewidth": 2
          }
         }
        },
        "title": {
         "text": "Target Variable Distributions"
        },
        "xaxis": {
         "anchor": "y",
         "domain": [
          0,
          0.45
         ]
        },
        "xaxis2": {
         "anchor": "y2",
         "domain": [
          0.55,
          1
         ]
        },
        "yaxis": {
         "anchor": "x",
         "domain": [
          0,
          1
         ]
        },
        "yaxis2": {
         "anchor": "x2",
         "domain": [
          0,
          1
         ]
        }
       }
      }
     },
     "metadata": {},
     "output_type": "display_data"
    }
   ],
   "source": [
    "# Import Essential Libraries\n",
    "import pandas as pd\n",
    "import numpy as np\n",
    "import matplotlib.pyplot as plt\n",
    "import seaborn as sns\n",
    "import plotly.express as px\n",
    "import plotly.graph_objects as go\n",
    "from plotly.subplots import make_subplots\n",
    "import plotly.figure_factory as ff\n",
    "\n",
    "# Advanced ML and Statistics\n",
    "from sklearn.model_selection import (\n",
    " train_test_split, cross_val_score, GridSearchCV,\n",
    " learning_curve, validation_curve\n",
    ")\n",
    "from sklearn.linear_model import (\n",
    " LinearRegression, Ridge, Lasso, ElasticNet,\n",
    " BayesianRidge, HuberRegressor\n",
    ")\n",
    "from sklearn.preprocessing import (\n",
    " StandardScaler, PolynomialFeatures,\n",
    " MinMaxScaler, RobustScaler\n",
    ")\n",
    "from sklearn.metrics import (\n",
    " mean_squared_error, mean_absolute_error, r2_score,\n",
    " explained_variance_score, max_error\n",
    ")\n",
    "from sklearn.feature_selection import SelectKBest, f_regression\n",
    "import statsmodels.api as sm\n",
    "from scipy import stats\n",
    "from scipy.stats import jarque_bera, shapiro\n",
    "import warnings\n",
    "warnings.filterwarnings('ignore')\n",
    "\n",
    "# Configuration\n",
    "plt.style.use('default')\n",
    "np.random.seed(42)\n",
    "\n",
    "print(\" Tier 2: Linear Regression Analysis\")\n",
    "print(\"=====================================\")\n",
    "print(\" Comprehensive predictive modeling with business insights\")\n",
    "print(\" Interactive visualizations and cross-validation\")\n",
    "print(\" Real-world applications and ROI analysis\")\n",
    "print(\" CROSS-REFERENCES:\")\n",
    "print(\"• Prerequisites: Tier1_Descriptive.ipynb, Tier1_Scatter.ipynb\")\n",
    "print(\"• Next Steps: Tier2_RidgeLasso.ipynb (regularization)\")\n",
    "print(\"• Next Steps: Tier2_LogisticRegression.ipynb (classification)\")\n",
    "print(\"• Compare With: Tier2_DecisionTree.ipynb (linear vs non-linear)\")\n",
    "print(\"• Foundation For: Tier5_NeuralNetworks.ipynb (linear layers)\")\n",
    "print(\"• Related: Tier3_ARIMA.ipynb (linear time series modeling)\")\n",
    "print(\"=\" * 48)\n",
    "print(\"Purpose: Predict numeric/categorical outcomes and identify key features\")\n",
    "print(\"Models: Linear/Logistic Regression, Ridge/Lasso, Decision Trees, k-NN\")\n",
    "print(\"Output: Model performance, feature importance, prediction insights\")\n",
    "print()\n",
    "\n",
    "def generate_prediction_dataset(n_samples=1000, seed=42):\n",
    " \"\"\"Generate realistic dataset for regression and classification tasks.\"\"\"\n",
    " np.random.seed(seed)\n",
    "\n",
    " # Generate features with realistic business relationships\n",
    " marketing_spend = np.random.gamma(2, 1000, n_samples) # Right-skewed\n",
    " advertising_reach = marketing_spend * 0.1 + np.random.normal(0, 50, n_samples)\n",
    " competitor_price = np.random.normal(100, 20, n_samples)\n",
    " economic_index = np.random.normal(50, 10, n_samples)\n",
    " seasonality = np.sin(np.linspace(0, 4*np.pi, n_samples)) * 5000\n",
    "\n",
    " # Create realistic target variable (sales)\n",
    " sales_base = (\n",
    " marketing_spend * 2.5 +\n",
    " advertising_reach * 10 +\n",
    " (110 - competitor_price) * 100 + # Inverse relationship\n",
    " economic_index * 200 +\n",
    " seasonality +\n",
    " np.random.normal(0, 5000, n_samples) # Noise\n",
    " )\n",
    "\n",
    " # Ensure positive sales\n",
    " sales = np.maximum(sales_base, 5000)\n",
    "\n",
    " # Create categorical features\n",
    " regions = np.random.choice(['North', 'South', 'East', 'West'], n_samples, p=[0.3, 0.25, 0.25, 0.2])\n",
    " product_types = np.random.choice(['Premium', 'Standard', 'Budget'], n_samples, p=[0.2, 0.5, 0.3])\n",
    "\n",
    " # Create binary target for classification\n",
    " high_performer = (sales > np.median(sales)).astype(int)\n",
    "\n",
    " return pd.DataFrame({\n",
    " 'marketing_spend': marketing_spend,\n",
    " 'advertising_reach': advertising_reach,\n",
    " 'competitor_price': competitor_price,\n",
    " 'economic_index': economic_index,\n",
    " 'region': regions,\n",
    " 'product_type': product_types,\n",
    " 'sales': sales,\n",
    " 'high_performer': high_performer\n",
    " })\n",
    "\n",
    "# Generate dataset\n",
    "print(\" Generating prediction dataset...\")\n",
    "df = generate_prediction_dataset(1000)\n",
    "print(f\" Generated dataset with {len(df)} samples\")\n",
    "print()\n",
    "\n",
    "# Display dataset info\n",
    "print(\" Dataset Overview:\")\n",
    "print(\"-\" * 20)\n",
    "print(f\"Shape: {df.shape}\")\n",
    "print(\"\\nFirst 5 rows:\")\n",
    "print(df.head())\n",
    "print(\"\\nTarget variable statistics:\")\n",
    "print(f\"Sales - Mean: ${df['sales'].mean():,.0f}, Std: ${df['sales'].std():,.0f}\")\n",
    "print(f\"High Performer - Distribution: {df['high_performer'].value_counts().to_dict()}\")\n",
    "print()\n",
    "\n",
    "# Quick visualization of target variables\n",
    "fig = make_subplots(rows=1, cols=2,\n",
    " subplot_titles=['Sales Distribution', 'High Performer Distribution'])\n",
    "\n",
    "fig.add_trace(go.Histogram(x=df['sales'], name='Sales', nbinsx=30), row=1, col=1)\n",
    "fig.add_trace(go.Bar(x=['Low', 'High'], y=df['high_performer'].value_counts().sort_index(),\n",
    " name='Performance'), row=1, col=2)\n",
    "\n",
    "fig.update_layout(height=400, title_text=\"Target Variable Distributions\", showlegend=False)\n",
    "fig.show()"
   ]
  }
 ],
 "metadata": {
  "kernelspec": {
   "display_name": ".venv",
   "language": "python",
   "name": "python3"
  },
  "language_info": {
   "codemirror_mode": {
    "name": "ipython",
    "version": 3
   },
   "file_extension": ".py",
   "mimetype": "text/x-python",
   "name": "python",
   "nbconvert_exporter": "python",
   "pygments_lexer": "ipython3",
   "version": "3.13.7"
  }
 },
 "nbformat": 4,
 "nbformat_minor": 5
}
