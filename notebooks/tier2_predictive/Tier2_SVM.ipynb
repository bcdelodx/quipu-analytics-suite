{
 "cells": [
  {
   "cell_type": "markdown",
   "metadata": {},
   "source": [
    "# Tier 2: Support Vector Machines (SVM)\n",
    "\n",
    "---\n",
    "\n",
    "**Author:** Brandon Deloatch\n",
    "**Affiliation:** Quipu Research Labs, LLC\n",
    "**Date:** 2025-10-02\n",
    "**Version:** v1.3\n",
    "**License:** MIT\n",
    "**Notebook ID:** bd672181-b720-4a15-82ce-893083f211ae\n",
    "\n",
    "---\n",
    "\n",
    "## Citation\n",
    "Brandon Deloatch, \"Tier 2: Support Vector Machines (SVM),\" Quipu Research Labs, LLC, v1.3, 2025-10-02.\n",
    "\n",
    "Please cite this notebook if used or adapted in publications, presentations, or derivative work.\n",
    "\n",
    "---\n",
    "\n",
    "## Contributors / Acknowledgments\n",
    "- **Primary Author:** Brandon Deloatch (Quipu Research Labs, LLC)\n",
    "- **Institutional Support:** Quipu Research Labs, LLC - Advanced Analytics Division\n",
    "- **Technical Framework:** Built on scikit-learn, pandas, numpy, and plotly ecosystems\n",
    "- **Methodological Foundation:** Statistical learning principles and modern data science best practices\n",
    "\n",
    "---\n",
    "\n",
    "## Version History\n",
    "| Version | Date | Notes |\n",
    "|---------|------|-------|\n",
    "| v1.3 | 2025-10-02 | Enhanced professional formatting, comprehensive documentation, interactive visualizations |\n",
    "| v1.2 | 2024-09-15 | Updated analysis methods, improved data generation algorithms |\n",
    "| v1.0 | 2024-06-10 | Initial release with core analytical framework |\n",
    "\n",
    "---\n",
    "\n",
    "## Environment Dependencies\n",
    "- **Python:** 3.8+\n",
    "- **Core Libraries:** pandas 2.0+, numpy 1.24+, scikit-learn 1.3+\n",
    "- **Visualization:** plotly 5.0+, matplotlib 3.7+\n",
    "- **Statistical:** scipy 1.10+, statsmodels 0.14+\n",
    "- **Development:** jupyter-lab 4.0+, ipywidgets 8.0+\n",
    "\n",
    "> **Reproducibility Note:** Use requirements.txt or environment.yml for exact dependency matching.\n",
    "\n",
    "---\n",
    "\n",
    "## Data Provenance\n",
    "| Dataset | Source | License | Notes |\n",
    "|---------|--------|---------|-------|\n",
    "| Synthetic Data | Generated in-notebook | MIT | Custom algorithms for realistic simulation |\n",
    "| Statistical Distributions | NumPy/SciPy | BSD-3-Clause | Standard library implementations |\n",
    "| ML Algorithms | Scikit-learn | BSD-3-Clause | Industry-standard implementations |\n",
    "| Visualization Schemas | Plotly | MIT | Interactive dashboard frameworks |\n",
    "\n",
    "---\n",
    "\n",
    "## Execution Provenance Logs\n",
    "- **Created:** 2025-10-02\n",
    "- **Notebook ID:** bd672181-b720-4a15-82ce-893083f211ae\n",
    "- **Execution Environment:** Jupyter Lab / VS Code\n",
    "- **Computational Requirements:** Standard laptop/workstation (2GB+ RAM recommended)\n",
    "\n",
    "> **Auto-tracking:** Execution metadata can be programmatically captured for reproducibility.\n",
    "\n",
    "---\n",
    "\n",
    "## Disclaimer & Responsible Use\n",
    "This notebook is provided \"as-is\" for educational, research, and professional development purposes. Users assume full responsibility for any results, applications, or decisions derived from this analysis.\n",
    "\n",
    "**Professional Standards:**\n",
    "- Validate all results against domain expertise and additional data sources\n",
    "- Respect licensing and attribution requirements for all dependencies\n",
    "- Follow ethical guidelines for data analysis and algorithmic decision-making\n",
    "- Credit all methodological sources and derivative frameworks appropriately\n",
    "\n",
    "**Academic & Commercial Use:**\n",
    "- Permitted under MIT license with proper attribution\n",
    "- Suitable for educational curriculum and professional training\n",
    "- Appropriate for commercial adaptation with citation requirements\n",
    "- Recommended for reproducible research and transparent analytics\n",
    "\n",
    "---\n",
    "\n"
   ]
  },
  {
   "cell_type": "code",
   "execution_count": 1,
   "id": "7494e1fd",
   "metadata": {},
   "outputs": [
    {
     "name": "stdout",
     "output_type": "stream",
     "text": [
      " Tier 2: Support Vector Machines (SVM) - Libraries Loaded Successfully!\n",
      "================================================================================\n",
      "Available SVM Techniques:\n",
      "• Linear SVM - Maximum margin linear classification\n",
      "• Kernel SVM - Non-linear classification with RBF, polynomial kernels\n",
      "• SVM Regression (SVR) - Support vector regression for continuous targets\n",
      "• Hyperparameter Optimization - C, gamma, kernel parameter tuning\n",
      "• Support Vector Analysis - Understanding model decision boundaries\n",
      "• Kernel Trick Visualization - Non-linear transformation insights\n"
     ]
    }
   ],
   "source": [
    "# Import Essential Libraries\n",
    "import pandas as pd\n",
    "import numpy as np\n",
    "import matplotlib.pyplot as plt\n",
    "import seaborn as sns\n",
    "import plotly.express as px\n",
    "import plotly.graph_objects as go\n",
    "from plotly.subplots import make_subplots\n",
    "import plotly.figure_factory as ff\n",
    "\n",
    "# Scikit-learn imports\n",
    "from sklearn.svm import SVC, SVR, LinearSVC\n",
    "from sklearn.model_selection import train_test_split, cross_val_score, GridSearchCV\n",
    "from sklearn.preprocessing import StandardScaler, LabelEncoder\n",
    "from sklearn.metrics import accuracy_score, classification_report, confusion_matrix\n",
    "from sklearn.metrics import mean_squared_error, r2_score, roc_curve, auc\n",
    "from sklearn.metrics import precision_recall_curve, mean_absolute_error\n",
    "from sklearn.datasets import make_classification, make_circles, make_moons\n",
    "\n",
    "# Additional utilities\n",
    "from sklearn.pipeline import Pipeline\n",
    "from sklearn.model_selection import learning_curve, validation_curve\n",
    "import warnings\n",
    "warnings.filterwarnings('ignore')\n",
    "\n",
    "print(\" Tier 2: Support Vector Machines (SVM) - Libraries Loaded Successfully!\")\n",
    "print(\"=\" * 80)\n",
    "print(\"Available SVM Techniques:\")\n",
    "print(\"• Linear SVM - Maximum margin linear classification\")\n",
    "print(\"• Kernel SVM - Non-linear classification with RBF, polynomial kernels\")\n",
    "print(\"• SVM Regression (SVR) - Support vector regression for continuous targets\")\n",
    "print(\"• Hyperparameter Optimization - C, gamma, kernel parameter tuning\")\n",
    "print(\"• Support Vector Analysis - Understanding model decision boundaries\")\n",
    "print(\"• Kernel Trick Visualization - Non-linear transformation insights\")"
   ]
  },
  {
   "cell_type": "code",
   "execution_count": 2,
   "id": "e56a87b3",
   "metadata": {},
   "outputs": [
    {
     "name": "stdout",
     "output_type": "stream",
     "text": [
      " Generating SVM-optimized datasets...\n",
      "Linear Dataset (Credit Approval): (1000, 7)\n",
      "Non-linear Dataset (Customer Segments): (800, 5)\n",
      "Regression Dataset (House Prices): (1000, 8)\n",
      "\n",
      "Linear Classification Dataset (Credit Approval):\n",
      "   credit_score  debt_to_income  annual_income  employment_years  \\\n",
      "0    709.605698       30.120837  112804.850474          5.309229   \n",
      "1    633.408284       27.110473   42612.057216          7.847806   \n",
      "2    727.722625       26.788554  200000.000000          1.048848   \n",
      "3    832.763583       35.195713   44504.508323         16.899146   \n",
      "4    621.901595       39.823011   30000.000000         11.546415   \n",
      "\n",
      "   previous_defaults  credit_utilization  approved  \n",
      "0                  0           28.367403         1  \n",
      "1                  0           58.690400         1  \n",
      "2                  0           62.681066         1  \n",
      "3                  0           37.445425         1  \n",
      "4                  0           35.877814         1  \n",
      "Approval Rate: 91.7%\n",
      "\n",
      "Non-linear Classification Dataset (Customer Segmentation):\n",
      "   customer_spending  customer_frequency  customer_tenure  support_tickets  \\\n",
      "0        6412.951198           20.019933         1.253338                4   \n",
      "1        5991.683188           18.202465         2.419756                4   \n",
      "2        9691.598910           39.645663         1.512876                0   \n",
      "3        5979.987345           27.816033         2.714738                1   \n",
      "4       10527.569645           42.285368         2.894937                1   \n",
      "\n",
      "   value_segment  \n",
      "0              1  \n",
      "1              1  \n",
      "2              0  \n",
      "3              1  \n",
      "4              0  \n",
      "High Value Customers: 50.0%\n",
      "\n",
      "Regression Dataset (House Prices):\n",
      "       lot_size  house_age  bedrooms  bathrooms  school_rating  crime_rate  \\\n",
      "0   4661.162066   2.470936         4          2       2.793103   11.739930   \n",
      "1  10871.638825  20.955753         4          2       8.052028   11.594083   \n",
      "2   3038.704727   1.657503         5          5       2.579996    1.097215   \n",
      "3   2902.330002   4.171751         5          2       3.765931    2.394839   \n",
      "4   2698.649010  17.366081         7          4       6.908376    0.722969   \n",
      "\n",
      "   distance_to_center          price  \n",
      "0           19.621077  209188.690362  \n",
      "1            3.493728  709962.582936  \n",
      "2            9.969895  320370.897120  \n",
      "3            8.975026  293847.314830  \n",
      "4            3.250865  463571.000916  \n",
      "Price Range: $100,000 - $1,505,721\n"
     ]
    }
   ],
   "source": [
    "# Generate Comprehensive Datasets for SVM Analysis\n",
    "np.random.seed(42)\n",
    "\n",
    "def generate_svm_datasets():\n",
    " \"\"\"Generate datasets optimized for SVM analysis with various complexity levels\"\"\"\n",
    "\n",
    " # 1. LINEAR SEPARABLE DATASET - Credit Risk Assessment\n",
    " n_samples = 1000\n",
    "\n",
    " # Generate linearly separable credit data\n",
    " credit_score = np.random.normal(650, 120, n_samples)\n",
    " credit_score = np.clip(credit_score, 300, 850)\n",
    "\n",
    " debt_to_income = np.random.beta(2, 5, n_samples) * 80 # 0-80% DTI\n",
    " annual_income = np.random.lognormal(10.8, 0.6, n_samples)\n",
    " annual_income = np.clip(annual_income, 30000, 200000)\n",
    "\n",
    " employment_years = np.random.exponential(5, n_samples) + 0.5\n",
    " employment_years = np.clip(employment_years, 0.5, 40)\n",
    "\n",
    " # Create clear linear separation for credit approval\n",
    " # Good credit: high score, low DTI, good income\n",
    " linear_separator = (credit_score - 600) / 100 + (50 - debt_to_income) / 25 + np.log(annual_income) - 10.5\n",
    "\n",
    " # Add some noise but maintain linear separability\n",
    " noise = np.random.normal(0, 0.3, n_samples)\n",
    " credit_approved = (linear_separator + noise) > 0\n",
    "\n",
    " # Add realistic features\n",
    " previous_defaults = np.random.binomial(3, 0.1, n_samples)\n",
    " credit_utilization = np.random.beta(2, 3, n_samples) * 100\n",
    "\n",
    " # Make some correlation with approval\n",
    " previous_defaults[credit_approved] = np.random.binomial(3, 0.05, credit_approved.sum())\n",
    " previous_defaults[~credit_approved] = np.random.binomial(3, 0.2, (~credit_approved).sum())\n",
    "\n",
    " linear_df = pd.DataFrame({\n",
    " 'credit_score': credit_score,\n",
    " 'debt_to_income': debt_to_income,\n",
    " 'annual_income': annual_income,\n",
    " 'employment_years': employment_years,\n",
    " 'previous_defaults': previous_defaults,\n",
    " 'credit_utilization': credit_utilization,\n",
    " 'approved': credit_approved.astype(int)\n",
    " })\n",
    "\n",
    " # 2. NON-LINEAR DATASET - Customer Segmentation (Circular patterns)\n",
    " # Generate concentric circles for non-linear classification\n",
    " X_circles, y_circles = make_circles(n_samples=800, noise=0.1, factor=0.3, random_state=42)\n",
    "\n",
    " # Transform to business context - Customer value segments\n",
    " # Inner circle = high value, outer circle = standard value\n",
    " customer_spending = X_circles[:, 0] * 5000 + 7000 # Scale to spending range\n",
    " customer_frequency = X_circles[:, 1] * 20 + 25 # Scale to frequency range\n",
    "\n",
    " # Add business-relevant features\n",
    " customer_tenure = np.random.exponential(3, len(X_circles)) + 0.5\n",
    " support_tickets = np.random.poisson(2, len(X_circles))\n",
    "\n",
    " # High value customers (inner circle) have different patterns\n",
    " high_value_mask = y_circles == 0\n",
    " customer_tenure[high_value_mask] += np.random.exponential(2, high_value_mask.sum()) # Longer tenure\n",
    " support_tickets[high_value_mask] = np.random.poisson(1, high_value_mask.sum()) # Fewer tickets\n",
    "\n",
    " nonlinear_df = pd.DataFrame({\n",
    " 'customer_spending': customer_spending,\n",
    " 'customer_frequency': customer_frequency,\n",
    " 'customer_tenure': customer_tenure,\n",
    " 'support_tickets': support_tickets,\n",
    " 'value_segment': y_circles # 0=High Value, 1=Standard\n",
    " })\n",
    "\n",
    " # 3. REGRESSION DATASET - House Price Prediction with Complex Relationships\n",
    " n_reg_samples = 1000\n",
    "\n",
    " # Generate house features\n",
    " lot_size = np.random.gamma(2, 2000, n_reg_samples) + 1000 # sq ft\n",
    " house_age = np.random.exponential(15, n_reg_samples) + 1\n",
    " bedrooms = np.random.poisson(3, n_reg_samples) + 1\n",
    " bathrooms = np.random.poisson(2, n_reg_samples) + 1\n",
    "\n",
    " # School district rating (affects price non-linearly)\n",
    " school_rating = np.random.beta(2, 2, n_reg_samples) * 10 + 1\n",
    "\n",
    " # Crime rate (non-linear negative effect)\n",
    " crime_rate = np.random.exponential(5, n_reg_samples)\n",
    "\n",
    " # Distance to city center\n",
    " distance_to_center = np.random.gamma(2, 5, n_reg_samples) + 1\n",
    "\n",
    " # Generate prices with non-linear relationships\n",
    " base_price = (\n",
    " lot_size * 50 + # Linear lot effect\n",
    " bedrooms * 25000 + # Linear bedroom effect\n",
    " bathrooms * 20000 + # Linear bathroom effect\n",
    " np.exp(school_rating / 3) * 15000 + # Exponential school effect\n",
    " -crime_rate ** 1.5 * 3000 + # Non-linear crime penalty\n",
    " -np.log(distance_to_center + 1) * 20000 + # Log distance effect\n",
    " -house_age * 2000 # Linear age depreciation\n",
    " )\n",
    "\n",
    " # Add noise and ensure positive prices\n",
    " price_noise = np.random.normal(0, 30000, n_reg_samples)\n",
    " house_prices = np.maximum(base_price + price_noise, 100000)\n",
    "\n",
    " regression_df = pd.DataFrame({\n",
    " 'lot_size': lot_size,\n",
    " 'house_age': house_age,\n",
    " 'bedrooms': bedrooms,\n",
    " 'bathrooms': bathrooms,\n",
    " 'school_rating': school_rating,\n",
    " 'crime_rate': crime_rate,\n",
    " 'distance_to_center': distance_to_center,\n",
    " 'price': house_prices\n",
    " })\n",
    "\n",
    " return linear_df, nonlinear_df, regression_df\n",
    "\n",
    "# Generate datasets\n",
    "print(\" Generating SVM-optimized datasets...\")\n",
    "linear_df, nonlinear_df, regression_df = generate_svm_datasets()\n",
    "\n",
    "print(f\"Linear Dataset (Credit Approval): {linear_df.shape}\")\n",
    "print(f\"Non-linear Dataset (Customer Segments): {nonlinear_df.shape}\")\n",
    "print(f\"Regression Dataset (House Prices): {regression_df.shape}\")\n",
    "\n",
    "print(\"\\nLinear Classification Dataset (Credit Approval):\")\n",
    "print(linear_df.head())\n",
    "print(f\"Approval Rate: {linear_df['approved'].mean():.1%}\")\n",
    "\n",
    "print(\"\\nNon-linear Classification Dataset (Customer Segmentation):\")\n",
    "print(nonlinear_df.head())\n",
    "print(f\"High Value Customers: {(nonlinear_df['value_segment'] == 0).mean():.1%}\")\n",
    "\n",
    "print(\"\\nRegression Dataset (House Prices):\")\n",
    "print(regression_df.head())\n",
    "print(f\"Price Range: ${regression_df['price'].min():,.0f} - ${regression_df['price'].max():,.0f}\")"
   ]
  },
  {
   "cell_type": "code",
   "execution_count": 3,
   "id": "681ec442",
   "metadata": {},
   "outputs": [
    {
     "name": "stdout",
     "output_type": "stream",
     "text": [
      " 1. LINEAR SVM ANALYSIS\n",
      "=========================\n",
      "Training set: (800, 6)\n",
      "Test set: (200, 6)\n",
      "Class distribution: {1: 734, 0: 66}\n",
      "\n",
      " C Parameter Optimization:\n",
      "• C=0.01: Test Acc=0.9250, CV=0.9187±0.0000, SV=134\n",
      "• C=0.1: Test Acc=0.9650, CV=0.9650±0.0116, SV=96\n",
      "• C=1: Test Acc=0.9700, CV=0.9713±0.0102, SV=65\n",
      "• C=10: Test Acc=0.9800, CV=0.9675±0.0133, SV=55\n",
      "• C=100: Test Acc=0.9800, CV=0.9675±0.0100, SV=54\n",
      "\n",
      " Optimal C: 1.0\n"
     ]
    },
    {
     "data": {
      "application/vnd.plotly.v1+json": {
       "config": {
        "plotlyServerURL": "https://plot.ly"
       },
       "data": [
        {
         "line": {
          "color": "blue"
         },
         "mode": "lines+markers",
         "name": "Training",
         "type": "scatter",
         "x": [
          0.01,
          0.1,
          1,
          10,
          100
         ],
         "xaxis": "x",
         "y": {
          "bdata": "j8L1KFyP7T/2KFyPwvXuPz0K16NwPe8/MzMzMzMz7z8zMzMzMzPvPw==",
          "dtype": "f8"
         },
         "yaxis": "y"
        },
        {
         "error_y": {
          "array": {
           "bdata": "AAAAAAAAAACfj4kBj72HP9H1l3grzIQ/r9MXe1RViz9nFK5H4XqEPw==",
           "dtype": "f8"
          },
          "type": "data"
         },
         "line": {
          "color": "green"
         },
         "mode": "lines+markers",
         "name": "CV Mean",
         "type": "scatter",
         "x": [
          0.01,
          0.1,
          1,
          10,
          100
         ],
         "xaxis": "x",
         "y": {
          "bdata": "ZmZmZmZm7T/iehSuR+HuPxWuR+F6FO8/9Shcj8L17j/2KFyPwvXuPw==",
          "dtype": "f8"
         },
         "yaxis": "y"
        },
        {
         "line": {
          "color": "red"
         },
         "mode": "lines+markers",
         "name": "Test",
         "type": "scatter",
         "x": [
          0.01,
          0.1,
          1,
          10,
          100
         ],
         "xaxis": "x",
         "y": {
          "bdata": "mpmZmZmZ7T/hehSuR+HuPwrXo3A9Cu8/XI/C9Shc7z9cj8L1KFzvPw==",
          "dtype": "f8"
         },
         "yaxis": "y"
        },
        {
         "line": {
          "color": "purple"
         },
         "mode": "lines+markers",
         "name": "Support Vectors",
         "showlegend": false,
         "type": "scatter",
         "x": [
          0.01,
          0.1,
          1,
          10,
          100
         ],
         "xaxis": "x2",
         "y": {
          "bdata": "AAAAAADAYEAAAAAAAABYQAAAAAAAQFBAAAAAAACAS0AAAAAAAABLQA==",
          "dtype": "f8"
         },
         "yaxis": "y2"
        }
       ],
       "layout": {
        "annotations": [
         {
          "font": {
           "size": 16
          },
          "showarrow": false,
          "text": "Accuracy vs C Parameter",
          "x": 0.225,
          "xanchor": "center",
          "xref": "paper",
          "y": 1,
          "yanchor": "bottom",
          "yref": "paper"
         },
         {
          "font": {
           "size": 16
          },
          "showarrow": false,
          "text": "Support Vectors vs C Parameter",
          "x": 0.775,
          "xanchor": "center",
          "xref": "paper",
          "y": 1,
          "yanchor": "bottom",
          "yref": "paper"
         }
        ],
        "height": 500,
        "template": {
         "data": {
          "bar": [
           {
            "error_x": {
             "color": "#2a3f5f"
            },
            "error_y": {
             "color": "#2a3f5f"
            },
            "marker": {
             "line": {
              "color": "#E5ECF6",
              "width": 0.5
             },
             "pattern": {
              "fillmode": "overlay",
              "size": 10,
              "solidity": 0.2
             }
            },
            "type": "bar"
           }
          ],
          "barpolar": [
           {
            "marker": {
             "line": {
              "color": "#E5ECF6",
              "width": 0.5
             },
             "pattern": {
              "fillmode": "overlay",
              "size": 10,
              "solidity": 0.2
             }
            },
            "type": "barpolar"
           }
          ],
          "carpet": [
           {
            "aaxis": {
             "endlinecolor": "#2a3f5f",
             "gridcolor": "white",
             "linecolor": "white",
             "minorgridcolor": "white",
             "startlinecolor": "#2a3f5f"
            },
            "baxis": {
             "endlinecolor": "#2a3f5f",
             "gridcolor": "white",
             "linecolor": "white",
             "minorgridcolor": "white",
             "startlinecolor": "#2a3f5f"
            },
            "type": "carpet"
           }
          ],
          "choropleth": [
           {
            "colorbar": {
             "outlinewidth": 0,
             "ticks": ""
            },
            "type": "choropleth"
           }
          ],
          "contour": [
           {
            "colorbar": {
             "outlinewidth": 0,
             "ticks": ""
            },
            "colorscale": [
             [
              0,
              "#0d0887"
             ],
             [
              0.1111111111111111,
              "#46039f"
             ],
             [
              0.2222222222222222,
              "#7201a8"
             ],
             [
              0.3333333333333333,
              "#9c179e"
             ],
             [
              0.4444444444444444,
              "#bd3786"
             ],
             [
              0.5555555555555556,
              "#d8576b"
             ],
             [
              0.6666666666666666,
              "#ed7953"
             ],
             [
              0.7777777777777778,
              "#fb9f3a"
             ],
             [
              0.8888888888888888,
              "#fdca26"
             ],
             [
              1,
              "#f0f921"
             ]
            ],
            "type": "contour"
           }
          ],
          "contourcarpet": [
           {
            "colorbar": {
             "outlinewidth": 0,
             "ticks": ""
            },
            "type": "contourcarpet"
           }
          ],
          "heatmap": [
           {
            "colorbar": {
             "outlinewidth": 0,
             "ticks": ""
            },
            "colorscale": [
             [
              0,
              "#0d0887"
             ],
             [
              0.1111111111111111,
              "#46039f"
             ],
             [
              0.2222222222222222,
              "#7201a8"
             ],
             [
              0.3333333333333333,
              "#9c179e"
             ],
             [
              0.4444444444444444,
              "#bd3786"
             ],
             [
              0.5555555555555556,
              "#d8576b"
             ],
             [
              0.6666666666666666,
              "#ed7953"
             ],
             [
              0.7777777777777778,
              "#fb9f3a"
             ],
             [
              0.8888888888888888,
              "#fdca26"
             ],
             [
              1,
              "#f0f921"
             ]
            ],
            "type": "heatmap"
           }
          ],
          "histogram": [
           {
            "marker": {
             "pattern": {
              "fillmode": "overlay",
              "size": 10,
              "solidity": 0.2
             }
            },
            "type": "histogram"
           }
          ],
          "histogram2d": [
           {
            "colorbar": {
             "outlinewidth": 0,
             "ticks": ""
            },
            "colorscale": [
             [
              0,
              "#0d0887"
             ],
             [
              0.1111111111111111,
              "#46039f"
             ],
             [
              0.2222222222222222,
              "#7201a8"
             ],
             [
              0.3333333333333333,
              "#9c179e"
             ],
             [
              0.4444444444444444,
              "#bd3786"
             ],
             [
              0.5555555555555556,
              "#d8576b"
             ],
             [
              0.6666666666666666,
              "#ed7953"
             ],
             [
              0.7777777777777778,
              "#fb9f3a"
             ],
             [
              0.8888888888888888,
              "#fdca26"
             ],
             [
              1,
              "#f0f921"
             ]
            ],
            "type": "histogram2d"
           }
          ],
          "histogram2dcontour": [
           {
            "colorbar": {
             "outlinewidth": 0,
             "ticks": ""
            },
            "colorscale": [
             [
              0,
              "#0d0887"
             ],
             [
              0.1111111111111111,
              "#46039f"
             ],
             [
              0.2222222222222222,
              "#7201a8"
             ],
             [
              0.3333333333333333,
              "#9c179e"
             ],
             [
              0.4444444444444444,
              "#bd3786"
             ],
             [
              0.5555555555555556,
              "#d8576b"
             ],
             [
              0.6666666666666666,
              "#ed7953"
             ],
             [
              0.7777777777777778,
              "#fb9f3a"
             ],
             [
              0.8888888888888888,
              "#fdca26"
             ],
             [
              1,
              "#f0f921"
             ]
            ],
            "type": "histogram2dcontour"
           }
          ],
          "mesh3d": [
           {
            "colorbar": {
             "outlinewidth": 0,
             "ticks": ""
            },
            "type": "mesh3d"
           }
          ],
          "parcoords": [
           {
            "line": {
             "colorbar": {
              "outlinewidth": 0,
              "ticks": ""
             }
            },
            "type": "parcoords"
           }
          ],
          "pie": [
           {
            "automargin": true,
            "type": "pie"
           }
          ],
          "scatter": [
           {
            "fillpattern": {
             "fillmode": "overlay",
             "size": 10,
             "solidity": 0.2
            },
            "type": "scatter"
           }
          ],
          "scatter3d": [
           {
            "line": {
             "colorbar": {
              "outlinewidth": 0,
              "ticks": ""
             }
            },
            "marker": {
             "colorbar": {
              "outlinewidth": 0,
              "ticks": ""
             }
            },
            "type": "scatter3d"
           }
          ],
          "scattercarpet": [
           {
            "marker": {
             "colorbar": {
              "outlinewidth": 0,
              "ticks": ""
             }
            },
            "type": "scattercarpet"
           }
          ],
          "scattergeo": [
           {
            "marker": {
             "colorbar": {
              "outlinewidth": 0,
              "ticks": ""
             }
            },
            "type": "scattergeo"
           }
          ],
          "scattergl": [
           {
            "marker": {
             "colorbar": {
              "outlinewidth": 0,
              "ticks": ""
             }
            },
            "type": "scattergl"
           }
          ],
          "scattermap": [
           {
            "marker": {
             "colorbar": {
              "outlinewidth": 0,
              "ticks": ""
             }
            },
            "type": "scattermap"
           }
          ],
          "scattermapbox": [
           {
            "marker": {
             "colorbar": {
              "outlinewidth": 0,
              "ticks": ""
             }
            },
            "type": "scattermapbox"
           }
          ],
          "scatterpolar": [
           {
            "marker": {
             "colorbar": {
              "outlinewidth": 0,
              "ticks": ""
             }
            },
            "type": "scatterpolar"
           }
          ],
          "scatterpolargl": [
           {
            "marker": {
             "colorbar": {
              "outlinewidth": 0,
              "ticks": ""
             }
            },
            "type": "scatterpolargl"
           }
          ],
          "scatterternary": [
           {
            "marker": {
             "colorbar": {
              "outlinewidth": 0,
              "ticks": ""
             }
            },
            "type": "scatterternary"
           }
          ],
          "surface": [
           {
            "colorbar": {
             "outlinewidth": 0,
             "ticks": ""
            },
            "colorscale": [
             [
              0,
              "#0d0887"
             ],
             [
              0.1111111111111111,
              "#46039f"
             ],
             [
              0.2222222222222222,
              "#7201a8"
             ],
             [
              0.3333333333333333,
              "#9c179e"
             ],
             [
              0.4444444444444444,
              "#bd3786"
             ],
             [
              0.5555555555555556,
              "#d8576b"
             ],
             [
              0.6666666666666666,
              "#ed7953"
             ],
             [
              0.7777777777777778,
              "#fb9f3a"
             ],
             [
              0.8888888888888888,
              "#fdca26"
             ],
             [
              1,
              "#f0f921"
             ]
            ],
            "type": "surface"
           }
          ],
          "table": [
           {
            "cells": {
             "fill": {
              "color": "#EBF0F8"
             },
             "line": {
              "color": "white"
             }
            },
            "header": {
             "fill": {
              "color": "#C8D4E3"
             },
             "line": {
              "color": "white"
             }
            },
            "type": "table"
           }
          ]
         },
         "layout": {
          "annotationdefaults": {
           "arrowcolor": "#2a3f5f",
           "arrowhead": 0,
           "arrowwidth": 1
          },
          "autotypenumbers": "strict",
          "coloraxis": {
           "colorbar": {
            "outlinewidth": 0,
            "ticks": ""
           }
          },
          "colorscale": {
           "diverging": [
            [
             0,
             "#8e0152"
            ],
            [
             0.1,
             "#c51b7d"
            ],
            [
             0.2,
             "#de77ae"
            ],
            [
             0.3,
             "#f1b6da"
            ],
            [
             0.4,
             "#fde0ef"
            ],
            [
             0.5,
             "#f7f7f7"
            ],
            [
             0.6,
             "#e6f5d0"
            ],
            [
             0.7,
             "#b8e186"
            ],
            [
             0.8,
             "#7fbc41"
            ],
            [
             0.9,
             "#4d9221"
            ],
            [
             1,
             "#276419"
            ]
           ],
           "sequential": [
            [
             0,
             "#0d0887"
            ],
            [
             0.1111111111111111,
             "#46039f"
            ],
            [
             0.2222222222222222,
             "#7201a8"
            ],
            [
             0.3333333333333333,
             "#9c179e"
            ],
            [
             0.4444444444444444,
             "#bd3786"
            ],
            [
             0.5555555555555556,
             "#d8576b"
            ],
            [
             0.6666666666666666,
             "#ed7953"
            ],
            [
             0.7777777777777778,
             "#fb9f3a"
            ],
            [
             0.8888888888888888,
             "#fdca26"
            ],
            [
             1,
             "#f0f921"
            ]
           ],
           "sequentialminus": [
            [
             0,
             "#0d0887"
            ],
            [
             0.1111111111111111,
             "#46039f"
            ],
            [
             0.2222222222222222,
             "#7201a8"
            ],
            [
             0.3333333333333333,
             "#9c179e"
            ],
            [
             0.4444444444444444,
             "#bd3786"
            ],
            [
             0.5555555555555556,
             "#d8576b"
            ],
            [
             0.6666666666666666,
             "#ed7953"
            ],
            [
             0.7777777777777778,
             "#fb9f3a"
            ],
            [
             0.8888888888888888,
             "#fdca26"
            ],
            [
             1,
             "#f0f921"
            ]
           ]
          },
          "colorway": [
           "#636efa",
           "#EF553B",
           "#00cc96",
           "#ab63fa",
           "#FFA15A",
           "#19d3f3",
           "#FF6692",
           "#B6E880",
           "#FF97FF",
           "#FECB52"
          ],
          "font": {
           "color": "#2a3f5f"
          },
          "geo": {
           "bgcolor": "white",
           "lakecolor": "white",
           "landcolor": "#E5ECF6",
           "showlakes": true,
           "showland": true,
           "subunitcolor": "white"
          },
          "hoverlabel": {
           "align": "left"
          },
          "hovermode": "closest",
          "mapbox": {
           "style": "light"
          },
          "paper_bgcolor": "white",
          "plot_bgcolor": "#E5ECF6",
          "polar": {
           "angularaxis": {
            "gridcolor": "white",
            "linecolor": "white",
            "ticks": ""
           },
           "bgcolor": "#E5ECF6",
           "radialaxis": {
            "gridcolor": "white",
            "linecolor": "white",
            "ticks": ""
           }
          },
          "scene": {
           "xaxis": {
            "backgroundcolor": "#E5ECF6",
            "gridcolor": "white",
            "gridwidth": 2,
            "linecolor": "white",
            "showbackground": true,
            "ticks": "",
            "zerolinecolor": "white"
           },
           "yaxis": {
            "backgroundcolor": "#E5ECF6",
            "gridcolor": "white",
            "gridwidth": 2,
            "linecolor": "white",
            "showbackground": true,
            "ticks": "",
            "zerolinecolor": "white"
           },
           "zaxis": {
            "backgroundcolor": "#E5ECF6",
            "gridcolor": "white",
            "gridwidth": 2,
            "linecolor": "white",
            "showbackground": true,
            "ticks": "",
            "zerolinecolor": "white"
           }
          },
          "shapedefaults": {
           "line": {
            "color": "#2a3f5f"
           }
          },
          "ternary": {
           "aaxis": {
            "gridcolor": "white",
            "linecolor": "white",
            "ticks": ""
           },
           "baxis": {
            "gridcolor": "white",
            "linecolor": "white",
            "ticks": ""
           },
           "bgcolor": "#E5ECF6",
           "caxis": {
            "gridcolor": "white",
            "linecolor": "white",
            "ticks": ""
           }
          },
          "title": {
           "x": 0.05
          },
          "xaxis": {
           "automargin": true,
           "gridcolor": "white",
           "linecolor": "white",
           "ticks": "",
           "title": {
            "standoff": 15
           },
           "zerolinecolor": "white",
           "zerolinewidth": 2
          },
          "yaxis": {
           "automargin": true,
           "gridcolor": "white",
           "linecolor": "white",
           "ticks": "",
           "title": {
            "standoff": 15
           },
           "zerolinecolor": "white",
           "zerolinewidth": 2
          }
         }
        },
        "title": {
         "text": "Linear SVM: C Parameter Analysis"
        },
        "xaxis": {
         "anchor": "y",
         "domain": [
          0,
          0.45
         ],
         "title": {
          "text": "C Parameter"
         },
         "type": "log"
        },
        "xaxis2": {
         "anchor": "y2",
         "domain": [
          0.55,
          1
         ],
         "title": {
          "text": "C Parameter"
         },
         "type": "log"
        },
        "yaxis": {
         "anchor": "x",
         "domain": [
          0,
          1
         ],
         "title": {
          "text": "Accuracy"
         }
        },
        "yaxis2": {
         "anchor": "x2",
         "domain": [
          0,
          1
         ],
         "title": {
          "text": "Number of Support Vectors"
         }
        }
       }
      }
     },
     "metadata": {},
     "output_type": "display_data"
    },
    {
     "name": "stdout",
     "output_type": "stream",
     "text": [
      "\n",
      " Final Linear SVM Performance:\n",
      "• C = 1.0\n",
      "• Test Accuracy: 0.9700\n",
      "• Support Vectors: 65/800 (8.1%)\n",
      "\n",
      "Classification Report:\n",
      "              precision    recall  f1-score   support\n",
      "\n",
      "    Rejected       0.87      0.76      0.81        17\n",
      "    Approved       0.98      0.99      0.98       183\n",
      "\n",
      "    accuracy                           0.97       200\n",
      "   macro avg       0.92      0.88      0.90       200\n",
      "weighted avg       0.97      0.97      0.97       200\n",
      "\n",
      "\n",
      "Feature Importance (Linear SVM coefficients):\n",
      "• credit_score: 0.508\n",
      "• annual_income: 0.241\n",
      "• debt_to_income: 0.160\n",
      "• previous_defaults: 0.068\n",
      "• credit_utilization: 0.015\n",
      "• employment_years: 0.008\n"
     ]
    },
    {
     "data": {
      "application/vnd.plotly.v1+json": {
       "config": {
        "plotlyServerURL": "https://plot.ly"
       },
       "data": [
        {
         "hovertemplate": "Feature: %{x}<br>Importance: %{y:.3f}<extra></extra>",
         "marker": {
          "color": "lightblue"
         },
         "type": "bar",
         "x": [
          "credit_score",
          "annual_income",
          "debt_to_income",
          "previous_defaults",
          "credit_utilization",
          "employment_years"
         ],
         "y": {
          "bdata": "mmN+wYZD4D+q6RjSzdPOP2yhRlrCcsQ/BTspZGpwsT80YVQU3wWPP8gu0KQaLIA/",
          "dtype": "f8"
         }
        }
       ],
       "layout": {
        "height": 500,
        "template": {
         "data": {
          "bar": [
           {
            "error_x": {
             "color": "#2a3f5f"
            },
            "error_y": {
             "color": "#2a3f5f"
            },
            "marker": {
             "line": {
              "color": "#E5ECF6",
              "width": 0.5
             },
             "pattern": {
              "fillmode": "overlay",
              "size": 10,
              "solidity": 0.2
             }
            },
            "type": "bar"
           }
          ],
          "barpolar": [
           {
            "marker": {
             "line": {
              "color": "#E5ECF6",
              "width": 0.5
             },
             "pattern": {
              "fillmode": "overlay",
              "size": 10,
              "solidity": 0.2
             }
            },
            "type": "barpolar"
           }
          ],
          "carpet": [
           {
            "aaxis": {
             "endlinecolor": "#2a3f5f",
             "gridcolor": "white",
             "linecolor": "white",
             "minorgridcolor": "white",
             "startlinecolor": "#2a3f5f"
            },
            "baxis": {
             "endlinecolor": "#2a3f5f",
             "gridcolor": "white",
             "linecolor": "white",
             "minorgridcolor": "white",
             "startlinecolor": "#2a3f5f"
            },
            "type": "carpet"
           }
          ],
          "choropleth": [
           {
            "colorbar": {
             "outlinewidth": 0,
             "ticks": ""
            },
            "type": "choropleth"
           }
          ],
          "contour": [
           {
            "colorbar": {
             "outlinewidth": 0,
             "ticks": ""
            },
            "colorscale": [
             [
              0,
              "#0d0887"
             ],
             [
              0.1111111111111111,
              "#46039f"
             ],
             [
              0.2222222222222222,
              "#7201a8"
             ],
             [
              0.3333333333333333,
              "#9c179e"
             ],
             [
              0.4444444444444444,
              "#bd3786"
             ],
             [
              0.5555555555555556,
              "#d8576b"
             ],
             [
              0.6666666666666666,
              "#ed7953"
             ],
             [
              0.7777777777777778,
              "#fb9f3a"
             ],
             [
              0.8888888888888888,
              "#fdca26"
             ],
             [
              1,
              "#f0f921"
             ]
            ],
            "type": "contour"
           }
          ],
          "contourcarpet": [
           {
            "colorbar": {
             "outlinewidth": 0,
             "ticks": ""
            },
            "type": "contourcarpet"
           }
          ],
          "heatmap": [
           {
            "colorbar": {
             "outlinewidth": 0,
             "ticks": ""
            },
            "colorscale": [
             [
              0,
              "#0d0887"
             ],
             [
              0.1111111111111111,
              "#46039f"
             ],
             [
              0.2222222222222222,
              "#7201a8"
             ],
             [
              0.3333333333333333,
              "#9c179e"
             ],
             [
              0.4444444444444444,
              "#bd3786"
             ],
             [
              0.5555555555555556,
              "#d8576b"
             ],
             [
              0.6666666666666666,
              "#ed7953"
             ],
             [
              0.7777777777777778,
              "#fb9f3a"
             ],
             [
              0.8888888888888888,
              "#fdca26"
             ],
             [
              1,
              "#f0f921"
             ]
            ],
            "type": "heatmap"
           }
          ],
          "histogram": [
           {
            "marker": {
             "pattern": {
              "fillmode": "overlay",
              "size": 10,
              "solidity": 0.2
             }
            },
            "type": "histogram"
           }
          ],
          "histogram2d": [
           {
            "colorbar": {
             "outlinewidth": 0,
             "ticks": ""
            },
            "colorscale": [
             [
              0,
              "#0d0887"
             ],
             [
              0.1111111111111111,
              "#46039f"
             ],
             [
              0.2222222222222222,
              "#7201a8"
             ],
             [
              0.3333333333333333,
              "#9c179e"
             ],
             [
              0.4444444444444444,
              "#bd3786"
             ],
             [
              0.5555555555555556,
              "#d8576b"
             ],
             [
              0.6666666666666666,
              "#ed7953"
             ],
             [
              0.7777777777777778,
              "#fb9f3a"
             ],
             [
              0.8888888888888888,
              "#fdca26"
             ],
             [
              1,
              "#f0f921"
             ]
            ],
            "type": "histogram2d"
           }
          ],
          "histogram2dcontour": [
           {
            "colorbar": {
             "outlinewidth": 0,
             "ticks": ""
            },
            "colorscale": [
             [
              0,
              "#0d0887"
             ],
             [
              0.1111111111111111,
              "#46039f"
             ],
             [
              0.2222222222222222,
              "#7201a8"
             ],
             [
              0.3333333333333333,
              "#9c179e"
             ],
             [
              0.4444444444444444,
              "#bd3786"
             ],
             [
              0.5555555555555556,
              "#d8576b"
             ],
             [
              0.6666666666666666,
              "#ed7953"
             ],
             [
              0.7777777777777778,
              "#fb9f3a"
             ],
             [
              0.8888888888888888,
              "#fdca26"
             ],
             [
              1,
              "#f0f921"
             ]
            ],
            "type": "histogram2dcontour"
           }
          ],
          "mesh3d": [
           {
            "colorbar": {
             "outlinewidth": 0,
             "ticks": ""
            },
            "type": "mesh3d"
           }
          ],
          "parcoords": [
           {
            "line": {
             "colorbar": {
              "outlinewidth": 0,
              "ticks": ""
             }
            },
            "type": "parcoords"
           }
          ],
          "pie": [
           {
            "automargin": true,
            "type": "pie"
           }
          ],
          "scatter": [
           {
            "fillpattern": {
             "fillmode": "overlay",
             "size": 10,
             "solidity": 0.2
            },
            "type": "scatter"
           }
          ],
          "scatter3d": [
           {
            "line": {
             "colorbar": {
              "outlinewidth": 0,
              "ticks": ""
             }
            },
            "marker": {
             "colorbar": {
              "outlinewidth": 0,
              "ticks": ""
             }
            },
            "type": "scatter3d"
           }
          ],
          "scattercarpet": [
           {
            "marker": {
             "colorbar": {
              "outlinewidth": 0,
              "ticks": ""
             }
            },
            "type": "scattercarpet"
           }
          ],
          "scattergeo": [
           {
            "marker": {
             "colorbar": {
              "outlinewidth": 0,
              "ticks": ""
             }
            },
            "type": "scattergeo"
           }
          ],
          "scattergl": [
           {
            "marker": {
             "colorbar": {
              "outlinewidth": 0,
              "ticks": ""
             }
            },
            "type": "scattergl"
           }
          ],
          "scattermap": [
           {
            "marker": {
             "colorbar": {
              "outlinewidth": 0,
              "ticks": ""
             }
            },
            "type": "scattermap"
           }
          ],
          "scattermapbox": [
           {
            "marker": {
             "colorbar": {
              "outlinewidth": 0,
              "ticks": ""
             }
            },
            "type": "scattermapbox"
           }
          ],
          "scatterpolar": [
           {
            "marker": {
             "colorbar": {
              "outlinewidth": 0,
              "ticks": ""
             }
            },
            "type": "scatterpolar"
           }
          ],
          "scatterpolargl": [
           {
            "marker": {
             "colorbar": {
              "outlinewidth": 0,
              "ticks": ""
             }
            },
            "type": "scatterpolargl"
           }
          ],
          "scatterternary": [
           {
            "marker": {
             "colorbar": {
              "outlinewidth": 0,
              "ticks": ""
             }
            },
            "type": "scatterternary"
           }
          ],
          "surface": [
           {
            "colorbar": {
             "outlinewidth": 0,
             "ticks": ""
            },
            "colorscale": [
             [
              0,
              "#0d0887"
             ],
             [
              0.1111111111111111,
              "#46039f"
             ],
             [
              0.2222222222222222,
              "#7201a8"
             ],
             [
              0.3333333333333333,
              "#9c179e"
             ],
             [
              0.4444444444444444,
              "#bd3786"
             ],
             [
              0.5555555555555556,
              "#d8576b"
             ],
             [
              0.6666666666666666,
              "#ed7953"
             ],
             [
              0.7777777777777778,
              "#fb9f3a"
             ],
             [
              0.8888888888888888,
              "#fdca26"
             ],
             [
              1,
              "#f0f921"
             ]
            ],
            "type": "surface"
           }
          ],
          "table": [
           {
            "cells": {
             "fill": {
              "color": "#EBF0F8"
             },
             "line": {
              "color": "white"
             }
            },
            "header": {
             "fill": {
              "color": "#C8D4E3"
             },
             "line": {
              "color": "white"
             }
            },
            "type": "table"
           }
          ]
         },
         "layout": {
          "annotationdefaults": {
           "arrowcolor": "#2a3f5f",
           "arrowhead": 0,
           "arrowwidth": 1
          },
          "autotypenumbers": "strict",
          "coloraxis": {
           "colorbar": {
            "outlinewidth": 0,
            "ticks": ""
           }
          },
          "colorscale": {
           "diverging": [
            [
             0,
             "#8e0152"
            ],
            [
             0.1,
             "#c51b7d"
            ],
            [
             0.2,
             "#de77ae"
            ],
            [
             0.3,
             "#f1b6da"
            ],
            [
             0.4,
             "#fde0ef"
            ],
            [
             0.5,
             "#f7f7f7"
            ],
            [
             0.6,
             "#e6f5d0"
            ],
            [
             0.7,
             "#b8e186"
            ],
            [
             0.8,
             "#7fbc41"
            ],
            [
             0.9,
             "#4d9221"
            ],
            [
             1,
             "#276419"
            ]
           ],
           "sequential": [
            [
             0,
             "#0d0887"
            ],
            [
             0.1111111111111111,
             "#46039f"
            ],
            [
             0.2222222222222222,
             "#7201a8"
            ],
            [
             0.3333333333333333,
             "#9c179e"
            ],
            [
             0.4444444444444444,
             "#bd3786"
            ],
            [
             0.5555555555555556,
             "#d8576b"
            ],
            [
             0.6666666666666666,
             "#ed7953"
            ],
            [
             0.7777777777777778,
             "#fb9f3a"
            ],
            [
             0.8888888888888888,
             "#fdca26"
            ],
            [
             1,
             "#f0f921"
            ]
           ],
           "sequentialminus": [
            [
             0,
             "#0d0887"
            ],
            [
             0.1111111111111111,
             "#46039f"
            ],
            [
             0.2222222222222222,
             "#7201a8"
            ],
            [
             0.3333333333333333,
             "#9c179e"
            ],
            [
             0.4444444444444444,
             "#bd3786"
            ],
            [
             0.5555555555555556,
             "#d8576b"
            ],
            [
             0.6666666666666666,
             "#ed7953"
            ],
            [
             0.7777777777777778,
             "#fb9f3a"
            ],
            [
             0.8888888888888888,
             "#fdca26"
            ],
            [
             1,
             "#f0f921"
            ]
           ]
          },
          "colorway": [
           "#636efa",
           "#EF553B",
           "#00cc96",
           "#ab63fa",
           "#FFA15A",
           "#19d3f3",
           "#FF6692",
           "#B6E880",
           "#FF97FF",
           "#FECB52"
          ],
          "font": {
           "color": "#2a3f5f"
          },
          "geo": {
           "bgcolor": "white",
           "lakecolor": "white",
           "landcolor": "#E5ECF6",
           "showlakes": true,
           "showland": true,
           "subunitcolor": "white"
          },
          "hoverlabel": {
           "align": "left"
          },
          "hovermode": "closest",
          "mapbox": {
           "style": "light"
          },
          "paper_bgcolor": "white",
          "plot_bgcolor": "#E5ECF6",
          "polar": {
           "angularaxis": {
            "gridcolor": "white",
            "linecolor": "white",
            "ticks": ""
           },
           "bgcolor": "#E5ECF6",
           "radialaxis": {
            "gridcolor": "white",
            "linecolor": "white",
            "ticks": ""
           }
          },
          "scene": {
           "xaxis": {
            "backgroundcolor": "#E5ECF6",
            "gridcolor": "white",
            "gridwidth": 2,
            "linecolor": "white",
            "showbackground": true,
            "ticks": "",
            "zerolinecolor": "white"
           },
           "yaxis": {
            "backgroundcolor": "#E5ECF6",
            "gridcolor": "white",
            "gridwidth": 2,
            "linecolor": "white",
            "showbackground": true,
            "ticks": "",
            "zerolinecolor": "white"
           },
           "zaxis": {
            "backgroundcolor": "#E5ECF6",
            "gridcolor": "white",
            "gridwidth": 2,
            "linecolor": "white",
            "showbackground": true,
            "ticks": "",
            "zerolinecolor": "white"
           }
          },
          "shapedefaults": {
           "line": {
            "color": "#2a3f5f"
           }
          },
          "ternary": {
           "aaxis": {
            "gridcolor": "white",
            "linecolor": "white",
            "ticks": ""
           },
           "baxis": {
            "gridcolor": "white",
            "linecolor": "white",
            "ticks": ""
           },
           "bgcolor": "#E5ECF6",
           "caxis": {
            "gridcolor": "white",
            "linecolor": "white",
            "ticks": ""
           }
          },
          "title": {
           "x": 0.05
          },
          "xaxis": {
           "automargin": true,
           "gridcolor": "white",
           "linecolor": "white",
           "ticks": "",
           "title": {
            "standoff": 15
           },
           "zerolinecolor": "white",
           "zerolinewidth": 2
          },
          "yaxis": {
           "automargin": true,
           "gridcolor": "white",
           "linecolor": "white",
           "ticks": "",
           "title": {
            "standoff": 15
           },
           "zerolinecolor": "white",
           "zerolinewidth": 2
          }
         }
        },
        "title": {
         "text": "Linear SVM Feature Importance"
        },
        "xaxis": {
         "tickangle": -45,
         "title": {
          "text": "Features"
         }
        },
        "yaxis": {
         "title": {
          "text": "Normalized Coefficient Magnitude"
         }
        }
       }
      }
     },
     "metadata": {},
     "output_type": "display_data"
    },
    {
     "data": {
      "application/vnd.plotly.v1+json": {
       "config": {
        "plotlyServerURL": "https://plot.ly"
       },
       "data": [
        {
         "colorscale": [
          [
           0,
           "rgb(247,251,255)"
          ],
          [
           0.125,
           "rgb(222,235,247)"
          ],
          [
           0.25,
           "rgb(198,219,239)"
          ],
          [
           0.375,
           "rgb(158,202,225)"
          ],
          [
           0.5,
           "rgb(107,174,214)"
          ],
          [
           0.625,
           "rgb(66,146,198)"
          ],
          [
           0.75,
           "rgb(33,113,181)"
          ],
          [
           0.875,
           "rgb(8,81,156)"
          ],
          [
           1,
           "rgb(8,48,107)"
          ]
         ],
         "reversescale": false,
         "showscale": true,
         "type": "heatmap",
         "x": [
          "Rejected",
          "Approved"
         ],
         "y": [
          "Rejected",
          "Approved"
         ],
         "z": {
          "bdata": "DQAEAAIAtQA=",
          "dtype": "i2",
          "shape": "2, 2"
         }
        }
       ],
       "layout": {
        "annotations": [
         {
          "font": {
           "color": "#000000"
          },
          "showarrow": false,
          "text": "13",
          "x": "Rejected",
          "xref": "x",
          "y": "Rejected",
          "yref": "y"
         },
         {
          "font": {
           "color": "#000000"
          },
          "showarrow": false,
          "text": "4",
          "x": "Approved",
          "xref": "x",
          "y": "Rejected",
          "yref": "y"
         },
         {
          "font": {
           "color": "#000000"
          },
          "showarrow": false,
          "text": "2",
          "x": "Rejected",
          "xref": "x",
          "y": "Approved",
          "yref": "y"
         },
         {
          "font": {
           "color": "#FFFFFF"
          },
          "showarrow": false,
          "text": "181",
          "x": "Approved",
          "xref": "x",
          "y": "Approved",
          "yref": "y"
         }
        ],
        "height": 400,
        "template": {
         "data": {
          "bar": [
           {
            "error_x": {
             "color": "#2a3f5f"
            },
            "error_y": {
             "color": "#2a3f5f"
            },
            "marker": {
             "line": {
              "color": "#E5ECF6",
              "width": 0.5
             },
             "pattern": {
              "fillmode": "overlay",
              "size": 10,
              "solidity": 0.2
             }
            },
            "type": "bar"
           }
          ],
          "barpolar": [
           {
            "marker": {
             "line": {
              "color": "#E5ECF6",
              "width": 0.5
             },
             "pattern": {
              "fillmode": "overlay",
              "size": 10,
              "solidity": 0.2
             }
            },
            "type": "barpolar"
           }
          ],
          "carpet": [
           {
            "aaxis": {
             "endlinecolor": "#2a3f5f",
             "gridcolor": "white",
             "linecolor": "white",
             "minorgridcolor": "white",
             "startlinecolor": "#2a3f5f"
            },
            "baxis": {
             "endlinecolor": "#2a3f5f",
             "gridcolor": "white",
             "linecolor": "white",
             "minorgridcolor": "white",
             "startlinecolor": "#2a3f5f"
            },
            "type": "carpet"
           }
          ],
          "choropleth": [
           {
            "colorbar": {
             "outlinewidth": 0,
             "ticks": ""
            },
            "type": "choropleth"
           }
          ],
          "contour": [
           {
            "colorbar": {
             "outlinewidth": 0,
             "ticks": ""
            },
            "colorscale": [
             [
              0,
              "#0d0887"
             ],
             [
              0.1111111111111111,
              "#46039f"
             ],
             [
              0.2222222222222222,
              "#7201a8"
             ],
             [
              0.3333333333333333,
              "#9c179e"
             ],
             [
              0.4444444444444444,
              "#bd3786"
             ],
             [
              0.5555555555555556,
              "#d8576b"
             ],
             [
              0.6666666666666666,
              "#ed7953"
             ],
             [
              0.7777777777777778,
              "#fb9f3a"
             ],
             [
              0.8888888888888888,
              "#fdca26"
             ],
             [
              1,
              "#f0f921"
             ]
            ],
            "type": "contour"
           }
          ],
          "contourcarpet": [
           {
            "colorbar": {
             "outlinewidth": 0,
             "ticks": ""
            },
            "type": "contourcarpet"
           }
          ],
          "heatmap": [
           {
            "colorbar": {
             "outlinewidth": 0,
             "ticks": ""
            },
            "colorscale": [
             [
              0,
              "#0d0887"
             ],
             [
              0.1111111111111111,
              "#46039f"
             ],
             [
              0.2222222222222222,
              "#7201a8"
             ],
             [
              0.3333333333333333,
              "#9c179e"
             ],
             [
              0.4444444444444444,
              "#bd3786"
             ],
             [
              0.5555555555555556,
              "#d8576b"
             ],
             [
              0.6666666666666666,
              "#ed7953"
             ],
             [
              0.7777777777777778,
              "#fb9f3a"
             ],
             [
              0.8888888888888888,
              "#fdca26"
             ],
             [
              1,
              "#f0f921"
             ]
            ],
            "type": "heatmap"
           }
          ],
          "histogram": [
           {
            "marker": {
             "pattern": {
              "fillmode": "overlay",
              "size": 10,
              "solidity": 0.2
             }
            },
            "type": "histogram"
           }
          ],
          "histogram2d": [
           {
            "colorbar": {
             "outlinewidth": 0,
             "ticks": ""
            },
            "colorscale": [
             [
              0,
              "#0d0887"
             ],
             [
              0.1111111111111111,
              "#46039f"
             ],
             [
              0.2222222222222222,
              "#7201a8"
             ],
             [
              0.3333333333333333,
              "#9c179e"
             ],
             [
              0.4444444444444444,
              "#bd3786"
             ],
             [
              0.5555555555555556,
              "#d8576b"
             ],
             [
              0.6666666666666666,
              "#ed7953"
             ],
             [
              0.7777777777777778,
              "#fb9f3a"
             ],
             [
              0.8888888888888888,
              "#fdca26"
             ],
             [
              1,
              "#f0f921"
             ]
            ],
            "type": "histogram2d"
           }
          ],
          "histogram2dcontour": [
           {
            "colorbar": {
             "outlinewidth": 0,
             "ticks": ""
            },
            "colorscale": [
             [
              0,
              "#0d0887"
             ],
             [
              0.1111111111111111,
              "#46039f"
             ],
             [
              0.2222222222222222,
              "#7201a8"
             ],
             [
              0.3333333333333333,
              "#9c179e"
             ],
             [
              0.4444444444444444,
              "#bd3786"
             ],
             [
              0.5555555555555556,
              "#d8576b"
             ],
             [
              0.6666666666666666,
              "#ed7953"
             ],
             [
              0.7777777777777778,
              "#fb9f3a"
             ],
             [
              0.8888888888888888,
              "#fdca26"
             ],
             [
              1,
              "#f0f921"
             ]
            ],
            "type": "histogram2dcontour"
           }
          ],
          "mesh3d": [
           {
            "colorbar": {
             "outlinewidth": 0,
             "ticks": ""
            },
            "type": "mesh3d"
           }
          ],
          "parcoords": [
           {
            "line": {
             "colorbar": {
              "outlinewidth": 0,
              "ticks": ""
             }
            },
            "type": "parcoords"
           }
          ],
          "pie": [
           {
            "automargin": true,
            "type": "pie"
           }
          ],
          "scatter": [
           {
            "fillpattern": {
             "fillmode": "overlay",
             "size": 10,
             "solidity": 0.2
            },
            "type": "scatter"
           }
          ],
          "scatter3d": [
           {
            "line": {
             "colorbar": {
              "outlinewidth": 0,
              "ticks": ""
             }
            },
            "marker": {
             "colorbar": {
              "outlinewidth": 0,
              "ticks": ""
             }
            },
            "type": "scatter3d"
           }
          ],
          "scattercarpet": [
           {
            "marker": {
             "colorbar": {
              "outlinewidth": 0,
              "ticks": ""
             }
            },
            "type": "scattercarpet"
           }
          ],
          "scattergeo": [
           {
            "marker": {
             "colorbar": {
              "outlinewidth": 0,
              "ticks": ""
             }
            },
            "type": "scattergeo"
           }
          ],
          "scattergl": [
           {
            "marker": {
             "colorbar": {
              "outlinewidth": 0,
              "ticks": ""
             }
            },
            "type": "scattergl"
           }
          ],
          "scattermap": [
           {
            "marker": {
             "colorbar": {
              "outlinewidth": 0,
              "ticks": ""
             }
            },
            "type": "scattermap"
           }
          ],
          "scattermapbox": [
           {
            "marker": {
             "colorbar": {
              "outlinewidth": 0,
              "ticks": ""
             }
            },
            "type": "scattermapbox"
           }
          ],
          "scatterpolar": [
           {
            "marker": {
             "colorbar": {
              "outlinewidth": 0,
              "ticks": ""
             }
            },
            "type": "scatterpolar"
           }
          ],
          "scatterpolargl": [
           {
            "marker": {
             "colorbar": {
              "outlinewidth": 0,
              "ticks": ""
             }
            },
            "type": "scatterpolargl"
           }
          ],
          "scatterternary": [
           {
            "marker": {
             "colorbar": {
              "outlinewidth": 0,
              "ticks": ""
             }
            },
            "type": "scatterternary"
           }
          ],
          "surface": [
           {
            "colorbar": {
             "outlinewidth": 0,
             "ticks": ""
            },
            "colorscale": [
             [
              0,
              "#0d0887"
             ],
             [
              0.1111111111111111,
              "#46039f"
             ],
             [
              0.2222222222222222,
              "#7201a8"
             ],
             [
              0.3333333333333333,
              "#9c179e"
             ],
             [
              0.4444444444444444,
              "#bd3786"
             ],
             [
              0.5555555555555556,
              "#d8576b"
             ],
             [
              0.6666666666666666,
              "#ed7953"
             ],
             [
              0.7777777777777778,
              "#fb9f3a"
             ],
             [
              0.8888888888888888,
              "#fdca26"
             ],
             [
              1,
              "#f0f921"
             ]
            ],
            "type": "surface"
           }
          ],
          "table": [
           {
            "cells": {
             "fill": {
              "color": "#EBF0F8"
             },
             "line": {
              "color": "white"
             }
            },
            "header": {
             "fill": {
              "color": "#C8D4E3"
             },
             "line": {
              "color": "white"
             }
            },
            "type": "table"
           }
          ]
         },
         "layout": {
          "annotationdefaults": {
           "arrowcolor": "#2a3f5f",
           "arrowhead": 0,
           "arrowwidth": 1
          },
          "autotypenumbers": "strict",
          "coloraxis": {
           "colorbar": {
            "outlinewidth": 0,
            "ticks": ""
           }
          },
          "colorscale": {
           "diverging": [
            [
             0,
             "#8e0152"
            ],
            [
             0.1,
             "#c51b7d"
            ],
            [
             0.2,
             "#de77ae"
            ],
            [
             0.3,
             "#f1b6da"
            ],
            [
             0.4,
             "#fde0ef"
            ],
            [
             0.5,
             "#f7f7f7"
            ],
            [
             0.6,
             "#e6f5d0"
            ],
            [
             0.7,
             "#b8e186"
            ],
            [
             0.8,
             "#7fbc41"
            ],
            [
             0.9,
             "#4d9221"
            ],
            [
             1,
             "#276419"
            ]
           ],
           "sequential": [
            [
             0,
             "#0d0887"
            ],
            [
             0.1111111111111111,
             "#46039f"
            ],
            [
             0.2222222222222222,
             "#7201a8"
            ],
            [
             0.3333333333333333,
             "#9c179e"
            ],
            [
             0.4444444444444444,
             "#bd3786"
            ],
            [
             0.5555555555555556,
             "#d8576b"
            ],
            [
             0.6666666666666666,
             "#ed7953"
            ],
            [
             0.7777777777777778,
             "#fb9f3a"
            ],
            [
             0.8888888888888888,
             "#fdca26"
            ],
            [
             1,
             "#f0f921"
            ]
           ],
           "sequentialminus": [
            [
             0,
             "#0d0887"
            ],
            [
             0.1111111111111111,
             "#46039f"
            ],
            [
             0.2222222222222222,
             "#7201a8"
            ],
            [
             0.3333333333333333,
             "#9c179e"
            ],
            [
             0.4444444444444444,
             "#bd3786"
            ],
            [
             0.5555555555555556,
             "#d8576b"
            ],
            [
             0.6666666666666666,
             "#ed7953"
            ],
            [
             0.7777777777777778,
             "#fb9f3a"
            ],
            [
             0.8888888888888888,
             "#fdca26"
            ],
            [
             1,
             "#f0f921"
            ]
           ]
          },
          "colorway": [
           "#636efa",
           "#EF553B",
           "#00cc96",
           "#ab63fa",
           "#FFA15A",
           "#19d3f3",
           "#FF6692",
           "#B6E880",
           "#FF97FF",
           "#FECB52"
          ],
          "font": {
           "color": "#2a3f5f"
          },
          "geo": {
           "bgcolor": "white",
           "lakecolor": "white",
           "landcolor": "#E5ECF6",
           "showlakes": true,
           "showland": true,
           "subunitcolor": "white"
          },
          "hoverlabel": {
           "align": "left"
          },
          "hovermode": "closest",
          "mapbox": {
           "style": "light"
          },
          "paper_bgcolor": "white",
          "plot_bgcolor": "#E5ECF6",
          "polar": {
           "angularaxis": {
            "gridcolor": "white",
            "linecolor": "white",
            "ticks": ""
           },
           "bgcolor": "#E5ECF6",
           "radialaxis": {
            "gridcolor": "white",
            "linecolor": "white",
            "ticks": ""
           }
          },
          "scene": {
           "xaxis": {
            "backgroundcolor": "#E5ECF6",
            "gridcolor": "white",
            "gridwidth": 2,
            "linecolor": "white",
            "showbackground": true,
            "ticks": "",
            "zerolinecolor": "white"
           },
           "yaxis": {
            "backgroundcolor": "#E5ECF6",
            "gridcolor": "white",
            "gridwidth": 2,
            "linecolor": "white",
            "showbackground": true,
            "ticks": "",
            "zerolinecolor": "white"
           },
           "zaxis": {
            "backgroundcolor": "#E5ECF6",
            "gridcolor": "white",
            "gridwidth": 2,
            "linecolor": "white",
            "showbackground": true,
            "ticks": "",
            "zerolinecolor": "white"
           }
          },
          "shapedefaults": {
           "line": {
            "color": "#2a3f5f"
           }
          },
          "ternary": {
           "aaxis": {
            "gridcolor": "white",
            "linecolor": "white",
            "ticks": ""
           },
           "baxis": {
            "gridcolor": "white",
            "linecolor": "white",
            "ticks": ""
           },
           "bgcolor": "#E5ECF6",
           "caxis": {
            "gridcolor": "white",
            "linecolor": "white",
            "ticks": ""
           }
          },
          "title": {
           "x": 0.05
          },
          "xaxis": {
           "automargin": true,
           "gridcolor": "white",
           "linecolor": "white",
           "ticks": "",
           "title": {
            "standoff": 15
           },
           "zerolinecolor": "white",
           "zerolinewidth": 2
          },
          "yaxis": {
           "automargin": true,
           "gridcolor": "white",
           "linecolor": "white",
           "ticks": "",
           "title": {
            "standoff": 15
           },
           "zerolinecolor": "white",
           "zerolinewidth": 2
          }
         }
        },
        "title": {
         "text": "Linear SVM Confusion Matrix (C=1.0)"
        },
        "xaxis": {
         "dtick": 1,
         "gridcolor": "rgb(0, 0, 0)",
         "side": "top",
         "ticks": "",
         "title": {
          "text": "Predicted"
         }
        },
        "yaxis": {
         "dtick": 1,
         "ticks": "",
         "ticksuffix": "  ",
         "title": {
          "text": "Actual"
         }
        }
       }
      }
     },
     "metadata": {},
     "output_type": "display_data"
    }
   ],
   "source": [
    "# 1. LINEAR SVM ANALYSIS\n",
    "print(\" 1. LINEAR SVM ANALYSIS\")\n",
    "print(\"=\" * 25)\n",
    "\n",
    "# Prepare linear classification data\n",
    "linear_features = ['credit_score', 'debt_to_income', 'annual_income',\n",
    " 'employment_years', 'previous_defaults', 'credit_utilization']\n",
    "X_linear = linear_df[linear_features]\n",
    "y_linear = linear_df['approved']\n",
    "\n",
    "# Split data\n",
    "X_linear_train, X_linear_test, y_linear_train, y_linear_test = train_test_split(\n",
    " X_linear, y_linear, test_size=0.2, random_state=42, stratify=y_linear\n",
    ")\n",
    "\n",
    "# Scale features (important for SVM)\n",
    "scaler_linear = StandardScaler()\n",
    "X_linear_train_scaled = scaler_linear.fit_transform(X_linear_train)\n",
    "X_linear_test_scaled = scaler_linear.transform(X_linear_test)\n",
    "\n",
    "print(f\"Training set: {X_linear_train_scaled.shape}\")\n",
    "print(f\"Test set: {X_linear_test_scaled.shape}\")\n",
    "print(f\"Class distribution: {y_linear_train.value_counts().to_dict()}\")\n",
    "\n",
    "# Train Linear SVM with different C values\n",
    "C_values = [0.01, 0.1, 1, 10, 100]\n",
    "linear_svm_results = {}\n",
    "\n",
    "print(f\"\\n C Parameter Optimization:\")\n",
    "\n",
    "for C in C_values:\n",
    " # Linear SVM\n",
    " svm_linear = SVC(kernel='linear', C=C, random_state=42)\n",
    " svm_linear.fit(X_linear_train_scaled, y_linear_train)\n",
    "\n",
    " # Predictions\n",
    " train_score = svm_linear.score(X_linear_train_scaled, y_linear_train)\n",
    " test_score = svm_linear.score(X_linear_test_scaled, y_linear_test)\n",
    "\n",
    " # Cross-validation\n",
    " cv_scores = cross_val_score(svm_linear, X_linear_train_scaled, y_linear_train, cv=5)\n",
    "\n",
    " # Support vector count\n",
    " n_support = len(svm_linear.support_)\n",
    "\n",
    " linear_svm_results[C] = {\n",
    " 'train_accuracy': train_score,\n",
    " 'test_accuracy': test_score,\n",
    " 'cv_mean': cv_scores.mean(),\n",
    " 'cv_std': cv_scores.std(),\n",
    " 'n_support_vectors': n_support\n",
    " }\n",
    "\n",
    " print(f\"• C={C}: Test Acc={test_score:.4f}, CV={cv_scores.mean():.4f}±{cv_scores.std():.4f}, SV={n_support}\")\n",
    "\n",
    "# Find optimal C\n",
    "results_df = pd.DataFrame(linear_svm_results).T\n",
    "optimal_C = results_df['cv_mean'].idxmax()\n",
    "print(f\"\\n Optimal C: {optimal_C}\")\n",
    "\n",
    "# Visualize C parameter effect\n",
    "fig_c_effect = make_subplots(\n",
    " rows=1, cols=2,\n",
    " subplot_titles=['Accuracy vs C Parameter', 'Support Vectors vs C Parameter']\n",
    ")\n",
    "\n",
    "# Accuracy plot\n",
    "fig_c_effect.add_trace(\n",
    " go.Scatter(\n",
    " x=list(C_values),\n",
    " y=results_df['train_accuracy'],\n",
    " mode='lines+markers',\n",
    " name='Training',\n",
    " line=dict(color='blue')\n",
    " ),\n",
    " row=1, col=1\n",
    ")\n",
    "\n",
    "fig_c_effect.add_trace(\n",
    " go.Scatter(\n",
    " x=list(C_values),\n",
    " y=results_df['cv_mean'],\n",
    " mode='lines+markers',\n",
    " name='CV Mean',\n",
    " line=dict(color='green'),\n",
    " error_y=dict(type='data', array=results_df['cv_std'])\n",
    " ),\n",
    " row=1, col=1\n",
    ")\n",
    "\n",
    "fig_c_effect.add_trace(\n",
    " go.Scatter(\n",
    " x=list(C_values),\n",
    " y=results_df['test_accuracy'],\n",
    " mode='lines+markers',\n",
    " name='Test',\n",
    " line=dict(color='red')\n",
    " ),\n",
    " row=1, col=1\n",
    ")\n",
    "\n",
    "# Support vectors plot\n",
    "fig_c_effect.add_trace(\n",
    " go.Scatter(\n",
    " x=list(C_values),\n",
    " y=results_df['n_support_vectors'],\n",
    " mode='lines+markers',\n",
    " name='Support Vectors',\n",
    " line=dict(color='purple'),\n",
    " showlegend=False\n",
    " ),\n",
    " row=1, col=2\n",
    ")\n",
    "\n",
    "fig_c_effect.update_xaxes(type=\"log\", title_text=\"C Parameter\", row=1, col=1)\n",
    "fig_c_effect.update_xaxes(type=\"log\", title_text=\"C Parameter\", row=1, col=2)\n",
    "fig_c_effect.update_yaxes(title_text=\"Accuracy\", row=1, col=1)\n",
    "fig_c_effect.update_yaxes(title_text=\"Number of Support Vectors\", row=1, col=2)\n",
    "\n",
    "fig_c_effect.update_layout(\n",
    " title=\"Linear SVM: C Parameter Analysis\",\n",
    " height=500\n",
    ")\n",
    "fig_c_effect.show()\n",
    "\n",
    "# Train final model with optimal C\n",
    "svm_linear_final = SVC(kernel='linear', C=optimal_C, random_state=42)\n",
    "svm_linear_final.fit(X_linear_train_scaled, y_linear_train)\n",
    "\n",
    "# Final predictions and metrics\n",
    "y_linear_pred = svm_linear_final.predict(X_linear_test_scaled)\n",
    "linear_accuracy = accuracy_score(y_linear_test, y_linear_pred)\n",
    "\n",
    "print(f\"\\n Final Linear SVM Performance:\")\n",
    "print(f\"• C = {optimal_C}\")\n",
    "print(f\"• Test Accuracy: {linear_accuracy:.4f}\")\n",
    "print(f\"• Support Vectors: {len(svm_linear_final.support_)}/{len(X_linear_train_scaled)} ({len(svm_linear_final.support_)/len(X_linear_train_scaled):.1%})\")\n",
    "\n",
    "print(f\"\\nClassification Report:\")\n",
    "print(classification_report(y_linear_test, y_linear_pred, target_names=['Rejected', 'Approved']))\n",
    "\n",
    "# Feature importance analysis (using coefficients)\n",
    "feature_importance = np.abs(svm_linear_final.coef_[0])\n",
    "feature_importance_normalized = feature_importance / feature_importance.sum()\n",
    "\n",
    "importance_df = pd.DataFrame({\n",
    " 'Feature': linear_features,\n",
    " 'Importance': feature_importance_normalized\n",
    "}).sort_values('Importance', ascending=False)\n",
    "\n",
    "print(f\"\\nFeature Importance (Linear SVM coefficients):\")\n",
    "for _, row in importance_df.iterrows():\n",
    " print(f\"• {row['Feature']}: {row['Importance']:.3f}\")\n",
    "\n",
    "# Visualize feature importance\n",
    "fig_feat_imp = go.Figure()\n",
    "\n",
    "fig_feat_imp.add_trace(\n",
    " go.Bar(\n",
    " x=importance_df['Feature'],\n",
    " y=importance_df['Importance'],\n",
    " marker_color='lightblue',\n",
    " hovertemplate=\"Feature: %{x}<br>Importance: %{y:.3f}<extra></extra>\"\n",
    " )\n",
    ")\n",
    "\n",
    "fig_feat_imp.update_layout(\n",
    " title=\"Linear SVM Feature Importance\",\n",
    " xaxis_title=\"Features\",\n",
    " yaxis_title=\"Normalized Coefficient Magnitude\",\n",
    " xaxis_tickangle=-45,\n",
    " height=500\n",
    ")\n",
    "fig_feat_imp.show()\n",
    "\n",
    "# Confusion Matrix\n",
    "cm_linear = confusion_matrix(y_linear_test, y_linear_pred)\n",
    "\n",
    "fig_cm_linear = ff.create_annotated_heatmap(\n",
    " z=cm_linear,\n",
    " x=['Rejected', 'Approved'],\n",
    " y=['Rejected', 'Approved'],\n",
    " annotation_text=cm_linear,\n",
    " colorscale='Blues',\n",
    " showscale=True\n",
    ")\n",
    "\n",
    "fig_cm_linear.update_layout(\n",
    " title=f\"Linear SVM Confusion Matrix (C={optimal_C})\",\n",
    " xaxis_title=\"Predicted\",\n",
    " yaxis_title=\"Actual\",\n",
    " height=400\n",
    ")\n",
    "fig_cm_linear.show()"
   ]
  },
  {
   "cell_type": "code",
   "execution_count": 7,
   "id": "79e34ca8",
   "metadata": {},
   "outputs": [
    {
     "name": "stdout",
     "output_type": "stream",
     "text": [
      " 2. KERNEL SVM ANALYSIS (NON-LINEAR)\n",
      "====================================\n",
      "Training set: (640, 4)\n",
      "Test set: (160, 4)\n",
      "Class distribution: {0: 320, 1: 320}\n",
      "\n",
      " Kernel Comparison:\n",
      "• linear: Test Acc=0.6750, CV=0.7094±0.0368, SV=434\n",
      "• rbf: Test Acc=1.0000, CV=1.0000±0.0000, SV=94\n",
      "• poly: Test Acc=0.7625, CV=0.7703±0.0269, SV=416\n",
      "• sigmoid: Test Acc=0.5750, CV=0.6344±0.0200, SV=341\n",
      "\n",
      " Best kernel: rbf\n"
     ]
    },
    {
     "data": {
      "application/vnd.plotly.v1+json": {
       "config": {
        "plotlyServerURL": "https://plot.ly"
       },
       "data": [
        {
         "hovertemplate": "Kernel: %{x}<br>Accuracy: %{y:.4f}<extra></extra>",
         "marker": {
          "color": "lightcoral"
         },
         "name": "Test Accuracy",
         "type": "bar",
         "x": [
          "linear",
          "rbf",
          "poly",
          "sigmoid"
         ],
         "y": [
          0.675,
          1,
          0.7625,
          0.575
         ]
        }
       ],
       "layout": {
        "height": 500,
        "template": {
         "data": {
          "bar": [
           {
            "error_x": {
             "color": "#2a3f5f"
            },
            "error_y": {
             "color": "#2a3f5f"
            },
            "marker": {
             "line": {
              "color": "#E5ECF6",
              "width": 0.5
             },
             "pattern": {
              "fillmode": "overlay",
              "size": 10,
              "solidity": 0.2
             }
            },
            "type": "bar"
           }
          ],
          "barpolar": [
           {
            "marker": {
             "line": {
              "color": "#E5ECF6",
              "width": 0.5
             },
             "pattern": {
              "fillmode": "overlay",
              "size": 10,
              "solidity": 0.2
             }
            },
            "type": "barpolar"
           }
          ],
          "carpet": [
           {
            "aaxis": {
             "endlinecolor": "#2a3f5f",
             "gridcolor": "white",
             "linecolor": "white",
             "minorgridcolor": "white",
             "startlinecolor": "#2a3f5f"
            },
            "baxis": {
             "endlinecolor": "#2a3f5f",
             "gridcolor": "white",
             "linecolor": "white",
             "minorgridcolor": "white",
             "startlinecolor": "#2a3f5f"
            },
            "type": "carpet"
           }
          ],
          "choropleth": [
           {
            "colorbar": {
             "outlinewidth": 0,
             "ticks": ""
            },
            "type": "choropleth"
           }
          ],
          "contour": [
           {
            "colorbar": {
             "outlinewidth": 0,
             "ticks": ""
            },
            "colorscale": [
             [
              0,
              "#0d0887"
             ],
             [
              0.1111111111111111,
              "#46039f"
             ],
             [
              0.2222222222222222,
              "#7201a8"
             ],
             [
              0.3333333333333333,
              "#9c179e"
             ],
             [
              0.4444444444444444,
              "#bd3786"
             ],
             [
              0.5555555555555556,
              "#d8576b"
             ],
             [
              0.6666666666666666,
              "#ed7953"
             ],
             [
              0.7777777777777778,
              "#fb9f3a"
             ],
             [
              0.8888888888888888,
              "#fdca26"
             ],
             [
              1,
              "#f0f921"
             ]
            ],
            "type": "contour"
           }
          ],
          "contourcarpet": [
           {
            "colorbar": {
             "outlinewidth": 0,
             "ticks": ""
            },
            "type": "contourcarpet"
           }
          ],
          "heatmap": [
           {
            "colorbar": {
             "outlinewidth": 0,
             "ticks": ""
            },
            "colorscale": [
             [
              0,
              "#0d0887"
             ],
             [
              0.1111111111111111,
              "#46039f"
             ],
             [
              0.2222222222222222,
              "#7201a8"
             ],
             [
              0.3333333333333333,
              "#9c179e"
             ],
             [
              0.4444444444444444,
              "#bd3786"
             ],
             [
              0.5555555555555556,
              "#d8576b"
             ],
             [
              0.6666666666666666,
              "#ed7953"
             ],
             [
              0.7777777777777778,
              "#fb9f3a"
             ],
             [
              0.8888888888888888,
              "#fdca26"
             ],
             [
              1,
              "#f0f921"
             ]
            ],
            "type": "heatmap"
           }
          ],
          "histogram": [
           {
            "marker": {
             "pattern": {
              "fillmode": "overlay",
              "size": 10,
              "solidity": 0.2
             }
            },
            "type": "histogram"
           }
          ],
          "histogram2d": [
           {
            "colorbar": {
             "outlinewidth": 0,
             "ticks": ""
            },
            "colorscale": [
             [
              0,
              "#0d0887"
             ],
             [
              0.1111111111111111,
              "#46039f"
             ],
             [
              0.2222222222222222,
              "#7201a8"
             ],
             [
              0.3333333333333333,
              "#9c179e"
             ],
             [
              0.4444444444444444,
              "#bd3786"
             ],
             [
              0.5555555555555556,
              "#d8576b"
             ],
             [
              0.6666666666666666,
              "#ed7953"
             ],
             [
              0.7777777777777778,
              "#fb9f3a"
             ],
             [
              0.8888888888888888,
              "#fdca26"
             ],
             [
              1,
              "#f0f921"
             ]
            ],
            "type": "histogram2d"
           }
          ],
          "histogram2dcontour": [
           {
            "colorbar": {
             "outlinewidth": 0,
             "ticks": ""
            },
            "colorscale": [
             [
              0,
              "#0d0887"
             ],
             [
              0.1111111111111111,
              "#46039f"
             ],
             [
              0.2222222222222222,
              "#7201a8"
             ],
             [
              0.3333333333333333,
              "#9c179e"
             ],
             [
              0.4444444444444444,
              "#bd3786"
             ],
             [
              0.5555555555555556,
              "#d8576b"
             ],
             [
              0.6666666666666666,
              "#ed7953"
             ],
             [
              0.7777777777777778,
              "#fb9f3a"
             ],
             [
              0.8888888888888888,
              "#fdca26"
             ],
             [
              1,
              "#f0f921"
             ]
            ],
            "type": "histogram2dcontour"
           }
          ],
          "mesh3d": [
           {
            "colorbar": {
             "outlinewidth": 0,
             "ticks": ""
            },
            "type": "mesh3d"
           }
          ],
          "parcoords": [
           {
            "line": {
             "colorbar": {
              "outlinewidth": 0,
              "ticks": ""
             }
            },
            "type": "parcoords"
           }
          ],
          "pie": [
           {
            "automargin": true,
            "type": "pie"
           }
          ],
          "scatter": [
           {
            "fillpattern": {
             "fillmode": "overlay",
             "size": 10,
             "solidity": 0.2
            },
            "type": "scatter"
           }
          ],
          "scatter3d": [
           {
            "line": {
             "colorbar": {
              "outlinewidth": 0,
              "ticks": ""
             }
            },
            "marker": {
             "colorbar": {
              "outlinewidth": 0,
              "ticks": ""
             }
            },
            "type": "scatter3d"
           }
          ],
          "scattercarpet": [
           {
            "marker": {
             "colorbar": {
              "outlinewidth": 0,
              "ticks": ""
             }
            },
            "type": "scattercarpet"
           }
          ],
          "scattergeo": [
           {
            "marker": {
             "colorbar": {
              "outlinewidth": 0,
              "ticks": ""
             }
            },
            "type": "scattergeo"
           }
          ],
          "scattergl": [
           {
            "marker": {
             "colorbar": {
              "outlinewidth": 0,
              "ticks": ""
             }
            },
            "type": "scattergl"
           }
          ],
          "scattermap": [
           {
            "marker": {
             "colorbar": {
              "outlinewidth": 0,
              "ticks": ""
             }
            },
            "type": "scattermap"
           }
          ],
          "scattermapbox": [
           {
            "marker": {
             "colorbar": {
              "outlinewidth": 0,
              "ticks": ""
             }
            },
            "type": "scattermapbox"
           }
          ],
          "scatterpolar": [
           {
            "marker": {
             "colorbar": {
              "outlinewidth": 0,
              "ticks": ""
             }
            },
            "type": "scatterpolar"
           }
          ],
          "scatterpolargl": [
           {
            "marker": {
             "colorbar": {
              "outlinewidth": 0,
              "ticks": ""
             }
            },
            "type": "scatterpolargl"
           }
          ],
          "scatterternary": [
           {
            "marker": {
             "colorbar": {
              "outlinewidth": 0,
              "ticks": ""
             }
            },
            "type": "scatterternary"
           }
          ],
          "surface": [
           {
            "colorbar": {
             "outlinewidth": 0,
             "ticks": ""
            },
            "colorscale": [
             [
              0,
              "#0d0887"
             ],
             [
              0.1111111111111111,
              "#46039f"
             ],
             [
              0.2222222222222222,
              "#7201a8"
             ],
             [
              0.3333333333333333,
              "#9c179e"
             ],
             [
              0.4444444444444444,
              "#bd3786"
             ],
             [
              0.5555555555555556,
              "#d8576b"
             ],
             [
              0.6666666666666666,
              "#ed7953"
             ],
             [
              0.7777777777777778,
              "#fb9f3a"
             ],
             [
              0.8888888888888888,
              "#fdca26"
             ],
             [
              1,
              "#f0f921"
             ]
            ],
            "type": "surface"
           }
          ],
          "table": [
           {
            "cells": {
             "fill": {
              "color": "#EBF0F8"
             },
             "line": {
              "color": "white"
             }
            },
            "header": {
             "fill": {
              "color": "#C8D4E3"
             },
             "line": {
              "color": "white"
             }
            },
            "type": "table"
           }
          ]
         },
         "layout": {
          "annotationdefaults": {
           "arrowcolor": "#2a3f5f",
           "arrowhead": 0,
           "arrowwidth": 1
          },
          "autotypenumbers": "strict",
          "coloraxis": {
           "colorbar": {
            "outlinewidth": 0,
            "ticks": ""
           }
          },
          "colorscale": {
           "diverging": [
            [
             0,
             "#8e0152"
            ],
            [
             0.1,
             "#c51b7d"
            ],
            [
             0.2,
             "#de77ae"
            ],
            [
             0.3,
             "#f1b6da"
            ],
            [
             0.4,
             "#fde0ef"
            ],
            [
             0.5,
             "#f7f7f7"
            ],
            [
             0.6,
             "#e6f5d0"
            ],
            [
             0.7,
             "#b8e186"
            ],
            [
             0.8,
             "#7fbc41"
            ],
            [
             0.9,
             "#4d9221"
            ],
            [
             1,
             "#276419"
            ]
           ],
           "sequential": [
            [
             0,
             "#0d0887"
            ],
            [
             0.1111111111111111,
             "#46039f"
            ],
            [
             0.2222222222222222,
             "#7201a8"
            ],
            [
             0.3333333333333333,
             "#9c179e"
            ],
            [
             0.4444444444444444,
             "#bd3786"
            ],
            [
             0.5555555555555556,
             "#d8576b"
            ],
            [
             0.6666666666666666,
             "#ed7953"
            ],
            [
             0.7777777777777778,
             "#fb9f3a"
            ],
            [
             0.8888888888888888,
             "#fdca26"
            ],
            [
             1,
             "#f0f921"
            ]
           ],
           "sequentialminus": [
            [
             0,
             "#0d0887"
            ],
            [
             0.1111111111111111,
             "#46039f"
            ],
            [
             0.2222222222222222,
             "#7201a8"
            ],
            [
             0.3333333333333333,
             "#9c179e"
            ],
            [
             0.4444444444444444,
             "#bd3786"
            ],
            [
             0.5555555555555556,
             "#d8576b"
            ],
            [
             0.6666666666666666,
             "#ed7953"
            ],
            [
             0.7777777777777778,
             "#fb9f3a"
            ],
            [
             0.8888888888888888,
             "#fdca26"
            ],
            [
             1,
             "#f0f921"
            ]
           ]
          },
          "colorway": [
           "#636efa",
           "#EF553B",
           "#00cc96",
           "#ab63fa",
           "#FFA15A",
           "#19d3f3",
           "#FF6692",
           "#B6E880",
           "#FF97FF",
           "#FECB52"
          ],
          "font": {
           "color": "#2a3f5f"
          },
          "geo": {
           "bgcolor": "white",
           "lakecolor": "white",
           "landcolor": "#E5ECF6",
           "showlakes": true,
           "showland": true,
           "subunitcolor": "white"
          },
          "hoverlabel": {
           "align": "left"
          },
          "hovermode": "closest",
          "mapbox": {
           "style": "light"
          },
          "paper_bgcolor": "white",
          "plot_bgcolor": "#E5ECF6",
          "polar": {
           "angularaxis": {
            "gridcolor": "white",
            "linecolor": "white",
            "ticks": ""
           },
           "bgcolor": "#E5ECF6",
           "radialaxis": {
            "gridcolor": "white",
            "linecolor": "white",
            "ticks": ""
           }
          },
          "scene": {
           "xaxis": {
            "backgroundcolor": "#E5ECF6",
            "gridcolor": "white",
            "gridwidth": 2,
            "linecolor": "white",
            "showbackground": true,
            "ticks": "",
            "zerolinecolor": "white"
           },
           "yaxis": {
            "backgroundcolor": "#E5ECF6",
            "gridcolor": "white",
            "gridwidth": 2,
            "linecolor": "white",
            "showbackground": true,
            "ticks": "",
            "zerolinecolor": "white"
           },
           "zaxis": {
            "backgroundcolor": "#E5ECF6",
            "gridcolor": "white",
            "gridwidth": 2,
            "linecolor": "white",
            "showbackground": true,
            "ticks": "",
            "zerolinecolor": "white"
           }
          },
          "shapedefaults": {
           "line": {
            "color": "#2a3f5f"
           }
          },
          "ternary": {
           "aaxis": {
            "gridcolor": "white",
            "linecolor": "white",
            "ticks": ""
           },
           "baxis": {
            "gridcolor": "white",
            "linecolor": "white",
            "ticks": ""
           },
           "bgcolor": "#E5ECF6",
           "caxis": {
            "gridcolor": "white",
            "linecolor": "white",
            "ticks": ""
           }
          },
          "title": {
           "x": 0.05
          },
          "xaxis": {
           "automargin": true,
           "gridcolor": "white",
           "linecolor": "white",
           "ticks": "",
           "title": {
            "standoff": 15
           },
           "zerolinecolor": "white",
           "zerolinewidth": 2
          },
          "yaxis": {
           "automargin": true,
           "gridcolor": "white",
           "linecolor": "white",
           "ticks": "",
           "title": {
            "standoff": 15
           },
           "zerolinecolor": "white",
           "zerolinewidth": 2
          }
         }
        },
        "title": {
         "text": "Kernel Comparison (Non-linear Dataset)"
        },
        "xaxis": {
         "title": {
          "text": "Kernel Type"
         }
        },
        "yaxis": {
         "title": {
          "text": "Test Accuracy"
         }
        }
       }
      }
     },
     "metadata": {},
     "output_type": "display_data"
    },
    {
     "name": "stdout",
     "output_type": "stream",
     "text": [
      "\n",
      " RBF Kernel Hyperparameter Optimization:\n",
      "Best parameters: {'C': 1, 'gamma': 'scale'}\n",
      "Best CV score: 1.0000\n",
      "Test accuracy: 1.0000\n",
      "Support vectors: 94/640 (14.7%)\n",
      "Best parameters: {'C': 1, 'gamma': 'scale'}\n",
      "Best CV score: 1.0000\n",
      "Test accuracy: 1.0000\n",
      "Support vectors: 94/640 (14.7%)\n"
     ]
    },
    {
     "data": {
      "application/vnd.plotly.v1+json": {
       "config": {
        "plotlyServerURL": "https://plot.ly"
       },
       "data": [
        {
         "colorscale": [
          [
           0,
           "#440154"
          ],
          [
           0.1111111111111111,
           "#482878"
          ],
          [
           0.2222222222222222,
           "#3e4989"
          ],
          [
           0.3333333333333333,
           "#31688e"
          ],
          [
           0.4444444444444444,
           "#26828e"
          ],
          [
           0.5555555555555556,
           "#1f9e89"
          ],
          [
           0.6666666666666666,
           "#35b779"
          ],
          [
           0.7777777777777778,
           "#6ece58"
          ],
          [
           0.8888888888888888,
           "#b5de2b"
          ],
          [
           1,
           "#fde725"
          ]
         ],
         "hovertemplate": "C: %{y}<br>Gamma: %{x}<br>CV Score: %{z:.4f}<extra></extra>",
         "type": "heatmap",
         "x": [
          "0.001",
          "0.01",
          "0.1",
          "1.0"
         ],
         "y": [
          "0.1",
          "1.0",
          "10.0",
          "100.0"
         ],
         "z": {
          "bdata": "MzMzMzPz5T8AAAAAAMDmPzMzMzMz8+4/AAAAAACA7j+amZmZmdnlP2ZmZmZmZuk/AAAAAAAA8D+amZmZmdnvP5qZmZmZWeY/ZmZmZmam7z8zMzMzM/PvP5qZmZmZ2e8/AAAAAADA6D8AAAAAAADwPzMzMzMz8+8/mpmZmZnZ7z8=",
          "dtype": "f8",
          "shape": "4, 4"
         }
        }
       ],
       "layout": {
        "height": 500,
        "template": {
         "data": {
          "bar": [
           {
            "error_x": {
             "color": "#2a3f5f"
            },
            "error_y": {
             "color": "#2a3f5f"
            },
            "marker": {
             "line": {
              "color": "#E5ECF6",
              "width": 0.5
             },
             "pattern": {
              "fillmode": "overlay",
              "size": 10,
              "solidity": 0.2
             }
            },
            "type": "bar"
           }
          ],
          "barpolar": [
           {
            "marker": {
             "line": {
              "color": "#E5ECF6",
              "width": 0.5
             },
             "pattern": {
              "fillmode": "overlay",
              "size": 10,
              "solidity": 0.2
             }
            },
            "type": "barpolar"
           }
          ],
          "carpet": [
           {
            "aaxis": {
             "endlinecolor": "#2a3f5f",
             "gridcolor": "white",
             "linecolor": "white",
             "minorgridcolor": "white",
             "startlinecolor": "#2a3f5f"
            },
            "baxis": {
             "endlinecolor": "#2a3f5f",
             "gridcolor": "white",
             "linecolor": "white",
             "minorgridcolor": "white",
             "startlinecolor": "#2a3f5f"
            },
            "type": "carpet"
           }
          ],
          "choropleth": [
           {
            "colorbar": {
             "outlinewidth": 0,
             "ticks": ""
            },
            "type": "choropleth"
           }
          ],
          "contour": [
           {
            "colorbar": {
             "outlinewidth": 0,
             "ticks": ""
            },
            "colorscale": [
             [
              0,
              "#0d0887"
             ],
             [
              0.1111111111111111,
              "#46039f"
             ],
             [
              0.2222222222222222,
              "#7201a8"
             ],
             [
              0.3333333333333333,
              "#9c179e"
             ],
             [
              0.4444444444444444,
              "#bd3786"
             ],
             [
              0.5555555555555556,
              "#d8576b"
             ],
             [
              0.6666666666666666,
              "#ed7953"
             ],
             [
              0.7777777777777778,
              "#fb9f3a"
             ],
             [
              0.8888888888888888,
              "#fdca26"
             ],
             [
              1,
              "#f0f921"
             ]
            ],
            "type": "contour"
           }
          ],
          "contourcarpet": [
           {
            "colorbar": {
             "outlinewidth": 0,
             "ticks": ""
            },
            "type": "contourcarpet"
           }
          ],
          "heatmap": [
           {
            "colorbar": {
             "outlinewidth": 0,
             "ticks": ""
            },
            "colorscale": [
             [
              0,
              "#0d0887"
             ],
             [
              0.1111111111111111,
              "#46039f"
             ],
             [
              0.2222222222222222,
              "#7201a8"
             ],
             [
              0.3333333333333333,
              "#9c179e"
             ],
             [
              0.4444444444444444,
              "#bd3786"
             ],
             [
              0.5555555555555556,
              "#d8576b"
             ],
             [
              0.6666666666666666,
              "#ed7953"
             ],
             [
              0.7777777777777778,
              "#fb9f3a"
             ],
             [
              0.8888888888888888,
              "#fdca26"
             ],
             [
              1,
              "#f0f921"
             ]
            ],
            "type": "heatmap"
           }
          ],
          "histogram": [
           {
            "marker": {
             "pattern": {
              "fillmode": "overlay",
              "size": 10,
              "solidity": 0.2
             }
            },
            "type": "histogram"
           }
          ],
          "histogram2d": [
           {
            "colorbar": {
             "outlinewidth": 0,
             "ticks": ""
            },
            "colorscale": [
             [
              0,
              "#0d0887"
             ],
             [
              0.1111111111111111,
              "#46039f"
             ],
             [
              0.2222222222222222,
              "#7201a8"
             ],
             [
              0.3333333333333333,
              "#9c179e"
             ],
             [
              0.4444444444444444,
              "#bd3786"
             ],
             [
              0.5555555555555556,
              "#d8576b"
             ],
             [
              0.6666666666666666,
              "#ed7953"
             ],
             [
              0.7777777777777778,
              "#fb9f3a"
             ],
             [
              0.8888888888888888,
              "#fdca26"
             ],
             [
              1,
              "#f0f921"
             ]
            ],
            "type": "histogram2d"
           }
          ],
          "histogram2dcontour": [
           {
            "colorbar": {
             "outlinewidth": 0,
             "ticks": ""
            },
            "colorscale": [
             [
              0,
              "#0d0887"
             ],
             [
              0.1111111111111111,
              "#46039f"
             ],
             [
              0.2222222222222222,
              "#7201a8"
             ],
             [
              0.3333333333333333,
              "#9c179e"
             ],
             [
              0.4444444444444444,
              "#bd3786"
             ],
             [
              0.5555555555555556,
              "#d8576b"
             ],
             [
              0.6666666666666666,
              "#ed7953"
             ],
             [
              0.7777777777777778,
              "#fb9f3a"
             ],
             [
              0.8888888888888888,
              "#fdca26"
             ],
             [
              1,
              "#f0f921"
             ]
            ],
            "type": "histogram2dcontour"
           }
          ],
          "mesh3d": [
           {
            "colorbar": {
             "outlinewidth": 0,
             "ticks": ""
            },
            "type": "mesh3d"
           }
          ],
          "parcoords": [
           {
            "line": {
             "colorbar": {
              "outlinewidth": 0,
              "ticks": ""
             }
            },
            "type": "parcoords"
           }
          ],
          "pie": [
           {
            "automargin": true,
            "type": "pie"
           }
          ],
          "scatter": [
           {
            "fillpattern": {
             "fillmode": "overlay",
             "size": 10,
             "solidity": 0.2
            },
            "type": "scatter"
           }
          ],
          "scatter3d": [
           {
            "line": {
             "colorbar": {
              "outlinewidth": 0,
              "ticks": ""
             }
            },
            "marker": {
             "colorbar": {
              "outlinewidth": 0,
              "ticks": ""
             }
            },
            "type": "scatter3d"
           }
          ],
          "scattercarpet": [
           {
            "marker": {
             "colorbar": {
              "outlinewidth": 0,
              "ticks": ""
             }
            },
            "type": "scattercarpet"
           }
          ],
          "scattergeo": [
           {
            "marker": {
             "colorbar": {
              "outlinewidth": 0,
              "ticks": ""
             }
            },
            "type": "scattergeo"
           }
          ],
          "scattergl": [
           {
            "marker": {
             "colorbar": {
              "outlinewidth": 0,
              "ticks": ""
             }
            },
            "type": "scattergl"
           }
          ],
          "scattermap": [
           {
            "marker": {
             "colorbar": {
              "outlinewidth": 0,
              "ticks": ""
             }
            },
            "type": "scattermap"
           }
          ],
          "scattermapbox": [
           {
            "marker": {
             "colorbar": {
              "outlinewidth": 0,
              "ticks": ""
             }
            },
            "type": "scattermapbox"
           }
          ],
          "scatterpolar": [
           {
            "marker": {
             "colorbar": {
              "outlinewidth": 0,
              "ticks": ""
             }
            },
            "type": "scatterpolar"
           }
          ],
          "scatterpolargl": [
           {
            "marker": {
             "colorbar": {
              "outlinewidth": 0,
              "ticks": ""
             }
            },
            "type": "scatterpolargl"
           }
          ],
          "scatterternary": [
           {
            "marker": {
             "colorbar": {
              "outlinewidth": 0,
              "ticks": ""
             }
            },
            "type": "scatterternary"
           }
          ],
          "surface": [
           {
            "colorbar": {
             "outlinewidth": 0,
             "ticks": ""
            },
            "colorscale": [
             [
              0,
              "#0d0887"
             ],
             [
              0.1111111111111111,
              "#46039f"
             ],
             [
              0.2222222222222222,
              "#7201a8"
             ],
             [
              0.3333333333333333,
              "#9c179e"
             ],
             [
              0.4444444444444444,
              "#bd3786"
             ],
             [
              0.5555555555555556,
              "#d8576b"
             ],
             [
              0.6666666666666666,
              "#ed7953"
             ],
             [
              0.7777777777777778,
              "#fb9f3a"
             ],
             [
              0.8888888888888888,
              "#fdca26"
             ],
             [
              1,
              "#f0f921"
             ]
            ],
            "type": "surface"
           }
          ],
          "table": [
           {
            "cells": {
             "fill": {
              "color": "#EBF0F8"
             },
             "line": {
              "color": "white"
             }
            },
            "header": {
             "fill": {
              "color": "#C8D4E3"
             },
             "line": {
              "color": "white"
             }
            },
            "type": "table"
           }
          ]
         },
         "layout": {
          "annotationdefaults": {
           "arrowcolor": "#2a3f5f",
           "arrowhead": 0,
           "arrowwidth": 1
          },
          "autotypenumbers": "strict",
          "coloraxis": {
           "colorbar": {
            "outlinewidth": 0,
            "ticks": ""
           }
          },
          "colorscale": {
           "diverging": [
            [
             0,
             "#8e0152"
            ],
            [
             0.1,
             "#c51b7d"
            ],
            [
             0.2,
             "#de77ae"
            ],
            [
             0.3,
             "#f1b6da"
            ],
            [
             0.4,
             "#fde0ef"
            ],
            [
             0.5,
             "#f7f7f7"
            ],
            [
             0.6,
             "#e6f5d0"
            ],
            [
             0.7,
             "#b8e186"
            ],
            [
             0.8,
             "#7fbc41"
            ],
            [
             0.9,
             "#4d9221"
            ],
            [
             1,
             "#276419"
            ]
           ],
           "sequential": [
            [
             0,
             "#0d0887"
            ],
            [
             0.1111111111111111,
             "#46039f"
            ],
            [
             0.2222222222222222,
             "#7201a8"
            ],
            [
             0.3333333333333333,
             "#9c179e"
            ],
            [
             0.4444444444444444,
             "#bd3786"
            ],
            [
             0.5555555555555556,
             "#d8576b"
            ],
            [
             0.6666666666666666,
             "#ed7953"
            ],
            [
             0.7777777777777778,
             "#fb9f3a"
            ],
            [
             0.8888888888888888,
             "#fdca26"
            ],
            [
             1,
             "#f0f921"
            ]
           ],
           "sequentialminus": [
            [
             0,
             "#0d0887"
            ],
            [
             0.1111111111111111,
             "#46039f"
            ],
            [
             0.2222222222222222,
             "#7201a8"
            ],
            [
             0.3333333333333333,
             "#9c179e"
            ],
            [
             0.4444444444444444,
             "#bd3786"
            ],
            [
             0.5555555555555556,
             "#d8576b"
            ],
            [
             0.6666666666666666,
             "#ed7953"
            ],
            [
             0.7777777777777778,
             "#fb9f3a"
            ],
            [
             0.8888888888888888,
             "#fdca26"
            ],
            [
             1,
             "#f0f921"
            ]
           ]
          },
          "colorway": [
           "#636efa",
           "#EF553B",
           "#00cc96",
           "#ab63fa",
           "#FFA15A",
           "#19d3f3",
           "#FF6692",
           "#B6E880",
           "#FF97FF",
           "#FECB52"
          ],
          "font": {
           "color": "#2a3f5f"
          },
          "geo": {
           "bgcolor": "white",
           "lakecolor": "white",
           "landcolor": "#E5ECF6",
           "showlakes": true,
           "showland": true,
           "subunitcolor": "white"
          },
          "hoverlabel": {
           "align": "left"
          },
          "hovermode": "closest",
          "mapbox": {
           "style": "light"
          },
          "paper_bgcolor": "white",
          "plot_bgcolor": "#E5ECF6",
          "polar": {
           "angularaxis": {
            "gridcolor": "white",
            "linecolor": "white",
            "ticks": ""
           },
           "bgcolor": "#E5ECF6",
           "radialaxis": {
            "gridcolor": "white",
            "linecolor": "white",
            "ticks": ""
           }
          },
          "scene": {
           "xaxis": {
            "backgroundcolor": "#E5ECF6",
            "gridcolor": "white",
            "gridwidth": 2,
            "linecolor": "white",
            "showbackground": true,
            "ticks": "",
            "zerolinecolor": "white"
           },
           "yaxis": {
            "backgroundcolor": "#E5ECF6",
            "gridcolor": "white",
            "gridwidth": 2,
            "linecolor": "white",
            "showbackground": true,
            "ticks": "",
            "zerolinecolor": "white"
           },
           "zaxis": {
            "backgroundcolor": "#E5ECF6",
            "gridcolor": "white",
            "gridwidth": 2,
            "linecolor": "white",
            "showbackground": true,
            "ticks": "",
            "zerolinecolor": "white"
           }
          },
          "shapedefaults": {
           "line": {
            "color": "#2a3f5f"
           }
          },
          "ternary": {
           "aaxis": {
            "gridcolor": "white",
            "linecolor": "white",
            "ticks": ""
           },
           "baxis": {
            "gridcolor": "white",
            "linecolor": "white",
            "ticks": ""
           },
           "bgcolor": "#E5ECF6",
           "caxis": {
            "gridcolor": "white",
            "linecolor": "white",
            "ticks": ""
           }
          },
          "title": {
           "x": 0.05
          },
          "xaxis": {
           "automargin": true,
           "gridcolor": "white",
           "linecolor": "white",
           "ticks": "",
           "title": {
            "standoff": 15
           },
           "zerolinecolor": "white",
           "zerolinewidth": 2
          },
          "yaxis": {
           "automargin": true,
           "gridcolor": "white",
           "linecolor": "white",
           "ticks": "",
           "title": {
            "standoff": 15
           },
           "zerolinecolor": "white",
           "zerolinewidth": 2
          }
         }
        },
        "title": {
         "text": "RBF SVM Hyperparameter Grid Search"
        },
        "xaxis": {
         "title": {
          "text": "Gamma"
         }
        },
        "yaxis": {
         "title": {
          "text": "C"
         }
        }
       }
      }
     },
     "metadata": {},
     "output_type": "display_data"
    },
    {
     "name": "stdout",
     "output_type": "stream",
     "text": [
      "\n",
      "Classification Report (Best RBF SVM):\n",
      "              precision    recall  f1-score   support\n",
      "\n",
      "  High Value       1.00      1.00      1.00        80\n",
      "    Standard       1.00      1.00      1.00        80\n",
      "\n",
      "    accuracy                           1.00       160\n",
      "   macro avg       1.00      1.00      1.00       160\n",
      "weighted avg       1.00      1.00      1.00       160\n",
      "\n"
     ]
    },
    {
     "data": {
      "application/vnd.plotly.v1+json": {
       "config": {
        "plotlyServerURL": "https://plot.ly"
       },
       "data": [
        {
         "colorscale": [
          [
           0,
           "rgb(247,251,255)"
          ],
          [
           0.125,
           "rgb(222,235,247)"
          ],
          [
           0.25,
           "rgb(198,219,239)"
          ],
          [
           0.375,
           "rgb(158,202,225)"
          ],
          [
           0.5,
           "rgb(107,174,214)"
          ],
          [
           0.625,
           "rgb(66,146,198)"
          ],
          [
           0.75,
           "rgb(33,113,181)"
          ],
          [
           0.875,
           "rgb(8,81,156)"
          ],
          [
           1,
           "rgb(8,48,107)"
          ]
         ],
         "reversescale": false,
         "showscale": true,
         "type": "heatmap",
         "x": [
          "High Value",
          "Standard"
         ],
         "y": [
          "High Value",
          "Standard"
         ],
         "z": {
          "bdata": "UAAAUA==",
          "dtype": "i1",
          "shape": "2, 2"
         }
        }
       ],
       "layout": {
        "annotations": [
         {
          "font": {
           "color": "#FFFFFF"
          },
          "showarrow": false,
          "text": "80",
          "x": "High Value",
          "xref": "x",
          "y": "High Value",
          "yref": "y"
         },
         {
          "font": {
           "color": "#000000"
          },
          "showarrow": false,
          "text": "0",
          "x": "Standard",
          "xref": "x",
          "y": "High Value",
          "yref": "y"
         },
         {
          "font": {
           "color": "#000000"
          },
          "showarrow": false,
          "text": "0",
          "x": "High Value",
          "xref": "x",
          "y": "Standard",
          "yref": "y"
         },
         {
          "font": {
           "color": "#FFFFFF"
          },
          "showarrow": false,
          "text": "80",
          "x": "Standard",
          "xref": "x",
          "y": "Standard",
          "yref": "y"
         }
        ],
        "height": 400,
        "template": {
         "data": {
          "bar": [
           {
            "error_x": {
             "color": "#2a3f5f"
            },
            "error_y": {
             "color": "#2a3f5f"
            },
            "marker": {
             "line": {
              "color": "#E5ECF6",
              "width": 0.5
             },
             "pattern": {
              "fillmode": "overlay",
              "size": 10,
              "solidity": 0.2
             }
            },
            "type": "bar"
           }
          ],
          "barpolar": [
           {
            "marker": {
             "line": {
              "color": "#E5ECF6",
              "width": 0.5
             },
             "pattern": {
              "fillmode": "overlay",
              "size": 10,
              "solidity": 0.2
             }
            },
            "type": "barpolar"
           }
          ],
          "carpet": [
           {
            "aaxis": {
             "endlinecolor": "#2a3f5f",
             "gridcolor": "white",
             "linecolor": "white",
             "minorgridcolor": "white",
             "startlinecolor": "#2a3f5f"
            },
            "baxis": {
             "endlinecolor": "#2a3f5f",
             "gridcolor": "white",
             "linecolor": "white",
             "minorgridcolor": "white",
             "startlinecolor": "#2a3f5f"
            },
            "type": "carpet"
           }
          ],
          "choropleth": [
           {
            "colorbar": {
             "outlinewidth": 0,
             "ticks": ""
            },
            "type": "choropleth"
           }
          ],
          "contour": [
           {
            "colorbar": {
             "outlinewidth": 0,
             "ticks": ""
            },
            "colorscale": [
             [
              0,
              "#0d0887"
             ],
             [
              0.1111111111111111,
              "#46039f"
             ],
             [
              0.2222222222222222,
              "#7201a8"
             ],
             [
              0.3333333333333333,
              "#9c179e"
             ],
             [
              0.4444444444444444,
              "#bd3786"
             ],
             [
              0.5555555555555556,
              "#d8576b"
             ],
             [
              0.6666666666666666,
              "#ed7953"
             ],
             [
              0.7777777777777778,
              "#fb9f3a"
             ],
             [
              0.8888888888888888,
              "#fdca26"
             ],
             [
              1,
              "#f0f921"
             ]
            ],
            "type": "contour"
           }
          ],
          "contourcarpet": [
           {
            "colorbar": {
             "outlinewidth": 0,
             "ticks": ""
            },
            "type": "contourcarpet"
           }
          ],
          "heatmap": [
           {
            "colorbar": {
             "outlinewidth": 0,
             "ticks": ""
            },
            "colorscale": [
             [
              0,
              "#0d0887"
             ],
             [
              0.1111111111111111,
              "#46039f"
             ],
             [
              0.2222222222222222,
              "#7201a8"
             ],
             [
              0.3333333333333333,
              "#9c179e"
             ],
             [
              0.4444444444444444,
              "#bd3786"
             ],
             [
              0.5555555555555556,
              "#d8576b"
             ],
             [
              0.6666666666666666,
              "#ed7953"
             ],
             [
              0.7777777777777778,
              "#fb9f3a"
             ],
             [
              0.8888888888888888,
              "#fdca26"
             ],
             [
              1,
              "#f0f921"
             ]
            ],
            "type": "heatmap"
           }
          ],
          "histogram": [
           {
            "marker": {
             "pattern": {
              "fillmode": "overlay",
              "size": 10,
              "solidity": 0.2
             }
            },
            "type": "histogram"
           }
          ],
          "histogram2d": [
           {
            "colorbar": {
             "outlinewidth": 0,
             "ticks": ""
            },
            "colorscale": [
             [
              0,
              "#0d0887"
             ],
             [
              0.1111111111111111,
              "#46039f"
             ],
             [
              0.2222222222222222,
              "#7201a8"
             ],
             [
              0.3333333333333333,
              "#9c179e"
             ],
             [
              0.4444444444444444,
              "#bd3786"
             ],
             [
              0.5555555555555556,
              "#d8576b"
             ],
             [
              0.6666666666666666,
              "#ed7953"
             ],
             [
              0.7777777777777778,
              "#fb9f3a"
             ],
             [
              0.8888888888888888,
              "#fdca26"
             ],
             [
              1,
              "#f0f921"
             ]
            ],
            "type": "histogram2d"
           }
          ],
          "histogram2dcontour": [
           {
            "colorbar": {
             "outlinewidth": 0,
             "ticks": ""
            },
            "colorscale": [
             [
              0,
              "#0d0887"
             ],
             [
              0.1111111111111111,
              "#46039f"
             ],
             [
              0.2222222222222222,
              "#7201a8"
             ],
             [
              0.3333333333333333,
              "#9c179e"
             ],
             [
              0.4444444444444444,
              "#bd3786"
             ],
             [
              0.5555555555555556,
              "#d8576b"
             ],
             [
              0.6666666666666666,
              "#ed7953"
             ],
             [
              0.7777777777777778,
              "#fb9f3a"
             ],
             [
              0.8888888888888888,
              "#fdca26"
             ],
             [
              1,
              "#f0f921"
             ]
            ],
            "type": "histogram2dcontour"
           }
          ],
          "mesh3d": [
           {
            "colorbar": {
             "outlinewidth": 0,
             "ticks": ""
            },
            "type": "mesh3d"
           }
          ],
          "parcoords": [
           {
            "line": {
             "colorbar": {
              "outlinewidth": 0,
              "ticks": ""
             }
            },
            "type": "parcoords"
           }
          ],
          "pie": [
           {
            "automargin": true,
            "type": "pie"
           }
          ],
          "scatter": [
           {
            "fillpattern": {
             "fillmode": "overlay",
             "size": 10,
             "solidity": 0.2
            },
            "type": "scatter"
           }
          ],
          "scatter3d": [
           {
            "line": {
             "colorbar": {
              "outlinewidth": 0,
              "ticks": ""
             }
            },
            "marker": {
             "colorbar": {
              "outlinewidth": 0,
              "ticks": ""
             }
            },
            "type": "scatter3d"
           }
          ],
          "scattercarpet": [
           {
            "marker": {
             "colorbar": {
              "outlinewidth": 0,
              "ticks": ""
             }
            },
            "type": "scattercarpet"
           }
          ],
          "scattergeo": [
           {
            "marker": {
             "colorbar": {
              "outlinewidth": 0,
              "ticks": ""
             }
            },
            "type": "scattergeo"
           }
          ],
          "scattergl": [
           {
            "marker": {
             "colorbar": {
              "outlinewidth": 0,
              "ticks": ""
             }
            },
            "type": "scattergl"
           }
          ],
          "scattermap": [
           {
            "marker": {
             "colorbar": {
              "outlinewidth": 0,
              "ticks": ""
             }
            },
            "type": "scattermap"
           }
          ],
          "scattermapbox": [
           {
            "marker": {
             "colorbar": {
              "outlinewidth": 0,
              "ticks": ""
             }
            },
            "type": "scattermapbox"
           }
          ],
          "scatterpolar": [
           {
            "marker": {
             "colorbar": {
              "outlinewidth": 0,
              "ticks": ""
             }
            },
            "type": "scatterpolar"
           }
          ],
          "scatterpolargl": [
           {
            "marker": {
             "colorbar": {
              "outlinewidth": 0,
              "ticks": ""
             }
            },
            "type": "scatterpolargl"
           }
          ],
          "scatterternary": [
           {
            "marker": {
             "colorbar": {
              "outlinewidth": 0,
              "ticks": ""
             }
            },
            "type": "scatterternary"
           }
          ],
          "surface": [
           {
            "colorbar": {
             "outlinewidth": 0,
             "ticks": ""
            },
            "colorscale": [
             [
              0,
              "#0d0887"
             ],
             [
              0.1111111111111111,
              "#46039f"
             ],
             [
              0.2222222222222222,
              "#7201a8"
             ],
             [
              0.3333333333333333,
              "#9c179e"
             ],
             [
              0.4444444444444444,
              "#bd3786"
             ],
             [
              0.5555555555555556,
              "#d8576b"
             ],
             [
              0.6666666666666666,
              "#ed7953"
             ],
             [
              0.7777777777777778,
              "#fb9f3a"
             ],
             [
              0.8888888888888888,
              "#fdca26"
             ],
             [
              1,
              "#f0f921"
             ]
            ],
            "type": "surface"
           }
          ],
          "table": [
           {
            "cells": {
             "fill": {
              "color": "#EBF0F8"
             },
             "line": {
              "color": "white"
             }
            },
            "header": {
             "fill": {
              "color": "#C8D4E3"
             },
             "line": {
              "color": "white"
             }
            },
            "type": "table"
           }
          ]
         },
         "layout": {
          "annotationdefaults": {
           "arrowcolor": "#2a3f5f",
           "arrowhead": 0,
           "arrowwidth": 1
          },
          "autotypenumbers": "strict",
          "coloraxis": {
           "colorbar": {
            "outlinewidth": 0,
            "ticks": ""
           }
          },
          "colorscale": {
           "diverging": [
            [
             0,
             "#8e0152"
            ],
            [
             0.1,
             "#c51b7d"
            ],
            [
             0.2,
             "#de77ae"
            ],
            [
             0.3,
             "#f1b6da"
            ],
            [
             0.4,
             "#fde0ef"
            ],
            [
             0.5,
             "#f7f7f7"
            ],
            [
             0.6,
             "#e6f5d0"
            ],
            [
             0.7,
             "#b8e186"
            ],
            [
             0.8,
             "#7fbc41"
            ],
            [
             0.9,
             "#4d9221"
            ],
            [
             1,
             "#276419"
            ]
           ],
           "sequential": [
            [
             0,
             "#0d0887"
            ],
            [
             0.1111111111111111,
             "#46039f"
            ],
            [
             0.2222222222222222,
             "#7201a8"
            ],
            [
             0.3333333333333333,
             "#9c179e"
            ],
            [
             0.4444444444444444,
             "#bd3786"
            ],
            [
             0.5555555555555556,
             "#d8576b"
            ],
            [
             0.6666666666666666,
             "#ed7953"
            ],
            [
             0.7777777777777778,
             "#fb9f3a"
            ],
            [
             0.8888888888888888,
             "#fdca26"
            ],
            [
             1,
             "#f0f921"
            ]
           ],
           "sequentialminus": [
            [
             0,
             "#0d0887"
            ],
            [
             0.1111111111111111,
             "#46039f"
            ],
            [
             0.2222222222222222,
             "#7201a8"
            ],
            [
             0.3333333333333333,
             "#9c179e"
            ],
            [
             0.4444444444444444,
             "#bd3786"
            ],
            [
             0.5555555555555556,
             "#d8576b"
            ],
            [
             0.6666666666666666,
             "#ed7953"
            ],
            [
             0.7777777777777778,
             "#fb9f3a"
            ],
            [
             0.8888888888888888,
             "#fdca26"
            ],
            [
             1,
             "#f0f921"
            ]
           ]
          },
          "colorway": [
           "#636efa",
           "#EF553B",
           "#00cc96",
           "#ab63fa",
           "#FFA15A",
           "#19d3f3",
           "#FF6692",
           "#B6E880",
           "#FF97FF",
           "#FECB52"
          ],
          "font": {
           "color": "#2a3f5f"
          },
          "geo": {
           "bgcolor": "white",
           "lakecolor": "white",
           "landcolor": "#E5ECF6",
           "showlakes": true,
           "showland": true,
           "subunitcolor": "white"
          },
          "hoverlabel": {
           "align": "left"
          },
          "hovermode": "closest",
          "mapbox": {
           "style": "light"
          },
          "paper_bgcolor": "white",
          "plot_bgcolor": "#E5ECF6",
          "polar": {
           "angularaxis": {
            "gridcolor": "white",
            "linecolor": "white",
            "ticks": ""
           },
           "bgcolor": "#E5ECF6",
           "radialaxis": {
            "gridcolor": "white",
            "linecolor": "white",
            "ticks": ""
           }
          },
          "scene": {
           "xaxis": {
            "backgroundcolor": "#E5ECF6",
            "gridcolor": "white",
            "gridwidth": 2,
            "linecolor": "white",
            "showbackground": true,
            "ticks": "",
            "zerolinecolor": "white"
           },
           "yaxis": {
            "backgroundcolor": "#E5ECF6",
            "gridcolor": "white",
            "gridwidth": 2,
            "linecolor": "white",
            "showbackground": true,
            "ticks": "",
            "zerolinecolor": "white"
           },
           "zaxis": {
            "backgroundcolor": "#E5ECF6",
            "gridcolor": "white",
            "gridwidth": 2,
            "linecolor": "white",
            "showbackground": true,
            "ticks": "",
            "zerolinecolor": "white"
           }
          },
          "shapedefaults": {
           "line": {
            "color": "#2a3f5f"
           }
          },
          "ternary": {
           "aaxis": {
            "gridcolor": "white",
            "linecolor": "white",
            "ticks": ""
           },
           "baxis": {
            "gridcolor": "white",
            "linecolor": "white",
            "ticks": ""
           },
           "bgcolor": "#E5ECF6",
           "caxis": {
            "gridcolor": "white",
            "linecolor": "white",
            "ticks": ""
           }
          },
          "title": {
           "x": 0.05
          },
          "xaxis": {
           "automargin": true,
           "gridcolor": "white",
           "linecolor": "white",
           "ticks": "",
           "title": {
            "standoff": 15
           },
           "zerolinecolor": "white",
           "zerolinewidth": 2
          },
          "yaxis": {
           "automargin": true,
           "gridcolor": "white",
           "linecolor": "white",
           "ticks": "",
           "title": {
            "standoff": 15
           },
           "zerolinecolor": "white",
           "zerolinewidth": 2
          }
         }
        },
        "title": {
         "text": "RBF SVM Confusion Matrix"
        },
        "xaxis": {
         "dtick": 1,
         "gridcolor": "rgb(0, 0, 0)",
         "side": "top",
         "ticks": "",
         "title": {
          "text": "Predicted"
         }
        },
        "yaxis": {
         "dtick": 1,
         "ticks": "",
         "ticksuffix": "  ",
         "title": {
          "text": "Actual"
         }
        }
       }
      }
     },
     "metadata": {},
     "output_type": "display_data"
    }
   ],
   "source": [
    "# 2. KERNEL SVM ANALYSIS (NON-LINEAR)\n",
    "print(\" 2. KERNEL SVM ANALYSIS (NON-LINEAR)\")\n",
    "print(\"=\" * 36)\n",
    "\n",
    "# Prepare non-linear classification data\n",
    "nonlinear_features = ['customer_spending', 'customer_frequency', 'customer_tenure', 'support_tickets']\n",
    "X_nonlinear = nonlinear_df[nonlinear_features]\n",
    "y_nonlinear = nonlinear_df['value_segment']\n",
    "\n",
    "# Split data\n",
    "X_nonlinear_train, X_nonlinear_test, y_nonlinear_train, y_nonlinear_test = train_test_split(\n",
    " X_nonlinear, y_nonlinear, test_size=0.2, random_state=42, stratify=y_nonlinear\n",
    ")\n",
    "\n",
    "# Scale features\n",
    "scaler_nonlinear = StandardScaler()\n",
    "X_nonlinear_train_scaled = scaler_nonlinear.fit_transform(X_nonlinear_train)\n",
    "X_nonlinear_test_scaled = scaler_nonlinear.transform(X_nonlinear_test)\n",
    "\n",
    "print(f\"Training set: {X_nonlinear_train_scaled.shape}\")\n",
    "print(f\"Test set: {X_nonlinear_test_scaled.shape}\")\n",
    "print(f\"Class distribution: {y_nonlinear_train.value_counts().to_dict()}\")\n",
    "\n",
    "# Test different kernels\n",
    "kernels = ['linear', 'rbf', 'poly', 'sigmoid']\n",
    "kernel_results = {}\n",
    "\n",
    "print(f\"\\n Kernel Comparison:\")\n",
    "\n",
    "for kernel in kernels:\n",
    "    if kernel == 'poly':\n",
    "        svm_kernel = SVC(kernel=kernel, degree=3, C=1.0, random_state=42)\n",
    "    else:\n",
    "        svm_kernel = SVC(kernel=kernel, C=1.0, random_state=42)\n",
    "\n",
    "    # Cross-validation\n",
    "    cv_scores = cross_val_score(svm_kernel, X_nonlinear_train_scaled, y_nonlinear_train, cv=5)\n",
    "\n",
    "    # Fit and test\n",
    "    svm_kernel.fit(X_nonlinear_train_scaled, y_nonlinear_train)\n",
    "    test_score = svm_kernel.score(X_nonlinear_test_scaled, y_nonlinear_test)\n",
    "    n_support = len(svm_kernel.support_)\n",
    "\n",
    "    kernel_results[kernel] = {\n",
    "        'cv_mean': cv_scores.mean(),\n",
    "        'cv_std': cv_scores.std(),\n",
    "        'test_accuracy': test_score,\n",
    "        'n_support_vectors': n_support\n",
    "    }\n",
    "\n",
    "    print(f\"• {kernel}: Test Acc={test_score:.4f}, CV={cv_scores.mean():.4f}±{cv_scores.std():.4f}, SV={n_support}\")\n",
    "\n",
    "# Find best kernel\n",
    "kernel_df = pd.DataFrame(kernel_results).T\n",
    "best_kernel = kernel_df['cv_mean'].idxmax()\n",
    "print(f\"\\n Best kernel: {best_kernel}\")\n",
    "\n",
    "# Visualize kernel comparison\n",
    "fig_kernels = go.Figure()\n",
    "\n",
    "fig_kernels.add_trace(\n",
    " go.Bar(\n",
    " x=list(kernel_results.keys()),\n",
    " y=[result['test_accuracy'] for result in kernel_results.values()],\n",
    " name='Test Accuracy',\n",
    " marker_color='lightcoral',\n",
    " hovertemplate=\"Kernel: %{x}<br>Accuracy: %{y:.4f}<extra></extra>\"\n",
    " )\n",
    ")\n",
    "\n",
    "fig_kernels.update_layout(\n",
    " title=\"Kernel Comparison (Non-linear Dataset)\",\n",
    " xaxis_title=\"Kernel Type\",\n",
    " yaxis_title=\"Test Accuracy\",\n",
    " height=500\n",
    ")\n",
    "fig_kernels.show()\n",
    "\n",
    "# Hyperparameter optimization for RBF kernel\n",
    "print(f\"\\n RBF Kernel Hyperparameter Optimization:\")\n",
    "\n",
    "# Grid search for C and gamma\n",
    "param_grid = {\n",
    " 'C': [0.1, 1, 10, 100],\n",
    " 'gamma': ['scale', 'auto', 0.001, 0.01, 0.1, 1]\n",
    "}\n",
    "\n",
    "svm_rbf = SVC(kernel='rbf', random_state=42)\n",
    "grid_search = GridSearchCV(\n",
    " svm_rbf,\n",
    " param_grid,\n",
    " cv=5,\n",
    " scoring='accuracy',\n",
    " n_jobs=-1\n",
    ")\n",
    "\n",
    "grid_search.fit(X_nonlinear_train_scaled, y_nonlinear_train)\n",
    "\n",
    "print(f\"Best parameters: {grid_search.best_params_}\")\n",
    "print(f\"Best CV score: {grid_search.best_score_:.4f}\")\n",
    "\n",
    "# Test best model\n",
    "best_svm = grid_search.best_estimator_\n",
    "y_nonlinear_pred = best_svm.predict(X_nonlinear_test_scaled)\n",
    "nonlinear_accuracy = accuracy_score(y_nonlinear_test, y_nonlinear_pred)\n",
    "\n",
    "print(f\"Test accuracy: {nonlinear_accuracy:.4f}\")\n",
    "print(f\"Support vectors: {len(best_svm.support_)}/{len(X_nonlinear_train_scaled)} ({len(best_svm.support_)/len(X_nonlinear_train_scaled):.1%})\")\n",
    "\n",
    "# Visualize hyperparameter grid search results\n",
    "results = pd.DataFrame(grid_search.cv_results_)\n",
    "\n",
    "# Create heatmap for C vs gamma\n",
    "C_values = param_grid['C']\n",
    "gamma_values = [g for g in param_grid['gamma'] if isinstance(g, (int, float))]\n",
    "\n",
    "# Filter results for numeric gamma values only\n",
    "numeric_results = results[results['param_gamma'].isin(gamma_values)]\n",
    "\n",
    "if len(numeric_results) > 0:\n",
    " heatmap_data = numeric_results.pivot_table(\n",
    " values='mean_test_score',\n",
    " index='param_C',\n",
    " columns='param_gamma',\n",
    " aggfunc='mean'\n",
    " )\n",
    "\n",
    " fig_heatmap = go.Figure(data=go.Heatmap(\n",
    " z=heatmap_data.values,\n",
    " x=[str(g) for g in heatmap_data.columns],\n",
    " y=[str(c) for c in heatmap_data.index],\n",
    " colorscale='Viridis',\n",
    " hovertemplate=\"C: %{y}<br>Gamma: %{x}<br>CV Score: %{z:.4f}<extra></extra>\"\n",
    " ))\n",
    "\n",
    " fig_heatmap.update_layout(\n",
    " title=\"RBF SVM Hyperparameter Grid Search\",\n",
    " xaxis_title=\"Gamma\",\n",
    " yaxis_title=\"C\",\n",
    " height=500\n",
    " )\n",
    " fig_heatmap.show()\n",
    "\n",
    "# Classification report for best model\n",
    "print(f\"\\nClassification Report (Best RBF SVM):\")\n",
    "print(classification_report(y_nonlinear_test, y_nonlinear_pred, target_names=['High Value', 'Standard']))\n",
    "\n",
    "# Confusion Matrix\n",
    "cm_nonlinear = confusion_matrix(y_nonlinear_test, y_nonlinear_pred)\n",
    "\n",
    "fig_cm_nonlinear = ff.create_annotated_heatmap(\n",
    " z=cm_nonlinear,\n",
    " x=['High Value', 'Standard'],\n",
    " y=['High Value', 'Standard'],\n",
    " annotation_text=cm_nonlinear,\n",
    " colorscale='Blues',\n",
    " showscale=True\n",
    ")\n",
    "\n",
    "fig_cm_nonlinear.update_layout(\n",
    " title=f\"RBF SVM Confusion Matrix\",\n",
    " xaxis_title=\"Predicted\",\n",
    " yaxis_title=\"Actual\",\n",
    " height=400\n",
    ")\n",
    "fig_cm_nonlinear.show()"
   ]
  },
  {
   "cell_type": "code",
   "execution_count": 9,
   "id": "a80e9403",
   "metadata": {},
   "outputs": [
    {
     "name": "stdout",
     "output_type": "stream",
     "text": [
      " 3. SUPPORT VECTOR REGRESSION (SVR)\n",
      "=================================\n",
      "Training set: (800, 7)\n",
      "Test set: (200, 7)\n",
      "\n",
      " SVR Kernel Comparison:\n",
      "• linear: R²=0.9019, RMSE=$57,615, SV=541\n",
      "• rbf: R²=0.9461, RMSE=$42,688, SV=491\n",
      "• poly: R²=0.7086, RMSE=$99,284, SV=658\n",
      "\n",
      " Best SVR kernel: rbf\n"
     ]
    },
    {
     "data": {
      "application/vnd.plotly.v1+json": {
       "config": {
        "plotlyServerURL": "https://plot.ly"
       },
       "data": [
        {
         "marker": {
          "color": "lightgreen"
         },
         "name": "R² Score",
         "type": "bar",
         "x": [
          "linear",
          "rbf",
          "poly"
         ],
         "xaxis": "x",
         "y": [
          0.9018792677971098,
          0.9461344000560321,
          0.7086253392422424
         ],
         "yaxis": "y"
        },
        {
         "marker": {
          "color": "lightcoral"
         },
         "name": "RMSE",
         "showlegend": false,
         "type": "bar",
         "x": [
          "linear",
          "rbf",
          "poly"
         ],
         "xaxis": "x2",
         "y": [
          57614.69906296216,
          42688.280169851685,
          99283.8930447506
         ],
         "yaxis": "y2"
        }
       ],
       "layout": {
        "annotations": [
         {
          "font": {
           "size": 16
          },
          "showarrow": false,
          "text": "R² Score by Kernel",
          "x": 0.225,
          "xanchor": "center",
          "xref": "paper",
          "y": 1,
          "yanchor": "bottom",
          "yref": "paper"
         },
         {
          "font": {
           "size": 16
          },
          "showarrow": false,
          "text": "RMSE by Kernel",
          "x": 0.775,
          "xanchor": "center",
          "xref": "paper",
          "y": 1,
          "yanchor": "bottom",
          "yref": "paper"
         }
        ],
        "height": 500,
        "template": {
         "data": {
          "bar": [
           {
            "error_x": {
             "color": "#2a3f5f"
            },
            "error_y": {
             "color": "#2a3f5f"
            },
            "marker": {
             "line": {
              "color": "#E5ECF6",
              "width": 0.5
             },
             "pattern": {
              "fillmode": "overlay",
              "size": 10,
              "solidity": 0.2
             }
            },
            "type": "bar"
           }
          ],
          "barpolar": [
           {
            "marker": {
             "line": {
              "color": "#E5ECF6",
              "width": 0.5
             },
             "pattern": {
              "fillmode": "overlay",
              "size": 10,
              "solidity": 0.2
             }
            },
            "type": "barpolar"
           }
          ],
          "carpet": [
           {
            "aaxis": {
             "endlinecolor": "#2a3f5f",
             "gridcolor": "white",
             "linecolor": "white",
             "minorgridcolor": "white",
             "startlinecolor": "#2a3f5f"
            },
            "baxis": {
             "endlinecolor": "#2a3f5f",
             "gridcolor": "white",
             "linecolor": "white",
             "minorgridcolor": "white",
             "startlinecolor": "#2a3f5f"
            },
            "type": "carpet"
           }
          ],
          "choropleth": [
           {
            "colorbar": {
             "outlinewidth": 0,
             "ticks": ""
            },
            "type": "choropleth"
           }
          ],
          "contour": [
           {
            "colorbar": {
             "outlinewidth": 0,
             "ticks": ""
            },
            "colorscale": [
             [
              0,
              "#0d0887"
             ],
             [
              0.1111111111111111,
              "#46039f"
             ],
             [
              0.2222222222222222,
              "#7201a8"
             ],
             [
              0.3333333333333333,
              "#9c179e"
             ],
             [
              0.4444444444444444,
              "#bd3786"
             ],
             [
              0.5555555555555556,
              "#d8576b"
             ],
             [
              0.6666666666666666,
              "#ed7953"
             ],
             [
              0.7777777777777778,
              "#fb9f3a"
             ],
             [
              0.8888888888888888,
              "#fdca26"
             ],
             [
              1,
              "#f0f921"
             ]
            ],
            "type": "contour"
           }
          ],
          "contourcarpet": [
           {
            "colorbar": {
             "outlinewidth": 0,
             "ticks": ""
            },
            "type": "contourcarpet"
           }
          ],
          "heatmap": [
           {
            "colorbar": {
             "outlinewidth": 0,
             "ticks": ""
            },
            "colorscale": [
             [
              0,
              "#0d0887"
             ],
             [
              0.1111111111111111,
              "#46039f"
             ],
             [
              0.2222222222222222,
              "#7201a8"
             ],
             [
              0.3333333333333333,
              "#9c179e"
             ],
             [
              0.4444444444444444,
              "#bd3786"
             ],
             [
              0.5555555555555556,
              "#d8576b"
             ],
             [
              0.6666666666666666,
              "#ed7953"
             ],
             [
              0.7777777777777778,
              "#fb9f3a"
             ],
             [
              0.8888888888888888,
              "#fdca26"
             ],
             [
              1,
              "#f0f921"
             ]
            ],
            "type": "heatmap"
           }
          ],
          "histogram": [
           {
            "marker": {
             "pattern": {
              "fillmode": "overlay",
              "size": 10,
              "solidity": 0.2
             }
            },
            "type": "histogram"
           }
          ],
          "histogram2d": [
           {
            "colorbar": {
             "outlinewidth": 0,
             "ticks": ""
            },
            "colorscale": [
             [
              0,
              "#0d0887"
             ],
             [
              0.1111111111111111,
              "#46039f"
             ],
             [
              0.2222222222222222,
              "#7201a8"
             ],
             [
              0.3333333333333333,
              "#9c179e"
             ],
             [
              0.4444444444444444,
              "#bd3786"
             ],
             [
              0.5555555555555556,
              "#d8576b"
             ],
             [
              0.6666666666666666,
              "#ed7953"
             ],
             [
              0.7777777777777778,
              "#fb9f3a"
             ],
             [
              0.8888888888888888,
              "#fdca26"
             ],
             [
              1,
              "#f0f921"
             ]
            ],
            "type": "histogram2d"
           }
          ],
          "histogram2dcontour": [
           {
            "colorbar": {
             "outlinewidth": 0,
             "ticks": ""
            },
            "colorscale": [
             [
              0,
              "#0d0887"
             ],
             [
              0.1111111111111111,
              "#46039f"
             ],
             [
              0.2222222222222222,
              "#7201a8"
             ],
             [
              0.3333333333333333,
              "#9c179e"
             ],
             [
              0.4444444444444444,
              "#bd3786"
             ],
             [
              0.5555555555555556,
              "#d8576b"
             ],
             [
              0.6666666666666666,
              "#ed7953"
             ],
             [
              0.7777777777777778,
              "#fb9f3a"
             ],
             [
              0.8888888888888888,
              "#fdca26"
             ],
             [
              1,
              "#f0f921"
             ]
            ],
            "type": "histogram2dcontour"
           }
          ],
          "mesh3d": [
           {
            "colorbar": {
             "outlinewidth": 0,
             "ticks": ""
            },
            "type": "mesh3d"
           }
          ],
          "parcoords": [
           {
            "line": {
             "colorbar": {
              "outlinewidth": 0,
              "ticks": ""
             }
            },
            "type": "parcoords"
           }
          ],
          "pie": [
           {
            "automargin": true,
            "type": "pie"
           }
          ],
          "scatter": [
           {
            "fillpattern": {
             "fillmode": "overlay",
             "size": 10,
             "solidity": 0.2
            },
            "type": "scatter"
           }
          ],
          "scatter3d": [
           {
            "line": {
             "colorbar": {
              "outlinewidth": 0,
              "ticks": ""
             }
            },
            "marker": {
             "colorbar": {
              "outlinewidth": 0,
              "ticks": ""
             }
            },
            "type": "scatter3d"
           }
          ],
          "scattercarpet": [
           {
            "marker": {
             "colorbar": {
              "outlinewidth": 0,
              "ticks": ""
             }
            },
            "type": "scattercarpet"
           }
          ],
          "scattergeo": [
           {
            "marker": {
             "colorbar": {
              "outlinewidth": 0,
              "ticks": ""
             }
            },
            "type": "scattergeo"
           }
          ],
          "scattergl": [
           {
            "marker": {
             "colorbar": {
              "outlinewidth": 0,
              "ticks": ""
             }
            },
            "type": "scattergl"
           }
          ],
          "scattermap": [
           {
            "marker": {
             "colorbar": {
              "outlinewidth": 0,
              "ticks": ""
             }
            },
            "type": "scattermap"
           }
          ],
          "scattermapbox": [
           {
            "marker": {
             "colorbar": {
              "outlinewidth": 0,
              "ticks": ""
             }
            },
            "type": "scattermapbox"
           }
          ],
          "scatterpolar": [
           {
            "marker": {
             "colorbar": {
              "outlinewidth": 0,
              "ticks": ""
             }
            },
            "type": "scatterpolar"
           }
          ],
          "scatterpolargl": [
           {
            "marker": {
             "colorbar": {
              "outlinewidth": 0,
              "ticks": ""
             }
            },
            "type": "scatterpolargl"
           }
          ],
          "scatterternary": [
           {
            "marker": {
             "colorbar": {
              "outlinewidth": 0,
              "ticks": ""
             }
            },
            "type": "scatterternary"
           }
          ],
          "surface": [
           {
            "colorbar": {
             "outlinewidth": 0,
             "ticks": ""
            },
            "colorscale": [
             [
              0,
              "#0d0887"
             ],
             [
              0.1111111111111111,
              "#46039f"
             ],
             [
              0.2222222222222222,
              "#7201a8"
             ],
             [
              0.3333333333333333,
              "#9c179e"
             ],
             [
              0.4444444444444444,
              "#bd3786"
             ],
             [
              0.5555555555555556,
              "#d8576b"
             ],
             [
              0.6666666666666666,
              "#ed7953"
             ],
             [
              0.7777777777777778,
              "#fb9f3a"
             ],
             [
              0.8888888888888888,
              "#fdca26"
             ],
             [
              1,
              "#f0f921"
             ]
            ],
            "type": "surface"
           }
          ],
          "table": [
           {
            "cells": {
             "fill": {
              "color": "#EBF0F8"
             },
             "line": {
              "color": "white"
             }
            },
            "header": {
             "fill": {
              "color": "#C8D4E3"
             },
             "line": {
              "color": "white"
             }
            },
            "type": "table"
           }
          ]
         },
         "layout": {
          "annotationdefaults": {
           "arrowcolor": "#2a3f5f",
           "arrowhead": 0,
           "arrowwidth": 1
          },
          "autotypenumbers": "strict",
          "coloraxis": {
           "colorbar": {
            "outlinewidth": 0,
            "ticks": ""
           }
          },
          "colorscale": {
           "diverging": [
            [
             0,
             "#8e0152"
            ],
            [
             0.1,
             "#c51b7d"
            ],
            [
             0.2,
             "#de77ae"
            ],
            [
             0.3,
             "#f1b6da"
            ],
            [
             0.4,
             "#fde0ef"
            ],
            [
             0.5,
             "#f7f7f7"
            ],
            [
             0.6,
             "#e6f5d0"
            ],
            [
             0.7,
             "#b8e186"
            ],
            [
             0.8,
             "#7fbc41"
            ],
            [
             0.9,
             "#4d9221"
            ],
            [
             1,
             "#276419"
            ]
           ],
           "sequential": [
            [
             0,
             "#0d0887"
            ],
            [
             0.1111111111111111,
             "#46039f"
            ],
            [
             0.2222222222222222,
             "#7201a8"
            ],
            [
             0.3333333333333333,
             "#9c179e"
            ],
            [
             0.4444444444444444,
             "#bd3786"
            ],
            [
             0.5555555555555556,
             "#d8576b"
            ],
            [
             0.6666666666666666,
             "#ed7953"
            ],
            [
             0.7777777777777778,
             "#fb9f3a"
            ],
            [
             0.8888888888888888,
             "#fdca26"
            ],
            [
             1,
             "#f0f921"
            ]
           ],
           "sequentialminus": [
            [
             0,
             "#0d0887"
            ],
            [
             0.1111111111111111,
             "#46039f"
            ],
            [
             0.2222222222222222,
             "#7201a8"
            ],
            [
             0.3333333333333333,
             "#9c179e"
            ],
            [
             0.4444444444444444,
             "#bd3786"
            ],
            [
             0.5555555555555556,
             "#d8576b"
            ],
            [
             0.6666666666666666,
             "#ed7953"
            ],
            [
             0.7777777777777778,
             "#fb9f3a"
            ],
            [
             0.8888888888888888,
             "#fdca26"
            ],
            [
             1,
             "#f0f921"
            ]
           ]
          },
          "colorway": [
           "#636efa",
           "#EF553B",
           "#00cc96",
           "#ab63fa",
           "#FFA15A",
           "#19d3f3",
           "#FF6692",
           "#B6E880",
           "#FF97FF",
           "#FECB52"
          ],
          "font": {
           "color": "#2a3f5f"
          },
          "geo": {
           "bgcolor": "white",
           "lakecolor": "white",
           "landcolor": "#E5ECF6",
           "showlakes": true,
           "showland": true,
           "subunitcolor": "white"
          },
          "hoverlabel": {
           "align": "left"
          },
          "hovermode": "closest",
          "mapbox": {
           "style": "light"
          },
          "paper_bgcolor": "white",
          "plot_bgcolor": "#E5ECF6",
          "polar": {
           "angularaxis": {
            "gridcolor": "white",
            "linecolor": "white",
            "ticks": ""
           },
           "bgcolor": "#E5ECF6",
           "radialaxis": {
            "gridcolor": "white",
            "linecolor": "white",
            "ticks": ""
           }
          },
          "scene": {
           "xaxis": {
            "backgroundcolor": "#E5ECF6",
            "gridcolor": "white",
            "gridwidth": 2,
            "linecolor": "white",
            "showbackground": true,
            "ticks": "",
            "zerolinecolor": "white"
           },
           "yaxis": {
            "backgroundcolor": "#E5ECF6",
            "gridcolor": "white",
            "gridwidth": 2,
            "linecolor": "white",
            "showbackground": true,
            "ticks": "",
            "zerolinecolor": "white"
           },
           "zaxis": {
            "backgroundcolor": "#E5ECF6",
            "gridcolor": "white",
            "gridwidth": 2,
            "linecolor": "white",
            "showbackground": true,
            "ticks": "",
            "zerolinecolor": "white"
           }
          },
          "shapedefaults": {
           "line": {
            "color": "#2a3f5f"
           }
          },
          "ternary": {
           "aaxis": {
            "gridcolor": "white",
            "linecolor": "white",
            "ticks": ""
           },
           "baxis": {
            "gridcolor": "white",
            "linecolor": "white",
            "ticks": ""
           },
           "bgcolor": "#E5ECF6",
           "caxis": {
            "gridcolor": "white",
            "linecolor": "white",
            "ticks": ""
           }
          },
          "title": {
           "x": 0.05
          },
          "xaxis": {
           "automargin": true,
           "gridcolor": "white",
           "linecolor": "white",
           "ticks": "",
           "title": {
            "standoff": 15
           },
           "zerolinecolor": "white",
           "zerolinewidth": 2
          },
          "yaxis": {
           "automargin": true,
           "gridcolor": "white",
           "linecolor": "white",
           "ticks": "",
           "title": {
            "standoff": 15
           },
           "zerolinecolor": "white",
           "zerolinewidth": 2
          }
         }
        },
        "title": {
         "text": "SVR Kernel Comparison"
        },
        "xaxis": {
         "anchor": "y",
         "domain": [
          0,
          0.45
         ]
        },
        "xaxis2": {
         "anchor": "y2",
         "domain": [
          0.55,
          1
         ]
        },
        "yaxis": {
         "anchor": "x",
         "domain": [
          0,
          1
         ],
         "title": {
          "text": "R² Score"
         }
        },
        "yaxis2": {
         "anchor": "x2",
         "domain": [
          0,
          1
         ],
         "title": {
          "text": "RMSE ($)"
         }
        }
       }
      }
     },
     "metadata": {},
     "output_type": "display_data"
    },
    {
     "name": "stdout",
     "output_type": "stream",
     "text": [
      "\n",
      " SVR Hyperparameter Optimization (rbf kernel):\n",
      "Best parameters: {'C': 100, 'epsilon': 0.01, 'gamma': 0.01}\n",
      "Best CV R²: 0.9666\n",
      "\n",
      " Final SVR Performance:\n",
      "• Kernel: rbf\n",
      "• Test R²: 0.9635\n",
      "• Test RMSE: $35,120\n",
      "• Test MAE: $28,210\n",
      "• Support Vectors: 777/800 (97.1%)\n",
      "Best parameters: {'C': 100, 'epsilon': 0.01, 'gamma': 0.01}\n",
      "Best CV R²: 0.9666\n",
      "\n",
      " Final SVR Performance:\n",
      "• Kernel: rbf\n",
      "• Test R²: 0.9635\n",
      "• Test RMSE: $35,120\n",
      "• Test MAE: $28,210\n",
      "• Support Vectors: 777/800 (97.1%)\n"
     ]
    },
    {
     "data": {
      "application/vnd.plotly.v1+json": {
       "config": {
        "plotlyServerURL": "https://plot.ly"
       },
       "data": [
        {
         "hovertemplate": "Actual: $%{x:,.0f}<br>Predicted: $%{y:,.0f}<extra></extra>",
         "marker": {
          "color": "blue",
          "opacity": 0.6
         },
         "mode": "markers",
         "name": "Predictions",
         "type": "scatter",
         "x": {
          "bdata": "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",
          "dtype": "f8"
         },
         "y": {
          "bdata": "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",
          "dtype": "f8"
         }
        },
        {
         "hovertemplate": "Perfect Line<extra></extra>",
         "line": {
          "color": "red",
          "dash": "dash"
         },
         "mode": "lines",
         "name": "Perfect Prediction",
         "type": "scatter",
         "x": [
          79585.6462869168,
          1094380.0095720775
         ],
         "y": [
          79585.6462869168,
          1094380.0095720775
         ]
        }
       ],
       "layout": {
        "height": 500,
        "template": {
         "data": {
          "bar": [
           {
            "error_x": {
             "color": "#2a3f5f"
            },
            "error_y": {
             "color": "#2a3f5f"
            },
            "marker": {
             "line": {
              "color": "#E5ECF6",
              "width": 0.5
             },
             "pattern": {
              "fillmode": "overlay",
              "size": 10,
              "solidity": 0.2
             }
            },
            "type": "bar"
           }
          ],
          "barpolar": [
           {
            "marker": {
             "line": {
              "color": "#E5ECF6",
              "width": 0.5
             },
             "pattern": {
              "fillmode": "overlay",
              "size": 10,
              "solidity": 0.2
             }
            },
            "type": "barpolar"
           }
          ],
          "carpet": [
           {
            "aaxis": {
             "endlinecolor": "#2a3f5f",
             "gridcolor": "white",
             "linecolor": "white",
             "minorgridcolor": "white",
             "startlinecolor": "#2a3f5f"
            },
            "baxis": {
             "endlinecolor": "#2a3f5f",
             "gridcolor": "white",
             "linecolor": "white",
             "minorgridcolor": "white",
             "startlinecolor": "#2a3f5f"
            },
            "type": "carpet"
           }
          ],
          "choropleth": [
           {
            "colorbar": {
             "outlinewidth": 0,
             "ticks": ""
            },
            "type": "choropleth"
           }
          ],
          "contour": [
           {
            "colorbar": {
             "outlinewidth": 0,
             "ticks": ""
            },
            "colorscale": [
             [
              0,
              "#0d0887"
             ],
             [
              0.1111111111111111,
              "#46039f"
             ],
             [
              0.2222222222222222,
              "#7201a8"
             ],
             [
              0.3333333333333333,
              "#9c179e"
             ],
             [
              0.4444444444444444,
              "#bd3786"
             ],
             [
              0.5555555555555556,
              "#d8576b"
             ],
             [
              0.6666666666666666,
              "#ed7953"
             ],
             [
              0.7777777777777778,
              "#fb9f3a"
             ],
             [
              0.8888888888888888,
              "#fdca26"
             ],
             [
              1,
              "#f0f921"
             ]
            ],
            "type": "contour"
           }
          ],
          "contourcarpet": [
           {
            "colorbar": {
             "outlinewidth": 0,
             "ticks": ""
            },
            "type": "contourcarpet"
           }
          ],
          "heatmap": [
           {
            "colorbar": {
             "outlinewidth": 0,
             "ticks": ""
            },
            "colorscale": [
             [
              0,
              "#0d0887"
             ],
             [
              0.1111111111111111,
              "#46039f"
             ],
             [
              0.2222222222222222,
              "#7201a8"
             ],
             [
              0.3333333333333333,
              "#9c179e"
             ],
             [
              0.4444444444444444,
              "#bd3786"
             ],
             [
              0.5555555555555556,
              "#d8576b"
             ],
             [
              0.6666666666666666,
              "#ed7953"
             ],
             [
              0.7777777777777778,
              "#fb9f3a"
             ],
             [
              0.8888888888888888,
              "#fdca26"
             ],
             [
              1,
              "#f0f921"
             ]
            ],
            "type": "heatmap"
           }
          ],
          "histogram": [
           {
            "marker": {
             "pattern": {
              "fillmode": "overlay",
              "size": 10,
              "solidity": 0.2
             }
            },
            "type": "histogram"
           }
          ],
          "histogram2d": [
           {
            "colorbar": {
             "outlinewidth": 0,
             "ticks": ""
            },
            "colorscale": [
             [
              0,
              "#0d0887"
             ],
             [
              0.1111111111111111,
              "#46039f"
             ],
             [
              0.2222222222222222,
              "#7201a8"
             ],
             [
              0.3333333333333333,
              "#9c179e"
             ],
             [
              0.4444444444444444,
              "#bd3786"
             ],
             [
              0.5555555555555556,
              "#d8576b"
             ],
             [
              0.6666666666666666,
              "#ed7953"
             ],
             [
              0.7777777777777778,
              "#fb9f3a"
             ],
             [
              0.8888888888888888,
              "#fdca26"
             ],
             [
              1,
              "#f0f921"
             ]
            ],
            "type": "histogram2d"
           }
          ],
          "histogram2dcontour": [
           {
            "colorbar": {
             "outlinewidth": 0,
             "ticks": ""
            },
            "colorscale": [
             [
              0,
              "#0d0887"
             ],
             [
              0.1111111111111111,
              "#46039f"
             ],
             [
              0.2222222222222222,
              "#7201a8"
             ],
             [
              0.3333333333333333,
              "#9c179e"
             ],
             [
              0.4444444444444444,
              "#bd3786"
             ],
             [
              0.5555555555555556,
              "#d8576b"
             ],
             [
              0.6666666666666666,
              "#ed7953"
             ],
             [
              0.7777777777777778,
              "#fb9f3a"
             ],
             [
              0.8888888888888888,
              "#fdca26"
             ],
             [
              1,
              "#f0f921"
             ]
            ],
            "type": "histogram2dcontour"
           }
          ],
          "mesh3d": [
           {
            "colorbar": {
             "outlinewidth": 0,
             "ticks": ""
            },
            "type": "mesh3d"
           }
          ],
          "parcoords": [
           {
            "line": {
             "colorbar": {
              "outlinewidth": 0,
              "ticks": ""
             }
            },
            "type": "parcoords"
           }
          ],
          "pie": [
           {
            "automargin": true,
            "type": "pie"
           }
          ],
          "scatter": [
           {
            "fillpattern": {
             "fillmode": "overlay",
             "size": 10,
             "solidity": 0.2
            },
            "type": "scatter"
           }
          ],
          "scatter3d": [
           {
            "line": {
             "colorbar": {
              "outlinewidth": 0,
              "ticks": ""
             }
            },
            "marker": {
             "colorbar": {
              "outlinewidth": 0,
              "ticks": ""
             }
            },
            "type": "scatter3d"
           }
          ],
          "scattercarpet": [
           {
            "marker": {
             "colorbar": {
              "outlinewidth": 0,
              "ticks": ""
             }
            },
            "type": "scattercarpet"
           }
          ],
          "scattergeo": [
           {
            "marker": {
             "colorbar": {
              "outlinewidth": 0,
              "ticks": ""
             }
            },
            "type": "scattergeo"
           }
          ],
          "scattergl": [
           {
            "marker": {
             "colorbar": {
              "outlinewidth": 0,
              "ticks": ""
             }
            },
            "type": "scattergl"
           }
          ],
          "scattermap": [
           {
            "marker": {
             "colorbar": {
              "outlinewidth": 0,
              "ticks": ""
             }
            },
            "type": "scattermap"
           }
          ],
          "scattermapbox": [
           {
            "marker": {
             "colorbar": {
              "outlinewidth": 0,
              "ticks": ""
             }
            },
            "type": "scattermapbox"
           }
          ],
          "scatterpolar": [
           {
            "marker": {
             "colorbar": {
              "outlinewidth": 0,
              "ticks": ""
             }
            },
            "type": "scatterpolar"
           }
          ],
          "scatterpolargl": [
           {
            "marker": {
             "colorbar": {
              "outlinewidth": 0,
              "ticks": ""
             }
            },
            "type": "scatterpolargl"
           }
          ],
          "scatterternary": [
           {
            "marker": {
             "colorbar": {
              "outlinewidth": 0,
              "ticks": ""
             }
            },
            "type": "scatterternary"
           }
          ],
          "surface": [
           {
            "colorbar": {
             "outlinewidth": 0,
             "ticks": ""
            },
            "colorscale": [
             [
              0,
              "#0d0887"
             ],
             [
              0.1111111111111111,
              "#46039f"
             ],
             [
              0.2222222222222222,
              "#7201a8"
             ],
             [
              0.3333333333333333,
              "#9c179e"
             ],
             [
              0.4444444444444444,
              "#bd3786"
             ],
             [
              0.5555555555555556,
              "#d8576b"
             ],
             [
              0.6666666666666666,
              "#ed7953"
             ],
             [
              0.7777777777777778,
              "#fb9f3a"
             ],
             [
              0.8888888888888888,
              "#fdca26"
             ],
             [
              1,
              "#f0f921"
             ]
            ],
            "type": "surface"
           }
          ],
          "table": [
           {
            "cells": {
             "fill": {
              "color": "#EBF0F8"
             },
             "line": {
              "color": "white"
             }
            },
            "header": {
             "fill": {
              "color": "#C8D4E3"
             },
             "line": {
              "color": "white"
             }
            },
            "type": "table"
           }
          ]
         },
         "layout": {
          "annotationdefaults": {
           "arrowcolor": "#2a3f5f",
           "arrowhead": 0,
           "arrowwidth": 1
          },
          "autotypenumbers": "strict",
          "coloraxis": {
           "colorbar": {
            "outlinewidth": 0,
            "ticks": ""
           }
          },
          "colorscale": {
           "diverging": [
            [
             0,
             "#8e0152"
            ],
            [
             0.1,
             "#c51b7d"
            ],
            [
             0.2,
             "#de77ae"
            ],
            [
             0.3,
             "#f1b6da"
            ],
            [
             0.4,
             "#fde0ef"
            ],
            [
             0.5,
             "#f7f7f7"
            ],
            [
             0.6,
             "#e6f5d0"
            ],
            [
             0.7,
             "#b8e186"
            ],
            [
             0.8,
             "#7fbc41"
            ],
            [
             0.9,
             "#4d9221"
            ],
            [
             1,
             "#276419"
            ]
           ],
           "sequential": [
            [
             0,
             "#0d0887"
            ],
            [
             0.1111111111111111,
             "#46039f"
            ],
            [
             0.2222222222222222,
             "#7201a8"
            ],
            [
             0.3333333333333333,
             "#9c179e"
            ],
            [
             0.4444444444444444,
             "#bd3786"
            ],
            [
             0.5555555555555556,
             "#d8576b"
            ],
            [
             0.6666666666666666,
             "#ed7953"
            ],
            [
             0.7777777777777778,
             "#fb9f3a"
            ],
            [
             0.8888888888888888,
             "#fdca26"
            ],
            [
             1,
             "#f0f921"
            ]
           ],
           "sequentialminus": [
            [
             0,
             "#0d0887"
            ],
            [
             0.1111111111111111,
             "#46039f"
            ],
            [
             0.2222222222222222,
             "#7201a8"
            ],
            [
             0.3333333333333333,
             "#9c179e"
            ],
            [
             0.4444444444444444,
             "#bd3786"
            ],
            [
             0.5555555555555556,
             "#d8576b"
            ],
            [
             0.6666666666666666,
             "#ed7953"
            ],
            [
             0.7777777777777778,
             "#fb9f3a"
            ],
            [
             0.8888888888888888,
             "#fdca26"
            ],
            [
             1,
             "#f0f921"
            ]
           ]
          },
          "colorway": [
           "#636efa",
           "#EF553B",
           "#00cc96",
           "#ab63fa",
           "#FFA15A",
           "#19d3f3",
           "#FF6692",
           "#B6E880",
           "#FF97FF",
           "#FECB52"
          ],
          "font": {
           "color": "#2a3f5f"
          },
          "geo": {
           "bgcolor": "white",
           "lakecolor": "white",
           "landcolor": "#E5ECF6",
           "showlakes": true,
           "showland": true,
           "subunitcolor": "white"
          },
          "hoverlabel": {
           "align": "left"
          },
          "hovermode": "closest",
          "mapbox": {
           "style": "light"
          },
          "paper_bgcolor": "white",
          "plot_bgcolor": "#E5ECF6",
          "polar": {
           "angularaxis": {
            "gridcolor": "white",
            "linecolor": "white",
            "ticks": ""
           },
           "bgcolor": "#E5ECF6",
           "radialaxis": {
            "gridcolor": "white",
            "linecolor": "white",
            "ticks": ""
           }
          },
          "scene": {
           "xaxis": {
            "backgroundcolor": "#E5ECF6",
            "gridcolor": "white",
            "gridwidth": 2,
            "linecolor": "white",
            "showbackground": true,
            "ticks": "",
            "zerolinecolor": "white"
           },
           "yaxis": {
            "backgroundcolor": "#E5ECF6",
            "gridcolor": "white",
            "gridwidth": 2,
            "linecolor": "white",
            "showbackground": true,
            "ticks": "",
            "zerolinecolor": "white"
           },
           "zaxis": {
            "backgroundcolor": "#E5ECF6",
            "gridcolor": "white",
            "gridwidth": 2,
            "linecolor": "white",
            "showbackground": true,
            "ticks": "",
            "zerolinecolor": "white"
           }
          },
          "shapedefaults": {
           "line": {
            "color": "#2a3f5f"
           }
          },
          "ternary": {
           "aaxis": {
            "gridcolor": "white",
            "linecolor": "white",
            "ticks": ""
           },
           "baxis": {
            "gridcolor": "white",
            "linecolor": "white",
            "ticks": ""
           },
           "bgcolor": "#E5ECF6",
           "caxis": {
            "gridcolor": "white",
            "linecolor": "white",
            "ticks": ""
           }
          },
          "title": {
           "x": 0.05
          },
          "xaxis": {
           "automargin": true,
           "gridcolor": "white",
           "linecolor": "white",
           "ticks": "",
           "title": {
            "standoff": 15
           },
           "zerolinecolor": "white",
           "zerolinewidth": 2
          },
          "yaxis": {
           "automargin": true,
           "gridcolor": "white",
           "linecolor": "white",
           "ticks": "",
           "title": {
            "standoff": 15
           },
           "zerolinecolor": "white",
           "zerolinewidth": 2
          }
         }
        },
        "title": {
         "text": "SVR: Actual vs Predicted Prices (rbf kernel)"
        },
        "xaxis": {
         "title": {
          "text": "Actual Price ($)"
         }
        },
        "yaxis": {
         "title": {
          "text": "Predicted Price ($)"
         }
        }
       }
      }
     },
     "metadata": {},
     "output_type": "display_data"
    },
    {
     "data": {
      "application/vnd.plotly.v1+json": {
       "config": {
        "plotlyServerURL": "https://plot.ly"
       },
       "data": [
        {
         "hovertemplate": "Predicted: $%{x:,.0f}<br>Residual: $%{y:,.0f}<extra></extra>",
         "marker": {
          "color": "green",
          "opacity": 0.6
         },
         "mode": "markers",
         "type": "scatter",
         "x": {
          "bdata": "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",
          "dtype": "f8"
         },
         "y": {
          "bdata": "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",
          "dtype": "f8"
         }
        }
       ],
       "layout": {
        "height": 500,
        "shapes": [
         {
          "line": {
           "color": "red",
           "dash": "dash"
          },
          "type": "line",
          "x0": 0,
          "x1": 1,
          "xref": "x domain",
          "y0": 0,
          "y1": 0,
          "yref": "y"
         }
        ],
        "template": {
         "data": {
          "bar": [
           {
            "error_x": {
             "color": "#2a3f5f"
            },
            "error_y": {
             "color": "#2a3f5f"
            },
            "marker": {
             "line": {
              "color": "#E5ECF6",
              "width": 0.5
             },
             "pattern": {
              "fillmode": "overlay",
              "size": 10,
              "solidity": 0.2
             }
            },
            "type": "bar"
           }
          ],
          "barpolar": [
           {
            "marker": {
             "line": {
              "color": "#E5ECF6",
              "width": 0.5
             },
             "pattern": {
              "fillmode": "overlay",
              "size": 10,
              "solidity": 0.2
             }
            },
            "type": "barpolar"
           }
          ],
          "carpet": [
           {
            "aaxis": {
             "endlinecolor": "#2a3f5f",
             "gridcolor": "white",
             "linecolor": "white",
             "minorgridcolor": "white",
             "startlinecolor": "#2a3f5f"
            },
            "baxis": {
             "endlinecolor": "#2a3f5f",
             "gridcolor": "white",
             "linecolor": "white",
             "minorgridcolor": "white",
             "startlinecolor": "#2a3f5f"
            },
            "type": "carpet"
           }
          ],
          "choropleth": [
           {
            "colorbar": {
             "outlinewidth": 0,
             "ticks": ""
            },
            "type": "choropleth"
           }
          ],
          "contour": [
           {
            "colorbar": {
             "outlinewidth": 0,
             "ticks": ""
            },
            "colorscale": [
             [
              0,
              "#0d0887"
             ],
             [
              0.1111111111111111,
              "#46039f"
             ],
             [
              0.2222222222222222,
              "#7201a8"
             ],
             [
              0.3333333333333333,
              "#9c179e"
             ],
             [
              0.4444444444444444,
              "#bd3786"
             ],
             [
              0.5555555555555556,
              "#d8576b"
             ],
             [
              0.6666666666666666,
              "#ed7953"
             ],
             [
              0.7777777777777778,
              "#fb9f3a"
             ],
             [
              0.8888888888888888,
              "#fdca26"
             ],
             [
              1,
              "#f0f921"
             ]
            ],
            "type": "contour"
           }
          ],
          "contourcarpet": [
           {
            "colorbar": {
             "outlinewidth": 0,
             "ticks": ""
            },
            "type": "contourcarpet"
           }
          ],
          "heatmap": [
           {
            "colorbar": {
             "outlinewidth": 0,
             "ticks": ""
            },
            "colorscale": [
             [
              0,
              "#0d0887"
             ],
             [
              0.1111111111111111,
              "#46039f"
             ],
             [
              0.2222222222222222,
              "#7201a8"
             ],
             [
              0.3333333333333333,
              "#9c179e"
             ],
             [
              0.4444444444444444,
              "#bd3786"
             ],
             [
              0.5555555555555556,
              "#d8576b"
             ],
             [
              0.6666666666666666,
              "#ed7953"
             ],
             [
              0.7777777777777778,
              "#fb9f3a"
             ],
             [
              0.8888888888888888,
              "#fdca26"
             ],
             [
              1,
              "#f0f921"
             ]
            ],
            "type": "heatmap"
           }
          ],
          "histogram": [
           {
            "marker": {
             "pattern": {
              "fillmode": "overlay",
              "size": 10,
              "solidity": 0.2
             }
            },
            "type": "histogram"
           }
          ],
          "histogram2d": [
           {
            "colorbar": {
             "outlinewidth": 0,
             "ticks": ""
            },
            "colorscale": [
             [
              0,
              "#0d0887"
             ],
             [
              0.1111111111111111,
              "#46039f"
             ],
             [
              0.2222222222222222,
              "#7201a8"
             ],
             [
              0.3333333333333333,
              "#9c179e"
             ],
             [
              0.4444444444444444,
              "#bd3786"
             ],
             [
              0.5555555555555556,
              "#d8576b"
             ],
             [
              0.6666666666666666,
              "#ed7953"
             ],
             [
              0.7777777777777778,
              "#fb9f3a"
             ],
             [
              0.8888888888888888,
              "#fdca26"
             ],
             [
              1,
              "#f0f921"
             ]
            ],
            "type": "histogram2d"
           }
          ],
          "histogram2dcontour": [
           {
            "colorbar": {
             "outlinewidth": 0,
             "ticks": ""
            },
            "colorscale": [
             [
              0,
              "#0d0887"
             ],
             [
              0.1111111111111111,
              "#46039f"
             ],
             [
              0.2222222222222222,
              "#7201a8"
             ],
             [
              0.3333333333333333,
              "#9c179e"
             ],
             [
              0.4444444444444444,
              "#bd3786"
             ],
             [
              0.5555555555555556,
              "#d8576b"
             ],
             [
              0.6666666666666666,
              "#ed7953"
             ],
             [
              0.7777777777777778,
              "#fb9f3a"
             ],
             [
              0.8888888888888888,
              "#fdca26"
             ],
             [
              1,
              "#f0f921"
             ]
            ],
            "type": "histogram2dcontour"
           }
          ],
          "mesh3d": [
           {
            "colorbar": {
             "outlinewidth": 0,
             "ticks": ""
            },
            "type": "mesh3d"
           }
          ],
          "parcoords": [
           {
            "line": {
             "colorbar": {
              "outlinewidth": 0,
              "ticks": ""
             }
            },
            "type": "parcoords"
           }
          ],
          "pie": [
           {
            "automargin": true,
            "type": "pie"
           }
          ],
          "scatter": [
           {
            "fillpattern": {
             "fillmode": "overlay",
             "size": 10,
             "solidity": 0.2
            },
            "type": "scatter"
           }
          ],
          "scatter3d": [
           {
            "line": {
             "colorbar": {
              "outlinewidth": 0,
              "ticks": ""
             }
            },
            "marker": {
             "colorbar": {
              "outlinewidth": 0,
              "ticks": ""
             }
            },
            "type": "scatter3d"
           }
          ],
          "scattercarpet": [
           {
            "marker": {
             "colorbar": {
              "outlinewidth": 0,
              "ticks": ""
             }
            },
            "type": "scattercarpet"
           }
          ],
          "scattergeo": [
           {
            "marker": {
             "colorbar": {
              "outlinewidth": 0,
              "ticks": ""
             }
            },
            "type": "scattergeo"
           }
          ],
          "scattergl": [
           {
            "marker": {
             "colorbar": {
              "outlinewidth": 0,
              "ticks": ""
             }
            },
            "type": "scattergl"
           }
          ],
          "scattermap": [
           {
            "marker": {
             "colorbar": {
              "outlinewidth": 0,
              "ticks": ""
             }
            },
            "type": "scattermap"
           }
          ],
          "scattermapbox": [
           {
            "marker": {
             "colorbar": {
              "outlinewidth": 0,
              "ticks": ""
             }
            },
            "type": "scattermapbox"
           }
          ],
          "scatterpolar": [
           {
            "marker": {
             "colorbar": {
              "outlinewidth": 0,
              "ticks": ""
             }
            },
            "type": "scatterpolar"
           }
          ],
          "scatterpolargl": [
           {
            "marker": {
             "colorbar": {
              "outlinewidth": 0,
              "ticks": ""
             }
            },
            "type": "scatterpolargl"
           }
          ],
          "scatterternary": [
           {
            "marker": {
             "colorbar": {
              "outlinewidth": 0,
              "ticks": ""
             }
            },
            "type": "scatterternary"
           }
          ],
          "surface": [
           {
            "colorbar": {
             "outlinewidth": 0,
             "ticks": ""
            },
            "colorscale": [
             [
              0,
              "#0d0887"
             ],
             [
              0.1111111111111111,
              "#46039f"
             ],
             [
              0.2222222222222222,
              "#7201a8"
             ],
             [
              0.3333333333333333,
              "#9c179e"
             ],
             [
              0.4444444444444444,
              "#bd3786"
             ],
             [
              0.5555555555555556,
              "#d8576b"
             ],
             [
              0.6666666666666666,
              "#ed7953"
             ],
             [
              0.7777777777777778,
              "#fb9f3a"
             ],
             [
              0.8888888888888888,
              "#fdca26"
             ],
             [
              1,
              "#f0f921"
             ]
            ],
            "type": "surface"
           }
          ],
          "table": [
           {
            "cells": {
             "fill": {
              "color": "#EBF0F8"
             },
             "line": {
              "color": "white"
             }
            },
            "header": {
             "fill": {
              "color": "#C8D4E3"
             },
             "line": {
              "color": "white"
             }
            },
            "type": "table"
           }
          ]
         },
         "layout": {
          "annotationdefaults": {
           "arrowcolor": "#2a3f5f",
           "arrowhead": 0,
           "arrowwidth": 1
          },
          "autotypenumbers": "strict",
          "coloraxis": {
           "colorbar": {
            "outlinewidth": 0,
            "ticks": ""
           }
          },
          "colorscale": {
           "diverging": [
            [
             0,
             "#8e0152"
            ],
            [
             0.1,
             "#c51b7d"
            ],
            [
             0.2,
             "#de77ae"
            ],
            [
             0.3,
             "#f1b6da"
            ],
            [
             0.4,
             "#fde0ef"
            ],
            [
             0.5,
             "#f7f7f7"
            ],
            [
             0.6,
             "#e6f5d0"
            ],
            [
             0.7,
             "#b8e186"
            ],
            [
             0.8,
             "#7fbc41"
            ],
            [
             0.9,
             "#4d9221"
            ],
            [
             1,
             "#276419"
            ]
           ],
           "sequential": [
            [
             0,
             "#0d0887"
            ],
            [
             0.1111111111111111,
             "#46039f"
            ],
            [
             0.2222222222222222,
             "#7201a8"
            ],
            [
             0.3333333333333333,
             "#9c179e"
            ],
            [
             0.4444444444444444,
             "#bd3786"
            ],
            [
             0.5555555555555556,
             "#d8576b"
            ],
            [
             0.6666666666666666,
             "#ed7953"
            ],
            [
             0.7777777777777778,
             "#fb9f3a"
            ],
            [
             0.8888888888888888,
             "#fdca26"
            ],
            [
             1,
             "#f0f921"
            ]
           ],
           "sequentialminus": [
            [
             0,
             "#0d0887"
            ],
            [
             0.1111111111111111,
             "#46039f"
            ],
            [
             0.2222222222222222,
             "#7201a8"
            ],
            [
             0.3333333333333333,
             "#9c179e"
            ],
            [
             0.4444444444444444,
             "#bd3786"
            ],
            [
             0.5555555555555556,
             "#d8576b"
            ],
            [
             0.6666666666666666,
             "#ed7953"
            ],
            [
             0.7777777777777778,
             "#fb9f3a"
            ],
            [
             0.8888888888888888,
             "#fdca26"
            ],
            [
             1,
             "#f0f921"
            ]
           ]
          },
          "colorway": [
           "#636efa",
           "#EF553B",
           "#00cc96",
           "#ab63fa",
           "#FFA15A",
           "#19d3f3",
           "#FF6692",
           "#B6E880",
           "#FF97FF",
           "#FECB52"
          ],
          "font": {
           "color": "#2a3f5f"
          },
          "geo": {
           "bgcolor": "white",
           "lakecolor": "white",
           "landcolor": "#E5ECF6",
           "showlakes": true,
           "showland": true,
           "subunitcolor": "white"
          },
          "hoverlabel": {
           "align": "left"
          },
          "hovermode": "closest",
          "mapbox": {
           "style": "light"
          },
          "paper_bgcolor": "white",
          "plot_bgcolor": "#E5ECF6",
          "polar": {
           "angularaxis": {
            "gridcolor": "white",
            "linecolor": "white",
            "ticks": ""
           },
           "bgcolor": "#E5ECF6",
           "radialaxis": {
            "gridcolor": "white",
            "linecolor": "white",
            "ticks": ""
           }
          },
          "scene": {
           "xaxis": {
            "backgroundcolor": "#E5ECF6",
            "gridcolor": "white",
            "gridwidth": 2,
            "linecolor": "white",
            "showbackground": true,
            "ticks": "",
            "zerolinecolor": "white"
           },
           "yaxis": {
            "backgroundcolor": "#E5ECF6",
            "gridcolor": "white",
            "gridwidth": 2,
            "linecolor": "white",
            "showbackground": true,
            "ticks": "",
            "zerolinecolor": "white"
           },
           "zaxis": {
            "backgroundcolor": "#E5ECF6",
            "gridcolor": "white",
            "gridwidth": 2,
            "linecolor": "white",
            "showbackground": true,
            "ticks": "",
            "zerolinecolor": "white"
           }
          },
          "shapedefaults": {
           "line": {
            "color": "#2a3f5f"
           }
          },
          "ternary": {
           "aaxis": {
            "gridcolor": "white",
            "linecolor": "white",
            "ticks": ""
           },
           "baxis": {
            "gridcolor": "white",
            "linecolor": "white",
            "ticks": ""
           },
           "bgcolor": "#E5ECF6",
           "caxis": {
            "gridcolor": "white",
            "linecolor": "white",
            "ticks": ""
           }
          },
          "title": {
           "x": 0.05
          },
          "xaxis": {
           "automargin": true,
           "gridcolor": "white",
           "linecolor": "white",
           "ticks": "",
           "title": {
            "standoff": 15
           },
           "zerolinecolor": "white",
           "zerolinewidth": 2
          },
          "yaxis": {
           "automargin": true,
           "gridcolor": "white",
           "linecolor": "white",
           "ticks": "",
           "title": {
            "standoff": 15
           },
           "zerolinecolor": "white",
           "zerolinewidth": 2
          }
         }
        },
        "title": {
         "text": "SVR Residuals Analysis"
        },
        "xaxis": {
         "title": {
          "text": "Predicted Price ($)"
         }
        },
        "yaxis": {
         "title": {
          "text": "Residuals ($)"
         }
        }
       }
      }
     },
     "metadata": {},
     "output_type": "display_data"
    }
   ],
   "source": [
    "# 3. SUPPORT VECTOR REGRESSION (SVR)\n",
    "print(\" 3. SUPPORT VECTOR REGRESSION (SVR)\")\n",
    "print(\"=\" * 33)\n",
    "\n",
    "# Prepare regression data\n",
    "regression_features = ['lot_size', 'house_age', 'bedrooms', 'bathrooms',\n",
    " 'school_rating', 'crime_rate', 'distance_to_center']\n",
    "X_reg = regression_df[regression_features]\n",
    "y_reg = regression_df['price']\n",
    "\n",
    "# Split data\n",
    "X_reg_train, X_reg_test, y_reg_train, y_reg_test = train_test_split(\n",
    " X_reg, y_reg, test_size=0.2, random_state=42\n",
    ")\n",
    "\n",
    "# Scale features and target\n",
    "scaler_reg = StandardScaler()\n",
    "X_reg_train_scaled = scaler_reg.fit_transform(X_reg_train)\n",
    "X_reg_test_scaled = scaler_reg.transform(X_reg_test)\n",
    "\n",
    "# Scale target for better SVR performance\n",
    "y_scaler = StandardScaler()\n",
    "y_reg_train_scaled = y_scaler.fit_transform(y_reg_train.values.reshape(-1, 1)).ravel()\n",
    "y_reg_test_scaled = y_scaler.transform(y_reg_test.values.reshape(-1, 1)).ravel()\n",
    "\n",
    "print(f\"Training set: {X_reg_train_scaled.shape}\")\n",
    "print(f\"Test set: {X_reg_test_scaled.shape}\")\n",
    "\n",
    "# Test different SVR kernels\n",
    "svr_kernels = ['linear', 'rbf', 'poly']\n",
    "svr_results = {}\n",
    "\n",
    "print(f\"\\n SVR Kernel Comparison:\")\n",
    "\n",
    "for kernel in svr_kernels:\n",
    "    if kernel == 'poly':\n",
    "        svr_model = SVR(kernel=kernel, degree=3, C=1.0)\n",
    "    else:\n",
    "        svr_model = SVR(kernel=kernel, C=1.0)\n",
    "\n",
    "    # Fit model\n",
    "    svr_model.fit(X_reg_train_scaled, y_reg_train_scaled)\n",
    "\n",
    "    # Predictions (transform back to original scale)\n",
    "    y_pred_scaled = svr_model.predict(X_reg_test_scaled)\n",
    "    y_pred = y_scaler.inverse_transform(y_pred_scaled.reshape(-1, 1)).ravel()\n",
    "\n",
    "    # Metrics\n",
    "    mse = mean_squared_error(y_reg_test, y_pred)\n",
    "    r2 = r2_score(y_reg_test, y_pred)\n",
    "    mae = mean_absolute_error(y_reg_test, y_pred)\n",
    "    n_support = len(svr_model.support_)\n",
    "\n",
    "    svr_results[kernel] = {\n",
    "        'MSE': mse,\n",
    "        'R2': r2,\n",
    "        'MAE': mae,\n",
    "        'RMSE': np.sqrt(mse),\n",
    "        'n_support_vectors': n_support\n",
    "    }\n",
    "\n",
    "    print(f\"• {kernel}: R²={r2:.4f}, RMSE=${np.sqrt(mse):,.0f}, SV={n_support}\")\n",
    "\n",
    "# Find best SVR kernel\n",
    "svr_df = pd.DataFrame(svr_results).T\n",
    "best_svr_kernel = svr_df['R2'].idxmax()\n",
    "print(f\"\\n Best SVR kernel: {best_svr_kernel}\")\n",
    "\n",
    "# Visualize SVR kernel comparison\n",
    "fig_svr_kernels = make_subplots(\n",
    " rows=1, cols=2,\n",
    " subplot_titles=['R² Score by Kernel', 'RMSE by Kernel']\n",
    ")\n",
    "\n",
    "fig_svr_kernels.add_trace(\n",
    " go.Bar(\n",
    " x=list(svr_results.keys()),\n",
    " y=[result['R2'] for result in svr_results.values()],\n",
    " name='R² Score',\n",
    " marker_color='lightgreen'\n",
    " ),\n",
    " row=1, col=1\n",
    ")\n",
    "\n",
    "fig_svr_kernels.add_trace(\n",
    " go.Bar(\n",
    " x=list(svr_results.keys()),\n",
    " y=[result['RMSE'] for result in svr_results.values()],\n",
    " name='RMSE',\n",
    " marker_color='lightcoral',\n",
    " showlegend=False\n",
    " ),\n",
    " row=1, col=2\n",
    ")\n",
    "\n",
    "fig_svr_kernels.update_layout(\n",
    " title=\"SVR Kernel Comparison\",\n",
    " height=500\n",
    ")\n",
    "\n",
    "fig_svr_kernels.update_yaxes(title_text=\"R² Score\", row=1, col=1)\n",
    "fig_svr_kernels.update_yaxes(title_text=\"RMSE ($)\", row=1, col=2)\n",
    "\n",
    "fig_svr_kernels.show()\n",
    "\n",
    "# Hyperparameter optimization for best kernel\n",
    "print(f\"\\n SVR Hyperparameter Optimization ({best_svr_kernel} kernel):\")\n",
    "\n",
    "# Grid search for SVR\n",
    "svr_param_grid = {\n",
    " 'C': [0.1, 1, 10, 100],\n",
    " 'epsilon': [0.01, 0.1, 0.2, 0.5]\n",
    "}\n",
    "\n",
    "if best_svr_kernel == 'rbf':\n",
    " svr_param_grid['gamma'] = ['scale', 'auto', 0.001, 0.01, 0.1]\n",
    "\n",
    "svr_best = SVR(kernel=best_svr_kernel)\n",
    "svr_grid_search = GridSearchCV(\n",
    " svr_best,\n",
    " svr_param_grid,\n",
    " cv=5,\n",
    " scoring='r2',\n",
    " n_jobs=-1\n",
    ")\n",
    "\n",
    "svr_grid_search.fit(X_reg_train_scaled, y_reg_train_scaled)\n",
    "\n",
    "print(f\"Best parameters: {svr_grid_search.best_params_}\")\n",
    "print(f\"Best CV R²: {svr_grid_search.best_score_:.4f}\")\n",
    "\n",
    "# Final SVR model evaluation\n",
    "best_svr = svr_grid_search.best_estimator_\n",
    "y_reg_pred_scaled = best_svr.predict(X_reg_test_scaled)\n",
    "y_reg_pred = y_scaler.inverse_transform(y_reg_pred_scaled.reshape(-1, 1)).ravel()\n",
    "\n",
    "# Final metrics\n",
    "final_mse = mean_squared_error(y_reg_test, y_reg_pred)\n",
    "final_r2 = r2_score(y_reg_test, y_reg_pred)\n",
    "final_mae = mean_absolute_error(y_reg_test, y_reg_pred)\n",
    "\n",
    "print(f\"\\n Final SVR Performance:\")\n",
    "print(f\"• Kernel: {best_svr_kernel}\")\n",
    "print(f\"• Test R²: {final_r2:.4f}\")\n",
    "print(f\"• Test RMSE: ${np.sqrt(final_mse):,.0f}\")\n",
    "print(f\"• Test MAE: ${final_mae:,.0f}\")\n",
    "print(f\"• Support Vectors: {len(best_svr.support_)}/{len(X_reg_train_scaled)} ({len(best_svr.support_)/len(X_reg_train_scaled):.1%})\")\n",
    "\n",
    "# Actual vs Predicted plot\n",
    "fig_svr_pred = go.Figure()\n",
    "\n",
    "fig_svr_pred.add_trace(\n",
    " go.Scatter(\n",
    " x=y_reg_test,\n",
    " y=y_reg_pred,\n",
    " mode='markers',\n",
    " marker=dict(color='blue', opacity=0.6),\n",
    " name='Predictions',\n",
    " hovertemplate=\"Actual: $%{x:,.0f}<br>Predicted: $%{y:,.0f}<extra></extra>\"\n",
    " )\n",
    ")\n",
    "\n",
    "# Perfect prediction line\n",
    "min_price = min(y_reg_test.min(), y_reg_pred.min())\n",
    "max_price = max(y_reg_test.max(), y_reg_pred.max())\n",
    "\n",
    "fig_svr_pred.add_trace(\n",
    " go.Scatter(\n",
    " x=[min_price, max_price],\n",
    " y=[min_price, max_price],\n",
    " mode='lines',\n",
    " line=dict(color='red', dash='dash'),\n",
    " name='Perfect Prediction',\n",
    " hovertemplate=\"Perfect Line<extra></extra>\"\n",
    " )\n",
    ")\n",
    "\n",
    "fig_svr_pred.update_layout(\n",
    " title=f\"SVR: Actual vs Predicted Prices ({best_svr_kernel} kernel)\",\n",
    " xaxis_title=\"Actual Price ($)\",\n",
    " yaxis_title=\"Predicted Price ($)\",\n",
    " height=500\n",
    ")\n",
    "fig_svr_pred.show()\n",
    "\n",
    "# Residuals analysis\n",
    "residuals = y_reg_test - y_reg_pred\n",
    "\n",
    "fig_residuals = go.Figure()\n",
    "\n",
    "fig_residuals.add_trace(\n",
    " go.Scatter(\n",
    " x=y_reg_pred,\n",
    " y=residuals,\n",
    " mode='markers',\n",
    " marker=dict(color='green', opacity=0.6),\n",
    " hovertemplate=\"Predicted: $%{x:,.0f}<br>Residual: $%{y:,.0f}<extra></extra>\"\n",
    " )\n",
    ")\n",
    "\n",
    "fig_residuals.add_hline(y=0, line_dash=\"dash\", line_color=\"red\")\n",
    "\n",
    "fig_residuals.update_layout(\n",
    " title=\"SVR Residuals Analysis\",\n",
    " xaxis_title=\"Predicted Price ($)\",\n",
    " yaxis_title=\"Residuals ($)\",\n",
    " height=500\n",
    ")\n",
    "fig_residuals.show()"
   ]
  },
  {
   "cell_type": "code",
   "execution_count": 10,
   "id": "0370e992",
   "metadata": {},
   "outputs": [
    {
     "name": "stdout",
     "output_type": "stream",
     "text": [
      " 4. LEARNING CURVES AND MODEL COMPLEXITY\n",
      "=========================================\n",
      " Generating Learning Curves...\n"
     ]
    },
    {
     "data": {
      "application/vnd.plotly.v1+json": {
       "config": {
        "plotlyServerURL": "https://plot.ly"
       },
       "data": [
        {
         "error_y": {
          "array": {
           "bdata": "mpmZmZmZeT+amZmZmZl5P80QEREREWE/mpmZmZmZaT/79wC1x4F8PyjwPPP95oQ//JY/NrQ+ej8jtzpF8g12PwDHcRzHcWw/BAoNCWMbaj8=",
           "dtype": "f8"
          },
          "type": "data"
         },
         "line": {
          "color": "blue"
         },
         "mode": "lines+markers",
         "name": "Training",
         "type": "scatter",
         "x": {
          "bdata": "QACAAMAAAAFAAYABwAEAAkACgAI=",
          "dtype": "i2"
         },
         "xaxis": "x",
         "y": {
          "bdata": "mpmZmZkZ7z+amZmZmVnvP83MzMzMTO8/zczMzMxM7z9SuB6F61HvP0VERERERO8/+Iqv+Iov7z8AAAAAADDvP43jOI7jOO8/9Shcj8I17z8=",
          "dtype": "f8"
         },
         "yaxis": "y"
        },
        {
         "error_y": {
          "array": {
           "bdata": "uJmuJt5ckT/oMnaOi7mSP7A81GnqqZM/pNMXe1RViz9vOqBO3DCQP/M8LuJDKJM/LwoNCWMbij+1ma4m3lyBP8pXZtG35XY/0fWXeCvMhD8=",
           "dtype": "f8"
          },
          "type": "data"
         },
         "line": {
          "color": "red"
         },
         "mode": "lines+markers",
         "name": "Validation",
         "showlegend": false,
         "type": "scatter",
         "x": {
          "bdata": "QACAAMAAAAFAAYABwAEAAkACgAI=",
          "dtype": "i2"
         },
         "xaxis": "x",
         "y": {
          "bdata": "PgrXo3A97j+OwvUoXI/uP65H4XoUru4/1qNwPQrX7j/NzMzMzMzuP9ajcD0K1+4/w/UoXI/C7j/iehSuR+HuPwAAAAAAAO8/Fa5H4XoU7z8=",
          "dtype": "f8"
         },
         "yaxis": "y"
        },
        {
         "error_y": {
          "array": {
           "bdata": "GRAQEBAQgD8AEBAQEBBwP8WgdGj4Omo/k3hXTjqsYz8AAAAAAAAAAAAAAAAAAAAAAAAAAAAAAAAAAAAAAAAAAAAAAAAAAAAAAAAAAAAAAAA=",
           "dtype": "f8"
          },
          "type": "data"
         },
         "line": {
          "color": "blue"
         },
         "mode": "lines+markers",
         "name": "Training",
         "showlegend": false,
         "type": "scatter",
         "x": {
          "bdata": "QACAAMAAAAFAAYABwAEAAkACgAI=",
          "dtype": "i2"
         },
         "xaxis": "x2",
         "y": {
          "bdata": "gH9/f39/7z/Av7+/v7/vP+Df39/f3+8/6Ofn5+fn7z8AAAAAAADwPwAAAAAAAPA/AAAAAAAA8D8AAAAAAADwPwAAAAAAAPA/AAAAAAAA8D8=",
          "dtype": "f8"
         },
         "yaxis": "y2"
        },
        {
         "error_y": {
          "array": {
           "bdata": "HEBasBW0hT8PSUhiEz2EP7RPKT63qII/Smjb7Hxabz+amZmZmZlpP5qZmZmZmXk/mpmZmZmZeT+amZmZmZlpPwAAAAAAAAAAAAAAAAAAAAA=",
           "dtype": "f8"
          },
          "type": "data"
         },
         "line": {
          "color": "red"
         },
         "mode": "lines+markers",
         "name": "Validation",
         "showlegend": false,
         "type": "scatter",
         "x": {
          "bdata": "QACAAMAAAAFAAYABwAEAAkACgAI=",
          "dtype": "i2"
         },
         "xaxis": "x2",
         "y": {
          "bdata": "ZmZmZmYm7z8AAAAAAIDvPzMzMzMzs+8/ZmZmZmbm7z8zMzMzM/PvP2ZmZmZm5u8/ZmZmZmbm7z8zMzMzM/PvPwAAAAAAAPA/AAAAAAAA8D8=",
          "dtype": "f8"
         },
         "yaxis": "y2"
        }
       ],
       "layout": {
        "annotations": [
         {
          "font": {
           "size": 16
          },
          "showarrow": false,
          "text": "Linear SVM Learning Curve",
          "x": 0.225,
          "xanchor": "center",
          "xref": "paper",
          "y": 1,
          "yanchor": "bottom",
          "yref": "paper"
         },
         {
          "font": {
           "size": 16
          },
          "showarrow": false,
          "text": "RBF SVM Learning Curve",
          "x": 0.775,
          "xanchor": "center",
          "xref": "paper",
          "y": 1,
          "yanchor": "bottom",
          "yref": "paper"
         }
        ],
        "height": 500,
        "template": {
         "data": {
          "bar": [
           {
            "error_x": {
             "color": "#2a3f5f"
            },
            "error_y": {
             "color": "#2a3f5f"
            },
            "marker": {
             "line": {
              "color": "#E5ECF6",
              "width": 0.5
             },
             "pattern": {
              "fillmode": "overlay",
              "size": 10,
              "solidity": 0.2
             }
            },
            "type": "bar"
           }
          ],
          "barpolar": [
           {
            "marker": {
             "line": {
              "color": "#E5ECF6",
              "width": 0.5
             },
             "pattern": {
              "fillmode": "overlay",
              "size": 10,
              "solidity": 0.2
             }
            },
            "type": "barpolar"
           }
          ],
          "carpet": [
           {
            "aaxis": {
             "endlinecolor": "#2a3f5f",
             "gridcolor": "white",
             "linecolor": "white",
             "minorgridcolor": "white",
             "startlinecolor": "#2a3f5f"
            },
            "baxis": {
             "endlinecolor": "#2a3f5f",
             "gridcolor": "white",
             "linecolor": "white",
             "minorgridcolor": "white",
             "startlinecolor": "#2a3f5f"
            },
            "type": "carpet"
           }
          ],
          "choropleth": [
           {
            "colorbar": {
             "outlinewidth": 0,
             "ticks": ""
            },
            "type": "choropleth"
           }
          ],
          "contour": [
           {
            "colorbar": {
             "outlinewidth": 0,
             "ticks": ""
            },
            "colorscale": [
             [
              0,
              "#0d0887"
             ],
             [
              0.1111111111111111,
              "#46039f"
             ],
             [
              0.2222222222222222,
              "#7201a8"
             ],
             [
              0.3333333333333333,
              "#9c179e"
             ],
             [
              0.4444444444444444,
              "#bd3786"
             ],
             [
              0.5555555555555556,
              "#d8576b"
             ],
             [
              0.6666666666666666,
              "#ed7953"
             ],
             [
              0.7777777777777778,
              "#fb9f3a"
             ],
             [
              0.8888888888888888,
              "#fdca26"
             ],
             [
              1,
              "#f0f921"
             ]
            ],
            "type": "contour"
           }
          ],
          "contourcarpet": [
           {
            "colorbar": {
             "outlinewidth": 0,
             "ticks": ""
            },
            "type": "contourcarpet"
           }
          ],
          "heatmap": [
           {
            "colorbar": {
             "outlinewidth": 0,
             "ticks": ""
            },
            "colorscale": [
             [
              0,
              "#0d0887"
             ],
             [
              0.1111111111111111,
              "#46039f"
             ],
             [
              0.2222222222222222,
              "#7201a8"
             ],
             [
              0.3333333333333333,
              "#9c179e"
             ],
             [
              0.4444444444444444,
              "#bd3786"
             ],
             [
              0.5555555555555556,
              "#d8576b"
             ],
             [
              0.6666666666666666,
              "#ed7953"
             ],
             [
              0.7777777777777778,
              "#fb9f3a"
             ],
             [
              0.8888888888888888,
              "#fdca26"
             ],
             [
              1,
              "#f0f921"
             ]
            ],
            "type": "heatmap"
           }
          ],
          "histogram": [
           {
            "marker": {
             "pattern": {
              "fillmode": "overlay",
              "size": 10,
              "solidity": 0.2
             }
            },
            "type": "histogram"
           }
          ],
          "histogram2d": [
           {
            "colorbar": {
             "outlinewidth": 0,
             "ticks": ""
            },
            "colorscale": [
             [
              0,
              "#0d0887"
             ],
             [
              0.1111111111111111,
              "#46039f"
             ],
             [
              0.2222222222222222,
              "#7201a8"
             ],
             [
              0.3333333333333333,
              "#9c179e"
             ],
             [
              0.4444444444444444,
              "#bd3786"
             ],
             [
              0.5555555555555556,
              "#d8576b"
             ],
             [
              0.6666666666666666,
              "#ed7953"
             ],
             [
              0.7777777777777778,
              "#fb9f3a"
             ],
             [
              0.8888888888888888,
              "#fdca26"
             ],
             [
              1,
              "#f0f921"
             ]
            ],
            "type": "histogram2d"
           }
          ],
          "histogram2dcontour": [
           {
            "colorbar": {
             "outlinewidth": 0,
             "ticks": ""
            },
            "colorscale": [
             [
              0,
              "#0d0887"
             ],
             [
              0.1111111111111111,
              "#46039f"
             ],
             [
              0.2222222222222222,
              "#7201a8"
             ],
             [
              0.3333333333333333,
              "#9c179e"
             ],
             [
              0.4444444444444444,
              "#bd3786"
             ],
             [
              0.5555555555555556,
              "#d8576b"
             ],
             [
              0.6666666666666666,
              "#ed7953"
             ],
             [
              0.7777777777777778,
              "#fb9f3a"
             ],
             [
              0.8888888888888888,
              "#fdca26"
             ],
             [
              1,
              "#f0f921"
             ]
            ],
            "type": "histogram2dcontour"
           }
          ],
          "mesh3d": [
           {
            "colorbar": {
             "outlinewidth": 0,
             "ticks": ""
            },
            "type": "mesh3d"
           }
          ],
          "parcoords": [
           {
            "line": {
             "colorbar": {
              "outlinewidth": 0,
              "ticks": ""
             }
            },
            "type": "parcoords"
           }
          ],
          "pie": [
           {
            "automargin": true,
            "type": "pie"
           }
          ],
          "scatter": [
           {
            "fillpattern": {
             "fillmode": "overlay",
             "size": 10,
             "solidity": 0.2
            },
            "type": "scatter"
           }
          ],
          "scatter3d": [
           {
            "line": {
             "colorbar": {
              "outlinewidth": 0,
              "ticks": ""
             }
            },
            "marker": {
             "colorbar": {
              "outlinewidth": 0,
              "ticks": ""
             }
            },
            "type": "scatter3d"
           }
          ],
          "scattercarpet": [
           {
            "marker": {
             "colorbar": {
              "outlinewidth": 0,
              "ticks": ""
             }
            },
            "type": "scattercarpet"
           }
          ],
          "scattergeo": [
           {
            "marker": {
             "colorbar": {
              "outlinewidth": 0,
              "ticks": ""
             }
            },
            "type": "scattergeo"
           }
          ],
          "scattergl": [
           {
            "marker": {
             "colorbar": {
              "outlinewidth": 0,
              "ticks": ""
             }
            },
            "type": "scattergl"
           }
          ],
          "scattermap": [
           {
            "marker": {
             "colorbar": {
              "outlinewidth": 0,
              "ticks": ""
             }
            },
            "type": "scattermap"
           }
          ],
          "scattermapbox": [
           {
            "marker": {
             "colorbar": {
              "outlinewidth": 0,
              "ticks": ""
             }
            },
            "type": "scattermapbox"
           }
          ],
          "scatterpolar": [
           {
            "marker": {
             "colorbar": {
              "outlinewidth": 0,
              "ticks": ""
             }
            },
            "type": "scatterpolar"
           }
          ],
          "scatterpolargl": [
           {
            "marker": {
             "colorbar": {
              "outlinewidth": 0,
              "ticks": ""
             }
            },
            "type": "scatterpolargl"
           }
          ],
          "scatterternary": [
           {
            "marker": {
             "colorbar": {
              "outlinewidth": 0,
              "ticks": ""
             }
            },
            "type": "scatterternary"
           }
          ],
          "surface": [
           {
            "colorbar": {
             "outlinewidth": 0,
             "ticks": ""
            },
            "colorscale": [
             [
              0,
              "#0d0887"
             ],
             [
              0.1111111111111111,
              "#46039f"
             ],
             [
              0.2222222222222222,
              "#7201a8"
             ],
             [
              0.3333333333333333,
              "#9c179e"
             ],
             [
              0.4444444444444444,
              "#bd3786"
             ],
             [
              0.5555555555555556,
              "#d8576b"
             ],
             [
              0.6666666666666666,
              "#ed7953"
             ],
             [
              0.7777777777777778,
              "#fb9f3a"
             ],
             [
              0.8888888888888888,
              "#fdca26"
             ],
             [
              1,
              "#f0f921"
             ]
            ],
            "type": "surface"
           }
          ],
          "table": [
           {
            "cells": {
             "fill": {
              "color": "#EBF0F8"
             },
             "line": {
              "color": "white"
             }
            },
            "header": {
             "fill": {
              "color": "#C8D4E3"
             },
             "line": {
              "color": "white"
             }
            },
            "type": "table"
           }
          ]
         },
         "layout": {
          "annotationdefaults": {
           "arrowcolor": "#2a3f5f",
           "arrowhead": 0,
           "arrowwidth": 1
          },
          "autotypenumbers": "strict",
          "coloraxis": {
           "colorbar": {
            "outlinewidth": 0,
            "ticks": ""
           }
          },
          "colorscale": {
           "diverging": [
            [
             0,
             "#8e0152"
            ],
            [
             0.1,
             "#c51b7d"
            ],
            [
             0.2,
             "#de77ae"
            ],
            [
             0.3,
             "#f1b6da"
            ],
            [
             0.4,
             "#fde0ef"
            ],
            [
             0.5,
             "#f7f7f7"
            ],
            [
             0.6,
             "#e6f5d0"
            ],
            [
             0.7,
             "#b8e186"
            ],
            [
             0.8,
             "#7fbc41"
            ],
            [
             0.9,
             "#4d9221"
            ],
            [
             1,
             "#276419"
            ]
           ],
           "sequential": [
            [
             0,
             "#0d0887"
            ],
            [
             0.1111111111111111,
             "#46039f"
            ],
            [
             0.2222222222222222,
             "#7201a8"
            ],
            [
             0.3333333333333333,
             "#9c179e"
            ],
            [
             0.4444444444444444,
             "#bd3786"
            ],
            [
             0.5555555555555556,
             "#d8576b"
            ],
            [
             0.6666666666666666,
             "#ed7953"
            ],
            [
             0.7777777777777778,
             "#fb9f3a"
            ],
            [
             0.8888888888888888,
             "#fdca26"
            ],
            [
             1,
             "#f0f921"
            ]
           ],
           "sequentialminus": [
            [
             0,
             "#0d0887"
            ],
            [
             0.1111111111111111,
             "#46039f"
            ],
            [
             0.2222222222222222,
             "#7201a8"
            ],
            [
             0.3333333333333333,
             "#9c179e"
            ],
            [
             0.4444444444444444,
             "#bd3786"
            ],
            [
             0.5555555555555556,
             "#d8576b"
            ],
            [
             0.6666666666666666,
             "#ed7953"
            ],
            [
             0.7777777777777778,
             "#fb9f3a"
            ],
            [
             0.8888888888888888,
             "#fdca26"
            ],
            [
             1,
             "#f0f921"
            ]
           ]
          },
          "colorway": [
           "#636efa",
           "#EF553B",
           "#00cc96",
           "#ab63fa",
           "#FFA15A",
           "#19d3f3",
           "#FF6692",
           "#B6E880",
           "#FF97FF",
           "#FECB52"
          ],
          "font": {
           "color": "#2a3f5f"
          },
          "geo": {
           "bgcolor": "white",
           "lakecolor": "white",
           "landcolor": "#E5ECF6",
           "showlakes": true,
           "showland": true,
           "subunitcolor": "white"
          },
          "hoverlabel": {
           "align": "left"
          },
          "hovermode": "closest",
          "mapbox": {
           "style": "light"
          },
          "paper_bgcolor": "white",
          "plot_bgcolor": "#E5ECF6",
          "polar": {
           "angularaxis": {
            "gridcolor": "white",
            "linecolor": "white",
            "ticks": ""
           },
           "bgcolor": "#E5ECF6",
           "radialaxis": {
            "gridcolor": "white",
            "linecolor": "white",
            "ticks": ""
           }
          },
          "scene": {
           "xaxis": {
            "backgroundcolor": "#E5ECF6",
            "gridcolor": "white",
            "gridwidth": 2,
            "linecolor": "white",
            "showbackground": true,
            "ticks": "",
            "zerolinecolor": "white"
           },
           "yaxis": {
            "backgroundcolor": "#E5ECF6",
            "gridcolor": "white",
            "gridwidth": 2,
            "linecolor": "white",
            "showbackground": true,
            "ticks": "",
            "zerolinecolor": "white"
           },
           "zaxis": {
            "backgroundcolor": "#E5ECF6",
            "gridcolor": "white",
            "gridwidth": 2,
            "linecolor": "white",
            "showbackground": true,
            "ticks": "",
            "zerolinecolor": "white"
           }
          },
          "shapedefaults": {
           "line": {
            "color": "#2a3f5f"
           }
          },
          "ternary": {
           "aaxis": {
            "gridcolor": "white",
            "linecolor": "white",
            "ticks": ""
           },
           "baxis": {
            "gridcolor": "white",
            "linecolor": "white",
            "ticks": ""
           },
           "bgcolor": "#E5ECF6",
           "caxis": {
            "gridcolor": "white",
            "linecolor": "white",
            "ticks": ""
           }
          },
          "title": {
           "x": 0.05
          },
          "xaxis": {
           "automargin": true,
           "gridcolor": "white",
           "linecolor": "white",
           "ticks": "",
           "title": {
            "standoff": 15
           },
           "zerolinecolor": "white",
           "zerolinewidth": 2
          },
          "yaxis": {
           "automargin": true,
           "gridcolor": "white",
           "linecolor": "white",
           "ticks": "",
           "title": {
            "standoff": 15
           },
           "zerolinecolor": "white",
           "zerolinewidth": 2
          }
         }
        },
        "title": {
         "text": "SVM Learning Curves"
        },
        "xaxis": {
         "anchor": "y",
         "domain": [
          0,
          0.45
         ],
         "title": {
          "text": "Training Set Size"
         }
        },
        "xaxis2": {
         "anchor": "y2",
         "domain": [
          0.55,
          1
         ],
         "title": {
          "text": "Training Set Size"
         }
        },
        "yaxis": {
         "anchor": "x",
         "domain": [
          0,
          1
         ],
         "title": {
          "text": "Accuracy"
         }
        },
        "yaxis2": {
         "anchor": "x2",
         "domain": [
          0,
          1
         ],
         "title": {
          "text": "Accuracy"
         }
        }
       }
      }
     },
     "metadata": {},
     "output_type": "display_data"
    },
    {
     "name": "stdout",
     "output_type": "stream",
     "text": [
      "\n",
      " Validation Curves for C Parameter:\n"
     ]
    },
    {
     "data": {
      "application/vnd.plotly.v1+json": {
       "config": {
        "plotlyServerURL": "https://plot.ly"
       },
       "data": [
        {
         "error_y": {
          "array": {
           "bdata": "MxOuR+F6RD8zE65H4XpEPz8rz7IRMHU/f/Z4G1hbaj/Itq7kDdRxPwk/6rCeBWY/HLmiwM3Ebz/qUbgehetxP9oehetRuG4/hfZ4G1hbaj8=",
           "dtype": "f8"
          },
          "type": "data"
         },
         "line": {
          "color": "blue"
         },
         "mode": "lines+markers",
         "name": "Training",
         "type": "scatter",
         "x": {
          "bdata": "/Knx0k1iUD8FO+0ExnBtP5q5yp1wc4o/9j/WxNLDpz/4iq8mCFrFPx/IMpj5LuM/UHA4QUg8AUCv1s/JdfgeQLSRPCFa0ztAAAAAAAAAWUA=",
          "dtype": "f8"
         },
         "xaxis": "x",
         "y": {
          "bdata": "XY/C9Shc7T9dj8L1KFztP5DC9Shcj+0/hutRuB7F7j/2KFyPwvXuP12PwvUoHO8/CtejcD1K7z+F61G4HkXvPwrXo3A9Su8/SOF6FK5H7z8=",
          "dtype": "f8"
         },
         "yaxis": "y"
        },
        {
         "error_y": {
          "array": {
           "bdata": "ZhSuR+F6ZD9mFK5H4XpkP6EUrkfhenQ/APgAtceBjD+hj4kBj72HPzEYQPBAMI0/Gz/qsJ4Fhj+Zj4kBj72HP5mPiQGPvYc/ZxSuR+F6hD8=",
           "dtype": "f8"
          },
          "type": "data"
         },
         "line": {
          "color": "red"
         },
         "mode": "lines+markers",
         "name": "Validation",
         "showlegend": false,
         "type": "scatter",
         "x": {
          "bdata": "/Knx0k1iUD8FO+0ExnBtP5q5yp1wc4o/9j/WxNLDpz/4iq8mCFrFPx/IMpj5LuM/UHA4QUg8AUCv1s/JdfgeQLSRPCFa0ztAAAAAAAAAWUA=",
          "dtype": "f8"
         },
         "xaxis": "x",
         "y": {
          "bdata": "W4/C9Shc7T9bj8L1KFztP4XrUbgehe0/o3A9Ctej7j/rUbgehevuPwAAAAAAAO8/CtejcD0K7z/rUbgehevuP+tRuB6F6+4/9ihcj8L17j8=",
          "dtype": "f8"
         },
         "yaxis": "y"
        },
        {
         "error_y": {
          "array": {
           "bdata": "nbxCeUnxfj/bNZBCheN8P1tERQybHoA/KTJ/1OwCjD8slNl7WbSAPwAAAAAAAAAAAAAAAAAAAAAAAAAAAAAAAAAAAAAAAAAAAAAAAAAAAAA=",
           "dtype": "f8"
          },
          "type": "data"
         },
         "line": {
          "color": "blue"
         },
         "mode": "lines+markers",
         "name": "Training",
         "showlegend": false,
         "type": "scatter",
         "x": {
          "bdata": "LUMc6+I2Gj83LyQ3a403PxUuouQmKVU/lZneAw8Dcz/HCCZS0xSRP8vZ6lmPsa4/tLPAzqaTyz8mEnOhxMboP11B/YCuQgZAAAAAAAAAJEA=",
          "dtype": "f8"
         },
         "xaxis": "x2",
         "y": {
          "bdata": "MzMzMzPT5T+amZmZmdnlP2ZmZmZm1uU/mpmZmZnp5j+amZmZmYnrPwAAAAAAAPA/AAAAAAAA8D8AAAAAAADwPwAAAAAAAPA/AAAAAAAA8D8=",
          "dtype": "f8"
         },
         "yaxis": "y2"
        },
        {
         "error_y": {
          "array": {
           "bdata": "EqR3r932pj9uvEgAM9KlP6j0l5t346E/6q9Y7lPCnz9vHjpNcAafPwAAAAAAAAAAAAAAAAAAAACamZmZmZl5P3AeOk1wBo8/Xiao5R1RkD8=",
           "dtype": "f8"
          },
          "type": "data"
         },
         "line": {
          "color": "red"
         },
         "mode": "lines+markers",
         "name": "Validation",
         "showlegend": false,
         "type": "scatter",
         "x": {
          "bdata": "LUMc6+I2Gj83LyQ3a403PxUuouQmKVU/lZneAw8Dcz/HCCZS0xSRP8vZ6lmPsa4/tLPAzqaTyz8mEnOhxMboP11B/YCuQgZAAAAAAAAAJEA=",
          "dtype": "f8"
         },
         "xaxis": "x2",
         "y": {
          "bdata": "zczMzMzM5T/NzMzMzMzlPwAAAAAAwOU/zczMzMzM5j+amZmZmVnrPwAAAAAAAPA/AAAAAAAA8D9mZmZmZubvP83MzMzMDO8/zczMzMwM7T8=",
          "dtype": "f8"
         },
         "yaxis": "y2"
        }
       ],
       "layout": {
        "annotations": [
         {
          "font": {
           "size": 16
          },
          "showarrow": false,
          "text": "C Parameter Validation Curve",
          "x": 0.225,
          "xanchor": "center",
          "xref": "paper",
          "y": 1,
          "yanchor": "bottom",
          "yref": "paper"
         },
         {
          "font": {
           "size": 16
          },
          "showarrow": false,
          "text": "Gamma Parameter Validation Curve",
          "x": 0.775,
          "xanchor": "center",
          "xref": "paper",
          "y": 1,
          "yanchor": "bottom",
          "yref": "paper"
         }
        ],
        "height": 500,
        "template": {
         "data": {
          "bar": [
           {
            "error_x": {
             "color": "#2a3f5f"
            },
            "error_y": {
             "color": "#2a3f5f"
            },
            "marker": {
             "line": {
              "color": "#E5ECF6",
              "width": 0.5
             },
             "pattern": {
              "fillmode": "overlay",
              "size": 10,
              "solidity": 0.2
             }
            },
            "type": "bar"
           }
          ],
          "barpolar": [
           {
            "marker": {
             "line": {
              "color": "#E5ECF6",
              "width": 0.5
             },
             "pattern": {
              "fillmode": "overlay",
              "size": 10,
              "solidity": 0.2
             }
            },
            "type": "barpolar"
           }
          ],
          "carpet": [
           {
            "aaxis": {
             "endlinecolor": "#2a3f5f",
             "gridcolor": "white",
             "linecolor": "white",
             "minorgridcolor": "white",
             "startlinecolor": "#2a3f5f"
            },
            "baxis": {
             "endlinecolor": "#2a3f5f",
             "gridcolor": "white",
             "linecolor": "white",
             "minorgridcolor": "white",
             "startlinecolor": "#2a3f5f"
            },
            "type": "carpet"
           }
          ],
          "choropleth": [
           {
            "colorbar": {
             "outlinewidth": 0,
             "ticks": ""
            },
            "type": "choropleth"
           }
          ],
          "contour": [
           {
            "colorbar": {
             "outlinewidth": 0,
             "ticks": ""
            },
            "colorscale": [
             [
              0,
              "#0d0887"
             ],
             [
              0.1111111111111111,
              "#46039f"
             ],
             [
              0.2222222222222222,
              "#7201a8"
             ],
             [
              0.3333333333333333,
              "#9c179e"
             ],
             [
              0.4444444444444444,
              "#bd3786"
             ],
             [
              0.5555555555555556,
              "#d8576b"
             ],
             [
              0.6666666666666666,
              "#ed7953"
             ],
             [
              0.7777777777777778,
              "#fb9f3a"
             ],
             [
              0.8888888888888888,
              "#fdca26"
             ],
             [
              1,
              "#f0f921"
             ]
            ],
            "type": "contour"
           }
          ],
          "contourcarpet": [
           {
            "colorbar": {
             "outlinewidth": 0,
             "ticks": ""
            },
            "type": "contourcarpet"
           }
          ],
          "heatmap": [
           {
            "colorbar": {
             "outlinewidth": 0,
             "ticks": ""
            },
            "colorscale": [
             [
              0,
              "#0d0887"
             ],
             [
              0.1111111111111111,
              "#46039f"
             ],
             [
              0.2222222222222222,
              "#7201a8"
             ],
             [
              0.3333333333333333,
              "#9c179e"
             ],
             [
              0.4444444444444444,
              "#bd3786"
             ],
             [
              0.5555555555555556,
              "#d8576b"
             ],
             [
              0.6666666666666666,
              "#ed7953"
             ],
             [
              0.7777777777777778,
              "#fb9f3a"
             ],
             [
              0.8888888888888888,
              "#fdca26"
             ],
             [
              1,
              "#f0f921"
             ]
            ],
            "type": "heatmap"
           }
          ],
          "histogram": [
           {
            "marker": {
             "pattern": {
              "fillmode": "overlay",
              "size": 10,
              "solidity": 0.2
             }
            },
            "type": "histogram"
           }
          ],
          "histogram2d": [
           {
            "colorbar": {
             "outlinewidth": 0,
             "ticks": ""
            },
            "colorscale": [
             [
              0,
              "#0d0887"
             ],
             [
              0.1111111111111111,
              "#46039f"
             ],
             [
              0.2222222222222222,
              "#7201a8"
             ],
             [
              0.3333333333333333,
              "#9c179e"
             ],
             [
              0.4444444444444444,
              "#bd3786"
             ],
             [
              0.5555555555555556,
              "#d8576b"
             ],
             [
              0.6666666666666666,
              "#ed7953"
             ],
             [
              0.7777777777777778,
              "#fb9f3a"
             ],
             [
              0.8888888888888888,
              "#fdca26"
             ],
             [
              1,
              "#f0f921"
             ]
            ],
            "type": "histogram2d"
           }
          ],
          "histogram2dcontour": [
           {
            "colorbar": {
             "outlinewidth": 0,
             "ticks": ""
            },
            "colorscale": [
             [
              0,
              "#0d0887"
             ],
             [
              0.1111111111111111,
              "#46039f"
             ],
             [
              0.2222222222222222,
              "#7201a8"
             ],
             [
              0.3333333333333333,
              "#9c179e"
             ],
             [
              0.4444444444444444,
              "#bd3786"
             ],
             [
              0.5555555555555556,
              "#d8576b"
             ],
             [
              0.6666666666666666,
              "#ed7953"
             ],
             [
              0.7777777777777778,
              "#fb9f3a"
             ],
             [
              0.8888888888888888,
              "#fdca26"
             ],
             [
              1,
              "#f0f921"
             ]
            ],
            "type": "histogram2dcontour"
           }
          ],
          "mesh3d": [
           {
            "colorbar": {
             "outlinewidth": 0,
             "ticks": ""
            },
            "type": "mesh3d"
           }
          ],
          "parcoords": [
           {
            "line": {
             "colorbar": {
              "outlinewidth": 0,
              "ticks": ""
             }
            },
            "type": "parcoords"
           }
          ],
          "pie": [
           {
            "automargin": true,
            "type": "pie"
           }
          ],
          "scatter": [
           {
            "fillpattern": {
             "fillmode": "overlay",
             "size": 10,
             "solidity": 0.2
            },
            "type": "scatter"
           }
          ],
          "scatter3d": [
           {
            "line": {
             "colorbar": {
              "outlinewidth": 0,
              "ticks": ""
             }
            },
            "marker": {
             "colorbar": {
              "outlinewidth": 0,
              "ticks": ""
             }
            },
            "type": "scatter3d"
           }
          ],
          "scattercarpet": [
           {
            "marker": {
             "colorbar": {
              "outlinewidth": 0,
              "ticks": ""
             }
            },
            "type": "scattercarpet"
           }
          ],
          "scattergeo": [
           {
            "marker": {
             "colorbar": {
              "outlinewidth": 0,
              "ticks": ""
             }
            },
            "type": "scattergeo"
           }
          ],
          "scattergl": [
           {
            "marker": {
             "colorbar": {
              "outlinewidth": 0,
              "ticks": ""
             }
            },
            "type": "scattergl"
           }
          ],
          "scattermap": [
           {
            "marker": {
             "colorbar": {
              "outlinewidth": 0,
              "ticks": ""
             }
            },
            "type": "scattermap"
           }
          ],
          "scattermapbox": [
           {
            "marker": {
             "colorbar": {
              "outlinewidth": 0,
              "ticks": ""
             }
            },
            "type": "scattermapbox"
           }
          ],
          "scatterpolar": [
           {
            "marker": {
             "colorbar": {
              "outlinewidth": 0,
              "ticks": ""
             }
            },
            "type": "scatterpolar"
           }
          ],
          "scatterpolargl": [
           {
            "marker": {
             "colorbar": {
              "outlinewidth": 0,
              "ticks": ""
             }
            },
            "type": "scatterpolargl"
           }
          ],
          "scatterternary": [
           {
            "marker": {
             "colorbar": {
              "outlinewidth": 0,
              "ticks": ""
             }
            },
            "type": "scatterternary"
           }
          ],
          "surface": [
           {
            "colorbar": {
             "outlinewidth": 0,
             "ticks": ""
            },
            "colorscale": [
             [
              0,
              "#0d0887"
             ],
             [
              0.1111111111111111,
              "#46039f"
             ],
             [
              0.2222222222222222,
              "#7201a8"
             ],
             [
              0.3333333333333333,
              "#9c179e"
             ],
             [
              0.4444444444444444,
              "#bd3786"
             ],
             [
              0.5555555555555556,
              "#d8576b"
             ],
             [
              0.6666666666666666,
              "#ed7953"
             ],
             [
              0.7777777777777778,
              "#fb9f3a"
             ],
             [
              0.8888888888888888,
              "#fdca26"
             ],
             [
              1,
              "#f0f921"
             ]
            ],
            "type": "surface"
           }
          ],
          "table": [
           {
            "cells": {
             "fill": {
              "color": "#EBF0F8"
             },
             "line": {
              "color": "white"
             }
            },
            "header": {
             "fill": {
              "color": "#C8D4E3"
             },
             "line": {
              "color": "white"
             }
            },
            "type": "table"
           }
          ]
         },
         "layout": {
          "annotationdefaults": {
           "arrowcolor": "#2a3f5f",
           "arrowhead": 0,
           "arrowwidth": 1
          },
          "autotypenumbers": "strict",
          "coloraxis": {
           "colorbar": {
            "outlinewidth": 0,
            "ticks": ""
           }
          },
          "colorscale": {
           "diverging": [
            [
             0,
             "#8e0152"
            ],
            [
             0.1,
             "#c51b7d"
            ],
            [
             0.2,
             "#de77ae"
            ],
            [
             0.3,
             "#f1b6da"
            ],
            [
             0.4,
             "#fde0ef"
            ],
            [
             0.5,
             "#f7f7f7"
            ],
            [
             0.6,
             "#e6f5d0"
            ],
            [
             0.7,
             "#b8e186"
            ],
            [
             0.8,
             "#7fbc41"
            ],
            [
             0.9,
             "#4d9221"
            ],
            [
             1,
             "#276419"
            ]
           ],
           "sequential": [
            [
             0,
             "#0d0887"
            ],
            [
             0.1111111111111111,
             "#46039f"
            ],
            [
             0.2222222222222222,
             "#7201a8"
            ],
            [
             0.3333333333333333,
             "#9c179e"
            ],
            [
             0.4444444444444444,
             "#bd3786"
            ],
            [
             0.5555555555555556,
             "#d8576b"
            ],
            [
             0.6666666666666666,
             "#ed7953"
            ],
            [
             0.7777777777777778,
             "#fb9f3a"
            ],
            [
             0.8888888888888888,
             "#fdca26"
            ],
            [
             1,
             "#f0f921"
            ]
           ],
           "sequentialminus": [
            [
             0,
             "#0d0887"
            ],
            [
             0.1111111111111111,
             "#46039f"
            ],
            [
             0.2222222222222222,
             "#7201a8"
            ],
            [
             0.3333333333333333,
             "#9c179e"
            ],
            [
             0.4444444444444444,
             "#bd3786"
            ],
            [
             0.5555555555555556,
             "#d8576b"
            ],
            [
             0.6666666666666666,
             "#ed7953"
            ],
            [
             0.7777777777777778,
             "#fb9f3a"
            ],
            [
             0.8888888888888888,
             "#fdca26"
            ],
            [
             1,
             "#f0f921"
            ]
           ]
          },
          "colorway": [
           "#636efa",
           "#EF553B",
           "#00cc96",
           "#ab63fa",
           "#FFA15A",
           "#19d3f3",
           "#FF6692",
           "#B6E880",
           "#FF97FF",
           "#FECB52"
          ],
          "font": {
           "color": "#2a3f5f"
          },
          "geo": {
           "bgcolor": "white",
           "lakecolor": "white",
           "landcolor": "#E5ECF6",
           "showlakes": true,
           "showland": true,
           "subunitcolor": "white"
          },
          "hoverlabel": {
           "align": "left"
          },
          "hovermode": "closest",
          "mapbox": {
           "style": "light"
          },
          "paper_bgcolor": "white",
          "plot_bgcolor": "#E5ECF6",
          "polar": {
           "angularaxis": {
            "gridcolor": "white",
            "linecolor": "white",
            "ticks": ""
           },
           "bgcolor": "#E5ECF6",
           "radialaxis": {
            "gridcolor": "white",
            "linecolor": "white",
            "ticks": ""
           }
          },
          "scene": {
           "xaxis": {
            "backgroundcolor": "#E5ECF6",
            "gridcolor": "white",
            "gridwidth": 2,
            "linecolor": "white",
            "showbackground": true,
            "ticks": "",
            "zerolinecolor": "white"
           },
           "yaxis": {
            "backgroundcolor": "#E5ECF6",
            "gridcolor": "white",
            "gridwidth": 2,
            "linecolor": "white",
            "showbackground": true,
            "ticks": "",
            "zerolinecolor": "white"
           },
           "zaxis": {
            "backgroundcolor": "#E5ECF6",
            "gridcolor": "white",
            "gridwidth": 2,
            "linecolor": "white",
            "showbackground": true,
            "ticks": "",
            "zerolinecolor": "white"
           }
          },
          "shapedefaults": {
           "line": {
            "color": "#2a3f5f"
           }
          },
          "ternary": {
           "aaxis": {
            "gridcolor": "white",
            "linecolor": "white",
            "ticks": ""
           },
           "baxis": {
            "gridcolor": "white",
            "linecolor": "white",
            "ticks": ""
           },
           "bgcolor": "#E5ECF6",
           "caxis": {
            "gridcolor": "white",
            "linecolor": "white",
            "ticks": ""
           }
          },
          "title": {
           "x": 0.05
          },
          "xaxis": {
           "automargin": true,
           "gridcolor": "white",
           "linecolor": "white",
           "ticks": "",
           "title": {
            "standoff": 15
           },
           "zerolinecolor": "white",
           "zerolinewidth": 2
          },
          "yaxis": {
           "automargin": true,
           "gridcolor": "white",
           "linecolor": "white",
           "ticks": "",
           "title": {
            "standoff": 15
           },
           "zerolinecolor": "white",
           "zerolinewidth": 2
          }
         }
        },
        "title": {
         "text": "SVM Validation Curves"
        },
        "xaxis": {
         "anchor": "y",
         "domain": [
          0,
          0.45
         ],
         "title": {
          "text": "C Parameter"
         },
         "type": "log"
        },
        "xaxis2": {
         "anchor": "y2",
         "domain": [
          0.55,
          1
         ],
         "title": {
          "text": "Gamma Parameter"
         },
         "type": "log"
        },
        "yaxis": {
         "anchor": "x",
         "domain": [
          0,
          1
         ],
         "title": {
          "text": "Accuracy"
         }
        },
        "yaxis2": {
         "anchor": "x2",
         "domain": [
          0,
          1
         ],
         "title": {
          "text": "Accuracy"
         }
        }
       }
      }
     },
     "metadata": {},
     "output_type": "display_data"
    },
    {
     "name": "stdout",
     "output_type": "stream",
     "text": [
      "\n",
      " Model Complexity Analysis:\n",
      "Support Vector Statistics:\n",
      "• Linear SVM: 65 support vectors (8.1% of training data)\n",
      "• RBF SVM: 94 support vectors (14.7% of training data)\n",
      "• SVR: 777 support vectors (97.1% of training data)\n",
      "\n",
      "Linear SVM Margin Analysis:\n",
      "• Decision boundary margin: 0.6751\n",
      "• This represents the distance between support vectors and decision boundary\n",
      "\n",
      "Training Time Comparison:\n",
      "• Linear SVM: 0.002 seconds\n",
      "• RBF SVM: 0.002 seconds\n"
     ]
    }
   ],
   "source": [
    "# 4. LEARNING CURVES AND MODEL COMPLEXITY\n",
    "print(\" 4. LEARNING CURVES AND MODEL COMPLEXITY\")\n",
    "print(\"=\" * 41)\n",
    "\n",
    "# Learning curves for different models\n",
    "def plot_learning_curves(estimator, X, y, title, cv=5):\n",
    " \"\"\"Plot learning curves for an estimator\"\"\"\n",
    "\n",
    " train_sizes = np.linspace(0.1, 1.0, 10)\n",
    " train_sizes_abs, train_scores, val_scores = learning_curve(\n",
    " estimator, X, y, train_sizes=train_sizes, cv=cv, n_jobs=-1, random_state=42\n",
    " )\n",
    "\n",
    " train_mean = train_scores.mean(axis=1)\n",
    " train_std = train_scores.std(axis=1)\n",
    " val_mean = val_scores.mean(axis=1)\n",
    " val_std = val_scores.std(axis=1)\n",
    "\n",
    " return train_sizes_abs, train_mean, train_std, val_mean, val_std\n",
    "\n",
    "# Generate learning curves for different SVM configurations\n",
    "print(\" Generating Learning Curves...\")\n",
    "\n",
    "# Linear SVM learning curve\n",
    "linear_svm_lc = SVC(kernel='linear', C=optimal_C, random_state=42)\n",
    "train_sizes, lin_train_mean, lin_train_std, lin_val_mean, lin_val_std = plot_learning_curves(\n",
    " linear_svm_lc, X_linear_train_scaled, y_linear_train, \"Linear SVM\"\n",
    ")\n",
    "\n",
    "# RBF SVM learning curve\n",
    "rbf_svm_lc = SVC(kernel='rbf', C=grid_search.best_params_['C'],\n",
    " gamma=grid_search.best_params_['gamma'], random_state=42)\n",
    "_, rbf_train_mean, rbf_train_std, rbf_val_mean, rbf_val_std = plot_learning_curves(\n",
    " rbf_svm_lc, X_nonlinear_train_scaled, y_nonlinear_train, \"RBF SVM\"\n",
    ")\n",
    "\n",
    "# Plot learning curves\n",
    "fig_lc = make_subplots(\n",
    " rows=1, cols=2,\n",
    " subplot_titles=['Linear SVM Learning Curve', 'RBF SVM Learning Curve']\n",
    ")\n",
    "\n",
    "# Linear SVM\n",
    "fig_lc.add_trace(\n",
    " go.Scatter(\n",
    " x=train_sizes,\n",
    " y=lin_train_mean,\n",
    " mode='lines+markers',\n",
    " name='Training',\n",
    " line=dict(color='blue'),\n",
    " error_y=dict(type='data', array=lin_train_std)\n",
    " ),\n",
    " row=1, col=1\n",
    ")\n",
    "\n",
    "fig_lc.add_trace(\n",
    " go.Scatter(\n",
    " x=train_sizes,\n",
    " y=lin_val_mean,\n",
    " mode='lines+markers',\n",
    " name='Validation',\n",
    " line=dict(color='red'),\n",
    " error_y=dict(type='data', array=lin_val_std),\n",
    " showlegend=False\n",
    " ),\n",
    " row=1, col=1\n",
    ")\n",
    "\n",
    "# RBF SVM\n",
    "fig_lc.add_trace(\n",
    " go.Scatter(\n",
    " x=train_sizes,\n",
    " y=rbf_train_mean,\n",
    " mode='lines+markers',\n",
    " name='Training',\n",
    " line=dict(color='blue'),\n",
    " error_y=dict(type='data', array=rbf_train_std),\n",
    " showlegend=False\n",
    " ),\n",
    " row=1, col=2\n",
    ")\n",
    "\n",
    "fig_lc.add_trace(\n",
    " go.Scatter(\n",
    " x=train_sizes,\n",
    " y=rbf_val_mean,\n",
    " mode='lines+markers',\n",
    " name='Validation',\n",
    " line=dict(color='red'),\n",
    " error_y=dict(type='data', array=rbf_val_std),\n",
    " showlegend=False\n",
    " ),\n",
    " row=1, col=2\n",
    ")\n",
    "\n",
    "fig_lc.update_layout(\n",
    " title=\"SVM Learning Curves\",\n",
    " height=500\n",
    ")\n",
    "\n",
    "fig_lc.update_xaxes(title_text=\"Training Set Size\", row=1, col=1)\n",
    "fig_lc.update_xaxes(title_text=\"Training Set Size\", row=1, col=2)\n",
    "fig_lc.update_yaxes(title_text=\"Accuracy\", row=1, col=1)\n",
    "fig_lc.update_yaxes(title_text=\"Accuracy\", row=1, col=2)\n",
    "\n",
    "fig_lc.show()\n",
    "\n",
    "# Validation curves for C parameter\n",
    "print(f\"\\n Validation Curves for C Parameter:\")\n",
    "\n",
    "# C parameter validation curve for Linear SVM\n",
    "C_range = np.logspace(-3, 2, 10)\n",
    "train_scores_c, val_scores_c = validation_curve(\n",
    " SVC(kernel='linear', random_state=42),\n",
    " X_linear_train_scaled, y_linear_train,\n",
    " param_name='C', param_range=C_range, cv=5, n_jobs=-1\n",
    ")\n",
    "\n",
    "train_mean_c = train_scores_c.mean(axis=1)\n",
    "train_std_c = train_scores_c.std(axis=1)\n",
    "val_mean_c = val_scores_c.mean(axis=1)\n",
    "val_std_c = val_scores_c.std(axis=1)\n",
    "\n",
    "# Gamma parameter validation curve for RBF SVM\n",
    "gamma_range = np.logspace(-4, 1, 10)\n",
    "train_scores_g, val_scores_g = validation_curve(\n",
    " SVC(kernel='rbf', C=1.0, random_state=42),\n",
    " X_nonlinear_train_scaled, y_nonlinear_train,\n",
    " param_name='gamma', param_range=gamma_range, cv=5, n_jobs=-1\n",
    ")\n",
    "\n",
    "train_mean_g = train_scores_g.mean(axis=1)\n",
    "train_std_g = train_scores_g.std(axis=1)\n",
    "val_mean_g = val_scores_g.mean(axis=1)\n",
    "val_std_g = val_scores_g.std(axis=1)\n",
    "\n",
    "# Plot validation curves\n",
    "fig_vc = make_subplots(\n",
    " rows=1, cols=2,\n",
    " subplot_titles=['C Parameter Validation Curve', 'Gamma Parameter Validation Curve']\n",
    ")\n",
    "\n",
    "# C parameter\n",
    "fig_vc.add_trace(\n",
    " go.Scatter(\n",
    " x=C_range,\n",
    " y=train_mean_c,\n",
    " mode='lines+markers',\n",
    " name='Training',\n",
    " line=dict(color='blue'),\n",
    " error_y=dict(type='data', array=train_std_c)\n",
    " ),\n",
    " row=1, col=1\n",
    ")\n",
    "\n",
    "fig_vc.add_trace(\n",
    " go.Scatter(\n",
    " x=C_range,\n",
    " y=val_mean_c,\n",
    " mode='lines+markers',\n",
    " name='Validation',\n",
    " line=dict(color='red'),\n",
    " error_y=dict(type='data', array=val_std_c),\n",
    " showlegend=False\n",
    " ),\n",
    " row=1, col=1\n",
    ")\n",
    "\n",
    "# Gamma parameter\n",
    "fig_vc.add_trace(\n",
    " go.Scatter(\n",
    " x=gamma_range,\n",
    " y=train_mean_g,\n",
    " mode='lines+markers',\n",
    " name='Training',\n",
    " line=dict(color='blue'),\n",
    " error_y=dict(type='data', array=train_std_g),\n",
    " showlegend=False\n",
    " ),\n",
    " row=1, col=2\n",
    ")\n",
    "\n",
    "fig_vc.add_trace(\n",
    " go.Scatter(\n",
    " x=gamma_range,\n",
    " y=val_mean_g,\n",
    " mode='lines+markers',\n",
    " name='Validation',\n",
    " line=dict(color='red'),\n",
    " error_y=dict(type='data', array=val_std_g),\n",
    " showlegend=False\n",
    " ),\n",
    " row=1, col=2\n",
    ")\n",
    "\n",
    "fig_vc.update_xaxes(type=\"log\", title_text=\"C Parameter\", row=1, col=1)\n",
    "fig_vc.update_xaxes(type=\"log\", title_text=\"Gamma Parameter\", row=1, col=2)\n",
    "fig_vc.update_yaxes(title_text=\"Accuracy\", row=1, col=1)\n",
    "fig_vc.update_yaxes(title_text=\"Accuracy\", row=1, col=2)\n",
    "\n",
    "fig_vc.update_layout(\n",
    " title=\"SVM Validation Curves\",\n",
    " height=500\n",
    ")\n",
    "fig_vc.show()\n",
    "\n",
    "# Model complexity analysis\n",
    "print(f\"\\n Model Complexity Analysis:\")\n",
    "\n",
    "# Support vector analysis\n",
    "print(f\"Support Vector Statistics:\")\n",
    "print(f\"• Linear SVM: {len(svm_linear_final.support_)} support vectors ({len(svm_linear_final.support_)/len(X_linear_train_scaled):.1%} of training data)\")\n",
    "print(f\"• RBF SVM: {len(best_svm.support_)} support vectors ({len(best_svm.support_)/len(X_nonlinear_train_scaled):.1%} of training data)\")\n",
    "print(f\"• SVR: {len(best_svr.support_)} support vectors ({len(best_svr.support_)/len(X_reg_train_scaled):.1%} of training data)\")\n",
    "\n",
    "# Margin analysis for Linear SVM\n",
    "margin = 2 / np.sqrt(np.sum(svm_linear_final.coef_ ** 2))\n",
    "print(f\"\\nLinear SVM Margin Analysis:\")\n",
    "print(f\"• Decision boundary margin: {margin:.4f}\")\n",
    "print(f\"• This represents the distance between support vectors and decision boundary\")\n",
    "\n",
    "# Training time comparison\n",
    "import time\n",
    "\n",
    "training_times = {}\n",
    "\n",
    "# Linear SVM timing\n",
    "start_time = time.time()\n",
    "svm_linear_timing = SVC(kernel='linear', C=optimal_C, random_state=42)\n",
    "svm_linear_timing.fit(X_linear_train_scaled, y_linear_train)\n",
    "training_times['Linear SVM'] = time.time() - start_time\n",
    "\n",
    "# RBF SVM timing\n",
    "start_time = time.time()\n",
    "svm_rbf_timing = SVC(kernel='rbf', C=1.0, random_state=42)\n",
    "svm_rbf_timing.fit(X_nonlinear_train_scaled, y_nonlinear_train)\n",
    "training_times['RBF SVM'] = time.time() - start_time\n",
    "\n",
    "print(f\"\\nTraining Time Comparison:\")\n",
    "for model, time_taken in training_times.items():\n",
    " print(f\"• {model}: {time_taken:.3f} seconds\")"
   ]
  },
  {
   "cell_type": "code",
   "execution_count": 11,
   "id": "056d6e93",
   "metadata": {},
   "outputs": [
    {
     "name": "stdout",
     "output_type": "stream",
     "text": [
      " 5. BUSINESS INSIGHTS AND STRATEGIC RECOMMENDATIONS\n",
      "======================================================\n",
      " SVM Decision Boundary Analysis:\n",
      "\n",
      "1. MODEL PERFORMANCE SUMMARY:\n",
      " • Linear SVM (Credit Approval): 97.0% accuracy\n",
      " • RBF SVM (Customer Segmentation): 100.0% accuracy\n",
      " • SVR (House Price Prediction): R² = 0.964\n",
      "\n",
      "2. SUPPORT VECTOR INSIGHTS:\n",
      " • Linear SVM uses 8.1% of training data as support vectors\n",
      " • RBF SVM uses 14.7% of training data as support vectors\n",
      " • SVR uses 97.1% of training data as support vectors\n",
      " • Linear model: Good separation with clear margin\n",
      " • RBF model: Efficient non-linear separation\n",
      "\n",
      "3. FEATURE IMPORTANCE INSIGHTS (Linear SVM):\n",
      " • #1 credit_score: 0.508 importance\n",
      " • #2 annual_income: 0.241 importance\n",
      " • #3 debt_to_income: 0.160 importance\n",
      " • Focus data quality efforts on: credit_score\n",
      " • Consider removing: employment_years (lowest impact)\n",
      "\n",
      "4. HYPERPARAMETER INSIGHTS:\n",
      " • Optimal Linear SVM C: 1.0\n",
      " - Moderate C suggests balanced regularization\n",
      " • Optimal RBF SVM parameters: C=1, gamma=scale\n",
      " - Using automatic gamma scaling\n",
      "\n",
      "5. BUSINESS APPLICATION STRATEGIES:\n",
      "\n",
      " Credit Approval System (Linear SVM):\n",
      " • Deploy for automated credit decisions\n",
      " • 97.0% accuracy reduces manual review by ~47%\n",
      " • Most important factor: credit_score\n",
      " • Support vectors represent edge cases for manual review\n",
      " • Recommended: A/B test against current decision rules\n",
      "\n",
      " Customer Segmentation (RBF SVM):\n",
      " • 100.0% accuracy for customer targeting\n",
      " • Non-linear patterns suggest complex customer behaviors\n",
      " • Use for personalized marketing campaigns\n",
      " • Support vectors identify boundary customers for special attention\n",
      "\n",
      " House Price Prediction (SVR):\n",
      " • R² = 0.964 explains 96.4% of price variance\n",
      " • Average prediction error: $28,210\n",
      " • Use for automated property valuation\n",
      " • Support vectors represent unique/complex properties\n",
      "\n",
      "6. ROI AND COST-BENEFIT ANALYSIS:\n",
      "\n",
      " Credit Approval System:\n",
      " • Manual review cost: $500,000/year\n",
      " • Automated system cost: $50,000/year\n",
      " • Cost savings: $450,000/year\n",
      " • Accuracy improvement: +27.0%\n",
      " • Break-even: ~1,111 applications\n",
      "\n",
      " Customer Segmentation:\n",
      " • Improved targeting on 50,000 customers\n",
      " • Expected conversion improvement: +15.0%\n",
      " • Additional annual revenue: $750,000\n",
      " • ROI: 8x (assuming $2/customer implementation cost)\n",
      "\n",
      "7. IMPLEMENTATION RECOMMENDATIONS:\n",
      "\n",
      " Technical Implementation:\n",
      " • Use scikit-learn Pipeline for preprocessing consistency\n",
      " • Implement model versioning and A/B testing framework\n",
      " • Monitor support vector count for model drift detection\n",
      " • Set up automated retraining when performance degrades\n",
      " • Consider approximate methods for large-scale deployment\n",
      "\n",
      " Monitoring and Maintenance:\n",
      " • Track prediction confidence and flag low-confidence cases\n",
      " • Monitor support vector characteristics over time\n",
      " • Retrain when support vector percentage changes significantly\n",
      " • Validate model assumptions quarterly\n",
      "\n",
      " Risk Management:\n",
      " • Implement prediction explanation for regulatory compliance\n",
      " • Set confidence thresholds for automated decisions\n",
      " • Maintain human oversight for edge cases\n",
      " • Regular bias audits on decision boundaries\n",
      "\n",
      "8. NEXT STEPS AND ADVANCED TECHNIQUES:\n",
      " • Experiment with ensemble methods combining multiple kernels\n",
      " • Investigate feature engineering for better linear separability\n",
      " • Consider online/incremental SVM for streaming data\n",
      " • Explore kernel customization for domain-specific problems\n",
      " • Implement SHAP values for better model interpretability\n",
      "\n",
      "================================================================================\n",
      " SVM LEARNING SUMMARY:\n",
      " Mastered linear and non-linear SVM classification\n",
      " Optimized hyperparameters using grid search and cross-validation\n",
      " Applied SVR for regression problems with kernel tricks\n",
      " Analyzed support vectors and decision boundary characteristics\n",
      " Understood model complexity trade-offs and performance curves\n",
      " Generated comprehensive business insights and ROI analysis\n",
      "================================================================================\n"
     ]
    }
   ],
   "source": [
    "# 5. BUSINESS INSIGHTS AND STRATEGIC RECOMMENDATIONS\n",
    "print(\" 5. BUSINESS INSIGHTS AND STRATEGIC RECOMMENDATIONS\")\n",
    "print(\"=\" * 54)\n",
    "\n",
    "# Decision boundary analysis and interpretability\n",
    "print(\" SVM Decision Boundary Analysis:\")\n",
    "\n",
    "print(f\"\\n1. MODEL PERFORMANCE SUMMARY:\")\n",
    "print(f\" • Linear SVM (Credit Approval): {linear_accuracy:.1%} accuracy\")\n",
    "print(f\" • RBF SVM (Customer Segmentation): {nonlinear_accuracy:.1%} accuracy\")\n",
    "print(f\" • SVR (House Price Prediction): R² = {final_r2:.3f}\")\n",
    "\n",
    "# Support vector insights\n",
    "print(f\"\\n2. SUPPORT VECTOR INSIGHTS:\")\n",
    "linear_sv_pct = len(svm_linear_final.support_) / len(X_linear_train_scaled) * 100\n",
    "rbf_sv_pct = len(best_svm.support_) / len(X_nonlinear_train_scaled) * 100\n",
    "svr_sv_pct = len(best_svr.support_) / len(X_reg_train_scaled) * 100\n",
    "\n",
    "print(f\" • Linear SVM uses {linear_sv_pct:.1f}% of training data as support vectors\")\n",
    "print(f\" • RBF SVM uses {rbf_sv_pct:.1f}% of training data as support vectors\")\n",
    "print(f\" • SVR uses {svr_sv_pct:.1f}% of training data as support vectors\")\n",
    "\n",
    "if linear_sv_pct < 50:\n",
    " print(\" • Linear model: Good separation with clear margin\")\n",
    "else:\n",
    " print(\" • Linear model: Complex decision boundary, may benefit from feature engineering\")\n",
    "\n",
    "if rbf_sv_pct < 30:\n",
    " print(\" • RBF model: Efficient non-linear separation\")\n",
    "elif rbf_sv_pct > 70:\n",
    " print(\" • RBF model: High complexity, consider regularization\")\n",
    "else:\n",
    " print(\" • RBF model: Balanced complexity for non-linear patterns\")\n",
    "\n",
    "# Feature importance insights\n",
    "print(f\"\\n3. FEATURE IMPORTANCE INSIGHTS (Linear SVM):\")\n",
    "top_3_features = importance_df.head(3)\n",
    "for i, (_, row) in enumerate(top_3_features.iterrows(), 1):\n",
    " print(f\" • #{i} {row['Feature']}: {row['Importance']:.3f} importance\")\n",
    "\n",
    "most_important = top_3_features.iloc[0]['Feature']\n",
    "least_important = importance_df.tail(1).iloc[0]['Feature']\n",
    "\n",
    "print(f\" • Focus data quality efforts on: {most_important}\")\n",
    "print(f\" • Consider removing: {least_important} (lowest impact)\")\n",
    "\n",
    "# Hyperparameter insights\n",
    "print(f\"\\n4. HYPERPARAMETER INSIGHTS:\")\n",
    "print(f\" • Optimal Linear SVM C: {optimal_C}\")\n",
    "if optimal_C < 1:\n",
    " print(\" - Low C suggests high regularization needed\")\n",
    " print(\" - Data may have noise or overlapping classes\")\n",
    "elif optimal_C > 10:\n",
    " print(\" - High C suggests low regularization needed\")\n",
    " print(\" - Data is well-separated\")\n",
    "else:\n",
    " print(\" - Moderate C suggests balanced regularization\")\n",
    "\n",
    "print(f\" • Optimal RBF SVM parameters: C={grid_search.best_params_['C']}, gamma={grid_search.best_params_['gamma']}\")\n",
    "\n",
    "rbf_c = grid_search.best_params_['C']\n",
    "rbf_gamma = grid_search.best_params_['gamma']\n",
    "\n",
    "if isinstance(rbf_gamma, str):\n",
    " print(f\" - Using automatic gamma scaling\")\n",
    "elif rbf_gamma < 0.1:\n",
    " print(f\" - Low gamma: smooth decision boundary\")\n",
    "else:\n",
    " print(f\" - High gamma: complex decision boundary\")\n",
    "\n",
    "# Business application strategies\n",
    "print(f\"\\n5. BUSINESS APPLICATION STRATEGIES:\")\n",
    "\n",
    "print(f\"\\n Credit Approval System (Linear SVM):\")\n",
    "print(f\" • Deploy for automated credit decisions\")\n",
    "print(f\" • {linear_accuracy:.1%} accuracy reduces manual review by ~{linear_accuracy*100-50:.0f}%\")\n",
    "print(f\" • Most important factor: {most_important}\")\n",
    "print(f\" • Support vectors represent edge cases for manual review\")\n",
    "print(f\" • Recommended: A/B test against current decision rules\")\n",
    "\n",
    "print(f\"\\n Customer Segmentation (RBF SVM):\")\n",
    "print(f\" • {nonlinear_accuracy:.1%} accuracy for customer targeting\")\n",
    "print(f\" • Non-linear patterns suggest complex customer behaviors\")\n",
    "print(f\" • Use for personalized marketing campaigns\")\n",
    "print(f\" • Support vectors identify boundary customers for special attention\")\n",
    "\n",
    "print(f\"\\n House Price Prediction (SVR):\")\n",
    "print(f\" • R² = {final_r2:.3f} explains {final_r2*100:.1f}% of price variance\")\n",
    "print(f\" • Average prediction error: ${final_mae:,.0f}\")\n",
    "print(f\" • Use for automated property valuation\")\n",
    "print(f\" • Support vectors represent unique/complex properties\")\n",
    "\n",
    "# ROI and cost-benefit analysis\n",
    "print(f\"\\n6. ROI AND COST-BENEFIT ANALYSIS:\")\n",
    "\n",
    "# Credit approval ROI\n",
    "credit_volume = 10000 # Annual applications\n",
    "current_approval_rate = 0.7\n",
    "manual_review_cost = 50 # per application\n",
    "automated_cost = 5 # per application\n",
    "\n",
    "manual_cost = credit_volume * manual_review_cost\n",
    "automated_cost_total = credit_volume * automated_cost\n",
    "accuracy_benefit = linear_accuracy - 0.7 # vs random/current system\n",
    "\n",
    "print(f\"\\n Credit Approval System:\")\n",
    "print(f\" • Manual review cost: ${manual_cost:,}/year\")\n",
    "print(f\" • Automated system cost: ${automated_cost_total:,}/year\")\n",
    "print(f\" • Cost savings: ${manual_cost - automated_cost_total:,}/year\")\n",
    "print(f\" • Accuracy improvement: +{accuracy_benefit:.1%}\")\n",
    "print(f\" • Break-even: ~{automated_cost_total/(manual_review_cost-automated_cost):,.0f} applications\")\n",
    "\n",
    "# Customer segmentation ROI\n",
    "customer_base = 50000\n",
    "campaign_cost_per_customer = 10\n",
    "conversion_rate_improvement = 0.15 # 15% improvement\n",
    "revenue_per_conversion = 100\n",
    "\n",
    "segmentation_revenue = customer_base * campaign_cost_per_customer * conversion_rate_improvement * revenue_per_conversion / campaign_cost_per_customer\n",
    "\n",
    "print(f\"\\n Customer Segmentation:\")\n",
    "print(f\" • Improved targeting on {customer_base:,} customers\")\n",
    "print(f\" • Expected conversion improvement: +{conversion_rate_improvement:.1%}\")\n",
    "print(f\" • Additional annual revenue: ${segmentation_revenue:,.0f}\")\n",
    "print(f\" • ROI: {segmentation_revenue/(customer_base*2):,.0f}x (assuming $2/customer implementation cost)\")\n",
    "\n",
    "# Implementation recommendations\n",
    "print(f\"\\n7. IMPLEMENTATION RECOMMENDATIONS:\")\n",
    "\n",
    "print(f\"\\n Technical Implementation:\")\n",
    "print(f\" • Use scikit-learn Pipeline for preprocessing consistency\")\n",
    "print(f\" • Implement model versioning and A/B testing framework\")\n",
    "print(f\" • Monitor support vector count for model drift detection\")\n",
    "print(f\" • Set up automated retraining when performance degrades\")\n",
    "print(f\" • Consider approximate methods for large-scale deployment\")\n",
    "\n",
    "print(f\"\\n Monitoring and Maintenance:\")\n",
    "print(f\" • Track prediction confidence and flag low-confidence cases\")\n",
    "print(f\" • Monitor support vector characteristics over time\")\n",
    "print(f\" • Retrain when support vector percentage changes significantly\")\n",
    "print(f\" • Validate model assumptions quarterly\")\n",
    "\n",
    "print(f\"\\n Risk Management:\")\n",
    "print(f\" • Implement prediction explanation for regulatory compliance\")\n",
    "print(f\" • Set confidence thresholds for automated decisions\")\n",
    "print(f\" • Maintain human oversight for edge cases\")\n",
    "print(f\" • Regular bias audits on decision boundaries\")\n",
    "\n",
    "print(f\"\\n8. NEXT STEPS AND ADVANCED TECHNIQUES:\")\n",
    "print(f\" • Experiment with ensemble methods combining multiple kernels\")\n",
    "print(f\" • Investigate feature engineering for better linear separability\")\n",
    "print(f\" • Consider online/incremental SVM for streaming data\")\n",
    "print(f\" • Explore kernel customization for domain-specific problems\")\n",
    "print(f\" • Implement SHAP values for better model interpretability\")\n",
    "\n",
    "print(f\"\\n\" + \"=\"*80)\n",
    "print(f\" SVM LEARNING SUMMARY:\")\n",
    "print(f\" Mastered linear and non-linear SVM classification\")\n",
    "print(f\" Optimized hyperparameters using grid search and cross-validation\")\n",
    "print(f\" Applied SVR for regression problems with kernel tricks\")\n",
    "print(f\" Analyzed support vectors and decision boundary characteristics\")\n",
    "print(f\" Understood model complexity trade-offs and performance curves\")\n",
    "print(f\" Generated comprehensive business insights and ROI analysis\")\n",
    "print(f\"=\"*80)"
   ]
  }
 ],
 "metadata": {
  "kernelspec": {
   "display_name": ".venv",
   "language": "python",
   "name": "python3"
  },
  "language_info": {
   "codemirror_mode": {
    "name": "ipython",
    "version": 3
   },
   "file_extension": ".py",
   "mimetype": "text/x-python",
   "name": "python",
   "nbconvert_exporter": "python",
   "pygments_lexer": "ipython3",
   "version": "3.13.7"
  }
 },
 "nbformat": 4,
 "nbformat_minor": 5
}
