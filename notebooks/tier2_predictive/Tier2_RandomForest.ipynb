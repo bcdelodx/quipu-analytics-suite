{
 "cells": [
  {
   "cell_type": "markdown",
   "metadata": {},
   "source": [
    "# Tier 2: Random Forest\n",
    "\n",
    "---\n",
    "\n",
    "**Author:** Brandon Deloatch\n",
    "**Affiliation:** Quipu Research Labs, LLC\n",
    "**Date:** 2025-10-02\n",
    "**Version:** v1.3\n",
    "**License:** MIT\n",
    "**Notebook ID:** af9c8a07-a69a-44d9-bb82-a24d738f13c3\n",
    "\n",
    "---\n",
    "\n",
    "## Citation\n",
    "Brandon Deloatch, \"Tier 2: Random Forest,\" Quipu Research Labs, LLC, v1.3, 2025-10-02.\n",
    "\n",
    "Please cite this notebook if used or adapted in publications, presentations, or derivative work.\n",
    "\n",
    "---\n",
    "\n",
    "## Contributors / Acknowledgments\n",
    "- **Primary Author:** Brandon Deloatch (Quipu Research Labs, LLC)\n",
    "- **Institutional Support:** Quipu Research Labs, LLC - Advanced Analytics Division\n",
    "- **Technical Framework:** Built on scikit-learn, pandas, numpy, and plotly ecosystems\n",
    "- **Methodological Foundation:** Statistical learning principles and modern data science best practices\n",
    "\n",
    "---\n",
    "\n",
    "## Version History\n",
    "| Version | Date | Notes |\n",
    "|---------|------|-------|\n",
    "| v1.3 | 2025-10-02 | Enhanced professional formatting, comprehensive documentation, interactive visualizations |\n",
    "| v1.2 | 2024-09-15 | Updated analysis methods, improved data generation algorithms |\n",
    "| v1.0 | 2024-06-10 | Initial release with core analytical framework |\n",
    "\n",
    "---\n",
    "\n",
    "## Environment Dependencies\n",
    "- **Python:** 3.8+\n",
    "- **Core Libraries:** pandas 2.0+, numpy 1.24+, scikit-learn 1.3+\n",
    "- **Visualization:** plotly 5.0+, matplotlib 3.7+\n",
    "- **Statistical:** scipy 1.10+, statsmodels 0.14+\n",
    "- **Development:** jupyter-lab 4.0+, ipywidgets 8.0+\n",
    "\n",
    "> **Reproducibility Note:** Use requirements.txt or environment.yml for exact dependency matching.\n",
    "\n",
    "---\n",
    "\n",
    "## Data Provenance\n",
    "| Dataset | Source | License | Notes |\n",
    "|---------|--------|---------|-------|\n",
    "| Synthetic Data | Generated in-notebook | MIT | Custom algorithms for realistic simulation |\n",
    "| Statistical Distributions | NumPy/SciPy | BSD-3-Clause | Standard library implementations |\n",
    "| ML Algorithms | Scikit-learn | BSD-3-Clause | Industry-standard implementations |\n",
    "| Visualization Schemas | Plotly | MIT | Interactive dashboard frameworks |\n",
    "\n",
    "---\n",
    "\n",
    "## Execution Provenance Logs\n",
    "- **Created:** 2025-10-02\n",
    "- **Notebook ID:** af9c8a07-a69a-44d9-bb82-a24d738f13c3\n",
    "- **Execution Environment:** Jupyter Lab / VS Code\n",
    "- **Computational Requirements:** Standard laptop/workstation (2GB+ RAM recommended)\n",
    "\n",
    "> **Auto-tracking:** Execution metadata can be programmatically captured for reproducibility.\n",
    "\n",
    "---\n",
    "\n",
    "## Disclaimer & Responsible Use\n",
    "This notebook is provided \"as-is\" for educational, research, and professional development purposes. Users assume full responsibility for any results, applications, or decisions derived from this analysis.\n",
    "\n",
    "**Professional Standards:**\n",
    "- Validate all results against domain expertise and additional data sources\n",
    "- Respect licensing and attribution requirements for all dependencies\n",
    "- Follow ethical guidelines for data analysis and algorithmic decision-making\n",
    "- Credit all methodological sources and derivative frameworks appropriately\n",
    "\n",
    "**Academic & Commercial Use:**\n",
    "- Permitted under MIT license with proper attribution\n",
    "- Suitable for educational curriculum and professional training\n",
    "- Appropriate for commercial adaptation with citation requirements\n",
    "- Recommended for reproducible research and transparent analytics\n",
    "\n",
    "---\n",
    "\n"
   ]
  },
  {
   "cell_type": "code",
   "execution_count": 8,
   "id": "9030deb3",
   "metadata": {},
   "outputs": [
    {
     "name": "stdout",
     "output_type": "stream",
     "text": [
      " Tier 2: Random Forest - Libraries Loaded Successfully!\n",
      "=================================================================\n",
      "Available Random Forest Techniques:\n",
      "• Random Forest Classification - Ensemble voting for robust classification\n",
      "• Random Forest Regression - Ensemble averaging for continuous prediction\n",
      "• Feature Importance Analysis - Variable ranking and selection\n",
      "• Out-of-Bag (OOB) Validation - Built-in model validation\n",
      "• Hyperparameter Optimization - n_estimators, max_depth, min_samples tuning\n",
      "• Ensemble Interpretation - Understanding collective decision making\n"
     ]
    }
   ],
   "source": [
    "# Import Essential Libraries\n",
    "import pandas as pd\n",
    "import numpy as np\n",
    "import matplotlib.pyplot as plt\n",
    "import seaborn as sns\n",
    "import plotly.express as px\n",
    "import plotly.graph_objects as go\n",
    "from plotly.subplots import make_subplots\n",
    "import plotly.figure_factory as ff\n",
    "\n",
    "# Scikit-learn imports\n",
    "from sklearn.ensemble import RandomForestClassifier, RandomForestRegressor\n",
    "from sklearn.model_selection import train_test_split, cross_val_score, GridSearchCV\n",
    "from sklearn.preprocessing import StandardScaler, LabelEncoder\n",
    "from sklearn.metrics import accuracy_score, classification_report, confusion_matrix\n",
    "from sklearn.metrics import mean_squared_error, r2_score, roc_curve, auc, roc_auc_score\n",
    "from sklearn.metrics import precision_recall_curve, mean_absolute_error\n",
    "from sklearn.tree import DecisionTreeClassifier\n",
    "\n",
    "# Feature selection\n",
    "from sklearn.feature_selection import SelectFromModel\n",
    "from sklearn.inspection import permutation_importance\n",
    "\n",
    "import warnings\n",
    "warnings.filterwarnings('ignore')\n",
    "\n",
    "print(\" Tier 2: Random Forest - Libraries Loaded Successfully!\")\n",
    "print(\"=\" * 65)\n",
    "print(\"Available Random Forest Techniques:\")\n",
    "print(\"• Random Forest Classification - Ensemble voting for robust classification\")\n",
    "print(\"• Random Forest Regression - Ensemble averaging for continuous prediction\")\n",
    "print(\"• Feature Importance Analysis - Variable ranking and selection\")\n",
    "print(\"• Out-of-Bag (OOB) Validation - Built-in model validation\")\n",
    "print(\"• Hyperparameter Optimization - n_estimators, max_depth, min_samples tuning\")\n",
    "print(\"• Ensemble Interpretation - Understanding collective decision making\")"
   ]
  },
  {
   "cell_type": "code",
   "execution_count": 4,
   "id": "452b2646",
   "metadata": {},
   "outputs": [
    {
     "name": "stdout",
     "output_type": "stream",
     "text": [
      " Generating Random Forest optimized datasets...\n",
      "Classification Dataset (Employee Performance): (1200, 12)\n",
      "Regression Dataset (House Prices): (1000, 16)\n",
      "High-dimensional Dataset (Gene Expression): (400, 101)\n",
      "\n",
      "Classification Dataset (Employee Performance):\n",
      "         age  years_experience  education_level  training_hours  \\\n",
      "0  39.967142          1.221915                4       22.341830   \n",
      "1  33.617357          6.014030                3       19.893945   \n",
      "2  41.476885         16.121003                2       47.692832   \n",
      "3  50.230299          5.601642                3       24.917289   \n",
      "4  32.658466          9.551511                2        5.000000   \n",
      "\n",
      "   projects_completed  team_size  work_from_home_days  meeting_attendance  \\\n",
      "0                   8          5                    3            0.717664   \n",
      "1                   8         15                    1            0.880251   \n",
      "2                   9          3                    5            0.771468   \n",
      "3                   6          8                    2            0.936222   \n",
      "4                  10          8                    5            0.251074   \n",
      "\n",
      "   peer_collaboration_score  innovation_score  department  performance_rating  \n",
      "0                  1.680752          9.477238           3                   0  \n",
      "1                  7.095159          2.211496           3                   1  \n",
      "2                  5.026453          1.650851           4                   1  \n",
      "3                  6.628993          2.426413           0                   2  \n",
      "4                  9.193188          3.822012           0                   1  \n",
      "• Needs Improvement: 396 (33.0%)\n",
      "• Meets Expectations: 408 (34.0%)\n",
      "• Exceeds Expectations: 396 (33.0%)\n",
      "\n",
      "Regression Dataset (House Prices):\n",
      "    house_size  bedrooms  bathrooms  garage_spaces  house_age     lot_size  \\\n",
      "0  1710.461710         5          3              2   3.426061  8122.235882   \n",
      "1  3802.454481         2          2              3  54.345189  4837.121761   \n",
      "2  2050.234983         1          3              2  35.355910  6760.569946   \n",
      "3  1691.048280         2          5              2  45.811358  9171.579616   \n",
      "4  1783.195931         5          3              0   2.683492  3649.186524   \n",
      "\n",
      "   distance_to_downtown  school_rating  crime_rate  parks_nearby  \\\n",
      "0             30.000000       7.529877    0.608007             1   \n",
      "1              5.059932      10.000000    2.000133             2   \n",
      "2             13.441374       8.705568    1.828733             2   \n",
      "3              2.891306       9.667038    0.811518             4   \n",
      "4              3.269958       8.299540    4.719805             1   \n",
      "\n",
      "   shopping_centers_nearby  renovation_score  has_pool  has_fireplace  \\\n",
      "0                        2          8.670966         0              1   \n",
      "1                        1          7.734154         0              1   \n",
      "2                        2          4.629479         1              1   \n",
      "3                        2          7.324950         1              1   \n",
      "4                        3          5.802654         1              0   \n",
      "\n",
      "   has_basement          price  \n",
      "0             1  465101.514146  \n",
      "1             1  644797.046431  \n",
      "2             0  463384.839425  \n",
      "3             1  535863.390161  \n",
      "4             0  486026.283098  \n",
      "Price Range: $221,261 - $978,181\n",
      "Median Price: $563,163\n",
      "\n",
      "High-dimensional Dataset (Gene Expression):\n",
      "   Gene_001  Gene_002  Gene_003  Gene_004  Gene_005  Gene_006  Gene_007  \\\n",
      "0  2.714194  1.642056  2.912334  3.748148  1.568300  0.906118  3.136744   \n",
      "1 -1.415371 -0.420645 -0.342715 -0.802277 -0.161286  0.404051  1.886186   \n",
      "2  1.493497  2.174209  2.895692  3.944954  0.635396  0.955172  2.047362   \n",
      "3 -0.828995 -0.560181  0.747294  0.610370 -0.020902  0.117327  1.277665   \n",
      "4 -1.594428 -0.599375  0.005244  0.046981 -0.450065  0.622850 -1.067620   \n",
      "\n",
      "   Gene_008  Gene_009  Gene_010  ...  Gene_092  Gene_093  Gene_094  Gene_095  \\\n",
      "0  3.551232  0.683740  3.201321  ...  0.968645 -0.702053 -0.327662 -0.392108   \n",
      "1  0.174578  0.257550 -0.074446  ...  0.856399  0.214094 -1.245739  0.173181   \n",
      "2  2.774766  2.258688  5.738230  ... -0.493001 -0.589365  0.849602  0.357015   \n",
      "3 -0.591571  0.547097 -0.202193  ...  0.491919 -1.320233  1.831459  1.179440   \n",
      "4 -0.142379  0.120296  0.514439  ...  1.479944  0.077368 -0.861284  1.523124   \n",
      "\n",
      "   Gene_096  Gene_097  Gene_098  Gene_099  Gene_100  disease_status  \n",
      "0 -1.463515  0.296120  0.261055  0.005113 -0.234587               1  \n",
      "1  0.385317 -0.883857  0.153725  0.058209 -1.142970               0  \n",
      "2 -0.692910  0.899600  0.307300  0.812862  0.629629               1  \n",
      "3 -0.469176 -1.713135  1.353872 -0.114540  1.237816               0  \n",
      "4  0.538910 -1.037246 -0.190339 -0.875618 -1.382800               0  \n",
      "\n",
      "[5 rows x 101 columns]\n",
      "Disease Distribution: {1: 206, 0: 194}\n"
     ]
    }
   ],
   "source": [
    "# Generate Comprehensive Datasets for Random Forest Analysis\n",
    "np.random.seed(42)\n",
    "\n",
    "def generate_random_forest_datasets():\n",
    " \"\"\"Generate datasets optimized for Random Forest analysis\"\"\"\n",
    "\n",
    " # 1. CLASSIFICATION DATASET - Employee Performance Prediction\n",
    " n_employees = 1200\n",
    "\n",
    " # Employee demographics\n",
    " age = np.random.normal(35, 10, n_employees)\n",
    " age = np.clip(age, 22, 65)\n",
    "\n",
    " years_experience = np.random.exponential(scale=5, size=n_employees) + 1\n",
    " years_experience = np.clip(years_experience, 1, 30)\n",
    "\n",
    " education_level = np.random.choice([1, 2, 3, 4], size=n_employees, p=[0.2, 0.3, 0.3, 0.2])\n",
    " # 1=High School, 2=Bachelor's, 3=Master's, 4=PhD\n",
    "\n",
    " # Performance-related features\n",
    " training_hours = np.random.gamma(shape=2, scale=20, size=n_employees)\n",
    " training_hours = np.clip(training_hours, 5, 120)\n",
    "\n",
    " projects_completed = np.random.poisson(lam=8, size=n_employees) + 1\n",
    "\n",
    " team_size = np.random.choice([3, 5, 8, 12, 15], size=n_employees, p=[0.2, 0.3, 0.25, 0.15, 0.1])\n",
    "\n",
    " work_from_home_days = np.random.poisson(lam=2, size=n_employees)\n",
    " work_from_home_days = np.clip(work_from_home_days, 0, 5)\n",
    "\n",
    " # Behavioral features\n",
    " meeting_attendance = np.random.beta(a=8, b=2, size=n_employees) # High attendance generally\n",
    "\n",
    " peer_collaboration_score = np.random.normal(7, 2, n_employees)\n",
    " peer_collaboration_score = np.clip(peer_collaboration_score, 1, 10)\n",
    "\n",
    " innovation_score = np.random.gamma(shape=3, scale=2, size=n_employees)\n",
    " innovation_score = np.clip(innovation_score, 1, 10)\n",
    "\n",
    " # Department (affects performance patterns)\n",
    " departments = ['Engineering', 'Sales', 'Marketing', 'HR', 'Finance']\n",
    " department = np.random.choice(departments, size=n_employees, p=[0.3, 0.25, 0.2, 0.15, 0.1])\n",
    "\n",
    " # Create realistic performance ratings with complex interactions\n",
    " performance_score = (\n",
    " 0.1 * (age - 35) / 10 + # Slight age effect\n",
    " 0.2 * (years_experience - 5) / 10 + # Experience matters\n",
    " 0.15 * (education_level - 2) + # Education impact\n",
    " 0.2 * (training_hours - 40) / 40 + # Training effect\n",
    " 0.1 * (projects_completed - 8) / 5 + # Project completion\n",
    " -0.05 * (team_size - 8) / 5 + # Smaller teams might be better\n",
    " 0.1 * (meeting_attendance - 0.8) / 0.2 + # Attendance matters\n",
    " 0.15 * (peer_collaboration_score - 7) / 3 + # Collaboration\n",
    " 0.1 * (innovation_score - 6) / 4 + # Innovation\n",
    " np.random.normal(0, 0.3, n_employees) # Random variation\n",
    " )\n",
    "\n",
    " # Adjust for department effects\n",
    " dept_effects = {'Engineering': 0.1, 'Sales': 0.05, 'Marketing': 0.0, 'HR': -0.05, 'Finance': 0.02}\n",
    " for i, dept in enumerate(department):\n",
    "     performance_score[i] += dept_effects[dept]\n",
    "\n",
    " # Convert to performance categories\n",
    " # Use percentiles to create balanced classes\n",
    " performance_percentiles = np.percentile(performance_score, [33, 67])\n",
    " performance_rating = np.zeros(n_employees, dtype=int)\n",
    " performance_rating[performance_score <= performance_percentiles[0]] = 0 # Needs Improvement\n",
    " performance_rating[(performance_score > performance_percentiles[0]) &\n",
    " (performance_score <= performance_percentiles[1])] = 1 # Meets Expectations\n",
    " performance_rating[performance_score > performance_percentiles[1]] = 2 # Exceeds Expectations\n",
    "\n",
    " # Encode department as numerical\n",
    " dept_encoder = LabelEncoder()\n",
    " department_encoded = dept_encoder.fit_transform(department)\n",
    "\n",
    " classification_df = pd.DataFrame({\n",
    " 'age': age,\n",
    " 'years_experience': years_experience,\n",
    " 'education_level': education_level,\n",
    " 'training_hours': training_hours,\n",
    " 'projects_completed': projects_completed,\n",
    " 'team_size': team_size,\n",
    " 'work_from_home_days': work_from_home_days,\n",
    " 'meeting_attendance': meeting_attendance,\n",
    " 'peer_collaboration_score': peer_collaboration_score,\n",
    " 'innovation_score': innovation_score,\n",
    " 'department': department_encoded,\n",
    " 'performance_rating': performance_rating\n",
    " })\n",
    "\n",
    " # 2. REGRESSION DATASET - Real Estate Price Prediction\n",
    " n_houses = 1000\n",
    "\n",
    " # Property characteristics\n",
    " house_size = np.random.gamma(shape=3, scale=600, size=n_houses) + 800\n",
    " house_size = np.clip(house_size, 800, 4000)\n",
    "\n",
    " bedrooms = np.random.poisson(lam=3, size=n_houses) + 1\n",
    " bedrooms = np.clip(bedrooms, 1, 6)\n",
    "\n",
    " bathrooms = np.random.poisson(lam=2, size=n_houses) + 1\n",
    " bathrooms = np.clip(bathrooms, 1, 5)\n",
    "\n",
    " garage_spaces = np.random.choice([0, 1, 2, 3], size=n_houses, p=[0.1, 0.3, 0.5, 0.1])\n",
    "\n",
    " house_age = np.random.exponential(scale=15, size=n_houses) + 1\n",
    " house_age = np.clip(house_age, 1, 100)\n",
    "\n",
    " lot_size = np.random.gamma(shape=2, scale=3000, size=n_houses) + 2000\n",
    " lot_size = np.clip(lot_size, 2000, 20000)\n",
    "\n",
    " # Location features\n",
    " distance_to_downtown = np.random.exponential(scale=8, size=n_houses) + 1\n",
    " distance_to_downtown = np.clip(distance_to_downtown, 1, 30)\n",
    "\n",
    " school_rating = np.random.beta(a=5, b=2, size=n_houses) * 10 + 1\n",
    " school_rating = np.clip(school_rating, 1, 10)\n",
    "\n",
    " crime_rate = np.random.exponential(scale=3, size=n_houses) + 0.5\n",
    " crime_rate = np.clip(crime_rate, 0.5, 15)\n",
    "\n",
    " # Neighborhood amenities\n",
    " parks_nearby = np.random.poisson(lam=2, size=n_houses)\n",
    " parks_nearby = np.clip(parks_nearby, 0, 8)\n",
    "\n",
    " shopping_centers_nearby = np.random.poisson(lam=1.5, size=n_houses)\n",
    " shopping_centers_nearby = np.clip(shopping_centers_nearby, 0, 5)\n",
    "\n",
    " # Property condition and features\n",
    " renovation_score = np.random.beta(a=3, b=2, size=n_houses) * 10\n",
    " renovation_score = np.clip(renovation_score, 1, 10)\n",
    "\n",
    " has_pool = np.random.binomial(1, 0.25, n_houses)\n",
    " has_fireplace = np.random.binomial(1, 0.4, n_houses)\n",
    " has_basement = np.random.binomial(1, 0.6, n_houses)\n",
    "\n",
    " # Generate house prices with complex non-linear relationships\n",
    " base_price = (\n",
    " house_size * 120 + # Base price per sq ft\n",
    " bedrooms * 15000 + # Bedroom premium\n",
    " bathrooms * 12000 + # Bathroom premium\n",
    " garage_spaces * 8000 + # Garage value\n",
    " -house_age * 1000 + # Depreciation\n",
    " lot_size * 10 + # Lot size value\n",
    " -distance_to_downtown * 2000 + # Location premium\n",
    " school_rating * 8000 + # School quality\n",
    " -crime_rate * 3000 + # Safety factor\n",
    " parks_nearby * 2000 + # Recreation access\n",
    " shopping_centers_nearby * 3000 + # Convenience\n",
    " renovation_score * 5000 + # Condition\n",
    " has_pool * 15000 + # Pool premium\n",
    " has_fireplace * 8000 + # Fireplace value\n",
    " has_basement * 12000 # Basement value\n",
    " )\n",
    "\n",
    " # Add non-linear interactions\n",
    " # Premium for large houses with many bedrooms\n",
    " luxury_bonus = np.where((house_size > 2500) & (bedrooms >= 4), 50000, 0)\n",
    "\n",
    " # Penalty for old houses far from downtown\n",
    " location_age_penalty = np.where((house_age > 30) & (distance_to_downtown > 15), -30000, 0)\n",
    "\n",
    " # Bonus for high-rated schools with low crime\n",
    " safe_school_bonus = np.where((school_rating > 8) & (crime_rate < 2), 25000, 0)\n",
    "\n",
    " house_price = (base_price + luxury_bonus + location_age_penalty + safe_school_bonus +\n",
    " np.random.normal(0, 20000, n_houses))\n",
    " house_price = np.maximum(house_price, 100000) # Minimum price floor\n",
    "\n",
    " regression_df = pd.DataFrame({\n",
    " 'house_size': house_size,\n",
    " 'bedrooms': bedrooms,\n",
    " 'bathrooms': bathrooms,\n",
    " 'garage_spaces': garage_spaces,\n",
    " 'house_age': house_age,\n",
    " 'lot_size': lot_size,\n",
    " 'distance_to_downtown': distance_to_downtown,\n",
    " 'school_rating': school_rating,\n",
    " 'crime_rate': crime_rate,\n",
    " 'parks_nearby': parks_nearby,\n",
    " 'shopping_centers_nearby': shopping_centers_nearby,\n",
    " 'renovation_score': renovation_score,\n",
    " 'has_pool': has_pool,\n",
    " 'has_fireplace': has_fireplace,\n",
    " 'has_basement': has_basement,\n",
    " 'price': house_price\n",
    " })\n",
    "\n",
    " # 3. HIGH-DIMENSIONAL DATASET - Gene Expression Classification\n",
    " n_samples = 400\n",
    " n_genes = 100 # Many features to showcase Random Forest's robustness\n",
    "\n",
    " # Generate gene expression data\n",
    " np.random.seed(42)\n",
    "\n",
    " # Create correlated gene groups (pathways)\n",
    " pathway_sizes = [10, 8, 12, 15, 20] # Different pathway sizes\n",
    " pathway_effects = [2.0, 1.5, 1.8, 1.2, 2.5] # Effect sizes\n",
    "\n",
    " gene_expression = np.random.normal(0, 1, (n_samples, n_genes))\n",
    "\n",
    " # Create two disease classes\n",
    " disease_status = np.random.binomial(1, 0.5, n_samples)\n",
    "\n",
    " # Add pathway effects for disease samples\n",
    " pathway_start = 0\n",
    " for pathway_size, effect in zip(pathway_sizes, pathway_effects):\n",
    "     pathway_end = pathway_start + pathway_size\n",
    "\n",
    "     # Disease samples have different expression in this pathway\n",
    "     disease_mask = disease_status == 1\n",
    "     gene_expression[disease_mask, pathway_start:pathway_end] += np.random.normal(\n",
    "         effect, 0.5, (disease_mask.sum(), pathway_size)\n",
    "     )\n",
    "\n",
    "     pathway_start = pathway_end\n",
    "\n",
    " # Add noise genes (remaining genes are just noise)\n",
    " # These should have no predictive power\n",
    "\n",
    " # Create gene names\n",
    " gene_names = [f'Gene_{i+1:03d}' for i in range(n_genes)]\n",
    "\n",
    " # Create DataFrame\n",
    " gene_df = pd.DataFrame(gene_expression, columns=gene_names)\n",
    " gene_df['disease_status'] = disease_status\n",
    "\n",
    " return classification_df, regression_df, gene_df\n",
    "\n",
    "# Generate datasets\n",
    "print(\" Generating Random Forest optimized datasets...\")\n",
    "classification_df, regression_df, gene_df = generate_random_forest_datasets()\n",
    "\n",
    "print(f\"Classification Dataset (Employee Performance): {classification_df.shape}\")\n",
    "print(f\"Regression Dataset (House Prices): {regression_df.shape}\")\n",
    "print(f\"High-dimensional Dataset (Gene Expression): {gene_df.shape}\")\n",
    "\n",
    "print(\"\\nClassification Dataset (Employee Performance):\")\n",
    "print(classification_df.head())\n",
    "performance_labels = ['Needs Improvement', 'Meets Expectations', 'Exceeds Expectations']\n",
    "perf_counts = classification_df['performance_rating'].value_counts().sort_index()\n",
    "for i, count in enumerate(perf_counts):\n",
    " print(f\"• {performance_labels[i]}: {count} ({count/len(classification_df):.1%})\")\n",
    "\n",
    "print(\"\\nRegression Dataset (House Prices):\")\n",
    "print(regression_df.head())\n",
    "print(f\"Price Range: ${regression_df['price'].min():,.0f} - ${regression_df['price'].max():,.0f}\")\n",
    "print(f\"Median Price: ${regression_df['price'].median():,.0f}\")\n",
    "\n",
    "print(\"\\nHigh-dimensional Dataset (Gene Expression):\")\n",
    "print(gene_df.head())\n",
    "print(f\"Disease Distribution: {gene_df['disease_status'].value_counts().to_dict()}\")"
   ]
  },
  {
   "cell_type": "code",
   "execution_count": 5,
   "id": "9655da80",
   "metadata": {},
   "outputs": [
    {
     "name": "stdout",
     "output_type": "stream",
     "text": [
      " 1. RANDOM FOREST CLASSIFICATION ANALYSIS\n",
      "===========================================\n",
      "Training set: (960, 11)\n",
      "Test set: (240, 11)\n",
      "Class distribution: {0: 317, 1: 326, 2: 317}\n",
      "\n",
      " Basic Random Forest Performance:\n",
      "• Test Accuracy: 0.5375\n",
      "• OOB Score: 0.5115\n",
      "• OOB Score: 0.5115\n",
      "• Cross-validation: 0.5333 ± 0.0225\n",
      "\n",
      "Classification Report:\n",
      "                      precision    recall  f1-score   support\n",
      "\n",
      "   Needs Improvement       0.62      0.65      0.63        79\n",
      "  Meets Expectations       0.41      0.34      0.37        82\n",
      "Exceeds Expectations       0.56      0.63      0.60        79\n",
      "\n",
      "            accuracy                           0.54       240\n",
      "           macro avg       0.53      0.54      0.53       240\n",
      "        weighted avg       0.53      0.54      0.53       240\n",
      "\n",
      "\n",
      " Feature Importance Analysis:\n",
      "• training_hours: 0.1444\n",
      "• peer_collaboration_score: 0.1186\n",
      "• age: 0.1161\n",
      "• innovation_score: 0.1123\n",
      "• meeting_attendance: 0.1100\n",
      "• years_experience: 0.1097\n",
      "• education_level: 0.0845\n",
      "• projects_completed: 0.0723\n",
      "• work_from_home_days: 0.0456\n",
      "• department: 0.0439\n",
      "• team_size: 0.0427\n",
      "• Cross-validation: 0.5333 ± 0.0225\n",
      "\n",
      "Classification Report:\n",
      "                      precision    recall  f1-score   support\n",
      "\n",
      "   Needs Improvement       0.62      0.65      0.63        79\n",
      "  Meets Expectations       0.41      0.34      0.37        82\n",
      "Exceeds Expectations       0.56      0.63      0.60        79\n",
      "\n",
      "            accuracy                           0.54       240\n",
      "           macro avg       0.53      0.54      0.53       240\n",
      "        weighted avg       0.53      0.54      0.53       240\n",
      "\n",
      "\n",
      " Feature Importance Analysis:\n",
      "• training_hours: 0.1444\n",
      "• peer_collaboration_score: 0.1186\n",
      "• age: 0.1161\n",
      "• innovation_score: 0.1123\n",
      "• meeting_attendance: 0.1100\n",
      "• years_experience: 0.1097\n",
      "• education_level: 0.0845\n",
      "• projects_completed: 0.0723\n",
      "• work_from_home_days: 0.0456\n",
      "• department: 0.0439\n",
      "• team_size: 0.0427\n"
     ]
    },
    {
     "data": {
      "application/vnd.plotly.v1+json": {
       "config": {
        "plotlyServerURL": "https://plot.ly"
       },
       "data": [
        {
         "hovertemplate": "Feature: %{y}<br>Importance: %{x:.4f}<extra></extra>",
         "marker": {
          "color": "lightblue"
         },
         "orientation": "h",
         "type": "bar",
         "x": {
          "bdata": "mVhsfER8wj8awXnuH12+P6Az0HWStb0/2CFWGlrBvD+sUgAmUSa8PykLLbQMGLw/V8yxbqOetT9kOB2DEYKyP4bdzfngWKc/GP2mRFl3pj+/0KA6ddilPw==",
          "dtype": "f8"
         },
         "y": [
          "training_hours",
          "peer_collaboration_score",
          "age",
          "innovation_score",
          "meeting_attendance",
          "years_experience",
          "education_level",
          "projects_completed",
          "work_from_home_days",
          "department",
          "team_size"
         ]
        }
       ],
       "layout": {
        "height": 600,
        "template": {
         "data": {
          "bar": [
           {
            "error_x": {
             "color": "#2a3f5f"
            },
            "error_y": {
             "color": "#2a3f5f"
            },
            "marker": {
             "line": {
              "color": "#E5ECF6",
              "width": 0.5
             },
             "pattern": {
              "fillmode": "overlay",
              "size": 10,
              "solidity": 0.2
             }
            },
            "type": "bar"
           }
          ],
          "barpolar": [
           {
            "marker": {
             "line": {
              "color": "#E5ECF6",
              "width": 0.5
             },
             "pattern": {
              "fillmode": "overlay",
              "size": 10,
              "solidity": 0.2
             }
            },
            "type": "barpolar"
           }
          ],
          "carpet": [
           {
            "aaxis": {
             "endlinecolor": "#2a3f5f",
             "gridcolor": "white",
             "linecolor": "white",
             "minorgridcolor": "white",
             "startlinecolor": "#2a3f5f"
            },
            "baxis": {
             "endlinecolor": "#2a3f5f",
             "gridcolor": "white",
             "linecolor": "white",
             "minorgridcolor": "white",
             "startlinecolor": "#2a3f5f"
            },
            "type": "carpet"
           }
          ],
          "choropleth": [
           {
            "colorbar": {
             "outlinewidth": 0,
             "ticks": ""
            },
            "type": "choropleth"
           }
          ],
          "contour": [
           {
            "colorbar": {
             "outlinewidth": 0,
             "ticks": ""
            },
            "colorscale": [
             [
              0,
              "#0d0887"
             ],
             [
              0.1111111111111111,
              "#46039f"
             ],
             [
              0.2222222222222222,
              "#7201a8"
             ],
             [
              0.3333333333333333,
              "#9c179e"
             ],
             [
              0.4444444444444444,
              "#bd3786"
             ],
             [
              0.5555555555555556,
              "#d8576b"
             ],
             [
              0.6666666666666666,
              "#ed7953"
             ],
             [
              0.7777777777777778,
              "#fb9f3a"
             ],
             [
              0.8888888888888888,
              "#fdca26"
             ],
             [
              1,
              "#f0f921"
             ]
            ],
            "type": "contour"
           }
          ],
          "contourcarpet": [
           {
            "colorbar": {
             "outlinewidth": 0,
             "ticks": ""
            },
            "type": "contourcarpet"
           }
          ],
          "heatmap": [
           {
            "colorbar": {
             "outlinewidth": 0,
             "ticks": ""
            },
            "colorscale": [
             [
              0,
              "#0d0887"
             ],
             [
              0.1111111111111111,
              "#46039f"
             ],
             [
              0.2222222222222222,
              "#7201a8"
             ],
             [
              0.3333333333333333,
              "#9c179e"
             ],
             [
              0.4444444444444444,
              "#bd3786"
             ],
             [
              0.5555555555555556,
              "#d8576b"
             ],
             [
              0.6666666666666666,
              "#ed7953"
             ],
             [
              0.7777777777777778,
              "#fb9f3a"
             ],
             [
              0.8888888888888888,
              "#fdca26"
             ],
             [
              1,
              "#f0f921"
             ]
            ],
            "type": "heatmap"
           }
          ],
          "histogram": [
           {
            "marker": {
             "pattern": {
              "fillmode": "overlay",
              "size": 10,
              "solidity": 0.2
             }
            },
            "type": "histogram"
           }
          ],
          "histogram2d": [
           {
            "colorbar": {
             "outlinewidth": 0,
             "ticks": ""
            },
            "colorscale": [
             [
              0,
              "#0d0887"
             ],
             [
              0.1111111111111111,
              "#46039f"
             ],
             [
              0.2222222222222222,
              "#7201a8"
             ],
             [
              0.3333333333333333,
              "#9c179e"
             ],
             [
              0.4444444444444444,
              "#bd3786"
             ],
             [
              0.5555555555555556,
              "#d8576b"
             ],
             [
              0.6666666666666666,
              "#ed7953"
             ],
             [
              0.7777777777777778,
              "#fb9f3a"
             ],
             [
              0.8888888888888888,
              "#fdca26"
             ],
             [
              1,
              "#f0f921"
             ]
            ],
            "type": "histogram2d"
           }
          ],
          "histogram2dcontour": [
           {
            "colorbar": {
             "outlinewidth": 0,
             "ticks": ""
            },
            "colorscale": [
             [
              0,
              "#0d0887"
             ],
             [
              0.1111111111111111,
              "#46039f"
             ],
             [
              0.2222222222222222,
              "#7201a8"
             ],
             [
              0.3333333333333333,
              "#9c179e"
             ],
             [
              0.4444444444444444,
              "#bd3786"
             ],
             [
              0.5555555555555556,
              "#d8576b"
             ],
             [
              0.6666666666666666,
              "#ed7953"
             ],
             [
              0.7777777777777778,
              "#fb9f3a"
             ],
             [
              0.8888888888888888,
              "#fdca26"
             ],
             [
              1,
              "#f0f921"
             ]
            ],
            "type": "histogram2dcontour"
           }
          ],
          "mesh3d": [
           {
            "colorbar": {
             "outlinewidth": 0,
             "ticks": ""
            },
            "type": "mesh3d"
           }
          ],
          "parcoords": [
           {
            "line": {
             "colorbar": {
              "outlinewidth": 0,
              "ticks": ""
             }
            },
            "type": "parcoords"
           }
          ],
          "pie": [
           {
            "automargin": true,
            "type": "pie"
           }
          ],
          "scatter": [
           {
            "fillpattern": {
             "fillmode": "overlay",
             "size": 10,
             "solidity": 0.2
            },
            "type": "scatter"
           }
          ],
          "scatter3d": [
           {
            "line": {
             "colorbar": {
              "outlinewidth": 0,
              "ticks": ""
             }
            },
            "marker": {
             "colorbar": {
              "outlinewidth": 0,
              "ticks": ""
             }
            },
            "type": "scatter3d"
           }
          ],
          "scattercarpet": [
           {
            "marker": {
             "colorbar": {
              "outlinewidth": 0,
              "ticks": ""
             }
            },
            "type": "scattercarpet"
           }
          ],
          "scattergeo": [
           {
            "marker": {
             "colorbar": {
              "outlinewidth": 0,
              "ticks": ""
             }
            },
            "type": "scattergeo"
           }
          ],
          "scattergl": [
           {
            "marker": {
             "colorbar": {
              "outlinewidth": 0,
              "ticks": ""
             }
            },
            "type": "scattergl"
           }
          ],
          "scattermap": [
           {
            "marker": {
             "colorbar": {
              "outlinewidth": 0,
              "ticks": ""
             }
            },
            "type": "scattermap"
           }
          ],
          "scattermapbox": [
           {
            "marker": {
             "colorbar": {
              "outlinewidth": 0,
              "ticks": ""
             }
            },
            "type": "scattermapbox"
           }
          ],
          "scatterpolar": [
           {
            "marker": {
             "colorbar": {
              "outlinewidth": 0,
              "ticks": ""
             }
            },
            "type": "scatterpolar"
           }
          ],
          "scatterpolargl": [
           {
            "marker": {
             "colorbar": {
              "outlinewidth": 0,
              "ticks": ""
             }
            },
            "type": "scatterpolargl"
           }
          ],
          "scatterternary": [
           {
            "marker": {
             "colorbar": {
              "outlinewidth": 0,
              "ticks": ""
             }
            },
            "type": "scatterternary"
           }
          ],
          "surface": [
           {
            "colorbar": {
             "outlinewidth": 0,
             "ticks": ""
            },
            "colorscale": [
             [
              0,
              "#0d0887"
             ],
             [
              0.1111111111111111,
              "#46039f"
             ],
             [
              0.2222222222222222,
              "#7201a8"
             ],
             [
              0.3333333333333333,
              "#9c179e"
             ],
             [
              0.4444444444444444,
              "#bd3786"
             ],
             [
              0.5555555555555556,
              "#d8576b"
             ],
             [
              0.6666666666666666,
              "#ed7953"
             ],
             [
              0.7777777777777778,
              "#fb9f3a"
             ],
             [
              0.8888888888888888,
              "#fdca26"
             ],
             [
              1,
              "#f0f921"
             ]
            ],
            "type": "surface"
           }
          ],
          "table": [
           {
            "cells": {
             "fill": {
              "color": "#EBF0F8"
             },
             "line": {
              "color": "white"
             }
            },
            "header": {
             "fill": {
              "color": "#C8D4E3"
             },
             "line": {
              "color": "white"
             }
            },
            "type": "table"
           }
          ]
         },
         "layout": {
          "annotationdefaults": {
           "arrowcolor": "#2a3f5f",
           "arrowhead": 0,
           "arrowwidth": 1
          },
          "autotypenumbers": "strict",
          "coloraxis": {
           "colorbar": {
            "outlinewidth": 0,
            "ticks": ""
           }
          },
          "colorscale": {
           "diverging": [
            [
             0,
             "#8e0152"
            ],
            [
             0.1,
             "#c51b7d"
            ],
            [
             0.2,
             "#de77ae"
            ],
            [
             0.3,
             "#f1b6da"
            ],
            [
             0.4,
             "#fde0ef"
            ],
            [
             0.5,
             "#f7f7f7"
            ],
            [
             0.6,
             "#e6f5d0"
            ],
            [
             0.7,
             "#b8e186"
            ],
            [
             0.8,
             "#7fbc41"
            ],
            [
             0.9,
             "#4d9221"
            ],
            [
             1,
             "#276419"
            ]
           ],
           "sequential": [
            [
             0,
             "#0d0887"
            ],
            [
             0.1111111111111111,
             "#46039f"
            ],
            [
             0.2222222222222222,
             "#7201a8"
            ],
            [
             0.3333333333333333,
             "#9c179e"
            ],
            [
             0.4444444444444444,
             "#bd3786"
            ],
            [
             0.5555555555555556,
             "#d8576b"
            ],
            [
             0.6666666666666666,
             "#ed7953"
            ],
            [
             0.7777777777777778,
             "#fb9f3a"
            ],
            [
             0.8888888888888888,
             "#fdca26"
            ],
            [
             1,
             "#f0f921"
            ]
           ],
           "sequentialminus": [
            [
             0,
             "#0d0887"
            ],
            [
             0.1111111111111111,
             "#46039f"
            ],
            [
             0.2222222222222222,
             "#7201a8"
            ],
            [
             0.3333333333333333,
             "#9c179e"
            ],
            [
             0.4444444444444444,
             "#bd3786"
            ],
            [
             0.5555555555555556,
             "#d8576b"
            ],
            [
             0.6666666666666666,
             "#ed7953"
            ],
            [
             0.7777777777777778,
             "#fb9f3a"
            ],
            [
             0.8888888888888888,
             "#fdca26"
            ],
            [
             1,
             "#f0f921"
            ]
           ]
          },
          "colorway": [
           "#636efa",
           "#EF553B",
           "#00cc96",
           "#ab63fa",
           "#FFA15A",
           "#19d3f3",
           "#FF6692",
           "#B6E880",
           "#FF97FF",
           "#FECB52"
          ],
          "font": {
           "color": "#2a3f5f"
          },
          "geo": {
           "bgcolor": "white",
           "lakecolor": "white",
           "landcolor": "#E5ECF6",
           "showlakes": true,
           "showland": true,
           "subunitcolor": "white"
          },
          "hoverlabel": {
           "align": "left"
          },
          "hovermode": "closest",
          "mapbox": {
           "style": "light"
          },
          "paper_bgcolor": "white",
          "plot_bgcolor": "#E5ECF6",
          "polar": {
           "angularaxis": {
            "gridcolor": "white",
            "linecolor": "white",
            "ticks": ""
           },
           "bgcolor": "#E5ECF6",
           "radialaxis": {
            "gridcolor": "white",
            "linecolor": "white",
            "ticks": ""
           }
          },
          "scene": {
           "xaxis": {
            "backgroundcolor": "#E5ECF6",
            "gridcolor": "white",
            "gridwidth": 2,
            "linecolor": "white",
            "showbackground": true,
            "ticks": "",
            "zerolinecolor": "white"
           },
           "yaxis": {
            "backgroundcolor": "#E5ECF6",
            "gridcolor": "white",
            "gridwidth": 2,
            "linecolor": "white",
            "showbackground": true,
            "ticks": "",
            "zerolinecolor": "white"
           },
           "zaxis": {
            "backgroundcolor": "#E5ECF6",
            "gridcolor": "white",
            "gridwidth": 2,
            "linecolor": "white",
            "showbackground": true,
            "ticks": "",
            "zerolinecolor": "white"
           }
          },
          "shapedefaults": {
           "line": {
            "color": "#2a3f5f"
           }
          },
          "ternary": {
           "aaxis": {
            "gridcolor": "white",
            "linecolor": "white",
            "ticks": ""
           },
           "baxis": {
            "gridcolor": "white",
            "linecolor": "white",
            "ticks": ""
           },
           "bgcolor": "#E5ECF6",
           "caxis": {
            "gridcolor": "white",
            "linecolor": "white",
            "ticks": ""
           }
          },
          "title": {
           "x": 0.05
          },
          "xaxis": {
           "automargin": true,
           "gridcolor": "white",
           "linecolor": "white",
           "ticks": "",
           "title": {
            "standoff": 15
           },
           "zerolinecolor": "white",
           "zerolinewidth": 2
          },
          "yaxis": {
           "automargin": true,
           "gridcolor": "white",
           "linecolor": "white",
           "ticks": "",
           "title": {
            "standoff": 15
           },
           "zerolinecolor": "white",
           "zerolinewidth": 2
          }
         }
        },
        "title": {
         "text": "Random Forest Feature Importance (Employee Performance)"
        },
        "xaxis": {
         "title": {
          "text": "Feature Importance"
         }
        },
        "yaxis": {
         "title": {
          "text": "Features"
         }
        }
       }
      }
     },
     "metadata": {},
     "output_type": "display_data"
    },
    {
     "name": "stdout",
     "output_type": "stream",
     "text": [
      "\n",
      " Single Decision Tree vs Random Forest:\n",
      "• Single Decision Tree Accuracy: 0.4542\n",
      "• Random Forest Accuracy: 0.5375\n",
      "• Improvement: 8.3 percentage points\n",
      "\n",
      " Hyperparameter Optimization:\n",
      "Best parameters: {'max_depth': 10, 'min_samples_leaf': 2, 'min_samples_split': 2, 'n_estimators': 200}\n",
      "Best CV score: 0.5510\n",
      "Best model test accuracy: 0.5417\n",
      "Best parameters: {'max_depth': 10, 'min_samples_leaf': 2, 'min_samples_split': 2, 'n_estimators': 200}\n",
      "Best CV score: 0.5510\n",
      "Best model test accuracy: 0.5417\n"
     ]
    },
    {
     "data": {
      "application/vnd.plotly.v1+json": {
       "config": {
        "plotlyServerURL": "https://plot.ly"
       },
       "data": [
        {
         "colorscale": [
          [
           0,
           "rgb(247,251,255)"
          ],
          [
           0.125,
           "rgb(222,235,247)"
          ],
          [
           0.25,
           "rgb(198,219,239)"
          ],
          [
           0.375,
           "rgb(158,202,225)"
          ],
          [
           0.5,
           "rgb(107,174,214)"
          ],
          [
           0.625,
           "rgb(66,146,198)"
          ],
          [
           0.75,
           "rgb(33,113,181)"
          ],
          [
           0.875,
           "rgb(8,81,156)"
          ],
          [
           1,
           "rgb(8,48,107)"
          ]
         ],
         "reversescale": false,
         "showscale": true,
         "type": "heatmap",
         "x": [
          "Needs Improvement",
          "Meets Expectations",
          "Exceeds Expectations"
         ],
         "y": [
          "Needs Improvement",
          "Meets Expectations",
          "Exceeds Expectations"
         ],
         "z": {
          "bdata": "MxUHFhwgCRQy",
          "dtype": "i1",
          "shape": "3, 3"
         }
        }
       ],
       "layout": {
        "annotations": [
         {
          "font": {
           "color": "#FFFFFF"
          },
          "showarrow": false,
          "text": "51",
          "x": "Needs Improvement",
          "xref": "x",
          "y": "Needs Improvement",
          "yref": "y"
         },
         {
          "font": {
           "color": "#000000"
          },
          "showarrow": false,
          "text": "21",
          "x": "Meets Expectations",
          "xref": "x",
          "y": "Needs Improvement",
          "yref": "y"
         },
         {
          "font": {
           "color": "#000000"
          },
          "showarrow": false,
          "text": "7",
          "x": "Exceeds Expectations",
          "xref": "x",
          "y": "Needs Improvement",
          "yref": "y"
         },
         {
          "font": {
           "color": "#000000"
          },
          "showarrow": false,
          "text": "22",
          "x": "Needs Improvement",
          "xref": "x",
          "y": "Meets Expectations",
          "yref": "y"
         },
         {
          "font": {
           "color": "#000000"
          },
          "showarrow": false,
          "text": "28",
          "x": "Meets Expectations",
          "xref": "x",
          "y": "Meets Expectations",
          "yref": "y"
         },
         {
          "font": {
           "color": "#FFFFFF"
          },
          "showarrow": false,
          "text": "32",
          "x": "Exceeds Expectations",
          "xref": "x",
          "y": "Meets Expectations",
          "yref": "y"
         },
         {
          "font": {
           "color": "#000000"
          },
          "showarrow": false,
          "text": "9",
          "x": "Needs Improvement",
          "xref": "x",
          "y": "Exceeds Expectations",
          "yref": "y"
         },
         {
          "font": {
           "color": "#000000"
          },
          "showarrow": false,
          "text": "20",
          "x": "Meets Expectations",
          "xref": "x",
          "y": "Exceeds Expectations",
          "yref": "y"
         },
         {
          "font": {
           "color": "#FFFFFF"
          },
          "showarrow": false,
          "text": "50",
          "x": "Exceeds Expectations",
          "xref": "x",
          "y": "Exceeds Expectations",
          "yref": "y"
         }
        ],
        "height": 500,
        "template": {
         "data": {
          "bar": [
           {
            "error_x": {
             "color": "#2a3f5f"
            },
            "error_y": {
             "color": "#2a3f5f"
            },
            "marker": {
             "line": {
              "color": "#E5ECF6",
              "width": 0.5
             },
             "pattern": {
              "fillmode": "overlay",
              "size": 10,
              "solidity": 0.2
             }
            },
            "type": "bar"
           }
          ],
          "barpolar": [
           {
            "marker": {
             "line": {
              "color": "#E5ECF6",
              "width": 0.5
             },
             "pattern": {
              "fillmode": "overlay",
              "size": 10,
              "solidity": 0.2
             }
            },
            "type": "barpolar"
           }
          ],
          "carpet": [
           {
            "aaxis": {
             "endlinecolor": "#2a3f5f",
             "gridcolor": "white",
             "linecolor": "white",
             "minorgridcolor": "white",
             "startlinecolor": "#2a3f5f"
            },
            "baxis": {
             "endlinecolor": "#2a3f5f",
             "gridcolor": "white",
             "linecolor": "white",
             "minorgridcolor": "white",
             "startlinecolor": "#2a3f5f"
            },
            "type": "carpet"
           }
          ],
          "choropleth": [
           {
            "colorbar": {
             "outlinewidth": 0,
             "ticks": ""
            },
            "type": "choropleth"
           }
          ],
          "contour": [
           {
            "colorbar": {
             "outlinewidth": 0,
             "ticks": ""
            },
            "colorscale": [
             [
              0,
              "#0d0887"
             ],
             [
              0.1111111111111111,
              "#46039f"
             ],
             [
              0.2222222222222222,
              "#7201a8"
             ],
             [
              0.3333333333333333,
              "#9c179e"
             ],
             [
              0.4444444444444444,
              "#bd3786"
             ],
             [
              0.5555555555555556,
              "#d8576b"
             ],
             [
              0.6666666666666666,
              "#ed7953"
             ],
             [
              0.7777777777777778,
              "#fb9f3a"
             ],
             [
              0.8888888888888888,
              "#fdca26"
             ],
             [
              1,
              "#f0f921"
             ]
            ],
            "type": "contour"
           }
          ],
          "contourcarpet": [
           {
            "colorbar": {
             "outlinewidth": 0,
             "ticks": ""
            },
            "type": "contourcarpet"
           }
          ],
          "heatmap": [
           {
            "colorbar": {
             "outlinewidth": 0,
             "ticks": ""
            },
            "colorscale": [
             [
              0,
              "#0d0887"
             ],
             [
              0.1111111111111111,
              "#46039f"
             ],
             [
              0.2222222222222222,
              "#7201a8"
             ],
             [
              0.3333333333333333,
              "#9c179e"
             ],
             [
              0.4444444444444444,
              "#bd3786"
             ],
             [
              0.5555555555555556,
              "#d8576b"
             ],
             [
              0.6666666666666666,
              "#ed7953"
             ],
             [
              0.7777777777777778,
              "#fb9f3a"
             ],
             [
              0.8888888888888888,
              "#fdca26"
             ],
             [
              1,
              "#f0f921"
             ]
            ],
            "type": "heatmap"
           }
          ],
          "histogram": [
           {
            "marker": {
             "pattern": {
              "fillmode": "overlay",
              "size": 10,
              "solidity": 0.2
             }
            },
            "type": "histogram"
           }
          ],
          "histogram2d": [
           {
            "colorbar": {
             "outlinewidth": 0,
             "ticks": ""
            },
            "colorscale": [
             [
              0,
              "#0d0887"
             ],
             [
              0.1111111111111111,
              "#46039f"
             ],
             [
              0.2222222222222222,
              "#7201a8"
             ],
             [
              0.3333333333333333,
              "#9c179e"
             ],
             [
              0.4444444444444444,
              "#bd3786"
             ],
             [
              0.5555555555555556,
              "#d8576b"
             ],
             [
              0.6666666666666666,
              "#ed7953"
             ],
             [
              0.7777777777777778,
              "#fb9f3a"
             ],
             [
              0.8888888888888888,
              "#fdca26"
             ],
             [
              1,
              "#f0f921"
             ]
            ],
            "type": "histogram2d"
           }
          ],
          "histogram2dcontour": [
           {
            "colorbar": {
             "outlinewidth": 0,
             "ticks": ""
            },
            "colorscale": [
             [
              0,
              "#0d0887"
             ],
             [
              0.1111111111111111,
              "#46039f"
             ],
             [
              0.2222222222222222,
              "#7201a8"
             ],
             [
              0.3333333333333333,
              "#9c179e"
             ],
             [
              0.4444444444444444,
              "#bd3786"
             ],
             [
              0.5555555555555556,
              "#d8576b"
             ],
             [
              0.6666666666666666,
              "#ed7953"
             ],
             [
              0.7777777777777778,
              "#fb9f3a"
             ],
             [
              0.8888888888888888,
              "#fdca26"
             ],
             [
              1,
              "#f0f921"
             ]
            ],
            "type": "histogram2dcontour"
           }
          ],
          "mesh3d": [
           {
            "colorbar": {
             "outlinewidth": 0,
             "ticks": ""
            },
            "type": "mesh3d"
           }
          ],
          "parcoords": [
           {
            "line": {
             "colorbar": {
              "outlinewidth": 0,
              "ticks": ""
             }
            },
            "type": "parcoords"
           }
          ],
          "pie": [
           {
            "automargin": true,
            "type": "pie"
           }
          ],
          "scatter": [
           {
            "fillpattern": {
             "fillmode": "overlay",
             "size": 10,
             "solidity": 0.2
            },
            "type": "scatter"
           }
          ],
          "scatter3d": [
           {
            "line": {
             "colorbar": {
              "outlinewidth": 0,
              "ticks": ""
             }
            },
            "marker": {
             "colorbar": {
              "outlinewidth": 0,
              "ticks": ""
             }
            },
            "type": "scatter3d"
           }
          ],
          "scattercarpet": [
           {
            "marker": {
             "colorbar": {
              "outlinewidth": 0,
              "ticks": ""
             }
            },
            "type": "scattercarpet"
           }
          ],
          "scattergeo": [
           {
            "marker": {
             "colorbar": {
              "outlinewidth": 0,
              "ticks": ""
             }
            },
            "type": "scattergeo"
           }
          ],
          "scattergl": [
           {
            "marker": {
             "colorbar": {
              "outlinewidth": 0,
              "ticks": ""
             }
            },
            "type": "scattergl"
           }
          ],
          "scattermap": [
           {
            "marker": {
             "colorbar": {
              "outlinewidth": 0,
              "ticks": ""
             }
            },
            "type": "scattermap"
           }
          ],
          "scattermapbox": [
           {
            "marker": {
             "colorbar": {
              "outlinewidth": 0,
              "ticks": ""
             }
            },
            "type": "scattermapbox"
           }
          ],
          "scatterpolar": [
           {
            "marker": {
             "colorbar": {
              "outlinewidth": 0,
              "ticks": ""
             }
            },
            "type": "scatterpolar"
           }
          ],
          "scatterpolargl": [
           {
            "marker": {
             "colorbar": {
              "outlinewidth": 0,
              "ticks": ""
             }
            },
            "type": "scatterpolargl"
           }
          ],
          "scatterternary": [
           {
            "marker": {
             "colorbar": {
              "outlinewidth": 0,
              "ticks": ""
             }
            },
            "type": "scatterternary"
           }
          ],
          "surface": [
           {
            "colorbar": {
             "outlinewidth": 0,
             "ticks": ""
            },
            "colorscale": [
             [
              0,
              "#0d0887"
             ],
             [
              0.1111111111111111,
              "#46039f"
             ],
             [
              0.2222222222222222,
              "#7201a8"
             ],
             [
              0.3333333333333333,
              "#9c179e"
             ],
             [
              0.4444444444444444,
              "#bd3786"
             ],
             [
              0.5555555555555556,
              "#d8576b"
             ],
             [
              0.6666666666666666,
              "#ed7953"
             ],
             [
              0.7777777777777778,
              "#fb9f3a"
             ],
             [
              0.8888888888888888,
              "#fdca26"
             ],
             [
              1,
              "#f0f921"
             ]
            ],
            "type": "surface"
           }
          ],
          "table": [
           {
            "cells": {
             "fill": {
              "color": "#EBF0F8"
             },
             "line": {
              "color": "white"
             }
            },
            "header": {
             "fill": {
              "color": "#C8D4E3"
             },
             "line": {
              "color": "white"
             }
            },
            "type": "table"
           }
          ]
         },
         "layout": {
          "annotationdefaults": {
           "arrowcolor": "#2a3f5f",
           "arrowhead": 0,
           "arrowwidth": 1
          },
          "autotypenumbers": "strict",
          "coloraxis": {
           "colorbar": {
            "outlinewidth": 0,
            "ticks": ""
           }
          },
          "colorscale": {
           "diverging": [
            [
             0,
             "#8e0152"
            ],
            [
             0.1,
             "#c51b7d"
            ],
            [
             0.2,
             "#de77ae"
            ],
            [
             0.3,
             "#f1b6da"
            ],
            [
             0.4,
             "#fde0ef"
            ],
            [
             0.5,
             "#f7f7f7"
            ],
            [
             0.6,
             "#e6f5d0"
            ],
            [
             0.7,
             "#b8e186"
            ],
            [
             0.8,
             "#7fbc41"
            ],
            [
             0.9,
             "#4d9221"
            ],
            [
             1,
             "#276419"
            ]
           ],
           "sequential": [
            [
             0,
             "#0d0887"
            ],
            [
             0.1111111111111111,
             "#46039f"
            ],
            [
             0.2222222222222222,
             "#7201a8"
            ],
            [
             0.3333333333333333,
             "#9c179e"
            ],
            [
             0.4444444444444444,
             "#bd3786"
            ],
            [
             0.5555555555555556,
             "#d8576b"
            ],
            [
             0.6666666666666666,
             "#ed7953"
            ],
            [
             0.7777777777777778,
             "#fb9f3a"
            ],
            [
             0.8888888888888888,
             "#fdca26"
            ],
            [
             1,
             "#f0f921"
            ]
           ],
           "sequentialminus": [
            [
             0,
             "#0d0887"
            ],
            [
             0.1111111111111111,
             "#46039f"
            ],
            [
             0.2222222222222222,
             "#7201a8"
            ],
            [
             0.3333333333333333,
             "#9c179e"
            ],
            [
             0.4444444444444444,
             "#bd3786"
            ],
            [
             0.5555555555555556,
             "#d8576b"
            ],
            [
             0.6666666666666666,
             "#ed7953"
            ],
            [
             0.7777777777777778,
             "#fb9f3a"
            ],
            [
             0.8888888888888888,
             "#fdca26"
            ],
            [
             1,
             "#f0f921"
            ]
           ]
          },
          "colorway": [
           "#636efa",
           "#EF553B",
           "#00cc96",
           "#ab63fa",
           "#FFA15A",
           "#19d3f3",
           "#FF6692",
           "#B6E880",
           "#FF97FF",
           "#FECB52"
          ],
          "font": {
           "color": "#2a3f5f"
          },
          "geo": {
           "bgcolor": "white",
           "lakecolor": "white",
           "landcolor": "#E5ECF6",
           "showlakes": true,
           "showland": true,
           "subunitcolor": "white"
          },
          "hoverlabel": {
           "align": "left"
          },
          "hovermode": "closest",
          "mapbox": {
           "style": "light"
          },
          "paper_bgcolor": "white",
          "plot_bgcolor": "#E5ECF6",
          "polar": {
           "angularaxis": {
            "gridcolor": "white",
            "linecolor": "white",
            "ticks": ""
           },
           "bgcolor": "#E5ECF6",
           "radialaxis": {
            "gridcolor": "white",
            "linecolor": "white",
            "ticks": ""
           }
          },
          "scene": {
           "xaxis": {
            "backgroundcolor": "#E5ECF6",
            "gridcolor": "white",
            "gridwidth": 2,
            "linecolor": "white",
            "showbackground": true,
            "ticks": "",
            "zerolinecolor": "white"
           },
           "yaxis": {
            "backgroundcolor": "#E5ECF6",
            "gridcolor": "white",
            "gridwidth": 2,
            "linecolor": "white",
            "showbackground": true,
            "ticks": "",
            "zerolinecolor": "white"
           },
           "zaxis": {
            "backgroundcolor": "#E5ECF6",
            "gridcolor": "white",
            "gridwidth": 2,
            "linecolor": "white",
            "showbackground": true,
            "ticks": "",
            "zerolinecolor": "white"
           }
          },
          "shapedefaults": {
           "line": {
            "color": "#2a3f5f"
           }
          },
          "ternary": {
           "aaxis": {
            "gridcolor": "white",
            "linecolor": "white",
            "ticks": ""
           },
           "baxis": {
            "gridcolor": "white",
            "linecolor": "white",
            "ticks": ""
           },
           "bgcolor": "#E5ECF6",
           "caxis": {
            "gridcolor": "white",
            "linecolor": "white",
            "ticks": ""
           }
          },
          "title": {
           "x": 0.05
          },
          "xaxis": {
           "automargin": true,
           "gridcolor": "white",
           "linecolor": "white",
           "ticks": "",
           "title": {
            "standoff": 15
           },
           "zerolinecolor": "white",
           "zerolinewidth": 2
          },
          "yaxis": {
           "automargin": true,
           "gridcolor": "white",
           "linecolor": "white",
           "ticks": "",
           "title": {
            "standoff": 15
           },
           "zerolinecolor": "white",
           "zerolinewidth": 2
          }
         }
        },
        "title": {
         "text": "Random Forest Confusion Matrix (Employee Performance)"
        },
        "xaxis": {
         "dtick": 1,
         "gridcolor": "rgb(0, 0, 0)",
         "side": "top",
         "ticks": "",
         "title": {
          "text": "Predicted Performance"
         }
        },
        "yaxis": {
         "dtick": 1,
         "ticks": "",
         "ticksuffix": "  ",
         "title": {
          "text": "Actual Performance"
         }
        }
       }
      }
     },
     "metadata": {},
     "output_type": "display_data"
    },
    {
     "name": "stdout",
     "output_type": "stream",
     "text": [
      "\n",
      " Effect of Number of Estimators:\n"
     ]
    },
    {
     "data": {
      "application/vnd.plotly.v1+json": {
       "config": {
        "plotlyServerURL": "https://plot.ly"
       },
       "data": [
        {
         "line": {
          "color": "blue"
         },
         "mode": "lines+markers",
         "name": "Training Accuracy",
         "type": "scatter",
         "x": [
          10,
          25,
          50,
          100,
          200,
          300
         ],
         "y": [
          0.9864583333333333,
          1,
          1,
          1,
          1,
          1
         ]
        },
        {
         "line": {
          "color": "red"
         },
         "mode": "lines+markers",
         "name": "Test Accuracy",
         "type": "scatter",
         "x": [
          10,
          25,
          50,
          100,
          200,
          300
         ],
         "y": [
          0.475,
          0.4875,
          0.49166666666666664,
          0.5375,
          0.5458333333333333,
          0.5333333333333333
         ]
        },
        {
         "line": {
          "color": "green"
         },
         "mode": "lines+markers",
         "name": "OOB Score",
         "type": "scatter",
         "x": [
          10,
          25,
          50,
          100,
          200,
          300
         ],
         "y": [
          0.453125,
          0.4625,
          0.5083333333333333,
          0.5114583333333333,
          0.5229166666666667,
          0.5322916666666667
         ]
        }
       ],
       "layout": {
        "height": 500,
        "template": {
         "data": {
          "bar": [
           {
            "error_x": {
             "color": "#2a3f5f"
            },
            "error_y": {
             "color": "#2a3f5f"
            },
            "marker": {
             "line": {
              "color": "#E5ECF6",
              "width": 0.5
             },
             "pattern": {
              "fillmode": "overlay",
              "size": 10,
              "solidity": 0.2
             }
            },
            "type": "bar"
           }
          ],
          "barpolar": [
           {
            "marker": {
             "line": {
              "color": "#E5ECF6",
              "width": 0.5
             },
             "pattern": {
              "fillmode": "overlay",
              "size": 10,
              "solidity": 0.2
             }
            },
            "type": "barpolar"
           }
          ],
          "carpet": [
           {
            "aaxis": {
             "endlinecolor": "#2a3f5f",
             "gridcolor": "white",
             "linecolor": "white",
             "minorgridcolor": "white",
             "startlinecolor": "#2a3f5f"
            },
            "baxis": {
             "endlinecolor": "#2a3f5f",
             "gridcolor": "white",
             "linecolor": "white",
             "minorgridcolor": "white",
             "startlinecolor": "#2a3f5f"
            },
            "type": "carpet"
           }
          ],
          "choropleth": [
           {
            "colorbar": {
             "outlinewidth": 0,
             "ticks": ""
            },
            "type": "choropleth"
           }
          ],
          "contour": [
           {
            "colorbar": {
             "outlinewidth": 0,
             "ticks": ""
            },
            "colorscale": [
             [
              0,
              "#0d0887"
             ],
             [
              0.1111111111111111,
              "#46039f"
             ],
             [
              0.2222222222222222,
              "#7201a8"
             ],
             [
              0.3333333333333333,
              "#9c179e"
             ],
             [
              0.4444444444444444,
              "#bd3786"
             ],
             [
              0.5555555555555556,
              "#d8576b"
             ],
             [
              0.6666666666666666,
              "#ed7953"
             ],
             [
              0.7777777777777778,
              "#fb9f3a"
             ],
             [
              0.8888888888888888,
              "#fdca26"
             ],
             [
              1,
              "#f0f921"
             ]
            ],
            "type": "contour"
           }
          ],
          "contourcarpet": [
           {
            "colorbar": {
             "outlinewidth": 0,
             "ticks": ""
            },
            "type": "contourcarpet"
           }
          ],
          "heatmap": [
           {
            "colorbar": {
             "outlinewidth": 0,
             "ticks": ""
            },
            "colorscale": [
             [
              0,
              "#0d0887"
             ],
             [
              0.1111111111111111,
              "#46039f"
             ],
             [
              0.2222222222222222,
              "#7201a8"
             ],
             [
              0.3333333333333333,
              "#9c179e"
             ],
             [
              0.4444444444444444,
              "#bd3786"
             ],
             [
              0.5555555555555556,
              "#d8576b"
             ],
             [
              0.6666666666666666,
              "#ed7953"
             ],
             [
              0.7777777777777778,
              "#fb9f3a"
             ],
             [
              0.8888888888888888,
              "#fdca26"
             ],
             [
              1,
              "#f0f921"
             ]
            ],
            "type": "heatmap"
           }
          ],
          "histogram": [
           {
            "marker": {
             "pattern": {
              "fillmode": "overlay",
              "size": 10,
              "solidity": 0.2
             }
            },
            "type": "histogram"
           }
          ],
          "histogram2d": [
           {
            "colorbar": {
             "outlinewidth": 0,
             "ticks": ""
            },
            "colorscale": [
             [
              0,
              "#0d0887"
             ],
             [
              0.1111111111111111,
              "#46039f"
             ],
             [
              0.2222222222222222,
              "#7201a8"
             ],
             [
              0.3333333333333333,
              "#9c179e"
             ],
             [
              0.4444444444444444,
              "#bd3786"
             ],
             [
              0.5555555555555556,
              "#d8576b"
             ],
             [
              0.6666666666666666,
              "#ed7953"
             ],
             [
              0.7777777777777778,
              "#fb9f3a"
             ],
             [
              0.8888888888888888,
              "#fdca26"
             ],
             [
              1,
              "#f0f921"
             ]
            ],
            "type": "histogram2d"
           }
          ],
          "histogram2dcontour": [
           {
            "colorbar": {
             "outlinewidth": 0,
             "ticks": ""
            },
            "colorscale": [
             [
              0,
              "#0d0887"
             ],
             [
              0.1111111111111111,
              "#46039f"
             ],
             [
              0.2222222222222222,
              "#7201a8"
             ],
             [
              0.3333333333333333,
              "#9c179e"
             ],
             [
              0.4444444444444444,
              "#bd3786"
             ],
             [
              0.5555555555555556,
              "#d8576b"
             ],
             [
              0.6666666666666666,
              "#ed7953"
             ],
             [
              0.7777777777777778,
              "#fb9f3a"
             ],
             [
              0.8888888888888888,
              "#fdca26"
             ],
             [
              1,
              "#f0f921"
             ]
            ],
            "type": "histogram2dcontour"
           }
          ],
          "mesh3d": [
           {
            "colorbar": {
             "outlinewidth": 0,
             "ticks": ""
            },
            "type": "mesh3d"
           }
          ],
          "parcoords": [
           {
            "line": {
             "colorbar": {
              "outlinewidth": 0,
              "ticks": ""
             }
            },
            "type": "parcoords"
           }
          ],
          "pie": [
           {
            "automargin": true,
            "type": "pie"
           }
          ],
          "scatter": [
           {
            "fillpattern": {
             "fillmode": "overlay",
             "size": 10,
             "solidity": 0.2
            },
            "type": "scatter"
           }
          ],
          "scatter3d": [
           {
            "line": {
             "colorbar": {
              "outlinewidth": 0,
              "ticks": ""
             }
            },
            "marker": {
             "colorbar": {
              "outlinewidth": 0,
              "ticks": ""
             }
            },
            "type": "scatter3d"
           }
          ],
          "scattercarpet": [
           {
            "marker": {
             "colorbar": {
              "outlinewidth": 0,
              "ticks": ""
             }
            },
            "type": "scattercarpet"
           }
          ],
          "scattergeo": [
           {
            "marker": {
             "colorbar": {
              "outlinewidth": 0,
              "ticks": ""
             }
            },
            "type": "scattergeo"
           }
          ],
          "scattergl": [
           {
            "marker": {
             "colorbar": {
              "outlinewidth": 0,
              "ticks": ""
             }
            },
            "type": "scattergl"
           }
          ],
          "scattermap": [
           {
            "marker": {
             "colorbar": {
              "outlinewidth": 0,
              "ticks": ""
             }
            },
            "type": "scattermap"
           }
          ],
          "scattermapbox": [
           {
            "marker": {
             "colorbar": {
              "outlinewidth": 0,
              "ticks": ""
             }
            },
            "type": "scattermapbox"
           }
          ],
          "scatterpolar": [
           {
            "marker": {
             "colorbar": {
              "outlinewidth": 0,
              "ticks": ""
             }
            },
            "type": "scatterpolar"
           }
          ],
          "scatterpolargl": [
           {
            "marker": {
             "colorbar": {
              "outlinewidth": 0,
              "ticks": ""
             }
            },
            "type": "scatterpolargl"
           }
          ],
          "scatterternary": [
           {
            "marker": {
             "colorbar": {
              "outlinewidth": 0,
              "ticks": ""
             }
            },
            "type": "scatterternary"
           }
          ],
          "surface": [
           {
            "colorbar": {
             "outlinewidth": 0,
             "ticks": ""
            },
            "colorscale": [
             [
              0,
              "#0d0887"
             ],
             [
              0.1111111111111111,
              "#46039f"
             ],
             [
              0.2222222222222222,
              "#7201a8"
             ],
             [
              0.3333333333333333,
              "#9c179e"
             ],
             [
              0.4444444444444444,
              "#bd3786"
             ],
             [
              0.5555555555555556,
              "#d8576b"
             ],
             [
              0.6666666666666666,
              "#ed7953"
             ],
             [
              0.7777777777777778,
              "#fb9f3a"
             ],
             [
              0.8888888888888888,
              "#fdca26"
             ],
             [
              1,
              "#f0f921"
             ]
            ],
            "type": "surface"
           }
          ],
          "table": [
           {
            "cells": {
             "fill": {
              "color": "#EBF0F8"
             },
             "line": {
              "color": "white"
             }
            },
            "header": {
             "fill": {
              "color": "#C8D4E3"
             },
             "line": {
              "color": "white"
             }
            },
            "type": "table"
           }
          ]
         },
         "layout": {
          "annotationdefaults": {
           "arrowcolor": "#2a3f5f",
           "arrowhead": 0,
           "arrowwidth": 1
          },
          "autotypenumbers": "strict",
          "coloraxis": {
           "colorbar": {
            "outlinewidth": 0,
            "ticks": ""
           }
          },
          "colorscale": {
           "diverging": [
            [
             0,
             "#8e0152"
            ],
            [
             0.1,
             "#c51b7d"
            ],
            [
             0.2,
             "#de77ae"
            ],
            [
             0.3,
             "#f1b6da"
            ],
            [
             0.4,
             "#fde0ef"
            ],
            [
             0.5,
             "#f7f7f7"
            ],
            [
             0.6,
             "#e6f5d0"
            ],
            [
             0.7,
             "#b8e186"
            ],
            [
             0.8,
             "#7fbc41"
            ],
            [
             0.9,
             "#4d9221"
            ],
            [
             1,
             "#276419"
            ]
           ],
           "sequential": [
            [
             0,
             "#0d0887"
            ],
            [
             0.1111111111111111,
             "#46039f"
            ],
            [
             0.2222222222222222,
             "#7201a8"
            ],
            [
             0.3333333333333333,
             "#9c179e"
            ],
            [
             0.4444444444444444,
             "#bd3786"
            ],
            [
             0.5555555555555556,
             "#d8576b"
            ],
            [
             0.6666666666666666,
             "#ed7953"
            ],
            [
             0.7777777777777778,
             "#fb9f3a"
            ],
            [
             0.8888888888888888,
             "#fdca26"
            ],
            [
             1,
             "#f0f921"
            ]
           ],
           "sequentialminus": [
            [
             0,
             "#0d0887"
            ],
            [
             0.1111111111111111,
             "#46039f"
            ],
            [
             0.2222222222222222,
             "#7201a8"
            ],
            [
             0.3333333333333333,
             "#9c179e"
            ],
            [
             0.4444444444444444,
             "#bd3786"
            ],
            [
             0.5555555555555556,
             "#d8576b"
            ],
            [
             0.6666666666666666,
             "#ed7953"
            ],
            [
             0.7777777777777778,
             "#fb9f3a"
            ],
            [
             0.8888888888888888,
             "#fdca26"
            ],
            [
             1,
             "#f0f921"
            ]
           ]
          },
          "colorway": [
           "#636efa",
           "#EF553B",
           "#00cc96",
           "#ab63fa",
           "#FFA15A",
           "#19d3f3",
           "#FF6692",
           "#B6E880",
           "#FF97FF",
           "#FECB52"
          ],
          "font": {
           "color": "#2a3f5f"
          },
          "geo": {
           "bgcolor": "white",
           "lakecolor": "white",
           "landcolor": "#E5ECF6",
           "showlakes": true,
           "showland": true,
           "subunitcolor": "white"
          },
          "hoverlabel": {
           "align": "left"
          },
          "hovermode": "closest",
          "mapbox": {
           "style": "light"
          },
          "paper_bgcolor": "white",
          "plot_bgcolor": "#E5ECF6",
          "polar": {
           "angularaxis": {
            "gridcolor": "white",
            "linecolor": "white",
            "ticks": ""
           },
           "bgcolor": "#E5ECF6",
           "radialaxis": {
            "gridcolor": "white",
            "linecolor": "white",
            "ticks": ""
           }
          },
          "scene": {
           "xaxis": {
            "backgroundcolor": "#E5ECF6",
            "gridcolor": "white",
            "gridwidth": 2,
            "linecolor": "white",
            "showbackground": true,
            "ticks": "",
            "zerolinecolor": "white"
           },
           "yaxis": {
            "backgroundcolor": "#E5ECF6",
            "gridcolor": "white",
            "gridwidth": 2,
            "linecolor": "white",
            "showbackground": true,
            "ticks": "",
            "zerolinecolor": "white"
           },
           "zaxis": {
            "backgroundcolor": "#E5ECF6",
            "gridcolor": "white",
            "gridwidth": 2,
            "linecolor": "white",
            "showbackground": true,
            "ticks": "",
            "zerolinecolor": "white"
           }
          },
          "shapedefaults": {
           "line": {
            "color": "#2a3f5f"
           }
          },
          "ternary": {
           "aaxis": {
            "gridcolor": "white",
            "linecolor": "white",
            "ticks": ""
           },
           "baxis": {
            "gridcolor": "white",
            "linecolor": "white",
            "ticks": ""
           },
           "bgcolor": "#E5ECF6",
           "caxis": {
            "gridcolor": "white",
            "linecolor": "white",
            "ticks": ""
           }
          },
          "title": {
           "x": 0.05
          },
          "xaxis": {
           "automargin": true,
           "gridcolor": "white",
           "linecolor": "white",
           "ticks": "",
           "title": {
            "standoff": 15
           },
           "zerolinecolor": "white",
           "zerolinewidth": 2
          },
          "yaxis": {
           "automargin": true,
           "gridcolor": "white",
           "linecolor": "white",
           "ticks": "",
           "title": {
            "standoff": 15
           },
           "zerolinecolor": "white",
           "zerolinewidth": 2
          }
         }
        },
        "title": {
         "text": "Random Forest: Effect of Number of Estimators"
        },
        "xaxis": {
         "title": {
          "text": "Number of Estimators"
         }
        },
        "yaxis": {
         "title": {
          "text": "Accuracy"
         }
        }
       }
      }
     },
     "metadata": {},
     "output_type": "display_data"
    },
    {
     "name": "stdout",
     "output_type": "stream",
     "text": [
      "Optimal number of estimators appears to be around 100-200\n"
     ]
    }
   ],
   "source": [
    "# 1. RANDOM FOREST CLASSIFICATION ANALYSIS\n",
    "print(\" 1. RANDOM FOREST CLASSIFICATION ANALYSIS\")\n",
    "print(\"=\" * 43)\n",
    "\n",
    "# Prepare classification data\n",
    "class_features = ['age', 'years_experience', 'education_level', 'training_hours',\n",
    " 'projects_completed', 'team_size', 'work_from_home_days',\n",
    " 'meeting_attendance', 'peer_collaboration_score', 'innovation_score', 'department']\n",
    "X_class = classification_df[class_features]\n",
    "y_class = classification_df['performance_rating']\n",
    "\n",
    "# Split data\n",
    "X_class_train, X_class_test, y_class_train, y_class_test = train_test_split(\n",
    " X_class, y_class, test_size=0.2, random_state=42, stratify=y_class\n",
    ")\n",
    "\n",
    "print(f\"Training set: {X_class_train.shape}\")\n",
    "print(f\"Test set: {X_class_test.shape}\")\n",
    "print(f\"Class distribution: {y_class_train.value_counts().sort_index().to_dict()}\")\n",
    "\n",
    "# Train basic Random Forest\n",
    "rf_basic = RandomForestClassifier(n_estimators=100, random_state=42)\n",
    "rf_basic.fit(X_class_train, y_class_train)\n",
    "\n",
    "# Predictions\n",
    "y_class_pred = rf_basic.predict(X_class_test)\n",
    "y_class_proba = rf_basic.predict_proba(X_class_test)\n",
    "\n",
    "# Performance metrics\n",
    "class_accuracy = accuracy_score(y_class_test, y_class_pred)\n",
    "oob_score = rf_basic.oob_score_ if hasattr(rf_basic, 'oob_score_') else None\n",
    "\n",
    "print(f\"\\n Basic Random Forest Performance:\")\n",
    "print(f\"• Test Accuracy: {class_accuracy:.4f}\")\n",
    "\n",
    "# Enable OOB scoring\n",
    "rf_oob = RandomForestClassifier(n_estimators=100, oob_score=True, random_state=42)\n",
    "rf_oob.fit(X_class_train, y_class_train)\n",
    "print(f\"• OOB Score: {rf_oob.oob_score_:.4f}\")\n",
    "\n",
    "# Cross-validation\n",
    "cv_scores = cross_val_score(rf_basic, X_class_train, y_class_train, cv=5)\n",
    "print(f\"• Cross-validation: {cv_scores.mean():.4f} ± {cv_scores.std():.4f}\")\n",
    "\n",
    "print(f\"\\nClassification Report:\")\n",
    "print(classification_report(y_class_test, y_class_pred, target_names=performance_labels))\n",
    "\n",
    "# Feature importance analysis\n",
    "feature_importance = rf_basic.feature_importances_\n",
    "importance_df = pd.DataFrame({\n",
    " 'Feature': class_features,\n",
    " 'Importance': feature_importance\n",
    "}).sort_values('Importance', ascending=False)\n",
    "\n",
    "print(f\"\\n Feature Importance Analysis:\")\n",
    "for _, row in importance_df.iterrows():\n",
    " print(f\"• {row['Feature']}: {row['Importance']:.4f}\")\n",
    "\n",
    "# Visualize feature importance\n",
    "fig_importance = go.Figure()\n",
    "\n",
    "fig_importance.add_trace(\n",
    " go.Bar(\n",
    " x=importance_df['Importance'],\n",
    " y=importance_df['Feature'],\n",
    " orientation='h',\n",
    " marker_color='lightblue',\n",
    " hovertemplate=\"Feature: %{y}<br>Importance: %{x:.4f}<extra></extra>\"\n",
    " )\n",
    ")\n",
    "\n",
    "fig_importance.update_layout(\n",
    " title=\"Random Forest Feature Importance (Employee Performance)\",\n",
    " xaxis_title=\"Feature Importance\",\n",
    " yaxis_title=\"Features\",\n",
    " height=600\n",
    ")\n",
    "fig_importance.show()\n",
    "\n",
    "# Compare with single decision tree\n",
    "dt_single = DecisionTreeClassifier(random_state=42)\n",
    "dt_single.fit(X_class_train, y_class_train)\n",
    "dt_accuracy = dt_single.score(X_class_test, y_class_test)\n",
    "\n",
    "print(f\"\\n Single Decision Tree vs Random Forest:\")\n",
    "print(f\"• Single Decision Tree Accuracy: {dt_accuracy:.4f}\")\n",
    "print(f\"• Random Forest Accuracy: {class_accuracy:.4f}\")\n",
    "print(f\"• Improvement: {(class_accuracy - dt_accuracy)*100:.1f} percentage points\")\n",
    "\n",
    "# Hyperparameter optimization\n",
    "print(f\"\\n Hyperparameter Optimization:\")\n",
    "\n",
    "# Grid search for optimal parameters\n",
    "param_grid = {\n",
    " 'n_estimators': [50, 100, 200],\n",
    " 'max_depth': [None, 10, 20],\n",
    " 'min_samples_split': [2, 5, 10],\n",
    " 'min_samples_leaf': [1, 2, 4]\n",
    "}\n",
    "\n",
    "# Use a smaller grid for demonstration\n",
    "grid_search = GridSearchCV(\n",
    " RandomForestClassifier(random_state=42),\n",
    " param_grid,\n",
    " cv=3, # Reduced for speed\n",
    " scoring='accuracy',\n",
    " n_jobs=-1\n",
    ")\n",
    "\n",
    "grid_search.fit(X_class_train, y_class_train)\n",
    "\n",
    "print(f\"Best parameters: {grid_search.best_params_}\")\n",
    "print(f\"Best CV score: {grid_search.best_score_:.4f}\")\n",
    "\n",
    "# Test best model\n",
    "best_rf = grid_search.best_estimator_\n",
    "best_accuracy = best_rf.score(X_class_test, y_class_test)\n",
    "print(f\"Best model test accuracy: {best_accuracy:.4f}\")\n",
    "\n",
    "# Confusion Matrix\n",
    "cm_class = confusion_matrix(y_class_test, y_class_pred)\n",
    "\n",
    "fig_cm_class = ff.create_annotated_heatmap(\n",
    " z=cm_class,\n",
    " x=performance_labels,\n",
    " y=performance_labels,\n",
    " annotation_text=cm_class,\n",
    " colorscale='Blues',\n",
    " showscale=True\n",
    ")\n",
    "\n",
    "fig_cm_class.update_layout(\n",
    " title=\"Random Forest Confusion Matrix (Employee Performance)\",\n",
    " xaxis_title=\"Predicted Performance\",\n",
    " yaxis_title=\"Actual Performance\",\n",
    " height=500\n",
    ")\n",
    "fig_cm_class.show()\n",
    "\n",
    "# Number of estimators effect\n",
    "print(f\"\\n Effect of Number of Estimators:\")\n",
    "\n",
    "n_estimators_range = [10, 25, 50, 100, 200, 300]\n",
    "train_scores = []\n",
    "test_scores = []\n",
    "oob_scores = []\n",
    "\n",
    "for n_est in n_estimators_range:\n",
    " rf_temp = RandomForestClassifier(n_estimators=n_est, oob_score=True, random_state=42)\n",
    " rf_temp.fit(X_class_train, y_class_train)\n",
    "\n",
    " train_scores.append(rf_temp.score(X_class_train, y_class_train))\n",
    " test_scores.append(rf_temp.score(X_class_test, y_class_test))\n",
    " oob_scores.append(rf_temp.oob_score_)\n",
    "\n",
    "# Visualize effect of n_estimators\n",
    "fig_n_est = go.Figure()\n",
    "\n",
    "fig_n_est.add_trace(\n",
    " go.Scatter(\n",
    " x=n_estimators_range,\n",
    " y=train_scores,\n",
    " mode='lines+markers',\n",
    " name='Training Accuracy',\n",
    " line=dict(color='blue')\n",
    " )\n",
    ")\n",
    "\n",
    "fig_n_est.add_trace(\n",
    " go.Scatter(\n",
    " x=n_estimators_range,\n",
    " y=test_scores,\n",
    " mode='lines+markers',\n",
    " name='Test Accuracy',\n",
    " line=dict(color='red')\n",
    " )\n",
    ")\n",
    "\n",
    "fig_n_est.add_trace(\n",
    " go.Scatter(\n",
    " x=n_estimators_range,\n",
    " y=oob_scores,\n",
    " mode='lines+markers',\n",
    " name='OOB Score',\n",
    " line=dict(color='green')\n",
    " )\n",
    ")\n",
    "\n",
    "fig_n_est.update_layout(\n",
    " title=\"Random Forest: Effect of Number of Estimators\",\n",
    " xaxis_title=\"Number of Estimators\",\n",
    " yaxis_title=\"Accuracy\",\n",
    " height=500\n",
    ")\n",
    "fig_n_est.show()\n",
    "\n",
    "print(f\"Optimal number of estimators appears to be around 100-200\")"
   ]
  },
  {
   "cell_type": "code",
   "execution_count": 6,
   "id": "93c8a490",
   "metadata": {},
   "outputs": [
    {
     "name": "stdout",
     "output_type": "stream",
     "text": [
      " 2. RANDOM FOREST REGRESSION ANALYSIS\n",
      "=====================================\n",
      "Training set: (800, 15)\n",
      "Test set: (200, 15)\n",
      "\n",
      " Random Forest Regression Performance:\n",
      "• Test R²: 0.9083\n",
      "• Test RMSE: $39,117\n",
      "• Test MAE: $30,465\n",
      "• OOB Score: 0.9033\n",
      "\n",
      " Random Forest Regression Performance:\n",
      "• Test R²: 0.9083\n",
      "• Test RMSE: $39,117\n",
      "• Test MAE: $30,465\n",
      "• OOB Score: 0.9033\n",
      "• Cross-validation R²: 0.8908 ± 0.0134\n",
      "\n",
      " Feature Importance Analysis (House Price Prediction):\n",
      "• house_size: 0.7408\n",
      "• lot_size: 0.1089\n",
      "• bedrooms: 0.0543\n",
      "• school_rating: 0.0203\n",
      "• house_age: 0.0201\n",
      "• distance_to_downtown: 0.0135\n",
      "• crime_rate: 0.0111\n",
      "• renovation_score: 0.0103\n",
      "• bathrooms: 0.0070\n",
      "• parks_nearby: 0.0043\n",
      "• shopping_centers_nearby: 0.0033\n",
      "• garage_spaces: 0.0024\n",
      "• has_pool: 0.0015\n",
      "• has_fireplace: 0.0011\n",
      "• has_basement: 0.0010\n",
      "• Cross-validation R²: 0.8908 ± 0.0134\n",
      "\n",
      " Feature Importance Analysis (House Price Prediction):\n",
      "• house_size: 0.7408\n",
      "• lot_size: 0.1089\n",
      "• bedrooms: 0.0543\n",
      "• school_rating: 0.0203\n",
      "• house_age: 0.0201\n",
      "• distance_to_downtown: 0.0135\n",
      "• crime_rate: 0.0111\n",
      "• renovation_score: 0.0103\n",
      "• bathrooms: 0.0070\n",
      "• parks_nearby: 0.0043\n",
      "• shopping_centers_nearby: 0.0033\n",
      "• garage_spaces: 0.0024\n",
      "• has_pool: 0.0015\n",
      "• has_fireplace: 0.0011\n",
      "• has_basement: 0.0010\n"
     ]
    },
    {
     "data": {
      "application/vnd.plotly.v1+json": {
       "config": {
        "plotlyServerURL": "https://plot.ly"
       },
       "data": [
        {
         "hovertemplate": "Feature: %{y}<br>Importance: %{x:.4f}<extra></extra>",
         "marker": {
          "color": "lightgreen"
         },
         "orientation": "h",
         "type": "bar",
         "x": {
          "bdata": "x4dhDdK05z/4IYfHauK7P/oe07DL0qs/I66PTNPAlD/20YhrxZuUP53ofMLYmIs/MzF0tlakhj/piGoAQhKFP+c0rpza03w/gyMJ88t9cT8PnXZQlMhqP98EHEtwpGM/JjpgNrRXWT9D6Fdmgp1SP9UypOHLDFE/",
          "dtype": "f8"
         },
         "y": [
          "house_size",
          "lot_size",
          "bedrooms",
          "school_rating",
          "house_age",
          "distance_to_downtown",
          "crime_rate",
          "renovation_score",
          "bathrooms",
          "parks_nearby",
          "shopping_centers_nearby",
          "garage_spaces",
          "has_pool",
          "has_fireplace",
          "has_basement"
         ]
        }
       ],
       "layout": {
        "height": 600,
        "template": {
         "data": {
          "bar": [
           {
            "error_x": {
             "color": "#2a3f5f"
            },
            "error_y": {
             "color": "#2a3f5f"
            },
            "marker": {
             "line": {
              "color": "#E5ECF6",
              "width": 0.5
             },
             "pattern": {
              "fillmode": "overlay",
              "size": 10,
              "solidity": 0.2
             }
            },
            "type": "bar"
           }
          ],
          "barpolar": [
           {
            "marker": {
             "line": {
              "color": "#E5ECF6",
              "width": 0.5
             },
             "pattern": {
              "fillmode": "overlay",
              "size": 10,
              "solidity": 0.2
             }
            },
            "type": "barpolar"
           }
          ],
          "carpet": [
           {
            "aaxis": {
             "endlinecolor": "#2a3f5f",
             "gridcolor": "white",
             "linecolor": "white",
             "minorgridcolor": "white",
             "startlinecolor": "#2a3f5f"
            },
            "baxis": {
             "endlinecolor": "#2a3f5f",
             "gridcolor": "white",
             "linecolor": "white",
             "minorgridcolor": "white",
             "startlinecolor": "#2a3f5f"
            },
            "type": "carpet"
           }
          ],
          "choropleth": [
           {
            "colorbar": {
             "outlinewidth": 0,
             "ticks": ""
            },
            "type": "choropleth"
           }
          ],
          "contour": [
           {
            "colorbar": {
             "outlinewidth": 0,
             "ticks": ""
            },
            "colorscale": [
             [
              0,
              "#0d0887"
             ],
             [
              0.1111111111111111,
              "#46039f"
             ],
             [
              0.2222222222222222,
              "#7201a8"
             ],
             [
              0.3333333333333333,
              "#9c179e"
             ],
             [
              0.4444444444444444,
              "#bd3786"
             ],
             [
              0.5555555555555556,
              "#d8576b"
             ],
             [
              0.6666666666666666,
              "#ed7953"
             ],
             [
              0.7777777777777778,
              "#fb9f3a"
             ],
             [
              0.8888888888888888,
              "#fdca26"
             ],
             [
              1,
              "#f0f921"
             ]
            ],
            "type": "contour"
           }
          ],
          "contourcarpet": [
           {
            "colorbar": {
             "outlinewidth": 0,
             "ticks": ""
            },
            "type": "contourcarpet"
           }
          ],
          "heatmap": [
           {
            "colorbar": {
             "outlinewidth": 0,
             "ticks": ""
            },
            "colorscale": [
             [
              0,
              "#0d0887"
             ],
             [
              0.1111111111111111,
              "#46039f"
             ],
             [
              0.2222222222222222,
              "#7201a8"
             ],
             [
              0.3333333333333333,
              "#9c179e"
             ],
             [
              0.4444444444444444,
              "#bd3786"
             ],
             [
              0.5555555555555556,
              "#d8576b"
             ],
             [
              0.6666666666666666,
              "#ed7953"
             ],
             [
              0.7777777777777778,
              "#fb9f3a"
             ],
             [
              0.8888888888888888,
              "#fdca26"
             ],
             [
              1,
              "#f0f921"
             ]
            ],
            "type": "heatmap"
           }
          ],
          "histogram": [
           {
            "marker": {
             "pattern": {
              "fillmode": "overlay",
              "size": 10,
              "solidity": 0.2
             }
            },
            "type": "histogram"
           }
          ],
          "histogram2d": [
           {
            "colorbar": {
             "outlinewidth": 0,
             "ticks": ""
            },
            "colorscale": [
             [
              0,
              "#0d0887"
             ],
             [
              0.1111111111111111,
              "#46039f"
             ],
             [
              0.2222222222222222,
              "#7201a8"
             ],
             [
              0.3333333333333333,
              "#9c179e"
             ],
             [
              0.4444444444444444,
              "#bd3786"
             ],
             [
              0.5555555555555556,
              "#d8576b"
             ],
             [
              0.6666666666666666,
              "#ed7953"
             ],
             [
              0.7777777777777778,
              "#fb9f3a"
             ],
             [
              0.8888888888888888,
              "#fdca26"
             ],
             [
              1,
              "#f0f921"
             ]
            ],
            "type": "histogram2d"
           }
          ],
          "histogram2dcontour": [
           {
            "colorbar": {
             "outlinewidth": 0,
             "ticks": ""
            },
            "colorscale": [
             [
              0,
              "#0d0887"
             ],
             [
              0.1111111111111111,
              "#46039f"
             ],
             [
              0.2222222222222222,
              "#7201a8"
             ],
             [
              0.3333333333333333,
              "#9c179e"
             ],
             [
              0.4444444444444444,
              "#bd3786"
             ],
             [
              0.5555555555555556,
              "#d8576b"
             ],
             [
              0.6666666666666666,
              "#ed7953"
             ],
             [
              0.7777777777777778,
              "#fb9f3a"
             ],
             [
              0.8888888888888888,
              "#fdca26"
             ],
             [
              1,
              "#f0f921"
             ]
            ],
            "type": "histogram2dcontour"
           }
          ],
          "mesh3d": [
           {
            "colorbar": {
             "outlinewidth": 0,
             "ticks": ""
            },
            "type": "mesh3d"
           }
          ],
          "parcoords": [
           {
            "line": {
             "colorbar": {
              "outlinewidth": 0,
              "ticks": ""
             }
            },
            "type": "parcoords"
           }
          ],
          "pie": [
           {
            "automargin": true,
            "type": "pie"
           }
          ],
          "scatter": [
           {
            "fillpattern": {
             "fillmode": "overlay",
             "size": 10,
             "solidity": 0.2
            },
            "type": "scatter"
           }
          ],
          "scatter3d": [
           {
            "line": {
             "colorbar": {
              "outlinewidth": 0,
              "ticks": ""
             }
            },
            "marker": {
             "colorbar": {
              "outlinewidth": 0,
              "ticks": ""
             }
            },
            "type": "scatter3d"
           }
          ],
          "scattercarpet": [
           {
            "marker": {
             "colorbar": {
              "outlinewidth": 0,
              "ticks": ""
             }
            },
            "type": "scattercarpet"
           }
          ],
          "scattergeo": [
           {
            "marker": {
             "colorbar": {
              "outlinewidth": 0,
              "ticks": ""
             }
            },
            "type": "scattergeo"
           }
          ],
          "scattergl": [
           {
            "marker": {
             "colorbar": {
              "outlinewidth": 0,
              "ticks": ""
             }
            },
            "type": "scattergl"
           }
          ],
          "scattermap": [
           {
            "marker": {
             "colorbar": {
              "outlinewidth": 0,
              "ticks": ""
             }
            },
            "type": "scattermap"
           }
          ],
          "scattermapbox": [
           {
            "marker": {
             "colorbar": {
              "outlinewidth": 0,
              "ticks": ""
             }
            },
            "type": "scattermapbox"
           }
          ],
          "scatterpolar": [
           {
            "marker": {
             "colorbar": {
              "outlinewidth": 0,
              "ticks": ""
             }
            },
            "type": "scatterpolar"
           }
          ],
          "scatterpolargl": [
           {
            "marker": {
             "colorbar": {
              "outlinewidth": 0,
              "ticks": ""
             }
            },
            "type": "scatterpolargl"
           }
          ],
          "scatterternary": [
           {
            "marker": {
             "colorbar": {
              "outlinewidth": 0,
              "ticks": ""
             }
            },
            "type": "scatterternary"
           }
          ],
          "surface": [
           {
            "colorbar": {
             "outlinewidth": 0,
             "ticks": ""
            },
            "colorscale": [
             [
              0,
              "#0d0887"
             ],
             [
              0.1111111111111111,
              "#46039f"
             ],
             [
              0.2222222222222222,
              "#7201a8"
             ],
             [
              0.3333333333333333,
              "#9c179e"
             ],
             [
              0.4444444444444444,
              "#bd3786"
             ],
             [
              0.5555555555555556,
              "#d8576b"
             ],
             [
              0.6666666666666666,
              "#ed7953"
             ],
             [
              0.7777777777777778,
              "#fb9f3a"
             ],
             [
              0.8888888888888888,
              "#fdca26"
             ],
             [
              1,
              "#f0f921"
             ]
            ],
            "type": "surface"
           }
          ],
          "table": [
           {
            "cells": {
             "fill": {
              "color": "#EBF0F8"
             },
             "line": {
              "color": "white"
             }
            },
            "header": {
             "fill": {
              "color": "#C8D4E3"
             },
             "line": {
              "color": "white"
             }
            },
            "type": "table"
           }
          ]
         },
         "layout": {
          "annotationdefaults": {
           "arrowcolor": "#2a3f5f",
           "arrowhead": 0,
           "arrowwidth": 1
          },
          "autotypenumbers": "strict",
          "coloraxis": {
           "colorbar": {
            "outlinewidth": 0,
            "ticks": ""
           }
          },
          "colorscale": {
           "diverging": [
            [
             0,
             "#8e0152"
            ],
            [
             0.1,
             "#c51b7d"
            ],
            [
             0.2,
             "#de77ae"
            ],
            [
             0.3,
             "#f1b6da"
            ],
            [
             0.4,
             "#fde0ef"
            ],
            [
             0.5,
             "#f7f7f7"
            ],
            [
             0.6,
             "#e6f5d0"
            ],
            [
             0.7,
             "#b8e186"
            ],
            [
             0.8,
             "#7fbc41"
            ],
            [
             0.9,
             "#4d9221"
            ],
            [
             1,
             "#276419"
            ]
           ],
           "sequential": [
            [
             0,
             "#0d0887"
            ],
            [
             0.1111111111111111,
             "#46039f"
            ],
            [
             0.2222222222222222,
             "#7201a8"
            ],
            [
             0.3333333333333333,
             "#9c179e"
            ],
            [
             0.4444444444444444,
             "#bd3786"
            ],
            [
             0.5555555555555556,
             "#d8576b"
            ],
            [
             0.6666666666666666,
             "#ed7953"
            ],
            [
             0.7777777777777778,
             "#fb9f3a"
            ],
            [
             0.8888888888888888,
             "#fdca26"
            ],
            [
             1,
             "#f0f921"
            ]
           ],
           "sequentialminus": [
            [
             0,
             "#0d0887"
            ],
            [
             0.1111111111111111,
             "#46039f"
            ],
            [
             0.2222222222222222,
             "#7201a8"
            ],
            [
             0.3333333333333333,
             "#9c179e"
            ],
            [
             0.4444444444444444,
             "#bd3786"
            ],
            [
             0.5555555555555556,
             "#d8576b"
            ],
            [
             0.6666666666666666,
             "#ed7953"
            ],
            [
             0.7777777777777778,
             "#fb9f3a"
            ],
            [
             0.8888888888888888,
             "#fdca26"
            ],
            [
             1,
             "#f0f921"
            ]
           ]
          },
          "colorway": [
           "#636efa",
           "#EF553B",
           "#00cc96",
           "#ab63fa",
           "#FFA15A",
           "#19d3f3",
           "#FF6692",
           "#B6E880",
           "#FF97FF",
           "#FECB52"
          ],
          "font": {
           "color": "#2a3f5f"
          },
          "geo": {
           "bgcolor": "white",
           "lakecolor": "white",
           "landcolor": "#E5ECF6",
           "showlakes": true,
           "showland": true,
           "subunitcolor": "white"
          },
          "hoverlabel": {
           "align": "left"
          },
          "hovermode": "closest",
          "mapbox": {
           "style": "light"
          },
          "paper_bgcolor": "white",
          "plot_bgcolor": "#E5ECF6",
          "polar": {
           "angularaxis": {
            "gridcolor": "white",
            "linecolor": "white",
            "ticks": ""
           },
           "bgcolor": "#E5ECF6",
           "radialaxis": {
            "gridcolor": "white",
            "linecolor": "white",
            "ticks": ""
           }
          },
          "scene": {
           "xaxis": {
            "backgroundcolor": "#E5ECF6",
            "gridcolor": "white",
            "gridwidth": 2,
            "linecolor": "white",
            "showbackground": true,
            "ticks": "",
            "zerolinecolor": "white"
           },
           "yaxis": {
            "backgroundcolor": "#E5ECF6",
            "gridcolor": "white",
            "gridwidth": 2,
            "linecolor": "white",
            "showbackground": true,
            "ticks": "",
            "zerolinecolor": "white"
           },
           "zaxis": {
            "backgroundcolor": "#E5ECF6",
            "gridcolor": "white",
            "gridwidth": 2,
            "linecolor": "white",
            "showbackground": true,
            "ticks": "",
            "zerolinecolor": "white"
           }
          },
          "shapedefaults": {
           "line": {
            "color": "#2a3f5f"
           }
          },
          "ternary": {
           "aaxis": {
            "gridcolor": "white",
            "linecolor": "white",
            "ticks": ""
           },
           "baxis": {
            "gridcolor": "white",
            "linecolor": "white",
            "ticks": ""
           },
           "bgcolor": "#E5ECF6",
           "caxis": {
            "gridcolor": "white",
            "linecolor": "white",
            "ticks": ""
           }
          },
          "title": {
           "x": 0.05
          },
          "xaxis": {
           "automargin": true,
           "gridcolor": "white",
           "linecolor": "white",
           "ticks": "",
           "title": {
            "standoff": 15
           },
           "zerolinecolor": "white",
           "zerolinewidth": 2
          },
          "yaxis": {
           "automargin": true,
           "gridcolor": "white",
           "linecolor": "white",
           "ticks": "",
           "title": {
            "standoff": 15
           },
           "zerolinecolor": "white",
           "zerolinewidth": 2
          }
         }
        },
        "title": {
         "text": "Random Forest Feature Importance (House Price Prediction)"
        },
        "xaxis": {
         "title": {
          "text": "Feature Importance"
         }
        },
        "yaxis": {
         "title": {
          "text": "Features"
         }
        }
       }
      }
     },
     "metadata": {},
     "output_type": "display_data"
    },
    {
     "data": {
      "application/vnd.plotly.v1+json": {
       "config": {
        "plotlyServerURL": "https://plot.ly"
       },
       "data": [
        {
         "hovertemplate": "Actual: $%{x:,.0f}<br>Predicted: $%{y:,.0f}<extra></extra>",
         "marker": {
          "color": "blue",
          "opacity": 0.6
         },
         "mode": "markers",
         "name": "Predictions",
         "type": "scatter",
         "x": {
          "bdata": "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",
          "dtype": "f8"
         },
         "y": {
          "bdata": "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",
          "dtype": "f8"
         }
        },
        {
         "hovertemplate": "Perfect Line<extra></extra>",
         "line": {
          "color": "red",
          "dash": "dash"
         },
         "mode": "lines",
         "name": "Perfect Prediction",
         "type": "scatter",
         "x": [
          323375.5990498842,
          936563.6478603362
         ],
         "y": [
          323375.5990498842,
          936563.6478603362
         ]
        }
       ],
       "layout": {
        "height": 500,
        "template": {
         "data": {
          "bar": [
           {
            "error_x": {
             "color": "#2a3f5f"
            },
            "error_y": {
             "color": "#2a3f5f"
            },
            "marker": {
             "line": {
              "color": "#E5ECF6",
              "width": 0.5
             },
             "pattern": {
              "fillmode": "overlay",
              "size": 10,
              "solidity": 0.2
             }
            },
            "type": "bar"
           }
          ],
          "barpolar": [
           {
            "marker": {
             "line": {
              "color": "#E5ECF6",
              "width": 0.5
             },
             "pattern": {
              "fillmode": "overlay",
              "size": 10,
              "solidity": 0.2
             }
            },
            "type": "barpolar"
           }
          ],
          "carpet": [
           {
            "aaxis": {
             "endlinecolor": "#2a3f5f",
             "gridcolor": "white",
             "linecolor": "white",
             "minorgridcolor": "white",
             "startlinecolor": "#2a3f5f"
            },
            "baxis": {
             "endlinecolor": "#2a3f5f",
             "gridcolor": "white",
             "linecolor": "white",
             "minorgridcolor": "white",
             "startlinecolor": "#2a3f5f"
            },
            "type": "carpet"
           }
          ],
          "choropleth": [
           {
            "colorbar": {
             "outlinewidth": 0,
             "ticks": ""
            },
            "type": "choropleth"
           }
          ],
          "contour": [
           {
            "colorbar": {
             "outlinewidth": 0,
             "ticks": ""
            },
            "colorscale": [
             [
              0,
              "#0d0887"
             ],
             [
              0.1111111111111111,
              "#46039f"
             ],
             [
              0.2222222222222222,
              "#7201a8"
             ],
             [
              0.3333333333333333,
              "#9c179e"
             ],
             [
              0.4444444444444444,
              "#bd3786"
             ],
             [
              0.5555555555555556,
              "#d8576b"
             ],
             [
              0.6666666666666666,
              "#ed7953"
             ],
             [
              0.7777777777777778,
              "#fb9f3a"
             ],
             [
              0.8888888888888888,
              "#fdca26"
             ],
             [
              1,
              "#f0f921"
             ]
            ],
            "type": "contour"
           }
          ],
          "contourcarpet": [
           {
            "colorbar": {
             "outlinewidth": 0,
             "ticks": ""
            },
            "type": "contourcarpet"
           }
          ],
          "heatmap": [
           {
            "colorbar": {
             "outlinewidth": 0,
             "ticks": ""
            },
            "colorscale": [
             [
              0,
              "#0d0887"
             ],
             [
              0.1111111111111111,
              "#46039f"
             ],
             [
              0.2222222222222222,
              "#7201a8"
             ],
             [
              0.3333333333333333,
              "#9c179e"
             ],
             [
              0.4444444444444444,
              "#bd3786"
             ],
             [
              0.5555555555555556,
              "#d8576b"
             ],
             [
              0.6666666666666666,
              "#ed7953"
             ],
             [
              0.7777777777777778,
              "#fb9f3a"
             ],
             [
              0.8888888888888888,
              "#fdca26"
             ],
             [
              1,
              "#f0f921"
             ]
            ],
            "type": "heatmap"
           }
          ],
          "histogram": [
           {
            "marker": {
             "pattern": {
              "fillmode": "overlay",
              "size": 10,
              "solidity": 0.2
             }
            },
            "type": "histogram"
           }
          ],
          "histogram2d": [
           {
            "colorbar": {
             "outlinewidth": 0,
             "ticks": ""
            },
            "colorscale": [
             [
              0,
              "#0d0887"
             ],
             [
              0.1111111111111111,
              "#46039f"
             ],
             [
              0.2222222222222222,
              "#7201a8"
             ],
             [
              0.3333333333333333,
              "#9c179e"
             ],
             [
              0.4444444444444444,
              "#bd3786"
             ],
             [
              0.5555555555555556,
              "#d8576b"
             ],
             [
              0.6666666666666666,
              "#ed7953"
             ],
             [
              0.7777777777777778,
              "#fb9f3a"
             ],
             [
              0.8888888888888888,
              "#fdca26"
             ],
             [
              1,
              "#f0f921"
             ]
            ],
            "type": "histogram2d"
           }
          ],
          "histogram2dcontour": [
           {
            "colorbar": {
             "outlinewidth": 0,
             "ticks": ""
            },
            "colorscale": [
             [
              0,
              "#0d0887"
             ],
             [
              0.1111111111111111,
              "#46039f"
             ],
             [
              0.2222222222222222,
              "#7201a8"
             ],
             [
              0.3333333333333333,
              "#9c179e"
             ],
             [
              0.4444444444444444,
              "#bd3786"
             ],
             [
              0.5555555555555556,
              "#d8576b"
             ],
             [
              0.6666666666666666,
              "#ed7953"
             ],
             [
              0.7777777777777778,
              "#fb9f3a"
             ],
             [
              0.8888888888888888,
              "#fdca26"
             ],
             [
              1,
              "#f0f921"
             ]
            ],
            "type": "histogram2dcontour"
           }
          ],
          "mesh3d": [
           {
            "colorbar": {
             "outlinewidth": 0,
             "ticks": ""
            },
            "type": "mesh3d"
           }
          ],
          "parcoords": [
           {
            "line": {
             "colorbar": {
              "outlinewidth": 0,
              "ticks": ""
             }
            },
            "type": "parcoords"
           }
          ],
          "pie": [
           {
            "automargin": true,
            "type": "pie"
           }
          ],
          "scatter": [
           {
            "fillpattern": {
             "fillmode": "overlay",
             "size": 10,
             "solidity": 0.2
            },
            "type": "scatter"
           }
          ],
          "scatter3d": [
           {
            "line": {
             "colorbar": {
              "outlinewidth": 0,
              "ticks": ""
             }
            },
            "marker": {
             "colorbar": {
              "outlinewidth": 0,
              "ticks": ""
             }
            },
            "type": "scatter3d"
           }
          ],
          "scattercarpet": [
           {
            "marker": {
             "colorbar": {
              "outlinewidth": 0,
              "ticks": ""
             }
            },
            "type": "scattercarpet"
           }
          ],
          "scattergeo": [
           {
            "marker": {
             "colorbar": {
              "outlinewidth": 0,
              "ticks": ""
             }
            },
            "type": "scattergeo"
           }
          ],
          "scattergl": [
           {
            "marker": {
             "colorbar": {
              "outlinewidth": 0,
              "ticks": ""
             }
            },
            "type": "scattergl"
           }
          ],
          "scattermap": [
           {
            "marker": {
             "colorbar": {
              "outlinewidth": 0,
              "ticks": ""
             }
            },
            "type": "scattermap"
           }
          ],
          "scattermapbox": [
           {
            "marker": {
             "colorbar": {
              "outlinewidth": 0,
              "ticks": ""
             }
            },
            "type": "scattermapbox"
           }
          ],
          "scatterpolar": [
           {
            "marker": {
             "colorbar": {
              "outlinewidth": 0,
              "ticks": ""
             }
            },
            "type": "scatterpolar"
           }
          ],
          "scatterpolargl": [
           {
            "marker": {
             "colorbar": {
              "outlinewidth": 0,
              "ticks": ""
             }
            },
            "type": "scatterpolargl"
           }
          ],
          "scatterternary": [
           {
            "marker": {
             "colorbar": {
              "outlinewidth": 0,
              "ticks": ""
             }
            },
            "type": "scatterternary"
           }
          ],
          "surface": [
           {
            "colorbar": {
             "outlinewidth": 0,
             "ticks": ""
            },
            "colorscale": [
             [
              0,
              "#0d0887"
             ],
             [
              0.1111111111111111,
              "#46039f"
             ],
             [
              0.2222222222222222,
              "#7201a8"
             ],
             [
              0.3333333333333333,
              "#9c179e"
             ],
             [
              0.4444444444444444,
              "#bd3786"
             ],
             [
              0.5555555555555556,
              "#d8576b"
             ],
             [
              0.6666666666666666,
              "#ed7953"
             ],
             [
              0.7777777777777778,
              "#fb9f3a"
             ],
             [
              0.8888888888888888,
              "#fdca26"
             ],
             [
              1,
              "#f0f921"
             ]
            ],
            "type": "surface"
           }
          ],
          "table": [
           {
            "cells": {
             "fill": {
              "color": "#EBF0F8"
             },
             "line": {
              "color": "white"
             }
            },
            "header": {
             "fill": {
              "color": "#C8D4E3"
             },
             "line": {
              "color": "white"
             }
            },
            "type": "table"
           }
          ]
         },
         "layout": {
          "annotationdefaults": {
           "arrowcolor": "#2a3f5f",
           "arrowhead": 0,
           "arrowwidth": 1
          },
          "autotypenumbers": "strict",
          "coloraxis": {
           "colorbar": {
            "outlinewidth": 0,
            "ticks": ""
           }
          },
          "colorscale": {
           "diverging": [
            [
             0,
             "#8e0152"
            ],
            [
             0.1,
             "#c51b7d"
            ],
            [
             0.2,
             "#de77ae"
            ],
            [
             0.3,
             "#f1b6da"
            ],
            [
             0.4,
             "#fde0ef"
            ],
            [
             0.5,
             "#f7f7f7"
            ],
            [
             0.6,
             "#e6f5d0"
            ],
            [
             0.7,
             "#b8e186"
            ],
            [
             0.8,
             "#7fbc41"
            ],
            [
             0.9,
             "#4d9221"
            ],
            [
             1,
             "#276419"
            ]
           ],
           "sequential": [
            [
             0,
             "#0d0887"
            ],
            [
             0.1111111111111111,
             "#46039f"
            ],
            [
             0.2222222222222222,
             "#7201a8"
            ],
            [
             0.3333333333333333,
             "#9c179e"
            ],
            [
             0.4444444444444444,
             "#bd3786"
            ],
            [
             0.5555555555555556,
             "#d8576b"
            ],
            [
             0.6666666666666666,
             "#ed7953"
            ],
            [
             0.7777777777777778,
             "#fb9f3a"
            ],
            [
             0.8888888888888888,
             "#fdca26"
            ],
            [
             1,
             "#f0f921"
            ]
           ],
           "sequentialminus": [
            [
             0,
             "#0d0887"
            ],
            [
             0.1111111111111111,
             "#46039f"
            ],
            [
             0.2222222222222222,
             "#7201a8"
            ],
            [
             0.3333333333333333,
             "#9c179e"
            ],
            [
             0.4444444444444444,
             "#bd3786"
            ],
            [
             0.5555555555555556,
             "#d8576b"
            ],
            [
             0.6666666666666666,
             "#ed7953"
            ],
            [
             0.7777777777777778,
             "#fb9f3a"
            ],
            [
             0.8888888888888888,
             "#fdca26"
            ],
            [
             1,
             "#f0f921"
            ]
           ]
          },
          "colorway": [
           "#636efa",
           "#EF553B",
           "#00cc96",
           "#ab63fa",
           "#FFA15A",
           "#19d3f3",
           "#FF6692",
           "#B6E880",
           "#FF97FF",
           "#FECB52"
          ],
          "font": {
           "color": "#2a3f5f"
          },
          "geo": {
           "bgcolor": "white",
           "lakecolor": "white",
           "landcolor": "#E5ECF6",
           "showlakes": true,
           "showland": true,
           "subunitcolor": "white"
          },
          "hoverlabel": {
           "align": "left"
          },
          "hovermode": "closest",
          "mapbox": {
           "style": "light"
          },
          "paper_bgcolor": "white",
          "plot_bgcolor": "#E5ECF6",
          "polar": {
           "angularaxis": {
            "gridcolor": "white",
            "linecolor": "white",
            "ticks": ""
           },
           "bgcolor": "#E5ECF6",
           "radialaxis": {
            "gridcolor": "white",
            "linecolor": "white",
            "ticks": ""
           }
          },
          "scene": {
           "xaxis": {
            "backgroundcolor": "#E5ECF6",
            "gridcolor": "white",
            "gridwidth": 2,
            "linecolor": "white",
            "showbackground": true,
            "ticks": "",
            "zerolinecolor": "white"
           },
           "yaxis": {
            "backgroundcolor": "#E5ECF6",
            "gridcolor": "white",
            "gridwidth": 2,
            "linecolor": "white",
            "showbackground": true,
            "ticks": "",
            "zerolinecolor": "white"
           },
           "zaxis": {
            "backgroundcolor": "#E5ECF6",
            "gridcolor": "white",
            "gridwidth": 2,
            "linecolor": "white",
            "showbackground": true,
            "ticks": "",
            "zerolinecolor": "white"
           }
          },
          "shapedefaults": {
           "line": {
            "color": "#2a3f5f"
           }
          },
          "ternary": {
           "aaxis": {
            "gridcolor": "white",
            "linecolor": "white",
            "ticks": ""
           },
           "baxis": {
            "gridcolor": "white",
            "linecolor": "white",
            "ticks": ""
           },
           "bgcolor": "#E5ECF6",
           "caxis": {
            "gridcolor": "white",
            "linecolor": "white",
            "ticks": ""
           }
          },
          "title": {
           "x": 0.05
          },
          "xaxis": {
           "automargin": true,
           "gridcolor": "white",
           "linecolor": "white",
           "ticks": "",
           "title": {
            "standoff": 15
           },
           "zerolinecolor": "white",
           "zerolinewidth": 2
          },
          "yaxis": {
           "automargin": true,
           "gridcolor": "white",
           "linecolor": "white",
           "ticks": "",
           "title": {
            "standoff": 15
           },
           "zerolinecolor": "white",
           "zerolinewidth": 2
          }
         }
        },
        "title": {
         "text": "Random Forest: Actual vs Predicted House Prices (R² = 0.908)"
        },
        "xaxis": {
         "title": {
          "text": "Actual Price ($)"
         }
        },
        "yaxis": {
         "title": {
          "text": "Predicted Price ($)"
         }
        }
       }
      }
     },
     "metadata": {},
     "output_type": "display_data"
    },
    {
     "data": {
      "application/vnd.plotly.v1+json": {
       "config": {
        "plotlyServerURL": "https://plot.ly"
       },
       "data": [
        {
         "hovertemplate": "Predicted: $%{x:,.0f}<br>Residual: $%{y:,.0f}<extra></extra>",
         "marker": {
          "color": "green",
          "opacity": 0.6
         },
         "mode": "markers",
         "type": "scatter",
         "x": {
          "bdata": "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",
          "dtype": "f8"
         },
         "y": {
          "bdata": "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",
          "dtype": "f8"
         }
        }
       ],
       "layout": {
        "height": 500,
        "shapes": [
         {
          "line": {
           "color": "red",
           "dash": "dash"
          },
          "type": "line",
          "x0": 0,
          "x1": 1,
          "xref": "x domain",
          "y0": 0,
          "y1": 0,
          "yref": "y"
         }
        ],
        "template": {
         "data": {
          "bar": [
           {
            "error_x": {
             "color": "#2a3f5f"
            },
            "error_y": {
             "color": "#2a3f5f"
            },
            "marker": {
             "line": {
              "color": "#E5ECF6",
              "width": 0.5
             },
             "pattern": {
              "fillmode": "overlay",
              "size": 10,
              "solidity": 0.2
             }
            },
            "type": "bar"
           }
          ],
          "barpolar": [
           {
            "marker": {
             "line": {
              "color": "#E5ECF6",
              "width": 0.5
             },
             "pattern": {
              "fillmode": "overlay",
              "size": 10,
              "solidity": 0.2
             }
            },
            "type": "barpolar"
           }
          ],
          "carpet": [
           {
            "aaxis": {
             "endlinecolor": "#2a3f5f",
             "gridcolor": "white",
             "linecolor": "white",
             "minorgridcolor": "white",
             "startlinecolor": "#2a3f5f"
            },
            "baxis": {
             "endlinecolor": "#2a3f5f",
             "gridcolor": "white",
             "linecolor": "white",
             "minorgridcolor": "white",
             "startlinecolor": "#2a3f5f"
            },
            "type": "carpet"
           }
          ],
          "choropleth": [
           {
            "colorbar": {
             "outlinewidth": 0,
             "ticks": ""
            },
            "type": "choropleth"
           }
          ],
          "contour": [
           {
            "colorbar": {
             "outlinewidth": 0,
             "ticks": ""
            },
            "colorscale": [
             [
              0,
              "#0d0887"
             ],
             [
              0.1111111111111111,
              "#46039f"
             ],
             [
              0.2222222222222222,
              "#7201a8"
             ],
             [
              0.3333333333333333,
              "#9c179e"
             ],
             [
              0.4444444444444444,
              "#bd3786"
             ],
             [
              0.5555555555555556,
              "#d8576b"
             ],
             [
              0.6666666666666666,
              "#ed7953"
             ],
             [
              0.7777777777777778,
              "#fb9f3a"
             ],
             [
              0.8888888888888888,
              "#fdca26"
             ],
             [
              1,
              "#f0f921"
             ]
            ],
            "type": "contour"
           }
          ],
          "contourcarpet": [
           {
            "colorbar": {
             "outlinewidth": 0,
             "ticks": ""
            },
            "type": "contourcarpet"
           }
          ],
          "heatmap": [
           {
            "colorbar": {
             "outlinewidth": 0,
             "ticks": ""
            },
            "colorscale": [
             [
              0,
              "#0d0887"
             ],
             [
              0.1111111111111111,
              "#46039f"
             ],
             [
              0.2222222222222222,
              "#7201a8"
             ],
             [
              0.3333333333333333,
              "#9c179e"
             ],
             [
              0.4444444444444444,
              "#bd3786"
             ],
             [
              0.5555555555555556,
              "#d8576b"
             ],
             [
              0.6666666666666666,
              "#ed7953"
             ],
             [
              0.7777777777777778,
              "#fb9f3a"
             ],
             [
              0.8888888888888888,
              "#fdca26"
             ],
             [
              1,
              "#f0f921"
             ]
            ],
            "type": "heatmap"
           }
          ],
          "histogram": [
           {
            "marker": {
             "pattern": {
              "fillmode": "overlay",
              "size": 10,
              "solidity": 0.2
             }
            },
            "type": "histogram"
           }
          ],
          "histogram2d": [
           {
            "colorbar": {
             "outlinewidth": 0,
             "ticks": ""
            },
            "colorscale": [
             [
              0,
              "#0d0887"
             ],
             [
              0.1111111111111111,
              "#46039f"
             ],
             [
              0.2222222222222222,
              "#7201a8"
             ],
             [
              0.3333333333333333,
              "#9c179e"
             ],
             [
              0.4444444444444444,
              "#bd3786"
             ],
             [
              0.5555555555555556,
              "#d8576b"
             ],
             [
              0.6666666666666666,
              "#ed7953"
             ],
             [
              0.7777777777777778,
              "#fb9f3a"
             ],
             [
              0.8888888888888888,
              "#fdca26"
             ],
             [
              1,
              "#f0f921"
             ]
            ],
            "type": "histogram2d"
           }
          ],
          "histogram2dcontour": [
           {
            "colorbar": {
             "outlinewidth": 0,
             "ticks": ""
            },
            "colorscale": [
             [
              0,
              "#0d0887"
             ],
             [
              0.1111111111111111,
              "#46039f"
             ],
             [
              0.2222222222222222,
              "#7201a8"
             ],
             [
              0.3333333333333333,
              "#9c179e"
             ],
             [
              0.4444444444444444,
              "#bd3786"
             ],
             [
              0.5555555555555556,
              "#d8576b"
             ],
             [
              0.6666666666666666,
              "#ed7953"
             ],
             [
              0.7777777777777778,
              "#fb9f3a"
             ],
             [
              0.8888888888888888,
              "#fdca26"
             ],
             [
              1,
              "#f0f921"
             ]
            ],
            "type": "histogram2dcontour"
           }
          ],
          "mesh3d": [
           {
            "colorbar": {
             "outlinewidth": 0,
             "ticks": ""
            },
            "type": "mesh3d"
           }
          ],
          "parcoords": [
           {
            "line": {
             "colorbar": {
              "outlinewidth": 0,
              "ticks": ""
             }
            },
            "type": "parcoords"
           }
          ],
          "pie": [
           {
            "automargin": true,
            "type": "pie"
           }
          ],
          "scatter": [
           {
            "fillpattern": {
             "fillmode": "overlay",
             "size": 10,
             "solidity": 0.2
            },
            "type": "scatter"
           }
          ],
          "scatter3d": [
           {
            "line": {
             "colorbar": {
              "outlinewidth": 0,
              "ticks": ""
             }
            },
            "marker": {
             "colorbar": {
              "outlinewidth": 0,
              "ticks": ""
             }
            },
            "type": "scatter3d"
           }
          ],
          "scattercarpet": [
           {
            "marker": {
             "colorbar": {
              "outlinewidth": 0,
              "ticks": ""
             }
            },
            "type": "scattercarpet"
           }
          ],
          "scattergeo": [
           {
            "marker": {
             "colorbar": {
              "outlinewidth": 0,
              "ticks": ""
             }
            },
            "type": "scattergeo"
           }
          ],
          "scattergl": [
           {
            "marker": {
             "colorbar": {
              "outlinewidth": 0,
              "ticks": ""
             }
            },
            "type": "scattergl"
           }
          ],
          "scattermap": [
           {
            "marker": {
             "colorbar": {
              "outlinewidth": 0,
              "ticks": ""
             }
            },
            "type": "scattermap"
           }
          ],
          "scattermapbox": [
           {
            "marker": {
             "colorbar": {
              "outlinewidth": 0,
              "ticks": ""
             }
            },
            "type": "scattermapbox"
           }
          ],
          "scatterpolar": [
           {
            "marker": {
             "colorbar": {
              "outlinewidth": 0,
              "ticks": ""
             }
            },
            "type": "scatterpolar"
           }
          ],
          "scatterpolargl": [
           {
            "marker": {
             "colorbar": {
              "outlinewidth": 0,
              "ticks": ""
             }
            },
            "type": "scatterpolargl"
           }
          ],
          "scatterternary": [
           {
            "marker": {
             "colorbar": {
              "outlinewidth": 0,
              "ticks": ""
             }
            },
            "type": "scatterternary"
           }
          ],
          "surface": [
           {
            "colorbar": {
             "outlinewidth": 0,
             "ticks": ""
            },
            "colorscale": [
             [
              0,
              "#0d0887"
             ],
             [
              0.1111111111111111,
              "#46039f"
             ],
             [
              0.2222222222222222,
              "#7201a8"
             ],
             [
              0.3333333333333333,
              "#9c179e"
             ],
             [
              0.4444444444444444,
              "#bd3786"
             ],
             [
              0.5555555555555556,
              "#d8576b"
             ],
             [
              0.6666666666666666,
              "#ed7953"
             ],
             [
              0.7777777777777778,
              "#fb9f3a"
             ],
             [
              0.8888888888888888,
              "#fdca26"
             ],
             [
              1,
              "#f0f921"
             ]
            ],
            "type": "surface"
           }
          ],
          "table": [
           {
            "cells": {
             "fill": {
              "color": "#EBF0F8"
             },
             "line": {
              "color": "white"
             }
            },
            "header": {
             "fill": {
              "color": "#C8D4E3"
             },
             "line": {
              "color": "white"
             }
            },
            "type": "table"
           }
          ]
         },
         "layout": {
          "annotationdefaults": {
           "arrowcolor": "#2a3f5f",
           "arrowhead": 0,
           "arrowwidth": 1
          },
          "autotypenumbers": "strict",
          "coloraxis": {
           "colorbar": {
            "outlinewidth": 0,
            "ticks": ""
           }
          },
          "colorscale": {
           "diverging": [
            [
             0,
             "#8e0152"
            ],
            [
             0.1,
             "#c51b7d"
            ],
            [
             0.2,
             "#de77ae"
            ],
            [
             0.3,
             "#f1b6da"
            ],
            [
             0.4,
             "#fde0ef"
            ],
            [
             0.5,
             "#f7f7f7"
            ],
            [
             0.6,
             "#e6f5d0"
            ],
            [
             0.7,
             "#b8e186"
            ],
            [
             0.8,
             "#7fbc41"
            ],
            [
             0.9,
             "#4d9221"
            ],
            [
             1,
             "#276419"
            ]
           ],
           "sequential": [
            [
             0,
             "#0d0887"
            ],
            [
             0.1111111111111111,
             "#46039f"
            ],
            [
             0.2222222222222222,
             "#7201a8"
            ],
            [
             0.3333333333333333,
             "#9c179e"
            ],
            [
             0.4444444444444444,
             "#bd3786"
            ],
            [
             0.5555555555555556,
             "#d8576b"
            ],
            [
             0.6666666666666666,
             "#ed7953"
            ],
            [
             0.7777777777777778,
             "#fb9f3a"
            ],
            [
             0.8888888888888888,
             "#fdca26"
            ],
            [
             1,
             "#f0f921"
            ]
           ],
           "sequentialminus": [
            [
             0,
             "#0d0887"
            ],
            [
             0.1111111111111111,
             "#46039f"
            ],
            [
             0.2222222222222222,
             "#7201a8"
            ],
            [
             0.3333333333333333,
             "#9c179e"
            ],
            [
             0.4444444444444444,
             "#bd3786"
            ],
            [
             0.5555555555555556,
             "#d8576b"
            ],
            [
             0.6666666666666666,
             "#ed7953"
            ],
            [
             0.7777777777777778,
             "#fb9f3a"
            ],
            [
             0.8888888888888888,
             "#fdca26"
            ],
            [
             1,
             "#f0f921"
            ]
           ]
          },
          "colorway": [
           "#636efa",
           "#EF553B",
           "#00cc96",
           "#ab63fa",
           "#FFA15A",
           "#19d3f3",
           "#FF6692",
           "#B6E880",
           "#FF97FF",
           "#FECB52"
          ],
          "font": {
           "color": "#2a3f5f"
          },
          "geo": {
           "bgcolor": "white",
           "lakecolor": "white",
           "landcolor": "#E5ECF6",
           "showlakes": true,
           "showland": true,
           "subunitcolor": "white"
          },
          "hoverlabel": {
           "align": "left"
          },
          "hovermode": "closest",
          "mapbox": {
           "style": "light"
          },
          "paper_bgcolor": "white",
          "plot_bgcolor": "#E5ECF6",
          "polar": {
           "angularaxis": {
            "gridcolor": "white",
            "linecolor": "white",
            "ticks": ""
           },
           "bgcolor": "#E5ECF6",
           "radialaxis": {
            "gridcolor": "white",
            "linecolor": "white",
            "ticks": ""
           }
          },
          "scene": {
           "xaxis": {
            "backgroundcolor": "#E5ECF6",
            "gridcolor": "white",
            "gridwidth": 2,
            "linecolor": "white",
            "showbackground": true,
            "ticks": "",
            "zerolinecolor": "white"
           },
           "yaxis": {
            "backgroundcolor": "#E5ECF6",
            "gridcolor": "white",
            "gridwidth": 2,
            "linecolor": "white",
            "showbackground": true,
            "ticks": "",
            "zerolinecolor": "white"
           },
           "zaxis": {
            "backgroundcolor": "#E5ECF6",
            "gridcolor": "white",
            "gridwidth": 2,
            "linecolor": "white",
            "showbackground": true,
            "ticks": "",
            "zerolinecolor": "white"
           }
          },
          "shapedefaults": {
           "line": {
            "color": "#2a3f5f"
           }
          },
          "ternary": {
           "aaxis": {
            "gridcolor": "white",
            "linecolor": "white",
            "ticks": ""
           },
           "baxis": {
            "gridcolor": "white",
            "linecolor": "white",
            "ticks": ""
           },
           "bgcolor": "#E5ECF6",
           "caxis": {
            "gridcolor": "white",
            "linecolor": "white",
            "ticks": ""
           }
          },
          "title": {
           "x": 0.05
          },
          "xaxis": {
           "automargin": true,
           "gridcolor": "white",
           "linecolor": "white",
           "ticks": "",
           "title": {
            "standoff": 15
           },
           "zerolinecolor": "white",
           "zerolinewidth": 2
          },
          "yaxis": {
           "automargin": true,
           "gridcolor": "white",
           "linecolor": "white",
           "ticks": "",
           "title": {
            "standoff": 15
           },
           "zerolinecolor": "white",
           "zerolinewidth": 2
          }
         }
        },
        "title": {
         "text": "Random Forest Residuals Analysis"
        },
        "xaxis": {
         "title": {
          "text": "Predicted Price ($)"
         }
        },
        "yaxis": {
         "title": {
          "text": "Residuals ($)"
         }
        }
       }
      }
     },
     "metadata": {},
     "output_type": "display_data"
    },
    {
     "name": "stdout",
     "output_type": "stream",
     "text": [
      "\n",
      " Permutation Importance Analysis:\n",
      "Permutation Importance (more robust than built-in importance):\n",
      "• house_size: 1.4576 ± 0.1129\n",
      "• lot_size: 0.1405 ± 0.0217\n",
      "• bedrooms: 0.1234 ± 0.0218\n",
      "• school_rating: 0.0183 ± 0.0034\n",
      "• house_age: 0.0106 ± 0.0042\n",
      "Permutation Importance (more robust than built-in importance):\n",
      "• house_size: 1.4576 ± 0.1129\n",
      "• lot_size: 0.1405 ± 0.0217\n",
      "• bedrooms: 0.1234 ± 0.0218\n",
      "• school_rating: 0.0183 ± 0.0034\n",
      "• house_age: 0.0106 ± 0.0042\n"
     ]
    },
    {
     "data": {
      "application/vnd.plotly.v1+json": {
       "config": {
        "plotlyServerURL": "https://plot.ly"
       },
       "data": [
        {
         "hovertemplate": "Built-in: %{x:.4f}<br>Permutation: %{y:.4f}<br>Feature: %{text}<extra></extra>",
         "marker": {
          "color": "blue",
          "size": 10
         },
         "mode": "markers+text",
         "name": "Feature Importance Comparison",
         "text": [
          "house_size",
          "lot_size",
          "bedrooms",
          "school_rating",
          "house_age",
          "distance_to_downtown",
          "crime_rate",
          "renovation_score",
          "bathrooms",
          "parks_nearby",
          "shopping_centers_nearby",
          "garage_spaces",
          "has_pool",
          "has_fireplace",
          "has_basement"
         ],
         "textposition": "top center",
         "type": "scatter",
         "x": {
          "bdata": "x4dhDdK05z/4IYfHauK7P/oe07DL0qs/I66PTNPAlD/20YhrxZuUP53ofMLYmIs/MzF0tlakhj/piGoAQhKFP+c0rpza03w/gyMJ88t9cT8PnXZQlMhqP98EHEtwpGM/JjpgNrRXWT9D6Fdmgp1SP9UypOHLDFE/",
          "dtype": "f8"
         },
         "y": {
          "bdata": "KhvTW0tS9z8tpZiisfzBP31TG2cTlr8/cAn+uDDAkj/tfEp96M2FP9pnZx3PTXg/TTohhB0Eez9zZjRlbQ9yPxowNBGXqHI/mhlBJZxYMr+ahZgDtlwyP5qp15LHFCy/ZvThiRovTz8AxD77LTozv810WWVZaCg/",
          "dtype": "f8"
         }
        },
        {
         "line": {
          "color": "red",
          "dash": "dash"
         },
         "mode": "lines",
         "name": "Perfect Correlation",
         "showlegend": false,
         "type": "scatter",
         "x": [
          0,
          1.4575913988971458
         ],
         "y": [
          0,
          1.4575913988971458
         ]
        }
       ],
       "layout": {
        "height": 600,
        "template": {
         "data": {
          "bar": [
           {
            "error_x": {
             "color": "#2a3f5f"
            },
            "error_y": {
             "color": "#2a3f5f"
            },
            "marker": {
             "line": {
              "color": "#E5ECF6",
              "width": 0.5
             },
             "pattern": {
              "fillmode": "overlay",
              "size": 10,
              "solidity": 0.2
             }
            },
            "type": "bar"
           }
          ],
          "barpolar": [
           {
            "marker": {
             "line": {
              "color": "#E5ECF6",
              "width": 0.5
             },
             "pattern": {
              "fillmode": "overlay",
              "size": 10,
              "solidity": 0.2
             }
            },
            "type": "barpolar"
           }
          ],
          "carpet": [
           {
            "aaxis": {
             "endlinecolor": "#2a3f5f",
             "gridcolor": "white",
             "linecolor": "white",
             "minorgridcolor": "white",
             "startlinecolor": "#2a3f5f"
            },
            "baxis": {
             "endlinecolor": "#2a3f5f",
             "gridcolor": "white",
             "linecolor": "white",
             "minorgridcolor": "white",
             "startlinecolor": "#2a3f5f"
            },
            "type": "carpet"
           }
          ],
          "choropleth": [
           {
            "colorbar": {
             "outlinewidth": 0,
             "ticks": ""
            },
            "type": "choropleth"
           }
          ],
          "contour": [
           {
            "colorbar": {
             "outlinewidth": 0,
             "ticks": ""
            },
            "colorscale": [
             [
              0,
              "#0d0887"
             ],
             [
              0.1111111111111111,
              "#46039f"
             ],
             [
              0.2222222222222222,
              "#7201a8"
             ],
             [
              0.3333333333333333,
              "#9c179e"
             ],
             [
              0.4444444444444444,
              "#bd3786"
             ],
             [
              0.5555555555555556,
              "#d8576b"
             ],
             [
              0.6666666666666666,
              "#ed7953"
             ],
             [
              0.7777777777777778,
              "#fb9f3a"
             ],
             [
              0.8888888888888888,
              "#fdca26"
             ],
             [
              1,
              "#f0f921"
             ]
            ],
            "type": "contour"
           }
          ],
          "contourcarpet": [
           {
            "colorbar": {
             "outlinewidth": 0,
             "ticks": ""
            },
            "type": "contourcarpet"
           }
          ],
          "heatmap": [
           {
            "colorbar": {
             "outlinewidth": 0,
             "ticks": ""
            },
            "colorscale": [
             [
              0,
              "#0d0887"
             ],
             [
              0.1111111111111111,
              "#46039f"
             ],
             [
              0.2222222222222222,
              "#7201a8"
             ],
             [
              0.3333333333333333,
              "#9c179e"
             ],
             [
              0.4444444444444444,
              "#bd3786"
             ],
             [
              0.5555555555555556,
              "#d8576b"
             ],
             [
              0.6666666666666666,
              "#ed7953"
             ],
             [
              0.7777777777777778,
              "#fb9f3a"
             ],
             [
              0.8888888888888888,
              "#fdca26"
             ],
             [
              1,
              "#f0f921"
             ]
            ],
            "type": "heatmap"
           }
          ],
          "histogram": [
           {
            "marker": {
             "pattern": {
              "fillmode": "overlay",
              "size": 10,
              "solidity": 0.2
             }
            },
            "type": "histogram"
           }
          ],
          "histogram2d": [
           {
            "colorbar": {
             "outlinewidth": 0,
             "ticks": ""
            },
            "colorscale": [
             [
              0,
              "#0d0887"
             ],
             [
              0.1111111111111111,
              "#46039f"
             ],
             [
              0.2222222222222222,
              "#7201a8"
             ],
             [
              0.3333333333333333,
              "#9c179e"
             ],
             [
              0.4444444444444444,
              "#bd3786"
             ],
             [
              0.5555555555555556,
              "#d8576b"
             ],
             [
              0.6666666666666666,
              "#ed7953"
             ],
             [
              0.7777777777777778,
              "#fb9f3a"
             ],
             [
              0.8888888888888888,
              "#fdca26"
             ],
             [
              1,
              "#f0f921"
             ]
            ],
            "type": "histogram2d"
           }
          ],
          "histogram2dcontour": [
           {
            "colorbar": {
             "outlinewidth": 0,
             "ticks": ""
            },
            "colorscale": [
             [
              0,
              "#0d0887"
             ],
             [
              0.1111111111111111,
              "#46039f"
             ],
             [
              0.2222222222222222,
              "#7201a8"
             ],
             [
              0.3333333333333333,
              "#9c179e"
             ],
             [
              0.4444444444444444,
              "#bd3786"
             ],
             [
              0.5555555555555556,
              "#d8576b"
             ],
             [
              0.6666666666666666,
              "#ed7953"
             ],
             [
              0.7777777777777778,
              "#fb9f3a"
             ],
             [
              0.8888888888888888,
              "#fdca26"
             ],
             [
              1,
              "#f0f921"
             ]
            ],
            "type": "histogram2dcontour"
           }
          ],
          "mesh3d": [
           {
            "colorbar": {
             "outlinewidth": 0,
             "ticks": ""
            },
            "type": "mesh3d"
           }
          ],
          "parcoords": [
           {
            "line": {
             "colorbar": {
              "outlinewidth": 0,
              "ticks": ""
             }
            },
            "type": "parcoords"
           }
          ],
          "pie": [
           {
            "automargin": true,
            "type": "pie"
           }
          ],
          "scatter": [
           {
            "fillpattern": {
             "fillmode": "overlay",
             "size": 10,
             "solidity": 0.2
            },
            "type": "scatter"
           }
          ],
          "scatter3d": [
           {
            "line": {
             "colorbar": {
              "outlinewidth": 0,
              "ticks": ""
             }
            },
            "marker": {
             "colorbar": {
              "outlinewidth": 0,
              "ticks": ""
             }
            },
            "type": "scatter3d"
           }
          ],
          "scattercarpet": [
           {
            "marker": {
             "colorbar": {
              "outlinewidth": 0,
              "ticks": ""
             }
            },
            "type": "scattercarpet"
           }
          ],
          "scattergeo": [
           {
            "marker": {
             "colorbar": {
              "outlinewidth": 0,
              "ticks": ""
             }
            },
            "type": "scattergeo"
           }
          ],
          "scattergl": [
           {
            "marker": {
             "colorbar": {
              "outlinewidth": 0,
              "ticks": ""
             }
            },
            "type": "scattergl"
           }
          ],
          "scattermap": [
           {
            "marker": {
             "colorbar": {
              "outlinewidth": 0,
              "ticks": ""
             }
            },
            "type": "scattermap"
           }
          ],
          "scattermapbox": [
           {
            "marker": {
             "colorbar": {
              "outlinewidth": 0,
              "ticks": ""
             }
            },
            "type": "scattermapbox"
           }
          ],
          "scatterpolar": [
           {
            "marker": {
             "colorbar": {
              "outlinewidth": 0,
              "ticks": ""
             }
            },
            "type": "scatterpolar"
           }
          ],
          "scatterpolargl": [
           {
            "marker": {
             "colorbar": {
              "outlinewidth": 0,
              "ticks": ""
             }
            },
            "type": "scatterpolargl"
           }
          ],
          "scatterternary": [
           {
            "marker": {
             "colorbar": {
              "outlinewidth": 0,
              "ticks": ""
             }
            },
            "type": "scatterternary"
           }
          ],
          "surface": [
           {
            "colorbar": {
             "outlinewidth": 0,
             "ticks": ""
            },
            "colorscale": [
             [
              0,
              "#0d0887"
             ],
             [
              0.1111111111111111,
              "#46039f"
             ],
             [
              0.2222222222222222,
              "#7201a8"
             ],
             [
              0.3333333333333333,
              "#9c179e"
             ],
             [
              0.4444444444444444,
              "#bd3786"
             ],
             [
              0.5555555555555556,
              "#d8576b"
             ],
             [
              0.6666666666666666,
              "#ed7953"
             ],
             [
              0.7777777777777778,
              "#fb9f3a"
             ],
             [
              0.8888888888888888,
              "#fdca26"
             ],
             [
              1,
              "#f0f921"
             ]
            ],
            "type": "surface"
           }
          ],
          "table": [
           {
            "cells": {
             "fill": {
              "color": "#EBF0F8"
             },
             "line": {
              "color": "white"
             }
            },
            "header": {
             "fill": {
              "color": "#C8D4E3"
             },
             "line": {
              "color": "white"
             }
            },
            "type": "table"
           }
          ]
         },
         "layout": {
          "annotationdefaults": {
           "arrowcolor": "#2a3f5f",
           "arrowhead": 0,
           "arrowwidth": 1
          },
          "autotypenumbers": "strict",
          "coloraxis": {
           "colorbar": {
            "outlinewidth": 0,
            "ticks": ""
           }
          },
          "colorscale": {
           "diverging": [
            [
             0,
             "#8e0152"
            ],
            [
             0.1,
             "#c51b7d"
            ],
            [
             0.2,
             "#de77ae"
            ],
            [
             0.3,
             "#f1b6da"
            ],
            [
             0.4,
             "#fde0ef"
            ],
            [
             0.5,
             "#f7f7f7"
            ],
            [
             0.6,
             "#e6f5d0"
            ],
            [
             0.7,
             "#b8e186"
            ],
            [
             0.8,
             "#7fbc41"
            ],
            [
             0.9,
             "#4d9221"
            ],
            [
             1,
             "#276419"
            ]
           ],
           "sequential": [
            [
             0,
             "#0d0887"
            ],
            [
             0.1111111111111111,
             "#46039f"
            ],
            [
             0.2222222222222222,
             "#7201a8"
            ],
            [
             0.3333333333333333,
             "#9c179e"
            ],
            [
             0.4444444444444444,
             "#bd3786"
            ],
            [
             0.5555555555555556,
             "#d8576b"
            ],
            [
             0.6666666666666666,
             "#ed7953"
            ],
            [
             0.7777777777777778,
             "#fb9f3a"
            ],
            [
             0.8888888888888888,
             "#fdca26"
            ],
            [
             1,
             "#f0f921"
            ]
           ],
           "sequentialminus": [
            [
             0,
             "#0d0887"
            ],
            [
             0.1111111111111111,
             "#46039f"
            ],
            [
             0.2222222222222222,
             "#7201a8"
            ],
            [
             0.3333333333333333,
             "#9c179e"
            ],
            [
             0.4444444444444444,
             "#bd3786"
            ],
            [
             0.5555555555555556,
             "#d8576b"
            ],
            [
             0.6666666666666666,
             "#ed7953"
            ],
            [
             0.7777777777777778,
             "#fb9f3a"
            ],
            [
             0.8888888888888888,
             "#fdca26"
            ],
            [
             1,
             "#f0f921"
            ]
           ]
          },
          "colorway": [
           "#636efa",
           "#EF553B",
           "#00cc96",
           "#ab63fa",
           "#FFA15A",
           "#19d3f3",
           "#FF6692",
           "#B6E880",
           "#FF97FF",
           "#FECB52"
          ],
          "font": {
           "color": "#2a3f5f"
          },
          "geo": {
           "bgcolor": "white",
           "lakecolor": "white",
           "landcolor": "#E5ECF6",
           "showlakes": true,
           "showland": true,
           "subunitcolor": "white"
          },
          "hoverlabel": {
           "align": "left"
          },
          "hovermode": "closest",
          "mapbox": {
           "style": "light"
          },
          "paper_bgcolor": "white",
          "plot_bgcolor": "#E5ECF6",
          "polar": {
           "angularaxis": {
            "gridcolor": "white",
            "linecolor": "white",
            "ticks": ""
           },
           "bgcolor": "#E5ECF6",
           "radialaxis": {
            "gridcolor": "white",
            "linecolor": "white",
            "ticks": ""
           }
          },
          "scene": {
           "xaxis": {
            "backgroundcolor": "#E5ECF6",
            "gridcolor": "white",
            "gridwidth": 2,
            "linecolor": "white",
            "showbackground": true,
            "ticks": "",
            "zerolinecolor": "white"
           },
           "yaxis": {
            "backgroundcolor": "#E5ECF6",
            "gridcolor": "white",
            "gridwidth": 2,
            "linecolor": "white",
            "showbackground": true,
            "ticks": "",
            "zerolinecolor": "white"
           },
           "zaxis": {
            "backgroundcolor": "#E5ECF6",
            "gridcolor": "white",
            "gridwidth": 2,
            "linecolor": "white",
            "showbackground": true,
            "ticks": "",
            "zerolinecolor": "white"
           }
          },
          "shapedefaults": {
           "line": {
            "color": "#2a3f5f"
           }
          },
          "ternary": {
           "aaxis": {
            "gridcolor": "white",
            "linecolor": "white",
            "ticks": ""
           },
           "baxis": {
            "gridcolor": "white",
            "linecolor": "white",
            "ticks": ""
           },
           "bgcolor": "#E5ECF6",
           "caxis": {
            "gridcolor": "white",
            "linecolor": "white",
            "ticks": ""
           }
          },
          "title": {
           "x": 0.05
          },
          "xaxis": {
           "automargin": true,
           "gridcolor": "white",
           "linecolor": "white",
           "ticks": "",
           "title": {
            "standoff": 15
           },
           "zerolinecolor": "white",
           "zerolinewidth": 2
          },
          "yaxis": {
           "automargin": true,
           "gridcolor": "white",
           "linecolor": "white",
           "ticks": "",
           "title": {
            "standoff": 15
           },
           "zerolinecolor": "white",
           "zerolinewidth": 2
          }
         }
        },
        "title": {
         "text": "Built-in vs Permutation Feature Importance"
        },
        "xaxis": {
         "title": {
          "text": "Built-in Importance"
         }
        },
        "yaxis": {
         "title": {
          "text": "Permutation Importance"
         }
        }
       }
      }
     },
     "metadata": {},
     "output_type": "display_data"
    }
   ],
   "source": [
    "# 2. RANDOM FOREST REGRESSION ANALYSIS\n",
    "print(\" 2. RANDOM FOREST REGRESSION ANALYSIS\")\n",
    "print(\"=\" * 37)\n",
    "\n",
    "# Prepare regression data\n",
    "reg_features = ['house_size', 'bedrooms', 'bathrooms', 'garage_spaces', 'house_age',\n",
    " 'lot_size', 'distance_to_downtown', 'school_rating', 'crime_rate',\n",
    " 'parks_nearby', 'shopping_centers_nearby', 'renovation_score',\n",
    " 'has_pool', 'has_fireplace', 'has_basement']\n",
    "X_reg = regression_df[reg_features]\n",
    "y_reg = regression_df['price']\n",
    "\n",
    "# Split data\n",
    "X_reg_train, X_reg_test, y_reg_train, y_reg_test = train_test_split(\n",
    " X_reg, y_reg, test_size=0.2, random_state=42\n",
    ")\n",
    "\n",
    "print(f\"Training set: {X_reg_train.shape}\")\n",
    "print(f\"Test set: {X_reg_test.shape}\")\n",
    "\n",
    "# Train Random Forest Regressor\n",
    "rf_reg = RandomForestRegressor(n_estimators=100, oob_score=True, random_state=42)\n",
    "rf_reg.fit(X_reg_train, y_reg_train)\n",
    "\n",
    "# Predictions\n",
    "y_reg_pred = rf_reg.predict(X_reg_test)\n",
    "\n",
    "# Performance metrics\n",
    "reg_mse = mean_squared_error(y_reg_test, y_reg_pred)\n",
    "reg_r2 = r2_score(y_reg_test, y_reg_pred)\n",
    "reg_mae = mean_absolute_error(y_reg_test, y_reg_pred)\n",
    "\n",
    "print(f\"\\n Random Forest Regression Performance:\")\n",
    "print(f\"• Test R²: {reg_r2:.4f}\")\n",
    "print(f\"• Test RMSE: ${np.sqrt(reg_mse):,.0f}\")\n",
    "print(f\"• Test MAE: ${reg_mae:,.0f}\")\n",
    "print(f\"• OOB Score: {rf_reg.oob_score_:.4f}\")\n",
    "\n",
    "# Cross-validation\n",
    "cv_scores_reg = cross_val_score(rf_reg, X_reg_train, y_reg_train, cv=5, scoring='r2')\n",
    "print(f\"• Cross-validation R²: {cv_scores_reg.mean():.4f} ± {cv_scores_reg.std():.4f}\")\n",
    "\n",
    "# Feature importance for regression\n",
    "reg_importance = rf_reg.feature_importances_\n",
    "reg_importance_df = pd.DataFrame({\n",
    " 'Feature': reg_features,\n",
    " 'Importance': reg_importance\n",
    "}).sort_values('Importance', ascending=False)\n",
    "\n",
    "print(f\"\\n Feature Importance Analysis (House Price Prediction):\")\n",
    "for _, row in reg_importance_df.iterrows():\n",
    " print(f\"• {row['Feature']}: {row['Importance']:.4f}\")\n",
    "\n",
    "# Visualize regression feature importance\n",
    "fig_reg_importance = go.Figure()\n",
    "\n",
    "fig_reg_importance.add_trace(\n",
    " go.Bar(\n",
    " x=reg_importance_df['Importance'],\n",
    " y=reg_importance_df['Feature'],\n",
    " orientation='h',\n",
    " marker_color='lightgreen',\n",
    " hovertemplate=\"Feature: %{y}<br>Importance: %{x:.4f}<extra></extra>\"\n",
    " )\n",
    ")\n",
    "\n",
    "fig_reg_importance.update_layout(\n",
    " title=\"Random Forest Feature Importance (House Price Prediction)\",\n",
    " xaxis_title=\"Feature Importance\",\n",
    " yaxis_title=\"Features\",\n",
    " height=600\n",
    ")\n",
    "fig_reg_importance.show()\n",
    "\n",
    "# Actual vs Predicted plot\n",
    "fig_pred = go.Figure()\n",
    "\n",
    "fig_pred.add_trace(\n",
    " go.Scatter(\n",
    " x=y_reg_test,\n",
    " y=y_reg_pred,\n",
    " mode='markers',\n",
    " marker=dict(color='blue', opacity=0.6),\n",
    " name='Predictions',\n",
    " hovertemplate=\"Actual: $%{x:,.0f}<br>Predicted: $%{y:,.0f}<extra></extra>\"\n",
    " )\n",
    ")\n",
    "\n",
    "# Perfect prediction line\n",
    "min_price = min(y_reg_test.min(), y_reg_pred.min())\n",
    "max_price = max(y_reg_test.max(), y_reg_pred.max())\n",
    "\n",
    "fig_pred.add_trace(\n",
    " go.Scatter(\n",
    " x=[min_price, max_price],\n",
    " y=[min_price, max_price],\n",
    " mode='lines',\n",
    " line=dict(color='red', dash='dash'),\n",
    " name='Perfect Prediction',\n",
    " hovertemplate=\"Perfect Line<extra></extra>\"\n",
    " )\n",
    ")\n",
    "\n",
    "fig_pred.update_layout(\n",
    " title=f\"Random Forest: Actual vs Predicted House Prices (R² = {reg_r2:.3f})\",\n",
    " xaxis_title=\"Actual Price ($)\",\n",
    " yaxis_title=\"Predicted Price ($)\",\n",
    " height=500\n",
    ")\n",
    "fig_pred.show()\n",
    "\n",
    "# Residuals analysis\n",
    "residuals = y_reg_test - y_reg_pred\n",
    "\n",
    "fig_residuals = go.Figure()\n",
    "\n",
    "fig_residuals.add_trace(\n",
    " go.Scatter(\n",
    " x=y_reg_pred,\n",
    " y=residuals,\n",
    " mode='markers',\n",
    " marker=dict(color='green', opacity=0.6),\n",
    " hovertemplate=\"Predicted: $%{x:,.0f}<br>Residual: $%{y:,.0f}<extra></extra>\"\n",
    " )\n",
    ")\n",
    "\n",
    "fig_residuals.add_hline(y=0, line_dash=\"dash\", line_color=\"red\")\n",
    "\n",
    "fig_residuals.update_layout(\n",
    " title=\"Random Forest Residuals Analysis\",\n",
    " xaxis_title=\"Predicted Price ($)\",\n",
    " yaxis_title=\"Residuals ($)\",\n",
    " height=500\n",
    ")\n",
    "fig_residuals.show()\n",
    "\n",
    "# Permutation importance for more robust feature ranking\n",
    "print(f\"\\n Permutation Importance Analysis:\")\n",
    "\n",
    "perm_importance = permutation_importance(\n",
    " rf_reg, X_reg_test, y_reg_test, n_repeats=10, random_state=42\n",
    ")\n",
    "\n",
    "perm_importance_df = pd.DataFrame({\n",
    " 'Feature': reg_features,\n",
    " 'Perm_Importance_Mean': perm_importance.importances_mean,\n",
    " 'Perm_Importance_Std': perm_importance.importances_std\n",
    "}).sort_values('Perm_Importance_Mean', ascending=False)\n",
    "\n",
    "print(\"Permutation Importance (more robust than built-in importance):\")\n",
    "for _, row in perm_importance_df.head(5).iterrows():\n",
    " print(f\"• {row['Feature']}: {row['Perm_Importance_Mean']:.4f} ± {row['Perm_Importance_Std']:.4f}\")\n",
    "\n",
    "# Compare built-in vs permutation importance\n",
    "fig_importance_comparison = go.Figure()\n",
    "\n",
    "# Merge dataframes for comparison\n",
    "comparison_df = reg_importance_df.merge(\n",
    " perm_importance_df, on='Feature', suffixes=('_builtin', '_permutation')\n",
    ")\n",
    "\n",
    "fig_importance_comparison.add_trace(\n",
    " go.Scatter(\n",
    " x=comparison_df['Importance'],\n",
    " y=comparison_df['Perm_Importance_Mean'],\n",
    " mode='markers+text',\n",
    " text=comparison_df['Feature'],\n",
    " textposition='top center',\n",
    " marker=dict(size=10, color='blue'),\n",
    " name='Feature Importance Comparison',\n",
    " hovertemplate=\"Built-in: %{x:.4f}<br>Permutation: %{y:.4f}<br>Feature: %{text}<extra></extra>\"\n",
    " )\n",
    ")\n",
    "\n",
    "# Add diagonal line for perfect correlation\n",
    "max_importance = max(comparison_df['Importance'].max(), comparison_df['Perm_Importance_Mean'].max())\n",
    "fig_importance_comparison.add_trace(\n",
    " go.Scatter(\n",
    " x=[0, max_importance],\n",
    " y=[0, max_importance],\n",
    " mode='lines',\n",
    " line=dict(color='red', dash='dash'),\n",
    " name='Perfect Correlation',\n",
    " showlegend=False\n",
    " )\n",
    ")\n",
    "\n",
    "fig_importance_comparison.update_layout(\n",
    " title=\"Built-in vs Permutation Feature Importance\",\n",
    " xaxis_title=\"Built-in Importance\",\n",
    " yaxis_title=\"Permutation Importance\",\n",
    " height=600\n",
    ")\n",
    "fig_importance_comparison.show()"
   ]
  },
  {
   "cell_type": "code",
   "execution_count": 9,
   "id": "279abd66",
   "metadata": {},
   "outputs": [
    {
     "name": "stdout",
     "output_type": "stream",
     "text": [
      " 3. HIGH-DIMENSIONAL DATA ANALYSIS\n",
      "=================================\n",
      "Gene expression dataset: (400, 100)\n",
      "Number of features: 100\n",
      "Sample size: 400\n",
      "Training set: (320, 100)\n",
      "Test set: (80, 100)\n",
      "\n",
      " High-dimensional Random Forest Performance:\n",
      "• Test Accuracy: 1.0000\n",
      "• ROC AUC: 1.0000\n",
      "• OOB Score: 1.0000\n",
      "\n",
      " Top 15 Most Important Genes:\n",
      "• Gene_052: 0.0608 (Signal)\n",
      "• Gene_062: 0.0600 (Signal)\n",
      "• Gene_060: 0.0562 (Signal)\n",
      "• Gene_002: 0.0562 (Signal)\n",
      "• Gene_059: 0.0537 (Signal)\n",
      "• Gene_047: 0.0519 (Signal)\n",
      "• Gene_050: 0.0502 (Signal)\n",
      "• Gene_058: 0.0490 (Signal)\n",
      "• Gene_057: 0.0473 (Signal)\n",
      "• Gene_065: 0.0437 (Signal)\n",
      "• Gene_063: 0.0409 (Signal)\n",
      "• Gene_064: 0.0401 (Signal)\n",
      "• Gene_051: 0.0344 (Signal)\n",
      "• Gene_046: 0.0313 (Signal)\n",
      "• Gene_049: 0.0269 (Signal)\n",
      "\n",
      " Top 15 Most Important Genes:\n",
      "• Gene_052: 0.0608 (Signal)\n",
      "• Gene_062: 0.0600 (Signal)\n",
      "• Gene_060: 0.0562 (Signal)\n",
      "• Gene_002: 0.0562 (Signal)\n",
      "• Gene_059: 0.0537 (Signal)\n",
      "• Gene_047: 0.0519 (Signal)\n",
      "• Gene_050: 0.0502 (Signal)\n",
      "• Gene_058: 0.0490 (Signal)\n",
      "• Gene_057: 0.0473 (Signal)\n",
      "• Gene_065: 0.0437 (Signal)\n",
      "• Gene_063: 0.0409 (Signal)\n",
      "• Gene_064: 0.0401 (Signal)\n",
      "• Gene_051: 0.0344 (Signal)\n",
      "• Gene_046: 0.0313 (Signal)\n",
      "• Gene_049: 0.0269 (Signal)\n"
     ]
    },
    {
     "data": {
      "application/vnd.plotly.v1+json": {
       "config": {
        "plotlyServerURL": "https://plot.ly"
       },
       "data": [
        {
         "hovertemplate": "Gene: %{x}<br>Importance: %{y:.4f}<extra></extra>",
         "marker": {
          "color": [
           "green",
           "green",
           "green",
           "green",
           "green",
           "green",
           "green",
           "green",
           "green",
           "green",
           "green",
           "green",
           "green",
           "green",
           "green",
           "green",
           "green",
           "green",
           "green",
           "green"
          ]
         },
         "type": "bar",
         "x": [
          "Gene_052",
          "Gene_062",
          "Gene_060",
          "Gene_002",
          "Gene_059",
          "Gene_047",
          "Gene_050",
          "Gene_058",
          "Gene_057",
          "Gene_065",
          "Gene_063",
          "Gene_064",
          "Gene_051",
          "Gene_046",
          "Gene_049",
          "Gene_019",
          "Gene_056",
          "Gene_048",
          "Gene_001",
          "Gene_023"
         ],
         "y": {
          "bdata": "Jt3q7lkgrz+8a3s/6rWuP64VXwQZy6w/gAeQPPrIrD8E4XSfFISrP8yCGDJ0j6o/ip0HIcexqT8KquohghmpP1NVgQWBMag/s6A2LBVcpj/pGkHfv/KkP6oZz+G0gaQ/SfxolBSZoT+2G4e7cQWgP+9MCpnZhZs/NFzPLh1vlj8bRjllcH2VP+Hn0ADCCpQ/BSPpcXG0kz+shRz39diSPw==",
          "dtype": "f8"
         }
        }
       ],
       "layout": {
        "height": 600,
        "template": {
         "data": {
          "bar": [
           {
            "error_x": {
             "color": "#2a3f5f"
            },
            "error_y": {
             "color": "#2a3f5f"
            },
            "marker": {
             "line": {
              "color": "#E5ECF6",
              "width": 0.5
             },
             "pattern": {
              "fillmode": "overlay",
              "size": 10,
              "solidity": 0.2
             }
            },
            "type": "bar"
           }
          ],
          "barpolar": [
           {
            "marker": {
             "line": {
              "color": "#E5ECF6",
              "width": 0.5
             },
             "pattern": {
              "fillmode": "overlay",
              "size": 10,
              "solidity": 0.2
             }
            },
            "type": "barpolar"
           }
          ],
          "carpet": [
           {
            "aaxis": {
             "endlinecolor": "#2a3f5f",
             "gridcolor": "white",
             "linecolor": "white",
             "minorgridcolor": "white",
             "startlinecolor": "#2a3f5f"
            },
            "baxis": {
             "endlinecolor": "#2a3f5f",
             "gridcolor": "white",
             "linecolor": "white",
             "minorgridcolor": "white",
             "startlinecolor": "#2a3f5f"
            },
            "type": "carpet"
           }
          ],
          "choropleth": [
           {
            "colorbar": {
             "outlinewidth": 0,
             "ticks": ""
            },
            "type": "choropleth"
           }
          ],
          "contour": [
           {
            "colorbar": {
             "outlinewidth": 0,
             "ticks": ""
            },
            "colorscale": [
             [
              0,
              "#0d0887"
             ],
             [
              0.1111111111111111,
              "#46039f"
             ],
             [
              0.2222222222222222,
              "#7201a8"
             ],
             [
              0.3333333333333333,
              "#9c179e"
             ],
             [
              0.4444444444444444,
              "#bd3786"
             ],
             [
              0.5555555555555556,
              "#d8576b"
             ],
             [
              0.6666666666666666,
              "#ed7953"
             ],
             [
              0.7777777777777778,
              "#fb9f3a"
             ],
             [
              0.8888888888888888,
              "#fdca26"
             ],
             [
              1,
              "#f0f921"
             ]
            ],
            "type": "contour"
           }
          ],
          "contourcarpet": [
           {
            "colorbar": {
             "outlinewidth": 0,
             "ticks": ""
            },
            "type": "contourcarpet"
           }
          ],
          "heatmap": [
           {
            "colorbar": {
             "outlinewidth": 0,
             "ticks": ""
            },
            "colorscale": [
             [
              0,
              "#0d0887"
             ],
             [
              0.1111111111111111,
              "#46039f"
             ],
             [
              0.2222222222222222,
              "#7201a8"
             ],
             [
              0.3333333333333333,
              "#9c179e"
             ],
             [
              0.4444444444444444,
              "#bd3786"
             ],
             [
              0.5555555555555556,
              "#d8576b"
             ],
             [
              0.6666666666666666,
              "#ed7953"
             ],
             [
              0.7777777777777778,
              "#fb9f3a"
             ],
             [
              0.8888888888888888,
              "#fdca26"
             ],
             [
              1,
              "#f0f921"
             ]
            ],
            "type": "heatmap"
           }
          ],
          "histogram": [
           {
            "marker": {
             "pattern": {
              "fillmode": "overlay",
              "size": 10,
              "solidity": 0.2
             }
            },
            "type": "histogram"
           }
          ],
          "histogram2d": [
           {
            "colorbar": {
             "outlinewidth": 0,
             "ticks": ""
            },
            "colorscale": [
             [
              0,
              "#0d0887"
             ],
             [
              0.1111111111111111,
              "#46039f"
             ],
             [
              0.2222222222222222,
              "#7201a8"
             ],
             [
              0.3333333333333333,
              "#9c179e"
             ],
             [
              0.4444444444444444,
              "#bd3786"
             ],
             [
              0.5555555555555556,
              "#d8576b"
             ],
             [
              0.6666666666666666,
              "#ed7953"
             ],
             [
              0.7777777777777778,
              "#fb9f3a"
             ],
             [
              0.8888888888888888,
              "#fdca26"
             ],
             [
              1,
              "#f0f921"
             ]
            ],
            "type": "histogram2d"
           }
          ],
          "histogram2dcontour": [
           {
            "colorbar": {
             "outlinewidth": 0,
             "ticks": ""
            },
            "colorscale": [
             [
              0,
              "#0d0887"
             ],
             [
              0.1111111111111111,
              "#46039f"
             ],
             [
              0.2222222222222222,
              "#7201a8"
             ],
             [
              0.3333333333333333,
              "#9c179e"
             ],
             [
              0.4444444444444444,
              "#bd3786"
             ],
             [
              0.5555555555555556,
              "#d8576b"
             ],
             [
              0.6666666666666666,
              "#ed7953"
             ],
             [
              0.7777777777777778,
              "#fb9f3a"
             ],
             [
              0.8888888888888888,
              "#fdca26"
             ],
             [
              1,
              "#f0f921"
             ]
            ],
            "type": "histogram2dcontour"
           }
          ],
          "mesh3d": [
           {
            "colorbar": {
             "outlinewidth": 0,
             "ticks": ""
            },
            "type": "mesh3d"
           }
          ],
          "parcoords": [
           {
            "line": {
             "colorbar": {
              "outlinewidth": 0,
              "ticks": ""
             }
            },
            "type": "parcoords"
           }
          ],
          "pie": [
           {
            "automargin": true,
            "type": "pie"
           }
          ],
          "scatter": [
           {
            "fillpattern": {
             "fillmode": "overlay",
             "size": 10,
             "solidity": 0.2
            },
            "type": "scatter"
           }
          ],
          "scatter3d": [
           {
            "line": {
             "colorbar": {
              "outlinewidth": 0,
              "ticks": ""
             }
            },
            "marker": {
             "colorbar": {
              "outlinewidth": 0,
              "ticks": ""
             }
            },
            "type": "scatter3d"
           }
          ],
          "scattercarpet": [
           {
            "marker": {
             "colorbar": {
              "outlinewidth": 0,
              "ticks": ""
             }
            },
            "type": "scattercarpet"
           }
          ],
          "scattergeo": [
           {
            "marker": {
             "colorbar": {
              "outlinewidth": 0,
              "ticks": ""
             }
            },
            "type": "scattergeo"
           }
          ],
          "scattergl": [
           {
            "marker": {
             "colorbar": {
              "outlinewidth": 0,
              "ticks": ""
             }
            },
            "type": "scattergl"
           }
          ],
          "scattermap": [
           {
            "marker": {
             "colorbar": {
              "outlinewidth": 0,
              "ticks": ""
             }
            },
            "type": "scattermap"
           }
          ],
          "scattermapbox": [
           {
            "marker": {
             "colorbar": {
              "outlinewidth": 0,
              "ticks": ""
             }
            },
            "type": "scattermapbox"
           }
          ],
          "scatterpolar": [
           {
            "marker": {
             "colorbar": {
              "outlinewidth": 0,
              "ticks": ""
             }
            },
            "type": "scatterpolar"
           }
          ],
          "scatterpolargl": [
           {
            "marker": {
             "colorbar": {
              "outlinewidth": 0,
              "ticks": ""
             }
            },
            "type": "scatterpolargl"
           }
          ],
          "scatterternary": [
           {
            "marker": {
             "colorbar": {
              "outlinewidth": 0,
              "ticks": ""
             }
            },
            "type": "scatterternary"
           }
          ],
          "surface": [
           {
            "colorbar": {
             "outlinewidth": 0,
             "ticks": ""
            },
            "colorscale": [
             [
              0,
              "#0d0887"
             ],
             [
              0.1111111111111111,
              "#46039f"
             ],
             [
              0.2222222222222222,
              "#7201a8"
             ],
             [
              0.3333333333333333,
              "#9c179e"
             ],
             [
              0.4444444444444444,
              "#bd3786"
             ],
             [
              0.5555555555555556,
              "#d8576b"
             ],
             [
              0.6666666666666666,
              "#ed7953"
             ],
             [
              0.7777777777777778,
              "#fb9f3a"
             ],
             [
              0.8888888888888888,
              "#fdca26"
             ],
             [
              1,
              "#f0f921"
             ]
            ],
            "type": "surface"
           }
          ],
          "table": [
           {
            "cells": {
             "fill": {
              "color": "#EBF0F8"
             },
             "line": {
              "color": "white"
             }
            },
            "header": {
             "fill": {
              "color": "#C8D4E3"
             },
             "line": {
              "color": "white"
             }
            },
            "type": "table"
           }
          ]
         },
         "layout": {
          "annotationdefaults": {
           "arrowcolor": "#2a3f5f",
           "arrowhead": 0,
           "arrowwidth": 1
          },
          "autotypenumbers": "strict",
          "coloraxis": {
           "colorbar": {
            "outlinewidth": 0,
            "ticks": ""
           }
          },
          "colorscale": {
           "diverging": [
            [
             0,
             "#8e0152"
            ],
            [
             0.1,
             "#c51b7d"
            ],
            [
             0.2,
             "#de77ae"
            ],
            [
             0.3,
             "#f1b6da"
            ],
            [
             0.4,
             "#fde0ef"
            ],
            [
             0.5,
             "#f7f7f7"
            ],
            [
             0.6,
             "#e6f5d0"
            ],
            [
             0.7,
             "#b8e186"
            ],
            [
             0.8,
             "#7fbc41"
            ],
            [
             0.9,
             "#4d9221"
            ],
            [
             1,
             "#276419"
            ]
           ],
           "sequential": [
            [
             0,
             "#0d0887"
            ],
            [
             0.1111111111111111,
             "#46039f"
            ],
            [
             0.2222222222222222,
             "#7201a8"
            ],
            [
             0.3333333333333333,
             "#9c179e"
            ],
            [
             0.4444444444444444,
             "#bd3786"
            ],
            [
             0.5555555555555556,
             "#d8576b"
            ],
            [
             0.6666666666666666,
             "#ed7953"
            ],
            [
             0.7777777777777778,
             "#fb9f3a"
            ],
            [
             0.8888888888888888,
             "#fdca26"
            ],
            [
             1,
             "#f0f921"
            ]
           ],
           "sequentialminus": [
            [
             0,
             "#0d0887"
            ],
            [
             0.1111111111111111,
             "#46039f"
            ],
            [
             0.2222222222222222,
             "#7201a8"
            ],
            [
             0.3333333333333333,
             "#9c179e"
            ],
            [
             0.4444444444444444,
             "#bd3786"
            ],
            [
             0.5555555555555556,
             "#d8576b"
            ],
            [
             0.6666666666666666,
             "#ed7953"
            ],
            [
             0.7777777777777778,
             "#fb9f3a"
            ],
            [
             0.8888888888888888,
             "#fdca26"
            ],
            [
             1,
             "#f0f921"
            ]
           ]
          },
          "colorway": [
           "#636efa",
           "#EF553B",
           "#00cc96",
           "#ab63fa",
           "#FFA15A",
           "#19d3f3",
           "#FF6692",
           "#B6E880",
           "#FF97FF",
           "#FECB52"
          ],
          "font": {
           "color": "#2a3f5f"
          },
          "geo": {
           "bgcolor": "white",
           "lakecolor": "white",
           "landcolor": "#E5ECF6",
           "showlakes": true,
           "showland": true,
           "subunitcolor": "white"
          },
          "hoverlabel": {
           "align": "left"
          },
          "hovermode": "closest",
          "mapbox": {
           "style": "light"
          },
          "paper_bgcolor": "white",
          "plot_bgcolor": "#E5ECF6",
          "polar": {
           "angularaxis": {
            "gridcolor": "white",
            "linecolor": "white",
            "ticks": ""
           },
           "bgcolor": "#E5ECF6",
           "radialaxis": {
            "gridcolor": "white",
            "linecolor": "white",
            "ticks": ""
           }
          },
          "scene": {
           "xaxis": {
            "backgroundcolor": "#E5ECF6",
            "gridcolor": "white",
            "gridwidth": 2,
            "linecolor": "white",
            "showbackground": true,
            "ticks": "",
            "zerolinecolor": "white"
           },
           "yaxis": {
            "backgroundcolor": "#E5ECF6",
            "gridcolor": "white",
            "gridwidth": 2,
            "linecolor": "white",
            "showbackground": true,
            "ticks": "",
            "zerolinecolor": "white"
           },
           "zaxis": {
            "backgroundcolor": "#E5ECF6",
            "gridcolor": "white",
            "gridwidth": 2,
            "linecolor": "white",
            "showbackground": true,
            "ticks": "",
            "zerolinecolor": "white"
           }
          },
          "shapedefaults": {
           "line": {
            "color": "#2a3f5f"
           }
          },
          "ternary": {
           "aaxis": {
            "gridcolor": "white",
            "linecolor": "white",
            "ticks": ""
           },
           "baxis": {
            "gridcolor": "white",
            "linecolor": "white",
            "ticks": ""
           },
           "bgcolor": "#E5ECF6",
           "caxis": {
            "gridcolor": "white",
            "linecolor": "white",
            "ticks": ""
           }
          },
          "title": {
           "x": 0.05
          },
          "xaxis": {
           "automargin": true,
           "gridcolor": "white",
           "linecolor": "white",
           "ticks": "",
           "title": {
            "standoff": 15
           },
           "zerolinecolor": "white",
           "zerolinewidth": 2
          },
          "yaxis": {
           "automargin": true,
           "gridcolor": "white",
           "linecolor": "white",
           "ticks": "",
           "title": {
            "standoff": 15
           },
           "zerolinecolor": "white",
           "zerolinewidth": 2
          }
         }
        },
        "title": {
         "text": "Top 20 Gene Importance (Green=Signal, Red=Noise)"
        },
        "xaxis": {
         "tickangle": -45,
         "title": {
          "text": "Genes"
         }
        },
        "yaxis": {
         "title": {
          "text": "Feature Importance"
         }
        }
       }
      }
     },
     "metadata": {},
     "output_type": "display_data"
    },
    {
     "name": "stdout",
     "output_type": "stream",
     "text": [
      "\n",
      " Feature Selection Analysis:\n",
      "• Selected 27 out of 100 genes\n",
      "• Selection threshold: 0.0100\n",
      "• Signal genes selected: 27/65\n",
      "• Noise genes selected: 0/35\n",
      "• Selection precision: 1.000\n",
      "• Selection recall: 0.415\n",
      "\n",
      " Performance Comparison:\n",
      "• All genes (100): 1.0000 accuracy\n",
      "• Selected genes (27): 1.0000 accuracy\n",
      "• Feature reduction: 73.0%\n",
      "\n",
      " Performance Comparison:\n",
      "• All genes (100): 1.0000 accuracy\n",
      "• Selected genes (27): 1.0000 accuracy\n",
      "• Feature reduction: 73.0%\n"
     ]
    },
    {
     "data": {
      "application/vnd.plotly.v1+json": {
       "config": {
        "plotlyServerURL": "https://plot.ly"
       },
       "data": [
        {
         "line": {
          "color": "blue",
          "width": 2
         },
         "mode": "lines",
         "name": "All Genes (AUC = 1.000)",
         "type": "scatter",
         "x": {
          "bdata": "AAAAAAAAAAAAAAAAAAAAAAAAAAAAAAAAAAAAAAAAAAAAAAAAAAAAAAAAAAAAAAAAAAAAAAAAAAAAAAAAAAAAAAAAAAAAAAAAAAAAAAAAAAAAAAAAAAAAAAAAAAAAAAAAAAAAAAAAAAAAAAAAAAAAAAAAAAAAAAAAGqRBGqRBqj8apEEapEG6P5dv+ZZv+cY/ntiJndiJzT+QBmmQBmnQPxQ7sRM7sdM/2Ymd2Imd2D9cvuVbvuXbP7ETO7ETO+E/8y3f8i3f4j+4fMu3fMvnPxqkQRqkQeo/XL7lW77l6z99y7d8y7fsP9/yLd/yLe8/AAAAAAAA8D8=",
          "dtype": "f8"
         },
         "y": {
          "bdata": "AAAAAAAAAAD6GJyPwfmYP7sStStRu7I/+hicj8H5yD84H4PzMTjPP9uVqF2J2tU/+hicj8H52D8ZnI/B+RjcP2RwPgbnY+A/9DE4H4Pz4T+idiVqV6LmP1G7ErUrUes/GZyPwfkY7D9wPgbnY3DuPwAAAAAAAPA/AAAAAAAA8D8AAAAAAADwPwAAAAAAAPA/AAAAAAAA8D8AAAAAAADwPwAAAAAAAPA/AAAAAAAA8D8AAAAAAADwPwAAAAAAAPA/AAAAAAAA8D8AAAAAAADwPwAAAAAAAPA/AAAAAAAA8D8AAAAAAADwPwAAAAAAAPA/AAAAAAAA8D8=",
          "dtype": "f8"
         }
        },
        {
         "line": {
          "color": "green",
          "width": 2
         },
         "mode": "lines",
         "name": "Selected Genes (AUC = 1.000)",
         "type": "scatter",
         "x": {
          "bdata": "AAAAAAAAAAAAAAAAAAAAAAAAAAAAAAAAAAAAAAAAAAAAAAAAAAAAAAAAAAAAAAAAAAAAAAAAAAAAAAAAAAAAAAAAAAAAAAAAAAAAAAAAAAAAAAAAAAAAAAAAAAAAAAAAl2/5lm/5xj/SIA3SIA3SP1VVVVVVVdU/GqRBGqRB2j9cvuVbvuXbP7ETO7ETO+E/NUiDNEiD5D9VVVVVVVXlP7h8y7d8y+c/+ZZv+ZZv6T8apEEapEHqP1y+5Vu+5es/vuVbvuVb7j8AAAAAAADwPw==",
          "dtype": "f8"
         },
         "y": {
          "bdata": "AAAAAAAAAAD6GJyPwfmoP/oYnI/B+bg/OB+D8zE4zz/6GJyPwfnYP6ldidqVqN0/ZHA+Budj4D+idiVqV6LmPzI4H4PzMeg/wvkYnI/B6T/hfAzOx+DsPwAAAAAAAPA/AAAAAAAA8D8AAAAAAADwPwAAAAAAAPA/AAAAAAAA8D8AAAAAAADwPwAAAAAAAPA/AAAAAAAA8D8AAAAAAADwPwAAAAAAAPA/AAAAAAAA8D8AAAAAAADwPwAAAAAAAPA/AAAAAAAA8D8AAAAAAADwPw==",
          "dtype": "f8"
         }
        },
        {
         "line": {
          "color": "red",
          "dash": "dash"
         },
         "mode": "lines",
         "name": "Random Classifier",
         "type": "scatter",
         "x": [
          0,
          1
         ],
         "y": [
          0,
          1
         ]
        }
       ],
       "layout": {
        "height": 500,
        "template": {
         "data": {
          "bar": [
           {
            "error_x": {
             "color": "#2a3f5f"
            },
            "error_y": {
             "color": "#2a3f5f"
            },
            "marker": {
             "line": {
              "color": "#E5ECF6",
              "width": 0.5
             },
             "pattern": {
              "fillmode": "overlay",
              "size": 10,
              "solidity": 0.2
             }
            },
            "type": "bar"
           }
          ],
          "barpolar": [
           {
            "marker": {
             "line": {
              "color": "#E5ECF6",
              "width": 0.5
             },
             "pattern": {
              "fillmode": "overlay",
              "size": 10,
              "solidity": 0.2
             }
            },
            "type": "barpolar"
           }
          ],
          "carpet": [
           {
            "aaxis": {
             "endlinecolor": "#2a3f5f",
             "gridcolor": "white",
             "linecolor": "white",
             "minorgridcolor": "white",
             "startlinecolor": "#2a3f5f"
            },
            "baxis": {
             "endlinecolor": "#2a3f5f",
             "gridcolor": "white",
             "linecolor": "white",
             "minorgridcolor": "white",
             "startlinecolor": "#2a3f5f"
            },
            "type": "carpet"
           }
          ],
          "choropleth": [
           {
            "colorbar": {
             "outlinewidth": 0,
             "ticks": ""
            },
            "type": "choropleth"
           }
          ],
          "contour": [
           {
            "colorbar": {
             "outlinewidth": 0,
             "ticks": ""
            },
            "colorscale": [
             [
              0,
              "#0d0887"
             ],
             [
              0.1111111111111111,
              "#46039f"
             ],
             [
              0.2222222222222222,
              "#7201a8"
             ],
             [
              0.3333333333333333,
              "#9c179e"
             ],
             [
              0.4444444444444444,
              "#bd3786"
             ],
             [
              0.5555555555555556,
              "#d8576b"
             ],
             [
              0.6666666666666666,
              "#ed7953"
             ],
             [
              0.7777777777777778,
              "#fb9f3a"
             ],
             [
              0.8888888888888888,
              "#fdca26"
             ],
             [
              1,
              "#f0f921"
             ]
            ],
            "type": "contour"
           }
          ],
          "contourcarpet": [
           {
            "colorbar": {
             "outlinewidth": 0,
             "ticks": ""
            },
            "type": "contourcarpet"
           }
          ],
          "heatmap": [
           {
            "colorbar": {
             "outlinewidth": 0,
             "ticks": ""
            },
            "colorscale": [
             [
              0,
              "#0d0887"
             ],
             [
              0.1111111111111111,
              "#46039f"
             ],
             [
              0.2222222222222222,
              "#7201a8"
             ],
             [
              0.3333333333333333,
              "#9c179e"
             ],
             [
              0.4444444444444444,
              "#bd3786"
             ],
             [
              0.5555555555555556,
              "#d8576b"
             ],
             [
              0.6666666666666666,
              "#ed7953"
             ],
             [
              0.7777777777777778,
              "#fb9f3a"
             ],
             [
              0.8888888888888888,
              "#fdca26"
             ],
             [
              1,
              "#f0f921"
             ]
            ],
            "type": "heatmap"
           }
          ],
          "histogram": [
           {
            "marker": {
             "pattern": {
              "fillmode": "overlay",
              "size": 10,
              "solidity": 0.2
             }
            },
            "type": "histogram"
           }
          ],
          "histogram2d": [
           {
            "colorbar": {
             "outlinewidth": 0,
             "ticks": ""
            },
            "colorscale": [
             [
              0,
              "#0d0887"
             ],
             [
              0.1111111111111111,
              "#46039f"
             ],
             [
              0.2222222222222222,
              "#7201a8"
             ],
             [
              0.3333333333333333,
              "#9c179e"
             ],
             [
              0.4444444444444444,
              "#bd3786"
             ],
             [
              0.5555555555555556,
              "#d8576b"
             ],
             [
              0.6666666666666666,
              "#ed7953"
             ],
             [
              0.7777777777777778,
              "#fb9f3a"
             ],
             [
              0.8888888888888888,
              "#fdca26"
             ],
             [
              1,
              "#f0f921"
             ]
            ],
            "type": "histogram2d"
           }
          ],
          "histogram2dcontour": [
           {
            "colorbar": {
             "outlinewidth": 0,
             "ticks": ""
            },
            "colorscale": [
             [
              0,
              "#0d0887"
             ],
             [
              0.1111111111111111,
              "#46039f"
             ],
             [
              0.2222222222222222,
              "#7201a8"
             ],
             [
              0.3333333333333333,
              "#9c179e"
             ],
             [
              0.4444444444444444,
              "#bd3786"
             ],
             [
              0.5555555555555556,
              "#d8576b"
             ],
             [
              0.6666666666666666,
              "#ed7953"
             ],
             [
              0.7777777777777778,
              "#fb9f3a"
             ],
             [
              0.8888888888888888,
              "#fdca26"
             ],
             [
              1,
              "#f0f921"
             ]
            ],
            "type": "histogram2dcontour"
           }
          ],
          "mesh3d": [
           {
            "colorbar": {
             "outlinewidth": 0,
             "ticks": ""
            },
            "type": "mesh3d"
           }
          ],
          "parcoords": [
           {
            "line": {
             "colorbar": {
              "outlinewidth": 0,
              "ticks": ""
             }
            },
            "type": "parcoords"
           }
          ],
          "pie": [
           {
            "automargin": true,
            "type": "pie"
           }
          ],
          "scatter": [
           {
            "fillpattern": {
             "fillmode": "overlay",
             "size": 10,
             "solidity": 0.2
            },
            "type": "scatter"
           }
          ],
          "scatter3d": [
           {
            "line": {
             "colorbar": {
              "outlinewidth": 0,
              "ticks": ""
             }
            },
            "marker": {
             "colorbar": {
              "outlinewidth": 0,
              "ticks": ""
             }
            },
            "type": "scatter3d"
           }
          ],
          "scattercarpet": [
           {
            "marker": {
             "colorbar": {
              "outlinewidth": 0,
              "ticks": ""
             }
            },
            "type": "scattercarpet"
           }
          ],
          "scattergeo": [
           {
            "marker": {
             "colorbar": {
              "outlinewidth": 0,
              "ticks": ""
             }
            },
            "type": "scattergeo"
           }
          ],
          "scattergl": [
           {
            "marker": {
             "colorbar": {
              "outlinewidth": 0,
              "ticks": ""
             }
            },
            "type": "scattergl"
           }
          ],
          "scattermap": [
           {
            "marker": {
             "colorbar": {
              "outlinewidth": 0,
              "ticks": ""
             }
            },
            "type": "scattermap"
           }
          ],
          "scattermapbox": [
           {
            "marker": {
             "colorbar": {
              "outlinewidth": 0,
              "ticks": ""
             }
            },
            "type": "scattermapbox"
           }
          ],
          "scatterpolar": [
           {
            "marker": {
             "colorbar": {
              "outlinewidth": 0,
              "ticks": ""
             }
            },
            "type": "scatterpolar"
           }
          ],
          "scatterpolargl": [
           {
            "marker": {
             "colorbar": {
              "outlinewidth": 0,
              "ticks": ""
             }
            },
            "type": "scatterpolargl"
           }
          ],
          "scatterternary": [
           {
            "marker": {
             "colorbar": {
              "outlinewidth": 0,
              "ticks": ""
             }
            },
            "type": "scatterternary"
           }
          ],
          "surface": [
           {
            "colorbar": {
             "outlinewidth": 0,
             "ticks": ""
            },
            "colorscale": [
             [
              0,
              "#0d0887"
             ],
             [
              0.1111111111111111,
              "#46039f"
             ],
             [
              0.2222222222222222,
              "#7201a8"
             ],
             [
              0.3333333333333333,
              "#9c179e"
             ],
             [
              0.4444444444444444,
              "#bd3786"
             ],
             [
              0.5555555555555556,
              "#d8576b"
             ],
             [
              0.6666666666666666,
              "#ed7953"
             ],
             [
              0.7777777777777778,
              "#fb9f3a"
             ],
             [
              0.8888888888888888,
              "#fdca26"
             ],
             [
              1,
              "#f0f921"
             ]
            ],
            "type": "surface"
           }
          ],
          "table": [
           {
            "cells": {
             "fill": {
              "color": "#EBF0F8"
             },
             "line": {
              "color": "white"
             }
            },
            "header": {
             "fill": {
              "color": "#C8D4E3"
             },
             "line": {
              "color": "white"
             }
            },
            "type": "table"
           }
          ]
         },
         "layout": {
          "annotationdefaults": {
           "arrowcolor": "#2a3f5f",
           "arrowhead": 0,
           "arrowwidth": 1
          },
          "autotypenumbers": "strict",
          "coloraxis": {
           "colorbar": {
            "outlinewidth": 0,
            "ticks": ""
           }
          },
          "colorscale": {
           "diverging": [
            [
             0,
             "#8e0152"
            ],
            [
             0.1,
             "#c51b7d"
            ],
            [
             0.2,
             "#de77ae"
            ],
            [
             0.3,
             "#f1b6da"
            ],
            [
             0.4,
             "#fde0ef"
            ],
            [
             0.5,
             "#f7f7f7"
            ],
            [
             0.6,
             "#e6f5d0"
            ],
            [
             0.7,
             "#b8e186"
            ],
            [
             0.8,
             "#7fbc41"
            ],
            [
             0.9,
             "#4d9221"
            ],
            [
             1,
             "#276419"
            ]
           ],
           "sequential": [
            [
             0,
             "#0d0887"
            ],
            [
             0.1111111111111111,
             "#46039f"
            ],
            [
             0.2222222222222222,
             "#7201a8"
            ],
            [
             0.3333333333333333,
             "#9c179e"
            ],
            [
             0.4444444444444444,
             "#bd3786"
            ],
            [
             0.5555555555555556,
             "#d8576b"
            ],
            [
             0.6666666666666666,
             "#ed7953"
            ],
            [
             0.7777777777777778,
             "#fb9f3a"
            ],
            [
             0.8888888888888888,
             "#fdca26"
            ],
            [
             1,
             "#f0f921"
            ]
           ],
           "sequentialminus": [
            [
             0,
             "#0d0887"
            ],
            [
             0.1111111111111111,
             "#46039f"
            ],
            [
             0.2222222222222222,
             "#7201a8"
            ],
            [
             0.3333333333333333,
             "#9c179e"
            ],
            [
             0.4444444444444444,
             "#bd3786"
            ],
            [
             0.5555555555555556,
             "#d8576b"
            ],
            [
             0.6666666666666666,
             "#ed7953"
            ],
            [
             0.7777777777777778,
             "#fb9f3a"
            ],
            [
             0.8888888888888888,
             "#fdca26"
            ],
            [
             1,
             "#f0f921"
            ]
           ]
          },
          "colorway": [
           "#636efa",
           "#EF553B",
           "#00cc96",
           "#ab63fa",
           "#FFA15A",
           "#19d3f3",
           "#FF6692",
           "#B6E880",
           "#FF97FF",
           "#FECB52"
          ],
          "font": {
           "color": "#2a3f5f"
          },
          "geo": {
           "bgcolor": "white",
           "lakecolor": "white",
           "landcolor": "#E5ECF6",
           "showlakes": true,
           "showland": true,
           "subunitcolor": "white"
          },
          "hoverlabel": {
           "align": "left"
          },
          "hovermode": "closest",
          "mapbox": {
           "style": "light"
          },
          "paper_bgcolor": "white",
          "plot_bgcolor": "#E5ECF6",
          "polar": {
           "angularaxis": {
            "gridcolor": "white",
            "linecolor": "white",
            "ticks": ""
           },
           "bgcolor": "#E5ECF6",
           "radialaxis": {
            "gridcolor": "white",
            "linecolor": "white",
            "ticks": ""
           }
          },
          "scene": {
           "xaxis": {
            "backgroundcolor": "#E5ECF6",
            "gridcolor": "white",
            "gridwidth": 2,
            "linecolor": "white",
            "showbackground": true,
            "ticks": "",
            "zerolinecolor": "white"
           },
           "yaxis": {
            "backgroundcolor": "#E5ECF6",
            "gridcolor": "white",
            "gridwidth": 2,
            "linecolor": "white",
            "showbackground": true,
            "ticks": "",
            "zerolinecolor": "white"
           },
           "zaxis": {
            "backgroundcolor": "#E5ECF6",
            "gridcolor": "white",
            "gridwidth": 2,
            "linecolor": "white",
            "showbackground": true,
            "ticks": "",
            "zerolinecolor": "white"
           }
          },
          "shapedefaults": {
           "line": {
            "color": "#2a3f5f"
           }
          },
          "ternary": {
           "aaxis": {
            "gridcolor": "white",
            "linecolor": "white",
            "ticks": ""
           },
           "baxis": {
            "gridcolor": "white",
            "linecolor": "white",
            "ticks": ""
           },
           "bgcolor": "#E5ECF6",
           "caxis": {
            "gridcolor": "white",
            "linecolor": "white",
            "ticks": ""
           }
          },
          "title": {
           "x": 0.05
          },
          "xaxis": {
           "automargin": true,
           "gridcolor": "white",
           "linecolor": "white",
           "ticks": "",
           "title": {
            "standoff": 15
           },
           "zerolinecolor": "white",
           "zerolinewidth": 2
          },
          "yaxis": {
           "automargin": true,
           "gridcolor": "white",
           "linecolor": "white",
           "ticks": "",
           "title": {
            "standoff": 15
           },
           "zerolinecolor": "white",
           "zerolinewidth": 2
          }
         }
        },
        "title": {
         "text": "ROC Curves: All Genes vs Selected Genes"
        },
        "xaxis": {
         "title": {
          "text": "False Positive Rate"
         }
        },
        "yaxis": {
         "title": {
          "text": "True Positive Rate"
         }
        }
       }
      }
     },
     "metadata": {},
     "output_type": "display_data"
    },
    {
     "name": "stdout",
     "output_type": "stream",
     "text": [
      "\n",
      " Effect of max_features Parameter:\n",
      "• max_features=sqrt: 1.0000\n",
      "• max_features=sqrt: 1.0000\n",
      "• max_features=log2: 1.0000\n",
      "• max_features=log2: 1.0000\n",
      "• max_features=all: 1.0000\n",
      "• max_features=all: 1.0000\n",
      "• max_features=0.1: 1.0000\n",
      "• max_features=0.1: 1.0000\n",
      "• max_features=0.3: 1.0000\n",
      "• max_features=0.3: 1.0000\n",
      "• max_features=0.5: 1.0000\n",
      "\n",
      " Optimal max_features: sqrt\n",
      "• max_features=0.5: 1.0000\n",
      "\n",
      " Optimal max_features: sqrt\n"
     ]
    }
   ],
   "source": [
    "# 3. HIGH-DIMENSIONAL DATA ANALYSIS\n",
    "print(\" 3. HIGH-DIMENSIONAL DATA ANALYSIS\")\n",
    "print(\"=\" * 33)\n",
    "\n",
    "# Prepare gene expression data\n",
    "gene_features = [col for col in gene_df.columns if col != 'disease_status']\n",
    "X_gene = gene_df[gene_features]\n",
    "y_gene = gene_df['disease_status']\n",
    "\n",
    "print(f\"Gene expression dataset: {X_gene.shape}\")\n",
    "print(f\"Number of features: {len(gene_features)}\")\n",
    "print(f\"Sample size: {len(y_gene)}\")\n",
    "\n",
    "# Split data\n",
    "X_gene_train, X_gene_test, y_gene_train, y_gene_test = train_test_split(\n",
    " X_gene, y_gene, test_size=0.2, random_state=42, stratify=y_gene\n",
    ")\n",
    "\n",
    "print(f\"Training set: {X_gene_train.shape}\")\n",
    "print(f\"Test set: {X_gene_test.shape}\")\n",
    "\n",
    "# Train Random Forest on high-dimensional data\n",
    "rf_gene = RandomForestClassifier(\n",
    " n_estimators=200, # More trees for stability with many features\n",
    " max_features='sqrt', # Use sqrt(p) features per tree\n",
    " oob_score=True,\n",
    " random_state=42\n",
    ")\n",
    "\n",
    "rf_gene.fit(X_gene_train, y_gene_train)\n",
    "\n",
    "# Predictions\n",
    "y_gene_pred = rf_gene.predict(X_gene_test)\n",
    "y_gene_proba = rf_gene.predict_proba(X_gene_test)\n",
    "\n",
    "# Performance metrics\n",
    "gene_accuracy = accuracy_score(y_gene_test, y_gene_pred)\n",
    "gene_auc = roc_auc_score(y_gene_test, y_gene_proba[:, 1])\n",
    "\n",
    "print(f\"\\n High-dimensional Random Forest Performance:\")\n",
    "print(f\"• Test Accuracy: {gene_accuracy:.4f}\")\n",
    "print(f\"• ROC AUC: {gene_auc:.4f}\")\n",
    "print(f\"• OOB Score: {rf_gene.oob_score_:.4f}\")\n",
    "\n",
    "# Feature importance analysis\n",
    "gene_importance = rf_gene.feature_importances_\n",
    "gene_importance_df = pd.DataFrame({\n",
    " 'Gene': gene_features,\n",
    " 'Importance': gene_importance\n",
    "}).sort_values('Importance', ascending=False)\n",
    "\n",
    "# Identify top important genes\n",
    "print(f\"\\n Top 15 Most Important Genes:\")\n",
    "for _, row in gene_importance_df.head(15).iterrows():\n",
    " gene_num = int(row['Gene'].split('_')[1])\n",
    " # Determine if this gene is from a true pathway (first 65 genes)\n",
    " is_signal = \"Signal\" if gene_num <= 65 else \"Noise\"\n",
    " print(f\"• {row['Gene']}: {row['Importance']:.4f} ({is_signal})\")\n",
    "\n",
    "# Visualize gene importance\n",
    "fig_gene_importance = go.Figure()\n",
    "\n",
    "# Color genes by signal vs noise\n",
    "colors = ['green' if int(gene.split('_')[1]) <= 65 else 'red'\n",
    " for gene in gene_importance_df.head(20)['Gene']]\n",
    "\n",
    "fig_gene_importance.add_trace(\n",
    " go.Bar(\n",
    " x=gene_importance_df.head(20)['Gene'],\n",
    " y=gene_importance_df.head(20)['Importance'],\n",
    " marker_color=colors,\n",
    " hovertemplate=\"Gene: %{x}<br>Importance: %{y:.4f}<extra></extra>\"\n",
    " )\n",
    ")\n",
    "\n",
    "fig_gene_importance.update_layout(\n",
    " title=\"Top 20 Gene Importance (Green=Signal, Red=Noise)\",\n",
    " xaxis_title=\"Genes\",\n",
    " yaxis_title=\"Feature Importance\",\n",
    " xaxis_tickangle=-45,\n",
    " height=600\n",
    ")\n",
    "fig_gene_importance.show()\n",
    "\n",
    "# Feature selection using Random Forest\n",
    "print(f\"\\n Feature Selection Analysis:\")\n",
    "\n",
    "# Use Random Forest for feature selection\n",
    "selector = SelectFromModel(rf_gene, threshold='mean')\n",
    "selector.fit(X_gene_train, y_gene_train)\n",
    "\n",
    "selected_features = selector.get_support()\n",
    "selected_gene_names = np.array(gene_features)[selected_features]\n",
    "n_selected = len(selected_gene_names)\n",
    "\n",
    "print(f\"• Selected {n_selected} out of {len(gene_features)} genes\")\n",
    "print(f\"• Selection threshold: {selector.threshold_:.4f}\")\n",
    "\n",
    "# Analyze quality of feature selection\n",
    "signal_genes_selected = sum(1 for gene in selected_gene_names if int(gene.split('_')[1]) <= 65)\n",
    "noise_genes_selected = n_selected - signal_genes_selected\n",
    "total_signal_genes = 65\n",
    "total_noise_genes = len(gene_features) - 65\n",
    "\n",
    "precision = signal_genes_selected / n_selected if n_selected > 0 else 0\n",
    "recall = signal_genes_selected / total_signal_genes\n",
    "\n",
    "print(f\"• Signal genes selected: {signal_genes_selected}/{total_signal_genes}\")\n",
    "print(f\"• Noise genes selected: {noise_genes_selected}/{total_noise_genes}\")\n",
    "print(f\"• Selection precision: {precision:.3f}\")\n",
    "print(f\"• Selection recall: {recall:.3f}\")\n",
    "\n",
    "# Train model on selected features only\n",
    "X_gene_train_selected = selector.transform(X_gene_train)\n",
    "X_gene_test_selected = selector.transform(X_gene_test)\n",
    "\n",
    "rf_gene_selected = RandomForestClassifier(n_estimators=200, random_state=42)\n",
    "rf_gene_selected.fit(X_gene_train_selected, y_gene_train)\n",
    "\n",
    "selected_accuracy = rf_gene_selected.score(X_gene_test_selected, y_gene_test)\n",
    "\n",
    "print(f\"\\n Performance Comparison:\")\n",
    "print(f\"• All genes ({len(gene_features)}): {gene_accuracy:.4f} accuracy\")\n",
    "print(f\"• Selected genes ({n_selected}): {selected_accuracy:.4f} accuracy\")\n",
    "print(f\"• Feature reduction: {(1 - n_selected/len(gene_features))*100:.1f}%\")\n",
    "\n",
    "# ROC Curve comparison\n",
    "fpr_all, tpr_all, _ = roc_curve(y_gene_test, y_gene_proba[:, 1])\n",
    "y_gene_proba_selected = rf_gene_selected.predict_proba(X_gene_test_selected)\n",
    "fpr_selected, tpr_selected, _ = roc_curve(y_gene_test, y_gene_proba_selected[:, 1])\n",
    "\n",
    "fig_roc_comparison = go.Figure()\n",
    "\n",
    "fig_roc_comparison.add_trace(\n",
    " go.Scatter(\n",
    " x=fpr_all,\n",
    " y=tpr_all,\n",
    " mode='lines',\n",
    " name=f'All Genes (AUC = {gene_auc:.3f})',\n",
    " line=dict(color='blue', width=2)\n",
    " )\n",
    ")\n",
    "\n",
    "auc_selected = roc_auc_score(y_gene_test, y_gene_proba_selected[:, 1])\n",
    "fig_roc_comparison.add_trace(\n",
    " go.Scatter(\n",
    " x=fpr_selected,\n",
    " y=tpr_selected,\n",
    " mode='lines',\n",
    " name=f'Selected Genes (AUC = {auc_selected:.3f})',\n",
    " line=dict(color='green', width=2)\n",
    " )\n",
    ")\n",
    "\n",
    "fig_roc_comparison.add_trace(\n",
    " go.Scatter(\n",
    " x=[0, 1],\n",
    " y=[0, 1],\n",
    " mode='lines',\n",
    " name='Random Classifier',\n",
    " line=dict(color='red', dash='dash')\n",
    " )\n",
    ")\n",
    "\n",
    "fig_roc_comparison.update_layout(\n",
    " title=\"ROC Curves: All Genes vs Selected Genes\",\n",
    " xaxis_title=\"False Positive Rate\",\n",
    " yaxis_title=\"True Positive Rate\",\n",
    " height=500\n",
    ")\n",
    "fig_roc_comparison.show()\n",
    "\n",
    "# Analyze max_features parameter effect\n",
    "print(f\"\\n Effect of max_features Parameter:\")\n",
    "\n",
    "max_features_options = ['sqrt', 'log2', None, 0.1, 0.3, 0.5]\n",
    "max_features_scores = []\n",
    "\n",
    "for max_feat in max_features_options:\n",
    " rf_temp = RandomForestClassifier(\n",
    " n_estimators=100,\n",
    " max_features=max_feat,\n",
    " random_state=42\n",
    " )\n",
    " cv_score = cross_val_score(rf_temp, X_gene_train, y_gene_train, cv=3).mean()\n",
    " max_features_scores.append(cv_score)\n",
    "\n",
    " feat_name = str(max_feat) if max_feat is not None else 'all'\n",
    " print(f\"• max_features={feat_name}: {cv_score:.4f}\")\n",
    "\n",
    "# Find optimal max_features\n",
    "best_idx = np.argmax(max_features_scores)\n",
    "best_max_features = max_features_options[best_idx]\n",
    "print(f\"\\n Optimal max_features: {best_max_features}\")"
   ]
  },
  {
   "cell_type": "code",
   "execution_count": 10,
   "id": "8b0d38ea",
   "metadata": {},
   "outputs": [
    {
     "name": "stdout",
     "output_type": "stream",
     "text": [
      " 4. ENSEMBLE BEHAVIOR ANALYSIS\n",
      "===============================\n",
      "Understanding how Random Forest combines individual tree predictions:\n",
      "\n",
      " Tree Agreement Analysis:\n",
      "• Average tree agreement: 0.572\n",
      "• Minimum agreement: 0.400\n",
      "• Maximum agreement: 1.000\n",
      "• Samples with low agreement (<60%): 119\n",
      "• Samples with high agreement (>90%): 2\n"
     ]
    },
    {
     "data": {
      "application/vnd.plotly.v1+json": {
       "config": {
        "plotlyServerURL": "https://plot.ly"
       },
       "data": [
        {
         "marker": {
          "color": "lightblue"
         },
         "name": "Tree Agreement",
         "nbinsx": 20,
         "opacity": 0.7,
         "type": "histogram",
         "x": {
          "bdata": "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",
          "dtype": "f8"
         }
        }
       ],
       "layout": {
        "height": 500,
        "template": {
         "data": {
          "bar": [
           {
            "error_x": {
             "color": "#2a3f5f"
            },
            "error_y": {
             "color": "#2a3f5f"
            },
            "marker": {
             "line": {
              "color": "#E5ECF6",
              "width": 0.5
             },
             "pattern": {
              "fillmode": "overlay",
              "size": 10,
              "solidity": 0.2
             }
            },
            "type": "bar"
           }
          ],
          "barpolar": [
           {
            "marker": {
             "line": {
              "color": "#E5ECF6",
              "width": 0.5
             },
             "pattern": {
              "fillmode": "overlay",
              "size": 10,
              "solidity": 0.2
             }
            },
            "type": "barpolar"
           }
          ],
          "carpet": [
           {
            "aaxis": {
             "endlinecolor": "#2a3f5f",
             "gridcolor": "white",
             "linecolor": "white",
             "minorgridcolor": "white",
             "startlinecolor": "#2a3f5f"
            },
            "baxis": {
             "endlinecolor": "#2a3f5f",
             "gridcolor": "white",
             "linecolor": "white",
             "minorgridcolor": "white",
             "startlinecolor": "#2a3f5f"
            },
            "type": "carpet"
           }
          ],
          "choropleth": [
           {
            "colorbar": {
             "outlinewidth": 0,
             "ticks": ""
            },
            "type": "choropleth"
           }
          ],
          "contour": [
           {
            "colorbar": {
             "outlinewidth": 0,
             "ticks": ""
            },
            "colorscale": [
             [
              0,
              "#0d0887"
             ],
             [
              0.1111111111111111,
              "#46039f"
             ],
             [
              0.2222222222222222,
              "#7201a8"
             ],
             [
              0.3333333333333333,
              "#9c179e"
             ],
             [
              0.4444444444444444,
              "#bd3786"
             ],
             [
              0.5555555555555556,
              "#d8576b"
             ],
             [
              0.6666666666666666,
              "#ed7953"
             ],
             [
              0.7777777777777778,
              "#fb9f3a"
             ],
             [
              0.8888888888888888,
              "#fdca26"
             ],
             [
              1,
              "#f0f921"
             ]
            ],
            "type": "contour"
           }
          ],
          "contourcarpet": [
           {
            "colorbar": {
             "outlinewidth": 0,
             "ticks": ""
            },
            "type": "contourcarpet"
           }
          ],
          "heatmap": [
           {
            "colorbar": {
             "outlinewidth": 0,
             "ticks": ""
            },
            "colorscale": [
             [
              0,
              "#0d0887"
             ],
             [
              0.1111111111111111,
              "#46039f"
             ],
             [
              0.2222222222222222,
              "#7201a8"
             ],
             [
              0.3333333333333333,
              "#9c179e"
             ],
             [
              0.4444444444444444,
              "#bd3786"
             ],
             [
              0.5555555555555556,
              "#d8576b"
             ],
             [
              0.6666666666666666,
              "#ed7953"
             ],
             [
              0.7777777777777778,
              "#fb9f3a"
             ],
             [
              0.8888888888888888,
              "#fdca26"
             ],
             [
              1,
              "#f0f921"
             ]
            ],
            "type": "heatmap"
           }
          ],
          "histogram": [
           {
            "marker": {
             "pattern": {
              "fillmode": "overlay",
              "size": 10,
              "solidity": 0.2
             }
            },
            "type": "histogram"
           }
          ],
          "histogram2d": [
           {
            "colorbar": {
             "outlinewidth": 0,
             "ticks": ""
            },
            "colorscale": [
             [
              0,
              "#0d0887"
             ],
             [
              0.1111111111111111,
              "#46039f"
             ],
             [
              0.2222222222222222,
              "#7201a8"
             ],
             [
              0.3333333333333333,
              "#9c179e"
             ],
             [
              0.4444444444444444,
              "#bd3786"
             ],
             [
              0.5555555555555556,
              "#d8576b"
             ],
             [
              0.6666666666666666,
              "#ed7953"
             ],
             [
              0.7777777777777778,
              "#fb9f3a"
             ],
             [
              0.8888888888888888,
              "#fdca26"
             ],
             [
              1,
              "#f0f921"
             ]
            ],
            "type": "histogram2d"
           }
          ],
          "histogram2dcontour": [
           {
            "colorbar": {
             "outlinewidth": 0,
             "ticks": ""
            },
            "colorscale": [
             [
              0,
              "#0d0887"
             ],
             [
              0.1111111111111111,
              "#46039f"
             ],
             [
              0.2222222222222222,
              "#7201a8"
             ],
             [
              0.3333333333333333,
              "#9c179e"
             ],
             [
              0.4444444444444444,
              "#bd3786"
             ],
             [
              0.5555555555555556,
              "#d8576b"
             ],
             [
              0.6666666666666666,
              "#ed7953"
             ],
             [
              0.7777777777777778,
              "#fb9f3a"
             ],
             [
              0.8888888888888888,
              "#fdca26"
             ],
             [
              1,
              "#f0f921"
             ]
            ],
            "type": "histogram2dcontour"
           }
          ],
          "mesh3d": [
           {
            "colorbar": {
             "outlinewidth": 0,
             "ticks": ""
            },
            "type": "mesh3d"
           }
          ],
          "parcoords": [
           {
            "line": {
             "colorbar": {
              "outlinewidth": 0,
              "ticks": ""
             }
            },
            "type": "parcoords"
           }
          ],
          "pie": [
           {
            "automargin": true,
            "type": "pie"
           }
          ],
          "scatter": [
           {
            "fillpattern": {
             "fillmode": "overlay",
             "size": 10,
             "solidity": 0.2
            },
            "type": "scatter"
           }
          ],
          "scatter3d": [
           {
            "line": {
             "colorbar": {
              "outlinewidth": 0,
              "ticks": ""
             }
            },
            "marker": {
             "colorbar": {
              "outlinewidth": 0,
              "ticks": ""
             }
            },
            "type": "scatter3d"
           }
          ],
          "scattercarpet": [
           {
            "marker": {
             "colorbar": {
              "outlinewidth": 0,
              "ticks": ""
             }
            },
            "type": "scattercarpet"
           }
          ],
          "scattergeo": [
           {
            "marker": {
             "colorbar": {
              "outlinewidth": 0,
              "ticks": ""
             }
            },
            "type": "scattergeo"
           }
          ],
          "scattergl": [
           {
            "marker": {
             "colorbar": {
              "outlinewidth": 0,
              "ticks": ""
             }
            },
            "type": "scattergl"
           }
          ],
          "scattermap": [
           {
            "marker": {
             "colorbar": {
              "outlinewidth": 0,
              "ticks": ""
             }
            },
            "type": "scattermap"
           }
          ],
          "scattermapbox": [
           {
            "marker": {
             "colorbar": {
              "outlinewidth": 0,
              "ticks": ""
             }
            },
            "type": "scattermapbox"
           }
          ],
          "scatterpolar": [
           {
            "marker": {
             "colorbar": {
              "outlinewidth": 0,
              "ticks": ""
             }
            },
            "type": "scatterpolar"
           }
          ],
          "scatterpolargl": [
           {
            "marker": {
             "colorbar": {
              "outlinewidth": 0,
              "ticks": ""
             }
            },
            "type": "scatterpolargl"
           }
          ],
          "scatterternary": [
           {
            "marker": {
             "colorbar": {
              "outlinewidth": 0,
              "ticks": ""
             }
            },
            "type": "scatterternary"
           }
          ],
          "surface": [
           {
            "colorbar": {
             "outlinewidth": 0,
             "ticks": ""
            },
            "colorscale": [
             [
              0,
              "#0d0887"
             ],
             [
              0.1111111111111111,
              "#46039f"
             ],
             [
              0.2222222222222222,
              "#7201a8"
             ],
             [
              0.3333333333333333,
              "#9c179e"
             ],
             [
              0.4444444444444444,
              "#bd3786"
             ],
             [
              0.5555555555555556,
              "#d8576b"
             ],
             [
              0.6666666666666666,
              "#ed7953"
             ],
             [
              0.7777777777777778,
              "#fb9f3a"
             ],
             [
              0.8888888888888888,
              "#fdca26"
             ],
             [
              1,
              "#f0f921"
             ]
            ],
            "type": "surface"
           }
          ],
          "table": [
           {
            "cells": {
             "fill": {
              "color": "#EBF0F8"
             },
             "line": {
              "color": "white"
             }
            },
            "header": {
             "fill": {
              "color": "#C8D4E3"
             },
             "line": {
              "color": "white"
             }
            },
            "type": "table"
           }
          ]
         },
         "layout": {
          "annotationdefaults": {
           "arrowcolor": "#2a3f5f",
           "arrowhead": 0,
           "arrowwidth": 1
          },
          "autotypenumbers": "strict",
          "coloraxis": {
           "colorbar": {
            "outlinewidth": 0,
            "ticks": ""
           }
          },
          "colorscale": {
           "diverging": [
            [
             0,
             "#8e0152"
            ],
            [
             0.1,
             "#c51b7d"
            ],
            [
             0.2,
             "#de77ae"
            ],
            [
             0.3,
             "#f1b6da"
            ],
            [
             0.4,
             "#fde0ef"
            ],
            [
             0.5,
             "#f7f7f7"
            ],
            [
             0.6,
             "#e6f5d0"
            ],
            [
             0.7,
             "#b8e186"
            ],
            [
             0.8,
             "#7fbc41"
            ],
            [
             0.9,
             "#4d9221"
            ],
            [
             1,
             "#276419"
            ]
           ],
           "sequential": [
            [
             0,
             "#0d0887"
            ],
            [
             0.1111111111111111,
             "#46039f"
            ],
            [
             0.2222222222222222,
             "#7201a8"
            ],
            [
             0.3333333333333333,
             "#9c179e"
            ],
            [
             0.4444444444444444,
             "#bd3786"
            ],
            [
             0.5555555555555556,
             "#d8576b"
            ],
            [
             0.6666666666666666,
             "#ed7953"
            ],
            [
             0.7777777777777778,
             "#fb9f3a"
            ],
            [
             0.8888888888888888,
             "#fdca26"
            ],
            [
             1,
             "#f0f921"
            ]
           ],
           "sequentialminus": [
            [
             0,
             "#0d0887"
            ],
            [
             0.1111111111111111,
             "#46039f"
            ],
            [
             0.2222222222222222,
             "#7201a8"
            ],
            [
             0.3333333333333333,
             "#9c179e"
            ],
            [
             0.4444444444444444,
             "#bd3786"
            ],
            [
             0.5555555555555556,
             "#d8576b"
            ],
            [
             0.6666666666666666,
             "#ed7953"
            ],
            [
             0.7777777777777778,
             "#fb9f3a"
            ],
            [
             0.8888888888888888,
             "#fdca26"
            ],
            [
             1,
             "#f0f921"
            ]
           ]
          },
          "colorway": [
           "#636efa",
           "#EF553B",
           "#00cc96",
           "#ab63fa",
           "#FFA15A",
           "#19d3f3",
           "#FF6692",
           "#B6E880",
           "#FF97FF",
           "#FECB52"
          ],
          "font": {
           "color": "#2a3f5f"
          },
          "geo": {
           "bgcolor": "white",
           "lakecolor": "white",
           "landcolor": "#E5ECF6",
           "showlakes": true,
           "showland": true,
           "subunitcolor": "white"
          },
          "hoverlabel": {
           "align": "left"
          },
          "hovermode": "closest",
          "mapbox": {
           "style": "light"
          },
          "paper_bgcolor": "white",
          "plot_bgcolor": "#E5ECF6",
          "polar": {
           "angularaxis": {
            "gridcolor": "white",
            "linecolor": "white",
            "ticks": ""
           },
           "bgcolor": "#E5ECF6",
           "radialaxis": {
            "gridcolor": "white",
            "linecolor": "white",
            "ticks": ""
           }
          },
          "scene": {
           "xaxis": {
            "backgroundcolor": "#E5ECF6",
            "gridcolor": "white",
            "gridwidth": 2,
            "linecolor": "white",
            "showbackground": true,
            "ticks": "",
            "zerolinecolor": "white"
           },
           "yaxis": {
            "backgroundcolor": "#E5ECF6",
            "gridcolor": "white",
            "gridwidth": 2,
            "linecolor": "white",
            "showbackground": true,
            "ticks": "",
            "zerolinecolor": "white"
           },
           "zaxis": {
            "backgroundcolor": "#E5ECF6",
            "gridcolor": "white",
            "gridwidth": 2,
            "linecolor": "white",
            "showbackground": true,
            "ticks": "",
            "zerolinecolor": "white"
           }
          },
          "shapedefaults": {
           "line": {
            "color": "#2a3f5f"
           }
          },
          "ternary": {
           "aaxis": {
            "gridcolor": "white",
            "linecolor": "white",
            "ticks": ""
           },
           "baxis": {
            "gridcolor": "white",
            "linecolor": "white",
            "ticks": ""
           },
           "bgcolor": "#E5ECF6",
           "caxis": {
            "gridcolor": "white",
            "linecolor": "white",
            "ticks": ""
           }
          },
          "title": {
           "x": 0.05
          },
          "xaxis": {
           "automargin": true,
           "gridcolor": "white",
           "linecolor": "white",
           "ticks": "",
           "title": {
            "standoff": 15
           },
           "zerolinecolor": "white",
           "zerolinewidth": 2
          },
          "yaxis": {
           "automargin": true,
           "gridcolor": "white",
           "linecolor": "white",
           "ticks": "",
           "title": {
            "standoff": 15
           },
           "zerolinecolor": "white",
           "zerolinewidth": 2
          }
         }
        },
        "title": {
         "text": "Distribution of Tree Agreement in Random Forest"
        },
        "xaxis": {
         "title": {
          "text": "Fraction of Trees Agreeing with Ensemble"
         }
        },
        "yaxis": {
         "title": {
          "text": "Number of Samples"
         }
        }
       }
      }
     },
     "metadata": {},
     "output_type": "display_data"
    },
    {
     "name": "stdout",
     "output_type": "stream",
     "text": [
      "\n",
      " Prediction Confidence Analysis:\n",
      "• Correlation between tree agreement and prediction confidence: 1.000\n"
     ]
    },
    {
     "data": {
      "application/vnd.plotly.v1+json": {
       "config": {
        "plotlyServerURL": "https://plot.ly"
       },
       "data": [
        {
         "hovertemplate": "Agreement: %{x:.3f}<br>Confidence: %{y:.3f}<extra></extra>",
         "marker": {
          "color": [
           "green",
           "red",
           "green",
           "green",
           "red",
           "red",
           "green",
           "red",
           "red",
           "red",
           "red",
           "green",
           "red",
           "red",
           "green",
           "red",
           "green",
           "green",
           "green",
           "red",
           "red",
           "green",
           "green",
           "red",
           "green",
           "red",
           "green",
           "red",
           "red",
           "green",
           "green",
           "green",
           "green",
           "green",
           "red",
           "green",
           "green",
           "green",
           "red",
           "green",
           "green",
           "green",
           "green",
           "green",
           "green",
           "green",
           "red",
           "green",
           "red",
           "red",
           "green",
           "red",
           "green",
           "green",
           "green",
           "red",
           "red",
           "red",
           "green",
           "red",
           "red",
           "red",
           "green",
           "green",
           "green",
           "red",
           "green",
           "red",
           "green",
           "red",
           "red",
           "red",
           "green",
           "red",
           "green",
           "red",
           "green",
           "red",
           "green",
           "red",
           "red",
           "red",
           "green",
           "green",
           "red",
           "green",
           "red",
           "red",
           "red",
           "red",
           "red",
           "red",
           "red",
           "red",
           "red",
           "red",
           "red",
           "red",
           "green",
           "green",
           "green",
           "green",
           "red",
           "red",
           "green",
           "red",
           "red",
           "red",
           "green",
           "green",
           "red",
           "green",
           "green",
           "red",
           "green",
           "green",
           "red",
           "red",
           "red",
           "red",
           "green",
           "red",
           "red",
           "red",
           "green",
           "red",
           "green",
           "red",
           "red",
           "green",
           "green",
           "red",
           "red",
           "green",
           "green",
           "green",
           "red",
           "green",
           "red",
           "red",
           "green",
           "green",
           "green",
           "green",
           "red",
           "red",
           "green",
           "red",
           "green",
           "red",
           "red",
           "red",
           "red",
           "green",
           "red",
           "green",
           "green",
           "green",
           "green",
           "green",
           "red",
           "red",
           "green",
           "green",
           "red",
           "red",
           "green",
           "green",
           "green",
           "red",
           "red",
           "green",
           "red",
           "green",
           "red",
           "green",
           "green",
           "green",
           "green",
           "red",
           "green",
           "green",
           "red",
           "red",
           "green",
           "red",
           "red",
           "green",
           "red",
           "red",
           "green",
           "green",
           "red",
           "red",
           "red",
           "red",
           "red",
           "green",
           "red",
           "green",
           "green",
           "red",
           "red",
           "green",
           "green",
           "green",
           "green",
           "red",
           "red",
           "red",
           "green",
           "red",
           "red",
           "red",
           "red",
           "red",
           "green",
           "green",
           "green",
           "red",
           "green",
           "red",
           "green",
           "red",
           "red",
           "green",
           "red",
           "red",
           "green",
           "red",
           "red",
           "green",
           "green",
           "red",
           "red",
           "red",
           "red",
           "green",
           "green",
           "red"
          ],
          "opacity": 0.6
         },
         "mode": "markers",
         "type": "scatter",
         "x": {
          "bdata": "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",
          "dtype": "f8"
         },
         "y": {
          "bdata": "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",
          "dtype": "f8"
         }
        }
       ],
       "layout": {
        "height": 500,
        "template": {
         "data": {
          "bar": [
           {
            "error_x": {
             "color": "#2a3f5f"
            },
            "error_y": {
             "color": "#2a3f5f"
            },
            "marker": {
             "line": {
              "color": "#E5ECF6",
              "width": 0.5
             },
             "pattern": {
              "fillmode": "overlay",
              "size": 10,
              "solidity": 0.2
             }
            },
            "type": "bar"
           }
          ],
          "barpolar": [
           {
            "marker": {
             "line": {
              "color": "#E5ECF6",
              "width": 0.5
             },
             "pattern": {
              "fillmode": "overlay",
              "size": 10,
              "solidity": 0.2
             }
            },
            "type": "barpolar"
           }
          ],
          "carpet": [
           {
            "aaxis": {
             "endlinecolor": "#2a3f5f",
             "gridcolor": "white",
             "linecolor": "white",
             "minorgridcolor": "white",
             "startlinecolor": "#2a3f5f"
            },
            "baxis": {
             "endlinecolor": "#2a3f5f",
             "gridcolor": "white",
             "linecolor": "white",
             "minorgridcolor": "white",
             "startlinecolor": "#2a3f5f"
            },
            "type": "carpet"
           }
          ],
          "choropleth": [
           {
            "colorbar": {
             "outlinewidth": 0,
             "ticks": ""
            },
            "type": "choropleth"
           }
          ],
          "contour": [
           {
            "colorbar": {
             "outlinewidth": 0,
             "ticks": ""
            },
            "colorscale": [
             [
              0,
              "#0d0887"
             ],
             [
              0.1111111111111111,
              "#46039f"
             ],
             [
              0.2222222222222222,
              "#7201a8"
             ],
             [
              0.3333333333333333,
              "#9c179e"
             ],
             [
              0.4444444444444444,
              "#bd3786"
             ],
             [
              0.5555555555555556,
              "#d8576b"
             ],
             [
              0.6666666666666666,
              "#ed7953"
             ],
             [
              0.7777777777777778,
              "#fb9f3a"
             ],
             [
              0.8888888888888888,
              "#fdca26"
             ],
             [
              1,
              "#f0f921"
             ]
            ],
            "type": "contour"
           }
          ],
          "contourcarpet": [
           {
            "colorbar": {
             "outlinewidth": 0,
             "ticks": ""
            },
            "type": "contourcarpet"
           }
          ],
          "heatmap": [
           {
            "colorbar": {
             "outlinewidth": 0,
             "ticks": ""
            },
            "colorscale": [
             [
              0,
              "#0d0887"
             ],
             [
              0.1111111111111111,
              "#46039f"
             ],
             [
              0.2222222222222222,
              "#7201a8"
             ],
             [
              0.3333333333333333,
              "#9c179e"
             ],
             [
              0.4444444444444444,
              "#bd3786"
             ],
             [
              0.5555555555555556,
              "#d8576b"
             ],
             [
              0.6666666666666666,
              "#ed7953"
             ],
             [
              0.7777777777777778,
              "#fb9f3a"
             ],
             [
              0.8888888888888888,
              "#fdca26"
             ],
             [
              1,
              "#f0f921"
             ]
            ],
            "type": "heatmap"
           }
          ],
          "histogram": [
           {
            "marker": {
             "pattern": {
              "fillmode": "overlay",
              "size": 10,
              "solidity": 0.2
             }
            },
            "type": "histogram"
           }
          ],
          "histogram2d": [
           {
            "colorbar": {
             "outlinewidth": 0,
             "ticks": ""
            },
            "colorscale": [
             [
              0,
              "#0d0887"
             ],
             [
              0.1111111111111111,
              "#46039f"
             ],
             [
              0.2222222222222222,
              "#7201a8"
             ],
             [
              0.3333333333333333,
              "#9c179e"
             ],
             [
              0.4444444444444444,
              "#bd3786"
             ],
             [
              0.5555555555555556,
              "#d8576b"
             ],
             [
              0.6666666666666666,
              "#ed7953"
             ],
             [
              0.7777777777777778,
              "#fb9f3a"
             ],
             [
              0.8888888888888888,
              "#fdca26"
             ],
             [
              1,
              "#f0f921"
             ]
            ],
            "type": "histogram2d"
           }
          ],
          "histogram2dcontour": [
           {
            "colorbar": {
             "outlinewidth": 0,
             "ticks": ""
            },
            "colorscale": [
             [
              0,
              "#0d0887"
             ],
             [
              0.1111111111111111,
              "#46039f"
             ],
             [
              0.2222222222222222,
              "#7201a8"
             ],
             [
              0.3333333333333333,
              "#9c179e"
             ],
             [
              0.4444444444444444,
              "#bd3786"
             ],
             [
              0.5555555555555556,
              "#d8576b"
             ],
             [
              0.6666666666666666,
              "#ed7953"
             ],
             [
              0.7777777777777778,
              "#fb9f3a"
             ],
             [
              0.8888888888888888,
              "#fdca26"
             ],
             [
              1,
              "#f0f921"
             ]
            ],
            "type": "histogram2dcontour"
           }
          ],
          "mesh3d": [
           {
            "colorbar": {
             "outlinewidth": 0,
             "ticks": ""
            },
            "type": "mesh3d"
           }
          ],
          "parcoords": [
           {
            "line": {
             "colorbar": {
              "outlinewidth": 0,
              "ticks": ""
             }
            },
            "type": "parcoords"
           }
          ],
          "pie": [
           {
            "automargin": true,
            "type": "pie"
           }
          ],
          "scatter": [
           {
            "fillpattern": {
             "fillmode": "overlay",
             "size": 10,
             "solidity": 0.2
            },
            "type": "scatter"
           }
          ],
          "scatter3d": [
           {
            "line": {
             "colorbar": {
              "outlinewidth": 0,
              "ticks": ""
             }
            },
            "marker": {
             "colorbar": {
              "outlinewidth": 0,
              "ticks": ""
             }
            },
            "type": "scatter3d"
           }
          ],
          "scattercarpet": [
           {
            "marker": {
             "colorbar": {
              "outlinewidth": 0,
              "ticks": ""
             }
            },
            "type": "scattercarpet"
           }
          ],
          "scattergeo": [
           {
            "marker": {
             "colorbar": {
              "outlinewidth": 0,
              "ticks": ""
             }
            },
            "type": "scattergeo"
           }
          ],
          "scattergl": [
           {
            "marker": {
             "colorbar": {
              "outlinewidth": 0,
              "ticks": ""
             }
            },
            "type": "scattergl"
           }
          ],
          "scattermap": [
           {
            "marker": {
             "colorbar": {
              "outlinewidth": 0,
              "ticks": ""
             }
            },
            "type": "scattermap"
           }
          ],
          "scattermapbox": [
           {
            "marker": {
             "colorbar": {
              "outlinewidth": 0,
              "ticks": ""
             }
            },
            "type": "scattermapbox"
           }
          ],
          "scatterpolar": [
           {
            "marker": {
             "colorbar": {
              "outlinewidth": 0,
              "ticks": ""
             }
            },
            "type": "scatterpolar"
           }
          ],
          "scatterpolargl": [
           {
            "marker": {
             "colorbar": {
              "outlinewidth": 0,
              "ticks": ""
             }
            },
            "type": "scatterpolargl"
           }
          ],
          "scatterternary": [
           {
            "marker": {
             "colorbar": {
              "outlinewidth": 0,
              "ticks": ""
             }
            },
            "type": "scatterternary"
           }
          ],
          "surface": [
           {
            "colorbar": {
             "outlinewidth": 0,
             "ticks": ""
            },
            "colorscale": [
             [
              0,
              "#0d0887"
             ],
             [
              0.1111111111111111,
              "#46039f"
             ],
             [
              0.2222222222222222,
              "#7201a8"
             ],
             [
              0.3333333333333333,
              "#9c179e"
             ],
             [
              0.4444444444444444,
              "#bd3786"
             ],
             [
              0.5555555555555556,
              "#d8576b"
             ],
             [
              0.6666666666666666,
              "#ed7953"
             ],
             [
              0.7777777777777778,
              "#fb9f3a"
             ],
             [
              0.8888888888888888,
              "#fdca26"
             ],
             [
              1,
              "#f0f921"
             ]
            ],
            "type": "surface"
           }
          ],
          "table": [
           {
            "cells": {
             "fill": {
              "color": "#EBF0F8"
             },
             "line": {
              "color": "white"
             }
            },
            "header": {
             "fill": {
              "color": "#C8D4E3"
             },
             "line": {
              "color": "white"
             }
            },
            "type": "table"
           }
          ]
         },
         "layout": {
          "annotationdefaults": {
           "arrowcolor": "#2a3f5f",
           "arrowhead": 0,
           "arrowwidth": 1
          },
          "autotypenumbers": "strict",
          "coloraxis": {
           "colorbar": {
            "outlinewidth": 0,
            "ticks": ""
           }
          },
          "colorscale": {
           "diverging": [
            [
             0,
             "#8e0152"
            ],
            [
             0.1,
             "#c51b7d"
            ],
            [
             0.2,
             "#de77ae"
            ],
            [
             0.3,
             "#f1b6da"
            ],
            [
             0.4,
             "#fde0ef"
            ],
            [
             0.5,
             "#f7f7f7"
            ],
            [
             0.6,
             "#e6f5d0"
            ],
            [
             0.7,
             "#b8e186"
            ],
            [
             0.8,
             "#7fbc41"
            ],
            [
             0.9,
             "#4d9221"
            ],
            [
             1,
             "#276419"
            ]
           ],
           "sequential": [
            [
             0,
             "#0d0887"
            ],
            [
             0.1111111111111111,
             "#46039f"
            ],
            [
             0.2222222222222222,
             "#7201a8"
            ],
            [
             0.3333333333333333,
             "#9c179e"
            ],
            [
             0.4444444444444444,
             "#bd3786"
            ],
            [
             0.5555555555555556,
             "#d8576b"
            ],
            [
             0.6666666666666666,
             "#ed7953"
            ],
            [
             0.7777777777777778,
             "#fb9f3a"
            ],
            [
             0.8888888888888888,
             "#fdca26"
            ],
            [
             1,
             "#f0f921"
            ]
           ],
           "sequentialminus": [
            [
             0,
             "#0d0887"
            ],
            [
             0.1111111111111111,
             "#46039f"
            ],
            [
             0.2222222222222222,
             "#7201a8"
            ],
            [
             0.3333333333333333,
             "#9c179e"
            ],
            [
             0.4444444444444444,
             "#bd3786"
            ],
            [
             0.5555555555555556,
             "#d8576b"
            ],
            [
             0.6666666666666666,
             "#ed7953"
            ],
            [
             0.7777777777777778,
             "#fb9f3a"
            ],
            [
             0.8888888888888888,
             "#fdca26"
            ],
            [
             1,
             "#f0f921"
            ]
           ]
          },
          "colorway": [
           "#636efa",
           "#EF553B",
           "#00cc96",
           "#ab63fa",
           "#FFA15A",
           "#19d3f3",
           "#FF6692",
           "#B6E880",
           "#FF97FF",
           "#FECB52"
          ],
          "font": {
           "color": "#2a3f5f"
          },
          "geo": {
           "bgcolor": "white",
           "lakecolor": "white",
           "landcolor": "#E5ECF6",
           "showlakes": true,
           "showland": true,
           "subunitcolor": "white"
          },
          "hoverlabel": {
           "align": "left"
          },
          "hovermode": "closest",
          "mapbox": {
           "style": "light"
          },
          "paper_bgcolor": "white",
          "plot_bgcolor": "#E5ECF6",
          "polar": {
           "angularaxis": {
            "gridcolor": "white",
            "linecolor": "white",
            "ticks": ""
           },
           "bgcolor": "#E5ECF6",
           "radialaxis": {
            "gridcolor": "white",
            "linecolor": "white",
            "ticks": ""
           }
          },
          "scene": {
           "xaxis": {
            "backgroundcolor": "#E5ECF6",
            "gridcolor": "white",
            "gridwidth": 2,
            "linecolor": "white",
            "showbackground": true,
            "ticks": "",
            "zerolinecolor": "white"
           },
           "yaxis": {
            "backgroundcolor": "#E5ECF6",
            "gridcolor": "white",
            "gridwidth": 2,
            "linecolor": "white",
            "showbackground": true,
            "ticks": "",
            "zerolinecolor": "white"
           },
           "zaxis": {
            "backgroundcolor": "#E5ECF6",
            "gridcolor": "white",
            "gridwidth": 2,
            "linecolor": "white",
            "showbackground": true,
            "ticks": "",
            "zerolinecolor": "white"
           }
          },
          "shapedefaults": {
           "line": {
            "color": "#2a3f5f"
           }
          },
          "ternary": {
           "aaxis": {
            "gridcolor": "white",
            "linecolor": "white",
            "ticks": ""
           },
           "baxis": {
            "gridcolor": "white",
            "linecolor": "white",
            "ticks": ""
           },
           "bgcolor": "#E5ECF6",
           "caxis": {
            "gridcolor": "white",
            "linecolor": "white",
            "ticks": ""
           }
          },
          "title": {
           "x": 0.05
          },
          "xaxis": {
           "automargin": true,
           "gridcolor": "white",
           "linecolor": "white",
           "ticks": "",
           "title": {
            "standoff": 15
           },
           "zerolinecolor": "white",
           "zerolinewidth": 2
          },
          "yaxis": {
           "automargin": true,
           "gridcolor": "white",
           "linecolor": "white",
           "ticks": "",
           "title": {
            "standoff": 15
           },
           "zerolinecolor": "white",
           "zerolinewidth": 2
          }
         }
        },
        "title": {
         "text": "Prediction Confidence vs Tree Agreement (Green=Correct, Red=Incorrect)"
        },
        "xaxis": {
         "title": {
          "text": "Tree Agreement"
         }
        },
        "yaxis": {
         "title": {
          "text": "Prediction Confidence"
         }
        }
       }
      }
     },
     "metadata": {},
     "output_type": "display_data"
    },
    {
     "name": "stdout",
     "output_type": "stream",
     "text": [
      "\n",
      " Out-of-Bag (OOB) Analysis:\n",
      "OOB Score vs Test Score by Number of Estimators:\n",
      "• n_estimators=10: OOB=0.4531, Test=0.4750\n",
      "• n_estimators=25: OOB=0.4625, Test=0.4875\n",
      "• n_estimators=50: OOB=0.5083, Test=0.4917\n",
      "• n_estimators=100: OOB=0.5115, Test=0.5375\n",
      "• n_estimators=200: OOB=0.5229, Test=0.5458\n",
      "• n_estimators=500: OOB=0.5250, Test=0.5500\n",
      "OOB Score vs Test Score by Number of Estimators:\n",
      "• n_estimators=10: OOB=0.4531, Test=0.4750\n",
      "• n_estimators=25: OOB=0.4625, Test=0.4875\n",
      "• n_estimators=50: OOB=0.5083, Test=0.4917\n",
      "• n_estimators=100: OOB=0.5115, Test=0.5375\n",
      "• n_estimators=200: OOB=0.5229, Test=0.5458\n",
      "• n_estimators=500: OOB=0.5250, Test=0.5500\n"
     ]
    },
    {
     "data": {
      "application/vnd.plotly.v1+json": {
       "config": {
        "plotlyServerURL": "https://plot.ly"
       },
       "data": [
        {
         "line": {
          "color": "blue"
         },
         "mode": "lines+markers",
         "name": "OOB Score",
         "type": "scatter",
         "x": [
          10,
          25,
          50,
          100,
          200,
          500
         ],
         "y": [
          0.453125,
          0.4625,
          0.5083333333333333,
          0.5114583333333333,
          0.5229166666666667,
          0.525
         ]
        },
        {
         "line": {
          "color": "red"
         },
         "mode": "lines+markers",
         "name": "Test Score",
         "type": "scatter",
         "x": [
          10,
          25,
          50,
          100,
          200,
          500
         ],
         "y": [
          0.475,
          0.4875,
          0.49166666666666664,
          0.5375,
          0.5458333333333333,
          0.55
         ]
        }
       ],
       "layout": {
        "height": 500,
        "template": {
         "data": {
          "bar": [
           {
            "error_x": {
             "color": "#2a3f5f"
            },
            "error_y": {
             "color": "#2a3f5f"
            },
            "marker": {
             "line": {
              "color": "#E5ECF6",
              "width": 0.5
             },
             "pattern": {
              "fillmode": "overlay",
              "size": 10,
              "solidity": 0.2
             }
            },
            "type": "bar"
           }
          ],
          "barpolar": [
           {
            "marker": {
             "line": {
              "color": "#E5ECF6",
              "width": 0.5
             },
             "pattern": {
              "fillmode": "overlay",
              "size": 10,
              "solidity": 0.2
             }
            },
            "type": "barpolar"
           }
          ],
          "carpet": [
           {
            "aaxis": {
             "endlinecolor": "#2a3f5f",
             "gridcolor": "white",
             "linecolor": "white",
             "minorgridcolor": "white",
             "startlinecolor": "#2a3f5f"
            },
            "baxis": {
             "endlinecolor": "#2a3f5f",
             "gridcolor": "white",
             "linecolor": "white",
             "minorgridcolor": "white",
             "startlinecolor": "#2a3f5f"
            },
            "type": "carpet"
           }
          ],
          "choropleth": [
           {
            "colorbar": {
             "outlinewidth": 0,
             "ticks": ""
            },
            "type": "choropleth"
           }
          ],
          "contour": [
           {
            "colorbar": {
             "outlinewidth": 0,
             "ticks": ""
            },
            "colorscale": [
             [
              0,
              "#0d0887"
             ],
             [
              0.1111111111111111,
              "#46039f"
             ],
             [
              0.2222222222222222,
              "#7201a8"
             ],
             [
              0.3333333333333333,
              "#9c179e"
             ],
             [
              0.4444444444444444,
              "#bd3786"
             ],
             [
              0.5555555555555556,
              "#d8576b"
             ],
             [
              0.6666666666666666,
              "#ed7953"
             ],
             [
              0.7777777777777778,
              "#fb9f3a"
             ],
             [
              0.8888888888888888,
              "#fdca26"
             ],
             [
              1,
              "#f0f921"
             ]
            ],
            "type": "contour"
           }
          ],
          "contourcarpet": [
           {
            "colorbar": {
             "outlinewidth": 0,
             "ticks": ""
            },
            "type": "contourcarpet"
           }
          ],
          "heatmap": [
           {
            "colorbar": {
             "outlinewidth": 0,
             "ticks": ""
            },
            "colorscale": [
             [
              0,
              "#0d0887"
             ],
             [
              0.1111111111111111,
              "#46039f"
             ],
             [
              0.2222222222222222,
              "#7201a8"
             ],
             [
              0.3333333333333333,
              "#9c179e"
             ],
             [
              0.4444444444444444,
              "#bd3786"
             ],
             [
              0.5555555555555556,
              "#d8576b"
             ],
             [
              0.6666666666666666,
              "#ed7953"
             ],
             [
              0.7777777777777778,
              "#fb9f3a"
             ],
             [
              0.8888888888888888,
              "#fdca26"
             ],
             [
              1,
              "#f0f921"
             ]
            ],
            "type": "heatmap"
           }
          ],
          "histogram": [
           {
            "marker": {
             "pattern": {
              "fillmode": "overlay",
              "size": 10,
              "solidity": 0.2
             }
            },
            "type": "histogram"
           }
          ],
          "histogram2d": [
           {
            "colorbar": {
             "outlinewidth": 0,
             "ticks": ""
            },
            "colorscale": [
             [
              0,
              "#0d0887"
             ],
             [
              0.1111111111111111,
              "#46039f"
             ],
             [
              0.2222222222222222,
              "#7201a8"
             ],
             [
              0.3333333333333333,
              "#9c179e"
             ],
             [
              0.4444444444444444,
              "#bd3786"
             ],
             [
              0.5555555555555556,
              "#d8576b"
             ],
             [
              0.6666666666666666,
              "#ed7953"
             ],
             [
              0.7777777777777778,
              "#fb9f3a"
             ],
             [
              0.8888888888888888,
              "#fdca26"
             ],
             [
              1,
              "#f0f921"
             ]
            ],
            "type": "histogram2d"
           }
          ],
          "histogram2dcontour": [
           {
            "colorbar": {
             "outlinewidth": 0,
             "ticks": ""
            },
            "colorscale": [
             [
              0,
              "#0d0887"
             ],
             [
              0.1111111111111111,
              "#46039f"
             ],
             [
              0.2222222222222222,
              "#7201a8"
             ],
             [
              0.3333333333333333,
              "#9c179e"
             ],
             [
              0.4444444444444444,
              "#bd3786"
             ],
             [
              0.5555555555555556,
              "#d8576b"
             ],
             [
              0.6666666666666666,
              "#ed7953"
             ],
             [
              0.7777777777777778,
              "#fb9f3a"
             ],
             [
              0.8888888888888888,
              "#fdca26"
             ],
             [
              1,
              "#f0f921"
             ]
            ],
            "type": "histogram2dcontour"
           }
          ],
          "mesh3d": [
           {
            "colorbar": {
             "outlinewidth": 0,
             "ticks": ""
            },
            "type": "mesh3d"
           }
          ],
          "parcoords": [
           {
            "line": {
             "colorbar": {
              "outlinewidth": 0,
              "ticks": ""
             }
            },
            "type": "parcoords"
           }
          ],
          "pie": [
           {
            "automargin": true,
            "type": "pie"
           }
          ],
          "scatter": [
           {
            "fillpattern": {
             "fillmode": "overlay",
             "size": 10,
             "solidity": 0.2
            },
            "type": "scatter"
           }
          ],
          "scatter3d": [
           {
            "line": {
             "colorbar": {
              "outlinewidth": 0,
              "ticks": ""
             }
            },
            "marker": {
             "colorbar": {
              "outlinewidth": 0,
              "ticks": ""
             }
            },
            "type": "scatter3d"
           }
          ],
          "scattercarpet": [
           {
            "marker": {
             "colorbar": {
              "outlinewidth": 0,
              "ticks": ""
             }
            },
            "type": "scattercarpet"
           }
          ],
          "scattergeo": [
           {
            "marker": {
             "colorbar": {
              "outlinewidth": 0,
              "ticks": ""
             }
            },
            "type": "scattergeo"
           }
          ],
          "scattergl": [
           {
            "marker": {
             "colorbar": {
              "outlinewidth": 0,
              "ticks": ""
             }
            },
            "type": "scattergl"
           }
          ],
          "scattermap": [
           {
            "marker": {
             "colorbar": {
              "outlinewidth": 0,
              "ticks": ""
             }
            },
            "type": "scattermap"
           }
          ],
          "scattermapbox": [
           {
            "marker": {
             "colorbar": {
              "outlinewidth": 0,
              "ticks": ""
             }
            },
            "type": "scattermapbox"
           }
          ],
          "scatterpolar": [
           {
            "marker": {
             "colorbar": {
              "outlinewidth": 0,
              "ticks": ""
             }
            },
            "type": "scatterpolar"
           }
          ],
          "scatterpolargl": [
           {
            "marker": {
             "colorbar": {
              "outlinewidth": 0,
              "ticks": ""
             }
            },
            "type": "scatterpolargl"
           }
          ],
          "scatterternary": [
           {
            "marker": {
             "colorbar": {
              "outlinewidth": 0,
              "ticks": ""
             }
            },
            "type": "scatterternary"
           }
          ],
          "surface": [
           {
            "colorbar": {
             "outlinewidth": 0,
             "ticks": ""
            },
            "colorscale": [
             [
              0,
              "#0d0887"
             ],
             [
              0.1111111111111111,
              "#46039f"
             ],
             [
              0.2222222222222222,
              "#7201a8"
             ],
             [
              0.3333333333333333,
              "#9c179e"
             ],
             [
              0.4444444444444444,
              "#bd3786"
             ],
             [
              0.5555555555555556,
              "#d8576b"
             ],
             [
              0.6666666666666666,
              "#ed7953"
             ],
             [
              0.7777777777777778,
              "#fb9f3a"
             ],
             [
              0.8888888888888888,
              "#fdca26"
             ],
             [
              1,
              "#f0f921"
             ]
            ],
            "type": "surface"
           }
          ],
          "table": [
           {
            "cells": {
             "fill": {
              "color": "#EBF0F8"
             },
             "line": {
              "color": "white"
             }
            },
            "header": {
             "fill": {
              "color": "#C8D4E3"
             },
             "line": {
              "color": "white"
             }
            },
            "type": "table"
           }
          ]
         },
         "layout": {
          "annotationdefaults": {
           "arrowcolor": "#2a3f5f",
           "arrowhead": 0,
           "arrowwidth": 1
          },
          "autotypenumbers": "strict",
          "coloraxis": {
           "colorbar": {
            "outlinewidth": 0,
            "ticks": ""
           }
          },
          "colorscale": {
           "diverging": [
            [
             0,
             "#8e0152"
            ],
            [
             0.1,
             "#c51b7d"
            ],
            [
             0.2,
             "#de77ae"
            ],
            [
             0.3,
             "#f1b6da"
            ],
            [
             0.4,
             "#fde0ef"
            ],
            [
             0.5,
             "#f7f7f7"
            ],
            [
             0.6,
             "#e6f5d0"
            ],
            [
             0.7,
             "#b8e186"
            ],
            [
             0.8,
             "#7fbc41"
            ],
            [
             0.9,
             "#4d9221"
            ],
            [
             1,
             "#276419"
            ]
           ],
           "sequential": [
            [
             0,
             "#0d0887"
            ],
            [
             0.1111111111111111,
             "#46039f"
            ],
            [
             0.2222222222222222,
             "#7201a8"
            ],
            [
             0.3333333333333333,
             "#9c179e"
            ],
            [
             0.4444444444444444,
             "#bd3786"
            ],
            [
             0.5555555555555556,
             "#d8576b"
            ],
            [
             0.6666666666666666,
             "#ed7953"
            ],
            [
             0.7777777777777778,
             "#fb9f3a"
            ],
            [
             0.8888888888888888,
             "#fdca26"
            ],
            [
             1,
             "#f0f921"
            ]
           ],
           "sequentialminus": [
            [
             0,
             "#0d0887"
            ],
            [
             0.1111111111111111,
             "#46039f"
            ],
            [
             0.2222222222222222,
             "#7201a8"
            ],
            [
             0.3333333333333333,
             "#9c179e"
            ],
            [
             0.4444444444444444,
             "#bd3786"
            ],
            [
             0.5555555555555556,
             "#d8576b"
            ],
            [
             0.6666666666666666,
             "#ed7953"
            ],
            [
             0.7777777777777778,
             "#fb9f3a"
            ],
            [
             0.8888888888888888,
             "#fdca26"
            ],
            [
             1,
             "#f0f921"
            ]
           ]
          },
          "colorway": [
           "#636efa",
           "#EF553B",
           "#00cc96",
           "#ab63fa",
           "#FFA15A",
           "#19d3f3",
           "#FF6692",
           "#B6E880",
           "#FF97FF",
           "#FECB52"
          ],
          "font": {
           "color": "#2a3f5f"
          },
          "geo": {
           "bgcolor": "white",
           "lakecolor": "white",
           "landcolor": "#E5ECF6",
           "showlakes": true,
           "showland": true,
           "subunitcolor": "white"
          },
          "hoverlabel": {
           "align": "left"
          },
          "hovermode": "closest",
          "mapbox": {
           "style": "light"
          },
          "paper_bgcolor": "white",
          "plot_bgcolor": "#E5ECF6",
          "polar": {
           "angularaxis": {
            "gridcolor": "white",
            "linecolor": "white",
            "ticks": ""
           },
           "bgcolor": "#E5ECF6",
           "radialaxis": {
            "gridcolor": "white",
            "linecolor": "white",
            "ticks": ""
           }
          },
          "scene": {
           "xaxis": {
            "backgroundcolor": "#E5ECF6",
            "gridcolor": "white",
            "gridwidth": 2,
            "linecolor": "white",
            "showbackground": true,
            "ticks": "",
            "zerolinecolor": "white"
           },
           "yaxis": {
            "backgroundcolor": "#E5ECF6",
            "gridcolor": "white",
            "gridwidth": 2,
            "linecolor": "white",
            "showbackground": true,
            "ticks": "",
            "zerolinecolor": "white"
           },
           "zaxis": {
            "backgroundcolor": "#E5ECF6",
            "gridcolor": "white",
            "gridwidth": 2,
            "linecolor": "white",
            "showbackground": true,
            "ticks": "",
            "zerolinecolor": "white"
           }
          },
          "shapedefaults": {
           "line": {
            "color": "#2a3f5f"
           }
          },
          "ternary": {
           "aaxis": {
            "gridcolor": "white",
            "linecolor": "white",
            "ticks": ""
           },
           "baxis": {
            "gridcolor": "white",
            "linecolor": "white",
            "ticks": ""
           },
           "bgcolor": "#E5ECF6",
           "caxis": {
            "gridcolor": "white",
            "linecolor": "white",
            "ticks": ""
           }
          },
          "title": {
           "x": 0.05
          },
          "xaxis": {
           "automargin": true,
           "gridcolor": "white",
           "linecolor": "white",
           "ticks": "",
           "title": {
            "standoff": 15
           },
           "zerolinecolor": "white",
           "zerolinewidth": 2
          },
          "yaxis": {
           "automargin": true,
           "gridcolor": "white",
           "linecolor": "white",
           "ticks": "",
           "title": {
            "standoff": 15
           },
           "zerolinecolor": "white",
           "zerolinewidth": 2
          }
         }
        },
        "title": {
         "text": "OOB Score vs Test Score"
        },
        "xaxis": {
         "title": {
          "text": "Number of Estimators"
         }
        },
        "yaxis": {
         "title": {
          "text": "Accuracy"
         }
        }
       }
      }
     },
     "metadata": {},
     "output_type": "display_data"
    },
    {
     "name": "stdout",
     "output_type": "stream",
     "text": [
      "\n",
      " Bootstrap Sampling Analysis:\n",
      "• Average fraction of training data seen per tree: 0.632\n",
      "• Theoretical expectation (1 - 1/e): 0.632\n",
      "• This means ~36.8% of data is out-of-bag for each tree\n",
      "\n",
      " Feature Subsampling Analysis:\n",
      "• Total features: 11\n",
      "• max_features='sqrt': 3 features (27.3% of total)\n",
      "• max_features='log2': 3 features (27.3% of total)\n",
      "• max_features='None': 11 features (100.0% of total)\n",
      "• max_features='0.3': 3 features (27.3% of total)\n",
      "\n",
      "Feature subsampling increases diversity and reduces overfitting!\n"
     ]
    }
   ],
   "source": [
    "# 4. ENSEMBLE BEHAVIOR ANALYSIS\n",
    "print(\" 4. ENSEMBLE BEHAVIOR ANALYSIS\")\n",
    "print(\"=\" * 31)\n",
    "\n",
    "# Analyze individual tree predictions vs ensemble\n",
    "print(\"Understanding how Random Forest combines individual tree predictions:\")\n",
    "\n",
    "# Use the employee performance dataset for this analysis\n",
    "rf_ensemble = RandomForestClassifier(n_estimators=10, random_state=42) # Small ensemble for visualization\n",
    "rf_ensemble.fit(X_class_train, y_class_train)\n",
    "\n",
    "# Get predictions from individual trees\n",
    "individual_predictions = []\n",
    "for tree in rf_ensemble.estimators_:\n",
    " tree_pred = tree.predict(X_class_test)\n",
    " individual_predictions.append(tree_pred)\n",
    "\n",
    "individual_predictions = np.array(individual_predictions)\n",
    "\n",
    "# Ensemble prediction\n",
    "ensemble_pred = rf_ensemble.predict(X_class_test)\n",
    "\n",
    "# Analyze agreement between trees\n",
    "print(f\"\\n Tree Agreement Analysis:\")\n",
    "\n",
    "# Calculate agreement for each sample\n",
    "agreements = []\n",
    "for i in range(len(X_class_test)):\n",
    " sample_predictions = individual_predictions[:, i]\n",
    " # Count how many trees agree with the final ensemble prediction\n",
    " agreement = np.sum(sample_predictions == ensemble_pred[i]) / len(rf_ensemble.estimators_)\n",
    " agreements.append(agreement)\n",
    "\n",
    "agreements = np.array(agreements)\n",
    "\n",
    "print(f\"• Average tree agreement: {agreements.mean():.3f}\")\n",
    "print(f\"• Minimum agreement: {agreements.min():.3f}\")\n",
    "print(f\"• Maximum agreement: {agreements.max():.3f}\")\n",
    "\n",
    "# Analyze disagreement cases\n",
    "low_agreement_mask = agreements < 0.6\n",
    "high_agreement_mask = agreements > 0.9\n",
    "\n",
    "print(f\"• Samples with low agreement (<60%): {low_agreement_mask.sum()}\")\n",
    "print(f\"• Samples with high agreement (>90%): {high_agreement_mask.sum()}\")\n",
    "\n",
    "# Visualize agreement distribution\n",
    "fig_agreement = go.Figure()\n",
    "\n",
    "fig_agreement.add_trace(\n",
    " go.Histogram(\n",
    " x=agreements,\n",
    " nbinsx=20,\n",
    " name='Tree Agreement',\n",
    " marker_color='lightblue',\n",
    " opacity=0.7\n",
    " )\n",
    ")\n",
    "\n",
    "fig_agreement.update_layout(\n",
    " title=\"Distribution of Tree Agreement in Random Forest\",\n",
    " xaxis_title=\"Fraction of Trees Agreeing with Ensemble\",\n",
    " yaxis_title=\"Number of Samples\",\n",
    " height=500\n",
    ")\n",
    "fig_agreement.show()\n",
    "\n",
    "# Prediction confidence analysis\n",
    "print(f\"\\n Prediction Confidence Analysis:\")\n",
    "\n",
    "# Get class probabilities\n",
    "class_probabilities = rf_ensemble.predict_proba(X_class_test)\n",
    "max_probabilities = class_probabilities.max(axis=1)\n",
    "\n",
    "# Correlate confidence with agreement\n",
    "correlation = np.corrcoef(agreements, max_probabilities)[0, 1]\n",
    "print(f\"• Correlation between tree agreement and prediction confidence: {correlation:.3f}\")\n",
    "\n",
    "# Visualize confidence vs agreement\n",
    "fig_conf_agreement = go.Figure()\n",
    "\n",
    "# Color points by correctness\n",
    "correct_predictions = (ensemble_pred == y_class_test)\n",
    "colors = ['green' if correct else 'red' for correct in correct_predictions]\n",
    "\n",
    "fig_conf_agreement.add_trace(\n",
    " go.Scatter(\n",
    " x=agreements,\n",
    " y=max_probabilities,\n",
    " mode='markers',\n",
    " marker=dict(color=colors, opacity=0.6),\n",
    " hovertemplate=\"Agreement: %{x:.3f}<br>Confidence: %{y:.3f}<extra></extra>\"\n",
    " )\n",
    ")\n",
    "\n",
    "fig_conf_agreement.update_layout(\n",
    " title=\"Prediction Confidence vs Tree Agreement (Green=Correct, Red=Incorrect)\",\n",
    " xaxis_title=\"Tree Agreement\",\n",
    " yaxis_title=\"Prediction Confidence\",\n",
    " height=500\n",
    ")\n",
    "fig_conf_agreement.show()\n",
    "\n",
    "# Out-of-Bag (OOB) analysis\n",
    "print(f\"\\n Out-of-Bag (OOB) Analysis:\")\n",
    "\n",
    "# Train with different OOB sample sizes\n",
    "n_estimators_range = [10, 25, 50, 100, 200, 500]\n",
    "oob_scores = []\n",
    "test_scores = []\n",
    "\n",
    "for n_est in n_estimators_range:\n",
    " rf_oob_temp = RandomForestClassifier(\n",
    " n_estimators=n_est,\n",
    " oob_score=True,\n",
    " random_state=42\n",
    " )\n",
    " rf_oob_temp.fit(X_class_train, y_class_train)\n",
    "\n",
    " oob_scores.append(rf_oob_temp.oob_score_)\n",
    " test_scores.append(rf_oob_temp.score(X_class_test, y_class_test))\n",
    "\n",
    "print(\"OOB Score vs Test Score by Number of Estimators:\")\n",
    "for i, n_est in enumerate(n_estimators_range):\n",
    " print(f\"• n_estimators={n_est}: OOB={oob_scores[i]:.4f}, Test={test_scores[i]:.4f}\")\n",
    "\n",
    "# Visualize OOB vs Test performance\n",
    "fig_oob_test = go.Figure()\n",
    "\n",
    "fig_oob_test.add_trace(\n",
    " go.Scatter(\n",
    " x=n_estimators_range,\n",
    " y=oob_scores,\n",
    " mode='lines+markers',\n",
    " name='OOB Score',\n",
    " line=dict(color='blue')\n",
    " )\n",
    ")\n",
    "\n",
    "fig_oob_test.add_trace(\n",
    " go.Scatter(\n",
    " x=n_estimators_range,\n",
    " y=test_scores,\n",
    " mode='lines+markers',\n",
    " name='Test Score',\n",
    " line=dict(color='red')\n",
    " )\n",
    ")\n",
    "\n",
    "fig_oob_test.update_layout(\n",
    " title=\"OOB Score vs Test Score\",\n",
    " xaxis_title=\"Number of Estimators\",\n",
    " yaxis_title=\"Accuracy\",\n",
    " height=500\n",
    ")\n",
    "fig_oob_test.show()\n",
    "\n",
    "# Bootstrap sampling analysis\n",
    "print(f\"\\n Bootstrap Sampling Analysis:\")\n",
    "\n",
    "# Analyze what fraction of training data each tree sees\n",
    "n_train_samples = len(X_class_train)\n",
    "bootstrap_fractions = []\n",
    "\n",
    "# Simulate bootstrap sampling\n",
    "for _ in range(100): # 100 simulations\n",
    " bootstrap_sample = np.random.choice(n_train_samples, size=n_train_samples, replace=True)\n",
    " unique_samples = len(np.unique(bootstrap_sample))\n",
    " fraction_seen = unique_samples / n_train_samples\n",
    " bootstrap_fractions.append(fraction_seen)\n",
    "\n",
    "avg_fraction = np.mean(bootstrap_fractions)\n",
    "theoretical_fraction = 1 - (1 - 1/n_train_samples)**n_train_samples\n",
    "print(f\"• Average fraction of training data seen per tree: {avg_fraction:.3f}\")\n",
    "print(f\"• Theoretical expectation (1 - 1/e): {theoretical_fraction:.3f}\")\n",
    "print(f\"• This means ~{(1-avg_fraction)*100:.1f}% of data is out-of-bag for each tree\")\n",
    "\n",
    "# Feature subsampling analysis\n",
    "print(f\"\\n Feature Subsampling Analysis:\")\n",
    "\n",
    "n_features = len(class_features)\n",
    "print(f\"• Total features: {n_features}\")\n",
    "\n",
    "# Different max_features options\n",
    "max_features_options = {\n",
    " 'sqrt': int(np.sqrt(n_features)),\n",
    " 'log2': int(np.log2(n_features)),\n",
    " 'None': n_features,\n",
    " '0.3': int(0.3 * n_features)\n",
    "}\n",
    "\n",
    "for option, n_feat in max_features_options.items():\n",
    " fraction = n_feat / n_features\n",
    " print(f\"• max_features='{option}': {n_feat} features ({fraction:.1%} of total)\")\n",
    "\n",
    "print(f\"\\nFeature subsampling increases diversity and reduces overfitting!\")"
   ]
  },
  {
   "cell_type": "code",
   "execution_count": 11,
   "id": "c2a0a4f3",
   "metadata": {},
   "outputs": [
    {
     "name": "stdout",
     "output_type": "stream",
     "text": [
      " 5. BUSINESS INSIGHTS AND STRATEGIC RECOMMENDATIONS\n",
      "======================================================\n",
      " Random Forest Business Applications Analysis:\n",
      "\n",
      "1. MODEL PERFORMANCE SUMMARY:\n",
      " • Employee Performance Classification: 53.8% accuracy\n",
      " • House Price Prediction: R² = 0.908 ($39,117 RMSE)\n",
      " • Gene Expression Analysis: 100.0% accuracy, 1.000 AUC\n",
      "\n",
      "2. EMPLOYEE PERFORMANCE INSIGHTS:\n",
      " Top 5 Performance Drivers:\n",
      " 1. training_hours: 0.144 importance\n",
      " 2. peer_collaboration_score: 0.119 importance\n",
      " 3. age: 0.116 importance\n",
      " 4. innovation_score: 0.112 importance\n",
      " 5. meeting_attendance: 0.110 importance\n",
      "\n",
      " HR Strategy Recommendations:\n",
      " • Invest heavily in employee training programs\n",
      " • Target 40+ training hours annually for high performers\n",
      "\n",
      " ROI Analysis:\n",
      " • Current high performers: 3,300\n",
      " • With 15% classification improvement: +1,500 identified\n",
      " • Additional annual value: $45,000,000\n",
      " • Implementation cost estimate: $500,000 (training/tools)\n",
      " • Net ROI: 8900%\n",
      "\n",
      "3. REAL ESTATE PRICING INSIGHTS:\n",
      " Top 5 Price Drivers:\n",
      " 1. house_size: 0.741 importance\n",
      " 2. lot_size: 0.109 importance\n",
      " 3. bedrooms: 0.054 importance\n",
      " 4. school_rating: 0.020 importance\n",
      " 5. house_age: 0.020 importance\n",
      "\n",
      " Investment Strategy Recommendations:\n",
      " • Focus on property size as primary value driver\n",
      " • Target properties >2500 sq ft for premium market\n",
      "\n",
      " Appraisal Automation ROI:\n",
      " • Monthly property valuations: 1,000\n",
      " • Cost per manual appraisal: $500\n",
      " • Cost per automated appraisal: $50\n",
      " • Monthly savings: $450,000\n",
      " • Annual savings: $5,400,000\n",
      "\n",
      "4. BIOMEDICAL RESEARCH INSIGHTS:\n",
      " Gene Discovery Results:\n",
      " • Signal genes in top 20: 20/20\n",
      " • Feature selection precision: 100.0%\n",
      " • Feature selection recall: 41.5%\n",
      "\n",
      " Research Cost Analysis:\n",
      " • Cost to validate all genes: $500,000\n",
      " • Cost to validate selected genes: $135,000\n",
      " • Research cost savings: $365,000\n",
      " • Efficiency gain: 73% reduction\n",
      "\n",
      "5. IMPLEMENTATION STRATEGY:\n",
      "\n",
      " Phase 1 - Employee Performance (Months 1-3):\n",
      " • Deploy performance prediction model for 25% of workforce\n",
      " • Focus on high-confidence predictions (agreement >80%)\n",
      " • A/B test interventions based on model recommendations\n",
      " • Expected outcome: 10-15% improvement in performance identification\n",
      "\n",
      " Phase 2 - Real Estate Automation (Months 2-4):\n",
      " • Implement automated property valuation for pre-screening\n",
      " • Human review for properties with low model confidence\n",
      " • Integration with existing appraisal workflows\n",
      " • Expected outcome: 50% reduction in appraisal time\n",
      "\n",
      " Phase 3 - Research Optimization (Months 3-6):\n",
      " • Deploy feature selection pipeline for new studies\n",
      " • Validate top gene candidates with wet lab experiments\n",
      " • Iterative model improvement with validation results\n",
      " • Expected outcome: 60% reduction in experimental costs\n",
      "\n",
      "6. RANDOM FOREST ADVANTAGES:\n",
      " • Handles mixed data types (numerical, categorical)\n",
      " • Robust to outliers and missing values\n",
      " • Built-in feature importance ranking\n",
      " • No need for feature scaling or preprocessing\n",
      " • Excellent performance on high-dimensional data\n",
      " • Built-in validation through OOB scoring\n",
      " • Interpretable through feature importance\n",
      "\n",
      "7. LIMITATIONS AND MITIGATION:\n",
      " • Can overfit with very noisy data\n",
      " → Use OOB scoring and cross-validation for monitoring\n",
      " • Memory intensive with large datasets\n",
      " → Consider online/incremental learning approaches\n",
      " • Less interpretable than single decision trees\n",
      " → Supplement with SHAP values for instance-level explanations\n",
      " • May struggle with linear relationships\n",
      " → Ensemble with linear models when appropriate\n",
      "\n",
      "8. MONITORING AND MAINTENANCE:\n",
      " • Monitor OOB score for model drift detection\n",
      " • Track feature importance stability over time\n",
      " • Retrain quarterly or when performance degrades >5%\n",
      " • A/B test model updates against current production\n",
      " • Regular feature engineering and selection reviews\n",
      "\n",
      "================================================================================\n",
      " RANDOM FOREST LEARNING SUMMARY:\n",
      " Mastered ensemble learning and bagging principles\n",
      " Applied Random Forest to classification and regression\n",
      " Analyzed feature importance and selection techniques\n",
      " Understood OOB validation and ensemble behavior\n",
      " Optimized hyperparameters for different problem types\n",
      " Generated comprehensive business strategies and ROI analysis\n",
      "================================================================================\n"
     ]
    }
   ],
   "source": [
    "# 5. BUSINESS INSIGHTS AND STRATEGIC RECOMMENDATIONS\n",
    "print(\" 5. BUSINESS INSIGHTS AND STRATEGIC RECOMMENDATIONS\")\n",
    "print(\"=\" * 54)\n",
    "\n",
    "# Comprehensive business analysis\n",
    "print(\" Random Forest Business Applications Analysis:\")\n",
    "\n",
    "print(f\"\\n1. MODEL PERFORMANCE SUMMARY:\")\n",
    "print(f\" • Employee Performance Classification: {class_accuracy:.1%} accuracy\")\n",
    "print(f\" • House Price Prediction: R² = {reg_r2:.3f} (${np.sqrt(reg_mse):,.0f} RMSE)\")\n",
    "print(f\" • Gene Expression Analysis: {gene_accuracy:.1%} accuracy, {gene_auc:.3f} AUC\")\n",
    "\n",
    "# Employee performance insights\n",
    "print(f\"\\n2. EMPLOYEE PERFORMANCE INSIGHTS:\")\n",
    "\n",
    "top_performance_factors = importance_df.head(5)\n",
    "print(f\" Top 5 Performance Drivers:\")\n",
    "for i, (_, row) in enumerate(top_performance_factors.iterrows(), 1):\n",
    " feature = row['Feature']\n",
    " importance = row['Importance']\n",
    " print(f\" {i}. {feature}: {importance:.3f} importance\")\n",
    "\n",
    "# Actionable recommendations based on feature importance\n",
    "print(f\"\\n HR Strategy Recommendations:\")\n",
    "top_factor = top_performance_factors.iloc[0]['Feature']\n",
    "if 'training' in top_factor.lower():\n",
    " print(f\" • Invest heavily in employee training programs\")\n",
    " print(f\" • Target 40+ training hours annually for high performers\")\n",
    "elif 'collaboration' in top_factor.lower():\n",
    " print(f\" • Implement team collaboration tools and practices\")\n",
    " print(f\" • Measure and reward collaborative behaviors\")\n",
    "elif 'innovation' in top_factor.lower():\n",
    " print(f\" • Create innovation time and recognition programs\")\n",
    " print(f\" • Encourage creative problem-solving initiatives\")\n",
    "\n",
    "# Calculate ROI of performance improvements\n",
    "total_employees = 10000\n",
    "current_high_performers = total_employees * 0.33 # Current top 33%\n",
    "target_improvement = 0.15 # 15% improvement in classification\n",
    "\n",
    "# Assuming high performers generate 30% more value\n",
    "avg_employee_value = 100000 # Annual value\n",
    "high_performer_premium = 0.30\n",
    "additional_value_per_improvement = avg_employee_value * high_performer_premium\n",
    "\n",
    "potential_new_high_performers = total_employees * target_improvement\n",
    "additional_annual_value = potential_new_high_performers * additional_value_per_improvement\n",
    "\n",
    "print(f\"\\n ROI Analysis:\")\n",
    "print(f\" • Current high performers: {current_high_performers:,.0f}\")\n",
    "print(f\" • With 15% classification improvement: +{potential_new_high_performers:,.0f} identified\")\n",
    "print(f\" • Additional annual value: ${additional_annual_value:,.0f}\")\n",
    "print(f\" • Implementation cost estimate: ${total_employees * 50:,.0f} (training/tools)\")\n",
    "print(f\" • Net ROI: {(additional_annual_value - total_employees * 50) / (total_employees * 50) * 100:.0f}%\")\n",
    "\n",
    "# Real estate insights\n",
    "print(f\"\\n3. REAL ESTATE PRICING INSIGHTS:\")\n",
    "\n",
    "top_price_factors = reg_importance_df.head(5)\n",
    "print(f\" Top 5 Price Drivers:\")\n",
    "for i, (_, row) in enumerate(top_price_factors.iterrows(), 1):\n",
    " feature = row['Feature']\n",
    " importance = row['Importance']\n",
    " print(f\" {i}. {feature}: {importance:.3f} importance\")\n",
    "\n",
    "# Property investment recommendations\n",
    "print(f\"\\n Investment Strategy Recommendations:\")\n",
    "most_important_factor = top_price_factors.iloc[0]['Feature']\n",
    "if 'size' in most_important_factor.lower():\n",
    " print(f\" • Focus on property size as primary value driver\")\n",
    " print(f\" • Target properties >2500 sq ft for premium market\")\n",
    "elif 'school' in most_important_factor.lower():\n",
    " print(f\" • Prioritize properties in high-rated school districts\")\n",
    " print(f\" • School rating >8 provides significant premium\")\n",
    "elif 'location' in most_important_factor.lower():\n",
    " print(f\" • Location proximity is crucial for valuation\")\n",
    " print(f\" • Properties within 10 miles of downtown preferred\")\n",
    "\n",
    "# Market analysis automation value\n",
    "properties_valued_monthly = 1000\n",
    "manual_appraisal_cost = 500\n",
    "automated_appraisal_cost = 50\n",
    "accuracy_threshold = 0.90 # Require 90% accuracy for automation\n",
    "\n",
    "if reg_r2 >= accuracy_threshold:\n",
    " monthly_savings = properties_valued_monthly * (manual_appraisal_cost - automated_appraisal_cost)\n",
    " print(f\"\\n Appraisal Automation ROI:\")\n",
    " print(f\" • Monthly property valuations: {properties_valued_monthly:,}\")\n",
    " print(f\" • Cost per manual appraisal: ${manual_appraisal_cost}\")\n",
    " print(f\" • Cost per automated appraisal: ${automated_appraisal_cost}\")\n",
    " print(f\" • Monthly savings: ${monthly_savings:,}\")\n",
    " print(f\" • Annual savings: ${monthly_savings * 12:,}\")\n",
    "else:\n",
    " print(f\"\\n Model needs improvement (R² = {reg_r2:.3f}) before automation deployment\")\n",
    "\n",
    "# Biomedical research insights\n",
    "print(f\"\\n4. BIOMEDICAL RESEARCH INSIGHTS:\")\n",
    "\n",
    "print(f\" Gene Discovery Results:\")\n",
    "signal_genes_in_top_20 = sum(1 for gene in gene_importance_df.head(20)['Gene']\n",
    " if int(gene.split('_')[1]) <= 65)\n",
    "print(f\" • Signal genes in top 20: {signal_genes_in_top_20}/20\")\n",
    "print(f\" • Feature selection precision: {precision:.1%}\")\n",
    "print(f\" • Feature selection recall: {recall:.1%}\")\n",
    "\n",
    "# Research cost savings\n",
    "total_genes_to_validate = 100\n",
    "cost_per_gene_validation = 5000\n",
    "selected_genes_to_validate = n_selected\n",
    "\n",
    "validation_cost_all = total_genes_to_validate * cost_per_gene_validation\n",
    "validation_cost_selected = selected_genes_to_validate * cost_per_gene_validation\n",
    "cost_savings = validation_cost_all - validation_cost_selected\n",
    "\n",
    "print(f\"\\n Research Cost Analysis:\")\n",
    "print(f\" • Cost to validate all genes: ${validation_cost_all:,}\")\n",
    "print(f\" • Cost to validate selected genes: ${validation_cost_selected:,}\")\n",
    "print(f\" • Research cost savings: ${cost_savings:,}\")\n",
    "print(f\" • Efficiency gain: {(1 - selected_genes_to_validate/total_genes_to_validate)*100:.0f}% reduction\")\n",
    "\n",
    "# Implementation strategy\n",
    "print(f\"\\n5. IMPLEMENTATION STRATEGY:\")\n",
    "\n",
    "print(f\"\\n Phase 1 - Employee Performance (Months 1-3):\")\n",
    "print(f\" • Deploy performance prediction model for 25% of workforce\")\n",
    "print(f\" • Focus on high-confidence predictions (agreement >80%)\")\n",
    "print(f\" • A/B test interventions based on model recommendations\")\n",
    "print(f\" • Expected outcome: 10-15% improvement in performance identification\")\n",
    "\n",
    "print(f\"\\n Phase 2 - Real Estate Automation (Months 2-4):\")\n",
    "print(f\" • Implement automated property valuation for pre-screening\")\n",
    "print(f\" • Human review for properties with low model confidence\")\n",
    "print(f\" • Integration with existing appraisal workflows\")\n",
    "print(f\" • Expected outcome: 50% reduction in appraisal time\")\n",
    "\n",
    "print(f\"\\n Phase 3 - Research Optimization (Months 3-6):\")\n",
    "print(f\" • Deploy feature selection pipeline for new studies\")\n",
    "print(f\" • Validate top gene candidates with wet lab experiments\")\n",
    "print(f\" • Iterative model improvement with validation results\")\n",
    "print(f\" • Expected outcome: 60% reduction in experimental costs\")\n",
    "\n",
    "print(f\"\\n6. RANDOM FOREST ADVANTAGES:\")\n",
    "print(f\" • Handles mixed data types (numerical, categorical)\")\n",
    "print(f\" • Robust to outliers and missing values\")\n",
    "print(f\" • Built-in feature importance ranking\")\n",
    "print(f\" • No need for feature scaling or preprocessing\")\n",
    "print(f\" • Excellent performance on high-dimensional data\")\n",
    "print(f\" • Built-in validation through OOB scoring\")\n",
    "print(f\" • Interpretable through feature importance\")\n",
    "\n",
    "print(f\"\\n7. LIMITATIONS AND MITIGATION:\")\n",
    "print(f\" • Can overfit with very noisy data\")\n",
    "print(f\" → Use OOB scoring and cross-validation for monitoring\")\n",
    "print(f\" • Memory intensive with large datasets\")\n",
    "print(f\" → Consider online/incremental learning approaches\")\n",
    "print(f\" • Less interpretable than single decision trees\")\n",
    "print(f\" → Supplement with SHAP values for instance-level explanations\")\n",
    "print(f\" • May struggle with linear relationships\")\n",
    "print(f\" → Ensemble with linear models when appropriate\")\n",
    "\n",
    "print(f\"\\n8. MONITORING AND MAINTENANCE:\")\n",
    "print(f\" • Monitor OOB score for model drift detection\")\n",
    "print(f\" • Track feature importance stability over time\")\n",
    "print(f\" • Retrain quarterly or when performance degrades >5%\")\n",
    "print(f\" • A/B test model updates against current production\")\n",
    "print(f\" • Regular feature engineering and selection reviews\")\n",
    "\n",
    "print(f\"\\n\" + \"=\"*80)\n",
    "print(f\" RANDOM FOREST LEARNING SUMMARY:\")\n",
    "print(f\" Mastered ensemble learning and bagging principles\")\n",
    "print(f\" Applied Random Forest to classification and regression\")\n",
    "print(f\" Analyzed feature importance and selection techniques\")\n",
    "print(f\" Understood OOB validation and ensemble behavior\")\n",
    "print(f\" Optimized hyperparameters for different problem types\")\n",
    "print(f\" Generated comprehensive business strategies and ROI analysis\")\n",
    "print(f\"=\"*80)"
   ]
  }
 ],
 "metadata": {
  "kernelspec": {
   "display_name": ".venv",
   "language": "python",
   "name": "python3"
  },
  "language_info": {
   "codemirror_mode": {
    "name": "ipython",
    "version": 3
   },
   "file_extension": ".py",
   "mimetype": "text/x-python",
   "name": "python",
   "nbconvert_exporter": "python",
   "pygments_lexer": "ipython3",
   "version": "3.13.7"
  }
 },
 "nbformat": 4,
 "nbformat_minor": 5
}
