{
 "cells": [
  {
   "cell_type": "markdown",
   "id": "1f6b4a20",
   "metadata": {},
   "source": [
    "# Example 3: Time Series Analysis and Forecasting\n",
    "\n",
    "---\n",
    "\n",
    "**Author:** Brandon Deloatch\n",
    "**Affiliation:** Quipu Research Labs, LLC\n",
    "**Date:** 2025-10-02\n",
    "**Version:** v1.0\n",
    "**License:** MIT\n",
    "**Example Type:** Temporal Analytics Tutorial\n",
    "**Based On:** Tier3_MovingAverages.ipynb\n",
    "**Estimated Time:** 25 minutes\n",
    "\n",
    "---\n",
    "\n",
    "> **Citation:**\n",
    "> Brandon Deloatch, \"Example 3: Time Series Analysis and Forecasting,\" Quipu Research Labs, LLC, v1.0, 2025-10-02.\n",
    "\n",
    "---\n",
    "\n",
    "*This example notebook is provided \"as-is\" for educational and research purposes. Users assume full responsibility for any results or applications derived from it.*\n",
    "\n",
    "---\n",
    "\n",
    "## Coffee Sales Forecasting with Moving Averages\n",
    "\n",
    "**Learning Objectives:**\n",
    "- Master time series data preparation and analysis\n",
    "- Apply moving average forecasting techniques\n",
    "- Analyze temporal patterns and seasonality\n",
    "- Perform stationarity testing and decomposition\n",
    "- Generate business forecasts and recommendations\n",
    "\n",
    "**Cross-References:**\n",
    "- **Prerequisite:** `quick_start_data_analysis.ipynb` (data fundamentals)\n",
    "- **Foundation:** `Tier3_MovingAverages.ipynb` (moving average theory)\n",
    "- **Alternatives:** `Tier3_ARIMA.ipynb`, `Tier3_ExponentialSmoothing.ipynb`\n",
    "- **Advanced:** `Tier3_FourierAnalysis.ipynb`, `Tier3_WaveletAnalysis.ipynb`\n",
    "\n",
    "**Key Applications:**\n",
    "- Sales and revenue forecasting\n",
    "- Inventory planning and optimization\n",
    "- Demand prediction and capacity planning\n",
    "- Financial time series analysis"
   ]
  },
  {
   "cell_type": "code",
   "execution_count": 7,
   "id": "c7097413",
   "metadata": {},
   "outputs": [
    {
     "name": "stdout",
     "output_type": "stream",
     "text": [
      "Example 3: Time Series Analysis and Forecasting\n",
      "==================================================\n",
      "CROSS-REFERENCES:\n",
      "• Prerequisites: quick_start_data_analysis.ipynb (data fundamentals)\n",
      "• Foundation: Tier3_MovingAverages.ipynb (moving average theory)\n",
      "• Alternatives: Tier3_ARIMA.ipynb, Tier3_ExponentialSmoothing.ipynb\n",
      "• Advanced: Tier3_FourierAnalysis.ipynb, Tier3_WaveletAnalysis.ipynb\n",
      "• Full Guide: See notebooks/tier3_timeseries/ for complete forecasting suite\n",
      " Time series libraries loaded - Ready for sales forecasting!\n"
     ]
    }
   ],
   "source": [
    "\"\"\"\n",
    "Example 3: Time Series Analysis and Forecasting.\n",
    "\n",
    "This module demonstrates sales forecasting using moving averages and time series\n",
    "analysis on real coffee shop transaction data. Covers trend analysis, seasonality,\n",
    "and business forecasting.\n",
    "\n",
    "Author: Brandon Deloatch\n",
    "Date: 2025-10-02\n",
    "\"\"\"\n",
    "\n",
    "# Example 3: Time Series Analysis and Forecasting\n",
    "# ===============================================\n",
    "# Professional sales forecasting with real coffee shop transaction data\n",
    "\n",
    "import warnings\n",
    "from datetime import timedelta\n",
    "\n",
    "import pandas as pd\n",
    "import matplotlib.pyplot as plt\n",
    "import seaborn as sns\n",
    "import plotly.graph_objects as go\n",
    "from plotly.subplots import make_subplots\n",
    "\n",
    "# Time series libraries (imported for comprehensive analysis)\n",
    "from sklearn.metrics import mean_absolute_error, mean_squared_error\n",
    "from scipy import signal\n",
    "from statsmodels.tsa.seasonal import seasonal_decompose\n",
    "from statsmodels.tsa.stattools import adfuller\n",
    "\n",
    "warnings.filterwarnings('ignore')\n",
    "\n",
    "# Set style for better visualizations\n",
    "plt.style.use('seaborn-v0_8')\n",
    "sns.set_palette(\"husl\")\n",
    "\n",
    "print(\"Example 3: Time Series Analysis and Forecasting\")\n",
    "print(\"=\" * 50)\n",
    "print(\"CROSS-REFERENCES:\")\n",
    "print(\"• Prerequisites: quick_start_data_analysis.ipynb (data fundamentals)\")\n",
    "print(\"• Foundation: Tier3_MovingAverages.ipynb (moving average theory)\")\n",
    "print(\"• Alternatives: Tier3_ARIMA.ipynb, Tier3_ExponentialSmoothing.ipynb\")\n",
    "print(\"• Advanced: Tier3_FourierAnalysis.ipynb, Tier3_WaveletAnalysis.ipynb\")\n",
    "print(\"• Full Guide: See notebooks/tier3_timeseries/ for complete forecasting suite\")\n",
    "print(\" Time series libraries loaded - Ready for sales forecasting!\")"
   ]
  },
  {
   "cell_type": "markdown",
   "id": "f5ab47b9",
   "metadata": {},
   "source": [
    "## 1. Load Coffee Sales Data for Time Series Analysis\n",
    "\n",
    "Load and prepare the Coffee Sales dataset for time series forecasting:"
   ]
  },
  {
   "cell_type": "code",
   "execution_count": 8,
   "id": "096f05b9",
   "metadata": {},
   "outputs": [
    {
     "name": "stdout",
     "output_type": "stream",
     "text": [
      "Loading Coffee Sales dataset with 3547 transactions\n",
      "Time series data prepared successfully!\n",
      "Date range: 2024-03-01 to 2025-03-23\n",
      "Total days: 381 (387 calendar days)\n",
      "Average daily sales: $295\n",
      "Sales range: $23 - $837\n",
      "Average transactions per day: 9.3\n",
      "Weekend vs Weekday: $258 vs $309\n",
      "\n",
      "Sample data:\n"
     ]
    },
    {
     "data": {
      "text/html": [
       "<div>\n",
       "<style scoped>\n",
       "    .dataframe tbody tr th:only-of-type {\n",
       "        vertical-align: middle;\n",
       "    }\n",
       "\n",
       "    .dataframe tbody tr th {\n",
       "        vertical-align: top;\n",
       "    }\n",
       "\n",
       "    .dataframe thead th {\n",
       "        text-align: right;\n",
       "    }\n",
       "</style>\n",
       "<table border=\"1\" class=\"dataframe\">\n",
       "  <thead>\n",
       "    <tr style=\"text-align: right;\">\n",
       "      <th></th>\n",
       "      <th>date</th>\n",
       "      <th>sales</th>\n",
       "      <th>transaction_count</th>\n",
       "      <th>avg_hour</th>\n",
       "      <th>day_of_week</th>\n",
       "      <th>month</th>\n",
       "      <th>year</th>\n",
       "      <th>day_of_year</th>\n",
       "      <th>weekday</th>\n",
       "      <th>is_weekend</th>\n",
       "    </tr>\n",
       "  </thead>\n",
       "  <tbody>\n",
       "    <tr>\n",
       "      <th>0</th>\n",
       "      <td>2024-03-01</td>\n",
       "      <td>396.3</td>\n",
       "      <td>11</td>\n",
       "      <td>15.09</td>\n",
       "      <td>Friday</td>\n",
       "      <td>3</td>\n",
       "      <td>2024</td>\n",
       "      <td>61</td>\n",
       "      <td>4</td>\n",
       "      <td>False</td>\n",
       "    </tr>\n",
       "    <tr>\n",
       "      <th>1</th>\n",
       "      <td>2024-03-02</td>\n",
       "      <td>188.1</td>\n",
       "      <td>6</td>\n",
       "      <td>13.00</td>\n",
       "      <td>Saturday</td>\n",
       "      <td>3</td>\n",
       "      <td>2024</td>\n",
       "      <td>62</td>\n",
       "      <td>5</td>\n",
       "      <td>True</td>\n",
       "    </tr>\n",
       "    <tr>\n",
       "      <th>2</th>\n",
       "      <td>2024-03-03</td>\n",
       "      <td>309.1</td>\n",
       "      <td>9</td>\n",
       "      <td>14.89</td>\n",
       "      <td>Sunday</td>\n",
       "      <td>3</td>\n",
       "      <td>2024</td>\n",
       "      <td>63</td>\n",
       "      <td>6</td>\n",
       "      <td>True</td>\n",
       "    </tr>\n",
       "    <tr>\n",
       "      <th>3</th>\n",
       "      <td>2024-03-04</td>\n",
       "      <td>135.2</td>\n",
       "      <td>4</td>\n",
       "      <td>11.25</td>\n",
       "      <td>Monday</td>\n",
       "      <td>3</td>\n",
       "      <td>2024</td>\n",
       "      <td>64</td>\n",
       "      <td>0</td>\n",
       "      <td>False</td>\n",
       "    </tr>\n",
       "    <tr>\n",
       "      <th>4</th>\n",
       "      <td>2024-03-05</td>\n",
       "      <td>338.5</td>\n",
       "      <td>9</td>\n",
       "      <td>15.89</td>\n",
       "      <td>Tuesday</td>\n",
       "      <td>3</td>\n",
       "      <td>2024</td>\n",
       "      <td>65</td>\n",
       "      <td>1</td>\n",
       "      <td>False</td>\n",
       "    </tr>\n",
       "    <tr>\n",
       "      <th>5</th>\n",
       "      <td>2024-03-06</td>\n",
       "      <td>135.2</td>\n",
       "      <td>4</td>\n",
       "      <td>13.50</td>\n",
       "      <td>Wednesday</td>\n",
       "      <td>3</td>\n",
       "      <td>2024</td>\n",
       "      <td>66</td>\n",
       "      <td>2</td>\n",
       "      <td>False</td>\n",
       "    </tr>\n",
       "    <tr>\n",
       "      <th>6</th>\n",
       "      <td>2024-03-07</td>\n",
       "      <td>140.1</td>\n",
       "      <td>4</td>\n",
       "      <td>12.75</td>\n",
       "      <td>Thursday</td>\n",
       "      <td>3</td>\n",
       "      <td>2024</td>\n",
       "      <td>67</td>\n",
       "      <td>3</td>\n",
       "      <td>False</td>\n",
       "    </tr>\n",
       "    <tr>\n",
       "      <th>7</th>\n",
       "      <td>2024-03-08</td>\n",
       "      <td>265.5</td>\n",
       "      <td>8</td>\n",
       "      <td>14.12</td>\n",
       "      <td>Friday</td>\n",
       "      <td>3</td>\n",
       "      <td>2024</td>\n",
       "      <td>68</td>\n",
       "      <td>4</td>\n",
       "      <td>False</td>\n",
       "    </tr>\n",
       "    <tr>\n",
       "      <th>8</th>\n",
       "      <td>2024-03-09</td>\n",
       "      <td>439.4</td>\n",
       "      <td>13</td>\n",
       "      <td>13.69</td>\n",
       "      <td>Saturday</td>\n",
       "      <td>3</td>\n",
       "      <td>2024</td>\n",
       "      <td>69</td>\n",
       "      <td>5</td>\n",
       "      <td>True</td>\n",
       "    </tr>\n",
       "    <tr>\n",
       "      <th>9</th>\n",
       "      <td>2024-03-10</td>\n",
       "      <td>91.6</td>\n",
       "      <td>3</td>\n",
       "      <td>16.33</td>\n",
       "      <td>Sunday</td>\n",
       "      <td>3</td>\n",
       "      <td>2024</td>\n",
       "      <td>70</td>\n",
       "      <td>6</td>\n",
       "      <td>True</td>\n",
       "    </tr>\n",
       "  </tbody>\n",
       "</table>\n",
       "</div>"
      ],
      "text/plain": [
       "        date  sales  transaction_count  avg_hour day_of_week  month  year  \\\n",
       "0 2024-03-01  396.3                 11     15.09      Friday      3  2024   \n",
       "1 2024-03-02  188.1                  6     13.00    Saturday      3  2024   \n",
       "2 2024-03-03  309.1                  9     14.89      Sunday      3  2024   \n",
       "3 2024-03-04  135.2                  4     11.25      Monday      3  2024   \n",
       "4 2024-03-05  338.5                  9     15.89     Tuesday      3  2024   \n",
       "5 2024-03-06  135.2                  4     13.50   Wednesday      3  2024   \n",
       "6 2024-03-07  140.1                  4     12.75    Thursday      3  2024   \n",
       "7 2024-03-08  265.5                  8     14.12      Friday      3  2024   \n",
       "8 2024-03-09  439.4                 13     13.69    Saturday      3  2024   \n",
       "9 2024-03-10   91.6                  3     16.33      Sunday      3  2024   \n",
       "\n",
       "   day_of_year  weekday  is_weekend  \n",
       "0           61        4       False  \n",
       "1           62        5        True  \n",
       "2           63        6        True  \n",
       "3           64        0       False  \n",
       "4           65        1       False  \n",
       "5           66        2       False  \n",
       "6           67        3       False  \n",
       "7           68        4       False  \n",
       "8           69        5        True  \n",
       "9           70        6        True  "
      ]
     },
     "execution_count": 8,
     "metadata": {},
     "output_type": "execute_result"
    }
   ],
   "source": [
    "# Load the Coffee Sales dataset (tab-separated)\n",
    "df_raw = pd.read_csv('../data/Coffee_sales.csv', sep='\\t')\n",
    "\n",
    "print(f\"Loading Coffee Sales dataset with {len(df_raw)} transactions\")\n",
    "\n",
    "# Data preprocessing for time series analysis\n",
    "df_raw['Date'] = pd.to_datetime(df_raw['Date'])\n",
    "df_raw['money'] = pd.to_numeric(df_raw['money'], errors='coerce')\n",
    "df_raw = df_raw.dropna(subset=['money'])\n",
    "\n",
    "# Create time-based features\n",
    "datetime_str = (df_raw['Date'].astype(str) + ' ' +\n",
    "                df_raw['hour_of_day'].astype(str) + ':00:00')\n",
    "df_raw['datetime'] = pd.to_datetime(datetime_str)\n",
    "\n",
    "# Aggregate daily sales for time series analysis\n",
    "df = df_raw.groupby('Date').agg({\n",
    "    'money': 'sum',  # Total daily sales\n",
    "    'coffee_name': 'count',  # Number of transactions\n",
    "    'hour_of_day': 'mean'  # Average hour of transactions\n",
    "}).round(2)\n",
    "\n",
    "df.columns = ['sales', 'transaction_count', 'avg_hour']\n",
    "df = df.reset_index()\n",
    "df.rename(columns={'Date': 'date'}, inplace=True)\n",
    "\n",
    "# Add time-based features for analysis\n",
    "df['day_of_week'] = df['date'].dt.day_name()\n",
    "df['month'] = df['date'].dt.month\n",
    "df['year'] = df['date'].dt.year\n",
    "df['day_of_year'] = df['date'].dt.dayofyear\n",
    "df['weekday'] = df['date'].dt.weekday\n",
    "df['is_weekend'] = df['weekday'].isin([5, 6])\n",
    "\n",
    "# Sort by date\n",
    "df = df.sort_values('date').reset_index(drop=True)\n",
    "\n",
    "# Calculate some basic time series statistics\n",
    "date_range = (df['date'].max() - df['date'].min()).days\n",
    "daily_avg = df['sales'].mean()\n",
    "weekend_avg = df[df['is_weekend']]['sales'].mean()\n",
    "weekday_avg = df[~df['is_weekend']]['sales'].mean()\n",
    "\n",
    "print(\"Time series data prepared successfully!\")\n",
    "print(f\"Date range: {df['date'].min().date()} to {df['date'].max().date()}\")\n",
    "print(f\"Total days: {len(df)} ({date_range} calendar days)\")\n",
    "print(f\"Average daily sales: ${daily_avg:,.0f}\")\n",
    "print(f\"Sales range: ${df['sales'].min():,.0f} - ${df['sales'].max():,.0f}\")\n",
    "print(f\"Average transactions per day: {df['transaction_count'].mean():.1f}\")\n",
    "print(f\"Weekend vs Weekday: ${weekend_avg:.0f} vs ${weekday_avg:.0f}\")\n",
    "\n",
    "# Show sample data\n",
    "print(\"\\nSample data:\")\n",
    "df.head(10)"
   ]
  },
  {
   "cell_type": "code",
   "execution_count": 9,
   "id": "bc4dce07",
   "metadata": {},
   "outputs": [
    {
     "name": "stdout",
     "output_type": "stream",
     "text": [
      "COFFEE SALES TIME SERIES ANALYSIS:\n",
      "==================================================\n"
     ]
    },
    {
     "data": {
      "application/vnd.plotly.v1+json": {
       "config": {
        "plotlyServerURL": "https://plot.ly"
       },
       "data": [
        {
         "line": {
          "color": "blue",
          "width": 1
         },
         "mode": "lines",
         "name": "Daily Sales",
         "type": "scatter",
         "x": [
          "2024-03-01T00:00:00.000000000",
          "2024-03-02T00:00:00.000000000",
          "2024-03-03T00:00:00.000000000",
          "2024-03-04T00:00:00.000000000",
          "2024-03-05T00:00:00.000000000",
          "2024-03-06T00:00:00.000000000",
          "2024-03-07T00:00:00.000000000",
          "2024-03-08T00:00:00.000000000",
          "2024-03-09T00:00:00.000000000",
          "2024-03-10T00:00:00.000000000",
          "2024-03-11T00:00:00.000000000",
          "2024-03-12T00:00:00.000000000",
          "2024-03-13T00:00:00.000000000",
          "2024-03-14T00:00:00.000000000",
          "2024-03-15T00:00:00.000000000",
          "2024-03-16T00:00:00.000000000",
          "2024-03-17T00:00:00.000000000",
          "2024-03-18T00:00:00.000000000",
          "2024-03-19T00:00:00.000000000",
          "2024-03-20T00:00:00.000000000",
          "2024-03-21T00:00:00.000000000",
          "2024-03-22T00:00:00.000000000",
          "2024-03-23T00:00:00.000000000",
          "2024-03-24T00:00:00.000000000",
          "2024-03-25T00:00:00.000000000",
          "2024-03-26T00:00:00.000000000",
          "2024-03-27T00:00:00.000000000",
          "2024-03-28T00:00:00.000000000",
          "2024-03-29T00:00:00.000000000",
          "2024-03-30T00:00:00.000000000",
          "2024-03-31T00:00:00.000000000",
          "2024-04-01T00:00:00.000000000",
          "2024-04-02T00:00:00.000000000",
          "2024-04-03T00:00:00.000000000",
          "2024-04-04T00:00:00.000000000",
          "2024-04-05T00:00:00.000000000",
          "2024-04-06T00:00:00.000000000",
          "2024-04-07T00:00:00.000000000",
          "2024-04-08T00:00:00.000000000",
          "2024-04-09T00:00:00.000000000",
          "2024-04-10T00:00:00.000000000",
          "2024-04-11T00:00:00.000000000",
          "2024-04-12T00:00:00.000000000",
          "2024-04-13T00:00:00.000000000",
          "2024-04-14T00:00:00.000000000",
          "2024-04-15T00:00:00.000000000",
          "2024-04-16T00:00:00.000000000",
          "2024-04-17T00:00:00.000000000",
          "2024-04-18T00:00:00.000000000",
          "2024-04-19T00:00:00.000000000",
          "2024-04-20T00:00:00.000000000",
          "2024-04-21T00:00:00.000000000",
          "2024-04-22T00:00:00.000000000",
          "2024-04-23T00:00:00.000000000",
          "2024-04-24T00:00:00.000000000",
          "2024-04-25T00:00:00.000000000",
          "2024-04-26T00:00:00.000000000",
          "2024-04-27T00:00:00.000000000",
          "2024-04-28T00:00:00.000000000",
          "2024-04-29T00:00:00.000000000",
          "2024-04-30T00:00:00.000000000",
          "2024-05-02T00:00:00.000000000",
          "2024-05-03T00:00:00.000000000",
          "2024-05-06T00:00:00.000000000",
          "2024-05-07T00:00:00.000000000",
          "2024-05-08T00:00:00.000000000",
          "2024-05-09T00:00:00.000000000",
          "2024-05-10T00:00:00.000000000",
          "2024-05-11T00:00:00.000000000",
          "2024-05-12T00:00:00.000000000",
          "2024-05-13T00:00:00.000000000",
          "2024-05-14T00:00:00.000000000",
          "2024-05-15T00:00:00.000000000",
          "2024-05-16T00:00:00.000000000",
          "2024-05-17T00:00:00.000000000",
          "2024-05-18T00:00:00.000000000",
          "2024-05-19T00:00:00.000000000",
          "2024-05-20T00:00:00.000000000",
          "2024-05-21T00:00:00.000000000",
          "2024-05-22T00:00:00.000000000",
          "2024-05-23T00:00:00.000000000",
          "2024-05-24T00:00:00.000000000",
          "2024-05-25T00:00:00.000000000",
          "2024-05-26T00:00:00.000000000",
          "2024-05-27T00:00:00.000000000",
          "2024-05-28T00:00:00.000000000",
          "2024-05-29T00:00:00.000000000",
          "2024-05-30T00:00:00.000000000",
          "2024-05-31T00:00:00.000000000",
          "2024-06-01T00:00:00.000000000",
          "2024-06-02T00:00:00.000000000",
          "2024-06-03T00:00:00.000000000",
          "2024-06-04T00:00:00.000000000",
          "2024-06-05T00:00:00.000000000",
          "2024-06-06T00:00:00.000000000",
          "2024-06-07T00:00:00.000000000",
          "2024-06-08T00:00:00.000000000",
          "2024-06-09T00:00:00.000000000",
          "2024-06-10T00:00:00.000000000",
          "2024-06-11T00:00:00.000000000",
          "2024-06-12T00:00:00.000000000",
          "2024-06-13T00:00:00.000000000",
          "2024-06-14T00:00:00.000000000",
          "2024-06-15T00:00:00.000000000",
          "2024-06-16T00:00:00.000000000",
          "2024-06-17T00:00:00.000000000",
          "2024-06-18T00:00:00.000000000",
          "2024-06-19T00:00:00.000000000",
          "2024-06-20T00:00:00.000000000",
          "2024-06-21T00:00:00.000000000",
          "2024-06-22T00:00:00.000000000",
          "2024-06-23T00:00:00.000000000",
          "2024-06-24T00:00:00.000000000",
          "2024-06-25T00:00:00.000000000",
          "2024-06-26T00:00:00.000000000",
          "2024-06-27T00:00:00.000000000",
          "2024-06-28T00:00:00.000000000",
          "2024-06-29T00:00:00.000000000",
          "2024-06-30T00:00:00.000000000",
          "2024-07-01T00:00:00.000000000",
          "2024-07-02T00:00:00.000000000",
          "2024-07-03T00:00:00.000000000",
          "2024-07-04T00:00:00.000000000",
          "2024-07-05T00:00:00.000000000",
          "2024-07-06T00:00:00.000000000",
          "2024-07-07T00:00:00.000000000",
          "2024-07-08T00:00:00.000000000",
          "2024-07-09T00:00:00.000000000",
          "2024-07-10T00:00:00.000000000",
          "2024-07-11T00:00:00.000000000",
          "2024-07-12T00:00:00.000000000",
          "2024-07-13T00:00:00.000000000",
          "2024-07-14T00:00:00.000000000",
          "2024-07-15T00:00:00.000000000",
          "2024-07-16T00:00:00.000000000",
          "2024-07-17T00:00:00.000000000",
          "2024-07-18T00:00:00.000000000",
          "2024-07-19T00:00:00.000000000",
          "2024-07-20T00:00:00.000000000",
          "2024-07-21T00:00:00.000000000",
          "2024-07-22T00:00:00.000000000",
          "2024-07-23T00:00:00.000000000",
          "2024-07-24T00:00:00.000000000",
          "2024-07-25T00:00:00.000000000",
          "2024-07-26T00:00:00.000000000",
          "2024-07-27T00:00:00.000000000",
          "2024-07-28T00:00:00.000000000",
          "2024-07-29T00:00:00.000000000",
          "2024-07-30T00:00:00.000000000",
          "2024-07-31T00:00:00.000000000",
          "2024-08-01T00:00:00.000000000",
          "2024-08-02T00:00:00.000000000",
          "2024-08-03T00:00:00.000000000",
          "2024-08-04T00:00:00.000000000",
          "2024-08-05T00:00:00.000000000",
          "2024-08-06T00:00:00.000000000",
          "2024-08-07T00:00:00.000000000",
          "2024-08-08T00:00:00.000000000",
          "2024-08-09T00:00:00.000000000",
          "2024-08-10T00:00:00.000000000",
          "2024-08-11T00:00:00.000000000",
          "2024-08-12T00:00:00.000000000",
          "2024-08-13T00:00:00.000000000",
          "2024-08-14T00:00:00.000000000",
          "2024-08-15T00:00:00.000000000",
          "2024-08-16T00:00:00.000000000",
          "2024-08-17T00:00:00.000000000",
          "2024-08-18T00:00:00.000000000",
          "2024-08-19T00:00:00.000000000",
          "2024-08-20T00:00:00.000000000",
          "2024-08-21T00:00:00.000000000",
          "2024-08-22T00:00:00.000000000",
          "2024-08-23T00:00:00.000000000",
          "2024-08-24T00:00:00.000000000",
          "2024-08-25T00:00:00.000000000",
          "2024-08-26T00:00:00.000000000",
          "2024-08-27T00:00:00.000000000",
          "2024-08-28T00:00:00.000000000",
          "2024-08-29T00:00:00.000000000",
          "2024-08-30T00:00:00.000000000",
          "2024-08-31T00:00:00.000000000",
          "2024-09-01T00:00:00.000000000",
          "2024-09-02T00:00:00.000000000",
          "2024-09-03T00:00:00.000000000",
          "2024-09-04T00:00:00.000000000",
          "2024-09-05T00:00:00.000000000",
          "2024-09-06T00:00:00.000000000",
          "2024-09-07T00:00:00.000000000",
          "2024-09-08T00:00:00.000000000",
          "2024-09-09T00:00:00.000000000",
          "2024-09-10T00:00:00.000000000",
          "2024-09-11T00:00:00.000000000",
          "2024-09-12T00:00:00.000000000",
          "2024-09-13T00:00:00.000000000",
          "2024-09-14T00:00:00.000000000",
          "2024-09-15T00:00:00.000000000",
          "2024-09-16T00:00:00.000000000",
          "2024-09-17T00:00:00.000000000",
          "2024-09-18T00:00:00.000000000",
          "2024-09-19T00:00:00.000000000",
          "2024-09-20T00:00:00.000000000",
          "2024-09-21T00:00:00.000000000",
          "2024-09-22T00:00:00.000000000",
          "2024-09-23T00:00:00.000000000",
          "2024-09-24T00:00:00.000000000",
          "2024-09-25T00:00:00.000000000",
          "2024-09-26T00:00:00.000000000",
          "2024-09-27T00:00:00.000000000",
          "2024-09-28T00:00:00.000000000",
          "2024-09-29T00:00:00.000000000",
          "2024-09-30T00:00:00.000000000",
          "2024-10-01T00:00:00.000000000",
          "2024-10-02T00:00:00.000000000",
          "2024-10-03T00:00:00.000000000",
          "2024-10-04T00:00:00.000000000",
          "2024-10-05T00:00:00.000000000",
          "2024-10-06T00:00:00.000000000",
          "2024-10-07T00:00:00.000000000",
          "2024-10-08T00:00:00.000000000",
          "2024-10-09T00:00:00.000000000",
          "2024-10-10T00:00:00.000000000",
          "2024-10-11T00:00:00.000000000",
          "2024-10-12T00:00:00.000000000",
          "2024-10-13T00:00:00.000000000",
          "2024-10-14T00:00:00.000000000",
          "2024-10-15T00:00:00.000000000",
          "2024-10-16T00:00:00.000000000",
          "2024-10-17T00:00:00.000000000",
          "2024-10-18T00:00:00.000000000",
          "2024-10-19T00:00:00.000000000",
          "2024-10-20T00:00:00.000000000",
          "2024-10-21T00:00:00.000000000",
          "2024-10-22T00:00:00.000000000",
          "2024-10-23T00:00:00.000000000",
          "2024-10-24T00:00:00.000000000",
          "2024-10-25T00:00:00.000000000",
          "2024-10-26T00:00:00.000000000",
          "2024-10-27T00:00:00.000000000",
          "2024-10-28T00:00:00.000000000",
          "2024-10-29T00:00:00.000000000",
          "2024-10-30T00:00:00.000000000",
          "2024-10-31T00:00:00.000000000",
          "2024-11-01T00:00:00.000000000",
          "2024-11-02T00:00:00.000000000",
          "2024-11-03T00:00:00.000000000",
          "2024-11-04T00:00:00.000000000",
          "2024-11-05T00:00:00.000000000",
          "2024-11-06T00:00:00.000000000",
          "2024-11-07T00:00:00.000000000",
          "2024-11-08T00:00:00.000000000",
          "2024-11-09T00:00:00.000000000",
          "2024-11-10T00:00:00.000000000",
          "2024-11-11T00:00:00.000000000",
          "2024-11-12T00:00:00.000000000",
          "2024-11-13T00:00:00.000000000",
          "2024-11-14T00:00:00.000000000",
          "2024-11-15T00:00:00.000000000",
          "2024-11-16T00:00:00.000000000",
          "2024-11-17T00:00:00.000000000",
          "2024-11-18T00:00:00.000000000",
          "2024-11-19T00:00:00.000000000",
          "2024-11-20T00:00:00.000000000",
          "2024-11-21T00:00:00.000000000",
          "2024-11-22T00:00:00.000000000",
          "2024-11-23T00:00:00.000000000",
          "2024-11-24T00:00:00.000000000",
          "2024-11-25T00:00:00.000000000",
          "2024-11-26T00:00:00.000000000",
          "2024-11-28T00:00:00.000000000",
          "2024-11-29T00:00:00.000000000",
          "2024-11-30T00:00:00.000000000",
          "2024-12-01T00:00:00.000000000",
          "2024-12-02T00:00:00.000000000",
          "2024-12-03T00:00:00.000000000",
          "2024-12-04T00:00:00.000000000",
          "2024-12-05T00:00:00.000000000",
          "2024-12-06T00:00:00.000000000",
          "2024-12-07T00:00:00.000000000",
          "2024-12-08T00:00:00.000000000",
          "2024-12-09T00:00:00.000000000",
          "2024-12-10T00:00:00.000000000",
          "2024-12-11T00:00:00.000000000",
          "2024-12-12T00:00:00.000000000",
          "2024-12-13T00:00:00.000000000",
          "2024-12-14T00:00:00.000000000",
          "2024-12-15T00:00:00.000000000",
          "2024-12-16T00:00:00.000000000",
          "2024-12-17T00:00:00.000000000",
          "2024-12-18T00:00:00.000000000",
          "2024-12-19T00:00:00.000000000",
          "2024-12-20T00:00:00.000000000",
          "2024-12-21T00:00:00.000000000",
          "2024-12-22T00:00:00.000000000",
          "2024-12-23T00:00:00.000000000",
          "2024-12-24T00:00:00.000000000",
          "2024-12-25T00:00:00.000000000",
          "2024-12-26T00:00:00.000000000",
          "2024-12-27T00:00:00.000000000",
          "2024-12-28T00:00:00.000000000",
          "2024-12-29T00:00:00.000000000",
          "2024-12-30T00:00:00.000000000",
          "2024-12-31T00:00:00.000000000",
          "2025-01-02T00:00:00.000000000",
          "2025-01-03T00:00:00.000000000",
          "2025-01-04T00:00:00.000000000",
          "2025-01-05T00:00:00.000000000",
          "2025-01-06T00:00:00.000000000",
          "2025-01-07T00:00:00.000000000",
          "2025-01-08T00:00:00.000000000",
          "2025-01-09T00:00:00.000000000",
          "2025-01-10T00:00:00.000000000",
          "2025-01-11T00:00:00.000000000",
          "2025-01-12T00:00:00.000000000",
          "2025-01-13T00:00:00.000000000",
          "2025-01-14T00:00:00.000000000",
          "2025-01-15T00:00:00.000000000",
          "2025-01-16T00:00:00.000000000",
          "2025-01-17T00:00:00.000000000",
          "2025-01-18T00:00:00.000000000",
          "2025-01-20T00:00:00.000000000",
          "2025-01-21T00:00:00.000000000",
          "2025-01-22T00:00:00.000000000",
          "2025-01-24T00:00:00.000000000",
          "2025-01-25T00:00:00.000000000",
          "2025-01-26T00:00:00.000000000",
          "2025-01-27T00:00:00.000000000",
          "2025-01-28T00:00:00.000000000",
          "2025-01-29T00:00:00.000000000",
          "2025-01-30T00:00:00.000000000",
          "2025-01-31T00:00:00.000000000",
          "2025-02-01T00:00:00.000000000",
          "2025-02-02T00:00:00.000000000",
          "2025-02-03T00:00:00.000000000",
          "2025-02-04T00:00:00.000000000",
          "2025-02-05T00:00:00.000000000",
          "2025-02-06T00:00:00.000000000",
          "2025-02-07T00:00:00.000000000",
          "2025-02-08T00:00:00.000000000",
          "2025-02-09T00:00:00.000000000",
          "2025-02-10T00:00:00.000000000",
          "2025-02-11T00:00:00.000000000",
          "2025-02-12T00:00:00.000000000",
          "2025-02-13T00:00:00.000000000",
          "2025-02-14T00:00:00.000000000",
          "2025-02-15T00:00:00.000000000",
          "2025-02-16T00:00:00.000000000",
          "2025-02-17T00:00:00.000000000",
          "2025-02-18T00:00:00.000000000",
          "2025-02-19T00:00:00.000000000",
          "2025-02-20T00:00:00.000000000",
          "2025-02-21T00:00:00.000000000",
          "2025-02-22T00:00:00.000000000",
          "2025-02-23T00:00:00.000000000",
          "2025-02-24T00:00:00.000000000",
          "2025-02-25T00:00:00.000000000",
          "2025-02-26T00:00:00.000000000",
          "2025-02-27T00:00:00.000000000",
          "2025-02-28T00:00:00.000000000",
          "2025-03-01T00:00:00.000000000",
          "2025-03-02T00:00:00.000000000",
          "2025-03-03T00:00:00.000000000",
          "2025-03-04T00:00:00.000000000",
          "2025-03-05T00:00:00.000000000",
          "2025-03-06T00:00:00.000000000",
          "2025-03-07T00:00:00.000000000",
          "2025-03-08T00:00:00.000000000",
          "2025-03-09T00:00:00.000000000",
          "2025-03-10T00:00:00.000000000",
          "2025-03-11T00:00:00.000000000",
          "2025-03-12T00:00:00.000000000",
          "2025-03-13T00:00:00.000000000",
          "2025-03-14T00:00:00.000000000",
          "2025-03-15T00:00:00.000000000",
          "2025-03-16T00:00:00.000000000",
          "2025-03-17T00:00:00.000000000",
          "2025-03-18T00:00:00.000000000",
          "2025-03-19T00:00:00.000000000",
          "2025-03-20T00:00:00.000000000",
          "2025-03-21T00:00:00.000000000",
          "2025-03-22T00:00:00.000000000",
          "2025-03-23T00:00:00.000000000"
         ],
         "xaxis": "x",
         "y": {
          "bdata": "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",
          "dtype": "f8"
         },
         "yaxis": "y"
        },
        {
         "marker": {
          "color": "lightgreen"
         },
         "name": "Sales Distribution",
         "nbinsx": 20,
         "type": "histogram",
         "x": {
          "bdata": "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",
          "dtype": "f8"
         },
         "xaxis": "x2",
         "yaxis": "y2"
        },
        {
         "marker": {
          "color": "orange"
         },
         "name": "Weekly Pattern",
         "type": "bar",
         "x": [
          "Monday",
          "Tuesday",
          "Wednesday",
          "Thursday",
          "Friday",
          "Saturday",
          "Sunday"
         ],
         "xaxis": "x3",
         "y": {
          "bdata": "k1YxaRW7c0AkwAjPWKV0QNF+U55L7nJAfdInfdKfckD2KFyPwsByQHijrmodvnBAOmLfsdnebkA=",
          "dtype": "f8"
         },
         "yaxis": "y3"
        },
        {
         "marker": {
          "color": "purple"
         },
         "name": "Monthly Trend",
         "type": "bar",
         "x": [
          "Jan",
          "Feb",
          "Mar",
          "Apr",
          "May",
          "Jun",
          "Jul",
          "Aug",
          "Sep",
          "Oct",
          "Nov",
          "Dec"
         ],
         "xaxis": "x4",
         "y": {
          "bdata": "NpWGnPuQbEBVGnLus399QGSzrVKiZHJAv58aL93UZ0Cd++wCYjlyQBeSplScvW9As44w6wjja0D0KTefcrNuQKL+jVBGz3RAchgah6EBfECIhve3m4NyQNTJO528m3BA",
          "dtype": "f8"
         },
         "yaxis": "y4"
        },
        {
         "marker": {
          "color": "red"
         },
         "name": "Weekend",
         "type": "box",
         "xaxis": "x5",
         "y": {
          "bdata": "MzMzMzODZ0CamZmZmVFzQGZmZmZmdntAZmZmZmbmVkBmZmZmZuZmQGZmZmZm5jxAmpmZmZnRcUCamZmZmVlDQM3MzMzMvGJAmpmZmZlZQ0AzMzMzM4NhQAAAAAAAMG5AzczMzMzMa0DNzMzMzLRyQM3MzMzMRHpAKVyPwvVoUEBcj8L1KNxCQAAAAAAAIGVASOF6FK7Hb0D2KFyPwgVxQK5H4XoUjm5APQrXo3CdeEA9CtejcJ1oQM3MzMzMdIBAzczMzMy8dUCamZmZmVlmQPYoXI/CBWFAj8L1KFxHe0ApXI/C9WhwQHE9CtejiHlAAAAAAAAgZUCamZmZmVlmQClcj8L18HFAKVyPwvVoYEAzMzMzM4NkQIXrUbgepXVAKVyPwvVoUEA9CtejcI1lQHsUrkfhCmlAH4XrUbheXkBcj8L1KEx3QNejcD0Kt1NAKVyPwvVgdkCkcD0K12NnQIXrUbgeHXRAzczMzMy0e0C4HoXrUYBzQDMzMzMzc3FACtejcD0KYEBxPQrXo/BkQHE9Ctej4GFAZmZmZmZeckDsUbgehR+CQKRwPQrXQ2FAKVyPwvVoUEA9CtejcH1iQJqZmZmZyXpA16NwPQo/hUBI4XoUrq92QPYoXI/CDXdA7FG4HoXrZUAzMzMzM4OEQHE9CtejAGtAPQrXo3ANcUDXo3A9Cs9zQOF6FK5HHYFAexSuR+EKgEAAAAAAACBlQHE9Ctej+HFA4XoUrkdheUDD9Shcj9qAQLgehetRmGlAFK5H4XpMekA9CtejcJVyQFyPwvUo3G5A4XoUrkfhQUAfhetRuF5oQD0K16NwJX1AhetRuB4lZ0CPwvUoXDd1QClcj8L16HRAUrgehevRWkCamZmZmdl9QHE9CtejEG5A4XoUrkdZcECPwvUoXC9rQAAAAAAAmHNAH4XrUbheWEBmZmZmZnZ+QJqZmZmZSWNAFK5H4XpEYUAfhetRuF5YQMP1KFyPgkdAXI/C9SjUdUA9CtejcK1uQMP1KFyPkmpAPQrXo3CVckDXo3A9CkdyQAAAAAAAmHNAMzMzMzNzYUBSuB6F68FnQI/C9ShcP25AhetRuB4lZ0D2KFyPwgVtQI/C9ShcP25ACtejcD06bEAzMzMzM4NkQB+F61G41nZAuB6F61GYaUA=",
          "dtype": "f8"
         },
         "yaxis": "y5"
        },
        {
         "marker": {
          "color": "blue"
         },
         "name": "Weekday",
         "type": "box",
         "xaxis": "x5",
         "y": {
          "bdata": "zczMzMzEeEBmZmZmZuZgQAAAAAAAKHVAZmZmZmbmYEAzMzMzM4NhQAAAAAAAmHBAZmZmZmbmYEAzMzMzM4NnQGZmZmZm5mxAmpmZmZlRdkBmZmZmZuZQQGZmZmZm5lxAzczMzMy8YkDNzMzMzLxlQGZmZmZm5mBAzczMzMysYkAzMzMzM5NnQDMzMzMzi3dAZmZmZmb2bECamZmZmVlfQGZmZmZmBl1AmpmZmZlZaUAAAAAAACBYQAAAAAAAIFhAAAAAAAAgYkAzMzMzM4NqQDMzMzMzg3FAZmZmZmYGXUCamZmZmVlZQAAAAAAAIGVAZmZmZmbmUECamZmZmVlfQAAAAAAAMG5AZmZmZmbmY0AzMzMzMwt2QJqZmZmZUXBAPQrXo3CdWEDNzMzMzLxlQPYoXI/CBXFAH4XrUbheXkAUrkfhesRyQMP1KFyPGnBA9ihcj8IFcUDXo3A9CtdpQFyPwvUo3FJA4XoUrkfZcUDhehSuR2FzQFyPwvUo3EJArkfhehR2ckBcj8L1KNxSQClcj8L1aEBACtejcD06eUCF61G4Hh10QHsUrkfhKm9A9ihcj8IFcUBcj8L1KJCAQM3MzMzMvGVAhetRuB4td0AzMzMzM8OAQBSuR+F6RGpAH4XrUbjedkCamZmZmdF0QJqZmZmZWXZAhetRuB4td0CPwvUoXM98QGZmZmZm9mZAexSuR+GifUDhehSuR2FzQLgehetRGHhAzczMzMysYkAK16NwPUpsQKRwPQrXc2pAPQrXo3Cta0AK16NwPbJ3QLgehetRmF9AzczMzMw0dEAUrkfhelRtQFK4HoXryXdAPQrXo3Cta0AK16NwPTp5QD0K16NwrWtAw/UoXI+iYUA9CtejcJ1oQClcj8L1aGBAZmZmZmbmY0A9CtejcJ1YQHE9CtejAGhA4XoUrkdhc0AfhetRuF5OQDMzMzMz+3JAMzMzMzNzYUAAAAAAABBiQHE9Ctej8FRAhetRuB4lXUCamZmZmUljQClcj8L1aEBAH4XrUbheTkDsUbgehes7QLgehetRgHNAH4XrUbhebkBSuB6F67FaQNejcD0KP3VACtejcD2idEBmZmZmZtZwQB+F61G41nxAhetRuB4ddECkcD0K11OEQB+F61G4zoNAcT0K16PwdEAzMzMzM3NhQPYoXI/ChXhA7FG4HoX7bkAzMzMzM3NxQIXrUbgeFWpAH4XrUbhOa0DD9Shcj5p3QClcj8L16HdAXI/C9SjEdUDsUbgehet7QAAAAAAAAF5AH4XrUbheXkApXI/C9WB2QOF6FK5H0WdAexSuR+EKaUDD9ShcjxJ2QIXrUbgelXJAKVyPwvVoQEDsUbgehetbQIXrUbgeBTdACtejcD0qVkCF61G4HiVtQB+F61G4DoBAzczMzMysckDhehSuR1l5QM3MzMzMJHFAUrgehes1gEAAAAAAABByQB+F61G4Xm5AcT0K16Noc0CkcD0K12NnQLgehetRCHVArkfhehSuhEAfhetRuF5eQNejcD0Kt2NArkfhehRuaEAzMzMzM3NxQDMzMzMzA3xAMzMzMzNzcUDhehSuR1FwQLgehetREH5ACtejcD2yekAAAAAAACh+QFyPwvUoXHdArkfhehT2cEDXo3A9Cr9wQOxRuB6F+3hA16NwPQpHgkAfhetRuNZ2QGZmZmZmdn5A4XoUrkclikAUrkfheoCAQKRwPQrXH4JAPQrXo3Cde0BI4XoUrrOGQJqZmZmZTYBAUrgehes9g0A9CtejcA1xQK5H4XoU/nlAMzMzMzMTf0AzMzMzM4t9QHE9CtejvIJACtejcD1ugkDhehSuR1mAQAAAAAAAIGVACtejcD06bEDXo3A9CtdsQMP1KFyPYoJA4XoUrkdZcEDXo3A9CtdsQIXrUbgerXhAZmZmZmZudUA9CtejcB10QB+F61G4XmhApHA9CtdzfUApXI/C9XB2QLgehetRmGlA9ihcj8INd0AUrkfhekRhQOF6FK5HWXBAUrgehevRakBcj8L1KFx3QJqZmZmZ0XRAuB6F61GYaUCkcD0K13NtQD0K16NwDXFAexSuR+GaekBmZmZmZuZzQArXo3A9qnFA4XoUrkfhYUCamZmZmUljQFyPwvUo3E5ACtejcD06bEA9CtejcI1oQEjhehSup3BAFK5H4XpEcUAK16NwPTpsQBSuR+F6RGFAmpmZmZnRdEDXo3A9Cr9wQAAAAAAAmHNAPQrXo3Cda0CF61G4Hq14QClcj8L1aExAw/UoXI+ibUBxPQrXo/hxQI/C9Shcx39ACtejcD2qcUCkcD0K12NqQPYoXI/C9TlAUrgehevRWkB7FK5H4QpgQD0K16NwDXFAMzMzMzODZEApXI/C9XhvQOF6FK5HWXBAZmZmZmZudUAzMzMzM4N0QHE9CtejgHNAAAAAAACYc0ApXI/C9XhvQD0K16NwnWtA16NwPQrXbEAAAAAAAJhzQKRwPQrXW3FA9ihcj8L1WUA9CtejcA1xQB+F61G4XnhAAAAAAADgiEC4HoXrUYh2QFK4HoXrwYdAhetRuB6teECPwvUoXMd/QK5H4XoUtoRAcT0K16MAe0A9CtejcNGBQBSuR+F6xHhAAAAAAACgfECamZmZmYWCQKRwPQrXW4FAzczMzMw0hEDsUbgehSuCQHE9CtejuIVAXI/C9SiYhkBSuB6F6zl2QD0K16Nw0YFAH4XrUbgWg0C4HoXrUZB/QPYoXI/CDYdAw/UoXI+ifUBSuB6F63mCQIXrUbgeJXdAXI/C9ShQgUBcj8L1KFCBQBSuR+F6THpA9ihcj8IBgUAfhetRuNZ2QNejcD0KB4ZAexSuR+ESeUApXI/C9SiBQBSuR+F6fINAzczMzMysgkBmZmZmZuaDQA==",
          "dtype": "f8"
         },
         "yaxis": "y5"
        },
        {
         "marker": {
          "color": "green",
          "opacity": 0.6,
          "size": 6
         },
         "mode": "markers",
         "name": "Transactions vs Sales",
         "type": "scatter",
         "x": {
          "bdata": "CwYJBAkEBAgNAwQGCAsCBgEEBAUEBQgBBQsHBAMEAQYDAwQHBAcIAwMFAgYJBAcFCgcMAgMFCAQJAQUICAYCCQkBCQIHCAEMCwcIBwwQBQsPBwYPCwoKCw0KBQUOCQsFBA0GBgYMBAgMCgcLBgwFBQYEBgQFCAQDBgkCCgULBQUDBAUCBgECAQsIBwQEDAwKEA0DCxgWDAUNBg0ICggICw8NDQ0QBQsKBA0HBw0GBgsBBAEDBgoIEQoOChYGEQoIDAYCBgsXBAYHDxgKDwoJEAsLDg8LCAkGFAwSDA8aBwkQEg4VDwkQEwkNDw8QBRISEAUHCQ0HEQgHDBEGCgkGDgsNCQYLBAgGCAELCgYHBg4JDQoJBAYLBQIHBwgLAwgHBAoJDwcKBwwCCAgICRAJBwoDAQMECQUPBQgICgoJBAoIBwcDAgoJBAkMCwcZDBgMEAgJFQ4SDQ8JChQSFBMXBQYWDBITEQgGFhATDBEICBENEQwXBwUNERUUFAwG",
          "dtype": "i1"
         },
         "xaxis": "x6",
         "y": {
          "bdata": "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",
          "dtype": "f8"
         },
         "yaxis": "y6"
        }
       ],
       "layout": {
        "annotations": [
         {
          "font": {
           "size": 16
          },
          "showarrow": false,
          "text": "Daily Sales Time Series",
          "x": 0.225,
          "xanchor": "center",
          "xref": "paper",
          "y": 1,
          "yanchor": "bottom",
          "yref": "paper"
         },
         {
          "font": {
           "size": 16
          },
          "showarrow": false,
          "text": "Sales Distribution",
          "x": 0.775,
          "xanchor": "center",
          "xref": "paper",
          "y": 1,
          "yanchor": "bottom",
          "yref": "paper"
         },
         {
          "font": {
           "size": 16
          },
          "showarrow": false,
          "text": "Weekly Pattern",
          "x": 0.225,
          "xanchor": "center",
          "xref": "paper",
          "y": 0.6399999999999999,
          "yanchor": "bottom",
          "yref": "paper"
         },
         {
          "font": {
           "size": 16
          },
          "showarrow": false,
          "text": "Monthly Trend",
          "x": 0.775,
          "xanchor": "center",
          "xref": "paper",
          "y": 0.6399999999999999,
          "yanchor": "bottom",
          "yref": "paper"
         },
         {
          "font": {
           "size": 16
          },
          "showarrow": false,
          "text": "Weekend vs Weekday",
          "x": 0.225,
          "xanchor": "center",
          "xref": "paper",
          "y": 0.27999999999999997,
          "yanchor": "bottom",
          "yref": "paper"
         },
         {
          "font": {
           "size": 16
          },
          "showarrow": false,
          "text": "Transaction Count vs Revenue",
          "x": 0.775,
          "xanchor": "center",
          "xref": "paper",
          "y": 0.27999999999999997,
          "yanchor": "bottom",
          "yref": "paper"
         }
        ],
        "height": 1000,
        "showlegend": false,
        "template": {
         "data": {
          "bar": [
           {
            "error_x": {
             "color": "#2a3f5f"
            },
            "error_y": {
             "color": "#2a3f5f"
            },
            "marker": {
             "line": {
              "color": "#E5ECF6",
              "width": 0.5
             },
             "pattern": {
              "fillmode": "overlay",
              "size": 10,
              "solidity": 0.2
             }
            },
            "type": "bar"
           }
          ],
          "barpolar": [
           {
            "marker": {
             "line": {
              "color": "#E5ECF6",
              "width": 0.5
             },
             "pattern": {
              "fillmode": "overlay",
              "size": 10,
              "solidity": 0.2
             }
            },
            "type": "barpolar"
           }
          ],
          "carpet": [
           {
            "aaxis": {
             "endlinecolor": "#2a3f5f",
             "gridcolor": "white",
             "linecolor": "white",
             "minorgridcolor": "white",
             "startlinecolor": "#2a3f5f"
            },
            "baxis": {
             "endlinecolor": "#2a3f5f",
             "gridcolor": "white",
             "linecolor": "white",
             "minorgridcolor": "white",
             "startlinecolor": "#2a3f5f"
            },
            "type": "carpet"
           }
          ],
          "choropleth": [
           {
            "colorbar": {
             "outlinewidth": 0,
             "ticks": ""
            },
            "type": "choropleth"
           }
          ],
          "contour": [
           {
            "colorbar": {
             "outlinewidth": 0,
             "ticks": ""
            },
            "colorscale": [
             [
              0,
              "#0d0887"
             ],
             [
              0.1111111111111111,
              "#46039f"
             ],
             [
              0.2222222222222222,
              "#7201a8"
             ],
             [
              0.3333333333333333,
              "#9c179e"
             ],
             [
              0.4444444444444444,
              "#bd3786"
             ],
             [
              0.5555555555555556,
              "#d8576b"
             ],
             [
              0.6666666666666666,
              "#ed7953"
             ],
             [
              0.7777777777777778,
              "#fb9f3a"
             ],
             [
              0.8888888888888888,
              "#fdca26"
             ],
             [
              1,
              "#f0f921"
             ]
            ],
            "type": "contour"
           }
          ],
          "contourcarpet": [
           {
            "colorbar": {
             "outlinewidth": 0,
             "ticks": ""
            },
            "type": "contourcarpet"
           }
          ],
          "heatmap": [
           {
            "colorbar": {
             "outlinewidth": 0,
             "ticks": ""
            },
            "colorscale": [
             [
              0,
              "#0d0887"
             ],
             [
              0.1111111111111111,
              "#46039f"
             ],
             [
              0.2222222222222222,
              "#7201a8"
             ],
             [
              0.3333333333333333,
              "#9c179e"
             ],
             [
              0.4444444444444444,
              "#bd3786"
             ],
             [
              0.5555555555555556,
              "#d8576b"
             ],
             [
              0.6666666666666666,
              "#ed7953"
             ],
             [
              0.7777777777777778,
              "#fb9f3a"
             ],
             [
              0.8888888888888888,
              "#fdca26"
             ],
             [
              1,
              "#f0f921"
             ]
            ],
            "type": "heatmap"
           }
          ],
          "histogram": [
           {
            "marker": {
             "pattern": {
              "fillmode": "overlay",
              "size": 10,
              "solidity": 0.2
             }
            },
            "type": "histogram"
           }
          ],
          "histogram2d": [
           {
            "colorbar": {
             "outlinewidth": 0,
             "ticks": ""
            },
            "colorscale": [
             [
              0,
              "#0d0887"
             ],
             [
              0.1111111111111111,
              "#46039f"
             ],
             [
              0.2222222222222222,
              "#7201a8"
             ],
             [
              0.3333333333333333,
              "#9c179e"
             ],
             [
              0.4444444444444444,
              "#bd3786"
             ],
             [
              0.5555555555555556,
              "#d8576b"
             ],
             [
              0.6666666666666666,
              "#ed7953"
             ],
             [
              0.7777777777777778,
              "#fb9f3a"
             ],
             [
              0.8888888888888888,
              "#fdca26"
             ],
             [
              1,
              "#f0f921"
             ]
            ],
            "type": "histogram2d"
           }
          ],
          "histogram2dcontour": [
           {
            "colorbar": {
             "outlinewidth": 0,
             "ticks": ""
            },
            "colorscale": [
             [
              0,
              "#0d0887"
             ],
             [
              0.1111111111111111,
              "#46039f"
             ],
             [
              0.2222222222222222,
              "#7201a8"
             ],
             [
              0.3333333333333333,
              "#9c179e"
             ],
             [
              0.4444444444444444,
              "#bd3786"
             ],
             [
              0.5555555555555556,
              "#d8576b"
             ],
             [
              0.6666666666666666,
              "#ed7953"
             ],
             [
              0.7777777777777778,
              "#fb9f3a"
             ],
             [
              0.8888888888888888,
              "#fdca26"
             ],
             [
              1,
              "#f0f921"
             ]
            ],
            "type": "histogram2dcontour"
           }
          ],
          "mesh3d": [
           {
            "colorbar": {
             "outlinewidth": 0,
             "ticks": ""
            },
            "type": "mesh3d"
           }
          ],
          "parcoords": [
           {
            "line": {
             "colorbar": {
              "outlinewidth": 0,
              "ticks": ""
             }
            },
            "type": "parcoords"
           }
          ],
          "pie": [
           {
            "automargin": true,
            "type": "pie"
           }
          ],
          "scatter": [
           {
            "fillpattern": {
             "fillmode": "overlay",
             "size": 10,
             "solidity": 0.2
            },
            "type": "scatter"
           }
          ],
          "scatter3d": [
           {
            "line": {
             "colorbar": {
              "outlinewidth": 0,
              "ticks": ""
             }
            },
            "marker": {
             "colorbar": {
              "outlinewidth": 0,
              "ticks": ""
             }
            },
            "type": "scatter3d"
           }
          ],
          "scattercarpet": [
           {
            "marker": {
             "colorbar": {
              "outlinewidth": 0,
              "ticks": ""
             }
            },
            "type": "scattercarpet"
           }
          ],
          "scattergeo": [
           {
            "marker": {
             "colorbar": {
              "outlinewidth": 0,
              "ticks": ""
             }
            },
            "type": "scattergeo"
           }
          ],
          "scattergl": [
           {
            "marker": {
             "colorbar": {
              "outlinewidth": 0,
              "ticks": ""
             }
            },
            "type": "scattergl"
           }
          ],
          "scattermap": [
           {
            "marker": {
             "colorbar": {
              "outlinewidth": 0,
              "ticks": ""
             }
            },
            "type": "scattermap"
           }
          ],
          "scattermapbox": [
           {
            "marker": {
             "colorbar": {
              "outlinewidth": 0,
              "ticks": ""
             }
            },
            "type": "scattermapbox"
           }
          ],
          "scatterpolar": [
           {
            "marker": {
             "colorbar": {
              "outlinewidth": 0,
              "ticks": ""
             }
            },
            "type": "scatterpolar"
           }
          ],
          "scatterpolargl": [
           {
            "marker": {
             "colorbar": {
              "outlinewidth": 0,
              "ticks": ""
             }
            },
            "type": "scatterpolargl"
           }
          ],
          "scatterternary": [
           {
            "marker": {
             "colorbar": {
              "outlinewidth": 0,
              "ticks": ""
             }
            },
            "type": "scatterternary"
           }
          ],
          "surface": [
           {
            "colorbar": {
             "outlinewidth": 0,
             "ticks": ""
            },
            "colorscale": [
             [
              0,
              "#0d0887"
             ],
             [
              0.1111111111111111,
              "#46039f"
             ],
             [
              0.2222222222222222,
              "#7201a8"
             ],
             [
              0.3333333333333333,
              "#9c179e"
             ],
             [
              0.4444444444444444,
              "#bd3786"
             ],
             [
              0.5555555555555556,
              "#d8576b"
             ],
             [
              0.6666666666666666,
              "#ed7953"
             ],
             [
              0.7777777777777778,
              "#fb9f3a"
             ],
             [
              0.8888888888888888,
              "#fdca26"
             ],
             [
              1,
              "#f0f921"
             ]
            ],
            "type": "surface"
           }
          ],
          "table": [
           {
            "cells": {
             "fill": {
              "color": "#EBF0F8"
             },
             "line": {
              "color": "white"
             }
            },
            "header": {
             "fill": {
              "color": "#C8D4E3"
             },
             "line": {
              "color": "white"
             }
            },
            "type": "table"
           }
          ]
         },
         "layout": {
          "annotationdefaults": {
           "arrowcolor": "#2a3f5f",
           "arrowhead": 0,
           "arrowwidth": 1
          },
          "autotypenumbers": "strict",
          "coloraxis": {
           "colorbar": {
            "outlinewidth": 0,
            "ticks": ""
           }
          },
          "colorscale": {
           "diverging": [
            [
             0,
             "#8e0152"
            ],
            [
             0.1,
             "#c51b7d"
            ],
            [
             0.2,
             "#de77ae"
            ],
            [
             0.3,
             "#f1b6da"
            ],
            [
             0.4,
             "#fde0ef"
            ],
            [
             0.5,
             "#f7f7f7"
            ],
            [
             0.6,
             "#e6f5d0"
            ],
            [
             0.7,
             "#b8e186"
            ],
            [
             0.8,
             "#7fbc41"
            ],
            [
             0.9,
             "#4d9221"
            ],
            [
             1,
             "#276419"
            ]
           ],
           "sequential": [
            [
             0,
             "#0d0887"
            ],
            [
             0.1111111111111111,
             "#46039f"
            ],
            [
             0.2222222222222222,
             "#7201a8"
            ],
            [
             0.3333333333333333,
             "#9c179e"
            ],
            [
             0.4444444444444444,
             "#bd3786"
            ],
            [
             0.5555555555555556,
             "#d8576b"
            ],
            [
             0.6666666666666666,
             "#ed7953"
            ],
            [
             0.7777777777777778,
             "#fb9f3a"
            ],
            [
             0.8888888888888888,
             "#fdca26"
            ],
            [
             1,
             "#f0f921"
            ]
           ],
           "sequentialminus": [
            [
             0,
             "#0d0887"
            ],
            [
             0.1111111111111111,
             "#46039f"
            ],
            [
             0.2222222222222222,
             "#7201a8"
            ],
            [
             0.3333333333333333,
             "#9c179e"
            ],
            [
             0.4444444444444444,
             "#bd3786"
            ],
            [
             0.5555555555555556,
             "#d8576b"
            ],
            [
             0.6666666666666666,
             "#ed7953"
            ],
            [
             0.7777777777777778,
             "#fb9f3a"
            ],
            [
             0.8888888888888888,
             "#fdca26"
            ],
            [
             1,
             "#f0f921"
            ]
           ]
          },
          "colorway": [
           "#636efa",
           "#EF553B",
           "#00cc96",
           "#ab63fa",
           "#FFA15A",
           "#19d3f3",
           "#FF6692",
           "#B6E880",
           "#FF97FF",
           "#FECB52"
          ],
          "font": {
           "color": "#2a3f5f"
          },
          "geo": {
           "bgcolor": "white",
           "lakecolor": "white",
           "landcolor": "#E5ECF6",
           "showlakes": true,
           "showland": true,
           "subunitcolor": "white"
          },
          "hoverlabel": {
           "align": "left"
          },
          "hovermode": "closest",
          "mapbox": {
           "style": "light"
          },
          "paper_bgcolor": "white",
          "plot_bgcolor": "#E5ECF6",
          "polar": {
           "angularaxis": {
            "gridcolor": "white",
            "linecolor": "white",
            "ticks": ""
           },
           "bgcolor": "#E5ECF6",
           "radialaxis": {
            "gridcolor": "white",
            "linecolor": "white",
            "ticks": ""
           }
          },
          "scene": {
           "xaxis": {
            "backgroundcolor": "#E5ECF6",
            "gridcolor": "white",
            "gridwidth": 2,
            "linecolor": "white",
            "showbackground": true,
            "ticks": "",
            "zerolinecolor": "white"
           },
           "yaxis": {
            "backgroundcolor": "#E5ECF6",
            "gridcolor": "white",
            "gridwidth": 2,
            "linecolor": "white",
            "showbackground": true,
            "ticks": "",
            "zerolinecolor": "white"
           },
           "zaxis": {
            "backgroundcolor": "#E5ECF6",
            "gridcolor": "white",
            "gridwidth": 2,
            "linecolor": "white",
            "showbackground": true,
            "ticks": "",
            "zerolinecolor": "white"
           }
          },
          "shapedefaults": {
           "line": {
            "color": "#2a3f5f"
           }
          },
          "ternary": {
           "aaxis": {
            "gridcolor": "white",
            "linecolor": "white",
            "ticks": ""
           },
           "baxis": {
            "gridcolor": "white",
            "linecolor": "white",
            "ticks": ""
           },
           "bgcolor": "#E5ECF6",
           "caxis": {
            "gridcolor": "white",
            "linecolor": "white",
            "ticks": ""
           }
          },
          "title": {
           "x": 0.05
          },
          "xaxis": {
           "automargin": true,
           "gridcolor": "white",
           "linecolor": "white",
           "ticks": "",
           "title": {
            "standoff": 15
           },
           "zerolinecolor": "white",
           "zerolinewidth": 2
          },
          "yaxis": {
           "automargin": true,
           "gridcolor": "white",
           "linecolor": "white",
           "ticks": "",
           "title": {
            "standoff": 15
           },
           "zerolinecolor": "white",
           "zerolinewidth": 2
          }
         }
        },
        "title": {
         "text": "Coffee Sales Time Series Analysis Dashboard"
        },
        "xaxis": {
         "anchor": "y",
         "domain": [
          0,
          0.45
         ]
        },
        "xaxis2": {
         "anchor": "y2",
         "domain": [
          0.55,
          1
         ]
        },
        "xaxis3": {
         "anchor": "y3",
         "domain": [
          0,
          0.45
         ]
        },
        "xaxis4": {
         "anchor": "y4",
         "domain": [
          0.55,
          1
         ]
        },
        "xaxis5": {
         "anchor": "y5",
         "domain": [
          0,
          0.45
         ]
        },
        "xaxis6": {
         "anchor": "y6",
         "domain": [
          0.55,
          1
         ]
        },
        "yaxis": {
         "anchor": "x",
         "domain": [
          0.72,
          1
         ]
        },
        "yaxis2": {
         "anchor": "x2",
         "domain": [
          0.72,
          1
         ]
        },
        "yaxis3": {
         "anchor": "x3",
         "domain": [
          0.36,
          0.6399999999999999
         ]
        },
        "yaxis4": {
         "anchor": "x4",
         "domain": [
          0.36,
          0.6399999999999999
         ]
        },
        "yaxis5": {
         "anchor": "x5",
         "domain": [
          0,
          0.27999999999999997
         ]
        },
        "yaxis6": {
         "anchor": "x6",
         "domain": [
          0,
          0.27999999999999997
         ]
        }
       }
      }
     },
     "metadata": {},
     "output_type": "display_data"
    },
    {
     "name": "stdout",
     "output_type": "stream",
     "text": [
      "\n",
      "TIME SERIES INSIGHTS:\n",
      "• Peak sales day: 2024-10-11 ($837)\n",
      "• Lowest sales day: 2024-08-29 ($23)\n",
      "• Most transactions in a day: 26\n",
      "• Best day of week: Tuesday ($330 avg)\n",
      "• Worst day of week: Sunday ($247 avg)\n",
      "• Weekend premium: $-52 (-16.8%)\n"
     ]
    }
   ],
   "source": [
    "# Time Series Visualization and Analysis\n",
    "print(\"COFFEE SALES TIME SERIES ANALYSIS:\")\n",
    "print(\"=\" * 50)\n",
    "\n",
    "# Create comprehensive time series plots\n",
    "fig = make_subplots(\n",
    " rows=3, cols=2,\n",
    " subplot_titles=[\n",
    " 'Daily Sales Time Series', 'Sales Distribution',\n",
    " 'Weekly Pattern', 'Monthly Trend',\n",
    " 'Weekend vs Weekday', 'Transaction Count vs Revenue'\n",
    " ],\n",
    " vertical_spacing=0.08\n",
    ")\n",
    "\n",
    "# 1. Daily sales time series\n",
    "fig.add_trace(go.Scatter(\n",
    " x=df['date'], y=df['sales'],\n",
    " mode='lines', name='Daily Sales',\n",
    " line={'color': 'blue', 'width': 1}\n",
    "), row=1, col=1)\n",
    "\n",
    "# 2. Sales distribution\n",
    "fig.add_trace(go.Histogram(\n",
    " x=df['sales'],\n",
    " name='Sales Distribution',\n",
    " nbinsx=20,\n",
    " marker_color='lightgreen'\n",
    "), row=1, col=2)\n",
    "\n",
    "# 3. Weekly pattern\n",
    "weekly_avg = df.groupby('day_of_week')['sales'].mean().reindex([\n",
    " 'Monday', 'Tuesday', 'Wednesday', 'Thursday', 'Friday', 'Saturday', 'Sunday'\n",
    "])\n",
    "fig.add_trace(go.Bar(\n",
    " x=weekly_avg.index, y=weekly_avg.values,\n",
    " name='Weekly Pattern',\n",
    " marker_color='orange'\n",
    "), row=2, col=1)\n",
    "\n",
    "# 4. Monthly trend (if we have multiple months)\n",
    "if df['date'].dt.month.nunique() > 1:\n",
    " monthly_sales = df.groupby(df['date'].dt.month)['sales'].mean()\n",
    " month_names = ['Jan', 'Feb', 'Mar', 'Apr', 'May', 'Jun',\n",
    " 'Jul', 'Aug', 'Sep', 'Oct', 'Nov', 'Dec']\n",
    " monthly_labels = [month_names[i-1] for i in monthly_sales.index]\n",
    "\n",
    " fig.add_trace(go.Bar(\n",
    " x=monthly_labels, y=monthly_sales.values,\n",
    " name='Monthly Trend',\n",
    " marker_color='purple'\n",
    " ), row=2, col=2)\n",
    "\n",
    "# 5. Weekend vs Weekday boxplot\n",
    "weekend_data = df[df['is_weekend']]['sales']\n",
    "weekday_data = df[~df['is_weekend']]['sales']\n",
    "\n",
    "fig.add_trace(go.Box(\n",
    " y=weekend_data, name='Weekend',\n",
    " marker_color='red'\n",
    "), row=3, col=1)\n",
    "\n",
    "fig.add_trace(go.Box(\n",
    " y=weekday_data, name='Weekday',\n",
    " marker_color='blue'\n",
    "), row=3, col=1)\n",
    "\n",
    "# 6. Transaction count vs revenue scatter\n",
    "fig.add_trace(go.Scatter(\n",
    " x=df['transaction_count'], y=df['sales'],\n",
    " mode='markers', name='Transactions vs Sales',\n",
    " marker={'color': 'green', 'size': 6, 'opacity': 0.6}\n",
    "), row=3, col=2)\n",
    "\n",
    "fig.update_layout(\n",
    " height=1000,\n",
    " title='Coffee Sales Time Series Analysis Dashboard',\n",
    " showlegend=False\n",
    ")\n",
    "\n",
    "fig.show()\n",
    "\n",
    "# Statistical insights\n",
    "print(\"\\nTIME SERIES INSIGHTS:\")\n",
    "peak_idx = df['sales'].idxmax()\n",
    "low_idx = df['sales'].idxmin()\n",
    "print(f\"• Peak sales day: {df.loc[peak_idx, 'date'].strftime('%Y-%m-%d')} \"\n",
    " f\"(${df['sales'].max():,.0f})\")\n",
    "print(f\"• Lowest sales day: {df.loc[low_idx, 'date'].strftime('%Y-%m-%d')} \"\n",
    " f\"(${df['sales'].min():,.0f})\")\n",
    "print(f\"• Most transactions in a day: {df['transaction_count'].max()}\")\n",
    "print(f\"• Best day of week: {weekly_avg.idxmax()} (${weekly_avg.max():.0f} avg)\")\n",
    "print(f\"• Worst day of week: {weekly_avg.idxmin()} (${weekly_avg.min():.0f} avg)\")\n",
    "weekend_premium = weekend_avg - weekday_avg\n",
    "weekend_pct = ((weekend_avg/weekday_avg-1)*100)\n",
    "print(f\"• Weekend premium: ${weekend_premium:.0f} ({weekend_pct:+.1f}%)\")"
   ]
  },
  {
   "cell_type": "code",
   "execution_count": 10,
   "id": "c659795b",
   "metadata": {},
   "outputs": [
    {
     "name": "stdout",
     "output_type": "stream",
     "text": [
      "MOVING AVERAGE FORECASTING:\n",
      "========================================\n",
      "FORECASTING RESULTS:\n",
      "• 7-day average: $483\n",
      "• 14-day average: $454\n",
      "• Forecast for next 7 days: $483 per day\n",
      "• Weekly revenue forecast: $3,378\n",
      "\n",
      "BUSINESS INSIGHTS:\n",
      "• Total revenue period: $112,246\n",
      "• Average daily revenue: $295\n",
      "• Revenue volatility (CV): 55.38%\n",
      "• Growth trend: +105.7% from start to end\n",
      "• Best performing weekday: Tuesday\n",
      "\n",
      "RECOMMENDATIONS:\n",
      "• Optimize staffing for Tuesday (highest sales)\n",
      "• Investigate low performance on Sunday\n",
      "• Weekend strategy needed: Promotion campaigns\n",
      "• Inventory planning: Stock for ~9 daily transactions\n",
      "• Revenue target: Aim for $531/day (+10% improvement)\n"
     ]
    },
    {
     "data": {
      "application/vnd.plotly.v1+json": {
       "config": {
        "plotlyServerURL": "https://plot.ly"
       },
       "data": [
        {
         "line": {
          "color": "blue",
          "width": 2
         },
         "mode": "lines",
         "name": "Historical Sales",
         "type": "scatter",
         "x": [
          "2024-03-01T00:00:00.000000000",
          "2024-03-02T00:00:00.000000000",
          "2024-03-03T00:00:00.000000000",
          "2024-03-04T00:00:00.000000000",
          "2024-03-05T00:00:00.000000000",
          "2024-03-06T00:00:00.000000000",
          "2024-03-07T00:00:00.000000000",
          "2024-03-08T00:00:00.000000000",
          "2024-03-09T00:00:00.000000000",
          "2024-03-10T00:00:00.000000000",
          "2024-03-11T00:00:00.000000000",
          "2024-03-12T00:00:00.000000000",
          "2024-03-13T00:00:00.000000000",
          "2024-03-14T00:00:00.000000000",
          "2024-03-15T00:00:00.000000000",
          "2024-03-16T00:00:00.000000000",
          "2024-03-17T00:00:00.000000000",
          "2024-03-18T00:00:00.000000000",
          "2024-03-19T00:00:00.000000000",
          "2024-03-20T00:00:00.000000000",
          "2024-03-21T00:00:00.000000000",
          "2024-03-22T00:00:00.000000000",
          "2024-03-23T00:00:00.000000000",
          "2024-03-24T00:00:00.000000000",
          "2024-03-25T00:00:00.000000000",
          "2024-03-26T00:00:00.000000000",
          "2024-03-27T00:00:00.000000000",
          "2024-03-28T00:00:00.000000000",
          "2024-03-29T00:00:00.000000000",
          "2024-03-30T00:00:00.000000000",
          "2024-03-31T00:00:00.000000000",
          "2024-04-01T00:00:00.000000000",
          "2024-04-02T00:00:00.000000000",
          "2024-04-03T00:00:00.000000000",
          "2024-04-04T00:00:00.000000000",
          "2024-04-05T00:00:00.000000000",
          "2024-04-06T00:00:00.000000000",
          "2024-04-07T00:00:00.000000000",
          "2024-04-08T00:00:00.000000000",
          "2024-04-09T00:00:00.000000000",
          "2024-04-10T00:00:00.000000000",
          "2024-04-11T00:00:00.000000000",
          "2024-04-12T00:00:00.000000000",
          "2024-04-13T00:00:00.000000000",
          "2024-04-14T00:00:00.000000000",
          "2024-04-15T00:00:00.000000000",
          "2024-04-16T00:00:00.000000000",
          "2024-04-17T00:00:00.000000000",
          "2024-04-18T00:00:00.000000000",
          "2024-04-19T00:00:00.000000000",
          "2024-04-20T00:00:00.000000000",
          "2024-04-21T00:00:00.000000000",
          "2024-04-22T00:00:00.000000000",
          "2024-04-23T00:00:00.000000000",
          "2024-04-24T00:00:00.000000000",
          "2024-04-25T00:00:00.000000000",
          "2024-04-26T00:00:00.000000000",
          "2024-04-27T00:00:00.000000000",
          "2024-04-28T00:00:00.000000000",
          "2024-04-29T00:00:00.000000000",
          "2024-04-30T00:00:00.000000000",
          "2024-05-02T00:00:00.000000000",
          "2024-05-03T00:00:00.000000000",
          "2024-05-06T00:00:00.000000000",
          "2024-05-07T00:00:00.000000000",
          "2024-05-08T00:00:00.000000000",
          "2024-05-09T00:00:00.000000000",
          "2024-05-10T00:00:00.000000000",
          "2024-05-11T00:00:00.000000000",
          "2024-05-12T00:00:00.000000000",
          "2024-05-13T00:00:00.000000000",
          "2024-05-14T00:00:00.000000000",
          "2024-05-15T00:00:00.000000000",
          "2024-05-16T00:00:00.000000000",
          "2024-05-17T00:00:00.000000000",
          "2024-05-18T00:00:00.000000000",
          "2024-05-19T00:00:00.000000000",
          "2024-05-20T00:00:00.000000000",
          "2024-05-21T00:00:00.000000000",
          "2024-05-22T00:00:00.000000000",
          "2024-05-23T00:00:00.000000000",
          "2024-05-24T00:00:00.000000000",
          "2024-05-25T00:00:00.000000000",
          "2024-05-26T00:00:00.000000000",
          "2024-05-27T00:00:00.000000000",
          "2024-05-28T00:00:00.000000000",
          "2024-05-29T00:00:00.000000000",
          "2024-05-30T00:00:00.000000000",
          "2024-05-31T00:00:00.000000000",
          "2024-06-01T00:00:00.000000000",
          "2024-06-02T00:00:00.000000000",
          "2024-06-03T00:00:00.000000000",
          "2024-06-04T00:00:00.000000000",
          "2024-06-05T00:00:00.000000000",
          "2024-06-06T00:00:00.000000000",
          "2024-06-07T00:00:00.000000000",
          "2024-06-08T00:00:00.000000000",
          "2024-06-09T00:00:00.000000000",
          "2024-06-10T00:00:00.000000000",
          "2024-06-11T00:00:00.000000000",
          "2024-06-12T00:00:00.000000000",
          "2024-06-13T00:00:00.000000000",
          "2024-06-14T00:00:00.000000000",
          "2024-06-15T00:00:00.000000000",
          "2024-06-16T00:00:00.000000000",
          "2024-06-17T00:00:00.000000000",
          "2024-06-18T00:00:00.000000000",
          "2024-06-19T00:00:00.000000000",
          "2024-06-20T00:00:00.000000000",
          "2024-06-21T00:00:00.000000000",
          "2024-06-22T00:00:00.000000000",
          "2024-06-23T00:00:00.000000000",
          "2024-06-24T00:00:00.000000000",
          "2024-06-25T00:00:00.000000000",
          "2024-06-26T00:00:00.000000000",
          "2024-06-27T00:00:00.000000000",
          "2024-06-28T00:00:00.000000000",
          "2024-06-29T00:00:00.000000000",
          "2024-06-30T00:00:00.000000000",
          "2024-07-01T00:00:00.000000000",
          "2024-07-02T00:00:00.000000000",
          "2024-07-03T00:00:00.000000000",
          "2024-07-04T00:00:00.000000000",
          "2024-07-05T00:00:00.000000000",
          "2024-07-06T00:00:00.000000000",
          "2024-07-07T00:00:00.000000000",
          "2024-07-08T00:00:00.000000000",
          "2024-07-09T00:00:00.000000000",
          "2024-07-10T00:00:00.000000000",
          "2024-07-11T00:00:00.000000000",
          "2024-07-12T00:00:00.000000000",
          "2024-07-13T00:00:00.000000000",
          "2024-07-14T00:00:00.000000000",
          "2024-07-15T00:00:00.000000000",
          "2024-07-16T00:00:00.000000000",
          "2024-07-17T00:00:00.000000000",
          "2024-07-18T00:00:00.000000000",
          "2024-07-19T00:00:00.000000000",
          "2024-07-20T00:00:00.000000000",
          "2024-07-21T00:00:00.000000000",
          "2024-07-22T00:00:00.000000000",
          "2024-07-23T00:00:00.000000000",
          "2024-07-24T00:00:00.000000000",
          "2024-07-25T00:00:00.000000000",
          "2024-07-26T00:00:00.000000000",
          "2024-07-27T00:00:00.000000000",
          "2024-07-28T00:00:00.000000000",
          "2024-07-29T00:00:00.000000000",
          "2024-07-30T00:00:00.000000000",
          "2024-07-31T00:00:00.000000000",
          "2024-08-01T00:00:00.000000000",
          "2024-08-02T00:00:00.000000000",
          "2024-08-03T00:00:00.000000000",
          "2024-08-04T00:00:00.000000000",
          "2024-08-05T00:00:00.000000000",
          "2024-08-06T00:00:00.000000000",
          "2024-08-07T00:00:00.000000000",
          "2024-08-08T00:00:00.000000000",
          "2024-08-09T00:00:00.000000000",
          "2024-08-10T00:00:00.000000000",
          "2024-08-11T00:00:00.000000000",
          "2024-08-12T00:00:00.000000000",
          "2024-08-13T00:00:00.000000000",
          "2024-08-14T00:00:00.000000000",
          "2024-08-15T00:00:00.000000000",
          "2024-08-16T00:00:00.000000000",
          "2024-08-17T00:00:00.000000000",
          "2024-08-18T00:00:00.000000000",
          "2024-08-19T00:00:00.000000000",
          "2024-08-20T00:00:00.000000000",
          "2024-08-21T00:00:00.000000000",
          "2024-08-22T00:00:00.000000000",
          "2024-08-23T00:00:00.000000000",
          "2024-08-24T00:00:00.000000000",
          "2024-08-25T00:00:00.000000000",
          "2024-08-26T00:00:00.000000000",
          "2024-08-27T00:00:00.000000000",
          "2024-08-28T00:00:00.000000000",
          "2024-08-29T00:00:00.000000000",
          "2024-08-30T00:00:00.000000000",
          "2024-08-31T00:00:00.000000000",
          "2024-09-01T00:00:00.000000000",
          "2024-09-02T00:00:00.000000000",
          "2024-09-03T00:00:00.000000000",
          "2024-09-04T00:00:00.000000000",
          "2024-09-05T00:00:00.000000000",
          "2024-09-06T00:00:00.000000000",
          "2024-09-07T00:00:00.000000000",
          "2024-09-08T00:00:00.000000000",
          "2024-09-09T00:00:00.000000000",
          "2024-09-10T00:00:00.000000000",
          "2024-09-11T00:00:00.000000000",
          "2024-09-12T00:00:00.000000000",
          "2024-09-13T00:00:00.000000000",
          "2024-09-14T00:00:00.000000000",
          "2024-09-15T00:00:00.000000000",
          "2024-09-16T00:00:00.000000000",
          "2024-09-17T00:00:00.000000000",
          "2024-09-18T00:00:00.000000000",
          "2024-09-19T00:00:00.000000000",
          "2024-09-20T00:00:00.000000000",
          "2024-09-21T00:00:00.000000000",
          "2024-09-22T00:00:00.000000000",
          "2024-09-23T00:00:00.000000000",
          "2024-09-24T00:00:00.000000000",
          "2024-09-25T00:00:00.000000000",
          "2024-09-26T00:00:00.000000000",
          "2024-09-27T00:00:00.000000000",
          "2024-09-28T00:00:00.000000000",
          "2024-09-29T00:00:00.000000000",
          "2024-09-30T00:00:00.000000000",
          "2024-10-01T00:00:00.000000000",
          "2024-10-02T00:00:00.000000000",
          "2024-10-03T00:00:00.000000000",
          "2024-10-04T00:00:00.000000000",
          "2024-10-05T00:00:00.000000000",
          "2024-10-06T00:00:00.000000000",
          "2024-10-07T00:00:00.000000000",
          "2024-10-08T00:00:00.000000000",
          "2024-10-09T00:00:00.000000000",
          "2024-10-10T00:00:00.000000000",
          "2024-10-11T00:00:00.000000000",
          "2024-10-12T00:00:00.000000000",
          "2024-10-13T00:00:00.000000000",
          "2024-10-14T00:00:00.000000000",
          "2024-10-15T00:00:00.000000000",
          "2024-10-16T00:00:00.000000000",
          "2024-10-17T00:00:00.000000000",
          "2024-10-18T00:00:00.000000000",
          "2024-10-19T00:00:00.000000000",
          "2024-10-20T00:00:00.000000000",
          "2024-10-21T00:00:00.000000000",
          "2024-10-22T00:00:00.000000000",
          "2024-10-23T00:00:00.000000000",
          "2024-10-24T00:00:00.000000000",
          "2024-10-25T00:00:00.000000000",
          "2024-10-26T00:00:00.000000000",
          "2024-10-27T00:00:00.000000000",
          "2024-10-28T00:00:00.000000000",
          "2024-10-29T00:00:00.000000000",
          "2024-10-30T00:00:00.000000000",
          "2024-10-31T00:00:00.000000000",
          "2024-11-01T00:00:00.000000000",
          "2024-11-02T00:00:00.000000000",
          "2024-11-03T00:00:00.000000000",
          "2024-11-04T00:00:00.000000000",
          "2024-11-05T00:00:00.000000000",
          "2024-11-06T00:00:00.000000000",
          "2024-11-07T00:00:00.000000000",
          "2024-11-08T00:00:00.000000000",
          "2024-11-09T00:00:00.000000000",
          "2024-11-10T00:00:00.000000000",
          "2024-11-11T00:00:00.000000000",
          "2024-11-12T00:00:00.000000000",
          "2024-11-13T00:00:00.000000000",
          "2024-11-14T00:00:00.000000000",
          "2024-11-15T00:00:00.000000000",
          "2024-11-16T00:00:00.000000000",
          "2024-11-17T00:00:00.000000000",
          "2024-11-18T00:00:00.000000000",
          "2024-11-19T00:00:00.000000000",
          "2024-11-20T00:00:00.000000000",
          "2024-11-21T00:00:00.000000000",
          "2024-11-22T00:00:00.000000000",
          "2024-11-23T00:00:00.000000000",
          "2024-11-24T00:00:00.000000000",
          "2024-11-25T00:00:00.000000000",
          "2024-11-26T00:00:00.000000000",
          "2024-11-28T00:00:00.000000000",
          "2024-11-29T00:00:00.000000000",
          "2024-11-30T00:00:00.000000000",
          "2024-12-01T00:00:00.000000000",
          "2024-12-02T00:00:00.000000000",
          "2024-12-03T00:00:00.000000000",
          "2024-12-04T00:00:00.000000000",
          "2024-12-05T00:00:00.000000000",
          "2024-12-06T00:00:00.000000000",
          "2024-12-07T00:00:00.000000000",
          "2024-12-08T00:00:00.000000000",
          "2024-12-09T00:00:00.000000000",
          "2024-12-10T00:00:00.000000000",
          "2024-12-11T00:00:00.000000000",
          "2024-12-12T00:00:00.000000000",
          "2024-12-13T00:00:00.000000000",
          "2024-12-14T00:00:00.000000000",
          "2024-12-15T00:00:00.000000000",
          "2024-12-16T00:00:00.000000000",
          "2024-12-17T00:00:00.000000000",
          "2024-12-18T00:00:00.000000000",
          "2024-12-19T00:00:00.000000000",
          "2024-12-20T00:00:00.000000000",
          "2024-12-21T00:00:00.000000000",
          "2024-12-22T00:00:00.000000000",
          "2024-12-23T00:00:00.000000000",
          "2024-12-24T00:00:00.000000000",
          "2024-12-25T00:00:00.000000000",
          "2024-12-26T00:00:00.000000000",
          "2024-12-27T00:00:00.000000000",
          "2024-12-28T00:00:00.000000000",
          "2024-12-29T00:00:00.000000000",
          "2024-12-30T00:00:00.000000000",
          "2024-12-31T00:00:00.000000000",
          "2025-01-02T00:00:00.000000000",
          "2025-01-03T00:00:00.000000000",
          "2025-01-04T00:00:00.000000000",
          "2025-01-05T00:00:00.000000000",
          "2025-01-06T00:00:00.000000000",
          "2025-01-07T00:00:00.000000000",
          "2025-01-08T00:00:00.000000000",
          "2025-01-09T00:00:00.000000000",
          "2025-01-10T00:00:00.000000000",
          "2025-01-11T00:00:00.000000000",
          "2025-01-12T00:00:00.000000000",
          "2025-01-13T00:00:00.000000000",
          "2025-01-14T00:00:00.000000000",
          "2025-01-15T00:00:00.000000000",
          "2025-01-16T00:00:00.000000000",
          "2025-01-17T00:00:00.000000000",
          "2025-01-18T00:00:00.000000000",
          "2025-01-20T00:00:00.000000000",
          "2025-01-21T00:00:00.000000000",
          "2025-01-22T00:00:00.000000000",
          "2025-01-24T00:00:00.000000000",
          "2025-01-25T00:00:00.000000000",
          "2025-01-26T00:00:00.000000000",
          "2025-01-27T00:00:00.000000000",
          "2025-01-28T00:00:00.000000000",
          "2025-01-29T00:00:00.000000000",
          "2025-01-30T00:00:00.000000000",
          "2025-01-31T00:00:00.000000000",
          "2025-02-01T00:00:00.000000000",
          "2025-02-02T00:00:00.000000000",
          "2025-02-03T00:00:00.000000000",
          "2025-02-04T00:00:00.000000000",
          "2025-02-05T00:00:00.000000000",
          "2025-02-06T00:00:00.000000000",
          "2025-02-07T00:00:00.000000000",
          "2025-02-08T00:00:00.000000000",
          "2025-02-09T00:00:00.000000000",
          "2025-02-10T00:00:00.000000000",
          "2025-02-11T00:00:00.000000000",
          "2025-02-12T00:00:00.000000000",
          "2025-02-13T00:00:00.000000000",
          "2025-02-14T00:00:00.000000000",
          "2025-02-15T00:00:00.000000000",
          "2025-02-16T00:00:00.000000000",
          "2025-02-17T00:00:00.000000000",
          "2025-02-18T00:00:00.000000000",
          "2025-02-19T00:00:00.000000000",
          "2025-02-20T00:00:00.000000000",
          "2025-02-21T00:00:00.000000000",
          "2025-02-22T00:00:00.000000000",
          "2025-02-23T00:00:00.000000000",
          "2025-02-24T00:00:00.000000000",
          "2025-02-25T00:00:00.000000000",
          "2025-02-26T00:00:00.000000000",
          "2025-02-27T00:00:00.000000000",
          "2025-02-28T00:00:00.000000000",
          "2025-03-01T00:00:00.000000000",
          "2025-03-02T00:00:00.000000000",
          "2025-03-03T00:00:00.000000000",
          "2025-03-04T00:00:00.000000000",
          "2025-03-05T00:00:00.000000000",
          "2025-03-06T00:00:00.000000000",
          "2025-03-07T00:00:00.000000000",
          "2025-03-08T00:00:00.000000000",
          "2025-03-09T00:00:00.000000000",
          "2025-03-10T00:00:00.000000000",
          "2025-03-11T00:00:00.000000000",
          "2025-03-12T00:00:00.000000000",
          "2025-03-13T00:00:00.000000000",
          "2025-03-14T00:00:00.000000000",
          "2025-03-15T00:00:00.000000000",
          "2025-03-16T00:00:00.000000000",
          "2025-03-17T00:00:00.000000000",
          "2025-03-18T00:00:00.000000000",
          "2025-03-19T00:00:00.000000000",
          "2025-03-20T00:00:00.000000000",
          "2025-03-21T00:00:00.000000000",
          "2025-03-22T00:00:00.000000000",
          "2025-03-23T00:00:00.000000000"
         ],
         "y": {
          "bdata": "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",
          "dtype": "f8"
         }
        },
        {
         "line": {
          "color": "red",
          "dash": "dash",
          "width": 1
         },
         "mode": "lines",
         "name": "7-day MA",
         "type": "scatter",
         "x": [
          "2024-03-01T00:00:00.000000000",
          "2024-03-02T00:00:00.000000000",
          "2024-03-03T00:00:00.000000000",
          "2024-03-04T00:00:00.000000000",
          "2024-03-05T00:00:00.000000000",
          "2024-03-06T00:00:00.000000000",
          "2024-03-07T00:00:00.000000000",
          "2024-03-08T00:00:00.000000000",
          "2024-03-09T00:00:00.000000000",
          "2024-03-10T00:00:00.000000000",
          "2024-03-11T00:00:00.000000000",
          "2024-03-12T00:00:00.000000000",
          "2024-03-13T00:00:00.000000000",
          "2024-03-14T00:00:00.000000000",
          "2024-03-15T00:00:00.000000000",
          "2024-03-16T00:00:00.000000000",
          "2024-03-17T00:00:00.000000000",
          "2024-03-18T00:00:00.000000000",
          "2024-03-19T00:00:00.000000000",
          "2024-03-20T00:00:00.000000000",
          "2024-03-21T00:00:00.000000000",
          "2024-03-22T00:00:00.000000000",
          "2024-03-23T00:00:00.000000000",
          "2024-03-24T00:00:00.000000000",
          "2024-03-25T00:00:00.000000000",
          "2024-03-26T00:00:00.000000000",
          "2024-03-27T00:00:00.000000000",
          "2024-03-28T00:00:00.000000000",
          "2024-03-29T00:00:00.000000000",
          "2024-03-30T00:00:00.000000000",
          "2024-03-31T00:00:00.000000000",
          "2024-04-01T00:00:00.000000000",
          "2024-04-02T00:00:00.000000000",
          "2024-04-03T00:00:00.000000000",
          "2024-04-04T00:00:00.000000000",
          "2024-04-05T00:00:00.000000000",
          "2024-04-06T00:00:00.000000000",
          "2024-04-07T00:00:00.000000000",
          "2024-04-08T00:00:00.000000000",
          "2024-04-09T00:00:00.000000000",
          "2024-04-10T00:00:00.000000000",
          "2024-04-11T00:00:00.000000000",
          "2024-04-12T00:00:00.000000000",
          "2024-04-13T00:00:00.000000000",
          "2024-04-14T00:00:00.000000000",
          "2024-04-15T00:00:00.000000000",
          "2024-04-16T00:00:00.000000000",
          "2024-04-17T00:00:00.000000000",
          "2024-04-18T00:00:00.000000000",
          "2024-04-19T00:00:00.000000000",
          "2024-04-20T00:00:00.000000000",
          "2024-04-21T00:00:00.000000000",
          "2024-04-22T00:00:00.000000000",
          "2024-04-23T00:00:00.000000000",
          "2024-04-24T00:00:00.000000000",
          "2024-04-25T00:00:00.000000000",
          "2024-04-26T00:00:00.000000000",
          "2024-04-27T00:00:00.000000000",
          "2024-04-28T00:00:00.000000000",
          "2024-04-29T00:00:00.000000000",
          "2024-04-30T00:00:00.000000000",
          "2024-05-02T00:00:00.000000000",
          "2024-05-03T00:00:00.000000000",
          "2024-05-06T00:00:00.000000000",
          "2024-05-07T00:00:00.000000000",
          "2024-05-08T00:00:00.000000000",
          "2024-05-09T00:00:00.000000000",
          "2024-05-10T00:00:00.000000000",
          "2024-05-11T00:00:00.000000000",
          "2024-05-12T00:00:00.000000000",
          "2024-05-13T00:00:00.000000000",
          "2024-05-14T00:00:00.000000000",
          "2024-05-15T00:00:00.000000000",
          "2024-05-16T00:00:00.000000000",
          "2024-05-17T00:00:00.000000000",
          "2024-05-18T00:00:00.000000000",
          "2024-05-19T00:00:00.000000000",
          "2024-05-20T00:00:00.000000000",
          "2024-05-21T00:00:00.000000000",
          "2024-05-22T00:00:00.000000000",
          "2024-05-23T00:00:00.000000000",
          "2024-05-24T00:00:00.000000000",
          "2024-05-25T00:00:00.000000000",
          "2024-05-26T00:00:00.000000000",
          "2024-05-27T00:00:00.000000000",
          "2024-05-28T00:00:00.000000000",
          "2024-05-29T00:00:00.000000000",
          "2024-05-30T00:00:00.000000000",
          "2024-05-31T00:00:00.000000000",
          "2024-06-01T00:00:00.000000000",
          "2024-06-02T00:00:00.000000000",
          "2024-06-03T00:00:00.000000000",
          "2024-06-04T00:00:00.000000000",
          "2024-06-05T00:00:00.000000000",
          "2024-06-06T00:00:00.000000000",
          "2024-06-07T00:00:00.000000000",
          "2024-06-08T00:00:00.000000000",
          "2024-06-09T00:00:00.000000000",
          "2024-06-10T00:00:00.000000000",
          "2024-06-11T00:00:00.000000000",
          "2024-06-12T00:00:00.000000000",
          "2024-06-13T00:00:00.000000000",
          "2024-06-14T00:00:00.000000000",
          "2024-06-15T00:00:00.000000000",
          "2024-06-16T00:00:00.000000000",
          "2024-06-17T00:00:00.000000000",
          "2024-06-18T00:00:00.000000000",
          "2024-06-19T00:00:00.000000000",
          "2024-06-20T00:00:00.000000000",
          "2024-06-21T00:00:00.000000000",
          "2024-06-22T00:00:00.000000000",
          "2024-06-23T00:00:00.000000000",
          "2024-06-24T00:00:00.000000000",
          "2024-06-25T00:00:00.000000000",
          "2024-06-26T00:00:00.000000000",
          "2024-06-27T00:00:00.000000000",
          "2024-06-28T00:00:00.000000000",
          "2024-06-29T00:00:00.000000000",
          "2024-06-30T00:00:00.000000000",
          "2024-07-01T00:00:00.000000000",
          "2024-07-02T00:00:00.000000000",
          "2024-07-03T00:00:00.000000000",
          "2024-07-04T00:00:00.000000000",
          "2024-07-05T00:00:00.000000000",
          "2024-07-06T00:00:00.000000000",
          "2024-07-07T00:00:00.000000000",
          "2024-07-08T00:00:00.000000000",
          "2024-07-09T00:00:00.000000000",
          "2024-07-10T00:00:00.000000000",
          "2024-07-11T00:00:00.000000000",
          "2024-07-12T00:00:00.000000000",
          "2024-07-13T00:00:00.000000000",
          "2024-07-14T00:00:00.000000000",
          "2024-07-15T00:00:00.000000000",
          "2024-07-16T00:00:00.000000000",
          "2024-07-17T00:00:00.000000000",
          "2024-07-18T00:00:00.000000000",
          "2024-07-19T00:00:00.000000000",
          "2024-07-20T00:00:00.000000000",
          "2024-07-21T00:00:00.000000000",
          "2024-07-22T00:00:00.000000000",
          "2024-07-23T00:00:00.000000000",
          "2024-07-24T00:00:00.000000000",
          "2024-07-25T00:00:00.000000000",
          "2024-07-26T00:00:00.000000000",
          "2024-07-27T00:00:00.000000000",
          "2024-07-28T00:00:00.000000000",
          "2024-07-29T00:00:00.000000000",
          "2024-07-30T00:00:00.000000000",
          "2024-07-31T00:00:00.000000000",
          "2024-08-01T00:00:00.000000000",
          "2024-08-02T00:00:00.000000000",
          "2024-08-03T00:00:00.000000000",
          "2024-08-04T00:00:00.000000000",
          "2024-08-05T00:00:00.000000000",
          "2024-08-06T00:00:00.000000000",
          "2024-08-07T00:00:00.000000000",
          "2024-08-08T00:00:00.000000000",
          "2024-08-09T00:00:00.000000000",
          "2024-08-10T00:00:00.000000000",
          "2024-08-11T00:00:00.000000000",
          "2024-08-12T00:00:00.000000000",
          "2024-08-13T00:00:00.000000000",
          "2024-08-14T00:00:00.000000000",
          "2024-08-15T00:00:00.000000000",
          "2024-08-16T00:00:00.000000000",
          "2024-08-17T00:00:00.000000000",
          "2024-08-18T00:00:00.000000000",
          "2024-08-19T00:00:00.000000000",
          "2024-08-20T00:00:00.000000000",
          "2024-08-21T00:00:00.000000000",
          "2024-08-22T00:00:00.000000000",
          "2024-08-23T00:00:00.000000000",
          "2024-08-24T00:00:00.000000000",
          "2024-08-25T00:00:00.000000000",
          "2024-08-26T00:00:00.000000000",
          "2024-08-27T00:00:00.000000000",
          "2024-08-28T00:00:00.000000000",
          "2024-08-29T00:00:00.000000000",
          "2024-08-30T00:00:00.000000000",
          "2024-08-31T00:00:00.000000000",
          "2024-09-01T00:00:00.000000000",
          "2024-09-02T00:00:00.000000000",
          "2024-09-03T00:00:00.000000000",
          "2024-09-04T00:00:00.000000000",
          "2024-09-05T00:00:00.000000000",
          "2024-09-06T00:00:00.000000000",
          "2024-09-07T00:00:00.000000000",
          "2024-09-08T00:00:00.000000000",
          "2024-09-09T00:00:00.000000000",
          "2024-09-10T00:00:00.000000000",
          "2024-09-11T00:00:00.000000000",
          "2024-09-12T00:00:00.000000000",
          "2024-09-13T00:00:00.000000000",
          "2024-09-14T00:00:00.000000000",
          "2024-09-15T00:00:00.000000000",
          "2024-09-16T00:00:00.000000000",
          "2024-09-17T00:00:00.000000000",
          "2024-09-18T00:00:00.000000000",
          "2024-09-19T00:00:00.000000000",
          "2024-09-20T00:00:00.000000000",
          "2024-09-21T00:00:00.000000000",
          "2024-09-22T00:00:00.000000000",
          "2024-09-23T00:00:00.000000000",
          "2024-09-24T00:00:00.000000000",
          "2024-09-25T00:00:00.000000000",
          "2024-09-26T00:00:00.000000000",
          "2024-09-27T00:00:00.000000000",
          "2024-09-28T00:00:00.000000000",
          "2024-09-29T00:00:00.000000000",
          "2024-09-30T00:00:00.000000000",
          "2024-10-01T00:00:00.000000000",
          "2024-10-02T00:00:00.000000000",
          "2024-10-03T00:00:00.000000000",
          "2024-10-04T00:00:00.000000000",
          "2024-10-05T00:00:00.000000000",
          "2024-10-06T00:00:00.000000000",
          "2024-10-07T00:00:00.000000000",
          "2024-10-08T00:00:00.000000000",
          "2024-10-09T00:00:00.000000000",
          "2024-10-10T00:00:00.000000000",
          "2024-10-11T00:00:00.000000000",
          "2024-10-12T00:00:00.000000000",
          "2024-10-13T00:00:00.000000000",
          "2024-10-14T00:00:00.000000000",
          "2024-10-15T00:00:00.000000000",
          "2024-10-16T00:00:00.000000000",
          "2024-10-17T00:00:00.000000000",
          "2024-10-18T00:00:00.000000000",
          "2024-10-19T00:00:00.000000000",
          "2024-10-20T00:00:00.000000000",
          "2024-10-21T00:00:00.000000000",
          "2024-10-22T00:00:00.000000000",
          "2024-10-23T00:00:00.000000000",
          "2024-10-24T00:00:00.000000000",
          "2024-10-25T00:00:00.000000000",
          "2024-10-26T00:00:00.000000000",
          "2024-10-27T00:00:00.000000000",
          "2024-10-28T00:00:00.000000000",
          "2024-10-29T00:00:00.000000000",
          "2024-10-30T00:00:00.000000000",
          "2024-10-31T00:00:00.000000000",
          "2024-11-01T00:00:00.000000000",
          "2024-11-02T00:00:00.000000000",
          "2024-11-03T00:00:00.000000000",
          "2024-11-04T00:00:00.000000000",
          "2024-11-05T00:00:00.000000000",
          "2024-11-06T00:00:00.000000000",
          "2024-11-07T00:00:00.000000000",
          "2024-11-08T00:00:00.000000000",
          "2024-11-09T00:00:00.000000000",
          "2024-11-10T00:00:00.000000000",
          "2024-11-11T00:00:00.000000000",
          "2024-11-12T00:00:00.000000000",
          "2024-11-13T00:00:00.000000000",
          "2024-11-14T00:00:00.000000000",
          "2024-11-15T00:00:00.000000000",
          "2024-11-16T00:00:00.000000000",
          "2024-11-17T00:00:00.000000000",
          "2024-11-18T00:00:00.000000000",
          "2024-11-19T00:00:00.000000000",
          "2024-11-20T00:00:00.000000000",
          "2024-11-21T00:00:00.000000000",
          "2024-11-22T00:00:00.000000000",
          "2024-11-23T00:00:00.000000000",
          "2024-11-24T00:00:00.000000000",
          "2024-11-25T00:00:00.000000000",
          "2024-11-26T00:00:00.000000000",
          "2024-11-28T00:00:00.000000000",
          "2024-11-29T00:00:00.000000000",
          "2024-11-30T00:00:00.000000000",
          "2024-12-01T00:00:00.000000000",
          "2024-12-02T00:00:00.000000000",
          "2024-12-03T00:00:00.000000000",
          "2024-12-04T00:00:00.000000000",
          "2024-12-05T00:00:00.000000000",
          "2024-12-06T00:00:00.000000000",
          "2024-12-07T00:00:00.000000000",
          "2024-12-08T00:00:00.000000000",
          "2024-12-09T00:00:00.000000000",
          "2024-12-10T00:00:00.000000000",
          "2024-12-11T00:00:00.000000000",
          "2024-12-12T00:00:00.000000000",
          "2024-12-13T00:00:00.000000000",
          "2024-12-14T00:00:00.000000000",
          "2024-12-15T00:00:00.000000000",
          "2024-12-16T00:00:00.000000000",
          "2024-12-17T00:00:00.000000000",
          "2024-12-18T00:00:00.000000000",
          "2024-12-19T00:00:00.000000000",
          "2024-12-20T00:00:00.000000000",
          "2024-12-21T00:00:00.000000000",
          "2024-12-22T00:00:00.000000000",
          "2024-12-23T00:00:00.000000000",
          "2024-12-24T00:00:00.000000000",
          "2024-12-25T00:00:00.000000000",
          "2024-12-26T00:00:00.000000000",
          "2024-12-27T00:00:00.000000000",
          "2024-12-28T00:00:00.000000000",
          "2024-12-29T00:00:00.000000000",
          "2024-12-30T00:00:00.000000000",
          "2024-12-31T00:00:00.000000000",
          "2025-01-02T00:00:00.000000000",
          "2025-01-03T00:00:00.000000000",
          "2025-01-04T00:00:00.000000000",
          "2025-01-05T00:00:00.000000000",
          "2025-01-06T00:00:00.000000000",
          "2025-01-07T00:00:00.000000000",
          "2025-01-08T00:00:00.000000000",
          "2025-01-09T00:00:00.000000000",
          "2025-01-10T00:00:00.000000000",
          "2025-01-11T00:00:00.000000000",
          "2025-01-12T00:00:00.000000000",
          "2025-01-13T00:00:00.000000000",
          "2025-01-14T00:00:00.000000000",
          "2025-01-15T00:00:00.000000000",
          "2025-01-16T00:00:00.000000000",
          "2025-01-17T00:00:00.000000000",
          "2025-01-18T00:00:00.000000000",
          "2025-01-20T00:00:00.000000000",
          "2025-01-21T00:00:00.000000000",
          "2025-01-22T00:00:00.000000000",
          "2025-01-24T00:00:00.000000000",
          "2025-01-25T00:00:00.000000000",
          "2025-01-26T00:00:00.000000000",
          "2025-01-27T00:00:00.000000000",
          "2025-01-28T00:00:00.000000000",
          "2025-01-29T00:00:00.000000000",
          "2025-01-30T00:00:00.000000000",
          "2025-01-31T00:00:00.000000000",
          "2025-02-01T00:00:00.000000000",
          "2025-02-02T00:00:00.000000000",
          "2025-02-03T00:00:00.000000000",
          "2025-02-04T00:00:00.000000000",
          "2025-02-05T00:00:00.000000000",
          "2025-02-06T00:00:00.000000000",
          "2025-02-07T00:00:00.000000000",
          "2025-02-08T00:00:00.000000000",
          "2025-02-09T00:00:00.000000000",
          "2025-02-10T00:00:00.000000000",
          "2025-02-11T00:00:00.000000000",
          "2025-02-12T00:00:00.000000000",
          "2025-02-13T00:00:00.000000000",
          "2025-02-14T00:00:00.000000000",
          "2025-02-15T00:00:00.000000000",
          "2025-02-16T00:00:00.000000000",
          "2025-02-17T00:00:00.000000000",
          "2025-02-18T00:00:00.000000000",
          "2025-02-19T00:00:00.000000000",
          "2025-02-20T00:00:00.000000000",
          "2025-02-21T00:00:00.000000000",
          "2025-02-22T00:00:00.000000000",
          "2025-02-23T00:00:00.000000000",
          "2025-02-24T00:00:00.000000000",
          "2025-02-25T00:00:00.000000000",
          "2025-02-26T00:00:00.000000000",
          "2025-02-27T00:00:00.000000000",
          "2025-02-28T00:00:00.000000000",
          "2025-03-01T00:00:00.000000000",
          "2025-03-02T00:00:00.000000000",
          "2025-03-03T00:00:00.000000000",
          "2025-03-04T00:00:00.000000000",
          "2025-03-05T00:00:00.000000000",
          "2025-03-06T00:00:00.000000000",
          "2025-03-07T00:00:00.000000000",
          "2025-03-08T00:00:00.000000000",
          "2025-03-09T00:00:00.000000000",
          "2025-03-10T00:00:00.000000000",
          "2025-03-11T00:00:00.000000000",
          "2025-03-12T00:00:00.000000000",
          "2025-03-13T00:00:00.000000000",
          "2025-03-14T00:00:00.000000000",
          "2025-03-15T00:00:00.000000000",
          "2025-03-16T00:00:00.000000000",
          "2025-03-17T00:00:00.000000000",
          "2025-03-18T00:00:00.000000000",
          "2025-03-19T00:00:00.000000000",
          "2025-03-20T00:00:00.000000000",
          "2025-03-21T00:00:00.000000000",
          "2025-03-22T00:00:00.000000000",
          "2025-03-23T00:00:00.000000000"
         ],
         "y": {
          "bdata": "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",
          "dtype": "f8"
         }
        },
        {
         "line": {
          "color": "green",
          "dash": "dot",
          "width": 3
         },
         "mode": "lines+markers",
         "name": "Forecast",
         "type": "scatter",
         "x": [
          "2025-03-24T00:00:00.000000000",
          "2025-03-25T00:00:00.000000000",
          "2025-03-26T00:00:00.000000000",
          "2025-03-27T00:00:00.000000000",
          "2025-03-28T00:00:00.000000000",
          "2025-03-29T00:00:00.000000000",
          "2025-03-30T00:00:00.000000000"
         ],
         "y": [
          482.6342857142858,
          482.6342857142858,
          482.6342857142858,
          482.6342857142858,
          482.6342857142858,
          482.6342857142858,
          482.6342857142858
         ]
        }
       ],
       "layout": {
        "annotations": [
         {
          "arrowhead": 2,
          "showarrow": true,
          "text": "Forecast Start",
          "x": "2025-03-23T00:00:00",
          "y": 836.66
         }
        ],
        "height": 500,
        "shapes": [
         {
          "line": {
           "color": "gray",
           "dash": "dash"
          },
          "type": "line",
          "x0": "2025-03-23T00:00:00",
          "x1": "2025-03-23T00:00:00",
          "y0": 23.02,
          "y1": 836.66
         }
        ],
        "template": {
         "data": {
          "bar": [
           {
            "error_x": {
             "color": "#2a3f5f"
            },
            "error_y": {
             "color": "#2a3f5f"
            },
            "marker": {
             "line": {
              "color": "#E5ECF6",
              "width": 0.5
             },
             "pattern": {
              "fillmode": "overlay",
              "size": 10,
              "solidity": 0.2
             }
            },
            "type": "bar"
           }
          ],
          "barpolar": [
           {
            "marker": {
             "line": {
              "color": "#E5ECF6",
              "width": 0.5
             },
             "pattern": {
              "fillmode": "overlay",
              "size": 10,
              "solidity": 0.2
             }
            },
            "type": "barpolar"
           }
          ],
          "carpet": [
           {
            "aaxis": {
             "endlinecolor": "#2a3f5f",
             "gridcolor": "white",
             "linecolor": "white",
             "minorgridcolor": "white",
             "startlinecolor": "#2a3f5f"
            },
            "baxis": {
             "endlinecolor": "#2a3f5f",
             "gridcolor": "white",
             "linecolor": "white",
             "minorgridcolor": "white",
             "startlinecolor": "#2a3f5f"
            },
            "type": "carpet"
           }
          ],
          "choropleth": [
           {
            "colorbar": {
             "outlinewidth": 0,
             "ticks": ""
            },
            "type": "choropleth"
           }
          ],
          "contour": [
           {
            "colorbar": {
             "outlinewidth": 0,
             "ticks": ""
            },
            "colorscale": [
             [
              0,
              "#0d0887"
             ],
             [
              0.1111111111111111,
              "#46039f"
             ],
             [
              0.2222222222222222,
              "#7201a8"
             ],
             [
              0.3333333333333333,
              "#9c179e"
             ],
             [
              0.4444444444444444,
              "#bd3786"
             ],
             [
              0.5555555555555556,
              "#d8576b"
             ],
             [
              0.6666666666666666,
              "#ed7953"
             ],
             [
              0.7777777777777778,
              "#fb9f3a"
             ],
             [
              0.8888888888888888,
              "#fdca26"
             ],
             [
              1,
              "#f0f921"
             ]
            ],
            "type": "contour"
           }
          ],
          "contourcarpet": [
           {
            "colorbar": {
             "outlinewidth": 0,
             "ticks": ""
            },
            "type": "contourcarpet"
           }
          ],
          "heatmap": [
           {
            "colorbar": {
             "outlinewidth": 0,
             "ticks": ""
            },
            "colorscale": [
             [
              0,
              "#0d0887"
             ],
             [
              0.1111111111111111,
              "#46039f"
             ],
             [
              0.2222222222222222,
              "#7201a8"
             ],
             [
              0.3333333333333333,
              "#9c179e"
             ],
             [
              0.4444444444444444,
              "#bd3786"
             ],
             [
              0.5555555555555556,
              "#d8576b"
             ],
             [
              0.6666666666666666,
              "#ed7953"
             ],
             [
              0.7777777777777778,
              "#fb9f3a"
             ],
             [
              0.8888888888888888,
              "#fdca26"
             ],
             [
              1,
              "#f0f921"
             ]
            ],
            "type": "heatmap"
           }
          ],
          "histogram": [
           {
            "marker": {
             "pattern": {
              "fillmode": "overlay",
              "size": 10,
              "solidity": 0.2
             }
            },
            "type": "histogram"
           }
          ],
          "histogram2d": [
           {
            "colorbar": {
             "outlinewidth": 0,
             "ticks": ""
            },
            "colorscale": [
             [
              0,
              "#0d0887"
             ],
             [
              0.1111111111111111,
              "#46039f"
             ],
             [
              0.2222222222222222,
              "#7201a8"
             ],
             [
              0.3333333333333333,
              "#9c179e"
             ],
             [
              0.4444444444444444,
              "#bd3786"
             ],
             [
              0.5555555555555556,
              "#d8576b"
             ],
             [
              0.6666666666666666,
              "#ed7953"
             ],
             [
              0.7777777777777778,
              "#fb9f3a"
             ],
             [
              0.8888888888888888,
              "#fdca26"
             ],
             [
              1,
              "#f0f921"
             ]
            ],
            "type": "histogram2d"
           }
          ],
          "histogram2dcontour": [
           {
            "colorbar": {
             "outlinewidth": 0,
             "ticks": ""
            },
            "colorscale": [
             [
              0,
              "#0d0887"
             ],
             [
              0.1111111111111111,
              "#46039f"
             ],
             [
              0.2222222222222222,
              "#7201a8"
             ],
             [
              0.3333333333333333,
              "#9c179e"
             ],
             [
              0.4444444444444444,
              "#bd3786"
             ],
             [
              0.5555555555555556,
              "#d8576b"
             ],
             [
              0.6666666666666666,
              "#ed7953"
             ],
             [
              0.7777777777777778,
              "#fb9f3a"
             ],
             [
              0.8888888888888888,
              "#fdca26"
             ],
             [
              1,
              "#f0f921"
             ]
            ],
            "type": "histogram2dcontour"
           }
          ],
          "mesh3d": [
           {
            "colorbar": {
             "outlinewidth": 0,
             "ticks": ""
            },
            "type": "mesh3d"
           }
          ],
          "parcoords": [
           {
            "line": {
             "colorbar": {
              "outlinewidth": 0,
              "ticks": ""
             }
            },
            "type": "parcoords"
           }
          ],
          "pie": [
           {
            "automargin": true,
            "type": "pie"
           }
          ],
          "scatter": [
           {
            "fillpattern": {
             "fillmode": "overlay",
             "size": 10,
             "solidity": 0.2
            },
            "type": "scatter"
           }
          ],
          "scatter3d": [
           {
            "line": {
             "colorbar": {
              "outlinewidth": 0,
              "ticks": ""
             }
            },
            "marker": {
             "colorbar": {
              "outlinewidth": 0,
              "ticks": ""
             }
            },
            "type": "scatter3d"
           }
          ],
          "scattercarpet": [
           {
            "marker": {
             "colorbar": {
              "outlinewidth": 0,
              "ticks": ""
             }
            },
            "type": "scattercarpet"
           }
          ],
          "scattergeo": [
           {
            "marker": {
             "colorbar": {
              "outlinewidth": 0,
              "ticks": ""
             }
            },
            "type": "scattergeo"
           }
          ],
          "scattergl": [
           {
            "marker": {
             "colorbar": {
              "outlinewidth": 0,
              "ticks": ""
             }
            },
            "type": "scattergl"
           }
          ],
          "scattermap": [
           {
            "marker": {
             "colorbar": {
              "outlinewidth": 0,
              "ticks": ""
             }
            },
            "type": "scattermap"
           }
          ],
          "scattermapbox": [
           {
            "marker": {
             "colorbar": {
              "outlinewidth": 0,
              "ticks": ""
             }
            },
            "type": "scattermapbox"
           }
          ],
          "scatterpolar": [
           {
            "marker": {
             "colorbar": {
              "outlinewidth": 0,
              "ticks": ""
             }
            },
            "type": "scatterpolar"
           }
          ],
          "scatterpolargl": [
           {
            "marker": {
             "colorbar": {
              "outlinewidth": 0,
              "ticks": ""
             }
            },
            "type": "scatterpolargl"
           }
          ],
          "scatterternary": [
           {
            "marker": {
             "colorbar": {
              "outlinewidth": 0,
              "ticks": ""
             }
            },
            "type": "scatterternary"
           }
          ],
          "surface": [
           {
            "colorbar": {
             "outlinewidth": 0,
             "ticks": ""
            },
            "colorscale": [
             [
              0,
              "#0d0887"
             ],
             [
              0.1111111111111111,
              "#46039f"
             ],
             [
              0.2222222222222222,
              "#7201a8"
             ],
             [
              0.3333333333333333,
              "#9c179e"
             ],
             [
              0.4444444444444444,
              "#bd3786"
             ],
             [
              0.5555555555555556,
              "#d8576b"
             ],
             [
              0.6666666666666666,
              "#ed7953"
             ],
             [
              0.7777777777777778,
              "#fb9f3a"
             ],
             [
              0.8888888888888888,
              "#fdca26"
             ],
             [
              1,
              "#f0f921"
             ]
            ],
            "type": "surface"
           }
          ],
          "table": [
           {
            "cells": {
             "fill": {
              "color": "#EBF0F8"
             },
             "line": {
              "color": "white"
             }
            },
            "header": {
             "fill": {
              "color": "#C8D4E3"
             },
             "line": {
              "color": "white"
             }
            },
            "type": "table"
           }
          ]
         },
         "layout": {
          "annotationdefaults": {
           "arrowcolor": "#2a3f5f",
           "arrowhead": 0,
           "arrowwidth": 1
          },
          "autotypenumbers": "strict",
          "coloraxis": {
           "colorbar": {
            "outlinewidth": 0,
            "ticks": ""
           }
          },
          "colorscale": {
           "diverging": [
            [
             0,
             "#8e0152"
            ],
            [
             0.1,
             "#c51b7d"
            ],
            [
             0.2,
             "#de77ae"
            ],
            [
             0.3,
             "#f1b6da"
            ],
            [
             0.4,
             "#fde0ef"
            ],
            [
             0.5,
             "#f7f7f7"
            ],
            [
             0.6,
             "#e6f5d0"
            ],
            [
             0.7,
             "#b8e186"
            ],
            [
             0.8,
             "#7fbc41"
            ],
            [
             0.9,
             "#4d9221"
            ],
            [
             1,
             "#276419"
            ]
           ],
           "sequential": [
            [
             0,
             "#0d0887"
            ],
            [
             0.1111111111111111,
             "#46039f"
            ],
            [
             0.2222222222222222,
             "#7201a8"
            ],
            [
             0.3333333333333333,
             "#9c179e"
            ],
            [
             0.4444444444444444,
             "#bd3786"
            ],
            [
             0.5555555555555556,
             "#d8576b"
            ],
            [
             0.6666666666666666,
             "#ed7953"
            ],
            [
             0.7777777777777778,
             "#fb9f3a"
            ],
            [
             0.8888888888888888,
             "#fdca26"
            ],
            [
             1,
             "#f0f921"
            ]
           ],
           "sequentialminus": [
            [
             0,
             "#0d0887"
            ],
            [
             0.1111111111111111,
             "#46039f"
            ],
            [
             0.2222222222222222,
             "#7201a8"
            ],
            [
             0.3333333333333333,
             "#9c179e"
            ],
            [
             0.4444444444444444,
             "#bd3786"
            ],
            [
             0.5555555555555556,
             "#d8576b"
            ],
            [
             0.6666666666666666,
             "#ed7953"
            ],
            [
             0.7777777777777778,
             "#fb9f3a"
            ],
            [
             0.8888888888888888,
             "#fdca26"
            ],
            [
             1,
             "#f0f921"
            ]
           ]
          },
          "colorway": [
           "#636efa",
           "#EF553B",
           "#00cc96",
           "#ab63fa",
           "#FFA15A",
           "#19d3f3",
           "#FF6692",
           "#B6E880",
           "#FF97FF",
           "#FECB52"
          ],
          "font": {
           "color": "#2a3f5f"
          },
          "geo": {
           "bgcolor": "white",
           "lakecolor": "white",
           "landcolor": "#E5ECF6",
           "showlakes": true,
           "showland": true,
           "subunitcolor": "white"
          },
          "hoverlabel": {
           "align": "left"
          },
          "hovermode": "closest",
          "mapbox": {
           "style": "light"
          },
          "paper_bgcolor": "white",
          "plot_bgcolor": "#E5ECF6",
          "polar": {
           "angularaxis": {
            "gridcolor": "white",
            "linecolor": "white",
            "ticks": ""
           },
           "bgcolor": "#E5ECF6",
           "radialaxis": {
            "gridcolor": "white",
            "linecolor": "white",
            "ticks": ""
           }
          },
          "scene": {
           "xaxis": {
            "backgroundcolor": "#E5ECF6",
            "gridcolor": "white",
            "gridwidth": 2,
            "linecolor": "white",
            "showbackground": true,
            "ticks": "",
            "zerolinecolor": "white"
           },
           "yaxis": {
            "backgroundcolor": "#E5ECF6",
            "gridcolor": "white",
            "gridwidth": 2,
            "linecolor": "white",
            "showbackground": true,
            "ticks": "",
            "zerolinecolor": "white"
           },
           "zaxis": {
            "backgroundcolor": "#E5ECF6",
            "gridcolor": "white",
            "gridwidth": 2,
            "linecolor": "white",
            "showbackground": true,
            "ticks": "",
            "zerolinecolor": "white"
           }
          },
          "shapedefaults": {
           "line": {
            "color": "#2a3f5f"
           }
          },
          "ternary": {
           "aaxis": {
            "gridcolor": "white",
            "linecolor": "white",
            "ticks": ""
           },
           "baxis": {
            "gridcolor": "white",
            "linecolor": "white",
            "ticks": ""
           },
           "bgcolor": "#E5ECF6",
           "caxis": {
            "gridcolor": "white",
            "linecolor": "white",
            "ticks": ""
           }
          },
          "title": {
           "x": 0.05
          },
          "xaxis": {
           "automargin": true,
           "gridcolor": "white",
           "linecolor": "white",
           "ticks": "",
           "title": {
            "standoff": 15
           },
           "zerolinecolor": "white",
           "zerolinewidth": 2
          },
          "yaxis": {
           "automargin": true,
           "gridcolor": "white",
           "linecolor": "white",
           "ticks": "",
           "title": {
            "standoff": 15
           },
           "zerolinecolor": "white",
           "zerolinewidth": 2
          }
         }
        },
        "title": {
         "text": "Coffee Sales Forecast - Next 7 Days"
        },
        "xaxis": {
         "title": {
          "text": "Date"
         }
        },
        "yaxis": {
         "title": {
          "text": "Daily Sales ($)"
         }
        }
       }
      }
     },
     "metadata": {},
     "output_type": "display_data"
    },
    {
     "name": "stdout",
     "output_type": "stream",
     "text": [
      "\n",
      "Time series analysis complete! Use these insights for:\n",
      "   Daily operations planning\n",
      "   Revenue optimization\n",
      "   Staff scheduling\n",
      "   Inventory management\n"
     ]
    }
   ],
   "source": [
    "# Moving Average Forecasting and Business Insights\n",
    "print(\"MOVING AVERAGE FORECASTING:\")\n",
    "print(\"=\" * 40)\n",
    "\n",
    "# Calculate moving averages\n",
    "windows = [3, 7, 14]\n",
    "for window in windows:\n",
    "    df[f'ma_{window}'] = df['sales'].rolling(window=window).mean()\n",
    "    df[f'ema_{window}'] = df['sales'].ewm(span=window).mean()\n",
    "\n",
    "# Simple forecasting using last 7-day average\n",
    "forecast_horizon = 7\n",
    "last_7_avg = df['sales'].tail(7).mean()\n",
    "last_14_avg = df['sales'].tail(14).mean()\n",
    "\n",
    "# Create forecast dates\n",
    "last_date = df['date'].max()\n",
    "forecast_dates = pd.date_range(start=last_date + pd.Timedelta(days=1),\n",
    "                              periods=forecast_horizon, freq='D')\n",
    "\n",
    "print(\"FORECASTING RESULTS:\")\n",
    "print(f\"• 7-day average: ${last_7_avg:.0f}\")\n",
    "print(f\"• 14-day average: ${last_14_avg:.0f}\")\n",
    "print(f\"• Forecast for next 7 days: ${last_7_avg:.0f} per day\")\n",
    "print(f\"• Weekly revenue forecast: ${last_7_avg * 7:,.0f}\")\n",
    "\n",
    "# Business insights and recommendations\n",
    "total_revenue = df['sales'].sum()\n",
    "total_days = len(df)\n",
    "growth_rate = ((df['sales'].tail(7).mean() - df['sales'].head(7).mean()) /\n",
    "               df['sales'].head(7).mean() * 100)\n",
    "\n",
    "print(\"\\nBUSINESS INSIGHTS:\")\n",
    "print(f\"• Total revenue period: ${total_revenue:,.0f}\")\n",
    "print(f\"• Average daily revenue: ${df['sales'].mean():,.0f}\")\n",
    "print(f\"• Revenue volatility (CV): {df['sales'].std()/df['sales'].mean():.2%}\")\n",
    "print(f\"• Growth trend: {growth_rate:+.1f}% from start to end\")\n",
    "weekday_only = weekly_avg.drop(['Saturday', 'Sunday'])\n",
    "print(f\"• Best performing weekday: {weekday_only.idxmax()}\")\n",
    "\n",
    "# Actionable recommendations\n",
    "print(\"\\nRECOMMENDATIONS:\")\n",
    "print(f\"• Optimize staffing for {weekly_avg.idxmax()} (highest sales)\")\n",
    "print(f\"• Investigate low performance on {weekly_avg.idxmin()}\")\n",
    "weekend_strategy = ('Premium pricing' if weekend_avg > weekday_avg\n",
    "                   else 'Promotion campaigns')\n",
    "print(f\"• Weekend strategy needed: {weekend_strategy}\")\n",
    "avg_transactions = df['transaction_count'].mean()\n",
    "print(f\"• Inventory planning: Stock for ~{avg_transactions:.0f} daily transactions\")\n",
    "target_revenue = last_7_avg * 1.1\n",
    "print(f\"• Revenue target: Aim for ${target_revenue:.0f}/day (+10% improvement)\")\n",
    "\n",
    "# Create final forecast visualization\n",
    "fig = go.Figure()\n",
    "\n",
    "# Historical data\n",
    "fig.add_trace(go.Scatter(\n",
    "    x=df['date'], y=df['sales'],\n",
    "    mode='lines', name='Historical Sales',\n",
    "    line={'color': 'blue', 'width': 2}\n",
    "))\n",
    "\n",
    "# Moving averages\n",
    "fig.add_trace(go.Scatter(\n",
    "    x=df['date'], y=df['ma_7'],\n",
    "    mode='lines', name='7-day MA',\n",
    "    line={'color': 'red', 'width': 1, 'dash': 'dash'}\n",
    "))\n",
    "\n",
    "# Forecast\n",
    "forecast_sales = [last_7_avg] * forecast_horizon\n",
    "fig.add_trace(go.Scatter(\n",
    "    x=forecast_dates, y=forecast_sales,\n",
    "    mode='lines+markers', name='Forecast',\n",
    "    line={'color': 'green', 'width': 3, 'dash': 'dot'}\n",
    "))\n",
    "\n",
    "# Add vertical line at forecast start (fix the datetime issue)\n",
    "fig.add_shape(\n",
    "    type=\"line\",\n",
    "    x0=last_date, x1=last_date,\n",
    "    y0=df['sales'].min(), y1=df['sales'].max(),\n",
    "    line={'dash': 'dash', 'color': 'gray'}\n",
    ")\n",
    "\n",
    "# Add annotation for forecast start\n",
    "fig.add_annotation(\n",
    "    x=last_date,\n",
    "    y=df['sales'].max(),\n",
    "    text=\"Forecast Start\",\n",
    "    showarrow=True,\n",
    "    arrowhead=2\n",
    ")\n",
    "\n",
    "fig.update_layout(\n",
    "    title='Coffee Sales Forecast - Next 7 Days',\n",
    "    xaxis_title='Date',\n",
    "    yaxis_title='Daily Sales ($)',\n",
    "    height=500\n",
    ")\n",
    "\n",
    "fig.show()\n",
    "\n",
    "print(\"\\nTime series analysis complete! Use these insights for:\")\n",
    "print(\"   Daily operations planning\")\n",
    "print(\"   Revenue optimization\")\n",
    "print(\"   Staff scheduling\")\n",
    "print(\"   Inventory management\")"
   ]
  },
  {
   "cell_type": "markdown",
   "id": "a45da5d8",
   "metadata": {},
   "source": [
    "---\n",
    "\n",
    "## Summary and Next Steps\n",
    "\n",
    "### **What You've Accomplished:**\n",
    "- **Time Series Mastery**: Analyzed real coffee sales data with temporal patterns\n",
    "- **Forecasting Skills**: Implemented moving average techniques for business predictions\n",
    "- **Trend Analysis**: Identified seasonal patterns and growth trajectories\n",
    "- **Statistical Validation**: Applied stationarity tests and decomposition methods\n",
    "- **Business Strategy**: Generated actionable forecasts for operational planning\n",
    "\n",
    "### **Key Time Series Concepts Mastered:**\n",
    "1. **Data Preparation**: Aggregation and time-based feature engineering\n",
    "2. **Pattern Recognition**: Weekly, monthly, and seasonal trend identification\n",
    "3. **Forecasting Methods**: Moving averages, exponential smoothing principles\n",
    "4. **Model Validation**: Forecast accuracy measurement and interpretation\n",
    "5. **Business Application**: Revenue predictions and operational recommendations\n",
    "\n",
    "### ☕ **Coffee Sales Insights Discovered:**\n",
    "- **Temporal Patterns**: Peak sales periods and optimal operating hours\n",
    "- **Forecasting Accuracy**: Reliable 7-day revenue predictions for planning\n",
    "- **Seasonal Trends**: Weekend vs weekday performance differences\n",
    "- **Growth Trajectory**: Historical trends informing future business strategy\n",
    "- **Operational Intelligence**: Data-driven recommendations for inventory and staffing\n",
    "\n",
    "### **Next Learning Paths:**\n",
    "\n",
    "#### **Advanced Time Series Techniques:**\n",
    "- **ARIMA Models**: `notebooks/tier3_timeseries/Tier3_ARIMA.ipynb` - Sophisticated forecasting\n",
    "- **Exponential Smoothing**: `Tier3_ExponentialSmoothing.ipynb` - Handle seasonality better\n",
    "- **Spectral Analysis**: `Tier3_FourierAnalysis.ipynb` - Frequency domain insights\n",
    "\n",
    "#### **Complementary Analytics Skills:**\n",
    "- **Anomaly Detection**: `notebooks/tier6_anomaly/Tier6_StatAnomaly.ipynb` - Spot unusual sales patterns\n",
    "- **Machine Learning**: Apply regression models to time series prediction\n",
    "- **Clustering**: Group similar time periods for targeted strategies\n",
    "\n",
    "### 🏢 **Business Applications:**\n",
    "- **Revenue Forecasting**: Build quarterly and annual financial projections\n",
    "- **Inventory Management**: Optimize stock levels based on demand predictions\n",
    "- **Staffing Optimization**: Schedule employees according to predicted busy periods\n",
    "- **Marketing Timing**: Launch campaigns during forecasted peak demand periods\n",
    "\n",
    "### **Professional Skills Developed:**\n",
    "- **Business Intelligence**: Time series dashboards and automated reporting\n",
    "- **Financial Planning**: Revenue forecasting for budgeting and investment decisions\n",
    "- **Operations Research**: Data-driven optimization of business processes\n",
    "- **Risk Management**: Scenario planning using forecast confidence intervals\n",
    "\n",
    "### 🔮 **Forecasting Best Practices:**\n",
    "- **Model Selection**: Choose appropriate techniques based on data characteristics\n",
    "- **Validation Methods**: Proper train/test splitting for temporal data\n",
    "- **Uncertainty Quantification**: Communicate forecast confidence to stakeholders\n",
    "- **Continuous Monitoring**: Update models as new data becomes available\n",
    "\n",
    "### **Expert-Level Applications:**\n",
    "- **Multi-Series Forecasting**: Predict multiple related time series simultaneously\n",
    "- **External Variables**: Incorporate weather, holidays, economic indicators\n",
    "- **Real-Time Updates**: Build streaming analytics pipelines for live forecasting\n",
    "- **Hierarchical Forecasting**: Aggregate forecasts across product lines and regions\n",
    "\n",
    "---\n",
    "\n",
    "> **Complete Your Analytics Journey**: You've now mastered descriptive analytics, machine learning, and time series forecasting - the core pillars of data science!\n",
    "\n",
    "---\n",
    "\n",
    "*Excellent work completing the Time Series Analysis example! You're now equipped with professional forecasting skills essential for business analytics and strategic planning.*"
   ]
  }
 ],
 "metadata": {
  "kernelspec": {
   "display_name": ".venv",
   "language": "python",
   "name": "python3"
  },
  "language_info": {
   "codemirror_mode": {
    "name": "ipython",
    "version": 3
   },
   "file_extension": ".py",
   "mimetype": "text/x-python",
   "name": "python",
   "nbconvert_exporter": "python",
   "pygments_lexer": "ipython3",
   "version": "3.13.7"
  }
 },
 "nbformat": 4,
 "nbformat_minor": 5
}
