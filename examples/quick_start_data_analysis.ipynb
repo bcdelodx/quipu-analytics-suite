{
 "cells": [
  {
   "cell_type": "markdown",
   "id": "aa5bbe12",
   "metadata": {},
   "source": [
    "# Example 1: Quick Start Data Analysis\n",
    "\n",
    "---\n",
    "\n",
    "**Author:** Brandon Deloatch\n",
    "**Affiliation:** Quipu Research Labs, LLC\n",
    "**Date:** 2025-10-02\n",
    "**Version:** v1.0\n",
    "**License:** MIT\n",
    "**Example Type:** Getting Started Tutorial\n",
    "**Based On:** Tier1_Descriptive.ipynb\n",
    "**Estimated Time:** 15 minutes\n",
    "\n",
    "---\n",
    "\n",
    "> **Citation:**\n",
    "> Brandon Deloatch, \"Example 1: Quick Start Data Analysis,\" Quipu Research Labs, LLC, v1.0, 2025-10-02.\n",
    "\n",
    "---\n",
    "\n",
    "*This example notebook is provided \"as-is\" for educational and research purposes. Users assume full responsibility for any results or applications derived from it.*\n",
    "\n",
    "---\n",
    "\n",
    "## Quick Start Guide to Coffee Sales Analytics\n",
    "\n",
    "**Learning Objectives:**\n",
    "- Master basic data loading and preprocessing\n",
    "- Calculate comprehensive descriptive statistics\n",
    "- Create professional business visualizations\n",
    "- Perform statistical tests for business insights\n",
    "- Generate actionable recommendations\n",
    "\n",
    "**Cross-References:**\n",
    "- **Foundation:** `Tier1_Descriptive.ipynb` (statistical foundations)\n",
    "- **Next Steps:** `machine_learning_example.ipynb` (predictive modeling)\n",
    "- **Advanced:** `time_series_example.ipynb` (temporal analysis)\n",
    "\n",
    "**Key Applications:**\n",
    "- Retail analytics and sales optimization\n",
    "- Business intelligence dashboards\n",
    "- Data quality assessment\n",
    "- Exploratory data analysis workflows"
   ]
  },
  {
   "cell_type": "markdown",
   "id": "1c501183",
   "metadata": {},
   "source": [
    "## 1. Import Required Libraries\\n\n",
    "\\n\n",
    "Start by importing the essential libraries for data analysis:"
   ]
  },
  {
   "cell_type": "code",
   "execution_count": 11,
   "id": "ad570d84",
   "metadata": {},
   "outputs": [
    {
     "name": "stdout",
     "output_type": "stream",
     "text": [
      "Example 1: Quick Start Data Analysis\n",
      "==================================================\n",
      "CROSS-REFERENCES:\n",
      "• Prerequisites: None (Entry point for examples)\n",
      "• Next Steps: machine_learning_example.ipynb (predictive modeling)\n",
      "• Next Steps: time_series_example.ipynb (temporal analysis)\n",
      "• Foundation: Tier1_Descriptive.ipynb (statistical theory)\n",
      "• Full Guide: See main notebooks directory for complete analytics suite\n",
      " Libraries loaded successfully - Ready for coffee sales analysis!\n"
     ]
    }
   ],
   "source": [
    "\"\"\"\n",
    "Example 1: Quick Start Data Analysis.\n",
    "\n",
    "This module demonstrates basic data analysis techniques using real coffee sales data.\n",
    "Covers descriptive statistics, visualization, and statistical testing.\n",
    "\n",
    "Author: Brandon Deloatch\n",
    "Date: 2025-10-02\n",
    "\"\"\"\n",
    "\n",
    "# Example 1: Quick Start Data Analysis\n",
    "# ====================================\n",
    "# Professional coffee sales analytics with real business datasets\n",
    "\n",
    "import warnings\n",
    "from scipy.stats import f_oneway, ttest_ind\n",
    "\n",
    "import pandas as pd\n",
    "import matplotlib.pyplot as plt\n",
    "import seaborn as sns\n",
    "import plotly.graph_objects as go\n",
    "from plotly.subplots import make_subplots\n",
    "\n",
    "warnings.filterwarnings('ignore')\n",
    "\n",
    "# Set style for better visualizations\n",
    "plt.style.use('seaborn-v0_8')\n",
    "sns.set_palette(\"husl\")\n",
    "\n",
    "print(\"Example 1: Quick Start Data Analysis\")\n",
    "print(\"=\" * 50)\n",
    "print(\"CROSS-REFERENCES:\")\n",
    "print(\"• Prerequisites: None (Entry point for examples)\")\n",
    "print(\"• Next Steps: machine_learning_example.ipynb (predictive modeling)\")\n",
    "print(\"• Next Steps: time_series_example.ipynb (temporal analysis)\")\n",
    "print(\"• Foundation: Tier1_Descriptive.ipynb (statistical theory)\")\n",
    "print(\"• Full Guide: See main notebooks directory for complete analytics suite\")\n",
    "print(\" Libraries loaded successfully - Ready for coffee sales analysis!\")"
   ]
  },
  {
   "cell_type": "markdown",
   "id": "5aa6297b",
   "metadata": {},
   "source": [
    "## 2. Load Coffee Sales Dataset\n",
    "\n",
    "Load and explore our real Coffee Sales dataset:"
   ]
  },
  {
   "cell_type": "code",
   "execution_count": 12,
   "id": "f78e046b",
   "metadata": {},
   "outputs": [
    {
     "name": "stdout",
     "output_type": "stream",
     "text": [
      "Coffee Sales Dataset loaded successfully!\n",
      "Shape: (3547, 15)\n",
      "Date range: 2024-03-01 to 2025-03-23\n",
      "Total revenue: $112,245.58\n",
      "Average transaction: $31.65\n",
      "Coffee types: 8\n",
      "Payment methods: card\n"
     ]
    },
    {
     "data": {
      "text/html": [
       "<div>\n",
       "<style scoped>\n",
       "    .dataframe tbody tr th:only-of-type {\n",
       "        vertical-align: middle;\n",
       "    }\n",
       "\n",
       "    .dataframe tbody tr th {\n",
       "        vertical-align: top;\n",
       "    }\n",
       "\n",
       "    .dataframe thead th {\n",
       "        text-align: right;\n",
       "    }\n",
       "</style>\n",
       "<table border=\"1\" class=\"dataframe\">\n",
       "  <thead>\n",
       "    <tr style=\"text-align: right;\">\n",
       "      <th></th>\n",
       "      <th>hour_of_day</th>\n",
       "      <th>cash_type</th>\n",
       "      <th>money</th>\n",
       "      <th>coffee_name</th>\n",
       "      <th>Time_of_Day</th>\n",
       "      <th>Weekday</th>\n",
       "      <th>Month_name</th>\n",
       "      <th>Weekdaysort</th>\n",
       "      <th>Monthsort</th>\n",
       "      <th>Date</th>\n",
       "      <th>Time</th>\n",
       "      <th>revenue</th>\n",
       "      <th>day_name</th>\n",
       "      <th>month_name</th>\n",
       "      <th>is_weekend</th>\n",
       "    </tr>\n",
       "  </thead>\n",
       "  <tbody>\n",
       "    <tr>\n",
       "      <th>0</th>\n",
       "      <td>10</td>\n",
       "      <td>card</td>\n",
       "      <td>38.7</td>\n",
       "      <td>Latte</td>\n",
       "      <td>Morning</td>\n",
       "      <td>Fri</td>\n",
       "      <td>Mar</td>\n",
       "      <td>5</td>\n",
       "      <td>3</td>\n",
       "      <td>2024-03-01</td>\n",
       "      <td>10:15:50.520000</td>\n",
       "      <td>38.7</td>\n",
       "      <td>Friday</td>\n",
       "      <td>Mar</td>\n",
       "      <td>False</td>\n",
       "    </tr>\n",
       "    <tr>\n",
       "      <th>1</th>\n",
       "      <td>12</td>\n",
       "      <td>card</td>\n",
       "      <td>38.7</td>\n",
       "      <td>Hot Chocolate</td>\n",
       "      <td>Afternoon</td>\n",
       "      <td>Fri</td>\n",
       "      <td>Mar</td>\n",
       "      <td>5</td>\n",
       "      <td>3</td>\n",
       "      <td>2024-03-01</td>\n",
       "      <td>12:19:22.539000</td>\n",
       "      <td>38.7</td>\n",
       "      <td>Friday</td>\n",
       "      <td>Mar</td>\n",
       "      <td>False</td>\n",
       "    </tr>\n",
       "    <tr>\n",
       "      <th>2</th>\n",
       "      <td>12</td>\n",
       "      <td>card</td>\n",
       "      <td>38.7</td>\n",
       "      <td>Hot Chocolate</td>\n",
       "      <td>Afternoon</td>\n",
       "      <td>Fri</td>\n",
       "      <td>Mar</td>\n",
       "      <td>5</td>\n",
       "      <td>3</td>\n",
       "      <td>2024-03-01</td>\n",
       "      <td>12:20:18.089000</td>\n",
       "      <td>38.7</td>\n",
       "      <td>Friday</td>\n",
       "      <td>Mar</td>\n",
       "      <td>False</td>\n",
       "    </tr>\n",
       "    <tr>\n",
       "      <th>3</th>\n",
       "      <td>13</td>\n",
       "      <td>card</td>\n",
       "      <td>28.9</td>\n",
       "      <td>Americano</td>\n",
       "      <td>Afternoon</td>\n",
       "      <td>Fri</td>\n",
       "      <td>Mar</td>\n",
       "      <td>5</td>\n",
       "      <td>3</td>\n",
       "      <td>2024-03-01</td>\n",
       "      <td>13:46:33.006000</td>\n",
       "      <td>28.9</td>\n",
       "      <td>Friday</td>\n",
       "      <td>Mar</td>\n",
       "      <td>False</td>\n",
       "    </tr>\n",
       "    <tr>\n",
       "      <th>4</th>\n",
       "      <td>13</td>\n",
       "      <td>card</td>\n",
       "      <td>38.7</td>\n",
       "      <td>Latte</td>\n",
       "      <td>Afternoon</td>\n",
       "      <td>Fri</td>\n",
       "      <td>Mar</td>\n",
       "      <td>5</td>\n",
       "      <td>3</td>\n",
       "      <td>2024-03-01</td>\n",
       "      <td>13:48:14.626000</td>\n",
       "      <td>38.7</td>\n",
       "      <td>Friday</td>\n",
       "      <td>Mar</td>\n",
       "      <td>False</td>\n",
       "    </tr>\n",
       "  </tbody>\n",
       "</table>\n",
       "</div>"
      ],
      "text/plain": [
       "   hour_of_day cash_type  money    coffee_name Time_of_Day Weekday Month_name  \\\n",
       "0           10      card   38.7          Latte     Morning     Fri        Mar   \n",
       "1           12      card   38.7  Hot Chocolate   Afternoon     Fri        Mar   \n",
       "2           12      card   38.7  Hot Chocolate   Afternoon     Fri        Mar   \n",
       "3           13      card   28.9      Americano   Afternoon     Fri        Mar   \n",
       "4           13      card   38.7          Latte   Afternoon     Fri        Mar   \n",
       "\n",
       "   Weekdaysort  Monthsort       Date             Time  revenue day_name  \\\n",
       "0            5          3 2024-03-01  10:15:50.520000     38.7   Friday   \n",
       "1            5          3 2024-03-01  12:19:22.539000     38.7   Friday   \n",
       "2            5          3 2024-03-01  12:20:18.089000     38.7   Friday   \n",
       "3            5          3 2024-03-01  13:46:33.006000     28.9   Friday   \n",
       "4            5          3 2024-03-01  13:48:14.626000     38.7   Friday   \n",
       "\n",
       "  month_name  is_weekend  \n",
       "0        Mar       False  \n",
       "1        Mar       False  \n",
       "2        Mar       False  \n",
       "3        Mar       False  \n",
       "4        Mar       False  "
      ]
     },
     "execution_count": 12,
     "metadata": {},
     "output_type": "execute_result"
    }
   ],
   "source": [
    "# Load the Coffee Sales dataset (tab-separated)\n",
    "df = pd.read_csv('../data/Coffee_sales.csv', sep='\\t')\n",
    "\n",
    "# Basic data preprocessing\n",
    "df['Date'] = pd.to_datetime(df['Date'])\n",
    "df['money'] = pd.to_numeric(df['money'], errors='coerce')\n",
    "df = df.dropna(subset=['money'])\n",
    "\n",
    "# Add some useful calculated fields\n",
    "df['revenue'] = df['money']\n",
    "df['day_name'] = df['Date'].dt.day_name()\n",
    "df['month_name'] = df['Month_name']\n",
    "df['is_weekend'] = df['Weekday'].isin(['Sat', 'Sun'])\n",
    "\n",
    "print(\"Coffee Sales Dataset loaded successfully!\")\n",
    "print(f\"Shape: {df.shape}\")\n",
    "print(f\"Date range: {df['Date'].min().date()} to {df['Date'].max().date()}\")\n",
    "print(f\"Total revenue: ${df['revenue'].sum():,.2f}\")\n",
    "print(f\"Average transaction: ${df['revenue'].mean():.2f}\")\n",
    "print(f\"Coffee types: {df['coffee_name'].nunique()}\")\n",
    "print(f\"Payment methods: {', '.join(df['cash_type'].unique())}\")\n",
    "\n",
    "df.head()"
   ]
  },
  {
   "cell_type": "markdown",
   "id": "e534a82b",
   "metadata": {},
   "source": [
    "## 3. Basic Data Exploration\\n\n",
    "\\n\n",
    "Let's explore the dataset structure and basic properties:"
   ]
  },
  {
   "cell_type": "code",
   "execution_count": 13,
   "id": "bbc01a30",
   "metadata": {},
   "outputs": [
    {
     "name": "stdout",
     "output_type": "stream",
     "text": [
      "=== COFFEE SALES DATASET OVERVIEW ===\n",
      "Shape: (3547, 15)\n",
      "\n",
      "Column types:\n",
      "hour_of_day             int64\n",
      "cash_type              object\n",
      "money                 float64\n",
      "coffee_name            object\n",
      "Time_of_Day            object\n",
      "Weekday                object\n",
      "Month_name             object\n",
      "Weekdaysort             int64\n",
      "Monthsort               int64\n",
      "Date           datetime64[ns]\n",
      "Time                   object\n",
      "revenue               float64\n",
      "day_name               object\n",
      "month_name             object\n",
      "is_weekend               bool\n",
      "dtype: object\n",
      "\n",
      "Missing values:\n",
      "hour_of_day    0\n",
      "cash_type      0\n",
      "money          0\n",
      "coffee_name    0\n",
      "Time_of_Day    0\n",
      "Weekday        0\n",
      "Month_name     0\n",
      "Weekdaysort    0\n",
      "Monthsort      0\n",
      "Date           0\n",
      "Time           0\n",
      "revenue        0\n",
      "day_name       0\n",
      "month_name     0\n",
      "is_weekend     0\n",
      "dtype: int64\n",
      "\n",
      "Basic statistics for revenue:\n",
      "count    3547.000000\n",
      "mean       31.645216\n",
      "std         4.877754\n",
      "min        18.120000\n",
      "25%        27.920000\n",
      "50%        32.820000\n",
      "75%        35.760000\n",
      "max        38.700000\n",
      "Name: revenue, dtype: float64\n"
     ]
    }
   ],
   "source": [
    "# Dataset overview\n",
    "print(\"=== COFFEE SALES DATASET OVERVIEW ===\")\n",
    "print(f\"Shape: {df.shape}\")\n",
    "print(\"\\nColumn types:\")\n",
    "print(df.dtypes)\n",
    "\n",
    "print(\"\\nMissing values:\")\n",
    "print(df.isnull().sum())\n",
    "\n",
    "print(\"\\nBasic statistics for revenue:\")\n",
    "print(df['revenue'].describe())"
   ]
  },
  {
   "cell_type": "markdown",
   "id": "577a3616",
   "metadata": {},
   "source": [
    "## 4. Descriptive Statistics\\n\n",
    "\\n\n",
    "Calculate comprehensive descriptive statistics:"
   ]
  },
  {
   "cell_type": "code",
   "execution_count": 14,
   "id": "e741211f",
   "metadata": {},
   "outputs": [
    {
     "name": "stdout",
     "output_type": "stream",
     "text": [
      "COFFEE SALES DESCRIPTIVE STATISTICS:\n",
      "==================================================\n",
      "\n",
      "REVENUE ANALYSIS:\n",
      "• Total Revenue: $112,245.58\n",
      "• Average Transaction: $31.65\n",
      "• Median Transaction: $32.82\n",
      "• Standard Deviation: $4.88\n",
      "• Minimum: $18.12\n",
      "• Maximum: $38.70\n",
      "\n",
      "PAYMENT METHODS:\n",
      "• card: 3547 transactions (100.0%) - Avg: $31.65\n",
      "\n",
      "COFFEE PREFERENCES:\n",
      "• Americano with Milk: 809 orders (22.8%) - Avg: $30.59\n",
      "• Latte: 757 orders (21.3%) - Avg: $35.50\n",
      "• Americano: 564 orders (15.9%) - Avg: $25.98\n",
      "• Cappuccino: 486 orders (13.7%) - Avg: $35.88\n",
      "• Cortado: 287 orders (8.1%) - Avg: $25.73\n",
      "\n",
      "TIME PATTERNS:\n",
      "• Afternoon: 1205 transactions (34.0%) - Avg: $31.64\n",
      "• Morning: 1181 transactions (33.3%) - Avg: $30.42\n",
      "• Night: 1161 transactions (32.7%) - Avg: $32.89\n"
     ]
    }
   ],
   "source": [
    "# Calculate comprehensive descriptive statistics\n",
    "print(\"COFFEE SALES DESCRIPTIVE STATISTICS:\")\n",
    "print(\"=\" * 50)\n",
    "\n",
    "# Revenue statistics\n",
    "print(\"\\nREVENUE ANALYSIS:\")\n",
    "print(f\"• Total Revenue: ${df['revenue'].sum():,.2f}\")\n",
    "print(f\"• Average Transaction: ${df['revenue'].mean():.2f}\")\n",
    "print(f\"• Median Transaction: ${df['revenue'].median():.2f}\")\n",
    "print(f\"• Standard Deviation: ${df['revenue'].std():.2f}\")\n",
    "print(f\"• Minimum: ${df['revenue'].min():.2f}\")\n",
    "print(f\"• Maximum: ${df['revenue'].max():.2f}\")\n",
    "\n",
    "# Payment method check\n",
    "print(f\"\\nPAYMENT METHODS:\")\n",
    "payment_counts = df['cash_type'].value_counts()\n",
    "for method, count in payment_counts.items():\n",
    "    percentage = (count / len(df)) * 100\n",
    "    avg_amount = df[df['cash_type'] == method]['revenue'].mean()\n",
    "    print(f\"• {method}: {count} transactions ({percentage:.1f}%) - Avg: ${avg_amount:.2f}\")\n",
    "\n",
    "# Coffee preferences\n",
    "print(\"\\nCOFFEE PREFERENCES:\")\n",
    "coffee_analysis = df['coffee_name'].value_counts()\n",
    "for coffee, count in coffee_analysis.head().items():\n",
    "    percentage = (count / len(df)) * 100\n",
    "    avg_price = df[df['coffee_name'] == coffee]['revenue'].mean()\n",
    "    print(f\"• {coffee}: {count} orders ({percentage:.1f}%) - Avg: ${avg_price:.2f}\")\n",
    "\n",
    "print(\"\\nTIME PATTERNS:\")\n",
    "time_analysis = df['Time_of_Day'].value_counts()\n",
    "for time_period, count in time_analysis.items():\n",
    "    percentage = (count / len(df)) * 100\n",
    "    avg_revenue = df[df['Time_of_Day'] == time_period]['revenue'].mean()\n",
    "    print(f\"• {time_period}: {count} transactions ({percentage:.1f}%) - Avg: ${avg_revenue:.2f}\")"
   ]
  },
  {
   "cell_type": "markdown",
   "id": "f3f24439",
   "metadata": {},
   "source": [
    "## 5. Interactive Visualizations\\n\n",
    "\\n\n",
    "Create professional interactive charts:"
   ]
  },
  {
   "cell_type": "code",
   "execution_count": 15,
   "id": "a5bce874",
   "metadata": {},
   "outputs": [
    {
     "data": {
      "application/vnd.plotly.v1+json": {
       "config": {
        "plotlyServerURL": "https://plot.ly"
       },
       "data": [
        {
         "marker": {
          "color": "lightblue"
         },
         "name": "Revenue Distribution",
         "nbinsx": 30,
         "type": "histogram",
         "x": {
          "bdata": "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",
          "dtype": "f8"
         }
        }
       ],
       "layout": {
        "showlegend": false,
        "template": {
         "data": {
          "bar": [
           {
            "error_x": {
             "color": "#2a3f5f"
            },
            "error_y": {
             "color": "#2a3f5f"
            },
            "marker": {
             "line": {
              "color": "#E5ECF6",
              "width": 0.5
             },
             "pattern": {
              "fillmode": "overlay",
              "size": 10,
              "solidity": 0.2
             }
            },
            "type": "bar"
           }
          ],
          "barpolar": [
           {
            "marker": {
             "line": {
              "color": "#E5ECF6",
              "width": 0.5
             },
             "pattern": {
              "fillmode": "overlay",
              "size": 10,
              "solidity": 0.2
             }
            },
            "type": "barpolar"
           }
          ],
          "carpet": [
           {
            "aaxis": {
             "endlinecolor": "#2a3f5f",
             "gridcolor": "white",
             "linecolor": "white",
             "minorgridcolor": "white",
             "startlinecolor": "#2a3f5f"
            },
            "baxis": {
             "endlinecolor": "#2a3f5f",
             "gridcolor": "white",
             "linecolor": "white",
             "minorgridcolor": "white",
             "startlinecolor": "#2a3f5f"
            },
            "type": "carpet"
           }
          ],
          "choropleth": [
           {
            "colorbar": {
             "outlinewidth": 0,
             "ticks": ""
            },
            "type": "choropleth"
           }
          ],
          "contour": [
           {
            "colorbar": {
             "outlinewidth": 0,
             "ticks": ""
            },
            "colorscale": [
             [
              0,
              "#0d0887"
             ],
             [
              0.1111111111111111,
              "#46039f"
             ],
             [
              0.2222222222222222,
              "#7201a8"
             ],
             [
              0.3333333333333333,
              "#9c179e"
             ],
             [
              0.4444444444444444,
              "#bd3786"
             ],
             [
              0.5555555555555556,
              "#d8576b"
             ],
             [
              0.6666666666666666,
              "#ed7953"
             ],
             [
              0.7777777777777778,
              "#fb9f3a"
             ],
             [
              0.8888888888888888,
              "#fdca26"
             ],
             [
              1,
              "#f0f921"
             ]
            ],
            "type": "contour"
           }
          ],
          "contourcarpet": [
           {
            "colorbar": {
             "outlinewidth": 0,
             "ticks": ""
            },
            "type": "contourcarpet"
           }
          ],
          "heatmap": [
           {
            "colorbar": {
             "outlinewidth": 0,
             "ticks": ""
            },
            "colorscale": [
             [
              0,
              "#0d0887"
             ],
             [
              0.1111111111111111,
              "#46039f"
             ],
             [
              0.2222222222222222,
              "#7201a8"
             ],
             [
              0.3333333333333333,
              "#9c179e"
             ],
             [
              0.4444444444444444,
              "#bd3786"
             ],
             [
              0.5555555555555556,
              "#d8576b"
             ],
             [
              0.6666666666666666,
              "#ed7953"
             ],
             [
              0.7777777777777778,
              "#fb9f3a"
             ],
             [
              0.8888888888888888,
              "#fdca26"
             ],
             [
              1,
              "#f0f921"
             ]
            ],
            "type": "heatmap"
           }
          ],
          "histogram": [
           {
            "marker": {
             "pattern": {
              "fillmode": "overlay",
              "size": 10,
              "solidity": 0.2
             }
            },
            "type": "histogram"
           }
          ],
          "histogram2d": [
           {
            "colorbar": {
             "outlinewidth": 0,
             "ticks": ""
            },
            "colorscale": [
             [
              0,
              "#0d0887"
             ],
             [
              0.1111111111111111,
              "#46039f"
             ],
             [
              0.2222222222222222,
              "#7201a8"
             ],
             [
              0.3333333333333333,
              "#9c179e"
             ],
             [
              0.4444444444444444,
              "#bd3786"
             ],
             [
              0.5555555555555556,
              "#d8576b"
             ],
             [
              0.6666666666666666,
              "#ed7953"
             ],
             [
              0.7777777777777778,
              "#fb9f3a"
             ],
             [
              0.8888888888888888,
              "#fdca26"
             ],
             [
              1,
              "#f0f921"
             ]
            ],
            "type": "histogram2d"
           }
          ],
          "histogram2dcontour": [
           {
            "colorbar": {
             "outlinewidth": 0,
             "ticks": ""
            },
            "colorscale": [
             [
              0,
              "#0d0887"
             ],
             [
              0.1111111111111111,
              "#46039f"
             ],
             [
              0.2222222222222222,
              "#7201a8"
             ],
             [
              0.3333333333333333,
              "#9c179e"
             ],
             [
              0.4444444444444444,
              "#bd3786"
             ],
             [
              0.5555555555555556,
              "#d8576b"
             ],
             [
              0.6666666666666666,
              "#ed7953"
             ],
             [
              0.7777777777777778,
              "#fb9f3a"
             ],
             [
              0.8888888888888888,
              "#fdca26"
             ],
             [
              1,
              "#f0f921"
             ]
            ],
            "type": "histogram2dcontour"
           }
          ],
          "mesh3d": [
           {
            "colorbar": {
             "outlinewidth": 0,
             "ticks": ""
            },
            "type": "mesh3d"
           }
          ],
          "parcoords": [
           {
            "line": {
             "colorbar": {
              "outlinewidth": 0,
              "ticks": ""
             }
            },
            "type": "parcoords"
           }
          ],
          "pie": [
           {
            "automargin": true,
            "type": "pie"
           }
          ],
          "scatter": [
           {
            "fillpattern": {
             "fillmode": "overlay",
             "size": 10,
             "solidity": 0.2
            },
            "type": "scatter"
           }
          ],
          "scatter3d": [
           {
            "line": {
             "colorbar": {
              "outlinewidth": 0,
              "ticks": ""
             }
            },
            "marker": {
             "colorbar": {
              "outlinewidth": 0,
              "ticks": ""
             }
            },
            "type": "scatter3d"
           }
          ],
          "scattercarpet": [
           {
            "marker": {
             "colorbar": {
              "outlinewidth": 0,
              "ticks": ""
             }
            },
            "type": "scattercarpet"
           }
          ],
          "scattergeo": [
           {
            "marker": {
             "colorbar": {
              "outlinewidth": 0,
              "ticks": ""
             }
            },
            "type": "scattergeo"
           }
          ],
          "scattergl": [
           {
            "marker": {
             "colorbar": {
              "outlinewidth": 0,
              "ticks": ""
             }
            },
            "type": "scattergl"
           }
          ],
          "scattermap": [
           {
            "marker": {
             "colorbar": {
              "outlinewidth": 0,
              "ticks": ""
             }
            },
            "type": "scattermap"
           }
          ],
          "scattermapbox": [
           {
            "marker": {
             "colorbar": {
              "outlinewidth": 0,
              "ticks": ""
             }
            },
            "type": "scattermapbox"
           }
          ],
          "scatterpolar": [
           {
            "marker": {
             "colorbar": {
              "outlinewidth": 0,
              "ticks": ""
             }
            },
            "type": "scatterpolar"
           }
          ],
          "scatterpolargl": [
           {
            "marker": {
             "colorbar": {
              "outlinewidth": 0,
              "ticks": ""
             }
            },
            "type": "scatterpolargl"
           }
          ],
          "scatterternary": [
           {
            "marker": {
             "colorbar": {
              "outlinewidth": 0,
              "ticks": ""
             }
            },
            "type": "scatterternary"
           }
          ],
          "surface": [
           {
            "colorbar": {
             "outlinewidth": 0,
             "ticks": ""
            },
            "colorscale": [
             [
              0,
              "#0d0887"
             ],
             [
              0.1111111111111111,
              "#46039f"
             ],
             [
              0.2222222222222222,
              "#7201a8"
             ],
             [
              0.3333333333333333,
              "#9c179e"
             ],
             [
              0.4444444444444444,
              "#bd3786"
             ],
             [
              0.5555555555555556,
              "#d8576b"
             ],
             [
              0.6666666666666666,
              "#ed7953"
             ],
             [
              0.7777777777777778,
              "#fb9f3a"
             ],
             [
              0.8888888888888888,
              "#fdca26"
             ],
             [
              1,
              "#f0f921"
             ]
            ],
            "type": "surface"
           }
          ],
          "table": [
           {
            "cells": {
             "fill": {
              "color": "#EBF0F8"
             },
             "line": {
              "color": "white"
             }
            },
            "header": {
             "fill": {
              "color": "#C8D4E3"
             },
             "line": {
              "color": "white"
             }
            },
            "type": "table"
           }
          ]
         },
         "layout": {
          "annotationdefaults": {
           "arrowcolor": "#2a3f5f",
           "arrowhead": 0,
           "arrowwidth": 1
          },
          "autotypenumbers": "strict",
          "coloraxis": {
           "colorbar": {
            "outlinewidth": 0,
            "ticks": ""
           }
          },
          "colorscale": {
           "diverging": [
            [
             0,
             "#8e0152"
            ],
            [
             0.1,
             "#c51b7d"
            ],
            [
             0.2,
             "#de77ae"
            ],
            [
             0.3,
             "#f1b6da"
            ],
            [
             0.4,
             "#fde0ef"
            ],
            [
             0.5,
             "#f7f7f7"
            ],
            [
             0.6,
             "#e6f5d0"
            ],
            [
             0.7,
             "#b8e186"
            ],
            [
             0.8,
             "#7fbc41"
            ],
            [
             0.9,
             "#4d9221"
            ],
            [
             1,
             "#276419"
            ]
           ],
           "sequential": [
            [
             0,
             "#0d0887"
            ],
            [
             0.1111111111111111,
             "#46039f"
            ],
            [
             0.2222222222222222,
             "#7201a8"
            ],
            [
             0.3333333333333333,
             "#9c179e"
            ],
            [
             0.4444444444444444,
             "#bd3786"
            ],
            [
             0.5555555555555556,
             "#d8576b"
            ],
            [
             0.6666666666666666,
             "#ed7953"
            ],
            [
             0.7777777777777778,
             "#fb9f3a"
            ],
            [
             0.8888888888888888,
             "#fdca26"
            ],
            [
             1,
             "#f0f921"
            ]
           ],
           "sequentialminus": [
            [
             0,
             "#0d0887"
            ],
            [
             0.1111111111111111,
             "#46039f"
            ],
            [
             0.2222222222222222,
             "#7201a8"
            ],
            [
             0.3333333333333333,
             "#9c179e"
            ],
            [
             0.4444444444444444,
             "#bd3786"
            ],
            [
             0.5555555555555556,
             "#d8576b"
            ],
            [
             0.6666666666666666,
             "#ed7953"
            ],
            [
             0.7777777777777778,
             "#fb9f3a"
            ],
            [
             0.8888888888888888,
             "#fdca26"
            ],
            [
             1,
             "#f0f921"
            ]
           ]
          },
          "colorway": [
           "#636efa",
           "#EF553B",
           "#00cc96",
           "#ab63fa",
           "#FFA15A",
           "#19d3f3",
           "#FF6692",
           "#B6E880",
           "#FF97FF",
           "#FECB52"
          ],
          "font": {
           "color": "#2a3f5f"
          },
          "geo": {
           "bgcolor": "white",
           "lakecolor": "white",
           "landcolor": "#E5ECF6",
           "showlakes": true,
           "showland": true,
           "subunitcolor": "white"
          },
          "hoverlabel": {
           "align": "left"
          },
          "hovermode": "closest",
          "mapbox": {
           "style": "light"
          },
          "paper_bgcolor": "white",
          "plot_bgcolor": "#E5ECF6",
          "polar": {
           "angularaxis": {
            "gridcolor": "white",
            "linecolor": "white",
            "ticks": ""
           },
           "bgcolor": "#E5ECF6",
           "radialaxis": {
            "gridcolor": "white",
            "linecolor": "white",
            "ticks": ""
           }
          },
          "scene": {
           "xaxis": {
            "backgroundcolor": "#E5ECF6",
            "gridcolor": "white",
            "gridwidth": 2,
            "linecolor": "white",
            "showbackground": true,
            "ticks": "",
            "zerolinecolor": "white"
           },
           "yaxis": {
            "backgroundcolor": "#E5ECF6",
            "gridcolor": "white",
            "gridwidth": 2,
            "linecolor": "white",
            "showbackground": true,
            "ticks": "",
            "zerolinecolor": "white"
           },
           "zaxis": {
            "backgroundcolor": "#E5ECF6",
            "gridcolor": "white",
            "gridwidth": 2,
            "linecolor": "white",
            "showbackground": true,
            "ticks": "",
            "zerolinecolor": "white"
           }
          },
          "shapedefaults": {
           "line": {
            "color": "#2a3f5f"
           }
          },
          "ternary": {
           "aaxis": {
            "gridcolor": "white",
            "linecolor": "white",
            "ticks": ""
           },
           "baxis": {
            "gridcolor": "white",
            "linecolor": "white",
            "ticks": ""
           },
           "bgcolor": "#E5ECF6",
           "caxis": {
            "gridcolor": "white",
            "linecolor": "white",
            "ticks": ""
           }
          },
          "title": {
           "x": 0.05
          },
          "xaxis": {
           "automargin": true,
           "gridcolor": "white",
           "linecolor": "white",
           "ticks": "",
           "title": {
            "standoff": 15
           },
           "zerolinecolor": "white",
           "zerolinewidth": 2
          },
          "yaxis": {
           "automargin": true,
           "gridcolor": "white",
           "linecolor": "white",
           "ticks": "",
           "title": {
            "standoff": 15
           },
           "zerolinecolor": "white",
           "zerolinewidth": 2
          }
         }
        },
        "title": {
         "text": "Transaction Revenue Distribution"
        },
        "xaxis": {
         "title": {
          "text": "Transaction Amount ($)"
         }
        },
        "yaxis": {
         "title": {
          "text": "Number of Transactions"
         }
        }
       }
      }
     },
     "metadata": {},
     "output_type": "display_data"
    },
    {
     "data": {
      "application/vnd.plotly.v1+json": {
       "config": {
        "plotlyServerURL": "https://plot.ly"
       },
       "data": [
        {
         "marker": {
          "color": "brown"
         },
         "type": "bar",
         "x": [
          "Americano with Milk",
          "Latte",
          "Americano",
          "Cappuccino",
          "Cortado",
          "Hot Chocolate",
          "Cocoa",
          "Espresso"
         ],
         "y": {
          "bdata": "KQP1AjQC5gEfARQB7wCBAA==",
          "dtype": "i2"
         }
        }
       ],
       "layout": {
        "template": {
         "data": {
          "bar": [
           {
            "error_x": {
             "color": "#2a3f5f"
            },
            "error_y": {
             "color": "#2a3f5f"
            },
            "marker": {
             "line": {
              "color": "#E5ECF6",
              "width": 0.5
             },
             "pattern": {
              "fillmode": "overlay",
              "size": 10,
              "solidity": 0.2
             }
            },
            "type": "bar"
           }
          ],
          "barpolar": [
           {
            "marker": {
             "line": {
              "color": "#E5ECF6",
              "width": 0.5
             },
             "pattern": {
              "fillmode": "overlay",
              "size": 10,
              "solidity": 0.2
             }
            },
            "type": "barpolar"
           }
          ],
          "carpet": [
           {
            "aaxis": {
             "endlinecolor": "#2a3f5f",
             "gridcolor": "white",
             "linecolor": "white",
             "minorgridcolor": "white",
             "startlinecolor": "#2a3f5f"
            },
            "baxis": {
             "endlinecolor": "#2a3f5f",
             "gridcolor": "white",
             "linecolor": "white",
             "minorgridcolor": "white",
             "startlinecolor": "#2a3f5f"
            },
            "type": "carpet"
           }
          ],
          "choropleth": [
           {
            "colorbar": {
             "outlinewidth": 0,
             "ticks": ""
            },
            "type": "choropleth"
           }
          ],
          "contour": [
           {
            "colorbar": {
             "outlinewidth": 0,
             "ticks": ""
            },
            "colorscale": [
             [
              0,
              "#0d0887"
             ],
             [
              0.1111111111111111,
              "#46039f"
             ],
             [
              0.2222222222222222,
              "#7201a8"
             ],
             [
              0.3333333333333333,
              "#9c179e"
             ],
             [
              0.4444444444444444,
              "#bd3786"
             ],
             [
              0.5555555555555556,
              "#d8576b"
             ],
             [
              0.6666666666666666,
              "#ed7953"
             ],
             [
              0.7777777777777778,
              "#fb9f3a"
             ],
             [
              0.8888888888888888,
              "#fdca26"
             ],
             [
              1,
              "#f0f921"
             ]
            ],
            "type": "contour"
           }
          ],
          "contourcarpet": [
           {
            "colorbar": {
             "outlinewidth": 0,
             "ticks": ""
            },
            "type": "contourcarpet"
           }
          ],
          "heatmap": [
           {
            "colorbar": {
             "outlinewidth": 0,
             "ticks": ""
            },
            "colorscale": [
             [
              0,
              "#0d0887"
             ],
             [
              0.1111111111111111,
              "#46039f"
             ],
             [
              0.2222222222222222,
              "#7201a8"
             ],
             [
              0.3333333333333333,
              "#9c179e"
             ],
             [
              0.4444444444444444,
              "#bd3786"
             ],
             [
              0.5555555555555556,
              "#d8576b"
             ],
             [
              0.6666666666666666,
              "#ed7953"
             ],
             [
              0.7777777777777778,
              "#fb9f3a"
             ],
             [
              0.8888888888888888,
              "#fdca26"
             ],
             [
              1,
              "#f0f921"
             ]
            ],
            "type": "heatmap"
           }
          ],
          "histogram": [
           {
            "marker": {
             "pattern": {
              "fillmode": "overlay",
              "size": 10,
              "solidity": 0.2
             }
            },
            "type": "histogram"
           }
          ],
          "histogram2d": [
           {
            "colorbar": {
             "outlinewidth": 0,
             "ticks": ""
            },
            "colorscale": [
             [
              0,
              "#0d0887"
             ],
             [
              0.1111111111111111,
              "#46039f"
             ],
             [
              0.2222222222222222,
              "#7201a8"
             ],
             [
              0.3333333333333333,
              "#9c179e"
             ],
             [
              0.4444444444444444,
              "#bd3786"
             ],
             [
              0.5555555555555556,
              "#d8576b"
             ],
             [
              0.6666666666666666,
              "#ed7953"
             ],
             [
              0.7777777777777778,
              "#fb9f3a"
             ],
             [
              0.8888888888888888,
              "#fdca26"
             ],
             [
              1,
              "#f0f921"
             ]
            ],
            "type": "histogram2d"
           }
          ],
          "histogram2dcontour": [
           {
            "colorbar": {
             "outlinewidth": 0,
             "ticks": ""
            },
            "colorscale": [
             [
              0,
              "#0d0887"
             ],
             [
              0.1111111111111111,
              "#46039f"
             ],
             [
              0.2222222222222222,
              "#7201a8"
             ],
             [
              0.3333333333333333,
              "#9c179e"
             ],
             [
              0.4444444444444444,
              "#bd3786"
             ],
             [
              0.5555555555555556,
              "#d8576b"
             ],
             [
              0.6666666666666666,
              "#ed7953"
             ],
             [
              0.7777777777777778,
              "#fb9f3a"
             ],
             [
              0.8888888888888888,
              "#fdca26"
             ],
             [
              1,
              "#f0f921"
             ]
            ],
            "type": "histogram2dcontour"
           }
          ],
          "mesh3d": [
           {
            "colorbar": {
             "outlinewidth": 0,
             "ticks": ""
            },
            "type": "mesh3d"
           }
          ],
          "parcoords": [
           {
            "line": {
             "colorbar": {
              "outlinewidth": 0,
              "ticks": ""
             }
            },
            "type": "parcoords"
           }
          ],
          "pie": [
           {
            "automargin": true,
            "type": "pie"
           }
          ],
          "scatter": [
           {
            "fillpattern": {
             "fillmode": "overlay",
             "size": 10,
             "solidity": 0.2
            },
            "type": "scatter"
           }
          ],
          "scatter3d": [
           {
            "line": {
             "colorbar": {
              "outlinewidth": 0,
              "ticks": ""
             }
            },
            "marker": {
             "colorbar": {
              "outlinewidth": 0,
              "ticks": ""
             }
            },
            "type": "scatter3d"
           }
          ],
          "scattercarpet": [
           {
            "marker": {
             "colorbar": {
              "outlinewidth": 0,
              "ticks": ""
             }
            },
            "type": "scattercarpet"
           }
          ],
          "scattergeo": [
           {
            "marker": {
             "colorbar": {
              "outlinewidth": 0,
              "ticks": ""
             }
            },
            "type": "scattergeo"
           }
          ],
          "scattergl": [
           {
            "marker": {
             "colorbar": {
              "outlinewidth": 0,
              "ticks": ""
             }
            },
            "type": "scattergl"
           }
          ],
          "scattermap": [
           {
            "marker": {
             "colorbar": {
              "outlinewidth": 0,
              "ticks": ""
             }
            },
            "type": "scattermap"
           }
          ],
          "scattermapbox": [
           {
            "marker": {
             "colorbar": {
              "outlinewidth": 0,
              "ticks": ""
             }
            },
            "type": "scattermapbox"
           }
          ],
          "scatterpolar": [
           {
            "marker": {
             "colorbar": {
              "outlinewidth": 0,
              "ticks": ""
             }
            },
            "type": "scatterpolar"
           }
          ],
          "scatterpolargl": [
           {
            "marker": {
             "colorbar": {
              "outlinewidth": 0,
              "ticks": ""
             }
            },
            "type": "scatterpolargl"
           }
          ],
          "scatterternary": [
           {
            "marker": {
             "colorbar": {
              "outlinewidth": 0,
              "ticks": ""
             }
            },
            "type": "scatterternary"
           }
          ],
          "surface": [
           {
            "colorbar": {
             "outlinewidth": 0,
             "ticks": ""
            },
            "colorscale": [
             [
              0,
              "#0d0887"
             ],
             [
              0.1111111111111111,
              "#46039f"
             ],
             [
              0.2222222222222222,
              "#7201a8"
             ],
             [
              0.3333333333333333,
              "#9c179e"
             ],
             [
              0.4444444444444444,
              "#bd3786"
             ],
             [
              0.5555555555555556,
              "#d8576b"
             ],
             [
              0.6666666666666666,
              "#ed7953"
             ],
             [
              0.7777777777777778,
              "#fb9f3a"
             ],
             [
              0.8888888888888888,
              "#fdca26"
             ],
             [
              1,
              "#f0f921"
             ]
            ],
            "type": "surface"
           }
          ],
          "table": [
           {
            "cells": {
             "fill": {
              "color": "#EBF0F8"
             },
             "line": {
              "color": "white"
             }
            },
            "header": {
             "fill": {
              "color": "#C8D4E3"
             },
             "line": {
              "color": "white"
             }
            },
            "type": "table"
           }
          ]
         },
         "layout": {
          "annotationdefaults": {
           "arrowcolor": "#2a3f5f",
           "arrowhead": 0,
           "arrowwidth": 1
          },
          "autotypenumbers": "strict",
          "coloraxis": {
           "colorbar": {
            "outlinewidth": 0,
            "ticks": ""
           }
          },
          "colorscale": {
           "diverging": [
            [
             0,
             "#8e0152"
            ],
            [
             0.1,
             "#c51b7d"
            ],
            [
             0.2,
             "#de77ae"
            ],
            [
             0.3,
             "#f1b6da"
            ],
            [
             0.4,
             "#fde0ef"
            ],
            [
             0.5,
             "#f7f7f7"
            ],
            [
             0.6,
             "#e6f5d0"
            ],
            [
             0.7,
             "#b8e186"
            ],
            [
             0.8,
             "#7fbc41"
            ],
            [
             0.9,
             "#4d9221"
            ],
            [
             1,
             "#276419"
            ]
           ],
           "sequential": [
            [
             0,
             "#0d0887"
            ],
            [
             0.1111111111111111,
             "#46039f"
            ],
            [
             0.2222222222222222,
             "#7201a8"
            ],
            [
             0.3333333333333333,
             "#9c179e"
            ],
            [
             0.4444444444444444,
             "#bd3786"
            ],
            [
             0.5555555555555556,
             "#d8576b"
            ],
            [
             0.6666666666666666,
             "#ed7953"
            ],
            [
             0.7777777777777778,
             "#fb9f3a"
            ],
            [
             0.8888888888888888,
             "#fdca26"
            ],
            [
             1,
             "#f0f921"
            ]
           ],
           "sequentialminus": [
            [
             0,
             "#0d0887"
            ],
            [
             0.1111111111111111,
             "#46039f"
            ],
            [
             0.2222222222222222,
             "#7201a8"
            ],
            [
             0.3333333333333333,
             "#9c179e"
            ],
            [
             0.4444444444444444,
             "#bd3786"
            ],
            [
             0.5555555555555556,
             "#d8576b"
            ],
            [
             0.6666666666666666,
             "#ed7953"
            ],
            [
             0.7777777777777778,
             "#fb9f3a"
            ],
            [
             0.8888888888888888,
             "#fdca26"
            ],
            [
             1,
             "#f0f921"
            ]
           ]
          },
          "colorway": [
           "#636efa",
           "#EF553B",
           "#00cc96",
           "#ab63fa",
           "#FFA15A",
           "#19d3f3",
           "#FF6692",
           "#B6E880",
           "#FF97FF",
           "#FECB52"
          ],
          "font": {
           "color": "#2a3f5f"
          },
          "geo": {
           "bgcolor": "white",
           "lakecolor": "white",
           "landcolor": "#E5ECF6",
           "showlakes": true,
           "showland": true,
           "subunitcolor": "white"
          },
          "hoverlabel": {
           "align": "left"
          },
          "hovermode": "closest",
          "mapbox": {
           "style": "light"
          },
          "paper_bgcolor": "white",
          "plot_bgcolor": "#E5ECF6",
          "polar": {
           "angularaxis": {
            "gridcolor": "white",
            "linecolor": "white",
            "ticks": ""
           },
           "bgcolor": "#E5ECF6",
           "radialaxis": {
            "gridcolor": "white",
            "linecolor": "white",
            "ticks": ""
           }
          },
          "scene": {
           "xaxis": {
            "backgroundcolor": "#E5ECF6",
            "gridcolor": "white",
            "gridwidth": 2,
            "linecolor": "white",
            "showbackground": true,
            "ticks": "",
            "zerolinecolor": "white"
           },
           "yaxis": {
            "backgroundcolor": "#E5ECF6",
            "gridcolor": "white",
            "gridwidth": 2,
            "linecolor": "white",
            "showbackground": true,
            "ticks": "",
            "zerolinecolor": "white"
           },
           "zaxis": {
            "backgroundcolor": "#E5ECF6",
            "gridcolor": "white",
            "gridwidth": 2,
            "linecolor": "white",
            "showbackground": true,
            "ticks": "",
            "zerolinecolor": "white"
           }
          },
          "shapedefaults": {
           "line": {
            "color": "#2a3f5f"
           }
          },
          "ternary": {
           "aaxis": {
            "gridcolor": "white",
            "linecolor": "white",
            "ticks": ""
           },
           "baxis": {
            "gridcolor": "white",
            "linecolor": "white",
            "ticks": ""
           },
           "bgcolor": "#E5ECF6",
           "caxis": {
            "gridcolor": "white",
            "linecolor": "white",
            "ticks": ""
           }
          },
          "title": {
           "x": 0.05
          },
          "xaxis": {
           "automargin": true,
           "gridcolor": "white",
           "linecolor": "white",
           "ticks": "",
           "title": {
            "standoff": 15
           },
           "zerolinecolor": "white",
           "zerolinewidth": 2
          },
          "yaxis": {
           "automargin": true,
           "gridcolor": "white",
           "linecolor": "white",
           "ticks": "",
           "title": {
            "standoff": 15
           },
           "zerolinecolor": "white",
           "zerolinewidth": 2
          }
         }
        },
        "title": {
         "text": "Top 10 Most Popular Coffee Types"
        },
        "xaxis": {
         "title": {
          "text": "Coffee Type"
         }
        },
        "yaxis": {
         "title": {
          "text": "Number of Sales"
         }
        }
       }
      }
     },
     "metadata": {},
     "output_type": "display_data"
    }
   ],
   "source": [
    "# Distribution plots for coffee sales data\n",
    "fig = go.Figure()\n",
    "fig.add_trace(go.Histogram(\n",
    "    x=df['revenue'], \n",
    "    nbinsx=30,\n",
    "    name='Revenue Distribution',\n",
    "    marker_color='lightblue'\n",
    "))\n",
    "fig.update_layout(\n",
    "    title='Transaction Revenue Distribution',\n",
    "    xaxis_title='Transaction Amount ($)',\n",
    "    yaxis_title='Number of Transactions',\n",
    "    showlegend=False\n",
    ")\n",
    "fig.show()\n",
    "\n",
    "# Coffee type popularity\n",
    "coffee_counts = df['coffee_name'].value_counts().head(10)\n",
    "fig2 = go.Figure()\n",
    "fig2.add_trace(go.Bar(\n",
    "    x=coffee_counts.index,\n",
    "    y=coffee_counts.values,\n",
    "    marker_color='brown'\n",
    "))\n",
    "fig2.update_layout(\n",
    "    title='Top 10 Most Popular Coffee Types',\n",
    "    xaxis_title='Coffee Type',\n",
    "    yaxis_title='Number of Sales'\n",
    ")\n",
    "fig2.show()"
   ]
  },
  {
   "cell_type": "code",
   "execution_count": 16,
   "id": "71c0348d",
   "metadata": {},
   "outputs": [
    {
     "data": {
      "application/vnd.plotly.v1+json": {
       "config": {
        "plotlyServerURL": "https://plot.ly"
       },
       "data": [
        {
         "marker": {
          "color": "green"
         },
         "type": "bar",
         "x": [
          "Afternoon",
          "Morning",
          "Night"
         ],
         "y": {
          "bdata": "AS2Q4qekP0BKjJyVNWw+QNZktycJckBA",
          "dtype": "f8"
         }
        }
       ],
       "layout": {
        "template": {
         "data": {
          "bar": [
           {
            "error_x": {
             "color": "#2a3f5f"
            },
            "error_y": {
             "color": "#2a3f5f"
            },
            "marker": {
             "line": {
              "color": "#E5ECF6",
              "width": 0.5
             },
             "pattern": {
              "fillmode": "overlay",
              "size": 10,
              "solidity": 0.2
             }
            },
            "type": "bar"
           }
          ],
          "barpolar": [
           {
            "marker": {
             "line": {
              "color": "#E5ECF6",
              "width": 0.5
             },
             "pattern": {
              "fillmode": "overlay",
              "size": 10,
              "solidity": 0.2
             }
            },
            "type": "barpolar"
           }
          ],
          "carpet": [
           {
            "aaxis": {
             "endlinecolor": "#2a3f5f",
             "gridcolor": "white",
             "linecolor": "white",
             "minorgridcolor": "white",
             "startlinecolor": "#2a3f5f"
            },
            "baxis": {
             "endlinecolor": "#2a3f5f",
             "gridcolor": "white",
             "linecolor": "white",
             "minorgridcolor": "white",
             "startlinecolor": "#2a3f5f"
            },
            "type": "carpet"
           }
          ],
          "choropleth": [
           {
            "colorbar": {
             "outlinewidth": 0,
             "ticks": ""
            },
            "type": "choropleth"
           }
          ],
          "contour": [
           {
            "colorbar": {
             "outlinewidth": 0,
             "ticks": ""
            },
            "colorscale": [
             [
              0,
              "#0d0887"
             ],
             [
              0.1111111111111111,
              "#46039f"
             ],
             [
              0.2222222222222222,
              "#7201a8"
             ],
             [
              0.3333333333333333,
              "#9c179e"
             ],
             [
              0.4444444444444444,
              "#bd3786"
             ],
             [
              0.5555555555555556,
              "#d8576b"
             ],
             [
              0.6666666666666666,
              "#ed7953"
             ],
             [
              0.7777777777777778,
              "#fb9f3a"
             ],
             [
              0.8888888888888888,
              "#fdca26"
             ],
             [
              1,
              "#f0f921"
             ]
            ],
            "type": "contour"
           }
          ],
          "contourcarpet": [
           {
            "colorbar": {
             "outlinewidth": 0,
             "ticks": ""
            },
            "type": "contourcarpet"
           }
          ],
          "heatmap": [
           {
            "colorbar": {
             "outlinewidth": 0,
             "ticks": ""
            },
            "colorscale": [
             [
              0,
              "#0d0887"
             ],
             [
              0.1111111111111111,
              "#46039f"
             ],
             [
              0.2222222222222222,
              "#7201a8"
             ],
             [
              0.3333333333333333,
              "#9c179e"
             ],
             [
              0.4444444444444444,
              "#bd3786"
             ],
             [
              0.5555555555555556,
              "#d8576b"
             ],
             [
              0.6666666666666666,
              "#ed7953"
             ],
             [
              0.7777777777777778,
              "#fb9f3a"
             ],
             [
              0.8888888888888888,
              "#fdca26"
             ],
             [
              1,
              "#f0f921"
             ]
            ],
            "type": "heatmap"
           }
          ],
          "histogram": [
           {
            "marker": {
             "pattern": {
              "fillmode": "overlay",
              "size": 10,
              "solidity": 0.2
             }
            },
            "type": "histogram"
           }
          ],
          "histogram2d": [
           {
            "colorbar": {
             "outlinewidth": 0,
             "ticks": ""
            },
            "colorscale": [
             [
              0,
              "#0d0887"
             ],
             [
              0.1111111111111111,
              "#46039f"
             ],
             [
              0.2222222222222222,
              "#7201a8"
             ],
             [
              0.3333333333333333,
              "#9c179e"
             ],
             [
              0.4444444444444444,
              "#bd3786"
             ],
             [
              0.5555555555555556,
              "#d8576b"
             ],
             [
              0.6666666666666666,
              "#ed7953"
             ],
             [
              0.7777777777777778,
              "#fb9f3a"
             ],
             [
              0.8888888888888888,
              "#fdca26"
             ],
             [
              1,
              "#f0f921"
             ]
            ],
            "type": "histogram2d"
           }
          ],
          "histogram2dcontour": [
           {
            "colorbar": {
             "outlinewidth": 0,
             "ticks": ""
            },
            "colorscale": [
             [
              0,
              "#0d0887"
             ],
             [
              0.1111111111111111,
              "#46039f"
             ],
             [
              0.2222222222222222,
              "#7201a8"
             ],
             [
              0.3333333333333333,
              "#9c179e"
             ],
             [
              0.4444444444444444,
              "#bd3786"
             ],
             [
              0.5555555555555556,
              "#d8576b"
             ],
             [
              0.6666666666666666,
              "#ed7953"
             ],
             [
              0.7777777777777778,
              "#fb9f3a"
             ],
             [
              0.8888888888888888,
              "#fdca26"
             ],
             [
              1,
              "#f0f921"
             ]
            ],
            "type": "histogram2dcontour"
           }
          ],
          "mesh3d": [
           {
            "colorbar": {
             "outlinewidth": 0,
             "ticks": ""
            },
            "type": "mesh3d"
           }
          ],
          "parcoords": [
           {
            "line": {
             "colorbar": {
              "outlinewidth": 0,
              "ticks": ""
             }
            },
            "type": "parcoords"
           }
          ],
          "pie": [
           {
            "automargin": true,
            "type": "pie"
           }
          ],
          "scatter": [
           {
            "fillpattern": {
             "fillmode": "overlay",
             "size": 10,
             "solidity": 0.2
            },
            "type": "scatter"
           }
          ],
          "scatter3d": [
           {
            "line": {
             "colorbar": {
              "outlinewidth": 0,
              "ticks": ""
             }
            },
            "marker": {
             "colorbar": {
              "outlinewidth": 0,
              "ticks": ""
             }
            },
            "type": "scatter3d"
           }
          ],
          "scattercarpet": [
           {
            "marker": {
             "colorbar": {
              "outlinewidth": 0,
              "ticks": ""
             }
            },
            "type": "scattercarpet"
           }
          ],
          "scattergeo": [
           {
            "marker": {
             "colorbar": {
              "outlinewidth": 0,
              "ticks": ""
             }
            },
            "type": "scattergeo"
           }
          ],
          "scattergl": [
           {
            "marker": {
             "colorbar": {
              "outlinewidth": 0,
              "ticks": ""
             }
            },
            "type": "scattergl"
           }
          ],
          "scattermap": [
           {
            "marker": {
             "colorbar": {
              "outlinewidth": 0,
              "ticks": ""
             }
            },
            "type": "scattermap"
           }
          ],
          "scattermapbox": [
           {
            "marker": {
             "colorbar": {
              "outlinewidth": 0,
              "ticks": ""
             }
            },
            "type": "scattermapbox"
           }
          ],
          "scatterpolar": [
           {
            "marker": {
             "colorbar": {
              "outlinewidth": 0,
              "ticks": ""
             }
            },
            "type": "scatterpolar"
           }
          ],
          "scatterpolargl": [
           {
            "marker": {
             "colorbar": {
              "outlinewidth": 0,
              "ticks": ""
             }
            },
            "type": "scatterpolargl"
           }
          ],
          "scatterternary": [
           {
            "marker": {
             "colorbar": {
              "outlinewidth": 0,
              "ticks": ""
             }
            },
            "type": "scatterternary"
           }
          ],
          "surface": [
           {
            "colorbar": {
             "outlinewidth": 0,
             "ticks": ""
            },
            "colorscale": [
             [
              0,
              "#0d0887"
             ],
             [
              0.1111111111111111,
              "#46039f"
             ],
             [
              0.2222222222222222,
              "#7201a8"
             ],
             [
              0.3333333333333333,
              "#9c179e"
             ],
             [
              0.4444444444444444,
              "#bd3786"
             ],
             [
              0.5555555555555556,
              "#d8576b"
             ],
             [
              0.6666666666666666,
              "#ed7953"
             ],
             [
              0.7777777777777778,
              "#fb9f3a"
             ],
             [
              0.8888888888888888,
              "#fdca26"
             ],
             [
              1,
              "#f0f921"
             ]
            ],
            "type": "surface"
           }
          ],
          "table": [
           {
            "cells": {
             "fill": {
              "color": "#EBF0F8"
             },
             "line": {
              "color": "white"
             }
            },
            "header": {
             "fill": {
              "color": "#C8D4E3"
             },
             "line": {
              "color": "white"
             }
            },
            "type": "table"
           }
          ]
         },
         "layout": {
          "annotationdefaults": {
           "arrowcolor": "#2a3f5f",
           "arrowhead": 0,
           "arrowwidth": 1
          },
          "autotypenumbers": "strict",
          "coloraxis": {
           "colorbar": {
            "outlinewidth": 0,
            "ticks": ""
           }
          },
          "colorscale": {
           "diverging": [
            [
             0,
             "#8e0152"
            ],
            [
             0.1,
             "#c51b7d"
            ],
            [
             0.2,
             "#de77ae"
            ],
            [
             0.3,
             "#f1b6da"
            ],
            [
             0.4,
             "#fde0ef"
            ],
            [
             0.5,
             "#f7f7f7"
            ],
            [
             0.6,
             "#e6f5d0"
            ],
            [
             0.7,
             "#b8e186"
            ],
            [
             0.8,
             "#7fbc41"
            ],
            [
             0.9,
             "#4d9221"
            ],
            [
             1,
             "#276419"
            ]
           ],
           "sequential": [
            [
             0,
             "#0d0887"
            ],
            [
             0.1111111111111111,
             "#46039f"
            ],
            [
             0.2222222222222222,
             "#7201a8"
            ],
            [
             0.3333333333333333,
             "#9c179e"
            ],
            [
             0.4444444444444444,
             "#bd3786"
            ],
            [
             0.5555555555555556,
             "#d8576b"
            ],
            [
             0.6666666666666666,
             "#ed7953"
            ],
            [
             0.7777777777777778,
             "#fb9f3a"
            ],
            [
             0.8888888888888888,
             "#fdca26"
            ],
            [
             1,
             "#f0f921"
            ]
           ],
           "sequentialminus": [
            [
             0,
             "#0d0887"
            ],
            [
             0.1111111111111111,
             "#46039f"
            ],
            [
             0.2222222222222222,
             "#7201a8"
            ],
            [
             0.3333333333333333,
             "#9c179e"
            ],
            [
             0.4444444444444444,
             "#bd3786"
            ],
            [
             0.5555555555555556,
             "#d8576b"
            ],
            [
             0.6666666666666666,
             "#ed7953"
            ],
            [
             0.7777777777777778,
             "#fb9f3a"
            ],
            [
             0.8888888888888888,
             "#fdca26"
            ],
            [
             1,
             "#f0f921"
            ]
           ]
          },
          "colorway": [
           "#636efa",
           "#EF553B",
           "#00cc96",
           "#ab63fa",
           "#FFA15A",
           "#19d3f3",
           "#FF6692",
           "#B6E880",
           "#FF97FF",
           "#FECB52"
          ],
          "font": {
           "color": "#2a3f5f"
          },
          "geo": {
           "bgcolor": "white",
           "lakecolor": "white",
           "landcolor": "#E5ECF6",
           "showlakes": true,
           "showland": true,
           "subunitcolor": "white"
          },
          "hoverlabel": {
           "align": "left"
          },
          "hovermode": "closest",
          "mapbox": {
           "style": "light"
          },
          "paper_bgcolor": "white",
          "plot_bgcolor": "#E5ECF6",
          "polar": {
           "angularaxis": {
            "gridcolor": "white",
            "linecolor": "white",
            "ticks": ""
           },
           "bgcolor": "#E5ECF6",
           "radialaxis": {
            "gridcolor": "white",
            "linecolor": "white",
            "ticks": ""
           }
          },
          "scene": {
           "xaxis": {
            "backgroundcolor": "#E5ECF6",
            "gridcolor": "white",
            "gridwidth": 2,
            "linecolor": "white",
            "showbackground": true,
            "ticks": "",
            "zerolinecolor": "white"
           },
           "yaxis": {
            "backgroundcolor": "#E5ECF6",
            "gridcolor": "white",
            "gridwidth": 2,
            "linecolor": "white",
            "showbackground": true,
            "ticks": "",
            "zerolinecolor": "white"
           },
           "zaxis": {
            "backgroundcolor": "#E5ECF6",
            "gridcolor": "white",
            "gridwidth": 2,
            "linecolor": "white",
            "showbackground": true,
            "ticks": "",
            "zerolinecolor": "white"
           }
          },
          "shapedefaults": {
           "line": {
            "color": "#2a3f5f"
           }
          },
          "ternary": {
           "aaxis": {
            "gridcolor": "white",
            "linecolor": "white",
            "ticks": ""
           },
           "baxis": {
            "gridcolor": "white",
            "linecolor": "white",
            "ticks": ""
           },
           "bgcolor": "#E5ECF6",
           "caxis": {
            "gridcolor": "white",
            "linecolor": "white",
            "ticks": ""
           }
          },
          "title": {
           "x": 0.05
          },
          "xaxis": {
           "automargin": true,
           "gridcolor": "white",
           "linecolor": "white",
           "ticks": "",
           "title": {
            "standoff": 15
           },
           "zerolinecolor": "white",
           "zerolinewidth": 2
          },
          "yaxis": {
           "automargin": true,
           "gridcolor": "white",
           "linecolor": "white",
           "ticks": "",
           "title": {
            "standoff": 15
           },
           "zerolinecolor": "white",
           "zerolinewidth": 2
          }
         }
        },
        "title": {
         "text": "Average Transaction Value by Time of Day"
        },
        "xaxis": {
         "title": {
          "text": "Time of Day"
         }
        },
        "yaxis": {
         "title": {
          "text": "Average Revenue ($)"
         }
        }
       }
      }
     },
     "metadata": {},
     "output_type": "display_data"
    },
    {
     "data": {
      "application/vnd.plotly.v1+json": {
       "config": {
        "plotlyServerURL": "https://plot.ly"
       },
       "data": [
        {
         "marker": {
          "color": "orange"
         },
         "type": "bar",
         "x": [
          "Monday",
          "Tuesday",
          "Wednesday",
          "Thursday",
          "Friday",
          "Saturday",
          "Sunday"
         ],
         "y": {
          "bdata": "ZmZmZsb00EAfhetRGL7RQBSuR+E6w85AMzMzM7Ntz0DXo3A9qmjQQPYoXI/CxsxA4XoUrgcMykA=",
          "dtype": "f8"
         }
        }
       ],
       "layout": {
        "template": {
         "data": {
          "bar": [
           {
            "error_x": {
             "color": "#2a3f5f"
            },
            "error_y": {
             "color": "#2a3f5f"
            },
            "marker": {
             "line": {
              "color": "#E5ECF6",
              "width": 0.5
             },
             "pattern": {
              "fillmode": "overlay",
              "size": 10,
              "solidity": 0.2
             }
            },
            "type": "bar"
           }
          ],
          "barpolar": [
           {
            "marker": {
             "line": {
              "color": "#E5ECF6",
              "width": 0.5
             },
             "pattern": {
              "fillmode": "overlay",
              "size": 10,
              "solidity": 0.2
             }
            },
            "type": "barpolar"
           }
          ],
          "carpet": [
           {
            "aaxis": {
             "endlinecolor": "#2a3f5f",
             "gridcolor": "white",
             "linecolor": "white",
             "minorgridcolor": "white",
             "startlinecolor": "#2a3f5f"
            },
            "baxis": {
             "endlinecolor": "#2a3f5f",
             "gridcolor": "white",
             "linecolor": "white",
             "minorgridcolor": "white",
             "startlinecolor": "#2a3f5f"
            },
            "type": "carpet"
           }
          ],
          "choropleth": [
           {
            "colorbar": {
             "outlinewidth": 0,
             "ticks": ""
            },
            "type": "choropleth"
           }
          ],
          "contour": [
           {
            "colorbar": {
             "outlinewidth": 0,
             "ticks": ""
            },
            "colorscale": [
             [
              0,
              "#0d0887"
             ],
             [
              0.1111111111111111,
              "#46039f"
             ],
             [
              0.2222222222222222,
              "#7201a8"
             ],
             [
              0.3333333333333333,
              "#9c179e"
             ],
             [
              0.4444444444444444,
              "#bd3786"
             ],
             [
              0.5555555555555556,
              "#d8576b"
             ],
             [
              0.6666666666666666,
              "#ed7953"
             ],
             [
              0.7777777777777778,
              "#fb9f3a"
             ],
             [
              0.8888888888888888,
              "#fdca26"
             ],
             [
              1,
              "#f0f921"
             ]
            ],
            "type": "contour"
           }
          ],
          "contourcarpet": [
           {
            "colorbar": {
             "outlinewidth": 0,
             "ticks": ""
            },
            "type": "contourcarpet"
           }
          ],
          "heatmap": [
           {
            "colorbar": {
             "outlinewidth": 0,
             "ticks": ""
            },
            "colorscale": [
             [
              0,
              "#0d0887"
             ],
             [
              0.1111111111111111,
              "#46039f"
             ],
             [
              0.2222222222222222,
              "#7201a8"
             ],
             [
              0.3333333333333333,
              "#9c179e"
             ],
             [
              0.4444444444444444,
              "#bd3786"
             ],
             [
              0.5555555555555556,
              "#d8576b"
             ],
             [
              0.6666666666666666,
              "#ed7953"
             ],
             [
              0.7777777777777778,
              "#fb9f3a"
             ],
             [
              0.8888888888888888,
              "#fdca26"
             ],
             [
              1,
              "#f0f921"
             ]
            ],
            "type": "heatmap"
           }
          ],
          "histogram": [
           {
            "marker": {
             "pattern": {
              "fillmode": "overlay",
              "size": 10,
              "solidity": 0.2
             }
            },
            "type": "histogram"
           }
          ],
          "histogram2d": [
           {
            "colorbar": {
             "outlinewidth": 0,
             "ticks": ""
            },
            "colorscale": [
             [
              0,
              "#0d0887"
             ],
             [
              0.1111111111111111,
              "#46039f"
             ],
             [
              0.2222222222222222,
              "#7201a8"
             ],
             [
              0.3333333333333333,
              "#9c179e"
             ],
             [
              0.4444444444444444,
              "#bd3786"
             ],
             [
              0.5555555555555556,
              "#d8576b"
             ],
             [
              0.6666666666666666,
              "#ed7953"
             ],
             [
              0.7777777777777778,
              "#fb9f3a"
             ],
             [
              0.8888888888888888,
              "#fdca26"
             ],
             [
              1,
              "#f0f921"
             ]
            ],
            "type": "histogram2d"
           }
          ],
          "histogram2dcontour": [
           {
            "colorbar": {
             "outlinewidth": 0,
             "ticks": ""
            },
            "colorscale": [
             [
              0,
              "#0d0887"
             ],
             [
              0.1111111111111111,
              "#46039f"
             ],
             [
              0.2222222222222222,
              "#7201a8"
             ],
             [
              0.3333333333333333,
              "#9c179e"
             ],
             [
              0.4444444444444444,
              "#bd3786"
             ],
             [
              0.5555555555555556,
              "#d8576b"
             ],
             [
              0.6666666666666666,
              "#ed7953"
             ],
             [
              0.7777777777777778,
              "#fb9f3a"
             ],
             [
              0.8888888888888888,
              "#fdca26"
             ],
             [
              1,
              "#f0f921"
             ]
            ],
            "type": "histogram2dcontour"
           }
          ],
          "mesh3d": [
           {
            "colorbar": {
             "outlinewidth": 0,
             "ticks": ""
            },
            "type": "mesh3d"
           }
          ],
          "parcoords": [
           {
            "line": {
             "colorbar": {
              "outlinewidth": 0,
              "ticks": ""
             }
            },
            "type": "parcoords"
           }
          ],
          "pie": [
           {
            "automargin": true,
            "type": "pie"
           }
          ],
          "scatter": [
           {
            "fillpattern": {
             "fillmode": "overlay",
             "size": 10,
             "solidity": 0.2
            },
            "type": "scatter"
           }
          ],
          "scatter3d": [
           {
            "line": {
             "colorbar": {
              "outlinewidth": 0,
              "ticks": ""
             }
            },
            "marker": {
             "colorbar": {
              "outlinewidth": 0,
              "ticks": ""
             }
            },
            "type": "scatter3d"
           }
          ],
          "scattercarpet": [
           {
            "marker": {
             "colorbar": {
              "outlinewidth": 0,
              "ticks": ""
             }
            },
            "type": "scattercarpet"
           }
          ],
          "scattergeo": [
           {
            "marker": {
             "colorbar": {
              "outlinewidth": 0,
              "ticks": ""
             }
            },
            "type": "scattergeo"
           }
          ],
          "scattergl": [
           {
            "marker": {
             "colorbar": {
              "outlinewidth": 0,
              "ticks": ""
             }
            },
            "type": "scattergl"
           }
          ],
          "scattermap": [
           {
            "marker": {
             "colorbar": {
              "outlinewidth": 0,
              "ticks": ""
             }
            },
            "type": "scattermap"
           }
          ],
          "scattermapbox": [
           {
            "marker": {
             "colorbar": {
              "outlinewidth": 0,
              "ticks": ""
             }
            },
            "type": "scattermapbox"
           }
          ],
          "scatterpolar": [
           {
            "marker": {
             "colorbar": {
              "outlinewidth": 0,
              "ticks": ""
             }
            },
            "type": "scatterpolar"
           }
          ],
          "scatterpolargl": [
           {
            "marker": {
             "colorbar": {
              "outlinewidth": 0,
              "ticks": ""
             }
            },
            "type": "scatterpolargl"
           }
          ],
          "scatterternary": [
           {
            "marker": {
             "colorbar": {
              "outlinewidth": 0,
              "ticks": ""
             }
            },
            "type": "scatterternary"
           }
          ],
          "surface": [
           {
            "colorbar": {
             "outlinewidth": 0,
             "ticks": ""
            },
            "colorscale": [
             [
              0,
              "#0d0887"
             ],
             [
              0.1111111111111111,
              "#46039f"
             ],
             [
              0.2222222222222222,
              "#7201a8"
             ],
             [
              0.3333333333333333,
              "#9c179e"
             ],
             [
              0.4444444444444444,
              "#bd3786"
             ],
             [
              0.5555555555555556,
              "#d8576b"
             ],
             [
              0.6666666666666666,
              "#ed7953"
             ],
             [
              0.7777777777777778,
              "#fb9f3a"
             ],
             [
              0.8888888888888888,
              "#fdca26"
             ],
             [
              1,
              "#f0f921"
             ]
            ],
            "type": "surface"
           }
          ],
          "table": [
           {
            "cells": {
             "fill": {
              "color": "#EBF0F8"
             },
             "line": {
              "color": "white"
             }
            },
            "header": {
             "fill": {
              "color": "#C8D4E3"
             },
             "line": {
              "color": "white"
             }
            },
            "type": "table"
           }
          ]
         },
         "layout": {
          "annotationdefaults": {
           "arrowcolor": "#2a3f5f",
           "arrowhead": 0,
           "arrowwidth": 1
          },
          "autotypenumbers": "strict",
          "coloraxis": {
           "colorbar": {
            "outlinewidth": 0,
            "ticks": ""
           }
          },
          "colorscale": {
           "diverging": [
            [
             0,
             "#8e0152"
            ],
            [
             0.1,
             "#c51b7d"
            ],
            [
             0.2,
             "#de77ae"
            ],
            [
             0.3,
             "#f1b6da"
            ],
            [
             0.4,
             "#fde0ef"
            ],
            [
             0.5,
             "#f7f7f7"
            ],
            [
             0.6,
             "#e6f5d0"
            ],
            [
             0.7,
             "#b8e186"
            ],
            [
             0.8,
             "#7fbc41"
            ],
            [
             0.9,
             "#4d9221"
            ],
            [
             1,
             "#276419"
            ]
           ],
           "sequential": [
            [
             0,
             "#0d0887"
            ],
            [
             0.1111111111111111,
             "#46039f"
            ],
            [
             0.2222222222222222,
             "#7201a8"
            ],
            [
             0.3333333333333333,
             "#9c179e"
            ],
            [
             0.4444444444444444,
             "#bd3786"
            ],
            [
             0.5555555555555556,
             "#d8576b"
            ],
            [
             0.6666666666666666,
             "#ed7953"
            ],
            [
             0.7777777777777778,
             "#fb9f3a"
            ],
            [
             0.8888888888888888,
             "#fdca26"
            ],
            [
             1,
             "#f0f921"
            ]
           ],
           "sequentialminus": [
            [
             0,
             "#0d0887"
            ],
            [
             0.1111111111111111,
             "#46039f"
            ],
            [
             0.2222222222222222,
             "#7201a8"
            ],
            [
             0.3333333333333333,
             "#9c179e"
            ],
            [
             0.4444444444444444,
             "#bd3786"
            ],
            [
             0.5555555555555556,
             "#d8576b"
            ],
            [
             0.6666666666666666,
             "#ed7953"
            ],
            [
             0.7777777777777778,
             "#fb9f3a"
            ],
            [
             0.8888888888888888,
             "#fdca26"
            ],
            [
             1,
             "#f0f921"
            ]
           ]
          },
          "colorway": [
           "#636efa",
           "#EF553B",
           "#00cc96",
           "#ab63fa",
           "#FFA15A",
           "#19d3f3",
           "#FF6692",
           "#B6E880",
           "#FF97FF",
           "#FECB52"
          ],
          "font": {
           "color": "#2a3f5f"
          },
          "geo": {
           "bgcolor": "white",
           "lakecolor": "white",
           "landcolor": "#E5ECF6",
           "showlakes": true,
           "showland": true,
           "subunitcolor": "white"
          },
          "hoverlabel": {
           "align": "left"
          },
          "hovermode": "closest",
          "mapbox": {
           "style": "light"
          },
          "paper_bgcolor": "white",
          "plot_bgcolor": "#E5ECF6",
          "polar": {
           "angularaxis": {
            "gridcolor": "white",
            "linecolor": "white",
            "ticks": ""
           },
           "bgcolor": "#E5ECF6",
           "radialaxis": {
            "gridcolor": "white",
            "linecolor": "white",
            "ticks": ""
           }
          },
          "scene": {
           "xaxis": {
            "backgroundcolor": "#E5ECF6",
            "gridcolor": "white",
            "gridwidth": 2,
            "linecolor": "white",
            "showbackground": true,
            "ticks": "",
            "zerolinecolor": "white"
           },
           "yaxis": {
            "backgroundcolor": "#E5ECF6",
            "gridcolor": "white",
            "gridwidth": 2,
            "linecolor": "white",
            "showbackground": true,
            "ticks": "",
            "zerolinecolor": "white"
           },
           "zaxis": {
            "backgroundcolor": "#E5ECF6",
            "gridcolor": "white",
            "gridwidth": 2,
            "linecolor": "white",
            "showbackground": true,
            "ticks": "",
            "zerolinecolor": "white"
           }
          },
          "shapedefaults": {
           "line": {
            "color": "#2a3f5f"
           }
          },
          "ternary": {
           "aaxis": {
            "gridcolor": "white",
            "linecolor": "white",
            "ticks": ""
           },
           "baxis": {
            "gridcolor": "white",
            "linecolor": "white",
            "ticks": ""
           },
           "bgcolor": "#E5ECF6",
           "caxis": {
            "gridcolor": "white",
            "linecolor": "white",
            "ticks": ""
           }
          },
          "title": {
           "x": 0.05
          },
          "xaxis": {
           "automargin": true,
           "gridcolor": "white",
           "linecolor": "white",
           "ticks": "",
           "title": {
            "standoff": 15
           },
           "zerolinecolor": "white",
           "zerolinewidth": 2
          },
          "yaxis": {
           "automargin": true,
           "gridcolor": "white",
           "linecolor": "white",
           "ticks": "",
           "title": {
            "standoff": 15
           },
           "zerolinecolor": "white",
           "zerolinewidth": 2
          }
         }
        },
        "title": {
         "text": "Total Sales by Day of Week"
        },
        "xaxis": {
         "title": {
          "text": "Day of Week"
         }
        },
        "yaxis": {
         "title": {
          "text": "Total Revenue ($)"
         }
        }
       }
      }
     },
     "metadata": {},
     "output_type": "display_data"
    }
   ],
   "source": [
    "# Time of day analysis (more meaningful than payment method since all are cards)\n",
    "time_analysis = df.groupby('Time_of_Day')['revenue'].agg(['count', 'mean', 'sum'])\n",
    "fig3 = go.Figure()\n",
    "fig3.add_trace(go.Bar(\n",
    "    x=time_analysis.index,\n",
    "    y=time_analysis['mean'],\n",
    "    marker_color='green'\n",
    "))\n",
    "fig3.update_layout(\n",
    "    title='Average Transaction Value by Time of Day',\n",
    "    xaxis_title='Time of Day',\n",
    "    yaxis_title='Average Revenue ($)'\n",
    ")\n",
    "fig3.show()\n",
    "\n",
    "# Daily sales patterns\n",
    "daily_sales = df.groupby('day_name')['revenue'].sum()\n",
    "# Reorder days properly\n",
    "day_order = ['Monday', 'Tuesday', 'Wednesday', 'Thursday', 'Friday', 'Saturday', 'Sunday']\n",
    "daily_sales = daily_sales.reindex([day for day in day_order if day in daily_sales.index])\n",
    "\n",
    "fig4 = go.Figure()\n",
    "fig4.add_trace(go.Bar(\n",
    "    x=daily_sales.index,\n",
    "    y=daily_sales.values,\n",
    "    marker_color='orange'\n",
    "))\n",
    "fig4.update_layout(\n",
    "    title='Total Sales by Day of Week',\n",
    "    xaxis_title='Day of Week',\n",
    "    yaxis_title='Total Revenue ($)'\n",
    ")\n",
    "fig4.show()"
   ]
  },
  {
   "cell_type": "markdown",
   "id": "3d041dfe",
   "metadata": {},
   "source": [
    "## 6. Statistical Analysis\\n\n",
    "\\n\n",
    "Perform basic statistical tests and analysis:"
   ]
  },
  {
   "cell_type": "code",
   "execution_count": 17,
   "id": "bc8a2a0c",
   "metadata": {},
   "outputs": [
    {
     "data": {
      "application/vnd.plotly.v1+json": {
       "config": {
        "plotlyServerURL": "https://plot.ly"
       },
       "data": [
        {
         "marker": {
          "color": "lightblue"
         },
         "name": "Revenue Distribution",
         "nbinsx": 30,
         "type": "histogram",
         "x": {
          "bdata": "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",
          "dtype": "f8"
         },
         "xaxis": "x",
         "yaxis": "y"
        },
        {
         "marker": {
          "color": "brown"
         },
         "name": "Coffee Sales",
         "type": "bar",
         "x": [
          "Americano with Milk",
          "Latte",
          "Americano",
          "Cappuccino",
          "Cortado",
          "Hot Chocolate",
          "Cocoa",
          "Espresso"
         ],
         "xaxis": "x2",
         "y": {
          "bdata": "KQP1AjQC5gEfARQB7wCBAA==",
          "dtype": "i2"
         },
         "yaxis": "y2"
        },
        {
         "marker": {
          "color": "orange"
         },
         "name": "Time Analysis",
         "type": "bar",
         "x": [
          "Afternoon",
          "Morning",
          "Night"
         ],
         "xaxis": "x3",
         "y": {
          "bdata": "tQSdBIkE",
          "dtype": "i2"
         },
         "yaxis": "y3"
        },
        {
         "line": {
          "color": "green",
          "width": 2
         },
         "mode": "lines",
         "name": "Daily Revenue",
         "type": "scatter",
         "x": [
          "2024-03-01T00:00:00.000000000",
          "2024-03-02T00:00:00.000000000",
          "2024-03-03T00:00:00.000000000",
          "2024-03-04T00:00:00.000000000",
          "2024-03-05T00:00:00.000000000",
          "2024-03-06T00:00:00.000000000",
          "2024-03-07T00:00:00.000000000",
          "2024-03-08T00:00:00.000000000",
          "2024-03-09T00:00:00.000000000",
          "2024-03-10T00:00:00.000000000",
          "2024-03-11T00:00:00.000000000",
          "2024-03-12T00:00:00.000000000",
          "2024-03-13T00:00:00.000000000",
          "2024-03-14T00:00:00.000000000",
          "2024-03-15T00:00:00.000000000",
          "2024-03-16T00:00:00.000000000",
          "2024-03-17T00:00:00.000000000",
          "2024-03-18T00:00:00.000000000",
          "2024-03-19T00:00:00.000000000",
          "2024-03-20T00:00:00.000000000",
          "2024-03-21T00:00:00.000000000",
          "2024-03-22T00:00:00.000000000",
          "2024-03-23T00:00:00.000000000",
          "2024-03-24T00:00:00.000000000",
          "2024-03-25T00:00:00.000000000",
          "2024-03-26T00:00:00.000000000",
          "2024-03-27T00:00:00.000000000",
          "2024-03-28T00:00:00.000000000",
          "2024-03-29T00:00:00.000000000",
          "2024-03-30T00:00:00.000000000",
          "2024-03-31T00:00:00.000000000",
          "2024-04-01T00:00:00.000000000",
          "2024-04-02T00:00:00.000000000",
          "2024-04-03T00:00:00.000000000",
          "2024-04-04T00:00:00.000000000",
          "2024-04-05T00:00:00.000000000",
          "2024-04-06T00:00:00.000000000",
          "2024-04-07T00:00:00.000000000",
          "2024-04-08T00:00:00.000000000",
          "2024-04-09T00:00:00.000000000",
          "2024-04-10T00:00:00.000000000",
          "2024-04-11T00:00:00.000000000",
          "2024-04-12T00:00:00.000000000",
          "2024-04-13T00:00:00.000000000",
          "2024-04-14T00:00:00.000000000",
          "2024-04-15T00:00:00.000000000",
          "2024-04-16T00:00:00.000000000",
          "2024-04-17T00:00:00.000000000",
          "2024-04-18T00:00:00.000000000",
          "2024-04-19T00:00:00.000000000",
          "2024-04-20T00:00:00.000000000",
          "2024-04-21T00:00:00.000000000",
          "2024-04-22T00:00:00.000000000",
          "2024-04-23T00:00:00.000000000",
          "2024-04-24T00:00:00.000000000",
          "2024-04-25T00:00:00.000000000",
          "2024-04-26T00:00:00.000000000",
          "2024-04-27T00:00:00.000000000",
          "2024-04-28T00:00:00.000000000",
          "2024-04-29T00:00:00.000000000",
          "2024-04-30T00:00:00.000000000",
          "2024-05-02T00:00:00.000000000",
          "2024-05-03T00:00:00.000000000",
          "2024-05-06T00:00:00.000000000",
          "2024-05-07T00:00:00.000000000",
          "2024-05-08T00:00:00.000000000",
          "2024-05-09T00:00:00.000000000",
          "2024-05-10T00:00:00.000000000",
          "2024-05-11T00:00:00.000000000",
          "2024-05-12T00:00:00.000000000",
          "2024-05-13T00:00:00.000000000",
          "2024-05-14T00:00:00.000000000",
          "2024-05-15T00:00:00.000000000",
          "2024-05-16T00:00:00.000000000",
          "2024-05-17T00:00:00.000000000",
          "2024-05-18T00:00:00.000000000",
          "2024-05-19T00:00:00.000000000",
          "2024-05-20T00:00:00.000000000",
          "2024-05-21T00:00:00.000000000",
          "2024-05-22T00:00:00.000000000",
          "2024-05-23T00:00:00.000000000",
          "2024-05-24T00:00:00.000000000",
          "2024-05-25T00:00:00.000000000",
          "2024-05-26T00:00:00.000000000",
          "2024-05-27T00:00:00.000000000",
          "2024-05-28T00:00:00.000000000",
          "2024-05-29T00:00:00.000000000",
          "2024-05-30T00:00:00.000000000",
          "2024-05-31T00:00:00.000000000",
          "2024-06-01T00:00:00.000000000",
          "2024-06-02T00:00:00.000000000",
          "2024-06-03T00:00:00.000000000",
          "2024-06-04T00:00:00.000000000",
          "2024-06-05T00:00:00.000000000",
          "2024-06-06T00:00:00.000000000",
          "2024-06-07T00:00:00.000000000",
          "2024-06-08T00:00:00.000000000",
          "2024-06-09T00:00:00.000000000",
          "2024-06-10T00:00:00.000000000",
          "2024-06-11T00:00:00.000000000",
          "2024-06-12T00:00:00.000000000",
          "2024-06-13T00:00:00.000000000",
          "2024-06-14T00:00:00.000000000",
          "2024-06-15T00:00:00.000000000",
          "2024-06-16T00:00:00.000000000",
          "2024-06-17T00:00:00.000000000",
          "2024-06-18T00:00:00.000000000",
          "2024-06-19T00:00:00.000000000",
          "2024-06-20T00:00:00.000000000",
          "2024-06-21T00:00:00.000000000",
          "2024-06-22T00:00:00.000000000",
          "2024-06-23T00:00:00.000000000",
          "2024-06-24T00:00:00.000000000",
          "2024-06-25T00:00:00.000000000",
          "2024-06-26T00:00:00.000000000",
          "2024-06-27T00:00:00.000000000",
          "2024-06-28T00:00:00.000000000",
          "2024-06-29T00:00:00.000000000",
          "2024-06-30T00:00:00.000000000",
          "2024-07-01T00:00:00.000000000",
          "2024-07-02T00:00:00.000000000",
          "2024-07-03T00:00:00.000000000",
          "2024-07-04T00:00:00.000000000",
          "2024-07-05T00:00:00.000000000",
          "2024-07-06T00:00:00.000000000",
          "2024-07-07T00:00:00.000000000",
          "2024-07-08T00:00:00.000000000",
          "2024-07-09T00:00:00.000000000",
          "2024-07-10T00:00:00.000000000",
          "2024-07-11T00:00:00.000000000",
          "2024-07-12T00:00:00.000000000",
          "2024-07-13T00:00:00.000000000",
          "2024-07-14T00:00:00.000000000",
          "2024-07-15T00:00:00.000000000",
          "2024-07-16T00:00:00.000000000",
          "2024-07-17T00:00:00.000000000",
          "2024-07-18T00:00:00.000000000",
          "2024-07-19T00:00:00.000000000",
          "2024-07-20T00:00:00.000000000",
          "2024-07-21T00:00:00.000000000",
          "2024-07-22T00:00:00.000000000",
          "2024-07-23T00:00:00.000000000",
          "2024-07-24T00:00:00.000000000",
          "2024-07-25T00:00:00.000000000",
          "2024-07-26T00:00:00.000000000",
          "2024-07-27T00:00:00.000000000",
          "2024-07-28T00:00:00.000000000",
          "2024-07-29T00:00:00.000000000",
          "2024-07-30T00:00:00.000000000",
          "2024-07-31T00:00:00.000000000",
          "2024-08-01T00:00:00.000000000",
          "2024-08-02T00:00:00.000000000",
          "2024-08-03T00:00:00.000000000",
          "2024-08-04T00:00:00.000000000",
          "2024-08-05T00:00:00.000000000",
          "2024-08-06T00:00:00.000000000",
          "2024-08-07T00:00:00.000000000",
          "2024-08-08T00:00:00.000000000",
          "2024-08-09T00:00:00.000000000",
          "2024-08-10T00:00:00.000000000",
          "2024-08-11T00:00:00.000000000",
          "2024-08-12T00:00:00.000000000",
          "2024-08-13T00:00:00.000000000",
          "2024-08-14T00:00:00.000000000",
          "2024-08-15T00:00:00.000000000",
          "2024-08-16T00:00:00.000000000",
          "2024-08-17T00:00:00.000000000",
          "2024-08-18T00:00:00.000000000",
          "2024-08-19T00:00:00.000000000",
          "2024-08-20T00:00:00.000000000",
          "2024-08-21T00:00:00.000000000",
          "2024-08-22T00:00:00.000000000",
          "2024-08-23T00:00:00.000000000",
          "2024-08-24T00:00:00.000000000",
          "2024-08-25T00:00:00.000000000",
          "2024-08-26T00:00:00.000000000",
          "2024-08-27T00:00:00.000000000",
          "2024-08-28T00:00:00.000000000",
          "2024-08-29T00:00:00.000000000",
          "2024-08-30T00:00:00.000000000",
          "2024-08-31T00:00:00.000000000",
          "2024-09-01T00:00:00.000000000",
          "2024-09-02T00:00:00.000000000",
          "2024-09-03T00:00:00.000000000",
          "2024-09-04T00:00:00.000000000",
          "2024-09-05T00:00:00.000000000",
          "2024-09-06T00:00:00.000000000",
          "2024-09-07T00:00:00.000000000",
          "2024-09-08T00:00:00.000000000",
          "2024-09-09T00:00:00.000000000",
          "2024-09-10T00:00:00.000000000",
          "2024-09-11T00:00:00.000000000",
          "2024-09-12T00:00:00.000000000",
          "2024-09-13T00:00:00.000000000",
          "2024-09-14T00:00:00.000000000",
          "2024-09-15T00:00:00.000000000",
          "2024-09-16T00:00:00.000000000",
          "2024-09-17T00:00:00.000000000",
          "2024-09-18T00:00:00.000000000",
          "2024-09-19T00:00:00.000000000",
          "2024-09-20T00:00:00.000000000",
          "2024-09-21T00:00:00.000000000",
          "2024-09-22T00:00:00.000000000",
          "2024-09-23T00:00:00.000000000",
          "2024-09-24T00:00:00.000000000",
          "2024-09-25T00:00:00.000000000",
          "2024-09-26T00:00:00.000000000",
          "2024-09-27T00:00:00.000000000",
          "2024-09-28T00:00:00.000000000",
          "2024-09-29T00:00:00.000000000",
          "2024-09-30T00:00:00.000000000",
          "2024-10-01T00:00:00.000000000",
          "2024-10-02T00:00:00.000000000",
          "2024-10-03T00:00:00.000000000",
          "2024-10-04T00:00:00.000000000",
          "2024-10-05T00:00:00.000000000",
          "2024-10-06T00:00:00.000000000",
          "2024-10-07T00:00:00.000000000",
          "2024-10-08T00:00:00.000000000",
          "2024-10-09T00:00:00.000000000",
          "2024-10-10T00:00:00.000000000",
          "2024-10-11T00:00:00.000000000",
          "2024-10-12T00:00:00.000000000",
          "2024-10-13T00:00:00.000000000",
          "2024-10-14T00:00:00.000000000",
          "2024-10-15T00:00:00.000000000",
          "2024-10-16T00:00:00.000000000",
          "2024-10-17T00:00:00.000000000",
          "2024-10-18T00:00:00.000000000",
          "2024-10-19T00:00:00.000000000",
          "2024-10-20T00:00:00.000000000",
          "2024-10-21T00:00:00.000000000",
          "2024-10-22T00:00:00.000000000",
          "2024-10-23T00:00:00.000000000",
          "2024-10-24T00:00:00.000000000",
          "2024-10-25T00:00:00.000000000",
          "2024-10-26T00:00:00.000000000",
          "2024-10-27T00:00:00.000000000",
          "2024-10-28T00:00:00.000000000",
          "2024-10-29T00:00:00.000000000",
          "2024-10-30T00:00:00.000000000",
          "2024-10-31T00:00:00.000000000",
          "2024-11-01T00:00:00.000000000",
          "2024-11-02T00:00:00.000000000",
          "2024-11-03T00:00:00.000000000",
          "2024-11-04T00:00:00.000000000",
          "2024-11-05T00:00:00.000000000",
          "2024-11-06T00:00:00.000000000",
          "2024-11-07T00:00:00.000000000",
          "2024-11-08T00:00:00.000000000",
          "2024-11-09T00:00:00.000000000",
          "2024-11-10T00:00:00.000000000",
          "2024-11-11T00:00:00.000000000",
          "2024-11-12T00:00:00.000000000",
          "2024-11-13T00:00:00.000000000",
          "2024-11-14T00:00:00.000000000",
          "2024-11-15T00:00:00.000000000",
          "2024-11-16T00:00:00.000000000",
          "2024-11-17T00:00:00.000000000",
          "2024-11-18T00:00:00.000000000",
          "2024-11-19T00:00:00.000000000",
          "2024-11-20T00:00:00.000000000",
          "2024-11-21T00:00:00.000000000",
          "2024-11-22T00:00:00.000000000",
          "2024-11-23T00:00:00.000000000",
          "2024-11-24T00:00:00.000000000",
          "2024-11-25T00:00:00.000000000",
          "2024-11-26T00:00:00.000000000",
          "2024-11-28T00:00:00.000000000",
          "2024-11-29T00:00:00.000000000",
          "2024-11-30T00:00:00.000000000",
          "2024-12-01T00:00:00.000000000",
          "2024-12-02T00:00:00.000000000",
          "2024-12-03T00:00:00.000000000",
          "2024-12-04T00:00:00.000000000",
          "2024-12-05T00:00:00.000000000",
          "2024-12-06T00:00:00.000000000",
          "2024-12-07T00:00:00.000000000",
          "2024-12-08T00:00:00.000000000",
          "2024-12-09T00:00:00.000000000",
          "2024-12-10T00:00:00.000000000",
          "2024-12-11T00:00:00.000000000",
          "2024-12-12T00:00:00.000000000",
          "2024-12-13T00:00:00.000000000",
          "2024-12-14T00:00:00.000000000",
          "2024-12-15T00:00:00.000000000",
          "2024-12-16T00:00:00.000000000",
          "2024-12-17T00:00:00.000000000",
          "2024-12-18T00:00:00.000000000",
          "2024-12-19T00:00:00.000000000",
          "2024-12-20T00:00:00.000000000",
          "2024-12-21T00:00:00.000000000",
          "2024-12-22T00:00:00.000000000",
          "2024-12-23T00:00:00.000000000",
          "2024-12-24T00:00:00.000000000",
          "2024-12-25T00:00:00.000000000",
          "2024-12-26T00:00:00.000000000",
          "2024-12-27T00:00:00.000000000",
          "2024-12-28T00:00:00.000000000",
          "2024-12-29T00:00:00.000000000",
          "2024-12-30T00:00:00.000000000",
          "2024-12-31T00:00:00.000000000",
          "2025-01-02T00:00:00.000000000",
          "2025-01-03T00:00:00.000000000",
          "2025-01-04T00:00:00.000000000",
          "2025-01-05T00:00:00.000000000",
          "2025-01-06T00:00:00.000000000",
          "2025-01-07T00:00:00.000000000",
          "2025-01-08T00:00:00.000000000",
          "2025-01-09T00:00:00.000000000",
          "2025-01-10T00:00:00.000000000",
          "2025-01-11T00:00:00.000000000",
          "2025-01-12T00:00:00.000000000",
          "2025-01-13T00:00:00.000000000",
          "2025-01-14T00:00:00.000000000",
          "2025-01-15T00:00:00.000000000",
          "2025-01-16T00:00:00.000000000",
          "2025-01-17T00:00:00.000000000",
          "2025-01-18T00:00:00.000000000",
          "2025-01-20T00:00:00.000000000",
          "2025-01-21T00:00:00.000000000",
          "2025-01-22T00:00:00.000000000",
          "2025-01-24T00:00:00.000000000",
          "2025-01-25T00:00:00.000000000",
          "2025-01-26T00:00:00.000000000",
          "2025-01-27T00:00:00.000000000",
          "2025-01-28T00:00:00.000000000",
          "2025-01-29T00:00:00.000000000",
          "2025-01-30T00:00:00.000000000",
          "2025-01-31T00:00:00.000000000",
          "2025-02-01T00:00:00.000000000",
          "2025-02-02T00:00:00.000000000",
          "2025-02-03T00:00:00.000000000",
          "2025-02-04T00:00:00.000000000",
          "2025-02-05T00:00:00.000000000",
          "2025-02-06T00:00:00.000000000",
          "2025-02-07T00:00:00.000000000",
          "2025-02-08T00:00:00.000000000",
          "2025-02-09T00:00:00.000000000",
          "2025-02-10T00:00:00.000000000",
          "2025-02-11T00:00:00.000000000",
          "2025-02-12T00:00:00.000000000",
          "2025-02-13T00:00:00.000000000",
          "2025-02-14T00:00:00.000000000",
          "2025-02-15T00:00:00.000000000",
          "2025-02-16T00:00:00.000000000",
          "2025-02-17T00:00:00.000000000",
          "2025-02-18T00:00:00.000000000",
          "2025-02-19T00:00:00.000000000",
          "2025-02-20T00:00:00.000000000",
          "2025-02-21T00:00:00.000000000",
          "2025-02-22T00:00:00.000000000",
          "2025-02-23T00:00:00.000000000",
          "2025-02-24T00:00:00.000000000",
          "2025-02-25T00:00:00.000000000",
          "2025-02-26T00:00:00.000000000",
          "2025-02-27T00:00:00.000000000",
          "2025-02-28T00:00:00.000000000",
          "2025-03-01T00:00:00.000000000",
          "2025-03-02T00:00:00.000000000",
          "2025-03-03T00:00:00.000000000",
          "2025-03-04T00:00:00.000000000",
          "2025-03-05T00:00:00.000000000",
          "2025-03-06T00:00:00.000000000",
          "2025-03-07T00:00:00.000000000",
          "2025-03-08T00:00:00.000000000",
          "2025-03-09T00:00:00.000000000",
          "2025-03-10T00:00:00.000000000",
          "2025-03-11T00:00:00.000000000",
          "2025-03-12T00:00:00.000000000",
          "2025-03-13T00:00:00.000000000",
          "2025-03-14T00:00:00.000000000",
          "2025-03-15T00:00:00.000000000",
          "2025-03-16T00:00:00.000000000",
          "2025-03-17T00:00:00.000000000",
          "2025-03-18T00:00:00.000000000",
          "2025-03-19T00:00:00.000000000",
          "2025-03-20T00:00:00.000000000",
          "2025-03-21T00:00:00.000000000",
          "2025-03-22T00:00:00.000000000",
          "2025-03-23T00:00:00.000000000"
         ],
         "xaxis": "x4",
         "y": {
          "bdata": "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",
          "dtype": "f8"
         },
         "yaxis": "y4"
        }
       ],
       "layout": {
        "annotations": [
         {
          "font": {
           "size": 16
          },
          "showarrow": false,
          "text": "Revenue Distribution",
          "x": 0.225,
          "xanchor": "center",
          "xref": "paper",
          "y": 1,
          "yanchor": "bottom",
          "yref": "paper"
         },
         {
          "font": {
           "size": 16
          },
          "showarrow": false,
          "text": "Sales by Coffee Type",
          "x": 0.775,
          "xanchor": "center",
          "xref": "paper",
          "y": 1,
          "yanchor": "bottom",
          "yref": "paper"
         },
         {
          "font": {
           "size": 16
          },
          "showarrow": false,
          "text": "Sales by Time of Day",
          "x": 0.225,
          "xanchor": "center",
          "xref": "paper",
          "y": 0.375,
          "yanchor": "bottom",
          "yref": "paper"
         },
         {
          "font": {
           "size": 16
          },
          "showarrow": false,
          "text": "Daily Revenue Trend",
          "x": 0.775,
          "xanchor": "center",
          "xref": "paper",
          "y": 0.375,
          "yanchor": "bottom",
          "yref": "paper"
         }
        ],
        "height": 800,
        "showlegend": false,
        "template": {
         "data": {
          "bar": [
           {
            "error_x": {
             "color": "#2a3f5f"
            },
            "error_y": {
             "color": "#2a3f5f"
            },
            "marker": {
             "line": {
              "color": "#E5ECF6",
              "width": 0.5
             },
             "pattern": {
              "fillmode": "overlay",
              "size": 10,
              "solidity": 0.2
             }
            },
            "type": "bar"
           }
          ],
          "barpolar": [
           {
            "marker": {
             "line": {
              "color": "#E5ECF6",
              "width": 0.5
             },
             "pattern": {
              "fillmode": "overlay",
              "size": 10,
              "solidity": 0.2
             }
            },
            "type": "barpolar"
           }
          ],
          "carpet": [
           {
            "aaxis": {
             "endlinecolor": "#2a3f5f",
             "gridcolor": "white",
             "linecolor": "white",
             "minorgridcolor": "white",
             "startlinecolor": "#2a3f5f"
            },
            "baxis": {
             "endlinecolor": "#2a3f5f",
             "gridcolor": "white",
             "linecolor": "white",
             "minorgridcolor": "white",
             "startlinecolor": "#2a3f5f"
            },
            "type": "carpet"
           }
          ],
          "choropleth": [
           {
            "colorbar": {
             "outlinewidth": 0,
             "ticks": ""
            },
            "type": "choropleth"
           }
          ],
          "contour": [
           {
            "colorbar": {
             "outlinewidth": 0,
             "ticks": ""
            },
            "colorscale": [
             [
              0,
              "#0d0887"
             ],
             [
              0.1111111111111111,
              "#46039f"
             ],
             [
              0.2222222222222222,
              "#7201a8"
             ],
             [
              0.3333333333333333,
              "#9c179e"
             ],
             [
              0.4444444444444444,
              "#bd3786"
             ],
             [
              0.5555555555555556,
              "#d8576b"
             ],
             [
              0.6666666666666666,
              "#ed7953"
             ],
             [
              0.7777777777777778,
              "#fb9f3a"
             ],
             [
              0.8888888888888888,
              "#fdca26"
             ],
             [
              1,
              "#f0f921"
             ]
            ],
            "type": "contour"
           }
          ],
          "contourcarpet": [
           {
            "colorbar": {
             "outlinewidth": 0,
             "ticks": ""
            },
            "type": "contourcarpet"
           }
          ],
          "heatmap": [
           {
            "colorbar": {
             "outlinewidth": 0,
             "ticks": ""
            },
            "colorscale": [
             [
              0,
              "#0d0887"
             ],
             [
              0.1111111111111111,
              "#46039f"
             ],
             [
              0.2222222222222222,
              "#7201a8"
             ],
             [
              0.3333333333333333,
              "#9c179e"
             ],
             [
              0.4444444444444444,
              "#bd3786"
             ],
             [
              0.5555555555555556,
              "#d8576b"
             ],
             [
              0.6666666666666666,
              "#ed7953"
             ],
             [
              0.7777777777777778,
              "#fb9f3a"
             ],
             [
              0.8888888888888888,
              "#fdca26"
             ],
             [
              1,
              "#f0f921"
             ]
            ],
            "type": "heatmap"
           }
          ],
          "histogram": [
           {
            "marker": {
             "pattern": {
              "fillmode": "overlay",
              "size": 10,
              "solidity": 0.2
             }
            },
            "type": "histogram"
           }
          ],
          "histogram2d": [
           {
            "colorbar": {
             "outlinewidth": 0,
             "ticks": ""
            },
            "colorscale": [
             [
              0,
              "#0d0887"
             ],
             [
              0.1111111111111111,
              "#46039f"
             ],
             [
              0.2222222222222222,
              "#7201a8"
             ],
             [
              0.3333333333333333,
              "#9c179e"
             ],
             [
              0.4444444444444444,
              "#bd3786"
             ],
             [
              0.5555555555555556,
              "#d8576b"
             ],
             [
              0.6666666666666666,
              "#ed7953"
             ],
             [
              0.7777777777777778,
              "#fb9f3a"
             ],
             [
              0.8888888888888888,
              "#fdca26"
             ],
             [
              1,
              "#f0f921"
             ]
            ],
            "type": "histogram2d"
           }
          ],
          "histogram2dcontour": [
           {
            "colorbar": {
             "outlinewidth": 0,
             "ticks": ""
            },
            "colorscale": [
             [
              0,
              "#0d0887"
             ],
             [
              0.1111111111111111,
              "#46039f"
             ],
             [
              0.2222222222222222,
              "#7201a8"
             ],
             [
              0.3333333333333333,
              "#9c179e"
             ],
             [
              0.4444444444444444,
              "#bd3786"
             ],
             [
              0.5555555555555556,
              "#d8576b"
             ],
             [
              0.6666666666666666,
              "#ed7953"
             ],
             [
              0.7777777777777778,
              "#fb9f3a"
             ],
             [
              0.8888888888888888,
              "#fdca26"
             ],
             [
              1,
              "#f0f921"
             ]
            ],
            "type": "histogram2dcontour"
           }
          ],
          "mesh3d": [
           {
            "colorbar": {
             "outlinewidth": 0,
             "ticks": ""
            },
            "type": "mesh3d"
           }
          ],
          "parcoords": [
           {
            "line": {
             "colorbar": {
              "outlinewidth": 0,
              "ticks": ""
             }
            },
            "type": "parcoords"
           }
          ],
          "pie": [
           {
            "automargin": true,
            "type": "pie"
           }
          ],
          "scatter": [
           {
            "fillpattern": {
             "fillmode": "overlay",
             "size": 10,
             "solidity": 0.2
            },
            "type": "scatter"
           }
          ],
          "scatter3d": [
           {
            "line": {
             "colorbar": {
              "outlinewidth": 0,
              "ticks": ""
             }
            },
            "marker": {
             "colorbar": {
              "outlinewidth": 0,
              "ticks": ""
             }
            },
            "type": "scatter3d"
           }
          ],
          "scattercarpet": [
           {
            "marker": {
             "colorbar": {
              "outlinewidth": 0,
              "ticks": ""
             }
            },
            "type": "scattercarpet"
           }
          ],
          "scattergeo": [
           {
            "marker": {
             "colorbar": {
              "outlinewidth": 0,
              "ticks": ""
             }
            },
            "type": "scattergeo"
           }
          ],
          "scattergl": [
           {
            "marker": {
             "colorbar": {
              "outlinewidth": 0,
              "ticks": ""
             }
            },
            "type": "scattergl"
           }
          ],
          "scattermap": [
           {
            "marker": {
             "colorbar": {
              "outlinewidth": 0,
              "ticks": ""
             }
            },
            "type": "scattermap"
           }
          ],
          "scattermapbox": [
           {
            "marker": {
             "colorbar": {
              "outlinewidth": 0,
              "ticks": ""
             }
            },
            "type": "scattermapbox"
           }
          ],
          "scatterpolar": [
           {
            "marker": {
             "colorbar": {
              "outlinewidth": 0,
              "ticks": ""
             }
            },
            "type": "scatterpolar"
           }
          ],
          "scatterpolargl": [
           {
            "marker": {
             "colorbar": {
              "outlinewidth": 0,
              "ticks": ""
             }
            },
            "type": "scatterpolargl"
           }
          ],
          "scatterternary": [
           {
            "marker": {
             "colorbar": {
              "outlinewidth": 0,
              "ticks": ""
             }
            },
            "type": "scatterternary"
           }
          ],
          "surface": [
           {
            "colorbar": {
             "outlinewidth": 0,
             "ticks": ""
            },
            "colorscale": [
             [
              0,
              "#0d0887"
             ],
             [
              0.1111111111111111,
              "#46039f"
             ],
             [
              0.2222222222222222,
              "#7201a8"
             ],
             [
              0.3333333333333333,
              "#9c179e"
             ],
             [
              0.4444444444444444,
              "#bd3786"
             ],
             [
              0.5555555555555556,
              "#d8576b"
             ],
             [
              0.6666666666666666,
              "#ed7953"
             ],
             [
              0.7777777777777778,
              "#fb9f3a"
             ],
             [
              0.8888888888888888,
              "#fdca26"
             ],
             [
              1,
              "#f0f921"
             ]
            ],
            "type": "surface"
           }
          ],
          "table": [
           {
            "cells": {
             "fill": {
              "color": "#EBF0F8"
             },
             "line": {
              "color": "white"
             }
            },
            "header": {
             "fill": {
              "color": "#C8D4E3"
             },
             "line": {
              "color": "white"
             }
            },
            "type": "table"
           }
          ]
         },
         "layout": {
          "annotationdefaults": {
           "arrowcolor": "#2a3f5f",
           "arrowhead": 0,
           "arrowwidth": 1
          },
          "autotypenumbers": "strict",
          "coloraxis": {
           "colorbar": {
            "outlinewidth": 0,
            "ticks": ""
           }
          },
          "colorscale": {
           "diverging": [
            [
             0,
             "#8e0152"
            ],
            [
             0.1,
             "#c51b7d"
            ],
            [
             0.2,
             "#de77ae"
            ],
            [
             0.3,
             "#f1b6da"
            ],
            [
             0.4,
             "#fde0ef"
            ],
            [
             0.5,
             "#f7f7f7"
            ],
            [
             0.6,
             "#e6f5d0"
            ],
            [
             0.7,
             "#b8e186"
            ],
            [
             0.8,
             "#7fbc41"
            ],
            [
             0.9,
             "#4d9221"
            ],
            [
             1,
             "#276419"
            ]
           ],
           "sequential": [
            [
             0,
             "#0d0887"
            ],
            [
             0.1111111111111111,
             "#46039f"
            ],
            [
             0.2222222222222222,
             "#7201a8"
            ],
            [
             0.3333333333333333,
             "#9c179e"
            ],
            [
             0.4444444444444444,
             "#bd3786"
            ],
            [
             0.5555555555555556,
             "#d8576b"
            ],
            [
             0.6666666666666666,
             "#ed7953"
            ],
            [
             0.7777777777777778,
             "#fb9f3a"
            ],
            [
             0.8888888888888888,
             "#fdca26"
            ],
            [
             1,
             "#f0f921"
            ]
           ],
           "sequentialminus": [
            [
             0,
             "#0d0887"
            ],
            [
             0.1111111111111111,
             "#46039f"
            ],
            [
             0.2222222222222222,
             "#7201a8"
            ],
            [
             0.3333333333333333,
             "#9c179e"
            ],
            [
             0.4444444444444444,
             "#bd3786"
            ],
            [
             0.5555555555555556,
             "#d8576b"
            ],
            [
             0.6666666666666666,
             "#ed7953"
            ],
            [
             0.7777777777777778,
             "#fb9f3a"
            ],
            [
             0.8888888888888888,
             "#fdca26"
            ],
            [
             1,
             "#f0f921"
            ]
           ]
          },
          "colorway": [
           "#636efa",
           "#EF553B",
           "#00cc96",
           "#ab63fa",
           "#FFA15A",
           "#19d3f3",
           "#FF6692",
           "#B6E880",
           "#FF97FF",
           "#FECB52"
          ],
          "font": {
           "color": "#2a3f5f"
          },
          "geo": {
           "bgcolor": "white",
           "lakecolor": "white",
           "landcolor": "#E5ECF6",
           "showlakes": true,
           "showland": true,
           "subunitcolor": "white"
          },
          "hoverlabel": {
           "align": "left"
          },
          "hovermode": "closest",
          "mapbox": {
           "style": "light"
          },
          "paper_bgcolor": "white",
          "plot_bgcolor": "#E5ECF6",
          "polar": {
           "angularaxis": {
            "gridcolor": "white",
            "linecolor": "white",
            "ticks": ""
           },
           "bgcolor": "#E5ECF6",
           "radialaxis": {
            "gridcolor": "white",
            "linecolor": "white",
            "ticks": ""
           }
          },
          "scene": {
           "xaxis": {
            "backgroundcolor": "#E5ECF6",
            "gridcolor": "white",
            "gridwidth": 2,
            "linecolor": "white",
            "showbackground": true,
            "ticks": "",
            "zerolinecolor": "white"
           },
           "yaxis": {
            "backgroundcolor": "#E5ECF6",
            "gridcolor": "white",
            "gridwidth": 2,
            "linecolor": "white",
            "showbackground": true,
            "ticks": "",
            "zerolinecolor": "white"
           },
           "zaxis": {
            "backgroundcolor": "#E5ECF6",
            "gridcolor": "white",
            "gridwidth": 2,
            "linecolor": "white",
            "showbackground": true,
            "ticks": "",
            "zerolinecolor": "white"
           }
          },
          "shapedefaults": {
           "line": {
            "color": "#2a3f5f"
           }
          },
          "ternary": {
           "aaxis": {
            "gridcolor": "white",
            "linecolor": "white",
            "ticks": ""
           },
           "baxis": {
            "gridcolor": "white",
            "linecolor": "white",
            "ticks": ""
           },
           "bgcolor": "#E5ECF6",
           "caxis": {
            "gridcolor": "white",
            "linecolor": "white",
            "ticks": ""
           }
          },
          "title": {
           "x": 0.05
          },
          "xaxis": {
           "automargin": true,
           "gridcolor": "white",
           "linecolor": "white",
           "ticks": "",
           "title": {
            "standoff": 15
           },
           "zerolinecolor": "white",
           "zerolinewidth": 2
          },
          "yaxis": {
           "automargin": true,
           "gridcolor": "white",
           "linecolor": "white",
           "ticks": "",
           "title": {
            "standoff": 15
           },
           "zerolinecolor": "white",
           "zerolinewidth": 2
          }
         }
        },
        "title": {
         "text": "Coffee Sales Analysis Dashboard"
        },
        "xaxis": {
         "anchor": "y",
         "domain": [
          0,
          0.45
         ]
        },
        "xaxis2": {
         "anchor": "y2",
         "domain": [
          0.55,
          1
         ]
        },
        "xaxis3": {
         "anchor": "y3",
         "domain": [
          0,
          0.45
         ]
        },
        "xaxis4": {
         "anchor": "y4",
         "domain": [
          0.55,
          1
         ]
        },
        "yaxis": {
         "anchor": "x",
         "domain": [
          0.625,
          1
         ]
        },
        "yaxis2": {
         "anchor": "x2",
         "domain": [
          0.625,
          1
         ]
        },
        "yaxis3": {
         "anchor": "x3",
         "domain": [
          0,
          0.375
         ]
        },
        "yaxis4": {
         "anchor": "x4",
         "domain": [
          0,
          0.375
         ]
        }
       }
      }
     },
     "metadata": {},
     "output_type": "display_data"
    }
   ],
   "source": [
    "# Create comprehensive visualizations\n",
    "fig = make_subplots(\n",
    " rows=2, cols=2,\n",
    " subplot_titles=['Revenue Distribution', 'Sales by Coffee Type',\n",
    " 'Sales by Time of Day', 'Daily Revenue Trend'],\n",
    " specs=[[{\"secondary_y\": False}, {\"secondary_y\": False}],\n",
    " [{\"secondary_y\": False}, {\"secondary_y\": False}]]\n",
    ")\n",
    "\n",
    "# 1. Revenue distribution histogram\n",
    "fig.add_trace(go.Histogram(\n",
    " x=df['revenue'],\n",
    " name='Revenue Distribution',\n",
    " nbinsx=30,\n",
    " marker_color='lightblue'\n",
    "), row=1, col=1)\n",
    "\n",
    "# 2. Sales by coffee type\n",
    "coffee_counts = df['coffee_name'].value_counts().head(10)\n",
    "fig.add_trace(go.Bar(\n",
    " x=coffee_counts.index,\n",
    " y=coffee_counts.values,\n",
    " name='Coffee Sales',\n",
    " marker_color='brown'\n",
    "), row=1, col=2)\n",
    "\n",
    "# 3. Sales by time of day\n",
    "time_counts = df['Time_of_Day'].value_counts()\n",
    "fig.add_trace(go.Bar(\n",
    " x=time_counts.index,\n",
    " y=time_counts.values,\n",
    " name='Time Analysis',\n",
    " marker_color='orange'\n",
    "), row=2, col=1)\n",
    "\n",
    "# 4. Daily revenue trend\n",
    "daily_revenue = df.groupby('Date')['revenue'].sum().reset_index()\n",
    "fig.add_trace(go.Scatter(\n",
    " x=daily_revenue['Date'],\n",
    " y=daily_revenue['revenue'],\n",
    " mode='lines',\n",
    " name='Daily Revenue',\n",
    " line={'color': 'green', 'width': 2}\n",
    "), row=2, col=2)\n",
    "\n",
    "fig.update_layout(\n",
    " height=800,\n",
    " title_text=\"Coffee Sales Analysis Dashboard\",\n",
    " showlegend=False\n",
    ")\n",
    "\n",
    "fig.show()"
   ]
  },
  {
   "cell_type": "markdown",
   "id": "2010f6bc",
   "metadata": {},
   "source": [
    "## 7. Key Insights Summary\\n\n",
    "\\n\n",
    "Generate a professional summary of findings:"
   ]
  },
  {
   "cell_type": "code",
   "execution_count": 18,
   "id": "f4a79bc2",
   "metadata": {},
   "outputs": [
    {
     "name": "stdout",
     "output_type": "stream",
     "text": [
      "STATISTICAL ANALYSIS & INSIGHTS:\n",
      "==================================================\n",
      "\n",
      "1. REVENUE BY TIME OF DAY (ANOVA Test):\n",
      "• F-statistic: 78.2178\n",
      "• P-value: 0.000000\n",
      "• Result: Significant difference in revenue by time of day!\n",
      "\n",
      "2. WEEKEND vs WEEKDAY COMPARISON (T-Test):\n",
      "• T-statistic: -0.5005\n",
      "• P-value: 0.616764\n",
      "• Weekend avg: $31.57\n",
      "• Weekday avg: $31.67\n",
      "\n",
      "3. TOP PERFORMING COFFEE TYPES:\n",
      "• Latte: 757 orders, $35.5 avg, $26,875 total\n",
      "• Americano with Milk: 809 orders, $30.59 avg, $24,751 total\n",
      "• Cappuccino: 486 orders, $35.88 avg, $17,439 total\n",
      "• Americano: 564 orders, $25.98 avg, $14,650 total\n",
      "• Hot Chocolate: 276 orders, $35.99 avg, $9,933 total\n",
      "\n",
      "4. TIME-BASED PATTERNS:\n",
      "• Afternoon: 1205 transactions, $31.64 average\n",
      "• Morning: 1181 transactions, $30.42 average\n",
      "• Night: 1161 transactions, $32.89 average\n",
      "\n",
      "5. KEY BUSINESS INSIGHTS:\n",
      "• Total Revenue: $112,245.58\n",
      "• Total Transactions: 3,547\n",
      "• Average Transaction: $31.65\n",
      "• Best Day: Tuesday\n",
      "• Top Coffee: Latte\n",
      "• Best Time Period: Night\n",
      "• Business Strategy: Focus on premium coffee types during peak periods\n",
      "• Product Strategy: Promote Latte during night hours\n"
     ]
    }
   ],
   "source": [
    "# Perform statistical tests and generate insights\n",
    "print(\"STATISTICAL ANALYSIS & INSIGHTS:\")\n",
    "print(\"=\" * 50)\n",
    "\n",
    "# 1. Revenue comparison by time of day\n",
    "morning_revenue = df[df['Time_of_Day'] == 'Morning']['revenue']\n",
    "afternoon_revenue = df[df['Time_of_Day'] == 'Afternoon']['revenue']\n",
    "night_revenue = df[df['Time_of_Day'] == 'Night']['revenue']\n",
    "\n",
    "# Statistical test - ANOVA for time periods\n",
    "stat, p_value = f_oneway(morning_revenue, afternoon_revenue, night_revenue)\n",
    "print(\"\\n1. REVENUE BY TIME OF DAY (ANOVA Test):\")\n",
    "print(f\"• F-statistic: {stat:.4f}\")\n",
    "print(f\"• P-value: {p_value:.6f}\")\n",
    "if p_value < 0.05:\n",
    "    print(\"• Result: Significant difference in revenue by time of day!\")\n",
    "else:\n",
    "    print(\"• Result: No significant difference in revenue by time of day\")\n",
    "\n",
    "# 2. Weekend vs Weekday analysis (since all payments are cards)\n",
    "weekend_revenue = df[df['is_weekend']]['revenue']\n",
    "weekday_revenue = df[~df['is_weekend']]['revenue']\n",
    "\n",
    "if len(weekend_revenue) > 0:\n",
    "    stat, p_value = ttest_ind(weekend_revenue, weekday_revenue)\n",
    "    print(\"\\n2. WEEKEND vs WEEKDAY COMPARISON (T-Test):\")\n",
    "    print(f\"• T-statistic: {stat:.4f}\")\n",
    "    print(f\"• P-value: {p_value:.6f}\")\n",
    "    print(f\"• Weekend avg: ${weekend_revenue.mean():.2f}\")\n",
    "    print(f\"• Weekday avg: ${weekday_revenue.mean():.2f}\")\n",
    "else:\n",
    "    print(\"\\n2. WEEKEND vs WEEKDAY COMPARISON:\")\n",
    "    print(\"• No weekend data available in current dataset\")\n",
    "\n",
    "# 3. Coffee type profitability\n",
    "print(\"\\n3. TOP PERFORMING COFFEE TYPES:\")\n",
    "coffee_stats = df.groupby('coffee_name').agg({\n",
    "    'revenue': ['count', 'mean', 'sum']\n",
    "}).round(2)\n",
    "coffee_stats.columns = ['Orders', 'Avg_Price', 'Total_Revenue']\n",
    "coffee_stats = coffee_stats.sort_values('Total_Revenue', ascending=False)\n",
    "\n",
    "for coffee in coffee_stats.head().index:\n",
    "    orders = coffee_stats.loc[coffee, 'Orders']\n",
    "    avg_price = coffee_stats.loc[coffee, 'Avg_Price']\n",
    "    total = coffee_stats.loc[coffee, 'Total_Revenue']\n",
    "    print(f\"• {coffee}: {orders} orders, ${avg_price} avg, ${total:,.0f} total\")\n",
    "\n",
    "# 4. Time-based insights\n",
    "print(\"\\n4. TIME-BASED PATTERNS:\")\n",
    "time_stats = df.groupby('Time_of_Day')['revenue'].agg(['count', 'mean']).round(2)\n",
    "for time_period in time_stats.index:\n",
    "    count = time_stats.loc[time_period, 'count']\n",
    "    avg = time_stats.loc[time_period, 'mean']\n",
    "    print(f\"• {time_period}: {count} transactions, ${avg} average\")\n",
    "\n",
    "# 5. Business insights\n",
    "print(\"\\n5. KEY BUSINESS INSIGHTS:\")\n",
    "total_revenue = df['revenue'].sum()\n",
    "total_transactions = len(df)\n",
    "avg_transaction = df['revenue'].mean()\n",
    "best_day = df.groupby('day_name')['revenue'].sum().idxmax()\n",
    "best_coffee = df.groupby('coffee_name')['revenue'].sum().idxmax()\n",
    "best_time = df.groupby('Time_of_Day')['revenue'].mean().idxmax()\n",
    "\n",
    "print(f\"• Total Revenue: ${total_revenue:,.2f}\")\n",
    "print(f\"• Total Transactions: {total_transactions:,}\")\n",
    "print(f\"• Average Transaction: ${avg_transaction:.2f}\")\n",
    "print(f\"• Best Day: {best_day}\")\n",
    "print(f\"• Top Coffee: {best_coffee}\")\n",
    "print(f\"• Best Time Period: {best_time}\")\n",
    "print(\"• Business Strategy: Focus on premium coffee types during peak periods\")\n",
    "print(f\"• Product Strategy: Promote {best_coffee} during {best_time.lower()} hours\")"
   ]
  },
  {
   "cell_type": "markdown",
   "id": "70e6d4ca",
   "metadata": {},
   "source": [
    "---\n",
    "\n",
    "## Summary and Next Steps\n",
    "\n",
    "### **What You've Accomplished:**\n",
    "- **Data Loading**: Successfully loaded and preprocessed real coffee sales data\n",
    "- **Descriptive Analytics**: Calculated comprehensive statistics for business insights\n",
    "- **Statistical Testing**: Performed ANOVA and t-tests for significant findings\n",
    "- **Visualization**: Created professional dashboards for business reporting\n",
    "- **Business Intelligence**: Generated actionable recommendations from data\n",
    "\n",
    "### **Key Coffee Sales Insights Discovered:**\n",
    "1. **Revenue Patterns**: Identified optimal pricing and peak sales periods\n",
    "2. **Product Performance**: Determined top-performing coffee types and profitability\n",
    "3. **Customer Behavior**: Analyzed payment preferences and time-of-day patterns\n",
    "4. **Statistical Significance**: Validated findings with proper hypothesis testing\n",
    "5. **Business Strategy**: Provided data-driven recommendations for growth\n",
    "\n",
    "### **Next Learning Steps:**\n",
    "\n",
    "#### **Continue Your Analytics Journey:**\n",
    "- **Machine Learning**: `machine_learning_example.ipynb` - Predict customer churn with Spotify data\n",
    "- **Time Series**: `time_series_example.ipynb` - Forecast sales trends and seasonality\n",
    "- **Advanced Stats**: `notebooks/tier1_descriptive/Tier1_Distribution.ipynb` - Deep dive into distributions\n",
    "\n",
    "#### **Tier Progression Path:**\n",
    "- **Tier 1**: Master foundational descriptive analytics and visualization\n",
    "- **Tier 2**: Learn supervised/unsupervised machine learning techniques\n",
    "- **Tier 3**: Advance to time series analysis and forecasting methods\n",
    "- **Tier 4**: Explore clustering and dimensionality reduction\n",
    "- **Tier 5**: Apply ensemble methods and advanced classification\n",
    "- **Tier 6**: Implement anomaly detection and outlier analysis\n",
    "\n",
    "### 🏢 **Business Applications:**\n",
    "- **Retail Analytics**: Apply these techniques to your sales data\n",
    "- **Performance Monitoring**: Create dashboards for business KPIs\n",
    "- **Data-Driven Decisions**: Use statistical tests to validate business strategies\n",
    "- **Reporting Automation**: Implement these analyses in production systems\n",
    "\n",
    "### 🔗 **Professional Development:**\n",
    "- **Portfolio Project**: Use this example as a foundation for your data science portfolio\n",
    "- **Real-World Skills**: These techniques directly apply to business intelligence roles\n",
    "- **Best Practices**: Professional formatting and documentation standards demonstrated\n",
    "\n",
    "---\n",
    "\n",
    "> **Next Recommendation**: Try `machine_learning_example.ipynb` to learn predictive modeling with Random Forest!\n",
    "\n",
    "---\n",
    "\n",
    "*Thank you for completing the Quick Start Data Analysis example. Continue building your analytics expertise with the comprehensive Quipu Analytics Suite.*"
   ]
  },
  {
   "cell_type": "code",
   "execution_count": null,
   "id": "ab775f7a-e06c-4600-a80e-daf7d7a16629",
   "metadata": {},
   "outputs": [],
   "source": []
  },
  {
   "cell_type": "code",
   "execution_count": null,
   "id": "e9155420-a7dd-4bdc-9e14-17989f4b82ec",
   "metadata": {},
   "outputs": [],
   "source": []
  }
 ],
 "metadata": {
  "kernelspec": {
   "display_name": ".venv",
   "language": "python",
   "name": "python3"
  },
  "language_info": {
   "codemirror_mode": {
    "name": "ipython",
    "version": 3
   },
   "file_extension": ".py",
   "mimetype": "text/x-python",
   "name": "python",
   "nbconvert_exporter": "python",
   "pygments_lexer": "ipython3",
   "version": "3.13.7"
  }
 },
 "nbformat": 4,
 "nbformat_minor": 5
}
